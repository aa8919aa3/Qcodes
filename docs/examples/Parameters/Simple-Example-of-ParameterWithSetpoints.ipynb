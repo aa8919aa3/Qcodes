{
 "cells": [
  {
   "cell_type": "markdown",
   "metadata": {},
   "source": [
    "# Simple Example of ParameterWithSetpoints\n",
    "This notebook has an example of writing a simple driver with a parameter that has setpoints. Let's name this parameter that has setpoints as \"y\". Then the setpoints say \"x1, x2, x3 ..\" are the parameters on which the parameter \n",
    "\"y\" depends upon. Meaning \"y\" is a function of \"x1, x2, x3 ...\" where \"x1, x2, x3 ...\" are known as the setpoints of parameter \"y\".\n",
    "\n",
    "This is most likely to be useful for instruments that return arrays of results. In this notebook, we will show an example of this."
   ]
  },
  {
   "cell_type": "code",
   "execution_count": 1,
   "metadata": {},
   "outputs": [],
   "source": [
    "import numpy as np"
   ]
  },
  {
   "cell_type": "code",
   "execution_count": 2,
   "metadata": {},
   "outputs": [],
   "source": [
    "from qcodes.dataset.plotting import plot_dataset\n",
    "from qcodes.utils.validators import Numbers, Arrays\n",
    "from qcodes.instrument.base import Instrument\n",
    "from qcodes.dataset.measurements import Measurement"
   ]
  },
  {
   "cell_type": "code",
   "execution_count": 3,
   "metadata": {},
   "outputs": [],
   "source": [
    "from qcodes.dataset.sqlite.database import initialise_database\n",
    "from qcodes.dataset.experiment_container import load_or_create_experiment"
   ]
  },
  {
   "cell_type": "code",
   "execution_count": 4,
   "metadata": {},
   "outputs": [],
   "source": [
    "from qcodes.instrument.parameter import ParameterWithSetpoints, Parameter\n",
    "from qcodes.instrument.parameter import expand_setpoints_helper"
   ]
  },
  {
   "cell_type": "markdown",
   "metadata": {},
   "source": [
    "First, we define a dummy instrument that returns something like a frequency spectrum starting from a frequency given by `f_start` to a frequency given by `f_stop` in `n_points` steps. \n",
    "\n",
    "The extra functionality of the `ParameterWithSetpoints` is implemented by giving it a reference to one or more parameters that acts like its setpoints. \n",
    "\n",
    "To setup a `ParameterWithSetpoints` we have to do two things in addition to what we do for a normal parameter.\n",
    "\n",
    "* Define one or more parameter for the setpoints (one for each dimension of the array and let the `ParameterWithSetpoints` know that these are the setpoints.\n",
    "* Give both the setpoints parameter(s) and the `ParameterWithSetpoints` a `validator` of type `Arrays` with a shape. The shapes should be such that the combined shape of the setpoints matches the shape of the `ParameterWithSetpoints`. Note that if the shape changes with the setting of the instrument, it can be defined by another parameter as shown below. "
   ]
  },
  {
   "cell_type": "code",
   "execution_count": 5,
   "metadata": {},
   "outputs": [],
   "source": [
    "class GeneratedSetPoints(Parameter):\n",
    "    \"\"\"\n",
    "    A parameter that generates a setpoint array from start, stop and num points\n",
    "    parameters.\n",
    "    \"\"\"\n",
    "    def __init__(self, startparam, stopparam, numpointsparam, *args, **kwargs):\n",
    "        super().__init__(*args, **kwargs)\n",
    "        self._startparam = startparam\n",
    "        self._stopparam = stopparam\n",
    "        self._numpointsparam = numpointsparam\n",
    "\n",
    "    def get_raw(self):\n",
    "        return np.linspace(self._startparam(), self._stopparam(),\n",
    "                              self._numpointsparam())\n",
    "\n",
    "class DummyArray(ParameterWithSetpoints):\n",
    "    \n",
    "    def get_raw(self):\n",
    "        npoints = self.root_instrument.n_points.get_latest()\n",
    "        return np.random.rand(npoints)\n",
    "    \n",
    "\n",
    "class DummySpectrumAnalyzer(Instrument):\n",
    "    \n",
    "    def __init__(self, name, **kwargs):\n",
    "        \n",
    "        super().__init__(name, **kwargs)\n",
    "            \n",
    "\n",
    "        self.add_parameter('f_start',\n",
    "                           initial_value=0,\n",
    "                           unit='Hz',\n",
    "                           label='f start',\n",
    "                           vals=Numbers(0,1e3),\n",
    "                           get_cmd=None,\n",
    "                           set_cmd=None)\n",
    "\n",
    "        self.add_parameter('f_stop',\n",
    "                           unit='Hz',\n",
    "                           label='f stop',\n",
    "                           vals=Numbers(1,1e3),\n",
    "                           get_cmd=None,\n",
    "                           set_cmd=None)\n",
    "\n",
    "        self.add_parameter('n_points',\n",
    "                           unit='',\n",
    "                           initial_value=10,\n",
    "                           vals=Numbers(1,1e3),\n",
    "                           get_cmd=None,\n",
    "                           set_cmd=None)\n",
    "        \n",
    "        self.add_parameter('freq_axis',\n",
    "                           unit='Hz',\n",
    "                           label='Freq Axis',\n",
    "                           parameter_class=GeneratedSetPoints,\n",
    "                           startparam=self.f_start,\n",
    "                           stopparam=self.f_stop,\n",
    "                           numpointsparam=self.n_points,\n",
    "                           vals=Arrays(shape=(self.n_points.get_latest,)))\n",
    "                           \n",
    "        self.add_parameter('spectrum',\n",
    "                   unit='dBm',\n",
    "                   setpoints=(self.freq_axis,),\n",
    "                   label='Spectrum',\n",
    "                   parameter_class=DummyArray,\n",
    "                   vals=Arrays(shape=(self.n_points.get_latest,)))\n",
    "                "
   ]
  },
  {
   "cell_type": "markdown",
   "metadata": {},
   "source": [
    "In the above example, the shape is defined by the parameter `n_points` that defines how many samples our \"SpectrumAnalyzer\" returns."
   ]
  },
  {
   "cell_type": "markdown",
   "metadata": {},
   "source": [
    "This means that the validation will call the function to get `n_points` twice for each `get` of the parameter. This may be too slow, however, if you (as the driver-writer) can guarantee that the cached value for `n_points` will never be out of sync with the value stored in the instrument, `n_points` may be replaced by it's latest known value such that the `validator` reads:\n",
    "```python\n",
    "vals=Arrays(shape=(self.n_points.get_latest))\n",
    "```\n",
    "\n",
    "This avoids any additional call to the instrument. In the same way, the arguments to the `freq_axis` parameter that defines the start, stop and number of points can be replaced by their latest value if the instrument allows it.\n",
    "\n"
   ]
  },
  {
   "cell_type": "code",
   "execution_count": 6,
   "metadata": {},
   "outputs": [
    {
     "data": {
      "text/plain": [
       "tutorial_ParameterWithSetpoints#no sample#15@C:\\Users\\a-halakh\\experiments.db\n",
       "-----------------------------------------------------------------------------"
      ]
     },
     "execution_count": 6,
     "metadata": {},
     "output_type": "execute_result"
    }
   ],
   "source": [
    "initialise_database()\n",
    "load_or_create_experiment(experiment_name='tutorial_ParameterWithSetpoints', sample_name=\"no sample\")"
   ]
  },
  {
   "cell_type": "code",
   "execution_count": 7,
   "metadata": {},
   "outputs": [],
   "source": [
    "a = DummySpectrumAnalyzer('foobar')"
   ]
  },
  {
   "cell_type": "markdown",
   "metadata": {},
   "source": [
    "First we setup the limits of the spectrum"
   ]
  },
  {
   "cell_type": "code",
   "execution_count": 8,
   "metadata": {},
   "outputs": [],
   "source": [
    "a.f_start(0)\n",
    "a.f_stop(500)\n",
    "a.n_points(501)"
   ]
  },
  {
   "cell_type": "markdown",
   "metadata": {},
   "source": [
    "And we can grab the frequency axis"
   ]
  },
  {
   "cell_type": "code",
   "execution_count": 9,
   "metadata": {},
   "outputs": [
    {
     "data": {
      "text/plain": [
       "501"
      ]
     },
     "execution_count": 9,
     "metadata": {},
     "output_type": "execute_result"
    }
   ],
   "source": [
    "a.n_points()"
   ]
  },
  {
   "cell_type": "code",
   "execution_count": 10,
   "metadata": {
    "scrolled": false
   },
   "outputs": [
    {
     "data": {
      "text/plain": [
       "501"
      ]
     },
     "execution_count": 10,
     "metadata": {},
     "output_type": "execute_result"
    }
   ],
   "source": [
    "freq_axis = a.freq_axis()\n",
    "len(freq_axis)"
   ]
  },
  {
   "cell_type": "code",
   "execution_count": 11,
   "metadata": {},
   "outputs": [
    {
     "data": {
      "text/plain": [
       "array([0., 1., 2., 3., 4., 5., 6., 7., 8., 9.])"
      ]
     },
     "execution_count": 11,
     "metadata": {},
     "output_type": "execute_result"
    }
   ],
   "source": [
    "freq_axis[:10]"
   ]
  },
  {
   "cell_type": "markdown",
   "metadata": {},
   "source": [
    "As expected we get a result wit 501 points as we asked for an axis with 501 points. "
   ]
  },
  {
   "cell_type": "markdown",
   "metadata": {},
   "source": [
    "Above we have added a validator to the `freq_axis` parameter encoding the fact that this is an Array with `n_points`. Note that we do not have to supply the number of points as an integer but can supply a function that returns the valid number of points. This would normally be a QCoDeS parameter.\n",
    "\n",
    "This will be checked if we validate the output."
   ]
  },
  {
   "cell_type": "code",
   "execution_count": 16,
   "metadata": {},
   "outputs": [],
   "source": [
    "a.freq_axis.validate(a.freq_axis.get())"
   ]
  },
  {
   "cell_type": "markdown",
   "metadata": {},
   "source": [
    "Naturally, we can also get the spectrum. Getting the spectrum will automatically perform validation both for the shape of the parameter it self and the relation to the setpoint parameter(s)"
   ]
  },
  {
   "cell_type": "code",
   "execution_count": 17,
   "metadata": {
    "scrolled": true
   },
   "outputs": [
    {
     "data": {
      "text/plain": [
       "501"
      ]
     },
     "execution_count": 17,
     "metadata": {},
     "output_type": "execute_result"
    }
   ],
   "source": [
    "spectrum = a.spectrum.get()\n",
    "len(spectrum)"
   ]
  },
  {
   "cell_type": "markdown",
   "metadata": {},
   "source": [
    "When we validate a `ParameterWithSetpoints`, we automatically validate that the shape is consistent between the parameters and its setpoints. As well as validating the shape as above."
   ]
  },
  {
   "cell_type": "code",
   "execution_count": 18,
   "metadata": {},
   "outputs": [],
   "source": [
    "a.spectrum.validate(a.spectrum.get())"
   ]
  },
  {
   "cell_type": "markdown",
   "metadata": {},
   "source": [
    "The consistent shapes can be validated explicitly."
   ]
  },
  {
   "cell_type": "code",
   "execution_count": 19,
   "metadata": {},
   "outputs": [],
   "source": [
    "a.spectrum.validate_consistent_shape()"
   ]
  },
  {
   "cell_type": "markdown",
   "metadata": {},
   "source": [
    "We can inspect the setpoints of the spectrum."
   ]
  },
  {
   "cell_type": "code",
   "execution_count": 20,
   "metadata": {},
   "outputs": [
    {
     "data": {
      "text/plain": [
       "(<__main__.GeneratedSetPoints: freq_axis at 2932504954184>,)"
      ]
     },
     "execution_count": 20,
     "metadata": {},
     "output_type": "execute_result"
    }
   ],
   "source": [
    "a.spectrum.setpoints"
   ]
  },
  {
   "cell_type": "markdown",
   "metadata": {},
   "source": [
    "Or even change them."
   ]
  },
  {
   "cell_type": "code",
   "execution_count": 21,
   "metadata": {},
   "outputs": [],
   "source": [
    "a.spectrum.setpoints = (a.freq_axis,)"
   ]
  },
  {
   "cell_type": "markdown",
   "metadata": {},
   "source": [
    "## Measurement"
   ]
  },
  {
   "cell_type": "markdown",
   "metadata": {},
   "source": [
    "We can also directly consume the parameter in a measurement without defining the setpoints of the parameter again. The setpoints are automatically obtained from the definition of the `ParameterWithSetpoint` class. "
   ]
  },
  {
   "cell_type": "code",
   "execution_count": 30,
   "metadata": {},
   "outputs": [
    {
     "name": "stdout",
     "output_type": "stream",
     "text": [
      "Starting experimental run with id: 110\n"
     ]
    }
   ],
   "source": [
    "meas = Measurement()\n",
    "meas.register_parameter(a.spectrum)\n",
    "\n",
    "with meas.run() as datasaver:\n",
    "    datasaver.add_result((a.freq_axis, a.freq_axis()),\n",
    "                         (a.spectrum, a.spectrum()))\n",
    "    dataset = datasaver.dataset"
   ]
  },
  {
   "cell_type": "markdown",
   "metadata": {},
   "source": [
    "And plot it"
   ]
  },
  {
   "cell_type": "code",
   "execution_count": 28,
   "metadata": {},
   "outputs": [
    {
     "data": {
      "text/plain": [
       "([<matplotlib.axes._subplots.AxesSubplot at 0x2aac83cd488>], [None])"
      ]
     },
     "execution_count": 28,
     "metadata": {},
     "output_type": "execute_result"
    },
    {
     "data": {
      "image/png": "[encoded data removed]",
      "text/plain": [
       "<Figure size 432x288 with 1 Axes>"
      ]
     },
     "metadata": {
      "needs_background": "light"
     },
     "output_type": "display_data"
    }
   ],
   "source": [
    "plot_dataset(dataset)"
   ]
  },
  {
   "cell_type": "markdown",
   "metadata": {},
   "source": [
    "To reduce the amount of typing a simple convenience function is provided that will take a `ParameterWithSetpoints` and get both its values and the setpoints values and return them as tuples for direct insertion into the Dataset."
   ]
  },
  {
   "cell_type": "code",
   "execution_count": 35,
   "metadata": {
    "scrolled": true
   },
   "outputs": [
    {
     "data": {
      "text/plain": [
       "[(<__main__.GeneratedSetPoints: freq_axis at 2932504954184>,\n",
       "  array([  0.,   1.,   2.,   3.,   4.,   5.,   6.,   7.,   8.,   9.,  10.,\n",
       "          11.,  12.,  13.,  14.,  15.,  16.,  17.,  18.,  19.,  20.,  21.,\n",
       "          22.,  23.,  24.,  25.,  26.,  27.,  28.,  29.,  30.,  31.,  32.,\n",
       "          33.,  34.,  35.,  36.,  37.,  38.,  39.,  40.,  41.,  42.,  43.,\n",
       "          44.,  45.,  46.,  47.,  48.,  49.,  50.,  51.,  52.,  53.,  54.,\n",
       "          55.,  56.,  57.,  58.,  59.,  60.,  61.,  62.,  63.,  64.,  65.,\n",
       "          66.,  67.,  68.,  69.,  70.,  71.,  72.,  73.,  74.,  75.,  76.,\n",
       "          77.,  78.,  79.,  80.,  81.,  82.,  83.,  84.,  85.,  86.,  87.,\n",
       "          88.,  89.,  90.,  91.,  92.,  93.,  94.,  95.,  96.,  97.,  98.,\n",
       "          99., 100., 101., 102., 103., 104., 105., 106., 107., 108., 109.,\n",
       "         110., 111., 112., 113., 114., 115., 116., 117., 118., 119., 120.,\n",
       "         121., 122., 123., 124., 125., 126., 127., 128., 129., 130., 131.,\n",
       "         132., 133., 134., 135., 136., 137., 138., 139., 140., 141., 142.,\n",
       "         143., 144., 145., 146., 147., 148., 149., 150., 151., 152., 153.,\n",
       "         154., 155., 156., 157., 158., 159., 160., 161., 162., 163., 164.,\n",
       "         165., 166., 167., 168., 169., 170., 171., 172., 173., 174., 175.,\n",
       "         176., 177., 178., 179., 180., 181., 182., 183., 184., 185., 186.,\n",
       "         187., 188., 189., 190., 191., 192., 193., 194., 195., 196., 197.,\n",
       "         198., 199., 200., 201., 202., 203., 204., 205., 206., 207., 208.,\n",
       "         209., 210., 211., 212., 213., 214., 215., 216., 217., 218., 219.,\n",
       "         220., 221., 222., 223., 224., 225., 226., 227., 228., 229., 230.,\n",
       "         231., 232., 233., 234., 235., 236., 237., 238., 239., 240., 241.,\n",
       "         242., 243., 244., 245., 246., 247., 248., 249., 250., 251., 252.,\n",
       "         253., 254., 255., 256., 257., 258., 259., 260., 261., 262., 263.,\n",
       "         264., 265., 266., 267., 268., 269., 270., 271., 272., 273., 274.,\n",
       "         275., 276., 277., 278., 279., 280., 281., 282., 283., 284., 285.,\n",
       "         286., 287., 288., 289., 290., 291., 292., 293., 294., 295., 296.,\n",
       "         297., 298., 299., 300., 301., 302., 303., 304., 305., 306., 307.,\n",
       "         308., 309., 310., 311., 312., 313., 314., 315., 316., 317., 318.,\n",
       "         319., 320., 321., 322., 323., 324., 325., 326., 327., 328., 329.,\n",
       "         330., 331., 332., 333., 334., 335., 336., 337., 338., 339., 340.,\n",
       "         341., 342., 343., 344., 345., 346., 347., 348., 349., 350., 351.,\n",
       "         352., 353., 354., 355., 356., 357., 358., 359., 360., 361., 362.,\n",
       "         363., 364., 365., 366., 367., 368., 369., 370., 371., 372., 373.,\n",
       "         374., 375., 376., 377., 378., 379., 380., 381., 382., 383., 384.,\n",
       "         385., 386., 387., 388., 389., 390., 391., 392., 393., 394., 395.,\n",
       "         396., 397., 398., 399., 400., 401., 402., 403., 404., 405., 406.,\n",
       "         407., 408., 409., 410., 411., 412., 413., 414., 415., 416., 417.,\n",
       "         418., 419., 420., 421., 422., 423., 424., 425., 426., 427., 428.,\n",
       "         429., 430., 431., 432., 433., 434., 435., 436., 437., 438., 439.,\n",
       "         440., 441., 442., 443., 444., 445., 446., 447., 448., 449., 450.,\n",
       "         451., 452., 453., 454., 455., 456., 457., 458., 459., 460., 461.,\n",
       "         462., 463., 464., 465., 466., 467., 468., 469., 470., 471., 472.,\n",
       "         473., 474., 475., 476., 477., 478., 479., 480., 481., 482., 483.,\n",
       "         484., 485., 486., 487., 488., 489., 490., 491., 492., 493., 494.,\n",
       "         495., 496., 497., 498., 499., 500.])),\n",
       " (<__main__.DummyArray: spectrum at 2932504954696>,\n",
       "  array([2.71914177e-01, 2.34140643e-01, 6.50249449e-01, 8.97802605e-01,\n",
       "         7.29304499e-01, 2.61611894e-01, 3.86059475e-01, 9.86727995e-01,\n",
       "         2.45425316e-02, 9.08614312e-01, 5.23763370e-01, 1.46944232e-01,\n",
       "         1.64084452e-01, 3.62534340e-01, 7.69092189e-01, 6.89341728e-01,\n",
       "         9.56404925e-01, 2.48827326e-02, 7.74378794e-01, 6.22336885e-01,\n",
       "         3.12239658e-01, 1.33616288e-01, 7.16307946e-01, 7.81338071e-01,\n",
       "         6.74558240e-01, 8.17945978e-01, 4.94690294e-01, 5.79705146e-02,\n",
       "         6.72493543e-01, 8.67240808e-02, 8.38300354e-02, 6.15256628e-01,\n",
       "         8.81316786e-01, 7.31250658e-01, 2.90351523e-01, 6.64427925e-01,\n",
       "         9.91507828e-01, 3.44258172e-02, 2.97387768e-01, 9.05121079e-01,\n",
       "         2.93081865e-01, 4.92408989e-01, 5.98272284e-01, 8.39457574e-01,\n",
       "         2.40771664e-01, 1.61395900e-01, 9.24515352e-01, 6.51178057e-01,\n",
       "         1.50539189e-01, 3.69235969e-01, 1.47955032e-01, 4.05852902e-01,\n",
       "         1.26899774e-01, 8.49171216e-01, 6.34647139e-01, 3.99246267e-01,\n",
       "         1.40041985e-01, 4.75825751e-01, 2.87083957e-01, 1.45329172e-01,\n",
       "         8.08100240e-01, 4.27962529e-01, 2.97172973e-01, 2.60234677e-01,\n",
       "         7.16609628e-01, 6.79759940e-01, 8.61932968e-01, 6.34936723e-01,\n",
       "         2.22968988e-01, 1.24725675e-01, 8.93031365e-01, 8.96984916e-01,\n",
       "         2.95030854e-01, 1.76307878e-01, 8.54424108e-01, 7.14390442e-01,\n",
       "         5.18341783e-01, 4.62073905e-01, 1.11650193e-01, 5.15243432e-01,\n",
       "         4.13089622e-01, 1.66236303e-01, 3.27495304e-01, 5.43535276e-01,\n",
       "         9.05393843e-02, 5.50297723e-01, 2.02587947e-01, 6.70744973e-01,\n",
       "         4.28442516e-01, 7.48582266e-01, 2.61177040e-04, 9.21932598e-01,\n",
       "         6.21030421e-01, 8.40994114e-01, 9.19968800e-01, 5.23256150e-01,\n",
       "         6.08360665e-01, 4.80527088e-01, 9.35907806e-01, 8.05183870e-01,\n",
       "         4.75821798e-01, 4.57557634e-01, 8.47621080e-01, 4.96341970e-01,\n",
       "         5.14928595e-01, 2.37646838e-01, 3.86626612e-01, 4.65730914e-01,\n",
       "         4.87470014e-01, 7.01722748e-01, 6.37181870e-01, 6.29535359e-01,\n",
       "         1.15577260e-01, 7.32948645e-01, 4.90535722e-01, 9.51156704e-01,\n",
       "         3.63447933e-01, 8.47331905e-01, 2.54398425e-04, 3.34941575e-01,\n",
       "         9.02763146e-01, 2.77128480e-01, 5.85234720e-01, 5.46632431e-01,\n",
       "         2.97124764e-01, 4.07622152e-01, 3.44980772e-01, 6.67856546e-01,\n",
       "         3.98998329e-02, 3.82414757e-01, 3.67349011e-01, 1.45964863e-01,\n",
       "         8.02266785e-01, 2.53608532e-02, 1.06886065e-02, 6.71864148e-01,\n",
       "         5.61582724e-01, 6.89643920e-01, 5.74832302e-01, 6.32343811e-01,\n",
       "         6.37856818e-01, 9.70139575e-01, 9.04882544e-01, 4.00149266e-01,\n",
       "         7.02041239e-01, 9.71524539e-01, 6.98607246e-01, 4.57461863e-01,\n",
       "         9.96956342e-01, 3.25764337e-01, 3.41077670e-01, 7.27332912e-01,\n",
       "         9.80770324e-01, 9.80307573e-01, 3.32878355e-01, 6.93897607e-01,\n",
       "         5.28913951e-01, 1.52675897e-01, 1.26798697e-01, 1.05279940e-01,\n",
       "         6.63452105e-01, 9.22173517e-01, 9.30881579e-02, 4.29108593e-01,\n",
       "         2.29700009e-01, 4.92743758e-03, 9.33299356e-01, 5.83127586e-01,\n",
       "         1.87770448e-02, 3.72218250e-01, 9.69583198e-01, 7.17618175e-01,\n",
       "         3.90911278e-01, 9.04970503e-01, 3.26031327e-01, 4.13322244e-01,\n",
       "         1.93143570e-01, 9.49820858e-01, 3.77103784e-01, 4.12671611e-02,\n",
       "         2.51348257e-01, 6.36848469e-02, 1.51250519e-01, 4.60521946e-02,\n",
       "         8.94275197e-01, 9.12912732e-01, 4.31080981e-01, 5.33952862e-01,\n",
       "         9.06882471e-01, 7.91213796e-01, 5.93336044e-01, 7.29948491e-01,\n",
       "         9.16383208e-01, 3.42281862e-02, 2.65767049e-01, 8.17887467e-02,\n",
       "         3.24516515e-01, 4.90126777e-01, 8.80715535e-01, 4.44123158e-01,\n",
       "         6.77643215e-01, 8.09098242e-01, 9.27899076e-01, 1.34577803e-01,\n",
       "         4.31869238e-01, 8.51562512e-01, 9.98317252e-01, 9.62943863e-01,\n",
       "         4.28913262e-01, 5.45820905e-01, 9.81299071e-02, 5.28280600e-03,\n",
       "         3.94929470e-01, 5.76559518e-01, 9.80678780e-01, 2.32594389e-01,\n",
       "         5.82871059e-01, 5.44805753e-01, 4.32279650e-01, 2.30636434e-01,\n",
       "         3.91974929e-01, 4.99934617e-01, 9.65166308e-01, 5.96092864e-01,\n",
       "         2.80916396e-01, 6.27210531e-01, 3.60441953e-01, 6.56820402e-01,\n",
       "         8.81805352e-01, 8.07401894e-02, 4.18116225e-01, 3.58244401e-01,\n",
       "         2.98284612e-01, 8.87742304e-01, 4.34299685e-01, 8.42639451e-01,\n",
       "         9.71794855e-01, 3.61304974e-01, 6.94917159e-01, 4.72612798e-01,\n",
       "         3.71966257e-01, 2.36062927e-01, 9.23731733e-01, 8.69112309e-01,\n",
       "         5.79900727e-01, 7.79219662e-01, 5.85183338e-01, 5.07277051e-01,\n",
       "         9.30892617e-02, 6.85105827e-01, 5.68631032e-01, 4.38099585e-01,\n",
       "         8.91751274e-01, 8.25657556e-01, 1.41852939e-01, 2.76832640e-01,\n",
       "         8.41873868e-01, 4.08608033e-01, 2.79409474e-01, 8.03294048e-01,\n",
       "         9.92800214e-01, 3.48940123e-01, 7.91827429e-01, 4.32794416e-01,\n",
       "         5.66945990e-01, 9.22301561e-01, 4.11429771e-01, 5.20605855e-01,\n",
       "         7.86528438e-01, 8.75511036e-01, 6.57075868e-01, 2.32927232e-01,\n",
       "         4.76777277e-01, 4.75265919e-02, 7.93101321e-01, 8.74954426e-01,\n",
       "         1.17464167e-01, 7.33645293e-01, 1.99847397e-01, 2.93916424e-01,\n",
       "         4.50544182e-01, 9.07057684e-01, 1.16086915e-01, 2.84407113e-01,\n",
       "         4.71325347e-01, 1.13055468e-01, 7.44285429e-01, 6.57362263e-01,\n",
       "         7.82424180e-01, 1.84605300e-01, 2.50473963e-01, 1.04638454e-02,\n",
       "         4.77782824e-01, 3.57483782e-01, 5.77948044e-02, 5.07902565e-01,\n",
       "         7.20663389e-02, 3.19160064e-01, 4.51046134e-01, 1.39733478e-01,\n",
       "         4.23906290e-04, 1.89013537e-01, 1.29061225e-01, 8.66560956e-01,\n",
       "         2.30186600e-01, 8.20133792e-01, 2.20876481e-01, 7.74487768e-01,\n",
       "         5.16903426e-01, 2.08737617e-01, 1.62364677e-01, 8.50826714e-01,\n",
       "         8.26483449e-02, 6.80155091e-01, 3.44403584e-02, 5.51038943e-01,\n",
       "         5.30622884e-01, 2.80310952e-01, 7.36771771e-01, 1.34698915e-01,\n",
       "         4.28321404e-01, 7.77399172e-01, 5.62054462e-01, 8.07406571e-01,\n",
       "         4.66607071e-01, 7.39830020e-01, 5.81483878e-02, 9.49304777e-01,\n",
       "         4.41169558e-01, 5.56355757e-01, 4.60719123e-01, 2.30929868e-01,\n",
       "         2.62278098e-01, 8.66786518e-01, 5.20702103e-01, 3.92292833e-01,\n",
       "         9.22769361e-02, 5.34079041e-01, 4.39640609e-01, 2.74452246e-01,\n",
       "         9.18117208e-01, 1.63996772e-01, 8.53841655e-01, 3.64864016e-01,\n",
       "         7.05838494e-02, 9.25377553e-01, 7.04172092e-01, 1.31577018e-01,\n",
       "         8.91655468e-01, 2.80120160e-02, 8.08977719e-01, 1.37439458e-02,\n",
       "         5.50646339e-01, 6.05352601e-02, 1.53656644e-01, 6.96447406e-01,\n",
       "         8.74169270e-01, 1.77969322e-01, 1.19075026e-01, 1.51579466e-01,\n",
       "         6.06323336e-01, 4.03914449e-01, 1.08466526e-01, 4.93473942e-01,\n",
       "         5.62312100e-01, 6.26844703e-01, 2.30616167e-01, 5.57189900e-01,\n",
       "         7.18929240e-01, 1.34470050e-01, 4.75151597e-01, 6.40302260e-01,\n",
       "         3.44755117e-01, 9.01103539e-01, 4.87058938e-01, 9.28119315e-01,\n",
       "         4.67582959e-01, 3.16127539e-01, 4.55258763e-01, 2.86023548e-01,\n",
       "         6.55775282e-02, 3.57569306e-01, 9.28656549e-01, 8.61233554e-01,\n",
       "         4.13802141e-01, 9.80770729e-01, 7.14552776e-01, 3.85928652e-01,\n",
       "         9.45961184e-01, 3.90803730e-02, 6.47432257e-02, 9.58479390e-01,\n",
       "         1.51619284e-01, 7.42916107e-01, 4.33427644e-01, 3.51577197e-01,\n",
       "         1.81940502e-01, 2.27988024e-01, 9.62095651e-01, 1.19599050e-01,\n",
       "         3.15640064e-01, 1.20698285e-02, 9.53490355e-01, 8.26469259e-01,\n",
       "         5.96182117e-01, 7.38266868e-01, 5.18812701e-01, 6.37801942e-01,\n",
       "         2.51546736e-01, 7.42235633e-01, 9.63633027e-01, 4.17027471e-01,\n",
       "         4.00961824e-01, 4.96220345e-01, 2.61025390e-01, 5.57275396e-02,\n",
       "         7.81137037e-01, 4.94021149e-01, 4.33563727e-01, 5.79235674e-01,\n",
       "         7.78716322e-01, 8.30630318e-01, 3.12380973e-01, 3.58556861e-01,\n",
       "         9.35820659e-01, 7.72103702e-02, 5.86632547e-02, 2.39069222e-01,\n",
       "         5.43352544e-01, 3.02710119e-01, 9.96374098e-01, 5.55213556e-01,\n",
       "         3.73957500e-01, 7.71182324e-01, 3.89472752e-02, 6.75594886e-02,\n",
       "         3.98388438e-01, 5.78472491e-03, 5.69999945e-01, 4.85623380e-01,\n",
       "         8.33992655e-01, 1.74078374e-01, 2.02634880e-01, 3.12505616e-01,\n",
       "         9.80034735e-01, 3.53095556e-02, 1.69297007e-01, 9.53692227e-01,\n",
       "         5.37326696e-02, 7.11598924e-01, 1.37855344e-01, 1.17258870e-01,\n",
       "         1.16313610e-01, 7.03777284e-02, 4.59016814e-01, 3.03514564e-01,\n",
       "         5.32478267e-01, 1.60775621e-01, 9.13217494e-01, 6.31687846e-01,\n",
       "         5.18770825e-01, 8.74155665e-01, 3.24771649e-02, 6.30373705e-01,\n",
       "         4.52328426e-01, 6.75115973e-01, 1.32033557e-01, 2.37940778e-01,\n",
       "         3.51498980e-01, 8.38603240e-01, 3.90260356e-01, 2.85174580e-01,\n",
       "         3.17646036e-01, 6.61726448e-01, 1.35432483e-01, 4.49587352e-01,\n",
       "         3.57104434e-02, 2.00745908e-01, 9.26069266e-01, 8.83330683e-01,\n",
       "         1.36643725e-01, 3.79767402e-01, 8.50803873e-01, 3.30938089e-01,\n",
       "         4.22940466e-02, 5.42200722e-01, 9.81630618e-01, 1.72951544e-01,\n",
       "         5.30197973e-01, 4.48278631e-01, 1.72502519e-02, 4.44881681e-01,\n",
       "         8.86817532e-02, 2.62854291e-01, 7.30953398e-01, 2.09591722e-01,\n",
       "         8.73589060e-01, 2.42693663e-01, 8.99176005e-01, 8.38032722e-01,\n",
       "         5.65855968e-01]))]"
      ]
     },
     "execution_count": 35,
     "metadata": {},
     "output_type": "execute_result"
    }
   ],
   "source": [
    "expand_setpoints_helper(a.spectrum)"
   ]
  },
  {
   "cell_type": "code",
   "execution_count": 32,
   "metadata": {},
   "outputs": [
    {
     "name": "stdout",
     "output_type": "stream",
     "text": [
      "Starting experimental run with id: 111\n"
     ]
    }
   ],
   "source": [
    "meas = Measurement()\n",
    "meas.register_parameter(a.spectrum)\n",
    "\n",
    "with meas.run() as datasaver:\n",
    "    datasaver.add_result(*expand_setpoints_helper(a.spectrum))\n",
    "    \n",
    "    dataid = datasaver.run_id"
   ]
  },
  {
   "cell_type": "code",
   "execution_count": null,
   "metadata": {},
   "outputs": [],
   "source": []
  }
 ],
 "metadata": {
  "kernelspec": {
   "display_name": "Python 3",
   "language": "python",
   "name": "python3"
  },
  "language_info": {
   "codemirror_mode": {
    "name": "ipython",
    "version": 3
   },
   "file_extension": ".py",
   "mimetype": "text/x-python",
   "name": "python",
   "nbconvert_exporter": "python",
   "pygments_lexer": "ipython3",
   "version": "3.7.4"
  },
  "toc": {
   "base_numbering": 1,
   "nav_menu": {},
   "number_sections": true,
   "sideBar": true,
   "skip_h1_title": false,
   "title_cell": "Table of Contents",
   "title_sidebar": "Contents",
   "toc_cell": false,
   "toc_position": {},
   "toc_section_display": true,
   "toc_window_display": false
  },
  "varInspector": {
   "cols": {
    "lenName": 16,
    "lenType": 16,
    "lenVar": 40
   },
   "kernels_config": {
    "python": {
     "delete_cmd_postfix": "",
     "delete_cmd_prefix": "del ",
     "library": "var_list.py",
     "varRefreshCmd": "print(var_dic_list())"
    },
    "r": {
     "delete_cmd_postfix": ") ",
     "delete_cmd_prefix": "rm(",
     "library": "var_list.r",
     "varRefreshCmd": "cat(var_dic_list()) "
    }
   },
   "types_to_exclude": [
    "module",
    "function",
    "builtin_function_or_method",
    "instance",
    "_Feature"
   ],
   "window_display": false
  }
 },
 "nbformat": 4,
 "nbformat_minor": 2
}
