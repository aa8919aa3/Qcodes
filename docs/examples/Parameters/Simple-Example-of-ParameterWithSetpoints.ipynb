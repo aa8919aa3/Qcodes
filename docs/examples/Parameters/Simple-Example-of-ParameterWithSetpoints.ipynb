{
 "cells": [
  {
   "cell_type": "markdown",
   "metadata": {},
   "source": [
    "# Simple Example of ParameterWithSetpoints\n",
    "This notebook provides an example for writing a simple driver with a parameter that has setpoints. Let's name this parameter that has setpoints as \"y\". Then, the setpoints, say \"x1, x2, x3 ..\", are the parameters on which the parameter \n",
    "\"y\" depends upon. Meaning \"y\" is a function of \"x1, x2, x3 ...\" where \"x1, x2, x3 ...\" are known as the setpoints of parameter \"y\".\n",
    "\n",
    "This is most likely to be useful for instruments that return arrays of results. In this notebook, we will show an example of this."
   ]
  },
  {
   "cell_type": "code",
   "execution_count": 1,
   "metadata": {},
   "outputs": [],
   "source": [
    "import numpy as np"
   ]
  },
  {
   "cell_type": "code",
   "execution_count": 2,
   "metadata": {},
   "outputs": [],
   "source": [
    "from qcodes.dataset.plotting import plot_dataset\n",
    "from qcodes.utils.validators import Numbers, Arrays\n",
    "from qcodes.instrument.base import Instrument\n",
    "from qcodes.dataset.measurements import Measurement"
   ]
  },
  {
   "cell_type": "code",
   "execution_count": 3,
   "metadata": {},
   "outputs": [],
   "source": [
    "from qcodes.dataset.sqlite.database import initialise_or_create_database_at\n",
    "from qcodes.dataset.experiment_container import load_or_create_experiment"
   ]
  },
  {
   "cell_type": "code",
   "execution_count": 4,
   "metadata": {},
   "outputs": [],
   "source": [
    "from qcodes.instrument.parameter import ParameterWithSetpoints, Parameter\n",
    "from qcodes.instrument.parameter import expand_setpoints_helper"
   ]
  },
  {
   "cell_type": "markdown",
   "metadata": {},
   "source": [
    "First, we define a dummy instrument that returns something like a frequency spectrum starting from a frequency given by `f_start` to a frequency given by `f_stop` in `n_points` steps. \n",
    "\n",
    "The extra functionality of the `ParameterWithSetpoints` is implemented by giving it a reference to one or more parameters that acts like its setpoints. \n",
    "\n",
    "To setup a `ParameterWithSetpoints` we have to do two things in addition to what we do for a normal parameter.\n",
    "\n",
    "* Define one or more parameter for the setpoints (one for each dimension of the array and let the `ParameterWithSetpoints` know that these are the setpoints.\n",
    "* Give both the setpoints parameter(s) and the `ParameterWithSetpoints` a `validator` of type `Arrays` with a shape. The shapes should be such that the combined shape of the setpoints matches the shape of the `ParameterWithSetpoints`. Note that if the shape changes with the setting of the instrument, it can be defined by another parameter as shown below. "
   ]
  },
  {
   "cell_type": "code",
   "execution_count": 5,
   "metadata": {},
   "outputs": [],
   "source": [
    "class GeneratedSetPoints(Parameter):\n",
    "    \"\"\"\n",
    "    A parameter that generates a setpoint array from start, stop and num points\n",
    "    parameters.\n",
    "    \"\"\"\n",
    "    def __init__(self, startparam, stopparam, numpointsparam, *args, **kwargs):\n",
    "        super().__init__(*args, **kwargs)\n",
    "        self._startparam = startparam\n",
    "        self._stopparam = stopparam\n",
    "        self._numpointsparam = numpointsparam\n",
    "\n",
    "    def get_raw(self):\n",
    "        return np.linspace(self._startparam(), self._stopparam(),\n",
    "                              self._numpointsparam())\n",
    "\n",
    "class DummyArray(ParameterWithSetpoints):\n",
    "    \n",
    "    def get_raw(self):\n",
    "        npoints = self.root_instrument.n_points.get_latest()\n",
    "        return np.random.rand(npoints)\n",
    "    \n",
    "\n",
    "class DummySpectrumAnalyzer(Instrument):\n",
    "    \n",
    "    def __init__(self, name, **kwargs):\n",
    "        \n",
    "        super().__init__(name, **kwargs)\n",
    "            \n",
    "\n",
    "        self.add_parameter('f_start',\n",
    "                           initial_value=0,\n",
    "                           unit='Hz',\n",
    "                           label='f start',\n",
    "                           vals=Numbers(0,1e3),\n",
    "                           get_cmd=None,\n",
    "                           set_cmd=None)\n",
    "\n",
    "        self.add_parameter('f_stop',\n",
    "                           unit='Hz',\n",
    "                           label='f stop',\n",
    "                           vals=Numbers(1,1e3),\n",
    "                           get_cmd=None,\n",
    "                           set_cmd=None)\n",
    "\n",
    "        self.add_parameter('n_points',\n",
    "                           unit='',\n",
    "                           initial_value=10,\n",
    "                           vals=Numbers(1,1e3),\n",
    "                           get_cmd=None,\n",
    "                           set_cmd=None)\n",
    "        \n",
    "        self.add_parameter('freq_axis',\n",
    "                           unit='Hz',\n",
    "                           label='Freq Axis',\n",
    "                           parameter_class=GeneratedSetPoints,\n",
    "                           startparam=self.f_start,\n",
    "                           stopparam=self.f_stop,\n",
    "                           numpointsparam=self.n_points,\n",
    "                           vals=Arrays(shape=(self.n_points.get_latest,)))\n",
    "                           \n",
    "        self.add_parameter('spectrum',\n",
    "                   unit='dBm',\n",
    "                   setpoints=(self.freq_axis,),\n",
    "                   label='Spectrum',\n",
    "                   parameter_class=DummyArray,\n",
    "                   vals=Arrays(shape=(self.n_points.get_latest,)))\n",
    "                "
   ]
  },
  {
   "cell_type": "markdown",
   "metadata": {},
   "source": [
    "In the above example, the shape is defined by the parameter `n_points` that defines how many samples our `DummySpectrumAnalyzer` returns.\n",
    "\n",
    "This means that the validation will call the function to get `n_points` twice for each `get` of the parameter. This may be too slow, however, if you (as the driver-writer) can guarantee that the cached value for `n_points` will never be out of sync with the value stored in the instrument, `n_points` may be replaced by it's latest known value such that the `validator` reads:\n",
    "```python\n",
    "vals=Arrays(shape=(self.n_points.get_latest))\n",
    "```\n",
    "\n",
    "This avoids any additional call to the instrument. In the same way, the arguments to the `freq_axis` parameter that defines the start, stop and number of points can be replaced by their latest value if the instrument allows it.\n",
    "\n"
   ]
  },
  {
   "cell_type": "code",
   "execution_count": 6,
   "metadata": {},
   "outputs": [
    {
     "data": {
      "text/plain": [
       "tutorial_ParameterWithSetpoints#no sample#15@C:\\Users\\a-halakh\\experiments.db\n",
       "-----------------------------------------------------------------------------\n",
       "107-results-1-foobar_freq_axis,foobar_spectrum-1\n",
       "108-results-2-foobar_freq_axis,foobar_spectrum-1\n",
       "109-results-3-foobar_freq_axis,foobar_spectrum-1\n",
       "110-results-4-foobar_freq_axis,foobar_spectrum-1\n",
       "111-results-5-foobar_freq_axis,foobar_spectrum-1"
      ]
     },
     "execution_count": 6,
     "metadata": {},
     "output_type": "execute_result"
    }
   ],
   "source": [
    "initialise_or_create_database_at()\n",
    "load_or_create_experiment(experiment_name='tutorial_ParameterWithSetpoints', sample_name=\"no sample\")"
   ]
  },
  {
   "cell_type": "code",
   "execution_count": 7,
   "metadata": {},
   "outputs": [],
   "source": [
    "a = DummySpectrumAnalyzer('foobar')"
   ]
  },
  {
   "cell_type": "markdown",
   "metadata": {},
   "source": [
    "First we setup the limits of the spectrum"
   ]
  },
  {
   "cell_type": "code",
   "execution_count": 8,
   "metadata": {},
   "outputs": [],
   "source": [
    "a.f_start(0)\n",
    "a.f_stop(500)\n",
    "a.n_points(501)"
   ]
  },
  {
   "cell_type": "markdown",
   "metadata": {},
   "source": [
    "And we can grab the frequency axis"
   ]
  },
  {
   "cell_type": "code",
   "execution_count": 9,
   "metadata": {},
   "outputs": [
    {
     "data": {
      "text/plain": [
       "501"
      ]
     },
     "execution_count": 9,
     "metadata": {},
     "output_type": "execute_result"
    }
   ],
   "source": [
    "a.n_points()"
   ]
  },
  {
   "cell_type": "code",
   "execution_count": 10,
   "metadata": {
    "scrolled": false
   },
   "outputs": [
    {
     "data": {
      "text/plain": [
       "501"
      ]
     },
     "execution_count": 10,
     "metadata": {},
     "output_type": "execute_result"
    }
   ],
   "source": [
    "freq_axis = a.freq_axis()\n",
    "len(freq_axis)"
   ]
  },
  {
   "cell_type": "code",
   "execution_count": 11,
   "metadata": {},
   "outputs": [
    {
     "data": {
      "text/plain": [
       "array([0., 1., 2., 3., 4., 5., 6., 7., 8., 9.])"
      ]
     },
     "execution_count": 11,
     "metadata": {},
     "output_type": "execute_result"
    }
   ],
   "source": [
    "freq_axis[:10]"
   ]
  },
  {
   "cell_type": "markdown",
   "metadata": {},
   "source": [
    "As expected we get a result wit 501 points as we asked for an axis with 501 points. "
   ]
  },
  {
   "cell_type": "markdown",
   "metadata": {},
   "source": [
    "Above we have added a validator to the `freq_axis` parameter encoding the fact that this is an Array with `n_points`. Note that we do not have to supply the number of points as an integer but can supply a function that returns the valid number of points. This would normally be a QCoDeS parameter.\n",
    "\n",
    "This will be checked if we validate the output."
   ]
  },
  {
   "cell_type": "code",
   "execution_count": 12,
   "metadata": {},
   "outputs": [],
   "source": [
    "a.freq_axis.validate(a.freq_axis.get())"
   ]
  },
  {
   "cell_type": "markdown",
   "metadata": {},
   "source": [
    "Naturally, we can also get the spectrum. Getting the spectrum will automatically perform validation both for the shape of the parameter itself and the relation to the setpoint parameter(s)"
   ]
  },
  {
   "cell_type": "code",
   "execution_count": 13,
   "metadata": {
    "scrolled": true
   },
   "outputs": [
    {
     "data": {
      "text/plain": [
       "501"
      ]
     },
     "execution_count": 13,
     "metadata": {},
     "output_type": "execute_result"
    }
   ],
   "source": [
    "spectrum = a.spectrum.get()\n",
    "len(spectrum)"
   ]
  },
  {
   "cell_type": "markdown",
   "metadata": {},
   "source": [
    "When we validate a `ParameterWithSetpoints`, we automatically validate that the shape is consistent between the parameters and its setpoints. As well as validating the shape as above."
   ]
  },
  {
   "cell_type": "code",
   "execution_count": 14,
   "metadata": {},
   "outputs": [],
   "source": [
    "a.spectrum.validate(a.spectrum.get())"
   ]
  },
  {
   "cell_type": "markdown",
   "metadata": {},
   "source": [
    "The consistent shapes can be validated explicitly."
   ]
  },
  {
   "cell_type": "code",
   "execution_count": 15,
   "metadata": {},
   "outputs": [],
   "source": [
    "a.spectrum.validate_consistent_shape()"
   ]
  },
  {
   "cell_type": "markdown",
   "metadata": {},
   "source": [
    "We can inspect the setpoints of the spectrum."
   ]
  },
  {
   "cell_type": "code",
   "execution_count": 16,
   "metadata": {},
   "outputs": [
    {
     "data": {
      "text/plain": [
       "(<__main__.GeneratedSetPoints: freq_axis at 2805646778824>,)"
      ]
     },
     "execution_count": 16,
     "metadata": {},
     "output_type": "execute_result"
    }
   ],
   "source": [
    "a.spectrum.setpoints"
   ]
  },
  {
   "cell_type": "markdown",
   "metadata": {},
   "source": [
    "Or even change them."
   ]
  },
  {
   "cell_type": "code",
   "execution_count": 17,
   "metadata": {},
   "outputs": [],
   "source": [
    "a.spectrum.setpoints = (a.freq_axis,)"
   ]
  },
  {
   "cell_type": "markdown",
   "metadata": {},
   "source": [
    "## Measurement"
   ]
  },
  {
   "cell_type": "markdown",
   "metadata": {},
   "source": [
    "We can also directly consume the parameter in a measurement without defining the setpoints of the parameter again. The setpoints are automatically obtained from the definition of the `ParameterWithSetpoint` instance. "
   ]
  },
  {
   "cell_type": "code",
   "execution_count": 18,
   "metadata": {},
   "outputs": [
    {
     "name": "stdout",
     "output_type": "stream",
     "text": [
      "Starting experimental run with id: 112\n"
     ]
    }
   ],
   "source": [
    "meas = Measurement()\n",
    "meas.register_parameter(a.spectrum)\n",
    "\n",
    "with meas.run() as datasaver:\n",
    "    datasaver.add_result((a.freq_axis, a.freq_axis()),\n",
    "                         (a.spectrum, a.spectrum()))\n",
    "    dataset = datasaver.dataset"
   ]
  },
  {
   "cell_type": "markdown",
   "metadata": {},
   "source": [
    "And plot it"
   ]
  },
  {
   "cell_type": "code",
   "execution_count": 19,
   "metadata": {},
   "outputs": [
    {
     "data": {
      "text/plain": [
       "([<matplotlib.axes._subplots.AxesSubplot at 0x28d3d8f2f48>], [None])"
      ]
     },
     "execution_count": 19,
     "metadata": {},
     "output_type": "execute_result"
    },
    {
     "data": {
      "image/png": "[encoded data removed]",
      "text/plain": [
       "<Figure size 432x288 with 1 Axes>"
      ]
     },
     "metadata": {
      "needs_background": "light"
     },
     "output_type": "display_data"
    }
   ],
   "source": [
    "plot_dataset(dataset)"
   ]
  },
  {
   "cell_type": "markdown",
   "metadata": {},
   "source": [
    "To reduce the amount of typing a simple convenience function is provided that will take a `ParameterWithSetpoints` and get both its values and the setpoints values and return them as tuples for direct insertion into the Dataset."
   ]
  },
  {
   "cell_type": "code",
   "execution_count": 20,
   "metadata": {
    "scrolled": true
   },
   "outputs": [
    {
     "data": {
      "text/plain": [
       "[(<__main__.GeneratedSetPoints: freq_axis at 2805646778824>,\n",
       "  array([  0.,   1.,   2.,   3.,   4.,   5.,   6.,   7.,   8.,   9.,  10.,\n",
       "          11.,  12.,  13.,  14.,  15.,  16.,  17.,  18.,  19.,  20.,  21.,\n",
       "          22.,  23.,  24.,  25.,  26.,  27.,  28.,  29.,  30.,  31.,  32.,\n",
       "          33.,  34.,  35.,  36.,  37.,  38.,  39.,  40.,  41.,  42.,  43.,\n",
       "          44.,  45.,  46.,  47.,  48.,  49.,  50.,  51.,  52.,  53.,  54.,\n",
       "          55.,  56.,  57.,  58.,  59.,  60.,  61.,  62.,  63.,  64.,  65.,\n",
       "          66.,  67.,  68.,  69.,  70.,  71.,  72.,  73.,  74.,  75.,  76.,\n",
       "          77.,  78.,  79.,  80.,  81.,  82.,  83.,  84.,  85.,  86.,  87.,\n",
       "          88.,  89.,  90.,  91.,  92.,  93.,  94.,  95.,  96.,  97.,  98.,\n",
       "          99., 100., 101., 102., 103., 104., 105., 106., 107., 108., 109.,\n",
       "         110., 111., 112., 113., 114., 115., 116., 117., 118., 119., 120.,\n",
       "         121., 122., 123., 124., 125., 126., 127., 128., 129., 130., 131.,\n",
       "         132., 133., 134., 135., 136., 137., 138., 139., 140., 141., 142.,\n",
       "         143., 144., 145., 146., 147., 148., 149., 150., 151., 152., 153.,\n",
       "         154., 155., 156., 157., 158., 159., 160., 161., 162., 163., 164.,\n",
       "         165., 166., 167., 168., 169., 170., 171., 172., 173., 174., 175.,\n",
       "         176., 177., 178., 179., 180., 181., 182., 183., 184., 185., 186.,\n",
       "         187., 188., 189., 190., 191., 192., 193., 194., 195., 196., 197.,\n",
       "         198., 199., 200., 201., 202., 203., 204., 205., 206., 207., 208.,\n",
       "         209., 210., 211., 212., 213., 214., 215., 216., 217., 218., 219.,\n",
       "         220., 221., 222., 223., 224., 225., 226., 227., 228., 229., 230.,\n",
       "         231., 232., 233., 234., 235., 236., 237., 238., 239., 240., 241.,\n",
       "         242., 243., 244., 245., 246., 247., 248., 249., 250., 251., 252.,\n",
       "         253., 254., 255., 256., 257., 258., 259., 260., 261., 262., 263.,\n",
       "         264., 265., 266., 267., 268., 269., 270., 271., 272., 273., 274.,\n",
       "         275., 276., 277., 278., 279., 280., 281., 282., 283., 284., 285.,\n",
       "         286., 287., 288., 289., 290., 291., 292., 293., 294., 295., 296.,\n",
       "         297., 298., 299., 300., 301., 302., 303., 304., 305., 306., 307.,\n",
       "         308., 309., 310., 311., 312., 313., 314., 315., 316., 317., 318.,\n",
       "         319., 320., 321., 322., 323., 324., 325., 326., 327., 328., 329.,\n",
       "         330., 331., 332., 333., 334., 335., 336., 337., 338., 339., 340.,\n",
       "         341., 342., 343., 344., 345., 346., 347., 348., 349., 350., 351.,\n",
       "         352., 353., 354., 355., 356., 357., 358., 359., 360., 361., 362.,\n",
       "         363., 364., 365., 366., 367., 368., 369., 370., 371., 372., 373.,\n",
       "         374., 375., 376., 377., 378., 379., 380., 381., 382., 383., 384.,\n",
       "         385., 386., 387., 388., 389., 390., 391., 392., 393., 394., 395.,\n",
       "         396., 397., 398., 399., 400., 401., 402., 403., 404., 405., 406.,\n",
       "         407., 408., 409., 410., 411., 412., 413., 414., 415., 416., 417.,\n",
       "         418., 419., 420., 421., 422., 423., 424., 425., 426., 427., 428.,\n",
       "         429., 430., 431., 432., 433., 434., 435., 436., 437., 438., 439.,\n",
       "         440., 441., 442., 443., 444., 445., 446., 447., 448., 449., 450.,\n",
       "         451., 452., 453., 454., 455., 456., 457., 458., 459., 460., 461.,\n",
       "         462., 463., 464., 465., 466., 467., 468., 469., 470., 471., 472.,\n",
       "         473., 474., 475., 476., 477., 478., 479., 480., 481., 482., 483.,\n",
       "         484., 485., 486., 487., 488., 489., 490., 491., 492., 493., 494.,\n",
       "         495., 496., 497., 498., 499., 500.])),\n",
       " (<__main__.DummyArray: spectrum at 2805646718152>,\n",
       "  array([6.53019146e-01, 7.58987809e-01, 6.08640859e-01, 2.35428840e-02,\n",
       "         2.46496944e-01, 8.58587901e-01, 8.03943840e-01, 8.06403362e-01,\n",
       "         8.94962657e-01, 8.52798619e-01, 1.98749281e-01, 5.62373272e-02,\n",
       "         6.04741519e-02, 5.46822595e-02, 8.06396449e-01, 2.32226041e-01,\n",
       "         4.88182779e-01, 9.37761659e-02, 7.65861893e-01, 4.83858761e-01,\n",
       "         4.84185964e-01, 3.48537069e-01, 3.16509609e-01, 8.48320140e-01,\n",
       "         8.20206606e-01, 7.87682234e-01, 3.93069287e-01, 2.31797295e-01,\n",
       "         7.74669667e-01, 5.42766837e-02, 7.81967585e-01, 2.39440426e-01,\n",
       "         5.59631172e-01, 8.04087034e-01, 3.46957722e-01, 1.79550018e-01,\n",
       "         2.38922041e-01, 4.09960598e-01, 8.96861016e-02, 5.39611182e-01,\n",
       "         3.75284887e-03, 1.06901876e-01, 4.30613609e-01, 4.96070556e-01,\n",
       "         5.73964575e-01, 2.79304772e-01, 9.72360359e-01, 6.89732140e-01,\n",
       "         4.46468752e-01, 3.62918888e-01, 8.41785607e-01, 7.83894404e-01,\n",
       "         6.30925002e-01, 1.62298557e-01, 5.05196613e-01, 3.51557239e-01,\n",
       "         2.19715734e-01, 3.64982262e-01, 5.64122006e-01, 2.98933535e-01,\n",
       "         3.22475859e-01, 1.58281588e-01, 3.57449822e-01, 4.41956661e-02,\n",
       "         1.16224157e-01, 4.62534310e-01, 2.70556128e-01, 7.47352646e-01,\n",
       "         6.94308667e-01, 4.24116314e-01, 9.02448987e-01, 3.57799759e-01,\n",
       "         9.32268251e-01, 7.10771716e-01, 5.37277481e-01, 2.39109698e-02,\n",
       "         5.79695864e-01, 7.32803947e-01, 7.01494244e-01, 8.82295055e-02,\n",
       "         2.63537481e-02, 5.38648797e-01, 2.99265823e-01, 2.74732389e-02,\n",
       "         4.54030808e-01, 9.12941285e-01, 3.50366090e-02, 1.91293047e-01,\n",
       "         7.42317716e-01, 3.06521468e-01, 7.44406640e-01, 2.89538963e-01,\n",
       "         7.37790792e-01, 5.22597414e-01, 9.28725878e-01, 6.40277442e-01,\n",
       "         7.17258909e-01, 1.88885200e-01, 8.97915502e-01, 7.01514710e-01,\n",
       "         4.07953342e-01, 2.23625715e-01, 8.54389458e-01, 3.65892099e-01,\n",
       "         1.36560715e-01, 9.49665748e-02, 9.85241841e-01, 7.31069273e-01,\n",
       "         5.43984840e-01, 4.57938879e-01, 3.62840145e-01, 3.22520058e-02,\n",
       "         8.49902331e-01, 9.32522163e-01, 5.69050440e-01, 4.21502256e-01,\n",
       "         9.29264803e-01, 1.51462849e-02, 8.41197806e-01, 4.00528482e-01,\n",
       "         8.36177183e-01, 2.92174202e-02, 7.96274004e-01, 2.55971738e-01,\n",
       "         6.61887183e-01, 8.92003109e-01, 8.20067379e-02, 6.17863477e-01,\n",
       "         4.46402928e-01, 5.03563873e-01, 8.13696584e-01, 7.26315327e-01,\n",
       "         1.37567090e-01, 2.02116800e-01, 9.66715380e-01, 5.47674889e-01,\n",
       "         1.86324333e-01, 8.17491356e-02, 5.90763608e-01, 1.96291789e-01,\n",
       "         3.40909258e-01, 3.62101465e-01, 8.93745117e-01, 8.77801245e-01,\n",
       "         4.62122806e-01, 4.38936705e-01, 8.81819178e-01, 7.29018777e-01,\n",
       "         3.72530932e-01, 3.30690236e-01, 8.79334442e-01, 5.00797895e-01,\n",
       "         6.35703989e-01, 8.86819903e-01, 7.19810827e-01, 6.01084602e-01,\n",
       "         5.51006378e-02, 3.55211694e-01, 2.93803415e-01, 1.61590643e-01,\n",
       "         3.11957329e-01, 6.02564942e-01, 4.40863807e-01, 1.16327267e-01,\n",
       "         2.81277901e-01, 7.22715482e-01, 6.98981165e-01, 1.43474302e-01,\n",
       "         7.76040684e-02, 9.40145453e-01, 9.04059886e-01, 6.03048246e-01,\n",
       "         1.63715782e-01, 4.97975501e-01, 9.47901506e-01, 5.58867287e-01,\n",
       "         1.85359317e-01, 6.57644042e-01, 6.11979623e-01, 9.30117031e-01,\n",
       "         6.86717896e-02, 6.25116166e-01, 8.87565092e-01, 6.49321772e-01,\n",
       "         3.87841609e-01, 2.98156333e-02, 7.33718710e-01, 3.16015395e-01,\n",
       "         1.73423191e-01, 9.95082820e-01, 2.91160182e-01, 1.94616840e-01,\n",
       "         9.35320792e-01, 1.87974487e-01, 8.32940327e-01, 7.22472794e-01,\n",
       "         4.94449878e-01, 6.66960537e-01, 8.52408195e-01, 6.23312625e-01,\n",
       "         2.71451319e-02, 2.02941149e-01, 8.90519573e-01, 1.56639228e-01,\n",
       "         7.95874019e-01, 5.72316668e-02, 4.09028574e-01, 1.95946725e-01,\n",
       "         1.54106389e-01, 2.35278793e-01, 2.08594474e-01, 9.07171330e-02,\n",
       "         3.89450430e-02, 1.48692088e-02, 3.74718199e-01, 9.86785251e-01,\n",
       "         7.98294292e-01, 2.21541813e-01, 1.31925961e-01, 7.33279491e-01,\n",
       "         6.42158660e-01, 1.96939144e-01, 4.08568507e-01, 7.26786596e-01,\n",
       "         8.12447922e-01, 6.26848277e-01, 4.63425780e-01, 5.56469441e-01,\n",
       "         7.14845482e-01, 6.81053192e-01, 1.33338470e-01, 4.57943490e-01,\n",
       "         9.88003788e-01, 7.61737985e-01, 1.22607105e-01, 8.44711431e-01,\n",
       "         8.42534870e-01, 9.87992690e-01, 5.42804882e-02, 5.35432669e-01,\n",
       "         3.71997536e-01, 5.94487037e-01, 9.80941459e-01, 9.13001480e-01,\n",
       "         4.02913952e-01, 2.84530242e-01, 4.13530214e-01, 2.29879689e-01,\n",
       "         7.59360749e-02, 9.24644482e-01, 2.40409680e-01, 7.69128131e-01,\n",
       "         5.59835741e-02, 3.32069528e-04, 3.04149595e-01, 8.62762405e-01,\n",
       "         5.31595595e-01, 5.93100609e-01, 6.98110366e-01, 2.41203940e-01,\n",
       "         2.50474013e-01, 4.99065793e-01, 9.17064323e-01, 8.95478379e-01,\n",
       "         6.62003787e-01, 2.43024309e-01, 9.52662361e-01, 2.63739046e-01,\n",
       "         2.63950133e-01, 6.13114077e-01, 1.98165202e-01, 1.53412335e-01,\n",
       "         9.09737718e-01, 8.04506283e-01, 1.55115947e-01, 8.00546612e-01,\n",
       "         4.54616415e-01, 4.04787645e-01, 3.89604653e-01, 4.05174787e-01,\n",
       "         8.26251628e-01, 4.62072084e-01, 5.83890924e-01, 8.21597282e-01,\n",
       "         5.79541332e-01, 8.67716741e-01, 8.86507204e-01, 8.73899211e-01,\n",
       "         7.02345524e-01, 2.02908144e-01, 7.85882970e-01, 1.27243511e-01,\n",
       "         8.57137456e-01, 4.63788365e-01, 3.45413830e-01, 5.63809037e-02,\n",
       "         7.49961800e-01, 5.84957423e-02, 1.35550379e-01, 3.67691089e-01,\n",
       "         6.60609834e-03, 2.20734628e-01, 6.52375149e-01, 6.40819705e-01,\n",
       "         7.06609838e-01, 2.63536143e-01, 8.54605147e-01, 9.17597539e-01,\n",
       "         3.64982937e-01, 3.83312406e-01, 3.19473464e-01, 4.82526626e-01,\n",
       "         7.46060928e-02, 5.80474699e-01, 8.68120975e-01, 8.96805712e-01,\n",
       "         1.04750431e-01, 1.23942343e-01, 8.30247933e-01, 3.90818107e-01,\n",
       "         8.52389997e-03, 6.21597234e-01, 6.57243888e-01, 4.38797356e-01,\n",
       "         8.60266627e-01, 5.14469616e-01, 6.18553954e-01, 6.21471456e-01,\n",
       "         3.65578425e-01, 5.79900124e-01, 7.31525193e-01, 3.85959885e-01,\n",
       "         9.10269695e-01, 7.24626578e-01, 9.56170143e-01, 5.97003508e-01,\n",
       "         5.84957877e-01, 7.67670988e-01, 2.10853743e-03, 3.78780360e-01,\n",
       "         7.05805860e-01, 3.29115329e-01, 9.28550969e-01, 4.69141444e-01,\n",
       "         9.09688741e-01, 8.07052501e-01, 3.92444518e-01, 1.51232439e-01,\n",
       "         2.59131044e-02, 6.47472856e-01, 5.18779719e-01, 4.36741114e-01,\n",
       "         9.46950758e-02, 5.36358495e-01, 7.99575262e-01, 9.40970625e-01,\n",
       "         9.28795656e-01, 8.22516333e-01, 9.66378203e-01, 2.30506469e-01,\n",
       "         6.04860184e-01, 1.71761826e-01, 7.58145853e-01, 9.03159722e-01,\n",
       "         9.90933588e-01, 8.17899798e-01, 7.69245716e-01, 1.21987199e-01,\n",
       "         3.37731721e-01, 2.54322066e-01, 3.31410868e-01, 8.41709226e-01,\n",
       "         3.52647930e-01, 8.25537425e-01, 6.29028154e-01, 3.25709993e-01,\n",
       "         8.76927932e-01, 1.72768404e-01, 4.96653224e-01, 2.11576127e-03,\n",
       "         4.09486194e-02, 8.11359984e-01, 6.41481128e-01, 4.75858092e-02,\n",
       "         9.85574762e-01, 3.43399171e-02, 6.88945176e-01, 3.86318796e-01,\n",
       "         1.84635891e-01, 7.75199347e-02, 1.31834407e-01, 6.79258231e-01,\n",
       "         8.30585997e-01, 5.50956886e-01, 2.37978269e-01, 9.40761468e-01,\n",
       "         3.97297602e-01, 7.18453827e-01, 3.75515364e-01, 9.32238555e-01,\n",
       "         1.34230821e-01, 4.18492504e-01, 7.67277842e-01, 5.07858563e-01,\n",
       "         4.39026356e-01, 5.42736145e-01, 9.43786324e-03, 2.18126123e-01,\n",
       "         1.56874116e-01, 3.66002482e-01, 8.29074820e-01, 5.39085980e-01,\n",
       "         2.66783959e-01, 7.49331259e-02, 4.82426260e-01, 2.66700304e-01,\n",
       "         1.04338680e-01, 8.77942376e-01, 5.82389942e-02, 2.62491804e-01,\n",
       "         1.87035477e-01, 9.60063225e-01, 7.25280718e-01, 4.68292158e-01,\n",
       "         3.53766386e-01, 7.63165369e-01, 9.31120922e-01, 5.57080449e-01,\n",
       "         2.86173788e-01, 2.68369521e-01, 5.27273232e-01, 8.46391522e-01,\n",
       "         2.32133494e-02, 6.64116321e-01, 2.24290535e-01, 4.26333412e-02,\n",
       "         1.86564084e-01, 4.66032605e-01, 1.47702767e-01, 6.48309281e-01,\n",
       "         4.10191912e-01, 2.68007948e-01, 5.15422249e-01, 8.69333784e-01,\n",
       "         1.84864971e-01, 6.23050307e-01, 1.07743830e-02, 2.09563631e-01,\n",
       "         7.14285588e-01, 4.50455641e-01, 3.04475079e-01, 1.72161731e-01,\n",
       "         8.70064966e-01, 8.47045349e-01, 4.40036355e-01, 8.15812350e-01,\n",
       "         7.85684299e-02, 1.46673387e-02, 6.60910016e-01, 9.30800901e-01,\n",
       "         9.76594432e-03, 3.71959614e-01, 8.04934739e-01, 8.45067352e-01,\n",
       "         7.37892915e-01, 8.14477547e-01, 7.53351811e-02, 2.54765456e-01,\n",
       "         8.00997350e-01, 3.31035579e-01, 1.83553845e-01, 7.69689504e-01,\n",
       "         4.98673931e-02, 2.92652553e-01, 2.96422483e-01, 6.16521474e-01,\n",
       "         3.73618219e-01, 6.02014988e-01, 4.09544403e-01, 5.00269802e-01,\n",
       "         5.78447891e-01, 1.79767507e-01, 4.29970823e-01, 2.91859866e-01,\n",
       "         7.49652077e-01, 8.74904938e-01, 7.49015822e-01, 6.07591433e-01,\n",
       "         9.33497656e-01, 9.68274428e-01, 7.49043520e-01, 8.79703837e-01,\n",
       "         7.84435541e-01, 5.32795739e-01, 1.45832205e-01, 7.41071818e-02,\n",
       "         8.07163492e-02, 4.16167370e-01, 1.02875713e-01, 4.02611207e-01,\n",
       "         6.38950773e-01]))]"
      ]
     },
     "execution_count": 20,
     "metadata": {},
     "output_type": "execute_result"
    }
   ],
   "source": [
    "expand_setpoints_helper(a.spectrum)"
   ]
  },
  {
   "cell_type": "code",
   "execution_count": 21,
   "metadata": {},
   "outputs": [
    {
     "name": "stdout",
     "output_type": "stream",
     "text": [
      "Starting experimental run with id: 113\n"
     ]
    }
   ],
   "source": [
    "meas = Measurement()\n",
    "meas.register_parameter(a.spectrum)\n",
    "\n",
    "with meas.run() as datasaver:\n",
    "    datasaver.add_result(*expand_setpoints_helper(a.spectrum))\n",
    "    \n",
    "    dataid = datasaver.run_id"
   ]
  },
  {
   "cell_type": "code",
   "execution_count": null,
   "metadata": {},
   "outputs": [],
   "source": []
  }
 ],
 "metadata": {
  "kernelspec": {
   "display_name": "Python 3",
   "language": "python",
   "name": "python3"
  },
  "language_info": {
   "codemirror_mode": {
    "name": "ipython",
    "version": 3
   },
   "file_extension": ".py",
   "mimetype": "text/x-python",
   "name": "python",
   "nbconvert_exporter": "python",
   "pygments_lexer": "ipython3",
   "version": "3.7.4"
  },
  "toc": {
   "base_numbering": 1,
   "nav_menu": {},
   "number_sections": true,
   "sideBar": true,
   "skip_h1_title": false,
   "title_cell": "Table of Contents",
   "title_sidebar": "Contents",
   "toc_cell": false,
   "toc_position": {},
   "toc_section_display": true,
   "toc_window_display": false
  },
  "varInspector": {
   "cols": {
    "lenName": 16,
    "lenType": 16,
    "lenVar": 40
   },
   "kernels_config": {
    "python": {
     "delete_cmd_postfix": "",
     "delete_cmd_prefix": "del ",
     "library": "var_list.py",
     "varRefreshCmd": "print(var_dic_list())"
    },
    "r": {
     "delete_cmd_postfix": ") ",
     "delete_cmd_prefix": "rm(",
     "library": "var_list.r",
     "varRefreshCmd": "cat(var_dic_list()) "
    }
   },
   "types_to_exclude": [
    "module",
    "function",
    "builtin_function_or_method",
    "instance",
    "_Feature"
   ],
   "window_display": false
  }
 },
 "nbformat": 4,
 "nbformat_minor": 2
}
