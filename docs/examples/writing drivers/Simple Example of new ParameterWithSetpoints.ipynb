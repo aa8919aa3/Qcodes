{
 "cells": [
  {
   "cell_type": "markdown",
   "metadata": {},
   "source": [
    "# Simple Example of ParameterWithSetpoints\n",
    "This notebook has an example of a new simpler ArrayParameter replacement\n"
   ]
  },
  {
   "cell_type": "code",
   "execution_count": 1,
   "metadata": {},
   "outputs": [],
   "source": [
    "import numpy as np"
   ]
  },
  {
   "cell_type": "code",
   "execution_count": 2,
   "metadata": {},
   "outputs": [],
   "source": [
    "from qcodes.utils.validators import Validator"
   ]
  },
  {
   "cell_type": "code",
   "execution_count": 3,
   "metadata": {},
   "outputs": [],
   "source": [
    "from qcodes.utils.validators import Numbers, Arrays\n",
    "from qcodes.instrument.base import Instrument\n",
    "from qcodes.dataset.measurements import Measurement"
   ]
  },
  {
   "cell_type": "code",
   "execution_count": 4,
   "metadata": {},
   "outputs": [],
   "source": [
    "from qcodes.dataset.database import initialise_database\n",
    "from qcodes.dataset.experiment_container import new_experiment"
   ]
  },
  {
   "cell_type": "code",
   "execution_count": 5,
   "metadata": {},
   "outputs": [],
   "source": [
    "from qcodes.instrument.parameter import ParameterWithSetpoints, GeneratedSetPoints"
   ]
  },
  {
   "cell_type": "markdown",
   "metadata": {},
   "source": [
    "Here we define an dummy instrument that returns something like a frequency spectrum from `f_start` to `f_stop`\n",
    "in `n_points` steps. The functionality of the ArrayParameter is implemented only by having a reference to it's setpoints which is consumed by the dataset context manager. To do this we only have to define the parameter for the setpoints and the spectrum and let the parameter know that the frequency axis is the setpoints "
   ]
  },
  {
   "cell_type": "code",
   "execution_count": 6,
   "metadata": {},
   "outputs": [],
   "source": [
    "class DummyArray(ParameterWithSetpoints):\n",
    "    \n",
    "    def get_raw(self):\n",
    "        npoints = self.root_instrument.n_points()\n",
    "        return np.random.rand(npoints)\n",
    "    \n",
    "\n",
    "class DummySpectrumAnalyzer(Instrument):\n",
    "    \n",
    "    def __init__(self, name, **kwargs):\n",
    "        \n",
    "        super().__init__(name, **kwargs)\n",
    "            \n",
    "\n",
    "        self.add_parameter('f_start',\n",
    "                           initial_value=0,\n",
    "                           unit='Hz',\n",
    "                           label='f start',\n",
    "                           vals=Numbers(0,1e3),\n",
    "                           get_cmd=None,\n",
    "                           set_cmd=None)\n",
    "\n",
    "        self.add_parameter('f_stop',\n",
    "                           unit='Hz',\n",
    "                           label='f stop',\n",
    "                           vals=Numbers(1,1e3),\n",
    "                           get_cmd=None,\n",
    "                           set_cmd=None)\n",
    "\n",
    "        self.add_parameter('n_points',\n",
    "                           unit='',\n",
    "                           initial_value=10,\n",
    "                           vals=Numbers(1,1e3),\n",
    "                           get_cmd=None,\n",
    "                           set_cmd=None)\n",
    "        \n",
    "        self.add_parameter('freq_axis',\n",
    "                           unit='Hz',\n",
    "                           label='Freq Axis',\n",
    "                           parameter_class=GeneratedSetPoints,\n",
    "                           startparam=self.f_start,\n",
    "                           stopparam=self.f_stop,\n",
    "                           numpointsparam=self.n_points,\n",
    "                           vals=Arrays(shape=(self.n_points,)))\n",
    "                           \n",
    "        self.add_parameter('spectrum',\n",
    "                   unit='dBm',\n",
    "                   setpoints=(self.freq_axis,),\n",
    "                   label='Spectrum',\n",
    "                   parameter_class=DummyArray,\n",
    "                   vals=Arrays(shape=(self.n_points,)))\n",
    "                "
   ]
  },
  {
   "cell_type": "code",
   "execution_count": 7,
   "metadata": {},
   "outputs": [
    {
     "data": {
      "text/plain": [
       "tutorial_exp#no sample#63@C:\\Users\\jenielse/experiments.db\n",
       "----------------------------------------------------------"
      ]
     },
     "execution_count": 7,
     "metadata": {},
     "output_type": "execute_result"
    }
   ],
   "source": [
    "initialise_database()\n",
    "new_experiment(name='tutorial_exp', sample_name=\"no sample\")"
   ]
  },
  {
   "cell_type": "code",
   "execution_count": 8,
   "metadata": {},
   "outputs": [],
   "source": [
    "a = DummySpectrumAnalyzer('foobar')"
   ]
  },
  {
   "cell_type": "markdown",
   "metadata": {},
   "source": [
    "First we setup the limits of the spectrum"
   ]
  },
  {
   "cell_type": "code",
   "execution_count": 9,
   "metadata": {},
   "outputs": [],
   "source": [
    "a.f_start(0)\n",
    "a.f_stop(500)\n",
    "a.n_points(501)"
   ]
  },
  {
   "cell_type": "markdown",
   "metadata": {},
   "source": [
    "And we can grab the axis"
   ]
  },
  {
   "cell_type": "code",
   "execution_count": 10,
   "metadata": {
    "scrolled": true
   },
   "outputs": [
    {
     "data": {
      "text/plain": [
       "array([  0.,   1.,   2.,   3.,   4.,   5.,   6.,   7.,   8.,   9.,  10.,\n",
       "        11.,  12.,  13.,  14.,  15.,  16.,  17.,  18.,  19.,  20.,  21.,\n",
       "        22.,  23.,  24.,  25.,  26.,  27.,  28.,  29.,  30.,  31.,  32.,\n",
       "        33.,  34.,  35.,  36.,  37.,  38.,  39.,  40.,  41.,  42.,  43.,\n",
       "        44.,  45.,  46.,  47.,  48.,  49.,  50.,  51.,  52.,  53.,  54.,\n",
       "        55.,  56.,  57.,  58.,  59.,  60.,  61.,  62.,  63.,  64.,  65.,\n",
       "        66.,  67.,  68.,  69.,  70.,  71.,  72.,  73.,  74.,  75.,  76.,\n",
       "        77.,  78.,  79.,  80.,  81.,  82.,  83.,  84.,  85.,  86.,  87.,\n",
       "        88.,  89.,  90.,  91.,  92.,  93.,  94.,  95.,  96.,  97.,  98.,\n",
       "        99., 100., 101., 102., 103., 104., 105., 106., 107., 108., 109.,\n",
       "       110., 111., 112., 113., 114., 115., 116., 117., 118., 119., 120.,\n",
       "       121., 122., 123., 124., 125., 126., 127., 128., 129., 130., 131.,\n",
       "       132., 133., 134., 135., 136., 137., 138., 139., 140., 141., 142.,\n",
       "       143., 144., 145., 146., 147., 148., 149., 150., 151., 152., 153.,\n",
       "       154., 155., 156., 157., 158., 159., 160., 161., 162., 163., 164.,\n",
       "       165., 166., 167., 168., 169., 170., 171., 172., 173., 174., 175.,\n",
       "       176., 177., 178., 179., 180., 181., 182., 183., 184., 185., 186.,\n",
       "       187., 188., 189., 190., 191., 192., 193., 194., 195., 196., 197.,\n",
       "       198., 199., 200., 201., 202., 203., 204., 205., 206., 207., 208.,\n",
       "       209., 210., 211., 212., 213., 214., 215., 216., 217., 218., 219.,\n",
       "       220., 221., 222., 223., 224., 225., 226., 227., 228., 229., 230.,\n",
       "       231., 232., 233., 234., 235., 236., 237., 238., 239., 240., 241.,\n",
       "       242., 243., 244., 245., 246., 247., 248., 249., 250., 251., 252.,\n",
       "       253., 254., 255., 256., 257., 258., 259., 260., 261., 262., 263.,\n",
       "       264., 265., 266., 267., 268., 269., 270., 271., 272., 273., 274.,\n",
       "       275., 276., 277., 278., 279., 280., 281., 282., 283., 284., 285.,\n",
       "       286., 287., 288., 289., 290., 291., 292., 293., 294., 295., 296.,\n",
       "       297., 298., 299., 300., 301., 302., 303., 304., 305., 306., 307.,\n",
       "       308., 309., 310., 311., 312., 313., 314., 315., 316., 317., 318.,\n",
       "       319., 320., 321., 322., 323., 324., 325., 326., 327., 328., 329.,\n",
       "       330., 331., 332., 333., 334., 335., 336., 337., 338., 339., 340.,\n",
       "       341., 342., 343., 344., 345., 346., 347., 348., 349., 350., 351.,\n",
       "       352., 353., 354., 355., 356., 357., 358., 359., 360., 361., 362.,\n",
       "       363., 364., 365., 366., 367., 368., 369., 370., 371., 372., 373.,\n",
       "       374., 375., 376., 377., 378., 379., 380., 381., 382., 383., 384.,\n",
       "       385., 386., 387., 388., 389., 390., 391., 392., 393., 394., 395.,\n",
       "       396., 397., 398., 399., 400., 401., 402., 403., 404., 405., 406.,\n",
       "       407., 408., 409., 410., 411., 412., 413., 414., 415., 416., 417.,\n",
       "       418., 419., 420., 421., 422., 423., 424., 425., 426., 427., 428.,\n",
       "       429., 430., 431., 432., 433., 434., 435., 436., 437., 438., 439.,\n",
       "       440., 441., 442., 443., 444., 445., 446., 447., 448., 449., 450.,\n",
       "       451., 452., 453., 454., 455., 456., 457., 458., 459., 460., 461.,\n",
       "       462., 463., 464., 465., 466., 467., 468., 469., 470., 471., 472.,\n",
       "       473., 474., 475., 476., 477., 478., 479., 480., 481., 482., 483.,\n",
       "       484., 485., 486., 487., 488., 489., 490., 491., 492., 493., 494.,\n",
       "       495., 496., 497., 498., 499., 500.])"
      ]
     },
     "execution_count": 10,
     "metadata": {},
     "output_type": "execute_result"
    }
   ],
   "source": [
    "a.freq_axis()"
   ]
  },
  {
   "cell_type": "markdown",
   "metadata": {},
   "source": [
    "Or the spectrum"
   ]
  },
  {
   "cell_type": "code",
   "execution_count": 11,
   "metadata": {},
   "outputs": [],
   "source": [
    "a.spectrum.validate(a.spectrum.get())"
   ]
  },
  {
   "cell_type": "code",
   "execution_count": 12,
   "metadata": {
    "scrolled": true
   },
   "outputs": [
    {
     "data": {
      "text/plain": [
       "array([7.09353668e-01, 9.62526695e-01, 2.05186526e-01, 2.94036210e-01,\n",
       "       5.06606897e-01, 8.29893568e-02, 3.33735907e-01, 4.42400625e-01,\n",
       "       9.16681461e-02, 5.81358311e-01, 4.51932652e-01, 1.87074773e-01,\n",
       "       2.02380668e-01, 6.53316860e-01, 1.72141579e-01, 1.86279204e-02,\n",
       "       9.64464161e-01, 9.49980096e-01, 2.18509360e-01, 8.73908097e-01,\n",
       "       6.95477171e-01, 8.45280249e-02, 9.88475564e-01, 7.48583006e-01,\n",
       "       3.75698256e-01, 6.63416424e-01, 4.45721082e-02, 2.01031788e-02,\n",
       "       9.11969530e-01, 3.18978737e-01, 4.55256870e-02, 7.69627991e-02,\n",
       "       6.15589717e-01, 8.30054206e-01, 9.85316349e-01, 1.99833448e-03,\n",
       "       8.13712260e-01, 9.19068159e-01, 3.33893582e-01, 3.88520350e-02,\n",
       "       1.83501588e-01, 5.81598202e-02, 8.79058536e-01, 2.77580615e-01,\n",
       "       3.98459361e-01, 7.45159171e-01, 7.02160997e-01, 5.60560683e-02,\n",
       "       5.76319201e-02, 9.78713128e-01, 4.29086064e-01, 7.81239698e-01,\n",
       "       6.19173707e-01, 4.12860279e-01, 8.23556372e-01, 7.49529829e-01,\n",
       "       7.55891724e-01, 7.42013651e-01, 9.37166401e-01, 5.43522184e-01,\n",
       "       1.74112046e-01, 3.25670153e-01, 4.02071966e-01, 3.51439899e-01,\n",
       "       4.79960705e-03, 3.14422078e-01, 4.57832590e-01, 7.29089167e-01,\n",
       "       2.58896393e-01, 2.87889367e-01, 8.61067921e-01, 9.25230633e-01,\n",
       "       6.44048295e-01, 3.64113298e-01, 2.64303767e-01, 4.01498595e-01,\n",
       "       8.68587905e-01, 4.46729418e-01, 1.79973147e-01, 8.55623848e-01,\n",
       "       7.05578618e-01, 6.49133124e-02, 3.40334113e-01, 3.34551352e-01,\n",
       "       2.23539275e-01, 3.27454771e-01, 5.52446482e-01, 5.16947526e-01,\n",
       "       2.08712682e-02, 9.85773753e-01, 3.88270161e-01, 5.96030381e-01,\n",
       "       3.81211576e-01, 4.55289491e-01, 2.37034394e-01, 6.91144419e-01,\n",
       "       6.42137779e-01, 3.89827594e-01, 4.29574203e-01, 6.50335229e-01,\n",
       "       7.50633240e-01, 1.32563218e-01, 4.68072279e-01, 6.75685283e-02,\n",
       "       5.08124884e-01, 3.34996761e-01, 7.40747513e-01, 9.16839049e-01,\n",
       "       3.24649033e-01, 5.80205772e-01, 2.93499564e-01, 2.47584909e-01,\n",
       "       2.23377815e-01, 1.77509937e-02, 1.84711321e-02, 1.35751273e-01,\n",
       "       4.58604245e-01, 6.28305184e-01, 2.11246334e-01, 4.86252224e-01,\n",
       "       8.85202409e-01, 7.17454767e-01, 6.17601745e-01, 6.07385077e-01,\n",
       "       7.55295664e-01, 2.45392849e-01, 1.39976166e-01, 5.75345114e-01,\n",
       "       1.56436241e-01, 8.83996738e-01, 1.46138948e-01, 9.42592999e-01,\n",
       "       4.12792520e-01, 3.28642418e-01, 6.11616517e-01, 5.60769417e-03,\n",
       "       2.38672892e-01, 6.15462478e-01, 7.00537136e-01, 8.22390906e-01,\n",
       "       1.55402367e-01, 6.28009565e-01, 2.68966090e-01, 7.90871837e-01,\n",
       "       2.28346655e-01, 2.75343171e-01, 8.13750054e-01, 7.53443969e-01,\n",
       "       7.99290638e-01, 2.90218717e-01, 2.55830396e-01, 7.17757247e-01,\n",
       "       8.43734674e-02, 5.20829398e-01, 8.86829782e-01, 8.55842105e-01,\n",
       "       6.64248055e-01, 4.04387578e-02, 8.75280574e-01, 1.68050943e-01,\n",
       "       7.98076907e-01, 8.33409292e-01, 7.40736072e-01, 2.39010957e-01,\n",
       "       1.99455494e-01, 9.60740289e-01, 3.25391594e-01, 9.54422202e-01,\n",
       "       8.46239593e-01, 9.70279000e-01, 1.32264057e-01, 4.03132418e-01,\n",
       "       9.10979553e-01, 3.93828183e-01, 2.46929853e-01, 3.05602650e-01,\n",
       "       2.71775923e-01, 6.14691862e-01, 2.52237141e-01, 8.73804861e-01,\n",
       "       6.52974507e-01, 7.16051855e-01, 5.84852911e-01, 6.02846059e-01,\n",
       "       1.91431642e-01, 5.65150815e-01, 1.82410861e-01, 3.23469888e-01,\n",
       "       7.01655609e-01, 4.51610492e-01, 1.58709564e-02, 1.49868905e-01,\n",
       "       4.97765761e-01, 6.83040352e-01, 8.20060050e-01, 7.18731554e-01,\n",
       "       7.66145447e-01, 6.08697758e-01, 4.00422571e-01, 1.52821461e-01,\n",
       "       8.48815424e-01, 8.91558712e-01, 9.38945586e-01, 6.91928620e-01,\n",
       "       2.89137947e-01, 8.23763098e-01, 6.82799643e-01, 4.10494746e-01,\n",
       "       2.69825570e-01, 4.05327956e-02, 8.41091147e-01, 6.81156126e-01,\n",
       "       9.14766597e-01, 8.46775579e-01, 1.91966078e-01, 2.68157194e-01,\n",
       "       3.78167197e-01, 4.82941997e-01, 5.50622873e-01, 7.09060906e-01,\n",
       "       7.10077724e-01, 1.17737378e-01, 8.49259825e-02, 7.53163443e-01,\n",
       "       3.68951299e-01, 5.42090007e-04, 2.99659038e-01, 4.96339383e-01,\n",
       "       2.23692424e-01, 7.42260669e-01, 7.44031887e-02, 6.32988177e-01,\n",
       "       5.17318883e-01, 9.48007537e-01, 9.83153736e-01, 8.67224519e-01,\n",
       "       6.49466971e-01, 6.16388135e-01, 5.13909254e-01, 8.70723203e-01,\n",
       "       5.98542774e-01, 1.19243613e-01, 1.76926389e-01, 9.88427472e-01,\n",
       "       5.64004832e-01, 1.27173880e-01, 5.45575938e-01, 8.52239332e-01,\n",
       "       9.62916301e-01, 8.36671286e-01, 7.02507891e-01, 4.37875020e-01,\n",
       "       8.48639742e-01, 8.37612792e-01, 2.44061132e-01, 8.19182148e-01,\n",
       "       7.80829582e-01, 7.11999637e-01, 5.69630037e-01, 2.37832838e-01,\n",
       "       8.51984166e-01, 4.04782371e-01, 5.02426170e-01, 1.58531658e-01,\n",
       "       1.44148505e-01, 8.65042477e-01, 1.40721404e-01, 6.19958375e-01,\n",
       "       9.04469382e-01, 8.04154797e-01, 5.51566063e-01, 4.35646948e-01,\n",
       "       3.89373126e-01, 5.68588723e-01, 5.82620818e-01, 1.72044353e-01,\n",
       "       5.84698666e-01, 6.96358353e-01, 2.80064847e-01, 1.11318866e-01,\n",
       "       8.35137290e-01, 8.74821612e-01, 7.64265540e-01, 7.07735272e-01,\n",
       "       9.31654395e-01, 7.67736303e-01, 6.76776277e-01, 7.48104296e-01,\n",
       "       9.30726201e-01, 7.14602610e-01, 9.36748783e-01, 6.04344153e-01,\n",
       "       5.60057974e-01, 9.24687580e-01, 7.50175115e-02, 9.70927896e-01,\n",
       "       9.91568314e-03, 7.47778250e-01, 8.92419334e-01, 3.74285844e-01,\n",
       "       1.41937210e-01, 2.81440512e-02, 2.16553368e-01, 1.52492342e-01,\n",
       "       4.61153793e-01, 1.68838884e-01, 7.76991673e-01, 6.62240902e-01,\n",
       "       7.09309322e-01, 3.96205376e-01, 6.58291602e-01, 7.58788544e-01,\n",
       "       5.97356848e-01, 5.24229596e-01, 5.44891543e-01, 8.32668515e-01,\n",
       "       2.54100442e-01, 1.21613964e-01, 2.06075373e-01, 9.57780926e-01,\n",
       "       1.67754656e-01, 8.44389250e-01, 4.90915971e-01, 9.85315419e-01,\n",
       "       3.58931990e-01, 1.75352462e-01, 5.48442741e-01, 9.69724630e-01,\n",
       "       7.84696761e-01, 5.95453211e-01, 4.46227847e-01, 5.56367034e-01,\n",
       "       1.32768080e-01, 2.40457994e-01, 5.16025790e-01, 3.35198116e-01,\n",
       "       1.96859303e-02, 4.73916440e-01, 5.13924078e-01, 7.95614141e-03,\n",
       "       7.03834387e-01, 2.30139796e-01, 9.22670026e-01, 8.06222913e-01,\n",
       "       2.74788244e-01, 8.01547933e-01, 5.26186281e-01, 3.67969257e-01,\n",
       "       6.67493545e-02, 8.19918941e-01, 8.22979906e-01, 8.47044716e-01,\n",
       "       8.86409061e-01, 7.54259578e-01, 7.75318427e-01, 9.39424840e-01,\n",
       "       8.91715831e-01, 5.89820922e-01, 2.22696854e-01, 6.73415611e-02,\n",
       "       1.82561702e-01, 2.83042062e-01, 4.54999958e-01, 5.62660691e-01,\n",
       "       5.05646810e-01, 6.39395318e-01, 3.04989084e-01, 7.34171101e-01,\n",
       "       2.62020818e-01, 8.67640847e-01, 1.33128948e-01, 5.65729831e-01,\n",
       "       6.77766201e-01, 8.79206033e-01, 3.01816459e-01, 1.48754984e-01,\n",
       "       3.53535420e-01, 6.74319003e-01, 6.86249130e-01, 5.38895789e-01,\n",
       "       7.90107305e-01, 4.97196863e-01, 3.92791954e-01, 9.00572811e-01,\n",
       "       8.64999057e-01, 2.25876316e-01, 2.38182449e-01, 6.67462145e-01,\n",
       "       4.57156070e-01, 2.28598486e-01, 8.56032752e-01, 3.19034835e-01,\n",
       "       1.54671766e-02, 5.65654395e-01, 7.06621873e-01, 7.50065321e-01,\n",
       "       1.02797119e-01, 2.74504727e-02, 2.81663345e-01, 2.20485667e-01,\n",
       "       1.03373229e-01, 2.95338198e-01, 5.20948016e-01, 6.82498498e-01,\n",
       "       2.52836581e-01, 1.79905515e-01, 5.93305874e-01, 8.96879916e-01,\n",
       "       3.26623208e-01, 9.07221366e-01, 6.56687833e-01, 9.73822788e-01,\n",
       "       4.09865141e-01, 2.45423235e-01, 2.69359733e-01, 1.49531897e-01,\n",
       "       9.34080269e-01, 6.67603782e-01, 1.86377318e-01, 7.40802937e-01,\n",
       "       6.30561849e-01, 7.18895820e-01, 4.08513231e-01, 3.17966177e-01,\n",
       "       6.17779009e-01, 3.90437029e-01, 7.94862578e-01, 9.85788627e-02,\n",
       "       3.28066179e-01, 2.26438034e-01, 6.17329521e-01, 3.85326397e-01,\n",
       "       6.01781844e-01, 6.89534572e-01, 8.56048988e-01, 8.11034554e-01,\n",
       "       7.04480431e-03, 6.18811079e-01, 1.04159197e-01, 6.77885586e-01,\n",
       "       3.11216630e-01, 8.82639409e-01, 4.98601025e-02, 8.62054586e-02,\n",
       "       3.90111802e-01, 4.86802713e-01, 3.86178727e-01, 8.16806377e-01,\n",
       "       5.59569936e-01, 9.31851945e-01, 3.38537080e-01, 6.65107848e-01,\n",
       "       2.87820375e-01, 1.66643374e-01, 1.52961276e-01, 8.12295908e-01,\n",
       "       1.23274592e-01, 8.76236833e-01, 7.33592633e-01, 1.30967942e-01,\n",
       "       9.30508799e-01, 4.33689890e-02, 5.00731512e-02, 3.48616422e-01,\n",
       "       2.14162784e-01, 7.06106345e-01, 8.15929613e-01, 9.80794906e-01,\n",
       "       2.15223564e-01, 7.14210665e-01, 9.54456416e-01, 4.12783683e-01,\n",
       "       9.25716133e-01, 6.43724159e-01, 2.47726754e-01, 5.34835031e-01,\n",
       "       8.28760836e-01, 7.48169391e-01, 2.77494772e-01, 7.17041031e-01,\n",
       "       6.25623702e-01, 8.55655412e-01, 6.78380144e-02, 5.66745731e-01,\n",
       "       6.77679139e-01, 2.86716794e-01, 3.25670901e-01, 9.96884751e-01,\n",
       "       1.68874871e-01, 9.49903707e-01, 9.24780280e-01, 4.47229079e-01,\n",
       "       8.81187926e-01, 9.12028693e-01, 5.33108739e-01, 7.19084041e-01,\n",
       "       3.22300678e-02, 7.55049706e-01, 9.64847183e-01, 8.02197067e-01,\n",
       "       8.84905621e-01])"
      ]
     },
     "execution_count": 12,
     "metadata": {},
     "output_type": "execute_result"
    }
   ],
   "source": [
    "a.spectrum.get()"
   ]
  },
  {
   "cell_type": "markdown",
   "metadata": {},
   "source": [
    "We can also directly consume the parameter in a measurement"
   ]
  },
  {
   "cell_type": "code",
   "execution_count": 13,
   "metadata": {},
   "outputs": [
    {
     "name": "stdout",
     "output_type": "stream",
     "text": [
      "Starting experimental run with id: 194\n"
     ]
    }
   ],
   "source": [
    "meas = Measurement()\n",
    "meas.register_parameter(a.spectrum)  # register the first independent parameter\n",
    "\n",
    "with meas.run() as datasaver:\n",
    "    datasaver.add_result((a.spectrum, a.spectrum.get(),))\n",
    "    \n",
    "    dataid = datasaver.run_id  # convenient to have for plotting"
   ]
  },
  {
   "cell_type": "code",
   "execution_count": 14,
   "metadata": {},
   "outputs": [],
   "source": [
    "from qcodes.dataset.plotting import plot_by_id"
   ]
  },
  {
   "cell_type": "markdown",
   "metadata": {},
   "source": [
    "And plot it"
   ]
  },
  {
   "cell_type": "code",
   "execution_count": 15,
   "metadata": {},
   "outputs": [
    {
     "data": {
      "text/plain": [
       "([<matplotlib.axes._subplots.AxesSubplot at 0x1a94560a080>], [None])"
      ]
     },
     "execution_count": 15,
     "metadata": {},
     "output_type": "execute_result"
    },
    {
     "data": {
      "image/png": "[encoded data removed]",
      "text/plain": [
       "<Figure size 432x288 with 1 Axes>"
      ]
     },
     "metadata": {
      "needs_background": "light"
     },
     "output_type": "display_data"
    }
   ],
   "source": [
    "plot_by_id(dataid)"
   ]
  },
  {
   "cell_type": "code",
   "execution_count": null,
   "metadata": {},
   "outputs": [],
   "source": []
  }
 ],
 "metadata": {
  "kernelspec": {
   "display_name": "Python 3",
   "language": "python",
   "name": "python3"
  },
  "language_info": {
   "codemirror_mode": {
    "name": "ipython",
    "version": 3
   },
   "file_extension": ".py",
   "mimetype": "text/x-python",
   "name": "python",
   "nbconvert_exporter": "python",
   "pygments_lexer": "ipython3",
   "version": "3.6.8"
  },
  "toc": {
   "base_numbering": 1,
   "nav_menu": {},
   "number_sections": true,
   "sideBar": true,
   "skip_h1_title": false,
   "title_cell": "Table of Contents",
   "title_sidebar": "Contents",
   "toc_cell": false,
   "toc_position": {},
   "toc_section_display": true,
   "toc_window_display": false
  },
  "varInspector": {
   "cols": {
    "lenName": 16,
    "lenType": 16,
    "lenVar": 40
   },
   "kernels_config": {
    "python": {
     "delete_cmd_postfix": "",
     "delete_cmd_prefix": "del ",
     "library": "var_list.py",
     "varRefreshCmd": "print(var_dic_list())"
    },
    "r": {
     "delete_cmd_postfix": ") ",
     "delete_cmd_prefix": "rm(",
     "library": "var_list.r",
     "varRefreshCmd": "cat(var_dic_list()) "
    }
   },
   "types_to_exclude": [
    "module",
    "function",
    "builtin_function_or_method",
    "instance",
    "_Feature"
   ],
   "window_display": false
  }
 },
 "nbformat": 4,
 "nbformat_minor": 2
}
