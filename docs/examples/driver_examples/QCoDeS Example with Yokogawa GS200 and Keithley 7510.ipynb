{
 "cells": [
  {
   "cell_type": "markdown",
   "metadata": {},
   "source": [
    "# QCoDeS Example with Yokogawa GS200 and Keithley 7510 Multimeter"
   ]
  },
  {
   "cell_type": "markdown",
   "metadata": {},
   "source": [
    "In this example, we will show how to use the Yokogawa GS200 smu and keithley 7510 dmm to perform a sweep measurement. The GS200 smu will source current through a 10 Ohm resistor using the **program** feature, and **trigger** the the 7510 dmm, which will measure the voltage across the resistor by **digitize** function."
   ]
  },
  {
   "cell_type": "code",
   "execution_count": 1,
   "metadata": {},
   "outputs": [],
   "source": [
    "import matplotlib.pyplot as plt\n",
    "import numpy as np\n",
    "import time\n",
    "\n",
    "from qcodes.dataset.plotting import plot_dataset\n",
    "from qcodes.dataset.measurements import Measurement\n",
    "\n",
    "from qcodes.instrument_drivers.yokogawa.GS200 import GS200\n",
    "from qcodes.instrument_drivers.tektronix.keithley_7510 import Keithley7510"
   ]
  },
  {
   "cell_type": "code",
   "execution_count": 2,
   "metadata": {
    "scrolled": false
   },
   "outputs": [
    {
     "name": "stdout",
     "output_type": "stream",
     "text": [
      "Connected to: YOKOGAWA GS210 (serial:91W434594, firmware:2.02) in 0.06s\n",
      "Connected to: KEITHLEY INSTRUMENTS DMM7510 (serial:04450961, firmware:1.6.7d) in 0.03s\n"
     ]
    }
   ],
   "source": [
    "gs = GS200(\"gs200\", 'USB0::0x0B21::0x0039::91W434594::INSTR')\n",
    "dmm = Keithley7510(\"dmm_7510\", 'USB0::0x05E6::0x7510::04450961::INSTR')"
   ]
  },
  {
   "cell_type": "code",
   "execution_count": 3,
   "metadata": {},
   "outputs": [],
   "source": [
    "gs.reset()\n",
    "dmm.reset()"
   ]
  },
  {
   "cell_type": "markdown",
   "metadata": {},
   "source": [
    "## 1. GS200 setup"
   ]
  },
  {
   "cell_type": "markdown",
   "metadata": {},
   "source": [
    "To set the source mode to be \"current\" (by default it's \"votage\"), and set the current range and votlage limit."
   ]
  },
  {
   "cell_type": "code",
   "execution_count": 4,
   "metadata": {},
   "outputs": [],
   "source": [
    "gs.source_mode('CURR')\n",
    "gs.current(0)\n",
    "gs.current_range(.01)\n",
    "gs.voltage_limit(5)"
   ]
  },
  {
   "cell_type": "markdown",
   "metadata": {},
   "source": [
    "By default, the output should be off:"
   ]
  },
  {
   "cell_type": "code",
   "execution_count": 5,
   "metadata": {},
   "outputs": [
    {
     "data": {
      "text/plain": [
       "'off'"
      ]
     },
     "execution_count": 5,
     "metadata": {},
     "output_type": "execute_result"
    }
   ],
   "source": [
    "gs.output()"
   ]
  },
  {
   "cell_type": "markdown",
   "metadata": {},
   "source": [
    "### 1.1 Trigger Settings"
   ]
  },
  {
   "cell_type": "markdown",
   "metadata": {},
   "source": [
    "The BNC port will be use for triggering out. There are three different settings for trigger out signal:\n",
    "\n",
    "• **Trigger** (default)\n",
    "\n",
    "This pin transmits the TrigBusy signal. A low-level signal upon trigger generation and a\n",
    "high-level signal upon source operation completion.\n",
    "\n",
    "• **Output**\n",
    "\n",
    "This pin transmits the output state. A high-level signal if the output is off and a lowlevel\n",
    "signal if the output is on.\n",
    "\n",
    "• **Ready**\n",
    "\n",
    "This pin transmits the source change completion signal (Ready). This is transmitted\n",
    "10 ms after the source level changes as a low pulse with a width of 10 μs."
   ]
  },
  {
   "cell_type": "code",
   "execution_count": 6,
   "metadata": {},
   "outputs": [
    {
     "name": "stdout",
     "output_type": "stream",
     "text": [
      "By default, the setting for BNC trigger out is \"TRIG\".\n"
     ]
    }
   ],
   "source": [
    "print(f'By default, the setting for BNC trigger out is \"{gs.BNC_out()}\".')"
   ]
  },
  {
   "cell_type": "markdown",
   "metadata": {},
   "source": [
    "### 1.2 Program the sweep"
   ]
  },
  {
   "cell_type": "markdown",
   "metadata": {},
   "source": [
    "The GS200 does not have a build-in \"sweep\" function, but the \"program\" feature can generate a source data pattern that user specified as a program in advance."
   ]
  },
  {
   "cell_type": "markdown",
   "metadata": {},
   "source": [
    "The following is a simple program, in which the current changes first to 0.01A, then -0.01A, and returns to 0A:"
   ]
  },
  {
   "cell_type": "code",
   "execution_count": 7,
   "metadata": {},
   "outputs": [],
   "source": [
    "gs.program.start() # Starts program memory editing\n",
    "gs.current(0.01)\n",
    "gs.current(-0.01)\n",
    "gs.current(0.0)\n",
    "gs.program.end()  # Ends program memory editing"
   ]
  },
  {
   "cell_type": "markdown",
   "metadata": {},
   "source": [
    "It can be save to the system memory (memory of the GS200):"
   ]
  },
  {
   "cell_type": "code",
   "execution_count": 8,
   "metadata": {},
   "outputs": [],
   "source": [
    "gs.program.save('test1_up_and_down.csv')"
   ]
  },
  {
   "cell_type": "markdown",
   "metadata": {},
   "source": [
    "The advantage of saving to the memory is that the user can have multiple patterns stored:"
   ]
  },
  {
   "cell_type": "code",
   "execution_count": 9,
   "metadata": {},
   "outputs": [],
   "source": [
    "gs.program.start() # Starts program memory editing\n",
    "gs.current(0.01)\n",
    "gs.current(-0.01)\n",
    "gs.current(0.005)\n",
    "gs.current(0.0)\n",
    "gs.program.end()  # Ends program memory editing"
   ]
  },
  {
   "cell_type": "code",
   "execution_count": 10,
   "metadata": {},
   "outputs": [],
   "source": [
    "gs.program.save('test2_up_down_up.csv')"
   ]
  },
  {
   "cell_type": "markdown",
   "metadata": {},
   "source": [
    "Let's load the first one:"
   ]
  },
  {
   "cell_type": "code",
   "execution_count": 11,
   "metadata": {},
   "outputs": [],
   "source": [
    "gs.program.load('test1_up_and_down.csv')"
   ]
  },
  {
   "cell_type": "markdown",
   "metadata": {},
   "source": [
    "The interval time between each value is set as following:"
   ]
  },
  {
   "cell_type": "code",
   "execution_count": 12,
   "metadata": {},
   "outputs": [
    {
     "name": "stdout",
     "output_type": "stream",
     "text": [
      "The interval time is 0.1 s\n"
     ]
    }
   ],
   "source": [
    "gs.program.interval(.1)\n",
    "print(f'The interval time is {float(gs.program.interval())} s')"
   ]
  },
  {
   "cell_type": "markdown",
   "metadata": {},
   "source": [
    "By default, the change is instant, so the output would be like the following:"
   ]
  },
  {
   "cell_type": "code",
   "execution_count": 13,
   "metadata": {},
   "outputs": [
    {
     "data": {
      "text/plain": [
       "Text(0, 0.5, 'source current(A)')"
      ]
     },
     "execution_count": 13,
     "metadata": {},
     "output_type": "execute_result"
    },
    {
     "data": {
      "image/png": "[encoded data removed]",
      "text/plain": [
       "<Figure size 432x288 with 1 Axes>"
      ]
     },
     "metadata": {
      "needs_background": "light"
     },
     "output_type": "display_data"
    }
   ],
   "source": [
    "t_axis = [0, 0, 0.1, 0.1, 0.2, 0.2, 0.3, 0.4]\n",
    "curr_axis = [0, 0.01, 0.01, -0.01, -0.01, 0, 0, 0]\n",
    "plt.plot(t_axis, curr_axis)\n",
    "plt.xlabel('time (s)')\n",
    "plt.ylabel('source current(A)')"
   ]
  },
  {
   "cell_type": "markdown",
   "metadata": {},
   "source": [
    "But we want to introduce a \"slope\" between each source values: (see the user's manual for more examples of the \"slope time\")"
   ]
  },
  {
   "cell_type": "code",
   "execution_count": 14,
   "metadata": {},
   "outputs": [
    {
     "name": "stdout",
     "output_type": "stream",
     "text": [
      "The slope time is 0.1 s\n"
     ]
    }
   ],
   "source": [
    "gs.program.slope(.1)\n",
    "print(f'The slope time is {float(gs.program.slope())} s')"
   ]
  },
  {
   "cell_type": "markdown",
   "metadata": {},
   "source": [
    "As a result, the expected output current will be:"
   ]
  },
  {
   "cell_type": "code",
   "execution_count": 15,
   "metadata": {},
   "outputs": [
    {
     "data": {
      "text/plain": [
       "Text(0, 0.5, 'source current(A)')"
      ]
     },
     "execution_count": 15,
     "metadata": {},
     "output_type": "execute_result"
    },
    {
     "data": {
      "image/png": "[encoded data removed]",
      "text/plain": [
       "<Figure size 432x288 with 1 Axes>"
      ]
     },
     "metadata": {
      "needs_background": "light"
     },
     "output_type": "display_data"
    }
   ],
   "source": [
    "t_axis = [0, 0.1, 0.2, 0.3, 0.4]\n",
    "curr_axis = [0, 0.01, -0.01, 0, 0]\n",
    "plt.plot(t_axis, curr_axis)\n",
    "plt.xlabel('time (s)')\n",
    "plt.ylabel('source current(A)')"
   ]
  },
  {
   "cell_type": "markdown",
   "metadata": {},
   "source": [
    "By default, the GS200 will keep repeating this pattern once it starts:"
   ]
  },
  {
   "cell_type": "code",
   "execution_count": 16,
   "metadata": {},
   "outputs": [
    {
     "data": {
      "text/plain": [
       "'ON'"
      ]
     },
     "execution_count": 16,
     "metadata": {},
     "output_type": "execute_result"
    }
   ],
   "source": [
    "gs.program.repeat()"
   ]
  },
  {
   "cell_type": "markdown",
   "metadata": {},
   "source": [
    "We only want it to generate the pattern once:"
   ]
  },
  {
   "cell_type": "code",
   "execution_count": 17,
   "metadata": {},
   "outputs": [
    {
     "name": "stdout",
     "output_type": "stream",
     "text": [
      "The program repetition mode is now OFF.\n"
     ]
    }
   ],
   "source": [
    "gs.program.repeat('OFF')\n",
    "print(f'The program repetition mode is now {gs.program.repeat()}.')"
   ]
  },
  {
   "cell_type": "markdown",
   "metadata": {},
   "source": [
    "Note: at this moment, the output of the GS200 should still be off:"
   ]
  },
  {
   "cell_type": "code",
   "execution_count": 18,
   "metadata": {},
   "outputs": [
    {
     "data": {
      "text/plain": [
       "'off'"
      ]
     },
     "execution_count": 18,
     "metadata": {},
     "output_type": "execute_result"
    }
   ],
   "source": [
    "gs.output()"
   ]
  },
  {
   "cell_type": "markdown",
   "metadata": {},
   "source": [
    "## 2. Keithley 7510 Setup"
   ]
  },
  {
   "cell_type": "markdown",
   "metadata": {},
   "source": [
    "### 2.1 Setup basic digitize mode"
   ]
  },
  {
   "cell_type": "markdown",
   "metadata": {},
   "source": [
    "The DMM7510 digitize functions make fast, predictably spaced measurements. The speed, sensitivity, and bandwidth of the digitize functions allows you to make accurate voltage and current readings of fast signals, such as those associated with sensors, audio, medical devices, power line issues, and industrial processes. The digitize functions can provide 1,000,000 readings per second at 4½ digits."
   ]
  },
  {
   "cell_type": "markdown",
   "metadata": {},
   "source": [
    "To set the digitize function to measure voltage, and the range. "
   ]
  },
  {
   "cell_type": "code",
   "execution_count": 19,
   "metadata": {
    "scrolled": false
   },
   "outputs": [],
   "source": [
    "dmm.digi_sense_function('voltage')\n",
    "dmm.digi_sense.range(10)"
   ]
  },
  {
   "cell_type": "markdown",
   "metadata": {},
   "source": [
    "The system will determines when the 10 MΩ input divider is enabled: (for voltage measurement only)"
   ]
  },
  {
   "cell_type": "code",
   "execution_count": 20,
   "metadata": {},
   "outputs": [],
   "source": [
    "dmm.digi_sense.input_impedance('AUTO')"
   ]
  },
  {
   "cell_type": "markdown",
   "metadata": {},
   "source": [
    "To define the precise acquisition rate at which the digitizing measurements are made: (this is for digitize mode only)"
   ]
  },
  {
   "cell_type": "code",
   "execution_count": 21,
   "metadata": {},
   "outputs": [
    {
     "name": "stdout",
     "output_type": "stream",
     "text": [
      "The acquisition rate is 10000 digitizing measurements per second.\n"
     ]
    }
   ],
   "source": [
    "readings_per_second = 10000\n",
    "dmm.digi_sense.acq_rate(readings_per_second)\n",
    "print(f'The acquisition rate is {dmm.digi_sense.acq_rate()} digitizing measurements per second.')"
   ]
  },
  {
   "cell_type": "markdown",
   "metadata": {},
   "source": [
    "We will let the system to decide the aperture size:"
   ]
  },
  {
   "cell_type": "code",
   "execution_count": 22,
   "metadata": {},
   "outputs": [],
   "source": [
    "dmm.digi_sense.aperture('AUTO')"
   ]
  },
  {
   "cell_type": "markdown",
   "metadata": {},
   "source": [
    "We also need to tell the instrument how many readings will be recorded:"
   ]
  },
  {
   "cell_type": "code",
   "execution_count": 23,
   "metadata": {},
   "outputs": [
    {
     "name": "stdout",
     "output_type": "stream",
     "text": [
      "4000 measurements will be made every time the digitize function is triggered.\n"
     ]
    }
   ],
   "source": [
    "number_of_readings = 4000\n",
    "dmm.digi_sense.count(number_of_readings)\n",
    "print(f'{dmm.digi_sense.count()} measurements will be made every time the digitize function is triggered.')"
   ]
  },
  {
   "cell_type": "markdown",
   "metadata": {},
   "source": [
    "### 2.2 Use an user buffer to store the data"
   ]
  },
  {
   "cell_type": "code",
   "execution_count": 24,
   "metadata": {},
   "outputs": [],
   "source": [
    "buffer_name = 'userbuff01'\n",
    "buffer_size = 100000\n",
    "buffer = dmm.buffer(buffer_name, buffer_size)"
   ]
  },
  {
   "cell_type": "code",
   "execution_count": 25,
   "metadata": {},
   "outputs": [
    {
     "name": "stdout",
     "output_type": "stream",
     "text": [
      "The user buffer \"userbuff01\" can store 100000 readings, which is more than enough for this example.\n"
     ]
    }
   ],
   "source": [
    "print(f'The user buffer \"{buffer.short_name}\" can store {buffer.size()} readings, which is more than enough for this example.')"
   ]
  },
  {
   "cell_type": "markdown",
   "metadata": {},
   "source": [
    "One of the benefits of using a larger size is: base on the settings above, the GS200 will send more than one trigger to the 7510. Technically, once a trigger is received, the 7510 unit would ignore any other trigger until it returns to idle. However, in reality it may still response to more than the first trigger. A large size will prevent the data in the buffer from being overwritten."
   ]
  },
  {
   "cell_type": "code",
   "execution_count": 26,
   "metadata": {},
   "outputs": [
    {
     "name": "stdout",
     "output_type": "stream",
     "text": [
      "There are 0 readings in the buffer at this moment.\n"
     ]
    }
   ],
   "source": [
    "print(f'There are {buffer.last_index() - buffer.first_index()} readings in the buffer at this moment.')"
   ]
  },
  {
   "cell_type": "markdown",
   "metadata": {},
   "source": [
    "### 2.3 Setup the tigger in"
   ]
  },
  {
   "cell_type": "markdown",
   "metadata": {},
   "source": [
    "By default, the falling edge will be used to trigger the measurement:"
   ]
  },
  {
   "cell_type": "code",
   "execution_count": 27,
   "metadata": {},
   "outputs": [
    {
     "data": {
      "text/plain": [
       "'FALL'"
      ]
     },
     "execution_count": 27,
     "metadata": {},
     "output_type": "execute_result"
    }
   ],
   "source": [
    "dmm.trigger_in_ext_edge()"
   ]
  },
  {
   "cell_type": "code",
   "execution_count": 28,
   "metadata": {},
   "outputs": [
    {
     "data": {
      "text/plain": [
       "'NONE'"
      ]
     },
     "execution_count": 28,
     "metadata": {},
     "output_type": "execute_result"
    }
   ],
   "source": [
    "dmm.digitize_trigger()"
   ]
  },
  {
   "cell_type": "markdown",
   "metadata": {},
   "source": [
    "We want an external trigger to trigger the measurement:"
   ]
  },
  {
   "cell_type": "code",
   "execution_count": 29,
   "metadata": {},
   "outputs": [
    {
     "data": {
      "text/plain": [
       "'EXT'"
      ]
     },
     "execution_count": 29,
     "metadata": {},
     "output_type": "execute_result"
    }
   ],
   "source": [
    "dmm.digitize_trigger('external')\n",
    "dmm.digitize_trigger()"
   ]
  },
  {
   "cell_type": "markdown",
   "metadata": {},
   "source": [
    "## 3. Check for errors"
   ]
  },
  {
   "cell_type": "code",
   "execution_count": 30,
   "metadata": {},
   "outputs": [],
   "source": [
    "while True:\n",
    "    smu_error = gs.system_errors()\n",
    "    if 'No error' in smu_error:\n",
    "        break\n",
    "    print(smu_error)"
   ]
  },
  {
   "cell_type": "code",
   "execution_count": 31,
   "metadata": {},
   "outputs": [],
   "source": [
    "while True:\n",
    "    dmm_error = dmm.system_errors()\n",
    "    if 'No error' in dmm_error:\n",
    "        break\n",
    "    print(dmm_error)"
   ]
  },
  {
   "cell_type": "markdown",
   "metadata": {},
   "source": [
    "## 4. Make the measurement"
   ]
  },
  {
   "cell_type": "markdown",
   "metadata": {},
   "source": [
    "To clear the external trigger in, and clear the buffer:"
   ]
  },
  {
   "cell_type": "code",
   "execution_count": 32,
   "metadata": {},
   "outputs": [],
   "source": [
    "dmm.trigger_in_ext_clear()\n",
    "buffer.clear_buffer()"
   ]
  },
  {
   "cell_type": "code",
   "execution_count": 33,
   "metadata": {},
   "outputs": [
    {
     "name": "stdout",
     "output_type": "stream",
     "text": [
      "There are total 0 readings in the buffer \"userbuff01\".\n"
     ]
    }
   ],
   "source": [
    "total_data_points = int(buffer.number_of_readings())\n",
    "print(f'There are total {total_data_points} readings in the buffer \"{buffer.short_name}\".')"
   ]
  },
  {
   "cell_type": "markdown",
   "metadata": {},
   "source": [
    "Perform the measurement by turning the GS200 on and run the program:"
   ]
  },
  {
   "cell_type": "code",
   "execution_count": 34,
   "metadata": {},
   "outputs": [],
   "source": [
    "sleep_time = 1  # a sleep time is required, or the GS200 will turn off right away, and won't run the whole program\n",
    "with gs.output.set_to('on'):\n",
    "    gs.program.run()\n",
    "    time.sleep(sleep_time)"
   ]
  },
  {
   "cell_type": "markdown",
   "metadata": {},
   "source": [
    "The GS200 should be off after running:"
   ]
  },
  {
   "cell_type": "code",
   "execution_count": 35,
   "metadata": {},
   "outputs": [
    {
     "data": {
      "text/plain": [
       "'off'"
      ]
     },
     "execution_count": 35,
     "metadata": {},
     "output_type": "execute_result"
    }
   ],
   "source": [
    "gs.output()"
   ]
  },
  {
   "cell_type": "code",
   "execution_count": 36,
   "metadata": {},
   "outputs": [
    {
     "name": "stdout",
     "output_type": "stream",
     "text": [
      "There are 8000 readings in total, so the measurement was performed 2.0 times.\n"
     ]
    }
   ],
   "source": [
    "total_data_points = int(buffer.number_of_readings())\n",
    "print(f'There are {total_data_points} readings in total, so the measurement was performed {round(total_data_points/4000, 2)} times.')"
   ]
  },
  {
   "cell_type": "markdown",
   "metadata": {},
   "source": [
    "Let's use a time series as the setpoints:"
   ]
  },
  {
   "cell_type": "code",
   "execution_count": 37,
   "metadata": {},
   "outputs": [],
   "source": [
    "dt = 1/readings_per_second\n",
    "t0 = 0\n",
    "t1 = (total_data_points-1)*dt"
   ]
  },
  {
   "cell_type": "code",
   "execution_count": 38,
   "metadata": {},
   "outputs": [],
   "source": [
    "buffer.set_setpoints(start=buffer.t_start, stop=buffer.t_stop, label='time')\n",
    "buffer.t_start(t0)\n",
    "buffer.t_stop(t1)"
   ]
  },
  {
   "cell_type": "markdown",
   "metadata": {},
   "source": [
    "To set number of points by specifying the \"data_start\" point and \"data_end\" point for the buffer:"
   ]
  },
  {
   "cell_type": "code",
   "execution_count": 39,
   "metadata": {},
   "outputs": [],
   "source": [
    "buffer.data_start(1)\n",
    "buffer.data_end(total_data_points)"
   ]
  },
  {
   "cell_type": "markdown",
   "metadata": {},
   "source": [
    "\"n_pts\" is read only:"
   ]
  },
  {
   "cell_type": "code",
   "execution_count": 40,
   "metadata": {},
   "outputs": [
    {
     "data": {
      "text/plain": [
       "8000"
      ]
     },
     "execution_count": 40,
     "metadata": {},
     "output_type": "execute_result"
    }
   ],
   "source": [
    "buffer.n_pts()"
   ]
  },
  {
   "cell_type": "markdown",
   "metadata": {},
   "source": [
    "The setpoints:"
   ]
  },
  {
   "cell_type": "code",
   "execution_count": 41,
   "metadata": {},
   "outputs": [
    {
     "data": {
      "text/plain": [
       "array([0.000e+00, 1.000e-04, 2.000e-04, ..., 7.997e-01, 7.998e-01,\n",
       "       7.999e-01])"
      ]
     },
     "execution_count": 41,
     "metadata": {},
     "output_type": "execute_result"
    }
   ],
   "source": [
    "buffer.setpoints()"
   ]
  },
  {
   "cell_type": "markdown",
   "metadata": {},
   "source": [
    "The following are the available elements that saved to the buffer:"
   ]
  },
  {
   "cell_type": "code",
   "execution_count": 42,
   "metadata": {
    "scrolled": true
   },
   "outputs": [
    {
     "data": {
      "text/plain": [
       "{'date',\n",
       " 'fractional_seconds',\n",
       " 'measurement',\n",
       " 'measurement_formatted',\n",
       " 'measurement_status',\n",
       " 'measurement_unit',\n",
       " 'relative_time',\n",
       " 'seconds',\n",
       " 'time',\n",
       " 'timestamp'}"
      ]
     },
     "execution_count": 42,
     "metadata": {},
     "output_type": "execute_result"
    }
   ],
   "source": [
    "buffer.available_elements"
   ]
  },
  {
   "cell_type": "markdown",
   "metadata": {},
   "source": [
    "User can select multiple ones:"
   ]
  },
  {
   "cell_type": "code",
   "execution_count": 43,
   "metadata": {},
   "outputs": [
    {
     "data": {
      "text/plain": [
       "['measurement', 'relative_time']"
      ]
     },
     "execution_count": 43,
     "metadata": {},
     "output_type": "execute_result"
    }
   ],
   "source": [
    "buffer.elements(['measurement', 'relative_time'])\n",
    "buffer.elements()"
   ]
  },
  {
   "cell_type": "code",
   "execution_count": 44,
   "metadata": {},
   "outputs": [
    {
     "name": "stdout",
     "output_type": "stream",
     "text": [
      "Starting experimental run with id: 145. \n"
     ]
    }
   ],
   "source": [
    "meas = Measurement()\n",
    "meas.register_parameter(buffer.data)\n",
    "\n",
    "with meas.run() as datasaver:\n",
    "    data = buffer.data\n",
    "    datasaver.add_result((buffer.data, data()))\n",
    "    \n",
    "    dataid = datasaver.run_id"
   ]
  },
  {
   "cell_type": "code",
   "execution_count": 45,
   "metadata": {},
   "outputs": [
    {
     "data": {
      "text/plain": [
       "([<matplotlib.axes._subplots.AxesSubplot at 0x204fe124288>,\n",
       "  <matplotlib.axes._subplots.AxesSubplot at 0x204fe223308>],\n",
       " [None, None])"
      ]
     },
     "execution_count": 45,
     "metadata": {},
     "output_type": "execute_result"
    },
    {
     "data": {
      "image/png": "[encoded data removed]",
      "text/plain": [
       "<Figure size 432x288 with 1 Axes>"
      ]
     },
     "metadata": {
      "needs_background": "light"
     },
     "output_type": "display_data"
    },
    {
     "data": {
      "image/png": "[encoded data removed]",
      "text/plain": [
       "<Figure size 432x288 with 1 Axes>"
      ]
     },
     "metadata": {
      "needs_background": "light"
     },
     "output_type": "display_data"
    }
   ],
   "source": [
    "plot_dataset(datasaver.dataset)"
   ]
  },
  {
   "cell_type": "markdown",
   "metadata": {},
   "source": [
    "(The second plot is t-t plot so a straight line.)"
   ]
  },
  {
   "cell_type": "code",
   "execution_count": 46,
   "metadata": {},
   "outputs": [
    {
     "data": {
      "text/plain": [
       "{'measurement': {'measurement': array([-1.363910e-05, -1.818543e-05,  2.136810e-04, ...,  4.394858e-05,\n",
       "          3.485577e-05,  2.576296e-05]),\n",
       "  'measurement_setpoint_0': array([0.000e+00, 1.000e-04, 2.000e-04, ..., 7.997e-01, 7.998e-01,\n",
       "         7.999e-01])},\n",
       " 'relative_time': {'relative_time': array([0.000000e+00, 1.000010e-04, 1.999820e-04, ..., 7.997024e-01,\n",
       "         7.998024e-01, 7.999024e-01]),\n",
       "  'relative_time_setpoint_0': array([0.000e+00, 1.000e-04, 2.000e-04, ..., 7.997e-01, 7.998e-01,\n",
       "         7.999e-01])}}"
      ]
     },
     "execution_count": 46,
     "metadata": {},
     "output_type": "execute_result"
    }
   ],
   "source": [
    "dataset = datasaver.dataset\n",
    "dataset.get_parameter_data()"
   ]
  },
  {
   "cell_type": "markdown",
   "metadata": {},
   "source": [
    "### Load previously saved pattern (GS200)"
   ]
  },
  {
   "cell_type": "markdown",
   "metadata": {},
   "source": [
    "Remember we had another pattern stored? Let's load that one:"
   ]
  },
  {
   "cell_type": "code",
   "execution_count": 47,
   "metadata": {},
   "outputs": [],
   "source": [
    "gs.program.load('test2_up_down_up.csv')"
   ]
  },
  {
   "cell_type": "markdown",
   "metadata": {},
   "source": [
    "Alwasy clear the buffer, and external trigger in for the dmm, at the beginning of each measurement:"
   ]
  },
  {
   "cell_type": "code",
   "execution_count": 48,
   "metadata": {},
   "outputs": [],
   "source": [
    "dmm.trigger_in_ext_clear()\n",
    "buffer.clear_buffer()"
   ]
  },
  {
   "cell_type": "code",
   "execution_count": 49,
   "metadata": {},
   "outputs": [
    {
     "name": "stdout",
     "output_type": "stream",
     "text": [
      "There are 0 readings in the buffer \"userbuff01\".\n"
     ]
    }
   ],
   "source": [
    "total_data_points = int(buffer.number_of_readings())\n",
    "print(f'There are {total_data_points} readings in the buffer \"{buffer.short_name}\".')"
   ]
  },
  {
   "cell_type": "code",
   "execution_count": 50,
   "metadata": {},
   "outputs": [],
   "source": [
    "sleep_time = 1\n",
    "with gs.output.set_to('on'):\n",
    "    gs.program.run()\n",
    "    time.sleep(sleep_time)"
   ]
  },
  {
   "cell_type": "code",
   "execution_count": 51,
   "metadata": {},
   "outputs": [
    {
     "name": "stdout",
     "output_type": "stream",
     "text": [
      "There are 8000 readings in total, so the measurement was performed 2.0 times.\n"
     ]
    }
   ],
   "source": [
    "total_data_points = int(buffer.number_of_readings())\n",
    "print(f'There are {total_data_points} readings in total, so the measurement was performed {round(total_data_points/4000, 2)} times.')"
   ]
  },
  {
   "cell_type": "code",
   "execution_count": 52,
   "metadata": {},
   "outputs": [
    {
     "data": {
      "text/plain": [
       "['measurement', 'relative_time']"
      ]
     },
     "execution_count": 52,
     "metadata": {},
     "output_type": "execute_result"
    }
   ],
   "source": [
    "buffer.elements()"
   ]
  },
  {
   "cell_type": "code",
   "execution_count": 53,
   "metadata": {},
   "outputs": [
    {
     "name": "stdout",
     "output_type": "stream",
     "text": [
      "Starting experimental run with id: 146. \n"
     ]
    }
   ],
   "source": [
    "meas = Measurement()\n",
    "meas.register_parameter(buffer.data)\n",
    "\n",
    "with meas.run() as datasaver:\n",
    "    data = buffer.data\n",
    "    datasaver.add_result((buffer.data, data()))\n",
    "    \n",
    "    dataid = datasaver.run_id"
   ]
  },
  {
   "cell_type": "code",
   "execution_count": 54,
   "metadata": {},
   "outputs": [
    {
     "data": {
      "text/plain": [
       "([<matplotlib.axes._subplots.AxesSubplot at 0x204fe278f88>,\n",
       "  <matplotlib.axes._subplots.AxesSubplot at 0x204fe9ca848>],\n",
       " [None, None])"
      ]
     },
     "execution_count": 54,
     "metadata": {},
     "output_type": "execute_result"
    },
    {
     "data": {
      "image/png": "[encoded data removed]",
      "text/plain": [
       "<Figure size 432x288 with 1 Axes>"
      ]
     },
     "metadata": {
      "needs_background": "light"
     },
     "output_type": "display_data"
    },
    {
     "data": {
      "image/png": "[encoded data removed]",
      "text/plain": [
       "<Figure size 432x288 with 1 Axes>"
      ]
     },
     "metadata": {
      "needs_background": "light"
     },
     "output_type": "display_data"
    }
   ],
   "source": [
    "plot_dataset(datasaver.dataset)"
   ]
  },
  {
   "cell_type": "markdown",
   "metadata": {},
   "source": [
    "Some of the available elements are not numerical values, for example, the timestamp:"
   ]
  },
  {
   "cell_type": "code",
   "execution_count": 55,
   "metadata": {},
   "outputs": [
    {
     "data": {
      "text/plain": [
       "['timestamp']"
      ]
     },
     "execution_count": 55,
     "metadata": {},
     "output_type": "execute_result"
    }
   ],
   "source": [
    "buffer.elements(['timestamp'])\n",
    "buffer.elements()"
   ]
  },
  {
   "cell_type": "markdown",
   "metadata": {},
   "source": [
    "To access this type of data, we can call it as following:"
   ]
  },
  {
   "cell_type": "code",
   "execution_count": 56,
   "metadata": {},
   "outputs": [
    {
     "data": {
      "text/plain": [
       "('timestamp',)"
      ]
     },
     "execution_count": 56,
     "metadata": {},
     "output_type": "execute_result"
    }
   ],
   "source": [
    "data = buffer.data\n",
    "data.names"
   ]
  },
  {
   "cell_type": "code",
   "execution_count": 57,
   "metadata": {},
   "outputs": [
    {
     "data": {
      "text/plain": [
       "('10/22/2020 06:35:07.911110426',\n",
       " '10/22/2020 06:35:07.911210427',\n",
       " '10/22/2020 06:35:07.911310428',\n",
       " '10/22/2020 06:35:07.911410428',\n",
       " '10/22/2020 06:35:07.911510429')"
      ]
     },
     "execution_count": 57,
     "metadata": {},
     "output_type": "execute_result"
    }
   ],
   "source": [
    "timestamp = data()[0]\n",
    "timestamp[0:5]"
   ]
  },
  {
   "cell_type": "code",
   "execution_count": 58,
   "metadata": {},
   "outputs": [],
   "source": [
    "gs.reset()\n",
    "dmm.reset()"
   ]
  },
  {
   "cell_type": "code",
   "execution_count": null,
   "metadata": {},
   "outputs": [],
   "source": []
  }
 ],
 "metadata": {
  "kernelspec": {
   "display_name": "Python 3",
   "language": "python",
   "name": "python3"
  },
  "language_info": {
   "codemirror_mode": {
    "name": "ipython",
    "version": 3
   },
   "file_extension": ".py",
   "mimetype": "text/x-python",
   "name": "python",
   "nbconvert_exporter": "python",
   "pygments_lexer": "ipython3",
   "version": "3.7.5"
  },
  "nbsphinx": {
   "execute": "never"
  }
 },
 "nbformat": 4,
 "nbformat_minor": 4
}
