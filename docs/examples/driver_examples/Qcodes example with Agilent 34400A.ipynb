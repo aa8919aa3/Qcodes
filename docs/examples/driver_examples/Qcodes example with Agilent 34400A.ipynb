{
 "cells": [
  {
   "cell_type": "markdown",
   "metadata": {},
   "source": [
    "# QCoDeS Example with Agilent 34400A"
   ]
  },
  {
   "cell_type": "code",
   "execution_count": null,
   "metadata": {
    "ExecuteTime": {
     "end_time": "2020-10-29T10:16:59.197127Z",
     "start_time": "2020-10-29T10:16:52.482524Z"
    }
   },
   "outputs": [],
   "source": [
    "%matplotlib nbagg\n",
    "import matplotlib.pyplot as plt\n",
    "import time\n",
    "import numpy as np\n",
    "\n",
    "import qcodes as qc\n",
    "from qcodes.utils.validators import Enum, Strings\n",
    "import qcodes.instrument_drivers.tektronix.Keithley_2600_channels as keith\n",
    "import qcodes.instrument_drivers.agilent.Agilent_34400A as agi\n",
    "\n",
    "from qcodes import Measurement\n",
    "#from qcodes.loops import Loop"
   ]
  },
  {
   "cell_type": "code",
   "execution_count": 2,
   "metadata": {
    "ExecuteTime": {
     "end_time": "2020-10-29T10:17:09.009547Z",
     "start_time": "2020-10-29T10:17:08.989236Z"
    }
   },
   "outputs": [],
   "source": [
    "import time\n",
    "class Timer(object):\n",
    "    def __init__(self, name=None):\n",
    "        self.name = name\n",
    "\n",
    "    def __enter__(self):\n",
    "        self.tstart = time.time()\n",
    "\n",
    "    def __exit__(self, type, value, traceback):\n",
    "        if self.name:\n",
    "            print('[%s]' % self.name,)\n",
    "        print('Elapsed: %s' % (time.time() - self.tstart))"
   ]
  },
  {
   "cell_type": "code",
   "execution_count": null,
   "metadata": {
    "ExecuteTime": {
     "end_time": "2020-10-29T10:28:48.384898Z",
     "start_time": "2020-10-29T10:28:48.082064Z"
    }
   },
   "outputs": [],
   "source": [
    "# create Instruments\n",
    "import qcodes.instrument.sims as sims\n",
    "path_to_yaml = sims.__file__.replace('__init__.py', 'Keithley_2600.yaml')\n",
    "k1 = keith.Keithley_2600('Keithley1', address='GPIB::1::INSTR', visalib=path_to_yaml + '@sim')\n",
    "#k1 = keith.Keithley_2600('Keithley1', 'GPIB0::15::INSTR')\n",
    "\n",
    "a1 = agi.Agilent_34400A('Agilent1', 'GPIB0::11::INSTR', setter_instr=k1)\n",
    "a2 = agi.Agilent_34400A('Agilent2', 'GPIB0::6::INSTR', setter_instr=k1)\n",
    "\n",
    "# set integration time (number of line cycles)\n",
    "a1.NPLC.set(10)\n",
    "a2.NPLC.set(10)"
   ]
  },
  {
   "cell_type": "code",
   "execution_count": null,
   "metadata": {},
   "outputs": [],
   "source": [
    "station1 = qc.Station()\n",
    "station1.add_component(k1)\n",
    "station1.add_component(a1)\n",
    "\n",
    "meas1 = Measurement(station=station1)\n",
    "meas1.register_parameter(k1.a.volt)\n",
    "meas1.register_parameter(a1.volt)\n",
    "\n",
    "meas1.write_period = 2"
   ]
  },
  {
   "cell_type": "code",
   "execution_count": null,
   "metadata": {},
   "outputs": [],
   "source": [
    "station2 = qc.Station()\n",
    "station2.add_component(k1)\n",
    "station2.add_component(a1)\n",
    "station2.add_component(a2)\n",
    "\n",
    "meas2 = Measurement(station=station2)\n",
    "meas2.register_parameter(k1.a.volt)\n",
    "meas2.register_parameter(a1.volt)\n",
    "meas2.register_parameter(a2.volt)\n",
    "\n",
    "meas2.write_period = 2"
   ]
  },
  {
   "cell_type": "code",
   "execution_count": null,
   "metadata": {},
   "outputs": [],
   "source": [
    "# Time single readings\n",
    "with Timer('Time a1'):\n",
    "    a1.volt.get()\n",
    "with Timer('Time a2'):\n",
    "    a2.volt.get()"
   ]
  },
  {
   "cell_type": "code",
   "execution_count": null,
   "metadata": {
    "scrolled": false
   },
   "outputs": [],
   "source": [
    "with Timer('Meas Time 1'):\n",
    "    with meas1.run() as datasaver:\n",
    "        for set_v in np.linspace(0, 25, 10):\n",
    "            k1.a.volt.set(set_v)\n",
    "            get_v = a1.volt.get()\n",
    "            datasaver.add_result((k1.a.volt, set_v), (a1.volt, get_v))\n",
    "\n",
    "        dataset1 = datasaver.dataset\n",
    "    #data = Loop(k1.a.volt[-5:5:1], 0).each(a1.volt).run(location='testsweep', overwrite=True,background=False)\n",
    "\n",
    "with Timer('Meas Time 2'):\n",
    "    with meas2.run() as datasaver:\n",
    "        for set_v in np.linspace(0, 25, 10):\n",
    "            k1.a.volt.set(set_v)\n",
    "            get_v1 = a1.volt.get()\n",
    "            get_v2 = a2.volt.get()\n",
    "            datasaver.add_result((k1.a.volt, set_v), (a1.volt, get_v1), (a2.volt, get_v2))\n",
    "\n",
    "        dataset2 = datasaver.dataset\n",
    "    #data = Loop(k1.a.volt[-5:5:1], 0).each(a1.volt, a2.volt).run(location='testsweep', overwrite=True,background=False)"
   ]
  }
 ],
 "metadata": {
  "kernelspec": {
   "display_name": "Python 3",
   "language": "python",
   "name": "python3"
  },
  "language_info": {
   "codemirror_mode": {
    "name": "ipython",
    "version": 3
   },
   "file_extension": ".py",
   "mimetype": "text/x-python",
   "name": "python",
   "nbconvert_exporter": "python",
   "pygments_lexer": "ipython3",
   "version": "3.7.9"
  },
  "nbsphinx": {
   "execute": "never"
  }
 },
 "nbformat": 4,
 "nbformat_minor": 1
}
