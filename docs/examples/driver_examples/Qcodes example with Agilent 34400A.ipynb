{
 "cells": [
  {
   "cell_type": "markdown",
   "metadata": {},
   "source": [
    "# QCoDeS Example with Agilent 34400A"
   ]
  },
  {
   "cell_type": "markdown",
   "metadata": {},
   "source": [
    "This notebook shows how to work with Agilent 34400A instrument with help of it's qcodes driver and conduct measurements."
   ]
  },
  {
   "cell_type": "code",
   "execution_count": 1,
   "metadata": {
    "ExecuteTime": {
     "end_time": "2021-02-05T10:05:16.477344Z",
     "start_time": "2021-02-05T10:05:10.606707Z"
    }
   },
   "outputs": [
    {
     "name": "stdout",
     "output_type": "stream",
     "text": [
      "Logging hadn't been started.\n",
      "Activating auto-logging. Current session state plus future input saved.\n",
      "Filename       : C:\\Users\\v-singak\\.qcodes\\logs\\command_history.log\n",
      "Mode           : append\n",
      "Output logging : True\n",
      "Raw input log  : False\n",
      "Timestamping   : True\n",
      "State          : active\n",
      "Qcodes Logfile : C:\\Users\\v-singak\\.qcodes\\logs\\210205-13016-qcodes.log\n"
     ]
    }
   ],
   "source": [
    "%matplotlib nbagg\n",
    "import matplotlib.pyplot as plt\n",
    "import os\n",
    "import numpy as np\n",
    "\n",
    "import qcodes as qc\n",
    "from qcodes.utils.validators import Enum, Strings\n",
    "import qcodes.instrument_drivers.tektronix.Keithley_2600_channels as keith\n",
    "import qcodes.instrument_drivers.agilent.Agilent_34400A as agi\n",
    "from qcodes.dataset import initialise_or_create_database_at, load_or_create_experiment, Measurement\n",
    "from qcodes.dataset.plotting import plot_dataset, plot_by_id\n",
    "#from qcodes.loops import Loop"
   ]
  },
  {
   "cell_type": "markdown",
   "metadata": {},
   "source": [
    "## Initialize instruments"
   ]
  },
  {
   "cell_type": "code",
   "execution_count": null,
   "metadata": {
    "ExecuteTime": {
     "end_time": "2020-10-29T10:28:48.384898Z",
     "start_time": "2020-10-29T10:28:48.082064Z"
    }
   },
   "outputs": [],
   "source": [
    "import qcodes.instrument.sims as sims\n",
    "path_to_yaml = sims.__file__.replace('__init__.py', 'Keithley_2600.yaml')\n",
    "k1 = keith.Keithley_2600('Keithley1', address='GPIB::1::INSTR', visalib=path_to_yaml + '@sim')\n",
    "#k1 = keith.Keithley_2600('Keithley1', 'GPIB0::15::INSTR')\n",
    "\n",
    "a1 = agi.Agilent_34400A('Agilent1', 'GPIB0::11::INSTR', setter_instr=k1)\n",
    "a2 = agi.Agilent_34400A('Agilent2', 'GPIB0::6::INSTR', setter_instr=k1)\n",
    "\n",
    "# set integration time (number of line cycles)\n",
    "a1.NPLC.set(10)\n",
    "a2.NPLC.set(10)"
   ]
  },
  {
   "cell_type": "markdown",
   "metadata": {},
   "source": [
    "## Create the station with initialized instruments"
   ]
  },
  {
   "cell_type": "code",
   "execution_count": null,
   "metadata": {},
   "outputs": [],
   "source": [
    "station = qc.Station()\n",
    "station.add_component(k1)\n",
    "station.add_component(a1)\n",
    "station.add_component(a2)"
   ]
  },
  {
   "cell_type": "markdown",
   "metadata": {},
   "source": [
    "## Initialize database and begin experiment"
   ]
  },
  {
   "cell_type": "code",
   "execution_count": null,
   "metadata": {},
   "outputs": [],
   "source": [
    "tutorial_db_path = os.path.join(os.getcwd(), 'tutorial.db')\n",
    "initialise_or_create_database_at(tutorial_db_path)\n",
    "load_or_create_experiment(experiment_name='tutorial_exp', sample_name=\"no sample\")"
   ]
  },
  {
   "cell_type": "markdown",
   "metadata": {},
   "source": [
    "## Measurements"
   ]
  },
  {
   "cell_type": "code",
   "execution_count": null,
   "metadata": {},
   "outputs": [],
   "source": [
    "meas1 = Measurement(station=station)\n",
    "meas1.register_parameter(k1.a.volt)\n",
    "meas1.register_parameter(a1.volt)\n",
    "\n",
    "meas1.write_period = 2\n",
    "\n",
    "with meas1.run() as datasaver:\n",
    "    for set_v in np.linspace(-5, 5, 1):\n",
    "        k1.a.volt.set(set_v)\n",
    "        get_v = a1.volt.get()\n",
    "        datasaver.add_result((k1.a.volt, set_v), (a1.volt, get_v))\n",
    "dataset = datasaver.dataset\n",
    "    #data = Loop(k1.a.volt[-5:5:1], 0).each(a1.volt).run(location='testsweep', overwrite=True,background=False)\n",
    "\n",
    "_ = plot_dataset(dataset)"
   ]
  },
  {
   "cell_type": "code",
   "execution_count": null,
   "metadata": {},
   "outputs": [],
   "source": [
    "meas2 = Measurement(station=station)\n",
    "meas2.register_parameter(k1.a.volt)\n",
    "meas2.register_parameter(a1.volt)\n",
    "meas2.register_parameter(a2.volt)\n",
    "\n",
    "meas2.write_period = 2\n",
    "\n",
    "with meas2.run() as datasaver:\n",
    "    for set_v in np.linspace(-5, 5, 1):\n",
    "        k1.a.volt.set(set_v)\n",
    "        get_v1 = a1.volt.get()\n",
    "        get_v2 = a2.volt.get()\n",
    "        datasaver.add_result((k1.a.volt, set_v), (a1.volt, get_v1), (a2.volt, get_v2))\n",
    "run_id = datasaver.run_id\n",
    "    #data = Loop(k1.a.volt[-5:5:1], 0).each(a1.volt, a2.volt).run(location='testsweep', overwrite=True,background=False)\n",
    "    \n",
    "_ = plot_by_id(run_id)"
   ]
  },
  {
   "cell_type": "code",
   "execution_count": null,
   "metadata": {
    "scrolled": false
   },
   "outputs": [],
   "source": []
  }
 ],
 "metadata": {
  "kernelspec": {
   "display_name": "Python 3",
   "language": "python",
   "name": "python3"
  },
  "language_info": {
   "codemirror_mode": {
    "name": "ipython",
    "version": 3
   },
   "file_extension": ".py",
   "mimetype": "text/x-python",
   "name": "python",
   "nbconvert_exporter": "python",
   "pygments_lexer": "ipython3",
   "version": "3.7.9"
  },
  "nbsphinx": {
   "execute": "never"
  }
 },
 "nbformat": 4,
 "nbformat_minor": 1
}
