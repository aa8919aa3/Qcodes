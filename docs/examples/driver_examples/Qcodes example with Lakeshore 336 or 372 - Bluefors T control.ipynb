{
 "cells": [
  {
   "cell_type": "markdown",
   "metadata": {},
   "source": [
    "# Example usage of the Lakeshore Model 372 to control the temperature of the Bluefors fridge\n",
    "The Model 372 is used to control the temperature of the Bluefors fridges. To use it as such outside of the control software provided by Bluefors one has to establish an addtional connection. Within the Bluefors system, the lakeshore is connected via its usb port (through a USB hub along with the other devices) to the control Laptop (as part of the Bluefors setup). To control the temperature of the fridge via QCoDeS it is most convenient to connect the Lakeshore via its LAN port to the control computer (QCoDeS not Bluefors). For this the Bluefors rack has to be opened (Don't disconnect USB). Remember to set the IP address setting to DHCP (of course only when using a router).\n",
    "\n",
    "For using the Lakeshore with qcodes, the operation mode has to be switched from USB to LAN. When done with the measurements please switch back to USB, so that the logging of the Temperature provided by the Bluefors software continues.\n",
    "We are already planning to implement a server that takes care of the logging so that switching will no longer be necessary. For the time being please always remember to switch back!"
   ]
  },
  {
   "cell_type": "markdown",
   "metadata": {},
   "source": [
    "### Driver Setup\n",
    "This notebook is using a simulated version of the driver so that it can be run and played with, without an actual instrument. When trying it out with a real Lakeshore, please set `simulation = False`.\n",
    "\n",
    "**Be careful, this notebook has not been tested with a real device yet!**"
   ]
  },
  {
   "cell_type": "code",
   "execution_count": 1,
   "metadata": {},
   "outputs": [],
   "source": [
    "simulation = True"
   ]
  },
  {
   "cell_type": "code",
   "execution_count": 2,
   "metadata": {},
   "outputs": [
    {
     "name": "stderr",
     "output_type": "stream",
     "text": [
      "C:\\Users\\a-dovoge\\anaconda3\\lib\\site-packages\\h5py\\__init__.py:36: FutureWarning: Conversion of the second argument of issubdtype from `float` to `np.floating` is deprecated. In future, it will be treated as `np.float64 == np.dtype(float).type`.\n",
      "  from ._conv import register_converters as _register_converters\n"
     ]
    },
    {
     "name": "stdout",
     "output_type": "stream",
     "text": [
      "Connected to: None lakeshore_372 (serial:None, firmware:None) in 0.47s\n"
     ]
    }
   ],
   "source": [
    "if simulation:\n",
    "    from qcodes.tests.drivers.test_lakeshore import Model_372_Mock as Model_372\n",
    "    import qcodes.instrument.sims as sims\n",
    "    visalib = sims.__file__.replace('__init__.py',\n",
    "                                    'lakeshore_model372.yaml@sim')\n",
    "    ls = Model_372('lakeshore_372', 'GPIB::3::65535::INSTR',\n",
    "                    visalib=visalib, device_clear=False)\n",
    "else:\n",
    "    from qcodes.instrument_drivers.Lakeshore.Model_372 import Model_372\n",
    "    ls = Model_372('lakeshore_372', '<put your visa address here, see e.g. NI Max')\n"
   ]
  },
  {
   "cell_type": "markdown",
   "metadata": {},
   "source": [
    "### Readout Sensor Channels\n",
    "The lakeshore has two types of *channels*: *Readout channels* and *heaters*. For reading the temperature we use the readout channels. There are seventeen channels each of which has the following parameters:"
   ]
  },
  {
   "cell_type": "code",
   "execution_count": 14,
   "metadata": {},
   "outputs": [
    {
     "data": {
      "text/plain": [
       "{'temperature': <qcodes.instrument.parameter.Parameter: temperature at 2885538613456>,\n",
       " 't_limit': <qcodes.instrument.parameter.Parameter: t_limit at 2885538612896>,\n",
       " 'sensor_raw': <qcodes.instrument.parameter.Parameter: sensor_raw at 2885538613232>,\n",
       " 'sensor_status': <qcodes.instrument.parameter.Parameter: sensor_status at 2885538614632>,\n",
       " 'sensor_name': <qcodes.instrument.parameter.Parameter: sensor_name at 2885538614408>}"
      ]
     },
     "execution_count": 14,
     "metadata": {},
     "output_type": "execute_result"
    }
   ],
   "source": [
    "ls.ch01.parameters"
   ]
  },
  {
   "cell_type": "markdown",
   "metadata": {},
   "source": [
    "to read all temperatures we can do the following:"
   ]
  },
  {
   "cell_type": "code",
   "execution_count": 4,
   "metadata": {},
   "outputs": [
    {
     "name": "stdout",
     "output_type": "stream",
     "text": [
      "Temperature of ch01: 4.0 K\n",
      "Temperature of ch02: 4.0 K\n",
      "Temperature of ch03: 4.0 K\n",
      "Temperature of ch04: 4.0 K\n",
      "Temperature of ch05: 4.0 K\n",
      "Temperature of ch06: 4.0 K\n",
      "Temperature of ch07: 4.0 K\n",
      "Temperature of ch08: 4.0 K\n",
      "Temperature of ch09: 4.0 K\n",
      "Temperature of ch10: 4.0 K\n",
      "Temperature of ch11: 4.0 K\n",
      "Temperature of ch12: 4.0 K\n",
      "Temperature of ch13: 4.0 K\n",
      "Temperature of ch14: 4.0 K\n",
      "Temperature of ch15: 4.0 K\n",
      "Temperature of ch16: 4.0 K\n"
     ]
    }
   ],
   "source": [
    "for ch in ls.channels:\n",
    "    print(f'Temperature of {ch.short_name}: {ch.temperature()} K')"
   ]
  },
  {
   "cell_type": "markdown",
   "metadata": {},
   "source": [
    "### Heating and Feedback\n",
    "To set a certain temperature one needs to start a feedback loop that reads the temperature of a channel and feeds back to the sample through a heater. The lakeshore has three heaters: `sample_heater`, `warmup_heater`, and `analog_heater`.\n",
    "\n",
    "Here the `sample_heater` will be used. It has the following parameters:"
   ]
  },
  {
   "cell_type": "code",
   "execution_count": 5,
   "metadata": {},
   "outputs": [
    {
     "data": {
      "text/plain": [
       "{'mode': <qcodes.instrument_drivers.Lakeshore.lakeshore_base.GroupParameter: mode at 2885539082592>,\n",
       " 'input_channel': <qcodes.instrument_drivers.Lakeshore.lakeshore_base.GroupParameter: input_channel at 2885539082760>,\n",
       " 'powerup_enable': <qcodes.instrument_drivers.Lakeshore.lakeshore_base.GroupParameter: powerup_enable at 2885539082872>,\n",
       " 'P': <qcodes.instrument_drivers.Lakeshore.lakeshore_base.GroupParameter: P at 2885539083152>,\n",
       " 'I': <qcodes.instrument_drivers.Lakeshore.lakeshore_base.GroupParameter: I at 2885539083320>,\n",
       " 'D': <qcodes.instrument_drivers.Lakeshore.lakeshore_base.GroupParameter: D at 2885539083488>,\n",
       " 'output_range': <qcodes.instrument.parameter.Parameter: output_range at 2885539083712>,\n",
       " 'setpoint': <qcodes.instrument.parameter.Parameter: setpoint at 2885539083936>,\n",
       " 'range_limits': <qcodes.instrument.parameter.Parameter: range_limits at 2885539084496>,\n",
       " 'wait_cycle_time': <qcodes.instrument.parameter.Parameter: wait_cycle_time at 2885539084552>,\n",
       " 'wait_tolerance': <qcodes.instrument.parameter.Parameter: wait_tolerance at 2885539084776>,\n",
       " 'wait_equilibration_time': <qcodes.instrument.parameter.Parameter: wait_equilibration_time at 2885539084944>,\n",
       " 'blocking_T': <qcodes.instrument.parameter.Parameter: blocking_T at 2885539085168>,\n",
       " 'polarity': <qcodes.instrument_drivers.Lakeshore.lakeshore_base.GroupParameter: polarity at 2885539085392>,\n",
       " 'use_filter': <qcodes.instrument_drivers.Lakeshore.lakeshore_base.GroupParameter: use_filter at 2885539085448>,\n",
       " 'delay': <qcodes.instrument_drivers.Lakeshore.lakeshore_base.GroupParameter: delay at 2885539085728>}"
      ]
     },
     "execution_count": 5,
     "metadata": {},
     "output_type": "execute_result"
    }
   ],
   "source": [
    "h = ls.sample_heater\n",
    "h.parameters"
   ]
  },
  {
   "cell_type": "markdown",
   "metadata": {},
   "source": [
    "The allowed modes, polarities, and ranges are defined in:"
   ]
  },
  {
   "cell_type": "code",
   "execution_count": 6,
   "metadata": {},
   "outputs": [
    {
     "data": {
      "text/plain": [
       "{'off': 0,\n",
       " 'monitor_out': 1,\n",
       " 'open_loop': 2,\n",
       " 'zone': 3,\n",
       " 'still': 4,\n",
       " 'closed_loop': 5,\n",
       " 'warm_up': 6}"
      ]
     },
     "execution_count": 6,
     "metadata": {},
     "output_type": "execute_result"
    }
   ],
   "source": [
    "h.MODES"
   ]
  },
  {
   "cell_type": "code",
   "execution_count": 7,
   "metadata": {},
   "outputs": [
    {
     "data": {
      "text/plain": [
       "{'off': 0,\n",
       " '31.6μA': 1,\n",
       " '100μA': 2,\n",
       " '316μA': 3,\n",
       " '1mA': 4,\n",
       " '3.16mA': 5,\n",
       " '10mA': 6,\n",
       " '31.6mA': 7,\n",
       " '100mA': 8}"
      ]
     },
     "execution_count": 7,
     "metadata": {},
     "output_type": "execute_result"
    }
   ],
   "source": [
    "h.RANGES"
   ]
  },
  {
   "cell_type": "code",
   "execution_count": 8,
   "metadata": {},
   "outputs": [
    {
     "data": {
      "text/plain": [
       "{'unipolar': 0, 'bipolar': 1}"
      ]
     },
     "execution_count": 8,
     "metadata": {},
     "output_type": "execute_result"
    }
   ],
   "source": [
    "h.POLARITIES"
   ]
  },
  {
   "cell_type": "markdown",
   "metadata": {},
   "source": [
    "For the PID mode we need to set the P, I, and D constants, the setpoint and the heater range, and start the operation by setting mode to 'closed_loop'"
   ]
  },
  {
   "cell_type": "code",
   "execution_count": 9,
   "metadata": {},
   "outputs": [],
   "source": [
    "h.P(10)\n",
    "h.I(10)\n",
    "h.D(0)\n",
    "h.output_range('31.6μA')\n",
    "h.input_channel(1)"
   ]
  },
  {
   "cell_type": "code",
   "execution_count": 10,
   "metadata": {},
   "outputs": [],
   "source": [
    "h.setpoint(0.01)\n",
    "h.mode('closed_loop')"
   ]
  },
  {
   "cell_type": "markdown",
   "metadata": {},
   "source": [
    "Now we can observe how the temperature gets steered towards the setpoint: (This is not implemented in the simulated instrument)"
   ]
  },
  {
   "cell_type": "code",
   "execution_count": 16,
   "metadata": {},
   "outputs": [
    {
     "name": "stdout",
     "output_type": "stream",
     "text": [
      "T=4.0\n",
      "T=4.0\n",
      "T=4.0\n",
      "T=4.0\n",
      "T=4.0\n",
      "T=4.0\n",
      "T=4.0\n",
      "T=4.0\n",
      "T=4.0\n",
      "T=4.0\n"
     ]
    }
   ],
   "source": [
    "import time\n",
    "for i in range(10):\n",
    "    time.sleep(0.5)\n",
    "    print(f'T={ls.ch01.temperature()}')"
   ]
  },
  {
   "cell_type": "markdown",
   "metadata": {},
   "source": [
    "### Waiting to reach setpoint\n",
    "As we have seen, the call of the parameter `setpoint` is non-blocking. That means the function returns imediately without waiting for the setpoint to be reached. In many use-cases it is desirable to wait until a certain temperature regime has been reached. This can be achieved with `wait_until_set_point_reached()`. "
   ]
  },
  {
   "cell_type": "code",
   "execution_count": 18,
   "metadata": {},
   "outputs": [
    {
     "name": "stdout",
     "output_type": "stream",
     "text": [
      "loop iteration with t reading of 4.0\n",
      "loop iteration with t reading of 4.0\n",
      "loop iteration with t reading of 4.0\n",
      "loop iteration with t reading of 4.0\n",
      "loop iteration with t reading of 4.0\n",
      "loop iteration with t reading of 4.0\n",
      "loop iteration with t reading of 4.0\n",
      "loop iteration with t reading of 4.0\n",
      "loop iteration with t reading of 4.0\n",
      "loop iteration with t reading of 4.0\n",
      "loop iteration with t reading of 4.0\n",
      "loop iteration with t reading of 4.0\n",
      "loop iteration with t reading of 4.0\n",
      "loop iteration with t reading of 4.0\n",
      "loop iteration with t reading of 4.0\n",
      "loop iteration with t reading of 4.0\n",
      "loop iteration with t reading of 4.0\n",
      "loop iteration with t reading of 4.0\n",
      "loop iteration with t reading of 4.0\n",
      "loop iteration with t reading of 4.0\n",
      "loop iteration with t reading of 4.0\n"
     ]
    },
    {
     "ename": "KeyboardInterrupt",
     "evalue": "",
     "output_type": "error",
     "traceback": [
      "\u001b[1;31m---------------------------------------------------------------------------\u001b[0m",
      "\u001b[1;31mKeyboardInterrupt\u001b[0m                         Traceback (most recent call last)",
      "\u001b[1;32m<ipython-input-18-9c4eb9149cfe>\u001b[0m in \u001b[0;36m<module>\u001b[1;34m()\u001b[0m\n\u001b[0;32m      8\u001b[0m \u001b[1;33m\u001b[0m\u001b[0m\n\u001b[0;32m      9\u001b[0m \u001b[1;31m# do the waiting:\u001b[0m\u001b[1;33m\u001b[0m\u001b[1;33m\u001b[0m\u001b[0m\n\u001b[1;32m---> 10\u001b[1;33m \u001b[0mh\u001b[0m\u001b[1;33m.\u001b[0m\u001b[0mwait_until_set_point_reached\u001b[0m\u001b[1;33m(\u001b[0m\u001b[1;33m)\u001b[0m\u001b[1;33m\u001b[0m\u001b[0m\n\u001b[0m",
      "\u001b[1;32mc:\\users\\a-dovoge\\qcodes\\qcodes\\instrument_drivers\\Lakeshore\\lakeshore_base.py\u001b[0m in \u001b[0;36mwait_until_set_point_reached\u001b[1;34m(self, wait_cycle_time, wait_tolerance, wait_equilibration_time)\u001b[0m\n\u001b[0;32m    223\u001b[0m             log.debug(f'waiting to reach setpoint: temp at '\n\u001b[0;32m    224\u001b[0m                       f'{t_reading}, delta:{delta}')\n\u001b[1;32m--> 225\u001b[1;33m             \u001b[0mtime\u001b[0m\u001b[1;33m.\u001b[0m\u001b[0msleep\u001b[0m\u001b[1;33m(\u001b[0m\u001b[0mwait_cycle_time\u001b[0m\u001b[1;33m)\u001b[0m\u001b[1;33m\u001b[0m\u001b[0m\n\u001b[0m\u001b[0;32m    226\u001b[0m \u001b[1;33m\u001b[0m\u001b[0m\n\u001b[0;32m    227\u001b[0m \u001b[1;32mclass\u001b[0m \u001b[0mBaseSensorChannel\u001b[0m\u001b[1;33m(\u001b[0m\u001b[0mInstrumentChannel\u001b[0m\u001b[1;33m)\u001b[0m\u001b[1;33m:\u001b[0m\u001b[1;33m\u001b[0m\u001b[0m\n",
      "\u001b[1;31mKeyboardInterrupt\u001b[0m: "
     ]
    }
   ],
   "source": [
    "# wait half a second, then read the temperature and compare to setpoint\n",
    "h.wait_cycle_time(0.5)\n",
    "# wait until temperature within 5% of the setpoint\n",
    "# the tolerance is defined as: |t_reading-t_setpoint|/t_reading\n",
    "h.wait_tolerance(0.05)\n",
    "# wait until temperature has been within the tolerance regime for `wait_equilibration_time` seconds\n",
    "h.wait_equilibration_time(1.5)\n",
    "\n",
    "# do the waiting:\n",
    "# !! does not work with simulated instrument !!\n",
    "h.wait_until_set_point_reached()"
   ]
  },
  {
   "cell_type": "markdown",
   "metadata": {},
   "source": [
    "** Simulation **\n",
    "\n",
    "In case of a simulation we can fake the heating of the sample by calling the `start_heating` method (which only exists for the simulated instrument)"
   ]
  },
  {
   "cell_type": "code",
   "execution_count": 19,
   "metadata": {},
   "outputs": [
    {
     "name": "stdout",
     "output_type": "stream",
     "text": [
      "loop iteration with t reading of 6.998815100000002\n",
      "loop iteration with t reading of 6.476926400000025\n",
      "loop iteration with t reading of 5.936238600000024\n",
      "loop iteration with t reading of 5.334502799999996\n",
      "loop iteration with t reading of 4.831042600000046\n",
      "loop iteration with t reading of 4.33076410000001\n",
      "loop iteration with t reading of 4.0\n",
      "loop iteration with t reading of 4.0\n",
      "loop iteration with t reading of 4.0\n",
      "loop iteration with t reading of 4.0\n",
      "loop iteration with t reading of 4.0\n"
     ]
    }
   ],
   "source": [
    "if simulation:\n",
    "    ls.sample_heater.setpoint(4)\n",
    "    ls.start_heating()\n",
    "    ls.sample_heater.wait_until_set_point_reached()"
   ]
  },
  {
   "cell_type": "markdown",
   "metadata": {},
   "source": [
    "### Automatically selecting a heater range\n",
    "To automatically select a heater range one can define temperature limits for the individual heater ranges:"
   ]
  },
  {
   "cell_type": "code",
   "execution_count": 23,
   "metadata": {},
   "outputs": [],
   "source": [
    "# all limits in K, 7 limits starting with limit for 31.6μA\n",
    "h.range_limits([0.021, 0.1, 0.2, 1.1, 2, 4, 8])"
   ]
  },
  {
   "cell_type": "markdown",
   "metadata": {},
   "source": [
    "this means: from 0 K to 0.021 K use 31.6μA, from 0.021 K to 0.1 K use 100μA and so on\n",
    "\n",
    "we can now set the range by giving a temperature:"
   ]
  },
  {
   "cell_type": "code",
   "execution_count": 25,
   "metadata": {},
   "outputs": [
    {
     "data": {
      "text/plain": [
       "'316μA'"
      ]
     },
     "execution_count": 25,
     "metadata": {},
     "output_type": "execute_result"
    }
   ],
   "source": [
    "h.set_range_from_temperature(0.15)\n",
    "h.output_range()"
   ]
  },
  {
   "cell_type": "markdown",
   "metadata": {},
   "source": [
    "### Sweeping/blocking paramameter\n",
    "For compatibility with the legacy loop construct the lakeshore driver exposes a blocking temperature parameter: `blocking_T`.\n",
    "The setter for this parameter simply does:"
   ]
  },
  {
   "cell_type": "markdown",
   "metadata": {},
   "source": [
    "```\n",
    "def _set_blocking_T(self, T):\n",
    "     self.set_range_from_temperature(T)\n",
    "     self.setpoint(T)\n",
    "     self.wait_until_set_point_reached()\n",
    "```"
   ]
  },
  {
   "cell_type": "markdown",
   "metadata": {},
   "source": [
    "This parameter can be used in a doNd loop.\n",
    "\n",
    "** the range only gets set at the beginning of the sweep, i.e. according to the setpoint not according to the temperature reading **\n",
    "\n"
   ]
  },
  {
   "cell_type": "code",
   "execution_count": null,
   "metadata": {},
   "outputs": [],
   "source": []
  }
 ],
 "metadata": {
  "kernelspec": {
   "display_name": "Python 3",
   "language": "python",
   "name": "python3"
  },
  "language_info": {
   "codemirror_mode": {
    "name": "ipython",
    "version": 3
   },
   "file_extension": ".py",
   "mimetype": "text/x-python",
   "name": "python",
   "nbconvert_exporter": "python",
   "pygments_lexer": "ipython3",
   "version": "3.6.5"
  }
 },
 "nbformat": 4,
 "nbformat_minor": 2
}
