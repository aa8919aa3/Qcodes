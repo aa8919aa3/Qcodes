{
 "cells": [
  {
   "cell_type": "markdown",
   "metadata": {},
   "source": [
    "# Qcodes example with Keysight B1500 Semiconductor Parameter Analyzer"
   ]
  },
  {
   "cell_type": "markdown",
   "metadata": {},
   "source": [
    "## Instrument Short info\n",
    "Here a short introduction on how the B1500 measurement system is composed is given. For a detailed overview it is strongly recommended to refer to the *B1500 Programming Guide* and also the *Parametric Measurement Handbook* by Keysight.\n",
    "\n",
    "### Physical grouping\n",
    "The Keysight B1500 Semiconductor Parameter Analyzer consists of a *Mainframe* and can be equipped with various instrument *Modules*. 10 *Slots* are available in which up to 10 *modules* can be installed (some *modules* occupy two *slots*). Each *module* can have one or two *channels*.\n",
    "\n",
    "### Logical grouping\n",
    "The measurements are typically done in one of the 20 measurement modes. The modes can be roughly subdivided into \n",
    "  - Spot measurements\n",
    "      - **High Speed Spot Measurements**\n",
    "  - Pulsed Spot measurement\n",
    "  - Sweep Measurements\n",
    "  - Search Measurements\n",
    "\n",
    "The **High Speed Spot (HSS)** Mode is essentually just a fancy way of saying to take readings and forcing constant voltages/currents. The *HSS* commands work at any time, independent of the currenttly selected Measurment Mode.\n",
    "\n",
    "With the exception of the *High Speed Spot Measurement Mode*, the other modes have to be activated and configured by the user."
   ]
  },
  {
   "cell_type": "markdown",
   "metadata": {},
   "source": [
    "## Qcodes driver info\n",
    "As can be seen already from the instrument short info, the instrument is very versatile, but also very complex. Hence the driver will eventually consist of two layers:\n",
    "  - The Low Level interface allows one to utilize all functions of the driver by offering a thin wrapper around the FLEX command set that the B1500 understands. \n",
    "  - A Higher Level interface that provides a convenient access to the more frequently used features. Not all features are available via the high level interface.\n",
    "\n",
    "The two driver levels can be used at the same time, so even if some functionality is not yet implemented in the high-level interface, the user can send a corresponding low-level command.\n",
    "\n",
    "### Integer Flags and Constants used in the driver\n",
    "Both the high-level and the low-level interface use integer constants in many commands. For user convienience, the `qcodes.instrument_drivers.Keysight.keysightb1500.constants` provides more descriptive Python Enums for these constants. Although bare integer values can still be used, it is highly recommended to use the enumerations in order to avoid mistakes.\n",
    "\n",
    "### High level interface\n",
    "The high level exposes instrument functionality via QCodes Parameters and Python methods on the mainframe object and the individual instrument module objects. For example, *High Speed Spot* Measurement commands for forcing constant voltages/currents or for taking simple readings are implemented.\n",
    "\n",
    "### Low level interface\n",
    "The Low Level interface (`MessageBuilder` class) provides a wrapper function for each FLEX command. From the low-level, the full functionality of the instrument can be controlled.\n",
    "\n",
    "The `MessageBuilder` assembles a message string which later can be sent to the instrument using the low level `write` and `ask` methods. One can also use the `MessageBuilder` to write FLEX complex measurement routines that are stored in the B1500 and can be executed at a later point. This can be done to enable fast execution."
   ]
  },
  {
   "cell_type": "markdown",
   "metadata": {},
   "source": [
    "## Programming Examples"
   ]
  },
  {
   "cell_type": "markdown",
   "metadata": {},
   "source": [
    "### Initializing the instrument"
   ]
  },
  {
   "cell_type": "code",
   "execution_count": 31,
   "metadata": {},
   "outputs": [],
   "source": [
    "from matplotlib import pyplot as plt\n",
    "import qcodes as qc\n",
    "\n",
    "from qcodes.instrument_drivers.Keysight.keysightb1500 import KeysightB1500, \\\n",
    "    MessageBuilder, constants\n",
    "from pyvisa.errors import VisaIOError\n",
    "\n",
    "\n",
    "from IPython.display import display, Markdown"
   ]
  },
  {
   "cell_type": "code",
   "execution_count": 2,
   "metadata": {},
   "outputs": [],
   "source": [
    "station = qc.Station() # Create a station to hold all the instruments"
   ]
  },
  {
   "cell_type": "code",
   "execution_count": 3,
   "metadata": {},
   "outputs": [
    {
     "data": {
      "text/markdown": [
       "**Note: using simulated instrument. Functionality will be limited.**"
      ],
      "text/plain": [
       "<IPython.core.display.Markdown object>"
      ]
     },
     "metadata": {},
     "output_type": "display_data"
    }
   ],
   "source": [
    "# Note: If there is no physical instrument connected \n",
    "# the following code will try to load a simulated instrument\n",
    "\n",
    "try:\n",
    "    #TODO change that address according to your setup\n",
    "    b1500 = KeysightB1500('SPA',\n",
    "                          address='TCPIP::192.168.111.100::gpib0,22::INSTR')\n",
    "    display(Markdown(\"**Note: using physical instrument.**\"))\n",
    "except (ValueError, VisaIOError):\n",
    "    # Either there is no VISA lib installed or there was no real instrument found at the\n",
    "    # specified address => use simulated instrument\n",
    "    import qcodes.instrument.sims as sims\n",
    "    path_to_yaml = sims.__file__.replace('__init__.py',\n",
    "                                         'keysight_b1500.yaml')\n",
    "\n",
    "    b1500 = KeysightB1500('SPA',\n",
    "                          address='GPIB::1::INSTR',\n",
    "                          visalib=path_to_yaml + '@sim')\n",
    "    display(Markdown(\"**Note: using simulated instrument. Functionality will be limited.**\"))"
   ]
  },
  {
   "cell_type": "code",
   "execution_count": 4,
   "metadata": {},
   "outputs": [
    {
     "name": "stderr",
     "output_type": "stream",
     "text": [
      "[SPA_smu1(B1517A)] Snapshot: Could not update parameter: time_axis\n",
      "[SPA_smu2(B1517A)] Snapshot: Could not update parameter: time_axis\n"
     ]
    },
    {
     "data": {
      "text/plain": [
       "'SPA'"
      ]
     },
     "execution_count": 4,
     "metadata": {},
     "output_type": "execute_result"
    }
   ],
   "source": [
    "station.add_component(b1500)"
   ]
  },
  {
   "cell_type": "markdown",
   "metadata": {},
   "source": [
    "## High Level Interface\n",
    "\n",
    "Here is an example of using the high-level interface."
   ]
  },
  {
   "cell_type": "markdown",
   "metadata": {},
   "source": [
    "### Identifying and selecting installed modules\n",
    "As mentioned above, the B1500 is a modular instrument, and contains multiple cards. When initializing the driver, the driver requests the installed modules from the B1500 and exposes them to the user via multiple ways.\n",
    "\n",
    "The first way to address a certain module is e.g. as follows:"
   ]
  },
  {
   "cell_type": "code",
   "execution_count": 5,
   "metadata": {},
   "outputs": [
    {
     "data": {
      "text/plain": [
       "<B1517A: SPA_smu2 of KeysightB1500: SPA>"
      ]
     },
     "execution_count": 5,
     "metadata": {},
     "output_type": "execute_result"
    }
   ],
   "source": [
    "b1500.smu1 # first SMU in the system\n",
    "b1500.cmu1 # first CMU in the system\n",
    "b1500.smu2 # second SMU in the system"
   ]
  },
  {
   "cell_type": "markdown",
   "metadata": {},
   "source": [
    "The naming scheme is - `b1500.<instrument class as lower case><number>`, where number is `1` for the first instrument in its class, `2` for the second instrument in its class and so on. (*Not the channel or slot number!*)\n",
    "\n",
    "Next to this direct access - which is simple and good for direct user interaction - the modules are also exposed via multiple data structures through which they can be adressed:\n",
    "  - by slot number\n",
    "  - by module kind (such as SMU, or CMU)\n",
    "  - by channel number\n",
    "\n",
    "This can be more convenient for programmatic selection of the modules."
   ]
  },
  {
   "cell_type": "markdown",
   "metadata": {},
   "source": [
    "Instrument modules are installed in slots (numbered 1-11) and can be selected by the slot number:"
   ]
  },
  {
   "cell_type": "code",
   "execution_count": 6,
   "metadata": {},
   "outputs": [
    {
     "data": {
      "text/plain": [
       "{<SlotNr.SLOT01: 1>: <B1517A: SPA_smu1 of KeysightB1500: SPA>,\n",
       " <SlotNr.SLOT02: 2>: <B1517A: SPA_smu2 of KeysightB1500: SPA>,\n",
       " <SlotNr.SLOT03: 3>: <B1520A: SPA_cmu1 of KeysightB1500: SPA>,\n",
       " <SlotNr.SLOT06: 6>: <B1530A: SPA_wgfmu1 of KeysightB1500: SPA>}"
      ]
     },
     "execution_count": 6,
     "metadata": {},
     "output_type": "execute_result"
    }
   ],
   "source": [
    "b1500.by_slot"
   ]
  },
  {
   "cell_type": "markdown",
   "metadata": {},
   "source": [
    "All modules are also grouped by module kind (see `constants.ModuleKind` for list of known kinds of modules):"
   ]
  },
  {
   "cell_type": "code",
   "execution_count": 7,
   "metadata": {},
   "outputs": [
    {
     "data": {
      "text/plain": [
       "defaultdict(list,\n",
       "            {<ModuleKind.SMU: 'SMU'>: [<B1517A: SPA_smu1 of KeysightB1500: SPA>,\n",
       "              <B1517A: SPA_smu2 of KeysightB1500: SPA>],\n",
       "             <ModuleKind.CMU: 'CMU'>: [<B1520A: SPA_cmu1 of KeysightB1500: SPA>],\n",
       "             <ModuleKind.WGFMU: 'WGFMU'>: [<B1530A: SPA_wgfmu1 of KeysightB1500: SPA>]})"
      ]
     },
     "execution_count": 7,
     "metadata": {},
     "output_type": "execute_result"
    }
   ],
   "source": [
    "b1500.by_kind"
   ]
  },
  {
   "cell_type": "markdown",
   "metadata": {},
   "source": [
    "For example, let's list all SMU modules:"
   ]
  },
  {
   "cell_type": "code",
   "execution_count": 8,
   "metadata": {},
   "outputs": [
    {
     "data": {
      "text/plain": [
       "[<B1517A: SPA_smu1 of KeysightB1500: SPA>,\n",
       " <B1517A: SPA_smu2 of KeysightB1500: SPA>]"
      ]
     },
     "execution_count": 8,
     "metadata": {},
     "output_type": "execute_result"
    }
   ],
   "source": [
    "b1500.by_kind['SMU']"
   ]
  },
  {
   "cell_type": "markdown",
   "metadata": {},
   "source": [
    "Lastly, there is dictionary of all module channels:"
   ]
  },
  {
   "cell_type": "code",
   "execution_count": 9,
   "metadata": {},
   "outputs": [
    {
     "data": {
      "text/plain": [
       "{<ChNr.SLOT_01_CH1: 1>: <B1517A: SPA_smu1 of KeysightB1500: SPA>,\n",
       " <ChNr.SLOT_02_CH1: 2>: <B1517A: SPA_smu2 of KeysightB1500: SPA>,\n",
       " <ChNr.SLOT_03_CH1: 3>: <B1520A: SPA_cmu1 of KeysightB1500: SPA>,\n",
       " <ChNr.SLOT_06_CH1: 6>: <B1530A: SPA_wgfmu1 of KeysightB1500: SPA>,\n",
       " <ChNr.SLOT_06_CH2: 602>: <B1530A: SPA_wgfmu1 of KeysightB1500: SPA>}"
      ]
     },
     "execution_count": 9,
     "metadata": {},
     "output_type": "execute_result"
    }
   ],
   "source": [
    "# For the simulation driver:\n",
    "# Note how the B1530A module has two channels.\n",
    "# The first channel number is the same as the slot number (6).\n",
    "# The second channel has a `02` appended to the channel number.\n",
    "b1500.by_channel"
   ]
  },
  {
   "cell_type": "markdown",
   "metadata": {},
   "source": [
    "**Note: For instruments with only one channel, channel number is the same as the slot number. However there are instruments with 2 channels per card. For these instruments the second channel number will differ from the slot number.**\n",
    "\n",
    "**Note for the simulated instrument: The simulation driver will list a B1530A module with 2 channels as example.**\n",
    "\n",
    "In general, the slot- and channel numbers can be passed as integers. However (especially in the case of the channel numbers for multi-channel instruments) it is recommended to use the Python enums defined in `qcodes.instrument_drivers.Keysight.keysightb1500.constants`:"
   ]
  },
  {
   "cell_type": "code",
   "execution_count": 10,
   "metadata": {},
   "outputs": [],
   "source": [
    "# Selecting a module by channel number using the Enum\n",
    "m1 = b1500.by_channel[constants.ChNr.SLOT_01_CH1]\n",
    "\n",
    "# Without enum\n",
    "m2 = b1500.by_channel[1]\n",
    "\n",
    "# And we assert that we selected the same module:\n",
    "assert m1 is m2"
   ]
  },
  {
   "cell_type": "markdown",
   "metadata": {},
   "source": [
    "### Enabling / Disabling channels\n",
    "\n",
    "Before sourcing or doing a measurement, the respective channel has to be enabled. There are two ways to enable/disable a channel:\n",
    "  - By directly addressing the module\n",
    "  - By addressing the mainframe and specifying which channel(s) to be enabled\n",
    "\n",
    "The second method is useful if multiple channels shall be enabled, or for programmatic en-/disabling of channels. It also allows to en-/disable all channels with one call."
   ]
  },
  {
   "cell_type": "code",
   "execution_count": 11,
   "metadata": {},
   "outputs": [],
   "source": [
    "# Direct addressing the module\n",
    "b1500.smu1.enable_outputs()\n",
    "b1500.smu1.disable_outputs()"
   ]
  },
  {
   "cell_type": "code",
   "execution_count": 12,
   "metadata": {},
   "outputs": [],
   "source": [
    "# Enabling via the mainframe\n",
    "\n",
    "# enable one channel\n",
    "b1500.enable_channels([1])\n",
    "\n",
    "# enable multiple channels\n",
    "b1500.enable_channels([1, 2])\n",
    "\n",
    "# disable multiple channels\n",
    "b1500.disable_channels([1, 2]) \n",
    "\n",
    "# disable all channels\n",
    "b1500.disable_channels()"
   ]
  },
  {
   "cell_type": "markdown",
   "metadata": {},
   "source": [
    "### Performing sampling measurements"
   ]
  },
  {
   "cell_type": "markdown",
   "metadata": {},
   "source": [
    "This section outlines steps to perform sampling measurement. \n",
    "\n",
    "Connect to the instrument. "
   ]
  },
  {
   "cell_type": "code",
   "execution_count": 5,
   "metadata": {},
   "outputs": [
    {
     "name": "stdout",
     "output_type": "stream",
     "text": [
      "Connected to: Agilent Technologies B1500A (serial:0, firmware:A.06.01.2016.0401) in 0.35s\n"
     ]
    }
   ],
   "source": [
    "spa = KeysightB1500('spa', address='GPIB21::17::INSTR')\n",
    "spa.connect_message()"
   ]
  },
  {
   "cell_type": "markdown",
   "metadata": {},
   "source": [
    "Set a sample rate and number of samples. "
   ]
  },
  {
   "cell_type": "code",
   "execution_count": 8,
   "metadata": {},
   "outputs": [],
   "source": [
    "# Number of spot measurments made per second and stored in a buffer. \n",
    "sample_rate = 0.02\n",
    "# Total number of spot measurements. \n",
    "nsamples = 100"
   ]
  },
  {
   "cell_type": "markdown",
   "metadata": {},
   "source": [
    "Assign timing parameters to SMU. "
   ]
  },
  {
   "cell_type": "code",
   "execution_count": 9,
   "metadata": {},
   "outputs": [],
   "source": [
    "spa.smu1.timing_parameters(0, sample_rate, nsamples)"
   ]
  },
  {
   "cell_type": "markdown",
   "metadata": {},
   "source": [
    "Autozero is generally disabled for sampling measurement. "
   ]
  },
  {
   "cell_type": "code",
   "execution_count": 10,
   "metadata": {},
   "outputs": [],
   "source": [
    "spa.autozero_enabled(False)"
   ]
  },
  {
   "cell_type": "markdown",
   "metadata": {},
   "source": [
    "Set SMU to sampling mode. "
   ]
  },
  {
   "cell_type": "code",
   "execution_count": 11,
   "metadata": {},
   "outputs": [],
   "source": [
    "spa.smu1.measurement_mode(constants.MM.Mode.SAMPLING)"
   ]
  },
  {
   "cell_type": "markdown",
   "metadata": {},
   "source": [
    "SMU is configured with by assigning voltage output range, input output range and compliance. While forcing voltage, current should be the compliance and vice versa.\n"
   ]
  },
  {
   "cell_type": "code",
   "execution_count": 13,
   "metadata": {},
   "outputs": [],
   "source": [
    "spa.smu1.source_config(output_range=constants.VOutputRange.AUTO,\n",
    "                       compliance=1e-7, \n",
    "                       compl_polarity=None, \n",
    "                       min_compliance_range=constants.IOutputRange.AUTO\n",
    "                      )\n",
    "#spa.smu1.source_config(constants.VOutputRange.AUTO, 1e-7, None, constants.IOutputRange.AUTO)"
   ]
  },
  {
   "cell_type": "markdown",
   "metadata": {},
   "source": [
    "Set SMU voltage"
   ]
  },
  {
   "cell_type": "code",
   "execution_count": 14,
   "metadata": {},
   "outputs": [],
   "source": [
    "spa.smu1.voltage(1e-6)"
   ]
  },
  {
   "cell_type": "markdown",
   "metadata": {},
   "source": [
    "Read the sampling measurement data from the buffer, parse it correctly and return it. "
   ]
  },
  {
   "cell_type": "code",
   "execution_count": 17,
   "metadata": {},
   "outputs": [],
   "source": [
    "data_sampling = spa.smu1.sampling_measurement.get()"
   ]
  },
  {
   "cell_type": "code",
   "execution_count": 44,
   "metadata": {},
   "outputs": [
    {
     "data": {
      "image/png": "[encoded data removed]",
      "text/plain": [
       "<Figure size 432x288 with 1 Axes>"
      ]
     },
     "metadata": {
      "needs_background": "light"
     },
     "output_type": "display_data"
    }
   ],
   "source": [
    "_ = plt.plot(data_sampling)\n",
    "_ = plt.xlabel('Number of samples')\n",
    "_ = plt.ylabel('Current (A)')\n",
    "_ = plt.title('Sampling Measurement')"
   ]
  },
  {
   "cell_type": "markdown",
   "metadata": {},
   "source": [
    "Check compliance: For the values which are compliant the output is one and for others it is zero. A quick to visualize of your measurements are compliant is to plot the compliance data and look if any value of zero."
   ]
  },
  {
   "cell_type": "code",
   "execution_count": 29,
   "metadata": {},
   "outputs": [
    {
     "name": "stdout",
     "output_type": "stream",
     "text": [
      "All measurements are normal\n"
     ]
    }
   ],
   "source": [
    "data_compliance = spa.smu1.sampling_measurement.compliance()"
   ]
  },
  {
   "cell_type": "code",
   "execution_count": 45,
   "metadata": {},
   "outputs": [
    {
     "data": {
      "image/png": "[encoded data removed]",
      "text/plain": [
       "<Figure size 432x288 with 1 Axes>"
      ]
     },
     "metadata": {
      "needs_background": "light"
     },
     "output_type": "display_data"
    }
   ],
   "source": [
    "_ = plt.plot(data_compliance)\n",
    "_ = plt.xlabel('Measurements')\n",
    "_ = plt.ylabel('Compliance status')"
   ]
  },
  {
   "cell_type": "markdown",
   "metadata": {},
   "source": [
    "``Troubleshooting commands`` In case you would like to have information about the channel number, type of data and type of compliance error you may look at the output of the following commands too."
   ]
  },
  {
   "cell_type": "code",
   "execution_count": 23,
   "metadata": {},
   "outputs": [],
   "source": [
    "data_status = spa.smu1.sampling_measurement.data.status\n",
    "data_channel = spa.smu1.sampling_measurement.data.channel\n",
    "data_type = spa.smu1.sampling_measurement.data.type"
   ]
  },
  {
   "cell_type": "markdown",
   "metadata": {},
   "source": [
    "### SMU sourcing and measuring\n",
    "The simplest measurement one can do with the B1500 are *High Speed Spot Measurements*. They work independent of the selected *Measurement Mode*.\n",
    "\n",
    "The `voltage` and `current` Qcodes Parameters that the SMU High Level driver exposes will execute *High Speed Spot* measurements. Additionally, there are functions that let the user specify the output/measure ranges, and compliance limits.\n",
    "\n",
    "To source a voltage/current do the following:\n",
    "  1. Configure source range, and (optionally) compliance settings\n",
    "  2. Enable the channel\n",
    "  3. Force the desired voltage\n",
    "  4. (optionally) Disable the channel\n",
    "\n",
    "**Note: The source settings (Step 1) are persistent until changed again. So for sucessive measurements the configuration can be omitted.**"
   ]
  },
  {
   "cell_type": "code",
   "execution_count": 13,
   "metadata": {},
   "outputs": [],
   "source": [
    "b1500.smu1.enable_outputs()\n",
    "\n",
    "b1500.smu1.source_config(output_range=constants.VOutputRange.AUTO,\n",
    "                         compliance=0.1)\n",
    "\n",
    "b1500.smu1.voltage(1.5)"
   ]
  },
  {
   "cell_type": "markdown",
   "metadata": {},
   "source": [
    "To measure do the following:\n",
    "  1. Configure the measure range\n",
    "  2. Enable the channel (if not yet enabled)\n",
    "  3. Do the measurement\n",
    "  4. (optionally) Disable the channel\n",
    "\n",
    "**Note: The measure settings (Step 1) are persistent until changed again. So for sucessive measurements the configuration can be omitted.**"
   ]
  },
  {
   "cell_type": "code",
   "execution_count": 14,
   "metadata": {},
   "outputs": [],
   "source": [
    "b1500.smu1.measure_config(measure_range=constants.IMeasRange.FIX_100uA)\n",
    "\n",
    "b1500.smu1.enable_outputs()\n",
    "\n",
    "cur = b1500.smu1.current()\n",
    "\n",
    "b1500.smu1.disable_outputs()"
   ]
  },
  {
   "cell_type": "markdown",
   "metadata": {},
   "source": [
    "### Setting up ADCs to NPLC mode\n",
    "\n",
    "Both the mainframe driver and SMU driver implement convenience methods for controlling integration time of the *High Speed Spot* measurement, which allow setting ADC type, and setting the frequenty used NPLC mode."
   ]
  },
  {
   "cell_type": "markdown",
   "metadata": {},
   "source": [
    "Use the following methods on the mainframe instance to set up the ADCs to NPLC mode:"
   ]
  },
  {
   "cell_type": "code",
   "execution_count": 15,
   "metadata": {},
   "outputs": [],
   "source": [
    "# Set the high-speed ADC to NPLC mode,\n",
    "# and optionally specify the number of PLCs as an arugment\n",
    "# (refer to the docstring and the user manual for more information)\n",
    "b1500.use_nplc_for_high_speed_adc(n=1)\n",
    "\n",
    "# Set the high-resolution ADC to NPLC mode,\n",
    "# and optionally specify the number of PLCs as an arugment\n",
    "# (refer to the docstring and the user manual for more information)\n",
    "b1500.use_nplc_for_high_resolution_adc(n=5)"
   ]
  },
  {
   "cell_type": "markdown",
   "metadata": {},
   "source": [
    "And then use the following methods on the SMU instances to use particular ADC for the particular SMU:"
   ]
  },
  {
   "cell_type": "code",
   "execution_count": 16,
   "metadata": {},
   "outputs": [],
   "source": [
    "# Use high-speed ADC \n",
    "# with the settings defined above\n",
    "# for the SMU 1\n",
    "b1500.smu1.use_high_speed_adc()\n",
    "\n",
    "# Use high-resoultion ADC \n",
    "# with the settings defined above\n",
    "# for the SMU 2\n",
    "b1500.smu2.use_high_resolution_adc()"
   ]
  },
  {
   "cell_type": "markdown",
   "metadata": {},
   "source": [
    "## Low Level Interface\n",
    "\n",
    "The Low Level Interface provides a wrapper around the FLEX command set. Multiple commands can be assembled in a sequence. Finally, the command sequence is compiled into a command string, which then can be sent to the instrument. \n",
    "\n",
    "Only some very minimal checks are done to the command string. For example some commands have to be the *last* command in a sequence of commands because the fill the output queue. Adding additional commands after that is not allowed.\n",
    "\n",
    "As an example, a \"voltage source + current measurement\" is done, similar as was done above with the high level interface."
   ]
  },
  {
   "cell_type": "code",
   "execution_count": 17,
   "metadata": {},
   "outputs": [],
   "source": [
    "mb = MessageBuilder()\n",
    "\n",
    "mb.cn(channels=[1])\n",
    "mb.dv(chnum=1,\n",
    "      voltage=1.5,\n",
    "      v_range=constants.VOutputRange.AUTO,\n",
    "      i_comp=0.1)\n",
    "mb.ti(chnum=1,\n",
    "      i_range=constants.IMeasRange.FIX_100uA)\n",
    "mb.cl(channels=[1])\n",
    "\n",
    "# Compiles the sequence of FLEX commands into a message string.\n",
    "message_string = mb.message"
   ]
  },
  {
   "cell_type": "code",
   "execution_count": 18,
   "metadata": {},
   "outputs": [
    {
     "name": "stdout",
     "output_type": "stream",
     "text": [
      "CN 1;DV 1,0,1.5,0.1;TI 1,-16;CL 1\n"
     ]
    }
   ],
   "source": [
    "print(message_string)"
   ]
  },
  {
   "cell_type": "markdown",
   "metadata": {},
   "source": [
    "The message string can be sent to the instrument. To parse the response of this spot measurement command, use the `KeysightB1500.parse_spot_measurement_response` static method.\n",
    "\n",
    "`parse_spot_measurement_response` will return a `dict` that contains the measurement value together with the measurement channel, info on what was measured (current, voltage, capacitance, ...), and status information. For a detailed description, see the user manual."
   ]
  },
  {
   "cell_type": "code",
   "execution_count": 19,
   "metadata": {},
   "outputs": [
    {
     "data": {
      "text/plain": [
       "{'status': 'N', 'chnr': 'A', 'dtype': 'I', 'value': 0.0}"
      ]
     },
     "execution_count": 19,
     "metadata": {},
     "output_type": "execute_result"
    }
   ],
   "source": [
    "response = b1500.ask(message_string)\n",
    "\n",
    "KeysightB1500.parse_spot_measurement_response(response)"
   ]
  },
  {
   "cell_type": "markdown",
   "metadata": {},
   "source": [
    "The `MessageBuilder` object can be cleared, which allows the object to be reused to generate a new message string."
   ]
  },
  {
   "cell_type": "code",
   "execution_count": 20,
   "metadata": {},
   "outputs": [
    {
     "data": {
      "text/plain": [
       "''"
      ]
     },
     "execution_count": 20,
     "metadata": {},
     "output_type": "execute_result"
    }
   ],
   "source": [
    "mb.clear_message_queue()\n",
    "# This will produce empty string because MessageBuilder buffer was cleared\n",
    "mb.message"
   ]
  },
  {
   "cell_type": "markdown",
   "metadata": {},
   "source": [
    "The `MessageBuilder` provides a *fluent* interface, which means every call on the `MessageBuilder` object always returns the object itself, with the exeption of `MessageBuilder.message` which **returns the compiled message string**.\n",
    "\n",
    "This means that the same message as in the first example could've been assembled like this:"
   ]
  },
  {
   "cell_type": "code",
   "execution_count": 21,
   "metadata": {},
   "outputs": [
    {
     "data": {
      "text/plain": [
       "{'status': 'N', 'chnr': 'A', 'dtype': 'I', 'value': 0.0}"
      ]
     },
     "execution_count": 21,
     "metadata": {},
     "output_type": "execute_result"
    }
   ],
   "source": [
    "response = b1500.ask(\n",
    "    MessageBuilder()\n",
    "    .cn(channels=[1])\n",
    "    .dv(\n",
    "        chnum=1,\n",
    "        voltage=1.5,\n",
    "        v_range=constants.VOutputRange.AUTO,\n",
    "        i_comp=0.1,\n",
    "    )\n",
    "    .ti(chnum=1, i_range=constants.IMeasRange.FIX_100uA)\n",
    "    .cl(channels=[1])\n",
    "    .message\n",
    ")\n",
    "\n",
    "KeysightB1500.parse_spot_measurement_response(response)"
   ]
  },
  {
   "cell_type": "code",
   "execution_count": null,
   "metadata": {},
   "outputs": [],
   "source": []
  }
 ],
 "metadata": {
  "kernelspec": {
   "display_name": "Python 3",
   "language": "python",
   "name": "python3"
  },
  "language_info": {
   "codemirror_mode": {
    "name": "ipython",
    "version": 3
   },
   "file_extension": ".py",
   "mimetype": "text/x-python",
   "name": "python",
   "nbconvert_exporter": "python",
   "pygments_lexer": "ipython3",
   "version": "3.7.3"
  },
  "nbsphinx": {
   "execute": "never"
  },
  "toc": {
   "base_numbering": 1,
   "nav_menu": {},
   "number_sections": true,
   "sideBar": true,
   "skip_h1_title": false,
   "title_cell": "Table of Contents",
   "title_sidebar": "Contents",
   "toc_cell": false,
   "toc_position": {},
   "toc_section_display": true,
   "toc_window_display": false
  },
  "varInspector": {
   "cols": {
    "lenName": 16,
    "lenType": 16,
    "lenVar": 40
   },
   "kernels_config": {
    "python": {
     "delete_cmd_postfix": "",
     "delete_cmd_prefix": "del ",
     "library": "var_list.py",
     "varRefreshCmd": "print(var_dic_list())"
    },
    "r": {
     "delete_cmd_postfix": ") ",
     "delete_cmd_prefix": "rm(",
     "library": "var_list.r",
     "varRefreshCmd": "cat(var_dic_list()) "
    }
   },
   "types_to_exclude": [
    "module",
    "function",
    "builtin_function_or_method",
    "instance",
    "_Feature"
   ],
   "window_display": false
  }
 },
 "nbformat": 4,
 "nbformat_minor": 2
}
