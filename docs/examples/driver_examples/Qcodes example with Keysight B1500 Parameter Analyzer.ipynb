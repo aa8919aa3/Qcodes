{
 "cells": [
  {
   "cell_type": "markdown",
   "metadata": {},
   "source": [
    "# Qcodes example with Keysight B2200 Series Femto Leakage Switch Matrix"
   ]
  },
  {
   "cell_type": "markdown",
   "metadata": {},
   "source": [
    "## Instrument Short info\n",
    "\n",
    "### Physical grouping\n",
    "The Keysight B1500 Semiconductor Parameter Analyzer consists of a *Mainframe* and can be equipped with various instrument *Modules*. 10 *Slots* are available in which up to 10 Modules can be installed (some modules occupy two slots). Each *Module* can have one or two *channels*.\n",
    "\n",
    "### Logical grouping\n",
    "The measurements are typically done in one of the 20 measurement modes. The modes can be roughly subdivided into \n",
    "  - Spot measurements\n",
    "  - Pulsed Spot measurement\n",
    "  - Sweep Measurements\n",
    "  - Search Measurements\n"
   ]
  },
  {
   "cell_type": "markdown",
   "metadata": {},
   "source": [
    "## Qcodes driver info\n",
    "As can be see already from the instrument short info, the instrument is very versatile, but also very complex. Hence the driver will eventually consist of two layers:\n",
    "  - The Low Level driver allows one to utilize all functions of the driver by offering a thin wrapper around the FLEX command set that the B1500 understands. \n",
    "  - A higher level driver that provides a simpler interface to the more frequently used features.\n",
    "\n",
    "### Low level driver\n",
    "The Low Level driver (`MessageBuilder` class) provides a wrapper function for each FLEX command. The commands are not executed right away, but rather assemble a message string which later can be sent to the instrument. This is done to enable fast execution, but is also important if one wants to make use of the internal programming function of the B1500 (complex measurement routines can be stored into the internal memory of the B1500 and then be called later)\n",
    "\n",
    "### High level driver\n",
    "The high level driver is still under development."
   ]
  },
  {
   "cell_type": "code",
   "execution_count": 1,
   "metadata": {},
   "outputs": [],
   "source": [
    "import qcodes as qc\n",
    "\n",
    "from qcodes.instrument_drivers.Keysight.keysightb1500 import KeysightB1500\n",
    "from pyvisa.errors import VisaIOError\n",
    "\n",
    "from IPython.display import display, Markdown"
   ]
  },
  {
   "cell_type": "code",
   "execution_count": 2,
   "metadata": {},
   "outputs": [
    {
     "data": {
      "text/markdown": [
       "**Note: using simulated instrument.**"
      ],
      "text/plain": [
       "<IPython.core.display.Markdown object>"
      ]
     },
     "metadata": {},
     "output_type": "display_data"
    },
    {
     "data": {
      "text/plain": [
       "'SPA'"
      ]
     },
     "execution_count": 2,
     "metadata": {},
     "output_type": "execute_result"
    }
   ],
   "source": [
    "# Create a station to hold all the instruments\n",
    "\n",
    "station = qc.Station()\n",
    "\n",
    "# instantiate the Switch Matrix and add it to the station\n",
    "try:\n",
    "    b1500 = KeysightB1500('switch_matrix',\n",
    "                        address='TCPIP::192.168.111.100::gpib0,22::INSTR')\n",
    "    display(Markdown(\"**Note: using physical instrument.**\"))\n",
    "except (ValueError, VisaIOError):\n",
    "    # Either there is no VISA lib installed or there was no real instrument found at the\n",
    "    # specified address => use simulated instrument\n",
    "    import qcodes.instrument_drivers.Keysight.keysightb1500 as module\n",
    "    path_to_yaml = module.__file__.replace('__init__.py', 'keysight_b1500.yaml')\n",
    "\n",
    "    b1500 = KeysightB1500('SPA',\n",
    "                          address='GPIB::1::INSTR',\n",
    "                          visalib=path_to_yaml + '@sim')\n",
    "    display(Markdown(\"**Note: using simulated instrument.**\"))\n",
    "\n",
    "station.add_component(b1500)"
   ]
  },
  {
   "cell_type": "markdown",
   "metadata": {},
   "source": [
    "## Low Level Driver\n"
   ]
  },
  {
   "cell_type": "code",
   "execution_count": null,
   "metadata": {},
   "outputs": [],
   "source": [
    "Sub perform_meas(ByVal session As IMessage, ByVal t() As Integer) ’1\n",
    "Dim i As Integer = 0\n",
    "Dim j As Integer = 0\n",
    "Dim nop1 As Integer = 1\n",
    "Dim nop2 As Integer = 1\n",
    "Dim value As String = \"Vg (V), Cgb (pF), C-status, Ileak (pA), I-status, Time\n",
    "(sec)\"\n",
    "Dim fname As String = \"C:\\Keysight\\prog_ex\\data21.txt\" Dim title As String = \"QSCV Measurement Result\"\n",
    "Dim msg As String = \"No error.\"\n",
    "Dim err As Integer = 0\n",
    "Dim vg1 As Double = 3.2 ’12 Dim vg2 As Double = -7.2\n",
    "Dim vstep As Double = 0.2\n",
    "Dim gstep As Integer = Math.Round(Math.Abs(vg2 - vg1) / Math.Abs(vstep)) - 1\n",
    "Dim cvoltage As Double = 0.25 Dim icomp As Double = 0.1\n",
    "Dim swp As Integer = 1\n",
    "Dim hold As Double = 5\n",
    "Dim delay1 As Double = 0.0 Dim delay2 As Double = 0.0 Dim cinteg As Double = 0.1 Dim linteg As Double = 0.1 Dim range As Integer = -10 nop1 = gstep\n",
    "Dim data(nop2-1, nop1-1) As String ’26 Dim rep As Integer\n",
    "Dim mret As String\n",
    "Dim sc(nop1) As Double\n",
    "Dim md1(nop1) As Double\n",
    "Dim st1(nop1) As String\n",
    "Dim md2(nop1) As Double\n",
    "Dim st2(nop1) As String\n",
    "Dim tm(nop1) As Double\n",
    "\n",
    "session.Timeout = 60000\n",
    "session.WriteString(\"FMT 1,1\" & vbLf) session.WriteString(\"TSC 1\" & vbLf)\n",
    "session.WriteString(\"MM 13,\" & t(1) &\n",
    "session.WriteString(\"QSC 0\" & vbLf)\n",
    "session.WriteString(\"QSL 1,1\" & vbLf)\n",
    "session.WriteString(\"QSM 2,1\" & vbLf)\n",
    "session.WriteString(\"QSR \" & range & vbLf)\n",
    "session.WriteString(\"QST \" & cinteg & \",\" & linteg & \",\" & hold & \",\" & delay1 &\n",
    "\",\" & delay2 & vbLf)\n",
    "session.WriteString(\"QSV \" & t(1) & \",\" & swp & \",0,\" & vg1 & \",\" & vg2 & \",\" &\n",
    "cvoltage & \",\" & gstep & \",\" & icomp & vbLf)\n",
    "session.WriteString(\"ERR? 1\" & vbLf) : err = session.ReadString(4 + 2) If err <> 0 Then session.WriteString(\"DZ\" & vbLf) : GoTo Check_err\n",
    "session.WriteString(\"QSZ 0\" & vbLf) ’51\n",
    "Dim rbx As Integer\n",
    "rbx = MsgBox(\"Do you want to perform offset cancel?\", vbYesNo, \"\") If rbx = vbYes Then\n",
    "MsgBox(\"Open measurement terminal. Then click OK.\", vbOKOnly, \"\") Console.WriteLine(\"Wait a minute . . .\" & Chr(10)) session.WriteString(\"QSZ 2\" & vbLf)\n",
    "session.WriteString(\"*OPC?\" & vbLf) : rep = session.ReadString(1 + 2) session.WriteString(\"ERR? 1\" & vbLf) : err = session.ReadString(4 + 2) If err <> 0 Then session.WriteString(\"DZ\" & vbLf) : GoTo Check_err mret = session.ReadString(16 + 2)\n",
    "md1(0) = Val(Mid(mret, 4, 12))\n",
    "Console.WriteLine(\"Offset data = \" & md1(0) * 1000000000000.0 & \"pF\" & Chr(10)) MsgBox(\"Offset data = \" & md1(0) * 1000000000000.0 & \"pF\", vbOKOnly, \"\") session.WriteString(\"QSZ 1\" & vbLf)\n",
    "End If ’67\n",
    "                    \n",
    "MsgBox(\"Connect DUT. Then click OK.\", vbOKOnly, \"\") Console.WriteLine(\"Wait a minute . . .\" & Chr(10)) session.WriteString(\"DV \" & t(0) & \",0,0,0.1,0\" & vbLf) session.WriteString(\"DV \" & t(2) & \",0,0,0.1,0\" & vbLf) session.WriteString(\"DV \" & t(3) & \",0,0,0.1,0\" & vbLf) session.WriteString(\"TSR\" & vbLf) session.WriteString(\"XE\" & vbLf)\n",
    "’69\n",
    "session.WriteString(\"*OPC?\" & vbLf) : rep = session.ReadString(1 + 2) ’77 session.WriteString(\"ERR? 1\" & vbLf) : err = session.ReadString(4 + 2)\n",
    "If err <> 0 Then session.WriteString(\"DZ\" & vbLf) : GoTo Check_err session.WriteString(\"NUB?\" & vbLf) : rep = session.ReadString(3 + 2)\n",
    "If rep <> nop1 * 4 Then session.WriteString(\"DZ\" & vbLf) : GoTo Check_nop\n",
    "mret = session.ReadString(16 * 4 * nop1 + 2) ’4*nop1 data + terminator ’83\n",
    "For i = 0 To nop1 - 1\n",
    "st1(i) = Mid(mret, i * 16 * 4 + 16 * 1 + 1, 3)\n",
    "st2(i) = Mid(mret, i * 16 * 4 + 16 * 2 + 1, 3)\n",
    "tm(i) = Val(Mid(mret, i * 16 * 4 + 4, 12))\n",
    "md1(i) = Val(Mid(mret, i * 16 * 4 + 16 * 1 + 4, 12))\n",
    "md2(i) = Val(Mid(mret, i * 16 * 4 + 16 * 2 + 4, 12))\n",
    "sc(i) = Val(Mid(mret, i * 16 * 4 + 16 * 3 + 4, 12))\n",
    "data(j, i) = Chr(13) & Chr(10) & sc(i) & \", \" & md2(i) * 1000000000000.0 & \", \"\n",
    "& st2(i) & \", \" & md1(i) * 1000000000000.0 & \", \" & st1(i) & \", \" & tm(i) Next i\n",
    "session.WriteString(\"DZ\" & vbLf) ’95 save_data(fname, title, value, data, nop1, nop2, session, t)\n",
    "Exit Sub\n",
    "Check_err: ’99 session.WriteString(\"EMG? \" & err & vbLf) : msg = session.ReadString(256) MsgBox(\"Instrument error: \" & err & Chr(10) & msg, vbOKOnly, \"\")\n",
    "Exit Sub\n",
    "Check_nop: ’104 MsgBox(\"No. of data: \" & rep & \" (not \" & nop1 * 4 & \")\", vbOKOnly, \"\")\n",
    "End Sub"
   ]
  },
  {
   "cell_type": "code",
   "execution_count": 6,
   "metadata": {},
   "outputs": [],
   "source": [
    "from qcodes.instrument_drivers.Keysight.keysightb1500.constants import ChNr,IMeasRange, VMeasRange, \\\n",
    "    IOutputRange, VOutputRange, FMT, MM, QSC, QSM, QSV, QSZ"
   ]
  },
  {
   "cell_type": "code",
   "execution_count": null,
   "metadata": {},
   "outputs": [],
   "source": [
    "b1500.mb.fmt(format_id=FMT.Format.ASCII_12_DIGITS_WITH_HEADER_CRLF_EOI, mode=FMT.Mode.ONLY_MEASUREMENT_DATA)\n",
    "    .mm()"
   ]
  },
  {
   "cell_type": "markdown",
   "metadata": {},
   "source": [
    "## High Level Driver"
   ]
  },
  {
   "cell_type": "code",
   "execution_count": null,
   "metadata": {},
   "outputs": [],
   "source": []
  }
 ],
 "metadata": {
  "kernelspec": {
   "display_name": "Python 3",
   "language": "python",
   "name": "python3"
  },
  "language_info": {
   "codemirror_mode": {
    "name": "ipython",
    "version": 3
   },
   "file_extension": ".py",
   "mimetype": "text/x-python",
   "name": "python",
   "nbconvert_exporter": "python",
   "pygments_lexer": "ipython3",
   "version": "3.7.1"
  }
 },
 "nbformat": 4,
 "nbformat_minor": 2
}
