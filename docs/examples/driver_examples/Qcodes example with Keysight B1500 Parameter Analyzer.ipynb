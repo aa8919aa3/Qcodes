{
 "cells": [
  {
   "cell_type": "markdown",
   "metadata": {},
   "source": [
    "# Qcodes example with Keysight B1500 Semiconductor Parameter Analyzer"
   ]
  },
  {
   "cell_type": "markdown",
   "metadata": {},
   "source": [
    "## Instrument Short info\n",
    "Here a short introduction on how the B1500 measurement system is composed is given. For a detailed overview it is strongly recommended to refer to the *B1500 Programming Guide* and also the *Parametric Measurement Handbook* by Keysight.\n",
    "\n",
    "### Physical grouping\n",
    "The Keysight B1500 Semiconductor Parameter Analyzer consists of a *Mainframe* and can be equipped with various instrument *Modules*. 10 *Slots* are available in which up to 10 *modules* can be installed (some *modules* occupy two *slots*). Each *module* can have one or two *channels*.\n",
    "\n",
    "### Logical grouping\n",
    "The measurements are typically done in one of the 20 measurement modes. The modes can be roughly subdivided into \n",
    "  - Spot measurements\n",
    "      - **High Speed Spot Measurements**\n",
    "  - Pulsed Spot measurement\n",
    "  - Sweep Measurements\n",
    "  - Search Measurements\n",
    "\n",
    "The **High Speed Spot (HSS)** Mode is essentually just a fancy way of saying to take readings and forcing constant voltages/currents. The *HSS* commands work at any time, independent of the currenttly selected Measurment Mode.\n",
    "\n",
    "With the exception of the *High Speed Spot Measurement Mode*, the other modes have to be activated and configured by the user."
   ]
  },
  {
   "cell_type": "markdown",
   "metadata": {},
   "source": [
    "## Qcodes driver info\n",
    "As can be seen already from the instrument short info, the instrument is very versatile, but also very complex. Hence the driver will eventually consist of two layers:\n",
    "  - The Low Level interface allows one to utilize all functions of the driver by offering a thin wrapper around the FLEX command set that the B1500 understands. \n",
    "  - A Higher Level interface that provides a convenient access to the more frequently used features. Not all features are available via the high level interface.\n",
    "\n",
    "The two driver levels can be used at the same time, so even if some functionality is not yet implemented in the high-level interface, the user can send a corresponding low-level command.\n",
    "\n",
    "### Integer Flags and Constants used in the driver\n",
    "Both the high-level and the low-level interface use integer constants in many commands. For user convienience, the `qcodes.instrument_drivers.Keysight.keysightb1500.constants` provides more descriptive Python Enums for these constants. Although bare integer values can still be used, it is highly recommended to use the enumerations in order to avoid mistakes.\n",
    "\n",
    "### High level interface\n",
    "The high level exposes instrument functionality via QCodes Parameters and Python methods on the mainframe object and the individual instrument module objects. For example, *High Speed Spot* Measurement commands for forcing constant voltages/currents or for taking simple readings are implemented.\n",
    "\n",
    "### Low level interface\n",
    "The Low Level interface (`MessageBuilder` class) provides a wrapper function for each FLEX command. From the low-level, the full functionality of the instrument can be controlled.\n",
    "\n",
    "The `MessageBuilder` assembles a message string which later can be sent to the instrument using the low level `write` and `ask` methods. One can also use the `MessageBuilder` to write FLEX complex measurement routines that are stored in the B1500 and can be executed at a later point. This can be done to enable fast execution."
   ]
  },
  {
   "cell_type": "markdown",
   "metadata": {},
   "source": [
    "## Programming Examples"
   ]
  },
  {
   "cell_type": "markdown",
   "metadata": {},
   "source": [
    "### Initializing the instrument"
   ]
  },
  {
   "cell_type": "code",
   "execution_count": 1,
   "metadata": {},
   "outputs": [
    {
     "name": "stdout",
     "output_type": "stream",
     "text": [
      "Logging hadn't been started.\n",
      "Activating auto-logging. Current session state plus future input saved.\n",
      "Filename       : C:\\Users\\CryoProbeusr\\.qcodes\\logs\\command_history.log\n",
      "Mode           : append\n",
      "Output logging : True\n",
      "Raw input log  : False\n",
      "Timestamping   : True\n",
      "State          : active\n",
      "Qcodes Logfile : C:\\Users\\CryoProbeusr\\.qcodes\\logs\\200615-11032-qcodes.log\n",
      "pyqtgraph plotting not supported, try \"from qcodes.plots.pyqtgraph import QtPlot\" to see the full error\n"
     ]
    }
   ],
   "source": [
    "from matplotlib import pyplot as plt\n",
    "import qcodes as qc\n",
    "\n",
    "from qcodes.instrument_drivers.Keysight.keysightb1500 import KeysightB1500, \\\n",
    "    MessageBuilder, constants\n",
    "from qcodes.dataset.experiment_container import load_or_create_experiment\n",
    "from qcodes.dataset.measurements import Measurement\n",
    "from qcodes.dataset.plotting import plot_dataset\n",
    "from qcodes.instrument.parameter import expand_setpoints_helper\n",
    "from qcodes import initialise_database\n",
    "from pyvisa.errors import VisaIOError\n",
    "\n",
    "from IPython.display import display, Markdown"
   ]
  },
  {
   "cell_type": "code",
   "execution_count": 2,
   "metadata": {},
   "outputs": [],
   "source": [
    "station = qc.Station() # Create a station to hold all the instruments"
   ]
  },
  {
   "cell_type": "code",
   "execution_count": 3,
   "metadata": {},
   "outputs": [
    {
     "name": "stdout",
     "output_type": "stream",
     "text": [
      "Connected to: Agilent Technologies B1500A (serial:0, firmware:A.06.01.2016.0401) in 0.40s\n"
     ]
    },
    {
     "data": {
      "text/markdown": [
       "**Note: using physical instrument.**"
      ],
      "text/plain": [
       "<IPython.core.display.Markdown object>"
      ]
     },
     "metadata": {},
     "output_type": "display_data"
    }
   ],
   "source": [
    "#Note: If there is no physical instrument connected \n",
    "#the following code will try to load a simulated instrument\n",
    "\n",
    "try:\n",
    "    #TODO change that address according to your setup\n",
    "    b1500 = KeysightB1500('spa', address='GPIB21::17::INSTR')\n",
    "    display(Markdown(\"**Note: using physical instrument.**\"))\n",
    "except (ValueError, VisaIOError):\n",
    "    # Either there is no VISA lib installed or there was no real instrument found at the\n",
    "    # specified address => use simulated instrument\n",
    "    import qcodes.instrument.sims as sims\n",
    "    path_to_yaml = sims.__file__.replace('__init__.py',\n",
    "                                         'keysight_b1500.yaml')\n",
    "\n",
    "    b1500 = KeysightB1500('SPA',\n",
    "                          address='GPIB::1::INSTR',\n",
    "                          visalib=path_to_yaml + '@sim')\n",
    "    display(Markdown(\"**Note: using simulated instrument. Functionality will be limited.**\"))"
   ]
  },
  {
   "cell_type": "code",
   "execution_count": 4,
   "metadata": {
    "scrolled": false
   },
   "outputs": [
    {
     "data": {
      "text/plain": [
       "'spa'"
      ]
     },
     "execution_count": 4,
     "metadata": {},
     "output_type": "execute_result"
    }
   ],
   "source": [
    "station.add_component(b1500)"
   ]
  },
  {
   "cell_type": "markdown",
   "metadata": {},
   "source": [
    "## High Level Interface\n",
    "\n",
    "Here is an example of using high-level interface.\n"
   ]
  },
  {
   "cell_type": "markdown",
   "metadata": {},
   "source": [
    "### Identifying and selecting installed modules\n",
    "As mentioned above, the B1500 is a modular instrument, and contains multiple cards. When initializing the driver, the driver requests the installed modules from the B1500 and exposes them to the user via multiple ways.\n",
    "\n",
    "The first way to address a certain module is e.g. as follows:"
   ]
  },
  {
   "cell_type": "code",
   "execution_count": null,
   "metadata": {},
   "outputs": [],
   "source": [
    "b1500.smu1 # first SMU in the system\n",
    "b1500.cmu1 # first CMU in the system\n",
    "b1500.smu2 # second SMU in the system"
   ]
  },
  {
   "cell_type": "code",
   "execution_count": null,
   "metadata": {},
   "outputs": [],
   "source": [
    "b1500.cmu1.phase_compensation_mode()"
   ]
  },
  {
   "cell_type": "markdown",
   "metadata": {},
   "source": [
    "The naming scheme is - `b1500.<instrument class as lower case><number>`, where number is `1` for the first instrument in its class, `2` for the second instrument in its class and so on. (*Not the channel or slot number!*)\n",
    "\n",
    "Next to this direct access - which is simple and good for direct user interaction - the modules are also exposed via multiple data structures through which they can be adressed:\n",
    "  - by slot number\n",
    "  - by module kind (such as SMU, or CMU)\n",
    "  - by channel number\n",
    "\n",
    "This can be more convenient for programmatic selection of the modules."
   ]
  },
  {
   "cell_type": "markdown",
   "metadata": {},
   "source": [
    "Instrument modules are installed in slots (numbered 1-11) and can be selected by the slot number:"
   ]
  },
  {
   "cell_type": "code",
   "execution_count": null,
   "metadata": {},
   "outputs": [],
   "source": [
    "b1500.by_slot"
   ]
  },
  {
   "cell_type": "markdown",
   "metadata": {},
   "source": [
    "All modules are also grouped by module kind (see `constants.ModuleKind` for list of known kinds of modules):"
   ]
  },
  {
   "cell_type": "code",
   "execution_count": null,
   "metadata": {},
   "outputs": [],
   "source": [
    "b1500.by_kind"
   ]
  },
  {
   "cell_type": "markdown",
   "metadata": {},
   "source": [
    "For example, let's list all SMU modules:"
   ]
  },
  {
   "cell_type": "code",
   "execution_count": null,
   "metadata": {},
   "outputs": [],
   "source": [
    "b1500.by_kind['SMU']"
   ]
  },
  {
   "cell_type": "markdown",
   "metadata": {},
   "source": [
    "Lastly, there is dictionary of all module channels:"
   ]
  },
  {
   "cell_type": "code",
   "execution_count": null,
   "metadata": {},
   "outputs": [],
   "source": [
    "# For the simulation driver:\n",
    "# Note how the B1530A module has two channels.\n",
    "# The first channel number is the same as the slot number (6).\n",
    "# The second channel has a `02` appended to the channel number.\n",
    "b1500.by_channel"
   ]
  },
  {
   "cell_type": "markdown",
   "metadata": {},
   "source": [
    "**Note: For instruments with only one channel, channel number is the same as the slot number. However there are instruments with 2 channels per card. For these instruments the second channel number will differ from the slot number.**\n",
    "\n",
    "**Note for the simulated instrument: The simulation driver will list a B1530A module with 2 channels as example.**\n",
    "\n",
    "In general, the slot- and channel numbers can be passed as integers. However (especially in the case of the channel numbers for multi-channel instruments) it is recommended to use the Python enums defined in `qcodes.instrument_drivers.Keysight.keysightb1500.constants`:"
   ]
  },
  {
   "cell_type": "code",
   "execution_count": null,
   "metadata": {},
   "outputs": [],
   "source": [
    "# Selecting a module by channel number using the Enum\n",
    "m1 = b1500.by_channel[constants.ChNr.SLOT_01_CH1]\n",
    "\n",
    "# Without enum\n",
    "m2 = b1500.by_channel[1]\n",
    "\n",
    "# And we assert that we selected the same module:\n",
    "assert m1 is m2"
   ]
  },
  {
   "cell_type": "markdown",
   "metadata": {},
   "source": [
    "### Enabling / Disabling channels\n",
    "\n",
    "Before sourcing or doing a measurement, the respective channel has to be enabled. There are two ways to enable/disable a channel:\n",
    "  - By directly addressing the module\n",
    "  - By addressing the mainframe and specifying which channel(s) to be enabled\n",
    "\n",
    "The second method is useful if multiple channels shall be enabled, or for programmatic en-/disabling of channels. It also allows to en-/disable all channels with one call."
   ]
  },
  {
   "cell_type": "code",
   "execution_count": null,
   "metadata": {},
   "outputs": [],
   "source": [
    "# Direct addressing the module\n",
    "b1500.smu1.enable_outputs()\n",
    "b1500.smu1.disable_outputs()"
   ]
  },
  {
   "cell_type": "code",
   "execution_count": null,
   "metadata": {},
   "outputs": [],
   "source": [
    "# Enabling via the mainframe\n",
    "\n",
    "# enable one channel\n",
    "b1500.enable_channels([1])\n",
    "\n",
    "# enable multiple channels\n",
    "b1500.enable_channels([1, 2])\n",
    "\n",
    "# disable multiple channels\n",
    "b1500.disable_channels([1, 2]) \n",
    "\n",
    "# disable all channels\n",
    "b1500.disable_channels()"
   ]
  },
  {
   "cell_type": "markdown",
   "metadata": {},
   "source": [
    "### Perform self calibration\n",
    "\n",
    "Calibration takes about 30 seconds (the visa timeout for it is controlled by `b1500.calibration_time_out` attribute)."
   ]
  },
  {
   "cell_type": "code",
   "execution_count": null,
   "metadata": {
    "scrolled": false
   },
   "outputs": [],
   "source": [
    "b1500.self_calibration()"
   ]
  },
  {
   "cell_type": "markdown",
   "metadata": {},
   "source": [
    "### Performing sampling measurements"
   ]
  },
  {
   "cell_type": "markdown",
   "metadata": {},
   "source": [
    "This section outlines steps to perform sampling measurement. "
   ]
  },
  {
   "cell_type": "markdown",
   "metadata": {},
   "source": [
    "Set a sample rate and number of samples. "
   ]
  },
  {
   "cell_type": "code",
   "execution_count": null,
   "metadata": {},
   "outputs": [],
   "source": [
    "# Number of spot measurments made per second and stored in a buffer. \n",
    "sample_rate = 0.02\n",
    "# Total number of spot measurements. \n",
    "nsamples = 100"
   ]
  },
  {
   "cell_type": "markdown",
   "metadata": {},
   "source": [
    "Assign timing parameters to SMU. "
   ]
  },
  {
   "cell_type": "code",
   "execution_count": null,
   "metadata": {},
   "outputs": [],
   "source": [
    "b1500.smu1.timing_parameters(0, sample_rate, nsamples)"
   ]
  },
  {
   "cell_type": "markdown",
   "metadata": {},
   "source": [
    "Autozero is generally disabled for sampling measurement. "
   ]
  },
  {
   "cell_type": "code",
   "execution_count": null,
   "metadata": {},
   "outputs": [],
   "source": [
    "b1500.autozero_enabled(False)"
   ]
  },
  {
   "cell_type": "markdown",
   "metadata": {},
   "source": [
    "Set SMU to sampling mode. "
   ]
  },
  {
   "cell_type": "code",
   "execution_count": null,
   "metadata": {},
   "outputs": [],
   "source": [
    "b1500.smu1.measurement_mode(constants.MM.Mode.SAMPLING)"
   ]
  },
  {
   "cell_type": "markdown",
   "metadata": {},
   "source": [
    "SMU is configured with by assigning voltage output range, input output range and compliance. While forcing voltage, current should be the compliance and vice versa.\n"
   ]
  },
  {
   "cell_type": "code",
   "execution_count": null,
   "metadata": {},
   "outputs": [],
   "source": [
    "b1500.smu1.source_config(output_range=constants.VOutputRange.AUTO,\n",
    "                       compliance=1e-7, \n",
    "                       compl_polarity=None, \n",
    "                       min_compliance_range=constants.IOutputRange.AUTO\n",
    "                      )"
   ]
  },
  {
   "cell_type": "markdown",
   "metadata": {},
   "source": [
    "Set the averaging to 1 otherwise the measurement takes 10 times more time. "
   ]
  },
  {
   "cell_type": "code",
   "execution_count": null,
   "metadata": {},
   "outputs": [],
   "source": [
    "b1500.use_nplc_for_high_speed_adc(n=1)"
   ]
  },
  {
   "cell_type": "markdown",
   "metadata": {},
   "source": [
    "Set the voltage"
   ]
  },
  {
   "cell_type": "code",
   "execution_count": null,
   "metadata": {},
   "outputs": [],
   "source": [
    "b1500.smu1.enable_outputs()\n",
    "b1500.smu1.voltage(1e-6)"
   ]
  },
  {
   "cell_type": "markdown",
   "metadata": {},
   "source": [
    "We are now ready to start the sampling measurement. We first initialize the database and create-new/load-old experiment. Then we register our dependent and independent parameters and start the measurement. \n",
    "\n",
    "**Note** that the default values of label and units are not defined for the parameter sampling measurement trace. Hence we first set them according to what is being measured: in this case we will measure current in A. It is important to set the label and the unit before the measurement in order to have this information when looking at the acquired data, for example when plotting it with `plot_dataset` as shown below."
   ]
  },
  {
   "cell_type": "code",
   "execution_count": null,
   "metadata": {},
   "outputs": [],
   "source": [
    "b1500.smu1.sampling_measurement_trace.label = 'Current'\n",
    "b1500.smu1.sampling_measurement_trace.unit = 'A'\n",
    "# Automatic assignment of the label and unit based on\n",
    "# the settings of the instrument can be implemented\n",
    "# upon request."
   ]
  },
  {
   "cell_type": "code",
   "execution_count": null,
   "metadata": {},
   "outputs": [],
   "source": [
    "initialise_database()\n",
    "exp = load_or_create_experiment(experiment_name='dummy_sampling_measurement',\n",
    "                          sample_name=\"no sample\")\n",
    "meas  = Measurement(exp=exp)\n",
    "meas.register_parameter(b1500.smu1.sampling_measurement_trace)\n",
    "\n",
    "with meas.run() as datasaver:\n",
    "    datasaver.add_result(*expand_setpoints_helper(b1500.smu1.sampling_measurement_trace))"
   ]
  },
  {
   "cell_type": "markdown",
   "metadata": {},
   "source": [
    "Thanks to the `label` and `unit` set above for the `sampling_measurement_trace` parameter, the `plot_dataset` function is able to produce a plot with a useful label for the vertical axis, see below:"
   ]
  },
  {
   "cell_type": "code",
   "execution_count": null,
   "metadata": {},
   "outputs": [],
   "source": [
    "plot_dataset(datasaver.dataset)"
   ]
  },
  {
   "cell_type": "markdown",
   "metadata": {},
   "source": [
    "Check compliance: For the values which are compliant the output is one and for others it is zero. A quick to visualize of your measurements are compliant is to plot the compliance data and look if any value of zero."
   ]
  },
  {
   "cell_type": "code",
   "execution_count": null,
   "metadata": {},
   "outputs": [],
   "source": [
    "data_compliance = b1500.smu1.sampling_measurement_trace.compliance()"
   ]
  },
  {
   "cell_type": "code",
   "execution_count": null,
   "metadata": {},
   "outputs": [],
   "source": [
    "plt.plot(data_compliance)\n",
    "plt.xlabel('Measurements')\n",
    "_ = plt.ylabel('Compliance status')"
   ]
  },
  {
   "cell_type": "markdown",
   "metadata": {},
   "source": [
    "The channel number of the measured data can be obtained in the following way. "
   ]
  },
  {
   "cell_type": "code",
   "execution_count": null,
   "metadata": {},
   "outputs": [],
   "source": [
    "data_channel = b1500.smu1.sampling_measurement_trace.data.channel\n",
    "data_channel[:5]"
   ]
  },
  {
   "cell_type": "markdown",
   "metadata": {},
   "source": [
    "If you want to know the type of the measured data, for ex 'I' or 'V' the following method can be used."
   ]
  },
  {
   "cell_type": "code",
   "execution_count": null,
   "metadata": {},
   "outputs": [],
   "source": [
    "data_type = b1500.smu1.sampling_measurement_trace.data.type\n",
    "data_type[:5]"
   ]
  },
  {
   "cell_type": "markdown",
   "metadata": {},
   "source": [
    "The measurement status can be obtained using:"
   ]
  },
  {
   "cell_type": "code",
   "execution_count": null,
   "metadata": {},
   "outputs": [],
   "source": [
    "data_status = b1500.smu1.sampling_measurement_trace.data.status\n",
    "data_status[:5]"
   ]
  },
  {
   "cell_type": "markdown",
   "metadata": {},
   "source": [
    "The variable 'data_status' is a list of strings of measurement status for each data point. One can look at the meaning of the statuses in `constants.ComplianceStatus` class. It enlists meaning of all possible measurement status. For example: in case the measurement status is 'C' its meaning can be found as following."
   ]
  },
  {
   "cell_type": "code",
   "execution_count": null,
   "metadata": {},
   "outputs": [],
   "source": [
    "constants.ComplianceStatus.N"
   ]
  },
  {
   "cell_type": "code",
   "execution_count": null,
   "metadata": {},
   "outputs": [],
   "source": [
    "constants.ComplianceStatus.C"
   ]
  },
  {
   "cell_type": "markdown",
   "metadata": {},
   "source": [
    "### CV Sweep"
   ]
  },
  {
   "cell_type": "markdown",
   "metadata": {},
   "source": [
    "MFCMU has two modes of measurement. The first is spot measurement and this here is sweep measurement. As the name suggest sweep measurement execute the measurement once for the whole list of voltages and saves the output in the buffer untill measurment is completed.\n",
    "\n",
    "The function below sets up properly the parameters to run the sweep measurements. Look at the docstring of ``setup_staircase_cv`` to know more about each argument of the function. "
   ]
  },
  {
   "cell_type": "code",
   "execution_count": 6,
   "metadata": {},
   "outputs": [],
   "source": [
    "b1500.cmu1.enable_outputs()"
   ]
  },
  {
   "cell_type": "code",
   "execution_count": 7,
   "metadata": {
    "scrolled": true
   },
   "outputs": [],
   "source": [
    "b1500.cmu1.setup_staircase_cv(\n",
    "    v_start=0,\n",
    "    v_end=1,\n",
    "    n_steps=201,\n",
    "    freq=1e3,\n",
    "    ac_rms=250e-3,\n",
    "    post_sweep_voltage_condition=constants.WMDCV.Post.STOP,\n",
    "    adc_mode=constants.ACT.Mode.PLC,\n",
    "    adc_coef=5,\n",
    "    imp_model=constants.IMP.MeasurementMode.Cp_D,\n",
    "    ranging_mode=constants.RangingMode.AUTO,\n",
    "    fixed_range_val=None,\n",
    "    hold_delay=0,\n",
    "    delay=0,\n",
    "    step_delay=225e-3,\n",
    "    trigger_delay=0,\n",
    "    measure_delay=0,\n",
    "    abort_enabled=constants.Abort.ENABLED,\n",
    "    sweep_mode=constants.SweepMode.LINEAR,\n",
    "    volt_monitor=False)"
   ]
  },
  {
   "cell_type": "markdown",
   "metadata": {},
   "source": [
    "If the setup function does not output any error then we are ready for the measurement. "
   ]
  },
  {
   "cell_type": "code",
   "execution_count": 8,
   "metadata": {
    "scrolled": true
   },
   "outputs": [
    {
     "name": "stdout",
     "output_type": "stream",
     "text": [
      "Starting experimental run with id: 2324. \n"
     ]
    }
   ],
   "source": [
    "initialise_database()\n",
    "exp = load_or_create_experiment(\n",
    "    experiment_name='dummy_capacitance_measurement',\n",
    "    sample_name=\"no sample\"\n",
    ")\n",
    "meas = Measurement(exp=exp)\n",
    "\n",
    "meas.register_parameter(b1500.cmu1.run_sweep)\n",
    "\n",
    "with meas.run() as datasaver:\n",
    "    res = b1500.cmu1.run_sweep() \n",
    "    datasaver.add_result((b1500.cmu1.run_sweep,res))"
   ]
  },
  {
   "cell_type": "markdown",
   "metadata": {},
   "source": [
    "The ouput of the ``run_sweep`` is a primary parameter (Capacitance) and a secondary parameter (Dissipation). The type of primary and secondary parameter  depends on the impedance model set in the ``setup_staircase_cv`` function (or via the corresponding ``impedance_model`` parameter). The setpoints of both the parameters are the same voltage values as defined by ``setup_staircase_cv`` (behind the scenes, those values are available in the ``cv_sweep_voltages`` parameter). "
   ]
  },
  {
   "cell_type": "code",
   "execution_count": 9,
   "metadata": {},
   "outputs": [
    {
     "data": {
      "text/plain": [
       "([<matplotlib.axes._subplots.AxesSubplot at 0x25bb6bf1a20>,\n",
       "  <matplotlib.axes._subplots.AxesSubplot at 0x25bb6cf9208>],\n",
       " [None, None])"
      ]
     },
     "execution_count": 9,
     "metadata": {},
     "output_type": "execute_result"
    },
    {
     "data": {
      "image/png": "[encoded data removed]",
      "text/plain": [
       "<Figure size 432x288 with 1 Axes>"
      ]
     },
     "metadata": {
      "needs_background": "light"
     },
     "output_type": "display_data"
    },
    {
     "data": {
      "image/png": "[encoded data removed]",
      "text/plain": [
       "<Figure size 432x288 with 1 Axes>"
      ]
     },
     "metadata": {
      "needs_background": "light"
     },
     "output_type": "display_data"
    }
   ],
   "source": [
    "plot_dataset(datasaver.dataset)"
   ]
  },
  {
   "cell_type": "code",
   "execution_count": 11,
   "metadata": {},
   "outputs": [
    {
     "data": {
      "text/plain": [
       "{'parallel_capacitance': 'No status error occurred.',\n",
       " 'dissipation_factor': 'No status error occurred.'}"
      ]
     },
     "execution_count": 11,
     "metadata": {},
     "output_type": "execute_result"
    }
   ],
   "source": [
    "b1500.cmu1.run_sweep.measurement_status()"
   ]
  },
  {
   "cell_type": "markdown",
   "metadata": {},
   "source": [
    "### IV Sweep"
   ]
  },
  {
   "cell_type": "markdown",
   "metadata": {},
   "source": [
    "This section explains the IV Staircase sweep measurements. "
   ]
  },
  {
   "cell_type": "markdown",
   "metadata": {},
   "source": [
    "Enable the channels. "
   ]
  },
  {
   "cell_type": "code",
   "execution_count": 12,
   "metadata": {},
   "outputs": [],
   "source": [
    "b1500.smu1.enable_outputs()\n",
    "b1500.smu2.enable_outputs()"
   ]
  },
  {
   "cell_type": "code",
   "execution_count": 13,
   "metadata": {},
   "outputs": [],
   "source": [
    "# Always good to do for the safety of the measured sample\n",
    "b1500.smu2.voltage(0)\n",
    "b1500.smu1.voltage(0)"
   ]
  },
  {
   "cell_type": "markdown",
   "metadata": {},
   "source": [
    "Setting up smu1 and smu2 for running the staircase sweep. One of the smu's is used for sweep. Both the smu's are used for acquiring data. In the setup below, smu1 is used to sweep over the sweep voltages -3 to 3 in 201 steps."
   ]
  },
  {
   "cell_type": "code",
   "execution_count": 14,
   "metadata": {},
   "outputs": [],
   "source": [
    "b1500.smu1.setup_staircase_sweep(\n",
    "    v_src_range = constants.VOutputRange.AUTO,\n",
    "    v_start = 3,\n",
    "    v_end = -3,\n",
    "    n_steps = 201,\n",
    "    av_coef = 5,\n",
    "    step_delay = 0.225,\n",
    "    abort_enabled = constants.Abort.ENABLED,\n",
    "    i_meas_range = constants.IMeasRange.FIX_10nA,\n",
    "    i_comp = 1e-8,\n",
    "    sweep_mode = constants.SweepMode.LINEAR,\n",
    "    # and there are more arguments with default values\n",
    "    # that might need to be changed for your\n",
    "    # particular measurement situation\n",
    ")"
   ]
  },
  {
   "cell_type": "markdown",
   "metadata": {},
   "source": [
    "`smu2` is kept at constant voltage and at different compliance and measurement range settings."
   ]
  },
  {
   "cell_type": "code",
   "execution_count": 15,
   "metadata": {},
   "outputs": [],
   "source": [
    "b1500.smu2.voltage(10e-3)\n",
    "b1500.smu2.enable_filter(True)\n",
    "b1500.smu2.measurement_operation_mode(constants.CMM.Mode.COMPLIANCE_SIDE)\n",
    "b1500.smu2.current_measurement_range(constants.IMeasRange.FIX_10uA)"
   ]
  },
  {
   "cell_type": "markdown",
   "metadata": {},
   "source": [
    "`b1500.set_measurement_mode` is used to define measurement mode and the channels from which data is extracted from. Here, channels correspond to SMU1 and SMU2 respectively - the SMU which is setup to run the sweep needs to go **FIRST**."
   ]
  },
  {
   "cell_type": "code",
   "execution_count": 16,
   "metadata": {},
   "outputs": [],
   "source": [
    "b1500.set_measurement_mode(\n",
    "    mode=constants.MM.Mode.STAIRCASE_SWEEP,\n",
    "    channels=(b1500.smu1.channels[0], b1500.smu2.channels[0])\n",
    ")\n",
    "# SMUs have only one channel so using `channels[0]` is enough\n",
    "# This might be improved in the future for better clarity and user convenience."
   ]
  },
  {
   "cell_type": "markdown",
   "metadata": {},
   "source": [
    "`run_iv_staircase_sweep` is used to run the sweep"
   ]
  },
  {
   "cell_type": "code",
   "execution_count": 17,
   "metadata": {},
   "outputs": [
    {
     "name": "stdout",
     "output_type": "stream",
     "text": [
      "Starting experimental run with id: 2325. \n"
     ]
    }
   ],
   "source": [
    "initialise_database()\n",
    "exp = load_or_create_experiment(\n",
    "    experiment_name='dummy_iv_sweep_measurement',\n",
    "    sample_name=\"no sample\"\n",
    ")\n",
    "meas = Measurement(exp=exp)\n",
    "\n",
    "# As per user needs, names and labels of the parameters inside the \n",
    "# MultiParameter can be adjusted to reflect what is actually being\n",
    "# measured, here we do that in order to provide an example:\n",
    "b1500.run_iv_staircase_sweep.names = ('gate_current', 'source_drain_current')\n",
    "b1500.run_iv_staircase_sweep.labels = ('Gate current', 'Source-drain current')\n",
    "\n",
    "meas.register_parameter(b1500.run_iv_staircase_sweep)\n",
    "\n",
    "with meas.run() as datasaver:\n",
    "    res = b1500.run_iv_staircase_sweep() \n",
    "    datasaver.add_result((b1500.run_iv_staircase_sweep, res))\n",
    "\n",
    "# In production code, remeber to revert the names/labels of the\n",
    "# run_iv_staircase_sweep MultiParameter in order to avoid confusion."
   ]
  },
  {
   "cell_type": "code",
   "execution_count": 18,
   "metadata": {},
   "outputs": [
    {
     "data": {
      "text/plain": [
       "([<matplotlib.axes._subplots.AxesSubplot at 0x25bb6ae2400>,\n",
       "  <matplotlib.axes._subplots.AxesSubplot at 0x25bb9e711d0>],\n",
       " [None, None])"
      ]
     },
     "execution_count": 18,
     "metadata": {},
     "output_type": "execute_result"
    },
    {
     "data": {
      "image/png": "[encoded data removed]",
      "text/plain": [
       "<Figure size 432x288 with 1 Axes>"
      ]
     },
     "metadata": {
      "needs_background": "light"
     },
     "output_type": "display_data"
    },
    {
     "data": {
      "image/png": "[encoded data removed]",
      "text/plain": [
       "<Figure size 432x288 with 1 Axes>"
      ]
     },
     "metadata": {
      "needs_background": "light"
     },
     "output_type": "display_data"
    }
   ],
   "source": [
    "plot_dataset(datasaver.dataset)"
   ]
  },
  {
   "cell_type": "code",
   "execution_count": 19,
   "metadata": {},
   "outputs": [
    {
     "data": {
      "text/plain": [
       "{'parallel_capacitance': 'No status error occurred.',\n",
       " 'dissipation_factor': 'No status error occurred.'}"
      ]
     },
     "execution_count": 19,
     "metadata": {},
     "output_type": "execute_result"
    }
   ],
   "source": [
    "b1500.cmu1.run_sweep.measurement_status()"
   ]
  },
  {
   "cell_type": "markdown",
   "metadata": {},
   "source": [
    "### Performing phase compensation"
   ]
  },
  {
   "cell_type": "markdown",
   "metadata": {},
   "source": [
    "The phase compensation is performed to adjust the phase zero.\n",
    "\n",
    "One must take care of two things before executing the phase compensation. First, make sure that all the channel outputs are enabled else instrument throws an error. "
   ]
  },
  {
   "cell_type": "code",
   "execution_count": null,
   "metadata": {},
   "outputs": [],
   "source": [
    "b1500.run_iv_staircase_sweep.measurement_status()"
   ]
  },
  {
   "cell_type": "markdown",
   "metadata": {},
   "source": [
    "Second, the phase compensation mode must be set to manual.  "
   ]
  },
  {
   "cell_type": "code",
   "execution_count": null,
   "metadata": {},
   "outputs": [],
   "source": [
    "b1500.cmu1.phase_compensation_mode(constants.ADJ.Mode.MANUAL)"
   ]
  },
  {
   "cell_type": "markdown",
   "metadata": {},
   "source": [
    "Now the phase compensation can be performed as follows. This operation takes about 30 seconds (the visa timeout for this operation is set via `b1500.cmu1.phase_compensation_timeout` attribute)."
   ]
  },
  {
   "cell_type": "code",
   "execution_count": null,
   "metadata": {
    "scrolled": true
   },
   "outputs": [],
   "source": [
    "b1500.cmu1.phase_compensation()"
   ]
  },
  {
   "cell_type": "markdown",
   "metadata": {},
   "source": [
    "Note that `phase_compensation` method also supports loading data of previously performed phase compensation. To use that, explicitly pass the operation mode argument:"
   ]
  },
  {
   "cell_type": "code",
   "execution_count": null,
   "metadata": {},
   "outputs": [],
   "source": [
    "b1500.cmu1.phase_compensation(constants.ADJQuery.Mode.USE_LAST)"
   ]
  },
  {
   "cell_type": "markdown",
   "metadata": {},
   "source": [
    "### Performing Open/Short/Load correction"
   ]
  },
  {
   "cell_type": "markdown",
   "metadata": {},
   "source": [
    "#### Set and get reference values"
   ]
  },
  {
   "cell_type": "markdown",
   "metadata": {},
   "source": [
    "Use the following method to set the calibration values or reference values of the open/short/load standard. Here, we are using open correction with Cp-G mode. The primary reference value, which is the value for Cp (in F), is set to 0.00001, and the secondary reference value, which is the value of G (in S), is set to 0.00002. These values are completely arbitrary, so please change them according to your experiments."
   ]
  },
  {
   "cell_type": "code",
   "execution_count": null,
   "metadata": {},
   "outputs": [],
   "source": [
    "b1500.cmu1.correction.set_reference_values(corr=constants.CalibrationType.OPEN,\n",
    "                                           mode=constants.DCORR.Mode.Cp_G,\n",
    "                                           primary=0.00001,\n",
    "                                           secondary=0.00002)"
   ]
  },
  {
   "cell_type": "markdown",
   "metadata": {},
   "source": [
    "You can retrieve the values you have set for calibration or the reference values of the open/short/load standard in the following way:"
   ]
  },
  {
   "cell_type": "code",
   "execution_count": null,
   "metadata": {},
   "outputs": [],
   "source": [
    "b1500.cmu1.correction.get_reference_values(corr=constants.CalibrationType.OPEN)"
   ]
  },
  {
   "cell_type": "markdown",
   "metadata": {},
   "source": [
    "#### Add CMU output frequency to the list for correction"
   ]
  },
  {
   "cell_type": "markdown",
   "metadata": {},
   "source": [
    "You can add to the list of frequencies supported by the instrument to be used for the data correction. The frequency value can be given with a certain resolution as per Table 4-18 in the programming manual."
   ]
  },
  {
   "cell_type": "code",
   "execution_count": null,
   "metadata": {},
   "outputs": [],
   "source": [
    "b1500.cmu1.correction.frequency_list.add(1000)"
   ]
  },
  {
   "cell_type": "markdown",
   "metadata": {},
   "source": [
    "#### Clear CMU output frequency list"
   ]
  },
  {
   "cell_type": "markdown",
   "metadata": {},
   "source": [
    "Clear the frequency list for the correction data measurement using the following methods. Correction data will be invalid after calls to these methods, so you will have to again perform the open/short/load correction.\n",
    "\n",
    "There are two modes in which you can clear the frequency list. First is clearing the list of frequencies:"
   ]
  },
  {
   "cell_type": "code",
   "execution_count": null,
   "metadata": {},
   "outputs": [],
   "source": [
    "b1500.cmu1.correction.frequency_list.clear()"
   ]
  },
  {
   "cell_type": "markdown",
   "metadata": {},
   "source": [
    "Second is clearing the list of frequencies and also setting it to a default list of frequencies (for the list of default frequencies, refer to the documentation of the ``CLCORR`` command in the programming manual):"
   ]
  },
  {
   "cell_type": "code",
   "execution_count": null,
   "metadata": {},
   "outputs": [],
   "source": [
    "b1500.cmu1.correction.frequency_list.clear_and_set_default()"
   ]
  },
  {
   "cell_type": "markdown",
   "metadata": {},
   "source": [
    "#### Query CMU output frequency list\n",
    "\n",
    "It is possible to query the total number of frequencies in the list:"
   ]
  },
  {
   "cell_type": "code",
   "execution_count": null,
   "metadata": {},
   "outputs": [],
   "source": [
    "b1500.cmu1.correction.frequency_list.query()"
   ]
  },
  {
   "cell_type": "markdown",
   "metadata": {},
   "source": [
    "It is also possible to query the values of specific frequencies using the same method by specifying an index within the frequency list:"
   ]
  },
  {
   "cell_type": "code",
   "execution_count": null,
   "metadata": {},
   "outputs": [],
   "source": [
    "b1500.cmu1.correction.frequency_list.query(2)"
   ]
  },
  {
   "cell_type": "markdown",
   "metadata": {},
   "source": [
    "#### Open/Short/Load Correction"
   ]
  },
  {
   "cell_type": "markdown",
   "metadata": {},
   "source": [
    "As per description in the programming guide, we first set the oscillator level of the CMU output signal."
   ]
  },
  {
   "cell_type": "code",
   "execution_count": null,
   "metadata": {},
   "outputs": [],
   "source": [
    "# Set oscillator level\n",
    "b1500.cmu1.voltage_ac(30e-3)"
   ]
  },
  {
   "cell_type": "markdown",
   "metadata": {},
   "source": [
    "To perform open/short/load correction connect the open/short/load standard and execute the following command to perform and enable the correction."
   ]
  },
  {
   "cell_type": "code",
   "execution_count": null,
   "metadata": {},
   "outputs": [],
   "source": [
    "b1500.cmu1.correction.perform_and_enable(corr=constants.CalibrationType.OPEN)\n",
    "#b1500.cmu1.correction.perform_and_enable(corr=constants.CalibrationType.SHORT)\n",
    "#b1500.cmu1.correction.perform_and_enable(corr=constants.CalibrationType.LOAD)"
   ]
  },
  {
   "cell_type": "markdown",
   "metadata": {},
   "source": [
    "In case you would only like to perform the correction but not enable it, you can use separate methods `perform` and `enable`."
   ]
  },
  {
   "cell_type": "markdown",
   "metadata": {},
   "source": [
    "To check whether a correction is enabled, use the following method:"
   ]
  },
  {
   "cell_type": "code",
   "execution_count": null,
   "metadata": {},
   "outputs": [],
   "source": [
    "b1500.cmu1.correction.is_enabled(corr=constants.CalibrationType.OPEN)"
   ]
  },
  {
   "cell_type": "markdown",
   "metadata": {},
   "source": [
    "To disable a performed correction, use the following method:"
   ]
  },
  {
   "cell_type": "code",
   "execution_count": null,
   "metadata": {},
   "outputs": [],
   "source": [
    "b1500.cmu1.correction.disable(corr=constants.CalibrationType.OPEN)"
   ]
  },
  {
   "cell_type": "markdown",
   "metadata": {},
   "source": [
    "### SMU sourcing and measuring\n",
    "The simplest measurement one can do with the B1500 are *High Speed Spot Measurements*. They work independent of the selected *Measurement Mode*.\n",
    "\n",
    "The `voltage` and `current` Qcodes Parameters that the SMU High Level driver exposes will execute *High Speed Spot* measurements. Additionally, there are functions that let the user specify the output/measure ranges, and compliance limits.\n",
    "\n",
    "To source a voltage/current do the following:\n",
    "  1. Configure source range, and (optionally) compliance settings\n",
    "  2. Enable the channel\n",
    "  3. Force the desired voltage\n",
    "  4. (optionally) Disable the channel\n",
    "\n",
    "**Note: The source settings (Step 1) are persistent until changed again. So for sucessive measurements the configuration can be omitted.**"
   ]
  },
  {
   "cell_type": "code",
   "execution_count": null,
   "metadata": {},
   "outputs": [],
   "source": [
    "b1500.smu1.enable_outputs()\n",
    "\n",
    "b1500.smu1.source_config(output_range=constants.VOutputRange.AUTO,\n",
    "                         compliance=0.1)\n",
    "\n",
    "b1500.smu1.voltage(1.5)"
   ]
  },
  {
   "cell_type": "markdown",
   "metadata": {},
   "source": [
    "To measure do the following:\n",
    "  1. Configure the measure range\n",
    "  2. Enable the channel (if not yet enabled)\n",
    "  3. Do the measurement\n",
    "  4. (optionally) Disable the channel\n",
    "\n",
    "**Note: The measure settings (Step 1) are persistent until changed again. So for sucessive measurements the configuration can be omitted.**"
   ]
  },
  {
   "cell_type": "code",
   "execution_count": null,
   "metadata": {},
   "outputs": [],
   "source": [
    "b1500.smu1.measure_config(measure_range=constants.IMeasRange.FIX_100uA)\n",
    "\n",
    "b1500.smu1.enable_outputs()\n",
    "\n",
    "cur = b1500.smu1.current()\n",
    "\n",
    "b1500.smu1.disable_outputs()"
   ]
  },
  {
   "cell_type": "markdown",
   "metadata": {},
   "source": [
    "### Setting up ADCs to NPLC mode\n",
    "\n",
    "Both the mainframe driver and SMU driver implement convenience methods for controlling integration time of the *High Speed Spot* measurement, which allow setting ADC type, and setting the frequenty used NPLC mode."
   ]
  },
  {
   "cell_type": "markdown",
   "metadata": {},
   "source": [
    "Use the following methods on the mainframe instance to set up the ADCs to NPLC mode:"
   ]
  },
  {
   "cell_type": "code",
   "execution_count": null,
   "metadata": {},
   "outputs": [],
   "source": [
    "# Set the high-speed ADC to NPLC mode,\n",
    "# and optionally specify the number of PLCs as an arugment\n",
    "# (refer to the docstring and the user manual for more information)\n",
    "b1500.use_nplc_for_high_speed_adc(n=1)\n",
    "\n",
    "# Set the high-resolution ADC to NPLC mode,\n",
    "# and optionally specify the number of PLCs as an arugment\n",
    "# (refer to the docstring and the user manual for more information)\n",
    "b1500.use_nplc_for_high_resolution_adc(n=5)"
   ]
  },
  {
   "cell_type": "markdown",
   "metadata": {},
   "source": [
    "And then use the following methods on the SMU instances to use particular ADC for the particular SMU:"
   ]
  },
  {
   "cell_type": "code",
   "execution_count": null,
   "metadata": {},
   "outputs": [],
   "source": [
    "# Use high-speed ADC \n",
    "# with the settings defined above\n",
    "# for the SMU 1\n",
    "b1500.smu1.use_high_speed_adc()\n",
    "\n",
    "# Use high-resoultion ADC \n",
    "# with the settings defined above\n",
    "# for the SMU 2\n",
    "b1500.smu2.use_high_resolution_adc()"
   ]
  },
  {
   "cell_type": "markdown",
   "metadata": {},
   "source": [
    "## Error Message\n",
    "\n",
    "The error messages from the instrument can be read using the following method. This method reads one error code from the head of the error queue and removes that code from the queue. The read error is returned as the response of this method."
   ]
  },
  {
   "cell_type": "code",
   "execution_count": null,
   "metadata": {},
   "outputs": [],
   "source": [
    "b1500.error_message()"
   ]
  },
  {
   "cell_type": "markdown",
   "metadata": {},
   "source": [
    "Here, the response message contains an error number and an error message. In some cases the error message may also contain the additional information such as the slot number. They are separated by a semicolon (;). For example, if the error 305 occurs on the slot 1, this method returns the following response. 305,\"Excess current in HPSMU.; SLOT1\" \n",
    "\n",
    "If no error occurred, this command returns 0,\"No Error\"."
   ]
  },
  {
   "cell_type": "markdown",
   "metadata": {},
   "source": [
    "## Low Level Interface\n",
    "\n",
    "The Low Level Interface provides a wrapper around the FLEX command set. Multiple commands can be assembled in a sequence. Finally, the command sequence is compiled into a command string, which then can be sent to the instrument. \n",
    "\n",
    "Only some very minimal checks are done to the command string. For example some commands have to be the *last* command in a sequence of commands because the fill the output queue. Adding additional commands after that is not allowed.\n",
    "\n",
    "As an example, a \"voltage source + current measurement\" is done, similar as was done above with the high level interface."
   ]
  },
  {
   "cell_type": "code",
   "execution_count": null,
   "metadata": {},
   "outputs": [],
   "source": [
    "mb = MessageBuilder()\n",
    "\n",
    "mb.cn(channels=[1])\n",
    "mb.dv(chnum=1,\n",
    "      voltage=1.5,\n",
    "      v_range=constants.VOutputRange.AUTO,\n",
    "      i_comp=0.1)\n",
    "mb.ti(chnum=1,\n",
    "      i_range=constants.IMeasRange.FIX_100uA)\n",
    "mb.cl(channels=[1])\n",
    "\n",
    "# Compiles the sequence of FLEX commands into a message string.\n",
    "message_string = mb.message"
   ]
  },
  {
   "cell_type": "code",
   "execution_count": null,
   "metadata": {},
   "outputs": [],
   "source": [
    "print(message_string)"
   ]
  },
  {
   "cell_type": "markdown",
   "metadata": {},
   "source": [
    "The message string can be sent to the instrument. To parse the response of this spot measurement command, use the `KeysightB1500.parse_spot_measurement_response` static method.\n",
    "\n",
    "`parse_spot_measurement_response` will return a `dict` that contains the measurement value together with the measurement channel, info on what was measured (current, voltage, capacitance, ...), and status information. For a detailed description, see the user manual."
   ]
  },
  {
   "cell_type": "code",
   "execution_count": null,
   "metadata": {},
   "outputs": [],
   "source": [
    "response = b1500.ask(message_string)\n",
    "\n",
    "KeysightB1500.parse_spot_measurement_response(response)"
   ]
  },
  {
   "cell_type": "markdown",
   "metadata": {},
   "source": [
    "The `MessageBuilder` object can be cleared, which allows the object to be reused to generate a new message string."
   ]
  },
  {
   "cell_type": "code",
   "execution_count": null,
   "metadata": {},
   "outputs": [],
   "source": [
    "mb.clear_message_queue()\n",
    "# This will produce empty string because MessageBuilder buffer was cleared\n",
    "mb.message"
   ]
  },
  {
   "cell_type": "markdown",
   "metadata": {},
   "source": [
    "The `MessageBuilder` provides a *fluent* interface, which means every call on the `MessageBuilder` object always returns the object itself, with the exeption of `MessageBuilder.message` which **returns the compiled message string**.\n",
    "\n",
    "This means that the same message as in the first example could've been assembled like this:"
   ]
  },
  {
   "cell_type": "code",
   "execution_count": null,
   "metadata": {},
   "outputs": [],
   "source": [
    "response = b1500.ask(\n",
    "    MessageBuilder()\n",
    "    .cn(channels=[1])\n",
    "    .dv(\n",
    "        chnum=1,\n",
    "        voltage=1.5,\n",
    "        v_range=constants.VOutputRange.AUTO,\n",
    "        i_comp=0.1,\n",
    "    )\n",
    "    .ti(chnum=1, i_range=constants.IMeasRange.FIX_100uA)\n",
    "    .cl(channels=[1])\n",
    "    .message\n",
    ")\n",
    "\n",
    "KeysightB1500.parse_spot_measurement_response(response)"
   ]
  },
  {
   "cell_type": "code",
   "execution_count": null,
   "metadata": {},
   "outputs": [],
   "source": []
  }
 ],
 "metadata": {
  "kernelspec": {
   "display_name": "Python 3",
   "language": "python",
   "name": "python3"
  },
  "language_info": {
   "codemirror_mode": {
    "name": "ipython",
    "version": 3
   },
   "file_extension": ".py",
   "mimetype": "text/x-python",
   "name": "python",
   "nbconvert_exporter": "python",
   "pygments_lexer": "ipython3",
   "version": "3.7.1"
  },
  "nbsphinx": {
   "execute": "never"
  },
  "toc": {
   "base_numbering": 1,
   "nav_menu": {},
   "number_sections": true,
   "sideBar": false,
   "skip_h1_title": false,
   "title_cell": "Table of Contents",
   "title_sidebar": "Contents",
   "toc_cell": false,
   "toc_position": {
    "height": "100px",
    "left": "102px",
    "top": "110.167px",
    "width": "165px"
   },
   "toc_section_display": true,
   "toc_window_display": true
  },
  "varInspector": {
   "cols": {
    "lenName": 16,
    "lenType": 16,
    "lenVar": 40
   },
   "kernels_config": {
    "python": {
     "delete_cmd_postfix": "",
     "delete_cmd_prefix": "del ",
     "library": "var_list.py",
     "varRefreshCmd": "print(var_dic_list())"
    },
    "r": {
     "delete_cmd_postfix": ") ",
     "delete_cmd_prefix": "rm(",
     "library": "var_list.r",
     "varRefreshCmd": "cat(var_dic_list()) "
    }
   },
   "types_to_exclude": [
    "module",
    "function",
    "builtin_function_or_method",
    "instance",
    "_Feature"
   ],
   "window_display": false
  }
 },
 "nbformat": 4,
 "nbformat_minor": 2
}
