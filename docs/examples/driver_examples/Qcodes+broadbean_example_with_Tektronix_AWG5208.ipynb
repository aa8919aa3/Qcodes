{
 "cells": [
  {
   "cell_type": "markdown",
   "metadata": {},
   "source": [
    "# Qcodes+broadbean example with Tektronix AWG5208"
   ]
  },
  {
   "cell_type": "code",
   "execution_count": 1,
   "metadata": {
    "collapsed": true
   },
   "outputs": [],
   "source": [
    "from qcodes.instrument_drivers.tektronix.AWG5208 import AWG5208\n",
    "import broadbean as bb\n",
    "\n",
    "ramp = bb.PulseAtoms.ramp\n",
    "sine = bb.PulseAtoms.sine"
   ]
  },
  {
   "cell_type": "markdown",
   "metadata": {},
   "source": [
    "## Part 1: Make a complicated sequence\n",
    "\n",
    "Keeping in mind that no waveform can be shorter than 2400 points (hardware limitation).\n",
    "\n",
    "We have an element corresponding to a measurement that we'd like to repeat N times followed by a \"reset\" element. The master sequence should then repeat that whole thing with different measurement frequencies. We therefore make the measurement into a subsequence."
   ]
  },
  {
   "cell_type": "code",
   "execution_count": 2,
   "metadata": {
    "collapsed": false
   },
   "outputs": [
    {
     "data": {
      "image/png": "[encoded data removed]",
      "text/plain": [
       "<matplotlib.figure.Figure at 0x2ceb9f3bac8>"
      ]
     },
     "metadata": {},
     "output_type": "display_data"
    }
   ],
   "source": [
    "# First we form the measurement sequence\n",
    "\n",
    "SR = 1e9\n",
    "N = 3  # the number of times we repeat the first part\n",
    "measurement_freqs = [5e4, 1e5, 2e5]\n",
    "\n",
    "meas_bp_ch1 = bb.BluePrint()\n",
    "meas_bp_ch1.insertSegment(0, sine, (1e5, 0.1, 0, 0), dur=200e-6)\n",
    "meas_bp_ch1.insertSegment(-1, ramp, (0, 0), dur=40e-6)\n",
    "meas_bp_ch1.setSR(SR)\n",
    "\n",
    "meas_bp_ch2 = bb.BluePrint()\n",
    "meas_bp_ch2.insertSegment(0, ramp, (0, 0), dur=200e-6)\n",
    "meas_bp_ch2.insertSegment(-1, ramp, (0.1, 0.1), dur=20e-6)\n",
    "meas_bp_ch2.insertSegment(-1, ramp, (0, 0), dur=20e-6)\n",
    "meas_bp_ch2.setSR(SR)\n",
    "\n",
    "meas_elem = bb.Element()\n",
    "meas_elem.addBluePrint('signal_channel', meas_bp_ch1)\n",
    "meas_elem.addBluePrint('trigger_channel', meas_bp_ch2)\n",
    "\n",
    "\n",
    "reset_bp = bb.BluePrint()\n",
    "reset_bp.insertSegment(0, ramp, (0, 0.05), dur=120e-6)\n",
    "reset_bp.insertSegment(1, ramp, (0.05, 0), dur=120e-6)\n",
    "reset_bp.setSR(SR)\n",
    "\n",
    "reset_elem = bb.Element()\n",
    "reset_elem.addBluePrint('signal_channel', reset_bp)\n",
    "reset_elem.addBluePrint('trigger_channel', reset_bp)\n",
    "\n",
    "\n",
    "measureseq = bb.Sequence()\n",
    "measureseq.setSR(SR)\n",
    "measureseq.addElement(1, meas_elem)\n",
    "measureseq.addElement(2, reset_elem)\n",
    "measureseq.setSequencingNumberOfRepetitions(1, N)\n",
    "\n",
    "measureseq.plotSequence()\n"
   ]
  },
  {
   "cell_type": "code",
   "execution_count": 3,
   "metadata": {
    "collapsed": false
   },
   "outputs": [
    {
     "data": {
      "image/png": "[encoded data removed]",
      "text/plain": [
       "<matplotlib.figure.Figure at 0x2ceba7e9518>"
      ]
     },
     "metadata": {},
     "output_type": "display_data"
    }
   ],
   "source": [
    "# And then we turn that into a master sequence\n",
    "\n",
    "mainseq = bb.Sequence()\n",
    "mainseq.setSR(SR)\n",
    "\n",
    "for pos, freq in enumerate(measurement_freqs):\n",
    "    subseq = measureseq.copy()\n",
    "    subseq.element(1).changeArg('signal_channel', 'sine',\n",
    "                                'freq', freq)\n",
    "    mainseq.addSubSequence(pos+1, subseq)\n",
    "\n",
    "mainseq.plotSequence()\n",
    "\n",
    "# The visualisation is not terribly helpful in this case, but\n",
    "# we see that three subsequences are present"
   ]
  },
  {
   "cell_type": "markdown",
   "metadata": {},
   "source": [
    "## Part 2: Get the sequence onto the instrument"
   ]
  },
  {
   "cell_type": "code",
   "execution_count": 4,
   "metadata": {
    "collapsed": false
   },
   "outputs": [
    {
     "name": "stdout",
     "output_type": "stream",
     "text": [
      "Connected to: TEKTRONIX AWG5208 (serial:B020203, firmware:FV:6.0.0242.0) in 0.18s\n"
     ]
    }
   ],
   "source": [
    "# Connect\n",
    "\n",
    "awg = AWG5208('awg', 'TCPIP0::192.168.15.118::inst0::INSTR')"
   ]
  },
  {
   "cell_type": "code",
   "execution_count": 7,
   "metadata": {
    "collapsed": true
   },
   "outputs": [],
   "source": [
    "# forge the sequence\n",
    "fs = mainseq.forge()\n",
    "\n",
    "# send it to the instrument\n",
    "seqname = 'mytestseq'\n",
    "amplitudes = [ch.awg_amplitude() for ch in awg.channels][:2]\n",
    "channel_mapping = {'trigger_channel': 2, 'signal_channel': 1}\n",
    "seqx_file = AWG5208.makeSEQXFileFromForgedSequence(fs,\n",
    "                                                   amplitudes=amplitudes,\n",
    "                                                   seqname=seqname,\n",
    "                                                   channel_mapping=channel_mapping)\n",
    "\n",
    "# load it and assign its tracks to the channels\n",
    "filename = 'mainplussub.seqx'\n",
    "\n",
    "awg.clearSequenceList()\n",
    "awg.clearWaveformList()\n",
    "awg.sendSEQXFile(seqx_file, filename=filename)\n",
    "awg.loadSEQXFile(filename)\n",
    "awg.ch1.setSequenceTrack(seqname, 1)\n",
    "awg.ch2.setSequenceTrack(seqname, 2)"
   ]
  },
  {
   "cell_type": "markdown",
   "metadata": {
    "collapsed": true
   },
   "source": [
    "# Part 3: Play it and capture it on a scope"
   ]
  },
  {
   "cell_type": "markdown",
   "metadata": {},
   "source": [
    "Pending... Manually verified."
   ]
  }
 ],
 "metadata": {
  "kernelspec": {
   "display_name": "Python 3",
   "language": "python",
   "name": "python3"
  },
  "language_info": {
   "codemirror_mode": {
    "name": "ipython",
    "version": 3
   },
   "file_extension": ".py",
   "mimetype": "text/x-python",
   "name": "python",
   "nbconvert_exporter": "python",
   "pygments_lexer": "ipython3",
   "version": "3.5.2"
  }
 },
 "nbformat": 4,
 "nbformat_minor": 2
}
