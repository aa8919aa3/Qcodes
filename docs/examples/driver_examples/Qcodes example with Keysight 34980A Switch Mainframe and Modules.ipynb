{
 "cells": [
  {
   "cell_type": "markdown",
   "metadata": {},
   "source": [
    "# QCoDeS Example with Keysight 34980A Multifunction Switch / Measure Mainframe and Modules"
   ]
  },
  {
   "cell_type": "markdown",
   "metadata": {},
   "source": [
    "## Instrument Short info\n",
    "The 34980A Multifunction Switch / Measure Unit is a compact, economical, one-box solution for medium to high-density switch/measure applications. It requires different types of modules, such as Matrix Modules, Multiplexer Modules, and RF & Microwave Modules, for different applications. In this example notebook, I'll forcus on the Matrix Modules.\n",
    "\n",
    "There are four different Matrix Modules, 34931A, 34932A, 34933A, and 34934A. Each can be configured into different layout, such as 4x8, 8x32 matrix. In this example notebook, two 34934A modules are connected to slot 1 and slot 2 of the 34980A system.\n",
    "\n",
    "Each 34934A module is configured into a 8x64 matrix (8 rows, 64 columns), and connected with each other by rows. As a result, they form a 8x128 matrix (8 rows, 128 columns)."
   ]
  },
  {
   "cell_type": "code",
   "execution_count": 1,
   "metadata": {},
   "outputs": [],
   "source": [
    "from qcodes.instrument_drivers.Keysight.Keysight_34980A import Keysight_34980A"
   ]
  },
  {
   "cell_type": "code",
   "execution_count": 2,
   "metadata": {},
   "outputs": [
    {
     "name": "stdout",
     "output_type": "stream",
     "text": [
      "Connected to: Agilent Technologies 34980A (serial:MY56484609, firmware:2.51-2.43-2.07-1.05) in 0.13s\n"
     ]
    }
   ],
   "source": [
    "# instantiate the Swith Matrix\n",
    "switch_matrix = Keysight_34980A(\"swmx\", \"TCPIP0::10.193.36.65::inst0::INSTR\")"
   ]
  },
  {
   "cell_type": "code",
   "execution_count": 3,
   "metadata": {},
   "outputs": [
    {
     "data": {
      "text/plain": [
       "{1: {'vendor': 'Agilent Technologies',\n",
       "  'module': '34934A-8x64',\n",
       "  'serial': 'MY56480560',\n",
       "  'firmware': '1.01'},\n",
       " 2: {'vendor': 'Agilent Technologies',\n",
       "  'module': '34934A-8x64',\n",
       "  'serial': 'MY56480559',\n",
       "  'firmware': '1.01'}}"
      ]
     },
     "execution_count": 3,
     "metadata": {},
     "output_type": "execute_result"
    }
   ],
   "source": [
    "# show the module information for each occupied slot\n",
    "switch_matrix.system_slots_info"
   ]
  },
  {
   "cell_type": "markdown",
   "metadata": {},
   "source": [
    "Each module is defined as an instance of the submodule class. To access the module in slot n, use the following:\n",
    "\n",
    "**switch_matrix.module[n]**\n",
    "\n",
    "where **n** is the **slot** number"
   ]
  },
  {
   "cell_type": "code",
   "execution_count": 4,
   "metadata": {},
   "outputs": [
    {
     "data": {
      "text/plain": [
       "<Keysight_34934A: swmx_slot1 of Keysight_34980A: swmx>"
      ]
     },
     "execution_count": 4,
     "metadata": {},
     "output_type": "execute_result"
    }
   ],
   "source": [
    "# to access the module installed in slot 1:\n",
    "switch_matrix.module[1]"
   ]
  },
  {
   "cell_type": "code",
   "execution_count": 5,
   "metadata": {},
   "outputs": [
    {
     "data": {
      "text/plain": [
       "<Keysight_34934A: swmx_slot2 of Keysight_34980A: swmx>"
      ]
     },
     "execution_count": 5,
     "metadata": {},
     "output_type": "execute_result"
    }
   ],
   "source": [
    "# to access the module installed in slot 2:\n",
    "switch_matrix.module[2]"
   ]
  },
  {
   "cell_type": "markdown",
   "metadata": {},
   "source": [
    "## Basic Switch control, module level"
   ]
  },
  {
   "cell_type": "markdown",
   "metadata": {},
   "source": [
    "For each module, any of the 8 row can be connected to any of the 64 column."
   ]
  },
  {
   "cell_type": "code",
   "execution_count": 6,
   "metadata": {},
   "outputs": [
    {
     "name": "stdout",
     "output_type": "stream",
     "text": [
      "True\n"
     ]
    }
   ],
   "source": [
    "switch_matrix.module[1].connect_path(2, 34)     # connect row 2 to column 34, , for module in slot 1\n",
    "print(switch_matrix.module[1].is_closed(2, 34)) # check if row 2 is connected to column 34"
   ]
  },
  {
   "cell_type": "code",
   "execution_count": 7,
   "metadata": {},
   "outputs": [
    {
     "name": "stdout",
     "output_type": "stream",
     "text": [
      "True\n"
     ]
    }
   ],
   "source": [
    "switch_matrix.module[1].disconnect_path(2, 34)  # disconnect row 2 from column 34, for module in slot 1\n",
    "print(switch_matrix.module[1].is_open(2, 34))   # check if row 2 is disconnect from column 34"
   ]
  },
  {
   "cell_type": "code",
   "execution_count": 8,
   "metadata": {},
   "outputs": [
    {
     "name": "stdout",
     "output_type": "stream",
     "text": [
      "True\n"
     ]
    }
   ],
   "source": [
    "switch_matrix.module[2].connect_path(3, 45)     # connect row 3 to column 45, , for module in slot 2\n",
    "print(switch_matrix.module[2].is_closed(3, 45)) # check if row 3 is connected to column 45"
   ]
  },
  {
   "cell_type": "markdown",
   "metadata": {},
   "source": [
    "We expect the following command to raise an exception because the column value 67 is out of range for module in slot 1."
   ]
  },
  {
   "cell_type": "code",
   "execution_count": 9,
   "metadata": {},
   "outputs": [
    {
     "name": "stdout",
     "output_type": "stream",
     "text": [
      "row/column value out of range\n"
     ]
    }
   ],
   "source": [
    "try: \n",
    "    switch_matrix.module[1].connect_path(5, 67)\n",
    "except ValueError as err: \n",
    "    print(err)"
   ]
  },
  {
   "cell_type": "markdown",
   "metadata": {},
   "source": [
    "Because the two 8x64 matrices are connected by row to form a 8x128 matrix, user should convert column 67 to the correct column in the second module: 67-64=3, then use the connect function of module in slot 2:\n",
    "\n",
    "**switch_matrix.module_in_slot[2].connect_path(5, 3)**"
   ]
  },
  {
   "cell_type": "code",
   "execution_count": 10,
   "metadata": {},
   "outputs": [
    {
     "name": "stdout",
     "output_type": "stream",
     "text": [
      "True\n"
     ]
    }
   ],
   "source": [
    "switch_matrix.module[2].connect_path(5, 3)\n",
    "print(switch_matrix.module[2].is_closed(5, 3))"
   ]
  },
  {
   "cell_type": "markdown",
   "metadata": {},
   "source": [
    "To connect multiple channels: (again, the channels should belong to the one module)"
   ]
  },
  {
   "cell_type": "code",
   "execution_count": 11,
   "metadata": {},
   "outputs": [
    {
     "name": "stdout",
     "output_type": "stream",
     "text": [
      "[True, True, True]\n"
     ]
    }
   ],
   "source": [
    "connections = [(3, 14), (1, 59), (2, 6)]\n",
    "switch_matrix.module[2].connect_paths(connections)\n",
    "print(switch_matrix.module[2].are_closed(connections))"
   ]
  },
  {
   "cell_type": "code",
   "execution_count": 12,
   "metadata": {},
   "outputs": [
    {
     "name": "stdout",
     "output_type": "stream",
     "text": [
      "[True, True, True]\n"
     ]
    }
   ],
   "source": [
    "switch_matrix.module[2].disconnect_paths(connections)\n",
    "print(switch_matrix.module[2].are_open(connections))"
   ]
  },
  {
   "cell_type": "markdown",
   "metadata": {},
   "source": [
    "### For module 34934A only\n",
    "There is a relay protection mode for 34934A module. The fastest switching speeds for relays in a given signal path are achieved using the FIXed or ISOlated modes, followed by the AUTO100 and AUTO0 modes. There may be a maximum of 200 Ohm of resistance, which can only be bypassed by \"AUTO0\" mode.\n",
    "See user's guide and programmer's reference for detailed explanation."
   ]
  },
  {
   "cell_type": "code",
   "execution_count": 13,
   "metadata": {},
   "outputs": [
    {
     "data": {
      "text/plain": [
       "'AUTO0'"
      ]
     },
     "execution_count": 13,
     "metadata": {},
     "output_type": "execute_result"
    }
   ],
   "source": [
    "# to see the current protection mode of the module in slot 1:\n",
    "switch_matrix.module[1].protection_mode()"
   ]
  },
  {
   "cell_type": "code",
   "execution_count": 14,
   "metadata": {},
   "outputs": [
    {
     "data": {
      "text/plain": [
       "'AUTO0'"
      ]
     },
     "execution_count": 14,
     "metadata": {},
     "output_type": "execute_result"
    }
   ],
   "source": [
    "# to set the protection mode to 'AUTO0', for module in slot 1:\n",
    "switch_matrix.module[1].protection_mode('AUTO0')\n",
    "switch_matrix.module[1].protection_mode()"
   ]
  },
  {
   "cell_type": "markdown",
   "metadata": {},
   "source": [
    "## Basic Switch control, instrument level"
   ]
  },
  {
   "cell_type": "markdown",
   "metadata": {},
   "source": [
    "We can disconnect all the channels in a certain module, or all the installed modules"
   ]
  },
  {
   "cell_type": "code",
   "execution_count": 15,
   "metadata": {},
   "outputs": [],
   "source": [
    "# to disconnect the channels in module installed in slot 1\n",
    "switch_matrix.disconnect_all(1)"
   ]
  },
  {
   "cell_type": "code",
   "execution_count": 16,
   "metadata": {},
   "outputs": [],
   "source": [
    "# to disconnect the channels in all installed modules\n",
    "switch_matrix.disconnect_all()"
   ]
  },
  {
   "cell_type": "markdown",
   "metadata": {},
   "source": [
    "# So, when to use connect_path, connect_paths, is_closed, or are_closed?"
   ]
  },
  {
   "cell_type": "markdown",
   "metadata": {},
   "source": [
    "Yes, it seem very confusing because of the path/paths, and is/are.\n",
    "\n",
    "The reason for the singular/plural is that the module can work with one row and column pair (r, c), or a list of row and column pairs [(r1, c1), (r2, c2)].\n",
    "\n",
    "**When work with single row-column pair, use the singular version of functions**\n",
    " - instrument.module.connect_path(r, c)\n",
    " - instrument.module.is_closed(r,c)\n",
    " \n",
    "**When work with list of row-column pairs, use the plural version of functions**\n",
    " - instrument.module.connect_paths([(r1, c1), (r2, c2)])\n",
    " - instrument.module.are_closed([(r1, c1), (r2, c2)])"
   ]
  },
  {
   "cell_type": "code",
   "execution_count": null,
   "metadata": {},
   "outputs": [],
   "source": []
  }
 ],
 "metadata": {
  "kernelspec": {
   "display_name": "Python 3",
   "language": "python",
   "name": "python3"
  },
  "language_info": {
   "codemirror_mode": {
    "name": "ipython",
    "version": 3
   },
   "file_extension": ".py",
   "mimetype": "text/x-python",
   "name": "python",
   "nbconvert_exporter": "python",
   "pygments_lexer": "ipython3",
   "version": "3.7.4"
  }
 },
 "nbformat": 4,
 "nbformat_minor": 2
}
