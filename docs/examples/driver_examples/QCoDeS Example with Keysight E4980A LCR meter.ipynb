{
 "cells": [
  {
   "cell_type": "markdown",
   "metadata": {},
   "source": [
    "# QCoDeS Example with Keysight E4980A LCR meter"
   ]
  },
  {
   "cell_type": "markdown",
   "metadata": {},
   "source": [
    "This example is following the \"Capacitor Measurements\" on P215 of the user's guide: https://literature.cdn.keysight.com/litweb/pdf/E4980-90230.pdf?id=789356\n",
    "\n",
    "A 8400 pF (8E-9 F) leaded ceramic capacitor is connected to the LCR meter."
   ]
  },
  {
   "cell_type": "code",
   "execution_count": 1,
   "metadata": {},
   "outputs": [],
   "source": [
    "import numpy as np\n",
    "import time\n",
    "from qcodes.dataset import initialise_database, Measurement, new_experiment\n",
    "from qcodes.dataset.plotting import plot_by_id\n",
    "\n",
    "from qcodes.instrument_drivers.Keysight.keysight_e4980a import KeysightE4980A, E4980AMeasurements"
   ]
  },
  {
   "cell_type": "code",
   "execution_count": 2,
   "metadata": {
    "scrolled": true
   },
   "outputs": [
    {
     "name": "stdout",
     "output_type": "stream",
     "text": [
      "Connected to: Keysight Technologies E4980A (serial:MY46618801, firmware:B.07.05) in 0.09s\n"
     ]
    }
   ],
   "source": [
    "meter = KeysightE4980A(\"lcr_e4980a\", 'USB0::0x2A8D::0x2F01::MY46618801::INSTR')"
   ]
  },
  {
   "cell_type": "code",
   "execution_count": 3,
   "metadata": {},
   "outputs": [
    {
     "data": {
      "text/plain": [
       "{'vendor': 'Keysight Technologies',\n",
       " 'model': 'E4980A',\n",
       " 'serial': 'MY46618801',\n",
       " 'firmware': 'B.07.05'}"
      ]
     },
     "execution_count": 3,
     "metadata": {},
     "output_type": "execute_result"
    }
   ],
   "source": [
    "meter.IDN()"
   ]
  },
  {
   "cell_type": "code",
   "execution_count": 4,
   "metadata": {},
   "outputs": [],
   "source": [
    "meter.reset()"
   ]
  },
  {
   "cell_type": "markdown",
   "metadata": {},
   "source": [
    "### Step 1. Set up the E4980A’s measurement conditions:\n",
    "\n",
    "1. set frequency to be 1MHz (system default is 1kHz)\n",
    "\n",
    "2. set the voltage level to be 1.5 V (system default is 1V)"
   ]
  },
  {
   "cell_type": "code",
   "execution_count": 5,
   "metadata": {},
   "outputs": [
    {
     "name": "stdout",
     "output_type": "stream",
     "text": [
      "The frequency for normal measurement is set to be 1.0 MHz.\n"
     ]
    }
   ],
   "source": [
    "meter.frequency(1e6)\n",
    "freq = meter.frequency()\n",
    "print(f'The frequency for normal measurement is set to be {freq/1e6} MHz.')"
   ]
  },
  {
   "cell_type": "code",
   "execution_count": 6,
   "metadata": {},
   "outputs": [
    {
     "name": "stdout",
     "output_type": "stream",
     "text": [
      "the voltage for measurement signal is set to be 1.5 V.\n"
     ]
    }
   ],
   "source": [
    "meter.voltage_level(1.5)\n",
    "volt_lv = meter.voltage_level()\n",
    "print(f'the voltage for measurement signal is set to be {volt_lv} V.')"
   ]
  },
  {
   "cell_type": "markdown",
   "metadata": {},
   "source": [
    "### Step 2. (optional) Set up the corrections for the unit\n",
    "\n",
    "In the \"Capacitor Measurements\" example, a Keysight 16047E Direct Couple Test Fixture (general purpose) was used. To compensate for its residuals and strays, an OPEN/SHORT correction is required.\n",
    "\n",
    "However, for our setup with a leaded ceramic capacitor, this step may not be necessary."
   ]
  },
  {
   "cell_type": "code",
   "execution_count": 7,
   "metadata": {},
   "outputs": [],
   "source": [
    "meter.correction.open()\n",
    "meter.correction.open_state('on')\n",
    "meter.correction.short()\n",
    "meter.correction.short_state('on')"
   ]
  },
  {
   "cell_type": "markdown",
   "metadata": {},
   "source": [
    "### step 3. Set the meausurement function."
   ]
  },
  {
   "cell_type": "markdown",
   "metadata": {},
   "source": [
    "User should chose one function from the follow list, for example \"**E4980AMeasurements.CPD**\".\n",
    "\n",
    "    \"CPD\": \"Capacitance - Dissipation factor\",  (by default)\n",
    "    \"CPQ\": \"Capacitance - Quality factor\",\n",
    "    \"CPG\": \"Capacitance - Conductance\",\n",
    "    \"CPRP\": \"Capacitance - Resistance\",\n",
    "    \"CSD\": \"Capacitance - Dissipation factor\",\n",
    "    \"CSQ\": \"Capacitance - Quality factor\",\n",
    "    \"CSRS\": \"Capacitance - Resistance\",\n",
    "    \"LPD\": \"Inductance - Dissipation factor\",\n",
    "    \"LPQ\": \"Inductance - Quality factor\",\n",
    "    \"LPG\": \"Inductance - Conductance\",\n",
    "    \"LPRP\": \"Inductance - Resistance\",\n",
    "    \"LPRD\": \"Inductance - DC resistance\",\n",
    "    \"LSD\": \"Inductance - Dissipation factor\",\n",
    "    \"LSQ\": \"Inductance - Quality factor\",\n",
    "    \"LSRS\": \"Inductance - Resistance\",\n",
    "    \"LSRD\": \"Inductance - DC resistance\",\n",
    "    \"RX\": \"Resistance - Reactance\",\n",
    "    \"ZTD\": \"Absolute value of impedance - Theta in degree\",\n",
    "    \"ZTR\": \"Absolute value of impedance - Theta in radiant\",\n",
    "    \"GB\": \"Conductance - Susceptance\",\n",
    "    \"YTD\": \"Absolute value of admittance - Theta in degree\",\n",
    "    \"YTR\": \"Absolute value of admittance - Theta in radiant\",\n",
    "    \"VDID\": \"DC voltage - DC current\"\n",
    "\n",
    "Note: \n",
    "1. CP vs CS: ***P*** means measured using parallel equivalent circuit model, and ***S*** means measured using series equivalent circuit model.\n",
    "2. Same for LP and LS\n",
    "3. RP vs RS: Equivalent ***p***arallel/***s***eries resistance"
   ]
  },
  {
   "cell_type": "markdown",
   "metadata": {},
   "source": [
    "By default, the measurement function is \"CPD\", Capacitance - Dissipation factor:"
   ]
  },
  {
   "cell_type": "code",
   "execution_count": 8,
   "metadata": {},
   "outputs": [
    {
     "data": {
      "text/plain": [
       "'CPD'"
      ]
     },
     "execution_count": 8,
     "metadata": {},
     "output_type": "execute_result"
    }
   ],
   "source": [
    "meter.measurement_function()"
   ]
  },
  {
   "cell_type": "markdown",
   "metadata": {},
   "source": [
    "Take measurement:"
   ]
  },
  {
   "cell_type": "code",
   "execution_count": 9,
   "metadata": {
    "scrolled": false
   },
   "outputs": [],
   "source": [
    "data = meter.measure()"
   ]
  },
  {
   "cell_type": "markdown",
   "metadata": {},
   "source": [
    "The type of \"data\" is \"MeasurementPair\", a subclass of QCoDeS' \"MultiParameter\" class, which includes a pair of values:"
   ]
  },
  {
   "cell_type": "code",
   "execution_count": 10,
   "metadata": {},
   "outputs": [
    {
     "data": {
      "text/plain": [
       "qcodes.instrument_drivers.Keysight.keysight_e4980a.MeasurementPair"
      ]
     },
     "execution_count": 10,
     "metadata": {},
     "output_type": "execute_result"
    }
   ],
   "source": [
    "type(data)"
   ]
  },
  {
   "cell_type": "code",
   "execution_count": 11,
   "metadata": {},
   "outputs": [
    {
     "name": "stdout",
     "output_type": "stream",
     "text": [
      "The measurement \"CPD\" returns values (-8.35219e-09, -0.00183439)\n",
      "for parameters ('capacitance', 'dissipation_factor')\n",
      "with units ('F', '')\n"
     ]
    }
   ],
   "source": [
    "print(f'The measurement \"{data.name}\" returns values {data.get()}')\n",
    "print(f'for parameters {data.names}')\n",
    "print(f'with units {data.units}')"
   ]
  },
  {
   "cell_type": "markdown",
   "metadata": {},
   "source": [
    "User may also directly call the name of the physics parameters: (can't call the unit this way though)"
   ]
  },
  {
   "cell_type": "code",
   "execution_count": 12,
   "metadata": {},
   "outputs": [
    {
     "name": "stdout",
     "output_type": "stream",
     "text": [
      "The capacitance is measured to be -8.35219e-09\n",
      "The dissipation_factor is measured to be -0.00183439\n"
     ]
    }
   ],
   "source": [
    "print(f'The capacitance is measured to be {data.capacitance}')\n",
    "print(f'The dissipation_factor is measured to be {data.dissipation_factor}')"
   ]
  },
  {
   "cell_type": "markdown",
   "metadata": {},
   "source": [
    "To change to another measurement function, for example, \"LPD\" for Inductance measurement:"
   ]
  },
  {
   "cell_type": "code",
   "execution_count": 13,
   "metadata": {},
   "outputs": [
    {
     "data": {
      "text/plain": [
       "'LPD'"
      ]
     },
     "execution_count": 13,
     "metadata": {},
     "output_type": "execute_result"
    }
   ],
   "source": [
    "meter.measurement_function(E4980AMeasurements.LPD)\n",
    "meter.measurement_function()"
   ]
  },
  {
   "cell_type": "code",
   "execution_count": 14,
   "metadata": {},
   "outputs": [],
   "source": [
    "data = meter.measure()"
   ]
  },
  {
   "cell_type": "code",
   "execution_count": 15,
   "metadata": {},
   "outputs": [
    {
     "name": "stdout",
     "output_type": "stream",
     "text": [
      "The measurement \"LPD\" returns values (3.03277e-06, -0.00183439)\n",
      "for parameters ('inductance', 'dissipation_factor')\n",
      "with units ('H', '')\n"
     ]
    }
   ],
   "source": [
    "print(f'The measurement \"{data.name}\" returns values {data.get()}')\n",
    "print(f'for parameters {data.names}')\n",
    "print(f'with units {data.units}')"
   ]
  },
  {
   "cell_type": "markdown",
   "metadata": {},
   "source": [
    "Any \"MeasurementPair\" object, when first initialized, will dynamically generate the corresponding attributes. For the LPD measurement, the \"data\" object will have attributes \"inductance\" instead of \"capacitance\":"
   ]
  },
  {
   "cell_type": "code",
   "execution_count": 16,
   "metadata": {},
   "outputs": [
    {
     "data": {
      "text/plain": [
       "3.03277e-06"
      ]
     },
     "execution_count": 16,
     "metadata": {},
     "output_type": "execute_result"
    }
   ],
   "source": [
    "data.inductance"
   ]
  },
  {
   "cell_type": "code",
   "execution_count": 17,
   "metadata": {},
   "outputs": [
    {
     "name": "stdout",
     "output_type": "stream",
     "text": [
      "'MeasurementPair' object has no attribute 'capacitance'\n"
     ]
    }
   ],
   "source": [
    "try:\n",
    "    data.capacitance\n",
    "except AttributeError as err:\n",
    "    print(err)"
   ]
  },
  {
   "cell_type": "markdown",
   "metadata": {},
   "source": [
    "To validate the measurement, we can measure the impedance, and calculate the capacitance.\n",
    "\n",
    "For a capacitor, we have Zc = - j / (2 * Pi * f * C), where Zc is the impedance of the capacitor, f is the frequency, and C is the capacitance."
   ]
  },
  {
   "cell_type": "markdown",
   "metadata": {},
   "source": [
    "There are actually two methods to measure the impedance:\n",
    "1. to use the \"measurement_function\" method as above, and choose \"RX\";\n",
    "2. to use the \"impedance()\" call, which will always return impedance in complex format, Z = R + iX, where Z is impedance, R is resistance, and X is the reactance.\n",
    "\n",
    "(The results from the two methods should be the same.)"
   ]
  },
  {
   "cell_type": "code",
   "execution_count": 18,
   "metadata": {},
   "outputs": [
    {
     "name": "stdout",
     "output_type": "stream",
     "text": [
      "('resistance', 'reactance')\n",
      "(-0.0349551, 19.0554)\n",
      "('Ohm', 'Ohm')\n"
     ]
    }
   ],
   "source": [
    "meter.measurement_function(E4980AMeasurements.RX)\n",
    "data = meter.measure()\n",
    "print(data.names)\n",
    "print(data())\n",
    "print(data.units)"
   ]
  },
  {
   "cell_type": "code",
   "execution_count": 19,
   "metadata": {},
   "outputs": [
    {
     "name": "stdout",
     "output_type": "stream",
     "text": [
      "('resistance', 'reactance')\n",
      "(-0.0349551, 19.0554)\n",
      "('Ohm', 'Ohm')\n"
     ]
    }
   ],
   "source": [
    "imp = meter.impedance()\n",
    "print(imp.names)\n",
    "print(imp())\n",
    "print(imp.units)"
   ]
  },
  {
   "cell_type": "markdown",
   "metadata": {},
   "source": [
    "To calculate the impedance: (\"imp\" here is also a \"MeasurementPair\", so user can call the resistance/reactance directly.)"
   ]
  },
  {
   "cell_type": "code",
   "execution_count": 20,
   "metadata": {},
   "outputs": [
    {
     "name": "stdout",
     "output_type": "stream",
     "text": [
      "The impedance is 19.0554320606754 Ohm.\n"
     ]
    }
   ],
   "source": [
    "Zc = np.sqrt(imp.resistance**2 + imp.reactance**2)\n",
    "print(f\"The impedance is {Zc} Ohm.\")"
   ]
  },
  {
   "cell_type": "markdown",
   "metadata": {},
   "source": [
    "and the capacitance:"
   ]
  },
  {
   "cell_type": "code",
   "execution_count": 21,
   "metadata": {},
   "outputs": [
    {
     "name": "stdout",
     "output_type": "stream",
     "text": [
      "The capacitance is -8.352208576804858e-09F.\n"
     ]
    }
   ],
   "source": [
    "C = -1/(2*np.pi*freq*Zc)\n",
    "print(f\"The capacitance is {C}F.\")"
   ]
  },
  {
   "cell_type": "markdown",
   "metadata": {},
   "source": [
    "which is the same as what we got previously using the \"CPD\" function:"
   ]
  },
  {
   "cell_type": "code",
   "execution_count": 22,
   "metadata": {},
   "outputs": [
    {
     "name": "stdout",
     "output_type": "stream",
     "text": [
      "The capacitance  is -8.35219e-09 F.\n"
     ]
    }
   ],
   "source": [
    "meter.measurement_function(E4980AMeasurements.CPD)\n",
    "data = meter.measure()\n",
    "print(f\"The capacitance  is {data.capacitance} F.\")"
   ]
  },
  {
   "cell_type": "markdown",
   "metadata": {},
   "source": [
    "### To work with QCoDeS \"Measurement\":"
   ]
  },
  {
   "cell_type": "code",
   "execution_count": 23,
   "metadata": {},
   "outputs": [],
   "source": [
    "initialise_database()\n",
    "exp = new_experiment(\n",
    "    name='capacitance_measurement',\n",
    "    sample_name=\"no sample\"\n",
    ")"
   ]
  },
  {
   "cell_type": "code",
   "execution_count": 24,
   "metadata": {},
   "outputs": [
    {
     "data": {
      "text/plain": [
       "<qcodes.dataset.measurements.Measurement at 0x1843a2f5748>"
      ]
     },
     "execution_count": 24,
     "metadata": {},
     "output_type": "execute_result"
    }
   ],
   "source": [
    "meas = Measurement()\n",
    "meas.register_parameter(meter.frequency)\n",
    "meas.register_parameter(meter.measure(), setpoints=(meter.frequency,))"
   ]
  },
  {
   "cell_type": "code",
   "execution_count": 25,
   "metadata": {},
   "outputs": [
    {
     "name": "stdout",
     "output_type": "stream",
     "text": [
      "Starting experimental run with id: 66. \n"
     ]
    }
   ],
   "source": [
    "with meas.run() as datasaver:\n",
    "    for freq in np.linspace(1.0E6, 1.5E6, 5):\n",
    "        meter.frequency(freq)\n",
    "        time.sleep(1)\n",
    "        value_pair = meter.measure().get()\n",
    "        datasaver.add_result((meter.frequency, freq),\n",
    "                             (meter.measure(), value_pair))\n",
    "    run_id = datasaver.run_id"
   ]
  },
  {
   "cell_type": "code",
   "execution_count": 26,
   "metadata": {},
   "outputs": [
    {
     "data": {
      "image/png": "[encoded data removed]",
      "text/plain": [
       "<Figure size 432x288 with 1 Axes>"
      ]
     },
     "metadata": {
      "needs_background": "light"
     },
     "output_type": "display_data"
    },
    {
     "data": {
      "image/png": "[encoded data removed]",
      "text/plain": [
       "<Figure size 432x288 with 1 Axes>"
      ]
     },
     "metadata": {
      "needs_background": "light"
     },
     "output_type": "display_data"
    }
   ],
   "source": [
    "plot = plot_by_id(run_id)"
   ]
  },
  {
   "cell_type": "markdown",
   "metadata": {},
   "source": [
    "The dataset will have two items, one for \"capacitance\", and the other for \"dissipation_factor\":"
   ]
  },
  {
   "cell_type": "code",
   "execution_count": 27,
   "metadata": {},
   "outputs": [
    {
     "data": {
      "text/plain": [
       "{'capacitance': {'capacitance': array([-8.35219e-09, -8.34623e-09, -8.41993e-09, -8.45158e-09,\n",
       "         -8.63672e-09]),\n",
       "  'lcr_e4980a_frequency': array([1000000, 1125000, 1250000, 1375000, 1500000])},\n",
       " 'dissipation_factor': {'dissipation_factor': array([-0.00183439, -0.00214259, -0.00246673, -0.0028303 , -0.00317048]),\n",
       "  'lcr_e4980a_frequency': array([1000000, 1125000, 1250000, 1375000, 1500000])}}"
      ]
     },
     "execution_count": 27,
     "metadata": {},
     "output_type": "execute_result"
    }
   ],
   "source": [
    "dataset = datasaver.dataset\n",
    "dataset.get_parameter_data()"
   ]
  },
  {
   "cell_type": "markdown",
   "metadata": {},
   "source": [
    "To switch to another measurement function:"
   ]
  },
  {
   "cell_type": "code",
   "execution_count": 28,
   "metadata": {},
   "outputs": [
    {
     "data": {
      "text/plain": [
       "'RX'"
      ]
     },
     "execution_count": 28,
     "metadata": {},
     "output_type": "execute_result"
    }
   ],
   "source": [
    "meter.measurement_function(E4980AMeasurements.RX)\n",
    "meter.measurement_function()"
   ]
  },
  {
   "cell_type": "markdown",
   "metadata": {},
   "source": [
    "which will measure the following:"
   ]
  },
  {
   "cell_type": "code",
   "execution_count": 29,
   "metadata": {},
   "outputs": [
    {
     "data": {
      "text/plain": [
       "('resistance', 'reactance')"
      ]
     },
     "execution_count": 29,
     "metadata": {},
     "output_type": "execute_result"
    }
   ],
   "source": [
    "E4980AMeasurements.RX.names"
   ]
  },
  {
   "cell_type": "markdown",
   "metadata": {},
   "source": [
    "We need to re-set the measurement, and re-register parameters so that qcodes knows the correct units:"
   ]
  },
  {
   "cell_type": "code",
   "execution_count": 30,
   "metadata": {},
   "outputs": [
    {
     "data": {
      "text/plain": [
       "<qcodes.dataset.measurements.Measurement at 0x1843c4ade08>"
      ]
     },
     "execution_count": 30,
     "metadata": {},
     "output_type": "execute_result"
    }
   ],
   "source": [
    "meas = Measurement()\n",
    "meas.register_parameter(meter.frequency)\n",
    "meas.register_parameter(meter.measure(), setpoints=(meter.frequency,))"
   ]
  },
  {
   "cell_type": "code",
   "execution_count": 31,
   "metadata": {},
   "outputs": [
    {
     "name": "stdout",
     "output_type": "stream",
     "text": [
      "Starting experimental run with id: 67. \n"
     ]
    }
   ],
   "source": [
    "with meas.run() as datasaver:\n",
    "    for freq in np.linspace(1.0E6, 1.5E6, 5):\n",
    "        meter.frequency(freq)\n",
    "        time.sleep(1)\n",
    "        value_pair = meter.measure().get()\n",
    "        datasaver.add_result((meter.frequency, freq),\n",
    "                             (meter.measure(), value_pair))\n",
    "    run_id = datasaver.run_id"
   ]
  },
  {
   "cell_type": "code",
   "execution_count": 32,
   "metadata": {},
   "outputs": [
    {
     "data": {
      "image/png": "[encoded data removed]",
      "text/plain": [
       "<Figure size 432x288 with 1 Axes>"
      ]
     },
     "metadata": {
      "needs_background": "light"
     },
     "output_type": "display_data"
    },
    {
     "data": {
      "image/png": "[encoded data removed]",
      "text/plain": [
       "<Figure size 432x288 with 1 Axes>"
      ]
     },
     "metadata": {
      "needs_background": "light"
     },
     "output_type": "display_data"
    }
   ],
   "source": [
    "plot = plot_by_id(run_id)"
   ]
  },
  {
   "cell_type": "code",
   "execution_count": 33,
   "metadata": {},
   "outputs": [],
   "source": [
    "meter.reset()"
   ]
  },
  {
   "cell_type": "code",
   "execution_count": null,
   "metadata": {},
   "outputs": [],
   "source": []
  }
 ],
 "metadata": {
  "kernelspec": {
   "display_name": "Python 3",
   "language": "python",
   "name": "python3"
  },
  "language_info": {
   "codemirror_mode": {
    "name": "ipython",
    "version": 3
   },
   "file_extension": ".py",
   "mimetype": "text/x-python",
   "name": "python",
   "nbconvert_exporter": "python",
   "pygments_lexer": "ipython3",
   "version": "3.7.5"
  },
  "nbsphinx": {
   "execute": "never"
  }
 },
 "nbformat": 4,
 "nbformat_minor": 4
}
