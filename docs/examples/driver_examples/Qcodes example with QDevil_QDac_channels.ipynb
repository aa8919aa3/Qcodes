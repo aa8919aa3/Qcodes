{
 "cells": [
  {
   "cell_type": "markdown",
   "metadata": {},
   "source": [
    "# QCoDeS Example with QDevil_QDac_channels"
   ]
  },
  {
   "cell_type": "code",
   "execution_count": null,
   "metadata": {},
   "outputs": [],
   "source": [
    "import qcodes as qc\n",
    "import numpy as np\n",
    "from time import sleep\n",
    "\n",
    "from qcodes.instrument_drivers.QDevil.QDevil_QDac_channels import QDac"
   ]
  },
  {
   "cell_type": "code",
   "execution_count": null,
   "metadata": {},
   "outputs": [],
   "source": [
    "# Connect to the instrument\n",
    "# The initialisation takes some time because of the 0.2-0.5 sec settling time of \n",
    "# the current sensors - and they are all being read at startup. \n",
    "# An \"update_currents=False\" parameter can be added to the initialising call\n",
    "# in order to skip reading the current sensors\n",
    "qdac = QDac(name='qdac', address='ASRL2::INSTR')"
   ]
  },
  {
   "cell_type": "markdown",
   "metadata": {},
   "source": [
    "## Basic QDAC Usage\n",
    "\n",
    "The QDevil_Qdac_channels driver supports controlling each individual BNC output channel. Each output channel has six parameters:\n",
    "  * v: DC voltage\n",
    "  * vrange: DC voltage range\n",
    "  * i: Current out (read-only)\n",
    "  * irange: Current measurement range\n",
    "  * slope: Maximum ramp rate for an output channel\n",
    "  * sync: Sync output assigned to a channel \n",
    "  * sync_delay: Sync delay delay \n",
    "  * sync_duration: Sync duration\n",
    "  \n",
    "The slope is the (maximal) slope in V/s that the channel can allow its voltage to change by. By default, all channels have a slope of \"Inf\". The slope can be changed dynamically, but no more than 8 channels can have a finite slope at any given time (this is due to hardware limitations).\n",
    "\n",
    "In addition this driver supports reading the internal temperature sensorsand pretty printing the state of all channels. "
   ]
  },
  {
   "cell_type": "code",
   "execution_count": null,
   "metadata": {},
   "outputs": [],
   "source": [
    "# The DC voltage may directly be set and gotten\n",
    "qdac.ch01.v.set(-1)\n",
    "print('Channel 1 voltage: {} {}'.format(qdac.ch01.v.get(), qdac.ch01.v.unit))"
   ]
  },
  {
   "cell_type": "code",
   "execution_count": null,
   "metadata": {},
   "outputs": [],
   "source": [
    "# Current out is the current flowing through the channel this is read-only. \n",
    "print(qdac.ch01.i.get(), qdac.ch01.i.unit)"
   ]
  },
  {
   "cell_type": "code",
   "execution_count": null,
   "metadata": {},
   "outputs": [],
   "source": [
    "# The current range can be either 0 to 1 μA or 0 to 100 μA. But it depends on the voltage range.\n",
    "# The combination of high current range and low voltage range is not allowed\n",
    "# Unless the output current is zero, changing the the current range may give a small spike on the output.\n",
    "print(qdac.ch01.irange.get())\n",
    "# This is set with either 0 (0 to 1 μA) or 1 (0 to 100 μA) \n",
    "qdac.ch01.irange.set(1)"
   ]
  },
  {
   "cell_type": "code",
   "execution_count": null,
   "metadata": {},
   "outputs": [],
   "source": [
    "# Multiple channels can be addressed simultaneously via the 'channels' list, by use of slicing.\n",
    "# Note that numbering goes from 0 to N, where N is the number of channels. \n",
    "# This will query voltages of all channels of a 24 channel QDAC \n",
    "# Note that index 0 refer to channel 01, and so on \n",
    "print(qdac.channels[0:24].v.get())"
   ]
  },
  {
   "cell_type": "code",
   "execution_count": null,
   "metadata": {},
   "outputs": [],
   "source": [
    "# Similarly, we may set them\n",
    "qdac.channels[0:24].v.set(-0.9)"
   ]
  },
  {
   "cell_type": "code",
   "execution_count": null,
   "metadata": {},
   "outputs": [],
   "source": [
    "# The maximal voltage change (in V/s) may be set for each channel\n",
    "qdac.ch01.slope.set(1)\n",
    "qdac.ch02.slope.set(2)\n",
    "# An overview may be printed (all other channels have 'Inf' slope)\n",
    "qdac.printslopes()"
   ]
  },
  {
   "cell_type": "code",
   "execution_count": null,
   "metadata": {},
   "outputs": [],
   "source": [
    "# now setting channel 1 and 2 voltages will cause slow ramping to 0V\n",
    "qdac.ch01.v.set(0)\n",
    "qdac.ch02.v.set(0)"
   ]
  },
  {
   "cell_type": "code",
   "execution_count": null,
   "metadata": {},
   "outputs": [],
   "source": [
    "# Note that only 8 (or fewer) channels can have finite slopes at one time\n",
    "# To make space for other channels, set the slope to inifite\n",
    "qdac.ch01.slope('Inf')\n",
    "qdac.printslopes()"
   ]
  },
  {
   "cell_type": "code",
   "execution_count": null,
   "metadata": {},
   "outputs": [],
   "source": [
    "# To each channel one may assign a sync channel:\n",
    "qdac.ch01.sync(1)  # sync output 1 will fire a 10 ms 5 V pulse when ch02 ramps\n",
    "# note that even if no visible ramp is performed (i.e. ramping from 1 V to 1 V), a pulse is still fired.\n",
    "\n",
    "# The sync pulse settings can be modified\n",
    "qdac.ch01.sync_delay(0)  # The sync pulse delay (s)\n",
    "qdac.ch01.sync_duration(25e-3)  # The sync pulse duration (s). Default is 10 ms."
   ]
  },
  {
   "cell_type": "code",
   "execution_count": null,
   "metadata": {},
   "outputs": [],
   "source": [
    "# syncs are unassigned by assigning sync 0\n",
    "qdac.ch02.sync(0)"
   ]
  },
  {
   "cell_type": "markdown",
   "metadata": {},
   "source": [
    "# Changing the voltage range - attention!\n",
    "\n",
    "The v_range parameter is controlling an attenuator. Upon changing the vrange, the attenuator is **immediately** applied (or revoked). The driver will re-adjust the output voltage in order to keep it constannt, but a spike will always occur. If the set voltage is outside the range of the low range and the switch is from high to low range, the output will be clipped. So it is recommended always to set the output to zero before chaning the voltage range.\n",
    "Further, the current range may be automatically flipped, if vrange is switched from high to low range (i.e. 0 to 1) and the current range is in the high range (1, default)."
   ]
  },
  {
   "cell_type": "code",
   "execution_count": null,
   "metadata": {},
   "outputs": [],
   "source": [
    "# Here is a small example showing what to look out for\n",
    "#\n",
    "qdac.ch01.vrange.set(0)  # Attenuation OFF (the default), high volage range\n",
    "qdac.ch01.v.set(1.5)     # Set the voltage to outside the low voltage range\n",
    "qdac.ch01.vrange.set(1)  # Attenuation ON, low voltage range\n",
    "print(qdac.ch01.v.get()) # Returns approximately 1.1V as the output is clipped to the low range limit\n",
    "qdac.ch01.vrange.set(0)  # Attenuation off, high voltage range\n",
    "print(qdac.ch01.v.get()) # Returns approximately 1.1V, unchanged - but there will be a spike"
   ]
  },
  {
   "cell_type": "markdown",
   "metadata": {},
   "source": [
    "## Overview of channel settings\n",
    "\n",
    "The driver provides a method for pretty-printing the state of all channels. On startup, all channels are queried for voltage and current across them, but the current query is very slow (blame the hardware).\n",
    "\n",
    "The pretty-print method may or may not **update** the values for the currents, depending on the value of the `update_currents` flag. Each current reading takes some 200-500 ms, so updating all current values takes about 14-24 seconds depending on the number of channels."
   ]
  },
  {
   "cell_type": "code",
   "execution_count": null,
   "metadata": {},
   "outputs": [],
   "source": [
    "qdac.print_overview(update_currents=True)"
   ]
  },
  {
   "cell_type": "markdown",
   "metadata": {},
   "source": [
    "### Temperature sensors\n",
    "\n",
    "Physically, the QDac consists of either three or six boards each hosting eight channels. On three locations on each board, a temperature sensors is placed. These provide read-only parameters, named `tempX_Y` where `X` is the board number (0-2, or 0-5) and `Y` the sensor number (0-2). "
   ]
  },
  {
   "cell_type": "code",
   "execution_count": null,
   "metadata": {},
   "outputs": [],
   "source": [
    "print(qdac.temp0_0.get(), qdac.temp0_0.unit)\n",
    "print(qdac.temp2_1.get(), qdac.temp0_0.unit)"
   ]
  },
  {
   "cell_type": "code",
   "execution_count": null,
   "metadata": {},
   "outputs": [],
   "source": [
    "qdac.close()"
   ]
  },
  {
   "cell_type": "code",
   "execution_count": null,
   "metadata": {},
   "outputs": [],
   "source": []
  }
 ],
 "metadata": {
  "kernelspec": {
   "display_name": "Python 3",
   "language": "python",
   "name": "python3"
  },
  "language_info": {
   "codemirror_mode": {
    "name": "ipython",
    "version": 3
   },
   "file_extension": ".py",
   "mimetype": "text/x-python",
   "name": "python",
   "nbconvert_exporter": "python",
   "pygments_lexer": "ipython3",
   "version": "3.7.0"
  },
  "nbsphinx": {
   "execute": "never"
  }
 },
 "nbformat": 4,
 "nbformat_minor": 1
}
