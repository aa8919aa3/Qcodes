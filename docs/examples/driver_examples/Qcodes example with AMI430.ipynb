{
 "cells": [
  {
   "cell_type": "markdown",
   "source": [
    "# QCoDeS Example with AMI430"
   ],
   "metadata": {}
  },
  {
   "cell_type": "markdown",
   "source": [
    "## User guide - described as a series of tests"
   ],
   "metadata": {}
  },
  {
   "cell_type": "markdown",
   "source": [
    "## Summary of automated tests that the driver goes through\n",
    "\n",
    "We have performed a lot of stand alone tests (tests with mocked hardware) in qcodes/tests/test_ami430.py. In particular, we have tested: \n",
    "- If the driver remembers the internal setpoints if these are given in cartesian, spherical and cylindrical coordinates\n",
    "- Check that we send to correct setpoint instructions to the individual instruments if inputs are cartesian, spherical or cylindrical coordinates\n",
    "- Test that we can call the measured parameters (e.g. cartesian_measured) without exceptions occuring. \n",
    "- Check that instruments which need to ramp down are given adjustment instructions first\n",
    "- Check that field limit exceptions are raised properly\n",
    "- Check that the driver remembers theta and phi coordinates even if the vector norm is zero. \n",
    "- Test that a warning is issued when the maximum ramp rate is increased \n",
    "- Test that an exception is raised when we try to set a ramp rate which is higher then the maximum allowed value.\n",
    "\n",
    "Furthermore, in qcodes/tests/test_field_vector.py we have tested if the cartesian to spherical/cylindircal coordinate transformations and visa-versa has been correctly implemented by asserting symmetry rules. "
   ],
   "metadata": {}
  },
  {
   "cell_type": "markdown",
   "source": [
    "## Connecting to the individual axis instruments"
   ],
   "metadata": {}
  },
  {
   "cell_type": "code",
   "execution_count": 1,
   "source": [
    "import time\n",
    "import numpy as np\n",
    "import matplotlib.pyplot as plt \n",
    "\n",
    "from qcodes.instrument_drivers.american_magnetics.AMI430 import AMI430, AMI430_3D\n",
    "from qcodes.math_utils.field_vector import FieldVector"
   ],
   "outputs": [],
   "metadata": {
    "collapsed": true
   }
  },
  {
   "cell_type": "code",
   "execution_count": 2,
   "source": [
    "# Check if we can establish communication with the power sources\n",
    "ix = AMI430(\"x\", address=\"169.254.146.116\", port=7180)\n",
    "iy = AMI430(\"y\", address=\"169.254.136.91\", port=7180)\n",
    "iz = AMI430(\"z\", address=\"169.254.21.127\", port=7180)"
   ],
   "outputs": [
    {
     "output_type": "stream",
     "name": "stdout",
     "text": [
      "Connected to: AMERICAN MAGNETICS INC. 430 (serial:2.01, firmware:None) in 0.60s\n",
      "Connected to: AMERICAN MAGNETICS INC. 430 (serial:2.01, firmware:None) in 0.62s\n",
      "Connected to: AMERICAN MAGNETICS INC. 430 (serial:2.01, firmware:None) in 0.57s\n"
     ]
    }
   ],
   "metadata": {}
  },
  {
   "cell_type": "markdown",
   "source": [
    "## Working with a single axis\n",
    "\n",
    "On individual instruments (individual axes), we:\n",
    "\n",
    "- Test that we can correctly set current values of individual sources\n",
    "- Test that we can correctly measure current values of individual sources \n",
    "- Test that we can put the sources in paused mode \n",
    "- Test that the ramp rates are properly set "
   ],
   "metadata": {}
  },
  {
   "cell_type": "code",
   "execution_count": 3,
   "source": [
    "# lets test an individual instrument first. We select the z axis. \n",
    "instrument = iz\n",
    "\n",
    "# Since the set method of the driver only excepts fields in Tesla and we want to check if the correct \n",
    "# currents are applied, we need to convert target currents to target fields. For this reason we need \n",
    "# the coil constant. \n",
    "coil_const = instrument._coil_constant\n",
    "current_rating = instrument._current_rating\n",
    "current_ramp_limit = instrument._current_ramp_limit\n",
    "print(\"coil constant = {} T/A\".format(coil_const))\n",
    "print(\"current rating = {} A\".format(current_rating))\n",
    "print(\"current ramp rate limit = {} A/s\".format(current_ramp_limit))"
   ],
   "outputs": [
    {
     "output_type": "stream",
     "name": "stdout",
     "text": [
      "coil constant = 0.076 T/A\n",
      "current rating = 79.1 A\n",
      "current ramp rate limit = 0.06 A/s\n"
     ]
    }
   ],
   "metadata": {}
  },
  {
   "cell_type": "code",
   "execution_count": 5,
   "source": [
    "# Let see if we can set and get the field in Tesla \n",
    "target_current = 1.0  # [A]  The current we want to set \n",
    "target_field = coil_const * target_current  # [T]\n",
    "print(\"Target field is {} T\".format(target_field))\n",
    "instrument.field(target_field)\n",
    "\n",
    "field = instrument.field()  # This gives us the measured field\n",
    "print(\"Measured field is {} T\".format(field))\n",
    "# The current should be \n",
    "current = field / coil_const\n",
    "print(\"Measured current is = {} A\".format(current))\n",
    "# We have verified with manual inspection that the current has indeed ben reached "
   ],
   "outputs": [
    {
     "output_type": "stream",
     "name": "stdout",
     "text": [
      "Target field is 0.076 T\n",
      "Measured field is 0.07604 T\n",
      "Measured current is = 1.0005263157894737 A\n"
     ]
    }
   ],
   "metadata": {}
  },
  {
   "cell_type": "code",
   "execution_count": 24,
   "source": [
    "# Verify that the ramp rate is indeed how it is specified \n",
    "ramp_rate = instrument.ramp_rate()  # get the ramp rate\n",
    "instrument.field(0)  # make sure we are back at zero amps\n",
    "\n",
    "target_fields = [0.1, 0.3, 0.7, 1.5]  # [T]\n",
    "t_setting = []\n",
    "t_actual = []\n",
    "\n",
    "for target_field in target_fields:\n",
    "\n",
    "    current_field = instrument.field()\n",
    "    ts = abs(target_field - current_field) / ramp_rate\n",
    "    t_setting.append(ts)\n",
    "    \n",
    "    tb = time.time()\n",
    "    instrument.field(target_field)\n",
    "    te = time.time()\n",
    "    ta = te - tb\n",
    "    t_actual.append(ta)\n",
    "\n",
    "fig, ax = plt.subplots()\n",
    "ax.plot(t_setting, t_actual, \".-\")\n",
    "plt.xlabel(\"ramp time calculated from settings [s]\")\n",
    "plt.ylabel(\"measured ramp time [s]\")\n",
    "plt.show()\n",
    "slope, offset = np.polyfit(t_setting, t_actual, 1)\n",
    "print(\"slope = {}. A value close to one means the correct ramp times are used\".format(slope))\n",
    "print(\"offset = {}. An offset indicates that there is a fixed delay is added to a ramp request\".format(offset))"
   ],
   "outputs": [
    {
     "output_type": "display_data",
     "data": {
      "image/png": "[encoded data removed]",
      "text/plain": [
       "<matplotlib.figure.Figure at 0x15197f0>"
      ]
     },
     "metadata": {}
    },
    {
     "output_type": "stream",
     "name": "stdout",
     "text": [
      "slope = 0.9993355432517128. A value close to one means the correct ramp times are used\n",
      "offset = 7.364001916301564. An offset indicates that there is a fixed delay is added to a ramp request\n"
     ]
    }
   ],
   "metadata": {}
  },
  {
   "cell_type": "code",
   "execution_count": 9,
   "source": [
    "# Lets move back to zero Amp\n",
    "instrument.field(0)"
   ],
   "outputs": [],
   "metadata": {
    "collapsed": true
   }
  },
  {
   "cell_type": "markdown",
   "source": [
    "### Note on maximum current ramp rate\n",
    "\n",
    "The maximum current ramp rate can be increased to a desired value via setting the `current_ramp_limit` parameter. However, this should be done conservatively to avoid quenching the magnet. We strongly recommend to consult to the manual of your particular magnet before making any changes."
   ],
   "metadata": {
    "collapsed": true
   }
  },
  {
   "cell_type": "markdown",
   "source": [
    "## Working with the 3D driver, controlling all 3 axes\n",
    "\n",
    "With the 3D driver, we:\n",
    "\n",
    "- Test that the correct set points are reached if we give inputs in cartesian, spherical or cylindrical coordinates \n",
    "- Test that we can set theta and phi to non-zero values which are remembered if r is ramped from zero to r > 0. \n",
    "- Test that instruments are ramped up and down in the correct order, with ramp downs occuring before ramp ups.\n"
   ],
   "metadata": {}
  },
  {
   "cell_type": "code",
   "execution_count": 3,
   "source": [
    "# Lets test the 3D driver now. \n",
    "field_limit = [  # If any of the field limit functions are satisfied we are in the safe zone.\n",
    "    lambda x, y, z: x == 0 and y == 0 and z < 3,  # We can have higher field along the z-axis if x and y are zero.\n",
    "    lambda x, y, z: np.linalg.norm([x, y, z]) < 2\n",
    "]\n",
    "\n",
    "i3d = AMI430_3D(\n",
    "    \"AMI430-3D\", \n",
    "    ix,\n",
    "    iy,\n",
    "    iz,\n",
    "    field_limit=field_limit\n",
    ")"
   ],
   "outputs": [],
   "metadata": {
    "collapsed": true
   }
  },
  {
   "cell_type": "code",
   "execution_count": 4,
   "source": [
    "def current_to_field(name, current):\n",
    "    \"\"\"We cannot set currents directly, so we need to calculate what fields need to be generated for \n",
    "    the desired currents\"\"\"\n",
    "    instrument = {\"x\": ix, \"y\": iy, \"z\": iz}[name]\n",
    "    coil_constant = instrument._coil_constant #  [T/A]\n",
    "    field = current * coil_constant\n",
    "    return field"
   ],
   "outputs": [],
   "metadata": {
    "collapsed": true
   }
  },
  {
   "cell_type": "code",
   "execution_count": 12,
   "source": [
    "# Lets see if we can set a certain current using cartesian coordinates\n",
    "current_target = [1.0, 0.5, 1.5]\n",
    "# calculate the fields needed\n",
    "field_target = [current_to_field(n, v) for n, v in zip([\"x\", \"y\", \"z\"], current_target)]\n",
    "print(\"field target = {}\".format(field_target))\n",
    "i3d.cartesian(field_target)\n",
    "field_measured = i3d.cartesian_measured()\n",
    "print(\"field measured = {}\".format(field_measured))"
   ],
   "outputs": [
    {
     "output_type": "stream",
     "name": "stdout",
     "text": [
      "field target = [0.0386, 0.0121, 0.11399999999999999]\n",
      "field measured = [0.03816, 0.01211, 0.11384]\n"
     ]
    }
   ],
   "metadata": {}
  },
  {
   "cell_type": "code",
   "execution_count": 13,
   "source": [
    "# Lets move back to 0,0,0\n",
    "i3d.cartesian([0, 0, 0])\n",
    "\n",
    "# Lets see if we can set a certain current using spherical coordinates\n",
    "current_target = [1.0, 0.5, 1.5]\n",
    "# calculate the fields needed\n",
    "field_target_cartesian = [current_to_field(n, v) for n, v in zip([\"x\", \"y\", \"z\"], current_target)]\n",
    "# calculate the field target in spherical coordinates \n",
    "field_target_spherical = FieldVector(*field_target_cartesian).get_components(\"r\", \"theta\", \"phi\")\n",
    "\n",
    "print(\"field target = {}\".format(field_target_spherical))\n",
    "i3d.spherical(field_target_spherical)\n",
    "field_measured = i3d.spherical_measured()\n",
    "print(\"field measured = {}\".format(field_measured))\n",
    "# Like before, we see that the current target of 1.0, 0.5, 1.5 A for x, y and z have indeed been reached"
   ],
   "outputs": [
    {
     "output_type": "stream",
     "name": "stdout",
     "text": [
      "field target = [0.1209643335863923, 19.536859161547078, 17.404721375291402]\n",
      "field measured = [0.12077462481829535, 19.424782613847988, 17.532727661391853]\n"
     ]
    }
   ],
   "metadata": {}
  },
  {
   "cell_type": "code",
   "execution_count": 15,
   "source": [
    "# Lets move back to 0,0,0\n",
    "i3d.cartesian([0, 0, 0])\n",
    "\n",
    "# Lets see if we can set a certain current using cylindrical coordinates\n",
    "current_target = [1.0, 0.5, 1.5]\n",
    "# calculate the fields needed\n",
    "field_target_cartesian = [current_to_field(n, v) for n, v in zip([\"x\", \"y\", \"z\"], current_target)]\n",
    "# calculate the field target in cylindrical coordinates \n",
    "field_target_cylindrical = FieldVector(*field_target_cartesian).get_components(\"rho\", \"phi\", \"z\")\n",
    "\n",
    "print(\"field target = {}\".format(field_target_cylindrical))\n",
    "i3d.cylindrical(field_target_cylindrical)\n",
    "field_measured = i3d.cylindrical_measured()\n",
    "print(\"field measured = {}\".format(field_measured))\n",
    "# Like before, we see that the current target of 1.0, 0.5, 1.5 A for x, y and z have indeed been reached"
   ],
   "outputs": [
    {
     "output_type": "stream",
     "name": "stdout",
     "text": [
      "field target = [0.040452070404368677, 17.404721375291402, 0.11399999999999999]\n",
      "field measured = [0.040235668255914431, 17.51627743673798, 0.11365]\n"
     ]
    }
   ],
   "metadata": {}
  },
  {
   "cell_type": "code",
   "execution_count": 16,
   "source": [
    "# Test that ramping up and down occurs in the right order,\n",
    "# that is, first, ramp axes that have ramp down,\n",
    "# and only then ramp axes that have to ramp up.\n",
    "current_target = [1.0, 0.75, 1.0]  # We ramp down the z, ramp up y and keep x the same \n",
    "# We should see that z is adjusted first, then y. \n",
    "# calculate the fields needed\n",
    "field_target = [current_to_field(n, v) for n, v in zip([\"x\", \"y\", \"z\"], current_target)]\n",
    "print(\"field target = {}\".format(field_target))\n",
    "i3d.cartesian(field_target)\n",
    "# Manual inspection has shown that z is indeed ramped down before y is ramped up "
   ],
   "outputs": [
    {
     "output_type": "stream",
     "name": "stdout",
     "text": [
      "field target = [0.0386, 0.01815, 0.076]\n"
     ]
    }
   ],
   "metadata": {}
  },
  {
   "cell_type": "code",
   "execution_count": 17,
   "source": [
    "# check that an exception is raised when we try to set a field which is out side of the safety limits \n",
    "try:\n",
    "    i3d.cartesian([2.1, 0, 0])\n",
    "    print(\"something went wrong... we should not be able to do this :-(\")\n",
    "except:\n",
    "    print(\"error successfully raised. The driver does not let you do stupid stuff\")"
   ],
   "outputs": [
    {
     "output_type": "stream",
     "name": "stdout",
     "text": [
      "error successfully raised. The driver does not let you do stupid stuff\n"
     ]
    }
   ],
   "metadata": {}
  },
  {
   "cell_type": "code",
   "execution_count": 25,
   "source": [
    "# Check that the driver remembers theta/phi values if the set point norm is zero\n",
    "\n",
    "# lets go back to zero field\n",
    "i3d.cartesian([0, 0, 0])\n",
    "# Lets set theta and phi to a non zero value but keep the field magnitude at zero\n",
    "field_target_spherical = [0, 20.0, -40.0]\n",
    "i3d.spherical(field_target_spherical)\n",
    "field_measured = i3d.cartesian_measured()\n",
    "print(\"1: Measured field = {} T\".format(field_measured))\n",
    "\n",
    "# Note that theta_measured and phi_measured will give random values based on noisy current reading \n",
    "# close to zero (this cannot be avoided)\n",
    "theta_measured = i3d.theta_measured()\n",
    "print(\"1: Theta measured = {}\".format(theta_measured))\n",
    "phi_measured = i3d.phi_measured()\n",
    "print(\"1: Phi measured = {}\".format(phi_measured))\n",
    "\n",
    "# now lets set the r value\n",
    "i3d.field(0.4)\n",
    "\n",
    "field_measured = i3d.cartesian_measured()\n",
    "print(\"2: Measured field = {} T\".format(field_measured))\n",
    "# Now the measured angles should be as we intended\n",
    "theta_measured = i3d.theta_measured()\n",
    "print(\"2: Theta measured = {}. We see that the input theta of {} has been \"\n",
    "      \"remembered\".format(theta_measured, field_target_spherical[1]))\n",
    "\n",
    "phi_measured = i3d.phi_measured()\n",
    "print(\"2: Phi measured = {}. We see that the input phi of {} has been \"\n",
    "      \"remembered\".format(phi_measured, field_target_spherical[2]))"
   ],
   "outputs": [
    {
     "output_type": "stream",
     "name": "stdout",
     "text": [
      "1: Measured field = [-0.00013, -1e-05, 3e-05] T\n",
      "1: Theta measured = 98.72079692816342\n",
      "1: Phi measured = 180.0\n",
      "2: Measured field = [0.10484, -0.08797, 0.37558] T\n",
      "2: Theta measured = 20.032264760097508. We see that the input theta of 20.0 has been remembered\n",
      "2: Phi measured = -40.007172479040996. We see that the input phi of -40.0 has been remembered\n"
     ]
    }
   ],
   "metadata": {}
  },
  {
   "cell_type": "markdown",
   "source": [
    "### Simultaneous ramping mode\n",
    "\n",
    "..."
   ],
   "metadata": {
    "collapsed": true
   }
  },
  {
   "cell_type": "markdown",
   "source": [],
   "metadata": {}
  }
 ],
 "metadata": {
  "kernelspec": {
   "display_name": "Python 3",
   "language": "python",
   "name": "python3"
  },
  "language_info": {
   "codemirror_mode": {
    "name": "ipython",
    "version": 3
   },
   "file_extension": ".py",
   "mimetype": "text/x-python",
   "name": "python",
   "nbconvert_exporter": "python",
   "pygments_lexer": "ipython3",
   "version": "3.7.5"
  },
  "nbsphinx": {
   "execute": "never"
  }
 },
 "nbformat": 4,
 "nbformat_minor": 2
}
