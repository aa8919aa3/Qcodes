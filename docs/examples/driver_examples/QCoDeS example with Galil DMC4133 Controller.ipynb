{
 "cells": [
  {
   "cell_type": "markdown",
   "id": "bbba7248",
   "metadata": {},
   "source": [
    "# QCoDeS example with Galil DMC4133 Controller"
   ]
  },
  {
   "cell_type": "markdown",
   "id": "86f9a772",
   "metadata": {},
   "source": [
    "Purpose of this notebook is to demonstrate how Galil DMC4133 Controller driver along with Arm class can be used for running measurements while controlling the arm head simulteneously. Before begining,\n",
    "\n",
    "1. Make sure that you have `gclib` package installed in your environment. If not, then follow the instructions [here](https://www.galil.com/sw/pub/all/doc/gclib/html/python.html) for installation.\n",
    "2. Make sure that the controller is connected to your PC through an Ethernet cable and the configuration is set as according to these instructions on Windows operating system.\n",
    "    \n",
    "        a. Go to Control Panel -> Network and Internet -> Network Connections and select the appropriate network adapter.\n",
    "        b. Next go to the Properties of that adapter, and then Properties for Internet Protocol Version 4 (TCP/IPv4).\n",
    "        c. Select \"Use the following IP address\" and add an IP address and Subnet. (If the Galil has an IP address of 10.10.10.100 burned in, you would need a PC IP address of something like 10.10.10.1 with a subnet of 255.255.255.0.)\n",
    "\n",
    "Once, the connection to the DMC4133 Controller is established, we can begin with necessary imports and the calibration process. So, let us begin!"
   ]
  },
  {
   "cell_type": "markdown",
   "id": "7ac43cd2",
   "metadata": {},
   "source": [
    "# Imports"
   ]
  },
  {
   "cell_type": "code",
   "execution_count": 2,
   "id": "e6146b90",
   "metadata": {
    "ExecuteTime": {
     "end_time": "2021-09-06T11:06:14.385159Z",
     "start_time": "2021-09-06T11:06:14.375103Z"
    }
   },
   "outputs": [],
   "source": [
    "from qcodes.instrument_drivers.Galil.dmc_41x3 import DMC4133Controller, Arm"
   ]
  },
  {
   "cell_type": "code",
   "execution_count": null,
   "id": "b282c1b4",
   "metadata": {},
   "outputs": [],
   "source": [
    "controller = DMC4133Controller(name='controller', address='192.168.8.74')"
   ]
  },
  {
   "cell_type": "code",
   "execution_count": null,
   "id": "89610c52",
   "metadata": {},
   "outputs": [],
   "source": [
    "arm = Arm(controller)"
   ]
  },
  {
   "cell_type": "markdown",
   "id": "9c968a25",
   "metadata": {},
   "source": [
    "Now that we have imported an initialized the controller and the arm. We need to calibrate the arm."
   ]
  },
  {
   "cell_type": "markdown",
   "id": "78869855",
   "metadata": {},
   "source": [
    "# Calibration"
   ]
  },
  {
   "cell_type": "markdown",
   "id": "8d66d4b5",
   "metadata": {},
   "source": [
    "Check the state of the motors."
   ]
  },
  {
   "cell_type": "code",
   "execution_count": null,
   "id": "2442e7a1",
   "metadata": {},
   "outputs": [],
   "source": [
    "print(controller.absolute_position())\n",
    "print(controller.motor_a.on_off_status())\n",
    "print(controller.motor_b.on_off_status())\n",
    "print(controller.motor_c.on_off_status())"
   ]
  },
  {
   "cell_type": "code",
   "execution_count": null,
   "id": "c5aade6d",
   "metadata": {},
   "outputs": [],
   "source": [
    "controller.motors_off()"
   ]
  },
  {
   "cell_type": "code",
   "execution_count": null,
   "id": "e7e2eb5b",
   "metadata": {},
   "outputs": [],
   "source": [
    "arm.set_arm_kinematics()  # sets default values of arm speed to be 100 micro meters per second,\n",
    "                          # acceleration and deceleration to be 2048 micro meters per second square"
   ]
  },
  {
   "cell_type": "markdown",
   "id": "d73781eb",
   "metadata": {},
   "source": [
    "Manually move the motors and take the needle head to the position where you want to set the origin. This will be the left bottom corner of the chip and run following commands."
   ]
  },
  {
   "cell_type": "code",
   "execution_count": null,
   "id": "1c0ac718",
   "metadata": {},
   "outputs": [],
   "source": [
    "controller.define_position_as_origin()"
   ]
  },
  {
   "cell_type": "code",
   "execution_count": null,
   "id": "a6389d1d",
   "metadata": {},
   "outputs": [],
   "source": [
    "arm.set_left_bottom_position()"
   ]
  },
  {
   "cell_type": "markdown",
   "id": "9c1b17cc",
   "metadata": {},
   "source": [
    "From now on all the motor movements will be controlled by the driver commands.\n",
    "\n",
    "Next step is to set reverse limits for for all three motors. First take the motor C to the extreme reverse position which you want to set as the reverse limit with following command."
   ]
  },
  {
   "cell_type": "code",
   "execution_count": null,
   "id": "886c7029",
   "metadata": {},
   "outputs": [],
   "source": [
    "arm.move_motor_C_by(distance=-2000)    # distance is in micro meters"
   ]
  },
  {
   "cell_type": "markdown",
   "id": "a3f35ea7",
   "metadata": {},
   "source": [
    "Now that you are at the position which you want to set as the reverse limit for motor C, run the following command."
   ]
  },
  {
   "cell_type": "code",
   "execution_count": null,
   "id": "c56dd712",
   "metadata": {},
   "outputs": [],
   "source": [
    "arm.set_motor_C_reverse_limit()"
   ]
  },
  {
   "cell_type": "markdown",
   "id": "3473375b",
   "metadata": {},
   "source": [
    "Repeat the same process for motor A."
   ]
  },
  {
   "cell_type": "code",
   "execution_count": null,
   "id": "54f93a57",
   "metadata": {},
   "outputs": [],
   "source": [
    "arm.move_motor_A_by(distance=-2000)"
   ]
  },
  {
   "cell_type": "code",
   "execution_count": null,
   "id": "798ee956",
   "metadata": {},
   "outputs": [],
   "source": [
    "arm.set_motor_A_reverse_limit()"
   ]
  },
  {
   "cell_type": "markdown",
   "id": "a25eef97",
   "metadata": {},
   "source": [
    "Now, for motor B."
   ]
  },
  {
   "cell_type": "code",
   "execution_count": null,
   "id": "86fbbec1",
   "metadata": {},
   "outputs": [],
   "source": [
    "arm.move_motor_B_by(distance=-2000)"
   ]
  },
  {
   "cell_type": "code",
   "execution_count": null,
   "id": "e13848dc",
   "metadata": {},
   "outputs": [],
   "source": [
    "arm.set_motor_B_reverse_limit()"
   ]
  },
  {
   "cell_type": "markdown",
   "id": "e49b0def",
   "metadata": {},
   "source": [
    "You have set the reverse limits for all three motors. Next we will define the chip plane. We have already set the chip left bottom corner as the origin of the system. Now, we will set the left top corner first and then right top corner.\n",
    "\n",
    "Move individual motors with following commands."
   ]
  },
  {
   "cell_type": "code",
   "execution_count": null,
   "id": "c2af8774",
   "metadata": {},
   "outputs": [],
   "source": [
    "arm.move_motor_A_by(distance=2000)"
   ]
  },
  {
   "cell_type": "code",
   "execution_count": null,
   "id": "af0ea403",
   "metadata": {},
   "outputs": [],
   "source": [
    "arm.move_motor_B_by(distance=2000)"
   ]
  },
  {
   "cell_type": "code",
   "execution_count": null,
   "id": "2033c1e8",
   "metadata": {},
   "outputs": [],
   "source": [
    "arm.move_motor_C_by(distance=2000)"
   ]
  },
  {
   "cell_type": "markdown",
   "id": "6baaa29f",
   "metadata": {},
   "source": [
    "When you are satisfied that the motor is at the left top position of the chip. Run the following command."
   ]
  },
  {
   "cell_type": "code",
   "execution_count": null,
   "id": "0f0cca74",
   "metadata": {},
   "outputs": [],
   "source": [
    "arm.set_left_top_position()"
   ]
  },
  {
   "cell_type": "markdown",
   "id": "88a2048f",
   "metadata": {},
   "source": [
    "Again, move invidual motors with the above mentioned commands and when you are satisfied that the arm needle is at the right top position of the chip, run the following command."
   ]
  },
  {
   "cell_type": "code",
   "execution_count": null,
   "id": "2ca55edc",
   "metadata": {},
   "outputs": [],
   "source": [
    "arm.set_right_top_position()"
   ]
  },
  {
   "cell_type": "markdown",
   "id": "9b83588d",
   "metadata": {},
   "source": [
    "You have not set the boundaries for the motion of the motor. Though the calibration process is not complete yet. You need to set the chip details."
   ]
  },
  {
   "cell_type": "markdown",
   "id": "76673e3f",
   "metadata": {},
   "source": [
    "## Set chip details"
   ]
  },
  {
   "cell_type": "code",
   "execution_count": null,
   "id": "829a050e",
   "metadata": {},
   "outputs": [],
   "source": [
    "arm.rows = 2\n",
    "arm.pads = 3\n",
    "arm.inter_row_dis = arm.norm_b            # since there are only 2 rows\n",
    "arm.inter_pad_dis = arm.norm_c / 2        # since there are 3 pads per row"
   ]
  },
  {
   "cell_type": "markdown",
   "id": "1a243bfc",
   "metadata": {},
   "source": [
    "Calibration is complete! Remember you are at the right top position of the chip crrently. Move the needle head to left bottom position with following command."
   ]
  },
  {
   "cell_type": "code",
   "execution_count": null,
   "id": "e6d63e89",
   "metadata": {},
   "outputs": [],
   "source": [
    "arm.move_towards_left_bottom_position()"
   ]
  },
  {
   "cell_type": "markdown",
   "id": "960dfa4c",
   "metadata": {},
   "source": [
    "# Integration with measurement process"
   ]
  },
  {
   "cell_type": "code",
   "execution_count": null,
   "id": "f1deca5b",
   "metadata": {},
   "outputs": [],
   "source": [
    "import qcodes as qc\n",
    "from qcodes import (\n",
    "    Measurement,\n",
    "    initialise_or_create_database_at,\n",
    "    load_or_create_experiment,\n",
    ")\n",
    "from qcodes.tests.instrument_mocks import DummyInstrument, DummyInstrumentWithMeasurement"
   ]
  },
  {
   "cell_type": "code",
   "execution_count": null,
   "id": "6e5067c3",
   "metadata": {},
   "outputs": [],
   "source": [
    "station = qc.Station()"
   ]
  },
  {
   "cell_type": "code",
   "execution_count": null,
   "id": "bcc6a594",
   "metadata": {},
   "outputs": [],
   "source": [
    "# A dummy instrument dac with two parameters ch1 and ch2\n",
    "dac = DummyInstrument('dac', gates=['ch1', 'ch2'])\n",
    "\n",
    "# A dummy instrument that generates some real looking output depending\n",
    "# on the values set on the setter_instr, in this case the dac\n",
    "dmm = DummyInstrumentWithMeasurement('dmm', setter_instr=dac)"
   ]
  },
  {
   "cell_type": "code",
   "execution_count": null,
   "id": "50a716fc",
   "metadata": {},
   "outputs": [],
   "source": [
    "station.add_component(dac)\n",
    "station.add_component(dmm)"
   ]
  },
  {
   "cell_type": "code",
   "execution_count": null,
   "id": "c5922311",
   "metadata": {},
   "outputs": [],
   "source": [
    "initialise_or_create_database_at(\"~/experiments.db\")"
   ]
  },
  {
   "cell_type": "code",
   "execution_count": null,
   "id": "a0c6c7f0",
   "metadata": {},
   "outputs": [],
   "source": [
    "exp = load_or_create_experiment(experiment_name='galil_controller_testing',\n",
    "                                sample_name=\"no sample1\")"
   ]
  },
  {
   "cell_type": "markdown",
   "id": "407f0f45",
   "metadata": {},
   "source": [
    "Our arm is set up and the measurement is set up. Fun the following block for measurement as we are at the 1st row."
   ]
  },
  {
   "cell_type": "code",
   "execution_count": null,
   "id": "a2190e59",
   "metadata": {},
   "outputs": [],
   "source": [
    "meas = Measurement(exp=exp, station=station, name='xyz_measurement')\n",
    "meas.register_parameter(dac.ch1)  # register the first independent parameter\n",
    "meas.register_parameter(dmm.v1, setpoints=(dac.ch1,))  # now register the dependent oone\n",
    "\n",
    "meas.write_period = 2\n",
    "\n",
    "with meas.run() as datasaver:\n",
    "    for set_v in np.linspace(0, 25, 10):\n",
    "        dac.ch1.set(set_v)\n",
    "        get_v = dmm.v1.get()\n",
    "        datasaver.add_result((dac.ch1, set_v),\n",
    "                             (dmm.v1, get_v))\n",
    "\n",
    "    dataset = datasaver.dataset  # convenient to have for plotting"
   ]
  },
  {
   "cell_type": "markdown",
   "id": "a84c5daf",
   "metadata": {},
   "source": [
    "Now you have option to move to the next row or pad with following commands."
   ]
  },
  {
   "cell_type": "code",
   "execution_count": null,
   "id": "666ed3a4",
   "metadata": {},
   "outputs": [],
   "source": [
    "arm.move_to_row(2)"
   ]
  },
  {
   "cell_type": "code",
   "execution_count": null,
   "id": "c01658e3",
   "metadata": {},
   "outputs": [],
   "source": [
    "arm.move_to_pad(3)"
   ]
  },
  {
   "cell_type": "markdown",
   "id": "636ea6d7",
   "metadata": {},
   "source": [
    "Once this motion is complete, you can use individual motors commands for minor adjustments. "
   ]
  },
  {
   "cell_type": "code",
   "execution_count": null,
   "id": "eb24e037",
   "metadata": {},
   "outputs": [],
   "source": [
    "arm.move_motor_A_by(distance=5)"
   ]
  },
  {
   "cell_type": "code",
   "execution_count": null,
   "id": "cbd720de",
   "metadata": {},
   "outputs": [],
   "source": [
    "arm.move_motor_B_by(distance=5)"
   ]
  },
  {
   "cell_type": "code",
   "execution_count": null,
   "id": "7cf98d1f",
   "metadata": {},
   "outputs": [],
   "source": [
    "arm.move_motor_C_by(distance=5)"
   ]
  },
  {
   "cell_type": "markdown",
   "id": "1787fc55",
   "metadata": {},
   "source": [
    "Repeat the measurement code block for the new row or pad."
   ]
  },
  {
   "cell_type": "markdown",
   "id": "b14705f7",
   "metadata": {},
   "source": [
    "When you are done with the all the measurements, use following command to close the controller."
   ]
  },
  {
   "cell_type": "code",
   "execution_count": null,
   "id": "f74a6e72",
   "metadata": {},
   "outputs": [],
   "source": [
    "arm.controller.close()"
   ]
  },
  {
   "cell_type": "code",
   "execution_count": null,
   "id": "6f1f7ce2",
   "metadata": {},
   "outputs": [],
   "source": []
  }
 ],
 "metadata": {
  "kernelspec": {
   "display_name": "Python 3 (ipykernel)",
   "language": "python",
   "name": "python3"
  },
  "language_info": {
   "codemirror_mode": {
    "name": "ipython",
    "version": 3
   },
   "file_extension": ".py",
   "mimetype": "text/x-python",
   "name": "python",
   "nbconvert_exporter": "python",
   "pygments_lexer": "ipython3",
   "version": "3.7.10"
  },
  "nbsphinx": {
   "execute": "never"
  },
  "toc": {
   "base_numbering": 1,
   "nav_menu": {},
   "number_sections": true,
   "sideBar": true,
   "skip_h1_title": false,
   "title_cell": "Table of Contents",
   "title_sidebar": "Contents",
   "toc_cell": false,
   "toc_position": {},
   "toc_section_display": true,
   "toc_window_display": false
  },
  "varInspector": {
   "cols": {
    "lenName": 16,
    "lenType": 16,
    "lenVar": 40
   },
   "kernels_config": {
    "python": {
     "delete_cmd_postfix": "",
     "delete_cmd_prefix": "del ",
     "library": "var_list.py",
     "varRefreshCmd": "print(var_dic_list())"
    },
    "r": {
     "delete_cmd_postfix": ") ",
     "delete_cmd_prefix": "rm(",
     "library": "var_list.r",
     "varRefreshCmd": "cat(var_dic_list()) "
    }
   },
   "types_to_exclude": [
    "module",
    "function",
    "builtin_function_or_method",
    "instance",
    "_Feature"
   ],
   "window_display": false
  }
 },
 "nbformat": 4,
 "nbformat_minor": 5
}
