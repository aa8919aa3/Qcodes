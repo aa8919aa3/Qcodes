{
 "cells": [
  {
   "cell_type": "markdown",
   "id": "e8d7fe5b",
   "metadata": {},
   "source": [
    "# QCoDeS example with Galil DMC4133 Controller"
   ]
  },
  {
   "cell_type": "markdown",
   "id": "8d0e1fc2",
   "metadata": {},
   "source": [
    "Purpose of this notebook is to demonstrate how Galil DMC4133 Controller driver along with Arm class can be used for running measurements while controlling the arm head simulteneously. Before begining,\n",
    "\n",
    "1. Make sure that you have `gclib` package installed in your environment. If not, then follow the instructions [here](https://www.galil.com/sw/pub/all/doc/gclib/html/python.html) for installation.\n",
    "2. Make sure that the controller is connected to your PC through an Ethernet cable and the configuration is set as according to these instructions on Windows operating system.\n",
    "    \n",
    "        a. Go to Control Panel -> Network and Internet -> Network Connections and select the appropriate network adapter.\n",
    "        b. Next go to the Properties of that adapter, and then Properties for Internet Protocol Version 4 (TCP/IPv4).\n",
    "        c. Select \"Use the following IP address\" and add an IP address and Subnet. (If the Galil has an IP address of 10.10.10.100 burned in, you would need a PC IP address of something like 10.10.10.1 with a subnet of 255.255.255.0.)\n",
    "\n",
    "Once, the connection to the DMC4133 Controller is established, we can begin with necessary imports and the calibration process. So, let us begin!"
   ]
  },
  {
   "cell_type": "markdown",
   "id": "1c90aa8d",
   "metadata": {},
   "source": [
    "## Imports"
   ]
  },
  {
   "cell_type": "code",
   "execution_count": null,
   "id": "e3b9a3b3",
   "metadata": {},
   "outputs": [],
   "source": []
  }
 ],
 "metadata": {
  "kernelspec": {
   "display_name": "Python 3",
   "language": "python",
   "name": "python3"
  },
  "language_info": {
   "codemirror_mode": {
    "name": "ipython",
    "version": 3
   },
   "file_extension": ".py",
   "mimetype": "text/x-python",
   "name": "python",
   "nbconvert_exporter": "python",
   "pygments_lexer": "ipython3",
   "version": "3.7.10"
  }
 },
 "nbformat": 4,
 "nbformat_minor": 5
}
