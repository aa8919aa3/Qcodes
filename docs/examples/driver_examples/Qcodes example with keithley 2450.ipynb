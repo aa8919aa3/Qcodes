{
 "cells": [
  {
   "cell_type": "markdown",
   "metadata": {},
   "source": [
    "# Example Notebook for Tektronix Keithley 2450 source meter\n",
    "\n",
    "In this example we will setup a number of [four-wire measurements](https://en.wikipedia.org/wiki/Four-terminal_sensing) with the 2540 source meter. We attach a variable resistor to the front terminals and determine if we can measure the correct resistance."
   ]
  },
  {
   "cell_type": "code",
   "execution_count": 1,
   "metadata": {},
   "outputs": [],
   "source": [
    "import qcodes as qc \n",
    "from qcodes.instrument_drivers.tektronix.Keithley_2450 import Keithley2450\n",
    "from qcodes.dataset.database import initialise_database\n",
    "from qcodes.dataset.measurements import Measurement\n",
    "from qcodes.dataset.plotting import plot_by_id\n",
    "from qcodes.dataset.experiment_container import new_experiment"
   ]
  },
  {
   "cell_type": "code",
   "execution_count": 2,
   "metadata": {},
   "outputs": [
    {
     "name": "stdout",
     "output_type": "stream",
     "text": [
      "Connected to: KEITHLEY INSTRUMENTS 2450 (serial:04397524, firmware:1.6.7c) in 0.49s\n"
     ]
    }
   ],
   "source": [
    "keithley = Keithley2450(\"keithley\", \"GPIB0::18::INSTR\")"
   ]
  },
  {
   "cell_type": "markdown",
   "metadata": {},
   "source": [
    "## Single point measurements "
   ]
  },
  {
   "cell_type": "markdown",
   "metadata": {},
   "source": [
    "Attach a variable resistor to the front and source a current "
   ]
  },
  {
   "cell_type": "code",
   "execution_count": 3,
   "metadata": {},
   "outputs": [
    {
     "name": "stdout",
     "output_type": "stream",
     "text": [
      "Approx. resistance:  1013.1610000000001\n"
     ]
    }
   ],
   "source": [
    "keithley.terminals(\"front\")\n",
    "keithley.source.function(\"current\")\n",
    "keithley.source.current(1E-6)  # Put 1uA through the resistor \n",
    "current_setpoint = keithley.source.current()\n",
    "\n",
    "voltage = keithley.sense.function(\"voltage\")\n",
    "keithley.output(True)\n",
    "voltage = keithley.sense.voltage()\n",
    "keithley.output(False)\n",
    "\n",
    "print(f\"Approx. resistance: \",  voltage/current_setpoint)"
   ]
  },
  {
   "cell_type": "markdown",
   "metadata": {},
   "source": [
    "We can also directly measure the resistance"
   ]
  },
  {
   "cell_type": "code",
   "execution_count": 4,
   "metadata": {},
   "outputs": [
    {
     "name": "stdout",
     "output_type": "stream",
     "text": [
      "Measured resistance:  996.0581\n"
     ]
    }
   ],
   "source": [
    "voltage = keithley.sense.function(\"resistance\")\n",
    "keithley.output(True)\n",
    "resistance = keithley.sense.resistance()\n",
    "keithley.output(False)\n",
    "\n",
    "print(f\"Measured resistance: \",  resistance)"
   ]
  },
  {
   "cell_type": "markdown",
   "metadata": {},
   "source": [
    "In 'current' mode, we cannot set/get a voltage and vice versa"
   ]
  },
  {
   "cell_type": "code",
   "execution_count": 5,
   "metadata": {},
   "outputs": [
    {
     "name": "stdout",
     "output_type": "stream",
     "text": [
      "In the 'current' source mode the source module does not have a 'voltage' attribute\n"
     ]
    }
   ],
   "source": [
    "try: \n",
    "    keithley.source.voltage()\n",
    "except AttributeError as err: \n",
    "    function = keithley.source.function()\n",
    "    print(f\"In the '{function}' source mode the source module does not have a 'voltage' attribute\")"
   ]
  },
  {
   "cell_type": "markdown",
   "metadata": {},
   "source": [
    "This goes for both the source and sense subsystems "
   ]
  },
  {
   "cell_type": "code",
   "execution_count": 6,
   "metadata": {},
   "outputs": [
    {
     "name": "stdout",
     "output_type": "stream",
     "text": [
      "In the 'resistance' sense mode the sense module does not have a 'current' attribute\n"
     ]
    }
   ],
   "source": [
    "try: \n",
    "    keithley.sense.current()\n",
    "except AttributeError as err:\n",
    "    function = keithley.sense.function()\n",
    "    print(f\"In the '{function}' sense mode the sense module does not have a 'current' attribute\")"
   ]
  },
  {
   "cell_type": "markdown",
   "metadata": {},
   "source": [
    "We also need to make sure the output is enabled for use the measure (or 'sense') a current or voltage "
   ]
  },
  {
   "cell_type": "markdown",
   "metadata": {},
   "source": [
    "## Sweeping measurements "
   ]
  },
  {
   "cell_type": "markdown",
   "metadata": {},
   "source": [
    "The instrument has a build-in sweep system. For the first measurement, we drive a current through the resistor and measure the voltage accross it. "
   ]
  },
  {
   "cell_type": "code",
   "execution_count": 7,
   "metadata": {},
   "outputs": [],
   "source": [
    "initialise_database()\n",
    "experiment = new_experiment(name='Keithley_2450_example', sample_name=\"no sample\")"
   ]
  },
  {
   "cell_type": "markdown",
   "metadata": {},
   "source": [
    "Sweep the current from 0 to 1uA in 10 steps and measure voltage"
   ]
  },
  {
   "cell_type": "code",
   "execution_count": 8,
   "metadata": {},
   "outputs": [],
   "source": [
    "keithley.sense.function(\"voltage\")\n",
    "keithley.sense.auto_range(True)\n",
    "\n",
    "keithley.source.function(\"current\")\n",
    "keithley.source.auto_range(True)\n",
    "keithley.source.limit(2)\n",
    "keithley.source.sweep_setup(0, 1E-6, 10)\n",
    "\n",
    "keithley.sense.four_wire_measurement(True)"
   ]
  },
  {
   "cell_type": "code",
   "execution_count": 9,
   "metadata": {},
   "outputs": [
    {
     "name": "stdout",
     "output_type": "stream",
     "text": [
      "Starting experimental run with id: 42\n"
     ]
    },
    {
     "data": {
      "text/plain": [
       "([<matplotlib.axes._subplots.AxesSubplot at 0x1c259436128>], [None])"
      ]
     },
     "execution_count": 9,
     "metadata": {},
     "output_type": "execute_result"
    },
    {
     "data": {
      "image/png": "[encoded data removed]",
      "text/plain": [
       "<Figure size 432x288 with 1 Axes>"
      ]
     },
     "metadata": {
      "needs_background": "light"
     },
     "output_type": "display_data"
    }
   ],
   "source": [
    "meas = Measurement(exp=experiment)\n",
    "meas.register_parameter(keithley.sense.sweep)\n",
    "\n",
    "with meas.run() as datasaver:\n",
    "    datasaver.add_result((keithley.source.sweep_axis, keithley.source.sweep_axis()),\n",
    "                         (keithley.sense.sweep, keithley.sense.sweep()))\n",
    "\n",
    "    dataid = datasaver.run_id\n",
    "\n",
    "plot_by_id(dataid)"
   ]
  },
  {
   "cell_type": "markdown",
   "metadata": {},
   "source": [
    "Sweep the voltage from 10mV in 10 steps and measure current "
   ]
  },
  {
   "cell_type": "code",
   "execution_count": 10,
   "metadata": {},
   "outputs": [],
   "source": [
    "keithley.sense.function(\"current\")\n",
    "keithley.sense.range(1E-5)\n",
    "keithley.sense.four_wire_measurement(True)\n",
    "\n",
    "keithley.source.function(\"voltage\")\n",
    "keithley.source.range(0.2)\n",
    "keithley.source.sweep_setup(0, 0.01, 10)"
   ]
  },
  {
   "cell_type": "code",
   "execution_count": 11,
   "metadata": {},
   "outputs": [
    {
     "name": "stdout",
     "output_type": "stream",
     "text": [
      "Starting experimental run with id: 43\n"
     ]
    },
    {
     "data": {
      "text/plain": [
       "([<matplotlib.axes._subplots.AxesSubplot at 0x1c25b5018d0>], [None])"
      ]
     },
     "execution_count": 11,
     "metadata": {},
     "output_type": "execute_result"
    },
    {
     "data": {
      "image/png": "[encoded data removed]",
      "text/plain": [
       "<Figure size 432x288 with 1 Axes>"
      ]
     },
     "metadata": {
      "needs_background": "light"
     },
     "output_type": "display_data"
    }
   ],
   "source": [
    "meas = Measurement(exp=experiment)\n",
    "meas.register_parameter(keithley.sense.sweep)\n",
    "\n",
    "with meas.run() as datasaver:\n",
    "    datasaver.add_result((keithley.source.sweep_axis, keithley.source.sweep_axis()),\n",
    "                         (keithley.sense.sweep, keithley.sense.sweep()))\n",
    "\n",
    "    dataid = datasaver.run_id\n",
    "\n",
    "plot_by_id(dataid)"
   ]
  },
  {
   "cell_type": "code",
   "execution_count": null,
   "metadata": {},
   "outputs": [],
   "source": []
  },
  {
   "cell_type": "code",
   "execution_count": null,
   "metadata": {},
   "outputs": [],
   "source": []
  }
 ],
 "metadata": {
  "kernelspec": {
   "display_name": "Python 3",
   "language": "python",
   "name": "python3"
  },
  "language_info": {
   "codemirror_mode": {
    "name": "ipython",
    "version": 3
   },
   "file_extension": ".py",
   "mimetype": "text/x-python",
   "name": "python",
   "nbconvert_exporter": "python",
   "pygments_lexer": "ipython3",
   "version": "3.6.7"
  },
  "nbsphinx": {
   "execute": "never"
  }
 },
 "nbformat": 4,
 "nbformat_minor": 2
}
