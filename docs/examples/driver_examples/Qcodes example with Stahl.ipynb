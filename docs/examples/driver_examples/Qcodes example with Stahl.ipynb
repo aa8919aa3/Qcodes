{
 "cells": [
  {
   "cell_type": "code",
   "execution_count": 1,
   "metadata": {},
   "outputs": [],
   "source": [
    "from typing import Dict, Optional, List, Tuple, Callable\n",
    "import re \n",
    "import numpy as np \n",
    "import logging\n",
    "\n",
    "from qcodes import VisaInstrument, InstrumentChannel, ChannelList\n",
    "from qcodes.instrument.parameter import Parameter\n",
    "from qcodes.utils.validators import Numbers"
   ]
  },
  {
   "cell_type": "code",
   "execution_count": 2,
   "metadata": {},
   "outputs": [],
   "source": [
    "logger = logging.getLogger()\n",
    "logger.setLevel(logging.DEBUG)"
   ]
  },
  {
   "cell_type": "code",
   "execution_count": 3,
   "metadata": {},
   "outputs": [],
   "source": [
    "class StahlChannel(InstrumentChannel): \n",
    "    def __init__(self, parent, name, channel_number): \n",
    "        super().__init__(parent, name)\n",
    "    \n",
    "        self._channel_string = f\"{channel_number:02d}\"\n",
    "        self._channel_number = channel_number\n",
    "        self._acknowledge_reply = chr(6)\n",
    "    \n",
    "        self.add_parameter(\n",
    "            \"voltage\", \n",
    "            get_cmd=f\"{self.parent.identifier} U{self._channel_string}\", \n",
    "            get_parser=self._stahl_get_parser(\"V\"), \n",
    "            set_cmd=self._set_voltage, \n",
    "            unit=\"V\",\n",
    "            vals=Numbers(\n",
    "                -self.parent.voltage_range, \n",
    "                self.parent.voltage_range\n",
    "            )\n",
    "        )\n",
    "        \n",
    "        self.add_parameter(\n",
    "            \"current\", \n",
    "            get_cmd=f\"{self.parent.identifier} I{self._channel_string}\", \n",
    "            get_parser=self._stahl_get_parser(\"mA\"), \n",
    "            unit=\"mA\",\n",
    "        )\n",
    "        \n",
    "        self.add_parameter(\n",
    "            \"is_locked\", \n",
    "            get_cmd=self._get_lock_status, \n",
    "            get_parser={\"0\": False, \"1\": True}.get, \n",
    "        )\n",
    "        \n",
    "    def _stahl_get_parser(self, unit):\n",
    "        \n",
    "        regex = f\"([\\+\\-][\\d]?\\d,\\d{{3}} ){unit}$\"\n",
    "        \n",
    "        def parser(response):\n",
    "            result = re.search(regex, response).groups()[0]\n",
    "            return float(result.replace(\",\", \".\"))\n",
    "        \n",
    "        return parser\n",
    "        \n",
    "    def _set_voltage(self, voltage): \n",
    "        \n",
    "        voltage_normalized = np.interp(\n",
    "            voltage, \n",
    "            self.parent.voltage_range * np.array([-1, 1]), \n",
    "            [0, 1]\n",
    "        )\n",
    "        \n",
    "        send_string = f\"{self.parent.identifier} CH{self._channel_string} {voltage_normalized:.5f}\"\n",
    "        response = self.ask(send_string)  # This is not a bug. We are asking in a set \n",
    "        \n",
    "        if response != self._acknowledge_reply: \n",
    "            logger.warning(f\"Command {expected_reply} did not produce an acknowledge reply\")\n",
    "            \n",
    "    def _get_lock_status(self): \n",
    "        \n",
    "        send_string = f\"{self.parent.identifier} LOCK\"\n",
    "        \n",
    "        response = self.parent.visa_handle.query_binary_values(\n",
    "            send_string, \n",
    "            datatype='B',\n",
    "            header_fmt=\"empty\"\n",
    "        )\n",
    "        \n",
    "        chnr = self._channel_number - 1\n",
    "        channel_group = chnr // 4\n",
    "        lock_code_group = response[channel_group]\n",
    "        return format(lock_code_group, \"b\")[chnr % 4 + 1]"
   ]
  },
  {
   "cell_type": "code",
   "execution_count": 4,
   "metadata": {},
   "outputs": [],
   "source": [
    "class Stahl(VisaInstrument): \n",
    "    def __init__(self, name, address): \n",
    "        super().__init__(name, address, terminator=\"\\r\")\n",
    "        self.visa_handle.baud_rate = 115200\n",
    "        \n",
    "        instrument_info = self._parse_idn_string(\n",
    "            self.ask(\"IDN\")\n",
    "        )\n",
    "        \n",
    "        for key, value in instrument_info.items(): \n",
    "            setattr(self, key, value)\n",
    "                    \n",
    "        channels = ChannelList(\n",
    "            self, \"channel\", StahlChannel, snapshotable=False\n",
    "        )\n",
    "        \n",
    "        for channel_number in range(1, self.n_channels + 1):\n",
    "            name = f\"channel{channel_number}\"\n",
    "            channel = StahlChannel(\n",
    "                self, \n",
    "                name, \n",
    "                channel_number\n",
    "            )\n",
    "            self.add_submodule(name, channel)\n",
    "            channels.append(channel)\n",
    "        \n",
    "        self.add_submodule(\"channel\", channels)\n",
    "        \n",
    "        self.add_parameter(\n",
    "            \"temperature\", \n",
    "            get_cmd=self._get_temperature, \n",
    "            unit=\"C\"\n",
    "        )\n",
    "        \n",
    "        self.connect_message()\n",
    "    \n",
    "    def _get_temperature(self):\n",
    "        \n",
    "        send_string = f\"{self.identifier} TEMP\"\n",
    "        response_characters = self.visa_handle.query_binary_values(\n",
    "            send_string, \n",
    "            datatype='B', \n",
    "            header_fmt=\"empty\"\n",
    "        )\n",
    "        \n",
    "        response_string = \"\".join(map(chr, response_characters))\n",
    "        # The '°' is the reason why we cannot simply call 'ask'\n",
    "        # Stupid instrument :-(\n",
    "        groups = re.search(\"TEMP (.*)°C\", response_string).groups()\n",
    "        return float(groups[0])\n",
    "        \n",
    "    @staticmethod\n",
    "    def _parse_idn_string(ind_string): \n",
    "            \n",
    "        groups = re.search(\n",
    "            \"(HV|BS)(\\d{3}) (\\d{3}) (\\d{2}) [buqsm]\", \n",
    "            ind_string\n",
    "        ).groups()\n",
    "    \n",
    "        idparsers = {\n",
    "            \"model\": str, \n",
    "            \"serial_number\": str, \n",
    "            \"voltage_range\": float, \n",
    "            \"n_channels\": int, \n",
    "            \"output_type\": {\n",
    "                \"b\": \"bipolar\", \n",
    "                \"u\": \"unipolar\", \n",
    "                \"q\": \"quadrupole\", \n",
    "                \"s\": \"steerer\", \n",
    "                \"m\": \"bipolar milivolt\"\n",
    "            }.get\n",
    "        }\n",
    "        \n",
    "        return {\n",
    "            name: idparsers[name](value) \n",
    "            for name, value in zip(idparsers.keys(), groups)\n",
    "        }\n",
    "    \n",
    "    def get_idn(self) -> Dict[str, Optional[str]]:\n",
    "        \n",
    "        return {\n",
    "            \"vendor\": \"Stahl\", \n",
    "            \"model\": self.model, \n",
    "            \"serial\": self.serial_number, \n",
    "            \"firmware\": None\n",
    "        }\n",
    "    \n",
    "    @property \n",
    "    def identifier(self): \n",
    "        return f\"{self.model}{self.serial_number}\""
   ]
  },
  {
   "cell_type": "code",
   "execution_count": 5,
   "metadata": {},
   "outputs": [
    {
     "name": "stdout",
     "output_type": "stream",
     "text": [
      "Connected to: Stahl HV (serial:171, firmware:None) in 0.07s\n"
     ]
    }
   ],
   "source": [
    "stahl = Stahl(\"stahl\", \"ASRL3\")"
   ]
  },
  {
   "cell_type": "code",
   "execution_count": 6,
   "metadata": {},
   "outputs": [
    {
     "name": "stdout",
     "output_type": "stream",
     "text": [
      "0.101\n"
     ]
    }
   ],
   "source": [
    "v = stahl.channel[0].voltage()\n",
    "print(v)"
   ]
  },
  {
   "cell_type": "code",
   "execution_count": 7,
   "metadata": {},
   "outputs": [
    {
     "name": "stdout",
     "output_type": "stream",
     "text": [
      "0.001\n"
     ]
    }
   ],
   "source": [
    "v = stahl.channel[4].voltage()\n",
    "print(v)"
   ]
  },
  {
   "cell_type": "code",
   "execution_count": 8,
   "metadata": {},
   "outputs": [
    {
     "name": "stdout",
     "output_type": "stream",
     "text": [
      "-0.001\n"
     ]
    }
   ],
   "source": [
    "v = stahl.channel[9].voltage()\n",
    "print(v)"
   ]
  },
  {
   "cell_type": "code",
   "execution_count": 9,
   "metadata": {},
   "outputs": [],
   "source": [
    "stahl.channel[0].voltage(0.1)"
   ]
  },
  {
   "cell_type": "code",
   "execution_count": 10,
   "metadata": {},
   "outputs": [
    {
     "data": {
      "text/plain": [
       "0.002"
      ]
     },
     "execution_count": 10,
     "metadata": {},
     "output_type": "execute_result"
    }
   ],
   "source": [
    "stahl.channel[0].current()"
   ]
  },
  {
   "cell_type": "code",
   "execution_count": 11,
   "metadata": {},
   "outputs": [
    {
     "data": {
      "text/plain": [
       "25.3"
      ]
     },
     "execution_count": 11,
     "metadata": {},
     "output_type": "execute_result"
    }
   ],
   "source": [
    "stahl.temperature()"
   ]
  },
  {
   "cell_type": "code",
   "execution_count": 12,
   "metadata": {},
   "outputs": [
    {
     "data": {
      "text/plain": [
       "False"
      ]
     },
     "execution_count": 12,
     "metadata": {},
     "output_type": "execute_result"
    }
   ],
   "source": [
    "stahl.channel[1].is_locked()"
   ]
  },
  {
   "cell_type": "code",
   "execution_count": null,
   "metadata": {},
   "outputs": [],
   "source": []
  }
 ],
 "metadata": {
  "kernelspec": {
   "display_name": "Python 3",
   "language": "python",
   "name": "python3"
  },
  "language_info": {
   "codemirror_mode": {
    "name": "ipython",
    "version": 3
   },
   "file_extension": ".py",
   "mimetype": "text/x-python",
   "name": "python",
   "nbconvert_exporter": "python",
   "pygments_lexer": "ipython3",
   "version": "3.6.7"
  }
 },
 "nbformat": 4,
 "nbformat_minor": 2
}
