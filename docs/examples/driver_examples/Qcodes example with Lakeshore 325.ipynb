{
 "cells": [
  {
   "cell_type": "markdown",
   "metadata": {},
   "source": [
    "# Lakeshore 325 driver example\n",
    "\n",
    "Here provided is an example session with model 325 of the Lakeshore temperature controller "
   ]
  },
  {
   "cell_type": "code",
   "execution_count": 1,
   "metadata": {},
   "outputs": [],
   "source": [
    "import numpy as np\n",
    "import matplotlib.pyplot as plt\n",
    "\n",
    "from qcodes.instrument_drivers.Lakeshore.Model_325 import Model_325"
   ]
  },
  {
   "cell_type": "code",
   "execution_count": 2,
   "metadata": {},
   "outputs": [
    {
     "name": "stdout",
     "output_type": "stream",
     "text": [
      "Connected to: LSCI 325 (serial:LSA2251, firmware:1.8/1.1) in 0.26s\n"
     ]
    }
   ],
   "source": [
    "lake = Model_325(\"lake\", \"GPIB0::12::INSTR\")"
   ]
  },
  {
   "cell_type": "markdown",
   "metadata": {},
   "source": [
    "## Sensor commands"
   ]
  },
  {
   "cell_type": "code",
   "execution_count": 21,
   "metadata": {},
   "outputs": [
    {
     "data": {
      "text/plain": [
       "'OK'"
      ]
     },
     "execution_count": 21,
     "metadata": {},
     "output_type": "execute_result"
    }
   ],
   "source": [
    "# Check that the sensor is in the correct status \n",
    "lake.sensor_A.status()"
   ]
  },
  {
   "cell_type": "code",
   "execution_count": 22,
   "metadata": {},
   "outputs": [
    {
     "data": {
      "text/plain": [
       "23.037"
      ]
     },
     "execution_count": 22,
     "metadata": {},
     "output_type": "execute_result"
    }
   ],
   "source": [
    "# What temperature is it reading? \n",
    "lake.sensor_A.temperature()"
   ]
  },
  {
   "cell_type": "code",
   "execution_count": 23,
   "metadata": {},
   "outputs": [
    {
     "data": {
      "text/plain": [
       "'K'"
      ]
     },
     "execution_count": 23,
     "metadata": {},
     "output_type": "execute_result"
    }
   ],
   "source": [
    "lake.sensor_A.temperature.unit"
   ]
  },
  {
   "cell_type": "code",
   "execution_count": 25,
   "metadata": {},
   "outputs": [],
   "source": [
    "# We can access the sensor objects through the sensor list as well\n",
    "assert lake.sensor_A is lake.sensor[0]"
   ]
  },
  {
   "cell_type": "markdown",
   "metadata": {},
   "source": [
    "## Heater commands "
   ]
  },
  {
   "cell_type": "code",
   "execution_count": 29,
   "metadata": {},
   "outputs": [
    {
     "data": {
      "text/plain": [
       "'A'"
      ]
     },
     "execution_count": 29,
     "metadata": {},
     "output_type": "execute_result"
    }
   ],
   "source": [
    "# In a closed loop configuration, heater 1 reads from... \n",
    "lake.heater_1.input_channel()"
   ]
  },
  {
   "cell_type": "code",
   "execution_count": 30,
   "metadata": {},
   "outputs": [
    {
     "data": {
      "text/plain": [
       "'Kelvin'"
      ]
     },
     "execution_count": 30,
     "metadata": {},
     "output_type": "execute_result"
    }
   ],
   "source": [
    "lake.heater_1.unit()"
   ]
  },
  {
   "cell_type": "code",
   "execution_count": 38,
   "metadata": {},
   "outputs": [
    {
     "name": "stdout",
     "output_type": "stream",
     "text": [
      "P =  400.0\n",
      "I =  40.0\n",
      "D =  10.0\n"
     ]
    }
   ],
   "source": [
    "# Get the PID values \n",
    "print(\"P = \", lake.heater_1.P())\n",
    "print(\"I = \", lake.heater_1.I())\n",
    "print(\"D = \", lake.heater_1.D())"
   ]
  },
  {
   "cell_type": "code",
   "execution_count": 39,
   "metadata": {},
   "outputs": [
    {
     "data": {
      "text/plain": [
       "'Off'"
      ]
     },
     "execution_count": 39,
     "metadata": {},
     "output_type": "execute_result"
    }
   ],
   "source": [
    "# Is the heater on? \n",
    "lake.heater_1.output_range()"
   ]
  },
  {
   "cell_type": "markdown",
   "metadata": {},
   "source": [
    "## Loading and updating sensor calibration values"
   ]
  },
  {
   "cell_type": "code",
   "execution_count": 6,
   "metadata": {},
   "outputs": [],
   "source": [
    "curve = lake.sensor_A.curve"
   ]
  },
  {
   "cell_type": "code",
   "execution_count": 7,
   "metadata": {},
   "outputs": [],
   "source": [
    "curve_data = curve.get_data()"
   ]
  },
  {
   "cell_type": "code",
   "execution_count": 8,
   "metadata": {},
   "outputs": [
    {
     "data": {
      "text/plain": [
       "dict_keys(['Temperature (K)', 'log Ohm'])"
      ]
     },
     "execution_count": 8,
     "metadata": {},
     "output_type": "execute_result"
    }
   ],
   "source": [
    "curve_data.keys()"
   ]
  },
  {
   "cell_type": "code",
   "execution_count": 9,
   "metadata": {},
   "outputs": [
    {
     "data": {
      "image/png": "[encoded data removed]",
      "text/plain": [
       "<matplotlib.figure.Figure at 0x1c5fb1d12e8>"
      ]
     },
     "metadata": {},
     "output_type": "display_data"
    }
   ],
   "source": [
    "plt.plot(curve_data[\"Temperature (K)\"], curve_data['log Ohm'], '.')\n",
    "plt.show()"
   ]
  },
  {
   "cell_type": "code",
   "execution_count": 10,
   "metadata": {},
   "outputs": [
    {
     "data": {
      "text/plain": [
       "'CX-1050-SD-HT-1'"
      ]
     },
     "execution_count": 10,
     "metadata": {},
     "output_type": "execute_result"
    }
   ],
   "source": [
    "curve.curve_name()"
   ]
  },
  {
   "cell_type": "code",
   "execution_count": 11,
   "metadata": {},
   "outputs": [],
   "source": [
    "curve_x = lake.curve[23]"
   ]
  },
  {
   "cell_type": "code",
   "execution_count": 12,
   "metadata": {},
   "outputs": [],
   "source": [
    "curve_x = curve_x.get_data()"
   ]
  },
  {
   "cell_type": "code",
   "execution_count": 13,
   "metadata": {},
   "outputs": [
    {
     "data": {
      "text/plain": [
       "dict_keys(['Temperature (K)', 'V'])"
      ]
     },
     "execution_count": 13,
     "metadata": {},
     "output_type": "execute_result"
    }
   ],
   "source": [
    "curve_x.keys()"
   ]
  },
  {
   "cell_type": "code",
   "execution_count": 15,
   "metadata": {},
   "outputs": [
    {
     "data": {
      "image/png": "[encoded data removed]",
      "text/plain": [
       "<matplotlib.figure.Figure at 0x1c5fb553ef0>"
      ]
     },
     "metadata": {},
     "output_type": "display_data"
    }
   ],
   "source": [
    "temp = np.linspace(0, 100, 200)\n",
    "new_data = {\"Temperature (K)\": temp, \"log Ohm\": 1/(temp+1)+2}\n",
    "\n",
    "plt.plot(new_data[\"Temperature (K)\"], new_data[\"log Ohm\"], '.')\n",
    "plt.show()"
   ]
  },
  {
   "cell_type": "code",
   "execution_count": 16,
   "metadata": {},
   "outputs": [],
   "source": [
    "curve_x.format(\"log Ohm/K\")\n",
    "curve_x.set_data(new_data)"
   ]
  },
  {
   "cell_type": "code",
   "execution_count": 17,
   "metadata": {},
   "outputs": [
    {
     "data": {
      "text/plain": [
       "'log Ohm/K'"
      ]
     },
     "execution_count": 17,
     "metadata": {},
     "output_type": "execute_result"
    }
   ],
   "source": [
    "curve_x.format()"
   ]
  },
  {
   "cell_type": "code",
   "execution_count": 18,
   "metadata": {},
   "outputs": [],
   "source": [
    "curve_x = curve1.get_data()"
   ]
  },
  {
   "cell_type": "code",
   "execution_count": 20,
   "metadata": {},
   "outputs": [
    {
     "data": {
      "image/png": "[encoded data removed]",
      "text/plain": [
       "<matplotlib.figure.Figure at 0x1c5fb5ec9e8>"
      ]
     },
     "metadata": {},
     "output_type": "display_data"
    }
   ],
   "source": [
    "plt.plot(curve_x[\"Temperature (K)\"], curve_x['log Ohm'], '.')\n",
    "plt.show()"
   ]
  },
  {
   "cell_type": "markdown",
   "metadata": {},
   "source": [
    "# Go to a set point"
   ]
  },
  {
   "cell_type": "code",
   "execution_count": 40,
   "metadata": {},
   "outputs": [],
   "source": [
    "%matplotlib notebook\n",
    "\n",
    "import time\n",
    "import numpy\n",
    "from IPython.display import display\n",
    "from ipywidgets import interact, widgets\n",
    "from matplotlib import pyplot as plt\n",
    "\n",
    "def live_plot_temperature_reading(channel_to_read, read_period=0.2, n_reads=1000):\n",
    "    \"\"\"\n",
    "    Live plot the temperature reading from a Lakeshore sensor channel\n",
    "    \n",
    "    Args:\n",
    "        channel_to_read\n",
    "            Lakeshore channel object to read the temperature from\n",
    "        read_period\n",
    "            time in seconds between two reads of the temperature\n",
    "        n_reads\n",
    "            total number of reads to perform\n",
    "    \"\"\"\n",
    "\n",
    "    # Make a widget for a text display that is contantly being updated\n",
    "    text = widgets.Text()\n",
    "    display(text)\n",
    "\n",
    "    fig, ax = plt.subplots(1)\n",
    "    line, = ax.plot([], [], '*-')\n",
    "    ax.set_xlabel('Time, s')\n",
    "    ax.set_ylabel(f'Temperature, {channel_to_read.temperature.unit}')\n",
    "    fig.show()\n",
    "    plt.ion()\n",
    "\n",
    "    for i in range(n_reads):\n",
    "        time.sleep(read_period)\n",
    "\n",
    "        # Update the text field\n",
    "        text.value = f'T = {channel_to_read.temperature()}'\n",
    "\n",
    "        # Add new point to the data that is being plotted\n",
    "        line.set_ydata(numpy.append(line.get_ydata(), channel_to_read.temperature()))\n",
    "        line.set_xdata(numpy.arange(0, len(line.get_ydata()), 1)*read_period)\n",
    "\n",
    "        ax.relim()  # Recalculate limits\n",
    "        ax.autoscale_view(True, True, True)  # Autoscale\n",
    "        fig.canvas.draw()  # Redraw"
   ]
  },
  {
   "cell_type": "code",
   "execution_count": 9,
   "metadata": {},
   "outputs": [
    {
     "data": {
      "application/vnd.jupyter.widget-view+json": {
       "model_id": "5bf837db2f5b4c9d82489aaeaf839847",
       "version_major": 2,
       "version_minor": 0
      },
      "text/plain": [
       "Text(value='')"
      ]
     },
     "metadata": {},
     "output_type": "display_data"
    },
    {
     "data": {
      "application/javascript": [
       "/* Put everything inside the global mpl namespace */\n",
       "window.mpl = {};\n",
       "\n",
       "\n",
       "mpl.get_websocket_type = function() {\n",
       "    if (typeof(WebSocket) !== 'undefined') {\n",
       "        return WebSocket;\n",
       "    } else if (typeof(MozWebSocket) !== 'undefined') {\n",
       "        return MozWebSocket;\n",
       "    } else {\n",
       "        alert('Your browser does not have WebSocket support.' +\n",
       "              'Please try Chrome, Safari or Firefox ≥ 6. ' +\n",
       "              'Firefox 4 and 5 are also supported but you ' +\n",
       "              'have to enable WebSockets in about:config.');\n",
       "    };\n",
       "}\n",
       "\n",
       "mpl.figure = function(figure_id, websocket, ondownload, parent_element) {\n",
       "    this.id = figure_id;\n",
       "\n",
       "    this.ws = websocket;\n",
       "\n",
       "    this.supports_binary = (this.ws.binaryType != undefined);\n",
       "\n",
       "    if (!this.supports_binary) {\n",
       "        var warnings = document.getElementById(\"mpl-warnings\");\n",
       "        if (warnings) {\n",
       "            warnings.style.display = 'block';\n",
       "            warnings.textContent = (\n",
       "                \"This browser does not support binary websocket messages. \" +\n",
       "                    \"Performance may be slow.\");\n",
       "        }\n",
       "    }\n",
       "\n",
       "    this.imageObj = new Image();\n",
       "\n",
       "    this.context = undefined;\n",
       "    this.message = undefined;\n",
       "    this.canvas = undefined;\n",
       "    this.rubberband_canvas = undefined;\n",
       "    this.rubberband_context = undefined;\n",
       "    this.format_dropdown = undefined;\n",
       "\n",
       "    this.image_mode = 'full';\n",
       "\n",
       "    this.root = $('<div/>');\n",
       "    this._root_extra_style(this.root)\n",
       "    this.root.attr('style', 'display: inline-block');\n",
       "\n",
       "    $(parent_element).append(this.root);\n",
       "\n",
       "    this._init_header(this);\n",
       "    this._init_canvas(this);\n",
       "    this._init_toolbar(this);\n",
       "\n",
       "    var fig = this;\n",
       "\n",
       "    this.waiting = false;\n",
       "\n",
       "    this.ws.onopen =  function () {\n",
       "            fig.send_message(\"supports_binary\", {value: fig.supports_binary});\n",
       "            fig.send_message(\"send_image_mode\", {});\n",
       "            if (mpl.ratio != 1) {\n",
       "                fig.send_message(\"set_dpi_ratio\", {'dpi_ratio': mpl.ratio});\n",
       "            }\n",
       "            fig.send_message(\"refresh\", {});\n",
       "        }\n",
       "\n",
       "    this.imageObj.onload = function() {\n",
       "            if (fig.image_mode == 'full') {\n",
       "                // Full images could contain transparency (where diff images\n",
       "                // almost always do), so we need to clear the canvas so that\n",
       "                // there is no ghosting.\n",
       "                fig.context.clearRect(0, 0, fig.canvas.width, fig.canvas.height);\n",
       "            }\n",
       "            fig.context.drawImage(fig.imageObj, 0, 0);\n",
       "        };\n",
       "\n",
       "    this.imageObj.onunload = function() {\n",
       "        this.ws.close();\n",
       "    }\n",
       "\n",
       "    this.ws.onmessage = this._make_on_message_function(this);\n",
       "\n",
       "    this.ondownload = ondownload;\n",
       "}\n",
       "\n",
       "mpl.figure.prototype._init_header = function() {\n",
       "    var titlebar = $(\n",
       "        '<div class=\"ui-dialog-titlebar ui-widget-header ui-corner-all ' +\n",
       "        'ui-helper-clearfix\"/>');\n",
       "    var titletext = $(\n",
       "        '<div class=\"ui-dialog-title\" style=\"width: 100%; ' +\n",
       "        'text-align: center; padding: 3px;\"/>');\n",
       "    titlebar.append(titletext)\n",
       "    this.root.append(titlebar);\n",
       "    this.header = titletext[0];\n",
       "}\n",
       "\n",
       "\n",
       "\n",
       "mpl.figure.prototype._canvas_extra_style = function(canvas_div) {\n",
       "\n",
       "}\n",
       "\n",
       "\n",
       "mpl.figure.prototype._root_extra_style = function(canvas_div) {\n",
       "\n",
       "}\n",
       "\n",
       "mpl.figure.prototype._init_canvas = function() {\n",
       "    var fig = this;\n",
       "\n",
       "    var canvas_div = $('<div/>');\n",
       "\n",
       "    canvas_div.attr('style', 'position: relative; clear: both; outline: 0');\n",
       "\n",
       "    function canvas_keyboard_event(event) {\n",
       "        return fig.key_event(event, event['data']);\n",
       "    }\n",
       "\n",
       "    canvas_div.keydown('key_press', canvas_keyboard_event);\n",
       "    canvas_div.keyup('key_release', canvas_keyboard_event);\n",
       "    this.canvas_div = canvas_div\n",
       "    this._canvas_extra_style(canvas_div)\n",
       "    this.root.append(canvas_div);\n",
       "\n",
       "    var canvas = $('<canvas/>');\n",
       "    canvas.addClass('mpl-canvas');\n",
       "    canvas.attr('style', \"left: 0; top: 0; z-index: 0; outline: 0\")\n",
       "\n",
       "    this.canvas = canvas[0];\n",
       "    this.context = canvas[0].getContext(\"2d\");\n",
       "\n",
       "    var backingStore = this.context.backingStorePixelRatio ||\n",
       "\tthis.context.webkitBackingStorePixelRatio ||\n",
       "\tthis.context.mozBackingStorePixelRatio ||\n",
       "\tthis.context.msBackingStorePixelRatio ||\n",
       "\tthis.context.oBackingStorePixelRatio ||\n",
       "\tthis.context.backingStorePixelRatio || 1;\n",
       "\n",
       "    mpl.ratio = (window.devicePixelRatio || 1) / backingStore;\n",
       "\n",
       "    var rubberband = $('<canvas/>');\n",
       "    rubberband.attr('style', \"position: absolute; left: 0; top: 0; z-index: 1;\")\n",
       "\n",
       "    var pass_mouse_events = true;\n",
       "\n",
       "    canvas_div.resizable({\n",
       "        start: function(event, ui) {\n",
       "            pass_mouse_events = false;\n",
       "        },\n",
       "        resize: function(event, ui) {\n",
       "            fig.request_resize(ui.size.width, ui.size.height);\n",
       "        },\n",
       "        stop: function(event, ui) {\n",
       "            pass_mouse_events = true;\n",
       "            fig.request_resize(ui.size.width, ui.size.height);\n",
       "        },\n",
       "    });\n",
       "\n",
       "    function mouse_event_fn(event) {\n",
       "        if (pass_mouse_events)\n",
       "            return fig.mouse_event(event, event['data']);\n",
       "    }\n",
       "\n",
       "    rubberband.mousedown('button_press', mouse_event_fn);\n",
       "    rubberband.mouseup('button_release', mouse_event_fn);\n",
       "    // Throttle sequential mouse events to 1 every 20ms.\n",
       "    rubberband.mousemove('motion_notify', mouse_event_fn);\n",
       "\n",
       "    rubberband.mouseenter('figure_enter', mouse_event_fn);\n",
       "    rubberband.mouseleave('figure_leave', mouse_event_fn);\n",
       "\n",
       "    canvas_div.on(\"wheel\", function (event) {\n",
       "        event = event.originalEvent;\n",
       "        event['data'] = 'scroll'\n",
       "        if (event.deltaY < 0) {\n",
       "            event.step = 1;\n",
       "        } else {\n",
       "            event.step = -1;\n",
       "        }\n",
       "        mouse_event_fn(event);\n",
       "    });\n",
       "\n",
       "    canvas_div.append(canvas);\n",
       "    canvas_div.append(rubberband);\n",
       "\n",
       "    this.rubberband = rubberband;\n",
       "    this.rubberband_canvas = rubberband[0];\n",
       "    this.rubberband_context = rubberband[0].getContext(\"2d\");\n",
       "    this.rubberband_context.strokeStyle = \"#000000\";\n",
       "\n",
       "    this._resize_canvas = function(width, height) {\n",
       "        // Keep the size of the canvas, canvas container, and rubber band\n",
       "        // canvas in synch.\n",
       "        canvas_div.css('width', width)\n",
       "        canvas_div.css('height', height)\n",
       "\n",
       "        canvas.attr('width', width * mpl.ratio);\n",
       "        canvas.attr('height', height * mpl.ratio);\n",
       "        canvas.attr('style', 'width: ' + width + 'px; height: ' + height + 'px;');\n",
       "\n",
       "        rubberband.attr('width', width);\n",
       "        rubberband.attr('height', height);\n",
       "    }\n",
       "\n",
       "    // Set the figure to an initial 600x600px, this will subsequently be updated\n",
       "    // upon first draw.\n",
       "    this._resize_canvas(600, 600);\n",
       "\n",
       "    // Disable right mouse context menu.\n",
       "    $(this.rubberband_canvas).bind(\"contextmenu\",function(e){\n",
       "        return false;\n",
       "    });\n",
       "\n",
       "    function set_focus () {\n",
       "        canvas.focus();\n",
       "        canvas_div.focus();\n",
       "    }\n",
       "\n",
       "    window.setTimeout(set_focus, 100);\n",
       "}\n",
       "\n",
       "mpl.figure.prototype._init_toolbar = function() {\n",
       "    var fig = this;\n",
       "\n",
       "    var nav_element = $('<div/>')\n",
       "    nav_element.attr('style', 'width: 100%');\n",
       "    this.root.append(nav_element);\n",
       "\n",
       "    // Define a callback function for later on.\n",
       "    function toolbar_event(event) {\n",
       "        return fig.toolbar_button_onclick(event['data']);\n",
       "    }\n",
       "    function toolbar_mouse_event(event) {\n",
       "        return fig.toolbar_button_onmouseover(event['data']);\n",
       "    }\n",
       "\n",
       "    for(var toolbar_ind in mpl.toolbar_items) {\n",
       "        var name = mpl.toolbar_items[toolbar_ind][0];\n",
       "        var tooltip = mpl.toolbar_items[toolbar_ind][1];\n",
       "        var image = mpl.toolbar_items[toolbar_ind][2];\n",
       "        var method_name = mpl.toolbar_items[toolbar_ind][3];\n",
       "\n",
       "        if (!name) {\n",
       "            // put a spacer in here.\n",
       "            continue;\n",
       "        }\n",
       "        var button = $('<button/>');\n",
       "        button.addClass('ui-button ui-widget ui-state-default ui-corner-all ' +\n",
       "                        'ui-button-icon-only');\n",
       "        button.attr('role', 'button');\n",
       "        button.attr('aria-disabled', 'false');\n",
       "        button.click(method_name, toolbar_event);\n",
       "        button.mouseover(tooltip, toolbar_mouse_event);\n",
       "\n",
       "        var icon_img = $('<span/>');\n",
       "        icon_img.addClass('ui-button-icon-primary ui-icon');\n",
       "        icon_img.addClass(image);\n",
       "        icon_img.addClass('ui-corner-all');\n",
       "\n",
       "        var tooltip_span = $('<span/>');\n",
       "        tooltip_span.addClass('ui-button-text');\n",
       "        tooltip_span.html(tooltip);\n",
       "\n",
       "        button.append(icon_img);\n",
       "        button.append(tooltip_span);\n",
       "\n",
       "        nav_element.append(button);\n",
       "    }\n",
       "\n",
       "    var fmt_picker_span = $('<span/>');\n",
       "\n",
       "    var fmt_picker = $('<select/>');\n",
       "    fmt_picker.addClass('mpl-toolbar-option ui-widget ui-widget-content');\n",
       "    fmt_picker_span.append(fmt_picker);\n",
       "    nav_element.append(fmt_picker_span);\n",
       "    this.format_dropdown = fmt_picker[0];\n",
       "\n",
       "    for (var ind in mpl.extensions) {\n",
       "        var fmt = mpl.extensions[ind];\n",
       "        var option = $(\n",
       "            '<option/>', {selected: fmt === mpl.default_extension}).html(fmt);\n",
       "        fmt_picker.append(option)\n",
       "    }\n",
       "\n",
       "    // Add hover states to the ui-buttons\n",
       "    $( \".ui-button\" ).hover(\n",
       "        function() { $(this).addClass(\"ui-state-hover\");},\n",
       "        function() { $(this).removeClass(\"ui-state-hover\");}\n",
       "    );\n",
       "\n",
       "    var status_bar = $('<span class=\"mpl-message\"/>');\n",
       "    nav_element.append(status_bar);\n",
       "    this.message = status_bar[0];\n",
       "}\n",
       "\n",
       "mpl.figure.prototype.request_resize = function(x_pixels, y_pixels) {\n",
       "    // Request matplotlib to resize the figure. Matplotlib will then trigger a resize in the client,\n",
       "    // which will in turn request a refresh of the image.\n",
       "    this.send_message('resize', {'width': x_pixels, 'height': y_pixels});\n",
       "}\n",
       "\n",
       "mpl.figure.prototype.send_message = function(type, properties) {\n",
       "    properties['type'] = type;\n",
       "    properties['figure_id'] = this.id;\n",
       "    this.ws.send(JSON.stringify(properties));\n",
       "}\n",
       "\n",
       "mpl.figure.prototype.send_draw_message = function() {\n",
       "    if (!this.waiting) {\n",
       "        this.waiting = true;\n",
       "        this.ws.send(JSON.stringify({type: \"draw\", figure_id: this.id}));\n",
       "    }\n",
       "}\n",
       "\n",
       "\n",
       "mpl.figure.prototype.handle_save = function(fig, msg) {\n",
       "    var format_dropdown = fig.format_dropdown;\n",
       "    var format = format_dropdown.options[format_dropdown.selectedIndex].value;\n",
       "    fig.ondownload(fig, format);\n",
       "}\n",
       "\n",
       "\n",
       "mpl.figure.prototype.handle_resize = function(fig, msg) {\n",
       "    var size = msg['size'];\n",
       "    if (size[0] != fig.canvas.width || size[1] != fig.canvas.height) {\n",
       "        fig._resize_canvas(size[0], size[1]);\n",
       "        fig.send_message(\"refresh\", {});\n",
       "    };\n",
       "}\n",
       "\n",
       "mpl.figure.prototype.handle_rubberband = function(fig, msg) {\n",
       "    var x0 = msg['x0'] / mpl.ratio;\n",
       "    var y0 = (fig.canvas.height - msg['y0']) / mpl.ratio;\n",
       "    var x1 = msg['x1'] / mpl.ratio;\n",
       "    var y1 = (fig.canvas.height - msg['y1']) / mpl.ratio;\n",
       "    x0 = Math.floor(x0) + 0.5;\n",
       "    y0 = Math.floor(y0) + 0.5;\n",
       "    x1 = Math.floor(x1) + 0.5;\n",
       "    y1 = Math.floor(y1) + 0.5;\n",
       "    var min_x = Math.min(x0, x1);\n",
       "    var min_y = Math.min(y0, y1);\n",
       "    var width = Math.abs(x1 - x0);\n",
       "    var height = Math.abs(y1 - y0);\n",
       "\n",
       "    fig.rubberband_context.clearRect(\n",
       "        0, 0, fig.canvas.width, fig.canvas.height);\n",
       "\n",
       "    fig.rubberband_context.strokeRect(min_x, min_y, width, height);\n",
       "}\n",
       "\n",
       "mpl.figure.prototype.handle_figure_label = function(fig, msg) {\n",
       "    // Updates the figure title.\n",
       "    fig.header.textContent = msg['label'];\n",
       "}\n",
       "\n",
       "mpl.figure.prototype.handle_cursor = function(fig, msg) {\n",
       "    var cursor = msg['cursor'];\n",
       "    switch(cursor)\n",
       "    {\n",
       "    case 0:\n",
       "        cursor = 'pointer';\n",
       "        break;\n",
       "    case 1:\n",
       "        cursor = 'default';\n",
       "        break;\n",
       "    case 2:\n",
       "        cursor = 'crosshair';\n",
       "        break;\n",
       "    case 3:\n",
       "        cursor = 'move';\n",
       "        break;\n",
       "    }\n",
       "    fig.rubberband_canvas.style.cursor = cursor;\n",
       "}\n",
       "\n",
       "mpl.figure.prototype.handle_message = function(fig, msg) {\n",
       "    fig.message.textContent = msg['message'];\n",
       "}\n",
       "\n",
       "mpl.figure.prototype.handle_draw = function(fig, msg) {\n",
       "    // Request the server to send over a new figure.\n",
       "    fig.send_draw_message();\n",
       "}\n",
       "\n",
       "mpl.figure.prototype.handle_image_mode = function(fig, msg) {\n",
       "    fig.image_mode = msg['mode'];\n",
       "}\n",
       "\n",
       "mpl.figure.prototype.updated_canvas_event = function() {\n",
       "    // Called whenever the canvas gets updated.\n",
       "    this.send_message(\"ack\", {});\n",
       "}\n",
       "\n",
       "// A function to construct a web socket function for onmessage handling.\n",
       "// Called in the figure constructor.\n",
       "mpl.figure.prototype._make_on_message_function = function(fig) {\n",
       "    return function socket_on_message(evt) {\n",
       "        if (evt.data instanceof Blob) {\n",
       "            /* FIXME: We get \"Resource interpreted as Image but\n",
       "             * transferred with MIME type text/plain:\" errors on\n",
       "             * Chrome.  But how to set the MIME type?  It doesn't seem\n",
       "             * to be part of the websocket stream */\n",
       "            evt.data.type = \"image/png\";\n",
       "\n",
       "            /* Free the memory for the previous frames */\n",
       "            if (fig.imageObj.src) {\n",
       "                (window.URL || window.webkitURL).revokeObjectURL(\n",
       "                    fig.imageObj.src);\n",
       "            }\n",
       "\n",
       "            fig.imageObj.src = (window.URL || window.webkitURL).createObjectURL(\n",
       "                evt.data);\n",
       "            fig.updated_canvas_event();\n",
       "            fig.waiting = false;\n",
       "            return;\n",
       "        }\n",
       "        else if (typeof evt.data === 'string' && evt.data.slice(0, 21) == \"data:image/png;base64\") {\n",
       "            fig.imageObj.src = evt.data;\n",
       "            fig.updated_canvas_event();\n",
       "            fig.waiting = false;\n",
       "            return;\n",
       "        }\n",
       "\n",
       "        var msg = JSON.parse(evt.data);\n",
       "        var msg_type = msg['type'];\n",
       "\n",
       "        // Call the  \"handle_{type}\" callback, which takes\n",
       "        // the figure and JSON message as its only arguments.\n",
       "        try {\n",
       "            var callback = fig[\"handle_\" + msg_type];\n",
       "        } catch (e) {\n",
       "            console.log(\"No handler for the '\" + msg_type + \"' message type: \", msg);\n",
       "            return;\n",
       "        }\n",
       "\n",
       "        if (callback) {\n",
       "            try {\n",
       "                // console.log(\"Handling '\" + msg_type + \"' message: \", msg);\n",
       "                callback(fig, msg);\n",
       "            } catch (e) {\n",
       "                console.log(\"Exception inside the 'handler_\" + msg_type + \"' callback:\", e, e.stack, msg);\n",
       "            }\n",
       "        }\n",
       "    };\n",
       "}\n",
       "\n",
       "// from http://stackoverflow.com/questions/1114465/getting-mouse-location-in-canvas\n",
       "mpl.findpos = function(e) {\n",
       "    //this section is from http://www.quirksmode.org/js/events_properties.html\n",
       "    var targ;\n",
       "    if (!e)\n",
       "        e = window.event;\n",
       "    if (e.target)\n",
       "        targ = e.target;\n",
       "    else if (e.srcElement)\n",
       "        targ = e.srcElement;\n",
       "    if (targ.nodeType == 3) // defeat Safari bug\n",
       "        targ = targ.parentNode;\n",
       "\n",
       "    // jQuery normalizes the pageX and pageY\n",
       "    // pageX,Y are the mouse positions relative to the document\n",
       "    // offset() returns the position of the element relative to the document\n",
       "    var x = e.pageX - $(targ).offset().left;\n",
       "    var y = e.pageY - $(targ).offset().top;\n",
       "\n",
       "    return {\"x\": x, \"y\": y};\n",
       "};\n",
       "\n",
       "/*\n",
       " * return a copy of an object with only non-object keys\n",
       " * we need this to avoid circular references\n",
       " * http://stackoverflow.com/a/24161582/3208463\n",
       " */\n",
       "function simpleKeys (original) {\n",
       "  return Object.keys(original).reduce(function (obj, key) {\n",
       "    if (typeof original[key] !== 'object')\n",
       "        obj[key] = original[key]\n",
       "    return obj;\n",
       "  }, {});\n",
       "}\n",
       "\n",
       "mpl.figure.prototype.mouse_event = function(event, name) {\n",
       "    var canvas_pos = mpl.findpos(event)\n",
       "\n",
       "    if (name === 'button_press')\n",
       "    {\n",
       "        this.canvas.focus();\n",
       "        this.canvas_div.focus();\n",
       "    }\n",
       "\n",
       "    var x = canvas_pos.x * mpl.ratio;\n",
       "    var y = canvas_pos.y * mpl.ratio;\n",
       "\n",
       "    this.send_message(name, {x: x, y: y, button: event.button,\n",
       "                             step: event.step,\n",
       "                             guiEvent: simpleKeys(event)});\n",
       "\n",
       "    /* This prevents the web browser from automatically changing to\n",
       "     * the text insertion cursor when the button is pressed.  We want\n",
       "     * to control all of the cursor setting manually through the\n",
       "     * 'cursor' event from matplotlib */\n",
       "    event.preventDefault();\n",
       "    return false;\n",
       "}\n",
       "\n",
       "mpl.figure.prototype._key_event_extra = function(event, name) {\n",
       "    // Handle any extra behaviour associated with a key event\n",
       "}\n",
       "\n",
       "mpl.figure.prototype.key_event = function(event, name) {\n",
       "\n",
       "    // Prevent repeat events\n",
       "    if (name == 'key_press')\n",
       "    {\n",
       "        if (event.which === this._key)\n",
       "            return;\n",
       "        else\n",
       "            this._key = event.which;\n",
       "    }\n",
       "    if (name == 'key_release')\n",
       "        this._key = null;\n",
       "\n",
       "    var value = '';\n",
       "    if (event.ctrlKey && event.which != 17)\n",
       "        value += \"ctrl+\";\n",
       "    if (event.altKey && event.which != 18)\n",
       "        value += \"alt+\";\n",
       "    if (event.shiftKey && event.which != 16)\n",
       "        value += \"shift+\";\n",
       "\n",
       "    value += 'k';\n",
       "    value += event.which.toString();\n",
       "\n",
       "    this._key_event_extra(event, name);\n",
       "\n",
       "    this.send_message(name, {key: value,\n",
       "                             guiEvent: simpleKeys(event)});\n",
       "    return false;\n",
       "}\n",
       "\n",
       "mpl.figure.prototype.toolbar_button_onclick = function(name) {\n",
       "    if (name == 'download') {\n",
       "        this.handle_save(this, null);\n",
       "    } else {\n",
       "        this.send_message(\"toolbar_button\", {name: name});\n",
       "    }\n",
       "};\n",
       "\n",
       "mpl.figure.prototype.toolbar_button_onmouseover = function(tooltip) {\n",
       "    this.message.textContent = tooltip;\n",
       "};\n",
       "mpl.toolbar_items = [[\"Home\", \"Reset original view\", \"fa fa-home icon-home\", \"home\"], [\"Back\", \"Back to  previous view\", \"fa fa-arrow-left icon-arrow-left\", \"back\"], [\"Forward\", \"Forward to next view\", \"fa fa-arrow-right icon-arrow-right\", \"forward\"], [\"\", \"\", \"\", \"\"], [\"Pan\", \"Pan axes with left mouse, zoom with right\", \"fa fa-arrows icon-move\", \"pan\"], [\"Zoom\", \"Zoom to rectangle\", \"fa fa-square-o icon-check-empty\", \"zoom\"], [\"\", \"\", \"\", \"\"], [\"Download\", \"Download plot\", \"fa fa-floppy-o icon-save\", \"download\"]];\n",
       "\n",
       "mpl.extensions = [\"eps\", \"pdf\", \"png\", \"ps\", \"raw\", \"svg\"];\n",
       "\n",
       "mpl.default_extension = \"png\";var comm_websocket_adapter = function(comm) {\n",
       "    // Create a \"websocket\"-like object which calls the given IPython comm\n",
       "    // object with the appropriate methods. Currently this is a non binary\n",
       "    // socket, so there is still some room for performance tuning.\n",
       "    var ws = {};\n",
       "\n",
       "    ws.close = function() {\n",
       "        comm.close()\n",
       "    };\n",
       "    ws.send = function(m) {\n",
       "        //console.log('sending', m);\n",
       "        comm.send(m);\n",
       "    };\n",
       "    // Register the callback with on_msg.\n",
       "    comm.on_msg(function(msg) {\n",
       "        //console.log('receiving', msg['content']['data'], msg);\n",
       "        // Pass the mpl event to the overriden (by mpl) onmessage function.\n",
       "        ws.onmessage(msg['content']['data'])\n",
       "    });\n",
       "    return ws;\n",
       "}\n",
       "\n",
       "mpl.mpl_figure_comm = function(comm, msg) {\n",
       "    // This is the function which gets called when the mpl process\n",
       "    // starts-up an IPython Comm through the \"matplotlib\" channel.\n",
       "\n",
       "    var id = msg.content.data.id;\n",
       "    // Get hold of the div created by the display call when the Comm\n",
       "    // socket was opened in Python.\n",
       "    var element = $(\"#\" + id);\n",
       "    var ws_proxy = comm_websocket_adapter(comm)\n",
       "\n",
       "    function ondownload(figure, format) {\n",
       "        window.open(figure.imageObj.src);\n",
       "    }\n",
       "\n",
       "    var fig = new mpl.figure(id, ws_proxy,\n",
       "                           ondownload,\n",
       "                           element.get(0));\n",
       "\n",
       "    // Call onopen now - mpl needs it, as it is assuming we've passed it a real\n",
       "    // web socket which is closed, not our websocket->open comm proxy.\n",
       "    ws_proxy.onopen();\n",
       "\n",
       "    fig.parent_element = element.get(0);\n",
       "    fig.cell_info = mpl.find_output_cell(\"<div id='\" + id + \"'></div>\");\n",
       "    if (!fig.cell_info) {\n",
       "        console.error(\"Failed to find cell for figure\", id, fig);\n",
       "        return;\n",
       "    }\n",
       "\n",
       "    var output_index = fig.cell_info[2]\n",
       "    var cell = fig.cell_info[0];\n",
       "\n",
       "};\n",
       "\n",
       "mpl.figure.prototype.handle_close = function(fig, msg) {\n",
       "    var width = fig.canvas.width/mpl.ratio\n",
       "    fig.root.unbind('remove')\n",
       "\n",
       "    // Update the output cell to use the data from the current canvas.\n",
       "    fig.push_to_output();\n",
       "    var dataURL = fig.canvas.toDataURL();\n",
       "    // Re-enable the keyboard manager in IPython - without this line, in FF,\n",
       "    // the notebook keyboard shortcuts fail.\n",
       "    IPython.keyboard_manager.enable()\n",
       "    $(fig.parent_element).html('<img src=\"' + dataURL + '\" width=\"' + width + '\">');\n",
       "    fig.close_ws(fig, msg);\n",
       "}\n",
       "\n",
       "mpl.figure.prototype.close_ws = function(fig, msg){\n",
       "    fig.send_message('closing', msg);\n",
       "    // fig.ws.close()\n",
       "}\n",
       "\n",
       "mpl.figure.prototype.push_to_output = function(remove_interactive) {\n",
       "    // Turn the data on the canvas into data in the output cell.\n",
       "    var width = this.canvas.width/mpl.ratio\n",
       "    var dataURL = this.canvas.toDataURL();\n",
       "    this.cell_info[1]['text/html'] = '<img src=\"' + dataURL + '\" width=\"' + width + '\">';\n",
       "}\n",
       "\n",
       "mpl.figure.prototype.updated_canvas_event = function() {\n",
       "    // Tell IPython that the notebook contents must change.\n",
       "    IPython.notebook.set_dirty(true);\n",
       "    this.send_message(\"ack\", {});\n",
       "    var fig = this;\n",
       "    // Wait a second, then push the new image to the DOM so\n",
       "    // that it is saved nicely (might be nice to debounce this).\n",
       "    setTimeout(function () { fig.push_to_output() }, 1000);\n",
       "}\n",
       "\n",
       "mpl.figure.prototype._init_toolbar = function() {\n",
       "    var fig = this;\n",
       "\n",
       "    var nav_element = $('<div/>')\n",
       "    nav_element.attr('style', 'width: 100%');\n",
       "    this.root.append(nav_element);\n",
       "\n",
       "    // Define a callback function for later on.\n",
       "    function toolbar_event(event) {\n",
       "        return fig.toolbar_button_onclick(event['data']);\n",
       "    }\n",
       "    function toolbar_mouse_event(event) {\n",
       "        return fig.toolbar_button_onmouseover(event['data']);\n",
       "    }\n",
       "\n",
       "    for(var toolbar_ind in mpl.toolbar_items){\n",
       "        var name = mpl.toolbar_items[toolbar_ind][0];\n",
       "        var tooltip = mpl.toolbar_items[toolbar_ind][1];\n",
       "        var image = mpl.toolbar_items[toolbar_ind][2];\n",
       "        var method_name = mpl.toolbar_items[toolbar_ind][3];\n",
       "\n",
       "        if (!name) { continue; };\n",
       "\n",
       "        var button = $('<button class=\"btn btn-default\" href=\"#\" title=\"' + name + '\"><i class=\"fa ' + image + ' fa-lg\"></i></button>');\n",
       "        button.click(method_name, toolbar_event);\n",
       "        button.mouseover(tooltip, toolbar_mouse_event);\n",
       "        nav_element.append(button);\n",
       "    }\n",
       "\n",
       "    // Add the status bar.\n",
       "    var status_bar = $('<span class=\"mpl-message\" style=\"text-align:right; float: right;\"/>');\n",
       "    nav_element.append(status_bar);\n",
       "    this.message = status_bar[0];\n",
       "\n",
       "    // Add the close button to the window.\n",
       "    var buttongrp = $('<div class=\"btn-group inline pull-right\"></div>');\n",
       "    var button = $('<button class=\"btn btn-mini btn-primary\" href=\"#\" title=\"Stop Interaction\"><i class=\"fa fa-power-off icon-remove icon-large\"></i></button>');\n",
       "    button.click(function (evt) { fig.handle_close(fig, {}); } );\n",
       "    button.mouseover('Stop Interaction', toolbar_mouse_event);\n",
       "    buttongrp.append(button);\n",
       "    var titlebar = this.root.find($('.ui-dialog-titlebar'));\n",
       "    titlebar.prepend(buttongrp);\n",
       "}\n",
       "\n",
       "mpl.figure.prototype._root_extra_style = function(el){\n",
       "    var fig = this\n",
       "    el.on(\"remove\", function(){\n",
       "\tfig.close_ws(fig, {});\n",
       "    });\n",
       "}\n",
       "\n",
       "mpl.figure.prototype._canvas_extra_style = function(el){\n",
       "    // this is important to make the div 'focusable\n",
       "    el.attr('tabindex', 0)\n",
       "    // reach out to IPython and tell the keyboard manager to turn it's self\n",
       "    // off when our div gets focus\n",
       "\n",
       "    // location in version 3\n",
       "    if (IPython.notebook.keyboard_manager) {\n",
       "        IPython.notebook.keyboard_manager.register_events(el);\n",
       "    }\n",
       "    else {\n",
       "        // location in version 2\n",
       "        IPython.keyboard_manager.register_events(el);\n",
       "    }\n",
       "\n",
       "}\n",
       "\n",
       "mpl.figure.prototype._key_event_extra = function(event, name) {\n",
       "    var manager = IPython.notebook.keyboard_manager;\n",
       "    if (!manager)\n",
       "        manager = IPython.keyboard_manager;\n",
       "\n",
       "    // Check for shift+enter\n",
       "    if (event.shiftKey && event.which == 13) {\n",
       "        this.canvas_div.blur();\n",
       "        // select the cell after this one\n",
       "        var index = IPython.notebook.find_cell_index(this.cell_info[0]);\n",
       "        IPython.notebook.select(index + 1);\n",
       "    }\n",
       "}\n",
       "\n",
       "mpl.figure.prototype.handle_save = function(fig, msg) {\n",
       "    fig.ondownload(fig, null);\n",
       "}\n",
       "\n",
       "\n",
       "mpl.find_output_cell = function(html_output) {\n",
       "    // Return the cell and output element which can be found *uniquely* in the notebook.\n",
       "    // Note - this is a bit hacky, but it is done because the \"notebook_saving.Notebook\"\n",
       "    // IPython event is triggered only after the cells have been serialised, which for\n",
       "    // our purposes (turning an active figure into a static one), is too late.\n",
       "    var cells = IPython.notebook.get_cells();\n",
       "    var ncells = cells.length;\n",
       "    for (var i=0; i<ncells; i++) {\n",
       "        var cell = cells[i];\n",
       "        if (cell.cell_type === 'code'){\n",
       "            for (var j=0; j<cell.output_area.outputs.length; j++) {\n",
       "                var data = cell.output_area.outputs[j];\n",
       "                if (data.data) {\n",
       "                    // IPython >= 3 moved mimebundle to data attribute of output\n",
       "                    data = data.data;\n",
       "                }\n",
       "                if (data['text/html'] == html_output) {\n",
       "                    return [cell, data, j];\n",
       "                }\n",
       "            }\n",
       "        }\n",
       "    }\n",
       "}\n",
       "\n",
       "// Register the function which deals with the matplotlib target/channel.\n",
       "// The kernel may be null if the page has been refreshed.\n",
       "if (IPython.notebook.kernel != null) {\n",
       "    IPython.notebook.kernel.comm_manager.register_target('matplotlib', mpl.mpl_figure_comm);\n",
       "}\n"
      ],
      "text/plain": [
       "<IPython.core.display.Javascript object>"
      ]
     },
     "metadata": {},
     "output_type": "display_data"
    },
    {
     "data": {
      "text/html": [
       "<img src=\"data:image/png;base64,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\" width=\"640\">"
      ],
      "text/plain": [
       "<IPython.core.display.HTML object>"
      ]
     },
     "metadata": {},
     "output_type": "display_data"
    }
   ],
   "source": [
    "lake.heater_1.control_mode(\"Manual PID\")\n",
    "lake.heater_1.output_range(\"Low (2.5W)\")\n",
    "lake.heater_1.input_channel(\"A\")\n",
    "# The following seem to be good settings for our setup\n",
    "lake.heater_1.P(400)\n",
    "lake.heater_1.I(40)\n",
    "lake.heater_1.D(10)\n",
    "\n",
    "\n",
    "lake.heater_1.setpoint(15.0)  # <- temperature \n",
    "live_plot_temperature_reading(lake.sensor_a, n_reads=400)"
   ]
  }
 ],
 "metadata": {
  "kernelspec": {
   "display_name": "Python 3",
   "language": "python",
   "name": "python3"
  },
  "language_info": {
   "codemirror_mode": {
    "name": "ipython",
    "version": 3
   },
   "file_extension": ".py",
   "mimetype": "text/x-python",
   "name": "python",
   "nbconvert_exporter": "python",
   "pygments_lexer": "ipython3",
   "version": "3.6.6"
  }
 },
 "nbformat": 4,
 "nbformat_minor": 2
}
