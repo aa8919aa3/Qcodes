{
 "cells": [
  {
   "cell_type": "markdown",
   "metadata": {},
   "source": [
    "# Qcodes example with Keysight 344xxA"
   ]
  },
  {
   "cell_type": "markdown",
   "metadata": {},
   "source": [
    "`344xxA` models of Keysight digital multimeters have similar QCoDeS drivers. In this tutorial, `Keysight_34465A` is chosen for showcasing the usage of the instrument.\n",
    "\n",
    "Note however that not every feature/parameter is available on all `344xxA` models. This, when possible, is reflected in the instantiated driver object. Also note that models like `34465A` have options (like `DIG` and `MEM`) that can either be enabled or disabled on a particular instrument; this also has impact on availability of some features/parameters and/or their settings. In general, refer to the instrument's manual for detailed information.\n",
    "\n",
    "The driver does not cover all the features of the instrument because it is being mostly used for voltage DC measurements. Contribution is welcome."
   ]
  },
  {
   "cell_type": "code",
   "execution_count": 1,
   "metadata": {},
   "outputs": [],
   "source": [
    "import time\n",
    "\n",
    "import qcodes\n",
    "from qcodes.instrument_drivers.Keysight.Keysight_34465A import Keysight_34465A"
   ]
  },
  {
   "cell_type": "code",
   "execution_count": 2,
   "metadata": {},
   "outputs": [
    {
     "name": "stdout",
     "output_type": "stream",
     "text": [
      "Connected to: Keysight Technologies 34465A (serial:MY57504787, firmware:A.02.16-02.40-02.16-00.51-03-01) in 0.48s\n"
     ]
    }
   ],
   "source": [
    "dmm = Keysight_34465A('dmm', 'USB0::10893::257::MY57504787::0::INSTR')"
   ]
  },
  {
   "cell_type": "markdown",
   "metadata": {},
   "source": [
    "## Parameters overview:\n",
    "\n",
    "Here we present __some__ of the parameters of the driver.\n",
    "\n",
    "* Single-point measurement\n",
    "  * `dmm.volt` - measure one voltage point now (note: may not always work)\n",
    "* Range settings\n",
    "  * `dmm.range`\n",
    "  * `dmm.autorange`\n",
    "* Triggering settings\n",
    "  * `dmm.trigger_source`\n",
    "  * `dmm.trigger_delay`\n",
    "  * `dmm.auto_trigger_delay_enabled`\n",
    "  * `dmm.trigger_count`\n",
    "  * `dmm.trigger_slope`\n",
    "  * `dmm.trigger_level`\n",
    "* Sample settings\n",
    "  * `dmm.sample_count`\n",
    "  * `dmm.sample_source`\n",
    "  * `dmm.sample_timer`\n",
    "* Display control\n",
    "  * `dmm.display_text`\n",
    "  * `dmm.display_clear`\n",
    "  * `dmm.display_enabled`\n",
    "* Related measurement accuracy\n",
    "  * `dmm.NPLC`\n",
    "  * `dmm.resolution`\n",
    "  * `dmm.line_frequency`\n",
    "  * `dmm.aperture_mode`\n",
    "  * `dmm.aperture_time`\n",
    "  * `dmm.autozero`\n",
    "  \n",
    "Use `dmm.parameters` (or other ways) to explore all the parameters."
   ]
  },
  {
   "cell_type": "markdown",
   "metadata": {},
   "source": [
    "## Single value reading\n",
    "\n",
    "If one simpy wants to measure a single voltage value right now, the convenient `volt` parameter can be used.\n",
    "\n",
    "Note that it may not work for some configurations of the instrument, for example, when `sample_count` is not `1`. Later in this notebook, we will present more prowerful and robust ways of performing measurements."
   ]
  },
  {
   "cell_type": "code",
   "execution_count": 3,
   "metadata": {},
   "outputs": [
    {
     "data": {
      "text/plain": [
       "0.00927792071"
      ]
     },
     "execution_count": 3,
     "metadata": {},
     "output_type": "execute_result"
    }
   ],
   "source": [
    "dmm.volt()"
   ]
  },
  {
   "cell_type": "markdown",
   "metadata": {},
   "source": [
    "## Multivalue triggered measurements"
   ]
  },
  {
   "cell_type": "markdown",
   "metadata": {},
   "source": [
    "__NOTE__: Refer to the instrument manual for more information on how to perform measurements with the instrument; here, only the most basic and frequently used ones are demonstated.\n",
    "\n",
    "Measurements with the instrument are performed in the following way: the instrument's settings are set for a particular kind of measurement, then the measurement is started/initialized, then after all the data has been acquired, it is retrieved from the instrument. Below is an example of such a measurement."
   ]
  },
  {
   "cell_type": "code",
   "execution_count": 4,
   "metadata": {},
   "outputs": [],
   "source": [
    "# Use `range`, `autorange` parameters or `autorange_once` method\n",
    "# to set the measurement range\n",
    "dmm.autorange_once()"
   ]
  },
  {
   "cell_type": "code",
   "execution_count": 5,
   "metadata": {},
   "outputs": [],
   "source": [
    "# Todo\n",
    "# - document measurement process with `read` and `fetch`\n",
    "#   (consult with experimentalists)\n",
    "# - add info on how to create array of setpoints \n",
    "#   (inst.sample_timer has resolution of some us, \n",
    "#    hence it's important to keep that in mind for setpoint values)"
   ]
  },
  {
   "cell_type": "code",
   "execution_count": 7,
   "metadata": {},
   "outputs": [
    {
     "data": {
      "text/plain": [
       "(array([0.01263095, 0.01261663, 0.01246853]), ((0.0, 6.75e-05, 0.000135),))"
      ]
     },
     "execution_count": 7,
     "metadata": {},
     "output_type": "execute_result"
    }
   ],
   "source": [
    "# REFERENCE MEASUREMENT SEQUENCE>>>>\n",
    "\n",
    "\n",
    "dmm.sample_count(3)\n",
    "\n",
    "# PREPARE\n",
    "\n",
    "n = dmm.sample_count()\n",
    "\n",
    "# ensure correct instrument settings\n",
    "\n",
    "dmm.aperture_mode('OFF')  # aperture mode seems slower ON than OFF\n",
    "dmm.autorange('OFF')\n",
    "\n",
    "dmm.trigger_count(1)\n",
    "dmm.trigger_delay(0)\n",
    "\n",
    "dmm.sample_count_pretrigger(0)\n",
    "\n",
    "# Final step\n",
    "\n",
    "time_per_point = dmm.sample_timer_minimum()\n",
    "\n",
    "dmm.sample_timer(time_per_point)\n",
    "dmm.sample_source('TIM')\n",
    "\n",
    "setpoints = (tuple(np.linspace(0, n*time_per_point, n)),)\n",
    "shape = (n,)\n",
    "\n",
    "# MEASURE\n",
    "\n",
    "n = dmm.sample_count()\n",
    "\n",
    "# Ensure that the measurement doesn't time out\n",
    "# TODO (WilliamHPNielsen): What if we wait really long for a trigger?\n",
    "old_timeout = dmm.visa_handle.timeout\n",
    "dmm.visa_handle.timeout = old_timeout + n * time_per_point * 1.2 * 1000\n",
    "\n",
    "# Turn off the display to increase measurement speed\n",
    "dmm.display_text(f'Acquiring {n} samples')\n",
    "\n",
    "dmm.init_measurement()\n",
    "\n",
    "numvals = dmm.fetch()\n",
    "\n",
    "dmm.visa_handle.timeout = old_timeout\n",
    "\n",
    "dmm.display_clear()\n",
    "\n",
    "numvals, setpoints"
   ]
  },
  {
   "cell_type": "markdown",
   "metadata": {},
   "source": [
    "## Special values of some parameters"
   ]
  },
  {
   "cell_type": "markdown",
   "metadata": {},
   "source": [
    "Some parameters can be set to special values like `MIN`/`MAX`/`DEF` which usually mean minimum/maximum/default, respectively. \n",
    "\n",
    "In order to obtain the actual value of the parameter that gets set when setting it to one of these special values, just call the get method of the parameter."
   ]
  },
  {
   "cell_type": "code",
   "execution_count": 8,
   "metadata": {},
   "outputs": [
    {
     "data": {
      "text/plain": [
       "3600.0"
      ]
     },
     "execution_count": 8,
     "metadata": {},
     "output_type": "execute_result"
    }
   ],
   "source": [
    "# Find out what the maximum value of `sample_timer` can be\n",
    "dmm.sample_timer('MAX')\n",
    "dmm.sample_timer()"
   ]
  },
  {
   "cell_type": "code",
   "execution_count": 9,
   "metadata": {},
   "outputs": [
    {
     "data": {
      "text/plain": [
       "1.0"
      ]
     },
     "execution_count": 9,
     "metadata": {},
     "output_type": "execute_result"
    }
   ],
   "source": [
    "# Find out what the default value of `sample_timer` is\n",
    "dmm.sample_timer('DEF')\n",
    "dmm.sample_timer()"
   ]
  },
  {
   "cell_type": "code",
   "execution_count": 10,
   "metadata": {},
   "outputs": [
    {
     "data": {
      "text/plain": [
       "4.5e-05"
      ]
     },
     "execution_count": 10,
     "metadata": {},
     "output_type": "execute_result"
    }
   ],
   "source": [
    "# Find out what the recommended minumum value of `sample_timer` is\n",
    "dmm.sample_timer('MIN')\n",
    "dmm.sample_timer()"
   ]
  },
  {
   "cell_type": "code",
   "execution_count": 11,
   "metadata": {},
   "outputs": [
    {
     "data": {
      "text/plain": [
       "4.5e-05"
      ]
     },
     "execution_count": 11,
     "metadata": {},
     "output_type": "execute_result"
    }
   ],
   "source": [
    "# Alternatively, if available, use a conveniently implemented\n",
    "# get-only parameter to find out the actual value,\n",
    "# for example, for MIN value of `sample_timer` there is such\n",
    "# a convenient get-only parameter:\n",
    "dmm.sample_timer_minimum()"
   ]
  },
  {
   "cell_type": "markdown",
   "metadata": {},
   "source": [
    "## Display state impacts command execution speed"
   ]
  },
  {
   "cell_type": "markdown",
   "metadata": {},
   "source": [
    "Although it is indeed just nice to be able to display useful text on the screen of the instrument, it turn out that disabling the display (or making it display does text instead of all the indicators and values) improves command execution speed from the remote interface and provides basic security (quoted from the instrument's manual).\n",
    "\n",
    "Hence, the driver provides `display_text` parameter that displays a given text on the insrturment, and a `display_clear` method that clears the text from display.\n",
    "\n",
    "The driver also provides `display_enabled` parameter. When it is set to `False`, the state of the display is such that it does not show anything. Note, however, that displaying text is still possible when the `display_enabled` is `False` (when `display_enabled` is `False`, `display_clear` clears the text from the screen but does not enable it)."
   ]
  },
  {
   "cell_type": "code",
   "execution_count": 12,
   "metadata": {},
   "outputs": [],
   "source": [
    "# Displays the text\n",
    "dmm.display_text('Hello, World!')"
   ]
  },
  {
   "cell_type": "code",
   "execution_count": 13,
   "metadata": {},
   "outputs": [],
   "source": [
    "# Returns display to its normal state\n",
    "dmm.display_clear()"
   ]
  },
  {
   "cell_type": "code",
   "execution_count": 14,
   "metadata": {},
   "outputs": [],
   "source": [
    "# Note that a call to `display_clear` also updates \n",
    "# the value of the `display_text` parameter:\n",
    "assert dmm.display_text() == ''"
   ]
  },
  {
   "cell_type": "code",
   "execution_count": 15,
   "metadata": {},
   "outputs": [],
   "source": [
    "# Display can also be cleared by setting \n",
    "# `display_text` to an empty string\n",
    "dmm.display_text('some text')  # Displays some text\n",
    "time.sleep(0.5)\n",
    "dmm.display_text('')  # Returns display to its normal state"
   ]
  },
  {
   "cell_type": "code",
   "execution_count": 16,
   "metadata": {},
   "outputs": [],
   "source": [
    "# Disables the display, which makes it turn black\n",
    "dmm.display_enabled(False)"
   ]
  },
  {
   "cell_type": "code",
   "execution_count": 17,
   "metadata": {},
   "outputs": [],
   "source": [
    "# Shows some text on a disabled display\n",
    "dmm.display_text(\"i'm disabled but still showing text\")"
   ]
  },
  {
   "cell_type": "code",
   "execution_count": 18,
   "metadata": {},
   "outputs": [],
   "source": [
    "# Enabling display in this state \n",
    "# won't change what's being displayed\n",
    "dmm.display_enabled(True)"
   ]
  },
  {
   "cell_type": "code",
   "execution_count": 19,
   "metadata": {},
   "outputs": [],
   "source": [
    "# ... but since the display is now enabled,\n",
    "# clearing the display will not only remove the text\n",
    "# but also show all the normal display indicators.\n",
    "dmm.display_clear()"
   ]
  },
  {
   "cell_type": "markdown",
   "metadata": {},
   "source": [
    "## Error handling"
   ]
  },
  {
   "cell_type": "markdown",
   "metadata": {},
   "source": [
    "Use the following methods to read the error queue of the instrument. The instrument has an error queue of length up to 20 messages. The queue message retrieval is first-in-first-out."
   ]
  },
  {
   "cell_type": "code",
   "execution_count": 21,
   "metadata": {},
   "outputs": [
    {
     "data": {
      "text/plain": [
       "(0, 'No error')"
      ]
     },
     "execution_count": 21,
     "metadata": {},
     "output_type": "execute_result"
    }
   ],
   "source": [
    "# Retrieve the first (i.e. oldest) error message \n",
    "# in the queue (and thereby remove from the queue)\n",
    "dmm.error()"
   ]
  },
  {
   "cell_type": "code",
   "execution_count": 22,
   "metadata": {},
   "outputs": [],
   "source": [
    "# The entire queue can be flushed out\n",
    "# using `flush_error_queue` method.\n",
    "# Printing the messages in enabled by default\n",
    "# and can be disables with the `verbose` kwarg.\n",
    "\n",
    "# generate a few errors\n",
    "for _ in range(3):\n",
    "    dmm.write('produce an error!')"
   ]
  },
  {
   "cell_type": "code",
   "execution_count": 23,
   "metadata": {},
   "outputs": [
    {
     "name": "stdout",
     "output_type": "stream",
     "text": [
      "-113 Undefined header\n",
      "-113 Undefined header\n",
      "-113 Undefined header\n",
      "0 No error\n"
     ]
    }
   ],
   "source": [
    "dmm.flush_error_queue(verbose=True)"
   ]
  },
  {
   "cell_type": "markdown",
   "metadata": {},
   "source": [
    "## Using data_buffer for triggered multisample measurement (deprecated)"
   ]
  },
  {
   "cell_type": "markdown",
   "metadata": {},
   "source": [
    "__NOTE__: This approach is deprecated.\n",
    "\n",
    "One may use `data_buffer` `ArrayParameter` in order to perform a triggered measurement of a predefined number of samples with a single trigger that has not delay. The following code shows how to do it.\n",
    "\n",
    "__NOTE__: The reason this approach is deprecated is that the internal implementation of `data_buffer` is quite specific and sets up the instrument into a mode that is not generally useful. This is why it is recommended that the users use driver methods like `read` and `fetch` in order to implement the measurements. It is also up to user to decide to wrap his code into his own measurement function/routine or even a QCoDeS parameter for his own convenience."
   ]
  },
  {
   "cell_type": "code",
   "execution_count": 24,
   "metadata": {},
   "outputs": [],
   "source": [
    "# Set the trigger mode. For the sake of this example,\n",
    "# we are going to use \"immediate\" which will start measuring\n",
    "# right after `init_measurement` is called (it will be called\n",
    "# for you by `data_buffer`'s get method')\n",
    "dmm.trigger_source('IMM')"
   ]
  },
  {
   "cell_type": "code",
   "execution_count": 25,
   "metadata": {},
   "outputs": [],
   "source": [
    "# Set sample count to number of samples that\n",
    "# should be acquired\n",
    "dmm.sample_count(5)"
   ]
  },
  {
   "cell_type": "code",
   "execution_count": 26,
   "metadata": {},
   "outputs": [
    {
     "name": "stderr",
     "output_type": "stream",
     "text": [
      "C:\\Users\\a-miasta\\AppData\\Local\\Continuum\\anaconda3\\envs\\qcodes\\lib\\site-packages\\ipykernel_launcher.py:4: DeprecationWarning: The function \"prepare\" is deprecated, because the use of this ArrayParameter is limiting as it represents only a single way of performing measurements and performs preparations that are not generally applicable Use \"driver methods like `fetch` and `read` (together with other methods and parameters) and custom functions and parameters implemented on top of them\" as an alternative.\n",
      "  after removing the cwd from sys.path.\n"
     ]
    }
   ],
   "source": [
    "# One needs to prepare the `data_buffer` parameter\n",
    "# and the instrument for this measurement, otherwise\n",
    "# getting `data_buffer` will raise an exception\n",
    "dmm.data_buffer.prepare()"
   ]
  },
  {
   "cell_type": "code",
   "execution_count": 27,
   "metadata": {},
   "outputs": [],
   "source": [
    "# Finally perform the measurement,\n",
    "# and obtain the measured data\n",
    "# (note the text on the instrument's display\n",
    "# during the measurement)\n",
    "data = dmm.data_buffer()"
   ]
  },
  {
   "cell_type": "code",
   "execution_count": 28,
   "metadata": {},
   "outputs": [
    {
     "data": {
      "text/plain": [
       "array([0.01319693, 0.01314679, 0.01309664, 0.01305843, 0.01299873])"
      ]
     },
     "execution_count": 28,
     "metadata": {},
     "output_type": "execute_result"
    }
   ],
   "source": [
    "# Now, here's the measured data\n",
    "data"
   ]
  },
  {
   "cell_type": "code",
   "execution_count": 29,
   "metadata": {},
   "outputs": [
    {
     "data": {
      "text/plain": [
       "((0.0,\n",
       "  5.6250000000000005e-05,\n",
       "  0.00011250000000000001,\n",
       "  0.00016875,\n",
       "  0.00022500000000000002),)"
      ]
     },
     "execution_count": 29,
     "metadata": {},
     "output_type": "execute_result"
    }
   ],
   "source": [
    "# Here are the values of setpoints,\n",
    "# in this case its time in seconds when\n",
    "# each of the points have been measured relative\n",
    "# to the first point\n",
    "dmm.data_buffer.setpoints"
   ]
  },
  {
   "cell_type": "code",
   "execution_count": 30,
   "metadata": {},
   "outputs": [
    {
     "data": {
      "text/plain": [
       "(5,)"
      ]
     },
     "execution_count": 30,
     "metadata": {},
     "output_type": "execute_result"
    }
   ],
   "source": [
    "# The shape of the setpoints reflects\n",
    "# the number of samples\n",
    "dmm.data_buffer.shape"
   ]
  },
  {
   "cell_type": "code",
   "execution_count": 31,
   "metadata": {},
   "outputs": [
    {
     "data": {
      "text/plain": [
       "4.5e-05"
      ]
     },
     "execution_count": 31,
     "metadata": {},
     "output_type": "execute_result"
    }
   ],
   "source": [
    "# For internal use, the amount of time used for\n",
    "# measuring every point is saved into the following \n",
    "# attribute:\n",
    "dmm.data_buffer.time_per_point"
   ]
  },
  {
   "cell_type": "code",
   "execution_count": 32,
   "metadata": {
    "scrolled": true
   },
   "outputs": [
    {
     "data": {
      "text/plain": [
       "4.5e-05"
      ]
     },
     "execution_count": 32,
     "metadata": {},
     "output_type": "execute_result"
    }
   ],
   "source": [
    "# ... which is equal to the value of the\n",
    "# `sample_timer` parameter:\n",
    "dmm.sample_timer()"
   ]
  },
  {
   "cell_type": "code",
   "execution_count": null,
   "metadata": {},
   "outputs": [],
   "source": []
  }
 ],
 "metadata": {
  "kernelspec": {
   "display_name": "Python 3",
   "language": "python",
   "name": "python3"
  },
  "language_info": {
   "codemirror_mode": {
    "name": "ipython",
    "version": 3
   },
   "file_extension": ".py",
   "mimetype": "text/x-python",
   "name": "python",
   "nbconvert_exporter": "python",
   "pygments_lexer": "ipython3",
   "version": "3.6.7"
  },
  "nbsphinx": {
   "execute": "never"
  },
  "toc": {
   "base_numbering": 1,
   "nav_menu": {},
   "number_sections": true,
   "sideBar": true,
   "skip_h1_title": false,
   "title_cell": "Table of Contents",
   "title_sidebar": "Contents",
   "toc_cell": false,
   "toc_position": {},
   "toc_section_display": true,
   "toc_window_display": false
  },
  "varInspector": {
   "cols": {
    "lenName": 16,
    "lenType": 16,
    "lenVar": 40
   },
   "kernels_config": {
    "python": {
     "delete_cmd_postfix": "",
     "delete_cmd_prefix": "del ",
     "library": "var_list.py",
     "varRefreshCmd": "print(var_dic_list())"
    },
    "r": {
     "delete_cmd_postfix": ") ",
     "delete_cmd_prefix": "rm(",
     "library": "var_list.r",
     "varRefreshCmd": "cat(var_dic_list()) "
    }
   },
   "types_to_exclude": [
    "module",
    "function",
    "builtin_function_or_method",
    "instance",
    "_Feature"
   ],
   "window_display": false
  }
 },
 "nbformat": 4,
 "nbformat_minor": 2
}
