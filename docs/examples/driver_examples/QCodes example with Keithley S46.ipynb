{
 "cells": [
  {
   "cell_type": "code",
   "execution_count": 20,
   "metadata": {},
   "outputs": [],
   "source": [
    "from qcodes.instrument_drivers.tektronix.Keithley_s46 import S46, LockAcquisitionError"
   ]
  },
  {
   "cell_type": "code",
   "execution_count": 22,
   "metadata": {},
   "outputs": [
    {
     "name": "stdout",
     "output_type": "stream",
     "text": [
      "Connected to: KEITHLEY INSTRUMENTS INC. SYSTEM 46 (serial:1327388, firmware:A03) in 0.20s\n"
     ]
    }
   ],
   "source": [
    "s46 = S46(\"s2\", \"GPIB0::7::INSTR\")"
   ]
  },
  {
   "cell_type": "code",
   "execution_count": 3,
   "metadata": {},
   "outputs": [
    {
     "data": {
      "text/plain": [
       "[<S46Channel: s2_A1 of S46: s2>,\n",
       " <S46Channel: s2_B1 of S46: s2>,\n",
       " <S46Channel: s2_R8 of S46: s2>]"
      ]
     },
     "execution_count": 3,
     "metadata": {},
     "output_type": "execute_result"
    }
   ],
   "source": [
    "s46.get_closed_channels()"
   ]
  },
  {
   "cell_type": "code",
   "execution_count": 4,
   "metadata": {},
   "outputs": [
    {
     "data": {
      "text/plain": [
       "26"
      ]
     },
     "execution_count": 4,
     "metadata": {},
     "output_type": "execute_result"
    }
   ],
   "source": [
    "len(s46.channels)"
   ]
  },
  {
   "cell_type": "code",
   "execution_count": 5,
   "metadata": {},
   "outputs": [],
   "source": [
    "s46.A1.state(\"open\")"
   ]
  },
  {
   "cell_type": "code",
   "execution_count": 6,
   "metadata": {},
   "outputs": [
    {
     "data": {
      "text/plain": [
       "'open'"
      ]
     },
     "execution_count": 6,
     "metadata": {},
     "output_type": "execute_result"
    }
   ],
   "source": [
    "s46.A1.state()"
   ]
  },
  {
   "cell_type": "code",
   "execution_count": 7,
   "metadata": {},
   "outputs": [],
   "source": [
    "s46.A1.state(\"close\")"
   ]
  },
  {
   "cell_type": "code",
   "execution_count": 8,
   "metadata": {},
   "outputs": [
    {
     "data": {
      "text/plain": [
       "'close'"
      ]
     },
     "execution_count": 8,
     "metadata": {},
     "output_type": "execute_result"
    }
   ],
   "source": [
    "s46.A1.state()"
   ]
  },
  {
   "cell_type": "code",
   "execution_count": 9,
   "metadata": {},
   "outputs": [
    {
     "name": "stdout",
     "output_type": "stream",
     "text": [
      "('Relay A is already in use by channel 1', 'setting s2_A2_state to close')\n"
     ]
    }
   ],
   "source": [
    "try: \n",
    "    s46.A2.state(\"close\")\n",
    "    raise(\"We should not be here\")\n",
    "except LockAcquisitionError as e: \n",
    "    print(e)"
   ]
  },
  {
   "cell_type": "code",
   "execution_count": 10,
   "metadata": {},
   "outputs": [],
   "source": [
    "s46.A1.state(\"open\")"
   ]
  },
  {
   "cell_type": "code",
   "execution_count": 11,
   "metadata": {},
   "outputs": [],
   "source": [
    "s46.A2.state(\"close\")"
   ]
  },
  {
   "cell_type": "code",
   "execution_count": 12,
   "metadata": {},
   "outputs": [],
   "source": [
    "s46.A2.state(\"open\")"
   ]
  },
  {
   "cell_type": "code",
   "execution_count": 13,
   "metadata": {},
   "outputs": [],
   "source": [
    "assert s46.A1 is s46.channels[0]"
   ]
  },
  {
   "cell_type": "code",
   "execution_count": 14,
   "metadata": {},
   "outputs": [],
   "source": [
    "assert s46.A2 is s46.channels[1]"
   ]
  },
  {
   "cell_type": "code",
   "execution_count": 15,
   "metadata": {},
   "outputs": [],
   "source": [
    "assert s46.B1 is s46.channels[6]"
   ]
  },
  {
   "cell_type": "code",
   "execution_count": 16,
   "metadata": {},
   "outputs": [
    {
     "data": {
      "text/plain": [
       "'B1'"
      ]
     },
     "execution_count": 16,
     "metadata": {},
     "output_type": "execute_result"
    }
   ],
   "source": [
    "s46.channels[6].short_name"
   ]
  },
  {
   "cell_type": "code",
   "execution_count": 17,
   "metadata": {},
   "outputs": [],
   "source": [
    "s46.A1.state(\"close\")"
   ]
  },
  {
   "cell_type": "code",
   "execution_count": 18,
   "metadata": {},
   "outputs": [],
   "source": [
    "s46.B1.state(\"close\")"
   ]
  },
  {
   "cell_type": "code",
   "execution_count": 19,
   "metadata": {},
   "outputs": [],
   "source": [
    "s46.R8.state(\"close\")"
   ]
  },
  {
   "cell_type": "code",
   "execution_count": 20,
   "metadata": {},
   "outputs": [],
   "source": [
    "s46.open_all_channels()"
   ]
  },
  {
   "cell_type": "code",
   "execution_count": 21,
   "metadata": {},
   "outputs": [],
   "source": [
    "s46.A1.state(\"open\")"
   ]
  },
  {
   "cell_type": "code",
   "execution_count": 70,
   "metadata": {},
   "outputs": [
    {
     "name": "stdout",
     "output_type": "stream",
     "text": [
      "{'A1': 1, 'A2': 2, 'A3': 3, 'A4': 4, 'A5': 5, 'A6': 6, 'B1': 7, 'B2': 8, 'B3': 9, 'B4': 10, 'B5': 11, 'B6': 12, 'C1': 13, 'C2': 14, 'C3': 15, 'C4': 16, 'C5': 17, 'C6': 18, 'D1': 19, 'D2': 20, 'D3': 21, 'D4': 22, 'D5': 23, 'D6': 24, 'R1': 25, 'R2': 26, 'R3': 27, 'R4': 28, 'R5': 29, 'R6': 30, 'R7': 31, 'R8': 32}\n"
     ]
    }
   ],
   "source": [
    "channel_aliases = [\n",
    "    f\"{relay_name}{index}\" for\n",
    "    relay_name, index in product(\n",
    "        [\"A\", \"B\", \"C\", \"D\"],\n",
    "        range(1, 7)\n",
    "    )\n",
    "]\n",
    "channel_aliases += [f\"R{i}\" for i in range(1, 9)]\n",
    "\n",
    "print(dict(zip(channel_aliases, range(1, 33))))"
   ]
  },
  {
   "cell_type": "code",
   "execution_count": 72,
   "metadata": {},
   "outputs": [
    {
     "data": {
      "text/plain": [
       "{'A1': 1,\n",
       " 'A2': 2,\n",
       " 'A3': 3,\n",
       " 'A4': 4,\n",
       " 'A5': 5,\n",
       " 'A6': 6,\n",
       " 'B1': 7,\n",
       " 'B2': 8,\n",
       " 'B3': 9,\n",
       " 'B4': 10,\n",
       " 'B5': 11,\n",
       " 'B6': 12,\n",
       " 'C1': 13,\n",
       " 'C2': 14,\n",
       " 'C3': 15,\n",
       " 'C4': 16,\n",
       " 'C5': 17,\n",
       " 'C6': 18,\n",
       " 'D1': 19,\n",
       " 'D2': 20,\n",
       " 'D3': 21,\n",
       " 'D4': 22,\n",
       " 'D5': 23,\n",
       " 'D6': 24,\n",
       " 'R1': 25,\n",
       " 'R2': 26,\n",
       " 'R3': 27,\n",
       " 'R4': 28,\n",
       " 'R5': 29,\n",
       " 'R6': 30,\n",
       " 'R7': 31,\n",
       " 'R8': 32}"
      ]
     },
     "execution_count": 72,
     "metadata": {},
     "output_type": "execute_result"
    }
   ],
   "source": [
    "dict(\n",
    "    zip(\n",
    "        [\"{}{}\".format(*a) for a in product([\"A\", \"B\", \"C\", \"D\"], range(1, 7))] + [f\"R{i}\" for i in range(1, 9)], \n",
    "        range(1, 33)\n",
    "    )\n",
    ")"
   ]
  },
  {
   "cell_type": "code",
   "execution_count": 45,
   "metadata": {},
   "outputs": [
    {
     "name": "stdout",
     "output_type": "stream",
     "text": [
      "[6, 6, 6, 6, 0, 0, 0, 0, 1, 0, 0, 1]\n",
      "['A', 'B', 'C', 'D', 'R1', 'R2', 'R3', 'R4', 'R5', 'R6', 'R7', 'R8']\n"
     ]
    }
   ],
   "source": [
    "relay_layout = [int(i) for i in s46.ask(\":CONF:CPOL?\").split(\",\")]\n",
    "relay_names = ([\"A\", \"B\", \"C\", \"D\"] + [f\"R{i}\" for i in range(1, 9)])\n",
    "print(relay_layout)\n",
    "print(relay_names)"
   ]
  },
  {
   "cell_type": "code",
   "execution_count": 47,
   "metadata": {},
   "outputs": [],
   "source": [
    "class RelayLock: \n",
    "    def __init__(self, relay_name): \n",
    "        self._relay_name = relay_name\n",
    "    \n",
    "    def acquire(self, channel_number): \n",
    "        pass \n",
    "    \n",
    "    def release(self, channel_number):\n",
    "        pass "
   ]
  },
  {
   "cell_type": "code",
   "execution_count": 51,
   "metadata": {},
   "outputs": [],
   "source": [
    "class s46Channel: \n",
    "    def __init__(self, name, channel_number, lock): \n",
    "        self._name = name \n",
    "        self._lock = lock\n",
    "        self._channel_number = channel_number"
   ]
  },
  {
   "cell_type": "code",
   "execution_count": 52,
   "metadata": {},
   "outputs": [],
   "source": [
    "for relay_name, channel_count in zip(relay_names, relay_layout): \n",
    "    \n",
    "    relay_lock = RelayLock(relay_name)\n",
    "    \n",
    "    for channel_index in range(1, channel_count + 1):\n",
    "        \n",
    "        if channel_count > 1:\n",
    "            alias = f\"{relay_name}{channel_index}\"\n",
    "        else:\n",
    "            alias = relay_name\n",
    "            \n",
    "        channel_number = aliases[alias]\n",
    "        channel = s46Channel(alias, channel_number, relay_lock)"
   ]
  },
  {
   "cell_type": "code",
   "execution_count": 56,
   "metadata": {},
   "outputs": [],
   "source": [
    "class classproperty:\n",
    "    def __init__(self, f):\n",
    "        self.f = f\n",
    "    def __get__(self, obj, owner):\n",
    "        return self.f(owner)"
   ]
  },
  {
   "cell_type": "code",
   "execution_count": 61,
   "metadata": {},
   "outputs": [],
   "source": [
    "class A: \n",
    "    @classmethod\n",
    "    @property\n",
    "    def aclassprop(cls): \n",
    "        return 1"
   ]
  },
  {
   "cell_type": "code",
   "execution_count": 62,
   "metadata": {},
   "outputs": [
    {
     "data": {
      "text/plain": [
       "<bound method ? of <class '__main__.A'>>"
      ]
     },
     "execution_count": 62,
     "metadata": {},
     "output_type": "execute_result"
    }
   ],
   "source": [
    "A.aclassprop"
   ]
  },
  {
   "cell_type": "code",
   "execution_count": null,
   "metadata": {},
   "outputs": [],
   "source": []
  }
 ],
 "metadata": {
  "kernelspec": {
   "display_name": "Python 3",
   "language": "python",
   "name": "python3"
  },
  "language_info": {
   "codemirror_mode": {
    "name": "ipython",
    "version": 3
   },
   "file_extension": ".py",
   "mimetype": "text/x-python",
   "name": "python",
   "nbconvert_exporter": "python",
   "pygments_lexer": "ipython3",
   "version": "3.6.7"
  }
 },
 "nbformat": 4,
 "nbformat_minor": 2
}
