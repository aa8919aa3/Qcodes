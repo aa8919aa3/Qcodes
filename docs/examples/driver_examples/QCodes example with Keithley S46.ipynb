{
 "cells": [
  {
   "cell_type": "markdown",
   "metadata": {},
   "source": [
    "# Tektronix Keithley S46\n",
    "\n",
    "The S46 is an RF swicth with four relays \"A\" to \"D\". These relays either have four or six poles, depending on the instrument model. Each pole constitutes a channel and can either be \"open\" or \"closed\". Channel \"A1\" is attached to the first pole on relay \"A\", channel \"B2\" is attached to the second pole of relay \"B\", etc...  \n",
    "\n",
    "Channels \"A1\" to \"D6\" are all \"normally open\". Only one channel per relay may be closed.  \n",
    "\n",
    "Additionally, there are optionally eight relays \"R1\" to \"R8\" which are two pole relays. One pole is \"normally closed\" and the other \"normally open\". For these relays, we have one channel per relay, so \"R1\" is both a channel and a relay. Upon closing the channel, the normally open pole will close. \n",
    "\n",
    "In this notebook, we have verified with a multi-meter that channels indeed open and close as expected. \n",
    "\n",
    "Note: We have performed tests with a six pole instrument. Although it is expected that this driver should work with a four pole instrument, this has not been verified due to a lack of instrument availability "
   ]
  },
  {
   "cell_type": "code",
   "execution_count": 1,
   "metadata": {},
   "outputs": [],
   "source": [
    "from qcodes.instrument_drivers.tektronix.Keithley_s46 import S46, LockAcquisitionError"
   ]
  },
  {
   "cell_type": "code",
   "execution_count": 2,
   "metadata": {},
   "outputs": [
    {
     "name": "stdout",
     "output_type": "stream",
     "text": [
      "Connected to: KEITHLEY INSTRUMENTS INC. SYSTEM 46 (serial:1327388, firmware:A03) in 0.54s\n"
     ]
    }
   ],
   "source": [
    "s46 = S46(\"s2\", \"GPIB0::7::INSTR\")"
   ]
  },
  {
   "cell_type": "code",
   "execution_count": 3,
   "metadata": {},
   "outputs": [
    {
     "data": {
      "text/plain": [
       "26"
      ]
     },
     "execution_count": 3,
     "metadata": {},
     "output_type": "execute_result"
    }
   ],
   "source": [
    "len(s46.channels)"
   ]
  },
  {
   "cell_type": "code",
   "execution_count": 6,
   "metadata": {},
   "outputs": [
    {
     "data": {
      "text/plain": [
       "[]"
      ]
     },
     "execution_count": 6,
     "metadata": {},
     "output_type": "execute_result"
    }
   ],
   "source": [
    "s46.get_closed_channels()"
   ]
  },
  {
   "cell_type": "code",
   "execution_count": 7,
   "metadata": {},
   "outputs": [],
   "source": [
    "s46.A1.state(\"open\")"
   ]
  },
  {
   "cell_type": "code",
   "execution_count": 8,
   "metadata": {},
   "outputs": [
    {
     "data": {
      "text/plain": [
       "'open'"
      ]
     },
     "execution_count": 8,
     "metadata": {},
     "output_type": "execute_result"
    }
   ],
   "source": [
    "s46.A1.state()"
   ]
  },
  {
   "cell_type": "code",
   "execution_count": 9,
   "metadata": {},
   "outputs": [],
   "source": [
    "s46.A1.state(\"close\")"
   ]
  },
  {
   "cell_type": "code",
   "execution_count": 10,
   "metadata": {},
   "outputs": [
    {
     "data": {
      "text/plain": [
       "'close'"
      ]
     },
     "execution_count": 10,
     "metadata": {},
     "output_type": "execute_result"
    }
   ],
   "source": [
    "s46.A1.state()"
   ]
  },
  {
   "cell_type": "code",
   "execution_count": 11,
   "metadata": {},
   "outputs": [
    {
     "data": {
      "text/plain": [
       "[<S46Channel: s2_A1 of S46: s2>]"
      ]
     },
     "execution_count": 11,
     "metadata": {},
     "output_type": "execute_result"
    }
   ],
   "source": [
    "s46.get_closed_channels()"
   ]
  },
  {
   "cell_type": "code",
   "execution_count": 12,
   "metadata": {},
   "outputs": [
    {
     "name": "stdout",
     "output_type": "stream",
     "text": [
      "('Relay A is already in use by channel 1', 'setting s2_A2_state to close')\n"
     ]
    }
   ],
   "source": [
    "try: \n",
    "    s46.A2.state(\"close\")\n",
    "    raise(\"We should not be here\")\n",
    "except LockAcquisitionError as e: \n",
    "    print(e)"
   ]
  },
  {
   "cell_type": "code",
   "execution_count": 13,
   "metadata": {},
   "outputs": [],
   "source": [
    "s46.A1.state(\"open\")"
   ]
  },
  {
   "cell_type": "code",
   "execution_count": 20,
   "metadata": {},
   "outputs": [],
   "source": [
    "s46.A2.state(\"close\")"
   ]
  },
  {
   "cell_type": "code",
   "execution_count": 21,
   "metadata": {},
   "outputs": [
    {
     "name": "stdout",
     "output_type": "stream",
     "text": [
      "('Relay A is already in use by channel 2', 'setting s2_A1_state to close')\n"
     ]
    }
   ],
   "source": [
    "try: \n",
    "    s46.A1.state(\"close\")\n",
    "    raise(\"We should not be here\")\n",
    "except LockAcquisitionError as e: \n",
    "    print(e)"
   ]
  },
  {
   "cell_type": "code",
   "execution_count": 22,
   "metadata": {},
   "outputs": [],
   "source": [
    "s46.B1.state(\"close\")"
   ]
  },
  {
   "cell_type": "code",
   "execution_count": 23,
   "metadata": {},
   "outputs": [
    {
     "name": "stdout",
     "output_type": "stream",
     "text": [
      "('Relay B is already in use by channel 7', 'setting s2_B2_state to close')\n"
     ]
    }
   ],
   "source": [
    "try: \n",
    "    s46.B2.state(\"close\")\n",
    "    raise(\"We should not be here\")\n",
    "except LockAcquisitionError as e: \n",
    "    print(e)"
   ]
  },
  {
   "cell_type": "code",
   "execution_count": 24,
   "metadata": {},
   "outputs": [],
   "source": [
    "s46.open_all_channels()"
   ]
  },
  {
   "cell_type": "code",
   "execution_count": 25,
   "metadata": {},
   "outputs": [
    {
     "data": {
      "text/plain": [
       "[]"
      ]
     },
     "execution_count": 25,
     "metadata": {},
     "output_type": "execute_result"
    }
   ],
   "source": [
    "s46.get_closed_channels()"
   ]
  }
 ],
 "metadata": {
  "kernelspec": {
   "display_name": "Python 3",
   "language": "python",
   "name": "python3"
  },
  "language_info": {
   "codemirror_mode": {
    "name": "ipython",
    "version": 3
   },
   "file_extension": ".py",
   "mimetype": "text/x-python",
   "name": "python",
   "nbconvert_exporter": "python",
   "pygments_lexer": "ipython3",
   "version": "3.6.7"
  },
  "nbsphinx": {
   "execute": "never"
  }
 },
 "nbformat": 4,
 "nbformat_minor": 2
}
