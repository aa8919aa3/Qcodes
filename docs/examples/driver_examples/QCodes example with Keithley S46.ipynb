{
 "cells": [
  {
   "cell_type": "code",
   "execution_count": 1,
   "metadata": {},
   "outputs": [],
   "source": [
    "from qcodes.instrument_drivers.tektronix.Keithley_s46 import S46"
   ]
  },
  {
   "cell_type": "code",
   "execution_count": 2,
   "metadata": {},
   "outputs": [
    {
     "name": "stdout",
     "output_type": "stream",
     "text": [
      "Connected to: KEITHLEY INSTRUMENTS INC. SYSTEM 46 (serial:1327388, firmware:A03) in 0.36s\n"
     ]
    }
   ],
   "source": [
    "s46 = S46(\"s2\", \"GPIB0::7::INSTR\")"
   ]
  },
  {
   "cell_type": "code",
   "execution_count": 13,
   "metadata": {},
   "outputs": [
    {
     "data": {
      "text/plain": [
       "'KEITHLEY INSTRUMENTS INC.,MODEL SYSTEM 46, 1327388, A03  '"
      ]
     },
     "execution_count": 13,
     "metadata": {},
     "output_type": "execute_result"
    }
   ],
   "source": [
    "s46.ask(\"*IDN?\")"
   ]
  },
  {
   "cell_type": "code",
   "execution_count": 14,
   "metadata": {},
   "outputs": [
    {
     "data": {
      "text/plain": [
       "'6,6,6,6,0,0,0,0,1,0,0,1'"
      ]
     },
     "execution_count": 14,
     "metadata": {},
     "output_type": "execute_result"
    }
   ],
   "source": [
    "s46.ask(\":CONF:CPOL?\")"
   ]
  },
  {
   "cell_type": "code",
   "execution_count": 15,
   "metadata": {},
   "outputs": [
    {
     "data": {
      "text/plain": [
       "'(@1,7)'"
      ]
     },
     "execution_count": 15,
     "metadata": {},
     "output_type": "execute_result"
    }
   ],
   "source": [
    "s46.ask(\":CLOS?\")"
   ]
  },
  {
   "cell_type": "code",
   "execution_count": 3,
   "metadata": {},
   "outputs": [
    {
     "data": {
      "text/plain": [
       "26"
      ]
     },
     "execution_count": 3,
     "metadata": {},
     "output_type": "execute_result"
    }
   ],
   "source": [
    "len(s46.channels)"
   ]
  },
  {
   "cell_type": "code",
   "execution_count": 4,
   "metadata": {},
   "outputs": [
    {
     "name": "stdout",
     "output_type": "stream",
     "text": [
      "channel1 is on relay A\n",
      "channel2 is on relay A\n",
      "channel3 is on relay A\n",
      "channel4 is on relay A\n",
      "channel5 is on relay A\n",
      "channel6 is on relay A\n",
      "channel7 is on relay B\n",
      "channel8 is on relay B\n",
      "channel9 is on relay B\n",
      "channel10 is on relay B\n",
      "channel11 is on relay B\n",
      "channel12 is on relay B\n",
      "channel13 is on relay C\n",
      "channel14 is on relay C\n",
      "channel15 is on relay C\n",
      "channel16 is on relay C\n",
      "channel17 is on relay C\n",
      "channel18 is on relay C\n",
      "channel19 is on relay D\n",
      "channel20 is on relay D\n",
      "channel21 is on relay D\n",
      "channel22 is on relay D\n",
      "channel23 is on relay D\n",
      "channel24 is on relay D\n",
      "channel25 is on relay 5\n",
      "channel26 is on relay 8\n"
     ]
    }
   ],
   "source": [
    "for channel in s46.channels: \n",
    "    print(f\"{channel.short_name} is on relay {channel.relay_id}\")"
   ]
  },
  {
   "cell_type": "code",
   "execution_count": 5,
   "metadata": {},
   "outputs": [
    {
     "data": {
      "text/plain": [
       "'open'"
      ]
     },
     "execution_count": 5,
     "metadata": {},
     "output_type": "execute_result"
    }
   ],
   "source": [
    "s46.channels[0].state()"
   ]
  },
  {
   "cell_type": "code",
   "execution_count": 6,
   "metadata": {},
   "outputs": [],
   "source": [
    "s46.channels[0].state(\"close\")"
   ]
  },
  {
   "cell_type": "code",
   "execution_count": 10,
   "metadata": {},
   "outputs": [
    {
     "data": {
      "text/plain": [
       "'close'"
      ]
     },
     "execution_count": 10,
     "metadata": {},
     "output_type": "execute_result"
    }
   ],
   "source": [
    "s46.channels[0].state()"
   ]
  },
  {
   "cell_type": "code",
   "execution_count": 11,
   "metadata": {},
   "outputs": [
    {
     "name": "stdout",
     "output_type": "stream",
     "text": [
      "('Relay already in use by channel 1', 'setting s2_channel2_state to close')\n"
     ]
    }
   ],
   "source": [
    "try: \n",
    "    s46.channels[1].state(\"close\")\n",
    "    raise Exception(\"We should not be here \")\n",
    "except RuntimeError as e: \n",
    "    print(e)"
   ]
  },
  {
   "cell_type": "code",
   "execution_count": 12,
   "metadata": {},
   "outputs": [],
   "source": [
    "s46.channels[1].state(\"open\")  # This should have no effect"
   ]
  },
  {
   "cell_type": "code",
   "execution_count": 13,
   "metadata": {},
   "outputs": [
    {
     "name": "stdout",
     "output_type": "stream",
     "text": [
      "('Relay already in use by channel 1', 'setting s2_channel6_state to close')\n"
     ]
    }
   ],
   "source": [
    "try: \n",
    "    s46.channels[5].state(\"close\")\n",
    "    raise Exception(\"We should not be here \")\n",
    "except RuntimeError as e: \n",
    "    print(e)"
   ]
  },
  {
   "cell_type": "code",
   "execution_count": 7,
   "metadata": {},
   "outputs": [],
   "source": [
    "s46.channels[6].state(\"close\")"
   ]
  },
  {
   "cell_type": "code",
   "execution_count": 15,
   "metadata": {},
   "outputs": [
    {
     "name": "stdout",
     "output_type": "stream",
     "text": [
      "('Relay already in use by channel 7', 'setting s2_channel8_state to close')\n"
     ]
    }
   ],
   "source": [
    "try: \n",
    "    s46.channels[7].state(\"close\")\n",
    "    raise Exception(\"We should not be here \")\n",
    "except RuntimeError as e: \n",
    "    print(e)"
   ]
  },
  {
   "cell_type": "code",
   "execution_count": 16,
   "metadata": {},
   "outputs": [],
   "source": [
    "s46.channels[0].state(\"open\")"
   ]
  },
  {
   "cell_type": "code",
   "execution_count": 17,
   "metadata": {},
   "outputs": [],
   "source": [
    "s46.channels[1].state(\"close\")"
   ]
  },
  {
   "cell_type": "code",
   "execution_count": 18,
   "metadata": {},
   "outputs": [
    {
     "name": "stdout",
     "output_type": "stream",
     "text": [
      "('Relay already in use by channel 2', 'setting s2_channel1_state to close')\n"
     ]
    }
   ],
   "source": [
    "try: \n",
    "    s46.channels[0].state(\"close\")\n",
    "    raise Exception(\"We should not be here \")\n",
    "except RuntimeError as e: \n",
    "    print(e)"
   ]
  },
  {
   "cell_type": "code",
   "execution_count": null,
   "metadata": {},
   "outputs": [],
   "source": []
  }
 ],
 "metadata": {
  "kernelspec": {
   "display_name": "Python 3",
   "language": "python",
   "name": "python3"
  },
  "language_info": {
   "codemirror_mode": {
    "name": "ipython",
    "version": 3
   },
   "file_extension": ".py",
   "mimetype": "text/x-python",
   "name": "python",
   "nbconvert_exporter": "python",
   "pygments_lexer": "ipython3",
   "version": "3.6.7"
  }
 },
 "nbformat": 4,
 "nbformat_minor": 2
}
