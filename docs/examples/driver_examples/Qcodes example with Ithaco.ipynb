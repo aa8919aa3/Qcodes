{
 "cells": [
  {
   "cell_type": "markdown",
   "metadata": {},
   "source": [
    "# QCoDeS Example with Itacho"
   ]
  },
  {
   "cell_type": "markdown",
   "metadata": {},
   "source": [
    "In this notebook, we show how to use Itacho in a simple setup. We sweep the current using a Keithley 2614B sourcemeter as the current source. Itacho 1211 will convert the current to voltage and we readout the voltage using a DMM Agilent 34401A. Our test setup is as the following picture:"
   ]
  },
  {
   "cell_type": "markdown",
   "metadata": {},
   "source": [
    "![title](../files/ithaco_setup.png)"
   ]
  },
  {
   "cell_type": "markdown",
   "metadata": {},
   "source": [
    "### Required imports"
   ]
  },
  {
   "cell_type": "code",
   "execution_count": 1,
   "metadata": {},
   "outputs": [],
   "source": [
    "import time\n",
    "from qcodes.instrument.base import Parameter\n",
    "\n",
    "from qcodes.utils.dataset.doNd import do1d\n",
    "from qcodes.dataset.plotting import plot_dataset\n",
    "from qcodes import load_by_run_spec, load_or_create_experiment,\\\n",
    "initialise_or_create_database_at\n",
    "\n",
    "from qcodes.instrument_drivers.tektronix.Keithley_2600_channels import\\\n",
    "Keithley_2600 as keith\n",
    "import qcodes.instrument_drivers.agilent.Agilent_34400A as agi\n",
    "import qcodes.instrument_drivers.ithaco.Ithaco_1211 as ithaco"
   ]
  },
  {
   "cell_type": "code",
   "execution_count": 2,
   "metadata": {},
   "outputs": [
    {
     "name": "stdout",
     "output_type": "stream",
     "text": [
      "Logging hadn't been started.\n",
      "Activating auto-logging. Current session state plus future input saved.\n",
      "Filename       : C:\\Users\\QCoDeS_Public\\.qcodes\\logs\\command_history.log\n",
      "Mode           : append\n",
      "Output logging : True\n",
      "Raw input log  : False\n",
      "Timestamping   : True\n",
      "State          : active\n",
      "Qcodes Logfile : C:\\Users\\QCoDeS_Public\\.qcodes\\logs\\201106-16900-qcodes.log\n"
     ]
    }
   ],
   "source": [
    "from qcodes.logger import start_all_logging\n",
    "start_all_logging()"
   ]
  },
  {
   "cell_type": "markdown",
   "metadata": {},
   "source": [
    "### Connecting to the instruments"
   ]
  },
  {
   "cell_type": "code",
   "execution_count": 3,
   "metadata": {
    "scrolled": true
   },
   "outputs": [
    {
     "name": "stdout",
     "output_type": "stream",
     "text": [
      "Connected to: HEWLETT-PACKARD 34401A (serial:0, firmware:10-5-2) in 0.24s\n",
      "Connected to: Keithley Instruments Inc. 2614B (serial:4305420, firmware:3.2.2) in 0.06s\n"
     ]
    }
   ],
   "source": [
    "a1 = agi.Agilent_34400A('Agilent1', 'GPIB0::4::INSTR')\n",
    "k1 = keith('Keithley', 'GPIB0::26::INSTR')"
   ]
  },
  {
   "cell_type": "markdown",
   "metadata": {},
   "source": [
    "Itacho QCoDeS driver is only a virtual driver without any communication with the instrument. The instrument setting are only controlled via the front and back panel and the used QCoDeS setting must match its corresponding setting on the panel. Now, we instantiate an instance of the instrument:"
   ]
  },
  {
   "cell_type": "code",
   "execution_count": 4,
   "metadata": {},
   "outputs": [],
   "source": [
    "camp = ithaco.Ithaco_1211('camp')"
   ]
  },
  {
   "cell_type": "markdown",
   "metadata": {},
   "source": [
    "### Configuration"
   ]
  },
  {
   "cell_type": "markdown",
   "metadata": {},
   "source": [
    "We set Amper per Volt Sensitivity here, which match with the setting on the panel (the rest of the setting are set according to their default values in the driver): "
   ]
  },
  {
   "cell_type": "code",
   "execution_count": 5,
   "metadata": {},
   "outputs": [],
   "source": [
    "camp.sens.set(1e-4)"
   ]
  },
  {
   "cell_type": "markdown",
   "metadata": {},
   "source": [
    "Now, we use CurrentParameter class of Itacho to setup the following parameter, which is showing the fed current to the instantiated camp and converted voltage sent to our connected DMM via a1.volt."
   ]
  },
  {
   "cell_type": "code",
   "execution_count": 6,
   "metadata": {},
   "outputs": [],
   "source": [
    "curr = ithaco.CurrentParameter(a1.volt, camp)"
   ]
  },
  {
   "cell_type": "markdown",
   "metadata": {},
   "source": [
    "Let's look at the present value of curr (the sourcemeter is not connected yet):"
   ]
  },
  {
   "cell_type": "code",
   "execution_count": 7,
   "metadata": {},
   "outputs": [
    {
     "data": {
      "text/plain": [
       "(0.000104574, -1.04574e-08)"
      ]
     },
     "execution_count": 7,
     "metadata": {},
     "output_type": "execute_result"
    }
   ],
   "source": [
    "curr()"
   ]
  },
  {
   "cell_type": "markdown",
   "metadata": {},
   "source": [
    "The current value is practically zero. The voltage value is the current value devided by 1e-4 according to the setting camp.sens.set(1e-4). Thus, Itacho amplifies the feed. Our DMM is reading almost the same amplified voltage value:"
   ]
  },
  {
   "cell_type": "code",
   "execution_count": 8,
   "metadata": {},
   "outputs": [
    {
     "data": {
      "text/plain": [
       "9.7097e-05"
      ]
     },
     "execution_count": 8,
     "metadata": {},
     "output_type": "execute_result"
    }
   ],
   "source": [
    "a1.volt()"
   ]
  },
  {
   "cell_type": "markdown",
   "metadata": {},
   "source": [
    "The units of the above values are:"
   ]
  },
  {
   "cell_type": "code",
   "execution_count": 9,
   "metadata": {},
   "outputs": [
    {
     "data": {
      "text/plain": [
       "('V', 'A')"
      ]
     },
     "execution_count": 9,
     "metadata": {},
     "output_type": "execute_result"
    }
   ],
   "source": [
    "curr.units"
   ]
  },
  {
   "cell_type": "markdown",
   "metadata": {},
   "source": [
    "We set the integration time of our DMM as below:"
   ]
  },
  {
   "cell_type": "code",
   "execution_count": 10,
   "metadata": {},
   "outputs": [],
   "source": [
    "a1.NPLC.set(1)"
   ]
  },
  {
   "cell_type": "markdown",
   "metadata": {},
   "source": [
    "Let's look at the snapshot of our created Itacho instance"
   ]
  },
  {
   "cell_type": "code",
   "execution_count": 11,
   "metadata": {},
   "outputs": [
    {
     "data": {
      "text/plain": [
       "{'functions': {},\n",
       " 'submodules': {},\n",
       " '__class__': 'qcodes.instrument_drivers.ithaco.Ithaco_1211.Ithaco_1211',\n",
       " 'parameters': {'IDN': {'__class__': 'qcodes.instrument.parameter.Parameter',\n",
       "   'full_name': 'camp_IDN',\n",
       "   'value': None,\n",
       "   'raw_value': None,\n",
       "   'ts': None,\n",
       "   'instrument': 'qcodes.instrument_drivers.ithaco.Ithaco_1211.Ithaco_1211',\n",
       "   'instrument_name': 'camp',\n",
       "   'name': 'IDN',\n",
       "   'inter_delay': 0,\n",
       "   'unit': '',\n",
       "   'vals': '<Anything>',\n",
       "   'post_delay': 0,\n",
       "   'label': 'IDN'},\n",
       "  'sens': {'__class__': 'qcodes.instrument.parameter.Parameter',\n",
       "   'full_name': 'camp_sens',\n",
       "   'value': 0.0001,\n",
       "   'raw_value': 0.0001,\n",
       "   'ts': '2020-11-06 13:07:06',\n",
       "   'instrument': 'qcodes.instrument_drivers.ithaco.Ithaco_1211.Ithaco_1211',\n",
       "   'instrument_name': 'camp',\n",
       "   'name': 'sens',\n",
       "   'inter_delay': 0,\n",
       "   'unit': 'A/V',\n",
       "   'vals': '<Enum: {1e-09, 1e-05, 1e-08, 1e-10, 0.0001, 0.001, 1e-07, 1e-06, 1e-11}>',\n",
       "   'post_delay': 0,\n",
       "   'label': 'Sensitivity'},\n",
       "  'invert': {'__class__': 'qcodes.instrument.parameter.Parameter',\n",
       "   'full_name': 'camp_invert',\n",
       "   'value': True,\n",
       "   'raw_value': True,\n",
       "   'ts': '2020-11-06 13:07:06',\n",
       "   'instrument': 'qcodes.instrument_drivers.ithaco.Ithaco_1211.Ithaco_1211',\n",
       "   'instrument_name': 'camp',\n",
       "   'name': 'invert',\n",
       "   'inter_delay': 0,\n",
       "   'unit': '',\n",
       "   'vals': '<Boolean>',\n",
       "   'post_delay': 0,\n",
       "   'label': 'Inverted output'},\n",
       "  'sens_factor': {'__class__': 'qcodes.instrument.parameter.Parameter',\n",
       "   'full_name': 'camp_sens_factor',\n",
       "   'value': 1,\n",
       "   'raw_value': 1,\n",
       "   'ts': '2020-11-06 13:07:06',\n",
       "   'instrument': 'qcodes.instrument_drivers.ithaco.Ithaco_1211.Ithaco_1211',\n",
       "   'instrument_name': 'camp',\n",
       "   'name': 'sens_factor',\n",
       "   'inter_delay': 0,\n",
       "   'unit': '',\n",
       "   'vals': '<Enum: {0.1, 1, 10}>',\n",
       "   'post_delay': 0,\n",
       "   'label': 'Sensitivity factor'},\n",
       "  'suppression': {'__class__': 'qcodes.instrument.parameter.Parameter',\n",
       "   'full_name': 'camp_suppression',\n",
       "   'value': 1e-07,\n",
       "   'raw_value': 1e-07,\n",
       "   'ts': '2020-11-06 13:07:01',\n",
       "   'instrument': 'qcodes.instrument_drivers.ithaco.Ithaco_1211.Ithaco_1211',\n",
       "   'instrument_name': 'camp',\n",
       "   'name': 'suppression',\n",
       "   'inter_delay': 0,\n",
       "   'unit': 'A',\n",
       "   'vals': '<Enum: {1e-09, 1e-05, 1e-08, 1e-10, 0.0001, 1e-07, 1e-06, 0.001}>',\n",
       "   'post_delay': 0,\n",
       "   'label': 'Suppression'},\n",
       "  'risetime': {'__class__': 'qcodes.instrument.parameter.Parameter',\n",
       "   'full_name': 'camp_risetime',\n",
       "   'value': 0.3,\n",
       "   'raw_value': 0.3,\n",
       "   'ts': '2020-11-06 13:07:01',\n",
       "   'instrument': 'qcodes.instrument_drivers.ithaco.Ithaco_1211.Ithaco_1211',\n",
       "   'instrument_name': 'camp',\n",
       "   'name': 'risetime',\n",
       "   'inter_delay': 0,\n",
       "   'unit': 'msec',\n",
       "   'vals': '<Enum: {0.03, 1, 0.1, 0.3, 3, 100, 1000, 10, 0.01, 300, 30}>',\n",
       "   'post_delay': 0,\n",
       "   'label': 'Rise Time'}},\n",
       " 'name': 'camp'}"
      ]
     },
     "execution_count": 11,
     "metadata": {},
     "output_type": "execute_result"
    }
   ],
   "source": [
    "camp.snapshot()"
   ]
  },
  {
   "cell_type": "markdown",
   "metadata": {},
   "source": [
    "### Setting up qcodes database and performing a simple measurement"
   ]
  },
  {
   "cell_type": "markdown",
   "metadata": {},
   "source": [
    "Now we want to feed our Itacho using our Keithley sourcemeter and run a simple qcodes measurement to see the output of the swept values passing through Itacho (for knowing how our sourcemeter works, you can refer to its qcodes notebook in this link https://qcodes.github.io/Qcodes/examples/driver_examples/Qcodes%20example%20with%20Keithley%202600.html):"
   ]
  },
  {
   "cell_type": "markdown",
   "metadata": {},
   "source": [
    "We initilize a database named \"itacho_db.db\" and save our measured data there. Then, we create an experiment named \"Itacho_measurement\" or load it if is already created:"
   ]
  },
  {
   "cell_type": "code",
   "execution_count": 12,
   "metadata": {},
   "outputs": [],
   "source": [
    "initialise_or_create_database_at('itacho_db.db')\n",
    "exp = load_or_create_experiment('Itacho_measurement', sample_name='no sample')"
   ]
  },
  {
   "cell_type": "markdown",
   "metadata": {},
   "source": [
    "Now, we would like to use qcodes do1d function to sweep over current values\n",
    "generated by our sourcemeter and measure the current feeding to Itacho and converted voltage values by this instrument. qcodes Measurement can be also used for the same reason, instead.\n",
    "To be able to use qcodes do1d function, we define a qcodes Paramater called volt_curr, which gets its swept values from the instantiated curr (we cannot use curr directly in the do1d function because of its structure defined in the driver):"
   ]
  },
  {
   "cell_type": "code",
   "execution_count": 13,
   "metadata": {},
   "outputs": [],
   "source": [
    "volt_curr = Parameter('volt_curr', get_cmd=curr, unit='(V, A)')"
   ]
  },
  {
   "cell_type": "markdown",
   "metadata": {},
   "source": [
    "Like curr, volt_curr will be a tuple, which its first and second values are converted voltage and fed current, respectively. The voltage values can be monitored on the connected DMM at every sweeping step, as well. We set our sourcemeter in the current mode and sweep from 1e-6 A to 1e-3 A in 20 steps with the interdelay of 1 second:"
   ]
  },
  {
   "cell_type": "code",
   "execution_count": 14,
   "metadata": {},
   "outputs": [],
   "source": [
    "k1.smua.mode('current')"
   ]
  },
  {
   "cell_type": "code",
   "execution_count": 15,
   "metadata": {},
   "outputs": [
    {
     "name": "stdout",
     "output_type": "stream",
     "text": [
      "Starting experimental run with id: 2. \n",
      "Measurement took 21.335164785385132 seconds\n"
     ]
    }
   ],
   "source": [
    "t1 = time.time()\n",
    "do1d(k1.smua.curr, 1e-6, 1e-3, 20, 1, volt_curr, do_plot=False)\n",
    "t2 = time.time()\n",
    "print(f'Measurement took {t2-t1} seconds')"
   ]
  },
  {
   "cell_type": "markdown",
   "metadata": {},
   "source": [
    "As expected, the measurement took around 20 seconds. Now, we want to plot our measured dataset. We use qcodes to find the dataset that we want to plot in the database, and tweak plotting axes for showing it in a scatter plot. "
   ]
  },
  {
   "cell_type": "code",
   "execution_count": 16,
   "metadata": {},
   "outputs": [
    {
     "data": {
      "text/plain": [
       "<bound method Experiment.data_set of Itacho_measurement#no sample#1@C:\\Users\\QCoDeS_Public\\Desktop\\itacho_db.db\n",
       "--------------------------------------------------------------------------\n",
       "1-results-1-Keithley_smua_curr,volt_curr-40\n",
       "2-results-2-Keithley_smua_curr,volt_curr-40>"
      ]
     },
     "execution_count": 16,
     "metadata": {},
     "output_type": "execute_result"
    }
   ],
   "source": [
    "exp.data_set"
   ]
  },
  {
   "cell_type": "code",
   "execution_count": 17,
   "metadata": {},
   "outputs": [],
   "source": [
    "dataset = load_by_run_spec(experiment_name='Itacho_measurement',\\\n",
    "                           captured_run_id=2)"
   ]
  },
  {
   "cell_type": "code",
   "execution_count": 18,
   "metadata": {
    "scrolled": true
   },
   "outputs": [
    {
     "data": {
      "image/png": "[encoded data removed]",
      "text/plain": [
       "<Figure size 432x288 with 1 Axes>"
      ]
     },
     "metadata": {
      "needs_background": "light"
     },
     "output_type": "display_data"
    }
   ],
   "source": [
    "axes, cbax = plot_dataset(dataset)\n",
    "axes[0].lines[0].set_marker('o')\n",
    "axes[0].lines[0].set_markerfacecolor((0.6, 0.6, 0.9))\n",
    "axes[0].lines[0].set_markeredgecolor((0.4, 0.6, 0.9))\n",
    "axes[0].lines[0].set_color((0.8, 0.8, 0.8))"
   ]
  },
  {
   "cell_type": "markdown",
   "metadata": {},
   "source": [
    "We plotted the result in a simple 1D-plot rather than 2D-plot to better show the obtained values. We see two results: the almost horizontally aligned blue cirles are the current values of volt_curr and the rest is the converted voltages at each sweeping step. If we look at our attached DMM, we see that it is showing -10.00 V DC, which is the same as the final voltage value in the figure."
   ]
  },
  {
   "cell_type": "markdown",
   "metadata": {},
   "source": [
    "Let's explore our dataset, because why not :)"
   ]
  },
  {
   "cell_type": "code",
   "execution_count": 19,
   "metadata": {},
   "outputs": [
    {
     "data": {
      "text/html": [
       "<div>\n",
       "<style scoped>\n",
       "    .dataframe tbody tr th:only-of-type {\n",
       "        vertical-align: middle;\n",
       "    }\n",
       "\n",
       "    .dataframe tbody tr th {\n",
       "        vertical-align: top;\n",
       "    }\n",
       "\n",
       "    .dataframe thead th {\n",
       "        text-align: right;\n",
       "    }\n",
       "</style>\n",
       "<table border=\"1\" class=\"dataframe\">\n",
       "  <thead>\n",
       "    <tr style=\"text-align: right;\">\n",
       "      <th></th>\n",
       "      <th>volt_curr</th>\n",
       "    </tr>\n",
       "    <tr>\n",
       "      <th>Keithley_smua_curr</th>\n",
       "      <th></th>\n",
       "    </tr>\n",
       "  </thead>\n",
       "  <tbody>\n",
       "    <tr>\n",
       "      <th>0.000001</th>\n",
       "      <td>-9.897549e-03</td>\n",
       "    </tr>\n",
       "    <tr>\n",
       "      <th>0.000001</th>\n",
       "      <td>9.897549e-07</td>\n",
       "    </tr>\n",
       "    <tr>\n",
       "      <th>0.000054</th>\n",
       "      <td>-5.360914e-01</td>\n",
       "    </tr>\n",
       "    <tr>\n",
       "      <th>0.000054</th>\n",
       "      <td>5.360914e-05</td>\n",
       "    </tr>\n",
       "    <tr>\n",
       "      <th>0.000106</th>\n",
       "      <td>-1.062385e+00</td>\n",
       "    </tr>\n",
       "    <tr>\n",
       "      <th>0.000106</th>\n",
       "      <td>1.062385e-04</td>\n",
       "    </tr>\n",
       "    <tr>\n",
       "      <th>0.000159</th>\n",
       "      <td>-1.588474e+00</td>\n",
       "    </tr>\n",
       "    <tr>\n",
       "      <th>0.000159</th>\n",
       "      <td>1.588474e-04</td>\n",
       "    </tr>\n",
       "    <tr>\n",
       "      <th>0.000211</th>\n",
       "      <td>-2.114559e+00</td>\n",
       "    </tr>\n",
       "    <tr>\n",
       "      <th>0.000211</th>\n",
       "      <td>2.114559e-04</td>\n",
       "    </tr>\n",
       "    <tr>\n",
       "      <th>0.000264</th>\n",
       "      <td>-2.640591e+00</td>\n",
       "    </tr>\n",
       "    <tr>\n",
       "      <th>0.000264</th>\n",
       "      <td>2.640591e-04</td>\n",
       "    </tr>\n",
       "    <tr>\n",
       "      <th>0.000316</th>\n",
       "      <td>-3.166847e+00</td>\n",
       "    </tr>\n",
       "    <tr>\n",
       "      <th>0.000316</th>\n",
       "      <td>3.166847e-04</td>\n",
       "    </tr>\n",
       "    <tr>\n",
       "      <th>0.000369</th>\n",
       "      <td>-3.692921e+00</td>\n",
       "    </tr>\n",
       "    <tr>\n",
       "      <th>0.000369</th>\n",
       "      <td>3.692921e-04</td>\n",
       "    </tr>\n",
       "    <tr>\n",
       "      <th>0.000422</th>\n",
       "      <td>-4.218995e+00</td>\n",
       "    </tr>\n",
       "    <tr>\n",
       "      <th>0.000422</th>\n",
       "      <td>4.218995e-04</td>\n",
       "    </tr>\n",
       "    <tr>\n",
       "      <th>0.000474</th>\n",
       "      <td>-4.744994e+00</td>\n",
       "    </tr>\n",
       "    <tr>\n",
       "      <th>0.000474</th>\n",
       "      <td>4.744994e-04</td>\n",
       "    </tr>\n",
       "    <tr>\n",
       "      <th>0.000527</th>\n",
       "      <td>-5.271035e+00</td>\n",
       "    </tr>\n",
       "    <tr>\n",
       "      <th>0.000527</th>\n",
       "      <td>5.271035e-04</td>\n",
       "    </tr>\n",
       "    <tr>\n",
       "      <th>0.000579</th>\n",
       "      <td>-5.797097e+00</td>\n",
       "    </tr>\n",
       "    <tr>\n",
       "      <th>0.000579</th>\n",
       "      <td>5.797098e-04</td>\n",
       "    </tr>\n",
       "    <tr>\n",
       "      <th>0.000632</th>\n",
       "      <td>-6.323298e+00</td>\n",
       "    </tr>\n",
       "    <tr>\n",
       "      <th>0.000632</th>\n",
       "      <td>6.323299e-04</td>\n",
       "    </tr>\n",
       "    <tr>\n",
       "      <th>0.000685</th>\n",
       "      <td>-6.849254e+00</td>\n",
       "    </tr>\n",
       "    <tr>\n",
       "      <th>0.000685</th>\n",
       "      <td>6.849254e-04</td>\n",
       "    </tr>\n",
       "    <tr>\n",
       "      <th>0.000737</th>\n",
       "      <td>-7.375241e+00</td>\n",
       "    </tr>\n",
       "    <tr>\n",
       "      <th>0.000737</th>\n",
       "      <td>7.375241e-04</td>\n",
       "    </tr>\n",
       "    <tr>\n",
       "      <th>0.000790</th>\n",
       "      <td>-7.901216e+00</td>\n",
       "    </tr>\n",
       "    <tr>\n",
       "      <th>0.000790</th>\n",
       "      <td>7.901216e-04</td>\n",
       "    </tr>\n",
       "    <tr>\n",
       "      <th>0.000842</th>\n",
       "      <td>-8.427213e+00</td>\n",
       "    </tr>\n",
       "    <tr>\n",
       "      <th>0.000842</th>\n",
       "      <td>8.427213e-04</td>\n",
       "    </tr>\n",
       "    <tr>\n",
       "      <th>0.000895</th>\n",
       "      <td>-8.953124e+00</td>\n",
       "    </tr>\n",
       "    <tr>\n",
       "      <th>0.000895</th>\n",
       "      <td>8.953124e-04</td>\n",
       "    </tr>\n",
       "    <tr>\n",
       "      <th>0.000947</th>\n",
       "      <td>-9.479228e+00</td>\n",
       "    </tr>\n",
       "    <tr>\n",
       "      <th>0.000947</th>\n",
       "      <td>9.479228e-04</td>\n",
       "    </tr>\n",
       "    <tr>\n",
       "      <th>0.001000</th>\n",
       "      <td>-1.000516e+01</td>\n",
       "    </tr>\n",
       "    <tr>\n",
       "      <th>0.001000</th>\n",
       "      <td>1.000516e-03</td>\n",
       "    </tr>\n",
       "  </tbody>\n",
       "</table>\n",
       "</div>"
      ],
      "text/plain": [
       "                       volt_curr\n",
       "Keithley_smua_curr              \n",
       "0.000001           -9.897549e-03\n",
       "0.000001            9.897549e-07\n",
       "0.000054           -5.360914e-01\n",
       "0.000054            5.360914e-05\n",
       "0.000106           -1.062385e+00\n",
       "0.000106            1.062385e-04\n",
       "0.000159           -1.588474e+00\n",
       "0.000159            1.588474e-04\n",
       "0.000211           -2.114559e+00\n",
       "0.000211            2.114559e-04\n",
       "0.000264           -2.640591e+00\n",
       "0.000264            2.640591e-04\n",
       "0.000316           -3.166847e+00\n",
       "0.000316            3.166847e-04\n",
       "0.000369           -3.692921e+00\n",
       "0.000369            3.692921e-04\n",
       "0.000422           -4.218995e+00\n",
       "0.000422            4.218995e-04\n",
       "0.000474           -4.744994e+00\n",
       "0.000474            4.744994e-04\n",
       "0.000527           -5.271035e+00\n",
       "0.000527            5.271035e-04\n",
       "0.000579           -5.797097e+00\n",
       "0.000579            5.797098e-04\n",
       "0.000632           -6.323298e+00\n",
       "0.000632            6.323299e-04\n",
       "0.000685           -6.849254e+00\n",
       "0.000685            6.849254e-04\n",
       "0.000737           -7.375241e+00\n",
       "0.000737            7.375241e-04\n",
       "0.000790           -7.901216e+00\n",
       "0.000790            7.901216e-04\n",
       "0.000842           -8.427213e+00\n",
       "0.000842            8.427213e-04\n",
       "0.000895           -8.953124e+00\n",
       "0.000895            8.953124e-04\n",
       "0.000947           -9.479228e+00\n",
       "0.000947            9.479228e-04\n",
       "0.001000           -1.000516e+01\n",
       "0.001000            1.000516e-03"
      ]
     },
     "execution_count": 19,
     "metadata": {},
     "output_type": "execute_result"
    }
   ],
   "source": [
    "dataset.get_data_as_pandas_dataframe()['volt_curr']"
   ]
  },
  {
   "cell_type": "markdown",
   "metadata": {},
   "source": [
    "Because of the tuple structure of volt_curr, we see every sweeping step (the first column) stored twice, meaning the top value of each step in the second column is the amplified voltage and the bottom one is the fed current, which is very close to the current value coming from the source in the first column. "
   ]
  },
  {
   "cell_type": "code",
   "execution_count": null,
   "metadata": {},
   "outputs": [],
   "source": []
  }
 ],
 "metadata": {
  "kernelspec": {
   "display_name": "Python 3",
   "language": "python",
   "name": "python3"
  },
  "language_info": {
   "codemirror_mode": {
    "name": "ipython",
    "version": 3
   },
   "file_extension": ".py",
   "mimetype": "text/x-python",
   "name": "python",
   "nbconvert_exporter": "python",
   "pygments_lexer": "ipython3",
   "version": "3.8.3"
  },
  "nbsphinx": {
   "execute": "never"
  }
 },
 "nbformat": 4,
 "nbformat_minor": 2
}
