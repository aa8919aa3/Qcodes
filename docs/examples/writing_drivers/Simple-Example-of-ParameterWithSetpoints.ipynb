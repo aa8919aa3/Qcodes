{
 "cells": [
  {
   "cell_type": "markdown",
   "metadata": {},
   "source": [
    "# Simple Example of ParameterWithSetpoints\n",
    "This notebook has an example of writing a simple driver with a parameter that has setpoints. This is most likely to be useful for instruments that return arrays of results. In this notebook we will show an example of this."
   ]
  },
  {
   "cell_type": "code",
   "execution_count": 1,
   "metadata": {},
   "outputs": [],
   "source": [
    "import numpy as np"
   ]
  },
  {
   "cell_type": "code",
   "execution_count": 2,
   "metadata": {},
   "outputs": [],
   "source": [
    "from qcodes.dataset.plotting import plot_by_id\n",
    "from qcodes.utils.validators import Numbers, Arrays\n",
    "from qcodes.instrument.base import Instrument\n",
    "from qcodes.dataset.measurements import Measurement"
   ]
  },
  {
   "cell_type": "code",
   "execution_count": 3,
   "metadata": {},
   "outputs": [],
   "source": [
    "from qcodes.dataset.database import initialise_database\n",
    "from qcodes.dataset.experiment_container import new_experiment"
   ]
  },
  {
   "cell_type": "code",
   "execution_count": 4,
   "metadata": {},
   "outputs": [],
   "source": [
    "from qcodes.instrument.parameter import ParameterWithSetpoints, GeneratedSetPoints, Parameter\n",
    "from qcodes.instrument.parameter import expand_setpoints_helper"
   ]
  },
  {
   "cell_type": "markdown",
   "metadata": {},
   "source": [
    "Here we define an dummy instrument that returns something like a frequency spectrum from a starting frequency give by `f_start` to a stop frequency given by `f_stop`\n",
    "in `n_points` steps. \n",
    "\n",
    "The extra functionality of the ParameterWithSetpoints is implemented by giving it a reference to one or more parameters that acts like its setpoints. To setup a `ParameterWithSetpoints` we have to do two things in addition to what we do for a normal parameter.\n",
    "\n",
    "* Define one or more parameter for the setpoints (one for each dimmension of the array and let the `ParameterWithSetpoints` know that these are the setpoints.\n",
    "* Give both the setpoints parameter(s) and the `ParameterWithSetpoints` a validator of type `Arrays` with a shape. The shapes should be such that the combined shape of the setpoints matches the shape of the ParameterWithSetpoints. Note that the shape may change with setting of the instrument the shape can be defined by another parameter as shown below. \n",
    "\n"
   ]
  },
  {
   "cell_type": "code",
   "execution_count": 5,
   "metadata": {},
   "outputs": [],
   "source": [
    "class DummyArray(ParameterWithSetpoints):\n",
    "    \n",
    "    def get_raw(self):\n",
    "        npoints = self.root_instrument.n_points.get_latest()\n",
    "        return np.random.rand(npoints)\n",
    "    \n",
    "\n",
    "class DummySpectrumAnalyzer(Instrument):\n",
    "    \n",
    "    def __init__(self, name, **kwargs):\n",
    "        \n",
    "        super().__init__(name, **kwargs)\n",
    "            \n",
    "\n",
    "        self.add_parameter('f_start',\n",
    "                           initial_value=0,\n",
    "                           unit='Hz',\n",
    "                           label='f start',\n",
    "                           vals=Numbers(0,1e3),\n",
    "                           get_cmd=None,\n",
    "                           set_cmd=None)\n",
    "\n",
    "        self.add_parameter('f_stop',\n",
    "                           unit='Hz',\n",
    "                           label='f stop',\n",
    "                           vals=Numbers(1,1e3),\n",
    "                           get_cmd=None,\n",
    "                           set_cmd=None)\n",
    "\n",
    "        self.add_parameter('n_points',\n",
    "                           unit='',\n",
    "                           initial_value=10,\n",
    "                           vals=Numbers(1,1e3),\n",
    "                           get_cmd=None,\n",
    "                           set_cmd=None)\n",
    "        \n",
    "        self.add_parameter('freq_axis',\n",
    "                           unit='Hz',\n",
    "                           label='Freq Axis',\n",
    "                           parameter_class=GeneratedSetPoints,\n",
    "                           startparam=self.f_start,\n",
    "                           stopparam=self.f_stop,\n",
    "                           numpointsparam=self.n_points,\n",
    "                           vals=Arrays(shape=(self.n_points.get_latest,)))\n",
    "                           \n",
    "        self.add_parameter('spectrum',\n",
    "                   unit='dBm',\n",
    "                   setpoints=(self.freq_axis,),\n",
    "                   label='Spectrum',\n",
    "                   parameter_class=DummyArray,\n",
    "                   vals=Arrays(shape=(self.n_points.get_latest,)))\n",
    "                "
   ]
  },
  {
   "cell_type": "markdown",
   "metadata": {},
   "source": [
    "In the above exampel the shape is defined by the parameter `n_points` that defines how many samples our \"SpectrumAnalyzer\" returns."
   ]
  },
  {
   "cell_type": "markdown",
   "metadata": {},
   "source": [
    "This means that the validation will call the function to get `n_points` twice for each get of the parameter. This may be too slow however if you (as the driver writer) can guarantee that the cached value for `n_points` will never be out of sync with the value stored in the instrument `n_points` may be replaced by it's latest known value such that the validator reads. \n",
    "```python\n",
    "vals=Arrays(shape=(self.n_points.get_latest))\n",
    "```\n",
    "\n",
    "This avoids any additional call to the instrument. In the same way the arguments to the `freq_axis` parameter that defines the start, stop and number of points can be replaced by their latest value if the instrument allows it.\n",
    "\n"
   ]
  },
  {
   "cell_type": "code",
   "execution_count": 6,
   "metadata": {},
   "outputs": [
    {
     "data": {
      "text/plain": [
       "tutorial_exp#no sample#113@C:\\Users\\jenielse/experiments.db\n",
       "-----------------------------------------------------------"
      ]
     },
     "execution_count": 6,
     "metadata": {},
     "output_type": "execute_result"
    }
   ],
   "source": [
    "initialise_database()\n",
    "new_experiment(name='tutorial_exp', sample_name=\"no sample\")"
   ]
  },
  {
   "cell_type": "code",
   "execution_count": 7,
   "metadata": {},
   "outputs": [],
   "source": [
    "a = DummySpectrumAnalyzer('foobar')"
   ]
  },
  {
   "cell_type": "markdown",
   "metadata": {},
   "source": [
    "First we setup the limits of the spectrum"
   ]
  },
  {
   "cell_type": "code",
   "execution_count": 8,
   "metadata": {},
   "outputs": [],
   "source": [
    "a.f_start(0)\n",
    "a.f_stop(500)\n",
    "a.n_points(501)"
   ]
  },
  {
   "cell_type": "markdown",
   "metadata": {},
   "source": [
    "And we can grab the frequency axis"
   ]
  },
  {
   "cell_type": "code",
   "execution_count": 9,
   "metadata": {},
   "outputs": [
    {
     "data": {
      "text/plain": [
       "501"
      ]
     },
     "execution_count": 9,
     "metadata": {},
     "output_type": "execute_result"
    }
   ],
   "source": [
    "a.n_points()"
   ]
  },
  {
   "cell_type": "code",
   "execution_count": 10,
   "metadata": {
    "scrolled": false
   },
   "outputs": [
    {
     "data": {
      "text/plain": [
       "501"
      ]
     },
     "execution_count": 10,
     "metadata": {},
     "output_type": "execute_result"
    }
   ],
   "source": [
    "freq_axis = a.freq_axis()\n",
    "len(freq_axis)"
   ]
  },
  {
   "cell_type": "code",
   "execution_count": 11,
   "metadata": {},
   "outputs": [
    {
     "data": {
      "text/plain": [
       "array([0., 1., 2., 3., 4., 5., 6., 7., 8., 9.])"
      ]
     },
     "execution_count": 11,
     "metadata": {},
     "output_type": "execute_result"
    }
   ],
   "source": [
    "freq_axis[:10]"
   ]
  },
  {
   "cell_type": "markdown",
   "metadata": {},
   "source": [
    "As expected we get a result wit 501 points as we asked for an axis with 501 points. "
   ]
  },
  {
   "cell_type": "markdown",
   "metadata": {},
   "source": [
    "Above we have added a validator to the `freq_axis` parameter encoding the fact that this is an Array with `n_points`. Note that we do not have to supply the number of points as an integer but can supply a function that returns the valid number of points. This would normally be a QCoDeS parameter.\n",
    "\n",
    "This will be checked if we validate the output."
   ]
  },
  {
   "cell_type": "code",
   "execution_count": 12,
   "metadata": {},
   "outputs": [],
   "source": [
    "a.freq_axis.validate(a.freq_axis.get())"
   ]
  },
  {
   "cell_type": "markdown",
   "metadata": {},
   "source": [
    "Naturally we can also grap the spectrum. Getting the spectrum will automatically perform validation both for the shape of the parameter it self and the relation to the setpoint parameter(s)"
   ]
  },
  {
   "cell_type": "code",
   "execution_count": 13,
   "metadata": {
    "scrolled": true
   },
   "outputs": [
    {
     "data": {
      "text/plain": [
       "501"
      ]
     },
     "execution_count": 13,
     "metadata": {},
     "output_type": "execute_result"
    }
   ],
   "source": [
    "spectrum = a.spectrum.get()\n",
    "len(spectrum)"
   ]
  },
  {
   "cell_type": "markdown",
   "metadata": {},
   "source": [
    "When we validate a ParameterWithSetpoints we automatically validate that the shape is consistent between the parameters and its setpoints. As well as validating the shape as above."
   ]
  },
  {
   "cell_type": "code",
   "execution_count": 14,
   "metadata": {},
   "outputs": [],
   "source": [
    "a.spectrum.validate(a.spectrum.get())"
   ]
  },
  {
   "cell_type": "markdown",
   "metadata": {},
   "source": [
    "The consistent shapes can be validated explicitly."
   ]
  },
  {
   "cell_type": "code",
   "execution_count": 15,
   "metadata": {},
   "outputs": [],
   "source": [
    "a.spectrum.validate_consistent_shape()"
   ]
  },
  {
   "cell_type": "markdown",
   "metadata": {},
   "source": [
    "We can inspect the setpoints of the spectrum."
   ]
  },
  {
   "cell_type": "code",
   "execution_count": 16,
   "metadata": {},
   "outputs": [
    {
     "data": {
      "text/plain": [
       "(<qcodes.instrument.parameter.GeneratedSetPoints: freq_axis at 2390766145264>,)"
      ]
     },
     "execution_count": 16,
     "metadata": {},
     "output_type": "execute_result"
    }
   ],
   "source": [
    "a.spectrum.setpoints"
   ]
  },
  {
   "cell_type": "markdown",
   "metadata": {},
   "source": [
    "Or even change them."
   ]
  },
  {
   "cell_type": "code",
   "execution_count": 17,
   "metadata": {},
   "outputs": [],
   "source": [
    "a.spectrum.setpoints = (a.freq_axis,)"
   ]
  },
  {
   "cell_type": "markdown",
   "metadata": {},
   "source": [
    "## Measurement"
   ]
  },
  {
   "cell_type": "markdown",
   "metadata": {},
   "source": [
    "We can also directly consume the parameter in a measurement."
   ]
  },
  {
   "cell_type": "code",
   "execution_count": 18,
   "metadata": {},
   "outputs": [
    {
     "name": "stdout",
     "output_type": "stream",
     "text": [
      "Starting experimental run with id: 327\n"
     ]
    }
   ],
   "source": [
    "meas = Measurement()\n",
    "meas.register_parameter(a.spectrum)\n",
    "\n",
    "with meas.run() as datasaver:\n",
    "    datasaver.add_result((a.freq_axis, a.freq_axis()),\n",
    "                         (a.spectrum, a.spectrum()))\n",
    "    \n",
    "    dataid = datasaver.run_id"
   ]
  },
  {
   "cell_type": "markdown",
   "metadata": {},
   "source": [
    "And plot it"
   ]
  },
  {
   "cell_type": "code",
   "execution_count": 19,
   "metadata": {},
   "outputs": [
    {
     "data": {
      "text/plain": [
       "([<matplotlib.axes._subplots.AxesSubplot at 0x22ca4c55f98>], [None])"
      ]
     },
     "execution_count": 19,
     "metadata": {},
     "output_type": "execute_result"
    },
    {
     "data": {
      "image/png": "[encoded data removed]",
      "text/plain": [
       "<Figure size 432x288 with 1 Axes>"
      ]
     },
     "metadata": {
      "needs_background": "light"
     },
     "output_type": "display_data"
    }
   ],
   "source": [
    "plot_by_id(dataid)"
   ]
  },
  {
   "cell_type": "markdown",
   "metadata": {},
   "source": [
    "To reduce the amount of typing a simple convenicen function is provided that will take a `ParameterWithSetpoints` and get both its values and the setpoints values and return them as tuples for direct insertion into the Dataset."
   ]
  },
  {
   "cell_type": "code",
   "execution_count": 20,
   "metadata": {
    "scrolled": true
   },
   "outputs": [
    {
     "data": {
      "text/plain": [
       "[(<qcodes.instrument.parameter.GeneratedSetPoints: freq_axis at 2390766145264>,\n",
       "  array([  0.,   1.,   2.,   3.,   4.,   5.,   6.,   7.,   8.,   9.,  10.,\n",
       "          11.,  12.,  13.,  14.,  15.,  16.,  17.,  18.,  19.,  20.,  21.,\n",
       "          22.,  23.,  24.,  25.,  26.,  27.,  28.,  29.,  30.,  31.,  32.,\n",
       "          33.,  34.,  35.,  36.,  37.,  38.,  39.,  40.,  41.,  42.,  43.,\n",
       "          44.,  45.,  46.,  47.,  48.,  49.,  50.,  51.,  52.,  53.,  54.,\n",
       "          55.,  56.,  57.,  58.,  59.,  60.,  61.,  62.,  63.,  64.,  65.,\n",
       "          66.,  67.,  68.,  69.,  70.,  71.,  72.,  73.,  74.,  75.,  76.,\n",
       "          77.,  78.,  79.,  80.,  81.,  82.,  83.,  84.,  85.,  86.,  87.,\n",
       "          88.,  89.,  90.,  91.,  92.,  93.,  94.,  95.,  96.,  97.,  98.,\n",
       "          99., 100., 101., 102., 103., 104., 105., 106., 107., 108., 109.,\n",
       "         110., 111., 112., 113., 114., 115., 116., 117., 118., 119., 120.,\n",
       "         121., 122., 123., 124., 125., 126., 127., 128., 129., 130., 131.,\n",
       "         132., 133., 134., 135., 136., 137., 138., 139., 140., 141., 142.,\n",
       "         143., 144., 145., 146., 147., 148., 149., 150., 151., 152., 153.,\n",
       "         154., 155., 156., 157., 158., 159., 160., 161., 162., 163., 164.,\n",
       "         165., 166., 167., 168., 169., 170., 171., 172., 173., 174., 175.,\n",
       "         176., 177., 178., 179., 180., 181., 182., 183., 184., 185., 186.,\n",
       "         187., 188., 189., 190., 191., 192., 193., 194., 195., 196., 197.,\n",
       "         198., 199., 200., 201., 202., 203., 204., 205., 206., 207., 208.,\n",
       "         209., 210., 211., 212., 213., 214., 215., 216., 217., 218., 219.,\n",
       "         220., 221., 222., 223., 224., 225., 226., 227., 228., 229., 230.,\n",
       "         231., 232., 233., 234., 235., 236., 237., 238., 239., 240., 241.,\n",
       "         242., 243., 244., 245., 246., 247., 248., 249., 250., 251., 252.,\n",
       "         253., 254., 255., 256., 257., 258., 259., 260., 261., 262., 263.,\n",
       "         264., 265., 266., 267., 268., 269., 270., 271., 272., 273., 274.,\n",
       "         275., 276., 277., 278., 279., 280., 281., 282., 283., 284., 285.,\n",
       "         286., 287., 288., 289., 290., 291., 292., 293., 294., 295., 296.,\n",
       "         297., 298., 299., 300., 301., 302., 303., 304., 305., 306., 307.,\n",
       "         308., 309., 310., 311., 312., 313., 314., 315., 316., 317., 318.,\n",
       "         319., 320., 321., 322., 323., 324., 325., 326., 327., 328., 329.,\n",
       "         330., 331., 332., 333., 334., 335., 336., 337., 338., 339., 340.,\n",
       "         341., 342., 343., 344., 345., 346., 347., 348., 349., 350., 351.,\n",
       "         352., 353., 354., 355., 356., 357., 358., 359., 360., 361., 362.,\n",
       "         363., 364., 365., 366., 367., 368., 369., 370., 371., 372., 373.,\n",
       "         374., 375., 376., 377., 378., 379., 380., 381., 382., 383., 384.,\n",
       "         385., 386., 387., 388., 389., 390., 391., 392., 393., 394., 395.,\n",
       "         396., 397., 398., 399., 400., 401., 402., 403., 404., 405., 406.,\n",
       "         407., 408., 409., 410., 411., 412., 413., 414., 415., 416., 417.,\n",
       "         418., 419., 420., 421., 422., 423., 424., 425., 426., 427., 428.,\n",
       "         429., 430., 431., 432., 433., 434., 435., 436., 437., 438., 439.,\n",
       "         440., 441., 442., 443., 444., 445., 446., 447., 448., 449., 450.,\n",
       "         451., 452., 453., 454., 455., 456., 457., 458., 459., 460., 461.,\n",
       "         462., 463., 464., 465., 466., 467., 468., 469., 470., 471., 472.,\n",
       "         473., 474., 475., 476., 477., 478., 479., 480., 481., 482., 483.,\n",
       "         484., 485., 486., 487., 488., 489., 490., 491., 492., 493., 494.,\n",
       "         495., 496., 497., 498., 499., 500.])),\n",
       " (<__main__.DummyArray: spectrum at 2390766145376>,\n",
       "  array([9.99565739e-01, 3.41410534e-01, 3.99354826e-02, 1.40788221e-01,\n",
       "         3.15613693e-01, 7.28015631e-01, 6.33773056e-01, 4.25418735e-01,\n",
       "         7.94719526e-01, 9.61731268e-01, 9.75351491e-01, 6.22680081e-01,\n",
       "         7.30689866e-01, 7.44535004e-01, 1.81936308e-01, 4.97046986e-01,\n",
       "         8.84645545e-01, 3.36639293e-01, 9.63264159e-01, 7.75776116e-01,\n",
       "         9.30999126e-01, 5.09147388e-02, 8.07309008e-01, 5.83048231e-01,\n",
       "         8.30254178e-01, 3.55403452e-01, 9.29724922e-01, 7.55007191e-01,\n",
       "         7.42848906e-01, 2.39841281e-01, 2.53890657e-02, 2.98199498e-01,\n",
       "         2.17006527e-01, 5.45356014e-01, 6.19503804e-01, 5.52957884e-01,\n",
       "         3.71367390e-01, 1.74369637e-01, 9.67179968e-01, 5.57432914e-01,\n",
       "         1.81509404e-02, 1.96939687e-01, 4.47661103e-01, 6.82216425e-01,\n",
       "         8.38756146e-02, 1.48217835e-01, 4.22221137e-01, 5.70910256e-01,\n",
       "         7.91652764e-02, 2.64279322e-01, 2.13251130e-01, 5.47825630e-01,\n",
       "         6.26465259e-01, 3.44912193e-01, 8.74813028e-01, 3.76769481e-01,\n",
       "         6.68953633e-01, 3.34877444e-01, 6.12556740e-01, 4.55317971e-01,\n",
       "         7.36250566e-02, 2.29914116e-01, 5.67923192e-01, 2.54977559e-02,\n",
       "         2.81176076e-01, 3.11385813e-02, 7.55621595e-01, 3.45681008e-01,\n",
       "         1.91843692e-01, 5.02846865e-01, 7.93729828e-01, 9.72051900e-01,\n",
       "         7.05178455e-01, 4.21497225e-01, 5.36699812e-01, 4.14430358e-01,\n",
       "         7.28965120e-01, 1.37664071e-01, 4.97820347e-01, 1.19387504e-01,\n",
       "         7.35322096e-01, 1.97371125e-01, 4.93550132e-01, 9.07098820e-01,\n",
       "         5.24590272e-01, 8.93539567e-01, 9.91839182e-01, 7.94509547e-01,\n",
       "         2.60763277e-01, 3.12911177e-01, 9.37775679e-01, 7.94952432e-01,\n",
       "         8.90915205e-01, 4.52876587e-01, 2.22377019e-01, 8.19277381e-01,\n",
       "         1.04698600e-01, 8.29247305e-01, 7.25398842e-01, 4.30217234e-01,\n",
       "         2.02351666e-01, 6.02480394e-01, 7.63139009e-01, 4.59794785e-01,\n",
       "         4.48857895e-01, 3.09285048e-01, 3.15328615e-01, 2.48970026e-01,\n",
       "         7.82595438e-01, 3.43069627e-01, 2.46129472e-01, 9.27906688e-01,\n",
       "         3.62496903e-01, 9.36183165e-01, 5.30122696e-01, 4.71887824e-01,\n",
       "         8.98885207e-01, 1.99440087e-01, 9.30878418e-01, 5.80235636e-03,\n",
       "         4.85949268e-01, 1.21253358e-01, 1.05663840e-01, 4.45995909e-01,\n",
       "         1.32285697e-01, 1.88051449e-01, 5.66314432e-01, 1.96391013e-01,\n",
       "         6.44853441e-01, 7.44730617e-01, 9.33214530e-01, 3.65254472e-01,\n",
       "         5.34042118e-01, 4.38401666e-01, 8.00591221e-01, 4.53647268e-01,\n",
       "         9.53921476e-01, 2.99292368e-01, 3.58211243e-01, 8.88666696e-02,\n",
       "         7.31102742e-01, 2.74750012e-01, 2.08909460e-01, 1.34151145e-01,\n",
       "         5.40630994e-01, 5.33618975e-01, 5.85910554e-01, 6.62181534e-02,\n",
       "         4.39061197e-01, 5.43240704e-01, 2.83730296e-01, 6.53141042e-01,\n",
       "         5.13939243e-01, 4.01024990e-01, 9.90300493e-01, 9.59141680e-01,\n",
       "         1.46507223e-01, 2.71011309e-01, 5.53086821e-01, 3.02678580e-01,\n",
       "         6.67713948e-01, 4.19330128e-01, 7.97884870e-01, 6.22200535e-01,\n",
       "         6.41336196e-01, 5.32021719e-01, 9.69912009e-01, 5.33322177e-01,\n",
       "         9.31792556e-01, 1.31678130e-01, 2.97724981e-01, 5.84659648e-01,\n",
       "         7.74580017e-01, 9.55835743e-01, 7.26774085e-01, 3.44820833e-01,\n",
       "         9.11520346e-01, 3.09289513e-01, 4.48603620e-01, 7.38350720e-01,\n",
       "         7.15318239e-01, 6.31576295e-02, 9.53652028e-01, 8.42154221e-01,\n",
       "         6.15929309e-01, 9.65018511e-01, 8.27526534e-01, 8.60006983e-01,\n",
       "         9.65526594e-01, 2.11791838e-01, 3.71902870e-01, 9.83151064e-01,\n",
       "         8.26111626e-01, 2.22077570e-01, 4.95228585e-02, 5.04174503e-01,\n",
       "         8.15431883e-01, 1.50511340e-02, 1.03113214e-01, 8.62051326e-01,\n",
       "         9.37253043e-01, 6.45135686e-01, 8.13276210e-01, 9.04238921e-01,\n",
       "         3.46383319e-01, 3.83622610e-01, 4.39520093e-02, 6.02628857e-01,\n",
       "         1.37431584e-01, 9.75922110e-01, 4.02342098e-01, 9.72736764e-01,\n",
       "         3.46422493e-02, 8.15245076e-01, 7.02859924e-02, 8.41651799e-01,\n",
       "         7.35915944e-02, 2.24614090e-01, 7.94129711e-01, 3.95945647e-01,\n",
       "         4.72410498e-01, 6.54710352e-01, 8.00370576e-01, 5.99576342e-01,\n",
       "         6.11392722e-01, 1.38540389e-01, 5.36475042e-01, 4.29769602e-01,\n",
       "         3.63185576e-02, 4.39795715e-01, 1.51145805e-01, 7.85529960e-01,\n",
       "         2.09436292e-01, 1.62671340e-01, 7.77973688e-01, 3.42470450e-01,\n",
       "         6.36011358e-01, 5.65356534e-01, 7.06493270e-01, 1.25917957e-01,\n",
       "         2.34300213e-01, 6.52203562e-01, 5.68346343e-01, 2.85112367e-01,\n",
       "         4.04118591e-01, 3.12736602e-01, 5.13240793e-01, 5.92217830e-01,\n",
       "         1.38846864e-01, 5.98383214e-01, 4.93381466e-01, 1.58642649e-01,\n",
       "         4.47102143e-01, 2.96732893e-01, 2.76475495e-02, 5.23742750e-01,\n",
       "         8.29322816e-01, 9.04275946e-01, 8.99065887e-01, 5.10491632e-01,\n",
       "         2.28652128e-02, 9.74347293e-01, 5.40687677e-01, 5.35116990e-01,\n",
       "         8.99989930e-01, 3.80631425e-01, 1.84888208e-01, 5.28368299e-01,\n",
       "         4.83096250e-01, 8.52747960e-01, 7.45884962e-01, 7.57777901e-01,\n",
       "         8.44041988e-01, 5.60282248e-01, 2.56056230e-01, 3.12732884e-01,\n",
       "         4.98863229e-01, 8.88598038e-01, 5.23785822e-01, 9.69375963e-01,\n",
       "         4.56801666e-02, 3.33066786e-02, 7.19046639e-01, 6.61791910e-01,\n",
       "         8.29852907e-01, 8.99954459e-01, 9.42031477e-01, 6.24357383e-02,\n",
       "         6.36244850e-01, 6.85687687e-01, 9.43497015e-01, 7.80660161e-01,\n",
       "         5.40653727e-02, 8.31770798e-01, 5.63136226e-01, 9.42273672e-01,\n",
       "         3.99474067e-01, 1.56019596e-01, 4.93322139e-01, 2.55309361e-01,\n",
       "         3.29871694e-02, 2.91325615e-01, 4.00268302e-01, 8.85430666e-01,\n",
       "         7.05016503e-01, 7.73273740e-01, 4.99769528e-01, 7.12745196e-01,\n",
       "         9.84614743e-01, 1.80047561e-01, 1.89594444e-01, 2.12153721e-01,\n",
       "         1.86603275e-01, 5.51526333e-01, 7.77398967e-01, 5.38552491e-01,\n",
       "         3.17530045e-01, 7.53669384e-01, 2.67014370e-01, 1.78044634e-01,\n",
       "         3.07581486e-01, 8.80043188e-01, 5.87604233e-01, 5.21717066e-01,\n",
       "         9.11419690e-01, 7.50522873e-01, 4.06413383e-01, 4.69524466e-01,\n",
       "         3.31204756e-01, 1.86158271e-01, 6.94798146e-01, 6.89873564e-01,\n",
       "         2.93527570e-01, 6.65736905e-01, 4.59224702e-01, 6.24971805e-01,\n",
       "         8.05249807e-01, 1.41016520e-01, 3.36891598e-01, 1.60068945e-04,\n",
       "         4.46217609e-02, 5.00118941e-01, 2.24513027e-01, 7.57107689e-01,\n",
       "         2.73578667e-01, 5.50661065e-01, 6.34878404e-01, 6.14719915e-01,\n",
       "         4.48753943e-01, 3.69149028e-01, 8.78733083e-01, 2.06124283e-01,\n",
       "         8.07536354e-01, 1.47461713e-01, 9.21496176e-02, 9.36120310e-02,\n",
       "         7.23257819e-01, 4.83356676e-01, 8.10933785e-01, 4.86625441e-01,\n",
       "         3.25327354e-01, 3.15575516e-01, 7.51404423e-01, 6.32419671e-01,\n",
       "         9.98517225e-01, 4.66755026e-01, 4.71491101e-01, 9.03844024e-01,\n",
       "         2.85615622e-01, 1.58447740e-01, 9.44181381e-01, 8.52534251e-01,\n",
       "         3.20851872e-01, 9.81898783e-01, 6.76955086e-02, 7.04578525e-01,\n",
       "         5.50502958e-01, 6.43058346e-01, 1.05994915e-01, 8.38242737e-01,\n",
       "         7.32299423e-01, 6.80098191e-01, 2.82491453e-01, 1.17841353e-02,\n",
       "         9.32406843e-02, 1.69652650e-02, 1.96996814e-03, 4.61902088e-01,\n",
       "         5.08387117e-01, 7.63085205e-01, 8.69900900e-01, 5.30100068e-01,\n",
       "         3.86444567e-01, 6.98676647e-01, 4.10054942e-01, 3.23854673e-01,\n",
       "         9.78018718e-01, 4.03827092e-01, 9.71707077e-01, 8.21548158e-01,\n",
       "         4.53221507e-01, 2.15674959e-01, 7.36859777e-01, 9.89141311e-01,\n",
       "         4.71907900e-01, 5.55581679e-01, 7.72265047e-01, 4.04337572e-02,\n",
       "         1.93989802e-01, 8.06078413e-01, 1.80137085e-01, 2.54887847e-01,\n",
       "         3.87938987e-01, 4.07401628e-01, 5.69662950e-01, 3.14091850e-02,\n",
       "         8.41129149e-02, 7.85351895e-02, 4.76903631e-01, 8.36711074e-01,\n",
       "         6.33082371e-01, 9.24847168e-01, 4.15136143e-01, 9.81838838e-01,\n",
       "         4.45930210e-01, 3.60801272e-01, 1.71282850e-01, 9.38710953e-01,\n",
       "         4.36674624e-01, 1.86638477e-02, 4.17193024e-01, 3.24773079e-01,\n",
       "         8.56446942e-01, 8.55979425e-01, 2.43593387e-01, 5.67727569e-03,\n",
       "         3.37346043e-01, 7.61597656e-01, 1.75936838e-01, 5.64869495e-01,\n",
       "         3.19844051e-01, 5.50864248e-02, 8.41955884e-01, 9.00095568e-01,\n",
       "         8.47223469e-01, 2.95250706e-01, 4.42064643e-01, 2.05838150e-01,\n",
       "         7.97738189e-01, 4.74754482e-01, 8.05965198e-01, 2.28721142e-02,\n",
       "         1.97183650e-01, 3.62138667e-01, 1.96555145e-01, 9.30542505e-01,\n",
       "         4.06188646e-02, 7.88223486e-01, 2.45454171e-01, 3.20629459e-01,\n",
       "         9.28427922e-01, 5.96984264e-01, 1.00474217e-01, 1.74115023e-01,\n",
       "         3.05847269e-01, 2.75380202e-01, 7.72199193e-01, 1.42540362e-02,\n",
       "         3.24757775e-01, 1.56542894e-01, 4.05483346e-01, 7.69122902e-01,\n",
       "         1.40467431e-01, 7.59219506e-01, 1.40852631e-01, 4.66496589e-01,\n",
       "         1.91075180e-01, 1.80290753e-01, 4.80687931e-01, 9.37127278e-01,\n",
       "         7.18769072e-01, 6.31174172e-01, 5.64695986e-01, 3.27438447e-01,\n",
       "         3.37798596e-01, 2.43042117e-01, 9.61556179e-01, 7.98997328e-01,\n",
       "         7.78154571e-01, 6.84901123e-02, 6.81428228e-01, 3.56675924e-01,\n",
       "         5.76521790e-02, 4.76279546e-01, 9.41579081e-01, 3.38922558e-01,\n",
       "         5.62890699e-01, 8.80744049e-01, 1.07252691e-01, 5.21412295e-01,\n",
       "         1.27897017e-01]))]"
      ]
     },
     "execution_count": 20,
     "metadata": {},
     "output_type": "execute_result"
    }
   ],
   "source": [
    "expand_setpoints_helper(a.spectrum)"
   ]
  },
  {
   "cell_type": "code",
   "execution_count": 21,
   "metadata": {},
   "outputs": [
    {
     "name": "stdout",
     "output_type": "stream",
     "text": [
      "Starting experimental run with id: 328\n"
     ]
    }
   ],
   "source": [
    "meas = Measurement()\n",
    "meas.register_parameter(a.spectrum)\n",
    "\n",
    "with meas.run() as datasaver:\n",
    "    datasaver.add_result(*expand_setpoints_helper(a.spectrum))\n",
    "    \n",
    "    dataid = datasaver.run_id"
   ]
  },
  {
   "cell_type": "code",
   "execution_count": null,
   "metadata": {},
   "outputs": [],
   "source": []
  }
 ],
 "metadata": {
  "kernelspec": {
   "display_name": "Python 3",
   "language": "python",
   "name": "python3"
  },
  "language_info": {
   "codemirror_mode": {
    "name": "ipython",
    "version": 3
   },
   "file_extension": ".py",
   "mimetype": "text/x-python",
   "name": "python",
   "nbconvert_exporter": "python",
   "pygments_lexer": "ipython3",
   "version": "3.6.8"
  },
  "toc": {
   "base_numbering": 1,
   "nav_menu": {},
   "number_sections": true,
   "sideBar": true,
   "skip_h1_title": false,
   "title_cell": "Table of Contents",
   "title_sidebar": "Contents",
   "toc_cell": false,
   "toc_position": {},
   "toc_section_display": true,
   "toc_window_display": false
  },
  "varInspector": {
   "cols": {
    "lenName": 16,
    "lenType": 16,
    "lenVar": 40
   },
   "kernels_config": {
    "python": {
     "delete_cmd_postfix": "",
     "delete_cmd_prefix": "del ",
     "library": "var_list.py",
     "varRefreshCmd": "print(var_dic_list())"
    },
    "r": {
     "delete_cmd_postfix": ") ",
     "delete_cmd_prefix": "rm(",
     "library": "var_list.r",
     "varRefreshCmd": "cat(var_dic_list()) "
    }
   },
   "types_to_exclude": [
    "module",
    "function",
    "builtin_function_or_method",
    "instance",
    "_Feature"
   ],
   "window_display": false
  }
 },
 "nbformat": 4,
 "nbformat_minor": 2
}
