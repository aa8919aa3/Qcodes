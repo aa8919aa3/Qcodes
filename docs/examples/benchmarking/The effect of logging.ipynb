{
 "cells": [
  {
   "cell_type": "markdown",
   "metadata": {},
   "source": [
    "# The effect of logging\n",
    "\n",
    "QCoDeS comes with three levels of logging. \n",
    "\n",
    "- Logging can be completely off. This is the default.\n",
    "- Logging can be on and log messages are saved to a file on disk.\n",
    "- Logging can be on and log messages are saved to a file AND sent to Azure for telemetry.\n",
    "\n",
    "This notebook performs a 2D measurement loop and times it for the three different cases in a worst-case-scenario situation where we log a message at every single step of the measurement."
   ]
  },
  {
   "cell_type": "code",
   "execution_count": 1,
   "metadata": {},
   "outputs": [],
   "source": [
    "import logging\n",
    "\n",
    "import numpy as np\n",
    "\n",
    "import qcodes as qc\n",
    "from qcodes.logger import start_all_logging\n",
    "from qcodes.dataset.measurements import Measurement\n",
    "from qcodes.tests.instrument_mocks import DummyInstrument\n",
    "from qcodes.dataset.plotting import plot_dataset\n",
    "from qcodes.logger import flush_telemetry_traces\n",
    "from qcodes.dataset.sqlite.database import initialise_or_create_database_at\n",
    "from qcodes.dataset.experiment_container import new_experiment"
   ]
  },
  {
   "cell_type": "markdown",
   "metadata": {},
   "source": [
    "## Set up the virtual experiment\n",
    "\n",
    "We set up everything in a separate DB file, so you don't pollute your _real_ data with this benchmarking."
   ]
  },
  {
   "cell_type": "code",
   "execution_count": 2,
   "metadata": {},
   "outputs": [
    {
     "name": "stderr",
     "output_type": "stream",
     "text": [
      "Upgrading database: : 0it [00:00, ?it/s]\n",
      "Upgrading database: : 0it [00:00, ?it/s]\n",
      "Upgrading database, version 5 -> 6: : 0it [00:00, ?it/s]\n"
     ]
    },
    {
     "data": {
      "text/plain": [
       "logging_benchmarking#the sample is in your mind#1@C:\\Users\\wihpniel\\src\\qcodes\\docs\\examples\\benchmarking\\logging_benchmarking.db\n",
       "---------------------------------------------------------------------------------------------------------------------------------"
      ]
     },
     "execution_count": 2,
     "metadata": {},
     "output_type": "execute_result"
    }
   ],
   "source": [
    "initialise_or_create_database_at('logging_benchmarking.db')\n",
    "new_experiment('logging_benchmarking', 'the sample is in your mind')"
   ]
  },
  {
   "cell_type": "code",
   "execution_count": 3,
   "metadata": {},
   "outputs": [],
   "source": [
    "dac = DummyInstrument('dac', gates=['v1', 'v2'])\n",
    "meter = DummyInstrument('meter', gates=['conductance'])\n",
    "meter.conductance.unit = 'hbar/e^2'"
   ]
  },
  {
   "cell_type": "code",
   "execution_count": 4,
   "metadata": {},
   "outputs": [],
   "source": [
    "def conductance_simulator():\n",
    "    max_val = 1+np.pi/2+0.1\n",
    "    return (np.sin(dac.v1()) + \n",
    "            np.arctan(dac.v2()) + \n",
    "            0.1*np.random.randn())/max_val\n",
    "\n",
    "meter.conductance.get = conductance_simulator"
   ]
  },
  {
   "cell_type": "code",
   "execution_count": 5,
   "metadata": {},
   "outputs": [],
   "source": [
    "meas = (Measurement()\n",
    "        .register_parameter(dac.v1)\n",
    "        .register_parameter(dac.v2)\n",
    "        .register_parameter(meter.conductance, setpoints=[dac.v1, dac.v2]))\n"
   ]
  },
  {
   "cell_type": "code",
   "execution_count": 6,
   "metadata": {},
   "outputs": [],
   "source": [
    "v1s = np.linspace(0, 5, 20)\n",
    "v2s = np.linspace(-0.2, 0.2, 20)"
   ]
  },
  {
   "cell_type": "markdown",
   "metadata": {},
   "source": [
    "## Version 1: no logging\n",
    "\n",
    "What we'll eventually log is a message about whether the conductance is positive or negative. To make things fair, we still perform the evaluation of that condition in this version."
   ]
  },
  {
   "cell_type": "code",
   "execution_count": 7,
   "metadata": {},
   "outputs": [
    {
     "name": "stdout",
     "output_type": "stream",
     "text": [
      "Starting experimental run with id: 1\n",
      "Starting experimental run with id: 2\n",
      "Starting experimental run with id: 3\n",
      "Starting experimental run with id: 4\n",
      "Starting experimental run with id: 5\n",
      "Starting experimental run with id: 6\n",
      "Starting experimental run with id: 7\n",
      "Starting experimental run with id: 8\n",
      "183 ms ± 13.8 ms per loop (mean ± std. dev. of 7 runs, 1 loop each)\n"
     ]
    }
   ],
   "source": [
    "%%timeit\n",
    "\n",
    "with meas.run() as datasaver:\n",
    "    for v1 in v1s:\n",
    "        dac.v1(v1)\n",
    "        for v2 in v2s:\n",
    "            dac.v2(v2)\n",
    "            cond = meter.conductance()\n",
    "            cond_pos = cond > 0\n",
    "            datasaver.add_result((dac.v1, v1), \n",
    "                                 (dac.v2, v2),\n",
    "                                 (meter.conductance, cond))"
   ]
  },
  {
   "cell_type": "markdown",
   "metadata": {},
   "source": [
    "## Version 2: Log to file only"
   ]
  },
  {
   "cell_type": "code",
   "execution_count": 8,
   "metadata": {},
   "outputs": [
    {
     "name": "stdout",
     "output_type": "stream",
     "text": [
      "Logging hadn't been started.\n",
      "Activating auto-logging. Current session state plus future input saved.\n",
      "Filename       : C:\\Users\\wihpniel\\.qcodes\\logs\\command_history.log\n",
      "Mode           : append\n",
      "Output logging : True\n",
      "Raw input log  : False\n",
      "Timestamping   : True\n",
      "State          : active\n"
     ]
    }
   ],
   "source": [
    "qc.config.telemetry.enabled = False\n",
    "start_all_logging()\n",
    "log = logging.getLogger()"
   ]
  },
  {
   "cell_type": "code",
   "execution_count": 9,
   "metadata": {},
   "outputs": [
    {
     "name": "stdout",
     "output_type": "stream",
     "text": [
      "Starting experimental run with id: 9\n",
      "Starting experimental run with id: 10\n",
      "Starting experimental run with id: 11\n",
      "Starting experimental run with id: 12\n",
      "Starting experimental run with id: 13\n",
      "Starting experimental run with id: 14\n",
      "Starting experimental run with id: 15\n",
      "Starting experimental run with id: 16\n",
      "212 ms ± 9.04 ms per loop (mean ± std. dev. of 7 runs, 1 loop each)\n"
     ]
    }
   ],
   "source": [
    "%%timeit\n",
    "\n",
    "with meas.run() as datasaver:\n",
    "    for v1 in v1s:\n",
    "        dac.v1(v1)\n",
    "        for v2 in v2s:\n",
    "            dac.v2(v2)\n",
    "            cond = meter.conductance()\n",
    "            cond_pos = cond > 0\n",
    "            if cond_pos:\n",
    "                log.info('Positive conductance')\n",
    "            else:\n",
    "                log.info('Negative conductance')\n",
    "            datasaver.add_result((dac.v1, v1), \n",
    "                                 (dac.v2, v2),\n",
    "                                 (meter.conductance, cond))"
   ]
  },
  {
   "cell_type": "markdown",
   "metadata": {},
   "source": [
    "## Version 3: Log to file and telemetric server"
   ]
  },
  {
   "cell_type": "code",
   "execution_count": 10,
   "metadata": {},
   "outputs": [
    {
     "name": "stdout",
     "output_type": "stream",
     "text": [
      "Activating auto-logging. Current session state plus future input saved.\n",
      "Filename       : C:\\Users\\wihpniel\\.qcodes\\logs\\command_history.log\n",
      "Mode           : append\n",
      "Output logging : True\n",
      "Raw input log  : False\n",
      "Timestamping   : True\n",
      "State          : active\n"
     ]
    }
   ],
   "source": [
    "logging.shutdown()\n",
    "qc.config.telemetry.enabled = True\n",
    "start_all_logging()\n",
    "log = logging.getLogger()"
   ]
  },
  {
   "cell_type": "code",
   "execution_count": 13,
   "metadata": {},
   "outputs": [
    {
     "name": "stdout",
     "output_type": "stream",
     "text": [
      "Starting experimental run with id: 33\n",
      "Starting experimental run with id: 34\n",
      "Starting experimental run with id: 35\n",
      "Starting experimental run with id: 36\n",
      "Starting experimental run with id: 37\n",
      "Starting experimental run with id: 38\n",
      "Starting experimental run with id: 39\n",
      "Starting experimental run with id: 40\n",
      "288 ms ± 22.6 ms per loop (mean ± std. dev. of 7 runs, 1 loop each)\n"
     ]
    }
   ],
   "source": [
    "%%timeit\n",
    "\n",
    "with meas.run() as datasaver:\n",
    "    for v1 in v1s:\n",
    "        dac.v1(v1)\n",
    "        for v2 in v2s:\n",
    "            dac.v2(v2)\n",
    "            cond = meter.conductance()\n",
    "            cond_pos = cond > 0\n",
    "            if cond_pos:\n",
    "                log.info('Positive conductance')\n",
    "            else:\n",
    "                log.info('Negative conductance')\n",
    "            datasaver.add_result((dac.v1, v1), \n",
    "                                 (dac.v2, v2),\n",
    "                                 (meter.conductance, cond))"
   ]
  },
  {
   "cell_type": "code",
   "execution_count": null,
   "metadata": {},
   "outputs": [],
   "source": []
  }
 ],
 "metadata": {
  "kernelspec": {
   "display_name": "Python 3",
   "language": "python",
   "name": "python3"
  },
  "language_info": {
   "codemirror_mode": {
    "name": "ipython",
    "version": 3
   },
   "file_extension": ".py",
   "mimetype": "text/x-python",
   "name": "python",
   "nbconvert_exporter": "python",
   "pygments_lexer": "ipython3",
   "version": "3.6.8"
  }
 },
 "nbformat": 4,
 "nbformat_minor": 2
}
