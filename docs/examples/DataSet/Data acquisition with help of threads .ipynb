{
 "cells": [
  {
   "cell_type": "markdown",
   "id": "tamil-water",
   "metadata": {},
   "source": [
    "# Data acquisition with help of threads"
   ]
  },
  {
   "cell_type": "markdown",
   "id": "revised-pontiac",
   "metadata": {},
   "source": [
    "In this notebook, we will explore how threading can be used with measurement context manager or dond functions for faster data acquisition. It is important to note that, QCoDeS provided threading happens per instrument. Meaning, per instrument one thread is created and all parameters from same instrument gets assigned to the same thread for data acquizition. \n",
    "\n",
    "Let us begin with some necessary imports."
   ]
  },
  {
   "cell_type": "code",
   "execution_count": 1,
   "id": "enormous-virus",
   "metadata": {
    "ExecuteTime": {
     "end_time": "2021-06-18T16:48:43.769404Z",
     "start_time": "2021-06-18T16:48:39.101577Z"
    }
   },
   "outputs": [
    {
     "name": "stdout",
     "output_type": "stream",
     "text": [
      "Logging hadn't been started.\n",
      "Activating auto-logging. Current session state plus future input saved.\n",
      "Filename       : C:\\Users\\v-singak\\.qcodes\\logs\\command_history.log\n",
      "Mode           : append\n",
      "Output logging : True\n",
      "Raw input log  : False\n",
      "Timestamping   : True\n",
      "State          : active\n",
      "Qcodes Logfile : C:\\Users\\v-singak\\.qcodes\\logs\\210618-14080-qcodes.log\n",
      "Activating auto-logging. Current session state plus future input saved.\n",
      "Filename       : C:\\Users\\v-singak\\.qcodes\\logs\\command_history.log\n",
      "Mode           : append\n",
      "Output logging : True\n",
      "Raw input log  : False\n",
      "Timestamping   : True\n",
      "State          : active\n",
      "Qcodes Logfile : C:\\Users\\v-singak\\.qcodes\\logs\\210618-14080-qcodes.log\n"
     ]
    }
   ],
   "source": [
    "%matplotlib inline\n",
    "\n",
    "import numpy as np\n",
    "\n",
    "import time\n",
    "\n",
    "import qcodes as qc\n",
    "from qcodes import Station, load_or_create_experiment, initialise_database, Measurement\n",
    "from qcodes.tests.instrument_mocks import DummyInstrument, DummyInstrumentWithMeasurement\n",
    "from qcodes.dataset.plotting import plot_dataset\n",
    "from qcodes.utils.threading import call_params_threaded\n",
    "from qcodes.utils.dataset.doNd import do1d\n",
    "\n",
    "qc.logger.start_all_logging()"
   ]
  },
  {
   "cell_type": "markdown",
   "id": "fifty-metro",
   "metadata": {},
   "source": [
    "Now, setup some instruments!"
   ]
  },
  {
   "cell_type": "code",
   "execution_count": 2,
   "id": "divine-welsh",
   "metadata": {
    "ExecuteTime": {
     "end_time": "2021-06-18T16:48:46.106569Z",
     "start_time": "2021-06-18T16:48:46.099570Z"
    }
   },
   "outputs": [],
   "source": [
    "dac = DummyInstrument('dac', gates=['ch1', 'ch2'])\n",
    "dmm = DummyInstrumentWithMeasurement(name='dmm', setter_instr=dac)"
   ]
  },
  {
   "cell_type": "markdown",
   "id": "extraordinary-terminology",
   "metadata": {},
   "source": [
    "Initialize the database and load or create an experiment."
   ]
  },
  {
   "cell_type": "code",
   "execution_count": 3,
   "id": "heavy-sector",
   "metadata": {
    "ExecuteTime": {
     "end_time": "2021-06-18T16:48:48.152468Z",
     "start_time": "2021-06-18T16:48:48.062562Z"
    }
   },
   "outputs": [],
   "source": [
    "initialise_database()\n",
    "exp = load_or_create_experiment(\n",
    "    experiment_name='data_acquisition_with_threads',\n",
    "    sample_name=\"no sample\"\n",
    ")"
   ]
  },
  {
   "cell_type": "markdown",
   "id": "deluxe-lawrence",
   "metadata": {},
   "source": [
    "## Measurement 1: Non threaded data acquisition\n",
    "\n",
    "In the following measurment, we do not use threads and note down the time take for the data acquisition. "
   ]
  },
  {
   "cell_type": "code",
   "execution_count": 4,
   "id": "large-sound",
   "metadata": {
    "ExecuteTime": {
     "end_time": "2021-06-18T16:48:51.445114Z",
     "start_time": "2021-06-18T16:48:51.420119Z"
    }
   },
   "outputs": [
    {
     "data": {
      "text/plain": [
       "<qcodes.dataset.measurements.Measurement at 0x24ef3d73b08>"
      ]
     },
     "execution_count": 4,
     "metadata": {},
     "output_type": "execute_result"
    }
   ],
   "source": [
    "meas1 = Measurement(exp=exp, name='exponential_decay_non_threaded_data_acquisition')\n",
    "meas1.register_parameter(dac.ch1)\n",
    "meas1.register_parameter(dmm.v1, setpoints=(dac.ch1,))"
   ]
  },
  {
   "cell_type": "code",
   "execution_count": 5,
   "id": "intensive-spread",
   "metadata": {
    "ExecuteTime": {
     "end_time": "2021-06-18T16:48:53.821355Z",
     "start_time": "2021-06-18T16:48:53.631105Z"
    }
   },
   "outputs": [
    {
     "name": "stdout",
     "output_type": "stream",
     "text": [
      "Starting experimental run with id: 59. \n",
      "Report:\n",
      "Data acquisition time:            0.11403000000003516 s\n"
     ]
    }
   ],
   "source": [
    "t0 = time.perf_counter()\n",
    "data_acq_time = 0\n",
    "with meas1.run() as datasaver:             \n",
    "    for set_v in np.linspace(0, 25, 1000):\n",
    "        dac.ch1.set(set_v)\n",
    "        \n",
    "        t1 = time.perf_counter()\n",
    "        datasaver.add_result((dac.ch1, dac.ch1.get()), (dmm.v1, dmm.v1.get()))\n",
    "        t2 = time.perf_counter()\n",
    "        \n",
    "        data_acq_time += t2 - t1\n",
    "    \n",
    "    dataset1D1 = datasaver.dataset\n",
    "    \n",
    "print('Report:')\n",
    "print(f'Data acquisition time:            {data_acq_time} s')"
   ]
  },
  {
   "cell_type": "code",
   "execution_count": 6,
   "id": "solved-baseball",
   "metadata": {
    "ExecuteTime": {
     "end_time": "2021-06-18T16:48:55.522324Z",
     "start_time": "2021-06-18T16:48:55.322830Z"
    }
   },
   "outputs": [
    {
     "data": {
      "image/png": "[encoded data removed]",
      "text/plain": [
       "<Figure size 432x288 with 1 Axes>"
      ]
     },
     "metadata": {
      "needs_background": "light"
     },
     "output_type": "display_data"
    }
   ],
   "source": [
    "ax, cbax = plot_dataset(dataset1D1)"
   ]
  },
  {
   "cell_type": "markdown",
   "id": "classical-neighborhood",
   "metadata": {},
   "source": [
    "## Measurement 2: Threaded data acquisition\n",
    "\n",
    "In this measurement, we use `call_params_threaded` for threaded data acquisition. Here also we record the time taken for data acquisition."
   ]
  },
  {
   "cell_type": "code",
   "execution_count": 7,
   "id": "surprising-asset",
   "metadata": {
    "ExecuteTime": {
     "end_time": "2021-06-18T16:48:58.475539Z",
     "start_time": "2021-06-18T16:48:58.461512Z"
    }
   },
   "outputs": [
    {
     "data": {
      "text/plain": [
       "<qcodes.dataset.measurements.Measurement at 0x24ef3ee9c08>"
      ]
     },
     "execution_count": 7,
     "metadata": {},
     "output_type": "execute_result"
    }
   ],
   "source": [
    "meas2 = Measurement(exp=exp, name='exponential_decay_threaded_data_acquisition')\n",
    "meas2.register_parameter(dac.ch1)\n",
    "meas2.register_parameter(dmm.v1, setpoints=(dac.ch1,))"
   ]
  },
  {
   "cell_type": "code",
   "execution_count": 8,
   "id": "surprising-prime",
   "metadata": {
    "ExecuteTime": {
     "end_time": "2021-06-18T16:49:03.901208Z",
     "start_time": "2021-06-18T16:49:03.181710Z"
    }
   },
   "outputs": [
    {
     "name": "stdout",
     "output_type": "stream",
     "text": [
      "Starting experimental run with id: 60. \n",
      "Report:\n",
      "Data acquisition time:            0.635893199999856 s\n"
     ]
    }
   ],
   "source": [
    "t0 = time.perf_counter()\n",
    "data_acq_time = 0\n",
    "with meas2.run() as datasaver:             \n",
    "    for set_v in np.linspace(0, 25, 1000):\n",
    "        dac.ch1.set(set_v)\n",
    "        \n",
    "        t1 = time.perf_counter()\n",
    "        datasaver.add_result(*call_params_threaded((dac.ch1, dmm.v1))) # <----- This line is different\n",
    "        t2 = time.perf_counter()\n",
    "        \n",
    "        data_acq_time += t2 - t1\n",
    "            \n",
    "    dataset1D2 = datasaver.dataset\n",
    "    \n",
    "print('Report:')\n",
    "print(f'Data acquisition time:            {data_acq_time} s')"
   ]
  },
  {
   "cell_type": "code",
   "execution_count": 9,
   "id": "square-sally",
   "metadata": {
    "ExecuteTime": {
     "end_time": "2021-06-18T16:49:06.592096Z",
     "start_time": "2021-06-18T16:49:06.442292Z"
    }
   },
   "outputs": [
    {
     "data": {
      "image/png": "[encoded data removed]",
      "text/plain": [
       "<Figure size 432x288 with 1 Axes>"
      ]
     },
     "metadata": {
      "needs_background": "light"
     },
     "output_type": "display_data"
    }
   ],
   "source": [
    "ax, cbax = plot_dataset(dataset1D2)"
   ]
  },
  {
   "cell_type": "markdown",
   "id": "relevant-iraqi",
   "metadata": {},
   "source": [
    "## Non threaded and threaded data acquisition with do1d"
   ]
  },
  {
   "cell_type": "markdown",
   "id": "funky-display",
   "metadata": {},
   "source": [
    "Lets not see how to do non threaded and threaded data acquisition with `do1d` function. Same argument is available on `do0d`, `do2d` and `dond` functions.\n",
    "\n",
    "### Measurement 3: Non threaded data acquisition with do1d"
   ]
  },
  {
   "cell_type": "code",
   "execution_count": 10,
   "id": "sudden-ceramic",
   "metadata": {
    "ExecuteTime": {
     "end_time": "2021-06-18T16:49:14.981862Z",
     "start_time": "2021-06-18T16:49:13.161582Z"
    }
   },
   "outputs": [
    {
     "name": "stdout",
     "output_type": "stream",
     "text": [
      "Starting experimental run with id: 61. \n",
      "Report:\n",
      "Data acquisition time:            1.8071600000000032 s\n"
     ]
    }
   ],
   "source": [
    "t0 = time.perf_counter()\n",
    "do1d(dac.ch1, 0, 1, 100, 0.01, dmm.v1)\n",
    "t1 = time.perf_counter()\n",
    "\n",
    "print('Report:')\n",
    "print(f'Data acquisition time:            {t1 - t0} s')"
   ]
  },
  {
   "cell_type": "markdown",
   "id": "suspected-johnston",
   "metadata": {},
   "source": [
    "###  Measurement 4: Threaded data acquisition with do1d"
   ]
  },
  {
   "cell_type": "code",
   "execution_count": 11,
   "id": "welcome-scratch",
   "metadata": {
    "ExecuteTime": {
     "end_time": "2021-06-18T16:49:20.354234Z",
     "start_time": "2021-06-18T16:49:18.580481Z"
    }
   },
   "outputs": [
    {
     "name": "stdout",
     "output_type": "stream",
     "text": [
      "Starting experimental run with id: 62. \n",
      "Report:\n",
      "Data acquisition time:            1.7574129999999997 s\n"
     ]
    }
   ],
   "source": [
    "t0 = time.perf_counter()\n",
    "do1d(dac.ch1, 0, 1, 100, 0.01, dmm.v1, use_threads=True) # <------- This line is different\n",
    "t1 = time.perf_counter()\n",
    "\n",
    "print('Report:')\n",
    "print(f'Data acquisition time:            {t1 - t0} s')"
   ]
  },
  {
   "cell_type": "code",
   "execution_count": null,
   "id": "incorporated-stanford",
   "metadata": {},
   "outputs": [],
   "source": []
  }
 ],
 "metadata": {
  "kernelspec": {
   "display_name": "Python 3",
   "language": "python",
   "name": "python3"
  },
  "language_info": {
   "codemirror_mode": {
    "name": "ipython",
    "version": 3
   },
   "file_extension": ".py",
   "mimetype": "text/x-python",
   "name": "python",
   "nbconvert_exporter": "python",
   "pygments_lexer": "ipython3",
   "version": "3.7.9"
  }
 },
 "nbformat": 4,
 "nbformat_minor": 5
}
