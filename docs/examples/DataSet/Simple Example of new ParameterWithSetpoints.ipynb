{
 "cells": [
  {
   "cell_type": "markdown",
   "metadata": {},
   "source": [
    "# Simple Example of ParameterWithSetpoints\n",
    "This notebook has an example of a new simpler ArrayParameter replacement\n"
   ]
  },
  {
   "cell_type": "code",
   "execution_count": 1,
   "metadata": {},
   "outputs": [],
   "source": [
    "import numpy as np"
   ]
  },
  {
   "cell_type": "code",
   "execution_count": 2,
   "metadata": {},
   "outputs": [],
   "source": [
    "from qcodes.instrument.parameter import Parameter, _BaseParameter"
   ]
  },
  {
   "cell_type": "code",
   "execution_count": 3,
   "metadata": {},
   "outputs": [],
   "source": [
    "from typing import Optional, Union, Iterable, Callable\n",
    "Number = Union[float, int]\n",
    "from qcodes.utils.validators import Validator"
   ]
  },
  {
   "cell_type": "code",
   "execution_count": 4,
   "metadata": {},
   "outputs": [],
   "source": [
    "from qcodes.utils.validators import Numbers\n",
    "from qcodes.instrument.base import Instrument\n",
    "from qcodes.dataset.measurements import Measurement"
   ]
  },
  {
   "cell_type": "code",
   "execution_count": 5,
   "metadata": {},
   "outputs": [],
   "source": [
    "from qcodes.dataset.database import initialise_database\n",
    "from qcodes.dataset.experiment_container import new_experiment"
   ]
  },
  {
   "cell_type": "code",
   "execution_count": 6,
   "metadata": {},
   "outputs": [],
   "source": [
    "from qcodes.instrument.parameter import ParameterWithSetpoints, GeneratedSetPoints"
   ]
  },
  {
   "cell_type": "markdown",
   "metadata": {},
   "source": [
    "Here we define an dummy instrument that returns something like a frequency spectrum from `f_start` to `f_stop`\n",
    "in `n_points` steps. The functionality of the ArrayParameter is implemented only by having a reference to it's setpoints which is consumed by the dataset context manager. To do this we only have to define the parameter for the setpoints and the spectrum and let the parameter know that the frequency axis is the setpoints "
   ]
  },
  {
   "cell_type": "code",
   "execution_count": 7,
   "metadata": {},
   "outputs": [],
   "source": [
    "class DummyArray(ParameterWithSetpoints):\n",
    "    \n",
    "    def get_raw(self):\n",
    "        npoints = self.root_instrument.n_points()\n",
    "        return np.random.rand(npoints)\n",
    "    \n",
    "\n",
    "class DummySpectrumAnalyzer(Instrument):\n",
    "    \n",
    "    def __init__(self, name, **kwargs):\n",
    "        \n",
    "        super().__init__(name, **kwargs)\n",
    "            \n",
    "\n",
    "        self.add_parameter('f_start',\n",
    "                           initial_value=0,\n",
    "                           unit='Hz',\n",
    "                           label='f start',\n",
    "                           vals=Numbers(0,1e3),\n",
    "                           get_cmd=None,\n",
    "                           set_cmd=None)\n",
    "\n",
    "        self.add_parameter('f_stop',\n",
    "                           unit='Hz',\n",
    "                           label='f stop',\n",
    "                           vals=Numbers(1,1e3),\n",
    "                           get_cmd=None,\n",
    "                           set_cmd=None)\n",
    "\n",
    "        self.add_parameter('n_points',\n",
    "                           unit='',\n",
    "                           vals=Numbers(1,1e3),\n",
    "                           get_cmd=None,\n",
    "                           set_cmd=None)\n",
    "        \n",
    "        self.add_parameter('freq_axis',\n",
    "                           unit='Hz',\n",
    "                           label='Freq Axis',\n",
    "                           parameter_class=GeneratedSetPoints,\n",
    "                           startparam=self.f_start,\n",
    "                           stopparam=self.f_stop,\n",
    "                           numpointsparam=self.n_points)\n",
    "                           \n",
    "        self.add_parameter('spectrum',\n",
    "                   unit='dBm',\n",
    "                   setpoints=(self.freq_axis,),\n",
    "                   label='Spectrum',\n",
    "                   parameter_class=DummyArray)\n",
    "                "
   ]
  },
  {
   "cell_type": "code",
   "execution_count": 8,
   "metadata": {},
   "outputs": [
    {
     "data": {
      "text/plain": [
       "tutorial_exp#no sample#142@c:\\Users\\jenielse\\mymainfolder\\experiments.db\n",
       "------------------------------------------------------------------------"
      ]
     },
     "execution_count": 8,
     "metadata": {},
     "output_type": "execute_result"
    }
   ],
   "source": [
    "initialise_database()\n",
    "new_experiment(name='tutorial_exp', sample_name=\"no sample\")"
   ]
  },
  {
   "cell_type": "code",
   "execution_count": 9,
   "metadata": {},
   "outputs": [],
   "source": [
    "a = DummySpectrumAnalyzer('foobar')"
   ]
  },
  {
   "cell_type": "markdown",
   "metadata": {},
   "source": [
    "First we setup the limits of the spectrum"
   ]
  },
  {
   "cell_type": "code",
   "execution_count": 10,
   "metadata": {},
   "outputs": [],
   "source": [
    "a.f_start(0)\n",
    "a.f_stop(500)\n",
    "a.n_points(501)"
   ]
  },
  {
   "cell_type": "markdown",
   "metadata": {},
   "source": [
    "And we can grab the axis"
   ]
  },
  {
   "cell_type": "code",
   "execution_count": 11,
   "metadata": {
    "scrolled": true
   },
   "outputs": [
    {
     "data": {
      "text/plain": [
       "array([  0.,   1.,   2.,   3.,   4.,   5.,   6.,   7.,   8.,   9.,  10.,\n",
       "        11.,  12.,  13.,  14.,  15.,  16.,  17.,  18.,  19.,  20.,  21.,\n",
       "        22.,  23.,  24.,  25.,  26.,  27.,  28.,  29.,  30.,  31.,  32.,\n",
       "        33.,  34.,  35.,  36.,  37.,  38.,  39.,  40.,  41.,  42.,  43.,\n",
       "        44.,  45.,  46.,  47.,  48.,  49.,  50.,  51.,  52.,  53.,  54.,\n",
       "        55.,  56.,  57.,  58.,  59.,  60.,  61.,  62.,  63.,  64.,  65.,\n",
       "        66.,  67.,  68.,  69.,  70.,  71.,  72.,  73.,  74.,  75.,  76.,\n",
       "        77.,  78.,  79.,  80.,  81.,  82.,  83.,  84.,  85.,  86.,  87.,\n",
       "        88.,  89.,  90.,  91.,  92.,  93.,  94.,  95.,  96.,  97.,  98.,\n",
       "        99., 100., 101., 102., 103., 104., 105., 106., 107., 108., 109.,\n",
       "       110., 111., 112., 113., 114., 115., 116., 117., 118., 119., 120.,\n",
       "       121., 122., 123., 124., 125., 126., 127., 128., 129., 130., 131.,\n",
       "       132., 133., 134., 135., 136., 137., 138., 139., 140., 141., 142.,\n",
       "       143., 144., 145., 146., 147., 148., 149., 150., 151., 152., 153.,\n",
       "       154., 155., 156., 157., 158., 159., 160., 161., 162., 163., 164.,\n",
       "       165., 166., 167., 168., 169., 170., 171., 172., 173., 174., 175.,\n",
       "       176., 177., 178., 179., 180., 181., 182., 183., 184., 185., 186.,\n",
       "       187., 188., 189., 190., 191., 192., 193., 194., 195., 196., 197.,\n",
       "       198., 199., 200., 201., 202., 203., 204., 205., 206., 207., 208.,\n",
       "       209., 210., 211., 212., 213., 214., 215., 216., 217., 218., 219.,\n",
       "       220., 221., 222., 223., 224., 225., 226., 227., 228., 229., 230.,\n",
       "       231., 232., 233., 234., 235., 236., 237., 238., 239., 240., 241.,\n",
       "       242., 243., 244., 245., 246., 247., 248., 249., 250., 251., 252.,\n",
       "       253., 254., 255., 256., 257., 258., 259., 260., 261., 262., 263.,\n",
       "       264., 265., 266., 267., 268., 269., 270., 271., 272., 273., 274.,\n",
       "       275., 276., 277., 278., 279., 280., 281., 282., 283., 284., 285.,\n",
       "       286., 287., 288., 289., 290., 291., 292., 293., 294., 295., 296.,\n",
       "       297., 298., 299., 300., 301., 302., 303., 304., 305., 306., 307.,\n",
       "       308., 309., 310., 311., 312., 313., 314., 315., 316., 317., 318.,\n",
       "       319., 320., 321., 322., 323., 324., 325., 326., 327., 328., 329.,\n",
       "       330., 331., 332., 333., 334., 335., 336., 337., 338., 339., 340.,\n",
       "       341., 342., 343., 344., 345., 346., 347., 348., 349., 350., 351.,\n",
       "       352., 353., 354., 355., 356., 357., 358., 359., 360., 361., 362.,\n",
       "       363., 364., 365., 366., 367., 368., 369., 370., 371., 372., 373.,\n",
       "       374., 375., 376., 377., 378., 379., 380., 381., 382., 383., 384.,\n",
       "       385., 386., 387., 388., 389., 390., 391., 392., 393., 394., 395.,\n",
       "       396., 397., 398., 399., 400., 401., 402., 403., 404., 405., 406.,\n",
       "       407., 408., 409., 410., 411., 412., 413., 414., 415., 416., 417.,\n",
       "       418., 419., 420., 421., 422., 423., 424., 425., 426., 427., 428.,\n",
       "       429., 430., 431., 432., 433., 434., 435., 436., 437., 438., 439.,\n",
       "       440., 441., 442., 443., 444., 445., 446., 447., 448., 449., 450.,\n",
       "       451., 452., 453., 454., 455., 456., 457., 458., 459., 460., 461.,\n",
       "       462., 463., 464., 465., 466., 467., 468., 469., 470., 471., 472.,\n",
       "       473., 474., 475., 476., 477., 478., 479., 480., 481., 482., 483.,\n",
       "       484., 485., 486., 487., 488., 489., 490., 491., 492., 493., 494.,\n",
       "       495., 496., 497., 498., 499., 500.])"
      ]
     },
     "execution_count": 11,
     "metadata": {},
     "output_type": "execute_result"
    }
   ],
   "source": [
    "a.freq_axis()"
   ]
  },
  {
   "cell_type": "markdown",
   "metadata": {},
   "source": [
    "Or the spectrum"
   ]
  },
  {
   "cell_type": "code",
   "execution_count": 12,
   "metadata": {
    "scrolled": true
   },
   "outputs": [
    {
     "data": {
      "text/plain": [
       "array([0.72571352, 0.90632183, 0.33183049, 0.02012441, 0.47057386,\n",
       "       0.90672402, 0.07999109, 0.61693661, 0.30530647, 0.10985965,\n",
       "       0.60918186, 0.34274291, 0.43832254, 0.76568971, 0.21721021,\n",
       "       0.30198089, 0.47201838, 0.97928559, 0.7715346 , 0.23269826,\n",
       "       0.36167025, 0.80635443, 0.04952206, 0.58616747, 0.40224088,\n",
       "       0.45277086, 0.02814571, 0.07327414, 0.63791345, 0.18959364,\n",
       "       0.65795672, 0.67999541, 0.05855894, 0.02249179, 0.40130862,\n",
       "       0.54845244, 0.2443827 , 0.73592797, 0.9013913 , 0.59558038,\n",
       "       0.24921754, 0.00510943, 0.85173873, 0.99469415, 0.3457128 ,\n",
       "       0.61190606, 0.86541492, 0.03245227, 0.75744   , 0.01621978,\n",
       "       0.86318191, 0.99017436, 0.60923479, 0.67913571, 0.4967267 ,\n",
       "       0.03686535, 0.36743032, 0.53714849, 0.72401575, 0.94879797,\n",
       "       0.84441913, 0.89020992, 0.21399512, 0.88068879, 0.36922398,\n",
       "       0.95177315, 0.39291993, 0.06345901, 0.12453757, 0.59359891,\n",
       "       0.47722406, 0.11144605, 0.26755104, 0.76426021, 0.46995979,\n",
       "       0.6373366 , 0.38905457, 0.28229169, 0.75277916, 0.86484352,\n",
       "       0.95307285, 0.61320484, 0.18912997, 0.5053552 , 0.95201004,\n",
       "       0.29930822, 0.96947378, 0.37089328, 0.29869885, 0.67549094,\n",
       "       0.59300973, 0.73171001, 0.79902709, 0.59934004, 0.70940563,\n",
       "       0.56030827, 0.75177476, 0.72089084, 0.9550844 , 0.57847848,\n",
       "       0.60957107, 0.1517757 , 0.38754644, 0.09730288, 0.59988402,\n",
       "       0.26167866, 0.00287584, 0.76134196, 0.72431838, 0.72975611,\n",
       "       0.22905784, 0.18651577, 0.48891715, 0.57899863, 0.4710521 ,\n",
       "       0.10136816, 0.69808045, 0.02561995, 0.08323249, 0.77192287,\n",
       "       0.38029957, 0.9954691 , 0.64841041, 0.90485035, 0.45524682,\n",
       "       0.89615322, 0.1358363 , 0.48303273, 0.2959501 , 0.13139568,\n",
       "       0.8123182 , 0.7683797 , 0.67372457, 0.96291618, 0.84549104,\n",
       "       0.95942812, 0.27444138, 0.23508412, 0.26097708, 0.40263297,\n",
       "       0.28233152, 0.54483201, 0.91830492, 0.1457073 , 0.40617229,\n",
       "       0.35904864, 0.02131232, 0.57335326, 0.31579837, 0.23954332,\n",
       "       0.83839741, 0.28382389, 0.52414372, 0.85262061, 0.06880117,\n",
       "       0.40455194, 0.90178558, 0.22408739, 0.7744848 , 0.02481246,\n",
       "       0.80764393, 0.26593597, 0.02677597, 0.40965144, 0.8421576 ,\n",
       "       0.53731458, 0.89145735, 0.38181248, 0.38428735, 0.80712207,\n",
       "       0.09220307, 0.74547953, 0.52355824, 0.14421889, 0.09984613,\n",
       "       0.86976546, 0.86983597, 0.75526311, 0.35561927, 0.95147586,\n",
       "       0.46415392, 0.91923755, 0.48889277, 0.22755345, 0.26840527,\n",
       "       0.62062403, 0.80705705, 0.71891185, 0.69817039, 0.88091927,\n",
       "       0.72549422, 0.69001979, 0.10264036, 0.88963743, 0.05742265,\n",
       "       0.25475254, 0.63174133, 0.85631804, 0.46140504, 0.89153781,\n",
       "       0.09246152, 0.4553433 , 0.82194924, 0.10917984, 0.73418867,\n",
       "       0.19001657, 0.45568429, 0.54007574, 0.58392099, 0.30775546,\n",
       "       0.4394131 , 0.91735479, 0.50491593, 0.19709832, 0.04327409,\n",
       "       0.12994578, 0.60389174, 0.60880184, 0.86196128, 0.461006  ,\n",
       "       0.93866109, 0.07467717, 0.96665901, 0.07662807, 0.00650676,\n",
       "       0.05117541, 0.5180313 , 0.8942333 , 0.31172786, 0.03383395,\n",
       "       0.16083572, 0.98726038, 0.23029171, 0.03815381, 0.27830724,\n",
       "       0.78089892, 0.26262639, 0.34292734, 0.74449311, 0.79762933,\n",
       "       0.43790091, 0.51195497, 0.28181043, 0.5153651 , 0.30021213,\n",
       "       0.33442989, 0.09322682, 0.03990131, 0.99979069, 0.34127417,\n",
       "       0.86015426, 0.30417118, 0.9575738 , 0.30270029, 0.50181287,\n",
       "       0.11860836, 0.72601674, 0.7365407 , 0.00710955, 0.68799828,\n",
       "       0.17416455, 0.53911492, 0.91384936, 0.18843829, 0.63088603,\n",
       "       0.29193789, 0.03401586, 0.2651537 , 0.21846207, 0.80779887,\n",
       "       0.44912494, 0.00771518, 0.33588898, 0.99925868, 0.32591454,\n",
       "       0.64306746, 0.59037939, 0.62749703, 0.82225998, 0.77850614,\n",
       "       0.23233915, 0.3631501 , 0.2458376 , 0.87561822, 0.07585749,\n",
       "       0.67926546, 0.40504241, 0.91947842, 0.78828305, 0.7828465 ,\n",
       "       0.00427593, 0.00283294, 0.43546984, 0.90332049, 0.15497613,\n",
       "       0.45345279, 0.64433748, 0.12109508, 0.75966004, 0.23897154,\n",
       "       0.21001474, 0.11993474, 0.31404692, 0.68167124, 0.09595568,\n",
       "       0.15755628, 0.51734827, 0.07594637, 0.55267866, 0.44948865,\n",
       "       0.25025314, 0.38526441, 0.65159328, 0.62017123, 0.25803987,\n",
       "       0.4264115 , 0.14115278, 0.26872908, 0.4629822 , 0.08718998,\n",
       "       0.57810156, 0.99622881, 0.95761661, 0.89062367, 0.79028311,\n",
       "       0.88585828, 0.89394358, 0.04451967, 0.52583018, 0.27224092,\n",
       "       0.14832532, 0.7204601 , 0.88138712, 0.16166671, 0.84870318,\n",
       "       0.04202383, 0.12059793, 0.16675446, 0.85509329, 0.24051516,\n",
       "       0.31051694, 0.65789458, 0.84415465, 0.95522144, 0.55012256,\n",
       "       0.06439362, 0.0471405 , 0.4298978 , 0.97980461, 0.30204309,\n",
       "       0.1332781 , 0.57028329, 0.71668634, 0.65833129, 0.61765729,\n",
       "       0.59033497, 0.67498614, 0.86193156, 0.0719664 , 0.75907468,\n",
       "       0.47468334, 0.75966527, 0.09815679, 0.37776018, 0.8208667 ,\n",
       "       0.51770517, 0.69423553, 0.56905415, 0.73752259, 0.5912302 ,\n",
       "       0.543815  , 0.27079868, 0.13084457, 0.63898715, 0.98408504,\n",
       "       0.23782107, 0.29082979, 0.78321311, 0.04698455, 0.43149004,\n",
       "       0.29898713, 0.31190781, 0.96342633, 0.85667897, 0.30544318,\n",
       "       0.09077967, 0.82440842, 0.10259322, 0.41499891, 0.22650351,\n",
       "       0.41287407, 0.00468798, 0.10084611, 0.83298202, 0.84158234,\n",
       "       0.23697744, 0.7171173 , 0.22766355, 0.25294449, 0.69188399,\n",
       "       0.28100622, 0.12540229, 0.3447357 , 0.16122461, 0.13464566,\n",
       "       0.27402472, 0.45150249, 0.59151639, 0.86097983, 0.80896133,\n",
       "       0.46221015, 0.64527635, 0.42510658, 0.67139835, 0.80904429,\n",
       "       0.30068385, 0.44338639, 0.53308842, 0.90475476, 0.92110973,\n",
       "       0.816617  , 0.42493616, 0.22609153, 0.71772722, 0.2188498 ,\n",
       "       0.91914612, 0.19662348, 0.98499926, 0.31563325, 0.97379735,\n",
       "       0.6651961 , 0.32430088, 0.63782434, 0.83354675, 0.55140114,\n",
       "       0.22303504, 0.04978941, 0.51909567, 0.15775337, 0.22066878,\n",
       "       0.8610816 , 0.6267583 , 0.28182854, 0.06605268, 0.18431065,\n",
       "       0.77677561, 0.52523021, 0.44120459, 0.41657094, 0.44568815,\n",
       "       0.77413594, 0.87491547, 0.06874434, 0.55776904, 0.72884754,\n",
       "       0.82478796, 0.98673168, 0.7940176 , 0.5361103 , 0.51926828,\n",
       "       0.82189625, 0.20471795, 0.24458432, 0.06947301, 0.00567292,\n",
       "       0.81583788, 0.66837088, 0.99109122, 0.89918589, 0.94710167,\n",
       "       0.74186421, 0.00774864, 0.53096422, 0.7902904 , 0.79997898,\n",
       "       0.50096739, 0.28782579, 0.93802907, 0.318469  , 0.08039758,\n",
       "       0.17068301, 0.88139886, 0.65884923, 0.14605981, 0.41048688,\n",
       "       0.35022301, 0.8821677 , 0.15931134, 0.40747103, 0.81513538,\n",
       "       0.11041708, 0.62856525, 0.9785561 , 0.32482764, 0.0215816 ,\n",
       "       0.5345427 , 0.50194307, 0.90729726, 0.43601256, 0.62007211,\n",
       "       0.96943269])"
      ]
     },
     "execution_count": 12,
     "metadata": {},
     "output_type": "execute_result"
    }
   ],
   "source": [
    "a.spectrum.get()"
   ]
  },
  {
   "cell_type": "markdown",
   "metadata": {},
   "source": [
    "We can also directly consume the parameter in a measurement"
   ]
  },
  {
   "cell_type": "code",
   "execution_count": 13,
   "metadata": {},
   "outputs": [
    {
     "name": "stdout",
     "output_type": "stream",
     "text": [
      "Starting experimental run with id: 1075\n"
     ]
    }
   ],
   "source": [
    "meas = Measurement()\n",
    "meas.register_parameter(a.spectrum)  # register the first independent parameter\n",
    "\n",
    "with meas.run() as datasaver:\n",
    "    datasaver.add_result((a.spectrum, a.spectrum.get(),))\n",
    "    \n",
    "    dataid = datasaver.run_id  # convenient to have for plotting"
   ]
  },
  {
   "cell_type": "code",
   "execution_count": 14,
   "metadata": {},
   "outputs": [],
   "source": [
    "from qcodes.dataset.plotting import plot_by_id"
   ]
  },
  {
   "cell_type": "markdown",
   "metadata": {},
   "source": [
    "And plot it"
   ]
  },
  {
   "cell_type": "code",
   "execution_count": 15,
   "metadata": {},
   "outputs": [
    {
     "data": {
      "text/plain": [
       "([<matplotlib.axes._subplots.AxesSubplot at 0x175f49b5160>], [None])"
      ]
     },
     "execution_count": 15,
     "metadata": {},
     "output_type": "execute_result"
    },
    {
     "data": {
      "image/png": "[encoded data removed]",
      "text/plain": [
       "<Figure size 432x288 with 1 Axes>"
      ]
     },
     "metadata": {
      "needs_background": "light"
     },
     "output_type": "display_data"
    }
   ],
   "source": [
    "plot_by_id(dataid)"
   ]
  },
  {
   "cell_type": "code",
   "execution_count": null,
   "metadata": {},
   "outputs": [],
   "source": []
  }
 ],
 "metadata": {
  "kernelspec": {
   "display_name": "Python 3",
   "language": "python",
   "name": "python3"
  },
  "language_info": {
   "codemirror_mode": {
    "name": "ipython",
    "version": 3
   },
   "file_extension": ".py",
   "mimetype": "text/x-python",
   "name": "python",
   "nbconvert_exporter": "python",
   "pygments_lexer": "ipython3",
   "version": "3.6.6"
  },
  "toc": {
   "base_numbering": 1,
   "nav_menu": {},
   "number_sections": true,
   "sideBar": true,
   "skip_h1_title": false,
   "title_cell": "Table of Contents",
   "title_sidebar": "Contents",
   "toc_cell": false,
   "toc_position": {},
   "toc_section_display": true,
   "toc_window_display": false
  },
  "varInspector": {
   "cols": {
    "lenName": 16,
    "lenType": 16,
    "lenVar": 40
   },
   "kernels_config": {
    "python": {
     "delete_cmd_postfix": "",
     "delete_cmd_prefix": "del ",
     "library": "var_list.py",
     "varRefreshCmd": "print(var_dic_list())"
    },
    "r": {
     "delete_cmd_postfix": ") ",
     "delete_cmd_prefix": "rm(",
     "library": "var_list.r",
     "varRefreshCmd": "cat(var_dic_list()) "
    }
   },
   "types_to_exclude": [
    "module",
    "function",
    "builtin_function_or_method",
    "instance",
    "_Feature"
   ],
   "window_display": false
  }
 },
 "nbformat": 4,
 "nbformat_minor": 2
}
