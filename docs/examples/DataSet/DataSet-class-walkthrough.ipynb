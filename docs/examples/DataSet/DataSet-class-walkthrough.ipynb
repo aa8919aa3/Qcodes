{
 "cells": [
  {
   "cell_type": "markdown",
   "metadata": {},
   "source": [
    "# DataSet class walkthrough\n",
    "\n",
    "In this notebook we are going to go through the mighty `DataSet` class, and get an overview of the most of it's methods and properties. In this case, the more you know, the more you can achieve."
   ]
  },
  {
   "cell_type": "markdown",
   "metadata": {},
   "source": [
    "## Note on DataSet object creation\n",
    "\n",
    "Users are expected obtain `DataSet` objects in the following ways:\n",
    "\n",
    "* run a `Measurement` and get a `DataSet` via a `DataSaver` after exiting the measurement context, as shown here:\n",
    "\n",
    "```python\n",
    "...\n",
    "meas = Measurement(...)\n",
    "...\n",
    "with meas.run() as datasaver:\n",
    "    ...\n",
    "dataset = datasaver.dataset  # <- this one\n",
    "...\n",
    "```\n",
    "\n",
    "* load a `DataSet` using one of the `load_*` functions from `qcodes.dataset.data_set` module, for example, `load_by_run_spec`:\n",
    "\n",
    "```python\n",
    "dataset = load_by_run_spec(\n",
    "    experiment_name='pinchoff',\n",
    "    sample_name='SDH-X-13c',\n",
    "    captured_run_id=12\n",
    ")\n",
    "```\n",
    "\n",
    "Users are NOT expected to instantiate `DataSet` objects via its constructor, neither they are expected to use the `new_data_set` function."
   ]
  },
  {
   "cell_type": "markdown",
   "metadata": {},
   "source": [
    "## Preparation: a DataSet from a dummy Measurement\n",
    "\n",
    "In order to obtain a `DataSet` object, we are going to run a `Measurement` storing some dummy data (see `Dataset Context Manager` notebook for more details)."
   ]
  },
  {
   "cell_type": "code",
   "execution_count": 1,
   "metadata": {},
   "outputs": [],
   "source": [
    "import tempfile\n",
    "import os\n",
    "\n",
    "import numpy as np\n",
    "\n",
    "import qcodes\n",
    "from qcodes import initialise_or_create_database_at, \\\n",
    "    load_or_create_experiment, Measurement, Parameter, \\\n",
    "    Station\n",
    "from qcodes.dataset.plotting import plot_dataset"
   ]
  },
  {
   "cell_type": "code",
   "execution_count": 2,
   "metadata": {},
   "outputs": [
    {
     "name": "stdout",
     "output_type": "stream",
     "text": [
      "Upgrading database; v0 -> v1: : 0it [00:00, ?it/s]\n",
      "Upgrading database; v1 -> v2: 100%|██████████| 1/1 [00:00<00:00, 421.58it/s]\n",
      "Upgrading database; v2 -> v3: : 0it [00:00, ?it/s]\n",
      "Upgrading database; v3 -> v4: : 0it [00:00, ?it/s]\n",
      "Upgrading database; v4 -> v5: 100%|██████████| 1/1 [00:00<00:00, 157.50it/s]\n",
      "Upgrading database; v5 -> v6: : 0it [00:00, ?it/s]\n",
      "Upgrading database; v6 -> v7: 100%|██████████| 1/1 [00:00<00:00, 176.24it/s]\n",
      "Upgrading database; v7 -> v8: 100%|██████████| 1/1 [00:00<00:00, 207.52it/s]\n"
     ]
    }
   ],
   "source": [
    "db_path = os.path.join(tempfile.gettempdir(),\n",
    "                       'data_access_example.db')\n",
    "initialise_or_create_database_at(db_path)\n",
    "\n",
    "experiment = load_or_create_experiment(\n",
    "    experiment_name='greco',\n",
    "    sample_name='draco')"
   ]
  },
  {
   "cell_type": "code",
   "execution_count": 3,
   "metadata": {},
   "outputs": [],
   "source": [
    "# This parameter is created in order to\n",
    "# justify creation of a `Station` object,\n",
    "# which, in turn, is needed to remind the\n",
    "# reader about the importance of adding \n",
    "# all instruments to the station.\n",
    "fs = Parameter(name='force_side', label='Side of the Force',\n",
    "               initial_value='dark',\n",
    "               set_cmd=None, get_cmd=None)"
   ]
  },
  {
   "cell_type": "code",
   "execution_count": 4,
   "metadata": {},
   "outputs": [
    {
     "data": {
      "text/plain": [
       "'force_side'"
      ]
     },
     "execution_count": 4,
     "metadata": {},
     "output_type": "execute_result"
    }
   ],
   "source": [
    "station = Station()\n",
    "station.add_component(fs)"
   ]
  },
  {
   "cell_type": "code",
   "execution_count": 5,
   "metadata": {},
   "outputs": [],
   "source": [
    "x = Parameter(name='x', label='Voltage', unit='V',\n",
    "              set_cmd=None, get_cmd=None)\n",
    "t = Parameter(name='t', label='Time', unit='s',\n",
    "              set_cmd=None, get_cmd=None)\n",
    "y = Parameter(name='y', label='Voltage', unit='V',\n",
    "              set_cmd=None, get_cmd=None)\n",
    "y2 = Parameter(name='y2', label='Current', unit='A',\n",
    "               set_cmd=None, get_cmd=None)"
   ]
  },
  {
   "cell_type": "code",
   "execution_count": 6,
   "metadata": {},
   "outputs": [
    {
     "name": "stdout",
     "output_type": "stream",
     "text": [
      "Starting experimental run with id: 1\n"
     ]
    }
   ],
   "source": [
    "meas = Measurement(exp=experiment, station=station)\n",
    "\n",
    "meas.name = 'first_run'\n",
    "\n",
    "meas.register_parameter(x)\n",
    "meas.register_parameter(t)\n",
    "meas.register_parameter(y, setpoints=(x, t))\n",
    "meas.register_parameter(y2, setpoints=(x, t))\n",
    "\n",
    "x_vals = np.linspace(-4, 5, 50)\n",
    "t_vals = np.linspace(-500, 1500, 25)\n",
    "\n",
    "with meas.run() as datasaver:\n",
    "    for xv in x_vals:\n",
    "        for tv in t_vals:\n",
    "            yv = np.sin(2*np.pi*xv)*np.cos(2*np.pi*0.001*tv) + 0.001*tv\n",
    "            y2v = np.sin(2*np.pi*xv)*np.cos(2*np.pi*0.001*tv + 0.5*np.pi) - 0.001*tv\n",
    "            datasaver.add_result((x, xv), (t, tv), (y, yv), (y2, y2v))\n",
    "\n",
    "dataset = datasaver.dataset"
   ]
  },
  {
   "cell_type": "markdown",
   "metadata": {},
   "source": [
    "For the sake of demonstating what kind of data we've produced, let's use `plot_dataset` to make some default plots of the data."
   ]
  },
  {
   "cell_type": "code",
   "execution_count": 7,
   "metadata": {},
   "outputs": [
    {
     "data": {
      "text/plain": [
       "([<matplotlib.axes._subplots.AxesSubplot at 0x1217c8f50>,\n",
       "  <matplotlib.axes._subplots.AxesSubplot at 0x1218d3790>],\n",
       " [<matplotlib.colorbar.Colorbar at 0x1217f2d90>,\n",
       "  <matplotlib.colorbar.Colorbar at 0x121841790>])"
      ]
     },
     "execution_count": 7,
     "metadata": {},
     "output_type": "execute_result"
    },
    {
     "data": {
      "image/png": "[encoded data removed]",
      "text/plain": [
       "<Figure size 432x288 with 2 Axes>"
      ]
     },
     "metadata": {
      "needs_background": "light"
     },
     "output_type": "display_data"
    },
    {
     "data": {
      "image/png": "[encoded data removed]",
      "text/plain": [
       "<Figure size 432x288 with 2 Axes>"
      ]
     },
     "metadata": {
      "needs_background": "light"
     },
     "output_type": "display_data"
    }
   ],
   "source": [
    "plot_dataset(dataset)"
   ]
  },
  {
   "cell_type": "markdown",
   "metadata": {},
   "source": [
    "## Note on immutability of DataSet\n",
    "\n",
    "Users are NOT expected to use `DataSet`s methods that modify its content, for example, `add_result`. Only `Measurement` and `DataSaver` objects use those methods. This is due to the phylosophy of the `DataSet` - once created within a `Measurement` context, it should not change so that the user don't accidentally modify/remove the important measured data. In the future versions of QCoDeS the design of the `DataSet` object will be improved to make the described phylosophy clear."
   ]
  },
  {
   "cell_type": "markdown",
   "metadata": {},
   "source": [
    "## DataSet indentity\n",
    "\n",
    "Before we dive into what's in the `DataSet`, let's briefly note how a `DataSet` is identified."
   ]
  },
  {
   "cell_type": "markdown",
   "metadata": {},
   "source": [
    "Globally, \"in this universe\", a dataset is identified by a globally unique identifier:"
   ]
  },
  {
   "cell_type": "code",
   "execution_count": 8,
   "metadata": {},
   "outputs": [
    {
     "data": {
      "text/plain": [
       "'aaaaaaaa-0000-0000-0000-016d21e26f2b'"
      ]
     },
     "execution_count": 8,
     "metadata": {},
     "output_type": "execute_result"
    }
   ],
   "source": [
    "dataset.guid"
   ]
  },
  {
   "cell_type": "markdown",
   "metadata": {},
   "source": [
    "`guid` is generated when a dataset is created, and is globally unique.\n",
    "\n",
    "Due to the nature of the `guid` and its size, it is very user-friendly. For example, it is convenient use it as a reference in a conversation betweenusers. However, the `guid` is crutial for use in automated/computer systems, for example, when moving a dataset from one database file to a different one."
   ]
  },
  {
   "cell_type": "markdown",
   "metadata": {},
   "source": [
    "Within a given single database file (!) a dataset can be identified by its `run_id`, an integer index:"
   ]
  },
  {
   "cell_type": "code",
   "execution_count": 9,
   "metadata": {},
   "outputs": [
    {
     "data": {
      "text/plain": [
       "1"
      ]
     },
     "execution_count": 9,
     "metadata": {},
     "output_type": "execute_result"
    }
   ],
   "source": [
    "dataset.run_id"
   ]
  },
  {
   "cell_type": "markdown",
   "metadata": {},
   "source": [
    "`run_id` gets assigned to a dataset upon its creation, and is unique only within that database file.\n",
    "\n",
    "**Note** that `run_id` is NOT unique outside of a given database file. For example, if we extract a dataset with `run_id` `1` into another database file, the chances are high that the `run_id` of this dataset in that other database file will be different (for example, if that other database file already contains 3 datasets, then the `run_id` of the extracted dataset will be `4`)."
   ]
  },
  {
   "cell_type": "markdown",
   "metadata": {},
   "source": [
    "Unlike `guid`, `run_id` is a convenient way to refer to a dataset, but *only within the scope of a single given database file*. In order to allow users to still use this convenient integer for referring to a dataset, the `run_id` that got assigned to a dataset upon its creation is also captured in the `captured_run_id`:"
   ]
  },
  {
   "cell_type": "code",
   "execution_count": 10,
   "metadata": {},
   "outputs": [
    {
     "data": {
      "text/plain": [
       "1"
      ]
     },
     "execution_count": 10,
     "metadata": {},
     "output_type": "execute_result"
    }
   ],
   "source": [
    "dataset.captured_run_id"
   ]
  },
  {
   "cell_type": "markdown",
   "metadata": {},
   "source": [
    "`captured_run_id` gets assigned to a dataset upon its creation, but unlike `run_id` does not change when the dataset is extracted to another database file."
   ]
  },
  {
   "cell_type": "markdown",
   "metadata": {},
   "source": [
    "Every dataset contains the name of the experiment, and the name of the sample - those come from the `Experiment` object that was passed to the `Measurement` object with which the dataset has been created.\n",
    "\n",
    "So here is the experiment name that has been used above:"
   ]
  },
  {
   "cell_type": "code",
   "execution_count": 11,
   "metadata": {},
   "outputs": [
    {
     "data": {
      "text/plain": [
       "'greco'"
      ]
     },
     "execution_count": 11,
     "metadata": {},
     "output_type": "execute_result"
    }
   ],
   "source": [
    "dataset.exp_name"
   ]
  },
  {
   "cell_type": "markdown",
   "metadata": {},
   "source": [
    "And here is the sample name that has been used above:"
   ]
  },
  {
   "cell_type": "code",
   "execution_count": 12,
   "metadata": {},
   "outputs": [
    {
     "data": {
      "text/plain": [
       "'draco'"
      ]
     },
     "execution_count": 12,
     "metadata": {},
     "output_type": "execute_result"
    }
   ],
   "source": [
    "dataset.sample_name"
   ]
  },
  {
   "cell_type": "markdown",
   "metadata": {},
   "source": [
    "Both experiment name and sample name are great means for identifying a dataset, especially when coupled with the `captured_run_id`."
   ]
  },
  {
   "cell_type": "markdown",
   "metadata": {},
   "source": [
    "Last but not least, a dataset may have a `name`. This name gets assigned to the dataset upon its creation, and is taken from the `name` attribute of the `Measurement` object that was used to create the dataset. For example, above the `name` of the `Measurement` was set, hence the produced `DataSet` also has this name:"
   ]
  },
  {
   "cell_type": "code",
   "execution_count": 13,
   "metadata": {},
   "outputs": [
    {
     "data": {
      "text/plain": [
       "'first_run'"
      ]
     },
     "execution_count": 13,
     "metadata": {},
     "output_type": "execute_result"
    }
   ],
   "source": [
    "dataset.name"
   ]
  },
  {
   "cell_type": "markdown",
   "metadata": {},
   "source": [
    "If the `name` of the `Measurement` is not explicitly defined, the created dataset gets a default name."
   ]
  },
  {
   "cell_type": "markdown",
   "metadata": {},
   "source": [
    "### Note on experiments\n",
    "\n",
    "Conceptually experiments are meant to group datasets under the same experiment name and sample name. This is why every dataset also contains the following `Experiment`-related identifications."
   ]
  },
  {
   "cell_type": "markdown",
   "metadata": {},
   "source": [
    "Experiments have integer ids within a database file. A dataset knows about the id of the experiment it belongs to via `exp_id` property:"
   ]
  },
  {
   "cell_type": "code",
   "execution_count": 14,
   "metadata": {},
   "outputs": [
    {
     "data": {
      "text/plain": [
       "1"
      ]
     },
     "execution_count": 14,
     "metadata": {},
     "output_type": "execute_result"
    }
   ],
   "source": [
    "dataset.exp_id"
   ]
  },
  {
   "cell_type": "markdown",
   "metadata": {},
   "source": [
    "Because an `Experiment` is a group of datasets, every dataset also has a `counter` within an `Experiment`:"
   ]
  },
  {
   "cell_type": "code",
   "execution_count": 15,
   "metadata": {},
   "outputs": [
    {
     "data": {
      "text/plain": [
       "1"
      ]
     },
     "execution_count": 15,
     "metadata": {},
     "output_type": "execute_result"
    }
   ],
   "source": [
    "dataset.counter"
   ]
  },
  {
   "cell_type": "markdown",
   "metadata": {},
   "source": [
    "So as `run_id`, the `counter` is unique only within an experiment within a single given database file. Hence, a `captured_counter` exists that is equal to the value of the `counter` that gets assigned to a dataset upon its creation:"
   ]
  },
  {
   "cell_type": "code",
   "execution_count": 16,
   "metadata": {},
   "outputs": [
    {
     "data": {
      "text/plain": [
       "1"
      ]
     },
     "execution_count": 16,
     "metadata": {},
     "output_type": "execute_result"
    }
   ],
   "source": [
    "dataset.captured_counter"
   ]
  },
  {
   "cell_type": "markdown",
   "metadata": {},
   "source": [
    "For example, when a dataset gets extracted to a different database file, its `counter` within an experiment will likely change, while `captured_counter` will remain (poissibly resulting in more than one dataset within the same experiment having equal `captured_counter`s)."
   ]
  },
  {
   "cell_type": "markdown",
   "metadata": {},
   "source": [
    "### Note on DataSet states\n",
    "\n",
    "The `DataSet` object publicly exposes properties which give information about its state. However, users are expected to always get `DataSet` objects in their \"final\", last, unmodifiable state. This means that the \"state\" properties of the dataset will have the following values:"
   ]
  },
  {
   "cell_type": "code",
   "execution_count": 17,
   "metadata": {},
   "outputs": [
    {
     "data": {
      "text/plain": [
       "True"
      ]
     },
     "execution_count": 17,
     "metadata": {},
     "output_type": "execute_result"
    }
   ],
   "source": [
    "dataset.completed"
   ]
  },
  {
   "cell_type": "code",
   "execution_count": 18,
   "metadata": {},
   "outputs": [
    {
     "data": {
      "text/plain": [
       "True"
      ]
     },
     "execution_count": 18,
     "metadata": {},
     "output_type": "execute_result"
    }
   ],
   "source": [
    "dataset.started"
   ]
  },
  {
   "cell_type": "code",
   "execution_count": 19,
   "metadata": {},
   "outputs": [
    {
     "data": {
      "text/plain": [
       "False"
      ]
     },
     "execution_count": 19,
     "metadata": {},
     "output_type": "execute_result"
    }
   ],
   "source": [
    "dataset.running"
   ]
  },
  {
   "cell_type": "code",
   "execution_count": 20,
   "metadata": {},
   "outputs": [
    {
     "data": {
      "text/plain": [
       "False"
      ]
     },
     "execution_count": 20,
     "metadata": {},
     "output_type": "execute_result"
    }
   ],
   "source": [
    "dataset.pristine"
   ]
  },
  {
   "cell_type": "markdown",
   "metadata": {},
   "source": [
    "## DataSet info\n",
    "\n",
    "In this section we are going to look at different minor pieces of information about the dataset."
   ]
  },
  {
   "cell_type": "markdown",
   "metadata": {},
   "source": [
    "### Database file\n",
    "\n",
    "Dataset is obviously aware of which database file it is contained in:"
   ]
  },
  {
   "cell_type": "code",
   "execution_count": 21,
   "metadata": {},
   "outputs": [
    {
     "data": {
      "text/plain": [
       "'/var/folders/3c/1hn5sc913p7dr8b07jgqqwtm0000gn/T/data_access_example.db'"
      ]
     },
     "execution_count": 21,
     "metadata": {},
     "output_type": "execute_result"
    }
   ],
   "source": [
    "dataset.path_to_db"
   ]
  },
  {
   "cell_type": "markdown",
   "metadata": {},
   "source": [
    "### Timestamps\n",
    "\n",
    "A dataset has  "
   ]
  },
  {
   "cell_type": "code",
   "execution_count": 22,
   "metadata": {},
   "outputs": [
    {
     "data": {
      "text/plain": [
       "'2019-09-11 21:52:30'"
      ]
     },
     "execution_count": 22,
     "metadata": {},
     "output_type": "execute_result"
    }
   ],
   "source": [
    "dataset.run_timestamp()"
   ]
  },
  {
   "cell_type": "code",
   "execution_count": 23,
   "metadata": {},
   "outputs": [
    {
     "data": {
      "text/plain": [
       "1568231550.7727659"
      ]
     },
     "execution_count": 23,
     "metadata": {},
     "output_type": "execute_result"
    }
   ],
   "source": [
    "dataset.run_timestamp_raw"
   ]
  },
  {
   "cell_type": "code",
   "execution_count": 24,
   "metadata": {},
   "outputs": [
    {
     "data": {
      "text/plain": [
       "'2019-09-11 21:52:30'"
      ]
     },
     "execution_count": 24,
     "metadata": {},
     "output_type": "execute_result"
    }
   ],
   "source": [
    "dataset.completed_timestamp()"
   ]
  },
  {
   "cell_type": "code",
   "execution_count": 25,
   "metadata": {},
   "outputs": [
    {
     "data": {
      "text/plain": [
       "1568231550.88348"
      ]
     },
     "execution_count": 25,
     "metadata": {},
     "output_type": "execute_result"
    }
   ],
   "source": [
    "dataset.completed_timestamp_raw"
   ]
  },
  {
   "cell_type": "code",
   "execution_count": 26,
   "metadata": {},
   "outputs": [
    {
     "data": {
      "text/plain": [
       "{'station': {'instruments': {},\n",
       "  'parameters': {'force_side': {'value': 'dark',\n",
       "    'ts': '2019-09-11 21:52:30',\n",
       "    'raw_value': 'dark',\n",
       "    '__class__': 'qcodes.instrument.parameter.Parameter',\n",
       "    'full_name': 'force_side',\n",
       "    'name': 'force_side',\n",
       "    'unit': '',\n",
       "    'inter_delay': 0,\n",
       "    'label': 'Side of the Force',\n",
       "    'post_delay': 0}},\n",
       "  'components': {},\n",
       "  'default_measurement': []}}"
      ]
     },
     "execution_count": 26,
     "metadata": {},
     "output_type": "execute_result"
    }
   ],
   "source": [
    "dataset.snapshot"
   ]
  },
  {
   "cell_type": "code",
   "execution_count": 27,
   "metadata": {},
   "outputs": [
    {
     "data": {
      "text/plain": [
       "'{\"station\": {\"instruments\": {}, \"parameters\": {\"force_side\": {\"value\": \"dark\", \"ts\": \"2019-09-11 21:52:30\", \"raw_value\": \"dark\", \"__class__\": \"qcodes.instrument.parameter.Parameter\", \"full_name\": \"force_side\", \"name\": \"force_side\", \"unit\": \"\", \"inter_delay\": 0, \"label\": \"Side of the Force\", \"post_delay\": 0}}, \"components\": {}, \"default_measurement\": []}}'"
      ]
     },
     "execution_count": 27,
     "metadata": {},
     "output_type": "execute_result"
    }
   ],
   "source": [
    "dataset.snapshot_raw"
   ]
  },
  {
   "cell_type": "code",
   "execution_count": 28,
   "metadata": {},
   "outputs": [
    {
     "data": {
      "text/plain": [
       "[]"
      ]
     },
     "execution_count": 28,
     "metadata": {},
     "output_type": "execute_result"
    }
   ],
   "source": [
    "dataset.parent_dataset_links"
   ]
  },
  {
   "cell_type": "code",
   "execution_count": 29,
   "metadata": {},
   "outputs": [
    {
     "data": {
      "text/plain": [
       "{}"
      ]
     },
     "execution_count": 29,
     "metadata": {},
     "output_type": "execute_result"
    }
   ],
   "source": [
    "dataset.metadata"
   ]
  },
  {
   "cell_type": "code",
   "execution_count": 30,
   "metadata": {},
   "outputs": [
    {
     "data": {
      "text/plain": [
       "'first_run'"
      ]
     },
     "execution_count": 30,
     "metadata": {},
     "output_type": "execute_result"
    }
   ],
   "source": [
    "dataset.get_metadata('name')"
   ]
  },
  {
   "cell_type": "markdown",
   "metadata": {},
   "source": [
    "## Parameters in the DataSet\n",
    "\n",
    "In this section we are getting information about the parameters stored in the given `DataSet`."
   ]
  },
  {
   "cell_type": "code",
   "execution_count": 31,
   "metadata": {},
   "outputs": [
    {
     "data": {
      "text/plain": [
       "2500"
      ]
     },
     "execution_count": 31,
     "metadata": {},
     "output_type": "execute_result"
    }
   ],
   "source": [
    "dataset.number_of_results"
   ]
  },
  {
   "cell_type": "code",
   "execution_count": 32,
   "metadata": {},
   "outputs": [
    {
     "data": {
      "text/plain": [
       "'x,t,y,y2'"
      ]
     },
     "execution_count": 32,
     "metadata": {},
     "output_type": "execute_result"
    }
   ],
   "source": [
    "dataset.parameters"
   ]
  },
  {
   "cell_type": "code",
   "execution_count": 33,
   "metadata": {},
   "outputs": [
    {
     "data": {
      "text/plain": [
       "{'x': ParamSpec('x', 'numeric', 'Voltage', 'V', inferred_from=[], depends_on=[]),\n",
       " 't': ParamSpec('t', 'numeric', 'Time', 's', inferred_from=[], depends_on=[]),\n",
       " 'y': ParamSpec('y', 'numeric', 'Voltage', 'V', inferred_from=[], depends_on=['x', 't']),\n",
       " 'y2': ParamSpec('y2', 'numeric', 'Current', 'A', inferred_from=[], depends_on=['x', 't'])}"
      ]
     },
     "execution_count": 33,
     "metadata": {},
     "output_type": "execute_result"
    }
   ],
   "source": [
    "dataset.paramspecs"
   ]
  },
  {
   "cell_type": "code",
   "execution_count": 34,
   "metadata": {},
   "outputs": [
    {
     "data": {
      "text/plain": [
       "[ParamSpec('x', 'numeric', 'Voltage', 'V', inferred_from=[], depends_on=[]),\n",
       " ParamSpec('t', 'numeric', 'Time', 's', inferred_from=[], depends_on=[]),\n",
       " ParamSpec('y', 'numeric', 'Voltage', 'V', inferred_from=[], depends_on=['x', 't']),\n",
       " ParamSpec('y2', 'numeric', 'Current', 'A', inferred_from=[], depends_on=['x', 't'])]"
      ]
     },
     "execution_count": 34,
     "metadata": {},
     "output_type": "execute_result"
    }
   ],
   "source": [
    "dataset.get_parameters()"
   ]
  },
  {
   "cell_type": "code",
   "execution_count": 35,
   "metadata": {},
   "outputs": [
    {
     "data": {
      "text/plain": [
       "(ParamSpecBase('y', 'numeric', 'Voltage', 'V'),\n",
       " ParamSpecBase('y2', 'numeric', 'Current', 'A'))"
      ]
     },
     "execution_count": 35,
     "metadata": {},
     "output_type": "execute_result"
    }
   ],
   "source": [
    "dataset.dependent_parameters"
   ]
  },
  {
   "cell_type": "code",
   "execution_count": 36,
   "metadata": {},
   "outputs": [
    {
     "data": {
      "text/plain": [
       "RunDescriber(InterDependencies_(dependencies={ParamSpecBase('y', 'numeric', 'Voltage', 'V'): (ParamSpecBase('x', 'numeric', 'Voltage', 'V'), ParamSpecBase('t', 'numeric', 'Time', 's')), ParamSpecBase('y2', 'numeric', 'Current', 'A'): (ParamSpecBase('x', 'numeric', 'Voltage', 'V'), ParamSpecBase('t', 'numeric', 'Time', 's'))}, inferences={}, standalones=frozenset()))"
      ]
     },
     "execution_count": 36,
     "metadata": {},
     "output_type": "execute_result"
    }
   ],
   "source": [
    "dataset.description"
   ]
  },
  {
   "cell_type": "markdown",
   "metadata": {},
   "source": [
    "## Getting data from DataSet\n",
    "\n",
    "??"
   ]
  },
  {
   "cell_type": "code",
   "execution_count": 37,
   "metadata": {},
   "outputs": [
    {
     "data": {
      "text/plain": [
       "<bound method DataSet.get_setpoints of first_run #1@/var/folders/3c/1hn5sc913p7dr8b07jgqqwtm0000gn/T/data_access_example.db\n",
       "------------------------------------------------------------------------------------\n",
       "x - numeric\n",
       "t - numeric\n",
       "y - numeric\n",
       "y2 - numeric>"
      ]
     },
     "execution_count": 37,
     "metadata": {},
     "output_type": "execute_result"
    }
   ],
   "source": [
    "dataset.get_data\n",
    "dataset.get_values\n",
    "dataset.get_setpoints"
   ]
  },
  {
   "cell_type": "code",
   "execution_count": 38,
   "metadata": {},
   "outputs": [
    {
     "data": {
      "text/plain": [
       "<bound method DataSet.get_parameter_data of first_run #1@/var/folders/3c/1hn5sc913p7dr8b07jgqqwtm0000gn/T/data_access_example.db\n",
       "------------------------------------------------------------------------------------\n",
       "x - numeric\n",
       "t - numeric\n",
       "y - numeric\n",
       "y2 - numeric>"
      ]
     },
     "execution_count": 38,
     "metadata": {},
     "output_type": "execute_result"
    }
   ],
   "source": [
    "dataset.get_parameter_data"
   ]
  },
  {
   "cell_type": "code",
   "execution_count": null,
   "metadata": {},
   "outputs": [],
   "source": []
  }
 ],
 "metadata": {
  "kernelspec": {
   "display_name": "Python 3",
   "language": "python",
   "name": "python3"
  },
  "language_info": {
   "codemirror_mode": {
    "name": "ipython",
    "version": 3
   },
   "file_extension": ".py",
   "mimetype": "text/x-python",
   "name": "python",
   "nbconvert_exporter": "python",
   "pygments_lexer": "ipython3",
   "version": "3.7.4"
  }
 },
 "nbformat": 4,
 "nbformat_minor": 2
}
