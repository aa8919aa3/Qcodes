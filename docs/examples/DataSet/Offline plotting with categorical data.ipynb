{
 "cells": [
  {
   "cell_type": "markdown",
   "metadata": {},
   "source": [
    "# Offline plotting with categorical data\n",
    "\n",
    "This notebook is a collection of plotting examples using `plot_by_id` and caterogical (string-valued) data. The notebook should cover all possible permutations of categorical versus numerical data."
   ]
  },
  {
   "cell_type": "code",
   "execution_count": 1,
   "metadata": {},
   "outputs": [],
   "source": [
    "import numpy as np\n",
    "\n",
    "from qcodes import Parameter\n",
    "from qcodes.dataset.plotting import plot_by_id, get_data_by_id\n",
    "from qcodes.dataset.measurements import Measurement"
   ]
  },
  {
   "cell_type": "markdown",
   "metadata": {},
   "source": [
    "## 1D plotting"
   ]
  },
  {
   "cell_type": "markdown",
   "metadata": {},
   "source": [
    "### Category is the independent parameter\n",
    "\n",
    "An example with made-up sciency words and random values.\n",
    "\n",
    "With the category as the independent parameter, `plot_by_id` will default to a bar plot as long as there is\n",
    "at most one value per category. If more than one value is found for any category a bar plot i snot possible, and `plot_by_id` falls back to a scatter plot."
   ]
  },
  {
   "cell_type": "code",
   "execution_count": 36,
   "metadata": {},
   "outputs": [
    {
     "name": "stdout",
     "output_type": "stream",
     "text": [
      "Starting experimental run with id: 276\n"
     ]
    }
   ],
   "source": [
    "voltage = Parameter('voltage',\n",
    "                    label='Voltage',\n",
    "                    unit='V',\n",
    "                    set_cmd=None,\n",
    "                    get_cmd=None)\n",
    "fridge_config = Parameter('config',\n",
    "                          label='Fridge configuration',\n",
    "                          set_cmd=None,\n",
    "                          get_cmd=None)\n",
    "\n",
    "meas = Measurement()\n",
    "meas.register_parameter(fridge_config, paramtype='text')\n",
    "meas.register_parameter(voltage, setpoints=(fridge_config,))\n",
    "\n",
    "with meas.run() as datasaver:\n",
    "\n",
    "    configurations = ['open', 'outer chamber closed',\n",
    "                      'pumping', 'closed']\n",
    "    \n",
    "    for configuration in configurations:\n",
    "        datasaver.add_result((fridge_config, configuration),\n",
    "                             (voltage, np.random.rand()))\n",
    "\n",
    "\n",
    "run_id = datasaver.run_id"
   ]
  },
  {
   "cell_type": "code",
   "execution_count": 37,
   "metadata": {},
   "outputs": [
    {
     "data": {
      "image/png": "[encoded data removed]",
      "text/plain": [
       "<Figure size 432x288 with 1 Axes>"
      ]
     },
     "metadata": {},
     "output_type": "display_data"
    }
   ],
   "source": [
    "_ = plot_by_id(run_id)"
   ]
  },
  {
   "cell_type": "code",
   "execution_count": 38,
   "metadata": {},
   "outputs": [
    {
     "name": "stdout",
     "output_type": "stream",
     "text": [
      "Starting experimental run with id: 277\n"
     ]
    },
    {
     "data": {
      "image/png": "[encoded data removed]",
      "text/plain": [
       "<Figure size 432x288 with 1 Axes>"
      ]
     },
     "metadata": {},
     "output_type": "display_data"
    }
   ],
   "source": [
    "with meas.run() as datasaver:\n",
    "\n",
    "    configurations = ['open', 'outer chamber closed',\n",
    "                      'pumping', 'closed']\n",
    "    \n",
    "    for configuration in configurations:\n",
    "        datasaver.add_result((fridge_config, configuration),\n",
    "                             (voltage, np.random.rand()))\n",
    "\n",
    "\n",
    "    datasaver.add_result((fridge_config, 'open'),\n",
    "                         (voltage, np.random.rand()))\n",
    "        \n",
    "run_id = datasaver.run_id  \n",
    "\n",
    "_ = plot_by_id(run_id)"
   ]
  },
  {
   "cell_type": "markdown",
   "metadata": {},
   "source": [
    "### Category is the dependent parameter\n",
    "\n",
    "With the categories as the dependent variable, i.e. the _outcome_ of a measurement, `plot_by_id` defaults to a scatter plot.\n",
    "\n",
    "Here an example with made-up sciency words and random values.\n",
    "\n",
    "**UNRESOLVED**: How do we ensure the y-axis order?\n"
   ]
  },
  {
   "cell_type": "code",
   "execution_count": 43,
   "metadata": {},
   "outputs": [
    {
     "name": "stdout",
     "output_type": "stream",
     "text": [
      "Starting experimental run with id: 280\n"
     ]
    }
   ],
   "source": [
    "voltage = Parameter('voltage',\n",
    "                    label='Voltage',\n",
    "                    unit='V',\n",
    "                    set_cmd=None,\n",
    "                    get_cmd=None)\n",
    "response = Parameter('response',\n",
    "                     label='Sample response',\n",
    "                     set_cmd=None,\n",
    "                     get_cmd=None)\n",
    "\n",
    "meas = Measurement()\n",
    "meas.register_parameter(voltage)\n",
    "meas.register_parameter(response, paramtype='text', setpoints=(voltage,))\n",
    "\n",
    "\n",
    "with meas.run() as datasaver:\n",
    "\n",
    "    for volt in np.linspace(0, 1, 50):\n",
    "        coinvalue = volt + 0.5*np.random.randn()\n",
    "        if coinvalue < 0:\n",
    "            resp = 'Bad'\n",
    "        elif coinvalue < 0.8:\n",
    "            resp = 'Good'\n",
    "        else:\n",
    "            resp = 'Excellent'\n",
    "            \n",
    "        datasaver.add_result((voltage, volt),\n",
    "                             (response, resp))\n",
    "            \n",
    "run_id = datasaver.run_id"
   ]
  },
  {
   "cell_type": "code",
   "execution_count": 44,
   "metadata": {},
   "outputs": [
    {
     "data": {
      "text/plain": [
       "([<matplotlib.axes._subplots.AxesSubplot at 0x25fc9b667b8>], [None])"
      ]
     },
     "execution_count": 44,
     "metadata": {},
     "output_type": "execute_result"
    },
    {
     "data": {
      "image/png": "[encoded data removed]",
      "text/plain": [
       "<Figure size 432x288 with 1 Axes>"
      ]
     },
     "metadata": {},
     "output_type": "display_data"
    }
   ],
   "source": [
    "_ = plot_by_id(run_id)"
   ]
  },
  {
   "cell_type": "markdown",
   "metadata": {},
   "source": [
    "## Both variables are categorical\n",
    "\n",
    "For both variables being categorical, `plot_by_id` defaults to a scatter plot.\n",
    "\n",
    "This case would typically be some summary of a large number of measurements."
   ]
  },
  {
   "cell_type": "code",
   "execution_count": 2,
   "metadata": {},
   "outputs": [
    {
     "name": "stdout",
     "output_type": "stream",
     "text": [
      "Starting experimental run with id: 290\n"
     ]
    }
   ],
   "source": [
    "sample = Parameter('sample',\n",
    "                    label='Sample',\n",
    "                    unit='',\n",
    "                    set_cmd=None,\n",
    "                    get_cmd=None)\n",
    "feature = Parameter('feature',\n",
    "                     label='Physical feature',\n",
    "                     set_cmd=None,\n",
    "                     get_cmd=None)\n",
    "\n",
    "meas = Measurement()\n",
    "meas.register_parameter(sample, paramtype='text')\n",
    "meas.register_parameter(feature, paramtype='text', setpoints=(sample,))\n",
    "\n",
    "\n",
    "with meas.run() as datasaver:\n",
    "\n",
    "    features = ['superconducting', 'qubit',\n",
    "                'clean states', 'high bandwidth']\n",
    "    \n",
    "    for samp in ['Nanowire', 'Silicon Chip', 'SQUID', 'Membrane']:\n",
    "\n",
    "        feats = np.random.randint(1, 5)\n",
    "        for _ in range(feats):\n",
    "\n",
    "            datasaver.add_result((sample, samp),\n",
    "                                 (feature, features[np.random.randint(0, 4)]))\n",
    "    \n",
    "run_id = datasaver.run_id"
   ]
  },
  {
   "cell_type": "code",
   "execution_count": 3,
   "metadata": {},
   "outputs": [
    {
     "data": {
      "image/png": "[encoded data removed]",
      "text/plain": [
       "<Figure size 432x288 with 1 Axes>"
      ]
     },
     "metadata": {},
     "output_type": "display_data"
    }
   ],
   "source": [
    "_ = plot_by_id(run_id)"
   ]
  },
  {
   "cell_type": "markdown",
   "metadata": {},
   "source": [
    "## 2D plotting\n",
    "\n",
    "Naming convention: the x-axis is horizontal, the y-axis is vertical, and the z-axis is out-of-plane."
   ]
  },
  {
   "cell_type": "markdown",
   "metadata": {},
   "source": [
    "### Categorical data on the x-axis\n",
    "\n",
    "Here an example were different samples are tested for conductivity. The longer the name of the sample, the higher the conductivity."
   ]
  },
  {
   "cell_type": "code",
   "execution_count": 2,
   "metadata": {},
   "outputs": [
    {
     "name": "stdout",
     "output_type": "stream",
     "text": [
      "Starting experimental run with id: 292\n"
     ]
    }
   ],
   "source": [
    "sample = Parameter('sample',\n",
    "                    label='Sample',\n",
    "                    unit='',\n",
    "                    set_cmd=None,\n",
    "                    get_cmd=None)\n",
    "gate_voltage = Parameter('gate_v',\n",
    "                         label='Gate voltage',\n",
    "                         unit='V',\n",
    "                         set_cmd=None,\n",
    "                         get_cmd=None)\n",
    "conductance = Parameter('conductance',\n",
    "                        label='Conductance',\n",
    "                        unit='e^2/hbar',\n",
    "                        set_cmd=None,\n",
    "                        get_cmd=None)\n",
    "\n",
    "meas = Measurement()\n",
    "meas.register_parameter(sample, paramtype='text')\n",
    "meas.register_parameter(gate_voltage)\n",
    "meas.register_parameter(conductance, setpoints=(sample, gate_voltage))\n",
    "\n",
    "\n",
    "with meas.run() as datasaver:\n",
    "    \n",
    "    for samp in ['Nanowire', 'Silicon Chip', 'SQUID', 'Membrane']:\n",
    "\n",
    "        gate_vs = np.linspace(0, 1, 75)\n",
    "        \n",
    "        for gate_v in gate_vs:\n",
    "            datasaver.add_result((sample, samp),\n",
    "                                 (gate_voltage, gate_v),\n",
    "                                 (conductance, len(samp)*gate_v))\n",
    "    \n",
    "run_id = datasaver.run_id"
   ]
  },
  {
   "cell_type": "code",
   "execution_count": 3,
   "metadata": {},
   "outputs": [
    {
     "name": "stderr",
     "output_type": "stream",
     "text": [
      "c:\\users\\wihpniel\\src\\qcodes\\qcodes\\dataset\\data_export.py:371: FutureWarning: elementwise comparison failed; returning scalar instead, but in the future will perform elementwise comparison\n",
      "  x_index[np.where(x==xval)[0]] = i\n"
     ]
    },
    {
     "ename": "TypeError",
     "evalue": "Dimensions of C (75, 4) are incompatible with X (1200) and/or Y (76); see help(pcolormesh)",
     "output_type": "error",
     "traceback": [
      "\u001b[1;31m---------------------------------------------------------------------------\u001b[0m",
      "\u001b[1;31mTypeError\u001b[0m                                 Traceback (most recent call last)",
      "\u001b[1;32m<ipython-input-3-21150f580799>\u001b[0m in \u001b[0;36m<module>\u001b[1;34m()\u001b[0m\n\u001b[1;32m----> 1\u001b[1;33m \u001b[0mplot_by_id\u001b[0m\u001b[1;33m(\u001b[0m\u001b[0mrun_id\u001b[0m\u001b[1;33m)\u001b[0m\u001b[1;33m\u001b[0m\u001b[0m\n\u001b[0m",
      "\u001b[1;32mc:\\users\\wihpniel\\src\\qcodes\\qcodes\\dataset\\plotting.py\u001b[0m in \u001b[0;36mplot_by_id\u001b[1;34m(run_id, axes, colorbars, rescale_axes, auto_color_scale, cutoff_percentile, **kwargs)\u001b[0m\n\u001b[0;32m    191\u001b[0m \u001b[1;33m\u001b[0m\u001b[0m\n\u001b[0;32m    192\u001b[0m             ax, colorbar = plot_func(xpoints, ypoints, zpoints, ax, colorbar,\n\u001b[1;32m--> 193\u001b[1;33m                                      **kwargs)\n\u001b[0m\u001b[0;32m    194\u001b[0m \u001b[1;33m\u001b[0m\u001b[0m\n\u001b[0;32m    195\u001b[0m             \u001b[0m_set_data_axes_labels\u001b[0m\u001b[1;33m(\u001b[0m\u001b[0max\u001b[0m\u001b[1;33m,\u001b[0m \u001b[0mdata\u001b[0m\u001b[1;33m,\u001b[0m \u001b[0mcolorbar\u001b[0m\u001b[1;33m)\u001b[0m\u001b[1;33m\u001b[0m\u001b[0m\n",
      "\u001b[1;32mc:\\users\\wihpniel\\src\\qcodes\\qcodes\\dataset\\plotting.py\u001b[0m in \u001b[0;36mplot_on_a_plain_grid\u001b[1;34m(x, y, z, ax, colorbar, **kwargs)\u001b[0m\n\u001b[0;32m    353\u001b[0m                               \u001b[0mnp\u001b[0m\u001b[1;33m.\u001b[0m\u001b[0mma\u001b[0m\u001b[1;33m.\u001b[0m\u001b[0mmasked_invalid\u001b[0m\u001b[1;33m(\u001b[0m\u001b[0mz_to_plot\u001b[0m\u001b[1;33m)\u001b[0m\u001b[1;33m,\u001b[0m\u001b[1;33m\u001b[0m\u001b[0m\n\u001b[0;32m    354\u001b[0m                               \u001b[0mrasterized\u001b[0m\u001b[1;33m=\u001b[0m\u001b[0mrasterized\u001b[0m\u001b[1;33m,\u001b[0m\u001b[1;33m\u001b[0m\u001b[0m\n\u001b[1;32m--> 355\u001b[1;33m                               **kwargs)\n\u001b[0m\u001b[0;32m    356\u001b[0m     \u001b[1;32mif\u001b[0m \u001b[0mcolorbar\u001b[0m \u001b[1;32mis\u001b[0m \u001b[1;32mnot\u001b[0m \u001b[1;32mNone\u001b[0m\u001b[1;33m:\u001b[0m\u001b[1;33m\u001b[0m\u001b[0m\n\u001b[0;32m    357\u001b[0m         \u001b[0mcolorbar\u001b[0m \u001b[1;33m=\u001b[0m \u001b[0max\u001b[0m\u001b[1;33m.\u001b[0m\u001b[0mfigure\u001b[0m\u001b[1;33m.\u001b[0m\u001b[0mcolorbar\u001b[0m\u001b[1;33m(\u001b[0m\u001b[0mcolormesh\u001b[0m\u001b[1;33m,\u001b[0m \u001b[0max\u001b[0m\u001b[1;33m=\u001b[0m\u001b[0max\u001b[0m\u001b[1;33m,\u001b[0m \u001b[0mcax\u001b[0m\u001b[1;33m=\u001b[0m\u001b[0mcolorbar\u001b[0m\u001b[1;33m.\u001b[0m\u001b[0max\u001b[0m\u001b[1;33m)\u001b[0m\u001b[1;33m\u001b[0m\u001b[0m\n",
      "\u001b[1;32mc:\\users\\wihpniel\\appdata\\local\\continuum\\anaconda3\\envs\\qcodesdevel\\lib\\site-packages\\matplotlib\\__init__.py\u001b[0m in \u001b[0;36minner\u001b[1;34m(ax, data, *args, **kwargs)\u001b[0m\n\u001b[0;32m   1783\u001b[0m                         \u001b[1;34m\"the Matplotlib list!)\"\u001b[0m \u001b[1;33m%\u001b[0m \u001b[1;33m(\u001b[0m\u001b[0mlabel_namer\u001b[0m\u001b[1;33m,\u001b[0m \u001b[0mfunc\u001b[0m\u001b[1;33m.\u001b[0m\u001b[0m__name__\u001b[0m\u001b[1;33m)\u001b[0m\u001b[1;33m,\u001b[0m\u001b[1;33m\u001b[0m\u001b[0m\n\u001b[0;32m   1784\u001b[0m                         RuntimeWarning, stacklevel=2)\n\u001b[1;32m-> 1785\u001b[1;33m             \u001b[1;32mreturn\u001b[0m \u001b[0mfunc\u001b[0m\u001b[1;33m(\u001b[0m\u001b[0max\u001b[0m\u001b[1;33m,\u001b[0m \u001b[1;33m*\u001b[0m\u001b[0margs\u001b[0m\u001b[1;33m,\u001b[0m \u001b[1;33m**\u001b[0m\u001b[0mkwargs\u001b[0m\u001b[1;33m)\u001b[0m\u001b[1;33m\u001b[0m\u001b[0m\n\u001b[0m\u001b[0;32m   1786\u001b[0m \u001b[1;33m\u001b[0m\u001b[0m\n\u001b[0;32m   1787\u001b[0m         inner.__doc__ = _add_data_doc(inner.__doc__,\n",
      "\u001b[1;32mc:\\users\\wihpniel\\appdata\\local\\continuum\\anaconda3\\envs\\qcodesdevel\\lib\\site-packages\\matplotlib\\axes\\_axes.py\u001b[0m in \u001b[0;36mpcolormesh\u001b[1;34m(self, alpha, norm, cmap, vmin, vmax, shading, antialiased, *args, **kwargs)\u001b[0m\n\u001b[0;32m   5958\u001b[0m         \u001b[0mallmatch\u001b[0m \u001b[1;33m=\u001b[0m \u001b[1;33m(\u001b[0m\u001b[0mshading\u001b[0m \u001b[1;33m==\u001b[0m \u001b[1;34m'gouraud'\u001b[0m\u001b[1;33m)\u001b[0m\u001b[1;33m\u001b[0m\u001b[0m\n\u001b[0;32m   5959\u001b[0m \u001b[1;33m\u001b[0m\u001b[0m\n\u001b[1;32m-> 5960\u001b[1;33m         \u001b[0mX\u001b[0m\u001b[1;33m,\u001b[0m \u001b[0mY\u001b[0m\u001b[1;33m,\u001b[0m \u001b[0mC\u001b[0m \u001b[1;33m=\u001b[0m \u001b[0mself\u001b[0m\u001b[1;33m.\u001b[0m\u001b[0m_pcolorargs\u001b[0m\u001b[1;33m(\u001b[0m\u001b[1;34m'pcolormesh'\u001b[0m\u001b[1;33m,\u001b[0m \u001b[1;33m*\u001b[0m\u001b[0margs\u001b[0m\u001b[1;33m,\u001b[0m \u001b[0mallmatch\u001b[0m\u001b[1;33m=\u001b[0m\u001b[0mallmatch\u001b[0m\u001b[1;33m)\u001b[0m\u001b[1;33m\u001b[0m\u001b[0m\n\u001b[0m\u001b[0;32m   5961\u001b[0m         \u001b[0mNy\u001b[0m\u001b[1;33m,\u001b[0m \u001b[0mNx\u001b[0m \u001b[1;33m=\u001b[0m \u001b[0mX\u001b[0m\u001b[1;33m.\u001b[0m\u001b[0mshape\u001b[0m\u001b[1;33m\u001b[0m\u001b[0m\n\u001b[0;32m   5962\u001b[0m         \u001b[0mX\u001b[0m \u001b[1;33m=\u001b[0m \u001b[0mX\u001b[0m\u001b[1;33m.\u001b[0m\u001b[0mravel\u001b[0m\u001b[1;33m(\u001b[0m\u001b[1;33m)\u001b[0m\u001b[1;33m\u001b[0m\u001b[0m\n",
      "\u001b[1;32mc:\\users\\wihpniel\\appdata\\local\\continuum\\anaconda3\\envs\\qcodesdevel\\lib\\site-packages\\matplotlib\\axes\\_axes.py\u001b[0m in \u001b[0;36m_pcolorargs\u001b[1;34m(funcname, allmatch, *args)\u001b[0m\n\u001b[0;32m   5551\u001b[0m                 raise TypeError('Dimensions of C %s are incompatible with'\n\u001b[0;32m   5552\u001b[0m                                 ' X (%d) and/or Y (%d); see help(%s)' % (\n\u001b[1;32m-> 5553\u001b[1;33m                                     C.shape, Nx, Ny, funcname))\n\u001b[0m\u001b[0;32m   5554\u001b[0m             \u001b[0mC\u001b[0m \u001b[1;33m=\u001b[0m \u001b[0mC\u001b[0m\u001b[1;33m[\u001b[0m\u001b[1;33m:\u001b[0m\u001b[0mNy\u001b[0m \u001b[1;33m-\u001b[0m \u001b[1;36m1\u001b[0m\u001b[1;33m,\u001b[0m \u001b[1;33m:\u001b[0m\u001b[0mNx\u001b[0m \u001b[1;33m-\u001b[0m \u001b[1;36m1\u001b[0m\u001b[1;33m]\u001b[0m\u001b[1;33m\u001b[0m\u001b[0m\n\u001b[0;32m   5555\u001b[0m         \u001b[0mC\u001b[0m \u001b[1;33m=\u001b[0m \u001b[0mcbook\u001b[0m\u001b[1;33m.\u001b[0m\u001b[0msafe_masked_invalid\u001b[0m\u001b[1;33m(\u001b[0m\u001b[0mC\u001b[0m\u001b[1;33m)\u001b[0m\u001b[1;33m\u001b[0m\u001b[0m\n",
      "\u001b[1;31mTypeError\u001b[0m: Dimensions of C (75, 4) are incompatible with X (1200) and/or Y (76); see help(pcolormesh)"
     ]
    },
    {
     "data": {
      "image/png": "[encoded data removed]",
      "text/plain": [
       "<Figure size 432x288 with 1 Axes>"
      ]
     },
     "metadata": {},
     "output_type": "display_data"
    }
   ],
   "source": [
    "plot_by_id(run_id)"
   ]
  },
  {
   "cell_type": "code",
   "execution_count": null,
   "metadata": {},
   "outputs": [],
   "source": []
  }
 ],
 "metadata": {
  "kernelspec": {
   "display_name": "Python 3",
   "language": "python",
   "name": "python3"
  },
  "language_info": {
   "codemirror_mode": {
    "name": "ipython",
    "version": 3
   },
   "file_extension": ".py",
   "mimetype": "text/x-python",
   "name": "python",
   "nbconvert_exporter": "python",
   "pygments_lexer": "ipython3",
   "version": "3.6.5"
  }
 },
 "nbformat": 4,
 "nbformat_minor": 2
}
