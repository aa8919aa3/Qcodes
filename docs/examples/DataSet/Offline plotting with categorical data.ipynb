{
 "cells": [
  {
   "cell_type": "markdown",
   "metadata": {},
   "source": [
    "# Offline plotting with categorical data\n",
    "\n",
    "This notebook is a collection of plotting examples using `plot_by_id` and caterogical (string-valued) data. The notebook should cover all possible permutations of categorical versus numerical data."
   ]
  },
  {
   "cell_type": "code",
   "execution_count": 1,
   "metadata": {},
   "outputs": [],
   "source": [
    "import numpy as np\n",
    "\n",
    "from qcodes import Parameter\n",
    "from qcodes.dataset.plotting import plot_by_id, get_data_by_id\n",
    "from qcodes.dataset.measurements import Measurement"
   ]
  },
  {
   "cell_type": "markdown",
   "metadata": {},
   "source": [
    "## 1D plotting"
   ]
  },
  {
   "cell_type": "markdown",
   "metadata": {},
   "source": [
    "### Category is the independent parameter\n",
    "\n",
    "An example with made-up sciency words and random values.\n",
    "\n",
    "With the category as the independent parameter, `plot_by_id` will default to a bar plot as long as there is\n",
    "at most one value per category. If more than one value is found for any category a bar plot i snot possible, and `plot_by_id` falls back to a scatter plot."
   ]
  },
  {
   "cell_type": "code",
   "execution_count": 36,
   "metadata": {},
   "outputs": [
    {
     "name": "stdout",
     "output_type": "stream",
     "text": [
      "Starting experimental run with id: 276\n"
     ]
    }
   ],
   "source": [
    "voltage = Parameter('voltage',\n",
    "                    label='Voltage',\n",
    "                    unit='V',\n",
    "                    set_cmd=None,\n",
    "                    get_cmd=None)\n",
    "fridge_config = Parameter('config',\n",
    "                          label='Fridge configuration',\n",
    "                          set_cmd=None,\n",
    "                          get_cmd=None)\n",
    "\n",
    "meas = Measurement()\n",
    "meas.register_parameter(fridge_config, paramtype='text')\n",
    "meas.register_parameter(voltage, setpoints=(fridge_config,))\n",
    "\n",
    "with meas.run() as datasaver:\n",
    "\n",
    "    configurations = ['open', 'outer chamber closed',\n",
    "                      'pumping', 'closed']\n",
    "    \n",
    "    for configuration in configurations:\n",
    "        datasaver.add_result((fridge_config, configuration),\n",
    "                             (voltage, np.random.rand()))\n",
    "\n",
    "\n",
    "run_id = datasaver.run_id"
   ]
  },
  {
   "cell_type": "code",
   "execution_count": 37,
   "metadata": {},
   "outputs": [
    {
     "data": {
      "image/png": "[encoded data removed]",
      "text/plain": [
       "<Figure size 432x288 with 1 Axes>"
      ]
     },
     "metadata": {},
     "output_type": "display_data"
    }
   ],
   "source": [
    "_ = plot_by_id(run_id)"
   ]
  },
  {
   "cell_type": "code",
   "execution_count": 38,
   "metadata": {},
   "outputs": [
    {
     "name": "stdout",
     "output_type": "stream",
     "text": [
      "Starting experimental run with id: 277\n"
     ]
    },
    {
     "data": {
      "image/png": "[encoded data removed]",
      "text/plain": [
       "<Figure size 432x288 with 1 Axes>"
      ]
     },
     "metadata": {},
     "output_type": "display_data"
    }
   ],
   "source": [
    "with meas.run() as datasaver:\n",
    "\n",
    "    configurations = ['open', 'outer chamber closed',\n",
    "                      'pumping', 'closed']\n",
    "    \n",
    "    for configuration in configurations:\n",
    "        datasaver.add_result((fridge_config, configuration),\n",
    "                             (voltage, np.random.rand()))\n",
    "\n",
    "\n",
    "    datasaver.add_result((fridge_config, 'open'),\n",
    "                         (voltage, np.random.rand()))\n",
    "        \n",
    "run_id = datasaver.run_id  \n",
    "\n",
    "_ = plot_by_id(run_id)"
   ]
  },
  {
   "cell_type": "markdown",
   "metadata": {},
   "source": [
    "### Category is the dependent parameter\n",
    "\n",
    "With the categories as the dependent variable, i.e. the _outcome_ of a measurement, `plot_by_id` defaults to a scatter plot.\n",
    "\n",
    "Here an example with made-up sciency words and random values.\n",
    "\n",
    "**UNRESOLVED**: How do we ensure the y-axis order?\n"
   ]
  },
  {
   "cell_type": "code",
   "execution_count": 43,
   "metadata": {},
   "outputs": [
    {
     "name": "stdout",
     "output_type": "stream",
     "text": [
      "Starting experimental run with id: 280\n"
     ]
    }
   ],
   "source": [
    "voltage = Parameter('voltage',\n",
    "                    label='Voltage',\n",
    "                    unit='V',\n",
    "                    set_cmd=None,\n",
    "                    get_cmd=None)\n",
    "response = Parameter('response',\n",
    "                     label='Sample response',\n",
    "                     set_cmd=None,\n",
    "                     get_cmd=None)\n",
    "\n",
    "meas = Measurement()\n",
    "meas.register_parameter(voltage)\n",
    "meas.register_parameter(response, paramtype='text', setpoints=(voltage,))\n",
    "\n",
    "\n",
    "with meas.run() as datasaver:\n",
    "\n",
    "    for volt in np.linspace(0, 1, 50):\n",
    "        coinvalue = volt + 0.5*np.random.randn()\n",
    "        if coinvalue < 0:\n",
    "            resp = 'Bad'\n",
    "        elif coinvalue < 0.8:\n",
    "            resp = 'Good'\n",
    "        else:\n",
    "            resp = 'Excellent'\n",
    "            \n",
    "        datasaver.add_result((voltage, volt),\n",
    "                             (response, resp))\n",
    "            \n",
    "run_id = datasaver.run_id"
   ]
  },
  {
   "cell_type": "code",
   "execution_count": 44,
   "metadata": {},
   "outputs": [
    {
     "data": {
      "text/plain": [
       "([<matplotlib.axes._subplots.AxesSubplot at 0x25fc9b667b8>], [None])"
      ]
     },
     "execution_count": 44,
     "metadata": {},
     "output_type": "execute_result"
    },
    {
     "data": {
      "image/png": "[encoded data removed]",
      "text/plain": [
       "<Figure size 432x288 with 1 Axes>"
      ]
     },
     "metadata": {},
     "output_type": "display_data"
    }
   ],
   "source": [
    "_ = plot_by_id(run_id)"
   ]
  },
  {
   "cell_type": "markdown",
   "metadata": {},
   "source": [
    "## Both variables are categorical\n",
    "\n",
    "For both variables being categorical, `plot_by_id` defaults to a scatter plot.\n",
    "\n",
    "This case would typically be some summary of a large number of measurements."
   ]
  },
  {
   "cell_type": "code",
   "execution_count": 45,
   "metadata": {},
   "outputs": [
    {
     "name": "stdout",
     "output_type": "stream",
     "text": [
      "Starting experimental run with id: 281\n"
     ]
    }
   ],
   "source": [
    "sample = Parameter('sample',\n",
    "                    label='Sample',\n",
    "                    unit='',\n",
    "                    set_cmd=None,\n",
    "                    get_cmd=None)\n",
    "feature = Parameter('feature',\n",
    "                     label='Physical feature',\n",
    "                     set_cmd=None,\n",
    "                     get_cmd=None)\n",
    "\n",
    "meas = Measurement()\n",
    "meas.register_parameter(sample, paramtype='text')\n",
    "meas.register_parameter(feature, paramtype='text', setpoints=(sample,))\n",
    "\n",
    "\n",
    "with meas.run() as datasaver:\n",
    "\n",
    "    features = ['superconducting', 'qubit',\n",
    "                'clean states', 'high bandwidth']\n",
    "    \n",
    "    for samp in ['Nanowire', 'Silicon Chip', 'SQUID', 'Membrane']:\n",
    "\n",
    "        feats = np.random.randint(1, 5)\n",
    "        for _ in range(feats):\n",
    "\n",
    "            datasaver.add_result((sample, samp),\n",
    "                                 (feature, features[np.random.randint(0, 4)]))\n",
    "    \n",
    "run_id = datasaver.run_id"
   ]
  },
  {
   "cell_type": "code",
   "execution_count": 46,
   "metadata": {},
   "outputs": [
    {
     "data": {
      "image/png": "[encoded data removed]",
      "text/plain": [
       "<Figure size 432x288 with 1 Axes>"
      ]
     },
     "metadata": {},
     "output_type": "display_data"
    }
   ],
   "source": [
    "_ = plot_by_id(run_id)"
   ]
  },
  {
   "cell_type": "code",
   "execution_count": null,
   "metadata": {},
   "outputs": [],
   "source": []
  }
 ],
 "metadata": {
  "kernelspec": {
   "display_name": "Python 3",
   "language": "python",
   "name": "python3"
  },
  "language_info": {
   "codemirror_mode": {
    "name": "ipython",
    "version": 3
   },
   "file_extension": ".py",
   "mimetype": "text/x-python",
   "name": "python",
   "nbconvert_exporter": "python",
   "pygments_lexer": "ipython3",
   "version": "3.6.5"
  }
 },
 "nbformat": 4,
 "nbformat_minor": 2
}
