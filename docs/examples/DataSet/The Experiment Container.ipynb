{
 "cells": [
  {
   "cell_type": "markdown",
   "metadata": {},
   "source": [
    "# The Experiment Container\n",
    "\n",
    "This notebook explains how the database works as an experiment container."
   ]
  },
  {
   "cell_type": "code",
   "execution_count": 1,
   "metadata": {},
   "outputs": [],
   "source": [
    "import qcodes as qc"
   ]
  },
  {
   "cell_type": "markdown",
   "metadata": {
    "collapsed": true
   },
   "source": [
    "## The database\n",
    "\n",
    "Already at import time, the database on file is selected via the QCoDeS configuration file. There is thus always only one database selected as the \"active\" one.\n"
   ]
  },
  {
   "cell_type": "code",
   "execution_count": 2,
   "metadata": {},
   "outputs": [
    {
     "name": "stdout",
     "output_type": "stream",
     "text": [
      "./experiments.db\n"
     ]
    }
   ],
   "source": [
    "# To inspect it, use\n",
    "configuration = qc.config\n",
    "print(configuration['core']['db_location'])"
   ]
  },
  {
   "cell_type": "markdown",
   "metadata": {},
   "source": [
    "Note that the default setting for the database location is a relative path. That is a sane default setting, but not always what you want. If you execute scripts from many different folders on your machine, you should change the default location to an absolute path pointing to your data folder, or you will end up with multiple databases."
   ]
  },
  {
   "cell_type": "code",
   "execution_count": 3,
   "metadata": {},
   "outputs": [],
   "source": [
    "# Changing the settings can done like so:\n",
    "\n",
    "configuration['core']['db_location'] = '~/my/particular/absolute/path/database.db'\n",
    "configuration.save_to_home()  # this saves to the configuration file on disk"
   ]
  },
  {
   "cell_type": "markdown",
   "metadata": {},
   "source": [
    "You can try restarting the kernel and verify that the changes took effect. For the sake of pedagogical clarity, we now create a new empty default database."
   ]
  },
  {
   "cell_type": "code",
   "execution_count": 4,
   "metadata": {},
   "outputs": [],
   "source": [
    "configuration['core']['db_location'] = './exp_container_tutorial.db'\n",
    "configuration.save_to_home()\n",
    "# ...restart the kernel... and verify:"
   ]
  },
  {
   "cell_type": "markdown",
   "metadata": {},
   "source": [
    "      **kernel was restarted**"
   ]
  },
  {
   "cell_type": "code",
   "execution_count": 1,
   "metadata": {},
   "outputs": [
    {
     "name": "stdout",
     "output_type": "stream",
     "text": [
      "./exp_container_tutorial.db\n"
     ]
    }
   ],
   "source": [
    "import qcodes as qc\n",
    "configuration = qc.config\n",
    "print(configuration['core']['db_location'])"
   ]
  },
  {
   "cell_type": "markdown",
   "metadata": {},
   "source": [
    "## The experiments inside the database"
   ]
  },
  {
   "cell_type": "markdown",
   "metadata": {},
   "source": [
    "The database holds a certain number of **experiments**. They may be viewed:"
   ]
  },
  {
   "cell_type": "code",
   "execution_count": 2,
   "metadata": {},
   "outputs": [
    {
     "data": {
      "text/plain": [
       "[]"
      ]
     },
     "execution_count": 2,
     "metadata": {},
     "output_type": "execute_result"
    }
   ],
   "source": [
    "qc.dataset.experiment_container.experiments()"
   ]
  },
  {
   "cell_type": "markdown",
   "metadata": {},
   "source": [
    "Not surprisingly, our new database is empty. Let us add some experiments."
   ]
  },
  {
   "cell_type": "code",
   "execution_count": 3,
   "metadata": {},
   "outputs": [
    {
     "data": {
      "text/plain": [
       "second_exp#brand_new_sample#3@./exp_container_tutorial.db\n",
       "---------------------------------------------------------"
      ]
     },
     "execution_count": 3,
     "metadata": {},
     "output_type": "execute_result"
    }
   ],
   "source": [
    "qc.dataset.experiment_container.new_experiment('first_exp', sample_name='old_sample')\n",
    "qc.dataset.experiment_container.new_experiment('second_exp', sample_name='slightly_newer_sample')\n",
    "qc.dataset.experiment_container.new_experiment('second_exp', sample_name='brand_new_sample')"
   ]
  },
  {
   "cell_type": "code",
   "execution_count": 4,
   "metadata": {},
   "outputs": [
    {
     "data": {
      "text/plain": [
       "[first_exp#old_sample#1@./exp_container_tutorial.db\n",
       " --------------------------------------------------,\n",
       " second_exp#slightly_newer_sample#2@./exp_container_tutorial.db\n",
       " --------------------------------------------------------------,\n",
       " second_exp#brand_new_sample#3@./exp_container_tutorial.db\n",
       " ---------------------------------------------------------]"
      ]
     },
     "execution_count": 4,
     "metadata": {},
     "output_type": "execute_result"
    }
   ],
   "source": [
    "qc.dataset.experiment_container.experiments()"
   ]
  },
  {
   "cell_type": "markdown",
   "metadata": {},
   "source": [
    "We notice that each experiment is labelled by an integer. This is the **exp_id** that can be used when looking up properties of each experiment.\n",
    "\n",
    "Let us add some runs to experiment 2 (\"second_exp\"). In this tutorial, we don't bother to actually add data to the runs."
   ]
  },
  {
   "cell_type": "code",
   "execution_count": 5,
   "metadata": {},
   "outputs": [
    {
     "data": {
      "text/plain": [
       "a_good_run #1@./exp_container_tutorial.db\n",
       "-----------------------------------------"
      ]
     },
     "execution_count": 5,
     "metadata": {},
     "output_type": "execute_result"
    }
   ],
   "source": [
    "qc.dataset.data_set.new_data_set('a_good_run', exp_id=2)"
   ]
  },
  {
   "cell_type": "code",
   "execution_count": 6,
   "metadata": {},
   "outputs": [
    {
     "data": {
      "text/plain": [
       "a_nother_run #2@./exp_container_tutorial.db\n",
       "-------------------------------------------"
      ]
     },
     "execution_count": 6,
     "metadata": {},
     "output_type": "execute_result"
    }
   ],
   "source": [
    "qc.dataset.data_set.new_data_set('a_nother_run', exp_id=2)"
   ]
  },
  {
   "cell_type": "markdown",
   "metadata": {},
   "source": [
    "We may now inspect experiment 2."
   ]
  },
  {
   "cell_type": "code",
   "execution_count": 7,
   "metadata": {},
   "outputs": [],
   "source": [
    "exp_2 = qc.dataset.experiment_container.load_experiment(2)"
   ]
  },
  {
   "cell_type": "code",
   "execution_count": 8,
   "metadata": {},
   "outputs": [
    {
     "name": "stdout",
     "output_type": "stream",
     "text": [
      "second_exp#slightly_newer_sample#2@./exp_container_tutorial.db\n",
      "--------------------------------------------------------------\n",
      "1-a_good_run-1-None-0\n",
      "2-a_nother_run-2-None-0\n"
     ]
    }
   ],
   "source": [
    "# Printing the experiment will reveal the runs\n",
    "\n",
    "print(exp_2)"
   ]
  },
  {
   "cell_type": "markdown",
   "metadata": {},
   "source": [
    "In a similar way, we may of course add runs to the other two experiments. Now, the alert reader will have noticed that `exp_id` is a keyword argument in `new_data_set`. What is the default then? --The default is that the run is added to the experiment with the **highest** `exp_id` in the database."
   ]
  },
  {
   "cell_type": "code",
   "execution_count": null,
   "metadata": {},
   "outputs": [],
   "source": []
  }
 ],
 "metadata": {
  "kernelspec": {
   "display_name": "Python 3",
   "language": "python",
   "name": "python3"
  },
  "language_info": {
   "codemirror_mode": {
    "name": "ipython",
    "version": 3
   },
   "file_extension": ".py",
   "mimetype": "text/x-python",
   "name": "python",
   "nbconvert_exporter": "python",
   "pygments_lexer": "ipython3",
   "version": "3.6.0"
  }
 },
 "nbformat": 4,
 "nbformat_minor": 1
}
