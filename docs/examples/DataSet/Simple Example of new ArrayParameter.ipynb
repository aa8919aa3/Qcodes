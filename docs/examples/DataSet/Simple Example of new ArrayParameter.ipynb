{
 "cells": [
  {
   "cell_type": "markdown",
   "metadata": {},
   "source": [
    "# Simple Example of ParameterWithSetpoints\n",
    "This notebook has an example of a new simpler ArrayParameter replacement\n"
   ]
  },
  {
   "cell_type": "code",
   "execution_count": 1,
   "metadata": {},
   "outputs": [],
   "source": [
    "import numpy as np"
   ]
  },
  {
   "cell_type": "code",
   "execution_count": 2,
   "metadata": {},
   "outputs": [],
   "source": [
    "from qcodes.instrument.parameter import Parameter, _BaseParameter"
   ]
  },
  {
   "cell_type": "code",
   "execution_count": 3,
   "metadata": {},
   "outputs": [],
   "source": [
    "from typing import Optional, Union, Iterable, Callable\n",
    "Number = Union[float, int]\n",
    "from qcodes.utils.validators import Validator"
   ]
  },
  {
   "cell_type": "code",
   "execution_count": 4,
   "metadata": {},
   "outputs": [],
   "source": [
    "from qcodes.utils.validators import Numbers\n",
    "from qcodes.instrument.base import Instrument\n",
    "from qcodes.dataset.measurements import Measurement"
   ]
  },
  {
   "cell_type": "code",
   "execution_count": 5,
   "metadata": {},
   "outputs": [],
   "source": [
    "from qcodes.instrument.parameter import ParameterWithSetpoints, GeneratedSetPoints"
   ]
  },
  {
   "cell_type": "markdown",
   "metadata": {},
   "source": [
    "Here we define an dummy instrument that returns something like a frequency spectrum from `f_start` to `f_stop`\n",
    "in `n_points` steps. The functionality of the ArrayParameter is implemented only by having a reference to it's setpoints which is consumed by the dataset context manager. To do this we only have to define the parameter for the setpoints and the spectrum and let the parameter know that the frequency axis is the setpoints "
   ]
  },
  {
   "cell_type": "code",
   "execution_count": 6,
   "metadata": {},
   "outputs": [],
   "source": [
    "class DummyArray(ParameterWithSetpoints):\n",
    "    \n",
    "    def get_raw(self):\n",
    "        npoints = self.root_instrument.n_points()\n",
    "        return np.random.rand(npoints)\n",
    "    \n",
    "\n",
    "class DummySpectrumAnalyzer(Instrument):\n",
    "    \n",
    "    def __init__(self, name, **kwargs):\n",
    "        \n",
    "        super().__init__(name, **kwargs)\n",
    "            \n",
    "\n",
    "        self.add_parameter('f_start',\n",
    "                           initial_value=0,\n",
    "                           unit='Hz',\n",
    "                           label='f start',\n",
    "                           vals=Numbers(0,1e3),\n",
    "                           get_cmd=None,\n",
    "                           set_cmd=None)\n",
    "\n",
    "        self.add_parameter('f_stop',\n",
    "                           unit='Hz',\n",
    "                           label='f stop',\n",
    "                           vals=Numbers(1,1e3),\n",
    "                           get_cmd=None,\n",
    "                           set_cmd=None)\n",
    "\n",
    "        self.add_parameter('n_points',\n",
    "                           unit='',\n",
    "                           vals=Numbers(1,1e3),\n",
    "                           get_cmd=None,\n",
    "                           set_cmd=None)\n",
    "        \n",
    "        self.add_parameter('freq_axis',\n",
    "                           unit='Hz',\n",
    "                           label='Freq Axis',\n",
    "                           parameter_class=GeneratedSetPoints,\n",
    "                           startparam=self.f_start,\n",
    "                           stopparam=self.f_stop,\n",
    "                           numpointsparam=self.n_points)\n",
    "                           \n",
    "        self.add_parameter('spectrum',\n",
    "                   unit='dBm',\n",
    "                   setpoints=(self.freq_axis,),\n",
    "                   label='Spectrum',\n",
    "                   parameter_class=DummyArray)\n",
    "                "
   ]
  },
  {
   "cell_type": "code",
   "execution_count": 7,
   "metadata": {},
   "outputs": [],
   "source": [
    "a = DummySpectrumAnalyzer('foobar')"
   ]
  },
  {
   "cell_type": "markdown",
   "metadata": {},
   "source": [
    "First we setup the limits of the spectrum"
   ]
  },
  {
   "cell_type": "code",
   "execution_count": 8,
   "metadata": {},
   "outputs": [],
   "source": [
    "a.f_start(0)\n",
    "a.f_stop(500)\n",
    "a.n_points(501)"
   ]
  },
  {
   "cell_type": "markdown",
   "metadata": {},
   "source": [
    "And we can grab the axis"
   ]
  },
  {
   "cell_type": "code",
   "execution_count": 9,
   "metadata": {
    "scrolled": true
   },
   "outputs": [
    {
     "data": {
      "text/plain": [
       "array([  0.,   1.,   2.,   3.,   4.,   5.,   6.,   7.,   8.,   9.,  10.,\n",
       "        11.,  12.,  13.,  14.,  15.,  16.,  17.,  18.,  19.,  20.,  21.,\n",
       "        22.,  23.,  24.,  25.,  26.,  27.,  28.,  29.,  30.,  31.,  32.,\n",
       "        33.,  34.,  35.,  36.,  37.,  38.,  39.,  40.,  41.,  42.,  43.,\n",
       "        44.,  45.,  46.,  47.,  48.,  49.,  50.,  51.,  52.,  53.,  54.,\n",
       "        55.,  56.,  57.,  58.,  59.,  60.,  61.,  62.,  63.,  64.,  65.,\n",
       "        66.,  67.,  68.,  69.,  70.,  71.,  72.,  73.,  74.,  75.,  76.,\n",
       "        77.,  78.,  79.,  80.,  81.,  82.,  83.,  84.,  85.,  86.,  87.,\n",
       "        88.,  89.,  90.,  91.,  92.,  93.,  94.,  95.,  96.,  97.,  98.,\n",
       "        99., 100., 101., 102., 103., 104., 105., 106., 107., 108., 109.,\n",
       "       110., 111., 112., 113., 114., 115., 116., 117., 118., 119., 120.,\n",
       "       121., 122., 123., 124., 125., 126., 127., 128., 129., 130., 131.,\n",
       "       132., 133., 134., 135., 136., 137., 138., 139., 140., 141., 142.,\n",
       "       143., 144., 145., 146., 147., 148., 149., 150., 151., 152., 153.,\n",
       "       154., 155., 156., 157., 158., 159., 160., 161., 162., 163., 164.,\n",
       "       165., 166., 167., 168., 169., 170., 171., 172., 173., 174., 175.,\n",
       "       176., 177., 178., 179., 180., 181., 182., 183., 184., 185., 186.,\n",
       "       187., 188., 189., 190., 191., 192., 193., 194., 195., 196., 197.,\n",
       "       198., 199., 200., 201., 202., 203., 204., 205., 206., 207., 208.,\n",
       "       209., 210., 211., 212., 213., 214., 215., 216., 217., 218., 219.,\n",
       "       220., 221., 222., 223., 224., 225., 226., 227., 228., 229., 230.,\n",
       "       231., 232., 233., 234., 235., 236., 237., 238., 239., 240., 241.,\n",
       "       242., 243., 244., 245., 246., 247., 248., 249., 250., 251., 252.,\n",
       "       253., 254., 255., 256., 257., 258., 259., 260., 261., 262., 263.,\n",
       "       264., 265., 266., 267., 268., 269., 270., 271., 272., 273., 274.,\n",
       "       275., 276., 277., 278., 279., 280., 281., 282., 283., 284., 285.,\n",
       "       286., 287., 288., 289., 290., 291., 292., 293., 294., 295., 296.,\n",
       "       297., 298., 299., 300., 301., 302., 303., 304., 305., 306., 307.,\n",
       "       308., 309., 310., 311., 312., 313., 314., 315., 316., 317., 318.,\n",
       "       319., 320., 321., 322., 323., 324., 325., 326., 327., 328., 329.,\n",
       "       330., 331., 332., 333., 334., 335., 336., 337., 338., 339., 340.,\n",
       "       341., 342., 343., 344., 345., 346., 347., 348., 349., 350., 351.,\n",
       "       352., 353., 354., 355., 356., 357., 358., 359., 360., 361., 362.,\n",
       "       363., 364., 365., 366., 367., 368., 369., 370., 371., 372., 373.,\n",
       "       374., 375., 376., 377., 378., 379., 380., 381., 382., 383., 384.,\n",
       "       385., 386., 387., 388., 389., 390., 391., 392., 393., 394., 395.,\n",
       "       396., 397., 398., 399., 400., 401., 402., 403., 404., 405., 406.,\n",
       "       407., 408., 409., 410., 411., 412., 413., 414., 415., 416., 417.,\n",
       "       418., 419., 420., 421., 422., 423., 424., 425., 426., 427., 428.,\n",
       "       429., 430., 431., 432., 433., 434., 435., 436., 437., 438., 439.,\n",
       "       440., 441., 442., 443., 444., 445., 446., 447., 448., 449., 450.,\n",
       "       451., 452., 453., 454., 455., 456., 457., 458., 459., 460., 461.,\n",
       "       462., 463., 464., 465., 466., 467., 468., 469., 470., 471., 472.,\n",
       "       473., 474., 475., 476., 477., 478., 479., 480., 481., 482., 483.,\n",
       "       484., 485., 486., 487., 488., 489., 490., 491., 492., 493., 494.,\n",
       "       495., 496., 497., 498., 499., 500.])"
      ]
     },
     "execution_count": 9,
     "metadata": {},
     "output_type": "execute_result"
    }
   ],
   "source": [
    "a.freq_axis()"
   ]
  },
  {
   "cell_type": "markdown",
   "metadata": {},
   "source": [
    "Or the spectrum"
   ]
  },
  {
   "cell_type": "code",
   "execution_count": 10,
   "metadata": {
    "scrolled": true
   },
   "outputs": [
    {
     "data": {
      "text/plain": [
       "array([0.37372587, 0.54861787, 0.53155288, 0.82667582, 0.94220873,\n",
       "       0.0698023 , 0.89762473, 0.40402402, 0.94676787, 0.72479779,\n",
       "       0.90016702, 0.50196169, 0.67613499, 0.96529924, 0.15008748,\n",
       "       0.44617032, 0.77400385, 0.36104437, 0.6286802 , 0.69278277,\n",
       "       0.12981568, 0.70792455, 0.63326382, 0.79600711, 0.77696625,\n",
       "       0.60408452, 0.34930137, 0.33298155, 0.99237339, 0.72181006,\n",
       "       0.24177301, 0.38409252, 0.13977054, 0.46336893, 0.29702444,\n",
       "       0.32585009, 0.85559257, 0.506369  , 0.79234633, 0.91855242,\n",
       "       0.91216349, 0.82632103, 0.15051881, 0.38302095, 0.39616307,\n",
       "       0.32864887, 0.67891701, 0.01545452, 0.32810263, 0.84456954,\n",
       "       0.30411356, 0.83792683, 0.18423625, 0.76232546, 0.62204577,\n",
       "       0.28122632, 0.90895218, 0.47174043, 0.0835899 , 0.880365  ,\n",
       "       0.09111603, 0.50584601, 0.56714919, 0.57147067, 0.85644402,\n",
       "       0.22211664, 0.05509187, 0.95254653, 0.93371861, 0.97754025,\n",
       "       0.0207392 , 0.28635372, 0.63367136, 0.0663695 , 0.70019442,\n",
       "       0.40926177, 0.42111847, 0.85448678, 0.98820638, 0.94779916,\n",
       "       0.25279355, 0.38715305, 0.30811057, 0.8744069 , 0.50608295,\n",
       "       0.58995161, 0.58200316, 0.58201891, 0.93918669, 0.6899701 ,\n",
       "       0.95871603, 0.14629169, 0.80691971, 0.99692501, 0.17309138,\n",
       "       0.40671056, 0.87719149, 0.68771378, 0.08381251, 0.14822247,\n",
       "       0.69180229, 0.03358827, 0.30626825, 0.33936864, 0.88937098,\n",
       "       0.99683227, 0.7537689 , 0.35666654, 0.23870022, 0.80237453,\n",
       "       0.83317602, 0.56290746, 0.4612086 , 0.59187958, 0.35496415,\n",
       "       0.76680147, 0.72366515, 0.53806547, 0.73491729, 0.87097106,\n",
       "       0.22250074, 0.4319    , 0.25040755, 0.4204853 , 0.57152887,\n",
       "       0.67989035, 0.51488572, 0.12774031, 0.86615569, 0.78384103,\n",
       "       0.04802505, 0.65392064, 0.96986131, 0.47990375, 0.3774105 ,\n",
       "       0.06543123, 0.41360314, 0.1389294 , 0.23166719, 0.67111829,\n",
       "       0.59806864, 0.73826979, 0.4013829 , 0.63824427, 0.44717827,\n",
       "       0.15403842, 0.39021108, 0.10353845, 0.96664997, 0.41367465,\n",
       "       0.22059292, 0.17918976, 0.96500464, 0.51467301, 0.89966624,\n",
       "       0.93987921, 0.94166864, 0.64683108, 0.55641748, 0.9484579 ,\n",
       "       0.66408577, 0.37486359, 0.65857553, 0.00120706, 0.76021654,\n",
       "       0.95142316, 0.74106431, 0.3687487 , 0.81576676, 0.89905403,\n",
       "       0.60252817, 0.52068992, 0.99020434, 0.01758782, 0.26871668,\n",
       "       0.42934743, 0.74147531, 0.02036298, 0.90464033, 0.67078621,\n",
       "       0.55625392, 0.61639495, 0.68145904, 0.18213379, 0.03731415,\n",
       "       0.28217922, 0.82413099, 0.41451497, 0.06819495, 0.67933438,\n",
       "       0.48485664, 0.02562523, 0.99595955, 0.8278784 , 0.56357999,\n",
       "       0.45688242, 0.15482338, 0.88100967, 0.75521795, 0.66280644,\n",
       "       0.43293394, 0.70636499, 0.83458264, 0.16970696, 0.47818101,\n",
       "       0.08842654, 0.77442703, 0.56663918, 0.24441029, 0.55706783,\n",
       "       0.08530588, 0.48254471, 0.90653557, 0.86716833, 0.92738514,\n",
       "       0.29735555, 0.5957369 , 0.34662178, 0.14905592, 0.84934635,\n",
       "       0.37038126, 0.91797818, 0.10743678, 0.33358987, 0.61751291,\n",
       "       0.56708866, 0.96416561, 0.9008846 , 0.5365646 , 0.33294292,\n",
       "       0.7055552 , 0.22700866, 0.21832081, 0.37975166, 0.69098247,\n",
       "       0.10769966, 0.14557844, 0.14896331, 0.37194517, 0.45441072,\n",
       "       0.83939733, 0.99817352, 0.36444098, 0.043637  , 0.19484866,\n",
       "       0.39253182, 0.75448118, 0.35597998, 0.80725856, 0.95531812,\n",
       "       0.79183714, 0.36342638, 0.45123011, 0.92610209, 0.25520695,\n",
       "       0.85375401, 0.01310321, 0.48663791, 0.48385191, 0.8494894 ,\n",
       "       0.76816717, 0.72400051, 0.0430897 , 0.15606243, 0.53290784,\n",
       "       0.09257425, 0.75460404, 0.74206088, 0.61720626, 0.51084909,\n",
       "       0.58411453, 0.47311666, 0.53830169, 0.9681255 , 0.79663431,\n",
       "       0.57598398, 0.77865371, 0.65301602, 0.18408085, 0.80375723,\n",
       "       0.23633886, 0.58244941, 0.29898102, 0.02252307, 0.98082483,\n",
       "       0.23015448, 0.70841724, 0.05523285, 0.49451749, 0.35346533,\n",
       "       0.85056982, 0.33981886, 0.06833761, 0.79821593, 0.11604247,\n",
       "       0.8953603 , 0.46323585, 0.23137089, 0.44835628, 0.80901788,\n",
       "       0.42361957, 0.51037851, 0.23792164, 0.7941132 , 0.76321701,\n",
       "       0.11911182, 0.84181059, 0.60137409, 0.34603324, 0.22177182,\n",
       "       0.10613795, 0.89584437, 0.64215604, 0.2739601 , 0.76154826,\n",
       "       0.04708115, 0.81540537, 0.12827219, 0.01783416, 0.62473422,\n",
       "       0.6454418 , 0.35580161, 0.25226381, 0.15315039, 0.06409371,\n",
       "       0.82481876, 0.26274587, 0.77689317, 0.28502571, 0.11676692,\n",
       "       0.21020535, 0.58340203, 0.50298104, 0.66517868, 0.91702034,\n",
       "       0.41895255, 0.48976598, 0.71751388, 0.55612794, 0.79018665,\n",
       "       0.08031651, 0.93057851, 0.56953056, 0.04527181, 0.88304957,\n",
       "       0.70831083, 0.90265482, 0.94031171, 0.2569966 , 0.66892006,\n",
       "       0.66635678, 0.27309862, 0.03279321, 0.7976703 , 0.50451827,\n",
       "       0.75593387, 0.35091271, 0.76169186, 0.57906099, 0.98890751,\n",
       "       0.96141125, 0.25731111, 0.67022349, 0.30738175, 0.22752395,\n",
       "       0.88743371, 0.6975126 , 0.90094769, 0.55723621, 0.17498322,\n",
       "       0.23819869, 0.3564374 , 0.80282856, 0.30243351, 0.80448796,\n",
       "       0.48466329, 0.98000332, 0.02199852, 0.18488749, 0.54550893,\n",
       "       0.86812643, 0.83792429, 0.89461096, 0.88250996, 0.42808942,\n",
       "       0.59296736, 0.79860916, 0.30380101, 0.43271408, 0.15841563,\n",
       "       0.56869869, 0.04184787, 0.10550598, 0.60942529, 0.4265301 ,\n",
       "       0.57083876, 0.82435567, 0.59211889, 0.96031419, 0.67952074,\n",
       "       0.37334926, 0.3645627 , 0.00962004, 0.46270116, 0.24393275,\n",
       "       0.61877639, 0.72515794, 0.74112891, 0.78423151, 0.38865816,\n",
       "       0.52355693, 0.98749161, 0.0240849 , 0.55514309, 0.01958487,\n",
       "       0.849384  , 0.59643945, 0.72927759, 0.50640776, 0.47260815,\n",
       "       0.02341713, 0.18155492, 0.92489797, 0.25403256, 0.10852141,\n",
       "       0.64066968, 0.77210979, 0.11233653, 0.67487216, 0.66589406,\n",
       "       0.69246635, 0.81106247, 0.04426596, 0.72241094, 0.61934481,\n",
       "       0.67953836, 0.33271667, 0.70431201, 0.49538386, 0.70481405,\n",
       "       0.51488965, 0.35365375, 0.96189495, 0.08626799, 0.65469915,\n",
       "       0.75678647, 0.13191874, 0.68800181, 0.3976978 , 0.75082862,\n",
       "       0.9238525 , 0.19926841, 0.52864871, 0.84631558, 0.08041432,\n",
       "       0.61617623, 0.47972956, 0.41253579, 0.89873016, 0.49668532,\n",
       "       0.28110437, 0.71319872, 0.38127862, 0.2969393 , 0.6869966 ,\n",
       "       0.93906833, 0.05512929, 0.46130136, 0.31505291, 0.57178749,\n",
       "       0.77410248, 0.43127678, 0.46184098, 0.30312938, 0.93041753,\n",
       "       0.51114825, 0.79740875, 0.76236662, 0.46370778, 0.98322976,\n",
       "       0.03513679, 0.3587125 , 0.13594183, 0.59490432, 0.77843549,\n",
       "       0.69222248, 0.89102323, 0.69021418, 0.81951953, 0.13221865,\n",
       "       0.86460461, 0.83135051, 0.15770558, 0.18465204, 0.17177554,\n",
       "       0.61530353, 0.64739044, 0.40496839, 0.49301272, 0.86611209,\n",
       "       0.86025078])"
      ]
     },
     "execution_count": 10,
     "metadata": {},
     "output_type": "execute_result"
    }
   ],
   "source": [
    "a.spectrum.get()"
   ]
  },
  {
   "cell_type": "markdown",
   "metadata": {},
   "source": [
    "We can also directly consume the parameter in a measurement"
   ]
  },
  {
   "cell_type": "code",
   "execution_count": 11,
   "metadata": {},
   "outputs": [
    {
     "name": "stdout",
     "output_type": "stream",
     "text": [
      "Starting experimental run with id: 952\n"
     ]
    }
   ],
   "source": [
    "meas = Measurement()\n",
    "meas.register_parameter(a.spectrum)  # register the first independent parameter\n",
    "\n",
    "with meas.run() as datasaver:\n",
    "    datasaver.add_result((a.spectrum, a.spectrum.get(),))\n",
    "    \n",
    "    dataid = datasaver.run_id  # convenient to have for plotting"
   ]
  },
  {
   "cell_type": "code",
   "execution_count": 12,
   "metadata": {},
   "outputs": [],
   "source": [
    "from qcodes.dataset.plotting import plot_by_id"
   ]
  },
  {
   "cell_type": "markdown",
   "metadata": {},
   "source": [
    "And plot it"
   ]
  },
  {
   "cell_type": "code",
   "execution_count": 13,
   "metadata": {},
   "outputs": [
    {
     "data": {
      "text/plain": [
       "([<matplotlib.axes._subplots.AxesSubplot at 0x1d6f0446c18>], [None])"
      ]
     },
     "execution_count": 13,
     "metadata": {},
     "output_type": "execute_result"
    },
    {
     "data": {
      "image/png": "[encoded data removed]",
      "text/plain": [
       "<Figure size 432x288 with 1 Axes>"
      ]
     },
     "metadata": {
      "needs_background": "light"
     },
     "output_type": "display_data"
    }
   ],
   "source": [
    "plot_by_id(dataid)"
   ]
  },
  {
   "cell_type": "code",
   "execution_count": null,
   "metadata": {},
   "outputs": [],
   "source": []
  }
 ],
 "metadata": {
  "kernelspec": {
   "display_name": "Python 3",
   "language": "python",
   "name": "python3"
  },
  "language_info": {
   "codemirror_mode": {
    "name": "ipython",
    "version": 3
   },
   "file_extension": ".py",
   "mimetype": "text/x-python",
   "name": "python",
   "nbconvert_exporter": "python",
   "pygments_lexer": "ipython3",
   "version": "3.6.6"
  },
  "toc": {
   "base_numbering": 1,
   "nav_menu": {},
   "number_sections": true,
   "sideBar": true,
   "skip_h1_title": false,
   "title_cell": "Table of Contents",
   "title_sidebar": "Contents",
   "toc_cell": false,
   "toc_position": {},
   "toc_section_display": true,
   "toc_window_display": false
  },
  "varInspector": {
   "cols": {
    "lenName": 16,
    "lenType": 16,
    "lenVar": 40
   },
   "kernels_config": {
    "python": {
     "delete_cmd_postfix": "",
     "delete_cmd_prefix": "del ",
     "library": "var_list.py",
     "varRefreshCmd": "print(var_dic_list())"
    },
    "r": {
     "delete_cmd_postfix": ") ",
     "delete_cmd_prefix": "rm(",
     "library": "var_list.r",
     "varRefreshCmd": "cat(var_dic_list()) "
    }
   },
   "types_to_exclude": [
    "module",
    "function",
    "builtin_function_or_method",
    "instance",
    "_Feature"
   ],
   "window_display": false
  }
 },
 "nbformat": 4,
 "nbformat_minor": 2
}
