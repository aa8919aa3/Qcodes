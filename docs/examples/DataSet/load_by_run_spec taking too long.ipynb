{
 "cells": [
  {
   "cell_type": "markdown",
   "metadata": {},
   "source": [
    "# Benchmark load_by_run_spec\n",
    "\n",
    "The time required to load a dataset using `load_by_run_spec`when compared to the time taken by `load_by_ guid` or `load_by_id` is two orders of magnitude higher for a large database, in this case 10 gb. \n",
    "\n",
    "Once the databased is \"vacuum\"ed, the time to retrieve dataset decreases by 4 times. However, it takes around 10min to vacuum a database each time you do it. This is irrespective of the fact if you just vacuumed your db. \n",
    "\n",
    "The time to load dataset using `load_by_run_spec` comes at par with other methods once the proper indexing is done. Also, the total time to upgrade the database is just around 10 sec.  \n",
    "\n",
    "It was not possible to lower the search time from 300ms because, as Jens have mentioned below, the connection to db is significantly slower for larger db. In this case connection time is around 250 ms. Time for actual search is hence only few ms. "
   ]
  },
  {
   "cell_type": "code",
   "execution_count": 1,
   "metadata": {},
   "outputs": [
    {
     "name": "stdout",
     "output_type": "stream",
     "text": [
      "Logging hadn't been started.\n",
      "Activating auto-logging. Current session state plus future input saved.\n",
      "Filename       : C:\\Users\\a-halakh\\.qcodes\\logs\\command_history.log\n",
      "Mode           : append\n",
      "Output logging : True\n",
      "Raw input log  : False\n",
      "Timestamping   : True\n",
      "State          : active\n",
      "Qcodes Logfile : C:\\Users\\a-halakh\\.qcodes\\logs\\200204-10220-qcodes.log\n"
     ]
    }
   ],
   "source": [
    "from qcodes import initialise_or_create_database_at, load_by_id, load_by_guid, load_by_run_spec"
   ]
  },
  {
   "cell_type": "code",
   "execution_count": 2,
   "metadata": {},
   "outputs": [],
   "source": [
    "initialise_or_create_database_at(r\"C:\\Users\\a-halakh\\qt5-experiments-2019-08-29.db\")"
   ]
  },
  {
   "cell_type": "code",
   "execution_count": 3,
   "metadata": {},
   "outputs": [
    {
     "data": {
      "text/plain": [
       "array([1.000e+00, 1.020e+02, 2.030e+02, 3.040e+02, 4.050e+02, 5.060e+02,\n",
       "       6.070e+02, 7.080e+02, 8.090e+02, 9.100e+02, 1.011e+03, 1.112e+03,\n",
       "       1.213e+03, 1.314e+03, 1.415e+03, 1.516e+03, 1.617e+03, 1.718e+03,\n",
       "       1.819e+03, 1.920e+03, 2.021e+03, 2.122e+03, 2.223e+03, 2.324e+03,\n",
       "       2.425e+03, 2.526e+03, 2.627e+03, 2.728e+03, 2.829e+03, 2.930e+03,\n",
       "       3.031e+03, 3.132e+03, 3.233e+03, 3.334e+03, 3.435e+03, 3.536e+03,\n",
       "       3.637e+03, 3.738e+03, 3.839e+03, 3.940e+03, 4.041e+03, 4.142e+03,\n",
       "       4.243e+03, 4.344e+03, 4.445e+03, 4.546e+03, 4.647e+03, 4.748e+03,\n",
       "       4.849e+03, 4.950e+03, 5.051e+03, 5.152e+03, 5.253e+03, 5.354e+03,\n",
       "       5.455e+03, 5.556e+03, 5.657e+03, 5.758e+03, 5.859e+03, 5.960e+03,\n",
       "       6.061e+03, 6.162e+03, 6.263e+03, 6.364e+03, 6.465e+03, 6.566e+03,\n",
       "       6.667e+03, 6.768e+03, 6.869e+03, 6.970e+03, 7.071e+03, 7.172e+03,\n",
       "       7.273e+03, 7.374e+03, 7.475e+03, 7.576e+03, 7.677e+03, 7.778e+03,\n",
       "       7.879e+03, 7.980e+03, 8.081e+03, 8.182e+03, 8.283e+03, 8.384e+03,\n",
       "       8.485e+03, 8.586e+03, 8.687e+03, 8.788e+03, 8.889e+03, 8.990e+03,\n",
       "       9.091e+03, 9.192e+03, 9.293e+03, 9.394e+03, 9.495e+03, 9.596e+03,\n",
       "       9.697e+03, 9.798e+03, 9.899e+03, 1.000e+04])"
      ]
     },
     "execution_count": 3,
     "metadata": {},
     "output_type": "execute_result"
    }
   ],
   "source": [
    "import numpy as np\n",
    "np.linspace(1,10000,100)"
   ]
  },
  {
   "cell_type": "code",
   "execution_count": 69,
   "metadata": {},
   "outputs": [
    {
     "name": "stdout",
     "output_type": "stream",
     "text": [
      "1.0 101\n",
      "102.0 12\n",
      "203.0 100\n",
      "304.0 1600\n",
      "405.0 1271\n",
      "506.0 51\n",
      "607.0 403\n",
      "708.0 87\n",
      "809.0 0\n",
      "910.0 1\n",
      "1011.0 1\n",
      "1112.0 1\n",
      "1213.0 1\n",
      "1314.0 1\n",
      "1415.0 1\n",
      "1516.0 1\n",
      "1617.0 1\n",
      "1718.0 1\n",
      "1819.0 1\n",
      "1920.0 1\n",
      "2021.0 1\n",
      "2122.0 1\n",
      "2223.0 1\n",
      "2324.0 1\n",
      "2425.0 1\n",
      "2526.0 101\n",
      "2627.0 101\n",
      "2728.0 1\n",
      "2829.0 1\n",
      "2930.0 101\n",
      "3031.0 161\n",
      "3132.0 10611\n",
      "3233.0 160\n",
      "3334.0 301\n",
      "3435.0 201\n",
      "3536.0 200\n",
      "3637.0 200\n",
      "3738.0 201\n",
      "3839.0 101\n",
      "3940.0 101\n",
      "4041.0 12\n",
      "4142.0 182\n",
      "4243.0 201\n",
      "4344.0 101\n",
      "4445.0 201\n",
      "4546.0 28\n",
      "4647.0 106\n",
      "4748.0 301\n",
      "4849.0 78\n",
      "4950.0 401\n",
      "5051.0 6\n",
      "5152.0 11\n",
      "5253.0 151\n",
      "5354.0 151\n",
      "5455.0 30351\n",
      "5556.0 51\n",
      "5657.0 1510\n",
      "5758.0 1001\n",
      "5859.0 101\n",
      "5960.0 336\n",
      "6061.0 151\n",
      "6162.0 151\n",
      "6263.0 66\n",
      "6364.0 303\n",
      "6465.0 151\n",
      "6566.0 1\n",
      "6667.0 110\n",
      "6768.0 151\n",
      "6869.0 1\n",
      "6970.0 1\n",
      "7071.0 1\n",
      "7172.0 1\n",
      "7273.0 0\n",
      "7374.0 1\n",
      "7475.0 1\n",
      "7576.0 1\n",
      "7677.0 1\n",
      "7778.0 1\n",
      "7879.0 1\n",
      "7980.0 1\n",
      "8081.0 80\n",
      "8182.0 18\n",
      "8283.0 1\n",
      "8384.0 101\n",
      "8485.0 101\n",
      "8586.0 6960\n",
      "8687.0 7061\n",
      "8788.0 7162\n",
      "8889.0 7263\n",
      "8990.0 504\n",
      "9091.0 9801\n",
      "9192.0 601\n",
      "9293.0 331\n",
      "9394.0 2\n",
      "9495.0 0\n",
      "9596.0 2\n",
      "9697.0 0\n",
      "9798.0 4\n",
      "9899.0 4\n",
      "10000.0 4\n"
     ]
    }
   ],
   "source": [
    "import numpy as np\n",
    "maxn = 0 \n",
    "for ii in np.linspace(1,10000,100):\n",
    "    ds = load_by_id(ii)\n",
    "    maxr = ds.number_of_results\n",
    "    print(ii, maxr)\n",
    "    if maxn <maxr:\n",
    "        maxn = maxr"
   ]
  },
  {
   "cell_type": "code",
   "execution_count": 4,
   "metadata": {},
   "outputs": [],
   "source": [
    " ds = load_by_id(5455)\n"
   ]
  },
  {
   "cell_type": "code",
   "execution_count": 5,
   "metadata": {},
   "outputs": [
    {
     "data": {
      "text/plain": [
       "{'qdac_p': ParamSpec('qdac_p', 'numeric', 'Plunger', 'V', inferred_from=[], depends_on=[]),\n",
       " 'bias': ParamSpec('bias', 'numeric', 'Bias', 'V', inferred_from=[], depends_on=[]),\n",
       " 'i_l': ParamSpec('i_l', 'numeric', 'I left', 'A', inferred_from=[], depends_on=['qdac_p', 'bias']),\n",
       " 'g_ll': ParamSpec('g_ll', 'numeric', 'dI left / dV left', 'e²/h', inferred_from=[], depends_on=['qdac_p', 'bias']),\n",
       " 'g_rl': ParamSpec('g_rl', 'numeric', 'dI right / dV left', 'e²/h', inferred_from=[], depends_on=['qdac_p', 'bias']),\n",
       " 'i_r': ParamSpec('i_r', 'numeric', 'I right', 'A', inferred_from=[], depends_on=['qdac_p', 'bias']),\n",
       " 'g_rr': ParamSpec('g_rr', 'numeric', 'dI right / dV right', 'e²/h', inferred_from=[], depends_on=['qdac_p', 'bias']),\n",
       " 'g_lr': ParamSpec('g_lr', 'numeric', 'dI left / dV right', 'e²/h', inferred_from=[], depends_on=['qdac_p', 'bias'])}"
      ]
     },
     "execution_count": 5,
     "metadata": {},
     "output_type": "execute_result"
    }
   ],
   "source": [
    "ds.paramspecs"
   ]
  },
  {
   "cell_type": "code",
   "execution_count": 9,
   "metadata": {},
   "outputs": [
    {
     "name": "stdout",
     "output_type": "stream",
     "text": [
      "222 ms ± 29.9 ms per loop (mean ± std. dev. of 7 runs, 10 loops each)\n"
     ]
    }
   ],
   "source": [
    "%timeit ds.get_parameter_data('qdac_p', start=4000, end=4000)['qdac_p']"
   ]
  },
  {
   "cell_type": "code",
   "execution_count": 83,
   "metadata": {},
   "outputs": [
    {
     "name": "stdout",
     "output_type": "stream",
     "text": [
      "635 ms ± 112 ms per loop (mean ± std. dev. of 7 runs, 1 loop each)\n"
     ]
    }
   ],
   "source": [
    "%timeit load_by_guid('aaaaaaaa-0000-0000-0000-01673807fd53')"
   ]
  },
  {
   "cell_type": "code",
   "execution_count": 86,
   "metadata": {},
   "outputs": [
    {
     "name": "stdout",
     "output_type": "stream",
     "text": [
      "Wall time: 38.1 s\n"
     ]
    },
    {
     "data": {
      "text/plain": [
       "results #1234@C:\\Users\\a-halakh\\qt5-experiments-2019-08-29.db\n",
       "-------------------------------------------------------------\n",
       "scanner_b - array\n",
       "scanner_pl - array\n",
       "s_x - array\n",
       "s_y - array"
      ]
     },
     "execution_count": 86,
     "metadata": {},
     "output_type": "execute_result"
    }
   ],
   "source": [
    "%time load_by_run_spec(captured_run_id=1234)"
   ]
  },
  {
   "cell_type": "markdown",
   "metadata": {},
   "source": [
    "# Observation: Initial Connection taking longer time"
   ]
  },
  {
   "cell_type": "code",
   "execution_count": 6,
   "metadata": {},
   "outputs": [],
   "source": [
    "from qcodes.dataset.data_set import get_DB_location,connect"
   ]
  },
  {
   "cell_type": "code",
   "execution_count": 18,
   "metadata": {},
   "outputs": [],
   "source": [
    "conn = connect(get_DB_location())"
   ]
  },
  {
   "cell_type": "code",
   "execution_count": 21,
   "metadata": {},
   "outputs": [],
   "source": [
    "conn.close()"
   ]
  },
  {
   "cell_type": "code",
   "execution_count": 8,
   "metadata": {},
   "outputs": [
    {
     "name": "stdout",
     "output_type": "stream",
     "text": [
      "Wall time: 7.21 s\n"
     ]
    },
    {
     "data": {
      "text/plain": [
       "results #1234@C:\\Users\\a-halakh\\qt5-experiments-2019-08-29.db\n",
       "-------------------------------------------------------------\n",
       "scanner_b - array\n",
       "scanner_pl - array\n",
       "s_x - array\n",
       "s_y - array"
      ]
     },
     "execution_count": 8,
     "metadata": {},
     "output_type": "execute_result"
    }
   ],
   "source": [
    "%time load_by_run_spec(captured_run_id=1234, conn = conn)"
   ]
  },
  {
   "cell_type": "code",
   "execution_count": 9,
   "metadata": {},
   "outputs": [
    {
     "name": "stdout",
     "output_type": "stream",
     "text": [
      "965 µs ± 39.2 µs per loop (mean ± std. dev. of 7 runs, 1000 loops each)\n"
     ]
    }
   ],
   "source": [
    "%timeit load_by_id(run_id = 1234, conn = conn)"
   ]
  },
  {
   "cell_type": "code",
   "execution_count": 10,
   "metadata": {},
   "outputs": [
    {
     "name": "stdout",
     "output_type": "stream",
     "text": [
      "1.02 ms ± 58.9 µs per loop (mean ± std. dev. of 7 runs, 1000 loops each)\n"
     ]
    }
   ],
   "source": [
    "%timeit load_by_guid(guid = 'aaaaaaaa-0000-0000-0000-01673807fd53', conn = conn)"
   ]
  },
  {
   "cell_type": "code",
   "execution_count": 11,
   "metadata": {},
   "outputs": [
    {
     "ename": "ProgrammingError",
     "evalue": "Cannot operate on a closed database.",
     "output_type": "error",
     "traceback": [
      "\u001b[1;31m---------------------------------------------------------------------------\u001b[0m",
      "\u001b[1;31mProgrammingError\u001b[0m                          Traceback (most recent call last)",
      "\u001b[1;32m<ipython-input-11-f77733c13f75>\u001b[0m in \u001b[0;36m<module>\u001b[1;34m\u001b[0m\n\u001b[1;32m----> 1\u001b[1;33m \u001b[0mcurs\u001b[0m \u001b[1;33m=\u001b[0m \u001b[0mconn\u001b[0m\u001b[1;33m.\u001b[0m\u001b[0mcursor\u001b[0m\u001b[1;33m(\u001b[0m\u001b[1;33m)\u001b[0m\u001b[1;33m\u001b[0m\u001b[1;33m\u001b[0m\u001b[0m\n\u001b[0m",
      "\u001b[1;31mProgrammingError\u001b[0m: Cannot operate on a closed database."
     ]
    }
   ],
   "source": [
    "curs = conn.cursor()"
   ]
  },
  {
   "cell_type": "markdown",
   "metadata": {},
   "source": [
    "# Check if sql vaccum helps"
   ]
  },
  {
   "cell_type": "code",
   "execution_count": 11,
   "metadata": {},
   "outputs": [
    {
     "name": "stdout",
     "output_type": "stream",
     "text": [
      "Wall time: 11min 12s\n"
     ]
    },
    {
     "data": {
      "text/plain": [
       "<sqlite3.Cursor at 0x28bb437bdc0>"
      ]
     },
     "execution_count": 11,
     "metadata": {},
     "output_type": "execute_result"
    }
   ],
   "source": [
    "%time conn.execute(\"VACUUM\")"
   ]
  },
  {
   "cell_type": "code",
   "execution_count": 12,
   "metadata": {},
   "outputs": [
    {
     "name": "stdout",
     "output_type": "stream",
     "text": [
      "Wall time: 9min 57s\n"
     ]
    },
    {
     "data": {
      "text/plain": [
       "<sqlite3.Cursor at 0x28bb437b960>"
      ]
     },
     "execution_count": 12,
     "metadata": {},
     "output_type": "execute_result"
    }
   ],
   "source": [
    "%time conn.execute(\"VACUUM\")"
   ]
  },
  {
   "cell_type": "code",
   "execution_count": 13,
   "metadata": {},
   "outputs": [
    {
     "name": "stdout",
     "output_type": "stream",
     "text": [
      "Wall time: 12min 10s\n"
     ]
    },
    {
     "data": {
      "text/plain": [
       "<sqlite3.Cursor at 0x28bb437b260>"
      ]
     },
     "execution_count": 13,
     "metadata": {},
     "output_type": "execute_result"
    }
   ],
   "source": [
    "%time conn.execute(\"VACUUM\")"
   ]
  },
  {
   "cell_type": "code",
   "execution_count": 16,
   "metadata": {},
   "outputs": [
    {
     "name": "stdout",
     "output_type": "stream",
     "text": [
      "Wall time: 7.51 s\n"
     ]
    },
    {
     "data": {
      "text/plain": [
       "results #1234@C:\\Users\\a-halakh\\qt5-experiments-2019-08-29.db\n",
       "-------------------------------------------------------------\n",
       "scanner_b - array\n",
       "scanner_pl - array\n",
       "s_x - array\n",
       "s_y - array"
      ]
     },
     "execution_count": 16,
     "metadata": {},
     "output_type": "execute_result"
    }
   ],
   "source": [
    "%time load_by_run_spec(captured_run_id=1234, conn = conn)"
   ]
  },
  {
   "cell_type": "code",
   "execution_count": 17,
   "metadata": {},
   "outputs": [
    {
     "name": "stdout",
     "output_type": "stream",
     "text": [
      "Wall time: 7.64 s\n"
     ]
    },
    {
     "data": {
      "text/plain": [
       "results #1234@C:\\Users\\a-halakh\\qt5-experiments-2019-08-29.db\n",
       "-------------------------------------------------------------\n",
       "scanner_b - array\n",
       "scanner_pl - array\n",
       "s_x - array\n",
       "s_y - array"
      ]
     },
     "execution_count": 17,
     "metadata": {},
     "output_type": "execute_result"
    }
   ],
   "source": [
    "%time load_by_run_spec(captured_run_id=1234)"
   ]
  },
  {
   "cell_type": "code",
   "execution_count": 18,
   "metadata": {},
   "outputs": [
    {
     "name": "stdout",
     "output_type": "stream",
     "text": [
      "263 ms ± 25.9 ms per loop (mean ± std. dev. of 7 runs, 1 loop each)\n"
     ]
    }
   ],
   "source": [
    "%timeit load_by_id(1234)"
   ]
  },
  {
   "cell_type": "code",
   "execution_count": 19,
   "metadata": {},
   "outputs": [
    {
     "name": "stdout",
     "output_type": "stream",
     "text": [
      "277 ms ± 49.1 ms per loop (mean ± std. dev. of 7 runs, 1 loop each)\n"
     ]
    }
   ],
   "source": [
    "%timeit load_by_guid('aaaaaaaa-0000-0000-0000-01673807fd53')"
   ]
  },
  {
   "cell_type": "code",
   "execution_count": 20,
   "metadata": {},
   "outputs": [
    {
     "name": "stdout",
     "output_type": "stream",
     "text": [
      "913 µs ± 67.8 µs per loop (mean ± std. dev. of 7 runs, 1000 loops each)\n"
     ]
    }
   ],
   "source": [
    "%timeit load_by_id(run_id = 1234, conn = conn)"
   ]
  },
  {
   "cell_type": "markdown",
   "metadata": {},
   "source": [
    "Doing \"Vaccum\" do increase the efficiency of output. Still it can not reduce less that few hundred ms because the first the new connection takes that much time. "
   ]
  },
  {
   "cell_type": "code",
   "execution_count": 21,
   "metadata": {},
   "outputs": [
    {
     "name": "stdout",
     "output_type": "stream",
     "text": [
      "936 µs ± 102 µs per loop (mean ± std. dev. of 7 runs, 1000 loops each)\n"
     ]
    }
   ],
   "source": [
    "%timeit load_by_guid(guid = 'aaaaaaaa-0000-0000-0000-01673807fd53', conn = conn)"
   ]
  },
  {
   "cell_type": "markdown",
   "metadata": {},
   "source": [
    "# Profiling load_by_run_spec"
   ]
  },
  {
   "cell_type": "code",
   "execution_count": 87,
   "metadata": {},
   "outputs": [],
   "source": [
    "import snakeviz"
   ]
  },
  {
   "cell_type": "code",
   "execution_count": 88,
   "metadata": {},
   "outputs": [],
   "source": [
    "%load_ext snakeviz"
   ]
  },
  {
   "cell_type": "code",
   "execution_count": 24,
   "metadata": {
    "scrolled": false
   },
   "outputs": [
    {
     "name": "stdout",
     "output_type": "stream",
     "text": [
      " \n",
      "*** Profile stats marshalled to file 'C:\\\\Users\\\\a-halakh\\\\AppData\\\\Local\\\\Temp\\\\tmp_um6vd8p'. \n",
      "Embedding SnakeViz in this document...\n"
     ]
    },
    {
     "data": {
      "text/html": [
       "\n",
       "<iframe id='snakeviz-b006b90c-3b7e-11ea-aa71-bc83852643fd' frameborder=0 seamless width='100%' height='1000'></iframe>\n",
       "<script>document.getElementById(\"snakeviz-b006b90c-3b7e-11ea-aa71-bc83852643fd\").setAttribute(\"src\", \"http://\" + document.location.hostname + \":8080/snakeviz/C%3A%5CUsers%5Ca-halakh%5CAppData%5CLocal%5CTemp%5Ctmp_um6vd8p\")</script>\n"
      ],
      "text/plain": [
       "<IPython.core.display.HTML object>"
      ]
     },
     "metadata": {},
     "output_type": "display_data"
    }
   ],
   "source": [
    "%snakeviz load_by_run_spec(captured_run_id=1234)"
   ]
  },
  {
   "cell_type": "code",
   "execution_count": 24,
   "metadata": {},
   "outputs": [],
   "source": [
    "rows = curs.fetchall()"
   ]
  },
  {
   "cell_type": "code",
   "execution_count": 25,
   "metadata": {},
   "outputs": [
    {
     "data": {
      "text/plain": [
       "0"
      ]
     },
     "execution_count": 25,
     "metadata": {},
     "output_type": "execute_result"
    }
   ],
   "source": [
    "len(rows)"
   ]
  },
  {
   "cell_type": "markdown",
   "metadata": {},
   "source": [
    "# Db Upgrade to index captured run id"
   ]
  },
  {
   "cell_type": "code",
   "execution_count": 25,
   "metadata": {},
   "outputs": [],
   "source": [
    "from qcodes.dataset.sqlite.connection import atomic_transaction, atomic, transaction\n",
    "from tqdm import tqdm\n",
    "import sys"
   ]
  },
  {
   "cell_type": "code",
   "execution_count": 26,
   "metadata": {},
   "outputs": [],
   "source": [
    "\n",
    "def perform_db_upgrade_8_to_9(conn) -> None:\n",
    "    \"\"\"\n",
    "    Perform the upgrade from version 1 to version 2\n",
    "\n",
    "    Add two indeces on the runs table, one for exp_id and one for GUID\n",
    "    \"\"\"\n",
    "\n",
    "    sql = \"SELECT name FROM sqlite_master WHERE type='table' AND name='runs'\"\n",
    "    cur = atomic_transaction(conn, sql)\n",
    "    n_run_tables = len(cur.fetchall())\n",
    "\n",
    "    pbar = tqdm(range(1), file=sys.stdout)\n",
    "    pbar.set_description(\"Upgrading database; v1 -> v2\")\n",
    "\n",
    "    if n_run_tables == 1:\n",
    "        _IX_runs_capture_id = \"\"\"\n",
    "                          CREATE INDEX\n",
    "                          IF NOT EXISTS IX_runs_capture_id\n",
    "                          ON runs (captured_run_id DESC)\n",
    "                          \"\"\"\n",
    "        with atomic(conn) as conn:\n",
    "            # iterate through the pbar for the sake of the side effect; it\n",
    "            # prints that the database is being upgraded\n",
    "            for _ in pbar:\n",
    "                transaction(conn, _IX_runs_capture_id)\n",
    "    else:\n",
    "        raise RuntimeError(f\"found {n_run_tables} runs tables expected 1\")"
   ]
  },
  {
   "cell_type": "code",
   "execution_count": 27,
   "metadata": {},
   "outputs": [
    {
     "name": "stdout",
     "output_type": "stream",
     "text": [
      "Upgrading database; v1 -> v2: 100%|███████████████████████████████████████████████████████████████████████████████████████████████████████████████████████████████████████████████████████████████████████████████████████████████████████████████████████████████████████████████████████| 1/1 [00:07<00:00,  7.93s/it]\n"
     ]
    }
   ],
   "source": [
    "perform_db_upgrade_8_to_9(conn) "
   ]
  },
  {
   "cell_type": "code",
   "execution_count": 28,
   "metadata": {},
   "outputs": [
    {
     "name": "stdout",
     "output_type": "stream",
     "text": [
      "Wall time: 14 ms\n"
     ]
    },
    {
     "data": {
      "text/plain": [
       "results #1234@C:\\Users\\a-halakh\\qt5-experiments-2019-08-29.db\n",
       "-------------------------------------------------------------\n",
       "scanner_b - array\n",
       "scanner_pl - array\n",
       "s_x - array\n",
       "s_y - array"
      ]
     },
     "execution_count": 28,
     "metadata": {},
     "output_type": "execute_result"
    }
   ],
   "source": [
    "%time load_by_run_spec(captured_run_id=1234, conn = conn)"
   ]
  },
  {
   "cell_type": "code",
   "execution_count": 35,
   "metadata": {},
   "outputs": [
    {
     "name": "stdout",
     "output_type": "stream",
     "text": [
      "Wall time: 352 ms\n"
     ]
    },
    {
     "data": {
      "text/plain": [
       "results #1234@C:\\Users\\a-halakh\\qt5-experiments-2019-08-29.db\n",
       "-------------------------------------------------------------\n",
       "scanner_b - array\n",
       "scanner_pl - array\n",
       "s_x - array\n",
       "s_y - array"
      ]
     },
     "execution_count": 35,
     "metadata": {},
     "output_type": "execute_result"
    }
   ],
   "source": [
    "%time load_by_run_spec(captured_run_id=1234)"
   ]
  },
  {
   "cell_type": "code",
   "execution_count": 36,
   "metadata": {},
   "outputs": [
    {
     "name": "stdout",
     "output_type": "stream",
     "text": [
      "Wall time: 7.35 s\n"
     ]
    },
    {
     "data": {
      "text/plain": [
       "results #2287@C:\\Users\\a-halakh\\qt5-experiments-2019-08-29.db\n",
       "-------------------------------------------------------------\n",
       "scanner_b - array\n",
       "scanner_pl - array\n",
       "s_x - array\n",
       "s_y - array"
      ]
     },
     "execution_count": 36,
     "metadata": {},
     "output_type": "execute_result"
    }
   ],
   "source": [
    "%time load_by_run_spec(captured_counter=1234)"
   ]
  },
  {
   "cell_type": "code",
   "execution_count": 37,
   "metadata": {},
   "outputs": [
    {
     "name": "stdout",
     "output_type": "stream",
     "text": [
      "272 ms ± 28.9 ms per loop (mean ± std. dev. of 7 runs, 1 loop each)\n"
     ]
    }
   ],
   "source": [
    "%timeit load_by_id(1234)"
   ]
  },
  {
   "cell_type": "code",
   "execution_count": 39,
   "metadata": {},
   "outputs": [
    {
     "name": "stdout",
     "output_type": "stream",
     "text": [
      "233 ms ± 4.55 ms per loop (mean ± std. dev. of 7 runs, 1 loop each)\n"
     ]
    }
   ],
   "source": [
    "%timeit load_by_guid('aaaaaaaa-0000-0000-0000-01673807fd53')"
   ]
  },
  {
   "cell_type": "code",
   "execution_count": null,
   "metadata": {},
   "outputs": [],
   "source": []
  }
 ],
 "metadata": {
  "kernelspec": {
   "display_name": "Python 3",
   "language": "python",
   "name": "python3"
  },
  "language_info": {
   "codemirror_mode": {
    "name": "ipython",
    "version": 3
   },
   "file_extension": ".py",
   "mimetype": "text/x-python",
   "name": "python",
   "nbconvert_exporter": "python",
   "pygments_lexer": "ipython3",
   "version": "3.7.5"
  },
  "toc": {
   "base_numbering": 1,
   "nav_menu": {},
   "number_sections": true,
   "sideBar": true,
   "skip_h1_title": false,
   "title_cell": "Table of Contents",
   "title_sidebar": "Contents",
   "toc_cell": false,
   "toc_position": {},
   "toc_section_display": true,
   "toc_window_display": false
  },
  "varInspector": {
   "cols": {
    "lenName": 16,
    "lenType": 16,
    "lenVar": 40
   },
   "kernels_config": {
    "python": {
     "delete_cmd_postfix": "",
     "delete_cmd_prefix": "del ",
     "library": "var_list.py",
     "varRefreshCmd": "print(var_dic_list())"
    },
    "r": {
     "delete_cmd_postfix": ") ",
     "delete_cmd_prefix": "rm(",
     "library": "var_list.r",
     "varRefreshCmd": "cat(var_dic_list()) "
    }
   },
   "types_to_exclude": [
    "module",
    "function",
    "builtin_function_or_method",
    "instance",
    "_Feature"
   ],
   "window_display": false
  }
 },
 "nbformat": 4,
 "nbformat_minor": 2
}
