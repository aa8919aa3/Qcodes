{
 "cells": [
  {
   "cell_type": "markdown",
   "metadata": {},
   "source": [
    "# Benchmark load_by_run_spec\n",
    "\n",
    "The time required to load a dataset using `load_by_run_spec`when compared to the time taken by `load_by_ guid` or `load_by_id` is 100 times higher. This creates a issue if the database is large. Here I have used database or around 10gb."
   ]
  },
  {
   "cell_type": "code",
   "execution_count": 1,
   "metadata": {},
   "outputs": [
    {
     "name": "stdout",
     "output_type": "stream",
     "text": [
      "Logging hadn't been started.\n",
      "Activating auto-logging. Current session state plus future input saved.\n",
      "Filename       : C:\\Users\\a-halakh\\.qcodes\\logs\\command_history.log\n",
      "Mode           : append\n",
      "Output logging : True\n",
      "Raw input log  : False\n",
      "Timestamping   : True\n",
      "State          : active\n",
      "Qcodes Logfile : C:\\Users\\a-halakh\\.qcodes\\logs\\200114-5936-qcodes.log\n"
     ]
    }
   ],
   "source": [
    "from qcodes import initialise_or_create_database_at, load_by_id, load_by_guid, load_by_run_spec"
   ]
  },
  {
   "cell_type": "code",
   "execution_count": 2,
   "metadata": {},
   "outputs": [],
   "source": [
    "initialise_or_create_database_at(r\"C:\\Users\\a-halakh\\qt5-experiments-2019-08-29.db\")"
   ]
  },
  {
   "cell_type": "code",
   "execution_count": 3,
   "metadata": {},
   "outputs": [
    {
     "name": "stdout",
     "output_type": "stream",
     "text": [
      "288 ms ± 39.4 ms per loop (mean ± std. dev. of 7 runs, 1 loop each)\n"
     ]
    }
   ],
   "source": [
    "%timeit load_by_id(1234)"
   ]
  },
  {
   "cell_type": "code",
   "execution_count": 4,
   "metadata": {},
   "outputs": [
    {
     "name": "stdout",
     "output_type": "stream",
     "text": [
      "365 ms ± 153 ms per loop (mean ± std. dev. of 7 runs, 1 loop each)\n"
     ]
    }
   ],
   "source": [
    "%timeit load_by_guid('aaaaaaaa-0000-0000-0000-01673807fd53')"
   ]
  },
  {
   "cell_type": "code",
   "execution_count": 5,
   "metadata": {},
   "outputs": [
    {
     "name": "stdout",
     "output_type": "stream",
     "text": [
      "Wall time: 32.4 s\n"
     ]
    },
    {
     "data": {
      "text/plain": [
       "results #1234@C:\\Users\\a-halakh\\qt5-experiments-2019-08-29.db\n",
       "-------------------------------------------------------------\n",
       "scanner_b - array\n",
       "scanner_pl - array\n",
       "s_x - array\n",
       "s_y - array"
      ]
     },
     "execution_count": 5,
     "metadata": {},
     "output_type": "execute_result"
    }
   ],
   "source": [
    "%time load_by_run_spec(captured_run_id=1234)"
   ]
  },
  {
   "cell_type": "markdown",
   "metadata": {},
   "source": [
    "# Observation: Initial Connection taking longer time"
   ]
  },
  {
   "cell_type": "code",
   "execution_count": 6,
   "metadata": {},
   "outputs": [],
   "source": [
    "from qcodes.dataset.data_set import get_DB_location,connect"
   ]
  },
  {
   "cell_type": "code",
   "execution_count": 7,
   "metadata": {},
   "outputs": [],
   "source": [
    "conn = connect(get_DB_location())"
   ]
  },
  {
   "cell_type": "code",
   "execution_count": 8,
   "metadata": {},
   "outputs": [
    {
     "name": "stdout",
     "output_type": "stream",
     "text": [
      "Wall time: 30.2 s\n"
     ]
    },
    {
     "data": {
      "text/plain": [
       "results #1234@C:\\Users\\a-halakh\\qt5-experiments-2019-08-29.db\n",
       "-------------------------------------------------------------\n",
       "scanner_b - array\n",
       "scanner_pl - array\n",
       "s_x - array\n",
       "s_y - array"
      ]
     },
     "execution_count": 8,
     "metadata": {},
     "output_type": "execute_result"
    }
   ],
   "source": [
    "%time load_by_run_spec(captured_run_id=1234, conn = conn)"
   ]
  },
  {
   "cell_type": "code",
   "execution_count": 9,
   "metadata": {},
   "outputs": [
    {
     "name": "stdout",
     "output_type": "stream",
     "text": [
      "1.01 ms ± 54 µs per loop (mean ± std. dev. of 7 runs, 1000 loops each)\n"
     ]
    }
   ],
   "source": [
    "%timeit load_by_id(run_id = 1234, conn = conn)"
   ]
  },
  {
   "cell_type": "code",
   "execution_count": 10,
   "metadata": {},
   "outputs": [
    {
     "name": "stdout",
     "output_type": "stream",
     "text": [
      "1.25 ms ± 234 µs per loop (mean ± std. dev. of 7 runs, 1000 loops each)\n"
     ]
    }
   ],
   "source": [
    "%timeit load_by_guid(guid = 'aaaaaaaa-0000-0000-0000-01673807fd53', conn = conn)"
   ]
  },
  {
   "cell_type": "code",
   "execution_count": 11,
   "metadata": {},
   "outputs": [],
   "source": [
    "curs = conn.cursor()"
   ]
  },
  {
   "cell_type": "markdown",
   "metadata": {},
   "source": [
    "# Check if sql vaccum helps"
   ]
  },
  {
   "cell_type": "code",
   "execution_count": 12,
   "metadata": {},
   "outputs": [
    {
     "data": {
      "text/plain": [
       "<sqlite3.Cursor at 0x1727fae3650>"
      ]
     },
     "execution_count": 12,
     "metadata": {},
     "output_type": "execute_result"
    }
   ],
   "source": [
    "conn.execute(\"VACUUM\")"
   ]
  },
  {
   "cell_type": "code",
   "execution_count": 13,
   "metadata": {},
   "outputs": [
    {
     "name": "stdout",
     "output_type": "stream",
     "text": [
      "Wall time: 17.3 s\n"
     ]
    },
    {
     "data": {
      "text/plain": [
       "results #1234@C:\\Users\\a-halakh\\qt5-experiments-2019-08-29.db\n",
       "-------------------------------------------------------------\n",
       "scanner_b - array\n",
       "scanner_pl - array\n",
       "s_x - array\n",
       "s_y - array"
      ]
     },
     "execution_count": 13,
     "metadata": {},
     "output_type": "execute_result"
    }
   ],
   "source": [
    "%time load_by_run_spec(captured_run_id=1234, conn = conn)"
   ]
  },
  {
   "cell_type": "code",
   "execution_count": 15,
   "metadata": {},
   "outputs": [
    {
     "name": "stdout",
     "output_type": "stream",
     "text": [
      "Wall time: 7.19 s\n"
     ]
    },
    {
     "data": {
      "text/plain": [
       "results #1234@C:\\Users\\a-halakh\\qt5-experiments-2019-08-29.db\n",
       "-------------------------------------------------------------\n",
       "scanner_b - array\n",
       "scanner_pl - array\n",
       "s_x - array\n",
       "s_y - array"
      ]
     },
     "execution_count": 15,
     "metadata": {},
     "output_type": "execute_result"
    }
   ],
   "source": [
    "%time load_by_run_spec(captured_run_id=1234)"
   ]
  },
  {
   "cell_type": "code",
   "execution_count": 16,
   "metadata": {},
   "outputs": [
    {
     "name": "stdout",
     "output_type": "stream",
     "text": [
      "Wall time: 9min 45s\n"
     ]
    },
    {
     "data": {
      "text/plain": [
       "<sqlite3.Cursor at 0x1727fb1b5e0>"
      ]
     },
     "execution_count": 16,
     "metadata": {},
     "output_type": "execute_result"
    }
   ],
   "source": [
    "%time curs.execute(\"VACUUM\")"
   ]
  },
  {
   "cell_type": "code",
   "execution_count": 18,
   "metadata": {},
   "outputs": [
    {
     "name": "stdout",
     "output_type": "stream",
     "text": [
      "Wall time: 7.48 s\n"
     ]
    },
    {
     "data": {
      "text/plain": [
       "results #1234@C:\\Users\\a-halakh\\qt5-experiments-2019-08-29.db\n",
       "-------------------------------------------------------------\n",
       "scanner_b - array\n",
       "scanner_pl - array\n",
       "s_x - array\n",
       "s_y - array"
      ]
     },
     "execution_count": 18,
     "metadata": {},
     "output_type": "execute_result"
    }
   ],
   "source": [
    "%time load_by_run_spec(captured_run_id=1234)"
   ]
  },
  {
   "cell_type": "code",
   "execution_count": 19,
   "metadata": {},
   "outputs": [
    {
     "name": "stdout",
     "output_type": "stream",
     "text": [
      "250 ms ± 13.1 ms per loop (mean ± std. dev. of 7 runs, 1 loop each)\n"
     ]
    }
   ],
   "source": [
    "%timeit load_by_id(1234)"
   ]
  },
  {
   "cell_type": "code",
   "execution_count": 20,
   "metadata": {},
   "outputs": [
    {
     "name": "stdout",
     "output_type": "stream",
     "text": [
      "237 ms ± 5.6 ms per loop (mean ± std. dev. of 7 runs, 1 loop each)\n"
     ]
    }
   ],
   "source": [
    "%timeit load_by_guid('aaaaaaaa-0000-0000-0000-01673807fd53')"
   ]
  },
  {
   "cell_type": "markdown",
   "metadata": {},
   "source": [
    "Doing \"Vaccum\" do increase the efficiency of output. Still it can not reduce less that few hundred ms because the first the new connection takes that much time. "
   ]
  },
  {
   "cell_type": "code",
   "execution_count": null,
   "metadata": {},
   "outputs": [],
   "source": []
  },
  {
   "cell_type": "markdown",
   "metadata": {},
   "source": [
    "# Profiling load_by_run_spec"
   ]
  },
  {
   "cell_type": "code",
   "execution_count": 21,
   "metadata": {},
   "outputs": [],
   "source": [
    "import snakeviz"
   ]
  },
  {
   "cell_type": "code",
   "execution_count": 22,
   "metadata": {},
   "outputs": [],
   "source": [
    "%load_ext snakeviz"
   ]
  },
  {
   "cell_type": "code",
   "execution_count": 23,
   "metadata": {
    "scrolled": false
   },
   "outputs": [
    {
     "name": "stdout",
     "output_type": "stream",
     "text": [
      " \n",
      "*** Profile stats marshalled to file 'C:\\\\Users\\\\a-halakh\\\\AppData\\\\Local\\\\Temp\\\\tmpijau8v7j'. \n",
      "Embedding SnakeViz in this document...\n"
     ]
    },
    {
     "data": {
      "text/html": [
       "\n",
       "<iframe id='snakeviz-25017386-36cf-11ea-9325-bc83852643fd' frameborder=0 seamless width='100%' height='1000'></iframe>\n",
       "<script>document.getElementById(\"snakeviz-25017386-36cf-11ea-9325-bc83852643fd\").setAttribute(\"src\", \"http://\" + document.location.hostname + \":8080/snakeviz/C%3A%5CUsers%5Ca-halakh%5CAppData%5CLocal%5CTemp%5Ctmpijau8v7j\")</script>\n"
      ],
      "text/plain": [
       "<IPython.core.display.HTML object>"
      ]
     },
     "metadata": {},
     "output_type": "display_data"
    }
   ],
   "source": [
    "%snakeviz load_by_run_spec(captured_run_id=1234)"
   ]
  },
  {
   "cell_type": "code",
   "execution_count": 24,
   "metadata": {},
   "outputs": [],
   "source": [
    "rows = curs.fetchall()"
   ]
  },
  {
   "cell_type": "code",
   "execution_count": 25,
   "metadata": {},
   "outputs": [
    {
     "data": {
      "text/plain": [
       "0"
      ]
     },
     "execution_count": 25,
     "metadata": {},
     "output_type": "execute_result"
    }
   ],
   "source": [
    "len(rows)"
   ]
  },
  {
   "cell_type": "markdown",
   "metadata": {},
   "source": [
    "# profiling"
   ]
  },
  {
   "cell_type": "code",
   "execution_count": null,
   "metadata": {},
   "outputs": [],
   "source": [
    "from typing import Dict, List, Optional, Any, Sequence, Union, Tuple, \\\n",
    "    Callable, cast, Mapping\n",
    "\n",
    "from qcodes.dataset.sqlite.queries import get_matching_exp_ids"
   ]
  },
  {
   "cell_type": "code",
   "execution_count": null,
   "metadata": {},
   "outputs": [],
   "source": [
    "captured_run_id= 1234\n",
    "captured_counter= None,\n",
    "experiment_name = None,\n",
    "sample_name = None"
   ]
  },
  {
   "cell_type": "code",
   "execution_count": null,
   "metadata": {},
   "outputs": [],
   "source": [
    "exp_ids = None\n",
    "\n",
    "conds = []\n",
    "inputs = []\n",
    "\n",
    "\n",
    "conds.append(\"captured_run_id is ?\")\n",
    "inputs.append(captured_run_id)\n",
    "\n",
    "if len(conds) >= 1:\n",
    "    where_clause = \" WHERE \" + \" AND \".join(conds)\n",
    "else:\n",
    "    where_clause = \"\"\n",
    "\n",
    "query = \"SELECT guid from runs\" + where_clause + \" ORDER BY run_id\"\n",
    "\n",
    "cursor = conn.cursor()\n",
    "if len(inputs) > 0:\n",
    "    cursor.execute(query, inputs)\n",
    "else:\n",
    "    cursor.execute(query)\n",
    "\n",
    "rows = cursor.fetchall()"
   ]
  },
  {
   "cell_type": "code",
   "execution_count": null,
   "metadata": {},
   "outputs": [],
   "source": [
    "for r in rows:\n",
    "    print(r['guid'])"
   ]
  },
  {
   "cell_type": "code",
   "execution_count": null,
   "metadata": {},
   "outputs": [],
   "source": [
    "from qcodes.dataset.sqlite.connection import atomic_transaction, atomic, transaction\n",
    "from tqdm import tqdm\n",
    "import sys"
   ]
  },
  {
   "cell_type": "code",
   "execution_count": null,
   "metadata": {},
   "outputs": [],
   "source": [
    "\n",
    "def perform_db_upgrade_8_to_9(conn) -> None:\n",
    "    \"\"\"\n",
    "    Perform the upgrade from version 1 to version 2\n",
    "\n",
    "    Add two indeces on the runs table, one for exp_id and one for GUID\n",
    "    \"\"\"\n",
    "\n",
    "    sql = \"SELECT name FROM sqlite_master WHERE type='table' AND name='runs'\"\n",
    "    cur = atomic_transaction(conn, sql)\n",
    "    n_run_tables = len(cur.fetchall())\n",
    "\n",
    "    pbar = tqdm(range(1), file=sys.stdout)\n",
    "    pbar.set_description(\"Upgrading database; v1 -> v2\")\n",
    "\n",
    "    if n_run_tables == 1:\n",
    "        _IX_runs_capture_id = \"\"\"\n",
    "                          CREATE INDEX\n",
    "                          IF NOT EXISTS IX_runs_capture_id\n",
    "                          ON runs (captured_run_id DESC)\n",
    "                          \"\"\"\n",
    "        with atomic(conn) as conn:\n",
    "            # iterate through the pbar for the sake of the side effect; it\n",
    "            # prints that the database is being upgraded\n",
    "            for _ in pbar:\n",
    "                transaction(conn, _IX_runs_capture_id)\n",
    "    else:\n",
    "        raise RuntimeError(f\"found {n_run_tables} runs tables expected 1\")"
   ]
  },
  {
   "cell_type": "code",
   "execution_count": null,
   "metadata": {},
   "outputs": [],
   "source": [
    "perform_db_upgrade_8_to_9(conn) "
   ]
  },
  {
   "cell_type": "code",
   "execution_count": null,
   "metadata": {},
   "outputs": [],
   "source": []
  }
 ],
 "metadata": {
  "kernelspec": {
   "display_name": "Python 3",
   "language": "python",
   "name": "python3"
  },
  "language_info": {
   "codemirror_mode": {
    "name": "ipython",
    "version": 3
   },
   "file_extension": ".py",
   "mimetype": "text/x-python",
   "name": "python",
   "nbconvert_exporter": "python",
   "pygments_lexer": "ipython3",
   "version": "3.7.5"
  },
  "toc": {
   "base_numbering": 1,
   "nav_menu": {},
   "number_sections": true,
   "sideBar": true,
   "skip_h1_title": false,
   "title_cell": "Table of Contents",
   "title_sidebar": "Contents",
   "toc_cell": false,
   "toc_position": {},
   "toc_section_display": true,
   "toc_window_display": false
  },
  "varInspector": {
   "cols": {
    "lenName": 16,
    "lenType": 16,
    "lenVar": 40
   },
   "kernels_config": {
    "python": {
     "delete_cmd_postfix": "",
     "delete_cmd_prefix": "del ",
     "library": "var_list.py",
     "varRefreshCmd": "print(var_dic_list())"
    },
    "r": {
     "delete_cmd_postfix": ") ",
     "delete_cmd_prefix": "rm(",
     "library": "var_list.r",
     "varRefreshCmd": "cat(var_dic_list()) "
    }
   },
   "types_to_exclude": [
    "module",
    "function",
    "builtin_function_or_method",
    "instance",
    "_Feature"
   ],
   "window_display": false
  }
 },
 "nbformat": 4,
 "nbformat_minor": 2
}
