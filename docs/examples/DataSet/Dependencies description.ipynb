{
 "cells": [
  {
   "cell_type": "markdown",
   "metadata": {},
   "source": [
    "# Dependencies description\n",
    "\n",
    "An example of how this looks in practice"
   ]
  },
  {
   "cell_type": "code",
   "execution_count": 1,
   "metadata": {},
   "outputs": [],
   "source": [
    "import os\n",
    "\n",
    "from qcodes.tests.instrument_mocks import DummyInstrument\n",
    "from qcodes.dataset.dependencies import (InterDependencies, interdeps_to_yaml,\n",
    "                                         yaml_to_interdeps)\n",
    "from qcodes.dataset.measurements import Measurement"
   ]
  },
  {
   "cell_type": "code",
   "execution_count": 3,
   "metadata": {},
   "outputs": [],
   "source": [
    "dac = DummyInstrument('dac', gates=['ch1', 'ch2'])\n",
    "dmm = DummyInstrument('dmm', gates=['v1', 'v2'])"
   ]
  },
  {
   "cell_type": "code",
   "execution_count": 4,
   "metadata": {},
   "outputs": [],
   "source": [
    "meas = Measurement()\n",
    "meas.register_parameter(dac.ch1)\n",
    "meas.register_parameter(dac.ch2)\n",
    "meas.register_parameter(dmm.v1, setpoints=(dac.ch1, dac.ch2))"
   ]
  },
  {
   "cell_type": "markdown",
   "metadata": {},
   "source": [
    "### Burning question 1: how does it look, then, the yaml?"
   ]
  },
  {
   "cell_type": "markdown",
   "metadata": {},
   "source": [
    "Let's first make a `InterDependencies` object for the `Measurement`"
   ]
  },
  {
   "cell_type": "code",
   "execution_count": 5,
   "metadata": {},
   "outputs": [],
   "source": [
    "idp = InterDependencies(*tuple(meas.parameters.values()))"
   ]
  },
  {
   "cell_type": "markdown",
   "metadata": {},
   "source": [
    "Okay, that was easy. So is making the yaml."
   ]
  },
  {
   "cell_type": "code",
   "execution_count": 6,
   "metadata": {},
   "outputs": [
    {
     "name": "stdout",
     "output_type": "stream",
     "text": [
      "Parameters:\n",
      "- !ParamSpec\n",
      "  name: dac_ch1\n",
      "  type: numeric\n",
      "  label: Gate ch1\n",
      "  unit: V\n",
      "  _inferred_from: []\n",
      "  _depends_on: []\n",
      "- !ParamSpec\n",
      "  name: dac_ch2\n",
      "  type: numeric\n",
      "  label: Gate ch2\n",
      "  unit: V\n",
      "  _inferred_from: []\n",
      "  _depends_on: []\n",
      "- !ParamSpec\n",
      "  name: dmm_v1\n",
      "  type: numeric\n",
      "  label: Gate v1\n",
      "  unit: V\n",
      "  _inferred_from: []\n",
      "  _depends_on:\n",
      "  - dac_ch1\n",
      "  - dac_ch2\n",
      "\n"
     ]
    }
   ],
   "source": [
    "yaml_str = interdeps_to_yaml(idp)\n",
    "print(yaml_str)"
   ]
  },
  {
   "cell_type": "markdown",
   "metadata": {},
   "source": [
    "### Burning question 2: okay, but do we all information back?\n",
    "\n",
    "Let's read it back and see."
   ]
  },
  {
   "cell_type": "code",
   "execution_count": 7,
   "metadata": {},
   "outputs": [],
   "source": [
    "new_idp = yaml_to_interdeps(yaml_str)"
   ]
  },
  {
   "cell_type": "code",
   "execution_count": 8,
   "metadata": {},
   "outputs": [
    {
     "data": {
      "text/plain": [
       "(dac_ch1 (numeric), dac_ch2 (numeric), dmm_v1 (numeric))"
      ]
     },
     "execution_count": 8,
     "metadata": {},
     "output_type": "execute_result"
    }
   ],
   "source": [
    "new_idp.paramspecs"
   ]
  },
  {
   "cell_type": "code",
   "execution_count": 9,
   "metadata": {},
   "outputs": [
    {
     "data": {
      "text/plain": [
       "dmm_v1 (numeric)"
      ]
     },
     "execution_count": 9,
     "metadata": {},
     "output_type": "execute_result"
    }
   ],
   "source": [
    "dmm_ps = new_idp.paramspecs[2]\n",
    "dmm_ps"
   ]
  },
  {
   "cell_type": "markdown",
   "metadata": {},
   "source": [
    "We can compare this ParamSpec to the one from `meas`\n",
    "\n",
    "By the way, we should really update `__repr__` of `ParamSpec` and implement/override `__eq__`."
   ]
  },
  {
   "cell_type": "code",
   "execution_count": 10,
   "metadata": {},
   "outputs": [],
   "source": [
    "dmm_v1 = meas.parameters['dmm_v1']"
   ]
  },
  {
   "cell_type": "code",
   "execution_count": 11,
   "metadata": {},
   "outputs": [
    {
     "name": "stdout",
     "output_type": "stream",
     "text": [
      "True\n",
      "True\n",
      "True\n",
      "True\n",
      "True\n"
     ]
    }
   ],
   "source": [
    "for attr in ['name', 'label', 'unit', '_depends_on', '_inferred_from']:\n",
    "\n",
    "    print(getattr(dmm_ps, attr) == getattr(dmm_v1, attr))"
   ]
  }
 ],
 "metadata": {
  "kernelspec": {
   "display_name": "Python 3",
   "language": "python",
   "name": "python3"
  },
  "language_info": {
   "codemirror_mode": {
    "name": "ipython",
    "version": 3
   },
   "file_extension": ".py",
   "mimetype": "text/x-python",
   "name": "python",
   "nbconvert_exporter": "python",
   "pygments_lexer": "ipython3",
   "version": "3.6.5"
  }
 },
 "nbformat": 4,
 "nbformat_minor": 2
}
