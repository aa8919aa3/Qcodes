{
 "cells": [
  {
   "cell_type": "markdown",
   "metadata": {},
   "source": [
    "Test of VNA driver "
   ]
  },
  {
   "cell_type": "markdown",
   "metadata": {},
   "source": [
    "Pre-measurement setup"
   ]
  },
  {
   "cell_type": "code",
   "execution_count": 1,
   "metadata": {},
   "outputs": [
    {
     "name": "stdout",
     "output_type": "stream",
     "text": [
      "Logging hadn't been started.\n",
      "Activating auto-logging. Current session state plus future input saved.\n",
      "Filename       : C:\\Users\\NQCP-\\.qcodes\\logs\\command_history.log\n",
      "Mode           : append\n",
      "Output logging : True\n",
      "Raw input log  : False\n",
      "Timestamping   : True\n",
      "State          : active\n",
      "Qcodes Logfile : C:\\Users\\NQCP-\\.qcodes\\logs\\241204-10572-qcodes.log\n"
     ]
    }
   ],
   "source": [
    "import os\n",
    "import time\n",
    "import numpy as np\n",
    "\n",
    "import IPython.lib.backgroundjobs as bg\n",
    "from plottr.apps import inspectr\n",
    "\n",
    "import qcodes.logger\n",
    "from qcodes.dataset import (\n",
    "    do0d,\n",
    "    do1d,\n",
    "    initialise_or_create_database_at,\n",
    "    load_or_create_experiment,\n",
    ")\n",
    "\n",
    "from qcodes.instrument_drivers.Keysight.Keysight_P5004B import KeysightP5004B\n",
    "\n",
    "qcodes.logger.start_all_logging()\n"
   ]
  },
  {
   "cell_type": "markdown",
   "metadata": {},
   "source": [
    "Database and plottr setup"
   ]
  },
  {
   "cell_type": "code",
   "execution_count": 2,
   "metadata": {},
   "outputs": [
    {
     "data": {
      "text/plain": [
       "<BackgroundJob #0: <function main at 0x000002AF3076F280>>"
      ]
     },
     "execution_count": 2,
     "metadata": {},
     "output_type": "execute_result"
    }
   ],
   "source": [
    "database_path = \"C:/Users/NQCP-/Downloads/p5004b_test.db\"\n",
    "initialise_or_create_database_at(database_path)\n",
    "\n",
    "jobs = bg.BackgroundJobManager()\n",
    "jobs.new(inspectr.main, database_path)"
   ]
  },
  {
   "cell_type": "markdown",
   "metadata": {},
   "source": [
    "Experiment setup"
   ]
  },
  {
   "cell_type": "code",
   "execution_count": 3,
   "metadata": {},
   "outputs": [
    {
     "name": "stdout",
     "output_type": "stream",
     "text": [
      "Connected to: Keysight Technologies P5004B (serial:MY61100091, firmware:A.17.35.10) in 0.06s\n"
     ]
    }
   ],
   "source": [
    "test_experiment = load_or_create_experiment(\"do1d_p5004b\", sample_name=\"TEST\")\n",
    "vna = KeysightP5004B(\"pna\", \"TCPIP0::NQCP-Maybell1::hislip_PXI0_CHASSIS1_SLOT1_INDEX0::INSTR\")\n",
    "#vna.print_readable_snapshot()"
   ]
  },
  {
   "cell_type": "markdown",
   "metadata": {},
   "source": [
    "Execute frequency sweep\n"
   ]
  },
  {
   "cell_type": "code",
   "execution_count": 4,
   "metadata": {},
   "outputs": [
    {
     "name": "stdout",
     "output_type": "stream",
     "text": [
      "Starting experimental run with id: 28. Using 'qcodes.dataset.do0d'\n"
     ]
    },
    {
     "data": {
      "text/plain": [
       "(results #28@C:\\Users\\NQCP-\\Downloads\\p5004b_test.db\n",
       " ---------------------------------------------------\n",
       " pna_frequency_axis - array\n",
       " pna_tr1_magnitude - array,\n",
       " (None,),\n",
       " (None,))"
      ]
     },
     "execution_count": 4,
     "metadata": {},
     "output_type": "execute_result"
    }
   ],
   "source": [
    "# Set up a frequency sweep from 100 MHz to 1 GHz, with 1001 points, at a power of -40dBm\n",
    "vna.power(-10)\n",
    "vna.start(4e9)\n",
    "vna.stop(8e9)\n",
    "vna.points(5000)\n",
    "vna.trace('S21')\n",
    "\n",
    "# Disable 2 averages, and set IF BW to 1kHz\n",
    "vna.if_bandwidth(1e3)\n",
    "vna.averages_enabled(1)\n",
    "\n",
    "do0d(vna.magnitude,write_period=0.1,do_plot=False)\n"
   ]
  },
  {
   "cell_type": "markdown",
   "metadata": {},
   "source": [
    "Execute power sweep"
   ]
  },
  {
   "cell_type": "code",
   "execution_count": 5,
   "metadata": {},
   "outputs": [
    {
     "name": "stdout",
     "output_type": "stream",
     "text": [
      "Starting experimental run with id: 29. Using 'qcodes.dataset.do1d'\n"
     ]
    },
    {
     "data": {
      "text/plain": [
       "(results #29@C:\\Users\\NQCP-\\Downloads\\p5004b_test.db\n",
       " ---------------------------------------------------\n",
       " pna_power - numeric\n",
       " pna_frequency_axis - array\n",
       " pna_tr1_magnitude - array,\n",
       " (None,),\n",
       " (None,))"
      ]
     },
     "execution_count": 5,
     "metadata": {},
     "output_type": "execute_result"
    }
   ],
   "source": [
    "do1d(vna.power,-80,-50,10,0.1,vna.magnitude,write_period=0.1,do_plot=False)"
   ]
  },
  {
   "cell_type": "code",
   "execution_count": null,
   "metadata": {},
   "outputs": [],
   "source": []
  }
 ],
 "metadata": {
  "kernelspec": {
   "display_name": "qcodes",
   "language": "python",
   "name": "python3"
  },
  "language_info": {
   "codemirror_mode": {
    "name": "ipython",
    "version": 3
   },
   "file_extension": ".py",
   "mimetype": "text/x-python",
   "name": "python",
   "nbconvert_exporter": "python",
   "pygments_lexer": "ipython3",
   "version": "3.9.18"
  }
 },
 "nbformat": 4,
 "nbformat_minor": 2
}
