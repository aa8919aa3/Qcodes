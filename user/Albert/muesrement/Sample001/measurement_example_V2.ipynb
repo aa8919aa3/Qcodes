{
 "cells": [
  {
   "cell_type": "markdown",
   "metadata": {},
   "source": [
    "# Initialization"
   ]
  },
  {
   "cell_type": "markdown",
   "metadata": {},
   "source": [
    "## Import of useful modules:"
   ]
  },
  {
   "cell_type": "code",
   "execution_count": 1,
   "metadata": {},
   "outputs": [],
   "source": [
    "%matplotlib inline\n",
    "import os, sys\n",
    "import matplotlib.pyplot as plt\n",
    "import numpy as np\n",
    "from pprint import pprint\n",
    "from tqdm.notebook import tqdm\n",
    "\n",
    "from time import sleep, monotonic, time\n",
    "\n",
    "\n",
    "import qcodes as qc\n",
    "from qcodes import Parameter\n",
    "from qcodes.dataset.plotting import plot_dataset, plot_by_id\n",
    "from qcodes.utils.metadata import diff_param_values\n",
    "from qcodes.instrument.specialized_parameters import ElapsedTimeParameter\n",
    "from qcodes.dataset.measurements import Measurement\n",
    "\n",
    "# sys.path.append('M:\\\\tnw\\\\ns\\\\qt\\\\2D Topo\\\\code\\\\qcodes')\n",
    "sys.path.append('C:\\\\qcodes')\n",
    "from sweeps import do1d, do2d, time_sweep, measure_until, do1d_until\n",
    "\n",
    "import warnings\n",
    "warnings.filterwarnings('ignore')"
   ]
  },
  {
   "cell_type": "code",
   "execution_count": 2,
   "metadata": {},
   "outputs": [
    {
     "name": "stderr",
     "output_type": "stream",
     "text": [
      "[keithley_24(Keithley2400)] Snapshot: Could not update parameter: volt\n",
      "[keithley_24(Keithley2400)] Snapshot: Could not update parameter: curr\n"
     ]
    },
    {
     "name": "stdout",
     "output_type": "stream",
     "text": [
      "Connected to: KEITHLEY INSTRUMENTS DMM6500 (serial:04518052, firmware:1.7.7b) in 0.23s\n",
      "Connected to: KEITHLEY INSTRUMENTS INC. 2440 (serial:1225508, firmware:C30   Mar 17 2006 09:29:29/A02  /B/A) in 0.03s\n"
     ]
    },
    {
     "name": "stderr",
     "output_type": "stream",
     "text": [
      "[keithley_24(Keithley2400)] Snapshot: Could not update parameter: resistance\n",
      "[keithley_19(Keithley2400)] Snapshot: Could not update parameter: volt\n",
      "[keithley_19(Keithley2400)] Snapshot: Could not update parameter: curr\n",
      "[keithley_19(Keithley2400)] Snapshot: Could not update parameter: resistance\n"
     ]
    },
    {
     "name": "stdout",
     "output_type": "stream",
     "text": [
      "Connected to: KEITHLEY INSTRUMENTS INC. 2400 (serial:0957985, firmware:C32   Oct  4 2010 14:20:11/A02  /K/M) in 0.03s\n"
     ]
    }
   ],
   "source": [
    "fridge_name = 'BF1'\n",
    "# %run ..\\..\\..\\..\\..\\code\\qcodes\\init_fridge.py {fridge_name}\n",
    "%run C:\\\\qcodes\\init_fri2dge.py {fridge_name}\n",
    "# %run ..\\init_fridge.py {fridge_name}"
   ]
  },
  {
   "cell_type": "markdown",
   "metadata": {},
   "source": [
    "Zero dacs and lockin"
   ]
  },
  {
   "cell_type": "code",
   "execution_count": 3,
   "metadata": {},
   "outputs": [
    {
     "name": "stdout",
     "output_type": "stream",
     "text": [
      "Lockin_1 amplitude 0.0 Amp.\n",
      "Lockin_1 sine AC RMS 0.0 Amp.\n",
      "Lockin_1 sensitivity 0.01 Amp.\n"
     ]
    }
   ],
   "source": [
    "lockin_1.amplitude(0e-8)\n",
    "lockin_1.sine_outdc(0e-5)\n",
    "lockin_1_amplitude = lockin_1.amplitude()\n",
    "lockin_1_sine_outdc = lockin_1.sine_outdc()\n",
    "lockin_1_sensitivity = lockin_1.sensitivity()\n",
    "print(f\"Lockin_1 amplitude {lockin_1_amplitude} Amp.\")\n",
    "print(f\"Lockin_1 sine AC RMS {lockin_1_sine_outdc} Amp.\")\n",
    "print(f\"Lockin_1 sensitivity {lockin_1_sensitivity} Amp.\")\n"
   ]
  },
  {
   "cell_type": "code",
   "execution_count": 3,
   "metadata": {},
   "outputs": [],
   "source": [
    "# ivvi.set_dacs_zero()\n",
    "lockin_1.amplitude(0)\n",
    "lockin_1.sine_outdc(0)"
   ]
  },
  {
   "cell_type": "code",
   "execution_count": null,
   "metadata": {
    "slideshow": {
     "slide_type": ""
    },
    "tags": []
   },
   "outputs": [],
   "source": [
    "step=10\n",
    "for i in range (step):\n",
    "    print(keithley_2.amplitude())\n",
    "    sleep(1)"
   ]
  },
  {
   "cell_type": "code",
   "execution_count": null,
   "metadata": {},
   "outputs": [],
   "source": [
    "K213.voltage1(0)\n",
    "# K213.voltage2(0)\n",
    "# K213.voltage3(0.1)\n",
    "# K213.voltage4(0.1)\n",
    "# snapshot_of_station = station.snapshot()\n",
    "# pprint(snapshot_of_station)"
   ]
  },
  {
   "cell_type": "code",
   "execution_count": 4,
   "metadata": {},
   "outputs": [],
   "source": [
    "station.snapshot(update=True);"
   ]
  },
  {
   "cell_type": "code",
   "execution_count": 5,
   "metadata": {},
   "outputs": [
    {
     "name": "stdout",
     "output_type": "stream",
     "text": [
      "{'instruments': {'keithley1': {'functions': {}, 'submodules': {}, 'parameters': {'IDN': {'__class__': 'qcodes.parameters.parameter.Parameter', 'full_name': 'keithley1_IDN', 'value': {'vendor': 'KEITHLEY INSTRUMENTS', 'model': 'DMM6500', 'serial': '04518052', 'firmware': '1.7.7b'}, 'raw_value': {'vendor': 'KEITHLEY INSTRUMENTS', 'model': 'DMM6500', 'serial': '04518052', 'firmware': '1.7.7b'}, 'ts': '2024-05-10 18:37:06', 'instrument': 'qcodes.instrument_drivers.tektronix.Keithley_6500.Keithley_6500', 'instrument_name': 'keithley1', 'label': 'IDN', 'vals': '<Anything>', 'unit': '', 'post_delay': 0, 'inter_delay': 0, 'name': 'IDN'}, 'timeout': {'__class__': 'qcodes.parameters.parameter.Parameter', 'full_name': 'keithley1_timeout', 'value': 10.0, 'raw_value': 10.0, 'ts': '2024-05-10 18:37:06', 'instrument': 'qcodes.instrument_drivers.tektronix.Keithley_6500.Keithley_6500', 'instrument_name': 'keithley1', 'label': 'timeout', 'vals': '<MultiType: Numbers v>=0, Enum: {None}>', 'unit': 's', 'post_delay': 0, 'inter_delay': 0, 'name': 'timeout'}, 'mode': {'__class__': 'qcodes.parameters.parameter.Parameter', 'full_name': 'keithley1_mode', 'value': 'dc voltage', 'raw_value': 'VOLT:DC', 'ts': '2024-05-10 18:37:06', 'instrument': 'qcodes.instrument_drivers.tektronix.Keithley_6500.Keithley_6500', 'instrument_name': 'keithley1', 'label': 'mode', 'vals': \"<Enum: {'dc voltage', 'ac current', 'temperature', 'frequency', 'ac voltage', '4w resistance', 'dc current', '2w resistance'}>\", 'unit': '', 'val_mapping': {'ac current': 'CURR:AC', 'dc current': 'CURR:DC', 'ac voltage': 'VOLT:AC', 'dc voltage': 'VOLT:DC', '2w resistance': 'RES', '4w resistance': 'FRES', 'temperature': 'TEMP', 'frequency': 'FREQ'}, 'post_delay': 0, 'inter_delay': 0, 'name': 'mode'}, 'nplc': {'__class__': 'qcodes.parameters.parameter.Parameter', 'full_name': 'keithley1_nplc', 'value': 1.0, 'raw_value': 1.0, 'ts': '2024-05-10 18:37:06', 'instrument': 'qcodes.instrument_drivers.tektronix.Keithley_6500.Keithley_6500', 'instrument_name': 'keithley1', 'label': 'nplc', 'vals': '<Numbers 0.01<=v<=10>', 'unit': '', 'post_delay': 0, 'inter_delay': 0, 'name': 'nplc'}, 'range': {'__class__': 'qcodes.parameters.parameter.Parameter', 'full_name': 'keithley1_range', 'value': 0.1, 'raw_value': 0.1, 'ts': '2024-05-10 18:37:06', 'instrument': 'qcodes.instrument_drivers.tektronix.Keithley_6500.Keithley_6500', 'instrument_name': 'keithley1', 'label': 'range', 'vals': '<Numbers>', 'unit': '', 'post_delay': 0, 'inter_delay': 0, 'name': 'range'}, 'auto_range_enabled': {'__class__': 'qcodes.parameters.parameter.Parameter', 'full_name': 'keithley1_auto_range_enabled', 'value': True, 'raw_value': True, 'ts': '2024-05-10 18:37:06', 'instrument': 'qcodes.instrument_drivers.tektronix.Keithley_6500.Keithley_6500', 'instrument_name': 'keithley1', 'label': 'auto_range_enabled', 'vals': '<Boolean>', 'unit': '', 'post_delay': 0, 'inter_delay': 0, 'name': 'auto_range_enabled'}, 'digits': {'__class__': 'qcodes.parameters.parameter.Parameter', 'full_name': 'keithley1_digits', 'value': 6, 'raw_value': '6', 'ts': '2024-05-10 18:37:06', 'instrument': 'qcodes.instrument_drivers.tektronix.Keithley_6500.Keithley_6500', 'instrument_name': 'keithley1', 'label': 'digits', 'vals': '<Ints 4<=v<=7>', 'unit': '', 'post_delay': 0, 'inter_delay': 0, 'name': 'digits'}, 'averaging_type': {'__class__': 'qcodes.parameters.parameter.Parameter', 'full_name': 'keithley1_averaging_type', 'value': 'repeat', 'raw_value': 'repeat', 'ts': '2024-05-10 18:37:06', 'instrument': 'qcodes.instrument_drivers.tektronix.Keithley_6500.Keithley_6500', 'instrument_name': 'keithley1', 'label': 'averaging_type', 'vals': \"<Enum: {'moving', 'repeat'}>\", 'unit': '', 'post_delay': 0, 'inter_delay': 0, 'name': 'averaging_type'}, 'averaging_count': {'__class__': 'qcodes.parameters.parameter.Parameter', 'full_name': 'keithley1_averaging_count', 'value': 10, 'raw_value': 10, 'ts': '2024-05-10 18:37:06', 'instrument': 'qcodes.instrument_drivers.tektronix.Keithley_6500.Keithley_6500', 'instrument_name': 'keithley1', 'label': 'averaging_count', 'vals': '<Ints 1<=v<=100>', 'unit': '', 'post_delay': 0, 'inter_delay': 0, 'name': 'averaging_count'}, 'averaging_enabled': {'__class__': 'qcodes.parameters.parameter.Parameter', 'full_name': 'keithley1_averaging_enabled', 'value': True, 'raw_value': True, 'ts': '2024-05-10 18:37:06', 'instrument': 'qcodes.instrument_drivers.tektronix.Keithley_6500.Keithley_6500', 'instrument_name': 'keithley1', 'label': 'averaging_enabled', 'vals': '<Boolean>', 'unit': '', 'post_delay': 0, 'inter_delay': 0, 'name': 'averaging_enabled'}, 'display_backlight': {'__class__': 'qcodes.parameters.parameter.Parameter', 'full_name': 'keithley1_display_backlight', 'value': 'On 50', 'raw_value': 'ON50', 'ts': '2024-05-10 18:37:06', 'instrument': 'qcodes.instrument_drivers.tektronix.Keithley_6500.Keithley_6500', 'instrument_name': 'keithley1', 'label': 'display_backlight', 'vals': \"<Enum: {'On 75', 'On 25', 'On 50', 'Blackout', 'Off', 'On 100'}>\", 'unit': '', 'val_mapping': {'On 100': 'ON100', 'On 75': 'ON75', 'On 50': 'ON50', 'On 25': 'ON25', 'Off': 'OFF', 'Blackout': 'BLACkout'}, 'post_delay': 0, 'inter_delay': 0, 'name': 'display_backlight'}, 'trigger_count': {'__class__': 'qcodes.parameters.parameter.Parameter', 'full_name': 'keithley1_trigger_count', 'value': 1, 'raw_value': '1', 'ts': '2024-05-10 18:37:06', 'instrument': 'qcodes.instrument_drivers.tektronix.Keithley_6500.Keithley_6500', 'instrument_name': 'keithley1', 'label': 'trigger_count', 'vals': \"<MultiType: Ints 1<=v<=9999, Enum: {'maximum', 'default', 'inf', 'minimum'}>\", 'unit': '', 'post_delay': 0, 'inter_delay': 0, 'name': 'trigger_count'}, 'trigger1_delay': {'__class__': 'qcodes.parameters.parameter.Parameter', 'full_name': 'keithley1_trigger1_delay', 'value': 1e-05, 'raw_value': '1E-05', 'ts': '2024-05-10 18:37:06', 'instrument': 'qcodes.instrument_drivers.tektronix.Keithley_6500.Keithley_6500', 'instrument_name': 'keithley1', 'label': 'trigger1_delay', 'vals': '<Numbers 0<=v<=999999.999>', 'unit': 's', 'post_delay': 0, 'inter_delay': 0, 'name': 'trigger1_delay'}, 'trigger1_source': {'__class__': 'qcodes.parameters.parameter.Parameter', 'full_name': 'keithley1_trigger1_source', 'value': 'immediate', 'raw_value': 'NONE', 'ts': '2024-05-10 18:37:06', 'instrument': 'qcodes.instrument_drivers.tektronix.Keithley_6500.Keithley_6500', 'instrument_name': 'keithley1', 'label': 'trigger1_source', 'vals': \"<Enum: {'external', 'timer1', 'notify3', 'bus', 'timer2', 'immediate', 'notify1', 'front-panel', 'notify2', 'timer3', 'timer4'}>\", 'unit': '', 'val_mapping': {'immediate': 'NONE', 'timer1': 'TIM1', 'timer2': 'TIM2', 'timer3': 'TIM3', 'timer4': 'TIM4', 'notify1': 'NOT1', 'notify2': 'NOT2', 'notify3': 'NOT3', 'front-panel': 'DISP', 'bus': 'COMM', 'external': 'EXT'}, 'post_delay': 0, 'inter_delay': 0, 'name': 'trigger1_source'}, 'trigger2_delay': {'__class__': 'qcodes.parameters.parameter.Parameter', 'full_name': 'keithley1_trigger2_delay', 'value': 1e-05, 'raw_value': '1E-05', 'ts': '2024-05-10 18:37:06', 'instrument': 'qcodes.instrument_drivers.tektronix.Keithley_6500.Keithley_6500', 'instrument_name': 'keithley1', 'label': 'trigger2_delay', 'vals': '<Numbers 0<=v<=999999.999>', 'unit': 's', 'post_delay': 0, 'inter_delay': 0, 'name': 'trigger2_delay'}, 'trigger2_source': {'__class__': 'qcodes.parameters.parameter.Parameter', 'full_name': 'keithley1_trigger2_source', 'value': 'immediate', 'raw_value': 'NONE', 'ts': '2024-05-10 18:37:06', 'instrument': 'qcodes.instrument_drivers.tektronix.Keithley_6500.Keithley_6500', 'instrument_name': 'keithley1', 'label': 'trigger2_source', 'vals': \"<Enum: {'external', 'timer1', 'notify3', 'bus', 'timer2', 'immediate', 'notify1', 'front-panel', 'notify2', 'timer3', 'timer4'}>\", 'unit': '', 'val_mapping': {'immediate': 'NONE', 'timer1': 'TIM1', 'timer2': 'TIM2', 'timer3': 'TIM3', 'timer4': 'TIM4', 'notify1': 'NOT1', 'notify2': 'NOT2', 'notify3': 'NOT3', 'front-panel': 'DISP', 'bus': 'COMM', 'external': 'EXT'}, 'post_delay': 0, 'inter_delay': 0, 'name': 'trigger2_source'}, 'trigger3_delay': {'__class__': 'qcodes.parameters.parameter.Parameter', 'full_name': 'keithley1_trigger3_delay', 'value': 1e-05, 'raw_value': '1E-05', 'ts': '2024-05-10 18:37:06', 'instrument': 'qcodes.instrument_drivers.tektronix.Keithley_6500.Keithley_6500', 'instrument_name': 'keithley1', 'label': 'trigger3_delay', 'vals': '<Numbers 0<=v<=999999.999>', 'unit': 's', 'post_delay': 0, 'inter_delay': 0, 'name': 'trigger3_delay'}, 'trigger3_source': {'__class__': 'qcodes.parameters.parameter.Parameter', 'full_name': 'keithley1_trigger3_source', 'value': 'immediate', 'raw_value': 'NONE', 'ts': '2024-05-10 18:37:06', 'instrument': 'qcodes.instrument_drivers.tektronix.Keithley_6500.Keithley_6500', 'instrument_name': 'keithley1', 'label': 'trigger3_source', 'vals': \"<Enum: {'external', 'timer1', 'notify3', 'bus', 'timer2', 'immediate', 'notify1', 'front-panel', 'notify2', 'timer3', 'timer4'}>\", 'unit': '', 'val_mapping': {'immediate': 'NONE', 'timer1': 'TIM1', 'timer2': 'TIM2', 'timer3': 'TIM3', 'timer4': 'TIM4', 'notify1': 'NOT1', 'notify2': 'NOT2', 'notify3': 'NOT3', 'front-panel': 'DISP', 'bus': 'COMM', 'external': 'EXT'}, 'post_delay': 0, 'inter_delay': 0, 'name': 'trigger3_source'}, 'trigger4_delay': {'__class__': 'qcodes.parameters.parameter.Parameter', 'full_name': 'keithley1_trigger4_delay', 'value': 1e-05, 'raw_value': '1E-05', 'ts': '2024-05-10 18:37:06', 'instrument': 'qcodes.instrument_drivers.tektronix.Keithley_6500.Keithley_6500', 'instrument_name': 'keithley1', 'label': 'trigger4_delay', 'vals': '<Numbers 0<=v<=999999.999>', 'unit': 's', 'post_delay': 0, 'inter_delay': 0, 'name': 'trigger4_delay'}, 'trigger4_source': {'__class__': 'qcodes.parameters.parameter.Parameter', 'full_name': 'keithley1_trigger4_source', 'value': 'immediate', 'raw_value': 'NONE', 'ts': '2024-05-10 18:37:06', 'instrument': 'qcodes.instrument_drivers.tektronix.Keithley_6500.Keithley_6500', 'instrument_name': 'keithley1', 'label': 'trigger4_source', 'vals': \"<Enum: {'external', 'timer1', 'notify3', 'bus', 'timer2', 'immediate', 'notify1', 'front-panel', 'notify2', 'timer3', 'timer4'}>\", 'unit': '', 'val_mapping': {'immediate': 'NONE', 'timer1': 'TIM1', 'timer2': 'TIM2', 'timer3': 'TIM3', 'timer4': 'TIM4', 'notify1': 'NOT1', 'notify2': 'NOT2', 'notify3': 'NOT3', 'front-panel': 'DISP', 'bus': 'COMM', 'external': 'EXT'}, 'post_delay': 0, 'inter_delay': 0, 'name': 'trigger4_source'}, 'trigger_timer': {'__class__': 'qcodes.parameters.parameter.Parameter', 'full_name': 'keithley1_trigger_timer', 'value': 0.0, 'raw_value': '0', 'ts': '2024-05-10 18:37:06', 'instrument': 'qcodes.instrument_drivers.tektronix.Keithley_6500.Keithley_6500', 'instrument_name': 'keithley1', 'label': 'trigger_timer', 'vals': '<Numbers 0<=v<=999999.999>', 'unit': 's', 'post_delay': 0, 'inter_delay': 0, 'name': 'trigger_timer'}, 'amplitude': {'__class__': 'qcodes.parameters.parameter.Parameter', 'full_name': 'keithley1_amplitude', 'value': -1.698417e-05, 'raw_value': -1.698417e-05, 'ts': '2024-05-10 18:37:06', 'instrument': 'qcodes.instrument_drivers.tektronix.Keithley_6500.Keithley_6500', 'instrument_name': 'keithley1', 'label': 'amplitude', 'unit': 'a.u.', 'post_delay': 0, 'inter_delay': 0, 'name': 'amplitude'}}, '__class__': 'qcodes.instrument_drivers.tektronix.Keithley_6500.Keithley_6500', 'label': 'keithley1', 'name': 'keithley1', 'address': 'GPIB0::6::INSTR', 'terminator': '\\n', 'read_terminator': '\\n', 'write_terminator': '\\n', 'timeout': 10.0}, 'lockin_1': {'functions': {'auto_range': {}, 'auto_scale': {}, 'auto_phase': {}, 'reset': {}, 'disable_front_panel': {}, 'enable_front_panel': {}}, 'submodules': {'data_channel_1': {'functions': {}, 'submodules': {}, 'parameters': {'assigned_parameter': {'__class__': 'qcodes.parameters.parameter.Parameter', 'full_name': 'lockin_1_data_channel_1_assigned_parameter', 'value': 'X', 'raw_value': '0', 'ts': '2024-05-10 18:37:06', 'instrument': 'qcodes.instrument_drivers.stanford_research.SR86x.SR86xDataChannel', 'instrument_name': 'lockin_1_data_channel_1', 'label': 'Data channel 0 parameter', 'vals': \"<Enum: {'aux_in1', 'R', 'phase', 'sine_outdc', 'frequency_ext', 'Y', 'aux_in4', 'amplitude', 'Ynoise', 'frequency', 'aux_out1', 'Xnoise', 'X', 'aux_in3', 'aux_out2', 'aux_in2', 'P'}>\", 'unit': '', 'val_mapping': {'X': '0', 'Y': '1', 'R': '2', 'P': '3', 'aux_in1': '4', 'aux_in2': '5', 'aux_in3': '6', 'aux_in4': '7', 'Xnoise': '8', 'Ynoise': '9', 'aux_out1': '10', 'aux_out2': '11', 'phase': '12', 'amplitude': '13', 'sine_outdc': '14', 'frequency': '15', 'frequency_ext': '16'}, 'post_delay': 0, 'inter_delay': 0, 'name': 'assigned_parameter'}}, '__class__': 'qcodes.instrument_drivers.stanford_research.SR86x.SR86xDataChannel', 'label': 'data_channel_1', 'name': 'lockin_1_data_channel_1'}, 'data_channel_2': {'functions': {}, 'submodules': {}, 'parameters': {'assigned_parameter': {'__class__': 'qcodes.parameters.parameter.Parameter', 'full_name': 'lockin_1_data_channel_2_assigned_parameter', 'value': 'Y', 'raw_value': '1', 'ts': '2024-05-10 18:37:06', 'instrument': 'qcodes.instrument_drivers.stanford_research.SR86x.SR86xDataChannel', 'instrument_name': 'lockin_1_data_channel_2', 'label': 'Data channel 1 parameter', 'vals': \"<Enum: {'aux_in1', 'R', 'phase', 'sine_outdc', 'frequency_ext', 'Y', 'aux_in4', 'amplitude', 'Ynoise', 'frequency', 'aux_out1', 'Xnoise', 'X', 'aux_in3', 'aux_out2', 'aux_in2', 'P'}>\", 'unit': '', 'val_mapping': {'X': '0', 'Y': '1', 'R': '2', 'P': '3', 'aux_in1': '4', 'aux_in2': '5', 'aux_in3': '6', 'aux_in4': '7', 'Xnoise': '8', 'Ynoise': '9', 'aux_out1': '10', 'aux_out2': '11', 'phase': '12', 'amplitude': '13', 'sine_outdc': '14', 'frequency': '15', 'frequency_ext': '16'}, 'post_delay': 0, 'inter_delay': 0, 'name': 'assigned_parameter'}}, '__class__': 'qcodes.instrument_drivers.stanford_research.SR86x.SR86xDataChannel', 'label': 'data_channel_2', 'name': 'lockin_1_data_channel_2'}, 'data_channel_3': {'functions': {}, 'submodules': {}, 'parameters': {'assigned_parameter': {'__class__': 'qcodes.parameters.parameter.Parameter', 'full_name': 'lockin_1_data_channel_3_assigned_parameter', 'value': 'R', 'raw_value': '2', 'ts': '2024-05-10 18:37:06', 'instrument': 'qcodes.instrument_drivers.stanford_research.SR86x.SR86xDataChannel', 'instrument_name': 'lockin_1_data_channel_3', 'label': 'Data channel 2 parameter', 'vals': \"<Enum: {'aux_in1', 'R', 'phase', 'sine_outdc', 'frequency_ext', 'Y', 'aux_in4', 'amplitude', 'Ynoise', 'frequency', 'aux_out1', 'Xnoise', 'X', 'aux_in3', 'aux_out2', 'aux_in2', 'P'}>\", 'unit': '', 'val_mapping': {'X': '0', 'Y': '1', 'R': '2', 'P': '3', 'aux_in1': '4', 'aux_in2': '5', 'aux_in3': '6', 'aux_in4': '7', 'Xnoise': '8', 'Ynoise': '9', 'aux_out1': '10', 'aux_out2': '11', 'phase': '12', 'amplitude': '13', 'sine_outdc': '14', 'frequency': '15', 'frequency_ext': '16'}, 'post_delay': 0, 'inter_delay': 0, 'name': 'assigned_parameter'}}, '__class__': 'qcodes.instrument_drivers.stanford_research.SR86x.SR86xDataChannel', 'label': 'data_channel_3', 'name': 'lockin_1_data_channel_3'}, 'data_channel_4': {'functions': {}, 'submodules': {}, 'parameters': {'assigned_parameter': {'__class__': 'qcodes.parameters.parameter.Parameter', 'full_name': 'lockin_1_data_channel_4_assigned_parameter', 'value': 'P', 'raw_value': '3', 'ts': '2024-05-10 18:37:06', 'instrument': 'qcodes.instrument_drivers.stanford_research.SR86x.SR86xDataChannel', 'instrument_name': 'lockin_1_data_channel_4', 'label': 'Data channel 3 parameter', 'vals': \"<Enum: {'aux_in1', 'R', 'phase', 'sine_outdc', 'frequency_ext', 'Y', 'aux_in4', 'amplitude', 'Ynoise', 'frequency', 'aux_out1', 'Xnoise', 'X', 'aux_in3', 'aux_out2', 'aux_in2', 'P'}>\", 'unit': '', 'val_mapping': {'X': '0', 'Y': '1', 'R': '2', 'P': '3', 'aux_in1': '4', 'aux_in2': '5', 'aux_in3': '6', 'aux_in4': '7', 'Xnoise': '8', 'Ynoise': '9', 'aux_out1': '10', 'aux_out2': '11', 'phase': '12', 'amplitude': '13', 'sine_outdc': '14', 'frequency': '15', 'frequency_ext': '16'}, 'post_delay': 0, 'inter_delay': 0, 'name': 'assigned_parameter'}}, '__class__': 'qcodes.instrument_drivers.stanford_research.SR86x.SR86xDataChannel', 'label': 'data_channel_4', 'name': 'lockin_1_data_channel_4'}, 'data_channels': {'snapshotable': False, '__class__': 'qcodes.instrument.channel.ChannelTuple'}, 'buffer': {'functions': {}, 'submodules': {}, 'parameters': {'capture_length_in_kb': {'__class__': 'qcodes.parameters.parameter.Parameter', 'full_name': 'lockin_1_lockin_1_buffer_capture_length_in_kb', 'value': 4, 'raw_value': '4', 'ts': '2024-05-10 18:37:06', 'instrument': 'qcodes.instrument_drivers.stanford_research.SR86x.SR86xBuffer', 'instrument_name': 'lockin_1_lockin_1_buffer', 'label': 'get/set capture length', 'unit': 'kB', 'post_delay': 0, 'inter_delay': 0, 'name': 'capture_length_in_kb'}, 'capture_config': {'__class__': 'qcodes.parameters.parameter.Parameter', 'full_name': 'lockin_1_lockin_1_buffer_capture_config', 'value': 'X,Y,R,T', 'raw_value': '3', 'ts': '2024-05-10 18:37:06', 'instrument': 'qcodes.instrument_drivers.stanford_research.SR86x.SR86xBuffer', 'instrument_name': 'lockin_1_lockin_1_buffer', 'label': 'capture configuration', 'vals': \"<Enum: {'R,T', 'X,Y,R,T', 'X,Y', 'X'}>\", 'unit': '', 'val_mapping': {'X': '0', 'X,Y': '1', 'R,T': '2', 'X,Y,R,T': '3'}, 'post_delay': 0, 'inter_delay': 0, 'name': 'capture_config'}, 'capture_rate_max': {'__class__': 'qcodes.parameters.parameter.Parameter', 'full_name': 'lockin_1_lockin_1_buffer_capture_rate_max', 'value': 39062.5, 'raw_value': '39062.5', 'ts': '2024-05-10 18:37:06', 'instrument': 'qcodes.instrument_drivers.stanford_research.SR86x.SR86xBuffer', 'instrument_name': 'lockin_1_lockin_1_buffer', 'label': 'capture rate maximum', 'unit': '', 'post_delay': 0, 'inter_delay': 0, 'name': 'capture_rate_max'}, 'capture_rate': {'__class__': 'qcodes.parameters.parameter.Parameter', 'full_name': 'lockin_1_lockin_1_buffer_capture_rate', 'value': 39062.5, 'raw_value': '39062.5', 'ts': '2024-05-10 18:37:06', 'instrument': 'qcodes.instrument_drivers.stanford_research.SR86x.SR86xBuffer', 'instrument_name': 'lockin_1_lockin_1_buffer', 'label': 'capture rate raw', 'unit': '', 'post_delay': 0, 'inter_delay': 0, 'name': 'capture_rate'}, 'capture_status': {'__class__': 'qcodes.parameters.parameter.Parameter', 'full_name': 'lockin_1_lockin_1_buffer_capture_status', 'value': '0', 'raw_value': '0', 'ts': '2024-05-10 18:37:06', 'instrument': 'qcodes.instrument_drivers.stanford_research.SR86x.SR86xBuffer', 'instrument_name': 'lockin_1_lockin_1_buffer', 'label': 'capture status', 'unit': '', 'post_delay': 0, 'inter_delay': 0, 'name': 'capture_status'}, 'count_capture_bytes': {'__class__': 'qcodes.parameters.parameter.Parameter', 'full_name': 'lockin_1_lockin_1_buffer_count_capture_bytes', 'value': 0, 'raw_value': '0', 'ts': '2024-05-10 18:37:06', 'instrument': 'qcodes.instrument_drivers.stanford_research.SR86x.SR86xBuffer', 'instrument_name': 'lockin_1_lockin_1_buffer', 'label': 'captured bytes', 'unit': 'B', 'post_delay': 0, 'inter_delay': 0, 'name': 'count_capture_bytes'}, 'count_capture_kilobytes': {'__class__': 'qcodes.parameters.parameter.Parameter', 'full_name': 'lockin_1_lockin_1_buffer_count_capture_kilobytes', 'value': None, 'raw_value': None, 'ts': None, 'instrument': 'qcodes.instrument_drivers.stanford_research.SR86x.SR86xBuffer', 'instrument_name': 'lockin_1_lockin_1_buffer', 'label': 'captured kilobytes', 'unit': 'kB', 'post_delay': 0, 'inter_delay': 0, 'name': 'count_capture_kilobytes'}, 'X': {'__class__': 'qcodes.instrument_drivers.stanford_research.SR86x.SR86xBufferReadout', 'full_name': 'lockin_1_lockin_1_buffer_X', 'ts': None, 'instrument': 'qcodes.instrument_drivers.stanford_research.SR86x.SR86xBuffer', 'instrument_name': 'lockin_1_lockin_1_buffer', 'setpoint_units': ('s',), 'setpoint_labels': ('Time',), 'setpoint_names': ('Time',), 'label': 'X', 'unit': 'V', 'post_delay': 0, 'inter_delay': 0, 'name': 'X'}, 'Y': {'__class__': 'qcodes.instrument_drivers.stanford_research.SR86x.SR86xBufferReadout', 'full_name': 'lockin_1_lockin_1_buffer_Y', 'ts': None, 'instrument': 'qcodes.instrument_drivers.stanford_research.SR86x.SR86xBuffer', 'instrument_name': 'lockin_1_lockin_1_buffer', 'setpoint_units': ('s',), 'setpoint_labels': ('Time',), 'setpoint_names': ('Time',), 'label': 'Y', 'unit': 'V', 'post_delay': 0, 'inter_delay': 0, 'name': 'Y'}, 'R': {'__class__': 'qcodes.instrument_drivers.stanford_research.SR86x.SR86xBufferReadout', 'full_name': 'lockin_1_lockin_1_buffer_R', 'ts': None, 'instrument': 'qcodes.instrument_drivers.stanford_research.SR86x.SR86xBuffer', 'instrument_name': 'lockin_1_lockin_1_buffer', 'setpoint_units': ('s',), 'setpoint_labels': ('Time',), 'setpoint_names': ('Time',), 'label': 'R', 'unit': 'V', 'post_delay': 0, 'inter_delay': 0, 'name': 'R'}, 'T': {'__class__': 'qcodes.instrument_drivers.stanford_research.SR86x.SR86xBufferReadout', 'full_name': 'lockin_1_lockin_1_buffer_T', 'ts': None, 'instrument': 'qcodes.instrument_drivers.stanford_research.SR86x.SR86xBuffer', 'instrument_name': 'lockin_1_lockin_1_buffer', 'setpoint_units': ('s',), 'setpoint_labels': ('Time',), 'setpoint_names': ('Time',), 'label': 'T', 'unit': 'deg', 'post_delay': 0, 'inter_delay': 0, 'name': 'T'}}, '__class__': 'qcodes.instrument_drivers.stanford_research.SR86x.SR86xBuffer', 'label': 'lockin_1_buffer', 'name': 'lockin_1_lockin_1_buffer'}}, 'parameters': {'IDN': {'__class__': 'qcodes.parameters.parameter.Parameter', 'full_name': 'lockin_1_IDN', 'value': {'vendor': 'Stanford_Research_Systems', 'model': 'SR860', 'serial': '004608', 'firmware': 'V1.51'}, 'raw_value': {'vendor': 'Stanford_Research_Systems', 'model': 'SR860', 'serial': '004608', 'firmware': 'V1.51'}, 'ts': '2024-05-10 18:37:06', 'instrument': 'qcodes.instrument_drivers.stanford_research.SR860.SR860', 'instrument_name': 'lockin_1', 'label': 'IDN', 'vals': '<Anything>', 'unit': '', 'post_delay': 0, 'inter_delay': 0, 'name': 'IDN'}, 'timeout': {'__class__': 'qcodes.parameters.parameter.Parameter', 'full_name': 'lockin_1_timeout', 'value': 10.0, 'raw_value': 10.0, 'ts': '2024-05-10 18:37:06', 'instrument': 'qcodes.instrument_drivers.stanford_research.SR860.SR860', 'instrument_name': 'lockin_1', 'label': 'timeout', 'vals': '<MultiType: Numbers v>=0, Enum: {None}>', 'unit': 's', 'post_delay': 0, 'inter_delay': 0, 'name': 'timeout'}, 'frequency': {'__class__': 'qcodes.parameters.parameter.Parameter', 'full_name': 'lockin_1_frequency', 'value': 352.25, 'raw_value': '352.25', 'ts': '2024-05-10 18:37:06', 'instrument': 'qcodes.instrument_drivers.stanford_research.SR860.SR860', 'instrument_name': 'lockin_1', 'label': 'Frequency', 'vals': '<Numbers 0.001<=v<=500000.0>', 'unit': 'Hz', 'post_delay': 0, 'inter_delay': 0, 'name': 'frequency'}, 'sine_outdc': {'__class__': 'qcodes.parameters.parameter.Parameter', 'full_name': 'lockin_1_sine_outdc', 'value': 0.0, 'raw_value': '0', 'ts': '2024-05-10 18:37:06', 'instrument': 'qcodes.instrument_drivers.stanford_research.SR860.SR860', 'instrument_name': 'lockin_1', 'label': 'Sine out dc level', 'vals': '<Numbers -5<=v<=5>', 'unit': 'V', 'post_delay': 0, 'inter_delay': 0, 'name': 'sine_outdc'}, 'amplitude': {'__class__': 'qcodes.parameters.parameter.Parameter', 'full_name': 'lockin_1_amplitude', 'value': 0.0, 'raw_value': '0', 'ts': '2024-05-10 18:37:06', 'instrument': 'qcodes.instrument_drivers.stanford_research.SR860.SR860', 'instrument_name': 'lockin_1', 'label': 'Amplitude', 'vals': '<Numbers 0<=v<=2>', 'unit': 'V', 'post_delay': 0, 'inter_delay': 0, 'name': 'amplitude'}, 'harmonic': {'__class__': 'qcodes.parameters.parameter.Parameter', 'full_name': 'lockin_1_harmonic', 'value': 1, 'raw_value': '1', 'ts': '2024-05-10 18:37:06', 'instrument': 'qcodes.instrument_drivers.stanford_research.SR860.SR860', 'instrument_name': 'lockin_1', 'label': 'Harmonic', 'vals': '<Ints 1<=v<=99>', 'unit': '', 'post_delay': 0, 'inter_delay': 0, 'name': 'harmonic'}, 'phase': {'__class__': 'qcodes.parameters.parameter.Parameter', 'full_name': 'lockin_1_phase', 'value': 0.0, 'raw_value': '0', 'ts': '2024-05-10 18:37:06', 'instrument': 'qcodes.instrument_drivers.stanford_research.SR860.SR860', 'instrument_name': 'lockin_1', 'label': 'Phase', 'vals': '<Numbers -360000.0<=v<=360000.0>', 'unit': 'deg', 'post_delay': 0, 'inter_delay': 0, 'name': 'phase'}, 'sensitivity': {'__class__': 'qcodes.parameters.parameter.Parameter', 'full_name': 'lockin_1_sensitivity', 'value': 0.01, 'raw_value': '6', 'ts': '2024-05-10 18:37:06', 'instrument': 'qcodes.instrument_drivers.stanford_research.SR860.SR860', 'instrument_name': 'lockin_1', 'label': 'Sensitivity', 'vals': '<Enum: {0.5, 1, 0.2, 2e-09, 5e-05, 1e-08, 2e-08, 0.0001, 0.05, 0.0002, 5e-06, 5e-08, 1e-06, 0.1, 1e-09, 5e-09, 2e-05, 0.02, 5e-07, 1e-05, 0.01, 2e-07, 0.005, 1e-07, 2e-06, 0.002, 0.001, 0.0005}>', 'unit': 'V', 'post_delay': 0, 'inter_delay': 0, 'name': 'sensitivity'}, 'filter_slope': {'__class__': 'qcodes.parameters.parameter.Parameter', 'full_name': 'lockin_1_filter_slope', 'value': 12, 'raw_value': '1', 'ts': '2024-05-10 18:37:06', 'instrument': 'qcodes.instrument_drivers.stanford_research.SR860.SR860', 'instrument_name': 'lockin_1', 'label': 'Filter slope', 'vals': '<Enum: {24, 18, 12, 6}>', 'unit': 'dB/oct', 'val_mapping': {6: 0, 12: 1, 18: 2, 24: 3}, 'post_delay': 0, 'inter_delay': 0, 'name': 'filter_slope'}, 'sync_filter': {'__class__': 'qcodes.parameters.parameter.Parameter', 'full_name': 'lockin_1_sync_filter', 'value': 'OFF', 'raw_value': '0', 'ts': '2024-05-10 18:37:06', 'instrument': 'qcodes.instrument_drivers.stanford_research.SR860.SR860', 'instrument_name': 'lockin_1', 'label': 'Sync filter', 'vals': \"<Enum: {'ON', 'OFF'}>\", 'unit': '', 'val_mapping': {'OFF': 0, 'ON': 1}, 'post_delay': 0, 'inter_delay': 0, 'name': 'sync_filter'}, 'noise_bandwidth': {'__class__': 'qcodes.parameters.parameter.Parameter', 'full_name': 'lockin_1_noise_bandwidth', 'value': 12.5, 'raw_value': '12.5', 'ts': '2024-05-10 18:37:06', 'instrument': 'qcodes.instrument_drivers.stanford_research.SR860.SR860', 'instrument_name': 'lockin_1', 'label': 'Noise bandwidth', 'unit': 'Hz', 'post_delay': 0, 'inter_delay': 0, 'name': 'noise_bandwidth'}, 'signal_strength': {'__class__': 'qcodes.parameters.parameter.Parameter', 'full_name': 'lockin_1_signal_strength', 'value': 0, 'raw_value': '0', 'ts': '2024-05-10 18:37:06', 'instrument': 'qcodes.instrument_drivers.stanford_research.SR860.SR860', 'instrument_name': 'lockin_1', 'label': 'Signal strength indicator', 'unit': '', 'post_delay': 0, 'inter_delay': 0, 'name': 'signal_strength'}, 'signal_input': {'__class__': 'qcodes.parameters.parameter.Parameter', 'full_name': 'lockin_1_signal_input', 'value': 'voltage', 'raw_value': '0', 'ts': '2024-05-10 18:37:06', 'instrument': 'qcodes.instrument_drivers.stanford_research.SR860.SR860', 'instrument_name': 'lockin_1', 'label': 'Signal input', 'vals': \"<Enum: {'voltage', 'current'}>\", 'unit': '', 'post_delay': 0, 'inter_delay': 0, 'name': 'signal_input'}, 'input_range': {'__class__': 'qcodes.parameters.parameter.Parameter', 'full_name': 'lockin_1_input_range', 'value': 0.3, 'raw_value': '1', 'ts': '2024-05-10 18:37:06', 'instrument': 'qcodes.instrument_drivers.stanford_research.SR860.SR860', 'instrument_name': 'lockin_1', 'label': 'Input range', 'vals': '<Enum: {0.3, 1, 0.1, 0.03, 0.01}>', 'unit': 'V', 'val_mapping': {1: 0, 0.3: 1, 0.1: 2, 0.03: 3, 0.01: 4}, 'post_delay': 0, 'inter_delay': 0, 'name': 'input_range'}, 'input_config': {'__class__': 'qcodes.parameters.parameter.Parameter', 'full_name': 'lockin_1_input_config', 'value': 'a', 'raw_value': '0', 'ts': '2024-05-10 18:37:06', 'instrument': 'qcodes.instrument_drivers.stanford_research.SR860.SR860', 'instrument_name': 'lockin_1', 'label': 'Input configuration', 'vals': \"<Enum: {'a', 'a-b'}>\", 'unit': '', 'val_mapping': {'a': 0, 'a-b': 1}, 'post_delay': 0, 'inter_delay': 0, 'name': 'input_config'}, 'input_shield': {'__class__': 'qcodes.parameters.parameter.Parameter', 'full_name': 'lockin_1_input_shield', 'value': 'float', 'raw_value': '0', 'ts': '2024-05-10 18:37:06', 'instrument': 'qcodes.instrument_drivers.stanford_research.SR860.SR860', 'instrument_name': 'lockin_1', 'label': 'Input shield', 'vals': \"<Enum: {'ground', 'float'}>\", 'unit': '', 'val_mapping': {'float': 0, 'ground': 1}, 'post_delay': 0, 'inter_delay': 0, 'name': 'input_shield'}, 'input_gain': {'__class__': 'qcodes.parameters.parameter.Parameter', 'full_name': 'lockin_1_input_gain', 'value': 1000000.0, 'raw_value': '0', 'ts': '2024-05-10 18:37:06', 'instrument': 'qcodes.instrument_drivers.stanford_research.SR860.SR860', 'instrument_name': 'lockin_1', 'label': 'Input gain', 'vals': '<Enum: {1000000.0, 100000000.0}>', 'unit': 'ohm', 'val_mapping': {1000000.0: 0, 100000000.0: 1}, 'post_delay': 0, 'inter_delay': 0, 'name': 'input_gain'}, 'adv_filter': {'__class__': 'qcodes.parameters.parameter.Parameter', 'full_name': 'lockin_1_adv_filter', 'value': 'OFF', 'raw_value': '0', 'ts': '2024-05-10 18:37:06', 'instrument': 'qcodes.instrument_drivers.stanford_research.SR860.SR860', 'instrument_name': 'lockin_1', 'label': 'Advanced filter', 'vals': \"<Enum: {'ON', 'OFF'}>\", 'unit': '', 'val_mapping': {'OFF': 0, 'ON': 1}, 'post_delay': 0, 'inter_delay': 0, 'name': 'adv_filter'}, 'input_coupling': {'__class__': 'qcodes.parameters.parameter.Parameter', 'full_name': 'lockin_1_input_coupling', 'value': 'ac', 'raw_value': '0', 'ts': '2024-05-10 18:37:06', 'instrument': 'qcodes.instrument_drivers.stanford_research.SR860.SR860', 'instrument_name': 'lockin_1', 'label': 'Input coupling', 'vals': \"<Enum: {'dc', 'ac'}>\", 'unit': '', 'val_mapping': {'ac': 0, 'dc': 1}, 'post_delay': 0, 'inter_delay': 0, 'name': 'input_coupling'}, 'time_constant': {'__class__': 'qcodes.parameters.parameter.Parameter', 'full_name': 'lockin_1_time_constant', 'value': 0.01, 'raw_value': '8', 'ts': '2024-05-10 18:37:06', 'instrument': 'qcodes.instrument_drivers.stanford_research.SR860.SR860', 'instrument_name': 'lockin_1', 'label': 'Time constant', 'vals': '<Enum: {0.3, 1, 3, 10, 10000.0, 0.0001, 30, 300, 30000.0, 3000.0, 3e-06, 3e-05, 1e-06, 0.03, 0.1, 0.0003, 100, 1e-05, 1000.0, 0.01, 0.003, 0.001}>', 'unit': 's', 'val_mapping': {1e-06: 0, 3e-06: 1, 1e-05: 2, 3e-05: 3, 0.0001: 4, 0.0003: 5, 0.001: 6, 0.003: 7, 0.01: 8, 0.03: 9, 0.1: 10, 0.3: 11, 1: 12, 3: 13, 10: 14, 30: 15, 100: 16, 300: 17, 1000.0: 18, 3000.0: 19, 10000.0: 20, 30000.0: 21}, 'post_delay': 0, 'inter_delay': 0, 'name': 'time_constant'}, 'external_reference_trigger': {'__class__': 'qcodes.parameters.parameter.Parameter', 'full_name': 'lockin_1_external_reference_trigger', 'value': 'SIN', 'raw_value': '0', 'ts': '2024-05-10 18:37:06', 'instrument': 'qcodes.instrument_drivers.stanford_research.SR860.SR860', 'instrument_name': 'lockin_1', 'label': 'External reference trigger mode', 'vals': \"<Enum: {'SIN', 'POS', 'POSTTL', 'NEGTTL', 'NEG'}>\", 'unit': '', 'val_mapping': {'SIN': 0, 'POS': 1, 'POSTTL': 1, 'NEG': 2, 'NEGTTL': 2}, 'post_delay': 0, 'inter_delay': 0, 'name': 'external_reference_trigger'}, 'reference_source': {'__class__': 'qcodes.parameters.parameter.Parameter', 'full_name': 'lockin_1_reference_source', 'value': 'INT', 'raw_value': '0', 'ts': '2024-05-10 18:37:06', 'instrument': 'qcodes.instrument_drivers.stanford_research.SR860.SR860', 'instrument_name': 'lockin_1', 'label': 'Reference source', 'vals': \"<Enum: {'CHOP', 'EXT', 'INT', 'DUAL'}>\", 'unit': '', 'val_mapping': {'INT': 0, 'EXT': 1, 'DUAL': 2, 'CHOP': 3}, 'post_delay': 0, 'inter_delay': 0, 'name': 'reference_source'}, 'external_reference_trigger_input_resistance': {'__class__': 'qcodes.parameters.parameter.Parameter', 'full_name': 'lockin_1_external_reference_trigger_input_resistance', 'value': 1, 'raw_value': '1', 'ts': '2024-05-10 18:37:06', 'instrument': 'qcodes.instrument_drivers.stanford_research.SR860.SR860', 'instrument_name': 'lockin_1', 'label': 'External reference trigger input resistance', 'vals': \"<Enum: {0, 1, '1M', '1MEG', '50OHMS', '50'}>\", 'unit': '', 'val_mapping': {'50': 0, '50OHMS': 0, 0: 0, '1M': 1, '1MEG': 1, 1: 1}, 'post_delay': 0, 'inter_delay': 0, 'name': 'external_reference_trigger_input_resistance'}, 'X': {'__class__': 'qcodes.parameters.parameter.Parameter', 'full_name': 'lockin_1_X', 'value': 3.2731793453e-07, 'raw_value': '3.2731793453e-07', 'ts': '2024-05-10 18:37:06', 'instrument': 'qcodes.instrument_drivers.stanford_research.SR860.SR860', 'instrument_name': 'lockin_1', 'label': 'In-phase Magnitude', 'unit': 'V', 'post_delay': 0, 'inter_delay': 0, 'name': 'X'}, 'Y': {'__class__': 'qcodes.parameters.parameter.Parameter', 'full_name': 'lockin_1_Y', 'value': 1.9490826162e-06, 'raw_value': '1.9490826162e-06', 'ts': '2024-05-10 18:37:06', 'instrument': 'qcodes.instrument_drivers.stanford_research.SR860.SR860', 'instrument_name': 'lockin_1', 'label': 'Out-phase Magnitude', 'unit': 'V', 'post_delay': 0, 'inter_delay': 0, 'name': 'Y'}, 'R': {'__class__': 'qcodes.parameters.parameter.Parameter', 'full_name': 'lockin_1_R', 'value': 7.4252210425e-07, 'raw_value': '7.4252210425e-07', 'ts': '2024-05-10 18:37:06', 'instrument': 'qcodes.instrument_drivers.stanford_research.SR860.SR860', 'instrument_name': 'lockin_1', 'label': 'Magnitude', 'unit': 'V', 'post_delay': 0, 'inter_delay': 0, 'name': 'R'}, 'P': {'__class__': 'qcodes.parameters.parameter.Parameter', 'full_name': 'lockin_1_P', 'value': 38.673404694, 'raw_value': '38.673404694', 'ts': '2024-05-10 18:37:06', 'instrument': 'qcodes.instrument_drivers.stanford_research.SR860.SR860', 'instrument_name': 'lockin_1', 'label': 'Phase', 'unit': 'deg', 'post_delay': 0, 'inter_delay': 0, 'name': 'P'}, 'complex_voltage': {'__class__': 'qcodes.parameters.parameter.Parameter', 'full_name': 'lockin_1_complex_voltage', 'value': (-6.8126945507e-07+1.0654779317e-06j), 'raw_value': (-6.8126945507e-07+1.0654779317e-06j), 'ts': '2024-05-10 18:37:06', 'instrument': 'qcodes.instrument_drivers.stanford_research.SR860.SR860', 'instrument_name': 'lockin_1', 'label': 'Voltage', 'vals': '<Complex Number>', 'unit': 'V', 'post_delay': 0, 'inter_delay': 0, 'name': 'complex_voltage'}, 'X_offset': {'__class__': 'qcodes.parameters.parameter.Parameter', 'full_name': 'lockin_1_X_offset', 'value': 0.79999995232, 'raw_value': '0.79999995232', 'ts': '2024-05-10 18:37:06', 'instrument': 'qcodes.instrument_drivers.stanford_research.SR860.SR860', 'instrument_name': 'lockin_1', 'label': 'X offset ', 'vals': '<Numbers -999.99<=v<=999.99>', 'unit': '%', 'post_delay': 0, 'inter_delay': 0, 'name': 'X_offset'}, 'Y_offset': {'__class__': 'qcodes.parameters.parameter.Parameter', 'full_name': 'lockin_1_Y_offset', 'value': 0.0, 'raw_value': '0', 'ts': '2024-05-10 18:37:06', 'instrument': 'qcodes.instrument_drivers.stanford_research.SR860.SR860', 'instrument_name': 'lockin_1', 'label': 'Y offset', 'vals': '<Numbers -999.99<=v<=999.99>', 'unit': '%', 'post_delay': 0, 'inter_delay': 0, 'name': 'Y_offset'}, 'R_offset': {'__class__': 'qcodes.parameters.parameter.Parameter', 'full_name': 'lockin_1_R_offset', 'value': 18.579999924, 'raw_value': '18.579999924', 'ts': '2024-05-10 18:37:06', 'instrument': 'qcodes.instrument_drivers.stanford_research.SR860.SR860', 'instrument_name': 'lockin_1', 'label': 'R offset', 'vals': '<Numbers -999.99<=v<=999.99>', 'unit': '%', 'post_delay': 0, 'inter_delay': 0, 'name': 'R_offset'}, 'X_expand': {'__class__': 'qcodes.parameters.parameter.Parameter', 'full_name': 'lockin_1_X_expand', 'value': 'OFF', 'raw_value': '0', 'ts': '2024-05-10 18:37:06', 'instrument': 'qcodes.instrument_drivers.stanford_research.SR860.SR860', 'instrument_name': 'lockin_1', 'label': 'X expand multiplier', 'vals': \"<Enum: {'X10', 'OFF', 'X100'}>\", 'unit': '', 'val_mapping': {'OFF': '0', 'X10': '1', 'X100': '2'}, 'post_delay': 0, 'inter_delay': 0, 'name': 'X_expand'}, 'Y_expand': {'__class__': 'qcodes.parameters.parameter.Parameter', 'full_name': 'lockin_1_Y_expand', 'value': 'X10', 'raw_value': '1', 'ts': '2024-05-10 18:37:06', 'instrument': 'qcodes.instrument_drivers.stanford_research.SR860.SR860', 'instrument_name': 'lockin_1', 'label': 'Y expand multiplier', 'vals': \"<Enum: {'X10', 'OFF', 'X100'}>\", 'unit': '', 'val_mapping': {'OFF': 0, 'X10': 1, 'X100': 2}, 'post_delay': 0, 'inter_delay': 0, 'name': 'Y_expand'}, 'R_expand': {'__class__': 'qcodes.parameters.parameter.Parameter', 'full_name': 'lockin_1_R_expand', 'value': 'OFF', 'raw_value': '0', 'ts': '2024-05-10 18:37:06', 'instrument': 'qcodes.instrument_drivers.stanford_research.SR860.SR860', 'instrument_name': 'lockin_1', 'label': 'R expand multiplier', 'vals': \"<Enum: {'X10', 'OFF', 'X100'}>\", 'unit': '', 'val_mapping': {'OFF': 0, 'X10': 1, 'X100': 2}, 'post_delay': 0, 'inter_delay': 0, 'name': 'R_expand'}, 'aux_in0': {'__class__': 'qcodes.parameters.parameter.Parameter', 'full_name': 'lockin_1_aux_in0', 'value': -0.0010571479797, 'raw_value': '-0.0010571479797', 'ts': '2024-05-10 18:37:06', 'instrument': 'qcodes.instrument_drivers.stanford_research.SR860.SR860', 'instrument_name': 'lockin_1', 'label': 'Aux input 0', 'unit': 'V', 'post_delay': 0, 'inter_delay': 0, 'name': 'aux_in0'}, 'aux_out0': {'__class__': 'qcodes.parameters.parameter.Parameter', 'full_name': 'lockin_1_aux_out0', 'value': 0.0, 'raw_value': '0', 'ts': '2024-05-10 18:37:06', 'instrument': 'qcodes.instrument_drivers.stanford_research.SR860.SR860', 'instrument_name': 'lockin_1', 'label': 'Aux output 0', 'unit': 'V', 'post_delay': 0, 'inter_delay': 0, 'name': 'aux_out0'}, 'aux_in1': {'__class__': 'qcodes.parameters.parameter.Parameter', 'full_name': 'lockin_1_aux_in1', 'value': -0.0013561248779, 'raw_value': '-0.0013561248779', 'ts': '2024-05-10 18:37:06', 'instrument': 'qcodes.instrument_drivers.stanford_research.SR860.SR860', 'instrument_name': 'lockin_1', 'label': 'Aux input 1', 'unit': 'V', 'post_delay': 0, 'inter_delay': 0, 'name': 'aux_in1'}, 'aux_out1': {'__class__': 'qcodes.parameters.parameter.Parameter', 'full_name': 'lockin_1_aux_out1', 'value': 0.0, 'raw_value': '0', 'ts': '2024-05-10 18:37:06', 'instrument': 'qcodes.instrument_drivers.stanford_research.SR860.SR860', 'instrument_name': 'lockin_1', 'label': 'Aux output 1', 'unit': 'V', 'post_delay': 0, 'inter_delay': 0, 'name': 'aux_out1'}, 'aux_in2': {'__class__': 'qcodes.parameters.parameter.Parameter', 'full_name': 'lockin_1_aux_in2', 'value': -0.0015935897827, 'raw_value': '-0.0015935897827', 'ts': '2024-05-10 18:37:06', 'instrument': 'qcodes.instrument_drivers.stanford_research.SR860.SR860', 'instrument_name': 'lockin_1', 'label': 'Aux input 2', 'unit': 'V', 'post_delay': 0, 'inter_delay': 0, 'name': 'aux_in2'}, 'aux_out2': {'__class__': 'qcodes.parameters.parameter.Parameter', 'full_name': 'lockin_1_aux_out2', 'value': 0.0, 'raw_value': '0', 'ts': '2024-05-10 18:37:06', 'instrument': 'qcodes.instrument_drivers.stanford_research.SR860.SR860', 'instrument_name': 'lockin_1', 'label': 'Aux output 2', 'unit': 'V', 'post_delay': 0, 'inter_delay': 0, 'name': 'aux_out2'}, 'aux_in3': {'__class__': 'qcodes.parameters.parameter.Parameter', 'full_name': 'lockin_1_aux_in3', 'value': -0.0015285015106, 'raw_value': '-0.0015285015106', 'ts': '2024-05-10 18:37:06', 'instrument': 'qcodes.instrument_drivers.stanford_research.SR860.SR860', 'instrument_name': 'lockin_1', 'label': 'Aux input 3', 'unit': 'V', 'post_delay': 0, 'inter_delay': 0, 'name': 'aux_in3'}, 'aux_out3': {'__class__': 'qcodes.parameters.parameter.Parameter', 'full_name': 'lockin_1_aux_out3', 'value': 0.0, 'raw_value': '0', 'ts': '2024-05-10 18:37:06', 'instrument': 'qcodes.instrument_drivers.stanford_research.SR860.SR860', 'instrument_name': 'lockin_1', 'label': 'Aux output 3', 'unit': 'V', 'post_delay': 0, 'inter_delay': 0, 'name': 'aux_out3'}}, '__class__': 'qcodes.instrument_drivers.stanford_research.SR860.SR860', 'label': 'lockin_1', 'name': 'lockin_1', 'address': 'GPIB0::5::INSTR', 'terminator': '\\n', 'read_terminator': '\\n', 'write_terminator': '\\n', 'timeout': 10.0}}, 'parameters': {}, 'components': {}, 'config': None}\n"
     ]
    }
   ],
   "source": [
    "snapshot_of_station = station.snapshot()\n",
    "print(snapshot_of_station)"
   ]
  },
  {
   "cell_type": "code",
   "execution_count": 23,
   "metadata": {},
   "outputs": [
    {
     "name": "stdout",
     "output_type": "stream",
     "text": [
      "0.0004638496\n"
     ]
    }
   ],
   "source": [
    "keithley_24.output(1)\n",
    "keithley_24.rangev(10)\n",
    "keithley_24.volt(0)\n",
    "# keithley_24.output(0)\n",
    "# sleep(1)\n",
    "v_read=keithley1.amplitude()\n",
    "print(v_read)"
   ]
  },
  {
   "cell_type": "markdown",
   "metadata": {},
   "source": [
    "## DAC rates"
   ]
  },
  {
   "cell_type": "code",
   "execution_count": null,
   "metadata": {},
   "outputs": [],
   "source": [
    "# ivvi.dac1.step = 50\n",
    "# ivvi.dac1.inter_delay = 0.05\n",
    "# ivvi.dac2.step = 50\n",
    "# ivvi.dac2.inter_delay = 0.05\n",
    "# ivvi.dac3.step = 1\n",
    "# ivvi.dac3.inter_delay = 0.2"
   ]
  },
  {
   "cell_type": "markdown",
   "metadata": {},
   "source": [
    "## Database initialisation"
   ]
  },
  {
   "cell_type": "markdown",
   "metadata": {},
   "source": [
    "Next, we create a qcodes database. If you want to use an existing one, set reuse 'True'. Database is created in the \"data\" folder. Sample folder is the same as for this script"
   ]
  },
  {
   "cell_type": "code",
   "execution_count": 4,
   "metadata": {},
   "outputs": [
    {
     "name": "stdout",
     "output_type": "stream",
     "text": [
      "Creating a new database file:\n",
      "c:\\qcodes\\personal_scripts\\data\\qcodes_personal_scripts_2024-05-17_02.db\n"
     ]
    }
   ],
   "source": [
    "reuse = False\n",
    "%run C:\\\\qcodes\\init_database.py {reuse}"
   ]
  },
  {
   "cell_type": "markdown",
   "metadata": {},
   "source": [
    "\n",
    "# Scaled parameters"
   ]
  },
  {
   "cell_type": "markdown",
   "metadata": {},
   "source": [
    "It is more convenient to use meaningful parameters with correct units"
   ]
  },
  {
   "cell_type": "code",
   "execution_count": 5,
   "metadata": {},
   "outputs": [],
   "source": [
    "from qcodes import ManualParameter, ScaledParameter"
   ]
  },
  {
   "cell_type": "markdown",
   "metadata": {},
   "source": [
    "## Defining scaled parameters"
   ]
  },
  {
   "cell_type": "code",
   "execution_count": 6,
   "metadata": {},
   "outputs": [
    {
     "data": {
      "text/plain": [
       "'Gain_L2'"
      ]
     },
     "execution_count": 6,
     "metadata": {},
     "output_type": "execute_result"
    }
   ],
   "source": [
    "Irange = Parameter('Irange', label='current range', unit='', set_cmd=None, get_cmd=None)\n",
    "Vrange = Parameter('Vrange', label='voltage range', unit='', set_cmd=None, get_cmd=None)\n",
    "TGrange = Parameter('TGrange', label='Top gate range', unit='', set_cmd=None, get_cmd=None)\n",
    "\n",
    "#division paraemtrs required for simplier update: they used as an argument for scaled paraemtrs of sorce instruments\n",
    "\n",
    "Irange_division = Parameter('Irange_division', \n",
    "                            label='scaled current range', unit='', \n",
    "                            set_cmd=None, get_cmd=lambda : 1 / Irange())\n",
    "\n",
    "Vrange_division = Parameter('Vrange_division', \n",
    "                            label='scaled voltage range', unit='', \n",
    "                            set_cmd=None, get_cmd=lambda : 1 / Vrange())\n",
    "\n",
    "TGrange_division = Parameter('TGrange_division', \n",
    "                             label='scaled Top gate range', unit='', \n",
    "                             set_cmd=None, get_cmd=lambda : 1/ TGrange())\n",
    "\n",
    "Irange_AC_division = Parameter('Irange_AC_division', \n",
    "                               label='scaled current range for lockin', unit='', \n",
    "                               set_cmd=None, get_cmd=lambda : 1 / Irange())\n",
    "\n",
    "Vrange_AC_division = Parameter('Vrange_AC_division', \n",
    "                               label='scaled voltage range for lockin', unit='', \n",
    "                               set_cmd=None, get_cmd=lambda : 1 / Vrange())\n",
    "\n",
    "Gain_K1 = Parameter('Gain_K1', label='Gain K1', unit='', set_cmd=None, get_cmd=None)\n",
    "Gain_K2 = Parameter('Gain_K2', label='Gain K2', unit='', set_cmd=None, get_cmd=None)\n",
    "Gain_L1 = Parameter('Gain_L1', label='Gain L1', unit='', set_cmd=None, get_cmd=None)\n",
    "Gain_L2 = Parameter('Gain_L2', label='Gain L2', unit='', set_cmd=None, get_cmd=None)\n",
    "\n",
    "#Add components\n",
    "station.add_component(Irange)\n",
    "station.add_component(Vrange)\n",
    "station.add_component(TGrange)\n",
    "\n",
    "station.add_component(Irange_division)\n",
    "station.add_component(Vrange_division)\n",
    "station.add_component(TGrange_division)\n",
    "\n",
    "station.add_component(Irange_AC_division)\n",
    "station.add_component(Vrange_AC_division)\n",
    "                             \n",
    "station.add_component(Gain_K1)\n",
    "station.add_component(Gain_K2)\n",
    "station.add_component(Gain_L1)\n",
    "station.add_component(Gain_L2)"
   ]
  },
  {
   "cell_type": "markdown",
   "metadata": {},
   "source": [
    "## IVVI rack parameters - update here during measuerements"
   ]
  },
  {
   "cell_type": "code",
   "execution_count": 7,
   "metadata": {},
   "outputs": [],
   "source": [
    "Irange.set(1e-6)\n",
    "Vrange.set(10e-3)\n",
    "TGrange.set(15)\n",
    "Gain_K1.set(1e2)\n",
    "Gain_K2.set(1e2)\n",
    "# Gain_K3.set(1e2)\n",
    "Gain_L1.set(Gain_K1())\n",
    "Gain_L2.set(Gain_K2())\n",
    "#division parameters are updated automatically"
   ]
  },
  {
   "cell_type": "markdown",
   "metadata": {},
   "source": [
    "## DC parameters\n",
    "Check that devicies are correct!"
   ]
  },
  {
   "cell_type": "code",
   "execution_count": 9,
   "metadata": {},
   "outputs": [
    {
     "data": {
      "text/plain": [
       "'meas_current_K1'"
      ]
     },
     "execution_count": 9,
     "metadata": {},
     "output_type": "execute_result"
    }
   ],
   "source": [
    "# appl_current = ScaledParameter(ivvi.dac1, division = Irange_division, name = 'appl_current', unit = 'A')\n",
    "appl_current = ScaledParameter(keithley_24.volt, division = Irange_division, name = 'appl_current', unit = 'A')\n",
    "appl_voltage = ScaledParameter(keithley_24.volt, division = Vrange_division, name = 'appl_voltage', unit = 'V')\n",
    "# appl_current = ScaledParameter(lockin_1.sine_outdc, division = Irange_division, name = 'appl_current', unit = 'A')\n",
    "# appl_voltage = ScaledParameter(lockin_1.sine_outdc, division = Vrange_division, name = 'appl_voltage', unit = 'V')\n",
    "# appl_TG = ScaledParameter(ivvi.dac3, division = TGrange_division, name = 'appl_TG', unit = 'V')\n",
    "\n",
    "meas_voltage_K1 = ScaledParameter(keithley1.amplitude, division = Gain_K1, name = 'meas_voltage_K1', unit = 'V')\n",
    "# meas_voltage_K2 = ScaledParameter(keithley_2.amplitude, division = Gain_K2, name = 'meas_voltage_K2', unit = 'V')\n",
    "\n",
    "# meas_leakage = ScaledParameter(keithley_2.amplitude, division = Gain_K2, name = 'meas_leakage', unit = 'A')\n",
    "\n",
    "meas_current_K1 = ScaledParameter(keithley1.amplitude, division = Gain_K1, name = 'meas_current_K1', unit = 'A')\n",
    "# meas_current_K2 = ScaledParameter(keithley_2.amplitude, division = Gain_K2, name = 'meas_current_K2', unit = 'A')\n",
    "\n",
    "station.add_component(appl_current)\n",
    "station.add_component(appl_voltage)\n",
    "# station.add_component(appl_TG)\n",
    "station.add_component(meas_voltage_K1)\n",
    "# station.add_component(meas_voltage_K2)\n",
    "# station.add_component(meas_leakage)\n",
    "station.add_component(meas_current_K1)\n",
    "# station.add_component(meas_current_K2)"
   ]
  },
  {
   "cell_type": "markdown",
   "metadata": {},
   "source": [
    "## AC parameters"
   ]
  },
  {
   "cell_type": "code",
   "execution_count": 11,
   "metadata": {},
   "outputs": [
    {
     "data": {
      "text/plain": [
       "'meas_voltage_R_Lockin1'"
      ]
     },
     "execution_count": 11,
     "metadata": {},
     "output_type": "execute_result"
    }
   ],
   "source": [
    "appl_current_AC = ScaledParameter(lockin_1.amplitude, \n",
    "                                  division = Irange_AC_division, name = 'appl_current_AC', unit = 'A')\n",
    "\n",
    "appl_voltage_AC = ScaledParameter(lockin_1.amplitude, \n",
    "                                  division = Vrange_AC_division, name = 'appl_voltage_AC', unit = 'V')\n",
    "\n",
    "station.add_component(appl_current_AC)\n",
    "station.add_component(appl_voltage_AC)\n",
    "\n",
    "meas_voltage_AC_L1 = ScaledParameter(lockin_1.X, division = Gain_L1, name = 'meas_voltage_Lockin1', unit = 'V')\n",
    "meas_current_AC_L1 = ScaledParameter(lockin_1.X, division = Gain_L1, name = 'meas_current_Lockin1', unit = 'A')\n",
    "\n",
    "# meas_voltage_AC_L2 = ScaledParameter(lockin_2.X, division = Gain_L2, name = 'meas_voltage_Lockin2', unit = 'V')\n",
    "# meas_current_AC_L2 = ScaledParameter(lockin_2.X, division = Gain_L2, name = 'meas_current_Lockin2', unit = 'A')\n",
    "\n",
    "station.add_component(meas_voltage_AC_L1)\n",
    "station.add_component(meas_current_AC_L1)\n",
    "\n",
    "# station.add_component(meas_voltage_AC_L2)\n",
    "# station.add_component(meas_current_AC_L2)\n",
    "\n",
    "meas_voltage_AC_L1_R = ScaledParameter(lockin_1.R, division = Gain_L1, name = 'meas_voltage_R_Lockin1', unit = 'V')\n",
    "# meas_voltage_AC_L2_R = ScaledParameter(lockin_2.R, division = Gain_L2, name = 'meas_voltage_R_Lockin2', unit = 'V')\n",
    "\n",
    "station.add_component(meas_voltage_AC_L1_R)\n",
    "# station.add_component(meas_voltage_AC_L2_R)"
   ]
  },
  {
   "cell_type": "markdown",
   "metadata": {},
   "source": [
    "## Another useful example: magnet using dac (Janis)"
   ]
  },
  {
   "cell_type": "markdown",
   "metadata": {},
   "source": [
    ">2231.2 G per A => 0.22312 T per A<br>\n",
    "I source 10mA per V => 1e-5 A per 1mV<br>\n",
    "result: 0.22312 T/A * 1e-5 A/mV"
   ]
  },
  {
   "cell_type": "code",
   "execution_count": null,
   "metadata": {},
   "outputs": [],
   "source": [
    "#check Janis and VectorJanis!\n",
    "#magnetic_field = ScaledParameter(ivvi.dac3, gain = 0.22312e-5, name = 'magnetic_field_dac', unit = 'T')\n",
    "#station.add_component(magnetic_field)"
   ]
  },
  {
   "cell_type": "code",
   "execution_count": 10,
   "metadata": {},
   "outputs": [],
   "source": [
    "def get_R_from_IV(dataid):\n",
    "    dataset = qc.load_by_id(dataid)\n",
    "\n",
    "    voltage = dataset.get_parameter_data()['meas_voltage_K1']['meas_voltage_K1']\n",
    "    current = dataset.get_parameter_data()['meas_voltage_K1']['appl_current']\n",
    "    fit_values = np.polyfit(current,voltage,1)\n",
    "    \n",
    "    return fit_values[0]\n",
    "\n",
    "def get_R_from_IV_2(dataid):\n",
    "    dataset = qc.load_by_id(dataid)\n",
    "\n",
    "    voltage = dataset.get_parameter_data()['meas_voltage_K2']['meas_voltage_K2']\n",
    "    current = dataset.get_parameter_data()['meas_voltage_K2']['appl_current']\n",
    "    fit_values = np.polyfit(current,voltage,1)\n",
    "    \n",
    "    return fit_values[0]"
   ]
  },
  {
   "cell_type": "markdown",
   "metadata": {},
   "source": [
    "# Fridge"
   ]
  },
  {
   "cell_type": "markdown",
   "metadata": {},
   "source": [
    "# Parameter to get R from fast IV"
   ]
  },
  {
   "cell_type": "code",
   "execution_count": null,
   "metadata": {},
   "outputs": [],
   "source": [
    "I_lim_r_IV = 5e-9\n",
    "N_point_r_IV = 40\n",
    "delay_r_IV = 0.02"
   ]
  },
  {
   "cell_type": "code",
   "execution_count": 11,
   "metadata": {},
   "outputs": [],
   "source": [
    "R_val_2 = None\n",
    "\n",
    "def get_R_from_IV_1():\n",
    "    global R_val_2\n",
    "    I_vals = np.linspace(-I_lim_r_IV, I_lim_r_IV, N_point_r_IV)\n",
    "    V_vals_1 = np.zeros_like(I_vals)\n",
    "    V_vals_2 = np.zeros_like(I_vals)\n",
    "    appl_current.post_delay = delay_r_IV\n",
    "    \n",
    "    for i, I_val in enumerate(I_vals):\n",
    "        appl_current(I_val)\n",
    "        V_vals_1[i] = meas_voltage_K1()\n",
    "        V_vals_2[i] = meas_voltage_K2()\n",
    "        \n",
    "    fit_values_1 = np.polyfit(I_vals,V_vals_1,1)\n",
    "    fit_values_2 = np.polyfit(I_vals,V_vals_2,1)\n",
    "    \n",
    "    R_val_2 = fit_values_2[0]\n",
    "    \n",
    "    return fit_values_1[0]\n",
    "\n",
    "def get_R_from_IV_2():\n",
    "    global R_val_2\n",
    "    if R_val_2:\n",
    "        last_val = R_val_2\n",
    "        R_val_2 = None\n",
    "    else:\n",
    "        get_R_from_IV_1()\n",
    "        last_val = R_val_2\n",
    "        R_val_2 = None\n",
    "    \n",
    "    return last_val"
   ]
  },
  {
   "cell_type": "code",
   "execution_count": 49,
   "metadata": {},
   "outputs": [
    {
     "ename": "NameError",
     "evalue": "name 'I_lim_r_IV' is not defined",
     "output_type": "error",
     "traceback": [
      "\u001b[1;31m---------------------------------------------------------------------------\u001b[0m",
      "\u001b[1;31mNameError\u001b[0m                                 Traceback (most recent call last)",
      "Cell \u001b[1;32mIn[49], line 3\u001b[0m\n\u001b[0;32m      1\u001b[0m \u001b[38;5;28;01mimport\u001b[39;00m \u001b[38;5;21;01mtime\u001b[39;00m\n\u001b[0;32m      2\u001b[0m start_time \u001b[38;5;241m=\u001b[39m time\u001b[38;5;241m.\u001b[39mtime()\n\u001b[1;32m----> 3\u001b[0m \u001b[43mget_R_from_IV_1\u001b[49m\u001b[43m(\u001b[49m\u001b[43m)\u001b[49m\n\u001b[0;32m      4\u001b[0m \u001b[38;5;28mprint\u001b[39m(\u001b[38;5;124m\"\u001b[39m\u001b[38;5;124m--- \u001b[39m\u001b[38;5;132;01m%s\u001b[39;00m\u001b[38;5;124m seconds ---\u001b[39m\u001b[38;5;124m\"\u001b[39m \u001b[38;5;241m%\u001b[39m (time\u001b[38;5;241m.\u001b[39mtime() \u001b[38;5;241m-\u001b[39m start_time))\n",
      "Cell \u001b[1;32mIn[46], line 5\u001b[0m, in \u001b[0;36mget_R_from_IV_1\u001b[1;34m()\u001b[0m\n\u001b[0;32m      3\u001b[0m \u001b[38;5;28;01mdef\u001b[39;00m \u001b[38;5;21mget_R_from_IV_1\u001b[39m():\n\u001b[0;32m      4\u001b[0m     \u001b[38;5;28;01mglobal\u001b[39;00m R_val_2\n\u001b[1;32m----> 5\u001b[0m     I_vals \u001b[38;5;241m=\u001b[39m np\u001b[38;5;241m.\u001b[39mlinspace(\u001b[38;5;241m-\u001b[39m\u001b[43mI_lim_r_IV\u001b[49m, I_lim_r_IV, N_point_r_IV)\n\u001b[0;32m      6\u001b[0m     V_vals_1 \u001b[38;5;241m=\u001b[39m np\u001b[38;5;241m.\u001b[39mzeros_like(I_vals)\n\u001b[0;32m      7\u001b[0m     V_vals_2 \u001b[38;5;241m=\u001b[39m np\u001b[38;5;241m.\u001b[39mzeros_like(I_vals)\n",
      "\u001b[1;31mNameError\u001b[0m: name 'I_lim_r_IV' is not defined"
     ]
    }
   ],
   "source": [
    "import time\n",
    "start_time = time.time()\n",
    "get_R_from_IV_1()\n",
    "print(\"--- %s seconds ---\" % (time.time() - start_time))"
   ]
  },
  {
   "cell_type": "code",
   "execution_count": 48,
   "metadata": {},
   "outputs": [],
   "source": [
    "r_from_IV_1 = Parameter('r_from_IV_1', \n",
    "                       label='resistance from fast IV K1 fit', unit='Ohm', \n",
    "                       set_cmd=None, get_cmd=get_R_from_IV_1)\n",
    "\n",
    "r_from_IV_2 = Parameter('r_from_IV_2', \n",
    "                       label='resistance from fast IV K2 fit', unit='Ohm', \n",
    "                       set_cmd=None, get_cmd=get_R_from_IV_2)"
   ]
  },
  {
   "cell_type": "markdown",
   "metadata": {},
   "source": [
    "# Simple IVs"
   ]
  },
  {
   "cell_type": "code",
   "execution_count": 24,
   "metadata": {},
   "outputs": [],
   "source": [
    "lockin_1.sensitivity(0.001)"
   ]
  },
  {
   "cell_type": "code",
   "execution_count": 44,
   "metadata": {},
   "outputs": [],
   "source": [
    "lockin_1.sensitivity(1)"
   ]
  },
  {
   "cell_type": "code",
   "execution_count": 108,
   "metadata": {},
   "outputs": [],
   "source": [
    "appl_current(0.e-6)"
   ]
  },
  {
   "cell_type": "code",
   "execution_count": 12,
   "metadata": {},
   "outputs": [],
   "source": [
    "appl_current(0)"
   ]
  },
  {
   "cell_type": "code",
   "execution_count": 17,
   "metadata": {},
   "outputs": [],
   "source": [
    "appl_current_AC(0e-9)"
   ]
  },
  {
   "cell_type": "code",
   "execution_count": 90,
   "metadata": {},
   "outputs": [],
   "source": [
    "lockin_1.auto_range()"
   ]
  },
  {
   "cell_type": "code",
   "execution_count": 15,
   "metadata": {},
   "outputs": [
    {
     "data": {
      "text/plain": [
       "0.3"
      ]
     },
     "execution_count": 15,
     "metadata": {},
     "output_type": "execute_result"
    }
   ],
   "source": [
    "lockin_1.input_range()"
   ]
  },
  {
   "cell_type": "code",
   "execution_count": 15,
   "metadata": {},
   "outputs": [
    {
     "data": {
      "text/plain": [
       "1.113189e-05"
      ]
     },
     "execution_count": 15,
     "metadata": {},
     "output_type": "execute_result"
    }
   ],
   "source": [
    "meas_voltage_K1()"
   ]
  },
  {
   "cell_type": "code",
   "execution_count": 24,
   "metadata": {},
   "outputs": [
    {
     "name": "stderr",
     "output_type": "stream",
     "text": [
      "[keithley_19(Keithley2400)] Snapshot: Could not update parameter: volt\n",
      "[keithley_19(Keithley2400)] Snapshot: Could not update parameter: curr\n",
      "[keithley_19(Keithley2400)] Snapshot: Could not update parameter: resistance\n"
     ]
    },
    {
     "name": "stdout",
     "output_type": "stream",
     "text": [
      "Starting experimental run with id: 2. \n"
     ]
    },
    {
     "data": {
      "application/vnd.jupyter.widget-view+json": {
       "model_id": "e838d07ce32d4ca68e808bca80e1b18f",
       "version_major": 2,
       "version_minor": 0
      },
      "text/plain": [
       "  0%|          | 0/101 [00:00<?, ?it/s]"
      ]
     },
     "metadata": {},
     "output_type": "display_data"
    },
    {
     "name": "stderr",
     "output_type": "stream",
     "text": [
      "Trying to mark a run completed that was already completed.\n"
     ]
    },
    {
     "name": "stdout",
     "output_type": "stream",
     "text": [
      "R = 679.1272171345369 Ohms\n"
     ]
    },
    {
     "data": {
      "image/png": "[encoded data removed]",
      "text/plain": [
       "<Figure size 640x480 with 1 Axes>"
      ]
     },
     "metadata": {},
     "output_type": "display_data"
    }
   ],
   "source": [
    "# sleep(10)\n",
    "current_range = 0.5e-6\n",
    "# lockin_1_sensitivity = lockin_1.sensitivity()\n",
    "appl_current(-current_range)\n",
    "# appl_current_AC(50e-9)\n",
    "sleep(2)\n",
    "station.snapshot(update=True);\n",
    "exp = qc.new_experiment('IV', sample_name=f'104_01_J1_32-33-34-35_1M')\n",
    "dataid = do1d(appl_current, -current_range, current_range, 101, 0.1,  meas_voltage_K1)\n",
    "# ivvi.set_dacs_zero()\n",
    "appl_current(0)\n",
    "keithley_24.output(0)\n",
    "# appl_current_AC(0)\n",
    "plot_by_id(dataid)\n",
    "# print(f\"Lockin_1 sensitivity {lockin_1_sensitivity} Volt.\")\n",
    "print(f\"R = {get_R_from_IV(dataid)} Ohms\")\n",
    "# print(get_R_from_IV_2(dataid))"
   ]
  },
  {
   "cell_type": "code",
   "execution_count": 109,
   "metadata": {},
   "outputs": [
    {
     "name": "stderr",
     "output_type": "stream",
     "text": [
      "Trying to mark a run completed that was already completed.\n"
     ]
    },
    {
     "name": "stdout",
     "output_type": "stream",
     "text": [
      "1049.8759882923705\n"
     ]
    },
    {
     "data": {
      "image/png": "[encoded data removed]",
      "text/plain": [
       "<Figure size 640x480 with 1 Axes>"
      ]
     },
     "metadata": {},
     "output_type": "display_data"
    },
    {
     "data": {
      "image/png": "[encoded data removed]",
      "text/plain": [
       "<Figure size 640x480 with 1 Axes>"
      ]
     },
     "metadata": {},
     "output_type": "display_data"
    }
   ],
   "source": [
    "id = 36\n",
    "plot_by_id(id)\n",
    "print(get_R_from_IV(id))"
   ]
  },
  {
   "cell_type": "code",
   "execution_count": 14,
   "metadata": {},
   "outputs": [
    {
     "data": {
      "text/plain": [
       "<qcodes.parameters.function.Function at 0x20e0d77d790>"
      ]
     },
     "execution_count": 14,
     "metadata": {},
     "output_type": "execute_result"
    }
   ],
   "source": [
    "lockin_1.auto_range\n",
    "lockin_1.auto_scale"
   ]
  },
  {
   "cell_type": "code",
   "execution_count": 41,
   "metadata": {},
   "outputs": [
    {
     "name": "stdout",
     "output_type": "stream",
     "text": [
      "954.2877751892828\n"
     ]
    }
   ],
   "source": [
    "print(get_R_from_IV(dataid))\n",
    "# print(get_R_from_IV_2(dataid))"
   ]
  },
  {
   "cell_type": "code",
   "execution_count": null,
   "metadata": {
    "scrolled": true
   },
   "outputs": [],
   "source": [
    "appl_current_AC(10e-9)\n",
    "appl_current(-1e-6)\n",
    "sleep(10)\n",
    "station.snapshot(update=True);\n",
    "exp = qc.new_experiment('IV + AC', sample_name='TL1_fL_finger')\n",
    "dataid = do1d(appl_current, -1e-6, 1e-6, 501, 3, \n",
    "              meas_voltage_K1, meas_voltage_AC_L1, lockin_1.P, \n",
    "              meas_voltage_K2, meas_voltage_AC_L2, lockin_2.P)\n",
    "# plot_by_id(dataid)\n",
    "ivvi.set_dacs_zero()\n",
    "lockin_1.amplitude(0.004)"
   ]
  },
  {
   "cell_type": "markdown",
   "metadata": {},
   "source": [
    "# Zero Everything"
   ]
  },
  {
   "cell_type": "code",
   "execution_count": 21,
   "metadata": {},
   "outputs": [
    {
     "ename": "SyntaxError",
     "evalue": "invalid syntax (624518687.py, line 4)",
     "output_type": "error",
     "traceback": [
      "\u001b[1;36m  Cell \u001b[1;32mIn[21], line 4\u001b[1;36m\u001b[0m\n\u001b[1;33m    lockin_1.\u001b[0m\n\u001b[1;37m             ^\u001b[0m\n\u001b[1;31mSyntaxError\u001b[0m\u001b[1;31m:\u001b[0m invalid syntax\n"
     ]
    }
   ],
   "source": [
    "appl_current(0e-6)\n",
    "appl_current_AC(0e-6)\n",
    "lockin_1.amplitude()\n",
    "lockin_1.sine_outdc()\n",
    "\n",
    "# ivvi.print_readable_snapshot(update=True)"
   ]
  },
  {
   "cell_type": "markdown",
   "metadata": {},
   "source": [
    "# Gate simple sweeps"
   ]
  },
  {
   "cell_type": "code",
   "execution_count": null,
   "metadata": {},
   "outputs": [],
   "source": [
    "exp = qc.new_experiment('I_vs_Vtg', sample_name='BL1')\n",
    "\n",
    "appl_voltage(1e-3)\n",
    "\n",
    "start_gate = 0.0\n",
    "stop_gate = 0.45\n",
    "num_points = 500\n",
    "leak_threshold = 1e-9\n",
    "\n",
    "#Register independent parameters\n",
    "meas = Measurement()\n",
    "meas.register_parameter(appl_TG)\n",
    "appl_TG.post_delay = 0.05\n",
    "\n",
    "#Register dependent parametrs\n",
    "param_meas = [meas_current_K1, meas_leakage]\n",
    "output = []\n",
    "for parameter in param_meas:\n",
    "    meas.register_parameter(parameter, setpoints=(appl_TG,))\n",
    "    output.append([parameter, None])\n",
    "\n",
    "#Add action at the end\n",
    "meas.add_after_run(ivvi.set_dacs_zero, ())\n",
    "\n",
    "appl_TG(start_gate)\n",
    "sleep(2)\n",
    "\n",
    "#Start measuremnts\n",
    "with meas.run() as datasaver:\n",
    "    for set_point in tqdm(np.linspace(start_gate, stop_gate, num_points)):\n",
    "        appl_TG(set_point)\n",
    "        sleep(0.05)\n",
    "        if np.abs(meas_leakage()) > leak_threshold:\n",
    "            print('Leakage detected!')\n",
    "            break\n",
    "        sleep(0.05)\n",
    "        for i, parameter in enumerate(param_meas):\n",
    "            output[i][1] = parameter.get()\n",
    "        datasaver.add_result((appl_TG, appl_TG()),\n",
    "                             *output)\n",
    "dataid = datasaver.run_id  # convenient to have for plotting"
   ]
  },
  {
   "cell_type": "code",
   "execution_count": null,
   "metadata": {},
   "outputs": [],
   "source": [
    "appl_TG(0)"
   ]
  },
  {
   "cell_type": "code",
   "execution_count": null,
   "metadata": {},
   "outputs": [],
   "source": [
    "plot_by_id(dataid)"
   ]
  },
  {
   "cell_type": "code",
   "execution_count": null,
   "metadata": {},
   "outputs": [],
   "source": [
    "appl_voltage(1e-3)\n",
    "appl_TG(0)\n",
    "sleep(2)\n",
    "station.snapshot(update=True);\n",
    "exp = qc.new_experiment('I_vs_Vgate_up', sample_name='JJ1_JJ5')\n",
    "dataid1 = do1d(appl_TG, 0, 0.4, 400, 0.1, meas_current_K1)\n",
    "# plot_by_id(dataid1)\n",
    "\n",
    "# station.snapshot(update=True);\n",
    "exp = qc.new_experiment('I_vs_Vgate_down', sample_name='JJ1_JJ5')\n",
    "dataid2 = do1d(appl_TG, 0.4, 0.0, 400, 0.1, meas_current_K1)\n",
    "# plot_by_id(dataid2)\n",
    "\n",
    "ivvi.set_dacs_zero()"
   ]
  },
  {
   "cell_type": "code",
   "execution_count": null,
   "metadata": {
    "scrolled": true
   },
   "outputs": [],
   "source": [
    "fig, ax = plt.subplots(1)\n",
    "axes, cbaxes = plot_by_id(dataid1, axes=[ax], label = 'up')\n",
    "axes, cbaxes = plot_by_id(dataid2, axes=[ax], label = 'down')\n",
    "plt.legend(fontsize = 14)\n",
    "plt.savefig('../plots/JJ1_JJ5_hyst1.png')"
   ]
  },
  {
   "cell_type": "markdown",
   "metadata": {},
   "source": [
    "# JJ measurement"
   ]
  },
  {
   "cell_type": "code",
   "execution_count": null,
   "metadata": {},
   "outputs": [],
   "source": [
    "appl_TG(0.35)\n",
    "cryomag.channel_A.field(-5e-3)"
   ]
  },
  {
   "cell_type": "code",
   "execution_count": null,
   "metadata": {},
   "outputs": [],
   "source": [
    "appl_TG(0.35)\n",
    "cryomag.channel_A.field(-5e-3)\n",
    "appl_current(-0.5e-6)\n",
    "sleep(5)\n",
    "\n",
    "station.snapshot(update=True);\n",
    "\n",
    "exp = qc.new_experiment('IV vs B', sample_name='JJ1_JJ1(K1)_JJ2(K2)')\n",
    "\n",
    "dataid = do2d(cryomag.channel_A.field, -5e-3, 5e-3, 201, 2, appl_current, -0.5e-6, 0.5e-6, 501, 0.01, meas_voltage_K1, meas_voltage_K2)\n",
    "\n",
    "appl_current(0)\n",
    "cryomag.channel_A.field(0)\n",
    "\n",
    "plot_by_id(dataid)"
   ]
  },
  {
   "cell_type": "code",
   "execution_count": null,
   "metadata": {},
   "outputs": [],
   "source": [
    "appl_TG(0.35)\n",
    "cryomag.channel_A.field(-20e-3)\n",
    "appl_current(-0.5e-6)\n",
    "sleep(60)\n",
    "\n",
    "station.snapshot(update=True);\n",
    "\n",
    "exp = qc.new_experiment('IV vs B larger range', sample_name='JJ1_JJ1(K1)_JJ2(K2)')\n",
    "\n",
    "dataid = do2d(cryomag.channel_A.field, -20e-3, 20e-3, 401, 4, appl_current, -0.5e-6, 0.5e-6, 501, 0.01, meas_voltage_K1, meas_voltage_K2)\n",
    "\n",
    "appl_current(0)\n",
    "cryomag.channel_A.field(0)\n",
    "\n",
    "plot_by_id(dataid)"
   ]
  },
  {
   "cell_type": "code",
   "execution_count": null,
   "metadata": {},
   "outputs": [],
   "source": [
    "appl_TG(0.35)\n",
    "cryomag.channel_A.field(-5e-3)\n",
    "appl_current(-0.5e-6)\n",
    "sleep(60)\n",
    "\n",
    "station.snapshot(update=True);\n",
    "\n",
    "exp = qc.new_experiment('IV vs B small range', sample_name='JJ1_JJ1(K1)_JJ2(K2)')\n",
    "\n",
    "dataid = do2d(cryomag.channel_A.field, -5e-3, 5e-3, 401, 4, appl_current, -0.5e-6, 0.5e-6, 801, 0.01, meas_voltage_K1, meas_voltage_K2)\n",
    "\n",
    "appl_current(0)\n",
    "cryomag.channel_A.field(0)\n",
    "\n",
    "plot_by_id(dataid)"
   ]
  },
  {
   "cell_type": "code",
   "execution_count": null,
   "metadata": {},
   "outputs": [],
   "source": [
    "cryomag.channel_A.field(-0.3e-3)"
   ]
  },
  {
   "cell_type": "code",
   "execution_count": null,
   "metadata": {},
   "outputs": [],
   "source": []
  },
  {
   "cell_type": "code",
   "execution_count": null,
   "metadata": {},
   "outputs": [],
   "source": [
    "appl_TG(0.2)\n",
    "appl_current(-0.5e-6)\n",
    "sleep(60)\n",
    "\n",
    "station.snapshot(update=True);\n",
    "\n",
    "exp = qc.new_experiment('IV vs Vg', sample_name='JJ1_JJ1(K1)_JJ2(K2)')\n",
    "\n",
    "dataid = do2d(appl_TG, 0.2, 0.4, 21, 3, appl_current, -0.5e-6, 0.5e-6, 801, 0.01, meas_voltage_K1, meas_voltage_K2)\n",
    "\n",
    "appl_current(0)\n",
    "appl_TG(0.35)\n",
    "\n",
    "plot_by_id(dataid)"
   ]
  },
  {
   "cell_type": "markdown",
   "metadata": {},
   "source": [
    "# JJ measurements for MAR"
   ]
  },
  {
   "cell_type": "code",
   "execution_count": null,
   "metadata": {},
   "outputs": [],
   "source": [
    "cryomag.channel_A.field()"
   ]
  },
  {
   "cell_type": "code",
   "execution_count": null,
   "metadata": {},
   "outputs": [],
   "source": [
    "appl_TG(0.4)"
   ]
  },
  {
   "cell_type": "code",
   "execution_count": null,
   "metadata": {},
   "outputs": [],
   "source": [
    "lockin_1.amplitude(0.004)\n",
    "appl_current(-20e-6)\n",
    "sleep(1)\n",
    "station.snapshot(update=True);\n",
    "\n",
    "exp = qc.new_experiment('IV', sample_name='JJ1_JJ_1')\n",
    "dataid = do1d(appl_current, -20e-6, 20e-6, 501, 0.01, meas_voltage_K1)\n",
    "# ivvi.set_dacs_zero()\n",
    "appl_current(0)\n",
    "plot_by_id(dataid)"
   ]
  },
  {
   "cell_type": "code",
   "execution_count": null,
   "metadata": {},
   "outputs": [],
   "source": [
    "#determine lockin sensitivity\n",
    "R = 500 #Ohms\n",
    "I_AC = 100e-9\n",
    "V_real = R * I_AC\n",
    "V_lockin = R * I_AC * Gain_L1()\n",
    "print(V_lockin)"
   ]
  },
  {
   "cell_type": "code",
   "execution_count": null,
   "metadata": {},
   "outputs": [],
   "source": [
    "lockin_1.sensitivity(0.01)"
   ]
  },
  {
   "cell_type": "code",
   "execution_count": null,
   "metadata": {},
   "outputs": [],
   "source": [
    "lockin_1.sensitivity.vals"
   ]
  },
  {
   "cell_type": "code",
   "execution_count": null,
   "metadata": {},
   "outputs": [],
   "source": [
    "2000 / 60"
   ]
  },
  {
   "cell_type": "code",
   "execution_count": null,
   "metadata": {},
   "outputs": [],
   "source": [
    "appl_current(-20e-6)\n",
    "appl_current_AC(100e-9)"
   ]
  },
  {
   "cell_type": "code",
   "execution_count": null,
   "metadata": {},
   "outputs": [],
   "source": [
    "keithley_1.amplitude()"
   ]
  },
  {
   "cell_type": "code",
   "execution_count": null,
   "metadata": {},
   "outputs": [],
   "source": [
    "appl_current_AC(100e-9)\n",
    "appl_current(-20e-6)\n",
    "sleep(10)\n",
    "station.snapshot(update=True);\n",
    "exp = qc.new_experiment('IV + AC', sample_name='JJ1_JJ_3')\n",
    "dataid = do1d(appl_current, -20e-6, 20e-6, 2001, 1, meas_voltage_K1, meas_voltage_AC_L1, meas_voltage_AC_L1_R)\n",
    "# ivvi.set_dacs_zero()\n",
    "appl_current(0)\n",
    "lockin_1.amplitude(0.004)\n",
    "plot_by_id(dataid)"
   ]
  },
  {
   "cell_type": "code",
   "execution_count": null,
   "metadata": {},
   "outputs": [],
   "source": [
    "appl_current(0)\n",
    "lockin_1.amplitude(0.004)"
   ]
  },
  {
   "cell_type": "markdown",
   "metadata": {},
   "source": [
    "# Hall measurements"
   ]
  },
  {
   "cell_type": "code",
   "execution_count": null,
   "metadata": {},
   "outputs": [],
   "source": [
    "appl_gate_1(1)\n",
    "appl_TG(0.4)"
   ]
  },
  {
   "cell_type": "code",
   "execution_count": null,
   "metadata": {},
   "outputs": [],
   "source": [
    "appl_TG(0.4)"
   ]
  },
  {
   "cell_type": "code",
   "execution_count": null,
   "metadata": {},
   "outputs": [],
   "source": [
    "appl_gate_1(1)\n",
    "appl_TG(0.4)\n",
    "appl_current(100e-9)\n",
    "sleep(30)\n",
    "\n",
    "\n",
    "station.snapshot(update=True);\n",
    "\n",
    "exp = qc.new_experiment('Vu_vs_gate_field, Vsplit = 0.4', sample_name='TR1_left_half')\n",
    "\n",
    "dataid = do2d(cryomag.channel_B.field, 0, 5, 41, 10, appl_gate_1, 1, 1.75, 120, 1, meas_voltage_K1)\n",
    "\n",
    "appl_current(0)\n",
    "# appl_TG(0)\n",
    "# appl_gate_1(0)\n",
    "plot_by_id(dataid)"
   ]
  },
  {
   "cell_type": "code",
   "execution_count": null,
   "metadata": {},
   "outputs": [],
   "source": [
    "appl_gate_1(1.1)"
   ]
  },
  {
   "cell_type": "code",
   "execution_count": null,
   "metadata": {},
   "outputs": [],
   "source": [
    "appl_gate_1(1.1)\n",
    "appl_TG(0.4)\n",
    "appl_current_AC(5e-9)\n",
    "appl_current(0)\n",
    "sleep(30)\n",
    "\n",
    "\n",
    "station.snapshot(update=True);\n",
    "\n",
    "exp = qc.new_experiment('ACVd_vs_gate B=5T, Vsplit = 0.4', sample_name='TR1_left_half')\n",
    "\n",
    "dataid = do1d(appl_gate_1, 1.1, 1.75, 120, 3, meas_voltage_AC_L1, meas_voltage_AC_L1_R)\n",
    "lockin_1.amplitude(0.004)\n",
    "appl_current(0)\n",
    "# appl_TG(0)\n",
    "# appl_gate_1(0)\n",
    "plot_by_id(dataid)"
   ]
  },
  {
   "cell_type": "code",
   "execution_count": null,
   "metadata": {},
   "outputs": [],
   "source": [
    "appl_gate_1(1.1)\n",
    "appl_TG(0.4)\n",
    "lockin_1.amplitude(0.004)\n",
    "appl_current(0)\n",
    "sleep(10)\n",
    "\n",
    "\n",
    "station.snapshot(update=True);\n",
    "\n",
    "exp = qc.new_experiment('fast_DC_Vd_vs_gate B=5T, Vsplit = 0.4', sample_name='TR1_left_half')\n",
    "\n",
    "dataid = do1d(appl_gate_1, 1.1, 1.75, 120, 1, r_from_IV_1)\n",
    "lockin_1.amplitude(0.004)\n",
    "appl_current(0)\n",
    "# appl_TG(0)\n",
    "# appl_gate_1(0)\n",
    "plot_by_id(dataid)"
   ]
  },
  {
   "cell_type": "code",
   "execution_count": null,
   "metadata": {},
   "outputs": [],
   "source": [
    "lockin_1.amplitude(0.004)"
   ]
  },
  {
   "cell_type": "code",
   "execution_count": null,
   "metadata": {},
   "outputs": [],
   "source": [
    "appl_gate_1(1.1)\n",
    "appl_TG(0.4)\n",
    "appl_current_AC(5e-9)\n",
    "appl_current(0)\n",
    "sleep(30)\n",
    "\n",
    "\n",
    "station.snapshot(update=True);\n",
    "\n",
    "exp = qc.new_experiment('ACVd_vs_gate_vs_B, Vsplit = 0.4', sample_name='TR1_left_half')\n",
    "\n",
    "dataid = do2d(cryomag.channel_B.field, 5, 4, 11, 5, appl_gate_1, 1.1, 1.75, 120, 3, meas_voltage_AC_L1, meas_voltage_AC_L1_R)\n",
    "lockin_1.amplitude(0.004)\n",
    "appl_current(0)\n",
    "# appl_TG(0)\n",
    "# appl_gate_1(0)\n",
    "plot_by_id(dataid)"
   ]
  },
  {
   "cell_type": "code",
   "execution_count": null,
   "metadata": {},
   "outputs": [],
   "source": [
    "14e3 * 300e-9 *1e3"
   ]
  },
  {
   "cell_type": "code",
   "execution_count": null,
   "metadata": {},
   "outputs": [],
   "source": [
    "lockin_1.amplitude(0.004)\n",
    "appl_gate_1(1.1)\n",
    "appl_TG(0.4)\n",
    "\n",
    "for B_field in [3,4,5,6]:\n",
    "    appl_gate_1(1.1)\n",
    "    cryomag.channel_B.field(B_field)\n",
    "    appl_current(-300e-9)\n",
    "    sleep(60)\n",
    "    \n",
    "    station.snapshot(update=True);\n",
    "\n",
    "    exp = qc.new_experiment('Vd_vs_I_gate, Vsplit = 0.4, B={}'.format(B_field), sample_name='TR1_left_half')\n",
    "\n",
    "    dataid = do2d( appl_gate_1, 1.1, 1.75, 120, 3, appl_current, -300e-9, 300e-9, 1201, 0.05, meas_voltage_K1)\n",
    "    \n",
    "    plot_by_id(dataid)"
   ]
  },
  {
   "cell_type": "code",
   "execution_count": null,
   "metadata": {
    "scrolled": true
   },
   "outputs": [],
   "source": [
    "#Extra experiment at B=3.5\n",
    "lockin_1.amplitude(0.004)\n",
    "appl_gate_1(1.1)\n",
    "appl_TG(0.4)\n",
    "\n",
    "for B_field in [3.5]:\n",
    "    appl_gate_1(1.1)\n",
    "    cryomag.channel_B.field(B_field)\n",
    "    appl_current(-300e-9)\n",
    "    sleep(60)\n",
    "    \n",
    "    station.snapshot(update=True);\n",
    "\n",
    "    exp = qc.new_experiment('Vd_vs_I_gate, Vsplit = 0.4, B={}'.format(B_field), sample_name='TR1_left_half')\n",
    "\n",
    "    dataid = do2d( appl_gate_1, 1.1, 1.75, 120, 3, appl_current, -300e-9, 300e-9, 1201, 0.05, meas_voltage_K1)\n",
    "    \n",
    "    plot_by_id(dataid)"
   ]
  },
  {
   "cell_type": "code",
   "execution_count": null,
   "metadata": {},
   "outputs": [],
   "source": [
    "# Pinch off measurement\n",
    "\n",
    "lockin_1.amplitude(0.004)\n",
    "appl_gate_1(1.1)\n",
    "appl_TG(0.4)\n",
    "\n",
    "for B_field in [3,4,5,6]:\n",
    "    appl_gate_1(1.1)\n",
    "    cryomag.channel_B.field(B_field)\n",
    "    appl_current(-300e-9)\n",
    "    sleep(60)\n",
    "    \n",
    "    station.snapshot(update=True);\n",
    "\n",
    "    exp = qc.new_experiment('Vd_vs_I_gate, Vsplit = 0.4, B={}'.format(B_field), sample_name='TR1_left_half')\n",
    "\n",
    "    dataid = do2d( appl_gate_1, 1.1, 1.75, 120, 3, appl_current, -300e-9, 300e-9, 1201, 0.05, meas_voltage_K1)\n",
    "    \n",
    "    plot_by_id(dataid)"
   ]
  },
  {
   "cell_type": "code",
   "execution_count": null,
   "metadata": {},
   "outputs": [],
   "source": [
    "appl_current(0)"
   ]
  },
  {
   "cell_type": "markdown",
   "metadata": {},
   "source": [
    "# Split-gate in QH"
   ]
  },
  {
   "cell_type": "code",
   "execution_count": null,
   "metadata": {},
   "outputs": [],
   "source": [
    "appl_gate_1(1.3) #nu=1 at 6T\n",
    "appl_TG(0.4) #split-gate\n",
    "appl_voltage(1e-3)\n",
    "\n",
    "station.snapshot(update=True);\n",
    "\n",
    "exp = qc.new_experiment('I,Vd_vs_splitgate, B={}'.format(6), sample_name='TR1_left_half')\n",
    "\n",
    "dataid = do1d(appl_TG, 0.4, -0.5, 200, 1, meas_voltage_K1, meas_current_K2)\n",
    "\n",
    "appl_voltage(0)\n",
    "appl_TG(0)\n",
    "plot_by_id(dataid)"
   ]
  },
  {
   "cell_type": "code",
   "execution_count": null,
   "metadata": {},
   "outputs": [],
   "source": [
    "appl_voltage_AC(1e-6) #1uV\n",
    "appl_gate_1(1.3) #nu=1 at 6T\n",
    "appl_TG(0.4) #split-gate\n",
    "appl_voltage(0)\n",
    "\n",
    "station.snapshot(update=True);\n",
    "\n",
    "exp = qc.new_experiment('I,Vd_vs_splitgate, B={}'.format(6), sample_name='TR1_left_half')\n",
    "\n",
    "dataid = do1d(appl_TG, 0.4, -0.1, 120, 3, meas_voltage_AC_L1, meas_current_AC_L2)\n",
    "\n",
    "lockin_1.amplitude(0.004)\n",
    "appl_TG(0)\n",
    "plot_by_id(dataid)"
   ]
  },
  {
   "cell_type": "code",
   "execution_count": null,
   "metadata": {},
   "outputs": [],
   "source": [
    "appl_voltage_AC(1e-6) #1uV\n",
    "appl_gate_1(1.3) #nu=1 at 6T\n",
    "appl_TG(0.4) #split-gate\n",
    "appl_voltage(0)\n",
    "\n",
    "station.snapshot(update=True);\n",
    "\n",
    "exp = qc.new_experiment('I,Vd_vs_splitgate, B={}'.format(6), sample_name='TR1_left_half')\n",
    "\n",
    "dataid = do1d(appl_TG, 0.4, -0.1, 300, 3, meas_voltage_AC_L1, meas_current_AC_L2)\n",
    "\n",
    "lockin_1.amplitude(0.004)\n",
    "appl_TG(0)\n",
    "plot_by_id(dataid)"
   ]
  },
  {
   "cell_type": "code",
   "execution_count": null,
   "metadata": {},
   "outputs": [],
   "source": [
    "appl_voltage_AC(5e-6) #5uV\n",
    "appl_gate_1(1.3) #nu=1 at 6T\n",
    "appl_TG(0.4) #split-gate\n",
    "appl_voltage(0)\n",
    "\n",
    "station.snapshot(update=True);\n",
    "\n",
    "exp = qc.new_experiment('I,Vd_vs_splitgate, B={}'.format(6), sample_name='TR1_left_half')\n",
    "\n",
    "dataid = do1d(appl_TG, 0.4, -0.1, 300, 3, meas_voltage_AC_L1, meas_current_AC_L2)\n",
    "\n",
    "lockin_1.amplitude(0.004)\n",
    "appl_TG(0)\n",
    "plot_by_id(dataid)"
   ]
  },
  {
   "cell_type": "code",
   "execution_count": null,
   "metadata": {},
   "outputs": [],
   "source": [
    "appl_voltage_AC(10e-6) #10uV\n",
    "appl_gate_1(1.3) #nu=1 at 6T\n",
    "appl_TG(0.4) #split-gate\n",
    "appl_voltage(0)\n",
    "\n",
    "station.snapshot(update=True);\n",
    "\n",
    "exp = qc.new_experiment('I,Vd_vs_splitgate, B={}'.format(6), sample_name='TR1_left_half')\n",
    "\n",
    "dataid = do1d(appl_TG, 0.4, -0.1, 300, 3, meas_voltage_AC_L1, meas_current_AC_L2)\n",
    "\n",
    "lockin_1.amplitude(0.004)\n",
    "appl_TG(0)\n",
    "plot_by_id(dataid)"
   ]
  },
  {
   "cell_type": "code",
   "execution_count": null,
   "metadata": {},
   "outputs": [],
   "source": [
    "appl_voltage_AC(5e-6) #5uV\n",
    "appl_gate_1(1.1)\n",
    "appl_TG(0.4) #split-gate\n",
    "appl_voltage(0)\n",
    "\n",
    "station.snapshot(update=True);\n",
    "\n",
    "exp = qc.new_experiment('I,Vd_vs_TG,splitgate, B={}'.format(6), sample_name='TR1_left_half')\n",
    "\n",
    "dataid = do2d(appl_gate_1, 1.1, 1.75, 21, 3, appl_TG, 0.4, -0.1, 300, 3, meas_voltage_AC_L1, meas_current_AC_L2)\n",
    "\n",
    "lockin_1.amplitude(0.004)\n",
    "appl_TG(0)\n",
    "appl_gate_1(1.4)\n",
    "plot_by_id(dataid)"
   ]
  },
  {
   "cell_type": "code",
   "execution_count": null,
   "metadata": {},
   "outputs": [],
   "source": [
    "lockin_1.amplitude(0.004)\n",
    "appl_TG(0)\n",
    "appl_gate_1(1.4)"
   ]
  },
  {
   "cell_type": "code",
   "execution_count": null,
   "metadata": {},
   "outputs": [],
   "source": [
    "temp = lakeshore.C.temperature()\n",
    "while temp > 0.35:\n",
    "    print('Waiting for base temp! current temp is {:.2f}K'.format(temp), end = '\\r')\n",
    "    sleep(1)\n",
    "    temp = lakeshore.C.temperature()"
   ]
  },
  {
   "cell_type": "code",
   "execution_count": null,
   "metadata": {},
   "outputs": [],
   "source": [
    "cryomag.B.field(5)"
   ]
  },
  {
   "cell_type": "code",
   "execution_count": null,
   "metadata": {},
   "outputs": [],
   "source": [
    "for top_gate_val in np.linspace(1.7, 1.2, 6):\n",
    "    appl_gate_1(top_gate_val)\n",
    "    appl_TG(0.5) #split-gate\n",
    "    appl_voltage(-4e-3)\n",
    "    \n",
    "    sleep(60)\n",
    "\n",
    "    station.snapshot(update=True);\n",
    "\n",
    "    exp = qc.new_experiment('I,Vd_vs_Vbias,splitgate, Vtg={}'.format(top_gate_val), sample_name='TR1_left_half')\n",
    "\n",
    "    dataid = do2d(appl_TG, 0.5, -0.4, 101, 2, appl_voltage, -4e-3, 4e-3, 1201, 0.01, meas_voltage_K1, meas_current_K2)\n",
    "    \n",
    "    appl_voltage(0)\n",
    "    appl_TG(0)"
   ]
  },
  {
   "cell_type": "code",
   "execution_count": null,
   "metadata": {},
   "outputs": [],
   "source": [
    "appl_voltage(0)\n",
    "appl_TG(0)"
   ]
  },
  {
   "cell_type": "markdown",
   "metadata": {},
   "source": [
    "# JJ at high field"
   ]
  },
  {
   "cell_type": "code",
   "execution_count": null,
   "metadata": {},
   "outputs": [],
   "source": [
    "appl_gate_1(0.4)"
   ]
  },
  {
   "cell_type": "code",
   "execution_count": null,
   "metadata": {},
   "outputs": [],
   "source": [
    "station.snapshot(update=True);\n",
    "exp = qc.new_experiment('IV B aprox 5T, TG=0.4V', sample_name='TR1_JJ')\n",
    "dataid = do1d(appl_current, -10e-9, 10e-9, 101, 0.1, meas_voltage_K1)\n",
    "# ivvi.set_dacs_zero()\n",
    "appl_current(0)\n",
    "plot_by_id(dataid)"
   ]
  },
  {
   "cell_type": "code",
   "execution_count": null,
   "metadata": {},
   "outputs": [],
   "source": [
    "temp = lakeshore.C.temperature()\n",
    "while temp > 0.35:\n",
    "    print('Waiting for base temp! current temp is {:.2f}K'.format(temp), end = '\\r')\n",
    "    sleep(1)\n",
    "    temp = lakeshore.C.temperature()"
   ]
  },
  {
   "cell_type": "code",
   "execution_count": null,
   "metadata": {},
   "outputs": [],
   "source": [
    "appl_gate_1(0.3)\n",
    "appl_current_AC(1e-9)\n",
    "appl_current(0)\n",
    "sleep(60)\n",
    "\n",
    "\n",
    "station.snapshot(update=True);\n",
    "\n",
    "exp = qc.new_experiment('ACVd_vs_gate B=5T, Vsplit = 0.4', sample_name='TR1_left_half')\n",
    "\n",
    "dataid = do2d(cryomag.channel_B.field, 6, 1, 51, 5, appl_gate_1, 0.3, 1.7, 141, 3, meas_voltage_AC_L1, meas_voltage_AC_L1_R)\n",
    "\n",
    "lockin_1.amplitude(0.004)\n",
    "appl_current(0)\n",
    "\n",
    "cryomag.channel_B.field(0)\n",
    "\n",
    "appl_gate_1(0.3)\n",
    "plot_by_id(dataid)"
   ]
  },
  {
   "cell_type": "code",
   "execution_count": null,
   "metadata": {},
   "outputs": [],
   "source": [
    "cryomag.channel_B.field(3)"
   ]
  },
  {
   "cell_type": "code",
   "execution_count": null,
   "metadata": {},
   "outputs": [],
   "source": [
    "for Bval in [6, 5, 4, 3]:\n",
    "\n",
    "    cryomag.channel_B.field(Bval)\n",
    "\n",
    "    appl_gate_1(0.4)\n",
    "    appl_current_AC(1e-9)\n",
    "    appl_current(-200e-9)\n",
    "    sleep(60)\n",
    "\n",
    "\n",
    "    station.snapshot(update=True);\n",
    "\n",
    "    exp = qc.new_experiment('AC IV vs Vg, B = {:.2f}'.format(Bval), sample_name='TR1_JJ')\n",
    "\n",
    "    dataid = do2d(appl_gate_1, 0.4, 1.7, 40, 3, appl_current, -200e-9, 200e-9, 21, 3,\n",
    "                  meas_voltage_K1, meas_voltage_AC_L1, meas_voltage_AC_L1_R)\n",
    "\n",
    "    appl_current(0)\n",
    "    appl_gate_1(0.4)\n",
    "    \n",
    "lockin_1.amplitude(0.004)\n",
    "appl_gate_1(0.4)\n",
    "cryomag.channel_B.field(0)"
   ]
  },
  {
   "cell_type": "code",
   "execution_count": null,
   "metadata": {},
   "outputs": [],
   "source": []
  },
  {
   "cell_type": "markdown",
   "metadata": {},
   "source": [
    "# Temp dependence"
   ]
  },
  {
   "cell_type": "code",
   "execution_count": null,
   "metadata": {},
   "outputs": [],
   "source": [
    "# lakeshore.output_1.output_range('off')\n",
    "lakeshore.output_1.setpoint(45.0)\n",
    "# lakeshore.output_1.input_channel('A')\n",
    "lakeshore.output_1.output_range('2.5W')"
   ]
  },
  {
   "cell_type": "code",
   "execution_count": null,
   "metadata": {},
   "outputs": [],
   "source": [
    "print('Temps: A= {:.2f}, B = {:.4f}, C ={:.4f}'.format(lakeshore.A.temperature(), lakeshore.B.temperature(), lakeshore.C.temperature()) )"
   ]
  },
  {
   "cell_type": "code",
   "execution_count": null,
   "metadata": {},
   "outputs": [],
   "source": [
    "lockin_1.time_constant(1)\n",
    "sleep(1)\n",
    "appl_current_AC(2.5e-9)\n",
    "appl_current(-8e-6)\n",
    "sleep(9)\n",
    "\n",
    "lakeshore.output_1.setpoint(0.3)\n",
    "lakeshore.output_1.output_range('25mW')\n",
    "\n",
    "sleep(6)\n",
    "\n",
    "for set_temp in [0.3, 0.35, 0.4, 0.5, 0.6]:\n",
    "    lakeshore.output_1.setpoint(set_temp)\n",
    "    sleep(5)\n",
    "    lakeshore.output_1.wait_until_set_point_reached(wait_cycle_time = 2, tolerance = 20e-3, wait_equilibration_time = 20)\n",
    "    \n",
    "    exp = qc.new_experiment('IV + AC across finger zero field T={}K'.format(set_temp), sample_name='TR1_fR')\n",
    "    \n",
    "    dataid = do1d(appl_current, -8e-6, 8e-6, 400, 2, meas_voltage_K1, meas_voltage_AC_L1, meas_voltage_AC_L1_R, lockin_1.P, lakeshore.C.temperature)\n",
    "    \n",
    "    appl_current(-8e-6)\n",
    "    sleep(5)\n",
    "    \n",
    "    \n",
    "lockin_1.amplitude(0.004)\n",
    "appl_current(0.0)\n",
    "lakeshore.output_1.setpoint(0)\n",
    "lakeshore.output_1.output_range('off')"
   ]
  },
  {
   "cell_type": "code",
   "execution_count": null,
   "metadata": {},
   "outputs": [],
   "source": [
    "lakeshore.C.temperature()"
   ]
  },
  {
   "cell_type": "code",
   "execution_count": null,
   "metadata": {},
   "outputs": [],
   "source": [
    "# time = ElapsedTimeParameter('time')\n",
    "\n",
    "#note that here exit_condition takes two independent parameters and only then measured parameters\n",
    "def temp_limit(temp, current, measured_values):\n",
    "    return temp() < 0.33\n",
    "\n",
    "appl_TG(2.0)\n",
    "sleep(5)\n",
    "appl_TG(1.2)\n",
    "sleep(5)\n",
    "    \n",
    "gate_val = 1.5\n",
    "appl_TG(gate_val)\n",
    "appl_current(-300e-9)\n",
    "sleep(10)\n",
    "\n",
    "B_val = cryomag.channel_B.field()\n",
    "\n",
    "station.snapshot(update=True);\n",
    "exp = qc.new_experiment('IV_vs_temp_CD Vg = {}, B = {:.1f}'.format(gate_val, B_val), sample_name='TR2_fL')\n",
    "\n",
    "dataid = do1d_until(lakeshore.C.temperature, temp_limit, 20, appl_current, -300e-9, 300e-9, 400, 0.05, \n",
    "                    meas_voltage_K1, meas_voltage_K2)\n",
    "\n",
    "appl_current(0)"
   ]
  },
  {
   "cell_type": "code",
   "execution_count": null,
   "metadata": {},
   "outputs": [],
   "source": [
    "def temp_limit(temp, current, measured_values):\n",
    "    return temp() < 0.33\n"
   ]
  },
  {
   "cell_type": "code",
   "execution_count": null,
   "metadata": {},
   "outputs": [],
   "source": [
    "for B_val, gate_val in zip([3, 4, 5, 5, 6, 6],[1.6, 1.8, 1.44, 2, 1.5, 1.6]):\n",
    "    appl_TG(2.0)\n",
    "    sleep(5)\n",
    "    appl_TG(1.2)\n",
    "    sleep(5)\n",
    "    appl_TG(gate_val)\n",
    "    cryomag.channel_B.field(B_val)\n",
    "    \n",
    "    lakeshore.output_1.output_range('2.5W')\n",
    "    \n",
    "    while lakeshore.A.temperature() < 44.5:\n",
    "        sleep(5)\n",
    "    \n",
    "    sleep(60*4)\n",
    "    lakeshore.output_1.output_range('off')\n",
    "    sleep(60*4)\n",
    "    \n",
    "    if level_meter.lastval() < 14.5:\n",
    "        print('He level critical!')\n",
    "        cryomag.channel_B.write('SWEEP ZERO')\n",
    "        break\n",
    "    \n",
    "    temp = lakeshore.C.temperature()\n",
    "    while temp > 2.5:\n",
    "        sleep(10)\n",
    "        temp = lakeshore.C.temperature()\n",
    "    \n",
    "    appl_current(-400e-9)\n",
    "    sleep(5)\n",
    "\n",
    "    station.snapshot(update=True);\n",
    "    exp = qc.new_experiment('IV_vs_temp_CD Vg = {}, B = {:.1f}'.format(gate_val, B_val), sample_name='TR2_N_4probes')\n",
    "\n",
    "    dataid = do1d_until(lakeshore.C.temperature, temp_limit, 20, appl_current, -400e-9, 400e-9, 400, 0.05, \n",
    "                        meas_voltage_K1, meas_voltage_K2)\n",
    "\n",
    "    appl_current(0)\n",
    "    appl_TG(1.3)\n",
    "    \n",
    "# cryomag.channel_B.write('SWEEP ZERO')"
   ]
  },
  {
   "cell_type": "code",
   "execution_count": null,
   "metadata": {},
   "outputs": [],
   "source": [
    "lockin_1.amplitude(0.004)\n",
    "\n",
    "for B_val in [6, 5]:\n",
    "    \n",
    "    cryomag.channel_B.field(B_val)\n",
    "    \n",
    "    lakeshore.output_1.output_range('2.5W')\n",
    "    \n",
    "    while lakeshore.A.temperature() < 44.5:\n",
    "        sleep(5)\n",
    "    \n",
    "    sleep(60*4)\n",
    "    lakeshore.output_1.output_range('off')\n",
    "    sleep(60*3)\n",
    "    \n",
    "    appl_TG(2.0)\n",
    "    sleep(5)\n",
    "    appl_TG(1.3)\n",
    "\n",
    "    station.snapshot(update=True);\n",
    "    exp = qc.new_experiment('DC_fit_vs_Vg_vs_temp_CD zero bias B = {:.1f}'.format(B_val), sample_name='TR2_fB')\n",
    "\n",
    "    dataid = do1d_until(lakeshore.C.temperature, temp_limit, 5, appl_TG, 1.3, 2, 41, 3, \n",
    "                        r_from_IV_1, r_from_IV_2)\n",
    "    appl_TG(1.3)\n",
    "    \n",
    "appl_current(0)"
   ]
  },
  {
   "cell_type": "code",
   "execution_count": null,
   "metadata": {},
   "outputs": [],
   "source": [
    "appl_current_AC(5e-9)\n",
    "appl_current(0)\n",
    "\n",
    "for B_val in [5, 4, 3]:\n",
    "    \n",
    "    cryomag.channel_B.field(B_val)\n",
    "    \n",
    "    lakeshore.output_1.output_range('2.5W')\n",
    "    \n",
    "    while lakeshore.A.temperature() < 44.5:\n",
    "        sleep(5)\n",
    "    \n",
    "    sleep(60*4)\n",
    "    lakeshore.output_1.output_range('off')\n",
    "    sleep(60*3)\n",
    "    \n",
    "    appl_TG(2.0)\n",
    "    sleep(5)\n",
    "    appl_TG(1.3)\n",
    "    \n",
    "    if level_meter.lastval() < 14.5:\n",
    "        print('He level critical!')\n",
    "        cryomag.channel_B.write('SWEEP ZERO')\n",
    "        break\n",
    "        \n",
    "\n",
    "    station.snapshot(update=True);\n",
    "    exp = qc.new_experiment('AC_vs_Vg_vs_temp_CD zero bias B = {:.1f}'.format(B_val), sample_name='TR2_fB')\n",
    "\n",
    "    dataid = do1d_until(lakeshore.C.temperature, temp_limit, 5, appl_TG, 1.3, 2, 41, 3, \n",
    "                        meas_voltage_AC_L1, meas_voltage_AC_L2, meas_voltage_AC_L1_R, meas_voltage_AC_L2_R,\n",
    "                        lockin_1.P, lockin_2.P)\n",
    "    appl_TG(1.3)\n",
    "    \n",
    "# cryomag.channel_B.write('SWEEP ZERO')\n",
    "lockin_1.amplitude(0.004)\n",
    "station.snapshot(update=True);"
   ]
  },
  {
   "cell_type": "code",
   "execution_count": null,
   "metadata": {},
   "outputs": [],
   "source": []
  },
  {
   "cell_type": "code",
   "execution_count": null,
   "metadata": {},
   "outputs": [],
   "source": [
    "cryomag.channel_B.field(0)"
   ]
  },
  {
   "cell_type": "code",
   "execution_count": null,
   "metadata": {},
   "outputs": [],
   "source": [
    "cryomag.channel_B.write('SWEEP ZERO')"
   ]
  },
  {
   "cell_type": "code",
   "execution_count": null,
   "metadata": {},
   "outputs": [],
   "source": [
    "station.snapshot(update=True);"
   ]
  },
  {
   "cell_type": "code",
   "execution_count": null,
   "metadata": {},
   "outputs": [],
   "source": [
    "appl_current(0)"
   ]
  },
  {
   "cell_type": "code",
   "execution_count": null,
   "metadata": {},
   "outputs": [],
   "source": []
  },
  {
   "cell_type": "markdown",
   "metadata": {},
   "source": [
    "# Test cells"
   ]
  },
  {
   "cell_type": "code",
   "execution_count": null,
   "metadata": {},
   "outputs": [],
   "source": [
    "appl_voltage(0)\n",
    "station.snapshot(update=True);\n",
    "exp = qc.new_experiment('wire resistant', sample_name='wire')\n",
    "dataid = do1d(appl_voltage, -3e-3, 3e-3, 101, 0.1, meas_current_K2)\n",
    "# ivvi.set_dacs_zero()\n",
    "\n",
    "plot_by_id(dataid)"
   ]
  },
  {
   "cell_type": "code",
   "execution_count": null,
   "metadata": {},
   "outputs": [],
   "source": [
    "dataid = 153\n",
    "dataset = qc.load_by_id(dataid)"
   ]
  },
  {
   "cell_type": "code",
   "execution_count": null,
   "metadata": {},
   "outputs": [],
   "source": [
    "dataset.get_parameter_data().keys()"
   ]
  },
  {
   "cell_type": "code",
   "execution_count": null,
   "metadata": {},
   "outputs": [],
   "source": [
    "voltage = dataset.get_parameter_data()['meas_current_K2']['appl_voltage']\n",
    "current = dataset.get_parameter_data()['meas_current_K2']['meas_current_K2']\n",
    "\n",
    "fit=np.polyfit(current,voltage,1)\n",
    "fit"
   ]
  },
  {
   "cell_type": "code",
   "execution_count": null,
   "metadata": {},
   "outputs": [],
   "source": []
  }
 ],
 "metadata": {
  "kernelspec": {
   "display_name": "Python 3 (ipykernel)",
   "language": "python",
   "name": "python3"
  },
  "language_info": {
   "codemirror_mode": {
    "name": "ipython",
    "version": 3
   },
   "file_extension": ".py",
   "mimetype": "text/x-python",
   "name": "python",
   "nbconvert_exporter": "python",
   "pygments_lexer": "ipython3",
   "version": "3.11.3"
  },
  "toc": {
   "base_numbering": 1,
   "nav_menu": {},
   "number_sections": true,
   "sideBar": true,
   "skip_h1_title": false,
   "title_cell": "Table of Contents",
   "title_sidebar": "Contents",
   "toc_cell": false,
   "toc_position": {
    "height": "calc(100% - 180px)",
    "left": "10px",
    "top": "150px",
    "width": "240px"
   },
   "toc_section_display": true,
   "toc_window_display": true
  }
 },
 "nbformat": 4,
 "nbformat_minor": 4
}
