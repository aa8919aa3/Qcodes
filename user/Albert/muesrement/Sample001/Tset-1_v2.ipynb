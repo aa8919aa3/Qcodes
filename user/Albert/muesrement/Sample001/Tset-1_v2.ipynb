{
 "cells": [
  {
   "cell_type": "code",
   "execution_count": 4,
   "metadata": {},
   "outputs": [],
   "source": [
    "import os\n",
    "import pandas as pd\n",
    "import numpy as np\n",
    "import qcodes as qc\n",
    "import plotly.io as pio\n",
    "import plotly.graph_objects as go\n",
    "from qcodes.dataset import (\n",
    "    Measurement, initialise_or_create_database_at,\n",
    "    load_or_create_experiment, plot_dataset\n",
    ")\n",
    "from qcodes.parameters import Parameter"
   ]
  },
  {
   "cell_type": "code",
   "execution_count": 5,
   "metadata": {},
   "outputs": [
    {
     "data": {
      "text/plain": [
       "[I-V#104-1K Ohms#1@c:\\qcodes\\personal_scripts\\Albert\\Albert_2024-05-20_01.db\n",
       " ---------------------------------------------------------------------------,\n",
       " I-V#104-1K Ohms#2@c:\\qcodes\\personal_scripts\\Albert\\Albert_2024-05-20_01.db\n",
       " ---------------------------------------------------------------------------\n",
       " 1-results-1-appl_current,meas_voltage_K1-101,\n",
       " I-V#104-1K Ohms#3@c:\\qcodes\\personal_scripts\\Albert\\Albert_2024-05-20_01.db\n",
       " ---------------------------------------------------------------------------\n",
       " 2-results-1-appl_current,meas_voltage_K1-101,\n",
       " I-V#104-1K Ohms#4@c:\\qcodes\\personal_scripts\\Albert\\Albert_2024-05-20_01.db\n",
       " ---------------------------------------------------------------------------\n",
       " 3-results-1-appl_current,meas_voltage_K1-101,\n",
       " I-V#104-1K Ohms#5@c:\\qcodes\\personal_scripts\\Albert\\Albert_2024-05-20_01.db\n",
       " ---------------------------------------------------------------------------\n",
       " 4-results-1-appl_current,meas_voltage_K1-101,\n",
       " I-V#104-1K Ohms#6@c:\\qcodes\\personal_scripts\\Albert\\Albert_2024-05-20_01.db\n",
       " ---------------------------------------------------------------------------\n",
       " 5-results-1-appl_current,meas_voltage_K1-101,\n",
       " I-V#104-1K Ohms#7@c:\\qcodes\\personal_scripts\\Albert\\Albert_2024-05-20_01.db\n",
       " ---------------------------------------------------------------------------\n",
       " 6-results-1-appl_current,meas_voltage_K1-101,\n",
       " I-V#104-1K Ohms#8@c:\\qcodes\\personal_scripts\\Albert\\Albert_2024-05-20_01.db\n",
       " ---------------------------------------------------------------------------\n",
       " 7-results-1-appl_current,meas_voltage_K1-101,\n",
       " I-V#104-1_J1_32-33-34-35_1M#9@c:\\qcodes\\personal_scripts\\Albert\\Albert_2024-05-20_01.db\n",
       " ---------------------------------------------------------------------------------------\n",
       " 8-results-1-appl_current,meas_voltage_K1-101,\n",
       " I-V#104-1_J1_32-33-34-35_1M#10@c:\\qcodes\\personal_scripts\\Albert\\Albert_2024-05-20_01.db\n",
       " ----------------------------------------------------------------------------------------\n",
       " 9-results-1-appl_current,meas_voltage_K1-101,\n",
       " I-V#104-1_J1_35-34-33-32_1M#11@c:\\qcodes\\personal_scripts\\Albert\\Albert_2024-05-20_01.db\n",
       " ----------------------------------------------------------------------------------------\n",
       " 10-results-1-appl_current,meas_voltage_K1-101,\n",
       " I-V#104-1_J1_35-34-33-32_1M#12@c:\\qcodes\\personal_scripts\\Albert\\Albert_2024-05-20_01.db\n",
       " ----------------------------------------------------------------------------------------\n",
       " 11-results-1-appl_current,meas_voltage_K1-101,\n",
       " I-V#104-1_J1_35-34-33-32_1M#13@c:\\qcodes\\personal_scripts\\Albert\\Albert_2024-05-20_01.db\n",
       " ----------------------------------------------------------------------------------------\n",
       " 12-results-1-appl_current,meas_voltage_K1-101]"
      ]
     },
     "execution_count": 5,
     "metadata": {},
     "output_type": "execute_result"
    }
   ],
   "source": [
    "initialise_or_create_database_at(r\"Albert_2024-05-20_01.db\")\n",
    "qc.experiments()\n"
   ]
  },
  {
   "cell_type": "markdown",
   "metadata": {},
   "source": [
    "# Import"
   ]
  },
  {
   "cell_type": "code",
   "execution_count": 90,
   "metadata": {},
   "outputs": [],
   "source": [
    "dataset = qc.load_by_id(1)\n",
    "def extract_sample_and_number(sample_name):\n",
    "    # Define the pattern for extracting the sample and number\n",
    "    pattern = r'(?P<sample>.*?)(?P<number>\\d+)$'\n",
    "\n",
    "    # Use regular expression to extract the sample and number\n",
    "    match = re.match(pattern, sample_name)\n",
    "\n",
    "    if match:\n",
    "        sample = match.group('sample')\n",
    "        number = int(match.group('number'))\n",
    "        return sample, number\n",
    "    else:\n",
    "        return None, None\n",
    "\n",
    "\n",
    "def extract_sample_junction(sample_name):\n",
    "    \"\"\"Extracts the complete sample junction from the provided sample name.\n",
    "\n",
    "    Args:\n",
    "      sample_name: The name of the sample containing the junction information.\n",
    "\n",
    "    Returns:\n",
    "      The extracted sample junction, or None if not found.\n",
    "    \"\"\"\n",
    "\n",
    "    delimiter = \"_J\"\n",
    "    if delimiter in sample_name:\n",
    "        # +3 to include \"_J\"\n",
    "        return sample_name[:sample_name.find(delimiter) + 3]\n",
    "    else:\n",
    "        return None\n",
    "    \n",
    "def get_detaset_info(dataset=dataset):\n",
    "    run_id = dataset.captured_run_id\n",
    "    exp_name = dataset.exp_name\n",
    "    sample_name = dataset.sample_name\n",
    "    name = dataset.name\n",
    "    description = dataset.description\n",
    "    sample_junction = extract_sample_junction(sample_name)\n",
    "    return run_id, exp_name, sample_name, sample_junction, name, description\n",
    "\n",
    "def IV_Mag_plot(run_id, save=False, log_lower_limit= 0):\n",
    "    # Load the dataset\n",
    "    dataset = qc.load_by_id(run_id)\n",
    "    # Get the dataset info\n",
    "    run_id, exp_name, sample_name, sample_junction, name, description = get_detaset_info(\n",
    "        dataset)\n",
    "    df = dataset.to_pandas_dataframe().reset_index()\n",
    "    # Plot the dataset\n",
    "    plot_dataset(dataset)\n",
    "    para_list = dataset.parameters.split(\",\")\n",
    "\n",
    "    fig1 = go.Figure(data=go.Heatmap(\n",
    "        x=df[para_list[0]],\n",
    "        y=df[para_list[1]],\n",
    "        z=df[para_list[2]],\n",
    "        colorscale='RdBu',\n",
    "        colorbar=dict(\n",
    "            title=para_list[2], titleside='top')),\n",
    "        layout=dict(\n",
    "            title=f\"#{run_id} {exp_name} {sample_name}\",\n",
    "            xaxis_title=para_list[0],\n",
    "            yaxis_title=para_list[1],\n",
    "            height=800, width=800\n",
    "\n",
    "    ))\n",
    "    # fig1.show()\n",
    "\n",
    "    df['differential_voltage'] = (\n",
    "        df[para_list[2]].shift(-1) -\n",
    "        df[para_list[2]].shift(1)) / (2 * (df[para_list[1]].shift(-1) - df[para_list[1]]))\n",
    "    fig2 = go.Figure(data=go.Heatmap(\n",
    "        x=df[para_list[0]],\n",
    "        y=df[para_list[1]],\n",
    "        z=df['differential_voltage'],\n",
    "        colorscale='RdBu',\n",
    "        colorbar=dict(\n",
    "            title='dV/dI', titleside='top')),\n",
    "        layout=dict(\n",
    "            title=f\"#{run_id} dV/dI {sample_name}\",\n",
    "            xaxis_title=para_list[0],\n",
    "            yaxis_title=para_list[1],\n",
    "            height=800, width=800\n",
    "    ))\n",
    "    # fig2.show()\n",
    "    fig3 = go.Figure(data=go.Heatmap(\n",
    "        x=df[para_list[0]],\n",
    "        y=df[para_list[1]],\n",
    "        z=np.log10(df['differential_voltage'].replace(0, 1e-20).clip(lower=log_lower_limit)),\n",
    "        colorscale='RdBu',\n",
    "        colorbar=dict(\n",
    "            title='dV/dI(Log)', titleside='top')),\n",
    "        layout=dict(\n",
    "            title=f\"#{run_id} dV/dI {sample_name}\",\n",
    "            xaxis_title=para_list[0],\n",
    "            yaxis_title=para_list[1],\n",
    "            height=800, width=800\n",
    "    ))\n",
    "    # fig3.show()\n",
    "    import plotly.subplots as subplots\n",
    "\n",
    "    # ...\n",
    "\n",
    "    # Create figure layouts\n",
    "    fig1_layout = fig1.layout\n",
    "    fig2_layout = fig2.layout\n",
    "    fig3_layout = fig3.layout\n",
    "\n",
    "    # Create a grid of subplots\n",
    "    fig = subplots.make_subplots(rows=1, cols=3, subplot_titles=('IV Magnitude', 'dV/dI','dV/dI(Log)' ))\n",
    "\n",
    "    # Add traces to the subplots\n",
    "    fig.add_trace(fig1.data[0], row=1, col=1)\n",
    "    fig.add_trace(fig2.data[0], row=1, col=2)\n",
    "    fig.add_trace(fig3.data[0], row=1, col=3)\n",
    "\n",
    "    # Update the layout with titles and dimensions\n",
    "    fig.layout.update(title_text=f\"#{run_id} {exp_name} {sample_name}\", height=800, width=2400)\n",
    "\n",
    "    # Update xaxis and yaxis properties individually\n",
    "    fig.update_xaxes(fig1_layout.xaxis, row=1, col=1)\n",
    "    fig.update_yaxes(fig1_layout.yaxis, row=1, col=1)\n",
    "    fig.update_xaxes(fig2_layout.xaxis, row=1, col=2)\n",
    "    fig.update_yaxes(fig2_layout.yaxis, row=1, col=2)\n",
    "    fig.update_xaxes(fig3_layout.xaxis, row=1, col=3)\n",
    "    fig.update_yaxes(fig3_layout.yaxis, row=1, col=3)\n",
    "    fig.data[0].colorbar.x = 0.288  # Adjust x position of the first colorbar\n",
    "    fig.data[1].colorbar.x = 0.642 \n",
    "    fig.data[2].colorbar.x = 1 \n",
    "\n",
    "    # Show the combined figure\n",
    "    fig.show()\n",
    "    fig1.show()\n",
    "    fig2.show()   \n",
    "    fig3.show()\n",
    "\n",
    "    if save == True:\n",
    "        pio.write_image(fig1, rf\"D:\\data\\Albert\\103\\Plot\\103_{run_id}_IV_Mag.png\")\n",
    "        pio.write_image(fig2, rf\"D:\\data\\Albert\\103\\Plot\\103_{run_id}_dVdI.png\")\n",
    "        pio.write_image(fig3, rf\"D:\\data\\Albert\\103\\Plot\\103_{run_id}_dVdI(Log).png\")\n",
    "\n",
    "\n",
    "def IV_RF_f_linecut(run_id, target_frequencies=[5.0, 6.0]):\n",
    "    dataset = qc.load_by_id(run_id)\n",
    "    run_id, exp_name, sample_name, sample_junction, name, description = get_detaset_info(\n",
    "        dataset)\n",
    "    df = dataset.to_pandas_dataframe().reset_index()\n",
    "    para_list = dataset.parameters.split(\",\")\n",
    "    \n",
    "    fig = go.Figure()\n",
    "    \n",
    "    for target_frequency in target_frequencies:\n",
    "        # Find the closest value to the target frequency\n",
    "        closest_frequency = df[para_list[0]].iloc[(df[para_list[0]]-target_frequency*1e9).abs().argsort()[:1]].values[0]\n",
    "\n",
    "        # Filter the data for the closest frequency\n",
    "        SGS_cut = df[df[para_list[0]] == closest_frequency]\n",
    "\n",
    "        # Linecut plot\n",
    "        fig.add_trace(go.Scatter(x=SGS_cut[para_list[1]], y=SGS_cut[para_list[2]], mode='lines', name=f'{closest_frequency*1e-9:.4f} GHz'))\n",
    "\n",
    "    fig.update_layout(\n",
    "        title=f\"#{run_id} {exp_name} {sample_name} <br> Linecut\",\n",
    "        xaxis_title=para_list[1],\n",
    "        yaxis_title=para_list[2],\n",
    "        height=800, width=800,\n",
    "        legend=dict(\n",
    "            orientation=\"h\",\n",
    "            yanchor=\"top\",\n",
    "            y=1.05,\n",
    "            xanchor=\"center\",\n",
    "            x=0.5\n",
    "    ))\n",
    "\n",
    "    fig.show()\n",
    "\n",
    "def IV_RF_PD_linecut(run_id, target_powers=[-10.0, 0.0]):\n",
    "    dataset = qc.load_by_id(run_id)\n",
    "    run_id, exp_name, sample_name, sample_junction, name, description = get_detaset_info(\n",
    "        dataset)\n",
    "    df = dataset.to_pandas_dataframe().reset_index()\n",
    "    para_list = dataset.parameters.split(\",\")\n",
    "    \n",
    "    fig = go.Figure()\n",
    "    \n",
    "    for target_power in target_powers:\n",
    "        # Find the closest value to the target power\n",
    "        closest_power = df[para_list[0]].iloc[(df[para_list[0]]-target_power).abs().argsort()[:1]].values[0]\n",
    "\n",
    "        # Filter the data for the closest frequency\n",
    "        SGS_cut = df[df[para_list[0]] == closest_power]\n",
    "\n",
    "        # Linecut plot\n",
    "        fig.add_trace(go.Scatter(x=SGS_cut[para_list[1]], y=SGS_cut[para_list[2]], mode='lines', name=f'{closest_power:.1f} dBm'))\n",
    "\n",
    "    fig.update_layout(\n",
    "        title=f\"#{run_id} {exp_name} {sample_name} <br> Linecut\",\n",
    "        xaxis_title=para_list[1],\n",
    "        yaxis_title=para_list[2],\n",
    "        height=800, width=800,\n",
    "        legend=dict(\n",
    "            orientation=\"h\",\n",
    "            yanchor=\"top\",\n",
    "            y=1.05,\n",
    "            xanchor=\"center\",\n",
    "            x=0.5\n",
    "    ))\n",
    "\n",
    "    fig.show()\n",
    "\n",
    "def IV(run_id=1):\n",
    "    dataset = qc.load_by_id(run_id)\n",
    "    R = get_R_from_IV(run_id)\n",
    "    run_id, exp_name, sample_name, sample_junction, name, description = get_detaset_info(\n",
    "        dataset)\n",
    "    df = dataset.to_pandas_dataframe().reset_index()\n",
    "    para_list = dataset.parameters.split(\",\")\n",
    "\n",
    "    # Create a Plotly trace\n",
    "    trace = go.Scatter(x=df[para_list[0]], y=df[para_list[1]]*1e3, mode='lines', name='Voltage vs. Current')\n",
    "\n",
    "    # Create layout with micro-scale y-axis\n",
    "    layout = go.Layout(title=f'<b>#{run_id} {exp_name}</b> {sample_name}, R_fit={R:.4f} Ω', title_font=dict(size=28),\n",
    "                       xaxis=dict(title=para_list[0], tickfont=dict(size=16),title_font=dict(size=20)),\n",
    "                       yaxis=dict(title=f\"{para_list[1]} mV\", tickfont=dict(size=16),title_font=dict(size=20)), \n",
    "                       width=1080, height=960,\n",
    "                       margin=dict(l=10, r=10, t=50, b=10))\n",
    "\n",
    "    # Create the figure\n",
    "    fig = go.Figure(data=[trace], layout=layout)\n",
    "    \n",
    "    fig.show()\n",
    "\n",
    "def IV_diff(run_id=1):\n",
    "    import numpy as np\n",
    "    import plotly.graph_objs as go\n",
    "    from scipy.signal import find_peaks\n",
    "    dataset = qc.load_by_id(run_id)\n",
    "    run_id, exp_name, sample_name, sample_junction, name, description = get_detaset_info(\n",
    "        dataset)\n",
    "    df = dataset.to_pandas_dataframe().reset_index()\n",
    "    para_list = dataset.parameters.split(\",\")\n",
    "\n",
    "    current = df[para_list[0]].tolist()\n",
    "    voltage = df[para_list[1]].tolist()\n",
    "\n",
    "    # Compute differential of voltage with respect to current\n",
    "    differential_voltage = np.diff(voltage) / np.diff(current)\n",
    "\n",
    "    # Since the differential will have one less data point, adjust the current data\n",
    "    # to have the same length as the differential data\n",
    "    current = current[:-1]\n",
    "\n",
    "    # Find peaks in the differential signal\n",
    "    peaks, _ = find_peaks(differential_voltage)\n",
    "\n",
    "    # Extract peak current and peak differential voltage values\n",
    "    peak_current = [current[i] for i in peaks]\n",
    "    peak_voltage_diff = [differential_voltage[i] for i in peaks]\n",
    "\n",
    "    # Sort the peaks based on their values\n",
    "    sorted_peak_indices = np.argsort(peak_voltage_diff)[::-1]  # Sort in descending order\n",
    "    top_two_peak_indices = sorted_peak_indices[:2]  # Select the top two indices\n",
    "\n",
    "    # Extract the top two peaks\n",
    "    top_two_peak_current = [peak_current[i] for i in top_two_peak_indices]\n",
    "    top_two_peak_voltage_diff = [peak_voltage_diff[i] for i in top_two_peak_indices]\n",
    "\n",
    "    # Calculate the center points of the top two peaks\n",
    "    center_points = [(top_two_peak_current[i] + top_two_peak_current[i+1]) / 2 for i in range(len(top_two_peak_current) - 1)]\n",
    "\n",
    "    # Calculate the difference between the top two biggest peaks\n",
    "    peak_difference = abs(top_two_peak_current[0] - top_two_peak_current[1])\n",
    "\n",
    "    # Determine the appropriate unit for current\n",
    "    if peak_difference >= 1e-3:\n",
    "        unit = \"mA\"\n",
    "        conversion_factor = 1e3\n",
    "    elif peak_difference >= 1e-6:\n",
    "        unit = \"μA\"\n",
    "        conversion_factor = 1e6\n",
    "    else:\n",
    "        unit = \"nA\"\n",
    "        conversion_factor = 1e9\n",
    "\n",
    "    # Determine the appropriate unit for current\n",
    "    if peak_difference >= 1e-3:\n",
    "        unit = \"mA\"\n",
    "    elif peak_difference >= 1e-6:\n",
    "        unit = \"μA\"\n",
    "    elif peak_difference >= 1e-9:\n",
    "        unit = \"nA\"\n",
    "    else:\n",
    "        unit = \"pA\"\n",
    "\n",
    "    # Create a Plotly trace for the differential\n",
    "    trace_diff = go.Scatter(x=[c * conversion_factor for c in current], y=differential_voltage, mode='lines', name='d(Voltage)/d(Current)')\n",
    "    # Add markers for the top two peaks\n",
    "    trace_top_two_peaks = go.Scatter(x=[p * conversion_factor for p in top_two_peak_current], y=top_two_peak_voltage_diff, mode='markers', marker=dict(color='red'), name='Top Two Peaks')\n",
    "    # Add markers for the center points\n",
    "    trace_center_points = go.Scatter(x=center_points, y=[0]*len(center_points), mode='markers', marker=dict(color='blue', symbol='cross'), name='Center Points')\n",
    "\n",
    "    # Create layout\n",
    "    layout = go.Layout(title=f\"<b>#{run_id} I-dV/dI</b> {sample_name}\",title_font=dict(size=28),\n",
    "                    xaxis=dict(title=f'Current ({unit})',tickfont=dict(size=16),title_font=dict(size=20)),\n",
    "                    yaxis=dict(title='dV/dI',tickfont=dict(size=16),title_font=dict(size=20)),\n",
    "                    legend=dict(orientation=\"h\", yanchor=\"bottom\", y=-0.07, xanchor=\"right\", x=1),\n",
    "                    width=1080, height=960,\n",
    "                    margin=dict(l=10, r=10, t=50, b=10))\n",
    "\n",
    "    # Create the figure\n",
    "    fig = go.Figure(data=[trace_diff, trace_top_two_peaks, trace_center_points], layout=layout)\n",
    "\n",
    "    # Add annotation for the current value of center points\n",
    "    for i, center_point in enumerate(center_points):\n",
    "        fig.add_annotation(\n",
    "            x=center_point * conversion_factor,\n",
    "            y=0, #0.4 * max(differential_voltage),\n",
    "            text=f'Center Point: {center_point * conversion_factor:.1f}{unit} <br> Peak difference: {peak_difference*conversion_factor:.1f} {unit}',\n",
    "            showarrow=True,\n",
    "            arrowhead=2,\n",
    "            arrowsize=1,\n",
    "            arrowwidth=2,\n",
    "            arrowcolor='black',\n",
    "            ax=-100,\n",
    "            ay=-200 - 30 * i\n",
    "        )\n",
    "\n",
    "    # Plot the figure\n",
    "    fig.show()\n",
    "\n",
    "def get_R_from_IV(dataid):\n",
    "    dataset = qc.load_by_id(dataid)\n",
    "    para_list = dataset.parameters.split(\",\")\n",
    "    voltage = dataset.get_parameter_data()[para_list[1]][para_list[1]]\n",
    "    current = dataset.get_parameter_data()[para_list[1]][para_list[0]]\n",
    "    fit_values = np.polyfit(current,voltage,1)\n",
    "    return fit_values[0]\n"
   ]
  },
  {
   "cell_type": "code",
   "execution_count": 7,
   "metadata": {},
   "outputs": [
    {
     "ename": "ValueError",
     "evalue": "Run with run_id 6511 does not exist in the database",
     "output_type": "error",
     "traceback": [
      "\u001b[1;31m---------------------------------------------------------------------------\u001b[0m",
      "\u001b[1;31mValueError\u001b[0m                                Traceback (most recent call last)",
      "Cell \u001b[1;32mIn[7], line 1\u001b[0m\n\u001b[1;32m----> 1\u001b[0m dataset \u001b[38;5;241m=\u001b[39m \u001b[43mqc\u001b[49m\u001b[38;5;241;43m.\u001b[39;49m\u001b[43mload_by_id\u001b[49m\u001b[43m(\u001b[49m\u001b[38;5;241;43m6511\u001b[39;49m\u001b[43m)\u001b[49m\n\u001b[0;32m      2\u001b[0m df \u001b[38;5;241m=\u001b[39m dataset\u001b[38;5;241m.\u001b[39mto_pandas_dataframe()\u001b[38;5;241m.\u001b[39mreset_index()\n\u001b[0;32m      3\u001b[0m df\n",
      "File \u001b[1;32mc:\\Users\\quant\\anaconda3\\envs\\qcodes\\Lib\\site-packages\\qcodes\\dataset\\data_set.py:1635\u001b[0m, in \u001b[0;36mload_by_id\u001b[1;34m(run_id, conn)\u001b[0m\n\u001b[0;32m   1633\u001b[0m     guid \u001b[38;5;241m=\u001b[39m get_guid_from_run_id(internal_conn, run_id)\n\u001b[0;32m   1634\u001b[0m     \u001b[38;5;28;01mif\u001b[39;00m guid \u001b[38;5;129;01mis\u001b[39;00m \u001b[38;5;28;01mNone\u001b[39;00m:\n\u001b[1;32m-> 1635\u001b[0m         \u001b[38;5;28;01mraise\u001b[39;00m \u001b[38;5;167;01mValueError\u001b[39;00m(\u001b[38;5;124mf\u001b[39m\u001b[38;5;124m\"\u001b[39m\u001b[38;5;124mRun with run_id \u001b[39m\u001b[38;5;132;01m{\u001b[39;00mrun_id\u001b[38;5;132;01m}\u001b[39;00m\u001b[38;5;124m does not exist in the database\u001b[39m\u001b[38;5;124m\"\u001b[39m)\n\u001b[0;32m   1636\u001b[0m     d \u001b[38;5;241m=\u001b[39m _get_datasetprotocol_from_guid(guid, internal_conn)\n\u001b[0;32m   1637\u001b[0m \u001b[38;5;28;01mfinally\u001b[39;00m:\n\u001b[0;32m   1638\u001b[0m     \u001b[38;5;66;03m# dataset takes ownership of the connection but DataSetInMem does not\u001b[39;00m\n",
      "\u001b[1;31mValueError\u001b[0m: Run with run_id 6511 does not exist in the database"
     ]
    }
   ],
   "source": [
    "dataset = qc.load_by_id(6511)\n",
    "df = dataset.to_pandas_dataframe().reset_index()\n",
    "df\n"
   ]
  },
  {
   "cell_type": "code",
   "execution_count": 91,
   "metadata": {},
   "outputs": [
    {
     "data": {
      "application/vnd.plotly.v1+json": {
       "config": {
        "plotlyServerURL": "https://plot.ly"
       },
       "data": [
        {
         "mode": "lines",
         "name": "d(Voltage)/d(Current)",
         "type": "scatter",
         "x": [
          -1000,
          -979.9999999999999,
          -959.9999999999999,
          -940,
          -920,
          -900,
          -880,
          -860,
          -840,
          -820,
          -800,
          -780,
          -760,
          -740,
          -720,
          -700,
          -680,
          -660,
          -640,
          -620,
          -600,
          -580,
          -560,
          -540,
          -520,
          -500,
          -479.99999999999994,
          -460,
          -440,
          -420,
          -400,
          -380,
          -360,
          -340,
          -320,
          -300,
          -280,
          -260,
          -239.99999999999997,
          -220,
          -200,
          -180,
          -160,
          -140,
          -119.99999999999999,
          -99.9999999999999,
          -80,
          -59.99999999999999,
          -39.9999999999998,
          -20,
          0,
          20,
          40,
          60.0000000000001,
          80.0000000000001,
          100,
          119.99999999999999,
          140,
          160,
          180,
          200,
          220,
          239.99999999999997,
          260,
          280,
          300,
          320,
          340,
          360,
          380,
          400,
          420,
          440,
          460,
          479.99999999999994,
          500,
          520,
          540,
          560,
          580,
          600,
          620,
          640,
          660,
          680,
          700,
          720,
          740,
          760,
          780,
          800,
          820,
          840,
          860,
          880,
          900,
          920.000000000001,
          940,
          959.9999999999999,
          979.9999999999999
         ],
         "y": [
          1184.1499999999899,
          1166.950000000001,
          1184.4500000000116,
          1175.1499999999999,
          1168.3999999999967,
          1178.950000000001,
          1180.4499999999966,
          1180.6749999999975,
          1172.8350000000019,
          1181.2300000000023,
          1173.6450000000025,
          1171.51,
          1178.8299999999972,
          1175.3450000000014,
          1182.9949999999972,
          1171.4449999999995,
          1186.3600000000017,
          1169.735000000002,
          1185.2499999999964,
          1173.3499999999988,
          1171.8600000000001,
          1184.7650000000053,
          1170.9599999999969,
          1181.5500000000031,
          1170.5849999999991,
          1190.704999999997,
          1168.3349999999994,
          1170.0150000000028,
          1182.835000000002,
          1174.934999999997,
          1185.6350000000007,
          1175.5299999999993,
          1182.0900000000001,
          1171.0250000000003,
          1180.5800000000004,
          1173.4150000000022,
          1169.7249999999985,
          1186.669999999998,
          1172.8750000000025,
          1184.4499999999987,
          1171.1200000000001,
          1183.1799999999994,
          1173.3350000000005,
          1184.7499999999993,
          1169.5899999999947,
          1177.5350000000058,
          1182.4129999999998,
          1167.2479999999887,
          1184.8265000000117,
          1175.4683,
          1197.0901999999999,
          1180.4720000000002,
          1177.3674999999942,
          1168.872,
          1187.3375000000058,
          1174.755000000001,
          1177.6649999999984,
          1176.1600000000003,
          1180.6400000000006,
          1174.1949999999997,
          1175.4749999999997,
          1183.5100000000025,
          1169.034999999999,
          1184.8949999999973,
          1175.0000000000034,
          1178.3299999999974,
          1172.7950000000023,
          1176.1149999999984,
          1184.270000000001,
          1169.8000000000002,
          1185.7449999999997,
          1168.5349999999967,
          1183.250000000006,
          1175.1199999999983,
          1176.8349999999998,
          1180.994999999998,
          1175.1649999999995,
          1180.905,
          1172.9350000000043,
          1182.0299999999988,
          1173.6900000000007,
          1175.0249999999953,
          1185.2599999999998,
          1168.9650000000058,
          1183.7799999999993,
          1167.395000000001,
          1190.4249999999938,
          1172.2200000000037,
          1182.174999999994,
          1171.665000000005,
          1169.1849999999988,
          1187.1650000000043,
          1172.6949999999977,
          1179.2999999999947,
          1174.0000000000043,
          1187.849999999942,
          1167.8500000000552,
          1174.1500000000121,
          1151.9999999999986,
          1203.2499999999977
         ]
        },
        {
         "marker": {
          "color": "red"
         },
         "mode": "markers",
         "name": "Top Two Peaks",
         "type": "scatter",
         "x": [
          0,
          -500
         ],
         "y": [
          1197.0901999999999,
          1190.704999999997
         ]
        },
        {
         "marker": {
          "color": "blue",
          "symbol": "cross"
         },
         "mode": "markers",
         "name": "Center Points",
         "type": "scatter",
         "x": [
          -2.5e-7
         ],
         "y": [
          0
         ]
        }
       ],
       "layout": {
        "annotations": [
         {
          "arrowcolor": "black",
          "arrowhead": 2,
          "arrowsize": 1,
          "arrowwidth": 2,
          "ax": -100,
          "ay": -200,
          "showarrow": true,
          "text": "Center Point: -250.0nA <br> Peak difference: 500.0 nA",
          "x": -250,
          "y": 0
         }
        ],
        "height": 960,
        "legend": {
         "orientation": "h",
         "x": 1,
         "xanchor": "right",
         "y": -0.07,
         "yanchor": "bottom"
        },
        "margin": {
         "b": 10,
         "l": 10,
         "r": 10,
         "t": 50
        },
        "template": {
         "data": {
          "bar": [
           {
            "error_x": {
             "color": "#2a3f5f"
            },
            "error_y": {
             "color": "#2a3f5f"
            },
            "marker": {
             "line": {
              "color": "#E5ECF6",
              "width": 0.5
             },
             "pattern": {
              "fillmode": "overlay",
              "size": 10,
              "solidity": 0.2
             }
            },
            "type": "bar"
           }
          ],
          "barpolar": [
           {
            "marker": {
             "line": {
              "color": "#E5ECF6",
              "width": 0.5
             },
             "pattern": {
              "fillmode": "overlay",
              "size": 10,
              "solidity": 0.2
             }
            },
            "type": "barpolar"
           }
          ],
          "carpet": [
           {
            "aaxis": {
             "endlinecolor": "#2a3f5f",
             "gridcolor": "white",
             "linecolor": "white",
             "minorgridcolor": "white",
             "startlinecolor": "#2a3f5f"
            },
            "baxis": {
             "endlinecolor": "#2a3f5f",
             "gridcolor": "white",
             "linecolor": "white",
             "minorgridcolor": "white",
             "startlinecolor": "#2a3f5f"
            },
            "type": "carpet"
           }
          ],
          "choropleth": [
           {
            "colorbar": {
             "outlinewidth": 0,
             "ticks": ""
            },
            "type": "choropleth"
           }
          ],
          "contour": [
           {
            "colorbar": {
             "outlinewidth": 0,
             "ticks": ""
            },
            "colorscale": [
             [
              0,
              "#0d0887"
             ],
             [
              0.1111111111111111,
              "#46039f"
             ],
             [
              0.2222222222222222,
              "#7201a8"
             ],
             [
              0.3333333333333333,
              "#9c179e"
             ],
             [
              0.4444444444444444,
              "#bd3786"
             ],
             [
              0.5555555555555556,
              "#d8576b"
             ],
             [
              0.6666666666666666,
              "#ed7953"
             ],
             [
              0.7777777777777778,
              "#fb9f3a"
             ],
             [
              0.8888888888888888,
              "#fdca26"
             ],
             [
              1,
              "#f0f921"
             ]
            ],
            "type": "contour"
           }
          ],
          "contourcarpet": [
           {
            "colorbar": {
             "outlinewidth": 0,
             "ticks": ""
            },
            "type": "contourcarpet"
           }
          ],
          "heatmap": [
           {
            "colorbar": {
             "outlinewidth": 0,
             "ticks": ""
            },
            "colorscale": [
             [
              0,
              "#0d0887"
             ],
             [
              0.1111111111111111,
              "#46039f"
             ],
             [
              0.2222222222222222,
              "#7201a8"
             ],
             [
              0.3333333333333333,
              "#9c179e"
             ],
             [
              0.4444444444444444,
              "#bd3786"
             ],
             [
              0.5555555555555556,
              "#d8576b"
             ],
             [
              0.6666666666666666,
              "#ed7953"
             ],
             [
              0.7777777777777778,
              "#fb9f3a"
             ],
             [
              0.8888888888888888,
              "#fdca26"
             ],
             [
              1,
              "#f0f921"
             ]
            ],
            "type": "heatmap"
           }
          ],
          "heatmapgl": [
           {
            "colorbar": {
             "outlinewidth": 0,
             "ticks": ""
            },
            "colorscale": [
             [
              0,
              "#0d0887"
             ],
             [
              0.1111111111111111,
              "#46039f"
             ],
             [
              0.2222222222222222,
              "#7201a8"
             ],
             [
              0.3333333333333333,
              "#9c179e"
             ],
             [
              0.4444444444444444,
              "#bd3786"
             ],
             [
              0.5555555555555556,
              "#d8576b"
             ],
             [
              0.6666666666666666,
              "#ed7953"
             ],
             [
              0.7777777777777778,
              "#fb9f3a"
             ],
             [
              0.8888888888888888,
              "#fdca26"
             ],
             [
              1,
              "#f0f921"
             ]
            ],
            "type": "heatmapgl"
           }
          ],
          "histogram": [
           {
            "marker": {
             "pattern": {
              "fillmode": "overlay",
              "size": 10,
              "solidity": 0.2
             }
            },
            "type": "histogram"
           }
          ],
          "histogram2d": [
           {
            "colorbar": {
             "outlinewidth": 0,
             "ticks": ""
            },
            "colorscale": [
             [
              0,
              "#0d0887"
             ],
             [
              0.1111111111111111,
              "#46039f"
             ],
             [
              0.2222222222222222,
              "#7201a8"
             ],
             [
              0.3333333333333333,
              "#9c179e"
             ],
             [
              0.4444444444444444,
              "#bd3786"
             ],
             [
              0.5555555555555556,
              "#d8576b"
             ],
             [
              0.6666666666666666,
              "#ed7953"
             ],
             [
              0.7777777777777778,
              "#fb9f3a"
             ],
             [
              0.8888888888888888,
              "#fdca26"
             ],
             [
              1,
              "#f0f921"
             ]
            ],
            "type": "histogram2d"
           }
          ],
          "histogram2dcontour": [
           {
            "colorbar": {
             "outlinewidth": 0,
             "ticks": ""
            },
            "colorscale": [
             [
              0,
              "#0d0887"
             ],
             [
              0.1111111111111111,
              "#46039f"
             ],
             [
              0.2222222222222222,
              "#7201a8"
             ],
             [
              0.3333333333333333,
              "#9c179e"
             ],
             [
              0.4444444444444444,
              "#bd3786"
             ],
             [
              0.5555555555555556,
              "#d8576b"
             ],
             [
              0.6666666666666666,
              "#ed7953"
             ],
             [
              0.7777777777777778,
              "#fb9f3a"
             ],
             [
              0.8888888888888888,
              "#fdca26"
             ],
             [
              1,
              "#f0f921"
             ]
            ],
            "type": "histogram2dcontour"
           }
          ],
          "mesh3d": [
           {
            "colorbar": {
             "outlinewidth": 0,
             "ticks": ""
            },
            "type": "mesh3d"
           }
          ],
          "parcoords": [
           {
            "line": {
             "colorbar": {
              "outlinewidth": 0,
              "ticks": ""
             }
            },
            "type": "parcoords"
           }
          ],
          "pie": [
           {
            "automargin": true,
            "type": "pie"
           }
          ],
          "scatter": [
           {
            "fillpattern": {
             "fillmode": "overlay",
             "size": 10,
             "solidity": 0.2
            },
            "type": "scatter"
           }
          ],
          "scatter3d": [
           {
            "line": {
             "colorbar": {
              "outlinewidth": 0,
              "ticks": ""
             }
            },
            "marker": {
             "colorbar": {
              "outlinewidth": 0,
              "ticks": ""
             }
            },
            "type": "scatter3d"
           }
          ],
          "scattercarpet": [
           {
            "marker": {
             "colorbar": {
              "outlinewidth": 0,
              "ticks": ""
             }
            },
            "type": "scattercarpet"
           }
          ],
          "scattergeo": [
           {
            "marker": {
             "colorbar": {
              "outlinewidth": 0,
              "ticks": ""
             }
            },
            "type": "scattergeo"
           }
          ],
          "scattergl": [
           {
            "marker": {
             "colorbar": {
              "outlinewidth": 0,
              "ticks": ""
             }
            },
            "type": "scattergl"
           }
          ],
          "scattermapbox": [
           {
            "marker": {
             "colorbar": {
              "outlinewidth": 0,
              "ticks": ""
             }
            },
            "type": "scattermapbox"
           }
          ],
          "scatterpolar": [
           {
            "marker": {
             "colorbar": {
              "outlinewidth": 0,
              "ticks": ""
             }
            },
            "type": "scatterpolar"
           }
          ],
          "scatterpolargl": [
           {
            "marker": {
             "colorbar": {
              "outlinewidth": 0,
              "ticks": ""
             }
            },
            "type": "scatterpolargl"
           }
          ],
          "scatterternary": [
           {
            "marker": {
             "colorbar": {
              "outlinewidth": 0,
              "ticks": ""
             }
            },
            "type": "scatterternary"
           }
          ],
          "surface": [
           {
            "colorbar": {
             "outlinewidth": 0,
             "ticks": ""
            },
            "colorscale": [
             [
              0,
              "#0d0887"
             ],
             [
              0.1111111111111111,
              "#46039f"
             ],
             [
              0.2222222222222222,
              "#7201a8"
             ],
             [
              0.3333333333333333,
              "#9c179e"
             ],
             [
              0.4444444444444444,
              "#bd3786"
             ],
             [
              0.5555555555555556,
              "#d8576b"
             ],
             [
              0.6666666666666666,
              "#ed7953"
             ],
             [
              0.7777777777777778,
              "#fb9f3a"
             ],
             [
              0.8888888888888888,
              "#fdca26"
             ],
             [
              1,
              "#f0f921"
             ]
            ],
            "type": "surface"
           }
          ],
          "table": [
           {
            "cells": {
             "fill": {
              "color": "#EBF0F8"
             },
             "line": {
              "color": "white"
             }
            },
            "header": {
             "fill": {
              "color": "#C8D4E3"
             },
             "line": {
              "color": "white"
             }
            },
            "type": "table"
           }
          ]
         },
         "layout": {
          "annotationdefaults": {
           "arrowcolor": "#2a3f5f",
           "arrowhead": 0,
           "arrowwidth": 1
          },
          "autotypenumbers": "strict",
          "coloraxis": {
           "colorbar": {
            "outlinewidth": 0,
            "ticks": ""
           }
          },
          "colorscale": {
           "diverging": [
            [
             0,
             "#8e0152"
            ],
            [
             0.1,
             "#c51b7d"
            ],
            [
             0.2,
             "#de77ae"
            ],
            [
             0.3,
             "#f1b6da"
            ],
            [
             0.4,
             "#fde0ef"
            ],
            [
             0.5,
             "#f7f7f7"
            ],
            [
             0.6,
             "#e6f5d0"
            ],
            [
             0.7,
             "#b8e186"
            ],
            [
             0.8,
             "#7fbc41"
            ],
            [
             0.9,
             "#4d9221"
            ],
            [
             1,
             "#276419"
            ]
           ],
           "sequential": [
            [
             0,
             "#0d0887"
            ],
            [
             0.1111111111111111,
             "#46039f"
            ],
            [
             0.2222222222222222,
             "#7201a8"
            ],
            [
             0.3333333333333333,
             "#9c179e"
            ],
            [
             0.4444444444444444,
             "#bd3786"
            ],
            [
             0.5555555555555556,
             "#d8576b"
            ],
            [
             0.6666666666666666,
             "#ed7953"
            ],
            [
             0.7777777777777778,
             "#fb9f3a"
            ],
            [
             0.8888888888888888,
             "#fdca26"
            ],
            [
             1,
             "#f0f921"
            ]
           ],
           "sequentialminus": [
            [
             0,
             "#0d0887"
            ],
            [
             0.1111111111111111,
             "#46039f"
            ],
            [
             0.2222222222222222,
             "#7201a8"
            ],
            [
             0.3333333333333333,
             "#9c179e"
            ],
            [
             0.4444444444444444,
             "#bd3786"
            ],
            [
             0.5555555555555556,
             "#d8576b"
            ],
            [
             0.6666666666666666,
             "#ed7953"
            ],
            [
             0.7777777777777778,
             "#fb9f3a"
            ],
            [
             0.8888888888888888,
             "#fdca26"
            ],
            [
             1,
             "#f0f921"
            ]
           ]
          },
          "colorway": [
           "#636efa",
           "#EF553B",
           "#00cc96",
           "#ab63fa",
           "#FFA15A",
           "#19d3f3",
           "#FF6692",
           "#B6E880",
           "#FF97FF",
           "#FECB52"
          ],
          "font": {
           "color": "#2a3f5f"
          },
          "geo": {
           "bgcolor": "white",
           "lakecolor": "white",
           "landcolor": "#E5ECF6",
           "showlakes": true,
           "showland": true,
           "subunitcolor": "white"
          },
          "hoverlabel": {
           "align": "left"
          },
          "hovermode": "closest",
          "mapbox": {
           "style": "light"
          },
          "paper_bgcolor": "white",
          "plot_bgcolor": "#E5ECF6",
          "polar": {
           "angularaxis": {
            "gridcolor": "white",
            "linecolor": "white",
            "ticks": ""
           },
           "bgcolor": "#E5ECF6",
           "radialaxis": {
            "gridcolor": "white",
            "linecolor": "white",
            "ticks": ""
           }
          },
          "scene": {
           "xaxis": {
            "backgroundcolor": "#E5ECF6",
            "gridcolor": "white",
            "gridwidth": 2,
            "linecolor": "white",
            "showbackground": true,
            "ticks": "",
            "zerolinecolor": "white"
           },
           "yaxis": {
            "backgroundcolor": "#E5ECF6",
            "gridcolor": "white",
            "gridwidth": 2,
            "linecolor": "white",
            "showbackground": true,
            "ticks": "",
            "zerolinecolor": "white"
           },
           "zaxis": {
            "backgroundcolor": "#E5ECF6",
            "gridcolor": "white",
            "gridwidth": 2,
            "linecolor": "white",
            "showbackground": true,
            "ticks": "",
            "zerolinecolor": "white"
           }
          },
          "shapedefaults": {
           "line": {
            "color": "#2a3f5f"
           }
          },
          "ternary": {
           "aaxis": {
            "gridcolor": "white",
            "linecolor": "white",
            "ticks": ""
           },
           "baxis": {
            "gridcolor": "white",
            "linecolor": "white",
            "ticks": ""
           },
           "bgcolor": "#E5ECF6",
           "caxis": {
            "gridcolor": "white",
            "linecolor": "white",
            "ticks": ""
           }
          },
          "title": {
           "x": 0.05
          },
          "xaxis": {
           "automargin": true,
           "gridcolor": "white",
           "linecolor": "white",
           "ticks": "",
           "title": {
            "standoff": 15
           },
           "zerolinecolor": "white",
           "zerolinewidth": 2
          },
          "yaxis": {
           "automargin": true,
           "gridcolor": "white",
           "linecolor": "white",
           "ticks": "",
           "title": {
            "standoff": 15
           },
           "zerolinecolor": "white",
           "zerolinewidth": 2
          }
         }
        },
        "title": {
         "font": {
          "size": 28
         },
         "text": "<b>#12 I-dV/dI</b> 104-1_J1_35-34-33-32_1M"
        },
        "width": 1080,
        "xaxis": {
         "tickfont": {
          "size": 16
         },
         "title": {
          "font": {
           "size": 20
          },
          "text": "Current (nA)"
         }
        },
        "yaxis": {
         "tickfont": {
          "size": 16
         },
         "title": {
          "font": {
           "size": 20
          },
          "text": "dV/dI"
         }
        }
       }
      }
     },
     "metadata": {},
     "output_type": "display_data"
    }
   ],
   "source": [
    "IV_diff(12)"
   ]
  },
  {
   "cell_type": "code",
   "execution_count": 108,
   "metadata": {},
   "outputs": [
    {
     "data": {
      "application/vnd.plotly.v1+json": {
       "config": {
        "plotlyServerURL": "https://plot.ly"
       },
       "data": [
        {
         "mode": "lines",
         "name": "Voltage vs. Current",
         "type": "scatter",
         "x": [
          -1e-7,
          -9.8e-8,
          -9.6e-8,
          -9.4e-8,
          -9.2e-8,
          -9e-8,
          -8.8e-8,
          -8.6e-8,
          -8.4e-8,
          -8.2e-8,
          -8e-8,
          -7.8e-8,
          -7.6e-8,
          -7.4e-8,
          -7.2e-8,
          -7e-8,
          -6.8e-8,
          -6.6e-8,
          -6.4e-8,
          -6.2e-8,
          -6e-8,
          -5.8e-8,
          -5.6e-8,
          -5.4e-8,
          -5.2e-8,
          -5e-8,
          -4.8e-8,
          -4.6e-8,
          -4.4e-8,
          -4.2e-8,
          -4e-8,
          -3.8e-8,
          -3.6e-8,
          -3.4e-8,
          -3.2e-8,
          -3e-8,
          -2.8e-8,
          -2.6e-8,
          -2.4e-8,
          -2.2e-8,
          -2e-8,
          -1.8e-8,
          -1.6e-8,
          -1.4e-8,
          -1.2e-8,
          -1e-8,
          -8.00000000000001e-9,
          -6.00000000000001e-9,
          -4.00000000000001e-9,
          -2e-9,
          -1.32348898008484e-23,
          1.99999999999999e-9,
          3.99999999999998e-9,
          5.99999999999999e-9,
          7.99999999999999e-9,
          9.99999999999998e-9,
          1.2e-8,
          1.4e-8,
          1.6e-8,
          1.8e-8,
          2e-8,
          2.2e-8,
          2.4e-8,
          2.6e-8,
          2.8e-8,
          3e-8,
          3.2e-8,
          3.4e-8,
          3.6e-8,
          3.8e-8,
          4e-8,
          4.2e-8,
          4.4e-8,
          4.6e-8,
          4.8e-8,
          5e-8,
          5.2e-8,
          5.4e-8,
          5.6e-8,
          5.8e-8,
          6e-8,
          6.2e-8,
          6.4e-8,
          6.6e-8,
          6.8e-8,
          7e-8,
          7.2e-8,
          7.4e-8,
          7.6e-8,
          7.8e-8,
          8e-8,
          8.2e-8,
          8.4e-8,
          8.6e-8,
          8.8e-8,
          9e-8,
          9.2e-8,
          9.4e-8,
          9.6e-8,
          9.8e-8,
          1e-7
         ],
         "y": [
          -83.25396,
          -82.78389,
          -81.76379,
          -80.5449,
          -79.12437,
          -77.36941999999999,
          -76.02488,
          -74.57763,
          -73.08605999999999,
          -71.76636,
          -69.7665,
          -68.30696,
          -66.73962999999999,
          -65.16065,
          -63.6057,
          -61.73694,
          -60.21184,
          -58.67385,
          -57.06268,
          -55.377950000000006,
          -53.372820000000004,
          -51.907540000000004,
          -50.351060000000004,
          -48.76908,
          -47.15035,
          -45.08602,
          -43.53264,
          -41.964389999999995,
          -40.34113,
          -38.737809999999996,
          -36.67859,
          -35.20509,
          -33.58256,
          -31.881390000000003,
          -30.24446,
          -28.163790000000002,
          -26.756970000000003,
          -25.10051,
          -23.43855,
          -21.71618,
          -19.74445,
          -18.104490000000002,
          -16.46173,
          -14.79987,
          -13.0915,
          -11.02366,
          -8.649578,
          -7.385591000000001,
          -5.851643,
          -4.286774,
          -2.2440569999999997,
          0.2470255,
          1.73329,
          3.2000330000000003,
          4.82225,
          6.824818,
          8.26399,
          10.014489999999999,
          11.68544,
          14.10694,
          15.753840000000002,
          17.19757,
          18.716880000000003,
          20.41554,
          22.14648,
          24.26032,
          25.68382,
          27.39494,
          29.03826,
          30.71098,
          32.89106,
          34.45565,
          36.08656,
          37.76021,
          39.46855,
          41.58875,
          43.12377,
          44.80692,
          46.51973,
          48.0595,
          50.294489999999996,
          51.86514,
          53.49798,
          55.17021,
          56.900800000000004,
          59.028209999999994,
          60.61215,
          62.26131,
          63.943749999999994,
          65.64623999999999,
          67.75354999999999,
          69.3561,
          71.01768,
          72.75136,
          74.43078,
          76.53103,
          78.08239999999999,
          79.76535999999999,
          81.44294000000001,
          83.18733,
          85.31867
         ]
        }
       ],
       "layout": {
        "height": 960,
        "margin": {
         "b": 10,
         "l": 10,
         "r": 10,
         "t": 50
        },
        "template": {
         "data": {
          "bar": [
           {
            "error_x": {
             "color": "#2a3f5f"
            },
            "error_y": {
             "color": "#2a3f5f"
            },
            "marker": {
             "line": {
              "color": "#E5ECF6",
              "width": 0.5
             },
             "pattern": {
              "fillmode": "overlay",
              "size": 10,
              "solidity": 0.2
             }
            },
            "type": "bar"
           }
          ],
          "barpolar": [
           {
            "marker": {
             "line": {
              "color": "#E5ECF6",
              "width": 0.5
             },
             "pattern": {
              "fillmode": "overlay",
              "size": 10,
              "solidity": 0.2
             }
            },
            "type": "barpolar"
           }
          ],
          "carpet": [
           {
            "aaxis": {
             "endlinecolor": "#2a3f5f",
             "gridcolor": "white",
             "linecolor": "white",
             "minorgridcolor": "white",
             "startlinecolor": "#2a3f5f"
            },
            "baxis": {
             "endlinecolor": "#2a3f5f",
             "gridcolor": "white",
             "linecolor": "white",
             "minorgridcolor": "white",
             "startlinecolor": "#2a3f5f"
            },
            "type": "carpet"
           }
          ],
          "choropleth": [
           {
            "colorbar": {
             "outlinewidth": 0,
             "ticks": ""
            },
            "type": "choropleth"
           }
          ],
          "contour": [
           {
            "colorbar": {
             "outlinewidth": 0,
             "ticks": ""
            },
            "colorscale": [
             [
              0,
              "#0d0887"
             ],
             [
              0.1111111111111111,
              "#46039f"
             ],
             [
              0.2222222222222222,
              "#7201a8"
             ],
             [
              0.3333333333333333,
              "#9c179e"
             ],
             [
              0.4444444444444444,
              "#bd3786"
             ],
             [
              0.5555555555555556,
              "#d8576b"
             ],
             [
              0.6666666666666666,
              "#ed7953"
             ],
             [
              0.7777777777777778,
              "#fb9f3a"
             ],
             [
              0.8888888888888888,
              "#fdca26"
             ],
             [
              1,
              "#f0f921"
             ]
            ],
            "type": "contour"
           }
          ],
          "contourcarpet": [
           {
            "colorbar": {
             "outlinewidth": 0,
             "ticks": ""
            },
            "type": "contourcarpet"
           }
          ],
          "heatmap": [
           {
            "colorbar": {
             "outlinewidth": 0,
             "ticks": ""
            },
            "colorscale": [
             [
              0,
              "#0d0887"
             ],
             [
              0.1111111111111111,
              "#46039f"
             ],
             [
              0.2222222222222222,
              "#7201a8"
             ],
             [
              0.3333333333333333,
              "#9c179e"
             ],
             [
              0.4444444444444444,
              "#bd3786"
             ],
             [
              0.5555555555555556,
              "#d8576b"
             ],
             [
              0.6666666666666666,
              "#ed7953"
             ],
             [
              0.7777777777777778,
              "#fb9f3a"
             ],
             [
              0.8888888888888888,
              "#fdca26"
             ],
             [
              1,
              "#f0f921"
             ]
            ],
            "type": "heatmap"
           }
          ],
          "heatmapgl": [
           {
            "colorbar": {
             "outlinewidth": 0,
             "ticks": ""
            },
            "colorscale": [
             [
              0,
              "#0d0887"
             ],
             [
              0.1111111111111111,
              "#46039f"
             ],
             [
              0.2222222222222222,
              "#7201a8"
             ],
             [
              0.3333333333333333,
              "#9c179e"
             ],
             [
              0.4444444444444444,
              "#bd3786"
             ],
             [
              0.5555555555555556,
              "#d8576b"
             ],
             [
              0.6666666666666666,
              "#ed7953"
             ],
             [
              0.7777777777777778,
              "#fb9f3a"
             ],
             [
              0.8888888888888888,
              "#fdca26"
             ],
             [
              1,
              "#f0f921"
             ]
            ],
            "type": "heatmapgl"
           }
          ],
          "histogram": [
           {
            "marker": {
             "pattern": {
              "fillmode": "overlay",
              "size": 10,
              "solidity": 0.2
             }
            },
            "type": "histogram"
           }
          ],
          "histogram2d": [
           {
            "colorbar": {
             "outlinewidth": 0,
             "ticks": ""
            },
            "colorscale": [
             [
              0,
              "#0d0887"
             ],
             [
              0.1111111111111111,
              "#46039f"
             ],
             [
              0.2222222222222222,
              "#7201a8"
             ],
             [
              0.3333333333333333,
              "#9c179e"
             ],
             [
              0.4444444444444444,
              "#bd3786"
             ],
             [
              0.5555555555555556,
              "#d8576b"
             ],
             [
              0.6666666666666666,
              "#ed7953"
             ],
             [
              0.7777777777777778,
              "#fb9f3a"
             ],
             [
              0.8888888888888888,
              "#fdca26"
             ],
             [
              1,
              "#f0f921"
             ]
            ],
            "type": "histogram2d"
           }
          ],
          "histogram2dcontour": [
           {
            "colorbar": {
             "outlinewidth": 0,
             "ticks": ""
            },
            "colorscale": [
             [
              0,
              "#0d0887"
             ],
             [
              0.1111111111111111,
              "#46039f"
             ],
             [
              0.2222222222222222,
              "#7201a8"
             ],
             [
              0.3333333333333333,
              "#9c179e"
             ],
             [
              0.4444444444444444,
              "#bd3786"
             ],
             [
              0.5555555555555556,
              "#d8576b"
             ],
             [
              0.6666666666666666,
              "#ed7953"
             ],
             [
              0.7777777777777778,
              "#fb9f3a"
             ],
             [
              0.8888888888888888,
              "#fdca26"
             ],
             [
              1,
              "#f0f921"
             ]
            ],
            "type": "histogram2dcontour"
           }
          ],
          "mesh3d": [
           {
            "colorbar": {
             "outlinewidth": 0,
             "ticks": ""
            },
            "type": "mesh3d"
           }
          ],
          "parcoords": [
           {
            "line": {
             "colorbar": {
              "outlinewidth": 0,
              "ticks": ""
             }
            },
            "type": "parcoords"
           }
          ],
          "pie": [
           {
            "automargin": true,
            "type": "pie"
           }
          ],
          "scatter": [
           {
            "fillpattern": {
             "fillmode": "overlay",
             "size": 10,
             "solidity": 0.2
            },
            "type": "scatter"
           }
          ],
          "scatter3d": [
           {
            "line": {
             "colorbar": {
              "outlinewidth": 0,
              "ticks": ""
             }
            },
            "marker": {
             "colorbar": {
              "outlinewidth": 0,
              "ticks": ""
             }
            },
            "type": "scatter3d"
           }
          ],
          "scattercarpet": [
           {
            "marker": {
             "colorbar": {
              "outlinewidth": 0,
              "ticks": ""
             }
            },
            "type": "scattercarpet"
           }
          ],
          "scattergeo": [
           {
            "marker": {
             "colorbar": {
              "outlinewidth": 0,
              "ticks": ""
             }
            },
            "type": "scattergeo"
           }
          ],
          "scattergl": [
           {
            "marker": {
             "colorbar": {
              "outlinewidth": 0,
              "ticks": ""
             }
            },
            "type": "scattergl"
           }
          ],
          "scattermapbox": [
           {
            "marker": {
             "colorbar": {
              "outlinewidth": 0,
              "ticks": ""
             }
            },
            "type": "scattermapbox"
           }
          ],
          "scatterpolar": [
           {
            "marker": {
             "colorbar": {
              "outlinewidth": 0,
              "ticks": ""
             }
            },
            "type": "scatterpolar"
           }
          ],
          "scatterpolargl": [
           {
            "marker": {
             "colorbar": {
              "outlinewidth": 0,
              "ticks": ""
             }
            },
            "type": "scatterpolargl"
           }
          ],
          "scatterternary": [
           {
            "marker": {
             "colorbar": {
              "outlinewidth": 0,
              "ticks": ""
             }
            },
            "type": "scatterternary"
           }
          ],
          "surface": [
           {
            "colorbar": {
             "outlinewidth": 0,
             "ticks": ""
            },
            "colorscale": [
             [
              0,
              "#0d0887"
             ],
             [
              0.1111111111111111,
              "#46039f"
             ],
             [
              0.2222222222222222,
              "#7201a8"
             ],
             [
              0.3333333333333333,
              "#9c179e"
             ],
             [
              0.4444444444444444,
              "#bd3786"
             ],
             [
              0.5555555555555556,
              "#d8576b"
             ],
             [
              0.6666666666666666,
              "#ed7953"
             ],
             [
              0.7777777777777778,
              "#fb9f3a"
             ],
             [
              0.8888888888888888,
              "#fdca26"
             ],
             [
              1,
              "#f0f921"
             ]
            ],
            "type": "surface"
           }
          ],
          "table": [
           {
            "cells": {
             "fill": {
              "color": "#EBF0F8"
             },
             "line": {
              "color": "white"
             }
            },
            "header": {
             "fill": {
              "color": "#C8D4E3"
             },
             "line": {
              "color": "white"
             }
            },
            "type": "table"
           }
          ]
         },
         "layout": {
          "annotationdefaults": {
           "arrowcolor": "#2a3f5f",
           "arrowhead": 0,
           "arrowwidth": 1
          },
          "autotypenumbers": "strict",
          "coloraxis": {
           "colorbar": {
            "outlinewidth": 0,
            "ticks": ""
           }
          },
          "colorscale": {
           "diverging": [
            [
             0,
             "#8e0152"
            ],
            [
             0.1,
             "#c51b7d"
            ],
            [
             0.2,
             "#de77ae"
            ],
            [
             0.3,
             "#f1b6da"
            ],
            [
             0.4,
             "#fde0ef"
            ],
            [
             0.5,
             "#f7f7f7"
            ],
            [
             0.6,
             "#e6f5d0"
            ],
            [
             0.7,
             "#b8e186"
            ],
            [
             0.8,
             "#7fbc41"
            ],
            [
             0.9,
             "#4d9221"
            ],
            [
             1,
             "#276419"
            ]
           ],
           "sequential": [
            [
             0,
             "#0d0887"
            ],
            [
             0.1111111111111111,
             "#46039f"
            ],
            [
             0.2222222222222222,
             "#7201a8"
            ],
            [
             0.3333333333333333,
             "#9c179e"
            ],
            [
             0.4444444444444444,
             "#bd3786"
            ],
            [
             0.5555555555555556,
             "#d8576b"
            ],
            [
             0.6666666666666666,
             "#ed7953"
            ],
            [
             0.7777777777777778,
             "#fb9f3a"
            ],
            [
             0.8888888888888888,
             "#fdca26"
            ],
            [
             1,
             "#f0f921"
            ]
           ],
           "sequentialminus": [
            [
             0,
             "#0d0887"
            ],
            [
             0.1111111111111111,
             "#46039f"
            ],
            [
             0.2222222222222222,
             "#7201a8"
            ],
            [
             0.3333333333333333,
             "#9c179e"
            ],
            [
             0.4444444444444444,
             "#bd3786"
            ],
            [
             0.5555555555555556,
             "#d8576b"
            ],
            [
             0.6666666666666666,
             "#ed7953"
            ],
            [
             0.7777777777777778,
             "#fb9f3a"
            ],
            [
             0.8888888888888888,
             "#fdca26"
            ],
            [
             1,
             "#f0f921"
            ]
           ]
          },
          "colorway": [
           "#636efa",
           "#EF553B",
           "#00cc96",
           "#ab63fa",
           "#FFA15A",
           "#19d3f3",
           "#FF6692",
           "#B6E880",
           "#FF97FF",
           "#FECB52"
          ],
          "font": {
           "color": "#2a3f5f"
          },
          "geo": {
           "bgcolor": "white",
           "lakecolor": "white",
           "landcolor": "#E5ECF6",
           "showlakes": true,
           "showland": true,
           "subunitcolor": "white"
          },
          "hoverlabel": {
           "align": "left"
          },
          "hovermode": "closest",
          "mapbox": {
           "style": "light"
          },
          "paper_bgcolor": "white",
          "plot_bgcolor": "#E5ECF6",
          "polar": {
           "angularaxis": {
            "gridcolor": "white",
            "linecolor": "white",
            "ticks": ""
           },
           "bgcolor": "#E5ECF6",
           "radialaxis": {
            "gridcolor": "white",
            "linecolor": "white",
            "ticks": ""
           }
          },
          "scene": {
           "xaxis": {
            "backgroundcolor": "#E5ECF6",
            "gridcolor": "white",
            "gridwidth": 2,
            "linecolor": "white",
            "showbackground": true,
            "ticks": "",
            "zerolinecolor": "white"
           },
           "yaxis": {
            "backgroundcolor": "#E5ECF6",
            "gridcolor": "white",
            "gridwidth": 2,
            "linecolor": "white",
            "showbackground": true,
            "ticks": "",
            "zerolinecolor": "white"
           },
           "zaxis": {
            "backgroundcolor": "#E5ECF6",
            "gridcolor": "white",
            "gridwidth": 2,
            "linecolor": "white",
            "showbackground": true,
            "ticks": "",
            "zerolinecolor": "white"
           }
          },
          "shapedefaults": {
           "line": {
            "color": "#2a3f5f"
           }
          },
          "ternary": {
           "aaxis": {
            "gridcolor": "white",
            "linecolor": "white",
            "ticks": ""
           },
           "baxis": {
            "gridcolor": "white",
            "linecolor": "white",
            "ticks": ""
           },
           "bgcolor": "#E5ECF6",
           "caxis": {
            "gridcolor": "white",
            "linecolor": "white",
            "ticks": ""
           }
          },
          "title": {
           "x": 0.05
          },
          "xaxis": {
           "automargin": true,
           "gridcolor": "white",
           "linecolor": "white",
           "ticks": "",
           "title": {
            "standoff": 15
           },
           "zerolinecolor": "white",
           "zerolinewidth": 2
          },
          "yaxis": {
           "automargin": true,
           "gridcolor": "white",
           "linecolor": "white",
           "ticks": "",
           "title": {
            "standoff": 15
           },
           "zerolinecolor": "white",
           "zerolinewidth": 2
          }
         }
        },
        "title": {
         "font": {
          "size": 28
         },
         "text": "<b>#45 I-V</b> 104-06_J3_15-14-28-28_1M, R_fit=858639.9429 Ω"
        },
        "width": 1080,
        "xaxis": {
         "tickfont": {
          "size": 16
         },
         "title": {
          "font": {
           "size": 20
          },
          "text": "appl_current"
         }
        },
        "yaxis": {
         "tickfont": {
          "size": 16
         },
         "title": {
          "font": {
           "size": 20
          },
          "text": "meas_voltage_K1 mV"
         }
        }
       }
      }
     },
     "metadata": {},
     "output_type": "display_data"
    }
   ],
   "source": [
    "IV(run_id=45)"
   ]
  },
  {
   "cell_type": "code",
   "execution_count": null,
   "metadata": {},
   "outputs": [],
   "source": [
    "IV(12)"
   ]
  },
  {
   "cell_type": "code",
   "execution_count": null,
   "metadata": {},
   "outputs": [
    {
     "data": {
      "application/vnd.plotly.v1+json": {
       "config": {
        "plotlyServerURL": "https://plot.ly"
       },
       "data": [
        {
         "mode": "lines",
         "name": "Voltage vs. Current",
         "type": "scatter",
         "x": [
          -0.000001,
          -9.8e-7,
          -9.6e-7,
          -9.4e-7,
          -9.2e-7,
          -9e-7,
          -8.8e-7,
          -8.6e-7,
          -8.4e-7,
          -8.2e-7,
          -8e-7,
          -7.8e-7,
          -7.6e-7,
          -7.4e-7,
          -7.2e-7,
          -7e-7,
          -6.8e-7,
          -6.6e-7,
          -6.4e-7,
          -6.2e-7,
          -6e-7,
          -5.8e-7,
          -5.6e-7,
          -5.4e-7,
          -5.2e-7,
          -5e-7,
          -4.8e-7,
          -4.6e-7,
          -4.4e-7,
          -4.2e-7,
          -4e-7,
          -3.8e-7,
          -3.6e-7,
          -3.4e-7,
          -3.2e-7,
          -3e-7,
          -2.8e-7,
          -2.6e-7,
          -2.4e-7,
          -2.2e-7,
          -2e-7,
          -1.8e-7,
          -1.6e-7,
          -1.4e-7,
          -1.2e-7,
          -9.99999999999999e-8,
          -8e-8,
          -6e-8,
          -3.99999999999998e-8,
          -2e-8,
          0,
          2e-8,
          4e-8,
          6.00000000000001e-8,
          8.00000000000001e-8,
          1e-7,
          1.2e-7,
          1.4e-7,
          1.6e-7,
          1.8e-7,
          2e-7,
          2.2e-7,
          2.4e-7,
          2.6e-7,
          2.8e-7,
          3e-7,
          3.2e-7,
          3.4e-7,
          3.6e-7,
          3.8e-7,
          4e-7,
          4.2e-7,
          4.4e-7,
          4.6e-7,
          4.8e-7,
          5e-7,
          5.2e-7,
          5.4e-7,
          5.6e-7,
          5.8e-7,
          6e-7,
          6.2e-7,
          6.4e-7,
          6.6e-7,
          6.8e-7,
          7e-7,
          7.2e-7,
          7.4e-7,
          7.6e-7,
          7.8e-7,
          8e-7,
          8.2e-7,
          8.4e-7,
          8.6e-7,
          8.8e-7,
          9e-7,
          9.20000000000001e-7,
          9.4e-7,
          9.6e-7,
          9.8e-7,
          0.000001
         ],
         "y": [
          -1.184253,
          -1.16057,
          -1.137231,
          -1.1135419999999998,
          -1.090039,
          -1.066671,
          -1.0430920000000001,
          -1.0194830000000001,
          -0.9958695000000001,
          -0.9724128000000001,
          -0.9487882,
          -0.9253153000000001,
          -0.9018851,
          -0.8783085,
          -0.8548015999999999,
          -0.8311417,
          -0.8077128,
          -0.7839856000000001,
          -0.7605909,
          -0.7368859000000001,
          -0.7134189000000001,
          -0.6899817,
          -0.6662864000000001,
          -0.6428672000000001,
          -0.6192362,
          -0.5958245,
          -0.5720104,
          -0.5486437000000001,
          -0.5252434,
          -0.5015866999999999,
          -0.478088,
          -0.45437530000000004,
          -0.4308647,
          -0.4072229,
          -0.3838024,
          -0.3601908,
          -0.3367225,
          -0.313328,
          -0.2895946,
          -0.26613709999999996,
          -0.2424481,
          -0.2190257,
          -0.1953621,
          -0.1718954,
          -0.1482004,
          -0.1248086,
          -0.10125790000000001,
          -0.07760964,
          -0.05426468,
          -0.03056815,
          -0.007058783999999999,
          0.01688302,
          0.04049246,
          0.06403981,
          0.08741725,
          0.111164,
          0.1346591,
          0.1582124,
          0.1817356,
          0.20534840000000001,
          0.2288323,
          0.2523418,
          0.27601200000000004,
          0.2993927,
          0.3230906,
          0.3465906,
          0.37015719999999996,
          0.3936131,
          0.4171354,
          0.4408208,
          0.4642168,
          0.4879317,
          0.5113023999999999,
          0.5349674000000001,
          0.5584698,
          0.5820065,
          0.6056264,
          0.6291297,
          0.6527478,
          0.6762065,
          0.6998471,
          0.7233209,
          0.7468214,
          0.7705266,
          0.7939059,
          0.8175815,
          0.8409294,
          0.8647379,
          0.8881823000000001,
          0.9118257999999999,
          0.9352590999999999,
          0.9586427999999999,
          0.9823861,
          1.00584,
          1.029426,
          1.052906,
          1.0766630000000001,
          1.10002,
          1.1235030000000001,
          1.146543,
          1.170608
         ]
        }
       ],
       "layout": {
        "height": 480,
        "margin": {
         "b": 5,
         "l": 0,
         "r": 10,
         "t": 35
        },
        "template": {
         "data": {
          "bar": [
           {
            "error_x": {
             "color": "#2a3f5f"
            },
            "error_y": {
             "color": "#2a3f5f"
            },
            "marker": {
             "line": {
              "color": "#E5ECF6",
              "width": 0.5
             },
             "pattern": {
              "fillmode": "overlay",
              "size": 10,
              "solidity": 0.2
             }
            },
            "type": "bar"
           }
          ],
          "barpolar": [
           {
            "marker": {
             "line": {
              "color": "#E5ECF6",
              "width": 0.5
             },
             "pattern": {
              "fillmode": "overlay",
              "size": 10,
              "solidity": 0.2
             }
            },
            "type": "barpolar"
           }
          ],
          "carpet": [
           {
            "aaxis": {
             "endlinecolor": "#2a3f5f",
             "gridcolor": "white",
             "linecolor": "white",
             "minorgridcolor": "white",
             "startlinecolor": "#2a3f5f"
            },
            "baxis": {
             "endlinecolor": "#2a3f5f",
             "gridcolor": "white",
             "linecolor": "white",
             "minorgridcolor": "white",
             "startlinecolor": "#2a3f5f"
            },
            "type": "carpet"
           }
          ],
          "choropleth": [
           {
            "colorbar": {
             "outlinewidth": 0,
             "ticks": ""
            },
            "type": "choropleth"
           }
          ],
          "contour": [
           {
            "colorbar": {
             "outlinewidth": 0,
             "ticks": ""
            },
            "colorscale": [
             [
              0,
              "#0d0887"
             ],
             [
              0.1111111111111111,
              "#46039f"
             ],
             [
              0.2222222222222222,
              "#7201a8"
             ],
             [
              0.3333333333333333,
              "#9c179e"
             ],
             [
              0.4444444444444444,
              "#bd3786"
             ],
             [
              0.5555555555555556,
              "#d8576b"
             ],
             [
              0.6666666666666666,
              "#ed7953"
             ],
             [
              0.7777777777777778,
              "#fb9f3a"
             ],
             [
              0.8888888888888888,
              "#fdca26"
             ],
             [
              1,
              "#f0f921"
             ]
            ],
            "type": "contour"
           }
          ],
          "contourcarpet": [
           {
            "colorbar": {
             "outlinewidth": 0,
             "ticks": ""
            },
            "type": "contourcarpet"
           }
          ],
          "heatmap": [
           {
            "colorbar": {
             "outlinewidth": 0,
             "ticks": ""
            },
            "colorscale": [
             [
              0,
              "#0d0887"
             ],
             [
              0.1111111111111111,
              "#46039f"
             ],
             [
              0.2222222222222222,
              "#7201a8"
             ],
             [
              0.3333333333333333,
              "#9c179e"
             ],
             [
              0.4444444444444444,
              "#bd3786"
             ],
             [
              0.5555555555555556,
              "#d8576b"
             ],
             [
              0.6666666666666666,
              "#ed7953"
             ],
             [
              0.7777777777777778,
              "#fb9f3a"
             ],
             [
              0.8888888888888888,
              "#fdca26"
             ],
             [
              1,
              "#f0f921"
             ]
            ],
            "type": "heatmap"
           }
          ],
          "heatmapgl": [
           {
            "colorbar": {
             "outlinewidth": 0,
             "ticks": ""
            },
            "colorscale": [
             [
              0,
              "#0d0887"
             ],
             [
              0.1111111111111111,
              "#46039f"
             ],
             [
              0.2222222222222222,
              "#7201a8"
             ],
             [
              0.3333333333333333,
              "#9c179e"
             ],
             [
              0.4444444444444444,
              "#bd3786"
             ],
             [
              0.5555555555555556,
              "#d8576b"
             ],
             [
              0.6666666666666666,
              "#ed7953"
             ],
             [
              0.7777777777777778,
              "#fb9f3a"
             ],
             [
              0.8888888888888888,
              "#fdca26"
             ],
             [
              1,
              "#f0f921"
             ]
            ],
            "type": "heatmapgl"
           }
          ],
          "histogram": [
           {
            "marker": {
             "pattern": {
              "fillmode": "overlay",
              "size": 10,
              "solidity": 0.2
             }
            },
            "type": "histogram"
           }
          ],
          "histogram2d": [
           {
            "colorbar": {
             "outlinewidth": 0,
             "ticks": ""
            },
            "colorscale": [
             [
              0,
              "#0d0887"
             ],
             [
              0.1111111111111111,
              "#46039f"
             ],
             [
              0.2222222222222222,
              "#7201a8"
             ],
             [
              0.3333333333333333,
              "#9c179e"
             ],
             [
              0.4444444444444444,
              "#bd3786"
             ],
             [
              0.5555555555555556,
              "#d8576b"
             ],
             [
              0.6666666666666666,
              "#ed7953"
             ],
             [
              0.7777777777777778,
              "#fb9f3a"
             ],
             [
              0.8888888888888888,
              "#fdca26"
             ],
             [
              1,
              "#f0f921"
             ]
            ],
            "type": "histogram2d"
           }
          ],
          "histogram2dcontour": [
           {
            "colorbar": {
             "outlinewidth": 0,
             "ticks": ""
            },
            "colorscale": [
             [
              0,
              "#0d0887"
             ],
             [
              0.1111111111111111,
              "#46039f"
             ],
             [
              0.2222222222222222,
              "#7201a8"
             ],
             [
              0.3333333333333333,
              "#9c179e"
             ],
             [
              0.4444444444444444,
              "#bd3786"
             ],
             [
              0.5555555555555556,
              "#d8576b"
             ],
             [
              0.6666666666666666,
              "#ed7953"
             ],
             [
              0.7777777777777778,
              "#fb9f3a"
             ],
             [
              0.8888888888888888,
              "#fdca26"
             ],
             [
              1,
              "#f0f921"
             ]
            ],
            "type": "histogram2dcontour"
           }
          ],
          "mesh3d": [
           {
            "colorbar": {
             "outlinewidth": 0,
             "ticks": ""
            },
            "type": "mesh3d"
           }
          ],
          "parcoords": [
           {
            "line": {
             "colorbar": {
              "outlinewidth": 0,
              "ticks": ""
             }
            },
            "type": "parcoords"
           }
          ],
          "pie": [
           {
            "automargin": true,
            "type": "pie"
           }
          ],
          "scatter": [
           {
            "fillpattern": {
             "fillmode": "overlay",
             "size": 10,
             "solidity": 0.2
            },
            "type": "scatter"
           }
          ],
          "scatter3d": [
           {
            "line": {
             "colorbar": {
              "outlinewidth": 0,
              "ticks": ""
             }
            },
            "marker": {
             "colorbar": {
              "outlinewidth": 0,
              "ticks": ""
             }
            },
            "type": "scatter3d"
           }
          ],
          "scattercarpet": [
           {
            "marker": {
             "colorbar": {
              "outlinewidth": 0,
              "ticks": ""
             }
            },
            "type": "scattercarpet"
           }
          ],
          "scattergeo": [
           {
            "marker": {
             "colorbar": {
              "outlinewidth": 0,
              "ticks": ""
             }
            },
            "type": "scattergeo"
           }
          ],
          "scattergl": [
           {
            "marker": {
             "colorbar": {
              "outlinewidth": 0,
              "ticks": ""
             }
            },
            "type": "scattergl"
           }
          ],
          "scattermapbox": [
           {
            "marker": {
             "colorbar": {
              "outlinewidth": 0,
              "ticks": ""
             }
            },
            "type": "scattermapbox"
           }
          ],
          "scatterpolar": [
           {
            "marker": {
             "colorbar": {
              "outlinewidth": 0,
              "ticks": ""
             }
            },
            "type": "scatterpolar"
           }
          ],
          "scatterpolargl": [
           {
            "marker": {
             "colorbar": {
              "outlinewidth": 0,
              "ticks": ""
             }
            },
            "type": "scatterpolargl"
           }
          ],
          "scatterternary": [
           {
            "marker": {
             "colorbar": {
              "outlinewidth": 0,
              "ticks": ""
             }
            },
            "type": "scatterternary"
           }
          ],
          "surface": [
           {
            "colorbar": {
             "outlinewidth": 0,
             "ticks": ""
            },
            "colorscale": [
             [
              0,
              "#0d0887"
             ],
             [
              0.1111111111111111,
              "#46039f"
             ],
             [
              0.2222222222222222,
              "#7201a8"
             ],
             [
              0.3333333333333333,
              "#9c179e"
             ],
             [
              0.4444444444444444,
              "#bd3786"
             ],
             [
              0.5555555555555556,
              "#d8576b"
             ],
             [
              0.6666666666666666,
              "#ed7953"
             ],
             [
              0.7777777777777778,
              "#fb9f3a"
             ],
             [
              0.8888888888888888,
              "#fdca26"
             ],
             [
              1,
              "#f0f921"
             ]
            ],
            "type": "surface"
           }
          ],
          "table": [
           {
            "cells": {
             "fill": {
              "color": "#EBF0F8"
             },
             "line": {
              "color": "white"
             }
            },
            "header": {
             "fill": {
              "color": "#C8D4E3"
             },
             "line": {
              "color": "white"
             }
            },
            "type": "table"
           }
          ]
         },
         "layout": {
          "annotationdefaults": {
           "arrowcolor": "#2a3f5f",
           "arrowhead": 0,
           "arrowwidth": 1
          },
          "autotypenumbers": "strict",
          "coloraxis": {
           "colorbar": {
            "outlinewidth": 0,
            "ticks": ""
           }
          },
          "colorscale": {
           "diverging": [
            [
             0,
             "#8e0152"
            ],
            [
             0.1,
             "#c51b7d"
            ],
            [
             0.2,
             "#de77ae"
            ],
            [
             0.3,
             "#f1b6da"
            ],
            [
             0.4,
             "#fde0ef"
            ],
            [
             0.5,
             "#f7f7f7"
            ],
            [
             0.6,
             "#e6f5d0"
            ],
            [
             0.7,
             "#b8e186"
            ],
            [
             0.8,
             "#7fbc41"
            ],
            [
             0.9,
             "#4d9221"
            ],
            [
             1,
             "#276419"
            ]
           ],
           "sequential": [
            [
             0,
             "#0d0887"
            ],
            [
             0.1111111111111111,
             "#46039f"
            ],
            [
             0.2222222222222222,
             "#7201a8"
            ],
            [
             0.3333333333333333,
             "#9c179e"
            ],
            [
             0.4444444444444444,
             "#bd3786"
            ],
            [
             0.5555555555555556,
             "#d8576b"
            ],
            [
             0.6666666666666666,
             "#ed7953"
            ],
            [
             0.7777777777777778,
             "#fb9f3a"
            ],
            [
             0.8888888888888888,
             "#fdca26"
            ],
            [
             1,
             "#f0f921"
            ]
           ],
           "sequentialminus": [
            [
             0,
             "#0d0887"
            ],
            [
             0.1111111111111111,
             "#46039f"
            ],
            [
             0.2222222222222222,
             "#7201a8"
            ],
            [
             0.3333333333333333,
             "#9c179e"
            ],
            [
             0.4444444444444444,
             "#bd3786"
            ],
            [
             0.5555555555555556,
             "#d8576b"
            ],
            [
             0.6666666666666666,
             "#ed7953"
            ],
            [
             0.7777777777777778,
             "#fb9f3a"
            ],
            [
             0.8888888888888888,
             "#fdca26"
            ],
            [
             1,
             "#f0f921"
            ]
           ]
          },
          "colorway": [
           "#636efa",
           "#EF553B",
           "#00cc96",
           "#ab63fa",
           "#FFA15A",
           "#19d3f3",
           "#FF6692",
           "#B6E880",
           "#FF97FF",
           "#FECB52"
          ],
          "font": {
           "color": "#2a3f5f"
          },
          "geo": {
           "bgcolor": "white",
           "lakecolor": "white",
           "landcolor": "#E5ECF6",
           "showlakes": true,
           "showland": true,
           "subunitcolor": "white"
          },
          "hoverlabel": {
           "align": "left"
          },
          "hovermode": "closest",
          "mapbox": {
           "style": "light"
          },
          "paper_bgcolor": "white",
          "plot_bgcolor": "#E5ECF6",
          "polar": {
           "angularaxis": {
            "gridcolor": "white",
            "linecolor": "white",
            "ticks": ""
           },
           "bgcolor": "#E5ECF6",
           "radialaxis": {
            "gridcolor": "white",
            "linecolor": "white",
            "ticks": ""
           }
          },
          "scene": {
           "xaxis": {
            "backgroundcolor": "#E5ECF6",
            "gridcolor": "white",
            "gridwidth": 2,
            "linecolor": "white",
            "showbackground": true,
            "ticks": "",
            "zerolinecolor": "white"
           },
           "yaxis": {
            "backgroundcolor": "#E5ECF6",
            "gridcolor": "white",
            "gridwidth": 2,
            "linecolor": "white",
            "showbackground": true,
            "ticks": "",
            "zerolinecolor": "white"
           },
           "zaxis": {
            "backgroundcolor": "#E5ECF6",
            "gridcolor": "white",
            "gridwidth": 2,
            "linecolor": "white",
            "showbackground": true,
            "ticks": "",
            "zerolinecolor": "white"
           }
          },
          "shapedefaults": {
           "line": {
            "color": "#2a3f5f"
           }
          },
          "ternary": {
           "aaxis": {
            "gridcolor": "white",
            "linecolor": "white",
            "ticks": ""
           },
           "baxis": {
            "gridcolor": "white",
            "linecolor": "white",
            "ticks": ""
           },
           "bgcolor": "#E5ECF6",
           "caxis": {
            "gridcolor": "white",
            "linecolor": "white",
            "ticks": ""
           }
          },
          "title": {
           "x": 0.05
          },
          "xaxis": {
           "automargin": true,
           "gridcolor": "white",
           "linecolor": "white",
           "ticks": "",
           "title": {
            "standoff": 15
           },
           "zerolinecolor": "white",
           "zerolinewidth": 2
          },
          "yaxis": {
           "automargin": true,
           "gridcolor": "white",
           "linecolor": "white",
           "ticks": "",
           "title": {
            "standoff": 15
           },
           "zerolinecolor": "white",
           "zerolinewidth": 2
          }
         }
        },
        "title": {
         "text": "#12 I-V 104-1_J1_35-34-33-32_1M, R_fit=1177.5992 Ω"
        },
        "width": 540,
        "xaxis": {
         "title": {
          "text": "appl_current"
         }
        },
        "yaxis": {
         "title": {
          "text": "meas_voltage_K1 mV"
         }
        }
       }
      }
     },
     "metadata": {},
     "output_type": "display_data"
    },
    {
     "data": {
      "application/vnd.plotly.v1+json": {
       "config": {
        "plotlyServerURL": "https://plot.ly"
       },
       "data": [
        {
         "mode": "lines",
         "name": "d(Voltage)/d(Current)",
         "type": "scatter",
         "x": [
          -1000,
          -979.9999999999999,
          -959.9999999999999,
          -940,
          -920,
          -900,
          -880,
          -860,
          -840,
          -820,
          -800,
          -780,
          -760,
          -740,
          -720,
          -700,
          -680,
          -660,
          -640,
          -620,
          -600,
          -580,
          -560,
          -540,
          -520,
          -500,
          -479.99999999999994,
          -460,
          -440,
          -420,
          -400,
          -380,
          -360,
          -340,
          -320,
          -300,
          -280,
          -260,
          -239.99999999999997,
          -220,
          -200,
          -180,
          -160,
          -140,
          -119.99999999999999,
          -99.9999999999999,
          -80,
          -59.99999999999999,
          -39.9999999999998,
          -20,
          0,
          20,
          40,
          60.0000000000001,
          80.0000000000001,
          100,
          119.99999999999999,
          140,
          160,
          180,
          200,
          220,
          239.99999999999997,
          260,
          280,
          300,
          320,
          340,
          360,
          380,
          400,
          420,
          440,
          460,
          479.99999999999994,
          500,
          520,
          540,
          560,
          580,
          600,
          620,
          640,
          660,
          680,
          700,
          720,
          740,
          760,
          780,
          800,
          820,
          840,
          860,
          880,
          900,
          920.000000000001,
          940,
          959.9999999999999,
          979.9999999999999
         ],
         "y": [
          1184.1499999999899,
          1166.950000000001,
          1184.4500000000116,
          1175.1499999999999,
          1168.3999999999967,
          1178.950000000001,
          1180.4499999999966,
          1180.6749999999975,
          1172.8350000000019,
          1181.2300000000023,
          1173.6450000000025,
          1171.51,
          1178.8299999999972,
          1175.3450000000014,
          1182.9949999999972,
          1171.4449999999995,
          1186.3600000000017,
          1169.735000000002,
          1185.2499999999964,
          1173.3499999999988,
          1171.8600000000001,
          1184.7650000000053,
          1170.9599999999969,
          1181.5500000000031,
          1170.5849999999991,
          1190.704999999997,
          1168.3349999999994,
          1170.0150000000028,
          1182.835000000002,
          1174.934999999997,
          1185.6350000000007,
          1175.5299999999993,
          1182.0900000000001,
          1171.0250000000003,
          1180.5800000000004,
          1173.4150000000022,
          1169.7249999999985,
          1186.669999999998,
          1172.8750000000025,
          1184.4499999999987,
          1171.1200000000001,
          1183.1799999999994,
          1173.3350000000005,
          1184.7499999999993,
          1169.5899999999947,
          1177.5350000000058,
          1182.4129999999998,
          1167.2479999999887,
          1184.8265000000117,
          1175.4683,
          1197.0901999999999,
          1180.4720000000002,
          1177.3674999999942,
          1168.872,
          1187.3375000000058,
          1174.755000000001,
          1177.6649999999984,
          1176.1600000000003,
          1180.6400000000006,
          1174.1949999999997,
          1175.4749999999997,
          1183.5100000000025,
          1169.034999999999,
          1184.8949999999973,
          1175.0000000000034,
          1178.3299999999974,
          1172.7950000000023,
          1176.1149999999984,
          1184.270000000001,
          1169.8000000000002,
          1185.7449999999997,
          1168.5349999999967,
          1183.250000000006,
          1175.1199999999983,
          1176.8349999999998,
          1180.994999999998,
          1175.1649999999995,
          1180.905,
          1172.9350000000043,
          1182.0299999999988,
          1173.6900000000007,
          1175.0249999999953,
          1185.2599999999998,
          1168.9650000000058,
          1183.7799999999993,
          1167.395000000001,
          1190.4249999999938,
          1172.2200000000037,
          1182.174999999994,
          1171.665000000005,
          1169.1849999999988,
          1187.1650000000043,
          1172.6949999999977,
          1179.2999999999947,
          1174.0000000000043,
          1187.849999999942,
          1167.8500000000552,
          1174.1500000000121,
          1151.9999999999986,
          1203.2499999999977
         ]
        },
        {
         "marker": {
          "color": "red"
         },
         "mode": "markers",
         "name": "Top Two Peaks",
         "type": "scatter",
         "x": [
          0,
          -500
         ],
         "y": [
          1197.0901999999999,
          1190.704999999997
         ]
        },
        {
         "marker": {
          "color": "blue",
          "symbol": "cross"
         },
         "mode": "markers",
         "name": "Center Points",
         "type": "scatter",
         "x": [
          -2.5e-7
         ],
         "y": [
          0
         ]
        }
       ],
       "layout": {
        "annotations": [
         {
          "arrowcolor": "black",
          "arrowhead": 2,
          "arrowsize": 1,
          "arrowwidth": 2,
          "ax": -100,
          "ay": -200,
          "showarrow": true,
          "text": "Center Point: -250.000nA <br> Peak difference: 500.000 nA",
          "x": -250,
          "y": 0
         }
        ],
        "height": 480,
        "legend": {
         "orientation": "h",
         "x": 0.5,
         "xanchor": "center",
         "y": 1.1,
         "yanchor": "top"
        },
        "margin": {
         "b": 5,
         "l": 0,
         "r": 10,
         "t": 35
        },
        "template": {
         "data": {
          "bar": [
           {
            "error_x": {
             "color": "#2a3f5f"
            },
            "error_y": {
             "color": "#2a3f5f"
            },
            "marker": {
             "line": {
              "color": "#E5ECF6",
              "width": 0.5
             },
             "pattern": {
              "fillmode": "overlay",
              "size": 10,
              "solidity": 0.2
             }
            },
            "type": "bar"
           }
          ],
          "barpolar": [
           {
            "marker": {
             "line": {
              "color": "#E5ECF6",
              "width": 0.5
             },
             "pattern": {
              "fillmode": "overlay",
              "size": 10,
              "solidity": 0.2
             }
            },
            "type": "barpolar"
           }
          ],
          "carpet": [
           {
            "aaxis": {
             "endlinecolor": "#2a3f5f",
             "gridcolor": "white",
             "linecolor": "white",
             "minorgridcolor": "white",
             "startlinecolor": "#2a3f5f"
            },
            "baxis": {
             "endlinecolor": "#2a3f5f",
             "gridcolor": "white",
             "linecolor": "white",
             "minorgridcolor": "white",
             "startlinecolor": "#2a3f5f"
            },
            "type": "carpet"
           }
          ],
          "choropleth": [
           {
            "colorbar": {
             "outlinewidth": 0,
             "ticks": ""
            },
            "type": "choropleth"
           }
          ],
          "contour": [
           {
            "colorbar": {
             "outlinewidth": 0,
             "ticks": ""
            },
            "colorscale": [
             [
              0,
              "#0d0887"
             ],
             [
              0.1111111111111111,
              "#46039f"
             ],
             [
              0.2222222222222222,
              "#7201a8"
             ],
             [
              0.3333333333333333,
              "#9c179e"
             ],
             [
              0.4444444444444444,
              "#bd3786"
             ],
             [
              0.5555555555555556,
              "#d8576b"
             ],
             [
              0.6666666666666666,
              "#ed7953"
             ],
             [
              0.7777777777777778,
              "#fb9f3a"
             ],
             [
              0.8888888888888888,
              "#fdca26"
             ],
             [
              1,
              "#f0f921"
             ]
            ],
            "type": "contour"
           }
          ],
          "contourcarpet": [
           {
            "colorbar": {
             "outlinewidth": 0,
             "ticks": ""
            },
            "type": "contourcarpet"
           }
          ],
          "heatmap": [
           {
            "colorbar": {
             "outlinewidth": 0,
             "ticks": ""
            },
            "colorscale": [
             [
              0,
              "#0d0887"
             ],
             [
              0.1111111111111111,
              "#46039f"
             ],
             [
              0.2222222222222222,
              "#7201a8"
             ],
             [
              0.3333333333333333,
              "#9c179e"
             ],
             [
              0.4444444444444444,
              "#bd3786"
             ],
             [
              0.5555555555555556,
              "#d8576b"
             ],
             [
              0.6666666666666666,
              "#ed7953"
             ],
             [
              0.7777777777777778,
              "#fb9f3a"
             ],
             [
              0.8888888888888888,
              "#fdca26"
             ],
             [
              1,
              "#f0f921"
             ]
            ],
            "type": "heatmap"
           }
          ],
          "heatmapgl": [
           {
            "colorbar": {
             "outlinewidth": 0,
             "ticks": ""
            },
            "colorscale": [
             [
              0,
              "#0d0887"
             ],
             [
              0.1111111111111111,
              "#46039f"
             ],
             [
              0.2222222222222222,
              "#7201a8"
             ],
             [
              0.3333333333333333,
              "#9c179e"
             ],
             [
              0.4444444444444444,
              "#bd3786"
             ],
             [
              0.5555555555555556,
              "#d8576b"
             ],
             [
              0.6666666666666666,
              "#ed7953"
             ],
             [
              0.7777777777777778,
              "#fb9f3a"
             ],
             [
              0.8888888888888888,
              "#fdca26"
             ],
             [
              1,
              "#f0f921"
             ]
            ],
            "type": "heatmapgl"
           }
          ],
          "histogram": [
           {
            "marker": {
             "pattern": {
              "fillmode": "overlay",
              "size": 10,
              "solidity": 0.2
             }
            },
            "type": "histogram"
           }
          ],
          "histogram2d": [
           {
            "colorbar": {
             "outlinewidth": 0,
             "ticks": ""
            },
            "colorscale": [
             [
              0,
              "#0d0887"
             ],
             [
              0.1111111111111111,
              "#46039f"
             ],
             [
              0.2222222222222222,
              "#7201a8"
             ],
             [
              0.3333333333333333,
              "#9c179e"
             ],
             [
              0.4444444444444444,
              "#bd3786"
             ],
             [
              0.5555555555555556,
              "#d8576b"
             ],
             [
              0.6666666666666666,
              "#ed7953"
             ],
             [
              0.7777777777777778,
              "#fb9f3a"
             ],
             [
              0.8888888888888888,
              "#fdca26"
             ],
             [
              1,
              "#f0f921"
             ]
            ],
            "type": "histogram2d"
           }
          ],
          "histogram2dcontour": [
           {
            "colorbar": {
             "outlinewidth": 0,
             "ticks": ""
            },
            "colorscale": [
             [
              0,
              "#0d0887"
             ],
             [
              0.1111111111111111,
              "#46039f"
             ],
             [
              0.2222222222222222,
              "#7201a8"
             ],
             [
              0.3333333333333333,
              "#9c179e"
             ],
             [
              0.4444444444444444,
              "#bd3786"
             ],
             [
              0.5555555555555556,
              "#d8576b"
             ],
             [
              0.6666666666666666,
              "#ed7953"
             ],
             [
              0.7777777777777778,
              "#fb9f3a"
             ],
             [
              0.8888888888888888,
              "#fdca26"
             ],
             [
              1,
              "#f0f921"
             ]
            ],
            "type": "histogram2dcontour"
           }
          ],
          "mesh3d": [
           {
            "colorbar": {
             "outlinewidth": 0,
             "ticks": ""
            },
            "type": "mesh3d"
           }
          ],
          "parcoords": [
           {
            "line": {
             "colorbar": {
              "outlinewidth": 0,
              "ticks": ""
             }
            },
            "type": "parcoords"
           }
          ],
          "pie": [
           {
            "automargin": true,
            "type": "pie"
           }
          ],
          "scatter": [
           {
            "fillpattern": {
             "fillmode": "overlay",
             "size": 10,
             "solidity": 0.2
            },
            "type": "scatter"
           }
          ],
          "scatter3d": [
           {
            "line": {
             "colorbar": {
              "outlinewidth": 0,
              "ticks": ""
             }
            },
            "marker": {
             "colorbar": {
              "outlinewidth": 0,
              "ticks": ""
             }
            },
            "type": "scatter3d"
           }
          ],
          "scattercarpet": [
           {
            "marker": {
             "colorbar": {
              "outlinewidth": 0,
              "ticks": ""
             }
            },
            "type": "scattercarpet"
           }
          ],
          "scattergeo": [
           {
            "marker": {
             "colorbar": {
              "outlinewidth": 0,
              "ticks": ""
             }
            },
            "type": "scattergeo"
           }
          ],
          "scattergl": [
           {
            "marker": {
             "colorbar": {
              "outlinewidth": 0,
              "ticks": ""
             }
            },
            "type": "scattergl"
           }
          ],
          "scattermapbox": [
           {
            "marker": {
             "colorbar": {
              "outlinewidth": 0,
              "ticks": ""
             }
            },
            "type": "scattermapbox"
           }
          ],
          "scatterpolar": [
           {
            "marker": {
             "colorbar": {
              "outlinewidth": 0,
              "ticks": ""
             }
            },
            "type": "scatterpolar"
           }
          ],
          "scatterpolargl": [
           {
            "marker": {
             "colorbar": {
              "outlinewidth": 0,
              "ticks": ""
             }
            },
            "type": "scatterpolargl"
           }
          ],
          "scatterternary": [
           {
            "marker": {
             "colorbar": {
              "outlinewidth": 0,
              "ticks": ""
             }
            },
            "type": "scatterternary"
           }
          ],
          "surface": [
           {
            "colorbar": {
             "outlinewidth": 0,
             "ticks": ""
            },
            "colorscale": [
             [
              0,
              "#0d0887"
             ],
             [
              0.1111111111111111,
              "#46039f"
             ],
             [
              0.2222222222222222,
              "#7201a8"
             ],
             [
              0.3333333333333333,
              "#9c179e"
             ],
             [
              0.4444444444444444,
              "#bd3786"
             ],
             [
              0.5555555555555556,
              "#d8576b"
             ],
             [
              0.6666666666666666,
              "#ed7953"
             ],
             [
              0.7777777777777778,
              "#fb9f3a"
             ],
             [
              0.8888888888888888,
              "#fdca26"
             ],
             [
              1,
              "#f0f921"
             ]
            ],
            "type": "surface"
           }
          ],
          "table": [
           {
            "cells": {
             "fill": {
              "color": "#EBF0F8"
             },
             "line": {
              "color": "white"
             }
            },
            "header": {
             "fill": {
              "color": "#C8D4E3"
             },
             "line": {
              "color": "white"
             }
            },
            "type": "table"
           }
          ]
         },
         "layout": {
          "annotationdefaults": {
           "arrowcolor": "#2a3f5f",
           "arrowhead": 0,
           "arrowwidth": 1
          },
          "autotypenumbers": "strict",
          "coloraxis": {
           "colorbar": {
            "outlinewidth": 0,
            "ticks": ""
           }
          },
          "colorscale": {
           "diverging": [
            [
             0,
             "#8e0152"
            ],
            [
             0.1,
             "#c51b7d"
            ],
            [
             0.2,
             "#de77ae"
            ],
            [
             0.3,
             "#f1b6da"
            ],
            [
             0.4,
             "#fde0ef"
            ],
            [
             0.5,
             "#f7f7f7"
            ],
            [
             0.6,
             "#e6f5d0"
            ],
            [
             0.7,
             "#b8e186"
            ],
            [
             0.8,
             "#7fbc41"
            ],
            [
             0.9,
             "#4d9221"
            ],
            [
             1,
             "#276419"
            ]
           ],
           "sequential": [
            [
             0,
             "#0d0887"
            ],
            [
             0.1111111111111111,
             "#46039f"
            ],
            [
             0.2222222222222222,
             "#7201a8"
            ],
            [
             0.3333333333333333,
             "#9c179e"
            ],
            [
             0.4444444444444444,
             "#bd3786"
            ],
            [
             0.5555555555555556,
             "#d8576b"
            ],
            [
             0.6666666666666666,
             "#ed7953"
            ],
            [
             0.7777777777777778,
             "#fb9f3a"
            ],
            [
             0.8888888888888888,
             "#fdca26"
            ],
            [
             1,
             "#f0f921"
            ]
           ],
           "sequentialminus": [
            [
             0,
             "#0d0887"
            ],
            [
             0.1111111111111111,
             "#46039f"
            ],
            [
             0.2222222222222222,
             "#7201a8"
            ],
            [
             0.3333333333333333,
             "#9c179e"
            ],
            [
             0.4444444444444444,
             "#bd3786"
            ],
            [
             0.5555555555555556,
             "#d8576b"
            ],
            [
             0.6666666666666666,
             "#ed7953"
            ],
            [
             0.7777777777777778,
             "#fb9f3a"
            ],
            [
             0.8888888888888888,
             "#fdca26"
            ],
            [
             1,
             "#f0f921"
            ]
           ]
          },
          "colorway": [
           "#636efa",
           "#EF553B",
           "#00cc96",
           "#ab63fa",
           "#FFA15A",
           "#19d3f3",
           "#FF6692",
           "#B6E880",
           "#FF97FF",
           "#FECB52"
          ],
          "font": {
           "color": "#2a3f5f"
          },
          "geo": {
           "bgcolor": "white",
           "lakecolor": "white",
           "landcolor": "#E5ECF6",
           "showlakes": true,
           "showland": true,
           "subunitcolor": "white"
          },
          "hoverlabel": {
           "align": "left"
          },
          "hovermode": "closest",
          "mapbox": {
           "style": "light"
          },
          "paper_bgcolor": "white",
          "plot_bgcolor": "#E5ECF6",
          "polar": {
           "angularaxis": {
            "gridcolor": "white",
            "linecolor": "white",
            "ticks": ""
           },
           "bgcolor": "#E5ECF6",
           "radialaxis": {
            "gridcolor": "white",
            "linecolor": "white",
            "ticks": ""
           }
          },
          "scene": {
           "xaxis": {
            "backgroundcolor": "#E5ECF6",
            "gridcolor": "white",
            "gridwidth": 2,
            "linecolor": "white",
            "showbackground": true,
            "ticks": "",
            "zerolinecolor": "white"
           },
           "yaxis": {
            "backgroundcolor": "#E5ECF6",
            "gridcolor": "white",
            "gridwidth": 2,
            "linecolor": "white",
            "showbackground": true,
            "ticks": "",
            "zerolinecolor": "white"
           },
           "zaxis": {
            "backgroundcolor": "#E5ECF6",
            "gridcolor": "white",
            "gridwidth": 2,
            "linecolor": "white",
            "showbackground": true,
            "ticks": "",
            "zerolinecolor": "white"
           }
          },
          "shapedefaults": {
           "line": {
            "color": "#2a3f5f"
           }
          },
          "ternary": {
           "aaxis": {
            "gridcolor": "white",
            "linecolor": "white",
            "ticks": ""
           },
           "baxis": {
            "gridcolor": "white",
            "linecolor": "white",
            "ticks": ""
           },
           "bgcolor": "#E5ECF6",
           "caxis": {
            "gridcolor": "white",
            "linecolor": "white",
            "ticks": ""
           }
          },
          "title": {
           "x": 0.05
          },
          "xaxis": {
           "automargin": true,
           "gridcolor": "white",
           "linecolor": "white",
           "ticks": "",
           "title": {
            "standoff": 15
           },
           "zerolinecolor": "white",
           "zerolinewidth": 2
          },
          "yaxis": {
           "automargin": true,
           "gridcolor": "white",
           "linecolor": "white",
           "ticks": "",
           "title": {
            "standoff": 15
           },
           "zerolinecolor": "white",
           "zerolinewidth": 2
          }
         }
        },
        "title": {
         "text": "Run #<built-in function id> I vs. dV/dI"
        },
        "width": 540,
        "xaxis": {
         "title": {
          "text": "Current (nA)"
         }
        },
        "yaxis": {
         "title": {
          "text": "d(Voltage)/d(Current)"
         }
        }
       }
      }
     },
     "metadata": {},
     "output_type": "display_data"
    }
   ],
   "source": [
    "IV(12)\n",
    "IV_diff(12)"
   ]
  },
  {
   "cell_type": "markdown",
   "metadata": {},
   "source": [
    "# IV_Mag_plot"
   ]
  },
  {
   "cell_type": "code",
   "execution_count": null,
   "metadata": {},
   "outputs": [],
   "source": [
    "IV_Mag_plot(6509, log_lower_limit=20)"
   ]
  },
  {
   "cell_type": "markdown",
   "metadata": {},
   "source": [
    "# IV_RF_f_linecut"
   ]
  },
  {
   "cell_type": "code",
   "execution_count": null,
   "metadata": {},
   "outputs": [],
   "source": [
    "IV_RF_f_linecut(6521,[5.53,55,5.5534,5.56,5.58])"
   ]
  },
  {
   "cell_type": "code",
   "execution_count": null,
   "metadata": {},
   "outputs": [],
   "source": [
    "dataset = qc.load_by_id(6511)\n",
    "run_id, exp_name, sample_name, sample_junction, name, description = get_detaset_info(\n",
    "        dataset)\n",
    "df = dataset.to_pandas_dataframe().reset_index()\n",
    "# Plot the dataset\n",
    "plot_dataset(dataset)\n",
    "para_list = dataset.parameters.split(\",\")\n",
    "\n",
    "fig1 = go.Figure(data=go.Heatmap(\n",
    "    x=df[para_list[1]],\n",
    "    y=df[para_list[2]],\n",
    "    z=df[para_list[0]],\n",
    "    colorscale='RdBu',\n",
    "    colorbar=dict(\n",
    "        title=para_list[0], titleside='right')),\n",
    "    layout=dict(\n",
    "        title=f\"#{run_id} {exp_name} {sample_name}\",\n",
    "        xaxis_title=para_list[1],\n",
    "        yaxis_title=para_list[2],\n",
    "        height=800, width=800\n",
    "        ))\n",
    "fig1.show()"
   ]
  },
  {
   "cell_type": "code",
   "execution_count": null,
   "metadata": {},
   "outputs": [],
   "source": [
    "import plotly.graph_objects as go\n",
    "\n",
    "fig1 = go.Figure(data=go.Scatter(\n",
    "    x=df[para_list[1]],\n",
    "    y=df[para_list[2]],\n",
    "    mode='markers',  # Set mode to 'markers' for individual points\n",
    "    marker=dict(\n",
    "        size=10,  # Adjust marker size as desired\n",
    "        color=df[para_list[0]],  # Use the same data for color\n",
    "        colorscale='RdBu',  # Maintain the same color scale\n",
    "        colorbar=dict(\n",
    "            title=para_list[0],\n",
    "            titleside='right'\n",
    "        )\n",
    "    )\n",
    "))\n",
    "\n",
    "# Keep the layout the same for title, axis labels, and dimensions\n",
    "fig1.update_layout(\n",
    "    title=f\"#{run_id} {exp_name} {sample_name}\",\n",
    "    xaxis_title=para_list[1],\n",
    "    yaxis_title=para_list[2],\n",
    "    height=800,\n",
    "    width=800\n",
    ")\n",
    "\n",
    "fig1.show()\n"
   ]
  },
  {
   "cell_type": "code",
   "execution_count": null,
   "metadata": {},
   "outputs": [],
   "source": [
    "import numpy as np\n",
    "import plotly.graph_objs as go\n",
    "\n",
    "# Generate some sample data\n",
    "t = np.linspace(0, 1, 1000)  # Time points from 0 to 1 with 1000 samples\n",
    "frequency = 5  # Frequency of the signal\n",
    "amplitude = 2  # Amplitude of the signal\n",
    "signal = amplitude * np.sin(2 * np.pi * frequency * t)  # Generate a sine wave signal\n",
    "\n",
    "# Compute the FFT\n",
    "fft_result = np.fft.fft(signal)\n",
    "frequencies = np.fft.fftfreq(len(signal), t[1] - t[0])  # Compute the frequencies corresponding to FFT result\n",
    "\n",
    "# Plot the original signal\n",
    "original_signal_trace = go.Scatter(x=t, y=signal, mode='lines', name='Original Signal')\n",
    "\n",
    "# Plot the FFT of the signal\n",
    "fft_trace = go.Scatter(x=frequencies, y=np.abs(fft_result), mode='lines', name='FFT')\n",
    "\n",
    "# Layout settings\n",
    "layout = go.Layout(\n",
    "    title='FFT using Plotly',\n",
    "    xaxis=dict(title='Frequency'),\n",
    "    yaxis=dict(title='Amplitude'),\n",
    "    showlegend=True\n",
    ")\n",
    "\n",
    "# Create the figure and plot\n",
    "fig = go.Figure(data=[original_signal_trace, fft_trace], layout=layout)\n",
    "fig.show()\n"
   ]
  },
  {
   "cell_type": "code",
   "execution_count": null,
   "metadata": {},
   "outputs": [],
   "source": [
    "import numpy as np\n",
    "import plotly.graph_objs as go\n",
    "\n",
    "# Assuming you have already calculated the FFT and frequencies\n",
    "\n",
    "# Create a Plotly trace for FFT spectrum\n",
    "fft_trace = go.Scatter(x=frequencies, y=fft_magnitude, mode='lines', name='FFT Spectrum')\n",
    "\n",
    "# Layout settings\n",
    "layout = go.Layout(\n",
    "    title='FFT Spectrum using Plotly',\n",
    "    xaxis=dict(title='Frequency'),\n",
    "    yaxis=dict(title='Magnitude'),\n",
    "    showlegend=True\n",
    ")\n",
    "\n",
    "# Create the figure and plot\n",
    "fig = go.Figure(data=[fft_trace], layout=layout)\n",
    "fig.show()\n"
   ]
  },
  {
   "cell_type": "code",
   "execution_count": null,
   "metadata": {},
   "outputs": [],
   "source": [
    "import plotly.graph_objects as go\n",
    "\n",
    "# Assuming df is your pandas DataFrame\n",
    "x = df[para_list[0]].values\n",
    "y = df[para_list[1]].values\n",
    "z = df[para_list[2]].values\n",
    "\n",
    "# Choose the time-series component you want to analyze\n",
    "# For example, let's take the 'z' component\n",
    "signal = y\n",
    "\n",
    "# Calculate the FFT\n",
    "fft_signal = fft(signal)\n",
    "\n",
    "# Get the frequencies corresponding to the FFT coefficients\n",
    "n = len(signal)\n",
    "sample_rate = 10 # Assuming a sample rate of 1 (you may need to adjust this)\n",
    "frequencies = fftfreq(n, d=0.00001/sample_rate)\n",
    "\n",
    "# Calculate magnitude of FFT coefficients\n",
    "fft_magnitude = np.abs(fft_signal)\n",
    "\n",
    "# Create a plotly trace for the FFT spectrum\n",
    "trace = go.Scatter(\n",
    "    x=frequencies,\n",
    "    y=fft_magnitude,\n",
    "    mode='lines',\n",
    "    name='FFT Magnitude'\n",
    ")\n",
    "\n",
    "# Create the layout for the plot\n",
    "layout = go.Layout(\n",
    "    title='FFT Spectrum',\n",
    "    xaxis=dict(\n",
    "        title='Frequency'\n",
    "    ),\n",
    "    yaxis=dict(\n",
    "        title='Magnitude'\n",
    "    )\n",
    ")\n",
    "\n",
    "# Create the figure with trace and layout\n",
    "fig = go.Figure(data=[trace], layout=layout)\n",
    "\n",
    "# Display the plot\n",
    "fig.show()\n"
   ]
  },
  {
   "cell_type": "code",
   "execution_count": null,
   "metadata": {},
   "outputs": [],
   "source": [
    "import plotly.graph_objects as go\n",
    "\n",
    "# Assuming df is your pandas DataFrame\n",
    "x = df[para_list[0]].values\n",
    "y = df[para_list[1]].values\n",
    "z = df[para_list[2]].values\n",
    "d = df['differential_voltage'] = (\n",
    "        df[para_list[2]].shift(-1) -\n",
    "        df[para_list[2]].shift(1)) / (2 * (df[para_list[1]].shift(-1) - df[para_list[1]]))\n",
    "\n",
    "# Choose the time-series component you want to analyze\n",
    "# For example, let's take the 'z' component\n",
    "signal = y\n",
    "\n",
    "# Calculate the FFT\n",
    "fft_signal = fft(signal)\n",
    "\n",
    "# Get the frequencies corresponding to the FFT coefficients\n",
    "n = len(signal)\n",
    "sample_rate = 10 # Assuming a sample rate of 1 (you may need to adjust this)\n",
    "frequencies = fftfreq(n, d=0.00001/sample_rate)\n",
    "\n",
    "# Calculate magnitude of FFT coefficients\n",
    "fft_magnitude = np.abs(fft_signal)\n",
    "\n",
    "# Create traces for original signal and FFT spectrum\n",
    "trace1 = go.Scatter(\n",
    "    x=d,  # Use the original time values for x-axis\n",
    "    y=abs(d),\n",
    "    mode='lines',\n",
    "    name='Original Signal'\n",
    ")\n",
    "\n",
    "trace2 = go.Scatter(\n",
    "    x=frequencies,\n",
    "    y=fft_magnitude,\n",
    "    mode='lines',\n",
    "    name='FFT Magnitude'\n",
    ")\n",
    "\n",
    "# Create the layout for the plot\n",
    "layout = go.Layout(\n",
    "    title='Original Signal and FFT Spectrum',\n",
    "    xaxis=dict(\n",
    "        title='Time'  # Adjust title based on your x-axis data\n",
    "    ),\n",
    "    yaxis=dict(\n",
    "        title='Amplitude'\n",
    "    )\n",
    ")\n",
    "\n",
    "# Create the figure with traces and layout\n",
    "fig = go.Figure(data=[trace1, trace2], layout=layout)\n",
    "\n",
    "# Display the plot\n",
    "fig.show()\n"
   ]
  },
  {
   "cell_type": "markdown",
   "metadata": {},
   "source": [
    "# IV_RF_PD_linecut"
   ]
  },
  {
   "cell_type": "code",
   "execution_count": null,
   "metadata": {},
   "outputs": [],
   "source": [
    "IV_RF_PD_linecut(6521,[8,10,12,14,15.9])"
   ]
  },
  {
   "cell_type": "code",
   "execution_count": null,
   "metadata": {},
   "outputs": [],
   "source": [
    "dataset = qc.load_by_id(6499)\n",
    "df = dataset.to_pandas_dataframe().reset_index()\n",
    "para_list = dataset.parameters.split(\",\")\n",
    "df['differential_voltage'] = (\n",
    "        df[para_list[2]].shift(-1) -\n",
    "        df[para_list[2]].shift(1)) / (2 * (df[para_list[1]].shift(-1) - df[para_list[1]]))\n",
    "# Assuming df is your pandas DataFrame\n",
    "x = df[para_list[0]].values\n",
    "y = df[para_list[1]].values\n",
    "z = df[para_list[2]].values\n",
    "\n",
    "# Choose the time-series component you want to analyze\n",
    "# For example, let's take the 'z' component\n",
    "signal = y\n",
    "\n",
    "# Calculate the FFT\n",
    "fft_signal = fft(signal)\n",
    "\n",
    "# Get the frequencies corresponding to the FFT coefficients\n",
    "n = len(signal)\n",
    "sample_rate = 10 # Assuming a sample rate of 1 (you may need to adjust this)\n",
    "frequencies = fftfreq(n, d=0.00001/sample_rate)\n",
    "\n",
    "# You can now analyze the FFT coefficients and corresponding frequencies\n",
    "# For example, to get the magnitude of the FFT coefficients\n",
    "fft_magnitude = np.abs(fft_signal)\n",
    "\n",
    "\n",
    "\n",
    "# You can also plot the FFT spectrum\n",
    "import matplotlib.pyplot as plt\n",
    "\n",
    "plt.plot(frequencies, fft_magnitude)\n",
    "plt.xlabel('Frequency')\n",
    "plt.ylabel('Magnitude')\n",
    "plt.show()"
   ]
  }
 ],
 "metadata": {
  "kernelspec": {
   "display_name": "Python 3",
   "language": "python",
   "name": "python3"
  },
  "language_info": {
   "codemirror_mode": {
    "name": "ipython",
    "version": 3
   },
   "file_extension": ".py",
   "mimetype": "text/x-python",
   "name": "python",
   "nbconvert_exporter": "python",
   "pygments_lexer": "ipython3",
   "version": "3.11.8"
  }
 },
 "nbformat": 4,
 "nbformat_minor": 2
}
