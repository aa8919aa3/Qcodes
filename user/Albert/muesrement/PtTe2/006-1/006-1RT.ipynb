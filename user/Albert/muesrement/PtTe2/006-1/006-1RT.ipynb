{
 "cells": [
  {
   "cell_type": "markdown",
   "id": "256e0f19",
   "metadata": {},
   "source": [
    "# Initialization"
   ]
  },
  {
   "cell_type": "markdown",
   "id": "9d160fe4",
   "metadata": {},
   "source": [
    "## Inport modules"
   ]
  },
  {
   "cell_type": "code",
   "execution_count": 1,
   "id": "88979d6d",
   "metadata": {},
   "outputs": [
    {
     "name": "stdout",
     "output_type": "stream",
     "text": [
      "Imported all modules, QCoDeS version: 0.39.0 initialized\n"
     ]
    }
   ],
   "source": [
    "%matplotlib ipympl\n",
    "import os, sys\n",
    "import time\n",
    "import pyvisa\n",
    "import warnings\n",
    "import numpy as np\n",
    "import qcodes as qc\n",
    "import plotly.graph_objects as go\n",
    "import matplotlib.pyplot as plt\n",
    "\n",
    "def find_qcodes_local_dir():\n",
    "    dirpath = os.getcwd()\n",
    "    while True:\n",
    "        dirpath, folder_name = os.path.split(dirpath)\n",
    "        if folder_name == 'QCoDeS_local':\n",
    "            return os.path.join(dirpath, folder_name)\n",
    "        if not folder_name:  # Reached the root directory\n",
    "            return None\n",
    "qcodes_local_dir = find_qcodes_local_dir()\n",
    "sys.path.append(f'{qcodes_local_dir}')\n",
    "\n",
    "from tqdm import tqdm\n",
    "from pprint import pprint\n",
    "from time import sleep, monotonic, time\n",
    "from IPython.display import clear_output\n",
    "from qcodes.dataset.measurements import Measurement\n",
    "from qcodes.utils.metadata import diff_param_values\n",
    "from qcodes.dataset.plotting import plot_dataset, plot_by_id\n",
    "from qcodes import Parameter, ManualParameter, ScaledParameter\n",
    "from qcodes.instrument.specialized_parameters import ElapsedTimeParameter\n",
    "from sweeps_v2 import do1d, do2d, time_sweep, measure_until, do1d_until\n",
    "\n",
    "print('Imported all modules, QCoDeS version:', qc.__version__, 'initialized')\n",
    "\n",
    "# warnings.filterwarnings('ignore')"
   ]
  },
  {
   "cell_type": "code",
   "execution_count": 2,
   "id": "399e7806",
   "metadata": {},
   "outputs": [],
   "source": [
    "def find_qcodes_local_dir():\n",
    "    dirpath = os.getcwd()\n",
    "    while True:\n",
    "        dirpath, folder_name = os.path.split(dirpath)\n",
    "        if folder_name == 'QCoDeS_local':\n",
    "            return os.path.join(dirpath, folder_name)\n",
    "        if not folder_name:  # Reached the root directory\n",
    "            return None\n",
    "qcodes_local_dir = find_qcodes_local_dir()"
   ]
  },
  {
   "cell_type": "code",
   "execution_count": 3,
   "id": "fff9a7bd",
   "metadata": {},
   "outputs": [
    {
     "data": {
      "text/plain": [
       "'c:\\\\Users\\\\quant\\\\OneDrive\\\\Documents\\\\GitHub\\\\QCoDeS_local'"
      ]
     },
     "execution_count": 3,
     "metadata": {},
     "output_type": "execute_result"
    }
   ],
   "source": [
    "qcodes_local_dir"
   ]
  },
  {
   "cell_type": "code",
   "execution_count": 4,
   "id": "cc4a1c10",
   "metadata": {},
   "outputs": [
    {
     "data": {
      "text/plain": [
       "'c:\\\\Users\\\\quant\\\\OneDrive\\\\Documents\\\\GitHub\\\\QCoDeS_local\\\\init_fridge_v2.py'"
      ]
     },
     "execution_count": 4,
     "metadata": {},
     "output_type": "execute_result"
    }
   ],
   "source": [
    "def find_init_fridge_v2_py():\n",
    "    for root, dirs, files in os.walk(qcodes_local_dir):\n",
    "        if 'init_fridge_v2.py' in files:\n",
    "            return os.path.join(root, 'init_fridge_v2.py')\n",
    "    return None\n",
    "\n",
    "init_fridge_v2_py_path = find_init_fridge_v2_py()\n",
    "init_fridge_v2_py_path"
   ]
  },
  {
   "cell_type": "code",
   "execution_count": 5,
   "id": "bb19a743",
   "metadata": {},
   "outputs": [
    {
     "name": "stdout",
     "output_type": "stream",
     "text": [
      "Found init_BF1_v2.py at: c:\\Users\\quant\\OneDrive\\Documents\\GitHub\\QCoDeS_local\\fridge_specific\\init_BF1_v2.py\n",
      "Error connecting to TCPIP0::192.168.1.42::inst0::INSTR: VI_ERROR_RSRC_NFOUND (-1073807343): Insufficient location information or the requested device or resource is not present in the system.\n",
      "Error connecting to TCPIP0::192.168.1.42::inst1::INSTR: VI_ERROR_RSRC_NFOUND (-1073807343): Insufficient location information or the requested device or resource is not present in the system.\n",
      "Error connecting to TCPIP0::192.168.1.6::inst0::INSTR: VI_ERROR_RSRC_NFOUND (-1073807343): Insufficient location information or the requested device or resource is not present in the system.\n",
      "Error connecting to TCPIP0::192.168.1.7::inst0::INSTR: VI_ERROR_RSRC_NFOUND (-1073807343): Insufficient location information or the requested device or resource is not present in the system.\n",
      "Error connecting to TCPIP0::ZNB20-64-101393::inst0::INSTR: VI_ERROR_RSRC_NFOUND (-1073807343): Insufficient location information or the requested device or resource is not present in the system.\n",
      "Error connecting to ASRL1::INSTR: VI_ERROR_TMO (-1073807339): Timeout expired before operation completed.\n",
      "Error connecting to ASRL2::INSTR: VI_ERROR_TMO (-1073807339): Timeout expired before operation completed.\n",
      "Error connecting to ASRL10::INSTR: VI_ERROR_TMO (-1073807339): Timeout expired before operation completed.\n",
      "Device: GPIB0::6::INSTR\n",
      "IDN: KEITHLEY INSTRUMENTS,MODEL DMM6500,04518052,1.7.7b\n",
      "\n",
      "Connected to: KEITHLEY INSTRUMENTS DMM6500 (serial:04518052, firmware:1.7.7b) in 0.02s\n",
      "Added Keithley DMM6500 at GPIB0::6::INSTR to the station.\n",
      "Device: GPIB0::22::INSTR\n",
      "IDN: KEITHLEY INSTRUMENTS INC.,MODEL 2440,1225508,C30   Mar 17 2006 09:29:29/A02  /B/A\n",
      "\n",
      "Connected to: KEITHLEY INSTRUMENTS INC. 2440 (serial:1225508, firmware:C30   Mar 17 2006 09:29:29/A02  /B/A) in 0.03s\n"
     ]
    },
    {
     "name": "stderr",
     "output_type": "stream",
     "text": [
      "[K2440(Keithley2400)] Snapshot: Could not update parameter: volt\n",
      "[K2440(Keithley2400)] Snapshot: Could not update parameter: curr\n",
      "[K2440(Keithley2400)] Snapshot: Could not update parameter: resistance\n"
     ]
    },
    {
     "name": "stdout",
     "output_type": "stream",
     "text": [
      "Failed to ping 169.254.115.3: [WinError 10049] The requested address is not valid in its context\n",
      "Failed to ping 169.254.115.2: [WinError 10049] The requested address is not valid in its context\n",
      "Failed to ping 169.254.115.1: [WinError 10049] The requested address is not valid in its context\n",
      "One or more pings failed, cannot establish connection to all magnets.\n",
      "\n",
      "Station list:\n",
      "{'DMM6500': <Keithley_6500: DMM6500>, 'K2440': <Keithley2400: K2440>}\n"
     ]
    }
   ],
   "source": [
    "fridge_name = 'BF1'\n",
    "%run \"{init_fridge_v2_py_path}\" {fridge_name}"
   ]
  },
  {
   "cell_type": "code",
   "execution_count": 6,
   "id": "c9e134aa",
   "metadata": {},
   "outputs": [
    {
     "name": "stdout",
     "output_type": "stream",
     "text": [
      "{'components': {},\n",
      " 'config': None,\n",
      " 'instruments': {'DMM6500': {'__class__': 'qcodes.instrument_drivers.tektronix.Keithley_6500.Keithley_6500',\n",
      "                             'address': 'GPIB0::6::INSTR',\n",
      "                             'functions': {},\n",
      "                             'label': 'DMM6500',\n",
      "                             'name': 'DMM6500',\n",
      "                             'parameters': {'IDN': {'__class__': 'qcodes.parameters.parameter.Parameter',\n",
      "                                                    'full_name': 'DMM6500_IDN',\n",
      "                                                    'instrument': 'qcodes.instrument_drivers.tektronix.Keithley_6500.Keithley_6500',\n",
      "                                                    'instrument_name': 'DMM6500',\n",
      "                                                    'inter_delay': 0,\n",
      "                                                    'label': 'IDN',\n",
      "                                                    'name': 'IDN',\n",
      "                                                    'post_delay': 0,\n",
      "                                                    'raw_value': {'firmware': '1.7.7b',\n",
      "                                                                  'model': 'DMM6500',\n",
      "                                                                  'serial': '04518052',\n",
      "                                                                  'vendor': 'KEITHLEY '\n",
      "                                                                            'INSTRUMENTS'},\n",
      "                                                    'ts': '2025-01-09 17:35:28',\n",
      "                                                    'unit': '',\n",
      "                                                    'vals': '<Anything>',\n",
      "                                                    'value': {'firmware': '1.7.7b',\n",
      "                                                              'model': 'DMM6500',\n",
      "                                                              'serial': '04518052',\n",
      "                                                              'vendor': 'KEITHLEY '\n",
      "                                                                        'INSTRUMENTS'}},\n",
      "                                            'amplitude': {'__class__': 'qcodes.parameters.parameter.Parameter',\n",
      "                                                          'full_name': 'DMM6500_amplitude',\n",
      "                                                          'instrument': 'qcodes.instrument_drivers.tektronix.Keithley_6500.Keithley_6500',\n",
      "                                                          'instrument_name': 'DMM6500',\n",
      "                                                          'inter_delay': 0,\n",
      "                                                          'label': 'amplitude',\n",
      "                                                          'name': 'amplitude',\n",
      "                                                          'post_delay': 0,\n",
      "                                                          'raw_value': 0.0002139811,\n",
      "                                                          'ts': '2025-01-09 '\n",
      "                                                                '17:35:28',\n",
      "                                                          'unit': 'a.u.',\n",
      "                                                          'value': 0.0002139811},\n",
      "                                            'auto_range_enabled': {'__class__': 'qcodes.parameters.parameter.Parameter',\n",
      "                                                                   'full_name': 'DMM6500_auto_range_enabled',\n",
      "                                                                   'instrument': 'qcodes.instrument_drivers.tektronix.Keithley_6500.Keithley_6500',\n",
      "                                                                   'instrument_name': 'DMM6500',\n",
      "                                                                   'inter_delay': 0,\n",
      "                                                                   'label': 'auto_range_enabled',\n",
      "                                                                   'name': 'auto_range_enabled',\n",
      "                                                                   'post_delay': 0,\n",
      "                                                                   'raw_value': True,\n",
      "                                                                   'ts': '2025-01-09 '\n",
      "                                                                         '17:35:28',\n",
      "                                                                   'unit': '',\n",
      "                                                                   'vals': '<Boolean>',\n",
      "                                                                   'value': True},\n",
      "                                            'averaging_count': {'__class__': 'qcodes.parameters.parameter.Parameter',\n",
      "                                                                'full_name': 'DMM6500_averaging_count',\n",
      "                                                                'instrument': 'qcodes.instrument_drivers.tektronix.Keithley_6500.Keithley_6500',\n",
      "                                                                'instrument_name': 'DMM6500',\n",
      "                                                                'inter_delay': 0,\n",
      "                                                                'label': 'averaging_count',\n",
      "                                                                'name': 'averaging_count',\n",
      "                                                                'post_delay': 0,\n",
      "                                                                'raw_value': 10,\n",
      "                                                                'ts': '2025-01-09 '\n",
      "                                                                      '17:35:28',\n",
      "                                                                'unit': '',\n",
      "                                                                'vals': '<Ints '\n",
      "                                                                        '1<=v<=100>',\n",
      "                                                                'value': 10},\n",
      "                                            'averaging_enabled': {'__class__': 'qcodes.parameters.parameter.Parameter',\n",
      "                                                                  'full_name': 'DMM6500_averaging_enabled',\n",
      "                                                                  'instrument': 'qcodes.instrument_drivers.tektronix.Keithley_6500.Keithley_6500',\n",
      "                                                                  'instrument_name': 'DMM6500',\n",
      "                                                                  'inter_delay': 0,\n",
      "                                                                  'label': 'averaging_enabled',\n",
      "                                                                  'name': 'averaging_enabled',\n",
      "                                                                  'post_delay': 0,\n",
      "                                                                  'raw_value': True,\n",
      "                                                                  'ts': '2025-01-09 '\n",
      "                                                                        '17:35:28',\n",
      "                                                                  'unit': '',\n",
      "                                                                  'vals': '<Boolean>',\n",
      "                                                                  'value': True},\n",
      "                                            'averaging_type': {'__class__': 'qcodes.parameters.parameter.Parameter',\n",
      "                                                               'full_name': 'DMM6500_averaging_type',\n",
      "                                                               'instrument': 'qcodes.instrument_drivers.tektronix.Keithley_6500.Keithley_6500',\n",
      "                                                               'instrument_name': 'DMM6500',\n",
      "                                                               'inter_delay': 0,\n",
      "                                                               'label': 'averaging_type',\n",
      "                                                               'name': 'averaging_type',\n",
      "                                                               'post_delay': 0,\n",
      "                                                               'raw_value': 'repeat',\n",
      "                                                               'ts': '2025-01-09 '\n",
      "                                                                     '17:35:28',\n",
      "                                                               'unit': '',\n",
      "                                                               'vals': '<Enum: '\n",
      "                                                                       \"{'moving', \"\n",
      "                                                                       \"'repeat'}>\",\n",
      "                                                               'value': 'repeat'},\n",
      "                                            'digits': {'__class__': 'qcodes.parameters.parameter.Parameter',\n",
      "                                                       'full_name': 'DMM6500_digits',\n",
      "                                                       'instrument': 'qcodes.instrument_drivers.tektronix.Keithley_6500.Keithley_6500',\n",
      "                                                       'instrument_name': 'DMM6500',\n",
      "                                                       'inter_delay': 0,\n",
      "                                                       'label': 'digits',\n",
      "                                                       'name': 'digits',\n",
      "                                                       'post_delay': 0,\n",
      "                                                       'raw_value': '6',\n",
      "                                                       'ts': '2025-01-09 '\n",
      "                                                             '17:35:28',\n",
      "                                                       'unit': '',\n",
      "                                                       'vals': '<Ints 4<=v<=7>',\n",
      "                                                       'value': 6},\n",
      "                                            'display_backlight': {'__class__': 'qcodes.parameters.parameter.Parameter',\n",
      "                                                                  'full_name': 'DMM6500_display_backlight',\n",
      "                                                                  'instrument': 'qcodes.instrument_drivers.tektronix.Keithley_6500.Keithley_6500',\n",
      "                                                                  'instrument_name': 'DMM6500',\n",
      "                                                                  'inter_delay': 0,\n",
      "                                                                  'label': 'display_backlight',\n",
      "                                                                  'name': 'display_backlight',\n",
      "                                                                  'post_delay': 0,\n",
      "                                                                  'raw_value': 'ON50',\n",
      "                                                                  'ts': '2025-01-09 '\n",
      "                                                                        '17:35:28',\n",
      "                                                                  'unit': '',\n",
      "                                                                  'val_mapping': {'Blackout': 'BLACkout',\n",
      "                                                                                  'Off': 'OFF',\n",
      "                                                                                  'On 100': 'ON100',\n",
      "                                                                                  'On 25': 'ON25',\n",
      "                                                                                  'On 50': 'ON50',\n",
      "                                                                                  'On 75': 'ON75'},\n",
      "                                                                  'vals': '<Enum: '\n",
      "                                                                          \"{'Off', \"\n",
      "                                                                          \"'On \"\n",
      "                                                                          \"75', \"\n",
      "                                                                          \"'On \"\n",
      "                                                                          \"25', \"\n",
      "                                                                          \"'Blackout', \"\n",
      "                                                                          \"'On \"\n",
      "                                                                          \"50', \"\n",
      "                                                                          \"'On \"\n",
      "                                                                          \"100'}>\",\n",
      "                                                                  'value': 'On '\n",
      "                                                                           '50'},\n",
      "                                            'mode': {'__class__': 'qcodes.parameters.parameter.Parameter',\n",
      "                                                     'full_name': 'DMM6500_mode',\n",
      "                                                     'instrument': 'qcodes.instrument_drivers.tektronix.Keithley_6500.Keithley_6500',\n",
      "                                                     'instrument_name': 'DMM6500',\n",
      "                                                     'inter_delay': 0,\n",
      "                                                     'label': 'mode',\n",
      "                                                     'name': 'mode',\n",
      "                                                     'post_delay': 0,\n",
      "                                                     'raw_value': 'VOLT:DC',\n",
      "                                                     'ts': '2025-01-09 '\n",
      "                                                           '17:35:28',\n",
      "                                                     'unit': '',\n",
      "                                                     'val_mapping': {'2w resistance': 'RES',\n",
      "                                                                     '4w resistance': 'FRES',\n",
      "                                                                     'ac current': 'CURR:AC',\n",
      "                                                                     'ac voltage': 'VOLT:AC',\n",
      "                                                                     'dc current': 'CURR:DC',\n",
      "                                                                     'dc voltage': 'VOLT:DC',\n",
      "                                                                     'frequency': 'FREQ',\n",
      "                                                                     'temperature': 'TEMP'},\n",
      "                                                     'vals': \"<Enum: {'dc \"\n",
      "                                                             \"voltage', \"\n",
      "                                                             \"'frequency', '4w \"\n",
      "                                                             \"resistance', 'dc \"\n",
      "                                                             \"current', 'ac \"\n",
      "                                                             \"voltage', \"\n",
      "                                                             \"'temperature', \"\n",
      "                                                             \"'ac current', \"\n",
      "                                                             \"'2w \"\n",
      "                                                             \"resistance'}>\",\n",
      "                                                     'value': 'dc voltage'},\n",
      "                                            'nplc': {'__class__': 'qcodes.parameters.parameter.Parameter',\n",
      "                                                     'full_name': 'DMM6500_nplc',\n",
      "                                                     'instrument': 'qcodes.instrument_drivers.tektronix.Keithley_6500.Keithley_6500',\n",
      "                                                     'instrument_name': 'DMM6500',\n",
      "                                                     'inter_delay': 0,\n",
      "                                                     'label': 'nplc',\n",
      "                                                     'name': 'nplc',\n",
      "                                                     'post_delay': 0,\n",
      "                                                     'raw_value': 1.0,\n",
      "                                                     'ts': '2025-01-09 '\n",
      "                                                           '17:35:28',\n",
      "                                                     'unit': '',\n",
      "                                                     'vals': '<Numbers '\n",
      "                                                             '0.01<=v<=10>',\n",
      "                                                     'value': 1.0},\n",
      "                                            'range': {'__class__': 'qcodes.parameters.parameter.Parameter',\n",
      "                                                      'full_name': 'DMM6500_range',\n",
      "                                                      'instrument': 'qcodes.instrument_drivers.tektronix.Keithley_6500.Keithley_6500',\n",
      "                                                      'instrument_name': 'DMM6500',\n",
      "                                                      'inter_delay': 0,\n",
      "                                                      'label': 'range',\n",
      "                                                      'name': 'range',\n",
      "                                                      'post_delay': 0,\n",
      "                                                      'raw_value': 0.1,\n",
      "                                                      'ts': '2025-01-09 '\n",
      "                                                            '17:35:28',\n",
      "                                                      'unit': '',\n",
      "                                                      'vals': '<Numbers>',\n",
      "                                                      'value': 0.1},\n",
      "                                            'timeout': {'__class__': 'qcodes.parameters.parameter.Parameter',\n",
      "                                                        'full_name': 'DMM6500_timeout',\n",
      "                                                        'instrument': 'qcodes.instrument_drivers.tektronix.Keithley_6500.Keithley_6500',\n",
      "                                                        'instrument_name': 'DMM6500',\n",
      "                                                        'inter_delay': 0,\n",
      "                                                        'label': 'timeout',\n",
      "                                                        'name': 'timeout',\n",
      "                                                        'post_delay': 0,\n",
      "                                                        'raw_value': 10.0,\n",
      "                                                        'ts': '2025-01-09 '\n",
      "                                                              '17:35:28',\n",
      "                                                        'unit': 's',\n",
      "                                                        'vals': '<MultiType: '\n",
      "                                                                'Numbers v>=0, '\n",
      "                                                                'Enum: {None}>',\n",
      "                                                        'value': 10.0},\n",
      "                                            'trigger1_delay': {'__class__': 'qcodes.parameters.parameter.Parameter',\n",
      "                                                               'full_name': 'DMM6500_trigger1_delay',\n",
      "                                                               'instrument': 'qcodes.instrument_drivers.tektronix.Keithley_6500.Keithley_6500',\n",
      "                                                               'instrument_name': 'DMM6500',\n",
      "                                                               'inter_delay': 0,\n",
      "                                                               'label': 'trigger1_delay',\n",
      "                                                               'name': 'trigger1_delay',\n",
      "                                                               'post_delay': 0,\n",
      "                                                               'raw_value': '1E-05',\n",
      "                                                               'ts': '2025-01-09 '\n",
      "                                                                     '17:35:28',\n",
      "                                                               'unit': 's',\n",
      "                                                               'vals': '<Numbers '\n",
      "                                                                       '0<=v<=999999.999>',\n",
      "                                                               'value': 1e-05},\n",
      "                                            'trigger1_source': {'__class__': 'qcodes.parameters.parameter.Parameter',\n",
      "                                                                'full_name': 'DMM6500_trigger1_source',\n",
      "                                                                'instrument': 'qcodes.instrument_drivers.tektronix.Keithley_6500.Keithley_6500',\n",
      "                                                                'instrument_name': 'DMM6500',\n",
      "                                                                'inter_delay': 0,\n",
      "                                                                'label': 'trigger1_source',\n",
      "                                                                'name': 'trigger1_source',\n",
      "                                                                'post_delay': 0,\n",
      "                                                                'raw_value': 'NONE',\n",
      "                                                                'ts': '2025-01-09 '\n",
      "                                                                      '17:35:28',\n",
      "                                                                'unit': '',\n",
      "                                                                'val_mapping': {'bus': 'COMM',\n",
      "                                                                                'external': 'EXT',\n",
      "                                                                                'front-panel': 'DISP',\n",
      "                                                                                'immediate': 'NONE',\n",
      "                                                                                'notify1': 'NOT1',\n",
      "                                                                                'notify2': 'NOT2',\n",
      "                                                                                'notify3': 'NOT3',\n",
      "                                                                                'timer1': 'TIM1',\n",
      "                                                                                'timer2': 'TIM2',\n",
      "                                                                                'timer3': 'TIM3',\n",
      "                                                                                'timer4': 'TIM4'},\n",
      "                                                                'vals': '<Enum: '\n",
      "                                                                        \"{'timer4', \"\n",
      "                                                                        \"'external', \"\n",
      "                                                                        \"'timer3', \"\n",
      "                                                                        \"'bus', \"\n",
      "                                                                        \"'notify3', \"\n",
      "                                                                        \"'immediate', \"\n",
      "                                                                        \"'notify1', \"\n",
      "                                                                        \"'front-panel', \"\n",
      "                                                                        \"'notify2', \"\n",
      "                                                                        \"'timer1', \"\n",
      "                                                                        \"'timer2'}>\",\n",
      "                                                                'value': 'immediate'},\n",
      "                                            'trigger2_delay': {'__class__': 'qcodes.parameters.parameter.Parameter',\n",
      "                                                               'full_name': 'DMM6500_trigger2_delay',\n",
      "                                                               'instrument': 'qcodes.instrument_drivers.tektronix.Keithley_6500.Keithley_6500',\n",
      "                                                               'instrument_name': 'DMM6500',\n",
      "                                                               'inter_delay': 0,\n",
      "                                                               'label': 'trigger2_delay',\n",
      "                                                               'name': 'trigger2_delay',\n",
      "                                                               'post_delay': 0,\n",
      "                                                               'raw_value': '1E-05',\n",
      "                                                               'ts': '2025-01-09 '\n",
      "                                                                     '17:35:28',\n",
      "                                                               'unit': 's',\n",
      "                                                               'vals': '<Numbers '\n",
      "                                                                       '0<=v<=999999.999>',\n",
      "                                                               'value': 1e-05},\n",
      "                                            'trigger2_source': {'__class__': 'qcodes.parameters.parameter.Parameter',\n",
      "                                                                'full_name': 'DMM6500_trigger2_source',\n",
      "                                                                'instrument': 'qcodes.instrument_drivers.tektronix.Keithley_6500.Keithley_6500',\n",
      "                                                                'instrument_name': 'DMM6500',\n",
      "                                                                'inter_delay': 0,\n",
      "                                                                'label': 'trigger2_source',\n",
      "                                                                'name': 'trigger2_source',\n",
      "                                                                'post_delay': 0,\n",
      "                                                                'raw_value': 'NONE',\n",
      "                                                                'ts': '2025-01-09 '\n",
      "                                                                      '17:35:28',\n",
      "                                                                'unit': '',\n",
      "                                                                'val_mapping': {'bus': 'COMM',\n",
      "                                                                                'external': 'EXT',\n",
      "                                                                                'front-panel': 'DISP',\n",
      "                                                                                'immediate': 'NONE',\n",
      "                                                                                'notify1': 'NOT1',\n",
      "                                                                                'notify2': 'NOT2',\n",
      "                                                                                'notify3': 'NOT3',\n",
      "                                                                                'timer1': 'TIM1',\n",
      "                                                                                'timer2': 'TIM2',\n",
      "                                                                                'timer3': 'TIM3',\n",
      "                                                                                'timer4': 'TIM4'},\n",
      "                                                                'vals': '<Enum: '\n",
      "                                                                        \"{'timer4', \"\n",
      "                                                                        \"'external', \"\n",
      "                                                                        \"'timer3', \"\n",
      "                                                                        \"'bus', \"\n",
      "                                                                        \"'notify3', \"\n",
      "                                                                        \"'immediate', \"\n",
      "                                                                        \"'notify1', \"\n",
      "                                                                        \"'front-panel', \"\n",
      "                                                                        \"'notify2', \"\n",
      "                                                                        \"'timer1', \"\n",
      "                                                                        \"'timer2'}>\",\n",
      "                                                                'value': 'immediate'},\n",
      "                                            'trigger3_delay': {'__class__': 'qcodes.parameters.parameter.Parameter',\n",
      "                                                               'full_name': 'DMM6500_trigger3_delay',\n",
      "                                                               'instrument': 'qcodes.instrument_drivers.tektronix.Keithley_6500.Keithley_6500',\n",
      "                                                               'instrument_name': 'DMM6500',\n",
      "                                                               'inter_delay': 0,\n",
      "                                                               'label': 'trigger3_delay',\n",
      "                                                               'name': 'trigger3_delay',\n",
      "                                                               'post_delay': 0,\n",
      "                                                               'raw_value': '1E-05',\n",
      "                                                               'ts': '2025-01-09 '\n",
      "                                                                     '17:35:28',\n",
      "                                                               'unit': 's',\n",
      "                                                               'vals': '<Numbers '\n",
      "                                                                       '0<=v<=999999.999>',\n",
      "                                                               'value': 1e-05},\n",
      "                                            'trigger3_source': {'__class__': 'qcodes.parameters.parameter.Parameter',\n",
      "                                                                'full_name': 'DMM6500_trigger3_source',\n",
      "                                                                'instrument': 'qcodes.instrument_drivers.tektronix.Keithley_6500.Keithley_6500',\n",
      "                                                                'instrument_name': 'DMM6500',\n",
      "                                                                'inter_delay': 0,\n",
      "                                                                'label': 'trigger3_source',\n",
      "                                                                'name': 'trigger3_source',\n",
      "                                                                'post_delay': 0,\n",
      "                                                                'raw_value': 'NONE',\n",
      "                                                                'ts': '2025-01-09 '\n",
      "                                                                      '17:35:28',\n",
      "                                                                'unit': '',\n",
      "                                                                'val_mapping': {'bus': 'COMM',\n",
      "                                                                                'external': 'EXT',\n",
      "                                                                                'front-panel': 'DISP',\n",
      "                                                                                'immediate': 'NONE',\n",
      "                                                                                'notify1': 'NOT1',\n",
      "                                                                                'notify2': 'NOT2',\n",
      "                                                                                'notify3': 'NOT3',\n",
      "                                                                                'timer1': 'TIM1',\n",
      "                                                                                'timer2': 'TIM2',\n",
      "                                                                                'timer3': 'TIM3',\n",
      "                                                                                'timer4': 'TIM4'},\n",
      "                                                                'vals': '<Enum: '\n",
      "                                                                        \"{'timer4', \"\n",
      "                                                                        \"'external', \"\n",
      "                                                                        \"'timer3', \"\n",
      "                                                                        \"'bus', \"\n",
      "                                                                        \"'notify3', \"\n",
      "                                                                        \"'immediate', \"\n",
      "                                                                        \"'notify1', \"\n",
      "                                                                        \"'front-panel', \"\n",
      "                                                                        \"'notify2', \"\n",
      "                                                                        \"'timer1', \"\n",
      "                                                                        \"'timer2'}>\",\n",
      "                                                                'value': 'immediate'},\n",
      "                                            'trigger4_delay': {'__class__': 'qcodes.parameters.parameter.Parameter',\n",
      "                                                               'full_name': 'DMM6500_trigger4_delay',\n",
      "                                                               'instrument': 'qcodes.instrument_drivers.tektronix.Keithley_6500.Keithley_6500',\n",
      "                                                               'instrument_name': 'DMM6500',\n",
      "                                                               'inter_delay': 0,\n",
      "                                                               'label': 'trigger4_delay',\n",
      "                                                               'name': 'trigger4_delay',\n",
      "                                                               'post_delay': 0,\n",
      "                                                               'raw_value': '1E-05',\n",
      "                                                               'ts': '2025-01-09 '\n",
      "                                                                     '17:35:28',\n",
      "                                                               'unit': 's',\n",
      "                                                               'vals': '<Numbers '\n",
      "                                                                       '0<=v<=999999.999>',\n",
      "                                                               'value': 1e-05},\n",
      "                                            'trigger4_source': {'__class__': 'qcodes.parameters.parameter.Parameter',\n",
      "                                                                'full_name': 'DMM6500_trigger4_source',\n",
      "                                                                'instrument': 'qcodes.instrument_drivers.tektronix.Keithley_6500.Keithley_6500',\n",
      "                                                                'instrument_name': 'DMM6500',\n",
      "                                                                'inter_delay': 0,\n",
      "                                                                'label': 'trigger4_source',\n",
      "                                                                'name': 'trigger4_source',\n",
      "                                                                'post_delay': 0,\n",
      "                                                                'raw_value': 'NONE',\n",
      "                                                                'ts': '2025-01-09 '\n",
      "                                                                      '17:35:28',\n",
      "                                                                'unit': '',\n",
      "                                                                'val_mapping': {'bus': 'COMM',\n",
      "                                                                                'external': 'EXT',\n",
      "                                                                                'front-panel': 'DISP',\n",
      "                                                                                'immediate': 'NONE',\n",
      "                                                                                'notify1': 'NOT1',\n",
      "                                                                                'notify2': 'NOT2',\n",
      "                                                                                'notify3': 'NOT3',\n",
      "                                                                                'timer1': 'TIM1',\n",
      "                                                                                'timer2': 'TIM2',\n",
      "                                                                                'timer3': 'TIM3',\n",
      "                                                                                'timer4': 'TIM4'},\n",
      "                                                                'vals': '<Enum: '\n",
      "                                                                        \"{'timer4', \"\n",
      "                                                                        \"'external', \"\n",
      "                                                                        \"'timer3', \"\n",
      "                                                                        \"'bus', \"\n",
      "                                                                        \"'notify3', \"\n",
      "                                                                        \"'immediate', \"\n",
      "                                                                        \"'notify1', \"\n",
      "                                                                        \"'front-panel', \"\n",
      "                                                                        \"'notify2', \"\n",
      "                                                                        \"'timer1', \"\n",
      "                                                                        \"'timer2'}>\",\n",
      "                                                                'value': 'immediate'},\n",
      "                                            'trigger_count': {'__class__': 'qcodes.parameters.parameter.Parameter',\n",
      "                                                              'full_name': 'DMM6500_trigger_count',\n",
      "                                                              'instrument': 'qcodes.instrument_drivers.tektronix.Keithley_6500.Keithley_6500',\n",
      "                                                              'instrument_name': 'DMM6500',\n",
      "                                                              'inter_delay': 0,\n",
      "                                                              'label': 'trigger_count',\n",
      "                                                              'name': 'trigger_count',\n",
      "                                                              'post_delay': 0,\n",
      "                                                              'raw_value': '1',\n",
      "                                                              'ts': '2025-01-09 '\n",
      "                                                                    '17:35:28',\n",
      "                                                              'unit': '',\n",
      "                                                              'vals': '<MultiType: '\n",
      "                                                                      'Ints '\n",
      "                                                                      '1<=v<=9999, '\n",
      "                                                                      'Enum: '\n",
      "                                                                      \"{'default', \"\n",
      "                                                                      \"'inf', \"\n",
      "                                                                      \"'minimum', \"\n",
      "                                                                      \"'maximum'}>\",\n",
      "                                                              'value': 1},\n",
      "                                            'trigger_timer': {'__class__': 'qcodes.parameters.parameter.Parameter',\n",
      "                                                              'full_name': 'DMM6500_trigger_timer',\n",
      "                                                              'instrument': 'qcodes.instrument_drivers.tektronix.Keithley_6500.Keithley_6500',\n",
      "                                                              'instrument_name': 'DMM6500',\n",
      "                                                              'inter_delay': 0,\n",
      "                                                              'label': 'trigger_timer',\n",
      "                                                              'name': 'trigger_timer',\n",
      "                                                              'post_delay': 0,\n",
      "                                                              'raw_value': '0',\n",
      "                                                              'ts': '2025-01-09 '\n",
      "                                                                    '17:35:28',\n",
      "                                                              'unit': 's',\n",
      "                                                              'vals': '<Numbers '\n",
      "                                                                      '0<=v<=999999.999>',\n",
      "                                                              'value': 0.0}},\n",
      "                             'read_terminator': '\\n',\n",
      "                             'submodules': {},\n",
      "                             'terminator': '\\n',\n",
      "                             'timeout': 10.0,\n",
      "                             'write_terminator': '\\n'},\n",
      "                 'K2440': {'__class__': 'qcodes.instrument_drivers.Keithley.Keithley_2400.Keithley2400',\n",
      "                           'address': 'GPIB0::22::INSTR',\n",
      "                           'functions': {},\n",
      "                           'label': 'K2440',\n",
      "                           'name': 'K2440',\n",
      "                           'parameters': {'IDN': {'__class__': 'qcodes.parameters.parameter.Parameter',\n",
      "                                                  'full_name': 'K2440_IDN',\n",
      "                                                  'instrument': 'qcodes.instrument_drivers.Keithley.Keithley_2400.Keithley2400',\n",
      "                                                  'instrument_name': 'K2440',\n",
      "                                                  'inter_delay': 0,\n",
      "                                                  'label': 'IDN',\n",
      "                                                  'name': 'IDN',\n",
      "                                                  'post_delay': 0,\n",
      "                                                  'raw_value': {'firmware': 'C30   '\n",
      "                                                                            'Mar '\n",
      "                                                                            '17 '\n",
      "                                                                            '2006 '\n",
      "                                                                            '09:29:29/A02  '\n",
      "                                                                            '/B/A',\n",
      "                                                                'model': '2440',\n",
      "                                                                'serial': '1225508',\n",
      "                                                                'vendor': 'KEITHLEY '\n",
      "                                                                          'INSTRUMENTS '\n",
      "                                                                          'INC.'},\n",
      "                                                  'ts': '2025-01-09 17:35:28',\n",
      "                                                  'unit': '',\n",
      "                                                  'vals': '<Anything>',\n",
      "                                                  'value': {'firmware': 'C30   '\n",
      "                                                                        'Mar '\n",
      "                                                                        '17 '\n",
      "                                                                        '2006 '\n",
      "                                                                        '09:29:29/A02  '\n",
      "                                                                        '/B/A',\n",
      "                                                            'model': '2440',\n",
      "                                                            'serial': '1225508',\n",
      "                                                            'vendor': 'KEITHLEY '\n",
      "                                                                      'INSTRUMENTS '\n",
      "                                                                      'INC.'}},\n",
      "                                          'compliancei': {'__class__': 'qcodes.parameters.parameter.Parameter',\n",
      "                                                          'full_name': 'K2440_compliancei',\n",
      "                                                          'instrument': 'qcodes.instrument_drivers.Keithley.Keithley_2400.Keithley2400',\n",
      "                                                          'instrument_name': 'K2440',\n",
      "                                                          'inter_delay': 0,\n",
      "                                                          'label': 'Current '\n",
      "                                                                   'Compliance',\n",
      "                                                          'name': 'compliancei',\n",
      "                                                          'post_delay': 0,\n",
      "                                                          'raw_value': '1.050000E-04',\n",
      "                                                          'ts': '2025-01-09 '\n",
      "                                                                '17:35:28',\n",
      "                                                          'unit': '',\n",
      "                                                          'value': 0.000105},\n",
      "                                          'compliancev': {'__class__': 'qcodes.parameters.parameter.Parameter',\n",
      "                                                          'full_name': 'K2440_compliancev',\n",
      "                                                          'instrument': 'qcodes.instrument_drivers.Keithley.Keithley_2400.Keithley2400',\n",
      "                                                          'instrument_name': 'K2440',\n",
      "                                                          'inter_delay': 0,\n",
      "                                                          'label': 'Voltage '\n",
      "                                                                   'Compliance',\n",
      "                                                          'name': 'compliancev',\n",
      "                                                          'post_delay': 0,\n",
      "                                                          'raw_value': '1.050000E+01',\n",
      "                                                          'ts': '2025-01-09 '\n",
      "                                                                '17:35:28',\n",
      "                                                          'unit': '',\n",
      "                                                          'value': 10.5},\n",
      "                                          'curr': {'__class__': 'qcodes.parameters.parameter.Parameter',\n",
      "                                                   'full_name': 'K2440_curr',\n",
      "                                                   'instrument': 'qcodes.instrument_drivers.Keithley.Keithley_2400.Keithley2400',\n",
      "                                                   'instrument_name': 'K2440',\n",
      "                                                   'inter_delay': 0,\n",
      "                                                   'label': 'Current',\n",
      "                                                   'name': 'curr',\n",
      "                                                   'post_delay': 0,\n",
      "                                                   'raw_value': None,\n",
      "                                                   'ts': None,\n",
      "                                                   'unit': 'A',\n",
      "                                                   'value': None},\n",
      "                                          'mode': {'__class__': 'qcodes.parameters.parameter.Parameter',\n",
      "                                                   'full_name': 'K2440_mode',\n",
      "                                                   'instrument': 'qcodes.instrument_drivers.Keithley.Keithley_2400.Keithley2400',\n",
      "                                                   'instrument_name': 'K2440',\n",
      "                                                   'inter_delay': 0,\n",
      "                                                   'label': 'Mode',\n",
      "                                                   'name': 'mode',\n",
      "                                                   'post_delay': 0,\n",
      "                                                   'raw_value': 'VOLT',\n",
      "                                                   'ts': '2025-01-09 17:35:28',\n",
      "                                                   'unit': '',\n",
      "                                                   'vals': \"<Enum: {'CURR', \"\n",
      "                                                           \"'VOLT'}>\",\n",
      "                                                   'value': 'VOLT'},\n",
      "                                          'nplci': {'__class__': 'qcodes.parameters.parameter.Parameter',\n",
      "                                                    'full_name': 'K2440_nplci',\n",
      "                                                    'instrument': 'qcodes.instrument_drivers.Keithley.Keithley_2400.Keithley2400',\n",
      "                                                    'instrument_name': 'K2440',\n",
      "                                                    'inter_delay': 0,\n",
      "                                                    'label': 'Current '\n",
      "                                                             'integration time',\n",
      "                                                    'name': 'nplci',\n",
      "                                                    'post_delay': 0,\n",
      "                                                    'raw_value': '1.00',\n",
      "                                                    'ts': '2025-01-09 17:35:28',\n",
      "                                                    'unit': '',\n",
      "                                                    'value': 1.0},\n",
      "                                          'nplcv': {'__class__': 'qcodes.parameters.parameter.Parameter',\n",
      "                                                    'full_name': 'K2440_nplcv',\n",
      "                                                    'instrument': 'qcodes.instrument_drivers.Keithley.Keithley_2400.Keithley2400',\n",
      "                                                    'instrument_name': 'K2440',\n",
      "                                                    'inter_delay': 0,\n",
      "                                                    'label': 'Voltage '\n",
      "                                                             'integration time',\n",
      "                                                    'name': 'nplcv',\n",
      "                                                    'post_delay': 0,\n",
      "                                                    'raw_value': '1.00',\n",
      "                                                    'ts': '2025-01-09 17:35:28',\n",
      "                                                    'unit': '',\n",
      "                                                    'value': 1.0},\n",
      "                                          'output': {'__class__': 'qcodes.parameters.parameter.Parameter',\n",
      "                                                     'full_name': 'K2440_output',\n",
      "                                                     'instrument': 'qcodes.instrument_drivers.Keithley.Keithley_2400.Keithley2400',\n",
      "                                                     'instrument_name': 'K2440',\n",
      "                                                     'inter_delay': 0,\n",
      "                                                     'label': 'output',\n",
      "                                                     'name': 'output',\n",
      "                                                     'post_delay': 0,\n",
      "                                                     'raw_value': '0',\n",
      "                                                     'ts': '2025-01-09 '\n",
      "                                                           '17:35:28',\n",
      "                                                     'unit': '',\n",
      "                                                     'val_mapping': OrderedDict([('On',\n",
      "                                                                                  '1'),\n",
      "                                                                                 ('ON',\n",
      "                                                                                  '1'),\n",
      "                                                                                 ('on',\n",
      "                                                                                  '1'),\n",
      "                                                                                 ('1',\n",
      "                                                                                  '1'),\n",
      "                                                                                 (True,\n",
      "                                                                                  '1'),\n",
      "                                                                                 ('Off',\n",
      "                                                                                  '0'),\n",
      "                                                                                 ('OFF',\n",
      "                                                                                  '0'),\n",
      "                                                                                 ('off',\n",
      "                                                                                  '0'),\n",
      "                                                                                 ('0',\n",
      "                                                                                  '0'),\n",
      "                                                                                 (False,\n",
      "                                                                                  '0')]),\n",
      "                                                     'vals': \"<Enum: {'1', \"\n",
      "                                                             \"True, 'off', \"\n",
      "                                                             \"'On', 'Off', \"\n",
      "                                                             \"False, 'OFF', \"\n",
      "                                                             \"'0', 'ON', \"\n",
      "                                                             \"'on'}>\",\n",
      "                                                     'value': False},\n",
      "                                          'rangei': {'__class__': 'qcodes.parameters.parameter.Parameter',\n",
      "                                                     'full_name': 'K2440_rangei',\n",
      "                                                     'instrument': 'qcodes.instrument_drivers.Keithley.Keithley_2400.Keithley2400',\n",
      "                                                     'instrument_name': 'K2440',\n",
      "                                                     'inter_delay': 0,\n",
      "                                                     'label': 'Current range',\n",
      "                                                     'name': 'rangei',\n",
      "                                                     'post_delay': 0,\n",
      "                                                     'raw_value': '1.050000E-04',\n",
      "                                                     'ts': '2025-01-09 '\n",
      "                                                           '17:35:28',\n",
      "                                                     'unit': '',\n",
      "                                                     'value': 0.000105},\n",
      "                                          'rangev': {'__class__': 'qcodes.parameters.parameter.Parameter',\n",
      "                                                     'full_name': 'K2440_rangev',\n",
      "                                                     'instrument': 'qcodes.instrument_drivers.Keithley.Keithley_2400.Keithley2400',\n",
      "                                                     'instrument_name': 'K2440',\n",
      "                                                     'inter_delay': 0,\n",
      "                                                     'label': 'Voltage range',\n",
      "                                                     'name': 'rangev',\n",
      "                                                     'post_delay': 0,\n",
      "                                                     'raw_value': '10.50',\n",
      "                                                     'ts': '2025-01-09 '\n",
      "                                                           '17:35:28',\n",
      "                                                     'unit': '',\n",
      "                                                     'value': 10.5},\n",
      "                                          'resistance': {'__class__': 'qcodes.parameters.parameter.Parameter',\n",
      "                                                         'full_name': 'K2440_resistance',\n",
      "                                                         'instrument': 'qcodes.instrument_drivers.Keithley.Keithley_2400.Keithley2400',\n",
      "                                                         'instrument_name': 'K2440',\n",
      "                                                         'inter_delay': 0,\n",
      "                                                         'label': 'Resistance',\n",
      "                                                         'name': 'resistance',\n",
      "                                                         'post_delay': 0,\n",
      "                                                         'raw_value': None,\n",
      "                                                         'ts': None,\n",
      "                                                         'unit': 'Ohm',\n",
      "                                                         'value': None},\n",
      "                                          'sense': {'__class__': 'qcodes.parameters.parameter.Parameter',\n",
      "                                                    'full_name': 'K2440_sense',\n",
      "                                                    'instrument': 'qcodes.instrument_drivers.Keithley.Keithley_2400.Keithley2400',\n",
      "                                                    'instrument_name': 'K2440',\n",
      "                                                    'inter_delay': 0,\n",
      "                                                    'label': 'Sense mode',\n",
      "                                                    'name': 'sense',\n",
      "                                                    'post_delay': 0,\n",
      "                                                    'raw_value': '\"CURR:DC\"',\n",
      "                                                    'ts': '2025-01-09 17:35:28',\n",
      "                                                    'unit': '',\n",
      "                                                    'vals': '<Strings>',\n",
      "                                                    'value': '\"CURR:DC\"'},\n",
      "                                          'timeout': {'__class__': 'qcodes.parameters.parameter.Parameter',\n",
      "                                                      'full_name': 'K2440_timeout',\n",
      "                                                      'instrument': 'qcodes.instrument_drivers.Keithley.Keithley_2400.Keithley2400',\n",
      "                                                      'instrument_name': 'K2440',\n",
      "                                                      'inter_delay': 0,\n",
      "                                                      'label': 'timeout',\n",
      "                                                      'name': 'timeout',\n",
      "                                                      'post_delay': 0,\n",
      "                                                      'raw_value': 10.0,\n",
      "                                                      'ts': '2025-01-09 '\n",
      "                                                            '17:35:28',\n",
      "                                                      'unit': 's',\n",
      "                                                      'vals': '<MultiType: '\n",
      "                                                              'Numbers v>=0, '\n",
      "                                                              'Enum: {None}>',\n",
      "                                                      'value': 10.0},\n",
      "                                          'volt': {'__class__': 'qcodes.parameters.parameter.Parameter',\n",
      "                                                   'full_name': 'K2440_volt',\n",
      "                                                   'instrument': 'qcodes.instrument_drivers.Keithley.Keithley_2400.Keithley2400',\n",
      "                                                   'instrument_name': 'K2440',\n",
      "                                                   'inter_delay': 0,\n",
      "                                                   'label': 'Voltage',\n",
      "                                                   'name': 'volt',\n",
      "                                                   'post_delay': 0,\n",
      "                                                   'raw_value': None,\n",
      "                                                   'ts': None,\n",
      "                                                   'unit': 'V',\n",
      "                                                   'value': None}},\n",
      "                           'read_terminator': '\\n',\n",
      "                           'submodules': {},\n",
      "                           'terminator': '\\n',\n",
      "                           'timeout': 10.0,\n",
      "                           'write_terminator': '\\n'}},\n",
      " 'parameters': {}}\n"
     ]
    }
   ],
   "source": [
    "snapshot_of_station = station.snapshot()\n",
    "pprint(snapshot_of_station)"
   ]
  },
  {
   "cell_type": "markdown",
   "id": "4757b159",
   "metadata": {},
   "source": [
    "## Keithley 2440"
   ]
  },
  {
   "cell_type": "markdown",
   "id": "797b994c",
   "metadata": {},
   "source": [
    "### sensitive check"
   ]
  },
  {
   "cell_type": "code",
   "execution_count": 7,
   "id": "f387f69b",
   "metadata": {},
   "outputs": [
    {
     "data": {
      "text/plain": [
       "'VOLT'"
      ]
     },
     "execution_count": 7,
     "metadata": {},
     "output_type": "execute_result"
    }
   ],
   "source": [
    "K2440.mode('VOLT')\n",
    "K2440.mode()"
   ]
  },
  {
   "cell_type": "code",
   "execution_count": 8,
   "id": "09a8a36e",
   "metadata": {},
   "outputs": [
    {
     "name": "stdout",
     "output_type": "stream",
     "text": [
      "0.0002210442\n"
     ]
    }
   ],
   "source": [
    "K2440.output(1) # output on\n",
    "K2440.rangev(10)\n",
    "K2440.volt(0)\n",
    "K2440.compliancei(100e-3)\n",
    "sleep(1)\n",
    "v_read=DMM6500.amplitude()\n",
    "K2440.output(0) #output off\n",
    "print(v_read)"
   ]
  },
  {
   "cell_type": "markdown",
   "id": "105706bc",
   "metadata": {},
   "source": [
    "## TG 2400"
   ]
  },
  {
   "cell_type": "code",
   "execution_count": 18,
   "id": "cdc19f1b",
   "metadata": {},
   "outputs": [
    {
     "name": "stdout",
     "output_type": "stream",
     "text": [
      "6.355754e-05\n"
     ]
    }
   ],
   "source": [
    "K2440.output(1) # output on\n",
    "K2440.rangev(22)\n",
    "K2440.volt(0)\n",
    "K2440.compliancei(100e-3)\n",
    "# K2440.output(0) #output off\n",
    "sleep(1)\n",
    "v_read=DMM6500.amplitude()\n",
    "print(v_read)"
   ]
  },
  {
   "cell_type": "code",
   "execution_count": 19,
   "id": "e971a620",
   "metadata": {},
   "outputs": [],
   "source": [
    "# K2440.volt(1)\n",
    "K2440.output(0) #output off"
   ]
  },
  {
   "cell_type": "code",
   "execution_count": null,
   "id": "e284050c",
   "metadata": {},
   "outputs": [],
   "source": [
    "K2440.rangev(1)\n",
    "K2440.rangev()"
   ]
  },
  {
   "cell_type": "markdown",
   "id": "c676ccb5",
   "metadata": {},
   "source": [
    "#  Database initialisation"
   ]
  },
  {
   "cell_type": "code",
   "execution_count": 9,
   "id": "e09e380a",
   "metadata": {},
   "outputs": [
    {
     "data": {
      "text/plain": [
       "'c:\\\\Users\\\\quant\\\\OneDrive\\\\Documents\\\\GitHub\\\\QCoDeS_local\\\\init_database_v2.py'"
      ]
     },
     "execution_count": 9,
     "metadata": {},
     "output_type": "execute_result"
    }
   ],
   "source": [
    "def find_init_database_v2_py():\n",
    "    for root, dirs, files in os.walk(qcodes_local_dir):\n",
    "        if 'init_database_v2.py' in files:\n",
    "            return os.path.join(root, 'init_database_v2.py')\n",
    "    return None\n",
    "\n",
    "init_database_v2_py_path = find_init_database_v2_py()\n",
    "init_database_v2_py_path"
   ]
  },
  {
   "cell_type": "code",
   "execution_count": 10,
   "id": "7b665bc4",
   "metadata": {},
   "outputs": [
    {
     "name": "stdout",
     "output_type": "stream",
     "text": [
      "Creating a new database file:\n",
      "c:\\Users\\quant\\OneDrive\\Documents\\GitHub\\QCoDeS_local\\personal_scripts\\Albert\\PtTe2\\006-1\\006-1_2025-01-09_01.db\n"
     ]
    }
   ],
   "source": [
    "reuse = False\n",
    "%run \"{init_database_v2_py_path}\" {reuse}"
   ]
  },
  {
   "cell_type": "markdown",
   "id": "6a8a2beb",
   "metadata": {},
   "source": [
    "\n",
    "# Scaled parameters"
   ]
  },
  {
   "cell_type": "code",
   "execution_count": null,
   "id": "e3b44b31",
   "metadata": {},
   "outputs": [],
   "source": []
  },
  {
   "cell_type": "markdown",
   "id": "ea4ff57a",
   "metadata": {},
   "source": [
    "## Defining scaled parameters"
   ]
  },
  {
   "cell_type": "code",
   "execution_count": 11,
   "id": "c8ca5b97",
   "metadata": {},
   "outputs": [
    {
     "data": {
      "text/plain": [
       "'Gain_L2'"
      ]
     },
     "execution_count": 11,
     "metadata": {},
     "output_type": "execute_result"
    }
   ],
   "source": [
    "Irange = Parameter('Irange', label='current range', unit='', set_cmd=None, get_cmd=None)\n",
    "Vrange = Parameter('Vrange', label='voltage range', unit='', set_cmd=None, get_cmd=None)\n",
    "TGrange = Parameter('TGrange', label='Top gate range', unit='', set_cmd=None, get_cmd=None)\n",
    "\n",
    "#division paraemtrs required for simplier update: they used as an argument for scaled paraemtrs of sorce instruments\n",
    "\n",
    "\n",
    "Irange_division = Parameter('Irange_division', \n",
    "                            label='scaled current range', unit='', \n",
    "                            set_cmd=None, get_cmd=lambda : 1 / Irange())\n",
    "\n",
    "Vrange_division = Parameter('Vrange_division', \n",
    "                            label='scaled voltage range', unit='', \n",
    "                            set_cmd=None, get_cmd=lambda : 1 / Vrange())\n",
    "\n",
    "TGrange_division = Parameter('TGrange_division', \n",
    "                             label='scaled Top gate range', unit='', \n",
    "                             set_cmd=None, get_cmd=lambda : 1 / TGrange())\n",
    "\n",
    "Irange_AC_division = Parameter('Irange_AC_division', \n",
    "                               label='scaled current range for lockin', unit='', \n",
    "                               set_cmd=None, get_cmd=lambda : 1 / Irange())\n",
    "\n",
    "Vrange_AC_division = Parameter('Vrange_AC_division', \n",
    "                               label='scaled voltage range for lockin', unit='', \n",
    "                               set_cmd=None, get_cmd=lambda : 1 / Vrange())\n",
    "\n",
    "Gain_K1 = Parameter('Gain_K1', label='Gain K1', unit='', set_cmd=None, get_cmd=None)\n",
    "Gain_K2 = Parameter('Gain_K2', label='Gain K2', unit='', set_cmd=None, get_cmd=None)\n",
    "Gain_L1 = Parameter('Gain_L1', label='Gain L1', unit='', set_cmd=None, get_cmd=None)\n",
    "Gain_L2 = Parameter('Gain_L2', label='Gain L2', unit='', set_cmd=None, get_cmd=None)\n",
    "\n",
    "#Add components\n",
    "station.add_component(Irange)\n",
    "station.add_component(Vrange)\n",
    "station.add_component(TGrange)\n",
    "\n",
    "station.add_component(Irange_division)\n",
    "station.add_component(Vrange_division)\n",
    "station.add_component(TGrange_division)\n",
    "\n",
    "station.add_component(Irange_AC_division)\n",
    "station.add_component(Vrange_AC_division)\n",
    "                             \n",
    "station.add_component(Gain_K1)\n",
    "station.add_component(Gain_K2)\n",
    "station.add_component(Gain_L1)\n",
    "station.add_component(Gain_L2)"
   ]
  },
  {
   "cell_type": "markdown",
   "id": "6d7ecebe",
   "metadata": {},
   "source": [
    "## Parameters - update here during measuerements"
   ]
  },
  {
   "cell_type": "code",
   "execution_count": 12,
   "id": "b0b09fcc",
   "metadata": {},
   "outputs": [],
   "source": [
    "Irange.set(1e-6) #Unit Amp V=IR, 1V= 1e-6 x 1MOhm=1e-7 x 10MOhm\n",
    "Vrange.set(10) ## need to be sync with K213 range #Unit Volt\n",
    "TGrange.set(1) #Unit Volt\n",
    "Gain_K1.set(100)\n",
    "Gain_K2.set(100)\n",
    "# Gain_K3.set(1e2)\n",
    "Gain_L1.set(Gain_K1())\n",
    "Gain_L2.set(Gain_K2())\n",
    "#division parameters are updated automatically"
   ]
  },
  {
   "cell_type": "code",
   "execution_count": null,
   "id": "4b1231bb",
   "metadata": {},
   "outputs": [],
   "source": [
    "lockin_1.sine_outdc"
   ]
  },
  {
   "cell_type": "markdown",
   "id": "cbe7bfa7",
   "metadata": {},
   "source": [
    "## DC parameters"
   ]
  },
  {
   "cell_type": "code",
   "execution_count": 13,
   "id": "6a8c7deb",
   "metadata": {},
   "outputs": [
    {
     "data": {
      "text/plain": [
       "'meas_current_K1'"
      ]
     },
     "execution_count": 13,
     "metadata": {},
     "output_type": "execute_result"
    }
   ],
   "source": [
    "# appl_current = ScaledParameter(lockin_1.sine_outdc, division = Irange_division, name = 'appl_current', unit = 'A')\n",
    "appl_current = ScaledParameter(K2440.volt, division = Irange_division, name = 'appl_current', unit = 'A')\n",
    "\n",
    "#appl_TG = ScaledParameter(K2440.volt, division = TGrange_division, name = 'appl_TG', unit = 'V')\n",
    "\n",
    "meas_voltage_K1 = ScaledParameter(DMM6500.amplitude, division = Gain_K1, name = 'meas_voltage_K1', unit = 'V')\n",
    "# meas_voltage_K2 = ScaledParameter(DMM6500.amplitude, division = Gain_K2, name = 'meas_voltage_K2', unit = 'V')\n",
    "\n",
    "# meas_leakage = ScaledParameter(DMM6500.amplitude, division = Gain_K2, name = 'meas_leakage', unit = 'A')\n",
    "\n",
    "meas_current_K1 = ScaledParameter(DMM6500.amplitude, division = Gain_K1, name = 'meas_current_K1', unit = 'A')\n",
    "# meas_current_K2 = ScaledParameter(DMM6500.amplitude, division = Gain_K2, name = 'meas_current_K2', unit = 'A')\n",
    "\n",
    "station.add_component(appl_current)\n",
    "# station.add_component(appl_voltage)\n",
    "#station.add_component(appl_TG)\n",
    "\n",
    "station.add_component(meas_voltage_K1)\n",
    "# station.add_component(meas_voltage_K2)\n",
    "\n",
    "# station.add_component(meas_leakage)\n",
    "\n",
    "station.add_component(meas_current_K1)\n",
    "# station.add_component(meas_current_K2)"
   ]
  },
  {
   "cell_type": "code",
   "execution_count": 18,
   "id": "3851dc82",
   "metadata": {},
   "outputs": [],
   "source": [
    "K2440.output(0)\n",
    "appl_current(0)\n",
    "sleep(1)\n",
    "# meas_voltage_K2()"
   ]
  },
  {
   "cell_type": "markdown",
   "id": "a23afd58",
   "metadata": {},
   "source": [
    "##  AC parameters"
   ]
  },
  {
   "cell_type": "code",
   "execution_count": null,
   "id": "769f6a51",
   "metadata": {},
   "outputs": [],
   "source": [
    "appl_current_AC = ScaledParameter(lockin_1.amplitude, division = Irange_AC_division, name = 'appl_current_AC', unit = 'A')\n",
    "appl_voltage_AC = ScaledParameter(lockin_1.amplitude, division = Vrange_AC_division, name = 'appl_voltage_AC', unit = 'V')\n",
    "\n",
    "station.add_component(appl_current_AC)\n",
    "station.add_component(appl_voltage_AC)\n",
    "\n",
    "meas_voltage_AC_L1 = ScaledParameter(lockin_1.X, division = Gain_L1, name = 'meas_voltage_Lockin1', unit = 'V')\n",
    "meas_current_AC_L1 = ScaledParameter(lockin_1.X, division = Gain_L1, name = 'meas_current_Lockin1', unit = 'A')\n",
    "meas_phase_AC_L1 = ScaledParameter(lockin_1.P, division = 1, name = 'meas_phase_Lockin1', unit = 'degree')\n",
    "\n",
    "\n",
    "# meas_voltage_AC_L2 = ScaledParameter(lockin_2.X, division = Gain_L2, name = 'meas_voltage_Lockin2', unit = 'V')\n",
    "# meas_current_AC_L2 = ScaledParameter(lockin_2.X, division = Gain_L2, name = 'meas_current_Lockin2', unit = 'A')\n",
    "# meas_phase_AC_L2 = ScaledParameter(lockin_2.P, division = 1, name = 'meas_phase_Lockin1', unit = 'degree')\n",
    "\n",
    "station.add_component(meas_voltage_AC_L1)\n",
    "station.add_component(meas_current_AC_L1)\n",
    "station.add_component(meas_phase_AC_L1)\n",
    "\n",
    "# station.add_component(meas_voltage_AC_L2)\n",
    "# station.add_component(meas_current_AC_L2)\n",
    "\n",
    "meas_voltage_AC_L1_R = ScaledParameter(lockin_1.R, division = Gain_L1, name = 'meas_voltage_R_Lockin1', unit = 'V')\n",
    "# meas_voltage_AC_L2_R = ScaledParameter(lockin_2.R, division = Gain_L2, name = 'meas_voltage_R_Lockin2', unit = 'V')\n",
    "\n",
    "station.add_component(meas_voltage_AC_L1_R)\n",
    "# station.add_component(meas_voltage_AC_L2_R)"
   ]
  },
  {
   "cell_type": "code",
   "execution_count": null,
   "id": "bcd10ed7",
   "metadata": {},
   "outputs": [],
   "source": [
    "meas_voltage_AC_L1_P = ScaledParameter(lockin_1.P, division = 1, name = 'meas_voltage_Lockin1_P', unit = 'degree')\n",
    "meas_current_AC_L1_P = ScaledParameter(lockin_1.P, division = 1, name = 'meas_current_Lockin1_P', unit = 'degree')\n",
    "\n",
    "# meas_voltage_AC_L2_P = ScaledParameter(lockin_2.P, division = 1, name = 'meas_voltage_Lockin2_P', unit = 'degree')\n",
    "# meas_current_AC_L2_P = ScaledParameter(lockin_2.P, division = 1, name = 'meas_current_Lockin2_P', unit = 'degree')\n",
    "\n",
    "station.add_component(meas_voltage_AC_L1_P)\n",
    "station.add_component(meas_current_AC_L1_P)\n",
    "\n",
    "# station.add_component(meas_voltage_AC_L2_P)\n",
    "# station.add_component(meas_current_AC_L2_P)"
   ]
  },
  {
   "cell_type": "markdown",
   "id": "8d9d6239",
   "metadata": {},
   "source": [
    "## Another useful example: magnet using dac (Janis)"
   ]
  },
  {
   "cell_type": "markdown",
   "id": "92e1f309",
   "metadata": {},
   "source": [
    ">2231.2 G per A => 0.22312 T per A<br>\n",
    "I source 10mA per V => 1e-5 A per 1mV<br>\n",
    "result: 0.22312 T/A * 1e-5 A/mV"
   ]
  },
  {
   "cell_type": "code",
   "execution_count": 16,
   "id": "6b2b657a",
   "metadata": {},
   "outputs": [],
   "source": [
    "# def get_R_from_IV(dataid):\n",
    "#     dataset = qc.load_by_id(dataid)\n",
    "#     voltage = dataset.get_parameter_data()['meas_voltage_K2']['meas_voltage_K2']\n",
    "#     current = dataset.get_parameter_data()['meas_voltage_K2']['appl_current']\n",
    "#     fit_values = np.polyfit(current,voltage,1)\n",
    "    \n",
    "#     return fit_values[0]\n",
    "\n",
    "dataset = qc.load_by_id(1)\n",
    "\n",
    "def get_R_from_IV_2(dataid):\n",
    "    dataset = qc.load_by_id(dataid)\n",
    "    voltage = dataset.get_parameter_data()['meas_voltage_K2']['meas_voltage_K2']\n",
    "    current = dataset.get_parameter_data()['meas_voltage_K2']['appl_current']\n",
    "    fit_values = np.polyfit(current,voltage,1)\n",
    "\n",
    "    return fit_values[0]\n",
    "\n",
    "def get_R_from_IV(dataid):\n",
    "    dataset = qc.load_by_id(dataid)\n",
    "    para_list = dataset.parameters.split(\",\")\n",
    "    voltage = dataset.get_parameter_data()[para_list[1]][para_list[1]]\n",
    "    current = dataset.get_parameter_data()[para_list[1]][para_list[0]]\n",
    "    fit_values = np.polyfit(current,voltage,1)\n",
    "    return fit_values[0]\n",
    "\n",
    "\n",
    "def get_R_from_IV_K2(dataid):\n",
    "    dataset = qc.load_by_id(dataid)\n",
    "    voltage = dataset.get_parameter_data()['meas_voltage_K2']['meas_voltage_K2']\n",
    "    current = dataset.get_parameter_data()['meas_voltage_K2']['appl_current']\n",
    "    fit_values = np.polyfit(current,voltage,1)\n",
    "    return fit_values[0]\n",
    "\n",
    "def autosave_plot_by_id(run_id, save_path):\n",
    "    fig, ax = plt.subplots()\n",
    "    plot_by_id(run_id, axes=ax)\n",
    "    plt.savefig(save_path)\n",
    "    plt.close()\n",
    "\n",
    "def get_detaset_info(dataset=dataset):\n",
    "    run_id = dataset.captured_run_id\n",
    "    exp_name = dataset.exp_name\n",
    "    sample_name = dataset.sample_name\n",
    "    name = dataset.name\n",
    "    description = dataset.description\n",
    "    sample_junction = extract_sample_junction(sample_name)\n",
    "    return run_id, exp_name, sample_name, sample_junction, name, description\n",
    "\n",
    "def extract_sample_junction(sample_name):\n",
    "    \"\"\"Extracts the complete sample junction from the provided sample name.\n",
    "\n",
    "    Args:\n",
    "      sample_name: The name of the sample containing the junction information.\n",
    "\n",
    "    Returns:\n",
    "      The extracted sample junction, or None if not found.\n",
    "    \"\"\"\n",
    "\n",
    "    delimiter = \"_J\"\n",
    "    if delimiter in sample_name:\n",
    "        # +3 to include \"_J\"\n",
    "        return sample_name[:sample_name.find(delimiter) + 3]\n",
    "    else:\n",
    "        return None\n",
    "\n",
    "def IV(run_id=1):\n",
    "    dataset = qc.load_by_id(run_id)\n",
    "    R = get_R_from_IV(run_id)\n",
    "    run_id, exp_name, sample_name, sample_junction, name, description = get_detaset_info(\n",
    "        dataset)\n",
    "    df = dataset.to_pandas_dataframe().reset_index()\n",
    "    para_list = dataset.parameters.split(\",\")\n",
    "\n",
    "    # Create a Plotly trace\n",
    "    trace = go.Scatter(x=df[para_list[0]], y=df[para_list[1]]*1e3, mode='lines', name='Voltage vs. Current')\n",
    "\n",
    "    # Create layout with micro-scale y-axis\n",
    "    layout = go.Layout(title=f'<b>#{run_id} {exp_name}</b> {sample_name}, R_fit={R:.4f} Ω', title_font=dict(size=28),\n",
    "                       xaxis=dict(title=para_list[0], tickfont=dict(size=16),title_font=dict(size=20)),\n",
    "                       yaxis=dict(title=f\"{para_list[1]} mV\", tickfont=dict(size=16),title_font=dict(size=20)), \n",
    "                       width=1080, height=960,\n",
    "                       margin=dict(l=10, r=10, t=50, b=10))\n",
    "\n",
    "    # Create the figure\n",
    "    fig = go.Figure(data=[trace], layout=layout)\n",
    "    \n",
    "    fig.show()\n",
    "\n",
    "def IV_diff(run_id=1):\n",
    "    import numpy as np\n",
    "    import plotly.graph_objs as go\n",
    "    from scipy.signal import find_peaks\n",
    "    dataset = qc.load_by_id(run_id)\n",
    "\n",
    "    df = dataset.to_pandas_dataframe().reset_index()\n",
    "    para_list = dataset.parameters.split(\",\")\n",
    "\n",
    "    current = df[para_list[0]].tolist()\n",
    "    voltage = df[para_list[1]].tolist()\n",
    "\n",
    "    # Compute differential of voltage with respect to current\n",
    "    differential_voltage = np.diff(voltage) / np.diff(current)\n",
    "\n",
    "    # Since the differential will have one less data point, adjust the current data\n",
    "    # to have the same length as the differential data\n",
    "    current = current[:-1]\n",
    "\n",
    "    # Find peaks in the differential signal\n",
    "    peaks, _ = find_peaks(differential_voltage)\n",
    "\n",
    "    # Extract peak current and peak differential voltage values\n",
    "    peak_current = [current[i] for i in peaks]\n",
    "    peak_voltage_diff = [differential_voltage[i] for i in peaks]\n",
    "\n",
    "    # Sort the peaks based on their values\n",
    "    sorted_peak_indices = np.argsort(peak_voltage_diff)[::-1]  # Sort in descending order\n",
    "    top_two_peak_indices = sorted_peak_indices[:2]  # Select the top two indices\n",
    "\n",
    "    # Extract the top two peaks\n",
    "    top_two_peak_current = [peak_current[i] for i in top_two_peak_indices]\n",
    "    top_two_peak_voltage_diff = [peak_voltage_diff[i] for i in top_two_peak_indices]\n",
    "\n",
    "    # Calculate the center points of the top two peaks\n",
    "    center_points = [(top_two_peak_current[i] + top_two_peak_current[i+1]) / 2 for i in range(len(top_two_peak_current) - 1)]\n",
    "\n",
    "    # Calculate the difference between the top two biggest peaks\n",
    "    peak_difference = abs(top_two_peak_current[0] - top_two_peak_current[1])\n",
    "\n",
    "    # Determine the appropriate unit for current\n",
    "    if peak_difference >= 1e-3:\n",
    "        unit = \"mA\"\n",
    "        conversion_factor = 1e3\n",
    "    elif peak_difference >= 1e-6:\n",
    "        unit = \"μA\"\n",
    "        conversion_factor = 1e6\n",
    "    else:\n",
    "        unit = \"nA\"\n",
    "        conversion_factor = 1e9\n",
    "\n",
    "    # Determine the appropriate unit for current\n",
    "    if peak_difference >= 1e-3:\n",
    "        unit = \"mA\"\n",
    "    elif peak_difference >= 1e-6:\n",
    "        unit = \"μA\"\n",
    "    elif peak_difference >= 1e-9:\n",
    "        unit = \"nA\"\n",
    "    else:\n",
    "        unit = \"pA\"\n",
    "\n",
    "    # Create a Plotly trace for the differential\n",
    "    trace_diff = go.Scatter(x=[c * conversion_factor for c in current], y=differential_voltage, mode='lines', name='d(Voltage)/d(Current)')\n",
    "    # Add markers for the top two peaks\n",
    "    trace_top_two_peaks = go.Scatter(x=[p * conversion_factor for p in top_two_peak_current], y=top_two_peak_voltage_diff, mode='markers', marker=dict(color='red'), name='Top Two Peaks')\n",
    "    # Add markers for the center points\n",
    "    trace_center_points = go.Scatter(x=center_points, y=[0]*len(center_points), mode='markers', marker=dict(color='blue', symbol='cross'), name='Center Points')\n",
    "\n",
    "    # Create layout\n",
    "    layout = go.Layout(title=f'Run #{id} I vs. dV/dI',\n",
    "                    xaxis=dict(title=f'Current ({unit})'),\n",
    "                    yaxis=dict(title='d(Voltage)/d(Current)'),\n",
    "                    legend=dict(orientation=\"h\", yanchor=\"top\", y=1.10, xanchor=\"center\", x=0.5),\n",
    "                    width=600, height=600  \n",
    "                    )\n",
    "\n",
    "    # Create the figure\n",
    "    fig = go.Figure(data=[trace_diff, trace_top_two_peaks, trace_center_points], layout=layout)\n",
    "\n",
    "    # Add annotation for the current value of center points\n",
    "    for i, center_point in enumerate(center_points):\n",
    "        fig.add_annotation(\n",
    "            x=center_point * conversion_factor,\n",
    "            y=0, #0.4 * max(differential_voltage),\n",
    "            text=f'Center Point: {center_point * conversion_factor:.3f}{unit} <br> Peak difference: {peak_difference*conversion_factor:.3f} {unit}',\n",
    "            showarrow=True,\n",
    "            arrowhead=2,\n",
    "            arrowsize=1,\n",
    "            arrowwidth=2,\n",
    "            arrowcolor='black',\n",
    "            ax=-100,\n",
    "            ay=-200 - 30 * i\n",
    "        )\n",
    "\n",
    "    # Plot the figure\n",
    "    fig.show()\n",
    "\n",
    "def get_Mag(show=True):\n",
    "    Mag_x = magnet_x.field()\n",
    "    Mag_y = magnet_y.field()\n",
    "    Mag_z = magnet_z.field()\n",
    "    if show:\n",
    "        print(f\"Mag_x: {Mag_x*1e3:.6f} mT\")\n",
    "        print(f\"Mag_y: {Mag_y*1e3:.6f} mT\")\n",
    "        print(f\"Mag_z: {Mag_z*1e3:.6f} mT\")\n",
    "    else: \n",
    "        return Mag_x, Mag_y, Mag_z"
   ]
  },
  {
   "cell_type": "code",
   "execution_count": null,
   "id": "934a7b70",
   "metadata": {},
   "outputs": [],
   "source": [
    "appl_current(0.5e-6)\n",
    "appl_current_AC(10e-9)"
   ]
  },
  {
   "cell_type": "code",
   "execution_count": null,
   "id": "e0040749",
   "metadata": {},
   "outputs": [],
   "source": [
    "df = dataset.to_pandas_dataframe().reset_index()\n",
    "df"
   ]
  },
  {
   "cell_type": "markdown",
   "id": "885e5c90",
   "metadata": {},
   "source": [
    "# Simple IVs"
   ]
  },
  {
   "cell_type": "markdown",
   "id": "cdb6884c",
   "metadata": {},
   "source": [
    "## IV"
   ]
  },
  {
   "cell_type": "code",
   "execution_count": 18,
   "id": "f6c71fe1",
   "metadata": {},
   "outputs": [],
   "source": [
    "K2440.output(1)\n",
    "DMM6500.averaging_count(5)\n",
    "DMM6500.averaging_enabled(True)\n",
    "DMM6500.averaging_enabled(False)\n",
    "K2440.output(0)"
   ]
  },
  {
   "cell_type": "code",
   "execution_count": 19,
   "id": "88a5c92b",
   "metadata": {},
   "outputs": [],
   "source": [
    "# Set current to 0\n",
    "K2440.output(0)\n",
    "appl_current(0e-6)"
   ]
  },
  {
   "cell_type": "code",
   "execution_count": null,
   "id": "af7949e7",
   "metadata": {},
   "outputs": [],
   "source": [
    "IV(3)"
   ]
  },
  {
   "cell_type": "code",
   "execution_count": 27,
   "id": "94d8b3fa",
   "metadata": {},
   "outputs": [
    {
     "name": "stderr",
     "output_type": "stream",
     "text": [
      "There is (are) already experiment(s) with the name of I-V and sample name of 006-1_08-28-36-33 in the database.\n"
     ]
    },
    {
     "name": "stdout",
     "output_type": "stream",
     "text": [
      "Starting experimental run with id: 9. \n"
     ]
    },
    {
     "name": "stderr",
     "output_type": "stream",
     "text": [
      "100%|██████████| 101/101 [00:05<00:00, 18.39it/s]\n",
      "Trying to mark a run completed that was already completed.\n"
     ]
    },
    {
     "name": "stdout",
     "output_type": "stream",
     "text": [
      "R = 123631.03686604547\n"
     ]
    },
    {
     "data": {
      "application/vnd.plotly.v1+json": {
       "config": {
        "plotlyServerURL": "https://plot.ly"
       },
       "data": [
        {
         "mode": "lines",
         "name": "Voltage vs. Current",
         "type": "scatter",
         "x": [
          -0.000001,
          -9.8e-7,
          -9.6e-7,
          -9.4e-7,
          -9.2e-7,
          -9e-7,
          -8.8e-7,
          -8.6e-7,
          -8.4e-7,
          -8.2e-7,
          -8e-7,
          -7.8e-7,
          -7.6e-7,
          -7.4e-7,
          -7.2e-7,
          -7e-7,
          -6.8e-7,
          -6.6e-7,
          -6.4e-7,
          -6.2e-7,
          -6e-7,
          -5.8e-7,
          -5.6e-7,
          -5.4e-7,
          -5.2e-7,
          -5e-7,
          -4.8e-7,
          -4.6e-7,
          -4.4e-7,
          -4.2e-7,
          -4e-7,
          -3.8e-7,
          -3.6e-7,
          -3.4e-7,
          -3.2e-7,
          -3e-7,
          -2.8e-7,
          -2.6e-7,
          -2.4e-7,
          -2.2e-7,
          -2e-7,
          -1.8e-7,
          -1.6e-7,
          -1.4e-7,
          -1.2e-7,
          -9.99999999999999e-8,
          -8e-8,
          -6e-8,
          -3.99999999999998e-8,
          -2e-8,
          0,
          2e-8,
          4e-8,
          6.00000000000001e-8,
          8.00000000000001e-8,
          1e-7,
          1.2e-7,
          1.4e-7,
          1.6e-7,
          1.8e-7,
          2e-7,
          2.2e-7,
          2.4e-7,
          2.6e-7,
          2.8e-7,
          3e-7,
          3.2e-7,
          3.4e-7,
          3.6e-7,
          3.8e-7,
          4e-7,
          4.2e-7,
          4.4e-7,
          4.6e-7,
          4.8e-7,
          5e-7,
          5.2e-7,
          5.4e-7,
          5.6e-7,
          5.8e-7,
          6e-7,
          6.2e-7,
          6.4e-7,
          6.6e-7,
          6.8e-7,
          7e-7,
          7.2e-7,
          7.4e-7,
          7.6e-7,
          7.8e-7,
          8e-7,
          8.2e-7,
          8.4e-7,
          8.6e-7,
          8.8e-7,
          9e-7,
          9.20000000000001e-7,
          9.4e-7,
          9.6e-7,
          9.8e-7,
          0.000001
         ],
         "y": [
          -109.637,
          -109.6284,
          -109.68029999999999,
          -109.6526,
          -109.49000000000001,
          -109.33030000000001,
          -109.15950000000001,
          -108.68369999999999,
          -107.5677,
          -105.71809999999999,
          -103.32180000000001,
          -100.7176,
          -98.03577,
          -95.42443,
          -92.81844,
          -90.1213,
          -87.53338,
          -84.93158000000001,
          -82.25835,
          -79.65555,
          -77.08688,
          -74.42174999999999,
          -71.85215000000001,
          -69.2856,
          -66.64523,
          -64.07672000000001,
          -61.438159999999996,
          -58.89863,
          -56.34091,
          -53.715289999999996,
          -51.17885,
          -48.62371,
          -46.01682,
          -43.48415,
          -40.95277,
          -38.34419,
          -35.80484,
          -33.29388,
          -30.68996,
          -28.17784,
          -25.57263,
          -23.066869999999998,
          -20.54636,
          -17.965,
          -15.444970000000001,
          -12.951179999999999,
          -10.353950000000001,
          -7.846736999999999,
          -5.343559,
          -2.761889,
          -0.2490999,
          2.56062,
          5.069903,
          7.652245000000001,
          10.157599999999999,
          12.66317,
          15.253020000000001,
          17.75883,
          20.34263,
          22.84731,
          25.35845,
          27.952189999999998,
          30.46295,
          32.978899999999996,
          35.57783,
          38.08865,
          40.60697,
          43.211710000000004,
          45.72648,
          48.25668,
          50.869930000000004,
          53.39824,
          56.01569,
          58.555870000000006,
          61.09895,
          63.72158999999999,
          66.26276,
          68.8125,
          71.45325,
          74.0107,
          76.57601,
          79.2203,
          81.79755,
          84.35988,
          87.0213,
          89.59476,
          92.27517,
          94.85649000000001,
          97.44933999999999,
          100.0472,
          102.31020000000001,
          104.2376,
          105.94030000000001,
          107.4951,
          108.6241,
          109.1513,
          109.1032,
          109.0977,
          109.16099999999999,
          109.2387,
          109.2222
         ]
        }
       ],
       "layout": {
        "height": 960,
        "margin": {
         "b": 10,
         "l": 10,
         "r": 10,
         "t": 50
        },
        "template": {
         "data": {
          "bar": [
           {
            "error_x": {
             "color": "#2a3f5f"
            },
            "error_y": {
             "color": "#2a3f5f"
            },
            "marker": {
             "line": {
              "color": "#E5ECF6",
              "width": 0.5
             },
             "pattern": {
              "fillmode": "overlay",
              "size": 10,
              "solidity": 0.2
             }
            },
            "type": "bar"
           }
          ],
          "barpolar": [
           {
            "marker": {
             "line": {
              "color": "#E5ECF6",
              "width": 0.5
             },
             "pattern": {
              "fillmode": "overlay",
              "size": 10,
              "solidity": 0.2
             }
            },
            "type": "barpolar"
           }
          ],
          "carpet": [
           {
            "aaxis": {
             "endlinecolor": "#2a3f5f",
             "gridcolor": "white",
             "linecolor": "white",
             "minorgridcolor": "white",
             "startlinecolor": "#2a3f5f"
            },
            "baxis": {
             "endlinecolor": "#2a3f5f",
             "gridcolor": "white",
             "linecolor": "white",
             "minorgridcolor": "white",
             "startlinecolor": "#2a3f5f"
            },
            "type": "carpet"
           }
          ],
          "choropleth": [
           {
            "colorbar": {
             "outlinewidth": 0,
             "ticks": ""
            },
            "type": "choropleth"
           }
          ],
          "contour": [
           {
            "colorbar": {
             "outlinewidth": 0,
             "ticks": ""
            },
            "colorscale": [
             [
              0,
              "#0d0887"
             ],
             [
              0.1111111111111111,
              "#46039f"
             ],
             [
              0.2222222222222222,
              "#7201a8"
             ],
             [
              0.3333333333333333,
              "#9c179e"
             ],
             [
              0.4444444444444444,
              "#bd3786"
             ],
             [
              0.5555555555555556,
              "#d8576b"
             ],
             [
              0.6666666666666666,
              "#ed7953"
             ],
             [
              0.7777777777777778,
              "#fb9f3a"
             ],
             [
              0.8888888888888888,
              "#fdca26"
             ],
             [
              1,
              "#f0f921"
             ]
            ],
            "type": "contour"
           }
          ],
          "contourcarpet": [
           {
            "colorbar": {
             "outlinewidth": 0,
             "ticks": ""
            },
            "type": "contourcarpet"
           }
          ],
          "heatmap": [
           {
            "colorbar": {
             "outlinewidth": 0,
             "ticks": ""
            },
            "colorscale": [
             [
              0,
              "#0d0887"
             ],
             [
              0.1111111111111111,
              "#46039f"
             ],
             [
              0.2222222222222222,
              "#7201a8"
             ],
             [
              0.3333333333333333,
              "#9c179e"
             ],
             [
              0.4444444444444444,
              "#bd3786"
             ],
             [
              0.5555555555555556,
              "#d8576b"
             ],
             [
              0.6666666666666666,
              "#ed7953"
             ],
             [
              0.7777777777777778,
              "#fb9f3a"
             ],
             [
              0.8888888888888888,
              "#fdca26"
             ],
             [
              1,
              "#f0f921"
             ]
            ],
            "type": "heatmap"
           }
          ],
          "heatmapgl": [
           {
            "colorbar": {
             "outlinewidth": 0,
             "ticks": ""
            },
            "colorscale": [
             [
              0,
              "#0d0887"
             ],
             [
              0.1111111111111111,
              "#46039f"
             ],
             [
              0.2222222222222222,
              "#7201a8"
             ],
             [
              0.3333333333333333,
              "#9c179e"
             ],
             [
              0.4444444444444444,
              "#bd3786"
             ],
             [
              0.5555555555555556,
              "#d8576b"
             ],
             [
              0.6666666666666666,
              "#ed7953"
             ],
             [
              0.7777777777777778,
              "#fb9f3a"
             ],
             [
              0.8888888888888888,
              "#fdca26"
             ],
             [
              1,
              "#f0f921"
             ]
            ],
            "type": "heatmapgl"
           }
          ],
          "histogram": [
           {
            "marker": {
             "pattern": {
              "fillmode": "overlay",
              "size": 10,
              "solidity": 0.2
             }
            },
            "type": "histogram"
           }
          ],
          "histogram2d": [
           {
            "colorbar": {
             "outlinewidth": 0,
             "ticks": ""
            },
            "colorscale": [
             [
              0,
              "#0d0887"
             ],
             [
              0.1111111111111111,
              "#46039f"
             ],
             [
              0.2222222222222222,
              "#7201a8"
             ],
             [
              0.3333333333333333,
              "#9c179e"
             ],
             [
              0.4444444444444444,
              "#bd3786"
             ],
             [
              0.5555555555555556,
              "#d8576b"
             ],
             [
              0.6666666666666666,
              "#ed7953"
             ],
             [
              0.7777777777777778,
              "#fb9f3a"
             ],
             [
              0.8888888888888888,
              "#fdca26"
             ],
             [
              1,
              "#f0f921"
             ]
            ],
            "type": "histogram2d"
           }
          ],
          "histogram2dcontour": [
           {
            "colorbar": {
             "outlinewidth": 0,
             "ticks": ""
            },
            "colorscale": [
             [
              0,
              "#0d0887"
             ],
             [
              0.1111111111111111,
              "#46039f"
             ],
             [
              0.2222222222222222,
              "#7201a8"
             ],
             [
              0.3333333333333333,
              "#9c179e"
             ],
             [
              0.4444444444444444,
              "#bd3786"
             ],
             [
              0.5555555555555556,
              "#d8576b"
             ],
             [
              0.6666666666666666,
              "#ed7953"
             ],
             [
              0.7777777777777778,
              "#fb9f3a"
             ],
             [
              0.8888888888888888,
              "#fdca26"
             ],
             [
              1,
              "#f0f921"
             ]
            ],
            "type": "histogram2dcontour"
           }
          ],
          "mesh3d": [
           {
            "colorbar": {
             "outlinewidth": 0,
             "ticks": ""
            },
            "type": "mesh3d"
           }
          ],
          "parcoords": [
           {
            "line": {
             "colorbar": {
              "outlinewidth": 0,
              "ticks": ""
             }
            },
            "type": "parcoords"
           }
          ],
          "pie": [
           {
            "automargin": true,
            "type": "pie"
           }
          ],
          "scatter": [
           {
            "fillpattern": {
             "fillmode": "overlay",
             "size": 10,
             "solidity": 0.2
            },
            "type": "scatter"
           }
          ],
          "scatter3d": [
           {
            "line": {
             "colorbar": {
              "outlinewidth": 0,
              "ticks": ""
             }
            },
            "marker": {
             "colorbar": {
              "outlinewidth": 0,
              "ticks": ""
             }
            },
            "type": "scatter3d"
           }
          ],
          "scattercarpet": [
           {
            "marker": {
             "colorbar": {
              "outlinewidth": 0,
              "ticks": ""
             }
            },
            "type": "scattercarpet"
           }
          ],
          "scattergeo": [
           {
            "marker": {
             "colorbar": {
              "outlinewidth": 0,
              "ticks": ""
             }
            },
            "type": "scattergeo"
           }
          ],
          "scattergl": [
           {
            "marker": {
             "colorbar": {
              "outlinewidth": 0,
              "ticks": ""
             }
            },
            "type": "scattergl"
           }
          ],
          "scattermapbox": [
           {
            "marker": {
             "colorbar": {
              "outlinewidth": 0,
              "ticks": ""
             }
            },
            "type": "scattermapbox"
           }
          ],
          "scatterpolar": [
           {
            "marker": {
             "colorbar": {
              "outlinewidth": 0,
              "ticks": ""
             }
            },
            "type": "scatterpolar"
           }
          ],
          "scatterpolargl": [
           {
            "marker": {
             "colorbar": {
              "outlinewidth": 0,
              "ticks": ""
             }
            },
            "type": "scatterpolargl"
           }
          ],
          "scatterternary": [
           {
            "marker": {
             "colorbar": {
              "outlinewidth": 0,
              "ticks": ""
             }
            },
            "type": "scatterternary"
           }
          ],
          "surface": [
           {
            "colorbar": {
             "outlinewidth": 0,
             "ticks": ""
            },
            "colorscale": [
             [
              0,
              "#0d0887"
             ],
             [
              0.1111111111111111,
              "#46039f"
             ],
             [
              0.2222222222222222,
              "#7201a8"
             ],
             [
              0.3333333333333333,
              "#9c179e"
             ],
             [
              0.4444444444444444,
              "#bd3786"
             ],
             [
              0.5555555555555556,
              "#d8576b"
             ],
             [
              0.6666666666666666,
              "#ed7953"
             ],
             [
              0.7777777777777778,
              "#fb9f3a"
             ],
             [
              0.8888888888888888,
              "#fdca26"
             ],
             [
              1,
              "#f0f921"
             ]
            ],
            "type": "surface"
           }
          ],
          "table": [
           {
            "cells": {
             "fill": {
              "color": "#EBF0F8"
             },
             "line": {
              "color": "white"
             }
            },
            "header": {
             "fill": {
              "color": "#C8D4E3"
             },
             "line": {
              "color": "white"
             }
            },
            "type": "table"
           }
          ]
         },
         "layout": {
          "annotationdefaults": {
           "arrowcolor": "#2a3f5f",
           "arrowhead": 0,
           "arrowwidth": 1
          },
          "autotypenumbers": "strict",
          "coloraxis": {
           "colorbar": {
            "outlinewidth": 0,
            "ticks": ""
           }
          },
          "colorscale": {
           "diverging": [
            [
             0,
             "#8e0152"
            ],
            [
             0.1,
             "#c51b7d"
            ],
            [
             0.2,
             "#de77ae"
            ],
            [
             0.3,
             "#f1b6da"
            ],
            [
             0.4,
             "#fde0ef"
            ],
            [
             0.5,
             "#f7f7f7"
            ],
            [
             0.6,
             "#e6f5d0"
            ],
            [
             0.7,
             "#b8e186"
            ],
            [
             0.8,
             "#7fbc41"
            ],
            [
             0.9,
             "#4d9221"
            ],
            [
             1,
             "#276419"
            ]
           ],
           "sequential": [
            [
             0,
             "#0d0887"
            ],
            [
             0.1111111111111111,
             "#46039f"
            ],
            [
             0.2222222222222222,
             "#7201a8"
            ],
            [
             0.3333333333333333,
             "#9c179e"
            ],
            [
             0.4444444444444444,
             "#bd3786"
            ],
            [
             0.5555555555555556,
             "#d8576b"
            ],
            [
             0.6666666666666666,
             "#ed7953"
            ],
            [
             0.7777777777777778,
             "#fb9f3a"
            ],
            [
             0.8888888888888888,
             "#fdca26"
            ],
            [
             1,
             "#f0f921"
            ]
           ],
           "sequentialminus": [
            [
             0,
             "#0d0887"
            ],
            [
             0.1111111111111111,
             "#46039f"
            ],
            [
             0.2222222222222222,
             "#7201a8"
            ],
            [
             0.3333333333333333,
             "#9c179e"
            ],
            [
             0.4444444444444444,
             "#bd3786"
            ],
            [
             0.5555555555555556,
             "#d8576b"
            ],
            [
             0.6666666666666666,
             "#ed7953"
            ],
            [
             0.7777777777777778,
             "#fb9f3a"
            ],
            [
             0.8888888888888888,
             "#fdca26"
            ],
            [
             1,
             "#f0f921"
            ]
           ]
          },
          "colorway": [
           "#636efa",
           "#EF553B",
           "#00cc96",
           "#ab63fa",
           "#FFA15A",
           "#19d3f3",
           "#FF6692",
           "#B6E880",
           "#FF97FF",
           "#FECB52"
          ],
          "font": {
           "color": "#2a3f5f"
          },
          "geo": {
           "bgcolor": "white",
           "lakecolor": "white",
           "landcolor": "#E5ECF6",
           "showlakes": true,
           "showland": true,
           "subunitcolor": "white"
          },
          "hoverlabel": {
           "align": "left"
          },
          "hovermode": "closest",
          "mapbox": {
           "style": "light"
          },
          "paper_bgcolor": "white",
          "plot_bgcolor": "#E5ECF6",
          "polar": {
           "angularaxis": {
            "gridcolor": "white",
            "linecolor": "white",
            "ticks": ""
           },
           "bgcolor": "#E5ECF6",
           "radialaxis": {
            "gridcolor": "white",
            "linecolor": "white",
            "ticks": ""
           }
          },
          "scene": {
           "xaxis": {
            "backgroundcolor": "#E5ECF6",
            "gridcolor": "white",
            "gridwidth": 2,
            "linecolor": "white",
            "showbackground": true,
            "ticks": "",
            "zerolinecolor": "white"
           },
           "yaxis": {
            "backgroundcolor": "#E5ECF6",
            "gridcolor": "white",
            "gridwidth": 2,
            "linecolor": "white",
            "showbackground": true,
            "ticks": "",
            "zerolinecolor": "white"
           },
           "zaxis": {
            "backgroundcolor": "#E5ECF6",
            "gridcolor": "white",
            "gridwidth": 2,
            "linecolor": "white",
            "showbackground": true,
            "ticks": "",
            "zerolinecolor": "white"
           }
          },
          "shapedefaults": {
           "line": {
            "color": "#2a3f5f"
           }
          },
          "ternary": {
           "aaxis": {
            "gridcolor": "white",
            "linecolor": "white",
            "ticks": ""
           },
           "baxis": {
            "gridcolor": "white",
            "linecolor": "white",
            "ticks": ""
           },
           "bgcolor": "#E5ECF6",
           "caxis": {
            "gridcolor": "white",
            "linecolor": "white",
            "ticks": ""
           }
          },
          "title": {
           "x": 0.05
          },
          "xaxis": {
           "automargin": true,
           "gridcolor": "white",
           "linecolor": "white",
           "ticks": "",
           "title": {
            "standoff": 15
           },
           "zerolinecolor": "white",
           "zerolinewidth": 2
          },
          "yaxis": {
           "automargin": true,
           "gridcolor": "white",
           "linecolor": "white",
           "ticks": "",
           "title": {
            "standoff": 15
           },
           "zerolinecolor": "white",
           "zerolinewidth": 2
          }
         }
        },
        "title": {
         "font": {
          "size": 28
         },
         "text": "<b>#9 I-V</b> 006-1_08-28-36-33, R_fit=123631.0369 Ω"
        },
        "width": 1080,
        "xaxis": {
         "tickfont": {
          "size": 16
         },
         "title": {
          "font": {
           "size": 20
          },
          "text": "appl_current"
         }
        },
        "yaxis": {
         "tickfont": {
          "size": 16
         },
         "title": {
          "font": {
           "size": 20
          },
          "text": "meas_voltage_K1 mV"
         }
        }
       }
      }
     },
     "metadata": {},
     "output_type": "display_data"
    },
    {
     "data": {
      "application/vnd.plotly.v1+json": {
       "config": {
        "plotlyServerURL": "https://plot.ly"
       },
       "data": [
        {
         "mode": "lines",
         "name": "d(Voltage)/d(Current)",
         "type": "scatter",
         "x": [
          -1000,
          -979.9999999999999,
          -959.9999999999999,
          -940,
          -920,
          -900,
          -880,
          -860,
          -840,
          -820,
          -800,
          -780,
          -760,
          -740,
          -720,
          -700,
          -680,
          -660,
          -640,
          -620,
          -600,
          -580,
          -560,
          -540,
          -520,
          -500,
          -479.99999999999994,
          -460,
          -440,
          -420,
          -400,
          -380,
          -360,
          -340,
          -320,
          -300,
          -280,
          -260,
          -239.99999999999997,
          -220,
          -200,
          -180,
          -160,
          -140,
          -119.99999999999999,
          -99.9999999999999,
          -80,
          -59.99999999999999,
          -39.9999999999998,
          -20,
          0,
          20,
          40,
          60.0000000000001,
          80.0000000000001,
          100,
          119.99999999999999,
          140,
          160,
          180,
          200,
          220,
          239.99999999999997,
          260,
          280,
          300,
          320,
          340,
          360,
          380,
          400,
          420,
          440,
          460,
          479.99999999999994,
          500,
          520,
          540,
          560,
          580,
          600,
          620,
          640,
          660,
          680,
          700,
          720,
          740,
          760,
          780,
          800,
          820,
          840,
          860,
          880,
          900,
          920.000000000001,
          940,
          959.9999999999999,
          979.9999999999999
         ],
         "y": [
          429.9999999998745,
          -2594.999999999678,
          1384.9999999995869,
          8129.9999999999345,
          7984.999999999928,
          8539.999999999973,
          23790.000000000593,
          55799.99999999954,
          92480.00000000025,
          119814.99999999939,
          130210.00000000061,
          134091.50000000038,
          130566.99999999936,
          130299.49999999999,
          134856.99999999988,
          129396.00000000025,
          130089.99999999993,
          133661.5000000005,
          130139.99999999929,
          128433.50000000032,
          133256.49999999994,
          128480.00000000012,
          128327.49999999991,
          132018.50000000003,
          128425.49999999968,
          131928.00000000012,
          126976.50000000012,
          127886.00000000017,
          131280.99999999997,
          126821.99999999991,
          127757.00000000007,
          130344.4999999999,
          126633.49999999991,
          126569.00000000019,
          130428.99999999983,
          126967.50000000035,
          125547.99999999985,
          130195.99999999983,
          125606.00000000019,
          130260.49999999987,
          125288,
          126025.50000000004,
          129068.0000000001,
          126001.49999999977,
          124689.4999999995,
          129861.5000000006,
          125360.65000000001,
          125158.89999999876,
          129083.5000000013,
          125639.455,
          140485.995,
          125464.14999999998,
          129117.09999999938,
          125267.74999999999,
          125278.50000000064,
          129492.5000000001,
          125290.49999999983,
          129190.00000000007,
          125233.99999999997,
          125557.00000000013,
          129686.99999999972,
          125538.00000000025,
          125797.49999999984,
          129946.49999999984,
          125541.0000000004,
          125915.99999999975,
          130237.00000000028,
          125738.49999999985,
          126510.00000000003,
          130662.50000000009,
          126415.49999999981,
          130872.49999999988,
          127009.00000000036,
          127154.00000000001,
          131131.99999999965,
          127058.50000000033,
          127486.9999999996,
          132037.49999999974,
          127872.50000000068,
          128265.49999999993,
          132214.49999999953,
          128862.50000000003,
          128116.49999999994,
          133071.00000000047,
          128672.99999999985,
          134020.50000000026,
          129065.99999999977,
          129642.49999999956,
          129893.00000000023,
          113150.00000000054,
          96369.9999999997,
          85134.99999999999,
          77739.99999999968,
          56450.00000000019,
          26360.000000000386,
          -2405.0000000003324,
          -274.9999999995954,
          3164.999999999432,
          3884.9999999999955,
          -824.9999999994365
         ]
        },
        {
         "marker": {
          "color": "red"
         },
         "mode": "markers",
         "name": "Top Two Peaks",
         "type": "scatter",
         "x": [
          0,
          -720
         ],
         "y": [
          140485.995,
          134856.99999999988
         ]
        },
        {
         "marker": {
          "color": "blue",
          "symbol": "cross"
         },
         "mode": "markers",
         "name": "Center Points",
         "type": "scatter",
         "x": [
          -3.6e-7
         ],
         "y": [
          0
         ]
        }
       ],
       "layout": {
        "annotations": [
         {
          "arrowcolor": "black",
          "arrowhead": 2,
          "arrowsize": 1,
          "arrowwidth": 2,
          "ax": -100,
          "ay": -200,
          "showarrow": true,
          "text": "Center Point: -360.000nA <br> Peak difference: 720.000 nA",
          "x": -360,
          "y": 0
         }
        ],
        "height": 600,
        "legend": {
         "orientation": "h",
         "x": 0.5,
         "xanchor": "center",
         "y": 1.1,
         "yanchor": "top"
        },
        "template": {
         "data": {
          "bar": [
           {
            "error_x": {
             "color": "#2a3f5f"
            },
            "error_y": {
             "color": "#2a3f5f"
            },
            "marker": {
             "line": {
              "color": "#E5ECF6",
              "width": 0.5
             },
             "pattern": {
              "fillmode": "overlay",
              "size": 10,
              "solidity": 0.2
             }
            },
            "type": "bar"
           }
          ],
          "barpolar": [
           {
            "marker": {
             "line": {
              "color": "#E5ECF6",
              "width": 0.5
             },
             "pattern": {
              "fillmode": "overlay",
              "size": 10,
              "solidity": 0.2
             }
            },
            "type": "barpolar"
           }
          ],
          "carpet": [
           {
            "aaxis": {
             "endlinecolor": "#2a3f5f",
             "gridcolor": "white",
             "linecolor": "white",
             "minorgridcolor": "white",
             "startlinecolor": "#2a3f5f"
            },
            "baxis": {
             "endlinecolor": "#2a3f5f",
             "gridcolor": "white",
             "linecolor": "white",
             "minorgridcolor": "white",
             "startlinecolor": "#2a3f5f"
            },
            "type": "carpet"
           }
          ],
          "choropleth": [
           {
            "colorbar": {
             "outlinewidth": 0,
             "ticks": ""
            },
            "type": "choropleth"
           }
          ],
          "contour": [
           {
            "colorbar": {
             "outlinewidth": 0,
             "ticks": ""
            },
            "colorscale": [
             [
              0,
              "#0d0887"
             ],
             [
              0.1111111111111111,
              "#46039f"
             ],
             [
              0.2222222222222222,
              "#7201a8"
             ],
             [
              0.3333333333333333,
              "#9c179e"
             ],
             [
              0.4444444444444444,
              "#bd3786"
             ],
             [
              0.5555555555555556,
              "#d8576b"
             ],
             [
              0.6666666666666666,
              "#ed7953"
             ],
             [
              0.7777777777777778,
              "#fb9f3a"
             ],
             [
              0.8888888888888888,
              "#fdca26"
             ],
             [
              1,
              "#f0f921"
             ]
            ],
            "type": "contour"
           }
          ],
          "contourcarpet": [
           {
            "colorbar": {
             "outlinewidth": 0,
             "ticks": ""
            },
            "type": "contourcarpet"
           }
          ],
          "heatmap": [
           {
            "colorbar": {
             "outlinewidth": 0,
             "ticks": ""
            },
            "colorscale": [
             [
              0,
              "#0d0887"
             ],
             [
              0.1111111111111111,
              "#46039f"
             ],
             [
              0.2222222222222222,
              "#7201a8"
             ],
             [
              0.3333333333333333,
              "#9c179e"
             ],
             [
              0.4444444444444444,
              "#bd3786"
             ],
             [
              0.5555555555555556,
              "#d8576b"
             ],
             [
              0.6666666666666666,
              "#ed7953"
             ],
             [
              0.7777777777777778,
              "#fb9f3a"
             ],
             [
              0.8888888888888888,
              "#fdca26"
             ],
             [
              1,
              "#f0f921"
             ]
            ],
            "type": "heatmap"
           }
          ],
          "heatmapgl": [
           {
            "colorbar": {
             "outlinewidth": 0,
             "ticks": ""
            },
            "colorscale": [
             [
              0,
              "#0d0887"
             ],
             [
              0.1111111111111111,
              "#46039f"
             ],
             [
              0.2222222222222222,
              "#7201a8"
             ],
             [
              0.3333333333333333,
              "#9c179e"
             ],
             [
              0.4444444444444444,
              "#bd3786"
             ],
             [
              0.5555555555555556,
              "#d8576b"
             ],
             [
              0.6666666666666666,
              "#ed7953"
             ],
             [
              0.7777777777777778,
              "#fb9f3a"
             ],
             [
              0.8888888888888888,
              "#fdca26"
             ],
             [
              1,
              "#f0f921"
             ]
            ],
            "type": "heatmapgl"
           }
          ],
          "histogram": [
           {
            "marker": {
             "pattern": {
              "fillmode": "overlay",
              "size": 10,
              "solidity": 0.2
             }
            },
            "type": "histogram"
           }
          ],
          "histogram2d": [
           {
            "colorbar": {
             "outlinewidth": 0,
             "ticks": ""
            },
            "colorscale": [
             [
              0,
              "#0d0887"
             ],
             [
              0.1111111111111111,
              "#46039f"
             ],
             [
              0.2222222222222222,
              "#7201a8"
             ],
             [
              0.3333333333333333,
              "#9c179e"
             ],
             [
              0.4444444444444444,
              "#bd3786"
             ],
             [
              0.5555555555555556,
              "#d8576b"
             ],
             [
              0.6666666666666666,
              "#ed7953"
             ],
             [
              0.7777777777777778,
              "#fb9f3a"
             ],
             [
              0.8888888888888888,
              "#fdca26"
             ],
             [
              1,
              "#f0f921"
             ]
            ],
            "type": "histogram2d"
           }
          ],
          "histogram2dcontour": [
           {
            "colorbar": {
             "outlinewidth": 0,
             "ticks": ""
            },
            "colorscale": [
             [
              0,
              "#0d0887"
             ],
             [
              0.1111111111111111,
              "#46039f"
             ],
             [
              0.2222222222222222,
              "#7201a8"
             ],
             [
              0.3333333333333333,
              "#9c179e"
             ],
             [
              0.4444444444444444,
              "#bd3786"
             ],
             [
              0.5555555555555556,
              "#d8576b"
             ],
             [
              0.6666666666666666,
              "#ed7953"
             ],
             [
              0.7777777777777778,
              "#fb9f3a"
             ],
             [
              0.8888888888888888,
              "#fdca26"
             ],
             [
              1,
              "#f0f921"
             ]
            ],
            "type": "histogram2dcontour"
           }
          ],
          "mesh3d": [
           {
            "colorbar": {
             "outlinewidth": 0,
             "ticks": ""
            },
            "type": "mesh3d"
           }
          ],
          "parcoords": [
           {
            "line": {
             "colorbar": {
              "outlinewidth": 0,
              "ticks": ""
             }
            },
            "type": "parcoords"
           }
          ],
          "pie": [
           {
            "automargin": true,
            "type": "pie"
           }
          ],
          "scatter": [
           {
            "fillpattern": {
             "fillmode": "overlay",
             "size": 10,
             "solidity": 0.2
            },
            "type": "scatter"
           }
          ],
          "scatter3d": [
           {
            "line": {
             "colorbar": {
              "outlinewidth": 0,
              "ticks": ""
             }
            },
            "marker": {
             "colorbar": {
              "outlinewidth": 0,
              "ticks": ""
             }
            },
            "type": "scatter3d"
           }
          ],
          "scattercarpet": [
           {
            "marker": {
             "colorbar": {
              "outlinewidth": 0,
              "ticks": ""
             }
            },
            "type": "scattercarpet"
           }
          ],
          "scattergeo": [
           {
            "marker": {
             "colorbar": {
              "outlinewidth": 0,
              "ticks": ""
             }
            },
            "type": "scattergeo"
           }
          ],
          "scattergl": [
           {
            "marker": {
             "colorbar": {
              "outlinewidth": 0,
              "ticks": ""
             }
            },
            "type": "scattergl"
           }
          ],
          "scattermapbox": [
           {
            "marker": {
             "colorbar": {
              "outlinewidth": 0,
              "ticks": ""
             }
            },
            "type": "scattermapbox"
           }
          ],
          "scatterpolar": [
           {
            "marker": {
             "colorbar": {
              "outlinewidth": 0,
              "ticks": ""
             }
            },
            "type": "scatterpolar"
           }
          ],
          "scatterpolargl": [
           {
            "marker": {
             "colorbar": {
              "outlinewidth": 0,
              "ticks": ""
             }
            },
            "type": "scatterpolargl"
           }
          ],
          "scatterternary": [
           {
            "marker": {
             "colorbar": {
              "outlinewidth": 0,
              "ticks": ""
             }
            },
            "type": "scatterternary"
           }
          ],
          "surface": [
           {
            "colorbar": {
             "outlinewidth": 0,
             "ticks": ""
            },
            "colorscale": [
             [
              0,
              "#0d0887"
             ],
             [
              0.1111111111111111,
              "#46039f"
             ],
             [
              0.2222222222222222,
              "#7201a8"
             ],
             [
              0.3333333333333333,
              "#9c179e"
             ],
             [
              0.4444444444444444,
              "#bd3786"
             ],
             [
              0.5555555555555556,
              "#d8576b"
             ],
             [
              0.6666666666666666,
              "#ed7953"
             ],
             [
              0.7777777777777778,
              "#fb9f3a"
             ],
             [
              0.8888888888888888,
              "#fdca26"
             ],
             [
              1,
              "#f0f921"
             ]
            ],
            "type": "surface"
           }
          ],
          "table": [
           {
            "cells": {
             "fill": {
              "color": "#EBF0F8"
             },
             "line": {
              "color": "white"
             }
            },
            "header": {
             "fill": {
              "color": "#C8D4E3"
             },
             "line": {
              "color": "white"
             }
            },
            "type": "table"
           }
          ]
         },
         "layout": {
          "annotationdefaults": {
           "arrowcolor": "#2a3f5f",
           "arrowhead": 0,
           "arrowwidth": 1
          },
          "autotypenumbers": "strict",
          "coloraxis": {
           "colorbar": {
            "outlinewidth": 0,
            "ticks": ""
           }
          },
          "colorscale": {
           "diverging": [
            [
             0,
             "#8e0152"
            ],
            [
             0.1,
             "#c51b7d"
            ],
            [
             0.2,
             "#de77ae"
            ],
            [
             0.3,
             "#f1b6da"
            ],
            [
             0.4,
             "#fde0ef"
            ],
            [
             0.5,
             "#f7f7f7"
            ],
            [
             0.6,
             "#e6f5d0"
            ],
            [
             0.7,
             "#b8e186"
            ],
            [
             0.8,
             "#7fbc41"
            ],
            [
             0.9,
             "#4d9221"
            ],
            [
             1,
             "#276419"
            ]
           ],
           "sequential": [
            [
             0,
             "#0d0887"
            ],
            [
             0.1111111111111111,
             "#46039f"
            ],
            [
             0.2222222222222222,
             "#7201a8"
            ],
            [
             0.3333333333333333,
             "#9c179e"
            ],
            [
             0.4444444444444444,
             "#bd3786"
            ],
            [
             0.5555555555555556,
             "#d8576b"
            ],
            [
             0.6666666666666666,
             "#ed7953"
            ],
            [
             0.7777777777777778,
             "#fb9f3a"
            ],
            [
             0.8888888888888888,
             "#fdca26"
            ],
            [
             1,
             "#f0f921"
            ]
           ],
           "sequentialminus": [
            [
             0,
             "#0d0887"
            ],
            [
             0.1111111111111111,
             "#46039f"
            ],
            [
             0.2222222222222222,
             "#7201a8"
            ],
            [
             0.3333333333333333,
             "#9c179e"
            ],
            [
             0.4444444444444444,
             "#bd3786"
            ],
            [
             0.5555555555555556,
             "#d8576b"
            ],
            [
             0.6666666666666666,
             "#ed7953"
            ],
            [
             0.7777777777777778,
             "#fb9f3a"
            ],
            [
             0.8888888888888888,
             "#fdca26"
            ],
            [
             1,
             "#f0f921"
            ]
           ]
          },
          "colorway": [
           "#636efa",
           "#EF553B",
           "#00cc96",
           "#ab63fa",
           "#FFA15A",
           "#19d3f3",
           "#FF6692",
           "#B6E880",
           "#FF97FF",
           "#FECB52"
          ],
          "font": {
           "color": "#2a3f5f"
          },
          "geo": {
           "bgcolor": "white",
           "lakecolor": "white",
           "landcolor": "#E5ECF6",
           "showlakes": true,
           "showland": true,
           "subunitcolor": "white"
          },
          "hoverlabel": {
           "align": "left"
          },
          "hovermode": "closest",
          "mapbox": {
           "style": "light"
          },
          "paper_bgcolor": "white",
          "plot_bgcolor": "#E5ECF6",
          "polar": {
           "angularaxis": {
            "gridcolor": "white",
            "linecolor": "white",
            "ticks": ""
           },
           "bgcolor": "#E5ECF6",
           "radialaxis": {
            "gridcolor": "white",
            "linecolor": "white",
            "ticks": ""
           }
          },
          "scene": {
           "xaxis": {
            "backgroundcolor": "#E5ECF6",
            "gridcolor": "white",
            "gridwidth": 2,
            "linecolor": "white",
            "showbackground": true,
            "ticks": "",
            "zerolinecolor": "white"
           },
           "yaxis": {
            "backgroundcolor": "#E5ECF6",
            "gridcolor": "white",
            "gridwidth": 2,
            "linecolor": "white",
            "showbackground": true,
            "ticks": "",
            "zerolinecolor": "white"
           },
           "zaxis": {
            "backgroundcolor": "#E5ECF6",
            "gridcolor": "white",
            "gridwidth": 2,
            "linecolor": "white",
            "showbackground": true,
            "ticks": "",
            "zerolinecolor": "white"
           }
          },
          "shapedefaults": {
           "line": {
            "color": "#2a3f5f"
           }
          },
          "ternary": {
           "aaxis": {
            "gridcolor": "white",
            "linecolor": "white",
            "ticks": ""
           },
           "baxis": {
            "gridcolor": "white",
            "linecolor": "white",
            "ticks": ""
           },
           "bgcolor": "#E5ECF6",
           "caxis": {
            "gridcolor": "white",
            "linecolor": "white",
            "ticks": ""
           }
          },
          "title": {
           "x": 0.05
          },
          "xaxis": {
           "automargin": true,
           "gridcolor": "white",
           "linecolor": "white",
           "ticks": "",
           "title": {
            "standoff": 15
           },
           "zerolinecolor": "white",
           "zerolinewidth": 2
          },
          "yaxis": {
           "automargin": true,
           "gridcolor": "white",
           "linecolor": "white",
           "ticks": "",
           "title": {
            "standoff": 15
           },
           "zerolinecolor": "white",
           "zerolinewidth": 2
          }
         }
        },
        "title": {
         "text": "Run #<built-in function id> I vs. dV/dI"
        },
        "width": 600,
        "xaxis": {
         "title": {
          "text": "Current (nA)"
         }
        },
        "yaxis": {
         "title": {
          "text": "d(Voltage)/d(Current)"
         }
        }
       }
      }
     },
     "metadata": {},
     "output_type": "display_data"
    },
    {
     "data": {
      "application/vnd.jupyter.widget-view+json": {
       "model_id": "fafaf062659841eb9d2850312bab13ec",
       "version_major": 2,
       "version_minor": 0
      },
      "image/png": "[encoded data removed]",
      "text/html": [
       "\n",
       "            <div style=\"display: inline-block;\">\n",
       "                <div class=\"jupyter-widgets widget-label\" style=\"text-align: center;\">\n",
       "                    Figure\n",
       "                </div>\n",
       "                <img src='data:image/png;base64,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' width=640.0/>\n",
       "            </div>\n",
       "        "
      ],
      "text/plain": [
       "Canvas(toolbar=Toolbar(toolitems=[('Home', 'Reset original view', 'home', 'home'), ('Back', 'Back to previous …"
      ]
     },
     "metadata": {},
     "output_type": "display_data"
    }
   ],
   "source": [
    "I_range=1e-6\n",
    "K2440.output(1)\n",
    "appl_current(-I_range) #Limit:1e-5 Amp(1MOhms risistor),1e-6 Amp(10MOhms risistor)\n",
    "sleep(2)\n",
    "# station.snapshot(update=True);\n",
    "exp = qc.new_experiment('I-V', sample_name='006-1_08-28-36-33')\n",
    "dataid = do1d(appl_current, -I_range ,I_range, 101, 0.03, meas_voltage_K1)\n",
    "appl_current(0)\n",
    "K2440.output(0)\n",
    "plot_by_id(dataid)\n",
    "#save_path = r\"C:\\qcodes\\personal_scripts\\Albert\\104\\Plot\\104_{}.png\".format(dataid)  # Path to save the plot image\n",
    "#autosave_plot_by_id(dataid, save_path)\n",
    "print(f\"R = {get_R_from_IV(dataid)}\")\n",
    "# dataset = qc.load_by_id(dataid)\n",
    "IV(dataid)\n",
    "IV_diff(dataid)"
   ]
  },
  {
   "cell_type": "code",
   "execution_count": 29,
   "id": "2b1fcecf",
   "metadata": {},
   "outputs": [
    {
     "data": {
      "application/vnd.plotly.v1+json": {
       "config": {
        "plotlyServerURL": "https://plot.ly"
       },
       "data": [
        {
         "mode": "lines",
         "name": "Voltage vs. Current",
         "type": "scatter",
         "x": [
          -0.000001,
          -9.8e-7,
          -9.6e-7,
          -9.4e-7,
          -9.2e-7,
          -9e-7,
          -8.8e-7,
          -8.6e-7,
          -8.4e-7,
          -8.2e-7,
          -8e-7,
          -7.8e-7,
          -7.6e-7,
          -7.4e-7,
          -7.2e-7,
          -7e-7,
          -6.8e-7,
          -6.6e-7,
          -6.4e-7,
          -6.2e-7,
          -6e-7,
          -5.8e-7,
          -5.6e-7,
          -5.4e-7,
          -5.2e-7,
          -5e-7,
          -4.8e-7,
          -4.6e-7,
          -4.4e-7,
          -4.2e-7,
          -4e-7,
          -3.8e-7,
          -3.6e-7,
          -3.4e-7,
          -3.2e-7,
          -3e-7,
          -2.8e-7,
          -2.6e-7,
          -2.4e-7,
          -2.2e-7,
          -2e-7,
          -1.8e-7,
          -1.6e-7,
          -1.4e-7,
          -1.2e-7,
          -9.99999999999999e-8,
          -8e-8,
          -6e-8,
          -3.99999999999998e-8,
          -2e-8,
          0,
          2e-8,
          4e-8,
          6.00000000000001e-8,
          8.00000000000001e-8,
          1e-7,
          1.2e-7,
          1.4e-7,
          1.6e-7,
          1.8e-7,
          2e-7,
          2.2e-7,
          2.4e-7,
          2.6e-7,
          2.8e-7,
          3e-7,
          3.2e-7,
          3.4e-7,
          3.6e-7,
          3.8e-7,
          4e-7,
          4.2e-7,
          4.4e-7,
          4.6e-7,
          4.8e-7,
          5e-7,
          5.2e-7,
          5.4e-7,
          5.6e-7,
          5.8e-7,
          6e-7,
          6.2e-7,
          6.4e-7,
          6.6e-7,
          6.8e-7,
          7e-7,
          7.2e-7,
          7.4e-7,
          7.6e-7,
          7.8e-7,
          8e-7,
          8.2e-7,
          8.4e-7,
          8.6e-7,
          8.8e-7,
          9e-7,
          9.20000000000001e-7,
          9.4e-7,
          9.6e-7,
          9.8e-7,
          0.000001
         ],
         "y": [
          -1.057316,
          -1.0371270000000001,
          -1.016908,
          -0.9968422,
          -0.9765807999999999,
          -0.9566297,
          -0.9362456,
          -0.9162823999999999,
          -0.8959251,
          -0.8759192,
          -0.8555839000000001,
          -0.8354946,
          -0.8153088,
          -0.7952083000000001,
          -0.7750648,
          -0.7547791,
          -0.7347486,
          -0.7145009,
          -0.6944313,
          -0.6741276,
          -0.6540798,
          -0.6338895999999999,
          -0.6136877000000001,
          -0.5934978,
          -0.5733414,
          -0.5531355,
          -0.5328756,
          -0.5126676,
          -0.4926838,
          -0.4724438,
          -0.4523633,
          -0.4320399,
          -0.41185309999999997,
          -0.3916502,
          -0.37150570000000005,
          -0.3513147,
          -0.3312247,
          -0.3111986,
          -0.2909027,
          -0.2707222,
          -0.2504867,
          -0.2303025,
          -0.2100983,
          -0.1899584,
          -0.16975590000000002,
          -0.1496653,
          -0.129505,
          -0.10926540000000001,
          -0.08906265,
          -0.0688401,
          -0.048780960000000005,
          -0.02824094,
          -0.007931353,
          0.01228872,
          0.032343840000000006,
          0.05253193,
          0.07261971,
          0.09291242,
          0.11309720000000001,
          0.1333593,
          0.1533897,
          0.1735889,
          0.1938325,
          0.2139248,
          0.2341566,
          0.2542718,
          0.2745649,
          0.294617,
          0.3147532,
          0.335016,
          0.3550897,
          0.3754185,
          0.395471,
          0.41572929999999997,
          0.4358616,
          0.456013,
          0.47625500000000004,
          0.49635369999999995,
          0.5166409000000001,
          0.5367727000000001,
          0.5569559000000001,
          0.5770701,
          0.597238,
          0.617472,
          0.6375202,
          0.6578550000000001,
          0.6779857,
          0.6982705,
          0.7183495,
          0.7386174999999999,
          0.7587809,
          0.7787951999999999,
          0.7990803,
          0.819186,
          0.8395313,
          0.8596284,
          0.87979,
          0.8998453999999999,
          0.9200883,
          0.9401811,
          0.9603144
         ]
        }
       ],
       "layout": {
        "height": 960,
        "margin": {
         "b": 10,
         "l": 10,
         "r": 10,
         "t": 50
        },
        "template": {
         "data": {
          "bar": [
           {
            "error_x": {
             "color": "#2a3f5f"
            },
            "error_y": {
             "color": "#2a3f5f"
            },
            "marker": {
             "line": {
              "color": "#E5ECF6",
              "width": 0.5
             },
             "pattern": {
              "fillmode": "overlay",
              "size": 10,
              "solidity": 0.2
             }
            },
            "type": "bar"
           }
          ],
          "barpolar": [
           {
            "marker": {
             "line": {
              "color": "#E5ECF6",
              "width": 0.5
             },
             "pattern": {
              "fillmode": "overlay",
              "size": 10,
              "solidity": 0.2
             }
            },
            "type": "barpolar"
           }
          ],
          "carpet": [
           {
            "aaxis": {
             "endlinecolor": "#2a3f5f",
             "gridcolor": "white",
             "linecolor": "white",
             "minorgridcolor": "white",
             "startlinecolor": "#2a3f5f"
            },
            "baxis": {
             "endlinecolor": "#2a3f5f",
             "gridcolor": "white",
             "linecolor": "white",
             "minorgridcolor": "white",
             "startlinecolor": "#2a3f5f"
            },
            "type": "carpet"
           }
          ],
          "choropleth": [
           {
            "colorbar": {
             "outlinewidth": 0,
             "ticks": ""
            },
            "type": "choropleth"
           }
          ],
          "contour": [
           {
            "colorbar": {
             "outlinewidth": 0,
             "ticks": ""
            },
            "colorscale": [
             [
              0,
              "#0d0887"
             ],
             [
              0.1111111111111111,
              "#46039f"
             ],
             [
              0.2222222222222222,
              "#7201a8"
             ],
             [
              0.3333333333333333,
              "#9c179e"
             ],
             [
              0.4444444444444444,
              "#bd3786"
             ],
             [
              0.5555555555555556,
              "#d8576b"
             ],
             [
              0.6666666666666666,
              "#ed7953"
             ],
             [
              0.7777777777777778,
              "#fb9f3a"
             ],
             [
              0.8888888888888888,
              "#fdca26"
             ],
             [
              1,
              "#f0f921"
             ]
            ],
            "type": "contour"
           }
          ],
          "contourcarpet": [
           {
            "colorbar": {
             "outlinewidth": 0,
             "ticks": ""
            },
            "type": "contourcarpet"
           }
          ],
          "heatmap": [
           {
            "colorbar": {
             "outlinewidth": 0,
             "ticks": ""
            },
            "colorscale": [
             [
              0,
              "#0d0887"
             ],
             [
              0.1111111111111111,
              "#46039f"
             ],
             [
              0.2222222222222222,
              "#7201a8"
             ],
             [
              0.3333333333333333,
              "#9c179e"
             ],
             [
              0.4444444444444444,
              "#bd3786"
             ],
             [
              0.5555555555555556,
              "#d8576b"
             ],
             [
              0.6666666666666666,
              "#ed7953"
             ],
             [
              0.7777777777777778,
              "#fb9f3a"
             ],
             [
              0.8888888888888888,
              "#fdca26"
             ],
             [
              1,
              "#f0f921"
             ]
            ],
            "type": "heatmap"
           }
          ],
          "heatmapgl": [
           {
            "colorbar": {
             "outlinewidth": 0,
             "ticks": ""
            },
            "colorscale": [
             [
              0,
              "#0d0887"
             ],
             [
              0.1111111111111111,
              "#46039f"
             ],
             [
              0.2222222222222222,
              "#7201a8"
             ],
             [
              0.3333333333333333,
              "#9c179e"
             ],
             [
              0.4444444444444444,
              "#bd3786"
             ],
             [
              0.5555555555555556,
              "#d8576b"
             ],
             [
              0.6666666666666666,
              "#ed7953"
             ],
             [
              0.7777777777777778,
              "#fb9f3a"
             ],
             [
              0.8888888888888888,
              "#fdca26"
             ],
             [
              1,
              "#f0f921"
             ]
            ],
            "type": "heatmapgl"
           }
          ],
          "histogram": [
           {
            "marker": {
             "pattern": {
              "fillmode": "overlay",
              "size": 10,
              "solidity": 0.2
             }
            },
            "type": "histogram"
           }
          ],
          "histogram2d": [
           {
            "colorbar": {
             "outlinewidth": 0,
             "ticks": ""
            },
            "colorscale": [
             [
              0,
              "#0d0887"
             ],
             [
              0.1111111111111111,
              "#46039f"
             ],
             [
              0.2222222222222222,
              "#7201a8"
             ],
             [
              0.3333333333333333,
              "#9c179e"
             ],
             [
              0.4444444444444444,
              "#bd3786"
             ],
             [
              0.5555555555555556,
              "#d8576b"
             ],
             [
              0.6666666666666666,
              "#ed7953"
             ],
             [
              0.7777777777777778,
              "#fb9f3a"
             ],
             [
              0.8888888888888888,
              "#fdca26"
             ],
             [
              1,
              "#f0f921"
             ]
            ],
            "type": "histogram2d"
           }
          ],
          "histogram2dcontour": [
           {
            "colorbar": {
             "outlinewidth": 0,
             "ticks": ""
            },
            "colorscale": [
             [
              0,
              "#0d0887"
             ],
             [
              0.1111111111111111,
              "#46039f"
             ],
             [
              0.2222222222222222,
              "#7201a8"
             ],
             [
              0.3333333333333333,
              "#9c179e"
             ],
             [
              0.4444444444444444,
              "#bd3786"
             ],
             [
              0.5555555555555556,
              "#d8576b"
             ],
             [
              0.6666666666666666,
              "#ed7953"
             ],
             [
              0.7777777777777778,
              "#fb9f3a"
             ],
             [
              0.8888888888888888,
              "#fdca26"
             ],
             [
              1,
              "#f0f921"
             ]
            ],
            "type": "histogram2dcontour"
           }
          ],
          "mesh3d": [
           {
            "colorbar": {
             "outlinewidth": 0,
             "ticks": ""
            },
            "type": "mesh3d"
           }
          ],
          "parcoords": [
           {
            "line": {
             "colorbar": {
              "outlinewidth": 0,
              "ticks": ""
             }
            },
            "type": "parcoords"
           }
          ],
          "pie": [
           {
            "automargin": true,
            "type": "pie"
           }
          ],
          "scatter": [
           {
            "fillpattern": {
             "fillmode": "overlay",
             "size": 10,
             "solidity": 0.2
            },
            "type": "scatter"
           }
          ],
          "scatter3d": [
           {
            "line": {
             "colorbar": {
              "outlinewidth": 0,
              "ticks": ""
             }
            },
            "marker": {
             "colorbar": {
              "outlinewidth": 0,
              "ticks": ""
             }
            },
            "type": "scatter3d"
           }
          ],
          "scattercarpet": [
           {
            "marker": {
             "colorbar": {
              "outlinewidth": 0,
              "ticks": ""
             }
            },
            "type": "scattercarpet"
           }
          ],
          "scattergeo": [
           {
            "marker": {
             "colorbar": {
              "outlinewidth": 0,
              "ticks": ""
             }
            },
            "type": "scattergeo"
           }
          ],
          "scattergl": [
           {
            "marker": {
             "colorbar": {
              "outlinewidth": 0,
              "ticks": ""
             }
            },
            "type": "scattergl"
           }
          ],
          "scattermapbox": [
           {
            "marker": {
             "colorbar": {
              "outlinewidth": 0,
              "ticks": ""
             }
            },
            "type": "scattermapbox"
           }
          ],
          "scatterpolar": [
           {
            "marker": {
             "colorbar": {
              "outlinewidth": 0,
              "ticks": ""
             }
            },
            "type": "scatterpolar"
           }
          ],
          "scatterpolargl": [
           {
            "marker": {
             "colorbar": {
              "outlinewidth": 0,
              "ticks": ""
             }
            },
            "type": "scatterpolargl"
           }
          ],
          "scatterternary": [
           {
            "marker": {
             "colorbar": {
              "outlinewidth": 0,
              "ticks": ""
             }
            },
            "type": "scatterternary"
           }
          ],
          "surface": [
           {
            "colorbar": {
             "outlinewidth": 0,
             "ticks": ""
            },
            "colorscale": [
             [
              0,
              "#0d0887"
             ],
             [
              0.1111111111111111,
              "#46039f"
             ],
             [
              0.2222222222222222,
              "#7201a8"
             ],
             [
              0.3333333333333333,
              "#9c179e"
             ],
             [
              0.4444444444444444,
              "#bd3786"
             ],
             [
              0.5555555555555556,
              "#d8576b"
             ],
             [
              0.6666666666666666,
              "#ed7953"
             ],
             [
              0.7777777777777778,
              "#fb9f3a"
             ],
             [
              0.8888888888888888,
              "#fdca26"
             ],
             [
              1,
              "#f0f921"
             ]
            ],
            "type": "surface"
           }
          ],
          "table": [
           {
            "cells": {
             "fill": {
              "color": "#EBF0F8"
             },
             "line": {
              "color": "white"
             }
            },
            "header": {
             "fill": {
              "color": "#C8D4E3"
             },
             "line": {
              "color": "white"
             }
            },
            "type": "table"
           }
          ]
         },
         "layout": {
          "annotationdefaults": {
           "arrowcolor": "#2a3f5f",
           "arrowhead": 0,
           "arrowwidth": 1
          },
          "autotypenumbers": "strict",
          "coloraxis": {
           "colorbar": {
            "outlinewidth": 0,
            "ticks": ""
           }
          },
          "colorscale": {
           "diverging": [
            [
             0,
             "#8e0152"
            ],
            [
             0.1,
             "#c51b7d"
            ],
            [
             0.2,
             "#de77ae"
            ],
            [
             0.3,
             "#f1b6da"
            ],
            [
             0.4,
             "#fde0ef"
            ],
            [
             0.5,
             "#f7f7f7"
            ],
            [
             0.6,
             "#e6f5d0"
            ],
            [
             0.7,
             "#b8e186"
            ],
            [
             0.8,
             "#7fbc41"
            ],
            [
             0.9,
             "#4d9221"
            ],
            [
             1,
             "#276419"
            ]
           ],
           "sequential": [
            [
             0,
             "#0d0887"
            ],
            [
             0.1111111111111111,
             "#46039f"
            ],
            [
             0.2222222222222222,
             "#7201a8"
            ],
            [
             0.3333333333333333,
             "#9c179e"
            ],
            [
             0.4444444444444444,
             "#bd3786"
            ],
            [
             0.5555555555555556,
             "#d8576b"
            ],
            [
             0.6666666666666666,
             "#ed7953"
            ],
            [
             0.7777777777777778,
             "#fb9f3a"
            ],
            [
             0.8888888888888888,
             "#fdca26"
            ],
            [
             1,
             "#f0f921"
            ]
           ],
           "sequentialminus": [
            [
             0,
             "#0d0887"
            ],
            [
             0.1111111111111111,
             "#46039f"
            ],
            [
             0.2222222222222222,
             "#7201a8"
            ],
            [
             0.3333333333333333,
             "#9c179e"
            ],
            [
             0.4444444444444444,
             "#bd3786"
            ],
            [
             0.5555555555555556,
             "#d8576b"
            ],
            [
             0.6666666666666666,
             "#ed7953"
            ],
            [
             0.7777777777777778,
             "#fb9f3a"
            ],
            [
             0.8888888888888888,
             "#fdca26"
            ],
            [
             1,
             "#f0f921"
            ]
           ]
          },
          "colorway": [
           "#636efa",
           "#EF553B",
           "#00cc96",
           "#ab63fa",
           "#FFA15A",
           "#19d3f3",
           "#FF6692",
           "#B6E880",
           "#FF97FF",
           "#FECB52"
          ],
          "font": {
           "color": "#2a3f5f"
          },
          "geo": {
           "bgcolor": "white",
           "lakecolor": "white",
           "landcolor": "#E5ECF6",
           "showlakes": true,
           "showland": true,
           "subunitcolor": "white"
          },
          "hoverlabel": {
           "align": "left"
          },
          "hovermode": "closest",
          "mapbox": {
           "style": "light"
          },
          "paper_bgcolor": "white",
          "plot_bgcolor": "#E5ECF6",
          "polar": {
           "angularaxis": {
            "gridcolor": "white",
            "linecolor": "white",
            "ticks": ""
           },
           "bgcolor": "#E5ECF6",
           "radialaxis": {
            "gridcolor": "white",
            "linecolor": "white",
            "ticks": ""
           }
          },
          "scene": {
           "xaxis": {
            "backgroundcolor": "#E5ECF6",
            "gridcolor": "white",
            "gridwidth": 2,
            "linecolor": "white",
            "showbackground": true,
            "ticks": "",
            "zerolinecolor": "white"
           },
           "yaxis": {
            "backgroundcolor": "#E5ECF6",
            "gridcolor": "white",
            "gridwidth": 2,
            "linecolor": "white",
            "showbackground": true,
            "ticks": "",
            "zerolinecolor": "white"
           },
           "zaxis": {
            "backgroundcolor": "#E5ECF6",
            "gridcolor": "white",
            "gridwidth": 2,
            "linecolor": "white",
            "showbackground": true,
            "ticks": "",
            "zerolinecolor": "white"
           }
          },
          "shapedefaults": {
           "line": {
            "color": "#2a3f5f"
           }
          },
          "ternary": {
           "aaxis": {
            "gridcolor": "white",
            "linecolor": "white",
            "ticks": ""
           },
           "baxis": {
            "gridcolor": "white",
            "linecolor": "white",
            "ticks": ""
           },
           "bgcolor": "#E5ECF6",
           "caxis": {
            "gridcolor": "white",
            "linecolor": "white",
            "ticks": ""
           }
          },
          "title": {
           "x": 0.05
          },
          "xaxis": {
           "automargin": true,
           "gridcolor": "white",
           "linecolor": "white",
           "ticks": "",
           "title": {
            "standoff": 15
           },
           "zerolinecolor": "white",
           "zerolinewidth": 2
          },
          "yaxis": {
           "automargin": true,
           "gridcolor": "white",
           "linecolor": "white",
           "ticks": "",
           "title": {
            "standoff": 15
           },
           "zerolinecolor": "white",
           "zerolinewidth": 2
          }
         }
        },
        "title": {
         "font": {
          "size": 28
         },
         "text": "<b>#4 I-V</b> 009-1_1kOhms, R_fit=1009.0326 Ω"
        },
        "width": 1080,
        "xaxis": {
         "tickfont": {
          "size": 16
         },
         "title": {
          "font": {
           "size": 20
          },
          "text": "appl_current"
         }
        },
        "yaxis": {
         "tickfont": {
          "size": 16
         },
         "title": {
          "font": {
           "size": 20
          },
          "text": "meas_voltage_K1 mV"
         }
        }
       }
      }
     },
     "metadata": {},
     "output_type": "display_data"
    }
   ],
   "source": [
    "IV(4)"
   ]
  },
  {
   "cell_type": "code",
   "execution_count": null,
   "id": "ee32ef77",
   "metadata": {},
   "outputs": [],
   "source": [
    "get_R_from_IV(dataid)"
   ]
  },
  {
   "cell_type": "code",
   "execution_count": null,
   "id": "ae71124e",
   "metadata": {},
   "outputs": [],
   "source": [
    "dataset = qc.load_by_id(dataid)\n",
    "get_R_from_IV(dataid)\n",
    "IV(dataid)\n",
    "IV_diff(dataid)"
   ]
  },
  {
   "cell_type": "code",
   "execution_count": 32,
   "id": "795c08e0",
   "metadata": {},
   "outputs": [],
   "source": [
    "import plotly.graph_objs as go"
   ]
  },
  {
   "cell_type": "code",
   "execution_count": null,
   "id": "ea6a7850",
   "metadata": {},
   "outputs": [],
   "source": []
  },
  {
   "cell_type": "code",
   "execution_count": null,
   "id": "9ca53ea4",
   "metadata": {},
   "outputs": [],
   "source": [
    "for i in tqdm(range(1000)):\n",
    "    K2440.output(1)\n",
    "    I_range=1e-6\n",
    "    appl_current(-I_range) #Limit:1e-5 Amp(1MOhms risistor),1e-6 Amp(10MOhms risistor)\n",
    "    sleep(0.001)\n",
    "    # station.snapshot(update=True);\n",
    "    exp = qc.new_experiment('I-V', sample_name=f'103-03_J1_33-32-30-31_1M_F{i+1}')\n",
    "    dataid = do1d(appl_current, -I_range ,I_range, 101, 0.0001, meas_voltage_K2, meas_voltage_AC_L1,meas_voltage_AC_L1_P)\n",
    "    exp = qc.new_experiment('I-V', sample_name=f'103-03_J1_33-32-30-31_1M_B{i+1}')\n",
    "    dataid = do1d(appl_current, I_range ,-I_range, 101, 0.0001, meas_voltage_K2)\n",
    "    K2440.output(0)\n",
    "    clear_output(True)"
   ]
  },
  {
   "cell_type": "code",
   "execution_count": null,
   "id": "ffc1e4dd",
   "metadata": {},
   "outputs": [],
   "source": [
    "get_Mag()"
   ]
  },
  {
   "cell_type": "code",
   "execution_count": null,
   "id": "2908c940",
   "metadata": {},
   "outputs": [],
   "source": [
    "SGS.off()"
   ]
  },
  {
   "cell_type": "code",
   "execution_count": null,
   "id": "d82eb13a",
   "metadata": {},
   "outputs": [],
   "source": [
    "SGS.power(0)"
   ]
  },
  {
   "cell_type": "code",
   "execution_count": null,
   "id": "242d95fc",
   "metadata": {},
   "outputs": [],
   "source": [
    "DMM6500.averaging_count(5)\n",
    "DMM6500.averaging_enabled(True)"
   ]
  },
  {
   "cell_type": "code",
   "execution_count": null,
   "id": "e0c518ad",
   "metadata": {},
   "outputs": [],
   "source": [
    "for i in tqdm(range(21)):\n",
    "    I_range = round(round(0.55 + 5*i * 1e-4, 6)* 1e-6, 10)  # Round to 3 decimal places\n",
    "    print(I_range)\n"
   ]
  },
  {
   "cell_type": "code",
   "execution_count": null,
   "id": "78e3e90f",
   "metadata": {},
   "outputs": [],
   "source": []
  },
  {
   "cell_type": "code",
   "execution_count": null,
   "id": "0999a81b",
   "metadata": {},
   "outputs": [],
   "source": [
    "for i in tqdm(range(21)):\n",
    "    K2440.output(1)\n",
    "    I_range = round(round(0.55 + 5*i * 1e-4, 6)* 1e-6, 10) \n",
    "    appl_current(-I_range) #Limit:1e-5 Amp(1MOhms risistor),1e-6 Amp(10MOhms risistor)\n",
    "    sleep(2)\n",
    "    # station.snapshot(update=True);\n",
    "    exp = qc.new_experiment('I-V', sample_name=f'103-04_J1_24-25-05-04(06-07G)_1M_By@0mT_{-I_range}_201')\n",
    "    dataid = do1d(appl_current, -I_range ,I_range, 201, 0.00001, meas_voltage_K2)\n",
    "\n",
    "    appl_current(0)\n",
    "    K2440.output(0)\n",
    "\n",
    "\n",
    "    plot_by_id(dataid)\n",
    "    save_path = r\"D:\\data\\Albert\\103\\Plot\\104_{}.png\".format(dataid)  # Path to save the plot image\n",
    "    autosave_plot_by_id(dataid, save_path)\n",
    "    print(f\"ID:{dataid}\")\n",
    "    print(f\"R = {get_R_from_IV_2(dataid)}\")\n",
    "    dataset = qc.load_by_id(dataid)\n",
    "    IV(id=dataid)\n",
    "    IV_diff(id=dataid)"
   ]
  },
  {
   "cell_type": "code",
   "execution_count": null,
   "id": "e9ac98ca",
   "metadata": {},
   "outputs": [],
   "source": [
    "DMM6500.averaging_count(5)\n",
    "DMM6500.averaging_enabled(True)"
   ]
  },
  {
   "cell_type": "code",
   "execution_count": null,
   "id": "ad55deb3",
   "metadata": {},
   "outputs": [],
   "source": [
    "K2440.output(1)\n",
    "I_range = -6e-6\n",
    "appl_current(-I_range) #Limit:1e-5 Amp(1MOhms risistor),1e-6 Amp(10MOhms risistor)\n",
    "sleep(2)\n",
    "# station.snapshot(update=True);\n",
    "exp = qc.new_experiment('I-V', sample_name=f'103-03_J2_27-26-30-31M(32G-33G-28G-29G)_1M_By@0.1mT{-I_range}')\n",
    "dataid = do1d(appl_current, -I_range  ,I_range , 2601, 0.00001, meas_voltage_K2)\n",
    "appl_current(0)\n",
    "K2440.output(0)\n",
    "plot_by_id(dataid)\n",
    "save_path = r\"D:\\data\\Albert\\103\\Plot\\104_{}.png\".format(dataid)  # Path to save the plot image\n",
    "autosave_plot_by_id(dataid, save_path)\n",
    "print(f\"R = {get_R_from_IV_2(dataid)}\")\n",
    "dataset = qc.load_by_id(dataid)"
   ]
  },
  {
   "cell_type": "code",
   "execution_count": null,
   "id": "2b0e1832",
   "metadata": {},
   "outputs": [],
   "source": [
    "K2440.output(1)\n",
    "I_range = 6e-6\n",
    "appl_current(-I_range) #Limit:1e-5 Amp(1MOhms risistor),1e-6 Amp(10MOhms risistor)\n",
    "sleep(2)\n",
    "# station.snapshot(update=True);\n",
    "exp = qc.new_experiment('I-V', sample_name=f'103-03_J2_27-26-30-31M(32G-33G-28G-29G)_1M_By@0.1mT{-I_range}')\n",
    "dataid = do1d(appl_current, -I_range  ,I_range , 2601, 0.00001, meas_voltage_K2)\n",
    "appl_current(0)\n",
    "K2440.output(0)\n",
    "plot_by_id(dataid)\n",
    "save_path = r\"D:\\data\\Albert\\103\\Plot\\104_{}.png\".format(dataid)  # Path to save the plot image\n",
    "autosave_plot_by_id(dataid, save_path)\n",
    "print(f\"ID:{dataid}\")\n",
    "print(f\"R = {get_R_from_IV_2(dataid)}\")\n",
    "dataset = qc.load_by_id(dataid)\n",
    "# IV(id=dataid)\n",
    "# IV_diff(id=dataid)"
   ]
  },
  {
   "cell_type": "code",
   "execution_count": null,
   "id": "e90dc212",
   "metadata": {},
   "outputs": [],
   "source": [
    "25-05-06-07(04-24G)\n"
   ]
  },
  {
   "cell_type": "code",
   "execution_count": null,
   "id": "5c79e45a",
   "metadata": {},
   "outputs": [],
   "source": [
    "K2440.output(1)\n",
    "I_range=-7e-6\n",
    "appl_current(-I_range) #Limit:1e-5 Amp(1MOhms risistor),1e-6 Amp(10MOhms risistor)\n",
    "sleep(2)\n",
    "# station.snapshot(update=True);\n",
    "exp = qc.new_experiment('I-V', sample_name='103-03_J2_32-30-26-27_1M_By@0mT')\n",
    "dataid = do1d(appl_current, -I_range ,I_range, 1401, 0.0001, meas_voltage_K2)\n",
    "\n",
    "appl_current(0)\n",
    "K2440.output(0)\n",
    "\n",
    "\n",
    "plot_by_id(dataid)\n",
    "save_path = r\"D:\\data\\Albert\\103\\Plot\\104_{}.png\".format(dataid)  # Path to save the plot image\n",
    "autosave_plot_by_id(dataid, save_path)\n",
    "print(f\"ID:{dataid}\")\n",
    "print(f\"R = {get_R_from_IV_2(dataid)}\")\n",
    "dataset = qc.load_by_id(dataid)\n",
    "IV(id=dataid)\n",
    "IV_diff(id=dataid)"
   ]
  },
  {
   "cell_type": "code",
   "execution_count": null,
   "id": "8666f593",
   "metadata": {},
   "outputs": [],
   "source": [
    "K2440.output(1)\n",
    "I_range=7e-6\n",
    "appl_current(-I_range) #Limit:1e-5 Amp(1MOhms risistor),1e-6 Amp(10MOhms risistor)\n",
    "sleep(2)\n",
    "# station.snapshot(update=True);\n",
    "exp = qc.new_experiment('I-V', sample_name='103-03_J2_32-30-26-27_1M_By@0mT')\n",
    "dataid = do1d(appl_current, -I_range ,I_range, 1401, 0.0001, meas_voltage_K2)\n",
    "\n",
    "appl_current(0)\n",
    "K2440.output(0)\n",
    "\n",
    "\n",
    "plot_by_id(dataid)\n",
    "save_path = r\"D:\\data\\Albert\\103\\Plot\\104_{}.png\".format(dataid)  # Path to save the plot image\n",
    "autosave_plot_by_id(dataid, save_path)\n",
    "print(f\"ID:{dataid}\")\n",
    "print(f\"R = {get_R_from_IV_2(dataid)}\")\n",
    "dataset = qc.load_by_id(dataid)\n",
    "IV(id=dataid)\n",
    "IV_diff(id=dataid)"
   ]
  },
  {
   "cell_type": "code",
   "execution_count": null,
   "id": "4ce7045d",
   "metadata": {},
   "outputs": [],
   "source": [
    "# Set current to 0\n",
    "K2440.output(0)\n",
    "appl_current(0e-6)"
   ]
  },
  {
   "cell_type": "code",
   "execution_count": null,
   "id": "749b64e4",
   "metadata": {},
   "outputs": [],
   "source": [
    "K2440.output(1)\n",
    "appl_current(0.1e-7)"
   ]
  },
  {
   "cell_type": "code",
   "execution_count": null,
   "id": "9f4da299",
   "metadata": {
    "scrolled": true
   },
   "outputs": [],
   "source": [
    "runid=6\n",
    "print(get_R_from_IV_2(runid))"
   ]
  },
  {
   "cell_type": "markdown",
   "id": "3196b90e",
   "metadata": {},
   "source": [
    "## 加TG (1D)"
   ]
  },
  {
   "cell_type": "code",
   "execution_count": null,
   "id": "08a5e298",
   "metadata": {},
   "outputs": [],
   "source": [
    "K2440.output(1)\n",
    "appl_TG(0)"
   ]
  },
  {
   "cell_type": "code",
   "execution_count": null,
   "id": "a6f95af5",
   "metadata": {},
   "outputs": [],
   "source": [
    "K2440.output(1)\n",
    "K2440.output(1)\n",
    "appl_TG(-50)\n",
    "sleep(3)\n",
    "appl_current(-1.5e-8)\n",
    "sleep(1)\n",
    "\n",
    "# station.snapshot(update=True);\n",
    "exp = qc.new_experiment('IV', sample_name='TG21')\n",
    "\n",
    "#do1d(param_set, start, stop, num_points, delay, *param_meas)\n",
    "dataid = do1d(appl_current, -1.5e-8 ,1.5e-8, 101, 0.05, meas_voltage_K2)\n",
    "# dataid = do1d(appl_current, 6e-6 , -6e-6, 251, 0.01, meas_voltage_K1)\n",
    "# ivvi.set_dacs_zero()\n",
    "\n",
    "K2440.output(0)\n",
    "K2440.output(0)\n",
    "appl_current(0)\n",
    "plot_by_id(dataid)\n",
    "#print(get_R_from_IV(dataid))\n",
    "# print(get_R_from_IV_2(dataid))\n"
   ]
  },
  {
   "cell_type": "markdown",
   "id": "05b0d19b",
   "metadata": {},
   "source": [
    "## 歸零\n"
   ]
  },
  {
   "cell_type": "code",
   "execution_count": null,
   "id": "d8154670",
   "metadata": {},
   "outputs": [],
   "source": [
    "#K2440.output(1)\n",
    "K2440.output(1)\n",
    "\n",
    "appl_current(0)\n",
    "sleep(1)\n",
    "#appl_TG(0)\n",
    "sleep(5)\n",
    "\n",
    "#K2440.output(0)\n",
    "K2440.output(0)"
   ]
  },
  {
   "cell_type": "markdown",
   "id": "91795bf5",
   "metadata": {},
   "source": [
    "# Magnetic field"
   ]
  },
  {
   "cell_type": "markdown",
   "id": "c1b88abd",
   "metadata": {},
   "source": [
    "## IV vs Bx"
   ]
  },
  {
   "cell_type": "code",
   "execution_count": null,
   "id": "77c31bf1",
   "metadata": {},
   "outputs": [],
   "source": [
    "K2440.rangev()"
   ]
  },
  {
   "cell_type": "code",
   "execution_count": null,
   "id": "ea5d8a7d",
   "metadata": {},
   "outputs": [],
   "source": [
    "K2440.volt(0)\n",
    "K2440.output(1) #output off\n",
    "sleep(1)\n",
    "appl_current(1.5e-7)\n",
    "sleep(2)\n",
    "meas_voltage_K2()"
   ]
  },
  {
   "cell_type": "code",
   "execution_count": null,
   "id": "e083479a",
   "metadata": {},
   "outputs": [],
   "source": [
    "sleep(120)"
   ]
  },
  {
   "cell_type": "code",
   "execution_count": null,
   "id": "6c69dc40",
   "metadata": {},
   "outputs": [],
   "source": [
    "def get_Mag(show=True):\n",
    "    Mag_x = magnet_x.field()\n",
    "    Mag_y = magnet_y.field()\n",
    "    Mag_z = magnet_z.field()\n",
    "    if show:\n",
    "        print(f\"Mag_x: {Mag_x*1e3:.6f} mT\")\n",
    "        print(f\"Mag_y: {Mag_y*1e3:.6f} mT\")\n",
    "        print(f\"Mag_z: {Mag_z*1e3:.6f} mT\")\n",
    "    else: \n",
    "        return Mag_x, Mag_y, Mag_z\n",
    "get_Mag()"
   ]
  },
  {
   "cell_type": "code",
   "execution_count": null,
   "id": "582ee743",
   "metadata": {},
   "outputs": [],
   "source": [
    "get_Mag()"
   ]
  },
  {
   "cell_type": "code",
   "execution_count": null,
   "id": "9634bb97",
   "metadata": {},
   "outputs": [],
   "source": [
    "magnet_y.field()"
   ]
  },
  {
   "cell_type": "code",
   "execution_count": null,
   "id": "add54ae7",
   "metadata": {},
   "outputs": [],
   "source": [
    "for i in tqdm(range(23), desc=\"First loop\"):\n",
    "    value = (25 - i) * 1e-3 \n",
    "    value = float(f\"{value:.10f}\")\n",
    "    print(value)"
   ]
  },
  {
   "cell_type": "code",
   "execution_count": null,
   "id": "04c8a1e5",
   "metadata": {},
   "outputs": [],
   "source": [
    "from tqdm import tqdm\n",
    "import time\n",
    "\n",
    "from IPython.display import clear_output\n",
    "# First loop\n",
    "for i in tqdm(range(6), desc=\"First loop\"):\n",
    "    Mag_x = magnet_x.field()\n",
    "    value = (15 + i) * 1e-3\n",
    "    value = float(f\"{value:.10f}\")\n",
    "    magnet_x.field(value)\n",
    "    print(f\"magnet_x is {Mag_x:.8f} T\")\n",
    "    time.sleep(15)\n",
    "    clear_output(True)\n",
    "\n",
    "# Pause for 30 seconds\n",
    "time.sleep(60)\n",
    "\n",
    "# Second loop\n",
    "for i in tqdm(range(23), desc=\"First loop\"):\n",
    "    Mag_x = magnet_x.field()\n",
    "    value = (25 - i) * 1e-3 \n",
    "    value = float(f\"{value:.10f}\")\n",
    "    magnet_x.field(value)\n",
    "    print(f\"magnet_x is {Mag_x:.8f} T\")\n",
    "    time.sleep(15)\n",
    "    clear_output(True)\n",
    "\n",
    "# Pause for 180 seconds\n",
    "time.sleep(300)"
   ]
  },
  {
   "cell_type": "code",
   "execution_count": null,
   "id": "fc3e418b",
   "metadata": {},
   "outputs": [],
   "source": [
    "magnet_x.field(-20)"
   ]
  },
  {
   "cell_type": "code",
   "execution_count": null,
   "id": "07666294",
   "metadata": {},
   "outputs": [],
   "source": [
    "Mag = -20e-3\n",
    "I_range=2.5e-6\n",
    "K2440.output(1)\n",
    "sleep(2)\n",
    "magnet_x.field(Mag)\n",
    "sleep(10)\n",
    "appl_current(-I_range)\n",
    "sleep(3)\n",
    "direction = 'backward' if Mag > 0 else 'forward'\n",
    "\n",
    "\n",
    "# station.snapshot(update=True);\n",
    "exp = qc.new_experiment('IV vs Bx', sample_name=f'103-06_J2_12-13-18-19_1M_Bx_{direction}_By@0mT')\n",
    "\n",
    "dataid = do2d(magnet_x.field, Mag, -Mag, 76 , 0.7, appl_current, -I_range ,I_range, 101, 0.01, meas_voltage_K2)\n",
    "\n",
    "appl_current(0)\n",
    "K2440.output(0)\n",
    "# magnet_y.field(0)\n",
    "\n",
    "plot_by_id(dataid)\n",
    "autosave_plot_by_id(dataid, save_path)"
   ]
  },
  {
   "cell_type": "code",
   "execution_count": null,
   "id": "5f475874",
   "metadata": {},
   "outputs": [],
   "source": [
    "K2440.output(1)\n",
    "sleep(2)\n",
    "Mag = 10e-3\n",
    "I_range=2.5e-5\n",
    "\n",
    "magnet_x.field(Mag)\n",
    "sleep(30)\n",
    "appl_current(-I_range)\n",
    "sleep(3)\n",
    "direction = 'backward' if Mag > 0 else 'forward'\n",
    "\n",
    "\n",
    "# station.snapshot(update=True);\n",
    "\n",
    "exp = qc.new_experiment('IV vs Bx', sample_name=f'094-20IV_Bx_16-17-19-18_10M_{direction}')\n",
    "\n",
    "dataid = do2d(magnet_x.field, Mag, -Mag, 101 , 1.5, appl_current, -I_range ,I_range, 101, 0.05, meas_voltage_K2)#M:I Delay time 10:1\n",
    "\n",
    "\n",
    "appl_current(0)\n",
    "K2440.output(0)\n",
    "# magnet_x.field(0)\n",
    "\n",
    "plot_by_id(dataid)\n",
    "autosave_plot_by_id(dataid, save_path)"
   ]
  },
  {
   "cell_type": "code",
   "execution_count": null,
   "id": "bfdd8a07",
   "metadata": {},
   "outputs": [],
   "source": [
    "set_magnetic_field_stepwise(magnet=magnet_x, current_field=-40e-3, target_field=-18e-3, step_size=1e-3, delay=2.5)"
   ]
  },
  {
   "cell_type": "code",
   "execution_count": null,
   "id": "5eef089c",
   "metadata": {},
   "outputs": [],
   "source": [
    "def set_magnetic_field_stepwise(magnet=magnet_x, current_field=0, target_field=-10e-3, step_size=1e-3, delay=2.5):\n",
    "    \n",
    "    \"\"\"Set the magnetic field with anti-hysteresis mechanism witch will go to target magnetic field +/- 5mT, \n",
    "    if the target magnetic field is greater/less than the current magnetic field, \n",
    "    then slowly ramp back the magnetic field to the target magnetic field\n",
    "\n",
    "    Args:\n",
    "        magnet (_type_, optional): magnet_x,magnet_y,magnet_z. Defaults to magnet_x.\n",
    "        current_field (int, optional): _description_. Defaults to 0 T.\n",
    "        target_field (_type_, optional): _description_. Defaults to -10e-3 T.\n",
    "        step_size (_type_, optional): _description_. Defaults to 1e-3 T.\n",
    "        delay (float, optional): _description_. Defaults to 2 sec.\n",
    "    \n",
    "    \"\"\"\n",
    "    \n",
    "    from tqdm.notebook import tqdm\n",
    "    import math\n",
    "    # Calculate total steps for tqdm progress bar\n",
    "    total_steps = math.ceil(abs((target_field - current_field) / step_size)) * 2\n",
    "    progress_bar = tqdm(total=total_steps)\n",
    "\n",
    "    # Determine the intermediate target field\n",
    "    intermediate_target_field = target_field + 5e-3 if target_field > current_field else target_field - 5e-3\n",
    "    # Slowly ramp the magnetic field to the intermediate target field\n",
    "    while abs(intermediate_target_field - current_field) > step_size:\n",
    "        if intermediate_target_field > current_field:\n",
    "            current_field += step_size\n",
    "            magnet.field(current_field)\n",
    "        else:\n",
    "            current_field -= step_size\n",
    "            magnet.field(current_field)\n",
    "        time.sleep(delay)\n",
    "        progress_bar.update(1)  # Update progress bar\n",
    "    # Slowly ramp back the magnetic field to the target_field\n",
    "    while abs(target_field - current_field) > step_size:\n",
    "        if target_field > current_field:\n",
    "            current_field += step_size\n",
    "            magnet.field(current_field)\n",
    "        else:\n",
    "            current_field -= step_size\n",
    "            magnet.field(current_field)\n",
    "        time.sleep(delay)\n",
    "        progress_bar.update(1)  # Update progress bar\n",
    "    magnet.field(target_field)\n",
    "    progress_bar.n = total_steps  # Set progress bar to 100%\n",
    "    progress_bar.refresh()  # Refresh the progress bar to show the update\n",
    "    progress_bar.close()  # Close progress bar when done"
   ]
  },
  {
   "cell_type": "code",
   "execution_count": null,
   "id": "6d385381",
   "metadata": {},
   "outputs": [],
   "source": [
    "for i in range(6):\n",
    "    magnet_x.field((-10-i)*1e-3)\n",
    "    sleep(4)\n",
    "sleep(10)\n",
    "\n",
    "for i in range(16):\n",
    "    magnet_x.field((15+i)*1e-3)\n",
    "    sleep(4)\n",
    "sleep(10)"
   ]
  },
  {
   "cell_type": "code",
   "execution_count": null,
   "id": "83205742",
   "metadata": {},
   "outputs": [],
   "source": [
    "for i in range(25):\n",
    "    print(-24+i)"
   ]
  },
  {
   "cell_type": "code",
   "execution_count": null,
   "id": "fef193a7",
   "metadata": {},
   "outputs": [],
   "source": [
    "magnet_x.field(-19e-3)\n",
    "sleep(10)\n",
    "#magnet_x.field(e-3)\n",
    "#sleep(10)\n",
    "#magnet_x.field(12.8e-3)\n",
    "#sleep(10)"
   ]
  },
  {
   "cell_type": "markdown",
   "id": "6a6f3c0d",
   "metadata": {},
   "source": [
    "## IV vs By"
   ]
  },
  {
   "cell_type": "code",
   "execution_count": null,
   "id": "b823efb8",
   "metadata": {},
   "outputs": [],
   "source": [
    "get_Mag()"
   ]
  },
  {
   "cell_type": "code",
   "execution_count": null,
   "id": "9e236537",
   "metadata": {},
   "outputs": [],
   "source": [
    "magnet_y.field(0e-3)"
   ]
  },
  {
   "cell_type": "code",
   "execution_count": null,
   "id": "b4e8ec13",
   "metadata": {},
   "outputs": [],
   "source": [
    "for i in tqdm(range(21), desc=\"2nd loop\"):\n",
    "    \n",
    "    value = (-10 + i*0.5) * 1e-3 \n",
    "    value = float(f\"{value:.10f}\")\n",
    "    magnet_y.field(value)\n",
    "    get_Mag()\n",
    "    time.sleep(15)\n",
    "    clear_output(True)"
   ]
  },
  {
   "cell_type": "code",
   "execution_count": null,
   "id": "5dce7f89",
   "metadata": {},
   "outputs": [],
   "source": [
    "\n",
    "# First loop\n",
    "for i in tqdm(range(11), desc=\"First loop\"):\n",
    "    \n",
    "    value = (5 +i) * 1e-3\n",
    "    value = float(f\"{value:.10f}\")\n",
    "    magnet_y.field(value)\n",
    "    get_Mag()\n",
    "    time.sleep(15)\n",
    "    clear_output(True)\n",
    "\n",
    "# Pause for 30 seconds\n",
    "time.sleep(60)\n",
    "\n",
    "# Second loop\n",
    "for i in tqdm(range(11), desc=\"2nd loop\"):\n",
    "    \n",
    "    value = (-10 + i) * 1e-3 \n",
    "    value = float(f\"{value:.10f}\")\n",
    "    magnet_y.field(value)\n",
    "    get_Mag()\n",
    "    time.sleep(15)\n",
    "    clear_output(True)\n",
    "# Pause for 180 seconds\n",
    "time.sleep(300)"
   ]
  },
  {
   "cell_type": "code",
   "execution_count": null,
   "id": "46dc421a",
   "metadata": {},
   "outputs": [],
   "source": [
    "magnet_y.field()"
   ]
  },
  {
   "cell_type": "code",
   "execution_count": null,
   "id": "3a7fb763",
   "metadata": {},
   "outputs": [],
   "source": [
    "Mag =5e-3\n",
    "I_range=0.6e-6\n",
    "K2440.output(1)\n",
    "sleep(2)\n",
    "magnet_y.field(Mag)\n",
    "sleep(10)\n",
    "appl_current(-I_range)\n",
    "sleep(3)\n",
    "direction = 'backward' if Mag > 0 else 'forward'\n",
    "\n",
    "\n",
    "# station.snapshot(update=True);\n",
    "exp = qc.new_experiment('IV vs By', sample_name=f'103-03_J2_27-26-30-31M(32G-33G-28G-29G)_1M_By_{direction}_{-I_range}')\n",
    "\n",
    "dataid = do2d(magnet_y.field, Mag, -Mag, 201 , 0.5, appl_current, -I_range ,I_range,  201, 0.0001, meas_voltage_K2)\n",
    "\n",
    "appl_current(0)\n",
    "K2440.output(0)\n",
    "# magnet_y.field(0)\n",
    "\n",
    "plot_by_id(dataid)\n",
    "autosave_plot_by_id(dataid, save_path)"
   ]
  },
  {
   "cell_type": "code",
   "execution_count": null,
   "id": "a9c30858",
   "metadata": {},
   "outputs": [],
   "source": [
    "Mag =-5e-3\n",
    "I_range=5e-6\n",
    "K2440.output(1)\n",
    "sleep(2)\n",
    "magnet_y.field(Mag)\n",
    "sleep(10)\n",
    "appl_current(-I_range)\n",
    "sleep(3)\n",
    "direction = 'backward' if Mag > 0 else 'forward'\n",
    "\n",
    "\n",
    "# station.snapshot(update=True);\n",
    "exp = qc.new_experiment('IV vs By', sample_name=f'103-03_J2_27-26-30-31M(32G-33G-28G-29G)_1M_By_{direction}_{-I_range}')\n",
    "\n",
    "dataid = do2d(magnet_y.field, Mag, -Mag, 201 , 0.5, appl_current, -I_range ,I_range,  201, 0.0001, meas_voltage_K2)\n",
    "\n",
    "appl_current(0)\n",
    "K2440.output(0)\n",
    "# magnet_y.field(0)\n",
    "\n",
    "plot_by_id(dataid)\n",
    "autosave_plot_by_id(dataid, save_path)"
   ]
  },
  {
   "cell_type": "code",
   "execution_count": null,
   "id": "8ba8b69c",
   "metadata": {},
   "outputs": [],
   "source": [
    "32-"
   ]
  },
  {
   "cell_type": "code",
   "execution_count": null,
   "id": "7c2e8f1b",
   "metadata": {},
   "outputs": [],
   "source": [
    "\n",
    "# First loop\n",
    "for i in tqdm(range(6), desc=\"First loop\"):\n",
    "    Mag_x = magnet_y.field()\n",
    "    value = (1.5 +i) * 1e-3\n",
    "    value = float(f\"{value:.10f}\")\n",
    "    magnet_y.field(value)\n",
    "    print(f\"magnet_y is {Mag_x:.8f} T\")\n",
    "    time.sleep(15)\n",
    "    clear_output(True)\n",
    "\n",
    "# Pause for 30 seconds\n",
    "time.sleep(60)\n",
    "\n",
    "# Second loop\n",
    "for i in tqdm(range(6), desc=\"2nd loop\"):\n",
    "    Mag_x = magnet_y.field()\n",
    "    value = (6.5 - i) * 1e-3 \n",
    "    value = float(f\"{value:.10f}\")\n",
    "    magnet_y.field(value)\n",
    "    print(f\"magnet_y is {Mag_x:.8f} T\")\n",
    "    time.sleep(15)\n",
    "    clear_output(True)\n",
    "\n",
    "# Pause for 180 seconds\n",
    "time.sleep(300)"
   ]
  },
  {
   "cell_type": "code",
   "execution_count": null,
   "id": "8d736f1b",
   "metadata": {},
   "outputs": [],
   "source": [
    "Mag = 1.5e-3\n",
    "I_range=2.5e-6\n",
    "K2440.output(1)\n",
    "sleep(2)\n",
    "magnet_y.field(Mag)\n",
    "sleep(10)\n",
    "appl_current(-I_range)\n",
    "sleep(3)\n",
    "direction = 'backward' if Mag > 0 else 'forward'\n",
    "\n",
    "\n",
    "# station.snapshot(update=True);\n",
    "exp = qc.new_experiment('IV vs By', sample_name=f'103-06_J2_12-13-18-19_1M_By_{direction}_Bx@3mT')\n",
    "\n",
    "dataid = do2d(magnet_y.field, Mag, -Mag, 1001 , 0.4, appl_current, -I_range ,I_range, 151, 0.01, meas_voltage_K2)\n",
    "\n",
    "appl_current(0)\n",
    "K2440.output(0)\n",
    "# magnet_y.field(0)\n",
    "\n",
    "plot_by_id(dataid)\n",
    "autosave_plot_by_id(dataid, save_path)"
   ]
  },
  {
   "cell_type": "code",
   "execution_count": null,
   "id": "43eb5eb6",
   "metadata": {},
   "outputs": [],
   "source": [
    "Mag()"
   ]
  },
  {
   "cell_type": "code",
   "execution_count": null,
   "id": "721c43a1",
   "metadata": {},
   "outputs": [],
   "source": [
    "Mag = 1.5e-3\n",
    "I_range=1e-6\n",
    "K2440.output(1)\n",
    "sleep(2)\n",
    "magnet_y.field(Mag)\n",
    "sleep(10)\n",
    "appl_current(-I_range)\n",
    "sleep(3)\n",
    "direction = 'backward' if Mag > 0 else 'forward'\n",
    "\n",
    "\n",
    "# station.snapshot(update=True);\n",
    "exp = qc.new_experiment('IV vs By', sample_name=f'103-01_J1_21-20-23-22_1M_By_{direction}_Bx@0mT')\n",
    "\n",
    "dataid = do2d(magnet_y.field, Mag, -Mag, 151 , 0.9, appl_current, -I_range ,I_range, 201, 0.01, meas_voltage_K2)\n",
    "\n",
    "appl_current(0)\n",
    "K2440.output(0)\n",
    "# magnet_y.field(0)\n",
    "\n",
    "plot_by_id(dataid)\n",
    "autosave_plot_by_id(dataid, save_path)"
   ]
  },
  {
   "cell_type": "code",
   "execution_count": null,
   "id": "dadb617e",
   "metadata": {},
   "outputs": [],
   "source": [
    "from tqdm import tqdm\n",
    "import time\n",
    "\n",
    "# First loop\n",
    "for i in tqdm(range(6), desc=\"First loop\"):\n",
    "    value = (1.5 + i) * 1e-3 \n",
    "    magnet_y.field(value)\n",
    "    print(f\"magnet_y is {value:.8f} T\")\n",
    "    time.sleep(10)\n",
    "\n",
    "# Pause for 30 seconds\n",
    "time.sleep(30)\n",
    "\n",
    "# Second loop\n",
    "for i in tqdm(range(8), desc=\"First loop\"):\n",
    "    value = (7 - i) * 1e-3 \n",
    "    magnet_y.field(value)\n",
    "    print(f\"magnet_y is {value:.8f} T\")\n",
    "    time.sleep(10)\n",
    "\n",
    "# Pause for 180 seconds\n",
    "time.sleep(300)\n"
   ]
  },
  {
   "cell_type": "code",
   "execution_count": null,
   "id": "cceb780f",
   "metadata": {},
   "outputs": [],
   "source": [
    "def combined_loop(start=0, end=5 ):\n",
    "  for i in tqdm(range((end-start)+6), desc=\"First loop\"):\n",
    "    value = start + i\n",
    "    print(f\"{value* 1e-3:.5f}\")\n",
    "\n",
    "  for i in tqdm(range(6), desc=\"Second loop\"):\n",
    "    value = end+5 - i\n",
    "    print(f\"{value* 1e-3:.5f}\")\n",
    "\n",
    "combined_loop()\n"
   ]
  },
  {
   "cell_type": "code",
   "execution_count": null,
   "id": "7963ad50",
   "metadata": {},
   "outputs": [],
   "source": [
    "Mag = 3e-3\n",
    "I_range=1e-6\n",
    "K2440.output(1)\n",
    "sleep(2)\n",
    "magnet_y.field(Mag)\n",
    "sleep(10)\n",
    "appl_current(-I_range)\n",
    "sleep(3)\n",
    "direction = 'backward' if Mag > 0 else 'forward'\n",
    "\n",
    "\n",
    "# station.snapshot(update=True);\n",
    "exp = qc.new_experiment('IV vs By', sample_name=f'103-04_J2_04-05-06-07_1M_By_{direction}_Bx@0mT')\n",
    "\n",
    "dataid = do2d(magnet_y.field, Mag, -Mag, 101 , 1.5, appl_current, -I_range ,I_range, 101, 0.01, meas_voltage_K2)\n",
    "\n",
    "appl_current(0)\n",
    "K2440.output(0)\n",
    "# magnet_y.field(0)\n",
    "\n",
    "plot_by_id(dataid)\n",
    "autosave_plot_by_id(dataid, save_path)"
   ]
  },
  {
   "cell_type": "code",
   "execution_count": null,
   "id": "3d67f8ce",
   "metadata": {},
   "outputs": [],
   "source": [
    "from tqdm import tqdm\n",
    "import time\n",
    "\n",
    "# First loop\n",
    "for i in tqdm(range(6), desc=\"First loop\"):\n",
    "    magnet_y.field((-3 - i) * 1e-3)\n",
    "    time.sleep(15)\n",
    "\n",
    "# Pause for 30 seconds\n",
    "time.sleep(30)\n",
    "\n",
    "# Second loop\n",
    "for i in tqdm(range(7), desc=\"Second loop\"):\n",
    "    magnet_y.field((-8 + i) * 1e-3)\n",
    "    time.sleep(15)\n",
    "\n",
    "# Pause for 180 seconds\n",
    "time.sleep(300)"
   ]
  },
  {
   "cell_type": "code",
   "execution_count": null,
   "id": "af9e2a73",
   "metadata": {},
   "outputs": [],
   "source": [
    "magnet_y.field(-1.5e-3)\n",
    "print(\"By at -1.5 mT\")"
   ]
  },
  {
   "cell_type": "code",
   "execution_count": null,
   "id": "214aa45a",
   "metadata": {},
   "outputs": [],
   "source": [
    "Mag = -3e-3\n",
    "I_range=1e-6\n",
    "K2440.output(1)\n",
    "sleep(2)\n",
    "magnet_y.field(Mag)\n",
    "sleep(10)\n",
    "appl_current(-I_range)\n",
    "sleep(3)\n",
    "direction = 'backward' if Mag > 0 else 'forward'\n",
    "\n",
    "\n",
    "# station.snapshot(update=True);\n",
    "exp = qc.new_experiment('IV vs By', sample_name=f'103-04_J2_04-05-06-07_1M_By_{direction}_Bx@0mT')\n",
    "\n",
    "dataid = do2d(magnet_y.field, Mag, -Mag, 501 , 1, appl_current, -I_range ,I_range, 251, 0.01, meas_voltage_K2)\n",
    "\n",
    "appl_current(0)\n",
    "K2440.output(0)\n",
    "# magnet_y.field(0)\n",
    "\n",
    "plot_by_id(dataid)\n",
    "autosave_plot_by_id(dataid, save_path)"
   ]
  },
  {
   "cell_type": "code",
   "execution_count": null,
   "id": "da9891fc",
   "metadata": {},
   "outputs": [],
   "source": [
    "from tqdm import tqdm\n",
    "import time\n",
    "\n",
    "# First loop\n",
    "for i in tqdm(range(6), desc=\"First loop\"):\n",
    "    magnet_y.field((3 + i) * 1e-3)\n",
    "    time.sleep(10)\n",
    "\n",
    "# Pause for 30 seconds\n",
    "time.sleep(30)\n",
    "\n",
    "# Second loop\n",
    "for i in tqdm(range(6), desc=\"Second loop\"):\n",
    "    magnet_y.field((8 - i) * 1e-3)\n",
    "    time.sleep(10)\n",
    "\n",
    "# Pause for 180 seconds\n",
    "time.sleep(300)"
   ]
  },
  {
   "cell_type": "code",
   "execution_count": null,
   "id": "8c1e92c1",
   "metadata": {},
   "outputs": [],
   "source": [
    "Mag = 3e-3\n",
    "I_range=1e-6\n",
    "K2440.output(1)\n",
    "sleep(2)\n",
    "magnet_y.field(Mag)\n",
    "sleep(10)\n",
    "appl_current(-I_range)\n",
    "sleep(3)\n",
    "direction = 'backward' if Mag > 0 else 'forward'\n",
    "\n",
    "\n",
    "# station.snapshot(update=True);\n",
    "exp = qc.new_experiment('IV vs By', sample_name=f'103-04_J2_04-05-06-07_1M_By_{direction}_Bx@0mT')\n",
    "\n",
    "dataid = do2d(magnet_y.field, Mag, -Mag, 501 , 1, appl_current, -I_range ,I_range, 251, 0.01, meas_voltage_K2)\n",
    "\n",
    "appl_current(0)\n",
    "K2440.output(0)\n",
    "# magnet_y.field(0)\n",
    "\n",
    "plot_by_id(dataid)\n",
    "autosave_plot_by_id(dataid, save_path)"
   ]
  },
  {
   "cell_type": "code",
   "execution_count": null,
   "id": "5208f447",
   "metadata": {},
   "outputs": [],
   "source": [
    "magnet_y.field(5e-3)"
   ]
  },
  {
   "cell_type": "code",
   "execution_count": null,
   "id": "3e408864",
   "metadata": {},
   "outputs": [],
   "source": [
    "for i in range(9):\n",
    "    magnet_y.field((0+i)*1e-3)\n",
    "    sleep(4)\n",
    "sleep(10)\n",
    "\n",
    "for i in range(6):\n",
    "    magnet_y.field((8-i)*1e-3)\n",
    "    sleep(4)\n",
    "\n",
    "sleep(60)\n",
    "# magnet_y.field(21.5e-3)\n",
    "sleep(60)\n",
    "#magnet_y.field(0.48e-3)\n",
    "#sleep(5)"
   ]
  },
  {
   "cell_type": "code",
   "execution_count": null,
   "id": "2eb14a5d",
   "metadata": {},
   "outputs": [],
   "source": [
    "for i in range(4):\n",
    "    print(8-i)"
   ]
  },
  {
   "cell_type": "code",
   "execution_count": null,
   "id": "a1ebeefb",
   "metadata": {},
   "outputs": [],
   "source": [
    "K2440.output(1)\n",
    "sleep(2)\n",
    "Mag = -40e-3\n",
    "I_range=2e-8\n",
    "\n",
    "magnet_y.field(Mag)\n",
    "sleep(10)\n",
    "appl_current(-I_range)\n",
    "sleep(3)\n",
    "direction = 'backward' if Mag > 0 else 'forward'\n",
    "\n",
    "\n",
    "# station.snapshot(update=True);\n",
    "\n",
    "exp = qc.new_experiment('IV vs By', sample_name=f'094-20IV_By_16-17-19-18_10M_{direction}_Bx@-18.5mT')\n",
    "\n",
    "dataid = do2d(magnet_y.field, Mag, -Mag, 601 , 2, appl_current, -I_range ,I_range, 201, 0.1, meas_voltage_K2)\n",
    "\n",
    "\n",
    "appl_current(0)\n",
    "K2440.output(0)\n",
    "# magnet_y.field(0)\n",
    "\n",
    "plot_by_id(dataid)\n",
    "autosave_plot_by_id(dataid, save_path)"
   ]
  },
  {
   "cell_type": "code",
   "execution_count": null,
   "id": "effdb8bf",
   "metadata": {},
   "outputs": [],
   "source": [
    "for i in range(24):\n",
    "    print(45-i)"
   ]
  },
  {
   "cell_type": "code",
   "execution_count": null,
   "id": "4b523a44",
   "metadata": {},
   "outputs": [],
   "source": []
  },
  {
   "cell_type": "markdown",
   "id": "7dce8613",
   "metadata": {},
   "source": [
    "## IV vs Bz"
   ]
  },
  {
   "cell_type": "code",
   "execution_count": null,
   "id": "a4e6e5f7",
   "metadata": {
    "scrolled": true
   },
   "outputs": [],
   "source": [
    "K2440.output(1)\n",
    "sleep(2)\n",
    "magnet_z.field(-80e-3)\n",
    "sleep(60)\n",
    "appl_current(-2e-7)\n",
    "sleep(5)\n",
    "\n",
    "# station.snapshot(update=True);\n",
    "\n",
    "exp = qc.new_experiment('IV vs Bz', sample_name='IV_Bz_33_32_30_31_10M_forward')\n",
    "\n",
    "dataid = do2d(magnet_z.field,-80e-3,80e-3, 71 , 20, appl_current, -2e-7 ,2e-7, 101, 0.05, meas_voltage_K2)\n",
    "\n",
    "appl_current(0)\n",
    "\n",
    "K2440.output(0)\n",
    "# magnet_y.field(0)\n",
    "\n",
    "plot_by_id(dataid)"
   ]
  },
  {
   "cell_type": "code",
   "execution_count": null,
   "id": "e68136d1",
   "metadata": {},
   "outputs": [],
   "source": [
    "#magnet_z.field(20e-3)\n",
    "#sleep(5)\n",
    "magnet_z.field(-6.1e-3)\n",
    "sleep(5)"
   ]
  },
  {
   "cell_type": "code",
   "execution_count": null,
   "id": "571645ac",
   "metadata": {},
   "outputs": [],
   "source": []
  },
  {
   "cell_type": "markdown",
   "id": "02c81568",
   "metadata": {},
   "source": [
    "## IV w/ Bx"
   ]
  },
  {
   "cell_type": "code",
   "execution_count": null,
   "id": "b5229271",
   "metadata": {},
   "outputs": [],
   "source": [
    "K2440.output(1)\n",
    "sleep(2)\n",
    "magnet_x.field(0.23e-3)\n",
    "appl_current(-0.5e-6)\n",
    "sleep(10)\n",
    "\n",
    "# station.snapshot(update=True);\n",
    "exp = qc.new_experiment('I vs V', sample_name='IV_w/_Bx')\n",
    "\n",
    "#do1d(param_set, start, stop, num_points, delay, *param_meas)\n",
    "dataid = do1d(appl_current, -0.5e-6 ,0.5e-6, 101, 0.05, meas_voltage_K2)\n",
    "# dataid = do1d(appl_current, 6e-6 , -6e-6, 251, 0.01, meas_voltage_K1)\n",
    "# ivvi.set_dacs_zero()\n",
    "\n",
    "appl_current(0)\n",
    "plot_by_id(dataid)\n",
    "# print(get_R_from_IV(dataid))\n",
    "#print(get_R_from_IV_2(dataid))\n",
    "\n",
    "K2440.output(0)"
   ]
  },
  {
   "cell_type": "markdown",
   "id": "27ac85cd",
   "metadata": {},
   "source": [
    "## IV w/ By"
   ]
  },
  {
   "cell_type": "code",
   "execution_count": null,
   "id": "b7c3a84d",
   "metadata": {},
   "outputs": [],
   "source": [
    "K2440.output(1)\n",
    "DMM6500.averaging_count(30)\n",
    "#DMM6500.averaging_enabled(False)\n",
    "\n",
    "sleep(2)\n",
    "magnet_y.field(0e-3)\n",
    "appl_current(-2e-7)\n",
    "sleep(20)\n",
    "\n",
    "# station.snapshot(update=True);\n",
    "exp = qc.new_experiment('I vs V', sample_name='IV_w/_By@0mT_forward_Avg30')\n",
    "\n",
    "#do1d(param_set, start, stop, num_points, delay, *param_meas)\n",
    "dataid = do1d(appl_current, -2e-7 ,2e-7, 201, 0.05, meas_voltage_K2)\n",
    "# dataid = do1d(appl_current, 6e-6 , -6e-6, 251, 0.01, meas_voltage_K1)\n",
    "# ivvi.set_dacs_zero()\n",
    "\n",
    "appl_current(0)\n",
    "plot_by_id(dataid)\n",
    "# print(get_R_from_IV(dataid))\n",
    "#print(get_R_from_IV_2(dataid))\n",
    "\n",
    "K2440.output(0)"
   ]
  },
  {
   "cell_type": "markdown",
   "id": "1e7ed93d",
   "metadata": {},
   "source": [
    "## MR"
   ]
  },
  {
   "cell_type": "code",
   "execution_count": null,
   "id": "9db581e2",
   "metadata": {},
   "outputs": [],
   "source": [
    "K2440.output(1)\n",
    "sleep(2)\n",
    "magnet_y.field(-0.1)\n",
    "sleep(5)\n",
    "#K2440.output(1)\n",
    "appl_current(1e-7)\n",
    "sleep(5)\n",
    "\n",
    "# station.snapshot(update=True);\n",
    "\n",
    "exp = qc.new_experiment('I vs By_MR', sample_name='072_14IVf_25_24_29_29_By_+-0.1T_MR_for')\n",
    "\n",
    "dataid = do1d(magnet_y.field, -0.1, 0.1, 71 , 1, meas_voltage_K2)\n",
    "\n",
    "appl_current(0)\n",
    "K2440.output(0)\n",
    "#K2440.output(0)\n",
    "magnet_y.field(0)\n",
    "\n",
    "plot_by_id(dataid)"
   ]
  },
  {
   "cell_type": "markdown",
   "id": "55fd3a3b",
   "metadata": {},
   "source": [
    "## IV w/Bz"
   ]
  },
  {
   "cell_type": "code",
   "execution_count": null,
   "id": "e76653c7",
   "metadata": {},
   "outputs": [],
   "source": [
    "K2440.output(1)\n",
    "DMM6500.averaging_count(10)\n",
    "#DMM6500.averaging_enabled(False)\n",
    "\n",
    "sleep(2)\n",
    "magnet_z.field(0e-3)\n",
    "appl_current(-2e-7)\n",
    "sleep(30)\n",
    "\n",
    "# station.snapshot(update=True);\n",
    "exp = qc.new_experiment('I vs V', sample_name='IV_w/_f_Bz@0mT_forward_Avg10')\n",
    "\n",
    "#do1d(param_set, start, stop, num_points, delay, *param_meas)\n",
    "dataid = do1d(appl_current, -2e-7 ,2e-7, 201, 0.05, meas_voltage_K2)\n",
    "# dataid = do1d(appl_current, 6e-6 , -6e-6, 251, 0.01, meas_voltage_K1)\n",
    "# ivvi.set_dacs_zero()\n",
    "\n",
    "appl_current(0)\n",
    "plot_by_id(dataid)\n",
    "# print(get_R_from_IV(dataid))\n",
    "#print(get_R_from_IV_2(dataid))\n",
    "\n",
    "K2440.output(0)"
   ]
  },
  {
   "cell_type": "markdown",
   "id": "d0274abc",
   "metadata": {},
   "source": [
    "# Zero everything"
   ]
  },
  {
   "cell_type": "code",
   "execution_count": null,
   "id": "a0cc99f2",
   "metadata": {},
   "outputs": [],
   "source": [
    "appl_current(0)\n",
    "appl_TG(0)\n",
    "magnet_y.field(0)\n",
    "sleep(5)\n",
    "magnet_x.field(0)\n",
    "sleep(5)\n",
    "magnet_z.field(0)\n",
    "sleep(5)\n",
    "#appl_voltage_AC(0.004)\n",
    "#SGS.off()\n",
    "K2440.output(0)"
   ]
  },
  {
   "cell_type": "code",
   "execution_count": null,
   "id": "cb8bf175",
   "metadata": {},
   "outputs": [],
   "source": [
    "appl_current(0)"
   ]
  },
  {
   "cell_type": "markdown",
   "id": "6610bce1",
   "metadata": {},
   "source": [
    "# Gate simple sweeps"
   ]
  },
  {
   "cell_type": "markdown",
   "id": "c010fbad",
   "metadata": {},
   "source": [
    "## 加TG (2D)"
   ]
  },
  {
   "cell_type": "code",
   "execution_count": null,
   "id": "6d7e9bf6",
   "metadata": {},
   "outputs": [],
   "source": [
    "appl_current(0)\n",
    "sleep(1)\n",
    "appl_TG(0)\n",
    "sleep(5)"
   ]
  },
  {
   "cell_type": "code",
   "execution_count": null,
   "id": "be01663b",
   "metadata": {},
   "outputs": [],
   "source": [
    "magnet_x.field(-0.044e-3)\n",
    "sleep(10)\n",
    "magnet_y.field(-6.016e-3)\n",
    "sleep(10)"
   ]
  },
  {
   "cell_type": "code",
   "execution_count": null,
   "id": "5397630e",
   "metadata": {},
   "outputs": [],
   "source": [
    "K2440.output(1)\n",
    "K2440.output(1)\n",
    "appl_TG(-30)\n",
    "sleep(5)\n",
    "appl_current(-1.5e-8)\n",
    "sleep(1)\n",
    "\n",
    "exp = qc.new_experiment('I_vs_Vgate_up', sample_name='33_32_30_31_1M_TG21')\n",
    "dataid = do2d(appl_TG, -30, 30, 301, 0.5, appl_current, -1.5e-8, 1.5e-8, 101, 0.1, meas_voltage_K2)\n",
    "\n",
    "appl_TG(0)\n",
    "sleep(5)\n",
    "appl_current(0e-7)\n",
    "sleep(5)\n",
    "\n",
    "K2440.output(0)\n",
    "K2440.output(0)\n",
    "\n",
    "plot_by_id(dataid)"
   ]
  },
  {
   "cell_type": "markdown",
   "id": "5375fb6f",
   "metadata": {},
   "source": [
    "# RF"
   ]
  },
  {
   "cell_type": "markdown",
   "id": "596beaf8",
   "metadata": {},
   "source": [
    "## I vs RF_f"
   ]
  },
  {
   "cell_type": "markdown",
   "id": "a6df9a13",
   "metadata": {},
   "source": [
    "### sensitive check"
   ]
  },
  {
   "cell_type": "code",
   "execution_count": null,
   "id": "017ed644",
   "metadata": {},
   "outputs": [],
   "source": [
    "SGS.power()\n",
    "SGS.frequency()"
   ]
  },
  {
   "cell_type": "code",
   "execution_count": null,
   "id": "e0b8db4e",
   "metadata": {},
   "outputs": [],
   "source": [
    "SGS.on()"
   ]
  },
  {
   "cell_type": "code",
   "execution_count": null,
   "id": "cc145b47",
   "metadata": {},
   "outputs": [],
   "source": [
    "SGS.off()"
   ]
  },
  {
   "cell_type": "code",
   "execution_count": null,
   "id": "6141349d",
   "metadata": {},
   "outputs": [],
   "source": [
    "magnet_x.field(0.4e-3)\n",
    "sleep(10)\n",
    "magnet_y.field(2.53e-3)\n",
    "sleep(10)"
   ]
  },
  {
   "cell_type": "code",
   "execution_count": null,
   "id": "2fd35fd0",
   "metadata": {},
   "outputs": [],
   "source": [
    "DMM6500.averaging_count(5)\n",
    "DMM6500.averaging_enabled(False)"
   ]
  },
  {
   "cell_type": "markdown",
   "id": "2d27c6f3",
   "metadata": {},
   "source": [
    "### I vs RF_f (1D)"
   ]
  },
  {
   "cell_type": "code",
   "execution_count": null,
   "id": "c3ec00d7",
   "metadata": {
    "scrolled": false
   },
   "outputs": [],
   "source": [
    "SGS.off()\n",
    "exp = qc.new_experiment('I-RF_f', sample_name='103-06_J2_12-13-14-15_1M_@0mT')\n",
    "SGS.power(0)\n",
    "SGS.frequency(0.1e9)\n",
    "SGS.on()\n",
    "sleep(1)\n",
    "DMM6500.averaging_count(5)\n",
    "DMM6500.averaging_enabled(False)\n",
    "K2440.output(1)\n",
    "\n",
    "appl_current(0.4e-6)\n",
    "#appl_TG(10)\n",
    "# magnet_x.field(0.4e-3)\n",
    "# magnet_y.field(2.53e-3)\n",
    "\n",
    "dataid = do1d(SGS.frequency, 11.4e9, 12.2e9, 201, 0.1, meas_voltage_K2)\n",
    "appl_current(0)\n",
    "SGS.off()\n",
    "K2440.output(0)\n",
    "plot_by_id(dataid)\n"
   ]
  },
  {
   "cell_type": "markdown",
   "id": "3e250e53",
   "metadata": {},
   "source": [
    "### I vs RF_f (2D)"
   ]
  },
  {
   "cell_type": "code",
   "execution_count": null,
   "id": "3734095d",
   "metadata": {},
   "outputs": [],
   "source": [
    "SGS.off()"
   ]
  },
  {
   "cell_type": "code",
   "execution_count": null,
   "id": "ccc9ea2f",
   "metadata": {},
   "outputs": [],
   "source": [
    "SGS.off()\n",
    "SGS.power(0)\n",
    "SGS.frequency(0.1e9)\n",
    "SGS.on()\n",
    "DMM6500.averaging_count(1)\n",
    "DMM6500.averaging_enabled(False)\n",
    "K2440.output(1)\n",
    "\n",
    "I_range = 8e-6\n",
    "appl_current(-I_range)\n",
    "#appl_TG(-10)\n",
    "# magnet_x.field(0.4e-3)\n",
    "# magnet_y.field(2.53e-3)\n",
    "# sleep(1)\n",
    "\n",
    "# station.snapshot(update=True);\n",
    "exp = qc.new_experiment('IV-RF_f', sample_name=f'103-03_J2_27-26-30-31M(32G-33G-28G-29G)_1M_RF@0dBm_By@0.1mT')\n",
    "\n",
    "#do1d(param_set, start, stop, num_points, delay, *param_meas)\n",
    "dataid = do2d(SGS.frequency, 1e9, 20e9, 191, 0.0001, appl_current,-I_range ,I_range, 201, 0.0001, meas_voltage_K2)\n",
    "# dataid = do1d(appl_current, 6e-6 , -6e-6, 251, 0.01, meas_voltage_K1)\n",
    "# ivvi.set_dacs_zero()\n",
    "K2440.output(0)\n",
    "SGS.off()\n",
    "appl_current(0)\n",
    "plot_by_id(dataid)\n",
    "save_path = r\"D:\\data\\Albert\\103\\Plot\\104_{}.png\".format(dataid)  # Path to save the plot image\n",
    "autosave_plot_by_id(dataid, save_path)"
   ]
  },
  {
   "cell_type": "code",
   "execution_count": null,
   "id": "3426a3bd",
   "metadata": {},
   "outputs": [],
   "source": [
    "SGS.off()\n",
    "SGS.power(20)\n",
    "SGS.frequency(0.1e9)\n",
    "SGS.on()\n",
    "DMM6500.averaging_count(1)\n",
    "DMM6500.averaging_enabled(False)\n",
    "K2440.output(1)\n",
    "\n",
    "I_range = 6e-6\n",
    "appl_current(-I_range)\n",
    "#appl_TG(-10)\n",
    "# magnet_x.field(0.4e-3)\n",
    "# magnet_y.field(2.53e-3)\n",
    "# sleep(1)\n",
    "\n",
    "# station.snapshot(update=True);\n",
    "exp = qc.new_experiment('IV-RF_f', sample_name=f'103-03_J2_27-26-30-31M(32G-33G-28G-29G)_1M_RF@-10dBm_By@0.1mT')\n",
    "\n",
    "#do1d(param_set, start, stop, num_points, delay, *param_meas)\n",
    "dataid = do2d(SGS.frequency, 1e9, 20e9, 191, 0.0001, appl_current,-I_range ,I_range, 201, 0.0001, meas_voltage_K2)\n",
    "# dataid = do1d(appl_current, 6e-6 , -6e-6, 251, 0.01, meas_voltage_K1)\n",
    "# ivvi.set_dacs_zero()\n",
    "K2440.output(0)\n",
    "SGS.off()\n",
    "appl_current(0)\n",
    "plot_by_id(dataid)\n",
    "save_path = r\"D:\\data\\Albert\\103\\Plot\\104_{}.png\".format(dataid)  # Path to save the plot image\n",
    "autosave_plot_by_id(dataid, save_path)"
   ]
  },
  {
   "cell_type": "code",
   "execution_count": null,
   "id": "9f9dbd53",
   "metadata": {},
   "outputs": [],
   "source": [
    "SGS.off()\n",
    "SGS.power(20)\n",
    "SGS.frequency(5.9e9)\n",
    "SGS.on()\n",
    "DMM6500.averaging_count(1)\n",
    "DMM6500.averaging_enabled(False)\n",
    "K2440.output(1)\n",
    "\n",
    "I_range = 6e-6\n",
    "appl_current(-I_range)\n",
    "#appl_TG(-10)\n",
    "# magnet_x.field(0.4e-3)\n",
    "# magnet_y.field(2.53e-3)\n",
    "# sleep(1)\n",
    "\n",
    "# station.snapshot(update=True);\n",
    "exp = qc.new_experiment('IV-RF_f', sample_name=f'103-03_J2_27-26-30-31M(32G-33G-28G-29G)_1M_RF@20dBm_By@0.1mT')\n",
    "\n",
    "#do1d(param_set, start, stop, num_points, delay, *param_meas)\n",
    "dataid = do2d(SGS.frequency, 5.9e9, 6.0e9, 251, 0.0001, appl_current,-I_range ,I_range, 501, 0.0001, meas_voltage_K2)\n",
    "# dataid = do1d(appl_current, 6e-6 , -6e-6, 251, 0.01, meas_voltage_K1)\n",
    "# ivvi.set_dacs_zero()\n",
    "K2440.output(0)\n",
    "SGS.off()\n",
    "appl_current(0)\n",
    "plot_by_id(dataid)\n",
    "save_path = r\"D:\\data\\Albert\\103\\Plot\\104_{}.png\".format(dataid)  # Path to save the plot image\n",
    "autosave_plot_by_id(dataid, save_path)\n"
   ]
  },
  {
   "cell_type": "code",
   "execution_count": null,
   "id": "862b770b",
   "metadata": {},
   "outputs": [],
   "source": [
    "SGS.off()\n",
    "SGS.power(20)\n",
    "SGS.frequency(5.535e9)\n",
    "SGS.on()\n",
    "DMM6500.averaging_count(1)\n",
    "DMM6500.averaging_enabled(False)\n",
    "K2440.output(1)\n",
    "\n",
    "I_range = 6e-6\n",
    "appl_current(-I_range)\n",
    "#appl_TG(-10)\n",
    "# magnet_x.field(0.4e-3)\n",
    "# magnet_y.field(2.53e-3)\n",
    "# sleep(1)\n",
    "\n",
    "# station.snapshot(update=True);\n",
    "exp = qc.new_experiment('IV-RF_f', sample_name=f'103-03_J2_27-26-30-31M(32G-33G-28G-29G)_1M_RF@20dBm_By@0.1mT')\n",
    "\n",
    "#do1d(param_set, start, stop, num_points, delay, *param_meas)\n",
    "dataid = do2d(SGS.frequency, 5.535e9, 5.585e9, 251, 0.0001, appl_current,-I_range ,I_range, 501, 0.0001, meas_voltage_K2)\n",
    "# dataid = do1d(appl_current, 6e-6 , -6e-6, 251, 0.01, meas_voltage_K1)\n",
    "# ivvi.set_dacs_zero()\n",
    "K2440.output(0)\n",
    "SGS.off()\n",
    "appl_current(0)\n",
    "plot_by_id(dataid)\n",
    "save_path = r\"D:\\data\\Albert\\103\\Plot\\104_{}.png\".format(dataid)  # Path to save the plot image\n",
    "autosave_plot_by_id(dataid, save_path)\n"
   ]
  },
  {
   "cell_type": "code",
   "execution_count": null,
   "id": "d76f7ea2",
   "metadata": {},
   "outputs": [],
   "source": [
    "SGS.off()\n",
    "SGS.power(20)\n",
    "SGS.frequency(0.1e9)\n",
    "SGS.on()\n",
    "DMM6500.averaging_count(1)\n",
    "DMM6500.averaging_enabled(False)\n",
    "K2440.output(1)\n",
    "\n",
    "I_range = 6e-6\n",
    "appl_current(-I_range)\n",
    "SGS_power = SGS.power()\n",
    "#appl_TG(-10)\n",
    "# magnet_x.field(0.4e-3)\n",
    "# magnet_y.field(2.53e-3)\n",
    "# sleep(1)\n",
    "\n",
    "# station.snapshot(update=True);\n",
    "exp = qc.new_experiment('IV-RF_f', sample_name=f'103-03_J2_27-26-30-31M(32G-33G-28G-29G)_1M_RF@{SGS_power}dBm_By@0.1mT')\n",
    "\n",
    "#do1d(param_set, start, stop, num_points, delay, *param_meas)\n",
    "dataid = do2d(SGS.frequency, 3.9e9, 6.9e9, 301, 0.0001, appl_current,-I_range ,I_range, 251, 0.0001, meas_voltage_K2)\n",
    "# dataid = do1d(appl_current, 6e-6 , -6e-6, 251, 0.01, meas_voltage_K1)\n",
    "# ivvi.set_dacs_zero()\n",
    "K2440.output(0)\n",
    "SGS.off()\n",
    "appl_current(0)\n",
    "plot_by_id(dataid)\n",
    "save_path = r\"D:\\data\\Albert\\103\\Plot\\104_{}.png\".format(dataid)  # Path to save the plot image\n",
    "autosave_plot_by_id(dataid, save_path)"
   ]
  },
  {
   "cell_type": "code",
   "execution_count": null,
   "id": "28992f6f",
   "metadata": {},
   "outputs": [],
   "source": [
    "appl_current(0)\n",
    "#appl_TG(0)\n",
    "magnet_y.field(0)\n",
    "sleep(2)\n",
    "magnet_x.field(0)\n",
    "sleep(2)\n",
    "#appl_voltage_AC(0.004)\n",
    "SGS.off()"
   ]
  },
  {
   "cell_type": "markdown",
   "id": "65c9a40a",
   "metadata": {},
   "source": [
    "## IV vs RF_f"
   ]
  },
  {
   "cell_type": "markdown",
   "id": "b285efb3",
   "metadata": {},
   "source": [
    "### Shapiro steps "
   ]
  },
  {
   "cell_type": "code",
   "execution_count": null,
   "id": "3a180ee1",
   "metadata": {
    "scrolled": true
   },
   "outputs": [],
   "source": [
    "SGS.off()\n",
    "SGS.power(-10)\n",
    "SGS.frequency(11.725e9)\n",
    "SGS.on()\n",
    "DMM6500.averaging_count(5)\n",
    "DMM6500.averaging_enabled(False)\n",
    "K2440.output(1)\n",
    "\n",
    "appl_current(-2e-7)\n",
    "#appl_TG(-10)\n",
    "#magnet_x.field(0.23e-3)\n",
    "#magnet_y.field(1.41e-3)\n",
    "# sleep(1)\n",
    "\n",
    "# station.snapshot(update=True);\n",
    "exp = qc.new_experiment('IV-RF_f', sample_name=f'103-03_J2_27-26-30-31M(32G-33G-28G-29G)_1M_By@0.1mT{-I_range}')\n",
    "\n",
    "#do1d(param_set, start, stop, num_points, delay, *param_meas)\"\"\n",
    "dataid = do1d(appl_current,-2e-7 ,2e-7, 101, 0.05,  meas_voltage_K2)\n",
    "# dataid = do1d(appl_current, 6e-6 , -6e-6, 251, 0.01, meas_voltage_K1)\n",
    "# ivvi.set_dacs_zero()\n",
    "K2440.output(0)\n",
    "SGS.off()\n",
    "appl_current(0)\n",
    "plot_by_id(dataid)\n",
    "# print(get_R_from_IV(dataid))\n",
    "#print(get_R_from_IV_2(dataid))"
   ]
  },
  {
   "cell_type": "code",
   "execution_count": null,
   "id": "51fe069b",
   "metadata": {},
   "outputs": [],
   "source": [
    "SGS.off()\n",
    "SGS.power(0)\n",
    "SGS.frequency(3.87e9)\n",
    "SGS.on()\n",
    "DMM6500.averaging_count(5)\n",
    "DMM6500.averaging_enabled(False)\n",
    "K2440.output(1)\n",
    "\n",
    "appl_current(-1.2e-6)\n",
    "#appl_TG(-10)\n",
    "magnet_y.field(-10e-3)\n",
    "\n",
    "#magnet_y.field(1.41e-3)\n",
    "# sleep(1)\n",
    "\n",
    "# station.snapshot(update=True);\n",
    "exp = qc.new_experiment('Bx vs RF_f', sample_name='By vs RF_f_J2_3.87_-10dB')\n",
    "\n",
    "#do1d(param_set, start, stop, num_points, delay, *param_meas)\"\"\n",
    "dataid = do2d(magnet_y.field, -10e-3, 10e-3,701, 1, appl_current,-1.2e-6 ,1.2e-6, 101, 0.05,  meas_voltage_K2)\n",
    "# dataid = do1d(appl_current, 6e-6 , -6e-6, 251, 0.01, meas_voltage_K1)\n",
    "# ivvi.set_dacs_zero()\n",
    "K2440.output(0)\n",
    "SGS.off()\n",
    "appl_current(0)\n",
    "plot_by_id(dataid)\n",
    "# print(get_R_from_IV(dataid))\n",
    "#print(get_R_from_IV_2(dataid))"
   ]
  },
  {
   "cell_type": "code",
   "execution_count": null,
   "id": "5488e4c5",
   "metadata": {},
   "outputs": [],
   "source": [
    "appl_current(0)\n",
    "#appl_TG(0)\n",
    "magnet_y.field(0)\n",
    "sleep(10)\n",
    "magnet_x.field(0)\n",
    "sleep(10)\n",
    "#appl_voltage_AC(0.004)\n",
    "SGS.off()"
   ]
  },
  {
   "cell_type": "markdown",
   "id": "04e50dcd",
   "metadata": {},
   "source": [
    "## IV vs Power Dependence"
   ]
  },
  {
   "cell_type": "code",
   "execution_count": null,
   "id": "0368ef58",
   "metadata": {},
   "outputs": [],
   "source": [
    "SGS.off()"
   ]
  },
  {
   "cell_type": "code",
   "execution_count": null,
   "id": "3d6eab35",
   "metadata": {},
   "outputs": [],
   "source": [
    "SGS.power(-40)"
   ]
  },
  {
   "cell_type": "code",
   "execution_count": null,
   "id": "d760383a",
   "metadata": {},
   "outputs": [],
   "source": [
    "SGS.off()"
   ]
  },
  {
   "cell_type": "code",
   "execution_count": null,
   "id": "f0984a37",
   "metadata": {
    "scrolled": true
   },
   "outputs": [],
   "source": [
    "SGS.off()\n",
    "SGS.power(-20)\n",
    "SGS.frequency(5.9534e9)\n",
    "SGS_frequency = SGS.frequency()\n",
    "SGS.on()\n",
    "DMM6500.averaging_count(3)\n",
    "DMM6500.averaging_enabled(False)\n",
    "K2440.output(1)\n",
    "\n",
    "#magnet_x.field(15e-3)\n",
    "#sleep(5)\n",
    "I_range = 6e-6\n",
    "appl_current(-I_range)\n",
    "#appl_TG(-30)\n",
    "sleep(2)\n",
    "\n",
    "# station.snapshot(update=True);\n",
    "exp = qc.new_experiment('IV-RF_p', sample_name=f'103-03_J2_27-26-30-31M(32G-33G-28G-29G)_1M_RF@{SGS_frequency*1e-9:.4f}GHz_By@0.1mT')\n",
    "\n",
    "#do1d(param_set, start, stop, num_points, delay, *param_meas)\n",
    "\n",
    "dataid = do2d(SGS.power,10, 15, 51, 0.1, appl_current,-I_range ,I_range, 301, 0.00001, meas_voltage_K2)\n",
    "# dataid = do1d(appl_current, 6e-6 , -6e-6, 251, 0.01, meas_voltage_K1)\n",
    "# ivvi.set_dacs_zero()\n",
    "\n",
    "SGS.off()\n",
    "appl_current(0)\n",
    "K2440.output()\n",
    "plot_by_id(dataid)\n",
    "\n",
    "# print(get_R_from_IV(dataid))\n",
    "print(get_R_from_IV_2(dataid))"
   ]
  },
  {
   "cell_type": "code",
   "execution_count": null,
   "id": "de3fc621",
   "metadata": {},
   "outputs": [],
   "source": [
    "SGS.off()\n",
    "SGS.power(-25)\n",
    "SGS.frequency(5.226e9)\n",
    "SGS.on()\n",
    "DMM6500.averaging_count(5)\n",
    "DMM6500.averaging_enabled(True)\n",
    "K2440.output(1)\n",
    "\n",
    "magnet_y.field(-8e-3)\n",
    "sleep(60)\n",
    "appl_current(-2e-7)\n",
    "#appl_TG(-30)\n",
    "sleep(2)\n",
    "\n",
    "# station.snapshot(update=True);\n",
    "exp = qc.new_experiment('IV vs power dependence', sample_name='IV vs PD_5.226_By:-8mT')\n",
    "\n",
    "#do1d(param_set, start, stop, num_points, delay, *param_meas)\n",
    "\n",
    "dataid = do2d(SGS.power,-25, 10, 101, 20, appl_current,-2e-7 ,2e-7, 101, 0.05, meas_voltage_K2)\n",
    "# dataid = do1d(appl_current, 6e-6 , -6e-6, 251, 0.01, meas_voltage_K1)\n",
    "# ivvi.set_dacs_zero()\n",
    "\n",
    "SGS.off()\n",
    "appl_current(0)\n",
    "K2440.output()\n",
    "plot_by_id(dataid)\n",
    "\n",
    "# print(get_R_from_IV(dataid))\n",
    "print(get_R_from_IV_2(dataid))"
   ]
  },
  {
   "cell_type": "markdown",
   "id": "13e12840",
   "metadata": {},
   "source": [
    "### PD vs frequency_IV loop (not yet)"
   ]
  },
  {
   "cell_type": "code",
   "execution_count": null,
   "id": "8659ae09",
   "metadata": {
    "code_folding": []
   },
   "outputs": [],
   "source": [
    "frequencies = [3.248, 3.387, 5.677]\n",
    "power_levels = [-20, 0, 25]\n",
    "     \n",
    "SGS.off()\n",
    "SGS.power(-20)\n",
    "SGS.frequency(3.387e9)\n",
    "SGS.on()\n",
    "DMM6500.averaging_count(5)\n",
    "DMM6500.averaging_enabled(True)\n",
    "K2440.output(1)\n",
    "\n",
    "appl_current(-2e-6)\n",
    "#appl_TG(-10)\n",
    "sleep(1)\n",
    "\n",
    "for freq in frequencies:\n",
    "    SGS.frequency(freq)\n",
    "    for power_level in power_levels:\n",
    "        SGS.power(power_level)\n",
    "\n",
    "# station.snapshot(update=True);\n",
    "exp = qc.new_experiment('IV vs power dependence', sample_name='IV vs PD_J2_3.387_m20')\n",
    "dataid = do2d(SGS.power, 4, 8, 100, 2, appl_current, -1e-6, 1e-6, 101, 0.05, meas_voltage_K2)\n",
    "\n",
    " # 關閉設備，並在需要時列印或繪製結果\n",
    "SGS.off()\n",
    "appl_current(0)\n",
    "K2440.output()\n",
    "plot_by_id(dataid)\n",
    "    \n",
    "print(f\"頻率：{freq} Hz，功率水平：{power_level} dB\")\n",
    "print(get_R_from_IV_2(dataid))\n"
   ]
  },
  {
   "cell_type": "markdown",
   "id": "5c2101a5",
   "metadata": {},
   "source": [
    "## IV vs Vgate"
   ]
  },
  {
   "cell_type": "code",
   "execution_count": null,
   "id": "48eb3a89",
   "metadata": {},
   "outputs": [],
   "source": [
    "appl_current(0)\n",
    "appl_TG(0)\n",
    "magnet_y.field(0)\n",
    "sleep(10)\n",
    "magnet_x.field(0)\n",
    "sleep(10)\n",
    "appl_voltage_AC(0.004)\n",
    "SGS.off()"
   ]
  },
  {
   "cell_type": "code",
   "execution_count": null,
   "id": "5deaef19",
   "metadata": {},
   "outputs": [],
   "source": [
    "SGS.off()\n",
    "SGS.power(25)\n",
    "SGS.frequency(4.83e9)\n",
    "SGS.on()\n",
    "DMM6500.averaging_count(5)\n",
    "DMM6500.averaging_enabled(True)\n",
    "appl_current(-0.4e-7)\n",
    "appl_current_AC(0.1e-10)\n",
    "\n",
    "appl_TG(-10)\n",
    "sleep(1)\n",
    "\n",
    "# station.snapshot(update=True);\n",
    "exp = qc.new_experiment('IV vs Vgate', sample_name='IV vs Vg')\n",
    "\n",
    "dataid = do2d(appl_TG, -10, 10, 751, 0.5, appl_current, -0.4e-7, 0.4e-7, 101, 0.01, meas_voltage_AC_L1, meas_voltage_AC_L1_P, meas_voltage_K2)\n",
    "# dataid = do1d(appl_current, 6e-6 , -6e-6, 251, 0.01, meas_voltage_K1)\n",
    "# ivvi.set_dacs_zero()\n",
    "SGS.off()\n",
    "appl_current(0)\n",
    "plot_by_id(dataid)\n",
    "# print(get_R_from_IV(dataid))\n",
    "#print(get_R_from_IV_2(dataid))"
   ]
  },
  {
   "cell_type": "code",
   "execution_count": null,
   "id": "6bbd39fb",
   "metadata": {},
   "outputs": [],
   "source": [
    "appl_current(0)\n",
    "appl_TG(0)\n",
    "magnet_y.field(0)\n",
    "sleep(10)\n",
    "magnet_x.field(0)\n",
    "sleep(10)\n",
    "appl_voltage_AC(0.004)\n",
    "SGS.off()"
   ]
  },
  {
   "cell_type": "code",
   "execution_count": null,
   "id": "00d4b770",
   "metadata": {},
   "outputs": [],
   "source": [
    "import matplotlib.pyplot as plt\n",
    "import numpy as np\n",
    "\n",
    "# Constants\n",
    "k = 8.617333262145e-5  # Boltzmann constant in eV/K\n",
    "E_a = 0.5  # Example value for the activation energy in eV\n",
    "p_0 = 1.0  # Example value for p0\n",
    "\n",
    "# Create an array of temperatures from 100 to 1000 K\n",
    "temperatures = np.linspace(100, 1000, 50)\n",
    "\n",
    "# Calculate 1/T\n",
    "inverse_temperatures = 1 / temperatures\n",
    "\n",
    "# Calculate ln(p)\n",
    "ln_p = np.log(p_0) - (E_a / k) * inverse_temperatures\n",
    "\n",
    "# Plotting\n",
    "plt.figure(figsize=(8, 6))\n",
    "plt.plot(inverse_temperatures, ln_p, marker='o', linestyle='-')\n",
    "plt.xlabel('1/T (1/K)')\n",
    "plt.ylabel('ln(p)')\n",
    "plt.title('ln(p) vs 1/T for Hole Concentration')\n",
    "plt.grid(True)\n",
    "plt.show()\n"
   ]
  },
  {
   "cell_type": "code",
   "execution_count": null,
   "id": "f610e7bc",
   "metadata": {},
   "outputs": [],
   "source": []
  }
 ],
 "metadata": {
  "kernelspec": {
   "display_name": "qcodes",
   "language": "python",
   "name": "python3"
  },
  "language_info": {
   "codemirror_mode": {
    "name": "ipython",
    "version": 3
   },
   "file_extension": ".py",
   "mimetype": "text/x-python",
   "name": "python",
   "nbconvert_exporter": "python",
   "pygments_lexer": "ipython3",
   "version": "3.11.3"
  },
  "toc": {
   "base_numbering": 1,
   "nav_menu": {},
   "number_sections": true,
   "sideBar": false,
   "skip_h1_title": false,
   "title_cell": "Table of Contents",
   "title_sidebar": "Contents",
   "toc_cell": false,
   "toc_position": {
    "height": "783px",
    "left": "260px",
    "top": "67.125px",
    "width": "182px"
   },
   "toc_section_display": true,
   "toc_window_display": true
  }
 },
 "nbformat": 4,
 "nbformat_minor": 5
}
