{
 "cells": [
  {
   "cell_type": "markdown",
   "id": "256e0f19",
   "metadata": {},
   "source": [
    "# Initialization"
   ]
  },
  {
   "cell_type": "markdown",
   "id": "9d160fe4",
   "metadata": {},
   "source": [
    "## Inport modules"
   ]
  },
  {
   "cell_type": "code",
   "execution_count": 1,
   "id": "88979d6d",
   "metadata": {},
   "outputs": [
    {
     "name": "stdout",
     "output_type": "stream",
     "text": [
      "Imported all modules, QCoDeS version: 0.39.0 initialized\n"
     ]
    }
   ],
   "source": [
    "%matplotlib ipympl\n",
    "import os, sys\n",
    "import time\n",
    "import pyvisa\n",
    "import warnings\n",
    "import numpy as np\n",
    "import qcodes as qc\n",
    "import plotly.graph_objects as go\n",
    "import matplotlib.pyplot as plt\n",
    "\n",
    "def find_qcodes_local_dir():\n",
    "    dirpath = os.getcwd()\n",
    "    while True:\n",
    "        dirpath, folder_name = os.path.split(dirpath)\n",
    "        if folder_name == 'QCoDeS_local':\n",
    "            return os.path.join(dirpath, folder_name)\n",
    "        if not folder_name:  # Reached the root directory\n",
    "            return None\n",
    "qcodes_local_dir = find_qcodes_local_dir()\n",
    "sys.path.append(f'{qcodes_local_dir}')\n",
    "\n",
    "from tqdm import tqdm\n",
    "from pprint import pprint\n",
    "from time import sleep, monotonic, time\n",
    "from IPython.display import clear_output\n",
    "from qcodes.dataset.measurements import Measurement\n",
    "from qcodes.utils.metadata import diff_param_values\n",
    "from qcodes.dataset.plotting import plot_dataset, plot_by_id\n",
    "from qcodes import Parameter, ManualParameter, ScaledParameter\n",
    "from qcodes.instrument.specialized_parameters import ElapsedTimeParameter\n",
    "from sweeps_v2 import do1d, do2d, time_sweep, measure_until, do1d_until\n",
    "\n",
    "print('Imported all modules, QCoDeS version:', qc.__version__, 'initialized')\n",
    "\n",
    "# warnings.filterwarnings('ignore')"
   ]
  },
  {
   "cell_type": "code",
   "execution_count": 2,
   "id": "399e7806",
   "metadata": {},
   "outputs": [],
   "source": [
    "def find_qcodes_local_dir():\n",
    "    dirpath = os.getcwd()\n",
    "    while True:\n",
    "        dirpath, folder_name = os.path.split(dirpath)\n",
    "        if folder_name == 'QCoDeS_local':\n",
    "            return os.path.join(dirpath, folder_name)\n",
    "        if not folder_name:  # Reached the root directory\n",
    "            return None\n",
    "qcodes_local_dir = find_qcodes_local_dir()"
   ]
  },
  {
   "cell_type": "code",
   "execution_count": 3,
   "id": "fff9a7bd",
   "metadata": {},
   "outputs": [
    {
     "data": {
      "text/plain": [
       "'c:\\\\Users\\\\quant\\\\OneDrive\\\\Documents\\\\GitHub\\\\QCoDeS_local'"
      ]
     },
     "execution_count": 3,
     "metadata": {},
     "output_type": "execute_result"
    }
   ],
   "source": [
    "qcodes_local_dir"
   ]
  },
  {
   "cell_type": "code",
   "execution_count": 4,
   "id": "64ad1e6c",
   "metadata": {},
   "outputs": [
    {
     "data": {
      "text/plain": [
       "'c:\\\\Users\\\\quant\\\\OneDrive\\\\Documents\\\\GitHub\\\\QCoDeS_local\\\\init_fridge.py'"
      ]
     },
     "execution_count": 4,
     "metadata": {},
     "output_type": "execute_result"
    }
   ],
   "source": [
    "def find_init_fridge_py():\n",
    "    for root, dirs, files in os.walk(qcodes_local_dir):\n",
    "        if 'init_fridge.py' in files:\n",
    "            return os.path.join(root, 'init_fridge.py')\n",
    "    return None\n",
    "\n",
    "init_fridge_py_path = find_init_fridge_py()\n",
    "init_fridge_py_path"
   ]
  },
  {
   "cell_type": "code",
   "execution_count": 5,
   "id": "cc4a1c10",
   "metadata": {},
   "outputs": [
    {
     "data": {
      "text/plain": [
       "'c:\\\\Users\\\\quant\\\\OneDrive\\\\Documents\\\\GitHub\\\\QCoDeS_local\\\\init_fridge_v2.py'"
      ]
     },
     "execution_count": 5,
     "metadata": {},
     "output_type": "execute_result"
    }
   ],
   "source": [
    "def find_init_fridge_v2_py():\n",
    "    for root, dirs, files in os.walk(qcodes_local_dir):\n",
    "        if 'init_fridge_v2.py' in files:\n",
    "            return os.path.join(root, 'init_fridge_v2.py')\n",
    "    return None\n",
    "\n",
    "init_fridge_v2_py_path = find_init_fridge_v2_py()\n",
    "init_fridge_v2_py_path"
   ]
  },
  {
   "cell_type": "code",
   "execution_count": 6,
   "id": "c09fa82c",
   "metadata": {},
   "outputs": [
    {
     "name": "stderr",
     "output_type": "stream",
     "text": [
      "[keithley_24(Keithley2400)] Snapshot: Could not update parameter: volt\n",
      "[keithley_24(Keithley2400)] Snapshot: Could not update parameter: curr\n"
     ]
    },
    {
     "name": "stdout",
     "output_type": "stream",
     "text": [
      "Connected to: KEITHLEY INSTRUMENTS DMM6500 (serial:04518052, firmware:1.7.7b) in 0.12s\n",
      "Connected to: KEITHLEY INSTRUMENTS INC. 2440 (serial:1225508, firmware:C30   Mar 17 2006 09:29:29/A02  /B/A) in 0.03s\n"
     ]
    },
    {
     "name": "stderr",
     "output_type": "stream",
     "text": [
      "[keithley_24(Keithley2400)] Snapshot: Could not update parameter: resistance\n"
     ]
    }
   ],
   "source": [
    "fridge_name = 'BF1'\n",
    "%run \"{init_fridge_py_path}\" {fridge_name}"
   ]
  },
  {
   "cell_type": "code",
   "execution_count": 7,
   "id": "bb19a743",
   "metadata": {},
   "outputs": [
    {
     "name": "stdout",
     "output_type": "stream",
     "text": [
      "Found init_BF1_v2.py at: c:\\Users\\quant\\OneDrive\\Documents\\GitHub\\QCoDeS_local\\fridge_specific\\init_BF1_v2.py\n",
      "Error connecting to TCPIP0::192.168.1.42::inst0::INSTR: VI_ERROR_RSRC_NFOUND (-1073807343): Insufficient location information or the requested device or resource is not present in the system.\n",
      "Error connecting to TCPIP0::192.168.1.42::inst1::INSTR: VI_ERROR_RSRC_NFOUND (-1073807343): Insufficient location information or the requested device or resource is not present in the system.\n",
      "Error connecting to TCPIP0::192.168.1.6::inst0::INSTR: VI_ERROR_RSRC_NFOUND (-1073807343): Insufficient location information or the requested device or resource is not present in the system.\n",
      "Error connecting to TCPIP0::192.168.1.7::inst0::INSTR: VI_ERROR_RSRC_NFOUND (-1073807343): Insufficient location information or the requested device or resource is not present in the system.\n",
      "Error connecting to TCPIP0::ZNB20-64-101393::inst0::INSTR: VI_ERROR_RSRC_NFOUND (-1073807343): Insufficient location information or the requested device or resource is not present in the system.\n",
      "Device: TCPIP0::K-E5080B-02870.local::hislip0::INSTR\n",
      "IDN: Keysight Technologies,E5080B,MY59202870,A.15.10.08\n",
      "\n",
      "Device: TCPIP0::K-E5080B-02870.local::inst0::INSTR\n",
      "IDN: Keysight Technologies,E5080B,MY59202870,A.15.10.08\n",
      "\n",
      "Error connecting to ASRL1::INSTR: VI_ERROR_TMO (-1073807339): Timeout expired before operation completed.\n",
      "Error connecting to ASRL2::INSTR: VI_ERROR_TMO (-1073807339): Timeout expired before operation completed.\n",
      "Error connecting to ASRL10::INSTR: VI_ERROR_TMO (-1073807339): Timeout expired before operation completed.\n",
      "Device: GPIB0::6::INSTR\n",
      "IDN: KEITHLEY INSTRUMENTS,MODEL DMM6500,04518052,1.7.7b\n",
      "\n",
      "Connected to: KEITHLEY INSTRUMENTS DMM6500 (serial:04518052, firmware:1.7.7b) in 0.02s\n",
      "Added Keithley DMM6500 at GPIB0::6::INSTR to the station.\n",
      "Device: GPIB0::19::INSTR\n",
      "IDN: KEITHLEY INSTRUMENTS INC.,MODEL 2400,0957985,C32   Oct  4 2010 14:20:11/A02  /K/M\n",
      "\n",
      "Connected to: KEITHLEY INSTRUMENTS INC. 2400 (serial:0957985, firmware:C32   Oct  4 2010 14:20:11/A02  /K/M) in 0.03s\n"
     ]
    },
    {
     "name": "stderr",
     "output_type": "stream",
     "text": [
      "[K2400(Keithley2400)] Snapshot: Could not update parameter: volt\n",
      "[K2400(Keithley2400)] Snapshot: Could not update parameter: curr\n",
      "[K2400(Keithley2400)] Snapshot: Could not update parameter: resistance\n",
      "[K2440(Keithley2400)] Snapshot: Could not update parameter: volt\n",
      "[K2440(Keithley2400)] Snapshot: Could not update parameter: curr\n",
      "[K2440(Keithley2400)] Snapshot: Could not update parameter: resistance\n"
     ]
    },
    {
     "name": "stdout",
     "output_type": "stream",
     "text": [
      "Device: GPIB0::22::INSTR\n",
      "IDN: KEITHLEY INSTRUMENTS INC.,MODEL 2440,1225508,C30   Mar 17 2006 09:29:29/A02  /B/A\n",
      "\n",
      "Connected to: KEITHLEY INSTRUMENTS INC. 2440 (serial:1225508, firmware:C30   Mar 17 2006 09:29:29/A02  /B/A) in 0.03s\n",
      "Failed to ping 169.254.115.3: [WinError 10049] The requested address is not valid in its context\n",
      "Failed to ping 169.254.115.2: [WinError 10049] The requested address is not valid in its context\n",
      "Failed to ping 169.254.115.1: [WinError 10049] The requested address is not valid in its context\n",
      "One or more pings failed, cannot establish connection to all magnets.\n",
      "\n",
      "Station list:\n",
      "{'DMM6500': <Keithley_6500: DMM6500>,\n",
      " 'K2400': <Keithley2400: K2400>,\n",
      " 'K2440': <Keithley2400: K2440>}\n"
     ]
    }
   ],
   "source": [
    "fridge_name = 'BF1'\n",
    "%run \"{init_fridge_v2_py_path}\" {fridge_name}"
   ]
  },
  {
   "cell_type": "code",
   "execution_count": 8,
   "id": "c9e134aa",
   "metadata": {},
   "outputs": [
    {
     "name": "stdout",
     "output_type": "stream",
     "text": [
      "{'components': {},\n",
      " 'config': None,\n",
      " 'instruments': {'DMM6500': {'__class__': 'qcodes.instrument_drivers.tektronix.Keithley_6500.Keithley_6500',\n",
      "                             'address': 'GPIB0::6::INSTR',\n",
      "                             'functions': {},\n",
      "                             'label': 'DMM6500',\n",
      "                             'name': 'DMM6500',\n",
      "                             'parameters': {'IDN': {'__class__': 'qcodes.parameters.parameter.Parameter',\n",
      "                                                    'full_name': 'DMM6500_IDN',\n",
      "                                                    'instrument': 'qcodes.instrument_drivers.tektronix.Keithley_6500.Keithley_6500',\n",
      "                                                    'instrument_name': 'DMM6500',\n",
      "                                                    'inter_delay': 0,\n",
      "                                                    'label': 'IDN',\n",
      "                                                    'name': 'IDN',\n",
      "                                                    'post_delay': 0,\n",
      "                                                    'raw_value': {'firmware': '1.7.7b',\n",
      "                                                                  'model': 'DMM6500',\n",
      "                                                                  'serial': '04518052',\n",
      "                                                                  'vendor': 'KEITHLEY '\n",
      "                                                                            'INSTRUMENTS'},\n",
      "                                                    'ts': '2024-12-26 15:49:30',\n",
      "                                                    'unit': '',\n",
      "                                                    'vals': '<Anything>',\n",
      "                                                    'value': {'firmware': '1.7.7b',\n",
      "                                                              'model': 'DMM6500',\n",
      "                                                              'serial': '04518052',\n",
      "                                                              'vendor': 'KEITHLEY '\n",
      "                                                                        'INSTRUMENTS'}},\n",
      "                                            'amplitude': {'__class__': 'qcodes.parameters.parameter.Parameter',\n",
      "                                                          'full_name': 'DMM6500_amplitude',\n",
      "                                                          'instrument': 'qcodes.instrument_drivers.tektronix.Keithley_6500.Keithley_6500',\n",
      "                                                          'instrument_name': 'DMM6500',\n",
      "                                                          'inter_delay': 0,\n",
      "                                                          'label': 'amplitude',\n",
      "                                                          'name': 'amplitude',\n",
      "                                                          'post_delay': 0,\n",
      "                                                          'raw_value': 3.678435e-05,\n",
      "                                                          'ts': '2024-12-26 '\n",
      "                                                                '15:49:31',\n",
      "                                                          'unit': 'a.u.',\n",
      "                                                          'value': 3.678435e-05},\n",
      "                                            'auto_range_enabled': {'__class__': 'qcodes.parameters.parameter.Parameter',\n",
      "                                                                   'full_name': 'DMM6500_auto_range_enabled',\n",
      "                                                                   'instrument': 'qcodes.instrument_drivers.tektronix.Keithley_6500.Keithley_6500',\n",
      "                                                                   'instrument_name': 'DMM6500',\n",
      "                                                                   'inter_delay': 0,\n",
      "                                                                   'label': 'auto_range_enabled',\n",
      "                                                                   'name': 'auto_range_enabled',\n",
      "                                                                   'post_delay': 0,\n",
      "                                                                   'raw_value': True,\n",
      "                                                                   'ts': '2024-12-26 '\n",
      "                                                                         '15:49:30',\n",
      "                                                                   'unit': '',\n",
      "                                                                   'vals': '<Boolean>',\n",
      "                                                                   'value': True},\n",
      "                                            'averaging_count': {'__class__': 'qcodes.parameters.parameter.Parameter',\n",
      "                                                                'full_name': 'DMM6500_averaging_count',\n",
      "                                                                'instrument': 'qcodes.instrument_drivers.tektronix.Keithley_6500.Keithley_6500',\n",
      "                                                                'instrument_name': 'DMM6500',\n",
      "                                                                'inter_delay': 0,\n",
      "                                                                'label': 'averaging_count',\n",
      "                                                                'name': 'averaging_count',\n",
      "                                                                'post_delay': 0,\n",
      "                                                                'raw_value': 10,\n",
      "                                                                'ts': '2024-12-26 '\n",
      "                                                                      '15:49:30',\n",
      "                                                                'unit': '',\n",
      "                                                                'vals': '<Ints '\n",
      "                                                                        '1<=v<=100>',\n",
      "                                                                'value': 10},\n",
      "                                            'averaging_enabled': {'__class__': 'qcodes.parameters.parameter.Parameter',\n",
      "                                                                  'full_name': 'DMM6500_averaging_enabled',\n",
      "                                                                  'instrument': 'qcodes.instrument_drivers.tektronix.Keithley_6500.Keithley_6500',\n",
      "                                                                  'instrument_name': 'DMM6500',\n",
      "                                                                  'inter_delay': 0,\n",
      "                                                                  'label': 'averaging_enabled',\n",
      "                                                                  'name': 'averaging_enabled',\n",
      "                                                                  'post_delay': 0,\n",
      "                                                                  'raw_value': True,\n",
      "                                                                  'ts': '2024-12-26 '\n",
      "                                                                        '15:49:31',\n",
      "                                                                  'unit': '',\n",
      "                                                                  'vals': '<Boolean>',\n",
      "                                                                  'value': True},\n",
      "                                            'averaging_type': {'__class__': 'qcodes.parameters.parameter.Parameter',\n",
      "                                                               'full_name': 'DMM6500_averaging_type',\n",
      "                                                               'instrument': 'qcodes.instrument_drivers.tektronix.Keithley_6500.Keithley_6500',\n",
      "                                                               'instrument_name': 'DMM6500',\n",
      "                                                               'inter_delay': 0,\n",
      "                                                               'label': 'averaging_type',\n",
      "                                                               'name': 'averaging_type',\n",
      "                                                               'post_delay': 0,\n",
      "                                                               'raw_value': 'repeat',\n",
      "                                                               'ts': '2024-12-26 '\n",
      "                                                                     '15:49:30',\n",
      "                                                               'unit': '',\n",
      "                                                               'vals': '<Enum: '\n",
      "                                                                       \"{'repeat', \"\n",
      "                                                                       \"'moving'}>\",\n",
      "                                                               'value': 'repeat'},\n",
      "                                            'digits': {'__class__': 'qcodes.parameters.parameter.Parameter',\n",
      "                                                       'full_name': 'DMM6500_digits',\n",
      "                                                       'instrument': 'qcodes.instrument_drivers.tektronix.Keithley_6500.Keithley_6500',\n",
      "                                                       'instrument_name': 'DMM6500',\n",
      "                                                       'inter_delay': 0,\n",
      "                                                       'label': 'digits',\n",
      "                                                       'name': 'digits',\n",
      "                                                       'post_delay': 0,\n",
      "                                                       'raw_value': '6',\n",
      "                                                       'ts': '2024-12-26 '\n",
      "                                                             '15:49:30',\n",
      "                                                       'unit': '',\n",
      "                                                       'vals': '<Ints 4<=v<=7>',\n",
      "                                                       'value': 6},\n",
      "                                            'display_backlight': {'__class__': 'qcodes.parameters.parameter.Parameter',\n",
      "                                                                  'full_name': 'DMM6500_display_backlight',\n",
      "                                                                  'instrument': 'qcodes.instrument_drivers.tektronix.Keithley_6500.Keithley_6500',\n",
      "                                                                  'instrument_name': 'DMM6500',\n",
      "                                                                  'inter_delay': 0,\n",
      "                                                                  'label': 'display_backlight',\n",
      "                                                                  'name': 'display_backlight',\n",
      "                                                                  'post_delay': 0,\n",
      "                                                                  'raw_value': 'ON50',\n",
      "                                                                  'ts': '2024-12-26 '\n",
      "                                                                        '15:49:31',\n",
      "                                                                  'unit': '',\n",
      "                                                                  'val_mapping': {'Blackout': 'BLACkout',\n",
      "                                                                                  'Off': 'OFF',\n",
      "                                                                                  'On 100': 'ON100',\n",
      "                                                                                  'On 25': 'ON25',\n",
      "                                                                                  'On 50': 'ON50',\n",
      "                                                                                  'On 75': 'ON75'},\n",
      "                                                                  'vals': '<Enum: '\n",
      "                                                                          \"{'On \"\n",
      "                                                                          \"50', \"\n",
      "                                                                          \"'On \"\n",
      "                                                                          \"75', \"\n",
      "                                                                          \"'Off', \"\n",
      "                                                                          \"'On \"\n",
      "                                                                          \"100', \"\n",
      "                                                                          \"'On \"\n",
      "                                                                          \"25', \"\n",
      "                                                                          \"'Blackout'}>\",\n",
      "                                                                  'value': 'On '\n",
      "                                                                           '50'},\n",
      "                                            'mode': {'__class__': 'qcodes.parameters.parameter.Parameter',\n",
      "                                                     'full_name': 'DMM6500_mode',\n",
      "                                                     'instrument': 'qcodes.instrument_drivers.tektronix.Keithley_6500.Keithley_6500',\n",
      "                                                     'instrument_name': 'DMM6500',\n",
      "                                                     'inter_delay': 0,\n",
      "                                                     'label': 'mode',\n",
      "                                                     'name': 'mode',\n",
      "                                                     'post_delay': 0,\n",
      "                                                     'raw_value': 'VOLT:DC',\n",
      "                                                     'ts': '2024-12-26 '\n",
      "                                                           '15:49:30',\n",
      "                                                     'unit': '',\n",
      "                                                     'val_mapping': {'2w resistance': 'RES',\n",
      "                                                                     '4w resistance': 'FRES',\n",
      "                                                                     'ac current': 'CURR:AC',\n",
      "                                                                     'ac voltage': 'VOLT:AC',\n",
      "                                                                     'dc current': 'CURR:DC',\n",
      "                                                                     'dc voltage': 'VOLT:DC',\n",
      "                                                                     'frequency': 'FREQ',\n",
      "                                                                     'temperature': 'TEMP'},\n",
      "                                                     'vals': \"<Enum: {'2w \"\n",
      "                                                             \"resistance', 'ac \"\n",
      "                                                             \"voltage', 'dc \"\n",
      "                                                             \"voltage', 'dc \"\n",
      "                                                             \"current', \"\n",
      "                                                             \"'temperature', \"\n",
      "                                                             \"'ac current', \"\n",
      "                                                             \"'frequency', '4w \"\n",
      "                                                             \"resistance'}>\",\n",
      "                                                     'value': 'dc voltage'},\n",
      "                                            'nplc': {'__class__': 'qcodes.parameters.parameter.Parameter',\n",
      "                                                     'full_name': 'DMM6500_nplc',\n",
      "                                                     'instrument': 'qcodes.instrument_drivers.tektronix.Keithley_6500.Keithley_6500',\n",
      "                                                     'instrument_name': 'DMM6500',\n",
      "                                                     'inter_delay': 0,\n",
      "                                                     'label': 'nplc',\n",
      "                                                     'name': 'nplc',\n",
      "                                                     'post_delay': 0,\n",
      "                                                     'raw_value': 1.0,\n",
      "                                                     'ts': '2024-12-26 '\n",
      "                                                           '15:49:30',\n",
      "                                                     'unit': '',\n",
      "                                                     'vals': '<Numbers '\n",
      "                                                             '0.01<=v<=10>',\n",
      "                                                     'value': 1.0},\n",
      "                                            'range': {'__class__': 'qcodes.parameters.parameter.Parameter',\n",
      "                                                      'full_name': 'DMM6500_range',\n",
      "                                                      'instrument': 'qcodes.instrument_drivers.tektronix.Keithley_6500.Keithley_6500',\n",
      "                                                      'instrument_name': 'DMM6500',\n",
      "                                                      'inter_delay': 0,\n",
      "                                                      'label': 'range',\n",
      "                                                      'name': 'range',\n",
      "                                                      'post_delay': 0,\n",
      "                                                      'raw_value': 0.1,\n",
      "                                                      'ts': '2024-12-26 '\n",
      "                                                            '15:49:30',\n",
      "                                                      'unit': '',\n",
      "                                                      'vals': '<Numbers>',\n",
      "                                                      'value': 0.1},\n",
      "                                            'timeout': {'__class__': 'qcodes.parameters.parameter.Parameter',\n",
      "                                                        'full_name': 'DMM6500_timeout',\n",
      "                                                        'instrument': 'qcodes.instrument_drivers.tektronix.Keithley_6500.Keithley_6500',\n",
      "                                                        'instrument_name': 'DMM6500',\n",
      "                                                        'inter_delay': 0,\n",
      "                                                        'label': 'timeout',\n",
      "                                                        'name': 'timeout',\n",
      "                                                        'post_delay': 0,\n",
      "                                                        'raw_value': 10.0,\n",
      "                                                        'ts': '2024-12-26 '\n",
      "                                                              '15:49:31',\n",
      "                                                        'unit': 's',\n",
      "                                                        'vals': '<MultiType: '\n",
      "                                                                'Numbers v>=0, '\n",
      "                                                                'Enum: {None}>',\n",
      "                                                        'value': 10.0},\n",
      "                                            'trigger1_delay': {'__class__': 'qcodes.parameters.parameter.Parameter',\n",
      "                                                               'full_name': 'DMM6500_trigger1_delay',\n",
      "                                                               'instrument': 'qcodes.instrument_drivers.tektronix.Keithley_6500.Keithley_6500',\n",
      "                                                               'instrument_name': 'DMM6500',\n",
      "                                                               'inter_delay': 0,\n",
      "                                                               'label': 'trigger1_delay',\n",
      "                                                               'name': 'trigger1_delay',\n",
      "                                                               'post_delay': 0,\n",
      "                                                               'raw_value': '1E-05',\n",
      "                                                               'ts': '2024-12-26 '\n",
      "                                                                     '15:49:31',\n",
      "                                                               'unit': 's',\n",
      "                                                               'vals': '<Numbers '\n",
      "                                                                       '0<=v<=999999.999>',\n",
      "                                                               'value': 1e-05},\n",
      "                                            'trigger1_source': {'__class__': 'qcodes.parameters.parameter.Parameter',\n",
      "                                                                'full_name': 'DMM6500_trigger1_source',\n",
      "                                                                'instrument': 'qcodes.instrument_drivers.tektronix.Keithley_6500.Keithley_6500',\n",
      "                                                                'instrument_name': 'DMM6500',\n",
      "                                                                'inter_delay': 0,\n",
      "                                                                'label': 'trigger1_source',\n",
      "                                                                'name': 'trigger1_source',\n",
      "                                                                'post_delay': 0,\n",
      "                                                                'raw_value': 'NONE',\n",
      "                                                                'ts': '2024-12-26 '\n",
      "                                                                      '15:49:31',\n",
      "                                                                'unit': '',\n",
      "                                                                'val_mapping': {'bus': 'COMM',\n",
      "                                                                                'external': 'EXT',\n",
      "                                                                                'front-panel': 'DISP',\n",
      "                                                                                'immediate': 'NONE',\n",
      "                                                                                'notify1': 'NOT1',\n",
      "                                                                                'notify2': 'NOT2',\n",
      "                                                                                'notify3': 'NOT3',\n",
      "                                                                                'timer1': 'TIM1',\n",
      "                                                                                'timer2': 'TIM2',\n",
      "                                                                                'timer3': 'TIM3',\n",
      "                                                                                'timer4': 'TIM4'},\n",
      "                                                                'vals': '<Enum: '\n",
      "                                                                        \"{'timer2', \"\n",
      "                                                                        \"'immediate', \"\n",
      "                                                                        \"'timer3', \"\n",
      "                                                                        \"'timer1', \"\n",
      "                                                                        \"'notify3', \"\n",
      "                                                                        \"'front-panel', \"\n",
      "                                                                        \"'notify1', \"\n",
      "                                                                        \"'external', \"\n",
      "                                                                        \"'notify2', \"\n",
      "                                                                        \"'bus', \"\n",
      "                                                                        \"'timer4'}>\",\n",
      "                                                                'value': 'immediate'},\n",
      "                                            'trigger2_delay': {'__class__': 'qcodes.parameters.parameter.Parameter',\n",
      "                                                               'full_name': 'DMM6500_trigger2_delay',\n",
      "                                                               'instrument': 'qcodes.instrument_drivers.tektronix.Keithley_6500.Keithley_6500',\n",
      "                                                               'instrument_name': 'DMM6500',\n",
      "                                                               'inter_delay': 0,\n",
      "                                                               'label': 'trigger2_delay',\n",
      "                                                               'name': 'trigger2_delay',\n",
      "                                                               'post_delay': 0,\n",
      "                                                               'raw_value': '1E-05',\n",
      "                                                               'ts': '2024-12-26 '\n",
      "                                                                     '15:49:31',\n",
      "                                                               'unit': 's',\n",
      "                                                               'vals': '<Numbers '\n",
      "                                                                       '0<=v<=999999.999>',\n",
      "                                                               'value': 1e-05},\n",
      "                                            'trigger2_source': {'__class__': 'qcodes.parameters.parameter.Parameter',\n",
      "                                                                'full_name': 'DMM6500_trigger2_source',\n",
      "                                                                'instrument': 'qcodes.instrument_drivers.tektronix.Keithley_6500.Keithley_6500',\n",
      "                                                                'instrument_name': 'DMM6500',\n",
      "                                                                'inter_delay': 0,\n",
      "                                                                'label': 'trigger2_source',\n",
      "                                                                'name': 'trigger2_source',\n",
      "                                                                'post_delay': 0,\n",
      "                                                                'raw_value': 'NONE',\n",
      "                                                                'ts': '2024-12-26 '\n",
      "                                                                      '15:49:31',\n",
      "                                                                'unit': '',\n",
      "                                                                'val_mapping': {'bus': 'COMM',\n",
      "                                                                                'external': 'EXT',\n",
      "                                                                                'front-panel': 'DISP',\n",
      "                                                                                'immediate': 'NONE',\n",
      "                                                                                'notify1': 'NOT1',\n",
      "                                                                                'notify2': 'NOT2',\n",
      "                                                                                'notify3': 'NOT3',\n",
      "                                                                                'timer1': 'TIM1',\n",
      "                                                                                'timer2': 'TIM2',\n",
      "                                                                                'timer3': 'TIM3',\n",
      "                                                                                'timer4': 'TIM4'},\n",
      "                                                                'vals': '<Enum: '\n",
      "                                                                        \"{'timer2', \"\n",
      "                                                                        \"'immediate', \"\n",
      "                                                                        \"'timer3', \"\n",
      "                                                                        \"'timer1', \"\n",
      "                                                                        \"'notify3', \"\n",
      "                                                                        \"'front-panel', \"\n",
      "                                                                        \"'notify1', \"\n",
      "                                                                        \"'external', \"\n",
      "                                                                        \"'notify2', \"\n",
      "                                                                        \"'bus', \"\n",
      "                                                                        \"'timer4'}>\",\n",
      "                                                                'value': 'immediate'},\n",
      "                                            'trigger3_delay': {'__class__': 'qcodes.parameters.parameter.Parameter',\n",
      "                                                               'full_name': 'DMM6500_trigger3_delay',\n",
      "                                                               'instrument': 'qcodes.instrument_drivers.tektronix.Keithley_6500.Keithley_6500',\n",
      "                                                               'instrument_name': 'DMM6500',\n",
      "                                                               'inter_delay': 0,\n",
      "                                                               'label': 'trigger3_delay',\n",
      "                                                               'name': 'trigger3_delay',\n",
      "                                                               'post_delay': 0,\n",
      "                                                               'raw_value': '1E-05',\n",
      "                                                               'ts': '2024-12-26 '\n",
      "                                                                     '15:49:31',\n",
      "                                                               'unit': 's',\n",
      "                                                               'vals': '<Numbers '\n",
      "                                                                       '0<=v<=999999.999>',\n",
      "                                                               'value': 1e-05},\n",
      "                                            'trigger3_source': {'__class__': 'qcodes.parameters.parameter.Parameter',\n",
      "                                                                'full_name': 'DMM6500_trigger3_source',\n",
      "                                                                'instrument': 'qcodes.instrument_drivers.tektronix.Keithley_6500.Keithley_6500',\n",
      "                                                                'instrument_name': 'DMM6500',\n",
      "                                                                'inter_delay': 0,\n",
      "                                                                'label': 'trigger3_source',\n",
      "                                                                'name': 'trigger3_source',\n",
      "                                                                'post_delay': 0,\n",
      "                                                                'raw_value': 'NONE',\n",
      "                                                                'ts': '2024-12-26 '\n",
      "                                                                      '15:49:31',\n",
      "                                                                'unit': '',\n",
      "                                                                'val_mapping': {'bus': 'COMM',\n",
      "                                                                                'external': 'EXT',\n",
      "                                                                                'front-panel': 'DISP',\n",
      "                                                                                'immediate': 'NONE',\n",
      "                                                                                'notify1': 'NOT1',\n",
      "                                                                                'notify2': 'NOT2',\n",
      "                                                                                'notify3': 'NOT3',\n",
      "                                                                                'timer1': 'TIM1',\n",
      "                                                                                'timer2': 'TIM2',\n",
      "                                                                                'timer3': 'TIM3',\n",
      "                                                                                'timer4': 'TIM4'},\n",
      "                                                                'vals': '<Enum: '\n",
      "                                                                        \"{'timer2', \"\n",
      "                                                                        \"'immediate', \"\n",
      "                                                                        \"'timer3', \"\n",
      "                                                                        \"'timer1', \"\n",
      "                                                                        \"'notify3', \"\n",
      "                                                                        \"'front-panel', \"\n",
      "                                                                        \"'notify1', \"\n",
      "                                                                        \"'external', \"\n",
      "                                                                        \"'notify2', \"\n",
      "                                                                        \"'bus', \"\n",
      "                                                                        \"'timer4'}>\",\n",
      "                                                                'value': 'immediate'},\n",
      "                                            'trigger4_delay': {'__class__': 'qcodes.parameters.parameter.Parameter',\n",
      "                                                               'full_name': 'DMM6500_trigger4_delay',\n",
      "                                                               'instrument': 'qcodes.instrument_drivers.tektronix.Keithley_6500.Keithley_6500',\n",
      "                                                               'instrument_name': 'DMM6500',\n",
      "                                                               'inter_delay': 0,\n",
      "                                                               'label': 'trigger4_delay',\n",
      "                                                               'name': 'trigger4_delay',\n",
      "                                                               'post_delay': 0,\n",
      "                                                               'raw_value': '1E-05',\n",
      "                                                               'ts': '2024-12-26 '\n",
      "                                                                     '15:49:31',\n",
      "                                                               'unit': 's',\n",
      "                                                               'vals': '<Numbers '\n",
      "                                                                       '0<=v<=999999.999>',\n",
      "                                                               'value': 1e-05},\n",
      "                                            'trigger4_source': {'__class__': 'qcodes.parameters.parameter.Parameter',\n",
      "                                                                'full_name': 'DMM6500_trigger4_source',\n",
      "                                                                'instrument': 'qcodes.instrument_drivers.tektronix.Keithley_6500.Keithley_6500',\n",
      "                                                                'instrument_name': 'DMM6500',\n",
      "                                                                'inter_delay': 0,\n",
      "                                                                'label': 'trigger4_source',\n",
      "                                                                'name': 'trigger4_source',\n",
      "                                                                'post_delay': 0,\n",
      "                                                                'raw_value': 'NONE',\n",
      "                                                                'ts': '2024-12-26 '\n",
      "                                                                      '15:49:31',\n",
      "                                                                'unit': '',\n",
      "                                                                'val_mapping': {'bus': 'COMM',\n",
      "                                                                                'external': 'EXT',\n",
      "                                                                                'front-panel': 'DISP',\n",
      "                                                                                'immediate': 'NONE',\n",
      "                                                                                'notify1': 'NOT1',\n",
      "                                                                                'notify2': 'NOT2',\n",
      "                                                                                'notify3': 'NOT3',\n",
      "                                                                                'timer1': 'TIM1',\n",
      "                                                                                'timer2': 'TIM2',\n",
      "                                                                                'timer3': 'TIM3',\n",
      "                                                                                'timer4': 'TIM4'},\n",
      "                                                                'vals': '<Enum: '\n",
      "                                                                        \"{'timer2', \"\n",
      "                                                                        \"'immediate', \"\n",
      "                                                                        \"'timer3', \"\n",
      "                                                                        \"'timer1', \"\n",
      "                                                                        \"'notify3', \"\n",
      "                                                                        \"'front-panel', \"\n",
      "                                                                        \"'notify1', \"\n",
      "                                                                        \"'external', \"\n",
      "                                                                        \"'notify2', \"\n",
      "                                                                        \"'bus', \"\n",
      "                                                                        \"'timer4'}>\",\n",
      "                                                                'value': 'immediate'},\n",
      "                                            'trigger_count': {'__class__': 'qcodes.parameters.parameter.Parameter',\n",
      "                                                              'full_name': 'DMM6500_trigger_count',\n",
      "                                                              'instrument': 'qcodes.instrument_drivers.tektronix.Keithley_6500.Keithley_6500',\n",
      "                                                              'instrument_name': 'DMM6500',\n",
      "                                                              'inter_delay': 0,\n",
      "                                                              'label': 'trigger_count',\n",
      "                                                              'name': 'trigger_count',\n",
      "                                                              'post_delay': 0,\n",
      "                                                              'raw_value': '1',\n",
      "                                                              'ts': '2024-12-26 '\n",
      "                                                                    '15:49:31',\n",
      "                                                              'unit': '',\n",
      "                                                              'vals': '<MultiType: '\n",
      "                                                                      'Ints '\n",
      "                                                                      '1<=v<=9999, '\n",
      "                                                                      'Enum: '\n",
      "                                                                      \"{'maximum', \"\n",
      "                                                                      \"'default', \"\n",
      "                                                                      \"'inf', \"\n",
      "                                                                      \"'minimum'}>\",\n",
      "                                                              'value': 1},\n",
      "                                            'trigger_timer': {'__class__': 'qcodes.parameters.parameter.Parameter',\n",
      "                                                              'full_name': 'DMM6500_trigger_timer',\n",
      "                                                              'instrument': 'qcodes.instrument_drivers.tektronix.Keithley_6500.Keithley_6500',\n",
      "                                                              'instrument_name': 'DMM6500',\n",
      "                                                              'inter_delay': 0,\n",
      "                                                              'label': 'trigger_timer',\n",
      "                                                              'name': 'trigger_timer',\n",
      "                                                              'post_delay': 0,\n",
      "                                                              'raw_value': '0',\n",
      "                                                              'ts': '2024-12-26 '\n",
      "                                                                    '15:49:31',\n",
      "                                                              'unit': 's',\n",
      "                                                              'vals': '<Numbers '\n",
      "                                                                      '0<=v<=999999.999>',\n",
      "                                                              'value': 0.0}},\n",
      "                             'read_terminator': '\\n',\n",
      "                             'submodules': {},\n",
      "                             'terminator': '\\n',\n",
      "                             'timeout': 10.0,\n",
      "                             'write_terminator': '\\n'},\n",
      "                 'K2400': {'__class__': 'qcodes.instrument_drivers.Keithley.Keithley_2400.Keithley2400',\n",
      "                           'address': 'GPIB0::19::INSTR',\n",
      "                           'functions': {},\n",
      "                           'label': 'K2400',\n",
      "                           'name': 'K2400',\n",
      "                           'parameters': {'IDN': {'__class__': 'qcodes.parameters.parameter.Parameter',\n",
      "                                                  'full_name': 'K2400_IDN',\n",
      "                                                  'instrument': 'qcodes.instrument_drivers.Keithley.Keithley_2400.Keithley2400',\n",
      "                                                  'instrument_name': 'K2400',\n",
      "                                                  'inter_delay': 0,\n",
      "                                                  'label': 'IDN',\n",
      "                                                  'name': 'IDN',\n",
      "                                                  'post_delay': 0,\n",
      "                                                  'raw_value': {'firmware': 'C32   '\n",
      "                                                                            'Oct  '\n",
      "                                                                            '4 '\n",
      "                                                                            '2010 '\n",
      "                                                                            '14:20:11/A02  '\n",
      "                                                                            '/K/M',\n",
      "                                                                'model': '2400',\n",
      "                                                                'serial': '0957985',\n",
      "                                                                'vendor': 'KEITHLEY '\n",
      "                                                                          'INSTRUMENTS '\n",
      "                                                                          'INC.'},\n",
      "                                                  'ts': '2024-12-26 15:49:31',\n",
      "                                                  'unit': '',\n",
      "                                                  'vals': '<Anything>',\n",
      "                                                  'value': {'firmware': 'C32   '\n",
      "                                                                        'Oct  '\n",
      "                                                                        '4 '\n",
      "                                                                        '2010 '\n",
      "                                                                        '14:20:11/A02  '\n",
      "                                                                        '/K/M',\n",
      "                                                            'model': '2400',\n",
      "                                                            'serial': '0957985',\n",
      "                                                            'vendor': 'KEITHLEY '\n",
      "                                                                      'INSTRUMENTS '\n",
      "                                                                      'INC.'}},\n",
      "                                          'compliancei': {'__class__': 'qcodes.parameters.parameter.Parameter',\n",
      "                                                          'full_name': 'K2400_compliancei',\n",
      "                                                          'instrument': 'qcodes.instrument_drivers.Keithley.Keithley_2400.Keithley2400',\n",
      "                                                          'instrument_name': 'K2400',\n",
      "                                                          'inter_delay': 0,\n",
      "                                                          'label': 'Current '\n",
      "                                                                   'Compliance',\n",
      "                                                          'name': 'compliancei',\n",
      "                                                          'post_delay': 0,\n",
      "                                                          'raw_value': '1.050000E-04',\n",
      "                                                          'ts': '2024-12-26 '\n",
      "                                                                '15:49:31',\n",
      "                                                          'unit': '',\n",
      "                                                          'value': 0.000105},\n",
      "                                          'compliancev': {'__class__': 'qcodes.parameters.parameter.Parameter',\n",
      "                                                          'full_name': 'K2400_compliancev',\n",
      "                                                          'instrument': 'qcodes.instrument_drivers.Keithley.Keithley_2400.Keithley2400',\n",
      "                                                          'instrument_name': 'K2400',\n",
      "                                                          'inter_delay': 0,\n",
      "                                                          'label': 'Voltage '\n",
      "                                                                   'Compliance',\n",
      "                                                          'name': 'compliancev',\n",
      "                                                          'post_delay': 0,\n",
      "                                                          'raw_value': '2.100000E+01',\n",
      "                                                          'ts': '2024-12-26 '\n",
      "                                                                '15:49:31',\n",
      "                                                          'unit': '',\n",
      "                                                          'value': 21.0},\n",
      "                                          'curr': {'__class__': 'qcodes.parameters.parameter.Parameter',\n",
      "                                                   'full_name': 'K2400_curr',\n",
      "                                                   'instrument': 'qcodes.instrument_drivers.Keithley.Keithley_2400.Keithley2400',\n",
      "                                                   'instrument_name': 'K2400',\n",
      "                                                   'inter_delay': 0,\n",
      "                                                   'label': 'Current',\n",
      "                                                   'name': 'curr',\n",
      "                                                   'post_delay': 0,\n",
      "                                                   'raw_value': None,\n",
      "                                                   'ts': None,\n",
      "                                                   'unit': 'A',\n",
      "                                                   'value': None},\n",
      "                                          'mode': {'__class__': 'qcodes.parameters.parameter.Parameter',\n",
      "                                                   'full_name': 'K2400_mode',\n",
      "                                                   'instrument': 'qcodes.instrument_drivers.Keithley.Keithley_2400.Keithley2400',\n",
      "                                                   'instrument_name': 'K2400',\n",
      "                                                   'inter_delay': 0,\n",
      "                                                   'label': 'Mode',\n",
      "                                                   'name': 'mode',\n",
      "                                                   'post_delay': 0,\n",
      "                                                   'raw_value': 'VOLT',\n",
      "                                                   'ts': '2024-12-26 15:49:31',\n",
      "                                                   'unit': '',\n",
      "                                                   'vals': \"<Enum: {'CURR', \"\n",
      "                                                           \"'VOLT'}>\",\n",
      "                                                   'value': 'VOLT'},\n",
      "                                          'nplci': {'__class__': 'qcodes.parameters.parameter.Parameter',\n",
      "                                                    'full_name': 'K2400_nplci',\n",
      "                                                    'instrument': 'qcodes.instrument_drivers.Keithley.Keithley_2400.Keithley2400',\n",
      "                                                    'instrument_name': 'K2400',\n",
      "                                                    'inter_delay': 0,\n",
      "                                                    'label': 'Current '\n",
      "                                                             'integration time',\n",
      "                                                    'name': 'nplci',\n",
      "                                                    'post_delay': 0,\n",
      "                                                    'raw_value': '1.00',\n",
      "                                                    'ts': '2024-12-26 15:49:31',\n",
      "                                                    'unit': '',\n",
      "                                                    'value': 1.0},\n",
      "                                          'nplcv': {'__class__': 'qcodes.parameters.parameter.Parameter',\n",
      "                                                    'full_name': 'K2400_nplcv',\n",
      "                                                    'instrument': 'qcodes.instrument_drivers.Keithley.Keithley_2400.Keithley2400',\n",
      "                                                    'instrument_name': 'K2400',\n",
      "                                                    'inter_delay': 0,\n",
      "                                                    'label': 'Voltage '\n",
      "                                                             'integration time',\n",
      "                                                    'name': 'nplcv',\n",
      "                                                    'post_delay': 0,\n",
      "                                                    'raw_value': '1.00',\n",
      "                                                    'ts': '2024-12-26 15:49:31',\n",
      "                                                    'unit': '',\n",
      "                                                    'value': 1.0},\n",
      "                                          'output': {'__class__': 'qcodes.parameters.parameter.Parameter',\n",
      "                                                     'full_name': 'K2400_output',\n",
      "                                                     'instrument': 'qcodes.instrument_drivers.Keithley.Keithley_2400.Keithley2400',\n",
      "                                                     'instrument_name': 'K2400',\n",
      "                                                     'inter_delay': 0,\n",
      "                                                     'label': 'output',\n",
      "                                                     'name': 'output',\n",
      "                                                     'post_delay': 0,\n",
      "                                                     'raw_value': '0',\n",
      "                                                     'ts': '2024-12-26 '\n",
      "                                                           '15:49:31',\n",
      "                                                     'unit': '',\n",
      "                                                     'val_mapping': OrderedDict([('On',\n",
      "                                                                                  '1'),\n",
      "                                                                                 ('ON',\n",
      "                                                                                  '1'),\n",
      "                                                                                 ('on',\n",
      "                                                                                  '1'),\n",
      "                                                                                 ('1',\n",
      "                                                                                  '1'),\n",
      "                                                                                 (True,\n",
      "                                                                                  '1'),\n",
      "                                                                                 ('Off',\n",
      "                                                                                  '0'),\n",
      "                                                                                 ('OFF',\n",
      "                                                                                  '0'),\n",
      "                                                                                 ('off',\n",
      "                                                                                  '0'),\n",
      "                                                                                 ('0',\n",
      "                                                                                  '0'),\n",
      "                                                                                 (False,\n",
      "                                                                                  '0')]),\n",
      "                                                     'vals': \"<Enum: {'ON', \"\n",
      "                                                             \"True, 'On', \"\n",
      "                                                             \"False, '1', '0', \"\n",
      "                                                             \"'Off', 'on', \"\n",
      "                                                             \"'off', 'OFF'}>\",\n",
      "                                                     'value': False},\n",
      "                                          'rangei': {'__class__': 'qcodes.parameters.parameter.Parameter',\n",
      "                                                     'full_name': 'K2400_rangei',\n",
      "                                                     'instrument': 'qcodes.instrument_drivers.Keithley.Keithley_2400.Keithley2400',\n",
      "                                                     'instrument_name': 'K2400',\n",
      "                                                     'inter_delay': 0,\n",
      "                                                     'label': 'Current range',\n",
      "                                                     'name': 'rangei',\n",
      "                                                     'post_delay': 0,\n",
      "                                                     'raw_value': '1.050000E-04',\n",
      "                                                     'ts': '2024-12-26 '\n",
      "                                                           '15:49:31',\n",
      "                                                     'unit': '',\n",
      "                                                     'value': 0.000105},\n",
      "                                          'rangev': {'__class__': 'qcodes.parameters.parameter.Parameter',\n",
      "                                                     'full_name': 'K2400_rangev',\n",
      "                                                     'instrument': 'qcodes.instrument_drivers.Keithley.Keithley_2400.Keithley2400',\n",
      "                                                     'instrument_name': 'K2400',\n",
      "                                                     'inter_delay': 0,\n",
      "                                                     'label': 'Voltage range',\n",
      "                                                     'name': 'rangev',\n",
      "                                                     'post_delay': 0,\n",
      "                                                     'raw_value': '21.00',\n",
      "                                                     'ts': '2024-12-26 '\n",
      "                                                           '15:49:31',\n",
      "                                                     'unit': '',\n",
      "                                                     'value': 21.0},\n",
      "                                          'resistance': {'__class__': 'qcodes.parameters.parameter.Parameter',\n",
      "                                                         'full_name': 'K2400_resistance',\n",
      "                                                         'instrument': 'qcodes.instrument_drivers.Keithley.Keithley_2400.Keithley2400',\n",
      "                                                         'instrument_name': 'K2400',\n",
      "                                                         'inter_delay': 0,\n",
      "                                                         'label': 'Resistance',\n",
      "                                                         'name': 'resistance',\n",
      "                                                         'post_delay': 0,\n",
      "                                                         'raw_value': None,\n",
      "                                                         'ts': None,\n",
      "                                                         'unit': 'Ohm',\n",
      "                                                         'value': None},\n",
      "                                          'sense': {'__class__': 'qcodes.parameters.parameter.Parameter',\n",
      "                                                    'full_name': 'K2400_sense',\n",
      "                                                    'instrument': 'qcodes.instrument_drivers.Keithley.Keithley_2400.Keithley2400',\n",
      "                                                    'instrument_name': 'K2400',\n",
      "                                                    'inter_delay': 0,\n",
      "                                                    'label': 'Sense mode',\n",
      "                                                    'name': 'sense',\n",
      "                                                    'post_delay': 0,\n",
      "                                                    'raw_value': '\"CURR:DC\"',\n",
      "                                                    'ts': '2024-12-26 15:49:31',\n",
      "                                                    'unit': '',\n",
      "                                                    'vals': '<Strings>',\n",
      "                                                    'value': '\"CURR:DC\"'},\n",
      "                                          'timeout': {'__class__': 'qcodes.parameters.parameter.Parameter',\n",
      "                                                      'full_name': 'K2400_timeout',\n",
      "                                                      'instrument': 'qcodes.instrument_drivers.Keithley.Keithley_2400.Keithley2400',\n",
      "                                                      'instrument_name': 'K2400',\n",
      "                                                      'inter_delay': 0,\n",
      "                                                      'label': 'timeout',\n",
      "                                                      'name': 'timeout',\n",
      "                                                      'post_delay': 0,\n",
      "                                                      'raw_value': 10.0,\n",
      "                                                      'ts': '2024-12-26 '\n",
      "                                                            '15:49:31',\n",
      "                                                      'unit': 's',\n",
      "                                                      'vals': '<MultiType: '\n",
      "                                                              'Numbers v>=0, '\n",
      "                                                              'Enum: {None}>',\n",
      "                                                      'value': 10.0},\n",
      "                                          'volt': {'__class__': 'qcodes.parameters.parameter.Parameter',\n",
      "                                                   'full_name': 'K2400_volt',\n",
      "                                                   'instrument': 'qcodes.instrument_drivers.Keithley.Keithley_2400.Keithley2400',\n",
      "                                                   'instrument_name': 'K2400',\n",
      "                                                   'inter_delay': 0,\n",
      "                                                   'label': 'Voltage',\n",
      "                                                   'name': 'volt',\n",
      "                                                   'post_delay': 0,\n",
      "                                                   'raw_value': None,\n",
      "                                                   'ts': None,\n",
      "                                                   'unit': 'V',\n",
      "                                                   'value': None}},\n",
      "                           'read_terminator': '\\n',\n",
      "                           'submodules': {},\n",
      "                           'terminator': '\\n',\n",
      "                           'timeout': 10.0,\n",
      "                           'write_terminator': '\\n'},\n",
      "                 'K2440': {'__class__': 'qcodes.instrument_drivers.Keithley.Keithley_2400.Keithley2400',\n",
      "                           'address': 'GPIB0::22::INSTR',\n",
      "                           'functions': {},\n",
      "                           'label': 'K2440',\n",
      "                           'name': 'K2440',\n",
      "                           'parameters': {'IDN': {'__class__': 'qcodes.parameters.parameter.Parameter',\n",
      "                                                  'full_name': 'K2440_IDN',\n",
      "                                                  'instrument': 'qcodes.instrument_drivers.Keithley.Keithley_2400.Keithley2400',\n",
      "                                                  'instrument_name': 'K2440',\n",
      "                                                  'inter_delay': 0,\n",
      "                                                  'label': 'IDN',\n",
      "                                                  'name': 'IDN',\n",
      "                                                  'post_delay': 0,\n",
      "                                                  'raw_value': {'firmware': 'C30   '\n",
      "                                                                            'Mar '\n",
      "                                                                            '17 '\n",
      "                                                                            '2006 '\n",
      "                                                                            '09:29:29/A02  '\n",
      "                                                                            '/B/A',\n",
      "                                                                'model': '2440',\n",
      "                                                                'serial': '1225508',\n",
      "                                                                'vendor': 'KEITHLEY '\n",
      "                                                                          'INSTRUMENTS '\n",
      "                                                                          'INC.'},\n",
      "                                                  'ts': '2024-12-26 15:49:31',\n",
      "                                                  'unit': '',\n",
      "                                                  'vals': '<Anything>',\n",
      "                                                  'value': {'firmware': 'C30   '\n",
      "                                                                        'Mar '\n",
      "                                                                        '17 '\n",
      "                                                                        '2006 '\n",
      "                                                                        '09:29:29/A02  '\n",
      "                                                                        '/B/A',\n",
      "                                                            'model': '2440',\n",
      "                                                            'serial': '1225508',\n",
      "                                                            'vendor': 'KEITHLEY '\n",
      "                                                                      'INSTRUMENTS '\n",
      "                                                                      'INC.'}},\n",
      "                                          'compliancei': {'__class__': 'qcodes.parameters.parameter.Parameter',\n",
      "                                                          'full_name': 'K2440_compliancei',\n",
      "                                                          'instrument': 'qcodes.instrument_drivers.Keithley.Keithley_2400.Keithley2400',\n",
      "                                                          'instrument_name': 'K2440',\n",
      "                                                          'inter_delay': 0,\n",
      "                                                          'label': 'Current '\n",
      "                                                                   'Compliance',\n",
      "                                                          'name': 'compliancei',\n",
      "                                                          'post_delay': 0,\n",
      "                                                          'raw_value': '1.000000E-01',\n",
      "                                                          'ts': '2024-12-26 '\n",
      "                                                                '15:49:31',\n",
      "                                                          'unit': '',\n",
      "                                                          'value': 0.1},\n",
      "                                          'compliancev': {'__class__': 'qcodes.parameters.parameter.Parameter',\n",
      "                                                          'full_name': 'K2440_compliancev',\n",
      "                                                          'instrument': 'qcodes.instrument_drivers.Keithley.Keithley_2400.Keithley2400',\n",
      "                                                          'instrument_name': 'K2440',\n",
      "                                                          'inter_delay': 0,\n",
      "                                                          'label': 'Voltage '\n",
      "                                                                   'Compliance',\n",
      "                                                          'name': 'compliancev',\n",
      "                                                          'post_delay': 0,\n",
      "                                                          'raw_value': '1.050000E+01',\n",
      "                                                          'ts': '2024-12-26 '\n",
      "                                                                '15:49:31',\n",
      "                                                          'unit': '',\n",
      "                                                          'value': 10.5},\n",
      "                                          'curr': {'__class__': 'qcodes.parameters.parameter.Parameter',\n",
      "                                                   'full_name': 'K2440_curr',\n",
      "                                                   'instrument': 'qcodes.instrument_drivers.Keithley.Keithley_2400.Keithley2400',\n",
      "                                                   'instrument_name': 'K2440',\n",
      "                                                   'inter_delay': 0,\n",
      "                                                   'label': 'Current',\n",
      "                                                   'name': 'curr',\n",
      "                                                   'post_delay': 0,\n",
      "                                                   'raw_value': None,\n",
      "                                                   'ts': None,\n",
      "                                                   'unit': 'A',\n",
      "                                                   'value': None},\n",
      "                                          'mode': {'__class__': 'qcodes.parameters.parameter.Parameter',\n",
      "                                                   'full_name': 'K2440_mode',\n",
      "                                                   'instrument': 'qcodes.instrument_drivers.Keithley.Keithley_2400.Keithley2400',\n",
      "                                                   'instrument_name': 'K2440',\n",
      "                                                   'inter_delay': 0,\n",
      "                                                   'label': 'Mode',\n",
      "                                                   'name': 'mode',\n",
      "                                                   'post_delay': 0,\n",
      "                                                   'raw_value': 'VOLT',\n",
      "                                                   'ts': '2024-12-26 15:49:31',\n",
      "                                                   'unit': '',\n",
      "                                                   'vals': \"<Enum: {'CURR', \"\n",
      "                                                           \"'VOLT'}>\",\n",
      "                                                   'value': 'VOLT'},\n",
      "                                          'nplci': {'__class__': 'qcodes.parameters.parameter.Parameter',\n",
      "                                                    'full_name': 'K2440_nplci',\n",
      "                                                    'instrument': 'qcodes.instrument_drivers.Keithley.Keithley_2400.Keithley2400',\n",
      "                                                    'instrument_name': 'K2440',\n",
      "                                                    'inter_delay': 0,\n",
      "                                                    'label': 'Current '\n",
      "                                                             'integration time',\n",
      "                                                    'name': 'nplci',\n",
      "                                                    'post_delay': 0,\n",
      "                                                    'raw_value': '1.00',\n",
      "                                                    'ts': '2024-12-26 15:49:31',\n",
      "                                                    'unit': '',\n",
      "                                                    'value': 1.0},\n",
      "                                          'nplcv': {'__class__': 'qcodes.parameters.parameter.Parameter',\n",
      "                                                    'full_name': 'K2440_nplcv',\n",
      "                                                    'instrument': 'qcodes.instrument_drivers.Keithley.Keithley_2400.Keithley2400',\n",
      "                                                    'instrument_name': 'K2440',\n",
      "                                                    'inter_delay': 0,\n",
      "                                                    'label': 'Voltage '\n",
      "                                                             'integration time',\n",
      "                                                    'name': 'nplcv',\n",
      "                                                    'post_delay': 0,\n",
      "                                                    'raw_value': '1.00',\n",
      "                                                    'ts': '2024-12-26 15:49:31',\n",
      "                                                    'unit': '',\n",
      "                                                    'value': 1.0},\n",
      "                                          'output': {'__class__': 'qcodes.parameters.parameter.Parameter',\n",
      "                                                     'full_name': 'K2440_output',\n",
      "                                                     'instrument': 'qcodes.instrument_drivers.Keithley.Keithley_2400.Keithley2400',\n",
      "                                                     'instrument_name': 'K2440',\n",
      "                                                     'inter_delay': 0,\n",
      "                                                     'label': 'output',\n",
      "                                                     'name': 'output',\n",
      "                                                     'post_delay': 0,\n",
      "                                                     'raw_value': '0',\n",
      "                                                     'ts': '2024-12-26 '\n",
      "                                                           '15:49:31',\n",
      "                                                     'unit': '',\n",
      "                                                     'val_mapping': OrderedDict([('On',\n",
      "                                                                                  '1'),\n",
      "                                                                                 ('ON',\n",
      "                                                                                  '1'),\n",
      "                                                                                 ('on',\n",
      "                                                                                  '1'),\n",
      "                                                                                 ('1',\n",
      "                                                                                  '1'),\n",
      "                                                                                 (True,\n",
      "                                                                                  '1'),\n",
      "                                                                                 ('Off',\n",
      "                                                                                  '0'),\n",
      "                                                                                 ('OFF',\n",
      "                                                                                  '0'),\n",
      "                                                                                 ('off',\n",
      "                                                                                  '0'),\n",
      "                                                                                 ('0',\n",
      "                                                                                  '0'),\n",
      "                                                                                 (False,\n",
      "                                                                                  '0')]),\n",
      "                                                     'vals': \"<Enum: {'ON', \"\n",
      "                                                             \"True, 'On', \"\n",
      "                                                             \"False, '1', '0', \"\n",
      "                                                             \"'Off', 'on', \"\n",
      "                                                             \"'off', 'OFF'}>\",\n",
      "                                                     'value': False},\n",
      "                                          'rangei': {'__class__': 'qcodes.parameters.parameter.Parameter',\n",
      "                                                     'full_name': 'K2440_rangei',\n",
      "                                                     'instrument': 'qcodes.instrument_drivers.Keithley.Keithley_2400.Keithley2400',\n",
      "                                                     'instrument_name': 'K2440',\n",
      "                                                     'inter_delay': 0,\n",
      "                                                     'label': 'Current range',\n",
      "                                                     'name': 'rangei',\n",
      "                                                     'post_delay': 0,\n",
      "                                                     'raw_value': '1.050000E-01',\n",
      "                                                     'ts': '2024-12-26 '\n",
      "                                                           '15:49:31',\n",
      "                                                     'unit': '',\n",
      "                                                     'value': 0.105},\n",
      "                                          'rangev': {'__class__': 'qcodes.parameters.parameter.Parameter',\n",
      "                                                     'full_name': 'K2440_rangev',\n",
      "                                                     'instrument': 'qcodes.instrument_drivers.Keithley.Keithley_2400.Keithley2400',\n",
      "                                                     'instrument_name': 'K2440',\n",
      "                                                     'inter_delay': 0,\n",
      "                                                     'label': 'Voltage range',\n",
      "                                                     'name': 'rangev',\n",
      "                                                     'post_delay': 0,\n",
      "                                                     'raw_value': '10.50',\n",
      "                                                     'ts': '2024-12-26 '\n",
      "                                                           '15:49:31',\n",
      "                                                     'unit': '',\n",
      "                                                     'value': 10.5},\n",
      "                                          'resistance': {'__class__': 'qcodes.parameters.parameter.Parameter',\n",
      "                                                         'full_name': 'K2440_resistance',\n",
      "                                                         'instrument': 'qcodes.instrument_drivers.Keithley.Keithley_2400.Keithley2400',\n",
      "                                                         'instrument_name': 'K2440',\n",
      "                                                         'inter_delay': 0,\n",
      "                                                         'label': 'Resistance',\n",
      "                                                         'name': 'resistance',\n",
      "                                                         'post_delay': 0,\n",
      "                                                         'raw_value': None,\n",
      "                                                         'ts': None,\n",
      "                                                         'unit': 'Ohm',\n",
      "                                                         'value': None},\n",
      "                                          'sense': {'__class__': 'qcodes.parameters.parameter.Parameter',\n",
      "                                                    'full_name': 'K2440_sense',\n",
      "                                                    'instrument': 'qcodes.instrument_drivers.Keithley.Keithley_2400.Keithley2400',\n",
      "                                                    'instrument_name': 'K2440',\n",
      "                                                    'inter_delay': 0,\n",
      "                                                    'label': 'Sense mode',\n",
      "                                                    'name': 'sense',\n",
      "                                                    'post_delay': 0,\n",
      "                                                    'raw_value': '\"CURR:DC\"',\n",
      "                                                    'ts': '2024-12-26 15:49:31',\n",
      "                                                    'unit': '',\n",
      "                                                    'vals': '<Strings>',\n",
      "                                                    'value': '\"CURR:DC\"'},\n",
      "                                          'timeout': {'__class__': 'qcodes.parameters.parameter.Parameter',\n",
      "                                                      'full_name': 'K2440_timeout',\n",
      "                                                      'instrument': 'qcodes.instrument_drivers.Keithley.Keithley_2400.Keithley2400',\n",
      "                                                      'instrument_name': 'K2440',\n",
      "                                                      'inter_delay': 0,\n",
      "                                                      'label': 'timeout',\n",
      "                                                      'name': 'timeout',\n",
      "                                                      'post_delay': 0,\n",
      "                                                      'raw_value': 10.0,\n",
      "                                                      'ts': '2024-12-26 '\n",
      "                                                            '15:49:31',\n",
      "                                                      'unit': 's',\n",
      "                                                      'vals': '<MultiType: '\n",
      "                                                              'Numbers v>=0, '\n",
      "                                                              'Enum: {None}>',\n",
      "                                                      'value': 10.0},\n",
      "                                          'volt': {'__class__': 'qcodes.parameters.parameter.Parameter',\n",
      "                                                   'full_name': 'K2440_volt',\n",
      "                                                   'instrument': 'qcodes.instrument_drivers.Keithley.Keithley_2400.Keithley2400',\n",
      "                                                   'instrument_name': 'K2440',\n",
      "                                                   'inter_delay': 0,\n",
      "                                                   'label': 'Voltage',\n",
      "                                                   'name': 'volt',\n",
      "                                                   'post_delay': 0,\n",
      "                                                   'raw_value': None,\n",
      "                                                   'ts': None,\n",
      "                                                   'unit': 'V',\n",
      "                                                   'value': None}},\n",
      "                           'read_terminator': '\\n',\n",
      "                           'submodules': {},\n",
      "                           'terminator': '\\n',\n",
      "                           'timeout': 10.0,\n",
      "                           'write_terminator': '\\n'}},\n",
      " 'parameters': {}}\n"
     ]
    }
   ],
   "source": [
    "snapshot_of_station = station.snapshot()\n",
    "pprint(snapshot_of_station)"
   ]
  },
  {
   "cell_type": "markdown",
   "id": "4757b159",
   "metadata": {},
   "source": [
    "## Keithley 2440"
   ]
  },
  {
   "cell_type": "markdown",
   "id": "797b994c",
   "metadata": {},
   "source": [
    "### sensitive check"
   ]
  },
  {
   "cell_type": "code",
   "execution_count": 9,
   "id": "f387f69b",
   "metadata": {},
   "outputs": [
    {
     "data": {
      "text/plain": [
       "'VOLT'"
      ]
     },
     "execution_count": 9,
     "metadata": {},
     "output_type": "execute_result"
    }
   ],
   "source": [
    "K2440.mode('VOLT')\n",
    "K2440.mode()"
   ]
  },
  {
   "cell_type": "code",
   "execution_count": 11,
   "id": "09a8a36e",
   "metadata": {},
   "outputs": [
    {
     "name": "stdout",
     "output_type": "stream",
     "text": [
      "2.069397e-05\n"
     ]
    }
   ],
   "source": [
    "K2440.output(1) # output on\n",
    "K2440.rangev(10)\n",
    "K2440.volt(0)\n",
    "K2440.compliancei(100e-3)\n",
    "sleep(1)\n",
    "v_read=DMM6500.amplitude()\n",
    "K2440.output(0) #output off\n",
    "print(v_read)"
   ]
  },
  {
   "cell_type": "markdown",
   "id": "105706bc",
   "metadata": {},
   "source": [
    "## TG 2400"
   ]
  },
  {
   "cell_type": "code",
   "execution_count": null,
   "id": "cdc19f1b",
   "metadata": {},
   "outputs": [],
   "source": [
    "K2440.output(1) # output on\n",
    "K2440.rangev(22)\n",
    "K2440.volt(0)\n",
    "K2440.compliancei(100e-3)\n",
    "# K2440.output(0) #output off\n",
    "sleep(1)\n",
    "v_read=DMM6500.amplitude()\n",
    "print(v_read)"
   ]
  },
  {
   "cell_type": "code",
   "execution_count": null,
   "id": "e971a620",
   "metadata": {},
   "outputs": [],
   "source": [
    "K2440.volt(1)\n",
    "K2440.output(0) #output off"
   ]
  },
  {
   "cell_type": "code",
   "execution_count": null,
   "id": "e284050c",
   "metadata": {},
   "outputs": [],
   "source": [
    "K2440.rangev(1)\n",
    "K2440.rangev()"
   ]
  },
  {
   "cell_type": "markdown",
   "id": "c676ccb5",
   "metadata": {},
   "source": [
    "#  Database initialisation"
   ]
  },
  {
   "cell_type": "code",
   "execution_count": 12,
   "id": "5059671d",
   "metadata": {},
   "outputs": [
    {
     "data": {
      "text/plain": [
       "'c:\\\\Users\\\\quant\\\\OneDrive\\\\Documents\\\\GitHub\\\\QCoDeS_local\\\\init_database_v3.py'"
      ]
     },
     "execution_count": 12,
     "metadata": {},
     "output_type": "execute_result"
    }
   ],
   "source": [
    "def find_init_database_v3_py():\n",
    "    for root, dirs, files in os.walk(qcodes_local_dir):\n",
    "        if 'init_database_v3.py' in files:\n",
    "            return os.path.join(root, 'init_database_v3.py')\n",
    "    return None\n",
    "\n",
    "init_database_v3_py_path = find_init_database_v3_py()\n",
    "init_database_v3_py_path\n"
   ]
  },
  {
   "cell_type": "code",
   "execution_count": 13,
   "id": "e09e380a",
   "metadata": {},
   "outputs": [
    {
     "data": {
      "text/plain": [
       "'c:\\\\Users\\\\quant\\\\OneDrive\\\\Documents\\\\GitHub\\\\QCoDeS_local\\\\init_database_v2.py'"
      ]
     },
     "execution_count": 13,
     "metadata": {},
     "output_type": "execute_result"
    }
   ],
   "source": [
    "def find_init_database_v2_py():\n",
    "    for root, dirs, files in os.walk(qcodes_local_dir):\n",
    "        if 'init_database_v2.py' in files:\n",
    "            return os.path.join(root, 'init_database_v2.py')\n",
    "    return None\n",
    "\n",
    "init_database_v2_py_path = find_init_database_v2_py()\n",
    "init_database_v2_py_path"
   ]
  },
  {
   "cell_type": "code",
   "execution_count": 14,
   "id": "7b665bc4",
   "metadata": {},
   "outputs": [
    {
     "name": "stdout",
     "output_type": "stream",
     "text": [
      "Creating a new database file:\n",
      "c:\\Users\\quant\\OneDrive\\Documents\\GitHub\\QCoDeS_local\\personal_scripts\\Albert\\009-2\\009-2_2024-12-26_01.db\n"
     ]
    }
   ],
   "source": [
    "reuse = False\n",
    "%run \"{init_database_v2_py_path}\" {reuse}"
   ]
  },
  {
   "cell_type": "markdown",
   "id": "6a8a2beb",
   "metadata": {},
   "source": [
    "\n",
    "# Scaled parameters"
   ]
  },
  {
   "cell_type": "code",
   "execution_count": null,
   "id": "e3b44b31",
   "metadata": {},
   "outputs": [],
   "source": []
  },
  {
   "cell_type": "markdown",
   "id": "ea4ff57a",
   "metadata": {},
   "source": [
    "## Defining scaled parameters"
   ]
  },
  {
   "cell_type": "code",
   "execution_count": 15,
   "id": "c8ca5b97",
   "metadata": {},
   "outputs": [
    {
     "data": {
      "text/plain": [
       "'Gain_L2'"
      ]
     },
     "execution_count": 15,
     "metadata": {},
     "output_type": "execute_result"
    }
   ],
   "source": [
    "Irange = Parameter('Irange', label='current range', unit='', set_cmd=None, get_cmd=None)\n",
    "Vrange = Parameter('Vrange', label='voltage range', unit='', set_cmd=None, get_cmd=None)\n",
    "TGrange = Parameter('TGrange', label='Top gate range', unit='', set_cmd=None, get_cmd=None)\n",
    "\n",
    "#division paraemtrs required for simplier update: they used as an argument for scaled paraemtrs of sorce instruments\n",
    "\n",
    "\n",
    "Irange_division = Parameter('Irange_division', \n",
    "                            label='scaled current range', unit='', \n",
    "                            set_cmd=None, get_cmd=lambda : 1 / Irange())\n",
    "\n",
    "Vrange_division = Parameter('Vrange_division', \n",
    "                            label='scaled voltage range', unit='', \n",
    "                            set_cmd=None, get_cmd=lambda : 1 / Vrange())\n",
    "\n",
    "TGrange_division = Parameter('TGrange_division', \n",
    "                             label='scaled Top gate range', unit='', \n",
    "                             set_cmd=None, get_cmd=lambda : 1 / TGrange())\n",
    "\n",
    "Irange_AC_division = Parameter('Irange_AC_division', \n",
    "                               label='scaled current range for lockin', unit='', \n",
    "                               set_cmd=None, get_cmd=lambda : 1 / Irange())\n",
    "\n",
    "Vrange_AC_division = Parameter('Vrange_AC_division', \n",
    "                               label='scaled voltage range for lockin', unit='', \n",
    "                               set_cmd=None, get_cmd=lambda : 1 / Vrange())\n",
    "\n",
    "Gain_K1 = Parameter('Gain_K1', label='Gain K1', unit='', set_cmd=None, get_cmd=None)\n",
    "Gain_K2 = Parameter('Gain_K2', label='Gain K2', unit='', set_cmd=None, get_cmd=None)\n",
    "Gain_L1 = Parameter('Gain_L1', label='Gain L1', unit='', set_cmd=None, get_cmd=None)\n",
    "Gain_L2 = Parameter('Gain_L2', label='Gain L2', unit='', set_cmd=None, get_cmd=None)\n",
    "\n",
    "#Add components\n",
    "station.add_component(Irange)\n",
    "station.add_component(Vrange)\n",
    "station.add_component(TGrange)\n",
    "\n",
    "station.add_component(Irange_division)\n",
    "station.add_component(Vrange_division)\n",
    "station.add_component(TGrange_division)\n",
    "\n",
    "station.add_component(Irange_AC_division)\n",
    "station.add_component(Vrange_AC_division)\n",
    "                             \n",
    "station.add_component(Gain_K1)\n",
    "station.add_component(Gain_K2)\n",
    "station.add_component(Gain_L1)\n",
    "station.add_component(Gain_L2)"
   ]
  },
  {
   "cell_type": "markdown",
   "id": "6d7ecebe",
   "metadata": {},
   "source": [
    "## Parameters - update here during measuerements"
   ]
  },
  {
   "cell_type": "code",
   "execution_count": 16,
   "id": "b0b09fcc",
   "metadata": {},
   "outputs": [],
   "source": [
    "Irange.set(1e-6) #Unit Amp V=IR, 1V= 1e-6 x 1MOhm=1e-7 x 10MOhm\n",
    "Vrange.set(10) ## need to be sync with K213 range #Unit Volt\n",
    "TGrange.set(1) #Unit Volt\n",
    "Gain_K1.set(100)\n",
    "Gain_K2.set(100)\n",
    "# Gain_K3.set(1e2)\n",
    "Gain_L1.set(Gain_K1())\n",
    "Gain_L2.set(Gain_K2())\n",
    "#division parameters are updated automatically"
   ]
  },
  {
   "cell_type": "code",
   "execution_count": null,
   "id": "4b1231bb",
   "metadata": {},
   "outputs": [],
   "source": [
    "lockin_1.sine_outdc"
   ]
  },
  {
   "cell_type": "markdown",
   "id": "cbe7bfa7",
   "metadata": {},
   "source": [
    "## DC parameters"
   ]
  },
  {
   "cell_type": "code",
   "execution_count": 17,
   "id": "6a8c7deb",
   "metadata": {},
   "outputs": [
    {
     "data": {
      "text/plain": [
       "'meas_current_K1'"
      ]
     },
     "execution_count": 17,
     "metadata": {},
     "output_type": "execute_result"
    }
   ],
   "source": [
    "# appl_current = ScaledParameter(lockin_1.sine_outdc, division = Irange_division, name = 'appl_current', unit = 'A')\n",
    "appl_current = ScaledParameter(K2440.volt, division = Irange_division, name = 'appl_current', unit = 'A')\n",
    "\n",
    "#appl_TG = ScaledParameter(K2440.volt, division = TGrange_division, name = 'appl_TG', unit = 'V')\n",
    "\n",
    "meas_voltage_K1 = ScaledParameter(DMM6500.amplitude, division = Gain_K1, name = 'meas_voltage_K1', unit = 'V')\n",
    "# meas_voltage_K2 = ScaledParameter(DMM6500.amplitude, division = Gain_K2, name = 'meas_voltage_K2', unit = 'V')\n",
    "\n",
    "# meas_leakage = ScaledParameter(DMM6500.amplitude, division = Gain_K2, name = 'meas_leakage', unit = 'A')\n",
    "\n",
    "meas_current_K1 = ScaledParameter(DMM6500.amplitude, division = Gain_K1, name = 'meas_current_K1', unit = 'A')\n",
    "# meas_current_K2 = ScaledParameter(DMM6500.amplitude, division = Gain_K2, name = 'meas_current_K2', unit = 'A')\n",
    "\n",
    "station.add_component(appl_current)\n",
    "# station.add_component(appl_voltage)\n",
    "#station.add_component(appl_TG)\n",
    "\n",
    "station.add_component(meas_voltage_K1)\n",
    "# station.add_component(meas_voltage_K2)\n",
    "\n",
    "# station.add_component(meas_leakage)\n",
    "\n",
    "station.add_component(meas_current_K1)\n",
    "# station.add_component(meas_current_K2)"
   ]
  },
  {
   "cell_type": "code",
   "execution_count": 18,
   "id": "3851dc82",
   "metadata": {},
   "outputs": [],
   "source": [
    "K2440.output(0)\n",
    "appl_current(0)\n",
    "sleep(1)\n",
    "# meas_voltage_K2()"
   ]
  },
  {
   "cell_type": "markdown",
   "id": "a23afd58",
   "metadata": {},
   "source": [
    "##  AC parameters"
   ]
  },
  {
   "cell_type": "code",
   "execution_count": null,
   "id": "769f6a51",
   "metadata": {},
   "outputs": [],
   "source": [
    "appl_current_AC = ScaledParameter(lockin_1.amplitude, division = Irange_AC_division, name = 'appl_current_AC', unit = 'A')\n",
    "appl_voltage_AC = ScaledParameter(lockin_1.amplitude, division = Vrange_AC_division, name = 'appl_voltage_AC', unit = 'V')\n",
    "\n",
    "station.add_component(appl_current_AC)\n",
    "station.add_component(appl_voltage_AC)\n",
    "\n",
    "meas_voltage_AC_L1 = ScaledParameter(lockin_1.X, division = Gain_L1, name = 'meas_voltage_Lockin1', unit = 'V')\n",
    "meas_current_AC_L1 = ScaledParameter(lockin_1.X, division = Gain_L1, name = 'meas_current_Lockin1', unit = 'A')\n",
    "meas_phase_AC_L1 = ScaledParameter(lockin_1.P, division = 1, name = 'meas_phase_Lockin1', unit = 'degree')\n",
    "\n",
    "\n",
    "# meas_voltage_AC_L2 = ScaledParameter(lockin_2.X, division = Gain_L2, name = 'meas_voltage_Lockin2', unit = 'V')\n",
    "# meas_current_AC_L2 = ScaledParameter(lockin_2.X, division = Gain_L2, name = 'meas_current_Lockin2', unit = 'A')\n",
    "# meas_phase_AC_L2 = ScaledParameter(lockin_2.P, division = 1, name = 'meas_phase_Lockin1', unit = 'degree')\n",
    "\n",
    "station.add_component(meas_voltage_AC_L1)\n",
    "station.add_component(meas_current_AC_L1)\n",
    "station.add_component(meas_phase_AC_L1)\n",
    "\n",
    "# station.add_component(meas_voltage_AC_L2)\n",
    "# station.add_component(meas_current_AC_L2)\n",
    "\n",
    "meas_voltage_AC_L1_R = ScaledParameter(lockin_1.R, division = Gain_L1, name = 'meas_voltage_R_Lockin1', unit = 'V')\n",
    "# meas_voltage_AC_L2_R = ScaledParameter(lockin_2.R, division = Gain_L2, name = 'meas_voltage_R_Lockin2', unit = 'V')\n",
    "\n",
    "station.add_component(meas_voltage_AC_L1_R)\n",
    "# station.add_component(meas_voltage_AC_L2_R)"
   ]
  },
  {
   "cell_type": "code",
   "execution_count": null,
   "id": "bcd10ed7",
   "metadata": {},
   "outputs": [],
   "source": [
    "meas_voltage_AC_L1_P = ScaledParameter(lockin_1.P, division = 1, name = 'meas_voltage_Lockin1_P', unit = 'degree')\n",
    "meas_current_AC_L1_P = ScaledParameter(lockin_1.P, division = 1, name = 'meas_current_Lockin1_P', unit = 'degree')\n",
    "\n",
    "# meas_voltage_AC_L2_P = ScaledParameter(lockin_2.P, division = 1, name = 'meas_voltage_Lockin2_P', unit = 'degree')\n",
    "# meas_current_AC_L2_P = ScaledParameter(lockin_2.P, division = 1, name = 'meas_current_Lockin2_P', unit = 'degree')\n",
    "\n",
    "station.add_component(meas_voltage_AC_L1_P)\n",
    "station.add_component(meas_current_AC_L1_P)\n",
    "\n",
    "# station.add_component(meas_voltage_AC_L2_P)\n",
    "# station.add_component(meas_current_AC_L2_P)"
   ]
  },
  {
   "cell_type": "markdown",
   "id": "8d9d6239",
   "metadata": {},
   "source": [
    "## Another useful example: magnet using dac (Janis)"
   ]
  },
  {
   "cell_type": "markdown",
   "id": "92e1f309",
   "metadata": {},
   "source": [
    ">2231.2 G per A => 0.22312 T per A<br>\n",
    "I source 10mA per V => 1e-5 A per 1mV<br>\n",
    "result: 0.22312 T/A * 1e-5 A/mV"
   ]
  },
  {
   "cell_type": "code",
   "execution_count": 22,
   "id": "6b2b657a",
   "metadata": {},
   "outputs": [],
   "source": [
    "# def get_R_from_IV(dataid):\n",
    "#     dataset = qc.load_by_id(dataid)\n",
    "#     voltage = dataset.get_parameter_data()['meas_voltage_K2']['meas_voltage_K2']\n",
    "#     current = dataset.get_parameter_data()['meas_voltage_K2']['appl_current']\n",
    "#     fit_values = np.polyfit(current,voltage,1)\n",
    "    \n",
    "#     return fit_values[0]\n",
    "\n",
    "dataset = qc.load_by_id(1)\n",
    "\n",
    "def get_R_from_IV_2(dataid):\n",
    "    dataset = qc.load_by_id(dataid)\n",
    "    voltage = dataset.get_parameter_data()['meas_voltage_K2']['meas_voltage_K2']\n",
    "    current = dataset.get_parameter_data()['meas_voltage_K2']['appl_current']\n",
    "    fit_values = np.polyfit(current,voltage,1)\n",
    "\n",
    "    return fit_values[0]\n",
    "\n",
    "def get_R_from_IV(dataid):\n",
    "    dataset = qc.load_by_id(dataid)\n",
    "    para_list = dataset.parameters.split(\",\")\n",
    "    voltage = dataset.get_parameter_data()[para_list[1]][para_list[1]]\n",
    "    current = dataset.get_parameter_data()[para_list[1]][para_list[0]]\n",
    "    fit_values = np.polyfit(current,voltage,1)\n",
    "    return fit_values[0]\n",
    "\n",
    "\n",
    "def get_R_from_IV_K2(dataid):\n",
    "    dataset = qc.load_by_id(dataid)\n",
    "    voltage = dataset.get_parameter_data()['meas_voltage_K2']['meas_voltage_K2']\n",
    "    current = dataset.get_parameter_data()['meas_voltage_K2']['appl_current']\n",
    "    fit_values = np.polyfit(current,voltage,1)\n",
    "    return fit_values[0]\n",
    "\n",
    "def autosave_plot_by_id(run_id, save_path):\n",
    "    fig, ax = plt.subplots()\n",
    "    plot_by_id(run_id, axes=ax)\n",
    "    plt.savefig(save_path)\n",
    "    plt.close()\n",
    "\n",
    "def get_detaset_info(dataset=dataset):\n",
    "    run_id = dataset.captured_run_id\n",
    "    exp_name = dataset.exp_name\n",
    "    sample_name = dataset.sample_name\n",
    "    name = dataset.name\n",
    "    description = dataset.description\n",
    "    sample_junction = extract_sample_junction(sample_name)\n",
    "    return run_id, exp_name, sample_name, sample_junction, name, description\n",
    "\n",
    "def extract_sample_junction(sample_name):\n",
    "    \"\"\"Extracts the complete sample junction from the provided sample name.\n",
    "\n",
    "    Args:\n",
    "      sample_name: The name of the sample containing the junction information.\n",
    "\n",
    "    Returns:\n",
    "      The extracted sample junction, or None if not found.\n",
    "    \"\"\"\n",
    "\n",
    "    delimiter = \"_J\"\n",
    "    if delimiter in sample_name:\n",
    "        # +3 to include \"_J\"\n",
    "        return sample_name[:sample_name.find(delimiter) + 3]\n",
    "    else:\n",
    "        return None\n",
    "\n",
    "def IV(run_id=1):\n",
    "    dataset = qc.load_by_id(run_id)\n",
    "    R = get_R_from_IV(run_id)\n",
    "    run_id, exp_name, sample_name, sample_junction, name, description = get_detaset_info(\n",
    "        dataset)\n",
    "    df = dataset.to_pandas_dataframe().reset_index()\n",
    "    para_list = dataset.parameters.split(\",\")\n",
    "\n",
    "    # Create a Plotly trace\n",
    "    trace = go.Scatter(x=df[para_list[0]], y=df[para_list[1]]*1e3, mode='lines', name='Voltage vs. Current')\n",
    "\n",
    "    # Create layout with micro-scale y-axis\n",
    "    layout = go.Layout(title=f'<b>#{run_id} {exp_name}</b> {sample_name}, R_fit={R:.4f} Ω', title_font=dict(size=28),\n",
    "                       xaxis=dict(title=para_list[0], tickfont=dict(size=16),title_font=dict(size=20)),\n",
    "                       yaxis=dict(title=f\"{para_list[1]} mV\", tickfont=dict(size=16),title_font=dict(size=20)), \n",
    "                       width=1080, height=960,\n",
    "                       margin=dict(l=10, r=10, t=50, b=10))\n",
    "\n",
    "    # Create the figure\n",
    "    fig = go.Figure(data=[trace], layout=layout)\n",
    "    \n",
    "    fig.show()\n",
    "\n",
    "def IV_diff(run_id=1):\n",
    "    import numpy as np\n",
    "    import plotly.graph_objs as go\n",
    "    from scipy.signal import find_peaks\n",
    "    dataset = qc.load_by_id(run_id)\n",
    "\n",
    "    df = dataset.to_pandas_dataframe().reset_index()\n",
    "    para_list = dataset.parameters.split(\",\")\n",
    "\n",
    "    current = df[para_list[0]].tolist()\n",
    "    voltage = df[para_list[1]].tolist()\n",
    "\n",
    "    # Compute differential of voltage with respect to current\n",
    "    differential_voltage = np.diff(voltage) / np.diff(current)\n",
    "\n",
    "    # Since the differential will have one less data point, adjust the current data\n",
    "    # to have the same length as the differential data\n",
    "    current = current[:-1]\n",
    "\n",
    "    # Find peaks in the differential signal\n",
    "    peaks, _ = find_peaks(differential_voltage)\n",
    "\n",
    "    # Extract peak current and peak differential voltage values\n",
    "    peak_current = [current[i] for i in peaks]\n",
    "    peak_voltage_diff = [differential_voltage[i] for i in peaks]\n",
    "\n",
    "    # Sort the peaks based on their values\n",
    "    sorted_peak_indices = np.argsort(peak_voltage_diff)[::-1]  # Sort in descending order\n",
    "    top_two_peak_indices = sorted_peak_indices[:2]  # Select the top two indices\n",
    "\n",
    "    # Extract the top two peaks\n",
    "    top_two_peak_current = [peak_current[i] for i in top_two_peak_indices]\n",
    "    top_two_peak_voltage_diff = [peak_voltage_diff[i] for i in top_two_peak_indices]\n",
    "\n",
    "    # Calculate the center points of the top two peaks\n",
    "    center_points = [(top_two_peak_current[i] + top_two_peak_current[i+1]) / 2 for i in range(len(top_two_peak_current) - 1)]\n",
    "\n",
    "    # Calculate the difference between the top two biggest peaks\n",
    "    peak_difference = abs(top_two_peak_current[0] - top_two_peak_current[1])\n",
    "\n",
    "    # Determine the appropriate unit for current\n",
    "    if peak_difference >= 1e-3:\n",
    "        unit = \"mA\"\n",
    "        conversion_factor = 1e3\n",
    "    elif peak_difference >= 1e-6:\n",
    "        unit = \"μA\"\n",
    "        conversion_factor = 1e6\n",
    "    else:\n",
    "        unit = \"nA\"\n",
    "        conversion_factor = 1e9\n",
    "\n",
    "    # Determine the appropriate unit for current\n",
    "    if peak_difference >= 1e-3:\n",
    "        unit = \"mA\"\n",
    "    elif peak_difference >= 1e-6:\n",
    "        unit = \"μA\"\n",
    "    elif peak_difference >= 1e-9:\n",
    "        unit = \"nA\"\n",
    "    else:\n",
    "        unit = \"pA\"\n",
    "\n",
    "    # Create a Plotly trace for the differential\n",
    "    trace_diff = go.Scatter(x=[c * conversion_factor for c in current], y=differential_voltage, mode='lines', name='d(Voltage)/d(Current)')\n",
    "    # Add markers for the top two peaks\n",
    "    trace_top_two_peaks = go.Scatter(x=[p * conversion_factor for p in top_two_peak_current], y=top_two_peak_voltage_diff, mode='markers', marker=dict(color='red'), name='Top Two Peaks')\n",
    "    # Add markers for the center points\n",
    "    trace_center_points = go.Scatter(x=center_points, y=[0]*len(center_points), mode='markers', marker=dict(color='blue', symbol='cross'), name='Center Points')\n",
    "\n",
    "    # Create layout\n",
    "    layout = go.Layout(title=f'Run #{id} I vs. dV/dI',\n",
    "                    xaxis=dict(title=f'Current ({unit})'),\n",
    "                    yaxis=dict(title='d(Voltage)/d(Current)'),\n",
    "                    legend=dict(orientation=\"h\", yanchor=\"top\", y=1.10, xanchor=\"center\", x=0.5),\n",
    "                    width=600, height=600  \n",
    "                    )\n",
    "\n",
    "    # Create the figure\n",
    "    fig = go.Figure(data=[trace_diff, trace_top_two_peaks, trace_center_points], layout=layout)\n",
    "\n",
    "    # Add annotation for the current value of center points\n",
    "    for i, center_point in enumerate(center_points):\n",
    "        fig.add_annotation(\n",
    "            x=center_point * conversion_factor,\n",
    "            y=0, #0.4 * max(differential_voltage),\n",
    "            text=f'Center Point: {center_point * conversion_factor:.3f}{unit} <br> Peak difference: {peak_difference*conversion_factor:.3f} {unit}',\n",
    "            showarrow=True,\n",
    "            arrowhead=2,\n",
    "            arrowsize=1,\n",
    "            arrowwidth=2,\n",
    "            arrowcolor='black',\n",
    "            ax=-100,\n",
    "            ay=-200 - 30 * i\n",
    "        )\n",
    "\n",
    "    # Plot the figure\n",
    "    fig.show()\n",
    "\n",
    "def get_Mag(show=True):\n",
    "    Mag_x = magnet_x.field()\n",
    "    Mag_y = magnet_y.field()\n",
    "    Mag_z = magnet_z.field()\n",
    "    if show:\n",
    "        print(f\"Mag_x: {Mag_x*1e3:.6f} mT\")\n",
    "        print(f\"Mag_y: {Mag_y*1e3:.6f} mT\")\n",
    "        print(f\"Mag_z: {Mag_z*1e3:.6f} mT\")\n",
    "    else: \n",
    "        return Mag_x, Mag_y, Mag_z"
   ]
  },
  {
   "cell_type": "code",
   "execution_count": null,
   "id": "934a7b70",
   "metadata": {},
   "outputs": [],
   "source": [
    "appl_current(0.5e-6)\n",
    "appl_current_AC(10e-9)"
   ]
  },
  {
   "cell_type": "code",
   "execution_count": null,
   "id": "e0040749",
   "metadata": {},
   "outputs": [],
   "source": [
    "df = dataset.to_pandas_dataframe().reset_index()\n",
    "df"
   ]
  },
  {
   "cell_type": "markdown",
   "id": "885e5c90",
   "metadata": {},
   "source": [
    "# Simple IVs"
   ]
  },
  {
   "cell_type": "markdown",
   "id": "cdb6884c",
   "metadata": {},
   "source": [
    "## IV"
   ]
  },
  {
   "cell_type": "code",
   "execution_count": 18,
   "id": "f6c71fe1",
   "metadata": {},
   "outputs": [],
   "source": [
    "K2440.output(1)\n",
    "DMM6500.averaging_count(5)\n",
    "DMM6500.averaging_enabled(True)\n",
    "DMM6500.averaging_enabled(False)\n",
    "K2440.output(0)"
   ]
  },
  {
   "cell_type": "code",
   "execution_count": 19,
   "id": "88a5c92b",
   "metadata": {},
   "outputs": [],
   "source": [
    "# Set current to 0\n",
    "K2440.output(0)\n",
    "appl_current(0e-6)"
   ]
  },
  {
   "cell_type": "code",
   "execution_count": null,
   "id": "af7949e7",
   "metadata": {},
   "outputs": [],
   "source": [
    "IV(3)"
   ]
  },
  {
   "cell_type": "code",
   "execution_count": 25,
   "id": "94d8b3fa",
   "metadata": {},
   "outputs": [
    {
     "name": "stderr",
     "output_type": "stream",
     "text": [
      "There is (are) already experiment(s) with the name of I-V and sample name of 009-1_1kOhms in the database.\n"
     ]
    },
    {
     "name": "stdout",
     "output_type": "stream",
     "text": [
      "Starting experimental run with id: 5. \n"
     ]
    },
    {
     "name": "stderr",
     "output_type": "stream",
     "text": [
      "100%|██████████| 501/501 [00:26<00:00, 18.78it/s]\n",
      "Trying to mark a run completed that was already completed.\n"
     ]
    },
    {
     "name": "stdout",
     "output_type": "stream",
     "text": [
      "R = 1009.94854850507\n"
     ]
    },
    {
     "data": {
      "application/vnd.plotly.v1+json": {
       "config": {
        "plotlyServerURL": "https://plot.ly"
       },
       "data": [
        {
         "mode": "lines",
         "name": "Voltage vs. Current",
         "type": "scatter",
         "x": [
          -0.000001,
          -9.96e-7,
          -9.92e-7,
          -9.88e-7,
          -9.84e-7,
          -9.8e-7,
          -9.76e-7,
          -9.72e-7,
          -9.68e-7,
          -9.64e-7,
          -9.6e-7,
          -9.56e-7,
          -9.52e-7,
          -9.48e-7,
          -9.44e-7,
          -9.4e-7,
          -9.36e-7,
          -9.32e-7,
          -9.28e-7,
          -9.24e-7,
          -9.2e-7,
          -9.16e-7,
          -9.12e-7,
          -9.08e-7,
          -9.04e-7,
          -9e-7,
          -8.96e-7,
          -8.92e-7,
          -8.88e-7,
          -8.84e-7,
          -8.8e-7,
          -8.76e-7,
          -8.72e-7,
          -8.68e-7,
          -8.64e-7,
          -8.6e-7,
          -8.56e-7,
          -8.52e-7,
          -8.48e-7,
          -8.44e-7,
          -8.4e-7,
          -8.36e-7,
          -8.32e-7,
          -8.28e-7,
          -8.24e-7,
          -8.2e-7,
          -8.16e-7,
          -8.12e-7,
          -8.08e-7,
          -8.04e-7,
          -8e-7,
          -7.96e-7,
          -7.92e-7,
          -7.88e-7,
          -7.84e-7,
          -7.8e-7,
          -7.76e-7,
          -7.72e-7,
          -7.68e-7,
          -7.64e-7,
          -7.6e-7,
          -7.56e-7,
          -7.52e-7,
          -7.48e-7,
          -7.44e-7,
          -7.4e-7,
          -7.36e-7,
          -7.32e-7,
          -7.28e-7,
          -7.24e-7,
          -7.2e-7,
          -7.16e-7,
          -7.12e-7,
          -7.08e-7,
          -7.04e-7,
          -7e-7,
          -6.96e-7,
          -6.92e-7,
          -6.88e-7,
          -6.84e-7,
          -6.8e-7,
          -6.76e-7,
          -6.72e-7,
          -6.68e-7,
          -6.64e-7,
          -6.6e-7,
          -6.56e-7,
          -6.52e-7,
          -6.48e-7,
          -6.44e-7,
          -6.4e-7,
          -6.36e-7,
          -6.32e-7,
          -6.28e-7,
          -6.24e-7,
          -6.2e-7,
          -6.16e-7,
          -6.12e-7,
          -6.08e-7,
          -6.04e-7,
          -6e-7,
          -5.96e-7,
          -5.92e-7,
          -5.88e-7,
          -5.84e-7,
          -5.8e-7,
          -5.76e-7,
          -5.72e-7,
          -5.68e-7,
          -5.64e-7,
          -5.6e-7,
          -5.56e-7,
          -5.52e-7,
          -5.48e-7,
          -5.44e-7,
          -5.4e-7,
          -5.36e-7,
          -5.32e-7,
          -5.28e-7,
          -5.24e-7,
          -5.2e-7,
          -5.16e-7,
          -5.12e-7,
          -5.08e-7,
          -5.04e-7,
          -5e-7,
          -4.96e-7,
          -4.92e-7,
          -4.88e-7,
          -4.84e-7,
          -4.8e-7,
          -4.76e-7,
          -4.72e-7,
          -4.68e-7,
          -4.64e-7,
          -4.6e-7,
          -4.56e-7,
          -4.52e-7,
          -4.48e-7,
          -4.44e-7,
          -4.4e-7,
          -4.36e-7,
          -4.32e-7,
          -4.28e-7,
          -4.24e-7,
          -4.2e-7,
          -4.16e-7,
          -4.12e-7,
          -4.08e-7,
          -4.04e-7,
          -4e-7,
          -3.96e-7,
          -3.92e-7,
          -3.88e-7,
          -3.84e-7,
          -3.8e-7,
          -3.76e-7,
          -3.72e-7,
          -3.68e-7,
          -3.64e-7,
          -3.6e-7,
          -3.56e-7,
          -3.52e-7,
          -3.48e-7,
          -3.44e-7,
          -3.4e-7,
          -3.36e-7,
          -3.32e-7,
          -3.28e-7,
          -3.24e-7,
          -3.2e-7,
          -3.16e-7,
          -3.12e-7,
          -3.08e-7,
          -3.04e-7,
          -3e-7,
          -2.96e-7,
          -2.92e-7,
          -2.88e-7,
          -2.84e-7,
          -2.8e-7,
          -2.76e-7,
          -2.72e-7,
          -2.68e-7,
          -2.64e-7,
          -2.6e-7,
          -2.56e-7,
          -2.52e-7,
          -2.48e-7,
          -2.44e-7,
          -2.4e-7,
          -2.36e-7,
          -2.32e-7,
          -2.28e-7,
          -2.24e-7,
          -2.2e-7,
          -2.16e-7,
          -2.12e-7,
          -2.08e-7,
          -2.04e-7,
          -2e-7,
          -1.96e-7,
          -1.92e-7,
          -1.88e-7,
          -1.84e-7,
          -1.8e-7,
          -1.76e-7,
          -1.72e-7,
          -1.68e-7,
          -1.64e-7,
          -1.6e-7,
          -1.56e-7,
          -1.52e-7,
          -1.48e-7,
          -1.44e-7,
          -1.4e-7,
          -1.36e-7,
          -1.32e-7,
          -1.28e-7,
          -1.24e-7,
          -1.2e-7,
          -1.16e-7,
          -1.12e-7,
          -1.08e-7,
          -1.04e-7,
          -1e-7,
          -9.60000000000001e-8,
          -9.20000000000001e-8,
          -8.8e-8,
          -8.40000000000001e-8,
          -8.00000000000001e-8,
          -7.60000000000001e-8,
          -7.20000000000001e-8,
          -6.80000000000001e-8,
          -6.40000000000001e-8,
          -6.00000000000001e-8,
          -5.60000000000001e-8,
          -5.20000000000001e-8,
          -4.80000000000001e-8,
          -4.40000000000001e-8,
          -4e-8,
          -3.60000000000002e-8,
          -3.20000000000001e-8,
          -2.80000000000002e-8,
          -2.40000000000001e-8,
          -2e-8,
          -1.60000000000001e-8,
          -1.20000000000001e-8,
          -8.00000000000018e-9,
          -4.00000000000009e-9,
          0,
          3.99999999999988e-9,
          7.99999999999997e-9,
          1.19999999999998e-8,
          1.59999999999999e-8,
          1.99999999999998e-8,
          2.39999999999999e-8,
          2.8e-8,
          3.19999999999999e-8,
          3.6e-8,
          3.99999999999998e-8,
          4.39999999999999e-8,
          4.79999999999998e-8,
          5.19999999999999e-8,
          5.6e-8,
          5.99999999999998e-8,
          6.4e-8,
          6.79999999999998e-8,
          7.19999999999999e-8,
          7.6e-8,
          7.99999999999999e-8,
          8.4e-8,
          8.79999999999999e-8,
          9.19999999999999e-8,
          9.59999999999998e-8,
          9.99999999999999e-8,
          1.04e-7,
          1.08e-7,
          1.12e-7,
          1.16e-7,
          1.2e-7,
          1.24e-7,
          1.28e-7,
          1.32e-7,
          1.36e-7,
          1.4e-7,
          1.44e-7,
          1.48e-7,
          1.52e-7,
          1.56e-7,
          1.6e-7,
          1.64e-7,
          1.68e-7,
          1.72e-7,
          1.76e-7,
          1.8e-7,
          1.84e-7,
          1.88e-7,
          1.92e-7,
          1.96e-7,
          2e-7,
          2.04e-7,
          2.08e-7,
          2.12e-7,
          2.16e-7,
          2.2e-7,
          2.24e-7,
          2.28e-7,
          2.32e-7,
          2.36e-7,
          2.4e-7,
          2.44e-7,
          2.48e-7,
          2.52e-7,
          2.56e-7,
          2.6e-7,
          2.64e-7,
          2.68e-7,
          2.72e-7,
          2.76e-7,
          2.8e-7,
          2.84e-7,
          2.88e-7,
          2.92e-7,
          2.96e-7,
          3e-7,
          3.04e-7,
          3.08e-7,
          3.12e-7,
          3.16e-7,
          3.2e-7,
          3.24e-7,
          3.28e-7,
          3.32e-7,
          3.36e-7,
          3.4e-7,
          3.44e-7,
          3.48e-7,
          3.52e-7,
          3.56e-7,
          3.6e-7,
          3.64e-7,
          3.68e-7,
          3.72e-7,
          3.76e-7,
          3.8e-7,
          3.84e-7,
          3.88e-7,
          3.92e-7,
          3.96e-7,
          4e-7,
          4.04e-7,
          4.08e-7,
          4.12e-7,
          4.16e-7,
          4.2e-7,
          4.24e-7,
          4.28e-7,
          4.32e-7,
          4.36e-7,
          4.4e-7,
          4.44e-7,
          4.48e-7,
          4.52e-7,
          4.56e-7,
          4.6e-7,
          4.64e-7,
          4.68e-7,
          4.72e-7,
          4.76e-7,
          4.8e-7,
          4.84e-7,
          4.88e-7,
          4.92e-7,
          4.96e-7,
          5e-7,
          5.04e-7,
          5.08e-7,
          5.12e-7,
          5.16e-7,
          5.2e-7,
          5.24e-7,
          5.28e-7,
          5.32e-7,
          5.36e-7,
          5.4e-7,
          5.44e-7,
          5.48e-7,
          5.52e-7,
          5.56e-7,
          5.6e-7,
          5.64e-7,
          5.68e-7,
          5.72e-7,
          5.76e-7,
          5.8e-7,
          5.84e-7,
          5.88e-7,
          5.92e-7,
          5.96e-7,
          6e-7,
          6.04e-7,
          6.08e-7,
          6.12e-7,
          6.16e-7,
          6.2e-7,
          6.24e-7,
          6.28e-7,
          6.32e-7,
          6.36e-7,
          6.4e-7,
          6.44e-7,
          6.48e-7,
          6.52e-7,
          6.56e-7,
          6.6e-7,
          6.64e-7,
          6.68e-7,
          6.72e-7,
          6.76e-7,
          6.8e-7,
          6.84e-7,
          6.88e-7,
          6.92e-7,
          6.96e-7,
          7e-7,
          7.04e-7,
          7.08e-7,
          7.12e-7,
          7.16e-7,
          7.2e-7,
          7.24e-7,
          7.28e-7,
          7.32e-7,
          7.36e-7,
          7.4e-7,
          7.44e-7,
          7.48e-7,
          7.52e-7,
          7.56e-7,
          7.6e-7,
          7.64e-7,
          7.68e-7,
          7.72e-7,
          7.76e-7,
          7.8e-7,
          7.84e-7,
          7.88e-7,
          7.92e-7,
          7.96e-7,
          8e-7,
          8.04e-7,
          8.08e-7,
          8.12e-7,
          8.16e-7,
          8.2e-7,
          8.24e-7,
          8.28e-7,
          8.32e-7,
          8.36e-7,
          8.4e-7,
          8.44e-7,
          8.48e-7,
          8.52e-7,
          8.56e-7,
          8.6e-7,
          8.64e-7,
          8.68e-7,
          8.72e-7,
          8.76e-7,
          8.8e-7,
          8.84e-7,
          8.88e-7,
          8.92e-7,
          8.96e-7,
          9e-7,
          9.04e-7,
          9.08e-7,
          9.12e-7,
          9.16e-7,
          9.2e-7,
          9.24e-7,
          9.28e-7,
          9.32e-7,
          9.36e-7,
          9.4e-7,
          9.44e-7,
          9.48e-7,
          9.52e-7,
          9.56e-7,
          9.6e-7,
          9.64e-7,
          9.68e-7,
          9.72e-7,
          9.76e-7,
          9.8e-7,
          9.84e-7,
          9.88e-7,
          9.92e-7,
          9.96e-7,
          0.000001
         ],
         "y": [
          -1.0097509999999998,
          -1.0057880000000001,
          -1.0016440000000002,
          -0.9977284,
          -0.9936284,
          -0.9894497999999999,
          -0.9855265,
          -0.9815541,
          -0.9775385,
          -0.9733154,
          -0.9693625,
          -0.9653005,
          -0.9613109999999999,
          -0.957236,
          -0.9532317,
          -0.9490921999999999,
          -0.9450986,
          -0.9412107,
          -0.9371642,
          -0.9330466,
          -0.9289901,
          -0.9250709,
          -0.9209055,
          -0.9169466,
          -0.9129277,
          -0.9089356000000001,
          -0.9048029,
          -0.9007824,
          -0.8968324,
          -0.8926085,
          -0.888674,
          -0.8845593,
          -0.880659,
          -0.8764969,
          -0.8725236000000001,
          -0.8685242000000001,
          -0.8643982,
          -0.8604930000000001,
          -0.8563466,
          -0.8524556,
          -0.8481666,
          -0.8442539,
          -0.8402793,
          -0.836097,
          -0.8321666,
          -0.8281666,
          -0.8242229,
          -0.8198579,
          -0.8160008000000001,
          -0.8119758,
          -0.8078656000000001,
          -0.8039317,
          -0.7998868,
          -0.7958966000000001,
          -0.7917240000000001,
          -0.7877708,
          -0.7838227,
          -0.7796854999999999,
          -0.7756915,
          -0.7715619,
          -0.7676182,
          -0.7634732000000001,
          -0.7594997,
          -0.7555167,
          -0.7512454000000001,
          -0.7473770999999999,
          -0.7433984,
          -0.739411,
          -0.7352529,
          -0.7311861999999999,
          -0.7272514,
          -0.7231536000000001,
          -0.7191389,
          -0.7151594,
          -0.7110636,
          -0.7070017,
          -0.7030272,
          -0.6989223,
          -0.6948920000000001,
          -0.6909332,
          -0.6868677,
          -0.6827063999999999,
          -0.6786916000000001,
          -0.6747650999999999,
          -0.6707771,
          -0.6665217,
          -0.6625415,
          -0.6586513,
          -0.654412,
          -0.6504196000000001,
          -0.6464941,
          -0.6424529999999999,
          -0.6382986,
          -0.6343039,
          -0.6303702,
          -0.6261776,
          -0.6221536,
          -0.6182164,
          -0.6141585,
          -0.6100444,
          -0.6060248,
          -0.6021168,
          -0.5978855,
          -0.5938707000000001,
          -0.5899078999999999,
          -0.5859482,
          -0.5817724,
          -0.5777675,
          -0.5737485,
          -0.5696173,
          -0.5656679,
          -0.5616002999999999,
          -0.5575936,
          -0.553534,
          -0.5494315000000001,
          -0.5455482,
          -0.5413321,
          -0.5373371,
          -0.5333941,
          -0.5293386999999999,
          -0.5252117,
          -0.5212855,
          -0.5171903999999999,
          -0.513052,
          -0.509149,
          -0.5050519,
          -0.5011015,
          -0.49699279999999996,
          -0.4928894,
          -0.4890088,
          -0.484797,
          -0.48078200000000004,
          -0.47684529999999997,
          -0.4728355,
          -0.4686851,
          -0.4646985,
          -0.4607489,
          -0.456606,
          -0.452465,
          -0.4485767,
          -0.4445592,
          -0.4403954,
          -0.4364328,
          -0.4324048,
          -0.4282823,
          -0.42418490000000003,
          -0.42026789999999997,
          -0.4161585,
          -0.4120911,
          -0.40816399999999997,
          -0.4041792,
          -0.3999715,
          -0.3960074,
          -0.3920227,
          -0.3878777,
          -0.3837828,
          -0.3799217,
          -0.3759113,
          -0.3717645,
          -0.36776590000000003,
          -0.36373550000000004,
          -0.3596342,
          -0.355602,
          -0.35162479999999996,
          -0.3476008,
          -0.3434609,
          -0.3394365,
          -0.3354807,
          -0.3313636,
          -0.3273476,
          -0.3233403,
          -0.3193686,
          -0.3152114,
          -0.31119600000000003,
          -0.307172,
          -0.3031164,
          -0.2990699,
          -0.29509650000000004,
          -0.2910581,
          -0.2869309,
          -0.2829818,
          -0.27891469999999996,
          -0.2748278,
          -0.27076100000000003,
          -0.26689850000000004,
          -0.26276309999999997,
          -0.25869780000000003,
          -0.25463990000000003,
          -0.2507398,
          -0.24646359999999998,
          -0.24258020000000002,
          -0.2385779,
          -0.2346006,
          -0.2304039,
          -0.2264135,
          -0.2224745,
          -0.2182934,
          -0.21426759999999997,
          -0.2102859,
          -0.2063261,
          -0.2021163,
          -0.1981047,
          -0.1941694,
          -0.18998220000000002,
          -0.18604320000000002,
          -0.1819826,
          -0.1779644,
          -0.1738972,
          -0.1699058,
          -0.16592669999999998,
          -0.1616809,
          -0.1578094,
          -0.1537497,
          -0.1497333,
          -0.1455227,
          -0.14163469999999997,
          -0.13764490000000001,
          -0.1334512,
          -0.1294798,
          -0.12543140000000003,
          -0.1213823,
          -0.1173531,
          -0.11335049999999999,
          -0.1093538,
          -0.1052135,
          -0.1012163,
          -0.09720863,
          -0.09305084000000001,
          -0.08905434,
          -0.08510540999999999,
          -0.08103903,
          -0.07694635,
          -0.07298588,
          -0.06897589,
          -0.06478808999999999,
          -0.06082344,
          -0.05682037,
          -0.052788840000000004,
          -0.0486494,
          -0.044719760000000004,
          -0.0406737,
          -0.036592940000000004,
          -0.03252805,
          -0.02858929,
          -0.02455564,
          -0.02042325,
          -0.0164202,
          -0.012380859999999999,
          -0.008248245999999999,
          -0.004262813,
          -0.0003052299,
          0.004319114,
          0.008295339,
          0.012438,
          0.016464060000000003,
          0.020408449999999998,
          0.024453449999999998,
          0.02861242,
          0.03257832,
          0.036570099999999994,
          0.040660310000000005,
          0.04472738,
          0.04873848,
          0.05269775,
          0.056852570000000005,
          0.060877829999999994,
          0.06487534,
          0.06903424000000001,
          0.07304722999999999,
          0.07697654,
          0.08093913,
          0.08515131000000001,
          0.08914694000000001,
          0.09315758,
          0.09728693,
          0.10127209999999999,
          0.10522419999999999,
          0.1092225,
          0.1133815,
          0.11737869999999999,
          0.12144339999999999,
          0.1255336,
          0.1295465,
          0.1335927,
          0.1375041,
          0.1416825,
          0.14566620000000002,
          0.1496222,
          0.1537819,
          0.1577978,
          0.1618168,
          0.1658078,
          0.1699263,
          0.1739693,
          0.1779126,
          0.18208960000000002,
          0.1861105,
          0.1901456,
          0.1940441,
          0.1982101,
          0.2022282,
          0.2061407,
          0.2103843,
          0.2143784,
          0.2183164,
          0.2223195,
          0.2265062,
          0.2304971,
          0.2344841,
          0.2386241,
          0.2426411,
          0.2466485,
          0.2506247,
          0.254764,
          0.2587971,
          0.2627104,
          0.2668864,
          0.2708158,
          0.27479750000000003,
          0.2788682,
          0.2830491,
          0.2870099,
          0.2909927,
          0.2951356,
          0.299121,
          0.3031147,
          0.3070771,
          0.3112481,
          0.3152332,
          0.31924759999999996,
          0.3233605,
          0.3273502,
          0.3313655,
          0.33534610000000004,
          0.33951210000000004,
          0.343536,
          0.3475162,
          0.35166590000000003,
          0.35564640000000003,
          0.3596487,
          0.3636445,
          0.3677513,
          0.3717851,
          0.3757742,
          0.37991400000000003,
          0.38394219999999996,
          0.3879276,
          0.39189169999999995,
          0.3960707,
          0.40006790000000003,
          0.40400579999999997,
          0.40822200000000003,
          0.4122057,
          0.4162117,
          0.4202248,
          0.42435500000000004,
          0.428365,
          0.4323761,
          0.4365385,
          0.44049,
          0.4444456,
          0.44847289999999995,
          0.4526569,
          0.4565954,
          0.4606101,
          0.4647422,
          0.4687118,
          0.4727369,
          0.4767538,
          0.4808332,
          0.4848659,
          0.48886640000000003,
          0.49305979999999994,
          0.49703349999999996,
          0.5010209,
          0.5050039000000001,
          0.5091477,
          0.5131178,
          0.5171066999999999,
          0.5213108999999999,
          0.5252198,
          0.5292683,
          0.5332721,
          0.537449,
          0.5414019,
          0.5454251999999999,
          0.5495452,
          0.5535374999999999,
          0.5575509,
          0.5615389,
          0.5656993,
          0.5696918000000001,
          0.5736448,
          0.5778343,
          0.5818019999999999,
          0.5857567,
          0.5898019999999999,
          0.5940236999999999,
          0.5979407,
          0.6019105,
          0.6060656,
          0.6100494,
          0.6140489,
          0.6180642000000001,
          0.6221744,
          0.6262251000000001,
          0.6301895000000001,
          0.6343663,
          0.6383424,
          0.6423848,
          0.6463144,
          0.6504337,
          0.654401,
          0.6584099,
          0.6626355,
          0.666612,
          0.670606,
          0.67457,
          0.6787361000000001,
          0.6827507,
          0.686678,
          0.6908919,
          0.6948571,
          0.6988595,
          0.702871,
          0.7069948,
          0.7110082,
          0.714981,
          0.7191225,
          0.7231273,
          0.7271268,
          0.7310650999999999,
          0.7351992,
          0.7392544,
          0.7432375,
          0.7473979,
          0.7513767,
          0.755347,
          0.7593599,
          0.7635735,
          0.7675085,
          0.7714801,
          0.7756927,
          0.7795759,
          0.7836713,
          0.7877476,
          0.7917240000000001,
          0.7957281,
          0.7996960999999999,
          0.8039120000000001,
          0.8079040999999999,
          0.8118721,
          0.8160586999999999,
          0.8200126999999999,
          0.8239656,
          0.8279675000000001,
          0.8321392000000001,
          0.8361455,
          0.8401668,
          0.8442614,
          0.8482841,
          0.8522794,
          0.8562914,
          0.8603594999999999,
          0.8644819,
          0.8684586,
          0.8725731,
          0.8765482,
          0.8805169,
          0.8845022,
          0.8886781,
          0.892666,
          0.8966316000000001,
          0.9008306,
          0.9048146,
          0.9087791,
          0.9127639,
          0.9169872,
          0.9208896999999999,
          0.9249162,
          0.9290113,
          0.9330184,
          0.9370206,
          0.9410239,
          0.9452451,
          0.9492176,
          0.9532088999999999,
          0.9573071000000001,
          0.9613203,
          0.9653009,
          0.9693068,
          0.9734079,
          0.9774191,
          0.9814288999999999,
          0.9855618,
          0.9894789999999999,
          0.9935368,
          0.9974916,
          1.001638,
          1.005658,
          1.009666
         ]
        }
       ],
       "layout": {
        "height": 960,
        "margin": {
         "b": 10,
         "l": 10,
         "r": 10,
         "t": 50
        },
        "template": {
         "data": {
          "bar": [
           {
            "error_x": {
             "color": "#2a3f5f"
            },
            "error_y": {
             "color": "#2a3f5f"
            },
            "marker": {
             "line": {
              "color": "#E5ECF6",
              "width": 0.5
             },
             "pattern": {
              "fillmode": "overlay",
              "size": 10,
              "solidity": 0.2
             }
            },
            "type": "bar"
           }
          ],
          "barpolar": [
           {
            "marker": {
             "line": {
              "color": "#E5ECF6",
              "width": 0.5
             },
             "pattern": {
              "fillmode": "overlay",
              "size": 10,
              "solidity": 0.2
             }
            },
            "type": "barpolar"
           }
          ],
          "carpet": [
           {
            "aaxis": {
             "endlinecolor": "#2a3f5f",
             "gridcolor": "white",
             "linecolor": "white",
             "minorgridcolor": "white",
             "startlinecolor": "#2a3f5f"
            },
            "baxis": {
             "endlinecolor": "#2a3f5f",
             "gridcolor": "white",
             "linecolor": "white",
             "minorgridcolor": "white",
             "startlinecolor": "#2a3f5f"
            },
            "type": "carpet"
           }
          ],
          "choropleth": [
           {
            "colorbar": {
             "outlinewidth": 0,
             "ticks": ""
            },
            "type": "choropleth"
           }
          ],
          "contour": [
           {
            "colorbar": {
             "outlinewidth": 0,
             "ticks": ""
            },
            "colorscale": [
             [
              0,
              "#0d0887"
             ],
             [
              0.1111111111111111,
              "#46039f"
             ],
             [
              0.2222222222222222,
              "#7201a8"
             ],
             [
              0.3333333333333333,
              "#9c179e"
             ],
             [
              0.4444444444444444,
              "#bd3786"
             ],
             [
              0.5555555555555556,
              "#d8576b"
             ],
             [
              0.6666666666666666,
              "#ed7953"
             ],
             [
              0.7777777777777778,
              "#fb9f3a"
             ],
             [
              0.8888888888888888,
              "#fdca26"
             ],
             [
              1,
              "#f0f921"
             ]
            ],
            "type": "contour"
           }
          ],
          "contourcarpet": [
           {
            "colorbar": {
             "outlinewidth": 0,
             "ticks": ""
            },
            "type": "contourcarpet"
           }
          ],
          "heatmap": [
           {
            "colorbar": {
             "outlinewidth": 0,
             "ticks": ""
            },
            "colorscale": [
             [
              0,
              "#0d0887"
             ],
             [
              0.1111111111111111,
              "#46039f"
             ],
             [
              0.2222222222222222,
              "#7201a8"
             ],
             [
              0.3333333333333333,
              "#9c179e"
             ],
             [
              0.4444444444444444,
              "#bd3786"
             ],
             [
              0.5555555555555556,
              "#d8576b"
             ],
             [
              0.6666666666666666,
              "#ed7953"
             ],
             [
              0.7777777777777778,
              "#fb9f3a"
             ],
             [
              0.8888888888888888,
              "#fdca26"
             ],
             [
              1,
              "#f0f921"
             ]
            ],
            "type": "heatmap"
           }
          ],
          "heatmapgl": [
           {
            "colorbar": {
             "outlinewidth": 0,
             "ticks": ""
            },
            "colorscale": [
             [
              0,
              "#0d0887"
             ],
             [
              0.1111111111111111,
              "#46039f"
             ],
             [
              0.2222222222222222,
              "#7201a8"
             ],
             [
              0.3333333333333333,
              "#9c179e"
             ],
             [
              0.4444444444444444,
              "#bd3786"
             ],
             [
              0.5555555555555556,
              "#d8576b"
             ],
             [
              0.6666666666666666,
              "#ed7953"
             ],
             [
              0.7777777777777778,
              "#fb9f3a"
             ],
             [
              0.8888888888888888,
              "#fdca26"
             ],
             [
              1,
              "#f0f921"
             ]
            ],
            "type": "heatmapgl"
           }
          ],
          "histogram": [
           {
            "marker": {
             "pattern": {
              "fillmode": "overlay",
              "size": 10,
              "solidity": 0.2
             }
            },
            "type": "histogram"
           }
          ],
          "histogram2d": [
           {
            "colorbar": {
             "outlinewidth": 0,
             "ticks": ""
            },
            "colorscale": [
             [
              0,
              "#0d0887"
             ],
             [
              0.1111111111111111,
              "#46039f"
             ],
             [
              0.2222222222222222,
              "#7201a8"
             ],
             [
              0.3333333333333333,
              "#9c179e"
             ],
             [
              0.4444444444444444,
              "#bd3786"
             ],
             [
              0.5555555555555556,
              "#d8576b"
             ],
             [
              0.6666666666666666,
              "#ed7953"
             ],
             [
              0.7777777777777778,
              "#fb9f3a"
             ],
             [
              0.8888888888888888,
              "#fdca26"
             ],
             [
              1,
              "#f0f921"
             ]
            ],
            "type": "histogram2d"
           }
          ],
          "histogram2dcontour": [
           {
            "colorbar": {
             "outlinewidth": 0,
             "ticks": ""
            },
            "colorscale": [
             [
              0,
              "#0d0887"
             ],
             [
              0.1111111111111111,
              "#46039f"
             ],
             [
              0.2222222222222222,
              "#7201a8"
             ],
             [
              0.3333333333333333,
              "#9c179e"
             ],
             [
              0.4444444444444444,
              "#bd3786"
             ],
             [
              0.5555555555555556,
              "#d8576b"
             ],
             [
              0.6666666666666666,
              "#ed7953"
             ],
             [
              0.7777777777777778,
              "#fb9f3a"
             ],
             [
              0.8888888888888888,
              "#fdca26"
             ],
             [
              1,
              "#f0f921"
             ]
            ],
            "type": "histogram2dcontour"
           }
          ],
          "mesh3d": [
           {
            "colorbar": {
             "outlinewidth": 0,
             "ticks": ""
            },
            "type": "mesh3d"
           }
          ],
          "parcoords": [
           {
            "line": {
             "colorbar": {
              "outlinewidth": 0,
              "ticks": ""
             }
            },
            "type": "parcoords"
           }
          ],
          "pie": [
           {
            "automargin": true,
            "type": "pie"
           }
          ],
          "scatter": [
           {
            "fillpattern": {
             "fillmode": "overlay",
             "size": 10,
             "solidity": 0.2
            },
            "type": "scatter"
           }
          ],
          "scatter3d": [
           {
            "line": {
             "colorbar": {
              "outlinewidth": 0,
              "ticks": ""
             }
            },
            "marker": {
             "colorbar": {
              "outlinewidth": 0,
              "ticks": ""
             }
            },
            "type": "scatter3d"
           }
          ],
          "scattercarpet": [
           {
            "marker": {
             "colorbar": {
              "outlinewidth": 0,
              "ticks": ""
             }
            },
            "type": "scattercarpet"
           }
          ],
          "scattergeo": [
           {
            "marker": {
             "colorbar": {
              "outlinewidth": 0,
              "ticks": ""
             }
            },
            "type": "scattergeo"
           }
          ],
          "scattergl": [
           {
            "marker": {
             "colorbar": {
              "outlinewidth": 0,
              "ticks": ""
             }
            },
            "type": "scattergl"
           }
          ],
          "scattermapbox": [
           {
            "marker": {
             "colorbar": {
              "outlinewidth": 0,
              "ticks": ""
             }
            },
            "type": "scattermapbox"
           }
          ],
          "scatterpolar": [
           {
            "marker": {
             "colorbar": {
              "outlinewidth": 0,
              "ticks": ""
             }
            },
            "type": "scatterpolar"
           }
          ],
          "scatterpolargl": [
           {
            "marker": {
             "colorbar": {
              "outlinewidth": 0,
              "ticks": ""
             }
            },
            "type": "scatterpolargl"
           }
          ],
          "scatterternary": [
           {
            "marker": {
             "colorbar": {
              "outlinewidth": 0,
              "ticks": ""
             }
            },
            "type": "scatterternary"
           }
          ],
          "surface": [
           {
            "colorbar": {
             "outlinewidth": 0,
             "ticks": ""
            },
            "colorscale": [
             [
              0,
              "#0d0887"
             ],
             [
              0.1111111111111111,
              "#46039f"
             ],
             [
              0.2222222222222222,
              "#7201a8"
             ],
             [
              0.3333333333333333,
              "#9c179e"
             ],
             [
              0.4444444444444444,
              "#bd3786"
             ],
             [
              0.5555555555555556,
              "#d8576b"
             ],
             [
              0.6666666666666666,
              "#ed7953"
             ],
             [
              0.7777777777777778,
              "#fb9f3a"
             ],
             [
              0.8888888888888888,
              "#fdca26"
             ],
             [
              1,
              "#f0f921"
             ]
            ],
            "type": "surface"
           }
          ],
          "table": [
           {
            "cells": {
             "fill": {
              "color": "#EBF0F8"
             },
             "line": {
              "color": "white"
             }
            },
            "header": {
             "fill": {
              "color": "#C8D4E3"
             },
             "line": {
              "color": "white"
             }
            },
            "type": "table"
           }
          ]
         },
         "layout": {
          "annotationdefaults": {
           "arrowcolor": "#2a3f5f",
           "arrowhead": 0,
           "arrowwidth": 1
          },
          "autotypenumbers": "strict",
          "coloraxis": {
           "colorbar": {
            "outlinewidth": 0,
            "ticks": ""
           }
          },
          "colorscale": {
           "diverging": [
            [
             0,
             "#8e0152"
            ],
            [
             0.1,
             "#c51b7d"
            ],
            [
             0.2,
             "#de77ae"
            ],
            [
             0.3,
             "#f1b6da"
            ],
            [
             0.4,
             "#fde0ef"
            ],
            [
             0.5,
             "#f7f7f7"
            ],
            [
             0.6,
             "#e6f5d0"
            ],
            [
             0.7,
             "#b8e186"
            ],
            [
             0.8,
             "#7fbc41"
            ],
            [
             0.9,
             "#4d9221"
            ],
            [
             1,
             "#276419"
            ]
           ],
           "sequential": [
            [
             0,
             "#0d0887"
            ],
            [
             0.1111111111111111,
             "#46039f"
            ],
            [
             0.2222222222222222,
             "#7201a8"
            ],
            [
             0.3333333333333333,
             "#9c179e"
            ],
            [
             0.4444444444444444,
             "#bd3786"
            ],
            [
             0.5555555555555556,
             "#d8576b"
            ],
            [
             0.6666666666666666,
             "#ed7953"
            ],
            [
             0.7777777777777778,
             "#fb9f3a"
            ],
            [
             0.8888888888888888,
             "#fdca26"
            ],
            [
             1,
             "#f0f921"
            ]
           ],
           "sequentialminus": [
            [
             0,
             "#0d0887"
            ],
            [
             0.1111111111111111,
             "#46039f"
            ],
            [
             0.2222222222222222,
             "#7201a8"
            ],
            [
             0.3333333333333333,
             "#9c179e"
            ],
            [
             0.4444444444444444,
             "#bd3786"
            ],
            [
             0.5555555555555556,
             "#d8576b"
            ],
            [
             0.6666666666666666,
             "#ed7953"
            ],
            [
             0.7777777777777778,
             "#fb9f3a"
            ],
            [
             0.8888888888888888,
             "#fdca26"
            ],
            [
             1,
             "#f0f921"
            ]
           ]
          },
          "colorway": [
           "#636efa",
           "#EF553B",
           "#00cc96",
           "#ab63fa",
           "#FFA15A",
           "#19d3f3",
           "#FF6692",
           "#B6E880",
           "#FF97FF",
           "#FECB52"
          ],
          "font": {
           "color": "#2a3f5f"
          },
          "geo": {
           "bgcolor": "white",
           "lakecolor": "white",
           "landcolor": "#E5ECF6",
           "showlakes": true,
           "showland": true,
           "subunitcolor": "white"
          },
          "hoverlabel": {
           "align": "left"
          },
          "hovermode": "closest",
          "mapbox": {
           "style": "light"
          },
          "paper_bgcolor": "white",
          "plot_bgcolor": "#E5ECF6",
          "polar": {
           "angularaxis": {
            "gridcolor": "white",
            "linecolor": "white",
            "ticks": ""
           },
           "bgcolor": "#E5ECF6",
           "radialaxis": {
            "gridcolor": "white",
            "linecolor": "white",
            "ticks": ""
           }
          },
          "scene": {
           "xaxis": {
            "backgroundcolor": "#E5ECF6",
            "gridcolor": "white",
            "gridwidth": 2,
            "linecolor": "white",
            "showbackground": true,
            "ticks": "",
            "zerolinecolor": "white"
           },
           "yaxis": {
            "backgroundcolor": "#E5ECF6",
            "gridcolor": "white",
            "gridwidth": 2,
            "linecolor": "white",
            "showbackground": true,
            "ticks": "",
            "zerolinecolor": "white"
           },
           "zaxis": {
            "backgroundcolor": "#E5ECF6",
            "gridcolor": "white",
            "gridwidth": 2,
            "linecolor": "white",
            "showbackground": true,
            "ticks": "",
            "zerolinecolor": "white"
           }
          },
          "shapedefaults": {
           "line": {
            "color": "#2a3f5f"
           }
          },
          "ternary": {
           "aaxis": {
            "gridcolor": "white",
            "linecolor": "white",
            "ticks": ""
           },
           "baxis": {
            "gridcolor": "white",
            "linecolor": "white",
            "ticks": ""
           },
           "bgcolor": "#E5ECF6",
           "caxis": {
            "gridcolor": "white",
            "linecolor": "white",
            "ticks": ""
           }
          },
          "title": {
           "x": 0.05
          },
          "xaxis": {
           "automargin": true,
           "gridcolor": "white",
           "linecolor": "white",
           "ticks": "",
           "title": {
            "standoff": 15
           },
           "zerolinecolor": "white",
           "zerolinewidth": 2
          },
          "yaxis": {
           "automargin": true,
           "gridcolor": "white",
           "linecolor": "white",
           "ticks": "",
           "title": {
            "standoff": 15
           },
           "zerolinecolor": "white",
           "zerolinewidth": 2
          }
         }
        },
        "title": {
         "font": {
          "size": 28
         },
         "text": "<b>#5 I-V</b> 009-1_1kOhms, R_fit=1009.9485 Ω"
        },
        "width": 1080,
        "xaxis": {
         "tickfont": {
          "size": 16
         },
         "title": {
          "font": {
           "size": 20
          },
          "text": "appl_current"
         }
        },
        "yaxis": {
         "tickfont": {
          "size": 16
         },
         "title": {
          "font": {
           "size": 20
          },
          "text": "meas_voltage_K1 mV"
         }
        }
       }
      }
     },
     "metadata": {},
     "output_type": "display_data"
    },
    {
     "data": {
      "application/vnd.plotly.v1+json": {
       "config": {
        "plotlyServerURL": "https://plot.ly"
       },
       "data": [
        {
         "mode": "lines",
         "name": "d(Voltage)/d(Current)",
         "type": "scatter",
         "x": [
          -1000,
          -996.0000000000001,
          -992,
          -987.9999999999999,
          -984,
          -979.9999999999999,
          -976.0000000000001,
          -972,
          -968.0000000000001,
          -964,
          -959.9999999999999,
          -956,
          -952,
          -948,
          -944,
          -940,
          -936,
          -932,
          -928,
          -924,
          -920,
          -916,
          -912,
          -908,
          -904,
          -900,
          -896,
          -892,
          -888,
          -884,
          -880,
          -876,
          -872,
          -868,
          -864,
          -860,
          -856,
          -852,
          -848,
          -844,
          -840,
          -836,
          -832,
          -828,
          -824,
          -820,
          -816,
          -812,
          -808,
          -804,
          -800,
          -796,
          -792,
          -788,
          -784,
          -780,
          -776,
          -772,
          -768,
          -764,
          -760,
          -756,
          -752,
          -748,
          -744,
          -740,
          -736,
          -732,
          -728,
          -724,
          -720,
          -716,
          -712,
          -708,
          -704,
          -700,
          -696,
          -692,
          -688,
          -684,
          -680,
          -676,
          -672,
          -668,
          -664,
          -660,
          -656,
          -652,
          -648,
          -644,
          -640,
          -636,
          -632,
          -628,
          -624,
          -620,
          -616,
          -612,
          -608,
          -604,
          -600,
          -596,
          -592,
          -588,
          -584,
          -580,
          -576,
          -572,
          -568,
          -564,
          -560,
          -556,
          -552,
          -548,
          -544,
          -540,
          -536,
          -532,
          -528,
          -524,
          -520,
          -516,
          -512,
          -508.00000000000006,
          -503.99999999999994,
          -500,
          -496,
          -492,
          -488.00000000000006,
          -484.00000000000006,
          -479.99999999999994,
          -476,
          -472,
          -468,
          -464,
          -460,
          -456,
          -452,
          -448,
          -444,
          -440,
          -436,
          -432,
          -428,
          -424,
          -420,
          -416,
          -412,
          -408,
          -404,
          -400,
          -396,
          -392,
          -388,
          -384,
          -380,
          -376,
          -372,
          -368,
          -364,
          -360,
          -356,
          -352,
          -348,
          -344,
          -340,
          -336,
          -332,
          -328,
          -324,
          -320,
          -316,
          -312,
          -308,
          -304,
          -300,
          -296,
          -292,
          -288,
          -284,
          -280,
          -276,
          -272,
          -268,
          -264,
          -260,
          -256,
          -251.99999999999997,
          -248,
          -244.00000000000003,
          -239.99999999999997,
          -236,
          -232,
          -228,
          -224,
          -220,
          -216,
          -212,
          -208,
          -204,
          -200,
          -196,
          -192,
          -188,
          -184,
          -180,
          -176,
          -172,
          -168,
          -164,
          -160,
          -156,
          -152,
          -148,
          -144,
          -140,
          -136,
          -132,
          -128,
          -124,
          -119.99999999999999,
          -116,
          -112,
          -108,
          -104,
          -100,
          -96.0000000000001,
          -92.0000000000001,
          -88,
          -84.0000000000001,
          -80.0000000000001,
          -76.0000000000001,
          -72.0000000000001,
          -68.0000000000001,
          -64.0000000000001,
          -60.0000000000001,
          -56.0000000000001,
          -52.0000000000001,
          -48.0000000000001,
          -44.0000000000001,
          -40,
          -36.000000000000206,
          -32.0000000000001,
          -28.000000000000203,
          -24.0000000000001,
          -20,
          -16.0000000000001,
          -12.0000000000001,
          -8.000000000000181,
          -4.000000000000091,
          0,
          3.99999999999988,
          7.999999999999971,
          11.9999999999998,
          15.999999999999899,
          19.999999999999797,
          23.9999999999999,
          28,
          31.999999999999904,
          36,
          39.9999999999998,
          43.9999999999999,
          47.9999999999998,
          51.9999999999999,
          56,
          59.999999999999794,
          64,
          67.9999999999998,
          71.9999999999999,
          76,
          79.9999999999999,
          84,
          87.9999999999999,
          91.9999999999999,
          95.9999999999998,
          99.9999999999999,
          104,
          108,
          112,
          116,
          119.99999999999999,
          124,
          128,
          132,
          136,
          140,
          144,
          148,
          152,
          156,
          160,
          164,
          168,
          172,
          176,
          180,
          184,
          188,
          192,
          196,
          200,
          204,
          208,
          212,
          216,
          220,
          224,
          228,
          232,
          236,
          239.99999999999997,
          244.00000000000003,
          248,
          251.99999999999997,
          256,
          260,
          264,
          268,
          272,
          276,
          280,
          284,
          288,
          292,
          296,
          300,
          304,
          308,
          312,
          316,
          320,
          324,
          328,
          332,
          336,
          340,
          344,
          348,
          352,
          356,
          360,
          364,
          368,
          372,
          376,
          380,
          384,
          388,
          392,
          396,
          400,
          404,
          408,
          412,
          416,
          420,
          424,
          428,
          432,
          436,
          440,
          444,
          448,
          452,
          456,
          460,
          464,
          468,
          472,
          476,
          479.99999999999994,
          484.00000000000006,
          488.00000000000006,
          492,
          496,
          500,
          503.99999999999994,
          508.00000000000006,
          512,
          516,
          520,
          524,
          528,
          532,
          536,
          540,
          544,
          548,
          552,
          556,
          560,
          564,
          568,
          572,
          576,
          580,
          584,
          588,
          592,
          596,
          600,
          604,
          608,
          612,
          616,
          620,
          624,
          628,
          632,
          636,
          640,
          644,
          648,
          652,
          656,
          660,
          664,
          668,
          672,
          676,
          680,
          684,
          688,
          692,
          696,
          700,
          704,
          708,
          712,
          716,
          720,
          724,
          728,
          732,
          736,
          740,
          744,
          748,
          752,
          756,
          760,
          764,
          768,
          772,
          776,
          780,
          784,
          788,
          792,
          796,
          800,
          804,
          808,
          812,
          816,
          820,
          824,
          828,
          832,
          836,
          840,
          844,
          848,
          852,
          856,
          860,
          864,
          868,
          872,
          876,
          880,
          884,
          888,
          892,
          896,
          900,
          904,
          908,
          912,
          916,
          920,
          924,
          928,
          932,
          936,
          940,
          944,
          948,
          952,
          956,
          959.9999999999999,
          964,
          968.0000000000001,
          972,
          976.0000000000001,
          979.9999999999999,
          984,
          987.9999999999999,
          992,
          996.0000000000001
         ],
         "y": [
          990.7499999999905,
          1035.9999999999718,
          978.9000000000173,
          1025.0000000000157,
          1044.649999999994,
          980.8250000000209,
          993.0999999999804,
          1003.9000000000299,
          1055.7749999999655,
          988.2249999999715,
          1015.5000000000285,
          997.3750000000015,
          1018.7499999999986,
          1001.0749999999886,
          1034.8750000000223,
          998.3999999999979,
          971.9750000000128,
          1011.6250000000084,
          1029.399999999971,
          1014.1249999999935,
          979.7999999999978,
          1041.3500000000076,
          989.7250000000213,
          1004.7249999999865,
          998.0249999999792,
          1033.1750000000118,
          1005.1250000000144,
          987.4999999999943,
          1055.9750000000076,
          983.6250000000011,
          1028.674999999968,
          975.0750000000128,
          1040.5249999999974,
          993.3250000000021,
          999.8500000000046,
          1031.5000000000098,
          976.299999999971,
          1036.6000000000142,
          972.750000000006,
          1072.250000000001,
          978.1750000000128,
          993.6500000000045,
          1045.5749999999841,
          982.6000000000039,
          1000.0000000000015,
          985.9249999999994,
          1091.250000000002,
          964.2749999999891,
          1006.2500000000186,
          1027.5499999999636,
          983.4750000000041,
          1011.2250000000075,
          997.5500000000062,
          1043.149999999998,
          988.3000000000233,
          987.0249999999688,
          1034.3000000000159,
          998.500000000005,
          1032.3999999999915,
          985.9249999999994,
          1036.2500000000032,
          993.3749999999928,
          995.7499999999887,
          1067.8250000000098,
          967.0750000000223,
          994.6750000000017,
          996.8499999999844,
          1039.5249999999812,
          1016.6750000000229,
          983.6999999999996,
          1024.4499999999907,
          1003.6750000000079,
          994.8750000000157,
          1023.9499999999558,
          1015.4750000000203,
          993.6249999999959,
          1026.225,
          1007.5750000000097,
          989.7000000000128,
          1016.374999999975,
          1040.3250000000105,
          1003.6999999999892,
          981.6250000000238,
          996.9999999999814,
          1063.8500000000097,
          995.0500000000211,
          972.5499999999663,
          1059.8249999999923,
          998.1000000000041,
          981.3750000000199,
          1010.2750000000088,
          1038.5999999999915,
          998.674999999984,
          983.4250000000142,
          1048.1499999999955,
          1006.0000000000147,
          984.2999999999873,
          1014.4750000000045,
          1028.5249999999708,
          1004.9000000000191,
          976.9999999999916,
          1057.825000000015,
          1003.6999999999892,
          990.7000000000285,
          989.9249999999548,
          1043.9500000000269,
          1001.2249999999856,
          1004.750000000022,
          1032.7999999999922,
          987.3499999999974,
          1016.8999999999913,
          1001.6750000000035,
          1014.9000000000138,
          1025.624999999985,
          970.825,
          1054.0250000000203,
          998.7500000000089,
          985.7499999999678,
          1013.8500000000082,
          1031.7500000000136,
          981.5499999999982,
          1023.7750000000046,
          1034.6000000000097,
          975.7499999999732,
          1024.2749999999853,
          987.6000000000284,
          1027.1749999999986,
          1025.8500000000074,
          970.1499999999867,
          1052.9499999999916,
          1003.7499999999927,
          984.1750000000125,
          1002.4499999999967,
          1037.6000000000029,
          996.6499999999978,
          987.4000000000009,
          1035.7250000000004,
          1035.250000000001,
          972.0750000000062,
          1004.3750000000026,
          1040.949999999993,
          990.6499999999979,
          1007.0000000000033,
          1030.624999999996,
          1024.3499999999974,
          979.2500000000135,
          1027.3499999999904,
          1016.8500000000013,
          981.7750000000071,
          996.1999999999799,
          1051.9250000000088,
          991.0250000000038,
          996.1749999999985,
          1036.2500000000032,
          1023.725000000001,
          965.274999999992,
          1002.6000000000072,
          1036.6999999999941,
          999.6499999999909,
          1007.6000000000046,
          1025.3250000000046,
          1008.0499999999956,
          994.3000000000093,
          1006.0000000000011,
          1034.9749999999883,
          1006.1000000000081,
          988.950000000001,
          1029.2750000000099,
          1003.9999999999834,
          1001.8250000000004,
          992.9250000000147,
          1039.299999999986,
          1003.8499999999998,
          1006.0000000000147,
          1013.8999999999847,
          1011.6250000000084,
          993.3499999999971,
          1009.5999999999957,
          1031.8000000000036,
          987.274999999999,
          1016.7750000000028,
          1021.7249999999967,
          1016.7000000000043,
          965.6249999999894,
          1033.8500000000115,
          1016.3249999999983,
          1014.474999999991,
          975.0250000000093,
          1069.0500000000075,
          970.8499999999822,
          1000.5750000000078,
          994.3250000000043,
          1049.1749999999993,
          997.5999999999964,
          984.7500000000052,
          1045.2749999999974,
          1006.4499999999988,
          995.425,
          989.9499999999965,
          1052.449999999998,
          1002.9000000000078,
          983.824999999995,
          1046.7999999999956,
          984.7500000000052,
          1015.1499999999976,
          1004.5500000000014,
          1016.8000000000045,
          997.8499999999935,
          994.7750000000086,
          1061.4499999999973,
          967.8749999999974,
          1014.9250000000021,
          1004.0999999999971,
          1052.6499999999983,
          972.0000000000077,
          997.4499999999927,
          1048.425000000001,
          992.8500000000028,
          1012.0999999999942,
          1012.2749999999997,
          1007.3000000000039,
          1000.6499999999996,
          999.1750000000014,
          1035.074999999999,
          999.3000000000001,
          1001.9175000000267,
          1039.4474999999964,
          999.1249999999749,
          987.232500000029,
          1016.594999999997,
          1023.1699999999995,
          990.1175000000014,
          1002.4975000000001,
          1046.9499999999994,
          991.1624999999999,
          1000.7674999999994,
          1007.8825000000007,
          1034.859999999999,
          982.4100000000009,
          1011.514999999974,
          1020.1900000000518,
          1016.2224999999745,
          984.6900000000248,
          1008.4124999999747,
          1033.0974999999737,
          1000.7625000000255,
          1009.8349999999997,
          1033.153500000021,
          996.3582499999774,
          989.3957749999777,
          1156.0859750000345,
          994.0562499999776,
          1035.6652500000444,
          1006.5149999999754,
          986.0975000000242,
          1011.2499999999741,
          1039.7424999999744,
          991.4750000000245,
          997.9449999999754,
          1022.5525000000512,
          1016.7674999999754,
          1002.7750000000241,
          989.8174999999745,
          1038.7049999999763,
          1006.3150000000494,
          999.3774999999491,
          1039.725000000054,
          1003.2474999999718,
          982.3274999999759,
          990.6475000000274,
          1053.0449999999746,
          998.9075000000228,
          1002.6600000000013,
          1032.3375000000244,
          996.2924999999733,
          988.0249999999745,
          999.5750000000023,
          1039.7500000000007,
          999.2999999999968,
          1016.1750000000048,
          1022.5500000000002,
          1003.2249999999968,
          1011.5500000000031,
          977.8499999999972,
          1044.5999999999976,
          995.9250000000078,
          988.9999999999978,
          1039.9249999999959,
          1003.9750000000017,
          1004.7500000000019,
          997.7499999999933,
          1029.6250000000073,
          1010.7499999999947,
          985.825000000006,
          1044.2500000000002,
          1005.2249999999945,
          1008.7750000000055,
          974.6249999999952,
          1041.4999999999977,
          1004.5250000000063,
          978.1249999999961,
          1060.8999999999994,
          998.525,
          984.5000000000016,
          1000.7749999999949,
          1046.6750000000075,
          997.7249999999983,
          996.749999999998,
          1035.0000000000039,
          1004.2500000000007,
          1001.8499999999889,
          994.0500000000053,
          1034.825000000005,
          1008.2749999999911,
          978.3250000000098,
          1044.0000000000032,
          982.349999999987,
          995.4250000000135,
          1017.6749999999979,
          1045.224999999987,
          990.2000000000071,
          995.6999999999988,
          1035.7250000000001,
          996.3500000000037,
          998.4250000000065,
          990.5999999999813,
          1042.7500000000107,
          996.2750000000052,
          1003.5999999999825,
          1028.2250000000042,
          997.4250000000043,
          1003.8249999999915,
          995.1500000000145,
          1041.5000000000045,
          1005.9750000000062,
          995.0499999999809,
          1037.4250000000109,
          995.125000000006,
          1000.5749999999811,
          998.9500000000094,
          1026.6999999999991,
          1008.4499999999965,
          997.2750000000074,
          1034.950000000007,
          1007.04999999998,
          996.3500000000037,
          991.0250000000038,
          1044.7500000000014,
          999.3000000000068,
          984.4749999999927,
          1054.0500000000013,
          995.9249999999943,
          1001.5000000000116,
          1003.2749999999937,
          1032.5500000000018,
          1002.5000000000002,
          1002.7749999999859,
          1040.6000000000095,
          987.8750000000002,
          988.8999999999979,
          1006.8249999999979,
          1046.0000000000077,
          984.6249999999902,
          1003.6750000000079,
          1033.0250000000012,
          992.3999999999987,
          1006.275,
          1004.2250000000057,
          1019.8500000000079,
          1008.1749999999975,
          1000.1249999999906,
          1048.3499999999824,
          993.425000000009,
          996.8500000000115,
          995.7500000000159,
          1035.9499999999823,
          992.524999999974,
          997.2250000000039,
          1051.0500000000086,
          977.2250000000141,
          1012.1250000000163,
          1000.9500000000002,
          1044.2249999999574,
          988.2250000000247,
          1005.8249999999821,
          1030.0000000000132,
          998.0749999999956,
          1003.3500000000055,
          997.0000000000084,
          1040.0999999999874,
          998.1250000000126,
          988.2499999999791,
          1047.3750000000293,
          991.9249999999854,
          988.6750000000155,
          1011.3249999999606,
          1055.4250000000097,
          979.2499999999999,
          992.4500000000289,
          1038.774999999997,
          995.9500000000028,
          999.8749999999866,
          1003.8250000000048,
          1027.5499999999909,
          1012.675000000014,
          991.1000000000023,
          1044.2000000000037,
          994.0249999999705,
          1010.6000000000112,
          982.39999999999,
          1029.8250000000078,
          991.8250000000055,
          1002.2250000000013,
          1056.399999999989,
          994.1250000000039,
          998.500000000005,
          990.9999999999952,
          1041.525000000013,
          1003.6499999999993,
          981.8250000000107,
          1053.4749999999674,
          991.3000000000162,
          1000.5999999999892,
          1002.8750000000061,
          1030.9500000000119,
          1003.3500000000055,
          993.1999999999603,
          1035.37500000003,
          1001.2000000000041,
          999.874999999986,
          984.5749999999998,
          1033.5250000000226,
          1013.7999999999643,
          995.7749999999972,
          1040.1000000000151,
          994.7000000000102,
          992.5749999999903,
          1003.2250000000171,
          1053.399999999969,
          983.7500000000166,
          992.8999999999927,
          1053.15000000002,
          970.7999999999915,
          1023.8500000000031,
          1019.074999999974,
          994.1000000000224,
          1001.0249999999986,
          991.9999999999839,
          1053.9750000000304,
          998.0249999999785,
          991.9999999999848,
          1046.649999999999,
          988.5000000000101,
          988.2249999999976,
          1000.475000000028,
          1042.9250000000027,
          1001.5749999999965,
          1005.3249999999747,
          1023.6500000000161,
          1005.6749999999852,
          998.8250000000073,
          1003.0000000000216,
          1017.0249999999796,
          1030.6000000000008,
          994.1749999999938,
          1028.625000000005,
          993.7749999999929,
          992.1750000000164,
          996.3249999999952,
          1043.9749999999806,
          996.9749999999999,
          991.4000000000233,
          1049.7499999999989,
          995.9999999999927,
          991.1250000000108,
          996.1999999999803,
          1055.8250000000107,
          975.6249999999835,
          1006.6250000000109,
          1023.7750000000046,
          1001.7750000000104,
          1000.5499999999728,
          1000.8250000000118,
          1055.2999999999943,
          993.1250000000151,
          997.8249999999916,
          1024.550000000025,
          1003.2999999999884,
          995.1499999999746,
          1001.4750000000431,
          1025.274999999974,
          1002.7999999999811,
          1002.4500000000232,
          1033.2250000000015,
          979.2999999999887,
          1014.4499999999962,
          988.7000000000503,
          1036.5999999999597,
          1004.9999999999723,
          1002.0000000000324
         ]
        },
        {
         "marker": {
          "color": "red"
         },
         "mode": "markers",
         "name": "Top Two Peaks",
         "type": "scatter",
         "x": [
          0,
          -816
         ],
         "y": [
          1156.0859750000345,
          1091.250000000002
         ]
        },
        {
         "marker": {
          "color": "blue",
          "symbol": "cross"
         },
         "mode": "markers",
         "name": "Center Points",
         "type": "scatter",
         "x": [
          -4.08e-7
         ],
         "y": [
          0
         ]
        }
       ],
       "layout": {
        "annotations": [
         {
          "arrowcolor": "black",
          "arrowhead": 2,
          "arrowsize": 1,
          "arrowwidth": 2,
          "ax": -100,
          "ay": -200,
          "showarrow": true,
          "text": "Center Point: -408.000nA <br> Peak difference: 816.000 nA",
          "x": -408,
          "y": 0
         }
        ],
        "height": 600,
        "legend": {
         "orientation": "h",
         "x": 0.5,
         "xanchor": "center",
         "y": 1.1,
         "yanchor": "top"
        },
        "template": {
         "data": {
          "bar": [
           {
            "error_x": {
             "color": "#2a3f5f"
            },
            "error_y": {
             "color": "#2a3f5f"
            },
            "marker": {
             "line": {
              "color": "#E5ECF6",
              "width": 0.5
             },
             "pattern": {
              "fillmode": "overlay",
              "size": 10,
              "solidity": 0.2
             }
            },
            "type": "bar"
           }
          ],
          "barpolar": [
           {
            "marker": {
             "line": {
              "color": "#E5ECF6",
              "width": 0.5
             },
             "pattern": {
              "fillmode": "overlay",
              "size": 10,
              "solidity": 0.2
             }
            },
            "type": "barpolar"
           }
          ],
          "carpet": [
           {
            "aaxis": {
             "endlinecolor": "#2a3f5f",
             "gridcolor": "white",
             "linecolor": "white",
             "minorgridcolor": "white",
             "startlinecolor": "#2a3f5f"
            },
            "baxis": {
             "endlinecolor": "#2a3f5f",
             "gridcolor": "white",
             "linecolor": "white",
             "minorgridcolor": "white",
             "startlinecolor": "#2a3f5f"
            },
            "type": "carpet"
           }
          ],
          "choropleth": [
           {
            "colorbar": {
             "outlinewidth": 0,
             "ticks": ""
            },
            "type": "choropleth"
           }
          ],
          "contour": [
           {
            "colorbar": {
             "outlinewidth": 0,
             "ticks": ""
            },
            "colorscale": [
             [
              0,
              "#0d0887"
             ],
             [
              0.1111111111111111,
              "#46039f"
             ],
             [
              0.2222222222222222,
              "#7201a8"
             ],
             [
              0.3333333333333333,
              "#9c179e"
             ],
             [
              0.4444444444444444,
              "#bd3786"
             ],
             [
              0.5555555555555556,
              "#d8576b"
             ],
             [
              0.6666666666666666,
              "#ed7953"
             ],
             [
              0.7777777777777778,
              "#fb9f3a"
             ],
             [
              0.8888888888888888,
              "#fdca26"
             ],
             [
              1,
              "#f0f921"
             ]
            ],
            "type": "contour"
           }
          ],
          "contourcarpet": [
           {
            "colorbar": {
             "outlinewidth": 0,
             "ticks": ""
            },
            "type": "contourcarpet"
           }
          ],
          "heatmap": [
           {
            "colorbar": {
             "outlinewidth": 0,
             "ticks": ""
            },
            "colorscale": [
             [
              0,
              "#0d0887"
             ],
             [
              0.1111111111111111,
              "#46039f"
             ],
             [
              0.2222222222222222,
              "#7201a8"
             ],
             [
              0.3333333333333333,
              "#9c179e"
             ],
             [
              0.4444444444444444,
              "#bd3786"
             ],
             [
              0.5555555555555556,
              "#d8576b"
             ],
             [
              0.6666666666666666,
              "#ed7953"
             ],
             [
              0.7777777777777778,
              "#fb9f3a"
             ],
             [
              0.8888888888888888,
              "#fdca26"
             ],
             [
              1,
              "#f0f921"
             ]
            ],
            "type": "heatmap"
           }
          ],
          "heatmapgl": [
           {
            "colorbar": {
             "outlinewidth": 0,
             "ticks": ""
            },
            "colorscale": [
             [
              0,
              "#0d0887"
             ],
             [
              0.1111111111111111,
              "#46039f"
             ],
             [
              0.2222222222222222,
              "#7201a8"
             ],
             [
              0.3333333333333333,
              "#9c179e"
             ],
             [
              0.4444444444444444,
              "#bd3786"
             ],
             [
              0.5555555555555556,
              "#d8576b"
             ],
             [
              0.6666666666666666,
              "#ed7953"
             ],
             [
              0.7777777777777778,
              "#fb9f3a"
             ],
             [
              0.8888888888888888,
              "#fdca26"
             ],
             [
              1,
              "#f0f921"
             ]
            ],
            "type": "heatmapgl"
           }
          ],
          "histogram": [
           {
            "marker": {
             "pattern": {
              "fillmode": "overlay",
              "size": 10,
              "solidity": 0.2
             }
            },
            "type": "histogram"
           }
          ],
          "histogram2d": [
           {
            "colorbar": {
             "outlinewidth": 0,
             "ticks": ""
            },
            "colorscale": [
             [
              0,
              "#0d0887"
             ],
             [
              0.1111111111111111,
              "#46039f"
             ],
             [
              0.2222222222222222,
              "#7201a8"
             ],
             [
              0.3333333333333333,
              "#9c179e"
             ],
             [
              0.4444444444444444,
              "#bd3786"
             ],
             [
              0.5555555555555556,
              "#d8576b"
             ],
             [
              0.6666666666666666,
              "#ed7953"
             ],
             [
              0.7777777777777778,
              "#fb9f3a"
             ],
             [
              0.8888888888888888,
              "#fdca26"
             ],
             [
              1,
              "#f0f921"
             ]
            ],
            "type": "histogram2d"
           }
          ],
          "histogram2dcontour": [
           {
            "colorbar": {
             "outlinewidth": 0,
             "ticks": ""
            },
            "colorscale": [
             [
              0,
              "#0d0887"
             ],
             [
              0.1111111111111111,
              "#46039f"
             ],
             [
              0.2222222222222222,
              "#7201a8"
             ],
             [
              0.3333333333333333,
              "#9c179e"
             ],
             [
              0.4444444444444444,
              "#bd3786"
             ],
             [
              0.5555555555555556,
              "#d8576b"
             ],
             [
              0.6666666666666666,
              "#ed7953"
             ],
             [
              0.7777777777777778,
              "#fb9f3a"
             ],
             [
              0.8888888888888888,
              "#fdca26"
             ],
             [
              1,
              "#f0f921"
             ]
            ],
            "type": "histogram2dcontour"
           }
          ],
          "mesh3d": [
           {
            "colorbar": {
             "outlinewidth": 0,
             "ticks": ""
            },
            "type": "mesh3d"
           }
          ],
          "parcoords": [
           {
            "line": {
             "colorbar": {
              "outlinewidth": 0,
              "ticks": ""
             }
            },
            "type": "parcoords"
           }
          ],
          "pie": [
           {
            "automargin": true,
            "type": "pie"
           }
          ],
          "scatter": [
           {
            "fillpattern": {
             "fillmode": "overlay",
             "size": 10,
             "solidity": 0.2
            },
            "type": "scatter"
           }
          ],
          "scatter3d": [
           {
            "line": {
             "colorbar": {
              "outlinewidth": 0,
              "ticks": ""
             }
            },
            "marker": {
             "colorbar": {
              "outlinewidth": 0,
              "ticks": ""
             }
            },
            "type": "scatter3d"
           }
          ],
          "scattercarpet": [
           {
            "marker": {
             "colorbar": {
              "outlinewidth": 0,
              "ticks": ""
             }
            },
            "type": "scattercarpet"
           }
          ],
          "scattergeo": [
           {
            "marker": {
             "colorbar": {
              "outlinewidth": 0,
              "ticks": ""
             }
            },
            "type": "scattergeo"
           }
          ],
          "scattergl": [
           {
            "marker": {
             "colorbar": {
              "outlinewidth": 0,
              "ticks": ""
             }
            },
            "type": "scattergl"
           }
          ],
          "scattermapbox": [
           {
            "marker": {
             "colorbar": {
              "outlinewidth": 0,
              "ticks": ""
             }
            },
            "type": "scattermapbox"
           }
          ],
          "scatterpolar": [
           {
            "marker": {
             "colorbar": {
              "outlinewidth": 0,
              "ticks": ""
             }
            },
            "type": "scatterpolar"
           }
          ],
          "scatterpolargl": [
           {
            "marker": {
             "colorbar": {
              "outlinewidth": 0,
              "ticks": ""
             }
            },
            "type": "scatterpolargl"
           }
          ],
          "scatterternary": [
           {
            "marker": {
             "colorbar": {
              "outlinewidth": 0,
              "ticks": ""
             }
            },
            "type": "scatterternary"
           }
          ],
          "surface": [
           {
            "colorbar": {
             "outlinewidth": 0,
             "ticks": ""
            },
            "colorscale": [
             [
              0,
              "#0d0887"
             ],
             [
              0.1111111111111111,
              "#46039f"
             ],
             [
              0.2222222222222222,
              "#7201a8"
             ],
             [
              0.3333333333333333,
              "#9c179e"
             ],
             [
              0.4444444444444444,
              "#bd3786"
             ],
             [
              0.5555555555555556,
              "#d8576b"
             ],
             [
              0.6666666666666666,
              "#ed7953"
             ],
             [
              0.7777777777777778,
              "#fb9f3a"
             ],
             [
              0.8888888888888888,
              "#fdca26"
             ],
             [
              1,
              "#f0f921"
             ]
            ],
            "type": "surface"
           }
          ],
          "table": [
           {
            "cells": {
             "fill": {
              "color": "#EBF0F8"
             },
             "line": {
              "color": "white"
             }
            },
            "header": {
             "fill": {
              "color": "#C8D4E3"
             },
             "line": {
              "color": "white"
             }
            },
            "type": "table"
           }
          ]
         },
         "layout": {
          "annotationdefaults": {
           "arrowcolor": "#2a3f5f",
           "arrowhead": 0,
           "arrowwidth": 1
          },
          "autotypenumbers": "strict",
          "coloraxis": {
           "colorbar": {
            "outlinewidth": 0,
            "ticks": ""
           }
          },
          "colorscale": {
           "diverging": [
            [
             0,
             "#8e0152"
            ],
            [
             0.1,
             "#c51b7d"
            ],
            [
             0.2,
             "#de77ae"
            ],
            [
             0.3,
             "#f1b6da"
            ],
            [
             0.4,
             "#fde0ef"
            ],
            [
             0.5,
             "#f7f7f7"
            ],
            [
             0.6,
             "#e6f5d0"
            ],
            [
             0.7,
             "#b8e186"
            ],
            [
             0.8,
             "#7fbc41"
            ],
            [
             0.9,
             "#4d9221"
            ],
            [
             1,
             "#276419"
            ]
           ],
           "sequential": [
            [
             0,
             "#0d0887"
            ],
            [
             0.1111111111111111,
             "#46039f"
            ],
            [
             0.2222222222222222,
             "#7201a8"
            ],
            [
             0.3333333333333333,
             "#9c179e"
            ],
            [
             0.4444444444444444,
             "#bd3786"
            ],
            [
             0.5555555555555556,
             "#d8576b"
            ],
            [
             0.6666666666666666,
             "#ed7953"
            ],
            [
             0.7777777777777778,
             "#fb9f3a"
            ],
            [
             0.8888888888888888,
             "#fdca26"
            ],
            [
             1,
             "#f0f921"
            ]
           ],
           "sequentialminus": [
            [
             0,
             "#0d0887"
            ],
            [
             0.1111111111111111,
             "#46039f"
            ],
            [
             0.2222222222222222,
             "#7201a8"
            ],
            [
             0.3333333333333333,
             "#9c179e"
            ],
            [
             0.4444444444444444,
             "#bd3786"
            ],
            [
             0.5555555555555556,
             "#d8576b"
            ],
            [
             0.6666666666666666,
             "#ed7953"
            ],
            [
             0.7777777777777778,
             "#fb9f3a"
            ],
            [
             0.8888888888888888,
             "#fdca26"
            ],
            [
             1,
             "#f0f921"
            ]
           ]
          },
          "colorway": [
           "#636efa",
           "#EF553B",
           "#00cc96",
           "#ab63fa",
           "#FFA15A",
           "#19d3f3",
           "#FF6692",
           "#B6E880",
           "#FF97FF",
           "#FECB52"
          ],
          "font": {
           "color": "#2a3f5f"
          },
          "geo": {
           "bgcolor": "white",
           "lakecolor": "white",
           "landcolor": "#E5ECF6",
           "showlakes": true,
           "showland": true,
           "subunitcolor": "white"
          },
          "hoverlabel": {
           "align": "left"
          },
          "hovermode": "closest",
          "mapbox": {
           "style": "light"
          },
          "paper_bgcolor": "white",
          "plot_bgcolor": "#E5ECF6",
          "polar": {
           "angularaxis": {
            "gridcolor": "white",
            "linecolor": "white",
            "ticks": ""
           },
           "bgcolor": "#E5ECF6",
           "radialaxis": {
            "gridcolor": "white",
            "linecolor": "white",
            "ticks": ""
           }
          },
          "scene": {
           "xaxis": {
            "backgroundcolor": "#E5ECF6",
            "gridcolor": "white",
            "gridwidth": 2,
            "linecolor": "white",
            "showbackground": true,
            "ticks": "",
            "zerolinecolor": "white"
           },
           "yaxis": {
            "backgroundcolor": "#E5ECF6",
            "gridcolor": "white",
            "gridwidth": 2,
            "linecolor": "white",
            "showbackground": true,
            "ticks": "",
            "zerolinecolor": "white"
           },
           "zaxis": {
            "backgroundcolor": "#E5ECF6",
            "gridcolor": "white",
            "gridwidth": 2,
            "linecolor": "white",
            "showbackground": true,
            "ticks": "",
            "zerolinecolor": "white"
           }
          },
          "shapedefaults": {
           "line": {
            "color": "#2a3f5f"
           }
          },
          "ternary": {
           "aaxis": {
            "gridcolor": "white",
            "linecolor": "white",
            "ticks": ""
           },
           "baxis": {
            "gridcolor": "white",
            "linecolor": "white",
            "ticks": ""
           },
           "bgcolor": "#E5ECF6",
           "caxis": {
            "gridcolor": "white",
            "linecolor": "white",
            "ticks": ""
           }
          },
          "title": {
           "x": 0.05
          },
          "xaxis": {
           "automargin": true,
           "gridcolor": "white",
           "linecolor": "white",
           "ticks": "",
           "title": {
            "standoff": 15
           },
           "zerolinecolor": "white",
           "zerolinewidth": 2
          },
          "yaxis": {
           "automargin": true,
           "gridcolor": "white",
           "linecolor": "white",
           "ticks": "",
           "title": {
            "standoff": 15
           },
           "zerolinecolor": "white",
           "zerolinewidth": 2
          }
         }
        },
        "title": {
         "text": "Run #<built-in function id> I vs. dV/dI"
        },
        "width": 600,
        "xaxis": {
         "title": {
          "text": "Current (nA)"
         }
        },
        "yaxis": {
         "title": {
          "text": "d(Voltage)/d(Current)"
         }
        }
       }
      }
     },
     "metadata": {},
     "output_type": "display_data"
    },
    {
     "data": {
      "application/vnd.jupyter.widget-view+json": {
       "model_id": "629ec6b7bc404d20b3da8fb54af511f2",
       "version_major": 2,
       "version_minor": 0
      },
      "image/png": "[encoded data removed]",
      "text/html": [
       "\n",
       "            <div style=\"display: inline-block;\">\n",
       "                <div class=\"jupyter-widgets widget-label\" style=\"text-align: center;\">\n",
       "                    Figure\n",
       "                </div>\n",
       "                <img src='data:image/png;base64,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' width=640.0/>\n",
       "            </div>\n",
       "        "
      ],
      "text/plain": [
       "Canvas(toolbar=Toolbar(toolitems=[('Home', 'Reset original view', 'home', 'home'), ('Back', 'Back to previous …"
      ]
     },
     "metadata": {},
     "output_type": "display_data"
    }
   ],
   "source": [
    "I_range=1e-6\n",
    "K2440.output(1)\n",
    "appl_current(-I_range) #Limit:1e-5 Amp(1MOhms risistor),1e-6 Amp(10MOhms risistor)\n",
    "sleep(2)\n",
    "# station.snapshot(update=True);\n",
    "exp = qc.new_experiment('I-V', sample_name='009-1_1kOhms')\n",
    "dataid = do1d(appl_current, -I_range ,I_range, 501, 0.03, meas_voltage_K1)\n",
    "appl_current(0)\n",
    "K2440.output(0)\n",
    "plot_by_id(dataid)\n",
    "#save_path = r\"C:\\qcodes\\personal_scripts\\Albert\\104\\Plot\\104_{}.png\".format(dataid)  # Path to save the plot image\n",
    "#autosave_plot_by_id(dataid, save_path)\n",
    "print(f\"R = {get_R_from_IV(dataid)}\")\n",
    "# dataset = qc.load_by_id(dataid)\n",
    "IV(dataid)\n",
    "IV_diff(dataid)"
   ]
  },
  {
   "cell_type": "code",
   "execution_count": 29,
   "id": "2b1fcecf",
   "metadata": {},
   "outputs": [
    {
     "data": {
      "application/vnd.plotly.v1+json": {
       "config": {
        "plotlyServerURL": "https://plot.ly"
       },
       "data": [
        {
         "mode": "lines",
         "name": "Voltage vs. Current",
         "type": "scatter",
         "x": [
          -0.000001,
          -9.8e-7,
          -9.6e-7,
          -9.4e-7,
          -9.2e-7,
          -9e-7,
          -8.8e-7,
          -8.6e-7,
          -8.4e-7,
          -8.2e-7,
          -8e-7,
          -7.8e-7,
          -7.6e-7,
          -7.4e-7,
          -7.2e-7,
          -7e-7,
          -6.8e-7,
          -6.6e-7,
          -6.4e-7,
          -6.2e-7,
          -6e-7,
          -5.8e-7,
          -5.6e-7,
          -5.4e-7,
          -5.2e-7,
          -5e-7,
          -4.8e-7,
          -4.6e-7,
          -4.4e-7,
          -4.2e-7,
          -4e-7,
          -3.8e-7,
          -3.6e-7,
          -3.4e-7,
          -3.2e-7,
          -3e-7,
          -2.8e-7,
          -2.6e-7,
          -2.4e-7,
          -2.2e-7,
          -2e-7,
          -1.8e-7,
          -1.6e-7,
          -1.4e-7,
          -1.2e-7,
          -9.99999999999999e-8,
          -8e-8,
          -6e-8,
          -3.99999999999998e-8,
          -2e-8,
          0,
          2e-8,
          4e-8,
          6.00000000000001e-8,
          8.00000000000001e-8,
          1e-7,
          1.2e-7,
          1.4e-7,
          1.6e-7,
          1.8e-7,
          2e-7,
          2.2e-7,
          2.4e-7,
          2.6e-7,
          2.8e-7,
          3e-7,
          3.2e-7,
          3.4e-7,
          3.6e-7,
          3.8e-7,
          4e-7,
          4.2e-7,
          4.4e-7,
          4.6e-7,
          4.8e-7,
          5e-7,
          5.2e-7,
          5.4e-7,
          5.6e-7,
          5.8e-7,
          6e-7,
          6.2e-7,
          6.4e-7,
          6.6e-7,
          6.8e-7,
          7e-7,
          7.2e-7,
          7.4e-7,
          7.6e-7,
          7.8e-7,
          8e-7,
          8.2e-7,
          8.4e-7,
          8.6e-7,
          8.8e-7,
          9e-7,
          9.20000000000001e-7,
          9.4e-7,
          9.6e-7,
          9.8e-7,
          0.000001
         ],
         "y": [
          -1.057316,
          -1.0371270000000001,
          -1.016908,
          -0.9968422,
          -0.9765807999999999,
          -0.9566297,
          -0.9362456,
          -0.9162823999999999,
          -0.8959251,
          -0.8759192,
          -0.8555839000000001,
          -0.8354946,
          -0.8153088,
          -0.7952083000000001,
          -0.7750648,
          -0.7547791,
          -0.7347486,
          -0.7145009,
          -0.6944313,
          -0.6741276,
          -0.6540798,
          -0.6338895999999999,
          -0.6136877000000001,
          -0.5934978,
          -0.5733414,
          -0.5531355,
          -0.5328756,
          -0.5126676,
          -0.4926838,
          -0.4724438,
          -0.4523633,
          -0.4320399,
          -0.41185309999999997,
          -0.3916502,
          -0.37150570000000005,
          -0.3513147,
          -0.3312247,
          -0.3111986,
          -0.2909027,
          -0.2707222,
          -0.2504867,
          -0.2303025,
          -0.2100983,
          -0.1899584,
          -0.16975590000000002,
          -0.1496653,
          -0.129505,
          -0.10926540000000001,
          -0.08906265,
          -0.0688401,
          -0.048780960000000005,
          -0.02824094,
          -0.007931353,
          0.01228872,
          0.032343840000000006,
          0.05253193,
          0.07261971,
          0.09291242,
          0.11309720000000001,
          0.1333593,
          0.1533897,
          0.1735889,
          0.1938325,
          0.2139248,
          0.2341566,
          0.2542718,
          0.2745649,
          0.294617,
          0.3147532,
          0.335016,
          0.3550897,
          0.3754185,
          0.395471,
          0.41572929999999997,
          0.4358616,
          0.456013,
          0.47625500000000004,
          0.49635369999999995,
          0.5166409000000001,
          0.5367727000000001,
          0.5569559000000001,
          0.5770701,
          0.597238,
          0.617472,
          0.6375202,
          0.6578550000000001,
          0.6779857,
          0.6982705,
          0.7183495,
          0.7386174999999999,
          0.7587809,
          0.7787951999999999,
          0.7990803,
          0.819186,
          0.8395313,
          0.8596284,
          0.87979,
          0.8998453999999999,
          0.9200883,
          0.9401811,
          0.9603144
         ]
        }
       ],
       "layout": {
        "height": 960,
        "margin": {
         "b": 10,
         "l": 10,
         "r": 10,
         "t": 50
        },
        "template": {
         "data": {
          "bar": [
           {
            "error_x": {
             "color": "#2a3f5f"
            },
            "error_y": {
             "color": "#2a3f5f"
            },
            "marker": {
             "line": {
              "color": "#E5ECF6",
              "width": 0.5
             },
             "pattern": {
              "fillmode": "overlay",
              "size": 10,
              "solidity": 0.2
             }
            },
            "type": "bar"
           }
          ],
          "barpolar": [
           {
            "marker": {
             "line": {
              "color": "#E5ECF6",
              "width": 0.5
             },
             "pattern": {
              "fillmode": "overlay",
              "size": 10,
              "solidity": 0.2
             }
            },
            "type": "barpolar"
           }
          ],
          "carpet": [
           {
            "aaxis": {
             "endlinecolor": "#2a3f5f",
             "gridcolor": "white",
             "linecolor": "white",
             "minorgridcolor": "white",
             "startlinecolor": "#2a3f5f"
            },
            "baxis": {
             "endlinecolor": "#2a3f5f",
             "gridcolor": "white",
             "linecolor": "white",
             "minorgridcolor": "white",
             "startlinecolor": "#2a3f5f"
            },
            "type": "carpet"
           }
          ],
          "choropleth": [
           {
            "colorbar": {
             "outlinewidth": 0,
             "ticks": ""
            },
            "type": "choropleth"
           }
          ],
          "contour": [
           {
            "colorbar": {
             "outlinewidth": 0,
             "ticks": ""
            },
            "colorscale": [
             [
              0,
              "#0d0887"
             ],
             [
              0.1111111111111111,
              "#46039f"
             ],
             [
              0.2222222222222222,
              "#7201a8"
             ],
             [
              0.3333333333333333,
              "#9c179e"
             ],
             [
              0.4444444444444444,
              "#bd3786"
             ],
             [
              0.5555555555555556,
              "#d8576b"
             ],
             [
              0.6666666666666666,
              "#ed7953"
             ],
             [
              0.7777777777777778,
              "#fb9f3a"
             ],
             [
              0.8888888888888888,
              "#fdca26"
             ],
             [
              1,
              "#f0f921"
             ]
            ],
            "type": "contour"
           }
          ],
          "contourcarpet": [
           {
            "colorbar": {
             "outlinewidth": 0,
             "ticks": ""
            },
            "type": "contourcarpet"
           }
          ],
          "heatmap": [
           {
            "colorbar": {
             "outlinewidth": 0,
             "ticks": ""
            },
            "colorscale": [
             [
              0,
              "#0d0887"
             ],
             [
              0.1111111111111111,
              "#46039f"
             ],
             [
              0.2222222222222222,
              "#7201a8"
             ],
             [
              0.3333333333333333,
              "#9c179e"
             ],
             [
              0.4444444444444444,
              "#bd3786"
             ],
             [
              0.5555555555555556,
              "#d8576b"
             ],
             [
              0.6666666666666666,
              "#ed7953"
             ],
             [
              0.7777777777777778,
              "#fb9f3a"
             ],
             [
              0.8888888888888888,
              "#fdca26"
             ],
             [
              1,
              "#f0f921"
             ]
            ],
            "type": "heatmap"
           }
          ],
          "heatmapgl": [
           {
            "colorbar": {
             "outlinewidth": 0,
             "ticks": ""
            },
            "colorscale": [
             [
              0,
              "#0d0887"
             ],
             [
              0.1111111111111111,
              "#46039f"
             ],
             [
              0.2222222222222222,
              "#7201a8"
             ],
             [
              0.3333333333333333,
              "#9c179e"
             ],
             [
              0.4444444444444444,
              "#bd3786"
             ],
             [
              0.5555555555555556,
              "#d8576b"
             ],
             [
              0.6666666666666666,
              "#ed7953"
             ],
             [
              0.7777777777777778,
              "#fb9f3a"
             ],
             [
              0.8888888888888888,
              "#fdca26"
             ],
             [
              1,
              "#f0f921"
             ]
            ],
            "type": "heatmapgl"
           }
          ],
          "histogram": [
           {
            "marker": {
             "pattern": {
              "fillmode": "overlay",
              "size": 10,
              "solidity": 0.2
             }
            },
            "type": "histogram"
           }
          ],
          "histogram2d": [
           {
            "colorbar": {
             "outlinewidth": 0,
             "ticks": ""
            },
            "colorscale": [
             [
              0,
              "#0d0887"
             ],
             [
              0.1111111111111111,
              "#46039f"
             ],
             [
              0.2222222222222222,
              "#7201a8"
             ],
             [
              0.3333333333333333,
              "#9c179e"
             ],
             [
              0.4444444444444444,
              "#bd3786"
             ],
             [
              0.5555555555555556,
              "#d8576b"
             ],
             [
              0.6666666666666666,
              "#ed7953"
             ],
             [
              0.7777777777777778,
              "#fb9f3a"
             ],
             [
              0.8888888888888888,
              "#fdca26"
             ],
             [
              1,
              "#f0f921"
             ]
            ],
            "type": "histogram2d"
           }
          ],
          "histogram2dcontour": [
           {
            "colorbar": {
             "outlinewidth": 0,
             "ticks": ""
            },
            "colorscale": [
             [
              0,
              "#0d0887"
             ],
             [
              0.1111111111111111,
              "#46039f"
             ],
             [
              0.2222222222222222,
              "#7201a8"
             ],
             [
              0.3333333333333333,
              "#9c179e"
             ],
             [
              0.4444444444444444,
              "#bd3786"
             ],
             [
              0.5555555555555556,
              "#d8576b"
             ],
             [
              0.6666666666666666,
              "#ed7953"
             ],
             [
              0.7777777777777778,
              "#fb9f3a"
             ],
             [
              0.8888888888888888,
              "#fdca26"
             ],
             [
              1,
              "#f0f921"
             ]
            ],
            "type": "histogram2dcontour"
           }
          ],
          "mesh3d": [
           {
            "colorbar": {
             "outlinewidth": 0,
             "ticks": ""
            },
            "type": "mesh3d"
           }
          ],
          "parcoords": [
           {
            "line": {
             "colorbar": {
              "outlinewidth": 0,
              "ticks": ""
             }
            },
            "type": "parcoords"
           }
          ],
          "pie": [
           {
            "automargin": true,
            "type": "pie"
           }
          ],
          "scatter": [
           {
            "fillpattern": {
             "fillmode": "overlay",
             "size": 10,
             "solidity": 0.2
            },
            "type": "scatter"
           }
          ],
          "scatter3d": [
           {
            "line": {
             "colorbar": {
              "outlinewidth": 0,
              "ticks": ""
             }
            },
            "marker": {
             "colorbar": {
              "outlinewidth": 0,
              "ticks": ""
             }
            },
            "type": "scatter3d"
           }
          ],
          "scattercarpet": [
           {
            "marker": {
             "colorbar": {
              "outlinewidth": 0,
              "ticks": ""
             }
            },
            "type": "scattercarpet"
           }
          ],
          "scattergeo": [
           {
            "marker": {
             "colorbar": {
              "outlinewidth": 0,
              "ticks": ""
             }
            },
            "type": "scattergeo"
           }
          ],
          "scattergl": [
           {
            "marker": {
             "colorbar": {
              "outlinewidth": 0,
              "ticks": ""
             }
            },
            "type": "scattergl"
           }
          ],
          "scattermapbox": [
           {
            "marker": {
             "colorbar": {
              "outlinewidth": 0,
              "ticks": ""
             }
            },
            "type": "scattermapbox"
           }
          ],
          "scatterpolar": [
           {
            "marker": {
             "colorbar": {
              "outlinewidth": 0,
              "ticks": ""
             }
            },
            "type": "scatterpolar"
           }
          ],
          "scatterpolargl": [
           {
            "marker": {
             "colorbar": {
              "outlinewidth": 0,
              "ticks": ""
             }
            },
            "type": "scatterpolargl"
           }
          ],
          "scatterternary": [
           {
            "marker": {
             "colorbar": {
              "outlinewidth": 0,
              "ticks": ""
             }
            },
            "type": "scatterternary"
           }
          ],
          "surface": [
           {
            "colorbar": {
             "outlinewidth": 0,
             "ticks": ""
            },
            "colorscale": [
             [
              0,
              "#0d0887"
             ],
             [
              0.1111111111111111,
              "#46039f"
             ],
             [
              0.2222222222222222,
              "#7201a8"
             ],
             [
              0.3333333333333333,
              "#9c179e"
             ],
             [
              0.4444444444444444,
              "#bd3786"
             ],
             [
              0.5555555555555556,
              "#d8576b"
             ],
             [
              0.6666666666666666,
              "#ed7953"
             ],
             [
              0.7777777777777778,
              "#fb9f3a"
             ],
             [
              0.8888888888888888,
              "#fdca26"
             ],
             [
              1,
              "#f0f921"
             ]
            ],
            "type": "surface"
           }
          ],
          "table": [
           {
            "cells": {
             "fill": {
              "color": "#EBF0F8"
             },
             "line": {
              "color": "white"
             }
            },
            "header": {
             "fill": {
              "color": "#C8D4E3"
             },
             "line": {
              "color": "white"
             }
            },
            "type": "table"
           }
          ]
         },
         "layout": {
          "annotationdefaults": {
           "arrowcolor": "#2a3f5f",
           "arrowhead": 0,
           "arrowwidth": 1
          },
          "autotypenumbers": "strict",
          "coloraxis": {
           "colorbar": {
            "outlinewidth": 0,
            "ticks": ""
           }
          },
          "colorscale": {
           "diverging": [
            [
             0,
             "#8e0152"
            ],
            [
             0.1,
             "#c51b7d"
            ],
            [
             0.2,
             "#de77ae"
            ],
            [
             0.3,
             "#f1b6da"
            ],
            [
             0.4,
             "#fde0ef"
            ],
            [
             0.5,
             "#f7f7f7"
            ],
            [
             0.6,
             "#e6f5d0"
            ],
            [
             0.7,
             "#b8e186"
            ],
            [
             0.8,
             "#7fbc41"
            ],
            [
             0.9,
             "#4d9221"
            ],
            [
             1,
             "#276419"
            ]
           ],
           "sequential": [
            [
             0,
             "#0d0887"
            ],
            [
             0.1111111111111111,
             "#46039f"
            ],
            [
             0.2222222222222222,
             "#7201a8"
            ],
            [
             0.3333333333333333,
             "#9c179e"
            ],
            [
             0.4444444444444444,
             "#bd3786"
            ],
            [
             0.5555555555555556,
             "#d8576b"
            ],
            [
             0.6666666666666666,
             "#ed7953"
            ],
            [
             0.7777777777777778,
             "#fb9f3a"
            ],
            [
             0.8888888888888888,
             "#fdca26"
            ],
            [
             1,
             "#f0f921"
            ]
           ],
           "sequentialminus": [
            [
             0,
             "#0d0887"
            ],
            [
             0.1111111111111111,
             "#46039f"
            ],
            [
             0.2222222222222222,
             "#7201a8"
            ],
            [
             0.3333333333333333,
             "#9c179e"
            ],
            [
             0.4444444444444444,
             "#bd3786"
            ],
            [
             0.5555555555555556,
             "#d8576b"
            ],
            [
             0.6666666666666666,
             "#ed7953"
            ],
            [
             0.7777777777777778,
             "#fb9f3a"
            ],
            [
             0.8888888888888888,
             "#fdca26"
            ],
            [
             1,
             "#f0f921"
            ]
           ]
          },
          "colorway": [
           "#636efa",
           "#EF553B",
           "#00cc96",
           "#ab63fa",
           "#FFA15A",
           "#19d3f3",
           "#FF6692",
           "#B6E880",
           "#FF97FF",
           "#FECB52"
          ],
          "font": {
           "color": "#2a3f5f"
          },
          "geo": {
           "bgcolor": "white",
           "lakecolor": "white",
           "landcolor": "#E5ECF6",
           "showlakes": true,
           "showland": true,
           "subunitcolor": "white"
          },
          "hoverlabel": {
           "align": "left"
          },
          "hovermode": "closest",
          "mapbox": {
           "style": "light"
          },
          "paper_bgcolor": "white",
          "plot_bgcolor": "#E5ECF6",
          "polar": {
           "angularaxis": {
            "gridcolor": "white",
            "linecolor": "white",
            "ticks": ""
           },
           "bgcolor": "#E5ECF6",
           "radialaxis": {
            "gridcolor": "white",
            "linecolor": "white",
            "ticks": ""
           }
          },
          "scene": {
           "xaxis": {
            "backgroundcolor": "#E5ECF6",
            "gridcolor": "white",
            "gridwidth": 2,
            "linecolor": "white",
            "showbackground": true,
            "ticks": "",
            "zerolinecolor": "white"
           },
           "yaxis": {
            "backgroundcolor": "#E5ECF6",
            "gridcolor": "white",
            "gridwidth": 2,
            "linecolor": "white",
            "showbackground": true,
            "ticks": "",
            "zerolinecolor": "white"
           },
           "zaxis": {
            "backgroundcolor": "#E5ECF6",
            "gridcolor": "white",
            "gridwidth": 2,
            "linecolor": "white",
            "showbackground": true,
            "ticks": "",
            "zerolinecolor": "white"
           }
          },
          "shapedefaults": {
           "line": {
            "color": "#2a3f5f"
           }
          },
          "ternary": {
           "aaxis": {
            "gridcolor": "white",
            "linecolor": "white",
            "ticks": ""
           },
           "baxis": {
            "gridcolor": "white",
            "linecolor": "white",
            "ticks": ""
           },
           "bgcolor": "#E5ECF6",
           "caxis": {
            "gridcolor": "white",
            "linecolor": "white",
            "ticks": ""
           }
          },
          "title": {
           "x": 0.05
          },
          "xaxis": {
           "automargin": true,
           "gridcolor": "white",
           "linecolor": "white",
           "ticks": "",
           "title": {
            "standoff": 15
           },
           "zerolinecolor": "white",
           "zerolinewidth": 2
          },
          "yaxis": {
           "automargin": true,
           "gridcolor": "white",
           "linecolor": "white",
           "ticks": "",
           "title": {
            "standoff": 15
           },
           "zerolinecolor": "white",
           "zerolinewidth": 2
          }
         }
        },
        "title": {
         "font": {
          "size": 28
         },
         "text": "<b>#4 I-V</b> 009-1_1kOhms, R_fit=1009.0326 Ω"
        },
        "width": 1080,
        "xaxis": {
         "tickfont": {
          "size": 16
         },
         "title": {
          "font": {
           "size": 20
          },
          "text": "appl_current"
         }
        },
        "yaxis": {
         "tickfont": {
          "size": 16
         },
         "title": {
          "font": {
           "size": 20
          },
          "text": "meas_voltage_K1 mV"
         }
        }
       }
      }
     },
     "metadata": {},
     "output_type": "display_data"
    }
   ],
   "source": [
    "IV(4)"
   ]
  },
  {
   "cell_type": "code",
   "execution_count": null,
   "id": "ee32ef77",
   "metadata": {},
   "outputs": [],
   "source": [
    "get_R_from_IV(dataid)"
   ]
  },
  {
   "cell_type": "code",
   "execution_count": null,
   "id": "ae71124e",
   "metadata": {},
   "outputs": [],
   "source": [
    "dataset = qc.load_by_id(dataid)\n",
    "get_R_from_IV(dataid)\n",
    "IV(dataid)\n",
    "IV_diff(dataid)"
   ]
  },
  {
   "cell_type": "code",
   "execution_count": 32,
   "id": "795c08e0",
   "metadata": {},
   "outputs": [],
   "source": [
    "import plotly.graph_objs as go"
   ]
  },
  {
   "cell_type": "code",
   "execution_count": null,
   "id": "ea6a7850",
   "metadata": {},
   "outputs": [],
   "source": []
  },
  {
   "cell_type": "code",
   "execution_count": null,
   "id": "9ca53ea4",
   "metadata": {},
   "outputs": [],
   "source": [
    "for i in tqdm(range(1000)):\n",
    "    K2440.output(1)\n",
    "    I_range=1e-6\n",
    "    appl_current(-I_range) #Limit:1e-5 Amp(1MOhms risistor),1e-6 Amp(10MOhms risistor)\n",
    "    sleep(0.001)\n",
    "    # station.snapshot(update=True);\n",
    "    exp = qc.new_experiment('I-V', sample_name=f'103-03_J1_33-32-30-31_1M_F{i+1}')\n",
    "    dataid = do1d(appl_current, -I_range ,I_range, 101, 0.0001, meas_voltage_K2, meas_voltage_AC_L1,meas_voltage_AC_L1_P)\n",
    "    exp = qc.new_experiment('I-V', sample_name=f'103-03_J1_33-32-30-31_1M_B{i+1}')\n",
    "    dataid = do1d(appl_current, I_range ,-I_range, 101, 0.0001, meas_voltage_K2)\n",
    "    K2440.output(0)\n",
    "    clear_output(True)"
   ]
  },
  {
   "cell_type": "code",
   "execution_count": null,
   "id": "ffc1e4dd",
   "metadata": {},
   "outputs": [],
   "source": [
    "get_Mag()"
   ]
  },
  {
   "cell_type": "code",
   "execution_count": null,
   "id": "2908c940",
   "metadata": {},
   "outputs": [],
   "source": [
    "SGS.off()"
   ]
  },
  {
   "cell_type": "code",
   "execution_count": null,
   "id": "d82eb13a",
   "metadata": {},
   "outputs": [],
   "source": [
    "SGS.power(0)"
   ]
  },
  {
   "cell_type": "code",
   "execution_count": null,
   "id": "242d95fc",
   "metadata": {},
   "outputs": [],
   "source": [
    "DMM6500.averaging_count(5)\n",
    "DMM6500.averaging_enabled(True)"
   ]
  },
  {
   "cell_type": "code",
   "execution_count": null,
   "id": "e0c518ad",
   "metadata": {},
   "outputs": [],
   "source": [
    "for i in tqdm(range(21)):\n",
    "    I_range = round(round(0.55 + 5*i * 1e-4, 6)* 1e-6, 10)  # Round to 3 decimal places\n",
    "    print(I_range)\n"
   ]
  },
  {
   "cell_type": "code",
   "execution_count": null,
   "id": "78e3e90f",
   "metadata": {},
   "outputs": [],
   "source": []
  },
  {
   "cell_type": "code",
   "execution_count": null,
   "id": "0999a81b",
   "metadata": {},
   "outputs": [],
   "source": [
    "for i in tqdm(range(21)):\n",
    "    K2440.output(1)\n",
    "    I_range = round(round(0.55 + 5*i * 1e-4, 6)* 1e-6, 10) \n",
    "    appl_current(-I_range) #Limit:1e-5 Amp(1MOhms risistor),1e-6 Amp(10MOhms risistor)\n",
    "    sleep(2)\n",
    "    # station.snapshot(update=True);\n",
    "    exp = qc.new_experiment('I-V', sample_name=f'103-04_J1_24-25-05-04(06-07G)_1M_By@0mT_{-I_range}_201')\n",
    "    dataid = do1d(appl_current, -I_range ,I_range, 201, 0.00001, meas_voltage_K2)\n",
    "\n",
    "    appl_current(0)\n",
    "    K2440.output(0)\n",
    "\n",
    "\n",
    "    plot_by_id(dataid)\n",
    "    save_path = r\"D:\\data\\Albert\\103\\Plot\\104_{}.png\".format(dataid)  # Path to save the plot image\n",
    "    autosave_plot_by_id(dataid, save_path)\n",
    "    print(f\"ID:{dataid}\")\n",
    "    print(f\"R = {get_R_from_IV_2(dataid)}\")\n",
    "    dataset = qc.load_by_id(dataid)\n",
    "    IV(id=dataid)\n",
    "    IV_diff(id=dataid)"
   ]
  },
  {
   "cell_type": "code",
   "execution_count": null,
   "id": "e9ac98ca",
   "metadata": {},
   "outputs": [],
   "source": [
    "DMM6500.averaging_count(5)\n",
    "DMM6500.averaging_enabled(True)"
   ]
  },
  {
   "cell_type": "code",
   "execution_count": null,
   "id": "ad55deb3",
   "metadata": {},
   "outputs": [],
   "source": [
    "K2440.output(1)\n",
    "I_range = -6e-6\n",
    "appl_current(-I_range) #Limit:1e-5 Amp(1MOhms risistor),1e-6 Amp(10MOhms risistor)\n",
    "sleep(2)\n",
    "# station.snapshot(update=True);\n",
    "exp = qc.new_experiment('I-V', sample_name=f'103-03_J2_27-26-30-31M(32G-33G-28G-29G)_1M_By@0.1mT{-I_range}')\n",
    "dataid = do1d(appl_current, -I_range  ,I_range , 2601, 0.00001, meas_voltage_K2)\n",
    "appl_current(0)\n",
    "K2440.output(0)\n",
    "plot_by_id(dataid)\n",
    "save_path = r\"D:\\data\\Albert\\103\\Plot\\104_{}.png\".format(dataid)  # Path to save the plot image\n",
    "autosave_plot_by_id(dataid, save_path)\n",
    "print(f\"R = {get_R_from_IV_2(dataid)}\")\n",
    "dataset = qc.load_by_id(dataid)"
   ]
  },
  {
   "cell_type": "code",
   "execution_count": null,
   "id": "2b0e1832",
   "metadata": {},
   "outputs": [],
   "source": [
    "K2440.output(1)\n",
    "I_range = 6e-6\n",
    "appl_current(-I_range) #Limit:1e-5 Amp(1MOhms risistor),1e-6 Amp(10MOhms risistor)\n",
    "sleep(2)\n",
    "# station.snapshot(update=True);\n",
    "exp = qc.new_experiment('I-V', sample_name=f'103-03_J2_27-26-30-31M(32G-33G-28G-29G)_1M_By@0.1mT{-I_range}')\n",
    "dataid = do1d(appl_current, -I_range  ,I_range , 2601, 0.00001, meas_voltage_K2)\n",
    "appl_current(0)\n",
    "K2440.output(0)\n",
    "plot_by_id(dataid)\n",
    "save_path = r\"D:\\data\\Albert\\103\\Plot\\104_{}.png\".format(dataid)  # Path to save the plot image\n",
    "autosave_plot_by_id(dataid, save_path)\n",
    "print(f\"ID:{dataid}\")\n",
    "print(f\"R = {get_R_from_IV_2(dataid)}\")\n",
    "dataset = qc.load_by_id(dataid)\n",
    "# IV(id=dataid)\n",
    "# IV_diff(id=dataid)"
   ]
  },
  {
   "cell_type": "code",
   "execution_count": null,
   "id": "e90dc212",
   "metadata": {},
   "outputs": [],
   "source": [
    "25-05-06-07(04-24G)\n"
   ]
  },
  {
   "cell_type": "code",
   "execution_count": null,
   "id": "5c79e45a",
   "metadata": {},
   "outputs": [],
   "source": [
    "K2440.output(1)\n",
    "I_range=-7e-6\n",
    "appl_current(-I_range) #Limit:1e-5 Amp(1MOhms risistor),1e-6 Amp(10MOhms risistor)\n",
    "sleep(2)\n",
    "# station.snapshot(update=True);\n",
    "exp = qc.new_experiment('I-V', sample_name='103-03_J2_32-30-26-27_1M_By@0mT')\n",
    "dataid = do1d(appl_current, -I_range ,I_range, 1401, 0.0001, meas_voltage_K2)\n",
    "\n",
    "appl_current(0)\n",
    "K2440.output(0)\n",
    "\n",
    "\n",
    "plot_by_id(dataid)\n",
    "save_path = r\"D:\\data\\Albert\\103\\Plot\\104_{}.png\".format(dataid)  # Path to save the plot image\n",
    "autosave_plot_by_id(dataid, save_path)\n",
    "print(f\"ID:{dataid}\")\n",
    "print(f\"R = {get_R_from_IV_2(dataid)}\")\n",
    "dataset = qc.load_by_id(dataid)\n",
    "IV(id=dataid)\n",
    "IV_diff(id=dataid)"
   ]
  },
  {
   "cell_type": "code",
   "execution_count": null,
   "id": "8666f593",
   "metadata": {},
   "outputs": [],
   "source": [
    "K2440.output(1)\n",
    "I_range=7e-6\n",
    "appl_current(-I_range) #Limit:1e-5 Amp(1MOhms risistor),1e-6 Amp(10MOhms risistor)\n",
    "sleep(2)\n",
    "# station.snapshot(update=True);\n",
    "exp = qc.new_experiment('I-V', sample_name='103-03_J2_32-30-26-27_1M_By@0mT')\n",
    "dataid = do1d(appl_current, -I_range ,I_range, 1401, 0.0001, meas_voltage_K2)\n",
    "\n",
    "appl_current(0)\n",
    "K2440.output(0)\n",
    "\n",
    "\n",
    "plot_by_id(dataid)\n",
    "save_path = r\"D:\\data\\Albert\\103\\Plot\\104_{}.png\".format(dataid)  # Path to save the plot image\n",
    "autosave_plot_by_id(dataid, save_path)\n",
    "print(f\"ID:{dataid}\")\n",
    "print(f\"R = {get_R_from_IV_2(dataid)}\")\n",
    "dataset = qc.load_by_id(dataid)\n",
    "IV(id=dataid)\n",
    "IV_diff(id=dataid)"
   ]
  },
  {
   "cell_type": "code",
   "execution_count": null,
   "id": "4ce7045d",
   "metadata": {},
   "outputs": [],
   "source": [
    "# Set current to 0\n",
    "K2440.output(0)\n",
    "appl_current(0e-6)"
   ]
  },
  {
   "cell_type": "code",
   "execution_count": null,
   "id": "749b64e4",
   "metadata": {},
   "outputs": [],
   "source": [
    "K2440.output(1)\n",
    "appl_current(0.1e-7)"
   ]
  },
  {
   "cell_type": "code",
   "execution_count": null,
   "id": "9f4da299",
   "metadata": {
    "scrolled": true
   },
   "outputs": [],
   "source": [
    "runid=6\n",
    "print(get_R_from_IV_2(runid))"
   ]
  },
  {
   "cell_type": "markdown",
   "id": "3196b90e",
   "metadata": {},
   "source": [
    "## 加TG (1D)"
   ]
  },
  {
   "cell_type": "code",
   "execution_count": null,
   "id": "08a5e298",
   "metadata": {},
   "outputs": [],
   "source": [
    "K2440.output(1)\n",
    "appl_TG(0)"
   ]
  },
  {
   "cell_type": "code",
   "execution_count": null,
   "id": "a6f95af5",
   "metadata": {},
   "outputs": [],
   "source": [
    "K2440.output(1)\n",
    "K2440.output(1)\n",
    "appl_TG(-50)\n",
    "sleep(3)\n",
    "appl_current(-1.5e-8)\n",
    "sleep(1)\n",
    "\n",
    "# station.snapshot(update=True);\n",
    "exp = qc.new_experiment('IV', sample_name='TG21')\n",
    "\n",
    "#do1d(param_set, start, stop, num_points, delay, *param_meas)\n",
    "dataid = do1d(appl_current, -1.5e-8 ,1.5e-8, 101, 0.05, meas_voltage_K2)\n",
    "# dataid = do1d(appl_current, 6e-6 , -6e-6, 251, 0.01, meas_voltage_K1)\n",
    "# ivvi.set_dacs_zero()\n",
    "\n",
    "K2440.output(0)\n",
    "K2440.output(0)\n",
    "appl_current(0)\n",
    "plot_by_id(dataid)\n",
    "#print(get_R_from_IV(dataid))\n",
    "# print(get_R_from_IV_2(dataid))\n"
   ]
  },
  {
   "cell_type": "markdown",
   "id": "05b0d19b",
   "metadata": {},
   "source": [
    "## 歸零\n"
   ]
  },
  {
   "cell_type": "code",
   "execution_count": null,
   "id": "d8154670",
   "metadata": {},
   "outputs": [],
   "source": [
    "#K2440.output(1)\n",
    "K2440.output(1)\n",
    "\n",
    "appl_current(0)\n",
    "sleep(1)\n",
    "#appl_TG(0)\n",
    "sleep(5)\n",
    "\n",
    "#K2440.output(0)\n",
    "K2440.output(0)"
   ]
  },
  {
   "cell_type": "markdown",
   "id": "91795bf5",
   "metadata": {},
   "source": [
    "# Magnetic field"
   ]
  },
  {
   "cell_type": "markdown",
   "id": "c1b88abd",
   "metadata": {},
   "source": [
    "## IV vs Bx"
   ]
  },
  {
   "cell_type": "code",
   "execution_count": null,
   "id": "77c31bf1",
   "metadata": {},
   "outputs": [],
   "source": [
    "K2440.rangev()"
   ]
  },
  {
   "cell_type": "code",
   "execution_count": null,
   "id": "ea5d8a7d",
   "metadata": {},
   "outputs": [],
   "source": [
    "K2440.volt(0)\n",
    "K2440.output(1) #output off\n",
    "sleep(1)\n",
    "appl_current(1.5e-7)\n",
    "sleep(2)\n",
    "meas_voltage_K2()"
   ]
  },
  {
   "cell_type": "code",
   "execution_count": null,
   "id": "e083479a",
   "metadata": {},
   "outputs": [],
   "source": [
    "sleep(120)"
   ]
  },
  {
   "cell_type": "code",
   "execution_count": null,
   "id": "6c69dc40",
   "metadata": {},
   "outputs": [],
   "source": [
    "def get_Mag(show=True):\n",
    "    Mag_x = magnet_x.field()\n",
    "    Mag_y = magnet_y.field()\n",
    "    Mag_z = magnet_z.field()\n",
    "    if show:\n",
    "        print(f\"Mag_x: {Mag_x*1e3:.6f} mT\")\n",
    "        print(f\"Mag_y: {Mag_y*1e3:.6f} mT\")\n",
    "        print(f\"Mag_z: {Mag_z*1e3:.6f} mT\")\n",
    "    else: \n",
    "        return Mag_x, Mag_y, Mag_z\n",
    "get_Mag()"
   ]
  },
  {
   "cell_type": "code",
   "execution_count": null,
   "id": "582ee743",
   "metadata": {},
   "outputs": [],
   "source": [
    "get_Mag()"
   ]
  },
  {
   "cell_type": "code",
   "execution_count": null,
   "id": "9634bb97",
   "metadata": {},
   "outputs": [],
   "source": [
    "magnet_y.field()"
   ]
  },
  {
   "cell_type": "code",
   "execution_count": null,
   "id": "add54ae7",
   "metadata": {},
   "outputs": [],
   "source": [
    "for i in tqdm(range(23), desc=\"First loop\"):\n",
    "    value = (25 - i) * 1e-3 \n",
    "    value = float(f\"{value:.10f}\")\n",
    "    print(value)"
   ]
  },
  {
   "cell_type": "code",
   "execution_count": null,
   "id": "04c8a1e5",
   "metadata": {},
   "outputs": [],
   "source": [
    "from tqdm import tqdm\n",
    "import time\n",
    "\n",
    "from IPython.display import clear_output\n",
    "# First loop\n",
    "for i in tqdm(range(6), desc=\"First loop\"):\n",
    "    Mag_x = magnet_x.field()\n",
    "    value = (15 + i) * 1e-3\n",
    "    value = float(f\"{value:.10f}\")\n",
    "    magnet_x.field(value)\n",
    "    print(f\"magnet_x is {Mag_x:.8f} T\")\n",
    "    time.sleep(15)\n",
    "    clear_output(True)\n",
    "\n",
    "# Pause for 30 seconds\n",
    "time.sleep(60)\n",
    "\n",
    "# Second loop\n",
    "for i in tqdm(range(23), desc=\"First loop\"):\n",
    "    Mag_x = magnet_x.field()\n",
    "    value = (25 - i) * 1e-3 \n",
    "    value = float(f\"{value:.10f}\")\n",
    "    magnet_x.field(value)\n",
    "    print(f\"magnet_x is {Mag_x:.8f} T\")\n",
    "    time.sleep(15)\n",
    "    clear_output(True)\n",
    "\n",
    "# Pause for 180 seconds\n",
    "time.sleep(300)"
   ]
  },
  {
   "cell_type": "code",
   "execution_count": null,
   "id": "fc3e418b",
   "metadata": {},
   "outputs": [],
   "source": [
    "magnet_x.field(-20)"
   ]
  },
  {
   "cell_type": "code",
   "execution_count": null,
   "id": "07666294",
   "metadata": {},
   "outputs": [],
   "source": [
    "Mag = -20e-3\n",
    "I_range=2.5e-6\n",
    "K2440.output(1)\n",
    "sleep(2)\n",
    "magnet_x.field(Mag)\n",
    "sleep(10)\n",
    "appl_current(-I_range)\n",
    "sleep(3)\n",
    "direction = 'backward' if Mag > 0 else 'forward'\n",
    "\n",
    "\n",
    "# station.snapshot(update=True);\n",
    "exp = qc.new_experiment('IV vs Bx', sample_name=f'103-06_J2_12-13-18-19_1M_Bx_{direction}_By@0mT')\n",
    "\n",
    "dataid = do2d(magnet_x.field, Mag, -Mag, 76 , 0.7, appl_current, -I_range ,I_range, 101, 0.01, meas_voltage_K2)\n",
    "\n",
    "appl_current(0)\n",
    "K2440.output(0)\n",
    "# magnet_y.field(0)\n",
    "\n",
    "plot_by_id(dataid)\n",
    "autosave_plot_by_id(dataid, save_path)"
   ]
  },
  {
   "cell_type": "code",
   "execution_count": null,
   "id": "5f475874",
   "metadata": {},
   "outputs": [],
   "source": [
    "K2440.output(1)\n",
    "sleep(2)\n",
    "Mag = 10e-3\n",
    "I_range=2.5e-5\n",
    "\n",
    "magnet_x.field(Mag)\n",
    "sleep(30)\n",
    "appl_current(-I_range)\n",
    "sleep(3)\n",
    "direction = 'backward' if Mag > 0 else 'forward'\n",
    "\n",
    "\n",
    "# station.snapshot(update=True);\n",
    "\n",
    "exp = qc.new_experiment('IV vs Bx', sample_name=f'094-20IV_Bx_16-17-19-18_10M_{direction}')\n",
    "\n",
    "dataid = do2d(magnet_x.field, Mag, -Mag, 101 , 1.5, appl_current, -I_range ,I_range, 101, 0.05, meas_voltage_K2)#M:I Delay time 10:1\n",
    "\n",
    "\n",
    "appl_current(0)\n",
    "K2440.output(0)\n",
    "# magnet_x.field(0)\n",
    "\n",
    "plot_by_id(dataid)\n",
    "autosave_plot_by_id(dataid, save_path)"
   ]
  },
  {
   "cell_type": "code",
   "execution_count": null,
   "id": "bfdd8a07",
   "metadata": {},
   "outputs": [],
   "source": [
    "set_magnetic_field_stepwise(magnet=magnet_x, current_field=-40e-3, target_field=-18e-3, step_size=1e-3, delay=2.5)"
   ]
  },
  {
   "cell_type": "code",
   "execution_count": null,
   "id": "5eef089c",
   "metadata": {},
   "outputs": [],
   "source": [
    "def set_magnetic_field_stepwise(magnet=magnet_x, current_field=0, target_field=-10e-3, step_size=1e-3, delay=2.5):\n",
    "    \n",
    "    \"\"\"Set the magnetic field with anti-hysteresis mechanism witch will go to target magnetic field +/- 5mT, \n",
    "    if the target magnetic field is greater/less than the current magnetic field, \n",
    "    then slowly ramp back the magnetic field to the target magnetic field\n",
    "\n",
    "    Args:\n",
    "        magnet (_type_, optional): magnet_x,magnet_y,magnet_z. Defaults to magnet_x.\n",
    "        current_field (int, optional): _description_. Defaults to 0 T.\n",
    "        target_field (_type_, optional): _description_. Defaults to -10e-3 T.\n",
    "        step_size (_type_, optional): _description_. Defaults to 1e-3 T.\n",
    "        delay (float, optional): _description_. Defaults to 2 sec.\n",
    "    \n",
    "    \"\"\"\n",
    "    \n",
    "    from tqdm.notebook import tqdm\n",
    "    import math\n",
    "    # Calculate total steps for tqdm progress bar\n",
    "    total_steps = math.ceil(abs((target_field - current_field) / step_size)) * 2\n",
    "    progress_bar = tqdm(total=total_steps)\n",
    "\n",
    "    # Determine the intermediate target field\n",
    "    intermediate_target_field = target_field + 5e-3 if target_field > current_field else target_field - 5e-3\n",
    "    # Slowly ramp the magnetic field to the intermediate target field\n",
    "    while abs(intermediate_target_field - current_field) > step_size:\n",
    "        if intermediate_target_field > current_field:\n",
    "            current_field += step_size\n",
    "            magnet.field(current_field)\n",
    "        else:\n",
    "            current_field -= step_size\n",
    "            magnet.field(current_field)\n",
    "        time.sleep(delay)\n",
    "        progress_bar.update(1)  # Update progress bar\n",
    "    # Slowly ramp back the magnetic field to the target_field\n",
    "    while abs(target_field - current_field) > step_size:\n",
    "        if target_field > current_field:\n",
    "            current_field += step_size\n",
    "            magnet.field(current_field)\n",
    "        else:\n",
    "            current_field -= step_size\n",
    "            magnet.field(current_field)\n",
    "        time.sleep(delay)\n",
    "        progress_bar.update(1)  # Update progress bar\n",
    "    magnet.field(target_field)\n",
    "    progress_bar.n = total_steps  # Set progress bar to 100%\n",
    "    progress_bar.refresh()  # Refresh the progress bar to show the update\n",
    "    progress_bar.close()  # Close progress bar when done"
   ]
  },
  {
   "cell_type": "code",
   "execution_count": null,
   "id": "6d385381",
   "metadata": {},
   "outputs": [],
   "source": [
    "for i in range(6):\n",
    "    magnet_x.field((-10-i)*1e-3)\n",
    "    sleep(4)\n",
    "sleep(10)\n",
    "\n",
    "for i in range(16):\n",
    "    magnet_x.field((15+i)*1e-3)\n",
    "    sleep(4)\n",
    "sleep(10)"
   ]
  },
  {
   "cell_type": "code",
   "execution_count": null,
   "id": "83205742",
   "metadata": {},
   "outputs": [],
   "source": [
    "for i in range(25):\n",
    "    print(-24+i)"
   ]
  },
  {
   "cell_type": "code",
   "execution_count": null,
   "id": "fef193a7",
   "metadata": {},
   "outputs": [],
   "source": [
    "magnet_x.field(-19e-3)\n",
    "sleep(10)\n",
    "#magnet_x.field(e-3)\n",
    "#sleep(10)\n",
    "#magnet_x.field(12.8e-3)\n",
    "#sleep(10)"
   ]
  },
  {
   "cell_type": "markdown",
   "id": "6a6f3c0d",
   "metadata": {},
   "source": [
    "## IV vs By"
   ]
  },
  {
   "cell_type": "code",
   "execution_count": null,
   "id": "b823efb8",
   "metadata": {},
   "outputs": [],
   "source": [
    "get_Mag()"
   ]
  },
  {
   "cell_type": "code",
   "execution_count": null,
   "id": "9e236537",
   "metadata": {},
   "outputs": [],
   "source": [
    "magnet_y.field(0e-3)"
   ]
  },
  {
   "cell_type": "code",
   "execution_count": null,
   "id": "b4e8ec13",
   "metadata": {},
   "outputs": [],
   "source": [
    "for i in tqdm(range(21), desc=\"2nd loop\"):\n",
    "    \n",
    "    value = (-10 + i*0.5) * 1e-3 \n",
    "    value = float(f\"{value:.10f}\")\n",
    "    magnet_y.field(value)\n",
    "    get_Mag()\n",
    "    time.sleep(15)\n",
    "    clear_output(True)"
   ]
  },
  {
   "cell_type": "code",
   "execution_count": null,
   "id": "5dce7f89",
   "metadata": {},
   "outputs": [],
   "source": [
    "\n",
    "# First loop\n",
    "for i in tqdm(range(11), desc=\"First loop\"):\n",
    "    \n",
    "    value = (5 +i) * 1e-3\n",
    "    value = float(f\"{value:.10f}\")\n",
    "    magnet_y.field(value)\n",
    "    get_Mag()\n",
    "    time.sleep(15)\n",
    "    clear_output(True)\n",
    "\n",
    "# Pause for 30 seconds\n",
    "time.sleep(60)\n",
    "\n",
    "# Second loop\n",
    "for i in tqdm(range(11), desc=\"2nd loop\"):\n",
    "    \n",
    "    value = (-10 + i) * 1e-3 \n",
    "    value = float(f\"{value:.10f}\")\n",
    "    magnet_y.field(value)\n",
    "    get_Mag()\n",
    "    time.sleep(15)\n",
    "    clear_output(True)\n",
    "# Pause for 180 seconds\n",
    "time.sleep(300)"
   ]
  },
  {
   "cell_type": "code",
   "execution_count": null,
   "id": "46dc421a",
   "metadata": {},
   "outputs": [],
   "source": [
    "magnet_y.field()"
   ]
  },
  {
   "cell_type": "code",
   "execution_count": null,
   "id": "3a7fb763",
   "metadata": {},
   "outputs": [],
   "source": [
    "Mag =5e-3\n",
    "I_range=0.6e-6\n",
    "K2440.output(1)\n",
    "sleep(2)\n",
    "magnet_y.field(Mag)\n",
    "sleep(10)\n",
    "appl_current(-I_range)\n",
    "sleep(3)\n",
    "direction = 'backward' if Mag > 0 else 'forward'\n",
    "\n",
    "\n",
    "# station.snapshot(update=True);\n",
    "exp = qc.new_experiment('IV vs By', sample_name=f'103-03_J2_27-26-30-31M(32G-33G-28G-29G)_1M_By_{direction}_{-I_range}')\n",
    "\n",
    "dataid = do2d(magnet_y.field, Mag, -Mag, 201 , 0.5, appl_current, -I_range ,I_range,  201, 0.0001, meas_voltage_K2)\n",
    "\n",
    "appl_current(0)\n",
    "K2440.output(0)\n",
    "# magnet_y.field(0)\n",
    "\n",
    "plot_by_id(dataid)\n",
    "autosave_plot_by_id(dataid, save_path)"
   ]
  },
  {
   "cell_type": "code",
   "execution_count": null,
   "id": "a9c30858",
   "metadata": {},
   "outputs": [],
   "source": [
    "Mag =-5e-3\n",
    "I_range=5e-6\n",
    "K2440.output(1)\n",
    "sleep(2)\n",
    "magnet_y.field(Mag)\n",
    "sleep(10)\n",
    "appl_current(-I_range)\n",
    "sleep(3)\n",
    "direction = 'backward' if Mag > 0 else 'forward'\n",
    "\n",
    "\n",
    "# station.snapshot(update=True);\n",
    "exp = qc.new_experiment('IV vs By', sample_name=f'103-03_J2_27-26-30-31M(32G-33G-28G-29G)_1M_By_{direction}_{-I_range}')\n",
    "\n",
    "dataid = do2d(magnet_y.field, Mag, -Mag, 201 , 0.5, appl_current, -I_range ,I_range,  201, 0.0001, meas_voltage_K2)\n",
    "\n",
    "appl_current(0)\n",
    "K2440.output(0)\n",
    "# magnet_y.field(0)\n",
    "\n",
    "plot_by_id(dataid)\n",
    "autosave_plot_by_id(dataid, save_path)"
   ]
  },
  {
   "cell_type": "code",
   "execution_count": null,
   "id": "8ba8b69c",
   "metadata": {},
   "outputs": [],
   "source": [
    "32-"
   ]
  },
  {
   "cell_type": "code",
   "execution_count": null,
   "id": "7c2e8f1b",
   "metadata": {},
   "outputs": [],
   "source": [
    "\n",
    "# First loop\n",
    "for i in tqdm(range(6), desc=\"First loop\"):\n",
    "    Mag_x = magnet_y.field()\n",
    "    value = (1.5 +i) * 1e-3\n",
    "    value = float(f\"{value:.10f}\")\n",
    "    magnet_y.field(value)\n",
    "    print(f\"magnet_y is {Mag_x:.8f} T\")\n",
    "    time.sleep(15)\n",
    "    clear_output(True)\n",
    "\n",
    "# Pause for 30 seconds\n",
    "time.sleep(60)\n",
    "\n",
    "# Second loop\n",
    "for i in tqdm(range(6), desc=\"2nd loop\"):\n",
    "    Mag_x = magnet_y.field()\n",
    "    value = (6.5 - i) * 1e-3 \n",
    "    value = float(f\"{value:.10f}\")\n",
    "    magnet_y.field(value)\n",
    "    print(f\"magnet_y is {Mag_x:.8f} T\")\n",
    "    time.sleep(15)\n",
    "    clear_output(True)\n",
    "\n",
    "# Pause for 180 seconds\n",
    "time.sleep(300)"
   ]
  },
  {
   "cell_type": "code",
   "execution_count": null,
   "id": "8d736f1b",
   "metadata": {},
   "outputs": [],
   "source": [
    "Mag = 1.5e-3\n",
    "I_range=2.5e-6\n",
    "K2440.output(1)\n",
    "sleep(2)\n",
    "magnet_y.field(Mag)\n",
    "sleep(10)\n",
    "appl_current(-I_range)\n",
    "sleep(3)\n",
    "direction = 'backward' if Mag > 0 else 'forward'\n",
    "\n",
    "\n",
    "# station.snapshot(update=True);\n",
    "exp = qc.new_experiment('IV vs By', sample_name=f'103-06_J2_12-13-18-19_1M_By_{direction}_Bx@3mT')\n",
    "\n",
    "dataid = do2d(magnet_y.field, Mag, -Mag, 1001 , 0.4, appl_current, -I_range ,I_range, 151, 0.01, meas_voltage_K2)\n",
    "\n",
    "appl_current(0)\n",
    "K2440.output(0)\n",
    "# magnet_y.field(0)\n",
    "\n",
    "plot_by_id(dataid)\n",
    "autosave_plot_by_id(dataid, save_path)"
   ]
  },
  {
   "cell_type": "code",
   "execution_count": null,
   "id": "43eb5eb6",
   "metadata": {},
   "outputs": [],
   "source": [
    "Mag()"
   ]
  },
  {
   "cell_type": "code",
   "execution_count": null,
   "id": "721c43a1",
   "metadata": {},
   "outputs": [],
   "source": [
    "Mag = 1.5e-3\n",
    "I_range=1e-6\n",
    "K2440.output(1)\n",
    "sleep(2)\n",
    "magnet_y.field(Mag)\n",
    "sleep(10)\n",
    "appl_current(-I_range)\n",
    "sleep(3)\n",
    "direction = 'backward' if Mag > 0 else 'forward'\n",
    "\n",
    "\n",
    "# station.snapshot(update=True);\n",
    "exp = qc.new_experiment('IV vs By', sample_name=f'103-01_J1_21-20-23-22_1M_By_{direction}_Bx@0mT')\n",
    "\n",
    "dataid = do2d(magnet_y.field, Mag, -Mag, 151 , 0.9, appl_current, -I_range ,I_range, 201, 0.01, meas_voltage_K2)\n",
    "\n",
    "appl_current(0)\n",
    "K2440.output(0)\n",
    "# magnet_y.field(0)\n",
    "\n",
    "plot_by_id(dataid)\n",
    "autosave_plot_by_id(dataid, save_path)"
   ]
  },
  {
   "cell_type": "code",
   "execution_count": null,
   "id": "dadb617e",
   "metadata": {},
   "outputs": [],
   "source": [
    "from tqdm import tqdm\n",
    "import time\n",
    "\n",
    "# First loop\n",
    "for i in tqdm(range(6), desc=\"First loop\"):\n",
    "    value = (1.5 + i) * 1e-3 \n",
    "    magnet_y.field(value)\n",
    "    print(f\"magnet_y is {value:.8f} T\")\n",
    "    time.sleep(10)\n",
    "\n",
    "# Pause for 30 seconds\n",
    "time.sleep(30)\n",
    "\n",
    "# Second loop\n",
    "for i in tqdm(range(8), desc=\"First loop\"):\n",
    "    value = (7 - i) * 1e-3 \n",
    "    magnet_y.field(value)\n",
    "    print(f\"magnet_y is {value:.8f} T\")\n",
    "    time.sleep(10)\n",
    "\n",
    "# Pause for 180 seconds\n",
    "time.sleep(300)\n"
   ]
  },
  {
   "cell_type": "code",
   "execution_count": null,
   "id": "cceb780f",
   "metadata": {},
   "outputs": [],
   "source": [
    "def combined_loop(start=0, end=5 ):\n",
    "  for i in tqdm(range((end-start)+6), desc=\"First loop\"):\n",
    "    value = start + i\n",
    "    print(f\"{value* 1e-3:.5f}\")\n",
    "\n",
    "  for i in tqdm(range(6), desc=\"Second loop\"):\n",
    "    value = end+5 - i\n",
    "    print(f\"{value* 1e-3:.5f}\")\n",
    "\n",
    "combined_loop()\n"
   ]
  },
  {
   "cell_type": "code",
   "execution_count": null,
   "id": "7963ad50",
   "metadata": {},
   "outputs": [],
   "source": [
    "Mag = 3e-3\n",
    "I_range=1e-6\n",
    "K2440.output(1)\n",
    "sleep(2)\n",
    "magnet_y.field(Mag)\n",
    "sleep(10)\n",
    "appl_current(-I_range)\n",
    "sleep(3)\n",
    "direction = 'backward' if Mag > 0 else 'forward'\n",
    "\n",
    "\n",
    "# station.snapshot(update=True);\n",
    "exp = qc.new_experiment('IV vs By', sample_name=f'103-04_J2_04-05-06-07_1M_By_{direction}_Bx@0mT')\n",
    "\n",
    "dataid = do2d(magnet_y.field, Mag, -Mag, 101 , 1.5, appl_current, -I_range ,I_range, 101, 0.01, meas_voltage_K2)\n",
    "\n",
    "appl_current(0)\n",
    "K2440.output(0)\n",
    "# magnet_y.field(0)\n",
    "\n",
    "plot_by_id(dataid)\n",
    "autosave_plot_by_id(dataid, save_path)"
   ]
  },
  {
   "cell_type": "code",
   "execution_count": null,
   "id": "3d67f8ce",
   "metadata": {},
   "outputs": [],
   "source": [
    "from tqdm import tqdm\n",
    "import time\n",
    "\n",
    "# First loop\n",
    "for i in tqdm(range(6), desc=\"First loop\"):\n",
    "    magnet_y.field((-3 - i) * 1e-3)\n",
    "    time.sleep(15)\n",
    "\n",
    "# Pause for 30 seconds\n",
    "time.sleep(30)\n",
    "\n",
    "# Second loop\n",
    "for i in tqdm(range(7), desc=\"Second loop\"):\n",
    "    magnet_y.field((-8 + i) * 1e-3)\n",
    "    time.sleep(15)\n",
    "\n",
    "# Pause for 180 seconds\n",
    "time.sleep(300)"
   ]
  },
  {
   "cell_type": "code",
   "execution_count": null,
   "id": "af9e2a73",
   "metadata": {},
   "outputs": [],
   "source": [
    "magnet_y.field(-1.5e-3)\n",
    "print(\"By at -1.5 mT\")"
   ]
  },
  {
   "cell_type": "code",
   "execution_count": null,
   "id": "214aa45a",
   "metadata": {},
   "outputs": [],
   "source": [
    "Mag = -3e-3\n",
    "I_range=1e-6\n",
    "K2440.output(1)\n",
    "sleep(2)\n",
    "magnet_y.field(Mag)\n",
    "sleep(10)\n",
    "appl_current(-I_range)\n",
    "sleep(3)\n",
    "direction = 'backward' if Mag > 0 else 'forward'\n",
    "\n",
    "\n",
    "# station.snapshot(update=True);\n",
    "exp = qc.new_experiment('IV vs By', sample_name=f'103-04_J2_04-05-06-07_1M_By_{direction}_Bx@0mT')\n",
    "\n",
    "dataid = do2d(magnet_y.field, Mag, -Mag, 501 , 1, appl_current, -I_range ,I_range, 251, 0.01, meas_voltage_K2)\n",
    "\n",
    "appl_current(0)\n",
    "K2440.output(0)\n",
    "# magnet_y.field(0)\n",
    "\n",
    "plot_by_id(dataid)\n",
    "autosave_plot_by_id(dataid, save_path)"
   ]
  },
  {
   "cell_type": "code",
   "execution_count": null,
   "id": "da9891fc",
   "metadata": {},
   "outputs": [],
   "source": [
    "from tqdm import tqdm\n",
    "import time\n",
    "\n",
    "# First loop\n",
    "for i in tqdm(range(6), desc=\"First loop\"):\n",
    "    magnet_y.field((3 + i) * 1e-3)\n",
    "    time.sleep(10)\n",
    "\n",
    "# Pause for 30 seconds\n",
    "time.sleep(30)\n",
    "\n",
    "# Second loop\n",
    "for i in tqdm(range(6), desc=\"Second loop\"):\n",
    "    magnet_y.field((8 - i) * 1e-3)\n",
    "    time.sleep(10)\n",
    "\n",
    "# Pause for 180 seconds\n",
    "time.sleep(300)"
   ]
  },
  {
   "cell_type": "code",
   "execution_count": null,
   "id": "8c1e92c1",
   "metadata": {},
   "outputs": [],
   "source": [
    "Mag = 3e-3\n",
    "I_range=1e-6\n",
    "K2440.output(1)\n",
    "sleep(2)\n",
    "magnet_y.field(Mag)\n",
    "sleep(10)\n",
    "appl_current(-I_range)\n",
    "sleep(3)\n",
    "direction = 'backward' if Mag > 0 else 'forward'\n",
    "\n",
    "\n",
    "# station.snapshot(update=True);\n",
    "exp = qc.new_experiment('IV vs By', sample_name=f'103-04_J2_04-05-06-07_1M_By_{direction}_Bx@0mT')\n",
    "\n",
    "dataid = do2d(magnet_y.field, Mag, -Mag, 501 , 1, appl_current, -I_range ,I_range, 251, 0.01, meas_voltage_K2)\n",
    "\n",
    "appl_current(0)\n",
    "K2440.output(0)\n",
    "# magnet_y.field(0)\n",
    "\n",
    "plot_by_id(dataid)\n",
    "autosave_plot_by_id(dataid, save_path)"
   ]
  },
  {
   "cell_type": "code",
   "execution_count": null,
   "id": "5208f447",
   "metadata": {},
   "outputs": [],
   "source": [
    "magnet_y.field(5e-3)"
   ]
  },
  {
   "cell_type": "code",
   "execution_count": null,
   "id": "3e408864",
   "metadata": {},
   "outputs": [],
   "source": [
    "for i in range(9):\n",
    "    magnet_y.field((0+i)*1e-3)\n",
    "    sleep(4)\n",
    "sleep(10)\n",
    "\n",
    "for i in range(6):\n",
    "    magnet_y.field((8-i)*1e-3)\n",
    "    sleep(4)\n",
    "\n",
    "sleep(60)\n",
    "# magnet_y.field(21.5e-3)\n",
    "sleep(60)\n",
    "#magnet_y.field(0.48e-3)\n",
    "#sleep(5)"
   ]
  },
  {
   "cell_type": "code",
   "execution_count": null,
   "id": "2eb14a5d",
   "metadata": {},
   "outputs": [],
   "source": [
    "for i in range(4):\n",
    "    print(8-i)"
   ]
  },
  {
   "cell_type": "code",
   "execution_count": null,
   "id": "a1ebeefb",
   "metadata": {},
   "outputs": [],
   "source": [
    "K2440.output(1)\n",
    "sleep(2)\n",
    "Mag = -40e-3\n",
    "I_range=2e-8\n",
    "\n",
    "magnet_y.field(Mag)\n",
    "sleep(10)\n",
    "appl_current(-I_range)\n",
    "sleep(3)\n",
    "direction = 'backward' if Mag > 0 else 'forward'\n",
    "\n",
    "\n",
    "# station.snapshot(update=True);\n",
    "\n",
    "exp = qc.new_experiment('IV vs By', sample_name=f'094-20IV_By_16-17-19-18_10M_{direction}_Bx@-18.5mT')\n",
    "\n",
    "dataid = do2d(magnet_y.field, Mag, -Mag, 601 , 2, appl_current, -I_range ,I_range, 201, 0.1, meas_voltage_K2)\n",
    "\n",
    "\n",
    "appl_current(0)\n",
    "K2440.output(0)\n",
    "# magnet_y.field(0)\n",
    "\n",
    "plot_by_id(dataid)\n",
    "autosave_plot_by_id(dataid, save_path)"
   ]
  },
  {
   "cell_type": "code",
   "execution_count": null,
   "id": "effdb8bf",
   "metadata": {},
   "outputs": [],
   "source": [
    "for i in range(24):\n",
    "    print(45-i)"
   ]
  },
  {
   "cell_type": "code",
   "execution_count": null,
   "id": "4b523a44",
   "metadata": {},
   "outputs": [],
   "source": []
  },
  {
   "cell_type": "markdown",
   "id": "7dce8613",
   "metadata": {},
   "source": [
    "## IV vs Bz"
   ]
  },
  {
   "cell_type": "code",
   "execution_count": null,
   "id": "a4e6e5f7",
   "metadata": {
    "scrolled": true
   },
   "outputs": [],
   "source": [
    "K2440.output(1)\n",
    "sleep(2)\n",
    "magnet_z.field(-80e-3)\n",
    "sleep(60)\n",
    "appl_current(-2e-7)\n",
    "sleep(5)\n",
    "\n",
    "# station.snapshot(update=True);\n",
    "\n",
    "exp = qc.new_experiment('IV vs Bz', sample_name='IV_Bz_33_32_30_31_10M_forward')\n",
    "\n",
    "dataid = do2d(magnet_z.field,-80e-3,80e-3, 71 , 20, appl_current, -2e-7 ,2e-7, 101, 0.05, meas_voltage_K2)\n",
    "\n",
    "appl_current(0)\n",
    "\n",
    "K2440.output(0)\n",
    "# magnet_y.field(0)\n",
    "\n",
    "plot_by_id(dataid)"
   ]
  },
  {
   "cell_type": "code",
   "execution_count": null,
   "id": "e68136d1",
   "metadata": {},
   "outputs": [],
   "source": [
    "#magnet_z.field(20e-3)\n",
    "#sleep(5)\n",
    "magnet_z.field(-6.1e-3)\n",
    "sleep(5)"
   ]
  },
  {
   "cell_type": "code",
   "execution_count": null,
   "id": "571645ac",
   "metadata": {},
   "outputs": [],
   "source": []
  },
  {
   "cell_type": "markdown",
   "id": "02c81568",
   "metadata": {},
   "source": [
    "## IV w/ Bx"
   ]
  },
  {
   "cell_type": "code",
   "execution_count": null,
   "id": "b5229271",
   "metadata": {},
   "outputs": [],
   "source": [
    "K2440.output(1)\n",
    "sleep(2)\n",
    "magnet_x.field(0.23e-3)\n",
    "appl_current(-0.5e-6)\n",
    "sleep(10)\n",
    "\n",
    "# station.snapshot(update=True);\n",
    "exp = qc.new_experiment('I vs V', sample_name='IV_w/_Bx')\n",
    "\n",
    "#do1d(param_set, start, stop, num_points, delay, *param_meas)\n",
    "dataid = do1d(appl_current, -0.5e-6 ,0.5e-6, 101, 0.05, meas_voltage_K2)\n",
    "# dataid = do1d(appl_current, 6e-6 , -6e-6, 251, 0.01, meas_voltage_K1)\n",
    "# ivvi.set_dacs_zero()\n",
    "\n",
    "appl_current(0)\n",
    "plot_by_id(dataid)\n",
    "# print(get_R_from_IV(dataid))\n",
    "#print(get_R_from_IV_2(dataid))\n",
    "\n",
    "K2440.output(0)"
   ]
  },
  {
   "cell_type": "markdown",
   "id": "27ac85cd",
   "metadata": {},
   "source": [
    "## IV w/ By"
   ]
  },
  {
   "cell_type": "code",
   "execution_count": null,
   "id": "b7c3a84d",
   "metadata": {},
   "outputs": [],
   "source": [
    "K2440.output(1)\n",
    "DMM6500.averaging_count(30)\n",
    "#DMM6500.averaging_enabled(False)\n",
    "\n",
    "sleep(2)\n",
    "magnet_y.field(0e-3)\n",
    "appl_current(-2e-7)\n",
    "sleep(20)\n",
    "\n",
    "# station.snapshot(update=True);\n",
    "exp = qc.new_experiment('I vs V', sample_name='IV_w/_By@0mT_forward_Avg30')\n",
    "\n",
    "#do1d(param_set, start, stop, num_points, delay, *param_meas)\n",
    "dataid = do1d(appl_current, -2e-7 ,2e-7, 201, 0.05, meas_voltage_K2)\n",
    "# dataid = do1d(appl_current, 6e-6 , -6e-6, 251, 0.01, meas_voltage_K1)\n",
    "# ivvi.set_dacs_zero()\n",
    "\n",
    "appl_current(0)\n",
    "plot_by_id(dataid)\n",
    "# print(get_R_from_IV(dataid))\n",
    "#print(get_R_from_IV_2(dataid))\n",
    "\n",
    "K2440.output(0)"
   ]
  },
  {
   "cell_type": "markdown",
   "id": "1e7ed93d",
   "metadata": {},
   "source": [
    "## MR"
   ]
  },
  {
   "cell_type": "code",
   "execution_count": null,
   "id": "9db581e2",
   "metadata": {},
   "outputs": [],
   "source": [
    "K2440.output(1)\n",
    "sleep(2)\n",
    "magnet_y.field(-0.1)\n",
    "sleep(5)\n",
    "#K2440.output(1)\n",
    "appl_current(1e-7)\n",
    "sleep(5)\n",
    "\n",
    "# station.snapshot(update=True);\n",
    "\n",
    "exp = qc.new_experiment('I vs By_MR', sample_name='072_14IVf_25_24_29_29_By_+-0.1T_MR_for')\n",
    "\n",
    "dataid = do1d(magnet_y.field, -0.1, 0.1, 71 , 1, meas_voltage_K2)\n",
    "\n",
    "appl_current(0)\n",
    "K2440.output(0)\n",
    "#K2440.output(0)\n",
    "magnet_y.field(0)\n",
    "\n",
    "plot_by_id(dataid)"
   ]
  },
  {
   "cell_type": "markdown",
   "id": "55fd3a3b",
   "metadata": {},
   "source": [
    "## IV w/Bz"
   ]
  },
  {
   "cell_type": "code",
   "execution_count": null,
   "id": "e76653c7",
   "metadata": {},
   "outputs": [],
   "source": [
    "K2440.output(1)\n",
    "DMM6500.averaging_count(10)\n",
    "#DMM6500.averaging_enabled(False)\n",
    "\n",
    "sleep(2)\n",
    "magnet_z.field(0e-3)\n",
    "appl_current(-2e-7)\n",
    "sleep(30)\n",
    "\n",
    "# station.snapshot(update=True);\n",
    "exp = qc.new_experiment('I vs V', sample_name='IV_w/_f_Bz@0mT_forward_Avg10')\n",
    "\n",
    "#do1d(param_set, start, stop, num_points, delay, *param_meas)\n",
    "dataid = do1d(appl_current, -2e-7 ,2e-7, 201, 0.05, meas_voltage_K2)\n",
    "# dataid = do1d(appl_current, 6e-6 , -6e-6, 251, 0.01, meas_voltage_K1)\n",
    "# ivvi.set_dacs_zero()\n",
    "\n",
    "appl_current(0)\n",
    "plot_by_id(dataid)\n",
    "# print(get_R_from_IV(dataid))\n",
    "#print(get_R_from_IV_2(dataid))\n",
    "\n",
    "K2440.output(0)"
   ]
  },
  {
   "cell_type": "markdown",
   "id": "d0274abc",
   "metadata": {},
   "source": [
    "# Zero everything"
   ]
  },
  {
   "cell_type": "code",
   "execution_count": null,
   "id": "a0cc99f2",
   "metadata": {},
   "outputs": [],
   "source": [
    "appl_current(0)\n",
    "appl_TG(0)\n",
    "magnet_y.field(0)\n",
    "sleep(5)\n",
    "magnet_x.field(0)\n",
    "sleep(5)\n",
    "magnet_z.field(0)\n",
    "sleep(5)\n",
    "#appl_voltage_AC(0.004)\n",
    "#SGS.off()\n",
    "K2440.output(0)"
   ]
  },
  {
   "cell_type": "code",
   "execution_count": null,
   "id": "cb8bf175",
   "metadata": {},
   "outputs": [],
   "source": [
    "appl_current(0)"
   ]
  },
  {
   "cell_type": "markdown",
   "id": "6610bce1",
   "metadata": {},
   "source": [
    "# Gate simple sweeps"
   ]
  },
  {
   "cell_type": "markdown",
   "id": "c010fbad",
   "metadata": {},
   "source": [
    "## 加TG (2D)"
   ]
  },
  {
   "cell_type": "code",
   "execution_count": null,
   "id": "6d7e9bf6",
   "metadata": {},
   "outputs": [],
   "source": [
    "appl_current(0)\n",
    "sleep(1)\n",
    "appl_TG(0)\n",
    "sleep(5)"
   ]
  },
  {
   "cell_type": "code",
   "execution_count": null,
   "id": "be01663b",
   "metadata": {},
   "outputs": [],
   "source": [
    "magnet_x.field(-0.044e-3)\n",
    "sleep(10)\n",
    "magnet_y.field(-6.016e-3)\n",
    "sleep(10)"
   ]
  },
  {
   "cell_type": "code",
   "execution_count": null,
   "id": "5397630e",
   "metadata": {},
   "outputs": [],
   "source": [
    "K2440.output(1)\n",
    "K2440.output(1)\n",
    "appl_TG(-30)\n",
    "sleep(5)\n",
    "appl_current(-1.5e-8)\n",
    "sleep(1)\n",
    "\n",
    "exp = qc.new_experiment('I_vs_Vgate_up', sample_name='33_32_30_31_1M_TG21')\n",
    "dataid = do2d(appl_TG, -30, 30, 301, 0.5, appl_current, -1.5e-8, 1.5e-8, 101, 0.1, meas_voltage_K2)\n",
    "\n",
    "appl_TG(0)\n",
    "sleep(5)\n",
    "appl_current(0e-7)\n",
    "sleep(5)\n",
    "\n",
    "K2440.output(0)\n",
    "K2440.output(0)\n",
    "\n",
    "plot_by_id(dataid)"
   ]
  },
  {
   "cell_type": "markdown",
   "id": "5375fb6f",
   "metadata": {},
   "source": [
    "# RF"
   ]
  },
  {
   "cell_type": "markdown",
   "id": "596beaf8",
   "metadata": {},
   "source": [
    "## I vs RF_f"
   ]
  },
  {
   "cell_type": "markdown",
   "id": "a6df9a13",
   "metadata": {},
   "source": [
    "### sensitive check"
   ]
  },
  {
   "cell_type": "code",
   "execution_count": null,
   "id": "017ed644",
   "metadata": {},
   "outputs": [],
   "source": [
    "SGS.power()\n",
    "SGS.frequency()"
   ]
  },
  {
   "cell_type": "code",
   "execution_count": null,
   "id": "e0b8db4e",
   "metadata": {},
   "outputs": [],
   "source": [
    "SGS.on()"
   ]
  },
  {
   "cell_type": "code",
   "execution_count": null,
   "id": "cc145b47",
   "metadata": {},
   "outputs": [],
   "source": [
    "SGS.off()"
   ]
  },
  {
   "cell_type": "code",
   "execution_count": null,
   "id": "6141349d",
   "metadata": {},
   "outputs": [],
   "source": [
    "magnet_x.field(0.4e-3)\n",
    "sleep(10)\n",
    "magnet_y.field(2.53e-3)\n",
    "sleep(10)"
   ]
  },
  {
   "cell_type": "code",
   "execution_count": null,
   "id": "2fd35fd0",
   "metadata": {},
   "outputs": [],
   "source": [
    "DMM6500.averaging_count(5)\n",
    "DMM6500.averaging_enabled(False)"
   ]
  },
  {
   "cell_type": "markdown",
   "id": "2d27c6f3",
   "metadata": {},
   "source": [
    "### I vs RF_f (1D)"
   ]
  },
  {
   "cell_type": "code",
   "execution_count": null,
   "id": "c3ec00d7",
   "metadata": {
    "scrolled": false
   },
   "outputs": [],
   "source": [
    "SGS.off()\n",
    "exp = qc.new_experiment('I-RF_f', sample_name='103-06_J2_12-13-14-15_1M_@0mT')\n",
    "SGS.power(0)\n",
    "SGS.frequency(0.1e9)\n",
    "SGS.on()\n",
    "sleep(1)\n",
    "DMM6500.averaging_count(5)\n",
    "DMM6500.averaging_enabled(False)\n",
    "K2440.output(1)\n",
    "\n",
    "appl_current(0.4e-6)\n",
    "#appl_TG(10)\n",
    "# magnet_x.field(0.4e-3)\n",
    "# magnet_y.field(2.53e-3)\n",
    "\n",
    "dataid = do1d(SGS.frequency, 11.4e9, 12.2e9, 201, 0.1, meas_voltage_K2)\n",
    "appl_current(0)\n",
    "SGS.off()\n",
    "K2440.output(0)\n",
    "plot_by_id(dataid)\n"
   ]
  },
  {
   "cell_type": "markdown",
   "id": "3e250e53",
   "metadata": {},
   "source": [
    "### I vs RF_f (2D)"
   ]
  },
  {
   "cell_type": "code",
   "execution_count": null,
   "id": "3734095d",
   "metadata": {},
   "outputs": [],
   "source": [
    "SGS.off()"
   ]
  },
  {
   "cell_type": "code",
   "execution_count": null,
   "id": "ccc9ea2f",
   "metadata": {},
   "outputs": [],
   "source": [
    "SGS.off()\n",
    "SGS.power(0)\n",
    "SGS.frequency(0.1e9)\n",
    "SGS.on()\n",
    "DMM6500.averaging_count(1)\n",
    "DMM6500.averaging_enabled(False)\n",
    "K2440.output(1)\n",
    "\n",
    "I_range = 8e-6\n",
    "appl_current(-I_range)\n",
    "#appl_TG(-10)\n",
    "# magnet_x.field(0.4e-3)\n",
    "# magnet_y.field(2.53e-3)\n",
    "# sleep(1)\n",
    "\n",
    "# station.snapshot(update=True);\n",
    "exp = qc.new_experiment('IV-RF_f', sample_name=f'103-03_J2_27-26-30-31M(32G-33G-28G-29G)_1M_RF@0dBm_By@0.1mT')\n",
    "\n",
    "#do1d(param_set, start, stop, num_points, delay, *param_meas)\n",
    "dataid = do2d(SGS.frequency, 1e9, 20e9, 191, 0.0001, appl_current,-I_range ,I_range, 201, 0.0001, meas_voltage_K2)\n",
    "# dataid = do1d(appl_current, 6e-6 , -6e-6, 251, 0.01, meas_voltage_K1)\n",
    "# ivvi.set_dacs_zero()\n",
    "K2440.output(0)\n",
    "SGS.off()\n",
    "appl_current(0)\n",
    "plot_by_id(dataid)\n",
    "save_path = r\"D:\\data\\Albert\\103\\Plot\\104_{}.png\".format(dataid)  # Path to save the plot image\n",
    "autosave_plot_by_id(dataid, save_path)"
   ]
  },
  {
   "cell_type": "code",
   "execution_count": null,
   "id": "3426a3bd",
   "metadata": {},
   "outputs": [],
   "source": [
    "SGS.off()\n",
    "SGS.power(20)\n",
    "SGS.frequency(0.1e9)\n",
    "SGS.on()\n",
    "DMM6500.averaging_count(1)\n",
    "DMM6500.averaging_enabled(False)\n",
    "K2440.output(1)\n",
    "\n",
    "I_range = 6e-6\n",
    "appl_current(-I_range)\n",
    "#appl_TG(-10)\n",
    "# magnet_x.field(0.4e-3)\n",
    "# magnet_y.field(2.53e-3)\n",
    "# sleep(1)\n",
    "\n",
    "# station.snapshot(update=True);\n",
    "exp = qc.new_experiment('IV-RF_f', sample_name=f'103-03_J2_27-26-30-31M(32G-33G-28G-29G)_1M_RF@-10dBm_By@0.1mT')\n",
    "\n",
    "#do1d(param_set, start, stop, num_points, delay, *param_meas)\n",
    "dataid = do2d(SGS.frequency, 1e9, 20e9, 191, 0.0001, appl_current,-I_range ,I_range, 201, 0.0001, meas_voltage_K2)\n",
    "# dataid = do1d(appl_current, 6e-6 , -6e-6, 251, 0.01, meas_voltage_K1)\n",
    "# ivvi.set_dacs_zero()\n",
    "K2440.output(0)\n",
    "SGS.off()\n",
    "appl_current(0)\n",
    "plot_by_id(dataid)\n",
    "save_path = r\"D:\\data\\Albert\\103\\Plot\\104_{}.png\".format(dataid)  # Path to save the plot image\n",
    "autosave_plot_by_id(dataid, save_path)"
   ]
  },
  {
   "cell_type": "code",
   "execution_count": null,
   "id": "9f9dbd53",
   "metadata": {},
   "outputs": [],
   "source": [
    "SGS.off()\n",
    "SGS.power(20)\n",
    "SGS.frequency(5.9e9)\n",
    "SGS.on()\n",
    "DMM6500.averaging_count(1)\n",
    "DMM6500.averaging_enabled(False)\n",
    "K2440.output(1)\n",
    "\n",
    "I_range = 6e-6\n",
    "appl_current(-I_range)\n",
    "#appl_TG(-10)\n",
    "# magnet_x.field(0.4e-3)\n",
    "# magnet_y.field(2.53e-3)\n",
    "# sleep(1)\n",
    "\n",
    "# station.snapshot(update=True);\n",
    "exp = qc.new_experiment('IV-RF_f', sample_name=f'103-03_J2_27-26-30-31M(32G-33G-28G-29G)_1M_RF@20dBm_By@0.1mT')\n",
    "\n",
    "#do1d(param_set, start, stop, num_points, delay, *param_meas)\n",
    "dataid = do2d(SGS.frequency, 5.9e9, 6.0e9, 251, 0.0001, appl_current,-I_range ,I_range, 501, 0.0001, meas_voltage_K2)\n",
    "# dataid = do1d(appl_current, 6e-6 , -6e-6, 251, 0.01, meas_voltage_K1)\n",
    "# ivvi.set_dacs_zero()\n",
    "K2440.output(0)\n",
    "SGS.off()\n",
    "appl_current(0)\n",
    "plot_by_id(dataid)\n",
    "save_path = r\"D:\\data\\Albert\\103\\Plot\\104_{}.png\".format(dataid)  # Path to save the plot image\n",
    "autosave_plot_by_id(dataid, save_path)\n"
   ]
  },
  {
   "cell_type": "code",
   "execution_count": null,
   "id": "862b770b",
   "metadata": {},
   "outputs": [],
   "source": [
    "SGS.off()\n",
    "SGS.power(20)\n",
    "SGS.frequency(5.535e9)\n",
    "SGS.on()\n",
    "DMM6500.averaging_count(1)\n",
    "DMM6500.averaging_enabled(False)\n",
    "K2440.output(1)\n",
    "\n",
    "I_range = 6e-6\n",
    "appl_current(-I_range)\n",
    "#appl_TG(-10)\n",
    "# magnet_x.field(0.4e-3)\n",
    "# magnet_y.field(2.53e-3)\n",
    "# sleep(1)\n",
    "\n",
    "# station.snapshot(update=True);\n",
    "exp = qc.new_experiment('IV-RF_f', sample_name=f'103-03_J2_27-26-30-31M(32G-33G-28G-29G)_1M_RF@20dBm_By@0.1mT')\n",
    "\n",
    "#do1d(param_set, start, stop, num_points, delay, *param_meas)\n",
    "dataid = do2d(SGS.frequency, 5.535e9, 5.585e9, 251, 0.0001, appl_current,-I_range ,I_range, 501, 0.0001, meas_voltage_K2)\n",
    "# dataid = do1d(appl_current, 6e-6 , -6e-6, 251, 0.01, meas_voltage_K1)\n",
    "# ivvi.set_dacs_zero()\n",
    "K2440.output(0)\n",
    "SGS.off()\n",
    "appl_current(0)\n",
    "plot_by_id(dataid)\n",
    "save_path = r\"D:\\data\\Albert\\103\\Plot\\104_{}.png\".format(dataid)  # Path to save the plot image\n",
    "autosave_plot_by_id(dataid, save_path)\n"
   ]
  },
  {
   "cell_type": "code",
   "execution_count": null,
   "id": "d76f7ea2",
   "metadata": {},
   "outputs": [],
   "source": [
    "SGS.off()\n",
    "SGS.power(20)\n",
    "SGS.frequency(0.1e9)\n",
    "SGS.on()\n",
    "DMM6500.averaging_count(1)\n",
    "DMM6500.averaging_enabled(False)\n",
    "K2440.output(1)\n",
    "\n",
    "I_range = 6e-6\n",
    "appl_current(-I_range)\n",
    "SGS_power = SGS.power()\n",
    "#appl_TG(-10)\n",
    "# magnet_x.field(0.4e-3)\n",
    "# magnet_y.field(2.53e-3)\n",
    "# sleep(1)\n",
    "\n",
    "# station.snapshot(update=True);\n",
    "exp = qc.new_experiment('IV-RF_f', sample_name=f'103-03_J2_27-26-30-31M(32G-33G-28G-29G)_1M_RF@{SGS_power}dBm_By@0.1mT')\n",
    "\n",
    "#do1d(param_set, start, stop, num_points, delay, *param_meas)\n",
    "dataid = do2d(SGS.frequency, 3.9e9, 6.9e9, 301, 0.0001, appl_current,-I_range ,I_range, 251, 0.0001, meas_voltage_K2)\n",
    "# dataid = do1d(appl_current, 6e-6 , -6e-6, 251, 0.01, meas_voltage_K1)\n",
    "# ivvi.set_dacs_zero()\n",
    "K2440.output(0)\n",
    "SGS.off()\n",
    "appl_current(0)\n",
    "plot_by_id(dataid)\n",
    "save_path = r\"D:\\data\\Albert\\103\\Plot\\104_{}.png\".format(dataid)  # Path to save the plot image\n",
    "autosave_plot_by_id(dataid, save_path)"
   ]
  },
  {
   "cell_type": "code",
   "execution_count": null,
   "id": "28992f6f",
   "metadata": {},
   "outputs": [],
   "source": [
    "appl_current(0)\n",
    "#appl_TG(0)\n",
    "magnet_y.field(0)\n",
    "sleep(2)\n",
    "magnet_x.field(0)\n",
    "sleep(2)\n",
    "#appl_voltage_AC(0.004)\n",
    "SGS.off()"
   ]
  },
  {
   "cell_type": "markdown",
   "id": "65c9a40a",
   "metadata": {},
   "source": [
    "## IV vs RF_f"
   ]
  },
  {
   "cell_type": "markdown",
   "id": "b285efb3",
   "metadata": {},
   "source": [
    "### Shapiro steps "
   ]
  },
  {
   "cell_type": "code",
   "execution_count": null,
   "id": "3a180ee1",
   "metadata": {
    "scrolled": true
   },
   "outputs": [],
   "source": [
    "SGS.off()\n",
    "SGS.power(-10)\n",
    "SGS.frequency(11.725e9)\n",
    "SGS.on()\n",
    "DMM6500.averaging_count(5)\n",
    "DMM6500.averaging_enabled(False)\n",
    "K2440.output(1)\n",
    "\n",
    "appl_current(-2e-7)\n",
    "#appl_TG(-10)\n",
    "#magnet_x.field(0.23e-3)\n",
    "#magnet_y.field(1.41e-3)\n",
    "# sleep(1)\n",
    "\n",
    "# station.snapshot(update=True);\n",
    "exp = qc.new_experiment('IV-RF_f', sample_name=f'103-03_J2_27-26-30-31M(32G-33G-28G-29G)_1M_By@0.1mT{-I_range}')\n",
    "\n",
    "#do1d(param_set, start, stop, num_points, delay, *param_meas)\"\"\n",
    "dataid = do1d(appl_current,-2e-7 ,2e-7, 101, 0.05,  meas_voltage_K2)\n",
    "# dataid = do1d(appl_current, 6e-6 , -6e-6, 251, 0.01, meas_voltage_K1)\n",
    "# ivvi.set_dacs_zero()\n",
    "K2440.output(0)\n",
    "SGS.off()\n",
    "appl_current(0)\n",
    "plot_by_id(dataid)\n",
    "# print(get_R_from_IV(dataid))\n",
    "#print(get_R_from_IV_2(dataid))"
   ]
  },
  {
   "cell_type": "code",
   "execution_count": null,
   "id": "51fe069b",
   "metadata": {},
   "outputs": [],
   "source": [
    "SGS.off()\n",
    "SGS.power(0)\n",
    "SGS.frequency(3.87e9)\n",
    "SGS.on()\n",
    "DMM6500.averaging_count(5)\n",
    "DMM6500.averaging_enabled(False)\n",
    "K2440.output(1)\n",
    "\n",
    "appl_current(-1.2e-6)\n",
    "#appl_TG(-10)\n",
    "magnet_y.field(-10e-3)\n",
    "\n",
    "#magnet_y.field(1.41e-3)\n",
    "# sleep(1)\n",
    "\n",
    "# station.snapshot(update=True);\n",
    "exp = qc.new_experiment('Bx vs RF_f', sample_name='By vs RF_f_J2_3.87_-10dB')\n",
    "\n",
    "#do1d(param_set, start, stop, num_points, delay, *param_meas)\"\"\n",
    "dataid = do2d(magnet_y.field, -10e-3, 10e-3,701, 1, appl_current,-1.2e-6 ,1.2e-6, 101, 0.05,  meas_voltage_K2)\n",
    "# dataid = do1d(appl_current, 6e-6 , -6e-6, 251, 0.01, meas_voltage_K1)\n",
    "# ivvi.set_dacs_zero()\n",
    "K2440.output(0)\n",
    "SGS.off()\n",
    "appl_current(0)\n",
    "plot_by_id(dataid)\n",
    "# print(get_R_from_IV(dataid))\n",
    "#print(get_R_from_IV_2(dataid))"
   ]
  },
  {
   "cell_type": "code",
   "execution_count": null,
   "id": "5488e4c5",
   "metadata": {},
   "outputs": [],
   "source": [
    "appl_current(0)\n",
    "#appl_TG(0)\n",
    "magnet_y.field(0)\n",
    "sleep(10)\n",
    "magnet_x.field(0)\n",
    "sleep(10)\n",
    "#appl_voltage_AC(0.004)\n",
    "SGS.off()"
   ]
  },
  {
   "cell_type": "markdown",
   "id": "04e50dcd",
   "metadata": {},
   "source": [
    "## IV vs Power Dependence"
   ]
  },
  {
   "cell_type": "code",
   "execution_count": null,
   "id": "0368ef58",
   "metadata": {},
   "outputs": [],
   "source": [
    "SGS.off()"
   ]
  },
  {
   "cell_type": "code",
   "execution_count": null,
   "id": "3d6eab35",
   "metadata": {},
   "outputs": [],
   "source": [
    "SGS.power(-40)"
   ]
  },
  {
   "cell_type": "code",
   "execution_count": null,
   "id": "d760383a",
   "metadata": {},
   "outputs": [],
   "source": [
    "SGS.off()"
   ]
  },
  {
   "cell_type": "code",
   "execution_count": null,
   "id": "f0984a37",
   "metadata": {
    "scrolled": true
   },
   "outputs": [],
   "source": [
    "SGS.off()\n",
    "SGS.power(-20)\n",
    "SGS.frequency(5.9534e9)\n",
    "SGS_frequency = SGS.frequency()\n",
    "SGS.on()\n",
    "DMM6500.averaging_count(3)\n",
    "DMM6500.averaging_enabled(False)\n",
    "K2440.output(1)\n",
    "\n",
    "#magnet_x.field(15e-3)\n",
    "#sleep(5)\n",
    "I_range = 6e-6\n",
    "appl_current(-I_range)\n",
    "#appl_TG(-30)\n",
    "sleep(2)\n",
    "\n",
    "# station.snapshot(update=True);\n",
    "exp = qc.new_experiment('IV-RF_p', sample_name=f'103-03_J2_27-26-30-31M(32G-33G-28G-29G)_1M_RF@{SGS_frequency*1e-9:.4f}GHz_By@0.1mT')\n",
    "\n",
    "#do1d(param_set, start, stop, num_points, delay, *param_meas)\n",
    "\n",
    "dataid = do2d(SGS.power,10, 15, 51, 0.1, appl_current,-I_range ,I_range, 301, 0.00001, meas_voltage_K2)\n",
    "# dataid = do1d(appl_current, 6e-6 , -6e-6, 251, 0.01, meas_voltage_K1)\n",
    "# ivvi.set_dacs_zero()\n",
    "\n",
    "SGS.off()\n",
    "appl_current(0)\n",
    "K2440.output()\n",
    "plot_by_id(dataid)\n",
    "\n",
    "# print(get_R_from_IV(dataid))\n",
    "print(get_R_from_IV_2(dataid))"
   ]
  },
  {
   "cell_type": "code",
   "execution_count": null,
   "id": "de3fc621",
   "metadata": {},
   "outputs": [],
   "source": [
    "SGS.off()\n",
    "SGS.power(-25)\n",
    "SGS.frequency(5.226e9)\n",
    "SGS.on()\n",
    "DMM6500.averaging_count(5)\n",
    "DMM6500.averaging_enabled(True)\n",
    "K2440.output(1)\n",
    "\n",
    "magnet_y.field(-8e-3)\n",
    "sleep(60)\n",
    "appl_current(-2e-7)\n",
    "#appl_TG(-30)\n",
    "sleep(2)\n",
    "\n",
    "# station.snapshot(update=True);\n",
    "exp = qc.new_experiment('IV vs power dependence', sample_name='IV vs PD_5.226_By:-8mT')\n",
    "\n",
    "#do1d(param_set, start, stop, num_points, delay, *param_meas)\n",
    "\n",
    "dataid = do2d(SGS.power,-25, 10, 101, 20, appl_current,-2e-7 ,2e-7, 101, 0.05, meas_voltage_K2)\n",
    "# dataid = do1d(appl_current, 6e-6 , -6e-6, 251, 0.01, meas_voltage_K1)\n",
    "# ivvi.set_dacs_zero()\n",
    "\n",
    "SGS.off()\n",
    "appl_current(0)\n",
    "K2440.output()\n",
    "plot_by_id(dataid)\n",
    "\n",
    "# print(get_R_from_IV(dataid))\n",
    "print(get_R_from_IV_2(dataid))"
   ]
  },
  {
   "cell_type": "markdown",
   "id": "13e12840",
   "metadata": {},
   "source": [
    "### PD vs frequency_IV loop (not yet)"
   ]
  },
  {
   "cell_type": "code",
   "execution_count": null,
   "id": "8659ae09",
   "metadata": {
    "code_folding": []
   },
   "outputs": [],
   "source": [
    "frequencies = [3.248, 3.387, 5.677]\n",
    "power_levels = [-20, 0, 25]\n",
    "     \n",
    "SGS.off()\n",
    "SGS.power(-20)\n",
    "SGS.frequency(3.387e9)\n",
    "SGS.on()\n",
    "DMM6500.averaging_count(5)\n",
    "DMM6500.averaging_enabled(True)\n",
    "K2440.output(1)\n",
    "\n",
    "appl_current(-2e-6)\n",
    "#appl_TG(-10)\n",
    "sleep(1)\n",
    "\n",
    "for freq in frequencies:\n",
    "    SGS.frequency(freq)\n",
    "    for power_level in power_levels:\n",
    "        SGS.power(power_level)\n",
    "\n",
    "# station.snapshot(update=True);\n",
    "exp = qc.new_experiment('IV vs power dependence', sample_name='IV vs PD_J2_3.387_m20')\n",
    "dataid = do2d(SGS.power, 4, 8, 100, 2, appl_current, -1e-6, 1e-6, 101, 0.05, meas_voltage_K2)\n",
    "\n",
    " # 關閉設備，並在需要時列印或繪製結果\n",
    "SGS.off()\n",
    "appl_current(0)\n",
    "K2440.output()\n",
    "plot_by_id(dataid)\n",
    "    \n",
    "print(f\"頻率：{freq} Hz，功率水平：{power_level} dB\")\n",
    "print(get_R_from_IV_2(dataid))\n"
   ]
  },
  {
   "cell_type": "markdown",
   "id": "5c2101a5",
   "metadata": {},
   "source": [
    "## IV vs Vgate"
   ]
  },
  {
   "cell_type": "code",
   "execution_count": null,
   "id": "48eb3a89",
   "metadata": {},
   "outputs": [],
   "source": [
    "appl_current(0)\n",
    "appl_TG(0)\n",
    "magnet_y.field(0)\n",
    "sleep(10)\n",
    "magnet_x.field(0)\n",
    "sleep(10)\n",
    "appl_voltage_AC(0.004)\n",
    "SGS.off()"
   ]
  },
  {
   "cell_type": "code",
   "execution_count": null,
   "id": "5deaef19",
   "metadata": {},
   "outputs": [],
   "source": [
    "SGS.off()\n",
    "SGS.power(25)\n",
    "SGS.frequency(4.83e9)\n",
    "SGS.on()\n",
    "DMM6500.averaging_count(5)\n",
    "DMM6500.averaging_enabled(True)\n",
    "appl_current(-0.4e-7)\n",
    "appl_current_AC(0.1e-10)\n",
    "\n",
    "appl_TG(-10)\n",
    "sleep(1)\n",
    "\n",
    "# station.snapshot(update=True);\n",
    "exp = qc.new_experiment('IV vs Vgate', sample_name='IV vs Vg')\n",
    "\n",
    "dataid = do2d(appl_TG, -10, 10, 751, 0.5, appl_current, -0.4e-7, 0.4e-7, 101, 0.01, meas_voltage_AC_L1, meas_voltage_AC_L1_P, meas_voltage_K2)\n",
    "# dataid = do1d(appl_current, 6e-6 , -6e-6, 251, 0.01, meas_voltage_K1)\n",
    "# ivvi.set_dacs_zero()\n",
    "SGS.off()\n",
    "appl_current(0)\n",
    "plot_by_id(dataid)\n",
    "# print(get_R_from_IV(dataid))\n",
    "#print(get_R_from_IV_2(dataid))"
   ]
  },
  {
   "cell_type": "code",
   "execution_count": null,
   "id": "6bbd39fb",
   "metadata": {},
   "outputs": [],
   "source": [
    "appl_current(0)\n",
    "appl_TG(0)\n",
    "magnet_y.field(0)\n",
    "sleep(10)\n",
    "magnet_x.field(0)\n",
    "sleep(10)\n",
    "appl_voltage_AC(0.004)\n",
    "SGS.off()"
   ]
  },
  {
   "cell_type": "code",
   "execution_count": null,
   "id": "00d4b770",
   "metadata": {},
   "outputs": [],
   "source": [
    "import matplotlib.pyplot as plt\n",
    "import numpy as np\n",
    "\n",
    "# Constants\n",
    "k = 8.617333262145e-5  # Boltzmann constant in eV/K\n",
    "E_a = 0.5  # Example value for the activation energy in eV\n",
    "p_0 = 1.0  # Example value for p0\n",
    "\n",
    "# Create an array of temperatures from 100 to 1000 K\n",
    "temperatures = np.linspace(100, 1000, 50)\n",
    "\n",
    "# Calculate 1/T\n",
    "inverse_temperatures = 1 / temperatures\n",
    "\n",
    "# Calculate ln(p)\n",
    "ln_p = np.log(p_0) - (E_a / k) * inverse_temperatures\n",
    "\n",
    "# Plotting\n",
    "plt.figure(figsize=(8, 6))\n",
    "plt.plot(inverse_temperatures, ln_p, marker='o', linestyle='-')\n",
    "plt.xlabel('1/T (1/K)')\n",
    "plt.ylabel('ln(p)')\n",
    "plt.title('ln(p) vs 1/T for Hole Concentration')\n",
    "plt.grid(True)\n",
    "plt.show()\n"
   ]
  },
  {
   "cell_type": "code",
   "execution_count": null,
   "id": "f610e7bc",
   "metadata": {},
   "outputs": [],
   "source": []
  }
 ],
 "metadata": {
  "kernelspec": {
   "display_name": "qcodes",
   "language": "python",
   "name": "python3"
  },
  "language_info": {
   "codemirror_mode": {
    "name": "ipython",
    "version": 3
   },
   "file_extension": ".py",
   "mimetype": "text/x-python",
   "name": "python",
   "nbconvert_exporter": "python",
   "pygments_lexer": "ipython3",
   "version": "3.11.3"
  },
  "toc": {
   "base_numbering": 1,
   "nav_menu": {},
   "number_sections": true,
   "sideBar": false,
   "skip_h1_title": false,
   "title_cell": "Table of Contents",
   "title_sidebar": "Contents",
   "toc_cell": false,
   "toc_position": {
    "height": "783px",
    "left": "260px",
    "top": "67.125px",
    "width": "182px"
   },
   "toc_section_display": true,
   "toc_window_display": true
  }
 },
 "nbformat": 4,
 "nbformat_minor": 5
}
