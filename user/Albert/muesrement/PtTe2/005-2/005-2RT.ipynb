{
 "cells": [
  {
   "cell_type": "markdown",
   "id": "256e0f19",
   "metadata": {},
   "source": [
    "# Initialization"
   ]
  },
  {
   "cell_type": "markdown",
   "id": "9d160fe4",
   "metadata": {},
   "source": [
    "## Inport modules"
   ]
  },
  {
   "cell_type": "code",
   "execution_count": 1,
   "id": "ccc72f99",
   "metadata": {},
   "outputs": [],
   "source": [
    "\n",
    "import os, sys\n",
    "def find_qcodes_local_dir():\n",
    "    dirpath = os.getcwd()\n",
    "    while True:\n",
    "        dirpath, folder_name = os.path.split(dirpath)\n",
    "        if folder_name == 'QCoDeS_local':\n",
    "            return os.path.join(dirpath, folder_name)\n",
    "        if not folder_name:  # Reached the root directory\n",
    "            return None\n",
    "qcodes_local_dir = find_qcodes_local_dir()\n",
    "sys.path.append(f'{qcodes_local_dir}')"
   ]
  },
  {
   "cell_type": "code",
   "execution_count": 2,
   "id": "b000c48f",
   "metadata": {},
   "outputs": [
    {
     "name": "stdout",
     "output_type": "stream",
     "text": [
      "Found init_BF1.py at: c:\\Users\\quant\\OneDrive\\Documents\\GitHub\\QCoDeS_local\\fridge_specific\\init_BF1.py\n",
      "Connected to: KEITHLEY INSTRUMENTS DMM6500 (serial:04518052, firmware:1.7.7b) in 0.56s\n"
     ]
    },
    {
     "ename": "NameError",
     "evalue": "name 'station' is not defined",
     "output_type": "error",
     "traceback": [
      "\u001b[1;31m---------------------------------------------------------------------------\u001b[0m",
      "\u001b[1;31mNameError\u001b[0m                                 Traceback (most recent call last)",
      "Cell \u001b[1;32mIn[2], line 23\u001b[0m\n\u001b[0;32m     21\u001b[0m \u001b[38;5;28;01mif\u001b[39;00m os\u001b[38;5;241m.\u001b[39mpath\u001b[38;5;241m.\u001b[39misfile(init_bf1_path):\n\u001b[0;32m     22\u001b[0m     \u001b[38;5;28mprint\u001b[39m(\u001b[38;5;124mf\u001b[39m\u001b[38;5;124m\"\u001b[39m\u001b[38;5;124mFound init_BF1.py at: \u001b[39m\u001b[38;5;132;01m{\u001b[39;00minit_bf1_path\u001b[38;5;132;01m}\u001b[39;00m\u001b[38;5;124m\"\u001b[39m)\n\u001b[1;32m---> 23\u001b[0m     \u001b[43mexec\u001b[49m\u001b[43m(\u001b[49m\u001b[38;5;28;43mopen\u001b[39;49m\u001b[43m(\u001b[49m\u001b[38;5;124;43mf\u001b[39;49m\u001b[38;5;124;43m'\u001b[39;49m\u001b[38;5;132;43;01m{\u001b[39;49;00m\u001b[43minit_bf1_path\u001b[49m\u001b[38;5;132;43;01m}\u001b[39;49;00m\u001b[38;5;124;43m'\u001b[39;49m\u001b[43m)\u001b[49m\u001b[38;5;241;43m.\u001b[39;49m\u001b[43mread\u001b[49m\u001b[43m(\u001b[49m\u001b[43m)\u001b[49m\u001b[43m)\u001b[49m  \n\u001b[0;32m     24\u001b[0m \u001b[38;5;28;01melse\u001b[39;00m:\n\u001b[0;32m     25\u001b[0m     \u001b[38;5;28mprint\u001b[39m(\u001b[38;5;124m\"\u001b[39m\u001b[38;5;124minit_BF1.py not found in fridge_specific folder.\u001b[39m\u001b[38;5;124m\"\u001b[39m)\n",
      "File \u001b[1;32m<string>:18\u001b[0m\n",
      "\u001b[1;31mNameError\u001b[0m: name 'station' is not defined"
     ]
    }
   ],
   "source": [
    "import os, sys\n",
    "\n",
    "def find_qcodes_local_dir():\n",
    "    dirpath = os.getcwd()\n",
    "    while True:\n",
    "        dirpath, folder_name = os.path.split(dirpath)\n",
    "        if folder_name == 'QCoDeS_local':\n",
    "            return os.path.join(dirpath, folder_name)\n",
    "        if not folder_name:  # Reached the root directory\n",
    "            return None\n",
    "\n",
    "qcodes_local_dir = find_qcodes_local_dir()\n",
    "if qcodes_local_dir:\n",
    "    sys.path.append(qcodes_local_dir)\n",
    "    drivers_path = os.path.join(qcodes_local_dir, 'drivers')\n",
    "    sys.path.append(drivers_path)\n",
    "    fridge_specific_path = os.path.join(qcodes_local_dir, 'fridge_specific')\n",
    "    sys.path.append(fridge_specific_path)\n",
    "    # 檢查 init_BF1.py 是否存在於 fridge_specific 資料夾中\n",
    "    init_bf1_path = os.path.join(fridge_specific_path, 'init_BF1.py')\n",
    "    if os.path.isfile(init_bf1_path):\n",
    "        print(f\"Found init_BF1.py at: {init_bf1_path}\")\n",
    "        exec(open(f'{init_bf1_path}').read())  \n",
    "    else:\n",
    "        print(\"init_BF1.py not found in fridge_specific folder.\")\n",
    "\n",
    "# print(sys.path)"
   ]
  },
  {
   "cell_type": "code",
   "execution_count": null,
   "id": "8473e9a5",
   "metadata": {},
   "outputs": [],
   "source": [
    "exec(open('init_station_BF1.py').read())"
   ]
  },
  {
   "cell_type": "code",
   "execution_count": null,
   "id": "e28fee61",
   "metadata": {},
   "outputs": [],
   "source": [
    "import os\n",
    "\n",
    "# 獲取當前路徑\n",
    "dirpath = os.getcwd()\n",
    "\n",
    "# 獲取父資料夾路徑\n",
    "parent_dirpath = os.path.dirname(dirpath)\n",
    "\n",
    "# 獲取父父資料夾路徑\n",
    "grandparent_dirpath = os.path.dirname(parent_dirpath)\n",
    "\n",
    "print(\"當前路徑:\", dirpath)\n",
    "print(\"父資料夾路徑:\", parent_dirpath)\n",
    "print(\"父父資料夾路徑:\", grandparent_dirpath)"
   ]
  },
  {
   "cell_type": "code",
   "execution_count": null,
   "id": "64004fe7",
   "metadata": {},
   "outputs": [],
   "source": [
    "import os\n",
    "\n",
    "def find_init_py():\n",
    "    dirpath = os.getcwd()\n",
    "    while True:\n",
    "        init_py_path = os.path.join(dirpath, 'init.py')\n",
    "        if os.path.isfile(init_py_path):\n",
    "            return init_py_path\n",
    "        new_dirpath, _ = os.path.split(dirpath)\n",
    "        if new_dirpath == dirpath:  # Reached the root directory\n",
    "            return None\n",
    "        dirpath = new_dirpath\n",
    "\n",
    "init_py_path = find_init_py()\n",
    "%run '{init_py_path}'"
   ]
  },
  {
   "cell_type": "code",
   "execution_count": 1,
   "id": "88979d6d",
   "metadata": {},
   "outputs": [
    {
     "name": "stdout",
     "output_type": "stream",
     "text": [
      "Imported all modules, QCoDeS version: 0.39.0 initialized\n"
     ]
    }
   ],
   "source": [
    "%matplotlib ipympl\n",
    "import os, sys\n",
    "import time\n",
    "import pyvisa\n",
    "import warnings\n",
    "import numpy as np\n",
    "import qcodes as qc\n",
    "import plotly.graph_objects as go\n",
    "import matplotlib.pyplot as plt\n",
    "\n",
    "def find_qcodes_local_dir():\n",
    "    dirpath = os.getcwd()\n",
    "    while True:\n",
    "        dirpath, folder_name = os.path.split(dirpath)\n",
    "        if folder_name == 'QCoDeS_local':\n",
    "            return os.path.join(dirpath, folder_name)\n",
    "        if not folder_name:  # Reached the root directory\n",
    "            return None\n",
    "qcodes_local_dir = find_qcodes_local_dir()\n",
    "sys.path.append(f'{qcodes_local_dir}')\n",
    "\n",
    "from tqdm import tqdm\n",
    "from pprint import pprint\n",
    "from time import sleep, monotonic, time\n",
    "from IPython.display import clear_output\n",
    "from qcodes.dataset.measurements import Measurement\n",
    "from qcodes.utils.metadata import diff_param_values\n",
    "from qcodes.dataset.plotting import plot_dataset, plot_by_id\n",
    "from qcodes import Parameter, ManualParameter, ScaledParameter\n",
    "from qcodes.instrument.specialized_parameters import ElapsedTimeParameter\n",
    "from sweeps_v2 import do1d, do2d, time_sweep, measure_until, do1d_until\n",
    "\n",
    "print('Imported all modules, QCoDeS version:', qc.__version__, 'initialized')\n",
    "\n",
    "# warnings.filterwarnings('ignore')"
   ]
  },
  {
   "cell_type": "code",
   "execution_count": 2,
   "id": "399e7806",
   "metadata": {},
   "outputs": [],
   "source": [
    "def find_qcodes_local_dir():\n",
    "    dirpath = os.getcwd()\n",
    "    while True:\n",
    "        dirpath, folder_name = os.path.split(dirpath)\n",
    "        if folder_name == 'QCoDeS_local':\n",
    "            return os.path.join(dirpath, folder_name)\n",
    "        if not folder_name:  # Reached the root directory\n",
    "            return None\n",
    "qcodes_local_dir = find_qcodes_local_dir()"
   ]
  },
  {
   "cell_type": "code",
   "execution_count": 3,
   "id": "fff9a7bd",
   "metadata": {},
   "outputs": [
    {
     "data": {
      "text/plain": [
       "'c:\\\\Users\\\\quant\\\\OneDrive\\\\Documents\\\\GitHub\\\\QCoDeS_local'"
      ]
     },
     "execution_count": 3,
     "metadata": {},
     "output_type": "execute_result"
    }
   ],
   "source": [
    "qcodes_local_dir"
   ]
  },
  {
   "cell_type": "code",
   "execution_count": 4,
   "id": "64ad1e6c",
   "metadata": {},
   "outputs": [
    {
     "data": {
      "text/plain": [
       "'c:\\\\Users\\\\quant\\\\OneDrive\\\\Documents\\\\GitHub\\\\QCoDeS_local\\\\init_fridge.py'"
      ]
     },
     "execution_count": 4,
     "metadata": {},
     "output_type": "execute_result"
    }
   ],
   "source": [
    "def find_init_fridge_py():\n",
    "    for root, dirs, files in os.walk(qcodes_local_dir):\n",
    "        if 'init_fridge.py' in files:\n",
    "            return os.path.join(root, 'init_fridge.py')\n",
    "    return None\n",
    "\n",
    "init_fridge_py_path = find_init_fridge_py()\n",
    "init_fridge_py_path"
   ]
  },
  {
   "cell_type": "code",
   "execution_count": 5,
   "id": "cc4a1c10",
   "metadata": {},
   "outputs": [
    {
     "data": {
      "text/plain": [
       "'c:\\\\Users\\\\quant\\\\OneDrive\\\\Documents\\\\GitHub\\\\QCoDeS_local\\\\init_fridge_v2.py'"
      ]
     },
     "execution_count": 5,
     "metadata": {},
     "output_type": "execute_result"
    }
   ],
   "source": [
    "def find_init_fridge_v2_py():\n",
    "    for root, dirs, files in os.walk(qcodes_local_dir):\n",
    "        if 'init_fridge_v2.py' in files:\n",
    "            return os.path.join(root, 'init_fridge_v2.py')\n",
    "    return None\n",
    "\n",
    "init_fridge_v2_py_path = find_init_fridge_v2_py()\n",
    "init_fridge_v2_py_path"
   ]
  },
  {
   "cell_type": "code",
   "execution_count": 8,
   "id": "c09fa82c",
   "metadata": {},
   "outputs": [
    {
     "name": "stdout",
     "output_type": "stream",
     "text": [
      "Connected to: KEITHLEY INSTRUMENTS DMM6500 (serial:04518052, firmware:1.7.7b) in 0.03s\n"
     ]
    },
    {
     "ename": "KeyError",
     "evalue": "'Another instrument has the name: keithley_1'",
     "output_type": "error",
     "traceback": [
      "\u001b[1;31m---------------------------------------------------------------------------\u001b[0m",
      "\u001b[1;31mKeyError\u001b[0m                                  Traceback (most recent call last)",
      "File \u001b[1;32m~\\OneDrive\\Documents\\GitHub\\QCoDeS_local\\init_fridge.py:33\u001b[0m\n\u001b[0;32m     29\u001b[0m     exec(\u001b[38;5;28mopen\u001b[39m(\u001b[38;5;124m'\u001b[39m\u001b[38;5;124m../../../../../code/fridge_specific/init_CF1400.py\u001b[39m\u001b[38;5;124m'\u001b[39m)\u001b[38;5;241m.\u001b[39mread())\n\u001b[0;32m     30\u001b[0m \u001b[38;5;28;01melif\u001b[39;00m fridge_name \u001b[38;5;241m==\u001b[39m \u001b[38;5;124m'\u001b[39m\u001b[38;5;124mBF1\u001b[39m\u001b[38;5;124m'\u001b[39m:\n\u001b[0;32m     31\u001b[0m \u001b[38;5;66;03m#     exec(open('../fridge_specific/init_BF1.py').read())\u001b[39;00m\n\u001b[1;32m---> 33\u001b[0m     \u001b[43mexec\u001b[49m\u001b[43m(\u001b[49m\u001b[38;5;28;43mopen\u001b[39;49m\u001b[43m(\u001b[49m\u001b[38;5;124;43m'\u001b[39;49m\u001b[38;5;124;43mC:\u001b[39;49m\u001b[38;5;130;43;01m\\\\\u001b[39;49;00m\u001b[38;5;124;43mqcodes\u001b[39;49m\u001b[38;5;130;43;01m\\\\\u001b[39;49;00m\u001b[38;5;124;43mfridge_specific\u001b[39;49m\u001b[38;5;130;43;01m\\\\\u001b[39;49;00m\u001b[38;5;124;43minit_BF1.py\u001b[39;49m\u001b[38;5;124;43m'\u001b[39;49m\u001b[43m)\u001b[49m\u001b[38;5;241;43m.\u001b[39;49m\u001b[43mread\u001b[49m\u001b[43m(\u001b[49m\u001b[43m)\u001b[49m\u001b[43m)\u001b[49m  \n\u001b[0;32m     35\u001b[0m \u001b[38;5;28;01melse\u001b[39;00m:\n\u001b[0;32m     36\u001b[0m     \u001b[38;5;28mprint\u001b[39m(\u001b[38;5;124m'\u001b[39m\u001b[38;5;124mWrong fridge name!\u001b[39m\u001b[38;5;124m'\u001b[39m)\n",
      "File \u001b[1;32m<string>:14\u001b[0m\n",
      "File \u001b[1;32mc:\\Users\\quant\\anaconda3\\envs\\qcodes\\Lib\\site-packages\\qcodes\\instrument\\instrument_meta.py:45\u001b[0m, in \u001b[0;36mInstrumentMeta.__call__\u001b[1;34m(cls, *args, **kwargs)\u001b[0m\n\u001b[0;32m     39\u001b[0m     new_inst\u001b[38;5;241m.\u001b[39mclose()\n\u001b[0;32m     40\u001b[0m     \u001b[38;5;28;01mraise\u001b[39;00m \u001b[38;5;167;01mNotImplementedError\u001b[39;00m(\n\u001b[0;32m     41\u001b[0m         \u001b[38;5;124mf\u001b[39m\u001b[38;5;124m\"\u001b[39m\u001b[38;5;132;01m{\u001b[39;00mnew_inst\u001b[38;5;132;01m}\u001b[39;00m\u001b[38;5;124m has un-implemented Abstract Parameter \u001b[39m\u001b[38;5;124m\"\u001b[39m\n\u001b[0;32m     42\u001b[0m         \u001b[38;5;124mf\u001b[39m\u001b[38;5;124m\"\u001b[39m\u001b[38;5;124mand cannot be initialized\u001b[39m\u001b[38;5;124m\"\u001b[39m\n\u001b[0;32m     43\u001b[0m     )\n\u001b[1;32m---> 45\u001b[0m \u001b[43mnew_inst\u001b[49m\u001b[38;5;241;43m.\u001b[39;49m\u001b[43mrecord_instance\u001b[49m\u001b[43m(\u001b[49m\u001b[43mnew_inst\u001b[49m\u001b[43m)\u001b[49m\n\u001b[0;32m     46\u001b[0m \u001b[38;5;28;01mreturn\u001b[39;00m new_inst\n",
      "File \u001b[1;32mc:\\Users\\quant\\anaconda3\\envs\\qcodes\\Lib\\site-packages\\qcodes\\instrument\\instrument.py:216\u001b[0m, in \u001b[0;36mInstrument.record_instance\u001b[1;34m(cls, instance)\u001b[0m\n\u001b[0;32m    214\u001b[0m existing_instr \u001b[38;5;241m=\u001b[39m \u001b[38;5;28mcls\u001b[39m\u001b[38;5;241m.\u001b[39m_all_instruments\u001b[38;5;241m.\u001b[39mget(name)\n\u001b[0;32m    215\u001b[0m \u001b[38;5;28;01mif\u001b[39;00m existing_instr:\n\u001b[1;32m--> 216\u001b[0m     \u001b[38;5;28;01mraise\u001b[39;00m \u001b[38;5;167;01mKeyError\u001b[39;00m(\u001b[38;5;124mf\u001b[39m\u001b[38;5;124m\"\u001b[39m\u001b[38;5;124mAnother instrument has the name: \u001b[39m\u001b[38;5;132;01m{\u001b[39;00mname\u001b[38;5;132;01m}\u001b[39;00m\u001b[38;5;124m\"\u001b[39m)\n\u001b[0;32m    218\u001b[0m \u001b[38;5;28mcls\u001b[39m\u001b[38;5;241m.\u001b[39m_all_instruments[name] \u001b[38;5;241m=\u001b[39m instance\n\u001b[0;32m    220\u001b[0m \u001b[38;5;66;03m# Then add it to the record for this specific subclass, using ``_type``\u001b[39;00m\n\u001b[0;32m    221\u001b[0m \u001b[38;5;66;03m# to make sure we're not recording it in a base class instance list\u001b[39;00m\n",
      "\u001b[1;31mKeyError\u001b[0m: 'Another instrument has the name: keithley_1'"
     ]
    }
   ],
   "source": [
    "fridge_name = 'BF1'\n",
    "%run \"{init_fridge_py_path}\" {fridge_name}"
   ]
  },
  {
   "cell_type": "code",
   "execution_count": 6,
   "id": "bb19a743",
   "metadata": {},
   "outputs": [
    {
     "name": "stdout",
     "output_type": "stream",
     "text": [
      "Found init_BF1_v2.py at: c:\\Users\\quant\\OneDrive\\Documents\\GitHub\\QCoDeS_local\\fridge_specific\\init_BF1_v2.py\n",
      "Error connecting to TCPIP0::192.168.1.42::inst0::INSTR: VI_ERROR_RSRC_NFOUND (-1073807343): Insufficient location information or the requested device or resource is not present in the system.\n",
      "Error connecting to TCPIP0::192.168.1.42::inst1::INSTR: VI_ERROR_RSRC_NFOUND (-1073807343): Insufficient location information or the requested device or resource is not present in the system.\n",
      "Error connecting to TCPIP0::192.168.1.6::inst0::INSTR: VI_ERROR_RSRC_NFOUND (-1073807343): Insufficient location information or the requested device or resource is not present in the system.\n",
      "Error connecting to TCPIP0::192.168.1.7::inst0::INSTR: VI_ERROR_RSRC_NFOUND (-1073807343): Insufficient location information or the requested device or resource is not present in the system.\n",
      "Error connecting to TCPIP0::ZNB20-64-101393::inst0::INSTR: VI_ERROR_RSRC_NFOUND (-1073807343): Insufficient location information or the requested device or resource is not present in the system.\n",
      "Error connecting to ASRL1::INSTR: VI_ERROR_TMO (-1073807339): Timeout expired before operation completed.\n",
      "Error connecting to ASRL2::INSTR: VI_ERROR_TMO (-1073807339): Timeout expired before operation completed.\n",
      "Error connecting to ASRL10::INSTR: VI_ERROR_TMO (-1073807339): Timeout expired before operation completed.\n",
      "Device: GPIB0::6::INSTR\n",
      "IDN: KEITHLEY INSTRUMENTS,MODEL DMM6500,04518052,1.7.7b\n",
      "\n",
      "Connected to: KEITHLEY INSTRUMENTS DMM6500 (serial:04518052, firmware:1.7.7b) in 0.02s\n",
      "Added Keithley DMM6500 at GPIB0::6::INSTR to the station.\n",
      "Device: GPIB0::22::INSTR\n",
      "IDN: KEITHLEY INSTRUMENTS INC.,MODEL 2440,1225508,C30   Mar 17 2006 09:29:29/A02  /B/A\n",
      "\n",
      "Connected to: KEITHLEY INSTRUMENTS INC. 2440 (serial:1225508, firmware:C30   Mar 17 2006 09:29:29/A02  /B/A) in 0.03s\n"
     ]
    },
    {
     "name": "stderr",
     "output_type": "stream",
     "text": [
      "[K2440(Keithley2400)] Snapshot: Could not update parameter: volt\n",
      "[K2440(Keithley2400)] Snapshot: Could not update parameter: curr\n",
      "[K2440(Keithley2400)] Snapshot: Could not update parameter: resistance\n"
     ]
    },
    {
     "name": "stdout",
     "output_type": "stream",
     "text": [
      "Failed to ping 169.254.115.3: [WinError 10049] The requested address is not valid in its context\n",
      "Failed to ping 169.254.115.2: [WinError 10049] The requested address is not valid in its context\n",
      "Failed to ping 169.254.115.1: [WinError 10049] The requested address is not valid in its context\n",
      "One or more pings failed, cannot establish connection to all magnets.\n",
      "\n",
      "Station list:\n",
      "{'DMM6500': <Keithley_6500: DMM6500>, 'K2440': <Keithley2400: K2440>}\n"
     ]
    }
   ],
   "source": [
    "fridge_name = 'BF1'\n",
    "%run \"{init_fridge_v2_py_path}\" {fridge_name}"
   ]
  },
  {
   "cell_type": "code",
   "execution_count": 7,
   "id": "c9e134aa",
   "metadata": {},
   "outputs": [
    {
     "name": "stdout",
     "output_type": "stream",
     "text": [
      "{'components': {},\n",
      " 'config': None,\n",
      " 'instruments': {'DMM6500': {'__class__': 'qcodes.instrument_drivers.tektronix.Keithley_6500.Keithley_6500',\n",
      "                             'address': 'GPIB0::6::INSTR',\n",
      "                             'functions': {},\n",
      "                             'label': 'DMM6500',\n",
      "                             'name': 'DMM6500',\n",
      "                             'parameters': {'IDN': {'__class__': 'qcodes.parameters.parameter.Parameter',\n",
      "                                                    'full_name': 'DMM6500_IDN',\n",
      "                                                    'instrument': 'qcodes.instrument_drivers.tektronix.Keithley_6500.Keithley_6500',\n",
      "                                                    'instrument_name': 'DMM6500',\n",
      "                                                    'inter_delay': 0,\n",
      "                                                    'label': 'IDN',\n",
      "                                                    'name': 'IDN',\n",
      "                                                    'post_delay': 0,\n",
      "                                                    'raw_value': {'firmware': '1.7.7b',\n",
      "                                                                  'model': 'DMM6500',\n",
      "                                                                  'serial': '04518052',\n",
      "                                                                  'vendor': 'KEITHLEY '\n",
      "                                                                            'INSTRUMENTS'},\n",
      "                                                    'ts': '2024-11-26 14:18:28',\n",
      "                                                    'unit': '',\n",
      "                                                    'vals': '<Anything>',\n",
      "                                                    'value': {'firmware': '1.7.7b',\n",
      "                                                              'model': 'DMM6500',\n",
      "                                                              'serial': '04518052',\n",
      "                                                              'vendor': 'KEITHLEY '\n",
      "                                                                        'INSTRUMENTS'}},\n",
      "                                            'amplitude': {'__class__': 'qcodes.parameters.parameter.Parameter',\n",
      "                                                          'full_name': 'DMM6500_amplitude',\n",
      "                                                          'instrument': 'qcodes.instrument_drivers.tektronix.Keithley_6500.Keithley_6500',\n",
      "                                                          'instrument_name': 'DMM6500',\n",
      "                                                          'inter_delay': 0,\n",
      "                                                          'label': 'amplitude',\n",
      "                                                          'name': 'amplitude',\n",
      "                                                          'post_delay': 0,\n",
      "                                                          'raw_value': -9.483877e-05,\n",
      "                                                          'ts': '2024-11-26 '\n",
      "                                                                '14:18:28',\n",
      "                                                          'unit': 'a.u.',\n",
      "                                                          'value': -9.483877e-05},\n",
      "                                            'auto_range_enabled': {'__class__': 'qcodes.parameters.parameter.Parameter',\n",
      "                                                                   'full_name': 'DMM6500_auto_range_enabled',\n",
      "                                                                   'instrument': 'qcodes.instrument_drivers.tektronix.Keithley_6500.Keithley_6500',\n",
      "                                                                   'instrument_name': 'DMM6500',\n",
      "                                                                   'inter_delay': 0,\n",
      "                                                                   'label': 'auto_range_enabled',\n",
      "                                                                   'name': 'auto_range_enabled',\n",
      "                                                                   'post_delay': 0,\n",
      "                                                                   'raw_value': True,\n",
      "                                                                   'ts': '2024-11-26 '\n",
      "                                                                         '14:18:28',\n",
      "                                                                   'unit': '',\n",
      "                                                                   'vals': '<Boolean>',\n",
      "                                                                   'value': True},\n",
      "                                            'averaging_count': {'__class__': 'qcodes.parameters.parameter.Parameter',\n",
      "                                                                'full_name': 'DMM6500_averaging_count',\n",
      "                                                                'instrument': 'qcodes.instrument_drivers.tektronix.Keithley_6500.Keithley_6500',\n",
      "                                                                'instrument_name': 'DMM6500',\n",
      "                                                                'inter_delay': 0,\n",
      "                                                                'label': 'averaging_count',\n",
      "                                                                'name': 'averaging_count',\n",
      "                                                                'post_delay': 0,\n",
      "                                                                'raw_value': 10,\n",
      "                                                                'ts': '2024-11-26 '\n",
      "                                                                      '14:18:28',\n",
      "                                                                'unit': '',\n",
      "                                                                'vals': '<Ints '\n",
      "                                                                        '1<=v<=100>',\n",
      "                                                                'value': 10},\n",
      "                                            'averaging_enabled': {'__class__': 'qcodes.parameters.parameter.Parameter',\n",
      "                                                                  'full_name': 'DMM6500_averaging_enabled',\n",
      "                                                                  'instrument': 'qcodes.instrument_drivers.tektronix.Keithley_6500.Keithley_6500',\n",
      "                                                                  'instrument_name': 'DMM6500',\n",
      "                                                                  'inter_delay': 0,\n",
      "                                                                  'label': 'averaging_enabled',\n",
      "                                                                  'name': 'averaging_enabled',\n",
      "                                                                  'post_delay': 0,\n",
      "                                                                  'raw_value': True,\n",
      "                                                                  'ts': '2024-11-26 '\n",
      "                                                                        '14:18:28',\n",
      "                                                                  'unit': '',\n",
      "                                                                  'vals': '<Boolean>',\n",
      "                                                                  'value': True},\n",
      "                                            'averaging_type': {'__class__': 'qcodes.parameters.parameter.Parameter',\n",
      "                                                               'full_name': 'DMM6500_averaging_type',\n",
      "                                                               'instrument': 'qcodes.instrument_drivers.tektronix.Keithley_6500.Keithley_6500',\n",
      "                                                               'instrument_name': 'DMM6500',\n",
      "                                                               'inter_delay': 0,\n",
      "                                                               'label': 'averaging_type',\n",
      "                                                               'name': 'averaging_type',\n",
      "                                                               'post_delay': 0,\n",
      "                                                               'raw_value': 'repeat',\n",
      "                                                               'ts': '2024-11-26 '\n",
      "                                                                     '14:18:28',\n",
      "                                                               'unit': '',\n",
      "                                                               'vals': '<Enum: '\n",
      "                                                                       \"{'moving', \"\n",
      "                                                                       \"'repeat'}>\",\n",
      "                                                               'value': 'repeat'},\n",
      "                                            'digits': {'__class__': 'qcodes.parameters.parameter.Parameter',\n",
      "                                                       'full_name': 'DMM6500_digits',\n",
      "                                                       'instrument': 'qcodes.instrument_drivers.tektronix.Keithley_6500.Keithley_6500',\n",
      "                                                       'instrument_name': 'DMM6500',\n",
      "                                                       'inter_delay': 0,\n",
      "                                                       'label': 'digits',\n",
      "                                                       'name': 'digits',\n",
      "                                                       'post_delay': 0,\n",
      "                                                       'raw_value': '6',\n",
      "                                                       'ts': '2024-11-26 '\n",
      "                                                             '14:18:28',\n",
      "                                                       'unit': '',\n",
      "                                                       'vals': '<Ints 4<=v<=7>',\n",
      "                                                       'value': 6},\n",
      "                                            'display_backlight': {'__class__': 'qcodes.parameters.parameter.Parameter',\n",
      "                                                                  'full_name': 'DMM6500_display_backlight',\n",
      "                                                                  'instrument': 'qcodes.instrument_drivers.tektronix.Keithley_6500.Keithley_6500',\n",
      "                                                                  'instrument_name': 'DMM6500',\n",
      "                                                                  'inter_delay': 0,\n",
      "                                                                  'label': 'display_backlight',\n",
      "                                                                  'name': 'display_backlight',\n",
      "                                                                  'post_delay': 0,\n",
      "                                                                  'raw_value': 'ON50',\n",
      "                                                                  'ts': '2024-11-26 '\n",
      "                                                                        '14:18:28',\n",
      "                                                                  'unit': '',\n",
      "                                                                  'val_mapping': {'Blackout': 'BLACkout',\n",
      "                                                                                  'Off': 'OFF',\n",
      "                                                                                  'On 100': 'ON100',\n",
      "                                                                                  'On 25': 'ON25',\n",
      "                                                                                  'On 50': 'ON50',\n",
      "                                                                                  'On 75': 'ON75'},\n",
      "                                                                  'vals': '<Enum: '\n",
      "                                                                          \"{'Blackout', \"\n",
      "                                                                          \"'On \"\n",
      "                                                                          \"50', \"\n",
      "                                                                          \"'On \"\n",
      "                                                                          \"25', \"\n",
      "                                                                          \"'Off', \"\n",
      "                                                                          \"'On \"\n",
      "                                                                          \"75', \"\n",
      "                                                                          \"'On \"\n",
      "                                                                          \"100'}>\",\n",
      "                                                                  'value': 'On '\n",
      "                                                                           '50'},\n",
      "                                            'mode': {'__class__': 'qcodes.parameters.parameter.Parameter',\n",
      "                                                     'full_name': 'DMM6500_mode',\n",
      "                                                     'instrument': 'qcodes.instrument_drivers.tektronix.Keithley_6500.Keithley_6500',\n",
      "                                                     'instrument_name': 'DMM6500',\n",
      "                                                     'inter_delay': 0,\n",
      "                                                     'label': 'mode',\n",
      "                                                     'name': 'mode',\n",
      "                                                     'post_delay': 0,\n",
      "                                                     'raw_value': 'VOLT:DC',\n",
      "                                                     'ts': '2024-11-26 '\n",
      "                                                           '14:18:28',\n",
      "                                                     'unit': '',\n",
      "                                                     'val_mapping': {'2w resistance': 'RES',\n",
      "                                                                     '4w resistance': 'FRES',\n",
      "                                                                     'ac current': 'CURR:AC',\n",
      "                                                                     'ac voltage': 'VOLT:AC',\n",
      "                                                                     'dc current': 'CURR:DC',\n",
      "                                                                     'dc voltage': 'VOLT:DC',\n",
      "                                                                     'frequency': 'FREQ',\n",
      "                                                                     'temperature': 'TEMP'},\n",
      "                                                     'vals': \"<Enum: {'4w \"\n",
      "                                                             \"resistance', '2w \"\n",
      "                                                             \"resistance', 'dc \"\n",
      "                                                             \"voltage', 'ac \"\n",
      "                                                             \"voltage', 'ac \"\n",
      "                                                             \"current', \"\n",
      "                                                             \"'temperature', \"\n",
      "                                                             \"'frequency', 'dc \"\n",
      "                                                             \"current'}>\",\n",
      "                                                     'value': 'dc voltage'},\n",
      "                                            'nplc': {'__class__': 'qcodes.parameters.parameter.Parameter',\n",
      "                                                     'full_name': 'DMM6500_nplc',\n",
      "                                                     'instrument': 'qcodes.instrument_drivers.tektronix.Keithley_6500.Keithley_6500',\n",
      "                                                     'instrument_name': 'DMM6500',\n",
      "                                                     'inter_delay': 0,\n",
      "                                                     'label': 'nplc',\n",
      "                                                     'name': 'nplc',\n",
      "                                                     'post_delay': 0,\n",
      "                                                     'raw_value': 1.0,\n",
      "                                                     'ts': '2024-11-26 '\n",
      "                                                           '14:18:28',\n",
      "                                                     'unit': '',\n",
      "                                                     'vals': '<Numbers '\n",
      "                                                             '0.01<=v<=10>',\n",
      "                                                     'value': 1.0},\n",
      "                                            'range': {'__class__': 'qcodes.parameters.parameter.Parameter',\n",
      "                                                      'full_name': 'DMM6500_range',\n",
      "                                                      'instrument': 'qcodes.instrument_drivers.tektronix.Keithley_6500.Keithley_6500',\n",
      "                                                      'instrument_name': 'DMM6500',\n",
      "                                                      'inter_delay': 0,\n",
      "                                                      'label': 'range',\n",
      "                                                      'name': 'range',\n",
      "                                                      'post_delay': 0,\n",
      "                                                      'raw_value': 0.1,\n",
      "                                                      'ts': '2024-11-26 '\n",
      "                                                            '14:18:28',\n",
      "                                                      'unit': '',\n",
      "                                                      'vals': '<Numbers>',\n",
      "                                                      'value': 0.1},\n",
      "                                            'timeout': {'__class__': 'qcodes.parameters.parameter.Parameter',\n",
      "                                                        'full_name': 'DMM6500_timeout',\n",
      "                                                        'instrument': 'qcodes.instrument_drivers.tektronix.Keithley_6500.Keithley_6500',\n",
      "                                                        'instrument_name': 'DMM6500',\n",
      "                                                        'inter_delay': 0,\n",
      "                                                        'label': 'timeout',\n",
      "                                                        'name': 'timeout',\n",
      "                                                        'post_delay': 0,\n",
      "                                                        'raw_value': 10.0,\n",
      "                                                        'ts': '2024-11-26 '\n",
      "                                                              '14:18:28',\n",
      "                                                        'unit': 's',\n",
      "                                                        'vals': '<MultiType: '\n",
      "                                                                'Numbers v>=0, '\n",
      "                                                                'Enum: {None}>',\n",
      "                                                        'value': 10.0},\n",
      "                                            'trigger1_delay': {'__class__': 'qcodes.parameters.parameter.Parameter',\n",
      "                                                               'full_name': 'DMM6500_trigger1_delay',\n",
      "                                                               'instrument': 'qcodes.instrument_drivers.tektronix.Keithley_6500.Keithley_6500',\n",
      "                                                               'instrument_name': 'DMM6500',\n",
      "                                                               'inter_delay': 0,\n",
      "                                                               'label': 'trigger1_delay',\n",
      "                                                               'name': 'trigger1_delay',\n",
      "                                                               'post_delay': 0,\n",
      "                                                               'raw_value': '1E-05',\n",
      "                                                               'ts': '2024-11-26 '\n",
      "                                                                     '14:18:28',\n",
      "                                                               'unit': 's',\n",
      "                                                               'vals': '<Numbers '\n",
      "                                                                       '0<=v<=999999.999>',\n",
      "                                                               'value': 1e-05},\n",
      "                                            'trigger1_source': {'__class__': 'qcodes.parameters.parameter.Parameter',\n",
      "                                                                'full_name': 'DMM6500_trigger1_source',\n",
      "                                                                'instrument': 'qcodes.instrument_drivers.tektronix.Keithley_6500.Keithley_6500',\n",
      "                                                                'instrument_name': 'DMM6500',\n",
      "                                                                'inter_delay': 0,\n",
      "                                                                'label': 'trigger1_source',\n",
      "                                                                'name': 'trigger1_source',\n",
      "                                                                'post_delay': 0,\n",
      "                                                                'raw_value': 'NONE',\n",
      "                                                                'ts': '2024-11-26 '\n",
      "                                                                      '14:18:28',\n",
      "                                                                'unit': '',\n",
      "                                                                'val_mapping': {'bus': 'COMM',\n",
      "                                                                                'external': 'EXT',\n",
      "                                                                                'front-panel': 'DISP',\n",
      "                                                                                'immediate': 'NONE',\n",
      "                                                                                'notify1': 'NOT1',\n",
      "                                                                                'notify2': 'NOT2',\n",
      "                                                                                'notify3': 'NOT3',\n",
      "                                                                                'timer1': 'TIM1',\n",
      "                                                                                'timer2': 'TIM2',\n",
      "                                                                                'timer3': 'TIM3',\n",
      "                                                                                'timer4': 'TIM4'},\n",
      "                                                                'vals': '<Enum: '\n",
      "                                                                        \"{'notify2', \"\n",
      "                                                                        \"'bus', \"\n",
      "                                                                        \"'notify1', \"\n",
      "                                                                        \"'notify3', \"\n",
      "                                                                        \"'immediate', \"\n",
      "                                                                        \"'front-panel', \"\n",
      "                                                                        \"'external', \"\n",
      "                                                                        \"'timer3', \"\n",
      "                                                                        \"'timer4', \"\n",
      "                                                                        \"'timer2', \"\n",
      "                                                                        \"'timer1'}>\",\n",
      "                                                                'value': 'immediate'},\n",
      "                                            'trigger2_delay': {'__class__': 'qcodes.parameters.parameter.Parameter',\n",
      "                                                               'full_name': 'DMM6500_trigger2_delay',\n",
      "                                                               'instrument': 'qcodes.instrument_drivers.tektronix.Keithley_6500.Keithley_6500',\n",
      "                                                               'instrument_name': 'DMM6500',\n",
      "                                                               'inter_delay': 0,\n",
      "                                                               'label': 'trigger2_delay',\n",
      "                                                               'name': 'trigger2_delay',\n",
      "                                                               'post_delay': 0,\n",
      "                                                               'raw_value': '1E-05',\n",
      "                                                               'ts': '2024-11-26 '\n",
      "                                                                     '14:18:28',\n",
      "                                                               'unit': 's',\n",
      "                                                               'vals': '<Numbers '\n",
      "                                                                       '0<=v<=999999.999>',\n",
      "                                                               'value': 1e-05},\n",
      "                                            'trigger2_source': {'__class__': 'qcodes.parameters.parameter.Parameter',\n",
      "                                                                'full_name': 'DMM6500_trigger2_source',\n",
      "                                                                'instrument': 'qcodes.instrument_drivers.tektronix.Keithley_6500.Keithley_6500',\n",
      "                                                                'instrument_name': 'DMM6500',\n",
      "                                                                'inter_delay': 0,\n",
      "                                                                'label': 'trigger2_source',\n",
      "                                                                'name': 'trigger2_source',\n",
      "                                                                'post_delay': 0,\n",
      "                                                                'raw_value': 'NONE',\n",
      "                                                                'ts': '2024-11-26 '\n",
      "                                                                      '14:18:28',\n",
      "                                                                'unit': '',\n",
      "                                                                'val_mapping': {'bus': 'COMM',\n",
      "                                                                                'external': 'EXT',\n",
      "                                                                                'front-panel': 'DISP',\n",
      "                                                                                'immediate': 'NONE',\n",
      "                                                                                'notify1': 'NOT1',\n",
      "                                                                                'notify2': 'NOT2',\n",
      "                                                                                'notify3': 'NOT3',\n",
      "                                                                                'timer1': 'TIM1',\n",
      "                                                                                'timer2': 'TIM2',\n",
      "                                                                                'timer3': 'TIM3',\n",
      "                                                                                'timer4': 'TIM4'},\n",
      "                                                                'vals': '<Enum: '\n",
      "                                                                        \"{'notify2', \"\n",
      "                                                                        \"'bus', \"\n",
      "                                                                        \"'notify1', \"\n",
      "                                                                        \"'notify3', \"\n",
      "                                                                        \"'immediate', \"\n",
      "                                                                        \"'front-panel', \"\n",
      "                                                                        \"'external', \"\n",
      "                                                                        \"'timer3', \"\n",
      "                                                                        \"'timer4', \"\n",
      "                                                                        \"'timer2', \"\n",
      "                                                                        \"'timer1'}>\",\n",
      "                                                                'value': 'immediate'},\n",
      "                                            'trigger3_delay': {'__class__': 'qcodes.parameters.parameter.Parameter',\n",
      "                                                               'full_name': 'DMM6500_trigger3_delay',\n",
      "                                                               'instrument': 'qcodes.instrument_drivers.tektronix.Keithley_6500.Keithley_6500',\n",
      "                                                               'instrument_name': 'DMM6500',\n",
      "                                                               'inter_delay': 0,\n",
      "                                                               'label': 'trigger3_delay',\n",
      "                                                               'name': 'trigger3_delay',\n",
      "                                                               'post_delay': 0,\n",
      "                                                               'raw_value': '1E-05',\n",
      "                                                               'ts': '2024-11-26 '\n",
      "                                                                     '14:18:28',\n",
      "                                                               'unit': 's',\n",
      "                                                               'vals': '<Numbers '\n",
      "                                                                       '0<=v<=999999.999>',\n",
      "                                                               'value': 1e-05},\n",
      "                                            'trigger3_source': {'__class__': 'qcodes.parameters.parameter.Parameter',\n",
      "                                                                'full_name': 'DMM6500_trigger3_source',\n",
      "                                                                'instrument': 'qcodes.instrument_drivers.tektronix.Keithley_6500.Keithley_6500',\n",
      "                                                                'instrument_name': 'DMM6500',\n",
      "                                                                'inter_delay': 0,\n",
      "                                                                'label': 'trigger3_source',\n",
      "                                                                'name': 'trigger3_source',\n",
      "                                                                'post_delay': 0,\n",
      "                                                                'raw_value': 'NONE',\n",
      "                                                                'ts': '2024-11-26 '\n",
      "                                                                      '14:18:28',\n",
      "                                                                'unit': '',\n",
      "                                                                'val_mapping': {'bus': 'COMM',\n",
      "                                                                                'external': 'EXT',\n",
      "                                                                                'front-panel': 'DISP',\n",
      "                                                                                'immediate': 'NONE',\n",
      "                                                                                'notify1': 'NOT1',\n",
      "                                                                                'notify2': 'NOT2',\n",
      "                                                                                'notify3': 'NOT3',\n",
      "                                                                                'timer1': 'TIM1',\n",
      "                                                                                'timer2': 'TIM2',\n",
      "                                                                                'timer3': 'TIM3',\n",
      "                                                                                'timer4': 'TIM4'},\n",
      "                                                                'vals': '<Enum: '\n",
      "                                                                        \"{'notify2', \"\n",
      "                                                                        \"'bus', \"\n",
      "                                                                        \"'notify1', \"\n",
      "                                                                        \"'notify3', \"\n",
      "                                                                        \"'immediate', \"\n",
      "                                                                        \"'front-panel', \"\n",
      "                                                                        \"'external', \"\n",
      "                                                                        \"'timer3', \"\n",
      "                                                                        \"'timer4', \"\n",
      "                                                                        \"'timer2', \"\n",
      "                                                                        \"'timer1'}>\",\n",
      "                                                                'value': 'immediate'},\n",
      "                                            'trigger4_delay': {'__class__': 'qcodes.parameters.parameter.Parameter',\n",
      "                                                               'full_name': 'DMM6500_trigger4_delay',\n",
      "                                                               'instrument': 'qcodes.instrument_drivers.tektronix.Keithley_6500.Keithley_6500',\n",
      "                                                               'instrument_name': 'DMM6500',\n",
      "                                                               'inter_delay': 0,\n",
      "                                                               'label': 'trigger4_delay',\n",
      "                                                               'name': 'trigger4_delay',\n",
      "                                                               'post_delay': 0,\n",
      "                                                               'raw_value': '1E-05',\n",
      "                                                               'ts': '2024-11-26 '\n",
      "                                                                     '14:18:28',\n",
      "                                                               'unit': 's',\n",
      "                                                               'vals': '<Numbers '\n",
      "                                                                       '0<=v<=999999.999>',\n",
      "                                                               'value': 1e-05},\n",
      "                                            'trigger4_source': {'__class__': 'qcodes.parameters.parameter.Parameter',\n",
      "                                                                'full_name': 'DMM6500_trigger4_source',\n",
      "                                                                'instrument': 'qcodes.instrument_drivers.tektronix.Keithley_6500.Keithley_6500',\n",
      "                                                                'instrument_name': 'DMM6500',\n",
      "                                                                'inter_delay': 0,\n",
      "                                                                'label': 'trigger4_source',\n",
      "                                                                'name': 'trigger4_source',\n",
      "                                                                'post_delay': 0,\n",
      "                                                                'raw_value': 'NONE',\n",
      "                                                                'ts': '2024-11-26 '\n",
      "                                                                      '14:18:28',\n",
      "                                                                'unit': '',\n",
      "                                                                'val_mapping': {'bus': 'COMM',\n",
      "                                                                                'external': 'EXT',\n",
      "                                                                                'front-panel': 'DISP',\n",
      "                                                                                'immediate': 'NONE',\n",
      "                                                                                'notify1': 'NOT1',\n",
      "                                                                                'notify2': 'NOT2',\n",
      "                                                                                'notify3': 'NOT3',\n",
      "                                                                                'timer1': 'TIM1',\n",
      "                                                                                'timer2': 'TIM2',\n",
      "                                                                                'timer3': 'TIM3',\n",
      "                                                                                'timer4': 'TIM4'},\n",
      "                                                                'vals': '<Enum: '\n",
      "                                                                        \"{'notify2', \"\n",
      "                                                                        \"'bus', \"\n",
      "                                                                        \"'notify1', \"\n",
      "                                                                        \"'notify3', \"\n",
      "                                                                        \"'immediate', \"\n",
      "                                                                        \"'front-panel', \"\n",
      "                                                                        \"'external', \"\n",
      "                                                                        \"'timer3', \"\n",
      "                                                                        \"'timer4', \"\n",
      "                                                                        \"'timer2', \"\n",
      "                                                                        \"'timer1'}>\",\n",
      "                                                                'value': 'immediate'},\n",
      "                                            'trigger_count': {'__class__': 'qcodes.parameters.parameter.Parameter',\n",
      "                                                              'full_name': 'DMM6500_trigger_count',\n",
      "                                                              'instrument': 'qcodes.instrument_drivers.tektronix.Keithley_6500.Keithley_6500',\n",
      "                                                              'instrument_name': 'DMM6500',\n",
      "                                                              'inter_delay': 0,\n",
      "                                                              'label': 'trigger_count',\n",
      "                                                              'name': 'trigger_count',\n",
      "                                                              'post_delay': 0,\n",
      "                                                              'raw_value': '1',\n",
      "                                                              'ts': '2024-11-26 '\n",
      "                                                                    '14:18:28',\n",
      "                                                              'unit': '',\n",
      "                                                              'vals': '<MultiType: '\n",
      "                                                                      'Ints '\n",
      "                                                                      '1<=v<=9999, '\n",
      "                                                                      'Enum: '\n",
      "                                                                      \"{'inf', \"\n",
      "                                                                      \"'default', \"\n",
      "                                                                      \"'minimum', \"\n",
      "                                                                      \"'maximum'}>\",\n",
      "                                                              'value': 1},\n",
      "                                            'trigger_timer': {'__class__': 'qcodes.parameters.parameter.Parameter',\n",
      "                                                              'full_name': 'DMM6500_trigger_timer',\n",
      "                                                              'instrument': 'qcodes.instrument_drivers.tektronix.Keithley_6500.Keithley_6500',\n",
      "                                                              'instrument_name': 'DMM6500',\n",
      "                                                              'inter_delay': 0,\n",
      "                                                              'label': 'trigger_timer',\n",
      "                                                              'name': 'trigger_timer',\n",
      "                                                              'post_delay': 0,\n",
      "                                                              'raw_value': '0',\n",
      "                                                              'ts': '2024-11-26 '\n",
      "                                                                    '14:18:28',\n",
      "                                                              'unit': 's',\n",
      "                                                              'vals': '<Numbers '\n",
      "                                                                      '0<=v<=999999.999>',\n",
      "                                                              'value': 0.0}},\n",
      "                             'read_terminator': '\\n',\n",
      "                             'submodules': {},\n",
      "                             'terminator': '\\n',\n",
      "                             'timeout': 10.0,\n",
      "                             'write_terminator': '\\n'},\n",
      "                 'K2440': {'__class__': 'qcodes.instrument_drivers.Keithley.Keithley_2400.Keithley2400',\n",
      "                           'address': 'GPIB0::22::INSTR',\n",
      "                           'functions': {},\n",
      "                           'label': 'K2440',\n",
      "                           'name': 'K2440',\n",
      "                           'parameters': {'IDN': {'__class__': 'qcodes.parameters.parameter.Parameter',\n",
      "                                                  'full_name': 'K2440_IDN',\n",
      "                                                  'instrument': 'qcodes.instrument_drivers.Keithley.Keithley_2400.Keithley2400',\n",
      "                                                  'instrument_name': 'K2440',\n",
      "                                                  'inter_delay': 0,\n",
      "                                                  'label': 'IDN',\n",
      "                                                  'name': 'IDN',\n",
      "                                                  'post_delay': 0,\n",
      "                                                  'raw_value': {'firmware': 'C30   '\n",
      "                                                                            'Mar '\n",
      "                                                                            '17 '\n",
      "                                                                            '2006 '\n",
      "                                                                            '09:29:29/A02  '\n",
      "                                                                            '/B/A',\n",
      "                                                                'model': '2440',\n",
      "                                                                'serial': '1225508',\n",
      "                                                                'vendor': 'KEITHLEY '\n",
      "                                                                          'INSTRUMENTS '\n",
      "                                                                          'INC.'},\n",
      "                                                  'ts': '2024-11-26 14:18:28',\n",
      "                                                  'unit': '',\n",
      "                                                  'vals': '<Anything>',\n",
      "                                                  'value': {'firmware': 'C30   '\n",
      "                                                                        'Mar '\n",
      "                                                                        '17 '\n",
      "                                                                        '2006 '\n",
      "                                                                        '09:29:29/A02  '\n",
      "                                                                        '/B/A',\n",
      "                                                            'model': '2440',\n",
      "                                                            'serial': '1225508',\n",
      "                                                            'vendor': 'KEITHLEY '\n",
      "                                                                      'INSTRUMENTS '\n",
      "                                                                      'INC.'}},\n",
      "                                          'compliancei': {'__class__': 'qcodes.parameters.parameter.Parameter',\n",
      "                                                          'full_name': 'K2440_compliancei',\n",
      "                                                          'instrument': 'qcodes.instrument_drivers.Keithley.Keithley_2400.Keithley2400',\n",
      "                                                          'instrument_name': 'K2440',\n",
      "                                                          'inter_delay': 0,\n",
      "                                                          'label': 'Current '\n",
      "                                                                   'Compliance',\n",
      "                                                          'name': 'compliancei',\n",
      "                                                          'post_delay': 0,\n",
      "                                                          'raw_value': '1.050000E-04',\n",
      "                                                          'ts': '2024-11-26 '\n",
      "                                                                '14:18:28',\n",
      "                                                          'unit': '',\n",
      "                                                          'value': 0.000105},\n",
      "                                          'compliancev': {'__class__': 'qcodes.parameters.parameter.Parameter',\n",
      "                                                          'full_name': 'K2440_compliancev',\n",
      "                                                          'instrument': 'qcodes.instrument_drivers.Keithley.Keithley_2400.Keithley2400',\n",
      "                                                          'instrument_name': 'K2440',\n",
      "                                                          'inter_delay': 0,\n",
      "                                                          'label': 'Voltage '\n",
      "                                                                   'Compliance',\n",
      "                                                          'name': 'compliancev',\n",
      "                                                          'post_delay': 0,\n",
      "                                                          'raw_value': '1.050000E+01',\n",
      "                                                          'ts': '2024-11-26 '\n",
      "                                                                '14:18:28',\n",
      "                                                          'unit': '',\n",
      "                                                          'value': 10.5},\n",
      "                                          'curr': {'__class__': 'qcodes.parameters.parameter.Parameter',\n",
      "                                                   'full_name': 'K2440_curr',\n",
      "                                                   'instrument': 'qcodes.instrument_drivers.Keithley.Keithley_2400.Keithley2400',\n",
      "                                                   'instrument_name': 'K2440',\n",
      "                                                   'inter_delay': 0,\n",
      "                                                   'label': 'Current',\n",
      "                                                   'name': 'curr',\n",
      "                                                   'post_delay': 0,\n",
      "                                                   'raw_value': None,\n",
      "                                                   'ts': None,\n",
      "                                                   'unit': 'A',\n",
      "                                                   'value': None},\n",
      "                                          'mode': {'__class__': 'qcodes.parameters.parameter.Parameter',\n",
      "                                                   'full_name': 'K2440_mode',\n",
      "                                                   'instrument': 'qcodes.instrument_drivers.Keithley.Keithley_2400.Keithley2400',\n",
      "                                                   'instrument_name': 'K2440',\n",
      "                                                   'inter_delay': 0,\n",
      "                                                   'label': 'Mode',\n",
      "                                                   'name': 'mode',\n",
      "                                                   'post_delay': 0,\n",
      "                                                   'raw_value': 'VOLT',\n",
      "                                                   'ts': '2024-11-26 14:18:28',\n",
      "                                                   'unit': '',\n",
      "                                                   'vals': \"<Enum: {'VOLT', \"\n",
      "                                                           \"'CURR'}>\",\n",
      "                                                   'value': 'VOLT'},\n",
      "                                          'nplci': {'__class__': 'qcodes.parameters.parameter.Parameter',\n",
      "                                                    'full_name': 'K2440_nplci',\n",
      "                                                    'instrument': 'qcodes.instrument_drivers.Keithley.Keithley_2400.Keithley2400',\n",
      "                                                    'instrument_name': 'K2440',\n",
      "                                                    'inter_delay': 0,\n",
      "                                                    'label': 'Current '\n",
      "                                                             'integration time',\n",
      "                                                    'name': 'nplci',\n",
      "                                                    'post_delay': 0,\n",
      "                                                    'raw_value': '1.00',\n",
      "                                                    'ts': '2024-11-26 14:18:28',\n",
      "                                                    'unit': '',\n",
      "                                                    'value': 1.0},\n",
      "                                          'nplcv': {'__class__': 'qcodes.parameters.parameter.Parameter',\n",
      "                                                    'full_name': 'K2440_nplcv',\n",
      "                                                    'instrument': 'qcodes.instrument_drivers.Keithley.Keithley_2400.Keithley2400',\n",
      "                                                    'instrument_name': 'K2440',\n",
      "                                                    'inter_delay': 0,\n",
      "                                                    'label': 'Voltage '\n",
      "                                                             'integration time',\n",
      "                                                    'name': 'nplcv',\n",
      "                                                    'post_delay': 0,\n",
      "                                                    'raw_value': '1.00',\n",
      "                                                    'ts': '2024-11-26 14:18:28',\n",
      "                                                    'unit': '',\n",
      "                                                    'value': 1.0},\n",
      "                                          'output': {'__class__': 'qcodes.parameters.parameter.Parameter',\n",
      "                                                     'full_name': 'K2440_output',\n",
      "                                                     'instrument': 'qcodes.instrument_drivers.Keithley.Keithley_2400.Keithley2400',\n",
      "                                                     'instrument_name': 'K2440',\n",
      "                                                     'inter_delay': 0,\n",
      "                                                     'label': 'output',\n",
      "                                                     'name': 'output',\n",
      "                                                     'post_delay': 0,\n",
      "                                                     'raw_value': '0',\n",
      "                                                     'ts': '2024-11-26 '\n",
      "                                                           '14:18:28',\n",
      "                                                     'unit': '',\n",
      "                                                     'val_mapping': OrderedDict([('On',\n",
      "                                                                                  '1'),\n",
      "                                                                                 ('ON',\n",
      "                                                                                  '1'),\n",
      "                                                                                 ('on',\n",
      "                                                                                  '1'),\n",
      "                                                                                 ('1',\n",
      "                                                                                  '1'),\n",
      "                                                                                 (True,\n",
      "                                                                                  '1'),\n",
      "                                                                                 ('Off',\n",
      "                                                                                  '0'),\n",
      "                                                                                 ('OFF',\n",
      "                                                                                  '0'),\n",
      "                                                                                 ('off',\n",
      "                                                                                  '0'),\n",
      "                                                                                 ('0',\n",
      "                                                                                  '0'),\n",
      "                                                                                 (False,\n",
      "                                                                                  '0')]),\n",
      "                                                     'vals': '<Enum: {False, '\n",
      "                                                             \"True, 'off', \"\n",
      "                                                             \"'OFF', 'on', \"\n",
      "                                                             \"'On', 'ON', \"\n",
      "                                                             \"'Off', '1', \"\n",
      "                                                             \"'0'}>\",\n",
      "                                                     'value': False},\n",
      "                                          'rangei': {'__class__': 'qcodes.parameters.parameter.Parameter',\n",
      "                                                     'full_name': 'K2440_rangei',\n",
      "                                                     'instrument': 'qcodes.instrument_drivers.Keithley.Keithley_2400.Keithley2400',\n",
      "                                                     'instrument_name': 'K2440',\n",
      "                                                     'inter_delay': 0,\n",
      "                                                     'label': 'Current range',\n",
      "                                                     'name': 'rangei',\n",
      "                                                     'post_delay': 0,\n",
      "                                                     'raw_value': '1.050000E-04',\n",
      "                                                     'ts': '2024-11-26 '\n",
      "                                                           '14:18:28',\n",
      "                                                     'unit': '',\n",
      "                                                     'value': 0.000105},\n",
      "                                          'rangev': {'__class__': 'qcodes.parameters.parameter.Parameter',\n",
      "                                                     'full_name': 'K2440_rangev',\n",
      "                                                     'instrument': 'qcodes.instrument_drivers.Keithley.Keithley_2400.Keithley2400',\n",
      "                                                     'instrument_name': 'K2440',\n",
      "                                                     'inter_delay': 0,\n",
      "                                                     'label': 'Voltage range',\n",
      "                                                     'name': 'rangev',\n",
      "                                                     'post_delay': 0,\n",
      "                                                     'raw_value': '10.50',\n",
      "                                                     'ts': '2024-11-26 '\n",
      "                                                           '14:18:28',\n",
      "                                                     'unit': '',\n",
      "                                                     'value': 10.5},\n",
      "                                          'resistance': {'__class__': 'qcodes.parameters.parameter.Parameter',\n",
      "                                                         'full_name': 'K2440_resistance',\n",
      "                                                         'instrument': 'qcodes.instrument_drivers.Keithley.Keithley_2400.Keithley2400',\n",
      "                                                         'instrument_name': 'K2440',\n",
      "                                                         'inter_delay': 0,\n",
      "                                                         'label': 'Resistance',\n",
      "                                                         'name': 'resistance',\n",
      "                                                         'post_delay': 0,\n",
      "                                                         'raw_value': None,\n",
      "                                                         'ts': None,\n",
      "                                                         'unit': 'Ohm',\n",
      "                                                         'value': None},\n",
      "                                          'sense': {'__class__': 'qcodes.parameters.parameter.Parameter',\n",
      "                                                    'full_name': 'K2440_sense',\n",
      "                                                    'instrument': 'qcodes.instrument_drivers.Keithley.Keithley_2400.Keithley2400',\n",
      "                                                    'instrument_name': 'K2440',\n",
      "                                                    'inter_delay': 0,\n",
      "                                                    'label': 'Sense mode',\n",
      "                                                    'name': 'sense',\n",
      "                                                    'post_delay': 0,\n",
      "                                                    'raw_value': '\"CURR:DC\"',\n",
      "                                                    'ts': '2024-11-26 14:18:28',\n",
      "                                                    'unit': '',\n",
      "                                                    'vals': '<Strings>',\n",
      "                                                    'value': '\"CURR:DC\"'},\n",
      "                                          'timeout': {'__class__': 'qcodes.parameters.parameter.Parameter',\n",
      "                                                      'full_name': 'K2440_timeout',\n",
      "                                                      'instrument': 'qcodes.instrument_drivers.Keithley.Keithley_2400.Keithley2400',\n",
      "                                                      'instrument_name': 'K2440',\n",
      "                                                      'inter_delay': 0,\n",
      "                                                      'label': 'timeout',\n",
      "                                                      'name': 'timeout',\n",
      "                                                      'post_delay': 0,\n",
      "                                                      'raw_value': 10.0,\n",
      "                                                      'ts': '2024-11-26 '\n",
      "                                                            '14:18:28',\n",
      "                                                      'unit': 's',\n",
      "                                                      'vals': '<MultiType: '\n",
      "                                                              'Numbers v>=0, '\n",
      "                                                              'Enum: {None}>',\n",
      "                                                      'value': 10.0},\n",
      "                                          'volt': {'__class__': 'qcodes.parameters.parameter.Parameter',\n",
      "                                                   'full_name': 'K2440_volt',\n",
      "                                                   'instrument': 'qcodes.instrument_drivers.Keithley.Keithley_2400.Keithley2400',\n",
      "                                                   'instrument_name': 'K2440',\n",
      "                                                   'inter_delay': 0,\n",
      "                                                   'label': 'Voltage',\n",
      "                                                   'name': 'volt',\n",
      "                                                   'post_delay': 0,\n",
      "                                                   'raw_value': None,\n",
      "                                                   'ts': None,\n",
      "                                                   'unit': 'V',\n",
      "                                                   'value': None}},\n",
      "                           'read_terminator': '\\n',\n",
      "                           'submodules': {},\n",
      "                           'terminator': '\\n',\n",
      "                           'timeout': 10.0,\n",
      "                           'write_terminator': '\\n'}},\n",
      " 'parameters': {}}\n"
     ]
    }
   ],
   "source": [
    "snapshot_of_station = station.snapshot()\n",
    "pprint(snapshot_of_station)"
   ]
  },
  {
   "cell_type": "markdown",
   "id": "4757b159",
   "metadata": {},
   "source": [
    "## Keithley 2440"
   ]
  },
  {
   "cell_type": "markdown",
   "id": "797b994c",
   "metadata": {},
   "source": [
    "### sensitive check"
   ]
  },
  {
   "cell_type": "code",
   "execution_count": 8,
   "id": "f387f69b",
   "metadata": {},
   "outputs": [
    {
     "data": {
      "text/plain": [
       "'VOLT'"
      ]
     },
     "execution_count": 8,
     "metadata": {},
     "output_type": "execute_result"
    }
   ],
   "source": [
    "K2440.mode('VOLT')\n",
    "K2440.mode()"
   ]
  },
  {
   "cell_type": "code",
   "execution_count": 9,
   "id": "09a8a36e",
   "metadata": {},
   "outputs": [
    {
     "name": "stdout",
     "output_type": "stream",
     "text": [
      "-6.174434e-05\n"
     ]
    }
   ],
   "source": [
    "K2440.output(1) # output on\n",
    "K2440.rangev(10)\n",
    "K2440.volt(0)\n",
    "K2440.compliancei(100e-3)\n",
    "sleep(1)\n",
    "v_read=DMM6500.amplitude()\n",
    "K2440.output(0) #output off\n",
    "print(v_read)"
   ]
  },
  {
   "cell_type": "markdown",
   "id": "105706bc",
   "metadata": {},
   "source": [
    "## TG 2400"
   ]
  },
  {
   "cell_type": "code",
   "execution_count": null,
   "id": "cdc19f1b",
   "metadata": {},
   "outputs": [],
   "source": [
    "K2440.output(1) # output on\n",
    "K2440.rangev(22)\n",
    "K2440.volt(0)\n",
    "K2440.compliancei(100e-3)\n",
    "# K2440.output(0) #output off\n",
    "sleep(1)\n",
    "v_read=DMM6500.amplitude()\n",
    "print(v_read)"
   ]
  },
  {
   "cell_type": "code",
   "execution_count": null,
   "id": "e971a620",
   "metadata": {},
   "outputs": [],
   "source": [
    "K2440.volt(1)\n",
    "K2440.output(0) #output off"
   ]
  },
  {
   "cell_type": "code",
   "execution_count": null,
   "id": "e284050c",
   "metadata": {},
   "outputs": [],
   "source": [
    "K2440.rangev(1)\n",
    "K2440.rangev()"
   ]
  },
  {
   "cell_type": "markdown",
   "id": "c676ccb5",
   "metadata": {},
   "source": [
    "#  Database initialisation"
   ]
  },
  {
   "cell_type": "code",
   "execution_count": 10,
   "id": "5059671d",
   "metadata": {},
   "outputs": [
    {
     "data": {
      "text/plain": [
       "'c:\\\\Users\\\\quant\\\\OneDrive\\\\Documents\\\\GitHub\\\\QCoDeS_local\\\\init_database_v3.py'"
      ]
     },
     "execution_count": 10,
     "metadata": {},
     "output_type": "execute_result"
    }
   ],
   "source": [
    "def find_init_database_v3_py():\n",
    "    for root, dirs, files in os.walk(qcodes_local_dir):\n",
    "        if 'init_database_v3.py' in files:\n",
    "            return os.path.join(root, 'init_database_v3.py')\n",
    "    return None\n",
    "\n",
    "init_database_v3_py_path = find_init_database_v3_py()\n",
    "init_database_v3_py_path\n"
   ]
  },
  {
   "cell_type": "code",
   "execution_count": 11,
   "id": "e09e380a",
   "metadata": {},
   "outputs": [
    {
     "data": {
      "text/plain": [
       "'c:\\\\Users\\\\quant\\\\OneDrive\\\\Documents\\\\GitHub\\\\QCoDeS_local\\\\init_database_v2.py'"
      ]
     },
     "execution_count": 11,
     "metadata": {},
     "output_type": "execute_result"
    }
   ],
   "source": [
    "def find_init_database_v2_py():\n",
    "    for root, dirs, files in os.walk(qcodes_local_dir):\n",
    "        if 'init_database_v2.py' in files:\n",
    "            return os.path.join(root, 'init_database_v2.py')\n",
    "    return None\n",
    "\n",
    "init_database_v2_py_path = find_init_database_v2_py()\n",
    "init_database_v2_py_path"
   ]
  },
  {
   "cell_type": "code",
   "execution_count": 12,
   "id": "7b665bc4",
   "metadata": {},
   "outputs": [
    {
     "name": "stdout",
     "output_type": "stream",
     "text": [
      "Creating a new database file:\n",
      "c:\\Users\\quant\\OneDrive\\Documents\\GitHub\\QCoDeS_local\\personal_scripts\\Albert\\005-2\\005-2_2024-11-26_01.db\n"
     ]
    }
   ],
   "source": [
    "reuse = False\n",
    "%run \"{init_database_v2_py_path}\" {reuse}"
   ]
  },
  {
   "cell_type": "markdown",
   "id": "6a8a2beb",
   "metadata": {},
   "source": [
    "\n",
    "# Scaled parameters"
   ]
  },
  {
   "cell_type": "code",
   "execution_count": null,
   "id": "e3b44b31",
   "metadata": {},
   "outputs": [],
   "source": []
  },
  {
   "cell_type": "markdown",
   "id": "ea4ff57a",
   "metadata": {},
   "source": [
    "## Defining scaled parameters"
   ]
  },
  {
   "cell_type": "code",
   "execution_count": 13,
   "id": "c8ca5b97",
   "metadata": {},
   "outputs": [
    {
     "data": {
      "text/plain": [
       "'Gain_L2'"
      ]
     },
     "execution_count": 13,
     "metadata": {},
     "output_type": "execute_result"
    }
   ],
   "source": [
    "Irange = Parameter('Irange', label='current range', unit='', set_cmd=None, get_cmd=None)\n",
    "Vrange = Parameter('Vrange', label='voltage range', unit='', set_cmd=None, get_cmd=None)\n",
    "TGrange = Parameter('TGrange', label='Top gate range', unit='', set_cmd=None, get_cmd=None)\n",
    "\n",
    "#division paraemtrs required for simplier update: they used as an argument for scaled paraemtrs of sorce instruments\n",
    "\n",
    "\n",
    "Irange_division = Parameter('Irange_division', \n",
    "                            label='scaled current range', unit='', \n",
    "                            set_cmd=None, get_cmd=lambda : 1 / Irange())\n",
    "\n",
    "Vrange_division = Parameter('Vrange_division', \n",
    "                            label='scaled voltage range', unit='', \n",
    "                            set_cmd=None, get_cmd=lambda : 1 / Vrange())\n",
    "\n",
    "TGrange_division = Parameter('TGrange_division', \n",
    "                             label='scaled Top gate range', unit='', \n",
    "                             set_cmd=None, get_cmd=lambda : 1 / TGrange())\n",
    "\n",
    "Irange_AC_division = Parameter('Irange_AC_division', \n",
    "                               label='scaled current range for lockin', unit='', \n",
    "                               set_cmd=None, get_cmd=lambda : 1 / Irange())\n",
    "\n",
    "Vrange_AC_division = Parameter('Vrange_AC_division', \n",
    "                               label='scaled voltage range for lockin', unit='', \n",
    "                               set_cmd=None, get_cmd=lambda : 1 / Vrange())\n",
    "\n",
    "Gain_K1 = Parameter('Gain_K1', label='Gain K1', unit='', set_cmd=None, get_cmd=None)\n",
    "Gain_K2 = Parameter('Gain_K2', label='Gain K2', unit='', set_cmd=None, get_cmd=None)\n",
    "Gain_L1 = Parameter('Gain_L1', label='Gain L1', unit='', set_cmd=None, get_cmd=None)\n",
    "Gain_L2 = Parameter('Gain_L2', label='Gain L2', unit='', set_cmd=None, get_cmd=None)\n",
    "\n",
    "#Add components\n",
    "station.add_component(Irange)\n",
    "station.add_component(Vrange)\n",
    "station.add_component(TGrange)\n",
    "\n",
    "station.add_component(Irange_division)\n",
    "station.add_component(Vrange_division)\n",
    "station.add_component(TGrange_division)\n",
    "\n",
    "station.add_component(Irange_AC_division)\n",
    "station.add_component(Vrange_AC_division)\n",
    "                             \n",
    "station.add_component(Gain_K1)\n",
    "station.add_component(Gain_K2)\n",
    "station.add_component(Gain_L1)\n",
    "station.add_component(Gain_L2)"
   ]
  },
  {
   "cell_type": "markdown",
   "id": "6d7ecebe",
   "metadata": {},
   "source": [
    "## Parameters - update here during measuerements"
   ]
  },
  {
   "cell_type": "code",
   "execution_count": 14,
   "id": "b0b09fcc",
   "metadata": {},
   "outputs": [],
   "source": [
    "Irange.set(1e-6) #Unit Amp V=IR, 1V= 1e-6 x 1MOhm=1e-7 x 10MOhm\n",
    "Vrange.set(10) ## need to be sync with K213 range #Unit Volt\n",
    "TGrange.set(1) #Unit Volt\n",
    "Gain_K1.set(100)\n",
    "Gain_K2.set(100)\n",
    "# Gain_K3.set(1e2)\n",
    "Gain_L1.set(Gain_K1())\n",
    "Gain_L2.set(Gain_K2())\n",
    "#division parameters are updated automatically"
   ]
  },
  {
   "cell_type": "code",
   "execution_count": null,
   "id": "4b1231bb",
   "metadata": {},
   "outputs": [],
   "source": [
    "lockin_1.sine_outdc"
   ]
  },
  {
   "cell_type": "markdown",
   "id": "cbe7bfa7",
   "metadata": {},
   "source": [
    "## DC parameters"
   ]
  },
  {
   "cell_type": "code",
   "execution_count": 15,
   "id": "6a8c7deb",
   "metadata": {},
   "outputs": [
    {
     "data": {
      "text/plain": [
       "'meas_current_K1'"
      ]
     },
     "execution_count": 15,
     "metadata": {},
     "output_type": "execute_result"
    }
   ],
   "source": [
    "# appl_current = ScaledParameter(lockin_1.sine_outdc, division = Irange_division, name = 'appl_current', unit = 'A')\n",
    "appl_current = ScaledParameter(K2440.volt, division = Irange_division, name = 'appl_current', unit = 'A')\n",
    "\n",
    "#appl_TG = ScaledParameter(K2440.volt, division = TGrange_division, name = 'appl_TG', unit = 'V')\n",
    "\n",
    "meas_voltage_K1 = ScaledParameter(DMM6500.amplitude, division = Gain_K1, name = 'meas_voltage_K1', unit = 'V')\n",
    "# meas_voltage_K2 = ScaledParameter(DMM6500.amplitude, division = Gain_K2, name = 'meas_voltage_K2', unit = 'V')\n",
    "\n",
    "# meas_leakage = ScaledParameter(DMM6500.amplitude, division = Gain_K2, name = 'meas_leakage', unit = 'A')\n",
    "\n",
    "meas_current_K1 = ScaledParameter(DMM6500.amplitude, division = Gain_K1, name = 'meas_current_K1', unit = 'A')\n",
    "# meas_current_K2 = ScaledParameter(DMM6500.amplitude, division = Gain_K2, name = 'meas_current_K2', unit = 'A')\n",
    "\n",
    "station.add_component(appl_current)\n",
    "# station.add_component(appl_voltage)\n",
    "#station.add_component(appl_TG)\n",
    "\n",
    "station.add_component(meas_voltage_K1)\n",
    "# station.add_component(meas_voltage_K2)\n",
    "\n",
    "# station.add_component(meas_leakage)\n",
    "\n",
    "station.add_component(meas_current_K1)\n",
    "# station.add_component(meas_current_K2)"
   ]
  },
  {
   "cell_type": "code",
   "execution_count": 16,
   "id": "3851dc82",
   "metadata": {},
   "outputs": [],
   "source": [
    "K2440.output(0)\n",
    "appl_current(0)\n",
    "sleep(1)\n",
    "# meas_voltage_K2()"
   ]
  },
  {
   "cell_type": "markdown",
   "id": "a23afd58",
   "metadata": {},
   "source": [
    "##  AC parameters"
   ]
  },
  {
   "cell_type": "code",
   "execution_count": null,
   "id": "769f6a51",
   "metadata": {},
   "outputs": [],
   "source": [
    "appl_current_AC = ScaledParameter(lockin_1.amplitude, division = Irange_AC_division, name = 'appl_current_AC', unit = 'A')\n",
    "appl_voltage_AC = ScaledParameter(lockin_1.amplitude, division = Vrange_AC_division, name = 'appl_voltage_AC', unit = 'V')\n",
    "\n",
    "station.add_component(appl_current_AC)\n",
    "station.add_component(appl_voltage_AC)\n",
    "\n",
    "meas_voltage_AC_L1 = ScaledParameter(lockin_1.X, division = Gain_L1, name = 'meas_voltage_Lockin1', unit = 'V')\n",
    "meas_current_AC_L1 = ScaledParameter(lockin_1.X, division = Gain_L1, name = 'meas_current_Lockin1', unit = 'A')\n",
    "meas_phase_AC_L1 = ScaledParameter(lockin_1.P, division = 1, name = 'meas_phase_Lockin1', unit = 'degree')\n",
    "\n",
    "\n",
    "# meas_voltage_AC_L2 = ScaledParameter(lockin_2.X, division = Gain_L2, name = 'meas_voltage_Lockin2', unit = 'V')\n",
    "# meas_current_AC_L2 = ScaledParameter(lockin_2.X, division = Gain_L2, name = 'meas_current_Lockin2', unit = 'A')\n",
    "# meas_phase_AC_L2 = ScaledParameter(lockin_2.P, division = 1, name = 'meas_phase_Lockin1', unit = 'degree')\n",
    "\n",
    "station.add_component(meas_voltage_AC_L1)\n",
    "station.add_component(meas_current_AC_L1)\n",
    "station.add_component(meas_phase_AC_L1)\n",
    "\n",
    "# station.add_component(meas_voltage_AC_L2)\n",
    "# station.add_component(meas_current_AC_L2)\n",
    "\n",
    "meas_voltage_AC_L1_R = ScaledParameter(lockin_1.R, division = Gain_L1, name = 'meas_voltage_R_Lockin1', unit = 'V')\n",
    "# meas_voltage_AC_L2_R = ScaledParameter(lockin_2.R, division = Gain_L2, name = 'meas_voltage_R_Lockin2', unit = 'V')\n",
    "\n",
    "station.add_component(meas_voltage_AC_L1_R)\n",
    "# station.add_component(meas_voltage_AC_L2_R)"
   ]
  },
  {
   "cell_type": "code",
   "execution_count": null,
   "id": "bcd10ed7",
   "metadata": {},
   "outputs": [],
   "source": [
    "meas_voltage_AC_L1_P = ScaledParameter(lockin_1.P, division = 1, name = 'meas_voltage_Lockin1_P', unit = 'degree')\n",
    "meas_current_AC_L1_P = ScaledParameter(lockin_1.P, division = 1, name = 'meas_current_Lockin1_P', unit = 'degree')\n",
    "\n",
    "# meas_voltage_AC_L2_P = ScaledParameter(lockin_2.P, division = 1, name = 'meas_voltage_Lockin2_P', unit = 'degree')\n",
    "# meas_current_AC_L2_P = ScaledParameter(lockin_2.P, division = 1, name = 'meas_current_Lockin2_P', unit = 'degree')\n",
    "\n",
    "station.add_component(meas_voltage_AC_L1_P)\n",
    "station.add_component(meas_current_AC_L1_P)\n",
    "\n",
    "# station.add_component(meas_voltage_AC_L2_P)\n",
    "# station.add_component(meas_current_AC_L2_P)"
   ]
  },
  {
   "cell_type": "markdown",
   "id": "8d9d6239",
   "metadata": {},
   "source": [
    "## Another useful example: magnet using dac (Janis)"
   ]
  },
  {
   "cell_type": "markdown",
   "id": "92e1f309",
   "metadata": {},
   "source": [
    ">2231.2 G per A => 0.22312 T per A<br>\n",
    "I source 10mA per V => 1e-5 A per 1mV<br>\n",
    "result: 0.22312 T/A * 1e-5 A/mV"
   ]
  },
  {
   "cell_type": "code",
   "execution_count": 21,
   "id": "6b2b657a",
   "metadata": {},
   "outputs": [],
   "source": [
    "# def get_R_from_IV(dataid):\n",
    "#     dataset = qc.load_by_id(dataid)\n",
    "#     voltage = dataset.get_parameter_data()['meas_voltage_K2']['meas_voltage_K2']\n",
    "#     current = dataset.get_parameter_data()['meas_voltage_K2']['appl_current']\n",
    "#     fit_values = np.polyfit(current,voltage,1)\n",
    "    \n",
    "#     return fit_values[0]\n",
    "\n",
    "dataset = qc.load_by_id(1)\n",
    "\n",
    "def get_R_from_IV_2(dataid):\n",
    "    dataset = qc.load_by_id(dataid)\n",
    "    voltage = dataset.get_parameter_data()['meas_voltage_K2']['meas_voltage_K2']\n",
    "    current = dataset.get_parameter_data()['meas_voltage_K2']['appl_current']\n",
    "    fit_values = np.polyfit(current,voltage,1)\n",
    "\n",
    "    return fit_values[0]\n",
    "\n",
    "def get_R_from_IV(dataid):\n",
    "    dataset = qc.load_by_id(dataid)\n",
    "    para_list = dataset.parameters.split(\",\")\n",
    "    voltage = dataset.get_parameter_data()[para_list[1]][para_list[1]]\n",
    "    current = dataset.get_parameter_data()[para_list[1]][para_list[0]]\n",
    "    fit_values = np.polyfit(current,voltage,1)\n",
    "    return fit_values[0]\n",
    "\n",
    "\n",
    "def get_R_from_IV_K2(dataid):\n",
    "    dataset = qc.load_by_id(dataid)\n",
    "    voltage = dataset.get_parameter_data()['meas_voltage_K2']['meas_voltage_K2']\n",
    "    current = dataset.get_parameter_data()['meas_voltage_K2']['appl_current']\n",
    "    fit_values = np.polyfit(current,voltage,1)\n",
    "    return fit_values[0]\n",
    "\n",
    "def autosave_plot_by_id(run_id, save_path):\n",
    "    fig, ax = plt.subplots()\n",
    "    plot_by_id(run_id, axes=ax)\n",
    "    plt.savefig(save_path)\n",
    "    plt.close()\n",
    "\n",
    "def get_detaset_info(dataset=dataset):\n",
    "    run_id = dataset.captured_run_id\n",
    "    exp_name = dataset.exp_name\n",
    "    sample_name = dataset.sample_name\n",
    "    name = dataset.name\n",
    "    description = dataset.description\n",
    "    sample_junction = extract_sample_junction(sample_name)\n",
    "    return run_id, exp_name, sample_name, sample_junction, name, description\n",
    "\n",
    "def extract_sample_junction(sample_name):\n",
    "    \"\"\"Extracts the complete sample junction from the provided sample name.\n",
    "\n",
    "    Args:\n",
    "      sample_name: The name of the sample containing the junction information.\n",
    "\n",
    "    Returns:\n",
    "      The extracted sample junction, or None if not found.\n",
    "    \"\"\"\n",
    "\n",
    "    delimiter = \"_J\"\n",
    "    if delimiter in sample_name:\n",
    "        # +3 to include \"_J\"\n",
    "        return sample_name[:sample_name.find(delimiter) + 3]\n",
    "    else:\n",
    "        return None\n",
    "\n",
    "def IV(run_id=1):\n",
    "    dataset = qc.load_by_id(run_id)\n",
    "    R = get_R_from_IV(run_id)\n",
    "    run_id, exp_name, sample_name, sample_junction, name, description = get_detaset_info(\n",
    "        dataset)\n",
    "    df = dataset.to_pandas_dataframe().reset_index()\n",
    "    para_list = dataset.parameters.split(\",\")\n",
    "\n",
    "    # Create a Plotly trace\n",
    "    trace = go.Scatter(x=df[para_list[0]], y=df[para_list[1]]*1e3, mode='lines', name='Voltage vs. Current')\n",
    "\n",
    "    # Create layout with micro-scale y-axis\n",
    "    layout = go.Layout(title=f'<b>#{run_id} {exp_name}</b> {sample_name}, R_fit={R:.4f} Ω', title_font=dict(size=28),\n",
    "                       xaxis=dict(title=para_list[0], tickfont=dict(size=16),title_font=dict(size=20)),\n",
    "                       yaxis=dict(title=f\"{para_list[1]} mV\", tickfont=dict(size=16),title_font=dict(size=20)), \n",
    "                       width=1080, height=960,\n",
    "                       margin=dict(l=10, r=10, t=50, b=10))\n",
    "\n",
    "    # Create the figure\n",
    "    fig = go.Figure(data=[trace], layout=layout)\n",
    "    \n",
    "    fig.show()\n",
    "\n",
    "def IV_diff(run_id=1):\n",
    "    import numpy as np\n",
    "    import plotly.graph_objs as go\n",
    "    from scipy.signal import find_peaks\n",
    "    dataset = qc.load_by_id(run_id)\n",
    "\n",
    "    df = dataset.to_pandas_dataframe().reset_index()\n",
    "    para_list = dataset.parameters.split(\",\")\n",
    "\n",
    "    current = df[para_list[0]].tolist()\n",
    "    voltage = df[para_list[1]].tolist()\n",
    "\n",
    "    # Compute differential of voltage with respect to current\n",
    "    differential_voltage = np.diff(voltage) / np.diff(current)\n",
    "\n",
    "    # Since the differential will have one less data point, adjust the current data\n",
    "    # to have the same length as the differential data\n",
    "    current = current[:-1]\n",
    "\n",
    "    # Find peaks in the differential signal\n",
    "    peaks, _ = find_peaks(differential_voltage)\n",
    "\n",
    "    # Extract peak current and peak differential voltage values\n",
    "    peak_current = [current[i] for i in peaks]\n",
    "    peak_voltage_diff = [differential_voltage[i] for i in peaks]\n",
    "\n",
    "    # Sort the peaks based on their values\n",
    "    sorted_peak_indices = np.argsort(peak_voltage_diff)[::-1]  # Sort in descending order\n",
    "    top_two_peak_indices = sorted_peak_indices[:2]  # Select the top two indices\n",
    "\n",
    "    # Extract the top two peaks\n",
    "    top_two_peak_current = [peak_current[i] for i in top_two_peak_indices]\n",
    "    top_two_peak_voltage_diff = [peak_voltage_diff[i] for i in top_two_peak_indices]\n",
    "\n",
    "    # Calculate the center points of the top two peaks\n",
    "    center_points = [(top_two_peak_current[i] + top_two_peak_current[i+1]) / 2 for i in range(len(top_two_peak_current) - 1)]\n",
    "\n",
    "    # Calculate the difference between the top two biggest peaks\n",
    "    peak_difference = abs(top_two_peak_current[0] - top_two_peak_current[1])\n",
    "\n",
    "    # Determine the appropriate unit for current\n",
    "    if peak_difference >= 1e-3:\n",
    "        unit = \"mA\"\n",
    "        conversion_factor = 1e3\n",
    "    elif peak_difference >= 1e-6:\n",
    "        unit = \"μA\"\n",
    "        conversion_factor = 1e6\n",
    "    else:\n",
    "        unit = \"nA\"\n",
    "        conversion_factor = 1e9\n",
    "\n",
    "    # Determine the appropriate unit for current\n",
    "    if peak_difference >= 1e-3:\n",
    "        unit = \"mA\"\n",
    "    elif peak_difference >= 1e-6:\n",
    "        unit = \"μA\"\n",
    "    elif peak_difference >= 1e-9:\n",
    "        unit = \"nA\"\n",
    "    else:\n",
    "        unit = \"pA\"\n",
    "\n",
    "    # Create a Plotly trace for the differential\n",
    "    trace_diff = go.Scatter(x=[c * conversion_factor for c in current], y=differential_voltage, mode='lines', name='d(Voltage)/d(Current)')\n",
    "    # Add markers for the top two peaks\n",
    "    trace_top_two_peaks = go.Scatter(x=[p * conversion_factor for p in top_two_peak_current], y=top_two_peak_voltage_diff, mode='markers', marker=dict(color='red'), name='Top Two Peaks')\n",
    "    # Add markers for the center points\n",
    "    trace_center_points = go.Scatter(x=center_points, y=[0]*len(center_points), mode='markers', marker=dict(color='blue', symbol='cross'), name='Center Points')\n",
    "\n",
    "    # Create layout\n",
    "    layout = go.Layout(title=f'Run #{id} I vs. dV/dI',\n",
    "                    xaxis=dict(title=f'Current ({unit})'),\n",
    "                    yaxis=dict(title='d(Voltage)/d(Current)'),\n",
    "                    legend=dict(orientation=\"h\", yanchor=\"top\", y=1.10, xanchor=\"center\", x=0.5),\n",
    "                    width=600, height=600  \n",
    "                    )\n",
    "\n",
    "    # Create the figure\n",
    "    fig = go.Figure(data=[trace_diff, trace_top_two_peaks, trace_center_points], layout=layout)\n",
    "\n",
    "    # Add annotation for the current value of center points\n",
    "    for i, center_point in enumerate(center_points):\n",
    "        fig.add_annotation(\n",
    "            x=center_point * conversion_factor,\n",
    "            y=0, #0.4 * max(differential_voltage),\n",
    "            text=f'Center Point: {center_point * conversion_factor:.3f}{unit} <br> Peak difference: {peak_difference*conversion_factor:.3f} {unit}',\n",
    "            showarrow=True,\n",
    "            arrowhead=2,\n",
    "            arrowsize=1,\n",
    "            arrowwidth=2,\n",
    "            arrowcolor='black',\n",
    "            ax=-100,\n",
    "            ay=-200 - 30 * i\n",
    "        )\n",
    "\n",
    "    # Plot the figure\n",
    "    fig.show()\n",
    "\n",
    "def get_Mag(show=True):\n",
    "    Mag_x = magnet_x.field()\n",
    "    Mag_y = magnet_y.field()\n",
    "    Mag_z = magnet_z.field()\n",
    "    if show:\n",
    "        print(f\"Mag_x: {Mag_x*1e3:.6f} mT\")\n",
    "        print(f\"Mag_y: {Mag_y*1e3:.6f} mT\")\n",
    "        print(f\"Mag_z: {Mag_z*1e3:.6f} mT\")\n",
    "    else: \n",
    "        return Mag_x, Mag_y, Mag_z"
   ]
  },
  {
   "cell_type": "code",
   "execution_count": null,
   "id": "934a7b70",
   "metadata": {},
   "outputs": [],
   "source": [
    "appl_current(0.5e-6)\n",
    "appl_current_AC(10e-9)"
   ]
  },
  {
   "cell_type": "code",
   "execution_count": null,
   "id": "e0040749",
   "metadata": {},
   "outputs": [],
   "source": [
    "df = dataset.to_pandas_dataframe().reset_index()\n",
    "df"
   ]
  },
  {
   "cell_type": "markdown",
   "id": "885e5c90",
   "metadata": {},
   "source": [
    "# Simple IVs"
   ]
  },
  {
   "cell_type": "markdown",
   "id": "cdb6884c",
   "metadata": {},
   "source": [
    "## IV"
   ]
  },
  {
   "cell_type": "code",
   "execution_count": 18,
   "id": "f6c71fe1",
   "metadata": {},
   "outputs": [],
   "source": [
    "K2440.output(1)\n",
    "DMM6500.averaging_count(5)\n",
    "DMM6500.averaging_enabled(True)\n",
    "DMM6500.averaging_enabled(False)\n",
    "K2440.output(0)"
   ]
  },
  {
   "cell_type": "code",
   "execution_count": 19,
   "id": "88a5c92b",
   "metadata": {},
   "outputs": [],
   "source": [
    "# Set current to 0\n",
    "K2440.output(0)\n",
    "appl_current(0e-6)"
   ]
  },
  {
   "cell_type": "code",
   "execution_count": null,
   "id": "af7949e7",
   "metadata": {},
   "outputs": [],
   "source": [
    "IV(3)"
   ]
  },
  {
   "cell_type": "code",
   "execution_count": 25,
   "id": "94d8b3fa",
   "metadata": {},
   "outputs": [
    {
     "name": "stderr",
     "output_type": "stream",
     "text": [
      "There is (are) already experiment(s) with the name of I-V and sample name of 005-2_13_14_35_36G in the database.\n"
     ]
    },
    {
     "name": "stdout",
     "output_type": "stream",
     "text": [
      "Starting experimental run with id: 5. \n"
     ]
    },
    {
     "name": "stderr",
     "output_type": "stream",
     "text": [
      "100%|██████████| 501/501 [01:08<00:00,  7.35it/s]\n",
      "Trying to mark a run completed that was already completed.\n"
     ]
    },
    {
     "data": {
      "application/vnd.plotly.v1+json": {
       "config": {
        "plotlyServerURL": "https://plot.ly"
       },
       "data": [
        {
         "mode": "lines",
         "name": "Voltage vs. Current",
         "type": "scatter",
         "x": [
          -0.000001,
          -9.96e-7,
          -9.92e-7,
          -9.88e-7,
          -9.84e-7,
          -9.8e-7,
          -9.76e-7,
          -9.72e-7,
          -9.68e-7,
          -9.64e-7,
          -9.6e-7,
          -9.56e-7,
          -9.52e-7,
          -9.48e-7,
          -9.44e-7,
          -9.4e-7,
          -9.36e-7,
          -9.32e-7,
          -9.28e-7,
          -9.24e-7,
          -9.2e-7,
          -9.16e-7,
          -9.12e-7,
          -9.08e-7,
          -9.04e-7,
          -9e-7,
          -8.96e-7,
          -8.92e-7,
          -8.88e-7,
          -8.84e-7,
          -8.8e-7,
          -8.76e-7,
          -8.72e-7,
          -8.68e-7,
          -8.64e-7,
          -8.6e-7,
          -8.56e-7,
          -8.52e-7,
          -8.48e-7,
          -8.44e-7,
          -8.4e-7,
          -8.36e-7,
          -8.32e-7,
          -8.28e-7,
          -8.24e-7,
          -8.2e-7,
          -8.16e-7,
          -8.12e-7,
          -8.08e-7,
          -8.04e-7,
          -8e-7,
          -7.96e-7,
          -7.92e-7,
          -7.88e-7,
          -7.84e-7,
          -7.8e-7,
          -7.76e-7,
          -7.72e-7,
          -7.68e-7,
          -7.64e-7,
          -7.6e-7,
          -7.56e-7,
          -7.52e-7,
          -7.48e-7,
          -7.44e-7,
          -7.4e-7,
          -7.36e-7,
          -7.32e-7,
          -7.28e-7,
          -7.24e-7,
          -7.2e-7,
          -7.16e-7,
          -7.12e-7,
          -7.08e-7,
          -7.04e-7,
          -7e-7,
          -6.96e-7,
          -6.92e-7,
          -6.88e-7,
          -6.84e-7,
          -6.8e-7,
          -6.76e-7,
          -6.72e-7,
          -6.68e-7,
          -6.64e-7,
          -6.6e-7,
          -6.56e-7,
          -6.52e-7,
          -6.48e-7,
          -6.44e-7,
          -6.4e-7,
          -6.36e-7,
          -6.32e-7,
          -6.28e-7,
          -6.24e-7,
          -6.2e-7,
          -6.16e-7,
          -6.12e-7,
          -6.08e-7,
          -6.04e-7,
          -6e-7,
          -5.96e-7,
          -5.92e-7,
          -5.88e-7,
          -5.84e-7,
          -5.8e-7,
          -5.76e-7,
          -5.72e-7,
          -5.68e-7,
          -5.64e-7,
          -5.6e-7,
          -5.56e-7,
          -5.52e-7,
          -5.48e-7,
          -5.44e-7,
          -5.4e-7,
          -5.36e-7,
          -5.32e-7,
          -5.28e-7,
          -5.24e-7,
          -5.2e-7,
          -5.16e-7,
          -5.12e-7,
          -5.08e-7,
          -5.04e-7,
          -5e-7,
          -4.96e-7,
          -4.92e-7,
          -4.88e-7,
          -4.84e-7,
          -4.8e-7,
          -4.76e-7,
          -4.72e-7,
          -4.68e-7,
          -4.64e-7,
          -4.6e-7,
          -4.56e-7,
          -4.52e-7,
          -4.48e-7,
          -4.44e-7,
          -4.4e-7,
          -4.36e-7,
          -4.32e-7,
          -4.28e-7,
          -4.24e-7,
          -4.2e-7,
          -4.16e-7,
          -4.12e-7,
          -4.08e-7,
          -4.04e-7,
          -4e-7,
          -3.96e-7,
          -3.92e-7,
          -3.88e-7,
          -3.84e-7,
          -3.8e-7,
          -3.76e-7,
          -3.72e-7,
          -3.68e-7,
          -3.64e-7,
          -3.6e-7,
          -3.56e-7,
          -3.52e-7,
          -3.48e-7,
          -3.44e-7,
          -3.4e-7,
          -3.36e-7,
          -3.32e-7,
          -3.28e-7,
          -3.24e-7,
          -3.2e-7,
          -3.16e-7,
          -3.12e-7,
          -3.08e-7,
          -3.04e-7,
          -3e-7,
          -2.96e-7,
          -2.92e-7,
          -2.88e-7,
          -2.84e-7,
          -2.8e-7,
          -2.76e-7,
          -2.72e-7,
          -2.68e-7,
          -2.64e-7,
          -2.6e-7,
          -2.56e-7,
          -2.52e-7,
          -2.48e-7,
          -2.44e-7,
          -2.4e-7,
          -2.36e-7,
          -2.32e-7,
          -2.28e-7,
          -2.24e-7,
          -2.2e-7,
          -2.16e-7,
          -2.12e-7,
          -2.08e-7,
          -2.04e-7,
          -2e-7,
          -1.96e-7,
          -1.92e-7,
          -1.88e-7,
          -1.84e-7,
          -1.8e-7,
          -1.76e-7,
          -1.72e-7,
          -1.68e-7,
          -1.64e-7,
          -1.6e-7,
          -1.56e-7,
          -1.52e-7,
          -1.48e-7,
          -1.44e-7,
          -1.4e-7,
          -1.36e-7,
          -1.32e-7,
          -1.28e-7,
          -1.24e-7,
          -1.2e-7,
          -1.16e-7,
          -1.12e-7,
          -1.08e-7,
          -1.04e-7,
          -1e-7,
          -9.60000000000001e-8,
          -9.20000000000001e-8,
          -8.8e-8,
          -8.40000000000001e-8,
          -8.00000000000001e-8,
          -7.60000000000001e-8,
          -7.20000000000001e-8,
          -6.80000000000001e-8,
          -6.40000000000001e-8,
          -6.00000000000001e-8,
          -5.60000000000001e-8,
          -5.20000000000001e-8,
          -4.80000000000001e-8,
          -4.40000000000001e-8,
          -4e-8,
          -3.60000000000002e-8,
          -3.20000000000001e-8,
          -2.80000000000002e-8,
          -2.40000000000001e-8,
          -2e-8,
          -1.60000000000001e-8,
          -1.20000000000001e-8,
          -8.00000000000018e-9,
          -4.00000000000009e-9,
          0,
          3.99999999999988e-9,
          7.99999999999997e-9,
          1.19999999999998e-8,
          1.59999999999999e-8,
          1.99999999999998e-8,
          2.39999999999999e-8,
          2.8e-8,
          3.19999999999999e-8,
          3.6e-8,
          3.99999999999998e-8,
          4.39999999999999e-8,
          4.79999999999998e-8,
          5.19999999999999e-8,
          5.6e-8,
          5.99999999999998e-8,
          6.4e-8,
          6.79999999999998e-8,
          7.19999999999999e-8,
          7.6e-8,
          7.99999999999999e-8,
          8.4e-8,
          8.79999999999999e-8,
          9.19999999999999e-8,
          9.59999999999998e-8,
          9.99999999999999e-8,
          1.04e-7,
          1.08e-7,
          1.12e-7,
          1.16e-7,
          1.2e-7,
          1.24e-7,
          1.28e-7,
          1.32e-7,
          1.36e-7,
          1.4e-7,
          1.44e-7,
          1.48e-7,
          1.52e-7,
          1.56e-7,
          1.6e-7,
          1.64e-7,
          1.68e-7,
          1.72e-7,
          1.76e-7,
          1.8e-7,
          1.84e-7,
          1.88e-7,
          1.92e-7,
          1.96e-7,
          2e-7,
          2.04e-7,
          2.08e-7,
          2.12e-7,
          2.16e-7,
          2.2e-7,
          2.24e-7,
          2.28e-7,
          2.32e-7,
          2.36e-7,
          2.4e-7,
          2.44e-7,
          2.48e-7,
          2.52e-7,
          2.56e-7,
          2.6e-7,
          2.64e-7,
          2.68e-7,
          2.72e-7,
          2.76e-7,
          2.8e-7,
          2.84e-7,
          2.88e-7,
          2.92e-7,
          2.96e-7,
          3e-7,
          3.04e-7,
          3.08e-7,
          3.12e-7,
          3.16e-7,
          3.2e-7,
          3.24e-7,
          3.28e-7,
          3.32e-7,
          3.36e-7,
          3.4e-7,
          3.44e-7,
          3.48e-7,
          3.52e-7,
          3.56e-7,
          3.6e-7,
          3.64e-7,
          3.68e-7,
          3.72e-7,
          3.76e-7,
          3.8e-7,
          3.84e-7,
          3.88e-7,
          3.92e-7,
          3.96e-7,
          4e-7,
          4.04e-7,
          4.08e-7,
          4.12e-7,
          4.16e-7,
          4.2e-7,
          4.24e-7,
          4.28e-7,
          4.32e-7,
          4.36e-7,
          4.4e-7,
          4.44e-7,
          4.48e-7,
          4.52e-7,
          4.56e-7,
          4.6e-7,
          4.64e-7,
          4.68e-7,
          4.72e-7,
          4.76e-7,
          4.8e-7,
          4.84e-7,
          4.88e-7,
          4.92e-7,
          4.96e-7,
          5e-7,
          5.04e-7,
          5.08e-7,
          5.12e-7,
          5.16e-7,
          5.2e-7,
          5.24e-7,
          5.28e-7,
          5.32e-7,
          5.36e-7,
          5.4e-7,
          5.44e-7,
          5.48e-7,
          5.52e-7,
          5.56e-7,
          5.6e-7,
          5.64e-7,
          5.68e-7,
          5.72e-7,
          5.76e-7,
          5.8e-7,
          5.84e-7,
          5.88e-7,
          5.92e-7,
          5.96e-7,
          6e-7,
          6.04e-7,
          6.08e-7,
          6.12e-7,
          6.16e-7,
          6.2e-7,
          6.24e-7,
          6.28e-7,
          6.32e-7,
          6.36e-7,
          6.4e-7,
          6.44e-7,
          6.48e-7,
          6.52e-7,
          6.56e-7,
          6.6e-7,
          6.64e-7,
          6.68e-7,
          6.72e-7,
          6.76e-7,
          6.8e-7,
          6.84e-7,
          6.88e-7,
          6.92e-7,
          6.96e-7,
          7e-7,
          7.04e-7,
          7.08e-7,
          7.12e-7,
          7.16e-7,
          7.2e-7,
          7.24e-7,
          7.28e-7,
          7.32e-7,
          7.36e-7,
          7.4e-7,
          7.44e-7,
          7.48e-7,
          7.52e-7,
          7.56e-7,
          7.6e-7,
          7.64e-7,
          7.68e-7,
          7.72e-7,
          7.76e-7,
          7.8e-7,
          7.84e-7,
          7.88e-7,
          7.92e-7,
          7.96e-7,
          8e-7,
          8.04e-7,
          8.08e-7,
          8.12e-7,
          8.16e-7,
          8.2e-7,
          8.24e-7,
          8.28e-7,
          8.32e-7,
          8.36e-7,
          8.4e-7,
          8.44e-7,
          8.48e-7,
          8.52e-7,
          8.56e-7,
          8.6e-7,
          8.64e-7,
          8.68e-7,
          8.72e-7,
          8.76e-7,
          8.8e-7,
          8.84e-7,
          8.88e-7,
          8.92e-7,
          8.96e-7,
          9e-7,
          9.04e-7,
          9.08e-7,
          9.12e-7,
          9.16e-7,
          9.2e-7,
          9.24e-7,
          9.28e-7,
          9.32e-7,
          9.36e-7,
          9.4e-7,
          9.44e-7,
          9.48e-7,
          9.52e-7,
          9.56e-7,
          9.6e-7,
          9.64e-7,
          9.68e-7,
          9.72e-7,
          9.76e-7,
          9.8e-7,
          9.84e-7,
          9.88e-7,
          9.92e-7,
          9.96e-7,
          0.000001
         ],
         "y": [
          -1.344346,
          -1.339539,
          -1.3338480000000001,
          -1.328559,
          -1.3233959999999998,
          -1.317755,
          -1.312635,
          -1.307105,
          -1.3018800000000001,
          -1.296546,
          -1.291217,
          -1.285808,
          -1.280224,
          -1.2748869999999999,
          -1.269643,
          -1.26417,
          -1.258808,
          -1.2536450000000001,
          -1.2481980000000001,
          -1.242574,
          -1.237464,
          -1.232058,
          -1.226149,
          -1.2212180000000001,
          -1.215759,
          -1.2105869999999999,
          -1.20503,
          -1.199487,
          -1.1947800000000002,
          -1.1888770000000002,
          -1.1833069999999999,
          -1.178178,
          -1.173257,
          -1.1677339999999998,
          -1.162005,
          -1.1565539999999999,
          -1.151203,
          -1.146014,
          -1.1404539999999999,
          -1.135498,
          -1.1298199999999998,
          -1.1243239999999999,
          -1.119047,
          -1.113569,
          -1.108455,
          -1.103254,
          -1.0977999999999999,
          -1.091933,
          -1.086757,
          -1.08155,
          -1.075914,
          -1.070636,
          -1.065673,
          -1.060258,
          -1.054363,
          -1.049386,
          -1.043679,
          -1.0388089999999999,
          -1.0329329999999999,
          -1.028087,
          -1.0222639999999998,
          -1.016814,
          -1.011449,
          -1.006414,
          -1.000827,
          -0.9956413,
          -0.990236,
          -0.9847893999999999,
          -0.9791508000000001,
          -0.9740260000000001,
          -0.9685497,
          -0.9634563,
          -0.9578831,
          -0.9525448,
          -0.9475189,
          -0.941434,
          -0.936637,
          -0.931273,
          -0.9254332,
          -0.9201874,
          -0.9151113000000001,
          -0.9095487,
          -0.9041407,
          -0.8993833,
          -0.893575,
          -0.8878571,
          -0.8827585,
          -0.8773751000000001,
          -0.8717292,
          -0.8667214,
          -0.8613412,
          -0.8558782,
          -0.8502984,
          -0.8452388,
          -0.839744,
          -0.8346597,
          -0.8290333,
          -0.8235805,
          -0.8179129,
          -0.8126281,
          -0.8071552,
          -0.8020056000000001,
          -0.7961593,
          -0.7910111999999999,
          -0.7858124,
          -0.780643,
          -0.7749083999999999,
          -0.7696438,
          -0.7639993,
          -0.7589117000000001,
          -0.7534984,
          -0.7479387,
          -0.7434285,
          -0.737426,
          -0.7325467999999999,
          -0.7268079,
          -0.7213544000000001,
          -0.7158547,
          -0.7103273,
          -0.7049114999999999,
          -0.6998176,
          -0.6943959,
          -0.6890426000000001,
          -0.6833182,
          -0.6781641,
          -0.6731304,
          -0.6676202999999999,
          -0.6624903,
          -0.6570352,
          -0.6514092,
          -0.645529,
          -0.6409113,
          -0.6348766,
          -0.6299017,
          -0.6243198,
          -0.6187436000000001,
          -0.6139163999999999,
          -0.6080194,
          -0.6029005000000001,
          -0.5975443,
          -0.5923604,
          -0.5865357999999999,
          -0.5816021,
          -0.5765429,
          -0.5707107,
          -0.5654341,
          -0.5602722,
          -0.5545458,
          -0.5494137,
          -0.5439875,
          -0.5388336,
          -0.5332103,
          -0.5279284,
          -0.522759,
          -0.5167679,
          -0.5115166,
          -0.5067872,
          -0.500901,
          -0.49548500000000006,
          -0.49035460000000003,
          -0.4852439,
          -0.4790684,
          -0.4744458,
          -0.4689211,
          -0.4634988,
          -0.4579588,
          -0.4522965,
          -0.44743730000000004,
          -0.4419324,
          -0.436452,
          -0.4311778,
          -0.42568690000000003,
          -0.420574,
          -0.415016,
          -0.40965179999999995,
          -0.4041506,
          -0.3990924,
          -0.3936196,
          -0.3885361,
          -0.3826487,
          -0.3771525,
          -0.3720304,
          -0.3664503,
          -0.3611489,
          -0.3562936,
          -0.35056030000000005,
          -0.3450624,
          -0.3395652,
          -0.3344602,
          -0.3288802,
          -0.3235764,
          -0.3182016,
          -0.31326180000000003,
          -0.3074404,
          -0.3019523,
          -0.29681070000000004,
          -0.2912264,
          -0.2856445,
          -0.2804778,
          -0.2750533,
          -0.2699087,
          -0.2642763,
          -0.25912599999999997,
          -0.2534847,
          -0.2483425,
          -0.2430772,
          -0.237396,
          -0.2325232,
          -0.2266523,
          -0.2212995,
          -0.2157476,
          -0.21059719999999998,
          -0.20501039999999998,
          -0.19982950000000002,
          -0.19471429999999998,
          -0.1888414,
          -0.1837472,
          -0.1782582,
          -0.1729715,
          -0.1675605,
          -0.1619409,
          -0.1567758,
          -0.15120119999999998,
          -0.1461431,
          -0.1406681,
          -0.1352387,
          -0.1297805,
          -0.12438759999999999,
          -0.11905400000000001,
          -0.1137844,
          -0.1086017,
          -0.1030512,
          -0.09747859,
          -0.09223625,
          -0.08701488,
          -0.08151055,
          -0.07604417000000001,
          -0.071133,
          -0.06504108,
          -0.059931830000000005,
          -0.05464747,
          -0.04940821,
          -0.043893129999999995,
          -0.038402200000000004,
          -0.0333788,
          -0.02791757,
          -0.022707019999999998,
          -0.01716061,
          -0.01177378,
          -0.006440543,
          -0.0008421511,
          0.005365844,
          0.01047944,
          0.01593764,
          0.02160221,
          0.02661354,
          0.032030909999999996,
          0.03774708,
          0.04284895,
          0.04828023,
          0.05360714,
          0.05908206,
          0.06469921,
          0.06992396000000001,
          0.07507517,
          0.08039104,
          0.08612723,
          0.09124316,
          0.09663182,
          0.1018374,
          0.1075626,
          0.1128813,
          0.1183775,
          0.12313569999999999,
          0.128987,
          0.1342755,
          0.139712,
          0.144811,
          0.1503855,
          0.155748,
          0.1611114,
          0.1667504,
          0.17190280000000002,
          0.1773017,
          0.1825002,
          0.188327,
          0.19332719999999998,
          0.19870010000000002,
          0.2042607,
          0.2096169,
          0.2147688,
          0.2202347,
          0.2254949,
          0.2310447,
          0.23631760000000002,
          0.2414847,
          0.2469268,
          0.252933,
          0.2574692,
          0.2631844,
          0.26904700000000004,
          0.27394799999999997,
          0.2793522,
          0.2844702,
          0.28990930000000004,
          0.29535310000000004,
          0.3007627,
          0.3060398,
          0.3118627,
          0.317084,
          0.3223991,
          0.3274103,
          0.332671,
          0.33864289999999997,
          0.3437099,
          0.34944050000000004,
          0.3546168,
          0.360073,
          0.3655866,
          0.3711833,
          0.3762181,
          0.3816156,
          0.3863741,
          0.3923373,
          0.3978973,
          0.4030873,
          0.4084578,
          0.4140598,
          0.4190006,
          0.4245237,
          0.4298517,
          0.4349512,
          0.4407078,
          0.4459345,
          0.4516297,
          0.4564479,
          0.46231890000000003,
          0.46761840000000005,
          0.4727858,
          0.4785621,
          0.483811,
          0.4890698,
          0.4940138,
          0.49954579999999993,
          0.505915,
          0.5107092,
          0.5159765,
          0.5213649,
          0.5267563,
          0.5320596,
          0.5375144000000001,
          0.5426592,
          0.548365,
          0.5534823,
          0.5585647,
          0.5646979000000001,
          0.5697155,
          0.5750716,
          0.5803276,
          0.5859823,
          0.5909126,
          0.5962407,
          0.6021926,
          0.6074724,
          0.6123345,
          0.6178537000000001,
          0.6235244,
          0.6288084,
          0.6339189,
          0.6395307,
          0.6449421000000001,
          0.6502095,
          0.6556377999999999,
          0.6612427,
          0.6663428,
          0.6717508,
          0.6772517,
          0.6826646000000001,
          0.6878139,
          0.693451,
          0.6981677,
          0.7044951,
          0.7090002,
          0.7148248,
          0.7199656999999999,
          0.7253548000000001,
          0.7312183999999999,
          0.7362923,
          0.7413384000000001,
          0.7470909,
          0.752479,
          0.7577718,
          0.7631616999999999,
          0.7682355,
          0.7739823,
          0.7794727,
          0.7847973,
          0.7906346,
          0.7952449,
          0.8008611,
          0.8061747,
          0.8112798,
          0.8169609999999999,
          0.8222479,
          0.8274143,
          0.8329962,
          0.8382898999999999,
          0.8437599,
          0.8491361000000001,
          0.8546767,
          0.8601052,
          0.8653263,
          0.8707801,
          0.8758555,
          0.8812829999999999,
          0.8868112,
          0.8922452999999999,
          0.8974255999999999,
          0.9029505,
          0.9084822,
          0.9132431000000001,
          0.9190308,
          0.9243809000000001,
          0.9298907,
          0.9349805,
          0.9404952999999999,
          0.9458327,
          0.9511554,
          0.9565172,
          0.9618918999999999,
          0.9673199,
          0.9728275,
          0.9779278,
          0.9834012999999999,
          0.9889085000000001,
          0.9944188,
          0.9997291,
          1.00487,
          1.010648,
          1.015716,
          1.021029,
          1.0262520000000002,
          1.032122,
          1.037075,
          1.04213,
          1.0482429999999998,
          1.053142,
          1.05856,
          1.064168,
          1.0692329999999999,
          1.0747280000000001,
          1.080158,
          1.0853659999999998,
          1.091138,
          1.096063,
          1.101197,
          1.106983,
          1.1122370000000001,
          1.117906,
          1.123484,
          1.128424,
          1.1337700000000002,
          1.139278,
          1.144839,
          1.14998,
          1.15514,
          1.1607729999999998,
          1.1662409999999999,
          1.1713520000000002,
          1.177077,
          1.182383,
          1.18783,
          1.193231,
          1.1986430000000001,
          1.203671,
          1.209415,
          1.214391,
          1.220203,
          1.225282,
          1.2303940000000002,
          1.2361010000000001,
          1.241532,
          1.246637,
          1.2520339999999999,
          1.257245,
          1.263015,
          1.2681820000000001,
          1.27359,
          1.279101,
          1.2842,
          1.289735,
          1.295188,
          1.30036,
          1.305423,
          1.310925,
          1.316949,
          1.321818,
          1.327288,
          1.332454,
          1.337782,
          1.343381
         ]
        }
       ],
       "layout": {
        "height": 960,
        "margin": {
         "b": 10,
         "l": 10,
         "r": 10,
         "t": 50
        },
        "template": {
         "data": {
          "bar": [
           {
            "error_x": {
             "color": "#2a3f5f"
            },
            "error_y": {
             "color": "#2a3f5f"
            },
            "marker": {
             "line": {
              "color": "#E5ECF6",
              "width": 0.5
             },
             "pattern": {
              "fillmode": "overlay",
              "size": 10,
              "solidity": 0.2
             }
            },
            "type": "bar"
           }
          ],
          "barpolar": [
           {
            "marker": {
             "line": {
              "color": "#E5ECF6",
              "width": 0.5
             },
             "pattern": {
              "fillmode": "overlay",
              "size": 10,
              "solidity": 0.2
             }
            },
            "type": "barpolar"
           }
          ],
          "carpet": [
           {
            "aaxis": {
             "endlinecolor": "#2a3f5f",
             "gridcolor": "white",
             "linecolor": "white",
             "minorgridcolor": "white",
             "startlinecolor": "#2a3f5f"
            },
            "baxis": {
             "endlinecolor": "#2a3f5f",
             "gridcolor": "white",
             "linecolor": "white",
             "minorgridcolor": "white",
             "startlinecolor": "#2a3f5f"
            },
            "type": "carpet"
           }
          ],
          "choropleth": [
           {
            "colorbar": {
             "outlinewidth": 0,
             "ticks": ""
            },
            "type": "choropleth"
           }
          ],
          "contour": [
           {
            "colorbar": {
             "outlinewidth": 0,
             "ticks": ""
            },
            "colorscale": [
             [
              0,
              "#0d0887"
             ],
             [
              0.1111111111111111,
              "#46039f"
             ],
             [
              0.2222222222222222,
              "#7201a8"
             ],
             [
              0.3333333333333333,
              "#9c179e"
             ],
             [
              0.4444444444444444,
              "#bd3786"
             ],
             [
              0.5555555555555556,
              "#d8576b"
             ],
             [
              0.6666666666666666,
              "#ed7953"
             ],
             [
              0.7777777777777778,
              "#fb9f3a"
             ],
             [
              0.8888888888888888,
              "#fdca26"
             ],
             [
              1,
              "#f0f921"
             ]
            ],
            "type": "contour"
           }
          ],
          "contourcarpet": [
           {
            "colorbar": {
             "outlinewidth": 0,
             "ticks": ""
            },
            "type": "contourcarpet"
           }
          ],
          "heatmap": [
           {
            "colorbar": {
             "outlinewidth": 0,
             "ticks": ""
            },
            "colorscale": [
             [
              0,
              "#0d0887"
             ],
             [
              0.1111111111111111,
              "#46039f"
             ],
             [
              0.2222222222222222,
              "#7201a8"
             ],
             [
              0.3333333333333333,
              "#9c179e"
             ],
             [
              0.4444444444444444,
              "#bd3786"
             ],
             [
              0.5555555555555556,
              "#d8576b"
             ],
             [
              0.6666666666666666,
              "#ed7953"
             ],
             [
              0.7777777777777778,
              "#fb9f3a"
             ],
             [
              0.8888888888888888,
              "#fdca26"
             ],
             [
              1,
              "#f0f921"
             ]
            ],
            "type": "heatmap"
           }
          ],
          "heatmapgl": [
           {
            "colorbar": {
             "outlinewidth": 0,
             "ticks": ""
            },
            "colorscale": [
             [
              0,
              "#0d0887"
             ],
             [
              0.1111111111111111,
              "#46039f"
             ],
             [
              0.2222222222222222,
              "#7201a8"
             ],
             [
              0.3333333333333333,
              "#9c179e"
             ],
             [
              0.4444444444444444,
              "#bd3786"
             ],
             [
              0.5555555555555556,
              "#d8576b"
             ],
             [
              0.6666666666666666,
              "#ed7953"
             ],
             [
              0.7777777777777778,
              "#fb9f3a"
             ],
             [
              0.8888888888888888,
              "#fdca26"
             ],
             [
              1,
              "#f0f921"
             ]
            ],
            "type": "heatmapgl"
           }
          ],
          "histogram": [
           {
            "marker": {
             "pattern": {
              "fillmode": "overlay",
              "size": 10,
              "solidity": 0.2
             }
            },
            "type": "histogram"
           }
          ],
          "histogram2d": [
           {
            "colorbar": {
             "outlinewidth": 0,
             "ticks": ""
            },
            "colorscale": [
             [
              0,
              "#0d0887"
             ],
             [
              0.1111111111111111,
              "#46039f"
             ],
             [
              0.2222222222222222,
              "#7201a8"
             ],
             [
              0.3333333333333333,
              "#9c179e"
             ],
             [
              0.4444444444444444,
              "#bd3786"
             ],
             [
              0.5555555555555556,
              "#d8576b"
             ],
             [
              0.6666666666666666,
              "#ed7953"
             ],
             [
              0.7777777777777778,
              "#fb9f3a"
             ],
             [
              0.8888888888888888,
              "#fdca26"
             ],
             [
              1,
              "#f0f921"
             ]
            ],
            "type": "histogram2d"
           }
          ],
          "histogram2dcontour": [
           {
            "colorbar": {
             "outlinewidth": 0,
             "ticks": ""
            },
            "colorscale": [
             [
              0,
              "#0d0887"
             ],
             [
              0.1111111111111111,
              "#46039f"
             ],
             [
              0.2222222222222222,
              "#7201a8"
             ],
             [
              0.3333333333333333,
              "#9c179e"
             ],
             [
              0.4444444444444444,
              "#bd3786"
             ],
             [
              0.5555555555555556,
              "#d8576b"
             ],
             [
              0.6666666666666666,
              "#ed7953"
             ],
             [
              0.7777777777777778,
              "#fb9f3a"
             ],
             [
              0.8888888888888888,
              "#fdca26"
             ],
             [
              1,
              "#f0f921"
             ]
            ],
            "type": "histogram2dcontour"
           }
          ],
          "mesh3d": [
           {
            "colorbar": {
             "outlinewidth": 0,
             "ticks": ""
            },
            "type": "mesh3d"
           }
          ],
          "parcoords": [
           {
            "line": {
             "colorbar": {
              "outlinewidth": 0,
              "ticks": ""
             }
            },
            "type": "parcoords"
           }
          ],
          "pie": [
           {
            "automargin": true,
            "type": "pie"
           }
          ],
          "scatter": [
           {
            "fillpattern": {
             "fillmode": "overlay",
             "size": 10,
             "solidity": 0.2
            },
            "type": "scatter"
           }
          ],
          "scatter3d": [
           {
            "line": {
             "colorbar": {
              "outlinewidth": 0,
              "ticks": ""
             }
            },
            "marker": {
             "colorbar": {
              "outlinewidth": 0,
              "ticks": ""
             }
            },
            "type": "scatter3d"
           }
          ],
          "scattercarpet": [
           {
            "marker": {
             "colorbar": {
              "outlinewidth": 0,
              "ticks": ""
             }
            },
            "type": "scattercarpet"
           }
          ],
          "scattergeo": [
           {
            "marker": {
             "colorbar": {
              "outlinewidth": 0,
              "ticks": ""
             }
            },
            "type": "scattergeo"
           }
          ],
          "scattergl": [
           {
            "marker": {
             "colorbar": {
              "outlinewidth": 0,
              "ticks": ""
             }
            },
            "type": "scattergl"
           }
          ],
          "scattermapbox": [
           {
            "marker": {
             "colorbar": {
              "outlinewidth": 0,
              "ticks": ""
             }
            },
            "type": "scattermapbox"
           }
          ],
          "scatterpolar": [
           {
            "marker": {
             "colorbar": {
              "outlinewidth": 0,
              "ticks": ""
             }
            },
            "type": "scatterpolar"
           }
          ],
          "scatterpolargl": [
           {
            "marker": {
             "colorbar": {
              "outlinewidth": 0,
              "ticks": ""
             }
            },
            "type": "scatterpolargl"
           }
          ],
          "scatterternary": [
           {
            "marker": {
             "colorbar": {
              "outlinewidth": 0,
              "ticks": ""
             }
            },
            "type": "scatterternary"
           }
          ],
          "surface": [
           {
            "colorbar": {
             "outlinewidth": 0,
             "ticks": ""
            },
            "colorscale": [
             [
              0,
              "#0d0887"
             ],
             [
              0.1111111111111111,
              "#46039f"
             ],
             [
              0.2222222222222222,
              "#7201a8"
             ],
             [
              0.3333333333333333,
              "#9c179e"
             ],
             [
              0.4444444444444444,
              "#bd3786"
             ],
             [
              0.5555555555555556,
              "#d8576b"
             ],
             [
              0.6666666666666666,
              "#ed7953"
             ],
             [
              0.7777777777777778,
              "#fb9f3a"
             ],
             [
              0.8888888888888888,
              "#fdca26"
             ],
             [
              1,
              "#f0f921"
             ]
            ],
            "type": "surface"
           }
          ],
          "table": [
           {
            "cells": {
             "fill": {
              "color": "#EBF0F8"
             },
             "line": {
              "color": "white"
             }
            },
            "header": {
             "fill": {
              "color": "#C8D4E3"
             },
             "line": {
              "color": "white"
             }
            },
            "type": "table"
           }
          ]
         },
         "layout": {
          "annotationdefaults": {
           "arrowcolor": "#2a3f5f",
           "arrowhead": 0,
           "arrowwidth": 1
          },
          "autotypenumbers": "strict",
          "coloraxis": {
           "colorbar": {
            "outlinewidth": 0,
            "ticks": ""
           }
          },
          "colorscale": {
           "diverging": [
            [
             0,
             "#8e0152"
            ],
            [
             0.1,
             "#c51b7d"
            ],
            [
             0.2,
             "#de77ae"
            ],
            [
             0.3,
             "#f1b6da"
            ],
            [
             0.4,
             "#fde0ef"
            ],
            [
             0.5,
             "#f7f7f7"
            ],
            [
             0.6,
             "#e6f5d0"
            ],
            [
             0.7,
             "#b8e186"
            ],
            [
             0.8,
             "#7fbc41"
            ],
            [
             0.9,
             "#4d9221"
            ],
            [
             1,
             "#276419"
            ]
           ],
           "sequential": [
            [
             0,
             "#0d0887"
            ],
            [
             0.1111111111111111,
             "#46039f"
            ],
            [
             0.2222222222222222,
             "#7201a8"
            ],
            [
             0.3333333333333333,
             "#9c179e"
            ],
            [
             0.4444444444444444,
             "#bd3786"
            ],
            [
             0.5555555555555556,
             "#d8576b"
            ],
            [
             0.6666666666666666,
             "#ed7953"
            ],
            [
             0.7777777777777778,
             "#fb9f3a"
            ],
            [
             0.8888888888888888,
             "#fdca26"
            ],
            [
             1,
             "#f0f921"
            ]
           ],
           "sequentialminus": [
            [
             0,
             "#0d0887"
            ],
            [
             0.1111111111111111,
             "#46039f"
            ],
            [
             0.2222222222222222,
             "#7201a8"
            ],
            [
             0.3333333333333333,
             "#9c179e"
            ],
            [
             0.4444444444444444,
             "#bd3786"
            ],
            [
             0.5555555555555556,
             "#d8576b"
            ],
            [
             0.6666666666666666,
             "#ed7953"
            ],
            [
             0.7777777777777778,
             "#fb9f3a"
            ],
            [
             0.8888888888888888,
             "#fdca26"
            ],
            [
             1,
             "#f0f921"
            ]
           ]
          },
          "colorway": [
           "#636efa",
           "#EF553B",
           "#00cc96",
           "#ab63fa",
           "#FFA15A",
           "#19d3f3",
           "#FF6692",
           "#B6E880",
           "#FF97FF",
           "#FECB52"
          ],
          "font": {
           "color": "#2a3f5f"
          },
          "geo": {
           "bgcolor": "white",
           "lakecolor": "white",
           "landcolor": "#E5ECF6",
           "showlakes": true,
           "showland": true,
           "subunitcolor": "white"
          },
          "hoverlabel": {
           "align": "left"
          },
          "hovermode": "closest",
          "mapbox": {
           "style": "light"
          },
          "paper_bgcolor": "white",
          "plot_bgcolor": "#E5ECF6",
          "polar": {
           "angularaxis": {
            "gridcolor": "white",
            "linecolor": "white",
            "ticks": ""
           },
           "bgcolor": "#E5ECF6",
           "radialaxis": {
            "gridcolor": "white",
            "linecolor": "white",
            "ticks": ""
           }
          },
          "scene": {
           "xaxis": {
            "backgroundcolor": "#E5ECF6",
            "gridcolor": "white",
            "gridwidth": 2,
            "linecolor": "white",
            "showbackground": true,
            "ticks": "",
            "zerolinecolor": "white"
           },
           "yaxis": {
            "backgroundcolor": "#E5ECF6",
            "gridcolor": "white",
            "gridwidth": 2,
            "linecolor": "white",
            "showbackground": true,
            "ticks": "",
            "zerolinecolor": "white"
           },
           "zaxis": {
            "backgroundcolor": "#E5ECF6",
            "gridcolor": "white",
            "gridwidth": 2,
            "linecolor": "white",
            "showbackground": true,
            "ticks": "",
            "zerolinecolor": "white"
           }
          },
          "shapedefaults": {
           "line": {
            "color": "#2a3f5f"
           }
          },
          "ternary": {
           "aaxis": {
            "gridcolor": "white",
            "linecolor": "white",
            "ticks": ""
           },
           "baxis": {
            "gridcolor": "white",
            "linecolor": "white",
            "ticks": ""
           },
           "bgcolor": "#E5ECF6",
           "caxis": {
            "gridcolor": "white",
            "linecolor": "white",
            "ticks": ""
           }
          },
          "title": {
           "x": 0.05
          },
          "xaxis": {
           "automargin": true,
           "gridcolor": "white",
           "linecolor": "white",
           "ticks": "",
           "title": {
            "standoff": 15
           },
           "zerolinecolor": "white",
           "zerolinewidth": 2
          },
          "yaxis": {
           "automargin": true,
           "gridcolor": "white",
           "linecolor": "white",
           "ticks": "",
           "title": {
            "standoff": 15
           },
           "zerolinecolor": "white",
           "zerolinewidth": 2
          }
         }
        },
        "title": {
         "font": {
          "size": 28
         },
         "text": "<b>#5 I-V</b> 005-2_13_14_35_36G, R_fit=1344.4389 Ω"
        },
        "width": 1080,
        "xaxis": {
         "tickfont": {
          "size": 16
         },
         "title": {
          "font": {
           "size": 20
          },
          "text": "appl_current"
         }
        },
        "yaxis": {
         "tickfont": {
          "size": 16
         },
         "title": {
          "font": {
           "size": 20
          },
          "text": "meas_voltage_K1 mV"
         }
        }
       }
      }
     },
     "metadata": {},
     "output_type": "display_data"
    },
    {
     "data": {
      "application/vnd.plotly.v1+json": {
       "config": {
        "plotlyServerURL": "https://plot.ly"
       },
       "data": [
        {
         "mode": "lines",
         "name": "d(Voltage)/d(Current)",
         "type": "scatter",
         "x": [
          -1000,
          -996.0000000000001,
          -992,
          -987.9999999999999,
          -984,
          -979.9999999999999,
          -976.0000000000001,
          -972,
          -968.0000000000001,
          -964,
          -959.9999999999999,
          -956,
          -952,
          -948,
          -944,
          -940,
          -936,
          -932,
          -928,
          -924,
          -920,
          -916,
          -912,
          -908,
          -904,
          -900,
          -896,
          -892,
          -888,
          -884,
          -880,
          -876,
          -872,
          -868,
          -864,
          -860,
          -856,
          -852,
          -848,
          -844,
          -840,
          -836,
          -832,
          -828,
          -824,
          -820,
          -816,
          -812,
          -808,
          -804,
          -800,
          -796,
          -792,
          -788,
          -784,
          -780,
          -776,
          -772,
          -768,
          -764,
          -760,
          -756,
          -752,
          -748,
          -744,
          -740,
          -736,
          -732,
          -728,
          -724,
          -720,
          -716,
          -712,
          -708,
          -704,
          -700,
          -696,
          -692,
          -688,
          -684,
          -680,
          -676,
          -672,
          -668,
          -664,
          -660,
          -656,
          -652,
          -648,
          -644,
          -640,
          -636,
          -632,
          -628,
          -624,
          -620,
          -616,
          -612,
          -608,
          -604,
          -600,
          -596,
          -592,
          -588,
          -584,
          -580,
          -576,
          -572,
          -568,
          -564,
          -560,
          -556,
          -552,
          -548,
          -544,
          -540,
          -536,
          -532,
          -528,
          -524,
          -520,
          -516,
          -512,
          -508.00000000000006,
          -503.99999999999994,
          -500,
          -496,
          -492,
          -488.00000000000006,
          -484.00000000000006,
          -479.99999999999994,
          -476,
          -472,
          -468,
          -464,
          -460,
          -456,
          -452,
          -448,
          -444,
          -440,
          -436,
          -432,
          -428,
          -424,
          -420,
          -416,
          -412,
          -408,
          -404,
          -400,
          -396,
          -392,
          -388,
          -384,
          -380,
          -376,
          -372,
          -368,
          -364,
          -360,
          -356,
          -352,
          -348,
          -344,
          -340,
          -336,
          -332,
          -328,
          -324,
          -320,
          -316,
          -312,
          -308,
          -304,
          -300,
          -296,
          -292,
          -288,
          -284,
          -280,
          -276,
          -272,
          -268,
          -264,
          -260,
          -256,
          -251.99999999999997,
          -248,
          -244.00000000000003,
          -239.99999999999997,
          -236,
          -232,
          -228,
          -224,
          -220,
          -216,
          -212,
          -208,
          -204,
          -200,
          -196,
          -192,
          -188,
          -184,
          -180,
          -176,
          -172,
          -168,
          -164,
          -160,
          -156,
          -152,
          -148,
          -144,
          -140,
          -136,
          -132,
          -128,
          -124,
          -119.99999999999999,
          -116,
          -112,
          -108,
          -104,
          -100,
          -96.0000000000001,
          -92.0000000000001,
          -88,
          -84.0000000000001,
          -80.0000000000001,
          -76.0000000000001,
          -72.0000000000001,
          -68.0000000000001,
          -64.0000000000001,
          -60.0000000000001,
          -56.0000000000001,
          -52.0000000000001,
          -48.0000000000001,
          -44.0000000000001,
          -40,
          -36.000000000000206,
          -32.0000000000001,
          -28.000000000000203,
          -24.0000000000001,
          -20,
          -16.0000000000001,
          -12.0000000000001,
          -8.000000000000181,
          -4.000000000000091,
          0,
          3.99999999999988,
          7.999999999999971,
          11.9999999999998,
          15.999999999999899,
          19.999999999999797,
          23.9999999999999,
          28,
          31.999999999999904,
          36,
          39.9999999999998,
          43.9999999999999,
          47.9999999999998,
          51.9999999999999,
          56,
          59.999999999999794,
          64,
          67.9999999999998,
          71.9999999999999,
          76,
          79.9999999999999,
          84,
          87.9999999999999,
          91.9999999999999,
          95.9999999999998,
          99.9999999999999,
          104,
          108,
          112,
          116,
          119.99999999999999,
          124,
          128,
          132,
          136,
          140,
          144,
          148,
          152,
          156,
          160,
          164,
          168,
          172,
          176,
          180,
          184,
          188,
          192,
          196,
          200,
          204,
          208,
          212,
          216,
          220,
          224,
          228,
          232,
          236,
          239.99999999999997,
          244.00000000000003,
          248,
          251.99999999999997,
          256,
          260,
          264,
          268,
          272,
          276,
          280,
          284,
          288,
          292,
          296,
          300,
          304,
          308,
          312,
          316,
          320,
          324,
          328,
          332,
          336,
          340,
          344,
          348,
          352,
          356,
          360,
          364,
          368,
          372,
          376,
          380,
          384,
          388,
          392,
          396,
          400,
          404,
          408,
          412,
          416,
          420,
          424,
          428,
          432,
          436,
          440,
          444,
          448,
          452,
          456,
          460,
          464,
          468,
          472,
          476,
          479.99999999999994,
          484.00000000000006,
          488.00000000000006,
          492,
          496,
          500,
          503.99999999999994,
          508.00000000000006,
          512,
          516,
          520,
          524,
          528,
          532,
          536,
          540,
          544,
          548,
          552,
          556,
          560,
          564,
          568,
          572,
          576,
          580,
          584,
          588,
          592,
          596,
          600,
          604,
          608,
          612,
          616,
          620,
          624,
          628,
          632,
          636,
          640,
          644,
          648,
          652,
          656,
          660,
          664,
          668,
          672,
          676,
          680,
          684,
          688,
          692,
          696,
          700,
          704,
          708,
          712,
          716,
          720,
          724,
          728,
          732,
          736,
          740,
          744,
          748,
          752,
          756,
          760,
          764,
          768,
          772,
          776,
          780,
          784,
          788,
          792,
          796,
          800,
          804,
          808,
          812,
          816,
          820,
          824,
          828,
          832,
          836,
          840,
          844,
          848,
          852,
          856,
          860,
          864,
          868,
          872,
          876,
          880,
          884,
          888,
          892,
          896,
          900,
          904,
          908,
          912,
          916,
          920,
          924,
          928,
          932,
          936,
          940,
          944,
          948,
          952,
          956,
          959.9999999999999,
          964,
          968.0000000000001,
          972,
          976.0000000000001,
          979.9999999999999,
          984,
          987.9999999999999,
          992,
          996.0000000000001
         ],
         "y": [
          1201.7500000000123,
          1422.749999999954,
          1322.2500000000002,
          1290.7500000000612,
          1410.2499999999202,
          1280.0000000000814,
          1382.4999999999447,
          1306.2500000000346,
          1333.4999999999873,
          1332.2499999999407,
          1352.2500000000557,
          1395.9999999999943,
          1334.2500000000073,
          1310.9999999999936,
          1368.2500000000007,
          1340.5000000000246,
          1290.7499999999727,
          1361.7500000000068,
          1405.9999999999889,
          1277.500000000008,
          1351.499999999981,
          1477.2500000000368,
          1232.749999999981,
          1364.7499999999998,
          1293.0000000000011,
          1389.2500000000061,
          1385.7500000000052,
          1176.7499999999663,
          1475.7500000000134,
          1392.5000000000302,
          1282.2499999999677,
          1230.2499999999957,
          1380.750000000035,
          1432.2499999999786,
          1362.7500000000225,
          1337.7500000000082,
          1297.2499999999325,
          1390.0000000000452,
          1238.999999999998,
          1419.5000000000218,
          1374.00000000001,
          1319.249999999988,
          1369.499999999957,
          1278.5000000000239,
          1300.250000000014,
          1363.5000000000073,
          1466.74999999998,
          1293.9999999999968,
          1301.7500000000375,
          1408.9999999999277,
          1319.500000000019,
          1240.7499999999984,
          1353.7500000000434,
          1473.7499999999818,
          1244.2499999999993,
          1426.7499999999627,
          1217.5000000000389,
          1468.9999999999884,
          1211.4999999999986,
          1455.7500000000236,
          1362.4999999999916,
          1341.2499999999736,
          1258.750000000011,
          1396.750000000016,
          1296.4250000000106,
          1351.3249999999755,
          1361.650000000027,
          1409.6499999999323,
          1281.200000000023,
          1369.075000000011,
          1273.3500000000024,
          1393.300000000005,
          1334.5750000000098,
          1256.4749999999608,
          1521.2250000000167,
          1199.2499999999955,
          1341.0000000000052,
          1459.9500000000194,
          1311.4500000000114,
          1269.0249999999576,
          1390.6500000000228,
          1351.9999999999889,
          1189.3500000000074,
          1452.075000000017,
          1429.4750000000083,
          1274.6499999999849,
          1345.8499999999701,
          1411.4750000000229,
          1251.949999999996,
          1345.050000000004,
          1365.7500000000157,
          1394.9499999999985,
          1264.8999999999876,
          1373.699999999989,
          1271.0750000000126,
          1406.6000000000138,
          1363.1999999999862,
          1416.9000000000026,
          1321.1999999999946,
          1368.2249999999922,
          1287.399999999996,
          1461.5750000000041,
          1287.0250000000308,
          1299.6999999999891,
          1292.3499999999692,
          1433.6500000000224,
          1316.149999999988,
          1411.125000000012,
          1271.8999999999958,
          1353.3250000000069,
          1389.924999999983,
          1127.5499999999938,
          1500.625000000012,
          1219.80000000001,
          1434.7250000000097,
          1363.3749999999918,
          1374.9250000000272,
          1381.849999999967,
          1353.9500000000032,
          1273.4749999999908,
          1355.4250000000184,
          1338.3249999999875,
          1431.1000000000201,
          1288.524999999966,
          1258.4250000000086,
          1377.5250000000194,
          1282.5000000000055,
          1363.7749999999926,
          1406.5000000000068,
          1470.0499999999552,
          1154.425000000024,
          1508.6749999999925,
          1243.7250000000101,
          1395.475000000015,
          1394.0499999999713,
          1206.8000000000222,
          1474.2499999999898,
          1279.724999999991,
          1339.050000000018,
          1295.9749999999926,
          1456.150000000005,
          1233.4249999999943,
          1264.800000000014,
          1458.0499999999754,
          1319.150000000008,
          1290.4750000000145,
          1431.5999999999822,
          1283.0249999999949,
          1356.5500000000225,
          1288.474999999966,
          1405.8250000000207,
          1320.4749999999992,
          1292.3499999999863,
          1497.775000000016,
          1312.8249999999925,
          1182.3499999999901,
          1471.5500000000177,
          1353.9999999999932,
          1282.5999999999956,
          1277.6750000000136,
          1543.875000000002,
          1155.6499999999928,
          1381.1750000000038,
          1355.5750000000016,
          1384.9999999999886,
          1415.5750000000116,
          1214.799999999999,
          1376.22500000001,
          1370.0999999999901,
          1318.5500000000068,
          1372.7249999999954,
          1278.2249999999945,
          1389.5000000000102,
          1341.0500000000088,
          1375.2999999999743,
          1264.5500000000102,
          1368.2000000000107,
          1270.8749999999818,
          1471.8500000000115,
          1374.05,
          1280.5249999999926,
          1395.0250000000106,
          1325.350000000008,
          1213.8249999999894,
          1433.324999999993,
          1374.4750000000095,
          1374.2999999999856,
          1276.2500000000155,
          1395.0000000000018,
          1325.9499999999919,
          1343.7000000000044,
          1234.9499999999994,
          1455.3499999999995,
          1372.0249999999915,
          1285.400000000005,
          1396.0750000000069,
          1395.474999999992,
          1291.6750000000036,
          1356.125000000004,
          1286.1499999999949,
          1408.0999999999967,
          1287.5750000000064,
          1410.3249999999873,
          1285.5500000000156,
          1316.3249999999914,
          1420.3000000000006,
          1218.1999999999998,
          1467.7249999999979,
          1338.200000000006,
          1387.974999999996,
          1287.6000000000015,
          1396.7000000000057,
          1295.2249999999926,
          1278.8000000000025,
          1468.225000000002,
          1273.550000000001,
          1372.2499999999936,
          1321.6750000000086,
          1352.7499999999916,
          1404.9000000000008,
          1291.2750000000028,
          1393.6499999999999,
          1264.5249999999974,
          1368.750000000004,
          1357.349999999995,
          1364.5500000000377,
          1348.2250000000004,
          1333.3999999999623,
          1317.400000000038,
          1295.674999999997,
          1387.6249999999998,
          1393.1525000000001,
          1310.585000000001,
          1305.342499999999,
          1376.082500000002,
          1366.5949999999968,
          1227.7925000000027,
          1522.9799999999998,
          1277.312499999999,
          1321.0899999999672,
          1309.8150000000662,
          1378.7699999999656,
          1372.7325000000328,
          1255.8499999999688,
          1365.3074999999662,
          1302.6375000000326,
          1386.6024999999993,
          1346.7075000000277,
          1333.3092499999698,
          1399.5979749999683,
          1551.9987750000464,
          1278.398999999971,
          1364.5500000000586,
          1416.1424999999645,
          1252.832500000032,
          1354.342499999965,
          1429.0424999999655,
          1275.4675000000302,
          1357.819999999968,
          1331.727500000065,
          1368.729999999967,
          1404.287500000034,
          1306.187499999967,
          1287.8024999999675,
          1328.9675000000686,
          1434.0474999999255,
          1278.982500000066,
          1347.1649999999627,
          1301.3949999999672,
          1431.3000000000402,
          1329.6749999999663,
          1374.050000000034,
          1189.5499999999972,
          1462.8250000000394,
          1322.1249999999668,
          1359.1249999999657,
          1274.7500000000011,
          1393.6250000000027,
          1340.6249999999905,
          1340.8500000000083,
          1409.7499999999945,
          1288.1000000000024,
          1349.7250000000058,
          1299.6249999999955,
          1456.6999999999923,
          1250.0500000000054,
          1343.2250000000029,
          1390.1499999999921,
          1339.0500000000043,
          1287.9750000000006,
          1366.4749999999963,
          1315.0500000000059,
          1387.449999999993,
          1318.225000000011,
          1291.7749999999953,
          1360.525,
          1501.5500000000022,
          1134.0499999999938,
          1428.799999999999,
          1465.6500000000115,
          1225.2499999999902,
          1351.0499999999947,
          1279.5000000000125,
          1359.775000000002,
          1360.949999999996,
          1352.4000000000033,
          1319.2749999999878,
          1455.7250000000054,
          1305.3249999999964,
          1328.7750000000106,
          1252.7999999999847,
          1315.175000000008,
          1492.9750000000054,
          1266.7499999999982,
          1432.6500000000067,
          1294.0749999999953,
          1364.049999999987,
          1378.4000000000062,
          1399.175000000016,
          1258.6999999999773,
          1349.3750000000152,
          1189.6250000000064,
          1490.7999999999759,
          1390.000000000018,
          1297.4999999999977,
          1342.624999999986,
          1400.5000000000073,
          1235.2000000000032,
          1380.774999999998,
          1331.999999999999,
          1274.8750000000073,
          1439.1499999999817,
          1306.6750000000095,
          1423.800000000011,
          1204.5500000000002,
          1467.7499999999898,
          1324.8750000000089,
          1291.8499999999956,
          1444.0749999999941,
          1312.2250000000047,
          1314.7000000000085,
          1235.9999999999886,
          1382.999999999989,
          1592.300000000022,
          1198.5499999999847,
          1316.8250000000012,
          1347.1000000000254,
          1347.8499999999651,
          1325.8250000000075,
          1363.7000000000212,
          1286.1999999999762,
          1426.4500000000066,
          1279.325000000007,
          1270.5999999999965,
          1533.3000000000145,
          1254.3999999999912,
          1339.0249999999917,
          1314.0000000000136,
          1413.674999999987,
          1232.5749999999862,
          1332.0250000000076,
          1487.975000000008,
          1319.9499999999923,
          1215.525000000016,
          1379.8000000000093,
          1417.674999999977,
          1321.0000000000155,
          1277.6249999999966,
          1402.950000000016,
          1352.8500000000076,
          1316.8499999999478,
          1357.0750000000119,
          1401.224999999997,
          1275.0250000000315,
          1351.9999999999889,
          1375.225000000021,
          1353.2249999999642,
          1287.3249999999975,
          1409.2750000000044,
          1179.1750000000072,
          1581.8500000000092,
          1126.2749999999926,
          1456.149999999986,
          1285.224999999986,
          1347.275000000031,
          1465.8999999999883,
          1268.4750000000204,
          1261.5250000000085,
          1438.1250000000034,
          1347.0249999999642,
          1323.2000000000069,
          1347.4749999999906,
          1268.4500000000119,
          1436.7000000000055,
          1372.6000000000204,
          1331.1499999999721,
          1459.324999999996,
          1152.5750000000164,
          1404.0499999999845,
          1328.4000000000183,
          1276.274999999997,
          1420.299999999959,
          1321.7250000000188,
          1291.6000000000188,
          1395.4749999999876,
          1323.4250000000022,
          1367.5000000000161,
          1344.0499999999797,
          1385.1499999999905,
          1357.1250000000018,
          1305.2750000000199,
          1363.4499999999903,
          1268.8500000000129,
          1356.8749999999618,
          1382.0500000000175,
          1358.5249999999912,
          1295.0750000000112,
          1381.2250000000072,
          1382.9250000000177,
          1190.2250000000076,
          1446.9249999999574,
          1337.5250000000128,
          1377.449999999994,
          1272.4500000000207,
          1378.6999999999864,
          1334.3500000000145,
          1330.6749999999727,
          1340.4500000000075,
          1343.6749999999959,
          1357.0000000000134,
          1376.899999999996,
          1275.0750000000214,
          1368.374999999953,
          1376.8000000000432,
          1377.5749999999823,
          1327.575000000008,
          1285.224999999986,
          1444.5000000000362,
          1266.9999999999718,
          1328.249999999967,
          1305.7500000000464,
          1467.4999999999648,
          1238.2500000000134,
          1263.7500000000355,
          1528.2499999999325,
          1224.7500000000175,
          1354.5000000000282,
          1402.0000000000173,
          1266.2499999999663,
          1373.7500000000332,
          1357.499999999931,
          1302.0000000000146,
          1443.0000000000125,
          1231.2500000000114,
          1283.499999999994,
          1446.5000000000134,
          1313.500000000033,
          1417.2499999999761,
          1394.4999999999534,
          1235.0000000000434,
          1336.5000000000157,
          1377.000000000003,
          1390.2499999999677,
          1285.2500000000148,
          1289.9999999999882,
          1408.2499999999802,
          1367.0000000000082,
          1277.750000000039,
          1431.249999999963,
          1326.4999999999857,
          1361.7500000000068,
          1350.2499999999884,
          1353.0000000000587,
          1256.9999999999563,
          1436.0000000000107,
          1243.9999999999895,
          1453.0000000000073,
          1269.7500000000216,
          1278.000000000016,
          1426.7500000000005,
          1357.749999999998,
          1276.2499999999816,
          1349.2499999999725,
          1302.749999999999,
          1442.5000000000045,
          1291.7500000000427,
          1351.9999999999889,
          1377.7499999999877,
          1274.7500000000123,
          1383.7500000000105,
          1363.2499999999943,
          1292.9999999999468,
          1265.7500000000462,
          1375.499999999943,
          1506.000000000069,
          1217.2499999999757,
          1367.5000000000523,
          1291.4999999999775,
          1331.9999999999638,
          1399.750000000046
         ]
        },
        {
         "marker": {
          "color": "red"
         },
         "mode": "markers",
         "name": "Top Two Peaks",
         "type": "scatter",
         "x": [
          372,
          520
         ],
         "y": [
          1592.300000000022,
          1581.8500000000092
         ]
        },
        {
         "marker": {
          "color": "blue",
          "symbol": "cross"
         },
         "mode": "markers",
         "name": "Center Points",
         "type": "scatter",
         "x": [
          4.46e-7
         ],
         "y": [
          0
         ]
        }
       ],
       "layout": {
        "annotations": [
         {
          "arrowcolor": "black",
          "arrowhead": 2,
          "arrowsize": 1,
          "arrowwidth": 2,
          "ax": -100,
          "ay": -200,
          "showarrow": true,
          "text": "Center Point: 446.000nA <br> Peak difference: 148.000 nA",
          "x": 446,
          "y": 0
         }
        ],
        "height": 600,
        "legend": {
         "orientation": "h",
         "x": 0.5,
         "xanchor": "center",
         "y": 1.1,
         "yanchor": "top"
        },
        "template": {
         "data": {
          "bar": [
           {
            "error_x": {
             "color": "#2a3f5f"
            },
            "error_y": {
             "color": "#2a3f5f"
            },
            "marker": {
             "line": {
              "color": "#E5ECF6",
              "width": 0.5
             },
             "pattern": {
              "fillmode": "overlay",
              "size": 10,
              "solidity": 0.2
             }
            },
            "type": "bar"
           }
          ],
          "barpolar": [
           {
            "marker": {
             "line": {
              "color": "#E5ECF6",
              "width": 0.5
             },
             "pattern": {
              "fillmode": "overlay",
              "size": 10,
              "solidity": 0.2
             }
            },
            "type": "barpolar"
           }
          ],
          "carpet": [
           {
            "aaxis": {
             "endlinecolor": "#2a3f5f",
             "gridcolor": "white",
             "linecolor": "white",
             "minorgridcolor": "white",
             "startlinecolor": "#2a3f5f"
            },
            "baxis": {
             "endlinecolor": "#2a3f5f",
             "gridcolor": "white",
             "linecolor": "white",
             "minorgridcolor": "white",
             "startlinecolor": "#2a3f5f"
            },
            "type": "carpet"
           }
          ],
          "choropleth": [
           {
            "colorbar": {
             "outlinewidth": 0,
             "ticks": ""
            },
            "type": "choropleth"
           }
          ],
          "contour": [
           {
            "colorbar": {
             "outlinewidth": 0,
             "ticks": ""
            },
            "colorscale": [
             [
              0,
              "#0d0887"
             ],
             [
              0.1111111111111111,
              "#46039f"
             ],
             [
              0.2222222222222222,
              "#7201a8"
             ],
             [
              0.3333333333333333,
              "#9c179e"
             ],
             [
              0.4444444444444444,
              "#bd3786"
             ],
             [
              0.5555555555555556,
              "#d8576b"
             ],
             [
              0.6666666666666666,
              "#ed7953"
             ],
             [
              0.7777777777777778,
              "#fb9f3a"
             ],
             [
              0.8888888888888888,
              "#fdca26"
             ],
             [
              1,
              "#f0f921"
             ]
            ],
            "type": "contour"
           }
          ],
          "contourcarpet": [
           {
            "colorbar": {
             "outlinewidth": 0,
             "ticks": ""
            },
            "type": "contourcarpet"
           }
          ],
          "heatmap": [
           {
            "colorbar": {
             "outlinewidth": 0,
             "ticks": ""
            },
            "colorscale": [
             [
              0,
              "#0d0887"
             ],
             [
              0.1111111111111111,
              "#46039f"
             ],
             [
              0.2222222222222222,
              "#7201a8"
             ],
             [
              0.3333333333333333,
              "#9c179e"
             ],
             [
              0.4444444444444444,
              "#bd3786"
             ],
             [
              0.5555555555555556,
              "#d8576b"
             ],
             [
              0.6666666666666666,
              "#ed7953"
             ],
             [
              0.7777777777777778,
              "#fb9f3a"
             ],
             [
              0.8888888888888888,
              "#fdca26"
             ],
             [
              1,
              "#f0f921"
             ]
            ],
            "type": "heatmap"
           }
          ],
          "heatmapgl": [
           {
            "colorbar": {
             "outlinewidth": 0,
             "ticks": ""
            },
            "colorscale": [
             [
              0,
              "#0d0887"
             ],
             [
              0.1111111111111111,
              "#46039f"
             ],
             [
              0.2222222222222222,
              "#7201a8"
             ],
             [
              0.3333333333333333,
              "#9c179e"
             ],
             [
              0.4444444444444444,
              "#bd3786"
             ],
             [
              0.5555555555555556,
              "#d8576b"
             ],
             [
              0.6666666666666666,
              "#ed7953"
             ],
             [
              0.7777777777777778,
              "#fb9f3a"
             ],
             [
              0.8888888888888888,
              "#fdca26"
             ],
             [
              1,
              "#f0f921"
             ]
            ],
            "type": "heatmapgl"
           }
          ],
          "histogram": [
           {
            "marker": {
             "pattern": {
              "fillmode": "overlay",
              "size": 10,
              "solidity": 0.2
             }
            },
            "type": "histogram"
           }
          ],
          "histogram2d": [
           {
            "colorbar": {
             "outlinewidth": 0,
             "ticks": ""
            },
            "colorscale": [
             [
              0,
              "#0d0887"
             ],
             [
              0.1111111111111111,
              "#46039f"
             ],
             [
              0.2222222222222222,
              "#7201a8"
             ],
             [
              0.3333333333333333,
              "#9c179e"
             ],
             [
              0.4444444444444444,
              "#bd3786"
             ],
             [
              0.5555555555555556,
              "#d8576b"
             ],
             [
              0.6666666666666666,
              "#ed7953"
             ],
             [
              0.7777777777777778,
              "#fb9f3a"
             ],
             [
              0.8888888888888888,
              "#fdca26"
             ],
             [
              1,
              "#f0f921"
             ]
            ],
            "type": "histogram2d"
           }
          ],
          "histogram2dcontour": [
           {
            "colorbar": {
             "outlinewidth": 0,
             "ticks": ""
            },
            "colorscale": [
             [
              0,
              "#0d0887"
             ],
             [
              0.1111111111111111,
              "#46039f"
             ],
             [
              0.2222222222222222,
              "#7201a8"
             ],
             [
              0.3333333333333333,
              "#9c179e"
             ],
             [
              0.4444444444444444,
              "#bd3786"
             ],
             [
              0.5555555555555556,
              "#d8576b"
             ],
             [
              0.6666666666666666,
              "#ed7953"
             ],
             [
              0.7777777777777778,
              "#fb9f3a"
             ],
             [
              0.8888888888888888,
              "#fdca26"
             ],
             [
              1,
              "#f0f921"
             ]
            ],
            "type": "histogram2dcontour"
           }
          ],
          "mesh3d": [
           {
            "colorbar": {
             "outlinewidth": 0,
             "ticks": ""
            },
            "type": "mesh3d"
           }
          ],
          "parcoords": [
           {
            "line": {
             "colorbar": {
              "outlinewidth": 0,
              "ticks": ""
             }
            },
            "type": "parcoords"
           }
          ],
          "pie": [
           {
            "automargin": true,
            "type": "pie"
           }
          ],
          "scatter": [
           {
            "fillpattern": {
             "fillmode": "overlay",
             "size": 10,
             "solidity": 0.2
            },
            "type": "scatter"
           }
          ],
          "scatter3d": [
           {
            "line": {
             "colorbar": {
              "outlinewidth": 0,
              "ticks": ""
             }
            },
            "marker": {
             "colorbar": {
              "outlinewidth": 0,
              "ticks": ""
             }
            },
            "type": "scatter3d"
           }
          ],
          "scattercarpet": [
           {
            "marker": {
             "colorbar": {
              "outlinewidth": 0,
              "ticks": ""
             }
            },
            "type": "scattercarpet"
           }
          ],
          "scattergeo": [
           {
            "marker": {
             "colorbar": {
              "outlinewidth": 0,
              "ticks": ""
             }
            },
            "type": "scattergeo"
           }
          ],
          "scattergl": [
           {
            "marker": {
             "colorbar": {
              "outlinewidth": 0,
              "ticks": ""
             }
            },
            "type": "scattergl"
           }
          ],
          "scattermapbox": [
           {
            "marker": {
             "colorbar": {
              "outlinewidth": 0,
              "ticks": ""
             }
            },
            "type": "scattermapbox"
           }
          ],
          "scatterpolar": [
           {
            "marker": {
             "colorbar": {
              "outlinewidth": 0,
              "ticks": ""
             }
            },
            "type": "scatterpolar"
           }
          ],
          "scatterpolargl": [
           {
            "marker": {
             "colorbar": {
              "outlinewidth": 0,
              "ticks": ""
             }
            },
            "type": "scatterpolargl"
           }
          ],
          "scatterternary": [
           {
            "marker": {
             "colorbar": {
              "outlinewidth": 0,
              "ticks": ""
             }
            },
            "type": "scatterternary"
           }
          ],
          "surface": [
           {
            "colorbar": {
             "outlinewidth": 0,
             "ticks": ""
            },
            "colorscale": [
             [
              0,
              "#0d0887"
             ],
             [
              0.1111111111111111,
              "#46039f"
             ],
             [
              0.2222222222222222,
              "#7201a8"
             ],
             [
              0.3333333333333333,
              "#9c179e"
             ],
             [
              0.4444444444444444,
              "#bd3786"
             ],
             [
              0.5555555555555556,
              "#d8576b"
             ],
             [
              0.6666666666666666,
              "#ed7953"
             ],
             [
              0.7777777777777778,
              "#fb9f3a"
             ],
             [
              0.8888888888888888,
              "#fdca26"
             ],
             [
              1,
              "#f0f921"
             ]
            ],
            "type": "surface"
           }
          ],
          "table": [
           {
            "cells": {
             "fill": {
              "color": "#EBF0F8"
             },
             "line": {
              "color": "white"
             }
            },
            "header": {
             "fill": {
              "color": "#C8D4E3"
             },
             "line": {
              "color": "white"
             }
            },
            "type": "table"
           }
          ]
         },
         "layout": {
          "annotationdefaults": {
           "arrowcolor": "#2a3f5f",
           "arrowhead": 0,
           "arrowwidth": 1
          },
          "autotypenumbers": "strict",
          "coloraxis": {
           "colorbar": {
            "outlinewidth": 0,
            "ticks": ""
           }
          },
          "colorscale": {
           "diverging": [
            [
             0,
             "#8e0152"
            ],
            [
             0.1,
             "#c51b7d"
            ],
            [
             0.2,
             "#de77ae"
            ],
            [
             0.3,
             "#f1b6da"
            ],
            [
             0.4,
             "#fde0ef"
            ],
            [
             0.5,
             "#f7f7f7"
            ],
            [
             0.6,
             "#e6f5d0"
            ],
            [
             0.7,
             "#b8e186"
            ],
            [
             0.8,
             "#7fbc41"
            ],
            [
             0.9,
             "#4d9221"
            ],
            [
             1,
             "#276419"
            ]
           ],
           "sequential": [
            [
             0,
             "#0d0887"
            ],
            [
             0.1111111111111111,
             "#46039f"
            ],
            [
             0.2222222222222222,
             "#7201a8"
            ],
            [
             0.3333333333333333,
             "#9c179e"
            ],
            [
             0.4444444444444444,
             "#bd3786"
            ],
            [
             0.5555555555555556,
             "#d8576b"
            ],
            [
             0.6666666666666666,
             "#ed7953"
            ],
            [
             0.7777777777777778,
             "#fb9f3a"
            ],
            [
             0.8888888888888888,
             "#fdca26"
            ],
            [
             1,
             "#f0f921"
            ]
           ],
           "sequentialminus": [
            [
             0,
             "#0d0887"
            ],
            [
             0.1111111111111111,
             "#46039f"
            ],
            [
             0.2222222222222222,
             "#7201a8"
            ],
            [
             0.3333333333333333,
             "#9c179e"
            ],
            [
             0.4444444444444444,
             "#bd3786"
            ],
            [
             0.5555555555555556,
             "#d8576b"
            ],
            [
             0.6666666666666666,
             "#ed7953"
            ],
            [
             0.7777777777777778,
             "#fb9f3a"
            ],
            [
             0.8888888888888888,
             "#fdca26"
            ],
            [
             1,
             "#f0f921"
            ]
           ]
          },
          "colorway": [
           "#636efa",
           "#EF553B",
           "#00cc96",
           "#ab63fa",
           "#FFA15A",
           "#19d3f3",
           "#FF6692",
           "#B6E880",
           "#FF97FF",
           "#FECB52"
          ],
          "font": {
           "color": "#2a3f5f"
          },
          "geo": {
           "bgcolor": "white",
           "lakecolor": "white",
           "landcolor": "#E5ECF6",
           "showlakes": true,
           "showland": true,
           "subunitcolor": "white"
          },
          "hoverlabel": {
           "align": "left"
          },
          "hovermode": "closest",
          "mapbox": {
           "style": "light"
          },
          "paper_bgcolor": "white",
          "plot_bgcolor": "#E5ECF6",
          "polar": {
           "angularaxis": {
            "gridcolor": "white",
            "linecolor": "white",
            "ticks": ""
           },
           "bgcolor": "#E5ECF6",
           "radialaxis": {
            "gridcolor": "white",
            "linecolor": "white",
            "ticks": ""
           }
          },
          "scene": {
           "xaxis": {
            "backgroundcolor": "#E5ECF6",
            "gridcolor": "white",
            "gridwidth": 2,
            "linecolor": "white",
            "showbackground": true,
            "ticks": "",
            "zerolinecolor": "white"
           },
           "yaxis": {
            "backgroundcolor": "#E5ECF6",
            "gridcolor": "white",
            "gridwidth": 2,
            "linecolor": "white",
            "showbackground": true,
            "ticks": "",
            "zerolinecolor": "white"
           },
           "zaxis": {
            "backgroundcolor": "#E5ECF6",
            "gridcolor": "white",
            "gridwidth": 2,
            "linecolor": "white",
            "showbackground": true,
            "ticks": "",
            "zerolinecolor": "white"
           }
          },
          "shapedefaults": {
           "line": {
            "color": "#2a3f5f"
           }
          },
          "ternary": {
           "aaxis": {
            "gridcolor": "white",
            "linecolor": "white",
            "ticks": ""
           },
           "baxis": {
            "gridcolor": "white",
            "linecolor": "white",
            "ticks": ""
           },
           "bgcolor": "#E5ECF6",
           "caxis": {
            "gridcolor": "white",
            "linecolor": "white",
            "ticks": ""
           }
          },
          "title": {
           "x": 0.05
          },
          "xaxis": {
           "automargin": true,
           "gridcolor": "white",
           "linecolor": "white",
           "ticks": "",
           "title": {
            "standoff": 15
           },
           "zerolinecolor": "white",
           "zerolinewidth": 2
          },
          "yaxis": {
           "automargin": true,
           "gridcolor": "white",
           "linecolor": "white",
           "ticks": "",
           "title": {
            "standoff": 15
           },
           "zerolinecolor": "white",
           "zerolinewidth": 2
          }
         }
        },
        "title": {
         "text": "Run #<built-in function id> I vs. dV/dI"
        },
        "width": 600,
        "xaxis": {
         "title": {
          "text": "Current (nA)"
         }
        },
        "yaxis": {
         "title": {
          "text": "d(Voltage)/d(Current)"
         }
        }
       }
      }
     },
     "metadata": {},
     "output_type": "display_data"
    },
    {
     "data": {
      "application/vnd.jupyter.widget-view+json": {
       "model_id": "63069a12d0de4ef9991dc508bb65ab3f",
       "version_major": 2,
       "version_minor": 0
      },
      "image/png": "[encoded data removed]",
      "text/html": [
       "\n",
       "            <div style=\"display: inline-block;\">\n",
       "                <div class=\"jupyter-widgets widget-label\" style=\"text-align: center;\">\n",
       "                    Figure\n",
       "                </div>\n",
       "                <img src='data:image/png;base64,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' width=640.0/>\n",
       "            </div>\n",
       "        "
      ],
      "text/plain": [
       "Canvas(toolbar=Toolbar(toolitems=[('Home', 'Reset original view', 'home', 'home'), ('Back', 'Back to previous …"
      ]
     },
     "metadata": {},
     "output_type": "display_data"
    }
   ],
   "source": [
    "I_range=1e-6\n",
    "K2440.output(1)\n",
    "appl_current(-I_range) #Limit:1e-5 Amp(1MOhms risistor),1e-6 Amp(10MOhms risistor)\n",
    "sleep(2)\n",
    "# station.snapshot(update=True);\n",
    "exp = qc.new_experiment('I-V', sample_name='005-2_13_14_35_36G')\n",
    "dataid = do1d(appl_current, -I_range ,I_range, 501, 0.03, meas_voltage_K1)\n",
    "appl_current(0)\n",
    "K2440.output(0)\n",
    "\n",
    "plot_by_id(dataid)\n",
    "#save_path = r\"C:\\qcodes\\personal_scripts\\Albert\\104\\Plot\\104_{}.png\".format(dataid)  # Path to save the plot image\n",
    "#autosave_plot_by_id(dataid, save_path)\n",
    "# print(f\"R = {get_R_from_IV(dataid)}\")\n",
    "# dataset = qc.load_by_id(dataid)\n",
    "IV(dataid)\n",
    "IV_diff(dataid)"
   ]
  },
  {
   "cell_type": "code",
   "execution_count": null,
   "id": "ee32ef77",
   "metadata": {},
   "outputs": [],
   "source": [
    "get_R_from_IV(dataid)"
   ]
  },
  {
   "cell_type": "code",
   "execution_count": null,
   "id": "ae71124e",
   "metadata": {},
   "outputs": [],
   "source": [
    "dataset = qc.load_by_id(dataid)\n",
    "get_R_from_IV(dataid)\n",
    "IV(dataid)\n",
    "IV_diff(dataid)"
   ]
  },
  {
   "cell_type": "code",
   "execution_count": 32,
   "id": "795c08e0",
   "metadata": {},
   "outputs": [],
   "source": [
    "import plotly.graph_objs as go"
   ]
  },
  {
   "cell_type": "code",
   "execution_count": null,
   "id": "ea6a7850",
   "metadata": {},
   "outputs": [],
   "source": []
  },
  {
   "cell_type": "code",
   "execution_count": null,
   "id": "9ca53ea4",
   "metadata": {},
   "outputs": [],
   "source": [
    "for i in tqdm(range(1000)):\n",
    "    K2440.output(1)\n",
    "    I_range=1e-6\n",
    "    appl_current(-I_range) #Limit:1e-5 Amp(1MOhms risistor),1e-6 Amp(10MOhms risistor)\n",
    "    sleep(0.001)\n",
    "    # station.snapshot(update=True);\n",
    "    exp = qc.new_experiment('I-V', sample_name=f'103-03_J1_33-32-30-31_1M_F{i+1}')\n",
    "    dataid = do1d(appl_current, -I_range ,I_range, 101, 0.0001, meas_voltage_K2, meas_voltage_AC_L1,meas_voltage_AC_L1_P)\n",
    "    exp = qc.new_experiment('I-V', sample_name=f'103-03_J1_33-32-30-31_1M_B{i+1}')\n",
    "    dataid = do1d(appl_current, I_range ,-I_range, 101, 0.0001, meas_voltage_K2)\n",
    "    K2440.output(0)\n",
    "    clear_output(True)"
   ]
  },
  {
   "cell_type": "code",
   "execution_count": null,
   "id": "ffc1e4dd",
   "metadata": {},
   "outputs": [],
   "source": [
    "get_Mag()"
   ]
  },
  {
   "cell_type": "code",
   "execution_count": null,
   "id": "2908c940",
   "metadata": {},
   "outputs": [],
   "source": [
    "SGS.off()"
   ]
  },
  {
   "cell_type": "code",
   "execution_count": null,
   "id": "d82eb13a",
   "metadata": {},
   "outputs": [],
   "source": [
    "SGS.power(0)"
   ]
  },
  {
   "cell_type": "code",
   "execution_count": null,
   "id": "242d95fc",
   "metadata": {},
   "outputs": [],
   "source": [
    "DMM6500.averaging_count(5)\n",
    "DMM6500.averaging_enabled(True)"
   ]
  },
  {
   "cell_type": "code",
   "execution_count": null,
   "id": "e0c518ad",
   "metadata": {},
   "outputs": [],
   "source": [
    "for i in tqdm(range(21)):\n",
    "    I_range = round(round(0.55 + 5*i * 1e-4, 6)* 1e-6, 10)  # Round to 3 decimal places\n",
    "    print(I_range)\n"
   ]
  },
  {
   "cell_type": "code",
   "execution_count": null,
   "id": "78e3e90f",
   "metadata": {},
   "outputs": [],
   "source": []
  },
  {
   "cell_type": "code",
   "execution_count": null,
   "id": "0999a81b",
   "metadata": {},
   "outputs": [],
   "source": [
    "for i in tqdm(range(21)):\n",
    "    K2440.output(1)\n",
    "    I_range = round(round(0.55 + 5*i * 1e-4, 6)* 1e-6, 10) \n",
    "    appl_current(-I_range) #Limit:1e-5 Amp(1MOhms risistor),1e-6 Amp(10MOhms risistor)\n",
    "    sleep(2)\n",
    "    # station.snapshot(update=True);\n",
    "    exp = qc.new_experiment('I-V', sample_name=f'103-04_J1_24-25-05-04(06-07G)_1M_By@0mT_{-I_range}_201')\n",
    "    dataid = do1d(appl_current, -I_range ,I_range, 201, 0.00001, meas_voltage_K2)\n",
    "\n",
    "    appl_current(0)\n",
    "    K2440.output(0)\n",
    "\n",
    "\n",
    "    plot_by_id(dataid)\n",
    "    save_path = r\"D:\\data\\Albert\\103\\Plot\\104_{}.png\".format(dataid)  # Path to save the plot image\n",
    "    autosave_plot_by_id(dataid, save_path)\n",
    "    print(f\"ID:{dataid}\")\n",
    "    print(f\"R = {get_R_from_IV_2(dataid)}\")\n",
    "    dataset = qc.load_by_id(dataid)\n",
    "    IV(id=dataid)\n",
    "    IV_diff(id=dataid)"
   ]
  },
  {
   "cell_type": "code",
   "execution_count": null,
   "id": "e9ac98ca",
   "metadata": {},
   "outputs": [],
   "source": [
    "DMM6500.averaging_count(5)\n",
    "DMM6500.averaging_enabled(True)"
   ]
  },
  {
   "cell_type": "code",
   "execution_count": null,
   "id": "ad55deb3",
   "metadata": {},
   "outputs": [],
   "source": [
    "K2440.output(1)\n",
    "I_range = -6e-6\n",
    "appl_current(-I_range) #Limit:1e-5 Amp(1MOhms risistor),1e-6 Amp(10MOhms risistor)\n",
    "sleep(2)\n",
    "# station.snapshot(update=True);\n",
    "exp = qc.new_experiment('I-V', sample_name=f'103-03_J2_27-26-30-31M(32G-33G-28G-29G)_1M_By@0.1mT{-I_range}')\n",
    "dataid = do1d(appl_current, -I_range  ,I_range , 2601, 0.00001, meas_voltage_K2)\n",
    "appl_current(0)\n",
    "K2440.output(0)\n",
    "plot_by_id(dataid)\n",
    "save_path = r\"D:\\data\\Albert\\103\\Plot\\104_{}.png\".format(dataid)  # Path to save the plot image\n",
    "autosave_plot_by_id(dataid, save_path)\n",
    "print(f\"R = {get_R_from_IV_2(dataid)}\")\n",
    "dataset = qc.load_by_id(dataid)"
   ]
  },
  {
   "cell_type": "code",
   "execution_count": null,
   "id": "2b0e1832",
   "metadata": {},
   "outputs": [],
   "source": [
    "K2440.output(1)\n",
    "I_range = 6e-6\n",
    "appl_current(-I_range) #Limit:1e-5 Amp(1MOhms risistor),1e-6 Amp(10MOhms risistor)\n",
    "sleep(2)\n",
    "# station.snapshot(update=True);\n",
    "exp = qc.new_experiment('I-V', sample_name=f'103-03_J2_27-26-30-31M(32G-33G-28G-29G)_1M_By@0.1mT{-I_range}')\n",
    "dataid = do1d(appl_current, -I_range  ,I_range , 2601, 0.00001, meas_voltage_K2)\n",
    "appl_current(0)\n",
    "K2440.output(0)\n",
    "plot_by_id(dataid)\n",
    "save_path = r\"D:\\data\\Albert\\103\\Plot\\104_{}.png\".format(dataid)  # Path to save the plot image\n",
    "autosave_plot_by_id(dataid, save_path)\n",
    "print(f\"ID:{dataid}\")\n",
    "print(f\"R = {get_R_from_IV_2(dataid)}\")\n",
    "dataset = qc.load_by_id(dataid)\n",
    "# IV(id=dataid)\n",
    "# IV_diff(id=dataid)"
   ]
  },
  {
   "cell_type": "code",
   "execution_count": null,
   "id": "e90dc212",
   "metadata": {},
   "outputs": [],
   "source": [
    "25-05-06-07(04-24G)\n"
   ]
  },
  {
   "cell_type": "code",
   "execution_count": null,
   "id": "5c79e45a",
   "metadata": {},
   "outputs": [],
   "source": [
    "K2440.output(1)\n",
    "I_range=-7e-6\n",
    "appl_current(-I_range) #Limit:1e-5 Amp(1MOhms risistor),1e-6 Amp(10MOhms risistor)\n",
    "sleep(2)\n",
    "# station.snapshot(update=True);\n",
    "exp = qc.new_experiment('I-V', sample_name='103-03_J2_32-30-26-27_1M_By@0mT')\n",
    "dataid = do1d(appl_current, -I_range ,I_range, 1401, 0.0001, meas_voltage_K2)\n",
    "\n",
    "appl_current(0)\n",
    "K2440.output(0)\n",
    "\n",
    "\n",
    "plot_by_id(dataid)\n",
    "save_path = r\"D:\\data\\Albert\\103\\Plot\\104_{}.png\".format(dataid)  # Path to save the plot image\n",
    "autosave_plot_by_id(dataid, save_path)\n",
    "print(f\"ID:{dataid}\")\n",
    "print(f\"R = {get_R_from_IV_2(dataid)}\")\n",
    "dataset = qc.load_by_id(dataid)\n",
    "IV(id=dataid)\n",
    "IV_diff(id=dataid)"
   ]
  },
  {
   "cell_type": "code",
   "execution_count": null,
   "id": "8666f593",
   "metadata": {},
   "outputs": [],
   "source": [
    "K2440.output(1)\n",
    "I_range=7e-6\n",
    "appl_current(-I_range) #Limit:1e-5 Amp(1MOhms risistor),1e-6 Amp(10MOhms risistor)\n",
    "sleep(2)\n",
    "# station.snapshot(update=True);\n",
    "exp = qc.new_experiment('I-V', sample_name='103-03_J2_32-30-26-27_1M_By@0mT')\n",
    "dataid = do1d(appl_current, -I_range ,I_range, 1401, 0.0001, meas_voltage_K2)\n",
    "\n",
    "appl_current(0)\n",
    "K2440.output(0)\n",
    "\n",
    "\n",
    "plot_by_id(dataid)\n",
    "save_path = r\"D:\\data\\Albert\\103\\Plot\\104_{}.png\".format(dataid)  # Path to save the plot image\n",
    "autosave_plot_by_id(dataid, save_path)\n",
    "print(f\"ID:{dataid}\")\n",
    "print(f\"R = {get_R_from_IV_2(dataid)}\")\n",
    "dataset = qc.load_by_id(dataid)\n",
    "IV(id=dataid)\n",
    "IV_diff(id=dataid)"
   ]
  },
  {
   "cell_type": "code",
   "execution_count": null,
   "id": "4ce7045d",
   "metadata": {},
   "outputs": [],
   "source": [
    "# Set current to 0\n",
    "K2440.output(0)\n",
    "appl_current(0e-6)"
   ]
  },
  {
   "cell_type": "code",
   "execution_count": null,
   "id": "749b64e4",
   "metadata": {},
   "outputs": [],
   "source": [
    "K2440.output(1)\n",
    "appl_current(0.1e-7)"
   ]
  },
  {
   "cell_type": "code",
   "execution_count": null,
   "id": "9f4da299",
   "metadata": {
    "scrolled": true
   },
   "outputs": [],
   "source": [
    "runid=6\n",
    "print(get_R_from_IV_2(runid))"
   ]
  },
  {
   "cell_type": "markdown",
   "id": "3196b90e",
   "metadata": {},
   "source": [
    "## 加TG (1D)"
   ]
  },
  {
   "cell_type": "code",
   "execution_count": null,
   "id": "08a5e298",
   "metadata": {},
   "outputs": [],
   "source": [
    "K2440.output(1)\n",
    "appl_TG(0)"
   ]
  },
  {
   "cell_type": "code",
   "execution_count": null,
   "id": "a6f95af5",
   "metadata": {},
   "outputs": [],
   "source": [
    "K2440.output(1)\n",
    "K2440.output(1)\n",
    "appl_TG(-50)\n",
    "sleep(3)\n",
    "appl_current(-1.5e-8)\n",
    "sleep(1)\n",
    "\n",
    "# station.snapshot(update=True);\n",
    "exp = qc.new_experiment('IV', sample_name='TG21')\n",
    "\n",
    "#do1d(param_set, start, stop, num_points, delay, *param_meas)\n",
    "dataid = do1d(appl_current, -1.5e-8 ,1.5e-8, 101, 0.05, meas_voltage_K2)\n",
    "# dataid = do1d(appl_current, 6e-6 , -6e-6, 251, 0.01, meas_voltage_K1)\n",
    "# ivvi.set_dacs_zero()\n",
    "\n",
    "K2440.output(0)\n",
    "K2440.output(0)\n",
    "appl_current(0)\n",
    "plot_by_id(dataid)\n",
    "#print(get_R_from_IV(dataid))\n",
    "# print(get_R_from_IV_2(dataid))\n"
   ]
  },
  {
   "cell_type": "markdown",
   "id": "05b0d19b",
   "metadata": {},
   "source": [
    "## 歸零\n"
   ]
  },
  {
   "cell_type": "code",
   "execution_count": null,
   "id": "d8154670",
   "metadata": {},
   "outputs": [],
   "source": [
    "#K2440.output(1)\n",
    "K2440.output(1)\n",
    "\n",
    "appl_current(0)\n",
    "sleep(1)\n",
    "#appl_TG(0)\n",
    "sleep(5)\n",
    "\n",
    "#K2440.output(0)\n",
    "K2440.output(0)"
   ]
  },
  {
   "cell_type": "markdown",
   "id": "91795bf5",
   "metadata": {},
   "source": [
    "# Magnetic field"
   ]
  },
  {
   "cell_type": "markdown",
   "id": "c1b88abd",
   "metadata": {},
   "source": [
    "## IV vs Bx"
   ]
  },
  {
   "cell_type": "code",
   "execution_count": null,
   "id": "77c31bf1",
   "metadata": {},
   "outputs": [],
   "source": [
    "K2440.rangev()"
   ]
  },
  {
   "cell_type": "code",
   "execution_count": null,
   "id": "ea5d8a7d",
   "metadata": {},
   "outputs": [],
   "source": [
    "K2440.volt(0)\n",
    "K2440.output(1) #output off\n",
    "sleep(1)\n",
    "appl_current(1.5e-7)\n",
    "sleep(2)\n",
    "meas_voltage_K2()"
   ]
  },
  {
   "cell_type": "code",
   "execution_count": null,
   "id": "e083479a",
   "metadata": {},
   "outputs": [],
   "source": [
    "sleep(120)"
   ]
  },
  {
   "cell_type": "code",
   "execution_count": null,
   "id": "6c69dc40",
   "metadata": {},
   "outputs": [],
   "source": [
    "def get_Mag(show=True):\n",
    "    Mag_x = magnet_x.field()\n",
    "    Mag_y = magnet_y.field()\n",
    "    Mag_z = magnet_z.field()\n",
    "    if show:\n",
    "        print(f\"Mag_x: {Mag_x*1e3:.6f} mT\")\n",
    "        print(f\"Mag_y: {Mag_y*1e3:.6f} mT\")\n",
    "        print(f\"Mag_z: {Mag_z*1e3:.6f} mT\")\n",
    "    else: \n",
    "        return Mag_x, Mag_y, Mag_z\n",
    "get_Mag()"
   ]
  },
  {
   "cell_type": "code",
   "execution_count": null,
   "id": "582ee743",
   "metadata": {},
   "outputs": [],
   "source": [
    "get_Mag()"
   ]
  },
  {
   "cell_type": "code",
   "execution_count": null,
   "id": "9634bb97",
   "metadata": {},
   "outputs": [],
   "source": [
    "magnet_y.field()"
   ]
  },
  {
   "cell_type": "code",
   "execution_count": null,
   "id": "add54ae7",
   "metadata": {},
   "outputs": [],
   "source": [
    "for i in tqdm(range(23), desc=\"First loop\"):\n",
    "    value = (25 - i) * 1e-3 \n",
    "    value = float(f\"{value:.10f}\")\n",
    "    print(value)"
   ]
  },
  {
   "cell_type": "code",
   "execution_count": null,
   "id": "04c8a1e5",
   "metadata": {},
   "outputs": [],
   "source": [
    "from tqdm import tqdm\n",
    "import time\n",
    "\n",
    "from IPython.display import clear_output\n",
    "# First loop\n",
    "for i in tqdm(range(6), desc=\"First loop\"):\n",
    "    Mag_x = magnet_x.field()\n",
    "    value = (15 + i) * 1e-3\n",
    "    value = float(f\"{value:.10f}\")\n",
    "    magnet_x.field(value)\n",
    "    print(f\"magnet_x is {Mag_x:.8f} T\")\n",
    "    time.sleep(15)\n",
    "    clear_output(True)\n",
    "\n",
    "# Pause for 30 seconds\n",
    "time.sleep(60)\n",
    "\n",
    "# Second loop\n",
    "for i in tqdm(range(23), desc=\"First loop\"):\n",
    "    Mag_x = magnet_x.field()\n",
    "    value = (25 - i) * 1e-3 \n",
    "    value = float(f\"{value:.10f}\")\n",
    "    magnet_x.field(value)\n",
    "    print(f\"magnet_x is {Mag_x:.8f} T\")\n",
    "    time.sleep(15)\n",
    "    clear_output(True)\n",
    "\n",
    "# Pause for 180 seconds\n",
    "time.sleep(300)"
   ]
  },
  {
   "cell_type": "code",
   "execution_count": null,
   "id": "fc3e418b",
   "metadata": {},
   "outputs": [],
   "source": [
    "magnet_x.field(-20)"
   ]
  },
  {
   "cell_type": "code",
   "execution_count": null,
   "id": "07666294",
   "metadata": {},
   "outputs": [],
   "source": [
    "Mag = -20e-3\n",
    "I_range=2.5e-6\n",
    "K2440.output(1)\n",
    "sleep(2)\n",
    "magnet_x.field(Mag)\n",
    "sleep(10)\n",
    "appl_current(-I_range)\n",
    "sleep(3)\n",
    "direction = 'backward' if Mag > 0 else 'forward'\n",
    "\n",
    "\n",
    "# station.snapshot(update=True);\n",
    "exp = qc.new_experiment('IV vs Bx', sample_name=f'103-06_J2_12-13-18-19_1M_Bx_{direction}_By@0mT')\n",
    "\n",
    "dataid = do2d(magnet_x.field, Mag, -Mag, 76 , 0.7, appl_current, -I_range ,I_range, 101, 0.01, meas_voltage_K2)\n",
    "\n",
    "appl_current(0)\n",
    "K2440.output(0)\n",
    "# magnet_y.field(0)\n",
    "\n",
    "plot_by_id(dataid)\n",
    "autosave_plot_by_id(dataid, save_path)"
   ]
  },
  {
   "cell_type": "code",
   "execution_count": null,
   "id": "5f475874",
   "metadata": {},
   "outputs": [],
   "source": [
    "K2440.output(1)\n",
    "sleep(2)\n",
    "Mag = 10e-3\n",
    "I_range=2.5e-5\n",
    "\n",
    "magnet_x.field(Mag)\n",
    "sleep(30)\n",
    "appl_current(-I_range)\n",
    "sleep(3)\n",
    "direction = 'backward' if Mag > 0 else 'forward'\n",
    "\n",
    "\n",
    "# station.snapshot(update=True);\n",
    "\n",
    "exp = qc.new_experiment('IV vs Bx', sample_name=f'094-20IV_Bx_16-17-19-18_10M_{direction}')\n",
    "\n",
    "dataid = do2d(magnet_x.field, Mag, -Mag, 101 , 1.5, appl_current, -I_range ,I_range, 101, 0.05, meas_voltage_K2)#M:I Delay time 10:1\n",
    "\n",
    "\n",
    "appl_current(0)\n",
    "K2440.output(0)\n",
    "# magnet_x.field(0)\n",
    "\n",
    "plot_by_id(dataid)\n",
    "autosave_plot_by_id(dataid, save_path)"
   ]
  },
  {
   "cell_type": "code",
   "execution_count": null,
   "id": "bfdd8a07",
   "metadata": {},
   "outputs": [],
   "source": [
    "set_magnetic_field_stepwise(magnet=magnet_x, current_field=-40e-3, target_field=-18e-3, step_size=1e-3, delay=2.5)"
   ]
  },
  {
   "cell_type": "code",
   "execution_count": null,
   "id": "5eef089c",
   "metadata": {},
   "outputs": [],
   "source": [
    "def set_magnetic_field_stepwise(magnet=magnet_x, current_field=0, target_field=-10e-3, step_size=1e-3, delay=2.5):\n",
    "    \n",
    "    \"\"\"Set the magnetic field with anti-hysteresis mechanism witch will go to target magnetic field +/- 5mT, \n",
    "    if the target magnetic field is greater/less than the current magnetic field, \n",
    "    then slowly ramp back the magnetic field to the target magnetic field\n",
    "\n",
    "    Args:\n",
    "        magnet (_type_, optional): magnet_x,magnet_y,magnet_z. Defaults to magnet_x.\n",
    "        current_field (int, optional): _description_. Defaults to 0 T.\n",
    "        target_field (_type_, optional): _description_. Defaults to -10e-3 T.\n",
    "        step_size (_type_, optional): _description_. Defaults to 1e-3 T.\n",
    "        delay (float, optional): _description_. Defaults to 2 sec.\n",
    "    \n",
    "    \"\"\"\n",
    "    \n",
    "    from tqdm.notebook import tqdm\n",
    "    import math\n",
    "    # Calculate total steps for tqdm progress bar\n",
    "    total_steps = math.ceil(abs((target_field - current_field) / step_size)) * 2\n",
    "    progress_bar = tqdm(total=total_steps)\n",
    "\n",
    "    # Determine the intermediate target field\n",
    "    intermediate_target_field = target_field + 5e-3 if target_field > current_field else target_field - 5e-3\n",
    "    # Slowly ramp the magnetic field to the intermediate target field\n",
    "    while abs(intermediate_target_field - current_field) > step_size:\n",
    "        if intermediate_target_field > current_field:\n",
    "            current_field += step_size\n",
    "            magnet.field(current_field)\n",
    "        else:\n",
    "            current_field -= step_size\n",
    "            magnet.field(current_field)\n",
    "        time.sleep(delay)\n",
    "        progress_bar.update(1)  # Update progress bar\n",
    "    # Slowly ramp back the magnetic field to the target_field\n",
    "    while abs(target_field - current_field) > step_size:\n",
    "        if target_field > current_field:\n",
    "            current_field += step_size\n",
    "            magnet.field(current_field)\n",
    "        else:\n",
    "            current_field -= step_size\n",
    "            magnet.field(current_field)\n",
    "        time.sleep(delay)\n",
    "        progress_bar.update(1)  # Update progress bar\n",
    "    magnet.field(target_field)\n",
    "    progress_bar.n = total_steps  # Set progress bar to 100%\n",
    "    progress_bar.refresh()  # Refresh the progress bar to show the update\n",
    "    progress_bar.close()  # Close progress bar when done"
   ]
  },
  {
   "cell_type": "code",
   "execution_count": null,
   "id": "6d385381",
   "metadata": {},
   "outputs": [],
   "source": [
    "for i in range(6):\n",
    "    magnet_x.field((-10-i)*1e-3)\n",
    "    sleep(4)\n",
    "sleep(10)\n",
    "\n",
    "for i in range(16):\n",
    "    magnet_x.field((15+i)*1e-3)\n",
    "    sleep(4)\n",
    "sleep(10)"
   ]
  },
  {
   "cell_type": "code",
   "execution_count": null,
   "id": "83205742",
   "metadata": {},
   "outputs": [],
   "source": [
    "for i in range(25):\n",
    "    print(-24+i)"
   ]
  },
  {
   "cell_type": "code",
   "execution_count": null,
   "id": "fef193a7",
   "metadata": {},
   "outputs": [],
   "source": [
    "magnet_x.field(-19e-3)\n",
    "sleep(10)\n",
    "#magnet_x.field(e-3)\n",
    "#sleep(10)\n",
    "#magnet_x.field(12.8e-3)\n",
    "#sleep(10)"
   ]
  },
  {
   "cell_type": "markdown",
   "id": "6a6f3c0d",
   "metadata": {},
   "source": [
    "## IV vs By"
   ]
  },
  {
   "cell_type": "code",
   "execution_count": null,
   "id": "b823efb8",
   "metadata": {},
   "outputs": [],
   "source": [
    "get_Mag()"
   ]
  },
  {
   "cell_type": "code",
   "execution_count": null,
   "id": "9e236537",
   "metadata": {},
   "outputs": [],
   "source": [
    "magnet_y.field(0e-3)"
   ]
  },
  {
   "cell_type": "code",
   "execution_count": null,
   "id": "b4e8ec13",
   "metadata": {},
   "outputs": [],
   "source": [
    "for i in tqdm(range(21), desc=\"2nd loop\"):\n",
    "    \n",
    "    value = (-10 + i*0.5) * 1e-3 \n",
    "    value = float(f\"{value:.10f}\")\n",
    "    magnet_y.field(value)\n",
    "    get_Mag()\n",
    "    time.sleep(15)\n",
    "    clear_output(True)"
   ]
  },
  {
   "cell_type": "code",
   "execution_count": null,
   "id": "5dce7f89",
   "metadata": {},
   "outputs": [],
   "source": [
    "\n",
    "# First loop\n",
    "for i in tqdm(range(11), desc=\"First loop\"):\n",
    "    \n",
    "    value = (5 +i) * 1e-3\n",
    "    value = float(f\"{value:.10f}\")\n",
    "    magnet_y.field(value)\n",
    "    get_Mag()\n",
    "    time.sleep(15)\n",
    "    clear_output(True)\n",
    "\n",
    "# Pause for 30 seconds\n",
    "time.sleep(60)\n",
    "\n",
    "# Second loop\n",
    "for i in tqdm(range(11), desc=\"2nd loop\"):\n",
    "    \n",
    "    value = (-10 + i) * 1e-3 \n",
    "    value = float(f\"{value:.10f}\")\n",
    "    magnet_y.field(value)\n",
    "    get_Mag()\n",
    "    time.sleep(15)\n",
    "    clear_output(True)\n",
    "# Pause for 180 seconds\n",
    "time.sleep(300)"
   ]
  },
  {
   "cell_type": "code",
   "execution_count": null,
   "id": "46dc421a",
   "metadata": {},
   "outputs": [],
   "source": [
    "magnet_y.field()"
   ]
  },
  {
   "cell_type": "code",
   "execution_count": null,
   "id": "3a7fb763",
   "metadata": {},
   "outputs": [],
   "source": [
    "Mag =5e-3\n",
    "I_range=0.6e-6\n",
    "K2440.output(1)\n",
    "sleep(2)\n",
    "magnet_y.field(Mag)\n",
    "sleep(10)\n",
    "appl_current(-I_range)\n",
    "sleep(3)\n",
    "direction = 'backward' if Mag > 0 else 'forward'\n",
    "\n",
    "\n",
    "# station.snapshot(update=True);\n",
    "exp = qc.new_experiment('IV vs By', sample_name=f'103-03_J2_27-26-30-31M(32G-33G-28G-29G)_1M_By_{direction}_{-I_range}')\n",
    "\n",
    "dataid = do2d(magnet_y.field, Mag, -Mag, 201 , 0.5, appl_current, -I_range ,I_range,  201, 0.0001, meas_voltage_K2)\n",
    "\n",
    "appl_current(0)\n",
    "K2440.output(0)\n",
    "# magnet_y.field(0)\n",
    "\n",
    "plot_by_id(dataid)\n",
    "autosave_plot_by_id(dataid, save_path)"
   ]
  },
  {
   "cell_type": "code",
   "execution_count": null,
   "id": "a9c30858",
   "metadata": {},
   "outputs": [],
   "source": [
    "Mag =-5e-3\n",
    "I_range=5e-6\n",
    "K2440.output(1)\n",
    "sleep(2)\n",
    "magnet_y.field(Mag)\n",
    "sleep(10)\n",
    "appl_current(-I_range)\n",
    "sleep(3)\n",
    "direction = 'backward' if Mag > 0 else 'forward'\n",
    "\n",
    "\n",
    "# station.snapshot(update=True);\n",
    "exp = qc.new_experiment('IV vs By', sample_name=f'103-03_J2_27-26-30-31M(32G-33G-28G-29G)_1M_By_{direction}_{-I_range}')\n",
    "\n",
    "dataid = do2d(magnet_y.field, Mag, -Mag, 201 , 0.5, appl_current, -I_range ,I_range,  201, 0.0001, meas_voltage_K2)\n",
    "\n",
    "appl_current(0)\n",
    "K2440.output(0)\n",
    "# magnet_y.field(0)\n",
    "\n",
    "plot_by_id(dataid)\n",
    "autosave_plot_by_id(dataid, save_path)"
   ]
  },
  {
   "cell_type": "code",
   "execution_count": null,
   "id": "8ba8b69c",
   "metadata": {},
   "outputs": [],
   "source": [
    "32-"
   ]
  },
  {
   "cell_type": "code",
   "execution_count": null,
   "id": "7c2e8f1b",
   "metadata": {},
   "outputs": [],
   "source": [
    "\n",
    "# First loop\n",
    "for i in tqdm(range(6), desc=\"First loop\"):\n",
    "    Mag_x = magnet_y.field()\n",
    "    value = (1.5 +i) * 1e-3\n",
    "    value = float(f\"{value:.10f}\")\n",
    "    magnet_y.field(value)\n",
    "    print(f\"magnet_y is {Mag_x:.8f} T\")\n",
    "    time.sleep(15)\n",
    "    clear_output(True)\n",
    "\n",
    "# Pause for 30 seconds\n",
    "time.sleep(60)\n",
    "\n",
    "# Second loop\n",
    "for i in tqdm(range(6), desc=\"2nd loop\"):\n",
    "    Mag_x = magnet_y.field()\n",
    "    value = (6.5 - i) * 1e-3 \n",
    "    value = float(f\"{value:.10f}\")\n",
    "    magnet_y.field(value)\n",
    "    print(f\"magnet_y is {Mag_x:.8f} T\")\n",
    "    time.sleep(15)\n",
    "    clear_output(True)\n",
    "\n",
    "# Pause for 180 seconds\n",
    "time.sleep(300)"
   ]
  },
  {
   "cell_type": "code",
   "execution_count": null,
   "id": "8d736f1b",
   "metadata": {},
   "outputs": [],
   "source": [
    "Mag = 1.5e-3\n",
    "I_range=2.5e-6\n",
    "K2440.output(1)\n",
    "sleep(2)\n",
    "magnet_y.field(Mag)\n",
    "sleep(10)\n",
    "appl_current(-I_range)\n",
    "sleep(3)\n",
    "direction = 'backward' if Mag > 0 else 'forward'\n",
    "\n",
    "\n",
    "# station.snapshot(update=True);\n",
    "exp = qc.new_experiment('IV vs By', sample_name=f'103-06_J2_12-13-18-19_1M_By_{direction}_Bx@3mT')\n",
    "\n",
    "dataid = do2d(magnet_y.field, Mag, -Mag, 1001 , 0.4, appl_current, -I_range ,I_range, 151, 0.01, meas_voltage_K2)\n",
    "\n",
    "appl_current(0)\n",
    "K2440.output(0)\n",
    "# magnet_y.field(0)\n",
    "\n",
    "plot_by_id(dataid)\n",
    "autosave_plot_by_id(dataid, save_path)"
   ]
  },
  {
   "cell_type": "code",
   "execution_count": null,
   "id": "43eb5eb6",
   "metadata": {},
   "outputs": [],
   "source": [
    "Mag()"
   ]
  },
  {
   "cell_type": "code",
   "execution_count": null,
   "id": "721c43a1",
   "metadata": {},
   "outputs": [],
   "source": [
    "Mag = 1.5e-3\n",
    "I_range=1e-6\n",
    "K2440.output(1)\n",
    "sleep(2)\n",
    "magnet_y.field(Mag)\n",
    "sleep(10)\n",
    "appl_current(-I_range)\n",
    "sleep(3)\n",
    "direction = 'backward' if Mag > 0 else 'forward'\n",
    "\n",
    "\n",
    "# station.snapshot(update=True);\n",
    "exp = qc.new_experiment('IV vs By', sample_name=f'103-01_J1_21-20-23-22_1M_By_{direction}_Bx@0mT')\n",
    "\n",
    "dataid = do2d(magnet_y.field, Mag, -Mag, 151 , 0.9, appl_current, -I_range ,I_range, 201, 0.01, meas_voltage_K2)\n",
    "\n",
    "appl_current(0)\n",
    "K2440.output(0)\n",
    "# magnet_y.field(0)\n",
    "\n",
    "plot_by_id(dataid)\n",
    "autosave_plot_by_id(dataid, save_path)"
   ]
  },
  {
   "cell_type": "code",
   "execution_count": null,
   "id": "dadb617e",
   "metadata": {},
   "outputs": [],
   "source": [
    "from tqdm import tqdm\n",
    "import time\n",
    "\n",
    "# First loop\n",
    "for i in tqdm(range(6), desc=\"First loop\"):\n",
    "    value = (1.5 + i) * 1e-3 \n",
    "    magnet_y.field(value)\n",
    "    print(f\"magnet_y is {value:.8f} T\")\n",
    "    time.sleep(10)\n",
    "\n",
    "# Pause for 30 seconds\n",
    "time.sleep(30)\n",
    "\n",
    "# Second loop\n",
    "for i in tqdm(range(8), desc=\"First loop\"):\n",
    "    value = (7 - i) * 1e-3 \n",
    "    magnet_y.field(value)\n",
    "    print(f\"magnet_y is {value:.8f} T\")\n",
    "    time.sleep(10)\n",
    "\n",
    "# Pause for 180 seconds\n",
    "time.sleep(300)\n"
   ]
  },
  {
   "cell_type": "code",
   "execution_count": null,
   "id": "cceb780f",
   "metadata": {},
   "outputs": [],
   "source": [
    "def combined_loop(start=0, end=5 ):\n",
    "  for i in tqdm(range((end-start)+6), desc=\"First loop\"):\n",
    "    value = start + i\n",
    "    print(f\"{value* 1e-3:.5f}\")\n",
    "\n",
    "  for i in tqdm(range(6), desc=\"Second loop\"):\n",
    "    value = end+5 - i\n",
    "    print(f\"{value* 1e-3:.5f}\")\n",
    "\n",
    "combined_loop()\n"
   ]
  },
  {
   "cell_type": "code",
   "execution_count": null,
   "id": "7963ad50",
   "metadata": {},
   "outputs": [],
   "source": [
    "Mag = 3e-3\n",
    "I_range=1e-6\n",
    "K2440.output(1)\n",
    "sleep(2)\n",
    "magnet_y.field(Mag)\n",
    "sleep(10)\n",
    "appl_current(-I_range)\n",
    "sleep(3)\n",
    "direction = 'backward' if Mag > 0 else 'forward'\n",
    "\n",
    "\n",
    "# station.snapshot(update=True);\n",
    "exp = qc.new_experiment('IV vs By', sample_name=f'103-04_J2_04-05-06-07_1M_By_{direction}_Bx@0mT')\n",
    "\n",
    "dataid = do2d(magnet_y.field, Mag, -Mag, 101 , 1.5, appl_current, -I_range ,I_range, 101, 0.01, meas_voltage_K2)\n",
    "\n",
    "appl_current(0)\n",
    "K2440.output(0)\n",
    "# magnet_y.field(0)\n",
    "\n",
    "plot_by_id(dataid)\n",
    "autosave_plot_by_id(dataid, save_path)"
   ]
  },
  {
   "cell_type": "code",
   "execution_count": null,
   "id": "3d67f8ce",
   "metadata": {},
   "outputs": [],
   "source": [
    "from tqdm import tqdm\n",
    "import time\n",
    "\n",
    "# First loop\n",
    "for i in tqdm(range(6), desc=\"First loop\"):\n",
    "    magnet_y.field((-3 - i) * 1e-3)\n",
    "    time.sleep(15)\n",
    "\n",
    "# Pause for 30 seconds\n",
    "time.sleep(30)\n",
    "\n",
    "# Second loop\n",
    "for i in tqdm(range(7), desc=\"Second loop\"):\n",
    "    magnet_y.field((-8 + i) * 1e-3)\n",
    "    time.sleep(15)\n",
    "\n",
    "# Pause for 180 seconds\n",
    "time.sleep(300)"
   ]
  },
  {
   "cell_type": "code",
   "execution_count": null,
   "id": "af9e2a73",
   "metadata": {},
   "outputs": [],
   "source": [
    "magnet_y.field(-1.5e-3)\n",
    "print(\"By at -1.5 mT\")"
   ]
  },
  {
   "cell_type": "code",
   "execution_count": null,
   "id": "214aa45a",
   "metadata": {},
   "outputs": [],
   "source": [
    "Mag = -3e-3\n",
    "I_range=1e-6\n",
    "K2440.output(1)\n",
    "sleep(2)\n",
    "magnet_y.field(Mag)\n",
    "sleep(10)\n",
    "appl_current(-I_range)\n",
    "sleep(3)\n",
    "direction = 'backward' if Mag > 0 else 'forward'\n",
    "\n",
    "\n",
    "# station.snapshot(update=True);\n",
    "exp = qc.new_experiment('IV vs By', sample_name=f'103-04_J2_04-05-06-07_1M_By_{direction}_Bx@0mT')\n",
    "\n",
    "dataid = do2d(magnet_y.field, Mag, -Mag, 501 , 1, appl_current, -I_range ,I_range, 251, 0.01, meas_voltage_K2)\n",
    "\n",
    "appl_current(0)\n",
    "K2440.output(0)\n",
    "# magnet_y.field(0)\n",
    "\n",
    "plot_by_id(dataid)\n",
    "autosave_plot_by_id(dataid, save_path)"
   ]
  },
  {
   "cell_type": "code",
   "execution_count": null,
   "id": "da9891fc",
   "metadata": {},
   "outputs": [],
   "source": [
    "from tqdm import tqdm\n",
    "import time\n",
    "\n",
    "# First loop\n",
    "for i in tqdm(range(6), desc=\"First loop\"):\n",
    "    magnet_y.field((3 + i) * 1e-3)\n",
    "    time.sleep(10)\n",
    "\n",
    "# Pause for 30 seconds\n",
    "time.sleep(30)\n",
    "\n",
    "# Second loop\n",
    "for i in tqdm(range(6), desc=\"Second loop\"):\n",
    "    magnet_y.field((8 - i) * 1e-3)\n",
    "    time.sleep(10)\n",
    "\n",
    "# Pause for 180 seconds\n",
    "time.sleep(300)"
   ]
  },
  {
   "cell_type": "code",
   "execution_count": null,
   "id": "8c1e92c1",
   "metadata": {},
   "outputs": [],
   "source": [
    "Mag = 3e-3\n",
    "I_range=1e-6\n",
    "K2440.output(1)\n",
    "sleep(2)\n",
    "magnet_y.field(Mag)\n",
    "sleep(10)\n",
    "appl_current(-I_range)\n",
    "sleep(3)\n",
    "direction = 'backward' if Mag > 0 else 'forward'\n",
    "\n",
    "\n",
    "# station.snapshot(update=True);\n",
    "exp = qc.new_experiment('IV vs By', sample_name=f'103-04_J2_04-05-06-07_1M_By_{direction}_Bx@0mT')\n",
    "\n",
    "dataid = do2d(magnet_y.field, Mag, -Mag, 501 , 1, appl_current, -I_range ,I_range, 251, 0.01, meas_voltage_K2)\n",
    "\n",
    "appl_current(0)\n",
    "K2440.output(0)\n",
    "# magnet_y.field(0)\n",
    "\n",
    "plot_by_id(dataid)\n",
    "autosave_plot_by_id(dataid, save_path)"
   ]
  },
  {
   "cell_type": "code",
   "execution_count": null,
   "id": "5208f447",
   "metadata": {},
   "outputs": [],
   "source": [
    "magnet_y.field(5e-3)"
   ]
  },
  {
   "cell_type": "code",
   "execution_count": null,
   "id": "3e408864",
   "metadata": {},
   "outputs": [],
   "source": [
    "for i in range(9):\n",
    "    magnet_y.field((0+i)*1e-3)\n",
    "    sleep(4)\n",
    "sleep(10)\n",
    "\n",
    "for i in range(6):\n",
    "    magnet_y.field((8-i)*1e-3)\n",
    "    sleep(4)\n",
    "\n",
    "sleep(60)\n",
    "# magnet_y.field(21.5e-3)\n",
    "sleep(60)\n",
    "#magnet_y.field(0.48e-3)\n",
    "#sleep(5)"
   ]
  },
  {
   "cell_type": "code",
   "execution_count": null,
   "id": "2eb14a5d",
   "metadata": {},
   "outputs": [],
   "source": [
    "for i in range(4):\n",
    "    print(8-i)"
   ]
  },
  {
   "cell_type": "code",
   "execution_count": null,
   "id": "a1ebeefb",
   "metadata": {},
   "outputs": [],
   "source": [
    "K2440.output(1)\n",
    "sleep(2)\n",
    "Mag = -40e-3\n",
    "I_range=2e-8\n",
    "\n",
    "magnet_y.field(Mag)\n",
    "sleep(10)\n",
    "appl_current(-I_range)\n",
    "sleep(3)\n",
    "direction = 'backward' if Mag > 0 else 'forward'\n",
    "\n",
    "\n",
    "# station.snapshot(update=True);\n",
    "\n",
    "exp = qc.new_experiment('IV vs By', sample_name=f'094-20IV_By_16-17-19-18_10M_{direction}_Bx@-18.5mT')\n",
    "\n",
    "dataid = do2d(magnet_y.field, Mag, -Mag, 601 , 2, appl_current, -I_range ,I_range, 201, 0.1, meas_voltage_K2)\n",
    "\n",
    "\n",
    "appl_current(0)\n",
    "K2440.output(0)\n",
    "# magnet_y.field(0)\n",
    "\n",
    "plot_by_id(dataid)\n",
    "autosave_plot_by_id(dataid, save_path)"
   ]
  },
  {
   "cell_type": "code",
   "execution_count": null,
   "id": "effdb8bf",
   "metadata": {},
   "outputs": [],
   "source": [
    "for i in range(24):\n",
    "    print(45-i)"
   ]
  },
  {
   "cell_type": "code",
   "execution_count": null,
   "id": "4b523a44",
   "metadata": {},
   "outputs": [],
   "source": []
  },
  {
   "cell_type": "markdown",
   "id": "7dce8613",
   "metadata": {},
   "source": [
    "## IV vs Bz"
   ]
  },
  {
   "cell_type": "code",
   "execution_count": null,
   "id": "a4e6e5f7",
   "metadata": {
    "scrolled": true
   },
   "outputs": [],
   "source": [
    "K2440.output(1)\n",
    "sleep(2)\n",
    "magnet_z.field(-80e-3)\n",
    "sleep(60)\n",
    "appl_current(-2e-7)\n",
    "sleep(5)\n",
    "\n",
    "# station.snapshot(update=True);\n",
    "\n",
    "exp = qc.new_experiment('IV vs Bz', sample_name='IV_Bz_33_32_30_31_10M_forward')\n",
    "\n",
    "dataid = do2d(magnet_z.field,-80e-3,80e-3, 71 , 20, appl_current, -2e-7 ,2e-7, 101, 0.05, meas_voltage_K2)\n",
    "\n",
    "appl_current(0)\n",
    "\n",
    "K2440.output(0)\n",
    "# magnet_y.field(0)\n",
    "\n",
    "plot_by_id(dataid)"
   ]
  },
  {
   "cell_type": "code",
   "execution_count": null,
   "id": "e68136d1",
   "metadata": {},
   "outputs": [],
   "source": [
    "#magnet_z.field(20e-3)\n",
    "#sleep(5)\n",
    "magnet_z.field(-6.1e-3)\n",
    "sleep(5)"
   ]
  },
  {
   "cell_type": "code",
   "execution_count": null,
   "id": "571645ac",
   "metadata": {},
   "outputs": [],
   "source": []
  },
  {
   "cell_type": "markdown",
   "id": "02c81568",
   "metadata": {},
   "source": [
    "## IV w/ Bx"
   ]
  },
  {
   "cell_type": "code",
   "execution_count": null,
   "id": "b5229271",
   "metadata": {},
   "outputs": [],
   "source": [
    "K2440.output(1)\n",
    "sleep(2)\n",
    "magnet_x.field(0.23e-3)\n",
    "appl_current(-0.5e-6)\n",
    "sleep(10)\n",
    "\n",
    "# station.snapshot(update=True);\n",
    "exp = qc.new_experiment('I vs V', sample_name='IV_w/_Bx')\n",
    "\n",
    "#do1d(param_set, start, stop, num_points, delay, *param_meas)\n",
    "dataid = do1d(appl_current, -0.5e-6 ,0.5e-6, 101, 0.05, meas_voltage_K2)\n",
    "# dataid = do1d(appl_current, 6e-6 , -6e-6, 251, 0.01, meas_voltage_K1)\n",
    "# ivvi.set_dacs_zero()\n",
    "\n",
    "appl_current(0)\n",
    "plot_by_id(dataid)\n",
    "# print(get_R_from_IV(dataid))\n",
    "#print(get_R_from_IV_2(dataid))\n",
    "\n",
    "K2440.output(0)"
   ]
  },
  {
   "cell_type": "markdown",
   "id": "27ac85cd",
   "metadata": {},
   "source": [
    "## IV w/ By"
   ]
  },
  {
   "cell_type": "code",
   "execution_count": null,
   "id": "b7c3a84d",
   "metadata": {},
   "outputs": [],
   "source": [
    "K2440.output(1)\n",
    "DMM6500.averaging_count(30)\n",
    "#DMM6500.averaging_enabled(False)\n",
    "\n",
    "sleep(2)\n",
    "magnet_y.field(0e-3)\n",
    "appl_current(-2e-7)\n",
    "sleep(20)\n",
    "\n",
    "# station.snapshot(update=True);\n",
    "exp = qc.new_experiment('I vs V', sample_name='IV_w/_By@0mT_forward_Avg30')\n",
    "\n",
    "#do1d(param_set, start, stop, num_points, delay, *param_meas)\n",
    "dataid = do1d(appl_current, -2e-7 ,2e-7, 201, 0.05, meas_voltage_K2)\n",
    "# dataid = do1d(appl_current, 6e-6 , -6e-6, 251, 0.01, meas_voltage_K1)\n",
    "# ivvi.set_dacs_zero()\n",
    "\n",
    "appl_current(0)\n",
    "plot_by_id(dataid)\n",
    "# print(get_R_from_IV(dataid))\n",
    "#print(get_R_from_IV_2(dataid))\n",
    "\n",
    "K2440.output(0)"
   ]
  },
  {
   "cell_type": "markdown",
   "id": "1e7ed93d",
   "metadata": {},
   "source": [
    "## MR"
   ]
  },
  {
   "cell_type": "code",
   "execution_count": null,
   "id": "9db581e2",
   "metadata": {},
   "outputs": [],
   "source": [
    "K2440.output(1)\n",
    "sleep(2)\n",
    "magnet_y.field(-0.1)\n",
    "sleep(5)\n",
    "#K2440.output(1)\n",
    "appl_current(1e-7)\n",
    "sleep(5)\n",
    "\n",
    "# station.snapshot(update=True);\n",
    "\n",
    "exp = qc.new_experiment('I vs By_MR', sample_name='072_14IVf_25_24_29_29_By_+-0.1T_MR_for')\n",
    "\n",
    "dataid = do1d(magnet_y.field, -0.1, 0.1, 71 , 1, meas_voltage_K2)\n",
    "\n",
    "appl_current(0)\n",
    "K2440.output(0)\n",
    "#K2440.output(0)\n",
    "magnet_y.field(0)\n",
    "\n",
    "plot_by_id(dataid)"
   ]
  },
  {
   "cell_type": "markdown",
   "id": "55fd3a3b",
   "metadata": {},
   "source": [
    "## IV w/Bz"
   ]
  },
  {
   "cell_type": "code",
   "execution_count": null,
   "id": "e76653c7",
   "metadata": {},
   "outputs": [],
   "source": [
    "K2440.output(1)\n",
    "DMM6500.averaging_count(10)\n",
    "#DMM6500.averaging_enabled(False)\n",
    "\n",
    "sleep(2)\n",
    "magnet_z.field(0e-3)\n",
    "appl_current(-2e-7)\n",
    "sleep(30)\n",
    "\n",
    "# station.snapshot(update=True);\n",
    "exp = qc.new_experiment('I vs V', sample_name='IV_w/_f_Bz@0mT_forward_Avg10')\n",
    "\n",
    "#do1d(param_set, start, stop, num_points, delay, *param_meas)\n",
    "dataid = do1d(appl_current, -2e-7 ,2e-7, 201, 0.05, meas_voltage_K2)\n",
    "# dataid = do1d(appl_current, 6e-6 , -6e-6, 251, 0.01, meas_voltage_K1)\n",
    "# ivvi.set_dacs_zero()\n",
    "\n",
    "appl_current(0)\n",
    "plot_by_id(dataid)\n",
    "# print(get_R_from_IV(dataid))\n",
    "#print(get_R_from_IV_2(dataid))\n",
    "\n",
    "K2440.output(0)"
   ]
  },
  {
   "cell_type": "markdown",
   "id": "d0274abc",
   "metadata": {},
   "source": [
    "# Zero everything"
   ]
  },
  {
   "cell_type": "code",
   "execution_count": null,
   "id": "a0cc99f2",
   "metadata": {},
   "outputs": [],
   "source": [
    "appl_current(0)\n",
    "appl_TG(0)\n",
    "magnet_y.field(0)\n",
    "sleep(5)\n",
    "magnet_x.field(0)\n",
    "sleep(5)\n",
    "magnet_z.field(0)\n",
    "sleep(5)\n",
    "#appl_voltage_AC(0.004)\n",
    "#SGS.off()\n",
    "K2440.output(0)"
   ]
  },
  {
   "cell_type": "code",
   "execution_count": null,
   "id": "cb8bf175",
   "metadata": {},
   "outputs": [],
   "source": [
    "appl_current(0)"
   ]
  },
  {
   "cell_type": "markdown",
   "id": "6610bce1",
   "metadata": {},
   "source": [
    "# Gate simple sweeps"
   ]
  },
  {
   "cell_type": "markdown",
   "id": "c010fbad",
   "metadata": {},
   "source": [
    "## 加TG (2D)"
   ]
  },
  {
   "cell_type": "code",
   "execution_count": null,
   "id": "6d7e9bf6",
   "metadata": {},
   "outputs": [],
   "source": [
    "appl_current(0)\n",
    "sleep(1)\n",
    "appl_TG(0)\n",
    "sleep(5)"
   ]
  },
  {
   "cell_type": "code",
   "execution_count": null,
   "id": "be01663b",
   "metadata": {},
   "outputs": [],
   "source": [
    "magnet_x.field(-0.044e-3)\n",
    "sleep(10)\n",
    "magnet_y.field(-6.016e-3)\n",
    "sleep(10)"
   ]
  },
  {
   "cell_type": "code",
   "execution_count": null,
   "id": "5397630e",
   "metadata": {},
   "outputs": [],
   "source": [
    "K2440.output(1)\n",
    "K2440.output(1)\n",
    "appl_TG(-30)\n",
    "sleep(5)\n",
    "appl_current(-1.5e-8)\n",
    "sleep(1)\n",
    "\n",
    "exp = qc.new_experiment('I_vs_Vgate_up', sample_name='33_32_30_31_1M_TG21')\n",
    "dataid = do2d(appl_TG, -30, 30, 301, 0.5, appl_current, -1.5e-8, 1.5e-8, 101, 0.1, meas_voltage_K2)\n",
    "\n",
    "appl_TG(0)\n",
    "sleep(5)\n",
    "appl_current(0e-7)\n",
    "sleep(5)\n",
    "\n",
    "K2440.output(0)\n",
    "K2440.output(0)\n",
    "\n",
    "plot_by_id(dataid)"
   ]
  },
  {
   "cell_type": "markdown",
   "id": "5375fb6f",
   "metadata": {},
   "source": [
    "# RF"
   ]
  },
  {
   "cell_type": "markdown",
   "id": "596beaf8",
   "metadata": {},
   "source": [
    "## I vs RF_f"
   ]
  },
  {
   "cell_type": "markdown",
   "id": "a6df9a13",
   "metadata": {},
   "source": [
    "### sensitive check"
   ]
  },
  {
   "cell_type": "code",
   "execution_count": null,
   "id": "017ed644",
   "metadata": {},
   "outputs": [],
   "source": [
    "SGS.power()\n",
    "SGS.frequency()"
   ]
  },
  {
   "cell_type": "code",
   "execution_count": null,
   "id": "e0b8db4e",
   "metadata": {},
   "outputs": [],
   "source": [
    "SGS.on()"
   ]
  },
  {
   "cell_type": "code",
   "execution_count": null,
   "id": "cc145b47",
   "metadata": {},
   "outputs": [],
   "source": [
    "SGS.off()"
   ]
  },
  {
   "cell_type": "code",
   "execution_count": null,
   "id": "6141349d",
   "metadata": {},
   "outputs": [],
   "source": [
    "magnet_x.field(0.4e-3)\n",
    "sleep(10)\n",
    "magnet_y.field(2.53e-3)\n",
    "sleep(10)"
   ]
  },
  {
   "cell_type": "code",
   "execution_count": null,
   "id": "2fd35fd0",
   "metadata": {},
   "outputs": [],
   "source": [
    "DMM6500.averaging_count(5)\n",
    "DMM6500.averaging_enabled(False)"
   ]
  },
  {
   "cell_type": "markdown",
   "id": "2d27c6f3",
   "metadata": {},
   "source": [
    "### I vs RF_f (1D)"
   ]
  },
  {
   "cell_type": "code",
   "execution_count": null,
   "id": "c3ec00d7",
   "metadata": {
    "scrolled": false
   },
   "outputs": [],
   "source": [
    "SGS.off()\n",
    "exp = qc.new_experiment('I-RF_f', sample_name='103-06_J2_12-13-14-15_1M_@0mT')\n",
    "SGS.power(0)\n",
    "SGS.frequency(0.1e9)\n",
    "SGS.on()\n",
    "sleep(1)\n",
    "DMM6500.averaging_count(5)\n",
    "DMM6500.averaging_enabled(False)\n",
    "K2440.output(1)\n",
    "\n",
    "appl_current(0.4e-6)\n",
    "#appl_TG(10)\n",
    "# magnet_x.field(0.4e-3)\n",
    "# magnet_y.field(2.53e-3)\n",
    "\n",
    "dataid = do1d(SGS.frequency, 11.4e9, 12.2e9, 201, 0.1, meas_voltage_K2)\n",
    "appl_current(0)\n",
    "SGS.off()\n",
    "K2440.output(0)\n",
    "plot_by_id(dataid)\n"
   ]
  },
  {
   "cell_type": "markdown",
   "id": "3e250e53",
   "metadata": {},
   "source": [
    "### I vs RF_f (2D)"
   ]
  },
  {
   "cell_type": "code",
   "execution_count": null,
   "id": "3734095d",
   "metadata": {},
   "outputs": [],
   "source": [
    "SGS.off()"
   ]
  },
  {
   "cell_type": "code",
   "execution_count": null,
   "id": "ccc9ea2f",
   "metadata": {},
   "outputs": [],
   "source": [
    "SGS.off()\n",
    "SGS.power(0)\n",
    "SGS.frequency(0.1e9)\n",
    "SGS.on()\n",
    "DMM6500.averaging_count(1)\n",
    "DMM6500.averaging_enabled(False)\n",
    "K2440.output(1)\n",
    "\n",
    "I_range = 8e-6\n",
    "appl_current(-I_range)\n",
    "#appl_TG(-10)\n",
    "# magnet_x.field(0.4e-3)\n",
    "# magnet_y.field(2.53e-3)\n",
    "# sleep(1)\n",
    "\n",
    "# station.snapshot(update=True);\n",
    "exp = qc.new_experiment('IV-RF_f', sample_name=f'103-03_J2_27-26-30-31M(32G-33G-28G-29G)_1M_RF@0dBm_By@0.1mT')\n",
    "\n",
    "#do1d(param_set, start, stop, num_points, delay, *param_meas)\n",
    "dataid = do2d(SGS.frequency, 1e9, 20e9, 191, 0.0001, appl_current,-I_range ,I_range, 201, 0.0001, meas_voltage_K2)\n",
    "# dataid = do1d(appl_current, 6e-6 , -6e-6, 251, 0.01, meas_voltage_K1)\n",
    "# ivvi.set_dacs_zero()\n",
    "K2440.output(0)\n",
    "SGS.off()\n",
    "appl_current(0)\n",
    "plot_by_id(dataid)\n",
    "save_path = r\"D:\\data\\Albert\\103\\Plot\\104_{}.png\".format(dataid)  # Path to save the plot image\n",
    "autosave_plot_by_id(dataid, save_path)"
   ]
  },
  {
   "cell_type": "code",
   "execution_count": null,
   "id": "3426a3bd",
   "metadata": {},
   "outputs": [],
   "source": [
    "SGS.off()\n",
    "SGS.power(20)\n",
    "SGS.frequency(0.1e9)\n",
    "SGS.on()\n",
    "DMM6500.averaging_count(1)\n",
    "DMM6500.averaging_enabled(False)\n",
    "K2440.output(1)\n",
    "\n",
    "I_range = 6e-6\n",
    "appl_current(-I_range)\n",
    "#appl_TG(-10)\n",
    "# magnet_x.field(0.4e-3)\n",
    "# magnet_y.field(2.53e-3)\n",
    "# sleep(1)\n",
    "\n",
    "# station.snapshot(update=True);\n",
    "exp = qc.new_experiment('IV-RF_f', sample_name=f'103-03_J2_27-26-30-31M(32G-33G-28G-29G)_1M_RF@-10dBm_By@0.1mT')\n",
    "\n",
    "#do1d(param_set, start, stop, num_points, delay, *param_meas)\n",
    "dataid = do2d(SGS.frequency, 1e9, 20e9, 191, 0.0001, appl_current,-I_range ,I_range, 201, 0.0001, meas_voltage_K2)\n",
    "# dataid = do1d(appl_current, 6e-6 , -6e-6, 251, 0.01, meas_voltage_K1)\n",
    "# ivvi.set_dacs_zero()\n",
    "K2440.output(0)\n",
    "SGS.off()\n",
    "appl_current(0)\n",
    "plot_by_id(dataid)\n",
    "save_path = r\"D:\\data\\Albert\\103\\Plot\\104_{}.png\".format(dataid)  # Path to save the plot image\n",
    "autosave_plot_by_id(dataid, save_path)"
   ]
  },
  {
   "cell_type": "code",
   "execution_count": null,
   "id": "9f9dbd53",
   "metadata": {},
   "outputs": [],
   "source": [
    "SGS.off()\n",
    "SGS.power(20)\n",
    "SGS.frequency(5.9e9)\n",
    "SGS.on()\n",
    "DMM6500.averaging_count(1)\n",
    "DMM6500.averaging_enabled(False)\n",
    "K2440.output(1)\n",
    "\n",
    "I_range = 6e-6\n",
    "appl_current(-I_range)\n",
    "#appl_TG(-10)\n",
    "# magnet_x.field(0.4e-3)\n",
    "# magnet_y.field(2.53e-3)\n",
    "# sleep(1)\n",
    "\n",
    "# station.snapshot(update=True);\n",
    "exp = qc.new_experiment('IV-RF_f', sample_name=f'103-03_J2_27-26-30-31M(32G-33G-28G-29G)_1M_RF@20dBm_By@0.1mT')\n",
    "\n",
    "#do1d(param_set, start, stop, num_points, delay, *param_meas)\n",
    "dataid = do2d(SGS.frequency, 5.9e9, 6.0e9, 251, 0.0001, appl_current,-I_range ,I_range, 501, 0.0001, meas_voltage_K2)\n",
    "# dataid = do1d(appl_current, 6e-6 , -6e-6, 251, 0.01, meas_voltage_K1)\n",
    "# ivvi.set_dacs_zero()\n",
    "K2440.output(0)\n",
    "SGS.off()\n",
    "appl_current(0)\n",
    "plot_by_id(dataid)\n",
    "save_path = r\"D:\\data\\Albert\\103\\Plot\\104_{}.png\".format(dataid)  # Path to save the plot image\n",
    "autosave_plot_by_id(dataid, save_path)\n"
   ]
  },
  {
   "cell_type": "code",
   "execution_count": null,
   "id": "862b770b",
   "metadata": {},
   "outputs": [],
   "source": [
    "SGS.off()\n",
    "SGS.power(20)\n",
    "SGS.frequency(5.535e9)\n",
    "SGS.on()\n",
    "DMM6500.averaging_count(1)\n",
    "DMM6500.averaging_enabled(False)\n",
    "K2440.output(1)\n",
    "\n",
    "I_range = 6e-6\n",
    "appl_current(-I_range)\n",
    "#appl_TG(-10)\n",
    "# magnet_x.field(0.4e-3)\n",
    "# magnet_y.field(2.53e-3)\n",
    "# sleep(1)\n",
    "\n",
    "# station.snapshot(update=True);\n",
    "exp = qc.new_experiment('IV-RF_f', sample_name=f'103-03_J2_27-26-30-31M(32G-33G-28G-29G)_1M_RF@20dBm_By@0.1mT')\n",
    "\n",
    "#do1d(param_set, start, stop, num_points, delay, *param_meas)\n",
    "dataid = do2d(SGS.frequency, 5.535e9, 5.585e9, 251, 0.0001, appl_current,-I_range ,I_range, 501, 0.0001, meas_voltage_K2)\n",
    "# dataid = do1d(appl_current, 6e-6 , -6e-6, 251, 0.01, meas_voltage_K1)\n",
    "# ivvi.set_dacs_zero()\n",
    "K2440.output(0)\n",
    "SGS.off()\n",
    "appl_current(0)\n",
    "plot_by_id(dataid)\n",
    "save_path = r\"D:\\data\\Albert\\103\\Plot\\104_{}.png\".format(dataid)  # Path to save the plot image\n",
    "autosave_plot_by_id(dataid, save_path)\n"
   ]
  },
  {
   "cell_type": "code",
   "execution_count": null,
   "id": "d76f7ea2",
   "metadata": {},
   "outputs": [],
   "source": [
    "SGS.off()\n",
    "SGS.power(20)\n",
    "SGS.frequency(0.1e9)\n",
    "SGS.on()\n",
    "DMM6500.averaging_count(1)\n",
    "DMM6500.averaging_enabled(False)\n",
    "K2440.output(1)\n",
    "\n",
    "I_range = 6e-6\n",
    "appl_current(-I_range)\n",
    "SGS_power = SGS.power()\n",
    "#appl_TG(-10)\n",
    "# magnet_x.field(0.4e-3)\n",
    "# magnet_y.field(2.53e-3)\n",
    "# sleep(1)\n",
    "\n",
    "# station.snapshot(update=True);\n",
    "exp = qc.new_experiment('IV-RF_f', sample_name=f'103-03_J2_27-26-30-31M(32G-33G-28G-29G)_1M_RF@{SGS_power}dBm_By@0.1mT')\n",
    "\n",
    "#do1d(param_set, start, stop, num_points, delay, *param_meas)\n",
    "dataid = do2d(SGS.frequency, 3.9e9, 6.9e9, 301, 0.0001, appl_current,-I_range ,I_range, 251, 0.0001, meas_voltage_K2)\n",
    "# dataid = do1d(appl_current, 6e-6 , -6e-6, 251, 0.01, meas_voltage_K1)\n",
    "# ivvi.set_dacs_zero()\n",
    "K2440.output(0)\n",
    "SGS.off()\n",
    "appl_current(0)\n",
    "plot_by_id(dataid)\n",
    "save_path = r\"D:\\data\\Albert\\103\\Plot\\104_{}.png\".format(dataid)  # Path to save the plot image\n",
    "autosave_plot_by_id(dataid, save_path)"
   ]
  },
  {
   "cell_type": "code",
   "execution_count": null,
   "id": "28992f6f",
   "metadata": {},
   "outputs": [],
   "source": [
    "appl_current(0)\n",
    "#appl_TG(0)\n",
    "magnet_y.field(0)\n",
    "sleep(2)\n",
    "magnet_x.field(0)\n",
    "sleep(2)\n",
    "#appl_voltage_AC(0.004)\n",
    "SGS.off()"
   ]
  },
  {
   "cell_type": "markdown",
   "id": "65c9a40a",
   "metadata": {},
   "source": [
    "## IV vs RF_f"
   ]
  },
  {
   "cell_type": "markdown",
   "id": "b285efb3",
   "metadata": {},
   "source": [
    "### Shapiro steps "
   ]
  },
  {
   "cell_type": "code",
   "execution_count": null,
   "id": "3a180ee1",
   "metadata": {
    "scrolled": true
   },
   "outputs": [],
   "source": [
    "SGS.off()\n",
    "SGS.power(-10)\n",
    "SGS.frequency(11.725e9)\n",
    "SGS.on()\n",
    "DMM6500.averaging_count(5)\n",
    "DMM6500.averaging_enabled(False)\n",
    "K2440.output(1)\n",
    "\n",
    "appl_current(-2e-7)\n",
    "#appl_TG(-10)\n",
    "#magnet_x.field(0.23e-3)\n",
    "#magnet_y.field(1.41e-3)\n",
    "# sleep(1)\n",
    "\n",
    "# station.snapshot(update=True);\n",
    "exp = qc.new_experiment('IV-RF_f', sample_name=f'103-03_J2_27-26-30-31M(32G-33G-28G-29G)_1M_By@0.1mT{-I_range}')\n",
    "\n",
    "#do1d(param_set, start, stop, num_points, delay, *param_meas)\"\"\n",
    "dataid = do1d(appl_current,-2e-7 ,2e-7, 101, 0.05,  meas_voltage_K2)\n",
    "# dataid = do1d(appl_current, 6e-6 , -6e-6, 251, 0.01, meas_voltage_K1)\n",
    "# ivvi.set_dacs_zero()\n",
    "K2440.output(0)\n",
    "SGS.off()\n",
    "appl_current(0)\n",
    "plot_by_id(dataid)\n",
    "# print(get_R_from_IV(dataid))\n",
    "#print(get_R_from_IV_2(dataid))"
   ]
  },
  {
   "cell_type": "code",
   "execution_count": null,
   "id": "51fe069b",
   "metadata": {},
   "outputs": [],
   "source": [
    "SGS.off()\n",
    "SGS.power(0)\n",
    "SGS.frequency(3.87e9)\n",
    "SGS.on()\n",
    "DMM6500.averaging_count(5)\n",
    "DMM6500.averaging_enabled(False)\n",
    "K2440.output(1)\n",
    "\n",
    "appl_current(-1.2e-6)\n",
    "#appl_TG(-10)\n",
    "magnet_y.field(-10e-3)\n",
    "\n",
    "#magnet_y.field(1.41e-3)\n",
    "# sleep(1)\n",
    "\n",
    "# station.snapshot(update=True);\n",
    "exp = qc.new_experiment('Bx vs RF_f', sample_name='By vs RF_f_J2_3.87_-10dB')\n",
    "\n",
    "#do1d(param_set, start, stop, num_points, delay, *param_meas)\"\"\n",
    "dataid = do2d(magnet_y.field, -10e-3, 10e-3,701, 1, appl_current,-1.2e-6 ,1.2e-6, 101, 0.05,  meas_voltage_K2)\n",
    "# dataid = do1d(appl_current, 6e-6 , -6e-6, 251, 0.01, meas_voltage_K1)\n",
    "# ivvi.set_dacs_zero()\n",
    "K2440.output(0)\n",
    "SGS.off()\n",
    "appl_current(0)\n",
    "plot_by_id(dataid)\n",
    "# print(get_R_from_IV(dataid))\n",
    "#print(get_R_from_IV_2(dataid))"
   ]
  },
  {
   "cell_type": "code",
   "execution_count": null,
   "id": "5488e4c5",
   "metadata": {},
   "outputs": [],
   "source": [
    "appl_current(0)\n",
    "#appl_TG(0)\n",
    "magnet_y.field(0)\n",
    "sleep(10)\n",
    "magnet_x.field(0)\n",
    "sleep(10)\n",
    "#appl_voltage_AC(0.004)\n",
    "SGS.off()"
   ]
  },
  {
   "cell_type": "markdown",
   "id": "04e50dcd",
   "metadata": {},
   "source": [
    "## IV vs Power Dependence"
   ]
  },
  {
   "cell_type": "code",
   "execution_count": null,
   "id": "0368ef58",
   "metadata": {},
   "outputs": [],
   "source": [
    "SGS.off()"
   ]
  },
  {
   "cell_type": "code",
   "execution_count": null,
   "id": "3d6eab35",
   "metadata": {},
   "outputs": [],
   "source": [
    "SGS.power(-40)"
   ]
  },
  {
   "cell_type": "code",
   "execution_count": null,
   "id": "d760383a",
   "metadata": {},
   "outputs": [],
   "source": [
    "SGS.off()"
   ]
  },
  {
   "cell_type": "code",
   "execution_count": null,
   "id": "f0984a37",
   "metadata": {
    "scrolled": true
   },
   "outputs": [],
   "source": [
    "SGS.off()\n",
    "SGS.power(-20)\n",
    "SGS.frequency(5.9534e9)\n",
    "SGS_frequency = SGS.frequency()\n",
    "SGS.on()\n",
    "DMM6500.averaging_count(3)\n",
    "DMM6500.averaging_enabled(False)\n",
    "K2440.output(1)\n",
    "\n",
    "#magnet_x.field(15e-3)\n",
    "#sleep(5)\n",
    "I_range = 6e-6\n",
    "appl_current(-I_range)\n",
    "#appl_TG(-30)\n",
    "sleep(2)\n",
    "\n",
    "# station.snapshot(update=True);\n",
    "exp = qc.new_experiment('IV-RF_p', sample_name=f'103-03_J2_27-26-30-31M(32G-33G-28G-29G)_1M_RF@{SGS_frequency*1e-9:.4f}GHz_By@0.1mT')\n",
    "\n",
    "#do1d(param_set, start, stop, num_points, delay, *param_meas)\n",
    "\n",
    "dataid = do2d(SGS.power,10, 15, 51, 0.1, appl_current,-I_range ,I_range, 301, 0.00001, meas_voltage_K2)\n",
    "# dataid = do1d(appl_current, 6e-6 , -6e-6, 251, 0.01, meas_voltage_K1)\n",
    "# ivvi.set_dacs_zero()\n",
    "\n",
    "SGS.off()\n",
    "appl_current(0)\n",
    "K2440.output()\n",
    "plot_by_id(dataid)\n",
    "\n",
    "# print(get_R_from_IV(dataid))\n",
    "print(get_R_from_IV_2(dataid))"
   ]
  },
  {
   "cell_type": "code",
   "execution_count": null,
   "id": "de3fc621",
   "metadata": {},
   "outputs": [],
   "source": [
    "SGS.off()\n",
    "SGS.power(-25)\n",
    "SGS.frequency(5.226e9)\n",
    "SGS.on()\n",
    "DMM6500.averaging_count(5)\n",
    "DMM6500.averaging_enabled(True)\n",
    "K2440.output(1)\n",
    "\n",
    "magnet_y.field(-8e-3)\n",
    "sleep(60)\n",
    "appl_current(-2e-7)\n",
    "#appl_TG(-30)\n",
    "sleep(2)\n",
    "\n",
    "# station.snapshot(update=True);\n",
    "exp = qc.new_experiment('IV vs power dependence', sample_name='IV vs PD_5.226_By:-8mT')\n",
    "\n",
    "#do1d(param_set, start, stop, num_points, delay, *param_meas)\n",
    "\n",
    "dataid = do2d(SGS.power,-25, 10, 101, 20, appl_current,-2e-7 ,2e-7, 101, 0.05, meas_voltage_K2)\n",
    "# dataid = do1d(appl_current, 6e-6 , -6e-6, 251, 0.01, meas_voltage_K1)\n",
    "# ivvi.set_dacs_zero()\n",
    "\n",
    "SGS.off()\n",
    "appl_current(0)\n",
    "K2440.output()\n",
    "plot_by_id(dataid)\n",
    "\n",
    "# print(get_R_from_IV(dataid))\n",
    "print(get_R_from_IV_2(dataid))"
   ]
  },
  {
   "cell_type": "markdown",
   "id": "13e12840",
   "metadata": {},
   "source": [
    "### PD vs frequency_IV loop (not yet)"
   ]
  },
  {
   "cell_type": "code",
   "execution_count": null,
   "id": "8659ae09",
   "metadata": {
    "code_folding": []
   },
   "outputs": [],
   "source": [
    "frequencies = [3.248, 3.387, 5.677]\n",
    "power_levels = [-20, 0, 25]\n",
    "     \n",
    "SGS.off()\n",
    "SGS.power(-20)\n",
    "SGS.frequency(3.387e9)\n",
    "SGS.on()\n",
    "DMM6500.averaging_count(5)\n",
    "DMM6500.averaging_enabled(True)\n",
    "K2440.output(1)\n",
    "\n",
    "appl_current(-2e-6)\n",
    "#appl_TG(-10)\n",
    "sleep(1)\n",
    "\n",
    "for freq in frequencies:\n",
    "    SGS.frequency(freq)\n",
    "    for power_level in power_levels:\n",
    "        SGS.power(power_level)\n",
    "\n",
    "# station.snapshot(update=True);\n",
    "exp = qc.new_experiment('IV vs power dependence', sample_name='IV vs PD_J2_3.387_m20')\n",
    "dataid = do2d(SGS.power, 4, 8, 100, 2, appl_current, -1e-6, 1e-6, 101, 0.05, meas_voltage_K2)\n",
    "\n",
    " # 關閉設備，並在需要時列印或繪製結果\n",
    "SGS.off()\n",
    "appl_current(0)\n",
    "K2440.output()\n",
    "plot_by_id(dataid)\n",
    "    \n",
    "print(f\"頻率：{freq} Hz，功率水平：{power_level} dB\")\n",
    "print(get_R_from_IV_2(dataid))\n"
   ]
  },
  {
   "cell_type": "markdown",
   "id": "5c2101a5",
   "metadata": {},
   "source": [
    "## IV vs Vgate"
   ]
  },
  {
   "cell_type": "code",
   "execution_count": null,
   "id": "48eb3a89",
   "metadata": {},
   "outputs": [],
   "source": [
    "appl_current(0)\n",
    "appl_TG(0)\n",
    "magnet_y.field(0)\n",
    "sleep(10)\n",
    "magnet_x.field(0)\n",
    "sleep(10)\n",
    "appl_voltage_AC(0.004)\n",
    "SGS.off()"
   ]
  },
  {
   "cell_type": "code",
   "execution_count": null,
   "id": "5deaef19",
   "metadata": {},
   "outputs": [],
   "source": [
    "SGS.off()\n",
    "SGS.power(25)\n",
    "SGS.frequency(4.83e9)\n",
    "SGS.on()\n",
    "DMM6500.averaging_count(5)\n",
    "DMM6500.averaging_enabled(True)\n",
    "appl_current(-0.4e-7)\n",
    "appl_current_AC(0.1e-10)\n",
    "\n",
    "appl_TG(-10)\n",
    "sleep(1)\n",
    "\n",
    "# station.snapshot(update=True);\n",
    "exp = qc.new_experiment('IV vs Vgate', sample_name='IV vs Vg')\n",
    "\n",
    "dataid = do2d(appl_TG, -10, 10, 751, 0.5, appl_current, -0.4e-7, 0.4e-7, 101, 0.01, meas_voltage_AC_L1, meas_voltage_AC_L1_P, meas_voltage_K2)\n",
    "# dataid = do1d(appl_current, 6e-6 , -6e-6, 251, 0.01, meas_voltage_K1)\n",
    "# ivvi.set_dacs_zero()\n",
    "SGS.off()\n",
    "appl_current(0)\n",
    "plot_by_id(dataid)\n",
    "# print(get_R_from_IV(dataid))\n",
    "#print(get_R_from_IV_2(dataid))"
   ]
  },
  {
   "cell_type": "code",
   "execution_count": null,
   "id": "6bbd39fb",
   "metadata": {},
   "outputs": [],
   "source": [
    "appl_current(0)\n",
    "appl_TG(0)\n",
    "magnet_y.field(0)\n",
    "sleep(10)\n",
    "magnet_x.field(0)\n",
    "sleep(10)\n",
    "appl_voltage_AC(0.004)\n",
    "SGS.off()"
   ]
  },
  {
   "cell_type": "code",
   "execution_count": null,
   "id": "00d4b770",
   "metadata": {},
   "outputs": [],
   "source": [
    "import matplotlib.pyplot as plt\n",
    "import numpy as np\n",
    "\n",
    "# Constants\n",
    "k = 8.617333262145e-5  # Boltzmann constant in eV/K\n",
    "E_a = 0.5  # Example value for the activation energy in eV\n",
    "p_0 = 1.0  # Example value for p0\n",
    "\n",
    "# Create an array of temperatures from 100 to 1000 K\n",
    "temperatures = np.linspace(100, 1000, 50)\n",
    "\n",
    "# Calculate 1/T\n",
    "inverse_temperatures = 1 / temperatures\n",
    "\n",
    "# Calculate ln(p)\n",
    "ln_p = np.log(p_0) - (E_a / k) * inverse_temperatures\n",
    "\n",
    "# Plotting\n",
    "plt.figure(figsize=(8, 6))\n",
    "plt.plot(inverse_temperatures, ln_p, marker='o', linestyle='-')\n",
    "plt.xlabel('1/T (1/K)')\n",
    "plt.ylabel('ln(p)')\n",
    "plt.title('ln(p) vs 1/T for Hole Concentration')\n",
    "plt.grid(True)\n",
    "plt.show()\n"
   ]
  },
  {
   "cell_type": "code",
   "execution_count": null,
   "id": "f610e7bc",
   "metadata": {},
   "outputs": [],
   "source": []
  }
 ],
 "metadata": {
  "kernelspec": {
   "display_name": "qcodes",
   "language": "python",
   "name": "python3"
  },
  "language_info": {
   "codemirror_mode": {
    "name": "ipython",
    "version": 3
   },
   "file_extension": ".py",
   "mimetype": "text/x-python",
   "name": "python",
   "nbconvert_exporter": "python",
   "pygments_lexer": "ipython3",
   "version": "3.11.3"
  },
  "toc": {
   "base_numbering": 1,
   "nav_menu": {},
   "number_sections": true,
   "sideBar": false,
   "skip_h1_title": false,
   "title_cell": "Table of Contents",
   "title_sidebar": "Contents",
   "toc_cell": false,
   "toc_position": {
    "height": "783px",
    "left": "260px",
    "top": "67.125px",
    "width": "182px"
   },
   "toc_section_display": true,
   "toc_window_display": true
  }
 },
 "nbformat": 4,
 "nbformat_minor": 5
}
