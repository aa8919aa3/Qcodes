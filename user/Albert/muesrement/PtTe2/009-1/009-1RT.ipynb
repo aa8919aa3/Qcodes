{
 "cells": [
  {
   "cell_type": "markdown",
   "id": "256e0f19",
   "metadata": {},
   "source": [
    "# Initialization"
   ]
  },
  {
   "cell_type": "markdown",
   "id": "9d160fe4",
   "metadata": {},
   "source": [
    "## Inport modules"
   ]
  },
  {
   "cell_type": "code",
   "execution_count": 1,
   "id": "88979d6d",
   "metadata": {},
   "outputs": [
    {
     "name": "stdout",
     "output_type": "stream",
     "text": [
      "Imported all modules, QCoDeS version: 0.39.0 initialized\n"
     ]
    }
   ],
   "source": [
    "%matplotlib ipympl\n",
    "import os, sys\n",
    "import time\n",
    "import pyvisa\n",
    "import warnings\n",
    "import numpy as np\n",
    "import qcodes as qc\n",
    "import plotly.graph_objects as go\n",
    "import matplotlib.pyplot as plt\n",
    "\n",
    "def find_qcodes_local_dir():\n",
    "    dirpath = os.getcwd()\n",
    "    while True:\n",
    "        dirpath, folder_name = os.path.split(dirpath)\n",
    "        if folder_name == 'QCoDeS_local':\n",
    "            return os.path.join(dirpath, folder_name)\n",
    "        if not folder_name:  # Reached the root directory\n",
    "            return None\n",
    "qcodes_local_dir = find_qcodes_local_dir()\n",
    "sys.path.append(f'{qcodes_local_dir}')\n",
    "\n",
    "from tqdm import tqdm\n",
    "from pprint import pprint\n",
    "from time import sleep, monotonic, time\n",
    "from IPython.display import clear_output\n",
    "from qcodes.dataset.measurements import Measurement\n",
    "from qcodes.utils.metadata import diff_param_values\n",
    "from qcodes.dataset.plotting import plot_dataset, plot_by_id\n",
    "from qcodes import Parameter, ManualParameter, ScaledParameter\n",
    "from qcodes.instrument.specialized_parameters import ElapsedTimeParameter\n",
    "from sweeps_v2 import do1d, do2d, time_sweep, measure_until, do1d_until\n",
    "\n",
    "print('Imported all modules, QCoDeS version:', qc.__version__, 'initialized')\n",
    "\n",
    "# warnings.filterwarnings('ignore')"
   ]
  },
  {
   "cell_type": "code",
   "execution_count": 2,
   "id": "399e7806",
   "metadata": {},
   "outputs": [],
   "source": [
    "def find_qcodes_local_dir():\n",
    "    dirpath = os.getcwd()\n",
    "    while True:\n",
    "        dirpath, folder_name = os.path.split(dirpath)\n",
    "        if folder_name == 'QCoDeS_local':\n",
    "            return os.path.join(dirpath, folder_name)\n",
    "        if not folder_name:  # Reached the root directory\n",
    "            return None\n",
    "qcodes_local_dir = find_qcodes_local_dir()"
   ]
  },
  {
   "cell_type": "code",
   "execution_count": 3,
   "id": "fff9a7bd",
   "metadata": {},
   "outputs": [
    {
     "data": {
      "text/plain": [
       "'c:\\\\Users\\\\quant\\\\OneDrive\\\\Documents\\\\GitHub\\\\QCoDeS_local'"
      ]
     },
     "execution_count": 3,
     "metadata": {},
     "output_type": "execute_result"
    }
   ],
   "source": [
    "qcodes_local_dir"
   ]
  },
  {
   "cell_type": "code",
   "execution_count": 4,
   "id": "64ad1e6c",
   "metadata": {},
   "outputs": [
    {
     "data": {
      "text/plain": [
       "'c:\\\\Users\\\\quant\\\\OneDrive\\\\Documents\\\\GitHub\\\\QCoDeS_local\\\\init_fridge.py'"
      ]
     },
     "execution_count": 4,
     "metadata": {},
     "output_type": "execute_result"
    }
   ],
   "source": [
    "def find_init_fridge_py():\n",
    "    for root, dirs, files in os.walk(qcodes_local_dir):\n",
    "        if 'init_fridge.py' in files:\n",
    "            return os.path.join(root, 'init_fridge.py')\n",
    "    return None\n",
    "\n",
    "init_fridge_py_path = find_init_fridge_py()\n",
    "init_fridge_py_path"
   ]
  },
  {
   "cell_type": "code",
   "execution_count": 4,
   "id": "cc4a1c10",
   "metadata": {},
   "outputs": [
    {
     "data": {
      "text/plain": [
       "'c:\\\\Users\\\\quant\\\\OneDrive\\\\Documents\\\\GitHub\\\\QCoDeS_local\\\\init_fridge_v2.py'"
      ]
     },
     "execution_count": 4,
     "metadata": {},
     "output_type": "execute_result"
    }
   ],
   "source": [
    "def find_init_fridge_v2_py():\n",
    "    for root, dirs, files in os.walk(qcodes_local_dir):\n",
    "        if 'init_fridge_v2.py' in files:\n",
    "            return os.path.join(root, 'init_fridge_v2.py')\n",
    "    return None\n",
    "\n",
    "init_fridge_v2_py_path = find_init_fridge_v2_py()\n",
    "init_fridge_v2_py_path"
   ]
  },
  {
   "cell_type": "code",
   "execution_count": null,
   "id": "c09fa82c",
   "metadata": {},
   "outputs": [],
   "source": [
    "fridge_name = 'BF1'\n",
    "%run \"{init_fridge_py_path}\" {fridge_name}"
   ]
  },
  {
   "cell_type": "code",
   "execution_count": 7,
   "id": "bb19a743",
   "metadata": {},
   "outputs": [
    {
     "name": "stdout",
     "output_type": "stream",
     "text": [
      "Found init_BF1_v2.py at: c:\\Users\\quant\\OneDrive\\Documents\\GitHub\\QCoDeS_local\\fridge_specific\\init_BF1_v2.py\n",
      "Error connecting to TCPIP0::192.168.1.42::inst0::INSTR: VI_ERROR_RSRC_NFOUND (-1073807343): Insufficient location information or the requested device or resource is not present in the system.\n",
      "Error connecting to TCPIP0::192.168.1.42::inst1::INSTR: VI_ERROR_RSRC_NFOUND (-1073807343): Insufficient location information or the requested device or resource is not present in the system.\n",
      "Error connecting to TCPIP0::192.168.1.6::inst0::INSTR: VI_ERROR_RSRC_NFOUND (-1073807343): Insufficient location information or the requested device or resource is not present in the system.\n",
      "Error connecting to TCPIP0::192.168.1.7::inst0::INSTR: VI_ERROR_RSRC_NFOUND (-1073807343): Insufficient location information or the requested device or resource is not present in the system.\n",
      "Error connecting to TCPIP0::ZNB20-64-101393::inst0::INSTR: VI_ERROR_RSRC_NFOUND (-1073807343): Insufficient location information or the requested device or resource is not present in the system.\n",
      "Device: TCPIP0::K-E5080B-02870.local::hislip0::INSTR\n",
      "IDN: Keysight Technologies,E5080B,MY59202870,A.15.10.08\n",
      "\n",
      "Device: TCPIP0::K-E5080B-02870.local::inst0::INSTR\n",
      "IDN: Keysight Technologies,E5080B,MY59202870,A.15.10.08\n",
      "\n",
      "Error connecting to ASRL1::INSTR: VI_ERROR_TMO (-1073807339): Timeout expired before operation completed.\n",
      "Error connecting to ASRL2::INSTR: VI_ERROR_TMO (-1073807339): Timeout expired before operation completed.\n",
      "Error connecting to ASRL10::INSTR: VI_ERROR_TMO (-1073807339): Timeout expired before operation completed.\n",
      "Device: GPIB0::6::INSTR\n",
      "IDN: KEITHLEY INSTRUMENTS,MODEL DMM6500,04518052,1.7.7b\n",
      "\n",
      "Connected to: KEITHLEY INSTRUMENTS DMM6500 (serial:04518052, firmware:1.7.7b) in 0.02s\n",
      "Added Keithley DMM6500 at GPIB0::6::INSTR to the station.\n",
      "Device: GPIB0::19::INSTR\n",
      "IDN: KEITHLEY INSTRUMENTS INC.,MODEL 2400,0957985,C32   Oct  4 2010 14:20:11/A02  /K/M\n",
      "\n",
      "Connected to: KEITHLEY INSTRUMENTS INC. 2400 (serial:0957985, firmware:C32   Oct  4 2010 14:20:11/A02  /K/M) in 0.03s\n"
     ]
    },
    {
     "name": "stderr",
     "output_type": "stream",
     "text": [
      "[K2400(Keithley2400)] Snapshot: Could not update parameter: volt\n",
      "[K2400(Keithley2400)] Snapshot: Could not update parameter: curr\n",
      "[K2400(Keithley2400)] Snapshot: Could not update parameter: resistance\n",
      "[K2440(Keithley2400)] Snapshot: Could not update parameter: volt\n",
      "[K2440(Keithley2400)] Snapshot: Could not update parameter: curr\n",
      "[K2440(Keithley2400)] Snapshot: Could not update parameter: resistance\n"
     ]
    },
    {
     "name": "stdout",
     "output_type": "stream",
     "text": [
      "Device: GPIB0::22::INSTR\n",
      "IDN: KEITHLEY INSTRUMENTS INC.,MODEL 2440,1225508,C30   Mar 17 2006 09:29:29/A02  /B/A\n",
      "\n",
      "Connected to: KEITHLEY INSTRUMENTS INC. 2440 (serial:1225508, firmware:C30   Mar 17 2006 09:29:29/A02  /B/A) in 0.03s\n",
      "Failed to ping 169.254.115.3: [WinError 10049] The requested address is not valid in its context\n",
      "Failed to ping 169.254.115.2: [WinError 10049] The requested address is not valid in its context\n",
      "Failed to ping 169.254.115.1: [WinError 10049] The requested address is not valid in its context\n",
      "One or more pings failed, cannot establish connection to all magnets.\n",
      "\n",
      "Station list:\n",
      "{'DMM6500': <Keithley_6500: DMM6500>,\n",
      " 'K2400': <Keithley2400: K2400>,\n",
      " 'K2440': <Keithley2400: K2440>}\n"
     ]
    }
   ],
   "source": [
    "fridge_name = 'BF1'\n",
    "%run \"{init_fridge_v2_py_path}\" {fridge_name}"
   ]
  },
  {
   "cell_type": "code",
   "execution_count": 8,
   "id": "c9e134aa",
   "metadata": {},
   "outputs": [
    {
     "name": "stdout",
     "output_type": "stream",
     "text": [
      "{'components': {},\n",
      " 'config': None,\n",
      " 'instruments': {'DMM6500': {'__class__': 'qcodes.instrument_drivers.tektronix.Keithley_6500.Keithley_6500',\n",
      "                             'address': 'GPIB0::6::INSTR',\n",
      "                             'functions': {},\n",
      "                             'label': 'DMM6500',\n",
      "                             'name': 'DMM6500',\n",
      "                             'parameters': {'IDN': {'__class__': 'qcodes.parameters.parameter.Parameter',\n",
      "                                                    'full_name': 'DMM6500_IDN',\n",
      "                                                    'instrument': 'qcodes.instrument_drivers.tektronix.Keithley_6500.Keithley_6500',\n",
      "                                                    'instrument_name': 'DMM6500',\n",
      "                                                    'inter_delay': 0,\n",
      "                                                    'label': 'IDN',\n",
      "                                                    'name': 'IDN',\n",
      "                                                    'post_delay': 0,\n",
      "                                                    'raw_value': {'firmware': '1.7.7b',\n",
      "                                                                  'model': 'DMM6500',\n",
      "                                                                  'serial': '04518052',\n",
      "                                                                  'vendor': 'KEITHLEY '\n",
      "                                                                            'INSTRUMENTS'},\n",
      "                                                    'ts': '2024-12-26 15:10:01',\n",
      "                                                    'unit': '',\n",
      "                                                    'vals': '<Anything>',\n",
      "                                                    'value': {'firmware': '1.7.7b',\n",
      "                                                              'model': 'DMM6500',\n",
      "                                                              'serial': '04518052',\n",
      "                                                              'vendor': 'KEITHLEY '\n",
      "                                                                        'INSTRUMENTS'}},\n",
      "                                            'amplitude': {'__class__': 'qcodes.parameters.parameter.Parameter',\n",
      "                                                          'full_name': 'DMM6500_amplitude',\n",
      "                                                          'instrument': 'qcodes.instrument_drivers.tektronix.Keithley_6500.Keithley_6500',\n",
      "                                                          'instrument_name': 'DMM6500',\n",
      "                                                          'inter_delay': 0,\n",
      "                                                          'label': 'amplitude',\n",
      "                                                          'name': 'amplitude',\n",
      "                                                          'post_delay': 0,\n",
      "                                                          'raw_value': -2.136732e-06,\n",
      "                                                          'ts': '2024-12-26 '\n",
      "                                                                '15:10:01',\n",
      "                                                          'unit': 'a.u.',\n",
      "                                                          'value': -2.136732e-06},\n",
      "                                            'auto_range_enabled': {'__class__': 'qcodes.parameters.parameter.Parameter',\n",
      "                                                                   'full_name': 'DMM6500_auto_range_enabled',\n",
      "                                                                   'instrument': 'qcodes.instrument_drivers.tektronix.Keithley_6500.Keithley_6500',\n",
      "                                                                   'instrument_name': 'DMM6500',\n",
      "                                                                   'inter_delay': 0,\n",
      "                                                                   'label': 'auto_range_enabled',\n",
      "                                                                   'name': 'auto_range_enabled',\n",
      "                                                                   'post_delay': 0,\n",
      "                                                                   'raw_value': True,\n",
      "                                                                   'ts': '2024-12-26 '\n",
      "                                                                         '15:10:01',\n",
      "                                                                   'unit': '',\n",
      "                                                                   'vals': '<Boolean>',\n",
      "                                                                   'value': True},\n",
      "                                            'averaging_count': {'__class__': 'qcodes.parameters.parameter.Parameter',\n",
      "                                                                'full_name': 'DMM6500_averaging_count',\n",
      "                                                                'instrument': 'qcodes.instrument_drivers.tektronix.Keithley_6500.Keithley_6500',\n",
      "                                                                'instrument_name': 'DMM6500',\n",
      "                                                                'inter_delay': 0,\n",
      "                                                                'label': 'averaging_count',\n",
      "                                                                'name': 'averaging_count',\n",
      "                                                                'post_delay': 0,\n",
      "                                                                'raw_value': 10,\n",
      "                                                                'ts': '2024-12-26 '\n",
      "                                                                      '15:10:01',\n",
      "                                                                'unit': '',\n",
      "                                                                'vals': '<Ints '\n",
      "                                                                        '1<=v<=100>',\n",
      "                                                                'value': 10},\n",
      "                                            'averaging_enabled': {'__class__': 'qcodes.parameters.parameter.Parameter',\n",
      "                                                                  'full_name': 'DMM6500_averaging_enabled',\n",
      "                                                                  'instrument': 'qcodes.instrument_drivers.tektronix.Keithley_6500.Keithley_6500',\n",
      "                                                                  'instrument_name': 'DMM6500',\n",
      "                                                                  'inter_delay': 0,\n",
      "                                                                  'label': 'averaging_enabled',\n",
      "                                                                  'name': 'averaging_enabled',\n",
      "                                                                  'post_delay': 0,\n",
      "                                                                  'raw_value': True,\n",
      "                                                                  'ts': '2024-12-26 '\n",
      "                                                                        '15:10:01',\n",
      "                                                                  'unit': '',\n",
      "                                                                  'vals': '<Boolean>',\n",
      "                                                                  'value': True},\n",
      "                                            'averaging_type': {'__class__': 'qcodes.parameters.parameter.Parameter',\n",
      "                                                               'full_name': 'DMM6500_averaging_type',\n",
      "                                                               'instrument': 'qcodes.instrument_drivers.tektronix.Keithley_6500.Keithley_6500',\n",
      "                                                               'instrument_name': 'DMM6500',\n",
      "                                                               'inter_delay': 0,\n",
      "                                                               'label': 'averaging_type',\n",
      "                                                               'name': 'averaging_type',\n",
      "                                                               'post_delay': 0,\n",
      "                                                               'raw_value': 'repeat',\n",
      "                                                               'ts': '2024-12-26 '\n",
      "                                                                     '15:10:01',\n",
      "                                                               'unit': '',\n",
      "                                                               'vals': '<Enum: '\n",
      "                                                                       \"{'repeat', \"\n",
      "                                                                       \"'moving'}>\",\n",
      "                                                               'value': 'repeat'},\n",
      "                                            'digits': {'__class__': 'qcodes.parameters.parameter.Parameter',\n",
      "                                                       'full_name': 'DMM6500_digits',\n",
      "                                                       'instrument': 'qcodes.instrument_drivers.tektronix.Keithley_6500.Keithley_6500',\n",
      "                                                       'instrument_name': 'DMM6500',\n",
      "                                                       'inter_delay': 0,\n",
      "                                                       'label': 'digits',\n",
      "                                                       'name': 'digits',\n",
      "                                                       'post_delay': 0,\n",
      "                                                       'raw_value': '6',\n",
      "                                                       'ts': '2024-12-26 '\n",
      "                                                             '15:10:01',\n",
      "                                                       'unit': '',\n",
      "                                                       'vals': '<Ints 4<=v<=7>',\n",
      "                                                       'value': 6},\n",
      "                                            'display_backlight': {'__class__': 'qcodes.parameters.parameter.Parameter',\n",
      "                                                                  'full_name': 'DMM6500_display_backlight',\n",
      "                                                                  'instrument': 'qcodes.instrument_drivers.tektronix.Keithley_6500.Keithley_6500',\n",
      "                                                                  'instrument_name': 'DMM6500',\n",
      "                                                                  'inter_delay': 0,\n",
      "                                                                  'label': 'display_backlight',\n",
      "                                                                  'name': 'display_backlight',\n",
      "                                                                  'post_delay': 0,\n",
      "                                                                  'raw_value': 'ON50',\n",
      "                                                                  'ts': '2024-12-26 '\n",
      "                                                                        '15:10:01',\n",
      "                                                                  'unit': '',\n",
      "                                                                  'val_mapping': {'Blackout': 'BLACkout',\n",
      "                                                                                  'Off': 'OFF',\n",
      "                                                                                  'On 100': 'ON100',\n",
      "                                                                                  'On 25': 'ON25',\n",
      "                                                                                  'On 50': 'ON50',\n",
      "                                                                                  'On 75': 'ON75'},\n",
      "                                                                  'vals': '<Enum: '\n",
      "                                                                          \"{'On \"\n",
      "                                                                          \"100', \"\n",
      "                                                                          \"'On \"\n",
      "                                                                          \"25', \"\n",
      "                                                                          \"'Blackout', \"\n",
      "                                                                          \"'On \"\n",
      "                                                                          \"75', \"\n",
      "                                                                          \"'On \"\n",
      "                                                                          \"50', \"\n",
      "                                                                          \"'Off'}>\",\n",
      "                                                                  'value': 'On '\n",
      "                                                                           '50'},\n",
      "                                            'mode': {'__class__': 'qcodes.parameters.parameter.Parameter',\n",
      "                                                     'full_name': 'DMM6500_mode',\n",
      "                                                     'instrument': 'qcodes.instrument_drivers.tektronix.Keithley_6500.Keithley_6500',\n",
      "                                                     'instrument_name': 'DMM6500',\n",
      "                                                     'inter_delay': 0,\n",
      "                                                     'label': 'mode',\n",
      "                                                     'name': 'mode',\n",
      "                                                     'post_delay': 0,\n",
      "                                                     'raw_value': 'VOLT:DC',\n",
      "                                                     'ts': '2024-12-26 '\n",
      "                                                           '15:10:01',\n",
      "                                                     'unit': '',\n",
      "                                                     'val_mapping': {'2w resistance': 'RES',\n",
      "                                                                     '4w resistance': 'FRES',\n",
      "                                                                     'ac current': 'CURR:AC',\n",
      "                                                                     'ac voltage': 'VOLT:AC',\n",
      "                                                                     'dc current': 'CURR:DC',\n",
      "                                                                     'dc voltage': 'VOLT:DC',\n",
      "                                                                     'frequency': 'FREQ',\n",
      "                                                                     'temperature': 'TEMP'},\n",
      "                                                     'vals': '<Enum: '\n",
      "                                                             \"{'temperature', \"\n",
      "                                                             \"'dc current', \"\n",
      "                                                             \"'dc voltage', \"\n",
      "                                                             \"'4w resistance', \"\n",
      "                                                             \"'2w resistance', \"\n",
      "                                                             \"'ac current', \"\n",
      "                                                             \"'frequency', 'ac \"\n",
      "                                                             \"voltage'}>\",\n",
      "                                                     'value': 'dc voltage'},\n",
      "                                            'nplc': {'__class__': 'qcodes.parameters.parameter.Parameter',\n",
      "                                                     'full_name': 'DMM6500_nplc',\n",
      "                                                     'instrument': 'qcodes.instrument_drivers.tektronix.Keithley_6500.Keithley_6500',\n",
      "                                                     'instrument_name': 'DMM6500',\n",
      "                                                     'inter_delay': 0,\n",
      "                                                     'label': 'nplc',\n",
      "                                                     'name': 'nplc',\n",
      "                                                     'post_delay': 0,\n",
      "                                                     'raw_value': 1.0,\n",
      "                                                     'ts': '2024-12-26 '\n",
      "                                                           '15:10:01',\n",
      "                                                     'unit': '',\n",
      "                                                     'vals': '<Numbers '\n",
      "                                                             '0.01<=v<=10>',\n",
      "                                                     'value': 1.0},\n",
      "                                            'range': {'__class__': 'qcodes.parameters.parameter.Parameter',\n",
      "                                                      'full_name': 'DMM6500_range',\n",
      "                                                      'instrument': 'qcodes.instrument_drivers.tektronix.Keithley_6500.Keithley_6500',\n",
      "                                                      'instrument_name': 'DMM6500',\n",
      "                                                      'inter_delay': 0,\n",
      "                                                      'label': 'range',\n",
      "                                                      'name': 'range',\n",
      "                                                      'post_delay': 0,\n",
      "                                                      'raw_value': 0.1,\n",
      "                                                      'ts': '2024-12-26 '\n",
      "                                                            '15:10:01',\n",
      "                                                      'unit': '',\n",
      "                                                      'vals': '<Numbers>',\n",
      "                                                      'value': 0.1},\n",
      "                                            'timeout': {'__class__': 'qcodes.parameters.parameter.Parameter',\n",
      "                                                        'full_name': 'DMM6500_timeout',\n",
      "                                                        'instrument': 'qcodes.instrument_drivers.tektronix.Keithley_6500.Keithley_6500',\n",
      "                                                        'instrument_name': 'DMM6500',\n",
      "                                                        'inter_delay': 0,\n",
      "                                                        'label': 'timeout',\n",
      "                                                        'name': 'timeout',\n",
      "                                                        'post_delay': 0,\n",
      "                                                        'raw_value': 10.0,\n",
      "                                                        'ts': '2024-12-26 '\n",
      "                                                              '15:10:01',\n",
      "                                                        'unit': 's',\n",
      "                                                        'vals': '<MultiType: '\n",
      "                                                                'Numbers v>=0, '\n",
      "                                                                'Enum: {None}>',\n",
      "                                                        'value': 10.0},\n",
      "                                            'trigger1_delay': {'__class__': 'qcodes.parameters.parameter.Parameter',\n",
      "                                                               'full_name': 'DMM6500_trigger1_delay',\n",
      "                                                               'instrument': 'qcodes.instrument_drivers.tektronix.Keithley_6500.Keithley_6500',\n",
      "                                                               'instrument_name': 'DMM6500',\n",
      "                                                               'inter_delay': 0,\n",
      "                                                               'label': 'trigger1_delay',\n",
      "                                                               'name': 'trigger1_delay',\n",
      "                                                               'post_delay': 0,\n",
      "                                                               'raw_value': '1E-05',\n",
      "                                                               'ts': '2024-12-26 '\n",
      "                                                                     '15:10:01',\n",
      "                                                               'unit': 's',\n",
      "                                                               'vals': '<Numbers '\n",
      "                                                                       '0<=v<=999999.999>',\n",
      "                                                               'value': 1e-05},\n",
      "                                            'trigger1_source': {'__class__': 'qcodes.parameters.parameter.Parameter',\n",
      "                                                                'full_name': 'DMM6500_trigger1_source',\n",
      "                                                                'instrument': 'qcodes.instrument_drivers.tektronix.Keithley_6500.Keithley_6500',\n",
      "                                                                'instrument_name': 'DMM6500',\n",
      "                                                                'inter_delay': 0,\n",
      "                                                                'label': 'trigger1_source',\n",
      "                                                                'name': 'trigger1_source',\n",
      "                                                                'post_delay': 0,\n",
      "                                                                'raw_value': 'NONE',\n",
      "                                                                'ts': '2024-12-26 '\n",
      "                                                                      '15:10:01',\n",
      "                                                                'unit': '',\n",
      "                                                                'val_mapping': {'bus': 'COMM',\n",
      "                                                                                'external': 'EXT',\n",
      "                                                                                'front-panel': 'DISP',\n",
      "                                                                                'immediate': 'NONE',\n",
      "                                                                                'notify1': 'NOT1',\n",
      "                                                                                'notify2': 'NOT2',\n",
      "                                                                                'notify3': 'NOT3',\n",
      "                                                                                'timer1': 'TIM1',\n",
      "                                                                                'timer2': 'TIM2',\n",
      "                                                                                'timer3': 'TIM3',\n",
      "                                                                                'timer4': 'TIM4'},\n",
      "                                                                'vals': '<Enum: '\n",
      "                                                                        \"{'notify2', \"\n",
      "                                                                        \"'notify3', \"\n",
      "                                                                        \"'notify1', \"\n",
      "                                                                        \"'timer4', \"\n",
      "                                                                        \"'timer3', \"\n",
      "                                                                        \"'timer2', \"\n",
      "                                                                        \"'front-panel', \"\n",
      "                                                                        \"'bus', \"\n",
      "                                                                        \"'external', \"\n",
      "                                                                        \"'timer1', \"\n",
      "                                                                        \"'immediate'}>\",\n",
      "                                                                'value': 'immediate'},\n",
      "                                            'trigger2_delay': {'__class__': 'qcodes.parameters.parameter.Parameter',\n",
      "                                                               'full_name': 'DMM6500_trigger2_delay',\n",
      "                                                               'instrument': 'qcodes.instrument_drivers.tektronix.Keithley_6500.Keithley_6500',\n",
      "                                                               'instrument_name': 'DMM6500',\n",
      "                                                               'inter_delay': 0,\n",
      "                                                               'label': 'trigger2_delay',\n",
      "                                                               'name': 'trigger2_delay',\n",
      "                                                               'post_delay': 0,\n",
      "                                                               'raw_value': '1E-05',\n",
      "                                                               'ts': '2024-12-26 '\n",
      "                                                                     '15:10:01',\n",
      "                                                               'unit': 's',\n",
      "                                                               'vals': '<Numbers '\n",
      "                                                                       '0<=v<=999999.999>',\n",
      "                                                               'value': 1e-05},\n",
      "                                            'trigger2_source': {'__class__': 'qcodes.parameters.parameter.Parameter',\n",
      "                                                                'full_name': 'DMM6500_trigger2_source',\n",
      "                                                                'instrument': 'qcodes.instrument_drivers.tektronix.Keithley_6500.Keithley_6500',\n",
      "                                                                'instrument_name': 'DMM6500',\n",
      "                                                                'inter_delay': 0,\n",
      "                                                                'label': 'trigger2_source',\n",
      "                                                                'name': 'trigger2_source',\n",
      "                                                                'post_delay': 0,\n",
      "                                                                'raw_value': 'NONE',\n",
      "                                                                'ts': '2024-12-26 '\n",
      "                                                                      '15:10:01',\n",
      "                                                                'unit': '',\n",
      "                                                                'val_mapping': {'bus': 'COMM',\n",
      "                                                                                'external': 'EXT',\n",
      "                                                                                'front-panel': 'DISP',\n",
      "                                                                                'immediate': 'NONE',\n",
      "                                                                                'notify1': 'NOT1',\n",
      "                                                                                'notify2': 'NOT2',\n",
      "                                                                                'notify3': 'NOT3',\n",
      "                                                                                'timer1': 'TIM1',\n",
      "                                                                                'timer2': 'TIM2',\n",
      "                                                                                'timer3': 'TIM3',\n",
      "                                                                                'timer4': 'TIM4'},\n",
      "                                                                'vals': '<Enum: '\n",
      "                                                                        \"{'notify2', \"\n",
      "                                                                        \"'notify3', \"\n",
      "                                                                        \"'notify1', \"\n",
      "                                                                        \"'timer4', \"\n",
      "                                                                        \"'timer3', \"\n",
      "                                                                        \"'timer2', \"\n",
      "                                                                        \"'front-panel', \"\n",
      "                                                                        \"'bus', \"\n",
      "                                                                        \"'external', \"\n",
      "                                                                        \"'timer1', \"\n",
      "                                                                        \"'immediate'}>\",\n",
      "                                                                'value': 'immediate'},\n",
      "                                            'trigger3_delay': {'__class__': 'qcodes.parameters.parameter.Parameter',\n",
      "                                                               'full_name': 'DMM6500_trigger3_delay',\n",
      "                                                               'instrument': 'qcodes.instrument_drivers.tektronix.Keithley_6500.Keithley_6500',\n",
      "                                                               'instrument_name': 'DMM6500',\n",
      "                                                               'inter_delay': 0,\n",
      "                                                               'label': 'trigger3_delay',\n",
      "                                                               'name': 'trigger3_delay',\n",
      "                                                               'post_delay': 0,\n",
      "                                                               'raw_value': '1E-05',\n",
      "                                                               'ts': '2024-12-26 '\n",
      "                                                                     '15:10:01',\n",
      "                                                               'unit': 's',\n",
      "                                                               'vals': '<Numbers '\n",
      "                                                                       '0<=v<=999999.999>',\n",
      "                                                               'value': 1e-05},\n",
      "                                            'trigger3_source': {'__class__': 'qcodes.parameters.parameter.Parameter',\n",
      "                                                                'full_name': 'DMM6500_trigger3_source',\n",
      "                                                                'instrument': 'qcodes.instrument_drivers.tektronix.Keithley_6500.Keithley_6500',\n",
      "                                                                'instrument_name': 'DMM6500',\n",
      "                                                                'inter_delay': 0,\n",
      "                                                                'label': 'trigger3_source',\n",
      "                                                                'name': 'trigger3_source',\n",
      "                                                                'post_delay': 0,\n",
      "                                                                'raw_value': 'NONE',\n",
      "                                                                'ts': '2024-12-26 '\n",
      "                                                                      '15:10:01',\n",
      "                                                                'unit': '',\n",
      "                                                                'val_mapping': {'bus': 'COMM',\n",
      "                                                                                'external': 'EXT',\n",
      "                                                                                'front-panel': 'DISP',\n",
      "                                                                                'immediate': 'NONE',\n",
      "                                                                                'notify1': 'NOT1',\n",
      "                                                                                'notify2': 'NOT2',\n",
      "                                                                                'notify3': 'NOT3',\n",
      "                                                                                'timer1': 'TIM1',\n",
      "                                                                                'timer2': 'TIM2',\n",
      "                                                                                'timer3': 'TIM3',\n",
      "                                                                                'timer4': 'TIM4'},\n",
      "                                                                'vals': '<Enum: '\n",
      "                                                                        \"{'notify2', \"\n",
      "                                                                        \"'notify3', \"\n",
      "                                                                        \"'notify1', \"\n",
      "                                                                        \"'timer4', \"\n",
      "                                                                        \"'timer3', \"\n",
      "                                                                        \"'timer2', \"\n",
      "                                                                        \"'front-panel', \"\n",
      "                                                                        \"'bus', \"\n",
      "                                                                        \"'external', \"\n",
      "                                                                        \"'timer1', \"\n",
      "                                                                        \"'immediate'}>\",\n",
      "                                                                'value': 'immediate'},\n",
      "                                            'trigger4_delay': {'__class__': 'qcodes.parameters.parameter.Parameter',\n",
      "                                                               'full_name': 'DMM6500_trigger4_delay',\n",
      "                                                               'instrument': 'qcodes.instrument_drivers.tektronix.Keithley_6500.Keithley_6500',\n",
      "                                                               'instrument_name': 'DMM6500',\n",
      "                                                               'inter_delay': 0,\n",
      "                                                               'label': 'trigger4_delay',\n",
      "                                                               'name': 'trigger4_delay',\n",
      "                                                               'post_delay': 0,\n",
      "                                                               'raw_value': '1E-05',\n",
      "                                                               'ts': '2024-12-26 '\n",
      "                                                                     '15:10:01',\n",
      "                                                               'unit': 's',\n",
      "                                                               'vals': '<Numbers '\n",
      "                                                                       '0<=v<=999999.999>',\n",
      "                                                               'value': 1e-05},\n",
      "                                            'trigger4_source': {'__class__': 'qcodes.parameters.parameter.Parameter',\n",
      "                                                                'full_name': 'DMM6500_trigger4_source',\n",
      "                                                                'instrument': 'qcodes.instrument_drivers.tektronix.Keithley_6500.Keithley_6500',\n",
      "                                                                'instrument_name': 'DMM6500',\n",
      "                                                                'inter_delay': 0,\n",
      "                                                                'label': 'trigger4_source',\n",
      "                                                                'name': 'trigger4_source',\n",
      "                                                                'post_delay': 0,\n",
      "                                                                'raw_value': 'NONE',\n",
      "                                                                'ts': '2024-12-26 '\n",
      "                                                                      '15:10:01',\n",
      "                                                                'unit': '',\n",
      "                                                                'val_mapping': {'bus': 'COMM',\n",
      "                                                                                'external': 'EXT',\n",
      "                                                                                'front-panel': 'DISP',\n",
      "                                                                                'immediate': 'NONE',\n",
      "                                                                                'notify1': 'NOT1',\n",
      "                                                                                'notify2': 'NOT2',\n",
      "                                                                                'notify3': 'NOT3',\n",
      "                                                                                'timer1': 'TIM1',\n",
      "                                                                                'timer2': 'TIM2',\n",
      "                                                                                'timer3': 'TIM3',\n",
      "                                                                                'timer4': 'TIM4'},\n",
      "                                                                'vals': '<Enum: '\n",
      "                                                                        \"{'notify2', \"\n",
      "                                                                        \"'notify3', \"\n",
      "                                                                        \"'notify1', \"\n",
      "                                                                        \"'timer4', \"\n",
      "                                                                        \"'timer3', \"\n",
      "                                                                        \"'timer2', \"\n",
      "                                                                        \"'front-panel', \"\n",
      "                                                                        \"'bus', \"\n",
      "                                                                        \"'external', \"\n",
      "                                                                        \"'timer1', \"\n",
      "                                                                        \"'immediate'}>\",\n",
      "                                                                'value': 'immediate'},\n",
      "                                            'trigger_count': {'__class__': 'qcodes.parameters.parameter.Parameter',\n",
      "                                                              'full_name': 'DMM6500_trigger_count',\n",
      "                                                              'instrument': 'qcodes.instrument_drivers.tektronix.Keithley_6500.Keithley_6500',\n",
      "                                                              'instrument_name': 'DMM6500',\n",
      "                                                              'inter_delay': 0,\n",
      "                                                              'label': 'trigger_count',\n",
      "                                                              'name': 'trigger_count',\n",
      "                                                              'post_delay': 0,\n",
      "                                                              'raw_value': '1',\n",
      "                                                              'ts': '2024-12-26 '\n",
      "                                                                    '15:10:01',\n",
      "                                                              'unit': '',\n",
      "                                                              'vals': '<MultiType: '\n",
      "                                                                      'Ints '\n",
      "                                                                      '1<=v<=9999, '\n",
      "                                                                      'Enum: '\n",
      "                                                                      \"{'inf', \"\n",
      "                                                                      \"'maximum', \"\n",
      "                                                                      \"'default', \"\n",
      "                                                                      \"'minimum'}>\",\n",
      "                                                              'value': 1},\n",
      "                                            'trigger_timer': {'__class__': 'qcodes.parameters.parameter.Parameter',\n",
      "                                                              'full_name': 'DMM6500_trigger_timer',\n",
      "                                                              'instrument': 'qcodes.instrument_drivers.tektronix.Keithley_6500.Keithley_6500',\n",
      "                                                              'instrument_name': 'DMM6500',\n",
      "                                                              'inter_delay': 0,\n",
      "                                                              'label': 'trigger_timer',\n",
      "                                                              'name': 'trigger_timer',\n",
      "                                                              'post_delay': 0,\n",
      "                                                              'raw_value': '0',\n",
      "                                                              'ts': '2024-12-26 '\n",
      "                                                                    '15:10:01',\n",
      "                                                              'unit': 's',\n",
      "                                                              'vals': '<Numbers '\n",
      "                                                                      '0<=v<=999999.999>',\n",
      "                                                              'value': 0.0}},\n",
      "                             'read_terminator': '\\n',\n",
      "                             'submodules': {},\n",
      "                             'terminator': '\\n',\n",
      "                             'timeout': 10.0,\n",
      "                             'write_terminator': '\\n'},\n",
      "                 'K2400': {'__class__': 'qcodes.instrument_drivers.Keithley.Keithley_2400.Keithley2400',\n",
      "                           'address': 'GPIB0::19::INSTR',\n",
      "                           'functions': {},\n",
      "                           'label': 'K2400',\n",
      "                           'name': 'K2400',\n",
      "                           'parameters': {'IDN': {'__class__': 'qcodes.parameters.parameter.Parameter',\n",
      "                                                  'full_name': 'K2400_IDN',\n",
      "                                                  'instrument': 'qcodes.instrument_drivers.Keithley.Keithley_2400.Keithley2400',\n",
      "                                                  'instrument_name': 'K2400',\n",
      "                                                  'inter_delay': 0,\n",
      "                                                  'label': 'IDN',\n",
      "                                                  'name': 'IDN',\n",
      "                                                  'post_delay': 0,\n",
      "                                                  'raw_value': {'firmware': 'C32   '\n",
      "                                                                            'Oct  '\n",
      "                                                                            '4 '\n",
      "                                                                            '2010 '\n",
      "                                                                            '14:20:11/A02  '\n",
      "                                                                            '/K/M',\n",
      "                                                                'model': '2400',\n",
      "                                                                'serial': '0957985',\n",
      "                                                                'vendor': 'KEITHLEY '\n",
      "                                                                          'INSTRUMENTS '\n",
      "                                                                          'INC.'},\n",
      "                                                  'ts': '2024-12-26 15:10:01',\n",
      "                                                  'unit': '',\n",
      "                                                  'vals': '<Anything>',\n",
      "                                                  'value': {'firmware': 'C32   '\n",
      "                                                                        'Oct  '\n",
      "                                                                        '4 '\n",
      "                                                                        '2010 '\n",
      "                                                                        '14:20:11/A02  '\n",
      "                                                                        '/K/M',\n",
      "                                                            'model': '2400',\n",
      "                                                            'serial': '0957985',\n",
      "                                                            'vendor': 'KEITHLEY '\n",
      "                                                                      'INSTRUMENTS '\n",
      "                                                                      'INC.'}},\n",
      "                                          'compliancei': {'__class__': 'qcodes.parameters.parameter.Parameter',\n",
      "                                                          'full_name': 'K2400_compliancei',\n",
      "                                                          'instrument': 'qcodes.instrument_drivers.Keithley.Keithley_2400.Keithley2400',\n",
      "                                                          'instrument_name': 'K2400',\n",
      "                                                          'inter_delay': 0,\n",
      "                                                          'label': 'Current '\n",
      "                                                                   'Compliance',\n",
      "                                                          'name': 'compliancei',\n",
      "                                                          'post_delay': 0,\n",
      "                                                          'raw_value': '1.050000E-04',\n",
      "                                                          'ts': '2024-12-26 '\n",
      "                                                                '15:10:01',\n",
      "                                                          'unit': '',\n",
      "                                                          'value': 0.000105},\n",
      "                                          'compliancev': {'__class__': 'qcodes.parameters.parameter.Parameter',\n",
      "                                                          'full_name': 'K2400_compliancev',\n",
      "                                                          'instrument': 'qcodes.instrument_drivers.Keithley.Keithley_2400.Keithley2400',\n",
      "                                                          'instrument_name': 'K2400',\n",
      "                                                          'inter_delay': 0,\n",
      "                                                          'label': 'Voltage '\n",
      "                                                                   'Compliance',\n",
      "                                                          'name': 'compliancev',\n",
      "                                                          'post_delay': 0,\n",
      "                                                          'raw_value': '2.100000E+01',\n",
      "                                                          'ts': '2024-12-26 '\n",
      "                                                                '15:10:01',\n",
      "                                                          'unit': '',\n",
      "                                                          'value': 21.0},\n",
      "                                          'curr': {'__class__': 'qcodes.parameters.parameter.Parameter',\n",
      "                                                   'full_name': 'K2400_curr',\n",
      "                                                   'instrument': 'qcodes.instrument_drivers.Keithley.Keithley_2400.Keithley2400',\n",
      "                                                   'instrument_name': 'K2400',\n",
      "                                                   'inter_delay': 0,\n",
      "                                                   'label': 'Current',\n",
      "                                                   'name': 'curr',\n",
      "                                                   'post_delay': 0,\n",
      "                                                   'raw_value': None,\n",
      "                                                   'ts': None,\n",
      "                                                   'unit': 'A',\n",
      "                                                   'value': None},\n",
      "                                          'mode': {'__class__': 'qcodes.parameters.parameter.Parameter',\n",
      "                                                   'full_name': 'K2400_mode',\n",
      "                                                   'instrument': 'qcodes.instrument_drivers.Keithley.Keithley_2400.Keithley2400',\n",
      "                                                   'instrument_name': 'K2400',\n",
      "                                                   'inter_delay': 0,\n",
      "                                                   'label': 'Mode',\n",
      "                                                   'name': 'mode',\n",
      "                                                   'post_delay': 0,\n",
      "                                                   'raw_value': 'VOLT',\n",
      "                                                   'ts': '2024-12-26 15:10:01',\n",
      "                                                   'unit': '',\n",
      "                                                   'vals': \"<Enum: {'CURR', \"\n",
      "                                                           \"'VOLT'}>\",\n",
      "                                                   'value': 'VOLT'},\n",
      "                                          'nplci': {'__class__': 'qcodes.parameters.parameter.Parameter',\n",
      "                                                    'full_name': 'K2400_nplci',\n",
      "                                                    'instrument': 'qcodes.instrument_drivers.Keithley.Keithley_2400.Keithley2400',\n",
      "                                                    'instrument_name': 'K2400',\n",
      "                                                    'inter_delay': 0,\n",
      "                                                    'label': 'Current '\n",
      "                                                             'integration time',\n",
      "                                                    'name': 'nplci',\n",
      "                                                    'post_delay': 0,\n",
      "                                                    'raw_value': '1.00',\n",
      "                                                    'ts': '2024-12-26 15:10:01',\n",
      "                                                    'unit': '',\n",
      "                                                    'value': 1.0},\n",
      "                                          'nplcv': {'__class__': 'qcodes.parameters.parameter.Parameter',\n",
      "                                                    'full_name': 'K2400_nplcv',\n",
      "                                                    'instrument': 'qcodes.instrument_drivers.Keithley.Keithley_2400.Keithley2400',\n",
      "                                                    'instrument_name': 'K2400',\n",
      "                                                    'inter_delay': 0,\n",
      "                                                    'label': 'Voltage '\n",
      "                                                             'integration time',\n",
      "                                                    'name': 'nplcv',\n",
      "                                                    'post_delay': 0,\n",
      "                                                    'raw_value': '1.00',\n",
      "                                                    'ts': '2024-12-26 15:10:01',\n",
      "                                                    'unit': '',\n",
      "                                                    'value': 1.0},\n",
      "                                          'output': {'__class__': 'qcodes.parameters.parameter.Parameter',\n",
      "                                                     'full_name': 'K2400_output',\n",
      "                                                     'instrument': 'qcodes.instrument_drivers.Keithley.Keithley_2400.Keithley2400',\n",
      "                                                     'instrument_name': 'K2400',\n",
      "                                                     'inter_delay': 0,\n",
      "                                                     'label': 'output',\n",
      "                                                     'name': 'output',\n",
      "                                                     'post_delay': 0,\n",
      "                                                     'raw_value': '0',\n",
      "                                                     'ts': '2024-12-26 '\n",
      "                                                           '15:10:01',\n",
      "                                                     'unit': '',\n",
      "                                                     'val_mapping': OrderedDict([('On',\n",
      "                                                                                  '1'),\n",
      "                                                                                 ('ON',\n",
      "                                                                                  '1'),\n",
      "                                                                                 ('on',\n",
      "                                                                                  '1'),\n",
      "                                                                                 ('1',\n",
      "                                                                                  '1'),\n",
      "                                                                                 (True,\n",
      "                                                                                  '1'),\n",
      "                                                                                 ('Off',\n",
      "                                                                                  '0'),\n",
      "                                                                                 ('OFF',\n",
      "                                                                                  '0'),\n",
      "                                                                                 ('off',\n",
      "                                                                                  '0'),\n",
      "                                                                                 ('0',\n",
      "                                                                                  '0'),\n",
      "                                                                                 (False,\n",
      "                                                                                  '0')]),\n",
      "                                                     'vals': '<Enum: {False, '\n",
      "                                                             \"True, 'on', \"\n",
      "                                                             \"'ON', 'On', \"\n",
      "                                                             \"'off', 'OFF', \"\n",
      "                                                             \"'Off', '0', \"\n",
      "                                                             \"'1'}>\",\n",
      "                                                     'value': False},\n",
      "                                          'rangei': {'__class__': 'qcodes.parameters.parameter.Parameter',\n",
      "                                                     'full_name': 'K2400_rangei',\n",
      "                                                     'instrument': 'qcodes.instrument_drivers.Keithley.Keithley_2400.Keithley2400',\n",
      "                                                     'instrument_name': 'K2400',\n",
      "                                                     'inter_delay': 0,\n",
      "                                                     'label': 'Current range',\n",
      "                                                     'name': 'rangei',\n",
      "                                                     'post_delay': 0,\n",
      "                                                     'raw_value': '1.050000E-04',\n",
      "                                                     'ts': '2024-12-26 '\n",
      "                                                           '15:10:01',\n",
      "                                                     'unit': '',\n",
      "                                                     'value': 0.000105},\n",
      "                                          'rangev': {'__class__': 'qcodes.parameters.parameter.Parameter',\n",
      "                                                     'full_name': 'K2400_rangev',\n",
      "                                                     'instrument': 'qcodes.instrument_drivers.Keithley.Keithley_2400.Keithley2400',\n",
      "                                                     'instrument_name': 'K2400',\n",
      "                                                     'inter_delay': 0,\n",
      "                                                     'label': 'Voltage range',\n",
      "                                                     'name': 'rangev',\n",
      "                                                     'post_delay': 0,\n",
      "                                                     'raw_value': '21.00',\n",
      "                                                     'ts': '2024-12-26 '\n",
      "                                                           '15:10:01',\n",
      "                                                     'unit': '',\n",
      "                                                     'value': 21.0},\n",
      "                                          'resistance': {'__class__': 'qcodes.parameters.parameter.Parameter',\n",
      "                                                         'full_name': 'K2400_resistance',\n",
      "                                                         'instrument': 'qcodes.instrument_drivers.Keithley.Keithley_2400.Keithley2400',\n",
      "                                                         'instrument_name': 'K2400',\n",
      "                                                         'inter_delay': 0,\n",
      "                                                         'label': 'Resistance',\n",
      "                                                         'name': 'resistance',\n",
      "                                                         'post_delay': 0,\n",
      "                                                         'raw_value': None,\n",
      "                                                         'ts': None,\n",
      "                                                         'unit': 'Ohm',\n",
      "                                                         'value': None},\n",
      "                                          'sense': {'__class__': 'qcodes.parameters.parameter.Parameter',\n",
      "                                                    'full_name': 'K2400_sense',\n",
      "                                                    'instrument': 'qcodes.instrument_drivers.Keithley.Keithley_2400.Keithley2400',\n",
      "                                                    'instrument_name': 'K2400',\n",
      "                                                    'inter_delay': 0,\n",
      "                                                    'label': 'Sense mode',\n",
      "                                                    'name': 'sense',\n",
      "                                                    'post_delay': 0,\n",
      "                                                    'raw_value': '\"CURR:DC\"',\n",
      "                                                    'ts': '2024-12-26 15:10:01',\n",
      "                                                    'unit': '',\n",
      "                                                    'vals': '<Strings>',\n",
      "                                                    'value': '\"CURR:DC\"'},\n",
      "                                          'timeout': {'__class__': 'qcodes.parameters.parameter.Parameter',\n",
      "                                                      'full_name': 'K2400_timeout',\n",
      "                                                      'instrument': 'qcodes.instrument_drivers.Keithley.Keithley_2400.Keithley2400',\n",
      "                                                      'instrument_name': 'K2400',\n",
      "                                                      'inter_delay': 0,\n",
      "                                                      'label': 'timeout',\n",
      "                                                      'name': 'timeout',\n",
      "                                                      'post_delay': 0,\n",
      "                                                      'raw_value': 10.0,\n",
      "                                                      'ts': '2024-12-26 '\n",
      "                                                            '15:10:01',\n",
      "                                                      'unit': 's',\n",
      "                                                      'vals': '<MultiType: '\n",
      "                                                              'Numbers v>=0, '\n",
      "                                                              'Enum: {None}>',\n",
      "                                                      'value': 10.0},\n",
      "                                          'volt': {'__class__': 'qcodes.parameters.parameter.Parameter',\n",
      "                                                   'full_name': 'K2400_volt',\n",
      "                                                   'instrument': 'qcodes.instrument_drivers.Keithley.Keithley_2400.Keithley2400',\n",
      "                                                   'instrument_name': 'K2400',\n",
      "                                                   'inter_delay': 0,\n",
      "                                                   'label': 'Voltage',\n",
      "                                                   'name': 'volt',\n",
      "                                                   'post_delay': 0,\n",
      "                                                   'raw_value': None,\n",
      "                                                   'ts': None,\n",
      "                                                   'unit': 'V',\n",
      "                                                   'value': None}},\n",
      "                           'read_terminator': '\\n',\n",
      "                           'submodules': {},\n",
      "                           'terminator': '\\n',\n",
      "                           'timeout': 10.0,\n",
      "                           'write_terminator': '\\n'},\n",
      "                 'K2440': {'__class__': 'qcodes.instrument_drivers.Keithley.Keithley_2400.Keithley2400',\n",
      "                           'address': 'GPIB0::22::INSTR',\n",
      "                           'functions': {},\n",
      "                           'label': 'K2440',\n",
      "                           'name': 'K2440',\n",
      "                           'parameters': {'IDN': {'__class__': 'qcodes.parameters.parameter.Parameter',\n",
      "                                                  'full_name': 'K2440_IDN',\n",
      "                                                  'instrument': 'qcodes.instrument_drivers.Keithley.Keithley_2400.Keithley2400',\n",
      "                                                  'instrument_name': 'K2440',\n",
      "                                                  'inter_delay': 0,\n",
      "                                                  'label': 'IDN',\n",
      "                                                  'name': 'IDN',\n",
      "                                                  'post_delay': 0,\n",
      "                                                  'raw_value': {'firmware': 'C30   '\n",
      "                                                                            'Mar '\n",
      "                                                                            '17 '\n",
      "                                                                            '2006 '\n",
      "                                                                            '09:29:29/A02  '\n",
      "                                                                            '/B/A',\n",
      "                                                                'model': '2440',\n",
      "                                                                'serial': '1225508',\n",
      "                                                                'vendor': 'KEITHLEY '\n",
      "                                                                          'INSTRUMENTS '\n",
      "                                                                          'INC.'},\n",
      "                                                  'ts': '2024-12-26 15:10:01',\n",
      "                                                  'unit': '',\n",
      "                                                  'vals': '<Anything>',\n",
      "                                                  'value': {'firmware': 'C30   '\n",
      "                                                                        'Mar '\n",
      "                                                                        '17 '\n",
      "                                                                        '2006 '\n",
      "                                                                        '09:29:29/A02  '\n",
      "                                                                        '/B/A',\n",
      "                                                            'model': '2440',\n",
      "                                                            'serial': '1225508',\n",
      "                                                            'vendor': 'KEITHLEY '\n",
      "                                                                      'INSTRUMENTS '\n",
      "                                                                      'INC.'}},\n",
      "                                          'compliancei': {'__class__': 'qcodes.parameters.parameter.Parameter',\n",
      "                                                          'full_name': 'K2440_compliancei',\n",
      "                                                          'instrument': 'qcodes.instrument_drivers.Keithley.Keithley_2400.Keithley2400',\n",
      "                                                          'instrument_name': 'K2440',\n",
      "                                                          'inter_delay': 0,\n",
      "                                                          'label': 'Current '\n",
      "                                                                   'Compliance',\n",
      "                                                          'name': 'compliancei',\n",
      "                                                          'post_delay': 0,\n",
      "                                                          'raw_value': '1.050000E-04',\n",
      "                                                          'ts': '2024-12-26 '\n",
      "                                                                '15:10:01',\n",
      "                                                          'unit': '',\n",
      "                                                          'value': 0.000105},\n",
      "                                          'compliancev': {'__class__': 'qcodes.parameters.parameter.Parameter',\n",
      "                                                          'full_name': 'K2440_compliancev',\n",
      "                                                          'instrument': 'qcodes.instrument_drivers.Keithley.Keithley_2400.Keithley2400',\n",
      "                                                          'instrument_name': 'K2440',\n",
      "                                                          'inter_delay': 0,\n",
      "                                                          'label': 'Voltage '\n",
      "                                                                   'Compliance',\n",
      "                                                          'name': 'compliancev',\n",
      "                                                          'post_delay': 0,\n",
      "                                                          'raw_value': '1.050000E+01',\n",
      "                                                          'ts': '2024-12-26 '\n",
      "                                                                '15:10:01',\n",
      "                                                          'unit': '',\n",
      "                                                          'value': 10.5},\n",
      "                                          'curr': {'__class__': 'qcodes.parameters.parameter.Parameter',\n",
      "                                                   'full_name': 'K2440_curr',\n",
      "                                                   'instrument': 'qcodes.instrument_drivers.Keithley.Keithley_2400.Keithley2400',\n",
      "                                                   'instrument_name': 'K2440',\n",
      "                                                   'inter_delay': 0,\n",
      "                                                   'label': 'Current',\n",
      "                                                   'name': 'curr',\n",
      "                                                   'post_delay': 0,\n",
      "                                                   'raw_value': None,\n",
      "                                                   'ts': None,\n",
      "                                                   'unit': 'A',\n",
      "                                                   'value': None},\n",
      "                                          'mode': {'__class__': 'qcodes.parameters.parameter.Parameter',\n",
      "                                                   'full_name': 'K2440_mode',\n",
      "                                                   'instrument': 'qcodes.instrument_drivers.Keithley.Keithley_2400.Keithley2400',\n",
      "                                                   'instrument_name': 'K2440',\n",
      "                                                   'inter_delay': 0,\n",
      "                                                   'label': 'Mode',\n",
      "                                                   'name': 'mode',\n",
      "                                                   'post_delay': 0,\n",
      "                                                   'raw_value': 'VOLT',\n",
      "                                                   'ts': '2024-12-26 15:10:01',\n",
      "                                                   'unit': '',\n",
      "                                                   'vals': \"<Enum: {'CURR', \"\n",
      "                                                           \"'VOLT'}>\",\n",
      "                                                   'value': 'VOLT'},\n",
      "                                          'nplci': {'__class__': 'qcodes.parameters.parameter.Parameter',\n",
      "                                                    'full_name': 'K2440_nplci',\n",
      "                                                    'instrument': 'qcodes.instrument_drivers.Keithley.Keithley_2400.Keithley2400',\n",
      "                                                    'instrument_name': 'K2440',\n",
      "                                                    'inter_delay': 0,\n",
      "                                                    'label': 'Current '\n",
      "                                                             'integration time',\n",
      "                                                    'name': 'nplci',\n",
      "                                                    'post_delay': 0,\n",
      "                                                    'raw_value': '1.00',\n",
      "                                                    'ts': '2024-12-26 15:10:01',\n",
      "                                                    'unit': '',\n",
      "                                                    'value': 1.0},\n",
      "                                          'nplcv': {'__class__': 'qcodes.parameters.parameter.Parameter',\n",
      "                                                    'full_name': 'K2440_nplcv',\n",
      "                                                    'instrument': 'qcodes.instrument_drivers.Keithley.Keithley_2400.Keithley2400',\n",
      "                                                    'instrument_name': 'K2440',\n",
      "                                                    'inter_delay': 0,\n",
      "                                                    'label': 'Voltage '\n",
      "                                                             'integration time',\n",
      "                                                    'name': 'nplcv',\n",
      "                                                    'post_delay': 0,\n",
      "                                                    'raw_value': '1.00',\n",
      "                                                    'ts': '2024-12-26 15:10:01',\n",
      "                                                    'unit': '',\n",
      "                                                    'value': 1.0},\n",
      "                                          'output': {'__class__': 'qcodes.parameters.parameter.Parameter',\n",
      "                                                     'full_name': 'K2440_output',\n",
      "                                                     'instrument': 'qcodes.instrument_drivers.Keithley.Keithley_2400.Keithley2400',\n",
      "                                                     'instrument_name': 'K2440',\n",
      "                                                     'inter_delay': 0,\n",
      "                                                     'label': 'output',\n",
      "                                                     'name': 'output',\n",
      "                                                     'post_delay': 0,\n",
      "                                                     'raw_value': '0',\n",
      "                                                     'ts': '2024-12-26 '\n",
      "                                                           '15:10:01',\n",
      "                                                     'unit': '',\n",
      "                                                     'val_mapping': OrderedDict([('On',\n",
      "                                                                                  '1'),\n",
      "                                                                                 ('ON',\n",
      "                                                                                  '1'),\n",
      "                                                                                 ('on',\n",
      "                                                                                  '1'),\n",
      "                                                                                 ('1',\n",
      "                                                                                  '1'),\n",
      "                                                                                 (True,\n",
      "                                                                                  '1'),\n",
      "                                                                                 ('Off',\n",
      "                                                                                  '0'),\n",
      "                                                                                 ('OFF',\n",
      "                                                                                  '0'),\n",
      "                                                                                 ('off',\n",
      "                                                                                  '0'),\n",
      "                                                                                 ('0',\n",
      "                                                                                  '0'),\n",
      "                                                                                 (False,\n",
      "                                                                                  '0')]),\n",
      "                                                     'vals': '<Enum: {False, '\n",
      "                                                             \"True, 'on', \"\n",
      "                                                             \"'ON', 'On', \"\n",
      "                                                             \"'off', 'OFF', \"\n",
      "                                                             \"'Off', '0', \"\n",
      "                                                             \"'1'}>\",\n",
      "                                                     'value': False},\n",
      "                                          'rangei': {'__class__': 'qcodes.parameters.parameter.Parameter',\n",
      "                                                     'full_name': 'K2440_rangei',\n",
      "                                                     'instrument': 'qcodes.instrument_drivers.Keithley.Keithley_2400.Keithley2400',\n",
      "                                                     'instrument_name': 'K2440',\n",
      "                                                     'inter_delay': 0,\n",
      "                                                     'label': 'Current range',\n",
      "                                                     'name': 'rangei',\n",
      "                                                     'post_delay': 0,\n",
      "                                                     'raw_value': '1.050000E-04',\n",
      "                                                     'ts': '2024-12-26 '\n",
      "                                                           '15:10:01',\n",
      "                                                     'unit': '',\n",
      "                                                     'value': 0.000105},\n",
      "                                          'rangev': {'__class__': 'qcodes.parameters.parameter.Parameter',\n",
      "                                                     'full_name': 'K2440_rangev',\n",
      "                                                     'instrument': 'qcodes.instrument_drivers.Keithley.Keithley_2400.Keithley2400',\n",
      "                                                     'instrument_name': 'K2440',\n",
      "                                                     'inter_delay': 0,\n",
      "                                                     'label': 'Voltage range',\n",
      "                                                     'name': 'rangev',\n",
      "                                                     'post_delay': 0,\n",
      "                                                     'raw_value': '10.50',\n",
      "                                                     'ts': '2024-12-26 '\n",
      "                                                           '15:10:01',\n",
      "                                                     'unit': '',\n",
      "                                                     'value': 10.5},\n",
      "                                          'resistance': {'__class__': 'qcodes.parameters.parameter.Parameter',\n",
      "                                                         'full_name': 'K2440_resistance',\n",
      "                                                         'instrument': 'qcodes.instrument_drivers.Keithley.Keithley_2400.Keithley2400',\n",
      "                                                         'instrument_name': 'K2440',\n",
      "                                                         'inter_delay': 0,\n",
      "                                                         'label': 'Resistance',\n",
      "                                                         'name': 'resistance',\n",
      "                                                         'post_delay': 0,\n",
      "                                                         'raw_value': None,\n",
      "                                                         'ts': None,\n",
      "                                                         'unit': 'Ohm',\n",
      "                                                         'value': None},\n",
      "                                          'sense': {'__class__': 'qcodes.parameters.parameter.Parameter',\n",
      "                                                    'full_name': 'K2440_sense',\n",
      "                                                    'instrument': 'qcodes.instrument_drivers.Keithley.Keithley_2400.Keithley2400',\n",
      "                                                    'instrument_name': 'K2440',\n",
      "                                                    'inter_delay': 0,\n",
      "                                                    'label': 'Sense mode',\n",
      "                                                    'name': 'sense',\n",
      "                                                    'post_delay': 0,\n",
      "                                                    'raw_value': '\"CURR:DC\"',\n",
      "                                                    'ts': '2024-12-26 15:10:01',\n",
      "                                                    'unit': '',\n",
      "                                                    'vals': '<Strings>',\n",
      "                                                    'value': '\"CURR:DC\"'},\n",
      "                                          'timeout': {'__class__': 'qcodes.parameters.parameter.Parameter',\n",
      "                                                      'full_name': 'K2440_timeout',\n",
      "                                                      'instrument': 'qcodes.instrument_drivers.Keithley.Keithley_2400.Keithley2400',\n",
      "                                                      'instrument_name': 'K2440',\n",
      "                                                      'inter_delay': 0,\n",
      "                                                      'label': 'timeout',\n",
      "                                                      'name': 'timeout',\n",
      "                                                      'post_delay': 0,\n",
      "                                                      'raw_value': 10.0,\n",
      "                                                      'ts': '2024-12-26 '\n",
      "                                                            '15:10:01',\n",
      "                                                      'unit': 's',\n",
      "                                                      'vals': '<MultiType: '\n",
      "                                                              'Numbers v>=0, '\n",
      "                                                              'Enum: {None}>',\n",
      "                                                      'value': 10.0},\n",
      "                                          'volt': {'__class__': 'qcodes.parameters.parameter.Parameter',\n",
      "                                                   'full_name': 'K2440_volt',\n",
      "                                                   'instrument': 'qcodes.instrument_drivers.Keithley.Keithley_2400.Keithley2400',\n",
      "                                                   'instrument_name': 'K2440',\n",
      "                                                   'inter_delay': 0,\n",
      "                                                   'label': 'Voltage',\n",
      "                                                   'name': 'volt',\n",
      "                                                   'post_delay': 0,\n",
      "                                                   'raw_value': None,\n",
      "                                                   'ts': None,\n",
      "                                                   'unit': 'V',\n",
      "                                                   'value': None}},\n",
      "                           'read_terminator': '\\n',\n",
      "                           'submodules': {},\n",
      "                           'terminator': '\\n',\n",
      "                           'timeout': 10.0,\n",
      "                           'write_terminator': '\\n'}},\n",
      " 'parameters': {}}\n"
     ]
    }
   ],
   "source": [
    "snapshot_of_station = station.snapshot()\n",
    "pprint(snapshot_of_station)"
   ]
  },
  {
   "cell_type": "markdown",
   "id": "4757b159",
   "metadata": {},
   "source": [
    "## Keithley 2440"
   ]
  },
  {
   "cell_type": "markdown",
   "id": "797b994c",
   "metadata": {},
   "source": [
    "### sensitive check"
   ]
  },
  {
   "cell_type": "code",
   "execution_count": 11,
   "id": "f387f69b",
   "metadata": {},
   "outputs": [
    {
     "data": {
      "text/plain": [
       "'VOLT'"
      ]
     },
     "execution_count": 11,
     "metadata": {},
     "output_type": "execute_result"
    }
   ],
   "source": [
    "K2440.mode('VOLT')\n",
    "K2440.mode()"
   ]
  },
  {
   "cell_type": "code",
   "execution_count": 12,
   "id": "09a8a36e",
   "metadata": {},
   "outputs": [
    {
     "name": "stdout",
     "output_type": "stream",
     "text": [
      "-2.440188e-06\n"
     ]
    }
   ],
   "source": [
    "K2440.output(1) # output on\n",
    "K2440.rangev(10)\n",
    "K2440.volt(0)\n",
    "K2440.compliancei(100e-3)\n",
    "sleep(1)\n",
    "v_read=DMM6500.amplitude()\n",
    "K2440.output(0) #output off\n",
    "print(v_read)"
   ]
  },
  {
   "cell_type": "markdown",
   "id": "105706bc",
   "metadata": {},
   "source": [
    "## TG 2400"
   ]
  },
  {
   "cell_type": "code",
   "execution_count": null,
   "id": "cdc19f1b",
   "metadata": {},
   "outputs": [],
   "source": [
    "K2440.output(1) # output on\n",
    "K2440.rangev(22)\n",
    "K2440.volt(0)\n",
    "K2440.compliancei(100e-3)\n",
    "# K2440.output(0) #output off\n",
    "sleep(1)\n",
    "v_read=DMM6500.amplitude()\n",
    "print(v_read)"
   ]
  },
  {
   "cell_type": "code",
   "execution_count": null,
   "id": "e971a620",
   "metadata": {},
   "outputs": [],
   "source": [
    "K2440.volt(1)\n",
    "K2440.output(0) #output off"
   ]
  },
  {
   "cell_type": "code",
   "execution_count": null,
   "id": "e284050c",
   "metadata": {},
   "outputs": [],
   "source": [
    "K2440.rangev(1)\n",
    "K2440.rangev()"
   ]
  },
  {
   "cell_type": "markdown",
   "id": "c676ccb5",
   "metadata": {},
   "source": [
    "#  Database initialisation"
   ]
  },
  {
   "cell_type": "code",
   "execution_count": 13,
   "id": "5059671d",
   "metadata": {},
   "outputs": [
    {
     "data": {
      "text/plain": [
       "'c:\\\\Users\\\\quant\\\\OneDrive\\\\Documents\\\\GitHub\\\\QCoDeS_local\\\\init_database_v3.py'"
      ]
     },
     "execution_count": 13,
     "metadata": {},
     "output_type": "execute_result"
    }
   ],
   "source": [
    "def find_init_database_v3_py():\n",
    "    for root, dirs, files in os.walk(qcodes_local_dir):\n",
    "        if 'init_database_v3.py' in files:\n",
    "            return os.path.join(root, 'init_database_v3.py')\n",
    "    return None\n",
    "\n",
    "init_database_v3_py_path = find_init_database_v3_py()\n",
    "init_database_v3_py_path\n"
   ]
  },
  {
   "cell_type": "code",
   "execution_count": 14,
   "id": "e09e380a",
   "metadata": {},
   "outputs": [
    {
     "data": {
      "text/plain": [
       "'c:\\\\Users\\\\quant\\\\OneDrive\\\\Documents\\\\GitHub\\\\QCoDeS_local\\\\init_database_v2.py'"
      ]
     },
     "execution_count": 14,
     "metadata": {},
     "output_type": "execute_result"
    }
   ],
   "source": [
    "def find_init_database_v2_py():\n",
    "    for root, dirs, files in os.walk(qcodes_local_dir):\n",
    "        if 'init_database_v2.py' in files:\n",
    "            return os.path.join(root, 'init_database_v2.py')\n",
    "    return None\n",
    "\n",
    "init_database_v2_py_path = find_init_database_v2_py()\n",
    "init_database_v2_py_path"
   ]
  },
  {
   "cell_type": "code",
   "execution_count": 15,
   "id": "7b665bc4",
   "metadata": {},
   "outputs": [
    {
     "name": "stdout",
     "output_type": "stream",
     "text": [
      "Creating a new database file:\n",
      "c:\\Users\\quant\\OneDrive\\Documents\\GitHub\\QCoDeS_local\\personal_scripts\\Albert\\009-1\\009-1_2024-12-26_01.db\n"
     ]
    }
   ],
   "source": [
    "reuse = False\n",
    "%run \"{init_database_v2_py_path}\" {reuse}"
   ]
  },
  {
   "cell_type": "markdown",
   "id": "6a8a2beb",
   "metadata": {},
   "source": [
    "\n",
    "# Scaled parameters"
   ]
  },
  {
   "cell_type": "code",
   "execution_count": null,
   "id": "e3b44b31",
   "metadata": {},
   "outputs": [],
   "source": []
  },
  {
   "cell_type": "markdown",
   "id": "ea4ff57a",
   "metadata": {},
   "source": [
    "## Defining scaled parameters"
   ]
  },
  {
   "cell_type": "code",
   "execution_count": 16,
   "id": "c8ca5b97",
   "metadata": {},
   "outputs": [
    {
     "data": {
      "text/plain": [
       "'Gain_L2'"
      ]
     },
     "execution_count": 16,
     "metadata": {},
     "output_type": "execute_result"
    }
   ],
   "source": [
    "Irange = Parameter('Irange', label='current range', unit='', set_cmd=None, get_cmd=None)\n",
    "Vrange = Parameter('Vrange', label='voltage range', unit='', set_cmd=None, get_cmd=None)\n",
    "TGrange = Parameter('TGrange', label='Top gate range', unit='', set_cmd=None, get_cmd=None)\n",
    "\n",
    "#division paraemtrs required for simplier update: they used as an argument for scaled paraemtrs of sorce instruments\n",
    "\n",
    "\n",
    "Irange_division = Parameter('Irange_division', \n",
    "                            label='scaled current range', unit='', \n",
    "                            set_cmd=None, get_cmd=lambda : 1 / Irange())\n",
    "\n",
    "Vrange_division = Parameter('Vrange_division', \n",
    "                            label='scaled voltage range', unit='', \n",
    "                            set_cmd=None, get_cmd=lambda : 1 / Vrange())\n",
    "\n",
    "TGrange_division = Parameter('TGrange_division', \n",
    "                             label='scaled Top gate range', unit='', \n",
    "                             set_cmd=None, get_cmd=lambda : 1 / TGrange())\n",
    "\n",
    "Irange_AC_division = Parameter('Irange_AC_division', \n",
    "                               label='scaled current range for lockin', unit='', \n",
    "                               set_cmd=None, get_cmd=lambda : 1 / Irange())\n",
    "\n",
    "Vrange_AC_division = Parameter('Vrange_AC_division', \n",
    "                               label='scaled voltage range for lockin', unit='', \n",
    "                               set_cmd=None, get_cmd=lambda : 1 / Vrange())\n",
    "\n",
    "Gain_K1 = Parameter('Gain_K1', label='Gain K1', unit='', set_cmd=None, get_cmd=None)\n",
    "Gain_K2 = Parameter('Gain_K2', label='Gain K2', unit='', set_cmd=None, get_cmd=None)\n",
    "Gain_L1 = Parameter('Gain_L1', label='Gain L1', unit='', set_cmd=None, get_cmd=None)\n",
    "Gain_L2 = Parameter('Gain_L2', label='Gain L2', unit='', set_cmd=None, get_cmd=None)\n",
    "\n",
    "#Add components\n",
    "station.add_component(Irange)\n",
    "station.add_component(Vrange)\n",
    "station.add_component(TGrange)\n",
    "\n",
    "station.add_component(Irange_division)\n",
    "station.add_component(Vrange_division)\n",
    "station.add_component(TGrange_division)\n",
    "\n",
    "station.add_component(Irange_AC_division)\n",
    "station.add_component(Vrange_AC_division)\n",
    "                             \n",
    "station.add_component(Gain_K1)\n",
    "station.add_component(Gain_K2)\n",
    "station.add_component(Gain_L1)\n",
    "station.add_component(Gain_L2)"
   ]
  },
  {
   "cell_type": "markdown",
   "id": "6d7ecebe",
   "metadata": {},
   "source": [
    "## Parameters - update here during measuerements"
   ]
  },
  {
   "cell_type": "code",
   "execution_count": 17,
   "id": "b0b09fcc",
   "metadata": {},
   "outputs": [],
   "source": [
    "Irange.set(1e-6) #Unit Amp V=IR, 1V= 1e-6 x 1MOhm=1e-7 x 10MOhm\n",
    "Vrange.set(10) ## need to be sync with K213 range #Unit Volt\n",
    "TGrange.set(1) #Unit Volt\n",
    "Gain_K1.set(100)\n",
    "Gain_K2.set(100)\n",
    "# Gain_K3.set(1e2)\n",
    "Gain_L1.set(Gain_K1())\n",
    "Gain_L2.set(Gain_K2())\n",
    "#division parameters are updated automatically"
   ]
  },
  {
   "cell_type": "code",
   "execution_count": null,
   "id": "4b1231bb",
   "metadata": {},
   "outputs": [],
   "source": [
    "lockin_1.sine_outdc"
   ]
  },
  {
   "cell_type": "markdown",
   "id": "cbe7bfa7",
   "metadata": {},
   "source": [
    "## DC parameters"
   ]
  },
  {
   "cell_type": "code",
   "execution_count": 18,
   "id": "6a8c7deb",
   "metadata": {},
   "outputs": [
    {
     "data": {
      "text/plain": [
       "'meas_current_K1'"
      ]
     },
     "execution_count": 18,
     "metadata": {},
     "output_type": "execute_result"
    }
   ],
   "source": [
    "# appl_current = ScaledParameter(lockin_1.sine_outdc, division = Irange_division, name = 'appl_current', unit = 'A')\n",
    "appl_current = ScaledParameter(K2440.volt, division = Irange_division, name = 'appl_current', unit = 'A')\n",
    "\n",
    "#appl_TG = ScaledParameter(K2440.volt, division = TGrange_division, name = 'appl_TG', unit = 'V')\n",
    "\n",
    "meas_voltage_K1 = ScaledParameter(DMM6500.amplitude, division = Gain_K1, name = 'meas_voltage_K1', unit = 'V')\n",
    "# meas_voltage_K2 = ScaledParameter(DMM6500.amplitude, division = Gain_K2, name = 'meas_voltage_K2', unit = 'V')\n",
    "\n",
    "# meas_leakage = ScaledParameter(DMM6500.amplitude, division = Gain_K2, name = 'meas_leakage', unit = 'A')\n",
    "\n",
    "meas_current_K1 = ScaledParameter(DMM6500.amplitude, division = Gain_K1, name = 'meas_current_K1', unit = 'A')\n",
    "# meas_current_K2 = ScaledParameter(DMM6500.amplitude, division = Gain_K2, name = 'meas_current_K2', unit = 'A')\n",
    "\n",
    "station.add_component(appl_current)\n",
    "# station.add_component(appl_voltage)\n",
    "#station.add_component(appl_TG)\n",
    "\n",
    "station.add_component(meas_voltage_K1)\n",
    "# station.add_component(meas_voltage_K2)\n",
    "\n",
    "# station.add_component(meas_leakage)\n",
    "\n",
    "station.add_component(meas_current_K1)\n",
    "# station.add_component(meas_current_K2)"
   ]
  },
  {
   "cell_type": "code",
   "execution_count": 16,
   "id": "3851dc82",
   "metadata": {},
   "outputs": [],
   "source": [
    "K2440.output(0)\n",
    "appl_current(0)\n",
    "sleep(1)\n",
    "# meas_voltage_K2()"
   ]
  },
  {
   "cell_type": "markdown",
   "id": "a23afd58",
   "metadata": {},
   "source": [
    "##  AC parameters"
   ]
  },
  {
   "cell_type": "code",
   "execution_count": null,
   "id": "769f6a51",
   "metadata": {},
   "outputs": [],
   "source": [
    "appl_current_AC = ScaledParameter(lockin_1.amplitude, division = Irange_AC_division, name = 'appl_current_AC', unit = 'A')\n",
    "appl_voltage_AC = ScaledParameter(lockin_1.amplitude, division = Vrange_AC_division, name = 'appl_voltage_AC', unit = 'V')\n",
    "\n",
    "station.add_component(appl_current_AC)\n",
    "station.add_component(appl_voltage_AC)\n",
    "\n",
    "meas_voltage_AC_L1 = ScaledParameter(lockin_1.X, division = Gain_L1, name = 'meas_voltage_Lockin1', unit = 'V')\n",
    "meas_current_AC_L1 = ScaledParameter(lockin_1.X, division = Gain_L1, name = 'meas_current_Lockin1', unit = 'A')\n",
    "meas_phase_AC_L1 = ScaledParameter(lockin_1.P, division = 1, name = 'meas_phase_Lockin1', unit = 'degree')\n",
    "\n",
    "\n",
    "# meas_voltage_AC_L2 = ScaledParameter(lockin_2.X, division = Gain_L2, name = 'meas_voltage_Lockin2', unit = 'V')\n",
    "# meas_current_AC_L2 = ScaledParameter(lockin_2.X, division = Gain_L2, name = 'meas_current_Lockin2', unit = 'A')\n",
    "# meas_phase_AC_L2 = ScaledParameter(lockin_2.P, division = 1, name = 'meas_phase_Lockin1', unit = 'degree')\n",
    "\n",
    "station.add_component(meas_voltage_AC_L1)\n",
    "station.add_component(meas_current_AC_L1)\n",
    "station.add_component(meas_phase_AC_L1)\n",
    "\n",
    "# station.add_component(meas_voltage_AC_L2)\n",
    "# station.add_component(meas_current_AC_L2)\n",
    "\n",
    "meas_voltage_AC_L1_R = ScaledParameter(lockin_1.R, division = Gain_L1, name = 'meas_voltage_R_Lockin1', unit = 'V')\n",
    "# meas_voltage_AC_L2_R = ScaledParameter(lockin_2.R, division = Gain_L2, name = 'meas_voltage_R_Lockin2', unit = 'V')\n",
    "\n",
    "station.add_component(meas_voltage_AC_L1_R)\n",
    "# station.add_component(meas_voltage_AC_L2_R)"
   ]
  },
  {
   "cell_type": "code",
   "execution_count": null,
   "id": "bcd10ed7",
   "metadata": {},
   "outputs": [],
   "source": [
    "meas_voltage_AC_L1_P = ScaledParameter(lockin_1.P, division = 1, name = 'meas_voltage_Lockin1_P', unit = 'degree')\n",
    "meas_current_AC_L1_P = ScaledParameter(lockin_1.P, division = 1, name = 'meas_current_Lockin1_P', unit = 'degree')\n",
    "\n",
    "# meas_voltage_AC_L2_P = ScaledParameter(lockin_2.P, division = 1, name = 'meas_voltage_Lockin2_P', unit = 'degree')\n",
    "# meas_current_AC_L2_P = ScaledParameter(lockin_2.P, division = 1, name = 'meas_current_Lockin2_P', unit = 'degree')\n",
    "\n",
    "station.add_component(meas_voltage_AC_L1_P)\n",
    "station.add_component(meas_current_AC_L1_P)\n",
    "\n",
    "# station.add_component(meas_voltage_AC_L2_P)\n",
    "# station.add_component(meas_current_AC_L2_P)"
   ]
  },
  {
   "cell_type": "markdown",
   "id": "8d9d6239",
   "metadata": {},
   "source": [
    "## Another useful example: magnet using dac (Janis)"
   ]
  },
  {
   "cell_type": "markdown",
   "id": "92e1f309",
   "metadata": {},
   "source": [
    ">2231.2 G per A => 0.22312 T per A<br>\n",
    "I source 10mA per V => 1e-5 A per 1mV<br>\n",
    "result: 0.22312 T/A * 1e-5 A/mV"
   ]
  },
  {
   "cell_type": "code",
   "execution_count": 21,
   "id": "6b2b657a",
   "metadata": {},
   "outputs": [],
   "source": [
    "# def get_R_from_IV(dataid):\n",
    "#     dataset = qc.load_by_id(dataid)\n",
    "#     voltage = dataset.get_parameter_data()['meas_voltage_K2']['meas_voltage_K2']\n",
    "#     current = dataset.get_parameter_data()['meas_voltage_K2']['appl_current']\n",
    "#     fit_values = np.polyfit(current,voltage,1)\n",
    "    \n",
    "#     return fit_values[0]\n",
    "\n",
    "dataset = qc.load_by_id(1)\n",
    "\n",
    "def get_R_from_IV_2(dataid):\n",
    "    dataset = qc.load_by_id(dataid)\n",
    "    voltage = dataset.get_parameter_data()['meas_voltage_K2']['meas_voltage_K2']\n",
    "    current = dataset.get_parameter_data()['meas_voltage_K2']['appl_current']\n",
    "    fit_values = np.polyfit(current,voltage,1)\n",
    "\n",
    "    return fit_values[0]\n",
    "\n",
    "def get_R_from_IV(dataid):\n",
    "    dataset = qc.load_by_id(dataid)\n",
    "    para_list = dataset.parameters.split(\",\")\n",
    "    voltage = dataset.get_parameter_data()[para_list[1]][para_list[1]]\n",
    "    current = dataset.get_parameter_data()[para_list[1]][para_list[0]]\n",
    "    fit_values = np.polyfit(current,voltage,1)\n",
    "    return fit_values[0]\n",
    "\n",
    "\n",
    "def get_R_from_IV_K2(dataid):\n",
    "    dataset = qc.load_by_id(dataid)\n",
    "    voltage = dataset.get_parameter_data()['meas_voltage_K2']['meas_voltage_K2']\n",
    "    current = dataset.get_parameter_data()['meas_voltage_K2']['appl_current']\n",
    "    fit_values = np.polyfit(current,voltage,1)\n",
    "    return fit_values[0]\n",
    "\n",
    "def autosave_plot_by_id(run_id, save_path):\n",
    "    fig, ax = plt.subplots()\n",
    "    plot_by_id(run_id, axes=ax)\n",
    "    plt.savefig(save_path)\n",
    "    plt.close()\n",
    "\n",
    "def get_detaset_info(dataset=dataset):\n",
    "    run_id = dataset.captured_run_id\n",
    "    exp_name = dataset.exp_name\n",
    "    sample_name = dataset.sample_name\n",
    "    name = dataset.name\n",
    "    description = dataset.description\n",
    "    sample_junction = extract_sample_junction(sample_name)\n",
    "    return run_id, exp_name, sample_name, sample_junction, name, description\n",
    "\n",
    "def extract_sample_junction(sample_name):\n",
    "    \"\"\"Extracts the complete sample junction from the provided sample name.\n",
    "\n",
    "    Args:\n",
    "      sample_name: The name of the sample containing the junction information.\n",
    "\n",
    "    Returns:\n",
    "      The extracted sample junction, or None if not found.\n",
    "    \"\"\"\n",
    "\n",
    "    delimiter = \"_J\"\n",
    "    if delimiter in sample_name:\n",
    "        # +3 to include \"_J\"\n",
    "        return sample_name[:sample_name.find(delimiter) + 3]\n",
    "    else:\n",
    "        return None\n",
    "\n",
    "def IV(run_id=1):\n",
    "    dataset = qc.load_by_id(run_id)\n",
    "    R = get_R_from_IV(run_id)\n",
    "    run_id, exp_name, sample_name, sample_junction, name, description = get_detaset_info(\n",
    "        dataset)\n",
    "    df = dataset.to_pandas_dataframe().reset_index()\n",
    "    para_list = dataset.parameters.split(\",\")\n",
    "\n",
    "    # Create a Plotly trace\n",
    "    trace = go.Scatter(x=df[para_list[0]], y=df[para_list[1]]*1e3, mode='lines', name='Voltage vs. Current')\n",
    "\n",
    "    # Create layout with micro-scale y-axis\n",
    "    layout = go.Layout(title=f'<b>#{run_id} {exp_name}</b> {sample_name}, R_fit={R:.4f} Ω', title_font=dict(size=28),\n",
    "                       xaxis=dict(title=para_list[0], tickfont=dict(size=16),title_font=dict(size=20)),\n",
    "                       yaxis=dict(title=f\"{para_list[1]} mV\", tickfont=dict(size=16),title_font=dict(size=20)), \n",
    "                       width=1080, height=960,\n",
    "                       margin=dict(l=10, r=10, t=50, b=10))\n",
    "\n",
    "    # Create the figure\n",
    "    fig = go.Figure(data=[trace], layout=layout)\n",
    "    \n",
    "    fig.show()\n",
    "\n",
    "def IV_diff(run_id=1):\n",
    "    import numpy as np\n",
    "    import plotly.graph_objs as go\n",
    "    from scipy.signal import find_peaks\n",
    "    dataset = qc.load_by_id(run_id)\n",
    "\n",
    "    df = dataset.to_pandas_dataframe().reset_index()\n",
    "    para_list = dataset.parameters.split(\",\")\n",
    "\n",
    "    current = df[para_list[0]].tolist()\n",
    "    voltage = df[para_list[1]].tolist()\n",
    "\n",
    "    # Compute differential of voltage with respect to current\n",
    "    differential_voltage = np.diff(voltage) / np.diff(current)\n",
    "\n",
    "    # Since the differential will have one less data point, adjust the current data\n",
    "    # to have the same length as the differential data\n",
    "    current = current[:-1]\n",
    "\n",
    "    # Find peaks in the differential signal\n",
    "    peaks, _ = find_peaks(differential_voltage)\n",
    "\n",
    "    # Extract peak current and peak differential voltage values\n",
    "    peak_current = [current[i] for i in peaks]\n",
    "    peak_voltage_diff = [differential_voltage[i] for i in peaks]\n",
    "\n",
    "    # Sort the peaks based on their values\n",
    "    sorted_peak_indices = np.argsort(peak_voltage_diff)[::-1]  # Sort in descending order\n",
    "    top_two_peak_indices = sorted_peak_indices[:2]  # Select the top two indices\n",
    "\n",
    "    # Extract the top two peaks\n",
    "    top_two_peak_current = [peak_current[i] for i in top_two_peak_indices]\n",
    "    top_two_peak_voltage_diff = [peak_voltage_diff[i] for i in top_two_peak_indices]\n",
    "\n",
    "    # Calculate the center points of the top two peaks\n",
    "    center_points = [(top_two_peak_current[i] + top_two_peak_current[i+1]) / 2 for i in range(len(top_two_peak_current) - 1)]\n",
    "\n",
    "    # Calculate the difference between the top two biggest peaks\n",
    "    peak_difference = abs(top_two_peak_current[0] - top_two_peak_current[1])\n",
    "\n",
    "    # Determine the appropriate unit for current\n",
    "    if peak_difference >= 1e-3:\n",
    "        unit = \"mA\"\n",
    "        conversion_factor = 1e3\n",
    "    elif peak_difference >= 1e-6:\n",
    "        unit = \"μA\"\n",
    "        conversion_factor = 1e6\n",
    "    else:\n",
    "        unit = \"nA\"\n",
    "        conversion_factor = 1e9\n",
    "\n",
    "    # Determine the appropriate unit for current\n",
    "    if peak_difference >= 1e-3:\n",
    "        unit = \"mA\"\n",
    "    elif peak_difference >= 1e-6:\n",
    "        unit = \"μA\"\n",
    "    elif peak_difference >= 1e-9:\n",
    "        unit = \"nA\"\n",
    "    else:\n",
    "        unit = \"pA\"\n",
    "\n",
    "    # Create a Plotly trace for the differential\n",
    "    trace_diff = go.Scatter(x=[c * conversion_factor for c in current], y=differential_voltage, mode='lines', name='d(Voltage)/d(Current)')\n",
    "    # Add markers for the top two peaks\n",
    "    trace_top_two_peaks = go.Scatter(x=[p * conversion_factor for p in top_two_peak_current], y=top_two_peak_voltage_diff, mode='markers', marker=dict(color='red'), name='Top Two Peaks')\n",
    "    # Add markers for the center points\n",
    "    trace_center_points = go.Scatter(x=center_points, y=[0]*len(center_points), mode='markers', marker=dict(color='blue', symbol='cross'), name='Center Points')\n",
    "\n",
    "    # Create layout\n",
    "    layout = go.Layout(title=f'Run #{id} I vs. dV/dI',\n",
    "                    xaxis=dict(title=f'Current ({unit})'),\n",
    "                    yaxis=dict(title='d(Voltage)/d(Current)'),\n",
    "                    legend=dict(orientation=\"h\", yanchor=\"top\", y=1.10, xanchor=\"center\", x=0.5),\n",
    "                    width=600, height=600  \n",
    "                    )\n",
    "\n",
    "    # Create the figure\n",
    "    fig = go.Figure(data=[trace_diff, trace_top_two_peaks, trace_center_points], layout=layout)\n",
    "\n",
    "    # Add annotation for the current value of center points\n",
    "    for i, center_point in enumerate(center_points):\n",
    "        fig.add_annotation(\n",
    "            x=center_point * conversion_factor,\n",
    "            y=0, #0.4 * max(differential_voltage),\n",
    "            text=f'Center Point: {center_point * conversion_factor:.3f}{unit} <br> Peak difference: {peak_difference*conversion_factor:.3f} {unit}',\n",
    "            showarrow=True,\n",
    "            arrowhead=2,\n",
    "            arrowsize=1,\n",
    "            arrowwidth=2,\n",
    "            arrowcolor='black',\n",
    "            ax=-100,\n",
    "            ay=-200 - 30 * i\n",
    "        )\n",
    "\n",
    "    # Plot the figure\n",
    "    fig.show()\n",
    "\n",
    "def get_Mag(show=True):\n",
    "    Mag_x = magnet_x.field()\n",
    "    Mag_y = magnet_y.field()\n",
    "    Mag_z = magnet_z.field()\n",
    "    if show:\n",
    "        print(f\"Mag_x: {Mag_x*1e3:.6f} mT\")\n",
    "        print(f\"Mag_y: {Mag_y*1e3:.6f} mT\")\n",
    "        print(f\"Mag_z: {Mag_z*1e3:.6f} mT\")\n",
    "    else: \n",
    "        return Mag_x, Mag_y, Mag_z"
   ]
  },
  {
   "cell_type": "code",
   "execution_count": null,
   "id": "934a7b70",
   "metadata": {},
   "outputs": [],
   "source": [
    "appl_current(0.5e-6)\n",
    "appl_current_AC(10e-9)"
   ]
  },
  {
   "cell_type": "code",
   "execution_count": null,
   "id": "e0040749",
   "metadata": {},
   "outputs": [],
   "source": [
    "df = dataset.to_pandas_dataframe().reset_index()\n",
    "df"
   ]
  },
  {
   "cell_type": "markdown",
   "id": "885e5c90",
   "metadata": {},
   "source": [
    "# Simple IVs"
   ]
  },
  {
   "cell_type": "markdown",
   "id": "cdb6884c",
   "metadata": {},
   "source": [
    "## IV"
   ]
  },
  {
   "cell_type": "code",
   "execution_count": 18,
   "id": "f6c71fe1",
   "metadata": {},
   "outputs": [],
   "source": [
    "K2440.output(1)\n",
    "DMM6500.averaging_count(5)\n",
    "DMM6500.averaging_enabled(True)\n",
    "DMM6500.averaging_enabled(False)\n",
    "K2440.output(0)"
   ]
  },
  {
   "cell_type": "code",
   "execution_count": 19,
   "id": "88a5c92b",
   "metadata": {},
   "outputs": [],
   "source": [
    "# Set current to 0\n",
    "K2440.output(0)\n",
    "appl_current(0e-6)"
   ]
  },
  {
   "cell_type": "code",
   "execution_count": null,
   "id": "af7949e7",
   "metadata": {},
   "outputs": [],
   "source": [
    "IV(3)"
   ]
  },
  {
   "cell_type": "code",
   "execution_count": 27,
   "id": "94d8b3fa",
   "metadata": {},
   "outputs": [
    {
     "name": "stderr",
     "output_type": "stream",
     "text": [
      "There is (are) already experiment(s) with the name of I-V and sample name of 009-1_05-04-45-44G in the database.\n"
     ]
    },
    {
     "name": "stdout",
     "output_type": "stream",
     "text": [
      "Starting experimental run with id: 7. \n"
     ]
    },
    {
     "name": "stderr",
     "output_type": "stream",
     "text": [
      "100%|██████████| 501/501 [00:26<00:00, 18.81it/s]\n",
      "Trying to mark a run completed that was already completed.\n"
     ]
    },
    {
     "name": "stdout",
     "output_type": "stream",
     "text": [
      "R = 1596.1814147780863\n"
     ]
    },
    {
     "data": {
      "application/vnd.plotly.v1+json": {
       "config": {
        "plotlyServerURL": "https://plot.ly"
       },
       "data": [
        {
         "mode": "lines",
         "name": "Voltage vs. Current",
         "type": "scatter",
         "x": [
          -0.000001,
          -9.96e-7,
          -9.92e-7,
          -9.88e-7,
          -9.84e-7,
          -9.8e-7,
          -9.76e-7,
          -9.72e-7,
          -9.68e-7,
          -9.64e-7,
          -9.6e-7,
          -9.56e-7,
          -9.52e-7,
          -9.48e-7,
          -9.44e-7,
          -9.4e-7,
          -9.36e-7,
          -9.32e-7,
          -9.28e-7,
          -9.24e-7,
          -9.2e-7,
          -9.16e-7,
          -9.12e-7,
          -9.08e-7,
          -9.04e-7,
          -9e-7,
          -8.96e-7,
          -8.92e-7,
          -8.88e-7,
          -8.84e-7,
          -8.8e-7,
          -8.76e-7,
          -8.72e-7,
          -8.68e-7,
          -8.64e-7,
          -8.6e-7,
          -8.56e-7,
          -8.52e-7,
          -8.48e-7,
          -8.44e-7,
          -8.4e-7,
          -8.36e-7,
          -8.32e-7,
          -8.28e-7,
          -8.24e-7,
          -8.2e-7,
          -8.16e-7,
          -8.12e-7,
          -8.08e-7,
          -8.04e-7,
          -8e-7,
          -7.96e-7,
          -7.92e-7,
          -7.88e-7,
          -7.84e-7,
          -7.8e-7,
          -7.76e-7,
          -7.72e-7,
          -7.68e-7,
          -7.64e-7,
          -7.6e-7,
          -7.56e-7,
          -7.52e-7,
          -7.48e-7,
          -7.44e-7,
          -7.4e-7,
          -7.36e-7,
          -7.32e-7,
          -7.28e-7,
          -7.24e-7,
          -7.2e-7,
          -7.16e-7,
          -7.12e-7,
          -7.08e-7,
          -7.04e-7,
          -7e-7,
          -6.96e-7,
          -6.92e-7,
          -6.88e-7,
          -6.84e-7,
          -6.8e-7,
          -6.76e-7,
          -6.72e-7,
          -6.68e-7,
          -6.64e-7,
          -6.6e-7,
          -6.56e-7,
          -6.52e-7,
          -6.48e-7,
          -6.44e-7,
          -6.4e-7,
          -6.36e-7,
          -6.32e-7,
          -6.28e-7,
          -6.24e-7,
          -6.2e-7,
          -6.16e-7,
          -6.12e-7,
          -6.08e-7,
          -6.04e-7,
          -6e-7,
          -5.96e-7,
          -5.92e-7,
          -5.88e-7,
          -5.84e-7,
          -5.8e-7,
          -5.76e-7,
          -5.72e-7,
          -5.68e-7,
          -5.64e-7,
          -5.6e-7,
          -5.56e-7,
          -5.52e-7,
          -5.48e-7,
          -5.44e-7,
          -5.4e-7,
          -5.36e-7,
          -5.32e-7,
          -5.28e-7,
          -5.24e-7,
          -5.2e-7,
          -5.16e-7,
          -5.12e-7,
          -5.08e-7,
          -5.04e-7,
          -5e-7,
          -4.96e-7,
          -4.92e-7,
          -4.88e-7,
          -4.84e-7,
          -4.8e-7,
          -4.76e-7,
          -4.72e-7,
          -4.68e-7,
          -4.64e-7,
          -4.6e-7,
          -4.56e-7,
          -4.52e-7,
          -4.48e-7,
          -4.44e-7,
          -4.4e-7,
          -4.36e-7,
          -4.32e-7,
          -4.28e-7,
          -4.24e-7,
          -4.2e-7,
          -4.16e-7,
          -4.12e-7,
          -4.08e-7,
          -4.04e-7,
          -4e-7,
          -3.96e-7,
          -3.92e-7,
          -3.88e-7,
          -3.84e-7,
          -3.8e-7,
          -3.76e-7,
          -3.72e-7,
          -3.68e-7,
          -3.64e-7,
          -3.6e-7,
          -3.56e-7,
          -3.52e-7,
          -3.48e-7,
          -3.44e-7,
          -3.4e-7,
          -3.36e-7,
          -3.32e-7,
          -3.28e-7,
          -3.24e-7,
          -3.2e-7,
          -3.16e-7,
          -3.12e-7,
          -3.08e-7,
          -3.04e-7,
          -3e-7,
          -2.96e-7,
          -2.92e-7,
          -2.88e-7,
          -2.84e-7,
          -2.8e-7,
          -2.76e-7,
          -2.72e-7,
          -2.68e-7,
          -2.64e-7,
          -2.6e-7,
          -2.56e-7,
          -2.52e-7,
          -2.48e-7,
          -2.44e-7,
          -2.4e-7,
          -2.36e-7,
          -2.32e-7,
          -2.28e-7,
          -2.24e-7,
          -2.2e-7,
          -2.16e-7,
          -2.12e-7,
          -2.08e-7,
          -2.04e-7,
          -2e-7,
          -1.96e-7,
          -1.92e-7,
          -1.88e-7,
          -1.84e-7,
          -1.8e-7,
          -1.76e-7,
          -1.72e-7,
          -1.68e-7,
          -1.64e-7,
          -1.6e-7,
          -1.56e-7,
          -1.52e-7,
          -1.48e-7,
          -1.44e-7,
          -1.4e-7,
          -1.36e-7,
          -1.32e-7,
          -1.28e-7,
          -1.24e-7,
          -1.2e-7,
          -1.16e-7,
          -1.12e-7,
          -1.08e-7,
          -1.04e-7,
          -1e-7,
          -9.60000000000001e-8,
          -9.20000000000001e-8,
          -8.8e-8,
          -8.40000000000001e-8,
          -8.00000000000001e-8,
          -7.60000000000001e-8,
          -7.20000000000001e-8,
          -6.80000000000001e-8,
          -6.40000000000001e-8,
          -6.00000000000001e-8,
          -5.60000000000001e-8,
          -5.20000000000001e-8,
          -4.80000000000001e-8,
          -4.40000000000001e-8,
          -4e-8,
          -3.60000000000002e-8,
          -3.20000000000001e-8,
          -2.80000000000002e-8,
          -2.40000000000001e-8,
          -2e-8,
          -1.60000000000001e-8,
          -1.20000000000001e-8,
          -8.00000000000018e-9,
          -4.00000000000009e-9,
          0,
          3.99999999999988e-9,
          7.99999999999997e-9,
          1.19999999999998e-8,
          1.59999999999999e-8,
          1.99999999999998e-8,
          2.39999999999999e-8,
          2.8e-8,
          3.19999999999999e-8,
          3.6e-8,
          3.99999999999998e-8,
          4.39999999999999e-8,
          4.79999999999998e-8,
          5.19999999999999e-8,
          5.6e-8,
          5.99999999999998e-8,
          6.4e-8,
          6.79999999999998e-8,
          7.19999999999999e-8,
          7.6e-8,
          7.99999999999999e-8,
          8.4e-8,
          8.79999999999999e-8,
          9.19999999999999e-8,
          9.59999999999998e-8,
          9.99999999999999e-8,
          1.04e-7,
          1.08e-7,
          1.12e-7,
          1.16e-7,
          1.2e-7,
          1.24e-7,
          1.28e-7,
          1.32e-7,
          1.36e-7,
          1.4e-7,
          1.44e-7,
          1.48e-7,
          1.52e-7,
          1.56e-7,
          1.6e-7,
          1.64e-7,
          1.68e-7,
          1.72e-7,
          1.76e-7,
          1.8e-7,
          1.84e-7,
          1.88e-7,
          1.92e-7,
          1.96e-7,
          2e-7,
          2.04e-7,
          2.08e-7,
          2.12e-7,
          2.16e-7,
          2.2e-7,
          2.24e-7,
          2.28e-7,
          2.32e-7,
          2.36e-7,
          2.4e-7,
          2.44e-7,
          2.48e-7,
          2.52e-7,
          2.56e-7,
          2.6e-7,
          2.64e-7,
          2.68e-7,
          2.72e-7,
          2.76e-7,
          2.8e-7,
          2.84e-7,
          2.88e-7,
          2.92e-7,
          2.96e-7,
          3e-7,
          3.04e-7,
          3.08e-7,
          3.12e-7,
          3.16e-7,
          3.2e-7,
          3.24e-7,
          3.28e-7,
          3.32e-7,
          3.36e-7,
          3.4e-7,
          3.44e-7,
          3.48e-7,
          3.52e-7,
          3.56e-7,
          3.6e-7,
          3.64e-7,
          3.68e-7,
          3.72e-7,
          3.76e-7,
          3.8e-7,
          3.84e-7,
          3.88e-7,
          3.92e-7,
          3.96e-7,
          4e-7,
          4.04e-7,
          4.08e-7,
          4.12e-7,
          4.16e-7,
          4.2e-7,
          4.24e-7,
          4.28e-7,
          4.32e-7,
          4.36e-7,
          4.4e-7,
          4.44e-7,
          4.48e-7,
          4.52e-7,
          4.56e-7,
          4.6e-7,
          4.64e-7,
          4.68e-7,
          4.72e-7,
          4.76e-7,
          4.8e-7,
          4.84e-7,
          4.88e-7,
          4.92e-7,
          4.96e-7,
          5e-7,
          5.04e-7,
          5.08e-7,
          5.12e-7,
          5.16e-7,
          5.2e-7,
          5.24e-7,
          5.28e-7,
          5.32e-7,
          5.36e-7,
          5.4e-7,
          5.44e-7,
          5.48e-7,
          5.52e-7,
          5.56e-7,
          5.6e-7,
          5.64e-7,
          5.68e-7,
          5.72e-7,
          5.76e-7,
          5.8e-7,
          5.84e-7,
          5.88e-7,
          5.92e-7,
          5.96e-7,
          6e-7,
          6.04e-7,
          6.08e-7,
          6.12e-7,
          6.16e-7,
          6.2e-7,
          6.24e-7,
          6.28e-7,
          6.32e-7,
          6.36e-7,
          6.4e-7,
          6.44e-7,
          6.48e-7,
          6.52e-7,
          6.56e-7,
          6.6e-7,
          6.64e-7,
          6.68e-7,
          6.72e-7,
          6.76e-7,
          6.8e-7,
          6.84e-7,
          6.88e-7,
          6.92e-7,
          6.96e-7,
          7e-7,
          7.04e-7,
          7.08e-7,
          7.12e-7,
          7.16e-7,
          7.2e-7,
          7.24e-7,
          7.28e-7,
          7.32e-7,
          7.36e-7,
          7.4e-7,
          7.44e-7,
          7.48e-7,
          7.52e-7,
          7.56e-7,
          7.6e-7,
          7.64e-7,
          7.68e-7,
          7.72e-7,
          7.76e-7,
          7.8e-7,
          7.84e-7,
          7.88e-7,
          7.92e-7,
          7.96e-7,
          8e-7,
          8.04e-7,
          8.08e-7,
          8.12e-7,
          8.16e-7,
          8.2e-7,
          8.24e-7,
          8.28e-7,
          8.32e-7,
          8.36e-7,
          8.4e-7,
          8.44e-7,
          8.48e-7,
          8.52e-7,
          8.56e-7,
          8.6e-7,
          8.64e-7,
          8.68e-7,
          8.72e-7,
          8.76e-7,
          8.8e-7,
          8.84e-7,
          8.88e-7,
          8.92e-7,
          8.96e-7,
          9e-7,
          9.04e-7,
          9.08e-7,
          9.12e-7,
          9.16e-7,
          9.2e-7,
          9.24e-7,
          9.28e-7,
          9.32e-7,
          9.36e-7,
          9.4e-7,
          9.44e-7,
          9.48e-7,
          9.52e-7,
          9.56e-7,
          9.6e-7,
          9.64e-7,
          9.68e-7,
          9.72e-7,
          9.76e-7,
          9.8e-7,
          9.84e-7,
          9.88e-7,
          9.92e-7,
          9.96e-7,
          0.000001
         ],
         "y": [
          -1.59618,
          -1.5898430000000001,
          -1.5834130000000002,
          -1.577079,
          -1.570683,
          -1.564338,
          -1.558276,
          -1.5518210000000001,
          -1.545581,
          -1.538944,
          -1.532912,
          -1.526391,
          -1.520057,
          -1.513435,
          -1.5072919999999999,
          -1.500615,
          -1.494427,
          -1.488009,
          -1.481863,
          -1.47511,
          -1.46907,
          -1.462582,
          -1.456136,
          -1.449654,
          -1.4433429999999998,
          -1.4370470000000002,
          -1.430511,
          -1.4240940000000002,
          -1.417883,
          -1.411478,
          -1.4049310000000002,
          -1.398881,
          -1.3926260000000001,
          -1.386106,
          -1.379675,
          -1.373462,
          -1.3666939999999999,
          -1.360241,
          -1.353888,
          -1.347675,
          -1.341152,
          -1.334983,
          -1.328856,
          -1.322223,
          -1.31592,
          -1.309486,
          -1.303134,
          -1.296476,
          -1.2901749999999998,
          -1.284133,
          -1.2774640000000002,
          -1.271162,
          -1.264734,
          -1.258428,
          -1.2517660000000002,
          -1.245466,
          -1.239558,
          -1.232873,
          -1.226609,
          -1.220015,
          -1.2136600000000002,
          -1.20739,
          -1.201046,
          -1.194701,
          -1.187968,
          -1.181743,
          -1.175484,
          -1.169387,
          -1.162803,
          -1.156243,
          -1.149986,
          -1.1434900000000001,
          -1.1372000000000002,
          -1.130957,
          -1.124378,
          -1.117912,
          -1.111688,
          -1.105597,
          -1.098856,
          -1.0922690000000002,
          -1.086097,
          -1.0797400000000001,
          -1.0733940000000002,
          -1.0669600000000001,
          -1.060669,
          -1.0541470000000002,
          -1.0480260000000001,
          -1.0413569999999999,
          -1.03495,
          -1.0288059999999999,
          -1.022315,
          -1.0160259999999999,
          -1.009529,
          -1.003239,
          -0.996891,
          -0.9901390999999999,
          -0.9838631,
          -0.9776848,
          -0.9711905,
          -0.9647945,
          -0.9584927000000001,
          -0.9521013,
          -0.9455813000000001,
          -0.9394418,
          -0.9328726,
          -0.9265826,
          -0.9202323,
          -0.9136841,
          -0.9074315,
          -0.9009379,
          -0.8945014,
          -0.8881260999999999,
          -0.8819962,
          -0.875247,
          -0.8690116999999999,
          -0.8630568000000001,
          -0.8561003,
          -0.8499892,
          -0.8437260999999999,
          -0.8373039999999999,
          -0.8307772999999999,
          -0.8244226,
          -0.8180455000000001,
          -0.8115517,
          -0.8052227,
          -0.7989825,
          -0.7926257,
          -0.7860333,
          -0.7797993,
          -0.7734811,
          -0.7668525,
          -0.7606936,
          -0.7543024,
          -0.7479465000000001,
          -0.7415284,
          -0.7349909,
          -0.7288188,
          -0.7222756,
          -0.7158746,
          -0.7097483,
          -0.7033526,
          -0.6968903999999999,
          -0.6905088,
          -0.6841641,
          -0.6777288,
          -0.6711236,
          -0.6649705,
          -0.6584283,
          -0.651978,
          -0.6457712,
          -0.6393806999999999,
          -0.6329319,
          -0.6263907,
          -0.6201873,
          -0.6137799,
          -0.6073729,
          -0.6010603999999999,
          -0.5947595,
          -0.5881476,
          -0.5817989,
          -0.5756100000000001,
          -0.5687494000000001,
          -0.5627643,
          -0.5563333,
          -0.5500692,
          -0.5433949,
          -0.5371933,
          -0.5309337,
          -0.5241886,
          -0.5180092000000001,
          -0.5116428000000001,
          -0.5053602,
          -0.4987501,
          -0.49246390000000007,
          -0.4862925,
          -0.47955570000000003,
          -0.4734756,
          -0.46700030000000003,
          -0.4608586,
          -0.4542082,
          -0.4479458,
          -0.4415155,
          -0.4351798,
          -0.4287168,
          -0.4223435,
          -0.4159791,
          -0.4095713,
          -0.4030952,
          -0.3967945,
          -0.39025000000000004,
          -0.3840677,
          -0.3778015,
          -0.37138790000000005,
          -0.364932,
          -0.3584292,
          -0.3522198,
          -0.34549050000000003,
          -0.3394104,
          -0.3329294,
          -0.3268982,
          -0.32000300000000004,
          -0.3139109,
          -0.3075149,
          -0.30109739999999996,
          -0.2945302,
          -0.2883904,
          -0.2819252,
          -0.27552190000000004,
          -0.2691264,
          -0.26285339999999996,
          -0.2561857,
          -0.2501578,
          -0.2436487,
          -0.2374395,
          -0.2307422,
          -0.2244981,
          -0.21831920000000002,
          -0.2116076,
          -0.20530710000000002,
          -0.1990815,
          -0.19244840000000002,
          -0.1860367,
          -0.1797596,
          -0.1734053,
          -0.1669811,
          -0.16066,
          -0.1544037,
          -0.1478245,
          -0.14141730000000002,
          -0.13523659999999998,
          -0.1288266,
          -0.1223723,
          -0.11585169999999999,
          -0.1096562,
          -0.1031502,
          -0.09674222,
          -0.0904923,
          -0.08404350000000001,
          -0.07766296,
          -0.0712332,
          -0.0649407,
          -0.05833204,
          -0.05205167,
          -0.04581108,
          -0.039439010000000004,
          -0.03290585,
          -0.02671453,
          -0.02029243,
          -0.01370982,
          -0.007367817,
          -0.001102882,
          0.006161886,
          0.01251458,
          0.018984110000000002,
          0.02536995,
          0.03155318,
          0.03790135,
          0.04442343,
          0.050809320000000005,
          0.05714129,
          0.0637369,
          0.06993780000000001,
          0.07636966,
          0.08260242,
          0.08921861,
          0.0954203,
          0.1017975,
          0.10846220000000001,
          0.114747,
          0.1211687,
          0.12714409999999998,
          0.1338065,
          0.14023080000000002,
          0.1464106,
          0.1531668,
          0.1594039,
          0.165713,
          0.17203729999999998,
          0.178506,
          0.1848632,
          0.19126390000000001,
          0.19768960000000002,
          0.2041895,
          0.2102921,
          0.2167426,
          0.2232538,
          0.2297082,
          0.23597749999999998,
          0.2426256,
          0.2488298,
          0.2551814,
          0.26139369999999995,
          0.2679599,
          0.27425970000000005,
          0.28056929999999997,
          0.2870899,
          0.2933962,
          0.299676,
          0.3060055,
          0.3126687,
          0.3188326,
          0.3253166,
          0.3319589,
          0.338007,
          0.34440000000000004,
          0.3506718,
          0.357323,
          0.3635619,
          0.3698428,
          0.3764196,
          0.3828212,
          0.38892499999999997,
          0.395355,
          0.40189590000000003,
          0.4082672,
          0.41454589999999997,
          0.4210954,
          0.4274174,
          0.4337801,
          0.4400424,
          0.4465984,
          0.453041,
          0.45918149999999996,
          0.46573699999999996,
          0.4721533,
          0.47847900000000004,
          0.4846414,
          0.4912311,
          0.49758009999999997,
          0.5037429,
          0.5103404,
          0.5167185,
          0.5229911,
          0.5292581000000001,
          0.5360129,
          0.5420452,
          0.5484879,
          0.5551945,
          0.5614278,
          0.5677272999999999,
          0.5741029999999999,
          0.5806188,
          0.5869546,
          0.5932231,
          0.5998452,
          0.6059831,
          0.6124081,
          0.6187281,
          0.6253107999999999,
          0.6316352000000001,
          0.6377638,
          0.6444411,
          0.6507486,
          0.6572163,
          0.6632603,
          0.6699609999999999,
          0.6762212000000001,
          0.6825624,
          0.6891628,
          0.6955709999999999,
          0.7018019999999999,
          0.7081286999999999,
          0.7146406,
          0.7210191,
          0.7272974000000001,
          0.733767,
          0.7401369999999999,
          0.7464246,
          0.752767,
          0.7593974,
          0.7656955,
          0.7719921000000001,
          0.7784724000000001,
          0.7849213,
          0.7913273,
          0.7974371,
          0.8039896,
          0.810451,
          0.8166031,
          0.8230895,
          0.8294748999999999,
          0.8358609,
          0.8421747,
          0.8488317,
          0.8552447000000001,
          0.8613792,
          0.8680123000000001,
          0.8742979,
          0.8805815,
          0.8868692,
          0.8934814999999999,
          0.8997066,
          0.9060638,
          0.9126058,
          0.9189362999999999,
          0.9252425,
          0.9315486000000001,
          0.9380875000000001,
          0.944431,
          0.9505979999999999,
          0.9573048000000001,
          0.9635798000000001,
          0.9699017999999999,
          0.9761756,
          0.9828504000000001,
          0.9889402,
          0.9953593000000001,
          1.00193,
          1.008249,
          1.0144769999999999,
          1.020789,
          1.027408,
          1.0337390000000002,
          1.040144,
          1.046712,
          1.052945,
          1.05925,
          1.0655409999999998,
          1.072094,
          1.078624,
          1.084704,
          1.091104,
          1.097588,
          1.1039240000000001,
          1.1101889999999999,
          1.116784,
          1.1229989999999999,
          1.1293600000000001,
          1.136082,
          1.142207,
          1.148417,
          1.1547420000000002,
          1.161335,
          1.167794,
          1.173934,
          1.180499,
          1.186763,
          1.193198,
          1.199565,
          1.206023,
          1.212302,
          1.218757,
          1.225229,
          1.231488,
          1.2377740000000002,
          1.2442950000000002,
          1.250684,
          1.256996,
          1.263279,
          1.270036,
          1.276203,
          1.282558,
          1.289059,
          1.295267,
          1.3017020000000001,
          1.3079610000000002,
          1.314634,
          1.3208199999999999,
          1.3271929999999998,
          1.333912,
          1.340066,
          1.346323,
          1.352615,
          1.359173,
          1.365696,
          1.3719590000000002,
          1.378425,
          1.384787,
          1.391109,
          1.3972520000000002,
          1.403928,
          1.410112,
          1.4165429999999999,
          1.42315,
          1.4293470000000001,
          1.4356900000000001,
          1.442149,
          1.448685,
          1.454885,
          1.4611800000000001,
          1.467764,
          1.474043,
          1.48041,
          1.4866350000000002,
          1.4931809999999999,
          1.499563,
          1.505728,
          1.5123090000000001,
          1.518659,
          1.524983,
          1.531327,
          1.537932,
          1.5442330000000002,
          1.5504099999999998,
          1.5570709999999999,
          1.563291,
          1.569829,
          1.5758720000000002,
          1.582565,
          1.588737,
          1.5952119999999999
         ]
        }
       ],
       "layout": {
        "height": 960,
        "margin": {
         "b": 10,
         "l": 10,
         "r": 10,
         "t": 50
        },
        "template": {
         "data": {
          "bar": [
           {
            "error_x": {
             "color": "#2a3f5f"
            },
            "error_y": {
             "color": "#2a3f5f"
            },
            "marker": {
             "line": {
              "color": "#E5ECF6",
              "width": 0.5
             },
             "pattern": {
              "fillmode": "overlay",
              "size": 10,
              "solidity": 0.2
             }
            },
            "type": "bar"
           }
          ],
          "barpolar": [
           {
            "marker": {
             "line": {
              "color": "#E5ECF6",
              "width": 0.5
             },
             "pattern": {
              "fillmode": "overlay",
              "size": 10,
              "solidity": 0.2
             }
            },
            "type": "barpolar"
           }
          ],
          "carpet": [
           {
            "aaxis": {
             "endlinecolor": "#2a3f5f",
             "gridcolor": "white",
             "linecolor": "white",
             "minorgridcolor": "white",
             "startlinecolor": "#2a3f5f"
            },
            "baxis": {
             "endlinecolor": "#2a3f5f",
             "gridcolor": "white",
             "linecolor": "white",
             "minorgridcolor": "white",
             "startlinecolor": "#2a3f5f"
            },
            "type": "carpet"
           }
          ],
          "choropleth": [
           {
            "colorbar": {
             "outlinewidth": 0,
             "ticks": ""
            },
            "type": "choropleth"
           }
          ],
          "contour": [
           {
            "colorbar": {
             "outlinewidth": 0,
             "ticks": ""
            },
            "colorscale": [
             [
              0,
              "#0d0887"
             ],
             [
              0.1111111111111111,
              "#46039f"
             ],
             [
              0.2222222222222222,
              "#7201a8"
             ],
             [
              0.3333333333333333,
              "#9c179e"
             ],
             [
              0.4444444444444444,
              "#bd3786"
             ],
             [
              0.5555555555555556,
              "#d8576b"
             ],
             [
              0.6666666666666666,
              "#ed7953"
             ],
             [
              0.7777777777777778,
              "#fb9f3a"
             ],
             [
              0.8888888888888888,
              "#fdca26"
             ],
             [
              1,
              "#f0f921"
             ]
            ],
            "type": "contour"
           }
          ],
          "contourcarpet": [
           {
            "colorbar": {
             "outlinewidth": 0,
             "ticks": ""
            },
            "type": "contourcarpet"
           }
          ],
          "heatmap": [
           {
            "colorbar": {
             "outlinewidth": 0,
             "ticks": ""
            },
            "colorscale": [
             [
              0,
              "#0d0887"
             ],
             [
              0.1111111111111111,
              "#46039f"
             ],
             [
              0.2222222222222222,
              "#7201a8"
             ],
             [
              0.3333333333333333,
              "#9c179e"
             ],
             [
              0.4444444444444444,
              "#bd3786"
             ],
             [
              0.5555555555555556,
              "#d8576b"
             ],
             [
              0.6666666666666666,
              "#ed7953"
             ],
             [
              0.7777777777777778,
              "#fb9f3a"
             ],
             [
              0.8888888888888888,
              "#fdca26"
             ],
             [
              1,
              "#f0f921"
             ]
            ],
            "type": "heatmap"
           }
          ],
          "heatmapgl": [
           {
            "colorbar": {
             "outlinewidth": 0,
             "ticks": ""
            },
            "colorscale": [
             [
              0,
              "#0d0887"
             ],
             [
              0.1111111111111111,
              "#46039f"
             ],
             [
              0.2222222222222222,
              "#7201a8"
             ],
             [
              0.3333333333333333,
              "#9c179e"
             ],
             [
              0.4444444444444444,
              "#bd3786"
             ],
             [
              0.5555555555555556,
              "#d8576b"
             ],
             [
              0.6666666666666666,
              "#ed7953"
             ],
             [
              0.7777777777777778,
              "#fb9f3a"
             ],
             [
              0.8888888888888888,
              "#fdca26"
             ],
             [
              1,
              "#f0f921"
             ]
            ],
            "type": "heatmapgl"
           }
          ],
          "histogram": [
           {
            "marker": {
             "pattern": {
              "fillmode": "overlay",
              "size": 10,
              "solidity": 0.2
             }
            },
            "type": "histogram"
           }
          ],
          "histogram2d": [
           {
            "colorbar": {
             "outlinewidth": 0,
             "ticks": ""
            },
            "colorscale": [
             [
              0,
              "#0d0887"
             ],
             [
              0.1111111111111111,
              "#46039f"
             ],
             [
              0.2222222222222222,
              "#7201a8"
             ],
             [
              0.3333333333333333,
              "#9c179e"
             ],
             [
              0.4444444444444444,
              "#bd3786"
             ],
             [
              0.5555555555555556,
              "#d8576b"
             ],
             [
              0.6666666666666666,
              "#ed7953"
             ],
             [
              0.7777777777777778,
              "#fb9f3a"
             ],
             [
              0.8888888888888888,
              "#fdca26"
             ],
             [
              1,
              "#f0f921"
             ]
            ],
            "type": "histogram2d"
           }
          ],
          "histogram2dcontour": [
           {
            "colorbar": {
             "outlinewidth": 0,
             "ticks": ""
            },
            "colorscale": [
             [
              0,
              "#0d0887"
             ],
             [
              0.1111111111111111,
              "#46039f"
             ],
             [
              0.2222222222222222,
              "#7201a8"
             ],
             [
              0.3333333333333333,
              "#9c179e"
             ],
             [
              0.4444444444444444,
              "#bd3786"
             ],
             [
              0.5555555555555556,
              "#d8576b"
             ],
             [
              0.6666666666666666,
              "#ed7953"
             ],
             [
              0.7777777777777778,
              "#fb9f3a"
             ],
             [
              0.8888888888888888,
              "#fdca26"
             ],
             [
              1,
              "#f0f921"
             ]
            ],
            "type": "histogram2dcontour"
           }
          ],
          "mesh3d": [
           {
            "colorbar": {
             "outlinewidth": 0,
             "ticks": ""
            },
            "type": "mesh3d"
           }
          ],
          "parcoords": [
           {
            "line": {
             "colorbar": {
              "outlinewidth": 0,
              "ticks": ""
             }
            },
            "type": "parcoords"
           }
          ],
          "pie": [
           {
            "automargin": true,
            "type": "pie"
           }
          ],
          "scatter": [
           {
            "fillpattern": {
             "fillmode": "overlay",
             "size": 10,
             "solidity": 0.2
            },
            "type": "scatter"
           }
          ],
          "scatter3d": [
           {
            "line": {
             "colorbar": {
              "outlinewidth": 0,
              "ticks": ""
             }
            },
            "marker": {
             "colorbar": {
              "outlinewidth": 0,
              "ticks": ""
             }
            },
            "type": "scatter3d"
           }
          ],
          "scattercarpet": [
           {
            "marker": {
             "colorbar": {
              "outlinewidth": 0,
              "ticks": ""
             }
            },
            "type": "scattercarpet"
           }
          ],
          "scattergeo": [
           {
            "marker": {
             "colorbar": {
              "outlinewidth": 0,
              "ticks": ""
             }
            },
            "type": "scattergeo"
           }
          ],
          "scattergl": [
           {
            "marker": {
             "colorbar": {
              "outlinewidth": 0,
              "ticks": ""
             }
            },
            "type": "scattergl"
           }
          ],
          "scattermapbox": [
           {
            "marker": {
             "colorbar": {
              "outlinewidth": 0,
              "ticks": ""
             }
            },
            "type": "scattermapbox"
           }
          ],
          "scatterpolar": [
           {
            "marker": {
             "colorbar": {
              "outlinewidth": 0,
              "ticks": ""
             }
            },
            "type": "scatterpolar"
           }
          ],
          "scatterpolargl": [
           {
            "marker": {
             "colorbar": {
              "outlinewidth": 0,
              "ticks": ""
             }
            },
            "type": "scatterpolargl"
           }
          ],
          "scatterternary": [
           {
            "marker": {
             "colorbar": {
              "outlinewidth": 0,
              "ticks": ""
             }
            },
            "type": "scatterternary"
           }
          ],
          "surface": [
           {
            "colorbar": {
             "outlinewidth": 0,
             "ticks": ""
            },
            "colorscale": [
             [
              0,
              "#0d0887"
             ],
             [
              0.1111111111111111,
              "#46039f"
             ],
             [
              0.2222222222222222,
              "#7201a8"
             ],
             [
              0.3333333333333333,
              "#9c179e"
             ],
             [
              0.4444444444444444,
              "#bd3786"
             ],
             [
              0.5555555555555556,
              "#d8576b"
             ],
             [
              0.6666666666666666,
              "#ed7953"
             ],
             [
              0.7777777777777778,
              "#fb9f3a"
             ],
             [
              0.8888888888888888,
              "#fdca26"
             ],
             [
              1,
              "#f0f921"
             ]
            ],
            "type": "surface"
           }
          ],
          "table": [
           {
            "cells": {
             "fill": {
              "color": "#EBF0F8"
             },
             "line": {
              "color": "white"
             }
            },
            "header": {
             "fill": {
              "color": "#C8D4E3"
             },
             "line": {
              "color": "white"
             }
            },
            "type": "table"
           }
          ]
         },
         "layout": {
          "annotationdefaults": {
           "arrowcolor": "#2a3f5f",
           "arrowhead": 0,
           "arrowwidth": 1
          },
          "autotypenumbers": "strict",
          "coloraxis": {
           "colorbar": {
            "outlinewidth": 0,
            "ticks": ""
           }
          },
          "colorscale": {
           "diverging": [
            [
             0,
             "#8e0152"
            ],
            [
             0.1,
             "#c51b7d"
            ],
            [
             0.2,
             "#de77ae"
            ],
            [
             0.3,
             "#f1b6da"
            ],
            [
             0.4,
             "#fde0ef"
            ],
            [
             0.5,
             "#f7f7f7"
            ],
            [
             0.6,
             "#e6f5d0"
            ],
            [
             0.7,
             "#b8e186"
            ],
            [
             0.8,
             "#7fbc41"
            ],
            [
             0.9,
             "#4d9221"
            ],
            [
             1,
             "#276419"
            ]
           ],
           "sequential": [
            [
             0,
             "#0d0887"
            ],
            [
             0.1111111111111111,
             "#46039f"
            ],
            [
             0.2222222222222222,
             "#7201a8"
            ],
            [
             0.3333333333333333,
             "#9c179e"
            ],
            [
             0.4444444444444444,
             "#bd3786"
            ],
            [
             0.5555555555555556,
             "#d8576b"
            ],
            [
             0.6666666666666666,
             "#ed7953"
            ],
            [
             0.7777777777777778,
             "#fb9f3a"
            ],
            [
             0.8888888888888888,
             "#fdca26"
            ],
            [
             1,
             "#f0f921"
            ]
           ],
           "sequentialminus": [
            [
             0,
             "#0d0887"
            ],
            [
             0.1111111111111111,
             "#46039f"
            ],
            [
             0.2222222222222222,
             "#7201a8"
            ],
            [
             0.3333333333333333,
             "#9c179e"
            ],
            [
             0.4444444444444444,
             "#bd3786"
            ],
            [
             0.5555555555555556,
             "#d8576b"
            ],
            [
             0.6666666666666666,
             "#ed7953"
            ],
            [
             0.7777777777777778,
             "#fb9f3a"
            ],
            [
             0.8888888888888888,
             "#fdca26"
            ],
            [
             1,
             "#f0f921"
            ]
           ]
          },
          "colorway": [
           "#636efa",
           "#EF553B",
           "#00cc96",
           "#ab63fa",
           "#FFA15A",
           "#19d3f3",
           "#FF6692",
           "#B6E880",
           "#FF97FF",
           "#FECB52"
          ],
          "font": {
           "color": "#2a3f5f"
          },
          "geo": {
           "bgcolor": "white",
           "lakecolor": "white",
           "landcolor": "#E5ECF6",
           "showlakes": true,
           "showland": true,
           "subunitcolor": "white"
          },
          "hoverlabel": {
           "align": "left"
          },
          "hovermode": "closest",
          "mapbox": {
           "style": "light"
          },
          "paper_bgcolor": "white",
          "plot_bgcolor": "#E5ECF6",
          "polar": {
           "angularaxis": {
            "gridcolor": "white",
            "linecolor": "white",
            "ticks": ""
           },
           "bgcolor": "#E5ECF6",
           "radialaxis": {
            "gridcolor": "white",
            "linecolor": "white",
            "ticks": ""
           }
          },
          "scene": {
           "xaxis": {
            "backgroundcolor": "#E5ECF6",
            "gridcolor": "white",
            "gridwidth": 2,
            "linecolor": "white",
            "showbackground": true,
            "ticks": "",
            "zerolinecolor": "white"
           },
           "yaxis": {
            "backgroundcolor": "#E5ECF6",
            "gridcolor": "white",
            "gridwidth": 2,
            "linecolor": "white",
            "showbackground": true,
            "ticks": "",
            "zerolinecolor": "white"
           },
           "zaxis": {
            "backgroundcolor": "#E5ECF6",
            "gridcolor": "white",
            "gridwidth": 2,
            "linecolor": "white",
            "showbackground": true,
            "ticks": "",
            "zerolinecolor": "white"
           }
          },
          "shapedefaults": {
           "line": {
            "color": "#2a3f5f"
           }
          },
          "ternary": {
           "aaxis": {
            "gridcolor": "white",
            "linecolor": "white",
            "ticks": ""
           },
           "baxis": {
            "gridcolor": "white",
            "linecolor": "white",
            "ticks": ""
           },
           "bgcolor": "#E5ECF6",
           "caxis": {
            "gridcolor": "white",
            "linecolor": "white",
            "ticks": ""
           }
          },
          "title": {
           "x": 0.05
          },
          "xaxis": {
           "automargin": true,
           "gridcolor": "white",
           "linecolor": "white",
           "ticks": "",
           "title": {
            "standoff": 15
           },
           "zerolinecolor": "white",
           "zerolinewidth": 2
          },
          "yaxis": {
           "automargin": true,
           "gridcolor": "white",
           "linecolor": "white",
           "ticks": "",
           "title": {
            "standoff": 15
           },
           "zerolinecolor": "white",
           "zerolinewidth": 2
          }
         }
        },
        "title": {
         "font": {
          "size": 28
         },
         "text": "<b>#7 I-V</b> 009-1_05-04-45-44G, R_fit=1596.1814 Ω"
        },
        "width": 1080,
        "xaxis": {
         "tickfont": {
          "size": 16
         },
         "title": {
          "font": {
           "size": 20
          },
          "text": "appl_current"
         }
        },
        "yaxis": {
         "tickfont": {
          "size": 16
         },
         "title": {
          "font": {
           "size": 20
          },
          "text": "meas_voltage_K1 mV"
         }
        }
       }
      }
     },
     "metadata": {},
     "output_type": "display_data"
    },
    {
     "data": {
      "application/vnd.plotly.v1+json": {
       "config": {
        "plotlyServerURL": "https://plot.ly"
       },
       "data": [
        {
         "mode": "lines",
         "name": "d(Voltage)/d(Current)",
         "type": "scatter",
         "x": [
          -1000,
          -996.0000000000001,
          -992,
          -987.9999999999999,
          -984,
          -979.9999999999999,
          -976.0000000000001,
          -972,
          -968.0000000000001,
          -964,
          -959.9999999999999,
          -956,
          -952,
          -948,
          -944,
          -940,
          -936,
          -932,
          -928,
          -924,
          -920,
          -916,
          -912,
          -908,
          -904,
          -900,
          -896,
          -892,
          -888,
          -884,
          -880,
          -876,
          -872,
          -868,
          -864,
          -860,
          -856,
          -852,
          -848,
          -844,
          -840,
          -836,
          -832,
          -828,
          -824,
          -820,
          -816,
          -812,
          -808,
          -804,
          -800,
          -796,
          -792,
          -788,
          -784,
          -780,
          -776,
          -772,
          -768,
          -764,
          -760,
          -756,
          -752,
          -748,
          -744,
          -740,
          -736,
          -732,
          -728,
          -724,
          -720,
          -716,
          -712,
          -708,
          -704,
          -700,
          -696,
          -692,
          -688,
          -684,
          -680,
          -676,
          -672,
          -668,
          -664,
          -660,
          -656,
          -652,
          -648,
          -644,
          -640,
          -636,
          -632,
          -628,
          -624,
          -620,
          -616,
          -612,
          -608,
          -604,
          -600,
          -596,
          -592,
          -588,
          -584,
          -580,
          -576,
          -572,
          -568,
          -564,
          -560,
          -556,
          -552,
          -548,
          -544,
          -540,
          -536,
          -532,
          -528,
          -524,
          -520,
          -516,
          -512,
          -508.00000000000006,
          -503.99999999999994,
          -500,
          -496,
          -492,
          -488.00000000000006,
          -484.00000000000006,
          -479.99999999999994,
          -476,
          -472,
          -468,
          -464,
          -460,
          -456,
          -452,
          -448,
          -444,
          -440,
          -436,
          -432,
          -428,
          -424,
          -420,
          -416,
          -412,
          -408,
          -404,
          -400,
          -396,
          -392,
          -388,
          -384,
          -380,
          -376,
          -372,
          -368,
          -364,
          -360,
          -356,
          -352,
          -348,
          -344,
          -340,
          -336,
          -332,
          -328,
          -324,
          -320,
          -316,
          -312,
          -308,
          -304,
          -300,
          -296,
          -292,
          -288,
          -284,
          -280,
          -276,
          -272,
          -268,
          -264,
          -260,
          -256,
          -251.99999999999997,
          -248,
          -244.00000000000003,
          -239.99999999999997,
          -236,
          -232,
          -228,
          -224,
          -220,
          -216,
          -212,
          -208,
          -204,
          -200,
          -196,
          -192,
          -188,
          -184,
          -180,
          -176,
          -172,
          -168,
          -164,
          -160,
          -156,
          -152,
          -148,
          -144,
          -140,
          -136,
          -132,
          -128,
          -124,
          -119.99999999999999,
          -116,
          -112,
          -108,
          -104,
          -100,
          -96.0000000000001,
          -92.0000000000001,
          -88,
          -84.0000000000001,
          -80.0000000000001,
          -76.0000000000001,
          -72.0000000000001,
          -68.0000000000001,
          -64.0000000000001,
          -60.0000000000001,
          -56.0000000000001,
          -52.0000000000001,
          -48.0000000000001,
          -44.0000000000001,
          -40,
          -36.000000000000206,
          -32.0000000000001,
          -28.000000000000203,
          -24.0000000000001,
          -20,
          -16.0000000000001,
          -12.0000000000001,
          -8.000000000000181,
          -4.000000000000091,
          0,
          3.99999999999988,
          7.999999999999971,
          11.9999999999998,
          15.999999999999899,
          19.999999999999797,
          23.9999999999999,
          28,
          31.999999999999904,
          36,
          39.9999999999998,
          43.9999999999999,
          47.9999999999998,
          51.9999999999999,
          56,
          59.999999999999794,
          64,
          67.9999999999998,
          71.9999999999999,
          76,
          79.9999999999999,
          84,
          87.9999999999999,
          91.9999999999999,
          95.9999999999998,
          99.9999999999999,
          104,
          108,
          112,
          116,
          119.99999999999999,
          124,
          128,
          132,
          136,
          140,
          144,
          148,
          152,
          156,
          160,
          164,
          168,
          172,
          176,
          180,
          184,
          188,
          192,
          196,
          200,
          204,
          208,
          212,
          216,
          220,
          224,
          228,
          232,
          236,
          239.99999999999997,
          244.00000000000003,
          248,
          251.99999999999997,
          256,
          260,
          264,
          268,
          272,
          276,
          280,
          284,
          288,
          292,
          296,
          300,
          304,
          308,
          312,
          316,
          320,
          324,
          328,
          332,
          336,
          340,
          344,
          348,
          352,
          356,
          360,
          364,
          368,
          372,
          376,
          380,
          384,
          388,
          392,
          396,
          400,
          404,
          408,
          412,
          416,
          420,
          424,
          428,
          432,
          436,
          440,
          444,
          448,
          452,
          456,
          460,
          464,
          468,
          472,
          476,
          479.99999999999994,
          484.00000000000006,
          488.00000000000006,
          492,
          496,
          500,
          503.99999999999994,
          508.00000000000006,
          512,
          516,
          520,
          524,
          528,
          532,
          536,
          540,
          544,
          548,
          552,
          556,
          560,
          564,
          568,
          572,
          576,
          580,
          584,
          588,
          592,
          596,
          600,
          604,
          608,
          612,
          616,
          620,
          624,
          628,
          632,
          636,
          640,
          644,
          648,
          652,
          656,
          660,
          664,
          668,
          672,
          676,
          680,
          684,
          688,
          692,
          696,
          700,
          704,
          708,
          712,
          716,
          720,
          724,
          728,
          732,
          736,
          740,
          744,
          748,
          752,
          756,
          760,
          764,
          768,
          772,
          776,
          780,
          784,
          788,
          792,
          796,
          800,
          804,
          808,
          812,
          816,
          820,
          824,
          828,
          832,
          836,
          840,
          844,
          848,
          852,
          856,
          860,
          864,
          868,
          872,
          876,
          880,
          884,
          888,
          892,
          896,
          900,
          904,
          908,
          912,
          916,
          920,
          924,
          928,
          932,
          936,
          940,
          944,
          948,
          952,
          956,
          959.9999999999999,
          964,
          968.0000000000001,
          972,
          976.0000000000001,
          979.9999999999999,
          984,
          987.9999999999999,
          992,
          996.0000000000001
         ],
         "y": [
          1584.2500000000293,
          1607.4999999999586,
          1583.500000000015,
          1599.0000000000182,
          1586.249999999977,
          1515.5000000000562,
          1613.7499999999213,
          1560.0000000000534,
          1659.2499999999864,
          1507.9999999999663,
          1630.2500000000502,
          1583.499999999961,
          1655.4999999999982,
          1535.7500000000366,
          1669.249999999971,
          1547.000000000024,
          1604.5000000000082,
          1536.5000000000214,
          1688.2499999999543,
          1509.9999999999836,
          1622.0000000000127,
          1611.50000000001,
          1620.499999999989,
          1577.7500000000477,
          1573.9999999999197,
          1634.000000000039,
          1604.2499999999773,
          1552.7500000000334,
          1601.249999999984,
          1636.7500000000011,
          1512.499999999983,
          1563.7499999999898,
          1630.0000000000302,
          1607.7500000000323,
          1553.249999999987,
          1692.000000000031,
          1613.2499999999136,
          1588.2500000000505,
          1553.249999999987,
          1630.750000000015,
          1542.2499999999764,
          1531.750000000028,
          1658.2499999999707,
          1575.7500000000161,
          1608.500000000017,
          1587.9999999999652,
          1664.5000000000316,
          1575.2500000000084,
          1510.4999999999914,
          1667.2499999999495,
          1575.5000000000393,
          1606.9999999999934,
          1576.500000000001,
          1665.4999999999932,
          1575.0000000000314,
          1476.9999999999668,
          1671.2500000000023,
          1565.9999999999982,
          1648.4999999999964,
          1588.750000000004,
          1567.5000000000218,
          1585.9999999999459,
          1586.2500000000189,
          1683.2500000000286,
          1556.2499999999802,
          1564.7500000000055,
          1524.2500000000182,
          1645.9999999999677,
          1640.0000000000252,
          1564.2499999999977,
          1623.99999999999,
          1572.499999999992,
          1560.750000000051,
          1644.7499999999209,
          1616.5000000000346,
          1556.0000000000032,
          1522.7499999999945,
          1685.2500000000061,
          1646.749999999996,
          1542.9999999999745,
          1589.250000000012,
          1586.4999999999957,
          1608.500000000017,
          1572.7500000000232,
          1630.499999999984,
          1530.2500000000043,
          1667.2500000000036,
          1601.749999999992,
          1536.0000000000136,
          1622.7499999999975,
          1572.2500000000152,
          1624.2500000000211,
          1572.4999999999504,
          1587.0000000000036,
          1687.9750000000138,
          1568.9999999999911,
          1544.5750000000103,
          1623.5750000000078,
          1598.9999999999607,
          1575.4499999999953,
          1597.8500000000172,
          1630.0000000000032,
          1534.8750000000093,
          1642.2999999999963,
          1572.4999999999775,
          1587.57500000001,
          1637.049999999995,
          1563.1500000000292,
          1623.4000000000024,
          1609.1249999999861,
          1593.8249999999848,
          1532.475000000004,
          1687.3000000000004,
          1558.825000000018,
          1488.7249999999926,
          1739.1250000000007,
          1527.7750000000276,
          1565.7749999999612,
          1605.5250000000053,
          1631.6750000000052,
          1588.6750000000056,
          1594.2749999999908,
          1623.4500000000194,
          1582.2499999999682,
          1560.050000000002,
          1589.200000000022,
          1648.0999999999956,
          1558.5000000000155,
          1579.5499999999838,
          1657.149999999975,
          1539.72500000001,
          1597.8000000000002,
          1588.9749999999995,
          1604.5250000000167,
          1634.3749999999827,
          1543.025000000024,
          1635.8000000000025,
          1600.2499999999743,
          1531.5750000000226,
          1598.9250000000045,
          1615.5499999999874,
          1595.399999999995,
          1586.1749999999934,
          1608.824999999998,
          1651.3000000000027,
          1538.2750000000033,
          1635.550000000004,
          1612.574999999997,
          1551.7000000000005,
          1597.6250000000007,
          1612.2000000000048,
          1635.2999999999945,
          1550.8499999999883,
          1601.849999999999,
          1601.750000000019,
          1578.124999999992,
          1575.2249999999997,
          1652.9750000000047,
          1587.1749999999881,
          1547.2249999999924,
          1715.1500000000108,
          1496.2749999999996,
          1607.7500000000052,
          1566.0250000000067,
          1668.5749999999896,
          1550.399999999991,
          1564.9000000000296,
          1686.2750000000033,
          1544.8499999999754,
          1591.6000000000001,
          1570.6500000000117,
          1652.524999999992,
          1571.5499999999934,
          1542.8500000000183,
          1684.199999999978,
          1520.025000000014,
          1618.8250000000007,
          1535.424999999987,
          1662.6000000000072,
          1565.6000000000108,
          1607.5749999999784,
          1583.925000000012,
          1615.750000000009,
          1593.3249999999846,
          1591.1000000000058,
          1601.950000000006,
          1619.0249999999933,
          1575.1749999999963,
          1636.1250000000048,
          1545.574999999992,
          1566.5500000000095,
          1603.399999999999,
          1613.975000000003,
          1625.6999999999898,
          1552.3500000000054,
          1682.3250000000003,
          1520.025000000004,
          1620.2499999999986,
          1507.7999999999959,
          1723.7999999999947,
          1523.0250000000071,
          1599.000000000006,
          1604.3749999999957,
          1641.800000000002,
          1534.9499999999978,
          1616.2999999999963,
          1600.8250000000019,
          1598.8750000000039,
          1568.2500000000064,
          1666.9249999999936,
          1506.974999999999,
          1627.2750000000024,
          1552.2999999999984,
          1674.3249999999964,
          1561.0250000000024,
          1544.7249999999972,
          1677.8999999999958,
          1575.1250000000064,
          1556.4000000000005,
          1658.2749999999917,
          1602.9250000000131,
          1569.2749999999933,
          1588.575,
          1606.050000000003,
          1580.2749999999971,
          1564.075000000042,
          1644.7999999999977,
          1601.7999999999545,
          1545.1750000000475,
          1602.4999999999932,
          1613.5750000000007,
          1630.1500000000049,
          1548.8750000000011,
          1626.499999999995,
          1601.9950000000003,
          1562.4800000000016,
          1612.1999999999994,
          1595.134999999999,
          1607.4400000000019,
          1573.1249999999584,
          1652.1650000000855,
          1570.09249999996,
          1560.1475000000394,
          1593.0174999999588,
          1633.289999999959,
          1547.8300000000397,
          1605.524999999999,
          1645.6525000000338,
          1585.5007499999642,
          1566.2337499999646,
          1816.1920000000543,
          1588.1734999999642,
          1617.382500000069,
          1596.4599999999602,
          1545.8075000000388,
          1587.0424999999593,
          1630.5199999999602,
          1596.472500000039,
          1582.9924999999616,
          1648.9025000000797,
          1550.2249999999656,
          1607.9650000000386,
          1558.1899999999575,
          1654.047499999962,
          1550.422500000078,
          1594.2999999999165,
          1666.175000000087,
          1571.1999999999593,
          1605.4249999999574,
          1493.8500000000402,
          1665.5999999999574,
          1606.0750000000419,
          1544.9499999999975,
          1689.050000000041,
          1559.2749999999623,
          1577.2749999999608,
          1581.0749999999973,
          1617.175000000002,
          1589.2999999999981,
          1600.1750000000106,
          1606.4249999999968,
          1624.9749999999933,
          1525.6500000000078,
          1612.6249999999968,
          1627.7999999999945,
          1613.6000000000079,
          1567.3249999999923,
          1662.0249999999965,
          1551.0500000000093,
          1587.900000000002,
          1553.0749999999848,
          1641.5500000000116,
          1574.950000000004,
          1577.399999999996,
          1630.150000000003,
          1576.574999999989,
          1569.950000000017,
          1582.3749999999882,
          1665.8000000000031,
          1540.9750000000024,
          1620.9999999999998,
          1660.5749999999966,
          1512.0249999999965,
          1598.2500000000075,
          1567.9499999999887,
          1662.8000000000075,
          1559.7250000000029,
          1570.224999999992,
          1644.2000000000073,
          1600.400000000006,
          1525.9499999999814,
          1607.5000000000148,
          1635.2250000000097,
          1592.8249999999766,
          1569.6750000000045,
          1637.375000000011,
          1580.4999999999889,
          1590.67500000001,
          1565.5750000000023,
          1638.9999999999877,
          1610.6500000000049,
          1535.1249999999998,
          1638.874999999986,
          1604.0750000000123,
          1581.4250000000134,
          1540.5999999999763,
          1647.4250000000093,
          1587.2500000000075,
          1540.6999999999966,
          1649.3749999999966,
          1594.5249999999949,
          1568.1500000000058,
          1566.75000000001,
          1688.6999999999898,
          1508.0750000000048,
          1610.6750000000054,
          1676.6500000000008,
          1558.32500000001,
          1574.874999999968,
          1593.925000000007,
          1628.9500000000246,
          1583.9499999999725,
          1567.1250000000023,
          1655.5250000000067,
          1534.4749999999883,
          1606.2500000000086,
          1580.0000000000018,
          1645.674999999987,
          1581.1000000000245,
          1532.1500000000017,
          1669.3249999999744,
          1576.8750000000202,
          1616.9249999999897,
          1511.0000000000064,
          1675.1749999999856,
          1565.0500000000266,
          1585.2999999999722,
          1650.1,
          1602.050000000013,
          1557.7499999999832,
          1581.6750000000038,
          1627.9750000000174,
          1594.6249999999807,
          1569.5750000000246,
          1617.3999999999892,
          1592.499999999988,
          1571.9000000000044,
          1585.600000000014,
          1657.6000000000097,
          1574.525000000005,
          1574.149999999971,
          1620.0750000000069,
          1612.2250000000133,
          1601.499999999988,
          1527.4500000000253,
          1638.124999999982,
          1615.3499999999792,
          1538.0249999999994,
          1621.600000000012,
          1596.3499999999938,
          1596.5000000000177,
          1578.4500000000153,
          1664.2499999999566,
          1603.2500000000157,
          1533.6249999999898,
          1658.275000000023,
          1571.3999999999965,
          1570.9000000000158,
          1571.925000000013,
          1653.0749999999407,
          1556.2750000000158,
          1589.300000000002,
          1635.5000000000086,
          1582.6250000000025,
          1576.550000000018,
          1576.5249999999676,
          1634.7250000000154,
          1585.8749999999995,
          1541.7499999999957,
          1676.7000000000178,
          1568.7500000000143,
          1580.4999999999407,
          1568.4500000000205,
          1668.7000000000273,
          1522.4500000000007,
          1604.7749999999935,
          1642.6750000000159,
          1579.7499999999288,
          1557.000000000019,
          1578.0000000000246,
          1654.7500000000136,
          1582.750000000018,
          1601.249999999984,
          1641.999999999959,
          1558.2500000000116,
          1576.250000000024,
          1572.7499999999688,
          1638.2500000000248,
          1632.5000000000155,
          1519.9999999999784,
          1600.0000000000034,
          1620.999999999997,
          1584.0000000000107,
          1566.249999999975,
          1648.7500000000275,
          1553.749999999995,
          1590.2499999999857,
          1680.5000000000125,
          1531.249999999966,
          1552.5000000000566,
          1581.2499999999943,
          1648.2500000000196,
          1614.7499999999372,
          1534.9999999999977,
          1641.2500000000177,
          1565.9999999999982,
          1608.7499999999939,
          1591.7500000000514,
          1614.4999999999602,
          1569.749999999976,
          1613.7500000000184,
          1618.0000000000039,
          1564.7500000000055,
          1571.5000000000305,
          1630.249999999964,
          1597.2499999999752,
          1578.0000000000246,
          1570.7499999999916,
          1689.2500000000148,
          1541.7500000000227,
          1588.749999999962,
          1625.2499999999827,
          1551.9999999999945,
          1608.750000000048,
          1564.7500000000055,
          1668.2500000000093,
          1546.499999999962,
          1593.2499999999786,
          1679.7500000000277,
          1538.4999999999986,
          1564.2499999999977,
          1573,
          1639.5000000000173,
          1630.7499999999718,
          1565.7500000000214,
          1616.4999999999804,
          1590.5000000000045,
          1580.5000000000098,
          1535.7500000000366,
          1668.99999999995,
          1546.0000000000084,
          1607.7499999999782,
          1651.7500000000205,
          1549.2500000000325,
          1585.7500000000111,
          1614.7499999999372,
          1633.999999999985,
          1550.0000000000173,
          1573.7500000000389,
          1646.0000000000114,
          1569.749999999976,
          1591.749999999955,
          1556.2500000000343,
          1636.49999999997,
          1595.500000000029,
          1541.250000000015,
          1645.2500000000266,
          1587.4999999999573,
          1580.9999999999757,
          1586.0000000000841,
          1651.2499999999688,
          1575.2499999999666,
          1544.2499999999945,
          1665.2499999999723,
          1555.000000000083,
          1634.4999999999495,
          1510.7500000000625,
          1673.2499999999354,
          1542.9999999999745,
          1618.7500000000316
         ]
        },
        {
         "marker": {
          "color": "red"
         },
         "mode": "markers",
         "name": "Top Two Peaks",
         "type": "scatter",
         "x": [
          0,
          -540
         ],
         "y": [
          1816.1920000000543,
          1739.1250000000007
         ]
        },
        {
         "marker": {
          "color": "blue",
          "symbol": "cross"
         },
         "mode": "markers",
         "name": "Center Points",
         "type": "scatter",
         "x": [
          -2.7e-7
         ],
         "y": [
          0
         ]
        }
       ],
       "layout": {
        "annotations": [
         {
          "arrowcolor": "black",
          "arrowhead": 2,
          "arrowsize": 1,
          "arrowwidth": 2,
          "ax": -100,
          "ay": -200,
          "showarrow": true,
          "text": "Center Point: -270.000nA <br> Peak difference: 540.000 nA",
          "x": -270,
          "y": 0
         }
        ],
        "height": 600,
        "legend": {
         "orientation": "h",
         "x": 0.5,
         "xanchor": "center",
         "y": 1.1,
         "yanchor": "top"
        },
        "template": {
         "data": {
          "bar": [
           {
            "error_x": {
             "color": "#2a3f5f"
            },
            "error_y": {
             "color": "#2a3f5f"
            },
            "marker": {
             "line": {
              "color": "#E5ECF6",
              "width": 0.5
             },
             "pattern": {
              "fillmode": "overlay",
              "size": 10,
              "solidity": 0.2
             }
            },
            "type": "bar"
           }
          ],
          "barpolar": [
           {
            "marker": {
             "line": {
              "color": "#E5ECF6",
              "width": 0.5
             },
             "pattern": {
              "fillmode": "overlay",
              "size": 10,
              "solidity": 0.2
             }
            },
            "type": "barpolar"
           }
          ],
          "carpet": [
           {
            "aaxis": {
             "endlinecolor": "#2a3f5f",
             "gridcolor": "white",
             "linecolor": "white",
             "minorgridcolor": "white",
             "startlinecolor": "#2a3f5f"
            },
            "baxis": {
             "endlinecolor": "#2a3f5f",
             "gridcolor": "white",
             "linecolor": "white",
             "minorgridcolor": "white",
             "startlinecolor": "#2a3f5f"
            },
            "type": "carpet"
           }
          ],
          "choropleth": [
           {
            "colorbar": {
             "outlinewidth": 0,
             "ticks": ""
            },
            "type": "choropleth"
           }
          ],
          "contour": [
           {
            "colorbar": {
             "outlinewidth": 0,
             "ticks": ""
            },
            "colorscale": [
             [
              0,
              "#0d0887"
             ],
             [
              0.1111111111111111,
              "#46039f"
             ],
             [
              0.2222222222222222,
              "#7201a8"
             ],
             [
              0.3333333333333333,
              "#9c179e"
             ],
             [
              0.4444444444444444,
              "#bd3786"
             ],
             [
              0.5555555555555556,
              "#d8576b"
             ],
             [
              0.6666666666666666,
              "#ed7953"
             ],
             [
              0.7777777777777778,
              "#fb9f3a"
             ],
             [
              0.8888888888888888,
              "#fdca26"
             ],
             [
              1,
              "#f0f921"
             ]
            ],
            "type": "contour"
           }
          ],
          "contourcarpet": [
           {
            "colorbar": {
             "outlinewidth": 0,
             "ticks": ""
            },
            "type": "contourcarpet"
           }
          ],
          "heatmap": [
           {
            "colorbar": {
             "outlinewidth": 0,
             "ticks": ""
            },
            "colorscale": [
             [
              0,
              "#0d0887"
             ],
             [
              0.1111111111111111,
              "#46039f"
             ],
             [
              0.2222222222222222,
              "#7201a8"
             ],
             [
              0.3333333333333333,
              "#9c179e"
             ],
             [
              0.4444444444444444,
              "#bd3786"
             ],
             [
              0.5555555555555556,
              "#d8576b"
             ],
             [
              0.6666666666666666,
              "#ed7953"
             ],
             [
              0.7777777777777778,
              "#fb9f3a"
             ],
             [
              0.8888888888888888,
              "#fdca26"
             ],
             [
              1,
              "#f0f921"
             ]
            ],
            "type": "heatmap"
           }
          ],
          "heatmapgl": [
           {
            "colorbar": {
             "outlinewidth": 0,
             "ticks": ""
            },
            "colorscale": [
             [
              0,
              "#0d0887"
             ],
             [
              0.1111111111111111,
              "#46039f"
             ],
             [
              0.2222222222222222,
              "#7201a8"
             ],
             [
              0.3333333333333333,
              "#9c179e"
             ],
             [
              0.4444444444444444,
              "#bd3786"
             ],
             [
              0.5555555555555556,
              "#d8576b"
             ],
             [
              0.6666666666666666,
              "#ed7953"
             ],
             [
              0.7777777777777778,
              "#fb9f3a"
             ],
             [
              0.8888888888888888,
              "#fdca26"
             ],
             [
              1,
              "#f0f921"
             ]
            ],
            "type": "heatmapgl"
           }
          ],
          "histogram": [
           {
            "marker": {
             "pattern": {
              "fillmode": "overlay",
              "size": 10,
              "solidity": 0.2
             }
            },
            "type": "histogram"
           }
          ],
          "histogram2d": [
           {
            "colorbar": {
             "outlinewidth": 0,
             "ticks": ""
            },
            "colorscale": [
             [
              0,
              "#0d0887"
             ],
             [
              0.1111111111111111,
              "#46039f"
             ],
             [
              0.2222222222222222,
              "#7201a8"
             ],
             [
              0.3333333333333333,
              "#9c179e"
             ],
             [
              0.4444444444444444,
              "#bd3786"
             ],
             [
              0.5555555555555556,
              "#d8576b"
             ],
             [
              0.6666666666666666,
              "#ed7953"
             ],
             [
              0.7777777777777778,
              "#fb9f3a"
             ],
             [
              0.8888888888888888,
              "#fdca26"
             ],
             [
              1,
              "#f0f921"
             ]
            ],
            "type": "histogram2d"
           }
          ],
          "histogram2dcontour": [
           {
            "colorbar": {
             "outlinewidth": 0,
             "ticks": ""
            },
            "colorscale": [
             [
              0,
              "#0d0887"
             ],
             [
              0.1111111111111111,
              "#46039f"
             ],
             [
              0.2222222222222222,
              "#7201a8"
             ],
             [
              0.3333333333333333,
              "#9c179e"
             ],
             [
              0.4444444444444444,
              "#bd3786"
             ],
             [
              0.5555555555555556,
              "#d8576b"
             ],
             [
              0.6666666666666666,
              "#ed7953"
             ],
             [
              0.7777777777777778,
              "#fb9f3a"
             ],
             [
              0.8888888888888888,
              "#fdca26"
             ],
             [
              1,
              "#f0f921"
             ]
            ],
            "type": "histogram2dcontour"
           }
          ],
          "mesh3d": [
           {
            "colorbar": {
             "outlinewidth": 0,
             "ticks": ""
            },
            "type": "mesh3d"
           }
          ],
          "parcoords": [
           {
            "line": {
             "colorbar": {
              "outlinewidth": 0,
              "ticks": ""
             }
            },
            "type": "parcoords"
           }
          ],
          "pie": [
           {
            "automargin": true,
            "type": "pie"
           }
          ],
          "scatter": [
           {
            "fillpattern": {
             "fillmode": "overlay",
             "size": 10,
             "solidity": 0.2
            },
            "type": "scatter"
           }
          ],
          "scatter3d": [
           {
            "line": {
             "colorbar": {
              "outlinewidth": 0,
              "ticks": ""
             }
            },
            "marker": {
             "colorbar": {
              "outlinewidth": 0,
              "ticks": ""
             }
            },
            "type": "scatter3d"
           }
          ],
          "scattercarpet": [
           {
            "marker": {
             "colorbar": {
              "outlinewidth": 0,
              "ticks": ""
             }
            },
            "type": "scattercarpet"
           }
          ],
          "scattergeo": [
           {
            "marker": {
             "colorbar": {
              "outlinewidth": 0,
              "ticks": ""
             }
            },
            "type": "scattergeo"
           }
          ],
          "scattergl": [
           {
            "marker": {
             "colorbar": {
              "outlinewidth": 0,
              "ticks": ""
             }
            },
            "type": "scattergl"
           }
          ],
          "scattermapbox": [
           {
            "marker": {
             "colorbar": {
              "outlinewidth": 0,
              "ticks": ""
             }
            },
            "type": "scattermapbox"
           }
          ],
          "scatterpolar": [
           {
            "marker": {
             "colorbar": {
              "outlinewidth": 0,
              "ticks": ""
             }
            },
            "type": "scatterpolar"
           }
          ],
          "scatterpolargl": [
           {
            "marker": {
             "colorbar": {
              "outlinewidth": 0,
              "ticks": ""
             }
            },
            "type": "scatterpolargl"
           }
          ],
          "scatterternary": [
           {
            "marker": {
             "colorbar": {
              "outlinewidth": 0,
              "ticks": ""
             }
            },
            "type": "scatterternary"
           }
          ],
          "surface": [
           {
            "colorbar": {
             "outlinewidth": 0,
             "ticks": ""
            },
            "colorscale": [
             [
              0,
              "#0d0887"
             ],
             [
              0.1111111111111111,
              "#46039f"
             ],
             [
              0.2222222222222222,
              "#7201a8"
             ],
             [
              0.3333333333333333,
              "#9c179e"
             ],
             [
              0.4444444444444444,
              "#bd3786"
             ],
             [
              0.5555555555555556,
              "#d8576b"
             ],
             [
              0.6666666666666666,
              "#ed7953"
             ],
             [
              0.7777777777777778,
              "#fb9f3a"
             ],
             [
              0.8888888888888888,
              "#fdca26"
             ],
             [
              1,
              "#f0f921"
             ]
            ],
            "type": "surface"
           }
          ],
          "table": [
           {
            "cells": {
             "fill": {
              "color": "#EBF0F8"
             },
             "line": {
              "color": "white"
             }
            },
            "header": {
             "fill": {
              "color": "#C8D4E3"
             },
             "line": {
              "color": "white"
             }
            },
            "type": "table"
           }
          ]
         },
         "layout": {
          "annotationdefaults": {
           "arrowcolor": "#2a3f5f",
           "arrowhead": 0,
           "arrowwidth": 1
          },
          "autotypenumbers": "strict",
          "coloraxis": {
           "colorbar": {
            "outlinewidth": 0,
            "ticks": ""
           }
          },
          "colorscale": {
           "diverging": [
            [
             0,
             "#8e0152"
            ],
            [
             0.1,
             "#c51b7d"
            ],
            [
             0.2,
             "#de77ae"
            ],
            [
             0.3,
             "#f1b6da"
            ],
            [
             0.4,
             "#fde0ef"
            ],
            [
             0.5,
             "#f7f7f7"
            ],
            [
             0.6,
             "#e6f5d0"
            ],
            [
             0.7,
             "#b8e186"
            ],
            [
             0.8,
             "#7fbc41"
            ],
            [
             0.9,
             "#4d9221"
            ],
            [
             1,
             "#276419"
            ]
           ],
           "sequential": [
            [
             0,
             "#0d0887"
            ],
            [
             0.1111111111111111,
             "#46039f"
            ],
            [
             0.2222222222222222,
             "#7201a8"
            ],
            [
             0.3333333333333333,
             "#9c179e"
            ],
            [
             0.4444444444444444,
             "#bd3786"
            ],
            [
             0.5555555555555556,
             "#d8576b"
            ],
            [
             0.6666666666666666,
             "#ed7953"
            ],
            [
             0.7777777777777778,
             "#fb9f3a"
            ],
            [
             0.8888888888888888,
             "#fdca26"
            ],
            [
             1,
             "#f0f921"
            ]
           ],
           "sequentialminus": [
            [
             0,
             "#0d0887"
            ],
            [
             0.1111111111111111,
             "#46039f"
            ],
            [
             0.2222222222222222,
             "#7201a8"
            ],
            [
             0.3333333333333333,
             "#9c179e"
            ],
            [
             0.4444444444444444,
             "#bd3786"
            ],
            [
             0.5555555555555556,
             "#d8576b"
            ],
            [
             0.6666666666666666,
             "#ed7953"
            ],
            [
             0.7777777777777778,
             "#fb9f3a"
            ],
            [
             0.8888888888888888,
             "#fdca26"
            ],
            [
             1,
             "#f0f921"
            ]
           ]
          },
          "colorway": [
           "#636efa",
           "#EF553B",
           "#00cc96",
           "#ab63fa",
           "#FFA15A",
           "#19d3f3",
           "#FF6692",
           "#B6E880",
           "#FF97FF",
           "#FECB52"
          ],
          "font": {
           "color": "#2a3f5f"
          },
          "geo": {
           "bgcolor": "white",
           "lakecolor": "white",
           "landcolor": "#E5ECF6",
           "showlakes": true,
           "showland": true,
           "subunitcolor": "white"
          },
          "hoverlabel": {
           "align": "left"
          },
          "hovermode": "closest",
          "mapbox": {
           "style": "light"
          },
          "paper_bgcolor": "white",
          "plot_bgcolor": "#E5ECF6",
          "polar": {
           "angularaxis": {
            "gridcolor": "white",
            "linecolor": "white",
            "ticks": ""
           },
           "bgcolor": "#E5ECF6",
           "radialaxis": {
            "gridcolor": "white",
            "linecolor": "white",
            "ticks": ""
           }
          },
          "scene": {
           "xaxis": {
            "backgroundcolor": "#E5ECF6",
            "gridcolor": "white",
            "gridwidth": 2,
            "linecolor": "white",
            "showbackground": true,
            "ticks": "",
            "zerolinecolor": "white"
           },
           "yaxis": {
            "backgroundcolor": "#E5ECF6",
            "gridcolor": "white",
            "gridwidth": 2,
            "linecolor": "white",
            "showbackground": true,
            "ticks": "",
            "zerolinecolor": "white"
           },
           "zaxis": {
            "backgroundcolor": "#E5ECF6",
            "gridcolor": "white",
            "gridwidth": 2,
            "linecolor": "white",
            "showbackground": true,
            "ticks": "",
            "zerolinecolor": "white"
           }
          },
          "shapedefaults": {
           "line": {
            "color": "#2a3f5f"
           }
          },
          "ternary": {
           "aaxis": {
            "gridcolor": "white",
            "linecolor": "white",
            "ticks": ""
           },
           "baxis": {
            "gridcolor": "white",
            "linecolor": "white",
            "ticks": ""
           },
           "bgcolor": "#E5ECF6",
           "caxis": {
            "gridcolor": "white",
            "linecolor": "white",
            "ticks": ""
           }
          },
          "title": {
           "x": 0.05
          },
          "xaxis": {
           "automargin": true,
           "gridcolor": "white",
           "linecolor": "white",
           "ticks": "",
           "title": {
            "standoff": 15
           },
           "zerolinecolor": "white",
           "zerolinewidth": 2
          },
          "yaxis": {
           "automargin": true,
           "gridcolor": "white",
           "linecolor": "white",
           "ticks": "",
           "title": {
            "standoff": 15
           },
           "zerolinecolor": "white",
           "zerolinewidth": 2
          }
         }
        },
        "title": {
         "text": "Run #<built-in function id> I vs. dV/dI"
        },
        "width": 600,
        "xaxis": {
         "title": {
          "text": "Current (nA)"
         }
        },
        "yaxis": {
         "title": {
          "text": "d(Voltage)/d(Current)"
         }
        }
       }
      }
     },
     "metadata": {},
     "output_type": "display_data"
    },
    {
     "data": {
      "application/vnd.jupyter.widget-view+json": {
       "model_id": "04ede87b1b9841fba86768f0c1ab0718",
       "version_major": 2,
       "version_minor": 0
      },
      "image/png": "[encoded data removed]",
      "text/html": [
       "\n",
       "            <div style=\"display: inline-block;\">\n",
       "                <div class=\"jupyter-widgets widget-label\" style=\"text-align: center;\">\n",
       "                    Figure\n",
       "                </div>\n",
       "                <img src='data:image/png;base64,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' width=640.0/>\n",
       "            </div>\n",
       "        "
      ],
      "text/plain": [
       "Canvas(toolbar=Toolbar(toolitems=[('Home', 'Reset original view', 'home', 'home'), ('Back', 'Back to previous …"
      ]
     },
     "metadata": {},
     "output_type": "display_data"
    }
   ],
   "source": [
    "I_range=1e-6\n",
    "K2440.output(1)\n",
    "appl_current(-I_range) #Limit:1e-5 Amp(1MOhms risistor),1e-6 Amp(10MOhms risistor)\n",
    "sleep(2)\n",
    "# station.snapshot(update=True);\n",
    "exp = qc.new_experiment('I-V', sample_name='009-1_05-04-45-44G')\n",
    "dataid = do1d(appl_current, -I_range ,I_range, 501, 0.03, meas_voltage_K1)\n",
    "appl_current(0)\n",
    "K2440.output(0)\n",
    "\n",
    "plot_by_id(dataid)\n",
    "#save_path = r\"C:\\qcodes\\personal_scripts\\Albert\\104\\Plot\\104_{}.png\".format(dataid)  # Path to save the plot image\n",
    "#autosave_plot_by_id(dataid, save_path)\n",
    "print(f\"R = {get_R_from_IV(dataid)}\")\n",
    "# dataset = qc.load_by_id(dataid)\n",
    "IV(dataid)\n",
    "IV_diff(dataid)"
   ]
  },
  {
   "cell_type": "code",
   "execution_count": 29,
   "id": "2b1fcecf",
   "metadata": {},
   "outputs": [
    {
     "data": {
      "application/vnd.plotly.v1+json": {
       "config": {
        "plotlyServerURL": "https://plot.ly"
       },
       "data": [
        {
         "mode": "lines",
         "name": "Voltage vs. Current",
         "type": "scatter",
         "x": [
          -0.000001,
          -9.8e-7,
          -9.6e-7,
          -9.4e-7,
          -9.2e-7,
          -9e-7,
          -8.8e-7,
          -8.6e-7,
          -8.4e-7,
          -8.2e-7,
          -8e-7,
          -7.8e-7,
          -7.6e-7,
          -7.4e-7,
          -7.2e-7,
          -7e-7,
          -6.8e-7,
          -6.6e-7,
          -6.4e-7,
          -6.2e-7,
          -6e-7,
          -5.8e-7,
          -5.6e-7,
          -5.4e-7,
          -5.2e-7,
          -5e-7,
          -4.8e-7,
          -4.6e-7,
          -4.4e-7,
          -4.2e-7,
          -4e-7,
          -3.8e-7,
          -3.6e-7,
          -3.4e-7,
          -3.2e-7,
          -3e-7,
          -2.8e-7,
          -2.6e-7,
          -2.4e-7,
          -2.2e-7,
          -2e-7,
          -1.8e-7,
          -1.6e-7,
          -1.4e-7,
          -1.2e-7,
          -9.99999999999999e-8,
          -8e-8,
          -6e-8,
          -3.99999999999998e-8,
          -2e-8,
          0,
          2e-8,
          4e-8,
          6.00000000000001e-8,
          8.00000000000001e-8,
          1e-7,
          1.2e-7,
          1.4e-7,
          1.6e-7,
          1.8e-7,
          2e-7,
          2.2e-7,
          2.4e-7,
          2.6e-7,
          2.8e-7,
          3e-7,
          3.2e-7,
          3.4e-7,
          3.6e-7,
          3.8e-7,
          4e-7,
          4.2e-7,
          4.4e-7,
          4.6e-7,
          4.8e-7,
          5e-7,
          5.2e-7,
          5.4e-7,
          5.6e-7,
          5.8e-7,
          6e-7,
          6.2e-7,
          6.4e-7,
          6.6e-7,
          6.8e-7,
          7e-7,
          7.2e-7,
          7.4e-7,
          7.6e-7,
          7.8e-7,
          8e-7,
          8.2e-7,
          8.4e-7,
          8.6e-7,
          8.8e-7,
          9e-7,
          9.20000000000001e-7,
          9.4e-7,
          9.6e-7,
          9.8e-7,
          0.000001
         ],
         "y": [
          -1.057316,
          -1.0371270000000001,
          -1.016908,
          -0.9968422,
          -0.9765807999999999,
          -0.9566297,
          -0.9362456,
          -0.9162823999999999,
          -0.8959251,
          -0.8759192,
          -0.8555839000000001,
          -0.8354946,
          -0.8153088,
          -0.7952083000000001,
          -0.7750648,
          -0.7547791,
          -0.7347486,
          -0.7145009,
          -0.6944313,
          -0.6741276,
          -0.6540798,
          -0.6338895999999999,
          -0.6136877000000001,
          -0.5934978,
          -0.5733414,
          -0.5531355,
          -0.5328756,
          -0.5126676,
          -0.4926838,
          -0.4724438,
          -0.4523633,
          -0.4320399,
          -0.41185309999999997,
          -0.3916502,
          -0.37150570000000005,
          -0.3513147,
          -0.3312247,
          -0.3111986,
          -0.2909027,
          -0.2707222,
          -0.2504867,
          -0.2303025,
          -0.2100983,
          -0.1899584,
          -0.16975590000000002,
          -0.1496653,
          -0.129505,
          -0.10926540000000001,
          -0.08906265,
          -0.0688401,
          -0.048780960000000005,
          -0.02824094,
          -0.007931353,
          0.01228872,
          0.032343840000000006,
          0.05253193,
          0.07261971,
          0.09291242,
          0.11309720000000001,
          0.1333593,
          0.1533897,
          0.1735889,
          0.1938325,
          0.2139248,
          0.2341566,
          0.2542718,
          0.2745649,
          0.294617,
          0.3147532,
          0.335016,
          0.3550897,
          0.3754185,
          0.395471,
          0.41572929999999997,
          0.4358616,
          0.456013,
          0.47625500000000004,
          0.49635369999999995,
          0.5166409000000001,
          0.5367727000000001,
          0.5569559000000001,
          0.5770701,
          0.597238,
          0.617472,
          0.6375202,
          0.6578550000000001,
          0.6779857,
          0.6982705,
          0.7183495,
          0.7386174999999999,
          0.7587809,
          0.7787951999999999,
          0.7990803,
          0.819186,
          0.8395313,
          0.8596284,
          0.87979,
          0.8998453999999999,
          0.9200883,
          0.9401811,
          0.9603144
         ]
        }
       ],
       "layout": {
        "height": 960,
        "margin": {
         "b": 10,
         "l": 10,
         "r": 10,
         "t": 50
        },
        "template": {
         "data": {
          "bar": [
           {
            "error_x": {
             "color": "#2a3f5f"
            },
            "error_y": {
             "color": "#2a3f5f"
            },
            "marker": {
             "line": {
              "color": "#E5ECF6",
              "width": 0.5
             },
             "pattern": {
              "fillmode": "overlay",
              "size": 10,
              "solidity": 0.2
             }
            },
            "type": "bar"
           }
          ],
          "barpolar": [
           {
            "marker": {
             "line": {
              "color": "#E5ECF6",
              "width": 0.5
             },
             "pattern": {
              "fillmode": "overlay",
              "size": 10,
              "solidity": 0.2
             }
            },
            "type": "barpolar"
           }
          ],
          "carpet": [
           {
            "aaxis": {
             "endlinecolor": "#2a3f5f",
             "gridcolor": "white",
             "linecolor": "white",
             "minorgridcolor": "white",
             "startlinecolor": "#2a3f5f"
            },
            "baxis": {
             "endlinecolor": "#2a3f5f",
             "gridcolor": "white",
             "linecolor": "white",
             "minorgridcolor": "white",
             "startlinecolor": "#2a3f5f"
            },
            "type": "carpet"
           }
          ],
          "choropleth": [
           {
            "colorbar": {
             "outlinewidth": 0,
             "ticks": ""
            },
            "type": "choropleth"
           }
          ],
          "contour": [
           {
            "colorbar": {
             "outlinewidth": 0,
             "ticks": ""
            },
            "colorscale": [
             [
              0,
              "#0d0887"
             ],
             [
              0.1111111111111111,
              "#46039f"
             ],
             [
              0.2222222222222222,
              "#7201a8"
             ],
             [
              0.3333333333333333,
              "#9c179e"
             ],
             [
              0.4444444444444444,
              "#bd3786"
             ],
             [
              0.5555555555555556,
              "#d8576b"
             ],
             [
              0.6666666666666666,
              "#ed7953"
             ],
             [
              0.7777777777777778,
              "#fb9f3a"
             ],
             [
              0.8888888888888888,
              "#fdca26"
             ],
             [
              1,
              "#f0f921"
             ]
            ],
            "type": "contour"
           }
          ],
          "contourcarpet": [
           {
            "colorbar": {
             "outlinewidth": 0,
             "ticks": ""
            },
            "type": "contourcarpet"
           }
          ],
          "heatmap": [
           {
            "colorbar": {
             "outlinewidth": 0,
             "ticks": ""
            },
            "colorscale": [
             [
              0,
              "#0d0887"
             ],
             [
              0.1111111111111111,
              "#46039f"
             ],
             [
              0.2222222222222222,
              "#7201a8"
             ],
             [
              0.3333333333333333,
              "#9c179e"
             ],
             [
              0.4444444444444444,
              "#bd3786"
             ],
             [
              0.5555555555555556,
              "#d8576b"
             ],
             [
              0.6666666666666666,
              "#ed7953"
             ],
             [
              0.7777777777777778,
              "#fb9f3a"
             ],
             [
              0.8888888888888888,
              "#fdca26"
             ],
             [
              1,
              "#f0f921"
             ]
            ],
            "type": "heatmap"
           }
          ],
          "heatmapgl": [
           {
            "colorbar": {
             "outlinewidth": 0,
             "ticks": ""
            },
            "colorscale": [
             [
              0,
              "#0d0887"
             ],
             [
              0.1111111111111111,
              "#46039f"
             ],
             [
              0.2222222222222222,
              "#7201a8"
             ],
             [
              0.3333333333333333,
              "#9c179e"
             ],
             [
              0.4444444444444444,
              "#bd3786"
             ],
             [
              0.5555555555555556,
              "#d8576b"
             ],
             [
              0.6666666666666666,
              "#ed7953"
             ],
             [
              0.7777777777777778,
              "#fb9f3a"
             ],
             [
              0.8888888888888888,
              "#fdca26"
             ],
             [
              1,
              "#f0f921"
             ]
            ],
            "type": "heatmapgl"
           }
          ],
          "histogram": [
           {
            "marker": {
             "pattern": {
              "fillmode": "overlay",
              "size": 10,
              "solidity": 0.2
             }
            },
            "type": "histogram"
           }
          ],
          "histogram2d": [
           {
            "colorbar": {
             "outlinewidth": 0,
             "ticks": ""
            },
            "colorscale": [
             [
              0,
              "#0d0887"
             ],
             [
              0.1111111111111111,
              "#46039f"
             ],
             [
              0.2222222222222222,
              "#7201a8"
             ],
             [
              0.3333333333333333,
              "#9c179e"
             ],
             [
              0.4444444444444444,
              "#bd3786"
             ],
             [
              0.5555555555555556,
              "#d8576b"
             ],
             [
              0.6666666666666666,
              "#ed7953"
             ],
             [
              0.7777777777777778,
              "#fb9f3a"
             ],
             [
              0.8888888888888888,
              "#fdca26"
             ],
             [
              1,
              "#f0f921"
             ]
            ],
            "type": "histogram2d"
           }
          ],
          "histogram2dcontour": [
           {
            "colorbar": {
             "outlinewidth": 0,
             "ticks": ""
            },
            "colorscale": [
             [
              0,
              "#0d0887"
             ],
             [
              0.1111111111111111,
              "#46039f"
             ],
             [
              0.2222222222222222,
              "#7201a8"
             ],
             [
              0.3333333333333333,
              "#9c179e"
             ],
             [
              0.4444444444444444,
              "#bd3786"
             ],
             [
              0.5555555555555556,
              "#d8576b"
             ],
             [
              0.6666666666666666,
              "#ed7953"
             ],
             [
              0.7777777777777778,
              "#fb9f3a"
             ],
             [
              0.8888888888888888,
              "#fdca26"
             ],
             [
              1,
              "#f0f921"
             ]
            ],
            "type": "histogram2dcontour"
           }
          ],
          "mesh3d": [
           {
            "colorbar": {
             "outlinewidth": 0,
             "ticks": ""
            },
            "type": "mesh3d"
           }
          ],
          "parcoords": [
           {
            "line": {
             "colorbar": {
              "outlinewidth": 0,
              "ticks": ""
             }
            },
            "type": "parcoords"
           }
          ],
          "pie": [
           {
            "automargin": true,
            "type": "pie"
           }
          ],
          "scatter": [
           {
            "fillpattern": {
             "fillmode": "overlay",
             "size": 10,
             "solidity": 0.2
            },
            "type": "scatter"
           }
          ],
          "scatter3d": [
           {
            "line": {
             "colorbar": {
              "outlinewidth": 0,
              "ticks": ""
             }
            },
            "marker": {
             "colorbar": {
              "outlinewidth": 0,
              "ticks": ""
             }
            },
            "type": "scatter3d"
           }
          ],
          "scattercarpet": [
           {
            "marker": {
             "colorbar": {
              "outlinewidth": 0,
              "ticks": ""
             }
            },
            "type": "scattercarpet"
           }
          ],
          "scattergeo": [
           {
            "marker": {
             "colorbar": {
              "outlinewidth": 0,
              "ticks": ""
             }
            },
            "type": "scattergeo"
           }
          ],
          "scattergl": [
           {
            "marker": {
             "colorbar": {
              "outlinewidth": 0,
              "ticks": ""
             }
            },
            "type": "scattergl"
           }
          ],
          "scattermapbox": [
           {
            "marker": {
             "colorbar": {
              "outlinewidth": 0,
              "ticks": ""
             }
            },
            "type": "scattermapbox"
           }
          ],
          "scatterpolar": [
           {
            "marker": {
             "colorbar": {
              "outlinewidth": 0,
              "ticks": ""
             }
            },
            "type": "scatterpolar"
           }
          ],
          "scatterpolargl": [
           {
            "marker": {
             "colorbar": {
              "outlinewidth": 0,
              "ticks": ""
             }
            },
            "type": "scatterpolargl"
           }
          ],
          "scatterternary": [
           {
            "marker": {
             "colorbar": {
              "outlinewidth": 0,
              "ticks": ""
             }
            },
            "type": "scatterternary"
           }
          ],
          "surface": [
           {
            "colorbar": {
             "outlinewidth": 0,
             "ticks": ""
            },
            "colorscale": [
             [
              0,
              "#0d0887"
             ],
             [
              0.1111111111111111,
              "#46039f"
             ],
             [
              0.2222222222222222,
              "#7201a8"
             ],
             [
              0.3333333333333333,
              "#9c179e"
             ],
             [
              0.4444444444444444,
              "#bd3786"
             ],
             [
              0.5555555555555556,
              "#d8576b"
             ],
             [
              0.6666666666666666,
              "#ed7953"
             ],
             [
              0.7777777777777778,
              "#fb9f3a"
             ],
             [
              0.8888888888888888,
              "#fdca26"
             ],
             [
              1,
              "#f0f921"
             ]
            ],
            "type": "surface"
           }
          ],
          "table": [
           {
            "cells": {
             "fill": {
              "color": "#EBF0F8"
             },
             "line": {
              "color": "white"
             }
            },
            "header": {
             "fill": {
              "color": "#C8D4E3"
             },
             "line": {
              "color": "white"
             }
            },
            "type": "table"
           }
          ]
         },
         "layout": {
          "annotationdefaults": {
           "arrowcolor": "#2a3f5f",
           "arrowhead": 0,
           "arrowwidth": 1
          },
          "autotypenumbers": "strict",
          "coloraxis": {
           "colorbar": {
            "outlinewidth": 0,
            "ticks": ""
           }
          },
          "colorscale": {
           "diverging": [
            [
             0,
             "#8e0152"
            ],
            [
             0.1,
             "#c51b7d"
            ],
            [
             0.2,
             "#de77ae"
            ],
            [
             0.3,
             "#f1b6da"
            ],
            [
             0.4,
             "#fde0ef"
            ],
            [
             0.5,
             "#f7f7f7"
            ],
            [
             0.6,
             "#e6f5d0"
            ],
            [
             0.7,
             "#b8e186"
            ],
            [
             0.8,
             "#7fbc41"
            ],
            [
             0.9,
             "#4d9221"
            ],
            [
             1,
             "#276419"
            ]
           ],
           "sequential": [
            [
             0,
             "#0d0887"
            ],
            [
             0.1111111111111111,
             "#46039f"
            ],
            [
             0.2222222222222222,
             "#7201a8"
            ],
            [
             0.3333333333333333,
             "#9c179e"
            ],
            [
             0.4444444444444444,
             "#bd3786"
            ],
            [
             0.5555555555555556,
             "#d8576b"
            ],
            [
             0.6666666666666666,
             "#ed7953"
            ],
            [
             0.7777777777777778,
             "#fb9f3a"
            ],
            [
             0.8888888888888888,
             "#fdca26"
            ],
            [
             1,
             "#f0f921"
            ]
           ],
           "sequentialminus": [
            [
             0,
             "#0d0887"
            ],
            [
             0.1111111111111111,
             "#46039f"
            ],
            [
             0.2222222222222222,
             "#7201a8"
            ],
            [
             0.3333333333333333,
             "#9c179e"
            ],
            [
             0.4444444444444444,
             "#bd3786"
            ],
            [
             0.5555555555555556,
             "#d8576b"
            ],
            [
             0.6666666666666666,
             "#ed7953"
            ],
            [
             0.7777777777777778,
             "#fb9f3a"
            ],
            [
             0.8888888888888888,
             "#fdca26"
            ],
            [
             1,
             "#f0f921"
            ]
           ]
          },
          "colorway": [
           "#636efa",
           "#EF553B",
           "#00cc96",
           "#ab63fa",
           "#FFA15A",
           "#19d3f3",
           "#FF6692",
           "#B6E880",
           "#FF97FF",
           "#FECB52"
          ],
          "font": {
           "color": "#2a3f5f"
          },
          "geo": {
           "bgcolor": "white",
           "lakecolor": "white",
           "landcolor": "#E5ECF6",
           "showlakes": true,
           "showland": true,
           "subunitcolor": "white"
          },
          "hoverlabel": {
           "align": "left"
          },
          "hovermode": "closest",
          "mapbox": {
           "style": "light"
          },
          "paper_bgcolor": "white",
          "plot_bgcolor": "#E5ECF6",
          "polar": {
           "angularaxis": {
            "gridcolor": "white",
            "linecolor": "white",
            "ticks": ""
           },
           "bgcolor": "#E5ECF6",
           "radialaxis": {
            "gridcolor": "white",
            "linecolor": "white",
            "ticks": ""
           }
          },
          "scene": {
           "xaxis": {
            "backgroundcolor": "#E5ECF6",
            "gridcolor": "white",
            "gridwidth": 2,
            "linecolor": "white",
            "showbackground": true,
            "ticks": "",
            "zerolinecolor": "white"
           },
           "yaxis": {
            "backgroundcolor": "#E5ECF6",
            "gridcolor": "white",
            "gridwidth": 2,
            "linecolor": "white",
            "showbackground": true,
            "ticks": "",
            "zerolinecolor": "white"
           },
           "zaxis": {
            "backgroundcolor": "#E5ECF6",
            "gridcolor": "white",
            "gridwidth": 2,
            "linecolor": "white",
            "showbackground": true,
            "ticks": "",
            "zerolinecolor": "white"
           }
          },
          "shapedefaults": {
           "line": {
            "color": "#2a3f5f"
           }
          },
          "ternary": {
           "aaxis": {
            "gridcolor": "white",
            "linecolor": "white",
            "ticks": ""
           },
           "baxis": {
            "gridcolor": "white",
            "linecolor": "white",
            "ticks": ""
           },
           "bgcolor": "#E5ECF6",
           "caxis": {
            "gridcolor": "white",
            "linecolor": "white",
            "ticks": ""
           }
          },
          "title": {
           "x": 0.05
          },
          "xaxis": {
           "automargin": true,
           "gridcolor": "white",
           "linecolor": "white",
           "ticks": "",
           "title": {
            "standoff": 15
           },
           "zerolinecolor": "white",
           "zerolinewidth": 2
          },
          "yaxis": {
           "automargin": true,
           "gridcolor": "white",
           "linecolor": "white",
           "ticks": "",
           "title": {
            "standoff": 15
           },
           "zerolinecolor": "white",
           "zerolinewidth": 2
          }
         }
        },
        "title": {
         "font": {
          "size": 28
         },
         "text": "<b>#4 I-V</b> 009-1_1kOhms, R_fit=1009.0326 Ω"
        },
        "width": 1080,
        "xaxis": {
         "tickfont": {
          "size": 16
         },
         "title": {
          "font": {
           "size": 20
          },
          "text": "appl_current"
         }
        },
        "yaxis": {
         "tickfont": {
          "size": 16
         },
         "title": {
          "font": {
           "size": 20
          },
          "text": "meas_voltage_K1 mV"
         }
        }
       }
      }
     },
     "metadata": {},
     "output_type": "display_data"
    }
   ],
   "source": [
    "IV(4)"
   ]
  },
  {
   "cell_type": "code",
   "execution_count": null,
   "id": "ee32ef77",
   "metadata": {},
   "outputs": [],
   "source": [
    "get_R_from_IV(dataid)"
   ]
  },
  {
   "cell_type": "code",
   "execution_count": null,
   "id": "ae71124e",
   "metadata": {},
   "outputs": [],
   "source": [
    "dataset = qc.load_by_id(dataid)\n",
    "get_R_from_IV(dataid)\n",
    "IV(dataid)\n",
    "IV_diff(dataid)"
   ]
  },
  {
   "cell_type": "code",
   "execution_count": 32,
   "id": "795c08e0",
   "metadata": {},
   "outputs": [],
   "source": [
    "import plotly.graph_objs as go"
   ]
  },
  {
   "cell_type": "code",
   "execution_count": null,
   "id": "ea6a7850",
   "metadata": {},
   "outputs": [],
   "source": []
  },
  {
   "cell_type": "code",
   "execution_count": null,
   "id": "9ca53ea4",
   "metadata": {},
   "outputs": [],
   "source": [
    "for i in tqdm(range(1000)):\n",
    "    K2440.output(1)\n",
    "    I_range=1e-6\n",
    "    appl_current(-I_range) #Limit:1e-5 Amp(1MOhms risistor),1e-6 Amp(10MOhms risistor)\n",
    "    sleep(0.001)\n",
    "    # station.snapshot(update=True);\n",
    "    exp = qc.new_experiment('I-V', sample_name=f'103-03_J1_33-32-30-31_1M_F{i+1}')\n",
    "    dataid = do1d(appl_current, -I_range ,I_range, 101, 0.0001, meas_voltage_K2, meas_voltage_AC_L1,meas_voltage_AC_L1_P)\n",
    "    exp = qc.new_experiment('I-V', sample_name=f'103-03_J1_33-32-30-31_1M_B{i+1}')\n",
    "    dataid = do1d(appl_current, I_range ,-I_range, 101, 0.0001, meas_voltage_K2)\n",
    "    K2440.output(0)\n",
    "    clear_output(True)"
   ]
  },
  {
   "cell_type": "code",
   "execution_count": null,
   "id": "ffc1e4dd",
   "metadata": {},
   "outputs": [],
   "source": [
    "get_Mag()"
   ]
  },
  {
   "cell_type": "code",
   "execution_count": null,
   "id": "2908c940",
   "metadata": {},
   "outputs": [],
   "source": [
    "SGS.off()"
   ]
  },
  {
   "cell_type": "code",
   "execution_count": null,
   "id": "d82eb13a",
   "metadata": {},
   "outputs": [],
   "source": [
    "SGS.power(0)"
   ]
  },
  {
   "cell_type": "code",
   "execution_count": null,
   "id": "242d95fc",
   "metadata": {},
   "outputs": [],
   "source": [
    "DMM6500.averaging_count(5)\n",
    "DMM6500.averaging_enabled(True)"
   ]
  },
  {
   "cell_type": "code",
   "execution_count": null,
   "id": "e0c518ad",
   "metadata": {},
   "outputs": [],
   "source": [
    "for i in tqdm(range(21)):\n",
    "    I_range = round(round(0.55 + 5*i * 1e-4, 6)* 1e-6, 10)  # Round to 3 decimal places\n",
    "    print(I_range)\n"
   ]
  },
  {
   "cell_type": "code",
   "execution_count": null,
   "id": "78e3e90f",
   "metadata": {},
   "outputs": [],
   "source": []
  },
  {
   "cell_type": "code",
   "execution_count": null,
   "id": "0999a81b",
   "metadata": {},
   "outputs": [],
   "source": [
    "for i in tqdm(range(21)):\n",
    "    K2440.output(1)\n",
    "    I_range = round(round(0.55 + 5*i * 1e-4, 6)* 1e-6, 10) \n",
    "    appl_current(-I_range) #Limit:1e-5 Amp(1MOhms risistor),1e-6 Amp(10MOhms risistor)\n",
    "    sleep(2)\n",
    "    # station.snapshot(update=True);\n",
    "    exp = qc.new_experiment('I-V', sample_name=f'103-04_J1_24-25-05-04(06-07G)_1M_By@0mT_{-I_range}_201')\n",
    "    dataid = do1d(appl_current, -I_range ,I_range, 201, 0.00001, meas_voltage_K2)\n",
    "\n",
    "    appl_current(0)\n",
    "    K2440.output(0)\n",
    "\n",
    "\n",
    "    plot_by_id(dataid)\n",
    "    save_path = r\"D:\\data\\Albert\\103\\Plot\\104_{}.png\".format(dataid)  # Path to save the plot image\n",
    "    autosave_plot_by_id(dataid, save_path)\n",
    "    print(f\"ID:{dataid}\")\n",
    "    print(f\"R = {get_R_from_IV_2(dataid)}\")\n",
    "    dataset = qc.load_by_id(dataid)\n",
    "    IV(id=dataid)\n",
    "    IV_diff(id=dataid)"
   ]
  },
  {
   "cell_type": "code",
   "execution_count": null,
   "id": "e9ac98ca",
   "metadata": {},
   "outputs": [],
   "source": [
    "DMM6500.averaging_count(5)\n",
    "DMM6500.averaging_enabled(True)"
   ]
  },
  {
   "cell_type": "code",
   "execution_count": null,
   "id": "ad55deb3",
   "metadata": {},
   "outputs": [],
   "source": [
    "K2440.output(1)\n",
    "I_range = -6e-6\n",
    "appl_current(-I_range) #Limit:1e-5 Amp(1MOhms risistor),1e-6 Amp(10MOhms risistor)\n",
    "sleep(2)\n",
    "# station.snapshot(update=True);\n",
    "exp = qc.new_experiment('I-V', sample_name=f'103-03_J2_27-26-30-31M(32G-33G-28G-29G)_1M_By@0.1mT{-I_range}')\n",
    "dataid = do1d(appl_current, -I_range  ,I_range , 2601, 0.00001, meas_voltage_K2)\n",
    "appl_current(0)\n",
    "K2440.output(0)\n",
    "plot_by_id(dataid)\n",
    "save_path = r\"D:\\data\\Albert\\103\\Plot\\104_{}.png\".format(dataid)  # Path to save the plot image\n",
    "autosave_plot_by_id(dataid, save_path)\n",
    "print(f\"R = {get_R_from_IV_2(dataid)}\")\n",
    "dataset = qc.load_by_id(dataid)"
   ]
  },
  {
   "cell_type": "code",
   "execution_count": null,
   "id": "2b0e1832",
   "metadata": {},
   "outputs": [],
   "source": [
    "K2440.output(1)\n",
    "I_range = 6e-6\n",
    "appl_current(-I_range) #Limit:1e-5 Amp(1MOhms risistor),1e-6 Amp(10MOhms risistor)\n",
    "sleep(2)\n",
    "# station.snapshot(update=True);\n",
    "exp = qc.new_experiment('I-V', sample_name=f'103-03_J2_27-26-30-31M(32G-33G-28G-29G)_1M_By@0.1mT{-I_range}')\n",
    "dataid = do1d(appl_current, -I_range  ,I_range , 2601, 0.00001, meas_voltage_K2)\n",
    "appl_current(0)\n",
    "K2440.output(0)\n",
    "plot_by_id(dataid)\n",
    "save_path = r\"D:\\data\\Albert\\103\\Plot\\104_{}.png\".format(dataid)  # Path to save the plot image\n",
    "autosave_plot_by_id(dataid, save_path)\n",
    "print(f\"ID:{dataid}\")\n",
    "print(f\"R = {get_R_from_IV_2(dataid)}\")\n",
    "dataset = qc.load_by_id(dataid)\n",
    "# IV(id=dataid)\n",
    "# IV_diff(id=dataid)"
   ]
  },
  {
   "cell_type": "code",
   "execution_count": null,
   "id": "e90dc212",
   "metadata": {},
   "outputs": [],
   "source": [
    "25-05-06-07(04-24G)\n"
   ]
  },
  {
   "cell_type": "code",
   "execution_count": null,
   "id": "5c79e45a",
   "metadata": {},
   "outputs": [],
   "source": [
    "K2440.output(1)\n",
    "I_range=-7e-6\n",
    "appl_current(-I_range) #Limit:1e-5 Amp(1MOhms risistor),1e-6 Amp(10MOhms risistor)\n",
    "sleep(2)\n",
    "# station.snapshot(update=True);\n",
    "exp = qc.new_experiment('I-V', sample_name='103-03_J2_32-30-26-27_1M_By@0mT')\n",
    "dataid = do1d(appl_current, -I_range ,I_range, 1401, 0.0001, meas_voltage_K2)\n",
    "\n",
    "appl_current(0)\n",
    "K2440.output(0)\n",
    "\n",
    "\n",
    "plot_by_id(dataid)\n",
    "save_path = r\"D:\\data\\Albert\\103\\Plot\\104_{}.png\".format(dataid)  # Path to save the plot image\n",
    "autosave_plot_by_id(dataid, save_path)\n",
    "print(f\"ID:{dataid}\")\n",
    "print(f\"R = {get_R_from_IV_2(dataid)}\")\n",
    "dataset = qc.load_by_id(dataid)\n",
    "IV(id=dataid)\n",
    "IV_diff(id=dataid)"
   ]
  },
  {
   "cell_type": "code",
   "execution_count": null,
   "id": "8666f593",
   "metadata": {},
   "outputs": [],
   "source": [
    "K2440.output(1)\n",
    "I_range=7e-6\n",
    "appl_current(-I_range) #Limit:1e-5 Amp(1MOhms risistor),1e-6 Amp(10MOhms risistor)\n",
    "sleep(2)\n",
    "# station.snapshot(update=True);\n",
    "exp = qc.new_experiment('I-V', sample_name='103-03_J2_32-30-26-27_1M_By@0mT')\n",
    "dataid = do1d(appl_current, -I_range ,I_range, 1401, 0.0001, meas_voltage_K2)\n",
    "\n",
    "appl_current(0)\n",
    "K2440.output(0)\n",
    "\n",
    "\n",
    "plot_by_id(dataid)\n",
    "save_path = r\"D:\\data\\Albert\\103\\Plot\\104_{}.png\".format(dataid)  # Path to save the plot image\n",
    "autosave_plot_by_id(dataid, save_path)\n",
    "print(f\"ID:{dataid}\")\n",
    "print(f\"R = {get_R_from_IV_2(dataid)}\")\n",
    "dataset = qc.load_by_id(dataid)\n",
    "IV(id=dataid)\n",
    "IV_diff(id=dataid)"
   ]
  },
  {
   "cell_type": "code",
   "execution_count": null,
   "id": "4ce7045d",
   "metadata": {},
   "outputs": [],
   "source": [
    "# Set current to 0\n",
    "K2440.output(0)\n",
    "appl_current(0e-6)"
   ]
  },
  {
   "cell_type": "code",
   "execution_count": null,
   "id": "749b64e4",
   "metadata": {},
   "outputs": [],
   "source": [
    "K2440.output(1)\n",
    "appl_current(0.1e-7)"
   ]
  },
  {
   "cell_type": "code",
   "execution_count": null,
   "id": "9f4da299",
   "metadata": {
    "scrolled": true
   },
   "outputs": [],
   "source": [
    "runid=6\n",
    "print(get_R_from_IV_2(runid))"
   ]
  },
  {
   "cell_type": "markdown",
   "id": "3196b90e",
   "metadata": {},
   "source": [
    "## 加TG (1D)"
   ]
  },
  {
   "cell_type": "code",
   "execution_count": null,
   "id": "08a5e298",
   "metadata": {},
   "outputs": [],
   "source": [
    "K2440.output(1)\n",
    "appl_TG(0)"
   ]
  },
  {
   "cell_type": "code",
   "execution_count": null,
   "id": "a6f95af5",
   "metadata": {},
   "outputs": [],
   "source": [
    "K2440.output(1)\n",
    "K2440.output(1)\n",
    "appl_TG(-50)\n",
    "sleep(3)\n",
    "appl_current(-1.5e-8)\n",
    "sleep(1)\n",
    "\n",
    "# station.snapshot(update=True);\n",
    "exp = qc.new_experiment('IV', sample_name='TG21')\n",
    "\n",
    "#do1d(param_set, start, stop, num_points, delay, *param_meas)\n",
    "dataid = do1d(appl_current, -1.5e-8 ,1.5e-8, 101, 0.05, meas_voltage_K2)\n",
    "# dataid = do1d(appl_current, 6e-6 , -6e-6, 251, 0.01, meas_voltage_K1)\n",
    "# ivvi.set_dacs_zero()\n",
    "\n",
    "K2440.output(0)\n",
    "K2440.output(0)\n",
    "appl_current(0)\n",
    "plot_by_id(dataid)\n",
    "#print(get_R_from_IV(dataid))\n",
    "# print(get_R_from_IV_2(dataid))\n"
   ]
  },
  {
   "cell_type": "markdown",
   "id": "05b0d19b",
   "metadata": {},
   "source": [
    "## 歸零\n"
   ]
  },
  {
   "cell_type": "code",
   "execution_count": null,
   "id": "d8154670",
   "metadata": {},
   "outputs": [],
   "source": [
    "#K2440.output(1)\n",
    "K2440.output(1)\n",
    "\n",
    "appl_current(0)\n",
    "sleep(1)\n",
    "#appl_TG(0)\n",
    "sleep(5)\n",
    "\n",
    "#K2440.output(0)\n",
    "K2440.output(0)"
   ]
  },
  {
   "cell_type": "markdown",
   "id": "91795bf5",
   "metadata": {},
   "source": [
    "# Magnetic field"
   ]
  },
  {
   "cell_type": "markdown",
   "id": "c1b88abd",
   "metadata": {},
   "source": [
    "## IV vs Bx"
   ]
  },
  {
   "cell_type": "code",
   "execution_count": null,
   "id": "77c31bf1",
   "metadata": {},
   "outputs": [],
   "source": [
    "K2440.rangev()"
   ]
  },
  {
   "cell_type": "code",
   "execution_count": null,
   "id": "ea5d8a7d",
   "metadata": {},
   "outputs": [],
   "source": [
    "K2440.volt(0)\n",
    "K2440.output(1) #output off\n",
    "sleep(1)\n",
    "appl_current(1.5e-7)\n",
    "sleep(2)\n",
    "meas_voltage_K2()"
   ]
  },
  {
   "cell_type": "code",
   "execution_count": null,
   "id": "e083479a",
   "metadata": {},
   "outputs": [],
   "source": [
    "sleep(120)"
   ]
  },
  {
   "cell_type": "code",
   "execution_count": null,
   "id": "6c69dc40",
   "metadata": {},
   "outputs": [],
   "source": [
    "def get_Mag(show=True):\n",
    "    Mag_x = magnet_x.field()\n",
    "    Mag_y = magnet_y.field()\n",
    "    Mag_z = magnet_z.field()\n",
    "    if show:\n",
    "        print(f\"Mag_x: {Mag_x*1e3:.6f} mT\")\n",
    "        print(f\"Mag_y: {Mag_y*1e3:.6f} mT\")\n",
    "        print(f\"Mag_z: {Mag_z*1e3:.6f} mT\")\n",
    "    else: \n",
    "        return Mag_x, Mag_y, Mag_z\n",
    "get_Mag()"
   ]
  },
  {
   "cell_type": "code",
   "execution_count": null,
   "id": "582ee743",
   "metadata": {},
   "outputs": [],
   "source": [
    "get_Mag()"
   ]
  },
  {
   "cell_type": "code",
   "execution_count": null,
   "id": "9634bb97",
   "metadata": {},
   "outputs": [],
   "source": [
    "magnet_y.field()"
   ]
  },
  {
   "cell_type": "code",
   "execution_count": null,
   "id": "add54ae7",
   "metadata": {},
   "outputs": [],
   "source": [
    "for i in tqdm(range(23), desc=\"First loop\"):\n",
    "    value = (25 - i) * 1e-3 \n",
    "    value = float(f\"{value:.10f}\")\n",
    "    print(value)"
   ]
  },
  {
   "cell_type": "code",
   "execution_count": null,
   "id": "04c8a1e5",
   "metadata": {},
   "outputs": [],
   "source": [
    "from tqdm import tqdm\n",
    "import time\n",
    "\n",
    "from IPython.display import clear_output\n",
    "# First loop\n",
    "for i in tqdm(range(6), desc=\"First loop\"):\n",
    "    Mag_x = magnet_x.field()\n",
    "    value = (15 + i) * 1e-3\n",
    "    value = float(f\"{value:.10f}\")\n",
    "    magnet_x.field(value)\n",
    "    print(f\"magnet_x is {Mag_x:.8f} T\")\n",
    "    time.sleep(15)\n",
    "    clear_output(True)\n",
    "\n",
    "# Pause for 30 seconds\n",
    "time.sleep(60)\n",
    "\n",
    "# Second loop\n",
    "for i in tqdm(range(23), desc=\"First loop\"):\n",
    "    Mag_x = magnet_x.field()\n",
    "    value = (25 - i) * 1e-3 \n",
    "    value = float(f\"{value:.10f}\")\n",
    "    magnet_x.field(value)\n",
    "    print(f\"magnet_x is {Mag_x:.8f} T\")\n",
    "    time.sleep(15)\n",
    "    clear_output(True)\n",
    "\n",
    "# Pause for 180 seconds\n",
    "time.sleep(300)"
   ]
  },
  {
   "cell_type": "code",
   "execution_count": null,
   "id": "fc3e418b",
   "metadata": {},
   "outputs": [],
   "source": [
    "magnet_x.field(-20)"
   ]
  },
  {
   "cell_type": "code",
   "execution_count": null,
   "id": "07666294",
   "metadata": {},
   "outputs": [],
   "source": [
    "Mag = -20e-3\n",
    "I_range=2.5e-6\n",
    "K2440.output(1)\n",
    "sleep(2)\n",
    "magnet_x.field(Mag)\n",
    "sleep(10)\n",
    "appl_current(-I_range)\n",
    "sleep(3)\n",
    "direction = 'backward' if Mag > 0 else 'forward'\n",
    "\n",
    "\n",
    "# station.snapshot(update=True);\n",
    "exp = qc.new_experiment('IV vs Bx', sample_name=f'103-06_J2_12-13-18-19_1M_Bx_{direction}_By@0mT')\n",
    "\n",
    "dataid = do2d(magnet_x.field, Mag, -Mag, 76 , 0.7, appl_current, -I_range ,I_range, 101, 0.01, meas_voltage_K2)\n",
    "\n",
    "appl_current(0)\n",
    "K2440.output(0)\n",
    "# magnet_y.field(0)\n",
    "\n",
    "plot_by_id(dataid)\n",
    "autosave_plot_by_id(dataid, save_path)"
   ]
  },
  {
   "cell_type": "code",
   "execution_count": null,
   "id": "5f475874",
   "metadata": {},
   "outputs": [],
   "source": [
    "K2440.output(1)\n",
    "sleep(2)\n",
    "Mag = 10e-3\n",
    "I_range=2.5e-5\n",
    "\n",
    "magnet_x.field(Mag)\n",
    "sleep(30)\n",
    "appl_current(-I_range)\n",
    "sleep(3)\n",
    "direction = 'backward' if Mag > 0 else 'forward'\n",
    "\n",
    "\n",
    "# station.snapshot(update=True);\n",
    "\n",
    "exp = qc.new_experiment('IV vs Bx', sample_name=f'094-20IV_Bx_16-17-19-18_10M_{direction}')\n",
    "\n",
    "dataid = do2d(magnet_x.field, Mag, -Mag, 101 , 1.5, appl_current, -I_range ,I_range, 101, 0.05, meas_voltage_K2)#M:I Delay time 10:1\n",
    "\n",
    "\n",
    "appl_current(0)\n",
    "K2440.output(0)\n",
    "# magnet_x.field(0)\n",
    "\n",
    "plot_by_id(dataid)\n",
    "autosave_plot_by_id(dataid, save_path)"
   ]
  },
  {
   "cell_type": "code",
   "execution_count": null,
   "id": "bfdd8a07",
   "metadata": {},
   "outputs": [],
   "source": [
    "set_magnetic_field_stepwise(magnet=magnet_x, current_field=-40e-3, target_field=-18e-3, step_size=1e-3, delay=2.5)"
   ]
  },
  {
   "cell_type": "code",
   "execution_count": null,
   "id": "5eef089c",
   "metadata": {},
   "outputs": [],
   "source": [
    "def set_magnetic_field_stepwise(magnet=magnet_x, current_field=0, target_field=-10e-3, step_size=1e-3, delay=2.5):\n",
    "    \n",
    "    \"\"\"Set the magnetic field with anti-hysteresis mechanism witch will go to target magnetic field +/- 5mT, \n",
    "    if the target magnetic field is greater/less than the current magnetic field, \n",
    "    then slowly ramp back the magnetic field to the target magnetic field\n",
    "\n",
    "    Args:\n",
    "        magnet (_type_, optional): magnet_x,magnet_y,magnet_z. Defaults to magnet_x.\n",
    "        current_field (int, optional): _description_. Defaults to 0 T.\n",
    "        target_field (_type_, optional): _description_. Defaults to -10e-3 T.\n",
    "        step_size (_type_, optional): _description_. Defaults to 1e-3 T.\n",
    "        delay (float, optional): _description_. Defaults to 2 sec.\n",
    "    \n",
    "    \"\"\"\n",
    "    \n",
    "    from tqdm.notebook import tqdm\n",
    "    import math\n",
    "    # Calculate total steps for tqdm progress bar\n",
    "    total_steps = math.ceil(abs((target_field - current_field) / step_size)) * 2\n",
    "    progress_bar = tqdm(total=total_steps)\n",
    "\n",
    "    # Determine the intermediate target field\n",
    "    intermediate_target_field = target_field + 5e-3 if target_field > current_field else target_field - 5e-3\n",
    "    # Slowly ramp the magnetic field to the intermediate target field\n",
    "    while abs(intermediate_target_field - current_field) > step_size:\n",
    "        if intermediate_target_field > current_field:\n",
    "            current_field += step_size\n",
    "            magnet.field(current_field)\n",
    "        else:\n",
    "            current_field -= step_size\n",
    "            magnet.field(current_field)\n",
    "        time.sleep(delay)\n",
    "        progress_bar.update(1)  # Update progress bar\n",
    "    # Slowly ramp back the magnetic field to the target_field\n",
    "    while abs(target_field - current_field) > step_size:\n",
    "        if target_field > current_field:\n",
    "            current_field += step_size\n",
    "            magnet.field(current_field)\n",
    "        else:\n",
    "            current_field -= step_size\n",
    "            magnet.field(current_field)\n",
    "        time.sleep(delay)\n",
    "        progress_bar.update(1)  # Update progress bar\n",
    "    magnet.field(target_field)\n",
    "    progress_bar.n = total_steps  # Set progress bar to 100%\n",
    "    progress_bar.refresh()  # Refresh the progress bar to show the update\n",
    "    progress_bar.close()  # Close progress bar when done"
   ]
  },
  {
   "cell_type": "code",
   "execution_count": null,
   "id": "6d385381",
   "metadata": {},
   "outputs": [],
   "source": [
    "for i in range(6):\n",
    "    magnet_x.field((-10-i)*1e-3)\n",
    "    sleep(4)\n",
    "sleep(10)\n",
    "\n",
    "for i in range(16):\n",
    "    magnet_x.field((15+i)*1e-3)\n",
    "    sleep(4)\n",
    "sleep(10)"
   ]
  },
  {
   "cell_type": "code",
   "execution_count": null,
   "id": "83205742",
   "metadata": {},
   "outputs": [],
   "source": [
    "for i in range(25):\n",
    "    print(-24+i)"
   ]
  },
  {
   "cell_type": "code",
   "execution_count": null,
   "id": "fef193a7",
   "metadata": {},
   "outputs": [],
   "source": [
    "magnet_x.field(-19e-3)\n",
    "sleep(10)\n",
    "#magnet_x.field(e-3)\n",
    "#sleep(10)\n",
    "#magnet_x.field(12.8e-3)\n",
    "#sleep(10)"
   ]
  },
  {
   "cell_type": "markdown",
   "id": "6a6f3c0d",
   "metadata": {},
   "source": [
    "## IV vs By"
   ]
  },
  {
   "cell_type": "code",
   "execution_count": null,
   "id": "b823efb8",
   "metadata": {},
   "outputs": [],
   "source": [
    "get_Mag()"
   ]
  },
  {
   "cell_type": "code",
   "execution_count": null,
   "id": "9e236537",
   "metadata": {},
   "outputs": [],
   "source": [
    "magnet_y.field(0e-3)"
   ]
  },
  {
   "cell_type": "code",
   "execution_count": null,
   "id": "b4e8ec13",
   "metadata": {},
   "outputs": [],
   "source": [
    "for i in tqdm(range(21), desc=\"2nd loop\"):\n",
    "    \n",
    "    value = (-10 + i*0.5) * 1e-3 \n",
    "    value = float(f\"{value:.10f}\")\n",
    "    magnet_y.field(value)\n",
    "    get_Mag()\n",
    "    time.sleep(15)\n",
    "    clear_output(True)"
   ]
  },
  {
   "cell_type": "code",
   "execution_count": null,
   "id": "5dce7f89",
   "metadata": {},
   "outputs": [],
   "source": [
    "\n",
    "# First loop\n",
    "for i in tqdm(range(11), desc=\"First loop\"):\n",
    "    \n",
    "    value = (5 +i) * 1e-3\n",
    "    value = float(f\"{value:.10f}\")\n",
    "    magnet_y.field(value)\n",
    "    get_Mag()\n",
    "    time.sleep(15)\n",
    "    clear_output(True)\n",
    "\n",
    "# Pause for 30 seconds\n",
    "time.sleep(60)\n",
    "\n",
    "# Second loop\n",
    "for i in tqdm(range(11), desc=\"2nd loop\"):\n",
    "    \n",
    "    value = (-10 + i) * 1e-3 \n",
    "    value = float(f\"{value:.10f}\")\n",
    "    magnet_y.field(value)\n",
    "    get_Mag()\n",
    "    time.sleep(15)\n",
    "    clear_output(True)\n",
    "# Pause for 180 seconds\n",
    "time.sleep(300)"
   ]
  },
  {
   "cell_type": "code",
   "execution_count": null,
   "id": "46dc421a",
   "metadata": {},
   "outputs": [],
   "source": [
    "magnet_y.field()"
   ]
  },
  {
   "cell_type": "code",
   "execution_count": null,
   "id": "3a7fb763",
   "metadata": {},
   "outputs": [],
   "source": [
    "Mag =5e-3\n",
    "I_range=0.6e-6\n",
    "K2440.output(1)\n",
    "sleep(2)\n",
    "magnet_y.field(Mag)\n",
    "sleep(10)\n",
    "appl_current(-I_range)\n",
    "sleep(3)\n",
    "direction = 'backward' if Mag > 0 else 'forward'\n",
    "\n",
    "\n",
    "# station.snapshot(update=True);\n",
    "exp = qc.new_experiment('IV vs By', sample_name=f'103-03_J2_27-26-30-31M(32G-33G-28G-29G)_1M_By_{direction}_{-I_range}')\n",
    "\n",
    "dataid = do2d(magnet_y.field, Mag, -Mag, 201 , 0.5, appl_current, -I_range ,I_range,  201, 0.0001, meas_voltage_K2)\n",
    "\n",
    "appl_current(0)\n",
    "K2440.output(0)\n",
    "# magnet_y.field(0)\n",
    "\n",
    "plot_by_id(dataid)\n",
    "autosave_plot_by_id(dataid, save_path)"
   ]
  },
  {
   "cell_type": "code",
   "execution_count": null,
   "id": "a9c30858",
   "metadata": {},
   "outputs": [],
   "source": [
    "Mag =-5e-3\n",
    "I_range=5e-6\n",
    "K2440.output(1)\n",
    "sleep(2)\n",
    "magnet_y.field(Mag)\n",
    "sleep(10)\n",
    "appl_current(-I_range)\n",
    "sleep(3)\n",
    "direction = 'backward' if Mag > 0 else 'forward'\n",
    "\n",
    "\n",
    "# station.snapshot(update=True);\n",
    "exp = qc.new_experiment('IV vs By', sample_name=f'103-03_J2_27-26-30-31M(32G-33G-28G-29G)_1M_By_{direction}_{-I_range}')\n",
    "\n",
    "dataid = do2d(magnet_y.field, Mag, -Mag, 201 , 0.5, appl_current, -I_range ,I_range,  201, 0.0001, meas_voltage_K2)\n",
    "\n",
    "appl_current(0)\n",
    "K2440.output(0)\n",
    "# magnet_y.field(0)\n",
    "\n",
    "plot_by_id(dataid)\n",
    "autosave_plot_by_id(dataid, save_path)"
   ]
  },
  {
   "cell_type": "code",
   "execution_count": null,
   "id": "8ba8b69c",
   "metadata": {},
   "outputs": [],
   "source": [
    "32-"
   ]
  },
  {
   "cell_type": "code",
   "execution_count": null,
   "id": "7c2e8f1b",
   "metadata": {},
   "outputs": [],
   "source": [
    "\n",
    "# First loop\n",
    "for i in tqdm(range(6), desc=\"First loop\"):\n",
    "    Mag_x = magnet_y.field()\n",
    "    value = (1.5 +i) * 1e-3\n",
    "    value = float(f\"{value:.10f}\")\n",
    "    magnet_y.field(value)\n",
    "    print(f\"magnet_y is {Mag_x:.8f} T\")\n",
    "    time.sleep(15)\n",
    "    clear_output(True)\n",
    "\n",
    "# Pause for 30 seconds\n",
    "time.sleep(60)\n",
    "\n",
    "# Second loop\n",
    "for i in tqdm(range(6), desc=\"2nd loop\"):\n",
    "    Mag_x = magnet_y.field()\n",
    "    value = (6.5 - i) * 1e-3 \n",
    "    value = float(f\"{value:.10f}\")\n",
    "    magnet_y.field(value)\n",
    "    print(f\"magnet_y is {Mag_x:.8f} T\")\n",
    "    time.sleep(15)\n",
    "    clear_output(True)\n",
    "\n",
    "# Pause for 180 seconds\n",
    "time.sleep(300)"
   ]
  },
  {
   "cell_type": "code",
   "execution_count": null,
   "id": "8d736f1b",
   "metadata": {},
   "outputs": [],
   "source": [
    "Mag = 1.5e-3\n",
    "I_range=2.5e-6\n",
    "K2440.output(1)\n",
    "sleep(2)\n",
    "magnet_y.field(Mag)\n",
    "sleep(10)\n",
    "appl_current(-I_range)\n",
    "sleep(3)\n",
    "direction = 'backward' if Mag > 0 else 'forward'\n",
    "\n",
    "\n",
    "# station.snapshot(update=True);\n",
    "exp = qc.new_experiment('IV vs By', sample_name=f'103-06_J2_12-13-18-19_1M_By_{direction}_Bx@3mT')\n",
    "\n",
    "dataid = do2d(magnet_y.field, Mag, -Mag, 1001 , 0.4, appl_current, -I_range ,I_range, 151, 0.01, meas_voltage_K2)\n",
    "\n",
    "appl_current(0)\n",
    "K2440.output(0)\n",
    "# magnet_y.field(0)\n",
    "\n",
    "plot_by_id(dataid)\n",
    "autosave_plot_by_id(dataid, save_path)"
   ]
  },
  {
   "cell_type": "code",
   "execution_count": null,
   "id": "43eb5eb6",
   "metadata": {},
   "outputs": [],
   "source": [
    "Mag()"
   ]
  },
  {
   "cell_type": "code",
   "execution_count": null,
   "id": "721c43a1",
   "metadata": {},
   "outputs": [],
   "source": [
    "Mag = 1.5e-3\n",
    "I_range=1e-6\n",
    "K2440.output(1)\n",
    "sleep(2)\n",
    "magnet_y.field(Mag)\n",
    "sleep(10)\n",
    "appl_current(-I_range)\n",
    "sleep(3)\n",
    "direction = 'backward' if Mag > 0 else 'forward'\n",
    "\n",
    "\n",
    "# station.snapshot(update=True);\n",
    "exp = qc.new_experiment('IV vs By', sample_name=f'103-01_J1_21-20-23-22_1M_By_{direction}_Bx@0mT')\n",
    "\n",
    "dataid = do2d(magnet_y.field, Mag, -Mag, 151 , 0.9, appl_current, -I_range ,I_range, 201, 0.01, meas_voltage_K2)\n",
    "\n",
    "appl_current(0)\n",
    "K2440.output(0)\n",
    "# magnet_y.field(0)\n",
    "\n",
    "plot_by_id(dataid)\n",
    "autosave_plot_by_id(dataid, save_path)"
   ]
  },
  {
   "cell_type": "code",
   "execution_count": null,
   "id": "dadb617e",
   "metadata": {},
   "outputs": [],
   "source": [
    "from tqdm import tqdm\n",
    "import time\n",
    "\n",
    "# First loop\n",
    "for i in tqdm(range(6), desc=\"First loop\"):\n",
    "    value = (1.5 + i) * 1e-3 \n",
    "    magnet_y.field(value)\n",
    "    print(f\"magnet_y is {value:.8f} T\")\n",
    "    time.sleep(10)\n",
    "\n",
    "# Pause for 30 seconds\n",
    "time.sleep(30)\n",
    "\n",
    "# Second loop\n",
    "for i in tqdm(range(8), desc=\"First loop\"):\n",
    "    value = (7 - i) * 1e-3 \n",
    "    magnet_y.field(value)\n",
    "    print(f\"magnet_y is {value:.8f} T\")\n",
    "    time.sleep(10)\n",
    "\n",
    "# Pause for 180 seconds\n",
    "time.sleep(300)\n"
   ]
  },
  {
   "cell_type": "code",
   "execution_count": null,
   "id": "cceb780f",
   "metadata": {},
   "outputs": [],
   "source": [
    "def combined_loop(start=0, end=5 ):\n",
    "  for i in tqdm(range((end-start)+6), desc=\"First loop\"):\n",
    "    value = start + i\n",
    "    print(f\"{value* 1e-3:.5f}\")\n",
    "\n",
    "  for i in tqdm(range(6), desc=\"Second loop\"):\n",
    "    value = end+5 - i\n",
    "    print(f\"{value* 1e-3:.5f}\")\n",
    "\n",
    "combined_loop()\n"
   ]
  },
  {
   "cell_type": "code",
   "execution_count": null,
   "id": "7963ad50",
   "metadata": {},
   "outputs": [],
   "source": [
    "Mag = 3e-3\n",
    "I_range=1e-6\n",
    "K2440.output(1)\n",
    "sleep(2)\n",
    "magnet_y.field(Mag)\n",
    "sleep(10)\n",
    "appl_current(-I_range)\n",
    "sleep(3)\n",
    "direction = 'backward' if Mag > 0 else 'forward'\n",
    "\n",
    "\n",
    "# station.snapshot(update=True);\n",
    "exp = qc.new_experiment('IV vs By', sample_name=f'103-04_J2_04-05-06-07_1M_By_{direction}_Bx@0mT')\n",
    "\n",
    "dataid = do2d(magnet_y.field, Mag, -Mag, 101 , 1.5, appl_current, -I_range ,I_range, 101, 0.01, meas_voltage_K2)\n",
    "\n",
    "appl_current(0)\n",
    "K2440.output(0)\n",
    "# magnet_y.field(0)\n",
    "\n",
    "plot_by_id(dataid)\n",
    "autosave_plot_by_id(dataid, save_path)"
   ]
  },
  {
   "cell_type": "code",
   "execution_count": null,
   "id": "3d67f8ce",
   "metadata": {},
   "outputs": [],
   "source": [
    "from tqdm import tqdm\n",
    "import time\n",
    "\n",
    "# First loop\n",
    "for i in tqdm(range(6), desc=\"First loop\"):\n",
    "    magnet_y.field((-3 - i) * 1e-3)\n",
    "    time.sleep(15)\n",
    "\n",
    "# Pause for 30 seconds\n",
    "time.sleep(30)\n",
    "\n",
    "# Second loop\n",
    "for i in tqdm(range(7), desc=\"Second loop\"):\n",
    "    magnet_y.field((-8 + i) * 1e-3)\n",
    "    time.sleep(15)\n",
    "\n",
    "# Pause for 180 seconds\n",
    "time.sleep(300)"
   ]
  },
  {
   "cell_type": "code",
   "execution_count": null,
   "id": "af9e2a73",
   "metadata": {},
   "outputs": [],
   "source": [
    "magnet_y.field(-1.5e-3)\n",
    "print(\"By at -1.5 mT\")"
   ]
  },
  {
   "cell_type": "code",
   "execution_count": null,
   "id": "214aa45a",
   "metadata": {},
   "outputs": [],
   "source": [
    "Mag = -3e-3\n",
    "I_range=1e-6\n",
    "K2440.output(1)\n",
    "sleep(2)\n",
    "magnet_y.field(Mag)\n",
    "sleep(10)\n",
    "appl_current(-I_range)\n",
    "sleep(3)\n",
    "direction = 'backward' if Mag > 0 else 'forward'\n",
    "\n",
    "\n",
    "# station.snapshot(update=True);\n",
    "exp = qc.new_experiment('IV vs By', sample_name=f'103-04_J2_04-05-06-07_1M_By_{direction}_Bx@0mT')\n",
    "\n",
    "dataid = do2d(magnet_y.field, Mag, -Mag, 501 , 1, appl_current, -I_range ,I_range, 251, 0.01, meas_voltage_K2)\n",
    "\n",
    "appl_current(0)\n",
    "K2440.output(0)\n",
    "# magnet_y.field(0)\n",
    "\n",
    "plot_by_id(dataid)\n",
    "autosave_plot_by_id(dataid, save_path)"
   ]
  },
  {
   "cell_type": "code",
   "execution_count": null,
   "id": "da9891fc",
   "metadata": {},
   "outputs": [],
   "source": [
    "from tqdm import tqdm\n",
    "import time\n",
    "\n",
    "# First loop\n",
    "for i in tqdm(range(6), desc=\"First loop\"):\n",
    "    magnet_y.field((3 + i) * 1e-3)\n",
    "    time.sleep(10)\n",
    "\n",
    "# Pause for 30 seconds\n",
    "time.sleep(30)\n",
    "\n",
    "# Second loop\n",
    "for i in tqdm(range(6), desc=\"Second loop\"):\n",
    "    magnet_y.field((8 - i) * 1e-3)\n",
    "    time.sleep(10)\n",
    "\n",
    "# Pause for 180 seconds\n",
    "time.sleep(300)"
   ]
  },
  {
   "cell_type": "code",
   "execution_count": null,
   "id": "8c1e92c1",
   "metadata": {},
   "outputs": [],
   "source": [
    "Mag = 3e-3\n",
    "I_range=1e-6\n",
    "K2440.output(1)\n",
    "sleep(2)\n",
    "magnet_y.field(Mag)\n",
    "sleep(10)\n",
    "appl_current(-I_range)\n",
    "sleep(3)\n",
    "direction = 'backward' if Mag > 0 else 'forward'\n",
    "\n",
    "\n",
    "# station.snapshot(update=True);\n",
    "exp = qc.new_experiment('IV vs By', sample_name=f'103-04_J2_04-05-06-07_1M_By_{direction}_Bx@0mT')\n",
    "\n",
    "dataid = do2d(magnet_y.field, Mag, -Mag, 501 , 1, appl_current, -I_range ,I_range, 251, 0.01, meas_voltage_K2)\n",
    "\n",
    "appl_current(0)\n",
    "K2440.output(0)\n",
    "# magnet_y.field(0)\n",
    "\n",
    "plot_by_id(dataid)\n",
    "autosave_plot_by_id(dataid, save_path)"
   ]
  },
  {
   "cell_type": "code",
   "execution_count": null,
   "id": "5208f447",
   "metadata": {},
   "outputs": [],
   "source": [
    "magnet_y.field(5e-3)"
   ]
  },
  {
   "cell_type": "code",
   "execution_count": null,
   "id": "3e408864",
   "metadata": {},
   "outputs": [],
   "source": [
    "for i in range(9):\n",
    "    magnet_y.field((0+i)*1e-3)\n",
    "    sleep(4)\n",
    "sleep(10)\n",
    "\n",
    "for i in range(6):\n",
    "    magnet_y.field((8-i)*1e-3)\n",
    "    sleep(4)\n",
    "\n",
    "sleep(60)\n",
    "# magnet_y.field(21.5e-3)\n",
    "sleep(60)\n",
    "#magnet_y.field(0.48e-3)\n",
    "#sleep(5)"
   ]
  },
  {
   "cell_type": "code",
   "execution_count": null,
   "id": "2eb14a5d",
   "metadata": {},
   "outputs": [],
   "source": [
    "for i in range(4):\n",
    "    print(8-i)"
   ]
  },
  {
   "cell_type": "code",
   "execution_count": null,
   "id": "a1ebeefb",
   "metadata": {},
   "outputs": [],
   "source": [
    "K2440.output(1)\n",
    "sleep(2)\n",
    "Mag = -40e-3\n",
    "I_range=2e-8\n",
    "\n",
    "magnet_y.field(Mag)\n",
    "sleep(10)\n",
    "appl_current(-I_range)\n",
    "sleep(3)\n",
    "direction = 'backward' if Mag > 0 else 'forward'\n",
    "\n",
    "\n",
    "# station.snapshot(update=True);\n",
    "\n",
    "exp = qc.new_experiment('IV vs By', sample_name=f'094-20IV_By_16-17-19-18_10M_{direction}_Bx@-18.5mT')\n",
    "\n",
    "dataid = do2d(magnet_y.field, Mag, -Mag, 601 , 2, appl_current, -I_range ,I_range, 201, 0.1, meas_voltage_K2)\n",
    "\n",
    "\n",
    "appl_current(0)\n",
    "K2440.output(0)\n",
    "# magnet_y.field(0)\n",
    "\n",
    "plot_by_id(dataid)\n",
    "autosave_plot_by_id(dataid, save_path)"
   ]
  },
  {
   "cell_type": "code",
   "execution_count": null,
   "id": "effdb8bf",
   "metadata": {},
   "outputs": [],
   "source": [
    "for i in range(24):\n",
    "    print(45-i)"
   ]
  },
  {
   "cell_type": "code",
   "execution_count": null,
   "id": "4b523a44",
   "metadata": {},
   "outputs": [],
   "source": []
  },
  {
   "cell_type": "markdown",
   "id": "7dce8613",
   "metadata": {},
   "source": [
    "## IV vs Bz"
   ]
  },
  {
   "cell_type": "code",
   "execution_count": null,
   "id": "a4e6e5f7",
   "metadata": {
    "scrolled": true
   },
   "outputs": [],
   "source": [
    "K2440.output(1)\n",
    "sleep(2)\n",
    "magnet_z.field(-80e-3)\n",
    "sleep(60)\n",
    "appl_current(-2e-7)\n",
    "sleep(5)\n",
    "\n",
    "# station.snapshot(update=True);\n",
    "\n",
    "exp = qc.new_experiment('IV vs Bz', sample_name='IV_Bz_33_32_30_31_10M_forward')\n",
    "\n",
    "dataid = do2d(magnet_z.field,-80e-3,80e-3, 71 , 20, appl_current, -2e-7 ,2e-7, 101, 0.05, meas_voltage_K2)\n",
    "\n",
    "appl_current(0)\n",
    "\n",
    "K2440.output(0)\n",
    "# magnet_y.field(0)\n",
    "\n",
    "plot_by_id(dataid)"
   ]
  },
  {
   "cell_type": "code",
   "execution_count": null,
   "id": "e68136d1",
   "metadata": {},
   "outputs": [],
   "source": [
    "#magnet_z.field(20e-3)\n",
    "#sleep(5)\n",
    "magnet_z.field(-6.1e-3)\n",
    "sleep(5)"
   ]
  },
  {
   "cell_type": "code",
   "execution_count": null,
   "id": "571645ac",
   "metadata": {},
   "outputs": [],
   "source": []
  },
  {
   "cell_type": "markdown",
   "id": "02c81568",
   "metadata": {},
   "source": [
    "## IV w/ Bx"
   ]
  },
  {
   "cell_type": "code",
   "execution_count": null,
   "id": "b5229271",
   "metadata": {},
   "outputs": [],
   "source": [
    "K2440.output(1)\n",
    "sleep(2)\n",
    "magnet_x.field(0.23e-3)\n",
    "appl_current(-0.5e-6)\n",
    "sleep(10)\n",
    "\n",
    "# station.snapshot(update=True);\n",
    "exp = qc.new_experiment('I vs V', sample_name='IV_w/_Bx')\n",
    "\n",
    "#do1d(param_set, start, stop, num_points, delay, *param_meas)\n",
    "dataid = do1d(appl_current, -0.5e-6 ,0.5e-6, 101, 0.05, meas_voltage_K2)\n",
    "# dataid = do1d(appl_current, 6e-6 , -6e-6, 251, 0.01, meas_voltage_K1)\n",
    "# ivvi.set_dacs_zero()\n",
    "\n",
    "appl_current(0)\n",
    "plot_by_id(dataid)\n",
    "# print(get_R_from_IV(dataid))\n",
    "#print(get_R_from_IV_2(dataid))\n",
    "\n",
    "K2440.output(0)"
   ]
  },
  {
   "cell_type": "markdown",
   "id": "27ac85cd",
   "metadata": {},
   "source": [
    "## IV w/ By"
   ]
  },
  {
   "cell_type": "code",
   "execution_count": null,
   "id": "b7c3a84d",
   "metadata": {},
   "outputs": [],
   "source": [
    "K2440.output(1)\n",
    "DMM6500.averaging_count(30)\n",
    "#DMM6500.averaging_enabled(False)\n",
    "\n",
    "sleep(2)\n",
    "magnet_y.field(0e-3)\n",
    "appl_current(-2e-7)\n",
    "sleep(20)\n",
    "\n",
    "# station.snapshot(update=True);\n",
    "exp = qc.new_experiment('I vs V', sample_name='IV_w/_By@0mT_forward_Avg30')\n",
    "\n",
    "#do1d(param_set, start, stop, num_points, delay, *param_meas)\n",
    "dataid = do1d(appl_current, -2e-7 ,2e-7, 201, 0.05, meas_voltage_K2)\n",
    "# dataid = do1d(appl_current, 6e-6 , -6e-6, 251, 0.01, meas_voltage_K1)\n",
    "# ivvi.set_dacs_zero()\n",
    "\n",
    "appl_current(0)\n",
    "plot_by_id(dataid)\n",
    "# print(get_R_from_IV(dataid))\n",
    "#print(get_R_from_IV_2(dataid))\n",
    "\n",
    "K2440.output(0)"
   ]
  },
  {
   "cell_type": "markdown",
   "id": "1e7ed93d",
   "metadata": {},
   "source": [
    "## MR"
   ]
  },
  {
   "cell_type": "code",
   "execution_count": null,
   "id": "9db581e2",
   "metadata": {},
   "outputs": [],
   "source": [
    "K2440.output(1)\n",
    "sleep(2)\n",
    "magnet_y.field(-0.1)\n",
    "sleep(5)\n",
    "#K2440.output(1)\n",
    "appl_current(1e-7)\n",
    "sleep(5)\n",
    "\n",
    "# station.snapshot(update=True);\n",
    "\n",
    "exp = qc.new_experiment('I vs By_MR', sample_name='072_14IVf_25_24_29_29_By_+-0.1T_MR_for')\n",
    "\n",
    "dataid = do1d(magnet_y.field, -0.1, 0.1, 71 , 1, meas_voltage_K2)\n",
    "\n",
    "appl_current(0)\n",
    "K2440.output(0)\n",
    "#K2440.output(0)\n",
    "magnet_y.field(0)\n",
    "\n",
    "plot_by_id(dataid)"
   ]
  },
  {
   "cell_type": "markdown",
   "id": "55fd3a3b",
   "metadata": {},
   "source": [
    "## IV w/Bz"
   ]
  },
  {
   "cell_type": "code",
   "execution_count": null,
   "id": "e76653c7",
   "metadata": {},
   "outputs": [],
   "source": [
    "K2440.output(1)\n",
    "DMM6500.averaging_count(10)\n",
    "#DMM6500.averaging_enabled(False)\n",
    "\n",
    "sleep(2)\n",
    "magnet_z.field(0e-3)\n",
    "appl_current(-2e-7)\n",
    "sleep(30)\n",
    "\n",
    "# station.snapshot(update=True);\n",
    "exp = qc.new_experiment('I vs V', sample_name='IV_w/_f_Bz@0mT_forward_Avg10')\n",
    "\n",
    "#do1d(param_set, start, stop, num_points, delay, *param_meas)\n",
    "dataid = do1d(appl_current, -2e-7 ,2e-7, 201, 0.05, meas_voltage_K2)\n",
    "# dataid = do1d(appl_current, 6e-6 , -6e-6, 251, 0.01, meas_voltage_K1)\n",
    "# ivvi.set_dacs_zero()\n",
    "\n",
    "appl_current(0)\n",
    "plot_by_id(dataid)\n",
    "# print(get_R_from_IV(dataid))\n",
    "#print(get_R_from_IV_2(dataid))\n",
    "\n",
    "K2440.output(0)"
   ]
  },
  {
   "cell_type": "markdown",
   "id": "d0274abc",
   "metadata": {},
   "source": [
    "# Zero everything"
   ]
  },
  {
   "cell_type": "code",
   "execution_count": null,
   "id": "a0cc99f2",
   "metadata": {},
   "outputs": [],
   "source": [
    "appl_current(0)\n",
    "appl_TG(0)\n",
    "magnet_y.field(0)\n",
    "sleep(5)\n",
    "magnet_x.field(0)\n",
    "sleep(5)\n",
    "magnet_z.field(0)\n",
    "sleep(5)\n",
    "#appl_voltage_AC(0.004)\n",
    "#SGS.off()\n",
    "K2440.output(0)"
   ]
  },
  {
   "cell_type": "code",
   "execution_count": null,
   "id": "cb8bf175",
   "metadata": {},
   "outputs": [],
   "source": [
    "appl_current(0)"
   ]
  },
  {
   "cell_type": "markdown",
   "id": "6610bce1",
   "metadata": {},
   "source": [
    "# Gate simple sweeps"
   ]
  },
  {
   "cell_type": "markdown",
   "id": "c010fbad",
   "metadata": {},
   "source": [
    "## 加TG (2D)"
   ]
  },
  {
   "cell_type": "code",
   "execution_count": null,
   "id": "6d7e9bf6",
   "metadata": {},
   "outputs": [],
   "source": [
    "appl_current(0)\n",
    "sleep(1)\n",
    "appl_TG(0)\n",
    "sleep(5)"
   ]
  },
  {
   "cell_type": "code",
   "execution_count": null,
   "id": "be01663b",
   "metadata": {},
   "outputs": [],
   "source": [
    "magnet_x.field(-0.044e-3)\n",
    "sleep(10)\n",
    "magnet_y.field(-6.016e-3)\n",
    "sleep(10)"
   ]
  },
  {
   "cell_type": "code",
   "execution_count": null,
   "id": "5397630e",
   "metadata": {},
   "outputs": [],
   "source": [
    "K2440.output(1)\n",
    "K2440.output(1)\n",
    "appl_TG(-30)\n",
    "sleep(5)\n",
    "appl_current(-1.5e-8)\n",
    "sleep(1)\n",
    "\n",
    "exp = qc.new_experiment('I_vs_Vgate_up', sample_name='33_32_30_31_1M_TG21')\n",
    "dataid = do2d(appl_TG, -30, 30, 301, 0.5, appl_current, -1.5e-8, 1.5e-8, 101, 0.1, meas_voltage_K2)\n",
    "\n",
    "appl_TG(0)\n",
    "sleep(5)\n",
    "appl_current(0e-7)\n",
    "sleep(5)\n",
    "\n",
    "K2440.output(0)\n",
    "K2440.output(0)\n",
    "\n",
    "plot_by_id(dataid)"
   ]
  },
  {
   "cell_type": "markdown",
   "id": "5375fb6f",
   "metadata": {},
   "source": [
    "# RF"
   ]
  },
  {
   "cell_type": "markdown",
   "id": "596beaf8",
   "metadata": {},
   "source": [
    "## I vs RF_f"
   ]
  },
  {
   "cell_type": "markdown",
   "id": "a6df9a13",
   "metadata": {},
   "source": [
    "### sensitive check"
   ]
  },
  {
   "cell_type": "code",
   "execution_count": null,
   "id": "017ed644",
   "metadata": {},
   "outputs": [],
   "source": [
    "SGS.power()\n",
    "SGS.frequency()"
   ]
  },
  {
   "cell_type": "code",
   "execution_count": null,
   "id": "e0b8db4e",
   "metadata": {},
   "outputs": [],
   "source": [
    "SGS.on()"
   ]
  },
  {
   "cell_type": "code",
   "execution_count": null,
   "id": "cc145b47",
   "metadata": {},
   "outputs": [],
   "source": [
    "SGS.off()"
   ]
  },
  {
   "cell_type": "code",
   "execution_count": null,
   "id": "6141349d",
   "metadata": {},
   "outputs": [],
   "source": [
    "magnet_x.field(0.4e-3)\n",
    "sleep(10)\n",
    "magnet_y.field(2.53e-3)\n",
    "sleep(10)"
   ]
  },
  {
   "cell_type": "code",
   "execution_count": null,
   "id": "2fd35fd0",
   "metadata": {},
   "outputs": [],
   "source": [
    "DMM6500.averaging_count(5)\n",
    "DMM6500.averaging_enabled(False)"
   ]
  },
  {
   "cell_type": "markdown",
   "id": "2d27c6f3",
   "metadata": {},
   "source": [
    "### I vs RF_f (1D)"
   ]
  },
  {
   "cell_type": "code",
   "execution_count": null,
   "id": "c3ec00d7",
   "metadata": {
    "scrolled": false
   },
   "outputs": [],
   "source": [
    "SGS.off()\n",
    "exp = qc.new_experiment('I-RF_f', sample_name='103-06_J2_12-13-14-15_1M_@0mT')\n",
    "SGS.power(0)\n",
    "SGS.frequency(0.1e9)\n",
    "SGS.on()\n",
    "sleep(1)\n",
    "DMM6500.averaging_count(5)\n",
    "DMM6500.averaging_enabled(False)\n",
    "K2440.output(1)\n",
    "\n",
    "appl_current(0.4e-6)\n",
    "#appl_TG(10)\n",
    "# magnet_x.field(0.4e-3)\n",
    "# magnet_y.field(2.53e-3)\n",
    "\n",
    "dataid = do1d(SGS.frequency, 11.4e9, 12.2e9, 201, 0.1, meas_voltage_K2)\n",
    "appl_current(0)\n",
    "SGS.off()\n",
    "K2440.output(0)\n",
    "plot_by_id(dataid)\n"
   ]
  },
  {
   "cell_type": "markdown",
   "id": "3e250e53",
   "metadata": {},
   "source": [
    "### I vs RF_f (2D)"
   ]
  },
  {
   "cell_type": "code",
   "execution_count": null,
   "id": "3734095d",
   "metadata": {},
   "outputs": [],
   "source": [
    "SGS.off()"
   ]
  },
  {
   "cell_type": "code",
   "execution_count": null,
   "id": "ccc9ea2f",
   "metadata": {},
   "outputs": [],
   "source": [
    "SGS.off()\n",
    "SGS.power(0)\n",
    "SGS.frequency(0.1e9)\n",
    "SGS.on()\n",
    "DMM6500.averaging_count(1)\n",
    "DMM6500.averaging_enabled(False)\n",
    "K2440.output(1)\n",
    "\n",
    "I_range = 8e-6\n",
    "appl_current(-I_range)\n",
    "#appl_TG(-10)\n",
    "# magnet_x.field(0.4e-3)\n",
    "# magnet_y.field(2.53e-3)\n",
    "# sleep(1)\n",
    "\n",
    "# station.snapshot(update=True);\n",
    "exp = qc.new_experiment('IV-RF_f', sample_name=f'103-03_J2_27-26-30-31M(32G-33G-28G-29G)_1M_RF@0dBm_By@0.1mT')\n",
    "\n",
    "#do1d(param_set, start, stop, num_points, delay, *param_meas)\n",
    "dataid = do2d(SGS.frequency, 1e9, 20e9, 191, 0.0001, appl_current,-I_range ,I_range, 201, 0.0001, meas_voltage_K2)\n",
    "# dataid = do1d(appl_current, 6e-6 , -6e-6, 251, 0.01, meas_voltage_K1)\n",
    "# ivvi.set_dacs_zero()\n",
    "K2440.output(0)\n",
    "SGS.off()\n",
    "appl_current(0)\n",
    "plot_by_id(dataid)\n",
    "save_path = r\"D:\\data\\Albert\\103\\Plot\\104_{}.png\".format(dataid)  # Path to save the plot image\n",
    "autosave_plot_by_id(dataid, save_path)"
   ]
  },
  {
   "cell_type": "code",
   "execution_count": null,
   "id": "3426a3bd",
   "metadata": {},
   "outputs": [],
   "source": [
    "SGS.off()\n",
    "SGS.power(20)\n",
    "SGS.frequency(0.1e9)\n",
    "SGS.on()\n",
    "DMM6500.averaging_count(1)\n",
    "DMM6500.averaging_enabled(False)\n",
    "K2440.output(1)\n",
    "\n",
    "I_range = 6e-6\n",
    "appl_current(-I_range)\n",
    "#appl_TG(-10)\n",
    "# magnet_x.field(0.4e-3)\n",
    "# magnet_y.field(2.53e-3)\n",
    "# sleep(1)\n",
    "\n",
    "# station.snapshot(update=True);\n",
    "exp = qc.new_experiment('IV-RF_f', sample_name=f'103-03_J2_27-26-30-31M(32G-33G-28G-29G)_1M_RF@-10dBm_By@0.1mT')\n",
    "\n",
    "#do1d(param_set, start, stop, num_points, delay, *param_meas)\n",
    "dataid = do2d(SGS.frequency, 1e9, 20e9, 191, 0.0001, appl_current,-I_range ,I_range, 201, 0.0001, meas_voltage_K2)\n",
    "# dataid = do1d(appl_current, 6e-6 , -6e-6, 251, 0.01, meas_voltage_K1)\n",
    "# ivvi.set_dacs_zero()\n",
    "K2440.output(0)\n",
    "SGS.off()\n",
    "appl_current(0)\n",
    "plot_by_id(dataid)\n",
    "save_path = r\"D:\\data\\Albert\\103\\Plot\\104_{}.png\".format(dataid)  # Path to save the plot image\n",
    "autosave_plot_by_id(dataid, save_path)"
   ]
  },
  {
   "cell_type": "code",
   "execution_count": null,
   "id": "9f9dbd53",
   "metadata": {},
   "outputs": [],
   "source": [
    "SGS.off()\n",
    "SGS.power(20)\n",
    "SGS.frequency(5.9e9)\n",
    "SGS.on()\n",
    "DMM6500.averaging_count(1)\n",
    "DMM6500.averaging_enabled(False)\n",
    "K2440.output(1)\n",
    "\n",
    "I_range = 6e-6\n",
    "appl_current(-I_range)\n",
    "#appl_TG(-10)\n",
    "# magnet_x.field(0.4e-3)\n",
    "# magnet_y.field(2.53e-3)\n",
    "# sleep(1)\n",
    "\n",
    "# station.snapshot(update=True);\n",
    "exp = qc.new_experiment('IV-RF_f', sample_name=f'103-03_J2_27-26-30-31M(32G-33G-28G-29G)_1M_RF@20dBm_By@0.1mT')\n",
    "\n",
    "#do1d(param_set, start, stop, num_points, delay, *param_meas)\n",
    "dataid = do2d(SGS.frequency, 5.9e9, 6.0e9, 251, 0.0001, appl_current,-I_range ,I_range, 501, 0.0001, meas_voltage_K2)\n",
    "# dataid = do1d(appl_current, 6e-6 , -6e-6, 251, 0.01, meas_voltage_K1)\n",
    "# ivvi.set_dacs_zero()\n",
    "K2440.output(0)\n",
    "SGS.off()\n",
    "appl_current(0)\n",
    "plot_by_id(dataid)\n",
    "save_path = r\"D:\\data\\Albert\\103\\Plot\\104_{}.png\".format(dataid)  # Path to save the plot image\n",
    "autosave_plot_by_id(dataid, save_path)\n"
   ]
  },
  {
   "cell_type": "code",
   "execution_count": null,
   "id": "862b770b",
   "metadata": {},
   "outputs": [],
   "source": [
    "SGS.off()\n",
    "SGS.power(20)\n",
    "SGS.frequency(5.535e9)\n",
    "SGS.on()\n",
    "DMM6500.averaging_count(1)\n",
    "DMM6500.averaging_enabled(False)\n",
    "K2440.output(1)\n",
    "\n",
    "I_range = 6e-6\n",
    "appl_current(-I_range)\n",
    "#appl_TG(-10)\n",
    "# magnet_x.field(0.4e-3)\n",
    "# magnet_y.field(2.53e-3)\n",
    "# sleep(1)\n",
    "\n",
    "# station.snapshot(update=True);\n",
    "exp = qc.new_experiment('IV-RF_f', sample_name=f'103-03_J2_27-26-30-31M(32G-33G-28G-29G)_1M_RF@20dBm_By@0.1mT')\n",
    "\n",
    "#do1d(param_set, start, stop, num_points, delay, *param_meas)\n",
    "dataid = do2d(SGS.frequency, 5.535e9, 5.585e9, 251, 0.0001, appl_current,-I_range ,I_range, 501, 0.0001, meas_voltage_K2)\n",
    "# dataid = do1d(appl_current, 6e-6 , -6e-6, 251, 0.01, meas_voltage_K1)\n",
    "# ivvi.set_dacs_zero()\n",
    "K2440.output(0)\n",
    "SGS.off()\n",
    "appl_current(0)\n",
    "plot_by_id(dataid)\n",
    "save_path = r\"D:\\data\\Albert\\103\\Plot\\104_{}.png\".format(dataid)  # Path to save the plot image\n",
    "autosave_plot_by_id(dataid, save_path)\n"
   ]
  },
  {
   "cell_type": "code",
   "execution_count": null,
   "id": "d76f7ea2",
   "metadata": {},
   "outputs": [],
   "source": [
    "SGS.off()\n",
    "SGS.power(20)\n",
    "SGS.frequency(0.1e9)\n",
    "SGS.on()\n",
    "DMM6500.averaging_count(1)\n",
    "DMM6500.averaging_enabled(False)\n",
    "K2440.output(1)\n",
    "\n",
    "I_range = 6e-6\n",
    "appl_current(-I_range)\n",
    "SGS_power = SGS.power()\n",
    "#appl_TG(-10)\n",
    "# magnet_x.field(0.4e-3)\n",
    "# magnet_y.field(2.53e-3)\n",
    "# sleep(1)\n",
    "\n",
    "# station.snapshot(update=True);\n",
    "exp = qc.new_experiment('IV-RF_f', sample_name=f'103-03_J2_27-26-30-31M(32G-33G-28G-29G)_1M_RF@{SGS_power}dBm_By@0.1mT')\n",
    "\n",
    "#do1d(param_set, start, stop, num_points, delay, *param_meas)\n",
    "dataid = do2d(SGS.frequency, 3.9e9, 6.9e9, 301, 0.0001, appl_current,-I_range ,I_range, 251, 0.0001, meas_voltage_K2)\n",
    "# dataid = do1d(appl_current, 6e-6 , -6e-6, 251, 0.01, meas_voltage_K1)\n",
    "# ivvi.set_dacs_zero()\n",
    "K2440.output(0)\n",
    "SGS.off()\n",
    "appl_current(0)\n",
    "plot_by_id(dataid)\n",
    "save_path = r\"D:\\data\\Albert\\103\\Plot\\104_{}.png\".format(dataid)  # Path to save the plot image\n",
    "autosave_plot_by_id(dataid, save_path)"
   ]
  },
  {
   "cell_type": "code",
   "execution_count": null,
   "id": "28992f6f",
   "metadata": {},
   "outputs": [],
   "source": [
    "appl_current(0)\n",
    "#appl_TG(0)\n",
    "magnet_y.field(0)\n",
    "sleep(2)\n",
    "magnet_x.field(0)\n",
    "sleep(2)\n",
    "#appl_voltage_AC(0.004)\n",
    "SGS.off()"
   ]
  },
  {
   "cell_type": "markdown",
   "id": "65c9a40a",
   "metadata": {},
   "source": [
    "## IV vs RF_f"
   ]
  },
  {
   "cell_type": "markdown",
   "id": "b285efb3",
   "metadata": {},
   "source": [
    "### Shapiro steps "
   ]
  },
  {
   "cell_type": "code",
   "execution_count": null,
   "id": "3a180ee1",
   "metadata": {
    "scrolled": true
   },
   "outputs": [],
   "source": [
    "SGS.off()\n",
    "SGS.power(-10)\n",
    "SGS.frequency(11.725e9)\n",
    "SGS.on()\n",
    "DMM6500.averaging_count(5)\n",
    "DMM6500.averaging_enabled(False)\n",
    "K2440.output(1)\n",
    "\n",
    "appl_current(-2e-7)\n",
    "#appl_TG(-10)\n",
    "#magnet_x.field(0.23e-3)\n",
    "#magnet_y.field(1.41e-3)\n",
    "# sleep(1)\n",
    "\n",
    "# station.snapshot(update=True);\n",
    "exp = qc.new_experiment('IV-RF_f', sample_name=f'103-03_J2_27-26-30-31M(32G-33G-28G-29G)_1M_By@0.1mT{-I_range}')\n",
    "\n",
    "#do1d(param_set, start, stop, num_points, delay, *param_meas)\"\"\n",
    "dataid = do1d(appl_current,-2e-7 ,2e-7, 101, 0.05,  meas_voltage_K2)\n",
    "# dataid = do1d(appl_current, 6e-6 , -6e-6, 251, 0.01, meas_voltage_K1)\n",
    "# ivvi.set_dacs_zero()\n",
    "K2440.output(0)\n",
    "SGS.off()\n",
    "appl_current(0)\n",
    "plot_by_id(dataid)\n",
    "# print(get_R_from_IV(dataid))\n",
    "#print(get_R_from_IV_2(dataid))"
   ]
  },
  {
   "cell_type": "code",
   "execution_count": null,
   "id": "51fe069b",
   "metadata": {},
   "outputs": [],
   "source": [
    "SGS.off()\n",
    "SGS.power(0)\n",
    "SGS.frequency(3.87e9)\n",
    "SGS.on()\n",
    "DMM6500.averaging_count(5)\n",
    "DMM6500.averaging_enabled(False)\n",
    "K2440.output(1)\n",
    "\n",
    "appl_current(-1.2e-6)\n",
    "#appl_TG(-10)\n",
    "magnet_y.field(-10e-3)\n",
    "\n",
    "#magnet_y.field(1.41e-3)\n",
    "# sleep(1)\n",
    "\n",
    "# station.snapshot(update=True);\n",
    "exp = qc.new_experiment('Bx vs RF_f', sample_name='By vs RF_f_J2_3.87_-10dB')\n",
    "\n",
    "#do1d(param_set, start, stop, num_points, delay, *param_meas)\"\"\n",
    "dataid = do2d(magnet_y.field, -10e-3, 10e-3,701, 1, appl_current,-1.2e-6 ,1.2e-6, 101, 0.05,  meas_voltage_K2)\n",
    "# dataid = do1d(appl_current, 6e-6 , -6e-6, 251, 0.01, meas_voltage_K1)\n",
    "# ivvi.set_dacs_zero()\n",
    "K2440.output(0)\n",
    "SGS.off()\n",
    "appl_current(0)\n",
    "plot_by_id(dataid)\n",
    "# print(get_R_from_IV(dataid))\n",
    "#print(get_R_from_IV_2(dataid))"
   ]
  },
  {
   "cell_type": "code",
   "execution_count": null,
   "id": "5488e4c5",
   "metadata": {},
   "outputs": [],
   "source": [
    "appl_current(0)\n",
    "#appl_TG(0)\n",
    "magnet_y.field(0)\n",
    "sleep(10)\n",
    "magnet_x.field(0)\n",
    "sleep(10)\n",
    "#appl_voltage_AC(0.004)\n",
    "SGS.off()"
   ]
  },
  {
   "cell_type": "markdown",
   "id": "04e50dcd",
   "metadata": {},
   "source": [
    "## IV vs Power Dependence"
   ]
  },
  {
   "cell_type": "code",
   "execution_count": null,
   "id": "0368ef58",
   "metadata": {},
   "outputs": [],
   "source": [
    "SGS.off()"
   ]
  },
  {
   "cell_type": "code",
   "execution_count": null,
   "id": "3d6eab35",
   "metadata": {},
   "outputs": [],
   "source": [
    "SGS.power(-40)"
   ]
  },
  {
   "cell_type": "code",
   "execution_count": null,
   "id": "d760383a",
   "metadata": {},
   "outputs": [],
   "source": [
    "SGS.off()"
   ]
  },
  {
   "cell_type": "code",
   "execution_count": null,
   "id": "f0984a37",
   "metadata": {
    "scrolled": true
   },
   "outputs": [],
   "source": [
    "SGS.off()\n",
    "SGS.power(-20)\n",
    "SGS.frequency(5.9534e9)\n",
    "SGS_frequency = SGS.frequency()\n",
    "SGS.on()\n",
    "DMM6500.averaging_count(3)\n",
    "DMM6500.averaging_enabled(False)\n",
    "K2440.output(1)\n",
    "\n",
    "#magnet_x.field(15e-3)\n",
    "#sleep(5)\n",
    "I_range = 6e-6\n",
    "appl_current(-I_range)\n",
    "#appl_TG(-30)\n",
    "sleep(2)\n",
    "\n",
    "# station.snapshot(update=True);\n",
    "exp = qc.new_experiment('IV-RF_p', sample_name=f'103-03_J2_27-26-30-31M(32G-33G-28G-29G)_1M_RF@{SGS_frequency*1e-9:.4f}GHz_By@0.1mT')\n",
    "\n",
    "#do1d(param_set, start, stop, num_points, delay, *param_meas)\n",
    "\n",
    "dataid = do2d(SGS.power,10, 15, 51, 0.1, appl_current,-I_range ,I_range, 301, 0.00001, meas_voltage_K2)\n",
    "# dataid = do1d(appl_current, 6e-6 , -6e-6, 251, 0.01, meas_voltage_K1)\n",
    "# ivvi.set_dacs_zero()\n",
    "\n",
    "SGS.off()\n",
    "appl_current(0)\n",
    "K2440.output()\n",
    "plot_by_id(dataid)\n",
    "\n",
    "# print(get_R_from_IV(dataid))\n",
    "print(get_R_from_IV_2(dataid))"
   ]
  },
  {
   "cell_type": "code",
   "execution_count": null,
   "id": "de3fc621",
   "metadata": {},
   "outputs": [],
   "source": [
    "SGS.off()\n",
    "SGS.power(-25)\n",
    "SGS.frequency(5.226e9)\n",
    "SGS.on()\n",
    "DMM6500.averaging_count(5)\n",
    "DMM6500.averaging_enabled(True)\n",
    "K2440.output(1)\n",
    "\n",
    "magnet_y.field(-8e-3)\n",
    "sleep(60)\n",
    "appl_current(-2e-7)\n",
    "#appl_TG(-30)\n",
    "sleep(2)\n",
    "\n",
    "# station.snapshot(update=True);\n",
    "exp = qc.new_experiment('IV vs power dependence', sample_name='IV vs PD_5.226_By:-8mT')\n",
    "\n",
    "#do1d(param_set, start, stop, num_points, delay, *param_meas)\n",
    "\n",
    "dataid = do2d(SGS.power,-25, 10, 101, 20, appl_current,-2e-7 ,2e-7, 101, 0.05, meas_voltage_K2)\n",
    "# dataid = do1d(appl_current, 6e-6 , -6e-6, 251, 0.01, meas_voltage_K1)\n",
    "# ivvi.set_dacs_zero()\n",
    "\n",
    "SGS.off()\n",
    "appl_current(0)\n",
    "K2440.output()\n",
    "plot_by_id(dataid)\n",
    "\n",
    "# print(get_R_from_IV(dataid))\n",
    "print(get_R_from_IV_2(dataid))"
   ]
  },
  {
   "cell_type": "markdown",
   "id": "13e12840",
   "metadata": {},
   "source": [
    "### PD vs frequency_IV loop (not yet)"
   ]
  },
  {
   "cell_type": "code",
   "execution_count": null,
   "id": "8659ae09",
   "metadata": {
    "code_folding": []
   },
   "outputs": [],
   "source": [
    "frequencies = [3.248, 3.387, 5.677]\n",
    "power_levels = [-20, 0, 25]\n",
    "     \n",
    "SGS.off()\n",
    "SGS.power(-20)\n",
    "SGS.frequency(3.387e9)\n",
    "SGS.on()\n",
    "DMM6500.averaging_count(5)\n",
    "DMM6500.averaging_enabled(True)\n",
    "K2440.output(1)\n",
    "\n",
    "appl_current(-2e-6)\n",
    "#appl_TG(-10)\n",
    "sleep(1)\n",
    "\n",
    "for freq in frequencies:\n",
    "    SGS.frequency(freq)\n",
    "    for power_level in power_levels:\n",
    "        SGS.power(power_level)\n",
    "\n",
    "# station.snapshot(update=True);\n",
    "exp = qc.new_experiment('IV vs power dependence', sample_name='IV vs PD_J2_3.387_m20')\n",
    "dataid = do2d(SGS.power, 4, 8, 100, 2, appl_current, -1e-6, 1e-6, 101, 0.05, meas_voltage_K2)\n",
    "\n",
    " # 關閉設備，並在需要時列印或繪製結果\n",
    "SGS.off()\n",
    "appl_current(0)\n",
    "K2440.output()\n",
    "plot_by_id(dataid)\n",
    "    \n",
    "print(f\"頻率：{freq} Hz，功率水平：{power_level} dB\")\n",
    "print(get_R_from_IV_2(dataid))\n"
   ]
  },
  {
   "cell_type": "markdown",
   "id": "5c2101a5",
   "metadata": {},
   "source": [
    "## IV vs Vgate"
   ]
  },
  {
   "cell_type": "code",
   "execution_count": null,
   "id": "48eb3a89",
   "metadata": {},
   "outputs": [],
   "source": [
    "appl_current(0)\n",
    "appl_TG(0)\n",
    "magnet_y.field(0)\n",
    "sleep(10)\n",
    "magnet_x.field(0)\n",
    "sleep(10)\n",
    "appl_voltage_AC(0.004)\n",
    "SGS.off()"
   ]
  },
  {
   "cell_type": "code",
   "execution_count": null,
   "id": "5deaef19",
   "metadata": {},
   "outputs": [],
   "source": [
    "SGS.off()\n",
    "SGS.power(25)\n",
    "SGS.frequency(4.83e9)\n",
    "SGS.on()\n",
    "DMM6500.averaging_count(5)\n",
    "DMM6500.averaging_enabled(True)\n",
    "appl_current(-0.4e-7)\n",
    "appl_current_AC(0.1e-10)\n",
    "\n",
    "appl_TG(-10)\n",
    "sleep(1)\n",
    "\n",
    "# station.snapshot(update=True);\n",
    "exp = qc.new_experiment('IV vs Vgate', sample_name='IV vs Vg')\n",
    "\n",
    "dataid = do2d(appl_TG, -10, 10, 751, 0.5, appl_current, -0.4e-7, 0.4e-7, 101, 0.01, meas_voltage_AC_L1, meas_voltage_AC_L1_P, meas_voltage_K2)\n",
    "# dataid = do1d(appl_current, 6e-6 , -6e-6, 251, 0.01, meas_voltage_K1)\n",
    "# ivvi.set_dacs_zero()\n",
    "SGS.off()\n",
    "appl_current(0)\n",
    "plot_by_id(dataid)\n",
    "# print(get_R_from_IV(dataid))\n",
    "#print(get_R_from_IV_2(dataid))"
   ]
  },
  {
   "cell_type": "code",
   "execution_count": null,
   "id": "6bbd39fb",
   "metadata": {},
   "outputs": [],
   "source": [
    "appl_current(0)\n",
    "appl_TG(0)\n",
    "magnet_y.field(0)\n",
    "sleep(10)\n",
    "magnet_x.field(0)\n",
    "sleep(10)\n",
    "appl_voltage_AC(0.004)\n",
    "SGS.off()"
   ]
  },
  {
   "cell_type": "code",
   "execution_count": null,
   "id": "00d4b770",
   "metadata": {},
   "outputs": [],
   "source": [
    "import matplotlib.pyplot as plt\n",
    "import numpy as np\n",
    "\n",
    "# Constants\n",
    "k = 8.617333262145e-5  # Boltzmann constant in eV/K\n",
    "E_a = 0.5  # Example value for the activation energy in eV\n",
    "p_0 = 1.0  # Example value for p0\n",
    "\n",
    "# Create an array of temperatures from 100 to 1000 K\n",
    "temperatures = np.linspace(100, 1000, 50)\n",
    "\n",
    "# Calculate 1/T\n",
    "inverse_temperatures = 1 / temperatures\n",
    "\n",
    "# Calculate ln(p)\n",
    "ln_p = np.log(p_0) - (E_a / k) * inverse_temperatures\n",
    "\n",
    "# Plotting\n",
    "plt.figure(figsize=(8, 6))\n",
    "plt.plot(inverse_temperatures, ln_p, marker='o', linestyle='-')\n",
    "plt.xlabel('1/T (1/K)')\n",
    "plt.ylabel('ln(p)')\n",
    "plt.title('ln(p) vs 1/T for Hole Concentration')\n",
    "plt.grid(True)\n",
    "plt.show()\n"
   ]
  },
  {
   "cell_type": "code",
   "execution_count": null,
   "id": "f610e7bc",
   "metadata": {},
   "outputs": [],
   "source": []
  }
 ],
 "metadata": {
  "kernelspec": {
   "display_name": "qcodes",
   "language": "python",
   "name": "python3"
  },
  "language_info": {
   "codemirror_mode": {
    "name": "ipython",
    "version": 3
   },
   "file_extension": ".py",
   "mimetype": "text/x-python",
   "name": "python",
   "nbconvert_exporter": "python",
   "pygments_lexer": "ipython3",
   "version": "3.11.3"
  },
  "toc": {
   "base_numbering": 1,
   "nav_menu": {},
   "number_sections": true,
   "sideBar": false,
   "skip_h1_title": false,
   "title_cell": "Table of Contents",
   "title_sidebar": "Contents",
   "toc_cell": false,
   "toc_position": {
    "height": "783px",
    "left": "260px",
    "top": "67.125px",
    "width": "182px"
   },
   "toc_section_display": true,
   "toc_window_display": true
  }
 },
 "nbformat": 4,
 "nbformat_minor": 5
}
