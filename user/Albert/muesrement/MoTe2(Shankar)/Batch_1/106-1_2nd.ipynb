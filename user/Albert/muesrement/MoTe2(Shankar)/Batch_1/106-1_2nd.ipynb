{
 "cells": [
  {
   "cell_type": "markdown",
   "id": "256e0f19",
   "metadata": {},
   "source": [
    "# Initialization"
   ]
  },
  {
   "cell_type": "markdown",
   "id": "9d160fe4",
   "metadata": {},
   "source": [
    "## Inport modules"
   ]
  },
  {
   "cell_type": "code",
   "execution_count": 1,
   "id": "87cd7482",
   "metadata": {},
   "outputs": [
    {
     "name": "stderr",
     "output_type": "stream",
     "text": [
      "C:\\qcodes\\sweeps_v2.py:85: SyntaxWarning: 'tuple' object is not callable; perhaps you missed a comma?\n",
      "  (dyn_param, dyn_set)\n"
     ]
    }
   ],
   "source": [
    "# %matplotlib inline\n",
    "import os, sys\n",
    "import numpy as np\n",
    "import plotly.graph_objs as go\n",
    "import matplotlib.pyplot as plt\n",
    "from tqdm import tqdm\n",
    "from pprint import pprint\n",
    "from time import sleep, monotonic, time\n",
    "from IPython.display import clear_output\n",
    "\n",
    "\n",
    "import qcodes as qc\n",
    "from qcodes import Parameter\n",
    "from qcodes import ManualParameter, ScaledParameter\n",
    "from qcodes.utils.metadata import diff_param_values\n",
    "from qcodes.dataset.measurements import Measurement\n",
    "from qcodes.dataset.plotting import plot_dataset, plot_by_id\n",
    "from qcodes.instrument.specialized_parameters import ElapsedTimeParameter\n",
    "\n",
    "# sys.path.append('M:\\\\tnw\\\\ns\\\\qt\\\\2D Topo\\\\code\\\\qcodes')\n",
    "sys.path.append('C:\\\\qcodes')\n",
    "from sweeps_v2 import do1d, do2d, time_sweep, measure_until, do1d_until\n",
    "\n",
    "import warnings\n",
    "warnings.filterwarnings('ignore')"
   ]
  },
  {
   "cell_type": "code",
   "execution_count": 2,
   "id": "5c62f513",
   "metadata": {},
   "outputs": [
    {
     "name": "stdout",
     "output_type": "stream",
     "text": [
      "Connected to: KEITHLEY INSTRUMENTS DMM6500 (serial:04518052, firmware:1.7.7b) in 0.11s\n",
      "Connected to: Stanford_Research_Systems SR860 (serial:004608, firmware:V1.51) in 0.06s\n"
     ]
    }
   ],
   "source": [
    "fridge_name = 'BF1'\n",
    "# %run ..\\..\\..\\..\\..\\code\\qcodes\\init_fridge.py {fridge_name}\n",
    "%run C:\\qcodes\\init_fridge.py {fridge_name}"
   ]
  },
  {
   "cell_type": "code",
   "execution_count": 3,
   "id": "c9e134aa",
   "metadata": {},
   "outputs": [
    {
     "name": "stdout",
     "output_type": "stream",
     "text": [
      "{'components': {},\n",
      " 'config': None,\n",
      " 'instruments': {'keithley_1': {'__class__': 'qcodes.instrument_drivers.tektronix.Keithley_6500.Keithley_6500',\n",
      "                                'address': 'GPIB0::6::INSTR',\n",
      "                                'functions': {},\n",
      "                                'label': 'keithley_1',\n",
      "                                'name': 'keithley_1',\n",
      "                                'parameters': {'IDN': {'__class__': 'qcodes.parameters.parameter.Parameter',\n",
      "                                                       'full_name': 'keithley_1_IDN',\n",
      "                                                       'instrument': 'qcodes.instrument_drivers.tektronix.Keithley_6500.Keithley_6500',\n",
      "                                                       'instrument_name': 'keithley_1',\n",
      "                                                       'inter_delay': 0,\n",
      "                                                       'label': 'IDN',\n",
      "                                                       'name': 'IDN',\n",
      "                                                       'post_delay': 0,\n",
      "                                                       'raw_value': {'firmware': '1.7.7b',\n",
      "                                                                     'model': 'DMM6500',\n",
      "                                                                     'serial': '04518052',\n",
      "                                                                     'vendor': 'KEITHLEY '\n",
      "                                                                               'INSTRUMENTS'},\n",
      "                                                       'ts': '2024-07-18 '\n",
      "                                                             '11:54:47',\n",
      "                                                       'unit': '',\n",
      "                                                       'vals': '<Anything>',\n",
      "                                                       'value': {'firmware': '1.7.7b',\n",
      "                                                                 'model': 'DMM6500',\n",
      "                                                                 'serial': '04518052',\n",
      "                                                                 'vendor': 'KEITHLEY '\n",
      "                                                                           'INSTRUMENTS'}},\n",
      "                                               'amplitude': {'__class__': 'qcodes.parameters.parameter.Parameter',\n",
      "                                                             'full_name': 'keithley_1_amplitude',\n",
      "                                                             'instrument': 'qcodes.instrument_drivers.tektronix.Keithley_6500.Keithley_6500',\n",
      "                                                             'instrument_name': 'keithley_1',\n",
      "                                                             'inter_delay': 0,\n",
      "                                                             'label': 'amplitude',\n",
      "                                                             'name': 'amplitude',\n",
      "                                                             'post_delay': 0,\n",
      "                                                             'raw_value': -6.185518e-05,\n",
      "                                                             'ts': '2024-07-18 '\n",
      "                                                                   '11:54:47',\n",
      "                                                             'unit': 'a.u.',\n",
      "                                                             'value': -6.185518e-05},\n",
      "                                               'auto_range_enabled': {'__class__': 'qcodes.parameters.parameter.Parameter',\n",
      "                                                                      'full_name': 'keithley_1_auto_range_enabled',\n",
      "                                                                      'instrument': 'qcodes.instrument_drivers.tektronix.Keithley_6500.Keithley_6500',\n",
      "                                                                      'instrument_name': 'keithley_1',\n",
      "                                                                      'inter_delay': 0,\n",
      "                                                                      'label': 'auto_range_enabled',\n",
      "                                                                      'name': 'auto_range_enabled',\n",
      "                                                                      'post_delay': 0,\n",
      "                                                                      'raw_value': True,\n",
      "                                                                      'ts': '2024-07-18 '\n",
      "                                                                            '11:54:47',\n",
      "                                                                      'unit': '',\n",
      "                                                                      'vals': '<Boolean>',\n",
      "                                                                      'value': True},\n",
      "                                               'averaging_count': {'__class__': 'qcodes.parameters.parameter.Parameter',\n",
      "                                                                   'full_name': 'keithley_1_averaging_count',\n",
      "                                                                   'instrument': 'qcodes.instrument_drivers.tektronix.Keithley_6500.Keithley_6500',\n",
      "                                                                   'instrument_name': 'keithley_1',\n",
      "                                                                   'inter_delay': 0,\n",
      "                                                                   'label': 'averaging_count',\n",
      "                                                                   'name': 'averaging_count',\n",
      "                                                                   'post_delay': 0,\n",
      "                                                                   'raw_value': 10,\n",
      "                                                                   'ts': '2024-07-18 '\n",
      "                                                                         '11:54:47',\n",
      "                                                                   'unit': '',\n",
      "                                                                   'vals': '<Ints '\n",
      "                                                                           '1<=v<=100>',\n",
      "                                                                   'value': 10},\n",
      "                                               'averaging_enabled': {'__class__': 'qcodes.parameters.parameter.Parameter',\n",
      "                                                                     'full_name': 'keithley_1_averaging_enabled',\n",
      "                                                                     'instrument': 'qcodes.instrument_drivers.tektronix.Keithley_6500.Keithley_6500',\n",
      "                                                                     'instrument_name': 'keithley_1',\n",
      "                                                                     'inter_delay': 0,\n",
      "                                                                     'label': 'averaging_enabled',\n",
      "                                                                     'name': 'averaging_enabled',\n",
      "                                                                     'post_delay': 0,\n",
      "                                                                     'raw_value': True,\n",
      "                                                                     'ts': '2024-07-18 '\n",
      "                                                                           '11:54:47',\n",
      "                                                                     'unit': '',\n",
      "                                                                     'vals': '<Boolean>',\n",
      "                                                                     'value': True},\n",
      "                                               'averaging_type': {'__class__': 'qcodes.parameters.parameter.Parameter',\n",
      "                                                                  'full_name': 'keithley_1_averaging_type',\n",
      "                                                                  'instrument': 'qcodes.instrument_drivers.tektronix.Keithley_6500.Keithley_6500',\n",
      "                                                                  'instrument_name': 'keithley_1',\n",
      "                                                                  'inter_delay': 0,\n",
      "                                                                  'label': 'averaging_type',\n",
      "                                                                  'name': 'averaging_type',\n",
      "                                                                  'post_delay': 0,\n",
      "                                                                  'raw_value': 'repeat',\n",
      "                                                                  'ts': '2024-07-18 '\n",
      "                                                                        '11:54:47',\n",
      "                                                                  'unit': '',\n",
      "                                                                  'vals': '<Enum: '\n",
      "                                                                          \"{'repeat', \"\n",
      "                                                                          \"'moving'}>\",\n",
      "                                                                  'value': 'repeat'},\n",
      "                                               'digits': {'__class__': 'qcodes.parameters.parameter.Parameter',\n",
      "                                                          'full_name': 'keithley_1_digits',\n",
      "                                                          'instrument': 'qcodes.instrument_drivers.tektronix.Keithley_6500.Keithley_6500',\n",
      "                                                          'instrument_name': 'keithley_1',\n",
      "                                                          'inter_delay': 0,\n",
      "                                                          'label': 'digits',\n",
      "                                                          'name': 'digits',\n",
      "                                                          'post_delay': 0,\n",
      "                                                          'raw_value': '6',\n",
      "                                                          'ts': '2024-07-18 '\n",
      "                                                                '11:54:47',\n",
      "                                                          'unit': '',\n",
      "                                                          'vals': '<Ints '\n",
      "                                                                  '4<=v<=7>',\n",
      "                                                          'value': 6},\n",
      "                                               'display_backlight': {'__class__': 'qcodes.parameters.parameter.Parameter',\n",
      "                                                                     'full_name': 'keithley_1_display_backlight',\n",
      "                                                                     'instrument': 'qcodes.instrument_drivers.tektronix.Keithley_6500.Keithley_6500',\n",
      "                                                                     'instrument_name': 'keithley_1',\n",
      "                                                                     'inter_delay': 0,\n",
      "                                                                     'label': 'display_backlight',\n",
      "                                                                     'name': 'display_backlight',\n",
      "                                                                     'post_delay': 0,\n",
      "                                                                     'raw_value': 'ON50',\n",
      "                                                                     'ts': '2024-07-18 '\n",
      "                                                                           '11:54:47',\n",
      "                                                                     'unit': '',\n",
      "                                                                     'val_mapping': {'Blackout': 'BLACkout',\n",
      "                                                                                     'Off': 'OFF',\n",
      "                                                                                     'On 100': 'ON100',\n",
      "                                                                                     'On 25': 'ON25',\n",
      "                                                                                     'On 50': 'ON50',\n",
      "                                                                                     'On 75': 'ON75'},\n",
      "                                                                     'vals': '<Enum: '\n",
      "                                                                             \"{'Blackout', \"\n",
      "                                                                             \"'On \"\n",
      "                                                                             \"75', \"\n",
      "                                                                             \"'Off', \"\n",
      "                                                                             \"'On \"\n",
      "                                                                             \"50', \"\n",
      "                                                                             \"'On \"\n",
      "                                                                             \"100', \"\n",
      "                                                                             \"'On \"\n",
      "                                                                             \"25'}>\",\n",
      "                                                                     'value': 'On '\n",
      "                                                                              '50'},\n",
      "                                               'mode': {'__class__': 'qcodes.parameters.parameter.Parameter',\n",
      "                                                        'full_name': 'keithley_1_mode',\n",
      "                                                        'instrument': 'qcodes.instrument_drivers.tektronix.Keithley_6500.Keithley_6500',\n",
      "                                                        'instrument_name': 'keithley_1',\n",
      "                                                        'inter_delay': 0,\n",
      "                                                        'label': 'mode',\n",
      "                                                        'name': 'mode',\n",
      "                                                        'post_delay': 0,\n",
      "                                                        'raw_value': 'VOLT:DC',\n",
      "                                                        'ts': '2024-07-18 '\n",
      "                                                              '11:54:47',\n",
      "                                                        'unit': '',\n",
      "                                                        'val_mapping': {'2w resistance': 'RES',\n",
      "                                                                        '4w resistance': 'FRES',\n",
      "                                                                        'ac current': 'CURR:AC',\n",
      "                                                                        'ac voltage': 'VOLT:AC',\n",
      "                                                                        'dc current': 'CURR:DC',\n",
      "                                                                        'dc voltage': 'VOLT:DC',\n",
      "                                                                        'frequency': 'FREQ',\n",
      "                                                                        'temperature': 'TEMP'},\n",
      "                                                        'vals': \"<Enum: {'ac \"\n",
      "                                                                \"current', '4w \"\n",
      "                                                                \"resistance', \"\n",
      "                                                                \"'dc voltage', \"\n",
      "                                                                \"'dc current', \"\n",
      "                                                                \"'temperature', \"\n",
      "                                                                \"'2w \"\n",
      "                                                                \"resistance', \"\n",
      "                                                                \"'frequency', \"\n",
      "                                                                \"'ac \"\n",
      "                                                                \"voltage'}>\",\n",
      "                                                        'value': 'dc voltage'},\n",
      "                                               'nplc': {'__class__': 'qcodes.parameters.parameter.Parameter',\n",
      "                                                        'full_name': 'keithley_1_nplc',\n",
      "                                                        'instrument': 'qcodes.instrument_drivers.tektronix.Keithley_6500.Keithley_6500',\n",
      "                                                        'instrument_name': 'keithley_1',\n",
      "                                                        'inter_delay': 0,\n",
      "                                                        'label': 'nplc',\n",
      "                                                        'name': 'nplc',\n",
      "                                                        'post_delay': 0,\n",
      "                                                        'raw_value': 1.0,\n",
      "                                                        'ts': '2024-07-18 '\n",
      "                                                              '11:54:47',\n",
      "                                                        'unit': '',\n",
      "                                                        'vals': '<Numbers '\n",
      "                                                                '0.01<=v<=10>',\n",
      "                                                        'value': 1.0},\n",
      "                                               'range': {'__class__': 'qcodes.parameters.parameter.Parameter',\n",
      "                                                         'full_name': 'keithley_1_range',\n",
      "                                                         'instrument': 'qcodes.instrument_drivers.tektronix.Keithley_6500.Keithley_6500',\n",
      "                                                         'instrument_name': 'keithley_1',\n",
      "                                                         'inter_delay': 0,\n",
      "                                                         'label': 'range',\n",
      "                                                         'name': 'range',\n",
      "                                                         'post_delay': 0,\n",
      "                                                         'raw_value': 0.1,\n",
      "                                                         'ts': '2024-07-18 '\n",
      "                                                               '11:54:47',\n",
      "                                                         'unit': '',\n",
      "                                                         'vals': '<Numbers>',\n",
      "                                                         'value': 0.1},\n",
      "                                               'timeout': {'__class__': 'qcodes.parameters.parameter.Parameter',\n",
      "                                                           'full_name': 'keithley_1_timeout',\n",
      "                                                           'instrument': 'qcodes.instrument_drivers.tektronix.Keithley_6500.Keithley_6500',\n",
      "                                                           'instrument_name': 'keithley_1',\n",
      "                                                           'inter_delay': 0,\n",
      "                                                           'label': 'timeout',\n",
      "                                                           'name': 'timeout',\n",
      "                                                           'post_delay': 0,\n",
      "                                                           'raw_value': 10.0,\n",
      "                                                           'ts': '2024-07-18 '\n",
      "                                                                 '11:54:47',\n",
      "                                                           'unit': 's',\n",
      "                                                           'vals': '<MultiType: '\n",
      "                                                                   'Numbers '\n",
      "                                                                   'v>=0, '\n",
      "                                                                   'Enum: '\n",
      "                                                                   '{None}>',\n",
      "                                                           'value': 10.0},\n",
      "                                               'trigger1_delay': {'__class__': 'qcodes.parameters.parameter.Parameter',\n",
      "                                                                  'full_name': 'keithley_1_trigger1_delay',\n",
      "                                                                  'instrument': 'qcodes.instrument_drivers.tektronix.Keithley_6500.Keithley_6500',\n",
      "                                                                  'instrument_name': 'keithley_1',\n",
      "                                                                  'inter_delay': 0,\n",
      "                                                                  'label': 'trigger1_delay',\n",
      "                                                                  'name': 'trigger1_delay',\n",
      "                                                                  'post_delay': 0,\n",
      "                                                                  'raw_value': '1E-05',\n",
      "                                                                  'ts': '2024-07-18 '\n",
      "                                                                        '11:54:47',\n",
      "                                                                  'unit': 's',\n",
      "                                                                  'vals': '<Numbers '\n",
      "                                                                          '0<=v<=999999.999>',\n",
      "                                                                  'value': 1e-05},\n",
      "                                               'trigger1_source': {'__class__': 'qcodes.parameters.parameter.Parameter',\n",
      "                                                                   'full_name': 'keithley_1_trigger1_source',\n",
      "                                                                   'instrument': 'qcodes.instrument_drivers.tektronix.Keithley_6500.Keithley_6500',\n",
      "                                                                   'instrument_name': 'keithley_1',\n",
      "                                                                   'inter_delay': 0,\n",
      "                                                                   'label': 'trigger1_source',\n",
      "                                                                   'name': 'trigger1_source',\n",
      "                                                                   'post_delay': 0,\n",
      "                                                                   'raw_value': 'NONE',\n",
      "                                                                   'ts': '2024-07-18 '\n",
      "                                                                         '11:54:47',\n",
      "                                                                   'unit': '',\n",
      "                                                                   'val_mapping': {'bus': 'COMM',\n",
      "                                                                                   'external': 'EXT',\n",
      "                                                                                   'front-panel': 'DISP',\n",
      "                                                                                   'immediate': 'NONE',\n",
      "                                                                                   'notify1': 'NOT1',\n",
      "                                                                                   'notify2': 'NOT2',\n",
      "                                                                                   'notify3': 'NOT3',\n",
      "                                                                                   'timer1': 'TIM1',\n",
      "                                                                                   'timer2': 'TIM2',\n",
      "                                                                                   'timer3': 'TIM3',\n",
      "                                                                                   'timer4': 'TIM4'},\n",
      "                                                                   'vals': '<Enum: '\n",
      "                                                                           \"{'timer2', \"\n",
      "                                                                           \"'timer1', \"\n",
      "                                                                           \"'external', \"\n",
      "                                                                           \"'notify3', \"\n",
      "                                                                           \"'timer4', \"\n",
      "                                                                           \"'bus', \"\n",
      "                                                                           \"'front-panel', \"\n",
      "                                                                           \"'timer3', \"\n",
      "                                                                           \"'notify2', \"\n",
      "                                                                           \"'immediate', \"\n",
      "                                                                           \"'notify1'}>\",\n",
      "                                                                   'value': 'immediate'},\n",
      "                                               'trigger2_delay': {'__class__': 'qcodes.parameters.parameter.Parameter',\n",
      "                                                                  'full_name': 'keithley_1_trigger2_delay',\n",
      "                                                                  'instrument': 'qcodes.instrument_drivers.tektronix.Keithley_6500.Keithley_6500',\n",
      "                                                                  'instrument_name': 'keithley_1',\n",
      "                                                                  'inter_delay': 0,\n",
      "                                                                  'label': 'trigger2_delay',\n",
      "                                                                  'name': 'trigger2_delay',\n",
      "                                                                  'post_delay': 0,\n",
      "                                                                  'raw_value': '1E-05',\n",
      "                                                                  'ts': '2024-07-18 '\n",
      "                                                                        '11:54:47',\n",
      "                                                                  'unit': 's',\n",
      "                                                                  'vals': '<Numbers '\n",
      "                                                                          '0<=v<=999999.999>',\n",
      "                                                                  'value': 1e-05},\n",
      "                                               'trigger2_source': {'__class__': 'qcodes.parameters.parameter.Parameter',\n",
      "                                                                   'full_name': 'keithley_1_trigger2_source',\n",
      "                                                                   'instrument': 'qcodes.instrument_drivers.tektronix.Keithley_6500.Keithley_6500',\n",
      "                                                                   'instrument_name': 'keithley_1',\n",
      "                                                                   'inter_delay': 0,\n",
      "                                                                   'label': 'trigger2_source',\n",
      "                                                                   'name': 'trigger2_source',\n",
      "                                                                   'post_delay': 0,\n",
      "                                                                   'raw_value': 'NONE',\n",
      "                                                                   'ts': '2024-07-18 '\n",
      "                                                                         '11:54:47',\n",
      "                                                                   'unit': '',\n",
      "                                                                   'val_mapping': {'bus': 'COMM',\n",
      "                                                                                   'external': 'EXT',\n",
      "                                                                                   'front-panel': 'DISP',\n",
      "                                                                                   'immediate': 'NONE',\n",
      "                                                                                   'notify1': 'NOT1',\n",
      "                                                                                   'notify2': 'NOT2',\n",
      "                                                                                   'notify3': 'NOT3',\n",
      "                                                                                   'timer1': 'TIM1',\n",
      "                                                                                   'timer2': 'TIM2',\n",
      "                                                                                   'timer3': 'TIM3',\n",
      "                                                                                   'timer4': 'TIM4'},\n",
      "                                                                   'vals': '<Enum: '\n",
      "                                                                           \"{'timer2', \"\n",
      "                                                                           \"'timer1', \"\n",
      "                                                                           \"'external', \"\n",
      "                                                                           \"'notify3', \"\n",
      "                                                                           \"'timer4', \"\n",
      "                                                                           \"'bus', \"\n",
      "                                                                           \"'front-panel', \"\n",
      "                                                                           \"'timer3', \"\n",
      "                                                                           \"'notify2', \"\n",
      "                                                                           \"'immediate', \"\n",
      "                                                                           \"'notify1'}>\",\n",
      "                                                                   'value': 'immediate'},\n",
      "                                               'trigger3_delay': {'__class__': 'qcodes.parameters.parameter.Parameter',\n",
      "                                                                  'full_name': 'keithley_1_trigger3_delay',\n",
      "                                                                  'instrument': 'qcodes.instrument_drivers.tektronix.Keithley_6500.Keithley_6500',\n",
      "                                                                  'instrument_name': 'keithley_1',\n",
      "                                                                  'inter_delay': 0,\n",
      "                                                                  'label': 'trigger3_delay',\n",
      "                                                                  'name': 'trigger3_delay',\n",
      "                                                                  'post_delay': 0,\n",
      "                                                                  'raw_value': '1E-05',\n",
      "                                                                  'ts': '2024-07-18 '\n",
      "                                                                        '11:54:47',\n",
      "                                                                  'unit': 's',\n",
      "                                                                  'vals': '<Numbers '\n",
      "                                                                          '0<=v<=999999.999>',\n",
      "                                                                  'value': 1e-05},\n",
      "                                               'trigger3_source': {'__class__': 'qcodes.parameters.parameter.Parameter',\n",
      "                                                                   'full_name': 'keithley_1_trigger3_source',\n",
      "                                                                   'instrument': 'qcodes.instrument_drivers.tektronix.Keithley_6500.Keithley_6500',\n",
      "                                                                   'instrument_name': 'keithley_1',\n",
      "                                                                   'inter_delay': 0,\n",
      "                                                                   'label': 'trigger3_source',\n",
      "                                                                   'name': 'trigger3_source',\n",
      "                                                                   'post_delay': 0,\n",
      "                                                                   'raw_value': 'NONE',\n",
      "                                                                   'ts': '2024-07-18 '\n",
      "                                                                         '11:54:47',\n",
      "                                                                   'unit': '',\n",
      "                                                                   'val_mapping': {'bus': 'COMM',\n",
      "                                                                                   'external': 'EXT',\n",
      "                                                                                   'front-panel': 'DISP',\n",
      "                                                                                   'immediate': 'NONE',\n",
      "                                                                                   'notify1': 'NOT1',\n",
      "                                                                                   'notify2': 'NOT2',\n",
      "                                                                                   'notify3': 'NOT3',\n",
      "                                                                                   'timer1': 'TIM1',\n",
      "                                                                                   'timer2': 'TIM2',\n",
      "                                                                                   'timer3': 'TIM3',\n",
      "                                                                                   'timer4': 'TIM4'},\n",
      "                                                                   'vals': '<Enum: '\n",
      "                                                                           \"{'timer2', \"\n",
      "                                                                           \"'timer1', \"\n",
      "                                                                           \"'external', \"\n",
      "                                                                           \"'notify3', \"\n",
      "                                                                           \"'timer4', \"\n",
      "                                                                           \"'bus', \"\n",
      "                                                                           \"'front-panel', \"\n",
      "                                                                           \"'timer3', \"\n",
      "                                                                           \"'notify2', \"\n",
      "                                                                           \"'immediate', \"\n",
      "                                                                           \"'notify1'}>\",\n",
      "                                                                   'value': 'immediate'},\n",
      "                                               'trigger4_delay': {'__class__': 'qcodes.parameters.parameter.Parameter',\n",
      "                                                                  'full_name': 'keithley_1_trigger4_delay',\n",
      "                                                                  'instrument': 'qcodes.instrument_drivers.tektronix.Keithley_6500.Keithley_6500',\n",
      "                                                                  'instrument_name': 'keithley_1',\n",
      "                                                                  'inter_delay': 0,\n",
      "                                                                  'label': 'trigger4_delay',\n",
      "                                                                  'name': 'trigger4_delay',\n",
      "                                                                  'post_delay': 0,\n",
      "                                                                  'raw_value': '1E-05',\n",
      "                                                                  'ts': '2024-07-18 '\n",
      "                                                                        '11:54:47',\n",
      "                                                                  'unit': 's',\n",
      "                                                                  'vals': '<Numbers '\n",
      "                                                                          '0<=v<=999999.999>',\n",
      "                                                                  'value': 1e-05},\n",
      "                                               'trigger4_source': {'__class__': 'qcodes.parameters.parameter.Parameter',\n",
      "                                                                   'full_name': 'keithley_1_trigger4_source',\n",
      "                                                                   'instrument': 'qcodes.instrument_drivers.tektronix.Keithley_6500.Keithley_6500',\n",
      "                                                                   'instrument_name': 'keithley_1',\n",
      "                                                                   'inter_delay': 0,\n",
      "                                                                   'label': 'trigger4_source',\n",
      "                                                                   'name': 'trigger4_source',\n",
      "                                                                   'post_delay': 0,\n",
      "                                                                   'raw_value': 'NONE',\n",
      "                                                                   'ts': '2024-07-18 '\n",
      "                                                                         '11:54:47',\n",
      "                                                                   'unit': '',\n",
      "                                                                   'val_mapping': {'bus': 'COMM',\n",
      "                                                                                   'external': 'EXT',\n",
      "                                                                                   'front-panel': 'DISP',\n",
      "                                                                                   'immediate': 'NONE',\n",
      "                                                                                   'notify1': 'NOT1',\n",
      "                                                                                   'notify2': 'NOT2',\n",
      "                                                                                   'notify3': 'NOT3',\n",
      "                                                                                   'timer1': 'TIM1',\n",
      "                                                                                   'timer2': 'TIM2',\n",
      "                                                                                   'timer3': 'TIM3',\n",
      "                                                                                   'timer4': 'TIM4'},\n",
      "                                                                   'vals': '<Enum: '\n",
      "                                                                           \"{'timer2', \"\n",
      "                                                                           \"'timer1', \"\n",
      "                                                                           \"'external', \"\n",
      "                                                                           \"'notify3', \"\n",
      "                                                                           \"'timer4', \"\n",
      "                                                                           \"'bus', \"\n",
      "                                                                           \"'front-panel', \"\n",
      "                                                                           \"'timer3', \"\n",
      "                                                                           \"'notify2', \"\n",
      "                                                                           \"'immediate', \"\n",
      "                                                                           \"'notify1'}>\",\n",
      "                                                                   'value': 'immediate'},\n",
      "                                               'trigger_count': {'__class__': 'qcodes.parameters.parameter.Parameter',\n",
      "                                                                 'full_name': 'keithley_1_trigger_count',\n",
      "                                                                 'instrument': 'qcodes.instrument_drivers.tektronix.Keithley_6500.Keithley_6500',\n",
      "                                                                 'instrument_name': 'keithley_1',\n",
      "                                                                 'inter_delay': 0,\n",
      "                                                                 'label': 'trigger_count',\n",
      "                                                                 'name': 'trigger_count',\n",
      "                                                                 'post_delay': 0,\n",
      "                                                                 'raw_value': '1',\n",
      "                                                                 'ts': '2024-07-18 '\n",
      "                                                                       '11:54:47',\n",
      "                                                                 'unit': '',\n",
      "                                                                 'vals': '<MultiType: '\n",
      "                                                                         'Ints '\n",
      "                                                                         '1<=v<=9999, '\n",
      "                                                                         'Enum: '\n",
      "                                                                         \"{'minimum', \"\n",
      "                                                                         \"'inf', \"\n",
      "                                                                         \"'maximum', \"\n",
      "                                                                         \"'default'}>\",\n",
      "                                                                 'value': 1},\n",
      "                                               'trigger_timer': {'__class__': 'qcodes.parameters.parameter.Parameter',\n",
      "                                                                 'full_name': 'keithley_1_trigger_timer',\n",
      "                                                                 'instrument': 'qcodes.instrument_drivers.tektronix.Keithley_6500.Keithley_6500',\n",
      "                                                                 'instrument_name': 'keithley_1',\n",
      "                                                                 'inter_delay': 0,\n",
      "                                                                 'label': 'trigger_timer',\n",
      "                                                                 'name': 'trigger_timer',\n",
      "                                                                 'post_delay': 0,\n",
      "                                                                 'raw_value': '0',\n",
      "                                                                 'ts': '2024-07-18 '\n",
      "                                                                       '11:54:47',\n",
      "                                                                 'unit': 's',\n",
      "                                                                 'vals': '<Numbers '\n",
      "                                                                         '0<=v<=999999.999>',\n",
      "                                                                 'value': 0.0}},\n",
      "                                'read_terminator': '\\n',\n",
      "                                'submodules': {},\n",
      "                                'terminator': '\\n',\n",
      "                                'timeout': 10.0,\n",
      "                                'write_terminator': '\\n'},\n",
      "                 'lockin_1': {'__class__': 'qcodes.instrument_drivers.stanford_research.SR860.SR860',\n",
      "                              'address': 'GPIB0::5::INSTR',\n",
      "                              'functions': {'auto_phase': {},\n",
      "                                            'auto_range': {},\n",
      "                                            'auto_scale': {},\n",
      "                                            'disable_front_panel': {},\n",
      "                                            'enable_front_panel': {},\n",
      "                                            'reset': {}},\n",
      "                              'label': 'lockin_1',\n",
      "                              'name': 'lockin_1',\n",
      "                              'parameters': {'IDN': {'__class__': 'qcodes.parameters.parameter.Parameter',\n",
      "                                                     'full_name': 'lockin_1_IDN',\n",
      "                                                     'instrument': 'qcodes.instrument_drivers.stanford_research.SR860.SR860',\n",
      "                                                     'instrument_name': 'lockin_1',\n",
      "                                                     'inter_delay': 0,\n",
      "                                                     'label': 'IDN',\n",
      "                                                     'name': 'IDN',\n",
      "                                                     'post_delay': 0,\n",
      "                                                     'raw_value': {'firmware': 'V1.51',\n",
      "                                                                   'model': 'SR860',\n",
      "                                                                   'serial': '004608',\n",
      "                                                                   'vendor': 'Stanford_Research_Systems'},\n",
      "                                                     'ts': '2024-07-18 '\n",
      "                                                           '11:54:47',\n",
      "                                                     'unit': '',\n",
      "                                                     'vals': '<Anything>',\n",
      "                                                     'value': {'firmware': 'V1.51',\n",
      "                                                               'model': 'SR860',\n",
      "                                                               'serial': '004608',\n",
      "                                                               'vendor': 'Stanford_Research_Systems'}},\n",
      "                                             'P': {'__class__': 'qcodes.parameters.parameter.Parameter',\n",
      "                                                   'full_name': 'lockin_1_P',\n",
      "                                                   'instrument': 'qcodes.instrument_drivers.stanford_research.SR860.SR860',\n",
      "                                                   'instrument_name': 'lockin_1',\n",
      "                                                   'inter_delay': 0,\n",
      "                                                   'label': 'Phase',\n",
      "                                                   'name': 'P',\n",
      "                                                   'post_delay': 0,\n",
      "                                                   'raw_value': '-179.90892029',\n",
      "                                                   'ts': '2024-07-18 11:54:47',\n",
      "                                                   'unit': 'deg',\n",
      "                                                   'value': -179.90892029},\n",
      "                                             'R': {'__class__': 'qcodes.parameters.parameter.Parameter',\n",
      "                                                   'full_name': 'lockin_1_R',\n",
      "                                                   'instrument': 'qcodes.instrument_drivers.stanford_research.SR860.SR860',\n",
      "                                                   'instrument_name': 'lockin_1',\n",
      "                                                   'inter_delay': 0,\n",
      "                                                   'label': 'Magnitude',\n",
      "                                                   'name': 'R',\n",
      "                                                   'post_delay': 0,\n",
      "                                                   'raw_value': '0.0089590819553',\n",
      "                                                   'ts': '2024-07-18 11:54:47',\n",
      "                                                   'unit': 'V',\n",
      "                                                   'value': 0.0089590819553},\n",
      "                                             'R_expand': {'__class__': 'qcodes.parameters.parameter.Parameter',\n",
      "                                                          'full_name': 'lockin_1_R_expand',\n",
      "                                                          'instrument': 'qcodes.instrument_drivers.stanford_research.SR860.SR860',\n",
      "                                                          'instrument_name': 'lockin_1',\n",
      "                                                          'inter_delay': 0,\n",
      "                                                          'label': 'R expand '\n",
      "                                                                   'multiplier',\n",
      "                                                          'name': 'R_expand',\n",
      "                                                          'post_delay': 0,\n",
      "                                                          'raw_value': '0',\n",
      "                                                          'ts': '2024-07-18 '\n",
      "                                                                '11:54:48',\n",
      "                                                          'unit': '',\n",
      "                                                          'val_mapping': {'OFF': 0,\n",
      "                                                                          'X10': 1,\n",
      "                                                                          'X100': 2},\n",
      "                                                          'vals': '<Enum: '\n",
      "                                                                  \"{'OFF', \"\n",
      "                                                                  \"'X10', \"\n",
      "                                                                  \"'X100'}>\",\n",
      "                                                          'value': 'OFF'},\n",
      "                                             'R_offset': {'__class__': 'qcodes.parameters.parameter.Parameter',\n",
      "                                                          'full_name': 'lockin_1_R_offset',\n",
      "                                                          'instrument': 'qcodes.instrument_drivers.stanford_research.SR860.SR860',\n",
      "                                                          'instrument_name': 'lockin_1',\n",
      "                                                          'inter_delay': 0,\n",
      "                                                          'label': 'R offset',\n",
      "                                                          'name': 'R_offset',\n",
      "                                                          'post_delay': 0,\n",
      "                                                          'raw_value': '18.559999466',\n",
      "                                                          'ts': '2024-07-18 '\n",
      "                                                                '11:54:48',\n",
      "                                                          'unit': '%',\n",
      "                                                          'vals': '<Numbers '\n",
      "                                                                  '-999.99<=v<=999.99>',\n",
      "                                                          'value': 18.559999466},\n",
      "                                             'X': {'__class__': 'qcodes.parameters.parameter.Parameter',\n",
      "                                                   'full_name': 'lockin_1_X',\n",
      "                                                   'instrument': 'qcodes.instrument_drivers.stanford_research.SR860.SR860',\n",
      "                                                   'instrument_name': 'lockin_1',\n",
      "                                                   'inter_delay': 0,\n",
      "                                                   'label': 'In-phase '\n",
      "                                                            'Magnitude',\n",
      "                                                   'name': 'X',\n",
      "                                                   'post_delay': 0,\n",
      "                                                   'raw_value': '-0.0089590400457',\n",
      "                                                   'ts': '2024-07-18 11:54:47',\n",
      "                                                   'unit': 'V',\n",
      "                                                   'value': -0.0089590400457},\n",
      "                                             'X_expand': {'__class__': 'qcodes.parameters.parameter.Parameter',\n",
      "                                                          'full_name': 'lockin_1_X_expand',\n",
      "                                                          'instrument': 'qcodes.instrument_drivers.stanford_research.SR860.SR860',\n",
      "                                                          'instrument_name': 'lockin_1',\n",
      "                                                          'inter_delay': 0,\n",
      "                                                          'label': 'X expand '\n",
      "                                                                   'multiplier',\n",
      "                                                          'name': 'X_expand',\n",
      "                                                          'post_delay': 0,\n",
      "                                                          'raw_value': '0',\n",
      "                                                          'ts': '2024-07-18 '\n",
      "                                                                '11:54:48',\n",
      "                                                          'unit': '',\n",
      "                                                          'val_mapping': {'OFF': '0',\n",
      "                                                                          'X10': '1',\n",
      "                                                                          'X100': '2'},\n",
      "                                                          'vals': '<Enum: '\n",
      "                                                                  \"{'OFF', \"\n",
      "                                                                  \"'X10', \"\n",
      "                                                                  \"'X100'}>\",\n",
      "                                                          'value': 'OFF'},\n",
      "                                             'X_offset': {'__class__': 'qcodes.parameters.parameter.Parameter',\n",
      "                                                          'full_name': 'lockin_1_X_offset',\n",
      "                                                          'instrument': 'qcodes.instrument_drivers.stanford_research.SR860.SR860',\n",
      "                                                          'instrument_name': 'lockin_1',\n",
      "                                                          'inter_delay': 0,\n",
      "                                                          'label': 'X offset ',\n",
      "                                                          'name': 'X_offset',\n",
      "                                                          'post_delay': 0,\n",
      "                                                          'raw_value': '0.79999995232',\n",
      "                                                          'ts': '2024-07-18 '\n",
      "                                                                '11:54:48',\n",
      "                                                          'unit': '%',\n",
      "                                                          'vals': '<Numbers '\n",
      "                                                                  '-999.99<=v<=999.99>',\n",
      "                                                          'value': 0.79999995232},\n",
      "                                             'Y': {'__class__': 'qcodes.parameters.parameter.Parameter',\n",
      "                                                   'full_name': 'lockin_1_Y',\n",
      "                                                   'instrument': 'qcodes.instrument_drivers.stanford_research.SR860.SR860',\n",
      "                                                   'instrument_name': 'lockin_1',\n",
      "                                                   'inter_delay': 0,\n",
      "                                                   'label': 'Out-phase '\n",
      "                                                            'Magnitude',\n",
      "                                                   'name': 'Y',\n",
      "                                                   'post_delay': 0,\n",
      "                                                   'raw_value': '-1.4236306015e-05',\n",
      "                                                   'ts': '2024-07-18 11:54:47',\n",
      "                                                   'unit': 'V',\n",
      "                                                   'value': -1.4236306015e-05},\n",
      "                                             'Y_expand': {'__class__': 'qcodes.parameters.parameter.Parameter',\n",
      "                                                          'full_name': 'lockin_1_Y_expand',\n",
      "                                                          'instrument': 'qcodes.instrument_drivers.stanford_research.SR860.SR860',\n",
      "                                                          'instrument_name': 'lockin_1',\n",
      "                                                          'inter_delay': 0,\n",
      "                                                          'label': 'Y expand '\n",
      "                                                                   'multiplier',\n",
      "                                                          'name': 'Y_expand',\n",
      "                                                          'post_delay': 0,\n",
      "                                                          'raw_value': '1',\n",
      "                                                          'ts': '2024-07-18 '\n",
      "                                                                '11:54:48',\n",
      "                                                          'unit': '',\n",
      "                                                          'val_mapping': {'OFF': 0,\n",
      "                                                                          'X10': 1,\n",
      "                                                                          'X100': 2},\n",
      "                                                          'vals': '<Enum: '\n",
      "                                                                  \"{'OFF', \"\n",
      "                                                                  \"'X10', \"\n",
      "                                                                  \"'X100'}>\",\n",
      "                                                          'value': 'X10'},\n",
      "                                             'Y_offset': {'__class__': 'qcodes.parameters.parameter.Parameter',\n",
      "                                                          'full_name': 'lockin_1_Y_offset',\n",
      "                                                          'instrument': 'qcodes.instrument_drivers.stanford_research.SR860.SR860',\n",
      "                                                          'instrument_name': 'lockin_1',\n",
      "                                                          'inter_delay': 0,\n",
      "                                                          'label': 'Y offset',\n",
      "                                                          'name': 'Y_offset',\n",
      "                                                          'post_delay': 0,\n",
      "                                                          'raw_value': '0',\n",
      "                                                          'ts': '2024-07-18 '\n",
      "                                                                '11:54:48',\n",
      "                                                          'unit': '%',\n",
      "                                                          'vals': '<Numbers '\n",
      "                                                                  '-999.99<=v<=999.99>',\n",
      "                                                          'value': 0.0},\n",
      "                                             'adv_filter': {'__class__': 'qcodes.parameters.parameter.Parameter',\n",
      "                                                            'full_name': 'lockin_1_adv_filter',\n",
      "                                                            'instrument': 'qcodes.instrument_drivers.stanford_research.SR860.SR860',\n",
      "                                                            'instrument_name': 'lockin_1',\n",
      "                                                            'inter_delay': 0,\n",
      "                                                            'label': 'Advanced '\n",
      "                                                                     'filter',\n",
      "                                                            'name': 'adv_filter',\n",
      "                                                            'post_delay': 0,\n",
      "                                                            'raw_value': '0',\n",
      "                                                            'ts': '2024-07-18 '\n",
      "                                                                  '11:54:47',\n",
      "                                                            'unit': '',\n",
      "                                                            'val_mapping': {'OFF': 0,\n",
      "                                                                            'ON': 1},\n",
      "                                                            'vals': '<Enum: '\n",
      "                                                                    \"{'OFF', \"\n",
      "                                                                    \"'ON'}>\",\n",
      "                                                            'value': 'OFF'},\n",
      "                                             'amplitude': {'__class__': 'qcodes.parameters.parameter.Parameter',\n",
      "                                                           'full_name': 'lockin_1_amplitude',\n",
      "                                                           'instrument': 'qcodes.instrument_drivers.stanford_research.SR860.SR860',\n",
      "                                                           'instrument_name': 'lockin_1',\n",
      "                                                           'inter_delay': 0,\n",
      "                                                           'label': 'Amplitude',\n",
      "                                                           'name': 'amplitude',\n",
      "                                                           'post_delay': 0,\n",
      "                                                           'raw_value': '0.0099999997765',\n",
      "                                                           'ts': '2024-07-18 '\n",
      "                                                                 '11:54:47',\n",
      "                                                           'unit': 'V',\n",
      "                                                           'vals': '<Numbers '\n",
      "                                                                   '0<=v<=2>',\n",
      "                                                           'value': 0.0099999997765},\n",
      "                                             'aux_in0': {'__class__': 'qcodes.parameters.parameter.Parameter',\n",
      "                                                         'full_name': 'lockin_1_aux_in0',\n",
      "                                                         'instrument': 'qcodes.instrument_drivers.stanford_research.SR860.SR860',\n",
      "                                                         'instrument_name': 'lockin_1',\n",
      "                                                         'inter_delay': 0,\n",
      "                                                         'label': 'Aux input 0',\n",
      "                                                         'name': 'aux_in0',\n",
      "                                                         'post_delay': 0,\n",
      "                                                         'raw_value': '-0.0014147758484',\n",
      "                                                         'ts': '2024-07-18 '\n",
      "                                                               '11:54:48',\n",
      "                                                         'unit': 'V',\n",
      "                                                         'value': -0.0014147758484},\n",
      "                                             'aux_in1': {'__class__': 'qcodes.parameters.parameter.Parameter',\n",
      "                                                         'full_name': 'lockin_1_aux_in1',\n",
      "                                                         'instrument': 'qcodes.instrument_drivers.stanford_research.SR860.SR860',\n",
      "                                                         'instrument_name': 'lockin_1',\n",
      "                                                         'inter_delay': 0,\n",
      "                                                         'label': 'Aux input 1',\n",
      "                                                         'name': 'aux_in1',\n",
      "                                                         'post_delay': 0,\n",
      "                                                         'raw_value': '-0.0016379356384',\n",
      "                                                         'ts': '2024-07-18 '\n",
      "                                                               '11:54:48',\n",
      "                                                         'unit': 'V',\n",
      "                                                         'value': -0.0016379356384},\n",
      "                                             'aux_in2': {'__class__': 'qcodes.parameters.parameter.Parameter',\n",
      "                                                         'full_name': 'lockin_1_aux_in2',\n",
      "                                                         'instrument': 'qcodes.instrument_drivers.stanford_research.SR860.SR860',\n",
      "                                                         'instrument_name': 'lockin_1',\n",
      "                                                         'inter_delay': 0,\n",
      "                                                         'label': 'Aux input 2',\n",
      "                                                         'name': 'aux_in2',\n",
      "                                                         'post_delay': 0,\n",
      "                                                         'raw_value': '-0.0014626979828',\n",
      "                                                         'ts': '2024-07-18 '\n",
      "                                                               '11:54:48',\n",
      "                                                         'unit': 'V',\n",
      "                                                         'value': -0.0014626979828},\n",
      "                                             'aux_in3': {'__class__': 'qcodes.parameters.parameter.Parameter',\n",
      "                                                         'full_name': 'lockin_1_aux_in3',\n",
      "                                                         'instrument': 'qcodes.instrument_drivers.stanford_research.SR860.SR860',\n",
      "                                                         'instrument_name': 'lockin_1',\n",
      "                                                         'inter_delay': 0,\n",
      "                                                         'label': 'Aux input 3',\n",
      "                                                         'name': 'aux_in3',\n",
      "                                                         'post_delay': 0,\n",
      "                                                         'raw_value': '-0.0013754367828',\n",
      "                                                         'ts': '2024-07-18 '\n",
      "                                                               '11:54:48',\n",
      "                                                         'unit': 'V',\n",
      "                                                         'value': -0.0013754367828},\n",
      "                                             'aux_out0': {'__class__': 'qcodes.parameters.parameter.Parameter',\n",
      "                                                          'full_name': 'lockin_1_aux_out0',\n",
      "                                                          'instrument': 'qcodes.instrument_drivers.stanford_research.SR860.SR860',\n",
      "                                                          'instrument_name': 'lockin_1',\n",
      "                                                          'inter_delay': 0,\n",
      "                                                          'label': 'Aux output '\n",
      "                                                                   '0',\n",
      "                                                          'name': 'aux_out0',\n",
      "                                                          'post_delay': 0,\n",
      "                                                          'raw_value': '0',\n",
      "                                                          'ts': '2024-07-18 '\n",
      "                                                                '11:54:48',\n",
      "                                                          'unit': 'V',\n",
      "                                                          'value': 0.0},\n",
      "                                             'aux_out1': {'__class__': 'qcodes.parameters.parameter.Parameter',\n",
      "                                                          'full_name': 'lockin_1_aux_out1',\n",
      "                                                          'instrument': 'qcodes.instrument_drivers.stanford_research.SR860.SR860',\n",
      "                                                          'instrument_name': 'lockin_1',\n",
      "                                                          'inter_delay': 0,\n",
      "                                                          'label': 'Aux output '\n",
      "                                                                   '1',\n",
      "                                                          'name': 'aux_out1',\n",
      "                                                          'post_delay': 0,\n",
      "                                                          'raw_value': '0',\n",
      "                                                          'ts': '2024-07-18 '\n",
      "                                                                '11:54:48',\n",
      "                                                          'unit': 'V',\n",
      "                                                          'value': 0.0},\n",
      "                                             'aux_out2': {'__class__': 'qcodes.parameters.parameter.Parameter',\n",
      "                                                          'full_name': 'lockin_1_aux_out2',\n",
      "                                                          'instrument': 'qcodes.instrument_drivers.stanford_research.SR860.SR860',\n",
      "                                                          'instrument_name': 'lockin_1',\n",
      "                                                          'inter_delay': 0,\n",
      "                                                          'label': 'Aux output '\n",
      "                                                                   '2',\n",
      "                                                          'name': 'aux_out2',\n",
      "                                                          'post_delay': 0,\n",
      "                                                          'raw_value': '0',\n",
      "                                                          'ts': '2024-07-18 '\n",
      "                                                                '11:54:48',\n",
      "                                                          'unit': 'V',\n",
      "                                                          'value': 0.0},\n",
      "                                             'aux_out3': {'__class__': 'qcodes.parameters.parameter.Parameter',\n",
      "                                                          'full_name': 'lockin_1_aux_out3',\n",
      "                                                          'instrument': 'qcodes.instrument_drivers.stanford_research.SR860.SR860',\n",
      "                                                          'instrument_name': 'lockin_1',\n",
      "                                                          'inter_delay': 0,\n",
      "                                                          'label': 'Aux output '\n",
      "                                                                   '3',\n",
      "                                                          'name': 'aux_out3',\n",
      "                                                          'post_delay': 0,\n",
      "                                                          'raw_value': '0',\n",
      "                                                          'ts': '2024-07-18 '\n",
      "                                                                '11:54:48',\n",
      "                                                          'unit': 'V',\n",
      "                                                          'value': 0.0},\n",
      "                                             'complex_voltage': {'__class__': 'qcodes.parameters.parameter.Parameter',\n",
      "                                                                 'full_name': 'lockin_1_complex_voltage',\n",
      "                                                                 'instrument': 'qcodes.instrument_drivers.stanford_research.SR860.SR860',\n",
      "                                                                 'instrument_name': 'lockin_1',\n",
      "                                                                 'inter_delay': 0,\n",
      "                                                                 'label': 'Voltage',\n",
      "                                                                 'name': 'complex_voltage',\n",
      "                                                                 'post_delay': 0,\n",
      "                                                                 'raw_value': (-0.0089591033757-1.4244210433e-05j),\n",
      "                                                                 'ts': '2024-07-18 '\n",
      "                                                                       '11:54:48',\n",
      "                                                                 'unit': 'V',\n",
      "                                                                 'vals': '<Complex '\n",
      "                                                                         'Number>',\n",
      "                                                                 'value': (-0.0089591033757-1.4244210433e-05j)},\n",
      "                                             'external_reference_trigger': {'__class__': 'qcodes.parameters.parameter.Parameter',\n",
      "                                                                            'full_name': 'lockin_1_external_reference_trigger',\n",
      "                                                                            'instrument': 'qcodes.instrument_drivers.stanford_research.SR860.SR860',\n",
      "                                                                            'instrument_name': 'lockin_1',\n",
      "                                                                            'inter_delay': 0,\n",
      "                                                                            'label': 'External '\n",
      "                                                                                     'reference '\n",
      "                                                                                     'trigger '\n",
      "                                                                                     'mode',\n",
      "                                                                            'name': 'external_reference_trigger',\n",
      "                                                                            'post_delay': 0,\n",
      "                                                                            'raw_value': '0',\n",
      "                                                                            'ts': '2024-07-18 '\n",
      "                                                                                  '11:54:47',\n",
      "                                                                            'unit': '',\n",
      "                                                                            'val_mapping': {'NEG': 2,\n",
      "                                                                                            'NEGTTL': 2,\n",
      "                                                                                            'POS': 1,\n",
      "                                                                                            'POSTTL': 1,\n",
      "                                                                                            'SIN': 0},\n",
      "                                                                            'vals': '<Enum: '\n",
      "                                                                                    \"{'SIN', \"\n",
      "                                                                                    \"'POSTTL', \"\n",
      "                                                                                    \"'POS', \"\n",
      "                                                                                    \"'NEGTTL', \"\n",
      "                                                                                    \"'NEG'}>\",\n",
      "                                                                            'value': 'SIN'},\n",
      "                                             'external_reference_trigger_input_resistance': {'__class__': 'qcodes.parameters.parameter.Parameter',\n",
      "                                                                                             'full_name': 'lockin_1_external_reference_trigger_input_resistance',\n",
      "                                                                                             'instrument': 'qcodes.instrument_drivers.stanford_research.SR860.SR860',\n",
      "                                                                                             'instrument_name': 'lockin_1',\n",
      "                                                                                             'inter_delay': 0,\n",
      "                                                                                             'label': 'External '\n",
      "                                                                                                      'reference '\n",
      "                                                                                                      'trigger '\n",
      "                                                                                                      'input '\n",
      "                                                                                                      'resistance',\n",
      "                                                                                             'name': 'external_reference_trigger_input_resistance',\n",
      "                                                                                             'post_delay': 0,\n",
      "                                                                                             'raw_value': '1',\n",
      "                                                                                             'ts': '2024-07-18 '\n",
      "                                                                                                   '11:54:47',\n",
      "                                                                                             'unit': '',\n",
      "                                                                                             'val_mapping': {0: 0,\n",
      "                                                                                                             1: 1,\n",
      "                                                                                                             '1M': 1,\n",
      "                                                                                                             '1MEG': 1,\n",
      "                                                                                                             '50': 0,\n",
      "                                                                                                             '50OHMS': 0},\n",
      "                                                                                             'vals': '<Enum: '\n",
      "                                                                                                     '{0, '\n",
      "                                                                                                     '1, '\n",
      "                                                                                                     \"'1MEG', \"\n",
      "                                                                                                     \"'50OHMS', \"\n",
      "                                                                                                     \"'50', \"\n",
      "                                                                                                     \"'1M'}>\",\n",
      "                                                                                             'value': 1},\n",
      "                                             'filter_slope': {'__class__': 'qcodes.parameters.parameter.Parameter',\n",
      "                                                              'full_name': 'lockin_1_filter_slope',\n",
      "                                                              'instrument': 'qcodes.instrument_drivers.stanford_research.SR860.SR860',\n",
      "                                                              'instrument_name': 'lockin_1',\n",
      "                                                              'inter_delay': 0,\n",
      "                                                              'label': 'Filter '\n",
      "                                                                       'slope',\n",
      "                                                              'name': 'filter_slope',\n",
      "                                                              'post_delay': 0,\n",
      "                                                              'raw_value': '1',\n",
      "                                                              'ts': '2024-07-18 '\n",
      "                                                                    '11:54:47',\n",
      "                                                              'unit': 'dB/oct',\n",
      "                                                              'val_mapping': {6: 0,\n",
      "                                                                              12: 1,\n",
      "                                                                              18: 2,\n",
      "                                                                              24: 3},\n",
      "                                                              'vals': '<Enum: '\n",
      "                                                                      '{24, '\n",
      "                                                                      '18, 12, '\n",
      "                                                                      '6}>',\n",
      "                                                              'value': 12},\n",
      "                                             'frequency': {'__class__': 'qcodes.parameters.parameter.Parameter',\n",
      "                                                           'full_name': 'lockin_1_frequency',\n",
      "                                                           'instrument': 'qcodes.instrument_drivers.stanford_research.SR860.SR860',\n",
      "                                                           'instrument_name': 'lockin_1',\n",
      "                                                           'inter_delay': 0,\n",
      "                                                           'label': 'Frequency',\n",
      "                                                           'name': 'frequency',\n",
      "                                                           'post_delay': 0,\n",
      "                                                           'raw_value': '753.498',\n",
      "                                                           'ts': '2024-07-18 '\n",
      "                                                                 '11:54:47',\n",
      "                                                           'unit': 'Hz',\n",
      "                                                           'vals': '<Numbers '\n",
      "                                                                   '0.001<=v<=500000.0>',\n",
      "                                                           'value': 753.498},\n",
      "                                             'harmonic': {'__class__': 'qcodes.parameters.parameter.Parameter',\n",
      "                                                          'full_name': 'lockin_1_harmonic',\n",
      "                                                          'instrument': 'qcodes.instrument_drivers.stanford_research.SR860.SR860',\n",
      "                                                          'instrument_name': 'lockin_1',\n",
      "                                                          'inter_delay': 0,\n",
      "                                                          'label': 'Harmonic',\n",
      "                                                          'name': 'harmonic',\n",
      "                                                          'post_delay': 0,\n",
      "                                                          'raw_value': '1',\n",
      "                                                          'ts': '2024-07-18 '\n",
      "                                                                '11:54:47',\n",
      "                                                          'unit': '',\n",
      "                                                          'vals': '<Ints '\n",
      "                                                                  '1<=v<=99>',\n",
      "                                                          'value': 1},\n",
      "                                             'input_config': {'__class__': 'qcodes.parameters.parameter.Parameter',\n",
      "                                                              'full_name': 'lockin_1_input_config',\n",
      "                                                              'instrument': 'qcodes.instrument_drivers.stanford_research.SR860.SR860',\n",
      "                                                              'instrument_name': 'lockin_1',\n",
      "                                                              'inter_delay': 0,\n",
      "                                                              'label': 'Input '\n",
      "                                                                       'configuration',\n",
      "                                                              'name': 'input_config',\n",
      "                                                              'post_delay': 0,\n",
      "                                                              'raw_value': '1',\n",
      "                                                              'ts': '2024-07-18 '\n",
      "                                                                    '11:54:47',\n",
      "                                                              'unit': '',\n",
      "                                                              'val_mapping': {'a': 0,\n",
      "                                                                              'a-b': 1},\n",
      "                                                              'vals': '<Enum: '\n",
      "                                                                      \"{'a-b', \"\n",
      "                                                                      \"'a'}>\",\n",
      "                                                              'value': 'a-b'},\n",
      "                                             'input_coupling': {'__class__': 'qcodes.parameters.parameter.Parameter',\n",
      "                                                                'full_name': 'lockin_1_input_coupling',\n",
      "                                                                'instrument': 'qcodes.instrument_drivers.stanford_research.SR860.SR860',\n",
      "                                                                'instrument_name': 'lockin_1',\n",
      "                                                                'inter_delay': 0,\n",
      "                                                                'label': 'Input '\n",
      "                                                                         'coupling',\n",
      "                                                                'name': 'input_coupling',\n",
      "                                                                'post_delay': 0,\n",
      "                                                                'raw_value': '1',\n",
      "                                                                'ts': '2024-07-18 '\n",
      "                                                                      '11:54:47',\n",
      "                                                                'unit': '',\n",
      "                                                                'val_mapping': {'ac': 0,\n",
      "                                                                                'dc': 1},\n",
      "                                                                'vals': '<Enum: '\n",
      "                                                                        \"{'ac', \"\n",
      "                                                                        \"'dc'}>\",\n",
      "                                                                'value': 'dc'},\n",
      "                                             'input_gain': {'__class__': 'qcodes.parameters.parameter.Parameter',\n",
      "                                                            'full_name': 'lockin_1_input_gain',\n",
      "                                                            'instrument': 'qcodes.instrument_drivers.stanford_research.SR860.SR860',\n",
      "                                                            'instrument_name': 'lockin_1',\n",
      "                                                            'inter_delay': 0,\n",
      "                                                            'label': 'Input '\n",
      "                                                                     'gain',\n",
      "                                                            'name': 'input_gain',\n",
      "                                                            'post_delay': 0,\n",
      "                                                            'raw_value': '0',\n",
      "                                                            'ts': '2024-07-18 '\n",
      "                                                                  '11:54:47',\n",
      "                                                            'unit': 'ohm',\n",
      "                                                            'val_mapping': {1000000.0: 0,\n",
      "                                                                            100000000.0: 1},\n",
      "                                                            'vals': '<Enum: '\n",
      "                                                                    '{1000000.0, '\n",
      "                                                                    '100000000.0}>',\n",
      "                                                            'value': 1000000.0},\n",
      "                                             'input_range': {'__class__': 'qcodes.parameters.parameter.Parameter',\n",
      "                                                             'full_name': 'lockin_1_input_range',\n",
      "                                                             'instrument': 'qcodes.instrument_drivers.stanford_research.SR860.SR860',\n",
      "                                                             'instrument_name': 'lockin_1',\n",
      "                                                             'inter_delay': 0,\n",
      "                                                             'label': 'Input '\n",
      "                                                                      'range',\n",
      "                                                             'name': 'input_range',\n",
      "                                                             'post_delay': 0,\n",
      "                                                             'raw_value': '4',\n",
      "                                                             'ts': '2024-07-18 '\n",
      "                                                                   '11:54:47',\n",
      "                                                             'unit': 'V',\n",
      "                                                             'val_mapping': {0.01: 4,\n",
      "                                                                             0.03: 3,\n",
      "                                                                             0.1: 2,\n",
      "                                                                             0.3: 1,\n",
      "                                                                             1: 0},\n",
      "                                                             'vals': '<Enum: '\n",
      "                                                                     '{0.3, 1, '\n",
      "                                                                     '0.1, '\n",
      "                                                                     '0.03, '\n",
      "                                                                     '0.01}>',\n",
      "                                                             'value': 0.01},\n",
      "                                             'input_shield': {'__class__': 'qcodes.parameters.parameter.Parameter',\n",
      "                                                              'full_name': 'lockin_1_input_shield',\n",
      "                                                              'instrument': 'qcodes.instrument_drivers.stanford_research.SR860.SR860',\n",
      "                                                              'instrument_name': 'lockin_1',\n",
      "                                                              'inter_delay': 0,\n",
      "                                                              'label': 'Input '\n",
      "                                                                       'shield',\n",
      "                                                              'name': 'input_shield',\n",
      "                                                              'post_delay': 0,\n",
      "                                                              'raw_value': '1',\n",
      "                                                              'ts': '2024-07-18 '\n",
      "                                                                    '11:54:47',\n",
      "                                                              'unit': '',\n",
      "                                                              'val_mapping': {'float': 0,\n",
      "                                                                              'ground': 1},\n",
      "                                                              'vals': '<Enum: '\n",
      "                                                                      \"{'ground', \"\n",
      "                                                                      \"'float'}>\",\n",
      "                                                              'value': 'ground'},\n",
      "                                             'noise_bandwidth': {'__class__': 'qcodes.parameters.parameter.Parameter',\n",
      "                                                                 'full_name': 'lockin_1_noise_bandwidth',\n",
      "                                                                 'instrument': 'qcodes.instrument_drivers.stanford_research.SR860.SR860',\n",
      "                                                                 'instrument_name': 'lockin_1',\n",
      "                                                                 'inter_delay': 0,\n",
      "                                                                 'label': 'Noise '\n",
      "                                                                          'bandwidth',\n",
      "                                                                 'name': 'noise_bandwidth',\n",
      "                                                                 'post_delay': 0,\n",
      "                                                                 'raw_value': '1.25',\n",
      "                                                                 'ts': '2024-07-18 '\n",
      "                                                                       '11:54:47',\n",
      "                                                                 'unit': 'Hz',\n",
      "                                                                 'value': 1.25},\n",
      "                                             'phase': {'__class__': 'qcodes.parameters.parameter.Parameter',\n",
      "                                                       'full_name': 'lockin_1_phase',\n",
      "                                                       'instrument': 'qcodes.instrument_drivers.stanford_research.SR860.SR860',\n",
      "                                                       'instrument_name': 'lockin_1',\n",
      "                                                       'inter_delay': 0,\n",
      "                                                       'label': 'Phase',\n",
      "                                                       'name': 'phase',\n",
      "                                                       'post_delay': 0,\n",
      "                                                       'raw_value': '0',\n",
      "                                                       'ts': '2024-07-18 '\n",
      "                                                             '11:54:47',\n",
      "                                                       'unit': 'deg',\n",
      "                                                       'vals': '<Numbers '\n",
      "                                                               '-360000.0<=v<=360000.0>',\n",
      "                                                       'value': 0.0},\n",
      "                                             'reference_source': {'__class__': 'qcodes.parameters.parameter.Parameter',\n",
      "                                                                  'full_name': 'lockin_1_reference_source',\n",
      "                                                                  'instrument': 'qcodes.instrument_drivers.stanford_research.SR860.SR860',\n",
      "                                                                  'instrument_name': 'lockin_1',\n",
      "                                                                  'inter_delay': 0,\n",
      "                                                                  'label': 'Reference '\n",
      "                                                                           'source',\n",
      "                                                                  'name': 'reference_source',\n",
      "                                                                  'post_delay': 0,\n",
      "                                                                  'raw_value': '0',\n",
      "                                                                  'ts': '2024-07-18 '\n",
      "                                                                        '11:54:47',\n",
      "                                                                  'unit': '',\n",
      "                                                                  'val_mapping': {'CHOP': 3,\n",
      "                                                                                  'DUAL': 2,\n",
      "                                                                                  'EXT': 1,\n",
      "                                                                                  'INT': 0},\n",
      "                                                                  'vals': '<Enum: '\n",
      "                                                                          \"{'EXT', \"\n",
      "                                                                          \"'CHOP', \"\n",
      "                                                                          \"'DUAL', \"\n",
      "                                                                          \"'INT'}>\",\n",
      "                                                                  'value': 'INT'},\n",
      "                                             'sensitivity': {'__class__': 'qcodes.parameters.parameter.Parameter',\n",
      "                                                             'full_name': 'lockin_1_sensitivity',\n",
      "                                                             'instrument': 'qcodes.instrument_drivers.stanford_research.SR860.SR860',\n",
      "                                                             'instrument_name': 'lockin_1',\n",
      "                                                             'inter_delay': 0,\n",
      "                                                             'label': 'Sensitivity',\n",
      "                                                             'name': 'sensitivity',\n",
      "                                                             'post_delay': 0,\n",
      "                                                             'raw_value': '15',\n",
      "                                                             'ts': '2024-07-18 '\n",
      "                                                                   '11:54:47',\n",
      "                                                             'unit': 'V',\n",
      "                                                             'vals': '<Enum: '\n",
      "                                                                     '{0.5, 1, '\n",
      "                                                                     '0.2, '\n",
      "                                                                     '2e-09, '\n",
      "                                                                     '5e-05, '\n",
      "                                                                     '1e-08, '\n",
      "                                                                     '2e-08, '\n",
      "                                                                     '0.0001, '\n",
      "                                                                     '0.05, '\n",
      "                                                                     '0.0002, '\n",
      "                                                                     '5e-06, '\n",
      "                                                                     '5e-08, '\n",
      "                                                                     '1e-06, '\n",
      "                                                                     '0.1, '\n",
      "                                                                     '1e-09, '\n",
      "                                                                     '5e-09, '\n",
      "                                                                     '2e-05, '\n",
      "                                                                     '0.02, '\n",
      "                                                                     '5e-07, '\n",
      "                                                                     '1e-05, '\n",
      "                                                                     '0.01, '\n",
      "                                                                     '2e-07, '\n",
      "                                                                     '0.005, '\n",
      "                                                                     '1e-07, '\n",
      "                                                                     '2e-06, '\n",
      "                                                                     '0.002, '\n",
      "                                                                     '0.001, '\n",
      "                                                                     '0.0005}>',\n",
      "                                                             'value': 1e-05},\n",
      "                                             'signal_input': {'__class__': 'qcodes.parameters.parameter.Parameter',\n",
      "                                                              'full_name': 'lockin_1_signal_input',\n",
      "                                                              'instrument': 'qcodes.instrument_drivers.stanford_research.SR860.SR860',\n",
      "                                                              'instrument_name': 'lockin_1',\n",
      "                                                              'inter_delay': 0,\n",
      "                                                              'label': 'Signal '\n",
      "                                                                       'input',\n",
      "                                                              'name': 'signal_input',\n",
      "                                                              'post_delay': 0,\n",
      "                                                              'raw_value': '0',\n",
      "                                                              'ts': '2024-07-18 '\n",
      "                                                                    '11:54:47',\n",
      "                                                              'unit': '',\n",
      "                                                              'vals': '<Enum: '\n",
      "                                                                      \"{'current', \"\n",
      "                                                                      \"'voltage'}>\",\n",
      "                                                              'value': 'voltage'},\n",
      "                                             'signal_strength': {'__class__': 'qcodes.parameters.parameter.Parameter',\n",
      "                                                                 'full_name': 'lockin_1_signal_strength',\n",
      "                                                                 'instrument': 'qcodes.instrument_drivers.stanford_research.SR860.SR860',\n",
      "                                                                 'instrument_name': 'lockin_1',\n",
      "                                                                 'inter_delay': 0,\n",
      "                                                                 'label': 'Signal '\n",
      "                                                                          'strength '\n",
      "                                                                          'indicator',\n",
      "                                                                 'name': 'signal_strength',\n",
      "                                                                 'post_delay': 0,\n",
      "                                                                 'raw_value': '3',\n",
      "                                                                 'ts': '2024-07-18 '\n",
      "                                                                       '11:54:47',\n",
      "                                                                 'unit': '',\n",
      "                                                                 'value': 3},\n",
      "                                             'sine_outdc': {'__class__': 'qcodes.parameters.parameter.Parameter',\n",
      "                                                            'full_name': 'lockin_1_sine_outdc',\n",
      "                                                            'instrument': 'qcodes.instrument_drivers.stanford_research.SR860.SR860',\n",
      "                                                            'instrument_name': 'lockin_1',\n",
      "                                                            'inter_delay': 0,\n",
      "                                                            'label': 'Sine out '\n",
      "                                                                     'dc level',\n",
      "                                                            'name': 'sine_outdc',\n",
      "                                                            'post_delay': 0,\n",
      "                                                            'raw_value': '0',\n",
      "                                                            'ts': '2024-07-18 '\n",
      "                                                                  '11:54:47',\n",
      "                                                            'unit': 'V',\n",
      "                                                            'vals': '<Numbers '\n",
      "                                                                    '-5<=v<=5>',\n",
      "                                                            'value': 0.0},\n",
      "                                             'sync_filter': {'__class__': 'qcodes.parameters.parameter.Parameter',\n",
      "                                                             'full_name': 'lockin_1_sync_filter',\n",
      "                                                             'instrument': 'qcodes.instrument_drivers.stanford_research.SR860.SR860',\n",
      "                                                             'instrument_name': 'lockin_1',\n",
      "                                                             'inter_delay': 0,\n",
      "                                                             'label': 'Sync '\n",
      "                                                                      'filter',\n",
      "                                                             'name': 'sync_filter',\n",
      "                                                             'post_delay': 0,\n",
      "                                                             'raw_value': '1',\n",
      "                                                             'ts': '2024-07-18 '\n",
      "                                                                   '11:54:47',\n",
      "                                                             'unit': '',\n",
      "                                                             'val_mapping': {'OFF': 0,\n",
      "                                                                             'ON': 1},\n",
      "                                                             'vals': '<Enum: '\n",
      "                                                                     \"{'OFF', \"\n",
      "                                                                     \"'ON'}>\",\n",
      "                                                             'value': 'ON'},\n",
      "                                             'time_constant': {'__class__': 'qcodes.parameters.parameter.Parameter',\n",
      "                                                               'full_name': 'lockin_1_time_constant',\n",
      "                                                               'instrument': 'qcodes.instrument_drivers.stanford_research.SR860.SR860',\n",
      "                                                               'instrument_name': 'lockin_1',\n",
      "                                                               'inter_delay': 0,\n",
      "                                                               'label': 'Time '\n",
      "                                                                        'constant',\n",
      "                                                               'name': 'time_constant',\n",
      "                                                               'post_delay': 0,\n",
      "                                                               'raw_value': '10',\n",
      "                                                               'ts': '2024-07-18 '\n",
      "                                                                     '11:54:47',\n",
      "                                                               'unit': 's',\n",
      "                                                               'val_mapping': {1e-06: 0,\n",
      "                                                                               3e-06: 1,\n",
      "                                                                               1e-05: 2,\n",
      "                                                                               3e-05: 3,\n",
      "                                                                               0.0001: 4,\n",
      "                                                                               0.0003: 5,\n",
      "                                                                               0.001: 6,\n",
      "                                                                               0.003: 7,\n",
      "                                                                               0.01: 8,\n",
      "                                                                               0.03: 9,\n",
      "                                                                               0.1: 10,\n",
      "                                                                               0.3: 11,\n",
      "                                                                               1: 12,\n",
      "                                                                               3: 13,\n",
      "                                                                               10: 14,\n",
      "                                                                               30: 15,\n",
      "                                                                               100: 16,\n",
      "                                                                               300: 17,\n",
      "                                                                               1000.0: 18,\n",
      "                                                                               3000.0: 19,\n",
      "                                                                               10000.0: 20,\n",
      "                                                                               30000.0: 21},\n",
      "                                                               'vals': '<Enum: '\n",
      "                                                                       '{0.3, '\n",
      "                                                                       '1, 3, '\n",
      "                                                                       '10, '\n",
      "                                                                       '10000.0, '\n",
      "                                                                       '0.0001, '\n",
      "                                                                       '30, '\n",
      "                                                                       '300, '\n",
      "                                                                       '30000.0, '\n",
      "                                                                       '3000.0, '\n",
      "                                                                       '3e-06, '\n",
      "                                                                       '3e-05, '\n",
      "                                                                       '1e-06, '\n",
      "                                                                       '0.03, '\n",
      "                                                                       '0.1, '\n",
      "                                                                       '0.0003, '\n",
      "                                                                       '100, '\n",
      "                                                                       '1e-05, '\n",
      "                                                                       '1000.0, '\n",
      "                                                                       '0.01, '\n",
      "                                                                       '0.003, '\n",
      "                                                                       '0.001}>',\n",
      "                                                               'value': 0.1},\n",
      "                                             'timeout': {'__class__': 'qcodes.parameters.parameter.Parameter',\n",
      "                                                         'full_name': 'lockin_1_timeout',\n",
      "                                                         'instrument': 'qcodes.instrument_drivers.stanford_research.SR860.SR860',\n",
      "                                                         'instrument_name': 'lockin_1',\n",
      "                                                         'inter_delay': 0,\n",
      "                                                         'label': 'timeout',\n",
      "                                                         'name': 'timeout',\n",
      "                                                         'post_delay': 0,\n",
      "                                                         'raw_value': 10.0,\n",
      "                                                         'ts': '2024-07-18 '\n",
      "                                                               '11:54:48',\n",
      "                                                         'unit': 's',\n",
      "                                                         'vals': '<MultiType: '\n",
      "                                                                 'Numbers '\n",
      "                                                                 'v>=0, Enum: '\n",
      "                                                                 '{None}>',\n",
      "                                                         'value': 10.0}},\n",
      "                              'read_terminator': '\\n',\n",
      "                              'submodules': {'buffer': {'__class__': 'qcodes.instrument_drivers.stanford_research.SR86x.SR86xBuffer',\n",
      "                                                        'functions': {},\n",
      "                                                        'label': 'lockin_1_buffer',\n",
      "                                                        'name': 'lockin_1_lockin_1_buffer',\n",
      "                                                        'parameters': {'R': {'__class__': 'qcodes.instrument_drivers.stanford_research.SR86x.SR86xBufferReadout',\n",
      "                                                                             'full_name': 'lockin_1_lockin_1_buffer_R',\n",
      "                                                                             'instrument': 'qcodes.instrument_drivers.stanford_research.SR86x.SR86xBuffer',\n",
      "                                                                             'instrument_name': 'lockin_1_lockin_1_buffer',\n",
      "                                                                             'inter_delay': 0,\n",
      "                                                                             'label': 'R',\n",
      "                                                                             'name': 'R',\n",
      "                                                                             'post_delay': 0,\n",
      "                                                                             'setpoint_labels': ('Time',),\n",
      "                                                                             'setpoint_names': ('Time',),\n",
      "                                                                             'setpoint_units': ('s',),\n",
      "                                                                             'ts': None,\n",
      "                                                                             'unit': 'V'},\n",
      "                                                                       'T': {'__class__': 'qcodes.instrument_drivers.stanford_research.SR86x.SR86xBufferReadout',\n",
      "                                                                             'full_name': 'lockin_1_lockin_1_buffer_T',\n",
      "                                                                             'instrument': 'qcodes.instrument_drivers.stanford_research.SR86x.SR86xBuffer',\n",
      "                                                                             'instrument_name': 'lockin_1_lockin_1_buffer',\n",
      "                                                                             'inter_delay': 0,\n",
      "                                                                             'label': 'T',\n",
      "                                                                             'name': 'T',\n",
      "                                                                             'post_delay': 0,\n",
      "                                                                             'setpoint_labels': ('Time',),\n",
      "                                                                             'setpoint_names': ('Time',),\n",
      "                                                                             'setpoint_units': ('s',),\n",
      "                                                                             'ts': None,\n",
      "                                                                             'unit': 'deg'},\n",
      "                                                                       'X': {'__class__': 'qcodes.instrument_drivers.stanford_research.SR86x.SR86xBufferReadout',\n",
      "                                                                             'full_name': 'lockin_1_lockin_1_buffer_X',\n",
      "                                                                             'instrument': 'qcodes.instrument_drivers.stanford_research.SR86x.SR86xBuffer',\n",
      "                                                                             'instrument_name': 'lockin_1_lockin_1_buffer',\n",
      "                                                                             'inter_delay': 0,\n",
      "                                                                             'label': 'X',\n",
      "                                                                             'name': 'X',\n",
      "                                                                             'post_delay': 0,\n",
      "                                                                             'setpoint_labels': ('Time',),\n",
      "                                                                             'setpoint_names': ('Time',),\n",
      "                                                                             'setpoint_units': ('s',),\n",
      "                                                                             'ts': None,\n",
      "                                                                             'unit': 'V'},\n",
      "                                                                       'Y': {'__class__': 'qcodes.instrument_drivers.stanford_research.SR86x.SR86xBufferReadout',\n",
      "                                                                             'full_name': 'lockin_1_lockin_1_buffer_Y',\n",
      "                                                                             'instrument': 'qcodes.instrument_drivers.stanford_research.SR86x.SR86xBuffer',\n",
      "                                                                             'instrument_name': 'lockin_1_lockin_1_buffer',\n",
      "                                                                             'inter_delay': 0,\n",
      "                                                                             'label': 'Y',\n",
      "                                                                             'name': 'Y',\n",
      "                                                                             'post_delay': 0,\n",
      "                                                                             'setpoint_labels': ('Time',),\n",
      "                                                                             'setpoint_names': ('Time',),\n",
      "                                                                             'setpoint_units': ('s',),\n",
      "                                                                             'ts': None,\n",
      "                                                                             'unit': 'V'},\n",
      "                                                                       'capture_config': {'__class__': 'qcodes.parameters.parameter.Parameter',\n",
      "                                                                                          'full_name': 'lockin_1_lockin_1_buffer_capture_config',\n",
      "                                                                                          'instrument': 'qcodes.instrument_drivers.stanford_research.SR86x.SR86xBuffer',\n",
      "                                                                                          'instrument_name': 'lockin_1_lockin_1_buffer',\n",
      "                                                                                          'inter_delay': 0,\n",
      "                                                                                          'label': 'capture '\n",
      "                                                                                                   'configuration',\n",
      "                                                                                          'name': 'capture_config',\n",
      "                                                                                          'post_delay': 0,\n",
      "                                                                                          'raw_value': '3',\n",
      "                                                                                          'ts': '2024-07-18 '\n",
      "                                                                                                '11:54:47',\n",
      "                                                                                          'unit': '',\n",
      "                                                                                          'val_mapping': {'R,T': '2',\n",
      "                                                                                                          'X': '0',\n",
      "                                                                                                          'X,Y': '1',\n",
      "                                                                                                          'X,Y,R,T': '3'},\n",
      "                                                                                          'vals': '<Enum: '\n",
      "                                                                                                  \"{'X,Y', \"\n",
      "                                                                                                  \"'X,Y,R,T', \"\n",
      "                                                                                                  \"'X', \"\n",
      "                                                                                                  \"'R,T'}>\",\n",
      "                                                                                          'value': 'X,Y,R,T'},\n",
      "                                                                       'capture_length_in_kb': {'__class__': 'qcodes.parameters.parameter.Parameter',\n",
      "                                                                                                'full_name': 'lockin_1_lockin_1_buffer_capture_length_in_kb',\n",
      "                                                                                                'instrument': 'qcodes.instrument_drivers.stanford_research.SR86x.SR86xBuffer',\n",
      "                                                                                                'instrument_name': 'lockin_1_lockin_1_buffer',\n",
      "                                                                                                'inter_delay': 0,\n",
      "                                                                                                'label': 'get/set '\n",
      "                                                                                                         'capture '\n",
      "                                                                                                         'length',\n",
      "                                                                                                'name': 'capture_length_in_kb',\n",
      "                                                                                                'post_delay': 0,\n",
      "                                                                                                'raw_value': '4',\n",
      "                                                                                                'ts': '2024-07-18 '\n",
      "                                                                                                      '11:54:47',\n",
      "                                                                                                'unit': 'kB',\n",
      "                                                                                                'value': 4},\n",
      "                                                                       'capture_rate': {'__class__': 'qcodes.parameters.parameter.Parameter',\n",
      "                                                                                        'full_name': 'lockin_1_lockin_1_buffer_capture_rate',\n",
      "                                                                                        'instrument': 'qcodes.instrument_drivers.stanford_research.SR86x.SR86xBuffer',\n",
      "                                                                                        'instrument_name': 'lockin_1_lockin_1_buffer',\n",
      "                                                                                        'inter_delay': 0,\n",
      "                                                                                        'label': 'capture '\n",
      "                                                                                                 'rate '\n",
      "                                                                                                 'raw',\n",
      "                                                                                        'name': 'capture_rate',\n",
      "                                                                                        'post_delay': 0,\n",
      "                                                                                        'raw_value': '2441.40625',\n",
      "                                                                                        'ts': '2024-07-18 '\n",
      "                                                                                              '11:54:47',\n",
      "                                                                                        'unit': '',\n",
      "                                                                                        'value': 2441.40625},\n",
      "                                                                       'capture_rate_max': {'__class__': 'qcodes.parameters.parameter.Parameter',\n",
      "                                                                                            'full_name': 'lockin_1_lockin_1_buffer_capture_rate_max',\n",
      "                                                                                            'instrument': 'qcodes.instrument_drivers.stanford_research.SR86x.SR86xBuffer',\n",
      "                                                                                            'instrument_name': 'lockin_1_lockin_1_buffer',\n",
      "                                                                                            'inter_delay': 0,\n",
      "                                                                                            'label': 'capture '\n",
      "                                                                                                     'rate '\n",
      "                                                                                                     'maximum',\n",
      "                                                                                            'name': 'capture_rate_max',\n",
      "                                                                                            'post_delay': 0,\n",
      "                                                                                            'raw_value': '2441.40625',\n",
      "                                                                                            'ts': '2024-07-18 '\n",
      "                                                                                                  '11:54:47',\n",
      "                                                                                            'unit': '',\n",
      "                                                                                            'value': 2441.40625},\n",
      "                                                                       'capture_status': {'__class__': 'qcodes.parameters.parameter.Parameter',\n",
      "                                                                                          'full_name': 'lockin_1_lockin_1_buffer_capture_status',\n",
      "                                                                                          'instrument': 'qcodes.instrument_drivers.stanford_research.SR86x.SR86xBuffer',\n",
      "                                                                                          'instrument_name': 'lockin_1_lockin_1_buffer',\n",
      "                                                                                          'inter_delay': 0,\n",
      "                                                                                          'label': 'capture '\n",
      "                                                                                                   'status',\n",
      "                                                                                          'name': 'capture_status',\n",
      "                                                                                          'post_delay': 0,\n",
      "                                                                                          'raw_value': '0',\n",
      "                                                                                          'ts': '2024-07-18 '\n",
      "                                                                                                '11:54:47',\n",
      "                                                                                          'unit': '',\n",
      "                                                                                          'value': '0'},\n",
      "                                                                       'count_capture_bytes': {'__class__': 'qcodes.parameters.parameter.Parameter',\n",
      "                                                                                               'full_name': 'lockin_1_lockin_1_buffer_count_capture_bytes',\n",
      "                                                                                               'instrument': 'qcodes.instrument_drivers.stanford_research.SR86x.SR86xBuffer',\n",
      "                                                                                               'instrument_name': 'lockin_1_lockin_1_buffer',\n",
      "                                                                                               'inter_delay': 0,\n",
      "                                                                                               'label': 'captured '\n",
      "                                                                                                        'bytes',\n",
      "                                                                                               'name': 'count_capture_bytes',\n",
      "                                                                                               'post_delay': 0,\n",
      "                                                                                               'raw_value': '0',\n",
      "                                                                                               'ts': '2024-07-18 '\n",
      "                                                                                                     '11:54:47',\n",
      "                                                                                               'unit': 'B',\n",
      "                                                                                               'value': 0},\n",
      "                                                                       'count_capture_kilobytes': {'__class__': 'qcodes.parameters.parameter.Parameter',\n",
      "                                                                                                   'full_name': 'lockin_1_lockin_1_buffer_count_capture_kilobytes',\n",
      "                                                                                                   'instrument': 'qcodes.instrument_drivers.stanford_research.SR86x.SR86xBuffer',\n",
      "                                                                                                   'instrument_name': 'lockin_1_lockin_1_buffer',\n",
      "                                                                                                   'inter_delay': 0,\n",
      "                                                                                                   'label': 'captured '\n",
      "                                                                                                            'kilobytes',\n",
      "                                                                                                   'name': 'count_capture_kilobytes',\n",
      "                                                                                                   'post_delay': 0,\n",
      "                                                                                                   'raw_value': None,\n",
      "                                                                                                   'ts': None,\n",
      "                                                                                                   'unit': 'kB',\n",
      "                                                                                                   'value': None}},\n",
      "                                                        'submodules': {}},\n",
      "                                             'data_channel_1': {'__class__': 'qcodes.instrument_drivers.stanford_research.SR86x.SR86xDataChannel',\n",
      "                                                                'functions': {},\n",
      "                                                                'label': 'data_channel_1',\n",
      "                                                                'name': 'lockin_1_data_channel_1',\n",
      "                                                                'parameters': {'assigned_parameter': {'__class__': 'qcodes.parameters.parameter.Parameter',\n",
      "                                                                                                      'full_name': 'lockin_1_data_channel_1_assigned_parameter',\n",
      "                                                                                                      'instrument': 'qcodes.instrument_drivers.stanford_research.SR86x.SR86xDataChannel',\n",
      "                                                                                                      'instrument_name': 'lockin_1_data_channel_1',\n",
      "                                                                                                      'inter_delay': 0,\n",
      "                                                                                                      'label': 'Data '\n",
      "                                                                                                               'channel '\n",
      "                                                                                                               '0 '\n",
      "                                                                                                               'parameter',\n",
      "                                                                                                      'name': 'assigned_parameter',\n",
      "                                                                                                      'post_delay': 0,\n",
      "                                                                                                      'raw_value': '0',\n",
      "                                                                                                      'ts': '2024-07-18 '\n",
      "                                                                                                            '11:54:47',\n",
      "                                                                                                      'unit': '',\n",
      "                                                                                                      'val_mapping': {'P': '3',\n",
      "                                                                                                                      'R': '2',\n",
      "                                                                                                                      'X': '0',\n",
      "                                                                                                                      'Xnoise': '8',\n",
      "                                                                                                                      'Y': '1',\n",
      "                                                                                                                      'Ynoise': '9',\n",
      "                                                                                                                      'amplitude': '13',\n",
      "                                                                                                                      'aux_in1': '4',\n",
      "                                                                                                                      'aux_in2': '5',\n",
      "                                                                                                                      'aux_in3': '6',\n",
      "                                                                                                                      'aux_in4': '7',\n",
      "                                                                                                                      'aux_out1': '10',\n",
      "                                                                                                                      'aux_out2': '11',\n",
      "                                                                                                                      'frequency': '15',\n",
      "                                                                                                                      'frequency_ext': '16',\n",
      "                                                                                                                      'phase': '12',\n",
      "                                                                                                                      'sine_outdc': '14'},\n",
      "                                                                                                      'vals': '<Enum: '\n",
      "                                                                                                              \"{'P', \"\n",
      "                                                                                                              \"'Y', \"\n",
      "                                                                                                              \"'sine_outdc', \"\n",
      "                                                                                                              \"'aux_out1', \"\n",
      "                                                                                                              \"'aux_in4', \"\n",
      "                                                                                                              \"'aux_in1', \"\n",
      "                                                                                                              \"'Xnoise', \"\n",
      "                                                                                                              \"'aux_out2', \"\n",
      "                                                                                                              \"'amplitude', \"\n",
      "                                                                                                              \"'phase', \"\n",
      "                                                                                                              \"'aux_in3', \"\n",
      "                                                                                                              \"'X', \"\n",
      "                                                                                                              \"'frequency', \"\n",
      "                                                                                                              \"'Ynoise', \"\n",
      "                                                                                                              \"'frequency_ext', \"\n",
      "                                                                                                              \"'aux_in2', \"\n",
      "                                                                                                              \"'R'}>\",\n",
      "                                                                                                      'value': 'X'}},\n",
      "                                                                'submodules': {}},\n",
      "                                             'data_channel_2': {'__class__': 'qcodes.instrument_drivers.stanford_research.SR86x.SR86xDataChannel',\n",
      "                                                                'functions': {},\n",
      "                                                                'label': 'data_channel_2',\n",
      "                                                                'name': 'lockin_1_data_channel_2',\n",
      "                                                                'parameters': {'assigned_parameter': {'__class__': 'qcodes.parameters.parameter.Parameter',\n",
      "                                                                                                      'full_name': 'lockin_1_data_channel_2_assigned_parameter',\n",
      "                                                                                                      'instrument': 'qcodes.instrument_drivers.stanford_research.SR86x.SR86xDataChannel',\n",
      "                                                                                                      'instrument_name': 'lockin_1_data_channel_2',\n",
      "                                                                                                      'inter_delay': 0,\n",
      "                                                                                                      'label': 'Data '\n",
      "                                                                                                               'channel '\n",
      "                                                                                                               '1 '\n",
      "                                                                                                               'parameter',\n",
      "                                                                                                      'name': 'assigned_parameter',\n",
      "                                                                                                      'post_delay': 0,\n",
      "                                                                                                      'raw_value': '1',\n",
      "                                                                                                      'ts': '2024-07-18 '\n",
      "                                                                                                            '11:54:47',\n",
      "                                                                                                      'unit': '',\n",
      "                                                                                                      'val_mapping': {'P': '3',\n",
      "                                                                                                                      'R': '2',\n",
      "                                                                                                                      'X': '0',\n",
      "                                                                                                                      'Xnoise': '8',\n",
      "                                                                                                                      'Y': '1',\n",
      "                                                                                                                      'Ynoise': '9',\n",
      "                                                                                                                      'amplitude': '13',\n",
      "                                                                                                                      'aux_in1': '4',\n",
      "                                                                                                                      'aux_in2': '5',\n",
      "                                                                                                                      'aux_in3': '6',\n",
      "                                                                                                                      'aux_in4': '7',\n",
      "                                                                                                                      'aux_out1': '10',\n",
      "                                                                                                                      'aux_out2': '11',\n",
      "                                                                                                                      'frequency': '15',\n",
      "                                                                                                                      'frequency_ext': '16',\n",
      "                                                                                                                      'phase': '12',\n",
      "                                                                                                                      'sine_outdc': '14'},\n",
      "                                                                                                      'vals': '<Enum: '\n",
      "                                                                                                              \"{'P', \"\n",
      "                                                                                                              \"'Y', \"\n",
      "                                                                                                              \"'sine_outdc', \"\n",
      "                                                                                                              \"'aux_out1', \"\n",
      "                                                                                                              \"'aux_in4', \"\n",
      "                                                                                                              \"'aux_in1', \"\n",
      "                                                                                                              \"'Xnoise', \"\n",
      "                                                                                                              \"'aux_out2', \"\n",
      "                                                                                                              \"'amplitude', \"\n",
      "                                                                                                              \"'phase', \"\n",
      "                                                                                                              \"'aux_in3', \"\n",
      "                                                                                                              \"'X', \"\n",
      "                                                                                                              \"'frequency', \"\n",
      "                                                                                                              \"'Ynoise', \"\n",
      "                                                                                                              \"'frequency_ext', \"\n",
      "                                                                                                              \"'aux_in2', \"\n",
      "                                                                                                              \"'R'}>\",\n",
      "                                                                                                      'value': 'Y'}},\n",
      "                                                                'submodules': {}},\n",
      "                                             'data_channel_3': {'__class__': 'qcodes.instrument_drivers.stanford_research.SR86x.SR86xDataChannel',\n",
      "                                                                'functions': {},\n",
      "                                                                'label': 'data_channel_3',\n",
      "                                                                'name': 'lockin_1_data_channel_3',\n",
      "                                                                'parameters': {'assigned_parameter': {'__class__': 'qcodes.parameters.parameter.Parameter',\n",
      "                                                                                                      'full_name': 'lockin_1_data_channel_3_assigned_parameter',\n",
      "                                                                                                      'instrument': 'qcodes.instrument_drivers.stanford_research.SR86x.SR86xDataChannel',\n",
      "                                                                                                      'instrument_name': 'lockin_1_data_channel_3',\n",
      "                                                                                                      'inter_delay': 0,\n",
      "                                                                                                      'label': 'Data '\n",
      "                                                                                                               'channel '\n",
      "                                                                                                               '2 '\n",
      "                                                                                                               'parameter',\n",
      "                                                                                                      'name': 'assigned_parameter',\n",
      "                                                                                                      'post_delay': 0,\n",
      "                                                                                                      'raw_value': '2',\n",
      "                                                                                                      'ts': '2024-07-18 '\n",
      "                                                                                                            '11:54:47',\n",
      "                                                                                                      'unit': '',\n",
      "                                                                                                      'val_mapping': {'P': '3',\n",
      "                                                                                                                      'R': '2',\n",
      "                                                                                                                      'X': '0',\n",
      "                                                                                                                      'Xnoise': '8',\n",
      "                                                                                                                      'Y': '1',\n",
      "                                                                                                                      'Ynoise': '9',\n",
      "                                                                                                                      'amplitude': '13',\n",
      "                                                                                                                      'aux_in1': '4',\n",
      "                                                                                                                      'aux_in2': '5',\n",
      "                                                                                                                      'aux_in3': '6',\n",
      "                                                                                                                      'aux_in4': '7',\n",
      "                                                                                                                      'aux_out1': '10',\n",
      "                                                                                                                      'aux_out2': '11',\n",
      "                                                                                                                      'frequency': '15',\n",
      "                                                                                                                      'frequency_ext': '16',\n",
      "                                                                                                                      'phase': '12',\n",
      "                                                                                                                      'sine_outdc': '14'},\n",
      "                                                                                                      'vals': '<Enum: '\n",
      "                                                                                                              \"{'P', \"\n",
      "                                                                                                              \"'Y', \"\n",
      "                                                                                                              \"'sine_outdc', \"\n",
      "                                                                                                              \"'aux_out1', \"\n",
      "                                                                                                              \"'aux_in4', \"\n",
      "                                                                                                              \"'aux_in1', \"\n",
      "                                                                                                              \"'Xnoise', \"\n",
      "                                                                                                              \"'aux_out2', \"\n",
      "                                                                                                              \"'amplitude', \"\n",
      "                                                                                                              \"'phase', \"\n",
      "                                                                                                              \"'aux_in3', \"\n",
      "                                                                                                              \"'X', \"\n",
      "                                                                                                              \"'frequency', \"\n",
      "                                                                                                              \"'Ynoise', \"\n",
      "                                                                                                              \"'frequency_ext', \"\n",
      "                                                                                                              \"'aux_in2', \"\n",
      "                                                                                                              \"'R'}>\",\n",
      "                                                                                                      'value': 'R'}},\n",
      "                                                                'submodules': {}},\n",
      "                                             'data_channel_4': {'__class__': 'qcodes.instrument_drivers.stanford_research.SR86x.SR86xDataChannel',\n",
      "                                                                'functions': {},\n",
      "                                                                'label': 'data_channel_4',\n",
      "                                                                'name': 'lockin_1_data_channel_4',\n",
      "                                                                'parameters': {'assigned_parameter': {'__class__': 'qcodes.parameters.parameter.Parameter',\n",
      "                                                                                                      'full_name': 'lockin_1_data_channel_4_assigned_parameter',\n",
      "                                                                                                      'instrument': 'qcodes.instrument_drivers.stanford_research.SR86x.SR86xDataChannel',\n",
      "                                                                                                      'instrument_name': 'lockin_1_data_channel_4',\n",
      "                                                                                                      'inter_delay': 0,\n",
      "                                                                                                      'label': 'Data '\n",
      "                                                                                                               'channel '\n",
      "                                                                                                               '3 '\n",
      "                                                                                                               'parameter',\n",
      "                                                                                                      'name': 'assigned_parameter',\n",
      "                                                                                                      'post_delay': 0,\n",
      "                                                                                                      'raw_value': '3',\n",
      "                                                                                                      'ts': '2024-07-18 '\n",
      "                                                                                                            '11:54:47',\n",
      "                                                                                                      'unit': '',\n",
      "                                                                                                      'val_mapping': {'P': '3',\n",
      "                                                                                                                      'R': '2',\n",
      "                                                                                                                      'X': '0',\n",
      "                                                                                                                      'Xnoise': '8',\n",
      "                                                                                                                      'Y': '1',\n",
      "                                                                                                                      'Ynoise': '9',\n",
      "                                                                                                                      'amplitude': '13',\n",
      "                                                                                                                      'aux_in1': '4',\n",
      "                                                                                                                      'aux_in2': '5',\n",
      "                                                                                                                      'aux_in3': '6',\n",
      "                                                                                                                      'aux_in4': '7',\n",
      "                                                                                                                      'aux_out1': '10',\n",
      "                                                                                                                      'aux_out2': '11',\n",
      "                                                                                                                      'frequency': '15',\n",
      "                                                                                                                      'frequency_ext': '16',\n",
      "                                                                                                                      'phase': '12',\n",
      "                                                                                                                      'sine_outdc': '14'},\n",
      "                                                                                                      'vals': '<Enum: '\n",
      "                                                                                                              \"{'P', \"\n",
      "                                                                                                              \"'Y', \"\n",
      "                                                                                                              \"'sine_outdc', \"\n",
      "                                                                                                              \"'aux_out1', \"\n",
      "                                                                                                              \"'aux_in4', \"\n",
      "                                                                                                              \"'aux_in1', \"\n",
      "                                                                                                              \"'Xnoise', \"\n",
      "                                                                                                              \"'aux_out2', \"\n",
      "                                                                                                              \"'amplitude', \"\n",
      "                                                                                                              \"'phase', \"\n",
      "                                                                                                              \"'aux_in3', \"\n",
      "                                                                                                              \"'X', \"\n",
      "                                                                                                              \"'frequency', \"\n",
      "                                                                                                              \"'Ynoise', \"\n",
      "                                                                                                              \"'frequency_ext', \"\n",
      "                                                                                                              \"'aux_in2', \"\n",
      "                                                                                                              \"'R'}>\",\n",
      "                                                                                                      'value': 'P'}},\n",
      "                                                                'submodules': {}},\n",
      "                                             'data_channels': {'__class__': 'qcodes.instrument.channel.ChannelTuple',\n",
      "                                                               'snapshotable': False}},\n",
      "                              'terminator': '\\n',\n",
      "                              'timeout': 10.0,\n",
      "                              'write_terminator': '\\n'}},\n",
      " 'parameters': {}}\n"
     ]
    }
   ],
   "source": [
    "snapshot_of_station = station.snapshot()\n",
    "pprint(snapshot_of_station)"
   ]
  },
  {
   "cell_type": "markdown",
   "id": "4757b159",
   "metadata": {},
   "source": [
    "## Keithley 2440"
   ]
  },
  {
   "cell_type": "markdown",
   "id": "797b994c",
   "metadata": {},
   "source": [
    "### sensitive check"
   ]
  },
  {
   "cell_type": "code",
   "execution_count": 4,
   "id": "f387f69b",
   "metadata": {},
   "outputs": [
    {
     "ename": "NameError",
     "evalue": "name 'keithley_24' is not defined",
     "output_type": "error",
     "traceback": [
      "\u001b[1;31m---------------------------------------------------------------------------\u001b[0m",
      "\u001b[1;31mNameError\u001b[0m                                 Traceback (most recent call last)",
      "Cell \u001b[1;32mIn[4], line 1\u001b[0m\n\u001b[1;32m----> 1\u001b[0m \u001b[43mkeithley_24\u001b[49m\u001b[38;5;241m.\u001b[39mmode(\u001b[38;5;124m'\u001b[39m\u001b[38;5;124mVOLT\u001b[39m\u001b[38;5;124m'\u001b[39m)\n\u001b[0;32m      2\u001b[0m keithley_24\u001b[38;5;241m.\u001b[39mmode()\n",
      "\u001b[1;31mNameError\u001b[0m: name 'keithley_24' is not defined"
     ]
    }
   ],
   "source": [
    "keithley_24.mode('VOLT')\n",
    "keithley_24.mode()"
   ]
  },
  {
   "cell_type": "code",
   "execution_count": null,
   "id": "09a8a36e",
   "metadata": {},
   "outputs": [],
   "source": [
    "keithley_24.output(1) # output on\n",
    "keithley_24.rangev(10)\n",
    "keithley_24.volt(0)\n",
    "keithley_24.compliancei(100e-3)\n",
    "sleep(1)\n",
    "v_read=keithley_K1.amplitude()\n",
    "keithley_24.output(0) #output off\n",
    "print(v_read)"
   ]
  },
  {
   "cell_type": "markdown",
   "id": "105706bc",
   "metadata": {},
   "source": [
    "## TG 2400"
   ]
  },
  {
   "cell_type": "code",
   "execution_count": null,
   "id": "cdc19f1b",
   "metadata": {},
   "outputs": [],
   "source": [
    "keithley_19.output(1) # output on\n",
    "keithley_19.rangev(22)\n",
    "keithley_19.volt(0)\n",
    "keithley_19.compliancei(100e-3)\n",
    "# keithley_24.output(0) #output off\n",
    "sleep(1)\n",
    "v_read=keithley_2.amplitude()\n",
    "print(v_read)"
   ]
  },
  {
   "cell_type": "code",
   "execution_count": null,
   "id": "e971a620",
   "metadata": {},
   "outputs": [],
   "source": [
    "keithley_19.volt(1)\n",
    "keithley_19.output(0) #output off"
   ]
  },
  {
   "cell_type": "code",
   "execution_count": null,
   "id": "e284050c",
   "metadata": {},
   "outputs": [],
   "source": [
    "keithley_19.rangev(22)\n",
    "keithley_19.rangev()"
   ]
  },
  {
   "cell_type": "markdown",
   "id": "c676ccb5",
   "metadata": {},
   "source": [
    "#  Database initialisation"
   ]
  },
  {
   "cell_type": "code",
   "execution_count": 4,
   "id": "7b665bc4",
   "metadata": {},
   "outputs": [
    {
     "name": "stdout",
     "output_type": "stream",
     "text": [
      "Creating a new database file:\n",
      "c:\\qcodes\\personal_scripts\\Albert\\Batch_1\\Batch_1_2024-07-18_01.db\n"
     ]
    }
   ],
   "source": [
    "reuse = False\n",
    "%run C:\\qcodes\\init_database_v2.py {reuse}"
   ]
  },
  {
   "cell_type": "markdown",
   "id": "6a8a2beb",
   "metadata": {},
   "source": [
    "\n",
    "# Scaled parameters"
   ]
  },
  {
   "cell_type": "code",
   "execution_count": null,
   "id": "e3b44b31",
   "metadata": {},
   "outputs": [],
   "source": []
  },
  {
   "cell_type": "markdown",
   "id": "ea4ff57a",
   "metadata": {},
   "source": [
    "## Defining scaled parameters"
   ]
  },
  {
   "cell_type": "code",
   "execution_count": 5,
   "id": "c8ca5b97",
   "metadata": {},
   "outputs": [
    {
     "data": {
      "text/plain": [
       "'Gain_L2'"
      ]
     },
     "execution_count": 5,
     "metadata": {},
     "output_type": "execute_result"
    }
   ],
   "source": [
    "Irange = Parameter('Irange', label='current range', unit='', set_cmd=None, get_cmd=None)\n",
    "Vrange = Parameter('Vrange', label='voltage range', unit='', set_cmd=None, get_cmd=None)\n",
    "TGrange = Parameter('TGrange', label='Top gate range', unit='', set_cmd=None, get_cmd=None)\n",
    "\n",
    "#division paraemtrs required for simplier update: they used as an argument for scaled paraemtrs of sorce instruments\n",
    "\n",
    "# Irange_division = Parameter('Irange_division', \n",
    "#                             label='scaled current range', unit='', \n",
    "#                             set_cmd=None, get_cmd=lambda : 100 / Irange())\n",
    "\n",
    "Irange_division = Parameter('Irange_division', \n",
    "                            label='scaled current range', unit='', \n",
    "                            set_cmd=None, get_cmd=lambda : 1 / Irange())\n",
    "\n",
    "Vrange_division = Parameter('Vrange_division', \n",
    "                            label='scaled voltage range', unit='', \n",
    "                            set_cmd=None, get_cmd=lambda : 1 / Vrange())\n",
    "\n",
    "TGrange_division = Parameter('TGrange_division', \n",
    "                             label='scaled Top gate range', unit='', \n",
    "                             set_cmd=None, get_cmd=lambda : 1 / TGrange())\n",
    "\n",
    "Irange_AC_division = Parameter('Irange_AC_division', \n",
    "                               label='scaled current range for lockin', unit='', \n",
    "                               set_cmd=None, get_cmd=lambda : 1 / Irange())\n",
    "\n",
    "Vrange_AC_division = Parameter('Vrange_AC_division', \n",
    "                               label='scaled voltage range for lockin', unit='', \n",
    "                               set_cmd=None, get_cmd=lambda : 1 / Vrange())\n",
    "\n",
    "Gain_K1 = Parameter('Gain_K1', label='Gain K1', unit='', set_cmd=None, get_cmd=None)\n",
    "Gain_K2 = Parameter('Gain_K2', label='Gain K2', unit='', set_cmd=None, get_cmd=None)\n",
    "Gain_L1 = Parameter('Gain_L1', label='Gain L1', unit='', set_cmd=None, get_cmd=None)\n",
    "Gain_L2 = Parameter('Gain_L2', label='Gain L2', unit='', set_cmd=None, get_cmd=None)\n",
    "\n",
    "#Add components\n",
    "station.add_component(Irange)\n",
    "station.add_component(Vrange)\n",
    "station.add_component(TGrange)\n",
    "\n",
    "station.add_component(Irange_division)\n",
    "station.add_component(Vrange_division)\n",
    "station.add_component(TGrange_division)\n",
    "\n",
    "station.add_component(Irange_AC_division)\n",
    "station.add_component(Vrange_AC_division)\n",
    "                             \n",
    "station.add_component(Gain_K1)\n",
    "station.add_component(Gain_K2)\n",
    "station.add_component(Gain_L1)\n",
    "station.add_component(Gain_L2)"
   ]
  },
  {
   "cell_type": "markdown",
   "id": "6d7ecebe",
   "metadata": {},
   "source": [
    "## Parameters - update here during measuerements"
   ]
  },
  {
   "cell_type": "code",
   "execution_count": 6,
   "id": "b0b09fcc",
   "metadata": {},
   "outputs": [],
   "source": [
    "Irange.set(1e-6) #Unit Amp V=IR, 1V= 1e-6 x 1MOhm=1e-7 x 10MOhm\n",
    "Vrange.set(10) ## need to be sync with K213 range #Unit Volt\n",
    "TGrange.set(1) #Unit Volt\n",
    "Gain_K1.set(1)\n",
    "Gain_K2.set(1)\n",
    "# Gain_K3.set(1e2)\n",
    "Gain_L1.set(Gain_K1())\n",
    "Gain_L2.set(Gain_K2())\n",
    "#division parameters are updated automatically"
   ]
  },
  {
   "cell_type": "code",
   "execution_count": null,
   "id": "4b1231bb",
   "metadata": {},
   "outputs": [],
   "source": [
    "lockin_1.sine_outdc"
   ]
  },
  {
   "cell_type": "markdown",
   "id": "cbe7bfa7",
   "metadata": {},
   "source": [
    "## DC parameters"
   ]
  },
  {
   "cell_type": "code",
   "execution_count": 7,
   "id": "6a8c7deb",
   "metadata": {},
   "outputs": [
    {
     "data": {
      "text/plain": [
       "'meas_current_K1'"
      ]
     },
     "execution_count": 7,
     "metadata": {},
     "output_type": "execute_result"
    }
   ],
   "source": [
    "appl_current = ScaledParameter(lockin_1.sine_outdc, division = Irange_division, name = 'appl_current', unit = 'A')\n",
    "\n",
    "#appl_TG = ScaledParameter(keithley_19.volt, division = TGrange_division, name = 'appl_TG', unit = 'V')\n",
    "\n",
    "meas_voltage_K1 = ScaledParameter(keithley_1.amplitude, division = Gain_K1, name = 'meas_voltage_K1', unit = 'V')\n",
    "# meas_voltage_K2 = ScaledParameter(keithley_K2.amplitude, division = Gain_K2, name = 'meas_voltage_K2', unit = 'V')\n",
    "\n",
    "# meas_leakage = ScaledParameter(keithley_K2.amplitude, division = Gain_K2, name = 'meas_leakage', unit = 'A')\n",
    "\n",
    "meas_current_K1 = ScaledParameter(keithley_1.amplitude, division = Gain_K1, name = 'meas_current_K1', unit = 'A')\n",
    "# meas_current_K2 = ScaledParameter(keithley_K2.amplitude, division = Gain_K2, name = 'meas_current_K2', unit = 'A')\n",
    "\n",
    "station.add_component(appl_current)\n",
    "# station.add_component(appl_voltage)\n",
    "#station.add_component(appl_TG)\n",
    "\n",
    "station.add_component(meas_voltage_K1)\n",
    "# station.add_component(meas_voltage_K2)\n",
    "\n",
    "# station.add_component(meas_leakage)\n",
    "\n",
    "station.add_component(meas_current_K1)\n",
    "# station.add_component(meas_current_K2)"
   ]
  },
  {
   "cell_type": "code",
   "execution_count": null,
   "id": "3851dc82",
   "metadata": {},
   "outputs": [],
   "source": [
    "keithley_24.output(0)\n",
    "appl_current(0)\n",
    "sleep(1)\n",
    "# meas_voltage_K2()"
   ]
  },
  {
   "cell_type": "markdown",
   "id": "a23afd58",
   "metadata": {},
   "source": [
    "##  AC parameters"
   ]
  },
  {
   "cell_type": "code",
   "execution_count": 8,
   "id": "769f6a51",
   "metadata": {},
   "outputs": [
    {
     "data": {
      "text/plain": [
       "'meas_voltage_R_Lockin1'"
      ]
     },
     "execution_count": 8,
     "metadata": {},
     "output_type": "execute_result"
    }
   ],
   "source": [
    "appl_current_AC = ScaledParameter(lockin_1.amplitude, division = Irange_AC_division, name = 'appl_current_AC', unit = 'A')\n",
    "appl_voltage_AC = ScaledParameter(lockin_1.amplitude, division = Vrange_AC_division, name = 'appl_voltage_AC', unit = 'V')\n",
    "\n",
    "station.add_component(appl_current_AC)\n",
    "station.add_component(appl_voltage_AC)\n",
    "\n",
    "meas_voltage_AC_L1 = ScaledParameter(lockin_1.X, division = Gain_L1, name = 'meas_voltage_Lockin1', unit = 'V')\n",
    "meas_current_AC_L1 = ScaledParameter(lockin_1.X, division = Gain_L1, name = 'meas_current_Lockin1', unit = 'A')\n",
    "meas_phase_AC_L1 = ScaledParameter(lockin_1.P, division = 1, name = 'meas_phase_Lockin1', unit = 'degree')\n",
    "\n",
    "\n",
    "# meas_voltage_AC_L2 = ScaledParameter(lockin_2.X, division = Gain_L2, name = 'meas_voltage_Lockin2', unit = 'V')\n",
    "# meas_current_AC_L2 = ScaledParameter(lockin_2.X, division = Gain_L2, name = 'meas_current_Lockin2', unit = 'A')\n",
    "# meas_phase_AC_L2 = ScaledParameter(lockin_2.P, division = 1, name = 'meas_phase_Lockin1', unit = 'degree')\n",
    "\n",
    "station.add_component(meas_voltage_AC_L1)\n",
    "station.add_component(meas_current_AC_L1)\n",
    "station.add_component(meas_phase_AC_L1)\n",
    "\n",
    "# station.add_component(meas_voltage_AC_L2)\n",
    "# station.add_component(meas_current_AC_L2)\n",
    "\n",
    "meas_voltage_AC_L1_R = ScaledParameter(lockin_1.R, division = Gain_L1, name = 'meas_voltage_R_Lockin1', unit = 'V')\n",
    "# meas_voltage_AC_L2_R = ScaledParameter(lockin_2.R, division = Gain_L2, name = 'meas_voltage_R_Lockin2', unit = 'V')\n",
    "\n",
    "station.add_component(meas_voltage_AC_L1_R)\n",
    "# station.add_component(meas_voltage_AC_L2_R)"
   ]
  },
  {
   "cell_type": "code",
   "execution_count": 9,
   "id": "bcd10ed7",
   "metadata": {},
   "outputs": [
    {
     "data": {
      "text/plain": [
       "'meas_current_Lockin1_P'"
      ]
     },
     "execution_count": 9,
     "metadata": {},
     "output_type": "execute_result"
    }
   ],
   "source": [
    "meas_voltage_AC_L1_P = ScaledParameter(lockin_1.P, division = 1, name = 'meas_voltage_Lockin1_P', unit = 'degree')\n",
    "meas_current_AC_L1_P = ScaledParameter(lockin_1.P, division = 1, name = 'meas_current_Lockin1_P', unit = 'degree')\n",
    "\n",
    "# meas_voltage_AC_L2_P = ScaledParameter(lockin_2.P, division = 1, name = 'meas_voltage_Lockin2_P', unit = 'degree')\n",
    "# meas_current_AC_L2_P = ScaledParameter(lockin_2.P, division = 1, name = 'meas_current_Lockin2_P', unit = 'degree')\n",
    "\n",
    "station.add_component(meas_voltage_AC_L1_P)\n",
    "station.add_component(meas_current_AC_L1_P)\n",
    "\n",
    "# station.add_component(meas_voltage_AC_L2_P)\n",
    "# station.add_component(meas_current_AC_L2_P)"
   ]
  },
  {
   "cell_type": "markdown",
   "id": "8d9d6239",
   "metadata": {},
   "source": [
    "## Another useful example: magnet using dac (Janis)"
   ]
  },
  {
   "cell_type": "markdown",
   "id": "92e1f309",
   "metadata": {},
   "source": [
    ">2231.2 G per A => 0.22312 T per A<br>\n",
    "I source 10mA per V => 1e-5 A per 1mV<br>\n",
    "result: 0.22312 T/A * 1e-5 A/mV"
   ]
  },
  {
   "cell_type": "code",
   "execution_count": 42,
   "id": "6b2b657a",
   "metadata": {},
   "outputs": [],
   "source": [
    "# def get_R_from_IV(dataid):\n",
    "#     dataset = qc.load_by_id(dataid)\n",
    "#     voltage = dataset.get_parameter_data()['meas_voltage_K2']['meas_voltage_K2']\n",
    "#     current = dataset.get_parameter_data()['meas_voltage_K2']['appl_current']\n",
    "#     fit_values = np.polyfit(current,voltage,1)\n",
    "    \n",
    "#     return fit_values[0]\n",
    "\n",
    "def get_R_from_IV_2(dataid):\n",
    "    dataset = qc.load_by_id(dataid)\n",
    "    voltage = dataset.get_parameter_data()['meas_voltage_K2']['meas_voltage_K2']\n",
    "    current = dataset.get_parameter_data()['meas_voltage_K2']['appl_current']\n",
    "    fit_values = np.polyfit(current,voltage,1)\n",
    "\n",
    "    return fit_values[0]\n",
    "\n",
    "def get_R_from_IV(dataid):\n",
    "    dataset = qc.load_by_id(dataid)\n",
    "    para_list = dataset.parameters.split(\",\")\n",
    "    voltage = dataset.get_parameter_data()[para_list[1]][para_list[1]]\n",
    "    current = dataset.get_parameter_data()[para_list[1]][para_list[0]]\n",
    "    fit_values = np.polyfit(current,voltage,1)\n",
    "    return fit_values[0]\n",
    "\n",
    "\n",
    "def get_R_from_IV_K2(dataid):\n",
    "    dataset = qc.load_by_id(dataid)\n",
    "    voltage = dataset.get_parameter_data()['meas_voltage_K2']['meas_voltage_K2']\n",
    "    current = dataset.get_parameter_data()['meas_voltage_K2']['appl_current']\n",
    "    fit_values = np.polyfit(current,voltage,1)\n",
    "    return fit_values[0]\n",
    "\n",
    "def autosave_plot_by_id(run_id, save_path):\n",
    "    fig, ax = plt.subplots()\n",
    "    plot_by_id(run_id, axes=ax)\n",
    "    plt.savefig(save_path)\n",
    "    plt.close()\n",
    "\n",
    "def get_detaset_info(dataset=dataset):\n",
    "    run_id = dataset.captured_run_id\n",
    "    exp_name = dataset.exp_name\n",
    "    sample_name = dataset.sample_name\n",
    "    name = dataset.name\n",
    "    description = dataset.description\n",
    "    sample_junction = extract_sample_junction(sample_name)\n",
    "    return run_id, exp_name, sample_name, sample_junction, name, description\n",
    "\n",
    "def extract_sample_junction(sample_name):\n",
    "    \"\"\"Extracts the complete sample junction from the provided sample name.\n",
    "\n",
    "    Args:\n",
    "      sample_name: The name of the sample containing the junction information.\n",
    "\n",
    "    Returns:\n",
    "      The extracted sample junction, or None if not found.\n",
    "    \"\"\"\n",
    "\n",
    "    delimiter = \"_J\"\n",
    "    if delimiter in sample_name:\n",
    "        # +3 to include \"_J\"\n",
    "        return sample_name[:sample_name.find(delimiter) + 3]\n",
    "    else:\n",
    "        return None\n",
    "\n",
    "def IV(run_id=1):\n",
    "    dataset = qc.load_by_id(run_id)\n",
    "    R = get_R_from_IV(run_id)\n",
    "    run_id, exp_name, sample_name, sample_junction, name, description = get_detaset_info(\n",
    "        dataset)\n",
    "    df = dataset.to_pandas_dataframe().reset_index()\n",
    "    para_list = dataset.parameters.split(\",\")\n",
    "\n",
    "    # Create a Plotly trace\n",
    "    trace = go.Scatter(x=df[para_list[0]], y=df[para_list[1]]*1e3, mode='lines', name='Voltage vs. Current')\n",
    "\n",
    "    # Create layout with micro-scale y-axis\n",
    "    layout = go.Layout(title=f'<b>#{run_id} {exp_name}</b> {sample_name}, R<sub>fit</sub>={R:.2f} Ω', title_font=dict(size=18),\n",
    "                       xaxis=dict(title=para_list[0], tickfont=dict(size=14),title_font=dict(size=16)),\n",
    "                       yaxis=dict(title=f\"{para_list[1]} mV\", tickfont=dict(size=14),title_font=dict(size=16)), \n",
    "                       width=600, height=600,\n",
    "                       margin=dict(l=5, r=5, t=50, b=5))\n",
    "\n",
    "    # Create the figure\n",
    "    fig = go.Figure(data=[trace], layout=layout)\n",
    "    \n",
    "    fig.show()\n",
    "\n",
    "def IV_diff(run_id=1):\n",
    "    import numpy as np\n",
    "    import plotly.graph_objs as go\n",
    "    from scipy.signal import find_peaks\n",
    "    dataset = qc.load_by_id(run_id)\n",
    "\n",
    "    df = dataset.to_pandas_dataframe().reset_index()\n",
    "    para_list = dataset.parameters.split(\",\")\n",
    "\n",
    "    current = df[para_list[0]].tolist()\n",
    "    voltage = df[para_list[1]].tolist()\n",
    "\n",
    "    # Compute differential of voltage with respect to current\n",
    "    differential_voltage = np.diff(voltage) / np.diff(current)\n",
    "\n",
    "    # Since the differential will have one less data point, adjust the current data\n",
    "    # to have the same length as the differential data\n",
    "    current = current[:-1]\n",
    "\n",
    "    # Find peaks in the differential signal\n",
    "    peaks, _ = find_peaks(differential_voltage)\n",
    "\n",
    "    # Extract peak current and peak differential voltage values\n",
    "    peak_current = [current[i] for i in peaks]\n",
    "    peak_voltage_diff = [differential_voltage[i] for i in peaks]\n",
    "\n",
    "    # Sort the peaks based on their values\n",
    "    sorted_peak_indices = np.argsort(peak_voltage_diff)[::-1]  # Sort in descending order\n",
    "    top_two_peak_indices = sorted_peak_indices[:2]  # Select the top two indices\n",
    "\n",
    "    # Extract the top two peaks\n",
    "    top_two_peak_current = [peak_current[i] for i in top_two_peak_indices]\n",
    "    top_two_peak_voltage_diff = [peak_voltage_diff[i] for i in top_two_peak_indices]\n",
    "\n",
    "    # Calculate the center points of the top two peaks\n",
    "    center_points = [(top_two_peak_current[i] + top_two_peak_current[i+1]) / 2 for i in range(len(top_two_peak_current) - 1)]\n",
    "\n",
    "    # Calculate the difference between the top two biggest peaks\n",
    "    peak_difference = abs(top_two_peak_current[0] - top_two_peak_current[1])\n",
    "\n",
    "    # Determine the appropriate unit for current\n",
    "    if peak_difference >= 1e-3:\n",
    "        unit = \"mA\"\n",
    "        conversion_factor = 1e3\n",
    "    elif peak_difference >= 1e-6:\n",
    "        unit = \"μA\"\n",
    "        conversion_factor = 1e6\n",
    "    else:\n",
    "        unit = \"nA\"\n",
    "        conversion_factor = 1e9\n",
    "\n",
    "    # Determine the appropriate unit for current\n",
    "    if peak_difference >= 1e-3:\n",
    "        unit = \"mA\"\n",
    "    elif peak_difference >= 1e-6:\n",
    "        unit = \"μA\"\n",
    "    elif peak_difference >= 1e-9:\n",
    "        unit = \"nA\"\n",
    "    else:\n",
    "        unit = \"pA\"\n",
    "\n",
    "    # Create a Plotly trace for the differential\n",
    "    trace_diff = go.Scatter(x=[c * conversion_factor for c in current], y=differential_voltage, mode='lines', name='d(Voltage)/d(Current)')\n",
    "    # Add markers for the top two peaks\n",
    "    trace_top_two_peaks = go.Scatter(x=[p * conversion_factor for p in top_two_peak_current], y=top_two_peak_voltage_diff, mode='markers', marker=dict(color='red'), name='Top Two Peaks')\n",
    "    # Add markers for the center points\n",
    "    trace_center_points = go.Scatter(x=center_points, y=[0]*len(center_points), mode='markers', marker=dict(color='blue', symbol='cross'), name='Center Points')\n",
    "\n",
    "    # Create layout\n",
    "    layout = go.Layout(title=f'Run #{id} I vs. dV/dI',\n",
    "                    xaxis=dict(title=f'Current ({unit})'),\n",
    "                    yaxis=dict(title='d(Voltage)/d(Current)'),\n",
    "                    legend=dict(orientation=\"h\", yanchor=\"top\", y=1.10, xanchor=\"center\", x=0.5),\n",
    "                    width=600, height=600  \n",
    "                    )\n",
    "\n",
    "    # Create the figure\n",
    "    fig = go.Figure(data=[trace_diff, trace_top_two_peaks, trace_center_points], layout=layout)\n",
    "\n",
    "    # Add annotation for the current value of center points\n",
    "    for i, center_point in enumerate(center_points):\n",
    "        fig.add_annotation(\n",
    "            x=center_point * conversion_factor,\n",
    "            y=0, #0.4 * max(differential_voltage),\n",
    "            text=f'Center Point: {center_point * conversion_factor:.3f}{unit} <br> Peak difference: {peak_difference*conversion_factor:.3f} {unit}',\n",
    "            showarrow=True,\n",
    "            arrowhead=2,\n",
    "            arrowsize=1,\n",
    "            arrowwidth=2,\n",
    "            arrowcolor='black',\n",
    "            ax=-100,\n",
    "            ay=-200 - 30 * i\n",
    "        )\n",
    "\n",
    "    # Plot the figure\n",
    "    fig.show()\n",
    "\n",
    "def get_Mag(show=True):\n",
    "    Mag_x = magnet_x.field()\n",
    "    Mag_y = magnet_y.field()\n",
    "    Mag_z = magnet_z.field()\n",
    "    if show:\n",
    "        print(f\"Mag_x: {Mag_x*1e3:.6f} mT\")\n",
    "        print(f\"Mag_y: {Mag_y*1e3:.6f} mT\")\n",
    "        print(f\"Mag_z: {Mag_z*1e3:.6f} mT\")\n",
    "    else: \n",
    "        return Mag_x, Mag_y, Mag_z"
   ]
  },
  {
   "cell_type": "code",
   "execution_count": 28,
   "id": "8dcfafdd",
   "metadata": {},
   "outputs": [],
   "source": [
    "dataset = 1"
   ]
  },
  {
   "cell_type": "code",
   "execution_count": 13,
   "id": "934a7b70",
   "metadata": {},
   "outputs": [],
   "source": [
    "appl_current(0.5e-6)\n",
    "appl_current_AC(10e-9)"
   ]
  },
  {
   "cell_type": "code",
   "execution_count": null,
   "id": "e0040749",
   "metadata": {},
   "outputs": [],
   "source": [
    "df = dataset.to_pandas_dataframe().reset_index()\n",
    "df"
   ]
  },
  {
   "cell_type": "markdown",
   "id": "885e5c90",
   "metadata": {},
   "source": [
    "# Simple IVs"
   ]
  },
  {
   "cell_type": "markdown",
   "id": "cdb6884c",
   "metadata": {},
   "source": [
    "## IV"
   ]
  },
  {
   "cell_type": "code",
   "execution_count": null,
   "id": "f6c71fe1",
   "metadata": {},
   "outputs": [],
   "source": [
    "keithley_24.output(1)\n",
    "keithley_2.averaging_count(5)\n",
    "keithley_2.averaging_enabled(True)\n",
    "keithley_2.averaging_enabled(False)\n",
    "keithley_24.output(0)"
   ]
  },
  {
   "cell_type": "code",
   "execution_count": null,
   "id": "88a5c92b",
   "metadata": {},
   "outputs": [],
   "source": [
    "# Set current to 0\n",
    "keithley_24.output(0)\n",
    "appl_current(0e-6)"
   ]
  },
  {
   "cell_type": "code",
   "execution_count": null,
   "id": "af7949e7",
   "metadata": {},
   "outputs": [],
   "source": [
    "IV(3)"
   ]
  },
  {
   "cell_type": "code",
   "execution_count": 54,
   "id": "94d8b3fa",
   "metadata": {},
   "outputs": [
    {
     "name": "stderr",
     "output_type": "stream",
     "text": [
      "There is (are) already experiment(s) with the name of I-V and sample name of 106-1_08-09-45-44G in the database.\n"
     ]
    },
    {
     "name": "stdout",
     "output_type": "stream",
     "text": [
      "Starting experimental run with id: 33. \n"
     ]
    },
    {
     "name": "stderr",
     "output_type": "stream",
     "text": [
      "100%|██████████| 201/201 [01:08<00:00,  2.94it/s]\n",
      "Trying to mark a run completed that was already completed.\n"
     ]
    },
    {
     "name": "stdout",
     "output_type": "stream",
     "text": [
      "R = 657.1833675386433\n"
     ]
    },
    {
     "data": {
      "application/vnd.plotly.v1+json": {
       "config": {
        "plotlyServerURL": "https://plot.ly"
       },
       "data": [
        {
         "mode": "lines",
         "name": "Voltage vs. Current",
         "type": "scatter",
         "x": [
          -1e-7,
          -9.9e-8,
          -9.8e-8,
          -9.7e-8,
          -9.6e-8,
          -9.5e-8,
          -9.4e-8,
          -9.3e-8,
          -9.2e-8,
          -9.1e-8,
          -9e-8,
          -8.9e-8,
          -8.8e-8,
          -8.7e-8,
          -8.6e-8,
          -8.5e-8,
          -8.4e-8,
          -8.3e-8,
          -8.2e-8,
          -8.1e-8,
          -8e-8,
          -7.9e-8,
          -7.8e-8,
          -7.7e-8,
          -7.6e-8,
          -7.5e-8,
          -7.4e-8,
          -7.3e-8,
          -7.2e-8,
          -7.1e-8,
          -7e-8,
          -6.9e-8,
          -6.8e-8,
          -6.7e-8,
          -6.6e-8,
          -6.5e-8,
          -6.4e-8,
          -6.3e-8,
          -6.2e-8,
          -6.1e-8,
          -6e-8,
          -5.9e-8,
          -5.8e-8,
          -5.7e-8,
          -5.6e-8,
          -5.5e-8,
          -5.4e-8,
          -5.3e-8,
          -5.2e-8,
          -5.1e-8,
          -5e-8,
          -4.9e-8,
          -4.8e-8,
          -4.7e-8,
          -4.6e-8,
          -4.5e-8,
          -4.4e-8,
          -4.3e-8,
          -4.2e-8,
          -4.1e-8,
          -4e-8,
          -3.9e-8,
          -3.8e-8,
          -3.7e-8,
          -3.6e-8,
          -3.5e-8,
          -3.4e-8,
          -3.3e-8,
          -3.2e-8,
          -3.1e-8,
          -3e-8,
          -2.9e-8,
          -2.8e-8,
          -2.7e-8,
          -2.6e-8,
          -2.5e-8,
          -2.4e-8,
          -2.3e-8,
          -2.2e-8,
          -2.1e-8,
          -2e-8,
          -1.9e-8,
          -1.8e-8,
          -1.7e-8,
          -1.6e-8,
          -1.5e-8,
          -1.4e-8,
          -1.3e-8,
          -1.2e-8,
          -1.1e-8,
          -1e-8,
          -9.00000000000001e-9,
          -8.00000000000001e-9,
          -7.00000000000001e-9,
          -6.00000000000001e-9,
          -5.00000000000001e-9,
          -4.00000000000001e-9,
          -3.00000000000001e-9,
          -2e-9,
          -1.00000000000001e-9,
          -1.32348898008484e-23,
          9.99999999999996e-10,
          1.99999999999999e-9,
          2.99999999999999e-9,
          3.99999999999998e-9,
          4.99999999999999e-9,
          5.99999999999999e-9,
          6.99999999999998e-9,
          7.99999999999999e-9,
          8.99999999999999e-9,
          9.99999999999998e-9,
          1.1e-8,
          1.2e-8,
          1.3e-8,
          1.4e-8,
          1.5e-8,
          1.6e-8,
          1.7e-8,
          1.8e-8,
          1.9e-8,
          2e-8,
          2.1e-8,
          2.2e-8,
          2.3e-8,
          2.4e-8,
          2.5e-8,
          2.6e-8,
          2.7e-8,
          2.8e-8,
          2.9e-8,
          3e-8,
          3.1e-8,
          3.2e-8,
          3.3e-8,
          3.4e-8,
          3.5e-8,
          3.6e-8,
          3.7e-8,
          3.8e-8,
          3.9e-8,
          4e-8,
          4.1e-8,
          4.2e-8,
          4.3e-8,
          4.4e-8,
          4.5e-8,
          4.6e-8,
          4.7e-8,
          4.8e-8,
          4.9e-8,
          5e-8,
          5.1e-8,
          5.2e-8,
          5.3e-8,
          5.4e-8,
          5.5e-8,
          5.6e-8,
          5.7e-8,
          5.8e-8,
          5.9e-8,
          6e-8,
          6.1e-8,
          6.2e-8,
          6.3e-8,
          6.4e-8,
          6.5e-8,
          6.6e-8,
          6.7e-8,
          6.8e-8,
          6.9e-8,
          7e-8,
          7.1e-8,
          7.2e-8,
          7.3e-8,
          7.4e-8,
          7.5e-8,
          7.6e-8,
          7.7e-8,
          7.8e-8,
          7.9e-8,
          8e-8,
          8.1e-8,
          8.2e-8,
          8.3e-8,
          8.4e-8,
          8.5e-8,
          8.6e-8,
          8.7e-8,
          8.8e-8,
          8.9e-8,
          9e-8,
          9.1e-8,
          9.2e-8,
          9.3e-8,
          9.4e-8,
          9.5e-8,
          9.6e-8,
          9.7e-8,
          9.8e-8,
          9.9e-8,
          1e-7
         ],
         "y": [
          -0.0628081,
          -0.062041729999999996,
          -0.06127385,
          -0.06050664,
          -0.05984224,
          -0.059456800000000004,
          -0.05853129,
          -0.057892400000000004,
          -0.05729099,
          -0.05695828,
          -0.0562099,
          -0.05542066,
          -0.05534567,
          -0.05418186,
          -0.053731930000000004,
          -0.05342448,
          -0.05273609,
          -0.051736790000000005,
          -0.051271859999999995,
          -0.05077048,
          -0.04964417,
          -0.04902027,
          -0.048464980000000005,
          -0.047943070000000004,
          -0.04731467,
          -0.046129489999999995,
          -0.045904520000000004,
          -0.04519664,
          -0.0442191,
          -0.043649190000000004,
          -0.04340338,
          -0.04246303,
          -0.04173115,
          -0.04126014,
          -0.04060924,
          -0.040070829999999995,
          -0.0391931,
          -0.03851071,
          -0.03820378,
          -0.037495890000000004,
          -0.03673101,
          -0.0356967,
          -0.03517479,
          -0.034012469999999996,
          -0.03413267,
          -0.03345628,
          -0.03298543,
          -0.03158465,
          -0.031211209999999996,
          -0.030531660000000002,
          -0.02988077,
          -0.02928686,
          -0.02851336,
          -0.02778148,
          -0.027050119999999997,
          -0.027165599999999998,
          -0.02611427,
          -0.02551999,
          -0.024737119999999998,
          -0.024071219999999997,
          -0.02393437,
          -0.0231395,
          -0.02196166,
          -0.02185368,
          -0.020769350000000002,
          -0.02033374,
          -0.019786329999999998,
          -0.018765,
          -0.01828185,
          -0.017304009999999998,
          -0.01694534,
          -0.016276449999999998,
          -0.015753029999999998,
          -0.01486323,
          -0.01411485,
          -0.01367842,
          -0.01303053,
          -0.01206768,
          -0.01145128,
          -0.0107434,
          -0.01002651,
          -0.009861761,
          -0.009182371,
          -0.008381499,
          -0.00796989,
          -0.007283001,
          -0.006284162,
          -0.005733525000000001,
          -0.005241604,
          -0.004620254,
          -0.0038178829999999998,
          -0.003148991,
          -0.002484371,
          -0.0019444579999999998,
          -0.001424042,
          -0.0010428780000000001,
          0.0001134364,
          0.000545367,
          0.001520062,
          0.0018410109999999998,
          0.0025442480000000003,
          0.0033226230000000002,
          0.003697563,
          0.00453023,
          0.005220119,
          0.005736036,
          0.006533232999999999,
          0.007043151,
          0.00751685,
          0.008187242,
          0.009094597,
          0.009479132,
          0.01065494,
          0.01115736,
          0.01227528,
          0.012422260000000001,
          0.01318713,
          0.01367313,
          0.01419955,
          0.01497492,
          0.01559133,
          0.01629621,
          0.01705007,
          0.01776845,
          0.01818539,
          0.01899833,
          0.01943926,
          0.02016296,
          0.02061139,
          0.021739210000000002,
          0.02253401,
          0.02286096,
          0.023078420000000002,
          0.02422521,
          0.02444867,
          0.02524205,
          0.026296450000000002,
          0.02672238,
          0.02748576,
          0.02799989,
          0.028841250000000002,
          0.029223620000000002,
          0.02988501,
          0.03086585,
          0.03116213,
          0.03208598,
          0.032439920000000004,
          0.03364998,
          0.03432487,
          0.03470431,
          0.036040590000000004,
          0.03674248,
          0.0376034,
          0.038092320000000006,
          0.038092320000000006,
          0.03905562,
          0.039628529999999995,
          0.04047117,
          0.04119405,
          0.04208941,
          0.04276939,
          0.04352077,
          0.04376823,
          0.04427643,
          0.04520028,
          0.045419249999999994,
          0.04643136,
          0.04725923,
          0.04735679,
          0.048291139999999996,
          0.04876057,
          0.04967175,
          0.05031215,
          0.0506541,
          0.05167432,
          0.05224723,
          0.05266364,
          0.053464519999999995,
          0.05398793,
          0.05503244,
          0.055675840000000004,
          0.05586331,
          0.05717681,
          0.05757424,
          0.0584123,
          0.05884722999999999,
          0.05942914,
          0.06018068,
          0.06101155,
          0.061737429999999996,
          0.061850060000000005,
          0.06279190999999999,
          0.06323793,
          0.06421576999999999,
          0.06478268,
          0.06527968,
          0.0658091,
          0.066442,
          0.06739465,
          0.06807703999999999,
          0.06889316000000001
         ]
        }
       ],
       "layout": {
        "height": 600,
        "margin": {
         "b": 5,
         "l": 5,
         "r": 5,
         "t": 50
        },
        "template": {
         "data": {
          "bar": [
           {
            "error_x": {
             "color": "#2a3f5f"
            },
            "error_y": {
             "color": "#2a3f5f"
            },
            "marker": {
             "line": {
              "color": "#E5ECF6",
              "width": 0.5
             },
             "pattern": {
              "fillmode": "overlay",
              "size": 10,
              "solidity": 0.2
             }
            },
            "type": "bar"
           }
          ],
          "barpolar": [
           {
            "marker": {
             "line": {
              "color": "#E5ECF6",
              "width": 0.5
             },
             "pattern": {
              "fillmode": "overlay",
              "size": 10,
              "solidity": 0.2
             }
            },
            "type": "barpolar"
           }
          ],
          "carpet": [
           {
            "aaxis": {
             "endlinecolor": "#2a3f5f",
             "gridcolor": "white",
             "linecolor": "white",
             "minorgridcolor": "white",
             "startlinecolor": "#2a3f5f"
            },
            "baxis": {
             "endlinecolor": "#2a3f5f",
             "gridcolor": "white",
             "linecolor": "white",
             "minorgridcolor": "white",
             "startlinecolor": "#2a3f5f"
            },
            "type": "carpet"
           }
          ],
          "choropleth": [
           {
            "colorbar": {
             "outlinewidth": 0,
             "ticks": ""
            },
            "type": "choropleth"
           }
          ],
          "contour": [
           {
            "colorbar": {
             "outlinewidth": 0,
             "ticks": ""
            },
            "colorscale": [
             [
              0,
              "#0d0887"
             ],
             [
              0.1111111111111111,
              "#46039f"
             ],
             [
              0.2222222222222222,
              "#7201a8"
             ],
             [
              0.3333333333333333,
              "#9c179e"
             ],
             [
              0.4444444444444444,
              "#bd3786"
             ],
             [
              0.5555555555555556,
              "#d8576b"
             ],
             [
              0.6666666666666666,
              "#ed7953"
             ],
             [
              0.7777777777777778,
              "#fb9f3a"
             ],
             [
              0.8888888888888888,
              "#fdca26"
             ],
             [
              1,
              "#f0f921"
             ]
            ],
            "type": "contour"
           }
          ],
          "contourcarpet": [
           {
            "colorbar": {
             "outlinewidth": 0,
             "ticks": ""
            },
            "type": "contourcarpet"
           }
          ],
          "heatmap": [
           {
            "colorbar": {
             "outlinewidth": 0,
             "ticks": ""
            },
            "colorscale": [
             [
              0,
              "#0d0887"
             ],
             [
              0.1111111111111111,
              "#46039f"
             ],
             [
              0.2222222222222222,
              "#7201a8"
             ],
             [
              0.3333333333333333,
              "#9c179e"
             ],
             [
              0.4444444444444444,
              "#bd3786"
             ],
             [
              0.5555555555555556,
              "#d8576b"
             ],
             [
              0.6666666666666666,
              "#ed7953"
             ],
             [
              0.7777777777777778,
              "#fb9f3a"
             ],
             [
              0.8888888888888888,
              "#fdca26"
             ],
             [
              1,
              "#f0f921"
             ]
            ],
            "type": "heatmap"
           }
          ],
          "heatmapgl": [
           {
            "colorbar": {
             "outlinewidth": 0,
             "ticks": ""
            },
            "colorscale": [
             [
              0,
              "#0d0887"
             ],
             [
              0.1111111111111111,
              "#46039f"
             ],
             [
              0.2222222222222222,
              "#7201a8"
             ],
             [
              0.3333333333333333,
              "#9c179e"
             ],
             [
              0.4444444444444444,
              "#bd3786"
             ],
             [
              0.5555555555555556,
              "#d8576b"
             ],
             [
              0.6666666666666666,
              "#ed7953"
             ],
             [
              0.7777777777777778,
              "#fb9f3a"
             ],
             [
              0.8888888888888888,
              "#fdca26"
             ],
             [
              1,
              "#f0f921"
             ]
            ],
            "type": "heatmapgl"
           }
          ],
          "histogram": [
           {
            "marker": {
             "pattern": {
              "fillmode": "overlay",
              "size": 10,
              "solidity": 0.2
             }
            },
            "type": "histogram"
           }
          ],
          "histogram2d": [
           {
            "colorbar": {
             "outlinewidth": 0,
             "ticks": ""
            },
            "colorscale": [
             [
              0,
              "#0d0887"
             ],
             [
              0.1111111111111111,
              "#46039f"
             ],
             [
              0.2222222222222222,
              "#7201a8"
             ],
             [
              0.3333333333333333,
              "#9c179e"
             ],
             [
              0.4444444444444444,
              "#bd3786"
             ],
             [
              0.5555555555555556,
              "#d8576b"
             ],
             [
              0.6666666666666666,
              "#ed7953"
             ],
             [
              0.7777777777777778,
              "#fb9f3a"
             ],
             [
              0.8888888888888888,
              "#fdca26"
             ],
             [
              1,
              "#f0f921"
             ]
            ],
            "type": "histogram2d"
           }
          ],
          "histogram2dcontour": [
           {
            "colorbar": {
             "outlinewidth": 0,
             "ticks": ""
            },
            "colorscale": [
             [
              0,
              "#0d0887"
             ],
             [
              0.1111111111111111,
              "#46039f"
             ],
             [
              0.2222222222222222,
              "#7201a8"
             ],
             [
              0.3333333333333333,
              "#9c179e"
             ],
             [
              0.4444444444444444,
              "#bd3786"
             ],
             [
              0.5555555555555556,
              "#d8576b"
             ],
             [
              0.6666666666666666,
              "#ed7953"
             ],
             [
              0.7777777777777778,
              "#fb9f3a"
             ],
             [
              0.8888888888888888,
              "#fdca26"
             ],
             [
              1,
              "#f0f921"
             ]
            ],
            "type": "histogram2dcontour"
           }
          ],
          "mesh3d": [
           {
            "colorbar": {
             "outlinewidth": 0,
             "ticks": ""
            },
            "type": "mesh3d"
           }
          ],
          "parcoords": [
           {
            "line": {
             "colorbar": {
              "outlinewidth": 0,
              "ticks": ""
             }
            },
            "type": "parcoords"
           }
          ],
          "pie": [
           {
            "automargin": true,
            "type": "pie"
           }
          ],
          "scatter": [
           {
            "fillpattern": {
             "fillmode": "overlay",
             "size": 10,
             "solidity": 0.2
            },
            "type": "scatter"
           }
          ],
          "scatter3d": [
           {
            "line": {
             "colorbar": {
              "outlinewidth": 0,
              "ticks": ""
             }
            },
            "marker": {
             "colorbar": {
              "outlinewidth": 0,
              "ticks": ""
             }
            },
            "type": "scatter3d"
           }
          ],
          "scattercarpet": [
           {
            "marker": {
             "colorbar": {
              "outlinewidth": 0,
              "ticks": ""
             }
            },
            "type": "scattercarpet"
           }
          ],
          "scattergeo": [
           {
            "marker": {
             "colorbar": {
              "outlinewidth": 0,
              "ticks": ""
             }
            },
            "type": "scattergeo"
           }
          ],
          "scattergl": [
           {
            "marker": {
             "colorbar": {
              "outlinewidth": 0,
              "ticks": ""
             }
            },
            "type": "scattergl"
           }
          ],
          "scattermapbox": [
           {
            "marker": {
             "colorbar": {
              "outlinewidth": 0,
              "ticks": ""
             }
            },
            "type": "scattermapbox"
           }
          ],
          "scatterpolar": [
           {
            "marker": {
             "colorbar": {
              "outlinewidth": 0,
              "ticks": ""
             }
            },
            "type": "scatterpolar"
           }
          ],
          "scatterpolargl": [
           {
            "marker": {
             "colorbar": {
              "outlinewidth": 0,
              "ticks": ""
             }
            },
            "type": "scatterpolargl"
           }
          ],
          "scatterternary": [
           {
            "marker": {
             "colorbar": {
              "outlinewidth": 0,
              "ticks": ""
             }
            },
            "type": "scatterternary"
           }
          ],
          "surface": [
           {
            "colorbar": {
             "outlinewidth": 0,
             "ticks": ""
            },
            "colorscale": [
             [
              0,
              "#0d0887"
             ],
             [
              0.1111111111111111,
              "#46039f"
             ],
             [
              0.2222222222222222,
              "#7201a8"
             ],
             [
              0.3333333333333333,
              "#9c179e"
             ],
             [
              0.4444444444444444,
              "#bd3786"
             ],
             [
              0.5555555555555556,
              "#d8576b"
             ],
             [
              0.6666666666666666,
              "#ed7953"
             ],
             [
              0.7777777777777778,
              "#fb9f3a"
             ],
             [
              0.8888888888888888,
              "#fdca26"
             ],
             [
              1,
              "#f0f921"
             ]
            ],
            "type": "surface"
           }
          ],
          "table": [
           {
            "cells": {
             "fill": {
              "color": "#EBF0F8"
             },
             "line": {
              "color": "white"
             }
            },
            "header": {
             "fill": {
              "color": "#C8D4E3"
             },
             "line": {
              "color": "white"
             }
            },
            "type": "table"
           }
          ]
         },
         "layout": {
          "annotationdefaults": {
           "arrowcolor": "#2a3f5f",
           "arrowhead": 0,
           "arrowwidth": 1
          },
          "autotypenumbers": "strict",
          "coloraxis": {
           "colorbar": {
            "outlinewidth": 0,
            "ticks": ""
           }
          },
          "colorscale": {
           "diverging": [
            [
             0,
             "#8e0152"
            ],
            [
             0.1,
             "#c51b7d"
            ],
            [
             0.2,
             "#de77ae"
            ],
            [
             0.3,
             "#f1b6da"
            ],
            [
             0.4,
             "#fde0ef"
            ],
            [
             0.5,
             "#f7f7f7"
            ],
            [
             0.6,
             "#e6f5d0"
            ],
            [
             0.7,
             "#b8e186"
            ],
            [
             0.8,
             "#7fbc41"
            ],
            [
             0.9,
             "#4d9221"
            ],
            [
             1,
             "#276419"
            ]
           ],
           "sequential": [
            [
             0,
             "#0d0887"
            ],
            [
             0.1111111111111111,
             "#46039f"
            ],
            [
             0.2222222222222222,
             "#7201a8"
            ],
            [
             0.3333333333333333,
             "#9c179e"
            ],
            [
             0.4444444444444444,
             "#bd3786"
            ],
            [
             0.5555555555555556,
             "#d8576b"
            ],
            [
             0.6666666666666666,
             "#ed7953"
            ],
            [
             0.7777777777777778,
             "#fb9f3a"
            ],
            [
             0.8888888888888888,
             "#fdca26"
            ],
            [
             1,
             "#f0f921"
            ]
           ],
           "sequentialminus": [
            [
             0,
             "#0d0887"
            ],
            [
             0.1111111111111111,
             "#46039f"
            ],
            [
             0.2222222222222222,
             "#7201a8"
            ],
            [
             0.3333333333333333,
             "#9c179e"
            ],
            [
             0.4444444444444444,
             "#bd3786"
            ],
            [
             0.5555555555555556,
             "#d8576b"
            ],
            [
             0.6666666666666666,
             "#ed7953"
            ],
            [
             0.7777777777777778,
             "#fb9f3a"
            ],
            [
             0.8888888888888888,
             "#fdca26"
            ],
            [
             1,
             "#f0f921"
            ]
           ]
          },
          "colorway": [
           "#636efa",
           "#EF553B",
           "#00cc96",
           "#ab63fa",
           "#FFA15A",
           "#19d3f3",
           "#FF6692",
           "#B6E880",
           "#FF97FF",
           "#FECB52"
          ],
          "font": {
           "color": "#2a3f5f"
          },
          "geo": {
           "bgcolor": "white",
           "lakecolor": "white",
           "landcolor": "#E5ECF6",
           "showlakes": true,
           "showland": true,
           "subunitcolor": "white"
          },
          "hoverlabel": {
           "align": "left"
          },
          "hovermode": "closest",
          "mapbox": {
           "style": "light"
          },
          "paper_bgcolor": "white",
          "plot_bgcolor": "#E5ECF6",
          "polar": {
           "angularaxis": {
            "gridcolor": "white",
            "linecolor": "white",
            "ticks": ""
           },
           "bgcolor": "#E5ECF6",
           "radialaxis": {
            "gridcolor": "white",
            "linecolor": "white",
            "ticks": ""
           }
          },
          "scene": {
           "xaxis": {
            "backgroundcolor": "#E5ECF6",
            "gridcolor": "white",
            "gridwidth": 2,
            "linecolor": "white",
            "showbackground": true,
            "ticks": "",
            "zerolinecolor": "white"
           },
           "yaxis": {
            "backgroundcolor": "#E5ECF6",
            "gridcolor": "white",
            "gridwidth": 2,
            "linecolor": "white",
            "showbackground": true,
            "ticks": "",
            "zerolinecolor": "white"
           },
           "zaxis": {
            "backgroundcolor": "#E5ECF6",
            "gridcolor": "white",
            "gridwidth": 2,
            "linecolor": "white",
            "showbackground": true,
            "ticks": "",
            "zerolinecolor": "white"
           }
          },
          "shapedefaults": {
           "line": {
            "color": "#2a3f5f"
           }
          },
          "ternary": {
           "aaxis": {
            "gridcolor": "white",
            "linecolor": "white",
            "ticks": ""
           },
           "baxis": {
            "gridcolor": "white",
            "linecolor": "white",
            "ticks": ""
           },
           "bgcolor": "#E5ECF6",
           "caxis": {
            "gridcolor": "white",
            "linecolor": "white",
            "ticks": ""
           }
          },
          "title": {
           "x": 0.05
          },
          "xaxis": {
           "automargin": true,
           "gridcolor": "white",
           "linecolor": "white",
           "ticks": "",
           "title": {
            "standoff": 15
           },
           "zerolinecolor": "white",
           "zerolinewidth": 2
          },
          "yaxis": {
           "automargin": true,
           "gridcolor": "white",
           "linecolor": "white",
           "ticks": "",
           "title": {
            "standoff": 15
           },
           "zerolinecolor": "white",
           "zerolinewidth": 2
          }
         }
        },
        "title": {
         "font": {
          "size": 18
         },
         "text": "<b>#33 I-V</b> 106-1_08-09-45-44G, R<sub>fit</sub>=657.18 Ω"
        },
        "width": 600,
        "xaxis": {
         "tickfont": {
          "size": 14
         },
         "title": {
          "font": {
           "size": 16
          },
          "text": "appl_current"
         }
        },
        "yaxis": {
         "tickfont": {
          "size": 14
         },
         "title": {
          "font": {
           "size": 16
          },
          "text": "meas_voltage_K1 mV"
         }
        }
       }
      }
     },
     "metadata": {},
     "output_type": "display_data"
    },
    {
     "data": {
      "image/png": "[encoded data removed]",
      "text/plain": [
       "<Figure size 640x480 with 1 Axes>"
      ]
     },
     "metadata": {},
     "output_type": "display_data"
    },
    {
     "data": {
      "image/png": "[encoded data removed]",
      "text/plain": [
       "<Figure size 640x480 with 1 Axes>"
      ]
     },
     "metadata": {},
     "output_type": "display_data"
    },
    {
     "data": {
      "image/png": "[encoded data removed]",
      "text/plain": [
       "<Figure size 640x480 with 1 Axes>"
      ]
     },
     "metadata": {},
     "output_type": "display_data"
    }
   ],
   "source": [
    "I_range=0.1e-6          \n",
    "appl_current(-I_range) #Limit:1e-5 Amp(1MOhms risistor),1e-6 Amp(10MOhms risistor)\n",
    "sleep(2)\n",
    "# station.snapshot(update=True);\n",
    "exp = qc.new_experiment('I-V', sample_name='106-1_08-09-45-44G')\n",
    "dataid = do1d(appl_current, -I_range ,I_range, 201, 0.3, meas_voltage_K1,meas_voltage_AC_L1,meas_voltage_AC_L1_P)\n",
    "appl_current(0)\n",
    "\n",
    "\n",
    "plot_by_id(dataid)\n",
    "#save_path = r\"C:\\qcodes\\personal_scripts\\Albert\\104\\Plot\\104_{}.png\".format(dataid)  # Path to save the plot image\n",
    "#autosave_plot_by_id(dataid, save_path)\n",
    "print(f\"R = {get_R_from_IV(dataid)}\")\n",
    "dataset = qc.load_by_id(dataid)\n",
    "IV(dataid)\n",
    "# IV_diff(dataid)"
   ]
  },
  {
   "cell_type": "code",
   "execution_count": null,
   "id": "9ca53ea4",
   "metadata": {},
   "outputs": [],
   "source": [
    "for i in tqdm(range(1000)):\n",
    "    keithley_24.output(1)\n",
    "    I_range=1e-6\n",
    "    appl_current(-I_range) #Limit:1e-5 Amp(1MOhms risistor),1e-6 Amp(10MOhms risistor)\n",
    "    sleep(0.001)\n",
    "    # station.snapshot(update=True);\n",
    "    exp = qc.new_experiment('I-V', sample_name=f'103-03_J1_33-32-30-31_1M_F{i+1}')\n",
    "    dataid = do1d(appl_current, -I_range ,I_range, 101, 0.0001, meas_voltage_K2, meas_voltage_AC_L1,meas_voltage_AC_L1_P)\n",
    "    exp = qc.new_experiment('I-V', sample_name=f'103-03_J1_33-32-30-31_1M_B{i+1}')\n",
    "    dataid = do1d(appl_current, I_range ,-I_range, 101, 0.0001, meas_voltage_K2)\n",
    "    keithley_24.output(0)\n",
    "    clear_output(True)"
   ]
  },
  {
   "cell_type": "code",
   "execution_count": null,
   "id": "ffc1e4dd",
   "metadata": {},
   "outputs": [],
   "source": [
    "get_Mag()"
   ]
  },
  {
   "cell_type": "code",
   "execution_count": null,
   "id": "2908c940",
   "metadata": {},
   "outputs": [],
   "source": [
    "SGS.off()"
   ]
  },
  {
   "cell_type": "code",
   "execution_count": null,
   "id": "d82eb13a",
   "metadata": {},
   "outputs": [],
   "source": [
    "SGS.power(0)"
   ]
  },
  {
   "cell_type": "code",
   "execution_count": null,
   "id": "242d95fc",
   "metadata": {},
   "outputs": [],
   "source": [
    "keithley_2.averaging_count(5)\n",
    "keithley_2.averaging_enabled(True)"
   ]
  },
  {
   "cell_type": "code",
   "execution_count": null,
   "id": "e0c518ad",
   "metadata": {},
   "outputs": [],
   "source": [
    "for i in tqdm(range(21)):\n",
    "    I_range = round(round(0.55 + 5*i * 1e-4, 6)* 1e-6, 10)  # Round to 3 decimal places\n",
    "    print(I_range)\n"
   ]
  },
  {
   "cell_type": "code",
   "execution_count": null,
   "id": "0999a81b",
   "metadata": {},
   "outputs": [],
   "source": [
    "for i in tqdm(range(21)):\n",
    "    keithley_24.output(1)\n",
    "    I_range = round(round(0.55 + 5*i * 1e-4, 6)* 1e-6, 10) \n",
    "    appl_current(-I_range) #Limit:1e-5 Amp(1MOhms risistor),1e-6 Amp(10MOhms risistor)\n",
    "    sleep(2)\n",
    "    # station.snapshot(update=True);\n",
    "    exp = qc.new_experiment('I-V', sample_name=f'103-04_J1_24-25-05-04(06-07G)_1M_By@0mT_{-I_range}_201')\n",
    "    dataid = do1d(appl_current, -I_range ,I_range, 201, 0.00001, meas_voltage_K2)\n",
    "\n",
    "    appl_current(0)\n",
    "    keithley_24.output(0)\n",
    "\n",
    "\n",
    "    plot_by_id(dataid)\n",
    "    save_path = r\"D:\\data\\Albert\\103\\Plot\\104_{}.png\".format(dataid)  # Path to save the plot image\n",
    "    autosave_plot_by_id(dataid, save_path)\n",
    "    print(f\"ID:{dataid}\")\n",
    "    print(f\"R = {get_R_from_IV_2(dataid)}\")\n",
    "    dataset = qc.load_by_id(dataid)\n",
    "    IV(id=dataid)\n",
    "    IV_diff(id=dataid)"
   ]
  },
  {
   "cell_type": "code",
   "execution_count": null,
   "id": "e9ac98ca",
   "metadata": {},
   "outputs": [],
   "source": [
    "keithley_2.averaging_count(5)\n",
    "keithley_2.averaging_enabled(True)"
   ]
  },
  {
   "cell_type": "code",
   "execution_count": null,
   "id": "ad55deb3",
   "metadata": {},
   "outputs": [],
   "source": [
    "keithley_24.output(1)\n",
    "I_range = -6e-6\n",
    "appl_current(-I_range) #Limit:1e-5 Amp(1MOhms risistor),1e-6 Amp(10MOhms risistor)\n",
    "sleep(2)\n",
    "# station.snapshot(update=True);\n",
    "exp = qc.new_experiment('I-V', sample_name=f'103-03_J2_27-26-30-31M(32G-33G-28G-29G)_1M_By@0.1mT{-I_range}')\n",
    "dataid = do1d(appl_current, -I_range  ,I_range , 2601, 0.00001, meas_voltage_K2)\n",
    "appl_current(0)\n",
    "keithley_24.output(0)\n",
    "plot_by_id(dataid)\n",
    "save_path = r\"D:\\data\\Albert\\103\\Plot\\104_{}.png\".format(dataid)  # Path to save the plot image\n",
    "autosave_plot_by_id(dataid, save_path)\n",
    "print(f\"R = {get_R_from_IV_2(dataid)}\")\n",
    "dataset = qc.load_by_id(dataid)"
   ]
  },
  {
   "cell_type": "code",
   "execution_count": null,
   "id": "2b0e1832",
   "metadata": {},
   "outputs": [],
   "source": [
    "keithley_24.output(1)\n",
    "I_range = 6e-6\n",
    "appl_current(-I_range) #Limit:1e-5 Amp(1MOhms risistor),1e-6 Amp(10MOhms risistor)\n",
    "sleep(2)\n",
    "# station.snapshot(update=True);\n",
    "exp = qc.new_experiment('I-V', sample_name=f'103-03_J2_27-26-30-31M(32G-33G-28G-29G)_1M_By@0.1mT{-I_range}')\n",
    "dataid = do1d(appl_current, -I_range  ,I_range , 2601, 0.00001, meas_voltage_K2)\n",
    "appl_current(0)\n",
    "keithley_24.output(0)\n",
    "plot_by_id(dataid)\n",
    "save_path = r\"D:\\data\\Albert\\103\\Plot\\104_{}.png\".format(dataid)  # Path to save the plot image\n",
    "autosave_plot_by_id(dataid, save_path)\n",
    "print(f\"ID:{dataid}\")\n",
    "print(f\"R = {get_R_from_IV_2(dataid)}\")\n",
    "dataset = qc.load_by_id(dataid)\n",
    "# IV(id=dataid)\n",
    "# IV_diff(id=dataid)"
   ]
  },
  {
   "cell_type": "code",
   "execution_count": null,
   "id": "e90dc212",
   "metadata": {},
   "outputs": [],
   "source": [
    "25-05-06-07(04-24G)\n"
   ]
  },
  {
   "cell_type": "code",
   "execution_count": null,
   "id": "5c79e45a",
   "metadata": {},
   "outputs": [],
   "source": [
    "keithley_24.output(1)\n",
    "I_range=-7e-6\n",
    "appl_current(-I_range) #Limit:1e-5 Amp(1MOhms risistor),1e-6 Amp(10MOhms risistor)\n",
    "sleep(2)\n",
    "# station.snapshot(update=True);\n",
    "exp = qc.new_experiment('I-V', sample_name='103-03_J2_32-30-26-27_1M_By@0mT')\n",
    "dataid = do1d(appl_current, -I_range ,I_range, 1401, 0.0001, meas_voltage_K2)\n",
    "\n",
    "appl_current(0)\n",
    "keithley_24.output(0)\n",
    "\n",
    "\n",
    "plot_by_id(dataid)\n",
    "save_path = r\"D:\\data\\Albert\\103\\Plot\\104_{}.png\".format(dataid)  # Path to save the plot image\n",
    "autosave_plot_by_id(dataid, save_path)\n",
    "print(f\"ID:{dataid}\")\n",
    "print(f\"R = {get_R_from_IV_2(dataid)}\")\n",
    "dataset = qc.load_by_id(dataid)\n",
    "IV(id=dataid)\n",
    "IV_diff(id=dataid)"
   ]
  },
  {
   "cell_type": "code",
   "execution_count": null,
   "id": "8666f593",
   "metadata": {},
   "outputs": [],
   "source": [
    "keithley_24.output(1)\n",
    "I_range=7e-6\n",
    "appl_current(-I_range) #Limit:1e-5 Amp(1MOhms risistor),1e-6 Amp(10MOhms risistor)\n",
    "sleep(2)\n",
    "# station.snapshot(update=True);\n",
    "exp = qc.new_experiment('I-V', sample_name='103-03_J2_32-30-26-27_1M_By@0mT')\n",
    "dataid = do1d(appl_current, -I_range ,I_range, 1401, 0.0001, meas_voltage_K2)\n",
    "\n",
    "appl_current(0)\n",
    "keithley_24.output(0)\n",
    "\n",
    "\n",
    "plot_by_id(dataid)\n",
    "save_path = r\"D:\\data\\Albert\\103\\Plot\\104_{}.png\".format(dataid)  # Path to save the plot image\n",
    "autosave_plot_by_id(dataid, save_path)\n",
    "print(f\"ID:{dataid}\")\n",
    "print(f\"R = {get_R_from_IV_2(dataid)}\")\n",
    "dataset = qc.load_by_id(dataid)\n",
    "IV(id=dataid)\n",
    "IV_diff(id=dataid)"
   ]
  },
  {
   "cell_type": "code",
   "execution_count": null,
   "id": "4ce7045d",
   "metadata": {},
   "outputs": [],
   "source": [
    "# Set current to 0\n",
    "keithley_24.output(0)\n",
    "appl_current(0e-6)"
   ]
  },
  {
   "cell_type": "code",
   "execution_count": null,
   "id": "749b64e4",
   "metadata": {},
   "outputs": [],
   "source": [
    "keithley_24.output(1)\n",
    "appl_current(0.1e-7)"
   ]
  },
  {
   "cell_type": "code",
   "execution_count": null,
   "id": "9f4da299",
   "metadata": {
    "scrolled": true
   },
   "outputs": [],
   "source": [
    "runid=6\n",
    "print(get_R_from_IV_2(runid))"
   ]
  },
  {
   "cell_type": "markdown",
   "id": "3196b90e",
   "metadata": {},
   "source": [
    "## 加TG (1D)"
   ]
  },
  {
   "cell_type": "code",
   "execution_count": null,
   "id": "08a5e298",
   "metadata": {},
   "outputs": [],
   "source": [
    "keithley_19.output(1)\n",
    "appl_TG(0)"
   ]
  },
  {
   "cell_type": "code",
   "execution_count": null,
   "id": "a6f95af5",
   "metadata": {},
   "outputs": [],
   "source": [
    "keithley_19.output(1)\n",
    "keithley_24.output(1)\n",
    "appl_TG(-50)\n",
    "sleep(3)\n",
    "appl_current(-1.5e-8)\n",
    "sleep(1)\n",
    "\n",
    "# station.snapshot(update=True);\n",
    "exp = qc.new_experiment('IV', sample_name='TG21')\n",
    "\n",
    "#do1d(param_set, start, stop, num_points, delay, *param_meas)\n",
    "dataid = do1d(appl_current, -1.5e-8 ,1.5e-8, 101, 0.05, meas_voltage_K2)\n",
    "# dataid = do1d(appl_current, 6e-6 , -6e-6, 251, 0.01, meas_voltage_K1)\n",
    "# ivvi.set_dacs_zero()\n",
    "\n",
    "keithley_19.output(0)\n",
    "keithley_24.output(0)\n",
    "appl_current(0)\n",
    "plot_by_id(dataid)\n",
    "#print(get_R_from_IV(dataid))\n",
    "# print(get_R_from_IV_2(dataid))\n"
   ]
  },
  {
   "cell_type": "markdown",
   "id": "05b0d19b",
   "metadata": {},
   "source": [
    "## 歸零\n"
   ]
  },
  {
   "cell_type": "code",
   "execution_count": null,
   "id": "d8154670",
   "metadata": {},
   "outputs": [],
   "source": [
    "#keithley_19.output(1)\n",
    "keithley_24.output(1)\n",
    "\n",
    "appl_current(0)\n",
    "sleep(1)\n",
    "#appl_TG(0)\n",
    "sleep(5)\n",
    "\n",
    "#keithley_19.output(0)\n",
    "keithley_24.output(0)"
   ]
  },
  {
   "cell_type": "markdown",
   "id": "91795bf5",
   "metadata": {},
   "source": [
    "# Magnetic field"
   ]
  },
  {
   "cell_type": "markdown",
   "id": "c1b88abd",
   "metadata": {},
   "source": [
    "## IV vs Bx"
   ]
  },
  {
   "cell_type": "code",
   "execution_count": null,
   "id": "77c31bf1",
   "metadata": {},
   "outputs": [],
   "source": [
    "keithley_24.rangev()"
   ]
  },
  {
   "cell_type": "code",
   "execution_count": null,
   "id": "ea5d8a7d",
   "metadata": {},
   "outputs": [],
   "source": [
    "keithley_24.volt(0)\n",
    "keithley_24.output(1) #output off\n",
    "sleep(1)\n",
    "appl_current(1.5e-7)\n",
    "sleep(2)\n",
    "meas_voltage_K2()"
   ]
  },
  {
   "cell_type": "code",
   "execution_count": null,
   "id": "e083479a",
   "metadata": {},
   "outputs": [],
   "source": [
    "sleep(120)"
   ]
  },
  {
   "cell_type": "code",
   "execution_count": null,
   "id": "6c69dc40",
   "metadata": {},
   "outputs": [],
   "source": [
    "def get_Mag(show=True):\n",
    "    Mag_x = magnet_x.field()\n",
    "    Mag_y = magnet_y.field()\n",
    "    Mag_z = magnet_z.field()\n",
    "    if show:\n",
    "        print(f\"Mag_x: {Mag_x*1e3:.6f} mT\")\n",
    "        print(f\"Mag_y: {Mag_y*1e3:.6f} mT\")\n",
    "        print(f\"Mag_z: {Mag_z*1e3:.6f} mT\")\n",
    "    else: \n",
    "        return Mag_x, Mag_y, Mag_z\n",
    "get_Mag()"
   ]
  },
  {
   "cell_type": "code",
   "execution_count": null,
   "id": "582ee743",
   "metadata": {},
   "outputs": [],
   "source": [
    "get_Mag()"
   ]
  },
  {
   "cell_type": "code",
   "execution_count": null,
   "id": "9634bb97",
   "metadata": {},
   "outputs": [],
   "source": [
    "magnet_y.field()"
   ]
  },
  {
   "cell_type": "code",
   "execution_count": null,
   "id": "add54ae7",
   "metadata": {},
   "outputs": [],
   "source": [
    "for i in tqdm(range(23), desc=\"First loop\"):\n",
    "    value = (25 - i) * 1e-3 \n",
    "    value = float(f\"{value:.10f}\")\n",
    "    print(value)"
   ]
  },
  {
   "cell_type": "code",
   "execution_count": null,
   "id": "04c8a1e5",
   "metadata": {},
   "outputs": [],
   "source": [
    "from tqdm import tqdm\n",
    "import time\n",
    "\n",
    "from IPython.display import clear_output\n",
    "# First loop\n",
    "for i in tqdm(range(6), desc=\"First loop\"):\n",
    "    Mag_x = magnet_x.field()\n",
    "    value = (15 + i) * 1e-3\n",
    "    value = float(f\"{value:.10f}\")\n",
    "    magnet_x.field(value)\n",
    "    print(f\"magnet_x is {Mag_x:.8f} T\")\n",
    "    time.sleep(15)\n",
    "    clear_output(True)\n",
    "\n",
    "# Pause for 30 seconds\n",
    "time.sleep(60)\n",
    "\n",
    "# Second loop\n",
    "for i in tqdm(range(23), desc=\"First loop\"):\n",
    "    Mag_x = magnet_x.field()\n",
    "    value = (25 - i) * 1e-3 \n",
    "    value = float(f\"{value:.10f}\")\n",
    "    magnet_x.field(value)\n",
    "    print(f\"magnet_x is {Mag_x:.8f} T\")\n",
    "    time.sleep(15)\n",
    "    clear_output(True)\n",
    "\n",
    "# Pause for 180 seconds\n",
    "time.sleep(300)"
   ]
  },
  {
   "cell_type": "code",
   "execution_count": null,
   "id": "fc3e418b",
   "metadata": {},
   "outputs": [],
   "source": [
    "magnet_x.field(-20)"
   ]
  },
  {
   "cell_type": "code",
   "execution_count": null,
   "id": "07666294",
   "metadata": {},
   "outputs": [],
   "source": [
    "Mag = -20e-3\n",
    "I_range=2.5e-6\n",
    "keithley_24.output(1)\n",
    "sleep(2)\n",
    "magnet_x.field(Mag)\n",
    "sleep(10)\n",
    "appl_current(-I_range)\n",
    "sleep(3)\n",
    "direction = 'backward' if Mag > 0 else 'forward'\n",
    "\n",
    "\n",
    "# station.snapshot(update=True);\n",
    "exp = qc.new_experiment('IV vs Bx', sample_name=f'103-06_J2_12-13-18-19_1M_Bx_{direction}_By@0mT')\n",
    "\n",
    "dataid = do2d(magnet_x.field, Mag, -Mag, 76 , 0.7, appl_current, -I_range ,I_range, 101, 0.01, meas_voltage_K2)\n",
    "\n",
    "appl_current(0)\n",
    "keithley_24.output(0)\n",
    "# magnet_y.field(0)\n",
    "\n",
    "plot_by_id(dataid)\n",
    "autosave_plot_by_id(dataid, save_path)"
   ]
  },
  {
   "cell_type": "code",
   "execution_count": null,
   "id": "5f475874",
   "metadata": {},
   "outputs": [],
   "source": [
    "keithley_24.output(1)\n",
    "sleep(2)\n",
    "Mag = 10e-3\n",
    "I_range=2.5e-5\n",
    "\n",
    "magnet_x.field(Mag)\n",
    "sleep(30)\n",
    "appl_current(-I_range)\n",
    "sleep(3)\n",
    "direction = 'backward' if Mag > 0 else 'forward'\n",
    "\n",
    "\n",
    "# station.snapshot(update=True);\n",
    "\n",
    "exp = qc.new_experiment('IV vs Bx', sample_name=f'094-20IV_Bx_16-17-19-18_10M_{direction}')\n",
    "\n",
    "dataid = do2d(magnet_x.field, Mag, -Mag, 101 , 1.5, appl_current, -I_range ,I_range, 101, 0.05, meas_voltage_K2)#M:I Delay time 10:1\n",
    "\n",
    "\n",
    "appl_current(0)\n",
    "keithley_24.output(0)\n",
    "# magnet_x.field(0)\n",
    "\n",
    "plot_by_id(dataid)\n",
    "autosave_plot_by_id(dataid, save_path)"
   ]
  },
  {
   "cell_type": "code",
   "execution_count": null,
   "id": "bfdd8a07",
   "metadata": {},
   "outputs": [],
   "source": [
    "set_magnetic_field_stepwise(magnet=magnet_x, current_field=-40e-3, target_field=-18e-3, step_size=1e-3, delay=2.5)"
   ]
  },
  {
   "cell_type": "code",
   "execution_count": null,
   "id": "5eef089c",
   "metadata": {},
   "outputs": [],
   "source": [
    "def set_magnetic_field_stepwise(magnet=magnet_x, current_field=0, target_field=-10e-3, step_size=1e-3, delay=2.5):\n",
    "    \n",
    "    \"\"\"Set the magnetic field with anti-hysteresis mechanism witch will go to target magnetic field +/- 5mT, \n",
    "    if the target magnetic field is greater/less than the current magnetic field, \n",
    "    then slowly ramp back the magnetic field to the target magnetic field\n",
    "\n",
    "    Args:\n",
    "        magnet (_type_, optional): magnet_x,magnet_y,magnet_z. Defaults to magnet_x.\n",
    "        current_field (int, optional): _description_. Defaults to 0 T.\n",
    "        target_field (_type_, optional): _description_. Defaults to -10e-3 T.\n",
    "        step_size (_type_, optional): _description_. Defaults to 1e-3 T.\n",
    "        delay (float, optional): _description_. Defaults to 2 sec.\n",
    "    \n",
    "    \"\"\"\n",
    "    \n",
    "    from tqdm.notebook import tqdm\n",
    "    import math\n",
    "    # Calculate total steps for tqdm progress bar\n",
    "    total_steps = math.ceil(abs((target_field - current_field) / step_size)) * 2\n",
    "    progress_bar = tqdm(total=total_steps)\n",
    "\n",
    "    # Determine the intermediate target field\n",
    "    intermediate_target_field = target_field + 5e-3 if target_field > current_field else target_field - 5e-3\n",
    "    # Slowly ramp the magnetic field to the intermediate target field\n",
    "    while abs(intermediate_target_field - current_field) > step_size:\n",
    "        if intermediate_target_field > current_field:\n",
    "            current_field += step_size\n",
    "            magnet.field(current_field)\n",
    "        else:\n",
    "            current_field -= step_size\n",
    "            magnet.field(current_field)\n",
    "        time.sleep(delay)\n",
    "        progress_bar.update(1)  # Update progress bar\n",
    "    # Slowly ramp back the magnetic field to the target_field\n",
    "    while abs(target_field - current_field) > step_size:\n",
    "        if target_field > current_field:\n",
    "            current_field += step_size\n",
    "            magnet.field(current_field)\n",
    "        else:\n",
    "            current_field -= step_size\n",
    "            magnet.field(current_field)\n",
    "        time.sleep(delay)\n",
    "        progress_bar.update(1)  # Update progress bar\n",
    "    magnet.field(target_field)\n",
    "    progress_bar.n = total_steps  # Set progress bar to 100%\n",
    "    progress_bar.refresh()  # Refresh the progress bar to show the update\n",
    "    progress_bar.close()  # Close progress bar when done"
   ]
  },
  {
   "cell_type": "code",
   "execution_count": null,
   "id": "6d385381",
   "metadata": {},
   "outputs": [],
   "source": [
    "for i in range(6):\n",
    "    magnet_x.field((-10-i)*1e-3)\n",
    "    sleep(4)\n",
    "sleep(10)\n",
    "\n",
    "for i in range(16):\n",
    "    magnet_x.field((15+i)*1e-3)\n",
    "    sleep(4)\n",
    "sleep(10)"
   ]
  },
  {
   "cell_type": "code",
   "execution_count": null,
   "id": "83205742",
   "metadata": {},
   "outputs": [],
   "source": [
    "for i in range(25):\n",
    "    print(-24+i)"
   ]
  },
  {
   "cell_type": "code",
   "execution_count": null,
   "id": "fef193a7",
   "metadata": {},
   "outputs": [],
   "source": [
    "magnet_x.field(-19e-3)\n",
    "sleep(10)\n",
    "#magnet_x.field(e-3)\n",
    "#sleep(10)\n",
    "#magnet_x.field(12.8e-3)\n",
    "#sleep(10)"
   ]
  },
  {
   "cell_type": "markdown",
   "id": "6a6f3c0d",
   "metadata": {},
   "source": [
    "## IV vs By"
   ]
  },
  {
   "cell_type": "code",
   "execution_count": null,
   "id": "b823efb8",
   "metadata": {},
   "outputs": [],
   "source": [
    "get_Mag()"
   ]
  },
  {
   "cell_type": "code",
   "execution_count": null,
   "id": "9e236537",
   "metadata": {},
   "outputs": [],
   "source": [
    "magnet_y.field(0e-3)"
   ]
  },
  {
   "cell_type": "code",
   "execution_count": null,
   "id": "b4e8ec13",
   "metadata": {},
   "outputs": [],
   "source": [
    "for i in tqdm(range(21), desc=\"2nd loop\"):\n",
    "    \n",
    "    value = (-10 + i*0.5) * 1e-3 \n",
    "    value = float(f\"{value:.10f}\")\n",
    "    magnet_y.field(value)\n",
    "    get_Mag()\n",
    "    time.sleep(15)\n",
    "    clear_output(True)"
   ]
  },
  {
   "cell_type": "code",
   "execution_count": null,
   "id": "5dce7f89",
   "metadata": {},
   "outputs": [],
   "source": [
    "\n",
    "# First loop\n",
    "for i in tqdm(range(11), desc=\"First loop\"):\n",
    "    \n",
    "    value = (5 +i) * 1e-3\n",
    "    value = float(f\"{value:.10f}\")\n",
    "    magnet_y.field(value)\n",
    "    get_Mag()\n",
    "    time.sleep(15)\n",
    "    clear_output(True)\n",
    "\n",
    "# Pause for 30 seconds\n",
    "time.sleep(60)\n",
    "\n",
    "# Second loop\n",
    "for i in tqdm(range(11), desc=\"2nd loop\"):\n",
    "    \n",
    "    value = (-10 + i) * 1e-3 \n",
    "    value = float(f\"{value:.10f}\")\n",
    "    magnet_y.field(value)\n",
    "    get_Mag()\n",
    "    time.sleep(15)\n",
    "    clear_output(True)\n",
    "# Pause for 180 seconds\n",
    "time.sleep(300)"
   ]
  },
  {
   "cell_type": "code",
   "execution_count": null,
   "id": "46dc421a",
   "metadata": {},
   "outputs": [],
   "source": [
    "magnet_y.field()"
   ]
  },
  {
   "cell_type": "code",
   "execution_count": null,
   "id": "3a7fb763",
   "metadata": {},
   "outputs": [],
   "source": [
    "Mag =5e-3\n",
    "I_range=0.6e-6\n",
    "keithley_24.output(1)\n",
    "sleep(2)\n",
    "magnet_y.field(Mag)\n",
    "sleep(10)\n",
    "appl_current(-I_range)\n",
    "sleep(3)\n",
    "direction = 'backward' if Mag > 0 else 'forward'\n",
    "\n",
    "\n",
    "# station.snapshot(update=True);\n",
    "exp = qc.new_experiment('IV vs By', sample_name=f'103-03_J2_27-26-30-31M(32G-33G-28G-29G)_1M_By_{direction}_{-I_range}')\n",
    "\n",
    "dataid = do2d(magnet_y.field, Mag, -Mag, 201 , 0.5, appl_current, -I_range ,I_range,  201, 0.0001, meas_voltage_K2)\n",
    "\n",
    "appl_current(0)\n",
    "keithley_24.output(0)\n",
    "# magnet_y.field(0)\n",
    "\n",
    "plot_by_id(dataid)\n",
    "autosave_plot_by_id(dataid, save_path)"
   ]
  },
  {
   "cell_type": "code",
   "execution_count": null,
   "id": "a9c30858",
   "metadata": {},
   "outputs": [],
   "source": [
    "Mag =-5e-3\n",
    "I_range=5e-6\n",
    "keithley_24.output(1)\n",
    "sleep(2)\n",
    "magnet_y.field(Mag)\n",
    "sleep(10)\n",
    "appl_current(-I_range)\n",
    "sleep(3)\n",
    "direction = 'backward' if Mag > 0 else 'forward'\n",
    "\n",
    "\n",
    "# station.snapshot(update=True);\n",
    "exp = qc.new_experiment('IV vs By', sample_name=f'103-03_J2_27-26-30-31M(32G-33G-28G-29G)_1M_By_{direction}_{-I_range}')\n",
    "\n",
    "dataid = do2d(magnet_y.field, Mag, -Mag, 201 , 0.5, appl_current, -I_range ,I_range,  201, 0.0001, meas_voltage_K2)\n",
    "\n",
    "appl_current(0)\n",
    "keithley_24.output(0)\n",
    "# magnet_y.field(0)\n",
    "\n",
    "plot_by_id(dataid)\n",
    "autosave_plot_by_id(dataid, save_path)"
   ]
  },
  {
   "cell_type": "code",
   "execution_count": null,
   "id": "8ba8b69c",
   "metadata": {},
   "outputs": [],
   "source": [
    "32-"
   ]
  },
  {
   "cell_type": "code",
   "execution_count": null,
   "id": "7c2e8f1b",
   "metadata": {},
   "outputs": [],
   "source": [
    "\n",
    "# First loop\n",
    "for i in tqdm(range(6), desc=\"First loop\"):\n",
    "    Mag_x = magnet_y.field()\n",
    "    value = (1.5 +i) * 1e-3\n",
    "    value = float(f\"{value:.10f}\")\n",
    "    magnet_y.field(value)\n",
    "    print(f\"magnet_y is {Mag_x:.8f} T\")\n",
    "    time.sleep(15)\n",
    "    clear_output(True)\n",
    "\n",
    "# Pause for 30 seconds\n",
    "time.sleep(60)\n",
    "\n",
    "# Second loop\n",
    "for i in tqdm(range(6), desc=\"2nd loop\"):\n",
    "    Mag_x = magnet_y.field()\n",
    "    value = (6.5 - i) * 1e-3 \n",
    "    value = float(f\"{value:.10f}\")\n",
    "    magnet_y.field(value)\n",
    "    print(f\"magnet_y is {Mag_x:.8f} T\")\n",
    "    time.sleep(15)\n",
    "    clear_output(True)\n",
    "\n",
    "# Pause for 180 seconds\n",
    "time.sleep(300)"
   ]
  },
  {
   "cell_type": "code",
   "execution_count": null,
   "id": "8d736f1b",
   "metadata": {},
   "outputs": [],
   "source": [
    "Mag = 1.5e-3\n",
    "I_range=2.5e-6\n",
    "keithley_24.output(1)\n",
    "sleep(2)\n",
    "magnet_y.field(Mag)\n",
    "sleep(10)\n",
    "appl_current(-I_range)\n",
    "sleep(3)\n",
    "direction = 'backward' if Mag > 0 else 'forward'\n",
    "\n",
    "\n",
    "# station.snapshot(update=True);\n",
    "exp = qc.new_experiment('IV vs By', sample_name=f'103-06_J2_12-13-18-19_1M_By_{direction}_Bx@3mT')\n",
    "\n",
    "dataid = do2d(magnet_y.field, Mag, -Mag, 1001 , 0.4, appl_current, -I_range ,I_range, 151, 0.01, meas_voltage_K2)\n",
    "\n",
    "appl_current(0)\n",
    "keithley_24.output(0)\n",
    "# magnet_y.field(0)\n",
    "\n",
    "plot_by_id(dataid)\n",
    "autosave_plot_by_id(dataid, save_path)"
   ]
  },
  {
   "cell_type": "code",
   "execution_count": null,
   "id": "43eb5eb6",
   "metadata": {},
   "outputs": [],
   "source": [
    "Mag()"
   ]
  },
  {
   "cell_type": "code",
   "execution_count": null,
   "id": "721c43a1",
   "metadata": {},
   "outputs": [],
   "source": [
    "Mag = 1.5e-3\n",
    "I_range=1e-6\n",
    "keithley_24.output(1)\n",
    "sleep(2)\n",
    "magnet_y.field(Mag)\n",
    "sleep(10)\n",
    "appl_current(-I_range)\n",
    "sleep(3)\n",
    "direction = 'backward' if Mag > 0 else 'forward'\n",
    "\n",
    "\n",
    "# station.snapshot(update=True);\n",
    "exp = qc.new_experiment('IV vs By', sample_name=f'103-01_J1_21-20-23-22_1M_By_{direction}_Bx@0mT')\n",
    "\n",
    "dataid = do2d(magnet_y.field, Mag, -Mag, 151 , 0.9, appl_current, -I_range ,I_range, 201, 0.01, meas_voltage_K2)\n",
    "\n",
    "appl_current(0)\n",
    "keithley_24.output(0)\n",
    "# magnet_y.field(0)\n",
    "\n",
    "plot_by_id(dataid)\n",
    "autosave_plot_by_id(dataid, save_path)"
   ]
  },
  {
   "cell_type": "code",
   "execution_count": null,
   "id": "dadb617e",
   "metadata": {},
   "outputs": [],
   "source": [
    "from tqdm import tqdm\n",
    "import time\n",
    "\n",
    "# First loop\n",
    "for i in tqdm(range(6), desc=\"First loop\"):\n",
    "    value = (1.5 + i) * 1e-3 \n",
    "    magnet_y.field(value)\n",
    "    print(f\"magnet_y is {value:.8f} T\")\n",
    "    time.sleep(10)\n",
    "\n",
    "# Pause for 30 seconds\n",
    "time.sleep(30)\n",
    "\n",
    "# Second loop\n",
    "for i in tqdm(range(8), desc=\"First loop\"):\n",
    "    value = (7 - i) * 1e-3 \n",
    "    magnet_y.field(value)\n",
    "    print(f\"magnet_y is {value:.8f} T\")\n",
    "    time.sleep(10)\n",
    "\n",
    "# Pause for 180 seconds\n",
    "time.sleep(300)\n"
   ]
  },
  {
   "cell_type": "code",
   "execution_count": null,
   "id": "cceb780f",
   "metadata": {},
   "outputs": [],
   "source": [
    "def combined_loop(start=0, end=5 ):\n",
    "  for i in tqdm(range((end-start)+6), desc=\"First loop\"):\n",
    "    value = start + i\n",
    "    print(f\"{value* 1e-3:.5f}\")\n",
    "\n",
    "  for i in tqdm(range(6), desc=\"Second loop\"):\n",
    "    value = end+5 - i\n",
    "    print(f\"{value* 1e-3:.5f}\")\n",
    "\n",
    "combined_loop()\n"
   ]
  },
  {
   "cell_type": "code",
   "execution_count": null,
   "id": "7963ad50",
   "metadata": {},
   "outputs": [],
   "source": [
    "Mag = 3e-3\n",
    "I_range=1e-6\n",
    "keithley_24.output(1)\n",
    "sleep(2)\n",
    "magnet_y.field(Mag)\n",
    "sleep(10)\n",
    "appl_current(-I_range)\n",
    "sleep(3)\n",
    "direction = 'backward' if Mag > 0 else 'forward'\n",
    "\n",
    "\n",
    "# station.snapshot(update=True);\n",
    "exp = qc.new_experiment('IV vs By', sample_name=f'103-04_J2_04-05-06-07_1M_By_{direction}_Bx@0mT')\n",
    "\n",
    "dataid = do2d(magnet_y.field, Mag, -Mag, 101 , 1.5, appl_current, -I_range ,I_range, 101, 0.01, meas_voltage_K2)\n",
    "\n",
    "appl_current(0)\n",
    "keithley_24.output(0)\n",
    "# magnet_y.field(0)\n",
    "\n",
    "plot_by_id(dataid)\n",
    "autosave_plot_by_id(dataid, save_path)"
   ]
  },
  {
   "cell_type": "code",
   "execution_count": null,
   "id": "3d67f8ce",
   "metadata": {},
   "outputs": [],
   "source": [
    "from tqdm import tqdm\n",
    "import time\n",
    "\n",
    "# First loop\n",
    "for i in tqdm(range(6), desc=\"First loop\"):\n",
    "    magnet_y.field((-3 - i) * 1e-3)\n",
    "    time.sleep(15)\n",
    "\n",
    "# Pause for 30 seconds\n",
    "time.sleep(30)\n",
    "\n",
    "# Second loop\n",
    "for i in tqdm(range(7), desc=\"Second loop\"):\n",
    "    magnet_y.field((-8 + i) * 1e-3)\n",
    "    time.sleep(15)\n",
    "\n",
    "# Pause for 180 seconds\n",
    "time.sleep(300)"
   ]
  },
  {
   "cell_type": "code",
   "execution_count": null,
   "id": "af9e2a73",
   "metadata": {},
   "outputs": [],
   "source": [
    "magnet_y.field(-1.5e-3)\n",
    "print(\"By at -1.5 mT\")"
   ]
  },
  {
   "cell_type": "code",
   "execution_count": null,
   "id": "214aa45a",
   "metadata": {},
   "outputs": [],
   "source": [
    "Mag = -3e-3\n",
    "I_range=1e-6\n",
    "keithley_24.output(1)\n",
    "sleep(2)\n",
    "magnet_y.field(Mag)\n",
    "sleep(10)\n",
    "appl_current(-I_range)\n",
    "sleep(3)\n",
    "direction = 'backward' if Mag > 0 else 'forward'\n",
    "\n",
    "\n",
    "# station.snapshot(update=True);\n",
    "exp = qc.new_experiment('IV vs By', sample_name=f'103-04_J2_04-05-06-07_1M_By_{direction}_Bx@0mT')\n",
    "\n",
    "dataid = do2d(magnet_y.field, Mag, -Mag, 501 , 1, appl_current, -I_range ,I_range, 251, 0.01, meas_voltage_K2)\n",
    "\n",
    "appl_current(0)\n",
    "keithley_24.output(0)\n",
    "# magnet_y.field(0)\n",
    "\n",
    "plot_by_id(dataid)\n",
    "autosave_plot_by_id(dataid, save_path)"
   ]
  },
  {
   "cell_type": "code",
   "execution_count": null,
   "id": "da9891fc",
   "metadata": {},
   "outputs": [],
   "source": [
    "from tqdm import tqdm\n",
    "import time\n",
    "\n",
    "# First loop\n",
    "for i in tqdm(range(6), desc=\"First loop\"):\n",
    "    magnet_y.field((3 + i) * 1e-3)\n",
    "    time.sleep(10)\n",
    "\n",
    "# Pause for 30 seconds\n",
    "time.sleep(30)\n",
    "\n",
    "# Second loop\n",
    "for i in tqdm(range(6), desc=\"Second loop\"):\n",
    "    magnet_y.field((8 - i) * 1e-3)\n",
    "    time.sleep(10)\n",
    "\n",
    "# Pause for 180 seconds\n",
    "time.sleep(300)"
   ]
  },
  {
   "cell_type": "code",
   "execution_count": null,
   "id": "8c1e92c1",
   "metadata": {},
   "outputs": [],
   "source": [
    "Mag = 3e-3\n",
    "I_range=1e-6\n",
    "keithley_24.output(1)\n",
    "sleep(2)\n",
    "magnet_y.field(Mag)\n",
    "sleep(10)\n",
    "appl_current(-I_range)\n",
    "sleep(3)\n",
    "direction = 'backward' if Mag > 0 else 'forward'\n",
    "\n",
    "\n",
    "# station.snapshot(update=True);\n",
    "exp = qc.new_experiment('IV vs By', sample_name=f'103-04_J2_04-05-06-07_1M_By_{direction}_Bx@0mT')\n",
    "\n",
    "dataid = do2d(magnet_y.field, Mag, -Mag, 501 , 1, appl_current, -I_range ,I_range, 251, 0.01, meas_voltage_K2)\n",
    "\n",
    "appl_current(0)\n",
    "keithley_24.output(0)\n",
    "# magnet_y.field(0)\n",
    "\n",
    "plot_by_id(dataid)\n",
    "autosave_plot_by_id(dataid, save_path)"
   ]
  },
  {
   "cell_type": "code",
   "execution_count": null,
   "id": "5208f447",
   "metadata": {},
   "outputs": [],
   "source": [
    "magnet_y.field(5e-3)"
   ]
  },
  {
   "cell_type": "code",
   "execution_count": null,
   "id": "3e408864",
   "metadata": {},
   "outputs": [],
   "source": [
    "for i in range(9):\n",
    "    magnet_y.field((0+i)*1e-3)\n",
    "    sleep(4)\n",
    "sleep(10)\n",
    "\n",
    "for i in range(6):\n",
    "    magnet_y.field((8-i)*1e-3)\n",
    "    sleep(4)\n",
    "\n",
    "sleep(60)\n",
    "# magnet_y.field(21.5e-3)\n",
    "sleep(60)\n",
    "#magnet_y.field(0.48e-3)\n",
    "#sleep(5)"
   ]
  },
  {
   "cell_type": "code",
   "execution_count": null,
   "id": "2eb14a5d",
   "metadata": {},
   "outputs": [],
   "source": [
    "for i in range(4):\n",
    "    print(8-i)"
   ]
  },
  {
   "cell_type": "code",
   "execution_count": null,
   "id": "a1ebeefb",
   "metadata": {},
   "outputs": [],
   "source": [
    "keithley_24.output(1)\n",
    "sleep(2)\n",
    "Mag = -40e-3\n",
    "I_range=2e-8\n",
    "\n",
    "magnet_y.field(Mag)\n",
    "sleep(10)\n",
    "appl_current(-I_range)\n",
    "sleep(3)\n",
    "direction = 'backward' if Mag > 0 else 'forward'\n",
    "\n",
    "\n",
    "# station.snapshot(update=True);\n",
    "\n",
    "exp = qc.new_experiment('IV vs By', sample_name=f'094-20IV_By_16-17-19-18_10M_{direction}_Bx@-18.5mT')\n",
    "\n",
    "dataid = do2d(magnet_y.field, Mag, -Mag, 601 , 2, appl_current, -I_range ,I_range, 201, 0.1, meas_voltage_K2)\n",
    "\n",
    "\n",
    "appl_current(0)\n",
    "keithley_24.output(0)\n",
    "# magnet_y.field(0)\n",
    "\n",
    "plot_by_id(dataid)\n",
    "autosave_plot_by_id(dataid, save_path)"
   ]
  },
  {
   "cell_type": "code",
   "execution_count": null,
   "id": "effdb8bf",
   "metadata": {},
   "outputs": [],
   "source": [
    "for i in range(24):\n",
    "    print(45-i)"
   ]
  },
  {
   "cell_type": "code",
   "execution_count": null,
   "id": "4b523a44",
   "metadata": {},
   "outputs": [],
   "source": []
  },
  {
   "cell_type": "markdown",
   "id": "7dce8613",
   "metadata": {},
   "source": [
    "## IV vs Bz"
   ]
  },
  {
   "cell_type": "code",
   "execution_count": null,
   "id": "a4e6e5f7",
   "metadata": {
    "scrolled": true
   },
   "outputs": [],
   "source": [
    "keithley_24.output(1)\n",
    "sleep(2)\n",
    "magnet_z.field(-80e-3)\n",
    "sleep(60)\n",
    "appl_current(-2e-7)\n",
    "sleep(5)\n",
    "\n",
    "# station.snapshot(update=True);\n",
    "\n",
    "exp = qc.new_experiment('IV vs Bz', sample_name='IV_Bz_33_32_30_31_10M_forward')\n",
    "\n",
    "dataid = do2d(magnet_z.field,-80e-3,80e-3, 71 , 20, appl_current, -2e-7 ,2e-7, 101, 0.05, meas_voltage_K2)\n",
    "\n",
    "appl_current(0)\n",
    "\n",
    "keithley_24.output(0)\n",
    "# magnet_y.field(0)\n",
    "\n",
    "plot_by_id(dataid)"
   ]
  },
  {
   "cell_type": "code",
   "execution_count": null,
   "id": "e68136d1",
   "metadata": {},
   "outputs": [],
   "source": [
    "#magnet_z.field(20e-3)\n",
    "#sleep(5)\n",
    "magnet_z.field(-6.1e-3)\n",
    "sleep(5)"
   ]
  },
  {
   "cell_type": "code",
   "execution_count": null,
   "id": "571645ac",
   "metadata": {},
   "outputs": [],
   "source": []
  },
  {
   "cell_type": "markdown",
   "id": "02c81568",
   "metadata": {},
   "source": [
    "## IV w/ Bx"
   ]
  },
  {
   "cell_type": "code",
   "execution_count": null,
   "id": "b5229271",
   "metadata": {},
   "outputs": [],
   "source": [
    "keithley_24.output(1)\n",
    "sleep(2)\n",
    "magnet_x.field(0.23e-3)\n",
    "appl_current(-0.5e-6)\n",
    "sleep(10)\n",
    "\n",
    "# station.snapshot(update=True);\n",
    "exp = qc.new_experiment('I vs V', sample_name='IV_w/_Bx')\n",
    "\n",
    "#do1d(param_set, start, stop, num_points, delay, *param_meas)\n",
    "dataid = do1d(appl_current, -0.5e-6 ,0.5e-6, 101, 0.05, meas_voltage_K2)\n",
    "# dataid = do1d(appl_current, 6e-6 , -6e-6, 251, 0.01, meas_voltage_K1)\n",
    "# ivvi.set_dacs_zero()\n",
    "\n",
    "appl_current(0)\n",
    "plot_by_id(dataid)\n",
    "# print(get_R_from_IV(dataid))\n",
    "#print(get_R_from_IV_2(dataid))\n",
    "\n",
    "keithley_24.output(0)"
   ]
  },
  {
   "cell_type": "markdown",
   "id": "27ac85cd",
   "metadata": {},
   "source": [
    "## IV w/ By"
   ]
  },
  {
   "cell_type": "code",
   "execution_count": null,
   "id": "b7c3a84d",
   "metadata": {},
   "outputs": [],
   "source": [
    "keithley_24.output(1)\n",
    "keithley_2.averaging_count(30)\n",
    "#keithley_2.averaging_enabled(False)\n",
    "\n",
    "sleep(2)\n",
    "magnet_y.field(0e-3)\n",
    "appl_current(-2e-7)\n",
    "sleep(20)\n",
    "\n",
    "# station.snapshot(update=True);\n",
    "exp = qc.new_experiment('I vs V', sample_name='IV_w/_By@0mT_forward_Avg30')\n",
    "\n",
    "#do1d(param_set, start, stop, num_points, delay, *param_meas)\n",
    "dataid = do1d(appl_current, -2e-7 ,2e-7, 201, 0.05, meas_voltage_K2)\n",
    "# dataid = do1d(appl_current, 6e-6 , -6e-6, 251, 0.01, meas_voltage_K1)\n",
    "# ivvi.set_dacs_zero()\n",
    "\n",
    "appl_current(0)\n",
    "plot_by_id(dataid)\n",
    "# print(get_R_from_IV(dataid))\n",
    "#print(get_R_from_IV_2(dataid))\n",
    "\n",
    "keithley_24.output(0)"
   ]
  },
  {
   "cell_type": "markdown",
   "id": "1e7ed93d",
   "metadata": {},
   "source": [
    "## MR"
   ]
  },
  {
   "cell_type": "code",
   "execution_count": null,
   "id": "9db581e2",
   "metadata": {},
   "outputs": [],
   "source": [
    "keithley_24.output(1)\n",
    "sleep(2)\n",
    "magnet_y.field(-0.1)\n",
    "sleep(5)\n",
    "#keithley_19.output(1)\n",
    "appl_current(1e-7)\n",
    "sleep(5)\n",
    "\n",
    "# station.snapshot(update=True);\n",
    "\n",
    "exp = qc.new_experiment('I vs By_MR', sample_name='072_14IVf_25_24_29_29_By_+-0.1T_MR_for')\n",
    "\n",
    "dataid = do1d(magnet_y.field, -0.1, 0.1, 71 , 1, meas_voltage_K2)\n",
    "\n",
    "appl_current(0)\n",
    "keithley_24.output(0)\n",
    "#keithley_19.output(0)\n",
    "magnet_y.field(0)\n",
    "\n",
    "plot_by_id(dataid)"
   ]
  },
  {
   "cell_type": "markdown",
   "id": "55fd3a3b",
   "metadata": {},
   "source": [
    "## IV w/Bz"
   ]
  },
  {
   "cell_type": "code",
   "execution_count": null,
   "id": "e76653c7",
   "metadata": {},
   "outputs": [],
   "source": [
    "keithley_24.output(1)\n",
    "keithley_2.averaging_count(10)\n",
    "#keithley_2.averaging_enabled(False)\n",
    "\n",
    "sleep(2)\n",
    "magnet_z.field(0e-3)\n",
    "appl_current(-2e-7)\n",
    "sleep(30)\n",
    "\n",
    "# station.snapshot(update=True);\n",
    "exp = qc.new_experiment('I vs V', sample_name='IV_w/_f_Bz@0mT_forward_Avg10')\n",
    "\n",
    "#do1d(param_set, start, stop, num_points, delay, *param_meas)\n",
    "dataid = do1d(appl_current, -2e-7 ,2e-7, 201, 0.05, meas_voltage_K2)\n",
    "# dataid = do1d(appl_current, 6e-6 , -6e-6, 251, 0.01, meas_voltage_K1)\n",
    "# ivvi.set_dacs_zero()\n",
    "\n",
    "appl_current(0)\n",
    "plot_by_id(dataid)\n",
    "# print(get_R_from_IV(dataid))\n",
    "#print(get_R_from_IV_2(dataid))\n",
    "\n",
    "keithley_24.output(0)"
   ]
  },
  {
   "cell_type": "markdown",
   "id": "d0274abc",
   "metadata": {},
   "source": [
    "# Zero everything"
   ]
  },
  {
   "cell_type": "code",
   "execution_count": null,
   "id": "a0cc99f2",
   "metadata": {},
   "outputs": [],
   "source": [
    "appl_current(0)\n",
    "appl_TG(0)\n",
    "magnet_y.field(0)\n",
    "sleep(5)\n",
    "magnet_x.field(0)\n",
    "sleep(5)\n",
    "magnet_z.field(0)\n",
    "sleep(5)\n",
    "#appl_voltage_AC(0.004)\n",
    "#SGS.off()\n",
    "keithley_24.output(0)"
   ]
  },
  {
   "cell_type": "code",
   "execution_count": null,
   "id": "cb8bf175",
   "metadata": {},
   "outputs": [],
   "source": [
    "appl_current(0)"
   ]
  },
  {
   "cell_type": "markdown",
   "id": "6610bce1",
   "metadata": {},
   "source": [
    "# Gate simple sweeps"
   ]
  },
  {
   "cell_type": "markdown",
   "id": "c010fbad",
   "metadata": {},
   "source": [
    "## 加TG (2D)"
   ]
  },
  {
   "cell_type": "code",
   "execution_count": null,
   "id": "6d7e9bf6",
   "metadata": {},
   "outputs": [],
   "source": [
    "appl_current(0)\n",
    "sleep(1)\n",
    "appl_TG(0)\n",
    "sleep(5)"
   ]
  },
  {
   "cell_type": "code",
   "execution_count": null,
   "id": "be01663b",
   "metadata": {},
   "outputs": [],
   "source": [
    "magnet_x.field(-0.044e-3)\n",
    "sleep(10)\n",
    "magnet_y.field(-6.016e-3)\n",
    "sleep(10)"
   ]
  },
  {
   "cell_type": "code",
   "execution_count": null,
   "id": "5397630e",
   "metadata": {},
   "outputs": [],
   "source": [
    "keithley_19.output(1)\n",
    "keithley_24.output(1)\n",
    "appl_TG(-30)\n",
    "sleep(5)\n",
    "appl_current(-1.5e-8)\n",
    "sleep(1)\n",
    "\n",
    "exp = qc.new_experiment('I_vs_Vgate_up', sample_name='33_32_30_31_1M_TG21')\n",
    "dataid = do2d(appl_TG, -30, 30, 301, 0.5, appl_current, -1.5e-8, 1.5e-8, 101, 0.1, meas_voltage_K2)\n",
    "\n",
    "appl_TG(0)\n",
    "sleep(5)\n",
    "appl_current(0e-7)\n",
    "sleep(5)\n",
    "\n",
    "keithley_19.output(0)\n",
    "keithley_24.output(0)\n",
    "\n",
    "plot_by_id(dataid)"
   ]
  },
  {
   "cell_type": "markdown",
   "id": "5375fb6f",
   "metadata": {},
   "source": [
    "# RF"
   ]
  },
  {
   "cell_type": "markdown",
   "id": "596beaf8",
   "metadata": {},
   "source": [
    "## I vs RF_f"
   ]
  },
  {
   "cell_type": "markdown",
   "id": "a6df9a13",
   "metadata": {},
   "source": [
    "### sensitive check"
   ]
  },
  {
   "cell_type": "code",
   "execution_count": null,
   "id": "017ed644",
   "metadata": {},
   "outputs": [],
   "source": [
    "SGS.power()\n",
    "SGS.frequency()"
   ]
  },
  {
   "cell_type": "code",
   "execution_count": null,
   "id": "e0b8db4e",
   "metadata": {},
   "outputs": [],
   "source": [
    "SGS.on()"
   ]
  },
  {
   "cell_type": "code",
   "execution_count": null,
   "id": "cc145b47",
   "metadata": {},
   "outputs": [],
   "source": [
    "SGS.off()"
   ]
  },
  {
   "cell_type": "code",
   "execution_count": null,
   "id": "6141349d",
   "metadata": {},
   "outputs": [],
   "source": [
    "magnet_x.field(0.4e-3)\n",
    "sleep(10)\n",
    "magnet_y.field(2.53e-3)\n",
    "sleep(10)"
   ]
  },
  {
   "cell_type": "code",
   "execution_count": null,
   "id": "2fd35fd0",
   "metadata": {},
   "outputs": [],
   "source": [
    "keithley_2.averaging_count(5)\n",
    "keithley_2.averaging_enabled(False)"
   ]
  },
  {
   "cell_type": "markdown",
   "id": "2d27c6f3",
   "metadata": {},
   "source": [
    "### I vs RF_f (1D)"
   ]
  },
  {
   "cell_type": "code",
   "execution_count": null,
   "id": "c3ec00d7",
   "metadata": {
    "scrolled": false
   },
   "outputs": [],
   "source": [
    "SGS.off()\n",
    "exp = qc.new_experiment('I-RF_f', sample_name='103-06_J2_12-13-14-15_1M_@0mT')\n",
    "SGS.power(0)\n",
    "SGS.frequency(0.1e9)\n",
    "SGS.on()\n",
    "sleep(1)\n",
    "keithley_2.averaging_count(5)\n",
    "keithley_2.averaging_enabled(False)\n",
    "keithley_24.output(1)\n",
    "\n",
    "appl_current(0.4e-6)\n",
    "#appl_TG(10)\n",
    "# magnet_x.field(0.4e-3)\n",
    "# magnet_y.field(2.53e-3)\n",
    "\n",
    "dataid = do1d(SGS.frequency, 11.4e9, 12.2e9, 201, 0.1, meas_voltage_K2)\n",
    "appl_current(0)\n",
    "SGS.off()\n",
    "keithley_24.output(0)\n",
    "plot_by_id(dataid)\n"
   ]
  },
  {
   "cell_type": "markdown",
   "id": "3e250e53",
   "metadata": {},
   "source": [
    "### I vs RF_f (2D)"
   ]
  },
  {
   "cell_type": "code",
   "execution_count": null,
   "id": "3734095d",
   "metadata": {},
   "outputs": [],
   "source": [
    "SGS.off()"
   ]
  },
  {
   "cell_type": "code",
   "execution_count": null,
   "id": "ccc9ea2f",
   "metadata": {},
   "outputs": [],
   "source": [
    "SGS.off()\n",
    "SGS.power(0)\n",
    "SGS.frequency(0.1e9)\n",
    "SGS.on()\n",
    "keithley_2.averaging_count(1)\n",
    "keithley_2.averaging_enabled(False)\n",
    "keithley_24.output(1)\n",
    "\n",
    "I_range = 8e-6\n",
    "appl_current(-I_range)\n",
    "#appl_TG(-10)\n",
    "# magnet_x.field(0.4e-3)\n",
    "# magnet_y.field(2.53e-3)\n",
    "# sleep(1)\n",
    "\n",
    "# station.snapshot(update=True);\n",
    "exp = qc.new_experiment('IV-RF_f', sample_name=f'103-03_J2_27-26-30-31M(32G-33G-28G-29G)_1M_RF@0dBm_By@0.1mT')\n",
    "\n",
    "#do1d(param_set, start, stop, num_points, delay, *param_meas)\n",
    "dataid = do2d(SGS.frequency, 1e9, 20e9, 191, 0.0001, appl_current,-I_range ,I_range, 201, 0.0001, meas_voltage_K2)\n",
    "# dataid = do1d(appl_current, 6e-6 , -6e-6, 251, 0.01, meas_voltage_K1)\n",
    "# ivvi.set_dacs_zero()\n",
    "keithley_24.output(0)\n",
    "SGS.off()\n",
    "appl_current(0)\n",
    "plot_by_id(dataid)\n",
    "save_path = r\"D:\\data\\Albert\\103\\Plot\\104_{}.png\".format(dataid)  # Path to save the plot image\n",
    "autosave_plot_by_id(dataid, save_path)"
   ]
  },
  {
   "cell_type": "code",
   "execution_count": null,
   "id": "3426a3bd",
   "metadata": {},
   "outputs": [],
   "source": [
    "SGS.off()\n",
    "SGS.power(20)\n",
    "SGS.frequency(0.1e9)\n",
    "SGS.on()\n",
    "keithley_2.averaging_count(1)\n",
    "keithley_2.averaging_enabled(False)\n",
    "keithley_24.output(1)\n",
    "\n",
    "I_range = 6e-6\n",
    "appl_current(-I_range)\n",
    "#appl_TG(-10)\n",
    "# magnet_x.field(0.4e-3)\n",
    "# magnet_y.field(2.53e-3)\n",
    "# sleep(1)\n",
    "\n",
    "# station.snapshot(update=True);\n",
    "exp = qc.new_experiment('IV-RF_f', sample_name=f'103-03_J2_27-26-30-31M(32G-33G-28G-29G)_1M_RF@-10dBm_By@0.1mT')\n",
    "\n",
    "#do1d(param_set, start, stop, num_points, delay, *param_meas)\n",
    "dataid = do2d(SGS.frequency, 1e9, 20e9, 191, 0.0001, appl_current,-I_range ,I_range, 201, 0.0001, meas_voltage_K2)\n",
    "# dataid = do1d(appl_current, 6e-6 , -6e-6, 251, 0.01, meas_voltage_K1)\n",
    "# ivvi.set_dacs_zero()\n",
    "keithley_24.output(0)\n",
    "SGS.off()\n",
    "appl_current(0)\n",
    "plot_by_id(dataid)\n",
    "save_path = r\"D:\\data\\Albert\\103\\Plot\\104_{}.png\".format(dataid)  # Path to save the plot image\n",
    "autosave_plot_by_id(dataid, save_path)"
   ]
  },
  {
   "cell_type": "code",
   "execution_count": null,
   "id": "9f9dbd53",
   "metadata": {},
   "outputs": [],
   "source": [
    "SGS.off()\n",
    "SGS.power(20)\n",
    "SGS.frequency(5.9e9)\n",
    "SGS.on()\n",
    "keithley_2.averaging_count(1)\n",
    "keithley_2.averaging_enabled(False)\n",
    "keithley_24.output(1)\n",
    "\n",
    "I_range = 6e-6\n",
    "appl_current(-I_range)\n",
    "#appl_TG(-10)\n",
    "# magnet_x.field(0.4e-3)\n",
    "# magnet_y.field(2.53e-3)\n",
    "# sleep(1)\n",
    "\n",
    "# station.snapshot(update=True);\n",
    "exp = qc.new_experiment('IV-RF_f', sample_name=f'103-03_J2_27-26-30-31M(32G-33G-28G-29G)_1M_RF@20dBm_By@0.1mT')\n",
    "\n",
    "#do1d(param_set, start, stop, num_points, delay, *param_meas)\n",
    "dataid = do2d(SGS.frequency, 5.9e9, 6.0e9, 251, 0.0001, appl_current,-I_range ,I_range, 501, 0.0001, meas_voltage_K2)\n",
    "# dataid = do1d(appl_current, 6e-6 , -6e-6, 251, 0.01, meas_voltage_K1)\n",
    "# ivvi.set_dacs_zero()\n",
    "keithley_24.output(0)\n",
    "SGS.off()\n",
    "appl_current(0)\n",
    "plot_by_id(dataid)\n",
    "save_path = r\"D:\\data\\Albert\\103\\Plot\\104_{}.png\".format(dataid)  # Path to save the plot image\n",
    "autosave_plot_by_id(dataid, save_path)\n"
   ]
  },
  {
   "cell_type": "code",
   "execution_count": null,
   "id": "862b770b",
   "metadata": {},
   "outputs": [],
   "source": [
    "SGS.off()\n",
    "SGS.power(20)\n",
    "SGS.frequency(5.535e9)\n",
    "SGS.on()\n",
    "keithley_2.averaging_count(1)\n",
    "keithley_2.averaging_enabled(False)\n",
    "keithley_24.output(1)\n",
    "\n",
    "I_range = 6e-6\n",
    "appl_current(-I_range)\n",
    "#appl_TG(-10)\n",
    "# magnet_x.field(0.4e-3)\n",
    "# magnet_y.field(2.53e-3)\n",
    "# sleep(1)\n",
    "\n",
    "# station.snapshot(update=True);\n",
    "exp = qc.new_experiment('IV-RF_f', sample_name=f'103-03_J2_27-26-30-31M(32G-33G-28G-29G)_1M_RF@20dBm_By@0.1mT')\n",
    "\n",
    "#do1d(param_set, start, stop, num_points, delay, *param_meas)\n",
    "dataid = do2d(SGS.frequency, 5.535e9, 5.585e9, 251, 0.0001, appl_current,-I_range ,I_range, 501, 0.0001, meas_voltage_K2)\n",
    "# dataid = do1d(appl_current, 6e-6 , -6e-6, 251, 0.01, meas_voltage_K1)\n",
    "# ivvi.set_dacs_zero()\n",
    "keithley_24.output(0)\n",
    "SGS.off()\n",
    "appl_current(0)\n",
    "plot_by_id(dataid)\n",
    "save_path = r\"D:\\data\\Albert\\103\\Plot\\104_{}.png\".format(dataid)  # Path to save the plot image\n",
    "autosave_plot_by_id(dataid, save_path)\n"
   ]
  },
  {
   "cell_type": "code",
   "execution_count": null,
   "id": "d76f7ea2",
   "metadata": {},
   "outputs": [],
   "source": [
    "SGS.off()\n",
    "SGS.power(20)\n",
    "SGS.frequency(0.1e9)\n",
    "SGS.on()\n",
    "keithley_2.averaging_count(1)\n",
    "keithley_2.averaging_enabled(False)\n",
    "keithley_24.output(1)\n",
    "\n",
    "I_range = 6e-6\n",
    "appl_current(-I_range)\n",
    "SGS_power = SGS.power()\n",
    "#appl_TG(-10)\n",
    "# magnet_x.field(0.4e-3)\n",
    "# magnet_y.field(2.53e-3)\n",
    "# sleep(1)\n",
    "\n",
    "# station.snapshot(update=True);\n",
    "exp = qc.new_experiment('IV-RF_f', sample_name=f'103-03_J2_27-26-30-31M(32G-33G-28G-29G)_1M_RF@{SGS_power}dBm_By@0.1mT')\n",
    "\n",
    "#do1d(param_set, start, stop, num_points, delay, *param_meas)\n",
    "dataid = do2d(SGS.frequency, 3.9e9, 6.9e9, 301, 0.0001, appl_current,-I_range ,I_range, 251, 0.0001, meas_voltage_K2)\n",
    "# dataid = do1d(appl_current, 6e-6 , -6e-6, 251, 0.01, meas_voltage_K1)\n",
    "# ivvi.set_dacs_zero()\n",
    "keithley_24.output(0)\n",
    "SGS.off()\n",
    "appl_current(0)\n",
    "plot_by_id(dataid)\n",
    "save_path = r\"D:\\data\\Albert\\103\\Plot\\104_{}.png\".format(dataid)  # Path to save the plot image\n",
    "autosave_plot_by_id(dataid, save_path)"
   ]
  },
  {
   "cell_type": "code",
   "execution_count": null,
   "id": "28992f6f",
   "metadata": {},
   "outputs": [],
   "source": [
    "appl_current(0)\n",
    "#appl_TG(0)\n",
    "magnet_y.field(0)\n",
    "sleep(2)\n",
    "magnet_x.field(0)\n",
    "sleep(2)\n",
    "#appl_voltage_AC(0.004)\n",
    "SGS.off()"
   ]
  },
  {
   "cell_type": "markdown",
   "id": "65c9a40a",
   "metadata": {},
   "source": [
    "## IV vs RF_f"
   ]
  },
  {
   "cell_type": "markdown",
   "id": "b285efb3",
   "metadata": {},
   "source": [
    "### Shapiro steps "
   ]
  },
  {
   "cell_type": "code",
   "execution_count": null,
   "id": "3a180ee1",
   "metadata": {
    "scrolled": true
   },
   "outputs": [],
   "source": [
    "SGS.off()\n",
    "SGS.power(-10)\n",
    "SGS.frequency(11.725e9)\n",
    "SGS.on()\n",
    "keithley_2.averaging_count(5)\n",
    "keithley_2.averaging_enabled(False)\n",
    "keithley_24.output(1)\n",
    "\n",
    "appl_current(-2e-7)\n",
    "#appl_TG(-10)\n",
    "#magnet_x.field(0.23e-3)\n",
    "#magnet_y.field(1.41e-3)\n",
    "# sleep(1)\n",
    "\n",
    "# station.snapshot(update=True);\n",
    "exp = qc.new_experiment('IV-RF_f', sample_name=f'103-03_J2_27-26-30-31M(32G-33G-28G-29G)_1M_By@0.1mT{-I_range}')\n",
    "\n",
    "#do1d(param_set, start, stop, num_points, delay, *param_meas)\"\"\n",
    "dataid = do1d(appl_current,-2e-7 ,2e-7, 101, 0.05,  meas_voltage_K2)\n",
    "# dataid = do1d(appl_current, 6e-6 , -6e-6, 251, 0.01, meas_voltage_K1)\n",
    "# ivvi.set_dacs_zero()\n",
    "keithley_24.output(0)\n",
    "SGS.off()\n",
    "appl_current(0)\n",
    "plot_by_id(dataid)\n",
    "# print(get_R_from_IV(dataid))\n",
    "#print(get_R_from_IV_2(dataid))"
   ]
  },
  {
   "cell_type": "code",
   "execution_count": null,
   "id": "51fe069b",
   "metadata": {},
   "outputs": [],
   "source": [
    "SGS.off()\n",
    "SGS.power(0)\n",
    "SGS.frequency(3.87e9)\n",
    "SGS.on()\n",
    "keithley_2.averaging_count(5)\n",
    "keithley_2.averaging_enabled(False)\n",
    "keithley_24.output(1)\n",
    "\n",
    "appl_current(-1.2e-6)\n",
    "#appl_TG(-10)\n",
    "magnet_y.field(-10e-3)\n",
    "\n",
    "#magnet_y.field(1.41e-3)\n",
    "# sleep(1)\n",
    "\n",
    "# station.snapshot(update=True);\n",
    "exp = qc.new_experiment('Bx vs RF_f', sample_name='By vs RF_f_J2_3.87_-10dB')\n",
    "\n",
    "#do1d(param_set, start, stop, num_points, delay, *param_meas)\"\"\n",
    "dataid = do2d(magnet_y.field, -10e-3, 10e-3,701, 1, appl_current,-1.2e-6 ,1.2e-6, 101, 0.05,  meas_voltage_K2)\n",
    "# dataid = do1d(appl_current, 6e-6 , -6e-6, 251, 0.01, meas_voltage_K1)\n",
    "# ivvi.set_dacs_zero()\n",
    "keithley_24.output(0)\n",
    "SGS.off()\n",
    "appl_current(0)\n",
    "plot_by_id(dataid)\n",
    "# print(get_R_from_IV(dataid))\n",
    "#print(get_R_from_IV_2(dataid))"
   ]
  },
  {
   "cell_type": "code",
   "execution_count": null,
   "id": "5488e4c5",
   "metadata": {},
   "outputs": [],
   "source": [
    "appl_current(0)\n",
    "#appl_TG(0)\n",
    "magnet_y.field(0)\n",
    "sleep(10)\n",
    "magnet_x.field(0)\n",
    "sleep(10)\n",
    "#appl_voltage_AC(0.004)\n",
    "SGS.off()"
   ]
  },
  {
   "cell_type": "markdown",
   "id": "04e50dcd",
   "metadata": {},
   "source": [
    "## IV vs Power Dependence"
   ]
  },
  {
   "cell_type": "code",
   "execution_count": null,
   "id": "0368ef58",
   "metadata": {},
   "outputs": [],
   "source": [
    "SGS.off()"
   ]
  },
  {
   "cell_type": "code",
   "execution_count": null,
   "id": "3d6eab35",
   "metadata": {},
   "outputs": [],
   "source": [
    "SGS.power(-40)"
   ]
  },
  {
   "cell_type": "code",
   "execution_count": null,
   "id": "d760383a",
   "metadata": {},
   "outputs": [],
   "source": [
    "SGS.off()"
   ]
  },
  {
   "cell_type": "code",
   "execution_count": null,
   "id": "f0984a37",
   "metadata": {
    "scrolled": true
   },
   "outputs": [],
   "source": [
    "SGS.off()\n",
    "SGS.power(-20)\n",
    "SGS.frequency(5.9534e9)\n",
    "SGS_frequency = SGS.frequency()\n",
    "SGS.on()\n",
    "keithley_2.averaging_count(3)\n",
    "keithley_2.averaging_enabled(False)\n",
    "keithley_24.output(1)\n",
    "\n",
    "#magnet_x.field(15e-3)\n",
    "#sleep(5)\n",
    "I_range = 6e-6\n",
    "appl_current(-I_range)\n",
    "#appl_TG(-30)\n",
    "sleep(2)\n",
    "\n",
    "# station.snapshot(update=True);\n",
    "exp = qc.new_experiment('IV-RF_p', sample_name=f'103-03_J2_27-26-30-31M(32G-33G-28G-29G)_1M_RF@{SGS_frequency*1e-9:.4f}GHz_By@0.1mT')\n",
    "\n",
    "#do1d(param_set, start, stop, num_points, delay, *param_meas)\n",
    "\n",
    "dataid = do2d(SGS.power,10, 15, 51, 0.1, appl_current,-I_range ,I_range, 301, 0.00001, meas_voltage_K2)\n",
    "# dataid = do1d(appl_current, 6e-6 , -6e-6, 251, 0.01, meas_voltage_K1)\n",
    "# ivvi.set_dacs_zero()\n",
    "\n",
    "SGS.off()\n",
    "appl_current(0)\n",
    "keithley_24.output()\n",
    "plot_by_id(dataid)\n",
    "\n",
    "# print(get_R_from_IV(dataid))\n",
    "print(get_R_from_IV_2(dataid))"
   ]
  },
  {
   "cell_type": "code",
   "execution_count": null,
   "id": "de3fc621",
   "metadata": {},
   "outputs": [],
   "source": [
    "SGS.off()\n",
    "SGS.power(-25)\n",
    "SGS.frequency(5.226e9)\n",
    "SGS.on()\n",
    "keithley_2.averaging_count(5)\n",
    "keithley_2.averaging_enabled(True)\n",
    "keithley_24.output(1)\n",
    "\n",
    "magnet_y.field(-8e-3)\n",
    "sleep(60)\n",
    "appl_current(-2e-7)\n",
    "#appl_TG(-30)\n",
    "sleep(2)\n",
    "\n",
    "# station.snapshot(update=True);\n",
    "exp = qc.new_experiment('IV vs power dependence', sample_name='IV vs PD_5.226_By:-8mT')\n",
    "\n",
    "#do1d(param_set, start, stop, num_points, delay, *param_meas)\n",
    "\n",
    "dataid = do2d(SGS.power,-25, 10, 101, 20, appl_current,-2e-7 ,2e-7, 101, 0.05, meas_voltage_K2)\n",
    "# dataid = do1d(appl_current, 6e-6 , -6e-6, 251, 0.01, meas_voltage_K1)\n",
    "# ivvi.set_dacs_zero()\n",
    "\n",
    "SGS.off()\n",
    "appl_current(0)\n",
    "keithley_24.output()\n",
    "plot_by_id(dataid)\n",
    "\n",
    "# print(get_R_from_IV(dataid))\n",
    "print(get_R_from_IV_2(dataid))"
   ]
  },
  {
   "cell_type": "markdown",
   "id": "13e12840",
   "metadata": {},
   "source": [
    "### PD vs frequency_IV loop (not yet)"
   ]
  },
  {
   "cell_type": "code",
   "execution_count": null,
   "id": "8659ae09",
   "metadata": {
    "code_folding": []
   },
   "outputs": [],
   "source": [
    "frequencies = [3.248, 3.387, 5.677]\n",
    "power_levels = [-20, 0, 25]\n",
    "     \n",
    "SGS.off()\n",
    "SGS.power(-20)\n",
    "SGS.frequency(3.387e9)\n",
    "SGS.on()\n",
    "keithley_2.averaging_count(5)\n",
    "keithley_2.averaging_enabled(True)\n",
    "keithley_24.output(1)\n",
    "\n",
    "appl_current(-2e-6)\n",
    "#appl_TG(-10)\n",
    "sleep(1)\n",
    "\n",
    "for freq in frequencies:\n",
    "    SGS.frequency(freq)\n",
    "    for power_level in power_levels:\n",
    "        SGS.power(power_level)\n",
    "\n",
    "# station.snapshot(update=True);\n",
    "exp = qc.new_experiment('IV vs power dependence', sample_name='IV vs PD_J2_3.387_m20')\n",
    "dataid = do2d(SGS.power, 4, 8, 100, 2, appl_current, -1e-6, 1e-6, 101, 0.05, meas_voltage_K2)\n",
    "\n",
    " # 關閉設備，並在需要時列印或繪製結果\n",
    "SGS.off()\n",
    "appl_current(0)\n",
    "keithley_24.output()\n",
    "plot_by_id(dataid)\n",
    "    \n",
    "print(f\"頻率：{freq} Hz，功率水平：{power_level} dB\")\n",
    "print(get_R_from_IV_2(dataid))\n"
   ]
  },
  {
   "cell_type": "markdown",
   "id": "5c2101a5",
   "metadata": {},
   "source": [
    "## IV vs Vgate"
   ]
  },
  {
   "cell_type": "code",
   "execution_count": null,
   "id": "48eb3a89",
   "metadata": {},
   "outputs": [],
   "source": [
    "appl_current(0)\n",
    "appl_TG(0)\n",
    "magnet_y.field(0)\n",
    "sleep(10)\n",
    "magnet_x.field(0)\n",
    "sleep(10)\n",
    "appl_voltage_AC(0.004)\n",
    "SGS.off()"
   ]
  },
  {
   "cell_type": "code",
   "execution_count": null,
   "id": "5deaef19",
   "metadata": {},
   "outputs": [],
   "source": [
    "SGS.off()\n",
    "SGS.power(25)\n",
    "SGS.frequency(4.83e9)\n",
    "SGS.on()\n",
    "keithley_2.averaging_count(5)\n",
    "keithley_2.averaging_enabled(True)\n",
    "appl_current(-0.4e-7)\n",
    "appl_current_AC(0.1e-10)\n",
    "\n",
    "appl_TG(-10)\n",
    "sleep(1)\n",
    "\n",
    "# station.snapshot(update=True);\n",
    "exp = qc.new_experiment('IV vs Vgate', sample_name='IV vs Vg')\n",
    "\n",
    "dataid = do2d(appl_TG, -10, 10, 751, 0.5, appl_current, -0.4e-7, 0.4e-7, 101, 0.01, meas_voltage_AC_L1, meas_voltage_AC_L1_P, meas_voltage_K2)\n",
    "# dataid = do1d(appl_current, 6e-6 , -6e-6, 251, 0.01, meas_voltage_K1)\n",
    "# ivvi.set_dacs_zero()\n",
    "SGS.off()\n",
    "appl_current(0)\n",
    "plot_by_id(dataid)\n",
    "# print(get_R_from_IV(dataid))\n",
    "#print(get_R_from_IV_2(dataid))"
   ]
  },
  {
   "cell_type": "code",
   "execution_count": null,
   "id": "6bbd39fb",
   "metadata": {},
   "outputs": [],
   "source": [
    "appl_current(0)\n",
    "appl_TG(0)\n",
    "magnet_y.field(0)\n",
    "sleep(10)\n",
    "magnet_x.field(0)\n",
    "sleep(10)\n",
    "appl_voltage_AC(0.004)\n",
    "SGS.off()"
   ]
  },
  {
   "cell_type": "code",
   "execution_count": null,
   "id": "00d4b770",
   "metadata": {},
   "outputs": [],
   "source": [
    "import matplotlib.pyplot as plt\n",
    "import numpy as np\n",
    "\n",
    "# Constants\n",
    "k = 8.617333262145e-5  # Boltzmann constant in eV/K\n",
    "E_a = 0.5  # Example value for the activation energy in eV\n",
    "p_0 = 1.0  # Example value for p0\n",
    "\n",
    "# Create an array of temperatures from 100 to 1000 K\n",
    "temperatures = np.linspace(100, 1000, 50)\n",
    "\n",
    "# Calculate 1/T\n",
    "inverse_temperatures = 1 / temperatures\n",
    "\n",
    "# Calculate ln(p)\n",
    "ln_p = np.log(p_0) - (E_a / k) * inverse_temperatures\n",
    "\n",
    "# Plotting\n",
    "plt.figure(figsize=(8, 6))\n",
    "plt.plot(inverse_temperatures, ln_p, marker='o', linestyle='-')\n",
    "plt.xlabel('1/T (1/K)')\n",
    "plt.ylabel('ln(p)')\n",
    "plt.title('ln(p) vs 1/T for Hole Concentration')\n",
    "plt.grid(True)\n",
    "plt.show()\n"
   ]
  },
  {
   "cell_type": "code",
   "execution_count": null,
   "id": "f610e7bc",
   "metadata": {},
   "outputs": [],
   "source": []
  }
 ],
 "metadata": {
  "kernelspec": {
   "display_name": "Python 3 (ipykernel)",
   "language": "python",
   "name": "python3"
  },
  "language_info": {
   "codemirror_mode": {
    "name": "ipython",
    "version": 3
   },
   "file_extension": ".py",
   "mimetype": "text/x-python",
   "name": "python",
   "nbconvert_exporter": "python",
   "pygments_lexer": "ipython3",
   "version": "3.11.3"
  },
  "toc": {
   "base_numbering": 1,
   "nav_menu": {},
   "number_sections": true,
   "sideBar": false,
   "skip_h1_title": false,
   "title_cell": "Table of Contents",
   "title_sidebar": "Contents",
   "toc_cell": false,
   "toc_position": {
    "height": "783px",
    "left": "260px",
    "top": "67.125px",
    "width": "182px"
   },
   "toc_section_display": true,
   "toc_window_display": true
  }
 },
 "nbformat": 4,
 "nbformat_minor": 5
}
