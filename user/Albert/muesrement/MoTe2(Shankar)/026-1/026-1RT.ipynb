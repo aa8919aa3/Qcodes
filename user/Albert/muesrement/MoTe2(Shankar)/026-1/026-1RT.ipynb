{
 "cells": [
  {
   "cell_type": "markdown",
   "id": "256e0f19",
   "metadata": {},
   "source": [
    "# Initialization"
   ]
  },
  {
   "cell_type": "markdown",
   "id": "9d160fe4",
   "metadata": {},
   "source": [
    "## Inport modules"
   ]
  },
  {
   "cell_type": "code",
   "execution_count": 1,
   "id": "ccc72f99",
   "metadata": {},
   "outputs": [],
   "source": [
    "\n",
    "import os, sys\n",
    "def find_qcodes_local_dir():\n",
    "    dirpath = os.getcwd()\n",
    "    while True:\n",
    "        dirpath, folder_name = os.path.split(dirpath)\n",
    "        if folder_name == 'QCoDeS_local':\n",
    "            return os.path.join(dirpath, folder_name)\n",
    "        if not folder_name:  # Reached the root directory\n",
    "            return None\n",
    "qcodes_local_dir = find_qcodes_local_dir()\n",
    "sys.path.append(f'{qcodes_local_dir}')"
   ]
  },
  {
   "cell_type": "code",
   "execution_count": null,
   "id": "b000c48f",
   "metadata": {},
   "outputs": [],
   "source": [
    "import os, sys\n",
    "\n",
    "def find_qcodes_local_dir():\n",
    "    dirpath = os.getcwd()\n",
    "    while True:\n",
    "        dirpath, folder_name = os.path.split(dirpath)\n",
    "        if folder_name == 'QCoDeS_local':\n",
    "            return os.path.join(dirpath, folder_name)\n",
    "        if not folder_name:  # Reached the root directory\n",
    "            return None\n",
    "\n",
    "qcodes_local_dir = find_qcodes_local_dir()\n",
    "if qcodes_local_dir:\n",
    "    sys.path.append(qcodes_local_dir)\n",
    "    drivers_path = os.path.join(qcodes_local_dir, 'drivers')\n",
    "    sys.path.append(drivers_path)\n",
    "    fridge_specific_path = os.path.join(qcodes_local_dir, 'fridge_specific')\n",
    "    sys.path.append(fridge_specific_path)\n",
    "    # 檢查 init_BF1.py 是否存在於 fridge_specific 資料夾中\n",
    "    init_bf1_path = os.path.join(fridge_specific_path, 'init_BF1.py')\n",
    "    if os.path.isfile(init_bf1_path):\n",
    "        print(f\"Found init_BF1.py at: {init_bf1_path}\")\n",
    "        exec(open(f'{init_bf1_path}').read())  \n",
    "    else:\n",
    "        print(\"init_BF1.py not found in fridge_specific folder.\")\n",
    "\n",
    "# print(sys.path)"
   ]
  },
  {
   "cell_type": "code",
   "execution_count": null,
   "id": "8473e9a5",
   "metadata": {},
   "outputs": [],
   "source": [
    "exec(open('init_station_BF1.py').read())"
   ]
  },
  {
   "cell_type": "code",
   "execution_count": null,
   "id": "e28fee61",
   "metadata": {},
   "outputs": [],
   "source": [
    "import os\n",
    "\n",
    "# 獲取當前路徑\n",
    "dirpath = os.getcwd()\n",
    "\n",
    "# 獲取父資料夾路徑\n",
    "parent_dirpath = os.path.dirname(dirpath)\n",
    "\n",
    "# 獲取父父資料夾路徑\n",
    "grandparent_dirpath = os.path.dirname(parent_dirpath)\n",
    "\n",
    "print(\"當前路徑:\", dirpath)\n",
    "print(\"父資料夾路徑:\", parent_dirpath)\n",
    "print(\"父父資料夾路徑:\", grandparent_dirpath)"
   ]
  },
  {
   "cell_type": "code",
   "execution_count": null,
   "id": "64004fe7",
   "metadata": {},
   "outputs": [],
   "source": [
    "import os\n",
    "\n",
    "def find_init_py():\n",
    "    dirpath = os.getcwd()\n",
    "    while True:\n",
    "        init_py_path = os.path.join(dirpath, 'init.py')\n",
    "        if os.path.isfile(init_py_path):\n",
    "            return init_py_path\n",
    "        new_dirpath, _ = os.path.split(dirpath)\n",
    "        if new_dirpath == dirpath:  # Reached the root directory\n",
    "            return None\n",
    "        dirpath = new_dirpath\n",
    "\n",
    "init_py_path = find_init_py()\n",
    "%run '{init_py_path}'"
   ]
  },
  {
   "cell_type": "code",
   "execution_count": 1,
   "id": "88979d6d",
   "metadata": {},
   "outputs": [
    {
     "name": "stdout",
     "output_type": "stream",
     "text": [
      "Imported all modules, QCoDeS version: 0.39.0 initialized\n"
     ]
    }
   ],
   "source": [
    "%matplotlib ipympl\n",
    "import os, sys\n",
    "import time\n",
    "import pyvisa\n",
    "import warnings\n",
    "import numpy as np\n",
    "import qcodes as qc\n",
    "import plotly.graph_objects as go\n",
    "import matplotlib.pyplot as plt\n",
    "\n",
    "def find_qcodes_local_dir():\n",
    "    dirpath = os.getcwd()\n",
    "    while True:\n",
    "        dirpath, folder_name = os.path.split(dirpath)\n",
    "        if folder_name == 'QCoDeS_local':\n",
    "            return os.path.join(dirpath, folder_name)\n",
    "        if not folder_name:  # Reached the root directory\n",
    "            return None\n",
    "qcodes_local_dir = find_qcodes_local_dir()\n",
    "sys.path.append(f'{qcodes_local_dir}')\n",
    "\n",
    "from tqdm import tqdm\n",
    "from pprint import pprint\n",
    "from time import sleep, monotonic, time\n",
    "from IPython.display import clear_output\n",
    "from qcodes.dataset.measurements import Measurement\n",
    "from qcodes.utils.metadata import diff_param_values\n",
    "from qcodes.dataset.plotting import plot_dataset, plot_by_id\n",
    "from qcodes import Parameter, ManualParameter, ScaledParameter\n",
    "from qcodes.instrument.specialized_parameters import ElapsedTimeParameter\n",
    "from sweeps_v2 import do1d, do2d, time_sweep, measure_until, do1d_until\n",
    "\n",
    "print('Imported all modules, QCoDeS version:', qc.__version__, 'initialized')\n",
    "\n",
    "# warnings.filterwarnings('ignore')"
   ]
  },
  {
   "cell_type": "code",
   "execution_count": 2,
   "id": "399e7806",
   "metadata": {},
   "outputs": [],
   "source": [
    "def find_qcodes_local_dir():\n",
    "    dirpath = os.getcwd()\n",
    "    while True:\n",
    "        dirpath, folder_name = os.path.split(dirpath)\n",
    "        if folder_name == 'QCoDeS_local':\n",
    "            return os.path.join(dirpath, folder_name)\n",
    "        if not folder_name:  # Reached the root directory\n",
    "            return None\n",
    "qcodes_local_dir = find_qcodes_local_dir()"
   ]
  },
  {
   "cell_type": "code",
   "execution_count": 3,
   "id": "fff9a7bd",
   "metadata": {},
   "outputs": [
    {
     "data": {
      "text/plain": [
       "'c:\\\\Users\\\\quant\\\\OneDrive\\\\Documents\\\\GitHub\\\\QCoDeS_local'"
      ]
     },
     "execution_count": 3,
     "metadata": {},
     "output_type": "execute_result"
    }
   ],
   "source": [
    "qcodes_local_dir"
   ]
  },
  {
   "cell_type": "code",
   "execution_count": 4,
   "id": "64ad1e6c",
   "metadata": {},
   "outputs": [
    {
     "data": {
      "text/plain": [
       "'c:\\\\Users\\\\quant\\\\OneDrive\\\\Documents\\\\GitHub\\\\QCoDeS_local\\\\init_fridge.py'"
      ]
     },
     "execution_count": 4,
     "metadata": {},
     "output_type": "execute_result"
    }
   ],
   "source": [
    "def find_init_fridge_py():\n",
    "    for root, dirs, files in os.walk(qcodes_local_dir):\n",
    "        if 'init_fridge.py' in files:\n",
    "            return os.path.join(root, 'init_fridge.py')\n",
    "    return None\n",
    "\n",
    "init_fridge_py_path = find_init_fridge_py()\n",
    "init_fridge_py_path"
   ]
  },
  {
   "cell_type": "code",
   "execution_count": 5,
   "id": "cc4a1c10",
   "metadata": {},
   "outputs": [
    {
     "data": {
      "text/plain": [
       "'c:\\\\Users\\\\quant\\\\OneDrive\\\\Documents\\\\GitHub\\\\QCoDeS_local\\\\init_fridge_v2.py'"
      ]
     },
     "execution_count": 5,
     "metadata": {},
     "output_type": "execute_result"
    }
   ],
   "source": [
    "def find_init_fridge_v2_py():\n",
    "    for root, dirs, files in os.walk(qcodes_local_dir):\n",
    "        if 'init_fridge_v2.py' in files:\n",
    "            return os.path.join(root, 'init_fridge_v2.py')\n",
    "    return None\n",
    "\n",
    "init_fridge_v2_py_path = find_init_fridge_v2_py()\n",
    "init_fridge_v2_py_path"
   ]
  },
  {
   "cell_type": "code",
   "execution_count": null,
   "id": "c09fa82c",
   "metadata": {},
   "outputs": [],
   "source": [
    "fridge_name = 'BF1'\n",
    "%run \"{init_fridge_py_path}\" {fridge_name}"
   ]
  },
  {
   "cell_type": "code",
   "execution_count": 6,
   "id": "bb19a743",
   "metadata": {},
   "outputs": [
    {
     "name": "stdout",
     "output_type": "stream",
     "text": [
      "Found init_BF1_v2.py at: c:\\Users\\quant\\OneDrive\\Documents\\GitHub\\QCoDeS_local\\fridge_specific\\init_BF1_v2.py\n",
      "Error connecting to TCPIP0::192.168.1.42::inst0::INSTR: VI_ERROR_RSRC_NFOUND (-1073807343): Insufficient location information or the requested device or resource is not present in the system.\n",
      "Error connecting to TCPIP0::192.168.1.42::inst1::INSTR: VI_ERROR_RSRC_NFOUND (-1073807343): Insufficient location information or the requested device or resource is not present in the system.\n",
      "Error connecting to TCPIP0::192.168.1.6::inst0::INSTR: VI_ERROR_RSRC_NFOUND (-1073807343): Insufficient location information or the requested device or resource is not present in the system.\n",
      "Error connecting to TCPIP0::192.168.1.7::inst0::INSTR: VI_ERROR_RSRC_NFOUND (-1073807343): Insufficient location information or the requested device or resource is not present in the system.\n",
      "Error connecting to TCPIP0::ZNB20-64-101393::inst0::INSTR: VI_ERROR_RSRC_NFOUND (-1073807343): Insufficient location information or the requested device or resource is not present in the system.\n",
      "Error connecting to ASRL1::INSTR: VI_ERROR_TMO (-1073807339): Timeout expired before operation completed.\n",
      "Error connecting to ASRL2::INSTR: VI_ERROR_TMO (-1073807339): Timeout expired before operation completed.\n",
      "Error connecting to ASRL10::INSTR: VI_ERROR_TMO (-1073807339): Timeout expired before operation completed.\n",
      "Device: GPIB0::6::INSTR\n",
      "IDN: KEITHLEY INSTRUMENTS,MODEL DMM6500,04518052,1.7.7b\n",
      "\n",
      "Connected to: KEITHLEY INSTRUMENTS DMM6500 (serial:04518052, firmware:1.7.7b) in 0.02s\n",
      "Added Keithley DMM6500 at GPIB0::6::INSTR to the station.\n",
      "Device: GPIB0::22::INSTR\n",
      "IDN: KEITHLEY INSTRUMENTS INC.,MODEL 2440,1225508,C30   Mar 17 2006 09:29:29/A02  /B/A\n",
      "\n",
      "Connected to: KEITHLEY INSTRUMENTS INC. 2440 (serial:1225508, firmware:C30   Mar 17 2006 09:29:29/A02  /B/A) in 0.03s\n"
     ]
    },
    {
     "name": "stderr",
     "output_type": "stream",
     "text": [
      "[K2440(Keithley2400)] Snapshot: Could not update parameter: volt\n",
      "[K2440(Keithley2400)] Snapshot: Could not update parameter: curr\n",
      "[K2440(Keithley2400)] Snapshot: Could not update parameter: resistance\n"
     ]
    },
    {
     "name": "stdout",
     "output_type": "stream",
     "text": [
      "Failed to ping 169.254.115.3: [WinError 10049] The requested address is not valid in its context\n",
      "Failed to ping 169.254.115.2: [WinError 10049] The requested address is not valid in its context\n",
      "Failed to ping 169.254.115.1: [WinError 10049] The requested address is not valid in its context\n",
      "One or more pings failed, cannot establish connection to all magnets.\n",
      "\n",
      "Station list:\n",
      "{'DMM6500': <Keithley_6500: DMM6500>, 'K2440': <Keithley2400: K2440>}\n"
     ]
    }
   ],
   "source": [
    "fridge_name = 'BF1'\n",
    "%run \"{init_fridge_v2_py_path}\" {fridge_name}"
   ]
  },
  {
   "cell_type": "code",
   "execution_count": 7,
   "id": "c9e134aa",
   "metadata": {},
   "outputs": [
    {
     "name": "stdout",
     "output_type": "stream",
     "text": [
      "{'components': {},\n",
      " 'config': None,\n",
      " 'instruments': {'DMM6500': {'__class__': 'qcodes.instrument_drivers.tektronix.Keithley_6500.Keithley_6500',\n",
      "                             'address': 'GPIB0::6::INSTR',\n",
      "                             'functions': {},\n",
      "                             'label': 'DMM6500',\n",
      "                             'name': 'DMM6500',\n",
      "                             'parameters': {'IDN': {'__class__': 'qcodes.parameters.parameter.Parameter',\n",
      "                                                    'full_name': 'DMM6500_IDN',\n",
      "                                                    'instrument': 'qcodes.instrument_drivers.tektronix.Keithley_6500.Keithley_6500',\n",
      "                                                    'instrument_name': 'DMM6500',\n",
      "                                                    'inter_delay': 0,\n",
      "                                                    'label': 'IDN',\n",
      "                                                    'name': 'IDN',\n",
      "                                                    'post_delay': 0,\n",
      "                                                    'raw_value': {'firmware': '1.7.7b',\n",
      "                                                                  'model': 'DMM6500',\n",
      "                                                                  'serial': '04518052',\n",
      "                                                                  'vendor': 'KEITHLEY '\n",
      "                                                                            'INSTRUMENTS'},\n",
      "                                                    'ts': '2024-12-09 17:59:15',\n",
      "                                                    'unit': '',\n",
      "                                                    'vals': '<Anything>',\n",
      "                                                    'value': {'firmware': '1.7.7b',\n",
      "                                                              'model': 'DMM6500',\n",
      "                                                              'serial': '04518052',\n",
      "                                                              'vendor': 'KEITHLEY '\n",
      "                                                                        'INSTRUMENTS'}},\n",
      "                                            'amplitude': {'__class__': 'qcodes.parameters.parameter.Parameter',\n",
      "                                                          'full_name': 'DMM6500_amplitude',\n",
      "                                                          'instrument': 'qcodes.instrument_drivers.tektronix.Keithley_6500.Keithley_6500',\n",
      "                                                          'instrument_name': 'DMM6500',\n",
      "                                                          'inter_delay': 0,\n",
      "                                                          'label': 'amplitude',\n",
      "                                                          'name': 'amplitude',\n",
      "                                                          'post_delay': 0,\n",
      "                                                          'raw_value': 0.0001463837,\n",
      "                                                          'ts': '2024-12-09 '\n",
      "                                                                '17:59:15',\n",
      "                                                          'unit': 'a.u.',\n",
      "                                                          'value': 0.0001463837},\n",
      "                                            'auto_range_enabled': {'__class__': 'qcodes.parameters.parameter.Parameter',\n",
      "                                                                   'full_name': 'DMM6500_auto_range_enabled',\n",
      "                                                                   'instrument': 'qcodes.instrument_drivers.tektronix.Keithley_6500.Keithley_6500',\n",
      "                                                                   'instrument_name': 'DMM6500',\n",
      "                                                                   'inter_delay': 0,\n",
      "                                                                   'label': 'auto_range_enabled',\n",
      "                                                                   'name': 'auto_range_enabled',\n",
      "                                                                   'post_delay': 0,\n",
      "                                                                   'raw_value': True,\n",
      "                                                                   'ts': '2024-12-09 '\n",
      "                                                                         '17:59:15',\n",
      "                                                                   'unit': '',\n",
      "                                                                   'vals': '<Boolean>',\n",
      "                                                                   'value': True},\n",
      "                                            'averaging_count': {'__class__': 'qcodes.parameters.parameter.Parameter',\n",
      "                                                                'full_name': 'DMM6500_averaging_count',\n",
      "                                                                'instrument': 'qcodes.instrument_drivers.tektronix.Keithley_6500.Keithley_6500',\n",
      "                                                                'instrument_name': 'DMM6500',\n",
      "                                                                'inter_delay': 0,\n",
      "                                                                'label': 'averaging_count',\n",
      "                                                                'name': 'averaging_count',\n",
      "                                                                'post_delay': 0,\n",
      "                                                                'raw_value': 10,\n",
      "                                                                'ts': '2024-12-09 '\n",
      "                                                                      '17:59:15',\n",
      "                                                                'unit': '',\n",
      "                                                                'vals': '<Ints '\n",
      "                                                                        '1<=v<=100>',\n",
      "                                                                'value': 10},\n",
      "                                            'averaging_enabled': {'__class__': 'qcodes.parameters.parameter.Parameter',\n",
      "                                                                  'full_name': 'DMM6500_averaging_enabled',\n",
      "                                                                  'instrument': 'qcodes.instrument_drivers.tektronix.Keithley_6500.Keithley_6500',\n",
      "                                                                  'instrument_name': 'DMM6500',\n",
      "                                                                  'inter_delay': 0,\n",
      "                                                                  'label': 'averaging_enabled',\n",
      "                                                                  'name': 'averaging_enabled',\n",
      "                                                                  'post_delay': 0,\n",
      "                                                                  'raw_value': True,\n",
      "                                                                  'ts': '2024-12-09 '\n",
      "                                                                        '17:59:15',\n",
      "                                                                  'unit': '',\n",
      "                                                                  'vals': '<Boolean>',\n",
      "                                                                  'value': True},\n",
      "                                            'averaging_type': {'__class__': 'qcodes.parameters.parameter.Parameter',\n",
      "                                                               'full_name': 'DMM6500_averaging_type',\n",
      "                                                               'instrument': 'qcodes.instrument_drivers.tektronix.Keithley_6500.Keithley_6500',\n",
      "                                                               'instrument_name': 'DMM6500',\n",
      "                                                               'inter_delay': 0,\n",
      "                                                               'label': 'averaging_type',\n",
      "                                                               'name': 'averaging_type',\n",
      "                                                               'post_delay': 0,\n",
      "                                                               'raw_value': 'repeat',\n",
      "                                                               'ts': '2024-12-09 '\n",
      "                                                                     '17:59:15',\n",
      "                                                               'unit': '',\n",
      "                                                               'vals': '<Enum: '\n",
      "                                                                       \"{'repeat', \"\n",
      "                                                                       \"'moving'}>\",\n",
      "                                                               'value': 'repeat'},\n",
      "                                            'digits': {'__class__': 'qcodes.parameters.parameter.Parameter',\n",
      "                                                       'full_name': 'DMM6500_digits',\n",
      "                                                       'instrument': 'qcodes.instrument_drivers.tektronix.Keithley_6500.Keithley_6500',\n",
      "                                                       'instrument_name': 'DMM6500',\n",
      "                                                       'inter_delay': 0,\n",
      "                                                       'label': 'digits',\n",
      "                                                       'name': 'digits',\n",
      "                                                       'post_delay': 0,\n",
      "                                                       'raw_value': '6',\n",
      "                                                       'ts': '2024-12-09 '\n",
      "                                                             '17:59:15',\n",
      "                                                       'unit': '',\n",
      "                                                       'vals': '<Ints 4<=v<=7>',\n",
      "                                                       'value': 6},\n",
      "                                            'display_backlight': {'__class__': 'qcodes.parameters.parameter.Parameter',\n",
      "                                                                  'full_name': 'DMM6500_display_backlight',\n",
      "                                                                  'instrument': 'qcodes.instrument_drivers.tektronix.Keithley_6500.Keithley_6500',\n",
      "                                                                  'instrument_name': 'DMM6500',\n",
      "                                                                  'inter_delay': 0,\n",
      "                                                                  'label': 'display_backlight',\n",
      "                                                                  'name': 'display_backlight',\n",
      "                                                                  'post_delay': 0,\n",
      "                                                                  'raw_value': 'ON50',\n",
      "                                                                  'ts': '2024-12-09 '\n",
      "                                                                        '17:59:15',\n",
      "                                                                  'unit': '',\n",
      "                                                                  'val_mapping': {'Blackout': 'BLACkout',\n",
      "                                                                                  'Off': 'OFF',\n",
      "                                                                                  'On 100': 'ON100',\n",
      "                                                                                  'On 25': 'ON25',\n",
      "                                                                                  'On 50': 'ON50',\n",
      "                                                                                  'On 75': 'ON75'},\n",
      "                                                                  'vals': '<Enum: '\n",
      "                                                                          \"{'Blackout', \"\n",
      "                                                                          \"'On \"\n",
      "                                                                          \"25', \"\n",
      "                                                                          \"'On \"\n",
      "                                                                          \"100', \"\n",
      "                                                                          \"'Off', \"\n",
      "                                                                          \"'On \"\n",
      "                                                                          \"75', \"\n",
      "                                                                          \"'On \"\n",
      "                                                                          \"50'}>\",\n",
      "                                                                  'value': 'On '\n",
      "                                                                           '50'},\n",
      "                                            'mode': {'__class__': 'qcodes.parameters.parameter.Parameter',\n",
      "                                                     'full_name': 'DMM6500_mode',\n",
      "                                                     'instrument': 'qcodes.instrument_drivers.tektronix.Keithley_6500.Keithley_6500',\n",
      "                                                     'instrument_name': 'DMM6500',\n",
      "                                                     'inter_delay': 0,\n",
      "                                                     'label': 'mode',\n",
      "                                                     'name': 'mode',\n",
      "                                                     'post_delay': 0,\n",
      "                                                     'raw_value': 'VOLT:DC',\n",
      "                                                     'ts': '2024-12-09 '\n",
      "                                                           '17:59:15',\n",
      "                                                     'unit': '',\n",
      "                                                     'val_mapping': {'2w resistance': 'RES',\n",
      "                                                                     '4w resistance': 'FRES',\n",
      "                                                                     'ac current': 'CURR:AC',\n",
      "                                                                     'ac voltage': 'VOLT:AC',\n",
      "                                                                     'dc current': 'CURR:DC',\n",
      "                                                                     'dc voltage': 'VOLT:DC',\n",
      "                                                                     'frequency': 'FREQ',\n",
      "                                                                     'temperature': 'TEMP'},\n",
      "                                                     'vals': '<Enum: '\n",
      "                                                             \"{'frequency', \"\n",
      "                                                             \"'2w resistance', \"\n",
      "                                                             \"'dc current', \"\n",
      "                                                             \"'temperature', \"\n",
      "                                                             \"'4w resistance', \"\n",
      "                                                             \"'dc voltage', \"\n",
      "                                                             \"'ac current', \"\n",
      "                                                             \"'ac voltage'}>\",\n",
      "                                                     'value': 'dc voltage'},\n",
      "                                            'nplc': {'__class__': 'qcodes.parameters.parameter.Parameter',\n",
      "                                                     'full_name': 'DMM6500_nplc',\n",
      "                                                     'instrument': 'qcodes.instrument_drivers.tektronix.Keithley_6500.Keithley_6500',\n",
      "                                                     'instrument_name': 'DMM6500',\n",
      "                                                     'inter_delay': 0,\n",
      "                                                     'label': 'nplc',\n",
      "                                                     'name': 'nplc',\n",
      "                                                     'post_delay': 0,\n",
      "                                                     'raw_value': 1.0,\n",
      "                                                     'ts': '2024-12-09 '\n",
      "                                                           '17:59:15',\n",
      "                                                     'unit': '',\n",
      "                                                     'vals': '<Numbers '\n",
      "                                                             '0.01<=v<=10>',\n",
      "                                                     'value': 1.0},\n",
      "                                            'range': {'__class__': 'qcodes.parameters.parameter.Parameter',\n",
      "                                                      'full_name': 'DMM6500_range',\n",
      "                                                      'instrument': 'qcodes.instrument_drivers.tektronix.Keithley_6500.Keithley_6500',\n",
      "                                                      'instrument_name': 'DMM6500',\n",
      "                                                      'inter_delay': 0,\n",
      "                                                      'label': 'range',\n",
      "                                                      'name': 'range',\n",
      "                                                      'post_delay': 0,\n",
      "                                                      'raw_value': 0.1,\n",
      "                                                      'ts': '2024-12-09 '\n",
      "                                                            '17:59:15',\n",
      "                                                      'unit': '',\n",
      "                                                      'vals': '<Numbers>',\n",
      "                                                      'value': 0.1},\n",
      "                                            'timeout': {'__class__': 'qcodes.parameters.parameter.Parameter',\n",
      "                                                        'full_name': 'DMM6500_timeout',\n",
      "                                                        'instrument': 'qcodes.instrument_drivers.tektronix.Keithley_6500.Keithley_6500',\n",
      "                                                        'instrument_name': 'DMM6500',\n",
      "                                                        'inter_delay': 0,\n",
      "                                                        'label': 'timeout',\n",
      "                                                        'name': 'timeout',\n",
      "                                                        'post_delay': 0,\n",
      "                                                        'raw_value': 10.0,\n",
      "                                                        'ts': '2024-12-09 '\n",
      "                                                              '17:59:15',\n",
      "                                                        'unit': 's',\n",
      "                                                        'vals': '<MultiType: '\n",
      "                                                                'Numbers v>=0, '\n",
      "                                                                'Enum: {None}>',\n",
      "                                                        'value': 10.0},\n",
      "                                            'trigger1_delay': {'__class__': 'qcodes.parameters.parameter.Parameter',\n",
      "                                                               'full_name': 'DMM6500_trigger1_delay',\n",
      "                                                               'instrument': 'qcodes.instrument_drivers.tektronix.Keithley_6500.Keithley_6500',\n",
      "                                                               'instrument_name': 'DMM6500',\n",
      "                                                               'inter_delay': 0,\n",
      "                                                               'label': 'trigger1_delay',\n",
      "                                                               'name': 'trigger1_delay',\n",
      "                                                               'post_delay': 0,\n",
      "                                                               'raw_value': '1E-05',\n",
      "                                                               'ts': '2024-12-09 '\n",
      "                                                                     '17:59:15',\n",
      "                                                               'unit': 's',\n",
      "                                                               'vals': '<Numbers '\n",
      "                                                                       '0<=v<=999999.999>',\n",
      "                                                               'value': 1e-05},\n",
      "                                            'trigger1_source': {'__class__': 'qcodes.parameters.parameter.Parameter',\n",
      "                                                                'full_name': 'DMM6500_trigger1_source',\n",
      "                                                                'instrument': 'qcodes.instrument_drivers.tektronix.Keithley_6500.Keithley_6500',\n",
      "                                                                'instrument_name': 'DMM6500',\n",
      "                                                                'inter_delay': 0,\n",
      "                                                                'label': 'trigger1_source',\n",
      "                                                                'name': 'trigger1_source',\n",
      "                                                                'post_delay': 0,\n",
      "                                                                'raw_value': 'NONE',\n",
      "                                                                'ts': '2024-12-09 '\n",
      "                                                                      '17:59:15',\n",
      "                                                                'unit': '',\n",
      "                                                                'val_mapping': {'bus': 'COMM',\n",
      "                                                                                'external': 'EXT',\n",
      "                                                                                'front-panel': 'DISP',\n",
      "                                                                                'immediate': 'NONE',\n",
      "                                                                                'notify1': 'NOT1',\n",
      "                                                                                'notify2': 'NOT2',\n",
      "                                                                                'notify3': 'NOT3',\n",
      "                                                                                'timer1': 'TIM1',\n",
      "                                                                                'timer2': 'TIM2',\n",
      "                                                                                'timer3': 'TIM3',\n",
      "                                                                                'timer4': 'TIM4'},\n",
      "                                                                'vals': '<Enum: '\n",
      "                                                                        \"{'front-panel', \"\n",
      "                                                                        \"'notify1', \"\n",
      "                                                                        \"'notify2', \"\n",
      "                                                                        \"'timer4', \"\n",
      "                                                                        \"'external', \"\n",
      "                                                                        \"'timer1', \"\n",
      "                                                                        \"'immediate', \"\n",
      "                                                                        \"'timer2', \"\n",
      "                                                                        \"'notify3', \"\n",
      "                                                                        \"'bus', \"\n",
      "                                                                        \"'timer3'}>\",\n",
      "                                                                'value': 'immediate'},\n",
      "                                            'trigger2_delay': {'__class__': 'qcodes.parameters.parameter.Parameter',\n",
      "                                                               'full_name': 'DMM6500_trigger2_delay',\n",
      "                                                               'instrument': 'qcodes.instrument_drivers.tektronix.Keithley_6500.Keithley_6500',\n",
      "                                                               'instrument_name': 'DMM6500',\n",
      "                                                               'inter_delay': 0,\n",
      "                                                               'label': 'trigger2_delay',\n",
      "                                                               'name': 'trigger2_delay',\n",
      "                                                               'post_delay': 0,\n",
      "                                                               'raw_value': '1E-05',\n",
      "                                                               'ts': '2024-12-09 '\n",
      "                                                                     '17:59:15',\n",
      "                                                               'unit': 's',\n",
      "                                                               'vals': '<Numbers '\n",
      "                                                                       '0<=v<=999999.999>',\n",
      "                                                               'value': 1e-05},\n",
      "                                            'trigger2_source': {'__class__': 'qcodes.parameters.parameter.Parameter',\n",
      "                                                                'full_name': 'DMM6500_trigger2_source',\n",
      "                                                                'instrument': 'qcodes.instrument_drivers.tektronix.Keithley_6500.Keithley_6500',\n",
      "                                                                'instrument_name': 'DMM6500',\n",
      "                                                                'inter_delay': 0,\n",
      "                                                                'label': 'trigger2_source',\n",
      "                                                                'name': 'trigger2_source',\n",
      "                                                                'post_delay': 0,\n",
      "                                                                'raw_value': 'NONE',\n",
      "                                                                'ts': '2024-12-09 '\n",
      "                                                                      '17:59:15',\n",
      "                                                                'unit': '',\n",
      "                                                                'val_mapping': {'bus': 'COMM',\n",
      "                                                                                'external': 'EXT',\n",
      "                                                                                'front-panel': 'DISP',\n",
      "                                                                                'immediate': 'NONE',\n",
      "                                                                                'notify1': 'NOT1',\n",
      "                                                                                'notify2': 'NOT2',\n",
      "                                                                                'notify3': 'NOT3',\n",
      "                                                                                'timer1': 'TIM1',\n",
      "                                                                                'timer2': 'TIM2',\n",
      "                                                                                'timer3': 'TIM3',\n",
      "                                                                                'timer4': 'TIM4'},\n",
      "                                                                'vals': '<Enum: '\n",
      "                                                                        \"{'front-panel', \"\n",
      "                                                                        \"'notify1', \"\n",
      "                                                                        \"'notify2', \"\n",
      "                                                                        \"'timer4', \"\n",
      "                                                                        \"'external', \"\n",
      "                                                                        \"'timer1', \"\n",
      "                                                                        \"'immediate', \"\n",
      "                                                                        \"'timer2', \"\n",
      "                                                                        \"'notify3', \"\n",
      "                                                                        \"'bus', \"\n",
      "                                                                        \"'timer3'}>\",\n",
      "                                                                'value': 'immediate'},\n",
      "                                            'trigger3_delay': {'__class__': 'qcodes.parameters.parameter.Parameter',\n",
      "                                                               'full_name': 'DMM6500_trigger3_delay',\n",
      "                                                               'instrument': 'qcodes.instrument_drivers.tektronix.Keithley_6500.Keithley_6500',\n",
      "                                                               'instrument_name': 'DMM6500',\n",
      "                                                               'inter_delay': 0,\n",
      "                                                               'label': 'trigger3_delay',\n",
      "                                                               'name': 'trigger3_delay',\n",
      "                                                               'post_delay': 0,\n",
      "                                                               'raw_value': '1E-05',\n",
      "                                                               'ts': '2024-12-09 '\n",
      "                                                                     '17:59:15',\n",
      "                                                               'unit': 's',\n",
      "                                                               'vals': '<Numbers '\n",
      "                                                                       '0<=v<=999999.999>',\n",
      "                                                               'value': 1e-05},\n",
      "                                            'trigger3_source': {'__class__': 'qcodes.parameters.parameter.Parameter',\n",
      "                                                                'full_name': 'DMM6500_trigger3_source',\n",
      "                                                                'instrument': 'qcodes.instrument_drivers.tektronix.Keithley_6500.Keithley_6500',\n",
      "                                                                'instrument_name': 'DMM6500',\n",
      "                                                                'inter_delay': 0,\n",
      "                                                                'label': 'trigger3_source',\n",
      "                                                                'name': 'trigger3_source',\n",
      "                                                                'post_delay': 0,\n",
      "                                                                'raw_value': 'NONE',\n",
      "                                                                'ts': '2024-12-09 '\n",
      "                                                                      '17:59:15',\n",
      "                                                                'unit': '',\n",
      "                                                                'val_mapping': {'bus': 'COMM',\n",
      "                                                                                'external': 'EXT',\n",
      "                                                                                'front-panel': 'DISP',\n",
      "                                                                                'immediate': 'NONE',\n",
      "                                                                                'notify1': 'NOT1',\n",
      "                                                                                'notify2': 'NOT2',\n",
      "                                                                                'notify3': 'NOT3',\n",
      "                                                                                'timer1': 'TIM1',\n",
      "                                                                                'timer2': 'TIM2',\n",
      "                                                                                'timer3': 'TIM3',\n",
      "                                                                                'timer4': 'TIM4'},\n",
      "                                                                'vals': '<Enum: '\n",
      "                                                                        \"{'front-panel', \"\n",
      "                                                                        \"'notify1', \"\n",
      "                                                                        \"'notify2', \"\n",
      "                                                                        \"'timer4', \"\n",
      "                                                                        \"'external', \"\n",
      "                                                                        \"'timer1', \"\n",
      "                                                                        \"'immediate', \"\n",
      "                                                                        \"'timer2', \"\n",
      "                                                                        \"'notify3', \"\n",
      "                                                                        \"'bus', \"\n",
      "                                                                        \"'timer3'}>\",\n",
      "                                                                'value': 'immediate'},\n",
      "                                            'trigger4_delay': {'__class__': 'qcodes.parameters.parameter.Parameter',\n",
      "                                                               'full_name': 'DMM6500_trigger4_delay',\n",
      "                                                               'instrument': 'qcodes.instrument_drivers.tektronix.Keithley_6500.Keithley_6500',\n",
      "                                                               'instrument_name': 'DMM6500',\n",
      "                                                               'inter_delay': 0,\n",
      "                                                               'label': 'trigger4_delay',\n",
      "                                                               'name': 'trigger4_delay',\n",
      "                                                               'post_delay': 0,\n",
      "                                                               'raw_value': '1E-05',\n",
      "                                                               'ts': '2024-12-09 '\n",
      "                                                                     '17:59:15',\n",
      "                                                               'unit': 's',\n",
      "                                                               'vals': '<Numbers '\n",
      "                                                                       '0<=v<=999999.999>',\n",
      "                                                               'value': 1e-05},\n",
      "                                            'trigger4_source': {'__class__': 'qcodes.parameters.parameter.Parameter',\n",
      "                                                                'full_name': 'DMM6500_trigger4_source',\n",
      "                                                                'instrument': 'qcodes.instrument_drivers.tektronix.Keithley_6500.Keithley_6500',\n",
      "                                                                'instrument_name': 'DMM6500',\n",
      "                                                                'inter_delay': 0,\n",
      "                                                                'label': 'trigger4_source',\n",
      "                                                                'name': 'trigger4_source',\n",
      "                                                                'post_delay': 0,\n",
      "                                                                'raw_value': 'NONE',\n",
      "                                                                'ts': '2024-12-09 '\n",
      "                                                                      '17:59:15',\n",
      "                                                                'unit': '',\n",
      "                                                                'val_mapping': {'bus': 'COMM',\n",
      "                                                                                'external': 'EXT',\n",
      "                                                                                'front-panel': 'DISP',\n",
      "                                                                                'immediate': 'NONE',\n",
      "                                                                                'notify1': 'NOT1',\n",
      "                                                                                'notify2': 'NOT2',\n",
      "                                                                                'notify3': 'NOT3',\n",
      "                                                                                'timer1': 'TIM1',\n",
      "                                                                                'timer2': 'TIM2',\n",
      "                                                                                'timer3': 'TIM3',\n",
      "                                                                                'timer4': 'TIM4'},\n",
      "                                                                'vals': '<Enum: '\n",
      "                                                                        \"{'front-panel', \"\n",
      "                                                                        \"'notify1', \"\n",
      "                                                                        \"'notify2', \"\n",
      "                                                                        \"'timer4', \"\n",
      "                                                                        \"'external', \"\n",
      "                                                                        \"'timer1', \"\n",
      "                                                                        \"'immediate', \"\n",
      "                                                                        \"'timer2', \"\n",
      "                                                                        \"'notify3', \"\n",
      "                                                                        \"'bus', \"\n",
      "                                                                        \"'timer3'}>\",\n",
      "                                                                'value': 'immediate'},\n",
      "                                            'trigger_count': {'__class__': 'qcodes.parameters.parameter.Parameter',\n",
      "                                                              'full_name': 'DMM6500_trigger_count',\n",
      "                                                              'instrument': 'qcodes.instrument_drivers.tektronix.Keithley_6500.Keithley_6500',\n",
      "                                                              'instrument_name': 'DMM6500',\n",
      "                                                              'inter_delay': 0,\n",
      "                                                              'label': 'trigger_count',\n",
      "                                                              'name': 'trigger_count',\n",
      "                                                              'post_delay': 0,\n",
      "                                                              'raw_value': '1',\n",
      "                                                              'ts': '2024-12-09 '\n",
      "                                                                    '17:59:15',\n",
      "                                                              'unit': '',\n",
      "                                                              'vals': '<MultiType: '\n",
      "                                                                      'Ints '\n",
      "                                                                      '1<=v<=9999, '\n",
      "                                                                      'Enum: '\n",
      "                                                                      \"{'inf', \"\n",
      "                                                                      \"'minimum', \"\n",
      "                                                                      \"'default', \"\n",
      "                                                                      \"'maximum'}>\",\n",
      "                                                              'value': 1},\n",
      "                                            'trigger_timer': {'__class__': 'qcodes.parameters.parameter.Parameter',\n",
      "                                                              'full_name': 'DMM6500_trigger_timer',\n",
      "                                                              'instrument': 'qcodes.instrument_drivers.tektronix.Keithley_6500.Keithley_6500',\n",
      "                                                              'instrument_name': 'DMM6500',\n",
      "                                                              'inter_delay': 0,\n",
      "                                                              'label': 'trigger_timer',\n",
      "                                                              'name': 'trigger_timer',\n",
      "                                                              'post_delay': 0,\n",
      "                                                              'raw_value': '0',\n",
      "                                                              'ts': '2024-12-09 '\n",
      "                                                                    '17:59:15',\n",
      "                                                              'unit': 's',\n",
      "                                                              'vals': '<Numbers '\n",
      "                                                                      '0<=v<=999999.999>',\n",
      "                                                              'value': 0.0}},\n",
      "                             'read_terminator': '\\n',\n",
      "                             'submodules': {},\n",
      "                             'terminator': '\\n',\n",
      "                             'timeout': 10.0,\n",
      "                             'write_terminator': '\\n'},\n",
      "                 'K2440': {'__class__': 'qcodes.instrument_drivers.Keithley.Keithley_2400.Keithley2400',\n",
      "                           'address': 'GPIB0::22::INSTR',\n",
      "                           'functions': {},\n",
      "                           'label': 'K2440',\n",
      "                           'name': 'K2440',\n",
      "                           'parameters': {'IDN': {'__class__': 'qcodes.parameters.parameter.Parameter',\n",
      "                                                  'full_name': 'K2440_IDN',\n",
      "                                                  'instrument': 'qcodes.instrument_drivers.Keithley.Keithley_2400.Keithley2400',\n",
      "                                                  'instrument_name': 'K2440',\n",
      "                                                  'inter_delay': 0,\n",
      "                                                  'label': 'IDN',\n",
      "                                                  'name': 'IDN',\n",
      "                                                  'post_delay': 0,\n",
      "                                                  'raw_value': {'firmware': 'C30   '\n",
      "                                                                            'Mar '\n",
      "                                                                            '17 '\n",
      "                                                                            '2006 '\n",
      "                                                                            '09:29:29/A02  '\n",
      "                                                                            '/B/A',\n",
      "                                                                'model': '2440',\n",
      "                                                                'serial': '1225508',\n",
      "                                                                'vendor': 'KEITHLEY '\n",
      "                                                                          'INSTRUMENTS '\n",
      "                                                                          'INC.'},\n",
      "                                                  'ts': '2024-12-09 17:59:15',\n",
      "                                                  'unit': '',\n",
      "                                                  'vals': '<Anything>',\n",
      "                                                  'value': {'firmware': 'C30   '\n",
      "                                                                        'Mar '\n",
      "                                                                        '17 '\n",
      "                                                                        '2006 '\n",
      "                                                                        '09:29:29/A02  '\n",
      "                                                                        '/B/A',\n",
      "                                                            'model': '2440',\n",
      "                                                            'serial': '1225508',\n",
      "                                                            'vendor': 'KEITHLEY '\n",
      "                                                                      'INSTRUMENTS '\n",
      "                                                                      'INC.'}},\n",
      "                                          'compliancei': {'__class__': 'qcodes.parameters.parameter.Parameter',\n",
      "                                                          'full_name': 'K2440_compliancei',\n",
      "                                                          'instrument': 'qcodes.instrument_drivers.Keithley.Keithley_2400.Keithley2400',\n",
      "                                                          'instrument_name': 'K2440',\n",
      "                                                          'inter_delay': 0,\n",
      "                                                          'label': 'Current '\n",
      "                                                                   'Compliance',\n",
      "                                                          'name': 'compliancei',\n",
      "                                                          'post_delay': 0,\n",
      "                                                          'raw_value': '1.000000E-01',\n",
      "                                                          'ts': '2024-12-09 '\n",
      "                                                                '17:59:15',\n",
      "                                                          'unit': '',\n",
      "                                                          'value': 0.1},\n",
      "                                          'compliancev': {'__class__': 'qcodes.parameters.parameter.Parameter',\n",
      "                                                          'full_name': 'K2440_compliancev',\n",
      "                                                          'instrument': 'qcodes.instrument_drivers.Keithley.Keithley_2400.Keithley2400',\n",
      "                                                          'instrument_name': 'K2440',\n",
      "                                                          'inter_delay': 0,\n",
      "                                                          'label': 'Voltage '\n",
      "                                                                   'Compliance',\n",
      "                                                          'name': 'compliancev',\n",
      "                                                          'post_delay': 0,\n",
      "                                                          'raw_value': '1.050000E+01',\n",
      "                                                          'ts': '2024-12-09 '\n",
      "                                                                '17:59:15',\n",
      "                                                          'unit': '',\n",
      "                                                          'value': 10.5},\n",
      "                                          'curr': {'__class__': 'qcodes.parameters.parameter.Parameter',\n",
      "                                                   'full_name': 'K2440_curr',\n",
      "                                                   'instrument': 'qcodes.instrument_drivers.Keithley.Keithley_2400.Keithley2400',\n",
      "                                                   'instrument_name': 'K2440',\n",
      "                                                   'inter_delay': 0,\n",
      "                                                   'label': 'Current',\n",
      "                                                   'name': 'curr',\n",
      "                                                   'post_delay': 0,\n",
      "                                                   'raw_value': None,\n",
      "                                                   'ts': None,\n",
      "                                                   'unit': 'A',\n",
      "                                                   'value': None},\n",
      "                                          'mode': {'__class__': 'qcodes.parameters.parameter.Parameter',\n",
      "                                                   'full_name': 'K2440_mode',\n",
      "                                                   'instrument': 'qcodes.instrument_drivers.Keithley.Keithley_2400.Keithley2400',\n",
      "                                                   'instrument_name': 'K2440',\n",
      "                                                   'inter_delay': 0,\n",
      "                                                   'label': 'Mode',\n",
      "                                                   'name': 'mode',\n",
      "                                                   'post_delay': 0,\n",
      "                                                   'raw_value': 'VOLT',\n",
      "                                                   'ts': '2024-12-09 17:59:15',\n",
      "                                                   'unit': '',\n",
      "                                                   'vals': \"<Enum: {'CURR', \"\n",
      "                                                           \"'VOLT'}>\",\n",
      "                                                   'value': 'VOLT'},\n",
      "                                          'nplci': {'__class__': 'qcodes.parameters.parameter.Parameter',\n",
      "                                                    'full_name': 'K2440_nplci',\n",
      "                                                    'instrument': 'qcodes.instrument_drivers.Keithley.Keithley_2400.Keithley2400',\n",
      "                                                    'instrument_name': 'K2440',\n",
      "                                                    'inter_delay': 0,\n",
      "                                                    'label': 'Current '\n",
      "                                                             'integration time',\n",
      "                                                    'name': 'nplci',\n",
      "                                                    'post_delay': 0,\n",
      "                                                    'raw_value': '1.00',\n",
      "                                                    'ts': '2024-12-09 17:59:15',\n",
      "                                                    'unit': '',\n",
      "                                                    'value': 1.0},\n",
      "                                          'nplcv': {'__class__': 'qcodes.parameters.parameter.Parameter',\n",
      "                                                    'full_name': 'K2440_nplcv',\n",
      "                                                    'instrument': 'qcodes.instrument_drivers.Keithley.Keithley_2400.Keithley2400',\n",
      "                                                    'instrument_name': 'K2440',\n",
      "                                                    'inter_delay': 0,\n",
      "                                                    'label': 'Voltage '\n",
      "                                                             'integration time',\n",
      "                                                    'name': 'nplcv',\n",
      "                                                    'post_delay': 0,\n",
      "                                                    'raw_value': '1.00',\n",
      "                                                    'ts': '2024-12-09 17:59:15',\n",
      "                                                    'unit': '',\n",
      "                                                    'value': 1.0},\n",
      "                                          'output': {'__class__': 'qcodes.parameters.parameter.Parameter',\n",
      "                                                     'full_name': 'K2440_output',\n",
      "                                                     'instrument': 'qcodes.instrument_drivers.Keithley.Keithley_2400.Keithley2400',\n",
      "                                                     'instrument_name': 'K2440',\n",
      "                                                     'inter_delay': 0,\n",
      "                                                     'label': 'output',\n",
      "                                                     'name': 'output',\n",
      "                                                     'post_delay': 0,\n",
      "                                                     'raw_value': '0',\n",
      "                                                     'ts': '2024-12-09 '\n",
      "                                                           '17:59:15',\n",
      "                                                     'unit': '',\n",
      "                                                     'val_mapping': OrderedDict([('On',\n",
      "                                                                                  '1'),\n",
      "                                                                                 ('ON',\n",
      "                                                                                  '1'),\n",
      "                                                                                 ('on',\n",
      "                                                                                  '1'),\n",
      "                                                                                 ('1',\n",
      "                                                                                  '1'),\n",
      "                                                                                 (True,\n",
      "                                                                                  '1'),\n",
      "                                                                                 ('Off',\n",
      "                                                                                  '0'),\n",
      "                                                                                 ('OFF',\n",
      "                                                                                  '0'),\n",
      "                                                                                 ('off',\n",
      "                                                                                  '0'),\n",
      "                                                                                 ('0',\n",
      "                                                                                  '0'),\n",
      "                                                                                 (False,\n",
      "                                                                                  '0')]),\n",
      "                                                     'vals': '<Enum: {False, '\n",
      "                                                             \"True, 'on', \"\n",
      "                                                             \"'OFF', 'off', \"\n",
      "                                                             \"'ON', '1', \"\n",
      "                                                             \"'Off', '0', \"\n",
      "                                                             \"'On'}>\",\n",
      "                                                     'value': False},\n",
      "                                          'rangei': {'__class__': 'qcodes.parameters.parameter.Parameter',\n",
      "                                                     'full_name': 'K2440_rangei',\n",
      "                                                     'instrument': 'qcodes.instrument_drivers.Keithley.Keithley_2400.Keithley2400',\n",
      "                                                     'instrument_name': 'K2440',\n",
      "                                                     'inter_delay': 0,\n",
      "                                                     'label': 'Current range',\n",
      "                                                     'name': 'rangei',\n",
      "                                                     'post_delay': 0,\n",
      "                                                     'raw_value': '1.050000E-01',\n",
      "                                                     'ts': '2024-12-09 '\n",
      "                                                           '17:59:15',\n",
      "                                                     'unit': '',\n",
      "                                                     'value': 0.105},\n",
      "                                          'rangev': {'__class__': 'qcodes.parameters.parameter.Parameter',\n",
      "                                                     'full_name': 'K2440_rangev',\n",
      "                                                     'instrument': 'qcodes.instrument_drivers.Keithley.Keithley_2400.Keithley2400',\n",
      "                                                     'instrument_name': 'K2440',\n",
      "                                                     'inter_delay': 0,\n",
      "                                                     'label': 'Voltage range',\n",
      "                                                     'name': 'rangev',\n",
      "                                                     'post_delay': 0,\n",
      "                                                     'raw_value': '10.50',\n",
      "                                                     'ts': '2024-12-09 '\n",
      "                                                           '17:59:15',\n",
      "                                                     'unit': '',\n",
      "                                                     'value': 10.5},\n",
      "                                          'resistance': {'__class__': 'qcodes.parameters.parameter.Parameter',\n",
      "                                                         'full_name': 'K2440_resistance',\n",
      "                                                         'instrument': 'qcodes.instrument_drivers.Keithley.Keithley_2400.Keithley2400',\n",
      "                                                         'instrument_name': 'K2440',\n",
      "                                                         'inter_delay': 0,\n",
      "                                                         'label': 'Resistance',\n",
      "                                                         'name': 'resistance',\n",
      "                                                         'post_delay': 0,\n",
      "                                                         'raw_value': None,\n",
      "                                                         'ts': None,\n",
      "                                                         'unit': 'Ohm',\n",
      "                                                         'value': None},\n",
      "                                          'sense': {'__class__': 'qcodes.parameters.parameter.Parameter',\n",
      "                                                    'full_name': 'K2440_sense',\n",
      "                                                    'instrument': 'qcodes.instrument_drivers.Keithley.Keithley_2400.Keithley2400',\n",
      "                                                    'instrument_name': 'K2440',\n",
      "                                                    'inter_delay': 0,\n",
      "                                                    'label': 'Sense mode',\n",
      "                                                    'name': 'sense',\n",
      "                                                    'post_delay': 0,\n",
      "                                                    'raw_value': '\"CURR:DC\"',\n",
      "                                                    'ts': '2024-12-09 17:59:15',\n",
      "                                                    'unit': '',\n",
      "                                                    'vals': '<Strings>',\n",
      "                                                    'value': '\"CURR:DC\"'},\n",
      "                                          'timeout': {'__class__': 'qcodes.parameters.parameter.Parameter',\n",
      "                                                      'full_name': 'K2440_timeout',\n",
      "                                                      'instrument': 'qcodes.instrument_drivers.Keithley.Keithley_2400.Keithley2400',\n",
      "                                                      'instrument_name': 'K2440',\n",
      "                                                      'inter_delay': 0,\n",
      "                                                      'label': 'timeout',\n",
      "                                                      'name': 'timeout',\n",
      "                                                      'post_delay': 0,\n",
      "                                                      'raw_value': 10.0,\n",
      "                                                      'ts': '2024-12-09 '\n",
      "                                                            '17:59:15',\n",
      "                                                      'unit': 's',\n",
      "                                                      'vals': '<MultiType: '\n",
      "                                                              'Numbers v>=0, '\n",
      "                                                              'Enum: {None}>',\n",
      "                                                      'value': 10.0},\n",
      "                                          'volt': {'__class__': 'qcodes.parameters.parameter.Parameter',\n",
      "                                                   'full_name': 'K2440_volt',\n",
      "                                                   'instrument': 'qcodes.instrument_drivers.Keithley.Keithley_2400.Keithley2400',\n",
      "                                                   'instrument_name': 'K2440',\n",
      "                                                   'inter_delay': 0,\n",
      "                                                   'label': 'Voltage',\n",
      "                                                   'name': 'volt',\n",
      "                                                   'post_delay': 0,\n",
      "                                                   'raw_value': None,\n",
      "                                                   'ts': None,\n",
      "                                                   'unit': 'V',\n",
      "                                                   'value': None}},\n",
      "                           'read_terminator': '\\n',\n",
      "                           'submodules': {},\n",
      "                           'terminator': '\\n',\n",
      "                           'timeout': 10.0,\n",
      "                           'write_terminator': '\\n'}},\n",
      " 'parameters': {}}\n"
     ]
    }
   ],
   "source": [
    "snapshot_of_station = station.snapshot()\n",
    "pprint(snapshot_of_station)"
   ]
  },
  {
   "cell_type": "markdown",
   "id": "4757b159",
   "metadata": {},
   "source": [
    "## Keithley 2440"
   ]
  },
  {
   "cell_type": "markdown",
   "id": "797b994c",
   "metadata": {},
   "source": [
    "### sensitive check"
   ]
  },
  {
   "cell_type": "code",
   "execution_count": 8,
   "id": "f387f69b",
   "metadata": {},
   "outputs": [
    {
     "data": {
      "text/plain": [
       "'VOLT'"
      ]
     },
     "execution_count": 8,
     "metadata": {},
     "output_type": "execute_result"
    }
   ],
   "source": [
    "K2440.mode('VOLT')\n",
    "K2440.mode()"
   ]
  },
  {
   "cell_type": "code",
   "execution_count": 9,
   "id": "09a8a36e",
   "metadata": {},
   "outputs": [
    {
     "name": "stdout",
     "output_type": "stream",
     "text": [
      "0.000130651\n"
     ]
    }
   ],
   "source": [
    "K2440.output(1) # output on\n",
    "K2440.rangev(10)\n",
    "K2440.volt(0)\n",
    "K2440.compliancei(100e-3)\n",
    "sleep(1)\n",
    "v_read=DMM6500.amplitude()\n",
    "K2440.output(0) #output off\n",
    "print(v_read)"
   ]
  },
  {
   "cell_type": "markdown",
   "id": "105706bc",
   "metadata": {},
   "source": [
    "## TG 2400"
   ]
  },
  {
   "cell_type": "code",
   "execution_count": null,
   "id": "cdc19f1b",
   "metadata": {},
   "outputs": [],
   "source": [
    "K2440.output(1) # output on\n",
    "K2440.rangev(22)\n",
    "K2440.volt(0)\n",
    "K2440.compliancei(100e-3)\n",
    "# K2440.output(0) #output off\n",
    "sleep(1)\n",
    "v_read=DMM6500.amplitude()\n",
    "print(v_read)"
   ]
  },
  {
   "cell_type": "code",
   "execution_count": null,
   "id": "e971a620",
   "metadata": {},
   "outputs": [],
   "source": [
    "K2440.volt(1)\n",
    "K2440.output(0) #output off"
   ]
  },
  {
   "cell_type": "code",
   "execution_count": null,
   "id": "e284050c",
   "metadata": {},
   "outputs": [],
   "source": [
    "K2440.rangev(1)\n",
    "K2440.rangev()"
   ]
  },
  {
   "cell_type": "markdown",
   "id": "c676ccb5",
   "metadata": {},
   "source": [
    "#  Database initialisation"
   ]
  },
  {
   "cell_type": "code",
   "execution_count": null,
   "id": "5059671d",
   "metadata": {},
   "outputs": [],
   "source": [
    "def find_init_database_v3_py():\n",
    "    for root, dirs, files in os.walk(qcodes_local_dir):\n",
    "        if 'init_database_v3.py' in files:\n",
    "            return os.path.join(root, 'init_database_v3.py')\n",
    "    return None\n",
    "\n",
    "init_database_v3_py_path = find_init_database_v3_py()\n",
    "init_database_v3_py_path\n"
   ]
  },
  {
   "cell_type": "code",
   "execution_count": 10,
   "id": "e09e380a",
   "metadata": {},
   "outputs": [
    {
     "data": {
      "text/plain": [
       "'c:\\\\Users\\\\quant\\\\OneDrive\\\\Documents\\\\GitHub\\\\QCoDeS_local\\\\init_database_v2.py'"
      ]
     },
     "execution_count": 10,
     "metadata": {},
     "output_type": "execute_result"
    }
   ],
   "source": [
    "def find_init_database_v2_py():\n",
    "    for root, dirs, files in os.walk(qcodes_local_dir):\n",
    "        if 'init_database_v2.py' in files:\n",
    "            return os.path.join(root, 'init_database_v2.py')\n",
    "    return None\n",
    "\n",
    "init_database_v2_py_path = find_init_database_v2_py()\n",
    "init_database_v2_py_path"
   ]
  },
  {
   "cell_type": "code",
   "execution_count": 11,
   "id": "7b665bc4",
   "metadata": {},
   "outputs": [
    {
     "name": "stdout",
     "output_type": "stream",
     "text": [
      "Creating a new database file:\n",
      "c:\\Users\\quant\\OneDrive\\Documents\\GitHub\\QCoDeS_local\\personal_scripts\\Albert\\026-1\\026-1_2024-12-09_01.db\n"
     ]
    }
   ],
   "source": [
    "reuse = False\n",
    "%run \"{init_database_v2_py_path}\" {reuse}"
   ]
  },
  {
   "cell_type": "markdown",
   "id": "6a8a2beb",
   "metadata": {},
   "source": [
    "\n",
    "# Scaled parameters"
   ]
  },
  {
   "cell_type": "code",
   "execution_count": null,
   "id": "e3b44b31",
   "metadata": {},
   "outputs": [],
   "source": []
  },
  {
   "cell_type": "markdown",
   "id": "ea4ff57a",
   "metadata": {},
   "source": [
    "## Defining scaled parameters"
   ]
  },
  {
   "cell_type": "code",
   "execution_count": 12,
   "id": "c8ca5b97",
   "metadata": {},
   "outputs": [
    {
     "data": {
      "text/plain": [
       "'Gain_L2'"
      ]
     },
     "execution_count": 12,
     "metadata": {},
     "output_type": "execute_result"
    }
   ],
   "source": [
    "Irange = Parameter('Irange', label='current range', unit='', set_cmd=None, get_cmd=None)\n",
    "Vrange = Parameter('Vrange', label='voltage range', unit='', set_cmd=None, get_cmd=None)\n",
    "TGrange = Parameter('TGrange', label='Top gate range', unit='', set_cmd=None, get_cmd=None)\n",
    "\n",
    "#division paraemtrs required for simplier update: they used as an argument for scaled paraemtrs of sorce instruments\n",
    "\n",
    "\n",
    "Irange_division = Parameter('Irange_division', \n",
    "                            label='scaled current range', unit='', \n",
    "                            set_cmd=None, get_cmd=lambda : 1 / Irange())\n",
    "\n",
    "Vrange_division = Parameter('Vrange_division', \n",
    "                            label='scaled voltage range', unit='', \n",
    "                            set_cmd=None, get_cmd=lambda : 1 / Vrange())\n",
    "\n",
    "TGrange_division = Parameter('TGrange_division', \n",
    "                             label='scaled Top gate range', unit='', \n",
    "                             set_cmd=None, get_cmd=lambda : 1 / TGrange())\n",
    "\n",
    "Irange_AC_division = Parameter('Irange_AC_division', \n",
    "                               label='scaled current range for lockin', unit='', \n",
    "                               set_cmd=None, get_cmd=lambda : 1 / Irange())\n",
    "\n",
    "Vrange_AC_division = Parameter('Vrange_AC_division', \n",
    "                               label='scaled voltage range for lockin', unit='', \n",
    "                               set_cmd=None, get_cmd=lambda : 1 / Vrange())\n",
    "\n",
    "Gain_K1 = Parameter('Gain_K1', label='Gain K1', unit='', set_cmd=None, get_cmd=None)\n",
    "Gain_K2 = Parameter('Gain_K2', label='Gain K2', unit='', set_cmd=None, get_cmd=None)\n",
    "Gain_L1 = Parameter('Gain_L1', label='Gain L1', unit='', set_cmd=None, get_cmd=None)\n",
    "Gain_L2 = Parameter('Gain_L2', label='Gain L2', unit='', set_cmd=None, get_cmd=None)\n",
    "\n",
    "#Add components\n",
    "station.add_component(Irange)\n",
    "station.add_component(Vrange)\n",
    "station.add_component(TGrange)\n",
    "\n",
    "station.add_component(Irange_division)\n",
    "station.add_component(Vrange_division)\n",
    "station.add_component(TGrange_division)\n",
    "\n",
    "station.add_component(Irange_AC_division)\n",
    "station.add_component(Vrange_AC_division)\n",
    "                             \n",
    "station.add_component(Gain_K1)\n",
    "station.add_component(Gain_K2)\n",
    "station.add_component(Gain_L1)\n",
    "station.add_component(Gain_L2)"
   ]
  },
  {
   "cell_type": "markdown",
   "id": "6d7ecebe",
   "metadata": {},
   "source": [
    "## Parameters - update here during measuerements"
   ]
  },
  {
   "cell_type": "code",
   "execution_count": 13,
   "id": "b0b09fcc",
   "metadata": {},
   "outputs": [],
   "source": [
    "Irange.set(1e-6) #Unit Amp V=IR, 1V= 1e-6 x 1MOhm=1e-7 x 10MOhm\n",
    "Vrange.set(10) ## need to be sync with K213 range #Unit Volt\n",
    "TGrange.set(1) #Unit Volt\n",
    "Gain_K1.set(100)\n",
    "Gain_K2.set(100)\n",
    "# Gain_K3.set(1e2)\n",
    "Gain_L1.set(Gain_K1())\n",
    "Gain_L2.set(Gain_K2())\n",
    "#division parameters are updated automatically"
   ]
  },
  {
   "cell_type": "code",
   "execution_count": null,
   "id": "4b1231bb",
   "metadata": {},
   "outputs": [],
   "source": [
    "lockin_1.sine_outdc"
   ]
  },
  {
   "cell_type": "markdown",
   "id": "cbe7bfa7",
   "metadata": {},
   "source": [
    "## DC parameters"
   ]
  },
  {
   "cell_type": "code",
   "execution_count": 14,
   "id": "6a8c7deb",
   "metadata": {},
   "outputs": [
    {
     "data": {
      "text/plain": [
       "'meas_current_K1'"
      ]
     },
     "execution_count": 14,
     "metadata": {},
     "output_type": "execute_result"
    }
   ],
   "source": [
    "# appl_current = ScaledParameter(lockin_1.sine_outdc, division = Irange_division, name = 'appl_current', unit = 'A')\n",
    "appl_current = ScaledParameter(K2440.volt, division = Irange_division, name = 'appl_current', unit = 'A')\n",
    "\n",
    "#appl_TG = ScaledParameter(K2440.volt, division = TGrange_division, name = 'appl_TG', unit = 'V')\n",
    "\n",
    "meas_voltage_K1 = ScaledParameter(DMM6500.amplitude, division = Gain_K1, name = 'meas_voltage_K1', unit = 'V')\n",
    "# meas_voltage_K2 = ScaledParameter(DMM6500.amplitude, division = Gain_K2, name = 'meas_voltage_K2', unit = 'V')\n",
    "\n",
    "# meas_leakage = ScaledParameter(DMM6500.amplitude, division = Gain_K2, name = 'meas_leakage', unit = 'A')\n",
    "\n",
    "meas_current_K1 = ScaledParameter(DMM6500.amplitude, division = Gain_K1, name = 'meas_current_K1', unit = 'A')\n",
    "# meas_current_K2 = ScaledParameter(DMM6500.amplitude, division = Gain_K2, name = 'meas_current_K2', unit = 'A')\n",
    "\n",
    "station.add_component(appl_current)\n",
    "# station.add_component(appl_voltage)\n",
    "#station.add_component(appl_TG)\n",
    "\n",
    "station.add_component(meas_voltage_K1)\n",
    "# station.add_component(meas_voltage_K2)\n",
    "\n",
    "# station.add_component(meas_leakage)\n",
    "\n",
    "station.add_component(meas_current_K1)\n",
    "# station.add_component(meas_current_K2)"
   ]
  },
  {
   "cell_type": "code",
   "execution_count": 19,
   "id": "3851dc82",
   "metadata": {},
   "outputs": [],
   "source": [
    "K2440.output(0)\n",
    "appl_current(0)\n",
    "sleep(1)\n",
    "# meas_voltage_K2()"
   ]
  },
  {
   "cell_type": "markdown",
   "id": "a23afd58",
   "metadata": {},
   "source": [
    "##  AC parameters"
   ]
  },
  {
   "cell_type": "code",
   "execution_count": null,
   "id": "769f6a51",
   "metadata": {},
   "outputs": [],
   "source": [
    "appl_current_AC = ScaledParameter(lockin_1.amplitude, division = Irange_AC_division, name = 'appl_current_AC', unit = 'A')\n",
    "appl_voltage_AC = ScaledParameter(lockin_1.amplitude, division = Vrange_AC_division, name = 'appl_voltage_AC', unit = 'V')\n",
    "\n",
    "station.add_component(appl_current_AC)\n",
    "station.add_component(appl_voltage_AC)\n",
    "\n",
    "meas_voltage_AC_L1 = ScaledParameter(lockin_1.X, division = Gain_L1, name = 'meas_voltage_Lockin1', unit = 'V')\n",
    "meas_current_AC_L1 = ScaledParameter(lockin_1.X, division = Gain_L1, name = 'meas_current_Lockin1', unit = 'A')\n",
    "meas_phase_AC_L1 = ScaledParameter(lockin_1.P, division = 1, name = 'meas_phase_Lockin1', unit = 'degree')\n",
    "\n",
    "\n",
    "# meas_voltage_AC_L2 = ScaledParameter(lockin_2.X, division = Gain_L2, name = 'meas_voltage_Lockin2', unit = 'V')\n",
    "# meas_current_AC_L2 = ScaledParameter(lockin_2.X, division = Gain_L2, name = 'meas_current_Lockin2', unit = 'A')\n",
    "# meas_phase_AC_L2 = ScaledParameter(lockin_2.P, division = 1, name = 'meas_phase_Lockin1', unit = 'degree')\n",
    "\n",
    "station.add_component(meas_voltage_AC_L1)\n",
    "station.add_component(meas_current_AC_L1)\n",
    "station.add_component(meas_phase_AC_L1)\n",
    "\n",
    "# station.add_component(meas_voltage_AC_L2)\n",
    "# station.add_component(meas_current_AC_L2)\n",
    "\n",
    "meas_voltage_AC_L1_R = ScaledParameter(lockin_1.R, division = Gain_L1, name = 'meas_voltage_R_Lockin1', unit = 'V')\n",
    "# meas_voltage_AC_L2_R = ScaledParameter(lockin_2.R, division = Gain_L2, name = 'meas_voltage_R_Lockin2', unit = 'V')\n",
    "\n",
    "station.add_component(meas_voltage_AC_L1_R)\n",
    "# station.add_component(meas_voltage_AC_L2_R)"
   ]
  },
  {
   "cell_type": "code",
   "execution_count": null,
   "id": "bcd10ed7",
   "metadata": {},
   "outputs": [],
   "source": [
    "meas_voltage_AC_L1_P = ScaledParameter(lockin_1.P, division = 1, name = 'meas_voltage_Lockin1_P', unit = 'degree')\n",
    "meas_current_AC_L1_P = ScaledParameter(lockin_1.P, division = 1, name = 'meas_current_Lockin1_P', unit = 'degree')\n",
    "\n",
    "# meas_voltage_AC_L2_P = ScaledParameter(lockin_2.P, division = 1, name = 'meas_voltage_Lockin2_P', unit = 'degree')\n",
    "# meas_current_AC_L2_P = ScaledParameter(lockin_2.P, division = 1, name = 'meas_current_Lockin2_P', unit = 'degree')\n",
    "\n",
    "station.add_component(meas_voltage_AC_L1_P)\n",
    "station.add_component(meas_current_AC_L1_P)\n",
    "\n",
    "# station.add_component(meas_voltage_AC_L2_P)\n",
    "# station.add_component(meas_current_AC_L2_P)"
   ]
  },
  {
   "cell_type": "markdown",
   "id": "8d9d6239",
   "metadata": {},
   "source": [
    "## Another useful example: magnet using dac (Janis)"
   ]
  },
  {
   "cell_type": "markdown",
   "id": "92e1f309",
   "metadata": {},
   "source": [
    ">2231.2 G per A => 0.22312 T per A<br>\n",
    "I source 10mA per V => 1e-5 A per 1mV<br>\n",
    "result: 0.22312 T/A * 1e-5 A/mV"
   ]
  },
  {
   "cell_type": "code",
   "execution_count": 17,
   "id": "6b2b657a",
   "metadata": {},
   "outputs": [],
   "source": [
    "# def get_R_from_IV(dataid):\n",
    "#     dataset = qc.load_by_id(dataid)\n",
    "#     voltage = dataset.get_parameter_data()['meas_voltage_K2']['meas_voltage_K2']\n",
    "#     current = dataset.get_parameter_data()['meas_voltage_K2']['appl_current']\n",
    "#     fit_values = np.polyfit(current,voltage,1)\n",
    "    \n",
    "#     return fit_values[0]\n",
    "\n",
    "dataset = qc.load_by_id(1)\n",
    "\n",
    "def get_R_from_IV_2(dataid):\n",
    "    dataset = qc.load_by_id(dataid)\n",
    "    voltage = dataset.get_parameter_data()['meas_voltage_K2']['meas_voltage_K2']\n",
    "    current = dataset.get_parameter_data()['meas_voltage_K2']['appl_current']\n",
    "    fit_values = np.polyfit(current,voltage,1)\n",
    "\n",
    "    return fit_values[0]\n",
    "\n",
    "def get_R_from_IV(dataid):\n",
    "    dataset = qc.load_by_id(dataid)\n",
    "    para_list = dataset.parameters.split(\",\")\n",
    "    voltage = dataset.get_parameter_data()[para_list[1]][para_list[1]]\n",
    "    current = dataset.get_parameter_data()[para_list[1]][para_list[0]]\n",
    "    fit_values = np.polyfit(current,voltage,1)\n",
    "    return fit_values[0]\n",
    "\n",
    "\n",
    "def get_R_from_IV_K2(dataid):\n",
    "    dataset = qc.load_by_id(dataid)\n",
    "    voltage = dataset.get_parameter_data()['meas_voltage_K2']['meas_voltage_K2']\n",
    "    current = dataset.get_parameter_data()['meas_voltage_K2']['appl_current']\n",
    "    fit_values = np.polyfit(current,voltage,1)\n",
    "    return fit_values[0]\n",
    "\n",
    "def autosave_plot_by_id(run_id, save_path):\n",
    "    fig, ax = plt.subplots()\n",
    "    plot_by_id(run_id, axes=ax)\n",
    "    plt.savefig(save_path)\n",
    "    plt.close()\n",
    "\n",
    "def get_detaset_info(dataset=dataset):\n",
    "    run_id = dataset.captured_run_id\n",
    "    exp_name = dataset.exp_name\n",
    "    sample_name = dataset.sample_name\n",
    "    name = dataset.name\n",
    "    description = dataset.description\n",
    "    sample_junction = extract_sample_junction(sample_name)\n",
    "    return run_id, exp_name, sample_name, sample_junction, name, description\n",
    "\n",
    "def extract_sample_junction(sample_name):\n",
    "    \"\"\"Extracts the complete sample junction from the provided sample name.\n",
    "\n",
    "    Args:\n",
    "      sample_name: The name of the sample containing the junction information.\n",
    "\n",
    "    Returns:\n",
    "      The extracted sample junction, or None if not found.\n",
    "    \"\"\"\n",
    "\n",
    "    delimiter = \"_J\"\n",
    "    if delimiter in sample_name:\n",
    "        # +3 to include \"_J\"\n",
    "        return sample_name[:sample_name.find(delimiter) + 3]\n",
    "    else:\n",
    "        return None\n",
    "\n",
    "def IV(run_id=1):\n",
    "    dataset = qc.load_by_id(run_id)\n",
    "    R = get_R_from_IV(run_id)\n",
    "    run_id, exp_name, sample_name, sample_junction, name, description = get_detaset_info(\n",
    "        dataset)\n",
    "    df = dataset.to_pandas_dataframe().reset_index()\n",
    "    para_list = dataset.parameters.split(\",\")\n",
    "\n",
    "    # Create a Plotly trace\n",
    "    trace = go.Scatter(x=df[para_list[0]], y=df[para_list[1]]*1e3, mode='lines', name='Voltage vs. Current')\n",
    "\n",
    "    # Create layout with micro-scale y-axis\n",
    "    layout = go.Layout(title=f'<b>#{run_id} {exp_name}</b> {sample_name}, R_fit={R:.4f} Ω', title_font=dict(size=28),\n",
    "                       xaxis=dict(title=para_list[0], tickfont=dict(size=16),title_font=dict(size=20)),\n",
    "                       yaxis=dict(title=f\"{para_list[1]} mV\", tickfont=dict(size=16),title_font=dict(size=20)), \n",
    "                       width=1080, height=960,\n",
    "                       margin=dict(l=10, r=10, t=50, b=10))\n",
    "\n",
    "    # Create the figure\n",
    "    fig = go.Figure(data=[trace], layout=layout)\n",
    "    \n",
    "    fig.show()\n",
    "\n",
    "def IV_diff(run_id=1):\n",
    "    import numpy as np\n",
    "    import plotly.graph_objs as go\n",
    "    from scipy.signal import find_peaks\n",
    "    dataset = qc.load_by_id(run_id)\n",
    "\n",
    "    df = dataset.to_pandas_dataframe().reset_index()\n",
    "    para_list = dataset.parameters.split(\",\")\n",
    "\n",
    "    current = df[para_list[0]].tolist()\n",
    "    voltage = df[para_list[1]].tolist()\n",
    "\n",
    "    # Compute differential of voltage with respect to current\n",
    "    differential_voltage = np.diff(voltage) / np.diff(current)\n",
    "\n",
    "    # Since the differential will have one less data point, adjust the current data\n",
    "    # to have the same length as the differential data\n",
    "    current = current[:-1]\n",
    "\n",
    "    # Find peaks in the differential signal\n",
    "    peaks, _ = find_peaks(differential_voltage)\n",
    "\n",
    "    # Extract peak current and peak differential voltage values\n",
    "    peak_current = [current[i] for i in peaks]\n",
    "    peak_voltage_diff = [differential_voltage[i] for i in peaks]\n",
    "\n",
    "    # Sort the peaks based on their values\n",
    "    sorted_peak_indices = np.argsort(peak_voltage_diff)[::-1]  # Sort in descending order\n",
    "    top_two_peak_indices = sorted_peak_indices[:2]  # Select the top two indices\n",
    "\n",
    "    # Extract the top two peaks\n",
    "    top_two_peak_current = [peak_current[i] for i in top_two_peak_indices]\n",
    "    top_two_peak_voltage_diff = [peak_voltage_diff[i] for i in top_two_peak_indices]\n",
    "\n",
    "    # Calculate the center points of the top two peaks\n",
    "    center_points = [(top_two_peak_current[i] + top_two_peak_current[i+1]) / 2 for i in range(len(top_two_peak_current) - 1)]\n",
    "\n",
    "    # Calculate the difference between the top two biggest peaks\n",
    "    peak_difference = abs(top_two_peak_current[0] - top_two_peak_current[1])\n",
    "\n",
    "    # Determine the appropriate unit for current\n",
    "    if peak_difference >= 1e-3:\n",
    "        unit = \"mA\"\n",
    "        conversion_factor = 1e3\n",
    "    elif peak_difference >= 1e-6:\n",
    "        unit = \"μA\"\n",
    "        conversion_factor = 1e6\n",
    "    else:\n",
    "        unit = \"nA\"\n",
    "        conversion_factor = 1e9\n",
    "\n",
    "    # Determine the appropriate unit for current\n",
    "    if peak_difference >= 1e-3:\n",
    "        unit = \"mA\"\n",
    "    elif peak_difference >= 1e-6:\n",
    "        unit = \"μA\"\n",
    "    elif peak_difference >= 1e-9:\n",
    "        unit = \"nA\"\n",
    "    else:\n",
    "        unit = \"pA\"\n",
    "\n",
    "    # Create a Plotly trace for the differential\n",
    "    trace_diff = go.Scatter(x=[c * conversion_factor for c in current], y=differential_voltage, mode='lines', name='d(Voltage)/d(Current)')\n",
    "    # Add markers for the top two peaks\n",
    "    trace_top_two_peaks = go.Scatter(x=[p * conversion_factor for p in top_two_peak_current], y=top_two_peak_voltage_diff, mode='markers', marker=dict(color='red'), name='Top Two Peaks')\n",
    "    # Add markers for the center points\n",
    "    trace_center_points = go.Scatter(x=center_points, y=[0]*len(center_points), mode='markers', marker=dict(color='blue', symbol='cross'), name='Center Points')\n",
    "\n",
    "    # Create layout\n",
    "    layout = go.Layout(title=f'Run #{id} I vs. dV/dI',\n",
    "                    xaxis=dict(title=f'Current ({unit})'),\n",
    "                    yaxis=dict(title='d(Voltage)/d(Current)'),\n",
    "                    legend=dict(orientation=\"h\", yanchor=\"top\", y=1.10, xanchor=\"center\", x=0.5),\n",
    "                    width=600, height=600  \n",
    "                    )\n",
    "\n",
    "    # Create the figure\n",
    "    fig = go.Figure(data=[trace_diff, trace_top_two_peaks, trace_center_points], layout=layout)\n",
    "\n",
    "    # Add annotation for the current value of center points\n",
    "    for i, center_point in enumerate(center_points):\n",
    "        fig.add_annotation(\n",
    "            x=center_point * conversion_factor,\n",
    "            y=0, #0.4 * max(differential_voltage),\n",
    "            text=f'Center Point: {center_point * conversion_factor:.3f}{unit} <br> Peak difference: {peak_difference*conversion_factor:.3f} {unit}',\n",
    "            showarrow=True,\n",
    "            arrowhead=2,\n",
    "            arrowsize=1,\n",
    "            arrowwidth=2,\n",
    "            arrowcolor='black',\n",
    "            ax=-100,\n",
    "            ay=-200 - 30 * i\n",
    "        )\n",
    "\n",
    "    # Plot the figure\n",
    "    fig.show()\n",
    "\n",
    "def get_Mag(show=True):\n",
    "    Mag_x = magnet_x.field()\n",
    "    Mag_y = magnet_y.field()\n",
    "    Mag_z = magnet_z.field()\n",
    "    if show:\n",
    "        print(f\"Mag_x: {Mag_x*1e3:.6f} mT\")\n",
    "        print(f\"Mag_y: {Mag_y*1e3:.6f} mT\")\n",
    "        print(f\"Mag_z: {Mag_z*1e3:.6f} mT\")\n",
    "    else: \n",
    "        return Mag_x, Mag_y, Mag_z"
   ]
  },
  {
   "cell_type": "code",
   "execution_count": null,
   "id": "934a7b70",
   "metadata": {},
   "outputs": [],
   "source": [
    "appl_current(0.5e-6)\n",
    "appl_current_AC(10e-9)"
   ]
  },
  {
   "cell_type": "code",
   "execution_count": null,
   "id": "e0040749",
   "metadata": {},
   "outputs": [],
   "source": [
    "df = dataset.to_pandas_dataframe().reset_index()\n",
    "df"
   ]
  },
  {
   "cell_type": "markdown",
   "id": "885e5c90",
   "metadata": {},
   "source": [
    "# Simple IVs"
   ]
  },
  {
   "cell_type": "markdown",
   "id": "cdb6884c",
   "metadata": {},
   "source": [
    "## IV"
   ]
  },
  {
   "cell_type": "code",
   "execution_count": 18,
   "id": "f6c71fe1",
   "metadata": {},
   "outputs": [],
   "source": [
    "K2440.output(1)\n",
    "DMM6500.averaging_count(5)\n",
    "DMM6500.averaging_enabled(True)\n",
    "DMM6500.averaging_enabled(False)\n",
    "K2440.output(0)"
   ]
  },
  {
   "cell_type": "code",
   "execution_count": 19,
   "id": "88a5c92b",
   "metadata": {},
   "outputs": [],
   "source": [
    "# Set current to 0\n",
    "K2440.output(0)\n",
    "appl_current(0e-6)"
   ]
  },
  {
   "cell_type": "code",
   "execution_count": null,
   "id": "af7949e7",
   "metadata": {},
   "outputs": [],
   "source": [
    "IV(3)"
   ]
  },
  {
   "cell_type": "code",
   "execution_count": 20,
   "id": "94d8b3fa",
   "metadata": {},
   "outputs": [
    {
     "name": "stderr",
     "output_type": "stream",
     "text": [
      "There is (are) already experiment(s) with the name of I-V and sample name of 026-1_04-05-12-23G in the database.\n"
     ]
    },
    {
     "name": "stdout",
     "output_type": "stream",
     "text": [
      "Starting experimental run with id: 4. \n"
     ]
    },
    {
     "name": "stderr",
     "output_type": "stream",
     "text": [
      "100%|██████████| 101/101 [00:05<00:00, 18.55it/s]"
     ]
    },
    {
     "name": "stdout",
     "output_type": "stream",
     "text": [
      "R = 54597.82970413513\n"
     ]
    },
    {
     "name": "stderr",
     "output_type": "stream",
     "text": [
      "\n"
     ]
    },
    {
     "data": {
      "application/vnd.plotly.v1+json": {
       "config": {
        "plotlyServerURL": "https://plot.ly"
       },
       "data": [
        {
         "mode": "lines",
         "name": "Voltage vs. Current",
         "type": "scatter",
         "x": [
          -0.000001,
          -9.8e-7,
          -9.6e-7,
          -9.4e-7,
          -9.2e-7,
          -9e-7,
          -8.8e-7,
          -8.6e-7,
          -8.4e-7,
          -8.2e-7,
          -8e-7,
          -7.8e-7,
          -7.6e-7,
          -7.4e-7,
          -7.2e-7,
          -7e-7,
          -6.8e-7,
          -6.6e-7,
          -6.4e-7,
          -6.2e-7,
          -6e-7,
          -5.8e-7,
          -5.6e-7,
          -5.4e-7,
          -5.2e-7,
          -5e-7,
          -4.8e-7,
          -4.6e-7,
          -4.4e-7,
          -4.2e-7,
          -4e-7,
          -3.8e-7,
          -3.6e-7,
          -3.4e-7,
          -3.2e-7,
          -3e-7,
          -2.8e-7,
          -2.6e-7,
          -2.4e-7,
          -2.2e-7,
          -2e-7,
          -1.8e-7,
          -1.6e-7,
          -1.4e-7,
          -1.2e-7,
          -9.99999999999999e-8,
          -8e-8,
          -6e-8,
          -3.99999999999998e-8,
          -2e-8,
          0,
          2e-8,
          4e-8,
          6.00000000000001e-8,
          8.00000000000001e-8,
          1e-7,
          1.2e-7,
          1.4e-7,
          1.6e-7,
          1.8e-7,
          2e-7,
          2.2e-7,
          2.4e-7,
          2.6e-7,
          2.8e-7,
          3e-7,
          3.2e-7,
          3.4e-7,
          3.6e-7,
          3.8e-7,
          4e-7,
          4.2e-7,
          4.4e-7,
          4.6e-7,
          4.8e-7,
          5e-7,
          5.2e-7,
          5.4e-7,
          5.6e-7,
          5.8e-7,
          6e-7,
          6.2e-7,
          6.4e-7,
          6.6e-7,
          6.8e-7,
          7e-7,
          7.2e-7,
          7.4e-7,
          7.6e-7,
          7.8e-7,
          8e-7,
          8.2e-7,
          8.4e-7,
          8.6e-7,
          8.8e-7,
          9e-7,
          9.20000000000001e-7,
          9.4e-7,
          9.6e-7,
          9.8e-7,
          0.000001
         ],
         "y": [
          -54.33865,
          -53.26083,
          -52.15583,
          -51.05163,
          -49.9686,
          -48.873149999999995,
          -47.78313,
          -46.70553,
          -45.657410000000006,
          -44.5814,
          -43.47239,
          -42.39503,
          -41.30803,
          -40.24684,
          -39.16003,
          -38.0829,
          -36.96483,
          -35.89522,
          -34.8345,
          -33.73121,
          -32.64863,
          -31.57882,
          -30.49794,
          -29.39873,
          -28.3476,
          -27.252860000000002,
          -26.15651,
          -25.06095,
          -23.996,
          -22.87573,
          -21.822129999999998,
          -20.72423,
          -19.61402,
          -18.55517,
          -17.46942,
          -16.38549,
          -15.33074,
          -14.23315,
          -13.15811,
          -12.03603,
          -10.95003,
          -9.859885,
          -8.777918,
          -7.68644,
          -6.5994,
          -5.484329,
          -4.418354,
          -3.319842,
          -2.259961,
          -1.1299000000000001,
          -0.060971090000000006,
          1.0712810000000001,
          2.164231,
          3.217027,
          4.363061,
          5.4212110000000004,
          6.509043,
          7.599133999999999,
          8.702816,
          9.779763,
          10.86351,
          11.97062,
          13.08045,
          14.17693,
          15.2778,
          16.35898,
          17.48953,
          18.5883,
          19.66677,
          20.82885,
          21.903470000000002,
          23.00971,
          24.100759999999998,
          25.21109,
          26.291559999999997,
          27.351750000000003,
          28.454150000000002,
          29.558600000000002,
          30.637649999999997,
          31.69255,
          32.80647,
          33.93184,
          35.03277,
          36.14891,
          37.278909999999996,
          38.339,
          39.43599,
          40.56748,
          41.64992,
          42.7575,
          43.83736,
          44.95727,
          46.05542,
          47.19233,
          48.28338,
          49.39069,
          50.50457,
          51.56866,
          52.69509,
          53.84493,
          54.91292
         ]
        }
       ],
       "layout": {
        "height": 960,
        "margin": {
         "b": 10,
         "l": 10,
         "r": 10,
         "t": 50
        },
        "template": {
         "data": {
          "bar": [
           {
            "error_x": {
             "color": "#2a3f5f"
            },
            "error_y": {
             "color": "#2a3f5f"
            },
            "marker": {
             "line": {
              "color": "#E5ECF6",
              "width": 0.5
             },
             "pattern": {
              "fillmode": "overlay",
              "size": 10,
              "solidity": 0.2
             }
            },
            "type": "bar"
           }
          ],
          "barpolar": [
           {
            "marker": {
             "line": {
              "color": "#E5ECF6",
              "width": 0.5
             },
             "pattern": {
              "fillmode": "overlay",
              "size": 10,
              "solidity": 0.2
             }
            },
            "type": "barpolar"
           }
          ],
          "carpet": [
           {
            "aaxis": {
             "endlinecolor": "#2a3f5f",
             "gridcolor": "white",
             "linecolor": "white",
             "minorgridcolor": "white",
             "startlinecolor": "#2a3f5f"
            },
            "baxis": {
             "endlinecolor": "#2a3f5f",
             "gridcolor": "white",
             "linecolor": "white",
             "minorgridcolor": "white",
             "startlinecolor": "#2a3f5f"
            },
            "type": "carpet"
           }
          ],
          "choropleth": [
           {
            "colorbar": {
             "outlinewidth": 0,
             "ticks": ""
            },
            "type": "choropleth"
           }
          ],
          "contour": [
           {
            "colorbar": {
             "outlinewidth": 0,
             "ticks": ""
            },
            "colorscale": [
             [
              0,
              "#0d0887"
             ],
             [
              0.1111111111111111,
              "#46039f"
             ],
             [
              0.2222222222222222,
              "#7201a8"
             ],
             [
              0.3333333333333333,
              "#9c179e"
             ],
             [
              0.4444444444444444,
              "#bd3786"
             ],
             [
              0.5555555555555556,
              "#d8576b"
             ],
             [
              0.6666666666666666,
              "#ed7953"
             ],
             [
              0.7777777777777778,
              "#fb9f3a"
             ],
             [
              0.8888888888888888,
              "#fdca26"
             ],
             [
              1,
              "#f0f921"
             ]
            ],
            "type": "contour"
           }
          ],
          "contourcarpet": [
           {
            "colorbar": {
             "outlinewidth": 0,
             "ticks": ""
            },
            "type": "contourcarpet"
           }
          ],
          "heatmap": [
           {
            "colorbar": {
             "outlinewidth": 0,
             "ticks": ""
            },
            "colorscale": [
             [
              0,
              "#0d0887"
             ],
             [
              0.1111111111111111,
              "#46039f"
             ],
             [
              0.2222222222222222,
              "#7201a8"
             ],
             [
              0.3333333333333333,
              "#9c179e"
             ],
             [
              0.4444444444444444,
              "#bd3786"
             ],
             [
              0.5555555555555556,
              "#d8576b"
             ],
             [
              0.6666666666666666,
              "#ed7953"
             ],
             [
              0.7777777777777778,
              "#fb9f3a"
             ],
             [
              0.8888888888888888,
              "#fdca26"
             ],
             [
              1,
              "#f0f921"
             ]
            ],
            "type": "heatmap"
           }
          ],
          "heatmapgl": [
           {
            "colorbar": {
             "outlinewidth": 0,
             "ticks": ""
            },
            "colorscale": [
             [
              0,
              "#0d0887"
             ],
             [
              0.1111111111111111,
              "#46039f"
             ],
             [
              0.2222222222222222,
              "#7201a8"
             ],
             [
              0.3333333333333333,
              "#9c179e"
             ],
             [
              0.4444444444444444,
              "#bd3786"
             ],
             [
              0.5555555555555556,
              "#d8576b"
             ],
             [
              0.6666666666666666,
              "#ed7953"
             ],
             [
              0.7777777777777778,
              "#fb9f3a"
             ],
             [
              0.8888888888888888,
              "#fdca26"
             ],
             [
              1,
              "#f0f921"
             ]
            ],
            "type": "heatmapgl"
           }
          ],
          "histogram": [
           {
            "marker": {
             "pattern": {
              "fillmode": "overlay",
              "size": 10,
              "solidity": 0.2
             }
            },
            "type": "histogram"
           }
          ],
          "histogram2d": [
           {
            "colorbar": {
             "outlinewidth": 0,
             "ticks": ""
            },
            "colorscale": [
             [
              0,
              "#0d0887"
             ],
             [
              0.1111111111111111,
              "#46039f"
             ],
             [
              0.2222222222222222,
              "#7201a8"
             ],
             [
              0.3333333333333333,
              "#9c179e"
             ],
             [
              0.4444444444444444,
              "#bd3786"
             ],
             [
              0.5555555555555556,
              "#d8576b"
             ],
             [
              0.6666666666666666,
              "#ed7953"
             ],
             [
              0.7777777777777778,
              "#fb9f3a"
             ],
             [
              0.8888888888888888,
              "#fdca26"
             ],
             [
              1,
              "#f0f921"
             ]
            ],
            "type": "histogram2d"
           }
          ],
          "histogram2dcontour": [
           {
            "colorbar": {
             "outlinewidth": 0,
             "ticks": ""
            },
            "colorscale": [
             [
              0,
              "#0d0887"
             ],
             [
              0.1111111111111111,
              "#46039f"
             ],
             [
              0.2222222222222222,
              "#7201a8"
             ],
             [
              0.3333333333333333,
              "#9c179e"
             ],
             [
              0.4444444444444444,
              "#bd3786"
             ],
             [
              0.5555555555555556,
              "#d8576b"
             ],
             [
              0.6666666666666666,
              "#ed7953"
             ],
             [
              0.7777777777777778,
              "#fb9f3a"
             ],
             [
              0.8888888888888888,
              "#fdca26"
             ],
             [
              1,
              "#f0f921"
             ]
            ],
            "type": "histogram2dcontour"
           }
          ],
          "mesh3d": [
           {
            "colorbar": {
             "outlinewidth": 0,
             "ticks": ""
            },
            "type": "mesh3d"
           }
          ],
          "parcoords": [
           {
            "line": {
             "colorbar": {
              "outlinewidth": 0,
              "ticks": ""
             }
            },
            "type": "parcoords"
           }
          ],
          "pie": [
           {
            "automargin": true,
            "type": "pie"
           }
          ],
          "scatter": [
           {
            "fillpattern": {
             "fillmode": "overlay",
             "size": 10,
             "solidity": 0.2
            },
            "type": "scatter"
           }
          ],
          "scatter3d": [
           {
            "line": {
             "colorbar": {
              "outlinewidth": 0,
              "ticks": ""
             }
            },
            "marker": {
             "colorbar": {
              "outlinewidth": 0,
              "ticks": ""
             }
            },
            "type": "scatter3d"
           }
          ],
          "scattercarpet": [
           {
            "marker": {
             "colorbar": {
              "outlinewidth": 0,
              "ticks": ""
             }
            },
            "type": "scattercarpet"
           }
          ],
          "scattergeo": [
           {
            "marker": {
             "colorbar": {
              "outlinewidth": 0,
              "ticks": ""
             }
            },
            "type": "scattergeo"
           }
          ],
          "scattergl": [
           {
            "marker": {
             "colorbar": {
              "outlinewidth": 0,
              "ticks": ""
             }
            },
            "type": "scattergl"
           }
          ],
          "scattermapbox": [
           {
            "marker": {
             "colorbar": {
              "outlinewidth": 0,
              "ticks": ""
             }
            },
            "type": "scattermapbox"
           }
          ],
          "scatterpolar": [
           {
            "marker": {
             "colorbar": {
              "outlinewidth": 0,
              "ticks": ""
             }
            },
            "type": "scatterpolar"
           }
          ],
          "scatterpolargl": [
           {
            "marker": {
             "colorbar": {
              "outlinewidth": 0,
              "ticks": ""
             }
            },
            "type": "scatterpolargl"
           }
          ],
          "scatterternary": [
           {
            "marker": {
             "colorbar": {
              "outlinewidth": 0,
              "ticks": ""
             }
            },
            "type": "scatterternary"
           }
          ],
          "surface": [
           {
            "colorbar": {
             "outlinewidth": 0,
             "ticks": ""
            },
            "colorscale": [
             [
              0,
              "#0d0887"
             ],
             [
              0.1111111111111111,
              "#46039f"
             ],
             [
              0.2222222222222222,
              "#7201a8"
             ],
             [
              0.3333333333333333,
              "#9c179e"
             ],
             [
              0.4444444444444444,
              "#bd3786"
             ],
             [
              0.5555555555555556,
              "#d8576b"
             ],
             [
              0.6666666666666666,
              "#ed7953"
             ],
             [
              0.7777777777777778,
              "#fb9f3a"
             ],
             [
              0.8888888888888888,
              "#fdca26"
             ],
             [
              1,
              "#f0f921"
             ]
            ],
            "type": "surface"
           }
          ],
          "table": [
           {
            "cells": {
             "fill": {
              "color": "#EBF0F8"
             },
             "line": {
              "color": "white"
             }
            },
            "header": {
             "fill": {
              "color": "#C8D4E3"
             },
             "line": {
              "color": "white"
             }
            },
            "type": "table"
           }
          ]
         },
         "layout": {
          "annotationdefaults": {
           "arrowcolor": "#2a3f5f",
           "arrowhead": 0,
           "arrowwidth": 1
          },
          "autotypenumbers": "strict",
          "coloraxis": {
           "colorbar": {
            "outlinewidth": 0,
            "ticks": ""
           }
          },
          "colorscale": {
           "diverging": [
            [
             0,
             "#8e0152"
            ],
            [
             0.1,
             "#c51b7d"
            ],
            [
             0.2,
             "#de77ae"
            ],
            [
             0.3,
             "#f1b6da"
            ],
            [
             0.4,
             "#fde0ef"
            ],
            [
             0.5,
             "#f7f7f7"
            ],
            [
             0.6,
             "#e6f5d0"
            ],
            [
             0.7,
             "#b8e186"
            ],
            [
             0.8,
             "#7fbc41"
            ],
            [
             0.9,
             "#4d9221"
            ],
            [
             1,
             "#276419"
            ]
           ],
           "sequential": [
            [
             0,
             "#0d0887"
            ],
            [
             0.1111111111111111,
             "#46039f"
            ],
            [
             0.2222222222222222,
             "#7201a8"
            ],
            [
             0.3333333333333333,
             "#9c179e"
            ],
            [
             0.4444444444444444,
             "#bd3786"
            ],
            [
             0.5555555555555556,
             "#d8576b"
            ],
            [
             0.6666666666666666,
             "#ed7953"
            ],
            [
             0.7777777777777778,
             "#fb9f3a"
            ],
            [
             0.8888888888888888,
             "#fdca26"
            ],
            [
             1,
             "#f0f921"
            ]
           ],
           "sequentialminus": [
            [
             0,
             "#0d0887"
            ],
            [
             0.1111111111111111,
             "#46039f"
            ],
            [
             0.2222222222222222,
             "#7201a8"
            ],
            [
             0.3333333333333333,
             "#9c179e"
            ],
            [
             0.4444444444444444,
             "#bd3786"
            ],
            [
             0.5555555555555556,
             "#d8576b"
            ],
            [
             0.6666666666666666,
             "#ed7953"
            ],
            [
             0.7777777777777778,
             "#fb9f3a"
            ],
            [
             0.8888888888888888,
             "#fdca26"
            ],
            [
             1,
             "#f0f921"
            ]
           ]
          },
          "colorway": [
           "#636efa",
           "#EF553B",
           "#00cc96",
           "#ab63fa",
           "#FFA15A",
           "#19d3f3",
           "#FF6692",
           "#B6E880",
           "#FF97FF",
           "#FECB52"
          ],
          "font": {
           "color": "#2a3f5f"
          },
          "geo": {
           "bgcolor": "white",
           "lakecolor": "white",
           "landcolor": "#E5ECF6",
           "showlakes": true,
           "showland": true,
           "subunitcolor": "white"
          },
          "hoverlabel": {
           "align": "left"
          },
          "hovermode": "closest",
          "mapbox": {
           "style": "light"
          },
          "paper_bgcolor": "white",
          "plot_bgcolor": "#E5ECF6",
          "polar": {
           "angularaxis": {
            "gridcolor": "white",
            "linecolor": "white",
            "ticks": ""
           },
           "bgcolor": "#E5ECF6",
           "radialaxis": {
            "gridcolor": "white",
            "linecolor": "white",
            "ticks": ""
           }
          },
          "scene": {
           "xaxis": {
            "backgroundcolor": "#E5ECF6",
            "gridcolor": "white",
            "gridwidth": 2,
            "linecolor": "white",
            "showbackground": true,
            "ticks": "",
            "zerolinecolor": "white"
           },
           "yaxis": {
            "backgroundcolor": "#E5ECF6",
            "gridcolor": "white",
            "gridwidth": 2,
            "linecolor": "white",
            "showbackground": true,
            "ticks": "",
            "zerolinecolor": "white"
           },
           "zaxis": {
            "backgroundcolor": "#E5ECF6",
            "gridcolor": "white",
            "gridwidth": 2,
            "linecolor": "white",
            "showbackground": true,
            "ticks": "",
            "zerolinecolor": "white"
           }
          },
          "shapedefaults": {
           "line": {
            "color": "#2a3f5f"
           }
          },
          "ternary": {
           "aaxis": {
            "gridcolor": "white",
            "linecolor": "white",
            "ticks": ""
           },
           "baxis": {
            "gridcolor": "white",
            "linecolor": "white",
            "ticks": ""
           },
           "bgcolor": "#E5ECF6",
           "caxis": {
            "gridcolor": "white",
            "linecolor": "white",
            "ticks": ""
           }
          },
          "title": {
           "x": 0.05
          },
          "xaxis": {
           "automargin": true,
           "gridcolor": "white",
           "linecolor": "white",
           "ticks": "",
           "title": {
            "standoff": 15
           },
           "zerolinecolor": "white",
           "zerolinewidth": 2
          },
          "yaxis": {
           "automargin": true,
           "gridcolor": "white",
           "linecolor": "white",
           "ticks": "",
           "title": {
            "standoff": 15
           },
           "zerolinecolor": "white",
           "zerolinewidth": 2
          }
         }
        },
        "title": {
         "font": {
          "size": 28
         },
         "text": "<b>#4 I-V</b> 026-1_04-05-12-23G, R_fit=54597.8297 Ω"
        },
        "width": 1080,
        "xaxis": {
         "tickfont": {
          "size": 16
         },
         "title": {
          "font": {
           "size": 20
          },
          "text": "appl_current"
         }
        },
        "yaxis": {
         "tickfont": {
          "size": 16
         },
         "title": {
          "font": {
           "size": 20
          },
          "text": "meas_voltage_K1 mV"
         }
        }
       }
      }
     },
     "metadata": {},
     "output_type": "display_data"
    },
    {
     "data": {
      "application/vnd.plotly.v1+json": {
       "config": {
        "plotlyServerURL": "https://plot.ly"
       },
       "data": [
        {
         "mode": "lines",
         "name": "d(Voltage)/d(Current)",
         "type": "scatter",
         "x": [
          -1000,
          -979.9999999999999,
          -959.9999999999999,
          -940,
          -920,
          -900,
          -880,
          -860,
          -840,
          -820,
          -800,
          -780,
          -760,
          -740,
          -720,
          -700,
          -680,
          -660,
          -640,
          -620,
          -600,
          -580,
          -560,
          -540,
          -520,
          -500,
          -479.99999999999994,
          -460,
          -440,
          -420,
          -400,
          -380,
          -360,
          -340,
          -320,
          -300,
          -280,
          -260,
          -239.99999999999997,
          -220,
          -200,
          -180,
          -160,
          -140,
          -119.99999999999999,
          -99.9999999999999,
          -80,
          -59.99999999999999,
          -39.9999999999998,
          -20,
          0,
          20,
          40,
          60.0000000000001,
          80.0000000000001,
          100,
          119.99999999999999,
          140,
          160,
          180,
          200,
          220,
          239.99999999999997,
          260,
          280,
          300,
          320,
          340,
          360,
          380,
          400,
          420,
          440,
          460,
          479.99999999999994,
          500,
          520,
          540,
          560,
          580,
          600,
          620,
          640,
          660,
          680,
          700,
          720,
          740,
          760,
          780,
          800,
          820,
          840,
          860,
          880,
          900,
          920.000000000001,
          940,
          959.9999999999999,
          979.9999999999999
         ],
         "y": [
          53890.999999999956,
          55250.00000000004,
          55210.00000000022,
          54151.49999999988,
          54772.50000000018,
          54501.00000000009,
          53879.99999999985,
          52405.99999999993,
          53800.50000000006,
          55450.49999999997,
          53868.000000000204,
          54349.99999999983,
          53059.500000000124,
          54340.49999999997,
          53856.49999999972,
          55903.50000000023,
          53480.50000000016,
          53036,
          55164.499999999935,
          54128.99999999993,
          53490.49999999982,
          54044.0000000002,
          54960.499999999935,
          52556.499999999985,
          54736.999999999956,
          54817.49999999991,
          54778.00000000021,
          53247.500000000015,
          56013.49999999992,
          52680.00000000004,
          54895.00000000004,
          55510.49999999996,
          52942.49999999995,
          54287.50000000009,
          54196.49999999996,
          52737.50000000001,
          54879.49999999998,
          53751.99999999991,
          56104.00000000014,
          54299.999999999956,
          54507.24999999996,
          54098.350000000086,
          54573.899999999965,
          54351.99999999995,
          55753.549999999785,
          53298.75000000023,
          54925.59999999999,
          52994.049999999486,
          56503.050000000556,
          53446.4455,
          56612.6045,
          54647.49999999999,
          52639.799999999734,
          57301.700000000004,
          52907.5000000003,
          54391.59999999999,
          54504.54999999992,
          55184.10000000006,
          53847.35000000001,
          54187.34999999999,
          55355.49999999993,
          55491.50000000014,
          54823.99999999996,
          55043.499999999876,
          54059.00000000005,
          56527.49999999999,
          54938.50000000004,
          53923.50000000002,
          58103.99999999991,
          53731.00000000018,
          55311.99999999984,
          54552.49999999993,
          55516.50000000007,
          54023.50000000009,
          53009.50000000007,
          55119.99999999994,
          55222.499999999935,
          53952.49999999985,
          52745.00000000028,
          55695.99999999981,
          56268.49999999997,
          55046.49999999994,
          55807.00000000002,
          56500.0000000002,
          53004.49999999993,
          54849.4999999999,
          56574.50000000023,
          54121.999999999796,
          55378.99999999979,
          53993.00000000033,
          55995.50000000003,
          54907.4999999999,
          56845.49999999984,
          54552.5000000001,
          55365.50000000025,
          55693.99999999688,
          53204.50000000295,
          56321.500000000124,
          57491.9999999999,
          53399.49999999984
         ]
        },
        {
         "marker": {
          "color": "red"
         },
         "mode": "markers",
         "name": "Top Two Peaks",
         "type": "scatter",
         "x": [
          360,
          959.9999999999999
         ],
         "y": [
          58103.99999999991,
          57491.9999999999
         ]
        },
        {
         "marker": {
          "color": "blue",
          "symbol": "cross"
         },
         "mode": "markers",
         "name": "Center Points",
         "type": "scatter",
         "x": [
          6.599999999999999e-7
         ],
         "y": [
          0
         ]
        }
       ],
       "layout": {
        "annotations": [
         {
          "arrowcolor": "black",
          "arrowhead": 2,
          "arrowsize": 1,
          "arrowwidth": 2,
          "ax": -100,
          "ay": -200,
          "showarrow": true,
          "text": "Center Point: 660.000nA <br> Peak difference: 600.000 nA",
          "x": 659.9999999999999,
          "y": 0
         }
        ],
        "height": 600,
        "legend": {
         "orientation": "h",
         "x": 0.5,
         "xanchor": "center",
         "y": 1.1,
         "yanchor": "top"
        },
        "template": {
         "data": {
          "bar": [
           {
            "error_x": {
             "color": "#2a3f5f"
            },
            "error_y": {
             "color": "#2a3f5f"
            },
            "marker": {
             "line": {
              "color": "#E5ECF6",
              "width": 0.5
             },
             "pattern": {
              "fillmode": "overlay",
              "size": 10,
              "solidity": 0.2
             }
            },
            "type": "bar"
           }
          ],
          "barpolar": [
           {
            "marker": {
             "line": {
              "color": "#E5ECF6",
              "width": 0.5
             },
             "pattern": {
              "fillmode": "overlay",
              "size": 10,
              "solidity": 0.2
             }
            },
            "type": "barpolar"
           }
          ],
          "carpet": [
           {
            "aaxis": {
             "endlinecolor": "#2a3f5f",
             "gridcolor": "white",
             "linecolor": "white",
             "minorgridcolor": "white",
             "startlinecolor": "#2a3f5f"
            },
            "baxis": {
             "endlinecolor": "#2a3f5f",
             "gridcolor": "white",
             "linecolor": "white",
             "minorgridcolor": "white",
             "startlinecolor": "#2a3f5f"
            },
            "type": "carpet"
           }
          ],
          "choropleth": [
           {
            "colorbar": {
             "outlinewidth": 0,
             "ticks": ""
            },
            "type": "choropleth"
           }
          ],
          "contour": [
           {
            "colorbar": {
             "outlinewidth": 0,
             "ticks": ""
            },
            "colorscale": [
             [
              0,
              "#0d0887"
             ],
             [
              0.1111111111111111,
              "#46039f"
             ],
             [
              0.2222222222222222,
              "#7201a8"
             ],
             [
              0.3333333333333333,
              "#9c179e"
             ],
             [
              0.4444444444444444,
              "#bd3786"
             ],
             [
              0.5555555555555556,
              "#d8576b"
             ],
             [
              0.6666666666666666,
              "#ed7953"
             ],
             [
              0.7777777777777778,
              "#fb9f3a"
             ],
             [
              0.8888888888888888,
              "#fdca26"
             ],
             [
              1,
              "#f0f921"
             ]
            ],
            "type": "contour"
           }
          ],
          "contourcarpet": [
           {
            "colorbar": {
             "outlinewidth": 0,
             "ticks": ""
            },
            "type": "contourcarpet"
           }
          ],
          "heatmap": [
           {
            "colorbar": {
             "outlinewidth": 0,
             "ticks": ""
            },
            "colorscale": [
             [
              0,
              "#0d0887"
             ],
             [
              0.1111111111111111,
              "#46039f"
             ],
             [
              0.2222222222222222,
              "#7201a8"
             ],
             [
              0.3333333333333333,
              "#9c179e"
             ],
             [
              0.4444444444444444,
              "#bd3786"
             ],
             [
              0.5555555555555556,
              "#d8576b"
             ],
             [
              0.6666666666666666,
              "#ed7953"
             ],
             [
              0.7777777777777778,
              "#fb9f3a"
             ],
             [
              0.8888888888888888,
              "#fdca26"
             ],
             [
              1,
              "#f0f921"
             ]
            ],
            "type": "heatmap"
           }
          ],
          "heatmapgl": [
           {
            "colorbar": {
             "outlinewidth": 0,
             "ticks": ""
            },
            "colorscale": [
             [
              0,
              "#0d0887"
             ],
             [
              0.1111111111111111,
              "#46039f"
             ],
             [
              0.2222222222222222,
              "#7201a8"
             ],
             [
              0.3333333333333333,
              "#9c179e"
             ],
             [
              0.4444444444444444,
              "#bd3786"
             ],
             [
              0.5555555555555556,
              "#d8576b"
             ],
             [
              0.6666666666666666,
              "#ed7953"
             ],
             [
              0.7777777777777778,
              "#fb9f3a"
             ],
             [
              0.8888888888888888,
              "#fdca26"
             ],
             [
              1,
              "#f0f921"
             ]
            ],
            "type": "heatmapgl"
           }
          ],
          "histogram": [
           {
            "marker": {
             "pattern": {
              "fillmode": "overlay",
              "size": 10,
              "solidity": 0.2
             }
            },
            "type": "histogram"
           }
          ],
          "histogram2d": [
           {
            "colorbar": {
             "outlinewidth": 0,
             "ticks": ""
            },
            "colorscale": [
             [
              0,
              "#0d0887"
             ],
             [
              0.1111111111111111,
              "#46039f"
             ],
             [
              0.2222222222222222,
              "#7201a8"
             ],
             [
              0.3333333333333333,
              "#9c179e"
             ],
             [
              0.4444444444444444,
              "#bd3786"
             ],
             [
              0.5555555555555556,
              "#d8576b"
             ],
             [
              0.6666666666666666,
              "#ed7953"
             ],
             [
              0.7777777777777778,
              "#fb9f3a"
             ],
             [
              0.8888888888888888,
              "#fdca26"
             ],
             [
              1,
              "#f0f921"
             ]
            ],
            "type": "histogram2d"
           }
          ],
          "histogram2dcontour": [
           {
            "colorbar": {
             "outlinewidth": 0,
             "ticks": ""
            },
            "colorscale": [
             [
              0,
              "#0d0887"
             ],
             [
              0.1111111111111111,
              "#46039f"
             ],
             [
              0.2222222222222222,
              "#7201a8"
             ],
             [
              0.3333333333333333,
              "#9c179e"
             ],
             [
              0.4444444444444444,
              "#bd3786"
             ],
             [
              0.5555555555555556,
              "#d8576b"
             ],
             [
              0.6666666666666666,
              "#ed7953"
             ],
             [
              0.7777777777777778,
              "#fb9f3a"
             ],
             [
              0.8888888888888888,
              "#fdca26"
             ],
             [
              1,
              "#f0f921"
             ]
            ],
            "type": "histogram2dcontour"
           }
          ],
          "mesh3d": [
           {
            "colorbar": {
             "outlinewidth": 0,
             "ticks": ""
            },
            "type": "mesh3d"
           }
          ],
          "parcoords": [
           {
            "line": {
             "colorbar": {
              "outlinewidth": 0,
              "ticks": ""
             }
            },
            "type": "parcoords"
           }
          ],
          "pie": [
           {
            "automargin": true,
            "type": "pie"
           }
          ],
          "scatter": [
           {
            "fillpattern": {
             "fillmode": "overlay",
             "size": 10,
             "solidity": 0.2
            },
            "type": "scatter"
           }
          ],
          "scatter3d": [
           {
            "line": {
             "colorbar": {
              "outlinewidth": 0,
              "ticks": ""
             }
            },
            "marker": {
             "colorbar": {
              "outlinewidth": 0,
              "ticks": ""
             }
            },
            "type": "scatter3d"
           }
          ],
          "scattercarpet": [
           {
            "marker": {
             "colorbar": {
              "outlinewidth": 0,
              "ticks": ""
             }
            },
            "type": "scattercarpet"
           }
          ],
          "scattergeo": [
           {
            "marker": {
             "colorbar": {
              "outlinewidth": 0,
              "ticks": ""
             }
            },
            "type": "scattergeo"
           }
          ],
          "scattergl": [
           {
            "marker": {
             "colorbar": {
              "outlinewidth": 0,
              "ticks": ""
             }
            },
            "type": "scattergl"
           }
          ],
          "scattermapbox": [
           {
            "marker": {
             "colorbar": {
              "outlinewidth": 0,
              "ticks": ""
             }
            },
            "type": "scattermapbox"
           }
          ],
          "scatterpolar": [
           {
            "marker": {
             "colorbar": {
              "outlinewidth": 0,
              "ticks": ""
             }
            },
            "type": "scatterpolar"
           }
          ],
          "scatterpolargl": [
           {
            "marker": {
             "colorbar": {
              "outlinewidth": 0,
              "ticks": ""
             }
            },
            "type": "scatterpolargl"
           }
          ],
          "scatterternary": [
           {
            "marker": {
             "colorbar": {
              "outlinewidth": 0,
              "ticks": ""
             }
            },
            "type": "scatterternary"
           }
          ],
          "surface": [
           {
            "colorbar": {
             "outlinewidth": 0,
             "ticks": ""
            },
            "colorscale": [
             [
              0,
              "#0d0887"
             ],
             [
              0.1111111111111111,
              "#46039f"
             ],
             [
              0.2222222222222222,
              "#7201a8"
             ],
             [
              0.3333333333333333,
              "#9c179e"
             ],
             [
              0.4444444444444444,
              "#bd3786"
             ],
             [
              0.5555555555555556,
              "#d8576b"
             ],
             [
              0.6666666666666666,
              "#ed7953"
             ],
             [
              0.7777777777777778,
              "#fb9f3a"
             ],
             [
              0.8888888888888888,
              "#fdca26"
             ],
             [
              1,
              "#f0f921"
             ]
            ],
            "type": "surface"
           }
          ],
          "table": [
           {
            "cells": {
             "fill": {
              "color": "#EBF0F8"
             },
             "line": {
              "color": "white"
             }
            },
            "header": {
             "fill": {
              "color": "#C8D4E3"
             },
             "line": {
              "color": "white"
             }
            },
            "type": "table"
           }
          ]
         },
         "layout": {
          "annotationdefaults": {
           "arrowcolor": "#2a3f5f",
           "arrowhead": 0,
           "arrowwidth": 1
          },
          "autotypenumbers": "strict",
          "coloraxis": {
           "colorbar": {
            "outlinewidth": 0,
            "ticks": ""
           }
          },
          "colorscale": {
           "diverging": [
            [
             0,
             "#8e0152"
            ],
            [
             0.1,
             "#c51b7d"
            ],
            [
             0.2,
             "#de77ae"
            ],
            [
             0.3,
             "#f1b6da"
            ],
            [
             0.4,
             "#fde0ef"
            ],
            [
             0.5,
             "#f7f7f7"
            ],
            [
             0.6,
             "#e6f5d0"
            ],
            [
             0.7,
             "#b8e186"
            ],
            [
             0.8,
             "#7fbc41"
            ],
            [
             0.9,
             "#4d9221"
            ],
            [
             1,
             "#276419"
            ]
           ],
           "sequential": [
            [
             0,
             "#0d0887"
            ],
            [
             0.1111111111111111,
             "#46039f"
            ],
            [
             0.2222222222222222,
             "#7201a8"
            ],
            [
             0.3333333333333333,
             "#9c179e"
            ],
            [
             0.4444444444444444,
             "#bd3786"
            ],
            [
             0.5555555555555556,
             "#d8576b"
            ],
            [
             0.6666666666666666,
             "#ed7953"
            ],
            [
             0.7777777777777778,
             "#fb9f3a"
            ],
            [
             0.8888888888888888,
             "#fdca26"
            ],
            [
             1,
             "#f0f921"
            ]
           ],
           "sequentialminus": [
            [
             0,
             "#0d0887"
            ],
            [
             0.1111111111111111,
             "#46039f"
            ],
            [
             0.2222222222222222,
             "#7201a8"
            ],
            [
             0.3333333333333333,
             "#9c179e"
            ],
            [
             0.4444444444444444,
             "#bd3786"
            ],
            [
             0.5555555555555556,
             "#d8576b"
            ],
            [
             0.6666666666666666,
             "#ed7953"
            ],
            [
             0.7777777777777778,
             "#fb9f3a"
            ],
            [
             0.8888888888888888,
             "#fdca26"
            ],
            [
             1,
             "#f0f921"
            ]
           ]
          },
          "colorway": [
           "#636efa",
           "#EF553B",
           "#00cc96",
           "#ab63fa",
           "#FFA15A",
           "#19d3f3",
           "#FF6692",
           "#B6E880",
           "#FF97FF",
           "#FECB52"
          ],
          "font": {
           "color": "#2a3f5f"
          },
          "geo": {
           "bgcolor": "white",
           "lakecolor": "white",
           "landcolor": "#E5ECF6",
           "showlakes": true,
           "showland": true,
           "subunitcolor": "white"
          },
          "hoverlabel": {
           "align": "left"
          },
          "hovermode": "closest",
          "mapbox": {
           "style": "light"
          },
          "paper_bgcolor": "white",
          "plot_bgcolor": "#E5ECF6",
          "polar": {
           "angularaxis": {
            "gridcolor": "white",
            "linecolor": "white",
            "ticks": ""
           },
           "bgcolor": "#E5ECF6",
           "radialaxis": {
            "gridcolor": "white",
            "linecolor": "white",
            "ticks": ""
           }
          },
          "scene": {
           "xaxis": {
            "backgroundcolor": "#E5ECF6",
            "gridcolor": "white",
            "gridwidth": 2,
            "linecolor": "white",
            "showbackground": true,
            "ticks": "",
            "zerolinecolor": "white"
           },
           "yaxis": {
            "backgroundcolor": "#E5ECF6",
            "gridcolor": "white",
            "gridwidth": 2,
            "linecolor": "white",
            "showbackground": true,
            "ticks": "",
            "zerolinecolor": "white"
           },
           "zaxis": {
            "backgroundcolor": "#E5ECF6",
            "gridcolor": "white",
            "gridwidth": 2,
            "linecolor": "white",
            "showbackground": true,
            "ticks": "",
            "zerolinecolor": "white"
           }
          },
          "shapedefaults": {
           "line": {
            "color": "#2a3f5f"
           }
          },
          "ternary": {
           "aaxis": {
            "gridcolor": "white",
            "linecolor": "white",
            "ticks": ""
           },
           "baxis": {
            "gridcolor": "white",
            "linecolor": "white",
            "ticks": ""
           },
           "bgcolor": "#E5ECF6",
           "caxis": {
            "gridcolor": "white",
            "linecolor": "white",
            "ticks": ""
           }
          },
          "title": {
           "x": 0.05
          },
          "xaxis": {
           "automargin": true,
           "gridcolor": "white",
           "linecolor": "white",
           "ticks": "",
           "title": {
            "standoff": 15
           },
           "zerolinecolor": "white",
           "zerolinewidth": 2
          },
          "yaxis": {
           "automargin": true,
           "gridcolor": "white",
           "linecolor": "white",
           "ticks": "",
           "title": {
            "standoff": 15
           },
           "zerolinecolor": "white",
           "zerolinewidth": 2
          }
         }
        },
        "title": {
         "text": "Run #<built-in function id> I vs. dV/dI"
        },
        "width": 600,
        "xaxis": {
         "title": {
          "text": "Current (nA)"
         }
        },
        "yaxis": {
         "title": {
          "text": "d(Voltage)/d(Current)"
         }
        }
       }
      }
     },
     "metadata": {},
     "output_type": "display_data"
    }
   ],
   "source": [
    "I_range=1e-6\n",
    "K2440.output(1)\n",
    "appl_current(-I_range) #Limit:1e-5 Amp(1MOhms risistor),1e-6 Amp(10MOhms risistor)\n",
    "sleep(2)\n",
    "# station.snapshot(update=True);\n",
    "exp = qc.new_experiment('I-V', sample_name='026-1_04-05-12-23G')\n",
    "dataid = do1d(appl_current, -I_range ,I_range, 101, 0.03, meas_voltage_K1)\n",
    "appl_current(0)\n",
    "K2440.output(0)\n",
    "\n",
    "# plot_by_id(dataid)\n",
    "#save_path = r\"C:\\qcodes\\personal_scripts\\Albert\\104\\Plot\\104_{}.png\".format(dataid)  # Path to save the plot image\n",
    "#autosave_plot_by_id(dataid, save_path)\n",
    "print(f\"R = {get_R_from_IV(dataid)}\")\n",
    "# dataset = qc.load_by_id(dataid)\n",
    "IV(dataid)\n",
    "IV_diff(dataid)"
   ]
  },
  {
   "cell_type": "code",
   "execution_count": null,
   "id": "ee32ef77",
   "metadata": {},
   "outputs": [],
   "source": [
    "get_R_from_IV(dataid)"
   ]
  },
  {
   "cell_type": "code",
   "execution_count": null,
   "id": "ae71124e",
   "metadata": {},
   "outputs": [],
   "source": [
    "dataset = qc.load_by_id(dataid)\n",
    "get_R_from_IV(dataid)\n",
    "IV(dataid)\n",
    "IV_diff(dataid)"
   ]
  },
  {
   "cell_type": "code",
   "execution_count": 32,
   "id": "795c08e0",
   "metadata": {},
   "outputs": [],
   "source": [
    "import plotly.graph_objs as go"
   ]
  },
  {
   "cell_type": "code",
   "execution_count": null,
   "id": "ea6a7850",
   "metadata": {},
   "outputs": [],
   "source": []
  },
  {
   "cell_type": "code",
   "execution_count": null,
   "id": "9ca53ea4",
   "metadata": {},
   "outputs": [],
   "source": [
    "for i in tqdm(range(1000)):\n",
    "    K2440.output(1)\n",
    "    I_range=1e-6\n",
    "    appl_current(-I_range) #Limit:1e-5 Amp(1MOhms risistor),1e-6 Amp(10MOhms risistor)\n",
    "    sleep(0.001)\n",
    "    # station.snapshot(update=True);\n",
    "    exp = qc.new_experiment('I-V', sample_name=f'103-03_J1_33-32-30-31_1M_F{i+1}')\n",
    "    dataid = do1d(appl_current, -I_range ,I_range, 101, 0.0001, meas_voltage_K2, meas_voltage_AC_L1,meas_voltage_AC_L1_P)\n",
    "    exp = qc.new_experiment('I-V', sample_name=f'103-03_J1_33-32-30-31_1M_B{i+1}')\n",
    "    dataid = do1d(appl_current, I_range ,-I_range, 101, 0.0001, meas_voltage_K2)\n",
    "    K2440.output(0)\n",
    "    clear_output(True)"
   ]
  },
  {
   "cell_type": "code",
   "execution_count": null,
   "id": "ffc1e4dd",
   "metadata": {},
   "outputs": [],
   "source": [
    "get_Mag()"
   ]
  },
  {
   "cell_type": "code",
   "execution_count": null,
   "id": "2908c940",
   "metadata": {},
   "outputs": [],
   "source": [
    "SGS.off()"
   ]
  },
  {
   "cell_type": "code",
   "execution_count": null,
   "id": "d82eb13a",
   "metadata": {},
   "outputs": [],
   "source": [
    "SGS.power(0)"
   ]
  },
  {
   "cell_type": "code",
   "execution_count": null,
   "id": "242d95fc",
   "metadata": {},
   "outputs": [],
   "source": [
    "DMM6500.averaging_count(5)\n",
    "DMM6500.averaging_enabled(True)"
   ]
  },
  {
   "cell_type": "code",
   "execution_count": null,
   "id": "e0c518ad",
   "metadata": {},
   "outputs": [],
   "source": [
    "for i in tqdm(range(21)):\n",
    "    I_range = round(round(0.55 + 5*i * 1e-4, 6)* 1e-6, 10)  # Round to 3 decimal places\n",
    "    print(I_range)\n"
   ]
  },
  {
   "cell_type": "code",
   "execution_count": null,
   "id": "78e3e90f",
   "metadata": {},
   "outputs": [],
   "source": []
  },
  {
   "cell_type": "code",
   "execution_count": null,
   "id": "0999a81b",
   "metadata": {},
   "outputs": [],
   "source": [
    "for i in tqdm(range(21)):\n",
    "    K2440.output(1)\n",
    "    I_range = round(round(0.55 + 5*i * 1e-4, 6)* 1e-6, 10) \n",
    "    appl_current(-I_range) #Limit:1e-5 Amp(1MOhms risistor),1e-6 Amp(10MOhms risistor)\n",
    "    sleep(2)\n",
    "    # station.snapshot(update=True);\n",
    "    exp = qc.new_experiment('I-V', sample_name=f'103-04_J1_24-25-05-04(06-07G)_1M_By@0mT_{-I_range}_201')\n",
    "    dataid = do1d(appl_current, -I_range ,I_range, 201, 0.00001, meas_voltage_K2)\n",
    "\n",
    "    appl_current(0)\n",
    "    K2440.output(0)\n",
    "\n",
    "\n",
    "    plot_by_id(dataid)\n",
    "    save_path = r\"D:\\data\\Albert\\103\\Plot\\104_{}.png\".format(dataid)  # Path to save the plot image\n",
    "    autosave_plot_by_id(dataid, save_path)\n",
    "    print(f\"ID:{dataid}\")\n",
    "    print(f\"R = {get_R_from_IV_2(dataid)}\")\n",
    "    dataset = qc.load_by_id(dataid)\n",
    "    IV(id=dataid)\n",
    "    IV_diff(id=dataid)"
   ]
  },
  {
   "cell_type": "code",
   "execution_count": null,
   "id": "e9ac98ca",
   "metadata": {},
   "outputs": [],
   "source": [
    "DMM6500.averaging_count(5)\n",
    "DMM6500.averaging_enabled(True)"
   ]
  },
  {
   "cell_type": "code",
   "execution_count": null,
   "id": "ad55deb3",
   "metadata": {},
   "outputs": [],
   "source": [
    "K2440.output(1)\n",
    "I_range = -6e-6\n",
    "appl_current(-I_range) #Limit:1e-5 Amp(1MOhms risistor),1e-6 Amp(10MOhms risistor)\n",
    "sleep(2)\n",
    "# station.snapshot(update=True);\n",
    "exp = qc.new_experiment('I-V', sample_name=f'103-03_J2_27-26-30-31M(32G-33G-28G-29G)_1M_By@0.1mT{-I_range}')\n",
    "dataid = do1d(appl_current, -I_range  ,I_range , 2601, 0.00001, meas_voltage_K2)\n",
    "appl_current(0)\n",
    "K2440.output(0)\n",
    "plot_by_id(dataid)\n",
    "save_path = r\"D:\\data\\Albert\\103\\Plot\\104_{}.png\".format(dataid)  # Path to save the plot image\n",
    "autosave_plot_by_id(dataid, save_path)\n",
    "print(f\"R = {get_R_from_IV_2(dataid)}\")\n",
    "dataset = qc.load_by_id(dataid)"
   ]
  },
  {
   "cell_type": "code",
   "execution_count": null,
   "id": "2b0e1832",
   "metadata": {},
   "outputs": [],
   "source": [
    "K2440.output(1)\n",
    "I_range = 6e-6\n",
    "appl_current(-I_range) #Limit:1e-5 Amp(1MOhms risistor),1e-6 Amp(10MOhms risistor)\n",
    "sleep(2)\n",
    "# station.snapshot(update=True);\n",
    "exp = qc.new_experiment('I-V', sample_name=f'103-03_J2_27-26-30-31M(32G-33G-28G-29G)_1M_By@0.1mT{-I_range}')\n",
    "dataid = do1d(appl_current, -I_range  ,I_range , 2601, 0.00001, meas_voltage_K2)\n",
    "appl_current(0)\n",
    "K2440.output(0)\n",
    "plot_by_id(dataid)\n",
    "save_path = r\"D:\\data\\Albert\\103\\Plot\\104_{}.png\".format(dataid)  # Path to save the plot image\n",
    "autosave_plot_by_id(dataid, save_path)\n",
    "print(f\"ID:{dataid}\")\n",
    "print(f\"R = {get_R_from_IV_2(dataid)}\")\n",
    "dataset = qc.load_by_id(dataid)\n",
    "# IV(id=dataid)\n",
    "# IV_diff(id=dataid)"
   ]
  },
  {
   "cell_type": "code",
   "execution_count": null,
   "id": "e90dc212",
   "metadata": {},
   "outputs": [],
   "source": [
    "25-05-06-07(04-24G)\n"
   ]
  },
  {
   "cell_type": "code",
   "execution_count": null,
   "id": "5c79e45a",
   "metadata": {},
   "outputs": [],
   "source": [
    "K2440.output(1)\n",
    "I_range=-7e-6\n",
    "appl_current(-I_range) #Limit:1e-5 Amp(1MOhms risistor),1e-6 Amp(10MOhms risistor)\n",
    "sleep(2)\n",
    "# station.snapshot(update=True);\n",
    "exp = qc.new_experiment('I-V', sample_name='103-03_J2_32-30-26-27_1M_By@0mT')\n",
    "dataid = do1d(appl_current, -I_range ,I_range, 1401, 0.0001, meas_voltage_K2)\n",
    "\n",
    "appl_current(0)\n",
    "K2440.output(0)\n",
    "\n",
    "\n",
    "plot_by_id(dataid)\n",
    "save_path = r\"D:\\data\\Albert\\103\\Plot\\104_{}.png\".format(dataid)  # Path to save the plot image\n",
    "autosave_plot_by_id(dataid, save_path)\n",
    "print(f\"ID:{dataid}\")\n",
    "print(f\"R = {get_R_from_IV_2(dataid)}\")\n",
    "dataset = qc.load_by_id(dataid)\n",
    "IV(id=dataid)\n",
    "IV_diff(id=dataid)"
   ]
  },
  {
   "cell_type": "code",
   "execution_count": null,
   "id": "8666f593",
   "metadata": {},
   "outputs": [],
   "source": [
    "K2440.output(1)\n",
    "I_range=7e-6\n",
    "appl_current(-I_range) #Limit:1e-5 Amp(1MOhms risistor),1e-6 Amp(10MOhms risistor)\n",
    "sleep(2)\n",
    "# station.snapshot(update=True);\n",
    "exp = qc.new_experiment('I-V', sample_name='103-03_J2_32-30-26-27_1M_By@0mT')\n",
    "dataid = do1d(appl_current, -I_range ,I_range, 1401, 0.0001, meas_voltage_K2)\n",
    "\n",
    "appl_current(0)\n",
    "K2440.output(0)\n",
    "\n",
    "\n",
    "plot_by_id(dataid)\n",
    "save_path = r\"D:\\data\\Albert\\103\\Plot\\104_{}.png\".format(dataid)  # Path to save the plot image\n",
    "autosave_plot_by_id(dataid, save_path)\n",
    "print(f\"ID:{dataid}\")\n",
    "print(f\"R = {get_R_from_IV_2(dataid)}\")\n",
    "dataset = qc.load_by_id(dataid)\n",
    "IV(id=dataid)\n",
    "IV_diff(id=dataid)"
   ]
  },
  {
   "cell_type": "code",
   "execution_count": null,
   "id": "4ce7045d",
   "metadata": {},
   "outputs": [],
   "source": [
    "# Set current to 0\n",
    "K2440.output(0)\n",
    "appl_current(0e-6)"
   ]
  },
  {
   "cell_type": "code",
   "execution_count": null,
   "id": "749b64e4",
   "metadata": {},
   "outputs": [],
   "source": [
    "K2440.output(1)\n",
    "appl_current(0.1e-7)"
   ]
  },
  {
   "cell_type": "code",
   "execution_count": null,
   "id": "9f4da299",
   "metadata": {
    "scrolled": true
   },
   "outputs": [],
   "source": [
    "runid=6\n",
    "print(get_R_from_IV_2(runid))"
   ]
  },
  {
   "cell_type": "markdown",
   "id": "3196b90e",
   "metadata": {},
   "source": [
    "## 加TG (1D)"
   ]
  },
  {
   "cell_type": "code",
   "execution_count": null,
   "id": "08a5e298",
   "metadata": {},
   "outputs": [],
   "source": [
    "K2440.output(1)\n",
    "appl_TG(0)"
   ]
  },
  {
   "cell_type": "code",
   "execution_count": null,
   "id": "a6f95af5",
   "metadata": {},
   "outputs": [],
   "source": [
    "K2440.output(1)\n",
    "K2440.output(1)\n",
    "appl_TG(-50)\n",
    "sleep(3)\n",
    "appl_current(-1.5e-8)\n",
    "sleep(1)\n",
    "\n",
    "# station.snapshot(update=True);\n",
    "exp = qc.new_experiment('IV', sample_name='TG21')\n",
    "\n",
    "#do1d(param_set, start, stop, num_points, delay, *param_meas)\n",
    "dataid = do1d(appl_current, -1.5e-8 ,1.5e-8, 101, 0.05, meas_voltage_K2)\n",
    "# dataid = do1d(appl_current, 6e-6 , -6e-6, 251, 0.01, meas_voltage_K1)\n",
    "# ivvi.set_dacs_zero()\n",
    "\n",
    "K2440.output(0)\n",
    "K2440.output(0)\n",
    "appl_current(0)\n",
    "plot_by_id(dataid)\n",
    "#print(get_R_from_IV(dataid))\n",
    "# print(get_R_from_IV_2(dataid))\n"
   ]
  },
  {
   "cell_type": "markdown",
   "id": "05b0d19b",
   "metadata": {},
   "source": [
    "## 歸零\n"
   ]
  },
  {
   "cell_type": "code",
   "execution_count": null,
   "id": "d8154670",
   "metadata": {},
   "outputs": [],
   "source": [
    "#K2440.output(1)\n",
    "K2440.output(1)\n",
    "\n",
    "appl_current(0)\n",
    "sleep(1)\n",
    "#appl_TG(0)\n",
    "sleep(5)\n",
    "\n",
    "#K2440.output(0)\n",
    "K2440.output(0)"
   ]
  },
  {
   "cell_type": "markdown",
   "id": "91795bf5",
   "metadata": {},
   "source": [
    "# Magnetic field"
   ]
  },
  {
   "cell_type": "markdown",
   "id": "c1b88abd",
   "metadata": {},
   "source": [
    "## IV vs Bx"
   ]
  },
  {
   "cell_type": "code",
   "execution_count": null,
   "id": "77c31bf1",
   "metadata": {},
   "outputs": [],
   "source": [
    "K2440.rangev()"
   ]
  },
  {
   "cell_type": "code",
   "execution_count": null,
   "id": "ea5d8a7d",
   "metadata": {},
   "outputs": [],
   "source": [
    "K2440.volt(0)\n",
    "K2440.output(1) #output off\n",
    "sleep(1)\n",
    "appl_current(1.5e-7)\n",
    "sleep(2)\n",
    "meas_voltage_K2()"
   ]
  },
  {
   "cell_type": "code",
   "execution_count": null,
   "id": "e083479a",
   "metadata": {},
   "outputs": [],
   "source": [
    "sleep(120)"
   ]
  },
  {
   "cell_type": "code",
   "execution_count": null,
   "id": "6c69dc40",
   "metadata": {},
   "outputs": [],
   "source": [
    "def get_Mag(show=True):\n",
    "    Mag_x = magnet_x.field()\n",
    "    Mag_y = magnet_y.field()\n",
    "    Mag_z = magnet_z.field()\n",
    "    if show:\n",
    "        print(f\"Mag_x: {Mag_x*1e3:.6f} mT\")\n",
    "        print(f\"Mag_y: {Mag_y*1e3:.6f} mT\")\n",
    "        print(f\"Mag_z: {Mag_z*1e3:.6f} mT\")\n",
    "    else: \n",
    "        return Mag_x, Mag_y, Mag_z\n",
    "get_Mag()"
   ]
  },
  {
   "cell_type": "code",
   "execution_count": null,
   "id": "582ee743",
   "metadata": {},
   "outputs": [],
   "source": [
    "get_Mag()"
   ]
  },
  {
   "cell_type": "code",
   "execution_count": null,
   "id": "9634bb97",
   "metadata": {},
   "outputs": [],
   "source": [
    "magnet_y.field()"
   ]
  },
  {
   "cell_type": "code",
   "execution_count": null,
   "id": "add54ae7",
   "metadata": {},
   "outputs": [],
   "source": [
    "for i in tqdm(range(23), desc=\"First loop\"):\n",
    "    value = (25 - i) * 1e-3 \n",
    "    value = float(f\"{value:.10f}\")\n",
    "    print(value)"
   ]
  },
  {
   "cell_type": "code",
   "execution_count": null,
   "id": "04c8a1e5",
   "metadata": {},
   "outputs": [],
   "source": [
    "from tqdm import tqdm\n",
    "import time\n",
    "\n",
    "from IPython.display import clear_output\n",
    "# First loop\n",
    "for i in tqdm(range(6), desc=\"First loop\"):\n",
    "    Mag_x = magnet_x.field()\n",
    "    value = (15 + i) * 1e-3\n",
    "    value = float(f\"{value:.10f}\")\n",
    "    magnet_x.field(value)\n",
    "    print(f\"magnet_x is {Mag_x:.8f} T\")\n",
    "    time.sleep(15)\n",
    "    clear_output(True)\n",
    "\n",
    "# Pause for 30 seconds\n",
    "time.sleep(60)\n",
    "\n",
    "# Second loop\n",
    "for i in tqdm(range(23), desc=\"First loop\"):\n",
    "    Mag_x = magnet_x.field()\n",
    "    value = (25 - i) * 1e-3 \n",
    "    value = float(f\"{value:.10f}\")\n",
    "    magnet_x.field(value)\n",
    "    print(f\"magnet_x is {Mag_x:.8f} T\")\n",
    "    time.sleep(15)\n",
    "    clear_output(True)\n",
    "\n",
    "# Pause for 180 seconds\n",
    "time.sleep(300)"
   ]
  },
  {
   "cell_type": "code",
   "execution_count": null,
   "id": "fc3e418b",
   "metadata": {},
   "outputs": [],
   "source": [
    "magnet_x.field(-20)"
   ]
  },
  {
   "cell_type": "code",
   "execution_count": null,
   "id": "07666294",
   "metadata": {},
   "outputs": [],
   "source": [
    "Mag = -20e-3\n",
    "I_range=2.5e-6\n",
    "K2440.output(1)\n",
    "sleep(2)\n",
    "magnet_x.field(Mag)\n",
    "sleep(10)\n",
    "appl_current(-I_range)\n",
    "sleep(3)\n",
    "direction = 'backward' if Mag > 0 else 'forward'\n",
    "\n",
    "\n",
    "# station.snapshot(update=True);\n",
    "exp = qc.new_experiment('IV vs Bx', sample_name=f'103-06_J2_12-13-18-19_1M_Bx_{direction}_By@0mT')\n",
    "\n",
    "dataid = do2d(magnet_x.field, Mag, -Mag, 76 , 0.7, appl_current, -I_range ,I_range, 101, 0.01, meas_voltage_K2)\n",
    "\n",
    "appl_current(0)\n",
    "K2440.output(0)\n",
    "# magnet_y.field(0)\n",
    "\n",
    "plot_by_id(dataid)\n",
    "autosave_plot_by_id(dataid, save_path)"
   ]
  },
  {
   "cell_type": "code",
   "execution_count": null,
   "id": "5f475874",
   "metadata": {},
   "outputs": [],
   "source": [
    "K2440.output(1)\n",
    "sleep(2)\n",
    "Mag = 10e-3\n",
    "I_range=2.5e-5\n",
    "\n",
    "magnet_x.field(Mag)\n",
    "sleep(30)\n",
    "appl_current(-I_range)\n",
    "sleep(3)\n",
    "direction = 'backward' if Mag > 0 else 'forward'\n",
    "\n",
    "\n",
    "# station.snapshot(update=True);\n",
    "\n",
    "exp = qc.new_experiment('IV vs Bx', sample_name=f'094-20IV_Bx_16-17-19-18_10M_{direction}')\n",
    "\n",
    "dataid = do2d(magnet_x.field, Mag, -Mag, 101 , 1.5, appl_current, -I_range ,I_range, 101, 0.05, meas_voltage_K2)#M:I Delay time 10:1\n",
    "\n",
    "\n",
    "appl_current(0)\n",
    "K2440.output(0)\n",
    "# magnet_x.field(0)\n",
    "\n",
    "plot_by_id(dataid)\n",
    "autosave_plot_by_id(dataid, save_path)"
   ]
  },
  {
   "cell_type": "code",
   "execution_count": null,
   "id": "bfdd8a07",
   "metadata": {},
   "outputs": [],
   "source": [
    "set_magnetic_field_stepwise(magnet=magnet_x, current_field=-40e-3, target_field=-18e-3, step_size=1e-3, delay=2.5)"
   ]
  },
  {
   "cell_type": "code",
   "execution_count": null,
   "id": "5eef089c",
   "metadata": {},
   "outputs": [],
   "source": [
    "def set_magnetic_field_stepwise(magnet=magnet_x, current_field=0, target_field=-10e-3, step_size=1e-3, delay=2.5):\n",
    "    \n",
    "    \"\"\"Set the magnetic field with anti-hysteresis mechanism witch will go to target magnetic field +/- 5mT, \n",
    "    if the target magnetic field is greater/less than the current magnetic field, \n",
    "    then slowly ramp back the magnetic field to the target magnetic field\n",
    "\n",
    "    Args:\n",
    "        magnet (_type_, optional): magnet_x,magnet_y,magnet_z. Defaults to magnet_x.\n",
    "        current_field (int, optional): _description_. Defaults to 0 T.\n",
    "        target_field (_type_, optional): _description_. Defaults to -10e-3 T.\n",
    "        step_size (_type_, optional): _description_. Defaults to 1e-3 T.\n",
    "        delay (float, optional): _description_. Defaults to 2 sec.\n",
    "    \n",
    "    \"\"\"\n",
    "    \n",
    "    from tqdm.notebook import tqdm\n",
    "    import math\n",
    "    # Calculate total steps for tqdm progress bar\n",
    "    total_steps = math.ceil(abs((target_field - current_field) / step_size)) * 2\n",
    "    progress_bar = tqdm(total=total_steps)\n",
    "\n",
    "    # Determine the intermediate target field\n",
    "    intermediate_target_field = target_field + 5e-3 if target_field > current_field else target_field - 5e-3\n",
    "    # Slowly ramp the magnetic field to the intermediate target field\n",
    "    while abs(intermediate_target_field - current_field) > step_size:\n",
    "        if intermediate_target_field > current_field:\n",
    "            current_field += step_size\n",
    "            magnet.field(current_field)\n",
    "        else:\n",
    "            current_field -= step_size\n",
    "            magnet.field(current_field)\n",
    "        time.sleep(delay)\n",
    "        progress_bar.update(1)  # Update progress bar\n",
    "    # Slowly ramp back the magnetic field to the target_field\n",
    "    while abs(target_field - current_field) > step_size:\n",
    "        if target_field > current_field:\n",
    "            current_field += step_size\n",
    "            magnet.field(current_field)\n",
    "        else:\n",
    "            current_field -= step_size\n",
    "            magnet.field(current_field)\n",
    "        time.sleep(delay)\n",
    "        progress_bar.update(1)  # Update progress bar\n",
    "    magnet.field(target_field)\n",
    "    progress_bar.n = total_steps  # Set progress bar to 100%\n",
    "    progress_bar.refresh()  # Refresh the progress bar to show the update\n",
    "    progress_bar.close()  # Close progress bar when done"
   ]
  },
  {
   "cell_type": "code",
   "execution_count": null,
   "id": "6d385381",
   "metadata": {},
   "outputs": [],
   "source": [
    "for i in range(6):\n",
    "    magnet_x.field((-10-i)*1e-3)\n",
    "    sleep(4)\n",
    "sleep(10)\n",
    "\n",
    "for i in range(16):\n",
    "    magnet_x.field((15+i)*1e-3)\n",
    "    sleep(4)\n",
    "sleep(10)"
   ]
  },
  {
   "cell_type": "code",
   "execution_count": null,
   "id": "83205742",
   "metadata": {},
   "outputs": [],
   "source": [
    "for i in range(25):\n",
    "    print(-24+i)"
   ]
  },
  {
   "cell_type": "code",
   "execution_count": null,
   "id": "fef193a7",
   "metadata": {},
   "outputs": [],
   "source": [
    "magnet_x.field(-19e-3)\n",
    "sleep(10)\n",
    "#magnet_x.field(e-3)\n",
    "#sleep(10)\n",
    "#magnet_x.field(12.8e-3)\n",
    "#sleep(10)"
   ]
  },
  {
   "cell_type": "markdown",
   "id": "6a6f3c0d",
   "metadata": {},
   "source": [
    "## IV vs By"
   ]
  },
  {
   "cell_type": "code",
   "execution_count": null,
   "id": "b823efb8",
   "metadata": {},
   "outputs": [],
   "source": [
    "get_Mag()"
   ]
  },
  {
   "cell_type": "code",
   "execution_count": null,
   "id": "9e236537",
   "metadata": {},
   "outputs": [],
   "source": [
    "magnet_y.field(0e-3)"
   ]
  },
  {
   "cell_type": "code",
   "execution_count": null,
   "id": "b4e8ec13",
   "metadata": {},
   "outputs": [],
   "source": [
    "for i in tqdm(range(21), desc=\"2nd loop\"):\n",
    "    \n",
    "    value = (-10 + i*0.5) * 1e-3 \n",
    "    value = float(f\"{value:.10f}\")\n",
    "    magnet_y.field(value)\n",
    "    get_Mag()\n",
    "    time.sleep(15)\n",
    "    clear_output(True)"
   ]
  },
  {
   "cell_type": "code",
   "execution_count": null,
   "id": "5dce7f89",
   "metadata": {},
   "outputs": [],
   "source": [
    "\n",
    "# First loop\n",
    "for i in tqdm(range(11), desc=\"First loop\"):\n",
    "    \n",
    "    value = (5 +i) * 1e-3\n",
    "    value = float(f\"{value:.10f}\")\n",
    "    magnet_y.field(value)\n",
    "    get_Mag()\n",
    "    time.sleep(15)\n",
    "    clear_output(True)\n",
    "\n",
    "# Pause for 30 seconds\n",
    "time.sleep(60)\n",
    "\n",
    "# Second loop\n",
    "for i in tqdm(range(11), desc=\"2nd loop\"):\n",
    "    \n",
    "    value = (-10 + i) * 1e-3 \n",
    "    value = float(f\"{value:.10f}\")\n",
    "    magnet_y.field(value)\n",
    "    get_Mag()\n",
    "    time.sleep(15)\n",
    "    clear_output(True)\n",
    "# Pause for 180 seconds\n",
    "time.sleep(300)"
   ]
  },
  {
   "cell_type": "code",
   "execution_count": null,
   "id": "46dc421a",
   "metadata": {},
   "outputs": [],
   "source": [
    "magnet_y.field()"
   ]
  },
  {
   "cell_type": "code",
   "execution_count": null,
   "id": "3a7fb763",
   "metadata": {},
   "outputs": [],
   "source": [
    "Mag =5e-3\n",
    "I_range=0.6e-6\n",
    "K2440.output(1)\n",
    "sleep(2)\n",
    "magnet_y.field(Mag)\n",
    "sleep(10)\n",
    "appl_current(-I_range)\n",
    "sleep(3)\n",
    "direction = 'backward' if Mag > 0 else 'forward'\n",
    "\n",
    "\n",
    "# station.snapshot(update=True);\n",
    "exp = qc.new_experiment('IV vs By', sample_name=f'103-03_J2_27-26-30-31M(32G-33G-28G-29G)_1M_By_{direction}_{-I_range}')\n",
    "\n",
    "dataid = do2d(magnet_y.field, Mag, -Mag, 201 , 0.5, appl_current, -I_range ,I_range,  201, 0.0001, meas_voltage_K2)\n",
    "\n",
    "appl_current(0)\n",
    "K2440.output(0)\n",
    "# magnet_y.field(0)\n",
    "\n",
    "plot_by_id(dataid)\n",
    "autosave_plot_by_id(dataid, save_path)"
   ]
  },
  {
   "cell_type": "code",
   "execution_count": null,
   "id": "a9c30858",
   "metadata": {},
   "outputs": [],
   "source": [
    "Mag =-5e-3\n",
    "I_range=5e-6\n",
    "K2440.output(1)\n",
    "sleep(2)\n",
    "magnet_y.field(Mag)\n",
    "sleep(10)\n",
    "appl_current(-I_range)\n",
    "sleep(3)\n",
    "direction = 'backward' if Mag > 0 else 'forward'\n",
    "\n",
    "\n",
    "# station.snapshot(update=True);\n",
    "exp = qc.new_experiment('IV vs By', sample_name=f'103-03_J2_27-26-30-31M(32G-33G-28G-29G)_1M_By_{direction}_{-I_range}')\n",
    "\n",
    "dataid = do2d(magnet_y.field, Mag, -Mag, 201 , 0.5, appl_current, -I_range ,I_range,  201, 0.0001, meas_voltage_K2)\n",
    "\n",
    "appl_current(0)\n",
    "K2440.output(0)\n",
    "# magnet_y.field(0)\n",
    "\n",
    "plot_by_id(dataid)\n",
    "autosave_plot_by_id(dataid, save_path)"
   ]
  },
  {
   "cell_type": "code",
   "execution_count": null,
   "id": "8ba8b69c",
   "metadata": {},
   "outputs": [],
   "source": [
    "32-"
   ]
  },
  {
   "cell_type": "code",
   "execution_count": null,
   "id": "7c2e8f1b",
   "metadata": {},
   "outputs": [],
   "source": [
    "\n",
    "# First loop\n",
    "for i in tqdm(range(6), desc=\"First loop\"):\n",
    "    Mag_x = magnet_y.field()\n",
    "    value = (1.5 +i) * 1e-3\n",
    "    value = float(f\"{value:.10f}\")\n",
    "    magnet_y.field(value)\n",
    "    print(f\"magnet_y is {Mag_x:.8f} T\")\n",
    "    time.sleep(15)\n",
    "    clear_output(True)\n",
    "\n",
    "# Pause for 30 seconds\n",
    "time.sleep(60)\n",
    "\n",
    "# Second loop\n",
    "for i in tqdm(range(6), desc=\"2nd loop\"):\n",
    "    Mag_x = magnet_y.field()\n",
    "    value = (6.5 - i) * 1e-3 \n",
    "    value = float(f\"{value:.10f}\")\n",
    "    magnet_y.field(value)\n",
    "    print(f\"magnet_y is {Mag_x:.8f} T\")\n",
    "    time.sleep(15)\n",
    "    clear_output(True)\n",
    "\n",
    "# Pause for 180 seconds\n",
    "time.sleep(300)"
   ]
  },
  {
   "cell_type": "code",
   "execution_count": null,
   "id": "8d736f1b",
   "metadata": {},
   "outputs": [],
   "source": [
    "Mag = 1.5e-3\n",
    "I_range=2.5e-6\n",
    "K2440.output(1)\n",
    "sleep(2)\n",
    "magnet_y.field(Mag)\n",
    "sleep(10)\n",
    "appl_current(-I_range)\n",
    "sleep(3)\n",
    "direction = 'backward' if Mag > 0 else 'forward'\n",
    "\n",
    "\n",
    "# station.snapshot(update=True);\n",
    "exp = qc.new_experiment('IV vs By', sample_name=f'103-06_J2_12-13-18-19_1M_By_{direction}_Bx@3mT')\n",
    "\n",
    "dataid = do2d(magnet_y.field, Mag, -Mag, 1001 , 0.4, appl_current, -I_range ,I_range, 151, 0.01, meas_voltage_K2)\n",
    "\n",
    "appl_current(0)\n",
    "K2440.output(0)\n",
    "# magnet_y.field(0)\n",
    "\n",
    "plot_by_id(dataid)\n",
    "autosave_plot_by_id(dataid, save_path)"
   ]
  },
  {
   "cell_type": "code",
   "execution_count": null,
   "id": "43eb5eb6",
   "metadata": {},
   "outputs": [],
   "source": [
    "Mag()"
   ]
  },
  {
   "cell_type": "code",
   "execution_count": null,
   "id": "721c43a1",
   "metadata": {},
   "outputs": [],
   "source": [
    "Mag = 1.5e-3\n",
    "I_range=1e-6\n",
    "K2440.output(1)\n",
    "sleep(2)\n",
    "magnet_y.field(Mag)\n",
    "sleep(10)\n",
    "appl_current(-I_range)\n",
    "sleep(3)\n",
    "direction = 'backward' if Mag > 0 else 'forward'\n",
    "\n",
    "\n",
    "# station.snapshot(update=True);\n",
    "exp = qc.new_experiment('IV vs By', sample_name=f'103-01_J1_21-20-23-22_1M_By_{direction}_Bx@0mT')\n",
    "\n",
    "dataid = do2d(magnet_y.field, Mag, -Mag, 151 , 0.9, appl_current, -I_range ,I_range, 201, 0.01, meas_voltage_K2)\n",
    "\n",
    "appl_current(0)\n",
    "K2440.output(0)\n",
    "# magnet_y.field(0)\n",
    "\n",
    "plot_by_id(dataid)\n",
    "autosave_plot_by_id(dataid, save_path)"
   ]
  },
  {
   "cell_type": "code",
   "execution_count": null,
   "id": "dadb617e",
   "metadata": {},
   "outputs": [],
   "source": [
    "from tqdm import tqdm\n",
    "import time\n",
    "\n",
    "# First loop\n",
    "for i in tqdm(range(6), desc=\"First loop\"):\n",
    "    value = (1.5 + i) * 1e-3 \n",
    "    magnet_y.field(value)\n",
    "    print(f\"magnet_y is {value:.8f} T\")\n",
    "    time.sleep(10)\n",
    "\n",
    "# Pause for 30 seconds\n",
    "time.sleep(30)\n",
    "\n",
    "# Second loop\n",
    "for i in tqdm(range(8), desc=\"First loop\"):\n",
    "    value = (7 - i) * 1e-3 \n",
    "    magnet_y.field(value)\n",
    "    print(f\"magnet_y is {value:.8f} T\")\n",
    "    time.sleep(10)\n",
    "\n",
    "# Pause for 180 seconds\n",
    "time.sleep(300)\n"
   ]
  },
  {
   "cell_type": "code",
   "execution_count": null,
   "id": "cceb780f",
   "metadata": {},
   "outputs": [],
   "source": [
    "def combined_loop(start=0, end=5 ):\n",
    "  for i in tqdm(range((end-start)+6), desc=\"First loop\"):\n",
    "    value = start + i\n",
    "    print(f\"{value* 1e-3:.5f}\")\n",
    "\n",
    "  for i in tqdm(range(6), desc=\"Second loop\"):\n",
    "    value = end+5 - i\n",
    "    print(f\"{value* 1e-3:.5f}\")\n",
    "\n",
    "combined_loop()\n"
   ]
  },
  {
   "cell_type": "code",
   "execution_count": null,
   "id": "7963ad50",
   "metadata": {},
   "outputs": [],
   "source": [
    "Mag = 3e-3\n",
    "I_range=1e-6\n",
    "K2440.output(1)\n",
    "sleep(2)\n",
    "magnet_y.field(Mag)\n",
    "sleep(10)\n",
    "appl_current(-I_range)\n",
    "sleep(3)\n",
    "direction = 'backward' if Mag > 0 else 'forward'\n",
    "\n",
    "\n",
    "# station.snapshot(update=True);\n",
    "exp = qc.new_experiment('IV vs By', sample_name=f'103-04_J2_04-05-06-07_1M_By_{direction}_Bx@0mT')\n",
    "\n",
    "dataid = do2d(magnet_y.field, Mag, -Mag, 101 , 1.5, appl_current, -I_range ,I_range, 101, 0.01, meas_voltage_K2)\n",
    "\n",
    "appl_current(0)\n",
    "K2440.output(0)\n",
    "# magnet_y.field(0)\n",
    "\n",
    "plot_by_id(dataid)\n",
    "autosave_plot_by_id(dataid, save_path)"
   ]
  },
  {
   "cell_type": "code",
   "execution_count": null,
   "id": "3d67f8ce",
   "metadata": {},
   "outputs": [],
   "source": [
    "from tqdm import tqdm\n",
    "import time\n",
    "\n",
    "# First loop\n",
    "for i in tqdm(range(6), desc=\"First loop\"):\n",
    "    magnet_y.field((-3 - i) * 1e-3)\n",
    "    time.sleep(15)\n",
    "\n",
    "# Pause for 30 seconds\n",
    "time.sleep(30)\n",
    "\n",
    "# Second loop\n",
    "for i in tqdm(range(7), desc=\"Second loop\"):\n",
    "    magnet_y.field((-8 + i) * 1e-3)\n",
    "    time.sleep(15)\n",
    "\n",
    "# Pause for 180 seconds\n",
    "time.sleep(300)"
   ]
  },
  {
   "cell_type": "code",
   "execution_count": null,
   "id": "af9e2a73",
   "metadata": {},
   "outputs": [],
   "source": [
    "magnet_y.field(-1.5e-3)\n",
    "print(\"By at -1.5 mT\")"
   ]
  },
  {
   "cell_type": "code",
   "execution_count": null,
   "id": "214aa45a",
   "metadata": {},
   "outputs": [],
   "source": [
    "Mag = -3e-3\n",
    "I_range=1e-6\n",
    "K2440.output(1)\n",
    "sleep(2)\n",
    "magnet_y.field(Mag)\n",
    "sleep(10)\n",
    "appl_current(-I_range)\n",
    "sleep(3)\n",
    "direction = 'backward' if Mag > 0 else 'forward'\n",
    "\n",
    "\n",
    "# station.snapshot(update=True);\n",
    "exp = qc.new_experiment('IV vs By', sample_name=f'103-04_J2_04-05-06-07_1M_By_{direction}_Bx@0mT')\n",
    "\n",
    "dataid = do2d(magnet_y.field, Mag, -Mag, 501 , 1, appl_current, -I_range ,I_range, 251, 0.01, meas_voltage_K2)\n",
    "\n",
    "appl_current(0)\n",
    "K2440.output(0)\n",
    "# magnet_y.field(0)\n",
    "\n",
    "plot_by_id(dataid)\n",
    "autosave_plot_by_id(dataid, save_path)"
   ]
  },
  {
   "cell_type": "code",
   "execution_count": null,
   "id": "da9891fc",
   "metadata": {},
   "outputs": [],
   "source": [
    "from tqdm import tqdm\n",
    "import time\n",
    "\n",
    "# First loop\n",
    "for i in tqdm(range(6), desc=\"First loop\"):\n",
    "    magnet_y.field((3 + i) * 1e-3)\n",
    "    time.sleep(10)\n",
    "\n",
    "# Pause for 30 seconds\n",
    "time.sleep(30)\n",
    "\n",
    "# Second loop\n",
    "for i in tqdm(range(6), desc=\"Second loop\"):\n",
    "    magnet_y.field((8 - i) * 1e-3)\n",
    "    time.sleep(10)\n",
    "\n",
    "# Pause for 180 seconds\n",
    "time.sleep(300)"
   ]
  },
  {
   "cell_type": "code",
   "execution_count": null,
   "id": "8c1e92c1",
   "metadata": {},
   "outputs": [],
   "source": [
    "Mag = 3e-3\n",
    "I_range=1e-6\n",
    "K2440.output(1)\n",
    "sleep(2)\n",
    "magnet_y.field(Mag)\n",
    "sleep(10)\n",
    "appl_current(-I_range)\n",
    "sleep(3)\n",
    "direction = 'backward' if Mag > 0 else 'forward'\n",
    "\n",
    "\n",
    "# station.snapshot(update=True);\n",
    "exp = qc.new_experiment('IV vs By', sample_name=f'103-04_J2_04-05-06-07_1M_By_{direction}_Bx@0mT')\n",
    "\n",
    "dataid = do2d(magnet_y.field, Mag, -Mag, 501 , 1, appl_current, -I_range ,I_range, 251, 0.01, meas_voltage_K2)\n",
    "\n",
    "appl_current(0)\n",
    "K2440.output(0)\n",
    "# magnet_y.field(0)\n",
    "\n",
    "plot_by_id(dataid)\n",
    "autosave_plot_by_id(dataid, save_path)"
   ]
  },
  {
   "cell_type": "code",
   "execution_count": null,
   "id": "5208f447",
   "metadata": {},
   "outputs": [],
   "source": [
    "magnet_y.field(5e-3)"
   ]
  },
  {
   "cell_type": "code",
   "execution_count": null,
   "id": "3e408864",
   "metadata": {},
   "outputs": [],
   "source": [
    "for i in range(9):\n",
    "    magnet_y.field((0+i)*1e-3)\n",
    "    sleep(4)\n",
    "sleep(10)\n",
    "\n",
    "for i in range(6):\n",
    "    magnet_y.field((8-i)*1e-3)\n",
    "    sleep(4)\n",
    "\n",
    "sleep(60)\n",
    "# magnet_y.field(21.5e-3)\n",
    "sleep(60)\n",
    "#magnet_y.field(0.48e-3)\n",
    "#sleep(5)"
   ]
  },
  {
   "cell_type": "code",
   "execution_count": null,
   "id": "2eb14a5d",
   "metadata": {},
   "outputs": [],
   "source": [
    "for i in range(4):\n",
    "    print(8-i)"
   ]
  },
  {
   "cell_type": "code",
   "execution_count": null,
   "id": "a1ebeefb",
   "metadata": {},
   "outputs": [],
   "source": [
    "K2440.output(1)\n",
    "sleep(2)\n",
    "Mag = -40e-3\n",
    "I_range=2e-8\n",
    "\n",
    "magnet_y.field(Mag)\n",
    "sleep(10)\n",
    "appl_current(-I_range)\n",
    "sleep(3)\n",
    "direction = 'backward' if Mag > 0 else 'forward'\n",
    "\n",
    "\n",
    "# station.snapshot(update=True);\n",
    "\n",
    "exp = qc.new_experiment('IV vs By', sample_name=f'094-20IV_By_16-17-19-18_10M_{direction}_Bx@-18.5mT')\n",
    "\n",
    "dataid = do2d(magnet_y.field, Mag, -Mag, 601 , 2, appl_current, -I_range ,I_range, 201, 0.1, meas_voltage_K2)\n",
    "\n",
    "\n",
    "appl_current(0)\n",
    "K2440.output(0)\n",
    "# magnet_y.field(0)\n",
    "\n",
    "plot_by_id(dataid)\n",
    "autosave_plot_by_id(dataid, save_path)"
   ]
  },
  {
   "cell_type": "code",
   "execution_count": null,
   "id": "effdb8bf",
   "metadata": {},
   "outputs": [],
   "source": [
    "for i in range(24):\n",
    "    print(45-i)"
   ]
  },
  {
   "cell_type": "code",
   "execution_count": null,
   "id": "4b523a44",
   "metadata": {},
   "outputs": [],
   "source": []
  },
  {
   "cell_type": "markdown",
   "id": "7dce8613",
   "metadata": {},
   "source": [
    "## IV vs Bz"
   ]
  },
  {
   "cell_type": "code",
   "execution_count": null,
   "id": "a4e6e5f7",
   "metadata": {
    "scrolled": true
   },
   "outputs": [],
   "source": [
    "K2440.output(1)\n",
    "sleep(2)\n",
    "magnet_z.field(-80e-3)\n",
    "sleep(60)\n",
    "appl_current(-2e-7)\n",
    "sleep(5)\n",
    "\n",
    "# station.snapshot(update=True);\n",
    "\n",
    "exp = qc.new_experiment('IV vs Bz', sample_name='IV_Bz_33_32_30_31_10M_forward')\n",
    "\n",
    "dataid = do2d(magnet_z.field,-80e-3,80e-3, 71 , 20, appl_current, -2e-7 ,2e-7, 101, 0.05, meas_voltage_K2)\n",
    "\n",
    "appl_current(0)\n",
    "\n",
    "K2440.output(0)\n",
    "# magnet_y.field(0)\n",
    "\n",
    "plot_by_id(dataid)"
   ]
  },
  {
   "cell_type": "code",
   "execution_count": null,
   "id": "e68136d1",
   "metadata": {},
   "outputs": [],
   "source": [
    "#magnet_z.field(20e-3)\n",
    "#sleep(5)\n",
    "magnet_z.field(-6.1e-3)\n",
    "sleep(5)"
   ]
  },
  {
   "cell_type": "code",
   "execution_count": null,
   "id": "571645ac",
   "metadata": {},
   "outputs": [],
   "source": []
  },
  {
   "cell_type": "markdown",
   "id": "02c81568",
   "metadata": {},
   "source": [
    "## IV w/ Bx"
   ]
  },
  {
   "cell_type": "code",
   "execution_count": null,
   "id": "b5229271",
   "metadata": {},
   "outputs": [],
   "source": [
    "K2440.output(1)\n",
    "sleep(2)\n",
    "magnet_x.field(0.23e-3)\n",
    "appl_current(-0.5e-6)\n",
    "sleep(10)\n",
    "\n",
    "# station.snapshot(update=True);\n",
    "exp = qc.new_experiment('I vs V', sample_name='IV_w/_Bx')\n",
    "\n",
    "#do1d(param_set, start, stop, num_points, delay, *param_meas)\n",
    "dataid = do1d(appl_current, -0.5e-6 ,0.5e-6, 101, 0.05, meas_voltage_K2)\n",
    "# dataid = do1d(appl_current, 6e-6 , -6e-6, 251, 0.01, meas_voltage_K1)\n",
    "# ivvi.set_dacs_zero()\n",
    "\n",
    "appl_current(0)\n",
    "plot_by_id(dataid)\n",
    "# print(get_R_from_IV(dataid))\n",
    "#print(get_R_from_IV_2(dataid))\n",
    "\n",
    "K2440.output(0)"
   ]
  },
  {
   "cell_type": "markdown",
   "id": "27ac85cd",
   "metadata": {},
   "source": [
    "## IV w/ By"
   ]
  },
  {
   "cell_type": "code",
   "execution_count": null,
   "id": "b7c3a84d",
   "metadata": {},
   "outputs": [],
   "source": [
    "K2440.output(1)\n",
    "DMM6500.averaging_count(30)\n",
    "#DMM6500.averaging_enabled(False)\n",
    "\n",
    "sleep(2)\n",
    "magnet_y.field(0e-3)\n",
    "appl_current(-2e-7)\n",
    "sleep(20)\n",
    "\n",
    "# station.snapshot(update=True);\n",
    "exp = qc.new_experiment('I vs V', sample_name='IV_w/_By@0mT_forward_Avg30')\n",
    "\n",
    "#do1d(param_set, start, stop, num_points, delay, *param_meas)\n",
    "dataid = do1d(appl_current, -2e-7 ,2e-7, 201, 0.05, meas_voltage_K2)\n",
    "# dataid = do1d(appl_current, 6e-6 , -6e-6, 251, 0.01, meas_voltage_K1)\n",
    "# ivvi.set_dacs_zero()\n",
    "\n",
    "appl_current(0)\n",
    "plot_by_id(dataid)\n",
    "# print(get_R_from_IV(dataid))\n",
    "#print(get_R_from_IV_2(dataid))\n",
    "\n",
    "K2440.output(0)"
   ]
  },
  {
   "cell_type": "markdown",
   "id": "1e7ed93d",
   "metadata": {},
   "source": [
    "## MR"
   ]
  },
  {
   "cell_type": "code",
   "execution_count": null,
   "id": "9db581e2",
   "metadata": {},
   "outputs": [],
   "source": [
    "K2440.output(1)\n",
    "sleep(2)\n",
    "magnet_y.field(-0.1)\n",
    "sleep(5)\n",
    "#K2440.output(1)\n",
    "appl_current(1e-7)\n",
    "sleep(5)\n",
    "\n",
    "# station.snapshot(update=True);\n",
    "\n",
    "exp = qc.new_experiment('I vs By_MR', sample_name='072_14IVf_25_24_29_29_By_+-0.1T_MR_for')\n",
    "\n",
    "dataid = do1d(magnet_y.field, -0.1, 0.1, 71 , 1, meas_voltage_K2)\n",
    "\n",
    "appl_current(0)\n",
    "K2440.output(0)\n",
    "#K2440.output(0)\n",
    "magnet_y.field(0)\n",
    "\n",
    "plot_by_id(dataid)"
   ]
  },
  {
   "cell_type": "markdown",
   "id": "55fd3a3b",
   "metadata": {},
   "source": [
    "## IV w/Bz"
   ]
  },
  {
   "cell_type": "code",
   "execution_count": null,
   "id": "e76653c7",
   "metadata": {},
   "outputs": [],
   "source": [
    "K2440.output(1)\n",
    "DMM6500.averaging_count(10)\n",
    "#DMM6500.averaging_enabled(False)\n",
    "\n",
    "sleep(2)\n",
    "magnet_z.field(0e-3)\n",
    "appl_current(-2e-7)\n",
    "sleep(30)\n",
    "\n",
    "# station.snapshot(update=True);\n",
    "exp = qc.new_experiment('I vs V', sample_name='IV_w/_f_Bz@0mT_forward_Avg10')\n",
    "\n",
    "#do1d(param_set, start, stop, num_points, delay, *param_meas)\n",
    "dataid = do1d(appl_current, -2e-7 ,2e-7, 201, 0.05, meas_voltage_K2)\n",
    "# dataid = do1d(appl_current, 6e-6 , -6e-6, 251, 0.01, meas_voltage_K1)\n",
    "# ivvi.set_dacs_zero()\n",
    "\n",
    "appl_current(0)\n",
    "plot_by_id(dataid)\n",
    "# print(get_R_from_IV(dataid))\n",
    "#print(get_R_from_IV_2(dataid))\n",
    "\n",
    "K2440.output(0)"
   ]
  },
  {
   "cell_type": "markdown",
   "id": "d0274abc",
   "metadata": {},
   "source": [
    "# Zero everything"
   ]
  },
  {
   "cell_type": "code",
   "execution_count": null,
   "id": "a0cc99f2",
   "metadata": {},
   "outputs": [],
   "source": [
    "appl_current(0)\n",
    "appl_TG(0)\n",
    "magnet_y.field(0)\n",
    "sleep(5)\n",
    "magnet_x.field(0)\n",
    "sleep(5)\n",
    "magnet_z.field(0)\n",
    "sleep(5)\n",
    "#appl_voltage_AC(0.004)\n",
    "#SGS.off()\n",
    "K2440.output(0)"
   ]
  },
  {
   "cell_type": "code",
   "execution_count": null,
   "id": "cb8bf175",
   "metadata": {},
   "outputs": [],
   "source": [
    "appl_current(0)"
   ]
  },
  {
   "cell_type": "markdown",
   "id": "6610bce1",
   "metadata": {},
   "source": [
    "# Gate simple sweeps"
   ]
  },
  {
   "cell_type": "markdown",
   "id": "c010fbad",
   "metadata": {},
   "source": [
    "## 加TG (2D)"
   ]
  },
  {
   "cell_type": "code",
   "execution_count": null,
   "id": "6d7e9bf6",
   "metadata": {},
   "outputs": [],
   "source": [
    "appl_current(0)\n",
    "sleep(1)\n",
    "appl_TG(0)\n",
    "sleep(5)"
   ]
  },
  {
   "cell_type": "code",
   "execution_count": null,
   "id": "be01663b",
   "metadata": {},
   "outputs": [],
   "source": [
    "magnet_x.field(-0.044e-3)\n",
    "sleep(10)\n",
    "magnet_y.field(-6.016e-3)\n",
    "sleep(10)"
   ]
  },
  {
   "cell_type": "code",
   "execution_count": null,
   "id": "5397630e",
   "metadata": {},
   "outputs": [],
   "source": [
    "K2440.output(1)\n",
    "K2440.output(1)\n",
    "appl_TG(-30)\n",
    "sleep(5)\n",
    "appl_current(-1.5e-8)\n",
    "sleep(1)\n",
    "\n",
    "exp = qc.new_experiment('I_vs_Vgate_up', sample_name='33_32_30_31_1M_TG21')\n",
    "dataid = do2d(appl_TG, -30, 30, 301, 0.5, appl_current, -1.5e-8, 1.5e-8, 101, 0.1, meas_voltage_K2)\n",
    "\n",
    "appl_TG(0)\n",
    "sleep(5)\n",
    "appl_current(0e-7)\n",
    "sleep(5)\n",
    "\n",
    "K2440.output(0)\n",
    "K2440.output(0)\n",
    "\n",
    "plot_by_id(dataid)"
   ]
  },
  {
   "cell_type": "markdown",
   "id": "5375fb6f",
   "metadata": {},
   "source": [
    "# RF"
   ]
  },
  {
   "cell_type": "markdown",
   "id": "596beaf8",
   "metadata": {},
   "source": [
    "## I vs RF_f"
   ]
  },
  {
   "cell_type": "markdown",
   "id": "a6df9a13",
   "metadata": {},
   "source": [
    "### sensitive check"
   ]
  },
  {
   "cell_type": "code",
   "execution_count": null,
   "id": "017ed644",
   "metadata": {},
   "outputs": [],
   "source": [
    "SGS.power()\n",
    "SGS.frequency()"
   ]
  },
  {
   "cell_type": "code",
   "execution_count": null,
   "id": "e0b8db4e",
   "metadata": {},
   "outputs": [],
   "source": [
    "SGS.on()"
   ]
  },
  {
   "cell_type": "code",
   "execution_count": null,
   "id": "cc145b47",
   "metadata": {},
   "outputs": [],
   "source": [
    "SGS.off()"
   ]
  },
  {
   "cell_type": "code",
   "execution_count": null,
   "id": "6141349d",
   "metadata": {},
   "outputs": [],
   "source": [
    "magnet_x.field(0.4e-3)\n",
    "sleep(10)\n",
    "magnet_y.field(2.53e-3)\n",
    "sleep(10)"
   ]
  },
  {
   "cell_type": "code",
   "execution_count": null,
   "id": "2fd35fd0",
   "metadata": {},
   "outputs": [],
   "source": [
    "DMM6500.averaging_count(5)\n",
    "DMM6500.averaging_enabled(False)"
   ]
  },
  {
   "cell_type": "markdown",
   "id": "2d27c6f3",
   "metadata": {},
   "source": [
    "### I vs RF_f (1D)"
   ]
  },
  {
   "cell_type": "code",
   "execution_count": null,
   "id": "c3ec00d7",
   "metadata": {
    "scrolled": false
   },
   "outputs": [],
   "source": [
    "SGS.off()\n",
    "exp = qc.new_experiment('I-RF_f', sample_name='103-06_J2_12-13-14-15_1M_@0mT')\n",
    "SGS.power(0)\n",
    "SGS.frequency(0.1e9)\n",
    "SGS.on()\n",
    "sleep(1)\n",
    "DMM6500.averaging_count(5)\n",
    "DMM6500.averaging_enabled(False)\n",
    "K2440.output(1)\n",
    "\n",
    "appl_current(0.4e-6)\n",
    "#appl_TG(10)\n",
    "# magnet_x.field(0.4e-3)\n",
    "# magnet_y.field(2.53e-3)\n",
    "\n",
    "dataid = do1d(SGS.frequency, 11.4e9, 12.2e9, 201, 0.1, meas_voltage_K2)\n",
    "appl_current(0)\n",
    "SGS.off()\n",
    "K2440.output(0)\n",
    "plot_by_id(dataid)\n"
   ]
  },
  {
   "cell_type": "markdown",
   "id": "3e250e53",
   "metadata": {},
   "source": [
    "### I vs RF_f (2D)"
   ]
  },
  {
   "cell_type": "code",
   "execution_count": null,
   "id": "3734095d",
   "metadata": {},
   "outputs": [],
   "source": [
    "SGS.off()"
   ]
  },
  {
   "cell_type": "code",
   "execution_count": null,
   "id": "ccc9ea2f",
   "metadata": {},
   "outputs": [],
   "source": [
    "SGS.off()\n",
    "SGS.power(0)\n",
    "SGS.frequency(0.1e9)\n",
    "SGS.on()\n",
    "DMM6500.averaging_count(1)\n",
    "DMM6500.averaging_enabled(False)\n",
    "K2440.output(1)\n",
    "\n",
    "I_range = 8e-6\n",
    "appl_current(-I_range)\n",
    "#appl_TG(-10)\n",
    "# magnet_x.field(0.4e-3)\n",
    "# magnet_y.field(2.53e-3)\n",
    "# sleep(1)\n",
    "\n",
    "# station.snapshot(update=True);\n",
    "exp = qc.new_experiment('IV-RF_f', sample_name=f'103-03_J2_27-26-30-31M(32G-33G-28G-29G)_1M_RF@0dBm_By@0.1mT')\n",
    "\n",
    "#do1d(param_set, start, stop, num_points, delay, *param_meas)\n",
    "dataid = do2d(SGS.frequency, 1e9, 20e9, 191, 0.0001, appl_current,-I_range ,I_range, 201, 0.0001, meas_voltage_K2)\n",
    "# dataid = do1d(appl_current, 6e-6 , -6e-6, 251, 0.01, meas_voltage_K1)\n",
    "# ivvi.set_dacs_zero()\n",
    "K2440.output(0)\n",
    "SGS.off()\n",
    "appl_current(0)\n",
    "plot_by_id(dataid)\n",
    "save_path = r\"D:\\data\\Albert\\103\\Plot\\104_{}.png\".format(dataid)  # Path to save the plot image\n",
    "autosave_plot_by_id(dataid, save_path)"
   ]
  },
  {
   "cell_type": "code",
   "execution_count": null,
   "id": "3426a3bd",
   "metadata": {},
   "outputs": [],
   "source": [
    "SGS.off()\n",
    "SGS.power(20)\n",
    "SGS.frequency(0.1e9)\n",
    "SGS.on()\n",
    "DMM6500.averaging_count(1)\n",
    "DMM6500.averaging_enabled(False)\n",
    "K2440.output(1)\n",
    "\n",
    "I_range = 6e-6\n",
    "appl_current(-I_range)\n",
    "#appl_TG(-10)\n",
    "# magnet_x.field(0.4e-3)\n",
    "# magnet_y.field(2.53e-3)\n",
    "# sleep(1)\n",
    "\n",
    "# station.snapshot(update=True);\n",
    "exp = qc.new_experiment('IV-RF_f', sample_name=f'103-03_J2_27-26-30-31M(32G-33G-28G-29G)_1M_RF@-10dBm_By@0.1mT')\n",
    "\n",
    "#do1d(param_set, start, stop, num_points, delay, *param_meas)\n",
    "dataid = do2d(SGS.frequency, 1e9, 20e9, 191, 0.0001, appl_current,-I_range ,I_range, 201, 0.0001, meas_voltage_K2)\n",
    "# dataid = do1d(appl_current, 6e-6 , -6e-6, 251, 0.01, meas_voltage_K1)\n",
    "# ivvi.set_dacs_zero()\n",
    "K2440.output(0)\n",
    "SGS.off()\n",
    "appl_current(0)\n",
    "plot_by_id(dataid)\n",
    "save_path = r\"D:\\data\\Albert\\103\\Plot\\104_{}.png\".format(dataid)  # Path to save the plot image\n",
    "autosave_plot_by_id(dataid, save_path)"
   ]
  },
  {
   "cell_type": "code",
   "execution_count": null,
   "id": "9f9dbd53",
   "metadata": {},
   "outputs": [],
   "source": [
    "SGS.off()\n",
    "SGS.power(20)\n",
    "SGS.frequency(5.9e9)\n",
    "SGS.on()\n",
    "DMM6500.averaging_count(1)\n",
    "DMM6500.averaging_enabled(False)\n",
    "K2440.output(1)\n",
    "\n",
    "I_range = 6e-6\n",
    "appl_current(-I_range)\n",
    "#appl_TG(-10)\n",
    "# magnet_x.field(0.4e-3)\n",
    "# magnet_y.field(2.53e-3)\n",
    "# sleep(1)\n",
    "\n",
    "# station.snapshot(update=True);\n",
    "exp = qc.new_experiment('IV-RF_f', sample_name=f'103-03_J2_27-26-30-31M(32G-33G-28G-29G)_1M_RF@20dBm_By@0.1mT')\n",
    "\n",
    "#do1d(param_set, start, stop, num_points, delay, *param_meas)\n",
    "dataid = do2d(SGS.frequency, 5.9e9, 6.0e9, 251, 0.0001, appl_current,-I_range ,I_range, 501, 0.0001, meas_voltage_K2)\n",
    "# dataid = do1d(appl_current, 6e-6 , -6e-6, 251, 0.01, meas_voltage_K1)\n",
    "# ivvi.set_dacs_zero()\n",
    "K2440.output(0)\n",
    "SGS.off()\n",
    "appl_current(0)\n",
    "plot_by_id(dataid)\n",
    "save_path = r\"D:\\data\\Albert\\103\\Plot\\104_{}.png\".format(dataid)  # Path to save the plot image\n",
    "autosave_plot_by_id(dataid, save_path)\n"
   ]
  },
  {
   "cell_type": "code",
   "execution_count": null,
   "id": "862b770b",
   "metadata": {},
   "outputs": [],
   "source": [
    "SGS.off()\n",
    "SGS.power(20)\n",
    "SGS.frequency(5.535e9)\n",
    "SGS.on()\n",
    "DMM6500.averaging_count(1)\n",
    "DMM6500.averaging_enabled(False)\n",
    "K2440.output(1)\n",
    "\n",
    "I_range = 6e-6\n",
    "appl_current(-I_range)\n",
    "#appl_TG(-10)\n",
    "# magnet_x.field(0.4e-3)\n",
    "# magnet_y.field(2.53e-3)\n",
    "# sleep(1)\n",
    "\n",
    "# station.snapshot(update=True);\n",
    "exp = qc.new_experiment('IV-RF_f', sample_name=f'103-03_J2_27-26-30-31M(32G-33G-28G-29G)_1M_RF@20dBm_By@0.1mT')\n",
    "\n",
    "#do1d(param_set, start, stop, num_points, delay, *param_meas)\n",
    "dataid = do2d(SGS.frequency, 5.535e9, 5.585e9, 251, 0.0001, appl_current,-I_range ,I_range, 501, 0.0001, meas_voltage_K2)\n",
    "# dataid = do1d(appl_current, 6e-6 , -6e-6, 251, 0.01, meas_voltage_K1)\n",
    "# ivvi.set_dacs_zero()\n",
    "K2440.output(0)\n",
    "SGS.off()\n",
    "appl_current(0)\n",
    "plot_by_id(dataid)\n",
    "save_path = r\"D:\\data\\Albert\\103\\Plot\\104_{}.png\".format(dataid)  # Path to save the plot image\n",
    "autosave_plot_by_id(dataid, save_path)\n"
   ]
  },
  {
   "cell_type": "code",
   "execution_count": null,
   "id": "d76f7ea2",
   "metadata": {},
   "outputs": [],
   "source": [
    "SGS.off()\n",
    "SGS.power(20)\n",
    "SGS.frequency(0.1e9)\n",
    "SGS.on()\n",
    "DMM6500.averaging_count(1)\n",
    "DMM6500.averaging_enabled(False)\n",
    "K2440.output(1)\n",
    "\n",
    "I_range = 6e-6\n",
    "appl_current(-I_range)\n",
    "SGS_power = SGS.power()\n",
    "#appl_TG(-10)\n",
    "# magnet_x.field(0.4e-3)\n",
    "# magnet_y.field(2.53e-3)\n",
    "# sleep(1)\n",
    "\n",
    "# station.snapshot(update=True);\n",
    "exp = qc.new_experiment('IV-RF_f', sample_name=f'103-03_J2_27-26-30-31M(32G-33G-28G-29G)_1M_RF@{SGS_power}dBm_By@0.1mT')\n",
    "\n",
    "#do1d(param_set, start, stop, num_points, delay, *param_meas)\n",
    "dataid = do2d(SGS.frequency, 3.9e9, 6.9e9, 301, 0.0001, appl_current,-I_range ,I_range, 251, 0.0001, meas_voltage_K2)\n",
    "# dataid = do1d(appl_current, 6e-6 , -6e-6, 251, 0.01, meas_voltage_K1)\n",
    "# ivvi.set_dacs_zero()\n",
    "K2440.output(0)\n",
    "SGS.off()\n",
    "appl_current(0)\n",
    "plot_by_id(dataid)\n",
    "save_path = r\"D:\\data\\Albert\\103\\Plot\\104_{}.png\".format(dataid)  # Path to save the plot image\n",
    "autosave_plot_by_id(dataid, save_path)"
   ]
  },
  {
   "cell_type": "code",
   "execution_count": null,
   "id": "28992f6f",
   "metadata": {},
   "outputs": [],
   "source": [
    "appl_current(0)\n",
    "#appl_TG(0)\n",
    "magnet_y.field(0)\n",
    "sleep(2)\n",
    "magnet_x.field(0)\n",
    "sleep(2)\n",
    "#appl_voltage_AC(0.004)\n",
    "SGS.off()"
   ]
  },
  {
   "cell_type": "markdown",
   "id": "65c9a40a",
   "metadata": {},
   "source": [
    "## IV vs RF_f"
   ]
  },
  {
   "cell_type": "markdown",
   "id": "b285efb3",
   "metadata": {},
   "source": [
    "### Shapiro steps "
   ]
  },
  {
   "cell_type": "code",
   "execution_count": null,
   "id": "3a180ee1",
   "metadata": {
    "scrolled": true
   },
   "outputs": [],
   "source": [
    "SGS.off()\n",
    "SGS.power(-10)\n",
    "SGS.frequency(11.725e9)\n",
    "SGS.on()\n",
    "DMM6500.averaging_count(5)\n",
    "DMM6500.averaging_enabled(False)\n",
    "K2440.output(1)\n",
    "\n",
    "appl_current(-2e-7)\n",
    "#appl_TG(-10)\n",
    "#magnet_x.field(0.23e-3)\n",
    "#magnet_y.field(1.41e-3)\n",
    "# sleep(1)\n",
    "\n",
    "# station.snapshot(update=True);\n",
    "exp = qc.new_experiment('IV-RF_f', sample_name=f'103-03_J2_27-26-30-31M(32G-33G-28G-29G)_1M_By@0.1mT{-I_range}')\n",
    "\n",
    "#do1d(param_set, start, stop, num_points, delay, *param_meas)\"\"\n",
    "dataid = do1d(appl_current,-2e-7 ,2e-7, 101, 0.05,  meas_voltage_K2)\n",
    "# dataid = do1d(appl_current, 6e-6 , -6e-6, 251, 0.01, meas_voltage_K1)\n",
    "# ivvi.set_dacs_zero()\n",
    "K2440.output(0)\n",
    "SGS.off()\n",
    "appl_current(0)\n",
    "plot_by_id(dataid)\n",
    "# print(get_R_from_IV(dataid))\n",
    "#print(get_R_from_IV_2(dataid))"
   ]
  },
  {
   "cell_type": "code",
   "execution_count": null,
   "id": "51fe069b",
   "metadata": {},
   "outputs": [],
   "source": [
    "SGS.off()\n",
    "SGS.power(0)\n",
    "SGS.frequency(3.87e9)\n",
    "SGS.on()\n",
    "DMM6500.averaging_count(5)\n",
    "DMM6500.averaging_enabled(False)\n",
    "K2440.output(1)\n",
    "\n",
    "appl_current(-1.2e-6)\n",
    "#appl_TG(-10)\n",
    "magnet_y.field(-10e-3)\n",
    "\n",
    "#magnet_y.field(1.41e-3)\n",
    "# sleep(1)\n",
    "\n",
    "# station.snapshot(update=True);\n",
    "exp = qc.new_experiment('Bx vs RF_f', sample_name='By vs RF_f_J2_3.87_-10dB')\n",
    "\n",
    "#do1d(param_set, start, stop, num_points, delay, *param_meas)\"\"\n",
    "dataid = do2d(magnet_y.field, -10e-3, 10e-3,701, 1, appl_current,-1.2e-6 ,1.2e-6, 101, 0.05,  meas_voltage_K2)\n",
    "# dataid = do1d(appl_current, 6e-6 , -6e-6, 251, 0.01, meas_voltage_K1)\n",
    "# ivvi.set_dacs_zero()\n",
    "K2440.output(0)\n",
    "SGS.off()\n",
    "appl_current(0)\n",
    "plot_by_id(dataid)\n",
    "# print(get_R_from_IV(dataid))\n",
    "#print(get_R_from_IV_2(dataid))"
   ]
  },
  {
   "cell_type": "code",
   "execution_count": null,
   "id": "5488e4c5",
   "metadata": {},
   "outputs": [],
   "source": [
    "appl_current(0)\n",
    "#appl_TG(0)\n",
    "magnet_y.field(0)\n",
    "sleep(10)\n",
    "magnet_x.field(0)\n",
    "sleep(10)\n",
    "#appl_voltage_AC(0.004)\n",
    "SGS.off()"
   ]
  },
  {
   "cell_type": "markdown",
   "id": "04e50dcd",
   "metadata": {},
   "source": [
    "## IV vs Power Dependence"
   ]
  },
  {
   "cell_type": "code",
   "execution_count": null,
   "id": "0368ef58",
   "metadata": {},
   "outputs": [],
   "source": [
    "SGS.off()"
   ]
  },
  {
   "cell_type": "code",
   "execution_count": null,
   "id": "3d6eab35",
   "metadata": {},
   "outputs": [],
   "source": [
    "SGS.power(-40)"
   ]
  },
  {
   "cell_type": "code",
   "execution_count": null,
   "id": "d760383a",
   "metadata": {},
   "outputs": [],
   "source": [
    "SGS.off()"
   ]
  },
  {
   "cell_type": "code",
   "execution_count": null,
   "id": "f0984a37",
   "metadata": {
    "scrolled": true
   },
   "outputs": [],
   "source": [
    "SGS.off()\n",
    "SGS.power(-20)\n",
    "SGS.frequency(5.9534e9)\n",
    "SGS_frequency = SGS.frequency()\n",
    "SGS.on()\n",
    "DMM6500.averaging_count(3)\n",
    "DMM6500.averaging_enabled(False)\n",
    "K2440.output(1)\n",
    "\n",
    "#magnet_x.field(15e-3)\n",
    "#sleep(5)\n",
    "I_range = 6e-6\n",
    "appl_current(-I_range)\n",
    "#appl_TG(-30)\n",
    "sleep(2)\n",
    "\n",
    "# station.snapshot(update=True);\n",
    "exp = qc.new_experiment('IV-RF_p', sample_name=f'103-03_J2_27-26-30-31M(32G-33G-28G-29G)_1M_RF@{SGS_frequency*1e-9:.4f}GHz_By@0.1mT')\n",
    "\n",
    "#do1d(param_set, start, stop, num_points, delay, *param_meas)\n",
    "\n",
    "dataid = do2d(SGS.power,10, 15, 51, 0.1, appl_current,-I_range ,I_range, 301, 0.00001, meas_voltage_K2)\n",
    "# dataid = do1d(appl_current, 6e-6 , -6e-6, 251, 0.01, meas_voltage_K1)\n",
    "# ivvi.set_dacs_zero()\n",
    "\n",
    "SGS.off()\n",
    "appl_current(0)\n",
    "K2440.output()\n",
    "plot_by_id(dataid)\n",
    "\n",
    "# print(get_R_from_IV(dataid))\n",
    "print(get_R_from_IV_2(dataid))"
   ]
  },
  {
   "cell_type": "code",
   "execution_count": null,
   "id": "de3fc621",
   "metadata": {},
   "outputs": [],
   "source": [
    "SGS.off()\n",
    "SGS.power(-25)\n",
    "SGS.frequency(5.226e9)\n",
    "SGS.on()\n",
    "DMM6500.averaging_count(5)\n",
    "DMM6500.averaging_enabled(True)\n",
    "K2440.output(1)\n",
    "\n",
    "magnet_y.field(-8e-3)\n",
    "sleep(60)\n",
    "appl_current(-2e-7)\n",
    "#appl_TG(-30)\n",
    "sleep(2)\n",
    "\n",
    "# station.snapshot(update=True);\n",
    "exp = qc.new_experiment('IV vs power dependence', sample_name='IV vs PD_5.226_By:-8mT')\n",
    "\n",
    "#do1d(param_set, start, stop, num_points, delay, *param_meas)\n",
    "\n",
    "dataid = do2d(SGS.power,-25, 10, 101, 20, appl_current,-2e-7 ,2e-7, 101, 0.05, meas_voltage_K2)\n",
    "# dataid = do1d(appl_current, 6e-6 , -6e-6, 251, 0.01, meas_voltage_K1)\n",
    "# ivvi.set_dacs_zero()\n",
    "\n",
    "SGS.off()\n",
    "appl_current(0)\n",
    "K2440.output()\n",
    "plot_by_id(dataid)\n",
    "\n",
    "# print(get_R_from_IV(dataid))\n",
    "print(get_R_from_IV_2(dataid))"
   ]
  },
  {
   "cell_type": "markdown",
   "id": "13e12840",
   "metadata": {},
   "source": [
    "### PD vs frequency_IV loop (not yet)"
   ]
  },
  {
   "cell_type": "code",
   "execution_count": null,
   "id": "8659ae09",
   "metadata": {
    "code_folding": []
   },
   "outputs": [],
   "source": [
    "frequencies = [3.248, 3.387, 5.677]\n",
    "power_levels = [-20, 0, 25]\n",
    "     \n",
    "SGS.off()\n",
    "SGS.power(-20)\n",
    "SGS.frequency(3.387e9)\n",
    "SGS.on()\n",
    "DMM6500.averaging_count(5)\n",
    "DMM6500.averaging_enabled(True)\n",
    "K2440.output(1)\n",
    "\n",
    "appl_current(-2e-6)\n",
    "#appl_TG(-10)\n",
    "sleep(1)\n",
    "\n",
    "for freq in frequencies:\n",
    "    SGS.frequency(freq)\n",
    "    for power_level in power_levels:\n",
    "        SGS.power(power_level)\n",
    "\n",
    "# station.snapshot(update=True);\n",
    "exp = qc.new_experiment('IV vs power dependence', sample_name='IV vs PD_J2_3.387_m20')\n",
    "dataid = do2d(SGS.power, 4, 8, 100, 2, appl_current, -1e-6, 1e-6, 101, 0.05, meas_voltage_K2)\n",
    "\n",
    " # 關閉設備，並在需要時列印或繪製結果\n",
    "SGS.off()\n",
    "appl_current(0)\n",
    "K2440.output()\n",
    "plot_by_id(dataid)\n",
    "    \n",
    "print(f\"頻率：{freq} Hz，功率水平：{power_level} dB\")\n",
    "print(get_R_from_IV_2(dataid))\n"
   ]
  },
  {
   "cell_type": "markdown",
   "id": "5c2101a5",
   "metadata": {},
   "source": [
    "## IV vs Vgate"
   ]
  },
  {
   "cell_type": "code",
   "execution_count": null,
   "id": "48eb3a89",
   "metadata": {},
   "outputs": [],
   "source": [
    "appl_current(0)\n",
    "appl_TG(0)\n",
    "magnet_y.field(0)\n",
    "sleep(10)\n",
    "magnet_x.field(0)\n",
    "sleep(10)\n",
    "appl_voltage_AC(0.004)\n",
    "SGS.off()"
   ]
  },
  {
   "cell_type": "code",
   "execution_count": null,
   "id": "5deaef19",
   "metadata": {},
   "outputs": [],
   "source": [
    "SGS.off()\n",
    "SGS.power(25)\n",
    "SGS.frequency(4.83e9)\n",
    "SGS.on()\n",
    "DMM6500.averaging_count(5)\n",
    "DMM6500.averaging_enabled(True)\n",
    "appl_current(-0.4e-7)\n",
    "appl_current_AC(0.1e-10)\n",
    "\n",
    "appl_TG(-10)\n",
    "sleep(1)\n",
    "\n",
    "# station.snapshot(update=True);\n",
    "exp = qc.new_experiment('IV vs Vgate', sample_name='IV vs Vg')\n",
    "\n",
    "dataid = do2d(appl_TG, -10, 10, 751, 0.5, appl_current, -0.4e-7, 0.4e-7, 101, 0.01, meas_voltage_AC_L1, meas_voltage_AC_L1_P, meas_voltage_K2)\n",
    "# dataid = do1d(appl_current, 6e-6 , -6e-6, 251, 0.01, meas_voltage_K1)\n",
    "# ivvi.set_dacs_zero()\n",
    "SGS.off()\n",
    "appl_current(0)\n",
    "plot_by_id(dataid)\n",
    "# print(get_R_from_IV(dataid))\n",
    "#print(get_R_from_IV_2(dataid))"
   ]
  },
  {
   "cell_type": "code",
   "execution_count": null,
   "id": "6bbd39fb",
   "metadata": {},
   "outputs": [],
   "source": [
    "appl_current(0)\n",
    "appl_TG(0)\n",
    "magnet_y.field(0)\n",
    "sleep(10)\n",
    "magnet_x.field(0)\n",
    "sleep(10)\n",
    "appl_voltage_AC(0.004)\n",
    "SGS.off()"
   ]
  },
  {
   "cell_type": "code",
   "execution_count": null,
   "id": "00d4b770",
   "metadata": {},
   "outputs": [],
   "source": [
    "import matplotlib.pyplot as plt\n",
    "import numpy as np\n",
    "\n",
    "# Constants\n",
    "k = 8.617333262145e-5  # Boltzmann constant in eV/K\n",
    "E_a = 0.5  # Example value for the activation energy in eV\n",
    "p_0 = 1.0  # Example value for p0\n",
    "\n",
    "# Create an array of temperatures from 100 to 1000 K\n",
    "temperatures = np.linspace(100, 1000, 50)\n",
    "\n",
    "# Calculate 1/T\n",
    "inverse_temperatures = 1 / temperatures\n",
    "\n",
    "# Calculate ln(p)\n",
    "ln_p = np.log(p_0) - (E_a / k) * inverse_temperatures\n",
    "\n",
    "# Plotting\n",
    "plt.figure(figsize=(8, 6))\n",
    "plt.plot(inverse_temperatures, ln_p, marker='o', linestyle='-')\n",
    "plt.xlabel('1/T (1/K)')\n",
    "plt.ylabel('ln(p)')\n",
    "plt.title('ln(p) vs 1/T for Hole Concentration')\n",
    "plt.grid(True)\n",
    "plt.show()\n"
   ]
  },
  {
   "cell_type": "code",
   "execution_count": null,
   "id": "f610e7bc",
   "metadata": {},
   "outputs": [],
   "source": []
  }
 ],
 "metadata": {
  "kernelspec": {
   "display_name": "qcodes",
   "language": "python",
   "name": "python3"
  },
  "language_info": {
   "codemirror_mode": {
    "name": "ipython",
    "version": 3
   },
   "file_extension": ".py",
   "mimetype": "text/x-python",
   "name": "python",
   "nbconvert_exporter": "python",
   "pygments_lexer": "ipython3",
   "version": "3.11.3"
  },
  "toc": {
   "base_numbering": 1,
   "nav_menu": {},
   "number_sections": true,
   "sideBar": false,
   "skip_h1_title": false,
   "title_cell": "Table of Contents",
   "title_sidebar": "Contents",
   "toc_cell": false,
   "toc_position": {
    "height": "783px",
    "left": "260px",
    "top": "67.125px",
    "width": "182px"
   },
   "toc_section_display": true,
   "toc_window_display": true
  }
 },
 "nbformat": 4,
 "nbformat_minor": 5
}
