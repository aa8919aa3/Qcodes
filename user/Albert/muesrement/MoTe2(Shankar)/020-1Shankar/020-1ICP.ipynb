{
 "cells": [
  {
   "cell_type": "markdown",
   "id": "256e0f19",
   "metadata": {},
   "source": [
    "# Initialization"
   ]
  },
  {
   "cell_type": "markdown",
   "id": "9d160fe4",
   "metadata": {},
   "source": [
    "## Inport modules"
   ]
  },
  {
   "cell_type": "code",
   "execution_count": 1,
   "id": "ccc72f99",
   "metadata": {},
   "outputs": [],
   "source": [
    "\n",
    "import os, sys\n",
    "def find_qcodes_local_dir():\n",
    "    dirpath = os.getcwd()\n",
    "    while True:\n",
    "        dirpath, folder_name = os.path.split(dirpath)\n",
    "        if folder_name == 'QCoDeS_local':\n",
    "            return os.path.join(dirpath, folder_name)\n",
    "        if not folder_name:  # Reached the root directory\n",
    "            return None\n",
    "qcodes_local_dir = find_qcodes_local_dir()\n",
    "sys.path.append(f'{qcodes_local_dir}')"
   ]
  },
  {
   "cell_type": "code",
   "execution_count": null,
   "id": "b000c48f",
   "metadata": {},
   "outputs": [],
   "source": [
    "import os, sys\n",
    "\n",
    "def find_qcodes_local_dir():\n",
    "    dirpath = os.getcwd()\n",
    "    while True:\n",
    "        dirpath, folder_name = os.path.split(dirpath)\n",
    "        if folder_name == 'QCoDeS_local':\n",
    "            return os.path.join(dirpath, folder_name)\n",
    "        if not folder_name:  # Reached the root directory\n",
    "            return None\n",
    "\n",
    "qcodes_local_dir = find_qcodes_local_dir()\n",
    "if qcodes_local_dir:\n",
    "    sys.path.append(qcodes_local_dir)\n",
    "    drivers_path = os.path.join(qcodes_local_dir, 'drivers')\n",
    "    sys.path.append(drivers_path)\n",
    "    fridge_specific_path = os.path.join(qcodes_local_dir, 'fridge_specific')\n",
    "    sys.path.append(fridge_specific_path)\n",
    "    # 檢查 init_BF1.py 是否存在於 fridge_specific 資料夾中\n",
    "    init_bf1_path = os.path.join(fridge_specific_path, 'init_BF1.py')\n",
    "    if os.path.isfile(init_bf1_path):\n",
    "        print(f\"Found init_BF1.py at: {init_bf1_path}\")\n",
    "        exec(open(f'{init_bf1_path}').read())  \n",
    "    else:\n",
    "        print(\"init_BF1.py not found in fridge_specific folder.\")\n",
    "\n",
    "# print(sys.path)"
   ]
  },
  {
   "cell_type": "code",
   "execution_count": null,
   "id": "8473e9a5",
   "metadata": {},
   "outputs": [],
   "source": [
    "exec(open('init_station_BF1.py').read())"
   ]
  },
  {
   "cell_type": "code",
   "execution_count": null,
   "id": "e28fee61",
   "metadata": {},
   "outputs": [],
   "source": [
    "import os\n",
    "\n",
    "# 獲取當前路徑\n",
    "dirpath = os.getcwd()\n",
    "\n",
    "# 獲取父資料夾路徑\n",
    "parent_dirpath = os.path.dirname(dirpath)\n",
    "\n",
    "# 獲取父父資料夾路徑\n",
    "grandparent_dirpath = os.path.dirname(parent_dirpath)\n",
    "\n",
    "print(\"當前路徑:\", dirpath)\n",
    "print(\"父資料夾路徑:\", parent_dirpath)\n",
    "print(\"父父資料夾路徑:\", grandparent_dirpath)"
   ]
  },
  {
   "cell_type": "code",
   "execution_count": null,
   "id": "64004fe7",
   "metadata": {},
   "outputs": [],
   "source": [
    "import os\n",
    "\n",
    "def find_init_py():\n",
    "    dirpath = os.getcwd()\n",
    "    while True:\n",
    "        init_py_path = os.path.join(dirpath, 'init.py')\n",
    "        if os.path.isfile(init_py_path):\n",
    "            return init_py_path\n",
    "        new_dirpath, _ = os.path.split(dirpath)\n",
    "        if new_dirpath == dirpath:  # Reached the root directory\n",
    "            return None\n",
    "        dirpath = new_dirpath\n",
    "\n",
    "init_py_path = find_init_py()\n",
    "%run '{init_py_path}'"
   ]
  },
  {
   "cell_type": "code",
   "execution_count": 1,
   "id": "88979d6d",
   "metadata": {},
   "outputs": [
    {
     "name": "stdout",
     "output_type": "stream",
     "text": [
      "Imported all modules, QCoDeS version: 0.39.0 initialized\n"
     ]
    }
   ],
   "source": [
    "%matplotlib ipympl\n",
    "import os, sys\n",
    "import time\n",
    "import pyvisa\n",
    "import warnings\n",
    "import numpy as np\n",
    "import qcodes as qc\n",
    "import plotly.graph_objects as go\n",
    "import matplotlib.pyplot as plt\n",
    "\n",
    "def find_qcodes_local_dir():\n",
    "    dirpath = os.getcwd()\n",
    "    while True:\n",
    "        dirpath, folder_name = os.path.split(dirpath)\n",
    "        if folder_name == 'QCoDeS_local':\n",
    "            return os.path.join(dirpath, folder_name)\n",
    "        if not folder_name:  # Reached the root directory\n",
    "            return None\n",
    "qcodes_local_dir = find_qcodes_local_dir()\n",
    "sys.path.append(f'{qcodes_local_dir}')\n",
    "\n",
    "from tqdm import tqdm\n",
    "from pprint import pprint\n",
    "from time import sleep, monotonic, time\n",
    "from IPython.display import clear_output\n",
    "from qcodes.dataset.measurements import Measurement\n",
    "from qcodes.utils.metadata import diff_param_values\n",
    "from qcodes.dataset.plotting import plot_dataset, plot_by_id\n",
    "from qcodes import Parameter, ManualParameter, ScaledParameter\n",
    "from qcodes.instrument.specialized_parameters import ElapsedTimeParameter\n",
    "from sweeps_v2 import do1d, do2d, time_sweep, measure_until, do1d_until\n",
    "\n",
    "print('Imported all modules, QCoDeS version:', qc.__version__, 'initialized')\n",
    "\n",
    "# warnings.filterwarnings('ignore')"
   ]
  },
  {
   "cell_type": "code",
   "execution_count": 2,
   "id": "399e7806",
   "metadata": {},
   "outputs": [],
   "source": [
    "def find_qcodes_local_dir():\n",
    "    dirpath = os.getcwd()\n",
    "    while True:\n",
    "        dirpath, folder_name = os.path.split(dirpath)\n",
    "        if folder_name == 'QCoDeS_local':\n",
    "            return os.path.join(dirpath, folder_name)\n",
    "        if not folder_name:  # Reached the root directory\n",
    "            return None\n",
    "qcodes_local_dir = find_qcodes_local_dir()"
   ]
  },
  {
   "cell_type": "code",
   "execution_count": 3,
   "id": "fff9a7bd",
   "metadata": {},
   "outputs": [
    {
     "data": {
      "text/plain": [
       "'c:\\\\Users\\\\quant\\\\OneDrive\\\\Documents\\\\GitHub\\\\QCoDeS_local'"
      ]
     },
     "execution_count": 3,
     "metadata": {},
     "output_type": "execute_result"
    }
   ],
   "source": [
    "qcodes_local_dir"
   ]
  },
  {
   "cell_type": "code",
   "execution_count": 4,
   "id": "64ad1e6c",
   "metadata": {},
   "outputs": [
    {
     "data": {
      "text/plain": [
       "'c:\\\\Users\\\\quant\\\\OneDrive\\\\Documents\\\\GitHub\\\\QCoDeS_local\\\\init_fridge.py'"
      ]
     },
     "execution_count": 4,
     "metadata": {},
     "output_type": "execute_result"
    }
   ],
   "source": [
    "def find_init_fridge_py():\n",
    "    for root, dirs, files in os.walk(qcodes_local_dir):\n",
    "        if 'init_fridge.py' in files:\n",
    "            return os.path.join(root, 'init_fridge.py')\n",
    "    return None\n",
    "\n",
    "init_fridge_py_path = find_init_fridge_py()\n",
    "init_fridge_py_path"
   ]
  },
  {
   "cell_type": "code",
   "execution_count": 5,
   "id": "cc4a1c10",
   "metadata": {},
   "outputs": [
    {
     "data": {
      "text/plain": [
       "'c:\\\\Users\\\\quant\\\\OneDrive\\\\Documents\\\\GitHub\\\\QCoDeS_local\\\\init_fridge_v2.py'"
      ]
     },
     "execution_count": 5,
     "metadata": {},
     "output_type": "execute_result"
    }
   ],
   "source": [
    "def find_init_fridge_v2_py():\n",
    "    for root, dirs, files in os.walk(qcodes_local_dir):\n",
    "        if 'init_fridge_v2.py' in files:\n",
    "            return os.path.join(root, 'init_fridge_v2.py')\n",
    "    return None\n",
    "\n",
    "init_fridge_v2_py_path = find_init_fridge_v2_py()\n",
    "init_fridge_v2_py_path"
   ]
  },
  {
   "cell_type": "code",
   "execution_count": 7,
   "id": "c09fa82c",
   "metadata": {},
   "outputs": [
    {
     "name": "stdout",
     "output_type": "stream",
     "text": [
      "Connected to: KEITHLEY INSTRUMENTS DMM6500 (serial:04518052, firmware:1.7.7b) in 0.02s\n"
     ]
    },
    {
     "ename": "KeyError",
     "evalue": "'Another instrument has the name: keithley_1'",
     "output_type": "error",
     "traceback": [
      "\u001b[1;31m---------------------------------------------------------------------------\u001b[0m",
      "\u001b[1;31mKeyError\u001b[0m                                  Traceback (most recent call last)",
      "File \u001b[1;32m~\\OneDrive\\Documents\\GitHub\\QCoDeS_local\\init_fridge.py:33\u001b[0m\n\u001b[0;32m     29\u001b[0m     exec(\u001b[38;5;28mopen\u001b[39m(\u001b[38;5;124m'\u001b[39m\u001b[38;5;124m../../../../../code/fridge_specific/init_CF1400.py\u001b[39m\u001b[38;5;124m'\u001b[39m)\u001b[38;5;241m.\u001b[39mread())\n\u001b[0;32m     30\u001b[0m \u001b[38;5;28;01melif\u001b[39;00m fridge_name \u001b[38;5;241m==\u001b[39m \u001b[38;5;124m'\u001b[39m\u001b[38;5;124mBF1\u001b[39m\u001b[38;5;124m'\u001b[39m:\n\u001b[0;32m     31\u001b[0m \u001b[38;5;66;03m#     exec(open('../fridge_specific/init_BF1.py').read())\u001b[39;00m\n\u001b[1;32m---> 33\u001b[0m     \u001b[43mexec\u001b[49m\u001b[43m(\u001b[49m\u001b[38;5;28;43mopen\u001b[39;49m\u001b[43m(\u001b[49m\u001b[38;5;124;43m'\u001b[39;49m\u001b[38;5;124;43mC:\u001b[39;49m\u001b[38;5;130;43;01m\\\\\u001b[39;49;00m\u001b[38;5;124;43mqcodes\u001b[39;49m\u001b[38;5;130;43;01m\\\\\u001b[39;49;00m\u001b[38;5;124;43mfridge_specific\u001b[39;49m\u001b[38;5;130;43;01m\\\\\u001b[39;49;00m\u001b[38;5;124;43minit_BF1.py\u001b[39;49m\u001b[38;5;124;43m'\u001b[39;49m\u001b[43m)\u001b[49m\u001b[38;5;241;43m.\u001b[39;49m\u001b[43mread\u001b[49m\u001b[43m(\u001b[49m\u001b[43m)\u001b[49m\u001b[43m)\u001b[49m  \n\u001b[0;32m     35\u001b[0m \u001b[38;5;28;01melse\u001b[39;00m:\n\u001b[0;32m     36\u001b[0m     \u001b[38;5;28mprint\u001b[39m(\u001b[38;5;124m'\u001b[39m\u001b[38;5;124mWrong fridge name!\u001b[39m\u001b[38;5;124m'\u001b[39m)\n",
      "File \u001b[1;32m<string>:17\u001b[0m\n",
      "File \u001b[1;32mc:\\Users\\quant\\anaconda3\\envs\\qcodes\\Lib\\site-packages\\qcodes\\instrument\\instrument_meta.py:45\u001b[0m, in \u001b[0;36mInstrumentMeta.__call__\u001b[1;34m(cls, *args, **kwargs)\u001b[0m\n\u001b[0;32m     39\u001b[0m     new_inst\u001b[38;5;241m.\u001b[39mclose()\n\u001b[0;32m     40\u001b[0m     \u001b[38;5;28;01mraise\u001b[39;00m \u001b[38;5;167;01mNotImplementedError\u001b[39;00m(\n\u001b[0;32m     41\u001b[0m         \u001b[38;5;124mf\u001b[39m\u001b[38;5;124m\"\u001b[39m\u001b[38;5;132;01m{\u001b[39;00mnew_inst\u001b[38;5;132;01m}\u001b[39;00m\u001b[38;5;124m has un-implemented Abstract Parameter \u001b[39m\u001b[38;5;124m\"\u001b[39m\n\u001b[0;32m     42\u001b[0m         \u001b[38;5;124mf\u001b[39m\u001b[38;5;124m\"\u001b[39m\u001b[38;5;124mand cannot be initialized\u001b[39m\u001b[38;5;124m\"\u001b[39m\n\u001b[0;32m     43\u001b[0m     )\n\u001b[1;32m---> 45\u001b[0m \u001b[43mnew_inst\u001b[49m\u001b[38;5;241;43m.\u001b[39;49m\u001b[43mrecord_instance\u001b[49m\u001b[43m(\u001b[49m\u001b[43mnew_inst\u001b[49m\u001b[43m)\u001b[49m\n\u001b[0;32m     46\u001b[0m \u001b[38;5;28;01mreturn\u001b[39;00m new_inst\n",
      "File \u001b[1;32mc:\\Users\\quant\\anaconda3\\envs\\qcodes\\Lib\\site-packages\\qcodes\\instrument\\instrument.py:216\u001b[0m, in \u001b[0;36mInstrument.record_instance\u001b[1;34m(cls, instance)\u001b[0m\n\u001b[0;32m    214\u001b[0m existing_instr \u001b[38;5;241m=\u001b[39m \u001b[38;5;28mcls\u001b[39m\u001b[38;5;241m.\u001b[39m_all_instruments\u001b[38;5;241m.\u001b[39mget(name)\n\u001b[0;32m    215\u001b[0m \u001b[38;5;28;01mif\u001b[39;00m existing_instr:\n\u001b[1;32m--> 216\u001b[0m     \u001b[38;5;28;01mraise\u001b[39;00m \u001b[38;5;167;01mKeyError\u001b[39;00m(\u001b[38;5;124mf\u001b[39m\u001b[38;5;124m\"\u001b[39m\u001b[38;5;124mAnother instrument has the name: \u001b[39m\u001b[38;5;132;01m{\u001b[39;00mname\u001b[38;5;132;01m}\u001b[39;00m\u001b[38;5;124m\"\u001b[39m)\n\u001b[0;32m    218\u001b[0m \u001b[38;5;28mcls\u001b[39m\u001b[38;5;241m.\u001b[39m_all_instruments[name] \u001b[38;5;241m=\u001b[39m instance\n\u001b[0;32m    220\u001b[0m \u001b[38;5;66;03m# Then add it to the record for this specific subclass, using ``_type``\u001b[39;00m\n\u001b[0;32m    221\u001b[0m \u001b[38;5;66;03m# to make sure we're not recording it in a base class instance list\u001b[39;00m\n",
      "\u001b[1;31mKeyError\u001b[0m: 'Another instrument has the name: keithley_1'"
     ]
    }
   ],
   "source": [
    "fridge_name = 'BF1'\n",
    "%run \"{init_fridge_py_path}\" {fridge_name}"
   ]
  },
  {
   "cell_type": "code",
   "execution_count": 8,
   "id": "bb19a743",
   "metadata": {},
   "outputs": [
    {
     "name": "stdout",
     "output_type": "stream",
     "text": [
      "Found init_BF1_v2.py at: c:\\Users\\quant\\OneDrive\\Documents\\GitHub\\QCoDeS_local\\fridge_specific\\init_BF1_v2.py\n",
      "Error connecting to TCPIP0::192.168.1.42::inst0::INSTR: VI_ERROR_RSRC_NFOUND (-1073807343): Insufficient location information or the requested device or resource is not present in the system.\n",
      "Error connecting to TCPIP0::192.168.1.42::inst1::INSTR: VI_ERROR_RSRC_NFOUND (-1073807343): Insufficient location information or the requested device or resource is not present in the system.\n",
      "Error connecting to TCPIP0::192.168.1.6::inst0::INSTR: VI_ERROR_RSRC_NFOUND (-1073807343): Insufficient location information or the requested device or resource is not present in the system.\n",
      "Error connecting to TCPIP0::192.168.1.7::inst0::INSTR: VI_ERROR_RSRC_NFOUND (-1073807343): Insufficient location information or the requested device or resource is not present in the system.\n",
      "Device: TCPIP0::ZNB20-64-101393::inst0::INSTR\n",
      "IDN: Rohde-Schwarz,ZNB20-4Port,1334333064101393,3.32\n",
      "\n",
      "Error connecting to ASRL1::INSTR: VI_ERROR_TMO (-1073807339): Timeout expired before operation completed.\n",
      "Error connecting to ASRL2::INSTR: VI_ERROR_TMO (-1073807339): Timeout expired before operation completed.\n",
      "Error connecting to ASRL10::INSTR: VI_ERROR_TMO (-1073807339): Timeout expired before operation completed.\n",
      "Device: GPIB0::6::INSTR\n",
      "IDN: KEITHLEY INSTRUMENTS,MODEL DMM6500,04518052,1.7.7b\n",
      "\n",
      "Connected to: KEITHLEY INSTRUMENTS DMM6500 (serial:04518052, firmware:1.7.7b) in 0.02s\n",
      "Added Keithley DMM6500 at GPIB0::6::INSTR to the station.\n",
      "Device: GPIB0::22::INSTR\n",
      "IDN: KEITHLEY INSTRUMENTS INC.,MODEL 2440,1225508,C30   Mar 17 2006 09:29:29/A02  /B/A\n",
      "\n",
      "Connected to: KEITHLEY INSTRUMENTS INC. 2440 (serial:1225508, firmware:C30   Mar 17 2006 09:29:29/A02  /B/A) in 0.03s\n"
     ]
    },
    {
     "name": "stderr",
     "output_type": "stream",
     "text": [
      "[K2440(Keithley2400)] Snapshot: Could not update parameter: volt\n",
      "[K2440(Keithley2400)] Snapshot: Could not update parameter: curr\n",
      "[K2440(Keithley2400)] Snapshot: Could not update parameter: resistance\n"
     ]
    },
    {
     "name": "stdout",
     "output_type": "stream",
     "text": [
      "Failed to ping 169.254.115.3: [WinError 10049] The requested address is not valid in its context\n",
      "Failed to ping 169.254.115.2: [WinError 10049] The requested address is not valid in its context\n",
      "Failed to ping 169.254.115.1: [WinError 10049] The requested address is not valid in its context\n",
      "One or more pings failed, cannot establish connection to all magnets.\n",
      "\n",
      "Station list:\n",
      "{'DMM6500': <Keithley_6500: DMM6500>, 'K2440': <Keithley2400: K2440>}\n"
     ]
    }
   ],
   "source": [
    "fridge_name = 'BF1'\n",
    "%run \"{init_fridge_v2_py_path}\" {fridge_name}"
   ]
  },
  {
   "cell_type": "code",
   "execution_count": null,
   "id": "c9e134aa",
   "metadata": {},
   "outputs": [],
   "source": [
    "snapshot_of_station = station.snapshot()\n",
    "pprint(snapshot_of_station)"
   ]
  },
  {
   "cell_type": "markdown",
   "id": "4757b159",
   "metadata": {},
   "source": [
    "## Keithley 2440"
   ]
  },
  {
   "cell_type": "markdown",
   "id": "797b994c",
   "metadata": {},
   "source": [
    "### sensitive check"
   ]
  },
  {
   "cell_type": "code",
   "execution_count": null,
   "id": "f387f69b",
   "metadata": {},
   "outputs": [],
   "source": [
    "K2440.mode('VOLT')\n",
    "K2440.mode()"
   ]
  },
  {
   "cell_type": "code",
   "execution_count": 9,
   "id": "09a8a36e",
   "metadata": {},
   "outputs": [
    {
     "name": "stdout",
     "output_type": "stream",
     "text": [
      "-0.0001635408\n"
     ]
    }
   ],
   "source": [
    "K2440.output(1) # output on\n",
    "K2440.rangev(10)\n",
    "K2440.volt(0)\n",
    "K2440.compliancei(100e-3)\n",
    "sleep(1)\n",
    "v_read=DMM6500.amplitude()\n",
    "K2440.output(0) #output off\n",
    "print(v_read)"
   ]
  },
  {
   "cell_type": "markdown",
   "id": "105706bc",
   "metadata": {},
   "source": [
    "## TG 2400"
   ]
  },
  {
   "cell_type": "code",
   "execution_count": null,
   "id": "cdc19f1b",
   "metadata": {},
   "outputs": [],
   "source": [
    "K2440.output(1) # output on\n",
    "K2440.rangev(22)\n",
    "K2440.volt(0)\n",
    "K2440.compliancei(100e-3)\n",
    "# K2440.output(0) #output off\n",
    "sleep(1)\n",
    "v_read=DMM6500.amplitude()\n",
    "print(v_read)"
   ]
  },
  {
   "cell_type": "code",
   "execution_count": null,
   "id": "e971a620",
   "metadata": {},
   "outputs": [],
   "source": [
    "K2440.volt(1)\n",
    "K2440.output(0) #output off"
   ]
  },
  {
   "cell_type": "code",
   "execution_count": null,
   "id": "e284050c",
   "metadata": {},
   "outputs": [],
   "source": [
    "K2440.rangev(1)\n",
    "K2440.rangev()"
   ]
  },
  {
   "cell_type": "markdown",
   "id": "c676ccb5",
   "metadata": {},
   "source": [
    "#  Database initialisation"
   ]
  },
  {
   "cell_type": "code",
   "execution_count": null,
   "id": "5059671d",
   "metadata": {},
   "outputs": [],
   "source": [
    "def find_init_database_v3_py():\n",
    "    for root, dirs, files in os.walk(qcodes_local_dir):\n",
    "        if 'init_database_v3.py' in files:\n",
    "            return os.path.join(root, 'init_database_v3.py')\n",
    "    return None\n",
    "\n",
    "init_database_v3_py_path = find_init_database_v3_py()\n",
    "init_database_v3_py_path\n"
   ]
  },
  {
   "cell_type": "code",
   "execution_count": 10,
   "id": "e09e380a",
   "metadata": {},
   "outputs": [
    {
     "data": {
      "text/plain": [
       "'c:\\\\Users\\\\quant\\\\OneDrive\\\\Documents\\\\GitHub\\\\QCoDeS_local\\\\init_database_v2.py'"
      ]
     },
     "execution_count": 10,
     "metadata": {},
     "output_type": "execute_result"
    }
   ],
   "source": [
    "def find_init_database_v2_py():\n",
    "    for root, dirs, files in os.walk(qcodes_local_dir):\n",
    "        if 'init_database_v2.py' in files:\n",
    "            return os.path.join(root, 'init_database_v2.py')\n",
    "    return None\n",
    "\n",
    "init_database_v2_py_path = find_init_database_v2_py()\n",
    "init_database_v2_py_path"
   ]
  },
  {
   "cell_type": "code",
   "execution_count": 11,
   "id": "7b665bc4",
   "metadata": {},
   "outputs": [
    {
     "name": "stdout",
     "output_type": "stream",
     "text": [
      "Creating a new database file:\n",
      "c:\\Users\\quant\\OneDrive\\Documents\\GitHub\\QCoDeS_local\\personal_scripts\\Albert\\020-1Shankar\\020-1Shankar_2024-09-14_01.db\n"
     ]
    }
   ],
   "source": [
    "reuse = False\n",
    "%run \"{init_database_v2_py_path}\" {reuse}"
   ]
  },
  {
   "cell_type": "markdown",
   "id": "6a8a2beb",
   "metadata": {},
   "source": [
    "\n",
    "# Scaled parameters"
   ]
  },
  {
   "cell_type": "code",
   "execution_count": null,
   "id": "e3b44b31",
   "metadata": {},
   "outputs": [],
   "source": []
  },
  {
   "cell_type": "markdown",
   "id": "ea4ff57a",
   "metadata": {},
   "source": [
    "## Defining scaled parameters"
   ]
  },
  {
   "cell_type": "code",
   "execution_count": 12,
   "id": "c8ca5b97",
   "metadata": {},
   "outputs": [
    {
     "data": {
      "text/plain": [
       "'Gain_L2'"
      ]
     },
     "execution_count": 12,
     "metadata": {},
     "output_type": "execute_result"
    }
   ],
   "source": [
    "Irange = Parameter('Irange', label='current range', unit='', set_cmd=None, get_cmd=None)\n",
    "Vrange = Parameter('Vrange', label='voltage range', unit='', set_cmd=None, get_cmd=None)\n",
    "TGrange = Parameter('TGrange', label='Top gate range', unit='', set_cmd=None, get_cmd=None)\n",
    "\n",
    "#division paraemtrs required for simplier update: they used as an argument for scaled paraemtrs of sorce instruments\n",
    "\n",
    "\n",
    "Irange_division = Parameter('Irange_division', \n",
    "                            label='scaled current range', unit='', \n",
    "                            set_cmd=None, get_cmd=lambda : 1 / Irange())\n",
    "\n",
    "Vrange_division = Parameter('Vrange_division', \n",
    "                            label='scaled voltage range', unit='', \n",
    "                            set_cmd=None, get_cmd=lambda : 1 / Vrange())\n",
    "\n",
    "TGrange_division = Parameter('TGrange_division', \n",
    "                             label='scaled Top gate range', unit='', \n",
    "                             set_cmd=None, get_cmd=lambda : 1 / TGrange())\n",
    "\n",
    "Irange_AC_division = Parameter('Irange_AC_division', \n",
    "                               label='scaled current range for lockin', unit='', \n",
    "                               set_cmd=None, get_cmd=lambda : 1 / Irange())\n",
    "\n",
    "Vrange_AC_division = Parameter('Vrange_AC_division', \n",
    "                               label='scaled voltage range for lockin', unit='', \n",
    "                               set_cmd=None, get_cmd=lambda : 1 / Vrange())\n",
    "\n",
    "Gain_K1 = Parameter('Gain_K1', label='Gain K1', unit='', set_cmd=None, get_cmd=None)\n",
    "Gain_K2 = Parameter('Gain_K2', label='Gain K2', unit='', set_cmd=None, get_cmd=None)\n",
    "Gain_L1 = Parameter('Gain_L1', label='Gain L1', unit='', set_cmd=None, get_cmd=None)\n",
    "Gain_L2 = Parameter('Gain_L2', label='Gain L2', unit='', set_cmd=None, get_cmd=None)\n",
    "\n",
    "#Add components\n",
    "station.add_component(Irange)\n",
    "station.add_component(Vrange)\n",
    "station.add_component(TGrange)\n",
    "\n",
    "station.add_component(Irange_division)\n",
    "station.add_component(Vrange_division)\n",
    "station.add_component(TGrange_division)\n",
    "\n",
    "station.add_component(Irange_AC_division)\n",
    "station.add_component(Vrange_AC_division)\n",
    "                             \n",
    "station.add_component(Gain_K1)\n",
    "station.add_component(Gain_K2)\n",
    "station.add_component(Gain_L1)\n",
    "station.add_component(Gain_L2)"
   ]
  },
  {
   "cell_type": "markdown",
   "id": "6d7ecebe",
   "metadata": {},
   "source": [
    "## Parameters - update here during measuerements"
   ]
  },
  {
   "cell_type": "code",
   "execution_count": 13,
   "id": "b0b09fcc",
   "metadata": {},
   "outputs": [],
   "source": [
    "Irange.set(1e-6) #Unit Amp V=IR, 1V= 1e-6 x 1MOhm=1e-7 x 10MOhm\n",
    "Vrange.set(10) ## need to be sync with K213 range #Unit Volt\n",
    "TGrange.set(1) #Unit Volt\n",
    "Gain_K1.set(100)\n",
    "Gain_K2.set(100)\n",
    "# Gain_K3.set(1e2)\n",
    "Gain_L1.set(Gain_K1())\n",
    "Gain_L2.set(Gain_K2())\n",
    "#division parameters are updated automatically"
   ]
  },
  {
   "cell_type": "code",
   "execution_count": null,
   "id": "4b1231bb",
   "metadata": {},
   "outputs": [],
   "source": [
    "lockin_1.sine_outdc"
   ]
  },
  {
   "cell_type": "markdown",
   "id": "cbe7bfa7",
   "metadata": {},
   "source": [
    "## DC parameters"
   ]
  },
  {
   "cell_type": "code",
   "execution_count": 14,
   "id": "6a8c7deb",
   "metadata": {},
   "outputs": [
    {
     "data": {
      "text/plain": [
       "'meas_current_K1'"
      ]
     },
     "execution_count": 14,
     "metadata": {},
     "output_type": "execute_result"
    }
   ],
   "source": [
    "# appl_current = ScaledParameter(lockin_1.sine_outdc, division = Irange_division, name = 'appl_current', unit = 'A')\n",
    "appl_current = ScaledParameter(K2440.volt, division = Irange_division, name = 'appl_current', unit = 'A')\n",
    "\n",
    "#appl_TG = ScaledParameter(K2440.volt, division = TGrange_division, name = 'appl_TG', unit = 'V')\n",
    "\n",
    "meas_voltage_K1 = ScaledParameter(DMM6500.amplitude, division = Gain_K1, name = 'meas_voltage_K1', unit = 'V')\n",
    "# meas_voltage_K2 = ScaledParameter(DMM6500.amplitude, division = Gain_K2, name = 'meas_voltage_K2', unit = 'V')\n",
    "\n",
    "# meas_leakage = ScaledParameter(DMM6500.amplitude, division = Gain_K2, name = 'meas_leakage', unit = 'A')\n",
    "\n",
    "meas_current_K1 = ScaledParameter(DMM6500.amplitude, division = Gain_K1, name = 'meas_current_K1', unit = 'A')\n",
    "# meas_current_K2 = ScaledParameter(DMM6500.amplitude, division = Gain_K2, name = 'meas_current_K2', unit = 'A')\n",
    "\n",
    "station.add_component(appl_current)\n",
    "# station.add_component(appl_voltage)\n",
    "#station.add_component(appl_TG)\n",
    "\n",
    "station.add_component(meas_voltage_K1)\n",
    "# station.add_component(meas_voltage_K2)\n",
    "\n",
    "# station.add_component(meas_leakage)\n",
    "\n",
    "station.add_component(meas_current_K1)\n",
    "# station.add_component(meas_current_K2)"
   ]
  },
  {
   "cell_type": "code",
   "execution_count": 35,
   "id": "3851dc82",
   "metadata": {},
   "outputs": [],
   "source": [
    "K2440.output(0)\n",
    "appl_current(0)\n",
    "sleep(1)\n",
    "# meas_voltage_K2()"
   ]
  },
  {
   "cell_type": "markdown",
   "id": "a23afd58",
   "metadata": {},
   "source": [
    "##  AC parameters"
   ]
  },
  {
   "cell_type": "code",
   "execution_count": null,
   "id": "769f6a51",
   "metadata": {},
   "outputs": [],
   "source": [
    "appl_current_AC = ScaledParameter(lockin_1.amplitude, division = Irange_AC_division, name = 'appl_current_AC', unit = 'A')\n",
    "appl_voltage_AC = ScaledParameter(lockin_1.amplitude, division = Vrange_AC_division, name = 'appl_voltage_AC', unit = 'V')\n",
    "\n",
    "station.add_component(appl_current_AC)\n",
    "station.add_component(appl_voltage_AC)\n",
    "\n",
    "meas_voltage_AC_L1 = ScaledParameter(lockin_1.X, division = Gain_L1, name = 'meas_voltage_Lockin1', unit = 'V')\n",
    "meas_current_AC_L1 = ScaledParameter(lockin_1.X, division = Gain_L1, name = 'meas_current_Lockin1', unit = 'A')\n",
    "meas_phase_AC_L1 = ScaledParameter(lockin_1.P, division = 1, name = 'meas_phase_Lockin1', unit = 'degree')\n",
    "\n",
    "\n",
    "# meas_voltage_AC_L2 = ScaledParameter(lockin_2.X, division = Gain_L2, name = 'meas_voltage_Lockin2', unit = 'V')\n",
    "# meas_current_AC_L2 = ScaledParameter(lockin_2.X, division = Gain_L2, name = 'meas_current_Lockin2', unit = 'A')\n",
    "# meas_phase_AC_L2 = ScaledParameter(lockin_2.P, division = 1, name = 'meas_phase_Lockin1', unit = 'degree')\n",
    "\n",
    "station.add_component(meas_voltage_AC_L1)\n",
    "station.add_component(meas_current_AC_L1)\n",
    "station.add_component(meas_phase_AC_L1)\n",
    "\n",
    "# station.add_component(meas_voltage_AC_L2)\n",
    "# station.add_component(meas_current_AC_L2)\n",
    "\n",
    "meas_voltage_AC_L1_R = ScaledParameter(lockin_1.R, division = Gain_L1, name = 'meas_voltage_R_Lockin1', unit = 'V')\n",
    "# meas_voltage_AC_L2_R = ScaledParameter(lockin_2.R, division = Gain_L2, name = 'meas_voltage_R_Lockin2', unit = 'V')\n",
    "\n",
    "station.add_component(meas_voltage_AC_L1_R)\n",
    "# station.add_component(meas_voltage_AC_L2_R)"
   ]
  },
  {
   "cell_type": "code",
   "execution_count": null,
   "id": "bcd10ed7",
   "metadata": {},
   "outputs": [],
   "source": [
    "meas_voltage_AC_L1_P = ScaledParameter(lockin_1.P, division = 1, name = 'meas_voltage_Lockin1_P', unit = 'degree')\n",
    "meas_current_AC_L1_P = ScaledParameter(lockin_1.P, division = 1, name = 'meas_current_Lockin1_P', unit = 'degree')\n",
    "\n",
    "# meas_voltage_AC_L2_P = ScaledParameter(lockin_2.P, division = 1, name = 'meas_voltage_Lockin2_P', unit = 'degree')\n",
    "# meas_current_AC_L2_P = ScaledParameter(lockin_2.P, division = 1, name = 'meas_current_Lockin2_P', unit = 'degree')\n",
    "\n",
    "station.add_component(meas_voltage_AC_L1_P)\n",
    "station.add_component(meas_current_AC_L1_P)\n",
    "\n",
    "# station.add_component(meas_voltage_AC_L2_P)\n",
    "# station.add_component(meas_current_AC_L2_P)"
   ]
  },
  {
   "cell_type": "markdown",
   "id": "8d9d6239",
   "metadata": {},
   "source": [
    "## Another useful example: magnet using dac (Janis)"
   ]
  },
  {
   "cell_type": "markdown",
   "id": "92e1f309",
   "metadata": {},
   "source": [
    ">2231.2 G per A => 0.22312 T per A<br>\n",
    "I source 10mA per V => 1e-5 A per 1mV<br>\n",
    "result: 0.22312 T/A * 1e-5 A/mV"
   ]
  },
  {
   "cell_type": "code",
   "execution_count": 17,
   "id": "6b2b657a",
   "metadata": {},
   "outputs": [],
   "source": [
    "# def get_R_from_IV(dataid):\n",
    "#     dataset = qc.load_by_id(dataid)\n",
    "#     voltage = dataset.get_parameter_data()['meas_voltage_K2']['meas_voltage_K2']\n",
    "#     current = dataset.get_parameter_data()['meas_voltage_K2']['appl_current']\n",
    "#     fit_values = np.polyfit(current,voltage,1)\n",
    "    \n",
    "#     return fit_values[0]\n",
    "\n",
    "dataset = qc.load_by_id(1)\n",
    "\n",
    "def get_R_from_IV_2(dataid):\n",
    "    dataset = qc.load_by_id(dataid)\n",
    "    voltage = dataset.get_parameter_data()['meas_voltage_K2']['meas_voltage_K2']\n",
    "    current = dataset.get_parameter_data()['meas_voltage_K2']['appl_current']\n",
    "    fit_values = np.polyfit(current,voltage,1)\n",
    "\n",
    "    return fit_values[0]\n",
    "\n",
    "def get_R_from_IV(dataid):\n",
    "    dataset = qc.load_by_id(dataid)\n",
    "    para_list = dataset.parameters.split(\",\")\n",
    "    voltage = dataset.get_parameter_data()[para_list[1]][para_list[1]]\n",
    "    current = dataset.get_parameter_data()[para_list[1]][para_list[0]]\n",
    "    fit_values = np.polyfit(current,voltage,1)\n",
    "    return fit_values[0]\n",
    "\n",
    "\n",
    "def get_R_from_IV_K2(dataid):\n",
    "    dataset = qc.load_by_id(dataid)\n",
    "    voltage = dataset.get_parameter_data()['meas_voltage_K2']['meas_voltage_K2']\n",
    "    current = dataset.get_parameter_data()['meas_voltage_K2']['appl_current']\n",
    "    fit_values = np.polyfit(current,voltage,1)\n",
    "    return fit_values[0]\n",
    "\n",
    "def autosave_plot_by_id(run_id, save_path):\n",
    "    fig, ax = plt.subplots()\n",
    "    plot_by_id(run_id, axes=ax)\n",
    "    plt.savefig(save_path)\n",
    "    plt.close()\n",
    "\n",
    "def get_detaset_info(dataset=dataset):\n",
    "    run_id = dataset.captured_run_id\n",
    "    exp_name = dataset.exp_name\n",
    "    sample_name = dataset.sample_name\n",
    "    name = dataset.name\n",
    "    description = dataset.description\n",
    "    sample_junction = extract_sample_junction(sample_name)\n",
    "    return run_id, exp_name, sample_name, sample_junction, name, description\n",
    "\n",
    "def extract_sample_junction(sample_name):\n",
    "    \"\"\"Extracts the complete sample junction from the provided sample name.\n",
    "\n",
    "    Args:\n",
    "      sample_name: The name of the sample containing the junction information.\n",
    "\n",
    "    Returns:\n",
    "      The extracted sample junction, or None if not found.\n",
    "    \"\"\"\n",
    "\n",
    "    delimiter = \"_J\"\n",
    "    if delimiter in sample_name:\n",
    "        # +3 to include \"_J\"\n",
    "        return sample_name[:sample_name.find(delimiter) + 3]\n",
    "    else:\n",
    "        return None\n",
    "\n",
    "def IV(run_id=1):\n",
    "    dataset = qc.load_by_id(run_id)\n",
    "    R = get_R_from_IV(run_id)\n",
    "    run_id, exp_name, sample_name, sample_junction, name, description = get_detaset_info(\n",
    "        dataset)\n",
    "    df = dataset.to_pandas_dataframe().reset_index()\n",
    "    para_list = dataset.parameters.split(\",\")\n",
    "\n",
    "    # Create a Plotly trace\n",
    "    trace = go.Scatter(x=df[para_list[0]], y=df[para_list[1]]*1e3, mode='lines', name='Voltage vs. Current')\n",
    "\n",
    "    # Create layout with micro-scale y-axis\n",
    "    layout = go.Layout(title=f'<b>#{run_id} {exp_name}</b> {sample_name}, R_fit={R:.4f} Ω', title_font=dict(size=28),\n",
    "                       xaxis=dict(title=para_list[0], tickfont=dict(size=16),title_font=dict(size=20)),\n",
    "                       yaxis=dict(title=f\"{para_list[1]} mV\", tickfont=dict(size=16),title_font=dict(size=20)), \n",
    "                       width=1080, height=960,\n",
    "                       margin=dict(l=10, r=10, t=50, b=10))\n",
    "\n",
    "    # Create the figure\n",
    "    fig = go.Figure(data=[trace], layout=layout)\n",
    "    \n",
    "    fig.show()\n",
    "\n",
    "def IV_diff(run_id=1):\n",
    "    import numpy as np\n",
    "    import plotly.graph_objs as go\n",
    "    from scipy.signal import find_peaks\n",
    "    dataset = qc.load_by_id(run_id)\n",
    "\n",
    "    df = dataset.to_pandas_dataframe().reset_index()\n",
    "    para_list = dataset.parameters.split(\",\")\n",
    "\n",
    "    current = df[para_list[0]].tolist()\n",
    "    voltage = df[para_list[1]].tolist()\n",
    "\n",
    "    # Compute differential of voltage with respect to current\n",
    "    differential_voltage = np.diff(voltage) / np.diff(current)\n",
    "\n",
    "    # Since the differential will have one less data point, adjust the current data\n",
    "    # to have the same length as the differential data\n",
    "    current = current[:-1]\n",
    "\n",
    "    # Find peaks in the differential signal\n",
    "    peaks, _ = find_peaks(differential_voltage)\n",
    "\n",
    "    # Extract peak current and peak differential voltage values\n",
    "    peak_current = [current[i] for i in peaks]\n",
    "    peak_voltage_diff = [differential_voltage[i] for i in peaks]\n",
    "\n",
    "    # Sort the peaks based on their values\n",
    "    sorted_peak_indices = np.argsort(peak_voltage_diff)[::-1]  # Sort in descending order\n",
    "    top_two_peak_indices = sorted_peak_indices[:2]  # Select the top two indices\n",
    "\n",
    "    # Extract the top two peaks\n",
    "    top_two_peak_current = [peak_current[i] for i in top_two_peak_indices]\n",
    "    top_two_peak_voltage_diff = [peak_voltage_diff[i] for i in top_two_peak_indices]\n",
    "\n",
    "    # Calculate the center points of the top two peaks\n",
    "    center_points = [(top_two_peak_current[i] + top_two_peak_current[i+1]) / 2 for i in range(len(top_two_peak_current) - 1)]\n",
    "\n",
    "    # Calculate the difference between the top two biggest peaks\n",
    "    peak_difference = abs(top_two_peak_current[0] - top_two_peak_current[1])\n",
    "\n",
    "    # Determine the appropriate unit for current\n",
    "    if peak_difference >= 1e-3:\n",
    "        unit = \"mA\"\n",
    "        conversion_factor = 1e3\n",
    "    elif peak_difference >= 1e-6:\n",
    "        unit = \"μA\"\n",
    "        conversion_factor = 1e6\n",
    "    else:\n",
    "        unit = \"nA\"\n",
    "        conversion_factor = 1e9\n",
    "\n",
    "    # Determine the appropriate unit for current\n",
    "    if peak_difference >= 1e-3:\n",
    "        unit = \"mA\"\n",
    "    elif peak_difference >= 1e-6:\n",
    "        unit = \"μA\"\n",
    "    elif peak_difference >= 1e-9:\n",
    "        unit = \"nA\"\n",
    "    else:\n",
    "        unit = \"pA\"\n",
    "\n",
    "    # Create a Plotly trace for the differential\n",
    "    trace_diff = go.Scatter(x=[c * conversion_factor for c in current], y=differential_voltage, mode='lines', name='d(Voltage)/d(Current)')\n",
    "    # Add markers for the top two peaks\n",
    "    trace_top_two_peaks = go.Scatter(x=[p * conversion_factor for p in top_two_peak_current], y=top_two_peak_voltage_diff, mode='markers', marker=dict(color='red'), name='Top Two Peaks')\n",
    "    # Add markers for the center points\n",
    "    trace_center_points = go.Scatter(x=center_points, y=[0]*len(center_points), mode='markers', marker=dict(color='blue', symbol='cross'), name='Center Points')\n",
    "\n",
    "    # Create layout\n",
    "    layout = go.Layout(title=f'Run #{id} I vs. dV/dI',\n",
    "                    xaxis=dict(title=f'Current ({unit})'),\n",
    "                    yaxis=dict(title='d(Voltage)/d(Current)'),\n",
    "                    legend=dict(orientation=\"h\", yanchor=\"top\", y=1.10, xanchor=\"center\", x=0.5),\n",
    "                    width=600, height=600  \n",
    "                    )\n",
    "\n",
    "    # Create the figure\n",
    "    fig = go.Figure(data=[trace_diff, trace_top_two_peaks, trace_center_points], layout=layout)\n",
    "\n",
    "    # Add annotation for the current value of center points\n",
    "    for i, center_point in enumerate(center_points):\n",
    "        fig.add_annotation(\n",
    "            x=center_point * conversion_factor,\n",
    "            y=0, #0.4 * max(differential_voltage),\n",
    "            text=f'Center Point: {center_point * conversion_factor:.3f}{unit} <br> Peak difference: {peak_difference*conversion_factor:.3f} {unit}',\n",
    "            showarrow=True,\n",
    "            arrowhead=2,\n",
    "            arrowsize=1,\n",
    "            arrowwidth=2,\n",
    "            arrowcolor='black',\n",
    "            ax=-100,\n",
    "            ay=-200 - 30 * i\n",
    "        )\n",
    "\n",
    "    # Plot the figure\n",
    "    fig.show()\n",
    "\n",
    "def get_Mag(show=True):\n",
    "    Mag_x = magnet_x.field()\n",
    "    Mag_y = magnet_y.field()\n",
    "    Mag_z = magnet_z.field()\n",
    "    if show:\n",
    "        print(f\"Mag_x: {Mag_x*1e3:.6f} mT\")\n",
    "        print(f\"Mag_y: {Mag_y*1e3:.6f} mT\")\n",
    "        print(f\"Mag_z: {Mag_z*1e3:.6f} mT\")\n",
    "    else: \n",
    "        return Mag_x, Mag_y, Mag_z"
   ]
  },
  {
   "cell_type": "code",
   "execution_count": null,
   "id": "934a7b70",
   "metadata": {},
   "outputs": [],
   "source": [
    "appl_current(0.5e-6)\n",
    "appl_current_AC(10e-9)"
   ]
  },
  {
   "cell_type": "code",
   "execution_count": null,
   "id": "e0040749",
   "metadata": {},
   "outputs": [],
   "source": [
    "df = dataset.to_pandas_dataframe().reset_index()\n",
    "df"
   ]
  },
  {
   "cell_type": "markdown",
   "id": "885e5c90",
   "metadata": {},
   "source": [
    "# Simple IVs"
   ]
  },
  {
   "cell_type": "markdown",
   "id": "cdb6884c",
   "metadata": {},
   "source": [
    "## IV"
   ]
  },
  {
   "cell_type": "code",
   "execution_count": null,
   "id": "f6c71fe1",
   "metadata": {},
   "outputs": [],
   "source": [
    "K2440.output(1)\n",
    "DMM6500.averaging_count(5)\n",
    "DMM6500.averaging_enabled(True)\n",
    "DMM6500.averaging_enabled(False)\n",
    "K2440.output(0)"
   ]
  },
  {
   "cell_type": "code",
   "execution_count": 22,
   "id": "88a5c92b",
   "metadata": {},
   "outputs": [],
   "source": [
    "# Set current to 0\n",
    "K2440.output(0)\n",
    "appl_current(0e-6)"
   ]
  },
  {
   "cell_type": "code",
   "execution_count": null,
   "id": "af7949e7",
   "metadata": {},
   "outputs": [],
   "source": [
    "IV(3)"
   ]
  },
  {
   "cell_type": "code",
   "execution_count": 19,
   "id": "94d8b3fa",
   "metadata": {},
   "outputs": [
    {
     "name": "stdout",
     "output_type": "stream",
     "text": [
      "Starting experimental run with id: 3. \n"
     ]
    },
    {
     "name": "stderr",
     "output_type": "stream",
     "text": [
      "100%|██████████| 101/101 [00:02<00:00, 44.39it/s]\n",
      "Trying to mark a run completed that was already completed.\n"
     ]
    },
    {
     "data": {
      "application/vnd.plotly.v1+json": {
       "config": {
        "plotlyServerURL": "https://plot.ly"
       },
       "data": [
        {
         "mode": "lines",
         "name": "Voltage vs. Current",
         "type": "scatter",
         "x": [
          -0.000001,
          -9.8e-7,
          -9.6e-7,
          -9.4e-7,
          -9.2e-7,
          -9e-7,
          -8.8e-7,
          -8.6e-7,
          -8.4e-7,
          -8.2e-7,
          -8e-7,
          -7.8e-7,
          -7.6e-7,
          -7.4e-7,
          -7.2e-7,
          -7e-7,
          -6.8e-7,
          -6.6e-7,
          -6.4e-7,
          -6.2e-7,
          -6e-7,
          -5.8e-7,
          -5.6e-7,
          -5.4e-7,
          -5.2e-7,
          -5e-7,
          -4.8e-7,
          -4.6e-7,
          -4.4e-7,
          -4.2e-7,
          -4e-7,
          -3.8e-7,
          -3.6e-7,
          -3.4e-7,
          -3.2e-7,
          -3e-7,
          -2.8e-7,
          -2.6e-7,
          -2.4e-7,
          -2.2e-7,
          -2e-7,
          -1.8e-7,
          -1.6e-7,
          -1.4e-7,
          -1.2e-7,
          -9.99999999999999e-8,
          -8e-8,
          -6e-8,
          -3.99999999999998e-8,
          -2e-8,
          0,
          2e-8,
          4e-8,
          6.00000000000001e-8,
          8.00000000000001e-8,
          1e-7,
          1.2e-7,
          1.4e-7,
          1.6e-7,
          1.8e-7,
          2e-7,
          2.2e-7,
          2.4e-7,
          2.6e-7,
          2.8e-7,
          3e-7,
          3.2e-7,
          3.4e-7,
          3.6e-7,
          3.8e-7,
          4e-7,
          4.2e-7,
          4.4e-7,
          4.6e-7,
          4.8e-7,
          5e-7,
          5.2e-7,
          5.4e-7,
          5.6e-7,
          5.8e-7,
          6e-7,
          6.2e-7,
          6.4e-7,
          6.6e-7,
          6.8e-7,
          7e-7,
          7.2e-7,
          7.4e-7,
          7.6e-7,
          7.8e-7,
          8e-7,
          8.2e-7,
          8.4e-7,
          8.6e-7,
          8.8e-7,
          9e-7,
          9.20000000000001e-7,
          9.4e-7,
          9.6e-7,
          9.8e-7,
          0.000001
         ],
         "y": [
          -0.6874262,
          -0.6750531999999999,
          -0.6614887,
          -0.6475324,
          -0.6338192,
          -0.620079,
          -0.605606,
          -0.592393,
          -0.578897,
          -0.5647296,
          -0.5515102000000001,
          -0.5376486,
          -0.5237335000000001,
          -0.5101007,
          -0.49679460000000003,
          -0.4830753,
          -0.4692683,
          -0.4553966,
          -0.4417499,
          -0.42788709999999996,
          -0.41424940000000005,
          -0.4004688,
          -0.3885452,
          -0.37324549999999995,
          -0.35892440000000003,
          -0.3493443,
          -0.3317539,
          -0.31805,
          -0.3093371,
          -0.29078740000000003,
          -0.27685299999999996,
          -0.2630908,
          -0.24963749999999998,
          -0.23572200000000001,
          -0.222036,
          -0.2080835,
          -0.19447489999999998,
          -0.1808544,
          -0.16682860000000002,
          -0.15356519999999999,
          -0.1397059,
          -0.12608970000000003,
          -0.1123198,
          -0.09825703999999999,
          -0.08487658000000001,
          -0.07129134000000001,
          -0.05747735,
          -0.043330320000000005,
          -0.02985363,
          -0.015791430000000002,
          -0.001899847,
          0.01100465,
          0.02515295,
          0.037190980000000005,
          0.052480559999999996,
          0.06669144,
          0.07599159,
          0.09433744000000001,
          0.1078434,
          0.1167887,
          0.1355703,
          0.1489215,
          0.162444,
          0.1764535,
          0.1901471,
          0.2039542,
          0.21781040000000002,
          0.2316248,
          0.24487960000000003,
          0.2589251,
          0.2724271,
          0.2861828,
          0.3000203,
          0.3133662,
          0.3275069,
          0.34120530000000004,
          0.354646,
          0.3688072,
          0.3821907,
          0.3958759,
          0.4097625,
          0.4237224,
          0.4371122,
          0.4507849,
          0.463702,
          0.478149,
          0.49233079999999996,
          0.5028085000000001,
          0.5196124000000001,
          0.5329173,
          0.5425386999999999,
          0.5605677,
          0.5746472,
          0.5883541,
          0.6017834,
          0.6154889,
          0.6296975,
          0.6431833,
          0.6564586,
          0.6704531,
          0.6839475
         ]
        }
       ],
       "layout": {
        "height": 960,
        "margin": {
         "b": 10,
         "l": 10,
         "r": 10,
         "t": 50
        },
        "template": {
         "data": {
          "bar": [
           {
            "error_x": {
             "color": "#2a3f5f"
            },
            "error_y": {
             "color": "#2a3f5f"
            },
            "marker": {
             "line": {
              "color": "#E5ECF6",
              "width": 0.5
             },
             "pattern": {
              "fillmode": "overlay",
              "size": 10,
              "solidity": 0.2
             }
            },
            "type": "bar"
           }
          ],
          "barpolar": [
           {
            "marker": {
             "line": {
              "color": "#E5ECF6",
              "width": 0.5
             },
             "pattern": {
              "fillmode": "overlay",
              "size": 10,
              "solidity": 0.2
             }
            },
            "type": "barpolar"
           }
          ],
          "carpet": [
           {
            "aaxis": {
             "endlinecolor": "#2a3f5f",
             "gridcolor": "white",
             "linecolor": "white",
             "minorgridcolor": "white",
             "startlinecolor": "#2a3f5f"
            },
            "baxis": {
             "endlinecolor": "#2a3f5f",
             "gridcolor": "white",
             "linecolor": "white",
             "minorgridcolor": "white",
             "startlinecolor": "#2a3f5f"
            },
            "type": "carpet"
           }
          ],
          "choropleth": [
           {
            "colorbar": {
             "outlinewidth": 0,
             "ticks": ""
            },
            "type": "choropleth"
           }
          ],
          "contour": [
           {
            "colorbar": {
             "outlinewidth": 0,
             "ticks": ""
            },
            "colorscale": [
             [
              0,
              "#0d0887"
             ],
             [
              0.1111111111111111,
              "#46039f"
             ],
             [
              0.2222222222222222,
              "#7201a8"
             ],
             [
              0.3333333333333333,
              "#9c179e"
             ],
             [
              0.4444444444444444,
              "#bd3786"
             ],
             [
              0.5555555555555556,
              "#d8576b"
             ],
             [
              0.6666666666666666,
              "#ed7953"
             ],
             [
              0.7777777777777778,
              "#fb9f3a"
             ],
             [
              0.8888888888888888,
              "#fdca26"
             ],
             [
              1,
              "#f0f921"
             ]
            ],
            "type": "contour"
           }
          ],
          "contourcarpet": [
           {
            "colorbar": {
             "outlinewidth": 0,
             "ticks": ""
            },
            "type": "contourcarpet"
           }
          ],
          "heatmap": [
           {
            "colorbar": {
             "outlinewidth": 0,
             "ticks": ""
            },
            "colorscale": [
             [
              0,
              "#0d0887"
             ],
             [
              0.1111111111111111,
              "#46039f"
             ],
             [
              0.2222222222222222,
              "#7201a8"
             ],
             [
              0.3333333333333333,
              "#9c179e"
             ],
             [
              0.4444444444444444,
              "#bd3786"
             ],
             [
              0.5555555555555556,
              "#d8576b"
             ],
             [
              0.6666666666666666,
              "#ed7953"
             ],
             [
              0.7777777777777778,
              "#fb9f3a"
             ],
             [
              0.8888888888888888,
              "#fdca26"
             ],
             [
              1,
              "#f0f921"
             ]
            ],
            "type": "heatmap"
           }
          ],
          "heatmapgl": [
           {
            "colorbar": {
             "outlinewidth": 0,
             "ticks": ""
            },
            "colorscale": [
             [
              0,
              "#0d0887"
             ],
             [
              0.1111111111111111,
              "#46039f"
             ],
             [
              0.2222222222222222,
              "#7201a8"
             ],
             [
              0.3333333333333333,
              "#9c179e"
             ],
             [
              0.4444444444444444,
              "#bd3786"
             ],
             [
              0.5555555555555556,
              "#d8576b"
             ],
             [
              0.6666666666666666,
              "#ed7953"
             ],
             [
              0.7777777777777778,
              "#fb9f3a"
             ],
             [
              0.8888888888888888,
              "#fdca26"
             ],
             [
              1,
              "#f0f921"
             ]
            ],
            "type": "heatmapgl"
           }
          ],
          "histogram": [
           {
            "marker": {
             "pattern": {
              "fillmode": "overlay",
              "size": 10,
              "solidity": 0.2
             }
            },
            "type": "histogram"
           }
          ],
          "histogram2d": [
           {
            "colorbar": {
             "outlinewidth": 0,
             "ticks": ""
            },
            "colorscale": [
             [
              0,
              "#0d0887"
             ],
             [
              0.1111111111111111,
              "#46039f"
             ],
             [
              0.2222222222222222,
              "#7201a8"
             ],
             [
              0.3333333333333333,
              "#9c179e"
             ],
             [
              0.4444444444444444,
              "#bd3786"
             ],
             [
              0.5555555555555556,
              "#d8576b"
             ],
             [
              0.6666666666666666,
              "#ed7953"
             ],
             [
              0.7777777777777778,
              "#fb9f3a"
             ],
             [
              0.8888888888888888,
              "#fdca26"
             ],
             [
              1,
              "#f0f921"
             ]
            ],
            "type": "histogram2d"
           }
          ],
          "histogram2dcontour": [
           {
            "colorbar": {
             "outlinewidth": 0,
             "ticks": ""
            },
            "colorscale": [
             [
              0,
              "#0d0887"
             ],
             [
              0.1111111111111111,
              "#46039f"
             ],
             [
              0.2222222222222222,
              "#7201a8"
             ],
             [
              0.3333333333333333,
              "#9c179e"
             ],
             [
              0.4444444444444444,
              "#bd3786"
             ],
             [
              0.5555555555555556,
              "#d8576b"
             ],
             [
              0.6666666666666666,
              "#ed7953"
             ],
             [
              0.7777777777777778,
              "#fb9f3a"
             ],
             [
              0.8888888888888888,
              "#fdca26"
             ],
             [
              1,
              "#f0f921"
             ]
            ],
            "type": "histogram2dcontour"
           }
          ],
          "mesh3d": [
           {
            "colorbar": {
             "outlinewidth": 0,
             "ticks": ""
            },
            "type": "mesh3d"
           }
          ],
          "parcoords": [
           {
            "line": {
             "colorbar": {
              "outlinewidth": 0,
              "ticks": ""
             }
            },
            "type": "parcoords"
           }
          ],
          "pie": [
           {
            "automargin": true,
            "type": "pie"
           }
          ],
          "scatter": [
           {
            "fillpattern": {
             "fillmode": "overlay",
             "size": 10,
             "solidity": 0.2
            },
            "type": "scatter"
           }
          ],
          "scatter3d": [
           {
            "line": {
             "colorbar": {
              "outlinewidth": 0,
              "ticks": ""
             }
            },
            "marker": {
             "colorbar": {
              "outlinewidth": 0,
              "ticks": ""
             }
            },
            "type": "scatter3d"
           }
          ],
          "scattercarpet": [
           {
            "marker": {
             "colorbar": {
              "outlinewidth": 0,
              "ticks": ""
             }
            },
            "type": "scattercarpet"
           }
          ],
          "scattergeo": [
           {
            "marker": {
             "colorbar": {
              "outlinewidth": 0,
              "ticks": ""
             }
            },
            "type": "scattergeo"
           }
          ],
          "scattergl": [
           {
            "marker": {
             "colorbar": {
              "outlinewidth": 0,
              "ticks": ""
             }
            },
            "type": "scattergl"
           }
          ],
          "scattermapbox": [
           {
            "marker": {
             "colorbar": {
              "outlinewidth": 0,
              "ticks": ""
             }
            },
            "type": "scattermapbox"
           }
          ],
          "scatterpolar": [
           {
            "marker": {
             "colorbar": {
              "outlinewidth": 0,
              "ticks": ""
             }
            },
            "type": "scatterpolar"
           }
          ],
          "scatterpolargl": [
           {
            "marker": {
             "colorbar": {
              "outlinewidth": 0,
              "ticks": ""
             }
            },
            "type": "scatterpolargl"
           }
          ],
          "scatterternary": [
           {
            "marker": {
             "colorbar": {
              "outlinewidth": 0,
              "ticks": ""
             }
            },
            "type": "scatterternary"
           }
          ],
          "surface": [
           {
            "colorbar": {
             "outlinewidth": 0,
             "ticks": ""
            },
            "colorscale": [
             [
              0,
              "#0d0887"
             ],
             [
              0.1111111111111111,
              "#46039f"
             ],
             [
              0.2222222222222222,
              "#7201a8"
             ],
             [
              0.3333333333333333,
              "#9c179e"
             ],
             [
              0.4444444444444444,
              "#bd3786"
             ],
             [
              0.5555555555555556,
              "#d8576b"
             ],
             [
              0.6666666666666666,
              "#ed7953"
             ],
             [
              0.7777777777777778,
              "#fb9f3a"
             ],
             [
              0.8888888888888888,
              "#fdca26"
             ],
             [
              1,
              "#f0f921"
             ]
            ],
            "type": "surface"
           }
          ],
          "table": [
           {
            "cells": {
             "fill": {
              "color": "#EBF0F8"
             },
             "line": {
              "color": "white"
             }
            },
            "header": {
             "fill": {
              "color": "#C8D4E3"
             },
             "line": {
              "color": "white"
             }
            },
            "type": "table"
           }
          ]
         },
         "layout": {
          "annotationdefaults": {
           "arrowcolor": "#2a3f5f",
           "arrowhead": 0,
           "arrowwidth": 1
          },
          "autotypenumbers": "strict",
          "coloraxis": {
           "colorbar": {
            "outlinewidth": 0,
            "ticks": ""
           }
          },
          "colorscale": {
           "diverging": [
            [
             0,
             "#8e0152"
            ],
            [
             0.1,
             "#c51b7d"
            ],
            [
             0.2,
             "#de77ae"
            ],
            [
             0.3,
             "#f1b6da"
            ],
            [
             0.4,
             "#fde0ef"
            ],
            [
             0.5,
             "#f7f7f7"
            ],
            [
             0.6,
             "#e6f5d0"
            ],
            [
             0.7,
             "#b8e186"
            ],
            [
             0.8,
             "#7fbc41"
            ],
            [
             0.9,
             "#4d9221"
            ],
            [
             1,
             "#276419"
            ]
           ],
           "sequential": [
            [
             0,
             "#0d0887"
            ],
            [
             0.1111111111111111,
             "#46039f"
            ],
            [
             0.2222222222222222,
             "#7201a8"
            ],
            [
             0.3333333333333333,
             "#9c179e"
            ],
            [
             0.4444444444444444,
             "#bd3786"
            ],
            [
             0.5555555555555556,
             "#d8576b"
            ],
            [
             0.6666666666666666,
             "#ed7953"
            ],
            [
             0.7777777777777778,
             "#fb9f3a"
            ],
            [
             0.8888888888888888,
             "#fdca26"
            ],
            [
             1,
             "#f0f921"
            ]
           ],
           "sequentialminus": [
            [
             0,
             "#0d0887"
            ],
            [
             0.1111111111111111,
             "#46039f"
            ],
            [
             0.2222222222222222,
             "#7201a8"
            ],
            [
             0.3333333333333333,
             "#9c179e"
            ],
            [
             0.4444444444444444,
             "#bd3786"
            ],
            [
             0.5555555555555556,
             "#d8576b"
            ],
            [
             0.6666666666666666,
             "#ed7953"
            ],
            [
             0.7777777777777778,
             "#fb9f3a"
            ],
            [
             0.8888888888888888,
             "#fdca26"
            ],
            [
             1,
             "#f0f921"
            ]
           ]
          },
          "colorway": [
           "#636efa",
           "#EF553B",
           "#00cc96",
           "#ab63fa",
           "#FFA15A",
           "#19d3f3",
           "#FF6692",
           "#B6E880",
           "#FF97FF",
           "#FECB52"
          ],
          "font": {
           "color": "#2a3f5f"
          },
          "geo": {
           "bgcolor": "white",
           "lakecolor": "white",
           "landcolor": "#E5ECF6",
           "showlakes": true,
           "showland": true,
           "subunitcolor": "white"
          },
          "hoverlabel": {
           "align": "left"
          },
          "hovermode": "closest",
          "mapbox": {
           "style": "light"
          },
          "paper_bgcolor": "white",
          "plot_bgcolor": "#E5ECF6",
          "polar": {
           "angularaxis": {
            "gridcolor": "white",
            "linecolor": "white",
            "ticks": ""
           },
           "bgcolor": "#E5ECF6",
           "radialaxis": {
            "gridcolor": "white",
            "linecolor": "white",
            "ticks": ""
           }
          },
          "scene": {
           "xaxis": {
            "backgroundcolor": "#E5ECF6",
            "gridcolor": "white",
            "gridwidth": 2,
            "linecolor": "white",
            "showbackground": true,
            "ticks": "",
            "zerolinecolor": "white"
           },
           "yaxis": {
            "backgroundcolor": "#E5ECF6",
            "gridcolor": "white",
            "gridwidth": 2,
            "linecolor": "white",
            "showbackground": true,
            "ticks": "",
            "zerolinecolor": "white"
           },
           "zaxis": {
            "backgroundcolor": "#E5ECF6",
            "gridcolor": "white",
            "gridwidth": 2,
            "linecolor": "white",
            "showbackground": true,
            "ticks": "",
            "zerolinecolor": "white"
           }
          },
          "shapedefaults": {
           "line": {
            "color": "#2a3f5f"
           }
          },
          "ternary": {
           "aaxis": {
            "gridcolor": "white",
            "linecolor": "white",
            "ticks": ""
           },
           "baxis": {
            "gridcolor": "white",
            "linecolor": "white",
            "ticks": ""
           },
           "bgcolor": "#E5ECF6",
           "caxis": {
            "gridcolor": "white",
            "linecolor": "white",
            "ticks": ""
           }
          },
          "title": {
           "x": 0.05
          },
          "xaxis": {
           "automargin": true,
           "gridcolor": "white",
           "linecolor": "white",
           "ticks": "",
           "title": {
            "standoff": 15
           },
           "zerolinecolor": "white",
           "zerolinewidth": 2
          },
          "yaxis": {
           "automargin": true,
           "gridcolor": "white",
           "linecolor": "white",
           "ticks": "",
           "title": {
            "standoff": 15
           },
           "zerolinecolor": "white",
           "zerolinewidth": 2
          }
         }
        },
        "title": {
         "font": {
          "size": 28
         },
         "text": "<b>#3 I-V</b> 020-1ICP_20-21-08-09G, R_fit=686.4181 Ω"
        },
        "width": 1080,
        "xaxis": {
         "tickfont": {
          "size": 16
         },
         "title": {
          "font": {
           "size": 20
          },
          "text": "appl_current"
         }
        },
        "yaxis": {
         "tickfont": {
          "size": 16
         },
         "title": {
          "font": {
           "size": 20
          },
          "text": "meas_voltage_K1 mV"
         }
        }
       }
      }
     },
     "metadata": {},
     "output_type": "display_data"
    },
    {
     "data": {
      "application/vnd.plotly.v1+json": {
       "config": {
        "plotlyServerURL": "https://plot.ly"
       },
       "data": [
        {
         "mode": "lines",
         "name": "d(Voltage)/d(Current)",
         "type": "scatter",
         "x": [
          -1000,
          -979.9999999999999,
          -959.9999999999999,
          -940,
          -920,
          -900,
          -880,
          -860,
          -840,
          -820,
          -800,
          -780,
          -760,
          -740,
          -720,
          -700,
          -680,
          -660,
          -640,
          -620,
          -600,
          -580,
          -560,
          -540,
          -520,
          -500,
          -479.99999999999994,
          -460,
          -440,
          -420,
          -400,
          -380,
          -360,
          -340,
          -320,
          -300,
          -280,
          -260,
          -239.99999999999997,
          -220,
          -200,
          -180,
          -160,
          -140,
          -119.99999999999999,
          -99.9999999999999,
          -80,
          -59.99999999999999,
          -39.9999999999998,
          -20,
          0,
          20,
          40,
          60.0000000000001,
          80.0000000000001,
          100,
          119.99999999999999,
          140,
          160,
          180,
          200,
          220,
          239.99999999999997,
          260,
          280,
          300,
          320,
          340,
          360,
          380,
          400,
          420,
          440,
          460,
          479.99999999999994,
          500,
          520,
          540,
          560,
          580,
          600,
          620,
          640,
          660,
          680,
          700,
          720,
          740,
          760,
          780,
          800,
          820,
          840,
          860,
          880,
          900,
          920.000000000001,
          940,
          959.9999999999999,
          979.9999999999999
         ],
         "y": [
          618.6499999999986,
          678.224999999996,
          697.8150000000068,
          685.6599999999944,
          687.0099999999993,
          723.6500000000076,
          660.6499999999985,
          674.799999999999,
          708.3699999999974,
          660.9699999999992,
          693.0800000000021,
          695.7549999999999,
          681.6400000000004,
          665.3049999999976,
          685.9650000000008,
          690.3499999999999,
          693.5850000000036,
          682.3349999999989,
          693.1399999999999,
          681.8849999999973,
          689.0299999999997,
          596.1800000000047,
          764.9849999999991,
          716.054999999997,
          479.0049999999998,
          879.5200000000004,
          685.1950000000003,
          435.64500000000083,
          927.4849999999989,
          696.7200000000009,
          688.1099999999996,
          672.6650000000001,
          695.7749999999986,
          684.3000000000013,
          697.6249999999992,
          680.4300000000017,
          681.0249999999994,
          701.2899999999981,
          663.1700000000017,
          692.9649999999999,
          680.8099999999988,
          688.4950000000011,
          703.1380000000003,
          669.0229999999988,
          679.2619999999972,
          690.6995000000034,
          707.3514999999998,
          673.8344999999936,
          703.110000000007,
          694.57915,
          645.22485,
          707.4150000000001,
          601.9014999999971,
          764.479,
          710.544000000004,
          465.00749999999977,
          917.2924999999994,
          675.2980000000002,
          447.265,
          939.0800000000002,
          667.5599999999994,
          676.1250000000014,
          700.4749999999993,
          684.679999999999,
          690.3550000000007,
          692.8099999999998,
          690.7200000000005,
          662.740000000001,
          702.2749999999979,
          675.1000000000001,
          687.7850000000008,
          691.8749999999995,
          667.2950000000003,
          707.0350000000021,
          684.9199999999995,
          672.0349999999994,
          708.0599999999973,
          669.175,
          684.2600000000031,
          694.3299999999991,
          697.9949999999993,
          669.4899999999989,
          683.6350000000004,
          645.8550000000038,
          722.3499999999968,
          709.089999999999,
          523.8850000000034,
          840.1949999999994,
          665.2449999999988,
          481.06999999999914,
          901.4500000000004,
          703.9750000000003,
          685.3449999999954,
          671.4650000000001,
          685.2750000000023,
          710.4299999999629,
          674.2900000000343,
          663.7650000000071,
          699.7249999999984,
          674.7199999999989
         ]
        },
        {
         "marker": {
          "color": "red"
         },
         "mode": "markers",
         "name": "Top Two Peaks",
         "type": "scatter",
         "x": [
          180,
          -440
         ],
         "y": [
          939.0800000000002,
          927.4849999999989
         ]
        },
        {
         "marker": {
          "color": "blue",
          "symbol": "cross"
         },
         "mode": "markers",
         "name": "Center Points",
         "type": "scatter",
         "x": [
          -1.3000000000000003e-7
         ],
         "y": [
          0
         ]
        }
       ],
       "layout": {
        "annotations": [
         {
          "arrowcolor": "black",
          "arrowhead": 2,
          "arrowsize": 1,
          "arrowwidth": 2,
          "ax": -100,
          "ay": -200,
          "showarrow": true,
          "text": "Center Point: -130.000nA <br> Peak difference: 620.000 nA",
          "x": -130.00000000000003,
          "y": 0
         }
        ],
        "height": 600,
        "legend": {
         "orientation": "h",
         "x": 0.5,
         "xanchor": "center",
         "y": 1.1,
         "yanchor": "top"
        },
        "template": {
         "data": {
          "bar": [
           {
            "error_x": {
             "color": "#2a3f5f"
            },
            "error_y": {
             "color": "#2a3f5f"
            },
            "marker": {
             "line": {
              "color": "#E5ECF6",
              "width": 0.5
             },
             "pattern": {
              "fillmode": "overlay",
              "size": 10,
              "solidity": 0.2
             }
            },
            "type": "bar"
           }
          ],
          "barpolar": [
           {
            "marker": {
             "line": {
              "color": "#E5ECF6",
              "width": 0.5
             },
             "pattern": {
              "fillmode": "overlay",
              "size": 10,
              "solidity": 0.2
             }
            },
            "type": "barpolar"
           }
          ],
          "carpet": [
           {
            "aaxis": {
             "endlinecolor": "#2a3f5f",
             "gridcolor": "white",
             "linecolor": "white",
             "minorgridcolor": "white",
             "startlinecolor": "#2a3f5f"
            },
            "baxis": {
             "endlinecolor": "#2a3f5f",
             "gridcolor": "white",
             "linecolor": "white",
             "minorgridcolor": "white",
             "startlinecolor": "#2a3f5f"
            },
            "type": "carpet"
           }
          ],
          "choropleth": [
           {
            "colorbar": {
             "outlinewidth": 0,
             "ticks": ""
            },
            "type": "choropleth"
           }
          ],
          "contour": [
           {
            "colorbar": {
             "outlinewidth": 0,
             "ticks": ""
            },
            "colorscale": [
             [
              0,
              "#0d0887"
             ],
             [
              0.1111111111111111,
              "#46039f"
             ],
             [
              0.2222222222222222,
              "#7201a8"
             ],
             [
              0.3333333333333333,
              "#9c179e"
             ],
             [
              0.4444444444444444,
              "#bd3786"
             ],
             [
              0.5555555555555556,
              "#d8576b"
             ],
             [
              0.6666666666666666,
              "#ed7953"
             ],
             [
              0.7777777777777778,
              "#fb9f3a"
             ],
             [
              0.8888888888888888,
              "#fdca26"
             ],
             [
              1,
              "#f0f921"
             ]
            ],
            "type": "contour"
           }
          ],
          "contourcarpet": [
           {
            "colorbar": {
             "outlinewidth": 0,
             "ticks": ""
            },
            "type": "contourcarpet"
           }
          ],
          "heatmap": [
           {
            "colorbar": {
             "outlinewidth": 0,
             "ticks": ""
            },
            "colorscale": [
             [
              0,
              "#0d0887"
             ],
             [
              0.1111111111111111,
              "#46039f"
             ],
             [
              0.2222222222222222,
              "#7201a8"
             ],
             [
              0.3333333333333333,
              "#9c179e"
             ],
             [
              0.4444444444444444,
              "#bd3786"
             ],
             [
              0.5555555555555556,
              "#d8576b"
             ],
             [
              0.6666666666666666,
              "#ed7953"
             ],
             [
              0.7777777777777778,
              "#fb9f3a"
             ],
             [
              0.8888888888888888,
              "#fdca26"
             ],
             [
              1,
              "#f0f921"
             ]
            ],
            "type": "heatmap"
           }
          ],
          "heatmapgl": [
           {
            "colorbar": {
             "outlinewidth": 0,
             "ticks": ""
            },
            "colorscale": [
             [
              0,
              "#0d0887"
             ],
             [
              0.1111111111111111,
              "#46039f"
             ],
             [
              0.2222222222222222,
              "#7201a8"
             ],
             [
              0.3333333333333333,
              "#9c179e"
             ],
             [
              0.4444444444444444,
              "#bd3786"
             ],
             [
              0.5555555555555556,
              "#d8576b"
             ],
             [
              0.6666666666666666,
              "#ed7953"
             ],
             [
              0.7777777777777778,
              "#fb9f3a"
             ],
             [
              0.8888888888888888,
              "#fdca26"
             ],
             [
              1,
              "#f0f921"
             ]
            ],
            "type": "heatmapgl"
           }
          ],
          "histogram": [
           {
            "marker": {
             "pattern": {
              "fillmode": "overlay",
              "size": 10,
              "solidity": 0.2
             }
            },
            "type": "histogram"
           }
          ],
          "histogram2d": [
           {
            "colorbar": {
             "outlinewidth": 0,
             "ticks": ""
            },
            "colorscale": [
             [
              0,
              "#0d0887"
             ],
             [
              0.1111111111111111,
              "#46039f"
             ],
             [
              0.2222222222222222,
              "#7201a8"
             ],
             [
              0.3333333333333333,
              "#9c179e"
             ],
             [
              0.4444444444444444,
              "#bd3786"
             ],
             [
              0.5555555555555556,
              "#d8576b"
             ],
             [
              0.6666666666666666,
              "#ed7953"
             ],
             [
              0.7777777777777778,
              "#fb9f3a"
             ],
             [
              0.8888888888888888,
              "#fdca26"
             ],
             [
              1,
              "#f0f921"
             ]
            ],
            "type": "histogram2d"
           }
          ],
          "histogram2dcontour": [
           {
            "colorbar": {
             "outlinewidth": 0,
             "ticks": ""
            },
            "colorscale": [
             [
              0,
              "#0d0887"
             ],
             [
              0.1111111111111111,
              "#46039f"
             ],
             [
              0.2222222222222222,
              "#7201a8"
             ],
             [
              0.3333333333333333,
              "#9c179e"
             ],
             [
              0.4444444444444444,
              "#bd3786"
             ],
             [
              0.5555555555555556,
              "#d8576b"
             ],
             [
              0.6666666666666666,
              "#ed7953"
             ],
             [
              0.7777777777777778,
              "#fb9f3a"
             ],
             [
              0.8888888888888888,
              "#fdca26"
             ],
             [
              1,
              "#f0f921"
             ]
            ],
            "type": "histogram2dcontour"
           }
          ],
          "mesh3d": [
           {
            "colorbar": {
             "outlinewidth": 0,
             "ticks": ""
            },
            "type": "mesh3d"
           }
          ],
          "parcoords": [
           {
            "line": {
             "colorbar": {
              "outlinewidth": 0,
              "ticks": ""
             }
            },
            "type": "parcoords"
           }
          ],
          "pie": [
           {
            "automargin": true,
            "type": "pie"
           }
          ],
          "scatter": [
           {
            "fillpattern": {
             "fillmode": "overlay",
             "size": 10,
             "solidity": 0.2
            },
            "type": "scatter"
           }
          ],
          "scatter3d": [
           {
            "line": {
             "colorbar": {
              "outlinewidth": 0,
              "ticks": ""
             }
            },
            "marker": {
             "colorbar": {
              "outlinewidth": 0,
              "ticks": ""
             }
            },
            "type": "scatter3d"
           }
          ],
          "scattercarpet": [
           {
            "marker": {
             "colorbar": {
              "outlinewidth": 0,
              "ticks": ""
             }
            },
            "type": "scattercarpet"
           }
          ],
          "scattergeo": [
           {
            "marker": {
             "colorbar": {
              "outlinewidth": 0,
              "ticks": ""
             }
            },
            "type": "scattergeo"
           }
          ],
          "scattergl": [
           {
            "marker": {
             "colorbar": {
              "outlinewidth": 0,
              "ticks": ""
             }
            },
            "type": "scattergl"
           }
          ],
          "scattermapbox": [
           {
            "marker": {
             "colorbar": {
              "outlinewidth": 0,
              "ticks": ""
             }
            },
            "type": "scattermapbox"
           }
          ],
          "scatterpolar": [
           {
            "marker": {
             "colorbar": {
              "outlinewidth": 0,
              "ticks": ""
             }
            },
            "type": "scatterpolar"
           }
          ],
          "scatterpolargl": [
           {
            "marker": {
             "colorbar": {
              "outlinewidth": 0,
              "ticks": ""
             }
            },
            "type": "scatterpolargl"
           }
          ],
          "scatterternary": [
           {
            "marker": {
             "colorbar": {
              "outlinewidth": 0,
              "ticks": ""
             }
            },
            "type": "scatterternary"
           }
          ],
          "surface": [
           {
            "colorbar": {
             "outlinewidth": 0,
             "ticks": ""
            },
            "colorscale": [
             [
              0,
              "#0d0887"
             ],
             [
              0.1111111111111111,
              "#46039f"
             ],
             [
              0.2222222222222222,
              "#7201a8"
             ],
             [
              0.3333333333333333,
              "#9c179e"
             ],
             [
              0.4444444444444444,
              "#bd3786"
             ],
             [
              0.5555555555555556,
              "#d8576b"
             ],
             [
              0.6666666666666666,
              "#ed7953"
             ],
             [
              0.7777777777777778,
              "#fb9f3a"
             ],
             [
              0.8888888888888888,
              "#fdca26"
             ],
             [
              1,
              "#f0f921"
             ]
            ],
            "type": "surface"
           }
          ],
          "table": [
           {
            "cells": {
             "fill": {
              "color": "#EBF0F8"
             },
             "line": {
              "color": "white"
             }
            },
            "header": {
             "fill": {
              "color": "#C8D4E3"
             },
             "line": {
              "color": "white"
             }
            },
            "type": "table"
           }
          ]
         },
         "layout": {
          "annotationdefaults": {
           "arrowcolor": "#2a3f5f",
           "arrowhead": 0,
           "arrowwidth": 1
          },
          "autotypenumbers": "strict",
          "coloraxis": {
           "colorbar": {
            "outlinewidth": 0,
            "ticks": ""
           }
          },
          "colorscale": {
           "diverging": [
            [
             0,
             "#8e0152"
            ],
            [
             0.1,
             "#c51b7d"
            ],
            [
             0.2,
             "#de77ae"
            ],
            [
             0.3,
             "#f1b6da"
            ],
            [
             0.4,
             "#fde0ef"
            ],
            [
             0.5,
             "#f7f7f7"
            ],
            [
             0.6,
             "#e6f5d0"
            ],
            [
             0.7,
             "#b8e186"
            ],
            [
             0.8,
             "#7fbc41"
            ],
            [
             0.9,
             "#4d9221"
            ],
            [
             1,
             "#276419"
            ]
           ],
           "sequential": [
            [
             0,
             "#0d0887"
            ],
            [
             0.1111111111111111,
             "#46039f"
            ],
            [
             0.2222222222222222,
             "#7201a8"
            ],
            [
             0.3333333333333333,
             "#9c179e"
            ],
            [
             0.4444444444444444,
             "#bd3786"
            ],
            [
             0.5555555555555556,
             "#d8576b"
            ],
            [
             0.6666666666666666,
             "#ed7953"
            ],
            [
             0.7777777777777778,
             "#fb9f3a"
            ],
            [
             0.8888888888888888,
             "#fdca26"
            ],
            [
             1,
             "#f0f921"
            ]
           ],
           "sequentialminus": [
            [
             0,
             "#0d0887"
            ],
            [
             0.1111111111111111,
             "#46039f"
            ],
            [
             0.2222222222222222,
             "#7201a8"
            ],
            [
             0.3333333333333333,
             "#9c179e"
            ],
            [
             0.4444444444444444,
             "#bd3786"
            ],
            [
             0.5555555555555556,
             "#d8576b"
            ],
            [
             0.6666666666666666,
             "#ed7953"
            ],
            [
             0.7777777777777778,
             "#fb9f3a"
            ],
            [
             0.8888888888888888,
             "#fdca26"
            ],
            [
             1,
             "#f0f921"
            ]
           ]
          },
          "colorway": [
           "#636efa",
           "#EF553B",
           "#00cc96",
           "#ab63fa",
           "#FFA15A",
           "#19d3f3",
           "#FF6692",
           "#B6E880",
           "#FF97FF",
           "#FECB52"
          ],
          "font": {
           "color": "#2a3f5f"
          },
          "geo": {
           "bgcolor": "white",
           "lakecolor": "white",
           "landcolor": "#E5ECF6",
           "showlakes": true,
           "showland": true,
           "subunitcolor": "white"
          },
          "hoverlabel": {
           "align": "left"
          },
          "hovermode": "closest",
          "mapbox": {
           "style": "light"
          },
          "paper_bgcolor": "white",
          "plot_bgcolor": "#E5ECF6",
          "polar": {
           "angularaxis": {
            "gridcolor": "white",
            "linecolor": "white",
            "ticks": ""
           },
           "bgcolor": "#E5ECF6",
           "radialaxis": {
            "gridcolor": "white",
            "linecolor": "white",
            "ticks": ""
           }
          },
          "scene": {
           "xaxis": {
            "backgroundcolor": "#E5ECF6",
            "gridcolor": "white",
            "gridwidth": 2,
            "linecolor": "white",
            "showbackground": true,
            "ticks": "",
            "zerolinecolor": "white"
           },
           "yaxis": {
            "backgroundcolor": "#E5ECF6",
            "gridcolor": "white",
            "gridwidth": 2,
            "linecolor": "white",
            "showbackground": true,
            "ticks": "",
            "zerolinecolor": "white"
           },
           "zaxis": {
            "backgroundcolor": "#E5ECF6",
            "gridcolor": "white",
            "gridwidth": 2,
            "linecolor": "white",
            "showbackground": true,
            "ticks": "",
            "zerolinecolor": "white"
           }
          },
          "shapedefaults": {
           "line": {
            "color": "#2a3f5f"
           }
          },
          "ternary": {
           "aaxis": {
            "gridcolor": "white",
            "linecolor": "white",
            "ticks": ""
           },
           "baxis": {
            "gridcolor": "white",
            "linecolor": "white",
            "ticks": ""
           },
           "bgcolor": "#E5ECF6",
           "caxis": {
            "gridcolor": "white",
            "linecolor": "white",
            "ticks": ""
           }
          },
          "title": {
           "x": 0.05
          },
          "xaxis": {
           "automargin": true,
           "gridcolor": "white",
           "linecolor": "white",
           "ticks": "",
           "title": {
            "standoff": 15
           },
           "zerolinecolor": "white",
           "zerolinewidth": 2
          },
          "yaxis": {
           "automargin": true,
           "gridcolor": "white",
           "linecolor": "white",
           "ticks": "",
           "title": {
            "standoff": 15
           },
           "zerolinecolor": "white",
           "zerolinewidth": 2
          }
         }
        },
        "title": {
         "text": "Run #<built-in function id> I vs. dV/dI"
        },
        "width": 600,
        "xaxis": {
         "title": {
          "text": "Current (nA)"
         }
        },
        "yaxis": {
         "title": {
          "text": "d(Voltage)/d(Current)"
         }
        }
       }
      }
     },
     "metadata": {},
     "output_type": "display_data"
    },
    {
     "data": {
      "application/vnd.jupyter.widget-view+json": {
       "model_id": "01b90e364b8a4d74bca36be0fa467f9d",
       "version_major": 2,
       "version_minor": 0
      },
      "image/png": "[encoded data removed]",
      "text/html": [
       "\n",
       "            <div style=\"display: inline-block;\">\n",
       "                <div class=\"jupyter-widgets widget-label\" style=\"text-align: center;\">\n",
       "                    Figure\n",
       "                </div>\n",
       "                <img src='data:image/png;base64,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' width=640.0/>\n",
       "            </div>\n",
       "        "
      ],
      "text/plain": [
       "Canvas(toolbar=Toolbar(toolitems=[('Home', 'Reset original view', 'home', 'home'), ('Back', 'Back to previous …"
      ]
     },
     "metadata": {},
     "output_type": "display_data"
    }
   ],
   "source": [
    "I_range=1e-6\n",
    "K2440.output(1)\n",
    "appl_current(-I_range) #Limit:1e-5 Amp(1MOhms risistor),1e-6 Amp(10MOhms risistor)\n",
    "sleep(2)\n",
    "# station.snapshot(update=True);\n",
    "exp = qc.new_experiment('I-V', sample_name='020-1ICP_20-21-08-09G')\n",
    "dataid = do1d(appl_current, -I_range ,I_range, 101, 0.003, meas_voltage_K1)\n",
    "appl_current(0)\n",
    "K2440.output(0)\n",
    "\n",
    "plot_by_id(dataid)\n",
    "#save_path = r\"C:\\qcodes\\personal_scripts\\Albert\\104\\Plot\\104_{}.png\".format(dataid)  # Path to save the plot image\n",
    "#autosave_plot_by_id(dataid, save_path)\n",
    "# print(f\"R = {get_R_from_IV(dataid)}\")\n",
    "# dataset = qc.load_by_id(dataid)\n",
    "IV(dataid)\n",
    "IV_diff(dataid)"
   ]
  },
  {
   "cell_type": "code",
   "execution_count": null,
   "id": "ee32ef77",
   "metadata": {},
   "outputs": [],
   "source": [
    "get_R_from_IV(dataid)"
   ]
  },
  {
   "cell_type": "code",
   "execution_count": null,
   "id": "ae71124e",
   "metadata": {},
   "outputs": [],
   "source": [
    "dataset = qc.load_by_id(dataid)\n",
    "get_R_from_IV(dataid)\n",
    "IV(dataid)\n",
    "IV_diff(dataid)"
   ]
  },
  {
   "cell_type": "code",
   "execution_count": 32,
   "id": "795c08e0",
   "metadata": {},
   "outputs": [],
   "source": [
    "import plotly.graph_objs as go"
   ]
  },
  {
   "cell_type": "code",
   "execution_count": null,
   "id": "ea6a7850",
   "metadata": {},
   "outputs": [],
   "source": []
  },
  {
   "cell_type": "code",
   "execution_count": null,
   "id": "9ca53ea4",
   "metadata": {},
   "outputs": [],
   "source": [
    "for i in tqdm(range(1000)):\n",
    "    K2440.output(1)\n",
    "    I_range=1e-6\n",
    "    appl_current(-I_range) #Limit:1e-5 Amp(1MOhms risistor),1e-6 Amp(10MOhms risistor)\n",
    "    sleep(0.001)\n",
    "    # station.snapshot(update=True);\n",
    "    exp = qc.new_experiment('I-V', sample_name=f'103-03_J1_33-32-30-31_1M_F{i+1}')\n",
    "    dataid = do1d(appl_current, -I_range ,I_range, 101, 0.0001, meas_voltage_K2, meas_voltage_AC_L1,meas_voltage_AC_L1_P)\n",
    "    exp = qc.new_experiment('I-V', sample_name=f'103-03_J1_33-32-30-31_1M_B{i+1}')\n",
    "    dataid = do1d(appl_current, I_range ,-I_range, 101, 0.0001, meas_voltage_K2)\n",
    "    K2440.output(0)\n",
    "    clear_output(True)"
   ]
  },
  {
   "cell_type": "code",
   "execution_count": null,
   "id": "ffc1e4dd",
   "metadata": {},
   "outputs": [],
   "source": [
    "get_Mag()"
   ]
  },
  {
   "cell_type": "code",
   "execution_count": null,
   "id": "2908c940",
   "metadata": {},
   "outputs": [],
   "source": [
    "SGS.off()"
   ]
  },
  {
   "cell_type": "code",
   "execution_count": null,
   "id": "d82eb13a",
   "metadata": {},
   "outputs": [],
   "source": [
    "SGS.power(0)"
   ]
  },
  {
   "cell_type": "code",
   "execution_count": null,
   "id": "242d95fc",
   "metadata": {},
   "outputs": [],
   "source": [
    "DMM6500.averaging_count(5)\n",
    "DMM6500.averaging_enabled(True)"
   ]
  },
  {
   "cell_type": "code",
   "execution_count": null,
   "id": "e0c518ad",
   "metadata": {},
   "outputs": [],
   "source": [
    "for i in tqdm(range(21)):\n",
    "    I_range = round(round(0.55 + 5*i * 1e-4, 6)* 1e-6, 10)  # Round to 3 decimal places\n",
    "    print(I_range)\n"
   ]
  },
  {
   "cell_type": "code",
   "execution_count": null,
   "id": "78e3e90f",
   "metadata": {},
   "outputs": [],
   "source": []
  },
  {
   "cell_type": "code",
   "execution_count": null,
   "id": "0999a81b",
   "metadata": {},
   "outputs": [],
   "source": [
    "for i in tqdm(range(21)):\n",
    "    K2440.output(1)\n",
    "    I_range = round(round(0.55 + 5*i * 1e-4, 6)* 1e-6, 10) \n",
    "    appl_current(-I_range) #Limit:1e-5 Amp(1MOhms risistor),1e-6 Amp(10MOhms risistor)\n",
    "    sleep(2)\n",
    "    # station.snapshot(update=True);\n",
    "    exp = qc.new_experiment('I-V', sample_name=f'103-04_J1_24-25-05-04(06-07G)_1M_By@0mT_{-I_range}_201')\n",
    "    dataid = do1d(appl_current, -I_range ,I_range, 201, 0.00001, meas_voltage_K2)\n",
    "\n",
    "    appl_current(0)\n",
    "    K2440.output(0)\n",
    "\n",
    "\n",
    "    plot_by_id(dataid)\n",
    "    save_path = r\"D:\\data\\Albert\\103\\Plot\\104_{}.png\".format(dataid)  # Path to save the plot image\n",
    "    autosave_plot_by_id(dataid, save_path)\n",
    "    print(f\"ID:{dataid}\")\n",
    "    print(f\"R = {get_R_from_IV_2(dataid)}\")\n",
    "    dataset = qc.load_by_id(dataid)\n",
    "    IV(id=dataid)\n",
    "    IV_diff(id=dataid)"
   ]
  },
  {
   "cell_type": "code",
   "execution_count": null,
   "id": "e9ac98ca",
   "metadata": {},
   "outputs": [],
   "source": [
    "DMM6500.averaging_count(5)\n",
    "DMM6500.averaging_enabled(True)"
   ]
  },
  {
   "cell_type": "code",
   "execution_count": null,
   "id": "ad55deb3",
   "metadata": {},
   "outputs": [],
   "source": [
    "K2440.output(1)\n",
    "I_range = -6e-6\n",
    "appl_current(-I_range) #Limit:1e-5 Amp(1MOhms risistor),1e-6 Amp(10MOhms risistor)\n",
    "sleep(2)\n",
    "# station.snapshot(update=True);\n",
    "exp = qc.new_experiment('I-V', sample_name=f'103-03_J2_27-26-30-31M(32G-33G-28G-29G)_1M_By@0.1mT{-I_range}')\n",
    "dataid = do1d(appl_current, -I_range  ,I_range , 2601, 0.00001, meas_voltage_K2)\n",
    "appl_current(0)\n",
    "K2440.output(0)\n",
    "plot_by_id(dataid)\n",
    "save_path = r\"D:\\data\\Albert\\103\\Plot\\104_{}.png\".format(dataid)  # Path to save the plot image\n",
    "autosave_plot_by_id(dataid, save_path)\n",
    "print(f\"R = {get_R_from_IV_2(dataid)}\")\n",
    "dataset = qc.load_by_id(dataid)"
   ]
  },
  {
   "cell_type": "code",
   "execution_count": null,
   "id": "2b0e1832",
   "metadata": {},
   "outputs": [],
   "source": [
    "K2440.output(1)\n",
    "I_range = 6e-6\n",
    "appl_current(-I_range) #Limit:1e-5 Amp(1MOhms risistor),1e-6 Amp(10MOhms risistor)\n",
    "sleep(2)\n",
    "# station.snapshot(update=True);\n",
    "exp = qc.new_experiment('I-V', sample_name=f'103-03_J2_27-26-30-31M(32G-33G-28G-29G)_1M_By@0.1mT{-I_range}')\n",
    "dataid = do1d(appl_current, -I_range  ,I_range , 2601, 0.00001, meas_voltage_K2)\n",
    "appl_current(0)\n",
    "K2440.output(0)\n",
    "plot_by_id(dataid)\n",
    "save_path = r\"D:\\data\\Albert\\103\\Plot\\104_{}.png\".format(dataid)  # Path to save the plot image\n",
    "autosave_plot_by_id(dataid, save_path)\n",
    "print(f\"ID:{dataid}\")\n",
    "print(f\"R = {get_R_from_IV_2(dataid)}\")\n",
    "dataset = qc.load_by_id(dataid)\n",
    "# IV(id=dataid)\n",
    "# IV_diff(id=dataid)"
   ]
  },
  {
   "cell_type": "code",
   "execution_count": null,
   "id": "e90dc212",
   "metadata": {},
   "outputs": [],
   "source": [
    "25-05-06-07(04-24G)\n"
   ]
  },
  {
   "cell_type": "code",
   "execution_count": null,
   "id": "5c79e45a",
   "metadata": {},
   "outputs": [],
   "source": [
    "K2440.output(1)\n",
    "I_range=-7e-6\n",
    "appl_current(-I_range) #Limit:1e-5 Amp(1MOhms risistor),1e-6 Amp(10MOhms risistor)\n",
    "sleep(2)\n",
    "# station.snapshot(update=True);\n",
    "exp = qc.new_experiment('I-V', sample_name='103-03_J2_32-30-26-27_1M_By@0mT')\n",
    "dataid = do1d(appl_current, -I_range ,I_range, 1401, 0.0001, meas_voltage_K2)\n",
    "\n",
    "appl_current(0)\n",
    "K2440.output(0)\n",
    "\n",
    "\n",
    "plot_by_id(dataid)\n",
    "save_path = r\"D:\\data\\Albert\\103\\Plot\\104_{}.png\".format(dataid)  # Path to save the plot image\n",
    "autosave_plot_by_id(dataid, save_path)\n",
    "print(f\"ID:{dataid}\")\n",
    "print(f\"R = {get_R_from_IV_2(dataid)}\")\n",
    "dataset = qc.load_by_id(dataid)\n",
    "IV(id=dataid)\n",
    "IV_diff(id=dataid)"
   ]
  },
  {
   "cell_type": "code",
   "execution_count": null,
   "id": "8666f593",
   "metadata": {},
   "outputs": [],
   "source": [
    "K2440.output(1)\n",
    "I_range=7e-6\n",
    "appl_current(-I_range) #Limit:1e-5 Amp(1MOhms risistor),1e-6 Amp(10MOhms risistor)\n",
    "sleep(2)\n",
    "# station.snapshot(update=True);\n",
    "exp = qc.new_experiment('I-V', sample_name='103-03_J2_32-30-26-27_1M_By@0mT')\n",
    "dataid = do1d(appl_current, -I_range ,I_range, 1401, 0.0001, meas_voltage_K2)\n",
    "\n",
    "appl_current(0)\n",
    "K2440.output(0)\n",
    "\n",
    "\n",
    "plot_by_id(dataid)\n",
    "save_path = r\"D:\\data\\Albert\\103\\Plot\\104_{}.png\".format(dataid)  # Path to save the plot image\n",
    "autosave_plot_by_id(dataid, save_path)\n",
    "print(f\"ID:{dataid}\")\n",
    "print(f\"R = {get_R_from_IV_2(dataid)}\")\n",
    "dataset = qc.load_by_id(dataid)\n",
    "IV(id=dataid)\n",
    "IV_diff(id=dataid)"
   ]
  },
  {
   "cell_type": "code",
   "execution_count": null,
   "id": "4ce7045d",
   "metadata": {},
   "outputs": [],
   "source": [
    "# Set current to 0\n",
    "K2440.output(0)\n",
    "appl_current(0e-6)"
   ]
  },
  {
   "cell_type": "code",
   "execution_count": null,
   "id": "749b64e4",
   "metadata": {},
   "outputs": [],
   "source": [
    "K2440.output(1)\n",
    "appl_current(0.1e-7)"
   ]
  },
  {
   "cell_type": "code",
   "execution_count": null,
   "id": "9f4da299",
   "metadata": {
    "scrolled": true
   },
   "outputs": [],
   "source": [
    "runid=6\n",
    "print(get_R_from_IV_2(runid))"
   ]
  },
  {
   "cell_type": "markdown",
   "id": "3196b90e",
   "metadata": {},
   "source": [
    "## 加TG (1D)"
   ]
  },
  {
   "cell_type": "code",
   "execution_count": null,
   "id": "08a5e298",
   "metadata": {},
   "outputs": [],
   "source": [
    "K2440.output(1)\n",
    "appl_TG(0)"
   ]
  },
  {
   "cell_type": "code",
   "execution_count": null,
   "id": "a6f95af5",
   "metadata": {},
   "outputs": [],
   "source": [
    "K2440.output(1)\n",
    "K2440.output(1)\n",
    "appl_TG(-50)\n",
    "sleep(3)\n",
    "appl_current(-1.5e-8)\n",
    "sleep(1)\n",
    "\n",
    "# station.snapshot(update=True);\n",
    "exp = qc.new_experiment('IV', sample_name='TG21')\n",
    "\n",
    "#do1d(param_set, start, stop, num_points, delay, *param_meas)\n",
    "dataid = do1d(appl_current, -1.5e-8 ,1.5e-8, 101, 0.05, meas_voltage_K2)\n",
    "# dataid = do1d(appl_current, 6e-6 , -6e-6, 251, 0.01, meas_voltage_K1)\n",
    "# ivvi.set_dacs_zero()\n",
    "\n",
    "K2440.output(0)\n",
    "K2440.output(0)\n",
    "appl_current(0)\n",
    "plot_by_id(dataid)\n",
    "#print(get_R_from_IV(dataid))\n",
    "# print(get_R_from_IV_2(dataid))\n"
   ]
  },
  {
   "cell_type": "markdown",
   "id": "05b0d19b",
   "metadata": {},
   "source": [
    "## 歸零\n"
   ]
  },
  {
   "cell_type": "code",
   "execution_count": null,
   "id": "d8154670",
   "metadata": {},
   "outputs": [],
   "source": [
    "#K2440.output(1)\n",
    "K2440.output(1)\n",
    "\n",
    "appl_current(0)\n",
    "sleep(1)\n",
    "#appl_TG(0)\n",
    "sleep(5)\n",
    "\n",
    "#K2440.output(0)\n",
    "K2440.output(0)"
   ]
  },
  {
   "cell_type": "markdown",
   "id": "91795bf5",
   "metadata": {},
   "source": [
    "# Magnetic field"
   ]
  },
  {
   "cell_type": "markdown",
   "id": "c1b88abd",
   "metadata": {},
   "source": [
    "## IV vs Bx"
   ]
  },
  {
   "cell_type": "code",
   "execution_count": null,
   "id": "77c31bf1",
   "metadata": {},
   "outputs": [],
   "source": [
    "K2440.rangev()"
   ]
  },
  {
   "cell_type": "code",
   "execution_count": null,
   "id": "ea5d8a7d",
   "metadata": {},
   "outputs": [],
   "source": [
    "K2440.volt(0)\n",
    "K2440.output(1) #output off\n",
    "sleep(1)\n",
    "appl_current(1.5e-7)\n",
    "sleep(2)\n",
    "meas_voltage_K2()"
   ]
  },
  {
   "cell_type": "code",
   "execution_count": null,
   "id": "e083479a",
   "metadata": {},
   "outputs": [],
   "source": [
    "sleep(120)"
   ]
  },
  {
   "cell_type": "code",
   "execution_count": null,
   "id": "6c69dc40",
   "metadata": {},
   "outputs": [],
   "source": [
    "def get_Mag(show=True):\n",
    "    Mag_x = magnet_x.field()\n",
    "    Mag_y = magnet_y.field()\n",
    "    Mag_z = magnet_z.field()\n",
    "    if show:\n",
    "        print(f\"Mag_x: {Mag_x*1e3:.6f} mT\")\n",
    "        print(f\"Mag_y: {Mag_y*1e3:.6f} mT\")\n",
    "        print(f\"Mag_z: {Mag_z*1e3:.6f} mT\")\n",
    "    else: \n",
    "        return Mag_x, Mag_y, Mag_z\n",
    "get_Mag()"
   ]
  },
  {
   "cell_type": "code",
   "execution_count": null,
   "id": "582ee743",
   "metadata": {},
   "outputs": [],
   "source": [
    "get_Mag()"
   ]
  },
  {
   "cell_type": "code",
   "execution_count": null,
   "id": "9634bb97",
   "metadata": {},
   "outputs": [],
   "source": [
    "magnet_y.field()"
   ]
  },
  {
   "cell_type": "code",
   "execution_count": null,
   "id": "add54ae7",
   "metadata": {},
   "outputs": [],
   "source": [
    "for i in tqdm(range(23), desc=\"First loop\"):\n",
    "    value = (25 - i) * 1e-3 \n",
    "    value = float(f\"{value:.10f}\")\n",
    "    print(value)"
   ]
  },
  {
   "cell_type": "code",
   "execution_count": null,
   "id": "04c8a1e5",
   "metadata": {},
   "outputs": [],
   "source": [
    "from tqdm import tqdm\n",
    "import time\n",
    "\n",
    "from IPython.display import clear_output\n",
    "# First loop\n",
    "for i in tqdm(range(6), desc=\"First loop\"):\n",
    "    Mag_x = magnet_x.field()\n",
    "    value = (15 + i) * 1e-3\n",
    "    value = float(f\"{value:.10f}\")\n",
    "    magnet_x.field(value)\n",
    "    print(f\"magnet_x is {Mag_x:.8f} T\")\n",
    "    time.sleep(15)\n",
    "    clear_output(True)\n",
    "\n",
    "# Pause for 30 seconds\n",
    "time.sleep(60)\n",
    "\n",
    "# Second loop\n",
    "for i in tqdm(range(23), desc=\"First loop\"):\n",
    "    Mag_x = magnet_x.field()\n",
    "    value = (25 - i) * 1e-3 \n",
    "    value = float(f\"{value:.10f}\")\n",
    "    magnet_x.field(value)\n",
    "    print(f\"magnet_x is {Mag_x:.8f} T\")\n",
    "    time.sleep(15)\n",
    "    clear_output(True)\n",
    "\n",
    "# Pause for 180 seconds\n",
    "time.sleep(300)"
   ]
  },
  {
   "cell_type": "code",
   "execution_count": null,
   "id": "fc3e418b",
   "metadata": {},
   "outputs": [],
   "source": [
    "magnet_x.field(-20)"
   ]
  },
  {
   "cell_type": "code",
   "execution_count": null,
   "id": "07666294",
   "metadata": {},
   "outputs": [],
   "source": [
    "Mag = -20e-3\n",
    "I_range=2.5e-6\n",
    "K2440.output(1)\n",
    "sleep(2)\n",
    "magnet_x.field(Mag)\n",
    "sleep(10)\n",
    "appl_current(-I_range)\n",
    "sleep(3)\n",
    "direction = 'backward' if Mag > 0 else 'forward'\n",
    "\n",
    "\n",
    "# station.snapshot(update=True);\n",
    "exp = qc.new_experiment('IV vs Bx', sample_name=f'103-06_J2_12-13-18-19_1M_Bx_{direction}_By@0mT')\n",
    "\n",
    "dataid = do2d(magnet_x.field, Mag, -Mag, 76 , 0.7, appl_current, -I_range ,I_range, 101, 0.01, meas_voltage_K2)\n",
    "\n",
    "appl_current(0)\n",
    "K2440.output(0)\n",
    "# magnet_y.field(0)\n",
    "\n",
    "plot_by_id(dataid)\n",
    "autosave_plot_by_id(dataid, save_path)"
   ]
  },
  {
   "cell_type": "code",
   "execution_count": null,
   "id": "5f475874",
   "metadata": {},
   "outputs": [],
   "source": [
    "K2440.output(1)\n",
    "sleep(2)\n",
    "Mag = 10e-3\n",
    "I_range=2.5e-5\n",
    "\n",
    "magnet_x.field(Mag)\n",
    "sleep(30)\n",
    "appl_current(-I_range)\n",
    "sleep(3)\n",
    "direction = 'backward' if Mag > 0 else 'forward'\n",
    "\n",
    "\n",
    "# station.snapshot(update=True);\n",
    "\n",
    "exp = qc.new_experiment('IV vs Bx', sample_name=f'094-20IV_Bx_16-17-19-18_10M_{direction}')\n",
    "\n",
    "dataid = do2d(magnet_x.field, Mag, -Mag, 101 , 1.5, appl_current, -I_range ,I_range, 101, 0.05, meas_voltage_K2)#M:I Delay time 10:1\n",
    "\n",
    "\n",
    "appl_current(0)\n",
    "K2440.output(0)\n",
    "# magnet_x.field(0)\n",
    "\n",
    "plot_by_id(dataid)\n",
    "autosave_plot_by_id(dataid, save_path)"
   ]
  },
  {
   "cell_type": "code",
   "execution_count": null,
   "id": "bfdd8a07",
   "metadata": {},
   "outputs": [],
   "source": [
    "set_magnetic_field_stepwise(magnet=magnet_x, current_field=-40e-3, target_field=-18e-3, step_size=1e-3, delay=2.5)"
   ]
  },
  {
   "cell_type": "code",
   "execution_count": null,
   "id": "5eef089c",
   "metadata": {},
   "outputs": [],
   "source": [
    "def set_magnetic_field_stepwise(magnet=magnet_x, current_field=0, target_field=-10e-3, step_size=1e-3, delay=2.5):\n",
    "    \n",
    "    \"\"\"Set the magnetic field with anti-hysteresis mechanism witch will go to target magnetic field +/- 5mT, \n",
    "    if the target magnetic field is greater/less than the current magnetic field, \n",
    "    then slowly ramp back the magnetic field to the target magnetic field\n",
    "\n",
    "    Args:\n",
    "        magnet (_type_, optional): magnet_x,magnet_y,magnet_z. Defaults to magnet_x.\n",
    "        current_field (int, optional): _description_. Defaults to 0 T.\n",
    "        target_field (_type_, optional): _description_. Defaults to -10e-3 T.\n",
    "        step_size (_type_, optional): _description_. Defaults to 1e-3 T.\n",
    "        delay (float, optional): _description_. Defaults to 2 sec.\n",
    "    \n",
    "    \"\"\"\n",
    "    \n",
    "    from tqdm.notebook import tqdm\n",
    "    import math\n",
    "    # Calculate total steps for tqdm progress bar\n",
    "    total_steps = math.ceil(abs((target_field - current_field) / step_size)) * 2\n",
    "    progress_bar = tqdm(total=total_steps)\n",
    "\n",
    "    # Determine the intermediate target field\n",
    "    intermediate_target_field = target_field + 5e-3 if target_field > current_field else target_field - 5e-3\n",
    "    # Slowly ramp the magnetic field to the intermediate target field\n",
    "    while abs(intermediate_target_field - current_field) > step_size:\n",
    "        if intermediate_target_field > current_field:\n",
    "            current_field += step_size\n",
    "            magnet.field(current_field)\n",
    "        else:\n",
    "            current_field -= step_size\n",
    "            magnet.field(current_field)\n",
    "        time.sleep(delay)\n",
    "        progress_bar.update(1)  # Update progress bar\n",
    "    # Slowly ramp back the magnetic field to the target_field\n",
    "    while abs(target_field - current_field) > step_size:\n",
    "        if target_field > current_field:\n",
    "            current_field += step_size\n",
    "            magnet.field(current_field)\n",
    "        else:\n",
    "            current_field -= step_size\n",
    "            magnet.field(current_field)\n",
    "        time.sleep(delay)\n",
    "        progress_bar.update(1)  # Update progress bar\n",
    "    magnet.field(target_field)\n",
    "    progress_bar.n = total_steps  # Set progress bar to 100%\n",
    "    progress_bar.refresh()  # Refresh the progress bar to show the update\n",
    "    progress_bar.close()  # Close progress bar when done"
   ]
  },
  {
   "cell_type": "code",
   "execution_count": null,
   "id": "6d385381",
   "metadata": {},
   "outputs": [],
   "source": [
    "for i in range(6):\n",
    "    magnet_x.field((-10-i)*1e-3)\n",
    "    sleep(4)\n",
    "sleep(10)\n",
    "\n",
    "for i in range(16):\n",
    "    magnet_x.field((15+i)*1e-3)\n",
    "    sleep(4)\n",
    "sleep(10)"
   ]
  },
  {
   "cell_type": "code",
   "execution_count": null,
   "id": "83205742",
   "metadata": {},
   "outputs": [],
   "source": [
    "for i in range(25):\n",
    "    print(-24+i)"
   ]
  },
  {
   "cell_type": "code",
   "execution_count": null,
   "id": "fef193a7",
   "metadata": {},
   "outputs": [],
   "source": [
    "magnet_x.field(-19e-3)\n",
    "sleep(10)\n",
    "#magnet_x.field(e-3)\n",
    "#sleep(10)\n",
    "#magnet_x.field(12.8e-3)\n",
    "#sleep(10)"
   ]
  },
  {
   "cell_type": "markdown",
   "id": "6a6f3c0d",
   "metadata": {},
   "source": [
    "## IV vs By"
   ]
  },
  {
   "cell_type": "code",
   "execution_count": null,
   "id": "b823efb8",
   "metadata": {},
   "outputs": [],
   "source": [
    "get_Mag()"
   ]
  },
  {
   "cell_type": "code",
   "execution_count": null,
   "id": "9e236537",
   "metadata": {},
   "outputs": [],
   "source": [
    "magnet_y.field(0e-3)"
   ]
  },
  {
   "cell_type": "code",
   "execution_count": null,
   "id": "b4e8ec13",
   "metadata": {},
   "outputs": [],
   "source": [
    "for i in tqdm(range(21), desc=\"2nd loop\"):\n",
    "    \n",
    "    value = (-10 + i*0.5) * 1e-3 \n",
    "    value = float(f\"{value:.10f}\")\n",
    "    magnet_y.field(value)\n",
    "    get_Mag()\n",
    "    time.sleep(15)\n",
    "    clear_output(True)"
   ]
  },
  {
   "cell_type": "code",
   "execution_count": null,
   "id": "5dce7f89",
   "metadata": {},
   "outputs": [],
   "source": [
    "\n",
    "# First loop\n",
    "for i in tqdm(range(11), desc=\"First loop\"):\n",
    "    \n",
    "    value = (5 +i) * 1e-3\n",
    "    value = float(f\"{value:.10f}\")\n",
    "    magnet_y.field(value)\n",
    "    get_Mag()\n",
    "    time.sleep(15)\n",
    "    clear_output(True)\n",
    "\n",
    "# Pause for 30 seconds\n",
    "time.sleep(60)\n",
    "\n",
    "# Second loop\n",
    "for i in tqdm(range(11), desc=\"2nd loop\"):\n",
    "    \n",
    "    value = (-10 + i) * 1e-3 \n",
    "    value = float(f\"{value:.10f}\")\n",
    "    magnet_y.field(value)\n",
    "    get_Mag()\n",
    "    time.sleep(15)\n",
    "    clear_output(True)\n",
    "# Pause for 180 seconds\n",
    "time.sleep(300)"
   ]
  },
  {
   "cell_type": "code",
   "execution_count": null,
   "id": "46dc421a",
   "metadata": {},
   "outputs": [],
   "source": [
    "magnet_y.field()"
   ]
  },
  {
   "cell_type": "code",
   "execution_count": null,
   "id": "3a7fb763",
   "metadata": {},
   "outputs": [],
   "source": [
    "Mag =5e-3\n",
    "I_range=0.6e-6\n",
    "K2440.output(1)\n",
    "sleep(2)\n",
    "magnet_y.field(Mag)\n",
    "sleep(10)\n",
    "appl_current(-I_range)\n",
    "sleep(3)\n",
    "direction = 'backward' if Mag > 0 else 'forward'\n",
    "\n",
    "\n",
    "# station.snapshot(update=True);\n",
    "exp = qc.new_experiment('IV vs By', sample_name=f'103-03_J2_27-26-30-31M(32G-33G-28G-29G)_1M_By_{direction}_{-I_range}')\n",
    "\n",
    "dataid = do2d(magnet_y.field, Mag, -Mag, 201 , 0.5, appl_current, -I_range ,I_range,  201, 0.0001, meas_voltage_K2)\n",
    "\n",
    "appl_current(0)\n",
    "K2440.output(0)\n",
    "# magnet_y.field(0)\n",
    "\n",
    "plot_by_id(dataid)\n",
    "autosave_plot_by_id(dataid, save_path)"
   ]
  },
  {
   "cell_type": "code",
   "execution_count": null,
   "id": "a9c30858",
   "metadata": {},
   "outputs": [],
   "source": [
    "Mag =-5e-3\n",
    "I_range=5e-6\n",
    "K2440.output(1)\n",
    "sleep(2)\n",
    "magnet_y.field(Mag)\n",
    "sleep(10)\n",
    "appl_current(-I_range)\n",
    "sleep(3)\n",
    "direction = 'backward' if Mag > 0 else 'forward'\n",
    "\n",
    "\n",
    "# station.snapshot(update=True);\n",
    "exp = qc.new_experiment('IV vs By', sample_name=f'103-03_J2_27-26-30-31M(32G-33G-28G-29G)_1M_By_{direction}_{-I_range}')\n",
    "\n",
    "dataid = do2d(magnet_y.field, Mag, -Mag, 201 , 0.5, appl_current, -I_range ,I_range,  201, 0.0001, meas_voltage_K2)\n",
    "\n",
    "appl_current(0)\n",
    "K2440.output(0)\n",
    "# magnet_y.field(0)\n",
    "\n",
    "plot_by_id(dataid)\n",
    "autosave_plot_by_id(dataid, save_path)"
   ]
  },
  {
   "cell_type": "code",
   "execution_count": null,
   "id": "8ba8b69c",
   "metadata": {},
   "outputs": [],
   "source": [
    "32-"
   ]
  },
  {
   "cell_type": "code",
   "execution_count": null,
   "id": "7c2e8f1b",
   "metadata": {},
   "outputs": [],
   "source": [
    "\n",
    "# First loop\n",
    "for i in tqdm(range(6), desc=\"First loop\"):\n",
    "    Mag_x = magnet_y.field()\n",
    "    value = (1.5 +i) * 1e-3\n",
    "    value = float(f\"{value:.10f}\")\n",
    "    magnet_y.field(value)\n",
    "    print(f\"magnet_y is {Mag_x:.8f} T\")\n",
    "    time.sleep(15)\n",
    "    clear_output(True)\n",
    "\n",
    "# Pause for 30 seconds\n",
    "time.sleep(60)\n",
    "\n",
    "# Second loop\n",
    "for i in tqdm(range(6), desc=\"2nd loop\"):\n",
    "    Mag_x = magnet_y.field()\n",
    "    value = (6.5 - i) * 1e-3 \n",
    "    value = float(f\"{value:.10f}\")\n",
    "    magnet_y.field(value)\n",
    "    print(f\"magnet_y is {Mag_x:.8f} T\")\n",
    "    time.sleep(15)\n",
    "    clear_output(True)\n",
    "\n",
    "# Pause for 180 seconds\n",
    "time.sleep(300)"
   ]
  },
  {
   "cell_type": "code",
   "execution_count": null,
   "id": "8d736f1b",
   "metadata": {},
   "outputs": [],
   "source": [
    "Mag = 1.5e-3\n",
    "I_range=2.5e-6\n",
    "K2440.output(1)\n",
    "sleep(2)\n",
    "magnet_y.field(Mag)\n",
    "sleep(10)\n",
    "appl_current(-I_range)\n",
    "sleep(3)\n",
    "direction = 'backward' if Mag > 0 else 'forward'\n",
    "\n",
    "\n",
    "# station.snapshot(update=True);\n",
    "exp = qc.new_experiment('IV vs By', sample_name=f'103-06_J2_12-13-18-19_1M_By_{direction}_Bx@3mT')\n",
    "\n",
    "dataid = do2d(magnet_y.field, Mag, -Mag, 1001 , 0.4, appl_current, -I_range ,I_range, 151, 0.01, meas_voltage_K2)\n",
    "\n",
    "appl_current(0)\n",
    "K2440.output(0)\n",
    "# magnet_y.field(0)\n",
    "\n",
    "plot_by_id(dataid)\n",
    "autosave_plot_by_id(dataid, save_path)"
   ]
  },
  {
   "cell_type": "code",
   "execution_count": null,
   "id": "43eb5eb6",
   "metadata": {},
   "outputs": [],
   "source": [
    "Mag()"
   ]
  },
  {
   "cell_type": "code",
   "execution_count": null,
   "id": "721c43a1",
   "metadata": {},
   "outputs": [],
   "source": [
    "Mag = 1.5e-3\n",
    "I_range=1e-6\n",
    "K2440.output(1)\n",
    "sleep(2)\n",
    "magnet_y.field(Mag)\n",
    "sleep(10)\n",
    "appl_current(-I_range)\n",
    "sleep(3)\n",
    "direction = 'backward' if Mag > 0 else 'forward'\n",
    "\n",
    "\n",
    "# station.snapshot(update=True);\n",
    "exp = qc.new_experiment('IV vs By', sample_name=f'103-01_J1_21-20-23-22_1M_By_{direction}_Bx@0mT')\n",
    "\n",
    "dataid = do2d(magnet_y.field, Mag, -Mag, 151 , 0.9, appl_current, -I_range ,I_range, 201, 0.01, meas_voltage_K2)\n",
    "\n",
    "appl_current(0)\n",
    "K2440.output(0)\n",
    "# magnet_y.field(0)\n",
    "\n",
    "plot_by_id(dataid)\n",
    "autosave_plot_by_id(dataid, save_path)"
   ]
  },
  {
   "cell_type": "code",
   "execution_count": null,
   "id": "dadb617e",
   "metadata": {},
   "outputs": [],
   "source": [
    "from tqdm import tqdm\n",
    "import time\n",
    "\n",
    "# First loop\n",
    "for i in tqdm(range(6), desc=\"First loop\"):\n",
    "    value = (1.5 + i) * 1e-3 \n",
    "    magnet_y.field(value)\n",
    "    print(f\"magnet_y is {value:.8f} T\")\n",
    "    time.sleep(10)\n",
    "\n",
    "# Pause for 30 seconds\n",
    "time.sleep(30)\n",
    "\n",
    "# Second loop\n",
    "for i in tqdm(range(8), desc=\"First loop\"):\n",
    "    value = (7 - i) * 1e-3 \n",
    "    magnet_y.field(value)\n",
    "    print(f\"magnet_y is {value:.8f} T\")\n",
    "    time.sleep(10)\n",
    "\n",
    "# Pause for 180 seconds\n",
    "time.sleep(300)\n"
   ]
  },
  {
   "cell_type": "code",
   "execution_count": null,
   "id": "cceb780f",
   "metadata": {},
   "outputs": [],
   "source": [
    "def combined_loop(start=0, end=5 ):\n",
    "  for i in tqdm(range((end-start)+6), desc=\"First loop\"):\n",
    "    value = start + i\n",
    "    print(f\"{value* 1e-3:.5f}\")\n",
    "\n",
    "  for i in tqdm(range(6), desc=\"Second loop\"):\n",
    "    value = end+5 - i\n",
    "    print(f\"{value* 1e-3:.5f}\")\n",
    "\n",
    "combined_loop()\n"
   ]
  },
  {
   "cell_type": "code",
   "execution_count": null,
   "id": "7963ad50",
   "metadata": {},
   "outputs": [],
   "source": [
    "Mag = 3e-3\n",
    "I_range=1e-6\n",
    "K2440.output(1)\n",
    "sleep(2)\n",
    "magnet_y.field(Mag)\n",
    "sleep(10)\n",
    "appl_current(-I_range)\n",
    "sleep(3)\n",
    "direction = 'backward' if Mag > 0 else 'forward'\n",
    "\n",
    "\n",
    "# station.snapshot(update=True);\n",
    "exp = qc.new_experiment('IV vs By', sample_name=f'103-04_J2_04-05-06-07_1M_By_{direction}_Bx@0mT')\n",
    "\n",
    "dataid = do2d(magnet_y.field, Mag, -Mag, 101 , 1.5, appl_current, -I_range ,I_range, 101, 0.01, meas_voltage_K2)\n",
    "\n",
    "appl_current(0)\n",
    "K2440.output(0)\n",
    "# magnet_y.field(0)\n",
    "\n",
    "plot_by_id(dataid)\n",
    "autosave_plot_by_id(dataid, save_path)"
   ]
  },
  {
   "cell_type": "code",
   "execution_count": null,
   "id": "3d67f8ce",
   "metadata": {},
   "outputs": [],
   "source": [
    "from tqdm import tqdm\n",
    "import time\n",
    "\n",
    "# First loop\n",
    "for i in tqdm(range(6), desc=\"First loop\"):\n",
    "    magnet_y.field((-3 - i) * 1e-3)\n",
    "    time.sleep(15)\n",
    "\n",
    "# Pause for 30 seconds\n",
    "time.sleep(30)\n",
    "\n",
    "# Second loop\n",
    "for i in tqdm(range(7), desc=\"Second loop\"):\n",
    "    magnet_y.field((-8 + i) * 1e-3)\n",
    "    time.sleep(15)\n",
    "\n",
    "# Pause for 180 seconds\n",
    "time.sleep(300)"
   ]
  },
  {
   "cell_type": "code",
   "execution_count": null,
   "id": "af9e2a73",
   "metadata": {},
   "outputs": [],
   "source": [
    "magnet_y.field(-1.5e-3)\n",
    "print(\"By at -1.5 mT\")"
   ]
  },
  {
   "cell_type": "code",
   "execution_count": null,
   "id": "214aa45a",
   "metadata": {},
   "outputs": [],
   "source": [
    "Mag = -3e-3\n",
    "I_range=1e-6\n",
    "K2440.output(1)\n",
    "sleep(2)\n",
    "magnet_y.field(Mag)\n",
    "sleep(10)\n",
    "appl_current(-I_range)\n",
    "sleep(3)\n",
    "direction = 'backward' if Mag > 0 else 'forward'\n",
    "\n",
    "\n",
    "# station.snapshot(update=True);\n",
    "exp = qc.new_experiment('IV vs By', sample_name=f'103-04_J2_04-05-06-07_1M_By_{direction}_Bx@0mT')\n",
    "\n",
    "dataid = do2d(magnet_y.field, Mag, -Mag, 501 , 1, appl_current, -I_range ,I_range, 251, 0.01, meas_voltage_K2)\n",
    "\n",
    "appl_current(0)\n",
    "K2440.output(0)\n",
    "# magnet_y.field(0)\n",
    "\n",
    "plot_by_id(dataid)\n",
    "autosave_plot_by_id(dataid, save_path)"
   ]
  },
  {
   "cell_type": "code",
   "execution_count": null,
   "id": "da9891fc",
   "metadata": {},
   "outputs": [],
   "source": [
    "from tqdm import tqdm\n",
    "import time\n",
    "\n",
    "# First loop\n",
    "for i in tqdm(range(6), desc=\"First loop\"):\n",
    "    magnet_y.field((3 + i) * 1e-3)\n",
    "    time.sleep(10)\n",
    "\n",
    "# Pause for 30 seconds\n",
    "time.sleep(30)\n",
    "\n",
    "# Second loop\n",
    "for i in tqdm(range(6), desc=\"Second loop\"):\n",
    "    magnet_y.field((8 - i) * 1e-3)\n",
    "    time.sleep(10)\n",
    "\n",
    "# Pause for 180 seconds\n",
    "time.sleep(300)"
   ]
  },
  {
   "cell_type": "code",
   "execution_count": null,
   "id": "8c1e92c1",
   "metadata": {},
   "outputs": [],
   "source": [
    "Mag = 3e-3\n",
    "I_range=1e-6\n",
    "K2440.output(1)\n",
    "sleep(2)\n",
    "magnet_y.field(Mag)\n",
    "sleep(10)\n",
    "appl_current(-I_range)\n",
    "sleep(3)\n",
    "direction = 'backward' if Mag > 0 else 'forward'\n",
    "\n",
    "\n",
    "# station.snapshot(update=True);\n",
    "exp = qc.new_experiment('IV vs By', sample_name=f'103-04_J2_04-05-06-07_1M_By_{direction}_Bx@0mT')\n",
    "\n",
    "dataid = do2d(magnet_y.field, Mag, -Mag, 501 , 1, appl_current, -I_range ,I_range, 251, 0.01, meas_voltage_K2)\n",
    "\n",
    "appl_current(0)\n",
    "K2440.output(0)\n",
    "# magnet_y.field(0)\n",
    "\n",
    "plot_by_id(dataid)\n",
    "autosave_plot_by_id(dataid, save_path)"
   ]
  },
  {
   "cell_type": "code",
   "execution_count": null,
   "id": "5208f447",
   "metadata": {},
   "outputs": [],
   "source": [
    "magnet_y.field(5e-3)"
   ]
  },
  {
   "cell_type": "code",
   "execution_count": null,
   "id": "3e408864",
   "metadata": {},
   "outputs": [],
   "source": [
    "for i in range(9):\n",
    "    magnet_y.field((0+i)*1e-3)\n",
    "    sleep(4)\n",
    "sleep(10)\n",
    "\n",
    "for i in range(6):\n",
    "    magnet_y.field((8-i)*1e-3)\n",
    "    sleep(4)\n",
    "\n",
    "sleep(60)\n",
    "# magnet_y.field(21.5e-3)\n",
    "sleep(60)\n",
    "#magnet_y.field(0.48e-3)\n",
    "#sleep(5)"
   ]
  },
  {
   "cell_type": "code",
   "execution_count": null,
   "id": "2eb14a5d",
   "metadata": {},
   "outputs": [],
   "source": [
    "for i in range(4):\n",
    "    print(8-i)"
   ]
  },
  {
   "cell_type": "code",
   "execution_count": null,
   "id": "a1ebeefb",
   "metadata": {},
   "outputs": [],
   "source": [
    "K2440.output(1)\n",
    "sleep(2)\n",
    "Mag = -40e-3\n",
    "I_range=2e-8\n",
    "\n",
    "magnet_y.field(Mag)\n",
    "sleep(10)\n",
    "appl_current(-I_range)\n",
    "sleep(3)\n",
    "direction = 'backward' if Mag > 0 else 'forward'\n",
    "\n",
    "\n",
    "# station.snapshot(update=True);\n",
    "\n",
    "exp = qc.new_experiment('IV vs By', sample_name=f'094-20IV_By_16-17-19-18_10M_{direction}_Bx@-18.5mT')\n",
    "\n",
    "dataid = do2d(magnet_y.field, Mag, -Mag, 601 , 2, appl_current, -I_range ,I_range, 201, 0.1, meas_voltage_K2)\n",
    "\n",
    "\n",
    "appl_current(0)\n",
    "K2440.output(0)\n",
    "# magnet_y.field(0)\n",
    "\n",
    "plot_by_id(dataid)\n",
    "autosave_plot_by_id(dataid, save_path)"
   ]
  },
  {
   "cell_type": "code",
   "execution_count": null,
   "id": "effdb8bf",
   "metadata": {},
   "outputs": [],
   "source": [
    "for i in range(24):\n",
    "    print(45-i)"
   ]
  },
  {
   "cell_type": "code",
   "execution_count": null,
   "id": "4b523a44",
   "metadata": {},
   "outputs": [],
   "source": []
  },
  {
   "cell_type": "markdown",
   "id": "7dce8613",
   "metadata": {},
   "source": [
    "## IV vs Bz"
   ]
  },
  {
   "cell_type": "code",
   "execution_count": null,
   "id": "a4e6e5f7",
   "metadata": {
    "scrolled": true
   },
   "outputs": [],
   "source": [
    "K2440.output(1)\n",
    "sleep(2)\n",
    "magnet_z.field(-80e-3)\n",
    "sleep(60)\n",
    "appl_current(-2e-7)\n",
    "sleep(5)\n",
    "\n",
    "# station.snapshot(update=True);\n",
    "\n",
    "exp = qc.new_experiment('IV vs Bz', sample_name='IV_Bz_33_32_30_31_10M_forward')\n",
    "\n",
    "dataid = do2d(magnet_z.field,-80e-3,80e-3, 71 , 20, appl_current, -2e-7 ,2e-7, 101, 0.05, meas_voltage_K2)\n",
    "\n",
    "appl_current(0)\n",
    "\n",
    "K2440.output(0)\n",
    "# magnet_y.field(0)\n",
    "\n",
    "plot_by_id(dataid)"
   ]
  },
  {
   "cell_type": "code",
   "execution_count": null,
   "id": "e68136d1",
   "metadata": {},
   "outputs": [],
   "source": [
    "#magnet_z.field(20e-3)\n",
    "#sleep(5)\n",
    "magnet_z.field(-6.1e-3)\n",
    "sleep(5)"
   ]
  },
  {
   "cell_type": "code",
   "execution_count": null,
   "id": "571645ac",
   "metadata": {},
   "outputs": [],
   "source": []
  },
  {
   "cell_type": "markdown",
   "id": "02c81568",
   "metadata": {},
   "source": [
    "## IV w/ Bx"
   ]
  },
  {
   "cell_type": "code",
   "execution_count": null,
   "id": "b5229271",
   "metadata": {},
   "outputs": [],
   "source": [
    "K2440.output(1)\n",
    "sleep(2)\n",
    "magnet_x.field(0.23e-3)\n",
    "appl_current(-0.5e-6)\n",
    "sleep(10)\n",
    "\n",
    "# station.snapshot(update=True);\n",
    "exp = qc.new_experiment('I vs V', sample_name='IV_w/_Bx')\n",
    "\n",
    "#do1d(param_set, start, stop, num_points, delay, *param_meas)\n",
    "dataid = do1d(appl_current, -0.5e-6 ,0.5e-6, 101, 0.05, meas_voltage_K2)\n",
    "# dataid = do1d(appl_current, 6e-6 , -6e-6, 251, 0.01, meas_voltage_K1)\n",
    "# ivvi.set_dacs_zero()\n",
    "\n",
    "appl_current(0)\n",
    "plot_by_id(dataid)\n",
    "# print(get_R_from_IV(dataid))\n",
    "#print(get_R_from_IV_2(dataid))\n",
    "\n",
    "K2440.output(0)"
   ]
  },
  {
   "cell_type": "markdown",
   "id": "27ac85cd",
   "metadata": {},
   "source": [
    "## IV w/ By"
   ]
  },
  {
   "cell_type": "code",
   "execution_count": null,
   "id": "b7c3a84d",
   "metadata": {},
   "outputs": [],
   "source": [
    "K2440.output(1)\n",
    "DMM6500.averaging_count(30)\n",
    "#DMM6500.averaging_enabled(False)\n",
    "\n",
    "sleep(2)\n",
    "magnet_y.field(0e-3)\n",
    "appl_current(-2e-7)\n",
    "sleep(20)\n",
    "\n",
    "# station.snapshot(update=True);\n",
    "exp = qc.new_experiment('I vs V', sample_name='IV_w/_By@0mT_forward_Avg30')\n",
    "\n",
    "#do1d(param_set, start, stop, num_points, delay, *param_meas)\n",
    "dataid = do1d(appl_current, -2e-7 ,2e-7, 201, 0.05, meas_voltage_K2)\n",
    "# dataid = do1d(appl_current, 6e-6 , -6e-6, 251, 0.01, meas_voltage_K1)\n",
    "# ivvi.set_dacs_zero()\n",
    "\n",
    "appl_current(0)\n",
    "plot_by_id(dataid)\n",
    "# print(get_R_from_IV(dataid))\n",
    "#print(get_R_from_IV_2(dataid))\n",
    "\n",
    "K2440.output(0)"
   ]
  },
  {
   "cell_type": "markdown",
   "id": "1e7ed93d",
   "metadata": {},
   "source": [
    "## MR"
   ]
  },
  {
   "cell_type": "code",
   "execution_count": null,
   "id": "9db581e2",
   "metadata": {},
   "outputs": [],
   "source": [
    "K2440.output(1)\n",
    "sleep(2)\n",
    "magnet_y.field(-0.1)\n",
    "sleep(5)\n",
    "#K2440.output(1)\n",
    "appl_current(1e-7)\n",
    "sleep(5)\n",
    "\n",
    "# station.snapshot(update=True);\n",
    "\n",
    "exp = qc.new_experiment('I vs By_MR', sample_name='072_14IVf_25_24_29_29_By_+-0.1T_MR_for')\n",
    "\n",
    "dataid = do1d(magnet_y.field, -0.1, 0.1, 71 , 1, meas_voltage_K2)\n",
    "\n",
    "appl_current(0)\n",
    "K2440.output(0)\n",
    "#K2440.output(0)\n",
    "magnet_y.field(0)\n",
    "\n",
    "plot_by_id(dataid)"
   ]
  },
  {
   "cell_type": "markdown",
   "id": "55fd3a3b",
   "metadata": {},
   "source": [
    "## IV w/Bz"
   ]
  },
  {
   "cell_type": "code",
   "execution_count": null,
   "id": "e76653c7",
   "metadata": {},
   "outputs": [],
   "source": [
    "K2440.output(1)\n",
    "DMM6500.averaging_count(10)\n",
    "#DMM6500.averaging_enabled(False)\n",
    "\n",
    "sleep(2)\n",
    "magnet_z.field(0e-3)\n",
    "appl_current(-2e-7)\n",
    "sleep(30)\n",
    "\n",
    "# station.snapshot(update=True);\n",
    "exp = qc.new_experiment('I vs V', sample_name='IV_w/_f_Bz@0mT_forward_Avg10')\n",
    "\n",
    "#do1d(param_set, start, stop, num_points, delay, *param_meas)\n",
    "dataid = do1d(appl_current, -2e-7 ,2e-7, 201, 0.05, meas_voltage_K2)\n",
    "# dataid = do1d(appl_current, 6e-6 , -6e-6, 251, 0.01, meas_voltage_K1)\n",
    "# ivvi.set_dacs_zero()\n",
    "\n",
    "appl_current(0)\n",
    "plot_by_id(dataid)\n",
    "# print(get_R_from_IV(dataid))\n",
    "#print(get_R_from_IV_2(dataid))\n",
    "\n",
    "K2440.output(0)"
   ]
  },
  {
   "cell_type": "markdown",
   "id": "d0274abc",
   "metadata": {},
   "source": [
    "# Zero everything"
   ]
  },
  {
   "cell_type": "code",
   "execution_count": null,
   "id": "a0cc99f2",
   "metadata": {},
   "outputs": [],
   "source": [
    "appl_current(0)\n",
    "appl_TG(0)\n",
    "magnet_y.field(0)\n",
    "sleep(5)\n",
    "magnet_x.field(0)\n",
    "sleep(5)\n",
    "magnet_z.field(0)\n",
    "sleep(5)\n",
    "#appl_voltage_AC(0.004)\n",
    "#SGS.off()\n",
    "K2440.output(0)"
   ]
  },
  {
   "cell_type": "code",
   "execution_count": null,
   "id": "cb8bf175",
   "metadata": {},
   "outputs": [],
   "source": [
    "appl_current(0)"
   ]
  },
  {
   "cell_type": "markdown",
   "id": "6610bce1",
   "metadata": {},
   "source": [
    "# Gate simple sweeps"
   ]
  },
  {
   "cell_type": "markdown",
   "id": "c010fbad",
   "metadata": {},
   "source": [
    "## 加TG (2D)"
   ]
  },
  {
   "cell_type": "code",
   "execution_count": null,
   "id": "6d7e9bf6",
   "metadata": {},
   "outputs": [],
   "source": [
    "appl_current(0)\n",
    "sleep(1)\n",
    "appl_TG(0)\n",
    "sleep(5)"
   ]
  },
  {
   "cell_type": "code",
   "execution_count": null,
   "id": "be01663b",
   "metadata": {},
   "outputs": [],
   "source": [
    "magnet_x.field(-0.044e-3)\n",
    "sleep(10)\n",
    "magnet_y.field(-6.016e-3)\n",
    "sleep(10)"
   ]
  },
  {
   "cell_type": "code",
   "execution_count": null,
   "id": "5397630e",
   "metadata": {},
   "outputs": [],
   "source": [
    "K2440.output(1)\n",
    "K2440.output(1)\n",
    "appl_TG(-30)\n",
    "sleep(5)\n",
    "appl_current(-1.5e-8)\n",
    "sleep(1)\n",
    "\n",
    "exp = qc.new_experiment('I_vs_Vgate_up', sample_name='33_32_30_31_1M_TG21')\n",
    "dataid = do2d(appl_TG, -30, 30, 301, 0.5, appl_current, -1.5e-8, 1.5e-8, 101, 0.1, meas_voltage_K2)\n",
    "\n",
    "appl_TG(0)\n",
    "sleep(5)\n",
    "appl_current(0e-7)\n",
    "sleep(5)\n",
    "\n",
    "K2440.output(0)\n",
    "K2440.output(0)\n",
    "\n",
    "plot_by_id(dataid)"
   ]
  },
  {
   "cell_type": "markdown",
   "id": "5375fb6f",
   "metadata": {},
   "source": [
    "# RF"
   ]
  },
  {
   "cell_type": "markdown",
   "id": "596beaf8",
   "metadata": {},
   "source": [
    "## I vs RF_f"
   ]
  },
  {
   "cell_type": "markdown",
   "id": "a6df9a13",
   "metadata": {},
   "source": [
    "### sensitive check"
   ]
  },
  {
   "cell_type": "code",
   "execution_count": null,
   "id": "017ed644",
   "metadata": {},
   "outputs": [],
   "source": [
    "SGS.power()\n",
    "SGS.frequency()"
   ]
  },
  {
   "cell_type": "code",
   "execution_count": null,
   "id": "e0b8db4e",
   "metadata": {},
   "outputs": [],
   "source": [
    "SGS.on()"
   ]
  },
  {
   "cell_type": "code",
   "execution_count": null,
   "id": "cc145b47",
   "metadata": {},
   "outputs": [],
   "source": [
    "SGS.off()"
   ]
  },
  {
   "cell_type": "code",
   "execution_count": null,
   "id": "6141349d",
   "metadata": {},
   "outputs": [],
   "source": [
    "magnet_x.field(0.4e-3)\n",
    "sleep(10)\n",
    "magnet_y.field(2.53e-3)\n",
    "sleep(10)"
   ]
  },
  {
   "cell_type": "code",
   "execution_count": null,
   "id": "2fd35fd0",
   "metadata": {},
   "outputs": [],
   "source": [
    "DMM6500.averaging_count(5)\n",
    "DMM6500.averaging_enabled(False)"
   ]
  },
  {
   "cell_type": "markdown",
   "id": "2d27c6f3",
   "metadata": {},
   "source": [
    "### I vs RF_f (1D)"
   ]
  },
  {
   "cell_type": "code",
   "execution_count": null,
   "id": "c3ec00d7",
   "metadata": {
    "scrolled": false
   },
   "outputs": [],
   "source": [
    "SGS.off()\n",
    "exp = qc.new_experiment('I-RF_f', sample_name='103-06_J2_12-13-14-15_1M_@0mT')\n",
    "SGS.power(0)\n",
    "SGS.frequency(0.1e9)\n",
    "SGS.on()\n",
    "sleep(1)\n",
    "DMM6500.averaging_count(5)\n",
    "DMM6500.averaging_enabled(False)\n",
    "K2440.output(1)\n",
    "\n",
    "appl_current(0.4e-6)\n",
    "#appl_TG(10)\n",
    "# magnet_x.field(0.4e-3)\n",
    "# magnet_y.field(2.53e-3)\n",
    "\n",
    "dataid = do1d(SGS.frequency, 11.4e9, 12.2e9, 201, 0.1, meas_voltage_K2)\n",
    "appl_current(0)\n",
    "SGS.off()\n",
    "K2440.output(0)\n",
    "plot_by_id(dataid)\n"
   ]
  },
  {
   "cell_type": "markdown",
   "id": "3e250e53",
   "metadata": {},
   "source": [
    "### I vs RF_f (2D)"
   ]
  },
  {
   "cell_type": "code",
   "execution_count": null,
   "id": "3734095d",
   "metadata": {},
   "outputs": [],
   "source": [
    "SGS.off()"
   ]
  },
  {
   "cell_type": "code",
   "execution_count": null,
   "id": "ccc9ea2f",
   "metadata": {},
   "outputs": [],
   "source": [
    "SGS.off()\n",
    "SGS.power(0)\n",
    "SGS.frequency(0.1e9)\n",
    "SGS.on()\n",
    "DMM6500.averaging_count(1)\n",
    "DMM6500.averaging_enabled(False)\n",
    "K2440.output(1)\n",
    "\n",
    "I_range = 8e-6\n",
    "appl_current(-I_range)\n",
    "#appl_TG(-10)\n",
    "# magnet_x.field(0.4e-3)\n",
    "# magnet_y.field(2.53e-3)\n",
    "# sleep(1)\n",
    "\n",
    "# station.snapshot(update=True);\n",
    "exp = qc.new_experiment('IV-RF_f', sample_name=f'103-03_J2_27-26-30-31M(32G-33G-28G-29G)_1M_RF@0dBm_By@0.1mT')\n",
    "\n",
    "#do1d(param_set, start, stop, num_points, delay, *param_meas)\n",
    "dataid = do2d(SGS.frequency, 1e9, 20e9, 191, 0.0001, appl_current,-I_range ,I_range, 201, 0.0001, meas_voltage_K2)\n",
    "# dataid = do1d(appl_current, 6e-6 , -6e-6, 251, 0.01, meas_voltage_K1)\n",
    "# ivvi.set_dacs_zero()\n",
    "K2440.output(0)\n",
    "SGS.off()\n",
    "appl_current(0)\n",
    "plot_by_id(dataid)\n",
    "save_path = r\"D:\\data\\Albert\\103\\Plot\\104_{}.png\".format(dataid)  # Path to save the plot image\n",
    "autosave_plot_by_id(dataid, save_path)"
   ]
  },
  {
   "cell_type": "code",
   "execution_count": null,
   "id": "3426a3bd",
   "metadata": {},
   "outputs": [],
   "source": [
    "SGS.off()\n",
    "SGS.power(20)\n",
    "SGS.frequency(0.1e9)\n",
    "SGS.on()\n",
    "DMM6500.averaging_count(1)\n",
    "DMM6500.averaging_enabled(False)\n",
    "K2440.output(1)\n",
    "\n",
    "I_range = 6e-6\n",
    "appl_current(-I_range)\n",
    "#appl_TG(-10)\n",
    "# magnet_x.field(0.4e-3)\n",
    "# magnet_y.field(2.53e-3)\n",
    "# sleep(1)\n",
    "\n",
    "# station.snapshot(update=True);\n",
    "exp = qc.new_experiment('IV-RF_f', sample_name=f'103-03_J2_27-26-30-31M(32G-33G-28G-29G)_1M_RF@-10dBm_By@0.1mT')\n",
    "\n",
    "#do1d(param_set, start, stop, num_points, delay, *param_meas)\n",
    "dataid = do2d(SGS.frequency, 1e9, 20e9, 191, 0.0001, appl_current,-I_range ,I_range, 201, 0.0001, meas_voltage_K2)\n",
    "# dataid = do1d(appl_current, 6e-6 , -6e-6, 251, 0.01, meas_voltage_K1)\n",
    "# ivvi.set_dacs_zero()\n",
    "K2440.output(0)\n",
    "SGS.off()\n",
    "appl_current(0)\n",
    "plot_by_id(dataid)\n",
    "save_path = r\"D:\\data\\Albert\\103\\Plot\\104_{}.png\".format(dataid)  # Path to save the plot image\n",
    "autosave_plot_by_id(dataid, save_path)"
   ]
  },
  {
   "cell_type": "code",
   "execution_count": null,
   "id": "9f9dbd53",
   "metadata": {},
   "outputs": [],
   "source": [
    "SGS.off()\n",
    "SGS.power(20)\n",
    "SGS.frequency(5.9e9)\n",
    "SGS.on()\n",
    "DMM6500.averaging_count(1)\n",
    "DMM6500.averaging_enabled(False)\n",
    "K2440.output(1)\n",
    "\n",
    "I_range = 6e-6\n",
    "appl_current(-I_range)\n",
    "#appl_TG(-10)\n",
    "# magnet_x.field(0.4e-3)\n",
    "# magnet_y.field(2.53e-3)\n",
    "# sleep(1)\n",
    "\n",
    "# station.snapshot(update=True);\n",
    "exp = qc.new_experiment('IV-RF_f', sample_name=f'103-03_J2_27-26-30-31M(32G-33G-28G-29G)_1M_RF@20dBm_By@0.1mT')\n",
    "\n",
    "#do1d(param_set, start, stop, num_points, delay, *param_meas)\n",
    "dataid = do2d(SGS.frequency, 5.9e9, 6.0e9, 251, 0.0001, appl_current,-I_range ,I_range, 501, 0.0001, meas_voltage_K2)\n",
    "# dataid = do1d(appl_current, 6e-6 , -6e-6, 251, 0.01, meas_voltage_K1)\n",
    "# ivvi.set_dacs_zero()\n",
    "K2440.output(0)\n",
    "SGS.off()\n",
    "appl_current(0)\n",
    "plot_by_id(dataid)\n",
    "save_path = r\"D:\\data\\Albert\\103\\Plot\\104_{}.png\".format(dataid)  # Path to save the plot image\n",
    "autosave_plot_by_id(dataid, save_path)\n"
   ]
  },
  {
   "cell_type": "code",
   "execution_count": null,
   "id": "862b770b",
   "metadata": {},
   "outputs": [],
   "source": [
    "SGS.off()\n",
    "SGS.power(20)\n",
    "SGS.frequency(5.535e9)\n",
    "SGS.on()\n",
    "DMM6500.averaging_count(1)\n",
    "DMM6500.averaging_enabled(False)\n",
    "K2440.output(1)\n",
    "\n",
    "I_range = 6e-6\n",
    "appl_current(-I_range)\n",
    "#appl_TG(-10)\n",
    "# magnet_x.field(0.4e-3)\n",
    "# magnet_y.field(2.53e-3)\n",
    "# sleep(1)\n",
    "\n",
    "# station.snapshot(update=True);\n",
    "exp = qc.new_experiment('IV-RF_f', sample_name=f'103-03_J2_27-26-30-31M(32G-33G-28G-29G)_1M_RF@20dBm_By@0.1mT')\n",
    "\n",
    "#do1d(param_set, start, stop, num_points, delay, *param_meas)\n",
    "dataid = do2d(SGS.frequency, 5.535e9, 5.585e9, 251, 0.0001, appl_current,-I_range ,I_range, 501, 0.0001, meas_voltage_K2)\n",
    "# dataid = do1d(appl_current, 6e-6 , -6e-6, 251, 0.01, meas_voltage_K1)\n",
    "# ivvi.set_dacs_zero()\n",
    "K2440.output(0)\n",
    "SGS.off()\n",
    "appl_current(0)\n",
    "plot_by_id(dataid)\n",
    "save_path = r\"D:\\data\\Albert\\103\\Plot\\104_{}.png\".format(dataid)  # Path to save the plot image\n",
    "autosave_plot_by_id(dataid, save_path)\n"
   ]
  },
  {
   "cell_type": "code",
   "execution_count": null,
   "id": "d76f7ea2",
   "metadata": {},
   "outputs": [],
   "source": [
    "SGS.off()\n",
    "SGS.power(20)\n",
    "SGS.frequency(0.1e9)\n",
    "SGS.on()\n",
    "DMM6500.averaging_count(1)\n",
    "DMM6500.averaging_enabled(False)\n",
    "K2440.output(1)\n",
    "\n",
    "I_range = 6e-6\n",
    "appl_current(-I_range)\n",
    "SGS_power = SGS.power()\n",
    "#appl_TG(-10)\n",
    "# magnet_x.field(0.4e-3)\n",
    "# magnet_y.field(2.53e-3)\n",
    "# sleep(1)\n",
    "\n",
    "# station.snapshot(update=True);\n",
    "exp = qc.new_experiment('IV-RF_f', sample_name=f'103-03_J2_27-26-30-31M(32G-33G-28G-29G)_1M_RF@{SGS_power}dBm_By@0.1mT')\n",
    "\n",
    "#do1d(param_set, start, stop, num_points, delay, *param_meas)\n",
    "dataid = do2d(SGS.frequency, 3.9e9, 6.9e9, 301, 0.0001, appl_current,-I_range ,I_range, 251, 0.0001, meas_voltage_K2)\n",
    "# dataid = do1d(appl_current, 6e-6 , -6e-6, 251, 0.01, meas_voltage_K1)\n",
    "# ivvi.set_dacs_zero()\n",
    "K2440.output(0)\n",
    "SGS.off()\n",
    "appl_current(0)\n",
    "plot_by_id(dataid)\n",
    "save_path = r\"D:\\data\\Albert\\103\\Plot\\104_{}.png\".format(dataid)  # Path to save the plot image\n",
    "autosave_plot_by_id(dataid, save_path)"
   ]
  },
  {
   "cell_type": "code",
   "execution_count": null,
   "id": "28992f6f",
   "metadata": {},
   "outputs": [],
   "source": [
    "appl_current(0)\n",
    "#appl_TG(0)\n",
    "magnet_y.field(0)\n",
    "sleep(2)\n",
    "magnet_x.field(0)\n",
    "sleep(2)\n",
    "#appl_voltage_AC(0.004)\n",
    "SGS.off()"
   ]
  },
  {
   "cell_type": "markdown",
   "id": "65c9a40a",
   "metadata": {},
   "source": [
    "## IV vs RF_f"
   ]
  },
  {
   "cell_type": "markdown",
   "id": "b285efb3",
   "metadata": {},
   "source": [
    "### Shapiro steps "
   ]
  },
  {
   "cell_type": "code",
   "execution_count": null,
   "id": "3a180ee1",
   "metadata": {
    "scrolled": true
   },
   "outputs": [],
   "source": [
    "SGS.off()\n",
    "SGS.power(-10)\n",
    "SGS.frequency(11.725e9)\n",
    "SGS.on()\n",
    "DMM6500.averaging_count(5)\n",
    "DMM6500.averaging_enabled(False)\n",
    "K2440.output(1)\n",
    "\n",
    "appl_current(-2e-7)\n",
    "#appl_TG(-10)\n",
    "#magnet_x.field(0.23e-3)\n",
    "#magnet_y.field(1.41e-3)\n",
    "# sleep(1)\n",
    "\n",
    "# station.snapshot(update=True);\n",
    "exp = qc.new_experiment('IV-RF_f', sample_name=f'103-03_J2_27-26-30-31M(32G-33G-28G-29G)_1M_By@0.1mT{-I_range}')\n",
    "\n",
    "#do1d(param_set, start, stop, num_points, delay, *param_meas)\"\"\n",
    "dataid = do1d(appl_current,-2e-7 ,2e-7, 101, 0.05,  meas_voltage_K2)\n",
    "# dataid = do1d(appl_current, 6e-6 , -6e-6, 251, 0.01, meas_voltage_K1)\n",
    "# ivvi.set_dacs_zero()\n",
    "K2440.output(0)\n",
    "SGS.off()\n",
    "appl_current(0)\n",
    "plot_by_id(dataid)\n",
    "# print(get_R_from_IV(dataid))\n",
    "#print(get_R_from_IV_2(dataid))"
   ]
  },
  {
   "cell_type": "code",
   "execution_count": null,
   "id": "51fe069b",
   "metadata": {},
   "outputs": [],
   "source": [
    "SGS.off()\n",
    "SGS.power(0)\n",
    "SGS.frequency(3.87e9)\n",
    "SGS.on()\n",
    "DMM6500.averaging_count(5)\n",
    "DMM6500.averaging_enabled(False)\n",
    "K2440.output(1)\n",
    "\n",
    "appl_current(-1.2e-6)\n",
    "#appl_TG(-10)\n",
    "magnet_y.field(-10e-3)\n",
    "\n",
    "#magnet_y.field(1.41e-3)\n",
    "# sleep(1)\n",
    "\n",
    "# station.snapshot(update=True);\n",
    "exp = qc.new_experiment('Bx vs RF_f', sample_name='By vs RF_f_J2_3.87_-10dB')\n",
    "\n",
    "#do1d(param_set, start, stop, num_points, delay, *param_meas)\"\"\n",
    "dataid = do2d(magnet_y.field, -10e-3, 10e-3,701, 1, appl_current,-1.2e-6 ,1.2e-6, 101, 0.05,  meas_voltage_K2)\n",
    "# dataid = do1d(appl_current, 6e-6 , -6e-6, 251, 0.01, meas_voltage_K1)\n",
    "# ivvi.set_dacs_zero()\n",
    "K2440.output(0)\n",
    "SGS.off()\n",
    "appl_current(0)\n",
    "plot_by_id(dataid)\n",
    "# print(get_R_from_IV(dataid))\n",
    "#print(get_R_from_IV_2(dataid))"
   ]
  },
  {
   "cell_type": "code",
   "execution_count": null,
   "id": "5488e4c5",
   "metadata": {},
   "outputs": [],
   "source": [
    "appl_current(0)\n",
    "#appl_TG(0)\n",
    "magnet_y.field(0)\n",
    "sleep(10)\n",
    "magnet_x.field(0)\n",
    "sleep(10)\n",
    "#appl_voltage_AC(0.004)\n",
    "SGS.off()"
   ]
  },
  {
   "cell_type": "markdown",
   "id": "04e50dcd",
   "metadata": {},
   "source": [
    "## IV vs Power Dependence"
   ]
  },
  {
   "cell_type": "code",
   "execution_count": null,
   "id": "0368ef58",
   "metadata": {},
   "outputs": [],
   "source": [
    "SGS.off()"
   ]
  },
  {
   "cell_type": "code",
   "execution_count": null,
   "id": "3d6eab35",
   "metadata": {},
   "outputs": [],
   "source": [
    "SGS.power(-40)"
   ]
  },
  {
   "cell_type": "code",
   "execution_count": null,
   "id": "d760383a",
   "metadata": {},
   "outputs": [],
   "source": [
    "SGS.off()"
   ]
  },
  {
   "cell_type": "code",
   "execution_count": null,
   "id": "f0984a37",
   "metadata": {
    "scrolled": true
   },
   "outputs": [],
   "source": [
    "SGS.off()\n",
    "SGS.power(-20)\n",
    "SGS.frequency(5.9534e9)\n",
    "SGS_frequency = SGS.frequency()\n",
    "SGS.on()\n",
    "DMM6500.averaging_count(3)\n",
    "DMM6500.averaging_enabled(False)\n",
    "K2440.output(1)\n",
    "\n",
    "#magnet_x.field(15e-3)\n",
    "#sleep(5)\n",
    "I_range = 6e-6\n",
    "appl_current(-I_range)\n",
    "#appl_TG(-30)\n",
    "sleep(2)\n",
    "\n",
    "# station.snapshot(update=True);\n",
    "exp = qc.new_experiment('IV-RF_p', sample_name=f'103-03_J2_27-26-30-31M(32G-33G-28G-29G)_1M_RF@{SGS_frequency*1e-9:.4f}GHz_By@0.1mT')\n",
    "\n",
    "#do1d(param_set, start, stop, num_points, delay, *param_meas)\n",
    "\n",
    "dataid = do2d(SGS.power,10, 15, 51, 0.1, appl_current,-I_range ,I_range, 301, 0.00001, meas_voltage_K2)\n",
    "# dataid = do1d(appl_current, 6e-6 , -6e-6, 251, 0.01, meas_voltage_K1)\n",
    "# ivvi.set_dacs_zero()\n",
    "\n",
    "SGS.off()\n",
    "appl_current(0)\n",
    "K2440.output()\n",
    "plot_by_id(dataid)\n",
    "\n",
    "# print(get_R_from_IV(dataid))\n",
    "print(get_R_from_IV_2(dataid))"
   ]
  },
  {
   "cell_type": "code",
   "execution_count": null,
   "id": "de3fc621",
   "metadata": {},
   "outputs": [],
   "source": [
    "SGS.off()\n",
    "SGS.power(-25)\n",
    "SGS.frequency(5.226e9)\n",
    "SGS.on()\n",
    "DMM6500.averaging_count(5)\n",
    "DMM6500.averaging_enabled(True)\n",
    "K2440.output(1)\n",
    "\n",
    "magnet_y.field(-8e-3)\n",
    "sleep(60)\n",
    "appl_current(-2e-7)\n",
    "#appl_TG(-30)\n",
    "sleep(2)\n",
    "\n",
    "# station.snapshot(update=True);\n",
    "exp = qc.new_experiment('IV vs power dependence', sample_name='IV vs PD_5.226_By:-8mT')\n",
    "\n",
    "#do1d(param_set, start, stop, num_points, delay, *param_meas)\n",
    "\n",
    "dataid = do2d(SGS.power,-25, 10, 101, 20, appl_current,-2e-7 ,2e-7, 101, 0.05, meas_voltage_K2)\n",
    "# dataid = do1d(appl_current, 6e-6 , -6e-6, 251, 0.01, meas_voltage_K1)\n",
    "# ivvi.set_dacs_zero()\n",
    "\n",
    "SGS.off()\n",
    "appl_current(0)\n",
    "K2440.output()\n",
    "plot_by_id(dataid)\n",
    "\n",
    "# print(get_R_from_IV(dataid))\n",
    "print(get_R_from_IV_2(dataid))"
   ]
  },
  {
   "cell_type": "markdown",
   "id": "13e12840",
   "metadata": {},
   "source": [
    "### PD vs frequency_IV loop (not yet)"
   ]
  },
  {
   "cell_type": "code",
   "execution_count": null,
   "id": "8659ae09",
   "metadata": {
    "code_folding": []
   },
   "outputs": [],
   "source": [
    "frequencies = [3.248, 3.387, 5.677]\n",
    "power_levels = [-20, 0, 25]\n",
    "     \n",
    "SGS.off()\n",
    "SGS.power(-20)\n",
    "SGS.frequency(3.387e9)\n",
    "SGS.on()\n",
    "DMM6500.averaging_count(5)\n",
    "DMM6500.averaging_enabled(True)\n",
    "K2440.output(1)\n",
    "\n",
    "appl_current(-2e-6)\n",
    "#appl_TG(-10)\n",
    "sleep(1)\n",
    "\n",
    "for freq in frequencies:\n",
    "    SGS.frequency(freq)\n",
    "    for power_level in power_levels:\n",
    "        SGS.power(power_level)\n",
    "\n",
    "# station.snapshot(update=True);\n",
    "exp = qc.new_experiment('IV vs power dependence', sample_name='IV vs PD_J2_3.387_m20')\n",
    "dataid = do2d(SGS.power, 4, 8, 100, 2, appl_current, -1e-6, 1e-6, 101, 0.05, meas_voltage_K2)\n",
    "\n",
    " # 關閉設備，並在需要時列印或繪製結果\n",
    "SGS.off()\n",
    "appl_current(0)\n",
    "K2440.output()\n",
    "plot_by_id(dataid)\n",
    "    \n",
    "print(f\"頻率：{freq} Hz，功率水平：{power_level} dB\")\n",
    "print(get_R_from_IV_2(dataid))\n"
   ]
  },
  {
   "cell_type": "markdown",
   "id": "5c2101a5",
   "metadata": {},
   "source": [
    "## IV vs Vgate"
   ]
  },
  {
   "cell_type": "code",
   "execution_count": null,
   "id": "48eb3a89",
   "metadata": {},
   "outputs": [],
   "source": [
    "appl_current(0)\n",
    "appl_TG(0)\n",
    "magnet_y.field(0)\n",
    "sleep(10)\n",
    "magnet_x.field(0)\n",
    "sleep(10)\n",
    "appl_voltage_AC(0.004)\n",
    "SGS.off()"
   ]
  },
  {
   "cell_type": "code",
   "execution_count": null,
   "id": "5deaef19",
   "metadata": {},
   "outputs": [],
   "source": [
    "SGS.off()\n",
    "SGS.power(25)\n",
    "SGS.frequency(4.83e9)\n",
    "SGS.on()\n",
    "DMM6500.averaging_count(5)\n",
    "DMM6500.averaging_enabled(True)\n",
    "appl_current(-0.4e-7)\n",
    "appl_current_AC(0.1e-10)\n",
    "\n",
    "appl_TG(-10)\n",
    "sleep(1)\n",
    "\n",
    "# station.snapshot(update=True);\n",
    "exp = qc.new_experiment('IV vs Vgate', sample_name='IV vs Vg')\n",
    "\n",
    "dataid = do2d(appl_TG, -10, 10, 751, 0.5, appl_current, -0.4e-7, 0.4e-7, 101, 0.01, meas_voltage_AC_L1, meas_voltage_AC_L1_P, meas_voltage_K2)\n",
    "# dataid = do1d(appl_current, 6e-6 , -6e-6, 251, 0.01, meas_voltage_K1)\n",
    "# ivvi.set_dacs_zero()\n",
    "SGS.off()\n",
    "appl_current(0)\n",
    "plot_by_id(dataid)\n",
    "# print(get_R_from_IV(dataid))\n",
    "#print(get_R_from_IV_2(dataid))"
   ]
  },
  {
   "cell_type": "code",
   "execution_count": null,
   "id": "6bbd39fb",
   "metadata": {},
   "outputs": [],
   "source": [
    "appl_current(0)\n",
    "appl_TG(0)\n",
    "magnet_y.field(0)\n",
    "sleep(10)\n",
    "magnet_x.field(0)\n",
    "sleep(10)\n",
    "appl_voltage_AC(0.004)\n",
    "SGS.off()"
   ]
  },
  {
   "cell_type": "code",
   "execution_count": null,
   "id": "00d4b770",
   "metadata": {},
   "outputs": [],
   "source": [
    "import matplotlib.pyplot as plt\n",
    "import numpy as np\n",
    "\n",
    "# Constants\n",
    "k = 8.617333262145e-5  # Boltzmann constant in eV/K\n",
    "E_a = 0.5  # Example value for the activation energy in eV\n",
    "p_0 = 1.0  # Example value for p0\n",
    "\n",
    "# Create an array of temperatures from 100 to 1000 K\n",
    "temperatures = np.linspace(100, 1000, 50)\n",
    "\n",
    "# Calculate 1/T\n",
    "inverse_temperatures = 1 / temperatures\n",
    "\n",
    "# Calculate ln(p)\n",
    "ln_p = np.log(p_0) - (E_a / k) * inverse_temperatures\n",
    "\n",
    "# Plotting\n",
    "plt.figure(figsize=(8, 6))\n",
    "plt.plot(inverse_temperatures, ln_p, marker='o', linestyle='-')\n",
    "plt.xlabel('1/T (1/K)')\n",
    "plt.ylabel('ln(p)')\n",
    "plt.title('ln(p) vs 1/T for Hole Concentration')\n",
    "plt.grid(True)\n",
    "plt.show()\n"
   ]
  },
  {
   "cell_type": "code",
   "execution_count": null,
   "id": "f610e7bc",
   "metadata": {},
   "outputs": [],
   "source": []
  }
 ],
 "metadata": {
  "kernelspec": {
   "display_name": "qcodes",
   "language": "python",
   "name": "python3"
  },
  "language_info": {
   "codemirror_mode": {
    "name": "ipython",
    "version": 3
   },
   "file_extension": ".py",
   "mimetype": "text/x-python",
   "name": "python",
   "nbconvert_exporter": "python",
   "pygments_lexer": "ipython3",
   "version": "3.11.3"
  },
  "toc": {
   "base_numbering": 1,
   "nav_menu": {},
   "number_sections": true,
   "sideBar": false,
   "skip_h1_title": false,
   "title_cell": "Table of Contents",
   "title_sidebar": "Contents",
   "toc_cell": false,
   "toc_position": {
    "height": "783px",
    "left": "260px",
    "top": "67.125px",
    "width": "182px"
   },
   "toc_section_display": true,
   "toc_window_display": true
  }
 },
 "nbformat": 4,
 "nbformat_minor": 5
}
