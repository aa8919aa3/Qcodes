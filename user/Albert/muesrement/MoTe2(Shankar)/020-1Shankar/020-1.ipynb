{
 "cells": [
  {
   "cell_type": "markdown",
   "id": "256e0f19",
   "metadata": {},
   "source": [
    "# Initialization"
   ]
  },
  {
   "cell_type": "markdown",
   "id": "9d160fe4",
   "metadata": {},
   "source": [
    "## Inport modules"
   ]
  },
  {
   "cell_type": "code",
   "execution_count": 1,
   "id": "ccc72f99",
   "metadata": {},
   "outputs": [],
   "source": [
    "\n",
    "import os, sys\n",
    "def find_qcodes_local_dir():\n",
    "    dirpath = os.getcwd()\n",
    "    while True:\n",
    "        dirpath, folder_name = os.path.split(dirpath)\n",
    "        if folder_name == 'QCoDeS_local':\n",
    "            return os.path.join(dirpath, folder_name)\n",
    "        if not folder_name:  # Reached the root directory\n",
    "            return None\n",
    "qcodes_local_dir = find_qcodes_local_dir()\n",
    "sys.path.append(f'{qcodes_local_dir}')"
   ]
  },
  {
   "cell_type": "code",
   "execution_count": 2,
   "id": "b000c48f",
   "metadata": {},
   "outputs": [
    {
     "name": "stdout",
     "output_type": "stream",
     "text": [
      "Found init_BF1.py at: c:\\Users\\quant\\OneDrive\\Documents\\GitHub\\QCoDeS_local\\fridge_specific\\init_BF1.py\n",
      "Connected to: KEITHLEY INSTRUMENTS DMM6500 (serial:04518052, firmware:1.7.7b) in 0.43s\n"
     ]
    },
    {
     "ename": "NameError",
     "evalue": "name 'station' is not defined",
     "output_type": "error",
     "traceback": [
      "\u001b[1;31m---------------------------------------------------------------------------\u001b[0m",
      "\u001b[1;31mNameError\u001b[0m                                 Traceback (most recent call last)",
      "Cell \u001b[1;32mIn[2], line 23\u001b[0m\n\u001b[0;32m     21\u001b[0m \u001b[38;5;28;01mif\u001b[39;00m os\u001b[38;5;241m.\u001b[39mpath\u001b[38;5;241m.\u001b[39misfile(init_bf1_path):\n\u001b[0;32m     22\u001b[0m     \u001b[38;5;28mprint\u001b[39m(\u001b[38;5;124mf\u001b[39m\u001b[38;5;124m\"\u001b[39m\u001b[38;5;124mFound init_BF1.py at: \u001b[39m\u001b[38;5;132;01m{\u001b[39;00minit_bf1_path\u001b[38;5;132;01m}\u001b[39;00m\u001b[38;5;124m\"\u001b[39m)\n\u001b[1;32m---> 23\u001b[0m     \u001b[43mexec\u001b[49m\u001b[43m(\u001b[49m\u001b[38;5;28;43mopen\u001b[39;49m\u001b[43m(\u001b[49m\u001b[38;5;124;43mf\u001b[39;49m\u001b[38;5;124;43m'\u001b[39;49m\u001b[38;5;132;43;01m{\u001b[39;49;00m\u001b[43minit_bf1_path\u001b[49m\u001b[38;5;132;43;01m}\u001b[39;49;00m\u001b[38;5;124;43m'\u001b[39;49m\u001b[43m)\u001b[49m\u001b[38;5;241;43m.\u001b[39;49m\u001b[43mread\u001b[49m\u001b[43m(\u001b[49m\u001b[43m)\u001b[49m\u001b[43m)\u001b[49m  \n\u001b[0;32m     24\u001b[0m \u001b[38;5;28;01melse\u001b[39;00m:\n\u001b[0;32m     25\u001b[0m     \u001b[38;5;28mprint\u001b[39m(\u001b[38;5;124m\"\u001b[39m\u001b[38;5;124minit_BF1.py not found in fridge_specific folder.\u001b[39m\u001b[38;5;124m\"\u001b[39m)\n",
      "File \u001b[1;32m<string>:18\u001b[0m\n",
      "\u001b[1;31mNameError\u001b[0m: name 'station' is not defined"
     ]
    }
   ],
   "source": [
    "import os, sys\n",
    "\n",
    "def find_qcodes_local_dir():\n",
    "    dirpath = os.getcwd()\n",
    "    while True:\n",
    "        dirpath, folder_name = os.path.split(dirpath)\n",
    "        if folder_name == 'QCoDeS_local':\n",
    "            return os.path.join(dirpath, folder_name)\n",
    "        if not folder_name:  # Reached the root directory\n",
    "            return None\n",
    "\n",
    "qcodes_local_dir = find_qcodes_local_dir()\n",
    "if qcodes_local_dir:\n",
    "    sys.path.append(qcodes_local_dir)\n",
    "    drivers_path = os.path.join(qcodes_local_dir, 'drivers')\n",
    "    sys.path.append(drivers_path)\n",
    "    fridge_specific_path = os.path.join(qcodes_local_dir, 'fridge_specific')\n",
    "    sys.path.append(fridge_specific_path)\n",
    "    # 檢查 init_BF1.py 是否存在於 fridge_specific 資料夾中\n",
    "    init_bf1_path = os.path.join(fridge_specific_path, 'init_BF1.py')\n",
    "    if os.path.isfile(init_bf1_path):\n",
    "        print(f\"Found init_BF1.py at: {init_bf1_path}\")\n",
    "        exec(open(f'{init_bf1_path}').read())  \n",
    "    else:\n",
    "        print(\"init_BF1.py not found in fridge_specific folder.\")\n",
    "\n",
    "# print(sys.path)"
   ]
  },
  {
   "cell_type": "code",
   "execution_count": null,
   "id": "8473e9a5",
   "metadata": {},
   "outputs": [],
   "source": [
    "exec(open('init_station_BF1.py').read())"
   ]
  },
  {
   "cell_type": "code",
   "execution_count": null,
   "id": "e28fee61",
   "metadata": {},
   "outputs": [],
   "source": [
    "import os\n",
    "\n",
    "# 獲取當前路徑\n",
    "dirpath = os.getcwd()\n",
    "\n",
    "# 獲取父資料夾路徑\n",
    "parent_dirpath = os.path.dirname(dirpath)\n",
    "\n",
    "# 獲取父父資料夾路徑\n",
    "grandparent_dirpath = os.path.dirname(parent_dirpath)\n",
    "\n",
    "print(\"當前路徑:\", dirpath)\n",
    "print(\"父資料夾路徑:\", parent_dirpath)\n",
    "print(\"父父資料夾路徑:\", grandparent_dirpath)"
   ]
  },
  {
   "cell_type": "code",
   "execution_count": null,
   "id": "64004fe7",
   "metadata": {},
   "outputs": [],
   "source": [
    "import os\n",
    "\n",
    "def find_init_py():\n",
    "    dirpath = os.getcwd()\n",
    "    while True:\n",
    "        init_py_path = os.path.join(dirpath, 'init.py')\n",
    "        if os.path.isfile(init_py_path):\n",
    "            return init_py_path\n",
    "        new_dirpath, _ = os.path.split(dirpath)\n",
    "        if new_dirpath == dirpath:  # Reached the root directory\n",
    "            return None\n",
    "        dirpath = new_dirpath\n",
    "\n",
    "init_py_path = find_init_py()\n",
    "%run '{init_py_path}'"
   ]
  },
  {
   "cell_type": "code",
   "execution_count": 1,
   "id": "88979d6d",
   "metadata": {},
   "outputs": [
    {
     "name": "stdout",
     "output_type": "stream",
     "text": [
      "Imported all modules, QCoDeS version: 0.39.0 initialized\n"
     ]
    }
   ],
   "source": [
    "%matplotlib ipympl\n",
    "import os, sys\n",
    "import time\n",
    "import pyvisa\n",
    "import warnings\n",
    "import numpy as np\n",
    "import qcodes as qc\n",
    "import plotly.graph_objects as go\n",
    "import matplotlib.pyplot as plt\n",
    "\n",
    "def find_qcodes_local_dir():\n",
    "    dirpath = os.getcwd()\n",
    "    while True:\n",
    "        dirpath, folder_name = os.path.split(dirpath)\n",
    "        if folder_name == 'QCoDeS_local':\n",
    "            return os.path.join(dirpath, folder_name)\n",
    "        if not folder_name:  # Reached the root directory\n",
    "            return None\n",
    "qcodes_local_dir = find_qcodes_local_dir()\n",
    "sys.path.append(f'{qcodes_local_dir}')\n",
    "\n",
    "from tqdm import tqdm\n",
    "from pprint import pprint\n",
    "from time import sleep, monotonic, time\n",
    "from IPython.display import clear_output\n",
    "from qcodes.dataset.measurements import Measurement\n",
    "from qcodes.utils.metadata import diff_param_values\n",
    "from qcodes.dataset.plotting import plot_dataset, plot_by_id\n",
    "from qcodes import Parameter, ManualParameter, ScaledParameter\n",
    "from qcodes.instrument.specialized_parameters import ElapsedTimeParameter\n",
    "from sweeps_v2 import do1d, do2d, time_sweep, measure_until, do1d_until\n",
    "\n",
    "print('Imported all modules, QCoDeS version:', qc.__version__, 'initialized')\n",
    "\n",
    "# warnings.filterwarnings('ignore')"
   ]
  },
  {
   "cell_type": "code",
   "execution_count": 2,
   "id": "399e7806",
   "metadata": {},
   "outputs": [],
   "source": [
    "def find_qcodes_local_dir():\n",
    "    dirpath = os.getcwd()\n",
    "    while True:\n",
    "        dirpath, folder_name = os.path.split(dirpath)\n",
    "        if folder_name == 'QCoDeS_local':\n",
    "            return os.path.join(dirpath, folder_name)\n",
    "        if not folder_name:  # Reached the root directory\n",
    "            return None\n",
    "qcodes_local_dir = find_qcodes_local_dir()"
   ]
  },
  {
   "cell_type": "code",
   "execution_count": 3,
   "id": "fff9a7bd",
   "metadata": {},
   "outputs": [
    {
     "data": {
      "text/plain": [
       "'c:\\\\Users\\\\quant\\\\OneDrive\\\\Documents\\\\GitHub\\\\QCoDeS_local'"
      ]
     },
     "execution_count": 3,
     "metadata": {},
     "output_type": "execute_result"
    }
   ],
   "source": [
    "qcodes_local_dir"
   ]
  },
  {
   "cell_type": "code",
   "execution_count": 4,
   "id": "64ad1e6c",
   "metadata": {},
   "outputs": [
    {
     "data": {
      "text/plain": [
       "'c:\\\\Users\\\\quant\\\\OneDrive\\\\Documents\\\\GitHub\\\\QCoDeS_local\\\\init_fridge.py'"
      ]
     },
     "execution_count": 4,
     "metadata": {},
     "output_type": "execute_result"
    }
   ],
   "source": [
    "def find_init_fridge_py():\n",
    "    for root, dirs, files in os.walk(qcodes_local_dir):\n",
    "        if 'init_fridge.py' in files:\n",
    "            return os.path.join(root, 'init_fridge.py')\n",
    "    return None\n",
    "\n",
    "init_fridge_py_path = find_init_fridge_py()\n",
    "init_fridge_py_path"
   ]
  },
  {
   "cell_type": "code",
   "execution_count": 5,
   "id": "cc4a1c10",
   "metadata": {},
   "outputs": [
    {
     "data": {
      "text/plain": [
       "'c:\\\\Users\\\\quant\\\\OneDrive\\\\Documents\\\\GitHub\\\\QCoDeS_local\\\\init_fridge_v2.py'"
      ]
     },
     "execution_count": 5,
     "metadata": {},
     "output_type": "execute_result"
    }
   ],
   "source": [
    "def find_init_fridge_v2_py():\n",
    "    for root, dirs, files in os.walk(qcodes_local_dir):\n",
    "        if 'init_fridge_v2.py' in files:\n",
    "            return os.path.join(root, 'init_fridge_v2.py')\n",
    "    return None\n",
    "\n",
    "init_fridge_v2_py_path = find_init_fridge_v2_py()\n",
    "init_fridge_v2_py_path"
   ]
  },
  {
   "cell_type": "code",
   "execution_count": 6,
   "id": "c09fa82c",
   "metadata": {},
   "outputs": [
    {
     "name": "stdout",
     "output_type": "stream",
     "text": [
      "Connected to: KEITHLEY INSTRUMENTS DMM6500 (serial:04518052, firmware:1.7.7b) in 0.14s\n"
     ]
    },
    {
     "ename": "VisaIOError",
     "evalue": "VI_ERROR_NLISTENERS (-1073807265): No listeners condition is detected (both NRFD and NDAC are deasserted).",
     "output_type": "error",
     "traceback": [
      "\u001b[1;31m---------------------------------------------------------------------------\u001b[0m",
      "\u001b[1;31mVisaIOError\u001b[0m                               Traceback (most recent call last)",
      "File \u001b[1;32m~\\OneDrive\\Documents\\GitHub\\QCoDeS_local\\init_fridge.py:33\u001b[0m\n\u001b[0;32m     29\u001b[0m     exec(\u001b[38;5;28mopen\u001b[39m(\u001b[38;5;124m'\u001b[39m\u001b[38;5;124m../../../../../code/fridge_specific/init_CF1400.py\u001b[39m\u001b[38;5;124m'\u001b[39m)\u001b[38;5;241m.\u001b[39mread())\n\u001b[0;32m     30\u001b[0m \u001b[38;5;28;01melif\u001b[39;00m fridge_name \u001b[38;5;241m==\u001b[39m \u001b[38;5;124m'\u001b[39m\u001b[38;5;124mBF1\u001b[39m\u001b[38;5;124m'\u001b[39m:\n\u001b[0;32m     31\u001b[0m \u001b[38;5;66;03m#     exec(open('../fridge_specific/init_BF1.py').read())\u001b[39;00m\n\u001b[1;32m---> 33\u001b[0m     \u001b[43mexec\u001b[49m\u001b[43m(\u001b[49m\u001b[38;5;28;43mopen\u001b[39;49m\u001b[43m(\u001b[49m\u001b[38;5;124;43m'\u001b[39;49m\u001b[38;5;124;43mC:\u001b[39;49m\u001b[38;5;130;43;01m\\\\\u001b[39;49;00m\u001b[38;5;124;43mqcodes\u001b[39;49m\u001b[38;5;130;43;01m\\\\\u001b[39;49;00m\u001b[38;5;124;43mfridge_specific\u001b[39;49m\u001b[38;5;130;43;01m\\\\\u001b[39;49;00m\u001b[38;5;124;43minit_BF1.py\u001b[39;49m\u001b[38;5;124;43m'\u001b[39;49m\u001b[43m)\u001b[49m\u001b[38;5;241;43m.\u001b[39;49m\u001b[43mread\u001b[49m\u001b[43m(\u001b[49m\u001b[43m)\u001b[49m\u001b[43m)\u001b[49m  \n\u001b[0;32m     35\u001b[0m \u001b[38;5;28;01melse\u001b[39;00m:\n\u001b[0;32m     36\u001b[0m     \u001b[38;5;28mprint\u001b[39m(\u001b[38;5;124m'\u001b[39m\u001b[38;5;124mWrong fridge name!\u001b[39m\u001b[38;5;124m'\u001b[39m)\n",
      "File \u001b[1;32m<string>:23\u001b[0m\n",
      "File \u001b[1;32mc:\\Users\\quant\\anaconda3\\envs\\qcodes\\Lib\\site-packages\\qcodes\\instrument\\instrument_meta.py:36\u001b[0m, in \u001b[0;36mInstrumentMeta.__call__\u001b[1;34m(cls, *args, **kwargs)\u001b[0m\n\u001b[0;32m     31\u001b[0m \u001b[38;5;28;01mdef\u001b[39;00m \u001b[38;5;21m__call__\u001b[39m(\u001b[38;5;28mcls\u001b[39m, \u001b[38;5;241m*\u001b[39margs: Any, \u001b[38;5;241m*\u001b[39m\u001b[38;5;241m*\u001b[39mkwargs: Any) \u001b[38;5;241m-\u001b[39m\u001b[38;5;241m>\u001b[39m Any:\n\u001b[0;32m     32\u001b[0m \u001b[38;5;250m    \u001b[39m\u001b[38;5;124;03m\"\"\"\u001b[39;00m\n\u001b[0;32m     33\u001b[0m \u001b[38;5;124;03m    Overloads `type.__call__` to add code that runs only if __init__ completes\u001b[39;00m\n\u001b[0;32m     34\u001b[0m \u001b[38;5;124;03m    successfully.\u001b[39;00m\n\u001b[0;32m     35\u001b[0m \u001b[38;5;124;03m    \"\"\"\u001b[39;00m\n\u001b[1;32m---> 36\u001b[0m     new_inst \u001b[38;5;241m=\u001b[39m \u001b[38;5;28;43msuper\u001b[39;49m\u001b[43m(\u001b[49m\u001b[43m)\u001b[49m\u001b[38;5;241;43m.\u001b[39;49m\u001b[38;5;21;43m__call__\u001b[39;49m\u001b[43m(\u001b[49m\u001b[38;5;241;43m*\u001b[39;49m\u001b[43margs\u001b[49m\u001b[43m,\u001b[49m\u001b[43m \u001b[49m\u001b[38;5;241;43m*\u001b[39;49m\u001b[38;5;241;43m*\u001b[39;49m\u001b[43mkwargs\u001b[49m\u001b[43m)\u001b[49m\n\u001b[0;32m     37\u001b[0m     is_abstract \u001b[38;5;241m=\u001b[39m new_inst\u001b[38;5;241m.\u001b[39m_is_abstract()\n\u001b[0;32m     38\u001b[0m     \u001b[38;5;28;01mif\u001b[39;00m is_abstract:\n",
      "File \u001b[1;32mc:\\Users\\quant\\anaconda3\\envs\\qcodes\\Lib\\site-packages\\qcodes\\instrument_drivers\\Keithley\\Keithley_2400.py:14\u001b[0m, in \u001b[0;36mKeithley2400.__init__\u001b[1;34m(self, name, address, **kwargs)\u001b[0m\n\u001b[0;32m     13\u001b[0m \u001b[38;5;28;01mdef\u001b[39;00m \u001b[38;5;21m__init__\u001b[39m(\u001b[38;5;28mself\u001b[39m, name: \u001b[38;5;28mstr\u001b[39m, address: \u001b[38;5;28mstr\u001b[39m, \u001b[38;5;241m*\u001b[39m\u001b[38;5;241m*\u001b[39mkwargs: Any):\n\u001b[1;32m---> 14\u001b[0m     \u001b[38;5;28;43msuper\u001b[39;49m\u001b[43m(\u001b[49m\u001b[43m)\u001b[49m\u001b[38;5;241;43m.\u001b[39;49m\u001b[38;5;21;43m__init__\u001b[39;49m\u001b[43m(\u001b[49m\u001b[43mname\u001b[49m\u001b[43m,\u001b[49m\u001b[43m \u001b[49m\u001b[43maddress\u001b[49m\u001b[43m,\u001b[49m\u001b[43m \u001b[49m\u001b[43mterminator\u001b[49m\u001b[38;5;241;43m=\u001b[39;49m\u001b[38;5;124;43m\"\u001b[39;49m\u001b[38;5;130;43;01m\\n\u001b[39;49;00m\u001b[38;5;124;43m\"\u001b[39;49m\u001b[43m,\u001b[49m\u001b[43m \u001b[49m\u001b[38;5;241;43m*\u001b[39;49m\u001b[38;5;241;43m*\u001b[39;49m\u001b[43mkwargs\u001b[49m\u001b[43m)\u001b[49m\n\u001b[0;32m     16\u001b[0m     \u001b[38;5;28mself\u001b[39m\u001b[38;5;241m.\u001b[39madd_parameter(\n\u001b[0;32m     17\u001b[0m         \u001b[38;5;124m\"\u001b[39m\u001b[38;5;124mrangev\u001b[39m\u001b[38;5;124m\"\u001b[39m,\n\u001b[0;32m     18\u001b[0m         get_cmd\u001b[38;5;241m=\u001b[39m\u001b[38;5;124m\"\u001b[39m\u001b[38;5;124mSENS:VOLT:RANG?\u001b[39m\u001b[38;5;124m\"\u001b[39m,\n\u001b[1;32m   (...)\u001b[0m\n\u001b[0;32m     21\u001b[0m         label\u001b[38;5;241m=\u001b[39m\u001b[38;5;124m\"\u001b[39m\u001b[38;5;124mVoltage range\u001b[39m\u001b[38;5;124m\"\u001b[39m,\n\u001b[0;32m     22\u001b[0m     )\n\u001b[0;32m     24\u001b[0m     \u001b[38;5;28mself\u001b[39m\u001b[38;5;241m.\u001b[39madd_parameter(\n\u001b[0;32m     25\u001b[0m         \u001b[38;5;124m\"\u001b[39m\u001b[38;5;124mrangei\u001b[39m\u001b[38;5;124m\"\u001b[39m,\n\u001b[0;32m     26\u001b[0m         get_cmd\u001b[38;5;241m=\u001b[39m\u001b[38;5;124m\"\u001b[39m\u001b[38;5;124mSENS:CURR:RANG?\u001b[39m\u001b[38;5;124m\"\u001b[39m,\n\u001b[1;32m   (...)\u001b[0m\n\u001b[0;32m     29\u001b[0m         label\u001b[38;5;241m=\u001b[39m\u001b[38;5;124m\"\u001b[39m\u001b[38;5;124mCurrent range\u001b[39m\u001b[38;5;124m\"\u001b[39m,\n\u001b[0;32m     30\u001b[0m     )\n",
      "File \u001b[1;32mc:\\Users\\quant\\anaconda3\\envs\\qcodes\\Lib\\site-packages\\qcodes\\instrument\\visa.py:124\u001b[0m, in \u001b[0;36mVisaInstrument.__init__\u001b[1;34m(self, name, address, timeout, terminator, device_clear, visalib, pyvisa_sim_file, **kwargs)\u001b[0m\n\u001b[0;32m    121\u001b[0m \u001b[38;5;28mself\u001b[39m\u001b[38;5;241m.\u001b[39m_address \u001b[38;5;241m=\u001b[39m address\n\u001b[0;32m    123\u001b[0m \u001b[38;5;28;01mif\u001b[39;00m device_clear:\n\u001b[1;32m--> 124\u001b[0m     \u001b[38;5;28;43mself\u001b[39;49m\u001b[38;5;241;43m.\u001b[39;49m\u001b[43mdevice_clear\u001b[49m\u001b[43m(\u001b[49m\u001b[43m)\u001b[49m\n\u001b[0;32m    126\u001b[0m \u001b[38;5;28mself\u001b[39m\u001b[38;5;241m.\u001b[39mset_terminator(terminator)\n\u001b[0;32m    127\u001b[0m \u001b[38;5;28mself\u001b[39m\u001b[38;5;241m.\u001b[39mtimeout\u001b[38;5;241m.\u001b[39mset(timeout)\n",
      "File \u001b[1;32mc:\\Users\\quant\\anaconda3\\envs\\qcodes\\Lib\\site-packages\\qcodes\\instrument\\visa.py:202\u001b[0m, in \u001b[0;36mVisaInstrument.device_clear\u001b[1;34m(self)\u001b[0m\n\u001b[0;32m    200\u001b[0m     \u001b[38;5;28mself\u001b[39m\u001b[38;5;241m.\u001b[39mvisa_handle\u001b[38;5;241m.\u001b[39mflush(flush_operation)\n\u001b[0;32m    201\u001b[0m \u001b[38;5;28;01melse\u001b[39;00m:\n\u001b[1;32m--> 202\u001b[0m     \u001b[38;5;28;43mself\u001b[39;49m\u001b[38;5;241;43m.\u001b[39;49m\u001b[43mvisa_handle\u001b[49m\u001b[38;5;241;43m.\u001b[39;49m\u001b[43mclear\u001b[49m\u001b[43m(\u001b[49m\u001b[43m)\u001b[49m\n",
      "File \u001b[1;32mc:\\Users\\quant\\anaconda3\\envs\\qcodes\\Lib\\site-packages\\pyvisa\\resources\\resource.py:382\u001b[0m, in \u001b[0;36mResource.clear\u001b[1;34m(self)\u001b[0m\n\u001b[0;32m    380\u001b[0m \u001b[38;5;28;01mdef\u001b[39;00m \u001b[38;5;21mclear\u001b[39m(\u001b[38;5;28mself\u001b[39m) \u001b[38;5;241m-\u001b[39m\u001b[38;5;241m>\u001b[39m \u001b[38;5;28;01mNone\u001b[39;00m:\n\u001b[0;32m    381\u001b[0m \u001b[38;5;250m    \u001b[39m\u001b[38;5;124;03m\"\"\"Clear this resource.\"\"\"\u001b[39;00m\n\u001b[1;32m--> 382\u001b[0m     \u001b[38;5;28;43mself\u001b[39;49m\u001b[38;5;241;43m.\u001b[39;49m\u001b[43mvisalib\u001b[49m\u001b[38;5;241;43m.\u001b[39;49m\u001b[43mclear\u001b[49m\u001b[43m(\u001b[49m\u001b[38;5;28;43mself\u001b[39;49m\u001b[38;5;241;43m.\u001b[39;49m\u001b[43msession\u001b[49m\u001b[43m)\u001b[49m\n",
      "File \u001b[1;32mc:\\Users\\quant\\anaconda3\\envs\\qcodes\\Lib\\site-packages\\pyvisa\\ctwrapper\\functions.py:616\u001b[0m, in \u001b[0;36mclear\u001b[1;34m(library, session)\u001b[0m\n\u001b[0;32m    598\u001b[0m \u001b[38;5;28;01mdef\u001b[39;00m \u001b[38;5;21mclear\u001b[39m(library, session):\n\u001b[0;32m    599\u001b[0m \u001b[38;5;250m    \u001b[39m\u001b[38;5;124;03m\"\"\"Clears a device.\u001b[39;00m\n\u001b[0;32m    600\u001b[0m \n\u001b[0;32m    601\u001b[0m \u001b[38;5;124;03m    Corresponds to viClear function of the VISA library.\u001b[39;00m\n\u001b[1;32m   (...)\u001b[0m\n\u001b[0;32m    614\u001b[0m \n\u001b[0;32m    615\u001b[0m \u001b[38;5;124;03m    \"\"\"\u001b[39;00m\n\u001b[1;32m--> 616\u001b[0m     \u001b[38;5;28;01mreturn\u001b[39;00m \u001b[43mlibrary\u001b[49m\u001b[38;5;241;43m.\u001b[39;49m\u001b[43mviClear\u001b[49m\u001b[43m(\u001b[49m\u001b[43msession\u001b[49m\u001b[43m)\u001b[49m\n",
      "File \u001b[1;32mc:\\Users\\quant\\anaconda3\\envs\\qcodes\\Lib\\site-packages\\pyvisa\\ctwrapper\\highlevel.py:226\u001b[0m, in \u001b[0;36mIVIVisaLibrary._return_handler\u001b[1;34m(self, ret_value, func, arguments)\u001b[0m\n\u001b[0;32m    223\u001b[0m         \u001b[38;5;66;03m# Set session back to a safe value\u001b[39;00m\n\u001b[0;32m    224\u001b[0m         session \u001b[38;5;241m=\u001b[39m \u001b[38;5;28;01mNone\u001b[39;00m\n\u001b[1;32m--> 226\u001b[0m \u001b[38;5;28;01mreturn\u001b[39;00m \u001b[38;5;28;43mself\u001b[39;49m\u001b[38;5;241;43m.\u001b[39;49m\u001b[43mhandle_return_value\u001b[49m\u001b[43m(\u001b[49m\u001b[43msession\u001b[49m\u001b[43m,\u001b[49m\u001b[43m \u001b[49m\u001b[43mret_value\u001b[49m\u001b[43m)\u001b[49m\n",
      "File \u001b[1;32mc:\\Users\\quant\\anaconda3\\envs\\qcodes\\Lib\\site-packages\\pyvisa\\highlevel.py:251\u001b[0m, in \u001b[0;36mVisaLibraryBase.handle_return_value\u001b[1;34m(self, session, status_code)\u001b[0m\n\u001b[0;32m    248\u001b[0m     \u001b[38;5;28mself\u001b[39m\u001b[38;5;241m.\u001b[39m_last_status_in_session[session] \u001b[38;5;241m=\u001b[39m rv\n\u001b[0;32m    250\u001b[0m \u001b[38;5;28;01mif\u001b[39;00m rv \u001b[38;5;241m<\u001b[39m \u001b[38;5;241m0\u001b[39m:\n\u001b[1;32m--> 251\u001b[0m     \u001b[38;5;28;01mraise\u001b[39;00m errors\u001b[38;5;241m.\u001b[39mVisaIOError(rv)\n\u001b[0;32m    253\u001b[0m \u001b[38;5;28;01mif\u001b[39;00m rv \u001b[38;5;129;01min\u001b[39;00m \u001b[38;5;28mself\u001b[39m\u001b[38;5;241m.\u001b[39missue_warning_on:\n\u001b[0;32m    254\u001b[0m     \u001b[38;5;28;01mif\u001b[39;00m session \u001b[38;5;129;01mand\u001b[39;00m rv \u001b[38;5;129;01mnot\u001b[39;00m \u001b[38;5;129;01min\u001b[39;00m \u001b[38;5;28mself\u001b[39m\u001b[38;5;241m.\u001b[39m_ignore_warning_in_session[session]:\n",
      "\u001b[1;31mVisaIOError\u001b[0m: VI_ERROR_NLISTENERS (-1073807265): No listeners condition is detected (both NRFD and NDAC are deasserted)."
     ]
    }
   ],
   "source": [
    "fridge_name = 'BF1'\n",
    "%run \"{init_fridge_py_path}\" {fridge_name}"
   ]
  },
  {
   "cell_type": "code",
   "execution_count": 6,
   "id": "bb19a743",
   "metadata": {},
   "outputs": [
    {
     "name": "stdout",
     "output_type": "stream",
     "text": [
      "Found init_BF1_v2.py at: c:\\Users\\quant\\OneDrive\\Documents\\GitHub\\QCoDeS_local\\fridge_specific\\init_BF1_v2.py\n",
      "Error connecting to TCPIP0::192.168.1.42::inst0::INSTR: VI_ERROR_RSRC_NFOUND (-1073807343): Insufficient location information or the requested device or resource is not present in the system.\n",
      "Error connecting to TCPIP0::192.168.1.42::inst1::INSTR: VI_ERROR_RSRC_NFOUND (-1073807343): Insufficient location information or the requested device or resource is not present in the system.\n",
      "Error connecting to TCPIP0::192.168.1.6::inst0::INSTR: VI_ERROR_RSRC_NFOUND (-1073807343): Insufficient location information or the requested device or resource is not present in the system.\n",
      "Error connecting to TCPIP0::192.168.1.7::inst0::INSTR: VI_ERROR_RSRC_NFOUND (-1073807343): Insufficient location information or the requested device or resource is not present in the system.\n",
      "Device: TCPIP0::ZNB20-64-101393::inst0::INSTR\n",
      "IDN: Rohde-Schwarz,ZNB20-4Port,1334333064101393,3.32\n",
      "\n",
      "Error connecting to ASRL1::INSTR: VI_ERROR_TMO (-1073807339): Timeout expired before operation completed.\n",
      "Error connecting to ASRL2::INSTR: VI_ERROR_TMO (-1073807339): Timeout expired before operation completed.\n",
      "Error connecting to ASRL10::INSTR: VI_ERROR_TMO (-1073807339): Timeout expired before operation completed.\n",
      "Device: GPIB0::6::INSTR\n",
      "IDN: KEITHLEY INSTRUMENTS,MODEL DMM6500,04518052,1.7.7b\n",
      "\n",
      "Connected to: KEITHLEY INSTRUMENTS DMM6500 (serial:04518052, firmware:1.7.7b) in 0.02s\n",
      "Added Keithley DMM6500 at GPIB0::6::INSTR to the station.\n",
      "Device: GPIB0::22::INSTR\n",
      "IDN: KEITHLEY INSTRUMENTS INC.,MODEL 2440,1225508,C30   Mar 17 2006 09:29:29/A02  /B/A\n",
      "\n",
      "Connected to: KEITHLEY INSTRUMENTS INC. 2440 (serial:1225508, firmware:C30   Mar 17 2006 09:29:29/A02  /B/A) in 0.03s\n"
     ]
    },
    {
     "name": "stderr",
     "output_type": "stream",
     "text": [
      "[K2440(Keithley2400)] Snapshot: Could not update parameter: volt\n",
      "[K2440(Keithley2400)] Snapshot: Could not update parameter: curr\n",
      "[K2440(Keithley2400)] Snapshot: Could not update parameter: resistance\n"
     ]
    },
    {
     "name": "stdout",
     "output_type": "stream",
     "text": [
      "Failed to ping 169.254.115.3: [WinError 10049] The requested address is not valid in its context\n",
      "Failed to ping 169.254.115.2: [WinError 10049] The requested address is not valid in its context\n",
      "Failed to ping 169.254.115.1: [WinError 10049] The requested address is not valid in its context\n",
      "One or more pings failed, cannot establish connection to all magnets.\n",
      "\n",
      "Station list:\n",
      "{'DMM6500': <Keithley_6500: DMM6500>, 'K2440': <Keithley2400: K2440>}\n"
     ]
    }
   ],
   "source": [
    "fridge_name = 'BF1'\n",
    "%run \"{init_fridge_v2_py_path}\" {fridge_name}"
   ]
  },
  {
   "cell_type": "code",
   "execution_count": 7,
   "id": "c9e134aa",
   "metadata": {},
   "outputs": [
    {
     "name": "stdout",
     "output_type": "stream",
     "text": [
      "{'components': {},\n",
      " 'config': None,\n",
      " 'instruments': {'DMM6500': {'__class__': 'qcodes.instrument_drivers.tektronix.Keithley_6500.Keithley_6500',\n",
      "                             'address': 'GPIB0::6::INSTR',\n",
      "                             'functions': {},\n",
      "                             'label': 'DMM6500',\n",
      "                             'name': 'DMM6500',\n",
      "                             'parameters': {'IDN': {'__class__': 'qcodes.parameters.parameter.Parameter',\n",
      "                                                    'full_name': 'DMM6500_IDN',\n",
      "                                                    'instrument': 'qcodes.instrument_drivers.tektronix.Keithley_6500.Keithley_6500',\n",
      "                                                    'instrument_name': 'DMM6500',\n",
      "                                                    'inter_delay': 0,\n",
      "                                                    'label': 'IDN',\n",
      "                                                    'name': 'IDN',\n",
      "                                                    'post_delay': 0,\n",
      "                                                    'raw_value': {'firmware': '1.7.7b',\n",
      "                                                                  'model': 'DMM6500',\n",
      "                                                                  'serial': '04518052',\n",
      "                                                                  'vendor': 'KEITHLEY '\n",
      "                                                                            'INSTRUMENTS'},\n",
      "                                                    'ts': '2024-09-14 17:11:12',\n",
      "                                                    'unit': '',\n",
      "                                                    'vals': '<Anything>',\n",
      "                                                    'value': {'firmware': '1.7.7b',\n",
      "                                                              'model': 'DMM6500',\n",
      "                                                              'serial': '04518052',\n",
      "                                                              'vendor': 'KEITHLEY '\n",
      "                                                                        'INSTRUMENTS'}},\n",
      "                                            'amplitude': {'__class__': 'qcodes.parameters.parameter.Parameter',\n",
      "                                                          'full_name': 'DMM6500_amplitude',\n",
      "                                                          'instrument': 'qcodes.instrument_drivers.tektronix.Keithley_6500.Keithley_6500',\n",
      "                                                          'instrument_name': 'DMM6500',\n",
      "                                                          'inter_delay': 0,\n",
      "                                                          'label': 'amplitude',\n",
      "                                                          'name': 'amplitude',\n",
      "                                                          'post_delay': 0,\n",
      "                                                          'raw_value': -0.0001817663,\n",
      "                                                          'ts': '2024-09-14 '\n",
      "                                                                '17:11:12',\n",
      "                                                          'unit': 'a.u.',\n",
      "                                                          'value': -0.0001817663},\n",
      "                                            'auto_range_enabled': {'__class__': 'qcodes.parameters.parameter.Parameter',\n",
      "                                                                   'full_name': 'DMM6500_auto_range_enabled',\n",
      "                                                                   'instrument': 'qcodes.instrument_drivers.tektronix.Keithley_6500.Keithley_6500',\n",
      "                                                                   'instrument_name': 'DMM6500',\n",
      "                                                                   'inter_delay': 0,\n",
      "                                                                   'label': 'auto_range_enabled',\n",
      "                                                                   'name': 'auto_range_enabled',\n",
      "                                                                   'post_delay': 0,\n",
      "                                                                   'raw_value': True,\n",
      "                                                                   'ts': '2024-09-14 '\n",
      "                                                                         '17:11:12',\n",
      "                                                                   'unit': '',\n",
      "                                                                   'vals': '<Boolean>',\n",
      "                                                                   'value': True},\n",
      "                                            'averaging_count': {'__class__': 'qcodes.parameters.parameter.Parameter',\n",
      "                                                                'full_name': 'DMM6500_averaging_count',\n",
      "                                                                'instrument': 'qcodes.instrument_drivers.tektronix.Keithley_6500.Keithley_6500',\n",
      "                                                                'instrument_name': 'DMM6500',\n",
      "                                                                'inter_delay': 0,\n",
      "                                                                'label': 'averaging_count',\n",
      "                                                                'name': 'averaging_count',\n",
      "                                                                'post_delay': 0,\n",
      "                                                                'raw_value': 10,\n",
      "                                                                'ts': '2024-09-14 '\n",
      "                                                                      '17:11:12',\n",
      "                                                                'unit': '',\n",
      "                                                                'vals': '<Ints '\n",
      "                                                                        '1<=v<=100>',\n",
      "                                                                'value': 10},\n",
      "                                            'averaging_enabled': {'__class__': 'qcodes.parameters.parameter.Parameter',\n",
      "                                                                  'full_name': 'DMM6500_averaging_enabled',\n",
      "                                                                  'instrument': 'qcodes.instrument_drivers.tektronix.Keithley_6500.Keithley_6500',\n",
      "                                                                  'instrument_name': 'DMM6500',\n",
      "                                                                  'inter_delay': 0,\n",
      "                                                                  'label': 'averaging_enabled',\n",
      "                                                                  'name': 'averaging_enabled',\n",
      "                                                                  'post_delay': 0,\n",
      "                                                                  'raw_value': True,\n",
      "                                                                  'ts': '2024-09-14 '\n",
      "                                                                        '17:11:12',\n",
      "                                                                  'unit': '',\n",
      "                                                                  'vals': '<Boolean>',\n",
      "                                                                  'value': True},\n",
      "                                            'averaging_type': {'__class__': 'qcodes.parameters.parameter.Parameter',\n",
      "                                                               'full_name': 'DMM6500_averaging_type',\n",
      "                                                               'instrument': 'qcodes.instrument_drivers.tektronix.Keithley_6500.Keithley_6500',\n",
      "                                                               'instrument_name': 'DMM6500',\n",
      "                                                               'inter_delay': 0,\n",
      "                                                               'label': 'averaging_type',\n",
      "                                                               'name': 'averaging_type',\n",
      "                                                               'post_delay': 0,\n",
      "                                                               'raw_value': 'repeat',\n",
      "                                                               'ts': '2024-09-14 '\n",
      "                                                                     '17:11:12',\n",
      "                                                               'unit': '',\n",
      "                                                               'vals': '<Enum: '\n",
      "                                                                       \"{'moving', \"\n",
      "                                                                       \"'repeat'}>\",\n",
      "                                                               'value': 'repeat'},\n",
      "                                            'digits': {'__class__': 'qcodes.parameters.parameter.Parameter',\n",
      "                                                       'full_name': 'DMM6500_digits',\n",
      "                                                       'instrument': 'qcodes.instrument_drivers.tektronix.Keithley_6500.Keithley_6500',\n",
      "                                                       'instrument_name': 'DMM6500',\n",
      "                                                       'inter_delay': 0,\n",
      "                                                       'label': 'digits',\n",
      "                                                       'name': 'digits',\n",
      "                                                       'post_delay': 0,\n",
      "                                                       'raw_value': '6',\n",
      "                                                       'ts': '2024-09-14 '\n",
      "                                                             '17:11:12',\n",
      "                                                       'unit': '',\n",
      "                                                       'vals': '<Ints 4<=v<=7>',\n",
      "                                                       'value': 6},\n",
      "                                            'display_backlight': {'__class__': 'qcodes.parameters.parameter.Parameter',\n",
      "                                                                  'full_name': 'DMM6500_display_backlight',\n",
      "                                                                  'instrument': 'qcodes.instrument_drivers.tektronix.Keithley_6500.Keithley_6500',\n",
      "                                                                  'instrument_name': 'DMM6500',\n",
      "                                                                  'inter_delay': 0,\n",
      "                                                                  'label': 'display_backlight',\n",
      "                                                                  'name': 'display_backlight',\n",
      "                                                                  'post_delay': 0,\n",
      "                                                                  'raw_value': 'ON50',\n",
      "                                                                  'ts': '2024-09-14 '\n",
      "                                                                        '17:11:12',\n",
      "                                                                  'unit': '',\n",
      "                                                                  'val_mapping': {'Blackout': 'BLACkout',\n",
      "                                                                                  'Off': 'OFF',\n",
      "                                                                                  'On 100': 'ON100',\n",
      "                                                                                  'On 25': 'ON25',\n",
      "                                                                                  'On 50': 'ON50',\n",
      "                                                                                  'On 75': 'ON75'},\n",
      "                                                                  'vals': '<Enum: '\n",
      "                                                                          \"{'On \"\n",
      "                                                                          \"100', \"\n",
      "                                                                          \"'On \"\n",
      "                                                                          \"50', \"\n",
      "                                                                          \"'Off', \"\n",
      "                                                                          \"'On \"\n",
      "                                                                          \"25', \"\n",
      "                                                                          \"'Blackout', \"\n",
      "                                                                          \"'On \"\n",
      "                                                                          \"75'}>\",\n",
      "                                                                  'value': 'On '\n",
      "                                                                           '50'},\n",
      "                                            'mode': {'__class__': 'qcodes.parameters.parameter.Parameter',\n",
      "                                                     'full_name': 'DMM6500_mode',\n",
      "                                                     'instrument': 'qcodes.instrument_drivers.tektronix.Keithley_6500.Keithley_6500',\n",
      "                                                     'instrument_name': 'DMM6500',\n",
      "                                                     'inter_delay': 0,\n",
      "                                                     'label': 'mode',\n",
      "                                                     'name': 'mode',\n",
      "                                                     'post_delay': 0,\n",
      "                                                     'raw_value': 'VOLT:DC',\n",
      "                                                     'ts': '2024-09-14 '\n",
      "                                                           '17:11:12',\n",
      "                                                     'unit': '',\n",
      "                                                     'val_mapping': {'2w resistance': 'RES',\n",
      "                                                                     '4w resistance': 'FRES',\n",
      "                                                                     'ac current': 'CURR:AC',\n",
      "                                                                     'ac voltage': 'VOLT:AC',\n",
      "                                                                     'dc current': 'CURR:DC',\n",
      "                                                                     'dc voltage': 'VOLT:DC',\n",
      "                                                                     'frequency': 'FREQ',\n",
      "                                                                     'temperature': 'TEMP'},\n",
      "                                                     'vals': \"<Enum: {'dc \"\n",
      "                                                             \"voltage', \"\n",
      "                                                             \"'temperature', \"\n",
      "                                                             \"'4w resistance', \"\n",
      "                                                             \"'ac current', \"\n",
      "                                                             \"'2w resistance', \"\n",
      "                                                             \"'ac voltage', \"\n",
      "                                                             \"'dc current', \"\n",
      "                                                             \"'frequency'}>\",\n",
      "                                                     'value': 'dc voltage'},\n",
      "                                            'nplc': {'__class__': 'qcodes.parameters.parameter.Parameter',\n",
      "                                                     'full_name': 'DMM6500_nplc',\n",
      "                                                     'instrument': 'qcodes.instrument_drivers.tektronix.Keithley_6500.Keithley_6500',\n",
      "                                                     'instrument_name': 'DMM6500',\n",
      "                                                     'inter_delay': 0,\n",
      "                                                     'label': 'nplc',\n",
      "                                                     'name': 'nplc',\n",
      "                                                     'post_delay': 0,\n",
      "                                                     'raw_value': 1.0,\n",
      "                                                     'ts': '2024-09-14 '\n",
      "                                                           '17:11:12',\n",
      "                                                     'unit': '',\n",
      "                                                     'vals': '<Numbers '\n",
      "                                                             '0.01<=v<=10>',\n",
      "                                                     'value': 1.0},\n",
      "                                            'range': {'__class__': 'qcodes.parameters.parameter.Parameter',\n",
      "                                                      'full_name': 'DMM6500_range',\n",
      "                                                      'instrument': 'qcodes.instrument_drivers.tektronix.Keithley_6500.Keithley_6500',\n",
      "                                                      'instrument_name': 'DMM6500',\n",
      "                                                      'inter_delay': 0,\n",
      "                                                      'label': 'range',\n",
      "                                                      'name': 'range',\n",
      "                                                      'post_delay': 0,\n",
      "                                                      'raw_value': 0.1,\n",
      "                                                      'ts': '2024-09-14 '\n",
      "                                                            '17:11:12',\n",
      "                                                      'unit': '',\n",
      "                                                      'vals': '<Numbers>',\n",
      "                                                      'value': 0.1},\n",
      "                                            'timeout': {'__class__': 'qcodes.parameters.parameter.Parameter',\n",
      "                                                        'full_name': 'DMM6500_timeout',\n",
      "                                                        'instrument': 'qcodes.instrument_drivers.tektronix.Keithley_6500.Keithley_6500',\n",
      "                                                        'instrument_name': 'DMM6500',\n",
      "                                                        'inter_delay': 0,\n",
      "                                                        'label': 'timeout',\n",
      "                                                        'name': 'timeout',\n",
      "                                                        'post_delay': 0,\n",
      "                                                        'raw_value': 10.0,\n",
      "                                                        'ts': '2024-09-14 '\n",
      "                                                              '17:11:12',\n",
      "                                                        'unit': 's',\n",
      "                                                        'vals': '<MultiType: '\n",
      "                                                                'Numbers v>=0, '\n",
      "                                                                'Enum: {None}>',\n",
      "                                                        'value': 10.0},\n",
      "                                            'trigger1_delay': {'__class__': 'qcodes.parameters.parameter.Parameter',\n",
      "                                                               'full_name': 'DMM6500_trigger1_delay',\n",
      "                                                               'instrument': 'qcodes.instrument_drivers.tektronix.Keithley_6500.Keithley_6500',\n",
      "                                                               'instrument_name': 'DMM6500',\n",
      "                                                               'inter_delay': 0,\n",
      "                                                               'label': 'trigger1_delay',\n",
      "                                                               'name': 'trigger1_delay',\n",
      "                                                               'post_delay': 0,\n",
      "                                                               'raw_value': '1E-05',\n",
      "                                                               'ts': '2024-09-14 '\n",
      "                                                                     '17:11:12',\n",
      "                                                               'unit': 's',\n",
      "                                                               'vals': '<Numbers '\n",
      "                                                                       '0<=v<=999999.999>',\n",
      "                                                               'value': 1e-05},\n",
      "                                            'trigger1_source': {'__class__': 'qcodes.parameters.parameter.Parameter',\n",
      "                                                                'full_name': 'DMM6500_trigger1_source',\n",
      "                                                                'instrument': 'qcodes.instrument_drivers.tektronix.Keithley_6500.Keithley_6500',\n",
      "                                                                'instrument_name': 'DMM6500',\n",
      "                                                                'inter_delay': 0,\n",
      "                                                                'label': 'trigger1_source',\n",
      "                                                                'name': 'trigger1_source',\n",
      "                                                                'post_delay': 0,\n",
      "                                                                'raw_value': 'NONE',\n",
      "                                                                'ts': '2024-09-14 '\n",
      "                                                                      '17:11:12',\n",
      "                                                                'unit': '',\n",
      "                                                                'val_mapping': {'bus': 'COMM',\n",
      "                                                                                'external': 'EXT',\n",
      "                                                                                'front-panel': 'DISP',\n",
      "                                                                                'immediate': 'NONE',\n",
      "                                                                                'notify1': 'NOT1',\n",
      "                                                                                'notify2': 'NOT2',\n",
      "                                                                                'notify3': 'NOT3',\n",
      "                                                                                'timer1': 'TIM1',\n",
      "                                                                                'timer2': 'TIM2',\n",
      "                                                                                'timer3': 'TIM3',\n",
      "                                                                                'timer4': 'TIM4'},\n",
      "                                                                'vals': '<Enum: '\n",
      "                                                                        \"{'front-panel', \"\n",
      "                                                                        \"'bus', \"\n",
      "                                                                        \"'timer2', \"\n",
      "                                                                        \"'immediate', \"\n",
      "                                                                        \"'external', \"\n",
      "                                                                        \"'timer3', \"\n",
      "                                                                        \"'timer4', \"\n",
      "                                                                        \"'notify1', \"\n",
      "                                                                        \"'notify3', \"\n",
      "                                                                        \"'timer1', \"\n",
      "                                                                        \"'notify2'}>\",\n",
      "                                                                'value': 'immediate'},\n",
      "                                            'trigger2_delay': {'__class__': 'qcodes.parameters.parameter.Parameter',\n",
      "                                                               'full_name': 'DMM6500_trigger2_delay',\n",
      "                                                               'instrument': 'qcodes.instrument_drivers.tektronix.Keithley_6500.Keithley_6500',\n",
      "                                                               'instrument_name': 'DMM6500',\n",
      "                                                               'inter_delay': 0,\n",
      "                                                               'label': 'trigger2_delay',\n",
      "                                                               'name': 'trigger2_delay',\n",
      "                                                               'post_delay': 0,\n",
      "                                                               'raw_value': '1E-05',\n",
      "                                                               'ts': '2024-09-14 '\n",
      "                                                                     '17:11:12',\n",
      "                                                               'unit': 's',\n",
      "                                                               'vals': '<Numbers '\n",
      "                                                                       '0<=v<=999999.999>',\n",
      "                                                               'value': 1e-05},\n",
      "                                            'trigger2_source': {'__class__': 'qcodes.parameters.parameter.Parameter',\n",
      "                                                                'full_name': 'DMM6500_trigger2_source',\n",
      "                                                                'instrument': 'qcodes.instrument_drivers.tektronix.Keithley_6500.Keithley_6500',\n",
      "                                                                'instrument_name': 'DMM6500',\n",
      "                                                                'inter_delay': 0,\n",
      "                                                                'label': 'trigger2_source',\n",
      "                                                                'name': 'trigger2_source',\n",
      "                                                                'post_delay': 0,\n",
      "                                                                'raw_value': 'NONE',\n",
      "                                                                'ts': '2024-09-14 '\n",
      "                                                                      '17:11:12',\n",
      "                                                                'unit': '',\n",
      "                                                                'val_mapping': {'bus': 'COMM',\n",
      "                                                                                'external': 'EXT',\n",
      "                                                                                'front-panel': 'DISP',\n",
      "                                                                                'immediate': 'NONE',\n",
      "                                                                                'notify1': 'NOT1',\n",
      "                                                                                'notify2': 'NOT2',\n",
      "                                                                                'notify3': 'NOT3',\n",
      "                                                                                'timer1': 'TIM1',\n",
      "                                                                                'timer2': 'TIM2',\n",
      "                                                                                'timer3': 'TIM3',\n",
      "                                                                                'timer4': 'TIM4'},\n",
      "                                                                'vals': '<Enum: '\n",
      "                                                                        \"{'front-panel', \"\n",
      "                                                                        \"'bus', \"\n",
      "                                                                        \"'timer2', \"\n",
      "                                                                        \"'immediate', \"\n",
      "                                                                        \"'external', \"\n",
      "                                                                        \"'timer3', \"\n",
      "                                                                        \"'timer4', \"\n",
      "                                                                        \"'notify1', \"\n",
      "                                                                        \"'notify3', \"\n",
      "                                                                        \"'timer1', \"\n",
      "                                                                        \"'notify2'}>\",\n",
      "                                                                'value': 'immediate'},\n",
      "                                            'trigger3_delay': {'__class__': 'qcodes.parameters.parameter.Parameter',\n",
      "                                                               'full_name': 'DMM6500_trigger3_delay',\n",
      "                                                               'instrument': 'qcodes.instrument_drivers.tektronix.Keithley_6500.Keithley_6500',\n",
      "                                                               'instrument_name': 'DMM6500',\n",
      "                                                               'inter_delay': 0,\n",
      "                                                               'label': 'trigger3_delay',\n",
      "                                                               'name': 'trigger3_delay',\n",
      "                                                               'post_delay': 0,\n",
      "                                                               'raw_value': '1E-05',\n",
      "                                                               'ts': '2024-09-14 '\n",
      "                                                                     '17:11:12',\n",
      "                                                               'unit': 's',\n",
      "                                                               'vals': '<Numbers '\n",
      "                                                                       '0<=v<=999999.999>',\n",
      "                                                               'value': 1e-05},\n",
      "                                            'trigger3_source': {'__class__': 'qcodes.parameters.parameter.Parameter',\n",
      "                                                                'full_name': 'DMM6500_trigger3_source',\n",
      "                                                                'instrument': 'qcodes.instrument_drivers.tektronix.Keithley_6500.Keithley_6500',\n",
      "                                                                'instrument_name': 'DMM6500',\n",
      "                                                                'inter_delay': 0,\n",
      "                                                                'label': 'trigger3_source',\n",
      "                                                                'name': 'trigger3_source',\n",
      "                                                                'post_delay': 0,\n",
      "                                                                'raw_value': 'NONE',\n",
      "                                                                'ts': '2024-09-14 '\n",
      "                                                                      '17:11:12',\n",
      "                                                                'unit': '',\n",
      "                                                                'val_mapping': {'bus': 'COMM',\n",
      "                                                                                'external': 'EXT',\n",
      "                                                                                'front-panel': 'DISP',\n",
      "                                                                                'immediate': 'NONE',\n",
      "                                                                                'notify1': 'NOT1',\n",
      "                                                                                'notify2': 'NOT2',\n",
      "                                                                                'notify3': 'NOT3',\n",
      "                                                                                'timer1': 'TIM1',\n",
      "                                                                                'timer2': 'TIM2',\n",
      "                                                                                'timer3': 'TIM3',\n",
      "                                                                                'timer4': 'TIM4'},\n",
      "                                                                'vals': '<Enum: '\n",
      "                                                                        \"{'front-panel', \"\n",
      "                                                                        \"'bus', \"\n",
      "                                                                        \"'timer2', \"\n",
      "                                                                        \"'immediate', \"\n",
      "                                                                        \"'external', \"\n",
      "                                                                        \"'timer3', \"\n",
      "                                                                        \"'timer4', \"\n",
      "                                                                        \"'notify1', \"\n",
      "                                                                        \"'notify3', \"\n",
      "                                                                        \"'timer1', \"\n",
      "                                                                        \"'notify2'}>\",\n",
      "                                                                'value': 'immediate'},\n",
      "                                            'trigger4_delay': {'__class__': 'qcodes.parameters.parameter.Parameter',\n",
      "                                                               'full_name': 'DMM6500_trigger4_delay',\n",
      "                                                               'instrument': 'qcodes.instrument_drivers.tektronix.Keithley_6500.Keithley_6500',\n",
      "                                                               'instrument_name': 'DMM6500',\n",
      "                                                               'inter_delay': 0,\n",
      "                                                               'label': 'trigger4_delay',\n",
      "                                                               'name': 'trigger4_delay',\n",
      "                                                               'post_delay': 0,\n",
      "                                                               'raw_value': '1E-05',\n",
      "                                                               'ts': '2024-09-14 '\n",
      "                                                                     '17:11:12',\n",
      "                                                               'unit': 's',\n",
      "                                                               'vals': '<Numbers '\n",
      "                                                                       '0<=v<=999999.999>',\n",
      "                                                               'value': 1e-05},\n",
      "                                            'trigger4_source': {'__class__': 'qcodes.parameters.parameter.Parameter',\n",
      "                                                                'full_name': 'DMM6500_trigger4_source',\n",
      "                                                                'instrument': 'qcodes.instrument_drivers.tektronix.Keithley_6500.Keithley_6500',\n",
      "                                                                'instrument_name': 'DMM6500',\n",
      "                                                                'inter_delay': 0,\n",
      "                                                                'label': 'trigger4_source',\n",
      "                                                                'name': 'trigger4_source',\n",
      "                                                                'post_delay': 0,\n",
      "                                                                'raw_value': 'NONE',\n",
      "                                                                'ts': '2024-09-14 '\n",
      "                                                                      '17:11:12',\n",
      "                                                                'unit': '',\n",
      "                                                                'val_mapping': {'bus': 'COMM',\n",
      "                                                                                'external': 'EXT',\n",
      "                                                                                'front-panel': 'DISP',\n",
      "                                                                                'immediate': 'NONE',\n",
      "                                                                                'notify1': 'NOT1',\n",
      "                                                                                'notify2': 'NOT2',\n",
      "                                                                                'notify3': 'NOT3',\n",
      "                                                                                'timer1': 'TIM1',\n",
      "                                                                                'timer2': 'TIM2',\n",
      "                                                                                'timer3': 'TIM3',\n",
      "                                                                                'timer4': 'TIM4'},\n",
      "                                                                'vals': '<Enum: '\n",
      "                                                                        \"{'front-panel', \"\n",
      "                                                                        \"'bus', \"\n",
      "                                                                        \"'timer2', \"\n",
      "                                                                        \"'immediate', \"\n",
      "                                                                        \"'external', \"\n",
      "                                                                        \"'timer3', \"\n",
      "                                                                        \"'timer4', \"\n",
      "                                                                        \"'notify1', \"\n",
      "                                                                        \"'notify3', \"\n",
      "                                                                        \"'timer1', \"\n",
      "                                                                        \"'notify2'}>\",\n",
      "                                                                'value': 'immediate'},\n",
      "                                            'trigger_count': {'__class__': 'qcodes.parameters.parameter.Parameter',\n",
      "                                                              'full_name': 'DMM6500_trigger_count',\n",
      "                                                              'instrument': 'qcodes.instrument_drivers.tektronix.Keithley_6500.Keithley_6500',\n",
      "                                                              'instrument_name': 'DMM6500',\n",
      "                                                              'inter_delay': 0,\n",
      "                                                              'label': 'trigger_count',\n",
      "                                                              'name': 'trigger_count',\n",
      "                                                              'post_delay': 0,\n",
      "                                                              'raw_value': '1',\n",
      "                                                              'ts': '2024-09-14 '\n",
      "                                                                    '17:11:12',\n",
      "                                                              'unit': '',\n",
      "                                                              'vals': '<MultiType: '\n",
      "                                                                      'Ints '\n",
      "                                                                      '1<=v<=9999, '\n",
      "                                                                      'Enum: '\n",
      "                                                                      \"{'inf', \"\n",
      "                                                                      \"'minimum', \"\n",
      "                                                                      \"'maximum', \"\n",
      "                                                                      \"'default'}>\",\n",
      "                                                              'value': 1},\n",
      "                                            'trigger_timer': {'__class__': 'qcodes.parameters.parameter.Parameter',\n",
      "                                                              'full_name': 'DMM6500_trigger_timer',\n",
      "                                                              'instrument': 'qcodes.instrument_drivers.tektronix.Keithley_6500.Keithley_6500',\n",
      "                                                              'instrument_name': 'DMM6500',\n",
      "                                                              'inter_delay': 0,\n",
      "                                                              'label': 'trigger_timer',\n",
      "                                                              'name': 'trigger_timer',\n",
      "                                                              'post_delay': 0,\n",
      "                                                              'raw_value': '0',\n",
      "                                                              'ts': '2024-09-14 '\n",
      "                                                                    '17:11:12',\n",
      "                                                              'unit': 's',\n",
      "                                                              'vals': '<Numbers '\n",
      "                                                                      '0<=v<=999999.999>',\n",
      "                                                              'value': 0.0}},\n",
      "                             'read_terminator': '\\n',\n",
      "                             'submodules': {},\n",
      "                             'terminator': '\\n',\n",
      "                             'timeout': 10.0,\n",
      "                             'write_terminator': '\\n'},\n",
      "                 'K2440': {'__class__': 'qcodes.instrument_drivers.Keithley.Keithley_2400.Keithley2400',\n",
      "                           'address': 'GPIB0::22::INSTR',\n",
      "                           'functions': {},\n",
      "                           'label': 'K2440',\n",
      "                           'name': 'K2440',\n",
      "                           'parameters': {'IDN': {'__class__': 'qcodes.parameters.parameter.Parameter',\n",
      "                                                  'full_name': 'K2440_IDN',\n",
      "                                                  'instrument': 'qcodes.instrument_drivers.Keithley.Keithley_2400.Keithley2400',\n",
      "                                                  'instrument_name': 'K2440',\n",
      "                                                  'inter_delay': 0,\n",
      "                                                  'label': 'IDN',\n",
      "                                                  'name': 'IDN',\n",
      "                                                  'post_delay': 0,\n",
      "                                                  'raw_value': {'firmware': 'C30   '\n",
      "                                                                            'Mar '\n",
      "                                                                            '17 '\n",
      "                                                                            '2006 '\n",
      "                                                                            '09:29:29/A02  '\n",
      "                                                                            '/B/A',\n",
      "                                                                'model': '2440',\n",
      "                                                                'serial': '1225508',\n",
      "                                                                'vendor': 'KEITHLEY '\n",
      "                                                                          'INSTRUMENTS '\n",
      "                                                                          'INC.'},\n",
      "                                                  'ts': '2024-09-14 17:11:12',\n",
      "                                                  'unit': '',\n",
      "                                                  'vals': '<Anything>',\n",
      "                                                  'value': {'firmware': 'C30   '\n",
      "                                                                        'Mar '\n",
      "                                                                        '17 '\n",
      "                                                                        '2006 '\n",
      "                                                                        '09:29:29/A02  '\n",
      "                                                                        '/B/A',\n",
      "                                                            'model': '2440',\n",
      "                                                            'serial': '1225508',\n",
      "                                                            'vendor': 'KEITHLEY '\n",
      "                                                                      'INSTRUMENTS '\n",
      "                                                                      'INC.'}},\n",
      "                                          'compliancei': {'__class__': 'qcodes.parameters.parameter.Parameter',\n",
      "                                                          'full_name': 'K2440_compliancei',\n",
      "                                                          'instrument': 'qcodes.instrument_drivers.Keithley.Keithley_2400.Keithley2400',\n",
      "                                                          'instrument_name': 'K2440',\n",
      "                                                          'inter_delay': 0,\n",
      "                                                          'label': 'Current '\n",
      "                                                                   'Compliance',\n",
      "                                                          'name': 'compliancei',\n",
      "                                                          'post_delay': 0,\n",
      "                                                          'raw_value': '1.050000E-04',\n",
      "                                                          'ts': '2024-09-14 '\n",
      "                                                                '17:11:12',\n",
      "                                                          'unit': '',\n",
      "                                                          'value': 0.000105},\n",
      "                                          'compliancev': {'__class__': 'qcodes.parameters.parameter.Parameter',\n",
      "                                                          'full_name': 'K2440_compliancev',\n",
      "                                                          'instrument': 'qcodes.instrument_drivers.Keithley.Keithley_2400.Keithley2400',\n",
      "                                                          'instrument_name': 'K2440',\n",
      "                                                          'inter_delay': 0,\n",
      "                                                          'label': 'Voltage '\n",
      "                                                                   'Compliance',\n",
      "                                                          'name': 'compliancev',\n",
      "                                                          'post_delay': 0,\n",
      "                                                          'raw_value': '1.050000E+01',\n",
      "                                                          'ts': '2024-09-14 '\n",
      "                                                                '17:11:12',\n",
      "                                                          'unit': '',\n",
      "                                                          'value': 10.5},\n",
      "                                          'curr': {'__class__': 'qcodes.parameters.parameter.Parameter',\n",
      "                                                   'full_name': 'K2440_curr',\n",
      "                                                   'instrument': 'qcodes.instrument_drivers.Keithley.Keithley_2400.Keithley2400',\n",
      "                                                   'instrument_name': 'K2440',\n",
      "                                                   'inter_delay': 0,\n",
      "                                                   'label': 'Current',\n",
      "                                                   'name': 'curr',\n",
      "                                                   'post_delay': 0,\n",
      "                                                   'raw_value': None,\n",
      "                                                   'ts': None,\n",
      "                                                   'unit': 'A',\n",
      "                                                   'value': None},\n",
      "                                          'mode': {'__class__': 'qcodes.parameters.parameter.Parameter',\n",
      "                                                   'full_name': 'K2440_mode',\n",
      "                                                   'instrument': 'qcodes.instrument_drivers.Keithley.Keithley_2400.Keithley2400',\n",
      "                                                   'instrument_name': 'K2440',\n",
      "                                                   'inter_delay': 0,\n",
      "                                                   'label': 'Mode',\n",
      "                                                   'name': 'mode',\n",
      "                                                   'post_delay': 0,\n",
      "                                                   'raw_value': 'VOLT',\n",
      "                                                   'ts': '2024-09-14 17:11:12',\n",
      "                                                   'unit': '',\n",
      "                                                   'vals': \"<Enum: {'CURR', \"\n",
      "                                                           \"'VOLT'}>\",\n",
      "                                                   'value': 'VOLT'},\n",
      "                                          'nplci': {'__class__': 'qcodes.parameters.parameter.Parameter',\n",
      "                                                    'full_name': 'K2440_nplci',\n",
      "                                                    'instrument': 'qcodes.instrument_drivers.Keithley.Keithley_2400.Keithley2400',\n",
      "                                                    'instrument_name': 'K2440',\n",
      "                                                    'inter_delay': 0,\n",
      "                                                    'label': 'Current '\n",
      "                                                             'integration time',\n",
      "                                                    'name': 'nplci',\n",
      "                                                    'post_delay': 0,\n",
      "                                                    'raw_value': '1.00',\n",
      "                                                    'ts': '2024-09-14 17:11:12',\n",
      "                                                    'unit': '',\n",
      "                                                    'value': 1.0},\n",
      "                                          'nplcv': {'__class__': 'qcodes.parameters.parameter.Parameter',\n",
      "                                                    'full_name': 'K2440_nplcv',\n",
      "                                                    'instrument': 'qcodes.instrument_drivers.Keithley.Keithley_2400.Keithley2400',\n",
      "                                                    'instrument_name': 'K2440',\n",
      "                                                    'inter_delay': 0,\n",
      "                                                    'label': 'Voltage '\n",
      "                                                             'integration time',\n",
      "                                                    'name': 'nplcv',\n",
      "                                                    'post_delay': 0,\n",
      "                                                    'raw_value': '1.00',\n",
      "                                                    'ts': '2024-09-14 17:11:12',\n",
      "                                                    'unit': '',\n",
      "                                                    'value': 1.0},\n",
      "                                          'output': {'__class__': 'qcodes.parameters.parameter.Parameter',\n",
      "                                                     'full_name': 'K2440_output',\n",
      "                                                     'instrument': 'qcodes.instrument_drivers.Keithley.Keithley_2400.Keithley2400',\n",
      "                                                     'instrument_name': 'K2440',\n",
      "                                                     'inter_delay': 0,\n",
      "                                                     'label': 'output',\n",
      "                                                     'name': 'output',\n",
      "                                                     'post_delay': 0,\n",
      "                                                     'raw_value': '0',\n",
      "                                                     'ts': '2024-09-14 '\n",
      "                                                           '17:11:12',\n",
      "                                                     'unit': '',\n",
      "                                                     'val_mapping': OrderedDict([('On',\n",
      "                                                                                  '1'),\n",
      "                                                                                 ('ON',\n",
      "                                                                                  '1'),\n",
      "                                                                                 ('on',\n",
      "                                                                                  '1'),\n",
      "                                                                                 ('1',\n",
      "                                                                                  '1'),\n",
      "                                                                                 (True,\n",
      "                                                                                  '1'),\n",
      "                                                                                 ('Off',\n",
      "                                                                                  '0'),\n",
      "                                                                                 ('OFF',\n",
      "                                                                                  '0'),\n",
      "                                                                                 ('off',\n",
      "                                                                                  '0'),\n",
      "                                                                                 ('0',\n",
      "                                                                                  '0'),\n",
      "                                                                                 (False,\n",
      "                                                                                  '0')]),\n",
      "                                                     'vals': '<Enum: {False, '\n",
      "                                                             \"True, 'off', \"\n",
      "                                                             \"'1', 'Off', '0', \"\n",
      "                                                             \"'on', 'ON', \"\n",
      "                                                             \"'On', 'OFF'}>\",\n",
      "                                                     'value': False},\n",
      "                                          'rangei': {'__class__': 'qcodes.parameters.parameter.Parameter',\n",
      "                                                     'full_name': 'K2440_rangei',\n",
      "                                                     'instrument': 'qcodes.instrument_drivers.Keithley.Keithley_2400.Keithley2400',\n",
      "                                                     'instrument_name': 'K2440',\n",
      "                                                     'inter_delay': 0,\n",
      "                                                     'label': 'Current range',\n",
      "                                                     'name': 'rangei',\n",
      "                                                     'post_delay': 0,\n",
      "                                                     'raw_value': '1.050000E-04',\n",
      "                                                     'ts': '2024-09-14 '\n",
      "                                                           '17:11:12',\n",
      "                                                     'unit': '',\n",
      "                                                     'value': 0.000105},\n",
      "                                          'rangev': {'__class__': 'qcodes.parameters.parameter.Parameter',\n",
      "                                                     'full_name': 'K2440_rangev',\n",
      "                                                     'instrument': 'qcodes.instrument_drivers.Keithley.Keithley_2400.Keithley2400',\n",
      "                                                     'instrument_name': 'K2440',\n",
      "                                                     'inter_delay': 0,\n",
      "                                                     'label': 'Voltage range',\n",
      "                                                     'name': 'rangev',\n",
      "                                                     'post_delay': 0,\n",
      "                                                     'raw_value': '10.50',\n",
      "                                                     'ts': '2024-09-14 '\n",
      "                                                           '17:11:12',\n",
      "                                                     'unit': '',\n",
      "                                                     'value': 10.5},\n",
      "                                          'resistance': {'__class__': 'qcodes.parameters.parameter.Parameter',\n",
      "                                                         'full_name': 'K2440_resistance',\n",
      "                                                         'instrument': 'qcodes.instrument_drivers.Keithley.Keithley_2400.Keithley2400',\n",
      "                                                         'instrument_name': 'K2440',\n",
      "                                                         'inter_delay': 0,\n",
      "                                                         'label': 'Resistance',\n",
      "                                                         'name': 'resistance',\n",
      "                                                         'post_delay': 0,\n",
      "                                                         'raw_value': None,\n",
      "                                                         'ts': None,\n",
      "                                                         'unit': 'Ohm',\n",
      "                                                         'value': None},\n",
      "                                          'sense': {'__class__': 'qcodes.parameters.parameter.Parameter',\n",
      "                                                    'full_name': 'K2440_sense',\n",
      "                                                    'instrument': 'qcodes.instrument_drivers.Keithley.Keithley_2400.Keithley2400',\n",
      "                                                    'instrument_name': 'K2440',\n",
      "                                                    'inter_delay': 0,\n",
      "                                                    'label': 'Sense mode',\n",
      "                                                    'name': 'sense',\n",
      "                                                    'post_delay': 0,\n",
      "                                                    'raw_value': '\"CURR:DC\"',\n",
      "                                                    'ts': '2024-09-14 17:11:12',\n",
      "                                                    'unit': '',\n",
      "                                                    'vals': '<Strings>',\n",
      "                                                    'value': '\"CURR:DC\"'},\n",
      "                                          'timeout': {'__class__': 'qcodes.parameters.parameter.Parameter',\n",
      "                                                      'full_name': 'K2440_timeout',\n",
      "                                                      'instrument': 'qcodes.instrument_drivers.Keithley.Keithley_2400.Keithley2400',\n",
      "                                                      'instrument_name': 'K2440',\n",
      "                                                      'inter_delay': 0,\n",
      "                                                      'label': 'timeout',\n",
      "                                                      'name': 'timeout',\n",
      "                                                      'post_delay': 0,\n",
      "                                                      'raw_value': 10.0,\n",
      "                                                      'ts': '2024-09-14 '\n",
      "                                                            '17:11:12',\n",
      "                                                      'unit': 's',\n",
      "                                                      'vals': '<MultiType: '\n",
      "                                                              'Numbers v>=0, '\n",
      "                                                              'Enum: {None}>',\n",
      "                                                      'value': 10.0},\n",
      "                                          'volt': {'__class__': 'qcodes.parameters.parameter.Parameter',\n",
      "                                                   'full_name': 'K2440_volt',\n",
      "                                                   'instrument': 'qcodes.instrument_drivers.Keithley.Keithley_2400.Keithley2400',\n",
      "                                                   'instrument_name': 'K2440',\n",
      "                                                   'inter_delay': 0,\n",
      "                                                   'label': 'Voltage',\n",
      "                                                   'name': 'volt',\n",
      "                                                   'post_delay': 0,\n",
      "                                                   'raw_value': None,\n",
      "                                                   'ts': None,\n",
      "                                                   'unit': 'V',\n",
      "                                                   'value': None}},\n",
      "                           'read_terminator': '\\n',\n",
      "                           'submodules': {},\n",
      "                           'terminator': '\\n',\n",
      "                           'timeout': 10.0,\n",
      "                           'write_terminator': '\\n'}},\n",
      " 'parameters': {}}\n"
     ]
    }
   ],
   "source": [
    "snapshot_of_station = station.snapshot()\n",
    "pprint(snapshot_of_station)"
   ]
  },
  {
   "cell_type": "markdown",
   "id": "4757b159",
   "metadata": {},
   "source": [
    "## Keithley 2440"
   ]
  },
  {
   "cell_type": "markdown",
   "id": "797b994c",
   "metadata": {},
   "source": [
    "### sensitive check"
   ]
  },
  {
   "cell_type": "code",
   "execution_count": 9,
   "id": "f387f69b",
   "metadata": {},
   "outputs": [
    {
     "data": {
      "text/plain": [
       "'VOLT'"
      ]
     },
     "execution_count": 9,
     "metadata": {},
     "output_type": "execute_result"
    }
   ],
   "source": [
    "K2440.mode('VOLT')\n",
    "K2440.mode()"
   ]
  },
  {
   "cell_type": "code",
   "execution_count": 10,
   "id": "09a8a36e",
   "metadata": {},
   "outputs": [
    {
     "name": "stdout",
     "output_type": "stream",
     "text": [
      "4.731851e-05\n"
     ]
    }
   ],
   "source": [
    "K2400.output(1) # output on\n",
    "K2400.rangev(10)\n",
    "K2400.volt(0)\n",
    "K2400.compliancei(100e-3)\n",
    "sleep(1)\n",
    "v_read=DMM6500.amplitude()\n",
    "K2400.output(0) #output off\n",
    "print(v_read)"
   ]
  },
  {
   "cell_type": "markdown",
   "id": "105706bc",
   "metadata": {},
   "source": [
    "## TG 2400"
   ]
  },
  {
   "cell_type": "code",
   "execution_count": null,
   "id": "cdc19f1b",
   "metadata": {},
   "outputs": [],
   "source": [
    "K2400.output(1) # output on\n",
    "K2400.rangev(22)\n",
    "K2400.volt(0)\n",
    "K2400.compliancei(100e-3)\n",
    "# K2400.output(0) #output off\n",
    "sleep(1)\n",
    "v_read=DMM6500.amplitude()\n",
    "print(v_read)"
   ]
  },
  {
   "cell_type": "code",
   "execution_count": null,
   "id": "e971a620",
   "metadata": {},
   "outputs": [],
   "source": [
    "K2400.volt(1)\n",
    "K2400.output(0) #output off"
   ]
  },
  {
   "cell_type": "code",
   "execution_count": 13,
   "id": "e284050c",
   "metadata": {},
   "outputs": [
    {
     "data": {
      "text/plain": [
       "2.1"
      ]
     },
     "execution_count": 13,
     "metadata": {},
     "output_type": "execute_result"
    }
   ],
   "source": [
    "K2400.rangev(1)\n",
    "K2400.rangev()"
   ]
  },
  {
   "cell_type": "markdown",
   "id": "c676ccb5",
   "metadata": {},
   "source": [
    "#  Database initialisation"
   ]
  },
  {
   "cell_type": "code",
   "execution_count": 13,
   "id": "5059671d",
   "metadata": {},
   "outputs": [
    {
     "data": {
      "text/plain": [
       "'c:\\\\Users\\\\quant\\\\OneDrive\\\\Documents\\\\GitHub\\\\QCoDeS_local\\\\init_database_v3.py'"
      ]
     },
     "execution_count": 13,
     "metadata": {},
     "output_type": "execute_result"
    }
   ],
   "source": [
    "def find_init_database_v3_py():\n",
    "    for root, dirs, files in os.walk(qcodes_local_dir):\n",
    "        if 'init_database_v3.py' in files:\n",
    "            return os.path.join(root, 'init_database_v3.py')\n",
    "    return None\n",
    "\n",
    "init_database_v3_py_path = find_init_database_v3_py()\n",
    "init_database_v3_py_path\n"
   ]
  },
  {
   "cell_type": "code",
   "execution_count": 15,
   "id": "e09e380a",
   "metadata": {},
   "outputs": [
    {
     "data": {
      "text/plain": [
       "'c:\\\\Users\\\\quant\\\\OneDrive\\\\Documents\\\\GitHub\\\\QCoDeS_local\\\\init_database_v2.py'"
      ]
     },
     "execution_count": 15,
     "metadata": {},
     "output_type": "execute_result"
    }
   ],
   "source": [
    "def find_init_database_v2_py():\n",
    "    for root, dirs, files in os.walk(qcodes_local_dir):\n",
    "        if 'init_database_v2.py' in files:\n",
    "            return os.path.join(root, 'init_database_v2.py')\n",
    "    return None\n",
    "\n",
    "init_database_v2_py_path = find_init_database_v2_py()\n",
    "init_database_v2_py_path"
   ]
  },
  {
   "cell_type": "code",
   "execution_count": 16,
   "id": "7b665bc4",
   "metadata": {},
   "outputs": [
    {
     "name": "stdout",
     "output_type": "stream",
     "text": [
      "Creating a new database file:\n",
      "c:\\Users\\quant\\OneDrive\\Documents\\GitHub\\QCoDeS_local\\personal_scripts\\Albert\\020-1Shankar\\020-1Shankar_2024-08-23_01.db\n"
     ]
    }
   ],
   "source": [
    "reuse = False\n",
    "%run \"{init_database_v2_py_path}\" {reuse}"
   ]
  },
  {
   "cell_type": "markdown",
   "id": "6a8a2beb",
   "metadata": {},
   "source": [
    "\n",
    "# Scaled parameters"
   ]
  },
  {
   "cell_type": "code",
   "execution_count": null,
   "id": "e3b44b31",
   "metadata": {},
   "outputs": [],
   "source": []
  },
  {
   "cell_type": "markdown",
   "id": "ea4ff57a",
   "metadata": {},
   "source": [
    "## Defining scaled parameters"
   ]
  },
  {
   "cell_type": "code",
   "execution_count": 17,
   "id": "c8ca5b97",
   "metadata": {},
   "outputs": [
    {
     "data": {
      "text/plain": [
       "'Gain_L2'"
      ]
     },
     "execution_count": 17,
     "metadata": {},
     "output_type": "execute_result"
    }
   ],
   "source": [
    "Irange = Parameter('Irange', label='current range', unit='', set_cmd=None, get_cmd=None)\n",
    "Vrange = Parameter('Vrange', label='voltage range', unit='', set_cmd=None, get_cmd=None)\n",
    "TGrange = Parameter('TGrange', label='Top gate range', unit='', set_cmd=None, get_cmd=None)\n",
    "\n",
    "#division paraemtrs required for simplier update: they used as an argument for scaled paraemtrs of sorce instruments\n",
    "\n",
    "\n",
    "Irange_division = Parameter('Irange_division', \n",
    "                            label='scaled current range', unit='', \n",
    "                            set_cmd=None, get_cmd=lambda : 1 / Irange())\n",
    "\n",
    "Vrange_division = Parameter('Vrange_division', \n",
    "                            label='scaled voltage range', unit='', \n",
    "                            set_cmd=None, get_cmd=lambda : 1 / Vrange())\n",
    "\n",
    "TGrange_division = Parameter('TGrange_division', \n",
    "                             label='scaled Top gate range', unit='', \n",
    "                             set_cmd=None, get_cmd=lambda : 1 / TGrange())\n",
    "\n",
    "Irange_AC_division = Parameter('Irange_AC_division', \n",
    "                               label='scaled current range for lockin', unit='', \n",
    "                               set_cmd=None, get_cmd=lambda : 1 / Irange())\n",
    "\n",
    "Vrange_AC_division = Parameter('Vrange_AC_division', \n",
    "                               label='scaled voltage range for lockin', unit='', \n",
    "                               set_cmd=None, get_cmd=lambda : 1 / Vrange())\n",
    "\n",
    "Gain_K1 = Parameter('Gain_K1', label='Gain K1', unit='', set_cmd=None, get_cmd=None)\n",
    "Gain_K2 = Parameter('Gain_K2', label='Gain K2', unit='', set_cmd=None, get_cmd=None)\n",
    "Gain_L1 = Parameter('Gain_L1', label='Gain L1', unit='', set_cmd=None, get_cmd=None)\n",
    "Gain_L2 = Parameter('Gain_L2', label='Gain L2', unit='', set_cmd=None, get_cmd=None)\n",
    "\n",
    "#Add components\n",
    "station.add_component(Irange)\n",
    "station.add_component(Vrange)\n",
    "station.add_component(TGrange)\n",
    "\n",
    "station.add_component(Irange_division)\n",
    "station.add_component(Vrange_division)\n",
    "station.add_component(TGrange_division)\n",
    "\n",
    "station.add_component(Irange_AC_division)\n",
    "station.add_component(Vrange_AC_division)\n",
    "                             \n",
    "station.add_component(Gain_K1)\n",
    "station.add_component(Gain_K2)\n",
    "station.add_component(Gain_L1)\n",
    "station.add_component(Gain_L2)"
   ]
  },
  {
   "cell_type": "markdown",
   "id": "6d7ecebe",
   "metadata": {},
   "source": [
    "## Parameters - update here during measuerements"
   ]
  },
  {
   "cell_type": "code",
   "execution_count": 18,
   "id": "b0b09fcc",
   "metadata": {},
   "outputs": [],
   "source": [
    "Irange.set(1e-6) #Unit Amp V=IR, 1V= 1e-6 x 1MOhm=1e-7 x 10MOhm\n",
    "Vrange.set(10) ## need to be sync with K213 range #Unit Volt\n",
    "TGrange.set(1) #Unit Volt\n",
    "Gain_K1.set(100)\n",
    "Gain_K2.set(100)\n",
    "# Gain_K3.set(1e2)\n",
    "Gain_L1.set(Gain_K1())\n",
    "Gain_L2.set(Gain_K2())\n",
    "#division parameters are updated automatically"
   ]
  },
  {
   "cell_type": "code",
   "execution_count": null,
   "id": "4b1231bb",
   "metadata": {},
   "outputs": [],
   "source": [
    "lockin_1.sine_outdc"
   ]
  },
  {
   "cell_type": "markdown",
   "id": "cbe7bfa7",
   "metadata": {},
   "source": [
    "## DC parameters"
   ]
  },
  {
   "cell_type": "code",
   "execution_count": 19,
   "id": "6a8c7deb",
   "metadata": {},
   "outputs": [
    {
     "data": {
      "text/plain": [
       "'meas_current_K1'"
      ]
     },
     "execution_count": 19,
     "metadata": {},
     "output_type": "execute_result"
    }
   ],
   "source": [
    "# appl_current = ScaledParameter(lockin_1.sine_outdc, division = Irange_division, name = 'appl_current', unit = 'A')\n",
    "appl_current = ScaledParameter(K2440.volt, division = Irange_division, name = 'appl_current', unit = 'A')\n",
    "\n",
    "#appl_TG = ScaledParameter(K2400.volt, division = TGrange_division, name = 'appl_TG', unit = 'V')\n",
    "\n",
    "meas_voltage_K1 = ScaledParameter(DMM6500.amplitude, division = Gain_K1, name = 'meas_voltage_K1', unit = 'V')\n",
    "# meas_voltage_K2 = ScaledParameter(DMM6500.amplitude, division = Gain_K2, name = 'meas_voltage_K2', unit = 'V')\n",
    "\n",
    "# meas_leakage = ScaledParameter(DMM6500.amplitude, division = Gain_K2, name = 'meas_leakage', unit = 'A')\n",
    "\n",
    "meas_current_K1 = ScaledParameter(DMM6500.amplitude, division = Gain_K1, name = 'meas_current_K1', unit = 'A')\n",
    "# meas_current_K2 = ScaledParameter(DMM6500.amplitude, division = Gain_K2, name = 'meas_current_K2', unit = 'A')\n",
    "\n",
    "station.add_component(appl_current)\n",
    "# station.add_component(appl_voltage)\n",
    "#station.add_component(appl_TG)\n",
    "\n",
    "station.add_component(meas_voltage_K1)\n",
    "# station.add_component(meas_voltage_K2)\n",
    "\n",
    "# station.add_component(meas_leakage)\n",
    "\n",
    "station.add_component(meas_current_K1)\n",
    "# station.add_component(meas_current_K2)"
   ]
  },
  {
   "cell_type": "code",
   "execution_count": 35,
   "id": "3851dc82",
   "metadata": {},
   "outputs": [],
   "source": [
    "K2400.output(0)\n",
    "appl_current(0)\n",
    "sleep(1)\n",
    "# meas_voltage_K2()"
   ]
  },
  {
   "cell_type": "markdown",
   "id": "a23afd58",
   "metadata": {},
   "source": [
    "##  AC parameters"
   ]
  },
  {
   "cell_type": "code",
   "execution_count": null,
   "id": "769f6a51",
   "metadata": {},
   "outputs": [],
   "source": [
    "appl_current_AC = ScaledParameter(lockin_1.amplitude, division = Irange_AC_division, name = 'appl_current_AC', unit = 'A')\n",
    "appl_voltage_AC = ScaledParameter(lockin_1.amplitude, division = Vrange_AC_division, name = 'appl_voltage_AC', unit = 'V')\n",
    "\n",
    "station.add_component(appl_current_AC)\n",
    "station.add_component(appl_voltage_AC)\n",
    "\n",
    "meas_voltage_AC_L1 = ScaledParameter(lockin_1.X, division = Gain_L1, name = 'meas_voltage_Lockin1', unit = 'V')\n",
    "meas_current_AC_L1 = ScaledParameter(lockin_1.X, division = Gain_L1, name = 'meas_current_Lockin1', unit = 'A')\n",
    "meas_phase_AC_L1 = ScaledParameter(lockin_1.P, division = 1, name = 'meas_phase_Lockin1', unit = 'degree')\n",
    "\n",
    "\n",
    "# meas_voltage_AC_L2 = ScaledParameter(lockin_2.X, division = Gain_L2, name = 'meas_voltage_Lockin2', unit = 'V')\n",
    "# meas_current_AC_L2 = ScaledParameter(lockin_2.X, division = Gain_L2, name = 'meas_current_Lockin2', unit = 'A')\n",
    "# meas_phase_AC_L2 = ScaledParameter(lockin_2.P, division = 1, name = 'meas_phase_Lockin1', unit = 'degree')\n",
    "\n",
    "station.add_component(meas_voltage_AC_L1)\n",
    "station.add_component(meas_current_AC_L1)\n",
    "station.add_component(meas_phase_AC_L1)\n",
    "\n",
    "# station.add_component(meas_voltage_AC_L2)\n",
    "# station.add_component(meas_current_AC_L2)\n",
    "\n",
    "meas_voltage_AC_L1_R = ScaledParameter(lockin_1.R, division = Gain_L1, name = 'meas_voltage_R_Lockin1', unit = 'V')\n",
    "# meas_voltage_AC_L2_R = ScaledParameter(lockin_2.R, division = Gain_L2, name = 'meas_voltage_R_Lockin2', unit = 'V')\n",
    "\n",
    "station.add_component(meas_voltage_AC_L1_R)\n",
    "# station.add_component(meas_voltage_AC_L2_R)"
   ]
  },
  {
   "cell_type": "code",
   "execution_count": null,
   "id": "bcd10ed7",
   "metadata": {},
   "outputs": [],
   "source": [
    "meas_voltage_AC_L1_P = ScaledParameter(lockin_1.P, division = 1, name = 'meas_voltage_Lockin1_P', unit = 'degree')\n",
    "meas_current_AC_L1_P = ScaledParameter(lockin_1.P, division = 1, name = 'meas_current_Lockin1_P', unit = 'degree')\n",
    "\n",
    "# meas_voltage_AC_L2_P = ScaledParameter(lockin_2.P, division = 1, name = 'meas_voltage_Lockin2_P', unit = 'degree')\n",
    "# meas_current_AC_L2_P = ScaledParameter(lockin_2.P, division = 1, name = 'meas_current_Lockin2_P', unit = 'degree')\n",
    "\n",
    "station.add_component(meas_voltage_AC_L1_P)\n",
    "station.add_component(meas_current_AC_L1_P)\n",
    "\n",
    "# station.add_component(meas_voltage_AC_L2_P)\n",
    "# station.add_component(meas_current_AC_L2_P)"
   ]
  },
  {
   "cell_type": "markdown",
   "id": "8d9d6239",
   "metadata": {},
   "source": [
    "## Another useful example: magnet using dac (Janis)"
   ]
  },
  {
   "cell_type": "markdown",
   "id": "92e1f309",
   "metadata": {},
   "source": [
    ">2231.2 G per A => 0.22312 T per A<br>\n",
    "I source 10mA per V => 1e-5 A per 1mV<br>\n",
    "result: 0.22312 T/A * 1e-5 A/mV"
   ]
  },
  {
   "cell_type": "code",
   "execution_count": 37,
   "id": "6b2b657a",
   "metadata": {},
   "outputs": [],
   "source": [
    "# def get_R_from_IV(dataid):\n",
    "#     dataset = qc.load_by_id(dataid)\n",
    "#     voltage = dataset.get_parameter_data()['meas_voltage_K2']['meas_voltage_K2']\n",
    "#     current = dataset.get_parameter_data()['meas_voltage_K2']['appl_current']\n",
    "#     fit_values = np.polyfit(current,voltage,1)\n",
    "    \n",
    "#     return fit_values[0]\n",
    "\n",
    "dataset = qc.load_by_id(1)\n",
    "\n",
    "def get_R_from_IV_2(dataid):\n",
    "    dataset = qc.load_by_id(dataid)\n",
    "    voltage = dataset.get_parameter_data()['meas_voltage_K2']['meas_voltage_K2']\n",
    "    current = dataset.get_parameter_data()['meas_voltage_K2']['appl_current']\n",
    "    fit_values = np.polyfit(current,voltage,1)\n",
    "\n",
    "    return fit_values[0]\n",
    "\n",
    "def get_R_from_IV(dataid):\n",
    "    dataset = qc.load_by_id(dataid)\n",
    "    para_list = dataset.parameters.split(\",\")\n",
    "    voltage = dataset.get_parameter_data()[para_list[1]][para_list[1]]\n",
    "    current = dataset.get_parameter_data()[para_list[1]][para_list[0]]\n",
    "    fit_values = np.polyfit(current,voltage,1)\n",
    "    return fit_values[0]\n",
    "\n",
    "\n",
    "def get_R_from_IV_K2(dataid):\n",
    "    dataset = qc.load_by_id(dataid)\n",
    "    voltage = dataset.get_parameter_data()['meas_voltage_K2']['meas_voltage_K2']\n",
    "    current = dataset.get_parameter_data()['meas_voltage_K2']['appl_current']\n",
    "    fit_values = np.polyfit(current,voltage,1)\n",
    "    return fit_values[0]\n",
    "\n",
    "def autosave_plot_by_id(run_id, save_path):\n",
    "    fig, ax = plt.subplots()\n",
    "    plot_by_id(run_id, axes=ax)\n",
    "    plt.savefig(save_path)\n",
    "    plt.close()\n",
    "\n",
    "def get_detaset_info(dataset=dataset):\n",
    "    run_id = dataset.captured_run_id\n",
    "    exp_name = dataset.exp_name\n",
    "    sample_name = dataset.sample_name\n",
    "    name = dataset.name\n",
    "    description = dataset.description\n",
    "    sample_junction = extract_sample_junction(sample_name)\n",
    "    return run_id, exp_name, sample_name, sample_junction, name, description\n",
    "\n",
    "def extract_sample_junction(sample_name):\n",
    "    \"\"\"Extracts the complete sample junction from the provided sample name.\n",
    "\n",
    "    Args:\n",
    "      sample_name: The name of the sample containing the junction information.\n",
    "\n",
    "    Returns:\n",
    "      The extracted sample junction, or None if not found.\n",
    "    \"\"\"\n",
    "\n",
    "    delimiter = \"_J\"\n",
    "    if delimiter in sample_name:\n",
    "        # +3 to include \"_J\"\n",
    "        return sample_name[:sample_name.find(delimiter) + 3]\n",
    "    else:\n",
    "        return None\n",
    "\n",
    "def IV(run_id=1):\n",
    "    dataset = qc.load_by_id(run_id)\n",
    "    R = get_R_from_IV(run_id)\n",
    "    run_id, exp_name, sample_name, sample_junction, name, description = get_detaset_info(\n",
    "        dataset)\n",
    "    df = dataset.to_pandas_dataframe().reset_index()\n",
    "    para_list = dataset.parameters.split(\",\")\n",
    "\n",
    "    # Create a Plotly trace\n",
    "    trace = go.Scatter(x=df[para_list[0]], y=df[para_list[1]]*1e3, mode='lines', name='Voltage vs. Current')\n",
    "\n",
    "    # Create layout with micro-scale y-axis\n",
    "    layout = go.Layout(title=f'<b>#{run_id} {exp_name}</b> {sample_name}, R_fit={R:.4f} Ω', title_font=dict(size=28),\n",
    "                       xaxis=dict(title=para_list[0], tickfont=dict(size=16),title_font=dict(size=20)),\n",
    "                       yaxis=dict(title=f\"{para_list[1]} mV\", tickfont=dict(size=16),title_font=dict(size=20)), \n",
    "                       width=1080, height=960,\n",
    "                       margin=dict(l=10, r=10, t=50, b=10))\n",
    "\n",
    "    # Create the figure\n",
    "    fig = go.Figure(data=[trace], layout=layout)\n",
    "    \n",
    "    fig.show()\n",
    "\n",
    "def IV_diff(run_id=1):\n",
    "    import numpy as np\n",
    "    import plotly.graph_objs as go\n",
    "    from scipy.signal import find_peaks\n",
    "    dataset = qc.load_by_id(run_id)\n",
    "\n",
    "    df = dataset.to_pandas_dataframe().reset_index()\n",
    "    para_list = dataset.parameters.split(\",\")\n",
    "\n",
    "    current = df[para_list[0]].tolist()\n",
    "    voltage = df[para_list[1]].tolist()\n",
    "\n",
    "    # Compute differential of voltage with respect to current\n",
    "    differential_voltage = np.diff(voltage) / np.diff(current)\n",
    "\n",
    "    # Since the differential will have one less data point, adjust the current data\n",
    "    # to have the same length as the differential data\n",
    "    current = current[:-1]\n",
    "\n",
    "    # Find peaks in the differential signal\n",
    "    peaks, _ = find_peaks(differential_voltage)\n",
    "\n",
    "    # Extract peak current and peak differential voltage values\n",
    "    peak_current = [current[i] for i in peaks]\n",
    "    peak_voltage_diff = [differential_voltage[i] for i in peaks]\n",
    "\n",
    "    # Sort the peaks based on their values\n",
    "    sorted_peak_indices = np.argsort(peak_voltage_diff)[::-1]  # Sort in descending order\n",
    "    top_two_peak_indices = sorted_peak_indices[:2]  # Select the top two indices\n",
    "\n",
    "    # Extract the top two peaks\n",
    "    top_two_peak_current = [peak_current[i] for i in top_two_peak_indices]\n",
    "    top_two_peak_voltage_diff = [peak_voltage_diff[i] for i in top_two_peak_indices]\n",
    "\n",
    "    # Calculate the center points of the top two peaks\n",
    "    center_points = [(top_two_peak_current[i] + top_two_peak_current[i+1]) / 2 for i in range(len(top_two_peak_current) - 1)]\n",
    "\n",
    "    # Calculate the difference between the top two biggest peaks\n",
    "    peak_difference = abs(top_two_peak_current[0] - top_two_peak_current[1])\n",
    "\n",
    "    # Determine the appropriate unit for current\n",
    "    if peak_difference >= 1e-3:\n",
    "        unit = \"mA\"\n",
    "        conversion_factor = 1e3\n",
    "    elif peak_difference >= 1e-6:\n",
    "        unit = \"μA\"\n",
    "        conversion_factor = 1e6\n",
    "    else:\n",
    "        unit = \"nA\"\n",
    "        conversion_factor = 1e9\n",
    "\n",
    "    # Determine the appropriate unit for current\n",
    "    if peak_difference >= 1e-3:\n",
    "        unit = \"mA\"\n",
    "    elif peak_difference >= 1e-6:\n",
    "        unit = \"μA\"\n",
    "    elif peak_difference >= 1e-9:\n",
    "        unit = \"nA\"\n",
    "    else:\n",
    "        unit = \"pA\"\n",
    "\n",
    "    # Create a Plotly trace for the differential\n",
    "    trace_diff = go.Scatter(x=[c * conversion_factor for c in current], y=differential_voltage, mode='lines', name='d(Voltage)/d(Current)')\n",
    "    # Add markers for the top two peaks\n",
    "    trace_top_two_peaks = go.Scatter(x=[p * conversion_factor for p in top_two_peak_current], y=top_two_peak_voltage_diff, mode='markers', marker=dict(color='red'), name='Top Two Peaks')\n",
    "    # Add markers for the center points\n",
    "    trace_center_points = go.Scatter(x=center_points, y=[0]*len(center_points), mode='markers', marker=dict(color='blue', symbol='cross'), name='Center Points')\n",
    "\n",
    "    # Create layout\n",
    "    layout = go.Layout(title=f'Run #{id} I vs. dV/dI',\n",
    "                    xaxis=dict(title=f'Current ({unit})'),\n",
    "                    yaxis=dict(title='d(Voltage)/d(Current)'),\n",
    "                    legend=dict(orientation=\"h\", yanchor=\"top\", y=1.10, xanchor=\"center\", x=0.5),\n",
    "                    width=600, height=600  \n",
    "                    )\n",
    "\n",
    "    # Create the figure\n",
    "    fig = go.Figure(data=[trace_diff, trace_top_two_peaks, trace_center_points], layout=layout)\n",
    "\n",
    "    # Add annotation for the current value of center points\n",
    "    for i, center_point in enumerate(center_points):\n",
    "        fig.add_annotation(\n",
    "            x=center_point * conversion_factor,\n",
    "            y=0, #0.4 * max(differential_voltage),\n",
    "            text=f'Center Point: {center_point * conversion_factor:.3f}{unit} <br> Peak difference: {peak_difference*conversion_factor:.3f} {unit}',\n",
    "            showarrow=True,\n",
    "            arrowhead=2,\n",
    "            arrowsize=1,\n",
    "            arrowwidth=2,\n",
    "            arrowcolor='black',\n",
    "            ax=-100,\n",
    "            ay=-200 - 30 * i\n",
    "        )\n",
    "\n",
    "    # Plot the figure\n",
    "    fig.show()\n",
    "\n",
    "def get_Mag(show=True):\n",
    "    Mag_x = magnet_x.field()\n",
    "    Mag_y = magnet_y.field()\n",
    "    Mag_z = magnet_z.field()\n",
    "    if show:\n",
    "        print(f\"Mag_x: {Mag_x*1e3:.6f} mT\")\n",
    "        print(f\"Mag_y: {Mag_y*1e3:.6f} mT\")\n",
    "        print(f\"Mag_z: {Mag_z*1e3:.6f} mT\")\n",
    "    else: \n",
    "        return Mag_x, Mag_y, Mag_z"
   ]
  },
  {
   "cell_type": "code",
   "execution_count": null,
   "id": "934a7b70",
   "metadata": {},
   "outputs": [],
   "source": [
    "appl_current(0.5e-6)\n",
    "appl_current_AC(10e-9)"
   ]
  },
  {
   "cell_type": "code",
   "execution_count": null,
   "id": "e0040749",
   "metadata": {},
   "outputs": [],
   "source": [
    "df = dataset.to_pandas_dataframe().reset_index()\n",
    "df"
   ]
  },
  {
   "cell_type": "markdown",
   "id": "885e5c90",
   "metadata": {},
   "source": [
    "# Simple IVs"
   ]
  },
  {
   "cell_type": "markdown",
   "id": "cdb6884c",
   "metadata": {},
   "source": [
    "## IV"
   ]
  },
  {
   "cell_type": "code",
   "execution_count": null,
   "id": "f6c71fe1",
   "metadata": {},
   "outputs": [],
   "source": [
    "K2400.output(1)\n",
    "DMM6500.averaging_count(5)\n",
    "DMM6500.averaging_enabled(True)\n",
    "DMM6500.averaging_enabled(False)\n",
    "K2400.output(0)"
   ]
  },
  {
   "cell_type": "code",
   "execution_count": 22,
   "id": "88a5c92b",
   "metadata": {},
   "outputs": [],
   "source": [
    "# Set current to 0\n",
    "K2440.output(0)\n",
    "appl_current(0e-6)"
   ]
  },
  {
   "cell_type": "code",
   "execution_count": null,
   "id": "af7949e7",
   "metadata": {},
   "outputs": [],
   "source": [
    "IV(3)"
   ]
  },
  {
   "cell_type": "code",
   "execution_count": 43,
   "id": "94d8b3fa",
   "metadata": {},
   "outputs": [
    {
     "name": "stdout",
     "output_type": "stream",
     "text": [
      "Starting experimental run with id: 6. \n"
     ]
    },
    {
     "name": "stderr",
     "output_type": "stream",
     "text": [
      "100%|██████████| 101/101 [00:02<00:00, 37.78it/s]\n",
      "Trying to mark a run completed that was already completed.\n"
     ]
    },
    {
     "data": {
      "application/vnd.plotly.v1+json": {
       "config": {
        "plotlyServerURL": "https://plot.ly"
       },
       "data": [
        {
         "mode": "lines",
         "name": "Voltage vs. Current",
         "type": "scatter",
         "x": [
          -0.000001,
          -9.8e-7,
          -9.6e-7,
          -9.4e-7,
          -9.2e-7,
          -9e-7,
          -8.8e-7,
          -8.6e-7,
          -8.4e-7,
          -8.2e-7,
          -8e-7,
          -7.8e-7,
          -7.6e-7,
          -7.4e-7,
          -7.2e-7,
          -7e-7,
          -6.8e-7,
          -6.6e-7,
          -6.4e-7,
          -6.2e-7,
          -6e-7,
          -5.8e-7,
          -5.6e-7,
          -5.4e-7,
          -5.2e-7,
          -5e-7,
          -4.8e-7,
          -4.6e-7,
          -4.4e-7,
          -4.2e-7,
          -4e-7,
          -3.8e-7,
          -3.6e-7,
          -3.4e-7,
          -3.2e-7,
          -3e-7,
          -2.8e-7,
          -2.6e-7,
          -2.4e-7,
          -2.2e-7,
          -2e-7,
          -1.8e-7,
          -1.6e-7,
          -1.4e-7,
          -1.2e-7,
          -9.99999999999999e-8,
          -8e-8,
          -6e-8,
          -3.99999999999998e-8,
          -2e-8,
          0,
          2e-8,
          4e-8,
          6.00000000000001e-8,
          8.00000000000001e-8,
          1e-7,
          1.2e-7,
          1.4e-7,
          1.6e-7,
          1.8e-7,
          2e-7,
          2.2e-7,
          2.4e-7,
          2.6e-7,
          2.8e-7,
          3e-7,
          3.2e-7,
          3.4e-7,
          3.6e-7,
          3.8e-7,
          4e-7,
          4.2e-7,
          4.4e-7,
          4.6e-7,
          4.8e-7,
          5e-7,
          5.2e-7,
          5.4e-7,
          5.6e-7,
          5.8e-7,
          6e-7,
          6.2e-7,
          6.4e-7,
          6.6e-7,
          6.8e-7,
          7e-7,
          7.2e-7,
          7.4e-7,
          7.6e-7,
          7.8e-7,
          8e-7,
          8.2e-7,
          8.4e-7,
          8.6e-7,
          8.8e-7,
          9e-7,
          9.20000000000001e-7,
          9.4e-7,
          9.6e-7,
          9.8e-7,
          0.000001
         ],
         "y": [
          -0.6030931,
          -0.5916371,
          -0.5797536,
          -0.5677498000000001,
          -0.5557784,
          -0.5443562000000001,
          -0.5320363,
          -0.5201099,
          -0.5074393,
          -0.4956108,
          -0.48354389999999997,
          -0.4704535,
          -0.4555704,
          -0.4443009,
          -0.43474460000000004,
          -0.42179300000000003,
          -0.4085265,
          -0.39569810000000005,
          -0.38377890000000003,
          -0.3719113,
          -0.359987,
          -0.3485691,
          -0.3373074,
          -0.3243666,
          -0.3133136,
          -0.3017079,
          -0.2909513,
          -0.2792353,
          -0.2668856,
          -0.2589751,
          -0.2428509,
          -0.23117790000000002,
          -0.2192645,
          -0.2073767,
          -0.19463799999999998,
          -0.18308460000000001,
          -0.1717588,
          -0.15960470000000002,
          -0.1471875,
          -0.1346183,
          -0.12273540000000001,
          -0.1102812,
          -0.09842281,
          -0.08662349,
          -0.07531405,
          -0.06292909,
          -0.05077807,
          -0.038341070000000005,
          -0.02642216,
          -0.01459823,
          -0.004310254,
          0.009896145,
          0.02275253,
          0.03418569,
          0.04542191,
          0.0575279,
          0.06990459,
          0.08200586,
          0.09482945,
          0.1061798,
          0.1184881,
          0.1303278,
          0.1423416,
          0.1503,
          0.16558489999999998,
          0.17797390000000002,
          0.18586249999999999,
          0.2023955,
          0.2142833,
          0.2272664,
          0.23904460000000002,
          0.25057870000000004,
          0.2625175,
          0.2738874,
          0.2856254,
          0.298555,
          0.3107408,
          0.3225229,
          0.3348583,
          0.34718150000000003,
          0.3588203,
          0.3705422,
          0.382287,
          0.3941792,
          0.40651899999999996,
          0.4189867,
          0.43065600000000004,
          0.44225139999999996,
          0.4551774,
          0.4673379,
          0.4764667,
          0.49042789999999997,
          0.5026274,
          0.5147826,
          0.5271078,
          0.5394796000000001,
          0.5514684,
          0.5632261000000001,
          0.5750197,
          0.5868085999999999,
          0.5991660999999999
         ]
        }
       ],
       "layout": {
        "height": 960,
        "margin": {
         "b": 10,
         "l": 10,
         "r": 10,
         "t": 50
        },
        "template": {
         "data": {
          "bar": [
           {
            "error_x": {
             "color": "#2a3f5f"
            },
            "error_y": {
             "color": "#2a3f5f"
            },
            "marker": {
             "line": {
              "color": "#E5ECF6",
              "width": 0.5
             },
             "pattern": {
              "fillmode": "overlay",
              "size": 10,
              "solidity": 0.2
             }
            },
            "type": "bar"
           }
          ],
          "barpolar": [
           {
            "marker": {
             "line": {
              "color": "#E5ECF6",
              "width": 0.5
             },
             "pattern": {
              "fillmode": "overlay",
              "size": 10,
              "solidity": 0.2
             }
            },
            "type": "barpolar"
           }
          ],
          "carpet": [
           {
            "aaxis": {
             "endlinecolor": "#2a3f5f",
             "gridcolor": "white",
             "linecolor": "white",
             "minorgridcolor": "white",
             "startlinecolor": "#2a3f5f"
            },
            "baxis": {
             "endlinecolor": "#2a3f5f",
             "gridcolor": "white",
             "linecolor": "white",
             "minorgridcolor": "white",
             "startlinecolor": "#2a3f5f"
            },
            "type": "carpet"
           }
          ],
          "choropleth": [
           {
            "colorbar": {
             "outlinewidth": 0,
             "ticks": ""
            },
            "type": "choropleth"
           }
          ],
          "contour": [
           {
            "colorbar": {
             "outlinewidth": 0,
             "ticks": ""
            },
            "colorscale": [
             [
              0,
              "#0d0887"
             ],
             [
              0.1111111111111111,
              "#46039f"
             ],
             [
              0.2222222222222222,
              "#7201a8"
             ],
             [
              0.3333333333333333,
              "#9c179e"
             ],
             [
              0.4444444444444444,
              "#bd3786"
             ],
             [
              0.5555555555555556,
              "#d8576b"
             ],
             [
              0.6666666666666666,
              "#ed7953"
             ],
             [
              0.7777777777777778,
              "#fb9f3a"
             ],
             [
              0.8888888888888888,
              "#fdca26"
             ],
             [
              1,
              "#f0f921"
             ]
            ],
            "type": "contour"
           }
          ],
          "contourcarpet": [
           {
            "colorbar": {
             "outlinewidth": 0,
             "ticks": ""
            },
            "type": "contourcarpet"
           }
          ],
          "heatmap": [
           {
            "colorbar": {
             "outlinewidth": 0,
             "ticks": ""
            },
            "colorscale": [
             [
              0,
              "#0d0887"
             ],
             [
              0.1111111111111111,
              "#46039f"
             ],
             [
              0.2222222222222222,
              "#7201a8"
             ],
             [
              0.3333333333333333,
              "#9c179e"
             ],
             [
              0.4444444444444444,
              "#bd3786"
             ],
             [
              0.5555555555555556,
              "#d8576b"
             ],
             [
              0.6666666666666666,
              "#ed7953"
             ],
             [
              0.7777777777777778,
              "#fb9f3a"
             ],
             [
              0.8888888888888888,
              "#fdca26"
             ],
             [
              1,
              "#f0f921"
             ]
            ],
            "type": "heatmap"
           }
          ],
          "heatmapgl": [
           {
            "colorbar": {
             "outlinewidth": 0,
             "ticks": ""
            },
            "colorscale": [
             [
              0,
              "#0d0887"
             ],
             [
              0.1111111111111111,
              "#46039f"
             ],
             [
              0.2222222222222222,
              "#7201a8"
             ],
             [
              0.3333333333333333,
              "#9c179e"
             ],
             [
              0.4444444444444444,
              "#bd3786"
             ],
             [
              0.5555555555555556,
              "#d8576b"
             ],
             [
              0.6666666666666666,
              "#ed7953"
             ],
             [
              0.7777777777777778,
              "#fb9f3a"
             ],
             [
              0.8888888888888888,
              "#fdca26"
             ],
             [
              1,
              "#f0f921"
             ]
            ],
            "type": "heatmapgl"
           }
          ],
          "histogram": [
           {
            "marker": {
             "pattern": {
              "fillmode": "overlay",
              "size": 10,
              "solidity": 0.2
             }
            },
            "type": "histogram"
           }
          ],
          "histogram2d": [
           {
            "colorbar": {
             "outlinewidth": 0,
             "ticks": ""
            },
            "colorscale": [
             [
              0,
              "#0d0887"
             ],
             [
              0.1111111111111111,
              "#46039f"
             ],
             [
              0.2222222222222222,
              "#7201a8"
             ],
             [
              0.3333333333333333,
              "#9c179e"
             ],
             [
              0.4444444444444444,
              "#bd3786"
             ],
             [
              0.5555555555555556,
              "#d8576b"
             ],
             [
              0.6666666666666666,
              "#ed7953"
             ],
             [
              0.7777777777777778,
              "#fb9f3a"
             ],
             [
              0.8888888888888888,
              "#fdca26"
             ],
             [
              1,
              "#f0f921"
             ]
            ],
            "type": "histogram2d"
           }
          ],
          "histogram2dcontour": [
           {
            "colorbar": {
             "outlinewidth": 0,
             "ticks": ""
            },
            "colorscale": [
             [
              0,
              "#0d0887"
             ],
             [
              0.1111111111111111,
              "#46039f"
             ],
             [
              0.2222222222222222,
              "#7201a8"
             ],
             [
              0.3333333333333333,
              "#9c179e"
             ],
             [
              0.4444444444444444,
              "#bd3786"
             ],
             [
              0.5555555555555556,
              "#d8576b"
             ],
             [
              0.6666666666666666,
              "#ed7953"
             ],
             [
              0.7777777777777778,
              "#fb9f3a"
             ],
             [
              0.8888888888888888,
              "#fdca26"
             ],
             [
              1,
              "#f0f921"
             ]
            ],
            "type": "histogram2dcontour"
           }
          ],
          "mesh3d": [
           {
            "colorbar": {
             "outlinewidth": 0,
             "ticks": ""
            },
            "type": "mesh3d"
           }
          ],
          "parcoords": [
           {
            "line": {
             "colorbar": {
              "outlinewidth": 0,
              "ticks": ""
             }
            },
            "type": "parcoords"
           }
          ],
          "pie": [
           {
            "automargin": true,
            "type": "pie"
           }
          ],
          "scatter": [
           {
            "fillpattern": {
             "fillmode": "overlay",
             "size": 10,
             "solidity": 0.2
            },
            "type": "scatter"
           }
          ],
          "scatter3d": [
           {
            "line": {
             "colorbar": {
              "outlinewidth": 0,
              "ticks": ""
             }
            },
            "marker": {
             "colorbar": {
              "outlinewidth": 0,
              "ticks": ""
             }
            },
            "type": "scatter3d"
           }
          ],
          "scattercarpet": [
           {
            "marker": {
             "colorbar": {
              "outlinewidth": 0,
              "ticks": ""
             }
            },
            "type": "scattercarpet"
           }
          ],
          "scattergeo": [
           {
            "marker": {
             "colorbar": {
              "outlinewidth": 0,
              "ticks": ""
             }
            },
            "type": "scattergeo"
           }
          ],
          "scattergl": [
           {
            "marker": {
             "colorbar": {
              "outlinewidth": 0,
              "ticks": ""
             }
            },
            "type": "scattergl"
           }
          ],
          "scattermapbox": [
           {
            "marker": {
             "colorbar": {
              "outlinewidth": 0,
              "ticks": ""
             }
            },
            "type": "scattermapbox"
           }
          ],
          "scatterpolar": [
           {
            "marker": {
             "colorbar": {
              "outlinewidth": 0,
              "ticks": ""
             }
            },
            "type": "scatterpolar"
           }
          ],
          "scatterpolargl": [
           {
            "marker": {
             "colorbar": {
              "outlinewidth": 0,
              "ticks": ""
             }
            },
            "type": "scatterpolargl"
           }
          ],
          "scatterternary": [
           {
            "marker": {
             "colorbar": {
              "outlinewidth": 0,
              "ticks": ""
             }
            },
            "type": "scatterternary"
           }
          ],
          "surface": [
           {
            "colorbar": {
             "outlinewidth": 0,
             "ticks": ""
            },
            "colorscale": [
             [
              0,
              "#0d0887"
             ],
             [
              0.1111111111111111,
              "#46039f"
             ],
             [
              0.2222222222222222,
              "#7201a8"
             ],
             [
              0.3333333333333333,
              "#9c179e"
             ],
             [
              0.4444444444444444,
              "#bd3786"
             ],
             [
              0.5555555555555556,
              "#d8576b"
             ],
             [
              0.6666666666666666,
              "#ed7953"
             ],
             [
              0.7777777777777778,
              "#fb9f3a"
             ],
             [
              0.8888888888888888,
              "#fdca26"
             ],
             [
              1,
              "#f0f921"
             ]
            ],
            "type": "surface"
           }
          ],
          "table": [
           {
            "cells": {
             "fill": {
              "color": "#EBF0F8"
             },
             "line": {
              "color": "white"
             }
            },
            "header": {
             "fill": {
              "color": "#C8D4E3"
             },
             "line": {
              "color": "white"
             }
            },
            "type": "table"
           }
          ]
         },
         "layout": {
          "annotationdefaults": {
           "arrowcolor": "#2a3f5f",
           "arrowhead": 0,
           "arrowwidth": 1
          },
          "autotypenumbers": "strict",
          "coloraxis": {
           "colorbar": {
            "outlinewidth": 0,
            "ticks": ""
           }
          },
          "colorscale": {
           "diverging": [
            [
             0,
             "#8e0152"
            ],
            [
             0.1,
             "#c51b7d"
            ],
            [
             0.2,
             "#de77ae"
            ],
            [
             0.3,
             "#f1b6da"
            ],
            [
             0.4,
             "#fde0ef"
            ],
            [
             0.5,
             "#f7f7f7"
            ],
            [
             0.6,
             "#e6f5d0"
            ],
            [
             0.7,
             "#b8e186"
            ],
            [
             0.8,
             "#7fbc41"
            ],
            [
             0.9,
             "#4d9221"
            ],
            [
             1,
             "#276419"
            ]
           ],
           "sequential": [
            [
             0,
             "#0d0887"
            ],
            [
             0.1111111111111111,
             "#46039f"
            ],
            [
             0.2222222222222222,
             "#7201a8"
            ],
            [
             0.3333333333333333,
             "#9c179e"
            ],
            [
             0.4444444444444444,
             "#bd3786"
            ],
            [
             0.5555555555555556,
             "#d8576b"
            ],
            [
             0.6666666666666666,
             "#ed7953"
            ],
            [
             0.7777777777777778,
             "#fb9f3a"
            ],
            [
             0.8888888888888888,
             "#fdca26"
            ],
            [
             1,
             "#f0f921"
            ]
           ],
           "sequentialminus": [
            [
             0,
             "#0d0887"
            ],
            [
             0.1111111111111111,
             "#46039f"
            ],
            [
             0.2222222222222222,
             "#7201a8"
            ],
            [
             0.3333333333333333,
             "#9c179e"
            ],
            [
             0.4444444444444444,
             "#bd3786"
            ],
            [
             0.5555555555555556,
             "#d8576b"
            ],
            [
             0.6666666666666666,
             "#ed7953"
            ],
            [
             0.7777777777777778,
             "#fb9f3a"
            ],
            [
             0.8888888888888888,
             "#fdca26"
            ],
            [
             1,
             "#f0f921"
            ]
           ]
          },
          "colorway": [
           "#636efa",
           "#EF553B",
           "#00cc96",
           "#ab63fa",
           "#FFA15A",
           "#19d3f3",
           "#FF6692",
           "#B6E880",
           "#FF97FF",
           "#FECB52"
          ],
          "font": {
           "color": "#2a3f5f"
          },
          "geo": {
           "bgcolor": "white",
           "lakecolor": "white",
           "landcolor": "#E5ECF6",
           "showlakes": true,
           "showland": true,
           "subunitcolor": "white"
          },
          "hoverlabel": {
           "align": "left"
          },
          "hovermode": "closest",
          "mapbox": {
           "style": "light"
          },
          "paper_bgcolor": "white",
          "plot_bgcolor": "#E5ECF6",
          "polar": {
           "angularaxis": {
            "gridcolor": "white",
            "linecolor": "white",
            "ticks": ""
           },
           "bgcolor": "#E5ECF6",
           "radialaxis": {
            "gridcolor": "white",
            "linecolor": "white",
            "ticks": ""
           }
          },
          "scene": {
           "xaxis": {
            "backgroundcolor": "#E5ECF6",
            "gridcolor": "white",
            "gridwidth": 2,
            "linecolor": "white",
            "showbackground": true,
            "ticks": "",
            "zerolinecolor": "white"
           },
           "yaxis": {
            "backgroundcolor": "#E5ECF6",
            "gridcolor": "white",
            "gridwidth": 2,
            "linecolor": "white",
            "showbackground": true,
            "ticks": "",
            "zerolinecolor": "white"
           },
           "zaxis": {
            "backgroundcolor": "#E5ECF6",
            "gridcolor": "white",
            "gridwidth": 2,
            "linecolor": "white",
            "showbackground": true,
            "ticks": "",
            "zerolinecolor": "white"
           }
          },
          "shapedefaults": {
           "line": {
            "color": "#2a3f5f"
           }
          },
          "ternary": {
           "aaxis": {
            "gridcolor": "white",
            "linecolor": "white",
            "ticks": ""
           },
           "baxis": {
            "gridcolor": "white",
            "linecolor": "white",
            "ticks": ""
           },
           "bgcolor": "#E5ECF6",
           "caxis": {
            "gridcolor": "white",
            "linecolor": "white",
            "ticks": ""
           }
          },
          "title": {
           "x": 0.05
          },
          "xaxis": {
           "automargin": true,
           "gridcolor": "white",
           "linecolor": "white",
           "ticks": "",
           "title": {
            "standoff": 15
           },
           "zerolinecolor": "white",
           "zerolinewidth": 2
          },
          "yaxis": {
           "automargin": true,
           "gridcolor": "white",
           "linecolor": "white",
           "ticks": "",
           "title": {
            "standoff": 15
           },
           "zerolinecolor": "white",
           "zerolinewidth": 2
          }
         }
        },
        "title": {
         "font": {
          "size": 28
         },
         "text": "<b>#6 I-V</b> 020-1_21-20-30-31G, R_fit=600.8098 Ω"
        },
        "width": 1080,
        "xaxis": {
         "tickfont": {
          "size": 16
         },
         "title": {
          "font": {
           "size": 20
          },
          "text": "appl_current"
         }
        },
        "yaxis": {
         "tickfont": {
          "size": 16
         },
         "title": {
          "font": {
           "size": 20
          },
          "text": "meas_voltage_K1 mV"
         }
        }
       }
      }
     },
     "metadata": {},
     "output_type": "display_data"
    },
    {
     "data": {
      "application/vnd.plotly.v1+json": {
       "config": {
        "plotlyServerURL": "https://plot.ly"
       },
       "data": [
        {
         "mode": "lines",
         "name": "d(Voltage)/d(Current)",
         "type": "scatter",
         "x": [
          -1000,
          -979.9999999999999,
          -959.9999999999999,
          -940,
          -920,
          -900,
          -880,
          -860,
          -840,
          -820,
          -800,
          -780,
          -760,
          -740,
          -720,
          -700,
          -680,
          -660,
          -640,
          -620,
          -600,
          -580,
          -560,
          -540,
          -520,
          -500,
          -479.99999999999994,
          -460,
          -440,
          -420,
          -400,
          -380,
          -360,
          -340,
          -320,
          -300,
          -280,
          -260,
          -239.99999999999997,
          -220,
          -200,
          -180,
          -160,
          -140,
          -119.99999999999999,
          -99.9999999999999,
          -80,
          -59.99999999999999,
          -39.9999999999998,
          -20,
          0,
          20,
          40,
          60.0000000000001,
          80.0000000000001,
          100,
          119.99999999999999,
          140,
          160,
          180,
          200,
          220,
          239.99999999999997,
          260,
          280,
          300,
          320,
          340,
          360,
          380,
          400,
          420,
          440,
          460,
          479.99999999999994,
          500,
          520,
          540,
          560,
          580,
          600,
          620,
          640,
          660,
          680,
          700,
          720,
          740,
          760,
          780,
          800,
          820,
          840,
          860,
          880,
          900,
          920.000000000001,
          940,
          959.9999999999999,
          979.9999999999999
         ],
         "y": [
          572.7999999999977,
          594.1750000000009,
          600.1900000000006,
          598.5700000000033,
          571.109999999996,
          615.9950000000018,
          596.3200000000005,
          633.5299999999987,
          591.425000000001,
          603.3449999999999,
          654.5200000000015,
          744.1550000000002,
          563.475,
          477.8149999999979,
          647.5800000000004,
          663.3249999999999,
          641.4200000000011,
          595.9599999999997,
          593.3800000000008,
          596.2149999999999,
          570.8949999999986,
          563.0850000000028,
          647.0399999999978,
          552.6500000000003,
          580.2849999999995,
          537.829999999999,
          585.8000000000006,
          617.4850000000014,
          395.5249999999985,
          806.2100000000004,
          583.6500000000007,
          595.6699999999997,
          594.3899999999996,
          636.9350000000014,
          577.6699999999983,
          566.2900000000019,
          607.7049999999987,
          620.86,
          628.4600000000007,
          594.1449999999987,
          622.7100000000008,
          592.9194999999999,
          589.9660000000006,
          565.4719999999994,
          619.2479999999971,
          607.551000000003,
          621.8499999999996,
          595.9454999999944,
          591.1965000000058,
          514.3988,
          710.3199500000001,
          642.8192500000001,
          571.6579999999971,
          561.8110000000003,
          605.299500000003,
          618.8345000000002,
          605.0634999999995,
          641.1795,
          567.5175000000003,
          615.4150000000001,
          591.9849999999988,
          600.6900000000015,
          397.91999999999933,
          764.2449999999989,
          619.450000000002,
          394.42999999999915,
          826.6500000000013,
          594.3899999999996,
          649.1549999999994,
          588.9100000000014,
          576.7049999999998,
          596.9399999999978,
          568.4950000000003,
          586.9000000000017,
          646.4799999999993,
          609.2899999999997,
          589.1049999999985,
          616.7699999999999,
          616.1600000000038,
          581.9399999999974,
          586.0949999999995,
          587.2399999999996,
          594.6100000000001,
          616.9900000000023,
          623.3850000000006,
          583.4649999999998,
          579.7699999999974,
          646.3000000000003,
          608.0249999999994,
          456.4400000000026,
          698.0599999999971,
          609.9750000000003,
          607.7599999999985,
          616.2600000000022,
          618.5900000000031,
          599.4399999999647,
          587.8850000000338,
          589.68,
          589.444999999998,
          617.875
         ]
        },
        {
         "marker": {
          "color": "red"
         },
         "mode": "markers",
         "name": "Top Two Peaks",
         "type": "scatter",
         "x": [
          320,
          -420
         ],
         "y": [
          826.6500000000013,
          806.2100000000004
         ]
        },
        {
         "marker": {
          "color": "blue",
          "symbol": "cross"
         },
         "mode": "markers",
         "name": "Center Points",
         "type": "scatter",
         "x": [
          -5e-8
         ],
         "y": [
          0
         ]
        }
       ],
       "layout": {
        "annotations": [
         {
          "arrowcolor": "black",
          "arrowhead": 2,
          "arrowsize": 1,
          "arrowwidth": 2,
          "ax": -100,
          "ay": -200,
          "showarrow": true,
          "text": "Center Point: -50.000nA <br> Peak difference: 740.000 nA",
          "x": -50,
          "y": 0
         }
        ],
        "height": 600,
        "legend": {
         "orientation": "h",
         "x": 0.5,
         "xanchor": "center",
         "y": 1.1,
         "yanchor": "top"
        },
        "template": {
         "data": {
          "bar": [
           {
            "error_x": {
             "color": "#2a3f5f"
            },
            "error_y": {
             "color": "#2a3f5f"
            },
            "marker": {
             "line": {
              "color": "#E5ECF6",
              "width": 0.5
             },
             "pattern": {
              "fillmode": "overlay",
              "size": 10,
              "solidity": 0.2
             }
            },
            "type": "bar"
           }
          ],
          "barpolar": [
           {
            "marker": {
             "line": {
              "color": "#E5ECF6",
              "width": 0.5
             },
             "pattern": {
              "fillmode": "overlay",
              "size": 10,
              "solidity": 0.2
             }
            },
            "type": "barpolar"
           }
          ],
          "carpet": [
           {
            "aaxis": {
             "endlinecolor": "#2a3f5f",
             "gridcolor": "white",
             "linecolor": "white",
             "minorgridcolor": "white",
             "startlinecolor": "#2a3f5f"
            },
            "baxis": {
             "endlinecolor": "#2a3f5f",
             "gridcolor": "white",
             "linecolor": "white",
             "minorgridcolor": "white",
             "startlinecolor": "#2a3f5f"
            },
            "type": "carpet"
           }
          ],
          "choropleth": [
           {
            "colorbar": {
             "outlinewidth": 0,
             "ticks": ""
            },
            "type": "choropleth"
           }
          ],
          "contour": [
           {
            "colorbar": {
             "outlinewidth": 0,
             "ticks": ""
            },
            "colorscale": [
             [
              0,
              "#0d0887"
             ],
             [
              0.1111111111111111,
              "#46039f"
             ],
             [
              0.2222222222222222,
              "#7201a8"
             ],
             [
              0.3333333333333333,
              "#9c179e"
             ],
             [
              0.4444444444444444,
              "#bd3786"
             ],
             [
              0.5555555555555556,
              "#d8576b"
             ],
             [
              0.6666666666666666,
              "#ed7953"
             ],
             [
              0.7777777777777778,
              "#fb9f3a"
             ],
             [
              0.8888888888888888,
              "#fdca26"
             ],
             [
              1,
              "#f0f921"
             ]
            ],
            "type": "contour"
           }
          ],
          "contourcarpet": [
           {
            "colorbar": {
             "outlinewidth": 0,
             "ticks": ""
            },
            "type": "contourcarpet"
           }
          ],
          "heatmap": [
           {
            "colorbar": {
             "outlinewidth": 0,
             "ticks": ""
            },
            "colorscale": [
             [
              0,
              "#0d0887"
             ],
             [
              0.1111111111111111,
              "#46039f"
             ],
             [
              0.2222222222222222,
              "#7201a8"
             ],
             [
              0.3333333333333333,
              "#9c179e"
             ],
             [
              0.4444444444444444,
              "#bd3786"
             ],
             [
              0.5555555555555556,
              "#d8576b"
             ],
             [
              0.6666666666666666,
              "#ed7953"
             ],
             [
              0.7777777777777778,
              "#fb9f3a"
             ],
             [
              0.8888888888888888,
              "#fdca26"
             ],
             [
              1,
              "#f0f921"
             ]
            ],
            "type": "heatmap"
           }
          ],
          "heatmapgl": [
           {
            "colorbar": {
             "outlinewidth": 0,
             "ticks": ""
            },
            "colorscale": [
             [
              0,
              "#0d0887"
             ],
             [
              0.1111111111111111,
              "#46039f"
             ],
             [
              0.2222222222222222,
              "#7201a8"
             ],
             [
              0.3333333333333333,
              "#9c179e"
             ],
             [
              0.4444444444444444,
              "#bd3786"
             ],
             [
              0.5555555555555556,
              "#d8576b"
             ],
             [
              0.6666666666666666,
              "#ed7953"
             ],
             [
              0.7777777777777778,
              "#fb9f3a"
             ],
             [
              0.8888888888888888,
              "#fdca26"
             ],
             [
              1,
              "#f0f921"
             ]
            ],
            "type": "heatmapgl"
           }
          ],
          "histogram": [
           {
            "marker": {
             "pattern": {
              "fillmode": "overlay",
              "size": 10,
              "solidity": 0.2
             }
            },
            "type": "histogram"
           }
          ],
          "histogram2d": [
           {
            "colorbar": {
             "outlinewidth": 0,
             "ticks": ""
            },
            "colorscale": [
             [
              0,
              "#0d0887"
             ],
             [
              0.1111111111111111,
              "#46039f"
             ],
             [
              0.2222222222222222,
              "#7201a8"
             ],
             [
              0.3333333333333333,
              "#9c179e"
             ],
             [
              0.4444444444444444,
              "#bd3786"
             ],
             [
              0.5555555555555556,
              "#d8576b"
             ],
             [
              0.6666666666666666,
              "#ed7953"
             ],
             [
              0.7777777777777778,
              "#fb9f3a"
             ],
             [
              0.8888888888888888,
              "#fdca26"
             ],
             [
              1,
              "#f0f921"
             ]
            ],
            "type": "histogram2d"
           }
          ],
          "histogram2dcontour": [
           {
            "colorbar": {
             "outlinewidth": 0,
             "ticks": ""
            },
            "colorscale": [
             [
              0,
              "#0d0887"
             ],
             [
              0.1111111111111111,
              "#46039f"
             ],
             [
              0.2222222222222222,
              "#7201a8"
             ],
             [
              0.3333333333333333,
              "#9c179e"
             ],
             [
              0.4444444444444444,
              "#bd3786"
             ],
             [
              0.5555555555555556,
              "#d8576b"
             ],
             [
              0.6666666666666666,
              "#ed7953"
             ],
             [
              0.7777777777777778,
              "#fb9f3a"
             ],
             [
              0.8888888888888888,
              "#fdca26"
             ],
             [
              1,
              "#f0f921"
             ]
            ],
            "type": "histogram2dcontour"
           }
          ],
          "mesh3d": [
           {
            "colorbar": {
             "outlinewidth": 0,
             "ticks": ""
            },
            "type": "mesh3d"
           }
          ],
          "parcoords": [
           {
            "line": {
             "colorbar": {
              "outlinewidth": 0,
              "ticks": ""
             }
            },
            "type": "parcoords"
           }
          ],
          "pie": [
           {
            "automargin": true,
            "type": "pie"
           }
          ],
          "scatter": [
           {
            "fillpattern": {
             "fillmode": "overlay",
             "size": 10,
             "solidity": 0.2
            },
            "type": "scatter"
           }
          ],
          "scatter3d": [
           {
            "line": {
             "colorbar": {
              "outlinewidth": 0,
              "ticks": ""
             }
            },
            "marker": {
             "colorbar": {
              "outlinewidth": 0,
              "ticks": ""
             }
            },
            "type": "scatter3d"
           }
          ],
          "scattercarpet": [
           {
            "marker": {
             "colorbar": {
              "outlinewidth": 0,
              "ticks": ""
             }
            },
            "type": "scattercarpet"
           }
          ],
          "scattergeo": [
           {
            "marker": {
             "colorbar": {
              "outlinewidth": 0,
              "ticks": ""
             }
            },
            "type": "scattergeo"
           }
          ],
          "scattergl": [
           {
            "marker": {
             "colorbar": {
              "outlinewidth": 0,
              "ticks": ""
             }
            },
            "type": "scattergl"
           }
          ],
          "scattermapbox": [
           {
            "marker": {
             "colorbar": {
              "outlinewidth": 0,
              "ticks": ""
             }
            },
            "type": "scattermapbox"
           }
          ],
          "scatterpolar": [
           {
            "marker": {
             "colorbar": {
              "outlinewidth": 0,
              "ticks": ""
             }
            },
            "type": "scatterpolar"
           }
          ],
          "scatterpolargl": [
           {
            "marker": {
             "colorbar": {
              "outlinewidth": 0,
              "ticks": ""
             }
            },
            "type": "scatterpolargl"
           }
          ],
          "scatterternary": [
           {
            "marker": {
             "colorbar": {
              "outlinewidth": 0,
              "ticks": ""
             }
            },
            "type": "scatterternary"
           }
          ],
          "surface": [
           {
            "colorbar": {
             "outlinewidth": 0,
             "ticks": ""
            },
            "colorscale": [
             [
              0,
              "#0d0887"
             ],
             [
              0.1111111111111111,
              "#46039f"
             ],
             [
              0.2222222222222222,
              "#7201a8"
             ],
             [
              0.3333333333333333,
              "#9c179e"
             ],
             [
              0.4444444444444444,
              "#bd3786"
             ],
             [
              0.5555555555555556,
              "#d8576b"
             ],
             [
              0.6666666666666666,
              "#ed7953"
             ],
             [
              0.7777777777777778,
              "#fb9f3a"
             ],
             [
              0.8888888888888888,
              "#fdca26"
             ],
             [
              1,
              "#f0f921"
             ]
            ],
            "type": "surface"
           }
          ],
          "table": [
           {
            "cells": {
             "fill": {
              "color": "#EBF0F8"
             },
             "line": {
              "color": "white"
             }
            },
            "header": {
             "fill": {
              "color": "#C8D4E3"
             },
             "line": {
              "color": "white"
             }
            },
            "type": "table"
           }
          ]
         },
         "layout": {
          "annotationdefaults": {
           "arrowcolor": "#2a3f5f",
           "arrowhead": 0,
           "arrowwidth": 1
          },
          "autotypenumbers": "strict",
          "coloraxis": {
           "colorbar": {
            "outlinewidth": 0,
            "ticks": ""
           }
          },
          "colorscale": {
           "diverging": [
            [
             0,
             "#8e0152"
            ],
            [
             0.1,
             "#c51b7d"
            ],
            [
             0.2,
             "#de77ae"
            ],
            [
             0.3,
             "#f1b6da"
            ],
            [
             0.4,
             "#fde0ef"
            ],
            [
             0.5,
             "#f7f7f7"
            ],
            [
             0.6,
             "#e6f5d0"
            ],
            [
             0.7,
             "#b8e186"
            ],
            [
             0.8,
             "#7fbc41"
            ],
            [
             0.9,
             "#4d9221"
            ],
            [
             1,
             "#276419"
            ]
           ],
           "sequential": [
            [
             0,
             "#0d0887"
            ],
            [
             0.1111111111111111,
             "#46039f"
            ],
            [
             0.2222222222222222,
             "#7201a8"
            ],
            [
             0.3333333333333333,
             "#9c179e"
            ],
            [
             0.4444444444444444,
             "#bd3786"
            ],
            [
             0.5555555555555556,
             "#d8576b"
            ],
            [
             0.6666666666666666,
             "#ed7953"
            ],
            [
             0.7777777777777778,
             "#fb9f3a"
            ],
            [
             0.8888888888888888,
             "#fdca26"
            ],
            [
             1,
             "#f0f921"
            ]
           ],
           "sequentialminus": [
            [
             0,
             "#0d0887"
            ],
            [
             0.1111111111111111,
             "#46039f"
            ],
            [
             0.2222222222222222,
             "#7201a8"
            ],
            [
             0.3333333333333333,
             "#9c179e"
            ],
            [
             0.4444444444444444,
             "#bd3786"
            ],
            [
             0.5555555555555556,
             "#d8576b"
            ],
            [
             0.6666666666666666,
             "#ed7953"
            ],
            [
             0.7777777777777778,
             "#fb9f3a"
            ],
            [
             0.8888888888888888,
             "#fdca26"
            ],
            [
             1,
             "#f0f921"
            ]
           ]
          },
          "colorway": [
           "#636efa",
           "#EF553B",
           "#00cc96",
           "#ab63fa",
           "#FFA15A",
           "#19d3f3",
           "#FF6692",
           "#B6E880",
           "#FF97FF",
           "#FECB52"
          ],
          "font": {
           "color": "#2a3f5f"
          },
          "geo": {
           "bgcolor": "white",
           "lakecolor": "white",
           "landcolor": "#E5ECF6",
           "showlakes": true,
           "showland": true,
           "subunitcolor": "white"
          },
          "hoverlabel": {
           "align": "left"
          },
          "hovermode": "closest",
          "mapbox": {
           "style": "light"
          },
          "paper_bgcolor": "white",
          "plot_bgcolor": "#E5ECF6",
          "polar": {
           "angularaxis": {
            "gridcolor": "white",
            "linecolor": "white",
            "ticks": ""
           },
           "bgcolor": "#E5ECF6",
           "radialaxis": {
            "gridcolor": "white",
            "linecolor": "white",
            "ticks": ""
           }
          },
          "scene": {
           "xaxis": {
            "backgroundcolor": "#E5ECF6",
            "gridcolor": "white",
            "gridwidth": 2,
            "linecolor": "white",
            "showbackground": true,
            "ticks": "",
            "zerolinecolor": "white"
           },
           "yaxis": {
            "backgroundcolor": "#E5ECF6",
            "gridcolor": "white",
            "gridwidth": 2,
            "linecolor": "white",
            "showbackground": true,
            "ticks": "",
            "zerolinecolor": "white"
           },
           "zaxis": {
            "backgroundcolor": "#E5ECF6",
            "gridcolor": "white",
            "gridwidth": 2,
            "linecolor": "white",
            "showbackground": true,
            "ticks": "",
            "zerolinecolor": "white"
           }
          },
          "shapedefaults": {
           "line": {
            "color": "#2a3f5f"
           }
          },
          "ternary": {
           "aaxis": {
            "gridcolor": "white",
            "linecolor": "white",
            "ticks": ""
           },
           "baxis": {
            "gridcolor": "white",
            "linecolor": "white",
            "ticks": ""
           },
           "bgcolor": "#E5ECF6",
           "caxis": {
            "gridcolor": "white",
            "linecolor": "white",
            "ticks": ""
           }
          },
          "title": {
           "x": 0.05
          },
          "xaxis": {
           "automargin": true,
           "gridcolor": "white",
           "linecolor": "white",
           "ticks": "",
           "title": {
            "standoff": 15
           },
           "zerolinecolor": "white",
           "zerolinewidth": 2
          },
          "yaxis": {
           "automargin": true,
           "gridcolor": "white",
           "linecolor": "white",
           "ticks": "",
           "title": {
            "standoff": 15
           },
           "zerolinecolor": "white",
           "zerolinewidth": 2
          }
         }
        },
        "title": {
         "text": "Run #<built-in function id> I vs. dV/dI"
        },
        "width": 600,
        "xaxis": {
         "title": {
          "text": "Current (nA)"
         }
        },
        "yaxis": {
         "title": {
          "text": "d(Voltage)/d(Current)"
         }
        }
       }
      }
     },
     "metadata": {},
     "output_type": "display_data"
    },
    {
     "data": {
      "application/vnd.jupyter.widget-view+json": {
       "model_id": "751e560b2fbb4407bf00c57eaf5971e9",
       "version_major": 2,
       "version_minor": 0
      },
      "image/png": "[encoded data removed]",
      "text/html": [
       "\n",
       "            <div style=\"display: inline-block;\">\n",
       "                <div class=\"jupyter-widgets widget-label\" style=\"text-align: center;\">\n",
       "                    Figure\n",
       "                </div>\n",
       "                <img src='data:image/png;base64,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' width=640.0/>\n",
       "            </div>\n",
       "        "
      ],
      "text/plain": [
       "Canvas(toolbar=Toolbar(toolitems=[('Home', 'Reset original view', 'home', 'home'), ('Back', 'Back to previous …"
      ]
     },
     "metadata": {},
     "output_type": "display_data"
    }
   ],
   "source": [
    "I_range=1e-6\n",
    "K2440.output(1)\n",
    "appl_current(-I_range) #Limit:1e-5 Amp(1MOhms risistor),1e-6 Amp(10MOhms risistor)\n",
    "sleep(2)\n",
    "# station.snapshot(update=True);\n",
    "exp = qc.new_experiment('I-V', sample_name='020-1_21-20-30-31G')\n",
    "dataid = do1d(appl_current, -I_range ,I_range, 101, 0.003, meas_voltage_K1)\n",
    "appl_current(0)\n",
    "K2440.output(0)\n",
    "\n",
    "plot_by_id(dataid)\n",
    "#save_path = r\"C:\\qcodes\\personal_scripts\\Albert\\104\\Plot\\104_{}.png\".format(dataid)  # Path to save the plot image\n",
    "#autosave_plot_by_id(dataid, save_path)\n",
    "# print(f\"R = {get_R_from_IV(dataid)}\")\n",
    "# dataset = qc.load_by_id(dataid)\n",
    "IV(dataid)\n",
    "IV_diff(dataid)"
   ]
  },
  {
   "cell_type": "code",
   "execution_count": 44,
   "id": "ee32ef77",
   "metadata": {},
   "outputs": [
    {
     "data": {
      "text/plain": [
       "600.8097518782763"
      ]
     },
     "execution_count": 44,
     "metadata": {},
     "output_type": "execute_result"
    }
   ],
   "source": [
    "get_R_from_IV(dataid)"
   ]
  },
  {
   "cell_type": "code",
   "execution_count": 49,
   "id": "ae71124e",
   "metadata": {},
   "outputs": [
    {
     "data": {
      "application/vnd.plotly.v1+json": {
       "config": {
        "plotlyServerURL": "https://plot.ly"
       },
       "data": [
        {
         "mode": "lines",
         "name": "Voltage vs. Current",
         "type": "scatter",
         "x": [
          -0.000001,
          -9.8e-7,
          -9.6e-7,
          -9.4e-7,
          -9.2e-7,
          -9e-7,
          -8.8e-7,
          -8.6e-7,
          -8.4e-7,
          -8.2e-7,
          -8e-7,
          -7.8e-7,
          -7.6e-7,
          -7.4e-7,
          -7.2e-7,
          -7e-7,
          -6.8e-7,
          -6.6e-7,
          -6.4e-7,
          -6.2e-7,
          -6e-7,
          -5.8e-7,
          -5.6e-7,
          -5.4e-7,
          -5.2e-7,
          -5e-7,
          -4.8e-7,
          -4.6e-7,
          -4.4e-7,
          -4.2e-7,
          -4e-7,
          -3.8e-7,
          -3.6e-7,
          -3.4e-7,
          -3.2e-7,
          -3e-7,
          -2.8e-7,
          -2.6e-7,
          -2.4e-7,
          -2.2e-7,
          -2e-7,
          -1.8e-7,
          -1.6e-7,
          -1.4e-7,
          -1.2e-7,
          -9.99999999999999e-8,
          -8e-8,
          -6e-8,
          -3.99999999999998e-8,
          -2e-8,
          0,
          2e-8,
          4e-8,
          6.00000000000001e-8,
          8.00000000000001e-8,
          1e-7,
          1.2e-7,
          1.4e-7,
          1.6e-7,
          1.8e-7,
          2e-7,
          2.2e-7,
          2.4e-7,
          2.6e-7,
          2.8e-7,
          3e-7,
          3.2e-7,
          3.4e-7,
          3.6e-7,
          3.8e-7,
          4e-7,
          4.2e-7,
          4.4e-7,
          4.6e-7,
          4.8e-7,
          5e-7,
          5.2e-7,
          5.4e-7,
          5.6e-7,
          5.8e-7,
          6e-7,
          6.2e-7,
          6.4e-7,
          6.6e-7,
          6.8e-7,
          7e-7,
          7.2e-7,
          7.4e-7,
          7.6e-7,
          7.8e-7,
          8e-7,
          8.2e-7,
          8.4e-7,
          8.6e-7,
          8.8e-7,
          9e-7,
          9.20000000000001e-7,
          9.4e-7,
          9.6e-7,
          9.8e-7,
          0.000001
         ],
         "y": [
          -0.6473557,
          -0.6352521,
          -0.6221995,
          -0.6097182999999999,
          -0.5969061,
          -0.5835357,
          -0.5707476,
          -0.5577761,
          -0.5452449,
          -0.5331792,
          -0.5193211,
          -0.5061652,
          -0.49345400000000006,
          -0.4800715,
          -0.4673972,
          -0.4544417,
          -0.4416094,
          -0.42936470000000004,
          -0.41564450000000003,
          -0.4029638,
          -0.38997940000000003,
          -0.37695589999999995,
          -0.3689698,
          -0.35099369999999996,
          -0.3384372,
          -0.3257346,
          -0.31188679999999996,
          -0.29951469999999997,
          -0.2863504,
          -0.2738911,
          -0.26213929999999996,
          -0.24788989999999997,
          -0.2349118,
          -0.2267295,
          -0.209088,
          -0.19582660000000002,
          -0.183169,
          -0.170071,
          -0.1575717,
          -0.1445951,
          -0.1317926,
          -0.12004440000000001,
          -0.10552270000000001,
          -0.09295747,
          -0.08405699,
          -0.06711906,
          -0.05378812,
          -0.04130758,
          -0.028117040000000003,
          -0.01508264,
          -0.002289529,
          0.01017885,
          0.022048759999999997,
          0.03647557,
          0.04933947,
          0.06228976,
          0.07509423,
          0.08817447,
          0.1012036,
          0.1139339,
          0.12673369999999998,
          0.1400335,
          0.1525583,
          0.1657569,
          0.178508,
          0.1870563,
          0.2040182,
          0.21696580000000001,
          0.2256282,
          0.24306450000000002,
          0.2557561,
          0.269258,
          0.2819064,
          0.2949441,
          0.30767560000000005,
          0.3207047,
          0.3302738,
          0.3461745,
          0.3600023,
          0.3725157,
          0.3854326,
          0.3983188,
          0.41096360000000004,
          0.4238865,
          0.4370562,
          0.44947770000000004,
          0.4630615,
          0.4709114,
          0.48858150000000006,
          0.5017382,
          0.5147869,
          0.5276056,
          0.5401368000000001,
          0.5531119,
          0.5662595,
          0.5791639000000001,
          0.5915735000000001,
          0.6048058,
          0.6155578,
          0.6308126000000001,
          0.6438159999999999
         ]
        }
       ],
       "layout": {
        "height": 960,
        "margin": {
         "b": 10,
         "l": 10,
         "r": 10,
         "t": 50
        },
        "template": {
         "data": {
          "bar": [
           {
            "error_x": {
             "color": "#2a3f5f"
            },
            "error_y": {
             "color": "#2a3f5f"
            },
            "marker": {
             "line": {
              "color": "#E5ECF6",
              "width": 0.5
             },
             "pattern": {
              "fillmode": "overlay",
              "size": 10,
              "solidity": 0.2
             }
            },
            "type": "bar"
           }
          ],
          "barpolar": [
           {
            "marker": {
             "line": {
              "color": "#E5ECF6",
              "width": 0.5
             },
             "pattern": {
              "fillmode": "overlay",
              "size": 10,
              "solidity": 0.2
             }
            },
            "type": "barpolar"
           }
          ],
          "carpet": [
           {
            "aaxis": {
             "endlinecolor": "#2a3f5f",
             "gridcolor": "white",
             "linecolor": "white",
             "minorgridcolor": "white",
             "startlinecolor": "#2a3f5f"
            },
            "baxis": {
             "endlinecolor": "#2a3f5f",
             "gridcolor": "white",
             "linecolor": "white",
             "minorgridcolor": "white",
             "startlinecolor": "#2a3f5f"
            },
            "type": "carpet"
           }
          ],
          "choropleth": [
           {
            "colorbar": {
             "outlinewidth": 0,
             "ticks": ""
            },
            "type": "choropleth"
           }
          ],
          "contour": [
           {
            "colorbar": {
             "outlinewidth": 0,
             "ticks": ""
            },
            "colorscale": [
             [
              0,
              "#0d0887"
             ],
             [
              0.1111111111111111,
              "#46039f"
             ],
             [
              0.2222222222222222,
              "#7201a8"
             ],
             [
              0.3333333333333333,
              "#9c179e"
             ],
             [
              0.4444444444444444,
              "#bd3786"
             ],
             [
              0.5555555555555556,
              "#d8576b"
             ],
             [
              0.6666666666666666,
              "#ed7953"
             ],
             [
              0.7777777777777778,
              "#fb9f3a"
             ],
             [
              0.8888888888888888,
              "#fdca26"
             ],
             [
              1,
              "#f0f921"
             ]
            ],
            "type": "contour"
           }
          ],
          "contourcarpet": [
           {
            "colorbar": {
             "outlinewidth": 0,
             "ticks": ""
            },
            "type": "contourcarpet"
           }
          ],
          "heatmap": [
           {
            "colorbar": {
             "outlinewidth": 0,
             "ticks": ""
            },
            "colorscale": [
             [
              0,
              "#0d0887"
             ],
             [
              0.1111111111111111,
              "#46039f"
             ],
             [
              0.2222222222222222,
              "#7201a8"
             ],
             [
              0.3333333333333333,
              "#9c179e"
             ],
             [
              0.4444444444444444,
              "#bd3786"
             ],
             [
              0.5555555555555556,
              "#d8576b"
             ],
             [
              0.6666666666666666,
              "#ed7953"
             ],
             [
              0.7777777777777778,
              "#fb9f3a"
             ],
             [
              0.8888888888888888,
              "#fdca26"
             ],
             [
              1,
              "#f0f921"
             ]
            ],
            "type": "heatmap"
           }
          ],
          "heatmapgl": [
           {
            "colorbar": {
             "outlinewidth": 0,
             "ticks": ""
            },
            "colorscale": [
             [
              0,
              "#0d0887"
             ],
             [
              0.1111111111111111,
              "#46039f"
             ],
             [
              0.2222222222222222,
              "#7201a8"
             ],
             [
              0.3333333333333333,
              "#9c179e"
             ],
             [
              0.4444444444444444,
              "#bd3786"
             ],
             [
              0.5555555555555556,
              "#d8576b"
             ],
             [
              0.6666666666666666,
              "#ed7953"
             ],
             [
              0.7777777777777778,
              "#fb9f3a"
             ],
             [
              0.8888888888888888,
              "#fdca26"
             ],
             [
              1,
              "#f0f921"
             ]
            ],
            "type": "heatmapgl"
           }
          ],
          "histogram": [
           {
            "marker": {
             "pattern": {
              "fillmode": "overlay",
              "size": 10,
              "solidity": 0.2
             }
            },
            "type": "histogram"
           }
          ],
          "histogram2d": [
           {
            "colorbar": {
             "outlinewidth": 0,
             "ticks": ""
            },
            "colorscale": [
             [
              0,
              "#0d0887"
             ],
             [
              0.1111111111111111,
              "#46039f"
             ],
             [
              0.2222222222222222,
              "#7201a8"
             ],
             [
              0.3333333333333333,
              "#9c179e"
             ],
             [
              0.4444444444444444,
              "#bd3786"
             ],
             [
              0.5555555555555556,
              "#d8576b"
             ],
             [
              0.6666666666666666,
              "#ed7953"
             ],
             [
              0.7777777777777778,
              "#fb9f3a"
             ],
             [
              0.8888888888888888,
              "#fdca26"
             ],
             [
              1,
              "#f0f921"
             ]
            ],
            "type": "histogram2d"
           }
          ],
          "histogram2dcontour": [
           {
            "colorbar": {
             "outlinewidth": 0,
             "ticks": ""
            },
            "colorscale": [
             [
              0,
              "#0d0887"
             ],
             [
              0.1111111111111111,
              "#46039f"
             ],
             [
              0.2222222222222222,
              "#7201a8"
             ],
             [
              0.3333333333333333,
              "#9c179e"
             ],
             [
              0.4444444444444444,
              "#bd3786"
             ],
             [
              0.5555555555555556,
              "#d8576b"
             ],
             [
              0.6666666666666666,
              "#ed7953"
             ],
             [
              0.7777777777777778,
              "#fb9f3a"
             ],
             [
              0.8888888888888888,
              "#fdca26"
             ],
             [
              1,
              "#f0f921"
             ]
            ],
            "type": "histogram2dcontour"
           }
          ],
          "mesh3d": [
           {
            "colorbar": {
             "outlinewidth": 0,
             "ticks": ""
            },
            "type": "mesh3d"
           }
          ],
          "parcoords": [
           {
            "line": {
             "colorbar": {
              "outlinewidth": 0,
              "ticks": ""
             }
            },
            "type": "parcoords"
           }
          ],
          "pie": [
           {
            "automargin": true,
            "type": "pie"
           }
          ],
          "scatter": [
           {
            "fillpattern": {
             "fillmode": "overlay",
             "size": 10,
             "solidity": 0.2
            },
            "type": "scatter"
           }
          ],
          "scatter3d": [
           {
            "line": {
             "colorbar": {
              "outlinewidth": 0,
              "ticks": ""
             }
            },
            "marker": {
             "colorbar": {
              "outlinewidth": 0,
              "ticks": ""
             }
            },
            "type": "scatter3d"
           }
          ],
          "scattercarpet": [
           {
            "marker": {
             "colorbar": {
              "outlinewidth": 0,
              "ticks": ""
             }
            },
            "type": "scattercarpet"
           }
          ],
          "scattergeo": [
           {
            "marker": {
             "colorbar": {
              "outlinewidth": 0,
              "ticks": ""
             }
            },
            "type": "scattergeo"
           }
          ],
          "scattergl": [
           {
            "marker": {
             "colorbar": {
              "outlinewidth": 0,
              "ticks": ""
             }
            },
            "type": "scattergl"
           }
          ],
          "scattermapbox": [
           {
            "marker": {
             "colorbar": {
              "outlinewidth": 0,
              "ticks": ""
             }
            },
            "type": "scattermapbox"
           }
          ],
          "scatterpolar": [
           {
            "marker": {
             "colorbar": {
              "outlinewidth": 0,
              "ticks": ""
             }
            },
            "type": "scatterpolar"
           }
          ],
          "scatterpolargl": [
           {
            "marker": {
             "colorbar": {
              "outlinewidth": 0,
              "ticks": ""
             }
            },
            "type": "scatterpolargl"
           }
          ],
          "scatterternary": [
           {
            "marker": {
             "colorbar": {
              "outlinewidth": 0,
              "ticks": ""
             }
            },
            "type": "scatterternary"
           }
          ],
          "surface": [
           {
            "colorbar": {
             "outlinewidth": 0,
             "ticks": ""
            },
            "colorscale": [
             [
              0,
              "#0d0887"
             ],
             [
              0.1111111111111111,
              "#46039f"
             ],
             [
              0.2222222222222222,
              "#7201a8"
             ],
             [
              0.3333333333333333,
              "#9c179e"
             ],
             [
              0.4444444444444444,
              "#bd3786"
             ],
             [
              0.5555555555555556,
              "#d8576b"
             ],
             [
              0.6666666666666666,
              "#ed7953"
             ],
             [
              0.7777777777777778,
              "#fb9f3a"
             ],
             [
              0.8888888888888888,
              "#fdca26"
             ],
             [
              1,
              "#f0f921"
             ]
            ],
            "type": "surface"
           }
          ],
          "table": [
           {
            "cells": {
             "fill": {
              "color": "#EBF0F8"
             },
             "line": {
              "color": "white"
             }
            },
            "header": {
             "fill": {
              "color": "#C8D4E3"
             },
             "line": {
              "color": "white"
             }
            },
            "type": "table"
           }
          ]
         },
         "layout": {
          "annotationdefaults": {
           "arrowcolor": "#2a3f5f",
           "arrowhead": 0,
           "arrowwidth": 1
          },
          "autotypenumbers": "strict",
          "coloraxis": {
           "colorbar": {
            "outlinewidth": 0,
            "ticks": ""
           }
          },
          "colorscale": {
           "diverging": [
            [
             0,
             "#8e0152"
            ],
            [
             0.1,
             "#c51b7d"
            ],
            [
             0.2,
             "#de77ae"
            ],
            [
             0.3,
             "#f1b6da"
            ],
            [
             0.4,
             "#fde0ef"
            ],
            [
             0.5,
             "#f7f7f7"
            ],
            [
             0.6,
             "#e6f5d0"
            ],
            [
             0.7,
             "#b8e186"
            ],
            [
             0.8,
             "#7fbc41"
            ],
            [
             0.9,
             "#4d9221"
            ],
            [
             1,
             "#276419"
            ]
           ],
           "sequential": [
            [
             0,
             "#0d0887"
            ],
            [
             0.1111111111111111,
             "#46039f"
            ],
            [
             0.2222222222222222,
             "#7201a8"
            ],
            [
             0.3333333333333333,
             "#9c179e"
            ],
            [
             0.4444444444444444,
             "#bd3786"
            ],
            [
             0.5555555555555556,
             "#d8576b"
            ],
            [
             0.6666666666666666,
             "#ed7953"
            ],
            [
             0.7777777777777778,
             "#fb9f3a"
            ],
            [
             0.8888888888888888,
             "#fdca26"
            ],
            [
             1,
             "#f0f921"
            ]
           ],
           "sequentialminus": [
            [
             0,
             "#0d0887"
            ],
            [
             0.1111111111111111,
             "#46039f"
            ],
            [
             0.2222222222222222,
             "#7201a8"
            ],
            [
             0.3333333333333333,
             "#9c179e"
            ],
            [
             0.4444444444444444,
             "#bd3786"
            ],
            [
             0.5555555555555556,
             "#d8576b"
            ],
            [
             0.6666666666666666,
             "#ed7953"
            ],
            [
             0.7777777777777778,
             "#fb9f3a"
            ],
            [
             0.8888888888888888,
             "#fdca26"
            ],
            [
             1,
             "#f0f921"
            ]
           ]
          },
          "colorway": [
           "#636efa",
           "#EF553B",
           "#00cc96",
           "#ab63fa",
           "#FFA15A",
           "#19d3f3",
           "#FF6692",
           "#B6E880",
           "#FF97FF",
           "#FECB52"
          ],
          "font": {
           "color": "#2a3f5f"
          },
          "geo": {
           "bgcolor": "white",
           "lakecolor": "white",
           "landcolor": "#E5ECF6",
           "showlakes": true,
           "showland": true,
           "subunitcolor": "white"
          },
          "hoverlabel": {
           "align": "left"
          },
          "hovermode": "closest",
          "mapbox": {
           "style": "light"
          },
          "paper_bgcolor": "white",
          "plot_bgcolor": "#E5ECF6",
          "polar": {
           "angularaxis": {
            "gridcolor": "white",
            "linecolor": "white",
            "ticks": ""
           },
           "bgcolor": "#E5ECF6",
           "radialaxis": {
            "gridcolor": "white",
            "linecolor": "white",
            "ticks": ""
           }
          },
          "scene": {
           "xaxis": {
            "backgroundcolor": "#E5ECF6",
            "gridcolor": "white",
            "gridwidth": 2,
            "linecolor": "white",
            "showbackground": true,
            "ticks": "",
            "zerolinecolor": "white"
           },
           "yaxis": {
            "backgroundcolor": "#E5ECF6",
            "gridcolor": "white",
            "gridwidth": 2,
            "linecolor": "white",
            "showbackground": true,
            "ticks": "",
            "zerolinecolor": "white"
           },
           "zaxis": {
            "backgroundcolor": "#E5ECF6",
            "gridcolor": "white",
            "gridwidth": 2,
            "linecolor": "white",
            "showbackground": true,
            "ticks": "",
            "zerolinecolor": "white"
           }
          },
          "shapedefaults": {
           "line": {
            "color": "#2a3f5f"
           }
          },
          "ternary": {
           "aaxis": {
            "gridcolor": "white",
            "linecolor": "white",
            "ticks": ""
           },
           "baxis": {
            "gridcolor": "white",
            "linecolor": "white",
            "ticks": ""
           },
           "bgcolor": "#E5ECF6",
           "caxis": {
            "gridcolor": "white",
            "linecolor": "white",
            "ticks": ""
           }
          },
          "title": {
           "x": 0.05
          },
          "xaxis": {
           "automargin": true,
           "gridcolor": "white",
           "linecolor": "white",
           "ticks": "",
           "title": {
            "standoff": 15
           },
           "zerolinecolor": "white",
           "zerolinewidth": 2
          },
          "yaxis": {
           "automargin": true,
           "gridcolor": "white",
           "linecolor": "white",
           "ticks": "",
           "title": {
            "standoff": 15
           },
           "zerolinecolor": "white",
           "zerolinewidth": 2
          }
         }
        },
        "title": {
         "font": {
          "size": 28
         },
         "text": "<b>#8 I-V</b> 33-32-10-11G, R_fit=645.8699 Ω"
        },
        "width": 1080,
        "xaxis": {
         "tickfont": {
          "size": 16
         },
         "title": {
          "font": {
           "size": 20
          },
          "text": "appl_current"
         }
        },
        "yaxis": {
         "tickfont": {
          "size": 16
         },
         "title": {
          "font": {
           "size": 20
          },
          "text": "meas_voltage_K1 mV"
         }
        }
       }
      }
     },
     "metadata": {},
     "output_type": "display_data"
    },
    {
     "data": {
      "application/vnd.plotly.v1+json": {
       "config": {
        "plotlyServerURL": "https://plot.ly"
       },
       "data": [
        {
         "mode": "lines",
         "name": "d(Voltage)/d(Current)",
         "type": "scatter",
         "x": [
          -1,
          -0.98,
          -0.96,
          -0.94,
          -0.9199999999999999,
          -0.8999999999999999,
          -0.88,
          -0.86,
          -0.84,
          -0.82,
          -0.7999999999999999,
          -0.78,
          -0.76,
          -0.74,
          -0.72,
          -0.7,
          -0.6799999999999999,
          -0.66,
          -0.64,
          -0.62,
          -0.6,
          -0.58,
          -0.56,
          -0.54,
          -0.52,
          -0.5,
          -0.48,
          -0.45999999999999996,
          -0.44,
          -0.42,
          -0.39999999999999997,
          -0.38,
          -0.36,
          -0.33999999999999997,
          -0.32,
          -0.3,
          -0.28,
          -0.26,
          -0.24,
          -0.22,
          -0.19999999999999998,
          -0.18,
          -0.16,
          -0.14,
          -0.12,
          -0.09999999999999991,
          -0.08,
          -0.06,
          -0.0399999999999998,
          -0.02,
          0,
          0.02,
          0.04,
          0.0600000000000001,
          0.0800000000000001,
          0.09999999999999999,
          0.12,
          0.14,
          0.16,
          0.18,
          0.19999999999999998,
          0.22,
          0.24,
          0.26,
          0.28,
          0.3,
          0.32,
          0.33999999999999997,
          0.36,
          0.38,
          0.39999999999999997,
          0.42,
          0.44,
          0.45999999999999996,
          0.48,
          0.5,
          0.52,
          0.54,
          0.56,
          0.58,
          0.6,
          0.62,
          0.64,
          0.66,
          0.6799999999999999,
          0.7,
          0.72,
          0.74,
          0.76,
          0.78,
          0.7999999999999999,
          0.82,
          0.84,
          0.86,
          0.88,
          0.8999999999999999,
          0.920000000000001,
          0.94,
          0.96,
          0.98
         ],
         "y": [
          605.1799999999969,
          652.6300000000012,
          624.0600000000036,
          640.6100000000007,
          668.5199999999988,
          639.4049999999997,
          648.5750000000008,
          626.5599999999963,
          603.2850000000012,
          692.9049999999984,
          657.7950000000042,
          635.559999999997,
          669.1250000000018,
          633.7149999999995,
          647.7749999999991,
          641.6149999999991,
          612.2350000000017,
          686.0099999999999,
          634.0350000000002,
          649.2199999999985,
          651.1750000000011,
          399.3049999999994,
          898.8050000000011,
          627.8249999999994,
          635.1299999999995,
          692.389999999999,
          618.6050000000012,
          658.2149999999993,
          622.9650000000009,
          587.5899999999997,
          712.4700000000015,
          648.9049999999982,
          409.11499999999916,
          882.0750000000027,
          663.0699999999983,
          632.880000000001,
          654.9000000000001,
          624.9649999999986,
          648.8300000000014,
          640.1249999999992,
          587.4100000000001,
          726.0850000000003,
          628.2615000000003,
          445.02399999999983,
          846.8964999999964,
          666.547000000003,
          624.0269999999998,
          659.5269999999937,
          651.7200000000065,
          639.65555,
          623.41895,
          593.4954999999999,
          721.3404999999964,
          643.1950000000004,
          647.5145000000031,
          640.2235000000002,
          654.0119999999997,
          651.4565,
          636.5150000000003,
          639.9899999999994,
          664.9899999999999,
          626.2400000000013,
          659.9299999999996,
          637.5549999999984,
          427.4150000000011,
          848.094999999999,
          647.3800000000016,
          433.1199999999992,
          871.8149999999995,
          634.5799999999992,
          675.0949999999993,
          632.4199999999996,
          651.885000000001,
          636.5750000000033,
          651.454999999999,
          478.4549999999993,
          795.0349999999979,
          691.3899999999994,
          625.6700000000023,
          645.8449999999996,
          644.3099999999993,
          632.2400000000006,
          646.1449999999988,
          658.4850000000037,
          621.0749999999988,
          679.1899999999998,
          392.49499999999796,
          883.5050000000014,
          657.8349999999981,
          652.4350000000032,
          640.9349999999977,
          626.5600000000018,
          648.7549999999972,
          657.3800000000001,
          645.220000000004,
          620.4799999999664,
          661.615000000032,
          537.6000000000048,
          762.739999999998,
          650.1699999999972
         ]
        },
        {
         "marker": {
          "color": "red"
         },
         "mode": "markers",
         "name": "Top Two Peaks",
         "type": "scatter",
         "x": [
          -0.56,
          0.74
         ],
         "y": [
          898.8050000000011,
          883.5050000000014
         ]
        },
        {
         "marker": {
          "color": "blue",
          "symbol": "cross"
         },
         "mode": "markers",
         "name": "Center Points",
         "type": "scatter",
         "x": [
          8.999999999999999e-8
         ],
         "y": [
          0
         ]
        }
       ],
       "layout": {
        "annotations": [
         {
          "arrowcolor": "black",
          "arrowhead": 2,
          "arrowsize": 1,
          "arrowwidth": 2,
          "ax": -100,
          "ay": -200,
          "showarrow": true,
          "text": "Center Point: 0.090μA <br> Peak difference: 1.300 μA",
          "x": 0.08999999999999998,
          "y": 0
         }
        ],
        "height": 600,
        "legend": {
         "orientation": "h",
         "x": 0.5,
         "xanchor": "center",
         "y": 1.1,
         "yanchor": "top"
        },
        "template": {
         "data": {
          "bar": [
           {
            "error_x": {
             "color": "#2a3f5f"
            },
            "error_y": {
             "color": "#2a3f5f"
            },
            "marker": {
             "line": {
              "color": "#E5ECF6",
              "width": 0.5
             },
             "pattern": {
              "fillmode": "overlay",
              "size": 10,
              "solidity": 0.2
             }
            },
            "type": "bar"
           }
          ],
          "barpolar": [
           {
            "marker": {
             "line": {
              "color": "#E5ECF6",
              "width": 0.5
             },
             "pattern": {
              "fillmode": "overlay",
              "size": 10,
              "solidity": 0.2
             }
            },
            "type": "barpolar"
           }
          ],
          "carpet": [
           {
            "aaxis": {
             "endlinecolor": "#2a3f5f",
             "gridcolor": "white",
             "linecolor": "white",
             "minorgridcolor": "white",
             "startlinecolor": "#2a3f5f"
            },
            "baxis": {
             "endlinecolor": "#2a3f5f",
             "gridcolor": "white",
             "linecolor": "white",
             "minorgridcolor": "white",
             "startlinecolor": "#2a3f5f"
            },
            "type": "carpet"
           }
          ],
          "choropleth": [
           {
            "colorbar": {
             "outlinewidth": 0,
             "ticks": ""
            },
            "type": "choropleth"
           }
          ],
          "contour": [
           {
            "colorbar": {
             "outlinewidth": 0,
             "ticks": ""
            },
            "colorscale": [
             [
              0,
              "#0d0887"
             ],
             [
              0.1111111111111111,
              "#46039f"
             ],
             [
              0.2222222222222222,
              "#7201a8"
             ],
             [
              0.3333333333333333,
              "#9c179e"
             ],
             [
              0.4444444444444444,
              "#bd3786"
             ],
             [
              0.5555555555555556,
              "#d8576b"
             ],
             [
              0.6666666666666666,
              "#ed7953"
             ],
             [
              0.7777777777777778,
              "#fb9f3a"
             ],
             [
              0.8888888888888888,
              "#fdca26"
             ],
             [
              1,
              "#f0f921"
             ]
            ],
            "type": "contour"
           }
          ],
          "contourcarpet": [
           {
            "colorbar": {
             "outlinewidth": 0,
             "ticks": ""
            },
            "type": "contourcarpet"
           }
          ],
          "heatmap": [
           {
            "colorbar": {
             "outlinewidth": 0,
             "ticks": ""
            },
            "colorscale": [
             [
              0,
              "#0d0887"
             ],
             [
              0.1111111111111111,
              "#46039f"
             ],
             [
              0.2222222222222222,
              "#7201a8"
             ],
             [
              0.3333333333333333,
              "#9c179e"
             ],
             [
              0.4444444444444444,
              "#bd3786"
             ],
             [
              0.5555555555555556,
              "#d8576b"
             ],
             [
              0.6666666666666666,
              "#ed7953"
             ],
             [
              0.7777777777777778,
              "#fb9f3a"
             ],
             [
              0.8888888888888888,
              "#fdca26"
             ],
             [
              1,
              "#f0f921"
             ]
            ],
            "type": "heatmap"
           }
          ],
          "heatmapgl": [
           {
            "colorbar": {
             "outlinewidth": 0,
             "ticks": ""
            },
            "colorscale": [
             [
              0,
              "#0d0887"
             ],
             [
              0.1111111111111111,
              "#46039f"
             ],
             [
              0.2222222222222222,
              "#7201a8"
             ],
             [
              0.3333333333333333,
              "#9c179e"
             ],
             [
              0.4444444444444444,
              "#bd3786"
             ],
             [
              0.5555555555555556,
              "#d8576b"
             ],
             [
              0.6666666666666666,
              "#ed7953"
             ],
             [
              0.7777777777777778,
              "#fb9f3a"
             ],
             [
              0.8888888888888888,
              "#fdca26"
             ],
             [
              1,
              "#f0f921"
             ]
            ],
            "type": "heatmapgl"
           }
          ],
          "histogram": [
           {
            "marker": {
             "pattern": {
              "fillmode": "overlay",
              "size": 10,
              "solidity": 0.2
             }
            },
            "type": "histogram"
           }
          ],
          "histogram2d": [
           {
            "colorbar": {
             "outlinewidth": 0,
             "ticks": ""
            },
            "colorscale": [
             [
              0,
              "#0d0887"
             ],
             [
              0.1111111111111111,
              "#46039f"
             ],
             [
              0.2222222222222222,
              "#7201a8"
             ],
             [
              0.3333333333333333,
              "#9c179e"
             ],
             [
              0.4444444444444444,
              "#bd3786"
             ],
             [
              0.5555555555555556,
              "#d8576b"
             ],
             [
              0.6666666666666666,
              "#ed7953"
             ],
             [
              0.7777777777777778,
              "#fb9f3a"
             ],
             [
              0.8888888888888888,
              "#fdca26"
             ],
             [
              1,
              "#f0f921"
             ]
            ],
            "type": "histogram2d"
           }
          ],
          "histogram2dcontour": [
           {
            "colorbar": {
             "outlinewidth": 0,
             "ticks": ""
            },
            "colorscale": [
             [
              0,
              "#0d0887"
             ],
             [
              0.1111111111111111,
              "#46039f"
             ],
             [
              0.2222222222222222,
              "#7201a8"
             ],
             [
              0.3333333333333333,
              "#9c179e"
             ],
             [
              0.4444444444444444,
              "#bd3786"
             ],
             [
              0.5555555555555556,
              "#d8576b"
             ],
             [
              0.6666666666666666,
              "#ed7953"
             ],
             [
              0.7777777777777778,
              "#fb9f3a"
             ],
             [
              0.8888888888888888,
              "#fdca26"
             ],
             [
              1,
              "#f0f921"
             ]
            ],
            "type": "histogram2dcontour"
           }
          ],
          "mesh3d": [
           {
            "colorbar": {
             "outlinewidth": 0,
             "ticks": ""
            },
            "type": "mesh3d"
           }
          ],
          "parcoords": [
           {
            "line": {
             "colorbar": {
              "outlinewidth": 0,
              "ticks": ""
             }
            },
            "type": "parcoords"
           }
          ],
          "pie": [
           {
            "automargin": true,
            "type": "pie"
           }
          ],
          "scatter": [
           {
            "fillpattern": {
             "fillmode": "overlay",
             "size": 10,
             "solidity": 0.2
            },
            "type": "scatter"
           }
          ],
          "scatter3d": [
           {
            "line": {
             "colorbar": {
              "outlinewidth": 0,
              "ticks": ""
             }
            },
            "marker": {
             "colorbar": {
              "outlinewidth": 0,
              "ticks": ""
             }
            },
            "type": "scatter3d"
           }
          ],
          "scattercarpet": [
           {
            "marker": {
             "colorbar": {
              "outlinewidth": 0,
              "ticks": ""
             }
            },
            "type": "scattercarpet"
           }
          ],
          "scattergeo": [
           {
            "marker": {
             "colorbar": {
              "outlinewidth": 0,
              "ticks": ""
             }
            },
            "type": "scattergeo"
           }
          ],
          "scattergl": [
           {
            "marker": {
             "colorbar": {
              "outlinewidth": 0,
              "ticks": ""
             }
            },
            "type": "scattergl"
           }
          ],
          "scattermapbox": [
           {
            "marker": {
             "colorbar": {
              "outlinewidth": 0,
              "ticks": ""
             }
            },
            "type": "scattermapbox"
           }
          ],
          "scatterpolar": [
           {
            "marker": {
             "colorbar": {
              "outlinewidth": 0,
              "ticks": ""
             }
            },
            "type": "scatterpolar"
           }
          ],
          "scatterpolargl": [
           {
            "marker": {
             "colorbar": {
              "outlinewidth": 0,
              "ticks": ""
             }
            },
            "type": "scatterpolargl"
           }
          ],
          "scatterternary": [
           {
            "marker": {
             "colorbar": {
              "outlinewidth": 0,
              "ticks": ""
             }
            },
            "type": "scatterternary"
           }
          ],
          "surface": [
           {
            "colorbar": {
             "outlinewidth": 0,
             "ticks": ""
            },
            "colorscale": [
             [
              0,
              "#0d0887"
             ],
             [
              0.1111111111111111,
              "#46039f"
             ],
             [
              0.2222222222222222,
              "#7201a8"
             ],
             [
              0.3333333333333333,
              "#9c179e"
             ],
             [
              0.4444444444444444,
              "#bd3786"
             ],
             [
              0.5555555555555556,
              "#d8576b"
             ],
             [
              0.6666666666666666,
              "#ed7953"
             ],
             [
              0.7777777777777778,
              "#fb9f3a"
             ],
             [
              0.8888888888888888,
              "#fdca26"
             ],
             [
              1,
              "#f0f921"
             ]
            ],
            "type": "surface"
           }
          ],
          "table": [
           {
            "cells": {
             "fill": {
              "color": "#EBF0F8"
             },
             "line": {
              "color": "white"
             }
            },
            "header": {
             "fill": {
              "color": "#C8D4E3"
             },
             "line": {
              "color": "white"
             }
            },
            "type": "table"
           }
          ]
         },
         "layout": {
          "annotationdefaults": {
           "arrowcolor": "#2a3f5f",
           "arrowhead": 0,
           "arrowwidth": 1
          },
          "autotypenumbers": "strict",
          "coloraxis": {
           "colorbar": {
            "outlinewidth": 0,
            "ticks": ""
           }
          },
          "colorscale": {
           "diverging": [
            [
             0,
             "#8e0152"
            ],
            [
             0.1,
             "#c51b7d"
            ],
            [
             0.2,
             "#de77ae"
            ],
            [
             0.3,
             "#f1b6da"
            ],
            [
             0.4,
             "#fde0ef"
            ],
            [
             0.5,
             "#f7f7f7"
            ],
            [
             0.6,
             "#e6f5d0"
            ],
            [
             0.7,
             "#b8e186"
            ],
            [
             0.8,
             "#7fbc41"
            ],
            [
             0.9,
             "#4d9221"
            ],
            [
             1,
             "#276419"
            ]
           ],
           "sequential": [
            [
             0,
             "#0d0887"
            ],
            [
             0.1111111111111111,
             "#46039f"
            ],
            [
             0.2222222222222222,
             "#7201a8"
            ],
            [
             0.3333333333333333,
             "#9c179e"
            ],
            [
             0.4444444444444444,
             "#bd3786"
            ],
            [
             0.5555555555555556,
             "#d8576b"
            ],
            [
             0.6666666666666666,
             "#ed7953"
            ],
            [
             0.7777777777777778,
             "#fb9f3a"
            ],
            [
             0.8888888888888888,
             "#fdca26"
            ],
            [
             1,
             "#f0f921"
            ]
           ],
           "sequentialminus": [
            [
             0,
             "#0d0887"
            ],
            [
             0.1111111111111111,
             "#46039f"
            ],
            [
             0.2222222222222222,
             "#7201a8"
            ],
            [
             0.3333333333333333,
             "#9c179e"
            ],
            [
             0.4444444444444444,
             "#bd3786"
            ],
            [
             0.5555555555555556,
             "#d8576b"
            ],
            [
             0.6666666666666666,
             "#ed7953"
            ],
            [
             0.7777777777777778,
             "#fb9f3a"
            ],
            [
             0.8888888888888888,
             "#fdca26"
            ],
            [
             1,
             "#f0f921"
            ]
           ]
          },
          "colorway": [
           "#636efa",
           "#EF553B",
           "#00cc96",
           "#ab63fa",
           "#FFA15A",
           "#19d3f3",
           "#FF6692",
           "#B6E880",
           "#FF97FF",
           "#FECB52"
          ],
          "font": {
           "color": "#2a3f5f"
          },
          "geo": {
           "bgcolor": "white",
           "lakecolor": "white",
           "landcolor": "#E5ECF6",
           "showlakes": true,
           "showland": true,
           "subunitcolor": "white"
          },
          "hoverlabel": {
           "align": "left"
          },
          "hovermode": "closest",
          "mapbox": {
           "style": "light"
          },
          "paper_bgcolor": "white",
          "plot_bgcolor": "#E5ECF6",
          "polar": {
           "angularaxis": {
            "gridcolor": "white",
            "linecolor": "white",
            "ticks": ""
           },
           "bgcolor": "#E5ECF6",
           "radialaxis": {
            "gridcolor": "white",
            "linecolor": "white",
            "ticks": ""
           }
          },
          "scene": {
           "xaxis": {
            "backgroundcolor": "#E5ECF6",
            "gridcolor": "white",
            "gridwidth": 2,
            "linecolor": "white",
            "showbackground": true,
            "ticks": "",
            "zerolinecolor": "white"
           },
           "yaxis": {
            "backgroundcolor": "#E5ECF6",
            "gridcolor": "white",
            "gridwidth": 2,
            "linecolor": "white",
            "showbackground": true,
            "ticks": "",
            "zerolinecolor": "white"
           },
           "zaxis": {
            "backgroundcolor": "#E5ECF6",
            "gridcolor": "white",
            "gridwidth": 2,
            "linecolor": "white",
            "showbackground": true,
            "ticks": "",
            "zerolinecolor": "white"
           }
          },
          "shapedefaults": {
           "line": {
            "color": "#2a3f5f"
           }
          },
          "ternary": {
           "aaxis": {
            "gridcolor": "white",
            "linecolor": "white",
            "ticks": ""
           },
           "baxis": {
            "gridcolor": "white",
            "linecolor": "white",
            "ticks": ""
           },
           "bgcolor": "#E5ECF6",
           "caxis": {
            "gridcolor": "white",
            "linecolor": "white",
            "ticks": ""
           }
          },
          "title": {
           "x": 0.05
          },
          "xaxis": {
           "automargin": true,
           "gridcolor": "white",
           "linecolor": "white",
           "ticks": "",
           "title": {
            "standoff": 15
           },
           "zerolinecolor": "white",
           "zerolinewidth": 2
          },
          "yaxis": {
           "automargin": true,
           "gridcolor": "white",
           "linecolor": "white",
           "ticks": "",
           "title": {
            "standoff": 15
           },
           "zerolinecolor": "white",
           "zerolinewidth": 2
          }
         }
        },
        "title": {
         "text": "Run #<built-in function id> I vs. dV/dI"
        },
        "width": 600,
        "xaxis": {
         "title": {
          "text": "Current (μA)"
         }
        },
        "yaxis": {
         "title": {
          "text": "d(Voltage)/d(Current)"
         }
        }
       }
      }
     },
     "metadata": {},
     "output_type": "display_data"
    }
   ],
   "source": [
    "dataset = qc.load_by_id(dataid)\n",
    "get_R_from_IV(dataid)\n",
    "IV(dataid)\n",
    "IV_diff(dataid)"
   ]
  },
  {
   "cell_type": "code",
   "execution_count": 32,
   "id": "795c08e0",
   "metadata": {},
   "outputs": [],
   "source": [
    "import plotly.graph_objs as go"
   ]
  },
  {
   "cell_type": "code",
   "execution_count": null,
   "id": "ea6a7850",
   "metadata": {},
   "outputs": [],
   "source": []
  },
  {
   "cell_type": "code",
   "execution_count": null,
   "id": "9ca53ea4",
   "metadata": {},
   "outputs": [],
   "source": [
    "for i in tqdm(range(1000)):\n",
    "    K2400.output(1)\n",
    "    I_range=1e-6\n",
    "    appl_current(-I_range) #Limit:1e-5 Amp(1MOhms risistor),1e-6 Amp(10MOhms risistor)\n",
    "    sleep(0.001)\n",
    "    # station.snapshot(update=True);\n",
    "    exp = qc.new_experiment('I-V', sample_name=f'103-03_J1_33-32-30-31_1M_F{i+1}')\n",
    "    dataid = do1d(appl_current, -I_range ,I_range, 101, 0.0001, meas_voltage_K2, meas_voltage_AC_L1,meas_voltage_AC_L1_P)\n",
    "    exp = qc.new_experiment('I-V', sample_name=f'103-03_J1_33-32-30-31_1M_B{i+1}')\n",
    "    dataid = do1d(appl_current, I_range ,-I_range, 101, 0.0001, meas_voltage_K2)\n",
    "    K2400.output(0)\n",
    "    clear_output(True)"
   ]
  },
  {
   "cell_type": "code",
   "execution_count": null,
   "id": "ffc1e4dd",
   "metadata": {},
   "outputs": [],
   "source": [
    "get_Mag()"
   ]
  },
  {
   "cell_type": "code",
   "execution_count": null,
   "id": "2908c940",
   "metadata": {},
   "outputs": [],
   "source": [
    "SGS.off()"
   ]
  },
  {
   "cell_type": "code",
   "execution_count": null,
   "id": "d82eb13a",
   "metadata": {},
   "outputs": [],
   "source": [
    "SGS.power(0)"
   ]
  },
  {
   "cell_type": "code",
   "execution_count": null,
   "id": "242d95fc",
   "metadata": {},
   "outputs": [],
   "source": [
    "DMM6500.averaging_count(5)\n",
    "DMM6500.averaging_enabled(True)"
   ]
  },
  {
   "cell_type": "code",
   "execution_count": null,
   "id": "e0c518ad",
   "metadata": {},
   "outputs": [],
   "source": [
    "for i in tqdm(range(21)):\n",
    "    I_range = round(round(0.55 + 5*i * 1e-4, 6)* 1e-6, 10)  # Round to 3 decimal places\n",
    "    print(I_range)\n"
   ]
  },
  {
   "cell_type": "code",
   "execution_count": null,
   "id": "78e3e90f",
   "metadata": {},
   "outputs": [],
   "source": []
  },
  {
   "cell_type": "code",
   "execution_count": null,
   "id": "0999a81b",
   "metadata": {},
   "outputs": [],
   "source": [
    "for i in tqdm(range(21)):\n",
    "    K2400.output(1)\n",
    "    I_range = round(round(0.55 + 5*i * 1e-4, 6)* 1e-6, 10) \n",
    "    appl_current(-I_range) #Limit:1e-5 Amp(1MOhms risistor),1e-6 Amp(10MOhms risistor)\n",
    "    sleep(2)\n",
    "    # station.snapshot(update=True);\n",
    "    exp = qc.new_experiment('I-V', sample_name=f'103-04_J1_24-25-05-04(06-07G)_1M_By@0mT_{-I_range}_201')\n",
    "    dataid = do1d(appl_current, -I_range ,I_range, 201, 0.00001, meas_voltage_K2)\n",
    "\n",
    "    appl_current(0)\n",
    "    K2400.output(0)\n",
    "\n",
    "\n",
    "    plot_by_id(dataid)\n",
    "    save_path = r\"D:\\data\\Albert\\103\\Plot\\104_{}.png\".format(dataid)  # Path to save the plot image\n",
    "    autosave_plot_by_id(dataid, save_path)\n",
    "    print(f\"ID:{dataid}\")\n",
    "    print(f\"R = {get_R_from_IV_2(dataid)}\")\n",
    "    dataset = qc.load_by_id(dataid)\n",
    "    IV(id=dataid)\n",
    "    IV_diff(id=dataid)"
   ]
  },
  {
   "cell_type": "code",
   "execution_count": null,
   "id": "e9ac98ca",
   "metadata": {},
   "outputs": [],
   "source": [
    "DMM6500.averaging_count(5)\n",
    "DMM6500.averaging_enabled(True)"
   ]
  },
  {
   "cell_type": "code",
   "execution_count": null,
   "id": "ad55deb3",
   "metadata": {},
   "outputs": [],
   "source": [
    "K2400.output(1)\n",
    "I_range = -6e-6\n",
    "appl_current(-I_range) #Limit:1e-5 Amp(1MOhms risistor),1e-6 Amp(10MOhms risistor)\n",
    "sleep(2)\n",
    "# station.snapshot(update=True);\n",
    "exp = qc.new_experiment('I-V', sample_name=f'103-03_J2_27-26-30-31M(32G-33G-28G-29G)_1M_By@0.1mT{-I_range}')\n",
    "dataid = do1d(appl_current, -I_range  ,I_range , 2601, 0.00001, meas_voltage_K2)\n",
    "appl_current(0)\n",
    "K2400.output(0)\n",
    "plot_by_id(dataid)\n",
    "save_path = r\"D:\\data\\Albert\\103\\Plot\\104_{}.png\".format(dataid)  # Path to save the plot image\n",
    "autosave_plot_by_id(dataid, save_path)\n",
    "print(f\"R = {get_R_from_IV_2(dataid)}\")\n",
    "dataset = qc.load_by_id(dataid)"
   ]
  },
  {
   "cell_type": "code",
   "execution_count": null,
   "id": "2b0e1832",
   "metadata": {},
   "outputs": [],
   "source": [
    "K2400.output(1)\n",
    "I_range = 6e-6\n",
    "appl_current(-I_range) #Limit:1e-5 Amp(1MOhms risistor),1e-6 Amp(10MOhms risistor)\n",
    "sleep(2)\n",
    "# station.snapshot(update=True);\n",
    "exp = qc.new_experiment('I-V', sample_name=f'103-03_J2_27-26-30-31M(32G-33G-28G-29G)_1M_By@0.1mT{-I_range}')\n",
    "dataid = do1d(appl_current, -I_range  ,I_range , 2601, 0.00001, meas_voltage_K2)\n",
    "appl_current(0)\n",
    "K2400.output(0)\n",
    "plot_by_id(dataid)\n",
    "save_path = r\"D:\\data\\Albert\\103\\Plot\\104_{}.png\".format(dataid)  # Path to save the plot image\n",
    "autosave_plot_by_id(dataid, save_path)\n",
    "print(f\"ID:{dataid}\")\n",
    "print(f\"R = {get_R_from_IV_2(dataid)}\")\n",
    "dataset = qc.load_by_id(dataid)\n",
    "# IV(id=dataid)\n",
    "# IV_diff(id=dataid)"
   ]
  },
  {
   "cell_type": "code",
   "execution_count": null,
   "id": "e90dc212",
   "metadata": {},
   "outputs": [],
   "source": [
    "25-05-06-07(04-24G)\n"
   ]
  },
  {
   "cell_type": "code",
   "execution_count": null,
   "id": "5c79e45a",
   "metadata": {},
   "outputs": [],
   "source": [
    "K2400.output(1)\n",
    "I_range=-7e-6\n",
    "appl_current(-I_range) #Limit:1e-5 Amp(1MOhms risistor),1e-6 Amp(10MOhms risistor)\n",
    "sleep(2)\n",
    "# station.snapshot(update=True);\n",
    "exp = qc.new_experiment('I-V', sample_name='103-03_J2_32-30-26-27_1M_By@0mT')\n",
    "dataid = do1d(appl_current, -I_range ,I_range, 1401, 0.0001, meas_voltage_K2)\n",
    "\n",
    "appl_current(0)\n",
    "K2400.output(0)\n",
    "\n",
    "\n",
    "plot_by_id(dataid)\n",
    "save_path = r\"D:\\data\\Albert\\103\\Plot\\104_{}.png\".format(dataid)  # Path to save the plot image\n",
    "autosave_plot_by_id(dataid, save_path)\n",
    "print(f\"ID:{dataid}\")\n",
    "print(f\"R = {get_R_from_IV_2(dataid)}\")\n",
    "dataset = qc.load_by_id(dataid)\n",
    "IV(id=dataid)\n",
    "IV_diff(id=dataid)"
   ]
  },
  {
   "cell_type": "code",
   "execution_count": null,
   "id": "8666f593",
   "metadata": {},
   "outputs": [],
   "source": [
    "K2400.output(1)\n",
    "I_range=7e-6\n",
    "appl_current(-I_range) #Limit:1e-5 Amp(1MOhms risistor),1e-6 Amp(10MOhms risistor)\n",
    "sleep(2)\n",
    "# station.snapshot(update=True);\n",
    "exp = qc.new_experiment('I-V', sample_name='103-03_J2_32-30-26-27_1M_By@0mT')\n",
    "dataid = do1d(appl_current, -I_range ,I_range, 1401, 0.0001, meas_voltage_K2)\n",
    "\n",
    "appl_current(0)\n",
    "K2400.output(0)\n",
    "\n",
    "\n",
    "plot_by_id(dataid)\n",
    "save_path = r\"D:\\data\\Albert\\103\\Plot\\104_{}.png\".format(dataid)  # Path to save the plot image\n",
    "autosave_plot_by_id(dataid, save_path)\n",
    "print(f\"ID:{dataid}\")\n",
    "print(f\"R = {get_R_from_IV_2(dataid)}\")\n",
    "dataset = qc.load_by_id(dataid)\n",
    "IV(id=dataid)\n",
    "IV_diff(id=dataid)"
   ]
  },
  {
   "cell_type": "code",
   "execution_count": null,
   "id": "4ce7045d",
   "metadata": {},
   "outputs": [],
   "source": [
    "# Set current to 0\n",
    "K2400.output(0)\n",
    "appl_current(0e-6)"
   ]
  },
  {
   "cell_type": "code",
   "execution_count": null,
   "id": "749b64e4",
   "metadata": {},
   "outputs": [],
   "source": [
    "K2400.output(1)\n",
    "appl_current(0.1e-7)"
   ]
  },
  {
   "cell_type": "code",
   "execution_count": null,
   "id": "9f4da299",
   "metadata": {
    "scrolled": true
   },
   "outputs": [],
   "source": [
    "runid=6\n",
    "print(get_R_from_IV_2(runid))"
   ]
  },
  {
   "cell_type": "markdown",
   "id": "3196b90e",
   "metadata": {},
   "source": [
    "## 加TG (1D)"
   ]
  },
  {
   "cell_type": "code",
   "execution_count": null,
   "id": "08a5e298",
   "metadata": {},
   "outputs": [],
   "source": [
    "K2400.output(1)\n",
    "appl_TG(0)"
   ]
  },
  {
   "cell_type": "code",
   "execution_count": null,
   "id": "a6f95af5",
   "metadata": {},
   "outputs": [],
   "source": [
    "K2400.output(1)\n",
    "K2400.output(1)\n",
    "appl_TG(-50)\n",
    "sleep(3)\n",
    "appl_current(-1.5e-8)\n",
    "sleep(1)\n",
    "\n",
    "# station.snapshot(update=True);\n",
    "exp = qc.new_experiment('IV', sample_name='TG21')\n",
    "\n",
    "#do1d(param_set, start, stop, num_points, delay, *param_meas)\n",
    "dataid = do1d(appl_current, -1.5e-8 ,1.5e-8, 101, 0.05, meas_voltage_K2)\n",
    "# dataid = do1d(appl_current, 6e-6 , -6e-6, 251, 0.01, meas_voltage_K1)\n",
    "# ivvi.set_dacs_zero()\n",
    "\n",
    "K2400.output(0)\n",
    "K2400.output(0)\n",
    "appl_current(0)\n",
    "plot_by_id(dataid)\n",
    "#print(get_R_from_IV(dataid))\n",
    "# print(get_R_from_IV_2(dataid))\n"
   ]
  },
  {
   "cell_type": "markdown",
   "id": "05b0d19b",
   "metadata": {},
   "source": [
    "## 歸零\n"
   ]
  },
  {
   "cell_type": "code",
   "execution_count": null,
   "id": "d8154670",
   "metadata": {},
   "outputs": [],
   "source": [
    "#K2400.output(1)\n",
    "K2400.output(1)\n",
    "\n",
    "appl_current(0)\n",
    "sleep(1)\n",
    "#appl_TG(0)\n",
    "sleep(5)\n",
    "\n",
    "#K2400.output(0)\n",
    "K2400.output(0)"
   ]
  },
  {
   "cell_type": "markdown",
   "id": "91795bf5",
   "metadata": {},
   "source": [
    "# Magnetic field"
   ]
  },
  {
   "cell_type": "markdown",
   "id": "c1b88abd",
   "metadata": {},
   "source": [
    "## IV vs Bx"
   ]
  },
  {
   "cell_type": "code",
   "execution_count": null,
   "id": "77c31bf1",
   "metadata": {},
   "outputs": [],
   "source": [
    "K2400.rangev()"
   ]
  },
  {
   "cell_type": "code",
   "execution_count": null,
   "id": "ea5d8a7d",
   "metadata": {},
   "outputs": [],
   "source": [
    "K2400.volt(0)\n",
    "K2400.output(1) #output off\n",
    "sleep(1)\n",
    "appl_current(1.5e-7)\n",
    "sleep(2)\n",
    "meas_voltage_K2()"
   ]
  },
  {
   "cell_type": "code",
   "execution_count": null,
   "id": "e083479a",
   "metadata": {},
   "outputs": [],
   "source": [
    "sleep(120)"
   ]
  },
  {
   "cell_type": "code",
   "execution_count": null,
   "id": "6c69dc40",
   "metadata": {},
   "outputs": [],
   "source": [
    "def get_Mag(show=True):\n",
    "    Mag_x = magnet_x.field()\n",
    "    Mag_y = magnet_y.field()\n",
    "    Mag_z = magnet_z.field()\n",
    "    if show:\n",
    "        print(f\"Mag_x: {Mag_x*1e3:.6f} mT\")\n",
    "        print(f\"Mag_y: {Mag_y*1e3:.6f} mT\")\n",
    "        print(f\"Mag_z: {Mag_z*1e3:.6f} mT\")\n",
    "    else: \n",
    "        return Mag_x, Mag_y, Mag_z\n",
    "get_Mag()"
   ]
  },
  {
   "cell_type": "code",
   "execution_count": null,
   "id": "582ee743",
   "metadata": {},
   "outputs": [],
   "source": [
    "get_Mag()"
   ]
  },
  {
   "cell_type": "code",
   "execution_count": null,
   "id": "9634bb97",
   "metadata": {},
   "outputs": [],
   "source": [
    "magnet_y.field()"
   ]
  },
  {
   "cell_type": "code",
   "execution_count": null,
   "id": "add54ae7",
   "metadata": {},
   "outputs": [],
   "source": [
    "for i in tqdm(range(23), desc=\"First loop\"):\n",
    "    value = (25 - i) * 1e-3 \n",
    "    value = float(f\"{value:.10f}\")\n",
    "    print(value)"
   ]
  },
  {
   "cell_type": "code",
   "execution_count": null,
   "id": "04c8a1e5",
   "metadata": {},
   "outputs": [],
   "source": [
    "from tqdm import tqdm\n",
    "import time\n",
    "\n",
    "from IPython.display import clear_output\n",
    "# First loop\n",
    "for i in tqdm(range(6), desc=\"First loop\"):\n",
    "    Mag_x = magnet_x.field()\n",
    "    value = (15 + i) * 1e-3\n",
    "    value = float(f\"{value:.10f}\")\n",
    "    magnet_x.field(value)\n",
    "    print(f\"magnet_x is {Mag_x:.8f} T\")\n",
    "    time.sleep(15)\n",
    "    clear_output(True)\n",
    "\n",
    "# Pause for 30 seconds\n",
    "time.sleep(60)\n",
    "\n",
    "# Second loop\n",
    "for i in tqdm(range(23), desc=\"First loop\"):\n",
    "    Mag_x = magnet_x.field()\n",
    "    value = (25 - i) * 1e-3 \n",
    "    value = float(f\"{value:.10f}\")\n",
    "    magnet_x.field(value)\n",
    "    print(f\"magnet_x is {Mag_x:.8f} T\")\n",
    "    time.sleep(15)\n",
    "    clear_output(True)\n",
    "\n",
    "# Pause for 180 seconds\n",
    "time.sleep(300)"
   ]
  },
  {
   "cell_type": "code",
   "execution_count": null,
   "id": "fc3e418b",
   "metadata": {},
   "outputs": [],
   "source": [
    "magnet_x.field(-20)"
   ]
  },
  {
   "cell_type": "code",
   "execution_count": null,
   "id": "07666294",
   "metadata": {},
   "outputs": [],
   "source": [
    "Mag = -20e-3\n",
    "I_range=2.5e-6\n",
    "K2400.output(1)\n",
    "sleep(2)\n",
    "magnet_x.field(Mag)\n",
    "sleep(10)\n",
    "appl_current(-I_range)\n",
    "sleep(3)\n",
    "direction = 'backward' if Mag > 0 else 'forward'\n",
    "\n",
    "\n",
    "# station.snapshot(update=True);\n",
    "exp = qc.new_experiment('IV vs Bx', sample_name=f'103-06_J2_12-13-18-19_1M_Bx_{direction}_By@0mT')\n",
    "\n",
    "dataid = do2d(magnet_x.field, Mag, -Mag, 76 , 0.7, appl_current, -I_range ,I_range, 101, 0.01, meas_voltage_K2)\n",
    "\n",
    "appl_current(0)\n",
    "K2400.output(0)\n",
    "# magnet_y.field(0)\n",
    "\n",
    "plot_by_id(dataid)\n",
    "autosave_plot_by_id(dataid, save_path)"
   ]
  },
  {
   "cell_type": "code",
   "execution_count": null,
   "id": "5f475874",
   "metadata": {},
   "outputs": [],
   "source": [
    "K2400.output(1)\n",
    "sleep(2)\n",
    "Mag = 10e-3\n",
    "I_range=2.5e-5\n",
    "\n",
    "magnet_x.field(Mag)\n",
    "sleep(30)\n",
    "appl_current(-I_range)\n",
    "sleep(3)\n",
    "direction = 'backward' if Mag > 0 else 'forward'\n",
    "\n",
    "\n",
    "# station.snapshot(update=True);\n",
    "\n",
    "exp = qc.new_experiment('IV vs Bx', sample_name=f'094-20IV_Bx_16-17-19-18_10M_{direction}')\n",
    "\n",
    "dataid = do2d(magnet_x.field, Mag, -Mag, 101 , 1.5, appl_current, -I_range ,I_range, 101, 0.05, meas_voltage_K2)#M:I Delay time 10:1\n",
    "\n",
    "\n",
    "appl_current(0)\n",
    "K2400.output(0)\n",
    "# magnet_x.field(0)\n",
    "\n",
    "plot_by_id(dataid)\n",
    "autosave_plot_by_id(dataid, save_path)"
   ]
  },
  {
   "cell_type": "code",
   "execution_count": null,
   "id": "bfdd8a07",
   "metadata": {},
   "outputs": [],
   "source": [
    "set_magnetic_field_stepwise(magnet=magnet_x, current_field=-40e-3, target_field=-18e-3, step_size=1e-3, delay=2.5)"
   ]
  },
  {
   "cell_type": "code",
   "execution_count": null,
   "id": "5eef089c",
   "metadata": {},
   "outputs": [],
   "source": [
    "def set_magnetic_field_stepwise(magnet=magnet_x, current_field=0, target_field=-10e-3, step_size=1e-3, delay=2.5):\n",
    "    \n",
    "    \"\"\"Set the magnetic field with anti-hysteresis mechanism witch will go to target magnetic field +/- 5mT, \n",
    "    if the target magnetic field is greater/less than the current magnetic field, \n",
    "    then slowly ramp back the magnetic field to the target magnetic field\n",
    "\n",
    "    Args:\n",
    "        magnet (_type_, optional): magnet_x,magnet_y,magnet_z. Defaults to magnet_x.\n",
    "        current_field (int, optional): _description_. Defaults to 0 T.\n",
    "        target_field (_type_, optional): _description_. Defaults to -10e-3 T.\n",
    "        step_size (_type_, optional): _description_. Defaults to 1e-3 T.\n",
    "        delay (float, optional): _description_. Defaults to 2 sec.\n",
    "    \n",
    "    \"\"\"\n",
    "    \n",
    "    from tqdm.notebook import tqdm\n",
    "    import math\n",
    "    # Calculate total steps for tqdm progress bar\n",
    "    total_steps = math.ceil(abs((target_field - current_field) / step_size)) * 2\n",
    "    progress_bar = tqdm(total=total_steps)\n",
    "\n",
    "    # Determine the intermediate target field\n",
    "    intermediate_target_field = target_field + 5e-3 if target_field > current_field else target_field - 5e-3\n",
    "    # Slowly ramp the magnetic field to the intermediate target field\n",
    "    while abs(intermediate_target_field - current_field) > step_size:\n",
    "        if intermediate_target_field > current_field:\n",
    "            current_field += step_size\n",
    "            magnet.field(current_field)\n",
    "        else:\n",
    "            current_field -= step_size\n",
    "            magnet.field(current_field)\n",
    "        time.sleep(delay)\n",
    "        progress_bar.update(1)  # Update progress bar\n",
    "    # Slowly ramp back the magnetic field to the target_field\n",
    "    while abs(target_field - current_field) > step_size:\n",
    "        if target_field > current_field:\n",
    "            current_field += step_size\n",
    "            magnet.field(current_field)\n",
    "        else:\n",
    "            current_field -= step_size\n",
    "            magnet.field(current_field)\n",
    "        time.sleep(delay)\n",
    "        progress_bar.update(1)  # Update progress bar\n",
    "    magnet.field(target_field)\n",
    "    progress_bar.n = total_steps  # Set progress bar to 100%\n",
    "    progress_bar.refresh()  # Refresh the progress bar to show the update\n",
    "    progress_bar.close()  # Close progress bar when done"
   ]
  },
  {
   "cell_type": "code",
   "execution_count": null,
   "id": "6d385381",
   "metadata": {},
   "outputs": [],
   "source": [
    "for i in range(6):\n",
    "    magnet_x.field((-10-i)*1e-3)\n",
    "    sleep(4)\n",
    "sleep(10)\n",
    "\n",
    "for i in range(16):\n",
    "    magnet_x.field((15+i)*1e-3)\n",
    "    sleep(4)\n",
    "sleep(10)"
   ]
  },
  {
   "cell_type": "code",
   "execution_count": null,
   "id": "83205742",
   "metadata": {},
   "outputs": [],
   "source": [
    "for i in range(25):\n",
    "    print(-24+i)"
   ]
  },
  {
   "cell_type": "code",
   "execution_count": null,
   "id": "fef193a7",
   "metadata": {},
   "outputs": [],
   "source": [
    "magnet_x.field(-19e-3)\n",
    "sleep(10)\n",
    "#magnet_x.field(e-3)\n",
    "#sleep(10)\n",
    "#magnet_x.field(12.8e-3)\n",
    "#sleep(10)"
   ]
  },
  {
   "cell_type": "markdown",
   "id": "6a6f3c0d",
   "metadata": {},
   "source": [
    "## IV vs By"
   ]
  },
  {
   "cell_type": "code",
   "execution_count": null,
   "id": "b823efb8",
   "metadata": {},
   "outputs": [],
   "source": [
    "get_Mag()"
   ]
  },
  {
   "cell_type": "code",
   "execution_count": null,
   "id": "9e236537",
   "metadata": {},
   "outputs": [],
   "source": [
    "magnet_y.field(0e-3)"
   ]
  },
  {
   "cell_type": "code",
   "execution_count": null,
   "id": "b4e8ec13",
   "metadata": {},
   "outputs": [],
   "source": [
    "for i in tqdm(range(21), desc=\"2nd loop\"):\n",
    "    \n",
    "    value = (-10 + i*0.5) * 1e-3 \n",
    "    value = float(f\"{value:.10f}\")\n",
    "    magnet_y.field(value)\n",
    "    get_Mag()\n",
    "    time.sleep(15)\n",
    "    clear_output(True)"
   ]
  },
  {
   "cell_type": "code",
   "execution_count": null,
   "id": "5dce7f89",
   "metadata": {},
   "outputs": [],
   "source": [
    "\n",
    "# First loop\n",
    "for i in tqdm(range(11), desc=\"First loop\"):\n",
    "    \n",
    "    value = (5 +i) * 1e-3\n",
    "    value = float(f\"{value:.10f}\")\n",
    "    magnet_y.field(value)\n",
    "    get_Mag()\n",
    "    time.sleep(15)\n",
    "    clear_output(True)\n",
    "\n",
    "# Pause for 30 seconds\n",
    "time.sleep(60)\n",
    "\n",
    "# Second loop\n",
    "for i in tqdm(range(11), desc=\"2nd loop\"):\n",
    "    \n",
    "    value = (-10 + i) * 1e-3 \n",
    "    value = float(f\"{value:.10f}\")\n",
    "    magnet_y.field(value)\n",
    "    get_Mag()\n",
    "    time.sleep(15)\n",
    "    clear_output(True)\n",
    "# Pause for 180 seconds\n",
    "time.sleep(300)"
   ]
  },
  {
   "cell_type": "code",
   "execution_count": null,
   "id": "46dc421a",
   "metadata": {},
   "outputs": [],
   "source": [
    "magnet_y.field()"
   ]
  },
  {
   "cell_type": "code",
   "execution_count": null,
   "id": "3a7fb763",
   "metadata": {},
   "outputs": [],
   "source": [
    "Mag =5e-3\n",
    "I_range=0.6e-6\n",
    "K2400.output(1)\n",
    "sleep(2)\n",
    "magnet_y.field(Mag)\n",
    "sleep(10)\n",
    "appl_current(-I_range)\n",
    "sleep(3)\n",
    "direction = 'backward' if Mag > 0 else 'forward'\n",
    "\n",
    "\n",
    "# station.snapshot(update=True);\n",
    "exp = qc.new_experiment('IV vs By', sample_name=f'103-03_J2_27-26-30-31M(32G-33G-28G-29G)_1M_By_{direction}_{-I_range}')\n",
    "\n",
    "dataid = do2d(magnet_y.field, Mag, -Mag, 201 , 0.5, appl_current, -I_range ,I_range,  201, 0.0001, meas_voltage_K2)\n",
    "\n",
    "appl_current(0)\n",
    "K2400.output(0)\n",
    "# magnet_y.field(0)\n",
    "\n",
    "plot_by_id(dataid)\n",
    "autosave_plot_by_id(dataid, save_path)"
   ]
  },
  {
   "cell_type": "code",
   "execution_count": null,
   "id": "a9c30858",
   "metadata": {},
   "outputs": [],
   "source": [
    "Mag =-5e-3\n",
    "I_range=5e-6\n",
    "K2400.output(1)\n",
    "sleep(2)\n",
    "magnet_y.field(Mag)\n",
    "sleep(10)\n",
    "appl_current(-I_range)\n",
    "sleep(3)\n",
    "direction = 'backward' if Mag > 0 else 'forward'\n",
    "\n",
    "\n",
    "# station.snapshot(update=True);\n",
    "exp = qc.new_experiment('IV vs By', sample_name=f'103-03_J2_27-26-30-31M(32G-33G-28G-29G)_1M_By_{direction}_{-I_range}')\n",
    "\n",
    "dataid = do2d(magnet_y.field, Mag, -Mag, 201 , 0.5, appl_current, -I_range ,I_range,  201, 0.0001, meas_voltage_K2)\n",
    "\n",
    "appl_current(0)\n",
    "K2400.output(0)\n",
    "# magnet_y.field(0)\n",
    "\n",
    "plot_by_id(dataid)\n",
    "autosave_plot_by_id(dataid, save_path)"
   ]
  },
  {
   "cell_type": "code",
   "execution_count": null,
   "id": "8ba8b69c",
   "metadata": {},
   "outputs": [],
   "source": [
    "32-"
   ]
  },
  {
   "cell_type": "code",
   "execution_count": null,
   "id": "7c2e8f1b",
   "metadata": {},
   "outputs": [],
   "source": [
    "\n",
    "# First loop\n",
    "for i in tqdm(range(6), desc=\"First loop\"):\n",
    "    Mag_x = magnet_y.field()\n",
    "    value = (1.5 +i) * 1e-3\n",
    "    value = float(f\"{value:.10f}\")\n",
    "    magnet_y.field(value)\n",
    "    print(f\"magnet_y is {Mag_x:.8f} T\")\n",
    "    time.sleep(15)\n",
    "    clear_output(True)\n",
    "\n",
    "# Pause for 30 seconds\n",
    "time.sleep(60)\n",
    "\n",
    "# Second loop\n",
    "for i in tqdm(range(6), desc=\"2nd loop\"):\n",
    "    Mag_x = magnet_y.field()\n",
    "    value = (6.5 - i) * 1e-3 \n",
    "    value = float(f\"{value:.10f}\")\n",
    "    magnet_y.field(value)\n",
    "    print(f\"magnet_y is {Mag_x:.8f} T\")\n",
    "    time.sleep(15)\n",
    "    clear_output(True)\n",
    "\n",
    "# Pause for 180 seconds\n",
    "time.sleep(300)"
   ]
  },
  {
   "cell_type": "code",
   "execution_count": null,
   "id": "8d736f1b",
   "metadata": {},
   "outputs": [],
   "source": [
    "Mag = 1.5e-3\n",
    "I_range=2.5e-6\n",
    "K2400.output(1)\n",
    "sleep(2)\n",
    "magnet_y.field(Mag)\n",
    "sleep(10)\n",
    "appl_current(-I_range)\n",
    "sleep(3)\n",
    "direction = 'backward' if Mag > 0 else 'forward'\n",
    "\n",
    "\n",
    "# station.snapshot(update=True);\n",
    "exp = qc.new_experiment('IV vs By', sample_name=f'103-06_J2_12-13-18-19_1M_By_{direction}_Bx@3mT')\n",
    "\n",
    "dataid = do2d(magnet_y.field, Mag, -Mag, 1001 , 0.4, appl_current, -I_range ,I_range, 151, 0.01, meas_voltage_K2)\n",
    "\n",
    "appl_current(0)\n",
    "K2400.output(0)\n",
    "# magnet_y.field(0)\n",
    "\n",
    "plot_by_id(dataid)\n",
    "autosave_plot_by_id(dataid, save_path)"
   ]
  },
  {
   "cell_type": "code",
   "execution_count": null,
   "id": "43eb5eb6",
   "metadata": {},
   "outputs": [],
   "source": [
    "Mag()"
   ]
  },
  {
   "cell_type": "code",
   "execution_count": null,
   "id": "721c43a1",
   "metadata": {},
   "outputs": [],
   "source": [
    "Mag = 1.5e-3\n",
    "I_range=1e-6\n",
    "K2400.output(1)\n",
    "sleep(2)\n",
    "magnet_y.field(Mag)\n",
    "sleep(10)\n",
    "appl_current(-I_range)\n",
    "sleep(3)\n",
    "direction = 'backward' if Mag > 0 else 'forward'\n",
    "\n",
    "\n",
    "# station.snapshot(update=True);\n",
    "exp = qc.new_experiment('IV vs By', sample_name=f'103-01_J1_21-20-23-22_1M_By_{direction}_Bx@0mT')\n",
    "\n",
    "dataid = do2d(magnet_y.field, Mag, -Mag, 151 , 0.9, appl_current, -I_range ,I_range, 201, 0.01, meas_voltage_K2)\n",
    "\n",
    "appl_current(0)\n",
    "K2400.output(0)\n",
    "# magnet_y.field(0)\n",
    "\n",
    "plot_by_id(dataid)\n",
    "autosave_plot_by_id(dataid, save_path)"
   ]
  },
  {
   "cell_type": "code",
   "execution_count": null,
   "id": "dadb617e",
   "metadata": {},
   "outputs": [],
   "source": [
    "from tqdm import tqdm\n",
    "import time\n",
    "\n",
    "# First loop\n",
    "for i in tqdm(range(6), desc=\"First loop\"):\n",
    "    value = (1.5 + i) * 1e-3 \n",
    "    magnet_y.field(value)\n",
    "    print(f\"magnet_y is {value:.8f} T\")\n",
    "    time.sleep(10)\n",
    "\n",
    "# Pause for 30 seconds\n",
    "time.sleep(30)\n",
    "\n",
    "# Second loop\n",
    "for i in tqdm(range(8), desc=\"First loop\"):\n",
    "    value = (7 - i) * 1e-3 \n",
    "    magnet_y.field(value)\n",
    "    print(f\"magnet_y is {value:.8f} T\")\n",
    "    time.sleep(10)\n",
    "\n",
    "# Pause for 180 seconds\n",
    "time.sleep(300)\n"
   ]
  },
  {
   "cell_type": "code",
   "execution_count": null,
   "id": "cceb780f",
   "metadata": {},
   "outputs": [],
   "source": [
    "def combined_loop(start=0, end=5 ):\n",
    "  for i in tqdm(range((end-start)+6), desc=\"First loop\"):\n",
    "    value = start + i\n",
    "    print(f\"{value* 1e-3:.5f}\")\n",
    "\n",
    "  for i in tqdm(range(6), desc=\"Second loop\"):\n",
    "    value = end+5 - i\n",
    "    print(f\"{value* 1e-3:.5f}\")\n",
    "\n",
    "combined_loop()\n"
   ]
  },
  {
   "cell_type": "code",
   "execution_count": null,
   "id": "7963ad50",
   "metadata": {},
   "outputs": [],
   "source": [
    "Mag = 3e-3\n",
    "I_range=1e-6\n",
    "K2400.output(1)\n",
    "sleep(2)\n",
    "magnet_y.field(Mag)\n",
    "sleep(10)\n",
    "appl_current(-I_range)\n",
    "sleep(3)\n",
    "direction = 'backward' if Mag > 0 else 'forward'\n",
    "\n",
    "\n",
    "# station.snapshot(update=True);\n",
    "exp = qc.new_experiment('IV vs By', sample_name=f'103-04_J2_04-05-06-07_1M_By_{direction}_Bx@0mT')\n",
    "\n",
    "dataid = do2d(magnet_y.field, Mag, -Mag, 101 , 1.5, appl_current, -I_range ,I_range, 101, 0.01, meas_voltage_K2)\n",
    "\n",
    "appl_current(0)\n",
    "K2400.output(0)\n",
    "# magnet_y.field(0)\n",
    "\n",
    "plot_by_id(dataid)\n",
    "autosave_plot_by_id(dataid, save_path)"
   ]
  },
  {
   "cell_type": "code",
   "execution_count": null,
   "id": "3d67f8ce",
   "metadata": {},
   "outputs": [],
   "source": [
    "from tqdm import tqdm\n",
    "import time\n",
    "\n",
    "# First loop\n",
    "for i in tqdm(range(6), desc=\"First loop\"):\n",
    "    magnet_y.field((-3 - i) * 1e-3)\n",
    "    time.sleep(15)\n",
    "\n",
    "# Pause for 30 seconds\n",
    "time.sleep(30)\n",
    "\n",
    "# Second loop\n",
    "for i in tqdm(range(7), desc=\"Second loop\"):\n",
    "    magnet_y.field((-8 + i) * 1e-3)\n",
    "    time.sleep(15)\n",
    "\n",
    "# Pause for 180 seconds\n",
    "time.sleep(300)"
   ]
  },
  {
   "cell_type": "code",
   "execution_count": null,
   "id": "af9e2a73",
   "metadata": {},
   "outputs": [],
   "source": [
    "magnet_y.field(-1.5e-3)\n",
    "print(\"By at -1.5 mT\")"
   ]
  },
  {
   "cell_type": "code",
   "execution_count": null,
   "id": "214aa45a",
   "metadata": {},
   "outputs": [],
   "source": [
    "Mag = -3e-3\n",
    "I_range=1e-6\n",
    "K2400.output(1)\n",
    "sleep(2)\n",
    "magnet_y.field(Mag)\n",
    "sleep(10)\n",
    "appl_current(-I_range)\n",
    "sleep(3)\n",
    "direction = 'backward' if Mag > 0 else 'forward'\n",
    "\n",
    "\n",
    "# station.snapshot(update=True);\n",
    "exp = qc.new_experiment('IV vs By', sample_name=f'103-04_J2_04-05-06-07_1M_By_{direction}_Bx@0mT')\n",
    "\n",
    "dataid = do2d(magnet_y.field, Mag, -Mag, 501 , 1, appl_current, -I_range ,I_range, 251, 0.01, meas_voltage_K2)\n",
    "\n",
    "appl_current(0)\n",
    "K2400.output(0)\n",
    "# magnet_y.field(0)\n",
    "\n",
    "plot_by_id(dataid)\n",
    "autosave_plot_by_id(dataid, save_path)"
   ]
  },
  {
   "cell_type": "code",
   "execution_count": null,
   "id": "da9891fc",
   "metadata": {},
   "outputs": [],
   "source": [
    "from tqdm import tqdm\n",
    "import time\n",
    "\n",
    "# First loop\n",
    "for i in tqdm(range(6), desc=\"First loop\"):\n",
    "    magnet_y.field((3 + i) * 1e-3)\n",
    "    time.sleep(10)\n",
    "\n",
    "# Pause for 30 seconds\n",
    "time.sleep(30)\n",
    "\n",
    "# Second loop\n",
    "for i in tqdm(range(6), desc=\"Second loop\"):\n",
    "    magnet_y.field((8 - i) * 1e-3)\n",
    "    time.sleep(10)\n",
    "\n",
    "# Pause for 180 seconds\n",
    "time.sleep(300)"
   ]
  },
  {
   "cell_type": "code",
   "execution_count": null,
   "id": "8c1e92c1",
   "metadata": {},
   "outputs": [],
   "source": [
    "Mag = 3e-3\n",
    "I_range=1e-6\n",
    "K2400.output(1)\n",
    "sleep(2)\n",
    "magnet_y.field(Mag)\n",
    "sleep(10)\n",
    "appl_current(-I_range)\n",
    "sleep(3)\n",
    "direction = 'backward' if Mag > 0 else 'forward'\n",
    "\n",
    "\n",
    "# station.snapshot(update=True);\n",
    "exp = qc.new_experiment('IV vs By', sample_name=f'103-04_J2_04-05-06-07_1M_By_{direction}_Bx@0mT')\n",
    "\n",
    "dataid = do2d(magnet_y.field, Mag, -Mag, 501 , 1, appl_current, -I_range ,I_range, 251, 0.01, meas_voltage_K2)\n",
    "\n",
    "appl_current(0)\n",
    "K2400.output(0)\n",
    "# magnet_y.field(0)\n",
    "\n",
    "plot_by_id(dataid)\n",
    "autosave_plot_by_id(dataid, save_path)"
   ]
  },
  {
   "cell_type": "code",
   "execution_count": null,
   "id": "5208f447",
   "metadata": {},
   "outputs": [],
   "source": [
    "magnet_y.field(5e-3)"
   ]
  },
  {
   "cell_type": "code",
   "execution_count": null,
   "id": "3e408864",
   "metadata": {},
   "outputs": [],
   "source": [
    "for i in range(9):\n",
    "    magnet_y.field((0+i)*1e-3)\n",
    "    sleep(4)\n",
    "sleep(10)\n",
    "\n",
    "for i in range(6):\n",
    "    magnet_y.field((8-i)*1e-3)\n",
    "    sleep(4)\n",
    "\n",
    "sleep(60)\n",
    "# magnet_y.field(21.5e-3)\n",
    "sleep(60)\n",
    "#magnet_y.field(0.48e-3)\n",
    "#sleep(5)"
   ]
  },
  {
   "cell_type": "code",
   "execution_count": null,
   "id": "2eb14a5d",
   "metadata": {},
   "outputs": [],
   "source": [
    "for i in range(4):\n",
    "    print(8-i)"
   ]
  },
  {
   "cell_type": "code",
   "execution_count": null,
   "id": "a1ebeefb",
   "metadata": {},
   "outputs": [],
   "source": [
    "K2400.output(1)\n",
    "sleep(2)\n",
    "Mag = -40e-3\n",
    "I_range=2e-8\n",
    "\n",
    "magnet_y.field(Mag)\n",
    "sleep(10)\n",
    "appl_current(-I_range)\n",
    "sleep(3)\n",
    "direction = 'backward' if Mag > 0 else 'forward'\n",
    "\n",
    "\n",
    "# station.snapshot(update=True);\n",
    "\n",
    "exp = qc.new_experiment('IV vs By', sample_name=f'094-20IV_By_16-17-19-18_10M_{direction}_Bx@-18.5mT')\n",
    "\n",
    "dataid = do2d(magnet_y.field, Mag, -Mag, 601 , 2, appl_current, -I_range ,I_range, 201, 0.1, meas_voltage_K2)\n",
    "\n",
    "\n",
    "appl_current(0)\n",
    "K2400.output(0)\n",
    "# magnet_y.field(0)\n",
    "\n",
    "plot_by_id(dataid)\n",
    "autosave_plot_by_id(dataid, save_path)"
   ]
  },
  {
   "cell_type": "code",
   "execution_count": null,
   "id": "effdb8bf",
   "metadata": {},
   "outputs": [],
   "source": [
    "for i in range(24):\n",
    "    print(45-i)"
   ]
  },
  {
   "cell_type": "code",
   "execution_count": null,
   "id": "4b523a44",
   "metadata": {},
   "outputs": [],
   "source": []
  },
  {
   "cell_type": "markdown",
   "id": "7dce8613",
   "metadata": {},
   "source": [
    "## IV vs Bz"
   ]
  },
  {
   "cell_type": "code",
   "execution_count": null,
   "id": "a4e6e5f7",
   "metadata": {
    "scrolled": true
   },
   "outputs": [],
   "source": [
    "K2400.output(1)\n",
    "sleep(2)\n",
    "magnet_z.field(-80e-3)\n",
    "sleep(60)\n",
    "appl_current(-2e-7)\n",
    "sleep(5)\n",
    "\n",
    "# station.snapshot(update=True);\n",
    "\n",
    "exp = qc.new_experiment('IV vs Bz', sample_name='IV_Bz_33_32_30_31_10M_forward')\n",
    "\n",
    "dataid = do2d(magnet_z.field,-80e-3,80e-3, 71 , 20, appl_current, -2e-7 ,2e-7, 101, 0.05, meas_voltage_K2)\n",
    "\n",
    "appl_current(0)\n",
    "\n",
    "K2400.output(0)\n",
    "# magnet_y.field(0)\n",
    "\n",
    "plot_by_id(dataid)"
   ]
  },
  {
   "cell_type": "code",
   "execution_count": null,
   "id": "e68136d1",
   "metadata": {},
   "outputs": [],
   "source": [
    "#magnet_z.field(20e-3)\n",
    "#sleep(5)\n",
    "magnet_z.field(-6.1e-3)\n",
    "sleep(5)"
   ]
  },
  {
   "cell_type": "code",
   "execution_count": null,
   "id": "571645ac",
   "metadata": {},
   "outputs": [],
   "source": []
  },
  {
   "cell_type": "markdown",
   "id": "02c81568",
   "metadata": {},
   "source": [
    "## IV w/ Bx"
   ]
  },
  {
   "cell_type": "code",
   "execution_count": null,
   "id": "b5229271",
   "metadata": {},
   "outputs": [],
   "source": [
    "K2400.output(1)\n",
    "sleep(2)\n",
    "magnet_x.field(0.23e-3)\n",
    "appl_current(-0.5e-6)\n",
    "sleep(10)\n",
    "\n",
    "# station.snapshot(update=True);\n",
    "exp = qc.new_experiment('I vs V', sample_name='IV_w/_Bx')\n",
    "\n",
    "#do1d(param_set, start, stop, num_points, delay, *param_meas)\n",
    "dataid = do1d(appl_current, -0.5e-6 ,0.5e-6, 101, 0.05, meas_voltage_K2)\n",
    "# dataid = do1d(appl_current, 6e-6 , -6e-6, 251, 0.01, meas_voltage_K1)\n",
    "# ivvi.set_dacs_zero()\n",
    "\n",
    "appl_current(0)\n",
    "plot_by_id(dataid)\n",
    "# print(get_R_from_IV(dataid))\n",
    "#print(get_R_from_IV_2(dataid))\n",
    "\n",
    "K2400.output(0)"
   ]
  },
  {
   "cell_type": "markdown",
   "id": "27ac85cd",
   "metadata": {},
   "source": [
    "## IV w/ By"
   ]
  },
  {
   "cell_type": "code",
   "execution_count": null,
   "id": "b7c3a84d",
   "metadata": {},
   "outputs": [],
   "source": [
    "K2400.output(1)\n",
    "DMM6500.averaging_count(30)\n",
    "#DMM6500.averaging_enabled(False)\n",
    "\n",
    "sleep(2)\n",
    "magnet_y.field(0e-3)\n",
    "appl_current(-2e-7)\n",
    "sleep(20)\n",
    "\n",
    "# station.snapshot(update=True);\n",
    "exp = qc.new_experiment('I vs V', sample_name='IV_w/_By@0mT_forward_Avg30')\n",
    "\n",
    "#do1d(param_set, start, stop, num_points, delay, *param_meas)\n",
    "dataid = do1d(appl_current, -2e-7 ,2e-7, 201, 0.05, meas_voltage_K2)\n",
    "# dataid = do1d(appl_current, 6e-6 , -6e-6, 251, 0.01, meas_voltage_K1)\n",
    "# ivvi.set_dacs_zero()\n",
    "\n",
    "appl_current(0)\n",
    "plot_by_id(dataid)\n",
    "# print(get_R_from_IV(dataid))\n",
    "#print(get_R_from_IV_2(dataid))\n",
    "\n",
    "K2400.output(0)"
   ]
  },
  {
   "cell_type": "markdown",
   "id": "1e7ed93d",
   "metadata": {},
   "source": [
    "## MR"
   ]
  },
  {
   "cell_type": "code",
   "execution_count": null,
   "id": "9db581e2",
   "metadata": {},
   "outputs": [],
   "source": [
    "K2400.output(1)\n",
    "sleep(2)\n",
    "magnet_y.field(-0.1)\n",
    "sleep(5)\n",
    "#K2400.output(1)\n",
    "appl_current(1e-7)\n",
    "sleep(5)\n",
    "\n",
    "# station.snapshot(update=True);\n",
    "\n",
    "exp = qc.new_experiment('I vs By_MR', sample_name='072_14IVf_25_24_29_29_By_+-0.1T_MR_for')\n",
    "\n",
    "dataid = do1d(magnet_y.field, -0.1, 0.1, 71 , 1, meas_voltage_K2)\n",
    "\n",
    "appl_current(0)\n",
    "K2400.output(0)\n",
    "#K2400.output(0)\n",
    "magnet_y.field(0)\n",
    "\n",
    "plot_by_id(dataid)"
   ]
  },
  {
   "cell_type": "markdown",
   "id": "55fd3a3b",
   "metadata": {},
   "source": [
    "## IV w/Bz"
   ]
  },
  {
   "cell_type": "code",
   "execution_count": null,
   "id": "e76653c7",
   "metadata": {},
   "outputs": [],
   "source": [
    "K2400.output(1)\n",
    "DMM6500.averaging_count(10)\n",
    "#DMM6500.averaging_enabled(False)\n",
    "\n",
    "sleep(2)\n",
    "magnet_z.field(0e-3)\n",
    "appl_current(-2e-7)\n",
    "sleep(30)\n",
    "\n",
    "# station.snapshot(update=True);\n",
    "exp = qc.new_experiment('I vs V', sample_name='IV_w/_f_Bz@0mT_forward_Avg10')\n",
    "\n",
    "#do1d(param_set, start, stop, num_points, delay, *param_meas)\n",
    "dataid = do1d(appl_current, -2e-7 ,2e-7, 201, 0.05, meas_voltage_K2)\n",
    "# dataid = do1d(appl_current, 6e-6 , -6e-6, 251, 0.01, meas_voltage_K1)\n",
    "# ivvi.set_dacs_zero()\n",
    "\n",
    "appl_current(0)\n",
    "plot_by_id(dataid)\n",
    "# print(get_R_from_IV(dataid))\n",
    "#print(get_R_from_IV_2(dataid))\n",
    "\n",
    "K2400.output(0)"
   ]
  },
  {
   "cell_type": "markdown",
   "id": "d0274abc",
   "metadata": {},
   "source": [
    "# Zero everything"
   ]
  },
  {
   "cell_type": "code",
   "execution_count": null,
   "id": "a0cc99f2",
   "metadata": {},
   "outputs": [],
   "source": [
    "appl_current(0)\n",
    "appl_TG(0)\n",
    "magnet_y.field(0)\n",
    "sleep(5)\n",
    "magnet_x.field(0)\n",
    "sleep(5)\n",
    "magnet_z.field(0)\n",
    "sleep(5)\n",
    "#appl_voltage_AC(0.004)\n",
    "#SGS.off()\n",
    "K2400.output(0)"
   ]
  },
  {
   "cell_type": "code",
   "execution_count": null,
   "id": "cb8bf175",
   "metadata": {},
   "outputs": [],
   "source": [
    "appl_current(0)"
   ]
  },
  {
   "cell_type": "markdown",
   "id": "6610bce1",
   "metadata": {},
   "source": [
    "# Gate simple sweeps"
   ]
  },
  {
   "cell_type": "markdown",
   "id": "c010fbad",
   "metadata": {},
   "source": [
    "## 加TG (2D)"
   ]
  },
  {
   "cell_type": "code",
   "execution_count": null,
   "id": "6d7e9bf6",
   "metadata": {},
   "outputs": [],
   "source": [
    "appl_current(0)\n",
    "sleep(1)\n",
    "appl_TG(0)\n",
    "sleep(5)"
   ]
  },
  {
   "cell_type": "code",
   "execution_count": null,
   "id": "be01663b",
   "metadata": {},
   "outputs": [],
   "source": [
    "magnet_x.field(-0.044e-3)\n",
    "sleep(10)\n",
    "magnet_y.field(-6.016e-3)\n",
    "sleep(10)"
   ]
  },
  {
   "cell_type": "code",
   "execution_count": null,
   "id": "5397630e",
   "metadata": {},
   "outputs": [],
   "source": [
    "K2400.output(1)\n",
    "K2400.output(1)\n",
    "appl_TG(-30)\n",
    "sleep(5)\n",
    "appl_current(-1.5e-8)\n",
    "sleep(1)\n",
    "\n",
    "exp = qc.new_experiment('I_vs_Vgate_up', sample_name='33_32_30_31_1M_TG21')\n",
    "dataid = do2d(appl_TG, -30, 30, 301, 0.5, appl_current, -1.5e-8, 1.5e-8, 101, 0.1, meas_voltage_K2)\n",
    "\n",
    "appl_TG(0)\n",
    "sleep(5)\n",
    "appl_current(0e-7)\n",
    "sleep(5)\n",
    "\n",
    "K2400.output(0)\n",
    "K2400.output(0)\n",
    "\n",
    "plot_by_id(dataid)"
   ]
  },
  {
   "cell_type": "markdown",
   "id": "5375fb6f",
   "metadata": {},
   "source": [
    "# RF"
   ]
  },
  {
   "cell_type": "markdown",
   "id": "596beaf8",
   "metadata": {},
   "source": [
    "## I vs RF_f"
   ]
  },
  {
   "cell_type": "markdown",
   "id": "a6df9a13",
   "metadata": {},
   "source": [
    "### sensitive check"
   ]
  },
  {
   "cell_type": "code",
   "execution_count": null,
   "id": "017ed644",
   "metadata": {},
   "outputs": [],
   "source": [
    "SGS.power()\n",
    "SGS.frequency()"
   ]
  },
  {
   "cell_type": "code",
   "execution_count": null,
   "id": "e0b8db4e",
   "metadata": {},
   "outputs": [],
   "source": [
    "SGS.on()"
   ]
  },
  {
   "cell_type": "code",
   "execution_count": null,
   "id": "cc145b47",
   "metadata": {},
   "outputs": [],
   "source": [
    "SGS.off()"
   ]
  },
  {
   "cell_type": "code",
   "execution_count": null,
   "id": "6141349d",
   "metadata": {},
   "outputs": [],
   "source": [
    "magnet_x.field(0.4e-3)\n",
    "sleep(10)\n",
    "magnet_y.field(2.53e-3)\n",
    "sleep(10)"
   ]
  },
  {
   "cell_type": "code",
   "execution_count": null,
   "id": "2fd35fd0",
   "metadata": {},
   "outputs": [],
   "source": [
    "DMM6500.averaging_count(5)\n",
    "DMM6500.averaging_enabled(False)"
   ]
  },
  {
   "cell_type": "markdown",
   "id": "2d27c6f3",
   "metadata": {},
   "source": [
    "### I vs RF_f (1D)"
   ]
  },
  {
   "cell_type": "code",
   "execution_count": null,
   "id": "c3ec00d7",
   "metadata": {
    "scrolled": false
   },
   "outputs": [],
   "source": [
    "SGS.off()\n",
    "exp = qc.new_experiment('I-RF_f', sample_name='103-06_J2_12-13-14-15_1M_@0mT')\n",
    "SGS.power(0)\n",
    "SGS.frequency(0.1e9)\n",
    "SGS.on()\n",
    "sleep(1)\n",
    "DMM6500.averaging_count(5)\n",
    "DMM6500.averaging_enabled(False)\n",
    "K2400.output(1)\n",
    "\n",
    "appl_current(0.4e-6)\n",
    "#appl_TG(10)\n",
    "# magnet_x.field(0.4e-3)\n",
    "# magnet_y.field(2.53e-3)\n",
    "\n",
    "dataid = do1d(SGS.frequency, 11.4e9, 12.2e9, 201, 0.1, meas_voltage_K2)\n",
    "appl_current(0)\n",
    "SGS.off()\n",
    "K2400.output(0)\n",
    "plot_by_id(dataid)\n"
   ]
  },
  {
   "cell_type": "markdown",
   "id": "3e250e53",
   "metadata": {},
   "source": [
    "### I vs RF_f (2D)"
   ]
  },
  {
   "cell_type": "code",
   "execution_count": null,
   "id": "3734095d",
   "metadata": {},
   "outputs": [],
   "source": [
    "SGS.off()"
   ]
  },
  {
   "cell_type": "code",
   "execution_count": null,
   "id": "ccc9ea2f",
   "metadata": {},
   "outputs": [],
   "source": [
    "SGS.off()\n",
    "SGS.power(0)\n",
    "SGS.frequency(0.1e9)\n",
    "SGS.on()\n",
    "DMM6500.averaging_count(1)\n",
    "DMM6500.averaging_enabled(False)\n",
    "K2400.output(1)\n",
    "\n",
    "I_range = 8e-6\n",
    "appl_current(-I_range)\n",
    "#appl_TG(-10)\n",
    "# magnet_x.field(0.4e-3)\n",
    "# magnet_y.field(2.53e-3)\n",
    "# sleep(1)\n",
    "\n",
    "# station.snapshot(update=True);\n",
    "exp = qc.new_experiment('IV-RF_f', sample_name=f'103-03_J2_27-26-30-31M(32G-33G-28G-29G)_1M_RF@0dBm_By@0.1mT')\n",
    "\n",
    "#do1d(param_set, start, stop, num_points, delay, *param_meas)\n",
    "dataid = do2d(SGS.frequency, 1e9, 20e9, 191, 0.0001, appl_current,-I_range ,I_range, 201, 0.0001, meas_voltage_K2)\n",
    "# dataid = do1d(appl_current, 6e-6 , -6e-6, 251, 0.01, meas_voltage_K1)\n",
    "# ivvi.set_dacs_zero()\n",
    "K2400.output(0)\n",
    "SGS.off()\n",
    "appl_current(0)\n",
    "plot_by_id(dataid)\n",
    "save_path = r\"D:\\data\\Albert\\103\\Plot\\104_{}.png\".format(dataid)  # Path to save the plot image\n",
    "autosave_plot_by_id(dataid, save_path)"
   ]
  },
  {
   "cell_type": "code",
   "execution_count": null,
   "id": "3426a3bd",
   "metadata": {},
   "outputs": [],
   "source": [
    "SGS.off()\n",
    "SGS.power(20)\n",
    "SGS.frequency(0.1e9)\n",
    "SGS.on()\n",
    "DMM6500.averaging_count(1)\n",
    "DMM6500.averaging_enabled(False)\n",
    "K2400.output(1)\n",
    "\n",
    "I_range = 6e-6\n",
    "appl_current(-I_range)\n",
    "#appl_TG(-10)\n",
    "# magnet_x.field(0.4e-3)\n",
    "# magnet_y.field(2.53e-3)\n",
    "# sleep(1)\n",
    "\n",
    "# station.snapshot(update=True);\n",
    "exp = qc.new_experiment('IV-RF_f', sample_name=f'103-03_J2_27-26-30-31M(32G-33G-28G-29G)_1M_RF@-10dBm_By@0.1mT')\n",
    "\n",
    "#do1d(param_set, start, stop, num_points, delay, *param_meas)\n",
    "dataid = do2d(SGS.frequency, 1e9, 20e9, 191, 0.0001, appl_current,-I_range ,I_range, 201, 0.0001, meas_voltage_K2)\n",
    "# dataid = do1d(appl_current, 6e-6 , -6e-6, 251, 0.01, meas_voltage_K1)\n",
    "# ivvi.set_dacs_zero()\n",
    "K2400.output(0)\n",
    "SGS.off()\n",
    "appl_current(0)\n",
    "plot_by_id(dataid)\n",
    "save_path = r\"D:\\data\\Albert\\103\\Plot\\104_{}.png\".format(dataid)  # Path to save the plot image\n",
    "autosave_plot_by_id(dataid, save_path)"
   ]
  },
  {
   "cell_type": "code",
   "execution_count": null,
   "id": "9f9dbd53",
   "metadata": {},
   "outputs": [],
   "source": [
    "SGS.off()\n",
    "SGS.power(20)\n",
    "SGS.frequency(5.9e9)\n",
    "SGS.on()\n",
    "DMM6500.averaging_count(1)\n",
    "DMM6500.averaging_enabled(False)\n",
    "K2400.output(1)\n",
    "\n",
    "I_range = 6e-6\n",
    "appl_current(-I_range)\n",
    "#appl_TG(-10)\n",
    "# magnet_x.field(0.4e-3)\n",
    "# magnet_y.field(2.53e-3)\n",
    "# sleep(1)\n",
    "\n",
    "# station.snapshot(update=True);\n",
    "exp = qc.new_experiment('IV-RF_f', sample_name=f'103-03_J2_27-26-30-31M(32G-33G-28G-29G)_1M_RF@20dBm_By@0.1mT')\n",
    "\n",
    "#do1d(param_set, start, stop, num_points, delay, *param_meas)\n",
    "dataid = do2d(SGS.frequency, 5.9e9, 6.0e9, 251, 0.0001, appl_current,-I_range ,I_range, 501, 0.0001, meas_voltage_K2)\n",
    "# dataid = do1d(appl_current, 6e-6 , -6e-6, 251, 0.01, meas_voltage_K1)\n",
    "# ivvi.set_dacs_zero()\n",
    "K2400.output(0)\n",
    "SGS.off()\n",
    "appl_current(0)\n",
    "plot_by_id(dataid)\n",
    "save_path = r\"D:\\data\\Albert\\103\\Plot\\104_{}.png\".format(dataid)  # Path to save the plot image\n",
    "autosave_plot_by_id(dataid, save_path)\n"
   ]
  },
  {
   "cell_type": "code",
   "execution_count": null,
   "id": "862b770b",
   "metadata": {},
   "outputs": [],
   "source": [
    "SGS.off()\n",
    "SGS.power(20)\n",
    "SGS.frequency(5.535e9)\n",
    "SGS.on()\n",
    "DMM6500.averaging_count(1)\n",
    "DMM6500.averaging_enabled(False)\n",
    "K2400.output(1)\n",
    "\n",
    "I_range = 6e-6\n",
    "appl_current(-I_range)\n",
    "#appl_TG(-10)\n",
    "# magnet_x.field(0.4e-3)\n",
    "# magnet_y.field(2.53e-3)\n",
    "# sleep(1)\n",
    "\n",
    "# station.snapshot(update=True);\n",
    "exp = qc.new_experiment('IV-RF_f', sample_name=f'103-03_J2_27-26-30-31M(32G-33G-28G-29G)_1M_RF@20dBm_By@0.1mT')\n",
    "\n",
    "#do1d(param_set, start, stop, num_points, delay, *param_meas)\n",
    "dataid = do2d(SGS.frequency, 5.535e9, 5.585e9, 251, 0.0001, appl_current,-I_range ,I_range, 501, 0.0001, meas_voltage_K2)\n",
    "# dataid = do1d(appl_current, 6e-6 , -6e-6, 251, 0.01, meas_voltage_K1)\n",
    "# ivvi.set_dacs_zero()\n",
    "K2400.output(0)\n",
    "SGS.off()\n",
    "appl_current(0)\n",
    "plot_by_id(dataid)\n",
    "save_path = r\"D:\\data\\Albert\\103\\Plot\\104_{}.png\".format(dataid)  # Path to save the plot image\n",
    "autosave_plot_by_id(dataid, save_path)\n"
   ]
  },
  {
   "cell_type": "code",
   "execution_count": null,
   "id": "d76f7ea2",
   "metadata": {},
   "outputs": [],
   "source": [
    "SGS.off()\n",
    "SGS.power(20)\n",
    "SGS.frequency(0.1e9)\n",
    "SGS.on()\n",
    "DMM6500.averaging_count(1)\n",
    "DMM6500.averaging_enabled(False)\n",
    "K2400.output(1)\n",
    "\n",
    "I_range = 6e-6\n",
    "appl_current(-I_range)\n",
    "SGS_power = SGS.power()\n",
    "#appl_TG(-10)\n",
    "# magnet_x.field(0.4e-3)\n",
    "# magnet_y.field(2.53e-3)\n",
    "# sleep(1)\n",
    "\n",
    "# station.snapshot(update=True);\n",
    "exp = qc.new_experiment('IV-RF_f', sample_name=f'103-03_J2_27-26-30-31M(32G-33G-28G-29G)_1M_RF@{SGS_power}dBm_By@0.1mT')\n",
    "\n",
    "#do1d(param_set, start, stop, num_points, delay, *param_meas)\n",
    "dataid = do2d(SGS.frequency, 3.9e9, 6.9e9, 301, 0.0001, appl_current,-I_range ,I_range, 251, 0.0001, meas_voltage_K2)\n",
    "# dataid = do1d(appl_current, 6e-6 , -6e-6, 251, 0.01, meas_voltage_K1)\n",
    "# ivvi.set_dacs_zero()\n",
    "K2400.output(0)\n",
    "SGS.off()\n",
    "appl_current(0)\n",
    "plot_by_id(dataid)\n",
    "save_path = r\"D:\\data\\Albert\\103\\Plot\\104_{}.png\".format(dataid)  # Path to save the plot image\n",
    "autosave_plot_by_id(dataid, save_path)"
   ]
  },
  {
   "cell_type": "code",
   "execution_count": null,
   "id": "28992f6f",
   "metadata": {},
   "outputs": [],
   "source": [
    "appl_current(0)\n",
    "#appl_TG(0)\n",
    "magnet_y.field(0)\n",
    "sleep(2)\n",
    "magnet_x.field(0)\n",
    "sleep(2)\n",
    "#appl_voltage_AC(0.004)\n",
    "SGS.off()"
   ]
  },
  {
   "cell_type": "markdown",
   "id": "65c9a40a",
   "metadata": {},
   "source": [
    "## IV vs RF_f"
   ]
  },
  {
   "cell_type": "markdown",
   "id": "b285efb3",
   "metadata": {},
   "source": [
    "### Shapiro steps "
   ]
  },
  {
   "cell_type": "code",
   "execution_count": null,
   "id": "3a180ee1",
   "metadata": {
    "scrolled": true
   },
   "outputs": [],
   "source": [
    "SGS.off()\n",
    "SGS.power(-10)\n",
    "SGS.frequency(11.725e9)\n",
    "SGS.on()\n",
    "DMM6500.averaging_count(5)\n",
    "DMM6500.averaging_enabled(False)\n",
    "K2400.output(1)\n",
    "\n",
    "appl_current(-2e-7)\n",
    "#appl_TG(-10)\n",
    "#magnet_x.field(0.23e-3)\n",
    "#magnet_y.field(1.41e-3)\n",
    "# sleep(1)\n",
    "\n",
    "# station.snapshot(update=True);\n",
    "exp = qc.new_experiment('IV-RF_f', sample_name=f'103-03_J2_27-26-30-31M(32G-33G-28G-29G)_1M_By@0.1mT{-I_range}')\n",
    "\n",
    "#do1d(param_set, start, stop, num_points, delay, *param_meas)\"\"\n",
    "dataid = do1d(appl_current,-2e-7 ,2e-7, 101, 0.05,  meas_voltage_K2)\n",
    "# dataid = do1d(appl_current, 6e-6 , -6e-6, 251, 0.01, meas_voltage_K1)\n",
    "# ivvi.set_dacs_zero()\n",
    "K2400.output(0)\n",
    "SGS.off()\n",
    "appl_current(0)\n",
    "plot_by_id(dataid)\n",
    "# print(get_R_from_IV(dataid))\n",
    "#print(get_R_from_IV_2(dataid))"
   ]
  },
  {
   "cell_type": "code",
   "execution_count": null,
   "id": "51fe069b",
   "metadata": {},
   "outputs": [],
   "source": [
    "SGS.off()\n",
    "SGS.power(0)\n",
    "SGS.frequency(3.87e9)\n",
    "SGS.on()\n",
    "DMM6500.averaging_count(5)\n",
    "DMM6500.averaging_enabled(False)\n",
    "K2400.output(1)\n",
    "\n",
    "appl_current(-1.2e-6)\n",
    "#appl_TG(-10)\n",
    "magnet_y.field(-10e-3)\n",
    "\n",
    "#magnet_y.field(1.41e-3)\n",
    "# sleep(1)\n",
    "\n",
    "# station.snapshot(update=True);\n",
    "exp = qc.new_experiment('Bx vs RF_f', sample_name='By vs RF_f_J2_3.87_-10dB')\n",
    "\n",
    "#do1d(param_set, start, stop, num_points, delay, *param_meas)\"\"\n",
    "dataid = do2d(magnet_y.field, -10e-3, 10e-3,701, 1, appl_current,-1.2e-6 ,1.2e-6, 101, 0.05,  meas_voltage_K2)\n",
    "# dataid = do1d(appl_current, 6e-6 , -6e-6, 251, 0.01, meas_voltage_K1)\n",
    "# ivvi.set_dacs_zero()\n",
    "K2400.output(0)\n",
    "SGS.off()\n",
    "appl_current(0)\n",
    "plot_by_id(dataid)\n",
    "# print(get_R_from_IV(dataid))\n",
    "#print(get_R_from_IV_2(dataid))"
   ]
  },
  {
   "cell_type": "code",
   "execution_count": null,
   "id": "5488e4c5",
   "metadata": {},
   "outputs": [],
   "source": [
    "appl_current(0)\n",
    "#appl_TG(0)\n",
    "magnet_y.field(0)\n",
    "sleep(10)\n",
    "magnet_x.field(0)\n",
    "sleep(10)\n",
    "#appl_voltage_AC(0.004)\n",
    "SGS.off()"
   ]
  },
  {
   "cell_type": "markdown",
   "id": "04e50dcd",
   "metadata": {},
   "source": [
    "## IV vs Power Dependence"
   ]
  },
  {
   "cell_type": "code",
   "execution_count": null,
   "id": "0368ef58",
   "metadata": {},
   "outputs": [],
   "source": [
    "SGS.off()"
   ]
  },
  {
   "cell_type": "code",
   "execution_count": null,
   "id": "3d6eab35",
   "metadata": {},
   "outputs": [],
   "source": [
    "SGS.power(-40)"
   ]
  },
  {
   "cell_type": "code",
   "execution_count": null,
   "id": "d760383a",
   "metadata": {},
   "outputs": [],
   "source": [
    "SGS.off()"
   ]
  },
  {
   "cell_type": "code",
   "execution_count": null,
   "id": "f0984a37",
   "metadata": {
    "scrolled": true
   },
   "outputs": [],
   "source": [
    "SGS.off()\n",
    "SGS.power(-20)\n",
    "SGS.frequency(5.9534e9)\n",
    "SGS_frequency = SGS.frequency()\n",
    "SGS.on()\n",
    "DMM6500.averaging_count(3)\n",
    "DMM6500.averaging_enabled(False)\n",
    "K2400.output(1)\n",
    "\n",
    "#magnet_x.field(15e-3)\n",
    "#sleep(5)\n",
    "I_range = 6e-6\n",
    "appl_current(-I_range)\n",
    "#appl_TG(-30)\n",
    "sleep(2)\n",
    "\n",
    "# station.snapshot(update=True);\n",
    "exp = qc.new_experiment('IV-RF_p', sample_name=f'103-03_J2_27-26-30-31M(32G-33G-28G-29G)_1M_RF@{SGS_frequency*1e-9:.4f}GHz_By@0.1mT')\n",
    "\n",
    "#do1d(param_set, start, stop, num_points, delay, *param_meas)\n",
    "\n",
    "dataid = do2d(SGS.power,10, 15, 51, 0.1, appl_current,-I_range ,I_range, 301, 0.00001, meas_voltage_K2)\n",
    "# dataid = do1d(appl_current, 6e-6 , -6e-6, 251, 0.01, meas_voltage_K1)\n",
    "# ivvi.set_dacs_zero()\n",
    "\n",
    "SGS.off()\n",
    "appl_current(0)\n",
    "K2400.output()\n",
    "plot_by_id(dataid)\n",
    "\n",
    "# print(get_R_from_IV(dataid))\n",
    "print(get_R_from_IV_2(dataid))"
   ]
  },
  {
   "cell_type": "code",
   "execution_count": null,
   "id": "de3fc621",
   "metadata": {},
   "outputs": [],
   "source": [
    "SGS.off()\n",
    "SGS.power(-25)\n",
    "SGS.frequency(5.226e9)\n",
    "SGS.on()\n",
    "DMM6500.averaging_count(5)\n",
    "DMM6500.averaging_enabled(True)\n",
    "K2400.output(1)\n",
    "\n",
    "magnet_y.field(-8e-3)\n",
    "sleep(60)\n",
    "appl_current(-2e-7)\n",
    "#appl_TG(-30)\n",
    "sleep(2)\n",
    "\n",
    "# station.snapshot(update=True);\n",
    "exp = qc.new_experiment('IV vs power dependence', sample_name='IV vs PD_5.226_By:-8mT')\n",
    "\n",
    "#do1d(param_set, start, stop, num_points, delay, *param_meas)\n",
    "\n",
    "dataid = do2d(SGS.power,-25, 10, 101, 20, appl_current,-2e-7 ,2e-7, 101, 0.05, meas_voltage_K2)\n",
    "# dataid = do1d(appl_current, 6e-6 , -6e-6, 251, 0.01, meas_voltage_K1)\n",
    "# ivvi.set_dacs_zero()\n",
    "\n",
    "SGS.off()\n",
    "appl_current(0)\n",
    "K2400.output()\n",
    "plot_by_id(dataid)\n",
    "\n",
    "# print(get_R_from_IV(dataid))\n",
    "print(get_R_from_IV_2(dataid))"
   ]
  },
  {
   "cell_type": "markdown",
   "id": "13e12840",
   "metadata": {},
   "source": [
    "### PD vs frequency_IV loop (not yet)"
   ]
  },
  {
   "cell_type": "code",
   "execution_count": null,
   "id": "8659ae09",
   "metadata": {
    "code_folding": []
   },
   "outputs": [],
   "source": [
    "frequencies = [3.248, 3.387, 5.677]\n",
    "power_levels = [-20, 0, 25]\n",
    "     \n",
    "SGS.off()\n",
    "SGS.power(-20)\n",
    "SGS.frequency(3.387e9)\n",
    "SGS.on()\n",
    "DMM6500.averaging_count(5)\n",
    "DMM6500.averaging_enabled(True)\n",
    "K2400.output(1)\n",
    "\n",
    "appl_current(-2e-6)\n",
    "#appl_TG(-10)\n",
    "sleep(1)\n",
    "\n",
    "for freq in frequencies:\n",
    "    SGS.frequency(freq)\n",
    "    for power_level in power_levels:\n",
    "        SGS.power(power_level)\n",
    "\n",
    "# station.snapshot(update=True);\n",
    "exp = qc.new_experiment('IV vs power dependence', sample_name='IV vs PD_J2_3.387_m20')\n",
    "dataid = do2d(SGS.power, 4, 8, 100, 2, appl_current, -1e-6, 1e-6, 101, 0.05, meas_voltage_K2)\n",
    "\n",
    " # 關閉設備，並在需要時列印或繪製結果\n",
    "SGS.off()\n",
    "appl_current(0)\n",
    "K2400.output()\n",
    "plot_by_id(dataid)\n",
    "    \n",
    "print(f\"頻率：{freq} Hz，功率水平：{power_level} dB\")\n",
    "print(get_R_from_IV_2(dataid))\n"
   ]
  },
  {
   "cell_type": "markdown",
   "id": "5c2101a5",
   "metadata": {},
   "source": [
    "## IV vs Vgate"
   ]
  },
  {
   "cell_type": "code",
   "execution_count": null,
   "id": "48eb3a89",
   "metadata": {},
   "outputs": [],
   "source": [
    "appl_current(0)\n",
    "appl_TG(0)\n",
    "magnet_y.field(0)\n",
    "sleep(10)\n",
    "magnet_x.field(0)\n",
    "sleep(10)\n",
    "appl_voltage_AC(0.004)\n",
    "SGS.off()"
   ]
  },
  {
   "cell_type": "code",
   "execution_count": null,
   "id": "5deaef19",
   "metadata": {},
   "outputs": [],
   "source": [
    "SGS.off()\n",
    "SGS.power(25)\n",
    "SGS.frequency(4.83e9)\n",
    "SGS.on()\n",
    "DMM6500.averaging_count(5)\n",
    "DMM6500.averaging_enabled(True)\n",
    "appl_current(-0.4e-7)\n",
    "appl_current_AC(0.1e-10)\n",
    "\n",
    "appl_TG(-10)\n",
    "sleep(1)\n",
    "\n",
    "# station.snapshot(update=True);\n",
    "exp = qc.new_experiment('IV vs Vgate', sample_name='IV vs Vg')\n",
    "\n",
    "dataid = do2d(appl_TG, -10, 10, 751, 0.5, appl_current, -0.4e-7, 0.4e-7, 101, 0.01, meas_voltage_AC_L1, meas_voltage_AC_L1_P, meas_voltage_K2)\n",
    "# dataid = do1d(appl_current, 6e-6 , -6e-6, 251, 0.01, meas_voltage_K1)\n",
    "# ivvi.set_dacs_zero()\n",
    "SGS.off()\n",
    "appl_current(0)\n",
    "plot_by_id(dataid)\n",
    "# print(get_R_from_IV(dataid))\n",
    "#print(get_R_from_IV_2(dataid))"
   ]
  },
  {
   "cell_type": "code",
   "execution_count": null,
   "id": "6bbd39fb",
   "metadata": {},
   "outputs": [],
   "source": [
    "appl_current(0)\n",
    "appl_TG(0)\n",
    "magnet_y.field(0)\n",
    "sleep(10)\n",
    "magnet_x.field(0)\n",
    "sleep(10)\n",
    "appl_voltage_AC(0.004)\n",
    "SGS.off()"
   ]
  },
  {
   "cell_type": "code",
   "execution_count": null,
   "id": "00d4b770",
   "metadata": {},
   "outputs": [],
   "source": [
    "import matplotlib.pyplot as plt\n",
    "import numpy as np\n",
    "\n",
    "# Constants\n",
    "k = 8.617333262145e-5  # Boltzmann constant in eV/K\n",
    "E_a = 0.5  # Example value for the activation energy in eV\n",
    "p_0 = 1.0  # Example value for p0\n",
    "\n",
    "# Create an array of temperatures from 100 to 1000 K\n",
    "temperatures = np.linspace(100, 1000, 50)\n",
    "\n",
    "# Calculate 1/T\n",
    "inverse_temperatures = 1 / temperatures\n",
    "\n",
    "# Calculate ln(p)\n",
    "ln_p = np.log(p_0) - (E_a / k) * inverse_temperatures\n",
    "\n",
    "# Plotting\n",
    "plt.figure(figsize=(8, 6))\n",
    "plt.plot(inverse_temperatures, ln_p, marker='o', linestyle='-')\n",
    "plt.xlabel('1/T (1/K)')\n",
    "plt.ylabel('ln(p)')\n",
    "plt.title('ln(p) vs 1/T for Hole Concentration')\n",
    "plt.grid(True)\n",
    "plt.show()\n"
   ]
  },
  {
   "cell_type": "code",
   "execution_count": null,
   "id": "f610e7bc",
   "metadata": {},
   "outputs": [],
   "source": []
  }
 ],
 "metadata": {
  "kernelspec": {
   "display_name": "Python 3 (ipykernel)",
   "language": "python",
   "name": "python3"
  },
  "language_info": {
   "codemirror_mode": {
    "name": "ipython",
    "version": 3
   },
   "file_extension": ".py",
   "mimetype": "text/x-python",
   "name": "python",
   "nbconvert_exporter": "python",
   "pygments_lexer": "ipython3",
   "version": "3.11.3"
  },
  "toc": {
   "base_numbering": 1,
   "nav_menu": {},
   "number_sections": true,
   "sideBar": false,
   "skip_h1_title": false,
   "title_cell": "Table of Contents",
   "title_sidebar": "Contents",
   "toc_cell": false,
   "toc_position": {
    "height": "783px",
    "left": "260px",
    "top": "67.125px",
    "width": "182px"
   },
   "toc_section_display": true,
   "toc_window_display": true
  }
 },
 "nbformat": 4,
 "nbformat_minor": 5
}
