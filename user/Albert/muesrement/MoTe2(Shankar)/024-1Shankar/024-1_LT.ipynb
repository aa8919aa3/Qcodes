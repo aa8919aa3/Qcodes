{
 "cells": [
  {
   "cell_type": "code",
   "execution_count": 6,
   "metadata": {},
   "outputs": [
    {
     "name": "stdout",
     "output_type": "stream",
     "text": [
      "Imported all modules, QCoDeS version: 0.38.1 initialized\n"
     ]
    }
   ],
   "source": [
    "%matplotlib inline\n",
    "import os, sys\n",
    "import time\n",
    "import pyvisa\n",
    "import warnings\n",
    "import numpy as np\n",
    "import qcodes as qc\n",
    "import matplotlib.pyplot as plt\n",
    "\n",
    "def find_qcodes_local_dir():\n",
    "    dirpath = os.getcwd()\n",
    "    while True:\n",
    "        dirpath, folder_name = os.path.split(dirpath)\n",
    "        if folder_name == 'QCoDeS_local':\n",
    "            return os.path.join(dirpath, folder_name)\n",
    "        if not folder_name:  # Reached the root directory\n",
    "            return None\n",
    "qcodes_local_dir = find_qcodes_local_dir()\n",
    "sys.path.append(f'{qcodes_local_dir}')\n",
    "\n",
    "from tqdm import tqdm\n",
    "from pprint import pprint\n",
    "from time import sleep, monotonic, time\n",
    "from IPython.display import clear_output, display, HTML\n",
    "from qcodes.dataset.measurements import Measurement\n",
    "from qcodes.utils.metadata import diff_param_values\n",
    "from qcodes.dataset.plotting import plot_dataset, plot_by_id\n",
    "from qcodes import Parameter, ManualParameter, ScaledParameter\n",
    "from qcodes.instrument.specialized_parameters import ElapsedTimeParameter\n",
    "from qcodes import ManualParameter, ScaledParameter\n",
    "from sweeps_v2 import do1d, do2d, time_sweep, measure_until, do1d_until\n",
    "\n",
    "from Test.Analysis_functions_v3 import *\n",
    "\n",
    "print('Imported all modules, QCoDeS version:', qc.__version__, 'initialized')"
   ]
  },
  {
   "cell_type": "code",
   "execution_count": 2,
   "metadata": {},
   "outputs": [
    {
     "data": {
      "text/html": [
       "qcodes_local_path:<br><a href=\"file://C:\\Users\\admin\\Documents\\GitHub\\QCoDeS_local\" target=\"_blank\">C:\\Users\\admin\\Documents\\GitHub\\QCoDeS_local</a>"
      ],
      "text/plain": [
       "<IPython.core.display.HTML object>"
      ]
     },
     "metadata": {},
     "output_type": "display_data"
    },
    {
     "data": {
      "text/html": [
       "init_database_py_path:<br><a href=\"file://C:\\Users\\admin\\Documents\\GitHub\\QCoDeS_local\\init_database_v2.py\" target=\"_blank\">C:\\Users\\admin\\Documents\\GitHub\\QCoDeS_local\\init_database_v2.py</a>"
      ],
      "text/plain": [
       "<IPython.core.display.HTML object>"
      ]
     },
     "metadata": {},
     "output_type": "display_data"
    },
    {
     "data": {
      "text/html": [
       "init_fridge_py_path:<br><a href=\"file://C:\\Users\\admin\\Documents\\GitHub\\QCoDeS_local\\init_fridge_v2.py\" target=\"_blank\">C:\\Users\\admin\\Documents\\GitHub\\QCoDeS_local\\init_fridge_v2.py</a>"
      ],
      "text/plain": [
       "<IPython.core.display.HTML object>"
      ]
     },
     "metadata": {},
     "output_type": "display_data"
    },
    {
     "data": {
      "text/html": [
       "init_BF1_path:<br><a href=\"file://C:\\Users\\admin\\Documents\\GitHub\\QCoDeS_local\\fridge_specific\\init_BF1_v2.py\" target=\"_blank\">C:\\Users\\admin\\Documents\\GitHub\\QCoDeS_local\\fridge_specific\\init_BF1_v2.py</a>"
      ],
      "text/plain": [
       "<IPython.core.display.HTML object>"
      ]
     },
     "metadata": {},
     "output_type": "display_data"
    }
   ],
   "source": [
    "def get_qcodes_local_path(PC_name = \"116-1\"):\n",
    "    \"\"\"\n",
    "    根據選擇的代號獲取對應的路徑。\n",
    "\n",
    "    參數:\n",
    "    PC_name (str): 電腦的代號, P6F-1, P6f-2, 116-1, 116-2, Albert-Mac\n",
    "\n",
    "    返回:\n",
    "    str: 對應的路徑，如果代號不存在則返回 None\n",
    "\n",
    "    \"\"\"\n",
    "    # 定義代號到路徑的映射\n",
    "    qcodes_local_dir_dict = {\n",
    "        \"116-1\": \"C:\\\\Users\\\\admin\\\\Documents\\\\GitHub\\\\QCoDeS_local\",\n",
    "        \"116-2\": \"C:\\\\Users\\\\quant\\\\OneDrive\\\\Documents\\\\GitHub\\\\QCoDeS_local\",\n",
    "        \"P6F-1\": \"C:\\\\Users\\\\admin\\\\Documents\\\\GitHub\\\\QCoDeS_local\",\n",
    "        \"P6f-2\": \"C:\\\\Users\\\\Ke Lab\\\\Documents\\\\GitHub\\\\QCoDeS_local\",\n",
    "        \"Albert-Mac\": \"/Users/albert-mac/Code/GitHub/QCoDeS_local\"\n",
    "    }\n",
    "\n",
    "    # 報錯: 未找到對應的路徑\n",
    "    if PC_name not in qcodes_local_dir_dict:\n",
    "        raise ValueError(f\"未找到代號 {PC_name} 對應的路徑, 請輸入以下代號之一: {', '.join(qcodes_local_dir_dict.keys())}\")\n",
    "    \n",
    "    # 根據代號獲取對應的路徑\n",
    "    return qcodes_local_dir_dict.get(PC_name)\n",
    "\n",
    "def find_init_file(file_name, PC_name=\"116-1\"):\n",
    "    qcodes_local_path = get_qcodes_local_path(PC_name)\n",
    "    if qcodes_local_path:\n",
    "        for root, dirs, files in os.walk(qcodes_local_path):\n",
    "            if file_name in files:\n",
    "                return os.path.join(root, file_name)\n",
    "    return None\n",
    "\n",
    "\n",
    "def path_display(paths):\n",
    "    for name, file_path in paths.items():\n",
    "        if file_path:\n",
    "            display(HTML(f'{name}:<br><a href=\"file://{file_path}\" target=\"_blank\">{file_path}</a>'))\n",
    "        else:\n",
    "            print(f\"{name}: {file_path} not found\")\n",
    "\n",
    "# 使用字典來存放變數名及其值\n",
    "paths = {\n",
    "    'qcodes_local_path': get_qcodes_local_path(\"116-1\"),\n",
    "    'init_database_py_path': find_init_file('init_database_v2.py'),\n",
    "    'init_fridge_py_path': find_init_file('init_fridge_v2.py'),\n",
    "    'init_BF1_path': find_init_file('init_BF1_v2.py')\n",
    "}\n",
    "\n",
    "# 調用 path_display 函數\n",
    "path_display(paths)"
   ]
  },
  {
   "cell_type": "code",
   "execution_count": 3,
   "metadata": {},
   "outputs": [
    {
     "name": "stdout",
     "output_type": "stream",
     "text": [
      "Found init_BF1_v2.py at: c:\\Users\\admin\\Documents\\GitHub\\QCoDeS_local\\fridge_specific\\init_BF1_v2.py\n",
      "Device: TCPIP0::K-E5080B-02870::inst0::INSTR\n",
      "IDN: Keysight Technologies,E5080B,MY59202870,A.15.10.08\n",
      "\n",
      "Error connecting to ASRL1::INSTR: VI_ERROR_TMO (-1073807339): Timeout expired before operation completed.\n",
      "Device: GPIB0::7::INSTR\n",
      "IDN: KEITHLEY INSTRUMENTS,MODEL DMM6500,04518181,1.7.7b\n",
      "\n",
      "Connected to: KEITHLEY INSTRUMENTS DMM6500 (serial:04518181, firmware:1.7.7b) in 0.02s\n",
      "Added Keithley DMM6500 at GPIB0::7::INSTR to the station.\n",
      "Device: GPIB0::22::INSTR\n",
      "IDN: KEITHLEY INSTRUMENTS INC.,MODEL 2440,1225508,C30   Mar 17 2006 09:29:29/A02  /B/A\n",
      "\n",
      "Connected to: KEITHLEY INSTRUMENTS INC. 2440 (serial:1225508, firmware:C30   Mar 17 2006 09:29:29/A02  /B/A) in 0.03s\n"
     ]
    },
    {
     "name": "stderr",
     "output_type": "stream",
     "text": [
      "[K2440(Keithley2400)] Snapshot: Could not update parameter: volt\n",
      "[K2440(Keithley2400)] Snapshot: Could not update parameter: curr\n",
      "[K2440(Keithley2400)] Snapshot: Could not update parameter: resistance\n"
     ]
    },
    {
     "name": "stdout",
     "output_type": "stream",
     "text": [
      "Connected to: AMERICAN MAGNETICS INC. 430 (serial:430-22-114, firmware:3.15) in 2.03s\n",
      "Connected to: AMERICAN MAGNETICS INC. 430 (serial:430-22-113, firmware:3.15) in 1.20s\n",
      "Connected to: AMERICAN MAGNETICS INC. 430 (serial:430-22-111, firmware:3.15) in 1.04s\n",
      "z, IP: 169.254.115.3, Port: 7180\n",
      "y, IP: 169.254.115.2, Port: 7180\n",
      "x, IP: 169.254.115.1, Port: 7180\n"
     ]
    },
    {
     "name": "stderr",
     "output_type": "stream",
     "text": [
      "C:\\Users\\admin\\AppData\\Roaming\\Python\\Python39\\site-packages\\qcodes\\instrument\\instrument_base.py:543: UserWarning: Changed AMI430-3D to AMI430_3D for instrument identifier\n",
      "  warnings.warn(f\"Changed {name} to {new_name} for instrument identifier\")\n"
     ]
    },
    {
     "name": "stdout",
     "output_type": "stream",
     "text": [
      "Added z to the station.\n",
      "Added y to the station.\n",
      "Added x to the station.\n",
      "Added AMI430_3D to the station.\n",
      "\n",
      "Station list:\n",
      "{'AMI430_3D': <AMI430_3D: AMI430_3D>,\n",
      " 'DMM6500': <Keithley_6500: DMM6500>,\n",
      " 'K2440': <Keithley2400: K2440>,\n",
      " 'x': <AMI430: x>,\n",
      " 'y': <AMI430: y>,\n",
      " 'z': <AMI430: z>}\n"
     ]
    }
   ],
   "source": [
    "fridge_name = 'BF1'\n",
    "%run {paths[\"init_fridge_py_path\"]} {fridge_name}"
   ]
  },
  {
   "cell_type": "code",
   "execution_count": 4,
   "metadata": {},
   "outputs": [
    {
     "name": "stdout",
     "output_type": "stream",
     "text": [
      "Creating a new database file:\n",
      "c:\\Users\\admin\\Documents\\GitHub\\QCoDeS_local\\personal_scripts\\Albert\\024-1Shankar\\024-1Shankar_2024-08-26_01.db\n"
     ]
    }
   ],
   "source": [
    "reuse = True\n",
    "%run {paths[\"init_database_py_path\"]} {reuse}"
   ]
  },
  {
   "cell_type": "code",
   "execution_count": 7,
   "metadata": {},
   "outputs": [
    {
     "data": {
      "text/plain": [
       "'Gain_L2'"
      ]
     },
     "execution_count": 7,
     "metadata": {},
     "output_type": "execute_result"
    }
   ],
   "source": [
    "Irange = Parameter('Irange', label='current range', unit='', set_cmd=None, get_cmd=None)\n",
    "Vrange = Parameter('Vrange', label='voltage range', unit='', set_cmd=None, get_cmd=None)\n",
    "TGrange = Parameter('TGrange', label='Top gate range', unit='', set_cmd=None, get_cmd=None)\n",
    "\n",
    "#division paraemtrs required for simplier update: they used as an argument for scaled paraemtrs of sorce instruments\n",
    "\n",
    "Irange_division = Parameter('Irange_division', \n",
    "                            label='scaled current range', unit='', \n",
    "                            set_cmd=None, get_cmd=lambda : 1 / Irange())\n",
    "\n",
    "Vrange_division = Parameter('Vrange_division', \n",
    "                            label='scaled voltage range', unit='', \n",
    "                            set_cmd=None, get_cmd=lambda : 1 / Vrange())\n",
    "\n",
    "TGrange_division = Parameter('TGrange_division', \n",
    "                             label='scaled Top gate range', unit='', \n",
    "                             set_cmd=None, get_cmd=lambda : 1 / TGrange())\n",
    "\n",
    "Irange_AC_division = Parameter('Irange_AC_division', \n",
    "                               label='scaled current range for lockin', unit='', \n",
    "                               set_cmd=None, get_cmd=lambda : 1 / Irange())\n",
    "\n",
    "Vrange_AC_division = Parameter('Vrange_AC_division', \n",
    "                               label='scaled voltage range for lockin', unit='', \n",
    "                               set_cmd=None, get_cmd=lambda : 1 / Vrange())\n",
    "\n",
    "Gain_K1 = Parameter('Gain_K1', label='Gain K1', unit='', set_cmd=None, get_cmd=None)\n",
    "Gain_K2 = Parameter('Gain_K2', label='Gain K2', unit='', set_cmd=None, get_cmd=None)\n",
    "Gain_L1 = Parameter('Gain_L1', label='Gain L1', unit='', set_cmd=None, get_cmd=None)\n",
    "Gain_L2 = Parameter('Gain_L2', label='Gain L2', unit='', set_cmd=None, get_cmd=None)\n",
    "\n",
    "#Add components\n",
    "station.add_component(Irange)\n",
    "station.add_component(Vrange)\n",
    "station.add_component(TGrange)\n",
    "\n",
    "station.add_component(Irange_division)\n",
    "station.add_component(Vrange_division)\n",
    "station.add_component(TGrange_division)\n",
    "\n",
    "station.add_component(Irange_AC_division)\n",
    "station.add_component(Vrange_AC_division)\n",
    "                             \n",
    "station.add_component(Gain_K1)\n",
    "station.add_component(Gain_K2)\n",
    "station.add_component(Gain_L1)\n",
    "station.add_component(Gain_L2)"
   ]
  },
  {
   "cell_type": "code",
   "execution_count": 103,
   "metadata": {},
   "outputs": [],
   "source": [
    "Irange.set(1e-7) #Unit Amp V=IR, 1V= 1e-6 x 1MOhm=1e-7 x 10MOhm\n",
    "Vrange.set(10) ## need to be sync with K213 range #Unit Volt\n",
    "TGrange.set(1) #Unit Volt\n",
    "Gain_K1.set(100)\n",
    "Gain_K2.set(100)\n",
    "# Gain_K3.set(1e2)\n",
    "Gain_L1.set(Gain_K1())\n",
    "Gain_L2.set(Gain_K2())\n",
    "#division parameters are updated automatically"
   ]
  },
  {
   "cell_type": "code",
   "execution_count": 9,
   "metadata": {},
   "outputs": [
    {
     "data": {
      "text/plain": [
       "'meas_leakage'"
      ]
     },
     "execution_count": 9,
     "metadata": {},
     "output_type": "execute_result"
    }
   ],
   "source": [
    "appl_current = ScaledParameter(K2440.volt, division = Irange_division, name = 'appl_current', unit = 'A')\n",
    "meas_voltage_K2 = ScaledParameter(DMM6500.amplitude, division = Gain_K2, name = 'meas_voltage_K2', unit = 'V')\n",
    "meas_current_K2 = ScaledParameter(DMM6500.amplitude, division = Gain_K2, name = 'meas_current_K2', unit = 'A')\n",
    "meas_leakage = ScaledParameter(DMM6500.amplitude, division = Gain_K2, name = 'meas_leakage', unit = 'A')\n",
    "station.add_component(appl_current)\n",
    "station.add_component(meas_voltage_K2)\n",
    "station.add_component(meas_current_K2)\n",
    "station.add_component(meas_leakage)"
   ]
  },
  {
   "cell_type": "code",
   "execution_count": 10,
   "metadata": {},
   "outputs": [],
   "source": [
    "def get_R_from_IV(dataid):\n",
    "    dataset = qc.load_by_id(dataid)\n",
    "\n",
    "    voltage = dataset.get_parameter_data()['meas_voltage_K2']['meas_voltage_K2']\n",
    "    current = dataset.get_parameter_data()['meas_voltage_K2']['appl_current']\n",
    "    fit_values = np.polyfit(current,voltage,1)\n",
    "    \n",
    "    return fit_values[0]\n",
    "\n",
    "def get_R_from_IV_2(dataid):\n",
    "    dataset = qc.load_by_id(dataid)\n",
    "\n",
    "    voltage = dataset.get_parameter_data()['meas_voltage_K2']['meas_voltage_K2']\n",
    "    current = dataset.get_parameter_data()['meas_voltage_K2']['appl_current']\n",
    "    fit_values = np.polyfit(current,voltage,1)\n",
    "    \n",
    "    return fit_values[0]"
   ]
  },
  {
   "cell_type": "code",
   "execution_count": 109,
   "metadata": {},
   "outputs": [
    {
     "data": {
      "text/plain": [
       "0.21"
      ]
     },
     "execution_count": 109,
     "metadata": {},
     "output_type": "execute_result"
    }
   ],
   "source": [
    "K2440.rangev()\n",
    "# K2440.output(1)\n",
    "# K2440.volt()\n"
   ]
  },
  {
   "cell_type": "code",
   "execution_count": 33,
   "metadata": {},
   "outputs": [],
   "source": [
    "DMM6500.averaging_enabled(False)"
   ]
  },
  {
   "cell_type": "code",
   "execution_count": 29,
   "metadata": {},
   "outputs": [],
   "source": [
    "DMM6500.averaging_count(5)"
   ]
  },
  {
   "cell_type": "code",
   "execution_count": 18,
   "metadata": {},
   "outputs": [
    {
     "data": {
      "text/plain": [
       "0.059999388"
      ]
     },
     "execution_count": 18,
     "metadata": {},
     "output_type": "execute_result"
    }
   ],
   "source": [
    "magnet_x.field(60e-3)\n",
    "magnet_x.field()"
   ]
  },
  {
   "cell_type": "code",
   "execution_count": 86,
   "metadata": {},
   "outputs": [
    {
     "data": {
      "text/plain": [
       "2.91e-07"
      ]
     },
     "execution_count": 86,
     "metadata": {},
     "output_type": "execute_result"
    }
   ],
   "source": [
    "# magnet_x.field(40e-3)\n",
    "magnet_x.field()"
   ]
  },
  {
   "cell_type": "code",
   "execution_count": 85,
   "metadata": {},
   "outputs": [
    {
     "data": {
      "text/plain": [
       "9.7e-08"
      ]
     },
     "execution_count": 85,
     "metadata": {},
     "output_type": "execute_result"
    }
   ],
   "source": [
    "# magnet_y.field(1e-3)\n",
    "magnet_y.field()"
   ]
  },
  {
   "cell_type": "code",
   "execution_count": 113,
   "metadata": {},
   "outputs": [
    {
     "name": "stdout",
     "output_type": "stream",
     "text": [
      "Starting experimental run with id: 35. \n"
     ]
    },
    {
     "name": "stderr",
     "output_type": "stream",
     "text": [
      "100%|██████████| 107/107 [00:28<00:00,  3.80it/s]\n",
      "Trying to mark a run completed that was already completed.\n"
     ]
    },
    {
     "data": {
      "application/vnd.plotly.v1+json": {
       "config": {
        "plotlyServerURL": "https://plot.ly"
       },
       "data": [
        {
         "mode": "lines",
         "name": "IV",
         "type": "scatter",
         "x": [
          -2.1e-8,
          -2.06037735849057e-8,
          -2.02075471698113e-8,
          -1.9811320754717e-8,
          -1.94150943396226e-8,
          -1.90188679245283e-8,
          -1.8622641509434e-8,
          -1.82264150943396e-8,
          -1.78301886792453e-8,
          -1.74339622641509e-8,
          -1.70377358490566e-8,
          -1.66415094339623e-8,
          -1.62452830188679e-8,
          -1.58490566037736e-8,
          -1.54528301886792e-8,
          -1.50566037735849e-8,
          -1.46603773584906e-8,
          -1.42641509433962e-8,
          -1.38679245283019e-8,
          -1.34716981132075e-8,
          -1.30754716981132e-8,
          -1.26792452830189e-8,
          -1.22830188679245e-8,
          -1.18867924528302e-8,
          -1.14905660377358e-8,
          -1.10943396226415e-8,
          -1.06981132075472e-8,
          -1.03018867924528e-8,
          -9.90566037735849e-9,
          -9.50943396226415e-9,
          -9.11320754716981e-9,
          -8.71698113207547e-9,
          -8.32075471698113e-9,
          -7.92452830188679e-9,
          -7.52830188679245e-9,
          -7.13207547169811e-9,
          -6.73584905660377e-9,
          -6.33962264150943e-9,
          -5.94339622641509e-9,
          -5.54716981132076e-9,
          -5.15094339622642e-9,
          -4.75471698113207e-9,
          -4.35849056603773e-9,
          -3.9622641509434e-9,
          -3.56603773584906e-9,
          -3.16981132075472e-9,
          -2.77358490566038e-9,
          -2.37735849056604e-9,
          -1.9811320754717e-9,
          -1.58490566037736e-9,
          -1.18867924528302e-9,
          -7.92452830188678e-10,
          -3.96226415094337e-10,
          0,
          3.96226415094341e-10,
          7.92452830188681e-10,
          1.18867924528302e-9,
          1.58490566037736e-9,
          1.9811320754717e-9,
          2.37735849056604e-9,
          2.77358490566038e-9,
          3.16981132075472e-9,
          3.56603773584906e-9,
          3.9622641509434e-9,
          4.35849056603774e-9,
          4.75471698113208e-9,
          5.15094339622642e-9,
          5.54716981132076e-9,
          5.9433962264151e-9,
          6.33962264150944e-9,
          6.73584905660377e-9,
          7.13207547169812e-9,
          7.52830188679246e-9,
          7.92452830188679e-9,
          8.32075471698113e-9,
          8.71698113207547e-9,
          9.11320754716981e-9,
          9.50943396226415e-9,
          9.90566037735849e-9,
          1.03018867924528e-8,
          1.06981132075472e-8,
          1.10943396226415e-8,
          1.14905660377359e-8,
          1.18867924528302e-8,
          1.22830188679245e-8,
          1.26792452830189e-8,
          1.30754716981132e-8,
          1.34716981132076e-8,
          1.38679245283019e-8,
          1.42641509433962e-8,
          1.46603773584906e-8,
          1.50566037735849e-8,
          1.54528301886792e-8,
          1.58490566037736e-8,
          1.62452830188679e-8,
          1.66415094339623e-8,
          1.70377358490566e-8,
          1.74339622641509e-8,
          1.78301886792453e-8,
          1.82264150943396e-8,
          1.8622641509434e-8,
          1.90188679245283e-8,
          1.94150943396226e-8,
          1.9811320754717e-8,
          2.02075471698113e-8,
          2.06037735849057e-8,
          2.1e-8
         ],
         "y": [
          -6.977638e-7,
          -6.766052e-7,
          -6.659566e-7,
          -6.450037e-7,
          -6.195686e-7,
          -6.067155e-7,
          -5.693047e-7,
          -5.529679e-7,
          -5.644949e-7,
          -5.708782e-7,
          -5.688916e-7,
          -5.804096e-7,
          -5.223725e-7,
          -5.025818e-7,
          -4.93193e-7,
          -4.960509e-7,
          -4.666434e-7,
          -5.002409e-7,
          -4.930019e-7,
          -4.796959e-7,
          -4.395124e-7,
          -4.250888e-7,
          -4.000566e-7,
          -3.804894e-7,
          -4.125313e-7,
          -4.24094e-7,
          -3.731988e-7,
          -3.60158e-7,
          -3.239291e-7,
          -3.033665e-7,
          -2.920811e-7,
          -2.868988e-7,
          -3.186903e-7,
          -2.931271e-7,
          -2.811133e-7,
          -2.648122e-7,
          -2.423931e-7,
          -2.276774e-7,
          -1.909022e-7,
          -2.26228e-7,
          -2.336395e-7,
          -1.911525e-7,
          -1.894294e-7,
          -1.787577e-7,
          -1.36822e-7,
          -1.465073e-7,
          -1.396809e-7,
          -1.22751e-7,
          -1.373087e-7,
          -1.048914e-7,
          -1.063712e-7,
          -8.475067e-8,
          -7.574486e-8,
          -7.388827e-8,
          -6.270163e-8,
          -4.179636e-8,
          -3.138739e-9,
          7.297508e-9,
          7.234778e-9,
          2.609691e-9,
          5.176613e-8,
          4.720959e-8,
          7.810296e-8,
          9.771487e-8,
          9.033917e-8,
          9.045241e-8,
          9.618544e-8,
          1.028012e-7,
          1.161252e-7,
          1.499521e-7,
          1.599779e-7,
          2.224702e-7,
          1.717403e-7,
          1.986803e-7,
          2.171597e-7,
          2.349537e-7,
          2.518061e-7,
          2.83836e-7,
          2.74346e-7,
          2.78694e-7,
          3.082415e-7,
          3.138679e-7,
          3.692208e-7,
          3.752764e-7,
          3.585521e-7,
          3.420395e-7,
          3.586251e-7,
          3.888044e-7,
          4.000632e-7,
          4.127256e-7,
          4.036827e-7,
          3.861657e-7,
          4.008248e-7,
          4.37906e-7,
          4.434589e-7,
          4.861129e-7,
          5.068841e-7,
          5.230004e-7,
          5.11813e-7,
          5.075128e-7,
          5.02694e-7,
          5.53114e-7,
          5.758495e-7,
          5.737009e-7,
          5.899543e-7,
          5.926542e-7,
          5.944889e-7
         ]
        },
        {
         "mode": "lines",
         "name": "dV/dI",
         "type": "scatter",
         "x": [
          -2.1e-8,
          -2.06037735849057e-8,
          -2.02075471698113e-8,
          -1.9811320754717e-8,
          -1.94150943396226e-8,
          -1.90188679245283e-8,
          -1.8622641509434e-8,
          -1.82264150943396e-8,
          -1.78301886792453e-8,
          -1.74339622641509e-8,
          -1.70377358490566e-8,
          -1.66415094339623e-8,
          -1.62452830188679e-8,
          -1.58490566037736e-8,
          -1.54528301886792e-8,
          -1.50566037735849e-8,
          -1.46603773584906e-8,
          -1.42641509433962e-8,
          -1.38679245283019e-8,
          -1.34716981132075e-8,
          -1.30754716981132e-8,
          -1.26792452830189e-8,
          -1.22830188679245e-8,
          -1.18867924528302e-8,
          -1.14905660377358e-8,
          -1.10943396226415e-8,
          -1.06981132075472e-8,
          -1.03018867924528e-8,
          -9.90566037735849e-9,
          -9.50943396226415e-9,
          -9.11320754716981e-9,
          -8.71698113207547e-9,
          -8.32075471698113e-9,
          -7.92452830188679e-9,
          -7.52830188679245e-9,
          -7.13207547169811e-9,
          -6.73584905660377e-9,
          -6.33962264150943e-9,
          -5.94339622641509e-9,
          -5.54716981132076e-9,
          -5.15094339622642e-9,
          -4.75471698113207e-9,
          -4.35849056603773e-9,
          -3.9622641509434e-9,
          -3.56603773584906e-9,
          -3.16981132075472e-9,
          -2.77358490566038e-9,
          -2.37735849056604e-9,
          -1.9811320754717e-9,
          -1.58490566037736e-9,
          -1.18867924528302e-9,
          -7.92452830188678e-10,
          -3.96226415094337e-10,
          0,
          3.96226415094341e-10,
          7.92452830188681e-10,
          1.18867924528302e-9,
          1.58490566037736e-9,
          1.9811320754717e-9,
          2.37735849056604e-9,
          2.77358490566038e-9,
          3.16981132075472e-9,
          3.56603773584906e-9,
          3.9622641509434e-9,
          4.35849056603774e-9,
          4.75471698113208e-9,
          5.15094339622642e-9,
          5.54716981132076e-9,
          5.9433962264151e-9,
          6.33962264150944e-9,
          6.73584905660377e-9,
          7.13207547169812e-9,
          7.52830188679246e-9,
          7.92452830188679e-9,
          8.32075471698113e-9,
          8.71698113207547e-9,
          9.11320754716981e-9,
          9.50943396226415e-9,
          9.90566037735849e-9,
          1.03018867924528e-8,
          1.06981132075472e-8,
          1.10943396226415e-8,
          1.14905660377359e-8,
          1.18867924528302e-8,
          1.22830188679245e-8,
          1.26792452830189e-8,
          1.30754716981132e-8,
          1.34716981132076e-8,
          1.38679245283019e-8,
          1.42641509433962e-8,
          1.46603773584906e-8,
          1.50566037735849e-8,
          1.54528301886792e-8,
          1.58490566037736e-8,
          1.62452830188679e-8,
          1.66415094339623e-8,
          1.70377358490566e-8,
          1.74339622641509e-8,
          1.78301886792453e-8,
          1.82264150943396e-8,
          1.8622641509434e-8,
          1.90188679245283e-8,
          1.94150943396226e-8,
          1.9811320754717e-8,
          2.02075471698113e-8,
          2.06037735849057e-8,
          2.1e-8
         ],
         "y": [
          53.400276190481314,
          26.875038095234146,
          52.88112857143397,
          64.19334761903797,
          32.438776190479444,
          94.41773333334244,
          41.230971428565226,
          -29.09195238095552,
          -16.110233333330974,
          5.013800000000577,
          -29.069238095240895,
          146.47458571426338,
          49.947957142862286,
          23.695542857139223,
          -7.2127952380958575,
          74.21892857143577,
          -84.79369047617793,
          18.269857142859003,
          33.581809523804395,
          101.41550000001025,
          36.40241904762268,
          63.17650476189509,
          49.38388571429079,
          -80.86765238094009,
          -29.1820523809553,
          128.44979047620293,
          32.91249523809022,
          91.43484285714997,
          51.89608571428552,
          28.482199999999878,
          13.079138095238191,
          -80.23569047619023,
          64.51664761904769,
          30.32054285714273,
          41.14087142857148,
          56.581538095237896,
          37.13962380952381,
          92.81359999999995,
          -89.15559047619267,
          -18.705214285714238,
          107.22909523809251,
          4.348776190476223,
          26.933338095238764,
          105.83771904761885,
          -24.443852380952347,
          17.228533333333342,
          42.72784285714277,
          -36.74086190476186,
          81.81509047619035,
          -3.7347333333333292,
          54.56609952380922,
          22.72894904761895,
          4.685679523809545,
          28.232948571428498,
          52.76091952380946,
          97.56447204761922,
          26.339099571428545,
          -0.15831857142856975,
          -11.672838619047615,
          124.06148890476172,
          -11.499839047619037,
          77.96898142857131,
          49.49672523809519,
          -18.61486190476192,
          0.2857961904762058,
          14.469075714285722,
          16.696918095238054,
          33.62723809523807,
          85.37265238095237,
          25.303209523810153,
          157.7186619047575,
          -128.03260476190468,
          67.9914285714301,
          46.63848571428576,
          44.90866666666657,
          42.53224761904774,
          80.83736666666636,
          -23.950952380952224,
          10.97352380952467,
          74.57226190475046,
          14.199961904763281,
          139.70017619045547,
          15.283180952382487,
          -42.208947619052026,
          -41.67465714285075,
          41.85889523809931,
          76.16680476189319,
          28.415066666669556,
          31.957485714288786,
          -22.82255714285366,
          -44.20957142857584,
          36.99677619047985,
          93.58588571427134,
          14.01446190476347,
          107.65057142855493,
          52.42255238095752,
          40.674471428575366,
          -28.234866666662423,
          -10.85288571428684,
          -12.161733333331343,
          127.25047619048861,
          57.38007142857713,
          -5.422657142856464,
          41.02048571429007,
          6.814033333332423,
          4.630433333333552,
          null
         ],
         "yaxis": "y2"
        },
        {
         "line": {
          "dash": "dash"
         },
         "mode": "lines",
         "name": "Peak0",
         "type": "scatter",
         "x": [
          -1.34716981132075e-8,
          -1.34716981132075e-8
         ],
         "y": [
          -128.03260476190468,
          157.7186619047575
         ],
         "yaxis": "y2"
        },
        {
         "line": {
          "dash": "dash"
         },
         "mode": "lines",
         "name": "Peak1",
         "type": "scatter",
         "x": [
          -1.10943396226415e-8,
          -1.10943396226415e-8
         ],
         "y": [
          -128.03260476190468,
          157.7186619047575
         ],
         "yaxis": "y2"
        },
        {
         "line": {
          "dash": "dash"
         },
         "mode": "lines",
         "name": "I_0",
         "type": "scatter",
         "x": [
          0,
          0
         ],
         "y": [
          -128.03260476190468,
          157.7186619047575
         ],
         "yaxis": "y2"
        },
        {
         "line": {
          "dash": "dash"
         },
         "mode": "lines",
         "name": "Ic",
         "type": "scatter",
         "x": [
          0,
          -1.10943396226415e-8
         ],
         "y": [
          0,
          0
         ]
        },
        {
         "line": {
          "dash": "dash"
         },
         "mode": "lines",
         "name": "Ir",
         "type": "scatter",
         "x": [
          0,
          -1.34716981132075e-8
         ],
         "y": [
          0,
          0
         ]
        },
        {
         "line": {
          "dash": "dash"
         },
         "mode": "lines",
         "name": "R_fit",
         "type": "scatter",
         "x": [
          -2.1e-8,
          2.1e-8
         ],
         "y": [
          -6.366105170583899e-7,
          6.366105170583899e-7
         ]
        }
       ],
       "layout": {
        "annotations": [
         {
          "align": "right",
          "bgcolor": "#ff7f0e",
          "font": {
           "color": "#ffffff",
           "size": 16
          },
          "opacity": 0.8,
          "showarrow": false,
          "text": "Ic = -0.011µA, Ir = 0.013µA ,IcRn = -0.336 µV",
          "x": 1,
          "xref": "paper",
          "y": 1,
          "yref": "paper"
         }
        ],
        "height": 1000,
        "legend": {
         "orientation": "h",
         "x": 0.5,
         "xanchor": "center",
         "y": 1.03,
         "yanchor": "top"
        },
        "margin": {
         "b": 10,
         "l": 10,
         "r": 10,
         "t": 50
        },
        "template": {
         "data": {
          "bar": [
           {
            "error_x": {
             "color": "#2a3f5f"
            },
            "error_y": {
             "color": "#2a3f5f"
            },
            "marker": {
             "line": {
              "color": "#E5ECF6",
              "width": 0.5
             },
             "pattern": {
              "fillmode": "overlay",
              "size": 10,
              "solidity": 0.2
             }
            },
            "type": "bar"
           }
          ],
          "barpolar": [
           {
            "marker": {
             "line": {
              "color": "#E5ECF6",
              "width": 0.5
             },
             "pattern": {
              "fillmode": "overlay",
              "size": 10,
              "solidity": 0.2
             }
            },
            "type": "barpolar"
           }
          ],
          "carpet": [
           {
            "aaxis": {
             "endlinecolor": "#2a3f5f",
             "gridcolor": "white",
             "linecolor": "white",
             "minorgridcolor": "white",
             "startlinecolor": "#2a3f5f"
            },
            "baxis": {
             "endlinecolor": "#2a3f5f",
             "gridcolor": "white",
             "linecolor": "white",
             "minorgridcolor": "white",
             "startlinecolor": "#2a3f5f"
            },
            "type": "carpet"
           }
          ],
          "choropleth": [
           {
            "colorbar": {
             "outlinewidth": 0,
             "ticks": ""
            },
            "type": "choropleth"
           }
          ],
          "contour": [
           {
            "colorbar": {
             "outlinewidth": 0,
             "ticks": ""
            },
            "colorscale": [
             [
              0,
              "#0d0887"
             ],
             [
              0.1111111111111111,
              "#46039f"
             ],
             [
              0.2222222222222222,
              "#7201a8"
             ],
             [
              0.3333333333333333,
              "#9c179e"
             ],
             [
              0.4444444444444444,
              "#bd3786"
             ],
             [
              0.5555555555555556,
              "#d8576b"
             ],
             [
              0.6666666666666666,
              "#ed7953"
             ],
             [
              0.7777777777777778,
              "#fb9f3a"
             ],
             [
              0.8888888888888888,
              "#fdca26"
             ],
             [
              1,
              "#f0f921"
             ]
            ],
            "type": "contour"
           }
          ],
          "contourcarpet": [
           {
            "colorbar": {
             "outlinewidth": 0,
             "ticks": ""
            },
            "type": "contourcarpet"
           }
          ],
          "heatmap": [
           {
            "colorbar": {
             "outlinewidth": 0,
             "ticks": ""
            },
            "colorscale": [
             [
              0,
              "#0d0887"
             ],
             [
              0.1111111111111111,
              "#46039f"
             ],
             [
              0.2222222222222222,
              "#7201a8"
             ],
             [
              0.3333333333333333,
              "#9c179e"
             ],
             [
              0.4444444444444444,
              "#bd3786"
             ],
             [
              0.5555555555555556,
              "#d8576b"
             ],
             [
              0.6666666666666666,
              "#ed7953"
             ],
             [
              0.7777777777777778,
              "#fb9f3a"
             ],
             [
              0.8888888888888888,
              "#fdca26"
             ],
             [
              1,
              "#f0f921"
             ]
            ],
            "type": "heatmap"
           }
          ],
          "heatmapgl": [
           {
            "colorbar": {
             "outlinewidth": 0,
             "ticks": ""
            },
            "colorscale": [
             [
              0,
              "#0d0887"
             ],
             [
              0.1111111111111111,
              "#46039f"
             ],
             [
              0.2222222222222222,
              "#7201a8"
             ],
             [
              0.3333333333333333,
              "#9c179e"
             ],
             [
              0.4444444444444444,
              "#bd3786"
             ],
             [
              0.5555555555555556,
              "#d8576b"
             ],
             [
              0.6666666666666666,
              "#ed7953"
             ],
             [
              0.7777777777777778,
              "#fb9f3a"
             ],
             [
              0.8888888888888888,
              "#fdca26"
             ],
             [
              1,
              "#f0f921"
             ]
            ],
            "type": "heatmapgl"
           }
          ],
          "histogram": [
           {
            "marker": {
             "pattern": {
              "fillmode": "overlay",
              "size": 10,
              "solidity": 0.2
             }
            },
            "type": "histogram"
           }
          ],
          "histogram2d": [
           {
            "colorbar": {
             "outlinewidth": 0,
             "ticks": ""
            },
            "colorscale": [
             [
              0,
              "#0d0887"
             ],
             [
              0.1111111111111111,
              "#46039f"
             ],
             [
              0.2222222222222222,
              "#7201a8"
             ],
             [
              0.3333333333333333,
              "#9c179e"
             ],
             [
              0.4444444444444444,
              "#bd3786"
             ],
             [
              0.5555555555555556,
              "#d8576b"
             ],
             [
              0.6666666666666666,
              "#ed7953"
             ],
             [
              0.7777777777777778,
              "#fb9f3a"
             ],
             [
              0.8888888888888888,
              "#fdca26"
             ],
             [
              1,
              "#f0f921"
             ]
            ],
            "type": "histogram2d"
           }
          ],
          "histogram2dcontour": [
           {
            "colorbar": {
             "outlinewidth": 0,
             "ticks": ""
            },
            "colorscale": [
             [
              0,
              "#0d0887"
             ],
             [
              0.1111111111111111,
              "#46039f"
             ],
             [
              0.2222222222222222,
              "#7201a8"
             ],
             [
              0.3333333333333333,
              "#9c179e"
             ],
             [
              0.4444444444444444,
              "#bd3786"
             ],
             [
              0.5555555555555556,
              "#d8576b"
             ],
             [
              0.6666666666666666,
              "#ed7953"
             ],
             [
              0.7777777777777778,
              "#fb9f3a"
             ],
             [
              0.8888888888888888,
              "#fdca26"
             ],
             [
              1,
              "#f0f921"
             ]
            ],
            "type": "histogram2dcontour"
           }
          ],
          "mesh3d": [
           {
            "colorbar": {
             "outlinewidth": 0,
             "ticks": ""
            },
            "type": "mesh3d"
           }
          ],
          "parcoords": [
           {
            "line": {
             "colorbar": {
              "outlinewidth": 0,
              "ticks": ""
             }
            },
            "type": "parcoords"
           }
          ],
          "pie": [
           {
            "automargin": true,
            "type": "pie"
           }
          ],
          "scatter": [
           {
            "fillpattern": {
             "fillmode": "overlay",
             "size": 10,
             "solidity": 0.2
            },
            "type": "scatter"
           }
          ],
          "scatter3d": [
           {
            "line": {
             "colorbar": {
              "outlinewidth": 0,
              "ticks": ""
             }
            },
            "marker": {
             "colorbar": {
              "outlinewidth": 0,
              "ticks": ""
             }
            },
            "type": "scatter3d"
           }
          ],
          "scattercarpet": [
           {
            "marker": {
             "colorbar": {
              "outlinewidth": 0,
              "ticks": ""
             }
            },
            "type": "scattercarpet"
           }
          ],
          "scattergeo": [
           {
            "marker": {
             "colorbar": {
              "outlinewidth": 0,
              "ticks": ""
             }
            },
            "type": "scattergeo"
           }
          ],
          "scattergl": [
           {
            "marker": {
             "colorbar": {
              "outlinewidth": 0,
              "ticks": ""
             }
            },
            "type": "scattergl"
           }
          ],
          "scattermapbox": [
           {
            "marker": {
             "colorbar": {
              "outlinewidth": 0,
              "ticks": ""
             }
            },
            "type": "scattermapbox"
           }
          ],
          "scatterpolar": [
           {
            "marker": {
             "colorbar": {
              "outlinewidth": 0,
              "ticks": ""
             }
            },
            "type": "scatterpolar"
           }
          ],
          "scatterpolargl": [
           {
            "marker": {
             "colorbar": {
              "outlinewidth": 0,
              "ticks": ""
             }
            },
            "type": "scatterpolargl"
           }
          ],
          "scatterternary": [
           {
            "marker": {
             "colorbar": {
              "outlinewidth": 0,
              "ticks": ""
             }
            },
            "type": "scatterternary"
           }
          ],
          "surface": [
           {
            "colorbar": {
             "outlinewidth": 0,
             "ticks": ""
            },
            "colorscale": [
             [
              0,
              "#0d0887"
             ],
             [
              0.1111111111111111,
              "#46039f"
             ],
             [
              0.2222222222222222,
              "#7201a8"
             ],
             [
              0.3333333333333333,
              "#9c179e"
             ],
             [
              0.4444444444444444,
              "#bd3786"
             ],
             [
              0.5555555555555556,
              "#d8576b"
             ],
             [
              0.6666666666666666,
              "#ed7953"
             ],
             [
              0.7777777777777778,
              "#fb9f3a"
             ],
             [
              0.8888888888888888,
              "#fdca26"
             ],
             [
              1,
              "#f0f921"
             ]
            ],
            "type": "surface"
           }
          ],
          "table": [
           {
            "cells": {
             "fill": {
              "color": "#EBF0F8"
             },
             "line": {
              "color": "white"
             }
            },
            "header": {
             "fill": {
              "color": "#C8D4E3"
             },
             "line": {
              "color": "white"
             }
            },
            "type": "table"
           }
          ]
         },
         "layout": {
          "annotationdefaults": {
           "arrowcolor": "#2a3f5f",
           "arrowhead": 0,
           "arrowwidth": 1
          },
          "autotypenumbers": "strict",
          "coloraxis": {
           "colorbar": {
            "outlinewidth": 0,
            "ticks": ""
           }
          },
          "colorscale": {
           "diverging": [
            [
             0,
             "#8e0152"
            ],
            [
             0.1,
             "#c51b7d"
            ],
            [
             0.2,
             "#de77ae"
            ],
            [
             0.3,
             "#f1b6da"
            ],
            [
             0.4,
             "#fde0ef"
            ],
            [
             0.5,
             "#f7f7f7"
            ],
            [
             0.6,
             "#e6f5d0"
            ],
            [
             0.7,
             "#b8e186"
            ],
            [
             0.8,
             "#7fbc41"
            ],
            [
             0.9,
             "#4d9221"
            ],
            [
             1,
             "#276419"
            ]
           ],
           "sequential": [
            [
             0,
             "#0d0887"
            ],
            [
             0.1111111111111111,
             "#46039f"
            ],
            [
             0.2222222222222222,
             "#7201a8"
            ],
            [
             0.3333333333333333,
             "#9c179e"
            ],
            [
             0.4444444444444444,
             "#bd3786"
            ],
            [
             0.5555555555555556,
             "#d8576b"
            ],
            [
             0.6666666666666666,
             "#ed7953"
            ],
            [
             0.7777777777777778,
             "#fb9f3a"
            ],
            [
             0.8888888888888888,
             "#fdca26"
            ],
            [
             1,
             "#f0f921"
            ]
           ],
           "sequentialminus": [
            [
             0,
             "#0d0887"
            ],
            [
             0.1111111111111111,
             "#46039f"
            ],
            [
             0.2222222222222222,
             "#7201a8"
            ],
            [
             0.3333333333333333,
             "#9c179e"
            ],
            [
             0.4444444444444444,
             "#bd3786"
            ],
            [
             0.5555555555555556,
             "#d8576b"
            ],
            [
             0.6666666666666666,
             "#ed7953"
            ],
            [
             0.7777777777777778,
             "#fb9f3a"
            ],
            [
             0.8888888888888888,
             "#fdca26"
            ],
            [
             1,
             "#f0f921"
            ]
           ]
          },
          "colorway": [
           "#636efa",
           "#EF553B",
           "#00cc96",
           "#ab63fa",
           "#FFA15A",
           "#19d3f3",
           "#FF6692",
           "#B6E880",
           "#FF97FF",
           "#FECB52"
          ],
          "font": {
           "color": "#2a3f5f"
          },
          "geo": {
           "bgcolor": "white",
           "lakecolor": "white",
           "landcolor": "#E5ECF6",
           "showlakes": true,
           "showland": true,
           "subunitcolor": "white"
          },
          "hoverlabel": {
           "align": "left"
          },
          "hovermode": "closest",
          "mapbox": {
           "style": "light"
          },
          "paper_bgcolor": "white",
          "plot_bgcolor": "#E5ECF6",
          "polar": {
           "angularaxis": {
            "gridcolor": "white",
            "linecolor": "white",
            "ticks": ""
           },
           "bgcolor": "#E5ECF6",
           "radialaxis": {
            "gridcolor": "white",
            "linecolor": "white",
            "ticks": ""
           }
          },
          "scene": {
           "xaxis": {
            "backgroundcolor": "#E5ECF6",
            "gridcolor": "white",
            "gridwidth": 2,
            "linecolor": "white",
            "showbackground": true,
            "ticks": "",
            "zerolinecolor": "white"
           },
           "yaxis": {
            "backgroundcolor": "#E5ECF6",
            "gridcolor": "white",
            "gridwidth": 2,
            "linecolor": "white",
            "showbackground": true,
            "ticks": "",
            "zerolinecolor": "white"
           },
           "zaxis": {
            "backgroundcolor": "#E5ECF6",
            "gridcolor": "white",
            "gridwidth": 2,
            "linecolor": "white",
            "showbackground": true,
            "ticks": "",
            "zerolinecolor": "white"
           }
          },
          "shapedefaults": {
           "line": {
            "color": "#2a3f5f"
           }
          },
          "ternary": {
           "aaxis": {
            "gridcolor": "white",
            "linecolor": "white",
            "ticks": ""
           },
           "baxis": {
            "gridcolor": "white",
            "linecolor": "white",
            "ticks": ""
           },
           "bgcolor": "#E5ECF6",
           "caxis": {
            "gridcolor": "white",
            "linecolor": "white",
            "ticks": ""
           }
          },
          "title": {
           "x": 0.05
          },
          "xaxis": {
           "automargin": true,
           "gridcolor": "white",
           "linecolor": "white",
           "ticks": "",
           "title": {
            "standoff": 15
           },
           "zerolinecolor": "white",
           "zerolinewidth": 2
          },
          "yaxis": {
           "automargin": true,
           "gridcolor": "white",
           "linecolor": "white",
           "ticks": "",
           "title": {
            "standoff": 15
           },
           "zerolinecolor": "white",
           "zerolinewidth": 2
          }
         }
        },
        "title": {
         "font": {
          "size": 25
         },
         "text": "<b>#35 I-V 024-1_11-10-32-33_Bx=-0.0_By=-0.0mT_wait_time=0.15s<br>R_fit=30.3148 Ω",
         "x": 0
        },
        "width": 1000,
        "xaxis": {
         "tickfont": {
          "size": 16
         },
         "title": {
          "font": {
           "size": 20
          },
          "text": "appl_current"
         }
        },
        "yaxis": {
         "tickfont": {
          "size": 16
         },
         "title": {
          "font": {
           "size": 20
          },
          "text": "meas_voltage_K2"
         }
        },
        "yaxis2": {
         "overlaying": "y",
         "side": "right",
         "tickfont": {
          "size": 16
         },
         "title": {
          "font": {
           "size": 20
          },
          "text": "dV/dI"
         }
        }
       }
      }
     },
     "metadata": {},
     "output_type": "display_data"
    },
    {
     "name": "stdout",
     "output_type": "stream",
     "text": [
      "Ic = -0.0110943396226415 µA\n",
      " Ir = 0.0134716981132075 µA\n",
      " R_fit = 30.314786526589998 Ω\n",
      " IcRn = -0.33632253731386613 µV\n",
      " R_fit0 = 29.544555555555565 Ω\n",
      " R_fit1 = 31.08501749762443 Ω\n",
      "\n"
     ]
    },
    {
     "data": {
      "image/png": "[encoded data removed]",
      "text/plain": [
       "<Figure size 640x480 with 1 Axes>"
      ]
     },
     "metadata": {},
     "output_type": "display_data"
    }
   ],
   "source": [
    "I_range=0.021e-6\n",
    "wait_time = 150e-3\n",
    "Bx = round(magnet_x.field() * 1e3, 2)\n",
    "By = round(magnet_y.field() * 1e3, 2)\n",
    "K2440.output(1)\n",
    "appl_current(-I_range)\n",
    "exp = qc.new_experiment('I-V', sample_name=f'024-1_11-10-32-33_{Bx=}_{By=}mT_{wait_time=}s')\n",
    "dataid = do1d(appl_current, -I_range ,I_range, 107, wait_time, meas_voltage_K2)\n",
    "appl_current(0)\n",
    "K2440.output(0)\n",
    "plot_by_id(dataid)\n",
    "get_R_from_IV(dataid)\n",
    "plot_IV_and_dVdI(dataid)\n"
   ]
  },
  {
   "cell_type": "code",
   "execution_count": null,
   "metadata": {},
   "outputs": [],
   "source": []
  },
  {
   "cell_type": "code",
   "execution_count": 56,
   "metadata": {},
   "outputs": [
    {
     "name": "stdout",
     "output_type": "stream",
     "text": [
      "Starting experimental run with id: 8. \n"
     ]
    },
    {
     "name": "stderr",
     "output_type": "stream",
     "text": [
      "first parameter:  52%|█████▏    | 83/161 [19:19<18:09, 13.97s/it]\n",
      "An exception occured in measurement with guid: 49cf2576-0000-0000-0000-01918d518e06;\n",
      "Traceback:\n",
      "Traceback (most recent call last):\n",
      "  File \"c:\\Users\\admin\\Documents\\GitHub\\QCoDeS_local\\sweeps_v2.py\", line 47, in do2d\n",
      "    param_set1.set(set_point1)\n",
      "  File \"C:\\Users\\admin\\AppData\\Roaming\\Python\\Python39\\site-packages\\qcodes\\parameters\\parameter_base.py\", line 623, in set_wrapper\n",
      "    set_function(raw_val_step, **kwargs)\n",
      "  File \"C:\\Users\\admin\\AppData\\Roaming\\Python\\Python39\\site-packages\\qcodes\\parameters\\command.py\", line 209, in __call__\n",
      "    return self.exec_function(*args)\n",
      "  File \"C:\\Users\\admin\\AppData\\Roaming\\Python\\Python39\\site-packages\\qcodes\\instrument_drivers\\american_magnetics\\AMI430.py\", line 353, in set_field\n",
      "    exit_state = self.wait_while_ramping()\n",
      "  File \"C:\\Users\\admin\\AppData\\Roaming\\Python\\Python39\\site-packages\\qcodes\\instrument_drivers\\american_magnetics\\AMI430.py\", line 363, in wait_while_ramping\n",
      "    self._sleep(self.ramping_state_check_interval())\n",
      "  File \"C:\\Users\\admin\\AppData\\Roaming\\Python\\Python39\\site-packages\\qcodes\\instrument_drivers\\american_magnetics\\AMI430.py\", line 278, in _sleep\n",
      "    time.sleep(t)\n",
      "KeyboardInterrupt\n",
      "\n"
     ]
    },
    {
     "ename": "KeyboardInterrupt",
     "evalue": "",
     "output_type": "error",
     "traceback": [
      "\u001b[1;31m---------------------------------------------------------------------------\u001b[0m",
      "\u001b[1;31mKeyboardInterrupt\u001b[0m                         Traceback (most recent call last)",
      "Cell \u001b[1;32mIn[56], line 12\u001b[0m\n\u001b[0;32m      8\u001b[0m direction \u001b[38;5;241m=\u001b[39m \u001b[38;5;124m'\u001b[39m\u001b[38;5;124m-\u001b[39m\u001b[38;5;124m'\u001b[39m \u001b[38;5;28;01mif\u001b[39;00m Bx \u001b[38;5;241m>\u001b[39m \u001b[38;5;241m0\u001b[39m \u001b[38;5;28;01melse\u001b[39;00m \u001b[38;5;124m'\u001b[39m\u001b[38;5;124m+\u001b[39m\u001b[38;5;124m'\u001b[39m\n\u001b[0;32m     10\u001b[0m exp \u001b[38;5;241m=\u001b[39m qc\u001b[38;5;241m.\u001b[39mnew_experiment(\u001b[38;5;124m'\u001b[39m\u001b[38;5;124mIV-Bx\u001b[39m\u001b[38;5;124m'\u001b[39m, sample_name\u001b[38;5;241m=\u001b[39m\u001b[38;5;124mf\u001b[39m\u001b[38;5;124m'\u001b[39m\u001b[38;5;124m020-1_21-20-30-31_\u001b[39m\u001b[38;5;132;01m{\u001b[39;00mdirection\u001b[38;5;132;01m}\u001b[39;00m\u001b[38;5;124mBx_\u001b[39m\u001b[38;5;132;01m{\u001b[39;00mBy\u001b[38;5;132;01m}\u001b[39;00m\u001b[38;5;124mmT_\u001b[39m\u001b[38;5;132;01m{\u001b[39;00mwait_time\u001b[38;5;132;01m=}\u001b[39;00m\u001b[38;5;124ms\u001b[39m\u001b[38;5;124m'\u001b[39m)\n\u001b[1;32m---> 12\u001b[0m dataid \u001b[38;5;241m=\u001b[39m \u001b[43mdo2d\u001b[49m\u001b[43m(\u001b[49m\u001b[43mmagnet_x\u001b[49m\u001b[38;5;241;43m.\u001b[39;49m\u001b[43mfield\u001b[49m\u001b[43m,\u001b[49m\u001b[43m \u001b[49m\u001b[38;5;241;43m40e-3\u001b[39;49m\u001b[43m,\u001b[49m\u001b[43m \u001b[49m\u001b[38;5;241;43m-\u001b[39;49m\u001b[38;5;241;43m40e-3\u001b[39;49m\u001b[43m,\u001b[49m\u001b[43m \u001b[49m\u001b[38;5;241;43m161\u001b[39;49m\u001b[43m \u001b[49m\u001b[43m,\u001b[49m\u001b[43m \u001b[49m\u001b[38;5;241;43m0.5\u001b[39;49m\u001b[43m,\u001b[49m\u001b[43m \u001b[49m\u001b[43mappl_current\u001b[49m\u001b[43m,\u001b[49m\u001b[43m \u001b[49m\u001b[38;5;241;43m-\u001b[39;49m\u001b[43mI_range\u001b[49m\u001b[43m \u001b[49m\u001b[43m,\u001b[49m\u001b[43mI_range\u001b[49m\u001b[43m,\u001b[49m\u001b[43m \u001b[49m\u001b[38;5;241;43m101\u001b[39;49m\u001b[43m,\u001b[49m\u001b[43m \u001b[49m\u001b[43mwait_time\u001b[49m\u001b[43m \u001b[49m\u001b[43m,\u001b[49m\u001b[43m \u001b[49m\u001b[43mmeas_voltage_K2\u001b[49m\u001b[43m)\u001b[49m\n\u001b[0;32m     14\u001b[0m appl_current(\u001b[38;5;241m0\u001b[39m)\n\u001b[0;32m     15\u001b[0m K2440\u001b[38;5;241m.\u001b[39moutput(\u001b[38;5;241m0\u001b[39m)\n",
      "File \u001b[1;32mc:\\Users\\admin\\Documents\\GitHub\\QCoDeS_local\\sweeps_v2.py:47\u001b[0m, in \u001b[0;36mdo2d\u001b[1;34m(param_set1, start1, stop1, num_points1, delay1, param_set2, start2, stop2, num_points2, delay2, *param_meas)\u001b[0m\n\u001b[0;32m     45\u001b[0m \u001b[38;5;28;01mwith\u001b[39;00m meas\u001b[38;5;241m.\u001b[39mrun() \u001b[38;5;28;01mas\u001b[39;00m datasaver:\n\u001b[0;32m     46\u001b[0m     \u001b[38;5;28;01mfor\u001b[39;00m set_point1 \u001b[38;5;129;01min\u001b[39;00m tqdm(np\u001b[38;5;241m.\u001b[39mlinspace(start1, stop1, num_points1), desc\u001b[38;5;241m=\u001b[39m\u001b[38;5;124m'\u001b[39m\u001b[38;5;124mfirst parameter\u001b[39m\u001b[38;5;124m'\u001b[39m):\n\u001b[1;32m---> 47\u001b[0m         \u001b[43mparam_set1\u001b[49m\u001b[38;5;241;43m.\u001b[39;49m\u001b[43mset\u001b[49m\u001b[43m(\u001b[49m\u001b[43mset_point1\u001b[49m\u001b[43m)\u001b[49m\n\u001b[0;32m     48\u001b[0m         \u001b[38;5;28;01mfor\u001b[39;00m set_point2 \u001b[38;5;129;01min\u001b[39;00m  tqdm(np\u001b[38;5;241m.\u001b[39mlinspace(start2, stop2, num_points2), desc\u001b[38;5;241m=\u001b[39m\u001b[38;5;124m'\u001b[39m\u001b[38;5;124mnested  parameter\u001b[39m\u001b[38;5;124m'\u001b[39m, leave\u001b[38;5;241m=\u001b[39m\u001b[38;5;28;01mFalse\u001b[39;00m):\n\u001b[0;32m     49\u001b[0m             param_set2\u001b[38;5;241m.\u001b[39mset(set_point2)\n",
      "File \u001b[1;32m~\\AppData\\Roaming\\Python\\Python39\\site-packages\\qcodes\\parameters\\parameter_base.py:623\u001b[0m, in \u001b[0;36mParameterBase._wrap_set.<locals>.set_wrapper\u001b[1;34m(value, **kwargs)\u001b[0m\n\u001b[0;32m    620\u001b[0m \u001b[38;5;66;03m# Start timer to measure execution time of set_function\u001b[39;00m\n\u001b[0;32m    621\u001b[0m t0 \u001b[38;5;241m=\u001b[39m time\u001b[38;5;241m.\u001b[39mperf_counter()\n\u001b[1;32m--> 623\u001b[0m set_function(raw_val_step, \u001b[38;5;241m*\u001b[39m\u001b[38;5;241m*\u001b[39mkwargs)\n\u001b[0;32m    625\u001b[0m \u001b[38;5;66;03m# Update last set time (used for calculating delays)\u001b[39;00m\n\u001b[0;32m    626\u001b[0m \u001b[38;5;28mself\u001b[39m\u001b[38;5;241m.\u001b[39m_t_last_set \u001b[38;5;241m=\u001b[39m time\u001b[38;5;241m.\u001b[39mperf_counter()\n",
      "File \u001b[1;32m~\\AppData\\Roaming\\Python\\Python39\\site-packages\\qcodes\\parameters\\command.py:209\u001b[0m, in \u001b[0;36mCommand.__call__\u001b[1;34m(self, *args)\u001b[0m\n\u001b[0;32m    207\u001b[0m \u001b[38;5;28;01mif\u001b[39;00m \u001b[38;5;28mlen\u001b[39m(args) \u001b[38;5;241m!=\u001b[39m \u001b[38;5;28mself\u001b[39m\u001b[38;5;241m.\u001b[39marg_count:\n\u001b[0;32m    208\u001b[0m     \u001b[38;5;28;01mraise\u001b[39;00m \u001b[38;5;167;01mTypeError\u001b[39;00m(\u001b[38;5;124mf\u001b[39m\u001b[38;5;124m\"\u001b[39m\u001b[38;5;124mcommand takes exactly \u001b[39m\u001b[38;5;132;01m{\u001b[39;00m\u001b[38;5;28mself\u001b[39m\u001b[38;5;241m.\u001b[39marg_count\u001b[38;5;132;01m}\u001b[39;00m\u001b[38;5;124m args\u001b[39m\u001b[38;5;124m\"\u001b[39m)\n\u001b[1;32m--> 209\u001b[0m \u001b[38;5;28;01mreturn\u001b[39;00m \u001b[38;5;28;43mself\u001b[39;49m\u001b[38;5;241;43m.\u001b[39;49m\u001b[43mexec_function\u001b[49m\u001b[43m(\u001b[49m\u001b[38;5;241;43m*\u001b[39;49m\u001b[43margs\u001b[49m\u001b[43m)\u001b[49m\n",
      "File \u001b[1;32m~\\AppData\\Roaming\\Python\\Python39\\site-packages\\qcodes\\instrument_drivers\\american_magnetics\\AMI430.py:353\u001b[0m, in \u001b[0;36mAMI430.set_field\u001b[1;34m(self, value, block, perform_safety_check)\u001b[0m\n\u001b[0;32m    351\u001b[0m \u001b[38;5;66;03m# Otherwise, wait until no longer ramping\u001b[39;00m\n\u001b[0;32m    352\u001b[0m \u001b[38;5;28mself\u001b[39m\u001b[38;5;241m.\u001b[39mlog\u001b[38;5;241m.\u001b[39mdebug(\u001b[38;5;124mf\u001b[39m\u001b[38;5;124m'\u001b[39m\u001b[38;5;124mStarting blocking ramp of \u001b[39m\u001b[38;5;132;01m{\u001b[39;00m\u001b[38;5;28mself\u001b[39m\u001b[38;5;241m.\u001b[39mname\u001b[38;5;132;01m}\u001b[39;00m\u001b[38;5;124m to \u001b[39m\u001b[38;5;132;01m{\u001b[39;00mvalue\u001b[38;5;132;01m}\u001b[39;00m\u001b[38;5;124m'\u001b[39m)\n\u001b[1;32m--> 353\u001b[0m exit_state \u001b[38;5;241m=\u001b[39m \u001b[38;5;28;43mself\u001b[39;49m\u001b[38;5;241;43m.\u001b[39;49m\u001b[43mwait_while_ramping\u001b[49m\u001b[43m(\u001b[49m\u001b[43m)\u001b[49m\n\u001b[0;32m    354\u001b[0m \u001b[38;5;28mself\u001b[39m\u001b[38;5;241m.\u001b[39mlog\u001b[38;5;241m.\u001b[39mdebug(\u001b[38;5;124m\"\u001b[39m\u001b[38;5;124mFinished blocking ramp\u001b[39m\u001b[38;5;124m\"\u001b[39m)\n\u001b[0;32m    355\u001b[0m \u001b[38;5;66;03m# If we are now holding, it was successful\u001b[39;00m\n",
      "File \u001b[1;32m~\\AppData\\Roaming\\Python\\Python39\\site-packages\\qcodes\\instrument_drivers\\american_magnetics\\AMI430.py:363\u001b[0m, in \u001b[0;36mAMI430.wait_while_ramping\u001b[1;34m(self)\u001b[0m\n\u001b[0;32m    360\u001b[0m \u001b[38;5;28;01mdef\u001b[39;00m \u001b[38;5;21mwait_while_ramping\u001b[39m(\u001b[38;5;28mself\u001b[39m) \u001b[38;5;241m-\u001b[39m\u001b[38;5;241m>\u001b[39m \u001b[38;5;28mstr\u001b[39m:\n\u001b[0;32m    362\u001b[0m     \u001b[38;5;28;01mwhile\u001b[39;00m \u001b[38;5;28mself\u001b[39m\u001b[38;5;241m.\u001b[39mramping_state() \u001b[38;5;241m==\u001b[39m \u001b[38;5;124m'\u001b[39m\u001b[38;5;124mramping\u001b[39m\u001b[38;5;124m'\u001b[39m:\n\u001b[1;32m--> 363\u001b[0m         \u001b[38;5;28;43mself\u001b[39;49m\u001b[38;5;241;43m.\u001b[39;49m\u001b[43m_sleep\u001b[49m\u001b[43m(\u001b[49m\u001b[38;5;28;43mself\u001b[39;49m\u001b[38;5;241;43m.\u001b[39;49m\u001b[43mramping_state_check_interval\u001b[49m\u001b[43m(\u001b[49m\u001b[43m)\u001b[49m\u001b[43m)\u001b[49m\n\u001b[0;32m    365\u001b[0m     \u001b[38;5;28;01mreturn\u001b[39;00m \u001b[38;5;28mself\u001b[39m\u001b[38;5;241m.\u001b[39mramping_state()\n",
      "File \u001b[1;32m~\\AppData\\Roaming\\Python\\Python39\\site-packages\\qcodes\\instrument_drivers\\american_magnetics\\AMI430.py:278\u001b[0m, in \u001b[0;36mAMI430._sleep\u001b[1;34m(self, t)\u001b[0m\n\u001b[0;32m    276\u001b[0m     \u001b[38;5;28;01mreturn\u001b[39;00m\n\u001b[0;32m    277\u001b[0m \u001b[38;5;28;01melse\u001b[39;00m:\n\u001b[1;32m--> 278\u001b[0m     \u001b[43mtime\u001b[49m\u001b[38;5;241;43m.\u001b[39;49m\u001b[43msleep\u001b[49m\u001b[43m(\u001b[49m\u001b[43mt\u001b[49m\u001b[43m)\u001b[49m\n",
      "\u001b[1;31mKeyboardInterrupt\u001b[0m: "
     ]
    }
   ],
   "source": [
    "I_range=1e-6\n",
    "wait_time = 30e-3\n",
    "Bx = round(magnet_x.field() * 1e3, 2)\n",
    "By = round(magnet_y.field() * 1e3, 2)\n",
    "\n",
    "K2440.output(1)\n",
    "appl_current(-I_range)\n",
    "direction = '-' if Bx > 0 else '+'\n",
    "\n",
    "exp = qc.new_experiment('IV-Bx', sample_name=f'020-1_21-20-30-31_{direction}Bx_{By}mT_{wait_time=}s')\n",
    "\n",
    "dataid = do2d(magnet_x.field, 40e-3, -40e-3, 161 , 0.5, appl_current, -I_range ,I_range, 101, wait_time , meas_voltage_K2)\n",
    "\n",
    "appl_current(0)\n",
    "K2440.output(0)\n",
    "\n",
    "plot_by_id(dataid)"
   ]
  },
  {
   "cell_type": "code",
   "execution_count": 94,
   "metadata": {},
   "outputs": [],
   "source": [
    "magnet_y.field(0.055)"
   ]
  },
  {
   "cell_type": "code",
   "execution_count": 100,
   "metadata": {},
   "outputs": [
    {
     "data": {
      "text/plain": [
       "-4.37e-07"
      ]
     },
     "execution_count": 100,
     "metadata": {},
     "output_type": "execute_result"
    }
   ],
   "source": [
    "magnet_y.field()"
   ]
  },
  {
   "cell_type": "code",
   "execution_count": 91,
   "metadata": {},
   "outputs": [
    {
     "name": "stderr",
     "output_type": "stream",
     "text": [
      "There is (are) already experiment(s) with the name of IV-By and sample name of 020-1_21-20-30-31_+By_Bx=0.0mT_wait_time=0.03s in the database.\n"
     ]
    },
    {
     "name": "stdout",
     "output_type": "stream",
     "text": [
      "Starting experimental run with id: 25. \n"
     ]
    },
    {
     "name": "stderr",
     "output_type": "stream",
     "text": [
      "first parameter: 100%|██████████| 251/251 [37:53<00:00,  9.06s/it]\n",
      "Trying to mark a run completed that was already completed.\n"
     ]
    },
    {
     "data": {
      "text/plain": [
       "([<AxesSubplot:title={'center':'Run #25, Experiment IV-By\\n(020-1_21-20-30-31_+By_Bx=0.0mT_wait_time=0.03s)'}, xlabel='field (mT)', ylabel='appl_current (nA)'>],\n",
       " [<matplotlib.colorbar.Colorbar at 0x1f577ac3520>])"
      ]
     },
     "execution_count": 91,
     "metadata": {},
     "output_type": "execute_result"
    },
    {
     "data": {
      "image/png": "[encoded data removed]",
      "text/plain": [
       "<Figure size 640x480 with 2 Axes>"
      ]
     },
     "metadata": {},
     "output_type": "display_data"
    }
   ],
   "source": [
    "I_range=0.5e-6\n",
    "wait_time = 30e-3\n",
    "Bx = round(magnet_x.field() * 1e3, 2)\n",
    "By = round(magnet_y.field() * 1e3, 2)\n",
    "\n",
    "K2440.output(1)\n",
    "appl_current(-I_range)\n",
    "# direction = '-' if By > 0 else '+'\n",
    "\n",
    "exp = qc.new_experiment('IV-By', sample_name=f'020-1_21-20-30-31_By_{Bx=}mT_{wait_time=}s')\n",
    "\n",
    "dataid = do2d(magnet_y.field, 0e-3, 50e-3, 251 , 0.5, appl_current, -I_range ,I_range, 101, wait_time , meas_voltage_K2)\n",
    "\n",
    "appl_current(0)\n",
    "K2440.output(0)\n",
    "\n",
    "plot_by_id(dataid)"
   ]
  },
  {
   "cell_type": "code",
   "execution_count": 66,
   "metadata": {},
   "outputs": [
    {
     "name": "stdout",
     "output_type": "stream",
     "text": [
      "Starting experimental run with id: 15. \n"
     ]
    },
    {
     "name": "stderr",
     "output_type": "stream",
     "text": [
      "first parameter: 100%|██████████| 101/101 [13:42<00:00,  8.14s/it]\n",
      "Trying to mark a run completed that was already completed.\n"
     ]
    },
    {
     "data": {
      "text/plain": [
       "([<AxesSubplot:title={'center':'Run #15, Experiment IV-By\\n(020-1_21-20-30-31_-By_Bx=-0.0mT_wait_time=0.03s)'}, xlabel='field (mT)', ylabel='appl_current (nA)'>],\n",
       " [<matplotlib.colorbar.Colorbar at 0x1f575546850>])"
      ]
     },
     "execution_count": 66,
     "metadata": {},
     "output_type": "execute_result"
    },
    {
     "data": {
      "image/png": "[encoded data removed]",
      "text/plain": [
       "<Figure size 640x480 with 2 Axes>"
      ]
     },
     "metadata": {},
     "output_type": "display_data"
    }
   ],
   "source": [
    "I_range=0.5e-6\n",
    "wait_time = 30e-3\n",
    "Bx = round(magnet_x.field() * 1e3, 2)\n",
    "By = round(magnet_y.field() * 1e3, 2)\n",
    "\n",
    "K2440.output(1)\n",
    "appl_current(-I_range)\n",
    "# direction = '-' if By > 0 else '+'\n",
    "\n",
    "exp = qc.new_experiment('IV-By', sample_name=f'020-1_21-20-30-31_-By_{Bx=}mT_{wait_time=}s')\n",
    "\n",
    "dataid = do2d(magnet_y.field, -5e-3, -10e-3, 101 , 0.5, appl_current, -I_range ,I_range, 101, wait_time , meas_voltage_K2)\n",
    "\n",
    "appl_current(0)\n",
    "K2440.output(0)\n",
    "\n",
    "plot_by_id(dataid)"
   ]
  },
  {
   "cell_type": "code",
   "execution_count": 67,
   "metadata": {},
   "outputs": [
    {
     "name": "stderr",
     "output_type": "stream",
     "text": [
      "There is (are) already experiment(s) with the name of IV-By and sample name of 020-1_21-20-30-31_-By_Bx=-0.0mT_wait_time=0.03s in the database.\n"
     ]
    },
    {
     "name": "stdout",
     "output_type": "stream",
     "text": [
      "Starting experimental run with id: 16. \n"
     ]
    },
    {
     "name": "stderr",
     "output_type": "stream",
     "text": [
      "first parameter: 100%|██████████| 101/101 [13:40<00:00,  8.13s/it]\n",
      "Trying to mark a run completed that was already completed.\n"
     ]
    },
    {
     "data": {
      "text/plain": [
       "([<AxesSubplot:title={'center':'Run #16, Experiment IV-By\\n(020-1_21-20-30-31_-By_Bx=-0.0mT_wait_time=0.03s)'}, xlabel='field (mT)', ylabel='appl_current (nA)'>],\n",
       " [<matplotlib.colorbar.Colorbar at 0x1f575b5b340>])"
      ]
     },
     "execution_count": 67,
     "metadata": {},
     "output_type": "execute_result"
    },
    {
     "data": {
      "image/png": "[encoded data removed]",
      "text/plain": [
       "<Figure size 640x480 with 2 Axes>"
      ]
     },
     "metadata": {},
     "output_type": "display_data"
    }
   ],
   "source": [
    "I_range=0.5e-6\n",
    "wait_time = 30e-3\n",
    "Bx = round(magnet_x.field() * 1e3, 2)\n",
    "By = round(magnet_y.field() * 1e3, 2)\n",
    "\n",
    "K2440.output(1)\n",
    "appl_current(-I_range)\n",
    "# direction = '-' if By > 0 else '+'\n",
    "\n",
    "exp = qc.new_experiment('IV-By', sample_name=f'020-1_21-20-30-31_-By_{Bx=}mT_{wait_time=}s')\n",
    "\n",
    "dataid = do2d(magnet_y.field, -10e-3, -15e-3, 101 , 0.5, appl_current, -I_range ,I_range, 101, wait_time , meas_voltage_K2)\n",
    "\n",
    "appl_current(0)\n",
    "K2440.output(0)\n",
    "\n",
    "plot_by_id(dataid)"
   ]
  },
  {
   "cell_type": "code",
   "execution_count": 98,
   "metadata": {},
   "outputs": [
    {
     "name": "stderr",
     "output_type": "stream",
     "text": [
      "There is (are) already experiment(s) with the name of IV-By and sample name of 020-1_21-20-30-31_-By_Bx=0.0mT_wait_time=0.03s in the database.\n"
     ]
    },
    {
     "name": "stdout",
     "output_type": "stream",
     "text": [
      "Starting experimental run with id: 27. \n"
     ]
    },
    {
     "name": "stderr",
     "output_type": "stream",
     "text": [
      "first parameter: 100%|██████████| 351/351 [53:06<00:00,  9.08s/it]\n",
      "Trying to mark a run completed that was already completed.\n"
     ]
    },
    {
     "data": {
      "text/plain": [
       "([<AxesSubplot:title={'center':'Run #27, Experiment IV-By\\n(020-1_21-20-30-31_-By_Bx=0.0mT_wait_time=0.03s)'}, xlabel='field (mT)', ylabel='appl_current (nA)'>],\n",
       " [<matplotlib.colorbar.Colorbar at 0x1f577b15850>])"
      ]
     },
     "execution_count": 98,
     "metadata": {},
     "output_type": "execute_result"
    },
    {
     "data": {
      "image/png": "[encoded data removed]",
      "text/plain": [
       "<Figure size 640x480 with 2 Axes>"
      ]
     },
     "metadata": {},
     "output_type": "display_data"
    }
   ],
   "source": [
    "I_range=0.5e-6\n",
    "wait_time = 30e-3\n",
    "Bx = round(magnet_x.field() * 1e3, 2)\n",
    "By = round(magnet_y.field() * 1e3, 2)\n",
    "\n",
    "K2440.output(1)\n",
    "appl_current(-I_range)\n",
    "# direction = '-' if By > 0 else '+'\n",
    "\n",
    "exp = qc.new_experiment('IV-By', sample_name=f'020-1_21-20-30-31_-By_{Bx=}mT_{wait_time=}s')\n",
    "\n",
    "dataid = do2d(magnet_y.field, 20e-3, -50e-3, 351 , 0.5, appl_current, -I_range ,I_range, 101, wait_time , meas_voltage_K2)\n",
    "\n",
    "appl_current(0)\n",
    "K2440.output(0)\n",
    "\n",
    "plot_by_id(dataid)"
   ]
  },
  {
   "cell_type": "code",
   "execution_count": 45,
   "metadata": {},
   "outputs": [],
   "source": [
    "def plot_IV_and_dVdI(run_id=1):\n",
    "    def R_fitting(run_id):\n",
    "        import numpy as np\n",
    "        from scipy.signal import find_peaks\n",
    "        import pandas as pd\n",
    "        dataset = qc.load_by_id(run_id)\n",
    "        df = dataset.to_pandas_dataframe().reset_index()\n",
    "        para_list = dataset.parameters.split(\",\")\n",
    "        run_id, exp_name, sample_name, sample_junction, name, description = get_detaset_info(dataset)\n",
    "        df['dV/dI'] = pd.DataFrame(np.diff(df['meas_voltage_K2']) / np.diff(df['appl_current']), columns=['r']).reindex(df.index, method=None)\n",
    "        current_0_index = df['appl_current'].abs().idxmin()\n",
    "        \n",
    "        dVdI_values = df['dV/dI'].values\n",
    "        peaks1, _ = find_peaks(dVdI_values[dVdI_values > dVdI_values[current_0_index]])\n",
    "        peaks0, _ = find_peaks(dVdI_values[dVdI_values < dVdI_values[current_0_index]])\n",
    "        \n",
    "        # Extract peak current and peak differential voltage values\n",
    "        peak_current = [df['appl_current'].iloc[i] for i in peaks1]\n",
    "        peak_R = [dVdI_values[i] for i in peaks1]\n",
    "\n",
    "        # Sort the peaks based on their values\n",
    "        sorted_peak_indices = np.argsort(peak_R)[::-1]  # Sort in descending order\n",
    "        top_two_peak_indices = sorted_peak_indices[:2]  # Select the top two indices\n",
    "\n",
    "        # Extract the top two peaks\n",
    "        top_two_peak_current = [peak_current[i] for i in top_two_peak_indices]\n",
    "        top_two_peak_R = [peak_R[i] for i in top_two_peak_indices]\n",
    "        # Ensure peak0 is less than peak1\n",
    "        peak0, peak1 = top_two_peak_current\n",
    "        if peak1 < peak0:\n",
    "            peak0, peak1 = peak1, peak0\n",
    "            top_two_peak_current = peak0, peak1\n",
    "        df_0 = df[df['appl_current'] < peak0]\n",
    "        df_1 = df[df['appl_current'] > peak1]\n",
    "\n",
    "        fit_0 = np.polyfit(df_0['appl_current'], df_0['meas_voltage_K2'], 1)\n",
    "        fit_1 = np.polyfit(df_1['appl_current'], df_1['meas_voltage_K2'], 1)\n",
    "        R_fit0 = fit_0[0]\n",
    "        R_fit1 = fit_1[0]\n",
    "        R_fit = (R_fit0 + R_fit1) / 2\n",
    "        Ic = top_two_peak_current[1] - df['appl_current'].iloc[current_0_index]\n",
    "        Ir = df['appl_current'].iloc[current_0_index] - top_two_peak_current[0]\n",
    "        IcRn = Ic * R_fit\n",
    "        return R_fit, R_fit0, R_fit1, top_two_peak_current, Ic, Ir, IcRn, current_0_index\n",
    "    \n",
    "    dataset = qc.load_by_id(run_id)\n",
    "    run_id, exp_name, sample_name, sample_junction, name, description = get_detaset_info(dataset)\n",
    "    df = dataset.to_pandas_dataframe().reset_index()\n",
    "    df['dV/dI'] = pd.DataFrame(np.diff(df['meas_voltage_K2']) / np.diff(df['appl_current']), columns=['r']).reindex(df.index, method=None)\n",
    "    para_list = dataset.parameters.split(\",\")\n",
    "    R_fit, R_fit0, R_fit1, top_two_peak_current, Ic, Ir, IcRn, current_0_index = R_fitting(run_id)\n",
    "    # Create traces\n",
    "    # Trace1 IV\n",
    "    trace1 = go.Scatter(x=df['appl_current'], y=df['meas_voltage_K2'], mode='lines', name='IV')\n",
    "    # Trace2 dV/dI\n",
    "    trace2 = go.Scatter(x=df['appl_current'], y=df['dV/dI'], mode='lines', name='dV/dI', yaxis='y2')\n",
    "    # Trace3 Peak0\n",
    "    trace3 = go.Scatter(x=[top_two_peak_current[0], top_two_peak_current[0]], y=[df['dV/dI'].min(), df['dV/dI'].max()], mode='lines', line=dict(dash='dash'), name='Peak0', yaxis='y2')\n",
    "    # Trace4 Peak1\n",
    "    trace4 = go.Scatter(x=[top_two_peak_current[1], top_two_peak_current[1]], y=[df['dV/dI'].min(), df['dV/dI'].max()], mode='lines', line=dict(dash='dash'), name='Peak1', yaxis='y2')\n",
    "    # Trace5 I_0\n",
    "    trace5 = go.Scatter(x=[df['appl_current'].iloc[current_0_index], df['appl_current'].iloc[current_0_index]], y=[df['dV/dI'].min(), df['dV/dI'].max()], mode='lines', line=dict(dash='dash'), name='I_0', yaxis='y2')\n",
    "    # Trace6 Ic\n",
    "    trace6 = go.Scatter(x=[df['appl_current'].iloc[current_0_index], top_two_peak_current[1]], y=[0, 0], mode='lines', line=dict(dash='dash'), name='Ic')\n",
    "    # Trace7 I_r\n",
    "    trace7 = go.Scatter(x=[df['appl_current'].iloc[current_0_index], top_two_peak_current[0]], y=[0, 0], mode='lines', line=dict(dash='dash'), name='Ir')\n",
    "    # Trace8 R_fit \n",
    "    trace8 = go.Scatter(x=[df['appl_current'].min(), df['appl_current'].max()], y=[R_fit * df['appl_current'].min(), R_fit * df['appl_current'].max()], mode='lines', line=dict(dash='dash'), name='R_fit') \n",
    "    \n",
    "    # Create layout\n",
    "    layout = go.Layout(\n",
    "        title=f'<b>#{run_id} {exp_name} {sample_name}<br>R_fit={R_fit:.4f} Ω', \n",
    "        title_font=dict(size=25), title_x=0,\n",
    "        xaxis=dict(title=para_list[0], tickfont=dict(size=16), title_font=dict(size=20)),\n",
    "        yaxis=dict(title=f\"{para_list[1]}\", tickfont=dict(size=16), title_font=dict(size=20)),\n",
    "        yaxis2=dict(title='dV/dI', tickfont=dict(size=16), title_font=dict(size=20), overlaying='y', side='right'),\n",
    "        width=1000, height=1000, margin=dict(l=10, r=10, t=50, b=10),\n",
    "        legend=dict(orientation=\"h\",\n",
    "                    x=0.5, y=1.03,\n",
    "                    xanchor=\"center\", yanchor=\"top\",)\n",
    "    )\n",
    "\n",
    "    fig = go.Figure(data=[trace1, trace2, trace3, trace4, trace5, trace6, trace7, trace8], layout=layout)\n",
    "    fig.update_layout(\n",
    "        annotations=[\n",
    "            go.layout.Annotation(\n",
    "                x=1,\n",
    "                y=1,\n",
    "                xref=\"paper\",\n",
    "                yref=\"paper\",\n",
    "                text=f\"Ic = {Ic*1e6:.3f}µA, Ir = {Ir*1e6:.3f}µA ,IcRn = {IcRn*1e6:.3f} µV\",\n",
    "                showarrow=False,\n",
    "                font=dict(\n",
    "                    size=16,\n",
    "                    color=\"#ffffff\"\n",
    "                ),\n",
    "                align=\"right\",\n",
    "                bgcolor=\"#ff7f0e\",\n",
    "                opacity=0.8\n",
    "            )\n",
    "        ]\n",
    "    )\n",
    "    fig.show()\n",
    "    print(f\"Ic = {Ic*1e6} µA\\n\", \n",
    "          f\"Ir = {Ir*1e6} µA\\n\",\n",
    "          f\"R_fit = {R_fit} Ω\\n\", \n",
    "          f\"IcRn = {Ic*1e6*R_fit} µV\\n\",\n",
    "          f\"R_fit0 = {R_fit0} Ω\\n\", \n",
    "          f\"R_fit1 = {R_fit1} Ω\\n\",\n",
    "          )\n",
    "    return \n",
    "\n",
    "def get_detaset_info(dataset):\n",
    "    run_id = dataset.captured_run_id\n",
    "    exp_name = dataset.exp_name\n",
    "    sample_name = dataset.sample_name\n",
    "    name = dataset.name\n",
    "    description = dataset.description\n",
    "    sample_junction = extract_sample_junction(sample_name)\n",
    "    return run_id, exp_name, sample_name, sample_junction, name, description\n",
    "\n",
    "def extract_sample_junction(sample_name):\n",
    "    \"\"\"Extracts the complete sample junction from the provided sample name.\n",
    "\n",
    "    Args:\n",
    "      sample_name: The name of the sample containing the junction information.\n",
    "\n",
    "    Returns:\n",
    "      The extracted sample junction, or None if not found.\n",
    "    \"\"\"\n",
    "\n",
    "    delimiter = \"_J\"\n",
    "    if delimiter in sample_name:\n",
    "        # +3 to include \"_J\"\n",
    "        return sample_name[:sample_name.find(delimiter) + 3]\n",
    "    else:\n",
    "        return None"
   ]
  },
  {
   "cell_type": "code",
   "execution_count": 35,
   "metadata": {},
   "outputs": [
    {
     "data": {
      "text/plain": [
       "1009.7675073756552"
      ]
     },
     "execution_count": 35,
     "metadata": {},
     "output_type": "execute_result"
    }
   ],
   "source": [
    "get_R_from_IV(dataid)"
   ]
  }
 ],
 "metadata": {
  "kernelspec": {
   "display_name": "qcodes",
   "language": "python",
   "name": "python3"
  },
  "language_info": {
   "codemirror_mode": {
    "name": "ipython",
    "version": 3
   },
   "file_extension": ".py",
   "mimetype": "text/x-python",
   "name": "python",
   "nbconvert_exporter": "python",
   "pygments_lexer": "ipython3",
   "version": "3.9.13"
  }
 },
 "nbformat": 4,
 "nbformat_minor": 2
}
