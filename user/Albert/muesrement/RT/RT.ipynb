{
 "cells": [
  {
   "cell_type": "markdown",
   "id": "256e0f19",
   "metadata": {},
   "source": [
    "# Initialization"
   ]
  },
  {
   "cell_type": "markdown",
   "id": "9d160fe4",
   "metadata": {},
   "source": [
    "## Inport modules"
   ]
  },
  {
   "cell_type": "code",
   "execution_count": 1,
   "id": "88979d6d",
   "metadata": {},
   "outputs": [
    {
     "name": "stdout",
     "output_type": "stream",
     "text": [
      "Imported all modules, QCoDeS version: 0.52.0 initialized\n"
     ]
    }
   ],
   "source": [
    "%matplotlib ipympl\n",
    "import os, sys\n",
    "import time\n",
    "import pyvisa\n",
    "import warnings\n",
    "import numpy as np\n",
    "import qcodes as qc\n",
    "import plotly.graph_objects as go\n",
    "import matplotlib.pyplot as plt\n",
    "\n",
    "def find_qcodes_local_dir():\n",
    "    dirpath = os.getcwd()\n",
    "    while True:\n",
    "        dirpath, folder_name = os.path.split(dirpath)\n",
    "        if folder_name == 'QCoDeS_local':\n",
    "            return os.path.join(dirpath, folder_name)\n",
    "        if not folder_name:  # Reached the root directory\n",
    "            return None\n",
    "qcodes_local_dir = find_qcodes_local_dir()\n",
    "sys.path.append(f'{qcodes_local_dir}')\n",
    "\n",
    "from tqdm import tqdm\n",
    "from pprint import pprint\n",
    "from time import sleep, monotonic, time\n",
    "from IPython.display import clear_output\n",
    "from qcodes.dataset.measurements import Measurement\n",
    "from qcodes.utils.metadata import diff_param_values\n",
    "from qcodes.dataset.plotting import plot_dataset, plot_by_id\n",
    "from qcodes import Parameter, ManualParameter, ScaledParameter\n",
    "from qcodes.instrument.specialized_parameters import ElapsedTimeParameter\n",
    "from sweeps_v2 import do1d, do2d, time_sweep, measure_until, do1d_until\n",
    "\n",
    "print('Imported all modules, QCoDeS version:', qc.__version__, 'initialized')\n",
    "\n",
    "# warnings.filterwarnings('ignore')"
   ]
  },
  {
   "cell_type": "code",
   "execution_count": 2,
   "id": "399e7806",
   "metadata": {},
   "outputs": [
    {
     "data": {
      "text/plain": [
       "'c:\\\\Users\\\\quant\\\\OneDrive\\\\Documents\\\\GitHub\\\\QCoDeS_local'"
      ]
     },
     "execution_count": 2,
     "metadata": {},
     "output_type": "execute_result"
    }
   ],
   "source": [
    "def find_qcodes_local_dir():\n",
    "    dirpath = os.getcwd()\n",
    "    while True:\n",
    "        dirpath, folder_name = os.path.split(dirpath)\n",
    "        if folder_name == 'QCoDeS_local':\n",
    "            return os.path.join(dirpath, folder_name)\n",
    "        if not folder_name:  # Reached the root directory\n",
    "            return None\n",
    "qcodes_local_dir = find_qcodes_local_dir()\n",
    "qcodes_local_dir"
   ]
  },
  {
   "cell_type": "code",
   "execution_count": 3,
   "id": "cc4a1c10",
   "metadata": {},
   "outputs": [
    {
     "data": {
      "text/plain": [
       "'c:\\\\Users\\\\quant\\\\OneDrive\\\\Documents\\\\GitHub\\\\QCoDeS_local\\\\init_fridge_v3.py'"
      ]
     },
     "execution_count": 3,
     "metadata": {},
     "output_type": "execute_result"
    }
   ],
   "source": [
    "def find_init_fridge_v3_py():\n",
    "    for root, dirs, files in os.walk(qcodes_local_dir):\n",
    "        if 'init_fridge_v2.py' in files:\n",
    "            return os.path.join(root, 'init_fridge_v3.py')\n",
    "    return None\n",
    "\n",
    "init_fridge_v3_py_path = find_init_fridge_v3_py()\n",
    "init_fridge_v3_py_path"
   ]
  },
  {
   "cell_type": "code",
   "execution_count": 4,
   "id": "bb19a743",
   "metadata": {},
   "outputs": [
    {
     "name": "stdout",
     "output_type": "stream",
     "text": [
      "Found init_BF1_v3.py at: c:\\Users\\quant\\OneDrive\\Documents\\GitHub\\QCoDeS_local\\fridge_specific\\init_BF1_v3.py\n",
      "Error connecting to TCPIP0::192.168.1.42::inst0::INSTR: VI_ERROR_RSRC_NFOUND (-1073807343): Insufficient location information or the requested device or resource is not present in the system.\n",
      "Error connecting to TCPIP0::192.168.1.42::inst1::INSTR: VI_ERROR_RSRC_NFOUND (-1073807343): Insufficient location information or the requested device or resource is not present in the system.\n",
      "Error connecting to TCPIP0::192.168.1.6::inst0::INSTR: VI_ERROR_RSRC_NFOUND (-1073807343): Insufficient location information or the requested device or resource is not present in the system.\n",
      "Error connecting to TCPIP0::192.168.1.7::inst0::INSTR: VI_ERROR_RSRC_NFOUND (-1073807343): Insufficient location information or the requested device or resource is not present in the system.\n",
      "Error connecting to TCPIP0::ZNB20-64-101393::inst0::INSTR: VI_ERROR_RSRC_NFOUND (-1073807343): Insufficient location information or the requested device or resource is not present in the system.\n",
      "Device: TCPIP0::K-E5080B-02870.local::hislip0::INSTR\n",
      "IDN: Keysight Technologies,E5080B,MY59202870,A.15.10.08\n",
      "\n",
      "Device: TCPIP0::K-E5080B-02870.local::inst0::INSTR\n",
      "IDN: Keysight Technologies,E5080B,MY59202870,A.15.10.08\n",
      "\n",
      "Error connecting to ASRL1::INSTR: VI_ERROR_TMO (-1073807339): Timeout expired before operation completed.\n",
      "Error connecting to ASRL2::INSTR: VI_ERROR_TMO (-1073807339): Timeout expired before operation completed.\n",
      "Error connecting to ASRL10::INSTR: VI_ERROR_TMO (-1073807339): Timeout expired before operation completed.\n",
      "Device: GPIB0::6::INSTR\n",
      "IDN: KEITHLEY INSTRUMENTS,MODEL DMM6500,04518052,1.7.7b\n",
      "\n",
      "Connected to: KEITHLEY INSTRUMENTS DMM6500 (serial:04518052, firmware:1.7.7b) in 0.02s\n",
      "Added Keithley DMM6500 at GPIB0::6::INSTR to the station.\n",
      "Device: GPIB0::19::INSTR\n",
      "IDN: KEITHLEY INSTRUMENTS INC.,MODEL 2400,0957985,C32   Oct  4 2010 14:20:11/A02  /K/M\n",
      "\n",
      "Connected to: KEITHLEY INSTRUMENTS INC. 2400 (serial:0957985, firmware:C32   Oct  4 2010 14:20:11/A02  /K/M) in 0.03s\n"
     ]
    },
    {
     "name": "stderr",
     "output_type": "stream",
     "text": [
      "[K2400(Keithley2400)] Snapshot: Could not update parameter: volt\n",
      "[K2400(Keithley2400)] Snapshot: Could not update parameter: curr\n",
      "[K2400(Keithley2400)] Snapshot: Could not update parameter: resistance\n",
      "[K2440(Keithley2400)] Snapshot: Could not update parameter: volt\n",
      "[K2440(Keithley2400)] Snapshot: Could not update parameter: curr\n",
      "[K2440(Keithley2400)] Snapshot: Could not update parameter: resistance\n"
     ]
    },
    {
     "name": "stdout",
     "output_type": "stream",
     "text": [
      "Device: GPIB0::22::INSTR\n",
      "IDN: KEITHLEY INSTRUMENTS INC.,MODEL 2440,1225508,C30   Mar 17 2006 09:29:29/A02  /B/A\n",
      "\n",
      "Connected to: KEITHLEY INSTRUMENTS INC. 2440 (serial:1225508, firmware:C30   Mar 17 2006 09:29:29/A02  /B/A) in 0.03s\n",
      "\n",
      "Station list:\n",
      "{'DMM6500': <Keithley_6500: DMM6500>,\n",
      " 'K2400': <Keithley2400: K2400>,\n",
      " 'K2440': <Keithley2400: K2440>}\n"
     ]
    }
   ],
   "source": [
    "fridge_name = 'BF1'\n",
    "%run \"{init_fridge_v3_py_path}\" {fridge_name}"
   ]
  },
  {
   "cell_type": "code",
   "execution_count": 5,
   "id": "c9e134aa",
   "metadata": {},
   "outputs": [
    {
     "name": "stdout",
     "output_type": "stream",
     "text": [
      "{'components': {},\n",
      " 'config': None,\n",
      " 'instruments': {'DMM6500': {'__class__': 'qcodes.instrument_drivers.tektronix.Keithley_6500.Keithley_6500',\n",
      "                             'address': 'GPIB0::6::INSTR',\n",
      "                             'functions': {},\n",
      "                             'label': 'DMM6500',\n",
      "                             'name': 'DMM6500',\n",
      "                             'parameters': {'IDN': {'__class__': 'qcodes.parameters.parameter.Parameter',\n",
      "                                                    'full_name': 'DMM6500_IDN',\n",
      "                                                    'instrument': 'qcodes.instrument_drivers.tektronix.Keithley_6500.Keithley_6500',\n",
      "                                                    'instrument_name': 'DMM6500',\n",
      "                                                    'inter_delay': 0,\n",
      "                                                    'label': 'IDN',\n",
      "                                                    'name': 'IDN',\n",
      "                                                    'post_delay': 0,\n",
      "                                                    'raw_value': {'firmware': '1.7.7b',\n",
      "                                                                  'model': 'DMM6500',\n",
      "                                                                  'serial': '04518052',\n",
      "                                                                  'vendor': 'KEITHLEY '\n",
      "                                                                            'INSTRUMENTS'},\n",
      "                                                    'ts': '2025-04-21 15:13:14',\n",
      "                                                    'unit': '',\n",
      "                                                    'validators': ['<Anything>'],\n",
      "                                                    'vals': '<Anything>',\n",
      "                                                    'value': {'firmware': '1.7.7b',\n",
      "                                                              'model': 'DMM6500',\n",
      "                                                              'serial': '04518052',\n",
      "                                                              'vendor': 'KEITHLEY '\n",
      "                                                                        'INSTRUMENTS'}},\n",
      "                                            'amplitude': {'__class__': 'qcodes.parameters.parameter.Parameter',\n",
      "                                                          'full_name': 'DMM6500_amplitude',\n",
      "                                                          'instrument': 'qcodes.instrument_drivers.tektronix.Keithley_6500.Keithley_6500',\n",
      "                                                          'instrument_name': 'DMM6500',\n",
      "                                                          'inter_delay': 0,\n",
      "                                                          'label': 'amplitude',\n",
      "                                                          'name': 'amplitude',\n",
      "                                                          'post_delay': 0,\n",
      "                                                          'raw_value': 0.0003361923,\n",
      "                                                          'ts': '2025-04-21 '\n",
      "                                                                '15:13:15',\n",
      "                                                          'unit': 'a.u.',\n",
      "                                                          'validators': [],\n",
      "                                                          'value': 0.0003361923},\n",
      "                                            'auto_range_enabled': {'__class__': 'qcodes.parameters.parameter.Parameter',\n",
      "                                                                   'full_name': 'DMM6500_auto_range_enabled',\n",
      "                                                                   'instrument': 'qcodes.instrument_drivers.tektronix.Keithley_6500.Keithley_6500',\n",
      "                                                                   'instrument_name': 'DMM6500',\n",
      "                                                                   'inter_delay': 0,\n",
      "                                                                   'label': 'auto_range_enabled',\n",
      "                                                                   'name': 'auto_range_enabled',\n",
      "                                                                   'post_delay': 0,\n",
      "                                                                   'raw_value': True,\n",
      "                                                                   'ts': '2025-04-21 '\n",
      "                                                                         '15:13:14',\n",
      "                                                                   'unit': '',\n",
      "                                                                   'validators': ['<Boolean>'],\n",
      "                                                                   'vals': '<Boolean>',\n",
      "                                                                   'value': True},\n",
      "                                            'averaging_count': {'__class__': 'qcodes.parameters.parameter.Parameter',\n",
      "                                                                'full_name': 'DMM6500_averaging_count',\n",
      "                                                                'instrument': 'qcodes.instrument_drivers.tektronix.Keithley_6500.Keithley_6500',\n",
      "                                                                'instrument_name': 'DMM6500',\n",
      "                                                                'inter_delay': 0,\n",
      "                                                                'label': 'averaging_count',\n",
      "                                                                'name': 'averaging_count',\n",
      "                                                                'post_delay': 0,\n",
      "                                                                'raw_value': 10,\n",
      "                                                                'ts': '2025-04-21 '\n",
      "                                                                      '15:13:14',\n",
      "                                                                'unit': '',\n",
      "                                                                'validators': ['<Ints '\n",
      "                                                                               '1<=v<=100>'],\n",
      "                                                                'vals': '<Ints '\n",
      "                                                                        '1<=v<=100>',\n",
      "                                                                'value': 10},\n",
      "                                            'averaging_enabled': {'__class__': 'qcodes.parameters.parameter.Parameter',\n",
      "                                                                  'full_name': 'DMM6500_averaging_enabled',\n",
      "                                                                  'instrument': 'qcodes.instrument_drivers.tektronix.Keithley_6500.Keithley_6500',\n",
      "                                                                  'instrument_name': 'DMM6500',\n",
      "                                                                  'inter_delay': 0,\n",
      "                                                                  'label': 'averaging_enabled',\n",
      "                                                                  'name': 'averaging_enabled',\n",
      "                                                                  'post_delay': 0,\n",
      "                                                                  'raw_value': True,\n",
      "                                                                  'ts': '2025-04-21 '\n",
      "                                                                        '15:13:14',\n",
      "                                                                  'unit': '',\n",
      "                                                                  'validators': ['<Boolean>'],\n",
      "                                                                  'vals': '<Boolean>',\n",
      "                                                                  'value': True},\n",
      "                                            'averaging_type': {'__class__': 'qcodes.parameters.parameter.Parameter',\n",
      "                                                               'full_name': 'DMM6500_averaging_type',\n",
      "                                                               'instrument': 'qcodes.instrument_drivers.tektronix.Keithley_6500.Keithley_6500',\n",
      "                                                               'instrument_name': 'DMM6500',\n",
      "                                                               'inter_delay': 0,\n",
      "                                                               'label': 'averaging_type',\n",
      "                                                               'name': 'averaging_type',\n",
      "                                                               'post_delay': 0,\n",
      "                                                               'raw_value': 'repeat',\n",
      "                                                               'ts': '2025-04-21 '\n",
      "                                                                     '15:13:14',\n",
      "                                                               'unit': '',\n",
      "                                                               'validators': ['<Enum: '\n",
      "                                                                              \"{'moving', \"\n",
      "                                                                              \"'repeat'}>\"],\n",
      "                                                               'vals': '<Enum: '\n",
      "                                                                       \"{'moving', \"\n",
      "                                                                       \"'repeat'}>\",\n",
      "                                                               'value': 'repeat'},\n",
      "                                            'digits': {'__class__': 'qcodes.parameters.parameter.Parameter',\n",
      "                                                       'full_name': 'DMM6500_digits',\n",
      "                                                       'instrument': 'qcodes.instrument_drivers.tektronix.Keithley_6500.Keithley_6500',\n",
      "                                                       'instrument_name': 'DMM6500',\n",
      "                                                       'inter_delay': 0,\n",
      "                                                       'label': 'digits',\n",
      "                                                       'name': 'digits',\n",
      "                                                       'post_delay': 0,\n",
      "                                                       'raw_value': '6',\n",
      "                                                       'ts': '2025-04-21 '\n",
      "                                                             '15:13:14',\n",
      "                                                       'unit': '',\n",
      "                                                       'validators': ['<Ints '\n",
      "                                                                      '4<=v<=7>'],\n",
      "                                                       'vals': '<Ints 4<=v<=7>',\n",
      "                                                       'value': 6},\n",
      "                                            'display_backlight': {'__class__': 'qcodes.parameters.parameter.Parameter',\n",
      "                                                                  'full_name': 'DMM6500_display_backlight',\n",
      "                                                                  'instrument': 'qcodes.instrument_drivers.tektronix.Keithley_6500.Keithley_6500',\n",
      "                                                                  'instrument_name': 'DMM6500',\n",
      "                                                                  'inter_delay': 0,\n",
      "                                                                  'label': 'display_backlight',\n",
      "                                                                  'name': 'display_backlight',\n",
      "                                                                  'post_delay': 0,\n",
      "                                                                  'raw_value': 'ON50',\n",
      "                                                                  'ts': '2025-04-21 '\n",
      "                                                                        '15:13:14',\n",
      "                                                                  'unit': '',\n",
      "                                                                  'val_mapping': {'Blackout': 'BLACkout',\n",
      "                                                                                  'Off': 'OFF',\n",
      "                                                                                  'On 100': 'ON100',\n",
      "                                                                                  'On 25': 'ON25',\n",
      "                                                                                  'On 50': 'ON50',\n",
      "                                                                                  'On 75': 'ON75'},\n",
      "                                                                  'validators': ['<Enum: '\n",
      "                                                                                 \"{'On \"\n",
      "                                                                                 \"100', \"\n",
      "                                                                                 \"'On \"\n",
      "                                                                                 \"50', \"\n",
      "                                                                                 \"'Off', \"\n",
      "                                                                                 \"'Blackout', \"\n",
      "                                                                                 \"'On \"\n",
      "                                                                                 \"75', \"\n",
      "                                                                                 \"'On \"\n",
      "                                                                                 \"25'}>\"],\n",
      "                                                                  'vals': '<Enum: '\n",
      "                                                                          \"{'On \"\n",
      "                                                                          \"100', \"\n",
      "                                                                          \"'On \"\n",
      "                                                                          \"50', \"\n",
      "                                                                          \"'Off', \"\n",
      "                                                                          \"'Blackout', \"\n",
      "                                                                          \"'On \"\n",
      "                                                                          \"75', \"\n",
      "                                                                          \"'On \"\n",
      "                                                                          \"25'}>\",\n",
      "                                                                  'value': 'On '\n",
      "                                                                           '50'},\n",
      "                                            'mode': {'__class__': 'qcodes.parameters.parameter.Parameter',\n",
      "                                                     'full_name': 'DMM6500_mode',\n",
      "                                                     'instrument': 'qcodes.instrument_drivers.tektronix.Keithley_6500.Keithley_6500',\n",
      "                                                     'instrument_name': 'DMM6500',\n",
      "                                                     'inter_delay': 0,\n",
      "                                                     'label': 'mode',\n",
      "                                                     'name': 'mode',\n",
      "                                                     'post_delay': 0,\n",
      "                                                     'raw_value': 'VOLT:DC',\n",
      "                                                     'ts': '2025-04-21 '\n",
      "                                                           '15:13:14',\n",
      "                                                     'unit': '',\n",
      "                                                     'val_mapping': {'2w resistance': 'RES',\n",
      "                                                                     '4w resistance': 'FRES',\n",
      "                                                                     'ac current': 'CURR:AC',\n",
      "                                                                     'ac voltage': 'VOLT:AC',\n",
      "                                                                     'dc current': 'CURR:DC',\n",
      "                                                                     'dc voltage': 'VOLT:DC',\n",
      "                                                                     'frequency': 'FREQ',\n",
      "                                                                     'temperature': 'TEMP'},\n",
      "                                                     'validators': ['<Enum: '\n",
      "                                                                    \"{'ac \"\n",
      "                                                                    \"voltage', \"\n",
      "                                                                    \"'ac \"\n",
      "                                                                    \"current', \"\n",
      "                                                                    \"'4w \"\n",
      "                                                                    \"resistance', \"\n",
      "                                                                    \"'2w \"\n",
      "                                                                    \"resistance', \"\n",
      "                                                                    \"'dc \"\n",
      "                                                                    \"current', \"\n",
      "                                                                    \"'frequency', \"\n",
      "                                                                    \"'dc \"\n",
      "                                                                    \"voltage', \"\n",
      "                                                                    \"'temperature'}>\"],\n",
      "                                                     'vals': \"<Enum: {'ac \"\n",
      "                                                             \"voltage', 'ac \"\n",
      "                                                             \"current', '4w \"\n",
      "                                                             \"resistance', '2w \"\n",
      "                                                             \"resistance', 'dc \"\n",
      "                                                             \"current', \"\n",
      "                                                             \"'frequency', 'dc \"\n",
      "                                                             \"voltage', \"\n",
      "                                                             \"'temperature'}>\",\n",
      "                                                     'value': 'dc voltage'},\n",
      "                                            'nplc': {'__class__': 'qcodes.parameters.parameter.Parameter',\n",
      "                                                     'full_name': 'DMM6500_nplc',\n",
      "                                                     'instrument': 'qcodes.instrument_drivers.tektronix.Keithley_6500.Keithley_6500',\n",
      "                                                     'instrument_name': 'DMM6500',\n",
      "                                                     'inter_delay': 0,\n",
      "                                                     'label': 'nplc',\n",
      "                                                     'name': 'nplc',\n",
      "                                                     'post_delay': 0,\n",
      "                                                     'raw_value': 1.0,\n",
      "                                                     'ts': '2025-04-21 '\n",
      "                                                           '15:13:14',\n",
      "                                                     'unit': '',\n",
      "                                                     'validators': ['<Numbers '\n",
      "                                                                    '0.01<=v<=10>'],\n",
      "                                                     'vals': '<Numbers '\n",
      "                                                             '0.01<=v<=10>',\n",
      "                                                     'value': 1.0},\n",
      "                                            'range': {'__class__': 'qcodes.parameters.parameter.Parameter',\n",
      "                                                      'full_name': 'DMM6500_range',\n",
      "                                                      'instrument': 'qcodes.instrument_drivers.tektronix.Keithley_6500.Keithley_6500',\n",
      "                                                      'instrument_name': 'DMM6500',\n",
      "                                                      'inter_delay': 0,\n",
      "                                                      'label': 'range',\n",
      "                                                      'name': 'range',\n",
      "                                                      'post_delay': 0,\n",
      "                                                      'raw_value': 0.1,\n",
      "                                                      'ts': '2025-04-21 '\n",
      "                                                            '15:13:14',\n",
      "                                                      'unit': '',\n",
      "                                                      'validators': ['<Numbers>'],\n",
      "                                                      'vals': '<Numbers>',\n",
      "                                                      'value': 0.1},\n",
      "                                            'timeout': {'__class__': 'qcodes.parameters.parameter.Parameter',\n",
      "                                                        'full_name': 'DMM6500_timeout',\n",
      "                                                        'instrument': 'qcodes.instrument_drivers.tektronix.Keithley_6500.Keithley_6500',\n",
      "                                                        'instrument_name': 'DMM6500',\n",
      "                                                        'inter_delay': 0,\n",
      "                                                        'label': 'timeout',\n",
      "                                                        'name': 'timeout',\n",
      "                                                        'post_delay': 0,\n",
      "                                                        'raw_value': 10.0,\n",
      "                                                        'ts': '2025-04-21 '\n",
      "                                                              '15:13:15',\n",
      "                                                        'unit': 's',\n",
      "                                                        'validators': ['<MultiType: '\n",
      "                                                                       'Numbers '\n",
      "                                                                       'v>=0, '\n",
      "                                                                       'Enum: '\n",
      "                                                                       '{None}>'],\n",
      "                                                        'vals': '<MultiType: '\n",
      "                                                                'Numbers v>=0, '\n",
      "                                                                'Enum: {None}>',\n",
      "                                                        'value': 10.0},\n",
      "                                            'trigger1_delay': {'__class__': 'qcodes.parameters.parameter.Parameter',\n",
      "                                                               'full_name': 'DMM6500_trigger1_delay',\n",
      "                                                               'instrument': 'qcodes.instrument_drivers.tektronix.Keithley_6500.Keithley_6500',\n",
      "                                                               'instrument_name': 'DMM6500',\n",
      "                                                               'inter_delay': 0,\n",
      "                                                               'label': 'trigger1_delay',\n",
      "                                                               'name': 'trigger1_delay',\n",
      "                                                               'post_delay': 0,\n",
      "                                                               'raw_value': '1E-05',\n",
      "                                                               'ts': '2025-04-21 '\n",
      "                                                                     '15:13:14',\n",
      "                                                               'unit': 's',\n",
      "                                                               'validators': ['<Numbers '\n",
      "                                                                              '0<=v<=999999.999>'],\n",
      "                                                               'vals': '<Numbers '\n",
      "                                                                       '0<=v<=999999.999>',\n",
      "                                                               'value': 1e-05},\n",
      "                                            'trigger1_source': {'__class__': 'qcodes.parameters.parameter.Parameter',\n",
      "                                                                'full_name': 'DMM6500_trigger1_source',\n",
      "                                                                'instrument': 'qcodes.instrument_drivers.tektronix.Keithley_6500.Keithley_6500',\n",
      "                                                                'instrument_name': 'DMM6500',\n",
      "                                                                'inter_delay': 0,\n",
      "                                                                'label': 'trigger1_source',\n",
      "                                                                'name': 'trigger1_source',\n",
      "                                                                'post_delay': 0,\n",
      "                                                                'raw_value': 'NONE',\n",
      "                                                                'ts': '2025-04-21 '\n",
      "                                                                      '15:13:14',\n",
      "                                                                'unit': '',\n",
      "                                                                'val_mapping': {'bus': 'COMM',\n",
      "                                                                                'external': 'EXT',\n",
      "                                                                                'front-panel': 'DISP',\n",
      "                                                                                'immediate': 'NONE',\n",
      "                                                                                'notify1': 'NOT1',\n",
      "                                                                                'notify2': 'NOT2',\n",
      "                                                                                'notify3': 'NOT3',\n",
      "                                                                                'timer1': 'TIM1',\n",
      "                                                                                'timer2': 'TIM2',\n",
      "                                                                                'timer3': 'TIM3',\n",
      "                                                                                'timer4': 'TIM4'},\n",
      "                                                                'validators': ['<Enum: '\n",
      "                                                                               \"{'notify2', \"\n",
      "                                                                               \"'bus', \"\n",
      "                                                                               \"'timer4', \"\n",
      "                                                                               \"'timer2', \"\n",
      "                                                                               \"'notify3', \"\n",
      "                                                                               \"'immediate', \"\n",
      "                                                                               \"'timer3', \"\n",
      "                                                                               \"'timer1', \"\n",
      "                                                                               \"'front-panel', \"\n",
      "                                                                               \"'notify1', \"\n",
      "                                                                               \"'external'}>\"],\n",
      "                                                                'vals': '<Enum: '\n",
      "                                                                        \"{'notify2', \"\n",
      "                                                                        \"'bus', \"\n",
      "                                                                        \"'timer4', \"\n",
      "                                                                        \"'timer2', \"\n",
      "                                                                        \"'notify3', \"\n",
      "                                                                        \"'immediate', \"\n",
      "                                                                        \"'timer3', \"\n",
      "                                                                        \"'timer1', \"\n",
      "                                                                        \"'front-panel', \"\n",
      "                                                                        \"'notify1', \"\n",
      "                                                                        \"'external'}>\",\n",
      "                                                                'value': 'immediate'},\n",
      "                                            'trigger2_delay': {'__class__': 'qcodes.parameters.parameter.Parameter',\n",
      "                                                               'full_name': 'DMM6500_trigger2_delay',\n",
      "                                                               'instrument': 'qcodes.instrument_drivers.tektronix.Keithley_6500.Keithley_6500',\n",
      "                                                               'instrument_name': 'DMM6500',\n",
      "                                                               'inter_delay': 0,\n",
      "                                                               'label': 'trigger2_delay',\n",
      "                                                               'name': 'trigger2_delay',\n",
      "                                                               'post_delay': 0,\n",
      "                                                               'raw_value': '1E-05',\n",
      "                                                               'ts': '2025-04-21 '\n",
      "                                                                     '15:13:14',\n",
      "                                                               'unit': 's',\n",
      "                                                               'validators': ['<Numbers '\n",
      "                                                                              '0<=v<=999999.999>'],\n",
      "                                                               'vals': '<Numbers '\n",
      "                                                                       '0<=v<=999999.999>',\n",
      "                                                               'value': 1e-05},\n",
      "                                            'trigger2_source': {'__class__': 'qcodes.parameters.parameter.Parameter',\n",
      "                                                                'full_name': 'DMM6500_trigger2_source',\n",
      "                                                                'instrument': 'qcodes.instrument_drivers.tektronix.Keithley_6500.Keithley_6500',\n",
      "                                                                'instrument_name': 'DMM6500',\n",
      "                                                                'inter_delay': 0,\n",
      "                                                                'label': 'trigger2_source',\n",
      "                                                                'name': 'trigger2_source',\n",
      "                                                                'post_delay': 0,\n",
      "                                                                'raw_value': 'NONE',\n",
      "                                                                'ts': '2025-04-21 '\n",
      "                                                                      '15:13:14',\n",
      "                                                                'unit': '',\n",
      "                                                                'val_mapping': {'bus': 'COMM',\n",
      "                                                                                'external': 'EXT',\n",
      "                                                                                'front-panel': 'DISP',\n",
      "                                                                                'immediate': 'NONE',\n",
      "                                                                                'notify1': 'NOT1',\n",
      "                                                                                'notify2': 'NOT2',\n",
      "                                                                                'notify3': 'NOT3',\n",
      "                                                                                'timer1': 'TIM1',\n",
      "                                                                                'timer2': 'TIM2',\n",
      "                                                                                'timer3': 'TIM3',\n",
      "                                                                                'timer4': 'TIM4'},\n",
      "                                                                'validators': ['<Enum: '\n",
      "                                                                               \"{'notify2', \"\n",
      "                                                                               \"'bus', \"\n",
      "                                                                               \"'timer4', \"\n",
      "                                                                               \"'timer2', \"\n",
      "                                                                               \"'notify3', \"\n",
      "                                                                               \"'immediate', \"\n",
      "                                                                               \"'timer3', \"\n",
      "                                                                               \"'timer1', \"\n",
      "                                                                               \"'front-panel', \"\n",
      "                                                                               \"'notify1', \"\n",
      "                                                                               \"'external'}>\"],\n",
      "                                                                'vals': '<Enum: '\n",
      "                                                                        \"{'notify2', \"\n",
      "                                                                        \"'bus', \"\n",
      "                                                                        \"'timer4', \"\n",
      "                                                                        \"'timer2', \"\n",
      "                                                                        \"'notify3', \"\n",
      "                                                                        \"'immediate', \"\n",
      "                                                                        \"'timer3', \"\n",
      "                                                                        \"'timer1', \"\n",
      "                                                                        \"'front-panel', \"\n",
      "                                                                        \"'notify1', \"\n",
      "                                                                        \"'external'}>\",\n",
      "                                                                'value': 'immediate'},\n",
      "                                            'trigger3_delay': {'__class__': 'qcodes.parameters.parameter.Parameter',\n",
      "                                                               'full_name': 'DMM6500_trigger3_delay',\n",
      "                                                               'instrument': 'qcodes.instrument_drivers.tektronix.Keithley_6500.Keithley_6500',\n",
      "                                                               'instrument_name': 'DMM6500',\n",
      "                                                               'inter_delay': 0,\n",
      "                                                               'label': 'trigger3_delay',\n",
      "                                                               'name': 'trigger3_delay',\n",
      "                                                               'post_delay': 0,\n",
      "                                                               'raw_value': '1E-05',\n",
      "                                                               'ts': '2025-04-21 '\n",
      "                                                                     '15:13:14',\n",
      "                                                               'unit': 's',\n",
      "                                                               'validators': ['<Numbers '\n",
      "                                                                              '0<=v<=999999.999>'],\n",
      "                                                               'vals': '<Numbers '\n",
      "                                                                       '0<=v<=999999.999>',\n",
      "                                                               'value': 1e-05},\n",
      "                                            'trigger3_source': {'__class__': 'qcodes.parameters.parameter.Parameter',\n",
      "                                                                'full_name': 'DMM6500_trigger3_source',\n",
      "                                                                'instrument': 'qcodes.instrument_drivers.tektronix.Keithley_6500.Keithley_6500',\n",
      "                                                                'instrument_name': 'DMM6500',\n",
      "                                                                'inter_delay': 0,\n",
      "                                                                'label': 'trigger3_source',\n",
      "                                                                'name': 'trigger3_source',\n",
      "                                                                'post_delay': 0,\n",
      "                                                                'raw_value': 'NONE',\n",
      "                                                                'ts': '2025-04-21 '\n",
      "                                                                      '15:13:14',\n",
      "                                                                'unit': '',\n",
      "                                                                'val_mapping': {'bus': 'COMM',\n",
      "                                                                                'external': 'EXT',\n",
      "                                                                                'front-panel': 'DISP',\n",
      "                                                                                'immediate': 'NONE',\n",
      "                                                                                'notify1': 'NOT1',\n",
      "                                                                                'notify2': 'NOT2',\n",
      "                                                                                'notify3': 'NOT3',\n",
      "                                                                                'timer1': 'TIM1',\n",
      "                                                                                'timer2': 'TIM2',\n",
      "                                                                                'timer3': 'TIM3',\n",
      "                                                                                'timer4': 'TIM4'},\n",
      "                                                                'validators': ['<Enum: '\n",
      "                                                                               \"{'notify2', \"\n",
      "                                                                               \"'bus', \"\n",
      "                                                                               \"'timer4', \"\n",
      "                                                                               \"'timer2', \"\n",
      "                                                                               \"'notify3', \"\n",
      "                                                                               \"'immediate', \"\n",
      "                                                                               \"'timer3', \"\n",
      "                                                                               \"'timer1', \"\n",
      "                                                                               \"'front-panel', \"\n",
      "                                                                               \"'notify1', \"\n",
      "                                                                               \"'external'}>\"],\n",
      "                                                                'vals': '<Enum: '\n",
      "                                                                        \"{'notify2', \"\n",
      "                                                                        \"'bus', \"\n",
      "                                                                        \"'timer4', \"\n",
      "                                                                        \"'timer2', \"\n",
      "                                                                        \"'notify3', \"\n",
      "                                                                        \"'immediate', \"\n",
      "                                                                        \"'timer3', \"\n",
      "                                                                        \"'timer1', \"\n",
      "                                                                        \"'front-panel', \"\n",
      "                                                                        \"'notify1', \"\n",
      "                                                                        \"'external'}>\",\n",
      "                                                                'value': 'immediate'},\n",
      "                                            'trigger4_delay': {'__class__': 'qcodes.parameters.parameter.Parameter',\n",
      "                                                               'full_name': 'DMM6500_trigger4_delay',\n",
      "                                                               'instrument': 'qcodes.instrument_drivers.tektronix.Keithley_6500.Keithley_6500',\n",
      "                                                               'instrument_name': 'DMM6500',\n",
      "                                                               'inter_delay': 0,\n",
      "                                                               'label': 'trigger4_delay',\n",
      "                                                               'name': 'trigger4_delay',\n",
      "                                                               'post_delay': 0,\n",
      "                                                               'raw_value': '1E-05',\n",
      "                                                               'ts': '2025-04-21 '\n",
      "                                                                     '15:13:14',\n",
      "                                                               'unit': 's',\n",
      "                                                               'validators': ['<Numbers '\n",
      "                                                                              '0<=v<=999999.999>'],\n",
      "                                                               'vals': '<Numbers '\n",
      "                                                                       '0<=v<=999999.999>',\n",
      "                                                               'value': 1e-05},\n",
      "                                            'trigger4_source': {'__class__': 'qcodes.parameters.parameter.Parameter',\n",
      "                                                                'full_name': 'DMM6500_trigger4_source',\n",
      "                                                                'instrument': 'qcodes.instrument_drivers.tektronix.Keithley_6500.Keithley_6500',\n",
      "                                                                'instrument_name': 'DMM6500',\n",
      "                                                                'inter_delay': 0,\n",
      "                                                                'label': 'trigger4_source',\n",
      "                                                                'name': 'trigger4_source',\n",
      "                                                                'post_delay': 0,\n",
      "                                                                'raw_value': 'NONE',\n",
      "                                                                'ts': '2025-04-21 '\n",
      "                                                                      '15:13:15',\n",
      "                                                                'unit': '',\n",
      "                                                                'val_mapping': {'bus': 'COMM',\n",
      "                                                                                'external': 'EXT',\n",
      "                                                                                'front-panel': 'DISP',\n",
      "                                                                                'immediate': 'NONE',\n",
      "                                                                                'notify1': 'NOT1',\n",
      "                                                                                'notify2': 'NOT2',\n",
      "                                                                                'notify3': 'NOT3',\n",
      "                                                                                'timer1': 'TIM1',\n",
      "                                                                                'timer2': 'TIM2',\n",
      "                                                                                'timer3': 'TIM3',\n",
      "                                                                                'timer4': 'TIM4'},\n",
      "                                                                'validators': ['<Enum: '\n",
      "                                                                               \"{'notify2', \"\n",
      "                                                                               \"'bus', \"\n",
      "                                                                               \"'timer4', \"\n",
      "                                                                               \"'timer2', \"\n",
      "                                                                               \"'notify3', \"\n",
      "                                                                               \"'immediate', \"\n",
      "                                                                               \"'timer3', \"\n",
      "                                                                               \"'timer1', \"\n",
      "                                                                               \"'front-panel', \"\n",
      "                                                                               \"'notify1', \"\n",
      "                                                                               \"'external'}>\"],\n",
      "                                                                'vals': '<Enum: '\n",
      "                                                                        \"{'notify2', \"\n",
      "                                                                        \"'bus', \"\n",
      "                                                                        \"'timer4', \"\n",
      "                                                                        \"'timer2', \"\n",
      "                                                                        \"'notify3', \"\n",
      "                                                                        \"'immediate', \"\n",
      "                                                                        \"'timer3', \"\n",
      "                                                                        \"'timer1', \"\n",
      "                                                                        \"'front-panel', \"\n",
      "                                                                        \"'notify1', \"\n",
      "                                                                        \"'external'}>\",\n",
      "                                                                'value': 'immediate'},\n",
      "                                            'trigger_count': {'__class__': 'qcodes.parameters.parameter.Parameter',\n",
      "                                                              'full_name': 'DMM6500_trigger_count',\n",
      "                                                              'instrument': 'qcodes.instrument_drivers.tektronix.Keithley_6500.Keithley_6500',\n",
      "                                                              'instrument_name': 'DMM6500',\n",
      "                                                              'inter_delay': 0,\n",
      "                                                              'label': 'trigger_count',\n",
      "                                                              'name': 'trigger_count',\n",
      "                                                              'post_delay': 0,\n",
      "                                                              'raw_value': '1',\n",
      "                                                              'ts': '2025-04-21 '\n",
      "                                                                    '15:13:14',\n",
      "                                                              'unit': '',\n",
      "                                                              'validators': ['<MultiType: '\n",
      "                                                                             'Ints '\n",
      "                                                                             '1<=v<=9999, '\n",
      "                                                                             'Enum: '\n",
      "                                                                             \"{'default', \"\n",
      "                                                                             \"'minimum', \"\n",
      "                                                                             \"'inf', \"\n",
      "                                                                             \"'maximum'}>\"],\n",
      "                                                              'vals': '<MultiType: '\n",
      "                                                                      'Ints '\n",
      "                                                                      '1<=v<=9999, '\n",
      "                                                                      'Enum: '\n",
      "                                                                      \"{'default', \"\n",
      "                                                                      \"'minimum', \"\n",
      "                                                                      \"'inf', \"\n",
      "                                                                      \"'maximum'}>\",\n",
      "                                                              'value': 1},\n",
      "                                            'trigger_timer': {'__class__': 'qcodes.parameters.parameter.Parameter',\n",
      "                                                              'full_name': 'DMM6500_trigger_timer',\n",
      "                                                              'instrument': 'qcodes.instrument_drivers.tektronix.Keithley_6500.Keithley_6500',\n",
      "                                                              'instrument_name': 'DMM6500',\n",
      "                                                              'inter_delay': 0,\n",
      "                                                              'label': 'trigger_timer',\n",
      "                                                              'name': 'trigger_timer',\n",
      "                                                              'post_delay': 0,\n",
      "                                                              'raw_value': '0',\n",
      "                                                              'ts': '2025-04-21 '\n",
      "                                                                    '15:13:15',\n",
      "                                                              'unit': 's',\n",
      "                                                              'validators': ['<Numbers '\n",
      "                                                                             '0<=v<=999999.999>'],\n",
      "                                                              'vals': '<Numbers '\n",
      "                                                                      '0<=v<=999999.999>',\n",
      "                                                              'value': 0.0}},\n",
      "                             'read_terminator': '\\n',\n",
      "                             'submodules': {},\n",
      "                             'terminator': '\\n',\n",
      "                             'timeout': 10.0,\n",
      "                             'write_terminator': '\\n'},\n",
      "                 'K2400': {'__class__': 'qcodes.instrument_drivers.Keithley.Keithley_2400.Keithley2400',\n",
      "                           'address': 'GPIB0::19::INSTR',\n",
      "                           'functions': {},\n",
      "                           'label': 'K2400',\n",
      "                           'name': 'K2400',\n",
      "                           'parameters': {'IDN': {'__class__': 'qcodes.parameters.parameter.Parameter',\n",
      "                                                  'full_name': 'K2400_IDN',\n",
      "                                                  'instrument': 'qcodes.instrument_drivers.Keithley.Keithley_2400.Keithley2400',\n",
      "                                                  'instrument_name': 'K2400',\n",
      "                                                  'inter_delay': 0,\n",
      "                                                  'label': 'IDN',\n",
      "                                                  'name': 'IDN',\n",
      "                                                  'post_delay': 0,\n",
      "                                                  'raw_value': {'firmware': 'C32   '\n",
      "                                                                            'Oct  '\n",
      "                                                                            '4 '\n",
      "                                                                            '2010 '\n",
      "                                                                            '14:20:11/A02  '\n",
      "                                                                            '/K/M',\n",
      "                                                                'model': '2400',\n",
      "                                                                'serial': '0957985',\n",
      "                                                                'vendor': 'KEITHLEY '\n",
      "                                                                          'INSTRUMENTS '\n",
      "                                                                          'INC.'},\n",
      "                                                  'ts': '2025-04-21 15:13:15',\n",
      "                                                  'unit': '',\n",
      "                                                  'validators': ['<Anything>'],\n",
      "                                                  'vals': '<Anything>',\n",
      "                                                  'value': {'firmware': 'C32   '\n",
      "                                                                        'Oct  '\n",
      "                                                                        '4 '\n",
      "                                                                        '2010 '\n",
      "                                                                        '14:20:11/A02  '\n",
      "                                                                        '/K/M',\n",
      "                                                            'model': '2400',\n",
      "                                                            'serial': '0957985',\n",
      "                                                            'vendor': 'KEITHLEY '\n",
      "                                                                      'INSTRUMENTS '\n",
      "                                                                      'INC.'}},\n",
      "                                          'compliancei': {'__class__': 'qcodes.parameters.parameter.Parameter',\n",
      "                                                          'full_name': 'K2400_compliancei',\n",
      "                                                          'instrument': 'qcodes.instrument_drivers.Keithley.Keithley_2400.Keithley2400',\n",
      "                                                          'instrument_name': 'K2400',\n",
      "                                                          'inter_delay': 0,\n",
      "                                                          'label': 'Current '\n",
      "                                                                   'Compliance',\n",
      "                                                          'name': 'compliancei',\n",
      "                                                          'post_delay': 0,\n",
      "                                                          'raw_value': '1.050000E-04',\n",
      "                                                          'ts': '2025-04-21 '\n",
      "                                                                '15:13:15',\n",
      "                                                          'unit': '',\n",
      "                                                          'validators': [],\n",
      "                                                          'value': 0.000105},\n",
      "                                          'compliancev': {'__class__': 'qcodes.parameters.parameter.Parameter',\n",
      "                                                          'full_name': 'K2400_compliancev',\n",
      "                                                          'instrument': 'qcodes.instrument_drivers.Keithley.Keithley_2400.Keithley2400',\n",
      "                                                          'instrument_name': 'K2400',\n",
      "                                                          'inter_delay': 0,\n",
      "                                                          'label': 'Voltage '\n",
      "                                                                   'Compliance',\n",
      "                                                          'name': 'compliancev',\n",
      "                                                          'post_delay': 0,\n",
      "                                                          'raw_value': '2.100000E+01',\n",
      "                                                          'ts': '2025-04-21 '\n",
      "                                                                '15:13:15',\n",
      "                                                          'unit': '',\n",
      "                                                          'validators': [],\n",
      "                                                          'value': 21.0},\n",
      "                                          'curr': {'__class__': 'qcodes.parameters.parameter.Parameter',\n",
      "                                                   'full_name': 'K2400_curr',\n",
      "                                                   'instrument': 'qcodes.instrument_drivers.Keithley.Keithley_2400.Keithley2400',\n",
      "                                                   'instrument_name': 'K2400',\n",
      "                                                   'inter_delay': 0,\n",
      "                                                   'label': 'Current',\n",
      "                                                   'name': 'curr',\n",
      "                                                   'post_delay': 0,\n",
      "                                                   'raw_value': None,\n",
      "                                                   'ts': None,\n",
      "                                                   'unit': 'A',\n",
      "                                                   'validators': [],\n",
      "                                                   'value': None},\n",
      "                                          'mode': {'__class__': 'qcodes.parameters.parameter.Parameter',\n",
      "                                                   'full_name': 'K2400_mode',\n",
      "                                                   'instrument': 'qcodes.instrument_drivers.Keithley.Keithley_2400.Keithley2400',\n",
      "                                                   'instrument_name': 'K2400',\n",
      "                                                   'inter_delay': 0,\n",
      "                                                   'label': 'Mode',\n",
      "                                                   'name': 'mode',\n",
      "                                                   'post_delay': 0,\n",
      "                                                   'raw_value': 'VOLT',\n",
      "                                                   'ts': '2025-04-21 15:13:15',\n",
      "                                                   'unit': '',\n",
      "                                                   'validators': ['<Enum: '\n",
      "                                                                  \"{'VOLT', \"\n",
      "                                                                  \"'CURR'}>\"],\n",
      "                                                   'vals': \"<Enum: {'VOLT', \"\n",
      "                                                           \"'CURR'}>\",\n",
      "                                                   'value': 'VOLT'},\n",
      "                                          'nplci': {'__class__': 'qcodes.parameters.parameter.Parameter',\n",
      "                                                    'full_name': 'K2400_nplci',\n",
      "                                                    'instrument': 'qcodes.instrument_drivers.Keithley.Keithley_2400.Keithley2400',\n",
      "                                                    'instrument_name': 'K2400',\n",
      "                                                    'inter_delay': 0,\n",
      "                                                    'label': 'Current '\n",
      "                                                             'integration time',\n",
      "                                                    'name': 'nplci',\n",
      "                                                    'post_delay': 0,\n",
      "                                                    'raw_value': '1.00',\n",
      "                                                    'ts': '2025-04-21 15:13:15',\n",
      "                                                    'unit': '',\n",
      "                                                    'validators': [],\n",
      "                                                    'value': 1.0},\n",
      "                                          'nplcv': {'__class__': 'qcodes.parameters.parameter.Parameter',\n",
      "                                                    'full_name': 'K2400_nplcv',\n",
      "                                                    'instrument': 'qcodes.instrument_drivers.Keithley.Keithley_2400.Keithley2400',\n",
      "                                                    'instrument_name': 'K2400',\n",
      "                                                    'inter_delay': 0,\n",
      "                                                    'label': 'Voltage '\n",
      "                                                             'integration time',\n",
      "                                                    'name': 'nplcv',\n",
      "                                                    'post_delay': 0,\n",
      "                                                    'raw_value': '1.00',\n",
      "                                                    'ts': '2025-04-21 15:13:15',\n",
      "                                                    'unit': '',\n",
      "                                                    'validators': [],\n",
      "                                                    'value': 1.0},\n",
      "                                          'output': {'__class__': 'qcodes.parameters.parameter.Parameter',\n",
      "                                                     'full_name': 'K2400_output',\n",
      "                                                     'instrument': 'qcodes.instrument_drivers.Keithley.Keithley_2400.Keithley2400',\n",
      "                                                     'instrument_name': 'K2400',\n",
      "                                                     'inter_delay': 0,\n",
      "                                                     'label': 'output',\n",
      "                                                     'name': 'output',\n",
      "                                                     'post_delay': 0,\n",
      "                                                     'raw_value': '0',\n",
      "                                                     'ts': '2025-04-21 '\n",
      "                                                           '15:13:15',\n",
      "                                                     'unit': '',\n",
      "                                                     'val_mapping': OrderedDict([('On',\n",
      "                                                                                  '1'),\n",
      "                                                                                 ('ON',\n",
      "                                                                                  '1'),\n",
      "                                                                                 ('on',\n",
      "                                                                                  '1'),\n",
      "                                                                                 ('1',\n",
      "                                                                                  '1'),\n",
      "                                                                                 (True,\n",
      "                                                                                  '1'),\n",
      "                                                                                 ('Off',\n",
      "                                                                                  '0'),\n",
      "                                                                                 ('OFF',\n",
      "                                                                                  '0'),\n",
      "                                                                                 ('off',\n",
      "                                                                                  '0'),\n",
      "                                                                                 ('0',\n",
      "                                                                                  '0'),\n",
      "                                                                                 (False,\n",
      "                                                                                  '0')]),\n",
      "                                                     'validators': ['<Enum: '\n",
      "                                                                    '{False, '\n",
      "                                                                    'True, '\n",
      "                                                                    \"'Off', \"\n",
      "                                                                    \"'OFF', \"\n",
      "                                                                    \"'1', \"\n",
      "                                                                    \"'ON', \"\n",
      "                                                                    \"'off', \"\n",
      "                                                                    \"'on', \"\n",
      "                                                                    \"'On', \"\n",
      "                                                                    \"'0'}>\"],\n",
      "                                                     'vals': '<Enum: {False, '\n",
      "                                                             \"True, 'Off', \"\n",
      "                                                             \"'OFF', '1', \"\n",
      "                                                             \"'ON', 'off', \"\n",
      "                                                             \"'on', 'On', \"\n",
      "                                                             \"'0'}>\",\n",
      "                                                     'value': False},\n",
      "                                          'rangei': {'__class__': 'qcodes.parameters.parameter.Parameter',\n",
      "                                                     'full_name': 'K2400_rangei',\n",
      "                                                     'instrument': 'qcodes.instrument_drivers.Keithley.Keithley_2400.Keithley2400',\n",
      "                                                     'instrument_name': 'K2400',\n",
      "                                                     'inter_delay': 0,\n",
      "                                                     'label': 'Current range',\n",
      "                                                     'name': 'rangei',\n",
      "                                                     'post_delay': 0,\n",
      "                                                     'raw_value': '1.050000E-04',\n",
      "                                                     'ts': '2025-04-21 '\n",
      "                                                           '15:13:15',\n",
      "                                                     'unit': '',\n",
      "                                                     'validators': [],\n",
      "                                                     'value': 0.000105},\n",
      "                                          'rangev': {'__class__': 'qcodes.parameters.parameter.Parameter',\n",
      "                                                     'full_name': 'K2400_rangev',\n",
      "                                                     'instrument': 'qcodes.instrument_drivers.Keithley.Keithley_2400.Keithley2400',\n",
      "                                                     'instrument_name': 'K2400',\n",
      "                                                     'inter_delay': 0,\n",
      "                                                     'label': 'Voltage range',\n",
      "                                                     'name': 'rangev',\n",
      "                                                     'post_delay': 0,\n",
      "                                                     'raw_value': '21.00',\n",
      "                                                     'ts': '2025-04-21 '\n",
      "                                                           '15:13:15',\n",
      "                                                     'unit': '',\n",
      "                                                     'validators': [],\n",
      "                                                     'value': 21.0},\n",
      "                                          'resistance': {'__class__': 'qcodes.parameters.parameter.Parameter',\n",
      "                                                         'full_name': 'K2400_resistance',\n",
      "                                                         'instrument': 'qcodes.instrument_drivers.Keithley.Keithley_2400.Keithley2400',\n",
      "                                                         'instrument_name': 'K2400',\n",
      "                                                         'inter_delay': 0,\n",
      "                                                         'label': 'Resistance',\n",
      "                                                         'name': 'resistance',\n",
      "                                                         'post_delay': 0,\n",
      "                                                         'raw_value': None,\n",
      "                                                         'ts': None,\n",
      "                                                         'unit': 'Ohm',\n",
      "                                                         'validators': [],\n",
      "                                                         'value': None},\n",
      "                                          'sense': {'__class__': 'qcodes.parameters.parameter.Parameter',\n",
      "                                                    'full_name': 'K2400_sense',\n",
      "                                                    'instrument': 'qcodes.instrument_drivers.Keithley.Keithley_2400.Keithley2400',\n",
      "                                                    'instrument_name': 'K2400',\n",
      "                                                    'inter_delay': 0,\n",
      "                                                    'label': 'Sense mode',\n",
      "                                                    'name': 'sense',\n",
      "                                                    'post_delay': 0,\n",
      "                                                    'raw_value': '\"CURR:DC\"',\n",
      "                                                    'ts': '2025-04-21 15:13:15',\n",
      "                                                    'unit': '',\n",
      "                                                    'validators': ['<Strings>'],\n",
      "                                                    'vals': '<Strings>',\n",
      "                                                    'value': '\"CURR:DC\"'},\n",
      "                                          'timeout': {'__class__': 'qcodes.parameters.parameter.Parameter',\n",
      "                                                      'full_name': 'K2400_timeout',\n",
      "                                                      'instrument': 'qcodes.instrument_drivers.Keithley.Keithley_2400.Keithley2400',\n",
      "                                                      'instrument_name': 'K2400',\n",
      "                                                      'inter_delay': 0,\n",
      "                                                      'label': 'timeout',\n",
      "                                                      'name': 'timeout',\n",
      "                                                      'post_delay': 0,\n",
      "                                                      'raw_value': 10.0,\n",
      "                                                      'ts': '2025-04-21 '\n",
      "                                                            '15:13:15',\n",
      "                                                      'unit': 's',\n",
      "                                                      'validators': ['<MultiType: '\n",
      "                                                                     'Numbers '\n",
      "                                                                     'v>=0, '\n",
      "                                                                     'Enum: '\n",
      "                                                                     '{None}>'],\n",
      "                                                      'vals': '<MultiType: '\n",
      "                                                              'Numbers v>=0, '\n",
      "                                                              'Enum: {None}>',\n",
      "                                                      'value': 10.0},\n",
      "                                          'volt': {'__class__': 'qcodes.parameters.parameter.Parameter',\n",
      "                                                   'full_name': 'K2400_volt',\n",
      "                                                   'instrument': 'qcodes.instrument_drivers.Keithley.Keithley_2400.Keithley2400',\n",
      "                                                   'instrument_name': 'K2400',\n",
      "                                                   'inter_delay': 0,\n",
      "                                                   'label': 'Voltage',\n",
      "                                                   'name': 'volt',\n",
      "                                                   'post_delay': 0,\n",
      "                                                   'raw_value': None,\n",
      "                                                   'ts': None,\n",
      "                                                   'unit': 'V',\n",
      "                                                   'validators': [],\n",
      "                                                   'value': None}},\n",
      "                           'read_terminator': '\\n',\n",
      "                           'submodules': {},\n",
      "                           'terminator': '\\n',\n",
      "                           'timeout': 10.0,\n",
      "                           'write_terminator': '\\n'},\n",
      "                 'K2440': {'__class__': 'qcodes.instrument_drivers.Keithley.Keithley_2400.Keithley2400',\n",
      "                           'address': 'GPIB0::22::INSTR',\n",
      "                           'functions': {},\n",
      "                           'label': 'K2440',\n",
      "                           'name': 'K2440',\n",
      "                           'parameters': {'IDN': {'__class__': 'qcodes.parameters.parameter.Parameter',\n",
      "                                                  'full_name': 'K2440_IDN',\n",
      "                                                  'instrument': 'qcodes.instrument_drivers.Keithley.Keithley_2400.Keithley2400',\n",
      "                                                  'instrument_name': 'K2440',\n",
      "                                                  'inter_delay': 0,\n",
      "                                                  'label': 'IDN',\n",
      "                                                  'name': 'IDN',\n",
      "                                                  'post_delay': 0,\n",
      "                                                  'raw_value': {'firmware': 'C30   '\n",
      "                                                                            'Mar '\n",
      "                                                                            '17 '\n",
      "                                                                            '2006 '\n",
      "                                                                            '09:29:29/A02  '\n",
      "                                                                            '/B/A',\n",
      "                                                                'model': '2440',\n",
      "                                                                'serial': '1225508',\n",
      "                                                                'vendor': 'KEITHLEY '\n",
      "                                                                          'INSTRUMENTS '\n",
      "                                                                          'INC.'},\n",
      "                                                  'ts': '2025-04-21 15:13:15',\n",
      "                                                  'unit': '',\n",
      "                                                  'validators': ['<Anything>'],\n",
      "                                                  'vals': '<Anything>',\n",
      "                                                  'value': {'firmware': 'C30   '\n",
      "                                                                        'Mar '\n",
      "                                                                        '17 '\n",
      "                                                                        '2006 '\n",
      "                                                                        '09:29:29/A02  '\n",
      "                                                                        '/B/A',\n",
      "                                                            'model': '2440',\n",
      "                                                            'serial': '1225508',\n",
      "                                                            'vendor': 'KEITHLEY '\n",
      "                                                                      'INSTRUMENTS '\n",
      "                                                                      'INC.'}},\n",
      "                                          'compliancei': {'__class__': 'qcodes.parameters.parameter.Parameter',\n",
      "                                                          'full_name': 'K2440_compliancei',\n",
      "                                                          'instrument': 'qcodes.instrument_drivers.Keithley.Keithley_2400.Keithley2400',\n",
      "                                                          'instrument_name': 'K2440',\n",
      "                                                          'inter_delay': 0,\n",
      "                                                          'label': 'Current '\n",
      "                                                                   'Compliance',\n",
      "                                                          'name': 'compliancei',\n",
      "                                                          'post_delay': 0,\n",
      "                                                          'raw_value': '1.050000E-04',\n",
      "                                                          'ts': '2025-04-21 '\n",
      "                                                                '15:13:15',\n",
      "                                                          'unit': '',\n",
      "                                                          'validators': [],\n",
      "                                                          'value': 0.000105},\n",
      "                                          'compliancev': {'__class__': 'qcodes.parameters.parameter.Parameter',\n",
      "                                                          'full_name': 'K2440_compliancev',\n",
      "                                                          'instrument': 'qcodes.instrument_drivers.Keithley.Keithley_2400.Keithley2400',\n",
      "                                                          'instrument_name': 'K2440',\n",
      "                                                          'inter_delay': 0,\n",
      "                                                          'label': 'Voltage '\n",
      "                                                                   'Compliance',\n",
      "                                                          'name': 'compliancev',\n",
      "                                                          'post_delay': 0,\n",
      "                                                          'raw_value': '1.050000E+01',\n",
      "                                                          'ts': '2025-04-21 '\n",
      "                                                                '15:13:15',\n",
      "                                                          'unit': '',\n",
      "                                                          'validators': [],\n",
      "                                                          'value': 10.5},\n",
      "                                          'curr': {'__class__': 'qcodes.parameters.parameter.Parameter',\n",
      "                                                   'full_name': 'K2440_curr',\n",
      "                                                   'instrument': 'qcodes.instrument_drivers.Keithley.Keithley_2400.Keithley2400',\n",
      "                                                   'instrument_name': 'K2440',\n",
      "                                                   'inter_delay': 0,\n",
      "                                                   'label': 'Current',\n",
      "                                                   'name': 'curr',\n",
      "                                                   'post_delay': 0,\n",
      "                                                   'raw_value': None,\n",
      "                                                   'ts': None,\n",
      "                                                   'unit': 'A',\n",
      "                                                   'validators': [],\n",
      "                                                   'value': None},\n",
      "                                          'mode': {'__class__': 'qcodes.parameters.parameter.Parameter',\n",
      "                                                   'full_name': 'K2440_mode',\n",
      "                                                   'instrument': 'qcodes.instrument_drivers.Keithley.Keithley_2400.Keithley2400',\n",
      "                                                   'instrument_name': 'K2440',\n",
      "                                                   'inter_delay': 0,\n",
      "                                                   'label': 'Mode',\n",
      "                                                   'name': 'mode',\n",
      "                                                   'post_delay': 0,\n",
      "                                                   'raw_value': 'VOLT',\n",
      "                                                   'ts': '2025-04-21 15:13:15',\n",
      "                                                   'unit': '',\n",
      "                                                   'validators': ['<Enum: '\n",
      "                                                                  \"{'VOLT', \"\n",
      "                                                                  \"'CURR'}>\"],\n",
      "                                                   'vals': \"<Enum: {'VOLT', \"\n",
      "                                                           \"'CURR'}>\",\n",
      "                                                   'value': 'VOLT'},\n",
      "                                          'nplci': {'__class__': 'qcodes.parameters.parameter.Parameter',\n",
      "                                                    'full_name': 'K2440_nplci',\n",
      "                                                    'instrument': 'qcodes.instrument_drivers.Keithley.Keithley_2400.Keithley2400',\n",
      "                                                    'instrument_name': 'K2440',\n",
      "                                                    'inter_delay': 0,\n",
      "                                                    'label': 'Current '\n",
      "                                                             'integration time',\n",
      "                                                    'name': 'nplci',\n",
      "                                                    'post_delay': 0,\n",
      "                                                    'raw_value': '1.00',\n",
      "                                                    'ts': '2025-04-21 15:13:15',\n",
      "                                                    'unit': '',\n",
      "                                                    'validators': [],\n",
      "                                                    'value': 1.0},\n",
      "                                          'nplcv': {'__class__': 'qcodes.parameters.parameter.Parameter',\n",
      "                                                    'full_name': 'K2440_nplcv',\n",
      "                                                    'instrument': 'qcodes.instrument_drivers.Keithley.Keithley_2400.Keithley2400',\n",
      "                                                    'instrument_name': 'K2440',\n",
      "                                                    'inter_delay': 0,\n",
      "                                                    'label': 'Voltage '\n",
      "                                                             'integration time',\n",
      "                                                    'name': 'nplcv',\n",
      "                                                    'post_delay': 0,\n",
      "                                                    'raw_value': '1.00',\n",
      "                                                    'ts': '2025-04-21 15:13:15',\n",
      "                                                    'unit': '',\n",
      "                                                    'validators': [],\n",
      "                                                    'value': 1.0},\n",
      "                                          'output': {'__class__': 'qcodes.parameters.parameter.Parameter',\n",
      "                                                     'full_name': 'K2440_output',\n",
      "                                                     'instrument': 'qcodes.instrument_drivers.Keithley.Keithley_2400.Keithley2400',\n",
      "                                                     'instrument_name': 'K2440',\n",
      "                                                     'inter_delay': 0,\n",
      "                                                     'label': 'output',\n",
      "                                                     'name': 'output',\n",
      "                                                     'post_delay': 0,\n",
      "                                                     'raw_value': '0',\n",
      "                                                     'ts': '2025-04-21 '\n",
      "                                                           '15:13:15',\n",
      "                                                     'unit': '',\n",
      "                                                     'val_mapping': OrderedDict([('On',\n",
      "                                                                                  '1'),\n",
      "                                                                                 ('ON',\n",
      "                                                                                  '1'),\n",
      "                                                                                 ('on',\n",
      "                                                                                  '1'),\n",
      "                                                                                 ('1',\n",
      "                                                                                  '1'),\n",
      "                                                                                 (True,\n",
      "                                                                                  '1'),\n",
      "                                                                                 ('Off',\n",
      "                                                                                  '0'),\n",
      "                                                                                 ('OFF',\n",
      "                                                                                  '0'),\n",
      "                                                                                 ('off',\n",
      "                                                                                  '0'),\n",
      "                                                                                 ('0',\n",
      "                                                                                  '0'),\n",
      "                                                                                 (False,\n",
      "                                                                                  '0')]),\n",
      "                                                     'validators': ['<Enum: '\n",
      "                                                                    '{False, '\n",
      "                                                                    'True, '\n",
      "                                                                    \"'Off', \"\n",
      "                                                                    \"'OFF', \"\n",
      "                                                                    \"'1', \"\n",
      "                                                                    \"'ON', \"\n",
      "                                                                    \"'off', \"\n",
      "                                                                    \"'on', \"\n",
      "                                                                    \"'On', \"\n",
      "                                                                    \"'0'}>\"],\n",
      "                                                     'vals': '<Enum: {False, '\n",
      "                                                             \"True, 'Off', \"\n",
      "                                                             \"'OFF', '1', \"\n",
      "                                                             \"'ON', 'off', \"\n",
      "                                                             \"'on', 'On', \"\n",
      "                                                             \"'0'}>\",\n",
      "                                                     'value': False},\n",
      "                                          'rangei': {'__class__': 'qcodes.parameters.parameter.Parameter',\n",
      "                                                     'full_name': 'K2440_rangei',\n",
      "                                                     'instrument': 'qcodes.instrument_drivers.Keithley.Keithley_2400.Keithley2400',\n",
      "                                                     'instrument_name': 'K2440',\n",
      "                                                     'inter_delay': 0,\n",
      "                                                     'label': 'Current range',\n",
      "                                                     'name': 'rangei',\n",
      "                                                     'post_delay': 0,\n",
      "                                                     'raw_value': '1.050000E-04',\n",
      "                                                     'ts': '2025-04-21 '\n",
      "                                                           '15:13:15',\n",
      "                                                     'unit': '',\n",
      "                                                     'validators': [],\n",
      "                                                     'value': 0.000105},\n",
      "                                          'rangev': {'__class__': 'qcodes.parameters.parameter.Parameter',\n",
      "                                                     'full_name': 'K2440_rangev',\n",
      "                                                     'instrument': 'qcodes.instrument_drivers.Keithley.Keithley_2400.Keithley2400',\n",
      "                                                     'instrument_name': 'K2440',\n",
      "                                                     'inter_delay': 0,\n",
      "                                                     'label': 'Voltage range',\n",
      "                                                     'name': 'rangev',\n",
      "                                                     'post_delay': 0,\n",
      "                                                     'raw_value': '10.50',\n",
      "                                                     'ts': '2025-04-21 '\n",
      "                                                           '15:13:15',\n",
      "                                                     'unit': '',\n",
      "                                                     'validators': [],\n",
      "                                                     'value': 10.5},\n",
      "                                          'resistance': {'__class__': 'qcodes.parameters.parameter.Parameter',\n",
      "                                                         'full_name': 'K2440_resistance',\n",
      "                                                         'instrument': 'qcodes.instrument_drivers.Keithley.Keithley_2400.Keithley2400',\n",
      "                                                         'instrument_name': 'K2440',\n",
      "                                                         'inter_delay': 0,\n",
      "                                                         'label': 'Resistance',\n",
      "                                                         'name': 'resistance',\n",
      "                                                         'post_delay': 0,\n",
      "                                                         'raw_value': None,\n",
      "                                                         'ts': None,\n",
      "                                                         'unit': 'Ohm',\n",
      "                                                         'validators': [],\n",
      "                                                         'value': None},\n",
      "                                          'sense': {'__class__': 'qcodes.parameters.parameter.Parameter',\n",
      "                                                    'full_name': 'K2440_sense',\n",
      "                                                    'instrument': 'qcodes.instrument_drivers.Keithley.Keithley_2400.Keithley2400',\n",
      "                                                    'instrument_name': 'K2440',\n",
      "                                                    'inter_delay': 0,\n",
      "                                                    'label': 'Sense mode',\n",
      "                                                    'name': 'sense',\n",
      "                                                    'post_delay': 0,\n",
      "                                                    'raw_value': '\"CURR:DC\"',\n",
      "                                                    'ts': '2025-04-21 15:13:15',\n",
      "                                                    'unit': '',\n",
      "                                                    'validators': ['<Strings>'],\n",
      "                                                    'vals': '<Strings>',\n",
      "                                                    'value': '\"CURR:DC\"'},\n",
      "                                          'timeout': {'__class__': 'qcodes.parameters.parameter.Parameter',\n",
      "                                                      'full_name': 'K2440_timeout',\n",
      "                                                      'instrument': 'qcodes.instrument_drivers.Keithley.Keithley_2400.Keithley2400',\n",
      "                                                      'instrument_name': 'K2440',\n",
      "                                                      'inter_delay': 0,\n",
      "                                                      'label': 'timeout',\n",
      "                                                      'name': 'timeout',\n",
      "                                                      'post_delay': 0,\n",
      "                                                      'raw_value': 10.0,\n",
      "                                                      'ts': '2025-04-21 '\n",
      "                                                            '15:13:15',\n",
      "                                                      'unit': 's',\n",
      "                                                      'validators': ['<MultiType: '\n",
      "                                                                     'Numbers '\n",
      "                                                                     'v>=0, '\n",
      "                                                                     'Enum: '\n",
      "                                                                     '{None}>'],\n",
      "                                                      'vals': '<MultiType: '\n",
      "                                                              'Numbers v>=0, '\n",
      "                                                              'Enum: {None}>',\n",
      "                                                      'value': 10.0},\n",
      "                                          'volt': {'__class__': 'qcodes.parameters.parameter.Parameter',\n",
      "                                                   'full_name': 'K2440_volt',\n",
      "                                                   'instrument': 'qcodes.instrument_drivers.Keithley.Keithley_2400.Keithley2400',\n",
      "                                                   'instrument_name': 'K2440',\n",
      "                                                   'inter_delay': 0,\n",
      "                                                   'label': 'Voltage',\n",
      "                                                   'name': 'volt',\n",
      "                                                   'post_delay': 0,\n",
      "                                                   'raw_value': None,\n",
      "                                                   'ts': None,\n",
      "                                                   'unit': 'V',\n",
      "                                                   'validators': [],\n",
      "                                                   'value': None}},\n",
      "                           'read_terminator': '\\n',\n",
      "                           'submodules': {},\n",
      "                           'terminator': '\\n',\n",
      "                           'timeout': 10.0,\n",
      "                           'write_terminator': '\\n'}},\n",
      " 'parameters': {}}\n"
     ]
    }
   ],
   "source": [
    "snapshot_of_station = station.snapshot()\n",
    "pprint(snapshot_of_station)"
   ]
  },
  {
   "cell_type": "markdown",
   "id": "4757b159",
   "metadata": {},
   "source": [
    "## Keithley 2440"
   ]
  },
  {
   "cell_type": "markdown",
   "id": "797b994c",
   "metadata": {},
   "source": [
    "### sensitive check"
   ]
  },
  {
   "cell_type": "code",
   "execution_count": 6,
   "id": "f387f69b",
   "metadata": {},
   "outputs": [
    {
     "data": {
      "text/plain": [
       "'VOLT'"
      ]
     },
     "execution_count": 6,
     "metadata": {},
     "output_type": "execute_result"
    }
   ],
   "source": [
    "K2440.mode('VOLT')\n",
    "\n",
    "K2440.mode()"
   ]
  },
  {
   "cell_type": "code",
   "execution_count": 7,
   "id": "09a8a36e",
   "metadata": {},
   "outputs": [
    {
     "name": "stdout",
     "output_type": "stream",
     "text": [
      "0.0003141628\n"
     ]
    }
   ],
   "source": [
    "K2440.output(1) # output on\n",
    "K2440.rangev(10)\n",
    "K2440.volt(0)\n",
    "K2440.compliancei(100e-3)\n",
    "sleep(1)\n",
    "v_read=DMM6500.amplitude()\n",
    "K2440.output(0) #output off\n",
    "print(v_read)"
   ]
  },
  {
   "cell_type": "markdown",
   "id": "105706bc",
   "metadata": {},
   "source": [
    "## TG 2400"
   ]
  },
  {
   "cell_type": "code",
   "execution_count": 18,
   "id": "cdc19f1b",
   "metadata": {},
   "outputs": [
    {
     "name": "stdout",
     "output_type": "stream",
     "text": [
      "6.355754e-05\n"
     ]
    }
   ],
   "source": [
    "K2440.output(1) # output on\n",
    "K2440.rangev(22)\n",
    "K2440.volt(0)\n",
    "K2440.compliancei(100e-3)\n",
    "# K2440.output(0) #output off\n",
    "sleep(1)\n",
    "v_read=DMM6500.amplitude()\n",
    "print(v_read)"
   ]
  },
  {
   "cell_type": "code",
   "execution_count": 19,
   "id": "e971a620",
   "metadata": {},
   "outputs": [],
   "source": [
    "# K2440.volt(1)\n",
    "K2440.output(0) #output off"
   ]
  },
  {
   "cell_type": "code",
   "execution_count": null,
   "id": "e284050c",
   "metadata": {},
   "outputs": [],
   "source": [
    "K2440.rangev(1)\n",
    "K2440.rangev()"
   ]
  },
  {
   "cell_type": "markdown",
   "id": "c676ccb5",
   "metadata": {},
   "source": [
    "#  Database initialisation"
   ]
  },
  {
   "cell_type": "code",
   "execution_count": 6,
   "id": "e09e380a",
   "metadata": {},
   "outputs": [
    {
     "data": {
      "text/plain": [
       "'c:\\\\Users\\\\quant\\\\OneDrive\\\\Documents\\\\GitHub\\\\QCoDeS_local\\\\init_database_v2.py'"
      ]
     },
     "execution_count": 6,
     "metadata": {},
     "output_type": "execute_result"
    }
   ],
   "source": [
    "def find_init_database_v2_py():\n",
    "    for root, dirs, files in os.walk(qcodes_local_dir):\n",
    "        if 'init_database_v2.py' in files:\n",
    "            return os.path.join(root, 'init_database_v2.py')\n",
    "    return None\n",
    "\n",
    "init_database_v2_py_path = find_init_database_v2_py()\n",
    "init_database_v2_py_path"
   ]
  },
  {
   "cell_type": "code",
   "execution_count": 7,
   "id": "7b665bc4",
   "metadata": {},
   "outputs": [
    {
     "name": "stdout",
     "output_type": "stream",
     "text": [
      "Using existing database file:\n",
      "c:\\Users\\quant\\OneDrive\\Documents\\GitHub\\QCoDeS_local\\personal_scripts\\Albert\\RT\\RT_2025-04-21_01.db\n"
     ]
    }
   ],
   "source": [
    "reuse = True\n",
    "%run \"{init_database_v2_py_path}\" {reuse}"
   ]
  },
  {
   "cell_type": "markdown",
   "id": "6a8a2beb",
   "metadata": {},
   "source": [
    "\n",
    "# Scaled parameters"
   ]
  },
  {
   "cell_type": "code",
   "execution_count": null,
   "id": "e3b44b31",
   "metadata": {},
   "outputs": [],
   "source": []
  },
  {
   "cell_type": "markdown",
   "id": "ea4ff57a",
   "metadata": {},
   "source": [
    "## Defining scaled parameters"
   ]
  },
  {
   "cell_type": "code",
   "execution_count": 8,
   "id": "c8ca5b97",
   "metadata": {},
   "outputs": [
    {
     "data": {
      "text/plain": [
       "'Gain_L2'"
      ]
     },
     "execution_count": 8,
     "metadata": {},
     "output_type": "execute_result"
    }
   ],
   "source": [
    "Irange = Parameter('Irange', label='current range', unit='', set_cmd=None, get_cmd=None)\n",
    "Vrange = Parameter('Vrange', label='voltage range', unit='', set_cmd=None, get_cmd=None)\n",
    "TGrange = Parameter('TGrange', label='Top gate range', unit='', set_cmd=None, get_cmd=None)\n",
    "\n",
    "#division paraemtrs required for simplier update: they used as an argument for scaled paraemtrs of sorce instruments\n",
    "\n",
    "\n",
    "Irange_division = Parameter('Irange_division', \n",
    "                            label='scaled current range', unit='', \n",
    "                            set_cmd=None, get_cmd=lambda : 1 / Irange())\n",
    "\n",
    "Vrange_division = Parameter('Vrange_division', \n",
    "                            label='scaled voltage range', unit='', \n",
    "                            set_cmd=None, get_cmd=lambda : 1 / Vrange())\n",
    "\n",
    "TGrange_division = Parameter('TGrange_division', \n",
    "                             label='scaled Top gate range', unit='', \n",
    "                             set_cmd=None, get_cmd=lambda : 1 / TGrange())\n",
    "\n",
    "Irange_AC_division = Parameter('Irange_AC_division', \n",
    "                               label='scaled current range for lockin', unit='', \n",
    "                               set_cmd=None, get_cmd=lambda : 1 / Irange())\n",
    "\n",
    "Vrange_AC_division = Parameter('Vrange_AC_division', \n",
    "                               label='scaled voltage range for lockin', unit='', \n",
    "                               set_cmd=None, get_cmd=lambda : 1 / Vrange())\n",
    "\n",
    "Gain_K1 = Parameter('Gain_K1', label='Gain K1', unit='', set_cmd=None, get_cmd=None)\n",
    "Gain_K2 = Parameter('Gain_K2', label='Gain K2', unit='', set_cmd=None, get_cmd=None)\n",
    "Gain_L1 = Parameter('Gain_L1', label='Gain L1', unit='', set_cmd=None, get_cmd=None)\n",
    "Gain_L2 = Parameter('Gain_L2', label='Gain L2', unit='', set_cmd=None, get_cmd=None)\n",
    "\n",
    "#Add components\n",
    "station.add_component(Irange)\n",
    "station.add_component(Vrange)\n",
    "station.add_component(TGrange)\n",
    "\n",
    "station.add_component(Irange_division)\n",
    "station.add_component(Vrange_division)\n",
    "station.add_component(TGrange_division)\n",
    "\n",
    "station.add_component(Irange_AC_division)\n",
    "station.add_component(Vrange_AC_division)\n",
    "                             \n",
    "station.add_component(Gain_K1)\n",
    "station.add_component(Gain_K2)\n",
    "station.add_component(Gain_L1)\n",
    "station.add_component(Gain_L2)"
   ]
  },
  {
   "cell_type": "markdown",
   "id": "6d7ecebe",
   "metadata": {},
   "source": [
    "## Parameters - update here during measuerements"
   ]
  },
  {
   "cell_type": "code",
   "execution_count": 9,
   "id": "b0b09fcc",
   "metadata": {},
   "outputs": [],
   "source": [
    "Irange.set(1e-6) #Unit Amp V=IR, 1V= 1e-6 x 1MOhm=1e-7 x 10MOhm\n",
    "Vrange.set(10) ## need to be sync with K213 range #Unit Volt\n",
    "TGrange.set(1) #Unit Volt\n",
    "Gain_K1.set(100)\n",
    "Gain_K2.set(100)\n",
    "# Gain_K3.set(1e2)\n",
    "Gain_L1.set(Gain_K1())\n",
    "Gain_L2.set(Gain_K2())\n",
    "#division parameters are updated automatically"
   ]
  },
  {
   "cell_type": "code",
   "execution_count": null,
   "id": "4b1231bb",
   "metadata": {},
   "outputs": [],
   "source": [
    "lockin_1.sine_outdc"
   ]
  },
  {
   "cell_type": "markdown",
   "id": "cbe7bfa7",
   "metadata": {},
   "source": [
    "## DC parameters"
   ]
  },
  {
   "cell_type": "code",
   "execution_count": 10,
   "id": "6a8c7deb",
   "metadata": {},
   "outputs": [
    {
     "data": {
      "text/plain": [
       "'meas_current_K1'"
      ]
     },
     "execution_count": 10,
     "metadata": {},
     "output_type": "execute_result"
    }
   ],
   "source": [
    "# appl_current = ScaledParameter(lockin_1.sine_outdc, division = Irange_division, name = 'appl_current', unit = 'A')\n",
    "appl_current = ScaledParameter(K2440.volt, division = Irange_division, name = 'appl_current', unit = 'A')\n",
    "\n",
    "#appl_TG = ScaledParameter(K2440.volt, division = TGrange_division, name = 'appl_TG', unit = 'V')\n",
    "\n",
    "meas_voltage_K1 = ScaledParameter(DMM6500.amplitude, division = Gain_K1, name = 'meas_voltage_K1', unit = 'V')\n",
    "# meas_voltage_K2 = ScaledParameter(DMM6500.amplitude, division = Gain_K2, name = 'meas_voltage_K2', unit = 'V')\n",
    "\n",
    "# meas_leakage = ScaledParameter(DMM6500.amplitude, division = Gain_K2, name = 'meas_leakage', unit = 'A')\n",
    "\n",
    "meas_current_K1 = ScaledParameter(DMM6500.amplitude, division = Gain_K1, name = 'meas_current_K1', unit = 'A')\n",
    "# meas_current_K2 = ScaledParameter(DMM6500.amplitude, division = Gain_K2, name = 'meas_current_K2', unit = 'A')\n",
    "\n",
    "station.add_component(appl_current)\n",
    "# station.add_component(appl_voltage)\n",
    "#station.add_component(appl_TG)\n",
    "\n",
    "station.add_component(meas_voltage_K1)\n",
    "# station.add_component(meas_voltage_K2)\n",
    "\n",
    "# station.add_component(meas_leakage)\n",
    "\n",
    "station.add_component(meas_current_K1)\n",
    "# station.add_component(meas_current_K2)"
   ]
  },
  {
   "cell_type": "code",
   "execution_count": 12,
   "id": "3851dc82",
   "metadata": {},
   "outputs": [],
   "source": [
    "K2440.output(0)\n",
    "appl_current(0)\n",
    "sleep(1)\n",
    "# meas_voltage_K2()"
   ]
  },
  {
   "cell_type": "markdown",
   "id": "8d9d6239",
   "metadata": {},
   "source": [
    "## Another useful example: magnet using dac (Janis)"
   ]
  },
  {
   "cell_type": "markdown",
   "id": "92e1f309",
   "metadata": {},
   "source": [
    ">2231.2 G per A => 0.22312 T per A<br>\n",
    "I source 10mA per V => 1e-5 A per 1mV<br>\n",
    "result: 0.22312 T/A * 1e-5 A/mV"
   ]
  },
  {
   "cell_type": "code",
   "execution_count": 11,
   "id": "6b2b657a",
   "metadata": {},
   "outputs": [],
   "source": [
    "# def get_R_from_IV(dataid):\n",
    "#     dataset = qc.load_by_id(dataid)\n",
    "#     voltage = dataset.get_parameter_data()['meas_voltage_K2']['meas_voltage_K2']\n",
    "#     current = dataset.get_parameter_data()['meas_voltage_K2']['appl_current']\n",
    "#     fit_values = np.polyfit(current,voltage,1)\n",
    "    \n",
    "#     return fit_values[0]\n",
    "\n",
    "dataset = qc.load_by_id(1)\n",
    "\n",
    "def get_R_from_IV_2(dataid):\n",
    "    dataset = qc.load_by_id(dataid)\n",
    "    voltage = dataset.get_parameter_data()['meas_voltage_K2']['meas_voltage_K2']\n",
    "    current = dataset.get_parameter_data()['meas_voltage_K2']['appl_current']\n",
    "    fit_values = np.polyfit(current,voltage,1)\n",
    "\n",
    "    return fit_values[0]\n",
    "\n",
    "def get_R_from_IV(dataid):\n",
    "    dataset = qc.load_by_id(dataid)\n",
    "    para_list = dataset.parameters.split(\",\")\n",
    "    voltage = dataset.get_parameter_data()[para_list[1]][para_list[1]]\n",
    "    current = dataset.get_parameter_data()[para_list[1]][para_list[0]]\n",
    "    fit_values = np.polyfit(current,voltage,1)\n",
    "    return fit_values[0]\n",
    "\n",
    "\n",
    "def get_R_from_IV_K2(dataid):\n",
    "    dataset = qc.load_by_id(dataid)\n",
    "    voltage = dataset.get_parameter_data()['meas_voltage_K2']['meas_voltage_K2']\n",
    "    current = dataset.get_parameter_data()['meas_voltage_K2']['appl_current']\n",
    "    fit_values = np.polyfit(current,voltage,1)\n",
    "    return fit_values[0]\n",
    "\n",
    "def autosave_plot_by_id(run_id, save_path):\n",
    "    fig, ax = plt.subplots()\n",
    "    plot_by_id(run_id, axes=ax)\n",
    "    plt.savefig(save_path)\n",
    "    plt.close()\n",
    "\n",
    "def get_detaset_info(dataset=dataset):\n",
    "    run_id = dataset.captured_run_id\n",
    "    exp_name = dataset.exp_name\n",
    "    sample_name = dataset.sample_name\n",
    "    name = dataset.name\n",
    "    description = dataset.description\n",
    "    sample_junction = extract_sample_junction(sample_name)\n",
    "    return run_id, exp_name, sample_name, sample_junction, name, description\n",
    "\n",
    "def extract_sample_junction(sample_name):\n",
    "    \"\"\"Extracts the complete sample junction from the provided sample name.\n",
    "\n",
    "    Args:\n",
    "      sample_name: The name of the sample containing the junction information.\n",
    "\n",
    "    Returns:\n",
    "      The extracted sample junction, or None if not found.\n",
    "    \"\"\"\n",
    "\n",
    "    delimiter = \"_J\"\n",
    "    if delimiter in sample_name:\n",
    "        # +3 to include \"_J\"\n",
    "        return sample_name[:sample_name.find(delimiter) + 3]\n",
    "    else:\n",
    "        return None\n",
    "\n",
    "def IV(run_id=1):\n",
    "    dataset = qc.load_by_id(run_id)\n",
    "    R = get_R_from_IV(run_id)\n",
    "    run_id, exp_name, sample_name, sample_junction, name, description = get_detaset_info(\n",
    "        dataset)\n",
    "    df = dataset.to_pandas_dataframe().reset_index()\n",
    "    para_list = dataset.parameters.split(\",\")\n",
    "\n",
    "    # Create a Plotly trace\n",
    "    trace = go.Scatter(x=df[para_list[0]], y=df[para_list[1]]*1e3, mode='lines', name='Voltage vs. Current')\n",
    "\n",
    "    # Create layout with micro-scale y-axis\n",
    "    layout = go.Layout(title=f'<b>#{run_id} {exp_name}</b> {sample_name}, R_fit={R:.4f} Ω', title_font=dict(size=28),\n",
    "                       xaxis=dict(title=para_list[0], tickfont=dict(size=16),title_font=dict(size=20)),\n",
    "                       yaxis=dict(title=f\"{para_list[1]} mV\", tickfont=dict(size=16),title_font=dict(size=20)), \n",
    "                       width=1080, height=960,\n",
    "                       margin=dict(l=10, r=10, t=50, b=10))\n",
    "\n",
    "    # Create the figure\n",
    "    fig = go.Figure(data=[trace], layout=layout)\n",
    "    \n",
    "    fig.show()\n",
    "\n",
    "def IV_diff(run_id=1):\n",
    "    import numpy as np\n",
    "    import plotly.graph_objs as go\n",
    "    from scipy.signal import find_peaks\n",
    "    dataset = qc.load_by_id(run_id)\n",
    "\n",
    "    df = dataset.to_pandas_dataframe().reset_index()\n",
    "    para_list = dataset.parameters.split(\",\")\n",
    "\n",
    "    current = df[para_list[0]].tolist()\n",
    "    voltage = df[para_list[1]].tolist()\n",
    "\n",
    "    # Compute differential of voltage with respect to current\n",
    "    differential_voltage = np.diff(voltage) / np.diff(current)\n",
    "\n",
    "    # Since the differential will have one less data point, adjust the current data\n",
    "    # to have the same length as the differential data\n",
    "    current = current[:-1]\n",
    "\n",
    "    # Find peaks in the differential signal\n",
    "    peaks, _ = find_peaks(differential_voltage)\n",
    "\n",
    "    # Extract peak current and peak differential voltage values\n",
    "    peak_current = [current[i] for i in peaks]\n",
    "    peak_voltage_diff = [differential_voltage[i] for i in peaks]\n",
    "\n",
    "    # Sort the peaks based on their values\n",
    "    sorted_peak_indices = np.argsort(peak_voltage_diff)[::-1]  # Sort in descending order\n",
    "    top_two_peak_indices = sorted_peak_indices[:2]  # Select the top two indices\n",
    "\n",
    "    # Extract the top two peaks\n",
    "    top_two_peak_current = [peak_current[i] for i in top_two_peak_indices]\n",
    "    top_two_peak_voltage_diff = [peak_voltage_diff[i] for i in top_two_peak_indices]\n",
    "\n",
    "    # Calculate the center points of the top two peaks\n",
    "    center_points = [(top_two_peak_current[i] + top_two_peak_current[i+1]) / 2 for i in range(len(top_two_peak_current) - 1)]\n",
    "\n",
    "    # Calculate the difference between the top two biggest peaks\n",
    "    peak_difference = abs(top_two_peak_current[0] - top_two_peak_current[1])\n",
    "\n",
    "    # Determine the appropriate unit for current\n",
    "    if peak_difference >= 1e-3:\n",
    "        unit = \"mA\"\n",
    "        conversion_factor = 1e3\n",
    "    elif peak_difference >= 1e-6:\n",
    "        unit = \"μA\"\n",
    "        conversion_factor = 1e6\n",
    "    else:\n",
    "        unit = \"nA\"\n",
    "        conversion_factor = 1e9\n",
    "\n",
    "    # Determine the appropriate unit for current\n",
    "    if peak_difference >= 1e-3:\n",
    "        unit = \"mA\"\n",
    "    elif peak_difference >= 1e-6:\n",
    "        unit = \"μA\"\n",
    "    elif peak_difference >= 1e-9:\n",
    "        unit = \"nA\"\n",
    "    else:\n",
    "        unit = \"pA\"\n",
    "\n",
    "    # Create a Plotly trace for the differential\n",
    "    trace_diff = go.Scatter(x=[c * conversion_factor for c in current], y=differential_voltage, mode='lines', name='d(Voltage)/d(Current)')\n",
    "    # Add markers for the top two peaks\n",
    "    trace_top_two_peaks = go.Scatter(x=[p * conversion_factor for p in top_two_peak_current], y=top_two_peak_voltage_diff, mode='markers', marker=dict(color='red'), name='Top Two Peaks')\n",
    "    # Add markers for the center points\n",
    "    trace_center_points = go.Scatter(x=center_points, y=[0]*len(center_points), mode='markers', marker=dict(color='blue', symbol='cross'), name='Center Points')\n",
    "\n",
    "    # Create layout\n",
    "    layout = go.Layout(title=f'Run #{id} I vs. dV/dI',\n",
    "                    xaxis=dict(title=f'Current ({unit})'),\n",
    "                    yaxis=dict(title='d(Voltage)/d(Current)'),\n",
    "                    legend=dict(orientation=\"h\", yanchor=\"top\", y=1.10, xanchor=\"center\", x=0.5),\n",
    "                    width=600, height=600  \n",
    "                    )\n",
    "\n",
    "    # Create the figure\n",
    "    fig = go.Figure(data=[trace_diff, trace_top_two_peaks, trace_center_points], layout=layout)\n",
    "\n",
    "    # Add annotation for the current value of center points\n",
    "    for i, center_point in enumerate(center_points):\n",
    "        fig.add_annotation(\n",
    "            x=center_point * conversion_factor,\n",
    "            y=0, #0.4 * max(differential_voltage),\n",
    "            text=f'Center Point: {center_point * conversion_factor:.3f}{unit} <br> Peak difference: {peak_difference*conversion_factor:.3f} {unit}',\n",
    "            showarrow=True,\n",
    "            arrowhead=2,\n",
    "            arrowsize=1,\n",
    "            arrowwidth=2,\n",
    "            arrowcolor='black',\n",
    "            ax=-100,\n",
    "            ay=-200 - 30 * i\n",
    "        )\n",
    "\n",
    "    # Plot the figure\n",
    "    fig.show()\n",
    "\n",
    "def get_Mag(show=True):\n",
    "    Mag_x = magnet_x.field()\n",
    "    Mag_y = magnet_y.field()\n",
    "    Mag_z = magnet_z.field()\n",
    "    if show:\n",
    "        print(f\"Mag_x: {Mag_x*1e3:.6f} mT\")\n",
    "        print(f\"Mag_y: {Mag_y*1e3:.6f} mT\")\n",
    "        print(f\"Mag_z: {Mag_z*1e3:.6f} mT\")\n",
    "    else: \n",
    "        return Mag_x, Mag_y, Mag_z"
   ]
  },
  {
   "cell_type": "code",
   "execution_count": null,
   "id": "934a7b70",
   "metadata": {},
   "outputs": [],
   "source": [
    "appl_current(0.5e-6)\n",
    "appl_current_AC(10e-9)"
   ]
  },
  {
   "cell_type": "code",
   "execution_count": null,
   "id": "e0040749",
   "metadata": {},
   "outputs": [],
   "source": [
    "df = dataset.to_pandas_dataframe().reset_index()\n",
    "df"
   ]
  },
  {
   "cell_type": "code",
   "execution_count": 12,
   "id": "51169690",
   "metadata": {},
   "outputs": [
    {
     "name": "stdout",
     "output_type": "stream",
     "text": [
      "Imported all modules, QCoDeS version: 0.52.0 initialized\n",
      "找到 28 個 .db 文件:\n",
      "1. c:\\Users\\quant\\OneDrive\\Documents\\GitHub\\QCoDeS_local\\personal_scripts\\Albert\\IVVI\\Albert_2025-01-03_01.db\n",
      "2. c:\\Users\\quant\\OneDrive\\Documents\\GitHub\\QCoDeS_local\\personal_scripts\\Albert\\IVVI\\Albert_2025-01-03_02.db\n",
      "3. c:\\Users\\quant\\OneDrive\\Documents\\GitHub\\QCoDeS_local\\personal_scripts\\Albert\\IVVI\\Albert_2025-01-03_03.db\n",
      "4. c:\\Users\\quant\\OneDrive\\Documents\\GitHub\\QCoDeS_local\\personal_scripts\\Albert\\MoTe2(Shankar)\\005-2\\005-2_2025-01-10_01.db\n",
      "5. c:\\Users\\quant\\OneDrive\\Documents\\GitHub\\QCoDeS_local\\personal_scripts\\Albert\\MoTe2(Shankar)\\020-1Shankar\\020-1Shankar_2024-08-23_01.db\n",
      "6. c:\\Users\\quant\\OneDrive\\Documents\\GitHub\\QCoDeS_local\\personal_scripts\\Albert\\MoTe2(Shankar)\\020-1Shankar\\020-1Shankar_2024-08-25_01.db\n",
      "7. c:\\Users\\quant\\OneDrive\\Documents\\GitHub\\QCoDeS_local\\personal_scripts\\Albert\\MoTe2(Shankar)\\020-1Shankar\\020-1Shankar_2024-09-14_01.db\n",
      "8. c:\\Users\\quant\\OneDrive\\Documents\\GitHub\\QCoDeS_local\\personal_scripts\\Albert\\MoTe2(Shankar)\\020-1Shankar\\020-1Shankar_2024-09-15_01.db\n",
      "9. c:\\Users\\quant\\OneDrive\\Documents\\GitHub\\QCoDeS_local\\personal_scripts\\Albert\\MoTe2(Shankar)\\024-1Shankar\\024-1Shankar_2024-08-26_01.db\n",
      "10. c:\\Users\\quant\\OneDrive\\Documents\\GitHub\\QCoDeS_local\\personal_scripts\\Albert\\MoTe2(Shankar)\\024-1Shankar\\024-1Shankar_2024-08-29_01.db\n",
      "11. c:\\Users\\quant\\OneDrive\\Documents\\GitHub\\QCoDeS_local\\personal_scripts\\Albert\\MoTe2(Shankar)\\026-1\\026-1_2024-12-09_01.db\n",
      "12. c:\\Users\\quant\\OneDrive\\Documents\\GitHub\\QCoDeS_local\\personal_scripts\\Albert\\MoTe2(Shankar)\\026-1\\026-1_2025-01-04_01.db\n",
      "13. c:\\Users\\quant\\OneDrive\\Documents\\GitHub\\QCoDeS_local\\personal_scripts\\Albert\\MoTe2(Shankar)\\027-1\\027-1_2024-12-09_01.db\n",
      "14. c:\\Users\\quant\\OneDrive\\Documents\\GitHub\\QCoDeS_local\\personal_scripts\\Albert\\MoTe2(Shankar)\\106-1\\106-1_2024-07-09_01.db\n",
      "15. c:\\Users\\quant\\OneDrive\\Documents\\GitHub\\QCoDeS_local\\personal_scripts\\Albert\\MoTe2(Shankar)\\Batch_1\\Batch_1_2024-07-18_01.db\n",
      "16. c:\\Users\\quant\\OneDrive\\Documents\\GitHub\\QCoDeS_local\\personal_scripts\\Albert\\PtTe2\\005-2\\005-2_2024-11-26_01.db\n",
      "17. c:\\Users\\quant\\OneDrive\\Documents\\GitHub\\QCoDeS_local\\personal_scripts\\Albert\\PtTe2\\006-1\\006-1_2025-01-09_01.db\n",
      "18. c:\\Users\\quant\\OneDrive\\Documents\\GitHub\\QCoDeS_local\\personal_scripts\\Albert\\PtTe2\\009-1\\009-1_2024-12-26_01.db\n",
      "19. c:\\Users\\quant\\OneDrive\\Documents\\GitHub\\QCoDeS_local\\personal_scripts\\Albert\\PtTe2\\009-2\\009-2_2024-12-26_01.db\n",
      "20. c:\\Users\\quant\\OneDrive\\Documents\\GitHub\\QCoDeS_local\\personal_scripts\\Albert\\PtTe2\\018\\018_2025-02-26_01.db\n",
      "21. c:\\Users\\quant\\OneDrive\\Documents\\GitHub\\QCoDeS_local\\personal_scripts\\Albert\\PtTe2\\018\\018_2025-03-06_01.db\n",
      "22. c:\\Users\\quant\\OneDrive\\Documents\\GitHub\\QCoDeS_local\\personal_scripts\\Albert\\PtTe2\\019\\019_2025-03-08_01.db\n",
      "23. c:\\Users\\quant\\OneDrive\\Documents\\GitHub\\QCoDeS_local\\personal_scripts\\Albert\\PtTe2_flux015B\\001\\001_2025-03-26_01.db\n",
      "24. c:\\Users\\quant\\OneDrive\\Documents\\GitHub\\QCoDeS_local\\personal_scripts\\Albert\\PtTe2_flux015B\\001\\LT\\LT_2025-03-27_01.db\n",
      "25. c:\\Users\\quant\\OneDrive\\Documents\\GitHub\\QCoDeS_local\\personal_scripts\\Albert\\PtTe2_flux015B\\003\\RT\\RT_2025-04-02_01.db\n",
      "26. c:\\Users\\quant\\OneDrive\\Documents\\GitHub\\QCoDeS_local\\personal_scripts\\Albert\\RT\\RT_2025-04-21_01.db\n",
      "27. c:\\Users\\quant\\OneDrive\\Documents\\GitHub\\QCoDeS_local\\personal_scripts\\Albert\\Sample001\\Albert_2024-05-20_01.db\n",
      "28. c:\\Users\\quant\\OneDrive\\Documents\\GitHub\\QCoDeS_local\\personal_scripts\\Albert\\Sample001\\Sample001_2024-08-08.db\n",
      "初始化數據庫: c:\\Users\\quant\\OneDrive\\Documents\\GitHub\\QCoDeS_local\\personal_scripts\\Albert\\RT\\RT_2025-04-21_01.db\n"
     ]
    }
   ],
   "source": [
    "from Init3 import *"
   ]
  },
  {
   "cell_type": "markdown",
   "id": "885e5c90",
   "metadata": {},
   "source": [
    "# Simple IVs"
   ]
  },
  {
   "cell_type": "markdown",
   "id": "cdb6884c",
   "metadata": {},
   "source": [
    "## IV"
   ]
  },
  {
   "cell_type": "code",
   "execution_count": 18,
   "id": "f6c71fe1",
   "metadata": {},
   "outputs": [],
   "source": [
    "K2440.output(1)\n",
    "DMM6500.averaging_count(5)\n",
    "DMM6500.averaging_enabled(True)\n",
    "DMM6500.averaging_enabled(False)\n",
    "K2440.output(0)"
   ]
  },
  {
   "cell_type": "code",
   "execution_count": 19,
   "id": "88a5c92b",
   "metadata": {},
   "outputs": [],
   "source": [
    "# Set current to 0\n",
    "K2440.output(0)\n",
    "appl_current(0e-6)"
   ]
  },
  {
   "cell_type": "code",
   "execution_count": null,
   "id": "af7949e7",
   "metadata": {},
   "outputs": [],
   "source": [
    "IV(3)"
   ]
  },
  {
   "cell_type": "code",
   "execution_count": 364,
   "id": "0f8cd998",
   "metadata": {},
   "outputs": [],
   "source": [
    "DMM6500.write(':SENSe:VOLTage:DC:AZERo:STATe ON')\n",
    "DMM6500.write(':SENSe:VOLTage:DC:RELative:ACQuire')\n",
    "DMM6500.write(':SENSe:VOLTage:DC:RELative:STATe ON')"
   ]
  },
  {
   "cell_type": "code",
   "execution_count": 429,
   "id": "a5233983",
   "metadata": {},
   "outputs": [],
   "source": [
    "def Rel(instrument=DMM6500,bool=True):\n",
    "    if bool:\n",
    "        instrument.write(':SENSe:VOLTage:DC:RELative:ACQuire')\n",
    "        sleep(0.01)\n",
    "        instrument.write(':SENSe:VOLTage:DC:RELative:STATe ON')\n",
    "        sleep(0.01)\n",
    "        instrument.write(':SENSe:VOLTage:DC:AZERo:STATe ON')\n",
    "        sleep(0.01)\n",
    "        instrument.write(\"TRIG:CONT REST\")\n",
    "        sleep(0.01)\n",
    "    else:\n",
    "        instrument.write(':SENSe:VOLTage:DC:RELative:STATe OFF')\n",
    "        sleep(0.01)\n",
    "        instrument.write(':SENSe:VOLTage:DC:AZERo:STATe OFF')\n",
    "        sleep(0.01)\n",
    "        instrument.write(\"TRIG:CONT REST\")\n",
    "        sleep(0.01)"
   ]
  },
  {
   "cell_type": "code",
   "execution_count": 478,
   "id": "edc1ff4c",
   "metadata": {},
   "outputs": [],
   "source": [
    "monitor.stop()"
   ]
  },
  {
   "cell_type": "code",
   "execution_count": 433,
   "id": "0e54eefb",
   "metadata": {},
   "outputs": [],
   "source": [
    "Rel(DMM6500,0)"
   ]
  },
  {
   "cell_type": "code",
   "execution_count": 476,
   "id": "38e281a9",
   "metadata": {},
   "outputs": [
    {
     "name": "stderr",
     "output_type": "stream",
     "text": [
      "There is (are) already experiment(s) with the name of IV and sample name of RT_1kOhm in the database.\n"
     ]
    },
    {
     "name": "stdout",
     "output_type": "stream",
     "text": [
      "Starting experimental run with id: 44. \n"
     ]
    },
    {
     "name": "stderr",
     "output_type": "stream",
     "text": [
      "100%|██████████| 501/501 [00:16<00:00, 30.02it/s]\n"
     ]
    },
    {
     "name": "stdout",
     "output_type": "stream",
     "text": [
      "Number of points for each parameter in dataset 44:\n",
      "- meas_voltage_K1 (dependent): 501 points\n",
      "- appl_current     (setpoint): 501 unique points, from -5.00e-07 to 5.00e-07, step size: 2.00e-09\n",
      "計算微分電阻 dV/dI，使用電壓: meas_voltage_K1 和電流: appl_current\n",
      "已添加dV_dI列到數據框\n",
      "<class 'pandas.core.frame.DataFrame'>\n",
      "RangeIndex: 501 entries, 0 to 500\n",
      "Data columns (total 3 columns):\n",
      " #   Column           Non-Null Count  Dtype  \n",
      "---  ------           --------------  -----  \n",
      " 0   appl_current     501 non-null    float64\n",
      " 1   meas_voltage_K1  501 non-null    float64\n",
      " 2   dV_dI            501 non-null    float64\n",
      "dtypes: float64(3)\n",
      "memory usage: 11.9 KB\n",
      "None\n",
      "       appl_current  meas_voltage_K1        dV_dI\n",
      "count  5.010000e+02     5.010000e+02   501.000000\n",
      "mean  -2.705095e-23    -3.646267e-07  1010.882036\n",
      "std    2.895410e-07     2.928770e-04    36.888375\n",
      "min   -5.000000e-07    -5.058679e-04   891.275000\n",
      "25%   -2.500000e-07    -2.534788e-04   990.050000\n",
      "50%    0.000000e+00    -8.655735e-07  1006.550000\n",
      "75%    2.500000e-07     2.527338e-04  1031.750000\n",
      "max    5.000000e-07     5.050625e-04  1242.709875\n",
      "appl_current       0\n",
      "meas_voltage_K1    0\n",
      "dV_dI              0\n",
      "dtype: int64\n",
      "ID               : 44\n",
      "Type             : IV\n",
      "Sample           : RT_1kOhm\n",
      "Run time         : 17 sec\n",
      "Parameter unit: \n",
      "- meas_voltage_K1: V\n",
      "- appl_current   : A\n",
      "\n"
     ]
    },
    {
     "data": {
      "application/vnd.plotly.v1+json": {
       "config": {
        "plotlyServerURL": "https://plot.ly"
       },
       "data": [
        {
         "line": {
          "width": 2
         },
         "marker": {
          "size": 5
         },
         "mode": "lines+markers",
         "name": "I-V",
         "type": "scatter",
         "x": {
          "bdata": "je21oPfGoL63xs2UybWgvuCf5YibpKC+CXn9fG2ToL4zUhVxP4KgvlwrLWURcaC+hgRFWeNfoL6v3VxNtU6gvtm2dEGHPaC+ApCMNVksoL4raaQpKxugvlVCvB39CaC+/DaoI57xn75P6dcLQs+fvqKbB/TlrJ++9U033ImKn75IAGfELWifvpuylqzRRZ++7mTGlHUjn75AF/Z8GQGfvpPJJWW93p6+5ntVTWG8nr45LoU1BZqevozgtB2pd56+35LkBU1Vnr4xRRTu8DKevoT3Q9aUEJ6+16lzvjjunb4qXKOm3Mudvn0O046AqZ2+0MACdySHnb4iczJfyGSdvnUlYkdsQp2+yNeRLxAgnb4bisEXtP2cvm488f9X25y+we4g6Pu4nL4ToVDQn5acvmZTgLhDdJy+uQWwoOdRnL4MuN+Iiy+cvl9qD3EvDZy+shw/WdPqm74Ez25Bd8ibvleBnikbppu+qjPOEb+Dm7795f35YmGbvlCYLeIGP5u+o0pdyqocm772/IyyTvqavkivvJry15q+m2Hsgpa1mr7uExxrOpOavkHGS1PecJq+lHh7O4JOmr7nKqsjJiyavjnd2gvKCZq+jI8K9G3nmb7fQTrcEcWZvjL0acS1opm+haaZrFmAmb7YWMmU/V2ZvioL+XyhO5m+fb0oZUUZmb7Qb1hN6faYviMiiDWN1Ji+dtS3HTGymL7JhucF1Y+Yvhs5F+54bZi+butG1hxLmL7BnXa+wCiYvhRQpqZkBpi+ZwLWjgjkl766tAV3rMGXvgxnNV9Qn5e+XxllR/R8l76yy5QvmFqXvgV+xBc8OJe+WDD0/98Vl76r4iPog/OWvv2UU9An0Za+UEeDuMuulr6j+bKgb4yWvvar4ogTapa+SV4ScbdHlr6cEEJZWyWWvu/CcUH/Apa+QXWhKaPglb6UJ9ERR76VvufZAPrqm5W+Ooww4o55lb6NPmDKMleVvuDwj7LWNJW+MqO/mnoSlb6FVe+CHvCUvtgHH2vCzZS+K7pOU2arlL5+bH47ComUvtEeriOuZpS+I9HdC1JElL52gw309SGUvsk1PdyZ/5O+HOhsxD3dk75vmpys4bqTvsJMzJSFmJO+FP/7fCl2k75nsStlzVOTvrpjW01xMZO+DRaLNRUPk75gyLodueySvrN66gVdypK+BS0a7gCokr5Y30nWpIWSvquReb5IY5K+/kOppuxAkr5R9tiOkB6SvqSoCHc0/JG+91o4X9jZkb5JDWhHfLeRvpy/ly8glZG+73HHF8Rykb5CJPf/Z1CRvpXWJugLLpG+6IhW0K8Lkb46O4a4U+mQvo3ttaD3xpC+4J/liJukkL4zUhVxP4KQvoYERVnjX5C+2bZ0QYc9kL4raaQpKxuQvvw2qCOe8Y++opsH9OWsj75IAGfELWiPvu5kxpR1I4++k8klZb3ejr45LoU1BZqOvt+S5AVNVY6+hPdD1pQQjr4qXKOm3MuNvtDAAnckh42+dSViR2xCjb4bisEXtP2MvsHuIOj7uIy+ZlOAuEN0jL4MuN+Iiy+MvrIcP1nT6ou+V4GeKRumi7795f35YmGLvqNKXcqqHIu+SK+8mvLXir7uExxrOpOKvpR4ezuCToq+Od3aC8oJir7fQTrcEcWJvoWmmaxZgIm+Kgv5fKE7ib7Qb1hN6faIvnbUtx0xsoi+GzkX7nhtiL7BnXa+wCiIvmcC1o4I5Ie+DGc1X1Cfh76yy5QvmFqHvlgw9P/fFYe+/ZRT0CfRhr6j+bKgb4yGvkleEnG3R4a+78JxQf8Chr6UJ9ERR76FvjqMMOKOeYW+4PCPstY0hb6FVe+CHvCEviu6TlNmq4S+0R6uI65mhL52gw309SGEvhzobMQ93YO+wkzMlIWYg75nsStlzVODvg0WizUVD4O+s3rqBV3Kgr5Y30nWpIWCvv5DqabsQIK+pKgIdzT8gb5JDWhHfLeBvu9xxxfEcoG+ldYm6Asugb46O4a4U+mAvuCf5YibpIC+hgRFWeNfgL4raaQpKxuAvqKbB/TlrH++7mTGlHUjf745LoU1BZp+voT3Q9aUEH6+0MACdySHfb4bisEXtP18vmZTgLhDdHy+shw/WdPqe7795f35YmF7vkivvJry13q+m3h7O4JOer7fQTrcEcV5vioL+XyhO3m+dtS3HTGyeL7BnXa+wCh4vgxnNV9Qn3e+XzD0/98Vd76r+bKgb4x2vu/CcUH/Ana+Ooww4o55db6FVe+CHvB0vtEeriOuZnS+I+hsxD3dc75vsStlzVNzvrN66gVdynK+/kOppuxAcr5JDWhHfLdxvpXWJugLLnG+6J/liJukcL4zaaQpKxtwvu5kxpR1I2++hPdD1pQQbr4bisEXtP1svrIcP1nT6mu+V6+8mvLXar7uQTrcEcVpvoXUtx0xsmi+DGc1X1CfZ76j+bKgb4xmvjqMMOKOeWW+0R6uI65mZL52sStlzVNjvg1EqabsQGK+ldYm6AsuYb4raaQpKxtgvoT3Q9aUEF6+shw/WdPqW779QTrcEcVZvitnNV9Qn1e+Ooww4o55Vb6GsStlzVNTvpXWJugLLlG+wfdD1pQQTr4bQjrcEcVJvjqMMOKOeUW+v9Ym6AsuQb4DQjrcEcU5vgLXJugLLjG+9dYm6AsuIb4AAAAAAAAAAATWJugLLiE+fdYm6AsuMT5+QTrcEcU5PoPWJugLLkE+/Ysw4o55RT6jQTrcEcVJPoT3Q9aUEE4+dtYm6AsuUT5nsStlzVNTPhyMMOKOeVU+DGc1X1CfVz7BQTrcEcVZPpMcP1nT6ls+hPdD1pQQXj4caaQpKxtgPpXWJugLLmE+70OppuxAYj5nsStlzVNjPtEeriOuZmQ+K4ww4o55ZT6j+bKgb4xmPv1mNV9Qn2c+dtS3HTGyaD7QQTrcEcVpPjmvvJry12o+shw/WdPqaz4MisEXtP1sPoT3Q9aUEG4+3mTGlHUjbz4raaQpKxtwPtif5YibpHA+jdYm6AsucT5JDWhHfLdxPvZDqabsQHI+s3rqBV3Kcj5gsStlzVNzPhTobMQ93XM+yR6uI65mdD5+Ve+CHvB0PjqMMOKOeXU+58JxQf8Cdj6j+bKgb4x2PlAw9P/fFXc+BWc1X1Cfdz7BnXa+wCh4Pm7Utx0xsng+Kgv5fKE7eT7XQTrcEcV5PpR4ezuCTno+Qa+8mvLXej795f35YmF7PrIcP1nT6ns+ZlOAuEN0fD4bisEXtP18PtDAAnckh30+hPdD1pQQfj45LoU1BZp+Pu5kxpR1I38+opsH9OWsfz4raaQpKxuAPoYERVnjX4A+4J/liJukgD46O4a4U+mAPpXWJugLLoE+73HHF8RygT5JDWhHfLeBPqSoCHc0/IE+/kOppuxAgj5Y30nWpIWCPrN66gVdyoI+DRaLNRUPgz5nsStlzVODPsJMzJSFmIM+HOhsxD3dgz52gw309SGEPtEeriOuZoQ+K7pOU2arhD6FVe+CHvCEPuDwj7LWNIU+Ooww4o55hT6UJ9ERR76FPu/CcUH/AoY+SV4ScbdHhj6j+bKgb4yGPv2UU9An0YY+WDD0/98Vhz6yy5QvmFqHPgxnNV9Qn4c+ZwLWjgjkhz7BnXa+wCiIPhs5F+54bYg+dtS3HTGyiD7Qb1hN6faIPioL+XyhO4k+haaZrFmAiT7fQTrcEcWJPjnd2gvKCYo+lHh7O4JOij7uExxrOpOKPkivvJry14o+o0pdyqociz795f35YmGLPleBnikbpos+shw/WdPqiz4MuN+Iiy+MPmZTgLhDdIw+we4g6Pu4jD4bisEXtP2MPnUlYkdsQo0+0MACdySHjT4qXKOm3MuNPoT3Q9aUEI4+35LkBU1Vjj45LoU1BZqOPpPJJWW93o4+7mTGlHUjjz5IAGfELWiPPqKbB/TlrI8+/DaoI57xjz4raaQpKxuQPtm2dEGHPZA+hgRFWeNfkD4zUhVxP4KQPuCf5YibpJA+je21oPfGkD46O4a4U+mQPuiIVtCvC5E+ldYm6AsukT5CJPf/Z1CRPu9xxxfEcpE+nL+XLyCVkT5JDWhHfLeRPvdaOF/Y2ZE+pKgIdzT8kT5R9tiOkB6SPv5DqabsQJI+q5F5vkhjkj5Y30nWpIWSPgUtGu4AqJI+s3rqBV3Kkj5gyLodueySPg0WizUVD5M+umNbTXExkz5nsStlzVOTPhT/+3wpdpM+wkzMlIWYkz5vmpys4bqTPhzobMQ93ZM+yTU93Jn/kz52gw309SGUPiPR3QtSRJQ+0R6uI65mlD5+bH47ComUPiu6TlNmq5Q+2Acfa8LNlD6FVe+CHvCUPjKjv5p6EpU+4PCPstY0lT6NPmDKMleVPjqMMOKOeZU+59kA+uqblT6UJ9ERR76VPkF1oSmj4JU+78JxQf8Clj6cEEJZWyWWPkleEnG3R5Y+9qviiBNqlj6j+bKgb4yWPlBHg7jLrpY+/ZRT0CfRlj6r4iPog/OWPlgw9P/fFZc+BX7EFzw4lz6yy5QvmFqXPl8ZZUf0fJc+DGc1X1Cflz66tAV3rMGXPmcC1o4I5Jc+FFCmpmQGmD7BnXa+wCiYPm7rRtYcS5g+GzkX7nhtmD7JhucF1Y+YPnbUtx0xspg+IyKINY3UmD7Qb1hN6faYPn29KGVFGZk+Kgv5fKE7mT7YWMmU/V2ZPoWmmaxZgJk+MvRpxLWimT7fQTrcEcWZPoyPCvRt55k+Od3aC8oJmj7nKqsjJiyaPpR4ezuCTpo+QcZLU95wmj7uExxrOpOaPpth7IKWtZo+SK+8mvLXmj72/IyyTvqaPqNKXcqqHJs+UJgt4gY/mz795f35YmGbPqozzhG/g5s+V4GeKRummz4Ez25Bd8ibPrIcP1nT6ps+X2oPcS8NnD4MuN+Iiy+cPrkFsKDnUZw+ZlOAuEN0nD4ToVDQn5acPsHuIOj7uJw+bjzx/1fbnD4bisEXtP2cPsjXkS8QIJ0+dSViR2xCnT4iczJfyGSdPtDAAnckh50+fQ7TjoCpnT4qXKOm3MudPtepc7447p0+hPdD1pQQnj4xRRTu8DKePt+S5AVNVZ4+jOC0Hal3nj45LoU1BZqePuZ7VU1hvJ4+k8klZb3enj5AF/Z8GQGfPu5kxpR1I58+m7KWrNFFnz5IAGfELWifPvVNN9yJip8+opsH9OWsnz5P6dcLQs+fPvw2qCOe8Z8+VUK8Hf0JoD4raaQpKxugPgKQjDVZLKA+2bZ0QYc9oD6v3VxNtU6gPoYERVnjX6A+XCstZRFxoD4zUhVxP4KgPgl5/Xxtk6A+4J/liJukoD63xs2UybWgPo3ttaD3xqA+",
          "dtype": "f8"
         },
         "y": {
          "bdata": "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",
          "dtype": "f8"
         }
        },
        {
         "line": {
          "width": 2
         },
         "marker": {
          "size": 5
         },
         "mode": "lines+markers",
         "name": "dV/dI",
         "type": "scatter",
         "x": {
          "bdata": "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",
          "dtype": "f8"
         },
         "y": {
          "bdata": "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",
          "dtype": "f8"
         },
         "yaxis": "y2"
        }
       ],
       "layout": {
        "annotations": [
         {
          "font": {
           "size": 10
          },
          "showarrow": false,
          "text": "2025-04-21 17:34 | Duration: 17 sec",
          "x": 0,
          "xanchor": "left",
          "xref": "paper",
          "y": 1,
          "yanchor": "bottom",
          "yref": "paper"
         },
         {
          "font": {
           "size": 10
          },
          "showarrow": false,
          "text": "501 pts           <br>step=2.00e-09",
          "x": 1,
          "xanchor": "right",
          "xref": "paper",
          "y": -0.03,
          "yanchor": "top",
          "yref": "paper"
         }
        ],
        "height": 800,
        "legend": {
         "orientation": "h",
         "x": 0.5,
         "xanchor": "center",
         "xref": "paper",
         "y": 1,
         "yanchor": "bottom",
         "yref": "paper"
        },
        "template": {
         "data": {
          "bar": [
           {
            "error_x": {
             "color": "#2a3f5f"
            },
            "error_y": {
             "color": "#2a3f5f"
            },
            "marker": {
             "line": {
              "color": "white",
              "width": 0.5
             },
             "pattern": {
              "fillmode": "overlay",
              "size": 10,
              "solidity": 0.2
             }
            },
            "type": "bar"
           }
          ],
          "barpolar": [
           {
            "marker": {
             "line": {
              "color": "white",
              "width": 0.5
             },
             "pattern": {
              "fillmode": "overlay",
              "size": 10,
              "solidity": 0.2
             }
            },
            "type": "barpolar"
           }
          ],
          "carpet": [
           {
            "aaxis": {
             "endlinecolor": "#2a3f5f",
             "gridcolor": "#C8D4E3",
             "linecolor": "#C8D4E3",
             "minorgridcolor": "#C8D4E3",
             "startlinecolor": "#2a3f5f"
            },
            "baxis": {
             "endlinecolor": "#2a3f5f",
             "gridcolor": "#C8D4E3",
             "linecolor": "#C8D4E3",
             "minorgridcolor": "#C8D4E3",
             "startlinecolor": "#2a3f5f"
            },
            "type": "carpet"
           }
          ],
          "choropleth": [
           {
            "colorbar": {
             "outlinewidth": 0,
             "ticks": ""
            },
            "type": "choropleth"
           }
          ],
          "contour": [
           {
            "colorbar": {
             "outlinewidth": 0,
             "ticks": ""
            },
            "colorscale": [
             [
              0,
              "#0d0887"
             ],
             [
              0.1111111111111111,
              "#46039f"
             ],
             [
              0.2222222222222222,
              "#7201a8"
             ],
             [
              0.3333333333333333,
              "#9c179e"
             ],
             [
              0.4444444444444444,
              "#bd3786"
             ],
             [
              0.5555555555555556,
              "#d8576b"
             ],
             [
              0.6666666666666666,
              "#ed7953"
             ],
             [
              0.7777777777777778,
              "#fb9f3a"
             ],
             [
              0.8888888888888888,
              "#fdca26"
             ],
             [
              1,
              "#f0f921"
             ]
            ],
            "type": "contour"
           }
          ],
          "contourcarpet": [
           {
            "colorbar": {
             "outlinewidth": 0,
             "ticks": ""
            },
            "type": "contourcarpet"
           }
          ],
          "heatmap": [
           {
            "colorbar": {
             "outlinewidth": 0,
             "ticks": ""
            },
            "colorscale": [
             [
              0,
              "#0d0887"
             ],
             [
              0.1111111111111111,
              "#46039f"
             ],
             [
              0.2222222222222222,
              "#7201a8"
             ],
             [
              0.3333333333333333,
              "#9c179e"
             ],
             [
              0.4444444444444444,
              "#bd3786"
             ],
             [
              0.5555555555555556,
              "#d8576b"
             ],
             [
              0.6666666666666666,
              "#ed7953"
             ],
             [
              0.7777777777777778,
              "#fb9f3a"
             ],
             [
              0.8888888888888888,
              "#fdca26"
             ],
             [
              1,
              "#f0f921"
             ]
            ],
            "type": "heatmap"
           }
          ],
          "histogram": [
           {
            "marker": {
             "pattern": {
              "fillmode": "overlay",
              "size": 10,
              "solidity": 0.2
             }
            },
            "type": "histogram"
           }
          ],
          "histogram2d": [
           {
            "colorbar": {
             "outlinewidth": 0,
             "ticks": ""
            },
            "colorscale": [
             [
              0,
              "#0d0887"
             ],
             [
              0.1111111111111111,
              "#46039f"
             ],
             [
              0.2222222222222222,
              "#7201a8"
             ],
             [
              0.3333333333333333,
              "#9c179e"
             ],
             [
              0.4444444444444444,
              "#bd3786"
             ],
             [
              0.5555555555555556,
              "#d8576b"
             ],
             [
              0.6666666666666666,
              "#ed7953"
             ],
             [
              0.7777777777777778,
              "#fb9f3a"
             ],
             [
              0.8888888888888888,
              "#fdca26"
             ],
             [
              1,
              "#f0f921"
             ]
            ],
            "type": "histogram2d"
           }
          ],
          "histogram2dcontour": [
           {
            "colorbar": {
             "outlinewidth": 0,
             "ticks": ""
            },
            "colorscale": [
             [
              0,
              "#0d0887"
             ],
             [
              0.1111111111111111,
              "#46039f"
             ],
             [
              0.2222222222222222,
              "#7201a8"
             ],
             [
              0.3333333333333333,
              "#9c179e"
             ],
             [
              0.4444444444444444,
              "#bd3786"
             ],
             [
              0.5555555555555556,
              "#d8576b"
             ],
             [
              0.6666666666666666,
              "#ed7953"
             ],
             [
              0.7777777777777778,
              "#fb9f3a"
             ],
             [
              0.8888888888888888,
              "#fdca26"
             ],
             [
              1,
              "#f0f921"
             ]
            ],
            "type": "histogram2dcontour"
           }
          ],
          "mesh3d": [
           {
            "colorbar": {
             "outlinewidth": 0,
             "ticks": ""
            },
            "type": "mesh3d"
           }
          ],
          "parcoords": [
           {
            "line": {
             "colorbar": {
              "outlinewidth": 0,
              "ticks": ""
             }
            },
            "type": "parcoords"
           }
          ],
          "pie": [
           {
            "automargin": true,
            "type": "pie"
           }
          ],
          "scatter": [
           {
            "fillpattern": {
             "fillmode": "overlay",
             "size": 10,
             "solidity": 0.2
            },
            "type": "scatter"
           }
          ],
          "scatter3d": [
           {
            "line": {
             "colorbar": {
              "outlinewidth": 0,
              "ticks": ""
             }
            },
            "marker": {
             "colorbar": {
              "outlinewidth": 0,
              "ticks": ""
             }
            },
            "type": "scatter3d"
           }
          ],
          "scattercarpet": [
           {
            "marker": {
             "colorbar": {
              "outlinewidth": 0,
              "ticks": ""
             }
            },
            "type": "scattercarpet"
           }
          ],
          "scattergeo": [
           {
            "marker": {
             "colorbar": {
              "outlinewidth": 0,
              "ticks": ""
             }
            },
            "type": "scattergeo"
           }
          ],
          "scattergl": [
           {
            "marker": {
             "colorbar": {
              "outlinewidth": 0,
              "ticks": ""
             }
            },
            "type": "scattergl"
           }
          ],
          "scattermap": [
           {
            "marker": {
             "colorbar": {
              "outlinewidth": 0,
              "ticks": ""
             }
            },
            "type": "scattermap"
           }
          ],
          "scattermapbox": [
           {
            "marker": {
             "colorbar": {
              "outlinewidth": 0,
              "ticks": ""
             }
            },
            "type": "scattermapbox"
           }
          ],
          "scatterpolar": [
           {
            "marker": {
             "colorbar": {
              "outlinewidth": 0,
              "ticks": ""
             }
            },
            "type": "scatterpolar"
           }
          ],
          "scatterpolargl": [
           {
            "marker": {
             "colorbar": {
              "outlinewidth": 0,
              "ticks": ""
             }
            },
            "type": "scatterpolargl"
           }
          ],
          "scatterternary": [
           {
            "marker": {
             "colorbar": {
              "outlinewidth": 0,
              "ticks": ""
             }
            },
            "type": "scatterternary"
           }
          ],
          "surface": [
           {
            "colorbar": {
             "outlinewidth": 0,
             "ticks": ""
            },
            "colorscale": [
             [
              0,
              "#0d0887"
             ],
             [
              0.1111111111111111,
              "#46039f"
             ],
             [
              0.2222222222222222,
              "#7201a8"
             ],
             [
              0.3333333333333333,
              "#9c179e"
             ],
             [
              0.4444444444444444,
              "#bd3786"
             ],
             [
              0.5555555555555556,
              "#d8576b"
             ],
             [
              0.6666666666666666,
              "#ed7953"
             ],
             [
              0.7777777777777778,
              "#fb9f3a"
             ],
             [
              0.8888888888888888,
              "#fdca26"
             ],
             [
              1,
              "#f0f921"
             ]
            ],
            "type": "surface"
           }
          ],
          "table": [
           {
            "cells": {
             "fill": {
              "color": "#EBF0F8"
             },
             "line": {
              "color": "white"
             }
            },
            "header": {
             "fill": {
              "color": "#C8D4E3"
             },
             "line": {
              "color": "white"
             }
            },
            "type": "table"
           }
          ]
         },
         "layout": {
          "annotationdefaults": {
           "arrowcolor": "#2a3f5f",
           "arrowhead": 0,
           "arrowwidth": 1
          },
          "autotypenumbers": "strict",
          "coloraxis": {
           "colorbar": {
            "outlinewidth": 0,
            "ticks": ""
           }
          },
          "colorscale": {
           "diverging": [
            [
             0,
             "#8e0152"
            ],
            [
             0.1,
             "#c51b7d"
            ],
            [
             0.2,
             "#de77ae"
            ],
            [
             0.3,
             "#f1b6da"
            ],
            [
             0.4,
             "#fde0ef"
            ],
            [
             0.5,
             "#f7f7f7"
            ],
            [
             0.6,
             "#e6f5d0"
            ],
            [
             0.7,
             "#b8e186"
            ],
            [
             0.8,
             "#7fbc41"
            ],
            [
             0.9,
             "#4d9221"
            ],
            [
             1,
             "#276419"
            ]
           ],
           "sequential": [
            [
             0,
             "#0d0887"
            ],
            [
             0.1111111111111111,
             "#46039f"
            ],
            [
             0.2222222222222222,
             "#7201a8"
            ],
            [
             0.3333333333333333,
             "#9c179e"
            ],
            [
             0.4444444444444444,
             "#bd3786"
            ],
            [
             0.5555555555555556,
             "#d8576b"
            ],
            [
             0.6666666666666666,
             "#ed7953"
            ],
            [
             0.7777777777777778,
             "#fb9f3a"
            ],
            [
             0.8888888888888888,
             "#fdca26"
            ],
            [
             1,
             "#f0f921"
            ]
           ],
           "sequentialminus": [
            [
             0,
             "#0d0887"
            ],
            [
             0.1111111111111111,
             "#46039f"
            ],
            [
             0.2222222222222222,
             "#7201a8"
            ],
            [
             0.3333333333333333,
             "#9c179e"
            ],
            [
             0.4444444444444444,
             "#bd3786"
            ],
            [
             0.5555555555555556,
             "#d8576b"
            ],
            [
             0.6666666666666666,
             "#ed7953"
            ],
            [
             0.7777777777777778,
             "#fb9f3a"
            ],
            [
             0.8888888888888888,
             "#fdca26"
            ],
            [
             1,
             "#f0f921"
            ]
           ]
          },
          "colorway": [
           "#636efa",
           "#EF553B",
           "#00cc96",
           "#ab63fa",
           "#FFA15A",
           "#19d3f3",
           "#FF6692",
           "#B6E880",
           "#FF97FF",
           "#FECB52"
          ],
          "font": {
           "color": "#2a3f5f"
          },
          "geo": {
           "bgcolor": "white",
           "lakecolor": "white",
           "landcolor": "white",
           "showlakes": true,
           "showland": true,
           "subunitcolor": "#C8D4E3"
          },
          "hoverlabel": {
           "align": "left"
          },
          "hovermode": "closest",
          "mapbox": {
           "style": "light"
          },
          "paper_bgcolor": "white",
          "plot_bgcolor": "white",
          "polar": {
           "angularaxis": {
            "gridcolor": "#EBF0F8",
            "linecolor": "#EBF0F8",
            "ticks": ""
           },
           "bgcolor": "white",
           "radialaxis": {
            "gridcolor": "#EBF0F8",
            "linecolor": "#EBF0F8",
            "ticks": ""
           }
          },
          "scene": {
           "xaxis": {
            "backgroundcolor": "white",
            "gridcolor": "#DFE8F3",
            "gridwidth": 2,
            "linecolor": "#EBF0F8",
            "showbackground": true,
            "ticks": "",
            "zerolinecolor": "#EBF0F8"
           },
           "yaxis": {
            "backgroundcolor": "white",
            "gridcolor": "#DFE8F3",
            "gridwidth": 2,
            "linecolor": "#EBF0F8",
            "showbackground": true,
            "ticks": "",
            "zerolinecolor": "#EBF0F8"
           },
           "zaxis": {
            "backgroundcolor": "white",
            "gridcolor": "#DFE8F3",
            "gridwidth": 2,
            "linecolor": "#EBF0F8",
            "showbackground": true,
            "ticks": "",
            "zerolinecolor": "#EBF0F8"
           }
          },
          "shapedefaults": {
           "line": {
            "color": "#2a3f5f"
           }
          },
          "ternary": {
           "aaxis": {
            "gridcolor": "#DFE8F3",
            "linecolor": "#A2B1C6",
            "ticks": ""
           },
           "baxis": {
            "gridcolor": "#DFE8F3",
            "linecolor": "#A2B1C6",
            "ticks": ""
           },
           "bgcolor": "white",
           "caxis": {
            "gridcolor": "#DFE8F3",
            "linecolor": "#A2B1C6",
            "ticks": ""
           }
          },
          "title": {
           "x": 0.05
          },
          "xaxis": {
           "automargin": true,
           "gridcolor": "#EBF0F8",
           "linecolor": "#EBF0F8",
           "ticks": "",
           "title": {
            "standoff": 15
           },
           "zerolinecolor": "#EBF0F8",
           "zerolinewidth": 2
          },
          "yaxis": {
           "automargin": true,
           "gridcolor": "#EBF0F8",
           "linecolor": "#EBF0F8",
           "ticks": "",
           "title": {
            "standoff": 15
           },
           "zerolinecolor": "#EBF0F8",
           "zerolinewidth": 2
          }
         }
        },
        "title": {
         "text": "<b>#44|IV|</b>RT_1kOhm|R<sub>fit</sub>: 1011.5211 Ω"
        },
        "width": 800,
        "xaxis": {
         "title": {
          "text": "appl_current (A)"
         }
        },
        "yaxis": {
         "title": {
          "text": "meas_voltage_K1 (V)"
         }
        },
        "yaxis2": {
         "overlaying": "y",
         "side": "right",
         "title": {
          "text": "dV_dI (Ω)"
         }
        }
       }
      }
     },
     "metadata": {},
     "output_type": "display_data"
    },
    {
     "name": "stdout",
     "output_type": "stream",
     "text": [
      "R = 1011.5211\n"
     ]
    },
    {
     "data": {
      "application/vnd.plotly.v1+json": {
       "config": {
        "plotlyServerURL": "https://plot.ly"
       },
       "data": [
        {
         "line": {
          "width": 2
         },
         "marker": {
          "size": 5
         },
         "mode": "lines+markers",
         "name": "I-V",
         "type": "scatter",
         "x": {
          "bdata": "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",
          "dtype": "f8"
         },
         "y": {
          "bdata": "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",
          "dtype": "f8"
         }
        },
        {
         "line": {
          "width": 2
         },
         "marker": {
          "size": 5
         },
         "mode": "lines+markers",
         "name": "dV/dI",
         "type": "scatter",
         "x": {
          "bdata": "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",
          "dtype": "f8"
         },
         "y": {
          "bdata": "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",
          "dtype": "f8"
         },
         "yaxis": "y2"
        }
       ],
       "layout": {
        "annotations": [
         {
          "font": {
           "size": 10
          },
          "showarrow": false,
          "text": "2025-04-21 17:34 | Duration: 17 sec",
          "x": 0,
          "xanchor": "left",
          "xref": "paper",
          "y": 1,
          "yanchor": "bottom",
          "yref": "paper"
         },
         {
          "font": {
           "size": 10
          },
          "showarrow": false,
          "text": "501 pts           <br>step=2.00e-09",
          "x": 1,
          "xanchor": "right",
          "xref": "paper",
          "y": -0.03,
          "yanchor": "top",
          "yref": "paper"
         }
        ],
        "height": 800,
        "legend": {
         "orientation": "h",
         "x": 0.5,
         "xanchor": "center",
         "xref": "paper",
         "y": 1,
         "yanchor": "bottom",
         "yref": "paper"
        },
        "template": {
         "data": {
          "bar": [
           {
            "error_x": {
             "color": "#2a3f5f"
            },
            "error_y": {
             "color": "#2a3f5f"
            },
            "marker": {
             "line": {
              "color": "white",
              "width": 0.5
             },
             "pattern": {
              "fillmode": "overlay",
              "size": 10,
              "solidity": 0.2
             }
            },
            "type": "bar"
           }
          ],
          "barpolar": [
           {
            "marker": {
             "line": {
              "color": "white",
              "width": 0.5
             },
             "pattern": {
              "fillmode": "overlay",
              "size": 10,
              "solidity": 0.2
             }
            },
            "type": "barpolar"
           }
          ],
          "carpet": [
           {
            "aaxis": {
             "endlinecolor": "#2a3f5f",
             "gridcolor": "#C8D4E3",
             "linecolor": "#C8D4E3",
             "minorgridcolor": "#C8D4E3",
             "startlinecolor": "#2a3f5f"
            },
            "baxis": {
             "endlinecolor": "#2a3f5f",
             "gridcolor": "#C8D4E3",
             "linecolor": "#C8D4E3",
             "minorgridcolor": "#C8D4E3",
             "startlinecolor": "#2a3f5f"
            },
            "type": "carpet"
           }
          ],
          "choropleth": [
           {
            "colorbar": {
             "outlinewidth": 0,
             "ticks": ""
            },
            "type": "choropleth"
           }
          ],
          "contour": [
           {
            "colorbar": {
             "outlinewidth": 0,
             "ticks": ""
            },
            "colorscale": [
             [
              0,
              "#0d0887"
             ],
             [
              0.1111111111111111,
              "#46039f"
             ],
             [
              0.2222222222222222,
              "#7201a8"
             ],
             [
              0.3333333333333333,
              "#9c179e"
             ],
             [
              0.4444444444444444,
              "#bd3786"
             ],
             [
              0.5555555555555556,
              "#d8576b"
             ],
             [
              0.6666666666666666,
              "#ed7953"
             ],
             [
              0.7777777777777778,
              "#fb9f3a"
             ],
             [
              0.8888888888888888,
              "#fdca26"
             ],
             [
              1,
              "#f0f921"
             ]
            ],
            "type": "contour"
           }
          ],
          "contourcarpet": [
           {
            "colorbar": {
             "outlinewidth": 0,
             "ticks": ""
            },
            "type": "contourcarpet"
           }
          ],
          "heatmap": [
           {
            "colorbar": {
             "outlinewidth": 0,
             "ticks": ""
            },
            "colorscale": [
             [
              0,
              "#0d0887"
             ],
             [
              0.1111111111111111,
              "#46039f"
             ],
             [
              0.2222222222222222,
              "#7201a8"
             ],
             [
              0.3333333333333333,
              "#9c179e"
             ],
             [
              0.4444444444444444,
              "#bd3786"
             ],
             [
              0.5555555555555556,
              "#d8576b"
             ],
             [
              0.6666666666666666,
              "#ed7953"
             ],
             [
              0.7777777777777778,
              "#fb9f3a"
             ],
             [
              0.8888888888888888,
              "#fdca26"
             ],
             [
              1,
              "#f0f921"
             ]
            ],
            "type": "heatmap"
           }
          ],
          "histogram": [
           {
            "marker": {
             "pattern": {
              "fillmode": "overlay",
              "size": 10,
              "solidity": 0.2
             }
            },
            "type": "histogram"
           }
          ],
          "histogram2d": [
           {
            "colorbar": {
             "outlinewidth": 0,
             "ticks": ""
            },
            "colorscale": [
             [
              0,
              "#0d0887"
             ],
             [
              0.1111111111111111,
              "#46039f"
             ],
             [
              0.2222222222222222,
              "#7201a8"
             ],
             [
              0.3333333333333333,
              "#9c179e"
             ],
             [
              0.4444444444444444,
              "#bd3786"
             ],
             [
              0.5555555555555556,
              "#d8576b"
             ],
             [
              0.6666666666666666,
              "#ed7953"
             ],
             [
              0.7777777777777778,
              "#fb9f3a"
             ],
             [
              0.8888888888888888,
              "#fdca26"
             ],
             [
              1,
              "#f0f921"
             ]
            ],
            "type": "histogram2d"
           }
          ],
          "histogram2dcontour": [
           {
            "colorbar": {
             "outlinewidth": 0,
             "ticks": ""
            },
            "colorscale": [
             [
              0,
              "#0d0887"
             ],
             [
              0.1111111111111111,
              "#46039f"
             ],
             [
              0.2222222222222222,
              "#7201a8"
             ],
             [
              0.3333333333333333,
              "#9c179e"
             ],
             [
              0.4444444444444444,
              "#bd3786"
             ],
             [
              0.5555555555555556,
              "#d8576b"
             ],
             [
              0.6666666666666666,
              "#ed7953"
             ],
             [
              0.7777777777777778,
              "#fb9f3a"
             ],
             [
              0.8888888888888888,
              "#fdca26"
             ],
             [
              1,
              "#f0f921"
             ]
            ],
            "type": "histogram2dcontour"
           }
          ],
          "mesh3d": [
           {
            "colorbar": {
             "outlinewidth": 0,
             "ticks": ""
            },
            "type": "mesh3d"
           }
          ],
          "parcoords": [
           {
            "line": {
             "colorbar": {
              "outlinewidth": 0,
              "ticks": ""
             }
            },
            "type": "parcoords"
           }
          ],
          "pie": [
           {
            "automargin": true,
            "type": "pie"
           }
          ],
          "scatter": [
           {
            "fillpattern": {
             "fillmode": "overlay",
             "size": 10,
             "solidity": 0.2
            },
            "type": "scatter"
           }
          ],
          "scatter3d": [
           {
            "line": {
             "colorbar": {
              "outlinewidth": 0,
              "ticks": ""
             }
            },
            "marker": {
             "colorbar": {
              "outlinewidth": 0,
              "ticks": ""
             }
            },
            "type": "scatter3d"
           }
          ],
          "scattercarpet": [
           {
            "marker": {
             "colorbar": {
              "outlinewidth": 0,
              "ticks": ""
             }
            },
            "type": "scattercarpet"
           }
          ],
          "scattergeo": [
           {
            "marker": {
             "colorbar": {
              "outlinewidth": 0,
              "ticks": ""
             }
            },
            "type": "scattergeo"
           }
          ],
          "scattergl": [
           {
            "marker": {
             "colorbar": {
              "outlinewidth": 0,
              "ticks": ""
             }
            },
            "type": "scattergl"
           }
          ],
          "scattermap": [
           {
            "marker": {
             "colorbar": {
              "outlinewidth": 0,
              "ticks": ""
             }
            },
            "type": "scattermap"
           }
          ],
          "scattermapbox": [
           {
            "marker": {
             "colorbar": {
              "outlinewidth": 0,
              "ticks": ""
             }
            },
            "type": "scattermapbox"
           }
          ],
          "scatterpolar": [
           {
            "marker": {
             "colorbar": {
              "outlinewidth": 0,
              "ticks": ""
             }
            },
            "type": "scatterpolar"
           }
          ],
          "scatterpolargl": [
           {
            "marker": {
             "colorbar": {
              "outlinewidth": 0,
              "ticks": ""
             }
            },
            "type": "scatterpolargl"
           }
          ],
          "scatterternary": [
           {
            "marker": {
             "colorbar": {
              "outlinewidth": 0,
              "ticks": ""
             }
            },
            "type": "scatterternary"
           }
          ],
          "surface": [
           {
            "colorbar": {
             "outlinewidth": 0,
             "ticks": ""
            },
            "colorscale": [
             [
              0,
              "#0d0887"
             ],
             [
              0.1111111111111111,
              "#46039f"
             ],
             [
              0.2222222222222222,
              "#7201a8"
             ],
             [
              0.3333333333333333,
              "#9c179e"
             ],
             [
              0.4444444444444444,
              "#bd3786"
             ],
             [
              0.5555555555555556,
              "#d8576b"
             ],
             [
              0.6666666666666666,
              "#ed7953"
             ],
             [
              0.7777777777777778,
              "#fb9f3a"
             ],
             [
              0.8888888888888888,
              "#fdca26"
             ],
             [
              1,
              "#f0f921"
             ]
            ],
            "type": "surface"
           }
          ],
          "table": [
           {
            "cells": {
             "fill": {
              "color": "#EBF0F8"
             },
             "line": {
              "color": "white"
             }
            },
            "header": {
             "fill": {
              "color": "#C8D4E3"
             },
             "line": {
              "color": "white"
             }
            },
            "type": "table"
           }
          ]
         },
         "layout": {
          "annotationdefaults": {
           "arrowcolor": "#2a3f5f",
           "arrowhead": 0,
           "arrowwidth": 1
          },
          "autotypenumbers": "strict",
          "coloraxis": {
           "colorbar": {
            "outlinewidth": 0,
            "ticks": ""
           }
          },
          "colorscale": {
           "diverging": [
            [
             0,
             "#8e0152"
            ],
            [
             0.1,
             "#c51b7d"
            ],
            [
             0.2,
             "#de77ae"
            ],
            [
             0.3,
             "#f1b6da"
            ],
            [
             0.4,
             "#fde0ef"
            ],
            [
             0.5,
             "#f7f7f7"
            ],
            [
             0.6,
             "#e6f5d0"
            ],
            [
             0.7,
             "#b8e186"
            ],
            [
             0.8,
             "#7fbc41"
            ],
            [
             0.9,
             "#4d9221"
            ],
            [
             1,
             "#276419"
            ]
           ],
           "sequential": [
            [
             0,
             "#0d0887"
            ],
            [
             0.1111111111111111,
             "#46039f"
            ],
            [
             0.2222222222222222,
             "#7201a8"
            ],
            [
             0.3333333333333333,
             "#9c179e"
            ],
            [
             0.4444444444444444,
             "#bd3786"
            ],
            [
             0.5555555555555556,
             "#d8576b"
            ],
            [
             0.6666666666666666,
             "#ed7953"
            ],
            [
             0.7777777777777778,
             "#fb9f3a"
            ],
            [
             0.8888888888888888,
             "#fdca26"
            ],
            [
             1,
             "#f0f921"
            ]
           ],
           "sequentialminus": [
            [
             0,
             "#0d0887"
            ],
            [
             0.1111111111111111,
             "#46039f"
            ],
            [
             0.2222222222222222,
             "#7201a8"
            ],
            [
             0.3333333333333333,
             "#9c179e"
            ],
            [
             0.4444444444444444,
             "#bd3786"
            ],
            [
             0.5555555555555556,
             "#d8576b"
            ],
            [
             0.6666666666666666,
             "#ed7953"
            ],
            [
             0.7777777777777778,
             "#fb9f3a"
            ],
            [
             0.8888888888888888,
             "#fdca26"
            ],
            [
             1,
             "#f0f921"
            ]
           ]
          },
          "colorway": [
           "#636efa",
           "#EF553B",
           "#00cc96",
           "#ab63fa",
           "#FFA15A",
           "#19d3f3",
           "#FF6692",
           "#B6E880",
           "#FF97FF",
           "#FECB52"
          ],
          "font": {
           "color": "#2a3f5f"
          },
          "geo": {
           "bgcolor": "white",
           "lakecolor": "white",
           "landcolor": "white",
           "showlakes": true,
           "showland": true,
           "subunitcolor": "#C8D4E3"
          },
          "hoverlabel": {
           "align": "left"
          },
          "hovermode": "closest",
          "mapbox": {
           "style": "light"
          },
          "paper_bgcolor": "white",
          "plot_bgcolor": "white",
          "polar": {
           "angularaxis": {
            "gridcolor": "#EBF0F8",
            "linecolor": "#EBF0F8",
            "ticks": ""
           },
           "bgcolor": "white",
           "radialaxis": {
            "gridcolor": "#EBF0F8",
            "linecolor": "#EBF0F8",
            "ticks": ""
           }
          },
          "scene": {
           "xaxis": {
            "backgroundcolor": "white",
            "gridcolor": "#DFE8F3",
            "gridwidth": 2,
            "linecolor": "#EBF0F8",
            "showbackground": true,
            "ticks": "",
            "zerolinecolor": "#EBF0F8"
           },
           "yaxis": {
            "backgroundcolor": "white",
            "gridcolor": "#DFE8F3",
            "gridwidth": 2,
            "linecolor": "#EBF0F8",
            "showbackground": true,
            "ticks": "",
            "zerolinecolor": "#EBF0F8"
           },
           "zaxis": {
            "backgroundcolor": "white",
            "gridcolor": "#DFE8F3",
            "gridwidth": 2,
            "linecolor": "#EBF0F8",
            "showbackground": true,
            "ticks": "",
            "zerolinecolor": "#EBF0F8"
           }
          },
          "shapedefaults": {
           "line": {
            "color": "#2a3f5f"
           }
          },
          "ternary": {
           "aaxis": {
            "gridcolor": "#DFE8F3",
            "linecolor": "#A2B1C6",
            "ticks": ""
           },
           "baxis": {
            "gridcolor": "#DFE8F3",
            "linecolor": "#A2B1C6",
            "ticks": ""
           },
           "bgcolor": "white",
           "caxis": {
            "gridcolor": "#DFE8F3",
            "linecolor": "#A2B1C6",
            "ticks": ""
           }
          },
          "title": {
           "x": 0.05
          },
          "xaxis": {
           "automargin": true,
           "gridcolor": "#EBF0F8",
           "linecolor": "#EBF0F8",
           "ticks": "",
           "title": {
            "standoff": 15
           },
           "zerolinecolor": "#EBF0F8",
           "zerolinewidth": 2
          },
          "yaxis": {
           "automargin": true,
           "gridcolor": "#EBF0F8",
           "linecolor": "#EBF0F8",
           "ticks": "",
           "title": {
            "standoff": 15
           },
           "zerolinecolor": "#EBF0F8",
           "zerolinewidth": 2
          }
         }
        },
        "title": {
         "text": "<b>#44|IV|</b>RT_1kOhm|R<sub>fit</sub>: 1011.5211 Ω"
        },
        "width": 800,
        "xaxis": {
         "title": {
          "text": "appl_current (A)"
         }
        },
        "yaxis": {
         "title": {
          "text": "meas_voltage_K1 (V)"
         }
        },
        "yaxis2": {
         "overlaying": "y",
         "side": "right",
         "title": {
          "text": "dV_dI (Ω)"
         }
        }
       }
      }
     },
     "metadata": {},
     "output_type": "display_data"
    }
   ],
   "source": [
    "I = 0.5e-6\n",
    "# I = 10e-9\n",
    "Rel(DMM6500)\n",
    "appl_current(-I)\n",
    "K2440.output(1)\n",
    "sleep(1)\n",
    "\n",
    "exp = qc.new_experiment('IV', sample_name='RT_1kOhm')\n",
    "# exp = qc.new_experiment('IV', sample_name=f'002-01_20-21-31-32@({Mag_x*1e3:.2f},{Mag_y*1e3:.2f},{Mag_z*1e3:.2f})mT')\n",
    "\n",
    "dataid = do1d(appl_current, -I, I, 501, 0.01,meas_voltage_K1,)\n",
    "# dataid = do1d(appl_current, 6e-6 , -6e-6, 251, 0.01, meas_voltage_K1)\n",
    "Rel(DMM6500,0)\n",
    "appl_current(0)\n",
    "K2440.output(0)\n",
    "fig = plot_combined_iv_dvdi(dataid)\n",
    "# clear_output(wait=True)\n",
    "print(f\"R = {get_R_from_IV(dataid):.4f}\")\n",
    "fig"
   ]
  },
  {
   "cell_type": "code",
   "execution_count": null,
   "id": "d8f7d99b",
   "metadata": {},
   "outputs": [],
   "source": [
    "DMM6500.write(\"TRIG:CONT REST\")"
   ]
  },
  {
   "cell_type": "code",
   "execution_count": 28,
   "id": "d5cc1a43",
   "metadata": {},
   "outputs": [
    {
     "name": "stdout",
     "output_type": "stream",
     "text": [
      "R = 561.7934\n"
     ]
    }
   ],
   "source": [
    "print(f\"R = {get_R_from_IV(dataid):.4f}\")"
   ]
  },
  {
   "cell_type": "code",
   "execution_count": 21,
   "id": "8146d890",
   "metadata": {},
   "outputs": [],
   "source": [
    "if monitor.running:\n",
    "    monitor.stop()\n"
   ]
  },
  {
   "cell_type": "code",
   "execution_count": 349,
   "id": "61504bd9",
   "metadata": {},
   "outputs": [
    {
     "data": {
      "text/plain": [
       "{'IDN': <qcodes.parameters.parameter.Parameter: IDN at 2556528757072>,\n",
       " 'timeout': <qcodes.parameters.parameter.Parameter: timeout at 2556528882768>,\n",
       " 'mode': <qcodes.parameters.parameter.Parameter: mode at 2556115208016>,\n",
       " 'nplc': <qcodes.parameters.parameter.Parameter: nplc at 2556528885072>,\n",
       " 'range': <qcodes.parameters.parameter.Parameter: range at 2556507744912>,\n",
       " 'auto_range_enabled': <qcodes.parameters.parameter.Parameter: auto_range_enabled at 2556528765008>,\n",
       " 'digits': <qcodes.parameters.parameter.Parameter: digits at 2556522956496>,\n",
       " 'averaging_type': <qcodes.parameters.parameter.Parameter: averaging_type at 2556528938000>,\n",
       " 'averaging_count': <qcodes.parameters.parameter.Parameter: averaging_count at 2556528939280>,\n",
       " 'averaging_enabled': <qcodes.parameters.parameter.Parameter: averaging_enabled at 2556528945360>,\n",
       " 'display_backlight': <qcodes.parameters.parameter.Parameter: display_backlight at 2556528946512>,\n",
       " 'trigger_count': <qcodes.parameters.parameter.Parameter: trigger_count at 2556528948560>,\n",
       " 'trigger1_delay': <qcodes.parameters.parameter.Parameter: trigger1_delay at 2556528949712>,\n",
       " 'trigger1_source': <qcodes.parameters.parameter.Parameter: trigger1_source at 2556528951120>,\n",
       " 'trigger2_delay': <qcodes.parameters.parameter.Parameter: trigger2_delay at 2556528985424>,\n",
       " 'trigger2_source': <qcodes.parameters.parameter.Parameter: trigger2_source at 2556528986832>,\n",
       " 'trigger3_delay': <qcodes.parameters.parameter.Parameter: trigger3_delay at 2556528988304>,\n",
       " 'trigger3_source': <qcodes.parameters.parameter.Parameter: trigger3_source at 2556528989712>,\n",
       " 'trigger4_delay': <qcodes.parameters.parameter.Parameter: trigger4_delay at 2556528991120>,\n",
       " 'trigger4_source': <qcodes.parameters.parameter.Parameter: trigger4_source at 2556528992528>,\n",
       " 'trigger_timer': <qcodes.parameters.parameter.Parameter: trigger_timer at 2556528994000>,\n",
       " 'amplitude': <qcodes.parameters.parameter.Parameter: amplitude at 2556528995216>}"
      ]
     },
     "execution_count": 349,
     "metadata": {},
     "output_type": "execute_result"
    }
   ],
   "source": [
    "DMM6500.parameters"
   ]
  },
  {
   "cell_type": "code",
   "execution_count": 461,
   "id": "13a0203f",
   "metadata": {},
   "outputs": [],
   "source": [
    "%matplotlib qt"
   ]
  },
  {
   "cell_type": "code",
   "execution_count": 471,
   "id": "f8531bea",
   "metadata": {},
   "outputs": [
    {
     "ename": "TypeError",
     "evalue": "'_WindowsSelectorEventLoop' object is not callable",
     "output_type": "error",
     "traceback": [
      "\u001b[31m---------------------------------------------------------------------------\u001b[39m",
      "\u001b[31mTypeError\u001b[39m                                 Traceback (most recent call last)",
      "\u001b[36mCell\u001b[39m\u001b[36m \u001b[39m\u001b[32mIn[471]\u001b[39m\u001b[32m, line 3\u001b[39m\n\u001b[32m      1\u001b[39m \u001b[38;5;28;01mfrom\u001b[39;00m\u001b[38;5;250m \u001b[39m\u001b[34;01mqcodes\u001b[39;00m\u001b[38;5;250m \u001b[39m\u001b[38;5;28;01mimport\u001b[39;00m Monitor\n\u001b[32m      2\u001b[39m monitor = Monitor(appl_current, meas_voltage_K1,interval=\u001b[32m0.1\u001b[39m, use_root_instrument=\u001b[38;5;28;01mTrue\u001b[39;00m)\n\u001b[32m----> \u001b[39m\u001b[32m3\u001b[39m \u001b[43mmonitor\u001b[49m\u001b[43m.\u001b[49m\u001b[43mloop\u001b[49m\u001b[43m(\u001b[49m\n\u001b[32m      4\u001b[39m \u001b[43m    \u001b[49m\u001b[43minterval\u001b[49m\u001b[43m=\u001b[49m\u001b[32;43m0.1\u001b[39;49m\u001b[43m,\u001b[49m\n\u001b[32m      5\u001b[39m \u001b[43m    \u001b[49m\u001b[43mduration\u001b[49m\u001b[43m=\u001b[49m\u001b[32;43m5\u001b[39;49m\u001b[43m,\u001b[49m\n\u001b[32m      6\u001b[39m \u001b[43m    \u001b[49m\u001b[43mname\u001b[49m\u001b[43m=\u001b[49m\u001b[33;43m'\u001b[39;49m\u001b[33;43mmonitor\u001b[39;49m\u001b[33;43m'\u001b[39;49m\u001b[43m,\u001b[49m\n\u001b[32m      7\u001b[39m \u001b[43m    \u001b[49m\u001b[43mplot\u001b[49m\u001b[43m=\u001b[49m\u001b[38;5;28;43;01mTrue\u001b[39;49;00m\u001b[43m,\u001b[49m\n\u001b[32m      8\u001b[39m \u001b[43m    \u001b[49m\u001b[43mplot_kwargs\u001b[49m\u001b[43m=\u001b[49m\u001b[43m{\u001b[49m\u001b[33;43m'\u001b[39;49m\u001b[33;43mx_label\u001b[39;49m\u001b[33;43m'\u001b[39;49m\u001b[43m:\u001b[49m\u001b[43m \u001b[49m\u001b[33;43m'\u001b[39;49m\u001b[33;43mTime (s)\u001b[39;49m\u001b[33;43m'\u001b[39;49m\u001b[43m,\u001b[49m\u001b[43m \u001b[49m\u001b[33;43m'\u001b[39;49m\u001b[33;43my_label\u001b[39;49m\u001b[33;43m'\u001b[39;49m\u001b[43m:\u001b[49m\u001b[43m \u001b[49m\u001b[33;43m'\u001b[39;49m\u001b[33;43mVoltage (V)\u001b[39;49m\u001b[33;43m'\u001b[39;49m\u001b[43m}\u001b[49m\u001b[43m,\u001b[49m\n\u001b[32m      9\u001b[39m \u001b[43m)\u001b[49m\n",
      "\u001b[31mTypeError\u001b[39m: '_WindowsSelectorEventLoop' object is not callable"
     ]
    }
   ],
   "source": [
    "from qcodes import Monitor\n",
    "monitor = Monitor(appl_current, meas_voltage_K1,interval=0.1, use_root_instrument=True)\n",
    "monitor.loop(\n",
    "    interval=0.1,\n",
    "    duration=5,\n",
    "    name='monitor',\n",
    "    plot=True,\n",
    "    plot_kwargs={'x_label': 'Time (s)', 'y_label': 'Voltage (V)'},\n",
    ")\n"
   ]
  },
  {
   "cell_type": "code",
   "execution_count": 477,
   "id": "4dc74ac6",
   "metadata": {},
   "outputs": [
    {
     "data": {
      "application/vnd.jupyter.widget-view+json": {
       "model_id": "cb5ec922402641c6aabed1e64cc4abcd",
       "version_major": 2,
       "version_minor": 0
      },
      "text/plain": [
       "VBox(children=(HTML(value='<h1>QCoDeS experiments widget</h1>'), Tab(children=(Output(),), selected_index=0, t…"
      ]
     },
     "execution_count": 477,
     "metadata": {},
     "output_type": "execute_result"
    }
   ],
   "source": [
    "from qcodes.interactive_widget import experiments_widget\n",
    "experiments_widget(sort_by=\"timestamp\")"
   ]
  },
  {
   "cell_type": "code",
   "execution_count": 467,
   "id": "204483b8",
   "metadata": {},
   "outputs": [],
   "source": [
    "import asyncio\n",
    "import sys\n",
    "\n",
    "if sys.platform == \"win32\":\n",
    "    asyncio.set_event_loop_policy(asyncio.WindowsSelectorEventLoopPolicy())\n"
   ]
  },
  {
   "cell_type": "code",
   "execution_count": 468,
   "id": "ac0b60b4",
   "metadata": {},
   "outputs": [
    {
     "ename": "TypeError",
     "evalue": "'_WindowsSelectorEventLoop' object is not callable",
     "output_type": "error",
     "traceback": [
      "\u001b[31m---------------------------------------------------------------------------\u001b[39m",
      "\u001b[31mTypeError\u001b[39m                                 Traceback (most recent call last)",
      "\u001b[36mCell\u001b[39m\u001b[36m \u001b[39m\u001b[32mIn[468]\u001b[39m\u001b[32m, line 3\u001b[39m\n\u001b[32m      1\u001b[39m monitoring = \u001b[38;5;28;01mTrue\u001b[39;00m\n\u001b[32m      2\u001b[39m monitor = Monitor(appl_current, meas_voltage_K1, interval=\u001b[32m0.1\u001b[39m, use_root_instrument=\u001b[38;5;28;01mTrue\u001b[39;00m)\n\u001b[32m----> \u001b[39m\u001b[32m3\u001b[39m \u001b[43mmonitor\u001b[49m\u001b[43m.\u001b[49m\u001b[43mloop\u001b[49m\u001b[43m(\u001b[49m\n\u001b[32m      4\u001b[39m \u001b[43m    \u001b[49m\u001b[43minterval\u001b[49m\u001b[43m=\u001b[49m\u001b[32;43m0.1\u001b[39;49m\u001b[43m,\u001b[49m\n\u001b[32m      5\u001b[39m \u001b[43m    \u001b[49m\u001b[43mduration\u001b[49m\u001b[43m=\u001b[49m\u001b[32;43m5\u001b[39;49m\u001b[43m,\u001b[49m\n\u001b[32m      6\u001b[39m \u001b[43m    \u001b[49m\u001b[43mname\u001b[49m\u001b[43m=\u001b[49m\u001b[33;43m'\u001b[39;49m\u001b[33;43mmonitor\u001b[39;49m\u001b[33;43m'\u001b[39;49m\u001b[43m,\u001b[49m\n\u001b[32m      7\u001b[39m \u001b[43m    \u001b[49m\u001b[43mplot\u001b[49m\u001b[43m=\u001b[49m\u001b[38;5;28;43;01mTrue\u001b[39;49;00m\u001b[43m,\u001b[49m\n\u001b[32m      8\u001b[39m \u001b[43m    \u001b[49m\u001b[43mplot_kwargs\u001b[49m\u001b[43m=\u001b[49m\u001b[43m{\u001b[49m\u001b[33;43m'\u001b[39;49m\u001b[33;43mx_label\u001b[39;49m\u001b[33;43m'\u001b[39;49m\u001b[43m:\u001b[49m\u001b[43m \u001b[49m\u001b[33;43m'\u001b[39;49m\u001b[33;43mTime (s)\u001b[39;49m\u001b[33;43m'\u001b[39;49m\u001b[43m,\u001b[49m\u001b[43m \u001b[49m\u001b[33;43m'\u001b[39;49m\u001b[33;43my_label\u001b[39;49m\u001b[33;43m'\u001b[39;49m\u001b[43m:\u001b[49m\u001b[43m \u001b[49m\u001b[33;43m'\u001b[39;49m\u001b[33;43mVoltage (V)\u001b[39;49m\u001b[33;43m'\u001b[39;49m\u001b[43m}\u001b[49m\u001b[43m,\u001b[49m\n\u001b[32m      9\u001b[39m \u001b[43m)\u001b[49m\n\u001b[32m     10\u001b[39m monitor.stop()\n",
      "\u001b[31mTypeError\u001b[39m: '_WindowsSelectorEventLoop' object is not callable"
     ]
    }
   ],
   "source": [
    "monitoring = True\n",
    "monitor = Monitor(appl_current, meas_voltage_K1, interval=0.1, use_root_instrument=True)\n",
    "monitor.loop(\n",
    "    interval=0.1,\n",
    "    duration=5,\n",
    "    name='monitor',\n",
    "    plot=True,\n",
    "    plot_kwargs={'x_label': 'Time (s)', 'y_label': 'Voltage (V)'},\n",
    ")\n",
    "monitor.stop()"
   ]
  },
  {
   "cell_type": "code",
   "execution_count": 35,
   "id": "4834bca1",
   "metadata": {},
   "outputs": [
    {
     "data": {
      "text/plain": [
       "True"
      ]
     },
     "execution_count": 35,
     "metadata": {},
     "output_type": "execute_result"
    }
   ],
   "source": [
    "import webbrowser\n",
    "url = \"localhost:3000\"\n",
    "# Open URL in new window, raising the window if possible.\n",
    "webbrowser.open_new(url)"
   ]
  },
  {
   "cell_type": "code",
   "execution_count": 451,
   "id": "6a880cee",
   "metadata": {},
   "outputs": [],
   "source": [
    "monitor.update_all()"
   ]
  },
  {
   "cell_type": "code",
   "execution_count": 450,
   "id": "2daf366b",
   "metadata": {},
   "outputs": [],
   "source": [
    "K2440.output(1)"
   ]
  },
  {
   "cell_type": "code",
   "execution_count": 344,
   "id": "94d8b3fa",
   "metadata": {},
   "outputs": [
    {
     "name": "stderr",
     "output_type": "stream",
     "text": [
      "There is (are) already experiment(s) with the name of I-V and sample name of 003-02_09-10-14-13 in the database.\n"
     ]
    },
    {
     "name": "stdout",
     "output_type": "stream",
     "text": [
      "Starting experimental run with id: 20. \n"
     ]
    },
    {
     "name": "stderr",
     "output_type": "stream",
     "text": [
      "100%|██████████| 501/501 [00:26<00:00, 18.60it/s]"
     ]
    },
    {
     "name": "stdout",
     "output_type": "stream",
     "text": [
      "R = 1009.7962196874541\n"
     ]
    },
    {
     "name": "stderr",
     "output_type": "stream",
     "text": [
      "\n"
     ]
    },
    {
     "data": {
      "application/vnd.plotly.v1+json": {
       "config": {
        "plotlyServerURL": "https://plot.ly"
       },
       "data": [
        {
         "mode": "lines",
         "name": "Voltage vs. Current",
         "type": "scatter",
         "x": {
          "bdata": "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",
          "dtype": "f8"
         },
         "y": {
          "bdata": "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",
          "dtype": "f8"
         }
        }
       ],
       "layout": {
        "height": 960,
        "margin": {
         "b": 10,
         "l": 10,
         "r": 10,
         "t": 50
        },
        "template": {
         "data": {
          "bar": [
           {
            "error_x": {
             "color": "#2a3f5f"
            },
            "error_y": {
             "color": "#2a3f5f"
            },
            "marker": {
             "line": {
              "color": "#E5ECF6",
              "width": 0.5
             },
             "pattern": {
              "fillmode": "overlay",
              "size": 10,
              "solidity": 0.2
             }
            },
            "type": "bar"
           }
          ],
          "barpolar": [
           {
            "marker": {
             "line": {
              "color": "#E5ECF6",
              "width": 0.5
             },
             "pattern": {
              "fillmode": "overlay",
              "size": 10,
              "solidity": 0.2
             }
            },
            "type": "barpolar"
           }
          ],
          "carpet": [
           {
            "aaxis": {
             "endlinecolor": "#2a3f5f",
             "gridcolor": "white",
             "linecolor": "white",
             "minorgridcolor": "white",
             "startlinecolor": "#2a3f5f"
            },
            "baxis": {
             "endlinecolor": "#2a3f5f",
             "gridcolor": "white",
             "linecolor": "white",
             "minorgridcolor": "white",
             "startlinecolor": "#2a3f5f"
            },
            "type": "carpet"
           }
          ],
          "choropleth": [
           {
            "colorbar": {
             "outlinewidth": 0,
             "ticks": ""
            },
            "type": "choropleth"
           }
          ],
          "contour": [
           {
            "colorbar": {
             "outlinewidth": 0,
             "ticks": ""
            },
            "colorscale": [
             [
              0,
              "#0d0887"
             ],
             [
              0.1111111111111111,
              "#46039f"
             ],
             [
              0.2222222222222222,
              "#7201a8"
             ],
             [
              0.3333333333333333,
              "#9c179e"
             ],
             [
              0.4444444444444444,
              "#bd3786"
             ],
             [
              0.5555555555555556,
              "#d8576b"
             ],
             [
              0.6666666666666666,
              "#ed7953"
             ],
             [
              0.7777777777777778,
              "#fb9f3a"
             ],
             [
              0.8888888888888888,
              "#fdca26"
             ],
             [
              1,
              "#f0f921"
             ]
            ],
            "type": "contour"
           }
          ],
          "contourcarpet": [
           {
            "colorbar": {
             "outlinewidth": 0,
             "ticks": ""
            },
            "type": "contourcarpet"
           }
          ],
          "heatmap": [
           {
            "colorbar": {
             "outlinewidth": 0,
             "ticks": ""
            },
            "colorscale": [
             [
              0,
              "#0d0887"
             ],
             [
              0.1111111111111111,
              "#46039f"
             ],
             [
              0.2222222222222222,
              "#7201a8"
             ],
             [
              0.3333333333333333,
              "#9c179e"
             ],
             [
              0.4444444444444444,
              "#bd3786"
             ],
             [
              0.5555555555555556,
              "#d8576b"
             ],
             [
              0.6666666666666666,
              "#ed7953"
             ],
             [
              0.7777777777777778,
              "#fb9f3a"
             ],
             [
              0.8888888888888888,
              "#fdca26"
             ],
             [
              1,
              "#f0f921"
             ]
            ],
            "type": "heatmap"
           }
          ],
          "histogram": [
           {
            "marker": {
             "pattern": {
              "fillmode": "overlay",
              "size": 10,
              "solidity": 0.2
             }
            },
            "type": "histogram"
           }
          ],
          "histogram2d": [
           {
            "colorbar": {
             "outlinewidth": 0,
             "ticks": ""
            },
            "colorscale": [
             [
              0,
              "#0d0887"
             ],
             [
              0.1111111111111111,
              "#46039f"
             ],
             [
              0.2222222222222222,
              "#7201a8"
             ],
             [
              0.3333333333333333,
              "#9c179e"
             ],
             [
              0.4444444444444444,
              "#bd3786"
             ],
             [
              0.5555555555555556,
              "#d8576b"
             ],
             [
              0.6666666666666666,
              "#ed7953"
             ],
             [
              0.7777777777777778,
              "#fb9f3a"
             ],
             [
              0.8888888888888888,
              "#fdca26"
             ],
             [
              1,
              "#f0f921"
             ]
            ],
            "type": "histogram2d"
           }
          ],
          "histogram2dcontour": [
           {
            "colorbar": {
             "outlinewidth": 0,
             "ticks": ""
            },
            "colorscale": [
             [
              0,
              "#0d0887"
             ],
             [
              0.1111111111111111,
              "#46039f"
             ],
             [
              0.2222222222222222,
              "#7201a8"
             ],
             [
              0.3333333333333333,
              "#9c179e"
             ],
             [
              0.4444444444444444,
              "#bd3786"
             ],
             [
              0.5555555555555556,
              "#d8576b"
             ],
             [
              0.6666666666666666,
              "#ed7953"
             ],
             [
              0.7777777777777778,
              "#fb9f3a"
             ],
             [
              0.8888888888888888,
              "#fdca26"
             ],
             [
              1,
              "#f0f921"
             ]
            ],
            "type": "histogram2dcontour"
           }
          ],
          "mesh3d": [
           {
            "colorbar": {
             "outlinewidth": 0,
             "ticks": ""
            },
            "type": "mesh3d"
           }
          ],
          "parcoords": [
           {
            "line": {
             "colorbar": {
              "outlinewidth": 0,
              "ticks": ""
             }
            },
            "type": "parcoords"
           }
          ],
          "pie": [
           {
            "automargin": true,
            "type": "pie"
           }
          ],
          "scatter": [
           {
            "fillpattern": {
             "fillmode": "overlay",
             "size": 10,
             "solidity": 0.2
            },
            "type": "scatter"
           }
          ],
          "scatter3d": [
           {
            "line": {
             "colorbar": {
              "outlinewidth": 0,
              "ticks": ""
             }
            },
            "marker": {
             "colorbar": {
              "outlinewidth": 0,
              "ticks": ""
             }
            },
            "type": "scatter3d"
           }
          ],
          "scattercarpet": [
           {
            "marker": {
             "colorbar": {
              "outlinewidth": 0,
              "ticks": ""
             }
            },
            "type": "scattercarpet"
           }
          ],
          "scattergeo": [
           {
            "marker": {
             "colorbar": {
              "outlinewidth": 0,
              "ticks": ""
             }
            },
            "type": "scattergeo"
           }
          ],
          "scattergl": [
           {
            "marker": {
             "colorbar": {
              "outlinewidth": 0,
              "ticks": ""
             }
            },
            "type": "scattergl"
           }
          ],
          "scattermap": [
           {
            "marker": {
             "colorbar": {
              "outlinewidth": 0,
              "ticks": ""
             }
            },
            "type": "scattermap"
           }
          ],
          "scattermapbox": [
           {
            "marker": {
             "colorbar": {
              "outlinewidth": 0,
              "ticks": ""
             }
            },
            "type": "scattermapbox"
           }
          ],
          "scatterpolar": [
           {
            "marker": {
             "colorbar": {
              "outlinewidth": 0,
              "ticks": ""
             }
            },
            "type": "scatterpolar"
           }
          ],
          "scatterpolargl": [
           {
            "marker": {
             "colorbar": {
              "outlinewidth": 0,
              "ticks": ""
             }
            },
            "type": "scatterpolargl"
           }
          ],
          "scatterternary": [
           {
            "marker": {
             "colorbar": {
              "outlinewidth": 0,
              "ticks": ""
             }
            },
            "type": "scatterternary"
           }
          ],
          "surface": [
           {
            "colorbar": {
             "outlinewidth": 0,
             "ticks": ""
            },
            "colorscale": [
             [
              0,
              "#0d0887"
             ],
             [
              0.1111111111111111,
              "#46039f"
             ],
             [
              0.2222222222222222,
              "#7201a8"
             ],
             [
              0.3333333333333333,
              "#9c179e"
             ],
             [
              0.4444444444444444,
              "#bd3786"
             ],
             [
              0.5555555555555556,
              "#d8576b"
             ],
             [
              0.6666666666666666,
              "#ed7953"
             ],
             [
              0.7777777777777778,
              "#fb9f3a"
             ],
             [
              0.8888888888888888,
              "#fdca26"
             ],
             [
              1,
              "#f0f921"
             ]
            ],
            "type": "surface"
           }
          ],
          "table": [
           {
            "cells": {
             "fill": {
              "color": "#EBF0F8"
             },
             "line": {
              "color": "white"
             }
            },
            "header": {
             "fill": {
              "color": "#C8D4E3"
             },
             "line": {
              "color": "white"
             }
            },
            "type": "table"
           }
          ]
         },
         "layout": {
          "annotationdefaults": {
           "arrowcolor": "#2a3f5f",
           "arrowhead": 0,
           "arrowwidth": 1
          },
          "autotypenumbers": "strict",
          "coloraxis": {
           "colorbar": {
            "outlinewidth": 0,
            "ticks": ""
           }
          },
          "colorscale": {
           "diverging": [
            [
             0,
             "#8e0152"
            ],
            [
             0.1,
             "#c51b7d"
            ],
            [
             0.2,
             "#de77ae"
            ],
            [
             0.3,
             "#f1b6da"
            ],
            [
             0.4,
             "#fde0ef"
            ],
            [
             0.5,
             "#f7f7f7"
            ],
            [
             0.6,
             "#e6f5d0"
            ],
            [
             0.7,
             "#b8e186"
            ],
            [
             0.8,
             "#7fbc41"
            ],
            [
             0.9,
             "#4d9221"
            ],
            [
             1,
             "#276419"
            ]
           ],
           "sequential": [
            [
             0,
             "#0d0887"
            ],
            [
             0.1111111111111111,
             "#46039f"
            ],
            [
             0.2222222222222222,
             "#7201a8"
            ],
            [
             0.3333333333333333,
             "#9c179e"
            ],
            [
             0.4444444444444444,
             "#bd3786"
            ],
            [
             0.5555555555555556,
             "#d8576b"
            ],
            [
             0.6666666666666666,
             "#ed7953"
            ],
            [
             0.7777777777777778,
             "#fb9f3a"
            ],
            [
             0.8888888888888888,
             "#fdca26"
            ],
            [
             1,
             "#f0f921"
            ]
           ],
           "sequentialminus": [
            [
             0,
             "#0d0887"
            ],
            [
             0.1111111111111111,
             "#46039f"
            ],
            [
             0.2222222222222222,
             "#7201a8"
            ],
            [
             0.3333333333333333,
             "#9c179e"
            ],
            [
             0.4444444444444444,
             "#bd3786"
            ],
            [
             0.5555555555555556,
             "#d8576b"
            ],
            [
             0.6666666666666666,
             "#ed7953"
            ],
            [
             0.7777777777777778,
             "#fb9f3a"
            ],
            [
             0.8888888888888888,
             "#fdca26"
            ],
            [
             1,
             "#f0f921"
            ]
           ]
          },
          "colorway": [
           "#636efa",
           "#EF553B",
           "#00cc96",
           "#ab63fa",
           "#FFA15A",
           "#19d3f3",
           "#FF6692",
           "#B6E880",
           "#FF97FF",
           "#FECB52"
          ],
          "font": {
           "color": "#2a3f5f"
          },
          "geo": {
           "bgcolor": "white",
           "lakecolor": "white",
           "landcolor": "#E5ECF6",
           "showlakes": true,
           "showland": true,
           "subunitcolor": "white"
          },
          "hoverlabel": {
           "align": "left"
          },
          "hovermode": "closest",
          "mapbox": {
           "style": "light"
          },
          "paper_bgcolor": "white",
          "plot_bgcolor": "#E5ECF6",
          "polar": {
           "angularaxis": {
            "gridcolor": "white",
            "linecolor": "white",
            "ticks": ""
           },
           "bgcolor": "#E5ECF6",
           "radialaxis": {
            "gridcolor": "white",
            "linecolor": "white",
            "ticks": ""
           }
          },
          "scene": {
           "xaxis": {
            "backgroundcolor": "#E5ECF6",
            "gridcolor": "white",
            "gridwidth": 2,
            "linecolor": "white",
            "showbackground": true,
            "ticks": "",
            "zerolinecolor": "white"
           },
           "yaxis": {
            "backgroundcolor": "#E5ECF6",
            "gridcolor": "white",
            "gridwidth": 2,
            "linecolor": "white",
            "showbackground": true,
            "ticks": "",
            "zerolinecolor": "white"
           },
           "zaxis": {
            "backgroundcolor": "#E5ECF6",
            "gridcolor": "white",
            "gridwidth": 2,
            "linecolor": "white",
            "showbackground": true,
            "ticks": "",
            "zerolinecolor": "white"
           }
          },
          "shapedefaults": {
           "line": {
            "color": "#2a3f5f"
           }
          },
          "ternary": {
           "aaxis": {
            "gridcolor": "white",
            "linecolor": "white",
            "ticks": ""
           },
           "baxis": {
            "gridcolor": "white",
            "linecolor": "white",
            "ticks": ""
           },
           "bgcolor": "#E5ECF6",
           "caxis": {
            "gridcolor": "white",
            "linecolor": "white",
            "ticks": ""
           }
          },
          "title": {
           "x": 0.05
          },
          "xaxis": {
           "automargin": true,
           "gridcolor": "white",
           "linecolor": "white",
           "ticks": "",
           "title": {
            "standoff": 15
           },
           "zerolinecolor": "white",
           "zerolinewidth": 2
          },
          "yaxis": {
           "automargin": true,
           "gridcolor": "white",
           "linecolor": "white",
           "ticks": "",
           "title": {
            "standoff": 15
           },
           "zerolinecolor": "white",
           "zerolinewidth": 2
          }
         }
        },
        "title": {
         "font": {
          "size": 28
         },
         "text": "<b>#20 I-V</b> 003-02_09-10-14-13, R_fit=1009.7962 Ω"
        },
        "width": 1080,
        "xaxis": {
         "tickfont": {
          "size": 16
         },
         "title": {
          "font": {
           "size": 20
          },
          "text": "appl_current"
         }
        },
        "yaxis": {
         "tickfont": {
          "size": 16
         },
         "title": {
          "font": {
           "size": 20
          },
          "text": "meas_voltage_K1 mV"
         }
        }
       }
      }
     },
     "metadata": {},
     "output_type": "display_data"
    },
    {
     "data": {
      "application/vnd.plotly.v1+json": {
       "config": {
        "plotlyServerURL": "https://plot.ly"
       },
       "data": [
        {
         "mode": "lines",
         "name": "d(Voltage)/d(Current)",
         "type": "scatter",
         "x": [
          -1000,
          -996.0000000000001,
          -992,
          -987.9999999999999,
          -984,
          -979.9999999999999,
          -976.0000000000001,
          -972,
          -968.0000000000001,
          -964,
          -959.9999999999999,
          -956,
          -952,
          -948,
          -944,
          -940,
          -936,
          -932,
          -928,
          -924,
          -920,
          -916,
          -912,
          -908,
          -904,
          -900,
          -896,
          -892,
          -888,
          -884,
          -880,
          -876,
          -872,
          -868,
          -864,
          -860,
          -856,
          -852,
          -848,
          -844,
          -840,
          -836,
          -832,
          -828,
          -824,
          -820,
          -816,
          -812,
          -808,
          -804,
          -800,
          -796,
          -792,
          -788,
          -784,
          -780,
          -776,
          -772,
          -768,
          -764,
          -760,
          -756,
          -752,
          -748,
          -744,
          -740,
          -736,
          -732,
          -728,
          -724,
          -720,
          -716,
          -712,
          -708,
          -704,
          -700,
          -696,
          -692,
          -688,
          -684,
          -680,
          -676,
          -672,
          -668,
          -664,
          -660,
          -656,
          -652,
          -648,
          -644,
          -640,
          -636,
          -632,
          -628,
          -624,
          -620,
          -616,
          -612,
          -608,
          -604,
          -600,
          -596,
          -592,
          -588,
          -584,
          -580,
          -576,
          -572,
          -568,
          -564,
          -560,
          -556,
          -552,
          -548,
          -544,
          -540,
          -536,
          -532,
          -528,
          -524,
          -520,
          -516,
          -512,
          -508.00000000000006,
          -503.99999999999994,
          -500,
          -496,
          -492,
          -488.00000000000006,
          -484.00000000000006,
          -479.99999999999994,
          -476,
          -472,
          -468,
          -464,
          -460,
          -456,
          -452,
          -448,
          -444,
          -440,
          -436,
          -432,
          -428,
          -424,
          -420,
          -416,
          -412,
          -408,
          -404,
          -400,
          -396,
          -392,
          -388,
          -384,
          -380,
          -376,
          -372,
          -368,
          -364,
          -360,
          -356,
          -352,
          -348,
          -344,
          -340,
          -336,
          -332,
          -328,
          -324,
          -320,
          -316,
          -312,
          -308,
          -304,
          -300,
          -296,
          -292,
          -288,
          -284,
          -280,
          -276,
          -272,
          -268,
          -264,
          -260,
          -256,
          -251.99999999999997,
          -248,
          -244.00000000000003,
          -239.99999999999997,
          -236,
          -232,
          -228,
          -224,
          -220,
          -216,
          -212,
          -208,
          -204,
          -200,
          -196,
          -192,
          -188,
          -184,
          -180,
          -176,
          -172,
          -168,
          -164,
          -160,
          -156,
          -152,
          -148,
          -144,
          -140,
          -136,
          -132,
          -128,
          -124,
          -119.99999999999999,
          -116,
          -112,
          -108,
          -104,
          -100,
          -96.0000000000001,
          -92.0000000000001,
          -88,
          -84.0000000000001,
          -80.0000000000001,
          -76.0000000000001,
          -72.0000000000001,
          -68.0000000000001,
          -64,
          -60.0000000000001,
          -56.0000000000001,
          -52.0000000000001,
          -48.0000000000001,
          -44.0000000000001,
          -40,
          -36.000000000000206,
          -32.0000000000001,
          -28.000000000000203,
          -24.0000000000001,
          -20,
          -16.0000000000001,
          -12.0000000000001,
          -8.000000000000181,
          -4.000000000000091,
          0,
          3.99999999999988,
          7.999999999999971,
          11.9999999999998,
          15.999999999999899,
          19.999999999999797,
          23.9999999999999,
          28,
          31.999999999999904,
          36,
          39.9999999999998,
          43.9999999999999,
          47.9999999999998,
          51.9999999999999,
          56,
          59.999999999999794,
          63.9999999999999,
          67.9999999999998,
          71.9999999999999,
          76,
          79.9999999999999,
          84,
          87.9999999999998,
          91.9999999999999,
          95.9999999999998,
          99.9999999999999,
          104,
          108,
          112,
          116,
          119.99999999999999,
          124,
          128,
          132,
          136,
          140,
          144,
          148,
          152,
          156,
          160,
          164,
          168,
          172,
          176,
          180,
          184,
          188,
          192,
          196,
          200,
          204,
          208,
          212,
          216,
          220,
          224,
          228,
          232,
          236,
          239.99999999999997,
          244.00000000000003,
          248,
          251.99999999999997,
          256,
          260,
          264,
          268,
          272,
          276,
          280,
          284,
          288,
          292,
          296,
          300,
          304,
          308,
          312,
          316,
          320,
          324,
          328,
          332,
          336,
          340,
          344,
          348,
          352,
          356,
          360,
          364,
          368,
          372,
          376,
          380,
          384,
          388,
          392,
          396,
          400,
          404,
          408,
          412,
          416,
          420,
          424,
          428,
          432,
          436,
          440,
          444,
          448,
          452,
          456,
          460,
          464,
          468,
          472,
          476,
          479.99999999999994,
          484.00000000000006,
          488.00000000000006,
          492,
          496,
          500,
          503.99999999999994,
          508.00000000000006,
          512,
          516,
          520,
          524,
          528,
          532,
          536,
          540,
          544,
          548,
          552,
          556,
          560,
          564,
          568,
          572,
          576,
          580,
          584,
          588,
          592,
          596,
          600,
          604,
          608,
          612,
          616,
          620,
          624,
          628,
          632,
          636,
          640,
          644,
          648,
          652,
          656,
          660,
          664,
          668,
          672,
          676,
          680,
          684,
          688,
          692,
          696,
          700,
          704,
          708,
          712,
          716,
          720,
          724,
          728,
          732,
          736,
          740,
          744,
          748,
          752,
          756,
          760,
          764,
          768,
          772,
          776,
          780,
          784,
          788,
          792,
          796,
          800,
          804,
          808,
          812,
          816,
          820,
          824,
          828,
          832,
          836,
          840,
          844,
          848,
          852,
          856,
          860,
          864,
          868,
          872,
          876,
          880,
          884,
          888,
          892,
          896,
          900,
          904,
          908,
          912,
          916,
          920,
          924,
          928,
          932,
          936,
          940,
          944,
          948,
          952,
          956,
          959.9999999999999,
          964,
          968.0000000000001,
          972,
          976.0000000000001,
          979.9999999999999,
          984,
          987.9999999999999,
          992,
          996.0000000000001
         ],
         "y": {
          "bdata": "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",
          "dtype": "f8"
         }
        },
        {
         "marker": {
          "color": "red"
         },
         "mode": "markers",
         "name": "Top Two Peaks",
         "type": "scatter",
         "x": [
          11.9999999999998,
          3.99999999999988
         ],
         "y": [
          1051.1542499999741,
          1049.0327499999764
         ]
        },
        {
         "marker": {
          "color": "blue",
          "symbol": "cross"
         },
         "mode": "markers",
         "name": "Center Points",
         "type": "scatter",
         "x": [
          7.99999999999984e-9
         ],
         "y": [
          0
         ]
        }
       ],
       "layout": {
        "annotations": [
         {
          "arrowcolor": "black",
          "arrowhead": 2,
          "arrowsize": 1,
          "arrowwidth": 2,
          "ax": -100,
          "ay": -200,
          "showarrow": true,
          "text": "Center Point: 8.000nA <br> Peak difference: 8.000 nA",
          "x": 7.99999999999984,
          "y": 0
         }
        ],
        "height": 600,
        "legend": {
         "orientation": "h",
         "x": 0.5,
         "xanchor": "center",
         "y": 1.1,
         "yanchor": "top"
        },
        "template": {
         "data": {
          "bar": [
           {
            "error_x": {
             "color": "#2a3f5f"
            },
            "error_y": {
             "color": "#2a3f5f"
            },
            "marker": {
             "line": {
              "color": "#E5ECF6",
              "width": 0.5
             },
             "pattern": {
              "fillmode": "overlay",
              "size": 10,
              "solidity": 0.2
             }
            },
            "type": "bar"
           }
          ],
          "barpolar": [
           {
            "marker": {
             "line": {
              "color": "#E5ECF6",
              "width": 0.5
             },
             "pattern": {
              "fillmode": "overlay",
              "size": 10,
              "solidity": 0.2
             }
            },
            "type": "barpolar"
           }
          ],
          "carpet": [
           {
            "aaxis": {
             "endlinecolor": "#2a3f5f",
             "gridcolor": "white",
             "linecolor": "white",
             "minorgridcolor": "white",
             "startlinecolor": "#2a3f5f"
            },
            "baxis": {
             "endlinecolor": "#2a3f5f",
             "gridcolor": "white",
             "linecolor": "white",
             "minorgridcolor": "white",
             "startlinecolor": "#2a3f5f"
            },
            "type": "carpet"
           }
          ],
          "choropleth": [
           {
            "colorbar": {
             "outlinewidth": 0,
             "ticks": ""
            },
            "type": "choropleth"
           }
          ],
          "contour": [
           {
            "colorbar": {
             "outlinewidth": 0,
             "ticks": ""
            },
            "colorscale": [
             [
              0,
              "#0d0887"
             ],
             [
              0.1111111111111111,
              "#46039f"
             ],
             [
              0.2222222222222222,
              "#7201a8"
             ],
             [
              0.3333333333333333,
              "#9c179e"
             ],
             [
              0.4444444444444444,
              "#bd3786"
             ],
             [
              0.5555555555555556,
              "#d8576b"
             ],
             [
              0.6666666666666666,
              "#ed7953"
             ],
             [
              0.7777777777777778,
              "#fb9f3a"
             ],
             [
              0.8888888888888888,
              "#fdca26"
             ],
             [
              1,
              "#f0f921"
             ]
            ],
            "type": "contour"
           }
          ],
          "contourcarpet": [
           {
            "colorbar": {
             "outlinewidth": 0,
             "ticks": ""
            },
            "type": "contourcarpet"
           }
          ],
          "heatmap": [
           {
            "colorbar": {
             "outlinewidth": 0,
             "ticks": ""
            },
            "colorscale": [
             [
              0,
              "#0d0887"
             ],
             [
              0.1111111111111111,
              "#46039f"
             ],
             [
              0.2222222222222222,
              "#7201a8"
             ],
             [
              0.3333333333333333,
              "#9c179e"
             ],
             [
              0.4444444444444444,
              "#bd3786"
             ],
             [
              0.5555555555555556,
              "#d8576b"
             ],
             [
              0.6666666666666666,
              "#ed7953"
             ],
             [
              0.7777777777777778,
              "#fb9f3a"
             ],
             [
              0.8888888888888888,
              "#fdca26"
             ],
             [
              1,
              "#f0f921"
             ]
            ],
            "type": "heatmap"
           }
          ],
          "histogram": [
           {
            "marker": {
             "pattern": {
              "fillmode": "overlay",
              "size": 10,
              "solidity": 0.2
             }
            },
            "type": "histogram"
           }
          ],
          "histogram2d": [
           {
            "colorbar": {
             "outlinewidth": 0,
             "ticks": ""
            },
            "colorscale": [
             [
              0,
              "#0d0887"
             ],
             [
              0.1111111111111111,
              "#46039f"
             ],
             [
              0.2222222222222222,
              "#7201a8"
             ],
             [
              0.3333333333333333,
              "#9c179e"
             ],
             [
              0.4444444444444444,
              "#bd3786"
             ],
             [
              0.5555555555555556,
              "#d8576b"
             ],
             [
              0.6666666666666666,
              "#ed7953"
             ],
             [
              0.7777777777777778,
              "#fb9f3a"
             ],
             [
              0.8888888888888888,
              "#fdca26"
             ],
             [
              1,
              "#f0f921"
             ]
            ],
            "type": "histogram2d"
           }
          ],
          "histogram2dcontour": [
           {
            "colorbar": {
             "outlinewidth": 0,
             "ticks": ""
            },
            "colorscale": [
             [
              0,
              "#0d0887"
             ],
             [
              0.1111111111111111,
              "#46039f"
             ],
             [
              0.2222222222222222,
              "#7201a8"
             ],
             [
              0.3333333333333333,
              "#9c179e"
             ],
             [
              0.4444444444444444,
              "#bd3786"
             ],
             [
              0.5555555555555556,
              "#d8576b"
             ],
             [
              0.6666666666666666,
              "#ed7953"
             ],
             [
              0.7777777777777778,
              "#fb9f3a"
             ],
             [
              0.8888888888888888,
              "#fdca26"
             ],
             [
              1,
              "#f0f921"
             ]
            ],
            "type": "histogram2dcontour"
           }
          ],
          "mesh3d": [
           {
            "colorbar": {
             "outlinewidth": 0,
             "ticks": ""
            },
            "type": "mesh3d"
           }
          ],
          "parcoords": [
           {
            "line": {
             "colorbar": {
              "outlinewidth": 0,
              "ticks": ""
             }
            },
            "type": "parcoords"
           }
          ],
          "pie": [
           {
            "automargin": true,
            "type": "pie"
           }
          ],
          "scatter": [
           {
            "fillpattern": {
             "fillmode": "overlay",
             "size": 10,
             "solidity": 0.2
            },
            "type": "scatter"
           }
          ],
          "scatter3d": [
           {
            "line": {
             "colorbar": {
              "outlinewidth": 0,
              "ticks": ""
             }
            },
            "marker": {
             "colorbar": {
              "outlinewidth": 0,
              "ticks": ""
             }
            },
            "type": "scatter3d"
           }
          ],
          "scattercarpet": [
           {
            "marker": {
             "colorbar": {
              "outlinewidth": 0,
              "ticks": ""
             }
            },
            "type": "scattercarpet"
           }
          ],
          "scattergeo": [
           {
            "marker": {
             "colorbar": {
              "outlinewidth": 0,
              "ticks": ""
             }
            },
            "type": "scattergeo"
           }
          ],
          "scattergl": [
           {
            "marker": {
             "colorbar": {
              "outlinewidth": 0,
              "ticks": ""
             }
            },
            "type": "scattergl"
           }
          ],
          "scattermap": [
           {
            "marker": {
             "colorbar": {
              "outlinewidth": 0,
              "ticks": ""
             }
            },
            "type": "scattermap"
           }
          ],
          "scattermapbox": [
           {
            "marker": {
             "colorbar": {
              "outlinewidth": 0,
              "ticks": ""
             }
            },
            "type": "scattermapbox"
           }
          ],
          "scatterpolar": [
           {
            "marker": {
             "colorbar": {
              "outlinewidth": 0,
              "ticks": ""
             }
            },
            "type": "scatterpolar"
           }
          ],
          "scatterpolargl": [
           {
            "marker": {
             "colorbar": {
              "outlinewidth": 0,
              "ticks": ""
             }
            },
            "type": "scatterpolargl"
           }
          ],
          "scatterternary": [
           {
            "marker": {
             "colorbar": {
              "outlinewidth": 0,
              "ticks": ""
             }
            },
            "type": "scatterternary"
           }
          ],
          "surface": [
           {
            "colorbar": {
             "outlinewidth": 0,
             "ticks": ""
            },
            "colorscale": [
             [
              0,
              "#0d0887"
             ],
             [
              0.1111111111111111,
              "#46039f"
             ],
             [
              0.2222222222222222,
              "#7201a8"
             ],
             [
              0.3333333333333333,
              "#9c179e"
             ],
             [
              0.4444444444444444,
              "#bd3786"
             ],
             [
              0.5555555555555556,
              "#d8576b"
             ],
             [
              0.6666666666666666,
              "#ed7953"
             ],
             [
              0.7777777777777778,
              "#fb9f3a"
             ],
             [
              0.8888888888888888,
              "#fdca26"
             ],
             [
              1,
              "#f0f921"
             ]
            ],
            "type": "surface"
           }
          ],
          "table": [
           {
            "cells": {
             "fill": {
              "color": "#EBF0F8"
             },
             "line": {
              "color": "white"
             }
            },
            "header": {
             "fill": {
              "color": "#C8D4E3"
             },
             "line": {
              "color": "white"
             }
            },
            "type": "table"
           }
          ]
         },
         "layout": {
          "annotationdefaults": {
           "arrowcolor": "#2a3f5f",
           "arrowhead": 0,
           "arrowwidth": 1
          },
          "autotypenumbers": "strict",
          "coloraxis": {
           "colorbar": {
            "outlinewidth": 0,
            "ticks": ""
           }
          },
          "colorscale": {
           "diverging": [
            [
             0,
             "#8e0152"
            ],
            [
             0.1,
             "#c51b7d"
            ],
            [
             0.2,
             "#de77ae"
            ],
            [
             0.3,
             "#f1b6da"
            ],
            [
             0.4,
             "#fde0ef"
            ],
            [
             0.5,
             "#f7f7f7"
            ],
            [
             0.6,
             "#e6f5d0"
            ],
            [
             0.7,
             "#b8e186"
            ],
            [
             0.8,
             "#7fbc41"
            ],
            [
             0.9,
             "#4d9221"
            ],
            [
             1,
             "#276419"
            ]
           ],
           "sequential": [
            [
             0,
             "#0d0887"
            ],
            [
             0.1111111111111111,
             "#46039f"
            ],
            [
             0.2222222222222222,
             "#7201a8"
            ],
            [
             0.3333333333333333,
             "#9c179e"
            ],
            [
             0.4444444444444444,
             "#bd3786"
            ],
            [
             0.5555555555555556,
             "#d8576b"
            ],
            [
             0.6666666666666666,
             "#ed7953"
            ],
            [
             0.7777777777777778,
             "#fb9f3a"
            ],
            [
             0.8888888888888888,
             "#fdca26"
            ],
            [
             1,
             "#f0f921"
            ]
           ],
           "sequentialminus": [
            [
             0,
             "#0d0887"
            ],
            [
             0.1111111111111111,
             "#46039f"
            ],
            [
             0.2222222222222222,
             "#7201a8"
            ],
            [
             0.3333333333333333,
             "#9c179e"
            ],
            [
             0.4444444444444444,
             "#bd3786"
            ],
            [
             0.5555555555555556,
             "#d8576b"
            ],
            [
             0.6666666666666666,
             "#ed7953"
            ],
            [
             0.7777777777777778,
             "#fb9f3a"
            ],
            [
             0.8888888888888888,
             "#fdca26"
            ],
            [
             1,
             "#f0f921"
            ]
           ]
          },
          "colorway": [
           "#636efa",
           "#EF553B",
           "#00cc96",
           "#ab63fa",
           "#FFA15A",
           "#19d3f3",
           "#FF6692",
           "#B6E880",
           "#FF97FF",
           "#FECB52"
          ],
          "font": {
           "color": "#2a3f5f"
          },
          "geo": {
           "bgcolor": "white",
           "lakecolor": "white",
           "landcolor": "#E5ECF6",
           "showlakes": true,
           "showland": true,
           "subunitcolor": "white"
          },
          "hoverlabel": {
           "align": "left"
          },
          "hovermode": "closest",
          "mapbox": {
           "style": "light"
          },
          "paper_bgcolor": "white",
          "plot_bgcolor": "#E5ECF6",
          "polar": {
           "angularaxis": {
            "gridcolor": "white",
            "linecolor": "white",
            "ticks": ""
           },
           "bgcolor": "#E5ECF6",
           "radialaxis": {
            "gridcolor": "white",
            "linecolor": "white",
            "ticks": ""
           }
          },
          "scene": {
           "xaxis": {
            "backgroundcolor": "#E5ECF6",
            "gridcolor": "white",
            "gridwidth": 2,
            "linecolor": "white",
            "showbackground": true,
            "ticks": "",
            "zerolinecolor": "white"
           },
           "yaxis": {
            "backgroundcolor": "#E5ECF6",
            "gridcolor": "white",
            "gridwidth": 2,
            "linecolor": "white",
            "showbackground": true,
            "ticks": "",
            "zerolinecolor": "white"
           },
           "zaxis": {
            "backgroundcolor": "#E5ECF6",
            "gridcolor": "white",
            "gridwidth": 2,
            "linecolor": "white",
            "showbackground": true,
            "ticks": "",
            "zerolinecolor": "white"
           }
          },
          "shapedefaults": {
           "line": {
            "color": "#2a3f5f"
           }
          },
          "ternary": {
           "aaxis": {
            "gridcolor": "white",
            "linecolor": "white",
            "ticks": ""
           },
           "baxis": {
            "gridcolor": "white",
            "linecolor": "white",
            "ticks": ""
           },
           "bgcolor": "#E5ECF6",
           "caxis": {
            "gridcolor": "white",
            "linecolor": "white",
            "ticks": ""
           }
          },
          "title": {
           "x": 0.05
          },
          "xaxis": {
           "automargin": true,
           "gridcolor": "white",
           "linecolor": "white",
           "ticks": "",
           "title": {
            "standoff": 15
           },
           "zerolinecolor": "white",
           "zerolinewidth": 2
          },
          "yaxis": {
           "automargin": true,
           "gridcolor": "white",
           "linecolor": "white",
           "ticks": "",
           "title": {
            "standoff": 15
           },
           "zerolinecolor": "white",
           "zerolinewidth": 2
          }
         }
        },
        "title": {
         "text": "Run #<built-in function id> I vs. dV/dI"
        },
        "width": 600,
        "xaxis": {
         "title": {
          "text": "Current (nA)"
         }
        },
        "yaxis": {
         "title": {
          "text": "d(Voltage)/d(Current)"
         }
        }
       }
      }
     },
     "metadata": {},
     "output_type": "display_data"
    }
   ],
   "source": [
    "I_range=1e-6\n",
    "K2440.output(1)\n",
    "appl_current(-I_range) #Limit:1e-5 Amp(1MOhms risistor),1e-6 Amp(10MOhms risistor)\n",
    "sleep(2)\n",
    "# station.snapshot(update=True);\n",
    "exp = qc.new_experiment('I-V', sample_name='003-02_09-10-14-13')\n",
    "dataid = do1d(appl_current, -I_range ,I_range, 501, 0.03, meas_voltage_K1)\n",
    "DMM6500.write(\"TRIG:CONT REST\")\n",
    "appl_current(0)\n",
    "K2440.output(0)\n",
    "print(f\"R = {get_R_from_IV(dataid)}\")\n",
    "IV(dataid)\n",
    "IV_diff(dataid)"
   ]
  },
  {
   "cell_type": "code",
   "execution_count": 29,
   "id": "2b1fcecf",
   "metadata": {},
   "outputs": [
    {
     "data": {
      "application/vnd.plotly.v1+json": {
       "config": {
        "plotlyServerURL": "https://plot.ly"
       },
       "data": [
        {
         "mode": "lines",
         "name": "Voltage vs. Current",
         "type": "scatter",
         "x": [
          -0.000001,
          -9.8e-7,
          -9.6e-7,
          -9.4e-7,
          -9.2e-7,
          -9e-7,
          -8.8e-7,
          -8.6e-7,
          -8.4e-7,
          -8.2e-7,
          -8e-7,
          -7.8e-7,
          -7.6e-7,
          -7.4e-7,
          -7.2e-7,
          -7e-7,
          -6.8e-7,
          -6.6e-7,
          -6.4e-7,
          -6.2e-7,
          -6e-7,
          -5.8e-7,
          -5.6e-7,
          -5.4e-7,
          -5.2e-7,
          -5e-7,
          -4.8e-7,
          -4.6e-7,
          -4.4e-7,
          -4.2e-7,
          -4e-7,
          -3.8e-7,
          -3.6e-7,
          -3.4e-7,
          -3.2e-7,
          -3e-7,
          -2.8e-7,
          -2.6e-7,
          -2.4e-7,
          -2.2e-7,
          -2e-7,
          -1.8e-7,
          -1.6e-7,
          -1.4e-7,
          -1.2e-7,
          -9.99999999999999e-8,
          -8e-8,
          -6e-8,
          -3.99999999999998e-8,
          -2e-8,
          0,
          2e-8,
          4e-8,
          6.00000000000001e-8,
          8.00000000000001e-8,
          1e-7,
          1.2e-7,
          1.4e-7,
          1.6e-7,
          1.8e-7,
          2e-7,
          2.2e-7,
          2.4e-7,
          2.6e-7,
          2.8e-7,
          3e-7,
          3.2e-7,
          3.4e-7,
          3.6e-7,
          3.8e-7,
          4e-7,
          4.2e-7,
          4.4e-7,
          4.6e-7,
          4.8e-7,
          5e-7,
          5.2e-7,
          5.4e-7,
          5.6e-7,
          5.8e-7,
          6e-7,
          6.2e-7,
          6.4e-7,
          6.6e-7,
          6.8e-7,
          7e-7,
          7.2e-7,
          7.4e-7,
          7.6e-7,
          7.8e-7,
          8e-7,
          8.2e-7,
          8.4e-7,
          8.6e-7,
          8.8e-7,
          9e-7,
          9.20000000000001e-7,
          9.4e-7,
          9.6e-7,
          9.8e-7,
          0.000001
         ],
         "y": [
          -1.057316,
          -1.0371270000000001,
          -1.016908,
          -0.9968422,
          -0.9765807999999999,
          -0.9566297,
          -0.9362456,
          -0.9162823999999999,
          -0.8959251,
          -0.8759192,
          -0.8555839000000001,
          -0.8354946,
          -0.8153088,
          -0.7952083000000001,
          -0.7750648,
          -0.7547791,
          -0.7347486,
          -0.7145009,
          -0.6944313,
          -0.6741276,
          -0.6540798,
          -0.6338895999999999,
          -0.6136877000000001,
          -0.5934978,
          -0.5733414,
          -0.5531355,
          -0.5328756,
          -0.5126676,
          -0.4926838,
          -0.4724438,
          -0.4523633,
          -0.4320399,
          -0.41185309999999997,
          -0.3916502,
          -0.37150570000000005,
          -0.3513147,
          -0.3312247,
          -0.3111986,
          -0.2909027,
          -0.2707222,
          -0.2504867,
          -0.2303025,
          -0.2100983,
          -0.1899584,
          -0.16975590000000002,
          -0.1496653,
          -0.129505,
          -0.10926540000000001,
          -0.08906265,
          -0.0688401,
          -0.048780960000000005,
          -0.02824094,
          -0.007931353,
          0.01228872,
          0.032343840000000006,
          0.05253193,
          0.07261971,
          0.09291242,
          0.11309720000000001,
          0.1333593,
          0.1533897,
          0.1735889,
          0.1938325,
          0.2139248,
          0.2341566,
          0.2542718,
          0.2745649,
          0.294617,
          0.3147532,
          0.335016,
          0.3550897,
          0.3754185,
          0.395471,
          0.41572929999999997,
          0.4358616,
          0.456013,
          0.47625500000000004,
          0.49635369999999995,
          0.5166409000000001,
          0.5367727000000001,
          0.5569559000000001,
          0.5770701,
          0.597238,
          0.617472,
          0.6375202,
          0.6578550000000001,
          0.6779857,
          0.6982705,
          0.7183495,
          0.7386174999999999,
          0.7587809,
          0.7787951999999999,
          0.7990803,
          0.819186,
          0.8395313,
          0.8596284,
          0.87979,
          0.8998453999999999,
          0.9200883,
          0.9401811,
          0.9603144
         ]
        }
       ],
       "layout": {
        "height": 960,
        "margin": {
         "b": 10,
         "l": 10,
         "r": 10,
         "t": 50
        },
        "template": {
         "data": {
          "bar": [
           {
            "error_x": {
             "color": "#2a3f5f"
            },
            "error_y": {
             "color": "#2a3f5f"
            },
            "marker": {
             "line": {
              "color": "#E5ECF6",
              "width": 0.5
             },
             "pattern": {
              "fillmode": "overlay",
              "size": 10,
              "solidity": 0.2
             }
            },
            "type": "bar"
           }
          ],
          "barpolar": [
           {
            "marker": {
             "line": {
              "color": "#E5ECF6",
              "width": 0.5
             },
             "pattern": {
              "fillmode": "overlay",
              "size": 10,
              "solidity": 0.2
             }
            },
            "type": "barpolar"
           }
          ],
          "carpet": [
           {
            "aaxis": {
             "endlinecolor": "#2a3f5f",
             "gridcolor": "white",
             "linecolor": "white",
             "minorgridcolor": "white",
             "startlinecolor": "#2a3f5f"
            },
            "baxis": {
             "endlinecolor": "#2a3f5f",
             "gridcolor": "white",
             "linecolor": "white",
             "minorgridcolor": "white",
             "startlinecolor": "#2a3f5f"
            },
            "type": "carpet"
           }
          ],
          "choropleth": [
           {
            "colorbar": {
             "outlinewidth": 0,
             "ticks": ""
            },
            "type": "choropleth"
           }
          ],
          "contour": [
           {
            "colorbar": {
             "outlinewidth": 0,
             "ticks": ""
            },
            "colorscale": [
             [
              0,
              "#0d0887"
             ],
             [
              0.1111111111111111,
              "#46039f"
             ],
             [
              0.2222222222222222,
              "#7201a8"
             ],
             [
              0.3333333333333333,
              "#9c179e"
             ],
             [
              0.4444444444444444,
              "#bd3786"
             ],
             [
              0.5555555555555556,
              "#d8576b"
             ],
             [
              0.6666666666666666,
              "#ed7953"
             ],
             [
              0.7777777777777778,
              "#fb9f3a"
             ],
             [
              0.8888888888888888,
              "#fdca26"
             ],
             [
              1,
              "#f0f921"
             ]
            ],
            "type": "contour"
           }
          ],
          "contourcarpet": [
           {
            "colorbar": {
             "outlinewidth": 0,
             "ticks": ""
            },
            "type": "contourcarpet"
           }
          ],
          "heatmap": [
           {
            "colorbar": {
             "outlinewidth": 0,
             "ticks": ""
            },
            "colorscale": [
             [
              0,
              "#0d0887"
             ],
             [
              0.1111111111111111,
              "#46039f"
             ],
             [
              0.2222222222222222,
              "#7201a8"
             ],
             [
              0.3333333333333333,
              "#9c179e"
             ],
             [
              0.4444444444444444,
              "#bd3786"
             ],
             [
              0.5555555555555556,
              "#d8576b"
             ],
             [
              0.6666666666666666,
              "#ed7953"
             ],
             [
              0.7777777777777778,
              "#fb9f3a"
             ],
             [
              0.8888888888888888,
              "#fdca26"
             ],
             [
              1,
              "#f0f921"
             ]
            ],
            "type": "heatmap"
           }
          ],
          "heatmapgl": [
           {
            "colorbar": {
             "outlinewidth": 0,
             "ticks": ""
            },
            "colorscale": [
             [
              0,
              "#0d0887"
             ],
             [
              0.1111111111111111,
              "#46039f"
             ],
             [
              0.2222222222222222,
              "#7201a8"
             ],
             [
              0.3333333333333333,
              "#9c179e"
             ],
             [
              0.4444444444444444,
              "#bd3786"
             ],
             [
              0.5555555555555556,
              "#d8576b"
             ],
             [
              0.6666666666666666,
              "#ed7953"
             ],
             [
              0.7777777777777778,
              "#fb9f3a"
             ],
             [
              0.8888888888888888,
              "#fdca26"
             ],
             [
              1,
              "#f0f921"
             ]
            ],
            "type": "heatmapgl"
           }
          ],
          "histogram": [
           {
            "marker": {
             "pattern": {
              "fillmode": "overlay",
              "size": 10,
              "solidity": 0.2
             }
            },
            "type": "histogram"
           }
          ],
          "histogram2d": [
           {
            "colorbar": {
             "outlinewidth": 0,
             "ticks": ""
            },
            "colorscale": [
             [
              0,
              "#0d0887"
             ],
             [
              0.1111111111111111,
              "#46039f"
             ],
             [
              0.2222222222222222,
              "#7201a8"
             ],
             [
              0.3333333333333333,
              "#9c179e"
             ],
             [
              0.4444444444444444,
              "#bd3786"
             ],
             [
              0.5555555555555556,
              "#d8576b"
             ],
             [
              0.6666666666666666,
              "#ed7953"
             ],
             [
              0.7777777777777778,
              "#fb9f3a"
             ],
             [
              0.8888888888888888,
              "#fdca26"
             ],
             [
              1,
              "#f0f921"
             ]
            ],
            "type": "histogram2d"
           }
          ],
          "histogram2dcontour": [
           {
            "colorbar": {
             "outlinewidth": 0,
             "ticks": ""
            },
            "colorscale": [
             [
              0,
              "#0d0887"
             ],
             [
              0.1111111111111111,
              "#46039f"
             ],
             [
              0.2222222222222222,
              "#7201a8"
             ],
             [
              0.3333333333333333,
              "#9c179e"
             ],
             [
              0.4444444444444444,
              "#bd3786"
             ],
             [
              0.5555555555555556,
              "#d8576b"
             ],
             [
              0.6666666666666666,
              "#ed7953"
             ],
             [
              0.7777777777777778,
              "#fb9f3a"
             ],
             [
              0.8888888888888888,
              "#fdca26"
             ],
             [
              1,
              "#f0f921"
             ]
            ],
            "type": "histogram2dcontour"
           }
          ],
          "mesh3d": [
           {
            "colorbar": {
             "outlinewidth": 0,
             "ticks": ""
            },
            "type": "mesh3d"
           }
          ],
          "parcoords": [
           {
            "line": {
             "colorbar": {
              "outlinewidth": 0,
              "ticks": ""
             }
            },
            "type": "parcoords"
           }
          ],
          "pie": [
           {
            "automargin": true,
            "type": "pie"
           }
          ],
          "scatter": [
           {
            "fillpattern": {
             "fillmode": "overlay",
             "size": 10,
             "solidity": 0.2
            },
            "type": "scatter"
           }
          ],
          "scatter3d": [
           {
            "line": {
             "colorbar": {
              "outlinewidth": 0,
              "ticks": ""
             }
            },
            "marker": {
             "colorbar": {
              "outlinewidth": 0,
              "ticks": ""
             }
            },
            "type": "scatter3d"
           }
          ],
          "scattercarpet": [
           {
            "marker": {
             "colorbar": {
              "outlinewidth": 0,
              "ticks": ""
             }
            },
            "type": "scattercarpet"
           }
          ],
          "scattergeo": [
           {
            "marker": {
             "colorbar": {
              "outlinewidth": 0,
              "ticks": ""
             }
            },
            "type": "scattergeo"
           }
          ],
          "scattergl": [
           {
            "marker": {
             "colorbar": {
              "outlinewidth": 0,
              "ticks": ""
             }
            },
            "type": "scattergl"
           }
          ],
          "scattermapbox": [
           {
            "marker": {
             "colorbar": {
              "outlinewidth": 0,
              "ticks": ""
             }
            },
            "type": "scattermapbox"
           }
          ],
          "scatterpolar": [
           {
            "marker": {
             "colorbar": {
              "outlinewidth": 0,
              "ticks": ""
             }
            },
            "type": "scatterpolar"
           }
          ],
          "scatterpolargl": [
           {
            "marker": {
             "colorbar": {
              "outlinewidth": 0,
              "ticks": ""
             }
            },
            "type": "scatterpolargl"
           }
          ],
          "scatterternary": [
           {
            "marker": {
             "colorbar": {
              "outlinewidth": 0,
              "ticks": ""
             }
            },
            "type": "scatterternary"
           }
          ],
          "surface": [
           {
            "colorbar": {
             "outlinewidth": 0,
             "ticks": ""
            },
            "colorscale": [
             [
              0,
              "#0d0887"
             ],
             [
              0.1111111111111111,
              "#46039f"
             ],
             [
              0.2222222222222222,
              "#7201a8"
             ],
             [
              0.3333333333333333,
              "#9c179e"
             ],
             [
              0.4444444444444444,
              "#bd3786"
             ],
             [
              0.5555555555555556,
              "#d8576b"
             ],
             [
              0.6666666666666666,
              "#ed7953"
             ],
             [
              0.7777777777777778,
              "#fb9f3a"
             ],
             [
              0.8888888888888888,
              "#fdca26"
             ],
             [
              1,
              "#f0f921"
             ]
            ],
            "type": "surface"
           }
          ],
          "table": [
           {
            "cells": {
             "fill": {
              "color": "#EBF0F8"
             },
             "line": {
              "color": "white"
             }
            },
            "header": {
             "fill": {
              "color": "#C8D4E3"
             },
             "line": {
              "color": "white"
             }
            },
            "type": "table"
           }
          ]
         },
         "layout": {
          "annotationdefaults": {
           "arrowcolor": "#2a3f5f",
           "arrowhead": 0,
           "arrowwidth": 1
          },
          "autotypenumbers": "strict",
          "coloraxis": {
           "colorbar": {
            "outlinewidth": 0,
            "ticks": ""
           }
          },
          "colorscale": {
           "diverging": [
            [
             0,
             "#8e0152"
            ],
            [
             0.1,
             "#c51b7d"
            ],
            [
             0.2,
             "#de77ae"
            ],
            [
             0.3,
             "#f1b6da"
            ],
            [
             0.4,
             "#fde0ef"
            ],
            [
             0.5,
             "#f7f7f7"
            ],
            [
             0.6,
             "#e6f5d0"
            ],
            [
             0.7,
             "#b8e186"
            ],
            [
             0.8,
             "#7fbc41"
            ],
            [
             0.9,
             "#4d9221"
            ],
            [
             1,
             "#276419"
            ]
           ],
           "sequential": [
            [
             0,
             "#0d0887"
            ],
            [
             0.1111111111111111,
             "#46039f"
            ],
            [
             0.2222222222222222,
             "#7201a8"
            ],
            [
             0.3333333333333333,
             "#9c179e"
            ],
            [
             0.4444444444444444,
             "#bd3786"
            ],
            [
             0.5555555555555556,
             "#d8576b"
            ],
            [
             0.6666666666666666,
             "#ed7953"
            ],
            [
             0.7777777777777778,
             "#fb9f3a"
            ],
            [
             0.8888888888888888,
             "#fdca26"
            ],
            [
             1,
             "#f0f921"
            ]
           ],
           "sequentialminus": [
            [
             0,
             "#0d0887"
            ],
            [
             0.1111111111111111,
             "#46039f"
            ],
            [
             0.2222222222222222,
             "#7201a8"
            ],
            [
             0.3333333333333333,
             "#9c179e"
            ],
            [
             0.4444444444444444,
             "#bd3786"
            ],
            [
             0.5555555555555556,
             "#d8576b"
            ],
            [
             0.6666666666666666,
             "#ed7953"
            ],
            [
             0.7777777777777778,
             "#fb9f3a"
            ],
            [
             0.8888888888888888,
             "#fdca26"
            ],
            [
             1,
             "#f0f921"
            ]
           ]
          },
          "colorway": [
           "#636efa",
           "#EF553B",
           "#00cc96",
           "#ab63fa",
           "#FFA15A",
           "#19d3f3",
           "#FF6692",
           "#B6E880",
           "#FF97FF",
           "#FECB52"
          ],
          "font": {
           "color": "#2a3f5f"
          },
          "geo": {
           "bgcolor": "white",
           "lakecolor": "white",
           "landcolor": "#E5ECF6",
           "showlakes": true,
           "showland": true,
           "subunitcolor": "white"
          },
          "hoverlabel": {
           "align": "left"
          },
          "hovermode": "closest",
          "mapbox": {
           "style": "light"
          },
          "paper_bgcolor": "white",
          "plot_bgcolor": "#E5ECF6",
          "polar": {
           "angularaxis": {
            "gridcolor": "white",
            "linecolor": "white",
            "ticks": ""
           },
           "bgcolor": "#E5ECF6",
           "radialaxis": {
            "gridcolor": "white",
            "linecolor": "white",
            "ticks": ""
           }
          },
          "scene": {
           "xaxis": {
            "backgroundcolor": "#E5ECF6",
            "gridcolor": "white",
            "gridwidth": 2,
            "linecolor": "white",
            "showbackground": true,
            "ticks": "",
            "zerolinecolor": "white"
           },
           "yaxis": {
            "backgroundcolor": "#E5ECF6",
            "gridcolor": "white",
            "gridwidth": 2,
            "linecolor": "white",
            "showbackground": true,
            "ticks": "",
            "zerolinecolor": "white"
           },
           "zaxis": {
            "backgroundcolor": "#E5ECF6",
            "gridcolor": "white",
            "gridwidth": 2,
            "linecolor": "white",
            "showbackground": true,
            "ticks": "",
            "zerolinecolor": "white"
           }
          },
          "shapedefaults": {
           "line": {
            "color": "#2a3f5f"
           }
          },
          "ternary": {
           "aaxis": {
            "gridcolor": "white",
            "linecolor": "white",
            "ticks": ""
           },
           "baxis": {
            "gridcolor": "white",
            "linecolor": "white",
            "ticks": ""
           },
           "bgcolor": "#E5ECF6",
           "caxis": {
            "gridcolor": "white",
            "linecolor": "white",
            "ticks": ""
           }
          },
          "title": {
           "x": 0.05
          },
          "xaxis": {
           "automargin": true,
           "gridcolor": "white",
           "linecolor": "white",
           "ticks": "",
           "title": {
            "standoff": 15
           },
           "zerolinecolor": "white",
           "zerolinewidth": 2
          },
          "yaxis": {
           "automargin": true,
           "gridcolor": "white",
           "linecolor": "white",
           "ticks": "",
           "title": {
            "standoff": 15
           },
           "zerolinecolor": "white",
           "zerolinewidth": 2
          }
         }
        },
        "title": {
         "font": {
          "size": 28
         },
         "text": "<b>#4 I-V</b> 009-1_1kOhms, R_fit=1009.0326 Ω"
        },
        "width": 1080,
        "xaxis": {
         "tickfont": {
          "size": 16
         },
         "title": {
          "font": {
           "size": 20
          },
          "text": "appl_current"
         }
        },
        "yaxis": {
         "tickfont": {
          "size": 16
         },
         "title": {
          "font": {
           "size": 20
          },
          "text": "meas_voltage_K1 mV"
         }
        }
       }
      }
     },
     "metadata": {},
     "output_type": "display_data"
    }
   ],
   "source": [
    "IV(4)"
   ]
  },
  {
   "cell_type": "code",
   "execution_count": null,
   "id": "ee32ef77",
   "metadata": {},
   "outputs": [],
   "source": [
    "get_R_from_IV(dataid)"
   ]
  },
  {
   "cell_type": "code",
   "execution_count": null,
   "id": "ae71124e",
   "metadata": {},
   "outputs": [],
   "source": [
    "dataset = qc.load_by_id(dataid)\n",
    "get_R_from_IV(dataid)\n",
    "IV(dataid)\n",
    "IV_diff(dataid)"
   ]
  },
  {
   "cell_type": "code",
   "execution_count": 32,
   "id": "795c08e0",
   "metadata": {},
   "outputs": [],
   "source": [
    "import plotly.graph_objs as go"
   ]
  },
  {
   "cell_type": "code",
   "execution_count": null,
   "id": "ea6a7850",
   "metadata": {},
   "outputs": [],
   "source": []
  },
  {
   "cell_type": "code",
   "execution_count": null,
   "id": "9ca53ea4",
   "metadata": {},
   "outputs": [],
   "source": [
    "for i in tqdm(range(1000)):\n",
    "    K2440.output(1)\n",
    "    I_range=1e-6\n",
    "    appl_current(-I_range) #Limit:1e-5 Amp(1MOhms risistor),1e-6 Amp(10MOhms risistor)\n",
    "    sleep(0.001)\n",
    "    # station.snapshot(update=True);\n",
    "    exp = qc.new_experiment('I-V', sample_name=f'103-03_J1_33-32-30-31_1M_F{i+1}')\n",
    "    dataid = do1d(appl_current, -I_range ,I_range, 101, 0.0001, meas_voltage_K2, meas_voltage_AC_L1,meas_voltage_AC_L1_P)\n",
    "    exp = qc.new_experiment('I-V', sample_name=f'103-03_J1_33-32-30-31_1M_B{i+1}')\n",
    "    dataid = do1d(appl_current, I_range ,-I_range, 101, 0.0001, meas_voltage_K2)\n",
    "    K2440.output(0)\n",
    "    clear_output(True)"
   ]
  },
  {
   "cell_type": "code",
   "execution_count": null,
   "id": "ffc1e4dd",
   "metadata": {},
   "outputs": [],
   "source": [
    "get_Mag()"
   ]
  },
  {
   "cell_type": "code",
   "execution_count": null,
   "id": "2908c940",
   "metadata": {},
   "outputs": [],
   "source": [
    "SGS.off()"
   ]
  },
  {
   "cell_type": "code",
   "execution_count": null,
   "id": "d82eb13a",
   "metadata": {},
   "outputs": [],
   "source": [
    "SGS.power(0)"
   ]
  },
  {
   "cell_type": "code",
   "execution_count": null,
   "id": "242d95fc",
   "metadata": {},
   "outputs": [],
   "source": [
    "DMM6500.averaging_count(5)\n",
    "DMM6500.averaging_enabled(True)"
   ]
  },
  {
   "cell_type": "code",
   "execution_count": null,
   "id": "e0c518ad",
   "metadata": {},
   "outputs": [],
   "source": [
    "for i in tqdm(range(21)):\n",
    "    I_range = round(round(0.55 + 5*i * 1e-4, 6)* 1e-6, 10)  # Round to 3 decimal places\n",
    "    print(I_range)\n"
   ]
  },
  {
   "cell_type": "code",
   "execution_count": null,
   "id": "78e3e90f",
   "metadata": {},
   "outputs": [],
   "source": []
  },
  {
   "cell_type": "code",
   "execution_count": null,
   "id": "0999a81b",
   "metadata": {},
   "outputs": [],
   "source": [
    "for i in tqdm(range(21)):\n",
    "    K2440.output(1)\n",
    "    I_range = round(round(0.55 + 5*i * 1e-4, 6)* 1e-6, 10) \n",
    "    appl_current(-I_range) #Limit:1e-5 Amp(1MOhms risistor),1e-6 Amp(10MOhms risistor)\n",
    "    sleep(2)\n",
    "    # station.snapshot(update=True);\n",
    "    exp = qc.new_experiment('I-V', sample_name=f'103-04_J1_24-25-05-04(06-07G)_1M_By@0mT_{-I_range}_201')\n",
    "    dataid = do1d(appl_current, -I_range ,I_range, 201, 0.00001, meas_voltage_K2)\n",
    "\n",
    "    appl_current(0)\n",
    "    K2440.output(0)\n",
    "\n",
    "\n",
    "    plot_by_id(dataid)\n",
    "    save_path = r\"D:\\data\\Albert\\103\\Plot\\104_{}.png\".format(dataid)  # Path to save the plot image\n",
    "    autosave_plot_by_id(dataid, save_path)\n",
    "    print(f\"ID:{dataid}\")\n",
    "    print(f\"R = {get_R_from_IV_2(dataid)}\")\n",
    "    dataset = qc.load_by_id(dataid)\n",
    "    IV(id=dataid)\n",
    "    IV_diff(id=dataid)"
   ]
  },
  {
   "cell_type": "code",
   "execution_count": null,
   "id": "e9ac98ca",
   "metadata": {},
   "outputs": [],
   "source": [
    "DMM6500.averaging_count(5)\n",
    "DMM6500.averaging_enabled(True)"
   ]
  },
  {
   "cell_type": "code",
   "execution_count": null,
   "id": "ad55deb3",
   "metadata": {},
   "outputs": [],
   "source": [
    "K2440.output(1)\n",
    "I_range = -6e-6\n",
    "appl_current(-I_range) #Limit:1e-5 Amp(1MOhms risistor),1e-6 Amp(10MOhms risistor)\n",
    "sleep(2)\n",
    "# station.snapshot(update=True);\n",
    "exp = qc.new_experiment('I-V', sample_name=f'103-03_J2_27-26-30-31M(32G-33G-28G-29G)_1M_By@0.1mT{-I_range}')\n",
    "dataid = do1d(appl_current, -I_range  ,I_range , 2601, 0.00001, meas_voltage_K2)\n",
    "appl_current(0)\n",
    "K2440.output(0)\n",
    "plot_by_id(dataid)\n",
    "save_path = r\"D:\\data\\Albert\\103\\Plot\\104_{}.png\".format(dataid)  # Path to save the plot image\n",
    "autosave_plot_by_id(dataid, save_path)\n",
    "print(f\"R = {get_R_from_IV_2(dataid)}\")\n",
    "dataset = qc.load_by_id(dataid)"
   ]
  },
  {
   "cell_type": "code",
   "execution_count": null,
   "id": "2b0e1832",
   "metadata": {},
   "outputs": [],
   "source": [
    "K2440.output(1)\n",
    "I_range = 6e-6\n",
    "appl_current(-I_range) #Limit:1e-5 Amp(1MOhms risistor),1e-6 Amp(10MOhms risistor)\n",
    "sleep(2)\n",
    "# station.snapshot(update=True);\n",
    "exp = qc.new_experiment('I-V', sample_name=f'103-03_J2_27-26-30-31M(32G-33G-28G-29G)_1M_By@0.1mT{-I_range}')\n",
    "dataid = do1d(appl_current, -I_range  ,I_range , 2601, 0.00001, meas_voltage_K2)\n",
    "appl_current(0)\n",
    "K2440.output(0)\n",
    "plot_by_id(dataid)\n",
    "save_path = r\"D:\\data\\Albert\\103\\Plot\\104_{}.png\".format(dataid)  # Path to save the plot image\n",
    "autosave_plot_by_id(dataid, save_path)\n",
    "print(f\"ID:{dataid}\")\n",
    "print(f\"R = {get_R_from_IV_2(dataid)}\")\n",
    "dataset = qc.load_by_id(dataid)\n",
    "# IV(id=dataid)\n",
    "# IV_diff(id=dataid)"
   ]
  },
  {
   "cell_type": "code",
   "execution_count": null,
   "id": "e90dc212",
   "metadata": {},
   "outputs": [],
   "source": [
    "25-05-06-07(04-24G)\n"
   ]
  },
  {
   "cell_type": "code",
   "execution_count": null,
   "id": "5c79e45a",
   "metadata": {},
   "outputs": [],
   "source": [
    "K2440.output(1)\n",
    "I_range=-7e-6\n",
    "appl_current(-I_range) #Limit:1e-5 Amp(1MOhms risistor),1e-6 Amp(10MOhms risistor)\n",
    "sleep(2)\n",
    "# station.snapshot(update=True);\n",
    "exp = qc.new_experiment('I-V', sample_name='103-03_J2_32-30-26-27_1M_By@0mT')\n",
    "dataid = do1d(appl_current, -I_range ,I_range, 1401, 0.0001, meas_voltage_K2)\n",
    "\n",
    "appl_current(0)\n",
    "K2440.output(0)\n",
    "\n",
    "\n",
    "plot_by_id(dataid)\n",
    "save_path = r\"D:\\data\\Albert\\103\\Plot\\104_{}.png\".format(dataid)  # Path to save the plot image\n",
    "autosave_plot_by_id(dataid, save_path)\n",
    "print(f\"ID:{dataid}\")\n",
    "print(f\"R = {get_R_from_IV_2(dataid)}\")\n",
    "dataset = qc.load_by_id(dataid)\n",
    "IV(id=dataid)\n",
    "IV_diff(id=dataid)"
   ]
  },
  {
   "cell_type": "code",
   "execution_count": null,
   "id": "8666f593",
   "metadata": {},
   "outputs": [],
   "source": [
    "K2440.output(1)\n",
    "I_range=7e-6\n",
    "appl_current(-I_range) #Limit:1e-5 Amp(1MOhms risistor),1e-6 Amp(10MOhms risistor)\n",
    "sleep(2)\n",
    "# station.snapshot(update=True);\n",
    "exp = qc.new_experiment('I-V', sample_name='103-03_J2_32-30-26-27_1M_By@0mT')\n",
    "dataid = do1d(appl_current, -I_range ,I_range, 1401, 0.0001, meas_voltage_K2)\n",
    "\n",
    "appl_current(0)\n",
    "K2440.output(0)\n",
    "\n",
    "\n",
    "plot_by_id(dataid)\n",
    "save_path = r\"D:\\data\\Albert\\103\\Plot\\104_{}.png\".format(dataid)  # Path to save the plot image\n",
    "autosave_plot_by_id(dataid, save_path)\n",
    "print(f\"ID:{dataid}\")\n",
    "print(f\"R = {get_R_from_IV_2(dataid)}\")\n",
    "dataset = qc.load_by_id(dataid)\n",
    "IV(id=dataid)\n",
    "IV_diff(id=dataid)"
   ]
  },
  {
   "cell_type": "code",
   "execution_count": null,
   "id": "4ce7045d",
   "metadata": {},
   "outputs": [],
   "source": [
    "# Set current to 0\n",
    "K2440.output(0)\n",
    "appl_current(0e-6)"
   ]
  },
  {
   "cell_type": "code",
   "execution_count": null,
   "id": "749b64e4",
   "metadata": {},
   "outputs": [],
   "source": [
    "K2440.output(1)\n",
    "appl_current(0.1e-7)"
   ]
  },
  {
   "cell_type": "code",
   "execution_count": null,
   "id": "9f4da299",
   "metadata": {
    "scrolled": true
   },
   "outputs": [],
   "source": [
    "runid=6\n",
    "print(get_R_from_IV_2(runid))"
   ]
  },
  {
   "cell_type": "markdown",
   "id": "3196b90e",
   "metadata": {},
   "source": [
    "## 加TG (1D)"
   ]
  },
  {
   "cell_type": "code",
   "execution_count": null,
   "id": "08a5e298",
   "metadata": {},
   "outputs": [],
   "source": [
    "K2440.output(1)\n",
    "appl_TG(0)"
   ]
  },
  {
   "cell_type": "code",
   "execution_count": null,
   "id": "a6f95af5",
   "metadata": {},
   "outputs": [],
   "source": [
    "K2440.output(1)\n",
    "K2440.output(1)\n",
    "appl_TG(-50)\n",
    "sleep(3)\n",
    "appl_current(-1.5e-8)\n",
    "sleep(1)\n",
    "\n",
    "# station.snapshot(update=True);\n",
    "exp = qc.new_experiment('IV', sample_name='TG21')\n",
    "\n",
    "#do1d(param_set, start, stop, num_points, delay, *param_meas)\n",
    "dataid = do1d(appl_current, -1.5e-8 ,1.5e-8, 101, 0.05, meas_voltage_K2)\n",
    "# dataid = do1d(appl_current, 6e-6 , -6e-6, 251, 0.01, meas_voltage_K1)\n",
    "# ivvi.set_dacs_zero()\n",
    "\n",
    "K2440.output(0)\n",
    "K2440.output(0)\n",
    "appl_current(0)\n",
    "plot_by_id(dataid)\n",
    "#print(get_R_from_IV(dataid))\n",
    "# print(get_R_from_IV_2(dataid))\n"
   ]
  },
  {
   "cell_type": "markdown",
   "id": "05b0d19b",
   "metadata": {},
   "source": [
    "## 歸零\n"
   ]
  },
  {
   "cell_type": "code",
   "execution_count": null,
   "id": "d8154670",
   "metadata": {},
   "outputs": [],
   "source": [
    "#K2440.output(1)\n",
    "K2440.output(1)\n",
    "\n",
    "appl_current(0)\n",
    "sleep(1)\n",
    "#appl_TG(0)\n",
    "sleep(5)\n",
    "\n",
    "#K2440.output(0)\n",
    "K2440.output(0)"
   ]
  },
  {
   "cell_type": "markdown",
   "id": "91795bf5",
   "metadata": {},
   "source": [
    "# Magnetic field"
   ]
  },
  {
   "cell_type": "markdown",
   "id": "c1b88abd",
   "metadata": {},
   "source": [
    "## IV vs Bx"
   ]
  },
  {
   "cell_type": "code",
   "execution_count": null,
   "id": "77c31bf1",
   "metadata": {},
   "outputs": [],
   "source": [
    "K2440.rangev()"
   ]
  },
  {
   "cell_type": "code",
   "execution_count": null,
   "id": "ea5d8a7d",
   "metadata": {},
   "outputs": [],
   "source": [
    "K2440.volt(0)\n",
    "K2440.output(1) #output off\n",
    "sleep(1)\n",
    "appl_current(1.5e-7)\n",
    "sleep(2)\n",
    "meas_voltage_K2()"
   ]
  },
  {
   "cell_type": "code",
   "execution_count": null,
   "id": "e083479a",
   "metadata": {},
   "outputs": [],
   "source": [
    "sleep(120)"
   ]
  },
  {
   "cell_type": "code",
   "execution_count": null,
   "id": "6c69dc40",
   "metadata": {},
   "outputs": [],
   "source": [
    "def get_Mag(show=True):\n",
    "    Mag_x = magnet_x.field()\n",
    "    Mag_y = magnet_y.field()\n",
    "    Mag_z = magnet_z.field()\n",
    "    if show:\n",
    "        print(f\"Mag_x: {Mag_x*1e3:.6f} mT\")\n",
    "        print(f\"Mag_y: {Mag_y*1e3:.6f} mT\")\n",
    "        print(f\"Mag_z: {Mag_z*1e3:.6f} mT\")\n",
    "    else: \n",
    "        return Mag_x, Mag_y, Mag_z\n",
    "get_Mag()"
   ]
  },
  {
   "cell_type": "code",
   "execution_count": null,
   "id": "582ee743",
   "metadata": {},
   "outputs": [],
   "source": [
    "get_Mag()"
   ]
  },
  {
   "cell_type": "code",
   "execution_count": null,
   "id": "9634bb97",
   "metadata": {},
   "outputs": [],
   "source": [
    "magnet_y.field()"
   ]
  },
  {
   "cell_type": "code",
   "execution_count": null,
   "id": "add54ae7",
   "metadata": {},
   "outputs": [],
   "source": [
    "for i in tqdm(range(23), desc=\"First loop\"):\n",
    "    value = (25 - i) * 1e-3 \n",
    "    value = float(f\"{value:.10f}\")\n",
    "    print(value)"
   ]
  },
  {
   "cell_type": "code",
   "execution_count": null,
   "id": "04c8a1e5",
   "metadata": {},
   "outputs": [],
   "source": [
    "from tqdm import tqdm\n",
    "import time\n",
    "\n",
    "from IPython.display import clear_output\n",
    "# First loop\n",
    "for i in tqdm(range(6), desc=\"First loop\"):\n",
    "    Mag_x = magnet_x.field()\n",
    "    value = (15 + i) * 1e-3\n",
    "    value = float(f\"{value:.10f}\")\n",
    "    magnet_x.field(value)\n",
    "    print(f\"magnet_x is {Mag_x:.8f} T\")\n",
    "    time.sleep(15)\n",
    "    clear_output(True)\n",
    "\n",
    "# Pause for 30 seconds\n",
    "time.sleep(60)\n",
    "\n",
    "# Second loop\n",
    "for i in tqdm(range(23), desc=\"First loop\"):\n",
    "    Mag_x = magnet_x.field()\n",
    "    value = (25 - i) * 1e-3 \n",
    "    value = float(f\"{value:.10f}\")\n",
    "    magnet_x.field(value)\n",
    "    print(f\"magnet_x is {Mag_x:.8f} T\")\n",
    "    time.sleep(15)\n",
    "    clear_output(True)\n",
    "\n",
    "# Pause for 180 seconds\n",
    "time.sleep(300)"
   ]
  },
  {
   "cell_type": "code",
   "execution_count": null,
   "id": "fc3e418b",
   "metadata": {},
   "outputs": [],
   "source": [
    "magnet_x.field(-20)"
   ]
  },
  {
   "cell_type": "code",
   "execution_count": null,
   "id": "07666294",
   "metadata": {},
   "outputs": [],
   "source": [
    "Mag = -20e-3\n",
    "I_range=2.5e-6\n",
    "K2440.output(1)\n",
    "sleep(2)\n",
    "magnet_x.field(Mag)\n",
    "sleep(10)\n",
    "appl_current(-I_range)\n",
    "sleep(3)\n",
    "direction = 'backward' if Mag > 0 else 'forward'\n",
    "\n",
    "\n",
    "# station.snapshot(update=True);\n",
    "exp = qc.new_experiment('IV vs Bx', sample_name=f'103-06_J2_12-13-18-19_1M_Bx_{direction}_By@0mT')\n",
    "\n",
    "dataid = do2d(magnet_x.field, Mag, -Mag, 76 , 0.7, appl_current, -I_range ,I_range, 101, 0.01, meas_voltage_K2)\n",
    "\n",
    "appl_current(0)\n",
    "K2440.output(0)\n",
    "# magnet_y.field(0)\n",
    "\n",
    "plot_by_id(dataid)\n",
    "autosave_plot_by_id(dataid, save_path)"
   ]
  },
  {
   "cell_type": "code",
   "execution_count": null,
   "id": "5f475874",
   "metadata": {},
   "outputs": [],
   "source": [
    "K2440.output(1)\n",
    "sleep(2)\n",
    "Mag = 10e-3\n",
    "I_range=2.5e-5\n",
    "\n",
    "magnet_x.field(Mag)\n",
    "sleep(30)\n",
    "appl_current(-I_range)\n",
    "sleep(3)\n",
    "direction = 'backward' if Mag > 0 else 'forward'\n",
    "\n",
    "\n",
    "# station.snapshot(update=True);\n",
    "\n",
    "exp = qc.new_experiment('IV vs Bx', sample_name=f'094-20IV_Bx_16-17-19-18_10M_{direction}')\n",
    "\n",
    "dataid = do2d(magnet_x.field, Mag, -Mag, 101 , 1.5, appl_current, -I_range ,I_range, 101, 0.05, meas_voltage_K2)#M:I Delay time 10:1\n",
    "\n",
    "\n",
    "appl_current(0)\n",
    "K2440.output(0)\n",
    "# magnet_x.field(0)\n",
    "\n",
    "plot_by_id(dataid)\n",
    "autosave_plot_by_id(dataid, save_path)"
   ]
  },
  {
   "cell_type": "code",
   "execution_count": null,
   "id": "bfdd8a07",
   "metadata": {},
   "outputs": [],
   "source": [
    "set_magnetic_field_stepwise(magnet=magnet_x, current_field=-40e-3, target_field=-18e-3, step_size=1e-3, delay=2.5)"
   ]
  },
  {
   "cell_type": "code",
   "execution_count": null,
   "id": "5eef089c",
   "metadata": {},
   "outputs": [],
   "source": [
    "def set_magnetic_field_stepwise(magnet=magnet_x, current_field=0, target_field=-10e-3, step_size=1e-3, delay=2.5):\n",
    "    \n",
    "    \"\"\"Set the magnetic field with anti-hysteresis mechanism witch will go to target magnetic field +/- 5mT, \n",
    "    if the target magnetic field is greater/less than the current magnetic field, \n",
    "    then slowly ramp back the magnetic field to the target magnetic field\n",
    "\n",
    "    Args:\n",
    "        magnet (_type_, optional): magnet_x,magnet_y,magnet_z. Defaults to magnet_x.\n",
    "        current_field (int, optional): _description_. Defaults to 0 T.\n",
    "        target_field (_type_, optional): _description_. Defaults to -10e-3 T.\n",
    "        step_size (_type_, optional): _description_. Defaults to 1e-3 T.\n",
    "        delay (float, optional): _description_. Defaults to 2 sec.\n",
    "    \n",
    "    \"\"\"\n",
    "    \n",
    "    from tqdm.notebook import tqdm\n",
    "    import math\n",
    "    # Calculate total steps for tqdm progress bar\n",
    "    total_steps = math.ceil(abs((target_field - current_field) / step_size)) * 2\n",
    "    progress_bar = tqdm(total=total_steps)\n",
    "\n",
    "    # Determine the intermediate target field\n",
    "    intermediate_target_field = target_field + 5e-3 if target_field > current_field else target_field - 5e-3\n",
    "    # Slowly ramp the magnetic field to the intermediate target field\n",
    "    while abs(intermediate_target_field - current_field) > step_size:\n",
    "        if intermediate_target_field > current_field:\n",
    "            current_field += step_size\n",
    "            magnet.field(current_field)\n",
    "        else:\n",
    "            current_field -= step_size\n",
    "            magnet.field(current_field)\n",
    "        time.sleep(delay)\n",
    "        progress_bar.update(1)  # Update progress bar\n",
    "    # Slowly ramp back the magnetic field to the target_field\n",
    "    while abs(target_field - current_field) > step_size:\n",
    "        if target_field > current_field:\n",
    "            current_field += step_size\n",
    "            magnet.field(current_field)\n",
    "        else:\n",
    "            current_field -= step_size\n",
    "            magnet.field(current_field)\n",
    "        time.sleep(delay)\n",
    "        progress_bar.update(1)  # Update progress bar\n",
    "    magnet.field(target_field)\n",
    "    progress_bar.n = total_steps  # Set progress bar to 100%\n",
    "    progress_bar.refresh()  # Refresh the progress bar to show the update\n",
    "    progress_bar.close()  # Close progress bar when done"
   ]
  },
  {
   "cell_type": "code",
   "execution_count": null,
   "id": "6d385381",
   "metadata": {},
   "outputs": [],
   "source": [
    "for i in range(6):\n",
    "    magnet_x.field((-10-i)*1e-3)\n",
    "    sleep(4)\n",
    "sleep(10)\n",
    "\n",
    "for i in range(16):\n",
    "    magnet_x.field((15+i)*1e-3)\n",
    "    sleep(4)\n",
    "sleep(10)"
   ]
  },
  {
   "cell_type": "code",
   "execution_count": null,
   "id": "83205742",
   "metadata": {},
   "outputs": [],
   "source": [
    "for i in range(25):\n",
    "    print(-24+i)"
   ]
  },
  {
   "cell_type": "code",
   "execution_count": null,
   "id": "fef193a7",
   "metadata": {},
   "outputs": [],
   "source": [
    "magnet_x.field(-19e-3)\n",
    "sleep(10)\n",
    "#magnet_x.field(e-3)\n",
    "#sleep(10)\n",
    "#magnet_x.field(12.8e-3)\n",
    "#sleep(10)"
   ]
  },
  {
   "cell_type": "markdown",
   "id": "6a6f3c0d",
   "metadata": {},
   "source": [
    "## IV vs By"
   ]
  },
  {
   "cell_type": "code",
   "execution_count": null,
   "id": "b823efb8",
   "metadata": {},
   "outputs": [],
   "source": [
    "get_Mag()"
   ]
  },
  {
   "cell_type": "code",
   "execution_count": null,
   "id": "9e236537",
   "metadata": {},
   "outputs": [],
   "source": [
    "magnet_y.field(0e-3)"
   ]
  },
  {
   "cell_type": "code",
   "execution_count": null,
   "id": "b4e8ec13",
   "metadata": {},
   "outputs": [],
   "source": [
    "for i in tqdm(range(21), desc=\"2nd loop\"):\n",
    "    \n",
    "    value = (-10 + i*0.5) * 1e-3 \n",
    "    value = float(f\"{value:.10f}\")\n",
    "    magnet_y.field(value)\n",
    "    get_Mag()\n",
    "    time.sleep(15)\n",
    "    clear_output(True)"
   ]
  },
  {
   "cell_type": "code",
   "execution_count": null,
   "id": "5dce7f89",
   "metadata": {},
   "outputs": [],
   "source": [
    "\n",
    "# First loop\n",
    "for i in tqdm(range(11), desc=\"First loop\"):\n",
    "    \n",
    "    value = (5 +i) * 1e-3\n",
    "    value = float(f\"{value:.10f}\")\n",
    "    magnet_y.field(value)\n",
    "    get_Mag()\n",
    "    time.sleep(15)\n",
    "    clear_output(True)\n",
    "\n",
    "# Pause for 30 seconds\n",
    "time.sleep(60)\n",
    "\n",
    "# Second loop\n",
    "for i in tqdm(range(11), desc=\"2nd loop\"):\n",
    "    \n",
    "    value = (-10 + i) * 1e-3 \n",
    "    value = float(f\"{value:.10f}\")\n",
    "    magnet_y.field(value)\n",
    "    get_Mag()\n",
    "    time.sleep(15)\n",
    "    clear_output(True)\n",
    "# Pause for 180 seconds\n",
    "time.sleep(300)"
   ]
  },
  {
   "cell_type": "code",
   "execution_count": null,
   "id": "46dc421a",
   "metadata": {},
   "outputs": [],
   "source": [
    "magnet_y.field()"
   ]
  },
  {
   "cell_type": "code",
   "execution_count": null,
   "id": "3a7fb763",
   "metadata": {},
   "outputs": [],
   "source": [
    "Mag =5e-3\n",
    "I_range=0.6e-6\n",
    "K2440.output(1)\n",
    "sleep(2)\n",
    "magnet_y.field(Mag)\n",
    "sleep(10)\n",
    "appl_current(-I_range)\n",
    "sleep(3)\n",
    "direction = 'backward' if Mag > 0 else 'forward'\n",
    "\n",
    "\n",
    "# station.snapshot(update=True);\n",
    "exp = qc.new_experiment('IV vs By', sample_name=f'103-03_J2_27-26-30-31M(32G-33G-28G-29G)_1M_By_{direction}_{-I_range}')\n",
    "\n",
    "dataid = do2d(magnet_y.field, Mag, -Mag, 201 , 0.5, appl_current, -I_range ,I_range,  201, 0.0001, meas_voltage_K2)\n",
    "\n",
    "appl_current(0)\n",
    "K2440.output(0)\n",
    "# magnet_y.field(0)\n",
    "\n",
    "plot_by_id(dataid)\n",
    "autosave_plot_by_id(dataid, save_path)"
   ]
  },
  {
   "cell_type": "code",
   "execution_count": null,
   "id": "a9c30858",
   "metadata": {},
   "outputs": [],
   "source": [
    "Mag =-5e-3\n",
    "I_range=5e-6\n",
    "K2440.output(1)\n",
    "sleep(2)\n",
    "magnet_y.field(Mag)\n",
    "sleep(10)\n",
    "appl_current(-I_range)\n",
    "sleep(3)\n",
    "direction = 'backward' if Mag > 0 else 'forward'\n",
    "\n",
    "\n",
    "# station.snapshot(update=True);\n",
    "exp = qc.new_experiment('IV vs By', sample_name=f'103-03_J2_27-26-30-31M(32G-33G-28G-29G)_1M_By_{direction}_{-I_range}')\n",
    "\n",
    "dataid = do2d(magnet_y.field, Mag, -Mag, 201 , 0.5, appl_current, -I_range ,I_range,  201, 0.0001, meas_voltage_K2)\n",
    "\n",
    "appl_current(0)\n",
    "K2440.output(0)\n",
    "# magnet_y.field(0)\n",
    "\n",
    "plot_by_id(dataid)\n",
    "autosave_plot_by_id(dataid, save_path)"
   ]
  },
  {
   "cell_type": "code",
   "execution_count": null,
   "id": "8ba8b69c",
   "metadata": {},
   "outputs": [],
   "source": [
    "32-"
   ]
  },
  {
   "cell_type": "code",
   "execution_count": null,
   "id": "7c2e8f1b",
   "metadata": {},
   "outputs": [],
   "source": [
    "\n",
    "# First loop\n",
    "for i in tqdm(range(6), desc=\"First loop\"):\n",
    "    Mag_x = magnet_y.field()\n",
    "    value = (1.5 +i) * 1e-3\n",
    "    value = float(f\"{value:.10f}\")\n",
    "    magnet_y.field(value)\n",
    "    print(f\"magnet_y is {Mag_x:.8f} T\")\n",
    "    time.sleep(15)\n",
    "    clear_output(True)\n",
    "\n",
    "# Pause for 30 seconds\n",
    "time.sleep(60)\n",
    "\n",
    "# Second loop\n",
    "for i in tqdm(range(6), desc=\"2nd loop\"):\n",
    "    Mag_x = magnet_y.field()\n",
    "    value = (6.5 - i) * 1e-3 \n",
    "    value = float(f\"{value:.10f}\")\n",
    "    magnet_y.field(value)\n",
    "    print(f\"magnet_y is {Mag_x:.8f} T\")\n",
    "    time.sleep(15)\n",
    "    clear_output(True)\n",
    "\n",
    "# Pause for 180 seconds\n",
    "time.sleep(300)"
   ]
  },
  {
   "cell_type": "code",
   "execution_count": null,
   "id": "8d736f1b",
   "metadata": {},
   "outputs": [],
   "source": [
    "Mag = 1.5e-3\n",
    "I_range=2.5e-6\n",
    "K2440.output(1)\n",
    "sleep(2)\n",
    "magnet_y.field(Mag)\n",
    "sleep(10)\n",
    "appl_current(-I_range)\n",
    "sleep(3)\n",
    "direction = 'backward' if Mag > 0 else 'forward'\n",
    "\n",
    "\n",
    "# station.snapshot(update=True);\n",
    "exp = qc.new_experiment('IV vs By', sample_name=f'103-06_J2_12-13-18-19_1M_By_{direction}_Bx@3mT')\n",
    "\n",
    "dataid = do2d(magnet_y.field, Mag, -Mag, 1001 , 0.4, appl_current, -I_range ,I_range, 151, 0.01, meas_voltage_K2)\n",
    "\n",
    "appl_current(0)\n",
    "K2440.output(0)\n",
    "# magnet_y.field(0)\n",
    "\n",
    "plot_by_id(dataid)\n",
    "autosave_plot_by_id(dataid, save_path)"
   ]
  },
  {
   "cell_type": "code",
   "execution_count": null,
   "id": "43eb5eb6",
   "metadata": {},
   "outputs": [],
   "source": [
    "Mag()"
   ]
  },
  {
   "cell_type": "code",
   "execution_count": null,
   "id": "721c43a1",
   "metadata": {},
   "outputs": [],
   "source": [
    "Mag = 1.5e-3\n",
    "I_range=1e-6\n",
    "K2440.output(1)\n",
    "sleep(2)\n",
    "magnet_y.field(Mag)\n",
    "sleep(10)\n",
    "appl_current(-I_range)\n",
    "sleep(3)\n",
    "direction = 'backward' if Mag > 0 else 'forward'\n",
    "\n",
    "\n",
    "# station.snapshot(update=True);\n",
    "exp = qc.new_experiment('IV vs By', sample_name=f'103-01_J1_21-20-23-22_1M_By_{direction}_Bx@0mT')\n",
    "\n",
    "dataid = do2d(magnet_y.field, Mag, -Mag, 151 , 0.9, appl_current, -I_range ,I_range, 201, 0.01, meas_voltage_K2)\n",
    "\n",
    "appl_current(0)\n",
    "K2440.output(0)\n",
    "# magnet_y.field(0)\n",
    "\n",
    "plot_by_id(dataid)\n",
    "autosave_plot_by_id(dataid, save_path)"
   ]
  },
  {
   "cell_type": "code",
   "execution_count": null,
   "id": "dadb617e",
   "metadata": {},
   "outputs": [],
   "source": [
    "from tqdm import tqdm\n",
    "import time\n",
    "\n",
    "# First loop\n",
    "for i in tqdm(range(6), desc=\"First loop\"):\n",
    "    value = (1.5 + i) * 1e-3 \n",
    "    magnet_y.field(value)\n",
    "    print(f\"magnet_y is {value:.8f} T\")\n",
    "    time.sleep(10)\n",
    "\n",
    "# Pause for 30 seconds\n",
    "time.sleep(30)\n",
    "\n",
    "# Second loop\n",
    "for i in tqdm(range(8), desc=\"First loop\"):\n",
    "    value = (7 - i) * 1e-3 \n",
    "    magnet_y.field(value)\n",
    "    print(f\"magnet_y is {value:.8f} T\")\n",
    "    time.sleep(10)\n",
    "\n",
    "# Pause for 180 seconds\n",
    "time.sleep(300)\n"
   ]
  },
  {
   "cell_type": "code",
   "execution_count": null,
   "id": "cceb780f",
   "metadata": {},
   "outputs": [],
   "source": [
    "def combined_loop(start=0, end=5 ):\n",
    "  for i in tqdm(range((end-start)+6), desc=\"First loop\"):\n",
    "    value = start + i\n",
    "    print(f\"{value* 1e-3:.5f}\")\n",
    "\n",
    "  for i in tqdm(range(6), desc=\"Second loop\"):\n",
    "    value = end+5 - i\n",
    "    print(f\"{value* 1e-3:.5f}\")\n",
    "\n",
    "combined_loop()\n"
   ]
  },
  {
   "cell_type": "code",
   "execution_count": null,
   "id": "7963ad50",
   "metadata": {},
   "outputs": [],
   "source": [
    "Mag = 3e-3\n",
    "I_range=1e-6\n",
    "K2440.output(1)\n",
    "sleep(2)\n",
    "magnet_y.field(Mag)\n",
    "sleep(10)\n",
    "appl_current(-I_range)\n",
    "sleep(3)\n",
    "direction = 'backward' if Mag > 0 else 'forward'\n",
    "\n",
    "\n",
    "# station.snapshot(update=True);\n",
    "exp = qc.new_experiment('IV vs By', sample_name=f'103-04_J2_04-05-06-07_1M_By_{direction}_Bx@0mT')\n",
    "\n",
    "dataid = do2d(magnet_y.field, Mag, -Mag, 101 , 1.5, appl_current, -I_range ,I_range, 101, 0.01, meas_voltage_K2)\n",
    "\n",
    "appl_current(0)\n",
    "K2440.output(0)\n",
    "# magnet_y.field(0)\n",
    "\n",
    "plot_by_id(dataid)\n",
    "autosave_plot_by_id(dataid, save_path)"
   ]
  },
  {
   "cell_type": "code",
   "execution_count": null,
   "id": "3d67f8ce",
   "metadata": {},
   "outputs": [],
   "source": [
    "from tqdm import tqdm\n",
    "import time\n",
    "\n",
    "# First loop\n",
    "for i in tqdm(range(6), desc=\"First loop\"):\n",
    "    magnet_y.field((-3 - i) * 1e-3)\n",
    "    time.sleep(15)\n",
    "\n",
    "# Pause for 30 seconds\n",
    "time.sleep(30)\n",
    "\n",
    "# Second loop\n",
    "for i in tqdm(range(7), desc=\"Second loop\"):\n",
    "    magnet_y.field((-8 + i) * 1e-3)\n",
    "    time.sleep(15)\n",
    "\n",
    "# Pause for 180 seconds\n",
    "time.sleep(300)"
   ]
  },
  {
   "cell_type": "code",
   "execution_count": null,
   "id": "af9e2a73",
   "metadata": {},
   "outputs": [],
   "source": [
    "magnet_y.field(-1.5e-3)\n",
    "print(\"By at -1.5 mT\")"
   ]
  },
  {
   "cell_type": "code",
   "execution_count": null,
   "id": "214aa45a",
   "metadata": {},
   "outputs": [],
   "source": [
    "Mag = -3e-3\n",
    "I_range=1e-6\n",
    "K2440.output(1)\n",
    "sleep(2)\n",
    "magnet_y.field(Mag)\n",
    "sleep(10)\n",
    "appl_current(-I_range)\n",
    "sleep(3)\n",
    "direction = 'backward' if Mag > 0 else 'forward'\n",
    "\n",
    "\n",
    "# station.snapshot(update=True);\n",
    "exp = qc.new_experiment('IV vs By', sample_name=f'103-04_J2_04-05-06-07_1M_By_{direction}_Bx@0mT')\n",
    "\n",
    "dataid = do2d(magnet_y.field, Mag, -Mag, 501 , 1, appl_current, -I_range ,I_range, 251, 0.01, meas_voltage_K2)\n",
    "\n",
    "appl_current(0)\n",
    "K2440.output(0)\n",
    "# magnet_y.field(0)\n",
    "\n",
    "plot_by_id(dataid)\n",
    "autosave_plot_by_id(dataid, save_path)"
   ]
  },
  {
   "cell_type": "code",
   "execution_count": null,
   "id": "da9891fc",
   "metadata": {},
   "outputs": [],
   "source": [
    "from tqdm import tqdm\n",
    "import time\n",
    "\n",
    "# First loop\n",
    "for i in tqdm(range(6), desc=\"First loop\"):\n",
    "    magnet_y.field((3 + i) * 1e-3)\n",
    "    time.sleep(10)\n",
    "\n",
    "# Pause for 30 seconds\n",
    "time.sleep(30)\n",
    "\n",
    "# Second loop\n",
    "for i in tqdm(range(6), desc=\"Second loop\"):\n",
    "    magnet_y.field((8 - i) * 1e-3)\n",
    "    time.sleep(10)\n",
    "\n",
    "# Pause for 180 seconds\n",
    "time.sleep(300)"
   ]
  },
  {
   "cell_type": "code",
   "execution_count": null,
   "id": "8c1e92c1",
   "metadata": {},
   "outputs": [],
   "source": [
    "Mag = 3e-3\n",
    "I_range=1e-6\n",
    "K2440.output(1)\n",
    "sleep(2)\n",
    "magnet_y.field(Mag)\n",
    "sleep(10)\n",
    "appl_current(-I_range)\n",
    "sleep(3)\n",
    "direction = 'backward' if Mag > 0 else 'forward'\n",
    "\n",
    "\n",
    "# station.snapshot(update=True);\n",
    "exp = qc.new_experiment('IV vs By', sample_name=f'103-04_J2_04-05-06-07_1M_By_{direction}_Bx@0mT')\n",
    "\n",
    "dataid = do2d(magnet_y.field, Mag, -Mag, 501 , 1, appl_current, -I_range ,I_range, 251, 0.01, meas_voltage_K2)\n",
    "\n",
    "appl_current(0)\n",
    "K2440.output(0)\n",
    "# magnet_y.field(0)\n",
    "\n",
    "plot_by_id(dataid)\n",
    "autosave_plot_by_id(dataid, save_path)"
   ]
  },
  {
   "cell_type": "code",
   "execution_count": null,
   "id": "5208f447",
   "metadata": {},
   "outputs": [],
   "source": [
    "magnet_y.field(5e-3)"
   ]
  },
  {
   "cell_type": "code",
   "execution_count": null,
   "id": "3e408864",
   "metadata": {},
   "outputs": [],
   "source": [
    "for i in range(9):\n",
    "    magnet_y.field((0+i)*1e-3)\n",
    "    sleep(4)\n",
    "sleep(10)\n",
    "\n",
    "for i in range(6):\n",
    "    magnet_y.field((8-i)*1e-3)\n",
    "    sleep(4)\n",
    "\n",
    "sleep(60)\n",
    "# magnet_y.field(21.5e-3)\n",
    "sleep(60)\n",
    "#magnet_y.field(0.48e-3)\n",
    "#sleep(5)"
   ]
  },
  {
   "cell_type": "code",
   "execution_count": null,
   "id": "2eb14a5d",
   "metadata": {},
   "outputs": [],
   "source": [
    "for i in range(4):\n",
    "    print(8-i)"
   ]
  },
  {
   "cell_type": "code",
   "execution_count": null,
   "id": "a1ebeefb",
   "metadata": {},
   "outputs": [],
   "source": [
    "K2440.output(1)\n",
    "sleep(2)\n",
    "Mag = -40e-3\n",
    "I_range=2e-8\n",
    "\n",
    "magnet_y.field(Mag)\n",
    "sleep(10)\n",
    "appl_current(-I_range)\n",
    "sleep(3)\n",
    "direction = 'backward' if Mag > 0 else 'forward'\n",
    "\n",
    "\n",
    "# station.snapshot(update=True);\n",
    "\n",
    "exp = qc.new_experiment('IV vs By', sample_name=f'094-20IV_By_16-17-19-18_10M_{direction}_Bx@-18.5mT')\n",
    "\n",
    "dataid = do2d(magnet_y.field, Mag, -Mag, 601 , 2, appl_current, -I_range ,I_range, 201, 0.1, meas_voltage_K2)\n",
    "\n",
    "\n",
    "appl_current(0)\n",
    "K2440.output(0)\n",
    "# magnet_y.field(0)\n",
    "\n",
    "plot_by_id(dataid)\n",
    "autosave_plot_by_id(dataid, save_path)"
   ]
  },
  {
   "cell_type": "code",
   "execution_count": null,
   "id": "effdb8bf",
   "metadata": {},
   "outputs": [],
   "source": [
    "for i in range(24):\n",
    "    print(45-i)"
   ]
  },
  {
   "cell_type": "code",
   "execution_count": null,
   "id": "4b523a44",
   "metadata": {},
   "outputs": [],
   "source": []
  },
  {
   "cell_type": "markdown",
   "id": "7dce8613",
   "metadata": {},
   "source": [
    "## IV vs Bz"
   ]
  },
  {
   "cell_type": "code",
   "execution_count": null,
   "id": "a4e6e5f7",
   "metadata": {
    "scrolled": true
   },
   "outputs": [],
   "source": [
    "K2440.output(1)\n",
    "sleep(2)\n",
    "magnet_z.field(-80e-3)\n",
    "sleep(60)\n",
    "appl_current(-2e-7)\n",
    "sleep(5)\n",
    "\n",
    "# station.snapshot(update=True);\n",
    "\n",
    "exp = qc.new_experiment('IV vs Bz', sample_name='IV_Bz_33_32_30_31_10M_forward')\n",
    "\n",
    "dataid = do2d(magnet_z.field,-80e-3,80e-3, 71 , 20, appl_current, -2e-7 ,2e-7, 101, 0.05, meas_voltage_K2)\n",
    "\n",
    "appl_current(0)\n",
    "\n",
    "K2440.output(0)\n",
    "# magnet_y.field(0)\n",
    "\n",
    "plot_by_id(dataid)"
   ]
  },
  {
   "cell_type": "code",
   "execution_count": null,
   "id": "e68136d1",
   "metadata": {},
   "outputs": [],
   "source": [
    "#magnet_z.field(20e-3)\n",
    "#sleep(5)\n",
    "magnet_z.field(-6.1e-3)\n",
    "sleep(5)"
   ]
  },
  {
   "cell_type": "code",
   "execution_count": null,
   "id": "571645ac",
   "metadata": {},
   "outputs": [],
   "source": []
  },
  {
   "cell_type": "markdown",
   "id": "02c81568",
   "metadata": {},
   "source": [
    "## IV w/ Bx"
   ]
  },
  {
   "cell_type": "code",
   "execution_count": null,
   "id": "b5229271",
   "metadata": {},
   "outputs": [],
   "source": [
    "K2440.output(1)\n",
    "sleep(2)\n",
    "magnet_x.field(0.23e-3)\n",
    "appl_current(-0.5e-6)\n",
    "sleep(10)\n",
    "\n",
    "# station.snapshot(update=True);\n",
    "exp = qc.new_experiment('I vs V', sample_name='IV_w/_Bx')\n",
    "\n",
    "#do1d(param_set, start, stop, num_points, delay, *param_meas)\n",
    "dataid = do1d(appl_current, -0.5e-6 ,0.5e-6, 101, 0.05, meas_voltage_K2)\n",
    "# dataid = do1d(appl_current, 6e-6 , -6e-6, 251, 0.01, meas_voltage_K1)\n",
    "# ivvi.set_dacs_zero()\n",
    "\n",
    "appl_current(0)\n",
    "plot_by_id(dataid)\n",
    "# print(get_R_from_IV(dataid))\n",
    "#print(get_R_from_IV_2(dataid))\n",
    "\n",
    "K2440.output(0)"
   ]
  },
  {
   "cell_type": "markdown",
   "id": "27ac85cd",
   "metadata": {},
   "source": [
    "## IV w/ By"
   ]
  },
  {
   "cell_type": "code",
   "execution_count": null,
   "id": "b7c3a84d",
   "metadata": {},
   "outputs": [],
   "source": [
    "K2440.output(1)\n",
    "DMM6500.averaging_count(30)\n",
    "#DMM6500.averaging_enabled(False)\n",
    "\n",
    "sleep(2)\n",
    "magnet_y.field(0e-3)\n",
    "appl_current(-2e-7)\n",
    "sleep(20)\n",
    "\n",
    "# station.snapshot(update=True);\n",
    "exp = qc.new_experiment('I vs V', sample_name='IV_w/_By@0mT_forward_Avg30')\n",
    "\n",
    "#do1d(param_set, start, stop, num_points, delay, *param_meas)\n",
    "dataid = do1d(appl_current, -2e-7 ,2e-7, 201, 0.05, meas_voltage_K2)\n",
    "# dataid = do1d(appl_current, 6e-6 , -6e-6, 251, 0.01, meas_voltage_K1)\n",
    "# ivvi.set_dacs_zero()\n",
    "\n",
    "appl_current(0)\n",
    "plot_by_id(dataid)\n",
    "# print(get_R_from_IV(dataid))\n",
    "#print(get_R_from_IV_2(dataid))\n",
    "\n",
    "K2440.output(0)"
   ]
  },
  {
   "cell_type": "markdown",
   "id": "1e7ed93d",
   "metadata": {},
   "source": [
    "## MR"
   ]
  },
  {
   "cell_type": "code",
   "execution_count": null,
   "id": "9db581e2",
   "metadata": {},
   "outputs": [],
   "source": [
    "K2440.output(1)\n",
    "sleep(2)\n",
    "magnet_y.field(-0.1)\n",
    "sleep(5)\n",
    "#K2440.output(1)\n",
    "appl_current(1e-7)\n",
    "sleep(5)\n",
    "\n",
    "# station.snapshot(update=True);\n",
    "\n",
    "exp = qc.new_experiment('I vs By_MR', sample_name='072_14IVf_25_24_29_29_By_+-0.1T_MR_for')\n",
    "\n",
    "dataid = do1d(magnet_y.field, -0.1, 0.1, 71 , 1, meas_voltage_K2)\n",
    "\n",
    "appl_current(0)\n",
    "K2440.output(0)\n",
    "#K2440.output(0)\n",
    "magnet_y.field(0)\n",
    "\n",
    "plot_by_id(dataid)"
   ]
  },
  {
   "cell_type": "markdown",
   "id": "55fd3a3b",
   "metadata": {},
   "source": [
    "## IV w/Bz"
   ]
  },
  {
   "cell_type": "code",
   "execution_count": null,
   "id": "e76653c7",
   "metadata": {},
   "outputs": [],
   "source": [
    "K2440.output(1)\n",
    "DMM6500.averaging_count(10)\n",
    "#DMM6500.averaging_enabled(False)\n",
    "\n",
    "sleep(2)\n",
    "magnet_z.field(0e-3)\n",
    "appl_current(-2e-7)\n",
    "sleep(30)\n",
    "\n",
    "# station.snapshot(update=True);\n",
    "exp = qc.new_experiment('I vs V', sample_name='IV_w/_f_Bz@0mT_forward_Avg10')\n",
    "\n",
    "#do1d(param_set, start, stop, num_points, delay, *param_meas)\n",
    "dataid = do1d(appl_current, -2e-7 ,2e-7, 201, 0.05, meas_voltage_K2)\n",
    "# dataid = do1d(appl_current, 6e-6 , -6e-6, 251, 0.01, meas_voltage_K1)\n",
    "# ivvi.set_dacs_zero()\n",
    "\n",
    "appl_current(0)\n",
    "plot_by_id(dataid)\n",
    "# print(get_R_from_IV(dataid))\n",
    "#print(get_R_from_IV_2(dataid))\n",
    "\n",
    "K2440.output(0)"
   ]
  },
  {
   "cell_type": "markdown",
   "id": "d0274abc",
   "metadata": {},
   "source": [
    "# Zero everything"
   ]
  },
  {
   "cell_type": "code",
   "execution_count": null,
   "id": "a0cc99f2",
   "metadata": {},
   "outputs": [],
   "source": [
    "appl_current(0)\n",
    "appl_TG(0)\n",
    "magnet_y.field(0)\n",
    "sleep(5)\n",
    "magnet_x.field(0)\n",
    "sleep(5)\n",
    "magnet_z.field(0)\n",
    "sleep(5)\n",
    "#appl_voltage_AC(0.004)\n",
    "#SGS.off()\n",
    "K2440.output(0)"
   ]
  },
  {
   "cell_type": "code",
   "execution_count": null,
   "id": "cb8bf175",
   "metadata": {},
   "outputs": [],
   "source": [
    "appl_current(0)"
   ]
  },
  {
   "cell_type": "markdown",
   "id": "6610bce1",
   "metadata": {},
   "source": [
    "# Gate simple sweeps"
   ]
  },
  {
   "cell_type": "markdown",
   "id": "c010fbad",
   "metadata": {},
   "source": [
    "## 加TG (2D)"
   ]
  },
  {
   "cell_type": "code",
   "execution_count": null,
   "id": "6d7e9bf6",
   "metadata": {},
   "outputs": [],
   "source": [
    "appl_current(0)\n",
    "sleep(1)\n",
    "appl_TG(0)\n",
    "sleep(5)"
   ]
  },
  {
   "cell_type": "code",
   "execution_count": null,
   "id": "be01663b",
   "metadata": {},
   "outputs": [],
   "source": [
    "magnet_x.field(-0.044e-3)\n",
    "sleep(10)\n",
    "magnet_y.field(-6.016e-3)\n",
    "sleep(10)"
   ]
  },
  {
   "cell_type": "code",
   "execution_count": null,
   "id": "5397630e",
   "metadata": {},
   "outputs": [],
   "source": [
    "K2440.output(1)\n",
    "K2440.output(1)\n",
    "appl_TG(-30)\n",
    "sleep(5)\n",
    "appl_current(-1.5e-8)\n",
    "sleep(1)\n",
    "\n",
    "exp = qc.new_experiment('I_vs_Vgate_up', sample_name='33_32_30_31_1M_TG21')\n",
    "dataid = do2d(appl_TG, -30, 30, 301, 0.5, appl_current, -1.5e-8, 1.5e-8, 101, 0.1, meas_voltage_K2)\n",
    "\n",
    "appl_TG(0)\n",
    "sleep(5)\n",
    "appl_current(0e-7)\n",
    "sleep(5)\n",
    "\n",
    "K2440.output(0)\n",
    "K2440.output(0)\n",
    "\n",
    "plot_by_id(dataid)"
   ]
  },
  {
   "cell_type": "markdown",
   "id": "5375fb6f",
   "metadata": {},
   "source": [
    "# RF"
   ]
  },
  {
   "cell_type": "markdown",
   "id": "596beaf8",
   "metadata": {},
   "source": [
    "## I vs RF_f"
   ]
  },
  {
   "cell_type": "markdown",
   "id": "a6df9a13",
   "metadata": {},
   "source": [
    "### sensitive check"
   ]
  },
  {
   "cell_type": "code",
   "execution_count": null,
   "id": "017ed644",
   "metadata": {},
   "outputs": [],
   "source": [
    "SGS.power()\n",
    "SGS.frequency()"
   ]
  },
  {
   "cell_type": "code",
   "execution_count": null,
   "id": "e0b8db4e",
   "metadata": {},
   "outputs": [],
   "source": [
    "SGS.on()"
   ]
  },
  {
   "cell_type": "code",
   "execution_count": null,
   "id": "cc145b47",
   "metadata": {},
   "outputs": [],
   "source": [
    "SGS.off()"
   ]
  },
  {
   "cell_type": "code",
   "execution_count": null,
   "id": "6141349d",
   "metadata": {},
   "outputs": [],
   "source": [
    "magnet_x.field(0.4e-3)\n",
    "sleep(10)\n",
    "magnet_y.field(2.53e-3)\n",
    "sleep(10)"
   ]
  },
  {
   "cell_type": "code",
   "execution_count": null,
   "id": "2fd35fd0",
   "metadata": {},
   "outputs": [],
   "source": [
    "DMM6500.averaging_count(5)\n",
    "DMM6500.averaging_enabled(False)"
   ]
  },
  {
   "cell_type": "markdown",
   "id": "2d27c6f3",
   "metadata": {},
   "source": [
    "### I vs RF_f (1D)"
   ]
  },
  {
   "cell_type": "code",
   "execution_count": null,
   "id": "c3ec00d7",
   "metadata": {
    "scrolled": false
   },
   "outputs": [],
   "source": [
    "SGS.off()\n",
    "exp = qc.new_experiment('I-RF_f', sample_name='103-06_J2_12-13-14-15_1M_@0mT')\n",
    "SGS.power(0)\n",
    "SGS.frequency(0.1e9)\n",
    "SGS.on()\n",
    "sleep(1)\n",
    "DMM6500.averaging_count(5)\n",
    "DMM6500.averaging_enabled(False)\n",
    "K2440.output(1)\n",
    "\n",
    "appl_current(0.4e-6)\n",
    "#appl_TG(10)\n",
    "# magnet_x.field(0.4e-3)\n",
    "# magnet_y.field(2.53e-3)\n",
    "\n",
    "dataid = do1d(SGS.frequency, 11.4e9, 12.2e9, 201, 0.1, meas_voltage_K2)\n",
    "appl_current(0)\n",
    "SGS.off()\n",
    "K2440.output(0)\n",
    "plot_by_id(dataid)\n"
   ]
  },
  {
   "cell_type": "markdown",
   "id": "3e250e53",
   "metadata": {},
   "source": [
    "### I vs RF_f (2D)"
   ]
  },
  {
   "cell_type": "code",
   "execution_count": null,
   "id": "3734095d",
   "metadata": {},
   "outputs": [],
   "source": [
    "SGS.off()"
   ]
  },
  {
   "cell_type": "code",
   "execution_count": null,
   "id": "ccc9ea2f",
   "metadata": {},
   "outputs": [],
   "source": [
    "SGS.off()\n",
    "SGS.power(0)\n",
    "SGS.frequency(0.1e9)\n",
    "SGS.on()\n",
    "DMM6500.averaging_count(1)\n",
    "DMM6500.averaging_enabled(False)\n",
    "K2440.output(1)\n",
    "\n",
    "I_range = 8e-6\n",
    "appl_current(-I_range)\n",
    "#appl_TG(-10)\n",
    "# magnet_x.field(0.4e-3)\n",
    "# magnet_y.field(2.53e-3)\n",
    "# sleep(1)\n",
    "\n",
    "# station.snapshot(update=True);\n",
    "exp = qc.new_experiment('IV-RF_f', sample_name=f'103-03_J2_27-26-30-31M(32G-33G-28G-29G)_1M_RF@0dBm_By@0.1mT')\n",
    "\n",
    "#do1d(param_set, start, stop, num_points, delay, *param_meas)\n",
    "dataid = do2d(SGS.frequency, 1e9, 20e9, 191, 0.0001, appl_current,-I_range ,I_range, 201, 0.0001, meas_voltage_K2)\n",
    "# dataid = do1d(appl_current, 6e-6 , -6e-6, 251, 0.01, meas_voltage_K1)\n",
    "# ivvi.set_dacs_zero()\n",
    "K2440.output(0)\n",
    "SGS.off()\n",
    "appl_current(0)\n",
    "plot_by_id(dataid)\n",
    "save_path = r\"D:\\data\\Albert\\103\\Plot\\104_{}.png\".format(dataid)  # Path to save the plot image\n",
    "autosave_plot_by_id(dataid, save_path)"
   ]
  },
  {
   "cell_type": "code",
   "execution_count": null,
   "id": "3426a3bd",
   "metadata": {},
   "outputs": [],
   "source": [
    "SGS.off()\n",
    "SGS.power(20)\n",
    "SGS.frequency(0.1e9)\n",
    "SGS.on()\n",
    "DMM6500.averaging_count(1)\n",
    "DMM6500.averaging_enabled(False)\n",
    "K2440.output(1)\n",
    "\n",
    "I_range = 6e-6\n",
    "appl_current(-I_range)\n",
    "#appl_TG(-10)\n",
    "# magnet_x.field(0.4e-3)\n",
    "# magnet_y.field(2.53e-3)\n",
    "# sleep(1)\n",
    "\n",
    "# station.snapshot(update=True);\n",
    "exp = qc.new_experiment('IV-RF_f', sample_name=f'103-03_J2_27-26-30-31M(32G-33G-28G-29G)_1M_RF@-10dBm_By@0.1mT')\n",
    "\n",
    "#do1d(param_set, start, stop, num_points, delay, *param_meas)\n",
    "dataid = do2d(SGS.frequency, 1e9, 20e9, 191, 0.0001, appl_current,-I_range ,I_range, 201, 0.0001, meas_voltage_K2)\n",
    "# dataid = do1d(appl_current, 6e-6 , -6e-6, 251, 0.01, meas_voltage_K1)\n",
    "# ivvi.set_dacs_zero()\n",
    "K2440.output(0)\n",
    "SGS.off()\n",
    "appl_current(0)\n",
    "plot_by_id(dataid)\n",
    "save_path = r\"D:\\data\\Albert\\103\\Plot\\104_{}.png\".format(dataid)  # Path to save the plot image\n",
    "autosave_plot_by_id(dataid, save_path)"
   ]
  },
  {
   "cell_type": "code",
   "execution_count": null,
   "id": "9f9dbd53",
   "metadata": {},
   "outputs": [],
   "source": [
    "SGS.off()\n",
    "SGS.power(20)\n",
    "SGS.frequency(5.9e9)\n",
    "SGS.on()\n",
    "DMM6500.averaging_count(1)\n",
    "DMM6500.averaging_enabled(False)\n",
    "K2440.output(1)\n",
    "\n",
    "I_range = 6e-6\n",
    "appl_current(-I_range)\n",
    "#appl_TG(-10)\n",
    "# magnet_x.field(0.4e-3)\n",
    "# magnet_y.field(2.53e-3)\n",
    "# sleep(1)\n",
    "\n",
    "# station.snapshot(update=True);\n",
    "exp = qc.new_experiment('IV-RF_f', sample_name=f'103-03_J2_27-26-30-31M(32G-33G-28G-29G)_1M_RF@20dBm_By@0.1mT')\n",
    "\n",
    "#do1d(param_set, start, stop, num_points, delay, *param_meas)\n",
    "dataid = do2d(SGS.frequency, 5.9e9, 6.0e9, 251, 0.0001, appl_current,-I_range ,I_range, 501, 0.0001, meas_voltage_K2)\n",
    "# dataid = do1d(appl_current, 6e-6 , -6e-6, 251, 0.01, meas_voltage_K1)\n",
    "# ivvi.set_dacs_zero()\n",
    "K2440.output(0)\n",
    "SGS.off()\n",
    "appl_current(0)\n",
    "plot_by_id(dataid)\n",
    "save_path = r\"D:\\data\\Albert\\103\\Plot\\104_{}.png\".format(dataid)  # Path to save the plot image\n",
    "autosave_plot_by_id(dataid, save_path)\n"
   ]
  },
  {
   "cell_type": "code",
   "execution_count": null,
   "id": "862b770b",
   "metadata": {},
   "outputs": [],
   "source": [
    "SGS.off()\n",
    "SGS.power(20)\n",
    "SGS.frequency(5.535e9)\n",
    "SGS.on()\n",
    "DMM6500.averaging_count(1)\n",
    "DMM6500.averaging_enabled(False)\n",
    "K2440.output(1)\n",
    "\n",
    "I_range = 6e-6\n",
    "appl_current(-I_range)\n",
    "#appl_TG(-10)\n",
    "# magnet_x.field(0.4e-3)\n",
    "# magnet_y.field(2.53e-3)\n",
    "# sleep(1)\n",
    "\n",
    "# station.snapshot(update=True);\n",
    "exp = qc.new_experiment('IV-RF_f', sample_name=f'103-03_J2_27-26-30-31M(32G-33G-28G-29G)_1M_RF@20dBm_By@0.1mT')\n",
    "\n",
    "#do1d(param_set, start, stop, num_points, delay, *param_meas)\n",
    "dataid = do2d(SGS.frequency, 5.535e9, 5.585e9, 251, 0.0001, appl_current,-I_range ,I_range, 501, 0.0001, meas_voltage_K2)\n",
    "# dataid = do1d(appl_current, 6e-6 , -6e-6, 251, 0.01, meas_voltage_K1)\n",
    "# ivvi.set_dacs_zero()\n",
    "K2440.output(0)\n",
    "SGS.off()\n",
    "appl_current(0)\n",
    "plot_by_id(dataid)\n",
    "save_path = r\"D:\\data\\Albert\\103\\Plot\\104_{}.png\".format(dataid)  # Path to save the plot image\n",
    "autosave_plot_by_id(dataid, save_path)\n"
   ]
  },
  {
   "cell_type": "code",
   "execution_count": null,
   "id": "d76f7ea2",
   "metadata": {},
   "outputs": [],
   "source": [
    "SGS.off()\n",
    "SGS.power(20)\n",
    "SGS.frequency(0.1e9)\n",
    "SGS.on()\n",
    "DMM6500.averaging_count(1)\n",
    "DMM6500.averaging_enabled(False)\n",
    "K2440.output(1)\n",
    "\n",
    "I_range = 6e-6\n",
    "appl_current(-I_range)\n",
    "SGS_power = SGS.power()\n",
    "#appl_TG(-10)\n",
    "# magnet_x.field(0.4e-3)\n",
    "# magnet_y.field(2.53e-3)\n",
    "# sleep(1)\n",
    "\n",
    "# station.snapshot(update=True);\n",
    "exp = qc.new_experiment('IV-RF_f', sample_name=f'103-03_J2_27-26-30-31M(32G-33G-28G-29G)_1M_RF@{SGS_power}dBm_By@0.1mT')\n",
    "\n",
    "#do1d(param_set, start, stop, num_points, delay, *param_meas)\n",
    "dataid = do2d(SGS.frequency, 3.9e9, 6.9e9, 301, 0.0001, appl_current,-I_range ,I_range, 251, 0.0001, meas_voltage_K2)\n",
    "# dataid = do1d(appl_current, 6e-6 , -6e-6, 251, 0.01, meas_voltage_K1)\n",
    "# ivvi.set_dacs_zero()\n",
    "K2440.output(0)\n",
    "SGS.off()\n",
    "appl_current(0)\n",
    "plot_by_id(dataid)\n",
    "save_path = r\"D:\\data\\Albert\\103\\Plot\\104_{}.png\".format(dataid)  # Path to save the plot image\n",
    "autosave_plot_by_id(dataid, save_path)"
   ]
  },
  {
   "cell_type": "code",
   "execution_count": null,
   "id": "28992f6f",
   "metadata": {},
   "outputs": [],
   "source": [
    "appl_current(0)\n",
    "#appl_TG(0)\n",
    "magnet_y.field(0)\n",
    "sleep(2)\n",
    "magnet_x.field(0)\n",
    "sleep(2)\n",
    "#appl_voltage_AC(0.004)\n",
    "SGS.off()"
   ]
  },
  {
   "cell_type": "markdown",
   "id": "65c9a40a",
   "metadata": {},
   "source": [
    "## IV vs RF_f"
   ]
  },
  {
   "cell_type": "markdown",
   "id": "b285efb3",
   "metadata": {},
   "source": [
    "### Shapiro steps "
   ]
  },
  {
   "cell_type": "code",
   "execution_count": null,
   "id": "3a180ee1",
   "metadata": {
    "scrolled": true
   },
   "outputs": [],
   "source": [
    "SGS.off()\n",
    "SGS.power(-10)\n",
    "SGS.frequency(11.725e9)\n",
    "SGS.on()\n",
    "DMM6500.averaging_count(5)\n",
    "DMM6500.averaging_enabled(False)\n",
    "K2440.output(1)\n",
    "\n",
    "appl_current(-2e-7)\n",
    "#appl_TG(-10)\n",
    "#magnet_x.field(0.23e-3)\n",
    "#magnet_y.field(1.41e-3)\n",
    "# sleep(1)\n",
    "\n",
    "# station.snapshot(update=True);\n",
    "exp = qc.new_experiment('IV-RF_f', sample_name=f'103-03_J2_27-26-30-31M(32G-33G-28G-29G)_1M_By@0.1mT{-I_range}')\n",
    "\n",
    "#do1d(param_set, start, stop, num_points, delay, *param_meas)\"\"\n",
    "dataid = do1d(appl_current,-2e-7 ,2e-7, 101, 0.05,  meas_voltage_K2)\n",
    "# dataid = do1d(appl_current, 6e-6 , -6e-6, 251, 0.01, meas_voltage_K1)\n",
    "# ivvi.set_dacs_zero()\n",
    "K2440.output(0)\n",
    "SGS.off()\n",
    "appl_current(0)\n",
    "plot_by_id(dataid)\n",
    "# print(get_R_from_IV(dataid))\n",
    "#print(get_R_from_IV_2(dataid))"
   ]
  },
  {
   "cell_type": "code",
   "execution_count": null,
   "id": "51fe069b",
   "metadata": {},
   "outputs": [],
   "source": [
    "SGS.off()\n",
    "SGS.power(0)\n",
    "SGS.frequency(3.87e9)\n",
    "SGS.on()\n",
    "DMM6500.averaging_count(5)\n",
    "DMM6500.averaging_enabled(False)\n",
    "K2440.output(1)\n",
    "\n",
    "appl_current(-1.2e-6)\n",
    "#appl_TG(-10)\n",
    "magnet_y.field(-10e-3)\n",
    "\n",
    "#magnet_y.field(1.41e-3)\n",
    "# sleep(1)\n",
    "\n",
    "# station.snapshot(update=True);\n",
    "exp = qc.new_experiment('Bx vs RF_f', sample_name='By vs RF_f_J2_3.87_-10dB')\n",
    "\n",
    "#do1d(param_set, start, stop, num_points, delay, *param_meas)\"\"\n",
    "dataid = do2d(magnet_y.field, -10e-3, 10e-3,701, 1, appl_current,-1.2e-6 ,1.2e-6, 101, 0.05,  meas_voltage_K2)\n",
    "# dataid = do1d(appl_current, 6e-6 , -6e-6, 251, 0.01, meas_voltage_K1)\n",
    "# ivvi.set_dacs_zero()\n",
    "K2440.output(0)\n",
    "SGS.off()\n",
    "appl_current(0)\n",
    "plot_by_id(dataid)\n",
    "# print(get_R_from_IV(dataid))\n",
    "#print(get_R_from_IV_2(dataid))"
   ]
  },
  {
   "cell_type": "code",
   "execution_count": null,
   "id": "5488e4c5",
   "metadata": {},
   "outputs": [],
   "source": [
    "appl_current(0)\n",
    "#appl_TG(0)\n",
    "magnet_y.field(0)\n",
    "sleep(10)\n",
    "magnet_x.field(0)\n",
    "sleep(10)\n",
    "#appl_voltage_AC(0.004)\n",
    "SGS.off()"
   ]
  },
  {
   "cell_type": "markdown",
   "id": "04e50dcd",
   "metadata": {},
   "source": [
    "## IV vs Power Dependence"
   ]
  },
  {
   "cell_type": "code",
   "execution_count": null,
   "id": "0368ef58",
   "metadata": {},
   "outputs": [],
   "source": [
    "SGS.off()"
   ]
  },
  {
   "cell_type": "code",
   "execution_count": null,
   "id": "3d6eab35",
   "metadata": {},
   "outputs": [],
   "source": [
    "SGS.power(-40)"
   ]
  },
  {
   "cell_type": "code",
   "execution_count": null,
   "id": "d760383a",
   "metadata": {},
   "outputs": [],
   "source": [
    "SGS.off()"
   ]
  },
  {
   "cell_type": "code",
   "execution_count": null,
   "id": "f0984a37",
   "metadata": {
    "scrolled": true
   },
   "outputs": [],
   "source": [
    "SGS.off()\n",
    "SGS.power(-20)\n",
    "SGS.frequency(5.9534e9)\n",
    "SGS_frequency = SGS.frequency()\n",
    "SGS.on()\n",
    "DMM6500.averaging_count(3)\n",
    "DMM6500.averaging_enabled(False)\n",
    "K2440.output(1)\n",
    "\n",
    "#magnet_x.field(15e-3)\n",
    "#sleep(5)\n",
    "I_range = 6e-6\n",
    "appl_current(-I_range)\n",
    "#appl_TG(-30)\n",
    "sleep(2)\n",
    "\n",
    "# station.snapshot(update=True);\n",
    "exp = qc.new_experiment('IV-RF_p', sample_name=f'103-03_J2_27-26-30-31M(32G-33G-28G-29G)_1M_RF@{SGS_frequency*1e-9:.4f}GHz_By@0.1mT')\n",
    "\n",
    "#do1d(param_set, start, stop, num_points, delay, *param_meas)\n",
    "\n",
    "dataid = do2d(SGS.power,10, 15, 51, 0.1, appl_current,-I_range ,I_range, 301, 0.00001, meas_voltage_K2)\n",
    "# dataid = do1d(appl_current, 6e-6 , -6e-6, 251, 0.01, meas_voltage_K1)\n",
    "# ivvi.set_dacs_zero()\n",
    "\n",
    "SGS.off()\n",
    "appl_current(0)\n",
    "K2440.output()\n",
    "plot_by_id(dataid)\n",
    "\n",
    "# print(get_R_from_IV(dataid))\n",
    "print(get_R_from_IV_2(dataid))"
   ]
  },
  {
   "cell_type": "code",
   "execution_count": null,
   "id": "de3fc621",
   "metadata": {},
   "outputs": [],
   "source": [
    "SGS.off()\n",
    "SGS.power(-25)\n",
    "SGS.frequency(5.226e9)\n",
    "SGS.on()\n",
    "DMM6500.averaging_count(5)\n",
    "DMM6500.averaging_enabled(True)\n",
    "K2440.output(1)\n",
    "\n",
    "magnet_y.field(-8e-3)\n",
    "sleep(60)\n",
    "appl_current(-2e-7)\n",
    "#appl_TG(-30)\n",
    "sleep(2)\n",
    "\n",
    "# station.snapshot(update=True);\n",
    "exp = qc.new_experiment('IV vs power dependence', sample_name='IV vs PD_5.226_By:-8mT')\n",
    "\n",
    "#do1d(param_set, start, stop, num_points, delay, *param_meas)\n",
    "\n",
    "dataid = do2d(SGS.power,-25, 10, 101, 20, appl_current,-2e-7 ,2e-7, 101, 0.05, meas_voltage_K2)\n",
    "# dataid = do1d(appl_current, 6e-6 , -6e-6, 251, 0.01, meas_voltage_K1)\n",
    "# ivvi.set_dacs_zero()\n",
    "\n",
    "SGS.off()\n",
    "appl_current(0)\n",
    "K2440.output()\n",
    "plot_by_id(dataid)\n",
    "\n",
    "# print(get_R_from_IV(dataid))\n",
    "print(get_R_from_IV_2(dataid))"
   ]
  },
  {
   "cell_type": "markdown",
   "id": "13e12840",
   "metadata": {},
   "source": [
    "### PD vs frequency_IV loop (not yet)"
   ]
  },
  {
   "cell_type": "code",
   "execution_count": null,
   "id": "8659ae09",
   "metadata": {
    "code_folding": []
   },
   "outputs": [],
   "source": [
    "frequencies = [3.248, 3.387, 5.677]\n",
    "power_levels = [-20, 0, 25]\n",
    "     \n",
    "SGS.off()\n",
    "SGS.power(-20)\n",
    "SGS.frequency(3.387e9)\n",
    "SGS.on()\n",
    "DMM6500.averaging_count(5)\n",
    "DMM6500.averaging_enabled(True)\n",
    "K2440.output(1)\n",
    "\n",
    "appl_current(-2e-6)\n",
    "#appl_TG(-10)\n",
    "sleep(1)\n",
    "\n",
    "for freq in frequencies:\n",
    "    SGS.frequency(freq)\n",
    "    for power_level in power_levels:\n",
    "        SGS.power(power_level)\n",
    "\n",
    "# station.snapshot(update=True);\n",
    "exp = qc.new_experiment('IV vs power dependence', sample_name='IV vs PD_J2_3.387_m20')\n",
    "dataid = do2d(SGS.power, 4, 8, 100, 2, appl_current, -1e-6, 1e-6, 101, 0.05, meas_voltage_K2)\n",
    "\n",
    " # 關閉設備，並在需要時列印或繪製結果\n",
    "SGS.off()\n",
    "appl_current(0)\n",
    "K2440.output()\n",
    "plot_by_id(dataid)\n",
    "    \n",
    "print(f\"頻率：{freq} Hz，功率水平：{power_level} dB\")\n",
    "print(get_R_from_IV_2(dataid))\n"
   ]
  },
  {
   "cell_type": "markdown",
   "id": "5c2101a5",
   "metadata": {},
   "source": [
    "## IV vs Vgate"
   ]
  },
  {
   "cell_type": "code",
   "execution_count": null,
   "id": "48eb3a89",
   "metadata": {},
   "outputs": [],
   "source": [
    "appl_current(0)\n",
    "appl_TG(0)\n",
    "magnet_y.field(0)\n",
    "sleep(10)\n",
    "magnet_x.field(0)\n",
    "sleep(10)\n",
    "appl_voltage_AC(0.004)\n",
    "SGS.off()"
   ]
  },
  {
   "cell_type": "code",
   "execution_count": null,
   "id": "5deaef19",
   "metadata": {},
   "outputs": [],
   "source": [
    "SGS.off()\n",
    "SGS.power(25)\n",
    "SGS.frequency(4.83e9)\n",
    "SGS.on()\n",
    "DMM6500.averaging_count(5)\n",
    "DMM6500.averaging_enabled(True)\n",
    "appl_current(-0.4e-7)\n",
    "appl_current_AC(0.1e-10)\n",
    "\n",
    "appl_TG(-10)\n",
    "sleep(1)\n",
    "\n",
    "# station.snapshot(update=True);\n",
    "exp = qc.new_experiment('IV vs Vgate', sample_name='IV vs Vg')\n",
    "\n",
    "dataid = do2d(appl_TG, -10, 10, 751, 0.5, appl_current, -0.4e-7, 0.4e-7, 101, 0.01, meas_voltage_AC_L1, meas_voltage_AC_L1_P, meas_voltage_K2)\n",
    "# dataid = do1d(appl_current, 6e-6 , -6e-6, 251, 0.01, meas_voltage_K1)\n",
    "# ivvi.set_dacs_zero()\n",
    "SGS.off()\n",
    "appl_current(0)\n",
    "plot_by_id(dataid)\n",
    "# print(get_R_from_IV(dataid))\n",
    "#print(get_R_from_IV_2(dataid))"
   ]
  },
  {
   "cell_type": "code",
   "execution_count": null,
   "id": "6bbd39fb",
   "metadata": {},
   "outputs": [],
   "source": [
    "appl_current(0)\n",
    "appl_TG(0)\n",
    "magnet_y.field(0)\n",
    "sleep(10)\n",
    "magnet_x.field(0)\n",
    "sleep(10)\n",
    "appl_voltage_AC(0.004)\n",
    "SGS.off()"
   ]
  },
  {
   "cell_type": "code",
   "execution_count": null,
   "id": "00d4b770",
   "metadata": {},
   "outputs": [],
   "source": [
    "import matplotlib.pyplot as plt\n",
    "import numpy as np\n",
    "\n",
    "# Constants\n",
    "k = 8.617333262145e-5  # Boltzmann constant in eV/K\n",
    "E_a = 0.5  # Example value for the activation energy in eV\n",
    "p_0 = 1.0  # Example value for p0\n",
    "\n",
    "# Create an array of temperatures from 100 to 1000 K\n",
    "temperatures = np.linspace(100, 1000, 50)\n",
    "\n",
    "# Calculate 1/T\n",
    "inverse_temperatures = 1 / temperatures\n",
    "\n",
    "# Calculate ln(p)\n",
    "ln_p = np.log(p_0) - (E_a / k) * inverse_temperatures\n",
    "\n",
    "# Plotting\n",
    "plt.figure(figsize=(8, 6))\n",
    "plt.plot(inverse_temperatures, ln_p, marker='o', linestyle='-')\n",
    "plt.xlabel('1/T (1/K)')\n",
    "plt.ylabel('ln(p)')\n",
    "plt.title('ln(p) vs 1/T for Hole Concentration')\n",
    "plt.grid(True)\n",
    "plt.show()\n"
   ]
  },
  {
   "cell_type": "code",
   "execution_count": null,
   "id": "f610e7bc",
   "metadata": {},
   "outputs": [],
   "source": []
  }
 ],
 "metadata": {
  "kernelspec": {
   "display_name": "py311",
   "language": "python",
   "name": "python3"
  },
  "language_info": {
   "codemirror_mode": {
    "name": "ipython",
    "version": 3
   },
   "file_extension": ".py",
   "mimetype": "text/x-python",
   "name": "python",
   "nbconvert_exporter": "python",
   "pygments_lexer": "ipython3",
   "version": "3.11.11"
  },
  "toc": {
   "base_numbering": 1,
   "nav_menu": {},
   "number_sections": true,
   "sideBar": false,
   "skip_h1_title": false,
   "title_cell": "Table of Contents",
   "title_sidebar": "Contents",
   "toc_cell": false,
   "toc_position": {
    "height": "783px",
    "left": "260px",
    "top": "67.125px",
    "width": "182px"
   },
   "toc_section_display": true,
   "toc_window_display": true
  }
 },
 "nbformat": 4,
 "nbformat_minor": 5
}
