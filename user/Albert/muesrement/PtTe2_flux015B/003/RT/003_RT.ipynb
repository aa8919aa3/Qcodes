{
 "cells": [
  {
   "cell_type": "markdown",
   "id": "256e0f19",
   "metadata": {},
   "source": [
    "# Initialization"
   ]
  },
  {
   "cell_type": "markdown",
   "id": "9d160fe4",
   "metadata": {},
   "source": [
    "## Inport modules"
   ]
  },
  {
   "cell_type": "code",
   "execution_count": 1,
   "id": "88979d6d",
   "metadata": {},
   "outputs": [
    {
     "name": "stdout",
     "output_type": "stream",
     "text": [
      "Imported all modules, QCoDeS version: 0.39.0 initialized\n"
     ]
    }
   ],
   "source": [
    "%matplotlib ipympl\n",
    "import os, sys\n",
    "import time\n",
    "import pyvisa\n",
    "import warnings\n",
    "import numpy as np\n",
    "import qcodes as qc\n",
    "import plotly.graph_objects as go\n",
    "import matplotlib.pyplot as plt\n",
    "\n",
    "def find_qcodes_local_dir():\n",
    "    dirpath = os.getcwd()\n",
    "    while True:\n",
    "        dirpath, folder_name = os.path.split(dirpath)\n",
    "        if folder_name == 'QCoDeS_local':\n",
    "            return os.path.join(dirpath, folder_name)\n",
    "        if not folder_name:  # Reached the root directory\n",
    "            return None\n",
    "qcodes_local_dir = find_qcodes_local_dir()\n",
    "sys.path.append(f'{qcodes_local_dir}')\n",
    "\n",
    "from tqdm import tqdm\n",
    "from pprint import pprint\n",
    "from time import sleep, monotonic, time\n",
    "from IPython.display import clear_output\n",
    "from qcodes.dataset.measurements import Measurement\n",
    "from qcodes.utils.metadata import diff_param_values\n",
    "from qcodes.dataset.plotting import plot_dataset, plot_by_id\n",
    "from qcodes import Parameter, ManualParameter, ScaledParameter\n",
    "from qcodes.instrument.specialized_parameters import ElapsedTimeParameter\n",
    "from sweeps_v2 import do1d, do2d, time_sweep, measure_until, do1d_until\n",
    "\n",
    "print('Imported all modules, QCoDeS version:', qc.__version__, 'initialized')\n",
    "\n",
    "# warnings.filterwarnings('ignore')"
   ]
  },
  {
   "cell_type": "code",
   "execution_count": 2,
   "id": "399e7806",
   "metadata": {},
   "outputs": [
    {
     "data": {
      "text/plain": [
       "'c:\\\\Users\\\\quant\\\\OneDrive\\\\Documents\\\\GitHub\\\\QCoDeS_local'"
      ]
     },
     "execution_count": 2,
     "metadata": {},
     "output_type": "execute_result"
    }
   ],
   "source": [
    "def find_qcodes_local_dir():\n",
    "    dirpath = os.getcwd()\n",
    "    while True:\n",
    "        dirpath, folder_name = os.path.split(dirpath)\n",
    "        if folder_name == 'QCoDeS_local':\n",
    "            return os.path.join(dirpath, folder_name)\n",
    "        if not folder_name:  # Reached the root directory\n",
    "            return None\n",
    "qcodes_local_dir = find_qcodes_local_dir()\n",
    "qcodes_local_dir"
   ]
  },
  {
   "cell_type": "code",
   "execution_count": 3,
   "id": "cc4a1c10",
   "metadata": {},
   "outputs": [
    {
     "data": {
      "text/plain": [
       "'c:\\\\Users\\\\quant\\\\OneDrive\\\\Documents\\\\GitHub\\\\QCoDeS_local\\\\init_fridge_v3.py'"
      ]
     },
     "execution_count": 3,
     "metadata": {},
     "output_type": "execute_result"
    }
   ],
   "source": [
    "def find_init_fridge_v3_py():\n",
    "    for root, dirs, files in os.walk(qcodes_local_dir):\n",
    "        if 'init_fridge_v2.py' in files:\n",
    "            return os.path.join(root, 'init_fridge_v3.py')\n",
    "    return None\n",
    "\n",
    "init_fridge_v3_py_path = find_init_fridge_v3_py()\n",
    "init_fridge_v3_py_path"
   ]
  },
  {
   "cell_type": "code",
   "execution_count": 4,
   "id": "bb19a743",
   "metadata": {},
   "outputs": [
    {
     "name": "stdout",
     "output_type": "stream",
     "text": [
      "Found init_BF1_v3.py at: c:\\Users\\quant\\OneDrive\\Documents\\GitHub\\QCoDeS_local\\fridge_specific\\init_BF1_v3.py\n",
      "Error connecting to TCPIP0::192.168.1.42::inst0::INSTR: VI_ERROR_RSRC_NFOUND (-1073807343): Insufficient location information or the requested device or resource is not present in the system.\n",
      "Error connecting to TCPIP0::192.168.1.42::inst1::INSTR: VI_ERROR_RSRC_NFOUND (-1073807343): Insufficient location information or the requested device or resource is not present in the system.\n",
      "Error connecting to TCPIP0::192.168.1.6::inst0::INSTR: VI_ERROR_RSRC_NFOUND (-1073807343): Insufficient location information or the requested device or resource is not present in the system.\n",
      "Error connecting to TCPIP0::192.168.1.7::inst0::INSTR: VI_ERROR_RSRC_NFOUND (-1073807343): Insufficient location information or the requested device or resource is not present in the system.\n",
      "Error connecting to TCPIP0::ZNB20-64-101393::inst0::INSTR: VI_ERROR_RSRC_NFOUND (-1073807343): Insufficient location information or the requested device or resource is not present in the system.\n",
      "Error connecting to ASRL1::INSTR: VI_ERROR_TMO (-1073807339): Timeout expired before operation completed.\n",
      "Error connecting to ASRL2::INSTR: VI_ERROR_TMO (-1073807339): Timeout expired before operation completed.\n",
      "Error connecting to ASRL10::INSTR: VI_ERROR_TMO (-1073807339): Timeout expired before operation completed.\n",
      "Device: GPIB0::6::INSTR\n",
      "IDN: KEITHLEY INSTRUMENTS,MODEL DMM6500,04518052,1.7.7b\n",
      "\n",
      "Connected to: KEITHLEY INSTRUMENTS DMM6500 (serial:04518052, firmware:1.7.7b) in 0.02s\n",
      "Added Keithley DMM6500 at GPIB0::6::INSTR to the station.\n",
      "Device: GPIB0::19::INSTR\n",
      "IDN: KEITHLEY INSTRUMENTS INC.,MODEL 2400,0957985,C32   Oct  4 2010 14:20:11/A02  /K/M\n",
      "\n",
      "Connected to: KEITHLEY INSTRUMENTS INC. 2400 (serial:0957985, firmware:C32   Oct  4 2010 14:20:11/A02  /K/M) in 0.03s\n"
     ]
    },
    {
     "name": "stderr",
     "output_type": "stream",
     "text": [
      "[K2400(Keithley2400)] Snapshot: Could not update parameter: volt\n",
      "[K2400(Keithley2400)] Snapshot: Could not update parameter: curr\n",
      "[K2400(Keithley2400)] Snapshot: Could not update parameter: resistance\n",
      "[K2440(Keithley2400)] Snapshot: Could not update parameter: volt\n",
      "[K2440(Keithley2400)] Snapshot: Could not update parameter: curr\n",
      "[K2440(Keithley2400)] Snapshot: Could not update parameter: resistance\n"
     ]
    },
    {
     "name": "stdout",
     "output_type": "stream",
     "text": [
      "Device: GPIB0::22::INSTR\n",
      "IDN: KEITHLEY INSTRUMENTS INC.,MODEL 2440,1225508,C30   Mar 17 2006 09:29:29/A02  /B/A\n",
      "\n",
      "Connected to: KEITHLEY INSTRUMENTS INC. 2440 (serial:1225508, firmware:C30   Mar 17 2006 09:29:29/A02  /B/A) in 0.03s\n",
      "\n",
      "Station list:\n",
      "{'DMM6500': <Keithley_6500: DMM6500>,\n",
      " 'K2400': <Keithley2400: K2400>,\n",
      " 'K2440': <Keithley2400: K2440>}\n"
     ]
    }
   ],
   "source": [
    "fridge_name = 'BF1'\n",
    "%run \"{init_fridge_v3_py_path}\" {fridge_name}"
   ]
  },
  {
   "cell_type": "code",
   "execution_count": 5,
   "id": "c9e134aa",
   "metadata": {},
   "outputs": [
    {
     "name": "stdout",
     "output_type": "stream",
     "text": [
      "{'components': {},\n",
      " 'config': None,\n",
      " 'instruments': {'DMM6500': {'__class__': 'qcodes.instrument_drivers.tektronix.Keithley_6500.Keithley_6500',\n",
      "                             'address': 'GPIB0::6::INSTR',\n",
      "                             'functions': {},\n",
      "                             'label': 'DMM6500',\n",
      "                             'name': 'DMM6500',\n",
      "                             'parameters': {'IDN': {'__class__': 'qcodes.parameters.parameter.Parameter',\n",
      "                                                    'full_name': 'DMM6500_IDN',\n",
      "                                                    'instrument': 'qcodes.instrument_drivers.tektronix.Keithley_6500.Keithley_6500',\n",
      "                                                    'instrument_name': 'DMM6500',\n",
      "                                                    'inter_delay': 0,\n",
      "                                                    'label': 'IDN',\n",
      "                                                    'name': 'IDN',\n",
      "                                                    'post_delay': 0,\n",
      "                                                    'raw_value': {'firmware': '1.7.7b',\n",
      "                                                                  'model': 'DMM6500',\n",
      "                                                                  'serial': '04518052',\n",
      "                                                                  'vendor': 'KEITHLEY '\n",
      "                                                                            'INSTRUMENTS'},\n",
      "                                                    'ts': '2025-04-02 17:40:52',\n",
      "                                                    'unit': '',\n",
      "                                                    'vals': '<Anything>',\n",
      "                                                    'value': {'firmware': '1.7.7b',\n",
      "                                                              'model': 'DMM6500',\n",
      "                                                              'serial': '04518052',\n",
      "                                                              'vendor': 'KEITHLEY '\n",
      "                                                                        'INSTRUMENTS'}},\n",
      "                                            'amplitude': {'__class__': 'qcodes.parameters.parameter.Parameter',\n",
      "                                                          'full_name': 'DMM6500_amplitude',\n",
      "                                                          'instrument': 'qcodes.instrument_drivers.tektronix.Keithley_6500.Keithley_6500',\n",
      "                                                          'instrument_name': 'DMM6500',\n",
      "                                                          'inter_delay': 0,\n",
      "                                                          'label': 'amplitude',\n",
      "                                                          'name': 'amplitude',\n",
      "                                                          'post_delay': 0,\n",
      "                                                          'raw_value': 0.0002984125,\n",
      "                                                          'ts': '2025-04-02 '\n",
      "                                                                '17:40:52',\n",
      "                                                          'unit': 'a.u.',\n",
      "                                                          'value': 0.0002984125},\n",
      "                                            'auto_range_enabled': {'__class__': 'qcodes.parameters.parameter.Parameter',\n",
      "                                                                   'full_name': 'DMM6500_auto_range_enabled',\n",
      "                                                                   'instrument': 'qcodes.instrument_drivers.tektronix.Keithley_6500.Keithley_6500',\n",
      "                                                                   'instrument_name': 'DMM6500',\n",
      "                                                                   'inter_delay': 0,\n",
      "                                                                   'label': 'auto_range_enabled',\n",
      "                                                                   'name': 'auto_range_enabled',\n",
      "                                                                   'post_delay': 0,\n",
      "                                                                   'raw_value': True,\n",
      "                                                                   'ts': '2025-04-02 '\n",
      "                                                                         '17:40:52',\n",
      "                                                                   'unit': '',\n",
      "                                                                   'vals': '<Boolean>',\n",
      "                                                                   'value': True},\n",
      "                                            'averaging_count': {'__class__': 'qcodes.parameters.parameter.Parameter',\n",
      "                                                                'full_name': 'DMM6500_averaging_count',\n",
      "                                                                'instrument': 'qcodes.instrument_drivers.tektronix.Keithley_6500.Keithley_6500',\n",
      "                                                                'instrument_name': 'DMM6500',\n",
      "                                                                'inter_delay': 0,\n",
      "                                                                'label': 'averaging_count',\n",
      "                                                                'name': 'averaging_count',\n",
      "                                                                'post_delay': 0,\n",
      "                                                                'raw_value': 10,\n",
      "                                                                'ts': '2025-04-02 '\n",
      "                                                                      '17:40:52',\n",
      "                                                                'unit': '',\n",
      "                                                                'vals': '<Ints '\n",
      "                                                                        '1<=v<=100>',\n",
      "                                                                'value': 10},\n",
      "                                            'averaging_enabled': {'__class__': 'qcodes.parameters.parameter.Parameter',\n",
      "                                                                  'full_name': 'DMM6500_averaging_enabled',\n",
      "                                                                  'instrument': 'qcodes.instrument_drivers.tektronix.Keithley_6500.Keithley_6500',\n",
      "                                                                  'instrument_name': 'DMM6500',\n",
      "                                                                  'inter_delay': 0,\n",
      "                                                                  'label': 'averaging_enabled',\n",
      "                                                                  'name': 'averaging_enabled',\n",
      "                                                                  'post_delay': 0,\n",
      "                                                                  'raw_value': True,\n",
      "                                                                  'ts': '2025-04-02 '\n",
      "                                                                        '17:40:52',\n",
      "                                                                  'unit': '',\n",
      "                                                                  'vals': '<Boolean>',\n",
      "                                                                  'value': True},\n",
      "                                            'averaging_type': {'__class__': 'qcodes.parameters.parameter.Parameter',\n",
      "                                                               'full_name': 'DMM6500_averaging_type',\n",
      "                                                               'instrument': 'qcodes.instrument_drivers.tektronix.Keithley_6500.Keithley_6500',\n",
      "                                                               'instrument_name': 'DMM6500',\n",
      "                                                               'inter_delay': 0,\n",
      "                                                               'label': 'averaging_type',\n",
      "                                                               'name': 'averaging_type',\n",
      "                                                               'post_delay': 0,\n",
      "                                                               'raw_value': 'repeat',\n",
      "                                                               'ts': '2025-04-02 '\n",
      "                                                                     '17:40:52',\n",
      "                                                               'unit': '',\n",
      "                                                               'vals': '<Enum: '\n",
      "                                                                       \"{'repeat', \"\n",
      "                                                                       \"'moving'}>\",\n",
      "                                                               'value': 'repeat'},\n",
      "                                            'digits': {'__class__': 'qcodes.parameters.parameter.Parameter',\n",
      "                                                       'full_name': 'DMM6500_digits',\n",
      "                                                       'instrument': 'qcodes.instrument_drivers.tektronix.Keithley_6500.Keithley_6500',\n",
      "                                                       'instrument_name': 'DMM6500',\n",
      "                                                       'inter_delay': 0,\n",
      "                                                       'label': 'digits',\n",
      "                                                       'name': 'digits',\n",
      "                                                       'post_delay': 0,\n",
      "                                                       'raw_value': '6',\n",
      "                                                       'ts': '2025-04-02 '\n",
      "                                                             '17:40:52',\n",
      "                                                       'unit': '',\n",
      "                                                       'vals': '<Ints 4<=v<=7>',\n",
      "                                                       'value': 6},\n",
      "                                            'display_backlight': {'__class__': 'qcodes.parameters.parameter.Parameter',\n",
      "                                                                  'full_name': 'DMM6500_display_backlight',\n",
      "                                                                  'instrument': 'qcodes.instrument_drivers.tektronix.Keithley_6500.Keithley_6500',\n",
      "                                                                  'instrument_name': 'DMM6500',\n",
      "                                                                  'inter_delay': 0,\n",
      "                                                                  'label': 'display_backlight',\n",
      "                                                                  'name': 'display_backlight',\n",
      "                                                                  'post_delay': 0,\n",
      "                                                                  'raw_value': 'ON50',\n",
      "                                                                  'ts': '2025-04-02 '\n",
      "                                                                        '17:40:52',\n",
      "                                                                  'unit': '',\n",
      "                                                                  'val_mapping': {'Blackout': 'BLACkout',\n",
      "                                                                                  'Off': 'OFF',\n",
      "                                                                                  'On 100': 'ON100',\n",
      "                                                                                  'On 25': 'ON25',\n",
      "                                                                                  'On 50': 'ON50',\n",
      "                                                                                  'On 75': 'ON75'},\n",
      "                                                                  'vals': '<Enum: '\n",
      "                                                                          \"{'On \"\n",
      "                                                                          \"25', \"\n",
      "                                                                          \"'On \"\n",
      "                                                                          \"100', \"\n",
      "                                                                          \"'Blackout', \"\n",
      "                                                                          \"'On \"\n",
      "                                                                          \"75', \"\n",
      "                                                                          \"'On \"\n",
      "                                                                          \"50', \"\n",
      "                                                                          \"'Off'}>\",\n",
      "                                                                  'value': 'On '\n",
      "                                                                           '50'},\n",
      "                                            'mode': {'__class__': 'qcodes.parameters.parameter.Parameter',\n",
      "                                                     'full_name': 'DMM6500_mode',\n",
      "                                                     'instrument': 'qcodes.instrument_drivers.tektronix.Keithley_6500.Keithley_6500',\n",
      "                                                     'instrument_name': 'DMM6500',\n",
      "                                                     'inter_delay': 0,\n",
      "                                                     'label': 'mode',\n",
      "                                                     'name': 'mode',\n",
      "                                                     'post_delay': 0,\n",
      "                                                     'raw_value': 'VOLT:DC',\n",
      "                                                     'ts': '2025-04-02 '\n",
      "                                                           '17:40:52',\n",
      "                                                     'unit': '',\n",
      "                                                     'val_mapping': {'2w resistance': 'RES',\n",
      "                                                                     '4w resistance': 'FRES',\n",
      "                                                                     'ac current': 'CURR:AC',\n",
      "                                                                     'ac voltage': 'VOLT:AC',\n",
      "                                                                     'dc current': 'CURR:DC',\n",
      "                                                                     'dc voltage': 'VOLT:DC',\n",
      "                                                                     'frequency': 'FREQ',\n",
      "                                                                     'temperature': 'TEMP'},\n",
      "                                                     'vals': \"<Enum: {'ac \"\n",
      "                                                             \"current', 'dc \"\n",
      "                                                             \"current', '2w \"\n",
      "                                                             \"resistance', \"\n",
      "                                                             \"'temperature', \"\n",
      "                                                             \"'frequency', 'ac \"\n",
      "                                                             \"voltage', 'dc \"\n",
      "                                                             \"voltage', '4w \"\n",
      "                                                             \"resistance'}>\",\n",
      "                                                     'value': 'dc voltage'},\n",
      "                                            'nplc': {'__class__': 'qcodes.parameters.parameter.Parameter',\n",
      "                                                     'full_name': 'DMM6500_nplc',\n",
      "                                                     'instrument': 'qcodes.instrument_drivers.tektronix.Keithley_6500.Keithley_6500',\n",
      "                                                     'instrument_name': 'DMM6500',\n",
      "                                                     'inter_delay': 0,\n",
      "                                                     'label': 'nplc',\n",
      "                                                     'name': 'nplc',\n",
      "                                                     'post_delay': 0,\n",
      "                                                     'raw_value': 1.0,\n",
      "                                                     'ts': '2025-04-02 '\n",
      "                                                           '17:40:52',\n",
      "                                                     'unit': '',\n",
      "                                                     'vals': '<Numbers '\n",
      "                                                             '0.01<=v<=10>',\n",
      "                                                     'value': 1.0},\n",
      "                                            'range': {'__class__': 'qcodes.parameters.parameter.Parameter',\n",
      "                                                      'full_name': 'DMM6500_range',\n",
      "                                                      'instrument': 'qcodes.instrument_drivers.tektronix.Keithley_6500.Keithley_6500',\n",
      "                                                      'instrument_name': 'DMM6500',\n",
      "                                                      'inter_delay': 0,\n",
      "                                                      'label': 'range',\n",
      "                                                      'name': 'range',\n",
      "                                                      'post_delay': 0,\n",
      "                                                      'raw_value': 0.1,\n",
      "                                                      'ts': '2025-04-02 '\n",
      "                                                            '17:40:52',\n",
      "                                                      'unit': '',\n",
      "                                                      'vals': '<Numbers>',\n",
      "                                                      'value': 0.1},\n",
      "                                            'timeout': {'__class__': 'qcodes.parameters.parameter.Parameter',\n",
      "                                                        'full_name': 'DMM6500_timeout',\n",
      "                                                        'instrument': 'qcodes.instrument_drivers.tektronix.Keithley_6500.Keithley_6500',\n",
      "                                                        'instrument_name': 'DMM6500',\n",
      "                                                        'inter_delay': 0,\n",
      "                                                        'label': 'timeout',\n",
      "                                                        'name': 'timeout',\n",
      "                                                        'post_delay': 0,\n",
      "                                                        'raw_value': 10.0,\n",
      "                                                        'ts': '2025-04-02 '\n",
      "                                                              '17:40:52',\n",
      "                                                        'unit': 's',\n",
      "                                                        'vals': '<MultiType: '\n",
      "                                                                'Numbers v>=0, '\n",
      "                                                                'Enum: {None}>',\n",
      "                                                        'value': 10.0},\n",
      "                                            'trigger1_delay': {'__class__': 'qcodes.parameters.parameter.Parameter',\n",
      "                                                               'full_name': 'DMM6500_trigger1_delay',\n",
      "                                                               'instrument': 'qcodes.instrument_drivers.tektronix.Keithley_6500.Keithley_6500',\n",
      "                                                               'instrument_name': 'DMM6500',\n",
      "                                                               'inter_delay': 0,\n",
      "                                                               'label': 'trigger1_delay',\n",
      "                                                               'name': 'trigger1_delay',\n",
      "                                                               'post_delay': 0,\n",
      "                                                               'raw_value': '1E-05',\n",
      "                                                               'ts': '2025-04-02 '\n",
      "                                                                     '17:40:52',\n",
      "                                                               'unit': 's',\n",
      "                                                               'vals': '<Numbers '\n",
      "                                                                       '0<=v<=999999.999>',\n",
      "                                                               'value': 1e-05},\n",
      "                                            'trigger1_source': {'__class__': 'qcodes.parameters.parameter.Parameter',\n",
      "                                                                'full_name': 'DMM6500_trigger1_source',\n",
      "                                                                'instrument': 'qcodes.instrument_drivers.tektronix.Keithley_6500.Keithley_6500',\n",
      "                                                                'instrument_name': 'DMM6500',\n",
      "                                                                'inter_delay': 0,\n",
      "                                                                'label': 'trigger1_source',\n",
      "                                                                'name': 'trigger1_source',\n",
      "                                                                'post_delay': 0,\n",
      "                                                                'raw_value': 'NONE',\n",
      "                                                                'ts': '2025-04-02 '\n",
      "                                                                      '17:40:52',\n",
      "                                                                'unit': '',\n",
      "                                                                'val_mapping': {'bus': 'COMM',\n",
      "                                                                                'external': 'EXT',\n",
      "                                                                                'front-panel': 'DISP',\n",
      "                                                                                'immediate': 'NONE',\n",
      "                                                                                'notify1': 'NOT1',\n",
      "                                                                                'notify2': 'NOT2',\n",
      "                                                                                'notify3': 'NOT3',\n",
      "                                                                                'timer1': 'TIM1',\n",
      "                                                                                'timer2': 'TIM2',\n",
      "                                                                                'timer3': 'TIM3',\n",
      "                                                                                'timer4': 'TIM4'},\n",
      "                                                                'vals': '<Enum: '\n",
      "                                                                        \"{'timer4', \"\n",
      "                                                                        \"'timer2', \"\n",
      "                                                                        \"'timer1', \"\n",
      "                                                                        \"'notify1', \"\n",
      "                                                                        \"'front-panel', \"\n",
      "                                                                        \"'notify2', \"\n",
      "                                                                        \"'notify3', \"\n",
      "                                                                        \"'external', \"\n",
      "                                                                        \"'timer3', \"\n",
      "                                                                        \"'immediate', \"\n",
      "                                                                        \"'bus'}>\",\n",
      "                                                                'value': 'immediate'},\n",
      "                                            'trigger2_delay': {'__class__': 'qcodes.parameters.parameter.Parameter',\n",
      "                                                               'full_name': 'DMM6500_trigger2_delay',\n",
      "                                                               'instrument': 'qcodes.instrument_drivers.tektronix.Keithley_6500.Keithley_6500',\n",
      "                                                               'instrument_name': 'DMM6500',\n",
      "                                                               'inter_delay': 0,\n",
      "                                                               'label': 'trigger2_delay',\n",
      "                                                               'name': 'trigger2_delay',\n",
      "                                                               'post_delay': 0,\n",
      "                                                               'raw_value': '1E-05',\n",
      "                                                               'ts': '2025-04-02 '\n",
      "                                                                     '17:40:52',\n",
      "                                                               'unit': 's',\n",
      "                                                               'vals': '<Numbers '\n",
      "                                                                       '0<=v<=999999.999>',\n",
      "                                                               'value': 1e-05},\n",
      "                                            'trigger2_source': {'__class__': 'qcodes.parameters.parameter.Parameter',\n",
      "                                                                'full_name': 'DMM6500_trigger2_source',\n",
      "                                                                'instrument': 'qcodes.instrument_drivers.tektronix.Keithley_6500.Keithley_6500',\n",
      "                                                                'instrument_name': 'DMM6500',\n",
      "                                                                'inter_delay': 0,\n",
      "                                                                'label': 'trigger2_source',\n",
      "                                                                'name': 'trigger2_source',\n",
      "                                                                'post_delay': 0,\n",
      "                                                                'raw_value': 'NONE',\n",
      "                                                                'ts': '2025-04-02 '\n",
      "                                                                      '17:40:52',\n",
      "                                                                'unit': '',\n",
      "                                                                'val_mapping': {'bus': 'COMM',\n",
      "                                                                                'external': 'EXT',\n",
      "                                                                                'front-panel': 'DISP',\n",
      "                                                                                'immediate': 'NONE',\n",
      "                                                                                'notify1': 'NOT1',\n",
      "                                                                                'notify2': 'NOT2',\n",
      "                                                                                'notify3': 'NOT3',\n",
      "                                                                                'timer1': 'TIM1',\n",
      "                                                                                'timer2': 'TIM2',\n",
      "                                                                                'timer3': 'TIM3',\n",
      "                                                                                'timer4': 'TIM4'},\n",
      "                                                                'vals': '<Enum: '\n",
      "                                                                        \"{'timer4', \"\n",
      "                                                                        \"'timer2', \"\n",
      "                                                                        \"'timer1', \"\n",
      "                                                                        \"'notify1', \"\n",
      "                                                                        \"'front-panel', \"\n",
      "                                                                        \"'notify2', \"\n",
      "                                                                        \"'notify3', \"\n",
      "                                                                        \"'external', \"\n",
      "                                                                        \"'timer3', \"\n",
      "                                                                        \"'immediate', \"\n",
      "                                                                        \"'bus'}>\",\n",
      "                                                                'value': 'immediate'},\n",
      "                                            'trigger3_delay': {'__class__': 'qcodes.parameters.parameter.Parameter',\n",
      "                                                               'full_name': 'DMM6500_trigger3_delay',\n",
      "                                                               'instrument': 'qcodes.instrument_drivers.tektronix.Keithley_6500.Keithley_6500',\n",
      "                                                               'instrument_name': 'DMM6500',\n",
      "                                                               'inter_delay': 0,\n",
      "                                                               'label': 'trigger3_delay',\n",
      "                                                               'name': 'trigger3_delay',\n",
      "                                                               'post_delay': 0,\n",
      "                                                               'raw_value': '1E-05',\n",
      "                                                               'ts': '2025-04-02 '\n",
      "                                                                     '17:40:52',\n",
      "                                                               'unit': 's',\n",
      "                                                               'vals': '<Numbers '\n",
      "                                                                       '0<=v<=999999.999>',\n",
      "                                                               'value': 1e-05},\n",
      "                                            'trigger3_source': {'__class__': 'qcodes.parameters.parameter.Parameter',\n",
      "                                                                'full_name': 'DMM6500_trigger3_source',\n",
      "                                                                'instrument': 'qcodes.instrument_drivers.tektronix.Keithley_6500.Keithley_6500',\n",
      "                                                                'instrument_name': 'DMM6500',\n",
      "                                                                'inter_delay': 0,\n",
      "                                                                'label': 'trigger3_source',\n",
      "                                                                'name': 'trigger3_source',\n",
      "                                                                'post_delay': 0,\n",
      "                                                                'raw_value': 'NONE',\n",
      "                                                                'ts': '2025-04-02 '\n",
      "                                                                      '17:40:52',\n",
      "                                                                'unit': '',\n",
      "                                                                'val_mapping': {'bus': 'COMM',\n",
      "                                                                                'external': 'EXT',\n",
      "                                                                                'front-panel': 'DISP',\n",
      "                                                                                'immediate': 'NONE',\n",
      "                                                                                'notify1': 'NOT1',\n",
      "                                                                                'notify2': 'NOT2',\n",
      "                                                                                'notify3': 'NOT3',\n",
      "                                                                                'timer1': 'TIM1',\n",
      "                                                                                'timer2': 'TIM2',\n",
      "                                                                                'timer3': 'TIM3',\n",
      "                                                                                'timer4': 'TIM4'},\n",
      "                                                                'vals': '<Enum: '\n",
      "                                                                        \"{'timer4', \"\n",
      "                                                                        \"'timer2', \"\n",
      "                                                                        \"'timer1', \"\n",
      "                                                                        \"'notify1', \"\n",
      "                                                                        \"'front-panel', \"\n",
      "                                                                        \"'notify2', \"\n",
      "                                                                        \"'notify3', \"\n",
      "                                                                        \"'external', \"\n",
      "                                                                        \"'timer3', \"\n",
      "                                                                        \"'immediate', \"\n",
      "                                                                        \"'bus'}>\",\n",
      "                                                                'value': 'immediate'},\n",
      "                                            'trigger4_delay': {'__class__': 'qcodes.parameters.parameter.Parameter',\n",
      "                                                               'full_name': 'DMM6500_trigger4_delay',\n",
      "                                                               'instrument': 'qcodes.instrument_drivers.tektronix.Keithley_6500.Keithley_6500',\n",
      "                                                               'instrument_name': 'DMM6500',\n",
      "                                                               'inter_delay': 0,\n",
      "                                                               'label': 'trigger4_delay',\n",
      "                                                               'name': 'trigger4_delay',\n",
      "                                                               'post_delay': 0,\n",
      "                                                               'raw_value': '1E-05',\n",
      "                                                               'ts': '2025-04-02 '\n",
      "                                                                     '17:40:52',\n",
      "                                                               'unit': 's',\n",
      "                                                               'vals': '<Numbers '\n",
      "                                                                       '0<=v<=999999.999>',\n",
      "                                                               'value': 1e-05},\n",
      "                                            'trigger4_source': {'__class__': 'qcodes.parameters.parameter.Parameter',\n",
      "                                                                'full_name': 'DMM6500_trigger4_source',\n",
      "                                                                'instrument': 'qcodes.instrument_drivers.tektronix.Keithley_6500.Keithley_6500',\n",
      "                                                                'instrument_name': 'DMM6500',\n",
      "                                                                'inter_delay': 0,\n",
      "                                                                'label': 'trigger4_source',\n",
      "                                                                'name': 'trigger4_source',\n",
      "                                                                'post_delay': 0,\n",
      "                                                                'raw_value': 'NONE',\n",
      "                                                                'ts': '2025-04-02 '\n",
      "                                                                      '17:40:52',\n",
      "                                                                'unit': '',\n",
      "                                                                'val_mapping': {'bus': 'COMM',\n",
      "                                                                                'external': 'EXT',\n",
      "                                                                                'front-panel': 'DISP',\n",
      "                                                                                'immediate': 'NONE',\n",
      "                                                                                'notify1': 'NOT1',\n",
      "                                                                                'notify2': 'NOT2',\n",
      "                                                                                'notify3': 'NOT3',\n",
      "                                                                                'timer1': 'TIM1',\n",
      "                                                                                'timer2': 'TIM2',\n",
      "                                                                                'timer3': 'TIM3',\n",
      "                                                                                'timer4': 'TIM4'},\n",
      "                                                                'vals': '<Enum: '\n",
      "                                                                        \"{'timer4', \"\n",
      "                                                                        \"'timer2', \"\n",
      "                                                                        \"'timer1', \"\n",
      "                                                                        \"'notify1', \"\n",
      "                                                                        \"'front-panel', \"\n",
      "                                                                        \"'notify2', \"\n",
      "                                                                        \"'notify3', \"\n",
      "                                                                        \"'external', \"\n",
      "                                                                        \"'timer3', \"\n",
      "                                                                        \"'immediate', \"\n",
      "                                                                        \"'bus'}>\",\n",
      "                                                                'value': 'immediate'},\n",
      "                                            'trigger_count': {'__class__': 'qcodes.parameters.parameter.Parameter',\n",
      "                                                              'full_name': 'DMM6500_trigger_count',\n",
      "                                                              'instrument': 'qcodes.instrument_drivers.tektronix.Keithley_6500.Keithley_6500',\n",
      "                                                              'instrument_name': 'DMM6500',\n",
      "                                                              'inter_delay': 0,\n",
      "                                                              'label': 'trigger_count',\n",
      "                                                              'name': 'trigger_count',\n",
      "                                                              'post_delay': 0,\n",
      "                                                              'raw_value': '1',\n",
      "                                                              'ts': '2025-04-02 '\n",
      "                                                                    '17:40:52',\n",
      "                                                              'unit': '',\n",
      "                                                              'vals': '<MultiType: '\n",
      "                                                                      'Ints '\n",
      "                                                                      '1<=v<=9999, '\n",
      "                                                                      'Enum: '\n",
      "                                                                      \"{'inf', \"\n",
      "                                                                      \"'maximum', \"\n",
      "                                                                      \"'default', \"\n",
      "                                                                      \"'minimum'}>\",\n",
      "                                                              'value': 1},\n",
      "                                            'trigger_timer': {'__class__': 'qcodes.parameters.parameter.Parameter',\n",
      "                                                              'full_name': 'DMM6500_trigger_timer',\n",
      "                                                              'instrument': 'qcodes.instrument_drivers.tektronix.Keithley_6500.Keithley_6500',\n",
      "                                                              'instrument_name': 'DMM6500',\n",
      "                                                              'inter_delay': 0,\n",
      "                                                              'label': 'trigger_timer',\n",
      "                                                              'name': 'trigger_timer',\n",
      "                                                              'post_delay': 0,\n",
      "                                                              'raw_value': '0',\n",
      "                                                              'ts': '2025-04-02 '\n",
      "                                                                    '17:40:52',\n",
      "                                                              'unit': 's',\n",
      "                                                              'vals': '<Numbers '\n",
      "                                                                      '0<=v<=999999.999>',\n",
      "                                                              'value': 0.0}},\n",
      "                             'read_terminator': '\\n',\n",
      "                             'submodules': {},\n",
      "                             'terminator': '\\n',\n",
      "                             'timeout': 10.0,\n",
      "                             'write_terminator': '\\n'},\n",
      "                 'K2400': {'__class__': 'qcodes.instrument_drivers.Keithley.Keithley_2400.Keithley2400',\n",
      "                           'address': 'GPIB0::19::INSTR',\n",
      "                           'functions': {},\n",
      "                           'label': 'K2400',\n",
      "                           'name': 'K2400',\n",
      "                           'parameters': {'IDN': {'__class__': 'qcodes.parameters.parameter.Parameter',\n",
      "                                                  'full_name': 'K2400_IDN',\n",
      "                                                  'instrument': 'qcodes.instrument_drivers.Keithley.Keithley_2400.Keithley2400',\n",
      "                                                  'instrument_name': 'K2400',\n",
      "                                                  'inter_delay': 0,\n",
      "                                                  'label': 'IDN',\n",
      "                                                  'name': 'IDN',\n",
      "                                                  'post_delay': 0,\n",
      "                                                  'raw_value': {'firmware': 'C32   '\n",
      "                                                                            'Oct  '\n",
      "                                                                            '4 '\n",
      "                                                                            '2010 '\n",
      "                                                                            '14:20:11/A02  '\n",
      "                                                                            '/K/M',\n",
      "                                                                'model': '2400',\n",
      "                                                                'serial': '0957985',\n",
      "                                                                'vendor': 'KEITHLEY '\n",
      "                                                                          'INSTRUMENTS '\n",
      "                                                                          'INC.'},\n",
      "                                                  'ts': '2025-04-02 17:40:52',\n",
      "                                                  'unit': '',\n",
      "                                                  'vals': '<Anything>',\n",
      "                                                  'value': {'firmware': 'C32   '\n",
      "                                                                        'Oct  '\n",
      "                                                                        '4 '\n",
      "                                                                        '2010 '\n",
      "                                                                        '14:20:11/A02  '\n",
      "                                                                        '/K/M',\n",
      "                                                            'model': '2400',\n",
      "                                                            'serial': '0957985',\n",
      "                                                            'vendor': 'KEITHLEY '\n",
      "                                                                      'INSTRUMENTS '\n",
      "                                                                      'INC.'}},\n",
      "                                          'compliancei': {'__class__': 'qcodes.parameters.parameter.Parameter',\n",
      "                                                          'full_name': 'K2400_compliancei',\n",
      "                                                          'instrument': 'qcodes.instrument_drivers.Keithley.Keithley_2400.Keithley2400',\n",
      "                                                          'instrument_name': 'K2400',\n",
      "                                                          'inter_delay': 0,\n",
      "                                                          'label': 'Current '\n",
      "                                                                   'Compliance',\n",
      "                                                          'name': 'compliancei',\n",
      "                                                          'post_delay': 0,\n",
      "                                                          'raw_value': '1.000000E-01',\n",
      "                                                          'ts': '2025-04-02 '\n",
      "                                                                '17:40:52',\n",
      "                                                          'unit': '',\n",
      "                                                          'value': 0.1},\n",
      "                                          'compliancev': {'__class__': 'qcodes.parameters.parameter.Parameter',\n",
      "                                                          'full_name': 'K2400_compliancev',\n",
      "                                                          'instrument': 'qcodes.instrument_drivers.Keithley.Keithley_2400.Keithley2400',\n",
      "                                                          'instrument_name': 'K2400',\n",
      "                                                          'inter_delay': 0,\n",
      "                                                          'label': 'Voltage '\n",
      "                                                                   'Compliance',\n",
      "                                                          'name': 'compliancev',\n",
      "                                                          'post_delay': 0,\n",
      "                                                          'raw_value': '2.100000E+01',\n",
      "                                                          'ts': '2025-04-02 '\n",
      "                                                                '17:40:52',\n",
      "                                                          'unit': '',\n",
      "                                                          'value': 21.0},\n",
      "                                          'curr': {'__class__': 'qcodes.parameters.parameter.Parameter',\n",
      "                                                   'full_name': 'K2400_curr',\n",
      "                                                   'instrument': 'qcodes.instrument_drivers.Keithley.Keithley_2400.Keithley2400',\n",
      "                                                   'instrument_name': 'K2400',\n",
      "                                                   'inter_delay': 0,\n",
      "                                                   'label': 'Current',\n",
      "                                                   'name': 'curr',\n",
      "                                                   'post_delay': 0,\n",
      "                                                   'raw_value': None,\n",
      "                                                   'ts': None,\n",
      "                                                   'unit': 'A',\n",
      "                                                   'value': None},\n",
      "                                          'mode': {'__class__': 'qcodes.parameters.parameter.Parameter',\n",
      "                                                   'full_name': 'K2400_mode',\n",
      "                                                   'instrument': 'qcodes.instrument_drivers.Keithley.Keithley_2400.Keithley2400',\n",
      "                                                   'instrument_name': 'K2400',\n",
      "                                                   'inter_delay': 0,\n",
      "                                                   'label': 'Mode',\n",
      "                                                   'name': 'mode',\n",
      "                                                   'post_delay': 0,\n",
      "                                                   'raw_value': 'VOLT',\n",
      "                                                   'ts': '2025-04-02 17:40:52',\n",
      "                                                   'unit': '',\n",
      "                                                   'vals': \"<Enum: {'VOLT', \"\n",
      "                                                           \"'CURR'}>\",\n",
      "                                                   'value': 'VOLT'},\n",
      "                                          'nplci': {'__class__': 'qcodes.parameters.parameter.Parameter',\n",
      "                                                    'full_name': 'K2400_nplci',\n",
      "                                                    'instrument': 'qcodes.instrument_drivers.Keithley.Keithley_2400.Keithley2400',\n",
      "                                                    'instrument_name': 'K2400',\n",
      "                                                    'inter_delay': 0,\n",
      "                                                    'label': 'Current '\n",
      "                                                             'integration time',\n",
      "                                                    'name': 'nplci',\n",
      "                                                    'post_delay': 0,\n",
      "                                                    'raw_value': '1.00',\n",
      "                                                    'ts': '2025-04-02 17:40:53',\n",
      "                                                    'unit': '',\n",
      "                                                    'value': 1.0},\n",
      "                                          'nplcv': {'__class__': 'qcodes.parameters.parameter.Parameter',\n",
      "                                                    'full_name': 'K2400_nplcv',\n",
      "                                                    'instrument': 'qcodes.instrument_drivers.Keithley.Keithley_2400.Keithley2400',\n",
      "                                                    'instrument_name': 'K2400',\n",
      "                                                    'inter_delay': 0,\n",
      "                                                    'label': 'Voltage '\n",
      "                                                             'integration time',\n",
      "                                                    'name': 'nplcv',\n",
      "                                                    'post_delay': 0,\n",
      "                                                    'raw_value': '1.00',\n",
      "                                                    'ts': '2025-04-02 17:40:53',\n",
      "                                                    'unit': '',\n",
      "                                                    'value': 1.0},\n",
      "                                          'output': {'__class__': 'qcodes.parameters.parameter.Parameter',\n",
      "                                                     'full_name': 'K2400_output',\n",
      "                                                     'instrument': 'qcodes.instrument_drivers.Keithley.Keithley_2400.Keithley2400',\n",
      "                                                     'instrument_name': 'K2400',\n",
      "                                                     'inter_delay': 0,\n",
      "                                                     'label': 'output',\n",
      "                                                     'name': 'output',\n",
      "                                                     'post_delay': 0,\n",
      "                                                     'raw_value': '0',\n",
      "                                                     'ts': '2025-04-02 '\n",
      "                                                           '17:40:53',\n",
      "                                                     'unit': '',\n",
      "                                                     'val_mapping': OrderedDict([('On',\n",
      "                                                                                  '1'),\n",
      "                                                                                 ('ON',\n",
      "                                                                                  '1'),\n",
      "                                                                                 ('on',\n",
      "                                                                                  '1'),\n",
      "                                                                                 ('1',\n",
      "                                                                                  '1'),\n",
      "                                                                                 (True,\n",
      "                                                                                  '1'),\n",
      "                                                                                 ('Off',\n",
      "                                                                                  '0'),\n",
      "                                                                                 ('OFF',\n",
      "                                                                                  '0'),\n",
      "                                                                                 ('off',\n",
      "                                                                                  '0'),\n",
      "                                                                                 ('0',\n",
      "                                                                                  '0'),\n",
      "                                                                                 (False,\n",
      "                                                                                  '0')]),\n",
      "                                                     'vals': '<Enum: {False, '\n",
      "                                                             \"True, '0', 'On', \"\n",
      "                                                             \"'off', '1', \"\n",
      "                                                             \"'ON', 'on', \"\n",
      "                                                             \"'OFF', 'Off'}>\",\n",
      "                                                     'value': False},\n",
      "                                          'rangei': {'__class__': 'qcodes.parameters.parameter.Parameter',\n",
      "                                                     'full_name': 'K2400_rangei',\n",
      "                                                     'instrument': 'qcodes.instrument_drivers.Keithley.Keithley_2400.Keithley2400',\n",
      "                                                     'instrument_name': 'K2400',\n",
      "                                                     'inter_delay': 0,\n",
      "                                                     'label': 'Current range',\n",
      "                                                     'name': 'rangei',\n",
      "                                                     'post_delay': 0,\n",
      "                                                     'raw_value': '1.050000E-04',\n",
      "                                                     'ts': '2025-04-02 '\n",
      "                                                           '17:40:52',\n",
      "                                                     'unit': '',\n",
      "                                                     'value': 0.000105},\n",
      "                                          'rangev': {'__class__': 'qcodes.parameters.parameter.Parameter',\n",
      "                                                     'full_name': 'K2400_rangev',\n",
      "                                                     'instrument': 'qcodes.instrument_drivers.Keithley.Keithley_2400.Keithley2400',\n",
      "                                                     'instrument_name': 'K2400',\n",
      "                                                     'inter_delay': 0,\n",
      "                                                     'label': 'Voltage range',\n",
      "                                                     'name': 'rangev',\n",
      "                                                     'post_delay': 0,\n",
      "                                                     'raw_value': '210.00',\n",
      "                                                     'ts': '2025-04-02 '\n",
      "                                                           '17:40:52',\n",
      "                                                     'unit': '',\n",
      "                                                     'value': 210.0},\n",
      "                                          'resistance': {'__class__': 'qcodes.parameters.parameter.Parameter',\n",
      "                                                         'full_name': 'K2400_resistance',\n",
      "                                                         'instrument': 'qcodes.instrument_drivers.Keithley.Keithley_2400.Keithley2400',\n",
      "                                                         'instrument_name': 'K2400',\n",
      "                                                         'inter_delay': 0,\n",
      "                                                         'label': 'Resistance',\n",
      "                                                         'name': 'resistance',\n",
      "                                                         'post_delay': 0,\n",
      "                                                         'raw_value': None,\n",
      "                                                         'ts': None,\n",
      "                                                         'unit': 'Ohm',\n",
      "                                                         'value': None},\n",
      "                                          'sense': {'__class__': 'qcodes.parameters.parameter.Parameter',\n",
      "                                                    'full_name': 'K2400_sense',\n",
      "                                                    'instrument': 'qcodes.instrument_drivers.Keithley.Keithley_2400.Keithley2400',\n",
      "                                                    'instrument_name': 'K2400',\n",
      "                                                    'inter_delay': 0,\n",
      "                                                    'label': 'Sense mode',\n",
      "                                                    'name': 'sense',\n",
      "                                                    'post_delay': 0,\n",
      "                                                    'raw_value': '\"CURR:DC\"',\n",
      "                                                    'ts': '2025-04-02 17:40:53',\n",
      "                                                    'unit': '',\n",
      "                                                    'vals': '<Strings>',\n",
      "                                                    'value': '\"CURR:DC\"'},\n",
      "                                          'timeout': {'__class__': 'qcodes.parameters.parameter.Parameter',\n",
      "                                                      'full_name': 'K2400_timeout',\n",
      "                                                      'instrument': 'qcodes.instrument_drivers.Keithley.Keithley_2400.Keithley2400',\n",
      "                                                      'instrument_name': 'K2400',\n",
      "                                                      'inter_delay': 0,\n",
      "                                                      'label': 'timeout',\n",
      "                                                      'name': 'timeout',\n",
      "                                                      'post_delay': 0,\n",
      "                                                      'raw_value': 10.0,\n",
      "                                                      'ts': '2025-04-02 '\n",
      "                                                            '17:40:53',\n",
      "                                                      'unit': 's',\n",
      "                                                      'vals': '<MultiType: '\n",
      "                                                              'Numbers v>=0, '\n",
      "                                                              'Enum: {None}>',\n",
      "                                                      'value': 10.0},\n",
      "                                          'volt': {'__class__': 'qcodes.parameters.parameter.Parameter',\n",
      "                                                   'full_name': 'K2400_volt',\n",
      "                                                   'instrument': 'qcodes.instrument_drivers.Keithley.Keithley_2400.Keithley2400',\n",
      "                                                   'instrument_name': 'K2400',\n",
      "                                                   'inter_delay': 0,\n",
      "                                                   'label': 'Voltage',\n",
      "                                                   'name': 'volt',\n",
      "                                                   'post_delay': 0,\n",
      "                                                   'raw_value': None,\n",
      "                                                   'ts': None,\n",
      "                                                   'unit': 'V',\n",
      "                                                   'value': None}},\n",
      "                           'read_terminator': '\\n',\n",
      "                           'submodules': {},\n",
      "                           'terminator': '\\n',\n",
      "                           'timeout': 10.0,\n",
      "                           'write_terminator': '\\n'},\n",
      "                 'K2440': {'__class__': 'qcodes.instrument_drivers.Keithley.Keithley_2400.Keithley2400',\n",
      "                           'address': 'GPIB0::22::INSTR',\n",
      "                           'functions': {},\n",
      "                           'label': 'K2440',\n",
      "                           'name': 'K2440',\n",
      "                           'parameters': {'IDN': {'__class__': 'qcodes.parameters.parameter.Parameter',\n",
      "                                                  'full_name': 'K2440_IDN',\n",
      "                                                  'instrument': 'qcodes.instrument_drivers.Keithley.Keithley_2400.Keithley2400',\n",
      "                                                  'instrument_name': 'K2440',\n",
      "                                                  'inter_delay': 0,\n",
      "                                                  'label': 'IDN',\n",
      "                                                  'name': 'IDN',\n",
      "                                                  'post_delay': 0,\n",
      "                                                  'raw_value': {'firmware': 'C30   '\n",
      "                                                                            'Mar '\n",
      "                                                                            '17 '\n",
      "                                                                            '2006 '\n",
      "                                                                            '09:29:29/A02  '\n",
      "                                                                            '/B/A',\n",
      "                                                                'model': '2440',\n",
      "                                                                'serial': '1225508',\n",
      "                                                                'vendor': 'KEITHLEY '\n",
      "                                                                          'INSTRUMENTS '\n",
      "                                                                          'INC.'},\n",
      "                                                  'ts': '2025-04-02 17:40:53',\n",
      "                                                  'unit': '',\n",
      "                                                  'vals': '<Anything>',\n",
      "                                                  'value': {'firmware': 'C30   '\n",
      "                                                                        'Mar '\n",
      "                                                                        '17 '\n",
      "                                                                        '2006 '\n",
      "                                                                        '09:29:29/A02  '\n",
      "                                                                        '/B/A',\n",
      "                                                            'model': '2440',\n",
      "                                                            'serial': '1225508',\n",
      "                                                            'vendor': 'KEITHLEY '\n",
      "                                                                      'INSTRUMENTS '\n",
      "                                                                      'INC.'}},\n",
      "                                          'compliancei': {'__class__': 'qcodes.parameters.parameter.Parameter',\n",
      "                                                          'full_name': 'K2440_compliancei',\n",
      "                                                          'instrument': 'qcodes.instrument_drivers.Keithley.Keithley_2400.Keithley2400',\n",
      "                                                          'instrument_name': 'K2440',\n",
      "                                                          'inter_delay': 0,\n",
      "                                                          'label': 'Current '\n",
      "                                                                   'Compliance',\n",
      "                                                          'name': 'compliancei',\n",
      "                                                          'post_delay': 0,\n",
      "                                                          'raw_value': '1.000000E-01',\n",
      "                                                          'ts': '2025-04-02 '\n",
      "                                                                '17:40:53',\n",
      "                                                          'unit': '',\n",
      "                                                          'value': 0.1},\n",
      "                                          'compliancev': {'__class__': 'qcodes.parameters.parameter.Parameter',\n",
      "                                                          'full_name': 'K2440_compliancev',\n",
      "                                                          'instrument': 'qcodes.instrument_drivers.Keithley.Keithley_2400.Keithley2400',\n",
      "                                                          'instrument_name': 'K2440',\n",
      "                                                          'inter_delay': 0,\n",
      "                                                          'label': 'Voltage '\n",
      "                                                                   'Compliance',\n",
      "                                                          'name': 'compliancev',\n",
      "                                                          'post_delay': 0,\n",
      "                                                          'raw_value': '1.050000E+01',\n",
      "                                                          'ts': '2025-04-02 '\n",
      "                                                                '17:40:53',\n",
      "                                                          'unit': '',\n",
      "                                                          'value': 10.5},\n",
      "                                          'curr': {'__class__': 'qcodes.parameters.parameter.Parameter',\n",
      "                                                   'full_name': 'K2440_curr',\n",
      "                                                   'instrument': 'qcodes.instrument_drivers.Keithley.Keithley_2400.Keithley2400',\n",
      "                                                   'instrument_name': 'K2440',\n",
      "                                                   'inter_delay': 0,\n",
      "                                                   'label': 'Current',\n",
      "                                                   'name': 'curr',\n",
      "                                                   'post_delay': 0,\n",
      "                                                   'raw_value': None,\n",
      "                                                   'ts': None,\n",
      "                                                   'unit': 'A',\n",
      "                                                   'value': None},\n",
      "                                          'mode': {'__class__': 'qcodes.parameters.parameter.Parameter',\n",
      "                                                   'full_name': 'K2440_mode',\n",
      "                                                   'instrument': 'qcodes.instrument_drivers.Keithley.Keithley_2400.Keithley2400',\n",
      "                                                   'instrument_name': 'K2440',\n",
      "                                                   'inter_delay': 0,\n",
      "                                                   'label': 'Mode',\n",
      "                                                   'name': 'mode',\n",
      "                                                   'post_delay': 0,\n",
      "                                                   'raw_value': 'VOLT',\n",
      "                                                   'ts': '2025-04-02 17:40:53',\n",
      "                                                   'unit': '',\n",
      "                                                   'vals': \"<Enum: {'VOLT', \"\n",
      "                                                           \"'CURR'}>\",\n",
      "                                                   'value': 'VOLT'},\n",
      "                                          'nplci': {'__class__': 'qcodes.parameters.parameter.Parameter',\n",
      "                                                    'full_name': 'K2440_nplci',\n",
      "                                                    'instrument': 'qcodes.instrument_drivers.Keithley.Keithley_2400.Keithley2400',\n",
      "                                                    'instrument_name': 'K2440',\n",
      "                                                    'inter_delay': 0,\n",
      "                                                    'label': 'Current '\n",
      "                                                             'integration time',\n",
      "                                                    'name': 'nplci',\n",
      "                                                    'post_delay': 0,\n",
      "                                                    'raw_value': '1.00',\n",
      "                                                    'ts': '2025-04-02 17:40:53',\n",
      "                                                    'unit': '',\n",
      "                                                    'value': 1.0},\n",
      "                                          'nplcv': {'__class__': 'qcodes.parameters.parameter.Parameter',\n",
      "                                                    'full_name': 'K2440_nplcv',\n",
      "                                                    'instrument': 'qcodes.instrument_drivers.Keithley.Keithley_2400.Keithley2400',\n",
      "                                                    'instrument_name': 'K2440',\n",
      "                                                    'inter_delay': 0,\n",
      "                                                    'label': 'Voltage '\n",
      "                                                             'integration time',\n",
      "                                                    'name': 'nplcv',\n",
      "                                                    'post_delay': 0,\n",
      "                                                    'raw_value': '1.00',\n",
      "                                                    'ts': '2025-04-02 17:40:53',\n",
      "                                                    'unit': '',\n",
      "                                                    'value': 1.0},\n",
      "                                          'output': {'__class__': 'qcodes.parameters.parameter.Parameter',\n",
      "                                                     'full_name': 'K2440_output',\n",
      "                                                     'instrument': 'qcodes.instrument_drivers.Keithley.Keithley_2400.Keithley2400',\n",
      "                                                     'instrument_name': 'K2440',\n",
      "                                                     'inter_delay': 0,\n",
      "                                                     'label': 'output',\n",
      "                                                     'name': 'output',\n",
      "                                                     'post_delay': 0,\n",
      "                                                     'raw_value': '0',\n",
      "                                                     'ts': '2025-04-02 '\n",
      "                                                           '17:40:53',\n",
      "                                                     'unit': '',\n",
      "                                                     'val_mapping': OrderedDict([('On',\n",
      "                                                                                  '1'),\n",
      "                                                                                 ('ON',\n",
      "                                                                                  '1'),\n",
      "                                                                                 ('on',\n",
      "                                                                                  '1'),\n",
      "                                                                                 ('1',\n",
      "                                                                                  '1'),\n",
      "                                                                                 (True,\n",
      "                                                                                  '1'),\n",
      "                                                                                 ('Off',\n",
      "                                                                                  '0'),\n",
      "                                                                                 ('OFF',\n",
      "                                                                                  '0'),\n",
      "                                                                                 ('off',\n",
      "                                                                                  '0'),\n",
      "                                                                                 ('0',\n",
      "                                                                                  '0'),\n",
      "                                                                                 (False,\n",
      "                                                                                  '0')]),\n",
      "                                                     'vals': '<Enum: {False, '\n",
      "                                                             \"True, '0', 'On', \"\n",
      "                                                             \"'off', '1', \"\n",
      "                                                             \"'ON', 'on', \"\n",
      "                                                             \"'OFF', 'Off'}>\",\n",
      "                                                     'value': False},\n",
      "                                          'rangei': {'__class__': 'qcodes.parameters.parameter.Parameter',\n",
      "                                                     'full_name': 'K2440_rangei',\n",
      "                                                     'instrument': 'qcodes.instrument_drivers.Keithley.Keithley_2400.Keithley2400',\n",
      "                                                     'instrument_name': 'K2440',\n",
      "                                                     'inter_delay': 0,\n",
      "                                                     'label': 'Current range',\n",
      "                                                     'name': 'rangei',\n",
      "                                                     'post_delay': 0,\n",
      "                                                     'raw_value': '1.050000E-01',\n",
      "                                                     'ts': '2025-04-02 '\n",
      "                                                           '17:40:53',\n",
      "                                                     'unit': '',\n",
      "                                                     'value': 0.105},\n",
      "                                          'rangev': {'__class__': 'qcodes.parameters.parameter.Parameter',\n",
      "                                                     'full_name': 'K2440_rangev',\n",
      "                                                     'instrument': 'qcodes.instrument_drivers.Keithley.Keithley_2400.Keithley2400',\n",
      "                                                     'instrument_name': 'K2440',\n",
      "                                                     'inter_delay': 0,\n",
      "                                                     'label': 'Voltage range',\n",
      "                                                     'name': 'rangev',\n",
      "                                                     'post_delay': 0,\n",
      "                                                     'raw_value': '10.50',\n",
      "                                                     'ts': '2025-04-02 '\n",
      "                                                           '17:40:53',\n",
      "                                                     'unit': '',\n",
      "                                                     'value': 10.5},\n",
      "                                          'resistance': {'__class__': 'qcodes.parameters.parameter.Parameter',\n",
      "                                                         'full_name': 'K2440_resistance',\n",
      "                                                         'instrument': 'qcodes.instrument_drivers.Keithley.Keithley_2400.Keithley2400',\n",
      "                                                         'instrument_name': 'K2440',\n",
      "                                                         'inter_delay': 0,\n",
      "                                                         'label': 'Resistance',\n",
      "                                                         'name': 'resistance',\n",
      "                                                         'post_delay': 0,\n",
      "                                                         'raw_value': None,\n",
      "                                                         'ts': None,\n",
      "                                                         'unit': 'Ohm',\n",
      "                                                         'value': None},\n",
      "                                          'sense': {'__class__': 'qcodes.parameters.parameter.Parameter',\n",
      "                                                    'full_name': 'K2440_sense',\n",
      "                                                    'instrument': 'qcodes.instrument_drivers.Keithley.Keithley_2400.Keithley2400',\n",
      "                                                    'instrument_name': 'K2440',\n",
      "                                                    'inter_delay': 0,\n",
      "                                                    'label': 'Sense mode',\n",
      "                                                    'name': 'sense',\n",
      "                                                    'post_delay': 0,\n",
      "                                                    'raw_value': '\"CURR:DC\"',\n",
      "                                                    'ts': '2025-04-02 17:40:53',\n",
      "                                                    'unit': '',\n",
      "                                                    'vals': '<Strings>',\n",
      "                                                    'value': '\"CURR:DC\"'},\n",
      "                                          'timeout': {'__class__': 'qcodes.parameters.parameter.Parameter',\n",
      "                                                      'full_name': 'K2440_timeout',\n",
      "                                                      'instrument': 'qcodes.instrument_drivers.Keithley.Keithley_2400.Keithley2400',\n",
      "                                                      'instrument_name': 'K2440',\n",
      "                                                      'inter_delay': 0,\n",
      "                                                      'label': 'timeout',\n",
      "                                                      'name': 'timeout',\n",
      "                                                      'post_delay': 0,\n",
      "                                                      'raw_value': 10.0,\n",
      "                                                      'ts': '2025-04-02 '\n",
      "                                                            '17:40:53',\n",
      "                                                      'unit': 's',\n",
      "                                                      'vals': '<MultiType: '\n",
      "                                                              'Numbers v>=0, '\n",
      "                                                              'Enum: {None}>',\n",
      "                                                      'value': 10.0},\n",
      "                                          'volt': {'__class__': 'qcodes.parameters.parameter.Parameter',\n",
      "                                                   'full_name': 'K2440_volt',\n",
      "                                                   'instrument': 'qcodes.instrument_drivers.Keithley.Keithley_2400.Keithley2400',\n",
      "                                                   'instrument_name': 'K2440',\n",
      "                                                   'inter_delay': 0,\n",
      "                                                   'label': 'Voltage',\n",
      "                                                   'name': 'volt',\n",
      "                                                   'post_delay': 0,\n",
      "                                                   'raw_value': None,\n",
      "                                                   'ts': None,\n",
      "                                                   'unit': 'V',\n",
      "                                                   'value': None}},\n",
      "                           'read_terminator': '\\n',\n",
      "                           'submodules': {},\n",
      "                           'terminator': '\\n',\n",
      "                           'timeout': 10.0,\n",
      "                           'write_terminator': '\\n'}},\n",
      " 'parameters': {}}\n"
     ]
    }
   ],
   "source": [
    "snapshot_of_station = station.snapshot()\n",
    "pprint(snapshot_of_station)"
   ]
  },
  {
   "cell_type": "markdown",
   "id": "4757b159",
   "metadata": {},
   "source": [
    "## Keithley 2440"
   ]
  },
  {
   "cell_type": "markdown",
   "id": "797b994c",
   "metadata": {},
   "source": [
    "### sensitive check"
   ]
  },
  {
   "cell_type": "code",
   "execution_count": 6,
   "id": "f387f69b",
   "metadata": {},
   "outputs": [
    {
     "data": {
      "text/plain": [
       "'VOLT'"
      ]
     },
     "execution_count": 6,
     "metadata": {},
     "output_type": "execute_result"
    }
   ],
   "source": [
    "K2440.mode('VOLT')\n",
    "\n",
    "K2440.mode()"
   ]
  },
  {
   "cell_type": "code",
   "execution_count": 7,
   "id": "09a8a36e",
   "metadata": {},
   "outputs": [
    {
     "name": "stdout",
     "output_type": "stream",
     "text": [
      "0.0003141628\n"
     ]
    }
   ],
   "source": [
    "K2440.output(1) # output on\n",
    "K2440.rangev(10)\n",
    "K2440.volt(0)\n",
    "K2440.compliancei(100e-3)\n",
    "sleep(1)\n",
    "v_read=DMM6500.amplitude()\n",
    "K2440.output(0) #output off\n",
    "print(v_read)"
   ]
  },
  {
   "cell_type": "markdown",
   "id": "105706bc",
   "metadata": {},
   "source": [
    "## TG 2400"
   ]
  },
  {
   "cell_type": "code",
   "execution_count": 18,
   "id": "cdc19f1b",
   "metadata": {},
   "outputs": [
    {
     "name": "stdout",
     "output_type": "stream",
     "text": [
      "6.355754e-05\n"
     ]
    }
   ],
   "source": [
    "K2440.output(1) # output on\n",
    "K2440.rangev(22)\n",
    "K2440.volt(0)\n",
    "K2440.compliancei(100e-3)\n",
    "# K2440.output(0) #output off\n",
    "sleep(1)\n",
    "v_read=DMM6500.amplitude()\n",
    "print(v_read)"
   ]
  },
  {
   "cell_type": "code",
   "execution_count": 19,
   "id": "e971a620",
   "metadata": {},
   "outputs": [],
   "source": [
    "# K2440.volt(1)\n",
    "K2440.output(0) #output off"
   ]
  },
  {
   "cell_type": "code",
   "execution_count": null,
   "id": "e284050c",
   "metadata": {},
   "outputs": [],
   "source": [
    "K2440.rangev(1)\n",
    "K2440.rangev()"
   ]
  },
  {
   "cell_type": "markdown",
   "id": "c676ccb5",
   "metadata": {},
   "source": [
    "#  Database initialisation"
   ]
  },
  {
   "cell_type": "code",
   "execution_count": 8,
   "id": "e09e380a",
   "metadata": {},
   "outputs": [
    {
     "data": {
      "text/plain": [
       "'c:\\\\Users\\\\quant\\\\OneDrive\\\\Documents\\\\GitHub\\\\QCoDeS_local\\\\init_database_v2.py'"
      ]
     },
     "execution_count": 8,
     "metadata": {},
     "output_type": "execute_result"
    }
   ],
   "source": [
    "def find_init_database_v2_py():\n",
    "    for root, dirs, files in os.walk(qcodes_local_dir):\n",
    "        if 'init_database_v2.py' in files:\n",
    "            return os.path.join(root, 'init_database_v2.py')\n",
    "    return None\n",
    "\n",
    "init_database_v2_py_path = find_init_database_v2_py()\n",
    "init_database_v2_py_path"
   ]
  },
  {
   "cell_type": "code",
   "execution_count": 9,
   "id": "7b665bc4",
   "metadata": {},
   "outputs": [
    {
     "name": "stdout",
     "output_type": "stream",
     "text": [
      "Creating a new database file:\n",
      "c:\\Users\\quant\\OneDrive\\Documents\\GitHub\\QCoDeS_local\\personal_scripts\\Albert\\PtTe2_flux015B\\003\\RT\\RT_2025-04-02_01.db\n"
     ]
    }
   ],
   "source": [
    "reuse = False\n",
    "%run \"{init_database_v2_py_path}\" {reuse}"
   ]
  },
  {
   "cell_type": "markdown",
   "id": "6a8a2beb",
   "metadata": {},
   "source": [
    "\n",
    "# Scaled parameters"
   ]
  },
  {
   "cell_type": "code",
   "execution_count": null,
   "id": "e3b44b31",
   "metadata": {},
   "outputs": [],
   "source": []
  },
  {
   "cell_type": "markdown",
   "id": "ea4ff57a",
   "metadata": {},
   "source": [
    "## Defining scaled parameters"
   ]
  },
  {
   "cell_type": "code",
   "execution_count": 10,
   "id": "c8ca5b97",
   "metadata": {},
   "outputs": [
    {
     "data": {
      "text/plain": [
       "'Gain_L2'"
      ]
     },
     "execution_count": 10,
     "metadata": {},
     "output_type": "execute_result"
    }
   ],
   "source": [
    "Irange = Parameter('Irange', label='current range', unit='', set_cmd=None, get_cmd=None)\n",
    "Vrange = Parameter('Vrange', label='voltage range', unit='', set_cmd=None, get_cmd=None)\n",
    "TGrange = Parameter('TGrange', label='Top gate range', unit='', set_cmd=None, get_cmd=None)\n",
    "\n",
    "#division paraemtrs required for simplier update: they used as an argument for scaled paraemtrs of sorce instruments\n",
    "\n",
    "\n",
    "Irange_division = Parameter('Irange_division', \n",
    "                            label='scaled current range', unit='', \n",
    "                            set_cmd=None, get_cmd=lambda : 1 / Irange())\n",
    "\n",
    "Vrange_division = Parameter('Vrange_division', \n",
    "                            label='scaled voltage range', unit='', \n",
    "                            set_cmd=None, get_cmd=lambda : 1 / Vrange())\n",
    "\n",
    "TGrange_division = Parameter('TGrange_division', \n",
    "                             label='scaled Top gate range', unit='', \n",
    "                             set_cmd=None, get_cmd=lambda : 1 / TGrange())\n",
    "\n",
    "Irange_AC_division = Parameter('Irange_AC_division', \n",
    "                               label='scaled current range for lockin', unit='', \n",
    "                               set_cmd=None, get_cmd=lambda : 1 / Irange())\n",
    "\n",
    "Vrange_AC_division = Parameter('Vrange_AC_division', \n",
    "                               label='scaled voltage range for lockin', unit='', \n",
    "                               set_cmd=None, get_cmd=lambda : 1 / Vrange())\n",
    "\n",
    "Gain_K1 = Parameter('Gain_K1', label='Gain K1', unit='', set_cmd=None, get_cmd=None)\n",
    "Gain_K2 = Parameter('Gain_K2', label='Gain K2', unit='', set_cmd=None, get_cmd=None)\n",
    "Gain_L1 = Parameter('Gain_L1', label='Gain L1', unit='', set_cmd=None, get_cmd=None)\n",
    "Gain_L2 = Parameter('Gain_L2', label='Gain L2', unit='', set_cmd=None, get_cmd=None)\n",
    "\n",
    "#Add components\n",
    "station.add_component(Irange)\n",
    "station.add_component(Vrange)\n",
    "station.add_component(TGrange)\n",
    "\n",
    "station.add_component(Irange_division)\n",
    "station.add_component(Vrange_division)\n",
    "station.add_component(TGrange_division)\n",
    "\n",
    "station.add_component(Irange_AC_division)\n",
    "station.add_component(Vrange_AC_division)\n",
    "                             \n",
    "station.add_component(Gain_K1)\n",
    "station.add_component(Gain_K2)\n",
    "station.add_component(Gain_L1)\n",
    "station.add_component(Gain_L2)"
   ]
  },
  {
   "cell_type": "markdown",
   "id": "6d7ecebe",
   "metadata": {},
   "source": [
    "## Parameters - update here during measuerements"
   ]
  },
  {
   "cell_type": "code",
   "execution_count": 11,
   "id": "b0b09fcc",
   "metadata": {},
   "outputs": [],
   "source": [
    "Irange.set(1e-6) #Unit Amp V=IR, 1V= 1e-6 x 1MOhm=1e-7 x 10MOhm\n",
    "Vrange.set(10) ## need to be sync with K213 range #Unit Volt\n",
    "TGrange.set(1) #Unit Volt\n",
    "Gain_K1.set(100)\n",
    "Gain_K2.set(100)\n",
    "# Gain_K3.set(1e2)\n",
    "Gain_L1.set(Gain_K1())\n",
    "Gain_L2.set(Gain_K2())\n",
    "#division parameters are updated automatically"
   ]
  },
  {
   "cell_type": "code",
   "execution_count": null,
   "id": "4b1231bb",
   "metadata": {},
   "outputs": [],
   "source": [
    "lockin_1.sine_outdc"
   ]
  },
  {
   "cell_type": "markdown",
   "id": "cbe7bfa7",
   "metadata": {},
   "source": [
    "## DC parameters"
   ]
  },
  {
   "cell_type": "code",
   "execution_count": 12,
   "id": "6a8c7deb",
   "metadata": {},
   "outputs": [
    {
     "data": {
      "text/plain": [
       "'meas_current_K1'"
      ]
     },
     "execution_count": 12,
     "metadata": {},
     "output_type": "execute_result"
    }
   ],
   "source": [
    "# appl_current = ScaledParameter(lockin_1.sine_outdc, division = Irange_division, name = 'appl_current', unit = 'A')\n",
    "appl_current = ScaledParameter(K2440.volt, division = Irange_division, name = 'appl_current', unit = 'A')\n",
    "\n",
    "#appl_TG = ScaledParameter(K2440.volt, division = TGrange_division, name = 'appl_TG', unit = 'V')\n",
    "\n",
    "meas_voltage_K1 = ScaledParameter(DMM6500.amplitude, division = Gain_K1, name = 'meas_voltage_K1', unit = 'V')\n",
    "# meas_voltage_K2 = ScaledParameter(DMM6500.amplitude, division = Gain_K2, name = 'meas_voltage_K2', unit = 'V')\n",
    "\n",
    "# meas_leakage = ScaledParameter(DMM6500.amplitude, division = Gain_K2, name = 'meas_leakage', unit = 'A')\n",
    "\n",
    "meas_current_K1 = ScaledParameter(DMM6500.amplitude, division = Gain_K1, name = 'meas_current_K1', unit = 'A')\n",
    "# meas_current_K2 = ScaledParameter(DMM6500.amplitude, division = Gain_K2, name = 'meas_current_K2', unit = 'A')\n",
    "\n",
    "station.add_component(appl_current)\n",
    "# station.add_component(appl_voltage)\n",
    "#station.add_component(appl_TG)\n",
    "\n",
    "station.add_component(meas_voltage_K1)\n",
    "# station.add_component(meas_voltage_K2)\n",
    "\n",
    "# station.add_component(meas_leakage)\n",
    "\n",
    "station.add_component(meas_current_K1)\n",
    "# station.add_component(meas_current_K2)"
   ]
  },
  {
   "cell_type": "code",
   "execution_count": 12,
   "id": "3851dc82",
   "metadata": {},
   "outputs": [],
   "source": [
    "K2440.output(0)\n",
    "appl_current(0)\n",
    "sleep(1)\n",
    "# meas_voltage_K2()"
   ]
  },
  {
   "cell_type": "markdown",
   "id": "8d9d6239",
   "metadata": {},
   "source": [
    "## Another useful example: magnet using dac (Janis)"
   ]
  },
  {
   "cell_type": "markdown",
   "id": "92e1f309",
   "metadata": {},
   "source": [
    ">2231.2 G per A => 0.22312 T per A<br>\n",
    "I source 10mA per V => 1e-5 A per 1mV<br>\n",
    "result: 0.22312 T/A * 1e-5 A/mV"
   ]
  },
  {
   "cell_type": "code",
   "execution_count": 21,
   "id": "6b2b657a",
   "metadata": {},
   "outputs": [],
   "source": [
    "# def get_R_from_IV(dataid):\n",
    "#     dataset = qc.load_by_id(dataid)\n",
    "#     voltage = dataset.get_parameter_data()['meas_voltage_K2']['meas_voltage_K2']\n",
    "#     current = dataset.get_parameter_data()['meas_voltage_K2']['appl_current']\n",
    "#     fit_values = np.polyfit(current,voltage,1)\n",
    "    \n",
    "#     return fit_values[0]\n",
    "\n",
    "dataset = qc.load_by_id(1)\n",
    "\n",
    "def get_R_from_IV_2(dataid):\n",
    "    dataset = qc.load_by_id(dataid)\n",
    "    voltage = dataset.get_parameter_data()['meas_voltage_K2']['meas_voltage_K2']\n",
    "    current = dataset.get_parameter_data()['meas_voltage_K2']['appl_current']\n",
    "    fit_values = np.polyfit(current,voltage,1)\n",
    "\n",
    "    return fit_values[0]\n",
    "\n",
    "def get_R_from_IV(dataid):\n",
    "    dataset = qc.load_by_id(dataid)\n",
    "    para_list = dataset.parameters.split(\",\")\n",
    "    voltage = dataset.get_parameter_data()[para_list[1]][para_list[1]]\n",
    "    current = dataset.get_parameter_data()[para_list[1]][para_list[0]]\n",
    "    fit_values = np.polyfit(current,voltage,1)\n",
    "    return fit_values[0]\n",
    "\n",
    "\n",
    "def get_R_from_IV_K2(dataid):\n",
    "    dataset = qc.load_by_id(dataid)\n",
    "    voltage = dataset.get_parameter_data()['meas_voltage_K2']['meas_voltage_K2']\n",
    "    current = dataset.get_parameter_data()['meas_voltage_K2']['appl_current']\n",
    "    fit_values = np.polyfit(current,voltage,1)\n",
    "    return fit_values[0]\n",
    "\n",
    "def autosave_plot_by_id(run_id, save_path):\n",
    "    fig, ax = plt.subplots()\n",
    "    plot_by_id(run_id, axes=ax)\n",
    "    plt.savefig(save_path)\n",
    "    plt.close()\n",
    "\n",
    "def get_detaset_info(dataset=dataset):\n",
    "    run_id = dataset.captured_run_id\n",
    "    exp_name = dataset.exp_name\n",
    "    sample_name = dataset.sample_name\n",
    "    name = dataset.name\n",
    "    description = dataset.description\n",
    "    sample_junction = extract_sample_junction(sample_name)\n",
    "    return run_id, exp_name, sample_name, sample_junction, name, description\n",
    "\n",
    "def extract_sample_junction(sample_name):\n",
    "    \"\"\"Extracts the complete sample junction from the provided sample name.\n",
    "\n",
    "    Args:\n",
    "      sample_name: The name of the sample containing the junction information.\n",
    "\n",
    "    Returns:\n",
    "      The extracted sample junction, or None if not found.\n",
    "    \"\"\"\n",
    "\n",
    "    delimiter = \"_J\"\n",
    "    if delimiter in sample_name:\n",
    "        # +3 to include \"_J\"\n",
    "        return sample_name[:sample_name.find(delimiter) + 3]\n",
    "    else:\n",
    "        return None\n",
    "\n",
    "def IV(run_id=1):\n",
    "    dataset = qc.load_by_id(run_id)\n",
    "    R = get_R_from_IV(run_id)\n",
    "    run_id, exp_name, sample_name, sample_junction, name, description = get_detaset_info(\n",
    "        dataset)\n",
    "    df = dataset.to_pandas_dataframe().reset_index()\n",
    "    para_list = dataset.parameters.split(\",\")\n",
    "\n",
    "    # Create a Plotly trace\n",
    "    trace = go.Scatter(x=df[para_list[0]], y=df[para_list[1]]*1e3, mode='lines', name='Voltage vs. Current')\n",
    "\n",
    "    # Create layout with micro-scale y-axis\n",
    "    layout = go.Layout(title=f'<b>#{run_id} {exp_name}</b> {sample_name}, R_fit={R:.4f} Ω', title_font=dict(size=28),\n",
    "                       xaxis=dict(title=para_list[0], tickfont=dict(size=16),title_font=dict(size=20)),\n",
    "                       yaxis=dict(title=f\"{para_list[1]} mV\", tickfont=dict(size=16),title_font=dict(size=20)), \n",
    "                       width=1080, height=960,\n",
    "                       margin=dict(l=10, r=10, t=50, b=10))\n",
    "\n",
    "    # Create the figure\n",
    "    fig = go.Figure(data=[trace], layout=layout)\n",
    "    \n",
    "    fig.show()\n",
    "\n",
    "def IV_diff(run_id=1):\n",
    "    import numpy as np\n",
    "    import plotly.graph_objs as go\n",
    "    from scipy.signal import find_peaks\n",
    "    dataset = qc.load_by_id(run_id)\n",
    "\n",
    "    df = dataset.to_pandas_dataframe().reset_index()\n",
    "    para_list = dataset.parameters.split(\",\")\n",
    "\n",
    "    current = df[para_list[0]].tolist()\n",
    "    voltage = df[para_list[1]].tolist()\n",
    "\n",
    "    # Compute differential of voltage with respect to current\n",
    "    differential_voltage = np.diff(voltage) / np.diff(current)\n",
    "\n",
    "    # Since the differential will have one less data point, adjust the current data\n",
    "    # to have the same length as the differential data\n",
    "    current = current[:-1]\n",
    "\n",
    "    # Find peaks in the differential signal\n",
    "    peaks, _ = find_peaks(differential_voltage)\n",
    "\n",
    "    # Extract peak current and peak differential voltage values\n",
    "    peak_current = [current[i] for i in peaks]\n",
    "    peak_voltage_diff = [differential_voltage[i] for i in peaks]\n",
    "\n",
    "    # Sort the peaks based on their values\n",
    "    sorted_peak_indices = np.argsort(peak_voltage_diff)[::-1]  # Sort in descending order\n",
    "    top_two_peak_indices = sorted_peak_indices[:2]  # Select the top two indices\n",
    "\n",
    "    # Extract the top two peaks\n",
    "    top_two_peak_current = [peak_current[i] for i in top_two_peak_indices]\n",
    "    top_two_peak_voltage_diff = [peak_voltage_diff[i] for i in top_two_peak_indices]\n",
    "\n",
    "    # Calculate the center points of the top two peaks\n",
    "    center_points = [(top_two_peak_current[i] + top_two_peak_current[i+1]) / 2 for i in range(len(top_two_peak_current) - 1)]\n",
    "\n",
    "    # Calculate the difference between the top two biggest peaks\n",
    "    peak_difference = abs(top_two_peak_current[0] - top_two_peak_current[1])\n",
    "\n",
    "    # Determine the appropriate unit for current\n",
    "    if peak_difference >= 1e-3:\n",
    "        unit = \"mA\"\n",
    "        conversion_factor = 1e3\n",
    "    elif peak_difference >= 1e-6:\n",
    "        unit = \"μA\"\n",
    "        conversion_factor = 1e6\n",
    "    else:\n",
    "        unit = \"nA\"\n",
    "        conversion_factor = 1e9\n",
    "\n",
    "    # Determine the appropriate unit for current\n",
    "    if peak_difference >= 1e-3:\n",
    "        unit = \"mA\"\n",
    "    elif peak_difference >= 1e-6:\n",
    "        unit = \"μA\"\n",
    "    elif peak_difference >= 1e-9:\n",
    "        unit = \"nA\"\n",
    "    else:\n",
    "        unit = \"pA\"\n",
    "\n",
    "    # Create a Plotly trace for the differential\n",
    "    trace_diff = go.Scatter(x=[c * conversion_factor for c in current], y=differential_voltage, mode='lines', name='d(Voltage)/d(Current)')\n",
    "    # Add markers for the top two peaks\n",
    "    trace_top_two_peaks = go.Scatter(x=[p * conversion_factor for p in top_two_peak_current], y=top_two_peak_voltage_diff, mode='markers', marker=dict(color='red'), name='Top Two Peaks')\n",
    "    # Add markers for the center points\n",
    "    trace_center_points = go.Scatter(x=center_points, y=[0]*len(center_points), mode='markers', marker=dict(color='blue', symbol='cross'), name='Center Points')\n",
    "\n",
    "    # Create layout\n",
    "    layout = go.Layout(title=f'Run #{id} I vs. dV/dI',\n",
    "                    xaxis=dict(title=f'Current ({unit})'),\n",
    "                    yaxis=dict(title='d(Voltage)/d(Current)'),\n",
    "                    legend=dict(orientation=\"h\", yanchor=\"top\", y=1.10, xanchor=\"center\", x=0.5),\n",
    "                    width=600, height=600  \n",
    "                    )\n",
    "\n",
    "    # Create the figure\n",
    "    fig = go.Figure(data=[trace_diff, trace_top_two_peaks, trace_center_points], layout=layout)\n",
    "\n",
    "    # Add annotation for the current value of center points\n",
    "    for i, center_point in enumerate(center_points):\n",
    "        fig.add_annotation(\n",
    "            x=center_point * conversion_factor,\n",
    "            y=0, #0.4 * max(differential_voltage),\n",
    "            text=f'Center Point: {center_point * conversion_factor:.3f}{unit} <br> Peak difference: {peak_difference*conversion_factor:.3f} {unit}',\n",
    "            showarrow=True,\n",
    "            arrowhead=2,\n",
    "            arrowsize=1,\n",
    "            arrowwidth=2,\n",
    "            arrowcolor='black',\n",
    "            ax=-100,\n",
    "            ay=-200 - 30 * i\n",
    "        )\n",
    "\n",
    "    # Plot the figure\n",
    "    fig.show()\n",
    "\n",
    "def get_Mag(show=True):\n",
    "    Mag_x = magnet_x.field()\n",
    "    Mag_y = magnet_y.field()\n",
    "    Mag_z = magnet_z.field()\n",
    "    if show:\n",
    "        print(f\"Mag_x: {Mag_x*1e3:.6f} mT\")\n",
    "        print(f\"Mag_y: {Mag_y*1e3:.6f} mT\")\n",
    "        print(f\"Mag_z: {Mag_z*1e3:.6f} mT\")\n",
    "    else: \n",
    "        return Mag_x, Mag_y, Mag_z"
   ]
  },
  {
   "cell_type": "code",
   "execution_count": null,
   "id": "934a7b70",
   "metadata": {},
   "outputs": [],
   "source": [
    "appl_current(0.5e-6)\n",
    "appl_current_AC(10e-9)"
   ]
  },
  {
   "cell_type": "code",
   "execution_count": null,
   "id": "e0040749",
   "metadata": {},
   "outputs": [],
   "source": [
    "df = dataset.to_pandas_dataframe().reset_index()\n",
    "df"
   ]
  },
  {
   "cell_type": "code",
   "execution_count": 19,
   "id": "51169690",
   "metadata": {},
   "outputs": [
    {
     "name": "stdout",
     "output_type": "stream",
     "text": [
      "Imported all modules, QCoDeS version: 0.39.0 initialized\n",
      "找到 1 個 .db 文件:\n",
      "1. c:\\Users\\quant\\OneDrive\\Documents\\GitHub\\QCoDeS_local\\personal_scripts\\Albert\\PtTe2_flux015B\\003\\RT\\RT_2025-04-02_01.db\n",
      "自動選擇唯一的 .db 文件: c:\\Users\\quant\\OneDrive\\Documents\\GitHub\\QCoDeS_local\\personal_scripts\\Albert\\PtTe2_flux015B\\003\\RT\\RT_2025-04-02_01.db\n",
      "初始化數據庫: c:\\Users\\quant\\OneDrive\\Documents\\GitHub\\QCoDeS_local\\personal_scripts\\Albert\\PtTe2_flux015B\\003\\RT\\RT_2025-04-02_01.db\n"
     ]
    }
   ],
   "source": [
    "from Init3 import *"
   ]
  },
  {
   "cell_type": "markdown",
   "id": "885e5c90",
   "metadata": {},
   "source": [
    "# Simple IVs"
   ]
  },
  {
   "cell_type": "markdown",
   "id": "cdb6884c",
   "metadata": {},
   "source": [
    "## IV"
   ]
  },
  {
   "cell_type": "code",
   "execution_count": 18,
   "id": "f6c71fe1",
   "metadata": {},
   "outputs": [],
   "source": [
    "K2440.output(1)\n",
    "DMM6500.averaging_count(5)\n",
    "DMM6500.averaging_enabled(True)\n",
    "DMM6500.averaging_enabled(False)\n",
    "K2440.output(0)"
   ]
  },
  {
   "cell_type": "code",
   "execution_count": 19,
   "id": "88a5c92b",
   "metadata": {},
   "outputs": [],
   "source": [
    "# Set current to 0\n",
    "K2440.output(0)\n",
    "appl_current(0e-6)"
   ]
  },
  {
   "cell_type": "code",
   "execution_count": null,
   "id": "af7949e7",
   "metadata": {},
   "outputs": [],
   "source": [
    "IV(3)"
   ]
  },
  {
   "cell_type": "code",
   "execution_count": 41,
   "id": "38e281a9",
   "metadata": {},
   "outputs": [
    {
     "name": "stdout",
     "output_type": "stream",
     "text": [
      "R = 743.5064\n"
     ]
    },
    {
     "data": {
      "application/vnd.plotly.v1+json": {
       "config": {
        "plotlyServerURL": "https://plot.ly"
       },
       "data": [
        {
         "line": {
          "width": 2
         },
         "marker": {
          "size": 5
         },
         "mode": "lines+markers",
         "name": "I-V",
         "type": "scatter",
         "x": [
          -5e-7,
          -4.9e-7,
          -4.8e-7,
          -4.7e-7,
          -4.6e-7,
          -4.5e-7,
          -4.4e-7,
          -4.3e-7,
          -4.2e-7,
          -4.1e-7,
          -4e-7,
          -3.9e-7,
          -3.8e-7,
          -3.7e-7,
          -3.6e-7,
          -3.5e-7,
          -3.4e-7,
          -3.3e-7,
          -3.2e-7,
          -3.1e-7,
          -3e-7,
          -2.9e-7,
          -2.8e-7,
          -2.7e-7,
          -2.6e-7,
          -2.5e-7,
          -2.4e-7,
          -2.3e-7,
          -2.2e-7,
          -2.1e-7,
          -2e-7,
          -1.9e-7,
          -1.8e-7,
          -1.7e-7,
          -1.6e-7,
          -1.5e-7,
          -1.4e-7,
          -1.3e-7,
          -1.2e-7,
          -1.1e-7,
          -1e-7,
          -9e-8,
          -8e-8,
          -7e-8,
          -6e-8,
          -4.99999999999999e-8,
          -4e-8,
          -3e-8,
          -1.99999999999999e-8,
          -1e-8,
          0,
          1e-8,
          2e-8,
          3e-8,
          4e-8,
          5e-8,
          6.00000000000001e-8,
          7.00000000000001e-8,
          8.00000000000001e-8,
          9e-8,
          1e-7,
          1.1e-7,
          1.2e-7,
          1.3e-7,
          1.4e-7,
          1.5e-7,
          1.6e-7,
          1.7e-7,
          1.8e-7,
          1.9e-7,
          2e-7,
          2.1e-7,
          2.2e-7,
          2.3e-7,
          2.4e-7,
          2.5e-7,
          2.6e-7,
          2.7e-7,
          2.8e-7,
          2.9e-7,
          3e-7,
          3.1e-7,
          3.2e-7,
          3.3e-7,
          3.4e-7,
          3.5e-7,
          3.6e-7,
          3.7e-7,
          3.8e-7,
          3.9e-7,
          4e-7,
          4.1e-7,
          4.2e-7,
          4.3e-7,
          4.4e-7,
          4.5e-7,
          4.6e-7,
          4.7e-7,
          4.8e-7,
          4.9e-7,
          5e-7
         ],
         "y": [
          -0.0003735216,
          -0.0003662359,
          -0.0003586519,
          -0.0003514412,
          -0.0003439524,
          -0.0003364316,
          -0.000329236,
          -0.0003216625,
          -0.0003142505,
          -0.0003067723,
          -0.0002994631,
          -0.0002919921,
          -0.0002845939,
          -0.0002769921,
          -0.0002696539,
          -0.0002621667,
          -0.0002546064,
          -0.0002474064,
          -0.0002398498,
          -0.000232552,
          -0.0002250413,
          -0.0002175605,
          -0.0002102215,
          -0.0002027403,
          -0.0001955373,
          -0.0001879495,
          -0.0001805938,
          -0.0001729093,
          -0.0001658073,
          -0.0001582939,
          -0.0001507571,
          -0.0001434467,
          -0.0001360173,
          -0.0001285636,
          -0.0001209915,
          -0.0001138233,
          -0.0001062523,
          -0.00009880556,
          -0.00009129817,
          -0.00008401068,
          -0.00007660876,
          -0.00006907453,
          -0.00006178418,
          -0.00005418096,
          -0.00004690756,
          -0.00003928669,
          -0.0000319091,
          -0.00002449672,
          -0.00001707521,
          -0.000009739569,
          -0.000002332079,
          0.000005529752,
          0.00001307735,
          0.00002041186,
          0.00002789032,
          0.00003535293,
          0.0000426935,
          0.0000502059,
          0.00005753066,
          0.00006490462,
          0.00007252769,
          0.00007988932,
          0.00008736524,
          0.00009469374,
          0.0001022004,
          0.0001096801,
          0.0001169755,
          0.0001245199,
          0.0001318867,
          0.0001393013,
          0.0001467299,
          0.0001542548,
          0.0001617305,
          0.0001690344,
          0.0001765173,
          0.0001839656,
          0.0001913413,
          0.0001987347,
          0.0002061983,
          0.000213558,
          0.0002210325,
          0.0002285405,
          0.0002360193,
          0.0002433264,
          0.0002508321,
          0.0002582149,
          0.0002656025,
          0.0002729496,
          0.000280431,
          0.0002881223,
          0.0002952568,
          0.000302838,
          0.0003102755,
          0.0003175156,
          0.0003250811,
          0.0003325143,
          0.00034012,
          0.0003472224,
          0.0003549697,
          0.0003621539,
          0.0003696449
         ]
        },
        {
         "line": {
          "width": 2
         },
         "marker": {
          "size": 5
         },
         "mode": "lines+markers",
         "name": "dV/dI",
         "type": "scatter",
         "x": [
          -5e-7,
          -4.9e-7,
          -4.8e-7,
          -4.7e-7,
          -4.6e-7,
          -4.5e-7,
          -4.4e-7,
          -4.3e-7,
          -4.2e-7,
          -4.1e-7,
          -4e-7,
          -3.9e-7,
          -3.8e-7,
          -3.7e-7,
          -3.6e-7,
          -3.5e-7,
          -3.4e-7,
          -3.3e-7,
          -3.2e-7,
          -3.1e-7,
          -3e-7,
          -2.9e-7,
          -2.8e-7,
          -2.7e-7,
          -2.6e-7,
          -2.5e-7,
          -2.4e-7,
          -2.3e-7,
          -2.2e-7,
          -2.1e-7,
          -2e-7,
          -1.9e-7,
          -1.8e-7,
          -1.7e-7,
          -1.6e-7,
          -1.5e-7,
          -1.4e-7,
          -1.3e-7,
          -1.2e-7,
          -1.1e-7,
          -1e-7,
          -9e-8,
          -8e-8,
          -7e-8,
          -6e-8,
          -4.99999999999999e-8,
          -4e-8,
          -3e-8,
          -1.99999999999999e-8,
          -1e-8,
          0,
          1e-8,
          2e-8,
          3e-8,
          4e-8,
          5e-8,
          6.00000000000001e-8,
          7.00000000000001e-8,
          8.00000000000001e-8,
          9e-8,
          1e-7,
          1.1e-7,
          1.2e-7,
          1.3e-7,
          1.4e-7,
          1.5e-7,
          1.6e-7,
          1.7e-7,
          1.8e-7,
          1.9e-7,
          2e-7,
          2.1e-7,
          2.2e-7,
          2.3e-7,
          2.4e-7,
          2.5e-7,
          2.6e-7,
          2.7e-7,
          2.8e-7,
          2.9e-7,
          3e-7,
          3.1e-7,
          3.2e-7,
          3.3e-7,
          3.4e-7,
          3.5e-7,
          3.6e-7,
          3.7e-7,
          3.8e-7,
          3.9e-7,
          4e-7,
          4.1e-7,
          4.2e-7,
          4.3e-7,
          4.4e-7,
          4.5e-7,
          4.6e-7,
          4.7e-7,
          4.8e-7,
          4.9e-7,
          5e-7
         ],
         "y": [
          728.570000000001,
          743.484999999997,
          739.7350000000006,
          734.9750000000022,
          750.4799999999996,
          735.8199999999997,
          738.4549999999999,
          749.2750000000015,
          744.5099999999984,
          739.369999999999,
          739.0100000000002,
          743.460000000001,
          750,
          747,
          741.2699999999986,
          752.3749999999982,
          738.0150000000012,
          737.8300000000036,
          742.7199999999993,
          740.4249999999975,
          749.5749999999989,
          740.9900000000016,
          741.010000000002,
          734.210000000001,
          739.5399999999972,
          747.1749999999975,
          752.0100000000002,
          739.3250000000025,
          730.7700000000004,
          752.5099999999993,
          742.3599999999997,
          736.9899999999998,
          744.1549999999988,
          751.289999999999,
          737.0150000000012,
          736.9599999999991,
          750.8870000000006,
          747.7064999999993,
          739.7440000000006,
          734.4705000000017,
          746.8074999999999,
          741.2289999999998,
          744.6785000000004,
          743.8309999999997,
          744.7134999999957,
          749.9230000000002,
          739.4985000000036,
          741.6944999999964,
          737.8575500000002,
          737.1565500000036,
          763.4660499999999,
          770.4714499999998,
          744.1054000000001,
          740.6485000000001,
          747.0534999999998,
          740.158999999996,
          742.6484999999966,
          741.8580000000002,
          734.9360000000042,
          749.8515000000029,
          749.2350000000001,
          741.8775000000005,
          740.2209999999991,
          741.7579999999989,
          749.3180000000011,
          738.7549999999992,
          741.9900000000007,
          745.5599999999995,
          739.0699999999997,
          742.1599999999999,
          747.6749999999993,
          750.0299999999997,
          738.9800000000005,
          739.340000000001,
          746.5600000000013,
          741.1999999999989,
          738.4549999999981,
          742.8499999999985,
          741.1650000000009,
          741.710000000001,
          749.125,
          749.3399999999983,
          739.2949999999983,
          740.6400000000012,
          744.4249999999993,
          738.5199999999968,
          736.7350000000024,
          741.4249999999993,
          758.6350000000002,
          741.2900000000009,
          735.7849999999999,
          750.9349999999995,
          733.880000000001,
          740.2799999999988,
          749.9349999999995,
          751.9450000000052,
          735.4049999999988,
          742.484999999997,
          746.575000000008,
          733.760000000002,
          749.0999999999979
         ],
         "yaxis": "y2"
        }
       ],
       "layout": {
        "annotations": [
         {
          "font": {
           "size": 10
          },
          "showarrow": false,
          "text": "2025-04-02 18:21 | Duration: 3 sec",
          "x": 0,
          "xanchor": "left",
          "xref": "paper",
          "y": 1,
          "yanchor": "bottom",
          "yref": "paper"
         },
         {
          "font": {
           "size": 10
          },
          "showarrow": false,
          "text": "101 pts           <br>step=1.00e-08",
          "x": 1,
          "xanchor": "right",
          "xref": "paper",
          "y": -0.03,
          "yanchor": "top",
          "yref": "paper"
         }
        ],
        "height": 800,
        "legend": {
         "orientation": "h",
         "x": 0.5,
         "xanchor": "center",
         "xref": "paper",
         "y": 1,
         "yanchor": "bottom",
         "yref": "paper"
        },
        "template": {
         "data": {
          "bar": [
           {
            "error_x": {
             "color": "#2a3f5f"
            },
            "error_y": {
             "color": "#2a3f5f"
            },
            "marker": {
             "line": {
              "color": "white",
              "width": 0.5
             },
             "pattern": {
              "fillmode": "overlay",
              "size": 10,
              "solidity": 0.2
             }
            },
            "type": "bar"
           }
          ],
          "barpolar": [
           {
            "marker": {
             "line": {
              "color": "white",
              "width": 0.5
             },
             "pattern": {
              "fillmode": "overlay",
              "size": 10,
              "solidity": 0.2
             }
            },
            "type": "barpolar"
           }
          ],
          "carpet": [
           {
            "aaxis": {
             "endlinecolor": "#2a3f5f",
             "gridcolor": "#C8D4E3",
             "linecolor": "#C8D4E3",
             "minorgridcolor": "#C8D4E3",
             "startlinecolor": "#2a3f5f"
            },
            "baxis": {
             "endlinecolor": "#2a3f5f",
             "gridcolor": "#C8D4E3",
             "linecolor": "#C8D4E3",
             "minorgridcolor": "#C8D4E3",
             "startlinecolor": "#2a3f5f"
            },
            "type": "carpet"
           }
          ],
          "choropleth": [
           {
            "colorbar": {
             "outlinewidth": 0,
             "ticks": ""
            },
            "type": "choropleth"
           }
          ],
          "contour": [
           {
            "colorbar": {
             "outlinewidth": 0,
             "ticks": ""
            },
            "colorscale": [
             [
              0,
              "#0d0887"
             ],
             [
              0.1111111111111111,
              "#46039f"
             ],
             [
              0.2222222222222222,
              "#7201a8"
             ],
             [
              0.3333333333333333,
              "#9c179e"
             ],
             [
              0.4444444444444444,
              "#bd3786"
             ],
             [
              0.5555555555555556,
              "#d8576b"
             ],
             [
              0.6666666666666666,
              "#ed7953"
             ],
             [
              0.7777777777777778,
              "#fb9f3a"
             ],
             [
              0.8888888888888888,
              "#fdca26"
             ],
             [
              1,
              "#f0f921"
             ]
            ],
            "type": "contour"
           }
          ],
          "contourcarpet": [
           {
            "colorbar": {
             "outlinewidth": 0,
             "ticks": ""
            },
            "type": "contourcarpet"
           }
          ],
          "heatmap": [
           {
            "colorbar": {
             "outlinewidth": 0,
             "ticks": ""
            },
            "colorscale": [
             [
              0,
              "#0d0887"
             ],
             [
              0.1111111111111111,
              "#46039f"
             ],
             [
              0.2222222222222222,
              "#7201a8"
             ],
             [
              0.3333333333333333,
              "#9c179e"
             ],
             [
              0.4444444444444444,
              "#bd3786"
             ],
             [
              0.5555555555555556,
              "#d8576b"
             ],
             [
              0.6666666666666666,
              "#ed7953"
             ],
             [
              0.7777777777777778,
              "#fb9f3a"
             ],
             [
              0.8888888888888888,
              "#fdca26"
             ],
             [
              1,
              "#f0f921"
             ]
            ],
            "type": "heatmap"
           }
          ],
          "heatmapgl": [
           {
            "colorbar": {
             "outlinewidth": 0,
             "ticks": ""
            },
            "colorscale": [
             [
              0,
              "#0d0887"
             ],
             [
              0.1111111111111111,
              "#46039f"
             ],
             [
              0.2222222222222222,
              "#7201a8"
             ],
             [
              0.3333333333333333,
              "#9c179e"
             ],
             [
              0.4444444444444444,
              "#bd3786"
             ],
             [
              0.5555555555555556,
              "#d8576b"
             ],
             [
              0.6666666666666666,
              "#ed7953"
             ],
             [
              0.7777777777777778,
              "#fb9f3a"
             ],
             [
              0.8888888888888888,
              "#fdca26"
             ],
             [
              1,
              "#f0f921"
             ]
            ],
            "type": "heatmapgl"
           }
          ],
          "histogram": [
           {
            "marker": {
             "pattern": {
              "fillmode": "overlay",
              "size": 10,
              "solidity": 0.2
             }
            },
            "type": "histogram"
           }
          ],
          "histogram2d": [
           {
            "colorbar": {
             "outlinewidth": 0,
             "ticks": ""
            },
            "colorscale": [
             [
              0,
              "#0d0887"
             ],
             [
              0.1111111111111111,
              "#46039f"
             ],
             [
              0.2222222222222222,
              "#7201a8"
             ],
             [
              0.3333333333333333,
              "#9c179e"
             ],
             [
              0.4444444444444444,
              "#bd3786"
             ],
             [
              0.5555555555555556,
              "#d8576b"
             ],
             [
              0.6666666666666666,
              "#ed7953"
             ],
             [
              0.7777777777777778,
              "#fb9f3a"
             ],
             [
              0.8888888888888888,
              "#fdca26"
             ],
             [
              1,
              "#f0f921"
             ]
            ],
            "type": "histogram2d"
           }
          ],
          "histogram2dcontour": [
           {
            "colorbar": {
             "outlinewidth": 0,
             "ticks": ""
            },
            "colorscale": [
             [
              0,
              "#0d0887"
             ],
             [
              0.1111111111111111,
              "#46039f"
             ],
             [
              0.2222222222222222,
              "#7201a8"
             ],
             [
              0.3333333333333333,
              "#9c179e"
             ],
             [
              0.4444444444444444,
              "#bd3786"
             ],
             [
              0.5555555555555556,
              "#d8576b"
             ],
             [
              0.6666666666666666,
              "#ed7953"
             ],
             [
              0.7777777777777778,
              "#fb9f3a"
             ],
             [
              0.8888888888888888,
              "#fdca26"
             ],
             [
              1,
              "#f0f921"
             ]
            ],
            "type": "histogram2dcontour"
           }
          ],
          "mesh3d": [
           {
            "colorbar": {
             "outlinewidth": 0,
             "ticks": ""
            },
            "type": "mesh3d"
           }
          ],
          "parcoords": [
           {
            "line": {
             "colorbar": {
              "outlinewidth": 0,
              "ticks": ""
             }
            },
            "type": "parcoords"
           }
          ],
          "pie": [
           {
            "automargin": true,
            "type": "pie"
           }
          ],
          "scatter": [
           {
            "fillpattern": {
             "fillmode": "overlay",
             "size": 10,
             "solidity": 0.2
            },
            "type": "scatter"
           }
          ],
          "scatter3d": [
           {
            "line": {
             "colorbar": {
              "outlinewidth": 0,
              "ticks": ""
             }
            },
            "marker": {
             "colorbar": {
              "outlinewidth": 0,
              "ticks": ""
             }
            },
            "type": "scatter3d"
           }
          ],
          "scattercarpet": [
           {
            "marker": {
             "colorbar": {
              "outlinewidth": 0,
              "ticks": ""
             }
            },
            "type": "scattercarpet"
           }
          ],
          "scattergeo": [
           {
            "marker": {
             "colorbar": {
              "outlinewidth": 0,
              "ticks": ""
             }
            },
            "type": "scattergeo"
           }
          ],
          "scattergl": [
           {
            "marker": {
             "colorbar": {
              "outlinewidth": 0,
              "ticks": ""
             }
            },
            "type": "scattergl"
           }
          ],
          "scattermapbox": [
           {
            "marker": {
             "colorbar": {
              "outlinewidth": 0,
              "ticks": ""
             }
            },
            "type": "scattermapbox"
           }
          ],
          "scatterpolar": [
           {
            "marker": {
             "colorbar": {
              "outlinewidth": 0,
              "ticks": ""
             }
            },
            "type": "scatterpolar"
           }
          ],
          "scatterpolargl": [
           {
            "marker": {
             "colorbar": {
              "outlinewidth": 0,
              "ticks": ""
             }
            },
            "type": "scatterpolargl"
           }
          ],
          "scatterternary": [
           {
            "marker": {
             "colorbar": {
              "outlinewidth": 0,
              "ticks": ""
             }
            },
            "type": "scatterternary"
           }
          ],
          "surface": [
           {
            "colorbar": {
             "outlinewidth": 0,
             "ticks": ""
            },
            "colorscale": [
             [
              0,
              "#0d0887"
             ],
             [
              0.1111111111111111,
              "#46039f"
             ],
             [
              0.2222222222222222,
              "#7201a8"
             ],
             [
              0.3333333333333333,
              "#9c179e"
             ],
             [
              0.4444444444444444,
              "#bd3786"
             ],
             [
              0.5555555555555556,
              "#d8576b"
             ],
             [
              0.6666666666666666,
              "#ed7953"
             ],
             [
              0.7777777777777778,
              "#fb9f3a"
             ],
             [
              0.8888888888888888,
              "#fdca26"
             ],
             [
              1,
              "#f0f921"
             ]
            ],
            "type": "surface"
           }
          ],
          "table": [
           {
            "cells": {
             "fill": {
              "color": "#EBF0F8"
             },
             "line": {
              "color": "white"
             }
            },
            "header": {
             "fill": {
              "color": "#C8D4E3"
             },
             "line": {
              "color": "white"
             }
            },
            "type": "table"
           }
          ]
         },
         "layout": {
          "annotationdefaults": {
           "arrowcolor": "#2a3f5f",
           "arrowhead": 0,
           "arrowwidth": 1
          },
          "autotypenumbers": "strict",
          "coloraxis": {
           "colorbar": {
            "outlinewidth": 0,
            "ticks": ""
           }
          },
          "colorscale": {
           "diverging": [
            [
             0,
             "#8e0152"
            ],
            [
             0.1,
             "#c51b7d"
            ],
            [
             0.2,
             "#de77ae"
            ],
            [
             0.3,
             "#f1b6da"
            ],
            [
             0.4,
             "#fde0ef"
            ],
            [
             0.5,
             "#f7f7f7"
            ],
            [
             0.6,
             "#e6f5d0"
            ],
            [
             0.7,
             "#b8e186"
            ],
            [
             0.8,
             "#7fbc41"
            ],
            [
             0.9,
             "#4d9221"
            ],
            [
             1,
             "#276419"
            ]
           ],
           "sequential": [
            [
             0,
             "#0d0887"
            ],
            [
             0.1111111111111111,
             "#46039f"
            ],
            [
             0.2222222222222222,
             "#7201a8"
            ],
            [
             0.3333333333333333,
             "#9c179e"
            ],
            [
             0.4444444444444444,
             "#bd3786"
            ],
            [
             0.5555555555555556,
             "#d8576b"
            ],
            [
             0.6666666666666666,
             "#ed7953"
            ],
            [
             0.7777777777777778,
             "#fb9f3a"
            ],
            [
             0.8888888888888888,
             "#fdca26"
            ],
            [
             1,
             "#f0f921"
            ]
           ],
           "sequentialminus": [
            [
             0,
             "#0d0887"
            ],
            [
             0.1111111111111111,
             "#46039f"
            ],
            [
             0.2222222222222222,
             "#7201a8"
            ],
            [
             0.3333333333333333,
             "#9c179e"
            ],
            [
             0.4444444444444444,
             "#bd3786"
            ],
            [
             0.5555555555555556,
             "#d8576b"
            ],
            [
             0.6666666666666666,
             "#ed7953"
            ],
            [
             0.7777777777777778,
             "#fb9f3a"
            ],
            [
             0.8888888888888888,
             "#fdca26"
            ],
            [
             1,
             "#f0f921"
            ]
           ]
          },
          "colorway": [
           "#636efa",
           "#EF553B",
           "#00cc96",
           "#ab63fa",
           "#FFA15A",
           "#19d3f3",
           "#FF6692",
           "#B6E880",
           "#FF97FF",
           "#FECB52"
          ],
          "font": {
           "color": "#2a3f5f"
          },
          "geo": {
           "bgcolor": "white",
           "lakecolor": "white",
           "landcolor": "white",
           "showlakes": true,
           "showland": true,
           "subunitcolor": "#C8D4E3"
          },
          "hoverlabel": {
           "align": "left"
          },
          "hovermode": "closest",
          "mapbox": {
           "style": "light"
          },
          "paper_bgcolor": "white",
          "plot_bgcolor": "white",
          "polar": {
           "angularaxis": {
            "gridcolor": "#EBF0F8",
            "linecolor": "#EBF0F8",
            "ticks": ""
           },
           "bgcolor": "white",
           "radialaxis": {
            "gridcolor": "#EBF0F8",
            "linecolor": "#EBF0F8",
            "ticks": ""
           }
          },
          "scene": {
           "xaxis": {
            "backgroundcolor": "white",
            "gridcolor": "#DFE8F3",
            "gridwidth": 2,
            "linecolor": "#EBF0F8",
            "showbackground": true,
            "ticks": "",
            "zerolinecolor": "#EBF0F8"
           },
           "yaxis": {
            "backgroundcolor": "white",
            "gridcolor": "#DFE8F3",
            "gridwidth": 2,
            "linecolor": "#EBF0F8",
            "showbackground": true,
            "ticks": "",
            "zerolinecolor": "#EBF0F8"
           },
           "zaxis": {
            "backgroundcolor": "white",
            "gridcolor": "#DFE8F3",
            "gridwidth": 2,
            "linecolor": "#EBF0F8",
            "showbackground": true,
            "ticks": "",
            "zerolinecolor": "#EBF0F8"
           }
          },
          "shapedefaults": {
           "line": {
            "color": "#2a3f5f"
           }
          },
          "ternary": {
           "aaxis": {
            "gridcolor": "#DFE8F3",
            "linecolor": "#A2B1C6",
            "ticks": ""
           },
           "baxis": {
            "gridcolor": "#DFE8F3",
            "linecolor": "#A2B1C6",
            "ticks": ""
           },
           "bgcolor": "white",
           "caxis": {
            "gridcolor": "#DFE8F3",
            "linecolor": "#A2B1C6",
            "ticks": ""
           }
          },
          "title": {
           "x": 0.05
          },
          "xaxis": {
           "automargin": true,
           "gridcolor": "#EBF0F8",
           "linecolor": "#EBF0F8",
           "ticks": "",
           "title": {
            "standoff": 15
           },
           "zerolinecolor": "#EBF0F8",
           "zerolinewidth": 2
          },
          "yaxis": {
           "automargin": true,
           "gridcolor": "#EBF0F8",
           "linecolor": "#EBF0F8",
           "ticks": "",
           "title": {
            "standoff": 15
           },
           "zerolinecolor": "#EBF0F8",
           "zerolinewidth": 2
          }
         }
        },
        "title": {
         "text": "<b>#20|IV|</b>004-03_08-07-47-48|R<sub>fit</sub>: 743.5064 Ω"
        },
        "width": 800,
        "xaxis": {
         "title": {
          "text": "appl_current (A)"
         }
        },
        "yaxis": {
         "title": {
          "text": "meas_voltage_K1 (V)"
         }
        },
        "yaxis2": {
         "overlaying": "y",
         "side": "right",
         "title": {
          "text": "dV_dI (Ω)"
         }
        }
       }
      }
     },
     "metadata": {},
     "output_type": "display_data"
    }
   ],
   "source": [
    "I = 0.5e-6\n",
    "# I = 10e-9\n",
    "appl_current(-I)\n",
    "K2440.output(1)\n",
    "sleep(1)\n",
    "\n",
    "exp = qc.new_experiment('IV', sample_name='004-03_08-07-47-48')\n",
    "# exp = qc.new_experiment('IV', sample_name=f'002-01_20-21-31-32@({Mag_x*1e3:.2f},{Mag_y*1e3:.2f},{Mag_z*1e3:.2f})mT')\n",
    "\n",
    "dataid = do1d(appl_current, -I, I, 101, 0.01,meas_voltage_K1,)\n",
    "# dataid = do1d(appl_current, 6e-6 , -6e-6, 251, 0.01, meas_voltage_K1)\n",
    "\n",
    "appl_current(0)\n",
    "K2440.output(0)\n",
    "fig = plot_combined_iv_dvdi(dataid)\n",
    "clear_output(wait=True)\n",
    "print(f\"R = {get_R_from_IV(dataid):.4f}\")\n",
    "fig"
   ]
  },
  {
   "cell_type": "code",
   "execution_count": 28,
   "id": "d5cc1a43",
   "metadata": {},
   "outputs": [
    {
     "name": "stdout",
     "output_type": "stream",
     "text": [
      "R = 561.7934\n"
     ]
    }
   ],
   "source": [
    "print(f\"R = {get_R_from_IV(dataid):.4f}\")"
   ]
  },
  {
   "cell_type": "code",
   "execution_count": null,
   "id": "94d8b3fa",
   "metadata": {},
   "outputs": [
    {
     "name": "stdout",
     "output_type": "stream",
     "text": [
      "Starting experimental run with id: 17. \n"
     ]
    },
    {
     "name": "stderr",
     "output_type": "stream",
     "text": [
      "100%|██████████| 101/101 [00:05<00:00, 18.31it/s]\n",
      "Trying to mark a run completed that was already completed.\n"
     ]
    },
    {
     "name": "stdout",
     "output_type": "stream",
     "text": [
      "R = 925875.0280489224\n"
     ]
    },
    {
     "data": {
      "application/vnd.plotly.v1+json": {
       "config": {
        "plotlyServerURL": "https://plot.ly"
       },
       "data": [
        {
         "mode": "lines",
         "name": "Voltage vs. Current",
         "type": "scatter",
         "x": [
          -1e-7,
          -9.8e-8,
          -9.6e-8,
          -9.4e-8,
          -9.2e-8,
          -9e-8,
          -8.8e-8,
          -8.6e-8,
          -8.4e-8,
          -8.2e-8,
          -8e-8,
          -7.8e-8,
          -7.6e-8,
          -7.4e-8,
          -7.2e-8,
          -7e-8,
          -6.8e-8,
          -6.6e-8,
          -6.4e-8,
          -6.2e-8,
          -6e-8,
          -5.8e-8,
          -5.6e-8,
          -5.4e-8,
          -5.2e-8,
          -5e-8,
          -4.8e-8,
          -4.6e-8,
          -4.4e-8,
          -4.2e-8,
          -4e-8,
          -3.8e-8,
          -3.6e-8,
          -3.4e-8,
          -3.2e-8,
          -3e-8,
          -2.8e-8,
          -2.6e-8,
          -2.4e-8,
          -2.2e-8,
          -2e-8,
          -1.8e-8,
          -1.6e-8,
          -1.4e-8,
          -1.2e-8,
          -1e-8,
          -8.00000000000001e-9,
          -6.00000000000001e-9,
          -4.00000000000001e-9,
          -2e-9,
          -1.32348898008484e-23,
          1.99999999999999e-9,
          3.99999999999998e-9,
          5.99999999999999e-9,
          7.99999999999999e-9,
          9.99999999999998e-9,
          1.2e-8,
          1.4e-8,
          1.6e-8,
          1.8e-8,
          2e-8,
          2.2e-8,
          2.4e-8,
          2.6e-8,
          2.8e-8,
          3e-8,
          3.2e-8,
          3.4e-8,
          3.6e-8,
          3.8e-8,
          4e-8,
          4.2e-8,
          4.4e-8,
          4.6e-8,
          4.8e-8,
          5e-8,
          5.2e-8,
          5.4e-8,
          5.6e-8,
          5.8e-8,
          6e-8,
          6.2e-8,
          6.4e-8,
          6.6e-8,
          6.8e-8,
          7e-8,
          7.2e-8,
          7.4e-8,
          7.6e-8,
          7.8e-8,
          8e-8,
          8.2e-8,
          8.4e-8,
          8.6e-8,
          8.8e-8,
          9e-8,
          9.2e-8,
          9.4e-8,
          9.6e-8,
          9.8e-8,
          1e-7
         ],
         "y": [
          -92.74235999999999,
          -91.24067,
          -89.41663,
          -87.62888000000001,
          -85.70816,
          -83.83653000000001,
          -82.01385,
          -80.18381,
          -78.37986,
          -76.56192,
          -74.74323,
          -72.80792,
          -70.93853,
          -69.24867,
          -67.31711,
          -65.48663,
          -63.67317,
          -61.8355,
          -59.90801,
          -58.06291,
          -56.235079999999996,
          -54.54954,
          -52.58791,
          -50.771679999999996,
          -48.960480000000004,
          -47.033449999999995,
          -45.16131,
          -43.32951,
          -41.52982,
          -39.70663,
          -37.87903,
          -36.053689999999996,
          -34.10037,
          -32.265,
          -30.50496,
          -28.63436,
          -26.81021,
          -24.99258,
          -23.16706,
          -21.35438,
          -19.39501,
          -17.564329999999998,
          -15.716589999999998,
          -13.93776,
          -12.09958,
          -10.06721,
          -8.318413999999999,
          -6.477153,
          -4.666118,
          -2.8544820000000004,
          -0.8173917,
          1.4448919999999998,
          3.36749,
          5.172175999999999,
          6.9399370000000005,
          8.801525,
          10.76036,
          12.80714,
          14.434479999999999,
          16.24371,
          18.0682,
          19.89551,
          21.72407,
          23.67269,
          25.499850000000002,
          27.31866,
          29.148770000000003,
          30.98478,
          32.792,
          34.4969,
          36.54045,
          38.38749000000001,
          40.228300000000004,
          42.026939999999996,
          43.85172,
          45.678290000000004,
          47.49849,
          49.461940000000006,
          51.205059999999996,
          53.10735,
          54.93271,
          56.751780000000004,
          58.58937,
          60.3951,
          62.334390000000006,
          64.19486,
          65.90293999999999,
          67.84051000000001,
          69.6511,
          71.46867,
          73.26351000000001,
          75.23996,
          77.09436,
          78.90792,
          80.72278,
          82.45912,
          84.34864,
          86.19703,
          88.13018,
          89.96558,
          91.79598
         ]
        }
       ],
       "layout": {
        "height": 960,
        "margin": {
         "b": 10,
         "l": 10,
         "r": 10,
         "t": 50
        },
        "template": {
         "data": {
          "bar": [
           {
            "error_x": {
             "color": "#2a3f5f"
            },
            "error_y": {
             "color": "#2a3f5f"
            },
            "marker": {
             "line": {
              "color": "#E5ECF6",
              "width": 0.5
             },
             "pattern": {
              "fillmode": "overlay",
              "size": 10,
              "solidity": 0.2
             }
            },
            "type": "bar"
           }
          ],
          "barpolar": [
           {
            "marker": {
             "line": {
              "color": "#E5ECF6",
              "width": 0.5
             },
             "pattern": {
              "fillmode": "overlay",
              "size": 10,
              "solidity": 0.2
             }
            },
            "type": "barpolar"
           }
          ],
          "carpet": [
           {
            "aaxis": {
             "endlinecolor": "#2a3f5f",
             "gridcolor": "white",
             "linecolor": "white",
             "minorgridcolor": "white",
             "startlinecolor": "#2a3f5f"
            },
            "baxis": {
             "endlinecolor": "#2a3f5f",
             "gridcolor": "white",
             "linecolor": "white",
             "minorgridcolor": "white",
             "startlinecolor": "#2a3f5f"
            },
            "type": "carpet"
           }
          ],
          "choropleth": [
           {
            "colorbar": {
             "outlinewidth": 0,
             "ticks": ""
            },
            "type": "choropleth"
           }
          ],
          "contour": [
           {
            "colorbar": {
             "outlinewidth": 0,
             "ticks": ""
            },
            "colorscale": [
             [
              0,
              "#0d0887"
             ],
             [
              0.1111111111111111,
              "#46039f"
             ],
             [
              0.2222222222222222,
              "#7201a8"
             ],
             [
              0.3333333333333333,
              "#9c179e"
             ],
             [
              0.4444444444444444,
              "#bd3786"
             ],
             [
              0.5555555555555556,
              "#d8576b"
             ],
             [
              0.6666666666666666,
              "#ed7953"
             ],
             [
              0.7777777777777778,
              "#fb9f3a"
             ],
             [
              0.8888888888888888,
              "#fdca26"
             ],
             [
              1,
              "#f0f921"
             ]
            ],
            "type": "contour"
           }
          ],
          "contourcarpet": [
           {
            "colorbar": {
             "outlinewidth": 0,
             "ticks": ""
            },
            "type": "contourcarpet"
           }
          ],
          "heatmap": [
           {
            "colorbar": {
             "outlinewidth": 0,
             "ticks": ""
            },
            "colorscale": [
             [
              0,
              "#0d0887"
             ],
             [
              0.1111111111111111,
              "#46039f"
             ],
             [
              0.2222222222222222,
              "#7201a8"
             ],
             [
              0.3333333333333333,
              "#9c179e"
             ],
             [
              0.4444444444444444,
              "#bd3786"
             ],
             [
              0.5555555555555556,
              "#d8576b"
             ],
             [
              0.6666666666666666,
              "#ed7953"
             ],
             [
              0.7777777777777778,
              "#fb9f3a"
             ],
             [
              0.8888888888888888,
              "#fdca26"
             ],
             [
              1,
              "#f0f921"
             ]
            ],
            "type": "heatmap"
           }
          ],
          "heatmapgl": [
           {
            "colorbar": {
             "outlinewidth": 0,
             "ticks": ""
            },
            "colorscale": [
             [
              0,
              "#0d0887"
             ],
             [
              0.1111111111111111,
              "#46039f"
             ],
             [
              0.2222222222222222,
              "#7201a8"
             ],
             [
              0.3333333333333333,
              "#9c179e"
             ],
             [
              0.4444444444444444,
              "#bd3786"
             ],
             [
              0.5555555555555556,
              "#d8576b"
             ],
             [
              0.6666666666666666,
              "#ed7953"
             ],
             [
              0.7777777777777778,
              "#fb9f3a"
             ],
             [
              0.8888888888888888,
              "#fdca26"
             ],
             [
              1,
              "#f0f921"
             ]
            ],
            "type": "heatmapgl"
           }
          ],
          "histogram": [
           {
            "marker": {
             "pattern": {
              "fillmode": "overlay",
              "size": 10,
              "solidity": 0.2
             }
            },
            "type": "histogram"
           }
          ],
          "histogram2d": [
           {
            "colorbar": {
             "outlinewidth": 0,
             "ticks": ""
            },
            "colorscale": [
             [
              0,
              "#0d0887"
             ],
             [
              0.1111111111111111,
              "#46039f"
             ],
             [
              0.2222222222222222,
              "#7201a8"
             ],
             [
              0.3333333333333333,
              "#9c179e"
             ],
             [
              0.4444444444444444,
              "#bd3786"
             ],
             [
              0.5555555555555556,
              "#d8576b"
             ],
             [
              0.6666666666666666,
              "#ed7953"
             ],
             [
              0.7777777777777778,
              "#fb9f3a"
             ],
             [
              0.8888888888888888,
              "#fdca26"
             ],
             [
              1,
              "#f0f921"
             ]
            ],
            "type": "histogram2d"
           }
          ],
          "histogram2dcontour": [
           {
            "colorbar": {
             "outlinewidth": 0,
             "ticks": ""
            },
            "colorscale": [
             [
              0,
              "#0d0887"
             ],
             [
              0.1111111111111111,
              "#46039f"
             ],
             [
              0.2222222222222222,
              "#7201a8"
             ],
             [
              0.3333333333333333,
              "#9c179e"
             ],
             [
              0.4444444444444444,
              "#bd3786"
             ],
             [
              0.5555555555555556,
              "#d8576b"
             ],
             [
              0.6666666666666666,
              "#ed7953"
             ],
             [
              0.7777777777777778,
              "#fb9f3a"
             ],
             [
              0.8888888888888888,
              "#fdca26"
             ],
             [
              1,
              "#f0f921"
             ]
            ],
            "type": "histogram2dcontour"
           }
          ],
          "mesh3d": [
           {
            "colorbar": {
             "outlinewidth": 0,
             "ticks": ""
            },
            "type": "mesh3d"
           }
          ],
          "parcoords": [
           {
            "line": {
             "colorbar": {
              "outlinewidth": 0,
              "ticks": ""
             }
            },
            "type": "parcoords"
           }
          ],
          "pie": [
           {
            "automargin": true,
            "type": "pie"
           }
          ],
          "scatter": [
           {
            "fillpattern": {
             "fillmode": "overlay",
             "size": 10,
             "solidity": 0.2
            },
            "type": "scatter"
           }
          ],
          "scatter3d": [
           {
            "line": {
             "colorbar": {
              "outlinewidth": 0,
              "ticks": ""
             }
            },
            "marker": {
             "colorbar": {
              "outlinewidth": 0,
              "ticks": ""
             }
            },
            "type": "scatter3d"
           }
          ],
          "scattercarpet": [
           {
            "marker": {
             "colorbar": {
              "outlinewidth": 0,
              "ticks": ""
             }
            },
            "type": "scattercarpet"
           }
          ],
          "scattergeo": [
           {
            "marker": {
             "colorbar": {
              "outlinewidth": 0,
              "ticks": ""
             }
            },
            "type": "scattergeo"
           }
          ],
          "scattergl": [
           {
            "marker": {
             "colorbar": {
              "outlinewidth": 0,
              "ticks": ""
             }
            },
            "type": "scattergl"
           }
          ],
          "scattermapbox": [
           {
            "marker": {
             "colorbar": {
              "outlinewidth": 0,
              "ticks": ""
             }
            },
            "type": "scattermapbox"
           }
          ],
          "scatterpolar": [
           {
            "marker": {
             "colorbar": {
              "outlinewidth": 0,
              "ticks": ""
             }
            },
            "type": "scatterpolar"
           }
          ],
          "scatterpolargl": [
           {
            "marker": {
             "colorbar": {
              "outlinewidth": 0,
              "ticks": ""
             }
            },
            "type": "scatterpolargl"
           }
          ],
          "scatterternary": [
           {
            "marker": {
             "colorbar": {
              "outlinewidth": 0,
              "ticks": ""
             }
            },
            "type": "scatterternary"
           }
          ],
          "surface": [
           {
            "colorbar": {
             "outlinewidth": 0,
             "ticks": ""
            },
            "colorscale": [
             [
              0,
              "#0d0887"
             ],
             [
              0.1111111111111111,
              "#46039f"
             ],
             [
              0.2222222222222222,
              "#7201a8"
             ],
             [
              0.3333333333333333,
              "#9c179e"
             ],
             [
              0.4444444444444444,
              "#bd3786"
             ],
             [
              0.5555555555555556,
              "#d8576b"
             ],
             [
              0.6666666666666666,
              "#ed7953"
             ],
             [
              0.7777777777777778,
              "#fb9f3a"
             ],
             [
              0.8888888888888888,
              "#fdca26"
             ],
             [
              1,
              "#f0f921"
             ]
            ],
            "type": "surface"
           }
          ],
          "table": [
           {
            "cells": {
             "fill": {
              "color": "#EBF0F8"
             },
             "line": {
              "color": "white"
             }
            },
            "header": {
             "fill": {
              "color": "#C8D4E3"
             },
             "line": {
              "color": "white"
             }
            },
            "type": "table"
           }
          ]
         },
         "layout": {
          "annotationdefaults": {
           "arrowcolor": "#2a3f5f",
           "arrowhead": 0,
           "arrowwidth": 1
          },
          "autotypenumbers": "strict",
          "coloraxis": {
           "colorbar": {
            "outlinewidth": 0,
            "ticks": ""
           }
          },
          "colorscale": {
           "diverging": [
            [
             0,
             "#8e0152"
            ],
            [
             0.1,
             "#c51b7d"
            ],
            [
             0.2,
             "#de77ae"
            ],
            [
             0.3,
             "#f1b6da"
            ],
            [
             0.4,
             "#fde0ef"
            ],
            [
             0.5,
             "#f7f7f7"
            ],
            [
             0.6,
             "#e6f5d0"
            ],
            [
             0.7,
             "#b8e186"
            ],
            [
             0.8,
             "#7fbc41"
            ],
            [
             0.9,
             "#4d9221"
            ],
            [
             1,
             "#276419"
            ]
           ],
           "sequential": [
            [
             0,
             "#0d0887"
            ],
            [
             0.1111111111111111,
             "#46039f"
            ],
            [
             0.2222222222222222,
             "#7201a8"
            ],
            [
             0.3333333333333333,
             "#9c179e"
            ],
            [
             0.4444444444444444,
             "#bd3786"
            ],
            [
             0.5555555555555556,
             "#d8576b"
            ],
            [
             0.6666666666666666,
             "#ed7953"
            ],
            [
             0.7777777777777778,
             "#fb9f3a"
            ],
            [
             0.8888888888888888,
             "#fdca26"
            ],
            [
             1,
             "#f0f921"
            ]
           ],
           "sequentialminus": [
            [
             0,
             "#0d0887"
            ],
            [
             0.1111111111111111,
             "#46039f"
            ],
            [
             0.2222222222222222,
             "#7201a8"
            ],
            [
             0.3333333333333333,
             "#9c179e"
            ],
            [
             0.4444444444444444,
             "#bd3786"
            ],
            [
             0.5555555555555556,
             "#d8576b"
            ],
            [
             0.6666666666666666,
             "#ed7953"
            ],
            [
             0.7777777777777778,
             "#fb9f3a"
            ],
            [
             0.8888888888888888,
             "#fdca26"
            ],
            [
             1,
             "#f0f921"
            ]
           ]
          },
          "colorway": [
           "#636efa",
           "#EF553B",
           "#00cc96",
           "#ab63fa",
           "#FFA15A",
           "#19d3f3",
           "#FF6692",
           "#B6E880",
           "#FF97FF",
           "#FECB52"
          ],
          "font": {
           "color": "#2a3f5f"
          },
          "geo": {
           "bgcolor": "white",
           "lakecolor": "white",
           "landcolor": "#E5ECF6",
           "showlakes": true,
           "showland": true,
           "subunitcolor": "white"
          },
          "hoverlabel": {
           "align": "left"
          },
          "hovermode": "closest",
          "mapbox": {
           "style": "light"
          },
          "paper_bgcolor": "white",
          "plot_bgcolor": "#E5ECF6",
          "polar": {
           "angularaxis": {
            "gridcolor": "white",
            "linecolor": "white",
            "ticks": ""
           },
           "bgcolor": "#E5ECF6",
           "radialaxis": {
            "gridcolor": "white",
            "linecolor": "white",
            "ticks": ""
           }
          },
          "scene": {
           "xaxis": {
            "backgroundcolor": "#E5ECF6",
            "gridcolor": "white",
            "gridwidth": 2,
            "linecolor": "white",
            "showbackground": true,
            "ticks": "",
            "zerolinecolor": "white"
           },
           "yaxis": {
            "backgroundcolor": "#E5ECF6",
            "gridcolor": "white",
            "gridwidth": 2,
            "linecolor": "white",
            "showbackground": true,
            "ticks": "",
            "zerolinecolor": "white"
           },
           "zaxis": {
            "backgroundcolor": "#E5ECF6",
            "gridcolor": "white",
            "gridwidth": 2,
            "linecolor": "white",
            "showbackground": true,
            "ticks": "",
            "zerolinecolor": "white"
           }
          },
          "shapedefaults": {
           "line": {
            "color": "#2a3f5f"
           }
          },
          "ternary": {
           "aaxis": {
            "gridcolor": "white",
            "linecolor": "white",
            "ticks": ""
           },
           "baxis": {
            "gridcolor": "white",
            "linecolor": "white",
            "ticks": ""
           },
           "bgcolor": "#E5ECF6",
           "caxis": {
            "gridcolor": "white",
            "linecolor": "white",
            "ticks": ""
           }
          },
          "title": {
           "x": 0.05
          },
          "xaxis": {
           "automargin": true,
           "gridcolor": "white",
           "linecolor": "white",
           "ticks": "",
           "title": {
            "standoff": 15
           },
           "zerolinecolor": "white",
           "zerolinewidth": 2
          },
          "yaxis": {
           "automargin": true,
           "gridcolor": "white",
           "linecolor": "white",
           "ticks": "",
           "title": {
            "standoff": 15
           },
           "zerolinecolor": "white",
           "zerolinewidth": 2
          }
         }
        },
        "title": {
         "font": {
          "size": 28
         },
         "text": "<b>#17 I-V</b> 003-02_09-10-14-13, R_fit=925875.0280 Ω"
        },
        "width": 1080,
        "xaxis": {
         "tickfont": {
          "size": 16
         },
         "title": {
          "font": {
           "size": 20
          },
          "text": "appl_current"
         }
        },
        "yaxis": {
         "tickfont": {
          "size": 16
         },
         "title": {
          "font": {
           "size": 20
          },
          "text": "meas_voltage_K1 mV"
         }
        }
       }
      }
     },
     "metadata": {},
     "output_type": "display_data"
    },
    {
     "data": {
      "application/vnd.plotly.v1+json": {
       "config": {
        "plotlyServerURL": "https://plot.ly"
       },
       "data": [
        {
         "mode": "lines",
         "name": "d(Voltage)/d(Current)",
         "type": "scatter",
         "x": [
          -100,
          -98,
          -96,
          -94,
          -92,
          -90,
          -88,
          -86,
          -84,
          -82,
          -80,
          -78,
          -76,
          -74,
          -72,
          -70,
          -68,
          -66,
          -64,
          -62,
          -59.99999999999999,
          -58,
          -56,
          -54,
          -52,
          -50,
          -48,
          -46,
          -44,
          -42,
          -40,
          -38,
          -36,
          -34,
          -32,
          -29.999999999999996,
          -28,
          -26,
          -24,
          -22,
          -20,
          -18,
          -16,
          -14,
          -12,
          -10,
          -8.00000000000001,
          -6.00000000000001,
          -4.00000000000001,
          -2,
          -1.32348898008484e-14,
          1.9999999999999902,
          3.9999999999999805,
          5.99999999999999,
          7.99999999999999,
          9.99999999999998,
          12,
          14,
          16,
          18,
          20,
          22,
          24,
          26,
          28,
          29.999999999999996,
          32,
          34,
          36,
          38,
          40,
          42,
          44,
          46,
          48,
          50,
          52,
          54,
          56,
          58,
          59.99999999999999,
          62,
          64,
          66,
          68,
          70,
          72,
          74,
          76,
          78,
          80,
          82,
          84,
          86,
          88,
          90,
          92,
          94,
          96,
          98
         ],
         "y": [
          750845.0000000031,
          912019.9999999973,
          893874.9999999932,
          960360.0000000045,
          935814.9999999973,
          911340.0000000014,
          915020.0000000064,
          901974.9999999972,
          908969.999999999,
          909345.0000000037,
          967654.9999999956,
          934695.0000000033,
          844929.9999999987,
          965779.9999999972,
          915240.0000000016,
          906729.9999999993,
          918834.9999999977,
          963745.000000006,
          922549.9999999956,
          913914.9999999991,
          842770.0000000033,
          980814.9999999972,
          908115.0000000019,
          905600.0000000003,
          963514.9999999993,
          936069.9999999981,
          915900.0000000016,
          899844.9999999977,
          911595.0000000021,
          913800.0000000002,
          912670.0000000017,
          976659.9999999985,
          917684.9999999988,
          880020.0000000013,
          935299.9999999978,
          912075.0000000009,
          908815.0000000012,
          912759.9999999997,
          906339.9999999997,
          979685.0000000002,
          915340,
          923870.0000000012,
          889414.9999999987,
          919090.0000000001,
          1016185.0000000003,
          874398.0000000047,
          920630.4999999994,
          905517.5000000001,
          905817.9999999956,
          1018545.1500000068,
          1131141.8499999982,
          961299.0000000047,
          902342.9999999956,
          883880.5,
          930794.0000000043,
          979417.4999999908,
          1023390,
          813669.9999999993,
          904615.0000000019,
          912244.9999999984,
          913655.000000002,
          914279.9999999993,
          974309.9999999984,
          913580.0000000015,
          909405.0000000012,
          915054.9999999976,
          918005.0000000005,
          903610.0000000017,
          852449.9999999957,
          1021775.0000000035,
          923520.0000000015,
          920405,
          899319.9999999965,
          912389.9999999999,
          913285.0000000042,
          910099.9999999949,
          981725.0000000037,
          871559.9999999978,
          951144.9999999983,
          912680.0000000064,
          909534.9999999974,
          918794.9999999979,
          902865.0000000031,
          969644.9999999993,
          930234.9999999993,
          854039.9999999971,
          968785.0000000044,
          905294.9999999914,
          908785.0000000062,
          897420.0000000008,
          988224.999999993,
          927200.000000007,
          906780.0000000007,
          907429.9999999977,
          868169.9999999994,
          944760.0000000006,
          924194.9999999997,
          966575.000000002,
          917699.9999999984,
          915200.0000000019
         ]
        },
        {
         "marker": {
          "color": "red"
         },
         "mode": "markers",
         "name": "Top Two Peaks",
         "type": "scatter",
         "x": [
          -1.32348898008484e-14,
          12
         ],
         "y": [
          1131141.8499999982,
          1023390
         ]
        },
        {
         "marker": {
          "color": "blue",
          "symbol": "cross"
         },
         "mode": "markers",
         "name": "Center Points",
         "type": "scatter",
         "x": [
          5.999999999999993e-9
         ],
         "y": [
          0
         ]
        }
       ],
       "layout": {
        "annotations": [
         {
          "arrowcolor": "black",
          "arrowhead": 2,
          "arrowsize": 1,
          "arrowwidth": 2,
          "ax": -100,
          "ay": -200,
          "showarrow": true,
          "text": "Center Point: 6.000nA <br> Peak difference: 12.000 nA",
          "x": 5.999999999999994,
          "y": 0
         }
        ],
        "height": 600,
        "legend": {
         "orientation": "h",
         "x": 0.5,
         "xanchor": "center",
         "y": 1.1,
         "yanchor": "top"
        },
        "template": {
         "data": {
          "bar": [
           {
            "error_x": {
             "color": "#2a3f5f"
            },
            "error_y": {
             "color": "#2a3f5f"
            },
            "marker": {
             "line": {
              "color": "#E5ECF6",
              "width": 0.5
             },
             "pattern": {
              "fillmode": "overlay",
              "size": 10,
              "solidity": 0.2
             }
            },
            "type": "bar"
           }
          ],
          "barpolar": [
           {
            "marker": {
             "line": {
              "color": "#E5ECF6",
              "width": 0.5
             },
             "pattern": {
              "fillmode": "overlay",
              "size": 10,
              "solidity": 0.2
             }
            },
            "type": "barpolar"
           }
          ],
          "carpet": [
           {
            "aaxis": {
             "endlinecolor": "#2a3f5f",
             "gridcolor": "white",
             "linecolor": "white",
             "minorgridcolor": "white",
             "startlinecolor": "#2a3f5f"
            },
            "baxis": {
             "endlinecolor": "#2a3f5f",
             "gridcolor": "white",
             "linecolor": "white",
             "minorgridcolor": "white",
             "startlinecolor": "#2a3f5f"
            },
            "type": "carpet"
           }
          ],
          "choropleth": [
           {
            "colorbar": {
             "outlinewidth": 0,
             "ticks": ""
            },
            "type": "choropleth"
           }
          ],
          "contour": [
           {
            "colorbar": {
             "outlinewidth": 0,
             "ticks": ""
            },
            "colorscale": [
             [
              0,
              "#0d0887"
             ],
             [
              0.1111111111111111,
              "#46039f"
             ],
             [
              0.2222222222222222,
              "#7201a8"
             ],
             [
              0.3333333333333333,
              "#9c179e"
             ],
             [
              0.4444444444444444,
              "#bd3786"
             ],
             [
              0.5555555555555556,
              "#d8576b"
             ],
             [
              0.6666666666666666,
              "#ed7953"
             ],
             [
              0.7777777777777778,
              "#fb9f3a"
             ],
             [
              0.8888888888888888,
              "#fdca26"
             ],
             [
              1,
              "#f0f921"
             ]
            ],
            "type": "contour"
           }
          ],
          "contourcarpet": [
           {
            "colorbar": {
             "outlinewidth": 0,
             "ticks": ""
            },
            "type": "contourcarpet"
           }
          ],
          "heatmap": [
           {
            "colorbar": {
             "outlinewidth": 0,
             "ticks": ""
            },
            "colorscale": [
             [
              0,
              "#0d0887"
             ],
             [
              0.1111111111111111,
              "#46039f"
             ],
             [
              0.2222222222222222,
              "#7201a8"
             ],
             [
              0.3333333333333333,
              "#9c179e"
             ],
             [
              0.4444444444444444,
              "#bd3786"
             ],
             [
              0.5555555555555556,
              "#d8576b"
             ],
             [
              0.6666666666666666,
              "#ed7953"
             ],
             [
              0.7777777777777778,
              "#fb9f3a"
             ],
             [
              0.8888888888888888,
              "#fdca26"
             ],
             [
              1,
              "#f0f921"
             ]
            ],
            "type": "heatmap"
           }
          ],
          "heatmapgl": [
           {
            "colorbar": {
             "outlinewidth": 0,
             "ticks": ""
            },
            "colorscale": [
             [
              0,
              "#0d0887"
             ],
             [
              0.1111111111111111,
              "#46039f"
             ],
             [
              0.2222222222222222,
              "#7201a8"
             ],
             [
              0.3333333333333333,
              "#9c179e"
             ],
             [
              0.4444444444444444,
              "#bd3786"
             ],
             [
              0.5555555555555556,
              "#d8576b"
             ],
             [
              0.6666666666666666,
              "#ed7953"
             ],
             [
              0.7777777777777778,
              "#fb9f3a"
             ],
             [
              0.8888888888888888,
              "#fdca26"
             ],
             [
              1,
              "#f0f921"
             ]
            ],
            "type": "heatmapgl"
           }
          ],
          "histogram": [
           {
            "marker": {
             "pattern": {
              "fillmode": "overlay",
              "size": 10,
              "solidity": 0.2
             }
            },
            "type": "histogram"
           }
          ],
          "histogram2d": [
           {
            "colorbar": {
             "outlinewidth": 0,
             "ticks": ""
            },
            "colorscale": [
             [
              0,
              "#0d0887"
             ],
             [
              0.1111111111111111,
              "#46039f"
             ],
             [
              0.2222222222222222,
              "#7201a8"
             ],
             [
              0.3333333333333333,
              "#9c179e"
             ],
             [
              0.4444444444444444,
              "#bd3786"
             ],
             [
              0.5555555555555556,
              "#d8576b"
             ],
             [
              0.6666666666666666,
              "#ed7953"
             ],
             [
              0.7777777777777778,
              "#fb9f3a"
             ],
             [
              0.8888888888888888,
              "#fdca26"
             ],
             [
              1,
              "#f0f921"
             ]
            ],
            "type": "histogram2d"
           }
          ],
          "histogram2dcontour": [
           {
            "colorbar": {
             "outlinewidth": 0,
             "ticks": ""
            },
            "colorscale": [
             [
              0,
              "#0d0887"
             ],
             [
              0.1111111111111111,
              "#46039f"
             ],
             [
              0.2222222222222222,
              "#7201a8"
             ],
             [
              0.3333333333333333,
              "#9c179e"
             ],
             [
              0.4444444444444444,
              "#bd3786"
             ],
             [
              0.5555555555555556,
              "#d8576b"
             ],
             [
              0.6666666666666666,
              "#ed7953"
             ],
             [
              0.7777777777777778,
              "#fb9f3a"
             ],
             [
              0.8888888888888888,
              "#fdca26"
             ],
             [
              1,
              "#f0f921"
             ]
            ],
            "type": "histogram2dcontour"
           }
          ],
          "mesh3d": [
           {
            "colorbar": {
             "outlinewidth": 0,
             "ticks": ""
            },
            "type": "mesh3d"
           }
          ],
          "parcoords": [
           {
            "line": {
             "colorbar": {
              "outlinewidth": 0,
              "ticks": ""
             }
            },
            "type": "parcoords"
           }
          ],
          "pie": [
           {
            "automargin": true,
            "type": "pie"
           }
          ],
          "scatter": [
           {
            "fillpattern": {
             "fillmode": "overlay",
             "size": 10,
             "solidity": 0.2
            },
            "type": "scatter"
           }
          ],
          "scatter3d": [
           {
            "line": {
             "colorbar": {
              "outlinewidth": 0,
              "ticks": ""
             }
            },
            "marker": {
             "colorbar": {
              "outlinewidth": 0,
              "ticks": ""
             }
            },
            "type": "scatter3d"
           }
          ],
          "scattercarpet": [
           {
            "marker": {
             "colorbar": {
              "outlinewidth": 0,
              "ticks": ""
             }
            },
            "type": "scattercarpet"
           }
          ],
          "scattergeo": [
           {
            "marker": {
             "colorbar": {
              "outlinewidth": 0,
              "ticks": ""
             }
            },
            "type": "scattergeo"
           }
          ],
          "scattergl": [
           {
            "marker": {
             "colorbar": {
              "outlinewidth": 0,
              "ticks": ""
             }
            },
            "type": "scattergl"
           }
          ],
          "scattermapbox": [
           {
            "marker": {
             "colorbar": {
              "outlinewidth": 0,
              "ticks": ""
             }
            },
            "type": "scattermapbox"
           }
          ],
          "scatterpolar": [
           {
            "marker": {
             "colorbar": {
              "outlinewidth": 0,
              "ticks": ""
             }
            },
            "type": "scatterpolar"
           }
          ],
          "scatterpolargl": [
           {
            "marker": {
             "colorbar": {
              "outlinewidth": 0,
              "ticks": ""
             }
            },
            "type": "scatterpolargl"
           }
          ],
          "scatterternary": [
           {
            "marker": {
             "colorbar": {
              "outlinewidth": 0,
              "ticks": ""
             }
            },
            "type": "scatterternary"
           }
          ],
          "surface": [
           {
            "colorbar": {
             "outlinewidth": 0,
             "ticks": ""
            },
            "colorscale": [
             [
              0,
              "#0d0887"
             ],
             [
              0.1111111111111111,
              "#46039f"
             ],
             [
              0.2222222222222222,
              "#7201a8"
             ],
             [
              0.3333333333333333,
              "#9c179e"
             ],
             [
              0.4444444444444444,
              "#bd3786"
             ],
             [
              0.5555555555555556,
              "#d8576b"
             ],
             [
              0.6666666666666666,
              "#ed7953"
             ],
             [
              0.7777777777777778,
              "#fb9f3a"
             ],
             [
              0.8888888888888888,
              "#fdca26"
             ],
             [
              1,
              "#f0f921"
             ]
            ],
            "type": "surface"
           }
          ],
          "table": [
           {
            "cells": {
             "fill": {
              "color": "#EBF0F8"
             },
             "line": {
              "color": "white"
             }
            },
            "header": {
             "fill": {
              "color": "#C8D4E3"
             },
             "line": {
              "color": "white"
             }
            },
            "type": "table"
           }
          ]
         },
         "layout": {
          "annotationdefaults": {
           "arrowcolor": "#2a3f5f",
           "arrowhead": 0,
           "arrowwidth": 1
          },
          "autotypenumbers": "strict",
          "coloraxis": {
           "colorbar": {
            "outlinewidth": 0,
            "ticks": ""
           }
          },
          "colorscale": {
           "diverging": [
            [
             0,
             "#8e0152"
            ],
            [
             0.1,
             "#c51b7d"
            ],
            [
             0.2,
             "#de77ae"
            ],
            [
             0.3,
             "#f1b6da"
            ],
            [
             0.4,
             "#fde0ef"
            ],
            [
             0.5,
             "#f7f7f7"
            ],
            [
             0.6,
             "#e6f5d0"
            ],
            [
             0.7,
             "#b8e186"
            ],
            [
             0.8,
             "#7fbc41"
            ],
            [
             0.9,
             "#4d9221"
            ],
            [
             1,
             "#276419"
            ]
           ],
           "sequential": [
            [
             0,
             "#0d0887"
            ],
            [
             0.1111111111111111,
             "#46039f"
            ],
            [
             0.2222222222222222,
             "#7201a8"
            ],
            [
             0.3333333333333333,
             "#9c179e"
            ],
            [
             0.4444444444444444,
             "#bd3786"
            ],
            [
             0.5555555555555556,
             "#d8576b"
            ],
            [
             0.6666666666666666,
             "#ed7953"
            ],
            [
             0.7777777777777778,
             "#fb9f3a"
            ],
            [
             0.8888888888888888,
             "#fdca26"
            ],
            [
             1,
             "#f0f921"
            ]
           ],
           "sequentialminus": [
            [
             0,
             "#0d0887"
            ],
            [
             0.1111111111111111,
             "#46039f"
            ],
            [
             0.2222222222222222,
             "#7201a8"
            ],
            [
             0.3333333333333333,
             "#9c179e"
            ],
            [
             0.4444444444444444,
             "#bd3786"
            ],
            [
             0.5555555555555556,
             "#d8576b"
            ],
            [
             0.6666666666666666,
             "#ed7953"
            ],
            [
             0.7777777777777778,
             "#fb9f3a"
            ],
            [
             0.8888888888888888,
             "#fdca26"
            ],
            [
             1,
             "#f0f921"
            ]
           ]
          },
          "colorway": [
           "#636efa",
           "#EF553B",
           "#00cc96",
           "#ab63fa",
           "#FFA15A",
           "#19d3f3",
           "#FF6692",
           "#B6E880",
           "#FF97FF",
           "#FECB52"
          ],
          "font": {
           "color": "#2a3f5f"
          },
          "geo": {
           "bgcolor": "white",
           "lakecolor": "white",
           "landcolor": "#E5ECF6",
           "showlakes": true,
           "showland": true,
           "subunitcolor": "white"
          },
          "hoverlabel": {
           "align": "left"
          },
          "hovermode": "closest",
          "mapbox": {
           "style": "light"
          },
          "paper_bgcolor": "white",
          "plot_bgcolor": "#E5ECF6",
          "polar": {
           "angularaxis": {
            "gridcolor": "white",
            "linecolor": "white",
            "ticks": ""
           },
           "bgcolor": "#E5ECF6",
           "radialaxis": {
            "gridcolor": "white",
            "linecolor": "white",
            "ticks": ""
           }
          },
          "scene": {
           "xaxis": {
            "backgroundcolor": "#E5ECF6",
            "gridcolor": "white",
            "gridwidth": 2,
            "linecolor": "white",
            "showbackground": true,
            "ticks": "",
            "zerolinecolor": "white"
           },
           "yaxis": {
            "backgroundcolor": "#E5ECF6",
            "gridcolor": "white",
            "gridwidth": 2,
            "linecolor": "white",
            "showbackground": true,
            "ticks": "",
            "zerolinecolor": "white"
           },
           "zaxis": {
            "backgroundcolor": "#E5ECF6",
            "gridcolor": "white",
            "gridwidth": 2,
            "linecolor": "white",
            "showbackground": true,
            "ticks": "",
            "zerolinecolor": "white"
           }
          },
          "shapedefaults": {
           "line": {
            "color": "#2a3f5f"
           }
          },
          "ternary": {
           "aaxis": {
            "gridcolor": "white",
            "linecolor": "white",
            "ticks": ""
           },
           "baxis": {
            "gridcolor": "white",
            "linecolor": "white",
            "ticks": ""
           },
           "bgcolor": "#E5ECF6",
           "caxis": {
            "gridcolor": "white",
            "linecolor": "white",
            "ticks": ""
           }
          },
          "title": {
           "x": 0.05
          },
          "xaxis": {
           "automargin": true,
           "gridcolor": "white",
           "linecolor": "white",
           "ticks": "",
           "title": {
            "standoff": 15
           },
           "zerolinecolor": "white",
           "zerolinewidth": 2
          },
          "yaxis": {
           "automargin": true,
           "gridcolor": "white",
           "linecolor": "white",
           "ticks": "",
           "title": {
            "standoff": 15
           },
           "zerolinecolor": "white",
           "zerolinewidth": 2
          }
         }
        },
        "title": {
         "text": "Run #<built-in function id> I vs. dV/dI"
        },
        "width": 600,
        "xaxis": {
         "title": {
          "text": "Current (nA)"
         }
        },
        "yaxis": {
         "title": {
          "text": "d(Voltage)/d(Current)"
         }
        }
       }
      }
     },
     "metadata": {},
     "output_type": "display_data"
    },
    {
     "data": {
      "application/vnd.jupyter.widget-view+json": {
       "model_id": "16a83b6326f34d6a98c4ca346329dcea",
       "version_major": 2,
       "version_minor": 0
      },
      "image/png": "[encoded data removed]",
      "text/html": [
       "\n",
       "            <div style=\"display: inline-block;\">\n",
       "                <div class=\"jupyter-widgets widget-label\" style=\"text-align: center;\">\n",
       "                    Figure\n",
       "                </div>\n",
       "                <img src='data:image/png;base64,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' width=640.0/>\n",
       "            </div>\n",
       "        "
      ],
      "text/plain": [
       "Canvas(toolbar=Toolbar(toolitems=[('Home', 'Reset original view', 'home', 'home'), ('Back', 'Back to previous …"
      ]
     },
     "metadata": {},
     "output_type": "display_data"
    }
   ],
   "source": [
    "I_range=0.1e-6\n",
    "K2440.output(1)\n",
    "appl_current(-I_range) #Limit:1e-5 Amp(1MOhms risistor),1e-6 Amp(10MOhms risistor)\n",
    "sleep(2)\n",
    "# station.snapshot(update=True);\n",
    "exp = qc.new_experiment('I-V', sample_name='003-02_09-10-14-13')\n",
    "dataid = do1d(appl_current, -I_range ,I_range, 101, 0.03, meas_voltage_K1)\n",
    "appl_current(0)\n",
    "K2440.output(0)\n",
    "print(f\"R = {get_R_from_IV(dataid)}\")\n",
    "IV(dataid)\n",
    "IV_diff(dataid)"
   ]
  },
  {
   "cell_type": "code",
   "execution_count": 29,
   "id": "2b1fcecf",
   "metadata": {},
   "outputs": [
    {
     "data": {
      "application/vnd.plotly.v1+json": {
       "config": {
        "plotlyServerURL": "https://plot.ly"
       },
       "data": [
        {
         "mode": "lines",
         "name": "Voltage vs. Current",
         "type": "scatter",
         "x": [
          -0.000001,
          -9.8e-7,
          -9.6e-7,
          -9.4e-7,
          -9.2e-7,
          -9e-7,
          -8.8e-7,
          -8.6e-7,
          -8.4e-7,
          -8.2e-7,
          -8e-7,
          -7.8e-7,
          -7.6e-7,
          -7.4e-7,
          -7.2e-7,
          -7e-7,
          -6.8e-7,
          -6.6e-7,
          -6.4e-7,
          -6.2e-7,
          -6e-7,
          -5.8e-7,
          -5.6e-7,
          -5.4e-7,
          -5.2e-7,
          -5e-7,
          -4.8e-7,
          -4.6e-7,
          -4.4e-7,
          -4.2e-7,
          -4e-7,
          -3.8e-7,
          -3.6e-7,
          -3.4e-7,
          -3.2e-7,
          -3e-7,
          -2.8e-7,
          -2.6e-7,
          -2.4e-7,
          -2.2e-7,
          -2e-7,
          -1.8e-7,
          -1.6e-7,
          -1.4e-7,
          -1.2e-7,
          -9.99999999999999e-8,
          -8e-8,
          -6e-8,
          -3.99999999999998e-8,
          -2e-8,
          0,
          2e-8,
          4e-8,
          6.00000000000001e-8,
          8.00000000000001e-8,
          1e-7,
          1.2e-7,
          1.4e-7,
          1.6e-7,
          1.8e-7,
          2e-7,
          2.2e-7,
          2.4e-7,
          2.6e-7,
          2.8e-7,
          3e-7,
          3.2e-7,
          3.4e-7,
          3.6e-7,
          3.8e-7,
          4e-7,
          4.2e-7,
          4.4e-7,
          4.6e-7,
          4.8e-7,
          5e-7,
          5.2e-7,
          5.4e-7,
          5.6e-7,
          5.8e-7,
          6e-7,
          6.2e-7,
          6.4e-7,
          6.6e-7,
          6.8e-7,
          7e-7,
          7.2e-7,
          7.4e-7,
          7.6e-7,
          7.8e-7,
          8e-7,
          8.2e-7,
          8.4e-7,
          8.6e-7,
          8.8e-7,
          9e-7,
          9.20000000000001e-7,
          9.4e-7,
          9.6e-7,
          9.8e-7,
          0.000001
         ],
         "y": [
          -1.057316,
          -1.0371270000000001,
          -1.016908,
          -0.9968422,
          -0.9765807999999999,
          -0.9566297,
          -0.9362456,
          -0.9162823999999999,
          -0.8959251,
          -0.8759192,
          -0.8555839000000001,
          -0.8354946,
          -0.8153088,
          -0.7952083000000001,
          -0.7750648,
          -0.7547791,
          -0.7347486,
          -0.7145009,
          -0.6944313,
          -0.6741276,
          -0.6540798,
          -0.6338895999999999,
          -0.6136877000000001,
          -0.5934978,
          -0.5733414,
          -0.5531355,
          -0.5328756,
          -0.5126676,
          -0.4926838,
          -0.4724438,
          -0.4523633,
          -0.4320399,
          -0.41185309999999997,
          -0.3916502,
          -0.37150570000000005,
          -0.3513147,
          -0.3312247,
          -0.3111986,
          -0.2909027,
          -0.2707222,
          -0.2504867,
          -0.2303025,
          -0.2100983,
          -0.1899584,
          -0.16975590000000002,
          -0.1496653,
          -0.129505,
          -0.10926540000000001,
          -0.08906265,
          -0.0688401,
          -0.048780960000000005,
          -0.02824094,
          -0.007931353,
          0.01228872,
          0.032343840000000006,
          0.05253193,
          0.07261971,
          0.09291242,
          0.11309720000000001,
          0.1333593,
          0.1533897,
          0.1735889,
          0.1938325,
          0.2139248,
          0.2341566,
          0.2542718,
          0.2745649,
          0.294617,
          0.3147532,
          0.335016,
          0.3550897,
          0.3754185,
          0.395471,
          0.41572929999999997,
          0.4358616,
          0.456013,
          0.47625500000000004,
          0.49635369999999995,
          0.5166409000000001,
          0.5367727000000001,
          0.5569559000000001,
          0.5770701,
          0.597238,
          0.617472,
          0.6375202,
          0.6578550000000001,
          0.6779857,
          0.6982705,
          0.7183495,
          0.7386174999999999,
          0.7587809,
          0.7787951999999999,
          0.7990803,
          0.819186,
          0.8395313,
          0.8596284,
          0.87979,
          0.8998453999999999,
          0.9200883,
          0.9401811,
          0.9603144
         ]
        }
       ],
       "layout": {
        "height": 960,
        "margin": {
         "b": 10,
         "l": 10,
         "r": 10,
         "t": 50
        },
        "template": {
         "data": {
          "bar": [
           {
            "error_x": {
             "color": "#2a3f5f"
            },
            "error_y": {
             "color": "#2a3f5f"
            },
            "marker": {
             "line": {
              "color": "#E5ECF6",
              "width": 0.5
             },
             "pattern": {
              "fillmode": "overlay",
              "size": 10,
              "solidity": 0.2
             }
            },
            "type": "bar"
           }
          ],
          "barpolar": [
           {
            "marker": {
             "line": {
              "color": "#E5ECF6",
              "width": 0.5
             },
             "pattern": {
              "fillmode": "overlay",
              "size": 10,
              "solidity": 0.2
             }
            },
            "type": "barpolar"
           }
          ],
          "carpet": [
           {
            "aaxis": {
             "endlinecolor": "#2a3f5f",
             "gridcolor": "white",
             "linecolor": "white",
             "minorgridcolor": "white",
             "startlinecolor": "#2a3f5f"
            },
            "baxis": {
             "endlinecolor": "#2a3f5f",
             "gridcolor": "white",
             "linecolor": "white",
             "minorgridcolor": "white",
             "startlinecolor": "#2a3f5f"
            },
            "type": "carpet"
           }
          ],
          "choropleth": [
           {
            "colorbar": {
             "outlinewidth": 0,
             "ticks": ""
            },
            "type": "choropleth"
           }
          ],
          "contour": [
           {
            "colorbar": {
             "outlinewidth": 0,
             "ticks": ""
            },
            "colorscale": [
             [
              0,
              "#0d0887"
             ],
             [
              0.1111111111111111,
              "#46039f"
             ],
             [
              0.2222222222222222,
              "#7201a8"
             ],
             [
              0.3333333333333333,
              "#9c179e"
             ],
             [
              0.4444444444444444,
              "#bd3786"
             ],
             [
              0.5555555555555556,
              "#d8576b"
             ],
             [
              0.6666666666666666,
              "#ed7953"
             ],
             [
              0.7777777777777778,
              "#fb9f3a"
             ],
             [
              0.8888888888888888,
              "#fdca26"
             ],
             [
              1,
              "#f0f921"
             ]
            ],
            "type": "contour"
           }
          ],
          "contourcarpet": [
           {
            "colorbar": {
             "outlinewidth": 0,
             "ticks": ""
            },
            "type": "contourcarpet"
           }
          ],
          "heatmap": [
           {
            "colorbar": {
             "outlinewidth": 0,
             "ticks": ""
            },
            "colorscale": [
             [
              0,
              "#0d0887"
             ],
             [
              0.1111111111111111,
              "#46039f"
             ],
             [
              0.2222222222222222,
              "#7201a8"
             ],
             [
              0.3333333333333333,
              "#9c179e"
             ],
             [
              0.4444444444444444,
              "#bd3786"
             ],
             [
              0.5555555555555556,
              "#d8576b"
             ],
             [
              0.6666666666666666,
              "#ed7953"
             ],
             [
              0.7777777777777778,
              "#fb9f3a"
             ],
             [
              0.8888888888888888,
              "#fdca26"
             ],
             [
              1,
              "#f0f921"
             ]
            ],
            "type": "heatmap"
           }
          ],
          "heatmapgl": [
           {
            "colorbar": {
             "outlinewidth": 0,
             "ticks": ""
            },
            "colorscale": [
             [
              0,
              "#0d0887"
             ],
             [
              0.1111111111111111,
              "#46039f"
             ],
             [
              0.2222222222222222,
              "#7201a8"
             ],
             [
              0.3333333333333333,
              "#9c179e"
             ],
             [
              0.4444444444444444,
              "#bd3786"
             ],
             [
              0.5555555555555556,
              "#d8576b"
             ],
             [
              0.6666666666666666,
              "#ed7953"
             ],
             [
              0.7777777777777778,
              "#fb9f3a"
             ],
             [
              0.8888888888888888,
              "#fdca26"
             ],
             [
              1,
              "#f0f921"
             ]
            ],
            "type": "heatmapgl"
           }
          ],
          "histogram": [
           {
            "marker": {
             "pattern": {
              "fillmode": "overlay",
              "size": 10,
              "solidity": 0.2
             }
            },
            "type": "histogram"
           }
          ],
          "histogram2d": [
           {
            "colorbar": {
             "outlinewidth": 0,
             "ticks": ""
            },
            "colorscale": [
             [
              0,
              "#0d0887"
             ],
             [
              0.1111111111111111,
              "#46039f"
             ],
             [
              0.2222222222222222,
              "#7201a8"
             ],
             [
              0.3333333333333333,
              "#9c179e"
             ],
             [
              0.4444444444444444,
              "#bd3786"
             ],
             [
              0.5555555555555556,
              "#d8576b"
             ],
             [
              0.6666666666666666,
              "#ed7953"
             ],
             [
              0.7777777777777778,
              "#fb9f3a"
             ],
             [
              0.8888888888888888,
              "#fdca26"
             ],
             [
              1,
              "#f0f921"
             ]
            ],
            "type": "histogram2d"
           }
          ],
          "histogram2dcontour": [
           {
            "colorbar": {
             "outlinewidth": 0,
             "ticks": ""
            },
            "colorscale": [
             [
              0,
              "#0d0887"
             ],
             [
              0.1111111111111111,
              "#46039f"
             ],
             [
              0.2222222222222222,
              "#7201a8"
             ],
             [
              0.3333333333333333,
              "#9c179e"
             ],
             [
              0.4444444444444444,
              "#bd3786"
             ],
             [
              0.5555555555555556,
              "#d8576b"
             ],
             [
              0.6666666666666666,
              "#ed7953"
             ],
             [
              0.7777777777777778,
              "#fb9f3a"
             ],
             [
              0.8888888888888888,
              "#fdca26"
             ],
             [
              1,
              "#f0f921"
             ]
            ],
            "type": "histogram2dcontour"
           }
          ],
          "mesh3d": [
           {
            "colorbar": {
             "outlinewidth": 0,
             "ticks": ""
            },
            "type": "mesh3d"
           }
          ],
          "parcoords": [
           {
            "line": {
             "colorbar": {
              "outlinewidth": 0,
              "ticks": ""
             }
            },
            "type": "parcoords"
           }
          ],
          "pie": [
           {
            "automargin": true,
            "type": "pie"
           }
          ],
          "scatter": [
           {
            "fillpattern": {
             "fillmode": "overlay",
             "size": 10,
             "solidity": 0.2
            },
            "type": "scatter"
           }
          ],
          "scatter3d": [
           {
            "line": {
             "colorbar": {
              "outlinewidth": 0,
              "ticks": ""
             }
            },
            "marker": {
             "colorbar": {
              "outlinewidth": 0,
              "ticks": ""
             }
            },
            "type": "scatter3d"
           }
          ],
          "scattercarpet": [
           {
            "marker": {
             "colorbar": {
              "outlinewidth": 0,
              "ticks": ""
             }
            },
            "type": "scattercarpet"
           }
          ],
          "scattergeo": [
           {
            "marker": {
             "colorbar": {
              "outlinewidth": 0,
              "ticks": ""
             }
            },
            "type": "scattergeo"
           }
          ],
          "scattergl": [
           {
            "marker": {
             "colorbar": {
              "outlinewidth": 0,
              "ticks": ""
             }
            },
            "type": "scattergl"
           }
          ],
          "scattermapbox": [
           {
            "marker": {
             "colorbar": {
              "outlinewidth": 0,
              "ticks": ""
             }
            },
            "type": "scattermapbox"
           }
          ],
          "scatterpolar": [
           {
            "marker": {
             "colorbar": {
              "outlinewidth": 0,
              "ticks": ""
             }
            },
            "type": "scatterpolar"
           }
          ],
          "scatterpolargl": [
           {
            "marker": {
             "colorbar": {
              "outlinewidth": 0,
              "ticks": ""
             }
            },
            "type": "scatterpolargl"
           }
          ],
          "scatterternary": [
           {
            "marker": {
             "colorbar": {
              "outlinewidth": 0,
              "ticks": ""
             }
            },
            "type": "scatterternary"
           }
          ],
          "surface": [
           {
            "colorbar": {
             "outlinewidth": 0,
             "ticks": ""
            },
            "colorscale": [
             [
              0,
              "#0d0887"
             ],
             [
              0.1111111111111111,
              "#46039f"
             ],
             [
              0.2222222222222222,
              "#7201a8"
             ],
             [
              0.3333333333333333,
              "#9c179e"
             ],
             [
              0.4444444444444444,
              "#bd3786"
             ],
             [
              0.5555555555555556,
              "#d8576b"
             ],
             [
              0.6666666666666666,
              "#ed7953"
             ],
             [
              0.7777777777777778,
              "#fb9f3a"
             ],
             [
              0.8888888888888888,
              "#fdca26"
             ],
             [
              1,
              "#f0f921"
             ]
            ],
            "type": "surface"
           }
          ],
          "table": [
           {
            "cells": {
             "fill": {
              "color": "#EBF0F8"
             },
             "line": {
              "color": "white"
             }
            },
            "header": {
             "fill": {
              "color": "#C8D4E3"
             },
             "line": {
              "color": "white"
             }
            },
            "type": "table"
           }
          ]
         },
         "layout": {
          "annotationdefaults": {
           "arrowcolor": "#2a3f5f",
           "arrowhead": 0,
           "arrowwidth": 1
          },
          "autotypenumbers": "strict",
          "coloraxis": {
           "colorbar": {
            "outlinewidth": 0,
            "ticks": ""
           }
          },
          "colorscale": {
           "diverging": [
            [
             0,
             "#8e0152"
            ],
            [
             0.1,
             "#c51b7d"
            ],
            [
             0.2,
             "#de77ae"
            ],
            [
             0.3,
             "#f1b6da"
            ],
            [
             0.4,
             "#fde0ef"
            ],
            [
             0.5,
             "#f7f7f7"
            ],
            [
             0.6,
             "#e6f5d0"
            ],
            [
             0.7,
             "#b8e186"
            ],
            [
             0.8,
             "#7fbc41"
            ],
            [
             0.9,
             "#4d9221"
            ],
            [
             1,
             "#276419"
            ]
           ],
           "sequential": [
            [
             0,
             "#0d0887"
            ],
            [
             0.1111111111111111,
             "#46039f"
            ],
            [
             0.2222222222222222,
             "#7201a8"
            ],
            [
             0.3333333333333333,
             "#9c179e"
            ],
            [
             0.4444444444444444,
             "#bd3786"
            ],
            [
             0.5555555555555556,
             "#d8576b"
            ],
            [
             0.6666666666666666,
             "#ed7953"
            ],
            [
             0.7777777777777778,
             "#fb9f3a"
            ],
            [
             0.8888888888888888,
             "#fdca26"
            ],
            [
             1,
             "#f0f921"
            ]
           ],
           "sequentialminus": [
            [
             0,
             "#0d0887"
            ],
            [
             0.1111111111111111,
             "#46039f"
            ],
            [
             0.2222222222222222,
             "#7201a8"
            ],
            [
             0.3333333333333333,
             "#9c179e"
            ],
            [
             0.4444444444444444,
             "#bd3786"
            ],
            [
             0.5555555555555556,
             "#d8576b"
            ],
            [
             0.6666666666666666,
             "#ed7953"
            ],
            [
             0.7777777777777778,
             "#fb9f3a"
            ],
            [
             0.8888888888888888,
             "#fdca26"
            ],
            [
             1,
             "#f0f921"
            ]
           ]
          },
          "colorway": [
           "#636efa",
           "#EF553B",
           "#00cc96",
           "#ab63fa",
           "#FFA15A",
           "#19d3f3",
           "#FF6692",
           "#B6E880",
           "#FF97FF",
           "#FECB52"
          ],
          "font": {
           "color": "#2a3f5f"
          },
          "geo": {
           "bgcolor": "white",
           "lakecolor": "white",
           "landcolor": "#E5ECF6",
           "showlakes": true,
           "showland": true,
           "subunitcolor": "white"
          },
          "hoverlabel": {
           "align": "left"
          },
          "hovermode": "closest",
          "mapbox": {
           "style": "light"
          },
          "paper_bgcolor": "white",
          "plot_bgcolor": "#E5ECF6",
          "polar": {
           "angularaxis": {
            "gridcolor": "white",
            "linecolor": "white",
            "ticks": ""
           },
           "bgcolor": "#E5ECF6",
           "radialaxis": {
            "gridcolor": "white",
            "linecolor": "white",
            "ticks": ""
           }
          },
          "scene": {
           "xaxis": {
            "backgroundcolor": "#E5ECF6",
            "gridcolor": "white",
            "gridwidth": 2,
            "linecolor": "white",
            "showbackground": true,
            "ticks": "",
            "zerolinecolor": "white"
           },
           "yaxis": {
            "backgroundcolor": "#E5ECF6",
            "gridcolor": "white",
            "gridwidth": 2,
            "linecolor": "white",
            "showbackground": true,
            "ticks": "",
            "zerolinecolor": "white"
           },
           "zaxis": {
            "backgroundcolor": "#E5ECF6",
            "gridcolor": "white",
            "gridwidth": 2,
            "linecolor": "white",
            "showbackground": true,
            "ticks": "",
            "zerolinecolor": "white"
           }
          },
          "shapedefaults": {
           "line": {
            "color": "#2a3f5f"
           }
          },
          "ternary": {
           "aaxis": {
            "gridcolor": "white",
            "linecolor": "white",
            "ticks": ""
           },
           "baxis": {
            "gridcolor": "white",
            "linecolor": "white",
            "ticks": ""
           },
           "bgcolor": "#E5ECF6",
           "caxis": {
            "gridcolor": "white",
            "linecolor": "white",
            "ticks": ""
           }
          },
          "title": {
           "x": 0.05
          },
          "xaxis": {
           "automargin": true,
           "gridcolor": "white",
           "linecolor": "white",
           "ticks": "",
           "title": {
            "standoff": 15
           },
           "zerolinecolor": "white",
           "zerolinewidth": 2
          },
          "yaxis": {
           "automargin": true,
           "gridcolor": "white",
           "linecolor": "white",
           "ticks": "",
           "title": {
            "standoff": 15
           },
           "zerolinecolor": "white",
           "zerolinewidth": 2
          }
         }
        },
        "title": {
         "font": {
          "size": 28
         },
         "text": "<b>#4 I-V</b> 009-1_1kOhms, R_fit=1009.0326 Ω"
        },
        "width": 1080,
        "xaxis": {
         "tickfont": {
          "size": 16
         },
         "title": {
          "font": {
           "size": 20
          },
          "text": "appl_current"
         }
        },
        "yaxis": {
         "tickfont": {
          "size": 16
         },
         "title": {
          "font": {
           "size": 20
          },
          "text": "meas_voltage_K1 mV"
         }
        }
       }
      }
     },
     "metadata": {},
     "output_type": "display_data"
    }
   ],
   "source": [
    "IV(4)"
   ]
  },
  {
   "cell_type": "code",
   "execution_count": null,
   "id": "ee32ef77",
   "metadata": {},
   "outputs": [],
   "source": [
    "get_R_from_IV(dataid)"
   ]
  },
  {
   "cell_type": "code",
   "execution_count": null,
   "id": "ae71124e",
   "metadata": {},
   "outputs": [],
   "source": [
    "dataset = qc.load_by_id(dataid)\n",
    "get_R_from_IV(dataid)\n",
    "IV(dataid)\n",
    "IV_diff(dataid)"
   ]
  },
  {
   "cell_type": "code",
   "execution_count": 32,
   "id": "795c08e0",
   "metadata": {},
   "outputs": [],
   "source": [
    "import plotly.graph_objs as go"
   ]
  },
  {
   "cell_type": "code",
   "execution_count": null,
   "id": "ea6a7850",
   "metadata": {},
   "outputs": [],
   "source": []
  },
  {
   "cell_type": "code",
   "execution_count": null,
   "id": "9ca53ea4",
   "metadata": {},
   "outputs": [],
   "source": [
    "for i in tqdm(range(1000)):\n",
    "    K2440.output(1)\n",
    "    I_range=1e-6\n",
    "    appl_current(-I_range) #Limit:1e-5 Amp(1MOhms risistor),1e-6 Amp(10MOhms risistor)\n",
    "    sleep(0.001)\n",
    "    # station.snapshot(update=True);\n",
    "    exp = qc.new_experiment('I-V', sample_name=f'103-03_J1_33-32-30-31_1M_F{i+1}')\n",
    "    dataid = do1d(appl_current, -I_range ,I_range, 101, 0.0001, meas_voltage_K2, meas_voltage_AC_L1,meas_voltage_AC_L1_P)\n",
    "    exp = qc.new_experiment('I-V', sample_name=f'103-03_J1_33-32-30-31_1M_B{i+1}')\n",
    "    dataid = do1d(appl_current, I_range ,-I_range, 101, 0.0001, meas_voltage_K2)\n",
    "    K2440.output(0)\n",
    "    clear_output(True)"
   ]
  },
  {
   "cell_type": "code",
   "execution_count": null,
   "id": "ffc1e4dd",
   "metadata": {},
   "outputs": [],
   "source": [
    "get_Mag()"
   ]
  },
  {
   "cell_type": "code",
   "execution_count": null,
   "id": "2908c940",
   "metadata": {},
   "outputs": [],
   "source": [
    "SGS.off()"
   ]
  },
  {
   "cell_type": "code",
   "execution_count": null,
   "id": "d82eb13a",
   "metadata": {},
   "outputs": [],
   "source": [
    "SGS.power(0)"
   ]
  },
  {
   "cell_type": "code",
   "execution_count": null,
   "id": "242d95fc",
   "metadata": {},
   "outputs": [],
   "source": [
    "DMM6500.averaging_count(5)\n",
    "DMM6500.averaging_enabled(True)"
   ]
  },
  {
   "cell_type": "code",
   "execution_count": null,
   "id": "e0c518ad",
   "metadata": {},
   "outputs": [],
   "source": [
    "for i in tqdm(range(21)):\n",
    "    I_range = round(round(0.55 + 5*i * 1e-4, 6)* 1e-6, 10)  # Round to 3 decimal places\n",
    "    print(I_range)\n"
   ]
  },
  {
   "cell_type": "code",
   "execution_count": null,
   "id": "78e3e90f",
   "metadata": {},
   "outputs": [],
   "source": []
  },
  {
   "cell_type": "code",
   "execution_count": null,
   "id": "0999a81b",
   "metadata": {},
   "outputs": [],
   "source": [
    "for i in tqdm(range(21)):\n",
    "    K2440.output(1)\n",
    "    I_range = round(round(0.55 + 5*i * 1e-4, 6)* 1e-6, 10) \n",
    "    appl_current(-I_range) #Limit:1e-5 Amp(1MOhms risistor),1e-6 Amp(10MOhms risistor)\n",
    "    sleep(2)\n",
    "    # station.snapshot(update=True);\n",
    "    exp = qc.new_experiment('I-V', sample_name=f'103-04_J1_24-25-05-04(06-07G)_1M_By@0mT_{-I_range}_201')\n",
    "    dataid = do1d(appl_current, -I_range ,I_range, 201, 0.00001, meas_voltage_K2)\n",
    "\n",
    "    appl_current(0)\n",
    "    K2440.output(0)\n",
    "\n",
    "\n",
    "    plot_by_id(dataid)\n",
    "    save_path = r\"D:\\data\\Albert\\103\\Plot\\104_{}.png\".format(dataid)  # Path to save the plot image\n",
    "    autosave_plot_by_id(dataid, save_path)\n",
    "    print(f\"ID:{dataid}\")\n",
    "    print(f\"R = {get_R_from_IV_2(dataid)}\")\n",
    "    dataset = qc.load_by_id(dataid)\n",
    "    IV(id=dataid)\n",
    "    IV_diff(id=dataid)"
   ]
  },
  {
   "cell_type": "code",
   "execution_count": null,
   "id": "e9ac98ca",
   "metadata": {},
   "outputs": [],
   "source": [
    "DMM6500.averaging_count(5)\n",
    "DMM6500.averaging_enabled(True)"
   ]
  },
  {
   "cell_type": "code",
   "execution_count": null,
   "id": "ad55deb3",
   "metadata": {},
   "outputs": [],
   "source": [
    "K2440.output(1)\n",
    "I_range = -6e-6\n",
    "appl_current(-I_range) #Limit:1e-5 Amp(1MOhms risistor),1e-6 Amp(10MOhms risistor)\n",
    "sleep(2)\n",
    "# station.snapshot(update=True);\n",
    "exp = qc.new_experiment('I-V', sample_name=f'103-03_J2_27-26-30-31M(32G-33G-28G-29G)_1M_By@0.1mT{-I_range}')\n",
    "dataid = do1d(appl_current, -I_range  ,I_range , 2601, 0.00001, meas_voltage_K2)\n",
    "appl_current(0)\n",
    "K2440.output(0)\n",
    "plot_by_id(dataid)\n",
    "save_path = r\"D:\\data\\Albert\\103\\Plot\\104_{}.png\".format(dataid)  # Path to save the plot image\n",
    "autosave_plot_by_id(dataid, save_path)\n",
    "print(f\"R = {get_R_from_IV_2(dataid)}\")\n",
    "dataset = qc.load_by_id(dataid)"
   ]
  },
  {
   "cell_type": "code",
   "execution_count": null,
   "id": "2b0e1832",
   "metadata": {},
   "outputs": [],
   "source": [
    "K2440.output(1)\n",
    "I_range = 6e-6\n",
    "appl_current(-I_range) #Limit:1e-5 Amp(1MOhms risistor),1e-6 Amp(10MOhms risistor)\n",
    "sleep(2)\n",
    "# station.snapshot(update=True);\n",
    "exp = qc.new_experiment('I-V', sample_name=f'103-03_J2_27-26-30-31M(32G-33G-28G-29G)_1M_By@0.1mT{-I_range}')\n",
    "dataid = do1d(appl_current, -I_range  ,I_range , 2601, 0.00001, meas_voltage_K2)\n",
    "appl_current(0)\n",
    "K2440.output(0)\n",
    "plot_by_id(dataid)\n",
    "save_path = r\"D:\\data\\Albert\\103\\Plot\\104_{}.png\".format(dataid)  # Path to save the plot image\n",
    "autosave_plot_by_id(dataid, save_path)\n",
    "print(f\"ID:{dataid}\")\n",
    "print(f\"R = {get_R_from_IV_2(dataid)}\")\n",
    "dataset = qc.load_by_id(dataid)\n",
    "# IV(id=dataid)\n",
    "# IV_diff(id=dataid)"
   ]
  },
  {
   "cell_type": "code",
   "execution_count": null,
   "id": "e90dc212",
   "metadata": {},
   "outputs": [],
   "source": [
    "25-05-06-07(04-24G)\n"
   ]
  },
  {
   "cell_type": "code",
   "execution_count": null,
   "id": "5c79e45a",
   "metadata": {},
   "outputs": [],
   "source": [
    "K2440.output(1)\n",
    "I_range=-7e-6\n",
    "appl_current(-I_range) #Limit:1e-5 Amp(1MOhms risistor),1e-6 Amp(10MOhms risistor)\n",
    "sleep(2)\n",
    "# station.snapshot(update=True);\n",
    "exp = qc.new_experiment('I-V', sample_name='103-03_J2_32-30-26-27_1M_By@0mT')\n",
    "dataid = do1d(appl_current, -I_range ,I_range, 1401, 0.0001, meas_voltage_K2)\n",
    "\n",
    "appl_current(0)\n",
    "K2440.output(0)\n",
    "\n",
    "\n",
    "plot_by_id(dataid)\n",
    "save_path = r\"D:\\data\\Albert\\103\\Plot\\104_{}.png\".format(dataid)  # Path to save the plot image\n",
    "autosave_plot_by_id(dataid, save_path)\n",
    "print(f\"ID:{dataid}\")\n",
    "print(f\"R = {get_R_from_IV_2(dataid)}\")\n",
    "dataset = qc.load_by_id(dataid)\n",
    "IV(id=dataid)\n",
    "IV_diff(id=dataid)"
   ]
  },
  {
   "cell_type": "code",
   "execution_count": null,
   "id": "8666f593",
   "metadata": {},
   "outputs": [],
   "source": [
    "K2440.output(1)\n",
    "I_range=7e-6\n",
    "appl_current(-I_range) #Limit:1e-5 Amp(1MOhms risistor),1e-6 Amp(10MOhms risistor)\n",
    "sleep(2)\n",
    "# station.snapshot(update=True);\n",
    "exp = qc.new_experiment('I-V', sample_name='103-03_J2_32-30-26-27_1M_By@0mT')\n",
    "dataid = do1d(appl_current, -I_range ,I_range, 1401, 0.0001, meas_voltage_K2)\n",
    "\n",
    "appl_current(0)\n",
    "K2440.output(0)\n",
    "\n",
    "\n",
    "plot_by_id(dataid)\n",
    "save_path = r\"D:\\data\\Albert\\103\\Plot\\104_{}.png\".format(dataid)  # Path to save the plot image\n",
    "autosave_plot_by_id(dataid, save_path)\n",
    "print(f\"ID:{dataid}\")\n",
    "print(f\"R = {get_R_from_IV_2(dataid)}\")\n",
    "dataset = qc.load_by_id(dataid)\n",
    "IV(id=dataid)\n",
    "IV_diff(id=dataid)"
   ]
  },
  {
   "cell_type": "code",
   "execution_count": null,
   "id": "4ce7045d",
   "metadata": {},
   "outputs": [],
   "source": [
    "# Set current to 0\n",
    "K2440.output(0)\n",
    "appl_current(0e-6)"
   ]
  },
  {
   "cell_type": "code",
   "execution_count": null,
   "id": "749b64e4",
   "metadata": {},
   "outputs": [],
   "source": [
    "K2440.output(1)\n",
    "appl_current(0.1e-7)"
   ]
  },
  {
   "cell_type": "code",
   "execution_count": null,
   "id": "9f4da299",
   "metadata": {
    "scrolled": true
   },
   "outputs": [],
   "source": [
    "runid=6\n",
    "print(get_R_from_IV_2(runid))"
   ]
  },
  {
   "cell_type": "markdown",
   "id": "3196b90e",
   "metadata": {},
   "source": [
    "## 加TG (1D)"
   ]
  },
  {
   "cell_type": "code",
   "execution_count": null,
   "id": "08a5e298",
   "metadata": {},
   "outputs": [],
   "source": [
    "K2440.output(1)\n",
    "appl_TG(0)"
   ]
  },
  {
   "cell_type": "code",
   "execution_count": null,
   "id": "a6f95af5",
   "metadata": {},
   "outputs": [],
   "source": [
    "K2440.output(1)\n",
    "K2440.output(1)\n",
    "appl_TG(-50)\n",
    "sleep(3)\n",
    "appl_current(-1.5e-8)\n",
    "sleep(1)\n",
    "\n",
    "# station.snapshot(update=True);\n",
    "exp = qc.new_experiment('IV', sample_name='TG21')\n",
    "\n",
    "#do1d(param_set, start, stop, num_points, delay, *param_meas)\n",
    "dataid = do1d(appl_current, -1.5e-8 ,1.5e-8, 101, 0.05, meas_voltage_K2)\n",
    "# dataid = do1d(appl_current, 6e-6 , -6e-6, 251, 0.01, meas_voltage_K1)\n",
    "# ivvi.set_dacs_zero()\n",
    "\n",
    "K2440.output(0)\n",
    "K2440.output(0)\n",
    "appl_current(0)\n",
    "plot_by_id(dataid)\n",
    "#print(get_R_from_IV(dataid))\n",
    "# print(get_R_from_IV_2(dataid))\n"
   ]
  },
  {
   "cell_type": "markdown",
   "id": "05b0d19b",
   "metadata": {},
   "source": [
    "## 歸零\n"
   ]
  },
  {
   "cell_type": "code",
   "execution_count": null,
   "id": "d8154670",
   "metadata": {},
   "outputs": [],
   "source": [
    "#K2440.output(1)\n",
    "K2440.output(1)\n",
    "\n",
    "appl_current(0)\n",
    "sleep(1)\n",
    "#appl_TG(0)\n",
    "sleep(5)\n",
    "\n",
    "#K2440.output(0)\n",
    "K2440.output(0)"
   ]
  },
  {
   "cell_type": "markdown",
   "id": "91795bf5",
   "metadata": {},
   "source": [
    "# Magnetic field"
   ]
  },
  {
   "cell_type": "markdown",
   "id": "c1b88abd",
   "metadata": {},
   "source": [
    "## IV vs Bx"
   ]
  },
  {
   "cell_type": "code",
   "execution_count": null,
   "id": "77c31bf1",
   "metadata": {},
   "outputs": [],
   "source": [
    "K2440.rangev()"
   ]
  },
  {
   "cell_type": "code",
   "execution_count": null,
   "id": "ea5d8a7d",
   "metadata": {},
   "outputs": [],
   "source": [
    "K2440.volt(0)\n",
    "K2440.output(1) #output off\n",
    "sleep(1)\n",
    "appl_current(1.5e-7)\n",
    "sleep(2)\n",
    "meas_voltage_K2()"
   ]
  },
  {
   "cell_type": "code",
   "execution_count": null,
   "id": "e083479a",
   "metadata": {},
   "outputs": [],
   "source": [
    "sleep(120)"
   ]
  },
  {
   "cell_type": "code",
   "execution_count": null,
   "id": "6c69dc40",
   "metadata": {},
   "outputs": [],
   "source": [
    "def get_Mag(show=True):\n",
    "    Mag_x = magnet_x.field()\n",
    "    Mag_y = magnet_y.field()\n",
    "    Mag_z = magnet_z.field()\n",
    "    if show:\n",
    "        print(f\"Mag_x: {Mag_x*1e3:.6f} mT\")\n",
    "        print(f\"Mag_y: {Mag_y*1e3:.6f} mT\")\n",
    "        print(f\"Mag_z: {Mag_z*1e3:.6f} mT\")\n",
    "    else: \n",
    "        return Mag_x, Mag_y, Mag_z\n",
    "get_Mag()"
   ]
  },
  {
   "cell_type": "code",
   "execution_count": null,
   "id": "582ee743",
   "metadata": {},
   "outputs": [],
   "source": [
    "get_Mag()"
   ]
  },
  {
   "cell_type": "code",
   "execution_count": null,
   "id": "9634bb97",
   "metadata": {},
   "outputs": [],
   "source": [
    "magnet_y.field()"
   ]
  },
  {
   "cell_type": "code",
   "execution_count": null,
   "id": "add54ae7",
   "metadata": {},
   "outputs": [],
   "source": [
    "for i in tqdm(range(23), desc=\"First loop\"):\n",
    "    value = (25 - i) * 1e-3 \n",
    "    value = float(f\"{value:.10f}\")\n",
    "    print(value)"
   ]
  },
  {
   "cell_type": "code",
   "execution_count": null,
   "id": "04c8a1e5",
   "metadata": {},
   "outputs": [],
   "source": [
    "from tqdm import tqdm\n",
    "import time\n",
    "\n",
    "from IPython.display import clear_output\n",
    "# First loop\n",
    "for i in tqdm(range(6), desc=\"First loop\"):\n",
    "    Mag_x = magnet_x.field()\n",
    "    value = (15 + i) * 1e-3\n",
    "    value = float(f\"{value:.10f}\")\n",
    "    magnet_x.field(value)\n",
    "    print(f\"magnet_x is {Mag_x:.8f} T\")\n",
    "    time.sleep(15)\n",
    "    clear_output(True)\n",
    "\n",
    "# Pause for 30 seconds\n",
    "time.sleep(60)\n",
    "\n",
    "# Second loop\n",
    "for i in tqdm(range(23), desc=\"First loop\"):\n",
    "    Mag_x = magnet_x.field()\n",
    "    value = (25 - i) * 1e-3 \n",
    "    value = float(f\"{value:.10f}\")\n",
    "    magnet_x.field(value)\n",
    "    print(f\"magnet_x is {Mag_x:.8f} T\")\n",
    "    time.sleep(15)\n",
    "    clear_output(True)\n",
    "\n",
    "# Pause for 180 seconds\n",
    "time.sleep(300)"
   ]
  },
  {
   "cell_type": "code",
   "execution_count": null,
   "id": "fc3e418b",
   "metadata": {},
   "outputs": [],
   "source": [
    "magnet_x.field(-20)"
   ]
  },
  {
   "cell_type": "code",
   "execution_count": null,
   "id": "07666294",
   "metadata": {},
   "outputs": [],
   "source": [
    "Mag = -20e-3\n",
    "I_range=2.5e-6\n",
    "K2440.output(1)\n",
    "sleep(2)\n",
    "magnet_x.field(Mag)\n",
    "sleep(10)\n",
    "appl_current(-I_range)\n",
    "sleep(3)\n",
    "direction = 'backward' if Mag > 0 else 'forward'\n",
    "\n",
    "\n",
    "# station.snapshot(update=True);\n",
    "exp = qc.new_experiment('IV vs Bx', sample_name=f'103-06_J2_12-13-18-19_1M_Bx_{direction}_By@0mT')\n",
    "\n",
    "dataid = do2d(magnet_x.field, Mag, -Mag, 76 , 0.7, appl_current, -I_range ,I_range, 101, 0.01, meas_voltage_K2)\n",
    "\n",
    "appl_current(0)\n",
    "K2440.output(0)\n",
    "# magnet_y.field(0)\n",
    "\n",
    "plot_by_id(dataid)\n",
    "autosave_plot_by_id(dataid, save_path)"
   ]
  },
  {
   "cell_type": "code",
   "execution_count": null,
   "id": "5f475874",
   "metadata": {},
   "outputs": [],
   "source": [
    "K2440.output(1)\n",
    "sleep(2)\n",
    "Mag = 10e-3\n",
    "I_range=2.5e-5\n",
    "\n",
    "magnet_x.field(Mag)\n",
    "sleep(30)\n",
    "appl_current(-I_range)\n",
    "sleep(3)\n",
    "direction = 'backward' if Mag > 0 else 'forward'\n",
    "\n",
    "\n",
    "# station.snapshot(update=True);\n",
    "\n",
    "exp = qc.new_experiment('IV vs Bx', sample_name=f'094-20IV_Bx_16-17-19-18_10M_{direction}')\n",
    "\n",
    "dataid = do2d(magnet_x.field, Mag, -Mag, 101 , 1.5, appl_current, -I_range ,I_range, 101, 0.05, meas_voltage_K2)#M:I Delay time 10:1\n",
    "\n",
    "\n",
    "appl_current(0)\n",
    "K2440.output(0)\n",
    "# magnet_x.field(0)\n",
    "\n",
    "plot_by_id(dataid)\n",
    "autosave_plot_by_id(dataid, save_path)"
   ]
  },
  {
   "cell_type": "code",
   "execution_count": null,
   "id": "bfdd8a07",
   "metadata": {},
   "outputs": [],
   "source": [
    "set_magnetic_field_stepwise(magnet=magnet_x, current_field=-40e-3, target_field=-18e-3, step_size=1e-3, delay=2.5)"
   ]
  },
  {
   "cell_type": "code",
   "execution_count": null,
   "id": "5eef089c",
   "metadata": {},
   "outputs": [],
   "source": [
    "def set_magnetic_field_stepwise(magnet=magnet_x, current_field=0, target_field=-10e-3, step_size=1e-3, delay=2.5):\n",
    "    \n",
    "    \"\"\"Set the magnetic field with anti-hysteresis mechanism witch will go to target magnetic field +/- 5mT, \n",
    "    if the target magnetic field is greater/less than the current magnetic field, \n",
    "    then slowly ramp back the magnetic field to the target magnetic field\n",
    "\n",
    "    Args:\n",
    "        magnet (_type_, optional): magnet_x,magnet_y,magnet_z. Defaults to magnet_x.\n",
    "        current_field (int, optional): _description_. Defaults to 0 T.\n",
    "        target_field (_type_, optional): _description_. Defaults to -10e-3 T.\n",
    "        step_size (_type_, optional): _description_. Defaults to 1e-3 T.\n",
    "        delay (float, optional): _description_. Defaults to 2 sec.\n",
    "    \n",
    "    \"\"\"\n",
    "    \n",
    "    from tqdm.notebook import tqdm\n",
    "    import math\n",
    "    # Calculate total steps for tqdm progress bar\n",
    "    total_steps = math.ceil(abs((target_field - current_field) / step_size)) * 2\n",
    "    progress_bar = tqdm(total=total_steps)\n",
    "\n",
    "    # Determine the intermediate target field\n",
    "    intermediate_target_field = target_field + 5e-3 if target_field > current_field else target_field - 5e-3\n",
    "    # Slowly ramp the magnetic field to the intermediate target field\n",
    "    while abs(intermediate_target_field - current_field) > step_size:\n",
    "        if intermediate_target_field > current_field:\n",
    "            current_field += step_size\n",
    "            magnet.field(current_field)\n",
    "        else:\n",
    "            current_field -= step_size\n",
    "            magnet.field(current_field)\n",
    "        time.sleep(delay)\n",
    "        progress_bar.update(1)  # Update progress bar\n",
    "    # Slowly ramp back the magnetic field to the target_field\n",
    "    while abs(target_field - current_field) > step_size:\n",
    "        if target_field > current_field:\n",
    "            current_field += step_size\n",
    "            magnet.field(current_field)\n",
    "        else:\n",
    "            current_field -= step_size\n",
    "            magnet.field(current_field)\n",
    "        time.sleep(delay)\n",
    "        progress_bar.update(1)  # Update progress bar\n",
    "    magnet.field(target_field)\n",
    "    progress_bar.n = total_steps  # Set progress bar to 100%\n",
    "    progress_bar.refresh()  # Refresh the progress bar to show the update\n",
    "    progress_bar.close()  # Close progress bar when done"
   ]
  },
  {
   "cell_type": "code",
   "execution_count": null,
   "id": "6d385381",
   "metadata": {},
   "outputs": [],
   "source": [
    "for i in range(6):\n",
    "    magnet_x.field((-10-i)*1e-3)\n",
    "    sleep(4)\n",
    "sleep(10)\n",
    "\n",
    "for i in range(16):\n",
    "    magnet_x.field((15+i)*1e-3)\n",
    "    sleep(4)\n",
    "sleep(10)"
   ]
  },
  {
   "cell_type": "code",
   "execution_count": null,
   "id": "83205742",
   "metadata": {},
   "outputs": [],
   "source": [
    "for i in range(25):\n",
    "    print(-24+i)"
   ]
  },
  {
   "cell_type": "code",
   "execution_count": null,
   "id": "fef193a7",
   "metadata": {},
   "outputs": [],
   "source": [
    "magnet_x.field(-19e-3)\n",
    "sleep(10)\n",
    "#magnet_x.field(e-3)\n",
    "#sleep(10)\n",
    "#magnet_x.field(12.8e-3)\n",
    "#sleep(10)"
   ]
  },
  {
   "cell_type": "markdown",
   "id": "6a6f3c0d",
   "metadata": {},
   "source": [
    "## IV vs By"
   ]
  },
  {
   "cell_type": "code",
   "execution_count": null,
   "id": "b823efb8",
   "metadata": {},
   "outputs": [],
   "source": [
    "get_Mag()"
   ]
  },
  {
   "cell_type": "code",
   "execution_count": null,
   "id": "9e236537",
   "metadata": {},
   "outputs": [],
   "source": [
    "magnet_y.field(0e-3)"
   ]
  },
  {
   "cell_type": "code",
   "execution_count": null,
   "id": "b4e8ec13",
   "metadata": {},
   "outputs": [],
   "source": [
    "for i in tqdm(range(21), desc=\"2nd loop\"):\n",
    "    \n",
    "    value = (-10 + i*0.5) * 1e-3 \n",
    "    value = float(f\"{value:.10f}\")\n",
    "    magnet_y.field(value)\n",
    "    get_Mag()\n",
    "    time.sleep(15)\n",
    "    clear_output(True)"
   ]
  },
  {
   "cell_type": "code",
   "execution_count": null,
   "id": "5dce7f89",
   "metadata": {},
   "outputs": [],
   "source": [
    "\n",
    "# First loop\n",
    "for i in tqdm(range(11), desc=\"First loop\"):\n",
    "    \n",
    "    value = (5 +i) * 1e-3\n",
    "    value = float(f\"{value:.10f}\")\n",
    "    magnet_y.field(value)\n",
    "    get_Mag()\n",
    "    time.sleep(15)\n",
    "    clear_output(True)\n",
    "\n",
    "# Pause for 30 seconds\n",
    "time.sleep(60)\n",
    "\n",
    "# Second loop\n",
    "for i in tqdm(range(11), desc=\"2nd loop\"):\n",
    "    \n",
    "    value = (-10 + i) * 1e-3 \n",
    "    value = float(f\"{value:.10f}\")\n",
    "    magnet_y.field(value)\n",
    "    get_Mag()\n",
    "    time.sleep(15)\n",
    "    clear_output(True)\n",
    "# Pause for 180 seconds\n",
    "time.sleep(300)"
   ]
  },
  {
   "cell_type": "code",
   "execution_count": null,
   "id": "46dc421a",
   "metadata": {},
   "outputs": [],
   "source": [
    "magnet_y.field()"
   ]
  },
  {
   "cell_type": "code",
   "execution_count": null,
   "id": "3a7fb763",
   "metadata": {},
   "outputs": [],
   "source": [
    "Mag =5e-3\n",
    "I_range=0.6e-6\n",
    "K2440.output(1)\n",
    "sleep(2)\n",
    "magnet_y.field(Mag)\n",
    "sleep(10)\n",
    "appl_current(-I_range)\n",
    "sleep(3)\n",
    "direction = 'backward' if Mag > 0 else 'forward'\n",
    "\n",
    "\n",
    "# station.snapshot(update=True);\n",
    "exp = qc.new_experiment('IV vs By', sample_name=f'103-03_J2_27-26-30-31M(32G-33G-28G-29G)_1M_By_{direction}_{-I_range}')\n",
    "\n",
    "dataid = do2d(magnet_y.field, Mag, -Mag, 201 , 0.5, appl_current, -I_range ,I_range,  201, 0.0001, meas_voltage_K2)\n",
    "\n",
    "appl_current(0)\n",
    "K2440.output(0)\n",
    "# magnet_y.field(0)\n",
    "\n",
    "plot_by_id(dataid)\n",
    "autosave_plot_by_id(dataid, save_path)"
   ]
  },
  {
   "cell_type": "code",
   "execution_count": null,
   "id": "a9c30858",
   "metadata": {},
   "outputs": [],
   "source": [
    "Mag =-5e-3\n",
    "I_range=5e-6\n",
    "K2440.output(1)\n",
    "sleep(2)\n",
    "magnet_y.field(Mag)\n",
    "sleep(10)\n",
    "appl_current(-I_range)\n",
    "sleep(3)\n",
    "direction = 'backward' if Mag > 0 else 'forward'\n",
    "\n",
    "\n",
    "# station.snapshot(update=True);\n",
    "exp = qc.new_experiment('IV vs By', sample_name=f'103-03_J2_27-26-30-31M(32G-33G-28G-29G)_1M_By_{direction}_{-I_range}')\n",
    "\n",
    "dataid = do2d(magnet_y.field, Mag, -Mag, 201 , 0.5, appl_current, -I_range ,I_range,  201, 0.0001, meas_voltage_K2)\n",
    "\n",
    "appl_current(0)\n",
    "K2440.output(0)\n",
    "# magnet_y.field(0)\n",
    "\n",
    "plot_by_id(dataid)\n",
    "autosave_plot_by_id(dataid, save_path)"
   ]
  },
  {
   "cell_type": "code",
   "execution_count": null,
   "id": "8ba8b69c",
   "metadata": {},
   "outputs": [],
   "source": [
    "32-"
   ]
  },
  {
   "cell_type": "code",
   "execution_count": null,
   "id": "7c2e8f1b",
   "metadata": {},
   "outputs": [],
   "source": [
    "\n",
    "# First loop\n",
    "for i in tqdm(range(6), desc=\"First loop\"):\n",
    "    Mag_x = magnet_y.field()\n",
    "    value = (1.5 +i) * 1e-3\n",
    "    value = float(f\"{value:.10f}\")\n",
    "    magnet_y.field(value)\n",
    "    print(f\"magnet_y is {Mag_x:.8f} T\")\n",
    "    time.sleep(15)\n",
    "    clear_output(True)\n",
    "\n",
    "# Pause for 30 seconds\n",
    "time.sleep(60)\n",
    "\n",
    "# Second loop\n",
    "for i in tqdm(range(6), desc=\"2nd loop\"):\n",
    "    Mag_x = magnet_y.field()\n",
    "    value = (6.5 - i) * 1e-3 \n",
    "    value = float(f\"{value:.10f}\")\n",
    "    magnet_y.field(value)\n",
    "    print(f\"magnet_y is {Mag_x:.8f} T\")\n",
    "    time.sleep(15)\n",
    "    clear_output(True)\n",
    "\n",
    "# Pause for 180 seconds\n",
    "time.sleep(300)"
   ]
  },
  {
   "cell_type": "code",
   "execution_count": null,
   "id": "8d736f1b",
   "metadata": {},
   "outputs": [],
   "source": [
    "Mag = 1.5e-3\n",
    "I_range=2.5e-6\n",
    "K2440.output(1)\n",
    "sleep(2)\n",
    "magnet_y.field(Mag)\n",
    "sleep(10)\n",
    "appl_current(-I_range)\n",
    "sleep(3)\n",
    "direction = 'backward' if Mag > 0 else 'forward'\n",
    "\n",
    "\n",
    "# station.snapshot(update=True);\n",
    "exp = qc.new_experiment('IV vs By', sample_name=f'103-06_J2_12-13-18-19_1M_By_{direction}_Bx@3mT')\n",
    "\n",
    "dataid = do2d(magnet_y.field, Mag, -Mag, 1001 , 0.4, appl_current, -I_range ,I_range, 151, 0.01, meas_voltage_K2)\n",
    "\n",
    "appl_current(0)\n",
    "K2440.output(0)\n",
    "# magnet_y.field(0)\n",
    "\n",
    "plot_by_id(dataid)\n",
    "autosave_plot_by_id(dataid, save_path)"
   ]
  },
  {
   "cell_type": "code",
   "execution_count": null,
   "id": "43eb5eb6",
   "metadata": {},
   "outputs": [],
   "source": [
    "Mag()"
   ]
  },
  {
   "cell_type": "code",
   "execution_count": null,
   "id": "721c43a1",
   "metadata": {},
   "outputs": [],
   "source": [
    "Mag = 1.5e-3\n",
    "I_range=1e-6\n",
    "K2440.output(1)\n",
    "sleep(2)\n",
    "magnet_y.field(Mag)\n",
    "sleep(10)\n",
    "appl_current(-I_range)\n",
    "sleep(3)\n",
    "direction = 'backward' if Mag > 0 else 'forward'\n",
    "\n",
    "\n",
    "# station.snapshot(update=True);\n",
    "exp = qc.new_experiment('IV vs By', sample_name=f'103-01_J1_21-20-23-22_1M_By_{direction}_Bx@0mT')\n",
    "\n",
    "dataid = do2d(magnet_y.field, Mag, -Mag, 151 , 0.9, appl_current, -I_range ,I_range, 201, 0.01, meas_voltage_K2)\n",
    "\n",
    "appl_current(0)\n",
    "K2440.output(0)\n",
    "# magnet_y.field(0)\n",
    "\n",
    "plot_by_id(dataid)\n",
    "autosave_plot_by_id(dataid, save_path)"
   ]
  },
  {
   "cell_type": "code",
   "execution_count": null,
   "id": "dadb617e",
   "metadata": {},
   "outputs": [],
   "source": [
    "from tqdm import tqdm\n",
    "import time\n",
    "\n",
    "# First loop\n",
    "for i in tqdm(range(6), desc=\"First loop\"):\n",
    "    value = (1.5 + i) * 1e-3 \n",
    "    magnet_y.field(value)\n",
    "    print(f\"magnet_y is {value:.8f} T\")\n",
    "    time.sleep(10)\n",
    "\n",
    "# Pause for 30 seconds\n",
    "time.sleep(30)\n",
    "\n",
    "# Second loop\n",
    "for i in tqdm(range(8), desc=\"First loop\"):\n",
    "    value = (7 - i) * 1e-3 \n",
    "    magnet_y.field(value)\n",
    "    print(f\"magnet_y is {value:.8f} T\")\n",
    "    time.sleep(10)\n",
    "\n",
    "# Pause for 180 seconds\n",
    "time.sleep(300)\n"
   ]
  },
  {
   "cell_type": "code",
   "execution_count": null,
   "id": "cceb780f",
   "metadata": {},
   "outputs": [],
   "source": [
    "def combined_loop(start=0, end=5 ):\n",
    "  for i in tqdm(range((end-start)+6), desc=\"First loop\"):\n",
    "    value = start + i\n",
    "    print(f\"{value* 1e-3:.5f}\")\n",
    "\n",
    "  for i in tqdm(range(6), desc=\"Second loop\"):\n",
    "    value = end+5 - i\n",
    "    print(f\"{value* 1e-3:.5f}\")\n",
    "\n",
    "combined_loop()\n"
   ]
  },
  {
   "cell_type": "code",
   "execution_count": null,
   "id": "7963ad50",
   "metadata": {},
   "outputs": [],
   "source": [
    "Mag = 3e-3\n",
    "I_range=1e-6\n",
    "K2440.output(1)\n",
    "sleep(2)\n",
    "magnet_y.field(Mag)\n",
    "sleep(10)\n",
    "appl_current(-I_range)\n",
    "sleep(3)\n",
    "direction = 'backward' if Mag > 0 else 'forward'\n",
    "\n",
    "\n",
    "# station.snapshot(update=True);\n",
    "exp = qc.new_experiment('IV vs By', sample_name=f'103-04_J2_04-05-06-07_1M_By_{direction}_Bx@0mT')\n",
    "\n",
    "dataid = do2d(magnet_y.field, Mag, -Mag, 101 , 1.5, appl_current, -I_range ,I_range, 101, 0.01, meas_voltage_K2)\n",
    "\n",
    "appl_current(0)\n",
    "K2440.output(0)\n",
    "# magnet_y.field(0)\n",
    "\n",
    "plot_by_id(dataid)\n",
    "autosave_plot_by_id(dataid, save_path)"
   ]
  },
  {
   "cell_type": "code",
   "execution_count": null,
   "id": "3d67f8ce",
   "metadata": {},
   "outputs": [],
   "source": [
    "from tqdm import tqdm\n",
    "import time\n",
    "\n",
    "# First loop\n",
    "for i in tqdm(range(6), desc=\"First loop\"):\n",
    "    magnet_y.field((-3 - i) * 1e-3)\n",
    "    time.sleep(15)\n",
    "\n",
    "# Pause for 30 seconds\n",
    "time.sleep(30)\n",
    "\n",
    "# Second loop\n",
    "for i in tqdm(range(7), desc=\"Second loop\"):\n",
    "    magnet_y.field((-8 + i) * 1e-3)\n",
    "    time.sleep(15)\n",
    "\n",
    "# Pause for 180 seconds\n",
    "time.sleep(300)"
   ]
  },
  {
   "cell_type": "code",
   "execution_count": null,
   "id": "af9e2a73",
   "metadata": {},
   "outputs": [],
   "source": [
    "magnet_y.field(-1.5e-3)\n",
    "print(\"By at -1.5 mT\")"
   ]
  },
  {
   "cell_type": "code",
   "execution_count": null,
   "id": "214aa45a",
   "metadata": {},
   "outputs": [],
   "source": [
    "Mag = -3e-3\n",
    "I_range=1e-6\n",
    "K2440.output(1)\n",
    "sleep(2)\n",
    "magnet_y.field(Mag)\n",
    "sleep(10)\n",
    "appl_current(-I_range)\n",
    "sleep(3)\n",
    "direction = 'backward' if Mag > 0 else 'forward'\n",
    "\n",
    "\n",
    "# station.snapshot(update=True);\n",
    "exp = qc.new_experiment('IV vs By', sample_name=f'103-04_J2_04-05-06-07_1M_By_{direction}_Bx@0mT')\n",
    "\n",
    "dataid = do2d(magnet_y.field, Mag, -Mag, 501 , 1, appl_current, -I_range ,I_range, 251, 0.01, meas_voltage_K2)\n",
    "\n",
    "appl_current(0)\n",
    "K2440.output(0)\n",
    "# magnet_y.field(0)\n",
    "\n",
    "plot_by_id(dataid)\n",
    "autosave_plot_by_id(dataid, save_path)"
   ]
  },
  {
   "cell_type": "code",
   "execution_count": null,
   "id": "da9891fc",
   "metadata": {},
   "outputs": [],
   "source": [
    "from tqdm import tqdm\n",
    "import time\n",
    "\n",
    "# First loop\n",
    "for i in tqdm(range(6), desc=\"First loop\"):\n",
    "    magnet_y.field((3 + i) * 1e-3)\n",
    "    time.sleep(10)\n",
    "\n",
    "# Pause for 30 seconds\n",
    "time.sleep(30)\n",
    "\n",
    "# Second loop\n",
    "for i in tqdm(range(6), desc=\"Second loop\"):\n",
    "    magnet_y.field((8 - i) * 1e-3)\n",
    "    time.sleep(10)\n",
    "\n",
    "# Pause for 180 seconds\n",
    "time.sleep(300)"
   ]
  },
  {
   "cell_type": "code",
   "execution_count": null,
   "id": "8c1e92c1",
   "metadata": {},
   "outputs": [],
   "source": [
    "Mag = 3e-3\n",
    "I_range=1e-6\n",
    "K2440.output(1)\n",
    "sleep(2)\n",
    "magnet_y.field(Mag)\n",
    "sleep(10)\n",
    "appl_current(-I_range)\n",
    "sleep(3)\n",
    "direction = 'backward' if Mag > 0 else 'forward'\n",
    "\n",
    "\n",
    "# station.snapshot(update=True);\n",
    "exp = qc.new_experiment('IV vs By', sample_name=f'103-04_J2_04-05-06-07_1M_By_{direction}_Bx@0mT')\n",
    "\n",
    "dataid = do2d(magnet_y.field, Mag, -Mag, 501 , 1, appl_current, -I_range ,I_range, 251, 0.01, meas_voltage_K2)\n",
    "\n",
    "appl_current(0)\n",
    "K2440.output(0)\n",
    "# magnet_y.field(0)\n",
    "\n",
    "plot_by_id(dataid)\n",
    "autosave_plot_by_id(dataid, save_path)"
   ]
  },
  {
   "cell_type": "code",
   "execution_count": null,
   "id": "5208f447",
   "metadata": {},
   "outputs": [],
   "source": [
    "magnet_y.field(5e-3)"
   ]
  },
  {
   "cell_type": "code",
   "execution_count": null,
   "id": "3e408864",
   "metadata": {},
   "outputs": [],
   "source": [
    "for i in range(9):\n",
    "    magnet_y.field((0+i)*1e-3)\n",
    "    sleep(4)\n",
    "sleep(10)\n",
    "\n",
    "for i in range(6):\n",
    "    magnet_y.field((8-i)*1e-3)\n",
    "    sleep(4)\n",
    "\n",
    "sleep(60)\n",
    "# magnet_y.field(21.5e-3)\n",
    "sleep(60)\n",
    "#magnet_y.field(0.48e-3)\n",
    "#sleep(5)"
   ]
  },
  {
   "cell_type": "code",
   "execution_count": null,
   "id": "2eb14a5d",
   "metadata": {},
   "outputs": [],
   "source": [
    "for i in range(4):\n",
    "    print(8-i)"
   ]
  },
  {
   "cell_type": "code",
   "execution_count": null,
   "id": "a1ebeefb",
   "metadata": {},
   "outputs": [],
   "source": [
    "K2440.output(1)\n",
    "sleep(2)\n",
    "Mag = -40e-3\n",
    "I_range=2e-8\n",
    "\n",
    "magnet_y.field(Mag)\n",
    "sleep(10)\n",
    "appl_current(-I_range)\n",
    "sleep(3)\n",
    "direction = 'backward' if Mag > 0 else 'forward'\n",
    "\n",
    "\n",
    "# station.snapshot(update=True);\n",
    "\n",
    "exp = qc.new_experiment('IV vs By', sample_name=f'094-20IV_By_16-17-19-18_10M_{direction}_Bx@-18.5mT')\n",
    "\n",
    "dataid = do2d(magnet_y.field, Mag, -Mag, 601 , 2, appl_current, -I_range ,I_range, 201, 0.1, meas_voltage_K2)\n",
    "\n",
    "\n",
    "appl_current(0)\n",
    "K2440.output(0)\n",
    "# magnet_y.field(0)\n",
    "\n",
    "plot_by_id(dataid)\n",
    "autosave_plot_by_id(dataid, save_path)"
   ]
  },
  {
   "cell_type": "code",
   "execution_count": null,
   "id": "effdb8bf",
   "metadata": {},
   "outputs": [],
   "source": [
    "for i in range(24):\n",
    "    print(45-i)"
   ]
  },
  {
   "cell_type": "code",
   "execution_count": null,
   "id": "4b523a44",
   "metadata": {},
   "outputs": [],
   "source": []
  },
  {
   "cell_type": "markdown",
   "id": "7dce8613",
   "metadata": {},
   "source": [
    "## IV vs Bz"
   ]
  },
  {
   "cell_type": "code",
   "execution_count": null,
   "id": "a4e6e5f7",
   "metadata": {
    "scrolled": true
   },
   "outputs": [],
   "source": [
    "K2440.output(1)\n",
    "sleep(2)\n",
    "magnet_z.field(-80e-3)\n",
    "sleep(60)\n",
    "appl_current(-2e-7)\n",
    "sleep(5)\n",
    "\n",
    "# station.snapshot(update=True);\n",
    "\n",
    "exp = qc.new_experiment('IV vs Bz', sample_name='IV_Bz_33_32_30_31_10M_forward')\n",
    "\n",
    "dataid = do2d(magnet_z.field,-80e-3,80e-3, 71 , 20, appl_current, -2e-7 ,2e-7, 101, 0.05, meas_voltage_K2)\n",
    "\n",
    "appl_current(0)\n",
    "\n",
    "K2440.output(0)\n",
    "# magnet_y.field(0)\n",
    "\n",
    "plot_by_id(dataid)"
   ]
  },
  {
   "cell_type": "code",
   "execution_count": null,
   "id": "e68136d1",
   "metadata": {},
   "outputs": [],
   "source": [
    "#magnet_z.field(20e-3)\n",
    "#sleep(5)\n",
    "magnet_z.field(-6.1e-3)\n",
    "sleep(5)"
   ]
  },
  {
   "cell_type": "code",
   "execution_count": null,
   "id": "571645ac",
   "metadata": {},
   "outputs": [],
   "source": []
  },
  {
   "cell_type": "markdown",
   "id": "02c81568",
   "metadata": {},
   "source": [
    "## IV w/ Bx"
   ]
  },
  {
   "cell_type": "code",
   "execution_count": null,
   "id": "b5229271",
   "metadata": {},
   "outputs": [],
   "source": [
    "K2440.output(1)\n",
    "sleep(2)\n",
    "magnet_x.field(0.23e-3)\n",
    "appl_current(-0.5e-6)\n",
    "sleep(10)\n",
    "\n",
    "# station.snapshot(update=True);\n",
    "exp = qc.new_experiment('I vs V', sample_name='IV_w/_Bx')\n",
    "\n",
    "#do1d(param_set, start, stop, num_points, delay, *param_meas)\n",
    "dataid = do1d(appl_current, -0.5e-6 ,0.5e-6, 101, 0.05, meas_voltage_K2)\n",
    "# dataid = do1d(appl_current, 6e-6 , -6e-6, 251, 0.01, meas_voltage_K1)\n",
    "# ivvi.set_dacs_zero()\n",
    "\n",
    "appl_current(0)\n",
    "plot_by_id(dataid)\n",
    "# print(get_R_from_IV(dataid))\n",
    "#print(get_R_from_IV_2(dataid))\n",
    "\n",
    "K2440.output(0)"
   ]
  },
  {
   "cell_type": "markdown",
   "id": "27ac85cd",
   "metadata": {},
   "source": [
    "## IV w/ By"
   ]
  },
  {
   "cell_type": "code",
   "execution_count": null,
   "id": "b7c3a84d",
   "metadata": {},
   "outputs": [],
   "source": [
    "K2440.output(1)\n",
    "DMM6500.averaging_count(30)\n",
    "#DMM6500.averaging_enabled(False)\n",
    "\n",
    "sleep(2)\n",
    "magnet_y.field(0e-3)\n",
    "appl_current(-2e-7)\n",
    "sleep(20)\n",
    "\n",
    "# station.snapshot(update=True);\n",
    "exp = qc.new_experiment('I vs V', sample_name='IV_w/_By@0mT_forward_Avg30')\n",
    "\n",
    "#do1d(param_set, start, stop, num_points, delay, *param_meas)\n",
    "dataid = do1d(appl_current, -2e-7 ,2e-7, 201, 0.05, meas_voltage_K2)\n",
    "# dataid = do1d(appl_current, 6e-6 , -6e-6, 251, 0.01, meas_voltage_K1)\n",
    "# ivvi.set_dacs_zero()\n",
    "\n",
    "appl_current(0)\n",
    "plot_by_id(dataid)\n",
    "# print(get_R_from_IV(dataid))\n",
    "#print(get_R_from_IV_2(dataid))\n",
    "\n",
    "K2440.output(0)"
   ]
  },
  {
   "cell_type": "markdown",
   "id": "1e7ed93d",
   "metadata": {},
   "source": [
    "## MR"
   ]
  },
  {
   "cell_type": "code",
   "execution_count": null,
   "id": "9db581e2",
   "metadata": {},
   "outputs": [],
   "source": [
    "K2440.output(1)\n",
    "sleep(2)\n",
    "magnet_y.field(-0.1)\n",
    "sleep(5)\n",
    "#K2440.output(1)\n",
    "appl_current(1e-7)\n",
    "sleep(5)\n",
    "\n",
    "# station.snapshot(update=True);\n",
    "\n",
    "exp = qc.new_experiment('I vs By_MR', sample_name='072_14IVf_25_24_29_29_By_+-0.1T_MR_for')\n",
    "\n",
    "dataid = do1d(magnet_y.field, -0.1, 0.1, 71 , 1, meas_voltage_K2)\n",
    "\n",
    "appl_current(0)\n",
    "K2440.output(0)\n",
    "#K2440.output(0)\n",
    "magnet_y.field(0)\n",
    "\n",
    "plot_by_id(dataid)"
   ]
  },
  {
   "cell_type": "markdown",
   "id": "55fd3a3b",
   "metadata": {},
   "source": [
    "## IV w/Bz"
   ]
  },
  {
   "cell_type": "code",
   "execution_count": null,
   "id": "e76653c7",
   "metadata": {},
   "outputs": [],
   "source": [
    "K2440.output(1)\n",
    "DMM6500.averaging_count(10)\n",
    "#DMM6500.averaging_enabled(False)\n",
    "\n",
    "sleep(2)\n",
    "magnet_z.field(0e-3)\n",
    "appl_current(-2e-7)\n",
    "sleep(30)\n",
    "\n",
    "# station.snapshot(update=True);\n",
    "exp = qc.new_experiment('I vs V', sample_name='IV_w/_f_Bz@0mT_forward_Avg10')\n",
    "\n",
    "#do1d(param_set, start, stop, num_points, delay, *param_meas)\n",
    "dataid = do1d(appl_current, -2e-7 ,2e-7, 201, 0.05, meas_voltage_K2)\n",
    "# dataid = do1d(appl_current, 6e-6 , -6e-6, 251, 0.01, meas_voltage_K1)\n",
    "# ivvi.set_dacs_zero()\n",
    "\n",
    "appl_current(0)\n",
    "plot_by_id(dataid)\n",
    "# print(get_R_from_IV(dataid))\n",
    "#print(get_R_from_IV_2(dataid))\n",
    "\n",
    "K2440.output(0)"
   ]
  },
  {
   "cell_type": "markdown",
   "id": "d0274abc",
   "metadata": {},
   "source": [
    "# Zero everything"
   ]
  },
  {
   "cell_type": "code",
   "execution_count": null,
   "id": "a0cc99f2",
   "metadata": {},
   "outputs": [],
   "source": [
    "appl_current(0)\n",
    "appl_TG(0)\n",
    "magnet_y.field(0)\n",
    "sleep(5)\n",
    "magnet_x.field(0)\n",
    "sleep(5)\n",
    "magnet_z.field(0)\n",
    "sleep(5)\n",
    "#appl_voltage_AC(0.004)\n",
    "#SGS.off()\n",
    "K2440.output(0)"
   ]
  },
  {
   "cell_type": "code",
   "execution_count": null,
   "id": "cb8bf175",
   "metadata": {},
   "outputs": [],
   "source": [
    "appl_current(0)"
   ]
  },
  {
   "cell_type": "markdown",
   "id": "6610bce1",
   "metadata": {},
   "source": [
    "# Gate simple sweeps"
   ]
  },
  {
   "cell_type": "markdown",
   "id": "c010fbad",
   "metadata": {},
   "source": [
    "## 加TG (2D)"
   ]
  },
  {
   "cell_type": "code",
   "execution_count": null,
   "id": "6d7e9bf6",
   "metadata": {},
   "outputs": [],
   "source": [
    "appl_current(0)\n",
    "sleep(1)\n",
    "appl_TG(0)\n",
    "sleep(5)"
   ]
  },
  {
   "cell_type": "code",
   "execution_count": null,
   "id": "be01663b",
   "metadata": {},
   "outputs": [],
   "source": [
    "magnet_x.field(-0.044e-3)\n",
    "sleep(10)\n",
    "magnet_y.field(-6.016e-3)\n",
    "sleep(10)"
   ]
  },
  {
   "cell_type": "code",
   "execution_count": null,
   "id": "5397630e",
   "metadata": {},
   "outputs": [],
   "source": [
    "K2440.output(1)\n",
    "K2440.output(1)\n",
    "appl_TG(-30)\n",
    "sleep(5)\n",
    "appl_current(-1.5e-8)\n",
    "sleep(1)\n",
    "\n",
    "exp = qc.new_experiment('I_vs_Vgate_up', sample_name='33_32_30_31_1M_TG21')\n",
    "dataid = do2d(appl_TG, -30, 30, 301, 0.5, appl_current, -1.5e-8, 1.5e-8, 101, 0.1, meas_voltage_K2)\n",
    "\n",
    "appl_TG(0)\n",
    "sleep(5)\n",
    "appl_current(0e-7)\n",
    "sleep(5)\n",
    "\n",
    "K2440.output(0)\n",
    "K2440.output(0)\n",
    "\n",
    "plot_by_id(dataid)"
   ]
  },
  {
   "cell_type": "markdown",
   "id": "5375fb6f",
   "metadata": {},
   "source": [
    "# RF"
   ]
  },
  {
   "cell_type": "markdown",
   "id": "596beaf8",
   "metadata": {},
   "source": [
    "## I vs RF_f"
   ]
  },
  {
   "cell_type": "markdown",
   "id": "a6df9a13",
   "metadata": {},
   "source": [
    "### sensitive check"
   ]
  },
  {
   "cell_type": "code",
   "execution_count": null,
   "id": "017ed644",
   "metadata": {},
   "outputs": [],
   "source": [
    "SGS.power()\n",
    "SGS.frequency()"
   ]
  },
  {
   "cell_type": "code",
   "execution_count": null,
   "id": "e0b8db4e",
   "metadata": {},
   "outputs": [],
   "source": [
    "SGS.on()"
   ]
  },
  {
   "cell_type": "code",
   "execution_count": null,
   "id": "cc145b47",
   "metadata": {},
   "outputs": [],
   "source": [
    "SGS.off()"
   ]
  },
  {
   "cell_type": "code",
   "execution_count": null,
   "id": "6141349d",
   "metadata": {},
   "outputs": [],
   "source": [
    "magnet_x.field(0.4e-3)\n",
    "sleep(10)\n",
    "magnet_y.field(2.53e-3)\n",
    "sleep(10)"
   ]
  },
  {
   "cell_type": "code",
   "execution_count": null,
   "id": "2fd35fd0",
   "metadata": {},
   "outputs": [],
   "source": [
    "DMM6500.averaging_count(5)\n",
    "DMM6500.averaging_enabled(False)"
   ]
  },
  {
   "cell_type": "markdown",
   "id": "2d27c6f3",
   "metadata": {},
   "source": [
    "### I vs RF_f (1D)"
   ]
  },
  {
   "cell_type": "code",
   "execution_count": null,
   "id": "c3ec00d7",
   "metadata": {
    "scrolled": false
   },
   "outputs": [],
   "source": [
    "SGS.off()\n",
    "exp = qc.new_experiment('I-RF_f', sample_name='103-06_J2_12-13-14-15_1M_@0mT')\n",
    "SGS.power(0)\n",
    "SGS.frequency(0.1e9)\n",
    "SGS.on()\n",
    "sleep(1)\n",
    "DMM6500.averaging_count(5)\n",
    "DMM6500.averaging_enabled(False)\n",
    "K2440.output(1)\n",
    "\n",
    "appl_current(0.4e-6)\n",
    "#appl_TG(10)\n",
    "# magnet_x.field(0.4e-3)\n",
    "# magnet_y.field(2.53e-3)\n",
    "\n",
    "dataid = do1d(SGS.frequency, 11.4e9, 12.2e9, 201, 0.1, meas_voltage_K2)\n",
    "appl_current(0)\n",
    "SGS.off()\n",
    "K2440.output(0)\n",
    "plot_by_id(dataid)\n"
   ]
  },
  {
   "cell_type": "markdown",
   "id": "3e250e53",
   "metadata": {},
   "source": [
    "### I vs RF_f (2D)"
   ]
  },
  {
   "cell_type": "code",
   "execution_count": null,
   "id": "3734095d",
   "metadata": {},
   "outputs": [],
   "source": [
    "SGS.off()"
   ]
  },
  {
   "cell_type": "code",
   "execution_count": null,
   "id": "ccc9ea2f",
   "metadata": {},
   "outputs": [],
   "source": [
    "SGS.off()\n",
    "SGS.power(0)\n",
    "SGS.frequency(0.1e9)\n",
    "SGS.on()\n",
    "DMM6500.averaging_count(1)\n",
    "DMM6500.averaging_enabled(False)\n",
    "K2440.output(1)\n",
    "\n",
    "I_range = 8e-6\n",
    "appl_current(-I_range)\n",
    "#appl_TG(-10)\n",
    "# magnet_x.field(0.4e-3)\n",
    "# magnet_y.field(2.53e-3)\n",
    "# sleep(1)\n",
    "\n",
    "# station.snapshot(update=True);\n",
    "exp = qc.new_experiment('IV-RF_f', sample_name=f'103-03_J2_27-26-30-31M(32G-33G-28G-29G)_1M_RF@0dBm_By@0.1mT')\n",
    "\n",
    "#do1d(param_set, start, stop, num_points, delay, *param_meas)\n",
    "dataid = do2d(SGS.frequency, 1e9, 20e9, 191, 0.0001, appl_current,-I_range ,I_range, 201, 0.0001, meas_voltage_K2)\n",
    "# dataid = do1d(appl_current, 6e-6 , -6e-6, 251, 0.01, meas_voltage_K1)\n",
    "# ivvi.set_dacs_zero()\n",
    "K2440.output(0)\n",
    "SGS.off()\n",
    "appl_current(0)\n",
    "plot_by_id(dataid)\n",
    "save_path = r\"D:\\data\\Albert\\103\\Plot\\104_{}.png\".format(dataid)  # Path to save the plot image\n",
    "autosave_plot_by_id(dataid, save_path)"
   ]
  },
  {
   "cell_type": "code",
   "execution_count": null,
   "id": "3426a3bd",
   "metadata": {},
   "outputs": [],
   "source": [
    "SGS.off()\n",
    "SGS.power(20)\n",
    "SGS.frequency(0.1e9)\n",
    "SGS.on()\n",
    "DMM6500.averaging_count(1)\n",
    "DMM6500.averaging_enabled(False)\n",
    "K2440.output(1)\n",
    "\n",
    "I_range = 6e-6\n",
    "appl_current(-I_range)\n",
    "#appl_TG(-10)\n",
    "# magnet_x.field(0.4e-3)\n",
    "# magnet_y.field(2.53e-3)\n",
    "# sleep(1)\n",
    "\n",
    "# station.snapshot(update=True);\n",
    "exp = qc.new_experiment('IV-RF_f', sample_name=f'103-03_J2_27-26-30-31M(32G-33G-28G-29G)_1M_RF@-10dBm_By@0.1mT')\n",
    "\n",
    "#do1d(param_set, start, stop, num_points, delay, *param_meas)\n",
    "dataid = do2d(SGS.frequency, 1e9, 20e9, 191, 0.0001, appl_current,-I_range ,I_range, 201, 0.0001, meas_voltage_K2)\n",
    "# dataid = do1d(appl_current, 6e-6 , -6e-6, 251, 0.01, meas_voltage_K1)\n",
    "# ivvi.set_dacs_zero()\n",
    "K2440.output(0)\n",
    "SGS.off()\n",
    "appl_current(0)\n",
    "plot_by_id(dataid)\n",
    "save_path = r\"D:\\data\\Albert\\103\\Plot\\104_{}.png\".format(dataid)  # Path to save the plot image\n",
    "autosave_plot_by_id(dataid, save_path)"
   ]
  },
  {
   "cell_type": "code",
   "execution_count": null,
   "id": "9f9dbd53",
   "metadata": {},
   "outputs": [],
   "source": [
    "SGS.off()\n",
    "SGS.power(20)\n",
    "SGS.frequency(5.9e9)\n",
    "SGS.on()\n",
    "DMM6500.averaging_count(1)\n",
    "DMM6500.averaging_enabled(False)\n",
    "K2440.output(1)\n",
    "\n",
    "I_range = 6e-6\n",
    "appl_current(-I_range)\n",
    "#appl_TG(-10)\n",
    "# magnet_x.field(0.4e-3)\n",
    "# magnet_y.field(2.53e-3)\n",
    "# sleep(1)\n",
    "\n",
    "# station.snapshot(update=True);\n",
    "exp = qc.new_experiment('IV-RF_f', sample_name=f'103-03_J2_27-26-30-31M(32G-33G-28G-29G)_1M_RF@20dBm_By@0.1mT')\n",
    "\n",
    "#do1d(param_set, start, stop, num_points, delay, *param_meas)\n",
    "dataid = do2d(SGS.frequency, 5.9e9, 6.0e9, 251, 0.0001, appl_current,-I_range ,I_range, 501, 0.0001, meas_voltage_K2)\n",
    "# dataid = do1d(appl_current, 6e-6 , -6e-6, 251, 0.01, meas_voltage_K1)\n",
    "# ivvi.set_dacs_zero()\n",
    "K2440.output(0)\n",
    "SGS.off()\n",
    "appl_current(0)\n",
    "plot_by_id(dataid)\n",
    "save_path = r\"D:\\data\\Albert\\103\\Plot\\104_{}.png\".format(dataid)  # Path to save the plot image\n",
    "autosave_plot_by_id(dataid, save_path)\n"
   ]
  },
  {
   "cell_type": "code",
   "execution_count": null,
   "id": "862b770b",
   "metadata": {},
   "outputs": [],
   "source": [
    "SGS.off()\n",
    "SGS.power(20)\n",
    "SGS.frequency(5.535e9)\n",
    "SGS.on()\n",
    "DMM6500.averaging_count(1)\n",
    "DMM6500.averaging_enabled(False)\n",
    "K2440.output(1)\n",
    "\n",
    "I_range = 6e-6\n",
    "appl_current(-I_range)\n",
    "#appl_TG(-10)\n",
    "# magnet_x.field(0.4e-3)\n",
    "# magnet_y.field(2.53e-3)\n",
    "# sleep(1)\n",
    "\n",
    "# station.snapshot(update=True);\n",
    "exp = qc.new_experiment('IV-RF_f', sample_name=f'103-03_J2_27-26-30-31M(32G-33G-28G-29G)_1M_RF@20dBm_By@0.1mT')\n",
    "\n",
    "#do1d(param_set, start, stop, num_points, delay, *param_meas)\n",
    "dataid = do2d(SGS.frequency, 5.535e9, 5.585e9, 251, 0.0001, appl_current,-I_range ,I_range, 501, 0.0001, meas_voltage_K2)\n",
    "# dataid = do1d(appl_current, 6e-6 , -6e-6, 251, 0.01, meas_voltage_K1)\n",
    "# ivvi.set_dacs_zero()\n",
    "K2440.output(0)\n",
    "SGS.off()\n",
    "appl_current(0)\n",
    "plot_by_id(dataid)\n",
    "save_path = r\"D:\\data\\Albert\\103\\Plot\\104_{}.png\".format(dataid)  # Path to save the plot image\n",
    "autosave_plot_by_id(dataid, save_path)\n"
   ]
  },
  {
   "cell_type": "code",
   "execution_count": null,
   "id": "d76f7ea2",
   "metadata": {},
   "outputs": [],
   "source": [
    "SGS.off()\n",
    "SGS.power(20)\n",
    "SGS.frequency(0.1e9)\n",
    "SGS.on()\n",
    "DMM6500.averaging_count(1)\n",
    "DMM6500.averaging_enabled(False)\n",
    "K2440.output(1)\n",
    "\n",
    "I_range = 6e-6\n",
    "appl_current(-I_range)\n",
    "SGS_power = SGS.power()\n",
    "#appl_TG(-10)\n",
    "# magnet_x.field(0.4e-3)\n",
    "# magnet_y.field(2.53e-3)\n",
    "# sleep(1)\n",
    "\n",
    "# station.snapshot(update=True);\n",
    "exp = qc.new_experiment('IV-RF_f', sample_name=f'103-03_J2_27-26-30-31M(32G-33G-28G-29G)_1M_RF@{SGS_power}dBm_By@0.1mT')\n",
    "\n",
    "#do1d(param_set, start, stop, num_points, delay, *param_meas)\n",
    "dataid = do2d(SGS.frequency, 3.9e9, 6.9e9, 301, 0.0001, appl_current,-I_range ,I_range, 251, 0.0001, meas_voltage_K2)\n",
    "# dataid = do1d(appl_current, 6e-6 , -6e-6, 251, 0.01, meas_voltage_K1)\n",
    "# ivvi.set_dacs_zero()\n",
    "K2440.output(0)\n",
    "SGS.off()\n",
    "appl_current(0)\n",
    "plot_by_id(dataid)\n",
    "save_path = r\"D:\\data\\Albert\\103\\Plot\\104_{}.png\".format(dataid)  # Path to save the plot image\n",
    "autosave_plot_by_id(dataid, save_path)"
   ]
  },
  {
   "cell_type": "code",
   "execution_count": null,
   "id": "28992f6f",
   "metadata": {},
   "outputs": [],
   "source": [
    "appl_current(0)\n",
    "#appl_TG(0)\n",
    "magnet_y.field(0)\n",
    "sleep(2)\n",
    "magnet_x.field(0)\n",
    "sleep(2)\n",
    "#appl_voltage_AC(0.004)\n",
    "SGS.off()"
   ]
  },
  {
   "cell_type": "markdown",
   "id": "65c9a40a",
   "metadata": {},
   "source": [
    "## IV vs RF_f"
   ]
  },
  {
   "cell_type": "markdown",
   "id": "b285efb3",
   "metadata": {},
   "source": [
    "### Shapiro steps "
   ]
  },
  {
   "cell_type": "code",
   "execution_count": null,
   "id": "3a180ee1",
   "metadata": {
    "scrolled": true
   },
   "outputs": [],
   "source": [
    "SGS.off()\n",
    "SGS.power(-10)\n",
    "SGS.frequency(11.725e9)\n",
    "SGS.on()\n",
    "DMM6500.averaging_count(5)\n",
    "DMM6500.averaging_enabled(False)\n",
    "K2440.output(1)\n",
    "\n",
    "appl_current(-2e-7)\n",
    "#appl_TG(-10)\n",
    "#magnet_x.field(0.23e-3)\n",
    "#magnet_y.field(1.41e-3)\n",
    "# sleep(1)\n",
    "\n",
    "# station.snapshot(update=True);\n",
    "exp = qc.new_experiment('IV-RF_f', sample_name=f'103-03_J2_27-26-30-31M(32G-33G-28G-29G)_1M_By@0.1mT{-I_range}')\n",
    "\n",
    "#do1d(param_set, start, stop, num_points, delay, *param_meas)\"\"\n",
    "dataid = do1d(appl_current,-2e-7 ,2e-7, 101, 0.05,  meas_voltage_K2)\n",
    "# dataid = do1d(appl_current, 6e-6 , -6e-6, 251, 0.01, meas_voltage_K1)\n",
    "# ivvi.set_dacs_zero()\n",
    "K2440.output(0)\n",
    "SGS.off()\n",
    "appl_current(0)\n",
    "plot_by_id(dataid)\n",
    "# print(get_R_from_IV(dataid))\n",
    "#print(get_R_from_IV_2(dataid))"
   ]
  },
  {
   "cell_type": "code",
   "execution_count": null,
   "id": "51fe069b",
   "metadata": {},
   "outputs": [],
   "source": [
    "SGS.off()\n",
    "SGS.power(0)\n",
    "SGS.frequency(3.87e9)\n",
    "SGS.on()\n",
    "DMM6500.averaging_count(5)\n",
    "DMM6500.averaging_enabled(False)\n",
    "K2440.output(1)\n",
    "\n",
    "appl_current(-1.2e-6)\n",
    "#appl_TG(-10)\n",
    "magnet_y.field(-10e-3)\n",
    "\n",
    "#magnet_y.field(1.41e-3)\n",
    "# sleep(1)\n",
    "\n",
    "# station.snapshot(update=True);\n",
    "exp = qc.new_experiment('Bx vs RF_f', sample_name='By vs RF_f_J2_3.87_-10dB')\n",
    "\n",
    "#do1d(param_set, start, stop, num_points, delay, *param_meas)\"\"\n",
    "dataid = do2d(magnet_y.field, -10e-3, 10e-3,701, 1, appl_current,-1.2e-6 ,1.2e-6, 101, 0.05,  meas_voltage_K2)\n",
    "# dataid = do1d(appl_current, 6e-6 , -6e-6, 251, 0.01, meas_voltage_K1)\n",
    "# ivvi.set_dacs_zero()\n",
    "K2440.output(0)\n",
    "SGS.off()\n",
    "appl_current(0)\n",
    "plot_by_id(dataid)\n",
    "# print(get_R_from_IV(dataid))\n",
    "#print(get_R_from_IV_2(dataid))"
   ]
  },
  {
   "cell_type": "code",
   "execution_count": null,
   "id": "5488e4c5",
   "metadata": {},
   "outputs": [],
   "source": [
    "appl_current(0)\n",
    "#appl_TG(0)\n",
    "magnet_y.field(0)\n",
    "sleep(10)\n",
    "magnet_x.field(0)\n",
    "sleep(10)\n",
    "#appl_voltage_AC(0.004)\n",
    "SGS.off()"
   ]
  },
  {
   "cell_type": "markdown",
   "id": "04e50dcd",
   "metadata": {},
   "source": [
    "## IV vs Power Dependence"
   ]
  },
  {
   "cell_type": "code",
   "execution_count": null,
   "id": "0368ef58",
   "metadata": {},
   "outputs": [],
   "source": [
    "SGS.off()"
   ]
  },
  {
   "cell_type": "code",
   "execution_count": null,
   "id": "3d6eab35",
   "metadata": {},
   "outputs": [],
   "source": [
    "SGS.power(-40)"
   ]
  },
  {
   "cell_type": "code",
   "execution_count": null,
   "id": "d760383a",
   "metadata": {},
   "outputs": [],
   "source": [
    "SGS.off()"
   ]
  },
  {
   "cell_type": "code",
   "execution_count": null,
   "id": "f0984a37",
   "metadata": {
    "scrolled": true
   },
   "outputs": [],
   "source": [
    "SGS.off()\n",
    "SGS.power(-20)\n",
    "SGS.frequency(5.9534e9)\n",
    "SGS_frequency = SGS.frequency()\n",
    "SGS.on()\n",
    "DMM6500.averaging_count(3)\n",
    "DMM6500.averaging_enabled(False)\n",
    "K2440.output(1)\n",
    "\n",
    "#magnet_x.field(15e-3)\n",
    "#sleep(5)\n",
    "I_range = 6e-6\n",
    "appl_current(-I_range)\n",
    "#appl_TG(-30)\n",
    "sleep(2)\n",
    "\n",
    "# station.snapshot(update=True);\n",
    "exp = qc.new_experiment('IV-RF_p', sample_name=f'103-03_J2_27-26-30-31M(32G-33G-28G-29G)_1M_RF@{SGS_frequency*1e-9:.4f}GHz_By@0.1mT')\n",
    "\n",
    "#do1d(param_set, start, stop, num_points, delay, *param_meas)\n",
    "\n",
    "dataid = do2d(SGS.power,10, 15, 51, 0.1, appl_current,-I_range ,I_range, 301, 0.00001, meas_voltage_K2)\n",
    "# dataid = do1d(appl_current, 6e-6 , -6e-6, 251, 0.01, meas_voltage_K1)\n",
    "# ivvi.set_dacs_zero()\n",
    "\n",
    "SGS.off()\n",
    "appl_current(0)\n",
    "K2440.output()\n",
    "plot_by_id(dataid)\n",
    "\n",
    "# print(get_R_from_IV(dataid))\n",
    "print(get_R_from_IV_2(dataid))"
   ]
  },
  {
   "cell_type": "code",
   "execution_count": null,
   "id": "de3fc621",
   "metadata": {},
   "outputs": [],
   "source": [
    "SGS.off()\n",
    "SGS.power(-25)\n",
    "SGS.frequency(5.226e9)\n",
    "SGS.on()\n",
    "DMM6500.averaging_count(5)\n",
    "DMM6500.averaging_enabled(True)\n",
    "K2440.output(1)\n",
    "\n",
    "magnet_y.field(-8e-3)\n",
    "sleep(60)\n",
    "appl_current(-2e-7)\n",
    "#appl_TG(-30)\n",
    "sleep(2)\n",
    "\n",
    "# station.snapshot(update=True);\n",
    "exp = qc.new_experiment('IV vs power dependence', sample_name='IV vs PD_5.226_By:-8mT')\n",
    "\n",
    "#do1d(param_set, start, stop, num_points, delay, *param_meas)\n",
    "\n",
    "dataid = do2d(SGS.power,-25, 10, 101, 20, appl_current,-2e-7 ,2e-7, 101, 0.05, meas_voltage_K2)\n",
    "# dataid = do1d(appl_current, 6e-6 , -6e-6, 251, 0.01, meas_voltage_K1)\n",
    "# ivvi.set_dacs_zero()\n",
    "\n",
    "SGS.off()\n",
    "appl_current(0)\n",
    "K2440.output()\n",
    "plot_by_id(dataid)\n",
    "\n",
    "# print(get_R_from_IV(dataid))\n",
    "print(get_R_from_IV_2(dataid))"
   ]
  },
  {
   "cell_type": "markdown",
   "id": "13e12840",
   "metadata": {},
   "source": [
    "### PD vs frequency_IV loop (not yet)"
   ]
  },
  {
   "cell_type": "code",
   "execution_count": null,
   "id": "8659ae09",
   "metadata": {
    "code_folding": []
   },
   "outputs": [],
   "source": [
    "frequencies = [3.248, 3.387, 5.677]\n",
    "power_levels = [-20, 0, 25]\n",
    "     \n",
    "SGS.off()\n",
    "SGS.power(-20)\n",
    "SGS.frequency(3.387e9)\n",
    "SGS.on()\n",
    "DMM6500.averaging_count(5)\n",
    "DMM6500.averaging_enabled(True)\n",
    "K2440.output(1)\n",
    "\n",
    "appl_current(-2e-6)\n",
    "#appl_TG(-10)\n",
    "sleep(1)\n",
    "\n",
    "for freq in frequencies:\n",
    "    SGS.frequency(freq)\n",
    "    for power_level in power_levels:\n",
    "        SGS.power(power_level)\n",
    "\n",
    "# station.snapshot(update=True);\n",
    "exp = qc.new_experiment('IV vs power dependence', sample_name='IV vs PD_J2_3.387_m20')\n",
    "dataid = do2d(SGS.power, 4, 8, 100, 2, appl_current, -1e-6, 1e-6, 101, 0.05, meas_voltage_K2)\n",
    "\n",
    " # 關閉設備，並在需要時列印或繪製結果\n",
    "SGS.off()\n",
    "appl_current(0)\n",
    "K2440.output()\n",
    "plot_by_id(dataid)\n",
    "    \n",
    "print(f\"頻率：{freq} Hz，功率水平：{power_level} dB\")\n",
    "print(get_R_from_IV_2(dataid))\n"
   ]
  },
  {
   "cell_type": "markdown",
   "id": "5c2101a5",
   "metadata": {},
   "source": [
    "## IV vs Vgate"
   ]
  },
  {
   "cell_type": "code",
   "execution_count": null,
   "id": "48eb3a89",
   "metadata": {},
   "outputs": [],
   "source": [
    "appl_current(0)\n",
    "appl_TG(0)\n",
    "magnet_y.field(0)\n",
    "sleep(10)\n",
    "magnet_x.field(0)\n",
    "sleep(10)\n",
    "appl_voltage_AC(0.004)\n",
    "SGS.off()"
   ]
  },
  {
   "cell_type": "code",
   "execution_count": null,
   "id": "5deaef19",
   "metadata": {},
   "outputs": [],
   "source": [
    "SGS.off()\n",
    "SGS.power(25)\n",
    "SGS.frequency(4.83e9)\n",
    "SGS.on()\n",
    "DMM6500.averaging_count(5)\n",
    "DMM6500.averaging_enabled(True)\n",
    "appl_current(-0.4e-7)\n",
    "appl_current_AC(0.1e-10)\n",
    "\n",
    "appl_TG(-10)\n",
    "sleep(1)\n",
    "\n",
    "# station.snapshot(update=True);\n",
    "exp = qc.new_experiment('IV vs Vgate', sample_name='IV vs Vg')\n",
    "\n",
    "dataid = do2d(appl_TG, -10, 10, 751, 0.5, appl_current, -0.4e-7, 0.4e-7, 101, 0.01, meas_voltage_AC_L1, meas_voltage_AC_L1_P, meas_voltage_K2)\n",
    "# dataid = do1d(appl_current, 6e-6 , -6e-6, 251, 0.01, meas_voltage_K1)\n",
    "# ivvi.set_dacs_zero()\n",
    "SGS.off()\n",
    "appl_current(0)\n",
    "plot_by_id(dataid)\n",
    "# print(get_R_from_IV(dataid))\n",
    "#print(get_R_from_IV_2(dataid))"
   ]
  },
  {
   "cell_type": "code",
   "execution_count": null,
   "id": "6bbd39fb",
   "metadata": {},
   "outputs": [],
   "source": [
    "appl_current(0)\n",
    "appl_TG(0)\n",
    "magnet_y.field(0)\n",
    "sleep(10)\n",
    "magnet_x.field(0)\n",
    "sleep(10)\n",
    "appl_voltage_AC(0.004)\n",
    "SGS.off()"
   ]
  },
  {
   "cell_type": "code",
   "execution_count": null,
   "id": "00d4b770",
   "metadata": {},
   "outputs": [],
   "source": [
    "import matplotlib.pyplot as plt\n",
    "import numpy as np\n",
    "\n",
    "# Constants\n",
    "k = 8.617333262145e-5  # Boltzmann constant in eV/K\n",
    "E_a = 0.5  # Example value for the activation energy in eV\n",
    "p_0 = 1.0  # Example value for p0\n",
    "\n",
    "# Create an array of temperatures from 100 to 1000 K\n",
    "temperatures = np.linspace(100, 1000, 50)\n",
    "\n",
    "# Calculate 1/T\n",
    "inverse_temperatures = 1 / temperatures\n",
    "\n",
    "# Calculate ln(p)\n",
    "ln_p = np.log(p_0) - (E_a / k) * inverse_temperatures\n",
    "\n",
    "# Plotting\n",
    "plt.figure(figsize=(8, 6))\n",
    "plt.plot(inverse_temperatures, ln_p, marker='o', linestyle='-')\n",
    "plt.xlabel('1/T (1/K)')\n",
    "plt.ylabel('ln(p)')\n",
    "plt.title('ln(p) vs 1/T for Hole Concentration')\n",
    "plt.grid(True)\n",
    "plt.show()\n"
   ]
  },
  {
   "cell_type": "code",
   "execution_count": null,
   "id": "f610e7bc",
   "metadata": {},
   "outputs": [],
   "source": []
  }
 ],
 "metadata": {
  "kernelspec": {
   "display_name": "qcodes",
   "language": "python",
   "name": "python3"
  },
  "language_info": {
   "codemirror_mode": {
    "name": "ipython",
    "version": 3
   },
   "file_extension": ".py",
   "mimetype": "text/x-python",
   "name": "python",
   "nbconvert_exporter": "python",
   "pygments_lexer": "ipython3",
   "version": "3.11.3"
  },
  "toc": {
   "base_numbering": 1,
   "nav_menu": {},
   "number_sections": true,
   "sideBar": false,
   "skip_h1_title": false,
   "title_cell": "Table of Contents",
   "title_sidebar": "Contents",
   "toc_cell": false,
   "toc_position": {
    "height": "783px",
    "left": "260px",
    "top": "67.125px",
    "width": "182px"
   },
   "toc_section_display": true,
   "toc_window_display": true
  }
 },
 "nbformat": 4,
 "nbformat_minor": 5
}
