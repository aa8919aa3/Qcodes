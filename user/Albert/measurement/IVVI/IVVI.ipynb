version https://git-lfs.github.com/spec/v1
oid sha256:0ce37995a9c89e85e9c79ef09e17be0af1bab1d3059e4d2fb3c2c0f673e46b1e
size 1195901
