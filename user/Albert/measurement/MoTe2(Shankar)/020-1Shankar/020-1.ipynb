version https://git-lfs.github.com/spec/v1
oid sha256:d424dcb377d0c9b0a11e180a81d5cf0927c983909b1d21dfac00b55dccd20222
size 358991
