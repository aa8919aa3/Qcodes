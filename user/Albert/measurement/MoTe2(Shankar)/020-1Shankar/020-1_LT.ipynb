version https://git-lfs.github.com/spec/v1
oid sha256:e4cedabf59400fb4fe86ff57e2b45d8329bd7456270877df35e52ed6b6658985
size 2948800
