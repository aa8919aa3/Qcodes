version https://git-lfs.github.com/spec/v1
oid sha256:144ef3f9eaa510c690844b40fe794c0ad7b2b21e9966988b9e931141967b7d9f
size 433183
