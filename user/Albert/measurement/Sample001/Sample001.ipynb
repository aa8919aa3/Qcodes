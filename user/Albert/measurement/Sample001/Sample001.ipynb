version https://git-lfs.github.com/spec/v1
oid sha256:7fca568f3381f9ef5c6c2e888222319053089fdde68341081967df33bce16301
size 384744
