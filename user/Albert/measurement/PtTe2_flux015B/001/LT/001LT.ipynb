version https://git-lfs.github.com/spec/v1
oid sha256:aa959d8bfc88e0fceab816dd204f51d8a83554d3aa0a4c8cee8b52573020674f
size 32910363
