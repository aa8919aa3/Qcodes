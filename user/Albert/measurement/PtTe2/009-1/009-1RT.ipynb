version https://git-lfs.github.com/spec/v1
oid sha256:a779cec1ff60b469161fd0fd2baaaa5f800c54150cf34ddd3e0b55ca5c49e093
size 373691
